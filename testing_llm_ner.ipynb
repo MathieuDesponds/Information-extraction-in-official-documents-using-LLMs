{
 "cells": [
  {
   "cell_type": "code",
   "execution_count": null,
   "metadata": {},
   "outputs": [],
   "source": [
    "from torch import cuda, bfloat16\n",
    "\n",
    "model_id = 'meta-llama/Llama-2-7b-chat-hf'\n",
    "\n",
    "device = f'cuda:{cuda.current_device()}' if cuda.is_available() else 'cpu'\n",
    "device_name = cuda.get_device_name()\n",
    "print(f\"Using device: {device} ({device_name})\")"
   ]
  },
  {
   "cell_type": "code",
   "execution_count": null,
   "metadata": {},
   "outputs": [],
   "source": [
    "from huggingface_hub import notebook_login\n",
    "\n",
    "notebook_login()"
   ]
  },
  {
   "cell_type": "code",
   "execution_count": null,
   "metadata": {},
   "outputs": [],
   "source": [
    "from llm.LLMModel import *\n",
    "from llm.LlamaLoader import Llama_HF\n",
    "model = MistralAI(llm_loader=Llama_HF, lora_path=\"llm/models/mistral-7b-v0.1/discussion-raw/finetuned-2000\")"
   ]
  },
  {
   "cell_type": "code",
   "execution_count": null,
   "metadata": {},
   "outputs": [],
   "source": [
    "model_save_folder = \"Mathiponds/llm-ner-discussion-raw-2000\"\n",
    "model.model.model.push_to_hub(model_save_folder)"
   ]
  },
  {
   "cell_type": "code",
   "execution_count": null,
   "metadata": {},
   "outputs": [],
   "source": [
    "from vllm import LLM\n",
    "prompts = [\"Hello, my name is\", \"The capital of France is\"]  # Sample prompts.\n",
    "llm = LLM(model=\"lmsys/vicuna-7b-v1.3\")  # Create an LLM."
   ]
  },
  {
   "cell_type": "code",
   "execution_count": 1,
   "metadata": {
    "scrolled": true
   },
   "outputs": [
    {
     "data": {
      "application/vnd.jupyter.widget-view+json": {
       "model_id": "fb55d54ad9754be6b29c6f43b5d27f3c",
       "version_major": 2,
       "version_minor": 0
      },
      "text/plain": [
       "Loading checkpoint shards:   0%|          | 0/2 [00:00<?, ?it/s]"
      ]
     },
     "metadata": {},
     "output_type": "display_data"
    },
    {
     "name": "stderr",
     "output_type": "stream",
     "text": [
      "/myhome/miniconda3/lib/python3.10/site-packages/peft/tuners/lora/bnb.py:229: UserWarning: Merge lora module to 4-bit linear may get different generations due to rounding errors.\n",
      "  warnings.warn(\n"
     ]
    },
    {
     "name": "stdout",
     "output_type": "stream",
     "text": [
      "Testing with no-shots\n",
      "      and wrapper\n"
     ]
    },
    {
     "name": "stderr",
     "output_type": "stream",
     "text": [
      "  0%|          | 0/100 [00:00<?, ?it/s]/myhome/miniconda3/lib/python3.10/site-packages/transformers/generation/configuration_utils.py:389: UserWarning: `do_sample` is set to `False`. However, `temperature` is set to `0` -- this flag is only used in sample-based generation modes. You should set `do_sample=True` or unset `temperature`.\n",
      "  warnings.warn(\n",
      "100%|██████████| 100/100 [28:48<00:00, 17.29s/it]\n",
      "100%|██████████| 100/100 [43:39<00:00, 26.20s/it]\n",
      "100%|██████████| 100/100 [35:36<00:00, 21.37s/it]"
     ]
    },
    {
     "name": "stdout",
     "output_type": "stream",
     "text": [
      "doewdioewj ['None', 'PERSON', 'None', 'GPE', 'PERSON', 'None', 'GPE', 'PERSON', 'None', 'GPE'] ['[tag]', 'PER', 'PER', 'gpe', 'PER', 'PER', 'gpe', 'PER', 'PER', 'gpe']\n",
      "doewdioewj ['None', 'PERSON', 'ORG', 'TIME', 'ORDINAL', 'PERSON', 'PERSON', 'None', 'PERSON', 'PERSON'] ['[tag]', 'PER', 'organisation', 'time', 'ordinal', 'PER', 'PER', 'cardinal', 'PER', 'PER']\n",
      "doewdioewj ['None', 'ORG', 'CARDINAL', 'CARDINAL', 'ORG', 'CARDINAL', 'None', 'ORG', 'PERCENT', 'ORG'] ['[tag]', 'organisation', 'cardinal', 'cardinal', 'organisation', 'cardinal', 'organisation', 'organisation', 'percent', 'organisation']\n"
     ]
    },
    {
     "name": "stderr",
     "output_type": "stream",
     "text": [
      "\n",
      "/myhome/miniconda3/lib/python3.10/site-packages/numpy/core/_methods.py:206: RuntimeWarning: Degrees of freedom <= 0 for slice\n",
      "  ret = _var(a, axis=axis, dtype=dtype, out=out, ddof=ddof,\n",
      "/myhome/miniconda3/lib/python3.10/site-packages/numpy/core/_methods.py:198: RuntimeWarning: invalid value encountered in scalar divide\n",
      "  ret = ret.dtype.type(ret / rcount)\n"
     ]
    }
   ],
   "source": [
    "## Impact of few_shots\n",
    "from llm.LLMModel import *\n",
    "from llm.LlamaLoader import Llama_HF\n",
    "from ner.llm_ner.prompt_techniques.pt_abstract import PromptTechnique\n",
    "from ner.llm_ner.prompt_techniques.pt_discussion import PT_OutputList\n",
    "from ner.llm_ner.prompt_techniques.pt_gpt_ner import PT_GPT_NER\n",
    "from ner.llm_ner.prompt_techniques.pt_wrapper import PT_Wrapper\n",
    "from ner.llm_ner.prompt_techniques.pt_multi_pt import PT_2Time_Tagger\n",
    "from ner.llm_ner.few_shots_techniques import *\n",
    "from ner.llm_ner.prompts import *\n",
    "%reload_ext autoreload\n",
    "%autoreload 2\n",
    "\n",
    "pt = PT_Wrapper\n",
    "model = MistralAI(llm_loader=Llama_HF, lora_path=\"llm/models/mistral-7b-v0.1/wrapper-raw/finetuned-4000\")\n",
    "results, results_df = model.classical_test_ontonote5(pts = [pt],fsts = [FST_NoShots], prompt_template= prompt_raw,  nb_few_shots=[0] ,nb_run_by_test=3, plus_plus= False, save=False)\n",
    "# print(results_df)\n",
    "# results, results_df = model.classical_test_ontonote5(pts = [pt],fsts = [FST_Sentence],  nb_few_shots=[3] ,nb_run_by_test=3, plus_plus= plus_plus)\n",
    "# results_df"
   ]
  },
  {
   "cell_type": "code",
   "execution_count": 2,
   "metadata": {},
   "outputs": [
    {
     "data": {
      "text/html": [
       "<div>\n",
       "<style scoped>\n",
       "    .dataframe tbody tr th:only-of-type {\n",
       "        vertical-align: middle;\n",
       "    }\n",
       "\n",
       "    .dataframe tbody tr th {\n",
       "        vertical-align: top;\n",
       "    }\n",
       "\n",
       "    .dataframe thead th {\n",
       "        text-align: right;\n",
       "    }\n",
       "</style>\n",
       "<table border=\"1\" class=\"dataframe\">\n",
       "  <thead>\n",
       "    <tr style=\"text-align: right;\">\n",
       "      <th></th>\n",
       "      <th>f1_mean</th>\n",
       "      <th>f1_conf_inter</th>\n",
       "      <th>model</th>\n",
       "      <th>noshots</th>\n",
       "      <th>prompt_technique</th>\n",
       "      <th>few_shot_tecnique</th>\n",
       "      <th>nb_few_shots</th>\n",
       "      <th>precision</th>\n",
       "      <th>plus_plus</th>\n",
       "      <th>verifier</th>\n",
       "      <th>len_data_train</th>\n",
       "      <th>len_data_test</th>\n",
       "      <th>nb_test_run</th>\n",
       "      <th>confidence_interval</th>\n",
       "      <th>distribution_used</th>\n",
       "      <th>precision_mean</th>\n",
       "      <th>precision_conf_inter</th>\n",
       "      <th>recall_mean</th>\n",
       "      <th>recall_conf_inter</th>\n",
       "    </tr>\n",
       "  </thead>\n",
       "  <tbody>\n",
       "    <tr>\n",
       "      <th>0</th>\n",
       "      <td>0.013</td>\n",
       "      <td>(0.005, 0.021)</td>\n",
       "      <td>mistral-7b-v0.1-ft-raw-2000-Q5_0</td>\n",
       "      <td>False</td>\n",
       "      <td>wrapper</td>\n",
       "      <td>no-shots</td>\n",
       "      <td>0</td>\n",
       "      <td>False</td>\n",
       "      <td>False</td>\n",
       "      <td>None</td>\n",
       "      <td>1303</td>\n",
       "      <td>100</td>\n",
       "      <td>3</td>\n",
       "      <td>0.95</td>\n",
       "      <td>Student</td>\n",
       "      <td>0.012</td>\n",
       "      <td>(0.005, 0.019)</td>\n",
       "      <td>0.015</td>\n",
       "      <td>(0.006, 0.023)</td>\n",
       "    </tr>\n",
       "  </tbody>\n",
       "</table>\n",
       "</div>"
      ],
      "text/plain": [
       "   f1_mean   f1_conf_inter                             model  noshots  \\\n",
       "0    0.013  (0.005, 0.021)  mistral-7b-v0.1-ft-raw-2000-Q5_0    False   \n",
       "\n",
       "  prompt_technique few_shot_tecnique  nb_few_shots  precision  plus_plus  \\\n",
       "0          wrapper          no-shots             0      False      False   \n",
       "\n",
       "  verifier  len_data_train  len_data_test  nb_test_run  confidence_interval  \\\n",
       "0     None            1303            100            3                 0.95   \n",
       "\n",
       "  distribution_used  precision_mean precision_conf_inter  recall_mean  \\\n",
       "0           Student           0.012       (0.005, 0.019)        0.015   \n",
       "\n",
       "  recall_conf_inter  \n",
       "0    (0.006, 0.023)  "
      ]
     },
     "execution_count": 2,
     "metadata": {},
     "output_type": "execute_result"
    }
   ],
   "source": [
    "results_df"
   ]
  },
  {
   "cell_type": "code",
   "execution_count": null,
   "metadata": {},
   "outputs": [],
   "source": [
    "## Impact of few_shots\n",
    "from llm.LLMModel import *\n",
    "from llm.LlamaLoader import Llama_HF\n",
    "from ner.llm_ner.prompt_techniques.pt_abstract import PromptTechnique\n",
    "from ner.llm_ner.prompt_techniques.pt_discussion import PT_OutputList\n",
    "from ner.llm_ner.prompt_techniques.pt_gpt_ner import PT_GPT_NER\n",
    "from ner.llm_ner.prompt_techniques.pt_wrapper import PT_Wrapper\n",
    "from ner.llm_ner.prompt_techniques.pt_multi_pt import PT_2Time_Tagger\n",
    "from ner.llm_ner.few_shots_techniques import *\n",
    "from ner.llm_ner.prompts import *\n",
    "%reload_ext autoreload\n",
    "%autoreload 2\n",
    "plus_plus = True\n",
    "pt = PT_Wrapper\n",
    "model = MistralAI(llm_loader=Llama_HF, lora_path=\"llm/models/mistral-7b-v0.1/discussion-raw-conll2003/finetuned-2000\")\n",
    "results, results_df = model.classical_test_ontonote5(pts = [pt],fsts = [FST_NoShots], prompt_template= prompt_raw,  nb_few_shots=[0] ,nb_run_by_test=3, plus_plus= plus_plus)\n",
    "print(results_df)\n",
    "results, results_df = model.classical_test_ontonote5(pts = [pt],fsts = [FST_Sentence],  nb_few_shots=[3] ,nb_run_by_test=3, plus_plus= plus_plus)\n",
    "results_df"
   ]
  },
  {
   "cell_type": "code",
   "execution_count": null,
   "metadata": {},
   "outputs": [],
   "source": [
    "from llm.LLMModel import *\n",
    "from ner.llm_ner.prompt_techniques.pt_abstract import PromptTechnique\n",
    "from ner.llm_ner.prompt_techniques.pt_discussion import PT_OutputList\n",
    "from ner.llm_ner.prompt_techniques.pt_gpt_ner import PT_GPT_NER\n",
    "from ner.llm_ner.prompt_techniques.pt_wrapper import PT_Wrapper\n",
    "from ner.llm_ner.prompt_techniques.pt_multi_pt import PT_2Time_Tagger\n",
    "from ner.llm_ner.few_shots_techniques import *\n",
    "from ner.llm_ner.prompts import *\n",
    "%reload_ext autoreload\n",
    "%autoreload 2\n",
    "\n",
    "\n",
    "model = MistralAI()\n",
    "plus_plus = False\n",
    "pts = [\n",
    "       PT_GPT_NER\n",
    "       ]\n",
    "for plus_plus in [True, False]:\n",
    "       results, results_df = model.classical_test_ontonote5(pts = pts, fsts = [FST_NoShots], nb_few_shots=[0], nb_run_by_test=3, plus_plus= plus_plus, test_size = 100)\n",
    "\n",
    "\n",
    "for plus_plus in [True, False]:\n",
    "       results, results_df = model.classical_test_ontonote5(pts = pts, fsts = [FST_Sentence], nb_few_shots=[3], nb_run_by_test=3, plus_plus= plus_plus, test_size = 100)\n",
    "results_df"
   ]
  },
  {
   "cell_type": "code",
   "execution_count": null,
   "metadata": {},
   "outputs": [],
   "source": [
    "## Test ft models\n",
    "\n",
    "from llm.LLMModel import *\n",
    "import torch\n",
    "from ner.llm_ner.prompt_techniques.pt_abstract import PromptTechnique\n",
    "from ner.llm_ner.prompt_techniques.pt_discussion import PT_OutputList\n",
    "from ner.llm_ner.prompt_techniques.pt_gpt_ner import PT_GPT_NER\n",
    "from ner.llm_ner.prompt_techniques.pt_wrapper import PT_Wrapper\n",
    "from ner.llm_ner.prompt_techniques.pt_multi_pt import PT_2Time_Tagger\n",
    "from ner.llm_ner.few_shots_techniques import *\n",
    "from ner.llm_ner.prompts import *\n",
    "%reload_ext autoreload\n",
    "%autoreload 2\n",
    "\n",
    "model = MistralAI(without_model= True)\n",
    "plus_plus = False\n",
    "pts = [\n",
    "    #    PT_OutputList, \n",
    "    #    PT_Wrapper, \n",
    "    #    PT_2Time_Tagger,\n",
    "       PT_Filing,\n",
    "    #    PT_GPT_NER, \n",
    "       ]\n",
    "for pt in pts :\n",
    "    model.load_finetuned_model(pt = pt(None), prompt_type_name=\"raw\", nb_samples=2000)\n",
    "    for plus_plus in [True, False]:\n",
    "        results, results_df = model.classical_test_ontonote5(pts = pts, fsts = [FST_NoShots],  nb_few_shots=[0], nb_run_by_test=3, plus_plus= plus_plus, test_size = 100)\n",
    "\n",
    "\n",
    "    for plus_plus in [True, False]:\n",
    "        results, results_df = model.classical_test_ontonote5(pts = pts, fsts = [FST_Sentence], nb_few_shots=[3], nb_run_by_test=3, plus_plus= plus_plus, test_size = 100)\n",
    "    results_df"
   ]
  },
  {
   "cell_type": "code",
   "execution_count": null,
   "metadata": {
    "scrolled": true
   },
   "outputs": [],
   "source": [
    "## Impact of few_shots\n",
    "from llm.LLMModel import *\n",
    "from ner.llm_ner.prompt_techniques.pt_abstract import PromptTechnique\n",
    "from ner.llm_ner.prompt_techniques.pt_discussion import PT_OutputList\n",
    "from ner.llm_ner.prompt_techniques.pt_gpt_ner import PT_GPT_NER\n",
    "from ner.llm_ner.prompt_techniques.pt_wrapper import PT_Wrapper\n",
    "from ner.llm_ner.prompt_techniques.pt_multi_pt import PT_2Time_Tagger\n",
    "from ner.llm_ner.few_shots_techniques import *\n",
    "from ner.llm_ner.prompts import *\n",
    "%reload_ext autoreload\n",
    "%autoreload 2\n",
    "\n",
    "# model = MistralAI()\n",
    "plus_plus = True\n",
    "pts = [\n",
    "       # PT_GPT_NER, \n",
    "       PT_OutputList, \n",
    "       PT_Wrapper, \n",
    "       # PT_2Time_Tagger,\n",
    "       # PT_Filing\n",
    "       ]\n",
    "# results, results_df = model.classical_test_ontonote5(pts = pts, fsts = [FST_Sentence], nb_few_shots=[0,3,5,10,20], nb_run_by_test=3, plus_plus= plus_plus, test_size = 100)\n",
    "pt = PT_OutputList\n",
    "model = MistralAI(lora_path = \"myhome/Master-thesis/llm/models/mistral-7b-v0.1/discussion-raw/finetuned-2000/\")\n",
    "results, results_df = model.classical_test_ontonote5(pts = [pt],fsts = [FST_Sentence], nb_few_shots=[20] ,nb_run_by_test=3, plus_plus= plus_plus, test_size = 100)"
   ]
  },
  {
   "cell_type": "code",
   "execution_count": null,
   "metadata": {},
   "outputs": [],
   "source": [
    "pt = PT_Wrapper\n",
    "model = MistralAI(lora_path = \"myhome/Master-thesis/llm/models/mistral-7b-v0.1/wrapper-raw/finetuned-2000/\")\n",
    "results, results_df = model.classical_test_ontonote5(pts = [pt],fsts = [FST_Sentence], nb_few_shots=[5,10] ,nb_run_by_test=3, plus_plus= plus_plus, test_size = 100)"
   ]
  }
 ],
 "metadata": {
  "kernelspec": {
   "display_name": ".venv",
   "language": "python",
   "name": "python3"
  },
  "language_info": {
   "codemirror_mode": {
    "name": "ipython",
    "version": 3
   },
   "file_extension": ".py",
   "mimetype": "text/x-python",
   "name": "python",
   "nbconvert_exporter": "python",
   "pygments_lexer": "ipython3",
   "version": "3.10.6"
  }
 },
 "nbformat": 4,
 "nbformat_minor": 4
}
