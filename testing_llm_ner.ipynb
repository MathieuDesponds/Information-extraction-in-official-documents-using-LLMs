{
 "cells": [
  {
   "cell_type": "code",
   "execution_count": null,
   "metadata": {},
   "outputs": [],
   "source": [
    "# ToDo \n",
    "from llm.LLMModel import *\n",
    "from ner.llm_ner.prompt_techniques.pt_abstract import PromptTechnique\n",
    "from ner.llm_ner.prompt_techniques.pt_discussion import PT_OutputList\n",
    "from ner.llm_ner.prompt_techniques.pt_gpt_ner import PT_GPT_NER\n",
    "from ner.llm_ner.prompt_techniques.pt_wrapper import PT_Wrapper\n",
    "from ner.llm_ner.prompt_techniques.pt_multi_pt import PT_2Time_Tagger\n",
    "from ner.llm_ner.few_shots_techniques import *\n",
    "from ner.llm_ner.prompts import *\n",
    "%reload_ext autoreload\n",
    "%autoreload 2\n",
    "\n",
    "\n",
    "model = MistralAI()\n",
    "plus_plus = False\n",
    "pts = [\n",
    "       PT_GPT_NER, \n",
    "       # PT_OutputList, \n",
    "       # PT_Wrapper, \n",
    "       # PT_2Time_Tagger,\n",
    "       # PT_Filing\n",
    "       ]\n",
    "for plus_plus in [True, False]:\n",
    "       results, results_df = model.classical_test_ontonote5(pts = pts, fsts = [FST_NoShots], nb_few_shots=[0], nb_run_by_test=1, plus_plus= plus_plus, test_size = 50)\n",
    "\n",
    "\n",
    "for plus_plus in [True, False]:\n",
    "       results, results_df = model.classical_test_ontonote5(pts = pts, fsts = [FST_Sentence], nb_few_shots=[3], nb_run_by_test=1, plus_plus= plus_plus, test_size = 50)\n",
    "results_df"
   ]
  },
  {
   "cell_type": "code",
   "execution_count": null,
   "metadata": {},
   "outputs": [],
   "source": [
    "/home/ubuntu/llm-project/Master-thesis/ner/saves/datasets/ontonote5_test_1403.pkl\n",
    "                                     ./ner/saves/datasets/ontonote5_test_1403.pkl"
   ]
  },
  {
   "cell_type": "code",
   "execution_count": null,
   "metadata": {},
   "outputs": [],
   "source": [
    "## Running the test for Explication ++\n",
    "model = MistralAI()\n",
    "plus_plus = True\n",
    "pts = [PT_GPT_NER(None,plus_plus=plus_plus), \n",
    "       PT_OutputList(None,plus_plus=plus_plus), \n",
    "       PT_Wrapper(None,plus_plus=plus_plus), \n",
    "       PT_2Time_Tagger(None,plus_plus=plus_plus)]\n",
    "results, results_df = model.classical_test_ontonote5(pts = pts, fsts = [FST_NoShots], nb_run_by_test=10, plus_plus= plus_plus, test_size = 100)\n",
    "results_df"
   ]
  },
  {
   "cell_type": "code",
   "execution_count": null,
   "metadata": {},
   "outputs": [],
   "source": [
    "\"\"\"### ASSISTANT : Can you give me clarification on the different type of entities ? \n",
    "### USER : Yes. \"\"\"+'\\n'.join([val for key, val in precision_ner.items()])+'\\n'"
   ]
  },
  {
   "cell_type": "code",
   "execution_count": null,
   "metadata": {},
   "outputs": [],
   "source": [
    "# ToDo \n",
    "from llm.LLMModel import *\n",
    "from ner.llm_ner.prompt_techniques.pt_abstract import PromptTechnique\n",
    "from ner.llm_ner.prompt_techniques.pt_discussion import PT_OutputList\n",
    "from ner.llm_ner.prompt_techniques.pt_gpt_ner import PT_GPT_NER\n",
    "from ner.llm_ner.prompt_techniques.pt_wrapper import PT_Wrapper\n",
    "from ner.llm_ner.few_shots_techniques import *\n",
    "%reload_ext autoreload\n",
    "%autoreload 2\n",
    "\n",
    "model = MistralAI()\n",
    "model.load_finetuned_model(PT_OutputList.name(), 10000)\n",
    "\n",
    "results, results_df = model.classical_test(pts = [PT_OutputList],fsts = [FST_Entity, FST_Sentence] ,nb_run_by_test=4)\n",
    "results_df"
   ]
  },
  {
   "cell_type": "code",
   "execution_count": null,
   "metadata": {},
   "outputs": [],
   "source": [
    "# Running\n",
    "from llm.LLMModel import *\n",
    "from ner.llm_ner.prompt_techniques.pt_abstract import PromptTechnique\n",
    "from ner.llm_ner.prompt_techniques.pt_discussion import PT_OutputList\n",
    "from ner.llm_ner.prompt_techniques.pt_gpt_ner import PT_GPT_NER\n",
    "from ner.llm_ner.prompt_techniques.pt_wrapper import PT_Wrapper\n",
    "from ner.llm_ner.few_shots_techniques import *\n",
    "%reload_ext autoreload\n",
    "%autoreload 2\n",
    "\n",
    "model = MistralAI()\n",
    "\n",
    "results, results_df = model.classical_test(pts = [PT_GPT_NER], nb_run_by_test=10)\n",
    "results_df"
   ]
  },
  {
   "cell_type": "code",
   "execution_count": null,
   "metadata": {},
   "outputs": [],
   "source": []
  },
  {
   "cell_type": "code",
   "execution_count": null,
   "metadata": {},
   "outputs": [],
   "source": [
    "# ToDo \n",
    "from llm.LLMModel import *\n",
    "from ner.llm_ner.prompt_techniques.pt_abstract import PromptTechnique\n",
    "from ner.llm_ner.prompt_techniques.pt_discussion import PT_OutputList\n",
    "from ner.llm_ner.prompt_techniques.pt_gpt_ner import PT_GPT_NER\n",
    "from ner.llm_ner.prompt_techniques.pt_wrapper import PT_Wrapper\n",
    "from ner.llm_ner.few_shots_techniques import *\n",
    "%reload_ext autoreload\n",
    "%autoreload 2\n",
    "\n",
    "model = Llama13b()\n",
    "\n",
    "results, results_df = model.classical_test(pts = [PT_OutputList])\n",
    "results_df"
   ]
  },
  {
   "cell_type": "code",
   "execution_count": null,
   "metadata": {},
   "outputs": [],
   "source": [
    "from ner.llm_ner.prompt_techniques.pt_multi_pt import PT_Multi_PT\n",
    "from ner.llm_ner.prompt_techniques.pt_get_entities import PT_GetEntities\n",
    "from ner.llm_ner.prompt_techniques.pt_tagger import PT_Tagger\n",
    "\n",
    "from ner.llm_ner.few_shots_techniques import *\n",
    "from llm.LLMModel import *\n",
    "from ner.Datasets.Conll2003Dataset import get_test_cleaned_split\n",
    "%reload_ext autoreload\n",
    "%autoreload 2\n",
    "\n",
    "seed = 10 # random.randint(0, 1535468)\n",
    "data_train, data_test = get_test_cleaned_split(seed = seed)"
   ]
  },
  {
   "cell_type": "code",
   "execution_count": null,
   "metadata": {},
   "outputs": [],
   "source": [
    "\n",
    "fst = FST_Sentence(data_train, 3)\n",
    "pts = [PT_GetEntities(fst), PT_Tagger(fst)]\n",
    "multi_pt = PT_Multi_PT(pts)\n",
    "llm = NoLLM()"
   ]
  },
  {
   "cell_type": "code",
   "execution_count": null,
   "metadata": {},
   "outputs": [],
   "source": [
    "llm.invoke(\"Jeremy Ferrari is a french guys that lives in England\", multi_pt, None)"
   ]
  },
  {
   "cell_type": "code",
   "execution_count": null,
   "metadata": {},
   "outputs": [],
   "source": []
  }
 ],
 "metadata": {
  "kernelspec": {
   "display_name": "Python 3",
   "language": "python",
   "name": "python3"
  },
  "language_info": {
   "codemirror_mode": {
    "name": "ipython",
    "version": 3
   },
   "file_extension": ".py",
   "mimetype": "text/x-python",
   "name": "python",
   "nbconvert_exporter": "python",
   "pygments_lexer": "ipython3",
   "version": "3.11.5"
  }
 },
 "nbformat": 4,
 "nbformat_minor": 2
}
