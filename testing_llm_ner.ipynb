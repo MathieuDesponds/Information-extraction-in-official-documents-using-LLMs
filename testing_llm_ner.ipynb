{
 "cells": [
  {
   "cell_type": "code",
   "execution_count": 9,
   "metadata": {},
   "outputs": [],
   "source": [
    "from ner.Datasets.Conll2003Dataset import load_conll_dataset, get_test_cleaned_split\n",
    "\n",
    "from ner.llm_ner.few_shots_techniques import *\n",
    "from ner.llm_ner.prompt_techniques import *\n",
    "\n",
    "from ner.llm_ner.ResultInstance import ResultInstance\n",
    "\n",
    "\n",
    "%load_ext autoreload\n",
    "%autoreload 2"
   ]
  },
  {
   "cell_type": "code",
   "execution_count": 61,
   "metadata": {},
   "outputs": [
    {
     "data": {
      "application/vnd.jupyter.widget-view+json": {
       "model_id": "6b796cd5baff417ba48309823df46e56",
       "version_major": 2,
       "version_minor": 0
      },
      "text/plain": [
       "Map:   0%|          | 0/1538 [00:00<?, ? examples/s]"
      ]
     },
     "metadata": {},
     "output_type": "display_data"
    },
    {
     "data": {
      "application/vnd.jupyter.widget-view+json": {
       "model_id": "ebdd2c89a2f84be5b6a938cf89a38a20",
       "version_major": 2,
       "version_minor": 0
      },
      "text/plain": [
       "Map:   0%|          | 0/50 [00:00<?, ? examples/s]"
      ]
     },
     "metadata": {},
     "output_type": "display_data"
    },
    {
     "name": "stderr",
     "output_type": "stream",
     "text": [
      "100%|██████████| 2/2 [00:00<00:00,  5.72it/s]\n",
      "100%|██████████| 2/2 [00:00<00:00, 23.97it/s]\n",
      "100%|██████████| 2/2 [00:01<00:00,  1.74it/s]\n",
      "100%|██████████| 2/2 [00:00<00:00,  2.34it/s]\n",
      "100%|██████████| 2/2 [00:01<00:00,  1.27it/s]\n",
      "100%|██████████| 2/2 [00:01<00:00,  1.53it/s]"
     ]
    },
    {
     "name": "stdout",
     "output_type": "stream",
     "text": [
      "nan\n",
      "nan\n",
      "nan\n",
      "nan\n",
      "nan\n",
      "nan\n"
     ]
    },
    {
     "name": "stderr",
     "output_type": "stream",
     "text": [
      "\n"
     ]
    },
    {
     "data": {
      "text/html": [
       "<div>\n",
       "<style scoped>\n",
       "    .dataframe tbody tr th:only-of-type {\n",
       "        vertical-align: middle;\n",
       "    }\n",
       "\n",
       "    .dataframe tbody tr th {\n",
       "        vertical-align: top;\n",
       "    }\n",
       "\n",
       "    .dataframe thead th {\n",
       "        text-align: right;\n",
       "    }\n",
       "</style>\n",
       "<table border=\"1\" class=\"dataframe\">\n",
       "  <thead>\n",
       "    <tr style=\"text-align: right;\">\n",
       "      <th></th>\n",
       "      <th>model</th>\n",
       "      <th>prompt_technique</th>\n",
       "      <th>few_shot_tecnique</th>\n",
       "      <th>nb_few_shots</th>\n",
       "      <th>verifier</th>\n",
       "      <th>len_data_train</th>\n",
       "      <th>len_data_test</th>\n",
       "      <th>f1</th>\n",
       "      <th>precision</th>\n",
       "      <th>recall</th>\n",
       "    </tr>\n",
       "  </thead>\n",
       "  <tbody>\n",
       "    <tr>\n",
       "      <th>0</th>\n",
       "      <td>MistralAI</td>\n",
       "      <td>@@##</td>\n",
       "      <td>random</td>\n",
       "      <td>5</td>\n",
       "      <td>None</td>\n",
       "      <td>1538</td>\n",
       "      <td>2</td>\n",
       "      <td>NaN</td>\n",
       "      <td>0.0</td>\n",
       "      <td>0.0</td>\n",
       "    </tr>\n",
       "    <tr>\n",
       "      <th>1</th>\n",
       "      <td>MistralAI</td>\n",
       "      <td>discussion</td>\n",
       "      <td>random</td>\n",
       "      <td>5</td>\n",
       "      <td>None</td>\n",
       "      <td>1538</td>\n",
       "      <td>2</td>\n",
       "      <td>NaN</td>\n",
       "      <td>0.0</td>\n",
       "      <td>0.0</td>\n",
       "    </tr>\n",
       "    <tr>\n",
       "      <th>2</th>\n",
       "      <td>MistralAI</td>\n",
       "      <td>@@##</td>\n",
       "      <td>sentence</td>\n",
       "      <td>5</td>\n",
       "      <td>None</td>\n",
       "      <td>1538</td>\n",
       "      <td>2</td>\n",
       "      <td>NaN</td>\n",
       "      <td>0.0</td>\n",
       "      <td>0.0</td>\n",
       "    </tr>\n",
       "    <tr>\n",
       "      <th>3</th>\n",
       "      <td>MistralAI</td>\n",
       "      <td>discussion</td>\n",
       "      <td>sentence</td>\n",
       "      <td>5</td>\n",
       "      <td>None</td>\n",
       "      <td>1538</td>\n",
       "      <td>2</td>\n",
       "      <td>NaN</td>\n",
       "      <td>0.0</td>\n",
       "      <td>0.0</td>\n",
       "    </tr>\n",
       "    <tr>\n",
       "      <th>4</th>\n",
       "      <td>MistralAI</td>\n",
       "      <td>@@##</td>\n",
       "      <td>entity</td>\n",
       "      <td>5</td>\n",
       "      <td>None</td>\n",
       "      <td>1538</td>\n",
       "      <td>2</td>\n",
       "      <td>NaN</td>\n",
       "      <td>0.0</td>\n",
       "      <td>0.0</td>\n",
       "    </tr>\n",
       "    <tr>\n",
       "      <th>5</th>\n",
       "      <td>MistralAI</td>\n",
       "      <td>discussion</td>\n",
       "      <td>entity</td>\n",
       "      <td>5</td>\n",
       "      <td>None</td>\n",
       "      <td>1538</td>\n",
       "      <td>2</td>\n",
       "      <td>NaN</td>\n",
       "      <td>0.0</td>\n",
       "      <td>0.0</td>\n",
       "    </tr>\n",
       "  </tbody>\n",
       "</table>\n",
       "</div>"
      ],
      "text/plain": [
       "       model prompt_technique few_shot_tecnique  nb_few_shots verifier  \\\n",
       "0  MistralAI             @@##            random             5     None   \n",
       "1  MistralAI       discussion            random             5     None   \n",
       "2  MistralAI             @@##          sentence             5     None   \n",
       "3  MistralAI       discussion          sentence             5     None   \n",
       "4  MistralAI             @@##            entity             5     None   \n",
       "5  MistralAI       discussion            entity             5     None   \n",
       "\n",
       "   len_data_train  len_data_test  f1  precision  recall  \n",
       "0            1538              2 NaN        0.0     0.0  \n",
       "1            1538              2 NaN        0.0     0.0  \n",
       "2            1538              2 NaN        0.0     0.0  \n",
       "3            1538              2 NaN        0.0     0.0  \n",
       "4            1538              2 NaN        0.0     0.0  \n",
       "5            1538              2 NaN        0.0     0.0  "
      ]
     },
     "execution_count": 61,
     "metadata": {},
     "output_type": "execute_result"
    }
   ],
   "source": [
    "from llm.LLMModel import MistralAI\n",
    "from ner.llm_ner.ResultInstance import save_result_instance\n",
    "model = MistralAI()\n",
    "\n",
    "results, results_df = model.classical_test(verifier=False)\n",
    "results_df"
   ]
  },
  {
   "cell_type": "code",
   "execution_count": 16,
   "metadata": {},
   "outputs": [
    {
     "data": {
      "application/vnd.jupyter.widget-view+json": {
       "model_id": "a80e54ad1a3e4b65a7e6a6724eb95945",
       "version_major": 2,
       "version_minor": 0
      },
      "text/plain": [
       "Map:   0%|          | 0/7177 [00:00<?, ? examples/s]"
      ]
     },
     "metadata": {},
     "output_type": "display_data"
    },
    {
     "data": {
      "application/vnd.jupyter.widget-view+json": {
       "model_id": "d6f8d1228d2343e58e34c8acdb5649fd",
       "version_major": 2,
       "version_minor": 0
      },
      "text/plain": [
       "Map:   0%|          | 0/400 [00:00<?, ? examples/s]"
      ]
     },
     "metadata": {},
     "output_type": "display_data"
    },
    {
     "name": "stderr",
     "output_type": "stream",
     "text": [
      "400it [02:51,  2.33it/s]\n"
     ]
    },
    {
     "data": {
      "application/vnd.jupyter.widget-view+json": {
       "model_id": "1bb57f255eb24516a8c6f5026e4f365b",
       "version_major": 2,
       "version_minor": 0
      },
      "text/plain": [
       "Map:   0%|          | 0/7177 [00:00<?, ? examples/s]"
      ]
     },
     "metadata": {},
     "output_type": "display_data"
    },
    {
     "data": {
      "application/vnd.jupyter.widget-view+json": {
       "model_id": "bd6c83be59e44e58aecd795215a781f9",
       "version_major": 2,
       "version_minor": 0
      },
      "text/plain": [
       "Map:   0%|          | 0/400 [00:00<?, ? examples/s]"
      ]
     },
     "metadata": {},
     "output_type": "display_data"
    },
    {
     "name": "stderr",
     "output_type": "stream",
     "text": [
      "12it [00:05,  2.35it/s]"
     ]
    }
   ],
   "source": [
    "pt = PT_OutputList(None)\n",
    "res = pt.process_dataset_for_finetuning()"
   ]
  },
  {
   "cell_type": "code",
   "execution_count": null,
   "metadata": {},
   "outputs": [
    {
     "data": {
      "text/plain": [
       "[\"### SYSTEM : The task is to extract all the named entites in the following sentence.\\n### USER : Your goal is to extract all the enities that are either person, organization, location or miscallaneous and output the entities in a list of tuples. In each tuple put the named entity and the tag alongside it.\\n### ASSISTANT : Yes I can do that. Can you provide me examples ?  \\n### USER : Yes of course, there are some examples : \\n### INPUT : <start_input> They also show that police investigating a theft visited Dutroux late last year at the house where Julie and Melissa were being held but accepted his word that the children 's cries they could hear came from neighbours . <end_input>\\n### OUTPUT : <start_output> [['Dutroux', 'PER'], ['Julie', 'PER'], ['Melissa', 'PER']] <end_output>\\n\\n### INPUT : <start_input> A knife-wielding neighbour apparently intent on sexual assault invaded a teenage slumber party on Friday , killing one girl and wounding three others , police said . <end_input>\\n### OUTPUT : <start_output> [] <end_output>\\n\\n### ASSISTANT : Ok now I understand I need to only output a list with the entities that are in the sentence and the tag along it. Can you now provide me the sentence ? \\n### INPUT : <start_input> Police went to the house after receiving complaints of sawing during the night over the course of several days . <end_input>\\n### OUTPUT : <start_output> [] <end_output>\",\n",
       " '### SYSTEM : The task is to extract all the named entites in the following sentence.\\n### USER : Your goal is to extract all the enities that are either person, organization, location or miscallaneous and output the entities in a list of tuples. In each tuple put the named entity and the tag alongside it.\\n### ASSISTANT : Yes I can do that. Can you provide me examples ?  \\n### USER : Yes of course, there are some examples : \\n### INPUT : <start_input> England soccer manager Glen Hoddle confirmed on Wednesday that the Liverpool pair of Steve McManaman and Robbie Fowler would miss England \\'s World Cup qualifying match against Moldova on Sunday . <end_input>\\n### OUTPUT : <start_output> [[\\'England\\', \\'LOC\\'], [\\'Glen Hoddle\\', \\'PER\\'], [\\'Liverpool\\', \\'ORG\\'], [\\'Steve McManaman\\', \\'PER\\'], [\\'Robbie Fowler\\', \\'PER\\'], [\\'England\\', \\'LOC\\'], [\\'World Cup\\', \\'MISC\\'], [\\'Moldova\\', \\'LOC\\']] <end_output>\\n\\n### INPUT : <start_input> He has n\\'t played any first-team games for Villa this season and he \\'s not the type of player I would have brought on as a substitute , \" McCarthy said . \" <end_input>\\n### OUTPUT : <start_output> [[\\'Villa\\', \\'PER\\'], [\\'McCarthy\\', \\'PER\\']] <end_output>\\n\\n### ASSISTANT : Ok now I understand I need to only output a list with the entities that are in the sentence and the tag along it. Can you now provide me the sentence ? \\n### INPUT : <start_input> England manager Glenn Hoddle called up uncapped Everton defender Andy Hinchcliffe on Sunday to the national squad for the opening World Cup qualifier against Moldova next weekend . <end_input>\\n### OUTPUT : <start_output> [[\\'England\\', \\'LOC\\'], [\\'Glenn Hoddle\\', \\'PER\\'], [\\'Everton\\', \\'ORG\\'], [\\'Andy Hinchcliffe\\', \\'PER\\'], [\\'World Cup\\', \\'MISC\\'], [\\'Moldova\\', \\'LOC\\']] <end_output>',\n",
       " \"### SYSTEM : The task is to extract all the named entites in the following sentence.\\n### USER : Your goal is to extract all the enities that are either person, organization, location or miscallaneous and output the entities in a list of tuples. In each tuple put the named entity and the tag alongside it.\\n### ASSISTANT : Yes I can do that. Can you provide me examples ?  \\n### USER : Yes of course, there are some examples : \\n### INPUT : <start_input> The leftist Popular Revolutionary Army ( EPR ) in a published report on Sunday said it operated throughout Mexico , including the capital , and denied government assertions it was isolated to one state . <end_input>\\n### OUTPUT : <start_output> [['Popular Revolutionary Army', 'ORG'], ['EPR', 'ORG'], ['Mexico', 'LOC']] <end_output>\\n\\n### INPUT : <start_input> The U.S. diplomat in charge of elections in Bosnia announced on Tuesday that voting for municipal assemblies would be postponed because of irregularities by the Serbs in registering voters . <end_input>\\n### OUTPUT : <start_output> [['U.S.', 'LOC'], ['Bosnia', 'LOC'], ['Serbs', 'MISC']] <end_output>\\n\\n### INPUT : <start_input> - Continued criticism of law violation incidents -- which occurred in the Mount Lebanon elections last Sunday . <end_input>\\n### OUTPUT : <start_output> [['Mount Lebanon', 'LOC']] <end_output>\\n\\n### ASSISTANT : Ok now I understand I need to only output a list with the entities that are in the sentence and the tag along it. Can you now provide me the sentence ? \\n### INPUT : <start_input> The mayor of Acatepec , a small town some 310 miles ( 500 km ) south of Mexico City , sent a letter to Mexico 's National Human Rights Commission complaining the army 's heavy presence in the town would interfere with the Oct. 6 election . <end_input>\\n### OUTPUT : <start_output> [['Acatepec', 'LOC'], ['Mexico City', 'LOC'], ['Mexico', 'LOC'], ['National Human Rights Commission', 'ORG']] <end_output>\",\n",
       " '### SYSTEM : The task is to extract all the named entites in the following sentence.\\n### USER : Your goal is to extract all the enities that are either person, organization, location or miscallaneous and output the entities in a list of tuples. In each tuple put the named entity and the tag alongside it.\\n### ASSISTANT : Yes I can do that. Can you provide me examples ?  \\n### USER : Yes of course, there are some examples : \\n### INPUT : <start_input> But the visitors responded to the setback immediately -- veteran striker Ashley Mocude scoring a minute later to give them a two-goal aggregate lead . <end_input>\\n### OUTPUT : <start_output> [[\\'Ashley Mocude\\', \\'PER\\']] <end_output>\\n\\n### ASSISTANT : Ok now I understand I need to only output a list with the entities that are in the sentence and the tag along it. Can you now provide me the sentence ? \\n### INPUT : <start_input> \" During the scuffle , Moura threw the first punch . <end_input>\\n### OUTPUT : <start_output> [[\\'Moura\\', \\'PER\\']] <end_output>']"
      ]
     },
     "execution_count": 15,
     "metadata": {},
     "output_type": "execute_result"
    }
   ],
   "source": [
    "pt = PT_GPT_NER(None)\n",
    "res2 = pt.process_dataset_for_finetuning()"
   ]
  },
  {
   "cell_type": "code",
   "execution_count": null,
   "metadata": {},
   "outputs": [],
   "source": []
  }
 ],
 "metadata": {
  "kernelspec": {
   "display_name": "Python 3",
   "language": "python",
   "name": "python3"
  },
  "language_info": {
   "codemirror_mode": {
    "name": "ipython",
    "version": 3
   },
   "file_extension": ".py",
   "mimetype": "text/x-python",
   "name": "python",
   "nbconvert_exporter": "python",
   "pygments_lexer": "ipython3",
   "version": "3.10.12"
  }
 },
 "nbformat": 4,
 "nbformat_minor": 2
}
