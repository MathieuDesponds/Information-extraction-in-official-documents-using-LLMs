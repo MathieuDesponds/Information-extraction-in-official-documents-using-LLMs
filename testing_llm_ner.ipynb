{
 "cells": [
  {
   "cell_type": "code",
   "execution_count": null,
   "metadata": {},
   "outputs": [],
   "source": [
    "from ner.Datasets.Conll2003Dataset import load_conll_dataset, get_test_cleaned_split\n",
    "\n",
    "from ner.llm_ner.few_shots_techniques import *\n",
    "from ner.llm_ner.prompt_techniques import *\n",
    "\n",
    "\n",
    "%load_ext autoreload\n",
    "%autoreload 2"
   ]
  },
  {
   "cell_type": "code",
   "execution_count": null,
   "metadata": {},
   "outputs": [],
   "source": [
    "from llm.LLMModel import MistralAI\n",
    "from ner.llm_ner.ResultInstance import save_result_instance\n",
    "model = MistralAI()\n",
    "\n",
    "results, results_df = model.classical_test(verifier=False)\n",
    "results_df"
   ]
  }
 ],
 "metadata": {
  "kernelspec": {
   "display_name": "Python 3",
   "language": "python",
   "name": "python3"
  },
  "language_info": {
   "codemirror_mode": {
    "name": "ipython",
    "version": 3
   },
   "file_extension": ".py",
   "mimetype": "text/x-python",
   "name": "python",
   "nbconvert_exporter": "python",
   "pygments_lexer": "ipython3",
   "version": "3.10.12"
  }
 },
 "nbformat": 4,
 "nbformat_minor": 2
}
