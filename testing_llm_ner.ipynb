{
 "cells": [
  {
   "cell_type": "code",
   "execution_count": 1,
   "metadata": {},
   "outputs": [
    {
     "name": "stderr",
     "output_type": "stream",
     "text": [
      "[nltk_data] Downloading package stopwords to /home/ubuntu/nltk_data...\n",
      "[nltk_data]   Package stopwords is already up-to-date!\n",
      "Some weights of the model checkpoint at dslim/bert-base-NER were not used when initializing BertForTokenClassification: ['bert.pooler.dense.bias', 'bert.pooler.dense.weight']\n",
      "- This IS expected if you are initializing BertForTokenClassification from the checkpoint of a model trained on another task or with another architecture (e.g. initializing a BertForSequenceClassification model from a BertForPreTraining model).\n",
      "- This IS NOT expected if you are initializing BertForTokenClassification from the checkpoint of a model that you expect to be exactly identical (initializing a BertForSequenceClassification model from a BertForSequenceClassification model).\n",
      "[nltk_data] Downloading package punkt to /home/ubuntu/nltk_data...\n",
      "[nltk_data]   Package punkt is already up-to-date!\n",
      "[nltk_data] Downloading package averaged_perceptron_tagger to\n",
      "[nltk_data]     /home/ubuntu/nltk_data...\n",
      "[nltk_data]   Package averaged_perceptron_tagger is already up-to-\n",
      "[nltk_data]       date!\n",
      "ggml_init_cublas: found 1 CUDA devices:\n",
      "  Device 0: NVIDIA A40, compute capability 8.6\n",
      "llama_model_loader: loaded meta data with 20 key-value pairs and 291 tensors from llm/models/mistral-7b-v0.1/mistral-7b-v0.1.Q5_0.gguf (version GGUF V2 (latest))\n",
      "llama_model_loader: - tensor    0:                token_embd.weight q5_0     [  4096, 32000,     1,     1 ]\n",
      "llama_model_loader: - tensor    1:              blk.0.attn_q.weight q5_0     [  4096,  4096,     1,     1 ]\n",
      "llama_model_loader: - tensor    2:              blk.0.attn_k.weight q5_0     [  4096,  1024,     1,     1 ]\n",
      "llama_model_loader: - tensor    3:              blk.0.attn_v.weight q5_0     [  4096,  1024,     1,     1 ]\n",
      "llama_model_loader: - tensor    4:         blk.0.attn_output.weight q5_0     [  4096,  4096,     1,     1 ]\n",
      "llama_model_loader: - tensor    5:            blk.0.ffn_gate.weight q5_0     [  4096, 14336,     1,     1 ]\n",
      "llama_model_loader: - tensor    6:              blk.0.ffn_up.weight q5_0     [  4096, 14336,     1,     1 ]\n",
      "llama_model_loader: - tensor    7:            blk.0.ffn_down.weight q5_0     [ 14336,  4096,     1,     1 ]\n",
      "llama_model_loader: - tensor    8:           blk.0.attn_norm.weight f32      [  4096,     1,     1,     1 ]\n",
      "llama_model_loader: - tensor    9:            blk.0.ffn_norm.weight f32      [  4096,     1,     1,     1 ]\n",
      "llama_model_loader: - tensor   10:              blk.1.attn_q.weight q5_0     [  4096,  4096,     1,     1 ]\n",
      "llama_model_loader: - tensor   11:              blk.1.attn_k.weight q5_0     [  4096,  1024,     1,     1 ]\n",
      "llama_model_loader: - tensor   12:              blk.1.attn_v.weight q5_0     [  4096,  1024,     1,     1 ]\n",
      "llama_model_loader: - tensor   13:         blk.1.attn_output.weight q5_0     [  4096,  4096,     1,     1 ]\n",
      "llama_model_loader: - tensor   14:            blk.1.ffn_gate.weight q5_0     [  4096, 14336,     1,     1 ]\n",
      "llama_model_loader: - tensor   15:              blk.1.ffn_up.weight q5_0     [  4096, 14336,     1,     1 ]\n",
      "llama_model_loader: - tensor   16:            blk.1.ffn_down.weight q5_0     [ 14336,  4096,     1,     1 ]\n",
      "llama_model_loader: - tensor   17:           blk.1.attn_norm.weight f32      [  4096,     1,     1,     1 ]\n",
      "llama_model_loader: - tensor   18:            blk.1.ffn_norm.weight f32      [  4096,     1,     1,     1 ]\n",
      "llama_model_loader: - tensor   19:              blk.2.attn_q.weight q5_0     [  4096,  4096,     1,     1 ]\n",
      "llama_model_loader: - tensor   20:              blk.2.attn_k.weight q5_0     [  4096,  1024,     1,     1 ]\n",
      "llama_model_loader: - tensor   21:              blk.2.attn_v.weight q5_0     [  4096,  1024,     1,     1 ]\n",
      "llama_model_loader: - tensor   22:         blk.2.attn_output.weight q5_0     [  4096,  4096,     1,     1 ]\n",
      "llama_model_loader: - tensor   23:            blk.2.ffn_gate.weight q5_0     [  4096, 14336,     1,     1 ]\n",
      "llama_model_loader: - tensor   24:              blk.2.ffn_up.weight q5_0     [  4096, 14336,     1,     1 ]\n",
      "llama_model_loader: - tensor   25:            blk.2.ffn_down.weight q5_0     [ 14336,  4096,     1,     1 ]\n",
      "llama_model_loader: - tensor   26:           blk.2.attn_norm.weight f32      [  4096,     1,     1,     1 ]\n",
      "llama_model_loader: - tensor   27:            blk.2.ffn_norm.weight f32      [  4096,     1,     1,     1 ]\n",
      "llama_model_loader: - tensor   28:              blk.3.attn_q.weight q5_0     [  4096,  4096,     1,     1 ]\n",
      "llama_model_loader: - tensor   29:              blk.3.attn_k.weight q5_0     [  4096,  1024,     1,     1 ]\n",
      "llama_model_loader: - tensor   30:              blk.3.attn_v.weight q5_0     [  4096,  1024,     1,     1 ]\n",
      "llama_model_loader: - tensor   31:         blk.3.attn_output.weight q5_0     [  4096,  4096,     1,     1 ]\n",
      "llama_model_loader: - tensor   32:            blk.3.ffn_gate.weight q5_0     [  4096, 14336,     1,     1 ]\n",
      "llama_model_loader: - tensor   33:              blk.3.ffn_up.weight q5_0     [  4096, 14336,     1,     1 ]\n",
      "llama_model_loader: - tensor   34:            blk.3.ffn_down.weight q5_0     [ 14336,  4096,     1,     1 ]\n",
      "llama_model_loader: - tensor   35:           blk.3.attn_norm.weight f32      [  4096,     1,     1,     1 ]\n",
      "llama_model_loader: - tensor   36:            blk.3.ffn_norm.weight f32      [  4096,     1,     1,     1 ]\n",
      "llama_model_loader: - tensor   37:              blk.4.attn_q.weight q5_0     [  4096,  4096,     1,     1 ]\n",
      "llama_model_loader: - tensor   38:              blk.4.attn_k.weight q5_0     [  4096,  1024,     1,     1 ]\n",
      "llama_model_loader: - tensor   39:              blk.4.attn_v.weight q5_0     [  4096,  1024,     1,     1 ]\n",
      "llama_model_loader: - tensor   40:         blk.4.attn_output.weight q5_0     [  4096,  4096,     1,     1 ]\n",
      "llama_model_loader: - tensor   41:            blk.4.ffn_gate.weight q5_0     [  4096, 14336,     1,     1 ]\n",
      "llama_model_loader: - tensor   42:              blk.4.ffn_up.weight q5_0     [  4096, 14336,     1,     1 ]\n",
      "llama_model_loader: - tensor   43:            blk.4.ffn_down.weight q5_0     [ 14336,  4096,     1,     1 ]\n",
      "llama_model_loader: - tensor   44:           blk.4.attn_norm.weight f32      [  4096,     1,     1,     1 ]\n",
      "llama_model_loader: - tensor   45:            blk.4.ffn_norm.weight f32      [  4096,     1,     1,     1 ]\n",
      "llama_model_loader: - tensor   46:              blk.5.attn_q.weight q5_0     [  4096,  4096,     1,     1 ]\n",
      "llama_model_loader: - tensor   47:              blk.5.attn_k.weight q5_0     [  4096,  1024,     1,     1 ]\n",
      "llama_model_loader: - tensor   48:              blk.5.attn_v.weight q5_0     [  4096,  1024,     1,     1 ]\n",
      "llama_model_loader: - tensor   49:         blk.5.attn_output.weight q5_0     [  4096,  4096,     1,     1 ]\n",
      "llama_model_loader: - tensor   50:            blk.5.ffn_gate.weight q5_0     [  4096, 14336,     1,     1 ]\n",
      "llama_model_loader: - tensor   51:              blk.5.ffn_up.weight q5_0     [  4096, 14336,     1,     1 ]\n",
      "llama_model_loader: - tensor   52:            blk.5.ffn_down.weight q5_0     [ 14336,  4096,     1,     1 ]\n",
      "llama_model_loader: - tensor   53:           blk.5.attn_norm.weight f32      [  4096,     1,     1,     1 ]\n",
      "llama_model_loader: - tensor   54:            blk.5.ffn_norm.weight f32      [  4096,     1,     1,     1 ]\n",
      "llama_model_loader: - tensor   55:              blk.6.attn_q.weight q5_0     [  4096,  4096,     1,     1 ]\n",
      "llama_model_loader: - tensor   56:              blk.6.attn_k.weight q5_0     [  4096,  1024,     1,     1 ]\n",
      "llama_model_loader: - tensor   57:              blk.6.attn_v.weight q5_0     [  4096,  1024,     1,     1 ]\n",
      "llama_model_loader: - tensor   58:         blk.6.attn_output.weight q5_0     [  4096,  4096,     1,     1 ]\n",
      "llama_model_loader: - tensor   59:            blk.6.ffn_gate.weight q5_0     [  4096, 14336,     1,     1 ]\n",
      "llama_model_loader: - tensor   60:              blk.6.ffn_up.weight q5_0     [  4096, 14336,     1,     1 ]\n",
      "llama_model_loader: - tensor   61:            blk.6.ffn_down.weight q5_0     [ 14336,  4096,     1,     1 ]\n",
      "llama_model_loader: - tensor   62:           blk.6.attn_norm.weight f32      [  4096,     1,     1,     1 ]\n",
      "llama_model_loader: - tensor   63:            blk.6.ffn_norm.weight f32      [  4096,     1,     1,     1 ]\n",
      "llama_model_loader: - tensor   64:              blk.7.attn_q.weight q5_0     [  4096,  4096,     1,     1 ]\n",
      "llama_model_loader: - tensor   65:              blk.7.attn_k.weight q5_0     [  4096,  1024,     1,     1 ]\n",
      "llama_model_loader: - tensor   66:              blk.7.attn_v.weight q5_0     [  4096,  1024,     1,     1 ]\n",
      "llama_model_loader: - tensor   67:         blk.7.attn_output.weight q5_0     [  4096,  4096,     1,     1 ]\n",
      "llama_model_loader: - tensor   68:            blk.7.ffn_gate.weight q5_0     [  4096, 14336,     1,     1 ]\n",
      "llama_model_loader: - tensor   69:              blk.7.ffn_up.weight q5_0     [  4096, 14336,     1,     1 ]\n",
      "llama_model_loader: - tensor   70:            blk.7.ffn_down.weight q5_0     [ 14336,  4096,     1,     1 ]\n",
      "llama_model_loader: - tensor   71:           blk.7.attn_norm.weight f32      [  4096,     1,     1,     1 ]\n",
      "llama_model_loader: - tensor   72:            blk.7.ffn_norm.weight f32      [  4096,     1,     1,     1 ]\n",
      "llama_model_loader: - tensor   73:              blk.8.attn_q.weight q5_0     [  4096,  4096,     1,     1 ]\n",
      "llama_model_loader: - tensor   74:              blk.8.attn_k.weight q5_0     [  4096,  1024,     1,     1 ]\n",
      "llama_model_loader: - tensor   75:              blk.8.attn_v.weight q5_0     [  4096,  1024,     1,     1 ]\n",
      "llama_model_loader: - tensor   76:         blk.8.attn_output.weight q5_0     [  4096,  4096,     1,     1 ]\n",
      "llama_model_loader: - tensor   77:            blk.8.ffn_gate.weight q5_0     [  4096, 14336,     1,     1 ]\n",
      "llama_model_loader: - tensor   78:              blk.8.ffn_up.weight q5_0     [  4096, 14336,     1,     1 ]\n",
      "llama_model_loader: - tensor   79:            blk.8.ffn_down.weight q5_0     [ 14336,  4096,     1,     1 ]\n",
      "llama_model_loader: - tensor   80:           blk.8.attn_norm.weight f32      [  4096,     1,     1,     1 ]\n",
      "llama_model_loader: - tensor   81:            blk.8.ffn_norm.weight f32      [  4096,     1,     1,     1 ]\n",
      "llama_model_loader: - tensor   82:              blk.9.attn_q.weight q5_0     [  4096,  4096,     1,     1 ]\n",
      "llama_model_loader: - tensor   83:              blk.9.attn_k.weight q5_0     [  4096,  1024,     1,     1 ]\n",
      "llama_model_loader: - tensor   84:              blk.9.attn_v.weight q5_0     [  4096,  1024,     1,     1 ]\n",
      "llama_model_loader: - tensor   85:         blk.9.attn_output.weight q5_0     [  4096,  4096,     1,     1 ]\n",
      "llama_model_loader: - tensor   86:            blk.9.ffn_gate.weight q5_0     [  4096, 14336,     1,     1 ]\n",
      "llama_model_loader: - tensor   87:              blk.9.ffn_up.weight q5_0     [  4096, 14336,     1,     1 ]\n",
      "llama_model_loader: - tensor   88:            blk.9.ffn_down.weight q5_0     [ 14336,  4096,     1,     1 ]\n",
      "llama_model_loader: - tensor   89:           blk.9.attn_norm.weight f32      [  4096,     1,     1,     1 ]\n",
      "llama_model_loader: - tensor   90:            blk.9.ffn_norm.weight f32      [  4096,     1,     1,     1 ]\n",
      "llama_model_loader: - tensor   91:             blk.10.attn_q.weight q5_0     [  4096,  4096,     1,     1 ]\n",
      "llama_model_loader: - tensor   92:             blk.10.attn_k.weight q5_0     [  4096,  1024,     1,     1 ]\n",
      "llama_model_loader: - tensor   93:             blk.10.attn_v.weight q5_0     [  4096,  1024,     1,     1 ]\n",
      "llama_model_loader: - tensor   94:        blk.10.attn_output.weight q5_0     [  4096,  4096,     1,     1 ]\n",
      "llama_model_loader: - tensor   95:           blk.10.ffn_gate.weight q5_0     [  4096, 14336,     1,     1 ]\n",
      "llama_model_loader: - tensor   96:             blk.10.ffn_up.weight q5_0     [  4096, 14336,     1,     1 ]\n",
      "llama_model_loader: - tensor   97:           blk.10.ffn_down.weight q5_0     [ 14336,  4096,     1,     1 ]\n",
      "llama_model_loader: - tensor   98:          blk.10.attn_norm.weight f32      [  4096,     1,     1,     1 ]\n",
      "llama_model_loader: - tensor   99:           blk.10.ffn_norm.weight f32      [  4096,     1,     1,     1 ]\n",
      "llama_model_loader: - tensor  100:             blk.11.attn_q.weight q5_0     [  4096,  4096,     1,     1 ]\n",
      "llama_model_loader: - tensor  101:             blk.11.attn_k.weight q5_0     [  4096,  1024,     1,     1 ]\n",
      "llama_model_loader: - tensor  102:             blk.11.attn_v.weight q5_0     [  4096,  1024,     1,     1 ]\n",
      "llama_model_loader: - tensor  103:        blk.11.attn_output.weight q5_0     [  4096,  4096,     1,     1 ]\n",
      "llama_model_loader: - tensor  104:           blk.11.ffn_gate.weight q5_0     [  4096, 14336,     1,     1 ]\n",
      "llama_model_loader: - tensor  105:             blk.11.ffn_up.weight q5_0     [  4096, 14336,     1,     1 ]\n",
      "llama_model_loader: - tensor  106:           blk.11.ffn_down.weight q5_0     [ 14336,  4096,     1,     1 ]\n",
      "llama_model_loader: - tensor  107:          blk.11.attn_norm.weight f32      [  4096,     1,     1,     1 ]\n",
      "llama_model_loader: - tensor  108:           blk.11.ffn_norm.weight f32      [  4096,     1,     1,     1 ]\n",
      "llama_model_loader: - tensor  109:             blk.12.attn_q.weight q5_0     [  4096,  4096,     1,     1 ]\n",
      "llama_model_loader: - tensor  110:             blk.12.attn_k.weight q5_0     [  4096,  1024,     1,     1 ]\n",
      "llama_model_loader: - tensor  111:             blk.12.attn_v.weight q5_0     [  4096,  1024,     1,     1 ]\n",
      "llama_model_loader: - tensor  112:        blk.12.attn_output.weight q5_0     [  4096,  4096,     1,     1 ]\n",
      "llama_model_loader: - tensor  113:           blk.12.ffn_gate.weight q5_0     [  4096, 14336,     1,     1 ]\n",
      "llama_model_loader: - tensor  114:             blk.12.ffn_up.weight q5_0     [  4096, 14336,     1,     1 ]\n",
      "llama_model_loader: - tensor  115:           blk.12.ffn_down.weight q5_0     [ 14336,  4096,     1,     1 ]\n",
      "llama_model_loader: - tensor  116:          blk.12.attn_norm.weight f32      [  4096,     1,     1,     1 ]\n",
      "llama_model_loader: - tensor  117:           blk.12.ffn_norm.weight f32      [  4096,     1,     1,     1 ]\n",
      "llama_model_loader: - tensor  118:             blk.13.attn_q.weight q5_0     [  4096,  4096,     1,     1 ]\n",
      "llama_model_loader: - tensor  119:             blk.13.attn_k.weight q5_0     [  4096,  1024,     1,     1 ]\n",
      "llama_model_loader: - tensor  120:             blk.13.attn_v.weight q5_0     [  4096,  1024,     1,     1 ]\n",
      "llama_model_loader: - tensor  121:        blk.13.attn_output.weight q5_0     [  4096,  4096,     1,     1 ]\n",
      "llama_model_loader: - tensor  122:           blk.13.ffn_gate.weight q5_0     [  4096, 14336,     1,     1 ]\n",
      "llama_model_loader: - tensor  123:             blk.13.ffn_up.weight q5_0     [  4096, 14336,     1,     1 ]\n",
      "llama_model_loader: - tensor  124:           blk.13.ffn_down.weight q5_0     [ 14336,  4096,     1,     1 ]\n",
      "llama_model_loader: - tensor  125:          blk.13.attn_norm.weight f32      [  4096,     1,     1,     1 ]\n",
      "llama_model_loader: - tensor  126:           blk.13.ffn_norm.weight f32      [  4096,     1,     1,     1 ]\n",
      "llama_model_loader: - tensor  127:             blk.14.attn_q.weight q5_0     [  4096,  4096,     1,     1 ]\n",
      "llama_model_loader: - tensor  128:             blk.14.attn_k.weight q5_0     [  4096,  1024,     1,     1 ]\n",
      "llama_model_loader: - tensor  129:             blk.14.attn_v.weight q5_0     [  4096,  1024,     1,     1 ]\n",
      "llama_model_loader: - tensor  130:        blk.14.attn_output.weight q5_0     [  4096,  4096,     1,     1 ]\n",
      "llama_model_loader: - tensor  131:           blk.14.ffn_gate.weight q5_0     [  4096, 14336,     1,     1 ]\n",
      "llama_model_loader: - tensor  132:             blk.14.ffn_up.weight q5_0     [  4096, 14336,     1,     1 ]\n",
      "llama_model_loader: - tensor  133:           blk.14.ffn_down.weight q5_0     [ 14336,  4096,     1,     1 ]\n",
      "llama_model_loader: - tensor  134:          blk.14.attn_norm.weight f32      [  4096,     1,     1,     1 ]\n",
      "llama_model_loader: - tensor  135:           blk.14.ffn_norm.weight f32      [  4096,     1,     1,     1 ]\n",
      "llama_model_loader: - tensor  136:             blk.15.attn_q.weight q5_0     [  4096,  4096,     1,     1 ]\n",
      "llama_model_loader: - tensor  137:             blk.15.attn_k.weight q5_0     [  4096,  1024,     1,     1 ]\n",
      "llama_model_loader: - tensor  138:             blk.15.attn_v.weight q5_0     [  4096,  1024,     1,     1 ]\n",
      "llama_model_loader: - tensor  139:        blk.15.attn_output.weight q5_0     [  4096,  4096,     1,     1 ]\n",
      "llama_model_loader: - tensor  140:           blk.15.ffn_gate.weight q5_0     [  4096, 14336,     1,     1 ]\n",
      "llama_model_loader: - tensor  141:             blk.15.ffn_up.weight q5_0     [  4096, 14336,     1,     1 ]\n",
      "llama_model_loader: - tensor  142:           blk.15.ffn_down.weight q5_0     [ 14336,  4096,     1,     1 ]\n",
      "llama_model_loader: - tensor  143:          blk.15.attn_norm.weight f32      [  4096,     1,     1,     1 ]\n",
      "llama_model_loader: - tensor  144:           blk.15.ffn_norm.weight f32      [  4096,     1,     1,     1 ]\n",
      "llama_model_loader: - tensor  145:             blk.16.attn_q.weight q5_0     [  4096,  4096,     1,     1 ]\n",
      "llama_model_loader: - tensor  146:             blk.16.attn_k.weight q5_0     [  4096,  1024,     1,     1 ]\n",
      "llama_model_loader: - tensor  147:             blk.16.attn_v.weight q5_0     [  4096,  1024,     1,     1 ]\n",
      "llama_model_loader: - tensor  148:        blk.16.attn_output.weight q5_0     [  4096,  4096,     1,     1 ]\n",
      "llama_model_loader: - tensor  149:           blk.16.ffn_gate.weight q5_0     [  4096, 14336,     1,     1 ]\n",
      "llama_model_loader: - tensor  150:             blk.16.ffn_up.weight q5_0     [  4096, 14336,     1,     1 ]\n",
      "llama_model_loader: - tensor  151:           blk.16.ffn_down.weight q5_0     [ 14336,  4096,     1,     1 ]\n",
      "llama_model_loader: - tensor  152:          blk.16.attn_norm.weight f32      [  4096,     1,     1,     1 ]\n",
      "llama_model_loader: - tensor  153:           blk.16.ffn_norm.weight f32      [  4096,     1,     1,     1 ]\n",
      "llama_model_loader: - tensor  154:             blk.17.attn_q.weight q5_0     [  4096,  4096,     1,     1 ]\n",
      "llama_model_loader: - tensor  155:             blk.17.attn_k.weight q5_0     [  4096,  1024,     1,     1 ]\n",
      "llama_model_loader: - tensor  156:             blk.17.attn_v.weight q5_0     [  4096,  1024,     1,     1 ]\n",
      "llama_model_loader: - tensor  157:        blk.17.attn_output.weight q5_0     [  4096,  4096,     1,     1 ]\n",
      "llama_model_loader: - tensor  158:           blk.17.ffn_gate.weight q5_0     [  4096, 14336,     1,     1 ]\n",
      "llama_model_loader: - tensor  159:             blk.17.ffn_up.weight q5_0     [  4096, 14336,     1,     1 ]\n",
      "llama_model_loader: - tensor  160:           blk.17.ffn_down.weight q5_0     [ 14336,  4096,     1,     1 ]\n",
      "llama_model_loader: - tensor  161:          blk.17.attn_norm.weight f32      [  4096,     1,     1,     1 ]\n",
      "llama_model_loader: - tensor  162:           blk.17.ffn_norm.weight f32      [  4096,     1,     1,     1 ]\n",
      "llama_model_loader: - tensor  163:             blk.18.attn_q.weight q5_0     [  4096,  4096,     1,     1 ]\n",
      "llama_model_loader: - tensor  164:             blk.18.attn_k.weight q5_0     [  4096,  1024,     1,     1 ]\n",
      "llama_model_loader: - tensor  165:             blk.18.attn_v.weight q5_0     [  4096,  1024,     1,     1 ]\n",
      "llama_model_loader: - tensor  166:        blk.18.attn_output.weight q5_0     [  4096,  4096,     1,     1 ]\n",
      "llama_model_loader: - tensor  167:           blk.18.ffn_gate.weight q5_0     [  4096, 14336,     1,     1 ]\n",
      "llama_model_loader: - tensor  168:             blk.18.ffn_up.weight q5_0     [  4096, 14336,     1,     1 ]\n",
      "llama_model_loader: - tensor  169:           blk.18.ffn_down.weight q5_0     [ 14336,  4096,     1,     1 ]\n",
      "llama_model_loader: - tensor  170:          blk.18.attn_norm.weight f32      [  4096,     1,     1,     1 ]\n",
      "llama_model_loader: - tensor  171:           blk.18.ffn_norm.weight f32      [  4096,     1,     1,     1 ]\n",
      "llama_model_loader: - tensor  172:             blk.19.attn_q.weight q5_0     [  4096,  4096,     1,     1 ]\n",
      "llama_model_loader: - tensor  173:             blk.19.attn_k.weight q5_0     [  4096,  1024,     1,     1 ]\n",
      "llama_model_loader: - tensor  174:             blk.19.attn_v.weight q5_0     [  4096,  1024,     1,     1 ]\n",
      "llama_model_loader: - tensor  175:        blk.19.attn_output.weight q5_0     [  4096,  4096,     1,     1 ]\n",
      "llama_model_loader: - tensor  176:           blk.19.ffn_gate.weight q5_0     [  4096, 14336,     1,     1 ]\n",
      "llama_model_loader: - tensor  177:             blk.19.ffn_up.weight q5_0     [  4096, 14336,     1,     1 ]\n",
      "llama_model_loader: - tensor  178:           blk.19.ffn_down.weight q5_0     [ 14336,  4096,     1,     1 ]\n",
      "llama_model_loader: - tensor  179:          blk.19.attn_norm.weight f32      [  4096,     1,     1,     1 ]\n",
      "llama_model_loader: - tensor  180:           blk.19.ffn_norm.weight f32      [  4096,     1,     1,     1 ]\n",
      "llama_model_loader: - tensor  181:             blk.20.attn_q.weight q5_0     [  4096,  4096,     1,     1 ]\n",
      "llama_model_loader: - tensor  182:             blk.20.attn_k.weight q5_0     [  4096,  1024,     1,     1 ]\n",
      "llama_model_loader: - tensor  183:             blk.20.attn_v.weight q5_0     [  4096,  1024,     1,     1 ]\n",
      "llama_model_loader: - tensor  184:        blk.20.attn_output.weight q5_0     [  4096,  4096,     1,     1 ]\n",
      "llama_model_loader: - tensor  185:           blk.20.ffn_gate.weight q5_0     [  4096, 14336,     1,     1 ]\n",
      "llama_model_loader: - tensor  186:             blk.20.ffn_up.weight q5_0     [  4096, 14336,     1,     1 ]\n",
      "llama_model_loader: - tensor  187:           blk.20.ffn_down.weight q5_0     [ 14336,  4096,     1,     1 ]\n",
      "llama_model_loader: - tensor  188:          blk.20.attn_norm.weight f32      [  4096,     1,     1,     1 ]\n",
      "llama_model_loader: - tensor  189:           blk.20.ffn_norm.weight f32      [  4096,     1,     1,     1 ]\n",
      "llama_model_loader: - tensor  190:             blk.21.attn_q.weight q5_0     [  4096,  4096,     1,     1 ]\n",
      "llama_model_loader: - tensor  191:             blk.21.attn_k.weight q5_0     [  4096,  1024,     1,     1 ]\n",
      "llama_model_loader: - tensor  192:             blk.21.attn_v.weight q5_0     [  4096,  1024,     1,     1 ]\n",
      "llama_model_loader: - tensor  193:        blk.21.attn_output.weight q5_0     [  4096,  4096,     1,     1 ]\n",
      "llama_model_loader: - tensor  194:           blk.21.ffn_gate.weight q5_0     [  4096, 14336,     1,     1 ]\n",
      "llama_model_loader: - tensor  195:             blk.21.ffn_up.weight q5_0     [  4096, 14336,     1,     1 ]\n",
      "llama_model_loader: - tensor  196:           blk.21.ffn_down.weight q5_0     [ 14336,  4096,     1,     1 ]\n",
      "llama_model_loader: - tensor  197:          blk.21.attn_norm.weight f32      [  4096,     1,     1,     1 ]\n",
      "llama_model_loader: - tensor  198:           blk.21.ffn_norm.weight f32      [  4096,     1,     1,     1 ]\n",
      "llama_model_loader: - tensor  199:             blk.22.attn_q.weight q5_0     [  4096,  4096,     1,     1 ]\n",
      "llama_model_loader: - tensor  200:             blk.22.attn_k.weight q5_0     [  4096,  1024,     1,     1 ]\n",
      "llama_model_loader: - tensor  201:             blk.22.attn_v.weight q5_0     [  4096,  1024,     1,     1 ]\n",
      "llama_model_loader: - tensor  202:        blk.22.attn_output.weight q5_0     [  4096,  4096,     1,     1 ]\n",
      "llama_model_loader: - tensor  203:           blk.22.ffn_gate.weight q5_0     [  4096, 14336,     1,     1 ]\n",
      "llama_model_loader: - tensor  204:             blk.22.ffn_up.weight q5_0     [  4096, 14336,     1,     1 ]\n",
      "llama_model_loader: - tensor  205:           blk.22.ffn_down.weight q5_0     [ 14336,  4096,     1,     1 ]\n",
      "llama_model_loader: - tensor  206:          blk.22.attn_norm.weight f32      [  4096,     1,     1,     1 ]\n",
      "llama_model_loader: - tensor  207:           blk.22.ffn_norm.weight f32      [  4096,     1,     1,     1 ]\n",
      "llama_model_loader: - tensor  208:             blk.23.attn_q.weight q5_0     [  4096,  4096,     1,     1 ]\n",
      "llama_model_loader: - tensor  209:             blk.23.attn_k.weight q5_0     [  4096,  1024,     1,     1 ]\n",
      "llama_model_loader: - tensor  210:             blk.23.attn_v.weight q5_0     [  4096,  1024,     1,     1 ]\n",
      "llama_model_loader: - tensor  211:        blk.23.attn_output.weight q5_0     [  4096,  4096,     1,     1 ]\n",
      "llama_model_loader: - tensor  212:           blk.23.ffn_gate.weight q5_0     [  4096, 14336,     1,     1 ]\n",
      "llama_model_loader: - tensor  213:             blk.23.ffn_up.weight q5_0     [  4096, 14336,     1,     1 ]\n",
      "llama_model_loader: - tensor  214:           blk.23.ffn_down.weight q5_0     [ 14336,  4096,     1,     1 ]\n",
      "llama_model_loader: - tensor  215:          blk.23.attn_norm.weight f32      [  4096,     1,     1,     1 ]\n",
      "llama_model_loader: - tensor  216:           blk.23.ffn_norm.weight f32      [  4096,     1,     1,     1 ]\n",
      "llama_model_loader: - tensor  217:             blk.24.attn_q.weight q5_0     [  4096,  4096,     1,     1 ]\n",
      "llama_model_loader: - tensor  218:             blk.24.attn_k.weight q5_0     [  4096,  1024,     1,     1 ]\n",
      "llama_model_loader: - tensor  219:             blk.24.attn_v.weight q5_0     [  4096,  1024,     1,     1 ]\n",
      "llama_model_loader: - tensor  220:        blk.24.attn_output.weight q5_0     [  4096,  4096,     1,     1 ]\n",
      "llama_model_loader: - tensor  221:           blk.24.ffn_gate.weight q5_0     [  4096, 14336,     1,     1 ]\n",
      "llama_model_loader: - tensor  222:             blk.24.ffn_up.weight q5_0     [  4096, 14336,     1,     1 ]\n",
      "llama_model_loader: - tensor  223:           blk.24.ffn_down.weight q5_0     [ 14336,  4096,     1,     1 ]\n",
      "llama_model_loader: - tensor  224:          blk.24.attn_norm.weight f32      [  4096,     1,     1,     1 ]\n",
      "llama_model_loader: - tensor  225:           blk.24.ffn_norm.weight f32      [  4096,     1,     1,     1 ]\n",
      "llama_model_loader: - tensor  226:             blk.25.attn_q.weight q5_0     [  4096,  4096,     1,     1 ]\n",
      "llama_model_loader: - tensor  227:             blk.25.attn_k.weight q5_0     [  4096,  1024,     1,     1 ]\n",
      "llama_model_loader: - tensor  228:             blk.25.attn_v.weight q5_0     [  4096,  1024,     1,     1 ]\n",
      "llama_model_loader: - tensor  229:        blk.25.attn_output.weight q5_0     [  4096,  4096,     1,     1 ]\n",
      "llama_model_loader: - tensor  230:           blk.25.ffn_gate.weight q5_0     [  4096, 14336,     1,     1 ]\n",
      "llama_model_loader: - tensor  231:             blk.25.ffn_up.weight q5_0     [  4096, 14336,     1,     1 ]\n",
      "llama_model_loader: - tensor  232:           blk.25.ffn_down.weight q5_0     [ 14336,  4096,     1,     1 ]\n",
      "llama_model_loader: - tensor  233:          blk.25.attn_norm.weight f32      [  4096,     1,     1,     1 ]\n",
      "llama_model_loader: - tensor  234:           blk.25.ffn_norm.weight f32      [  4096,     1,     1,     1 ]\n",
      "llama_model_loader: - tensor  235:             blk.26.attn_q.weight q5_0     [  4096,  4096,     1,     1 ]\n",
      "llama_model_loader: - tensor  236:             blk.26.attn_k.weight q5_0     [  4096,  1024,     1,     1 ]\n",
      "llama_model_loader: - tensor  237:             blk.26.attn_v.weight q5_0     [  4096,  1024,     1,     1 ]\n",
      "llama_model_loader: - tensor  238:        blk.26.attn_output.weight q5_0     [  4096,  4096,     1,     1 ]\n",
      "llama_model_loader: - tensor  239:           blk.26.ffn_gate.weight q5_0     [  4096, 14336,     1,     1 ]\n",
      "llama_model_loader: - tensor  240:             blk.26.ffn_up.weight q5_0     [  4096, 14336,     1,     1 ]\n",
      "llama_model_loader: - tensor  241:           blk.26.ffn_down.weight q5_0     [ 14336,  4096,     1,     1 ]\n",
      "llama_model_loader: - tensor  242:          blk.26.attn_norm.weight f32      [  4096,     1,     1,     1 ]\n",
      "llama_model_loader: - tensor  243:           blk.26.ffn_norm.weight f32      [  4096,     1,     1,     1 ]\n",
      "llama_model_loader: - tensor  244:             blk.27.attn_q.weight q5_0     [  4096,  4096,     1,     1 ]\n",
      "llama_model_loader: - tensor  245:             blk.27.attn_k.weight q5_0     [  4096,  1024,     1,     1 ]\n",
      "llama_model_loader: - tensor  246:             blk.27.attn_v.weight q5_0     [  4096,  1024,     1,     1 ]\n",
      "llama_model_loader: - tensor  247:        blk.27.attn_output.weight q5_0     [  4096,  4096,     1,     1 ]\n",
      "llama_model_loader: - tensor  248:           blk.27.ffn_gate.weight q5_0     [  4096, 14336,     1,     1 ]\n",
      "llama_model_loader: - tensor  249:             blk.27.ffn_up.weight q5_0     [  4096, 14336,     1,     1 ]\n",
      "llama_model_loader: - tensor  250:           blk.27.ffn_down.weight q5_0     [ 14336,  4096,     1,     1 ]\n",
      "llama_model_loader: - tensor  251:          blk.27.attn_norm.weight f32      [  4096,     1,     1,     1 ]\n",
      "llama_model_loader: - tensor  252:           blk.27.ffn_norm.weight f32      [  4096,     1,     1,     1 ]\n",
      "llama_model_loader: - tensor  253:             blk.28.attn_q.weight q5_0     [  4096,  4096,     1,     1 ]\n",
      "llama_model_loader: - tensor  254:             blk.28.attn_k.weight q5_0     [  4096,  1024,     1,     1 ]\n",
      "llama_model_loader: - tensor  255:             blk.28.attn_v.weight q5_0     [  4096,  1024,     1,     1 ]\n",
      "llama_model_loader: - tensor  256:        blk.28.attn_output.weight q5_0     [  4096,  4096,     1,     1 ]\n",
      "llama_model_loader: - tensor  257:           blk.28.ffn_gate.weight q5_0     [  4096, 14336,     1,     1 ]\n",
      "llama_model_loader: - tensor  258:             blk.28.ffn_up.weight q5_0     [  4096, 14336,     1,     1 ]\n",
      "llama_model_loader: - tensor  259:           blk.28.ffn_down.weight q5_0     [ 14336,  4096,     1,     1 ]\n",
      "llama_model_loader: - tensor  260:          blk.28.attn_norm.weight f32      [  4096,     1,     1,     1 ]\n",
      "llama_model_loader: - tensor  261:           blk.28.ffn_norm.weight f32      [  4096,     1,     1,     1 ]\n",
      "llama_model_loader: - tensor  262:             blk.29.attn_q.weight q5_0     [  4096,  4096,     1,     1 ]\n",
      "llama_model_loader: - tensor  263:             blk.29.attn_k.weight q5_0     [  4096,  1024,     1,     1 ]\n",
      "llama_model_loader: - tensor  264:             blk.29.attn_v.weight q5_0     [  4096,  1024,     1,     1 ]\n",
      "llama_model_loader: - tensor  265:        blk.29.attn_output.weight q5_0     [  4096,  4096,     1,     1 ]\n",
      "llama_model_loader: - tensor  266:           blk.29.ffn_gate.weight q5_0     [  4096, 14336,     1,     1 ]\n",
      "llama_model_loader: - tensor  267:             blk.29.ffn_up.weight q5_0     [  4096, 14336,     1,     1 ]\n",
      "llama_model_loader: - tensor  268:           blk.29.ffn_down.weight q5_0     [ 14336,  4096,     1,     1 ]\n",
      "llama_model_loader: - tensor  269:          blk.29.attn_norm.weight f32      [  4096,     1,     1,     1 ]\n",
      "llama_model_loader: - tensor  270:           blk.29.ffn_norm.weight f32      [  4096,     1,     1,     1 ]\n",
      "llama_model_loader: - tensor  271:             blk.30.attn_q.weight q5_0     [  4096,  4096,     1,     1 ]\n",
      "llama_model_loader: - tensor  272:             blk.30.attn_k.weight q5_0     [  4096,  1024,     1,     1 ]\n",
      "llama_model_loader: - tensor  273:             blk.30.attn_v.weight q5_0     [  4096,  1024,     1,     1 ]\n",
      "llama_model_loader: - tensor  274:        blk.30.attn_output.weight q5_0     [  4096,  4096,     1,     1 ]\n",
      "llama_model_loader: - tensor  275:           blk.30.ffn_gate.weight q5_0     [  4096, 14336,     1,     1 ]\n",
      "llama_model_loader: - tensor  276:             blk.30.ffn_up.weight q5_0     [  4096, 14336,     1,     1 ]\n",
      "llama_model_loader: - tensor  277:           blk.30.ffn_down.weight q5_0     [ 14336,  4096,     1,     1 ]\n",
      "llama_model_loader: - tensor  278:          blk.30.attn_norm.weight f32      [  4096,     1,     1,     1 ]\n",
      "llama_model_loader: - tensor  279:           blk.30.ffn_norm.weight f32      [  4096,     1,     1,     1 ]\n",
      "llama_model_loader: - tensor  280:             blk.31.attn_q.weight q5_0     [  4096,  4096,     1,     1 ]\n",
      "llama_model_loader: - tensor  281:             blk.31.attn_k.weight q5_0     [  4096,  1024,     1,     1 ]\n",
      "llama_model_loader: - tensor  282:             blk.31.attn_v.weight q5_0     [  4096,  1024,     1,     1 ]\n",
      "llama_model_loader: - tensor  283:        blk.31.attn_output.weight q5_0     [  4096,  4096,     1,     1 ]\n",
      "llama_model_loader: - tensor  284:           blk.31.ffn_gate.weight q5_0     [  4096, 14336,     1,     1 ]\n",
      "llama_model_loader: - tensor  285:             blk.31.ffn_up.weight q5_0     [  4096, 14336,     1,     1 ]\n",
      "llama_model_loader: - tensor  286:           blk.31.ffn_down.weight q5_0     [ 14336,  4096,     1,     1 ]\n",
      "llama_model_loader: - tensor  287:          blk.31.attn_norm.weight f32      [  4096,     1,     1,     1 ]\n",
      "llama_model_loader: - tensor  288:           blk.31.ffn_norm.weight f32      [  4096,     1,     1,     1 ]\n",
      "llama_model_loader: - tensor  289:               output_norm.weight f32      [  4096,     1,     1,     1 ]\n",
      "llama_model_loader: - tensor  290:                    output.weight q6_K     [  4096, 32000,     1,     1 ]\n",
      "llama_model_loader: - kv   0:                       general.architecture str     \n",
      "llama_model_loader: - kv   1:                               general.name str     \n",
      "llama_model_loader: - kv   2:                       llama.context_length u32     \n",
      "llama_model_loader: - kv   3:                     llama.embedding_length u32     \n",
      "llama_model_loader: - kv   4:                          llama.block_count u32     \n",
      "llama_model_loader: - kv   5:                  llama.feed_forward_length u32     \n",
      "llama_model_loader: - kv   6:                 llama.rope.dimension_count u32     \n",
      "llama_model_loader: - kv   7:                 llama.attention.head_count u32     \n",
      "llama_model_loader: - kv   8:              llama.attention.head_count_kv u32     \n",
      "llama_model_loader: - kv   9:     llama.attention.layer_norm_rms_epsilon f32     \n",
      "llama_model_loader: - kv  10:                       llama.rope.freq_base f32     \n",
      "llama_model_loader: - kv  11:                          general.file_type u32     \n",
      "llama_model_loader: - kv  12:                       tokenizer.ggml.model str     \n",
      "llama_model_loader: - kv  13:                      tokenizer.ggml.tokens arr     \n",
      "llama_model_loader: - kv  14:                      tokenizer.ggml.scores arr     \n",
      "llama_model_loader: - kv  15:                  tokenizer.ggml.token_type arr     \n",
      "llama_model_loader: - kv  16:                tokenizer.ggml.bos_token_id u32     \n",
      "llama_model_loader: - kv  17:                tokenizer.ggml.eos_token_id u32     \n",
      "llama_model_loader: - kv  18:            tokenizer.ggml.unknown_token_id u32     \n",
      "llama_model_loader: - kv  19:               general.quantization_version u32     \n",
      "llama_model_loader: - type  f32:   65 tensors\n",
      "llama_model_loader: - type q5_0:  225 tensors\n",
      "llama_model_loader: - type q6_K:    1 tensors\n",
      "llm_load_print_meta: format         = GGUF V2 (latest)\n",
      "llm_load_print_meta: arch           = llama\n",
      "llm_load_print_meta: vocab type     = SPM\n",
      "llm_load_print_meta: n_vocab        = 32000\n",
      "llm_load_print_meta: n_merges       = 0\n",
      "llm_load_print_meta: n_ctx_train    = 32768\n",
      "llm_load_print_meta: n_ctx          = 2048\n",
      "llm_load_print_meta: n_embd         = 4096\n",
      "llm_load_print_meta: n_head         = 32\n",
      "llm_load_print_meta: n_head_kv      = 8\n",
      "llm_load_print_meta: n_layer        = 32\n",
      "llm_load_print_meta: n_rot          = 128\n",
      "llm_load_print_meta: n_gqa          = 4\n",
      "llm_load_print_meta: f_norm_eps     = 0.0e+00\n",
      "llm_load_print_meta: f_norm_rms_eps = 1.0e-05\n",
      "llm_load_print_meta: n_ff           = 14336\n",
      "llm_load_print_meta: freq_base      = 10000.0\n",
      "llm_load_print_meta: freq_scale     = 1\n",
      "llm_load_print_meta: model type     = 7B\n",
      "llm_load_print_meta: model ftype    = mostly Q5_0\n",
      "llm_load_print_meta: model params   = 7.24 B\n",
      "llm_load_print_meta: model size     = 4.65 GiB (5.52 BPW) \n",
      "llm_load_print_meta: general.name   = mistralai_mistral-7b-v0.1\n",
      "llm_load_print_meta: BOS token = 1 '<s>'\n",
      "llm_load_print_meta: EOS token = 2 '</s>'\n",
      "llm_load_print_meta: UNK token = 0 '<unk>'\n",
      "llm_load_print_meta: LF token  = 13 '<0x0A>'\n",
      "llm_load_tensors: ggml ctx size =    0.09 MB\n",
      "llm_load_tensors: using CUDA for GPU acceleration\n",
      "llm_load_tensors: mem required  =   86.03 MB (+  256.00 MB per state)\n",
      "llm_load_tensors: offloading 32 repeating layers to GPU\n",
      "llm_load_tensors: offloading non-repeating layers to GPU\n",
      "llm_load_tensors: offloading v cache to GPU\n",
      "llm_load_tensors: offloading k cache to GPU\n",
      "llm_load_tensors: offloaded 35/35 layers to GPU\n",
      "llm_load_tensors: VRAM used: 4936 MB\n",
      "..................................................................................................\n",
      "llama_new_context_with_model: kv self size  =  256.00 MB\n",
      "llama_new_context_with_model: compute buffer total size =  153.47 MB\n",
      "llama_new_context_with_model: VRAM scratch buffer: 152.00 MB\n"
     ]
    },
    {
     "name": "stdout",
     "output_type": "stream",
     "text": [
      "Testing with sentence\n",
      "      and filing\n",
      "./ner/saves/datasets/ontonote5_test_1403.pkl\n"
     ]
    },
    {
     "name": "stderr",
     "output_type": "stream",
     "text": [
      "  0%|          | 0/100 [00:00<?, ?it/s]"
     ]
    },
    {
     "name": "stdout",
     "output_type": "stream",
     "text": [
      "{'CARDINAL' : [], 'ORDINAL' : [], 'WORK_OF_ART' : [], 'PERSON' : [], 'LOC' : [], 'DATE' : [], 'PERCENT' : [], 'PRODUCT' : [], 'MONEY' : [], 'FAC' : [], 'TIME' : [], 'ORG' : [], 'QUANTITY' : [], 'LANGUAGE' : [], 'GPE' : [], 'LAW' : [], 'NORP' : [], 'EVENT' : []"
     ]
    },
    {
     "name": "stderr",
     "output_type": "stream",
     "text": [
      "  1%|          | 1/100 [00:13<22:33, 13.67s/it]"
     ]
    },
    {
     "name": "stdout",
     "output_type": "stream",
     "text": [
      "{'CARDINAL' : [], 'ORDINAL' : [], 'WORK_OF_ART' : [], 'PERSON' : [], 'LOC' : [], 'DATE' : [], 'PERCENT' : [], 'PRODUCT' : [], 'MONEY' : [], 'FAC' : [], 'TIME' : [], 'ORG' : [], 'QUANTITY' : [], 'LANGUAGE' : [], 'GPE' : [], 'LAW' : [], 'NORP' : [], 'EVENT' : []"
     ]
    },
    {
     "name": "stderr",
     "output_type": "stream",
     "text": [
      "  2%|▏         | 2/100 [00:26<21:39, 13.26s/it]"
     ]
    },
    {
     "name": "stdout",
     "output_type": "stream",
     "text": [
      "{'CARDINAL' : [], 'ORDINAL' : [], 'WORK_OF_ART' : [], 'PERSON' : [], 'LOC' : [], 'DATE' : [], 'PERCENT' : [], 'PRODUCT' : [], 'MONEY' : [], 'FAC' : [], 'TIME' : [], 'ORG' : [], 'QUANTITY' : [], 'LANGUAGE' : [], 'GPE' : [], 'LAW' : [], 'NORP' : [], 'EVENT' : []"
     ]
    },
    {
     "name": "stderr",
     "output_type": "stream",
     "text": [
      "  3%|▎         | 3/100 [00:40<21:40, 13.41s/it]"
     ]
    },
    {
     "name": "stdout",
     "output_type": "stream",
     "text": [
      "{'CARDINAL' : [], 'ORDINAL' : [], 'WORK_OF_ART' : [], 'PERSON' : [], 'LOC' : [], 'DATE' : [], 'PERCENT' : [], 'PRODUCT' : [], 'MONEY' : [], 'FAC' : [], 'TIME' : [], 'ORG' : ['the government'], 'QUANTITY' : [], 'LANGUAGE' : [], 'GPE' : [], 'LAW' : [], 'NORP' : [], 'EVENT' : []"
     ]
    },
    {
     "name": "stderr",
     "output_type": "stream",
     "text": [
      "  4%|▍         | 4/100 [00:54<22:17, 13.93s/it]"
     ]
    },
    {
     "name": "stdout",
     "output_type": "stream",
     "text": [
      "{'CARDINAL' : [], 'ORDINAL' : [], 'WORK_OF_ART' : [], 'PERSON' : [], 'LOC' : [], 'DATE' : [], 'PERCENT' : [], 'PRODUCT' : [], 'MONEY' : [], 'FAC' : [], 'TIME' : [], 'ORG' : [], 'QUANTITY' : [], 'LANGUAGE' : [], 'GPE' : [], 'LAW' : [], 'NORP' : [], 'EVENT' : ['last week']"
     ]
    },
    {
     "name": "stderr",
     "output_type": "stream",
     "text": [
      "  5%|▌         | 5/100 [01:09<22:18, 14.09s/it]"
     ]
    },
    {
     "name": "stdout",
     "output_type": "stream",
     "text": [
      "{'CARDINAL' : [], 'ORDINAL' : [], 'WORK_OF_ART' : [], 'PERSON' : [], 'LOC' : [], 'DATE' : ['this quarter'], 'PERCENT' : [], 'PRODUCT' : [], 'MONEY' : [], 'FAC' : [], 'TIME' : [], 'ORG' : [], 'QUANTITY' : [], 'LANGUAGE' : [], 'GPE' : [], 'LAW' : [], 'NORP' : [], 'EVENT' : []"
     ]
    },
    {
     "name": "stderr",
     "output_type": "stream",
     "text": [
      "  6%|▌         | 6/100 [01:23<22:06, 14.11s/it]"
     ]
    },
    {
     "name": "stdout",
     "output_type": "stream",
     "text": [
      "{'CARDINAL' : [], 'ORDINAL' : [], 'WORK_OF_ART' : [], 'PERSON' : ['Charles Colson'], 'LOC' : [], 'DATE' : [], 'PERCENT' : [], 'PRODUCT' : [], 'MONEY' : [], 'FAC' : [], 'TIME' : [], 'ORG' : [], 'QUANTITY' : [], 'LANGUAGE' : [], 'GPE' : [], 'LAW' : [], 'NORP' : [], 'EVENT' : []"
     ]
    },
    {
     "name": "stderr",
     "output_type": "stream",
     "text": [
      "  7%|▋         | 7/100 [01:37<21:46, 14.05s/it]"
     ]
    },
    {
     "name": "stdout",
     "output_type": "stream",
     "text": [
      "{'CARDINAL' : [], 'ORDINAL' : [], 'WORK_OF_ART' : [], 'PERSON' : ['Mr. Heinemann'], 'LOC' : [], 'DATE' : [], 'PERCENT' : [], 'PRODUCT' : [], 'MONEY' : [], 'FAC' : [], 'TIME' : [], 'ORG' : [], 'QUANTITY' : [], 'LANGUAGE' : [], 'GPE' : [], 'LAW' : [], 'NORP' : [], 'EVENT' : []"
     ]
    },
    {
     "name": "stderr",
     "output_type": "stream",
     "text": [
      "  8%|▊         | 8/100 [01:52<21:57, 14.32s/it]"
     ]
    },
    {
     "name": "stdout",
     "output_type": "stream",
     "text": [
      "{'CARDINAL' : ['200, 70, 180'], 'ORDINAL' : [], 'WORK_OF_ART' : [], 'PERSON' : [], 'LOC' : [], 'DATE' : [], 'PERCENT' : [], 'PRODUCT' : [], 'MONEY' : [], 'FAC' : [], 'TIME' : [], 'ORG' : [], 'QUANTITY' : [], 'LANGUAGE' : [], 'GPE' : ['Dongguan'], 'LAW' : [], 'NORP' : [], 'EVENT' : []"
     ]
    },
    {
     "name": "stderr",
     "output_type": "stream",
     "text": [
      "  9%|▉         | 9/100 [02:08<22:31, 14.85s/it]"
     ]
    },
    {
     "name": "stdout",
     "output_type": "stream",
     "text": [
      "{'CARDINAL' : [], 'ORDINAL' : [], 'WORK_OF_ART' : [], 'PERSON' : ['narrator'], 'LOC' : [], 'DATE' : [], 'PERCENT' : [], 'PRODUCT' : [], 'MONEY' : [], 'FAC' : [], 'TIME' : [], 'ORG' : [], 'QUANTITY' : [], 'LANGUAGE' : [], 'GPE' : [], 'LAW' : [], 'NORP' : [], 'EVENT' : []"
     ]
    },
    {
     "name": "stderr",
     "output_type": "stream",
     "text": [
      " 10%|█         | 10/100 [02:16<19:12, 12.81s/it]"
     ]
    },
    {
     "name": "stdout",
     "output_type": "stream",
     "text": [
      "{'CARDINAL' : [], 'ORDINAL' : [], 'WORK_OF_ART' : [], 'PERSON' : ['Christy Whitman'], 'LOC' : [], 'DATE' : [], 'PERCENT' : [], 'PRODUCT' : [], 'MONEY' : [], 'FAC' : [], 'TIME' : [], 'ORG' : [], 'QUANTITY' : [], 'LANGUAGE' : [], 'GPE' : [], 'LAW' : [], 'NORP' : [], 'EVENT' : []"
     ]
    },
    {
     "name": "stderr",
     "output_type": "stream",
     "text": [
      " 11%|█         | 11/100 [02:21<15:18, 10.32s/it]"
     ]
    },
    {
     "name": "stdout",
     "output_type": "stream",
     "text": [
      "{'CARDINAL' : [], 'ORDINAL' : [], 'WORK_OF_ART' : [], 'PERSON' : [], 'LOC' : ['Van Nuys, Oklahoma City, Pontiac'], 'DATE' : [], 'PERCENT' : [], 'PRODUCT' : [], 'MONEY' : [], 'FAC' : [], 'TIME' : [], 'ORG' : [], 'QUANTITY' : [], 'LANGUAGE' : [], 'GPE' : [], 'LAW' : [], 'NORP' : [], 'EVENT' : []"
     ]
    },
    {
     "name": "stderr",
     "output_type": "stream",
     "text": [
      " 12%|█▏        | 12/100 [02:26<13:00,  8.87s/it]"
     ]
    },
    {
     "name": "stdout",
     "output_type": "stream",
     "text": [
      "{'CARDINAL' : [], 'ORDINAL' : [], 'WORK_OF_ART' : [], 'PERSON' : [], 'LOC' : [], 'DATE' : [], 'PERCENT' : [], 'PRODUCT' : [], 'MONEY' : [], 'FAC' : [], 'TIME' : [], 'ORG' : [], 'QUANTITY' : [], 'LANGUAGE' : [], 'GPE' : [\"Shandong 's\"], 'LAW' : [], 'NORP' : [], 'EVENT' : []"
     ]
    },
    {
     "name": "stderr",
     "output_type": "stream",
     "text": [
      " 13%|█▎        | 13/100 [02:31<11:10,  7.71s/it]"
     ]
    },
    {
     "name": "stdout",
     "output_type": "stream",
     "text": [
      "{'CARDINAL' : [], 'ORDINAL' : [], 'WORK_OF_ART' : [], 'PERSON' : [], 'LOC' : [], 'DATE' : [], 'PERCENT' : [], 'PRODUCT' : [], 'MONEY' : [], 'FAC' : [], 'TIME' : [], 'ORG' : [], 'QUANTITY' : [], 'LANGUAGE' : [], 'GPE' : [], 'LAW' : [], 'NORP' : [], 'EVENT' : []"
     ]
    },
    {
     "name": "stderr",
     "output_type": "stream",
     "text": [
      " 14%|█▍        | 14/100 [02:36<09:54,  6.91s/it]"
     ]
    },
    {
     "name": "stdout",
     "output_type": "stream",
     "text": [
      "{'CARDINAL' : [], 'ORDINAL' : [], 'WORK_OF_ART' : [], 'PERSON' : [], 'LOC' : [], 'DATE' : [], 'PERCENT' : [], 'PRODUCT' : [], 'MONEY' : [], 'FAC' : [], 'TIME' : [], 'ORG' : [], 'QUANTITY' : [], 'LANGUAGE' : [], 'GPE' : [], 'LAW' : [], 'NORP' : [], 'EVENT' : []"
     ]
    },
    {
     "name": "stderr",
     "output_type": "stream",
     "text": [
      " 15%|█▌        | 15/100 [02:41<08:54,  6.29s/it]"
     ]
    },
    {
     "name": "stdout",
     "output_type": "stream",
     "text": [
      "{'CARDINAL' : [], 'ORDINAL' : [], 'WORK_OF_ART' : [], 'PERSON' : [], 'LOC' : [], 'DATE' : [], 'PERCENT' : [], 'PRODUCT' : [], 'MONEY' : [], 'FAC' : [], 'TIME' : [], 'ORG' : [], 'QUANTITY' : [], 'LANGUAGE' : [], 'GPE' : ['Linpien'], 'LAW' : [], 'NORP' : [], 'EVENT' : []"
     ]
    },
    {
     "name": "stderr",
     "output_type": "stream",
     "text": [
      " 16%|█▌        | 16/100 [02:46<08:05,  5.78s/it]"
     ]
    },
    {
     "name": "stdout",
     "output_type": "stream",
     "text": [
      "{'CARDINAL' : [], 'ORDINAL' : [], 'WORK_OF_ART' : [], 'PERSON' : [], 'LOC' : [], 'DATE' : [], 'PERCENT' : [], 'PRODUCT' : [], 'MONEY' : [], 'FAC' : [], 'TIME' : [], 'ORG' : [], 'QUANTITY' : [], 'LANGUAGE' : [], 'GPE' : [], 'LAW' : [], 'NORP' : [], 'EVENT' : []"
     ]
    },
    {
     "name": "stderr",
     "output_type": "stream",
     "text": [
      " 17%|█▋        | 17/100 [02:50<07:23,  5.34s/it]"
     ]
    },
    {
     "name": "stdout",
     "output_type": "stream",
     "text": [
      "{'CARDINAL' : [], 'ORDINAL' : [], 'WORK_OF_ART' : [], 'PERSON' : [], 'LOC' : [], 'DATE' : ['last month'], 'PERCENT' : ['0.9 %'], 'PRODUCT' : [], 'MONEY' : [], 'FAC' : [], 'TIME' : [], 'ORG' : [], 'QUANTITY' : [], 'LANGUAGE' : [], 'GPE' : [], 'LAW' : [], 'NORP' : [], 'EVENT' : []"
     ]
    },
    {
     "name": "stderr",
     "output_type": "stream",
     "text": [
      " 18%|█▊        | 18/100 [02:55<07:14,  5.30s/it]"
     ]
    },
    {
     "name": "stdout",
     "output_type": "stream",
     "text": [
      "{'CARDINAL' : ['218'], 'ORDINAL' : [], 'WORK_OF_ART' : [], 'PERSON' : [], 'LOC' : [], 'DATE' : [], 'PERCENT' : [], 'PRODUCT' : [], 'MONEY' : [], 'FAC' : [], 'TIME' : [], 'ORG' : [], 'QUANTITY' : [], 'LANGUAGE' : [], 'GPE' : ['Shanghai'], 'LAW' : [], 'NORP' : [], 'EVENT' : []"
     ]
    },
    {
     "name": "stderr",
     "output_type": "stream",
     "text": [
      " 19%|█▉        | 19/100 [03:00<07:03,  5.22s/it]"
     ]
    },
    {
     "name": "stdout",
     "output_type": "stream",
     "text": [
      "{'CARDINAL' : [], 'ORDINAL' : [], 'WORK_OF_ART' : [], 'PERSON' : [\"Scooter Libby\"], 'LOC' : [], 'DATE' : [], 'PERCENT' : [], 'PRODUCT' : [], 'MONEY' : [], 'FAC' : [], 'TIME' : [], 'ORG' : [], 'QUANTITY' : [], 'LANGUAGE' : [], 'GPE' : [], 'LAW' : [], 'NORP' : [], 'EVENT' : []"
     ]
    },
    {
     "name": "stderr",
     "output_type": "stream",
     "text": [
      " 20%|██        | 20/100 [03:05<06:39,  5.00s/it]"
     ]
    },
    {
     "name": "stdout",
     "output_type": "stream",
     "text": [
      "{'CARDINAL' : [], 'ORDINAL' : [], 'WORK_OF_ART' : [], 'PERSON' : [], 'LOC' : [], 'DATE' : [], 'PERCENT' : [], 'PRODUCT' : [], 'MONEY' : [], 'FAC' : [], 'TIME' : [], 'ORG' : [], 'QUANTITY' : [], 'LANGUAGE' : [], 'GPE' : [], 'LAW' : [], 'NORP' : [], 'EVENT' : []"
     ]
    },
    {
     "name": "stderr",
     "output_type": "stream",
     "text": [
      " 21%|██        | 21/100 [03:09<06:21,  4.82s/it]"
     ]
    },
    {
     "name": "stdout",
     "output_type": "stream",
     "text": [
      "{'CARDINAL' : [], 'ORDINAL' : [], 'WORK_OF_ART' : [], 'PERSON' : [], 'LOC' : [], 'DATE' : [], 'PERCENT' : [], 'PRODUCT' : [], 'MONEY' : [], 'FAC' : [], 'TIME' : [], 'ORG' : ['Royal Trustco Ltd. , Pacific Savings Bank'], 'QUANTITY' : [], 'LANGUAGE' : [], 'GPE' : [], 'LAW' : [], 'NORP' : [], 'EVENT' : []"
     ]
    },
    {
     "name": "stderr",
     "output_type": "stream",
     "text": [
      " 22%|██▏       | 22/100 [03:15<06:41,  5.15s/it]"
     ]
    },
    {
     "name": "stdout",
     "output_type": "stream",
     "text": [
      "{'CARDINAL' : [], 'ORDINAL' : [], 'WORK_OF_ART' : [], 'PERSON' : [], 'LOC' : [], 'DATE' : ['recently', 'the previous year'], 'PERCENT' : ['18.85 %', '15 %', '22.7 %'], 'PRODUCT' : [], 'MONEY' : ['220.178 billion US dollars', '110.380 billion US dollars', '109.798 billion US dollars'], 'FAC' : [], 'TIME' : [], 'ORG' : ['Mexico 's Treasury Department'], 'QUANTITY' : [], 'LANGUAGE' : [], 'GPE' : ['Mexico'], 'LAW' : [], 'NORP' : [], 'EVENT' : []"
     ]
    },
    {
     "name": "stderr",
     "output_type": "stream",
     "text": [
      " 23%|██▎       | 23/100 [03:23<07:34,  5.91s/it]"
     ]
    },
    {
     "name": "stdout",
     "output_type": "stream",
     "text": [
      "{'CARDINAL' : [], 'ORDINAL' : [], 'WORK_OF_ART' : [], 'PERSON' : [], 'LOC' : [], 'DATE' : ['a month'], 'PERCENT' : [], 'PRODUCT' : [], 'MONEY' : [], 'FAC' : [], 'TIME' : [], 'ORG' : [], 'QUANTITY' : [], 'LANGUAGE' : [], 'GPE' : [], 'LAW' : [], 'NORP' : [], 'EVENT' : []"
     ]
    },
    {
     "name": "stderr",
     "output_type": "stream",
     "text": [
      " 24%|██▍       | 24/100 [03:28<07:07,  5.63s/it]"
     ]
    },
    {
     "name": "stdout",
     "output_type": "stream",
     "text": [
      "{'CARDINAL' : [], 'ORDINAL' : [], 'WORK_OF_ART' : [], 'PERSON' : [], 'LOC' : [], 'DATE' : [], 'PERCENT' : ['50 percent'], 'PRODUCT' : [], 'MONEY' : [], 'FAC' : [], 'TIME' : [], 'ORG' : [], 'QUANTITY' : [], 'LANGUAGE' : [], 'GPE' : [], 'LAW' : [], 'NORP' : [], 'EVENT' : []"
     ]
    },
    {
     "name": "stderr",
     "output_type": "stream",
     "text": [
      " 25%|██▌       | 25/100 [03:33<06:47,  5.44s/it]"
     ]
    },
    {
     "name": "stdout",
     "output_type": "stream",
     "text": [
      "{'CARDINAL' : [], 'ORDINAL' : [], 'WORK_OF_ART' : [], 'PERSON' : [], 'LOC' : [], 'DATE' : ['January to November'], 'PERCENT' : [], 'PRODUCT' : [], 'MONEY' : ['2.8 billion US dollars'], 'FAC' : [], 'TIME' : [], 'ORG' : [], 'QUANTITY' : [], 'LANGUAGE' : [], 'GPE' : ['Pudong region'], 'LAW' : [], 'NORP' : [], 'EVENT' : []"
     ]
    },
    {
     "name": "stderr",
     "output_type": "stream",
     "text": [
      " 26%|██▌       | 26/100 [03:39<06:55,  5.61s/it]"
     ]
    },
    {
     "name": "stdout",
     "output_type": "stream",
     "text": [
      "{'CARDINAL' : [], 'ORDINAL' : [], 'WORK_OF_ART' : [], 'PERSON' : [], 'LOC' : [], 'DATE' : [], 'PERCENT' : [], 'PRODUCT' : [], 'MONEY' : [], 'FAC' : [], 'TIME' : [], 'ORG' : [], 'QUANTITY' : [], 'LANGUAGE' : [], 'GPE' : [], 'LAW' : [], 'NORP' : [], 'EVENT' : []"
     ]
    },
    {
     "name": "stderr",
     "output_type": "stream",
     "text": [
      " 27%|██▋       | 27/100 [03:44<06:33,  5.39s/it]"
     ]
    },
    {
     "name": "stdout",
     "output_type": "stream",
     "text": [
      "{'CARDINAL' : [], 'ORDINAL' : [], 'WORK_OF_ART' : [], 'PERSON' : [], 'LOC' : [], 'DATE' : [], 'PERCENT' : [], 'PRODUCT' : [], 'MONEY' : [], 'FAC' : [], 'TIME' : [], 'ORG' : [], 'QUANTITY' : [], 'LANGUAGE' : [], 'GPE' : [], 'LAW' : [], 'NORP' : [], 'EVENT' : []"
     ]
    },
    {
     "name": "stderr",
     "output_type": "stream",
     "text": [
      " 28%|██▊       | 28/100 [03:49<06:18,  5.26s/it]"
     ]
    },
    {
     "name": "stdout",
     "output_type": "stream",
     "text": [
      "{'CARDINAL' : [], 'ORDINAL' : [], 'WORK_OF_ART' : [], 'PERSON' : ['Young & Rubicam Inc.'], 'LOC' : [], 'DATE' : [], 'PERCENT' : [], 'PRODUCT' : [], 'MONEY' : [], 'FAC' : [], 'TIME' : [], 'ORG' : [], 'QUANTITY' : [], 'LANGUAGE' : [], 'GPE' : [], 'LAW' : [], 'NORP' : [], 'EVENT' : []"
     ]
    },
    {
     "name": "stderr",
     "output_type": "stream",
     "text": [
      " 29%|██▉       | 29/100 [03:54<06:12,  5.25s/it]"
     ]
    },
    {
     "name": "stdout",
     "output_type": "stream",
     "text": [
      "{'CARDINAL' : [], 'ORDINAL' : [], 'WORK_OF_ART' : [], 'PERSON' : ['Tsao Chi - hung'], 'LOC' : [], 'DATE' : [], 'PERCENT' : [], 'PRODUCT' : [], 'MONEY' : [], 'FAC' : [], 'TIME' : [], 'ORG' : ['the Linpien Residents ' Democracy Association'], 'QUANTITY' : [], 'LANGUAGE' : [], 'GPE' : [], 'LAW' : [], 'NORP' : [], 'EVENT' : []"
     ]
    },
    {
     "name": "stderr",
     "output_type": "stream",
     "text": [
      " 30%|███       | 30/100 [03:59<06:12,  5.32s/it]"
     ]
    },
    {
     "name": "stdout",
     "output_type": "stream",
     "text": [
      "{'CARDINAL' : [], 'ORDINAL' : [], 'WORK_OF_ART' : [], 'PERSON' : [], 'LOC' : [], 'DATE' : ['August 23rd'], 'PERCENT' : [], 'PRODUCT' : [], 'MONEY' : [], 'FAC' : [], 'TIME' : [], 'ORG' : [], 'QUANTITY' : [], 'LANGUAGE' : [], 'GPE' : [], 'LAW' : [], 'NORP' : [], 'EVENT' : []"
     ]
    },
    {
     "name": "stderr",
     "output_type": "stream",
     "text": [
      " 31%|███       | 31/100 [04:05<06:03,  5.27s/it]"
     ]
    },
    {
     "name": "stdout",
     "output_type": "stream",
     "text": [
      "{'CARDINAL' : ['850 million US dollars, 700 million US dollars'], 'ORDINAL' : [], 'WORK_OF_ART' : [], 'PERSON' : [], 'LOC' : [], 'DATE' : ['last year'], 'PERCENT' : [], 'PRODUCT' : [], 'MONEY' : [], 'FAC' : [], 'TIME' : [], 'ORG' : [], 'QUANTITY' : [], 'LANGUAGE' : [], 'GPE' : [], 'LAW' : [], 'NORP' : [], 'EVENT' : []"
     ]
    },
    {
     "name": "stderr",
     "output_type": "stream",
     "text": [
      " 32%|███▏      | 32/100 [04:10<06:07,  5.41s/it]"
     ]
    },
    {
     "name": "stdout",
     "output_type": "stream",
     "text": [
      "{'CARDINAL' : [], 'ORDINAL' : [], 'WORK_OF_ART' : [], 'PERSON' : [], 'LOC' : [], 'DATE' : [], 'PERCENT' : [], 'PRODUCT' : [], 'MONEY' : [], 'FAC' : [], 'TIME' : [], 'ORG' : [], 'QUANTITY' : [], 'LANGUAGE' : [], 'GPE' : [], 'LAW' : [], 'NORP' : [], 'EVENT' : []"
     ]
    },
    {
     "name": "stderr",
     "output_type": "stream",
     "text": [
      " 33%|███▎      | 33/100 [04:15<05:40,  5.09s/it]"
     ]
    },
    {
     "name": "stdout",
     "output_type": "stream",
     "text": [
      "{'CARDINAL' : ['$ 6 million'], 'ORDINAL' : [], 'WORK_OF_ART' : [], 'PERSON' : [], 'LOC' : [], 'DATE' : [], 'PERCENT' : [], 'PRODUCT' : [], 'MONEY' : [], 'FAC' : [], 'TIME' : [], 'ORG' : [], 'QUANTITY' : [], 'LANGUAGE' : [], 'GPE' : [], 'LAW' : [], 'NORP' : [], 'EVENT' : []"
     ]
    },
    {
     "name": "stderr",
     "output_type": "stream",
     "text": [
      " 34%|███▍      | 34/100 [04:19<05:27,  4.96s/it]"
     ]
    },
    {
     "name": "stdout",
     "output_type": "stream",
     "text": [
      "{'CARDINAL' : [], 'ORDINAL' : [], 'WORK_OF_ART' : [], 'PERSON' : [], 'LOC' : [], 'DATE' : [], 'PERCENT' : [], 'PRODUCT' : [], 'MONEY' : [], 'FAC' : [], 'TIME' : [], 'ORG' : [], 'QUANTITY' : [], 'LANGUAGE' : [], 'GPE' : [], 'LAW' : [], 'NORP' : [], 'EVENT' : []"
     ]
    },
    {
     "name": "stderr",
     "output_type": "stream",
     "text": [
      " 35%|███▌      | 35/100 [04:24<05:26,  5.03s/it]"
     ]
    },
    {
     "name": "stdout",
     "output_type": "stream",
     "text": [
      "{'CARDINAL' : [], 'ORDINAL' : [], 'WORK_OF_ART' : [], 'PERSON' : [], 'LOC' : [], 'DATE' : [], 'PERCENT' : [], 'PRODUCT' : [], 'MONEY' : [], 'FAC' : [], 'TIME' : [], 'ORG' : ['Oklahoma City'], 'QUANTITY' : [], 'LANGUAGE' : [], 'GPE' : [], 'LAW' : [], 'NORP' : [], 'EVENT' : []"
     ]
    },
    {
     "name": "stderr",
     "output_type": "stream",
     "text": [
      " 36%|███▌      | 36/100 [04:30<05:25,  5.08s/it]"
     ]
    },
    {
     "name": "stdout",
     "output_type": "stream",
     "text": [
      "{'CARDINAL' : [], 'ORDINAL' : [], 'WORK_OF_ART' : [], 'PERSON' : [], 'LOC' : [], 'DATE' : [], 'PERCENT' : [], 'PRODUCT' : [], 'MONEY' : [], 'FAC' : [], 'TIME' : [], 'ORG' : [], 'QUANTITY' : [], 'LANGUAGE' : [], 'GPE' : [], 'LAW' : [], 'NORP' : [], 'EVENT' : []"
     ]
    },
    {
     "name": "stderr",
     "output_type": "stream",
     "text": [
      " 37%|███▋      | 37/100 [04:35<05:27,  5.19s/it]"
     ]
    },
    {
     "name": "stdout",
     "output_type": "stream",
     "text": [
      "{'CARDINAL' : [], 'ORDINAL' : [], 'WORK_OF_ART' : [], 'PERSON' : ['Li Yung - kun'], 'LOC' : [], 'DATE' : [], 'PERCENT' : [], 'PRODUCT' : [], 'MONEY' : [], 'FAC' : [], 'TIME' : [], 'ORG' : [], 'QUANTITY' : [], 'LANGUAGE' : [], 'GPE' : ['Tanshui'], 'LAW' : [], 'NORP' : [], 'EVENT' : []"
     ]
    },
    {
     "name": "stderr",
     "output_type": "stream",
     "text": [
      " 38%|███▊      | 38/100 [04:41<05:26,  5.27s/it]"
     ]
    },
    {
     "name": "stdout",
     "output_type": "stream",
     "text": [
      "{'CARDINAL' : [], 'ORDINAL' : [], 'WORK_OF_ART' : [], 'PERSON' : [], 'LOC' : [], 'DATE' : [], 'PERCENT' : [], 'PRODUCT' : [], 'MONEY' : ['$ 1.34'], 'FAC' : [], 'TIME' : [], 'ORG' : [], 'QUANTITY' : [], 'LANGUAGE' : [], 'GPE' : [], 'LAW' : [], 'NORP' : [], 'EVENT' : []"
     ]
    },
    {
     "name": "stderr",
     "output_type": "stream",
     "text": [
      " 39%|███▉      | 39/100 [04:46<05:19,  5.25s/it]"
     ]
    },
    {
     "name": "stdout",
     "output_type": "stream",
     "text": [
      "{'CARDINAL' : [], 'ORDINAL' : [], 'WORK_OF_ART' : [], 'PERSON' : [], 'LOC' : [], 'DATE' : [], 'PERCENT' : [], 'PRODUCT' : [], 'MONEY' : [], 'FAC' : [], 'TIME' : [], 'ORG' : [], 'QUANTITY' : [], 'LANGUAGE' : [], 'GPE' : [], 'LAW' : [], 'NORP' : [], 'EVENT' : []"
     ]
    },
    {
     "name": "stderr",
     "output_type": "stream",
     "text": [
      " 40%|████      | 40/100 [04:50<05:00,  5.00s/it]"
     ]
    },
    {
     "name": "stdout",
     "output_type": "stream",
     "text": [
      "{'CARDINAL' : [], 'ORDINAL' : [], 'WORK_OF_ART' : [], 'PERSON' : [], 'LOC' : [], 'DATE' : [], 'PERCENT' : [], 'PRODUCT' : [], 'MONEY' : [], 'FAC' : [], 'TIME' : [], 'ORG' : [], 'QUANTITY' : [], 'LANGUAGE' : [], 'GPE' : [], 'LAW' : [], 'NORP' : [], 'EVENT' : []"
     ]
    },
    {
     "name": "stderr",
     "output_type": "stream",
     "text": [
      " 41%|████      | 41/100 [04:55<04:45,  4.84s/it]"
     ]
    },
    {
     "name": "stdout",
     "output_type": "stream",
     "text": [
      "{'CARDINAL' : [], 'ORDINAL' : [], 'WORK_OF_ART' : [], 'PERSON' : [], 'LOC' : [], 'DATE' : [], 'PERCENT' : [], 'PRODUCT' : [], 'MONEY' : [], 'FAC' : [], 'TIME' : [], 'ORG' : [], 'QUANTITY' : [], 'LANGUAGE' : [], 'GPE' : [], 'LAW' : [], 'NORP' : [], 'EVENT' : []"
     ]
    },
    {
     "name": "stderr",
     "output_type": "stream",
     "text": [
      " 42%|████▏     | 42/100 [05:00<04:52,  5.04s/it]"
     ]
    },
    {
     "name": "stdout",
     "output_type": "stream",
     "text": [
      "{'CARDINAL' : [], 'ORDINAL' : [], 'WORK_OF_ART' : [], 'PERSON' : [], 'LOC' : [], 'DATE' : [], 'PERCENT' : [], 'PRODUCT' : [], 'MONEY' : [], 'FAC' : [], 'TIME' : [], 'ORG' : [], 'QUANTITY' : [], 'LANGUAGE' : [], 'GPE' : ['2,520 square kilometers'], 'LAW' : [], 'NORP' : [], 'EVENT' : []"
     ]
    },
    {
     "name": "stderr",
     "output_type": "stream",
     "text": [
      " 43%|████▎     | 43/100 [05:06<04:52,  5.14s/it]"
     ]
    },
    {
     "name": "stdout",
     "output_type": "stream",
     "text": [
      "{'CARDINAL' : [], 'ORDINAL' : [], 'WORK_OF_ART' : [], 'PERSON' : [], 'LOC' : [], 'DATE' : [], 'PERCENT' : [], 'PRODUCT' : [], 'MONEY' : [], 'FAC' : [], 'TIME' : [], 'ORG' : [], 'QUANTITY' : [], 'LANGUAGE' : [], 'GPE' : [], 'LAW' : [], 'NORP' : [], 'EVENT' : []"
     ]
    },
    {
     "name": "stderr",
     "output_type": "stream",
     "text": [
      " 44%|████▍     | 44/100 [05:10<04:42,  5.05s/it]"
     ]
    },
    {
     "name": "stdout",
     "output_type": "stream",
     "text": [
      "{'CARDINAL' : [], 'ORDINAL' : [], 'WORK_OF_ART' : [], 'PERSON' : ['David Williams'], 'LOC' : [], 'DATE' : [], 'PERCENT' : [], 'PRODUCT' : [], 'MONEY' : [], 'FAC' : [], 'TIME' : [], 'ORG' : [], 'QUANTITY' : [], 'LANGUAGE' : [], 'GPE' : [], 'LAW' : [], 'NORP' : [], 'EVENT' : []"
     ]
    },
    {
     "name": "stderr",
     "output_type": "stream",
     "text": [
      " 45%|████▌     | 45/100 [05:15<04:30,  4.92s/it]"
     ]
    },
    {
     "name": "stdout",
     "output_type": "stream",
     "text": [
      "{'CARDINAL' : [], 'ORDINAL' : [], 'WORK_OF_ART' : [], 'PERSON' : ['Arianna Huffington, Judy Miller, Jill Abrahamson'], 'LOC' : [], 'DATE' : [], 'PERCENT' : [], 'PRODUCT' : [], 'MONEY' : [], 'FAC' : [], 'TIME' : ['this uh story on Valerie Plame two years ago'], 'ORG' : [], 'QUANTITY' : [], 'LANGUAGE' : [], 'GPE' : [], 'LAW' : [], 'NORP' : [], 'EVENT' : []"
     ]
    },
    {
     "name": "stderr",
     "output_type": "stream",
     "text": [
      " 46%|████▌     | 46/100 [05:21<04:34,  5.09s/it]"
     ]
    },
    {
     "name": "stdout",
     "output_type": "stream",
     "text": [
      "{'CARDINAL' : [], 'ORDINAL' : [], 'WORK_OF_ART' : [], 'PERSON' : ['He'], 'LOC' : [], 'DATE' : [], 'PERCENT' : [], 'PRODUCT' : [], 'MONEY' : [], 'FAC' : [], 'TIME' : [], 'ORG' : [], 'QUANTITY' : [], 'LANGUAGE' : [], 'GPE' : [], 'LAW' : [], 'NORP' : [], 'EVENT' : []"
     ]
    },
    {
     "name": "stderr",
     "output_type": "stream",
     "text": [
      " 47%|████▋     | 47/100 [05:25<04:22,  4.94s/it]"
     ]
    },
    {
     "name": "stdout",
     "output_type": "stream",
     "text": [
      "{'CARDINAL' : [], 'ORDINAL' : [], 'WORK_OF_ART' : [], 'PERSON' : [], 'LOC' : [], 'DATE' : ['last week'], 'PERCENT' : [], 'PRODUCT' : [], 'MONEY' : [], 'FAC' : [], 'TIME' : [], 'ORG' : [\"Time Warner Inc. 's\"], 'QUANTITY' : [], 'LANGUAGE' : [], 'GPE' : [], 'LAW' : [], 'NORP' : [], 'EVENT' : []"
     ]
    },
    {
     "name": "stderr",
     "output_type": "stream",
     "text": [
      " 48%|████▊     | 48/100 [05:30<04:22,  5.04s/it]"
     ]
    },
    {
     "name": "stdout",
     "output_type": "stream",
     "text": [
      "{'CARDINAL' : [], 'ORDINAL' : [], 'WORK_OF_ART' : [], 'PERSON' : ['Brown'], 'LOC' : [], 'DATE' : [], 'PERCENT' : [], 'PRODUCT' : [], 'MONEY' : [], 'FAC' : [], 'TIME' : ['Today'], 'ORG' : ['the US 's Westinghouse Company, the Shanghai Electric Group, the US 's General Electric Capital Company, the Shanghai Electricity Company'], 'QUANTITY' : [], 'LANGUAGE' : [], 'GPE' : ['US'], 'LAW' : [], 'NORP' : [], 'EVENT' : []"
     ]
    },
    {
     "name": "stderr",
     "output_type": "stream",
     "text": [
      " 49%|████▉     | 49/100 [05:37<04:43,  5.55s/it]"
     ]
    },
    {
     "name": "stdout",
     "output_type": "stream",
     "text": [
      "{'CARDINAL' : [], 'ORDINAL' : [], 'WORK_OF_ART' : [], 'PERSON' : [], 'LOC' : [], 'DATE' : [], 'PERCENT' : [], 'PRODUCT' : [\"the `` USS Cole ''\"], 'MONEY' : [], 'FAC' : [], 'TIME' : [], 'ORG' : [], 'QUANTITY' : [], 'LANGUAGE' : [], 'GPE' : ['Yemen'], 'LAW' : [], 'NORP' : [], 'EVENT' : []"
     ]
    },
    {
     "name": "stderr",
     "output_type": "stream",
     "text": [
      " 50%|█████     | 50/100 [05:42<04:26,  5.32s/it]"
     ]
    },
    {
     "name": "stdout",
     "output_type": "stream",
     "text": [
      "{'CARDINAL' : [], 'ORDINAL' : [], 'WORK_OF_ART' : [], 'PERSON' : [], 'LOC' : [], 'DATE' : [], 'PERCENT' : [], 'PRODUCT' : [], 'MONEY' : [], 'FAC' : [], 'TIME' : [], 'ORG' : ['Export credits , international financing leaseholds , compensation trades with foreign exchange repayment methods , overseas institution 's and individual 's foreign exchange deposits -LRB- excluding foreign exchange deposits in banks approved for offshore operations -RRB- , project financing , financing under trade projects over 90 days and other forms of foreign exchange loans will all be treated and managed as international commercial loans .'], 'QUANTITY' : [], 'LANGUAGE' : [], 'GPE' : [], 'LAW' : [], 'NORP' : [], 'EVENT' : []"
     ]
    },
    {
     "name": "stderr",
     "output_type": "stream",
     "text": [
      " 51%|█████     | 51/100 [05:50<04:56,  6.05s/it]"
     ]
    },
    {
     "name": "stdout",
     "output_type": "stream",
     "text": [
      "{'CARDINAL' : [], 'ORDINAL' : [], 'WORK_OF_ART' : [], 'PERSON' : [], 'LOC' : [], 'DATE' : [], 'PERCENT' : [], 'PRODUCT' : [], 'MONEY' : [], 'FAC' : [], 'TIME' : [], 'ORG' : [], 'QUANTITY' : [], 'LANGUAGE' : [], 'GPE' : [], 'LAW' : [], 'NORP' : [], 'EVENT' : []"
     ]
    },
    {
     "name": "stderr",
     "output_type": "stream",
     "text": [
      " 52%|█████▏    | 52/100 [05:55<04:34,  5.72s/it]"
     ]
    },
    {
     "name": "stdout",
     "output_type": "stream",
     "text": [
      "{'CARDINAL' : [], 'ORDINAL' : [], 'WORK_OF_ART' : [], 'PERSON' : ['Rod Perth'], 'LOC' : [], 'DATE' : [], 'PERCENT' : [], 'PRODUCT' : [], 'MONEY' : [], 'FAC' : [], 'TIME' : [], 'ORG' : [], 'QUANTITY' : [], 'LANGUAGE' : [], 'GPE' : [], 'LAW' : [], 'NORP' : [], 'EVENT' : []"
     ]
    },
    {
     "name": "stderr",
     "output_type": "stream",
     "text": [
      " 53%|█████▎    | 53/100 [06:00<04:18,  5.51s/it]"
     ]
    },
    {
     "name": "stdout",
     "output_type": "stream",
     "text": [
      "{'CARDINAL' : [], 'ORDINAL' : [], 'WORK_OF_ART' : [], 'PERSON' : [], 'LOC' : [], 'DATE' : [], 'PERCENT' : [], 'PRODUCT' : [], 'MONEY' : [], 'FAC' : [], 'TIME' : [], 'ORG' : [], 'QUANTITY' : [], 'LANGUAGE' : [], 'GPE' : [], 'LAW' : [], 'NORP' : [], 'EVENT' : []"
     ]
    },
    {
     "name": "stderr",
     "output_type": "stream",
     "text": [
      " 54%|█████▍    | 54/100 [06:04<03:56,  5.15s/it]"
     ]
    },
    {
     "name": "stdout",
     "output_type": "stream",
     "text": [
      "{'CARDINAL' : [], 'ORDINAL' : [], 'WORK_OF_ART' : [], 'PERSON' : [], 'LOC' : [], 'DATE' : [], 'PERCENT' : [], 'PRODUCT' : [], 'MONEY' : [], 'FAC' : [], 'TIME' : [], 'ORG' : [], 'QUANTITY' : [], 'LANGUAGE' : [], 'GPE' : [], 'LAW' : [], 'NORP' : [], 'EVENT' : []"
     ]
    },
    {
     "name": "stderr",
     "output_type": "stream",
     "text": [
      " 55%|█████▌    | 55/100 [06:09<03:49,  5.11s/it]"
     ]
    },
    {
     "name": "stdout",
     "output_type": "stream",
     "text": [
      "{'CARDINAL' : [], 'ORDINAL' : [], 'WORK_OF_ART' : [], 'PERSON' : ['General Sanholi'], 'LOC' : [], 'DATE' : [], 'PERCENT' : [], 'PRODUCT' : [], 'MONEY' : [], 'FAC' : [], 'TIME' : [], 'ORG' : [], 'QUANTITY' : [], 'LANGUAGE' : [], 'GPE' : [], 'LAW' : [], 'NORP' : [], 'EVENT' : []"
     ]
    },
    {
     "name": "stderr",
     "output_type": "stream",
     "text": [
      " 56%|█████▌    | 56/100 [06:14<03:46,  5.14s/it]"
     ]
    },
    {
     "name": "stdout",
     "output_type": "stream",
     "text": [
      "{'CARDINAL' : [], 'ORDINAL' : [], 'WORK_OF_ART' : [], 'PERSON' : [], 'LOC' : ['the Great Plains'], 'DATE' : [], 'PERCENT' : [], 'PRODUCT' : [], 'MONEY' : [], 'FAC' : [], 'TIME' : [], 'ORG' : [], 'QUANTITY' : [], 'LANGUAGE' : [], 'GPE' : [], 'LAW' : [], 'NORP' : [], 'EVENT' : []"
     ]
    },
    {
     "name": "stderr",
     "output_type": "stream",
     "text": [
      " 57%|█████▋    | 57/100 [06:20<03:45,  5.25s/it]"
     ]
    },
    {
     "name": "stdout",
     "output_type": "stream",
     "text": [
      "{'CARDINAL' : [], 'ORDINAL' : [], 'WORK_OF_ART' : [], 'PERSON' : ['He'], 'LOC' : [], 'DATE' : [], 'PERCENT' : [], 'PRODUCT' : [], 'MONEY' : [], 'FAC' : [], 'TIME' : [], 'ORG' : [], 'QUANTITY' : [], 'LANGUAGE' : [], 'GPE' : [], 'LAW' : [], 'NORP' : [], 'EVENT' : []"
     ]
    },
    {
     "name": "stderr",
     "output_type": "stream",
     "text": [
      " 58%|█████▊    | 58/100 [06:25<03:37,  5.18s/it]"
     ]
    },
    {
     "name": "stdout",
     "output_type": "stream",
     "text": [
      "{'CARDINAL' : ['China 's'], 'ORDINAL' : [], 'WORK_OF_ART' : [], 'PERSON' : [], 'LOC' : [], 'DATE' : [], 'PERCENT' : [], 'PRODUCT' : [], 'MONEY' : [], 'FAC' : [], 'TIME' : [], 'ORG' : [], 'QUANTITY' : [], 'LANGUAGE' : [], 'GPE' : ['China'], 'LAW' : [], 'NORP' : [], 'EVENT' : []"
     ]
    },
    {
     "name": "stderr",
     "output_type": "stream",
     "text": [
      " 59%|█████▉    | 59/100 [06:30<03:31,  5.17s/it]"
     ]
    },
    {
     "name": "stdout",
     "output_type": "stream",
     "text": [
      "{'CARDINAL' : ['more than 50'], 'ORDINAL' : [], 'WORK_OF_ART' : [], 'PERSON' : [], 'LOC' : [], 'DATE' : ['the past two years'], 'PERCENT' : [], 'PRODUCT' : [], 'MONEY' : [], 'FAC' : [], 'TIME' : [], 'ORG' : [], 'QUANTITY' : [], 'LANGUAGE' : [], 'GPE' : [], 'LAW' : [], 'NORP' : [], 'EVENT' : []"
     ]
    },
    {
     "name": "stderr",
     "output_type": "stream",
     "text": [
      " 60%|██████    | 60/100 [06:35<03:24,  5.11s/it]"
     ]
    },
    {
     "name": "stdout",
     "output_type": "stream",
     "text": [
      "{'CARDINAL' : [], 'ORDINAL' : [], 'WORK_OF_ART' : [], 'PERSON' : ['he'], 'LOC' : [], 'DATE' : ['the last two years'], 'PERCENT' : [], 'PRODUCT' : [], 'MONEY' : [], 'FAC' : [], 'TIME' : [], 'ORG' : [], 'QUANTITY' : [], 'LANGUAGE' : [], 'GPE' : [], 'LAW' : [], 'NORP' : [], 'EVENT' : []"
     ]
    },
    {
     "name": "stderr",
     "output_type": "stream",
     "text": [
      " 61%|██████    | 61/100 [06:40<03:19,  5.12s/it]"
     ]
    },
    {
     "name": "stdout",
     "output_type": "stream",
     "text": [
      "{'CARDINAL' : [], 'ORDINAL' : [], 'WORK_OF_ART' : [], 'PERSON' : ['Lee Yuan - tseh'], 'LOC' : [], 'DATE' : ['November'], 'PERCENT' : [], 'PRODUCT' : [], 'MONEY' : [], 'FAC' : [], 'TIME' : [], 'ORG' : [], 'QUANTITY' : [], 'LANGUAGE' : [], 'GPE' : ['Taiwan'], 'LAW' : [], 'NORP' : [], 'EVENT' : []"
     ]
    },
    {
     "name": "stderr",
     "output_type": "stream",
     "text": [
      " 62%|██████▏   | 62/100 [06:45<03:18,  5.23s/it]"
     ]
    },
    {
     "name": "stdout",
     "output_type": "stream",
     "text": [
      "{'CARDINAL' : [], 'ORDINAL' : [], 'WORK_OF_ART' : [], 'PERSON' : ['dancer'], 'LOC' : [], 'DATE' : [], 'PERCENT' : [], 'PRODUCT' : [], 'MONEY' : [], 'FAC' : [], 'TIME' : [], 'ORG' : [], 'QUANTITY' : [], 'LANGUAGE' : [], 'GPE' : [], 'LAW' : [], 'NORP' : [], 'EVENT' : []"
     ]
    },
    {
     "name": "stderr",
     "output_type": "stream",
     "text": [
      " 63%|██████▎   | 63/100 [06:51<03:19,  5.39s/it]"
     ]
    },
    {
     "name": "stdout",
     "output_type": "stream",
     "text": [
      "{'CARDINAL' : [], 'ORDINAL' : [], 'WORK_OF_ART' : [], 'PERSON' : [], 'LOC' : [], 'DATE' : [], 'PERCENT' : [], 'PRODUCT' : [], 'MONEY' : [], 'FAC' : [], 'TIME' : [], 'ORG' : [], 'QUANTITY' : [], 'LANGUAGE' : [], 'GPE' : [], 'LAW' : [], 'NORP' : [], 'EVENT' : []"
     ]
    },
    {
     "name": "stderr",
     "output_type": "stream",
     "text": [
      " 64%|██████▍   | 64/100 [06:56<03:08,  5.24s/it]"
     ]
    },
    {
     "name": "stdout",
     "output_type": "stream",
     "text": [
      "{'CARDINAL' : ['3,000'], 'ORDINAL' : [], 'WORK_OF_ART' : [], 'PERSON' : [], 'LOC' : [], 'DATE' : [], 'PERCENT' : [], 'PRODUCT' : [], 'MONEY' : [], 'FAC' : [], 'TIME' : [], 'ORG' : [], 'QUANTITY' : [], 'LANGUAGE' : [], 'GPE' : ['Taiwan'], 'LAW' : [], 'NORP' : [], 'EVENT' : []"
     ]
    },
    {
     "name": "stderr",
     "output_type": "stream",
     "text": [
      " 65%|██████▌   | 65/100 [07:02<03:05,  5.30s/it]"
     ]
    },
    {
     "name": "stdout",
     "output_type": "stream",
     "text": [
      "{'CARDINAL' : [], 'ORDINAL' : [], 'WORK_OF_ART' : [], 'PERSON' : [], 'LOC' : [], 'DATE' : [], 'PERCENT' : [], 'PRODUCT' : [], 'MONEY' : [], 'FAC' : [], 'TIME' : [], 'ORG' : [], 'QUANTITY' : [], 'LANGUAGE' : [], 'GPE' : [], 'LAW' : [], 'NORP' : [], 'EVENT' : []"
     ]
    },
    {
     "name": "stderr",
     "output_type": "stream",
     "text": [
      " 66%|██████▌   | 66/100 [07:06<02:52,  5.07s/it]"
     ]
    },
    {
     "name": "stdout",
     "output_type": "stream",
     "text": [
      "{'CARDINAL' : [], 'ORDINAL' : [], 'WORK_OF_ART' : [], 'PERSON' : [], 'LOC' : [], 'DATE' : [], 'PERCENT' : [], 'PRODUCT' : [], 'MONEY' : [], 'FAC' : [], 'TIME' : [], 'ORG' : [], 'QUANTITY' : [], 'LANGUAGE' : [], 'GPE' : ['Taichung', 'Taiwan'], 'LAW' : [], 'NORP' : [], 'EVENT' : []"
     ]
    },
    {
     "name": "stderr",
     "output_type": "stream",
     "text": [
      " 67%|██████▋   | 67/100 [07:11<02:44,  4.99s/it]"
     ]
    },
    {
     "name": "stdout",
     "output_type": "stream",
     "text": [
      "{'CARDINAL' : [], 'ORDINAL' : [], 'WORK_OF_ART' : [], 'PERSON' : [], 'LOC' : [], 'DATE' : [], 'PERCENT' : [], 'PRODUCT' : [], 'MONEY' : [], 'FAC' : [], 'TIME' : [], 'ORG' : [], 'QUANTITY' : [], 'LANGUAGE' : [], 'GPE' : [], 'LAW' : [], 'NORP' : [], 'EVENT' : []"
     ]
    },
    {
     "name": "stderr",
     "output_type": "stream",
     "text": [
      " 68%|██████▊   | 68/100 [07:16<02:38,  4.96s/it]"
     ]
    },
    {
     "name": "stdout",
     "output_type": "stream",
     "text": [
      "{'CARDINAL' : [], 'ORDINAL' : [], 'WORK_OF_ART' : [], 'PERSON' : ['Lee Teng - hui'], 'LOC' : [], 'DATE' : [], 'PERCENT' : [], 'PRODUCT' : [], 'MONEY' : [], 'FAC' : [], 'TIME' : [], 'ORG' : [], 'QUANTITY' : [], 'LANGUAGE' : [], 'GPE' : [], 'LAW' : [], 'NORP' : [], 'EVENT' : []"
     ]
    },
    {
     "name": "stderr",
     "output_type": "stream",
     "text": [
      " 69%|██████▉   | 69/100 [07:21<02:37,  5.07s/it]"
     ]
    },
    {
     "name": "stdout",
     "output_type": "stream",
     "text": [
      "{'CARDINAL' : [], 'ORDINAL' : [], 'WORK_OF_ART' : [], 'PERSON' : [], 'LOC' : [], 'DATE' : [], 'PERCENT' : [], 'PRODUCT' : [], 'MONEY' : [], 'FAC' : [], 'TIME' : [], 'ORG' : [], 'QUANTITY' : [], 'LANGUAGE' : [], 'GPE' : [], 'LAW' : [], 'NORP' : [], 'EVENT' : []"
     ]
    },
    {
     "name": "stderr",
     "output_type": "stream",
     "text": [
      " 70%|███████   | 70/100 [07:27<02:39,  5.31s/it]"
     ]
    },
    {
     "name": "stdout",
     "output_type": "stream",
     "text": [
      "{'CARDINAL' : [], 'ORDINAL' : [], 'WORK_OF_ART' : [], 'PERSON' : ['Wang Yung - ching'], 'LOC' : [], 'DATE' : [], 'PERCENT' : [], 'PRODUCT' : [], 'MONEY' : [], 'FAC' : [], 'TIME' : [], 'ORG' : [], 'QUANTITY' : [], 'LANGUAGE' : [], 'GPE' : [], 'LAW' : [], 'NORP' : [], 'EVENT' : []"
     ]
    },
    {
     "name": "stderr",
     "output_type": "stream",
     "text": [
      " 71%|███████   | 71/100 [07:35<02:57,  6.13s/it]"
     ]
    },
    {
     "name": "stdout",
     "output_type": "stream",
     "text": [
      "{'CARDINAL' : [], 'ORDINAL' : [], 'WORK_OF_ART' : [], 'PERSON' : [], 'LOC' : [], 'DATE' : [], 'PERCENT' : [], 'PRODUCT' : [], 'MONEY' : [], 'FAC' : [], 'TIME' : [], 'ORG' : [], 'QUANTITY' : [], 'LANGUAGE' : [], 'GPE' : [], 'LAW' : [], 'NORP' : ['the North Koreans'], 'EVENT' : []"
     ]
    },
    {
     "name": "stderr",
     "output_type": "stream",
     "text": [
      " 72%|███████▏  | 72/100 [07:44<03:19,  7.11s/it]"
     ]
    },
    {
     "name": "stdout",
     "output_type": "stream",
     "text": [
      "{'CARDINAL' : [], 'ORDINAL' : [], 'WORK_OF_ART' : [], 'PERSON' : [], 'LOC' : [], 'DATE' : [], 'PERCENT' : [], 'PRODUCT' : [], 'MONEY' : [], 'FAC' : [], 'TIME' : [], 'ORG' : [], 'QUANTITY' : [], 'LANGUAGE' : [], 'GPE' : [], 'LAW' : [], 'NORP' : [], 'EVENT' : []"
     ]
    },
    {
     "name": "stderr",
     "output_type": "stream",
     "text": [
      " 73%|███████▎  | 73/100 [07:52<03:19,  7.40s/it]"
     ]
    },
    {
     "name": "stdout",
     "output_type": "stream",
     "text": [
      "{'CARDINAL' : [], 'ORDINAL' : [], 'WORK_OF_ART' : [], 'PERSON' : [], 'LOC' : [], 'DATE' : [], 'PERCENT' : [], 'PRODUCT' : [], 'MONEY' : [], 'FAC' : [], 'TIME' : [], 'ORG' : [], 'QUANTITY' : [], 'LANGUAGE' : [], 'GPE' : [], 'LAW' : [], 'NORP' : [], 'EVENT' : []"
     ]
    },
    {
     "name": "stderr",
     "output_type": "stream",
     "text": [
      " 74%|███████▍  | 74/100 [08:01<03:22,  7.80s/it]"
     ]
    },
    {
     "name": "stdout",
     "output_type": "stream",
     "text": [
      "{'CARDINAL' : [], 'ORDINAL' : [], 'WORK_OF_ART' : [], 'PERSON' : [], 'LOC' : [], 'DATE' : [], 'PERCENT' : [], 'PRODUCT' : [], 'MONEY' : [], 'FAC' : [], 'TIME' : [], 'ORG' : [], 'QUANTITY' : [], 'LANGUAGE' : [], 'GPE' : ['Iraq'], 'LAW' : [], 'NORP' : [], 'EVENT' : []"
     ]
    },
    {
     "name": "stderr",
     "output_type": "stream",
     "text": [
      " 75%|███████▌  | 75/100 [08:10<03:19,  7.96s/it]"
     ]
    },
    {
     "name": "stdout",
     "output_type": "stream",
     "text": [
      "{'CARDINAL' : [], 'ORDINAL' : [], 'WORK_OF_ART' : [], 'PERSON' : [], 'LOC' : [], 'DATE' : [], 'PERCENT' : [], 'PRODUCT' : [], 'MONEY' : [], 'FAC' : [], 'TIME' : [], 'ORG' : [], 'QUANTITY' : [], 'LANGUAGE' : [], 'GPE' : ['Taiwan'], 'LAW' : [], 'NORP' : [], 'EVENT' : []"
     ]
    },
    {
     "name": "stderr",
     "output_type": "stream",
     "text": [
      " 76%|███████▌  | 76/100 [08:18<03:16,  8.19s/it]"
     ]
    },
    {
     "name": "stdout",
     "output_type": "stream",
     "text": [
      "{'CARDINAL' : [], 'ORDINAL' : [], 'WORK_OF_ART' : [], 'PERSON' : [], 'LOC' : [], 'DATE' : [], 'PERCENT' : [], 'PRODUCT' : [], 'MONEY' : [], 'FAC' : [], 'TIME' : [], 'ORG' : [], 'QUANTITY' : [], 'LANGUAGE' : [], 'GPE' : [], 'LAW' : [], 'NORP' : [], 'EVENT' : []"
     ]
    },
    {
     "name": "stderr",
     "output_type": "stream",
     "text": [
      " 77%|███████▋  | 77/100 [08:28<03:15,  8.52s/it]"
     ]
    },
    {
     "name": "stdout",
     "output_type": "stream",
     "text": [
      "{'CARDINAL' : [], 'ORDINAL' : [], 'WORK_OF_ART' : [], 'PERSON' : [], 'LOC' : [], 'DATE' : [], 'PERCENT' : [], 'PRODUCT' : [], 'MONEY' : [], 'FAC' : [], 'TIME' : [], 'ORG' : ['Senators'], 'QUANTITY' : [], 'LANGUAGE' : [], 'GPE' : [], 'LAW' : [], 'NORP' : [], 'EVENT' : []"
     ]
    },
    {
     "name": "stderr",
     "output_type": "stream",
     "text": [
      " 78%|███████▊  | 78/100 [08:36<03:09,  8.60s/it]"
     ]
    },
    {
     "name": "stdout",
     "output_type": "stream",
     "text": [
      "{'CARDINAL' : [], 'ORDINAL' : [], 'WORK_OF_ART' : [], 'PERSON' : ['Chang'], 'LOC' : [], 'DATE' : [], 'PERCENT' : [], 'PRODUCT' : [], 'MONEY' : [], 'FAC' : [], 'TIME' : [], 'ORG' : [], 'QUANTITY' : [], 'LANGUAGE' : [], 'GPE' : [], 'LAW' : [], 'NORP' : [], 'EVENT' : []"
     ]
    },
    {
     "name": "stderr",
     "output_type": "stream",
     "text": [
      " 79%|███████▉  | 79/100 [08:46<03:05,  8.82s/it]"
     ]
    },
    {
     "name": "stdout",
     "output_type": "stream",
     "text": [
      "{'CARDINAL' : ['20 %'], 'ORDINAL' : [], 'WORK_OF_ART' : [], 'PERSON' : [], 'LOC' : [], 'DATE' : [], 'PERCENT' : ['20 %'], 'PRODUCT' : [], 'MONEY' : [], 'FAC' : [], 'TIME' : [], 'ORG' : [], 'QUANTITY' : [], 'LANGUAGE' : [], 'GPE' : [], 'LAW' : [], 'NORP' : [], 'EVENT' : []"
     ]
    },
    {
     "name": "stderr",
     "output_type": "stream",
     "text": [
      " 80%|████████  | 80/100 [08:55<03:01,  9.07s/it]"
     ]
    },
    {
     "name": "stdout",
     "output_type": "stream",
     "text": [
      "{'CARDINAL' : [], 'ORDINAL' : [], 'WORK_OF_ART' : [], 'PERSON' : [], 'LOC' : [], 'DATE' : [], 'PERCENT' : [], 'PRODUCT' : [], 'MONEY' : [], 'FAC' : [], 'TIME' : [], 'ORG' : [], 'QUANTITY' : [], 'LANGUAGE' : [], 'GPE' : [], 'LAW' : [], 'NORP' : [], 'EVENT' : []"
     ]
    },
    {
     "name": "stderr",
     "output_type": "stream",
     "text": [
      " 81%|████████  | 81/100 [09:04<02:51,  9.00s/it]"
     ]
    },
    {
     "name": "stdout",
     "output_type": "stream",
     "text": [
      "{'CARDINAL' : [], 'ORDINAL' : [], 'WORK_OF_ART' : [], 'PERSON' : [], 'LOC' : [], 'DATE' : [], 'PERCENT' : [], 'PRODUCT' : [], 'MONEY' : [], 'FAC' : [], 'TIME' : [], 'ORG' : [], 'QUANTITY' : [], 'LANGUAGE' : [], 'GPE' : [], 'LAW' : [], 'NORP' : [], 'EVENT' : ['Cocom']"
     ]
    },
    {
     "name": "stderr",
     "output_type": "stream",
     "text": [
      " 82%|████████▏ | 82/100 [09:14<02:44,  9.16s/it]"
     ]
    },
    {
     "name": "stdout",
     "output_type": "stream",
     "text": [
      "{'CARDINAL' : [], 'ORDINAL' : [], 'WORK_OF_ART' : [], 'PERSON' : [], 'LOC' : [], 'DATE' : ['the guaranteed circulation base is being lowered'], 'PERCENT' : [], 'PRODUCT' : [], 'MONEY' : [], 'FAC' : [], 'TIME' : [], 'ORG' : ['Time'], 'QUANTITY' : [], 'LANGUAGE' : [], 'GPE' : [], 'LAW' : [], 'NORP' : [], 'EVENT' : []"
     ]
    },
    {
     "name": "stderr",
     "output_type": "stream",
     "text": [
      " 83%|████████▎ | 83/100 [09:22<02:33,  9.04s/it]"
     ]
    },
    {
     "name": "stdout",
     "output_type": "stream",
     "text": [
      "{'CARDINAL' : ['83'], 'ORDINAL' : [], 'WORK_OF_ART' : [], 'PERSON' : ['justice'], 'LOC' : [], 'DATE' : ['83 - year - old'], 'PERCENT' : [], 'PRODUCT' : [], 'MONEY' : [], 'FAC' : [], 'TIME' : [], 'ORG' : [], 'QUANTITY' : [], 'LANGUAGE' : [], 'GPE' : [], 'LAW' : [], 'NORP' : [], 'EVENT' : []"
     ]
    },
    {
     "name": "stderr",
     "output_type": "stream",
     "text": [
      " 84%|████████▍ | 84/100 [09:32<02:27,  9.19s/it]"
     ]
    },
    {
     "name": "stdout",
     "output_type": "stream",
     "text": [
      "{'CARDINAL' : ['more'], 'ORDINAL' : [], 'WORK_OF_ART' : [], 'PERSON' : [], 'LOC' : [], 'DATE' : [], 'PERCENT' : [], 'PRODUCT' : [], 'MONEY' : [], 'FAC' : [], 'TIME' : [], 'ORG' : [], 'QUANTITY' : [], 'LANGUAGE' : [], 'GPE' : ['Iraq'], 'LAW' : [], 'NORP' : [], 'EVENT' : []"
     ]
    },
    {
     "name": "stderr",
     "output_type": "stream",
     "text": [
      " 85%|████████▌ | 85/100 [09:41<02:18,  9.24s/it]"
     ]
    },
    {
     "name": "stdout",
     "output_type": "stream",
     "text": [
      "{'CARDINAL' : [], 'ORDINAL' : [], 'WORK_OF_ART' : [], 'PERSON' : ['Miller, Libby, Cheney'], 'LOC' : [], 'DATE' : [], 'PERCENT' : [], 'PRODUCT' : [], 'MONEY' : [], 'FAC' : [], 'TIME' : [], 'ORG' : [], 'QUANTITY' : [], 'LANGUAGE' : [], 'GPE' : [], 'LAW' : [], 'NORP' : [], 'EVENT' : []"
     ]
    },
    {
     "name": "stderr",
     "output_type": "stream",
     "text": [
      " 86%|████████▌ | 86/100 [09:51<02:10,  9.29s/it]"
     ]
    },
    {
     "name": "stdout",
     "output_type": "stream",
     "text": [
      "{'CARDINAL' : [], 'ORDINAL' : [], 'WORK_OF_ART' : [], 'PERSON' : [], 'LOC' : [], 'DATE' : [], 'PERCENT' : [], 'PRODUCT' : [], 'MONEY' : [], 'FAC' : [], 'TIME' : [], 'ORG' : [], 'QUANTITY' : [], 'LANGUAGE' : [], 'GPE' : [], 'LAW' : [], 'NORP' : [], 'EVENT' : []"
     ]
    },
    {
     "name": "stderr",
     "output_type": "stream",
     "text": [
      " 87%|████████▋ | 87/100 [10:00<02:01,  9.32s/it]"
     ]
    },
    {
     "name": "stdout",
     "output_type": "stream",
     "text": [
      "{'CARDINAL' : [], 'ORDINAL' : [], 'WORK_OF_ART' : [], 'PERSON' : [], 'LOC' : [], 'DATE' : [], 'PERCENT' : [], 'PRODUCT' : [], 'MONEY' : [], 'FAC' : [], 'TIME' : [], 'ORG' : [], 'QUANTITY' : [], 'LANGUAGE' : [], 'GPE' : [], 'LAW' : [], 'NORP' : [], 'EVENT' : []"
     ]
    },
    {
     "name": "stderr",
     "output_type": "stream",
     "text": [
      " 88%|████████▊ | 88/100 [10:09<01:51,  9.26s/it]"
     ]
    },
    {
     "name": "stdout",
     "output_type": "stream",
     "text": [
      "{'CARDINAL' : ['two'], 'ORDINAL' : [], 'WORK_OF_ART' : [], 'PERSON' : [], 'LOC' : [], 'DATE' : [], 'PERCENT' : [], 'PRODUCT' : [], 'MONEY' : [], 'FAC' : [], 'TIME' : [], 'ORG' : ['Sunbelt Savings & Loan Association of Dallas'], 'QUANTITY' : [], 'LANGUAGE' : [], 'GPE' : ['Dallas'], 'LAW' : [], 'NORP' : [], 'EVENT' : []"
     ]
    },
    {
     "name": "stderr",
     "output_type": "stream",
     "text": [
      " 89%|████████▉ | 89/100 [10:19<01:44,  9.50s/it]"
     ]
    },
    {
     "name": "stdout",
     "output_type": "stream",
     "text": [
      "{'CARDINAL' : [], 'ORDINAL' : [], 'WORK_OF_ART' : [], 'PERSON' : [], 'LOC' : [], 'DATE' : [], 'PERCENT' : [], 'PRODUCT' : [], 'MONEY' : ['$ 239 million'], 'FAC' : [], 'TIME' : [], 'ORG' : [], 'QUANTITY' : [], 'LANGUAGE' : [], 'GPE' : [], 'LAW' : [], 'NORP' : [], 'EVENT' : []"
     ]
    },
    {
     "name": "stderr",
     "output_type": "stream",
     "text": [
      " 90%|█████████ | 90/100 [10:28<01:33,  9.38s/it]"
     ]
    },
    {
     "name": "stdout",
     "output_type": "stream",
     "text": [
      "{'CARDINAL' : [], 'ORDINAL' : [], 'WORK_OF_ART' : [], 'PERSON' : [], 'LOC' : [], 'DATE' : [], 'PERCENT' : [], 'PRODUCT' : [], 'MONEY' : ['nearly 30 million US dollars, over 10 million US dollars'], 'FAC' : [], 'TIME' : [], 'ORG' : [], 'QUANTITY' : [], 'LANGUAGE' : [], 'GPE' : [], 'LAW' : [], 'NORP' : [], 'EVENT' : []"
     ]
    },
    {
     "name": "stderr",
     "output_type": "stream",
     "text": [
      " 91%|█████████ | 91/100 [10:39<01:27,  9.71s/it]"
     ]
    },
    {
     "name": "stdout",
     "output_type": "stream",
     "text": [
      "{'CARDINAL' : [], 'ORDINAL' : [], 'WORK_OF_ART' : [], 'PERSON' : [], 'LOC' : [], 'DATE' : [], 'PERCENT' : [], 'PRODUCT' : [], 'MONEY' : [], 'FAC' : [], 'TIME' : [], 'ORG' : [], 'QUANTITY' : [], 'LANGUAGE' : [], 'GPE' : [], 'LAW' : [], 'NORP' : [], 'EVENT' : []"
     ]
    },
    {
     "name": "stderr",
     "output_type": "stream",
     "text": [
      " 92%|█████████▏| 92/100 [10:48<01:16,  9.55s/it]"
     ]
    },
    {
     "name": "stdout",
     "output_type": "stream",
     "text": [
      "{'CARDINAL' : [], 'ORDINAL' : [], 'WORK_OF_ART' : [], 'PERSON' : [], 'LOC' : [], 'DATE' : ['the same period of the previous year'], 'PERCENT' : ['10 % to 20 %'], 'PRODUCT' : [], 'MONEY' : ['3.08 billion yuan'], 'FAC' : [], 'TIME' : [], 'ORG' : [], 'QUANTITY' : [], 'LANGUAGE' : [], 'GPE' : [], 'LAW' : [], 'NORP' : [], 'EVENT' : []"
     ]
    },
    {
     "name": "stderr",
     "output_type": "stream",
     "text": [
      " 93%|█████████▎| 93/100 [10:58<01:08,  9.79s/it]"
     ]
    },
    {
     "name": "stdout",
     "output_type": "stream",
     "text": [
      "{'CARDINAL' : [], 'ORDINAL' : [], 'WORK_OF_ART' : [], 'PERSON' : [], 'LOC' : [], 'DATE' : [], 'PERCENT' : [], 'PRODUCT' : [], 'MONEY' : [], 'FAC' : [], 'TIME' : ['within the past hour or so'], 'ORG' : [], 'QUANTITY' : [], 'LANGUAGE' : [], 'GPE' : ['Israel'], 'LAW' : [], 'NORP' : [], 'EVENT' : []"
     ]
    },
    {
     "name": "stderr",
     "output_type": "stream",
     "text": [
      " 94%|█████████▍| 94/100 [11:08<00:58,  9.83s/it]"
     ]
    },
    {
     "name": "stdout",
     "output_type": "stream",
     "text": [
      "{'CARDINAL' : [], 'ORDINAL' : [], 'WORK_OF_ART' : [], 'PERSON' : ['Bob Wilson'], 'LOC' : [], 'DATE' : [], 'PERCENT' : [], 'PRODUCT' : [], 'MONEY' : [], 'FAC' : [], 'TIME' : [], 'ORG' : ['Budget'], 'QUANTITY' : [], 'LANGUAGE' : [], 'GPE' : [], 'LAW' : [], 'NORP' : [], 'EVENT' : []"
     ]
    },
    {
     "name": "stderr",
     "output_type": "stream",
     "text": [
      " 95%|█████████▌| 95/100 [11:18<00:48,  9.69s/it]"
     ]
    },
    {
     "name": "stdout",
     "output_type": "stream",
     "text": [
      "{'CARDINAL' : ['one'], 'ORDINAL' : [], 'WORK_OF_ART' : [], 'PERSON' : [], 'LOC' : [], 'DATE' : [], 'PERCENT' : [], 'PRODUCT' : [], 'MONEY' : [], 'FAC' : [], 'TIME' : [], 'ORG' : [], 'QUANTITY' : [], 'LANGUAGE' : [], 'GPE' : ['China'], 'LAW' : [], 'NORP' : [], 'EVENT' : []"
     ]
    },
    {
     "name": "stderr",
     "output_type": "stream",
     "text": [
      " 96%|█████████▌| 96/100 [11:27<00:38,  9.60s/it]"
     ]
    },
    {
     "name": "stdout",
     "output_type": "stream",
     "text": [
      "{'CARDINAL' : [], 'ORDINAL' : [], 'WORK_OF_ART' : [], 'PERSON' : [], 'LOC' : [], 'DATE' : [], 'PERCENT' : [], 'PRODUCT' : [], 'MONEY' : [], 'FAC' : [], 'TIME' : [], 'ORG' : [], 'QUANTITY' : [], 'LANGUAGE' : [], 'GPE' : ['US'], 'LAW' : [], 'NORP' : [], 'EVENT' : []"
     ]
    },
    {
     "name": "stderr",
     "output_type": "stream",
     "text": [
      " 97%|█████████▋| 97/100 [11:36<00:28,  9.41s/it]"
     ]
    },
    {
     "name": "stdout",
     "output_type": "stream",
     "text": [
      "{'CARDINAL' : [], 'ORDINAL' : [], 'WORK_OF_ART' : [], 'PERSON' : ['Arthur Sulzberger'], 'LOC' : [], 'DATE' : [], 'PERCENT' : [], 'PRODUCT' : [], 'MONEY' : [], 'FAC' : [], 'TIME' : [], 'ORG' : [], 'QUANTITY' : [], 'LANGUAGE' : [], 'GPE' : [], 'LAW' : [], 'NORP' : [], 'EVENT' : []"
     ]
    },
    {
     "name": "stderr",
     "output_type": "stream",
     "text": [
      " 98%|█████████▊| 98/100 [11:45<00:18,  9.22s/it]"
     ]
    },
    {
     "name": "stdout",
     "output_type": "stream",
     "text": [
      "{'CARDINAL' : [], 'ORDINAL' : [], 'WORK_OF_ART' : [], 'PERSON' : [], 'LOC' : [], 'DATE' : [], 'PERCENT' : [], 'PRODUCT' : [], 'MONEY' : [], 'FAC' : [], 'TIME' : [], 'ORG' : [], 'QUANTITY' : [], 'LANGUAGE' : [], 'GPE' : [], 'LAW' : [], 'NORP' : [], 'EVENT' : []"
     ]
    },
    {
     "name": "stderr",
     "output_type": "stream",
     "text": [
      " 99%|█████████▉| 99/100 [11:54<00:09,  9.15s/it]"
     ]
    },
    {
     "name": "stdout",
     "output_type": "stream",
     "text": [
      "{'CARDINAL' : [], 'ORDINAL' : [], 'WORK_OF_ART' : [], 'PERSON' : [], 'LOC' : [], 'DATE' : ['1987'], 'PERCENT' : [], 'PRODUCT' : [], 'MONEY' : [], 'FAC' : [], 'TIME' : [], 'ORG' : [], 'QUANTITY' : [], 'LANGUAGE' : [], 'GPE' : [], 'LAW' : [], 'NORP' : [], 'EVENT' : []"
     ]
    },
    {
     "name": "stderr",
     "output_type": "stream",
     "text": [
      "100%|██████████| 100/100 [12:03<00:00,  7.24s/it]"
     ]
    },
    {
     "name": "stdout",
     "output_type": "stream",
     "text": [
      "./ner/saves/datasets/ontonote5_test_1403.pkl\n"
     ]
    },
    {
     "name": "stderr",
     "output_type": "stream",
     "text": [
      "\n",
      "  0%|          | 0/100 [00:00<?, ?it/s]"
     ]
    },
    {
     "name": "stdout",
     "output_type": "stream",
     "text": [
      "{'CARDINAL' : [], 'ORDINAL' : [], 'WORK_OF_ART' : [], 'PERSON' : [], 'LOC' : [], 'DATE' : [], 'PERCENT' : [], 'PRODUCT' : [], 'MONEY' : [], 'FAC' : [], 'TIME' : [], 'ORG' : [], 'QUANTITY' : [], 'LANGUAGE' : [], 'GPE' : [], 'LAW' : [], 'NORP' : [], 'EVENT' : []"
     ]
    },
    {
     "name": "stderr",
     "output_type": "stream",
     "text": [
      "  1%|          | 1/100 [00:08<14:46,  8.95s/it]"
     ]
    },
    {
     "name": "stdout",
     "output_type": "stream",
     "text": [
      "{'CARDINAL' : [], 'ORDINAL' : [], 'WORK_OF_ART' : [], 'PERSON' : [], 'LOC' : [], 'DATE' : [], 'PERCENT' : [], 'PRODUCT' : [], 'MONEY' : [], 'FAC' : [], 'TIME' : [], 'ORG' : [], 'QUANTITY' : [], 'LANGUAGE' : [], 'GPE' : [], 'LAW' : [], 'NORP' : [], 'EVENT' : []"
     ]
    },
    {
     "name": "stderr",
     "output_type": "stream",
     "text": [
      "  2%|▏         | 2/100 [00:18<14:56,  9.15s/it]"
     ]
    },
    {
     "name": "stdout",
     "output_type": "stream",
     "text": [
      "{'CARDINAL' : [], 'ORDINAL' : [], 'WORK_OF_ART' : [], 'PERSON' : [], 'LOC' : [], 'DATE' : [], 'PERCENT' : [], 'PRODUCT' : [], 'MONEY' : [], 'FAC' : [], 'TIME' : [], 'ORG' : [], 'QUANTITY' : [], 'LANGUAGE' : [], 'GPE' : [], 'LAW' : [], 'NORP' : [], 'EVENT' : []"
     ]
    },
    {
     "name": "stderr",
     "output_type": "stream",
     "text": [
      "  3%|▎         | 3/100 [00:27<14:42,  9.10s/it]"
     ]
    },
    {
     "name": "stdout",
     "output_type": "stream",
     "text": [
      "{'CARDINAL' : [], 'ORDINAL' : [], 'WORK_OF_ART' : [], 'PERSON' : [], 'LOC' : [], 'DATE' : [], 'PERCENT' : [], 'PRODUCT' : [], 'MONEY' : [], 'FAC' : [], 'TIME' : [], 'ORG' : ['the government'], 'QUANTITY' : [], 'LANGUAGE' : [], 'GPE' : [], 'LAW' : [], 'NORP' : [], 'EVENT' : []"
     ]
    },
    {
     "name": "stderr",
     "output_type": "stream",
     "text": [
      "  4%|▍         | 4/100 [00:36<14:52,  9.29s/it]"
     ]
    },
    {
     "name": "stdout",
     "output_type": "stream",
     "text": [
      "{'CARDINAL' : [], 'ORDINAL' : [], 'WORK_OF_ART' : [], 'PERSON' : [], 'LOC' : [], 'DATE' : [], 'PERCENT' : [], 'PRODUCT' : [], 'MONEY' : [], 'FAC' : [], 'TIME' : [], 'ORG' : [], 'QUANTITY' : [], 'LANGUAGE' : [], 'GPE' : [], 'LAW' : [], 'NORP' : [], 'EVENT' : ['last week']"
     ]
    },
    {
     "name": "stderr",
     "output_type": "stream",
     "text": [
      "  5%|▌         | 5/100 [00:46<14:39,  9.26s/it]"
     ]
    },
    {
     "name": "stdout",
     "output_type": "stream",
     "text": [
      "{'CARDINAL' : [], 'ORDINAL' : [], 'WORK_OF_ART' : [], 'PERSON' : [], 'LOC' : [], 'DATE' : ['this quarter'], 'PERCENT' : [], 'PRODUCT' : [], 'MONEY' : [], 'FAC' : [], 'TIME' : [], 'ORG' : [], 'QUANTITY' : [], 'LANGUAGE' : [], 'GPE' : [], 'LAW' : [], 'NORP' : [], 'EVENT' : []"
     ]
    },
    {
     "name": "stderr",
     "output_type": "stream",
     "text": [
      "  6%|▌         | 6/100 [00:55<14:40,  9.37s/it]"
     ]
    },
    {
     "name": "stdout",
     "output_type": "stream",
     "text": [
      "{'CARDINAL' : [], 'ORDINAL' : [], 'WORK_OF_ART' : [], 'PERSON' : ['Charles Colson'], 'LOC' : [], 'DATE' : [], 'PERCENT' : [], 'PRODUCT' : [], 'MONEY' : [], 'FAC' : [], 'TIME' : [], 'ORG' : [], 'QUANTITY' : [], 'LANGUAGE' : [], 'GPE' : [], 'LAW' : [], 'NORP' : [], 'EVENT' : []"
     ]
    },
    {
     "name": "stderr",
     "output_type": "stream",
     "text": [
      "  7%|▋         | 7/100 [01:05<14:44,  9.51s/it]"
     ]
    },
    {
     "name": "stdout",
     "output_type": "stream",
     "text": [
      "{'CARDINAL' : [], 'ORDINAL' : [], 'WORK_OF_ART' : [], 'PERSON' : ['Mr. Heinemann'], 'LOC' : [], 'DATE' : [], 'PERCENT' : [], 'PRODUCT' : [], 'MONEY' : [], 'FAC' : [], 'TIME' : [], 'ORG' : [], 'QUANTITY' : [], 'LANGUAGE' : [], 'GPE' : [], 'LAW' : [], 'NORP' : [], 'EVENT' : []"
     ]
    },
    {
     "name": "stderr",
     "output_type": "stream",
     "text": [
      "  8%|▊         | 8/100 [01:14<14:31,  9.48s/it]"
     ]
    },
    {
     "name": "stdout",
     "output_type": "stream",
     "text": [
      "{'CARDINAL' : ['200, 70, 180'], 'ORDINAL' : [], 'WORK_OF_ART' : [], 'PERSON' : [], 'LOC' : [], 'DATE' : [], 'PERCENT' : [], 'PRODUCT' : [], 'MONEY' : [], 'FAC' : [], 'TIME' : [], 'ORG' : [], 'QUANTITY' : [], 'LANGUAGE' : [], 'GPE' : ['Dongguan'], 'LAW' : [], 'NORP' : [], 'EVENT' : []"
     ]
    },
    {
     "name": "stderr",
     "output_type": "stream",
     "text": [
      "  9%|▉         | 9/100 [01:24<14:22,  9.48s/it]"
     ]
    },
    {
     "name": "stdout",
     "output_type": "stream",
     "text": [
      "{'CARDINAL' : [], 'ORDINAL' : [], 'WORK_OF_ART' : [], 'PERSON' : ['narrator'], 'LOC' : [], 'DATE' : [], 'PERCENT' : [], 'PRODUCT' : [], 'MONEY' : [], 'FAC' : [], 'TIME' : [], 'ORG' : [], 'QUANTITY' : [], 'LANGUAGE' : [], 'GPE' : [], 'LAW' : [], 'NORP' : [], 'EVENT' : []"
     ]
    },
    {
     "name": "stderr",
     "output_type": "stream",
     "text": [
      " 10%|█         | 10/100 [01:33<13:58,  9.32s/it]"
     ]
    },
    {
     "name": "stdout",
     "output_type": "stream",
     "text": [
      "{'CARDINAL' : [], 'ORDINAL' : [], 'WORK_OF_ART' : [], 'PERSON' : ['Christy Whitman'], 'LOC' : [], 'DATE' : [], 'PERCENT' : [], 'PRODUCT' : [], 'MONEY' : [], 'FAC' : [], 'TIME' : [], 'ORG' : [], 'QUANTITY' : [], 'LANGUAGE' : [], 'GPE' : [], 'LAW' : [], 'NORP' : [], 'EVENT' : []"
     ]
    },
    {
     "name": "stderr",
     "output_type": "stream",
     "text": [
      " 11%|█         | 11/100 [01:41<13:07,  8.85s/it]"
     ]
    },
    {
     "name": "stdout",
     "output_type": "stream",
     "text": [
      "{'CARDINAL' : [], 'ORDINAL' : [], 'WORK_OF_ART' : [], 'PERSON' : [], 'LOC' : ['Van Nuys, Oklahoma City, Pontiac'], 'DATE' : [], 'PERCENT' : [], 'PRODUCT' : [], 'MONEY' : [], 'FAC' : [], 'TIME' : [], 'ORG' : [], 'QUANTITY' : [], 'LANGUAGE' : [], 'GPE' : [], 'LAW' : [], 'NORP' : [], 'EVENT' : []"
     ]
    },
    {
     "name": "stderr",
     "output_type": "stream",
     "text": [
      " 12%|█▏        | 12/100 [01:50<13:01,  8.89s/it]"
     ]
    },
    {
     "name": "stdout",
     "output_type": "stream",
     "text": [
      "{'CARDINAL' : [], 'ORDINAL' : [], 'WORK_OF_ART' : [], 'PERSON' : [], 'LOC' : [], 'DATE' : [], 'PERCENT' : [], 'PRODUCT' : [], 'MONEY' : [], 'FAC' : [], 'TIME' : [], 'ORG' : [], 'QUANTITY' : [], 'LANGUAGE' : [], 'GPE' : [\"Shandong 's\"], 'LAW' : [], 'NORP' : [], 'EVENT' : []"
     ]
    },
    {
     "name": "stderr",
     "output_type": "stream",
     "text": [
      " 13%|█▎        | 13/100 [01:59<13:14,  9.13s/it]"
     ]
    },
    {
     "name": "stdout",
     "output_type": "stream",
     "text": [
      "{'CARDINAL' : [], 'ORDINAL' : [], 'WORK_OF_ART' : [], 'PERSON' : [], 'LOC' : [], 'DATE' : [], 'PERCENT' : [], 'PRODUCT' : [], 'MONEY' : [], 'FAC' : [], 'TIME' : [], 'ORG' : [], 'QUANTITY' : [], 'LANGUAGE' : [], 'GPE' : [], 'LAW' : [], 'NORP' : [], 'EVENT' : []"
     ]
    },
    {
     "name": "stderr",
     "output_type": "stream",
     "text": [
      " 14%|█▍        | 14/100 [02:08<12:43,  8.88s/it]"
     ]
    },
    {
     "name": "stdout",
     "output_type": "stream",
     "text": [
      "{'CARDINAL' : [], 'ORDINAL' : [], 'WORK_OF_ART' : [], 'PERSON' : [], 'LOC' : [], 'DATE' : [], 'PERCENT' : [], 'PRODUCT' : [], 'MONEY' : [], 'FAC' : [], 'TIME' : [], 'ORG' : [], 'QUANTITY' : [], 'LANGUAGE' : [], 'GPE' : [], 'LAW' : [], 'NORP' : [], 'EVENT' : []"
     ]
    },
    {
     "name": "stderr",
     "output_type": "stream",
     "text": [
      " 15%|█▌        | 15/100 [02:16<12:33,  8.86s/it]"
     ]
    },
    {
     "name": "stdout",
     "output_type": "stream",
     "text": [
      "{'CARDINAL' : [], 'ORDINAL' : [], 'WORK_OF_ART' : [], 'PERSON' : [], 'LOC' : [], 'DATE' : [], 'PERCENT' : [], 'PRODUCT' : [], 'MONEY' : [], 'FAC' : [], 'TIME' : [], 'ORG' : [], 'QUANTITY' : [], 'LANGUAGE' : [], 'GPE' : ['Linpien'], 'LAW' : [], 'NORP' : [], 'EVENT' : []"
     ]
    },
    {
     "name": "stderr",
     "output_type": "stream",
     "text": [
      " 16%|█▌        | 16/100 [02:26<12:45,  9.12s/it]"
     ]
    },
    {
     "name": "stdout",
     "output_type": "stream",
     "text": [
      "{'CARDINAL' : [], 'ORDINAL' : [], 'WORK_OF_ART' : [], 'PERSON' : [], 'LOC' : [], 'DATE' : [], 'PERCENT' : [], 'PRODUCT' : [], 'MONEY' : [], 'FAC' : [], 'TIME' : [], 'ORG' : [], 'QUANTITY' : [], 'LANGUAGE' : [], 'GPE' : [], 'LAW' : [], 'NORP' : [], 'EVENT' : []"
     ]
    },
    {
     "name": "stderr",
     "output_type": "stream",
     "text": [
      " 17%|█▋        | 17/100 [02:35<12:39,  9.15s/it]"
     ]
    },
    {
     "name": "stdout",
     "output_type": "stream",
     "text": [
      "{'CARDINAL' : [], 'ORDINAL' : [], 'WORK_OF_ART' : [], 'PERSON' : [], 'LOC' : [], 'DATE' : ['last month'], 'PERCENT' : ['0.9 %'], 'PRODUCT' : [], 'MONEY' : [], 'FAC' : [], 'TIME' : [], 'ORG' : [], 'QUANTITY' : [], 'LANGUAGE' : [], 'GPE' : [], 'LAW' : [], 'NORP' : [], 'EVENT' : []"
     ]
    },
    {
     "name": "stderr",
     "output_type": "stream",
     "text": [
      " 18%|█▊        | 18/100 [02:45<12:47,  9.36s/it]"
     ]
    },
    {
     "name": "stdout",
     "output_type": "stream",
     "text": [
      "{'CARDINAL' : ['218'], 'ORDINAL' : [], 'WORK_OF_ART' : [], 'PERSON' : [], 'LOC' : [], 'DATE' : [], 'PERCENT' : [], 'PRODUCT' : [], 'MONEY' : [], 'FAC' : [], 'TIME' : [], 'ORG' : [], 'QUANTITY' : [], 'LANGUAGE' : [], 'GPE' : ['Shanghai'], 'LAW' : [], 'NORP' : [], 'EVENT' : []"
     ]
    },
    {
     "name": "stderr",
     "output_type": "stream",
     "text": [
      " 19%|█▉        | 19/100 [02:55<12:50,  9.52s/it]"
     ]
    },
    {
     "name": "stdout",
     "output_type": "stream",
     "text": [
      "{'CARDINAL' : [], 'ORDINAL' : [], 'WORK_OF_ART' : [], 'PERSON' : [\"Scooter Libby\"], 'LOC' : [], 'DATE' : [], 'PERCENT' : [], 'PRODUCT' : [], 'MONEY' : [], 'FAC' : [], 'TIME' : [], 'ORG' : [], 'QUANTITY' : [], 'LANGUAGE' : [], 'GPE' : [], 'LAW' : [], 'NORP' : [], 'EVENT' : []"
     ]
    },
    {
     "name": "stderr",
     "output_type": "stream",
     "text": [
      " 20%|██        | 20/100 [03:05<12:40,  9.51s/it]"
     ]
    },
    {
     "name": "stdout",
     "output_type": "stream",
     "text": [
      "{'CARDINAL' : [], 'ORDINAL' : [], 'WORK_OF_ART' : [], 'PERSON' : [], 'LOC' : [], 'DATE' : [], 'PERCENT' : [], 'PRODUCT' : [], 'MONEY' : [], 'FAC' : [], 'TIME' : [], 'ORG' : [], 'QUANTITY' : [], 'LANGUAGE' : [], 'GPE' : [], 'LAW' : [], 'NORP' : [], 'EVENT' : []"
     ]
    },
    {
     "name": "stderr",
     "output_type": "stream",
     "text": [
      " 21%|██        | 21/100 [03:14<12:28,  9.47s/it]"
     ]
    },
    {
     "name": "stdout",
     "output_type": "stream",
     "text": [
      "{'CARDINAL' : [], 'ORDINAL' : [], 'WORK_OF_ART' : [], 'PERSON' : [], 'LOC' : [], 'DATE' : [], 'PERCENT' : [], 'PRODUCT' : [], 'MONEY' : [], 'FAC' : [], 'TIME' : [], 'ORG' : ['Royal Trustco Ltd. , Pacific Savings Bank'], 'QUANTITY' : [], 'LANGUAGE' : [], 'GPE' : [], 'LAW' : [], 'NORP' : [], 'EVENT' : []"
     ]
    },
    {
     "name": "stderr",
     "output_type": "stream",
     "text": [
      " 22%|██▏       | 22/100 [03:24<12:30,  9.62s/it]"
     ]
    },
    {
     "name": "stdout",
     "output_type": "stream",
     "text": [
      "{'CARDINAL' : [], 'ORDINAL' : [], 'WORK_OF_ART' : [], 'PERSON' : [], 'LOC' : [], 'DATE' : ['recently', 'the previous year'], 'PERCENT' : ['18.85 %', '15 %', '22.7 %'], 'PRODUCT' : [], 'MONEY' : ['220.178 billion US dollars', '110.380 billion US dollars', '109.798 billion US dollars'], 'FAC' : [], 'TIME' : [], 'ORG' : ['Mexico 's Treasury Department'], 'QUANTITY' : [], 'LANGUAGE' : [], 'GPE' : ['Mexico'], 'LAW' : [], 'NORP' : [], 'EVENT' : []"
     ]
    },
    {
     "name": "stderr",
     "output_type": "stream",
     "text": [
      " 23%|██▎       | 23/100 [03:39<14:20, 11.18s/it]"
     ]
    },
    {
     "name": "stdout",
     "output_type": "stream",
     "text": [
      "{'CARDINAL' : [], 'ORDINAL' : [], 'WORK_OF_ART' : [], 'PERSON' : [], 'LOC' : [], 'DATE' : ['a month'], 'PERCENT' : [], 'PRODUCT' : [], 'MONEY' : [], 'FAC' : [], 'TIME' : [], 'ORG' : [], 'QUANTITY' : [], 'LANGUAGE' : [], 'GPE' : [], 'LAW' : [], 'NORP' : [], 'EVENT' : []"
     ]
    },
    {
     "name": "stderr",
     "output_type": "stream",
     "text": [
      " 24%|██▍       | 24/100 [03:48<13:32, 10.69s/it]"
     ]
    },
    {
     "name": "stdout",
     "output_type": "stream",
     "text": [
      "{'CARDINAL' : [], 'ORDINAL' : [], 'WORK_OF_ART' : [], 'PERSON' : [], 'LOC' : [], 'DATE' : [], 'PERCENT' : ['50 percent'], 'PRODUCT' : [], 'MONEY' : [], 'FAC' : [], 'TIME' : [], 'ORG' : [], 'QUANTITY' : [], 'LANGUAGE' : [], 'GPE' : [], 'LAW' : [], 'NORP' : [], 'EVENT' : []"
     ]
    },
    {
     "name": "stderr",
     "output_type": "stream",
     "text": [
      " 25%|██▌       | 25/100 [03:57<12:47, 10.23s/it]"
     ]
    },
    {
     "name": "stdout",
     "output_type": "stream",
     "text": [
      "{'CARDINAL' : [], 'ORDINAL' : [], 'WORK_OF_ART' : [], 'PERSON' : [], 'LOC' : [], 'DATE' : ['January to November'], 'PERCENT' : [], 'PRODUCT' : [], 'MONEY' : ['2.8 billion US dollars'], 'FAC' : [], 'TIME' : [], 'ORG' : [], 'QUANTITY' : [], 'LANGUAGE' : [], 'GPE' : ['Pudong region'], 'LAW' : [], 'NORP' : [], 'EVENT' : []"
     ]
    },
    {
     "name": "stderr",
     "output_type": "stream",
     "text": [
      " 26%|██▌       | 26/100 [04:08<12:39, 10.27s/it]"
     ]
    },
    {
     "name": "stdout",
     "output_type": "stream",
     "text": [
      "{'CARDINAL' : [], 'ORDINAL' : [], 'WORK_OF_ART' : [], 'PERSON' : [], 'LOC' : [], 'DATE' : [], 'PERCENT' : [], 'PRODUCT' : [], 'MONEY' : [], 'FAC' : [], 'TIME' : [], 'ORG' : [], 'QUANTITY' : [], 'LANGUAGE' : [], 'GPE' : [], 'LAW' : [], 'NORP' : [], 'EVENT' : []"
     ]
    },
    {
     "name": "stderr",
     "output_type": "stream",
     "text": [
      " 27%|██▋       | 27/100 [04:17<12:08,  9.98s/it]"
     ]
    },
    {
     "name": "stdout",
     "output_type": "stream",
     "text": [
      "{'CARDINAL' : [], 'ORDINAL' : [], 'WORK_OF_ART' : [], 'PERSON' : [], 'LOC' : [], 'DATE' : [], 'PERCENT' : [], 'PRODUCT' : [], 'MONEY' : [], 'FAC' : [], 'TIME' : [], 'ORG' : [], 'QUANTITY' : [], 'LANGUAGE' : [], 'GPE' : [], 'LAW' : [], 'NORP' : [], 'EVENT' : []"
     ]
    },
    {
     "name": "stderr",
     "output_type": "stream",
     "text": [
      " 28%|██▊       | 28/100 [04:26<11:36,  9.67s/it]"
     ]
    },
    {
     "name": "stdout",
     "output_type": "stream",
     "text": [
      "{'CARDINAL' : [], 'ORDINAL' : [], 'WORK_OF_ART' : [], 'PERSON' : ['Young & Rubicam Inc.'], 'LOC' : [], 'DATE' : [], 'PERCENT' : [], 'PRODUCT' : [], 'MONEY' : [], 'FAC' : [], 'TIME' : [], 'ORG' : [], 'QUANTITY' : [], 'LANGUAGE' : [], 'GPE' : [], 'LAW' : [], 'NORP' : [], 'EVENT' : []"
     ]
    },
    {
     "name": "stderr",
     "output_type": "stream",
     "text": [
      " 29%|██▉       | 29/100 [04:36<11:27,  9.68s/it]"
     ]
    },
    {
     "name": "stdout",
     "output_type": "stream",
     "text": [
      "{'CARDINAL' : [], 'ORDINAL' : [], 'WORK_OF_ART' : [], 'PERSON' : ['Tsao Chi - hung'], 'LOC' : [], 'DATE' : [], 'PERCENT' : [], 'PRODUCT' : [], 'MONEY' : [], 'FAC' : [], 'TIME' : [], 'ORG' : ['the Linpien Residents ' Democracy Association'], 'QUANTITY' : [], 'LANGUAGE' : [], 'GPE' : [], 'LAW' : [], 'NORP' : [], 'EVENT' : []"
     ]
    },
    {
     "name": "stderr",
     "output_type": "stream",
     "text": [
      " 30%|███       | 30/100 [04:45<11:12,  9.60s/it]"
     ]
    },
    {
     "name": "stdout",
     "output_type": "stream",
     "text": [
      "{'CARDINAL' : [], 'ORDINAL' : [], 'WORK_OF_ART' : [], 'PERSON' : [], 'LOC' : [], 'DATE' : ['August 23rd'], 'PERCENT' : [], 'PRODUCT' : [], 'MONEY' : [], 'FAC' : [], 'TIME' : [], 'ORG' : [], 'QUANTITY' : [], 'LANGUAGE' : [], 'GPE' : [], 'LAW' : [], 'NORP' : [], 'EVENT' : []"
     ]
    },
    {
     "name": "stderr",
     "output_type": "stream",
     "text": [
      " 31%|███       | 31/100 [04:55<11:06,  9.66s/it]"
     ]
    },
    {
     "name": "stdout",
     "output_type": "stream",
     "text": [
      "{'CARDINAL' : ['850 million US dollars, 700 million US dollars'], 'ORDINAL' : [], 'WORK_OF_ART' : [], 'PERSON' : [], 'LOC' : [], 'DATE' : ['last year'], 'PERCENT' : [], 'PRODUCT' : [], 'MONEY' : [], 'FAC' : [], 'TIME' : [], 'ORG' : [], 'QUANTITY' : [], 'LANGUAGE' : [], 'GPE' : [], 'LAW' : [], 'NORP' : [], 'EVENT' : []"
     ]
    },
    {
     "name": "stderr",
     "output_type": "stream",
     "text": [
      " 32%|███▏      | 32/100 [05:06<11:24, 10.07s/it]"
     ]
    },
    {
     "name": "stdout",
     "output_type": "stream",
     "text": [
      "{'CARDINAL' : [], 'ORDINAL' : [], 'WORK_OF_ART' : [], 'PERSON' : [], 'LOC' : [], 'DATE' : [], 'PERCENT' : [], 'PRODUCT' : [], 'MONEY' : [], 'FAC' : [], 'TIME' : [], 'ORG' : [], 'QUANTITY' : [], 'LANGUAGE' : [], 'GPE' : [], 'LAW' : [], 'NORP' : [], 'EVENT' : []"
     ]
    },
    {
     "name": "stderr",
     "output_type": "stream",
     "text": [
      " 33%|███▎      | 33/100 [05:15<10:54,  9.77s/it]"
     ]
    },
    {
     "name": "stdout",
     "output_type": "stream",
     "text": [
      "{'CARDINAL' : ['$ 6 million'], 'ORDINAL' : [], 'WORK_OF_ART' : [], 'PERSON' : [], 'LOC' : [], 'DATE' : [], 'PERCENT' : [], 'PRODUCT' : [], 'MONEY' : [], 'FAC' : [], 'TIME' : [], 'ORG' : [], 'QUANTITY' : [], 'LANGUAGE' : [], 'GPE' : [], 'LAW' : [], 'NORP' : [], 'EVENT' : []"
     ]
    },
    {
     "name": "stderr",
     "output_type": "stream",
     "text": [
      " 34%|███▍      | 34/100 [05:24<10:23,  9.44s/it]"
     ]
    },
    {
     "name": "stdout",
     "output_type": "stream",
     "text": [
      "{'CARDINAL' : [], 'ORDINAL' : [], 'WORK_OF_ART' : [], 'PERSON' : [], 'LOC' : [], 'DATE' : [], 'PERCENT' : [], 'PRODUCT' : [], 'MONEY' : [], 'FAC' : [], 'TIME' : [], 'ORG' : [], 'QUANTITY' : [], 'LANGUAGE' : [], 'GPE' : [], 'LAW' : [], 'NORP' : [], 'EVENT' : []"
     ]
    },
    {
     "name": "stderr",
     "output_type": "stream",
     "text": [
      " 35%|███▌      | 35/100 [05:33<10:10,  9.39s/it]"
     ]
    },
    {
     "name": "stdout",
     "output_type": "stream",
     "text": [
      "{'CARDINAL' : [], 'ORDINAL' : [], 'WORK_OF_ART' : [], 'PERSON' : [], 'LOC' : [], 'DATE' : [], 'PERCENT' : [], 'PRODUCT' : [], 'MONEY' : [], 'FAC' : [], 'TIME' : [], 'ORG' : ['Oklahoma City'], 'QUANTITY' : [], 'LANGUAGE' : [], 'GPE' : [], 'LAW' : [], 'NORP' : [], 'EVENT' : []"
     ]
    },
    {
     "name": "stderr",
     "output_type": "stream",
     "text": [
      " 36%|███▌      | 36/100 [05:42<09:52,  9.26s/it]"
     ]
    },
    {
     "name": "stdout",
     "output_type": "stream",
     "text": [
      "{'CARDINAL' : [], 'ORDINAL' : [], 'WORK_OF_ART' : [], 'PERSON' : [], 'LOC' : [], 'DATE' : [], 'PERCENT' : [], 'PRODUCT' : [], 'MONEY' : [], 'FAC' : [], 'TIME' : [], 'ORG' : [], 'QUANTITY' : [], 'LANGUAGE' : [], 'GPE' : [], 'LAW' : [], 'NORP' : [], 'EVENT' : []"
     ]
    },
    {
     "name": "stderr",
     "output_type": "stream",
     "text": [
      " 37%|███▋      | 37/100 [05:51<09:34,  9.12s/it]"
     ]
    },
    {
     "name": "stdout",
     "output_type": "stream",
     "text": [
      "{'CARDINAL' : [], 'ORDINAL' : [], 'WORK_OF_ART' : [], 'PERSON' : ['Li Yung - kun'], 'LOC' : [], 'DATE' : [], 'PERCENT' : [], 'PRODUCT' : [], 'MONEY' : [], 'FAC' : [], 'TIME' : [], 'ORG' : [], 'QUANTITY' : [], 'LANGUAGE' : [], 'GPE' : ['Tanshui'], 'LAW' : [], 'NORP' : [], 'EVENT' : []"
     ]
    },
    {
     "name": "stderr",
     "output_type": "stream",
     "text": [
      " 38%|███▊      | 38/100 [06:00<09:34,  9.27s/it]"
     ]
    },
    {
     "name": "stdout",
     "output_type": "stream",
     "text": [
      "{'CARDINAL' : [], 'ORDINAL' : [], 'WORK_OF_ART' : [], 'PERSON' : [], 'LOC' : [], 'DATE' : [], 'PERCENT' : [], 'PRODUCT' : [], 'MONEY' : ['$ 1.34'], 'FAC' : [], 'TIME' : [], 'ORG' : [], 'QUANTITY' : [], 'LANGUAGE' : [], 'GPE' : [], 'LAW' : [], 'NORP' : [], 'EVENT' : []"
     ]
    },
    {
     "name": "stderr",
     "output_type": "stream",
     "text": [
      " 39%|███▉      | 39/100 [06:10<09:38,  9.49s/it]"
     ]
    },
    {
     "name": "stdout",
     "output_type": "stream",
     "text": [
      "{'CARDINAL' : [], 'ORDINAL' : [], 'WORK_OF_ART' : [], 'PERSON' : [], 'LOC' : [], 'DATE' : [], 'PERCENT' : [], 'PRODUCT' : [], 'MONEY' : [], 'FAC' : [], 'TIME' : [], 'ORG' : [], 'QUANTITY' : [], 'LANGUAGE' : [], 'GPE' : [], 'LAW' : [], 'NORP' : [], 'EVENT' : []"
     ]
    },
    {
     "name": "stderr",
     "output_type": "stream",
     "text": [
      " 40%|████      | 40/100 [06:19<09:23,  9.39s/it]"
     ]
    },
    {
     "name": "stdout",
     "output_type": "stream",
     "text": [
      "{'CARDINAL' : [], 'ORDINAL' : [], 'WORK_OF_ART' : [], 'PERSON' : [], 'LOC' : [], 'DATE' : [], 'PERCENT' : [], 'PRODUCT' : [], 'MONEY' : [], 'FAC' : [], 'TIME' : [], 'ORG' : [], 'QUANTITY' : [], 'LANGUAGE' : [], 'GPE' : [], 'LAW' : [], 'NORP' : [], 'EVENT' : []"
     ]
    },
    {
     "name": "stderr",
     "output_type": "stream",
     "text": [
      " 41%|████      | 41/100 [06:29<09:17,  9.45s/it]"
     ]
    },
    {
     "name": "stdout",
     "output_type": "stream",
     "text": [
      "{'CARDINAL' : [], 'ORDINAL' : [], 'WORK_OF_ART' : [], 'PERSON' : [], 'LOC' : [], 'DATE' : [], 'PERCENT' : [], 'PRODUCT' : [], 'MONEY' : [], 'FAC' : [], 'TIME' : [], 'ORG' : [], 'QUANTITY' : [], 'LANGUAGE' : [], 'GPE' : [], 'LAW' : [], 'NORP' : [], 'EVENT' : []"
     ]
    },
    {
     "name": "stderr",
     "output_type": "stream",
     "text": [
      " 42%|████▏     | 42/100 [06:37<08:42,  9.01s/it]"
     ]
    },
    {
     "name": "stdout",
     "output_type": "stream",
     "text": [
      "{'CARDINAL' : [], 'ORDINAL' : [], 'WORK_OF_ART' : [], 'PERSON' : [], 'LOC' : [], 'DATE' : [], 'PERCENT' : [], 'PRODUCT' : [], 'MONEY' : [], 'FAC' : [], 'TIME' : [], 'ORG' : [], 'QUANTITY' : [], 'LANGUAGE' : [], 'GPE' : ['2,520 square kilometers'], 'LAW' : [], 'NORP' : [], 'EVENT' : []"
     ]
    },
    {
     "name": "stderr",
     "output_type": "stream",
     "text": [
      " 43%|████▎     | 43/100 [06:47<08:53,  9.36s/it]"
     ]
    },
    {
     "name": "stdout",
     "output_type": "stream",
     "text": [
      "{'CARDINAL' : [], 'ORDINAL' : [], 'WORK_OF_ART' : [], 'PERSON' : [], 'LOC' : [], 'DATE' : [], 'PERCENT' : [], 'PRODUCT' : [], 'MONEY' : [], 'FAC' : [], 'TIME' : [], 'ORG' : [], 'QUANTITY' : [], 'LANGUAGE' : [], 'GPE' : [], 'LAW' : [], 'NORP' : [], 'EVENT' : []"
     ]
    },
    {
     "name": "stderr",
     "output_type": "stream",
     "text": [
      " 44%|████▍     | 44/100 [06:56<08:36,  9.22s/it]"
     ]
    },
    {
     "name": "stdout",
     "output_type": "stream",
     "text": [
      "{'CARDINAL' : [], 'ORDINAL' : [], 'WORK_OF_ART' : [], 'PERSON' : ['David Williams'], 'LOC' : [], 'DATE' : [], 'PERCENT' : [], 'PRODUCT' : [], 'MONEY' : [], 'FAC' : [], 'TIME' : [], 'ORG' : [], 'QUANTITY' : [], 'LANGUAGE' : [], 'GPE' : [], 'LAW' : [], 'NORP' : [], 'EVENT' : []"
     ]
    },
    {
     "name": "stderr",
     "output_type": "stream",
     "text": [
      " 45%|████▌     | 45/100 [07:05<08:13,  8.98s/it]"
     ]
    },
    {
     "name": "stdout",
     "output_type": "stream",
     "text": [
      "{'CARDINAL' : [], 'ORDINAL' : [], 'WORK_OF_ART' : [], 'PERSON' : ['Arianna Huffington, Judy Miller, Jill Abrahamson'], 'LOC' : [], 'DATE' : [], 'PERCENT' : [], 'PRODUCT' : [], 'MONEY' : [], 'FAC' : [], 'TIME' : ['this uh story on Valerie Plame two years ago'], 'ORG' : [], 'QUANTITY' : [], 'LANGUAGE' : [], 'GPE' : [], 'LAW' : [], 'NORP' : [], 'EVENT' : []"
     ]
    },
    {
     "name": "stderr",
     "output_type": "stream",
     "text": [
      " 46%|████▌     | 46/100 [07:15<08:33,  9.51s/it]"
     ]
    },
    {
     "name": "stdout",
     "output_type": "stream",
     "text": [
      "{'CARDINAL' : [], 'ORDINAL' : [], 'WORK_OF_ART' : [], 'PERSON' : ['He'], 'LOC' : [], 'DATE' : [], 'PERCENT' : [], 'PRODUCT' : [], 'MONEY' : [], 'FAC' : [], 'TIME' : [], 'ORG' : [], 'QUANTITY' : [], 'LANGUAGE' : [], 'GPE' : [], 'LAW' : [], 'NORP' : [], 'EVENT' : []"
     ]
    },
    {
     "name": "stderr",
     "output_type": "stream",
     "text": [
      " 47%|████▋     | 47/100 [07:25<08:22,  9.49s/it]"
     ]
    },
    {
     "name": "stdout",
     "output_type": "stream",
     "text": [
      "{'CARDINAL' : [], 'ORDINAL' : [], 'WORK_OF_ART' : [], 'PERSON' : [], 'LOC' : [], 'DATE' : ['last week'], 'PERCENT' : [], 'PRODUCT' : [], 'MONEY' : [], 'FAC' : [], 'TIME' : [], 'ORG' : [\"Time Warner Inc. 's\"], 'QUANTITY' : [], 'LANGUAGE' : [], 'GPE' : [], 'LAW' : [], 'NORP' : [], 'EVENT' : []"
     ]
    },
    {
     "name": "stderr",
     "output_type": "stream",
     "text": [
      " 48%|████▊     | 48/100 [07:34<08:06,  9.35s/it]"
     ]
    },
    {
     "name": "stdout",
     "output_type": "stream",
     "text": [
      "{'CARDINAL' : [], 'ORDINAL' : [], 'WORK_OF_ART' : [], 'PERSON' : ['Brown'], 'LOC' : [], 'DATE' : [], 'PERCENT' : [], 'PRODUCT' : [], 'MONEY' : [], 'FAC' : [], 'TIME' : ['Today'], 'ORG' : ['the US 's Westinghouse Company, the Shanghai Electric Group, the US 's General Electric Capital Company, the Shanghai Electricity Company'], 'QUANTITY' : [], 'LANGUAGE' : [], 'GPE' : ['US'], 'LAW' : [], 'NORP' : [], 'EVENT' : []"
     ]
    },
    {
     "name": "stderr",
     "output_type": "stream",
     "text": [
      " 49%|████▉     | 49/100 [07:45<08:28,  9.97s/it]"
     ]
    },
    {
     "name": "stdout",
     "output_type": "stream",
     "text": [
      "{'CARDINAL' : [], 'ORDINAL' : [], 'WORK_OF_ART' : [], 'PERSON' : [], 'LOC' : [], 'DATE' : [], 'PERCENT' : [], 'PRODUCT' : [\"the `` USS Cole ''\"], 'MONEY' : [], 'FAC' : [], 'TIME' : [], 'ORG' : [], 'QUANTITY' : [], 'LANGUAGE' : [], 'GPE' : ['Yemen'], 'LAW' : [], 'NORP' : [], 'EVENT' : []"
     ]
    },
    {
     "name": "stderr",
     "output_type": "stream",
     "text": [
      " 50%|█████     | 50/100 [07:55<08:11,  9.84s/it]"
     ]
    },
    {
     "name": "stdout",
     "output_type": "stream",
     "text": [
      "{'CARDINAL' : [], 'ORDINAL' : [], 'WORK_OF_ART' : [], 'PERSON' : [], 'LOC' : [], 'DATE' : [], 'PERCENT' : [], 'PRODUCT' : [], 'MONEY' : [], 'FAC' : [], 'TIME' : [], 'ORG' : ['Export credits , international financing leaseholds , compensation trades with foreign exchange repayment methods , overseas institution 's and individual 's foreign exchange deposits -LRB- excluding foreign exchange deposits in banks approved for offshore operations -RRB- , project financing , financing under trade projects over 90 days and other forms of foreign exchange loans will all be treated and managed as international commercial loans .'], 'QUANTITY' : [], 'LANGUAGE' : [], 'GPE' : [], 'LAW' : [], 'NORP' : [], 'EVENT' : []"
     ]
    },
    {
     "name": "stderr",
     "output_type": "stream",
     "text": [
      " 51%|█████     | 51/100 [08:10<09:19, 11.42s/it]"
     ]
    },
    {
     "name": "stdout",
     "output_type": "stream",
     "text": [
      "{'CARDINAL' : [], 'ORDINAL' : [], 'WORK_OF_ART' : [], 'PERSON' : [], 'LOC' : [], 'DATE' : [], 'PERCENT' : [], 'PRODUCT' : [], 'MONEY' : [], 'FAC' : [], 'TIME' : [], 'ORG' : [], 'QUANTITY' : [], 'LANGUAGE' : [], 'GPE' : [], 'LAW' : [], 'NORP' : [], 'EVENT' : []"
     ]
    },
    {
     "name": "stderr",
     "output_type": "stream",
     "text": [
      " 52%|█████▏    | 52/100 [08:19<08:42, 10.89s/it]"
     ]
    },
    {
     "name": "stdout",
     "output_type": "stream",
     "text": [
      "{'CARDINAL' : [], 'ORDINAL' : [], 'WORK_OF_ART' : [], 'PERSON' : ['Rod Perth'], 'LOC' : [], 'DATE' : [], 'PERCENT' : [], 'PRODUCT' : [], 'MONEY' : [], 'FAC' : [], 'TIME' : [], 'ORG' : [], 'QUANTITY' : [], 'LANGUAGE' : [], 'GPE' : [], 'LAW' : [], 'NORP' : [], 'EVENT' : []"
     ]
    },
    {
     "name": "stderr",
     "output_type": "stream",
     "text": [
      " 53%|█████▎    | 53/100 [08:29<08:13, 10.49s/it]"
     ]
    },
    {
     "name": "stdout",
     "output_type": "stream",
     "text": [
      "{'CARDINAL' : [], 'ORDINAL' : [], 'WORK_OF_ART' : [], 'PERSON' : [], 'LOC' : [], 'DATE' : [], 'PERCENT' : [], 'PRODUCT' : [], 'MONEY' : [], 'FAC' : [], 'TIME' : [], 'ORG' : [], 'QUANTITY' : [], 'LANGUAGE' : [], 'GPE' : [], 'LAW' : [], 'NORP' : [], 'EVENT' : []"
     ]
    },
    {
     "name": "stderr",
     "output_type": "stream",
     "text": [
      " 54%|█████▍    | 54/100 [08:38<07:35,  9.90s/it]"
     ]
    },
    {
     "name": "stdout",
     "output_type": "stream",
     "text": [
      "{'CARDINAL' : [], 'ORDINAL' : [], 'WORK_OF_ART' : [], 'PERSON' : [], 'LOC' : [], 'DATE' : [], 'PERCENT' : [], 'PRODUCT' : [], 'MONEY' : [], 'FAC' : [], 'TIME' : [], 'ORG' : [], 'QUANTITY' : [], 'LANGUAGE' : [], 'GPE' : [], 'LAW' : [], 'NORP' : [], 'EVENT' : []"
     ]
    },
    {
     "name": "stderr",
     "output_type": "stream",
     "text": [
      " 55%|█████▌    | 55/100 [08:47<07:13,  9.63s/it]"
     ]
    },
    {
     "name": "stdout",
     "output_type": "stream",
     "text": [
      "{'CARDINAL' : [], 'ORDINAL' : [], 'WORK_OF_ART' : [], 'PERSON' : ['General Sanholi'], 'LOC' : [], 'DATE' : [], 'PERCENT' : [], 'PRODUCT' : [], 'MONEY' : [], 'FAC' : [], 'TIME' : [], 'ORG' : [], 'QUANTITY' : [], 'LANGUAGE' : [], 'GPE' : [], 'LAW' : [], 'NORP' : [], 'EVENT' : []"
     ]
    },
    {
     "name": "stderr",
     "output_type": "stream",
     "text": [
      " 56%|█████▌    | 56/100 [08:57<07:09,  9.76s/it]"
     ]
    },
    {
     "name": "stdout",
     "output_type": "stream",
     "text": [
      "{'CARDINAL' : [], 'ORDINAL' : [], 'WORK_OF_ART' : [], 'PERSON' : [], 'LOC' : ['the Great Plains'], 'DATE' : [], 'PERCENT' : [], 'PRODUCT' : [], 'MONEY' : [], 'FAC' : [], 'TIME' : [], 'ORG' : [], 'QUANTITY' : [], 'LANGUAGE' : [], 'GPE' : [], 'LAW' : [], 'NORP' : [], 'EVENT' : []"
     ]
    },
    {
     "name": "stderr",
     "output_type": "stream",
     "text": [
      " 57%|█████▋    | 57/100 [09:06<06:49,  9.52s/it]"
     ]
    },
    {
     "name": "stdout",
     "output_type": "stream",
     "text": [
      "{'CARDINAL' : [], 'ORDINAL' : [], 'WORK_OF_ART' : [], 'PERSON' : ['He'], 'LOC' : [], 'DATE' : [], 'PERCENT' : [], 'PRODUCT' : [], 'MONEY' : [], 'FAC' : [], 'TIME' : [], 'ORG' : [], 'QUANTITY' : [], 'LANGUAGE' : [], 'GPE' : [], 'LAW' : [], 'NORP' : [], 'EVENT' : []"
     ]
    },
    {
     "name": "stderr",
     "output_type": "stream",
     "text": [
      " 58%|█████▊    | 58/100 [09:15<06:35,  9.42s/it]"
     ]
    },
    {
     "name": "stdout",
     "output_type": "stream",
     "text": [
      "{'CARDINAL' : ['China 's'], 'ORDINAL' : [], 'WORK_OF_ART' : [], 'PERSON' : [], 'LOC' : [], 'DATE' : [], 'PERCENT' : [], 'PRODUCT' : [], 'MONEY' : [], 'FAC' : [], 'TIME' : [], 'ORG' : [], 'QUANTITY' : [], 'LANGUAGE' : [], 'GPE' : ['China'], 'LAW' : [], 'NORP' : [], 'EVENT' : []"
     ]
    },
    {
     "name": "stderr",
     "output_type": "stream",
     "text": [
      " 59%|█████▉    | 59/100 [09:24<06:29,  9.50s/it]"
     ]
    },
    {
     "name": "stdout",
     "output_type": "stream",
     "text": [
      "{'CARDINAL' : ['more than 50'], 'ORDINAL' : [], 'WORK_OF_ART' : [], 'PERSON' : [], 'LOC' : [], 'DATE' : ['the past two years'], 'PERCENT' : [], 'PRODUCT' : [], 'MONEY' : [], 'FAC' : [], 'TIME' : [], 'ORG' : [], 'QUANTITY' : [], 'LANGUAGE' : [], 'GPE' : [], 'LAW' : [], 'NORP' : [], 'EVENT' : []"
     ]
    },
    {
     "name": "stderr",
     "output_type": "stream",
     "text": [
      " 60%|██████    | 60/100 [09:34<06:15,  9.38s/it]"
     ]
    },
    {
     "name": "stdout",
     "output_type": "stream",
     "text": [
      "{'CARDINAL' : [], 'ORDINAL' : [], 'WORK_OF_ART' : [], 'PERSON' : ['he'], 'LOC' : [], 'DATE' : ['the last two years'], 'PERCENT' : [], 'PRODUCT' : [], 'MONEY' : [], 'FAC' : [], 'TIME' : [], 'ORG' : [], 'QUANTITY' : [], 'LANGUAGE' : [], 'GPE' : [], 'LAW' : [], 'NORP' : [], 'EVENT' : []"
     ]
    },
    {
     "name": "stderr",
     "output_type": "stream",
     "text": [
      " 61%|██████    | 61/100 [09:43<06:07,  9.43s/it]"
     ]
    },
    {
     "name": "stdout",
     "output_type": "stream",
     "text": [
      "{'CARDINAL' : [], 'ORDINAL' : [], 'WORK_OF_ART' : [], 'PERSON' : ['Lee Yuan - tseh'], 'LOC' : [], 'DATE' : ['November'], 'PERCENT' : [], 'PRODUCT' : [], 'MONEY' : [], 'FAC' : [], 'TIME' : [], 'ORG' : [], 'QUANTITY' : [], 'LANGUAGE' : [], 'GPE' : ['Taiwan'], 'LAW' : [], 'NORP' : [], 'EVENT' : []"
     ]
    },
    {
     "name": "stderr",
     "output_type": "stream",
     "text": [
      " 62%|██████▏   | 62/100 [09:53<06:08,  9.70s/it]"
     ]
    },
    {
     "name": "stdout",
     "output_type": "stream",
     "text": [
      "{'CARDINAL' : [], 'ORDINAL' : [], 'WORK_OF_ART' : [], 'PERSON' : ['dancer'], 'LOC' : [], 'DATE' : [], 'PERCENT' : [], 'PRODUCT' : [], 'MONEY' : [], 'FAC' : [], 'TIME' : [], 'ORG' : [], 'QUANTITY' : [], 'LANGUAGE' : [], 'GPE' : [], 'LAW' : [], 'NORP' : [], 'EVENT' : []"
     ]
    },
    {
     "name": "stderr",
     "output_type": "stream",
     "text": [
      " 63%|██████▎   | 63/100 [10:03<05:57,  9.67s/it]"
     ]
    },
    {
     "name": "stdout",
     "output_type": "stream",
     "text": [
      "{'CARDINAL' : [], 'ORDINAL' : [], 'WORK_OF_ART' : [], 'PERSON' : [], 'LOC' : [], 'DATE' : [], 'PERCENT' : [], 'PRODUCT' : [], 'MONEY' : [], 'FAC' : [], 'TIME' : [], 'ORG' : [], 'QUANTITY' : [], 'LANGUAGE' : [], 'GPE' : [], 'LAW' : [], 'NORP' : [], 'EVENT' : []"
     ]
    },
    {
     "name": "stderr",
     "output_type": "stream",
     "text": [
      " 64%|██████▍   | 64/100 [10:12<05:45,  9.59s/it]"
     ]
    },
    {
     "name": "stdout",
     "output_type": "stream",
     "text": [
      "{'CARDINAL' : ['3,000'], 'ORDINAL' : [], 'WORK_OF_ART' : [], 'PERSON' : [], 'LOC' : [], 'DATE' : [], 'PERCENT' : [], 'PRODUCT' : [], 'MONEY' : [], 'FAC' : [], 'TIME' : [], 'ORG' : [], 'QUANTITY' : [], 'LANGUAGE' : [], 'GPE' : ['Taiwan'], 'LAW' : [], 'NORP' : [], 'EVENT' : []"
     ]
    },
    {
     "name": "stderr",
     "output_type": "stream",
     "text": [
      " 65%|██████▌   | 65/100 [10:23<05:44,  9.84s/it]"
     ]
    },
    {
     "name": "stdout",
     "output_type": "stream",
     "text": [
      "{'CARDINAL' : [], 'ORDINAL' : [], 'WORK_OF_ART' : [], 'PERSON' : [], 'LOC' : [], 'DATE' : [], 'PERCENT' : [], 'PRODUCT' : [], 'MONEY' : [], 'FAC' : [], 'TIME' : [], 'ORG' : [], 'QUANTITY' : [], 'LANGUAGE' : [], 'GPE' : [], 'LAW' : [], 'NORP' : [], 'EVENT' : []"
     ]
    },
    {
     "name": "stderr",
     "output_type": "stream",
     "text": [
      " 66%|██████▌   | 66/100 [10:31<05:21,  9.45s/it]"
     ]
    },
    {
     "name": "stdout",
     "output_type": "stream",
     "text": [
      "{'CARDINAL' : [], 'ORDINAL' : [], 'WORK_OF_ART' : [], 'PERSON' : [], 'LOC' : [], 'DATE' : [], 'PERCENT' : [], 'PRODUCT' : [], 'MONEY' : [], 'FAC' : [], 'TIME' : [], 'ORG' : [], 'QUANTITY' : [], 'LANGUAGE' : [], 'GPE' : ['Taichung', 'Taiwan'], 'LAW' : [], 'NORP' : [], 'EVENT' : []"
     ]
    },
    {
     "name": "stderr",
     "output_type": "stream",
     "text": [
      " 67%|██████▋   | 67/100 [10:41<05:12,  9.48s/it]"
     ]
    },
    {
     "name": "stdout",
     "output_type": "stream",
     "text": [
      "{'CARDINAL' : [], 'ORDINAL' : [], 'WORK_OF_ART' : [], 'PERSON' : [], 'LOC' : [], 'DATE' : [], 'PERCENT' : [], 'PRODUCT' : [], 'MONEY' : [], 'FAC' : [], 'TIME' : [], 'ORG' : [], 'QUANTITY' : [], 'LANGUAGE' : [], 'GPE' : [], 'LAW' : [], 'NORP' : [], 'EVENT' : []"
     ]
    },
    {
     "name": "stderr",
     "output_type": "stream",
     "text": [
      " 68%|██████▊   | 68/100 [10:50<04:57,  9.28s/it]"
     ]
    },
    {
     "name": "stdout",
     "output_type": "stream",
     "text": [
      "{'CARDINAL' : [], 'ORDINAL' : [], 'WORK_OF_ART' : [], 'PERSON' : ['Lee Teng - hui'], 'LOC' : [], 'DATE' : [], 'PERCENT' : [], 'PRODUCT' : [], 'MONEY' : [], 'FAC' : [], 'TIME' : [], 'ORG' : [], 'QUANTITY' : [], 'LANGUAGE' : [], 'GPE' : [], 'LAW' : [], 'NORP' : [], 'EVENT' : []"
     ]
    },
    {
     "name": "stderr",
     "output_type": "stream",
     "text": [
      " 69%|██████▉   | 69/100 [11:00<04:56,  9.55s/it]"
     ]
    },
    {
     "name": "stdout",
     "output_type": "stream",
     "text": [
      "{'CARDINAL' : [], 'ORDINAL' : [], 'WORK_OF_ART' : [], 'PERSON' : [], 'LOC' : [], 'DATE' : [], 'PERCENT' : [], 'PRODUCT' : [], 'MONEY' : [], 'FAC' : [], 'TIME' : [], 'ORG' : [], 'QUANTITY' : [], 'LANGUAGE' : [], 'GPE' : [], 'LAW' : [], 'NORP' : [], 'EVENT' : []"
     ]
    },
    {
     "name": "stderr",
     "output_type": "stream",
     "text": [
      " 70%|███████   | 70/100 [11:09<04:43,  9.44s/it]"
     ]
    },
    {
     "name": "stdout",
     "output_type": "stream",
     "text": [
      "{'CARDINAL' : [], 'ORDINAL' : [], 'WORK_OF_ART' : [], 'PERSON' : ['Wang Yung - ching'], 'LOC' : [], 'DATE' : [], 'PERCENT' : [], 'PRODUCT' : [], 'MONEY' : [], 'FAC' : [], 'TIME' : [], 'ORG' : [], 'QUANTITY' : [], 'LANGUAGE' : [], 'GPE' : [], 'LAW' : [], 'NORP' : [], 'EVENT' : []"
     ]
    },
    {
     "name": "stderr",
     "output_type": "stream",
     "text": [
      " 71%|███████   | 71/100 [11:19<04:36,  9.53s/it]"
     ]
    },
    {
     "name": "stdout",
     "output_type": "stream",
     "text": [
      "{'CARDINAL' : [], 'ORDINAL' : [], 'WORK_OF_ART' : [], 'PERSON' : [], 'LOC' : [], 'DATE' : [], 'PERCENT' : [], 'PRODUCT' : [], 'MONEY' : [], 'FAC' : [], 'TIME' : [], 'ORG' : [], 'QUANTITY' : [], 'LANGUAGE' : [], 'GPE' : [], 'LAW' : [], 'NORP' : ['the North Koreans'], 'EVENT' : []"
     ]
    },
    {
     "name": "stderr",
     "output_type": "stream",
     "text": [
      " 72%|███████▏  | 72/100 [11:28<04:22,  9.38s/it]"
     ]
    },
    {
     "name": "stdout",
     "output_type": "stream",
     "text": [
      "{'CARDINAL' : [], 'ORDINAL' : [], 'WORK_OF_ART' : [], 'PERSON' : [], 'LOC' : [], 'DATE' : [], 'PERCENT' : [], 'PRODUCT' : [], 'MONEY' : [], 'FAC' : [], 'TIME' : [], 'ORG' : [], 'QUANTITY' : [], 'LANGUAGE' : [], 'GPE' : [], 'LAW' : [], 'NORP' : [], 'EVENT' : []"
     ]
    },
    {
     "name": "stderr",
     "output_type": "stream",
     "text": [
      " 73%|███████▎  | 73/100 [11:37<04:10,  9.27s/it]"
     ]
    },
    {
     "name": "stdout",
     "output_type": "stream",
     "text": [
      "{'CARDINAL' : [], 'ORDINAL' : [], 'WORK_OF_ART' : [], 'PERSON' : [], 'LOC' : [], 'DATE' : [], 'PERCENT' : [], 'PRODUCT' : [], 'MONEY' : [], 'FAC' : [], 'TIME' : [], 'ORG' : [], 'QUANTITY' : [], 'LANGUAGE' : [], 'GPE' : [], 'LAW' : [], 'NORP' : [], 'EVENT' : []"
     ]
    },
    {
     "name": "stderr",
     "output_type": "stream",
     "text": [
      " 74%|███████▍  | 74/100 [11:45<03:51,  8.91s/it]"
     ]
    },
    {
     "name": "stdout",
     "output_type": "stream",
     "text": [
      "{'CARDINAL' : [], 'ORDINAL' : [], 'WORK_OF_ART' : [], 'PERSON' : [], 'LOC' : [], 'DATE' : [], 'PERCENT' : [], 'PRODUCT' : [], 'MONEY' : [], 'FAC' : [], 'TIME' : [], 'ORG' : [], 'QUANTITY' : [], 'LANGUAGE' : [], 'GPE' : ['Iraq'], 'LAW' : [], 'NORP' : [], 'EVENT' : []"
     ]
    },
    {
     "name": "stderr",
     "output_type": "stream",
     "text": [
      " 75%|███████▌  | 75/100 [11:54<03:45,  9.01s/it]"
     ]
    },
    {
     "name": "stdout",
     "output_type": "stream",
     "text": [
      "{'CARDINAL' : [], 'ORDINAL' : [], 'WORK_OF_ART' : [], 'PERSON' : [], 'LOC' : [], 'DATE' : [], 'PERCENT' : [], 'PRODUCT' : [], 'MONEY' : [], 'FAC' : [], 'TIME' : [], 'ORG' : [], 'QUANTITY' : [], 'LANGUAGE' : [], 'GPE' : ['Taiwan'], 'LAW' : [], 'NORP' : [], 'EVENT' : []"
     ]
    },
    {
     "name": "stderr",
     "output_type": "stream",
     "text": [
      " 76%|███████▌  | 76/100 [12:04<03:42,  9.25s/it]"
     ]
    },
    {
     "name": "stdout",
     "output_type": "stream",
     "text": [
      "{'CARDINAL' : [], 'ORDINAL' : [], 'WORK_OF_ART' : [], 'PERSON' : [], 'LOC' : [], 'DATE' : [], 'PERCENT' : [], 'PRODUCT' : [], 'MONEY' : [], 'FAC' : [], 'TIME' : [], 'ORG' : [], 'QUANTITY' : [], 'LANGUAGE' : [], 'GPE' : [], 'LAW' : [], 'NORP' : [], 'EVENT' : []"
     ]
    },
    {
     "name": "stderr",
     "output_type": "stream",
     "text": [
      " 77%|███████▋  | 77/100 [12:13<03:33,  9.29s/it]"
     ]
    },
    {
     "name": "stdout",
     "output_type": "stream",
     "text": [
      "{'CARDINAL' : [], 'ORDINAL' : [], 'WORK_OF_ART' : [], 'PERSON' : [], 'LOC' : [], 'DATE' : [], 'PERCENT' : [], 'PRODUCT' : [], 'MONEY' : [], 'FAC' : [], 'TIME' : [], 'ORG' : ['Senators'], 'QUANTITY' : [], 'LANGUAGE' : [], 'GPE' : [], 'LAW' : [], 'NORP' : [], 'EVENT' : []"
     ]
    },
    {
     "name": "stderr",
     "output_type": "stream",
     "text": [
      " 78%|███████▊  | 78/100 [12:23<03:27,  9.43s/it]"
     ]
    },
    {
     "name": "stdout",
     "output_type": "stream",
     "text": [
      "{'CARDINAL' : [], 'ORDINAL' : [], 'WORK_OF_ART' : [], 'PERSON' : ['Chang'], 'LOC' : [], 'DATE' : [], 'PERCENT' : [], 'PRODUCT' : [], 'MONEY' : [], 'FAC' : [], 'TIME' : [], 'ORG' : [], 'QUANTITY' : [], 'LANGUAGE' : [], 'GPE' : [], 'LAW' : [], 'NORP' : [], 'EVENT' : []"
     ]
    },
    {
     "name": "stderr",
     "output_type": "stream",
     "text": [
      " 79%|███████▉  | 79/100 [12:32<03:11,  9.10s/it]"
     ]
    },
    {
     "name": "stdout",
     "output_type": "stream",
     "text": [
      "{'CARDINAL' : ['20 %'], 'ORDINAL' : [], 'WORK_OF_ART' : [], 'PERSON' : [], 'LOC' : [], 'DATE' : [], 'PERCENT' : ['20 %'], 'PRODUCT' : [], 'MONEY' : [], 'FAC' : [], 'TIME' : [], 'ORG' : [], 'QUANTITY' : [], 'LANGUAGE' : [], 'GPE' : [], 'LAW' : [], 'NORP' : [], 'EVENT' : []"
     ]
    },
    {
     "name": "stderr",
     "output_type": "stream",
     "text": [
      " 80%|████████  | 80/100 [12:41<03:03,  9.17s/it]"
     ]
    },
    {
     "name": "stdout",
     "output_type": "stream",
     "text": [
      "{'CARDINAL' : [], 'ORDINAL' : [], 'WORK_OF_ART' : [], 'PERSON' : [], 'LOC' : [], 'DATE' : [], 'PERCENT' : [], 'PRODUCT' : [], 'MONEY' : [], 'FAC' : [], 'TIME' : [], 'ORG' : [], 'QUANTITY' : [], 'LANGUAGE' : [], 'GPE' : [], 'LAW' : [], 'NORP' : [], 'EVENT' : []"
     ]
    },
    {
     "name": "stderr",
     "output_type": "stream",
     "text": [
      " 81%|████████  | 81/100 [12:49<02:50,  8.97s/it]"
     ]
    },
    {
     "name": "stdout",
     "output_type": "stream",
     "text": [
      "{'CARDINAL' : [], 'ORDINAL' : [], 'WORK_OF_ART' : [], 'PERSON' : [], 'LOC' : [], 'DATE' : [], 'PERCENT' : [], 'PRODUCT' : [], 'MONEY' : [], 'FAC' : [], 'TIME' : [], 'ORG' : [], 'QUANTITY' : [], 'LANGUAGE' : [], 'GPE' : [], 'LAW' : [], 'NORP' : [], 'EVENT' : ['Cocom']"
     ]
    },
    {
     "name": "stderr",
     "output_type": "stream",
     "text": [
      " 82%|████████▏ | 82/100 [12:59<02:46,  9.24s/it]"
     ]
    },
    {
     "name": "stdout",
     "output_type": "stream",
     "text": [
      "{'CARDINAL' : [], 'ORDINAL' : [], 'WORK_OF_ART' : [], 'PERSON' : [], 'LOC' : [], 'DATE' : ['the guaranteed circulation base is being lowered'], 'PERCENT' : [], 'PRODUCT' : [], 'MONEY' : [], 'FAC' : [], 'TIME' : [], 'ORG' : ['Time'], 'QUANTITY' : [], 'LANGUAGE' : [], 'GPE' : [], 'LAW' : [], 'NORP' : [], 'EVENT' : []"
     ]
    },
    {
     "name": "stderr",
     "output_type": "stream",
     "text": [
      " 83%|████████▎ | 83/100 [13:09<02:37,  9.26s/it]"
     ]
    },
    {
     "name": "stdout",
     "output_type": "stream",
     "text": [
      "{'CARDINAL' : ['83'], 'ORDINAL' : [], 'WORK_OF_ART' : [], 'PERSON' : ['justice'], 'LOC' : [], 'DATE' : ['83 - year - old'], 'PERCENT' : [], 'PRODUCT' : [], 'MONEY' : [], 'FAC' : [], 'TIME' : [], 'ORG' : [], 'QUANTITY' : [], 'LANGUAGE' : [], 'GPE' : [], 'LAW' : [], 'NORP' : [], 'EVENT' : []"
     ]
    },
    {
     "name": "stderr",
     "output_type": "stream",
     "text": [
      " 84%|████████▍ | 84/100 [13:18<02:29,  9.35s/it]"
     ]
    },
    {
     "name": "stdout",
     "output_type": "stream",
     "text": [
      "{'CARDINAL' : ['more'], 'ORDINAL' : [], 'WORK_OF_ART' : [], 'PERSON' : [], 'LOC' : [], 'DATE' : [], 'PERCENT' : [], 'PRODUCT' : [], 'MONEY' : [], 'FAC' : [], 'TIME' : [], 'ORG' : [], 'QUANTITY' : [], 'LANGUAGE' : [], 'GPE' : ['Iraq'], 'LAW' : [], 'NORP' : [], 'EVENT' : []"
     ]
    },
    {
     "name": "stderr",
     "output_type": "stream",
     "text": [
      " 85%|████████▌ | 85/100 [13:27<02:19,  9.33s/it]"
     ]
    },
    {
     "name": "stdout",
     "output_type": "stream",
     "text": [
      "{'CARDINAL' : [], 'ORDINAL' : [], 'WORK_OF_ART' : [], 'PERSON' : ['Miller, Libby, Cheney'], 'LOC' : [], 'DATE' : [], 'PERCENT' : [], 'PRODUCT' : [], 'MONEY' : [], 'FAC' : [], 'TIME' : [], 'ORG' : [], 'QUANTITY' : [], 'LANGUAGE' : [], 'GPE' : [], 'LAW' : [], 'NORP' : [], 'EVENT' : []"
     ]
    },
    {
     "name": "stderr",
     "output_type": "stream",
     "text": [
      " 86%|████████▌ | 86/100 [13:37<02:11,  9.36s/it]"
     ]
    },
    {
     "name": "stdout",
     "output_type": "stream",
     "text": [
      "{'CARDINAL' : [], 'ORDINAL' : [], 'WORK_OF_ART' : [], 'PERSON' : [], 'LOC' : [], 'DATE' : [], 'PERCENT' : [], 'PRODUCT' : [], 'MONEY' : [], 'FAC' : [], 'TIME' : [], 'ORG' : [], 'QUANTITY' : [], 'LANGUAGE' : [], 'GPE' : [], 'LAW' : [], 'NORP' : [], 'EVENT' : []"
     ]
    },
    {
     "name": "stderr",
     "output_type": "stream",
     "text": [
      " 87%|████████▋ | 87/100 [13:46<02:01,  9.33s/it]"
     ]
    },
    {
     "name": "stdout",
     "output_type": "stream",
     "text": [
      "{'CARDINAL' : [], 'ORDINAL' : [], 'WORK_OF_ART' : [], 'PERSON' : [], 'LOC' : [], 'DATE' : [], 'PERCENT' : [], 'PRODUCT' : [], 'MONEY' : [], 'FAC' : [], 'TIME' : [], 'ORG' : [], 'QUANTITY' : [], 'LANGUAGE' : [], 'GPE' : [], 'LAW' : [], 'NORP' : [], 'EVENT' : []"
     ]
    },
    {
     "name": "stderr",
     "output_type": "stream",
     "text": [
      " 88%|████████▊ | 88/100 [13:55<01:49,  9.16s/it]"
     ]
    },
    {
     "name": "stdout",
     "output_type": "stream",
     "text": [
      "{'CARDINAL' : ['two'], 'ORDINAL' : [], 'WORK_OF_ART' : [], 'PERSON' : [], 'LOC' : [], 'DATE' : [], 'PERCENT' : [], 'PRODUCT' : [], 'MONEY' : [], 'FAC' : [], 'TIME' : [], 'ORG' : ['Sunbelt Savings & Loan Association of Dallas'], 'QUANTITY' : [], 'LANGUAGE' : [], 'GPE' : ['Dallas'], 'LAW' : [], 'NORP' : [], 'EVENT' : []"
     ]
    },
    {
     "name": "stderr",
     "output_type": "stream",
     "text": [
      " 89%|████████▉ | 89/100 [14:05<01:43,  9.40s/it]"
     ]
    },
    {
     "name": "stdout",
     "output_type": "stream",
     "text": [
      "{'CARDINAL' : [], 'ORDINAL' : [], 'WORK_OF_ART' : [], 'PERSON' : [], 'LOC' : [], 'DATE' : [], 'PERCENT' : [], 'PRODUCT' : [], 'MONEY' : ['$ 239 million'], 'FAC' : [], 'TIME' : [], 'ORG' : [], 'QUANTITY' : [], 'LANGUAGE' : [], 'GPE' : [], 'LAW' : [], 'NORP' : [], 'EVENT' : []"
     ]
    },
    {
     "name": "stderr",
     "output_type": "stream",
     "text": [
      " 90%|█████████ | 90/100 [14:14<01:34,  9.46s/it]"
     ]
    },
    {
     "name": "stdout",
     "output_type": "stream",
     "text": [
      "{'CARDINAL' : [], 'ORDINAL' : [], 'WORK_OF_ART' : [], 'PERSON' : [], 'LOC' : [], 'DATE' : [], 'PERCENT' : [], 'PRODUCT' : [], 'MONEY' : ['nearly 30 million US dollars, over 10 million US dollars'], 'FAC' : [], 'TIME' : [], 'ORG' : [], 'QUANTITY' : [], 'LANGUAGE' : [], 'GPE' : [], 'LAW' : [], 'NORP' : [], 'EVENT' : []"
     ]
    },
    {
     "name": "stderr",
     "output_type": "stream",
     "text": [
      " 91%|█████████ | 91/100 [14:24<01:24,  9.41s/it]"
     ]
    },
    {
     "name": "stdout",
     "output_type": "stream",
     "text": [
      "{'CARDINAL' : [], 'ORDINAL' : [], 'WORK_OF_ART' : [], 'PERSON' : [], 'LOC' : [], 'DATE' : [], 'PERCENT' : [], 'PRODUCT' : [], 'MONEY' : [], 'FAC' : [], 'TIME' : [], 'ORG' : [], 'QUANTITY' : [], 'LANGUAGE' : [], 'GPE' : [], 'LAW' : [], 'NORP' : [], 'EVENT' : []"
     ]
    },
    {
     "name": "stderr",
     "output_type": "stream",
     "text": [
      " 92%|█████████▏| 92/100 [14:32<01:13,  9.14s/it]"
     ]
    },
    {
     "name": "stdout",
     "output_type": "stream",
     "text": [
      "{'CARDINAL' : [], 'ORDINAL' : [], 'WORK_OF_ART' : [], 'PERSON' : [], 'LOC' : [], 'DATE' : ['the same period of the previous year'], 'PERCENT' : ['10 % to 20 %'], 'PRODUCT' : [], 'MONEY' : ['3.08 billion yuan'], 'FAC' : [], 'TIME' : [], 'ORG' : [], 'QUANTITY' : [], 'LANGUAGE' : [], 'GPE' : [], 'LAW' : [], 'NORP' : [], 'EVENT' : []"
     ]
    },
    {
     "name": "stderr",
     "output_type": "stream",
     "text": [
      " 93%|█████████▎| 93/100 [14:42<01:04,  9.19s/it]"
     ]
    },
    {
     "name": "stdout",
     "output_type": "stream",
     "text": [
      "{'CARDINAL' : [], 'ORDINAL' : [], 'WORK_OF_ART' : [], 'PERSON' : [], 'LOC' : [], 'DATE' : [], 'PERCENT' : [], 'PRODUCT' : [], 'MONEY' : [], 'FAC' : [], 'TIME' : ['within the past hour or so'], 'ORG' : [], 'QUANTITY' : [], 'LANGUAGE' : [], 'GPE' : ['Israel'], 'LAW' : [], 'NORP' : [], 'EVENT' : []"
     ]
    },
    {
     "name": "stderr",
     "output_type": "stream",
     "text": [
      " 94%|█████████▍| 94/100 [14:51<00:56,  9.34s/it]"
     ]
    },
    {
     "name": "stdout",
     "output_type": "stream",
     "text": [
      "{'CARDINAL' : [], 'ORDINAL' : [], 'WORK_OF_ART' : [], 'PERSON' : ['Bob Wilson'], 'LOC' : [], 'DATE' : [], 'PERCENT' : [], 'PRODUCT' : [], 'MONEY' : [], 'FAC' : [], 'TIME' : [], 'ORG' : ['Budget'], 'QUANTITY' : [], 'LANGUAGE' : [], 'GPE' : [], 'LAW' : [], 'NORP' : [], 'EVENT' : []"
     ]
    },
    {
     "name": "stderr",
     "output_type": "stream",
     "text": [
      " 95%|█████████▌| 95/100 [15:00<00:46,  9.29s/it]"
     ]
    },
    {
     "name": "stdout",
     "output_type": "stream",
     "text": [
      "{'CARDINAL' : ['one'], 'ORDINAL' : [], 'WORK_OF_ART' : [], 'PERSON' : [], 'LOC' : [], 'DATE' : [], 'PERCENT' : [], 'PRODUCT' : [], 'MONEY' : [], 'FAC' : [], 'TIME' : [], 'ORG' : [], 'QUANTITY' : [], 'LANGUAGE' : [], 'GPE' : ['China'], 'LAW' : [], 'NORP' : [], 'EVENT' : []"
     ]
    },
    {
     "name": "stderr",
     "output_type": "stream",
     "text": [
      " 96%|█████████▌| 96/100 [15:09<00:36,  9.11s/it]"
     ]
    },
    {
     "name": "stdout",
     "output_type": "stream",
     "text": [
      "{'CARDINAL' : [], 'ORDINAL' : [], 'WORK_OF_ART' : [], 'PERSON' : [], 'LOC' : [], 'DATE' : [], 'PERCENT' : [], 'PRODUCT' : [], 'MONEY' : [], 'FAC' : [], 'TIME' : [], 'ORG' : [], 'QUANTITY' : [], 'LANGUAGE' : [], 'GPE' : ['US'], 'LAW' : [], 'NORP' : [], 'EVENT' : []"
     ]
    },
    {
     "name": "stderr",
     "output_type": "stream",
     "text": [
      " 97%|█████████▋| 97/100 [15:18<00:27,  9.09s/it]"
     ]
    },
    {
     "name": "stdout",
     "output_type": "stream",
     "text": [
      "{'CARDINAL' : [], 'ORDINAL' : [], 'WORK_OF_ART' : [], 'PERSON' : ['Arthur Sulzberger'], 'LOC' : [], 'DATE' : [], 'PERCENT' : [], 'PRODUCT' : [], 'MONEY' : [], 'FAC' : [], 'TIME' : [], 'ORG' : [], 'QUANTITY' : [], 'LANGUAGE' : [], 'GPE' : [], 'LAW' : [], 'NORP' : [], 'EVENT' : []"
     ]
    },
    {
     "name": "stderr",
     "output_type": "stream",
     "text": [
      " 98%|█████████▊| 98/100 [15:28<00:18,  9.28s/it]"
     ]
    },
    {
     "name": "stdout",
     "output_type": "stream",
     "text": [
      "{'CARDINAL' : [], 'ORDINAL' : [], 'WORK_OF_ART' : [], 'PERSON' : [], 'LOC' : [], 'DATE' : [], 'PERCENT' : [], 'PRODUCT' : [], 'MONEY' : [], 'FAC' : [], 'TIME' : [], 'ORG' : [], 'QUANTITY' : [], 'LANGUAGE' : [], 'GPE' : [], 'LAW' : [], 'NORP' : [], 'EVENT' : []"
     ]
    },
    {
     "name": "stderr",
     "output_type": "stream",
     "text": [
      " 99%|█████████▉| 99/100 [15:37<00:09,  9.16s/it]"
     ]
    },
    {
     "name": "stdout",
     "output_type": "stream",
     "text": [
      "{'CARDINAL' : [], 'ORDINAL' : [], 'WORK_OF_ART' : [], 'PERSON' : [], 'LOC' : [], 'DATE' : ['1987'], 'PERCENT' : [], 'PRODUCT' : [], 'MONEY' : [], 'FAC' : [], 'TIME' : [], 'ORG' : [], 'QUANTITY' : [], 'LANGUAGE' : [], 'GPE' : [], 'LAW' : [], 'NORP' : [], 'EVENT' : []"
     ]
    },
    {
     "name": "stderr",
     "output_type": "stream",
     "text": [
      "100%|██████████| 100/100 [15:46<00:00,  9.46s/it]"
     ]
    },
    {
     "name": "stdout",
     "output_type": "stream",
     "text": [
      "./ner/saves/datasets/ontonote5_test_1403.pkl\n"
     ]
    },
    {
     "name": "stderr",
     "output_type": "stream",
     "text": [
      "\n",
      "  0%|          | 0/100 [00:00<?, ?it/s]"
     ]
    },
    {
     "name": "stdout",
     "output_type": "stream",
     "text": [
      "{'CARDINAL' : [], 'ORDINAL' : [], 'WORK_OF_ART' : [], 'PERSON' : [], 'LOC' : [], 'DATE' : [], 'PERCENT' : [], 'PRODUCT' : [], 'MONEY' : [], 'FAC' : [], 'TIME' : [], 'ORG' : [], 'QUANTITY' : [], 'LANGUAGE' : [], 'GPE' : [], 'LAW' : [], 'NORP' : [], 'EVENT' : []"
     ]
    },
    {
     "name": "stderr",
     "output_type": "stream",
     "text": [
      "  1%|          | 1/100 [00:08<13:29,  8.18s/it]"
     ]
    },
    {
     "name": "stdout",
     "output_type": "stream",
     "text": [
      "{'CARDINAL' : [], 'ORDINAL' : [], 'WORK_OF_ART' : [], 'PERSON' : [], 'LOC' : [], 'DATE' : [], 'PERCENT' : [], 'PRODUCT' : [], 'MONEY' : [], 'FAC' : [], 'TIME' : [], 'ORG' : [], 'QUANTITY' : [], 'LANGUAGE' : [], 'GPE' : [], 'LAW' : [], 'NORP' : [], 'EVENT' : []"
     ]
    },
    {
     "name": "stderr",
     "output_type": "stream",
     "text": [
      "  2%|▏         | 2/100 [00:17<14:04,  8.62s/it]"
     ]
    },
    {
     "name": "stdout",
     "output_type": "stream",
     "text": [
      "{'CARDINAL' : [], 'ORDINAL' : [], 'WORK_OF_ART' : [], 'PERSON' : [], 'LOC' : [], 'DATE' : [], 'PERCENT' : [], 'PRODUCT' : [], 'MONEY' : [], 'FAC' : [], 'TIME' : [], 'ORG' : [], 'QUANTITY' : [], 'LANGUAGE' : [], 'GPE' : [], 'LAW' : [], 'NORP' : [], 'EVENT' : []"
     ]
    },
    {
     "name": "stderr",
     "output_type": "stream",
     "text": [
      "  3%|▎         | 3/100 [00:25<13:33,  8.39s/it]"
     ]
    },
    {
     "name": "stdout",
     "output_type": "stream",
     "text": [
      "{'CARDINAL' : [], 'ORDINAL' : [], 'WORK_OF_ART' : [], 'PERSON' : [], 'LOC' : [], 'DATE' : [], 'PERCENT' : [], 'PRODUCT' : [], 'MONEY' : [], 'FAC' : [], 'TIME' : [], 'ORG' : ['the government'], 'QUANTITY' : [], 'LANGUAGE' : [], 'GPE' : [], 'LAW' : [], 'NORP' : [], 'EVENT' : []"
     ]
    },
    {
     "name": "stderr",
     "output_type": "stream",
     "text": [
      "  4%|▍         | 4/100 [00:35<14:22,  8.99s/it]"
     ]
    },
    {
     "name": "stdout",
     "output_type": "stream",
     "text": [
      "{'CARDINAL' : [], 'ORDINAL' : [], 'WORK_OF_ART' : [], 'PERSON' : [], 'LOC' : [], 'DATE' : [], 'PERCENT' : [], 'PRODUCT' : [], 'MONEY' : [], 'FAC' : [], 'TIME' : [], 'ORG' : [], 'QUANTITY' : [], 'LANGUAGE' : [], 'GPE' : [], 'LAW' : [], 'NORP' : [], 'EVENT' : ['last week']"
     ]
    },
    {
     "name": "stderr",
     "output_type": "stream",
     "text": [
      "  5%|▌         | 5/100 [00:44<14:32,  9.19s/it]"
     ]
    },
    {
     "name": "stdout",
     "output_type": "stream",
     "text": [
      "{'CARDINAL' : [], 'ORDINAL' : [], 'WORK_OF_ART' : [], 'PERSON' : [], 'LOC' : [], 'DATE' : ['this quarter'], 'PERCENT' : [], 'PRODUCT' : [], 'MONEY' : [], 'FAC' : [], 'TIME' : [], 'ORG' : [], 'QUANTITY' : [], 'LANGUAGE' : [], 'GPE' : [], 'LAW' : [], 'NORP' : [], 'EVENT' : []"
     ]
    },
    {
     "name": "stderr",
     "output_type": "stream",
     "text": [
      "  6%|▌         | 6/100 [00:53<14:28,  9.23s/it]"
     ]
    },
    {
     "name": "stdout",
     "output_type": "stream",
     "text": [
      "{'CARDINAL' : [], 'ORDINAL' : [], 'WORK_OF_ART' : [], 'PERSON' : ['Charles Colson'], 'LOC' : [], 'DATE' : [], 'PERCENT' : [], 'PRODUCT' : [], 'MONEY' : [], 'FAC' : [], 'TIME' : [], 'ORG' : [], 'QUANTITY' : [], 'LANGUAGE' : [], 'GPE' : [], 'LAW' : [], 'NORP' : [], 'EVENT' : []"
     ]
    },
    {
     "name": "stderr",
     "output_type": "stream",
     "text": [
      "  7%|▋         | 7/100 [01:02<13:57,  9.01s/it]"
     ]
    },
    {
     "name": "stdout",
     "output_type": "stream",
     "text": [
      "{'CARDINAL' : [], 'ORDINAL' : [], 'WORK_OF_ART' : [], 'PERSON' : ['Mr. Heinemann'], 'LOC' : [], 'DATE' : [], 'PERCENT' : [], 'PRODUCT' : [], 'MONEY' : [], 'FAC' : [], 'TIME' : [], 'ORG' : [], 'QUANTITY' : [], 'LANGUAGE' : [], 'GPE' : [], 'LAW' : [], 'NORP' : [], 'EVENT' : []"
     ]
    },
    {
     "name": "stderr",
     "output_type": "stream",
     "text": [
      "  8%|▊         | 8/100 [01:11<13:59,  9.13s/it]"
     ]
    },
    {
     "name": "stdout",
     "output_type": "stream",
     "text": [
      "{'CARDINAL' : ['200, 70, 180'], 'ORDINAL' : [], 'WORK_OF_ART' : [], 'PERSON' : [], 'LOC' : [], 'DATE' : [], 'PERCENT' : [], 'PRODUCT' : [], 'MONEY' : [], 'FAC' : [], 'TIME' : [], 'ORG' : [], 'QUANTITY' : [], 'LANGUAGE' : [], 'GPE' : ['Dongguan'], 'LAW' : [], 'NORP' : [], 'EVENT' : []"
     ]
    },
    {
     "name": "stderr",
     "output_type": "stream",
     "text": [
      "  9%|▉         | 9/100 [01:22<14:21,  9.47s/it]"
     ]
    },
    {
     "name": "stdout",
     "output_type": "stream",
     "text": [
      "{'CARDINAL' : [], 'ORDINAL' : [], 'WORK_OF_ART' : [], 'PERSON' : ['narrator'], 'LOC' : [], 'DATE' : [], 'PERCENT' : [], 'PRODUCT' : [], 'MONEY' : [], 'FAC' : [], 'TIME' : [], 'ORG' : [], 'QUANTITY' : [], 'LANGUAGE' : [], 'GPE' : [], 'LAW' : [], 'NORP' : [], 'EVENT' : []"
     ]
    },
    {
     "name": "stderr",
     "output_type": "stream",
     "text": [
      " 10%|█         | 10/100 [01:30<13:52,  9.25s/it]"
     ]
    },
    {
     "name": "stdout",
     "output_type": "stream",
     "text": [
      "{'CARDINAL' : [], 'ORDINAL' : [], 'WORK_OF_ART' : [], 'PERSON' : ['Christy Whitman'], 'LOC' : [], 'DATE' : [], 'PERCENT' : [], 'PRODUCT' : [], 'MONEY' : [], 'FAC' : [], 'TIME' : [], 'ORG' : [], 'QUANTITY' : [], 'LANGUAGE' : [], 'GPE' : [], 'LAW' : [], 'NORP' : [], 'EVENT' : []"
     ]
    },
    {
     "name": "stderr",
     "output_type": "stream",
     "text": [
      " 11%|█         | 11/100 [01:39<13:36,  9.17s/it]"
     ]
    },
    {
     "name": "stdout",
     "output_type": "stream",
     "text": [
      "{'CARDINAL' : [], 'ORDINAL' : [], 'WORK_OF_ART' : [], 'PERSON' : [], 'LOC' : ['Van Nuys, Oklahoma City, Pontiac'], 'DATE' : [], 'PERCENT' : [], 'PRODUCT' : [], 'MONEY' : [], 'FAC' : [], 'TIME' : [], 'ORG' : [], 'QUANTITY' : [], 'LANGUAGE' : [], 'GPE' : [], 'LAW' : [], 'NORP' : [], 'EVENT' : []"
     ]
    },
    {
     "name": "stderr",
     "output_type": "stream",
     "text": [
      " 12%|█▏        | 12/100 [01:49<13:36,  9.28s/it]"
     ]
    },
    {
     "name": "stdout",
     "output_type": "stream",
     "text": [
      "{'CARDINAL' : [], 'ORDINAL' : [], 'WORK_OF_ART' : [], 'PERSON' : [], 'LOC' : [], 'DATE' : [], 'PERCENT' : [], 'PRODUCT' : [], 'MONEY' : [], 'FAC' : [], 'TIME' : [], 'ORG' : [], 'QUANTITY' : [], 'LANGUAGE' : [], 'GPE' : [\"Shandong 's\"], 'LAW' : [], 'NORP' : [], 'EVENT' : []"
     ]
    },
    {
     "name": "stderr",
     "output_type": "stream",
     "text": [
      " 13%|█▎        | 13/100 [01:58<13:21,  9.22s/it]"
     ]
    },
    {
     "name": "stdout",
     "output_type": "stream",
     "text": [
      "{'CARDINAL' : [], 'ORDINAL' : [], 'WORK_OF_ART' : [], 'PERSON' : [], 'LOC' : [], 'DATE' : [], 'PERCENT' : [], 'PRODUCT' : [], 'MONEY' : [], 'FAC' : [], 'TIME' : [], 'ORG' : [], 'QUANTITY' : [], 'LANGUAGE' : [], 'GPE' : [], 'LAW' : [], 'NORP' : [], 'EVENT' : []"
     ]
    },
    {
     "name": "stderr",
     "output_type": "stream",
     "text": [
      " 14%|█▍        | 14/100 [02:07<13:06,  9.15s/it]"
     ]
    },
    {
     "name": "stdout",
     "output_type": "stream",
     "text": [
      "{'CARDINAL' : [], 'ORDINAL' : [], 'WORK_OF_ART' : [], 'PERSON' : [], 'LOC' : [], 'DATE' : [], 'PERCENT' : [], 'PRODUCT' : [], 'MONEY' : [], 'FAC' : [], 'TIME' : [], 'ORG' : [], 'QUANTITY' : [], 'LANGUAGE' : [], 'GPE' : [], 'LAW' : [], 'NORP' : [], 'EVENT' : []"
     ]
    },
    {
     "name": "stderr",
     "output_type": "stream",
     "text": [
      " 15%|█▌        | 15/100 [02:16<12:50,  9.06s/it]"
     ]
    },
    {
     "name": "stdout",
     "output_type": "stream",
     "text": [
      "{'CARDINAL' : [], 'ORDINAL' : [], 'WORK_OF_ART' : [], 'PERSON' : [], 'LOC' : [], 'DATE' : [], 'PERCENT' : [], 'PRODUCT' : [], 'MONEY' : [], 'FAC' : [], 'TIME' : [], 'ORG' : [], 'QUANTITY' : [], 'LANGUAGE' : [], 'GPE' : ['Linpien'], 'LAW' : [], 'NORP' : [], 'EVENT' : []"
     ]
    },
    {
     "name": "stderr",
     "output_type": "stream",
     "text": [
      " 16%|█▌        | 16/100 [02:25<12:49,  9.16s/it]"
     ]
    },
    {
     "name": "stdout",
     "output_type": "stream",
     "text": [
      "{'CARDINAL' : [], 'ORDINAL' : [], 'WORK_OF_ART' : [], 'PERSON' : [], 'LOC' : [], 'DATE' : [], 'PERCENT' : [], 'PRODUCT' : [], 'MONEY' : [], 'FAC' : [], 'TIME' : [], 'ORG' : [], 'QUANTITY' : [], 'LANGUAGE' : [], 'GPE' : [], 'LAW' : [], 'NORP' : [], 'EVENT' : []"
     ]
    },
    {
     "name": "stderr",
     "output_type": "stream",
     "text": [
      " 17%|█▋        | 17/100 [02:34<12:38,  9.14s/it]"
     ]
    },
    {
     "name": "stdout",
     "output_type": "stream",
     "text": [
      "{'CARDINAL' : [], 'ORDINAL' : [], 'WORK_OF_ART' : [], 'PERSON' : [], 'LOC' : [], 'DATE' : ['last month'], 'PERCENT' : ['0.9 %'], 'PRODUCT' : [], 'MONEY' : [], 'FAC' : [], 'TIME' : [], 'ORG' : [], 'QUANTITY' : [], 'LANGUAGE' : [], 'GPE' : [], 'LAW' : [], 'NORP' : [], 'EVENT' : []"
     ]
    },
    {
     "name": "stderr",
     "output_type": "stream",
     "text": [
      " 18%|█▊        | 18/100 [02:44<12:37,  9.24s/it]"
     ]
    },
    {
     "name": "stdout",
     "output_type": "stream",
     "text": [
      "{'CARDINAL' : ['218'], 'ORDINAL' : [], 'WORK_OF_ART' : [], 'PERSON' : [], 'LOC' : [], 'DATE' : [], 'PERCENT' : [], 'PRODUCT' : [], 'MONEY' : [], 'FAC' : [], 'TIME' : [], 'ORG' : [], 'QUANTITY' : [], 'LANGUAGE' : [], 'GPE' : ['Shanghai'], 'LAW' : [], 'NORP' : [], 'EVENT' : []"
     ]
    },
    {
     "name": "stderr",
     "output_type": "stream",
     "text": [
      " 19%|█▉        | 19/100 [02:53<12:24,  9.19s/it]"
     ]
    },
    {
     "name": "stdout",
     "output_type": "stream",
     "text": [
      "{'CARDINAL' : [], 'ORDINAL' : [], 'WORK_OF_ART' : [], 'PERSON' : [\"Scooter Libby\"], 'LOC' : [], 'DATE' : [], 'PERCENT' : [], 'PRODUCT' : [], 'MONEY' : [], 'FAC' : [], 'TIME' : [], 'ORG' : [], 'QUANTITY' : [], 'LANGUAGE' : [], 'GPE' : [], 'LAW' : [], 'NORP' : [], 'EVENT' : []"
     ]
    },
    {
     "name": "stderr",
     "output_type": "stream",
     "text": [
      " 20%|██        | 20/100 [03:03<12:27,  9.35s/it]"
     ]
    },
    {
     "name": "stdout",
     "output_type": "stream",
     "text": [
      "{'CARDINAL' : [], 'ORDINAL' : [], 'WORK_OF_ART' : [], 'PERSON' : [], 'LOC' : [], 'DATE' : [], 'PERCENT' : [], 'PRODUCT' : [], 'MONEY' : [], 'FAC' : [], 'TIME' : [], 'ORG' : [], 'QUANTITY' : [], 'LANGUAGE' : [], 'GPE' : [], 'LAW' : [], 'NORP' : [], 'EVENT' : []"
     ]
    },
    {
     "name": "stderr",
     "output_type": "stream",
     "text": [
      " 21%|██        | 21/100 [03:12<12:14,  9.30s/it]"
     ]
    },
    {
     "name": "stdout",
     "output_type": "stream",
     "text": [
      "{'CARDINAL' : [], 'ORDINAL' : [], 'WORK_OF_ART' : [], 'PERSON' : [], 'LOC' : [], 'DATE' : [], 'PERCENT' : [], 'PRODUCT' : [], 'MONEY' : [], 'FAC' : [], 'TIME' : [], 'ORG' : ['Royal Trustco Ltd. , Pacific Savings Bank'], 'QUANTITY' : [], 'LANGUAGE' : [], 'GPE' : [], 'LAW' : [], 'NORP' : [], 'EVENT' : []"
     ]
    },
    {
     "name": "stderr",
     "output_type": "stream",
     "text": [
      " 22%|██▏       | 22/100 [03:21<12:12,  9.39s/it]"
     ]
    },
    {
     "name": "stdout",
     "output_type": "stream",
     "text": [
      "{'CARDINAL' : [], 'ORDINAL' : [], 'WORK_OF_ART' : [], 'PERSON' : [], 'LOC' : [], 'DATE' : ['recently', 'the previous year'], 'PERCENT' : ['18.85 %', '15 %', '22.7 %'], 'PRODUCT' : [], 'MONEY' : ['220.178 billion US dollars', '110.380 billion US dollars', '109.798 billion US dollars'], 'FAC' : [], 'TIME' : [], 'ORG' : ['Mexico 's Treasury Department'], 'QUANTITY' : [], 'LANGUAGE' : [], 'GPE' : ['Mexico'], 'LAW' : [], 'NORP' : [], 'EVENT' : []"
     ]
    },
    {
     "name": "stderr",
     "output_type": "stream",
     "text": [
      " 23%|██▎       | 23/100 [03:35<13:45, 10.72s/it]"
     ]
    },
    {
     "name": "stdout",
     "output_type": "stream",
     "text": [
      "{'CARDINAL' : [], 'ORDINAL' : [], 'WORK_OF_ART' : [], 'PERSON' : [], 'LOC' : [], 'DATE' : ['a month'], 'PERCENT' : [], 'PRODUCT' : [], 'MONEY' : [], 'FAC' : [], 'TIME' : [], 'ORG' : [], 'QUANTITY' : [], 'LANGUAGE' : [], 'GPE' : [], 'LAW' : [], 'NORP' : [], 'EVENT' : []"
     ]
    },
    {
     "name": "stderr",
     "output_type": "stream",
     "text": [
      " 24%|██▍       | 24/100 [03:44<12:42, 10.04s/it]"
     ]
    },
    {
     "name": "stdout",
     "output_type": "stream",
     "text": [
      "{'CARDINAL' : [], 'ORDINAL' : [], 'WORK_OF_ART' : [], 'PERSON' : [], 'LOC' : [], 'DATE' : [], 'PERCENT' : ['50 percent'], 'PRODUCT' : [], 'MONEY' : [], 'FAC' : [], 'TIME' : [], 'ORG' : [], 'QUANTITY' : [], 'LANGUAGE' : [], 'GPE' : [], 'LAW' : [], 'NORP' : [], 'EVENT' : []"
     ]
    },
    {
     "name": "stderr",
     "output_type": "stream",
     "text": [
      " 25%|██▌       | 25/100 [03:53<12:15,  9.81s/it]"
     ]
    },
    {
     "name": "stdout",
     "output_type": "stream",
     "text": [
      "{'CARDINAL' : [], 'ORDINAL' : [], 'WORK_OF_ART' : [], 'PERSON' : [], 'LOC' : [], 'DATE' : ['January to November'], 'PERCENT' : [], 'PRODUCT' : [], 'MONEY' : ['2.8 billion US dollars'], 'FAC' : [], 'TIME' : [], 'ORG' : [], 'QUANTITY' : [], 'LANGUAGE' : [], 'GPE' : ['Pudong region'], 'LAW' : [], 'NORP' : [], 'EVENT' : []"
     ]
    },
    {
     "name": "stderr",
     "output_type": "stream",
     "text": [
      " 26%|██▌       | 26/100 [04:03<12:06,  9.81s/it]"
     ]
    },
    {
     "name": "stdout",
     "output_type": "stream",
     "text": [
      "{'CARDINAL' : [], 'ORDINAL' : [], 'WORK_OF_ART' : [], 'PERSON' : [], 'LOC' : [], 'DATE' : [], 'PERCENT' : [], 'PRODUCT' : [], 'MONEY' : [], 'FAC' : [], 'TIME' : [], 'ORG' : [], 'QUANTITY' : [], 'LANGUAGE' : [], 'GPE' : [], 'LAW' : [], 'NORP' : [], 'EVENT' : []"
     ]
    },
    {
     "name": "stderr",
     "output_type": "stream",
     "text": [
      " 27%|██▋       | 27/100 [04:12<11:46,  9.68s/it]"
     ]
    },
    {
     "name": "stdout",
     "output_type": "stream",
     "text": [
      "{'CARDINAL' : [], 'ORDINAL' : [], 'WORK_OF_ART' : [], 'PERSON' : [], 'LOC' : [], 'DATE' : [], 'PERCENT' : [], 'PRODUCT' : [], 'MONEY' : [], 'FAC' : [], 'TIME' : [], 'ORG' : [], 'QUANTITY' : [], 'LANGUAGE' : [], 'GPE' : [], 'LAW' : [], 'NORP' : [], 'EVENT' : []"
     ]
    },
    {
     "name": "stderr",
     "output_type": "stream",
     "text": [
      " 28%|██▊       | 28/100 [04:21<11:19,  9.44s/it]"
     ]
    },
    {
     "name": "stdout",
     "output_type": "stream",
     "text": [
      "{'CARDINAL' : [], 'ORDINAL' : [], 'WORK_OF_ART' : [], 'PERSON' : ['Young & Rubicam Inc.'], 'LOC' : [], 'DATE' : [], 'PERCENT' : [], 'PRODUCT' : [], 'MONEY' : [], 'FAC' : [], 'TIME' : [], 'ORG' : [], 'QUANTITY' : [], 'LANGUAGE' : [], 'GPE' : [], 'LAW' : [], 'NORP' : [], 'EVENT' : []"
     ]
    },
    {
     "name": "stderr",
     "output_type": "stream",
     "text": [
      " 29%|██▉       | 29/100 [04:31<11:21,  9.59s/it]"
     ]
    },
    {
     "name": "stdout",
     "output_type": "stream",
     "text": [
      "{'CARDINAL' : [], 'ORDINAL' : [], 'WORK_OF_ART' : [], 'PERSON' : ['Tsao Chi - hung'], 'LOC' : [], 'DATE' : [], 'PERCENT' : [], 'PRODUCT' : [], 'MONEY' : [], 'FAC' : [], 'TIME' : [], 'ORG' : ['the Linpien Residents ' Democracy Association'], 'QUANTITY' : [], 'LANGUAGE' : [], 'GPE' : [], 'LAW' : [], 'NORP' : [], 'EVENT' : []"
     ]
    },
    {
     "name": "stderr",
     "output_type": "stream",
     "text": [
      " 30%|███       | 30/100 [04:42<11:33,  9.91s/it]"
     ]
    },
    {
     "name": "stdout",
     "output_type": "stream",
     "text": [
      "{'CARDINAL' : [], 'ORDINAL' : [], 'WORK_OF_ART' : [], 'PERSON' : [], 'LOC' : [], 'DATE' : ['August 23rd'], 'PERCENT' : [], 'PRODUCT' : [], 'MONEY' : [], 'FAC' : [], 'TIME' : [], 'ORG' : [], 'QUANTITY' : [], 'LANGUAGE' : [], 'GPE' : [], 'LAW' : [], 'NORP' : [], 'EVENT' : []"
     ]
    },
    {
     "name": "stderr",
     "output_type": "stream",
     "text": [
      " 31%|███       | 31/100 [04:51<11:22,  9.90s/it]"
     ]
    },
    {
     "name": "stdout",
     "output_type": "stream",
     "text": [
      "{'CARDINAL' : ['850 million US dollars, 700 million US dollars'], 'ORDINAL' : [], 'WORK_OF_ART' : [], 'PERSON' : [], 'LOC' : [], 'DATE' : ['last year'], 'PERCENT' : [], 'PRODUCT' : [], 'MONEY' : [], 'FAC' : [], 'TIME' : [], 'ORG' : [], 'QUANTITY' : [], 'LANGUAGE' : [], 'GPE' : [], 'LAW' : [], 'NORP' : [], 'EVENT' : []"
     ]
    },
    {
     "name": "stderr",
     "output_type": "stream",
     "text": [
      " 32%|███▏      | 32/100 [05:02<11:31, 10.17s/it]"
     ]
    },
    {
     "name": "stdout",
     "output_type": "stream",
     "text": [
      "{'CARDINAL' : [], 'ORDINAL' : [], 'WORK_OF_ART' : [], 'PERSON' : [], 'LOC' : [], 'DATE' : [], 'PERCENT' : [], 'PRODUCT' : [], 'MONEY' : [], 'FAC' : [], 'TIME' : [], 'ORG' : [], 'QUANTITY' : [], 'LANGUAGE' : [], 'GPE' : [], 'LAW' : [], 'NORP' : [], 'EVENT' : []"
     ]
    },
    {
     "name": "stderr",
     "output_type": "stream",
     "text": [
      " 33%|███▎      | 33/100 [05:12<11:06,  9.95s/it]"
     ]
    },
    {
     "name": "stdout",
     "output_type": "stream",
     "text": [
      "{'CARDINAL' : ['$ 6 million'], 'ORDINAL' : [], 'WORK_OF_ART' : [], 'PERSON' : [], 'LOC' : [], 'DATE' : [], 'PERCENT' : [], 'PRODUCT' : [], 'MONEY' : [], 'FAC' : [], 'TIME' : [], 'ORG' : [], 'QUANTITY' : [], 'LANGUAGE' : [], 'GPE' : [], 'LAW' : [], 'NORP' : [], 'EVENT' : []"
     ]
    },
    {
     "name": "stderr",
     "output_type": "stream",
     "text": [
      " 34%|███▍      | 34/100 [05:21<10:43,  9.74s/it]"
     ]
    },
    {
     "name": "stdout",
     "output_type": "stream",
     "text": [
      "{'CARDINAL' : [], 'ORDINAL' : [], 'WORK_OF_ART' : [], 'PERSON' : [], 'LOC' : [], 'DATE' : [], 'PERCENT' : [], 'PRODUCT' : [], 'MONEY' : [], 'FAC' : [], 'TIME' : [], 'ORG' : [], 'QUANTITY' : [], 'LANGUAGE' : [], 'GPE' : [], 'LAW' : [], 'NORP' : [], 'EVENT' : []"
     ]
    },
    {
     "name": "stderr",
     "output_type": "stream",
     "text": [
      " 35%|███▌      | 35/100 [05:30<10:16,  9.48s/it]"
     ]
    },
    {
     "name": "stdout",
     "output_type": "stream",
     "text": [
      "{'CARDINAL' : [], 'ORDINAL' : [], 'WORK_OF_ART' : [], 'PERSON' : [], 'LOC' : [], 'DATE' : [], 'PERCENT' : [], 'PRODUCT' : [], 'MONEY' : [], 'FAC' : [], 'TIME' : [], 'ORG' : ['Oklahoma City'], 'QUANTITY' : [], 'LANGUAGE' : [], 'GPE' : [], 'LAW' : [], 'NORP' : [], 'EVENT' : []"
     ]
    },
    {
     "name": "stderr",
     "output_type": "stream",
     "text": [
      " 36%|███▌      | 36/100 [05:39<10:07,  9.50s/it]"
     ]
    },
    {
     "name": "stdout",
     "output_type": "stream",
     "text": [
      "{'CARDINAL' : [], 'ORDINAL' : [], 'WORK_OF_ART' : [], 'PERSON' : [], 'LOC' : [], 'DATE' : [], 'PERCENT' : [], 'PRODUCT' : [], 'MONEY' : [], 'FAC' : [], 'TIME' : [], 'ORG' : [], 'QUANTITY' : [], 'LANGUAGE' : [], 'GPE' : [], 'LAW' : [], 'NORP' : [], 'EVENT' : []"
     ]
    },
    {
     "name": "stderr",
     "output_type": "stream",
     "text": [
      " 37%|███▋      | 37/100 [05:48<09:49,  9.35s/it]"
     ]
    },
    {
     "name": "stdout",
     "output_type": "stream",
     "text": [
      "{'CARDINAL' : [], 'ORDINAL' : [], 'WORK_OF_ART' : [], 'PERSON' : ['Li Yung - kun'], 'LOC' : [], 'DATE' : [], 'PERCENT' : [], 'PRODUCT' : [], 'MONEY' : [], 'FAC' : [], 'TIME' : [], 'ORG' : [], 'QUANTITY' : [], 'LANGUAGE' : [], 'GPE' : ['Tanshui'], 'LAW' : [], 'NORP' : [], 'EVENT' : []"
     ]
    },
    {
     "name": "stderr",
     "output_type": "stream",
     "text": [
      " 38%|███▊      | 38/100 [05:59<10:03,  9.74s/it]"
     ]
    },
    {
     "name": "stdout",
     "output_type": "stream",
     "text": [
      "{'CARDINAL' : [], 'ORDINAL' : [], 'WORK_OF_ART' : [], 'PERSON' : [], 'LOC' : [], 'DATE' : [], 'PERCENT' : [], 'PRODUCT' : [], 'MONEY' : ['$ 1.34'], 'FAC' : [], 'TIME' : [], 'ORG' : [], 'QUANTITY' : [], 'LANGUAGE' : [], 'GPE' : [], 'LAW' : [], 'NORP' : [], 'EVENT' : []"
     ]
    },
    {
     "name": "stderr",
     "output_type": "stream",
     "text": [
      " 39%|███▉      | 39/100 [06:08<09:40,  9.52s/it]"
     ]
    },
    {
     "name": "stdout",
     "output_type": "stream",
     "text": [
      "{'CARDINAL' : [], 'ORDINAL' : [], 'WORK_OF_ART' : [], 'PERSON' : [], 'LOC' : [], 'DATE' : [], 'PERCENT' : [], 'PRODUCT' : [], 'MONEY' : [], 'FAC' : [], 'TIME' : [], 'ORG' : [], 'QUANTITY' : [], 'LANGUAGE' : [], 'GPE' : [], 'LAW' : [], 'NORP' : [], 'EVENT' : []"
     ]
    },
    {
     "name": "stderr",
     "output_type": "stream",
     "text": [
      " 40%|████      | 40/100 [06:17<09:16,  9.27s/it]"
     ]
    },
    {
     "name": "stdout",
     "output_type": "stream",
     "text": [
      "{'CARDINAL' : [], 'ORDINAL' : [], 'WORK_OF_ART' : [], 'PERSON' : [], 'LOC' : [], 'DATE' : [], 'PERCENT' : [], 'PRODUCT' : [], 'MONEY' : [], 'FAC' : [], 'TIME' : [], 'ORG' : [], 'QUANTITY' : [], 'LANGUAGE' : [], 'GPE' : [], 'LAW' : [], 'NORP' : [], 'EVENT' : []"
     ]
    },
    {
     "name": "stderr",
     "output_type": "stream",
     "text": [
      " 41%|████      | 41/100 [06:26<09:12,  9.37s/it]"
     ]
    },
    {
     "name": "stdout",
     "output_type": "stream",
     "text": [
      "{'CARDINAL' : [], 'ORDINAL' : [], 'WORK_OF_ART' : [], 'PERSON' : [], 'LOC' : [], 'DATE' : [], 'PERCENT' : [], 'PRODUCT' : [], 'MONEY' : [], 'FAC' : [], 'TIME' : [], 'ORG' : [], 'QUANTITY' : [], 'LANGUAGE' : [], 'GPE' : [], 'LAW' : [], 'NORP' : [], 'EVENT' : []"
     ]
    },
    {
     "name": "stderr",
     "output_type": "stream",
     "text": [
      " 42%|████▏     | 42/100 [06:35<08:46,  9.08s/it]"
     ]
    },
    {
     "name": "stdout",
     "output_type": "stream",
     "text": [
      "{'CARDINAL' : [], 'ORDINAL' : [], 'WORK_OF_ART' : [], 'PERSON' : [], 'LOC' : [], 'DATE' : [], 'PERCENT' : [], 'PRODUCT' : [], 'MONEY' : [], 'FAC' : [], 'TIME' : [], 'ORG' : [], 'QUANTITY' : [], 'LANGUAGE' : [], 'GPE' : ['2,520 square kilometers'], 'LAW' : [], 'NORP' : [], 'EVENT' : []"
     ]
    },
    {
     "name": "stderr",
     "output_type": "stream",
     "text": [
      " 43%|████▎     | 43/100 [06:44<08:46,  9.24s/it]"
     ]
    },
    {
     "name": "stdout",
     "output_type": "stream",
     "text": [
      "{'CARDINAL' : [], 'ORDINAL' : [], 'WORK_OF_ART' : [], 'PERSON' : [], 'LOC' : [], 'DATE' : [], 'PERCENT' : [], 'PRODUCT' : [], 'MONEY' : [], 'FAC' : [], 'TIME' : [], 'ORG' : [], 'QUANTITY' : [], 'LANGUAGE' : [], 'GPE' : [], 'LAW' : [], 'NORP' : [], 'EVENT' : []"
     ]
    },
    {
     "name": "stderr",
     "output_type": "stream",
     "text": [
      " 44%|████▍     | 44/100 [06:53<08:26,  9.04s/it]"
     ]
    },
    {
     "name": "stdout",
     "output_type": "stream",
     "text": [
      "{'CARDINAL' : [], 'ORDINAL' : [], 'WORK_OF_ART' : [], 'PERSON' : ['David Williams'], 'LOC' : [], 'DATE' : [], 'PERCENT' : [], 'PRODUCT' : [], 'MONEY' : [], 'FAC' : [], 'TIME' : [], 'ORG' : [], 'QUANTITY' : [], 'LANGUAGE' : [], 'GPE' : [], 'LAW' : [], 'NORP' : [], 'EVENT' : []"
     ]
    },
    {
     "name": "stderr",
     "output_type": "stream",
     "text": [
      " 45%|████▌     | 45/100 [07:03<08:29,  9.27s/it]"
     ]
    },
    {
     "name": "stdout",
     "output_type": "stream",
     "text": [
      "{'CARDINAL' : [], 'ORDINAL' : [], 'WORK_OF_ART' : [], 'PERSON' : ['Arianna Huffington, Judy Miller, Jill Abrahamson'], 'LOC' : [], 'DATE' : [], 'PERCENT' : [], 'PRODUCT' : [], 'MONEY' : [], 'FAC' : [], 'TIME' : ['this uh story on Valerie Plame two years ago'], 'ORG' : [], 'QUANTITY' : [], 'LANGUAGE' : [], 'GPE' : [], 'LAW' : [], 'NORP' : [], 'EVENT' : []"
     ]
    },
    {
     "name": "stderr",
     "output_type": "stream",
     "text": [
      " 46%|████▌     | 46/100 [07:14<08:54,  9.90s/it]"
     ]
    },
    {
     "name": "stdout",
     "output_type": "stream",
     "text": [
      "{'CARDINAL' : [], 'ORDINAL' : [], 'WORK_OF_ART' : [], 'PERSON' : ['He'], 'LOC' : [], 'DATE' : [], 'PERCENT' : [], 'PRODUCT' : [], 'MONEY' : [], 'FAC' : [], 'TIME' : [], 'ORG' : [], 'QUANTITY' : [], 'LANGUAGE' : [], 'GPE' : [], 'LAW' : [], 'NORP' : [], 'EVENT' : []"
     ]
    },
    {
     "name": "stderr",
     "output_type": "stream",
     "text": [
      " 47%|████▋     | 47/100 [07:24<08:43,  9.89s/it]"
     ]
    },
    {
     "name": "stdout",
     "output_type": "stream",
     "text": [
      "{'CARDINAL' : [], 'ORDINAL' : [], 'WORK_OF_ART' : [], 'PERSON' : [], 'LOC' : [], 'DATE' : ['last week'], 'PERCENT' : [], 'PRODUCT' : [], 'MONEY' : [], 'FAC' : [], 'TIME' : [], 'ORG' : [\"Time Warner Inc. 's\"], 'QUANTITY' : [], 'LANGUAGE' : [], 'GPE' : [], 'LAW' : [], 'NORP' : [], 'EVENT' : []"
     ]
    },
    {
     "name": "stderr",
     "output_type": "stream",
     "text": [
      " 48%|████▊     | 48/100 [07:34<08:40, 10.02s/it]"
     ]
    },
    {
     "name": "stdout",
     "output_type": "stream",
     "text": [
      "{'CARDINAL' : [], 'ORDINAL' : [], 'WORK_OF_ART' : [], 'PERSON' : ['Brown'], 'LOC' : [], 'DATE' : [], 'PERCENT' : [], 'PRODUCT' : [], 'MONEY' : [], 'FAC' : [], 'TIME' : ['Today'], 'ORG' : ['the US 's Westinghouse Company, the Shanghai Electric Group, the US 's General Electric Capital Company, the Shanghai Electricity Company'], 'QUANTITY' : [], 'LANGUAGE' : [], 'GPE' : ['US'], 'LAW' : [], 'NORP' : [], 'EVENT' : []"
     ]
    },
    {
     "name": "stderr",
     "output_type": "stream",
     "text": [
      " 49%|████▉     | 49/100 [07:46<09:01, 10.62s/it]"
     ]
    },
    {
     "name": "stdout",
     "output_type": "stream",
     "text": [
      "{'CARDINAL' : [], 'ORDINAL' : [], 'WORK_OF_ART' : [], 'PERSON' : [], 'LOC' : [], 'DATE' : [], 'PERCENT' : [], 'PRODUCT' : [\"the `` USS Cole ''\"], 'MONEY' : [], 'FAC' : [], 'TIME' : [], 'ORG' : [], 'QUANTITY' : [], 'LANGUAGE' : [], 'GPE' : ['Yemen'], 'LAW' : [], 'NORP' : [], 'EVENT' : []"
     ]
    },
    {
     "name": "stderr",
     "output_type": "stream",
     "text": [
      " 50%|█████     | 50/100 [07:56<08:42, 10.46s/it]"
     ]
    },
    {
     "name": "stdout",
     "output_type": "stream",
     "text": [
      "{'CARDINAL' : [], 'ORDINAL' : [], 'WORK_OF_ART' : [], 'PERSON' : [], 'LOC' : [], 'DATE' : [], 'PERCENT' : [], 'PRODUCT' : [], 'MONEY' : [], 'FAC' : [], 'TIME' : [], 'ORG' : ['Export credits , international financing leaseholds , compensation trades with foreign exchange repayment methods , overseas institution 's and individual 's foreign exchange deposits -LRB- excluding foreign exchange deposits in banks approved for offshore operations -RRB- , project financing , financing under trade projects over 90 days and other forms of foreign exchange loans will all be treated and managed as international commercial loans .'], 'QUANTITY' : [], 'LANGUAGE' : [], 'GPE' : [], 'LAW' : [], 'NORP' : [], 'EVENT' : []"
     ]
    },
    {
     "name": "stderr",
     "output_type": "stream",
     "text": [
      " 51%|█████     | 51/100 [08:10<09:14, 11.32s/it]"
     ]
    },
    {
     "name": "stdout",
     "output_type": "stream",
     "text": [
      "{'CARDINAL' : [], 'ORDINAL' : [], 'WORK_OF_ART' : [], 'PERSON' : [], 'LOC' : [], 'DATE' : [], 'PERCENT' : [], 'PRODUCT' : [], 'MONEY' : [], 'FAC' : [], 'TIME' : [], 'ORG' : [], 'QUANTITY' : [], 'LANGUAGE' : [], 'GPE' : [], 'LAW' : [], 'NORP' : [], 'EVENT' : []"
     ]
    },
    {
     "name": "stderr",
     "output_type": "stream",
     "text": [
      " 52%|█████▏    | 52/100 [08:19<08:32, 10.67s/it]"
     ]
    },
    {
     "name": "stdout",
     "output_type": "stream",
     "text": [
      "{'CARDINAL' : [], 'ORDINAL' : [], 'WORK_OF_ART' : [], 'PERSON' : ['Rod Perth'], 'LOC' : [], 'DATE' : [], 'PERCENT' : [], 'PRODUCT' : [], 'MONEY' : [], 'FAC' : [], 'TIME' : [], 'ORG' : [], 'QUANTITY' : [], 'LANGUAGE' : [], 'GPE' : [], 'LAW' : [], 'NORP' : [], 'EVENT' : []"
     ]
    },
    {
     "name": "stderr",
     "output_type": "stream",
     "text": [
      " 53%|█████▎    | 53/100 [08:28<08:03, 10.29s/it]"
     ]
    },
    {
     "name": "stdout",
     "output_type": "stream",
     "text": [
      "{'CARDINAL' : [], 'ORDINAL' : [], 'WORK_OF_ART' : [], 'PERSON' : [], 'LOC' : [], 'DATE' : [], 'PERCENT' : [], 'PRODUCT' : [], 'MONEY' : [], 'FAC' : [], 'TIME' : [], 'ORG' : [], 'QUANTITY' : [], 'LANGUAGE' : [], 'GPE' : [], 'LAW' : [], 'NORP' : [], 'EVENT' : []"
     ]
    },
    {
     "name": "stderr",
     "output_type": "stream",
     "text": [
      " 54%|█████▍    | 54/100 [08:37<07:32,  9.84s/it]"
     ]
    },
    {
     "name": "stdout",
     "output_type": "stream",
     "text": [
      "{'CARDINAL' : [], 'ORDINAL' : [], 'WORK_OF_ART' : [], 'PERSON' : [], 'LOC' : [], 'DATE' : [], 'PERCENT' : [], 'PRODUCT' : [], 'MONEY' : [], 'FAC' : [], 'TIME' : [], 'ORG' : [], 'QUANTITY' : [], 'LANGUAGE' : [], 'GPE' : [], 'LAW' : [], 'NORP' : [], 'EVENT' : []"
     ]
    },
    {
     "name": "stderr",
     "output_type": "stream",
     "text": [
      " 55%|█████▌    | 55/100 [08:46<07:05,  9.45s/it]"
     ]
    },
    {
     "name": "stdout",
     "output_type": "stream",
     "text": [
      "{'CARDINAL' : [], 'ORDINAL' : [], 'WORK_OF_ART' : [], 'PERSON' : ['General Sanholi'], 'LOC' : [], 'DATE' : [], 'PERCENT' : [], 'PRODUCT' : [], 'MONEY' : [], 'FAC' : [], 'TIME' : [], 'ORG' : [], 'QUANTITY' : [], 'LANGUAGE' : [], 'GPE' : [], 'LAW' : [], 'NORP' : [], 'EVENT' : []"
     ]
    },
    {
     "name": "stderr",
     "output_type": "stream",
     "text": [
      " 56%|█████▌    | 56/100 [08:55<06:57,  9.50s/it]"
     ]
    },
    {
     "name": "stdout",
     "output_type": "stream",
     "text": [
      "{'CARDINAL' : [], 'ORDINAL' : [], 'WORK_OF_ART' : [], 'PERSON' : [], 'LOC' : ['the Great Plains'], 'DATE' : [], 'PERCENT' : [], 'PRODUCT' : [], 'MONEY' : [], 'FAC' : [], 'TIME' : [], 'ORG' : [], 'QUANTITY' : [], 'LANGUAGE' : [], 'GPE' : [], 'LAW' : [], 'NORP' : [], 'EVENT' : []"
     ]
    },
    {
     "name": "stderr",
     "output_type": "stream",
     "text": [
      " 57%|█████▋    | 57/100 [09:05<06:54,  9.63s/it]"
     ]
    },
    {
     "name": "stdout",
     "output_type": "stream",
     "text": [
      "{'CARDINAL' : [], 'ORDINAL' : [], 'WORK_OF_ART' : [], 'PERSON' : ['He'], 'LOC' : [], 'DATE' : [], 'PERCENT' : [], 'PRODUCT' : [], 'MONEY' : [], 'FAC' : [], 'TIME' : [], 'ORG' : [], 'QUANTITY' : [], 'LANGUAGE' : [], 'GPE' : [], 'LAW' : [], 'NORP' : [], 'EVENT' : []"
     ]
    },
    {
     "name": "stderr",
     "output_type": "stream",
     "text": [
      " 58%|█████▊    | 58/100 [09:15<06:41,  9.56s/it]"
     ]
    },
    {
     "name": "stdout",
     "output_type": "stream",
     "text": [
      "{'CARDINAL' : ['China 's'], 'ORDINAL' : [], 'WORK_OF_ART' : [], 'PERSON' : [], 'LOC' : [], 'DATE' : [], 'PERCENT' : [], 'PRODUCT' : [], 'MONEY' : [], 'FAC' : [], 'TIME' : [], 'ORG' : [], 'QUANTITY' : [], 'LANGUAGE' : [], 'GPE' : ['China'], 'LAW' : [], 'NORP' : [], 'EVENT' : []"
     ]
    },
    {
     "name": "stderr",
     "output_type": "stream",
     "text": [
      " 59%|█████▉    | 59/100 [09:24<06:25,  9.41s/it]"
     ]
    },
    {
     "name": "stdout",
     "output_type": "stream",
     "text": [
      "{'CARDINAL' : ['more than 50'], 'ORDINAL' : [], 'WORK_OF_ART' : [], 'PERSON' : [], 'LOC' : [], 'DATE' : ['the past two years'], 'PERCENT' : [], 'PRODUCT' : [], 'MONEY' : [], 'FAC' : [], 'TIME' : [], 'ORG' : [], 'QUANTITY' : [], 'LANGUAGE' : [], 'GPE' : [], 'LAW' : [], 'NORP' : [], 'EVENT' : []"
     ]
    },
    {
     "name": "stderr",
     "output_type": "stream",
     "text": [
      " 60%|██████    | 60/100 [09:34<06:22,  9.57s/it]"
     ]
    },
    {
     "name": "stdout",
     "output_type": "stream",
     "text": [
      "{'CARDINAL' : [], 'ORDINAL' : [], 'WORK_OF_ART' : [], 'PERSON' : ['he'], 'LOC' : [], 'DATE' : ['the last two years'], 'PERCENT' : [], 'PRODUCT' : [], 'MONEY' : [], 'FAC' : [], 'TIME' : [], 'ORG' : [], 'QUANTITY' : [], 'LANGUAGE' : [], 'GPE' : [], 'LAW' : [], 'NORP' : [], 'EVENT' : []"
     ]
    },
    {
     "name": "stderr",
     "output_type": "stream",
     "text": [
      " 61%|██████    | 61/100 [09:42<06:05,  9.37s/it]"
     ]
    },
    {
     "name": "stdout",
     "output_type": "stream",
     "text": [
      "{'CARDINAL' : [], 'ORDINAL' : [], 'WORK_OF_ART' : [], 'PERSON' : ['Lee Yuan - tseh'], 'LOC' : [], 'DATE' : ['November'], 'PERCENT' : [], 'PRODUCT' : [], 'MONEY' : [], 'FAC' : [], 'TIME' : [], 'ORG' : [], 'QUANTITY' : [], 'LANGUAGE' : [], 'GPE' : ['Taiwan'], 'LAW' : [], 'NORP' : [], 'EVENT' : []"
     ]
    },
    {
     "name": "stderr",
     "output_type": "stream",
     "text": [
      " 62%|██████▏   | 62/100 [09:52<05:55,  9.36s/it]"
     ]
    },
    {
     "name": "stdout",
     "output_type": "stream",
     "text": [
      "{'CARDINAL' : [], 'ORDINAL' : [], 'WORK_OF_ART' : [], 'PERSON' : ['dancer'], 'LOC' : [], 'DATE' : [], 'PERCENT' : [], 'PRODUCT' : [], 'MONEY' : [], 'FAC' : [], 'TIME' : [], 'ORG' : [], 'QUANTITY' : [], 'LANGUAGE' : [], 'GPE' : [], 'LAW' : [], 'NORP' : [], 'EVENT' : []"
     ]
    },
    {
     "name": "stderr",
     "output_type": "stream",
     "text": [
      " 63%|██████▎   | 63/100 [10:00<05:38,  9.15s/it]"
     ]
    },
    {
     "name": "stdout",
     "output_type": "stream",
     "text": [
      "{'CARDINAL' : [], 'ORDINAL' : [], 'WORK_OF_ART' : [], 'PERSON' : [], 'LOC' : [], 'DATE' : [], 'PERCENT' : [], 'PRODUCT' : [], 'MONEY' : [], 'FAC' : [], 'TIME' : [], 'ORG' : [], 'QUANTITY' : [], 'LANGUAGE' : [], 'GPE' : [], 'LAW' : [], 'NORP' : [], 'EVENT' : []"
     ]
    },
    {
     "name": "stderr",
     "output_type": "stream",
     "text": [
      " 64%|██████▍   | 64/100 [10:09<05:24,  9.02s/it]"
     ]
    },
    {
     "name": "stdout",
     "output_type": "stream",
     "text": [
      "{'CARDINAL' : ['3,000'], 'ORDINAL' : [], 'WORK_OF_ART' : [], 'PERSON' : [], 'LOC' : [], 'DATE' : [], 'PERCENT' : [], 'PRODUCT' : [], 'MONEY' : [], 'FAC' : [], 'TIME' : [], 'ORG' : [], 'QUANTITY' : [], 'LANGUAGE' : [], 'GPE' : ['Taiwan'], 'LAW' : [], 'NORP' : [], 'EVENT' : []"
     ]
    },
    {
     "name": "stderr",
     "output_type": "stream",
     "text": [
      " 65%|██████▌   | 65/100 [10:19<05:24,  9.27s/it]"
     ]
    },
    {
     "name": "stdout",
     "output_type": "stream",
     "text": [
      "{'CARDINAL' : [], 'ORDINAL' : [], 'WORK_OF_ART' : [], 'PERSON' : [], 'LOC' : [], 'DATE' : [], 'PERCENT' : [], 'PRODUCT' : [], 'MONEY' : [], 'FAC' : [], 'TIME' : [], 'ORG' : [], 'QUANTITY' : [], 'LANGUAGE' : [], 'GPE' : [], 'LAW' : [], 'NORP' : [], 'EVENT' : []"
     ]
    },
    {
     "name": "stderr",
     "output_type": "stream",
     "text": [
      " 66%|██████▌   | 66/100 [10:29<05:20,  9.42s/it]"
     ]
    },
    {
     "name": "stdout",
     "output_type": "stream",
     "text": [
      "{'CARDINAL' : [], 'ORDINAL' : [], 'WORK_OF_ART' : [], 'PERSON' : [], 'LOC' : [], 'DATE' : [], 'PERCENT' : [], 'PRODUCT' : [], 'MONEY' : [], 'FAC' : [], 'TIME' : [], 'ORG' : [], 'QUANTITY' : [], 'LANGUAGE' : [], 'GPE' : ['Taichung', 'Taiwan'], 'LAW' : [], 'NORP' : [], 'EVENT' : []"
     ]
    },
    {
     "name": "stderr",
     "output_type": "stream",
     "text": [
      " 67%|██████▋   | 67/100 [10:38<05:11,  9.44s/it]"
     ]
    },
    {
     "name": "stdout",
     "output_type": "stream",
     "text": [
      "{'CARDINAL' : [], 'ORDINAL' : [], 'WORK_OF_ART' : [], 'PERSON' : [], 'LOC' : [], 'DATE' : [], 'PERCENT' : [], 'PRODUCT' : [], 'MONEY' : [], 'FAC' : [], 'TIME' : [], 'ORG' : [], 'QUANTITY' : [], 'LANGUAGE' : [], 'GPE' : [], 'LAW' : [], 'NORP' : [], 'EVENT' : []"
     ]
    },
    {
     "name": "stderr",
     "output_type": "stream",
     "text": [
      " 68%|██████▊   | 68/100 [10:47<04:57,  9.30s/it]"
     ]
    },
    {
     "name": "stdout",
     "output_type": "stream",
     "text": [
      "{'CARDINAL' : [], 'ORDINAL' : [], 'WORK_OF_ART' : [], 'PERSON' : ['Lee Teng - hui'], 'LOC' : [], 'DATE' : [], 'PERCENT' : [], 'PRODUCT' : [], 'MONEY' : [], 'FAC' : [], 'TIME' : [], 'ORG' : [], 'QUANTITY' : [], 'LANGUAGE' : [], 'GPE' : [], 'LAW' : [], 'NORP' : [], 'EVENT' : []"
     ]
    },
    {
     "name": "stderr",
     "output_type": "stream",
     "text": [
      " 69%|██████▉   | 69/100 [10:57<04:49,  9.34s/it]"
     ]
    },
    {
     "name": "stdout",
     "output_type": "stream",
     "text": [
      "{'CARDINAL' : [], 'ORDINAL' : [], 'WORK_OF_ART' : [], 'PERSON' : [], 'LOC' : [], 'DATE' : [], 'PERCENT' : [], 'PRODUCT' : [], 'MONEY' : [], 'FAC' : [], 'TIME' : [], 'ORG' : [], 'QUANTITY' : [], 'LANGUAGE' : [], 'GPE' : [], 'LAW' : [], 'NORP' : [], 'EVENT' : []"
     ]
    },
    {
     "name": "stderr",
     "output_type": "stream",
     "text": [
      " 70%|███████   | 70/100 [11:06<04:37,  9.26s/it]"
     ]
    },
    {
     "name": "stdout",
     "output_type": "stream",
     "text": [
      "{'CARDINAL' : [], 'ORDINAL' : [], 'WORK_OF_ART' : [], 'PERSON' : ['Wang Yung - ching'], 'LOC' : [], 'DATE' : [], 'PERCENT' : [], 'PRODUCT' : [], 'MONEY' : [], 'FAC' : [], 'TIME' : [], 'ORG' : [], 'QUANTITY' : [], 'LANGUAGE' : [], 'GPE' : [], 'LAW' : [], 'NORP' : [], 'EVENT' : []"
     ]
    },
    {
     "name": "stderr",
     "output_type": "stream",
     "text": [
      " 71%|███████   | 71/100 [11:15<04:25,  9.15s/it]"
     ]
    },
    {
     "name": "stdout",
     "output_type": "stream",
     "text": [
      "{'CARDINAL' : [], 'ORDINAL' : [], 'WORK_OF_ART' : [], 'PERSON' : [], 'LOC' : [], 'DATE' : [], 'PERCENT' : [], 'PRODUCT' : [], 'MONEY' : [], 'FAC' : [], 'TIME' : [], 'ORG' : [], 'QUANTITY' : [], 'LANGUAGE' : [], 'GPE' : [], 'LAW' : [], 'NORP' : ['the North Koreans'], 'EVENT' : []"
     ]
    },
    {
     "name": "stderr",
     "output_type": "stream",
     "text": [
      " 72%|███████▏  | 72/100 [11:24<04:14,  9.08s/it]"
     ]
    },
    {
     "name": "stdout",
     "output_type": "stream",
     "text": [
      "{'CARDINAL' : [], 'ORDINAL' : [], 'WORK_OF_ART' : [], 'PERSON' : [], 'LOC' : [], 'DATE' : [], 'PERCENT' : [], 'PRODUCT' : [], 'MONEY' : [], 'FAC' : [], 'TIME' : [], 'ORG' : [], 'QUANTITY' : [], 'LANGUAGE' : [], 'GPE' : [], 'LAW' : [], 'NORP' : [], 'EVENT' : []"
     ]
    },
    {
     "name": "stderr",
     "output_type": "stream",
     "text": [
      " 73%|███████▎  | 73/100 [11:32<04:02,  8.97s/it]"
     ]
    },
    {
     "name": "stdout",
     "output_type": "stream",
     "text": [
      "{'CARDINAL' : [], 'ORDINAL' : [], 'WORK_OF_ART' : [], 'PERSON' : [], 'LOC' : [], 'DATE' : [], 'PERCENT' : [], 'PRODUCT' : [], 'MONEY' : [], 'FAC' : [], 'TIME' : [], 'ORG' : [], 'QUANTITY' : [], 'LANGUAGE' : [], 'GPE' : [], 'LAW' : [], 'NORP' : [], 'EVENT' : []"
     ]
    },
    {
     "name": "stderr",
     "output_type": "stream",
     "text": [
      " 74%|███████▍  | 74/100 [11:40<03:42,  8.57s/it]"
     ]
    },
    {
     "name": "stdout",
     "output_type": "stream",
     "text": [
      "{'CARDINAL' : [], 'ORDINAL' : [], 'WORK_OF_ART' : [], 'PERSON' : [], 'LOC' : [], 'DATE' : [], 'PERCENT' : [], 'PRODUCT' : [], 'MONEY' : [], 'FAC' : [], 'TIME' : [], 'ORG' : [], 'QUANTITY' : [], 'LANGUAGE' : [], 'GPE' : ['Iraq'], 'LAW' : [], 'NORP' : [], 'EVENT' : []"
     ]
    },
    {
     "name": "stderr",
     "output_type": "stream",
     "text": [
      " 75%|███████▌  | 75/100 [11:49<03:37,  8.69s/it]"
     ]
    },
    {
     "name": "stdout",
     "output_type": "stream",
     "text": [
      "{'CARDINAL' : [], 'ORDINAL' : [], 'WORK_OF_ART' : [], 'PERSON' : [], 'LOC' : [], 'DATE' : [], 'PERCENT' : [], 'PRODUCT' : [], 'MONEY' : [], 'FAC' : [], 'TIME' : [], 'ORG' : [], 'QUANTITY' : [], 'LANGUAGE' : [], 'GPE' : ['Taiwan'], 'LAW' : [], 'NORP' : [], 'EVENT' : []"
     ]
    },
    {
     "name": "stderr",
     "output_type": "stream",
     "text": [
      " 76%|███████▌  | 76/100 [11:58<03:32,  8.87s/it]"
     ]
    },
    {
     "name": "stdout",
     "output_type": "stream",
     "text": [
      "{'CARDINAL' : [], 'ORDINAL' : [], 'WORK_OF_ART' : [], 'PERSON' : [], 'LOC' : [], 'DATE' : [], 'PERCENT' : [], 'PRODUCT' : [], 'MONEY' : [], 'FAC' : [], 'TIME' : [], 'ORG' : [], 'QUANTITY' : [], 'LANGUAGE' : [], 'GPE' : [], 'LAW' : [], 'NORP' : [], 'EVENT' : []"
     ]
    },
    {
     "name": "stderr",
     "output_type": "stream",
     "text": [
      " 77%|███████▋  | 77/100 [12:07<03:24,  8.90s/it]"
     ]
    },
    {
     "name": "stdout",
     "output_type": "stream",
     "text": [
      "{'CARDINAL' : [], 'ORDINAL' : [], 'WORK_OF_ART' : [], 'PERSON' : [], 'LOC' : [], 'DATE' : [], 'PERCENT' : [], 'PRODUCT' : [], 'MONEY' : [], 'FAC' : [], 'TIME' : [], 'ORG' : ['Senators'], 'QUANTITY' : [], 'LANGUAGE' : [], 'GPE' : [], 'LAW' : [], 'NORP' : [], 'EVENT' : []"
     ]
    },
    {
     "name": "stderr",
     "output_type": "stream",
     "text": [
      " 78%|███████▊  | 78/100 [12:16<03:17,  9.00s/it]"
     ]
    },
    {
     "name": "stdout",
     "output_type": "stream",
     "text": [
      "{'CARDINAL' : [], 'ORDINAL' : [], 'WORK_OF_ART' : [], 'PERSON' : ['Chang'], 'LOC' : [], 'DATE' : [], 'PERCENT' : [], 'PRODUCT' : [], 'MONEY' : [], 'FAC' : [], 'TIME' : [], 'ORG' : [], 'QUANTITY' : [], 'LANGUAGE' : [], 'GPE' : [], 'LAW' : [], 'NORP' : [], 'EVENT' : []"
     ]
    },
    {
     "name": "stderr",
     "output_type": "stream",
     "text": [
      " 79%|███████▉  | 79/100 [12:26<03:11,  9.11s/it]"
     ]
    },
    {
     "name": "stdout",
     "output_type": "stream",
     "text": [
      "{'CARDINAL' : ['20 %'], 'ORDINAL' : [], 'WORK_OF_ART' : [], 'PERSON' : [], 'LOC' : [], 'DATE' : [], 'PERCENT' : ['20 %'], 'PRODUCT' : [], 'MONEY' : [], 'FAC' : [], 'TIME' : [], 'ORG' : [], 'QUANTITY' : [], 'LANGUAGE' : [], 'GPE' : [], 'LAW' : [], 'NORP' : [], 'EVENT' : []"
     ]
    },
    {
     "name": "stderr",
     "output_type": "stream",
     "text": [
      " 80%|████████  | 80/100 [12:35<03:05,  9.28s/it]"
     ]
    },
    {
     "name": "stdout",
     "output_type": "stream",
     "text": [
      "{'CARDINAL' : [], 'ORDINAL' : [], 'WORK_OF_ART' : [], 'PERSON' : [], 'LOC' : [], 'DATE' : [], 'PERCENT' : [], 'PRODUCT' : [], 'MONEY' : [], 'FAC' : [], 'TIME' : [], 'ORG' : [], 'QUANTITY' : [], 'LANGUAGE' : [], 'GPE' : [], 'LAW' : [], 'NORP' : [], 'EVENT' : []"
     ]
    },
    {
     "name": "stderr",
     "output_type": "stream",
     "text": [
      " 81%|████████  | 81/100 [12:44<02:53,  9.14s/it]"
     ]
    },
    {
     "name": "stdout",
     "output_type": "stream",
     "text": [
      "{'CARDINAL' : [], 'ORDINAL' : [], 'WORK_OF_ART' : [], 'PERSON' : [], 'LOC' : [], 'DATE' : [], 'PERCENT' : [], 'PRODUCT' : [], 'MONEY' : [], 'FAC' : [], 'TIME' : [], 'ORG' : [], 'QUANTITY' : [], 'LANGUAGE' : [], 'GPE' : [], 'LAW' : [], 'NORP' : [], 'EVENT' : ['Cocom']"
     ]
    },
    {
     "name": "stderr",
     "output_type": "stream",
     "text": [
      " 82%|████████▏ | 82/100 [12:54<02:47,  9.30s/it]"
     ]
    },
    {
     "name": "stdout",
     "output_type": "stream",
     "text": [
      "{'CARDINAL' : [], 'ORDINAL' : [], 'WORK_OF_ART' : [], 'PERSON' : [], 'LOC' : [], 'DATE' : ['the guaranteed circulation base is being lowered'], 'PERCENT' : [], 'PRODUCT' : [], 'MONEY' : [], 'FAC' : [], 'TIME' : [], 'ORG' : ['Time'], 'QUANTITY' : [], 'LANGUAGE' : [], 'GPE' : [], 'LAW' : [], 'NORP' : [], 'EVENT' : []"
     ]
    },
    {
     "name": "stderr",
     "output_type": "stream",
     "text": [
      " 83%|████████▎ | 83/100 [13:04<02:42,  9.54s/it]"
     ]
    },
    {
     "name": "stdout",
     "output_type": "stream",
     "text": [
      "{'CARDINAL' : ['83'], 'ORDINAL' : [], 'WORK_OF_ART' : [], 'PERSON' : ['justice'], 'LOC' : [], 'DATE' : ['83 - year - old'], 'PERCENT' : [], 'PRODUCT' : [], 'MONEY' : [], 'FAC' : [], 'TIME' : [], 'ORG' : [], 'QUANTITY' : [], 'LANGUAGE' : [], 'GPE' : [], 'LAW' : [], 'NORP' : [], 'EVENT' : []"
     ]
    },
    {
     "name": "stderr",
     "output_type": "stream",
     "text": [
      " 84%|████████▍ | 84/100 [13:13<02:31,  9.45s/it]"
     ]
    },
    {
     "name": "stdout",
     "output_type": "stream",
     "text": [
      "{'CARDINAL' : ['more'], 'ORDINAL' : [], 'WORK_OF_ART' : [], 'PERSON' : [], 'LOC' : [], 'DATE' : [], 'PERCENT' : [], 'PRODUCT' : [], 'MONEY' : [], 'FAC' : [], 'TIME' : [], 'ORG' : [], 'QUANTITY' : [], 'LANGUAGE' : [], 'GPE' : ['Iraq'], 'LAW' : [], 'NORP' : [], 'EVENT' : []"
     ]
    },
    {
     "name": "stderr",
     "output_type": "stream",
     "text": [
      " 85%|████████▌ | 85/100 [13:23<02:22,  9.47s/it]"
     ]
    },
    {
     "name": "stdout",
     "output_type": "stream",
     "text": [
      "{'CARDINAL' : [], 'ORDINAL' : [], 'WORK_OF_ART' : [], 'PERSON' : ['Miller, Libby, Cheney'], 'LOC' : [], 'DATE' : [], 'PERCENT' : [], 'PRODUCT' : [], 'MONEY' : [], 'FAC' : [], 'TIME' : [], 'ORG' : [], 'QUANTITY' : [], 'LANGUAGE' : [], 'GPE' : [], 'LAW' : [], 'NORP' : [], 'EVENT' : []"
     ]
    },
    {
     "name": "stderr",
     "output_type": "stream",
     "text": [
      " 86%|████████▌ | 86/100 [13:33<02:14,  9.57s/it]"
     ]
    },
    {
     "name": "stdout",
     "output_type": "stream",
     "text": [
      "{'CARDINAL' : [], 'ORDINAL' : [], 'WORK_OF_ART' : [], 'PERSON' : [], 'LOC' : [], 'DATE' : [], 'PERCENT' : [], 'PRODUCT' : [], 'MONEY' : [], 'FAC' : [], 'TIME' : [], 'ORG' : [], 'QUANTITY' : [], 'LANGUAGE' : [], 'GPE' : [], 'LAW' : [], 'NORP' : [], 'EVENT' : []"
     ]
    },
    {
     "name": "stderr",
     "output_type": "stream",
     "text": [
      " 87%|████████▋ | 87/100 [13:42<02:02,  9.42s/it]"
     ]
    },
    {
     "name": "stdout",
     "output_type": "stream",
     "text": [
      "{'CARDINAL' : [], 'ORDINAL' : [], 'WORK_OF_ART' : [], 'PERSON' : [], 'LOC' : [], 'DATE' : [], 'PERCENT' : [], 'PRODUCT' : [], 'MONEY' : [], 'FAC' : [], 'TIME' : [], 'ORG' : [], 'QUANTITY' : [], 'LANGUAGE' : [], 'GPE' : [], 'LAW' : [], 'NORP' : [], 'EVENT' : []"
     ]
    },
    {
     "name": "stderr",
     "output_type": "stream",
     "text": [
      " 88%|████████▊ | 88/100 [13:50<01:49,  9.11s/it]"
     ]
    },
    {
     "name": "stdout",
     "output_type": "stream",
     "text": [
      "{'CARDINAL' : ['two'], 'ORDINAL' : [], 'WORK_OF_ART' : [], 'PERSON' : [], 'LOC' : [], 'DATE' : [], 'PERCENT' : [], 'PRODUCT' : [], 'MONEY' : [], 'FAC' : [], 'TIME' : [], 'ORG' : ['Sunbelt Savings & Loan Association of Dallas'], 'QUANTITY' : [], 'LANGUAGE' : [], 'GPE' : ['Dallas'], 'LAW' : [], 'NORP' : [], 'EVENT' : []"
     ]
    },
    {
     "name": "stderr",
     "output_type": "stream",
     "text": [
      " 89%|████████▉ | 89/100 [14:00<01:43,  9.38s/it]"
     ]
    },
    {
     "name": "stdout",
     "output_type": "stream",
     "text": [
      "{'CARDINAL' : [], 'ORDINAL' : [], 'WORK_OF_ART' : [], 'PERSON' : [], 'LOC' : [], 'DATE' : [], 'PERCENT' : [], 'PRODUCT' : [], 'MONEY' : ['$ 239 million'], 'FAC' : [], 'TIME' : [], 'ORG' : [], 'QUANTITY' : [], 'LANGUAGE' : [], 'GPE' : [], 'LAW' : [], 'NORP' : [], 'EVENT' : []"
     ]
    },
    {
     "name": "stderr",
     "output_type": "stream",
     "text": [
      " 90%|█████████ | 90/100 [14:10<01:35,  9.55s/it]"
     ]
    },
    {
     "name": "stdout",
     "output_type": "stream",
     "text": [
      "{'CARDINAL' : [], 'ORDINAL' : [], 'WORK_OF_ART' : [], 'PERSON' : [], 'LOC' : [], 'DATE' : [], 'PERCENT' : [], 'PRODUCT' : [], 'MONEY' : ['nearly 30 million US dollars, over 10 million US dollars'], 'FAC' : [], 'TIME' : [], 'ORG' : [], 'QUANTITY' : [], 'LANGUAGE' : [], 'GPE' : [], 'LAW' : [], 'NORP' : [], 'EVENT' : []"
     ]
    },
    {
     "name": "stderr",
     "output_type": "stream",
     "text": [
      " 91%|█████████ | 91/100 [14:20<01:28,  9.79s/it]"
     ]
    },
    {
     "name": "stdout",
     "output_type": "stream",
     "text": [
      "{'CARDINAL' : [], 'ORDINAL' : [], 'WORK_OF_ART' : [], 'PERSON' : [], 'LOC' : [], 'DATE' : [], 'PERCENT' : [], 'PRODUCT' : [], 'MONEY' : [], 'FAC' : [], 'TIME' : [], 'ORG' : [], 'QUANTITY' : [], 'LANGUAGE' : [], 'GPE' : [], 'LAW' : [], 'NORP' : [], 'EVENT' : []"
     ]
    },
    {
     "name": "stderr",
     "output_type": "stream",
     "text": [
      " 92%|█████████▏| 92/100 [14:30<01:17,  9.69s/it]"
     ]
    },
    {
     "name": "stdout",
     "output_type": "stream",
     "text": [
      "{'CARDINAL' : [], 'ORDINAL' : [], 'WORK_OF_ART' : [], 'PERSON' : [], 'LOC' : [], 'DATE' : ['the same period of the previous year'], 'PERCENT' : ['10 % to 20 %'], 'PRODUCT' : [], 'MONEY' : ['3.08 billion yuan'], 'FAC' : [], 'TIME' : [], 'ORG' : [], 'QUANTITY' : [], 'LANGUAGE' : [], 'GPE' : [], 'LAW' : [], 'NORP' : [], 'EVENT' : []"
     ]
    },
    {
     "name": "stderr",
     "output_type": "stream",
     "text": [
      " 93%|█████████▎| 93/100 [14:40<01:08,  9.79s/it]"
     ]
    },
    {
     "name": "stdout",
     "output_type": "stream",
     "text": [
      "{'CARDINAL' : [], 'ORDINAL' : [], 'WORK_OF_ART' : [], 'PERSON' : [], 'LOC' : [], 'DATE' : [], 'PERCENT' : [], 'PRODUCT' : [], 'MONEY' : [], 'FAC' : [], 'TIME' : ['within the past hour or so'], 'ORG' : [], 'QUANTITY' : [], 'LANGUAGE' : [], 'GPE' : ['Israel'], 'LAW' : [], 'NORP' : [], 'EVENT' : []"
     ]
    },
    {
     "name": "stderr",
     "output_type": "stream",
     "text": [
      " 94%|█████████▍| 94/100 [14:50<00:58,  9.81s/it]"
     ]
    },
    {
     "name": "stdout",
     "output_type": "stream",
     "text": [
      "{'CARDINAL' : [], 'ORDINAL' : [], 'WORK_OF_ART' : [], 'PERSON' : ['Bob Wilson'], 'LOC' : [], 'DATE' : [], 'PERCENT' : [], 'PRODUCT' : [], 'MONEY' : [], 'FAC' : [], 'TIME' : [], 'ORG' : ['Budget'], 'QUANTITY' : [], 'LANGUAGE' : [], 'GPE' : [], 'LAW' : [], 'NORP' : [], 'EVENT' : []"
     ]
    },
    {
     "name": "stderr",
     "output_type": "stream",
     "text": [
      " 95%|█████████▌| 95/100 [14:59<00:48,  9.69s/it]"
     ]
    },
    {
     "name": "stdout",
     "output_type": "stream",
     "text": [
      "{'CARDINAL' : ['one'], 'ORDINAL' : [], 'WORK_OF_ART' : [], 'PERSON' : [], 'LOC' : [], 'DATE' : [], 'PERCENT' : [], 'PRODUCT' : [], 'MONEY' : [], 'FAC' : [], 'TIME' : [], 'ORG' : [], 'QUANTITY' : [], 'LANGUAGE' : [], 'GPE' : ['China'], 'LAW' : [], 'NORP' : [], 'EVENT' : []"
     ]
    },
    {
     "name": "stderr",
     "output_type": "stream",
     "text": [
      " 96%|█████████▌| 96/100 [15:08<00:38,  9.55s/it]"
     ]
    },
    {
     "name": "stdout",
     "output_type": "stream",
     "text": [
      "{'CARDINAL' : [], 'ORDINAL' : [], 'WORK_OF_ART' : [], 'PERSON' : [], 'LOC' : [], 'DATE' : [], 'PERCENT' : [], 'PRODUCT' : [], 'MONEY' : [], 'FAC' : [], 'TIME' : [], 'ORG' : [], 'QUANTITY' : [], 'LANGUAGE' : [], 'GPE' : ['US'], 'LAW' : [], 'NORP' : [], 'EVENT' : []"
     ]
    },
    {
     "name": "stderr",
     "output_type": "stream",
     "text": [
      " 97%|█████████▋| 97/100 [15:17<00:27,  9.33s/it]"
     ]
    },
    {
     "name": "stdout",
     "output_type": "stream",
     "text": [
      "{'CARDINAL' : [], 'ORDINAL' : [], 'WORK_OF_ART' : [], 'PERSON' : ['Arthur Sulzberger'], 'LOC' : [], 'DATE' : [], 'PERCENT' : [], 'PRODUCT' : [], 'MONEY' : [], 'FAC' : [], 'TIME' : [], 'ORG' : [], 'QUANTITY' : [], 'LANGUAGE' : [], 'GPE' : [], 'LAW' : [], 'NORP' : [], 'EVENT' : []"
     ]
    },
    {
     "name": "stderr",
     "output_type": "stream",
     "text": [
      " 98%|█████████▊| 98/100 [15:26<00:18,  9.17s/it]"
     ]
    },
    {
     "name": "stdout",
     "output_type": "stream",
     "text": [
      "{'CARDINAL' : [], 'ORDINAL' : [], 'WORK_OF_ART' : [], 'PERSON' : [], 'LOC' : [], 'DATE' : [], 'PERCENT' : [], 'PRODUCT' : [], 'MONEY' : [], 'FAC' : [], 'TIME' : [], 'ORG' : [], 'QUANTITY' : [], 'LANGUAGE' : [], 'GPE' : [], 'LAW' : [], 'NORP' : [], 'EVENT' : []"
     ]
    },
    {
     "name": "stderr",
     "output_type": "stream",
     "text": [
      " 99%|█████████▉| 99/100 [15:34<00:09,  9.01s/it]"
     ]
    },
    {
     "name": "stdout",
     "output_type": "stream",
     "text": [
      "{'CARDINAL' : [], 'ORDINAL' : [], 'WORK_OF_ART' : [], 'PERSON' : [], 'LOC' : [], 'DATE' : ['1987'], 'PERCENT' : [], 'PRODUCT' : [], 'MONEY' : [], 'FAC' : [], 'TIME' : [], 'ORG' : [], 'QUANTITY' : [], 'LANGUAGE' : [], 'GPE' : [], 'LAW' : [], 'NORP' : [], 'EVENT' : []"
     ]
    },
    {
     "name": "stderr",
     "output_type": "stream",
     "text": [
      "100%|██████████| 100/100 [15:43<00:00,  9.44s/it]\n"
     ]
    },
    {
     "name": "stdout",
     "output_type": "stream",
     "text": [
      "./ner/saves/datasets/ontonote5_test_1403.pkl\n"
     ]
    },
    {
     "name": "stderr",
     "output_type": "stream",
     "text": [
      "  0%|          | 0/100 [00:00<?, ?it/s]"
     ]
    },
    {
     "name": "stdout",
     "output_type": "stream",
     "text": [
      "{'CARDINAL' : [], 'ORDINAL' : [], 'WORK_OF_ART' : [], 'PERSON' : [], 'LOC' : [], 'DATE' : [], 'PERCENT' : [], 'PRODUCT' : [], 'MONEY' : [], 'FAC' : [], 'TIME' : [], 'ORG' : [], 'QUANTITY' : [], 'LANGUAGE' : [], 'GPE' : [], 'LAW' : [], 'NORP' : [], 'EVENT' : []"
     ]
    },
    {
     "name": "stderr",
     "output_type": "stream",
     "text": [
      "  1%|          | 1/100 [00:09<15:17,  9.27s/it]"
     ]
    },
    {
     "name": "stdout",
     "output_type": "stream",
     "text": [
      "{'CARDINAL' : [], 'ORDINAL' : [], 'WORK_OF_ART' : [], 'PERSON' : [], 'LOC' : [], 'DATE' : [], 'PERCENT' : [], 'PRODUCT' : [], 'MONEY' : [], 'FAC' : [], 'TIME' : [], 'ORG' : [], 'QUANTITY' : [], 'LANGUAGE' : [], 'GPE' : [], 'LAW' : [], 'NORP' : [], 'EVENT' : []"
     ]
    },
    {
     "name": "stderr",
     "output_type": "stream",
     "text": [
      "  2%|▏         | 2/100 [00:17<14:29,  8.87s/it]"
     ]
    },
    {
     "name": "stdout",
     "output_type": "stream",
     "text": [
      "{'CARDINAL' : [], 'ORDINAL' : [], 'WORK_OF_ART' : [], 'PERSON' : [], 'LOC' : [], 'DATE' : [], 'PERCENT' : [], 'PRODUCT' : [], 'MONEY' : [], 'FAC' : [], 'TIME' : [], 'ORG' : [], 'QUANTITY' : [], 'LANGUAGE' : [], 'GPE' : [], 'LAW' : [], 'NORP' : [], 'EVENT' : []"
     ]
    },
    {
     "name": "stderr",
     "output_type": "stream",
     "text": [
      "  3%|▎         | 3/100 [00:26<14:21,  8.88s/it]"
     ]
    },
    {
     "name": "stdout",
     "output_type": "stream",
     "text": [
      "{'CARDINAL' : [], 'ORDINAL' : [], 'WORK_OF_ART' : [], 'PERSON' : [], 'LOC' : [], 'DATE' : [], 'PERCENT' : [], 'PRODUCT' : [], 'MONEY' : [], 'FAC' : [], 'TIME' : [], 'ORG' : ['the government'], 'QUANTITY' : [], 'LANGUAGE' : [], 'GPE' : [], 'LAW' : [], 'NORP' : [], 'EVENT' : []"
     ]
    },
    {
     "name": "stderr",
     "output_type": "stream",
     "text": [
      "  4%|▍         | 4/100 [00:36<14:38,  9.15s/it]"
     ]
    },
    {
     "name": "stdout",
     "output_type": "stream",
     "text": [
      "{'CARDINAL' : [], 'ORDINAL' : [], 'WORK_OF_ART' : [], 'PERSON' : [], 'LOC' : [], 'DATE' : [], 'PERCENT' : [], 'PRODUCT' : [], 'MONEY' : [], 'FAC' : [], 'TIME' : [], 'ORG' : [], 'QUANTITY' : [], 'LANGUAGE' : [], 'GPE' : [], 'LAW' : [], 'NORP' : [], 'EVENT' : ['last week']"
     ]
    },
    {
     "name": "stderr",
     "output_type": "stream",
     "text": [
      "  5%|▌         | 5/100 [00:45<14:34,  9.20s/it]"
     ]
    },
    {
     "name": "stdout",
     "output_type": "stream",
     "text": [
      "{'CARDINAL' : [], 'ORDINAL' : [], 'WORK_OF_ART' : [], 'PERSON' : [], 'LOC' : [], 'DATE' : ['this quarter'], 'PERCENT' : [], 'PRODUCT' : [], 'MONEY' : [], 'FAC' : [], 'TIME' : [], 'ORG' : [], 'QUANTITY' : [], 'LANGUAGE' : [], 'GPE' : [], 'LAW' : [], 'NORP' : [], 'EVENT' : []"
     ]
    },
    {
     "name": "stderr",
     "output_type": "stream",
     "text": [
      "  6%|▌         | 6/100 [00:54<14:21,  9.17s/it]"
     ]
    },
    {
     "name": "stdout",
     "output_type": "stream",
     "text": [
      "{'CARDINAL' : [], 'ORDINAL' : [], 'WORK_OF_ART' : [], 'PERSON' : ['Charles Colson'], 'LOC' : [], 'DATE' : [], 'PERCENT' : [], 'PRODUCT' : [], 'MONEY' : [], 'FAC' : [], 'TIME' : [], 'ORG' : [], 'QUANTITY' : [], 'LANGUAGE' : [], 'GPE' : [], 'LAW' : [], 'NORP' : [], 'EVENT' : []"
     ]
    },
    {
     "name": "stderr",
     "output_type": "stream",
     "text": [
      "  7%|▋         | 7/100 [01:03<13:48,  8.91s/it]"
     ]
    },
    {
     "name": "stdout",
     "output_type": "stream",
     "text": [
      "{'CARDINAL' : [], 'ORDINAL' : [], 'WORK_OF_ART' : [], 'PERSON' : ['Mr. Heinemann'], 'LOC' : [], 'DATE' : [], 'PERCENT' : [], 'PRODUCT' : [], 'MONEY' : [], 'FAC' : [], 'TIME' : [], 'ORG' : [], 'QUANTITY' : [], 'LANGUAGE' : [], 'GPE' : [], 'LAW' : [], 'NORP' : [], 'EVENT' : []"
     ]
    },
    {
     "name": "stderr",
     "output_type": "stream",
     "text": [
      "  8%|▊         | 8/100 [01:13<14:17,  9.32s/it]"
     ]
    },
    {
     "name": "stdout",
     "output_type": "stream",
     "text": [
      "{'CARDINAL' : ['200, 70, 180'], 'ORDINAL' : [], 'WORK_OF_ART' : [], 'PERSON' : [], 'LOC' : [], 'DATE' : [], 'PERCENT' : [], 'PRODUCT' : [], 'MONEY' : [], 'FAC' : [], 'TIME' : [], 'ORG' : [], 'QUANTITY' : [], 'LANGUAGE' : [], 'GPE' : ['Dongguan'], 'LAW' : [], 'NORP' : [], 'EVENT' : []"
     ]
    },
    {
     "name": "stderr",
     "output_type": "stream",
     "text": [
      "  9%|▉         | 9/100 [01:23<14:45,  9.73s/it]"
     ]
    },
    {
     "name": "stdout",
     "output_type": "stream",
     "text": [
      "{'CARDINAL' : [], 'ORDINAL' : [], 'WORK_OF_ART' : [], 'PERSON' : ['narrator'], 'LOC' : [], 'DATE' : [], 'PERCENT' : [], 'PRODUCT' : [], 'MONEY' : [], 'FAC' : [], 'TIME' : [], 'ORG' : [], 'QUANTITY' : [], 'LANGUAGE' : [], 'GPE' : [], 'LAW' : [], 'NORP' : [], 'EVENT' : []"
     ]
    },
    {
     "name": "stderr",
     "output_type": "stream",
     "text": [
      " 10%|█         | 10/100 [01:33<14:24,  9.61s/it]"
     ]
    },
    {
     "name": "stdout",
     "output_type": "stream",
     "text": [
      "{'CARDINAL' : [], 'ORDINAL' : [], 'WORK_OF_ART' : [], 'PERSON' : ['Christy Whitman'], 'LOC' : [], 'DATE' : [], 'PERCENT' : [], 'PRODUCT' : [], 'MONEY' : [], 'FAC' : [], 'TIME' : [], 'ORG' : [], 'QUANTITY' : [], 'LANGUAGE' : [], 'GPE' : [], 'LAW' : [], 'NORP' : [], 'EVENT' : []"
     ]
    },
    {
     "name": "stderr",
     "output_type": "stream",
     "text": [
      " 11%|█         | 11/100 [01:43<14:22,  9.70s/it]"
     ]
    },
    {
     "name": "stdout",
     "output_type": "stream",
     "text": [
      "{'CARDINAL' : [], 'ORDINAL' : [], 'WORK_OF_ART' : [], 'PERSON' : [], 'LOC' : ['Van Nuys, Oklahoma City, Pontiac'], 'DATE' : [], 'PERCENT' : [], 'PRODUCT' : [], 'MONEY' : [], 'FAC' : [], 'TIME' : [], 'ORG' : [], 'QUANTITY' : [], 'LANGUAGE' : [], 'GPE' : [], 'LAW' : [], 'NORP' : [], 'EVENT' : []"
     ]
    },
    {
     "name": "stderr",
     "output_type": "stream",
     "text": [
      " 12%|█▏        | 12/100 [01:52<14:14,  9.71s/it]"
     ]
    },
    {
     "name": "stdout",
     "output_type": "stream",
     "text": [
      "{'CARDINAL' : [], 'ORDINAL' : [], 'WORK_OF_ART' : [], 'PERSON' : [], 'LOC' : [], 'DATE' : [], 'PERCENT' : [], 'PRODUCT' : [], 'MONEY' : [], 'FAC' : [], 'TIME' : [], 'ORG' : [], 'QUANTITY' : [], 'LANGUAGE' : [], 'GPE' : [\"Shandong 's\"], 'LAW' : [], 'NORP' : [], 'EVENT' : []"
     ]
    },
    {
     "name": "stderr",
     "output_type": "stream",
     "text": [
      " 13%|█▎        | 13/100 [02:02<13:53,  9.58s/it]"
     ]
    },
    {
     "name": "stdout",
     "output_type": "stream",
     "text": [
      "{'CARDINAL' : [], 'ORDINAL' : [], 'WORK_OF_ART' : [], 'PERSON' : [], 'LOC' : [], 'DATE' : [], 'PERCENT' : [], 'PRODUCT' : [], 'MONEY' : [], 'FAC' : [], 'TIME' : [], 'ORG' : [], 'QUANTITY' : [], 'LANGUAGE' : [], 'GPE' : [], 'LAW' : [], 'NORP' : [], 'EVENT' : []"
     ]
    },
    {
     "name": "stderr",
     "output_type": "stream",
     "text": [
      " 14%|█▍        | 14/100 [02:10<12:59,  9.07s/it]"
     ]
    },
    {
     "name": "stdout",
     "output_type": "stream",
     "text": [
      "{'CARDINAL' : [], 'ORDINAL' : [], 'WORK_OF_ART' : [], 'PERSON' : [], 'LOC' : [], 'DATE' : [], 'PERCENT' : [], 'PRODUCT' : [], 'MONEY' : [], 'FAC' : [], 'TIME' : [], 'ORG' : [], 'QUANTITY' : [], 'LANGUAGE' : [], 'GPE' : [], 'LAW' : [], 'NORP' : [], 'EVENT' : []"
     ]
    },
    {
     "name": "stderr",
     "output_type": "stream",
     "text": [
      " 15%|█▌        | 15/100 [02:19<13:06,  9.25s/it]"
     ]
    },
    {
     "name": "stdout",
     "output_type": "stream",
     "text": [
      "{'CARDINAL' : [], 'ORDINAL' : [], 'WORK_OF_ART' : [], 'PERSON' : [], 'LOC' : [], 'DATE' : [], 'PERCENT' : [], 'PRODUCT' : [], 'MONEY' : [], 'FAC' : [], 'TIME' : [], 'ORG' : [], 'QUANTITY' : [], 'LANGUAGE' : [], 'GPE' : ['Linpien'], 'LAW' : [], 'NORP' : [], 'EVENT' : []"
     ]
    },
    {
     "name": "stderr",
     "output_type": "stream",
     "text": [
      " 16%|█▌        | 16/100 [02:29<13:07,  9.38s/it]"
     ]
    },
    {
     "name": "stdout",
     "output_type": "stream",
     "text": [
      "{'CARDINAL' : [], 'ORDINAL' : [], 'WORK_OF_ART' : [], 'PERSON' : [], 'LOC' : [], 'DATE' : [], 'PERCENT' : [], 'PRODUCT' : [], 'MONEY' : [], 'FAC' : [], 'TIME' : [], 'ORG' : [], 'QUANTITY' : [], 'LANGUAGE' : [], 'GPE' : [], 'LAW' : [], 'NORP' : [], 'EVENT' : []"
     ]
    },
    {
     "name": "stderr",
     "output_type": "stream",
     "text": [
      " 17%|█▋        | 17/100 [02:38<12:51,  9.29s/it]"
     ]
    },
    {
     "name": "stdout",
     "output_type": "stream",
     "text": [
      "{'CARDINAL' : [], 'ORDINAL' : [], 'WORK_OF_ART' : [], 'PERSON' : [], 'LOC' : [], 'DATE' : ['last month'], 'PERCENT' : ['0.9 %'], 'PRODUCT' : [], 'MONEY' : [], 'FAC' : [], 'TIME' : [], 'ORG' : [], 'QUANTITY' : [], 'LANGUAGE' : [], 'GPE' : [], 'LAW' : [], 'NORP' : [], 'EVENT' : []"
     ]
    },
    {
     "name": "stderr",
     "output_type": "stream",
     "text": [
      " 18%|█▊        | 18/100 [02:48<12:59,  9.51s/it]"
     ]
    },
    {
     "name": "stdout",
     "output_type": "stream",
     "text": [
      "{'CARDINAL' : ['218'], 'ORDINAL' : [], 'WORK_OF_ART' : [], 'PERSON' : [], 'LOC' : [], 'DATE' : [], 'PERCENT' : [], 'PRODUCT' : [], 'MONEY' : [], 'FAC' : [], 'TIME' : [], 'ORG' : [], 'QUANTITY' : [], 'LANGUAGE' : [], 'GPE' : ['Shanghai'], 'LAW' : [], 'NORP' : [], 'EVENT' : []"
     ]
    },
    {
     "name": "stderr",
     "output_type": "stream",
     "text": [
      " 19%|█▉        | 19/100 [02:58<13:05,  9.70s/it]"
     ]
    },
    {
     "name": "stdout",
     "output_type": "stream",
     "text": [
      "{'CARDINAL' : [], 'ORDINAL' : [], 'WORK_OF_ART' : [], 'PERSON' : [\"Scooter Libby\"], 'LOC' : [], 'DATE' : [], 'PERCENT' : [], 'PRODUCT' : [], 'MONEY' : [], 'FAC' : [], 'TIME' : [], 'ORG' : [], 'QUANTITY' : [], 'LANGUAGE' : [], 'GPE' : [], 'LAW' : [], 'NORP' : [], 'EVENT' : []"
     ]
    },
    {
     "name": "stderr",
     "output_type": "stream",
     "text": [
      " 20%|██        | 20/100 [03:07<12:40,  9.50s/it]"
     ]
    },
    {
     "name": "stdout",
     "output_type": "stream",
     "text": [
      "{'CARDINAL' : [], 'ORDINAL' : [], 'WORK_OF_ART' : [], 'PERSON' : [], 'LOC' : [], 'DATE' : [], 'PERCENT' : [], 'PRODUCT' : [], 'MONEY' : [], 'FAC' : [], 'TIME' : [], 'ORG' : [], 'QUANTITY' : [], 'LANGUAGE' : [], 'GPE' : [], 'LAW' : [], 'NORP' : [], 'EVENT' : []"
     ]
    },
    {
     "name": "stderr",
     "output_type": "stream",
     "text": [
      " 21%|██        | 21/100 [03:16<12:12,  9.27s/it]"
     ]
    },
    {
     "name": "stdout",
     "output_type": "stream",
     "text": [
      "{'CARDINAL' : [], 'ORDINAL' : [], 'WORK_OF_ART' : [], 'PERSON' : [], 'LOC' : [], 'DATE' : [], 'PERCENT' : [], 'PRODUCT' : [], 'MONEY' : [], 'FAC' : [], 'TIME' : [], 'ORG' : ['Royal Trustco Ltd. , Pacific Savings Bank'], 'QUANTITY' : [], 'LANGUAGE' : [], 'GPE' : [], 'LAW' : [], 'NORP' : [], 'EVENT' : []"
     ]
    },
    {
     "name": "stderr",
     "output_type": "stream",
     "text": [
      " 22%|██▏       | 22/100 [03:26<12:11,  9.37s/it]"
     ]
    },
    {
     "name": "stdout",
     "output_type": "stream",
     "text": [
      "{'CARDINAL' : [], 'ORDINAL' : [], 'WORK_OF_ART' : [], 'PERSON' : [], 'LOC' : [], 'DATE' : ['recently', 'the previous year'], 'PERCENT' : ['18.85 %', '15 %', '22.7 %'], 'PRODUCT' : [], 'MONEY' : ['220.178 billion US dollars', '110.380 billion US dollars', '109.798 billion US dollars'], 'FAC' : [], 'TIME' : [], 'ORG' : ['Mexico 's Treasury Department'], 'QUANTITY' : [], 'LANGUAGE' : [], 'GPE' : ['Mexico'], 'LAW' : [], 'NORP' : [], 'EVENT' : []"
     ]
    },
    {
     "name": "stderr",
     "output_type": "stream",
     "text": [
      " 23%|██▎       | 23/100 [03:40<14:06, 11.00s/it]"
     ]
    },
    {
     "name": "stdout",
     "output_type": "stream",
     "text": [
      "{'CARDINAL' : [], 'ORDINAL' : [], 'WORK_OF_ART' : [], 'PERSON' : [], 'LOC' : [], 'DATE' : ['a month'], 'PERCENT' : [], 'PRODUCT' : [], 'MONEY' : [], 'FAC' : [], 'TIME' : [], 'ORG' : [], 'QUANTITY' : [], 'LANGUAGE' : [], 'GPE' : [], 'LAW' : [], 'NORP' : [], 'EVENT' : []"
     ]
    },
    {
     "name": "stderr",
     "output_type": "stream",
     "text": [
      " 24%|██▍       | 24/100 [03:49<12:53, 10.18s/it]"
     ]
    },
    {
     "name": "stdout",
     "output_type": "stream",
     "text": [
      "{'CARDINAL' : [], 'ORDINAL' : [], 'WORK_OF_ART' : [], 'PERSON' : [], 'LOC' : [], 'DATE' : [], 'PERCENT' : ['50 percent'], 'PRODUCT' : [], 'MONEY' : [], 'FAC' : [], 'TIME' : [], 'ORG' : [], 'QUANTITY' : [], 'LANGUAGE' : [], 'GPE' : [], 'LAW' : [], 'NORP' : [], 'EVENT' : []"
     ]
    },
    {
     "name": "stderr",
     "output_type": "stream",
     "text": [
      " 25%|██▌       | 25/100 [03:57<12:04,  9.67s/it]"
     ]
    },
    {
     "name": "stdout",
     "output_type": "stream",
     "text": [
      "{'CARDINAL' : [], 'ORDINAL' : [], 'WORK_OF_ART' : [], 'PERSON' : [], 'LOC' : [], 'DATE' : ['January to November'], 'PERCENT' : [], 'PRODUCT' : [], 'MONEY' : ['2.8 billion US dollars'], 'FAC' : [], 'TIME' : [], 'ORG' : [], 'QUANTITY' : [], 'LANGUAGE' : [], 'GPE' : ['Pudong region'], 'LAW' : [], 'NORP' : [], 'EVENT' : []"
     ]
    },
    {
     "name": "stderr",
     "output_type": "stream",
     "text": [
      " 26%|██▌       | 26/100 [04:07<11:59,  9.72s/it]"
     ]
    },
    {
     "name": "stdout",
     "output_type": "stream",
     "text": [
      "{'CARDINAL' : [], 'ORDINAL' : [], 'WORK_OF_ART' : [], 'PERSON' : [], 'LOC' : [], 'DATE' : [], 'PERCENT' : [], 'PRODUCT' : [], 'MONEY' : [], 'FAC' : [], 'TIME' : [], 'ORG' : [], 'QUANTITY' : [], 'LANGUAGE' : [], 'GPE' : [], 'LAW' : [], 'NORP' : [], 'EVENT' : []"
     ]
    },
    {
     "name": "stderr",
     "output_type": "stream",
     "text": [
      " 27%|██▋       | 27/100 [04:16<11:42,  9.62s/it]"
     ]
    },
    {
     "name": "stdout",
     "output_type": "stream",
     "text": [
      "{'CARDINAL' : [], 'ORDINAL' : [], 'WORK_OF_ART' : [], 'PERSON' : [], 'LOC' : [], 'DATE' : [], 'PERCENT' : [], 'PRODUCT' : [], 'MONEY' : [], 'FAC' : [], 'TIME' : [], 'ORG' : [], 'QUANTITY' : [], 'LANGUAGE' : [], 'GPE' : [], 'LAW' : [], 'NORP' : [], 'EVENT' : []"
     ]
    },
    {
     "name": "stderr",
     "output_type": "stream",
     "text": [
      " 28%|██▊       | 28/100 [04:25<11:22,  9.48s/it]"
     ]
    },
    {
     "name": "stdout",
     "output_type": "stream",
     "text": [
      "{'CARDINAL' : [], 'ORDINAL' : [], 'WORK_OF_ART' : [], 'PERSON' : ['Young & Rubicam Inc.'], 'LOC' : [], 'DATE' : [], 'PERCENT' : [], 'PRODUCT' : [], 'MONEY' : [], 'FAC' : [], 'TIME' : [], 'ORG' : [], 'QUANTITY' : [], 'LANGUAGE' : [], 'GPE' : [], 'LAW' : [], 'NORP' : [], 'EVENT' : []"
     ]
    },
    {
     "name": "stderr",
     "output_type": "stream",
     "text": [
      " 29%|██▉       | 29/100 [04:35<11:19,  9.57s/it]"
     ]
    },
    {
     "name": "stdout",
     "output_type": "stream",
     "text": [
      "{'CARDINAL' : [], 'ORDINAL' : [], 'WORK_OF_ART' : [], 'PERSON' : ['Tsao Chi - hung'], 'LOC' : [], 'DATE' : [], 'PERCENT' : [], 'PRODUCT' : [], 'MONEY' : [], 'FAC' : [], 'TIME' : [], 'ORG' : ['the Linpien Residents ' Democracy Association'], 'QUANTITY' : [], 'LANGUAGE' : [], 'GPE' : [], 'LAW' : [], 'NORP' : [], 'EVENT' : []"
     ]
    },
    {
     "name": "stderr",
     "output_type": "stream",
     "text": [
      " 30%|███       | 30/100 [04:45<11:09,  9.56s/it]"
     ]
    },
    {
     "name": "stdout",
     "output_type": "stream",
     "text": [
      "{'CARDINAL' : [], 'ORDINAL' : [], 'WORK_OF_ART' : [], 'PERSON' : [], 'LOC' : [], 'DATE' : ['August 23rd'], 'PERCENT' : [], 'PRODUCT' : [], 'MONEY' : [], 'FAC' : [], 'TIME' : [], 'ORG' : [], 'QUANTITY' : [], 'LANGUAGE' : [], 'GPE' : [], 'LAW' : [], 'NORP' : [], 'EVENT' : []"
     ]
    },
    {
     "name": "stderr",
     "output_type": "stream",
     "text": [
      " 31%|███       | 31/100 [04:54<10:55,  9.49s/it]"
     ]
    },
    {
     "name": "stdout",
     "output_type": "stream",
     "text": [
      "{'CARDINAL' : ['850 million US dollars, 700 million US dollars'], 'ORDINAL' : [], 'WORK_OF_ART' : [], 'PERSON' : [], 'LOC' : [], 'DATE' : ['last year'], 'PERCENT' : [], 'PRODUCT' : [], 'MONEY' : [], 'FAC' : [], 'TIME' : [], 'ORG' : [], 'QUANTITY' : [], 'LANGUAGE' : [], 'GPE' : [], 'LAW' : [], 'NORP' : [], 'EVENT' : []"
     ]
    },
    {
     "name": "stderr",
     "output_type": "stream",
     "text": [
      " 32%|███▏      | 32/100 [05:05<11:12,  9.89s/it]"
     ]
    },
    {
     "name": "stdout",
     "output_type": "stream",
     "text": [
      "{'CARDINAL' : [], 'ORDINAL' : [], 'WORK_OF_ART' : [], 'PERSON' : [], 'LOC' : [], 'DATE' : [], 'PERCENT' : [], 'PRODUCT' : [], 'MONEY' : [], 'FAC' : [], 'TIME' : [], 'ORG' : [], 'QUANTITY' : [], 'LANGUAGE' : [], 'GPE' : [], 'LAW' : [], 'NORP' : [], 'EVENT' : []"
     ]
    },
    {
     "name": "stderr",
     "output_type": "stream",
     "text": [
      " 33%|███▎      | 33/100 [05:14<10:41,  9.57s/it]"
     ]
    },
    {
     "name": "stdout",
     "output_type": "stream",
     "text": [
      "{'CARDINAL' : ['$ 6 million'], 'ORDINAL' : [], 'WORK_OF_ART' : [], 'PERSON' : [], 'LOC' : [], 'DATE' : [], 'PERCENT' : [], 'PRODUCT' : [], 'MONEY' : [], 'FAC' : [], 'TIME' : [], 'ORG' : [], 'QUANTITY' : [], 'LANGUAGE' : [], 'GPE' : [], 'LAW' : [], 'NORP' : [], 'EVENT' : []"
     ]
    },
    {
     "name": "stderr",
     "output_type": "stream",
     "text": [
      " 34%|███▍      | 34/100 [05:23<10:34,  9.61s/it]"
     ]
    },
    {
     "name": "stdout",
     "output_type": "stream",
     "text": [
      "{'CARDINAL' : [], 'ORDINAL' : [], 'WORK_OF_ART' : [], 'PERSON' : [], 'LOC' : [], 'DATE' : [], 'PERCENT' : [], 'PRODUCT' : [], 'MONEY' : [], 'FAC' : [], 'TIME' : [], 'ORG' : [], 'QUANTITY' : [], 'LANGUAGE' : [], 'GPE' : [], 'LAW' : [], 'NORP' : [], 'EVENT' : []"
     ]
    },
    {
     "name": "stderr",
     "output_type": "stream",
     "text": [
      " 35%|███▌      | 35/100 [05:32<10:09,  9.37s/it]"
     ]
    },
    {
     "name": "stdout",
     "output_type": "stream",
     "text": [
      "{'CARDINAL' : [], 'ORDINAL' : [], 'WORK_OF_ART' : [], 'PERSON' : [], 'LOC' : [], 'DATE' : [], 'PERCENT' : [], 'PRODUCT' : [], 'MONEY' : [], 'FAC' : [], 'TIME' : [], 'ORG' : ['Oklahoma City'], 'QUANTITY' : [], 'LANGUAGE' : [], 'GPE' : [], 'LAW' : [], 'NORP' : [], 'EVENT' : []"
     ]
    },
    {
     "name": "stderr",
     "output_type": "stream",
     "text": [
      " 36%|███▌      | 36/100 [05:41<09:52,  9.26s/it]"
     ]
    },
    {
     "name": "stdout",
     "output_type": "stream",
     "text": [
      "{'CARDINAL' : [], 'ORDINAL' : [], 'WORK_OF_ART' : [], 'PERSON' : [], 'LOC' : [], 'DATE' : [], 'PERCENT' : [], 'PRODUCT' : [], 'MONEY' : [], 'FAC' : [], 'TIME' : [], 'ORG' : [], 'QUANTITY' : [], 'LANGUAGE' : [], 'GPE' : [], 'LAW' : [], 'NORP' : [], 'EVENT' : []"
     ]
    },
    {
     "name": "stderr",
     "output_type": "stream",
     "text": [
      " 37%|███▋      | 37/100 [05:50<09:36,  9.15s/it]"
     ]
    },
    {
     "name": "stdout",
     "output_type": "stream",
     "text": [
      "{'CARDINAL' : [], 'ORDINAL' : [], 'WORK_OF_ART' : [], 'PERSON' : ['Li Yung - kun'], 'LOC' : [], 'DATE' : [], 'PERCENT' : [], 'PRODUCT' : [], 'MONEY' : [], 'FAC' : [], 'TIME' : [], 'ORG' : [], 'QUANTITY' : [], 'LANGUAGE' : [], 'GPE' : ['Tanshui'], 'LAW' : [], 'NORP' : [], 'EVENT' : []"
     ]
    },
    {
     "name": "stderr",
     "output_type": "stream",
     "text": [
      " 38%|███▊      | 38/100 [06:01<09:49,  9.51s/it]"
     ]
    },
    {
     "name": "stdout",
     "output_type": "stream",
     "text": [
      "{'CARDINAL' : [], 'ORDINAL' : [], 'WORK_OF_ART' : [], 'PERSON' : [], 'LOC' : [], 'DATE' : [], 'PERCENT' : [], 'PRODUCT' : [], 'MONEY' : ['$ 1.34'], 'FAC' : [], 'TIME' : [], 'ORG' : [], 'QUANTITY' : [], 'LANGUAGE' : [], 'GPE' : [], 'LAW' : [], 'NORP' : [], 'EVENT' : []"
     ]
    },
    {
     "name": "stderr",
     "output_type": "stream",
     "text": [
      " 39%|███▉      | 39/100 [06:11<09:49,  9.67s/it]"
     ]
    },
    {
     "name": "stdout",
     "output_type": "stream",
     "text": [
      "{'CARDINAL' : [], 'ORDINAL' : [], 'WORK_OF_ART' : [], 'PERSON' : [], 'LOC' : [], 'DATE' : [], 'PERCENT' : [], 'PRODUCT' : [], 'MONEY' : [], 'FAC' : [], 'TIME' : [], 'ORG' : [], 'QUANTITY' : [], 'LANGUAGE' : [], 'GPE' : [], 'LAW' : [], 'NORP' : [], 'EVENT' : []"
     ]
    },
    {
     "name": "stderr",
     "output_type": "stream",
     "text": [
      " 40%|████      | 40/100 [06:20<09:30,  9.52s/it]"
     ]
    },
    {
     "name": "stdout",
     "output_type": "stream",
     "text": [
      "{'CARDINAL' : [], 'ORDINAL' : [], 'WORK_OF_ART' : [], 'PERSON' : [], 'LOC' : [], 'DATE' : [], 'PERCENT' : [], 'PRODUCT' : [], 'MONEY' : [], 'FAC' : [], 'TIME' : [], 'ORG' : [], 'QUANTITY' : [], 'LANGUAGE' : [], 'GPE' : [], 'LAW' : [], 'NORP' : [], 'EVENT' : []"
     ]
    },
    {
     "name": "stderr",
     "output_type": "stream",
     "text": [
      " 41%|████      | 41/100 [06:29<09:09,  9.31s/it]"
     ]
    },
    {
     "name": "stdout",
     "output_type": "stream",
     "text": [
      "{'CARDINAL' : [], 'ORDINAL' : [], 'WORK_OF_ART' : [], 'PERSON' : [], 'LOC' : [], 'DATE' : [], 'PERCENT' : [], 'PRODUCT' : [], 'MONEY' : [], 'FAC' : [], 'TIME' : [], 'ORG' : [], 'QUANTITY' : [], 'LANGUAGE' : [], 'GPE' : [], 'LAW' : [], 'NORP' : [], 'EVENT' : []"
     ]
    },
    {
     "name": "stderr",
     "output_type": "stream",
     "text": [
      " 42%|████▏     | 42/100 [06:38<09:01,  9.34s/it]"
     ]
    },
    {
     "name": "stdout",
     "output_type": "stream",
     "text": [
      "{'CARDINAL' : [], 'ORDINAL' : [], 'WORK_OF_ART' : [], 'PERSON' : [], 'LOC' : [], 'DATE' : [], 'PERCENT' : [], 'PRODUCT' : [], 'MONEY' : [], 'FAC' : [], 'TIME' : [], 'ORG' : [], 'QUANTITY' : [], 'LANGUAGE' : [], 'GPE' : ['2,520 square kilometers'], 'LAW' : [], 'NORP' : [], 'EVENT' : []"
     ]
    },
    {
     "name": "stderr",
     "output_type": "stream",
     "text": [
      " 43%|████▎     | 43/100 [06:48<09:03,  9.54s/it]"
     ]
    },
    {
     "name": "stdout",
     "output_type": "stream",
     "text": [
      "{'CARDINAL' : [], 'ORDINAL' : [], 'WORK_OF_ART' : [], 'PERSON' : [], 'LOC' : [], 'DATE' : [], 'PERCENT' : [], 'PRODUCT' : [], 'MONEY' : [], 'FAC' : [], 'TIME' : [], 'ORG' : [], 'QUANTITY' : [], 'LANGUAGE' : [], 'GPE' : [], 'LAW' : [], 'NORP' : [], 'EVENT' : []"
     ]
    },
    {
     "name": "stderr",
     "output_type": "stream",
     "text": [
      " 44%|████▍     | 44/100 [06:57<08:48,  9.43s/it]"
     ]
    },
    {
     "name": "stdout",
     "output_type": "stream",
     "text": [
      "{'CARDINAL' : [], 'ORDINAL' : [], 'WORK_OF_ART' : [], 'PERSON' : ['David Williams'], 'LOC' : [], 'DATE' : [], 'PERCENT' : [], 'PRODUCT' : [], 'MONEY' : [], 'FAC' : [], 'TIME' : [], 'ORG' : [], 'QUANTITY' : [], 'LANGUAGE' : [], 'GPE' : [], 'LAW' : [], 'NORP' : [], 'EVENT' : []"
     ]
    },
    {
     "name": "stderr",
     "output_type": "stream",
     "text": [
      " 45%|████▌     | 45/100 [07:07<08:43,  9.51s/it]"
     ]
    },
    {
     "name": "stdout",
     "output_type": "stream",
     "text": [
      "{'CARDINAL' : [], 'ORDINAL' : [], 'WORK_OF_ART' : [], 'PERSON' : ['Arianna Huffington, Judy Miller, Jill Abrahamson'], 'LOC' : [], 'DATE' : [], 'PERCENT' : [], 'PRODUCT' : [], 'MONEY' : [], 'FAC' : [], 'TIME' : ['this uh story on Valerie Plame two years ago'], 'ORG' : [], 'QUANTITY' : [], 'LANGUAGE' : [], 'GPE' : [], 'LAW' : [], 'NORP' : [], 'EVENT' : []"
     ]
    },
    {
     "name": "stderr",
     "output_type": "stream",
     "text": [
      " 46%|████▌     | 46/100 [07:18<09:06, 10.12s/it]"
     ]
    },
    {
     "name": "stdout",
     "output_type": "stream",
     "text": [
      "{'CARDINAL' : [], 'ORDINAL' : [], 'WORK_OF_ART' : [], 'PERSON' : ['He'], 'LOC' : [], 'DATE' : [], 'PERCENT' : [], 'PRODUCT' : [], 'MONEY' : [], 'FAC' : [], 'TIME' : [], 'ORG' : [], 'QUANTITY' : [], 'LANGUAGE' : [], 'GPE' : [], 'LAW' : [], 'NORP' : [], 'EVENT' : []"
     ]
    },
    {
     "name": "stderr",
     "output_type": "stream",
     "text": [
      " 47%|████▋     | 47/100 [07:27<08:36,  9.74s/it]"
     ]
    },
    {
     "name": "stdout",
     "output_type": "stream",
     "text": [
      "{'CARDINAL' : [], 'ORDINAL' : [], 'WORK_OF_ART' : [], 'PERSON' : [], 'LOC' : [], 'DATE' : ['last week'], 'PERCENT' : [], 'PRODUCT' : [], 'MONEY' : [], 'FAC' : [], 'TIME' : [], 'ORG' : [\"Time Warner Inc. 's\"], 'QUANTITY' : [], 'LANGUAGE' : [], 'GPE' : [], 'LAW' : [], 'NORP' : [], 'EVENT' : []"
     ]
    },
    {
     "name": "stderr",
     "output_type": "stream",
     "text": [
      " 48%|████▊     | 48/100 [07:37<08:31,  9.84s/it]"
     ]
    },
    {
     "name": "stdout",
     "output_type": "stream",
     "text": [
      "{'CARDINAL' : [], 'ORDINAL' : [], 'WORK_OF_ART' : [], 'PERSON' : ['Brown'], 'LOC' : [], 'DATE' : [], 'PERCENT' : [], 'PRODUCT' : [], 'MONEY' : [], 'FAC' : [], 'TIME' : ['Today'], 'ORG' : ['the US 's Westinghouse Company, the Shanghai Electric Group, the US 's General Electric Capital Company, the Shanghai Electricity Company'], 'QUANTITY' : [], 'LANGUAGE' : [], 'GPE' : ['US'], 'LAW' : [], 'NORP' : [], 'EVENT' : []"
     ]
    },
    {
     "name": "stderr",
     "output_type": "stream",
     "text": [
      " 49%|████▉     | 49/100 [07:49<08:56, 10.52s/it]"
     ]
    },
    {
     "name": "stdout",
     "output_type": "stream",
     "text": [
      "{'CARDINAL' : [], 'ORDINAL' : [], 'WORK_OF_ART' : [], 'PERSON' : [], 'LOC' : [], 'DATE' : [], 'PERCENT' : [], 'PRODUCT' : [\"the `` USS Cole ''\"], 'MONEY' : [], 'FAC' : [], 'TIME' : [], 'ORG' : [], 'QUANTITY' : [], 'LANGUAGE' : [], 'GPE' : ['Yemen'], 'LAW' : [], 'NORP' : [], 'EVENT' : []"
     ]
    },
    {
     "name": "stderr",
     "output_type": "stream",
     "text": [
      " 50%|█████     | 50/100 [08:00<08:40, 10.41s/it]"
     ]
    },
    {
     "name": "stdout",
     "output_type": "stream",
     "text": [
      "{'CARDINAL' : [], 'ORDINAL' : [], 'WORK_OF_ART' : [], 'PERSON' : [], 'LOC' : [], 'DATE' : [], 'PERCENT' : [], 'PRODUCT' : [], 'MONEY' : [], 'FAC' : [], 'TIME' : [], 'ORG' : ['Export credits , international financing leaseholds , compensation trades with foreign exchange repayment methods , overseas institution 's and individual 's foreign exchange deposits -LRB- excluding foreign exchange deposits in banks approved for offshore operations -RRB- , project financing , financing under trade projects over 90 days and other forms of foreign exchange loans will all be treated and managed as international commercial loans .'], 'QUANTITY' : [], 'LANGUAGE' : [], 'GPE' : [], 'LAW' : [], 'NORP' : [], 'EVENT' : []"
     ]
    },
    {
     "name": "stderr",
     "output_type": "stream",
     "text": [
      " 51%|█████     | 51/100 [08:14<09:36, 11.76s/it]"
     ]
    },
    {
     "name": "stdout",
     "output_type": "stream",
     "text": [
      "{'CARDINAL' : [], 'ORDINAL' : [], 'WORK_OF_ART' : [], 'PERSON' : [], 'LOC' : [], 'DATE' : [], 'PERCENT' : [], 'PRODUCT' : [], 'MONEY' : [], 'FAC' : [], 'TIME' : [], 'ORG' : [], 'QUANTITY' : [], 'LANGUAGE' : [], 'GPE' : [], 'LAW' : [], 'NORP' : [], 'EVENT' : []"
     ]
    },
    {
     "name": "stderr",
     "output_type": "stream",
     "text": [
      " 52%|█████▏    | 52/100 [08:23<08:39, 10.82s/it]"
     ]
    },
    {
     "name": "stdout",
     "output_type": "stream",
     "text": [
      "{'CARDINAL' : [], 'ORDINAL' : [], 'WORK_OF_ART' : [], 'PERSON' : ['Rod Perth'], 'LOC' : [], 'DATE' : [], 'PERCENT' : [], 'PRODUCT' : [], 'MONEY' : [], 'FAC' : [], 'TIME' : [], 'ORG' : [], 'QUANTITY' : [], 'LANGUAGE' : [], 'GPE' : [], 'LAW' : [], 'NORP' : [], 'EVENT' : []"
     ]
    },
    {
     "name": "stderr",
     "output_type": "stream",
     "text": [
      " 53%|█████▎    | 53/100 [08:32<08:01, 10.24s/it]"
     ]
    },
    {
     "name": "stdout",
     "output_type": "stream",
     "text": [
      "{'CARDINAL' : [], 'ORDINAL' : [], 'WORK_OF_ART' : [], 'PERSON' : [], 'LOC' : [], 'DATE' : [], 'PERCENT' : [], 'PRODUCT' : [], 'MONEY' : [], 'FAC' : [], 'TIME' : [], 'ORG' : [], 'QUANTITY' : [], 'LANGUAGE' : [], 'GPE' : [], 'LAW' : [], 'NORP' : [], 'EVENT' : []"
     ]
    },
    {
     "name": "stderr",
     "output_type": "stream",
     "text": [
      " 54%|█████▍    | 54/100 [08:41<07:36,  9.91s/it]"
     ]
    },
    {
     "name": "stdout",
     "output_type": "stream",
     "text": [
      "{'CARDINAL' : [], 'ORDINAL' : [], 'WORK_OF_ART' : [], 'PERSON' : [], 'LOC' : [], 'DATE' : [], 'PERCENT' : [], 'PRODUCT' : [], 'MONEY' : [], 'FAC' : [], 'TIME' : [], 'ORG' : [], 'QUANTITY' : [], 'LANGUAGE' : [], 'GPE' : [], 'LAW' : [], 'NORP' : [], 'EVENT' : []"
     ]
    },
    {
     "name": "stderr",
     "output_type": "stream",
     "text": [
      " 55%|█████▌    | 55/100 [08:50<07:15,  9.68s/it]"
     ]
    },
    {
     "name": "stdout",
     "output_type": "stream",
     "text": [
      "{'CARDINAL' : [], 'ORDINAL' : [], 'WORK_OF_ART' : [], 'PERSON' : ['General Sanholi'], 'LOC' : [], 'DATE' : [], 'PERCENT' : [], 'PRODUCT' : [], 'MONEY' : [], 'FAC' : [], 'TIME' : [], 'ORG' : [], 'QUANTITY' : [], 'LANGUAGE' : [], 'GPE' : [], 'LAW' : [], 'NORP' : [], 'EVENT' : []"
     ]
    },
    {
     "name": "stderr",
     "output_type": "stream",
     "text": [
      " 56%|█████▌    | 56/100 [09:00<07:09,  9.77s/it]"
     ]
    },
    {
     "name": "stdout",
     "output_type": "stream",
     "text": [
      "{'CARDINAL' : [], 'ORDINAL' : [], 'WORK_OF_ART' : [], 'PERSON' : [], 'LOC' : ['the Great Plains'], 'DATE' : [], 'PERCENT' : [], 'PRODUCT' : [], 'MONEY' : [], 'FAC' : [], 'TIME' : [], 'ORG' : [], 'QUANTITY' : [], 'LANGUAGE' : [], 'GPE' : [], 'LAW' : [], 'NORP' : [], 'EVENT' : []"
     ]
    },
    {
     "name": "stderr",
     "output_type": "stream",
     "text": [
      " 57%|█████▋    | 57/100 [09:10<06:54,  9.64s/it]"
     ]
    },
    {
     "name": "stdout",
     "output_type": "stream",
     "text": [
      "{'CARDINAL' : [], 'ORDINAL' : [], 'WORK_OF_ART' : [], 'PERSON' : ['He'], 'LOC' : [], 'DATE' : [], 'PERCENT' : [], 'PRODUCT' : [], 'MONEY' : [], 'FAC' : [], 'TIME' : [], 'ORG' : [], 'QUANTITY' : [], 'LANGUAGE' : [], 'GPE' : [], 'LAW' : [], 'NORP' : [], 'EVENT' : []"
     ]
    },
    {
     "name": "stderr",
     "output_type": "stream",
     "text": [
      " 58%|█████▊    | 58/100 [09:19<06:39,  9.52s/it]"
     ]
    },
    {
     "name": "stdout",
     "output_type": "stream",
     "text": [
      "{'CARDINAL' : ['China 's'], 'ORDINAL' : [], 'WORK_OF_ART' : [], 'PERSON' : [], 'LOC' : [], 'DATE' : [], 'PERCENT' : [], 'PRODUCT' : [], 'MONEY' : [], 'FAC' : [], 'TIME' : [], 'ORG' : [], 'QUANTITY' : [], 'LANGUAGE' : [], 'GPE' : ['China'], 'LAW' : [], 'NORP' : [], 'EVENT' : []"
     ]
    },
    {
     "name": "stderr",
     "output_type": "stream",
     "text": [
      " 59%|█████▉    | 59/100 [09:29<06:35,  9.64s/it]"
     ]
    },
    {
     "name": "stdout",
     "output_type": "stream",
     "text": [
      "{'CARDINAL' : ['more than 50'], 'ORDINAL' : [], 'WORK_OF_ART' : [], 'PERSON' : [], 'LOC' : [], 'DATE' : ['the past two years'], 'PERCENT' : [], 'PRODUCT' : [], 'MONEY' : [], 'FAC' : [], 'TIME' : [], 'ORG' : [], 'QUANTITY' : [], 'LANGUAGE' : [], 'GPE' : [], 'LAW' : [], 'NORP' : [], 'EVENT' : []"
     ]
    },
    {
     "name": "stderr",
     "output_type": "stream",
     "text": [
      " 60%|██████    | 60/100 [09:39<06:29,  9.75s/it]"
     ]
    },
    {
     "name": "stdout",
     "output_type": "stream",
     "text": [
      "{'CARDINAL' : [], 'ORDINAL' : [], 'WORK_OF_ART' : [], 'PERSON' : ['he'], 'LOC' : [], 'DATE' : ['the last two years'], 'PERCENT' : [], 'PRODUCT' : [], 'MONEY' : [], 'FAC' : [], 'TIME' : [], 'ORG' : [], 'QUANTITY' : [], 'LANGUAGE' : [], 'GPE' : [], 'LAW' : [], 'NORP' : [], 'EVENT' : []"
     ]
    },
    {
     "name": "stderr",
     "output_type": "stream",
     "text": [
      " 61%|██████    | 61/100 [09:48<06:18,  9.71s/it]"
     ]
    },
    {
     "name": "stdout",
     "output_type": "stream",
     "text": [
      "{'CARDINAL' : [], 'ORDINAL' : [], 'WORK_OF_ART' : [], 'PERSON' : ['Lee Yuan - tseh'], 'LOC' : [], 'DATE' : ['November'], 'PERCENT' : [], 'PRODUCT' : [], 'MONEY' : [], 'FAC' : [], 'TIME' : [], 'ORG' : [], 'QUANTITY' : [], 'LANGUAGE' : [], 'GPE' : ['Taiwan'], 'LAW' : [], 'NORP' : [], 'EVENT' : []"
     ]
    },
    {
     "name": "stderr",
     "output_type": "stream",
     "text": [
      " 62%|██████▏   | 62/100 [09:59<06:15,  9.89s/it]"
     ]
    },
    {
     "name": "stdout",
     "output_type": "stream",
     "text": [
      "{'CARDINAL' : [], 'ORDINAL' : [], 'WORK_OF_ART' : [], 'PERSON' : ['dancer'], 'LOC' : [], 'DATE' : [], 'PERCENT' : [], 'PRODUCT' : [], 'MONEY' : [], 'FAC' : [], 'TIME' : [], 'ORG' : [], 'QUANTITY' : [], 'LANGUAGE' : [], 'GPE' : [], 'LAW' : [], 'NORP' : [], 'EVENT' : []"
     ]
    },
    {
     "name": "stderr",
     "output_type": "stream",
     "text": [
      " 63%|██████▎   | 63/100 [10:08<05:59,  9.73s/it]"
     ]
    },
    {
     "name": "stdout",
     "output_type": "stream",
     "text": [
      "{'CARDINAL' : [], 'ORDINAL' : [], 'WORK_OF_ART' : [], 'PERSON' : [], 'LOC' : [], 'DATE' : [], 'PERCENT' : [], 'PRODUCT' : [], 'MONEY' : [], 'FAC' : [], 'TIME' : [], 'ORG' : [], 'QUANTITY' : [], 'LANGUAGE' : [], 'GPE' : [], 'LAW' : [], 'NORP' : [], 'EVENT' : []"
     ]
    },
    {
     "name": "stderr",
     "output_type": "stream",
     "text": [
      " 64%|██████▍   | 64/100 [10:17<05:41,  9.48s/it]"
     ]
    },
    {
     "name": "stdout",
     "output_type": "stream",
     "text": [
      "{'CARDINAL' : ['3,000'], 'ORDINAL' : [], 'WORK_OF_ART' : [], 'PERSON' : [], 'LOC' : [], 'DATE' : [], 'PERCENT' : [], 'PRODUCT' : [], 'MONEY' : [], 'FAC' : [], 'TIME' : [], 'ORG' : [], 'QUANTITY' : [], 'LANGUAGE' : [], 'GPE' : ['Taiwan'], 'LAW' : [], 'NORP' : [], 'EVENT' : []"
     ]
    },
    {
     "name": "stderr",
     "output_type": "stream",
     "text": [
      " 65%|██████▌   | 65/100 [10:26<05:28,  9.39s/it]"
     ]
    },
    {
     "name": "stdout",
     "output_type": "stream",
     "text": [
      "{'CARDINAL' : [], 'ORDINAL' : [], 'WORK_OF_ART' : [], 'PERSON' : [], 'LOC' : [], 'DATE' : [], 'PERCENT' : [], 'PRODUCT' : [], 'MONEY' : [], 'FAC' : [], 'TIME' : [], 'ORG' : [], 'QUANTITY' : [], 'LANGUAGE' : [], 'GPE' : [], 'LAW' : [], 'NORP' : [], 'EVENT' : []"
     ]
    },
    {
     "name": "stderr",
     "output_type": "stream",
     "text": [
      " 66%|██████▌   | 66/100 [10:36<05:22,  9.49s/it]"
     ]
    },
    {
     "name": "stdout",
     "output_type": "stream",
     "text": [
      "{'CARDINAL' : [], 'ORDINAL' : [], 'WORK_OF_ART' : [], 'PERSON' : [], 'LOC' : [], 'DATE' : [], 'PERCENT' : [], 'PRODUCT' : [], 'MONEY' : [], 'FAC' : [], 'TIME' : [], 'ORG' : [], 'QUANTITY' : [], 'LANGUAGE' : [], 'GPE' : ['Taichung', 'Taiwan'], 'LAW' : [], 'NORP' : [], 'EVENT' : []"
     ]
    },
    {
     "name": "stderr",
     "output_type": "stream",
     "text": [
      " 67%|██████▋   | 67/100 [10:46<05:21,  9.75s/it]"
     ]
    },
    {
     "name": "stdout",
     "output_type": "stream",
     "text": [
      "{'CARDINAL' : [], 'ORDINAL' : [], 'WORK_OF_ART' : [], 'PERSON' : [], 'LOC' : [], 'DATE' : [], 'PERCENT' : [], 'PRODUCT' : [], 'MONEY' : [], 'FAC' : [], 'TIME' : [], 'ORG' : [], 'QUANTITY' : [], 'LANGUAGE' : [], 'GPE' : [], 'LAW' : [], 'NORP' : [], 'EVENT' : []"
     ]
    },
    {
     "name": "stderr",
     "output_type": "stream",
     "text": [
      " 68%|██████▊   | 68/100 [10:56<05:09,  9.68s/it]"
     ]
    },
    {
     "name": "stdout",
     "output_type": "stream",
     "text": [
      "{'CARDINAL' : [], 'ORDINAL' : [], 'WORK_OF_ART' : [], 'PERSON' : ['Lee Teng - hui'], 'LOC' : [], 'DATE' : [], 'PERCENT' : [], 'PRODUCT' : [], 'MONEY' : [], 'FAC' : [], 'TIME' : [], 'ORG' : [], 'QUANTITY' : [], 'LANGUAGE' : [], 'GPE' : [], 'LAW' : [], 'NORP' : [], 'EVENT' : []"
     ]
    },
    {
     "name": "stderr",
     "output_type": "stream",
     "text": [
      " 69%|██████▉   | 69/100 [11:06<05:05,  9.87s/it]"
     ]
    },
    {
     "name": "stdout",
     "output_type": "stream",
     "text": [
      "{'CARDINAL' : [], 'ORDINAL' : [], 'WORK_OF_ART' : [], 'PERSON' : [], 'LOC' : [], 'DATE' : [], 'PERCENT' : [], 'PRODUCT' : [], 'MONEY' : [], 'FAC' : [], 'TIME' : [], 'ORG' : [], 'QUANTITY' : [], 'LANGUAGE' : [], 'GPE' : [], 'LAW' : [], 'NORP' : [], 'EVENT' : []"
     ]
    },
    {
     "name": "stderr",
     "output_type": "stream",
     "text": [
      " 70%|███████   | 70/100 [11:15<04:49,  9.64s/it]"
     ]
    },
    {
     "name": "stdout",
     "output_type": "stream",
     "text": [
      "{'CARDINAL' : [], 'ORDINAL' : [], 'WORK_OF_ART' : [], 'PERSON' : ['Wang Yung - ching'], 'LOC' : [], 'DATE' : [], 'PERCENT' : [], 'PRODUCT' : [], 'MONEY' : [], 'FAC' : [], 'TIME' : [], 'ORG' : [], 'QUANTITY' : [], 'LANGUAGE' : [], 'GPE' : [], 'LAW' : [], 'NORP' : [], 'EVENT' : []"
     ]
    },
    {
     "name": "stderr",
     "output_type": "stream",
     "text": [
      " 71%|███████   | 71/100 [11:25<04:40,  9.69s/it]"
     ]
    },
    {
     "name": "stdout",
     "output_type": "stream",
     "text": [
      "{'CARDINAL' : [], 'ORDINAL' : [], 'WORK_OF_ART' : [], 'PERSON' : [], 'LOC' : [], 'DATE' : [], 'PERCENT' : [], 'PRODUCT' : [], 'MONEY' : [], 'FAC' : [], 'TIME' : [], 'ORG' : [], 'QUANTITY' : [], 'LANGUAGE' : [], 'GPE' : [], 'LAW' : [], 'NORP' : ['the North Koreans'], 'EVENT' : []"
     ]
    },
    {
     "name": "stderr",
     "output_type": "stream",
     "text": [
      " 72%|███████▏  | 72/100 [11:34<04:27,  9.55s/it]"
     ]
    },
    {
     "name": "stdout",
     "output_type": "stream",
     "text": [
      "{'CARDINAL' : [], 'ORDINAL' : [], 'WORK_OF_ART' : [], 'PERSON' : [], 'LOC' : [], 'DATE' : [], 'PERCENT' : [], 'PRODUCT' : [], 'MONEY' : [], 'FAC' : [], 'TIME' : [], 'ORG' : [], 'QUANTITY' : [], 'LANGUAGE' : [], 'GPE' : [], 'LAW' : [], 'NORP' : [], 'EVENT' : []"
     ]
    },
    {
     "name": "stderr",
     "output_type": "stream",
     "text": [
      " 73%|███████▎  | 73/100 [11:42<04:02,  8.99s/it]"
     ]
    },
    {
     "name": "stdout",
     "output_type": "stream",
     "text": [
      "{'CARDINAL' : [], 'ORDINAL' : [], 'WORK_OF_ART' : [], 'PERSON' : [], 'LOC' : [], 'DATE' : [], 'PERCENT' : [], 'PRODUCT' : [], 'MONEY' : [], 'FAC' : [], 'TIME' : [], 'ORG' : [], 'QUANTITY' : [], 'LANGUAGE' : [], 'GPE' : [], 'LAW' : [], 'NORP' : [], 'EVENT' : []"
     ]
    },
    {
     "name": "stderr",
     "output_type": "stream",
     "text": [
      " 74%|███████▍  | 74/100 [11:52<03:59,  9.20s/it]"
     ]
    },
    {
     "name": "stdout",
     "output_type": "stream",
     "text": [
      "{'CARDINAL' : [], 'ORDINAL' : [], 'WORK_OF_ART' : [], 'PERSON' : [], 'LOC' : [], 'DATE' : [], 'PERCENT' : [], 'PRODUCT' : [], 'MONEY' : [], 'FAC' : [], 'TIME' : [], 'ORG' : [], 'QUANTITY' : [], 'LANGUAGE' : [], 'GPE' : ['Iraq'], 'LAW' : [], 'NORP' : [], 'EVENT' : []"
     ]
    },
    {
     "name": "stderr",
     "output_type": "stream",
     "text": [
      " 75%|███████▌  | 75/100 [12:01<03:55,  9.42s/it]"
     ]
    },
    {
     "name": "stdout",
     "output_type": "stream",
     "text": [
      "{'CARDINAL' : [], 'ORDINAL' : [], 'WORK_OF_ART' : [], 'PERSON' : [], 'LOC' : [], 'DATE' : [], 'PERCENT' : [], 'PRODUCT' : [], 'MONEY' : [], 'FAC' : [], 'TIME' : [], 'ORG' : [], 'QUANTITY' : [], 'LANGUAGE' : [], 'GPE' : ['Taiwan'], 'LAW' : [], 'NORP' : [], 'EVENT' : []"
     ]
    },
    {
     "name": "stderr",
     "output_type": "stream",
     "text": [
      " 76%|███████▌  | 76/100 [12:11<03:46,  9.43s/it]"
     ]
    },
    {
     "name": "stdout",
     "output_type": "stream",
     "text": [
      "{'CARDINAL' : [], 'ORDINAL' : [], 'WORK_OF_ART' : [], 'PERSON' : [], 'LOC' : [], 'DATE' : [], 'PERCENT' : [], 'PRODUCT' : [], 'MONEY' : [], 'FAC' : [], 'TIME' : [], 'ORG' : [], 'QUANTITY' : [], 'LANGUAGE' : [], 'GPE' : [], 'LAW' : [], 'NORP' : [], 'EVENT' : []"
     ]
    },
    {
     "name": "stderr",
     "output_type": "stream",
     "text": [
      " 77%|███████▋  | 77/100 [12:20<03:34,  9.31s/it]"
     ]
    },
    {
     "name": "stdout",
     "output_type": "stream",
     "text": [
      "{'CARDINAL' : [], 'ORDINAL' : [], 'WORK_OF_ART' : [], 'PERSON' : [], 'LOC' : [], 'DATE' : [], 'PERCENT' : [], 'PRODUCT' : [], 'MONEY' : [], 'FAC' : [], 'TIME' : [], 'ORG' : ['Senators'], 'QUANTITY' : [], 'LANGUAGE' : [], 'GPE' : [], 'LAW' : [], 'NORP' : [], 'EVENT' : []"
     ]
    },
    {
     "name": "stderr",
     "output_type": "stream",
     "text": [
      " 78%|███████▊  | 78/100 [12:29<03:24,  9.32s/it]"
     ]
    },
    {
     "name": "stdout",
     "output_type": "stream",
     "text": [
      "{'CARDINAL' : [], 'ORDINAL' : [], 'WORK_OF_ART' : [], 'PERSON' : ['Chang'], 'LOC' : [], 'DATE' : [], 'PERCENT' : [], 'PRODUCT' : [], 'MONEY' : [], 'FAC' : [], 'TIME' : [], 'ORG' : [], 'QUANTITY' : [], 'LANGUAGE' : [], 'GPE' : [], 'LAW' : [], 'NORP' : [], 'EVENT' : []"
     ]
    },
    {
     "name": "stderr",
     "output_type": "stream",
     "text": [
      " 79%|███████▉  | 79/100 [12:39<03:17,  9.40s/it]"
     ]
    },
    {
     "name": "stdout",
     "output_type": "stream",
     "text": [
      "{'CARDINAL' : ['20 %'], 'ORDINAL' : [], 'WORK_OF_ART' : [], 'PERSON' : [], 'LOC' : [], 'DATE' : [], 'PERCENT' : ['20 %'], 'PRODUCT' : [], 'MONEY' : [], 'FAC' : [], 'TIME' : [], 'ORG' : [], 'QUANTITY' : [], 'LANGUAGE' : [], 'GPE' : [], 'LAW' : [], 'NORP' : [], 'EVENT' : []"
     ]
    },
    {
     "name": "stderr",
     "output_type": "stream",
     "text": [
      " 80%|████████  | 80/100 [12:49<03:10,  9.51s/it]"
     ]
    },
    {
     "name": "stdout",
     "output_type": "stream",
     "text": [
      "{'CARDINAL' : [], 'ORDINAL' : [], 'WORK_OF_ART' : [], 'PERSON' : [], 'LOC' : [], 'DATE' : [], 'PERCENT' : [], 'PRODUCT' : [], 'MONEY' : [], 'FAC' : [], 'TIME' : [], 'ORG' : [], 'QUANTITY' : [], 'LANGUAGE' : [], 'GPE' : [], 'LAW' : [], 'NORP' : [], 'EVENT' : []"
     ]
    },
    {
     "name": "stderr",
     "output_type": "stream",
     "text": [
      " 81%|████████  | 81/100 [12:57<02:56,  9.29s/it]"
     ]
    },
    {
     "name": "stdout",
     "output_type": "stream",
     "text": [
      "{'CARDINAL' : [], 'ORDINAL' : [], 'WORK_OF_ART' : [], 'PERSON' : [], 'LOC' : [], 'DATE' : [], 'PERCENT' : [], 'PRODUCT' : [], 'MONEY' : [], 'FAC' : [], 'TIME' : [], 'ORG' : [], 'QUANTITY' : [], 'LANGUAGE' : [], 'GPE' : [], 'LAW' : [], 'NORP' : [], 'EVENT' : ['Cocom']"
     ]
    },
    {
     "name": "stderr",
     "output_type": "stream",
     "text": [
      " 82%|████████▏ | 82/100 [13:07<02:50,  9.46s/it]"
     ]
    },
    {
     "name": "stdout",
     "output_type": "stream",
     "text": [
      "{'CARDINAL' : [], 'ORDINAL' : [], 'WORK_OF_ART' : [], 'PERSON' : [], 'LOC' : [], 'DATE' : ['the guaranteed circulation base is being lowered'], 'PERCENT' : [], 'PRODUCT' : [], 'MONEY' : [], 'FAC' : [], 'TIME' : [], 'ORG' : ['Time'], 'QUANTITY' : [], 'LANGUAGE' : [], 'GPE' : [], 'LAW' : [], 'NORP' : [], 'EVENT' : []"
     ]
    },
    {
     "name": "stderr",
     "output_type": "stream",
     "text": [
      " 83%|████████▎ | 83/100 [13:17<02:41,  9.52s/it]"
     ]
    },
    {
     "name": "stdout",
     "output_type": "stream",
     "text": [
      "{'CARDINAL' : ['83'], 'ORDINAL' : [], 'WORK_OF_ART' : [], 'PERSON' : ['justice'], 'LOC' : [], 'DATE' : ['83 - year - old'], 'PERCENT' : [], 'PRODUCT' : [], 'MONEY' : [], 'FAC' : [], 'TIME' : [], 'ORG' : [], 'QUANTITY' : [], 'LANGUAGE' : [], 'GPE' : [], 'LAW' : [], 'NORP' : [], 'EVENT' : []"
     ]
    },
    {
     "name": "stderr",
     "output_type": "stream",
     "text": [
      " 84%|████████▍ | 84/100 [13:26<02:28,  9.31s/it]"
     ]
    },
    {
     "name": "stdout",
     "output_type": "stream",
     "text": [
      "{'CARDINAL' : ['more'], 'ORDINAL' : [], 'WORK_OF_ART' : [], 'PERSON' : [], 'LOC' : [], 'DATE' : [], 'PERCENT' : [], 'PRODUCT' : [], 'MONEY' : [], 'FAC' : [], 'TIME' : [], 'ORG' : [], 'QUANTITY' : [], 'LANGUAGE' : [], 'GPE' : ['Iraq'], 'LAW' : [], 'NORP' : [], 'EVENT' : []"
     ]
    },
    {
     "name": "stderr",
     "output_type": "stream",
     "text": [
      " 85%|████████▌ | 85/100 [13:36<02:21,  9.45s/it]"
     ]
    },
    {
     "name": "stdout",
     "output_type": "stream",
     "text": [
      "{'CARDINAL' : [], 'ORDINAL' : [], 'WORK_OF_ART' : [], 'PERSON' : ['Miller, Libby, Cheney'], 'LOC' : [], 'DATE' : [], 'PERCENT' : [], 'PRODUCT' : [], 'MONEY' : [], 'FAC' : [], 'TIME' : [], 'ORG' : [], 'QUANTITY' : [], 'LANGUAGE' : [], 'GPE' : [], 'LAW' : [], 'NORP' : [], 'EVENT' : []"
     ]
    },
    {
     "name": "stderr",
     "output_type": "stream",
     "text": [
      " 86%|████████▌ | 86/100 [13:45<02:12,  9.48s/it]"
     ]
    },
    {
     "name": "stdout",
     "output_type": "stream",
     "text": [
      "{'CARDINAL' : [], 'ORDINAL' : [], 'WORK_OF_ART' : [], 'PERSON' : [], 'LOC' : [], 'DATE' : [], 'PERCENT' : [], 'PRODUCT' : [], 'MONEY' : [], 'FAC' : [], 'TIME' : [], 'ORG' : [], 'QUANTITY' : [], 'LANGUAGE' : [], 'GPE' : [], 'LAW' : [], 'NORP' : [], 'EVENT' : []"
     ]
    },
    {
     "name": "stderr",
     "output_type": "stream",
     "text": [
      " 87%|████████▋ | 87/100 [13:54<02:02,  9.44s/it]"
     ]
    },
    {
     "name": "stdout",
     "output_type": "stream",
     "text": [
      "{'CARDINAL' : [], 'ORDINAL' : [], 'WORK_OF_ART' : [], 'PERSON' : [], 'LOC' : [], 'DATE' : [], 'PERCENT' : [], 'PRODUCT' : [], 'MONEY' : [], 'FAC' : [], 'TIME' : [], 'ORG' : [], 'QUANTITY' : [], 'LANGUAGE' : [], 'GPE' : [], 'LAW' : [], 'NORP' : [], 'EVENT' : []"
     ]
    },
    {
     "name": "stderr",
     "output_type": "stream",
     "text": [
      " 88%|████████▊ | 88/100 [14:03<01:51,  9.25s/it]"
     ]
    },
    {
     "name": "stdout",
     "output_type": "stream",
     "text": [
      "{'CARDINAL' : ['two'], 'ORDINAL' : [], 'WORK_OF_ART' : [], 'PERSON' : [], 'LOC' : [], 'DATE' : [], 'PERCENT' : [], 'PRODUCT' : [], 'MONEY' : [], 'FAC' : [], 'TIME' : [], 'ORG' : ['Sunbelt Savings & Loan Association of Dallas'], 'QUANTITY' : [], 'LANGUAGE' : [], 'GPE' : ['Dallas'], 'LAW' : [], 'NORP' : [], 'EVENT' : []"
     ]
    },
    {
     "name": "stderr",
     "output_type": "stream",
     "text": [
      " 89%|████████▉ | 89/100 [14:13<01:44,  9.55s/it]"
     ]
    },
    {
     "name": "stdout",
     "output_type": "stream",
     "text": [
      "{'CARDINAL' : [], 'ORDINAL' : [], 'WORK_OF_ART' : [], 'PERSON' : [], 'LOC' : [], 'DATE' : [], 'PERCENT' : [], 'PRODUCT' : [], 'MONEY' : ['$ 239 million'], 'FAC' : [], 'TIME' : [], 'ORG' : [], 'QUANTITY' : [], 'LANGUAGE' : [], 'GPE' : [], 'LAW' : [], 'NORP' : [], 'EVENT' : []"
     ]
    },
    {
     "name": "stderr",
     "output_type": "stream",
     "text": [
      " 90%|█████████ | 90/100 [14:23<01:35,  9.58s/it]"
     ]
    },
    {
     "name": "stdout",
     "output_type": "stream",
     "text": [
      "{'CARDINAL' : [], 'ORDINAL' : [], 'WORK_OF_ART' : [], 'PERSON' : [], 'LOC' : [], 'DATE' : [], 'PERCENT' : [], 'PRODUCT' : [], 'MONEY' : ['nearly 30 million US dollars, over 10 million US dollars'], 'FAC' : [], 'TIME' : [], 'ORG' : [], 'QUANTITY' : [], 'LANGUAGE' : [], 'GPE' : [], 'LAW' : [], 'NORP' : [], 'EVENT' : []"
     ]
    },
    {
     "name": "stderr",
     "output_type": "stream",
     "text": [
      " 91%|█████████ | 91/100 [14:34<01:30, 10.03s/it]"
     ]
    },
    {
     "name": "stdout",
     "output_type": "stream",
     "text": [
      "{'CARDINAL' : [], 'ORDINAL' : [], 'WORK_OF_ART' : [], 'PERSON' : [], 'LOC' : [], 'DATE' : [], 'PERCENT' : [], 'PRODUCT' : [], 'MONEY' : [], 'FAC' : [], 'TIME' : [], 'ORG' : [], 'QUANTITY' : [], 'LANGUAGE' : [], 'GPE' : [], 'LAW' : [], 'NORP' : [], 'EVENT' : []"
     ]
    },
    {
     "name": "stderr",
     "output_type": "stream",
     "text": [
      " 92%|█████████▏| 92/100 [14:43<01:16,  9.53s/it]"
     ]
    },
    {
     "name": "stdout",
     "output_type": "stream",
     "text": [
      "{'CARDINAL' : [], 'ORDINAL' : [], 'WORK_OF_ART' : [], 'PERSON' : [], 'LOC' : [], 'DATE' : ['the same period of the previous year'], 'PERCENT' : ['10 % to 20 %'], 'PRODUCT' : [], 'MONEY' : ['3.08 billion yuan'], 'FAC' : [], 'TIME' : [], 'ORG' : [], 'QUANTITY' : [], 'LANGUAGE' : [], 'GPE' : [], 'LAW' : [], 'NORP' : [], 'EVENT' : []"
     ]
    },
    {
     "name": "stderr",
     "output_type": "stream",
     "text": [
      " 93%|█████████▎| 93/100 [14:54<01:09,  9.95s/it]"
     ]
    },
    {
     "name": "stdout",
     "output_type": "stream",
     "text": [
      "{'CARDINAL' : [], 'ORDINAL' : [], 'WORK_OF_ART' : [], 'PERSON' : [], 'LOC' : [], 'DATE' : [], 'PERCENT' : [], 'PRODUCT' : [], 'MONEY' : [], 'FAC' : [], 'TIME' : ['within the past hour or so'], 'ORG' : [], 'QUANTITY' : [], 'LANGUAGE' : [], 'GPE' : ['Israel'], 'LAW' : [], 'NORP' : [], 'EVENT' : []"
     ]
    },
    {
     "name": "stderr",
     "output_type": "stream",
     "text": [
      " 94%|█████████▍| 94/100 [15:03<00:59,  9.88s/it]"
     ]
    },
    {
     "name": "stdout",
     "output_type": "stream",
     "text": [
      "{'CARDINAL' : [], 'ORDINAL' : [], 'WORK_OF_ART' : [], 'PERSON' : ['Bob Wilson'], 'LOC' : [], 'DATE' : [], 'PERCENT' : [], 'PRODUCT' : [], 'MONEY' : [], 'FAC' : [], 'TIME' : [], 'ORG' : ['Budget'], 'QUANTITY' : [], 'LANGUAGE' : [], 'GPE' : [], 'LAW' : [], 'NORP' : [], 'EVENT' : []"
     ]
    },
    {
     "name": "stderr",
     "output_type": "stream",
     "text": [
      " 95%|█████████▌| 95/100 [15:12<00:48,  9.62s/it]"
     ]
    },
    {
     "name": "stdout",
     "output_type": "stream",
     "text": [
      "{'CARDINAL' : ['one'], 'ORDINAL' : [], 'WORK_OF_ART' : [], 'PERSON' : [], 'LOC' : [], 'DATE' : [], 'PERCENT' : [], 'PRODUCT' : [], 'MONEY' : [], 'FAC' : [], 'TIME' : [], 'ORG' : [], 'QUANTITY' : [], 'LANGUAGE' : [], 'GPE' : ['China'], 'LAW' : [], 'NORP' : [], 'EVENT' : []"
     ]
    },
    {
     "name": "stderr",
     "output_type": "stream",
     "text": [
      " 96%|█████████▌| 96/100 [15:21<00:37,  9.46s/it]"
     ]
    },
    {
     "name": "stdout",
     "output_type": "stream",
     "text": [
      "{'CARDINAL' : [], 'ORDINAL' : [], 'WORK_OF_ART' : [], 'PERSON' : [], 'LOC' : [], 'DATE' : [], 'PERCENT' : [], 'PRODUCT' : [], 'MONEY' : [], 'FAC' : [], 'TIME' : [], 'ORG' : [], 'QUANTITY' : [], 'LANGUAGE' : [], 'GPE' : ['US'], 'LAW' : [], 'NORP' : [], 'EVENT' : []"
     ]
    },
    {
     "name": "stderr",
     "output_type": "stream",
     "text": [
      " 97%|█████████▋| 97/100 [15:31<00:28,  9.44s/it]"
     ]
    },
    {
     "name": "stdout",
     "output_type": "stream",
     "text": [
      "{'CARDINAL' : [], 'ORDINAL' : [], 'WORK_OF_ART' : [], 'PERSON' : ['Arthur Sulzberger'], 'LOC' : [], 'DATE' : [], 'PERCENT' : [], 'PRODUCT' : [], 'MONEY' : [], 'FAC' : [], 'TIME' : [], 'ORG' : [], 'QUANTITY' : [], 'LANGUAGE' : [], 'GPE' : [], 'LAW' : [], 'NORP' : [], 'EVENT' : []"
     ]
    },
    {
     "name": "stderr",
     "output_type": "stream",
     "text": [
      " 98%|█████████▊| 98/100 [15:41<00:19,  9.67s/it]"
     ]
    },
    {
     "name": "stdout",
     "output_type": "stream",
     "text": [
      "{'CARDINAL' : [], 'ORDINAL' : [], 'WORK_OF_ART' : [], 'PERSON' : [], 'LOC' : [], 'DATE' : [], 'PERCENT' : [], 'PRODUCT' : [], 'MONEY' : [], 'FAC' : [], 'TIME' : [], 'ORG' : [], 'QUANTITY' : [], 'LANGUAGE' : [], 'GPE' : [], 'LAW' : [], 'NORP' : [], 'EVENT' : []"
     ]
    },
    {
     "name": "stderr",
     "output_type": "stream",
     "text": [
      " 99%|█████████▉| 99/100 [15:51<00:09,  9.68s/it]"
     ]
    },
    {
     "name": "stdout",
     "output_type": "stream",
     "text": [
      "{'CARDINAL' : [], 'ORDINAL' : [], 'WORK_OF_ART' : [], 'PERSON' : [], 'LOC' : [], 'DATE' : ['1987'], 'PERCENT' : [], 'PRODUCT' : [], 'MONEY' : [], 'FAC' : [], 'TIME' : [], 'ORG' : [], 'QUANTITY' : [], 'LANGUAGE' : [], 'GPE' : [], 'LAW' : [], 'NORP' : [], 'EVENT' : []"
     ]
    },
    {
     "name": "stderr",
     "output_type": "stream",
     "text": [
      "100%|██████████| 100/100 [16:01<00:00,  9.61s/it]"
     ]
    },
    {
     "name": "stdout",
     "output_type": "stream",
     "text": [
      "./ner/saves/datasets/ontonote5_test_1403.pkl\n"
     ]
    },
    {
     "name": "stderr",
     "output_type": "stream",
     "text": [
      "\n",
      "  0%|          | 0/100 [00:00<?, ?it/s]"
     ]
    },
    {
     "name": "stdout",
     "output_type": "stream",
     "text": [
      "{'CARDINAL' : [], 'ORDINAL' : [], 'WORK_OF_ART' : [], 'PERSON' : [], 'LOC' : [], 'DATE' : [], 'PERCENT' : [], 'PRODUCT' : [], 'MONEY' : [], 'FAC' : [], 'TIME' : [], 'ORG' : [], 'QUANTITY' : [], 'LANGUAGE' : [], 'GPE' : [], 'LAW' : [], 'NORP' : [], 'EVENT' : []"
     ]
    },
    {
     "name": "stderr",
     "output_type": "stream",
     "text": [
      "  1%|          | 1/100 [00:07<12:53,  7.82s/it]"
     ]
    },
    {
     "name": "stdout",
     "output_type": "stream",
     "text": [
      "{'CARDINAL' : [], 'ORDINAL' : [], 'WORK_OF_ART' : [], 'PERSON' : [], 'LOC' : [], 'DATE' : [], 'PERCENT' : [], 'PRODUCT' : [], 'MONEY' : [], 'FAC' : [], 'TIME' : [], 'ORG' : [], 'QUANTITY' : [], 'LANGUAGE' : [], 'GPE' : [], 'LAW' : [], 'NORP' : [], 'EVENT' : []"
     ]
    },
    {
     "name": "stderr",
     "output_type": "stream",
     "text": [
      "  2%|▏         | 2/100 [00:17<14:09,  8.67s/it]"
     ]
    },
    {
     "name": "stdout",
     "output_type": "stream",
     "text": [
      "{'CARDINAL' : [], 'ORDINAL' : [], 'WORK_OF_ART' : [], 'PERSON' : [], 'LOC' : [], 'DATE' : [], 'PERCENT' : [], 'PRODUCT' : [], 'MONEY' : [], 'FAC' : [], 'TIME' : [], 'ORG' : [], 'QUANTITY' : [], 'LANGUAGE' : [], 'GPE' : [], 'LAW' : [], 'NORP' : [], 'EVENT' : []"
     ]
    },
    {
     "name": "stderr",
     "output_type": "stream",
     "text": [
      "  3%|▎         | 3/100 [00:26<14:14,  8.81s/it]"
     ]
    },
    {
     "name": "stdout",
     "output_type": "stream",
     "text": [
      "{'CARDINAL' : [], 'ORDINAL' : [], 'WORK_OF_ART' : [], 'PERSON' : [], 'LOC' : [], 'DATE' : [], 'PERCENT' : [], 'PRODUCT' : [], 'MONEY' : [], 'FAC' : [], 'TIME' : [], 'ORG' : ['the government'], 'QUANTITY' : [], 'LANGUAGE' : [], 'GPE' : [], 'LAW' : [], 'NORP' : [], 'EVENT' : []"
     ]
    },
    {
     "name": "stderr",
     "output_type": "stream",
     "text": [
      "  4%|▍         | 4/100 [00:35<14:20,  8.96s/it]"
     ]
    },
    {
     "name": "stdout",
     "output_type": "stream",
     "text": [
      "{'CARDINAL' : [], 'ORDINAL' : [], 'WORK_OF_ART' : [], 'PERSON' : [], 'LOC' : [], 'DATE' : [], 'PERCENT' : [], 'PRODUCT' : [], 'MONEY' : [], 'FAC' : [], 'TIME' : [], 'ORG' : [], 'QUANTITY' : [], 'LANGUAGE' : [], 'GPE' : [], 'LAW' : [], 'NORP' : [], 'EVENT' : ['last week']"
     ]
    },
    {
     "name": "stderr",
     "output_type": "stream",
     "text": [
      "  5%|▌         | 5/100 [00:45<14:50,  9.37s/it]"
     ]
    },
    {
     "name": "stdout",
     "output_type": "stream",
     "text": [
      "{'CARDINAL' : [], 'ORDINAL' : [], 'WORK_OF_ART' : [], 'PERSON' : [], 'LOC' : [], 'DATE' : ['this quarter'], 'PERCENT' : [], 'PRODUCT' : [], 'MONEY' : [], 'FAC' : [], 'TIME' : [], 'ORG' : [], 'QUANTITY' : [], 'LANGUAGE' : [], 'GPE' : [], 'LAW' : [], 'NORP' : [], 'EVENT' : []"
     ]
    },
    {
     "name": "stderr",
     "output_type": "stream",
     "text": [
      "  6%|▌         | 6/100 [00:54<14:35,  9.31s/it]"
     ]
    },
    {
     "name": "stdout",
     "output_type": "stream",
     "text": [
      "{'CARDINAL' : [], 'ORDINAL' : [], 'WORK_OF_ART' : [], 'PERSON' : ['Charles Colson'], 'LOC' : [], 'DATE' : [], 'PERCENT' : [], 'PRODUCT' : [], 'MONEY' : [], 'FAC' : [], 'TIME' : [], 'ORG' : [], 'QUANTITY' : [], 'LANGUAGE' : [], 'GPE' : [], 'LAW' : [], 'NORP' : [], 'EVENT' : []"
     ]
    },
    {
     "name": "stderr",
     "output_type": "stream",
     "text": [
      "  7%|▋         | 7/100 [01:04<14:30,  9.36s/it]"
     ]
    },
    {
     "name": "stdout",
     "output_type": "stream",
     "text": [
      "{'CARDINAL' : [], 'ORDINAL' : [], 'WORK_OF_ART' : [], 'PERSON' : ['Mr. Heinemann'], 'LOC' : [], 'DATE' : [], 'PERCENT' : [], 'PRODUCT' : [], 'MONEY' : [], 'FAC' : [], 'TIME' : [], 'ORG' : [], 'QUANTITY' : [], 'LANGUAGE' : [], 'GPE' : [], 'LAW' : [], 'NORP' : [], 'EVENT' : []"
     ]
    },
    {
     "name": "stderr",
     "output_type": "stream",
     "text": [
      "  8%|▊         | 8/100 [01:14<14:46,  9.63s/it]"
     ]
    },
    {
     "name": "stdout",
     "output_type": "stream",
     "text": [
      "{'CARDINAL' : ['200, 70, 180'], 'ORDINAL' : [], 'WORK_OF_ART' : [], 'PERSON' : [], 'LOC' : [], 'DATE' : [], 'PERCENT' : [], 'PRODUCT' : [], 'MONEY' : [], 'FAC' : [], 'TIME' : [], 'ORG' : [], 'QUANTITY' : [], 'LANGUAGE' : [], 'GPE' : ['Dongguan'], 'LAW' : [], 'NORP' : [], 'EVENT' : []"
     ]
    },
    {
     "name": "stderr",
     "output_type": "stream",
     "text": [
      "  9%|▉         | 9/100 [01:24<14:54,  9.83s/it]"
     ]
    },
    {
     "name": "stdout",
     "output_type": "stream",
     "text": [
      "{'CARDINAL' : [], 'ORDINAL' : [], 'WORK_OF_ART' : [], 'PERSON' : ['narrator'], 'LOC' : [], 'DATE' : [], 'PERCENT' : [], 'PRODUCT' : [], 'MONEY' : [], 'FAC' : [], 'TIME' : [], 'ORG' : [], 'QUANTITY' : [], 'LANGUAGE' : [], 'GPE' : [], 'LAW' : [], 'NORP' : [], 'EVENT' : []"
     ]
    },
    {
     "name": "stderr",
     "output_type": "stream",
     "text": [
      " 10%|█         | 10/100 [01:32<13:59,  9.33s/it]"
     ]
    },
    {
     "name": "stdout",
     "output_type": "stream",
     "text": [
      "{'CARDINAL' : [], 'ORDINAL' : [], 'WORK_OF_ART' : [], 'PERSON' : ['Christy Whitman'], 'LOC' : [], 'DATE' : [], 'PERCENT' : [], 'PRODUCT' : [], 'MONEY' : [], 'FAC' : [], 'TIME' : [], 'ORG' : [], 'QUANTITY' : [], 'LANGUAGE' : [], 'GPE' : [], 'LAW' : [], 'NORP' : [], 'EVENT' : []"
     ]
    },
    {
     "name": "stderr",
     "output_type": "stream",
     "text": [
      " 11%|█         | 11/100 [01:42<14:01,  9.45s/it]"
     ]
    },
    {
     "name": "stdout",
     "output_type": "stream",
     "text": [
      "{'CARDINAL' : [], 'ORDINAL' : [], 'WORK_OF_ART' : [], 'PERSON' : [], 'LOC' : ['Van Nuys, Oklahoma City, Pontiac'], 'DATE' : [], 'PERCENT' : [], 'PRODUCT' : [], 'MONEY' : [], 'FAC' : [], 'TIME' : [], 'ORG' : [], 'QUANTITY' : [], 'LANGUAGE' : [], 'GPE' : [], 'LAW' : [], 'NORP' : [], 'EVENT' : []"
     ]
    },
    {
     "name": "stderr",
     "output_type": "stream",
     "text": [
      " 12%|█▏        | 12/100 [01:52<13:58,  9.52s/it]"
     ]
    },
    {
     "name": "stdout",
     "output_type": "stream",
     "text": [
      "{'CARDINAL' : [], 'ORDINAL' : [], 'WORK_OF_ART' : [], 'PERSON' : [], 'LOC' : [], 'DATE' : [], 'PERCENT' : [], 'PRODUCT' : [], 'MONEY' : [], 'FAC' : [], 'TIME' : [], 'ORG' : [], 'QUANTITY' : [], 'LANGUAGE' : [], 'GPE' : [\"Shandong 's\"], 'LAW' : [], 'NORP' : [], 'EVENT' : []"
     ]
    },
    {
     "name": "stderr",
     "output_type": "stream",
     "text": [
      " 13%|█▎        | 13/100 [02:01<13:44,  9.48s/it]"
     ]
    },
    {
     "name": "stdout",
     "output_type": "stream",
     "text": [
      "{'CARDINAL' : [], 'ORDINAL' : [], 'WORK_OF_ART' : [], 'PERSON' : [], 'LOC' : [], 'DATE' : [], 'PERCENT' : [], 'PRODUCT' : [], 'MONEY' : [], 'FAC' : [], 'TIME' : [], 'ORG' : [], 'QUANTITY' : [], 'LANGUAGE' : [], 'GPE' : [], 'LAW' : [], 'NORP' : [], 'EVENT' : []"
     ]
    },
    {
     "name": "stderr",
     "output_type": "stream",
     "text": [
      " 14%|█▍        | 14/100 [02:10<13:25,  9.37s/it]"
     ]
    },
    {
     "name": "stdout",
     "output_type": "stream",
     "text": [
      "{'CARDINAL' : [], 'ORDINAL' : [], 'WORK_OF_ART' : [], 'PERSON' : [], 'LOC' : [], 'DATE' : [], 'PERCENT' : [], 'PRODUCT' : [], 'MONEY' : [], 'FAC' : [], 'TIME' : [], 'ORG' : [], 'QUANTITY' : [], 'LANGUAGE' : [], 'GPE' : [], 'LAW' : [], 'NORP' : [], 'EVENT' : []"
     ]
    },
    {
     "name": "stderr",
     "output_type": "stream",
     "text": [
      " 15%|█▌        | 15/100 [02:21<13:54,  9.82s/it]"
     ]
    },
    {
     "name": "stdout",
     "output_type": "stream",
     "text": [
      "{'CARDINAL' : [], 'ORDINAL' : [], 'WORK_OF_ART' : [], 'PERSON' : [], 'LOC' : [], 'DATE' : [], 'PERCENT' : [], 'PRODUCT' : [], 'MONEY' : [], 'FAC' : [], 'TIME' : [], 'ORG' : [], 'QUANTITY' : [], 'LANGUAGE' : [], 'GPE' : ['Linpien'], 'LAW' : [], 'NORP' : [], 'EVENT' : []"
     ]
    },
    {
     "name": "stderr",
     "output_type": "stream",
     "text": [
      " 16%|█▌        | 16/100 [02:32<14:22, 10.27s/it]"
     ]
    },
    {
     "name": "stdout",
     "output_type": "stream",
     "text": [
      "{'CARDINAL' : [], 'ORDINAL' : [], 'WORK_OF_ART' : [], 'PERSON' : [], 'LOC' : [], 'DATE' : [], 'PERCENT' : [], 'PRODUCT' : [], 'MONEY' : [], 'FAC' : [], 'TIME' : [], 'ORG' : [], 'QUANTITY' : [], 'LANGUAGE' : [], 'GPE' : [], 'LAW' : [], 'NORP' : [], 'EVENT' : []"
     ]
    },
    {
     "name": "stderr",
     "output_type": "stream",
     "text": [
      " 17%|█▋        | 17/100 [02:43<14:33, 10.53s/it]"
     ]
    },
    {
     "name": "stdout",
     "output_type": "stream",
     "text": [
      "{'CARDINAL' : [], 'ORDINAL' : [], 'WORK_OF_ART' : [], 'PERSON' : [], 'LOC' : [], 'DATE' : ['last month'], 'PERCENT' : ['0.9 %'], 'PRODUCT' : [], 'MONEY' : [], 'FAC' : [], 'TIME' : [], 'ORG' : [], 'QUANTITY' : [], 'LANGUAGE' : [], 'GPE' : [], 'LAW' : [], 'NORP' : [], 'EVENT' : []"
     ]
    },
    {
     "name": "stderr",
     "output_type": "stream",
     "text": [
      " 18%|█▊        | 18/100 [02:56<15:18, 11.20s/it]"
     ]
    },
    {
     "name": "stdout",
     "output_type": "stream",
     "text": [
      "{'CARDINAL' : ['218'], 'ORDINAL' : [], 'WORK_OF_ART' : [], 'PERSON' : [], 'LOC' : [], 'DATE' : [], 'PERCENT' : [], 'PRODUCT' : [], 'MONEY' : [], 'FAC' : [], 'TIME' : [], 'ORG' : [], 'QUANTITY' : [], 'LANGUAGE' : [], 'GPE' : ['Shanghai'], 'LAW' : [], 'NORP' : [], 'EVENT' : []"
     ]
    },
    {
     "name": "stderr",
     "output_type": "stream",
     "text": [
      " 19%|█▉        | 19/100 [03:08<15:30, 11.48s/it]"
     ]
    },
    {
     "name": "stdout",
     "output_type": "stream",
     "text": [
      "{'CARDINAL' : [], 'ORDINAL' : [], 'WORK_OF_ART' : [], 'PERSON' : [\"Scooter Libby\"], 'LOC' : [], 'DATE' : [], 'PERCENT' : [], 'PRODUCT' : [], 'MONEY' : [], 'FAC' : [], 'TIME' : [], 'ORG' : [], 'QUANTITY' : [], 'LANGUAGE' : [], 'GPE' : [], 'LAW' : [], 'NORP' : [], 'EVENT' : []"
     ]
    },
    {
     "name": "stderr",
     "output_type": "stream",
     "text": [
      " 20%|██        | 20/100 [03:21<15:46, 11.83s/it]"
     ]
    },
    {
     "name": "stdout",
     "output_type": "stream",
     "text": [
      "{'CARDINAL' : [], 'ORDINAL' : [], 'WORK_OF_ART' : [], 'PERSON' : [], 'LOC' : [], 'DATE' : [], 'PERCENT' : [], 'PRODUCT' : [], 'MONEY' : [], 'FAC' : [], 'TIME' : [], 'ORG' : [], 'QUANTITY' : [], 'LANGUAGE' : [], 'GPE' : [], 'LAW' : [], 'NORP' : [], 'EVENT' : []"
     ]
    },
    {
     "name": "stderr",
     "output_type": "stream",
     "text": [
      " 21%|██        | 21/100 [03:33<15:45, 11.96s/it]"
     ]
    },
    {
     "name": "stdout",
     "output_type": "stream",
     "text": [
      "{'CARDINAL' : [], 'ORDINAL' : [], 'WORK_OF_ART' : [], 'PERSON' : [], 'LOC' : [], 'DATE' : [], 'PERCENT' : [], 'PRODUCT' : [], 'MONEY' : [], 'FAC' : [], 'TIME' : [], 'ORG' : ['Royal Trustco Ltd. , Pacific Savings Bank'], 'QUANTITY' : [], 'LANGUAGE' : [], 'GPE' : [], 'LAW' : [], 'NORP' : [], 'EVENT' : []"
     ]
    },
    {
     "name": "stderr",
     "output_type": "stream",
     "text": [
      " 22%|██▏       | 22/100 [03:45<15:37, 12.02s/it]"
     ]
    }
   ],
   "source": [
    "# ToDo \n",
    "from llm.LLMModel import *\n",
    "from ner.llm_ner.prompt_techniques.pt_abstract import PromptTechnique\n",
    "from ner.llm_ner.prompt_techniques.pt_discussion import PT_OutputList\n",
    "from ner.llm_ner.prompt_techniques.pt_gpt_ner import PT_GPT_NER\n",
    "from ner.llm_ner.prompt_techniques.pt_wrapper import PT_Wrapper\n",
    "from ner.llm_ner.prompt_techniques.pt_multi_pt import PT_2Time_Tagger\n",
    "from ner.llm_ner.few_shots_techniques import *\n",
    "from ner.llm_ner.prompts import *\n",
    "%reload_ext autoreload\n",
    "%autoreload 2\n",
    "\n",
    "\n",
    "model = MistralAI()\n",
    "plus_plus = False\n",
    "pts = [\n",
    "       # PT_GPT_NER, \n",
    "       # PT_OutputList, \n",
    "       # PT_Wrapper, \n",
    "       # PT_2Time_Tagger,\n",
    "       PT_Filing\n",
    "       ]\n",
    "results, results_df = model.classical_test_ontonote5(pts = pts, fsts = [FST_Sentence], nb_few_shots=[3], nb_run_by_test=5, plus_plus= plus_plus, test_size = 100)\n",
    "results_df"
   ]
  },
  {
   "cell_type": "code",
   "execution_count": null,
   "metadata": {},
   "outputs": [],
   "source": [
    "/home/ubuntu/llm-project/Master-thesis/ner/saves/datasets/ontonote5_test_1403.pkl\n",
    "                                     ./ner/saves/datasets/ontonote5_test_1403.pkl"
   ]
  },
  {
   "cell_type": "code",
   "execution_count": null,
   "metadata": {},
   "outputs": [],
   "source": [
    "## Running the test for Explication ++\n",
    "model = MistralAI()\n",
    "plus_plus = True\n",
    "pts = [PT_GPT_NER(None,plus_plus=plus_plus), \n",
    "       PT_OutputList(None,plus_plus=plus_plus), \n",
    "       PT_Wrapper(None,plus_plus=plus_plus), \n",
    "       PT_2Time_Tagger(None,plus_plus=plus_plus)]\n",
    "results, results_df = model.classical_test_ontonote5(pts = pts, fsts = [FST_NoShots], nb_run_by_test=10, plus_plus= plus_plus, test_size = 100)\n",
    "results_df"
   ]
  },
  {
   "cell_type": "code",
   "execution_count": null,
   "metadata": {},
   "outputs": [],
   "source": [
    "\"\"\"### ASSISTANT : Can you give me clarification on the different type of entities ? \n",
    "### USER : Yes. \"\"\"+'\\n'.join([val for key, val in precision_ner.items()])+'\\n'"
   ]
  },
  {
   "cell_type": "code",
   "execution_count": null,
   "metadata": {},
   "outputs": [],
   "source": [
    "# ToDo \n",
    "from llm.LLMModel import *\n",
    "from ner.llm_ner.prompt_techniques.pt_abstract import PromptTechnique\n",
    "from ner.llm_ner.prompt_techniques.pt_discussion import PT_OutputList\n",
    "from ner.llm_ner.prompt_techniques.pt_gpt_ner import PT_GPT_NER\n",
    "from ner.llm_ner.prompt_techniques.pt_wrapper import PT_Wrapper\n",
    "from ner.llm_ner.few_shots_techniques import *\n",
    "%reload_ext autoreload\n",
    "%autoreload 2\n",
    "\n",
    "model = MistralAI()\n",
    "model.load_finetuned_model(PT_OutputList.name(), 10000)\n",
    "\n",
    "results, results_df = model.classical_test(pts = [PT_OutputList],fsts = [FST_Entity, FST_Sentence] ,nb_run_by_test=4)\n",
    "results_df"
   ]
  },
  {
   "cell_type": "code",
   "execution_count": null,
   "metadata": {},
   "outputs": [],
   "source": [
    "# Running\n",
    "from llm.LLMModel import *\n",
    "from ner.llm_ner.prompt_techniques.pt_abstract import PromptTechnique\n",
    "from ner.llm_ner.prompt_techniques.pt_discussion import PT_OutputList\n",
    "from ner.llm_ner.prompt_techniques.pt_gpt_ner import PT_GPT_NER\n",
    "from ner.llm_ner.prompt_techniques.pt_wrapper import PT_Wrapper\n",
    "from ner.llm_ner.few_shots_techniques import *\n",
    "%reload_ext autoreload\n",
    "%autoreload 2\n",
    "\n",
    "model = MistralAI()\n",
    "\n",
    "results, results_df = model.classical_test(pts = [PT_GPT_NER], nb_run_by_test=10)\n",
    "results_df"
   ]
  },
  {
   "cell_type": "code",
   "execution_count": null,
   "metadata": {},
   "outputs": [],
   "source": []
  },
  {
   "cell_type": "code",
   "execution_count": null,
   "metadata": {},
   "outputs": [],
   "source": [
    "# ToDo \n",
    "from llm.LLMModel import *\n",
    "from ner.llm_ner.prompt_techniques.pt_abstract import PromptTechnique\n",
    "from ner.llm_ner.prompt_techniques.pt_discussion import PT_OutputList\n",
    "from ner.llm_ner.prompt_techniques.pt_gpt_ner import PT_GPT_NER\n",
    "from ner.llm_ner.prompt_techniques.pt_wrapper import PT_Wrapper\n",
    "from ner.llm_ner.few_shots_techniques import *\n",
    "%reload_ext autoreload\n",
    "%autoreload 2\n",
    "\n",
    "model = Llama13b()\n",
    "\n",
    "results, results_df = model.classical_test(pts = [PT_OutputList])\n",
    "results_df"
   ]
  },
  {
   "cell_type": "code",
   "execution_count": null,
   "metadata": {},
   "outputs": [],
   "source": [
    "from ner.llm_ner.prompt_techniques.pt_multi_pt import PT_Multi_PT\n",
    "from ner.llm_ner.prompt_techniques.pt_get_entities import PT_GetEntities\n",
    "from ner.llm_ner.prompt_techniques.pt_tagger import PT_Tagger\n",
    "\n",
    "from ner.llm_ner.few_shots_techniques import *\n",
    "from llm.LLMModel import *\n",
    "from ner.Datasets.Conll2003Dataset import get_test_cleaned_split\n",
    "%reload_ext autoreload\n",
    "%autoreload 2\n",
    "\n",
    "seed = 10 # random.randint(0, 1535468)\n",
    "data_train, data_test = get_test_cleaned_split(seed = seed)"
   ]
  },
  {
   "cell_type": "code",
   "execution_count": null,
   "metadata": {},
   "outputs": [],
   "source": [
    "\n",
    "fst = FST_Sentence(data_train, 3)\n",
    "pts = [PT_GetEntities(fst), PT_Tagger(fst)]\n",
    "multi_pt = PT_Multi_PT(pts)\n",
    "llm = NoLLM()"
   ]
  },
  {
   "cell_type": "code",
   "execution_count": null,
   "metadata": {},
   "outputs": [],
   "source": [
    "llm.invoke(\"Jeremy Ferrari is a french guys that lives in England\", multi_pt, None)"
   ]
  },
  {
   "cell_type": "code",
   "execution_count": null,
   "metadata": {},
   "outputs": [],
   "source": []
  }
 ],
 "metadata": {
  "kernelspec": {
   "display_name": "Python 3",
   "language": "python",
   "name": "python3"
  },
  "language_info": {
   "codemirror_mode": {
    "name": "ipython",
    "version": 3
   },
   "file_extension": ".py",
   "mimetype": "text/x-python",
   "name": "python",
   "nbconvert_exporter": "python",
   "pygments_lexer": "ipython3",
   "version": "3.10.12"
  }
 },
 "nbformat": 4,
 "nbformat_minor": 2
}
