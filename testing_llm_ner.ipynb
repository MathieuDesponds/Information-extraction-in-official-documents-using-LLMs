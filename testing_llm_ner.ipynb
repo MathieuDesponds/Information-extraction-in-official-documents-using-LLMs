{
 "cells": [
  {
   "cell_type": "code",
   "execution_count": 2,
   "metadata": {},
   "outputs": [
    {
     "name": "stderr",
     "output_type": "stream",
     "text": [
      "llama_model_loader: loaded meta data with 20 key-value pairs and 291 tensors from llm/models/mistral-7b-v0.1/mistral-7b-v0.1.Q5_0.gguf (version GGUF V2 (latest))\n",
      "llama_model_loader: - tensor    0:                token_embd.weight q5_0     [  4096, 32000,     1,     1 ]\n",
      "llama_model_loader: - tensor    1:              blk.0.attn_q.weight q5_0     [  4096,  4096,     1,     1 ]\n",
      "llama_model_loader: - tensor    2:              blk.0.attn_k.weight q5_0     [  4096,  1024,     1,     1 ]\n",
      "llama_model_loader: - tensor    3:              blk.0.attn_v.weight q5_0     [  4096,  1024,     1,     1 ]\n",
      "llama_model_loader: - tensor    4:         blk.0.attn_output.weight q5_0     [  4096,  4096,     1,     1 ]\n",
      "llama_model_loader: - tensor    5:            blk.0.ffn_gate.weight q5_0     [  4096, 14336,     1,     1 ]\n",
      "llama_model_loader: - tensor    6:              blk.0.ffn_up.weight q5_0     [  4096, 14336,     1,     1 ]\n",
      "llama_model_loader: - tensor    7:            blk.0.ffn_down.weight q5_0     [ 14336,  4096,     1,     1 ]\n",
      "llama_model_loader: - tensor    8:           blk.0.attn_norm.weight f32      [  4096,     1,     1,     1 ]\n",
      "llama_model_loader: - tensor    9:            blk.0.ffn_norm.weight f32      [  4096,     1,     1,     1 ]\n",
      "llama_model_loader: - tensor   10:              blk.1.attn_q.weight q5_0     [  4096,  4096,     1,     1 ]\n",
      "llama_model_loader: - tensor   11:              blk.1.attn_k.weight q5_0     [  4096,  1024,     1,     1 ]\n",
      "llama_model_loader: - tensor   12:              blk.1.attn_v.weight q5_0     [  4096,  1024,     1,     1 ]\n",
      "llama_model_loader: - tensor   13:         blk.1.attn_output.weight q5_0     [  4096,  4096,     1,     1 ]\n",
      "llama_model_loader: - tensor   14:            blk.1.ffn_gate.weight q5_0     [  4096, 14336,     1,     1 ]\n",
      "llama_model_loader: - tensor   15:              blk.1.ffn_up.weight q5_0     [  4096, 14336,     1,     1 ]\n",
      "llama_model_loader: - tensor   16:            blk.1.ffn_down.weight q5_0     [ 14336,  4096,     1,     1 ]\n",
      "llama_model_loader: - tensor   17:           blk.1.attn_norm.weight f32      [  4096,     1,     1,     1 ]\n",
      "llama_model_loader: - tensor   18:            blk.1.ffn_norm.weight f32      [  4096,     1,     1,     1 ]\n",
      "llama_model_loader: - tensor   19:              blk.2.attn_q.weight q5_0     [  4096,  4096,     1,     1 ]\n",
      "llama_model_loader: - tensor   20:              blk.2.attn_k.weight q5_0     [  4096,  1024,     1,     1 ]\n",
      "llama_model_loader: - tensor   21:              blk.2.attn_v.weight q5_0     [  4096,  1024,     1,     1 ]\n",
      "llama_model_loader: - tensor   22:         blk.2.attn_output.weight q5_0     [  4096,  4096,     1,     1 ]\n",
      "llama_model_loader: - tensor   23:            blk.2.ffn_gate.weight q5_0     [  4096, 14336,     1,     1 ]\n",
      "llama_model_loader: - tensor   24:              blk.2.ffn_up.weight q5_0     [  4096, 14336,     1,     1 ]\n",
      "llama_model_loader: - tensor   25:            blk.2.ffn_down.weight q5_0     [ 14336,  4096,     1,     1 ]\n",
      "llama_model_loader: - tensor   26:           blk.2.attn_norm.weight f32      [  4096,     1,     1,     1 ]\n",
      "llama_model_loader: - tensor   27:            blk.2.ffn_norm.weight f32      [  4096,     1,     1,     1 ]\n",
      "llama_model_loader: - tensor   28:              blk.3.attn_q.weight q5_0     [  4096,  4096,     1,     1 ]\n",
      "llama_model_loader: - tensor   29:              blk.3.attn_k.weight q5_0     [  4096,  1024,     1,     1 ]\n",
      "llama_model_loader: - tensor   30:              blk.3.attn_v.weight q5_0     [  4096,  1024,     1,     1 ]\n",
      "llama_model_loader: - tensor   31:         blk.3.attn_output.weight q5_0     [  4096,  4096,     1,     1 ]\n",
      "llama_model_loader: - tensor   32:            blk.3.ffn_gate.weight q5_0     [  4096, 14336,     1,     1 ]\n",
      "llama_model_loader: - tensor   33:              blk.3.ffn_up.weight q5_0     [  4096, 14336,     1,     1 ]\n",
      "llama_model_loader: - tensor   34:            blk.3.ffn_down.weight q5_0     [ 14336,  4096,     1,     1 ]\n",
      "llama_model_loader: - tensor   35:           blk.3.attn_norm.weight f32      [  4096,     1,     1,     1 ]\n",
      "llama_model_loader: - tensor   36:            blk.3.ffn_norm.weight f32      [  4096,     1,     1,     1 ]\n",
      "llama_model_loader: - tensor   37:              blk.4.attn_q.weight q5_0     [  4096,  4096,     1,     1 ]\n",
      "llama_model_loader: - tensor   38:              blk.4.attn_k.weight q5_0     [  4096,  1024,     1,     1 ]\n",
      "llama_model_loader: - tensor   39:              blk.4.attn_v.weight q5_0     [  4096,  1024,     1,     1 ]\n",
      "llama_model_loader: - tensor   40:         blk.4.attn_output.weight q5_0     [  4096,  4096,     1,     1 ]\n",
      "llama_model_loader: - tensor   41:            blk.4.ffn_gate.weight q5_0     [  4096, 14336,     1,     1 ]\n",
      "llama_model_loader: - tensor   42:              blk.4.ffn_up.weight q5_0     [  4096, 14336,     1,     1 ]\n",
      "llama_model_loader: - tensor   43:            blk.4.ffn_down.weight q5_0     [ 14336,  4096,     1,     1 ]\n",
      "llama_model_loader: - tensor   44:           blk.4.attn_norm.weight f32      [  4096,     1,     1,     1 ]\n",
      "llama_model_loader: - tensor   45:            blk.4.ffn_norm.weight f32      [  4096,     1,     1,     1 ]\n",
      "llama_model_loader: - tensor   46:              blk.5.attn_q.weight q5_0     [  4096,  4096,     1,     1 ]\n",
      "llama_model_loader: - tensor   47:              blk.5.attn_k.weight q5_0     [  4096,  1024,     1,     1 ]\n",
      "llama_model_loader: - tensor   48:              blk.5.attn_v.weight q5_0     [  4096,  1024,     1,     1 ]\n",
      "llama_model_loader: - tensor   49:         blk.5.attn_output.weight q5_0     [  4096,  4096,     1,     1 ]\n",
      "llama_model_loader: - tensor   50:            blk.5.ffn_gate.weight q5_0     [  4096, 14336,     1,     1 ]\n",
      "llama_model_loader: - tensor   51:              blk.5.ffn_up.weight q5_0     [  4096, 14336,     1,     1 ]\n",
      "llama_model_loader: - tensor   52:            blk.5.ffn_down.weight q5_0     [ 14336,  4096,     1,     1 ]\n",
      "llama_model_loader: - tensor   53:           blk.5.attn_norm.weight f32      [  4096,     1,     1,     1 ]\n",
      "llama_model_loader: - tensor   54:            blk.5.ffn_norm.weight f32      [  4096,     1,     1,     1 ]\n",
      "llama_model_loader: - tensor   55:              blk.6.attn_q.weight q5_0     [  4096,  4096,     1,     1 ]\n",
      "llama_model_loader: - tensor   56:              blk.6.attn_k.weight q5_0     [  4096,  1024,     1,     1 ]\n",
      "llama_model_loader: - tensor   57:              blk.6.attn_v.weight q5_0     [  4096,  1024,     1,     1 ]\n",
      "llama_model_loader: - tensor   58:         blk.6.attn_output.weight q5_0     [  4096,  4096,     1,     1 ]\n",
      "llama_model_loader: - tensor   59:            blk.6.ffn_gate.weight q5_0     [  4096, 14336,     1,     1 ]\n",
      "llama_model_loader: - tensor   60:              blk.6.ffn_up.weight q5_0     [  4096, 14336,     1,     1 ]\n",
      "llama_model_loader: - tensor   61:            blk.6.ffn_down.weight q5_0     [ 14336,  4096,     1,     1 ]\n",
      "llama_model_loader: - tensor   62:           blk.6.attn_norm.weight f32      [  4096,     1,     1,     1 ]\n",
      "llama_model_loader: - tensor   63:            blk.6.ffn_norm.weight f32      [  4096,     1,     1,     1 ]\n",
      "llama_model_loader: - tensor   64:              blk.7.attn_q.weight q5_0     [  4096,  4096,     1,     1 ]\n",
      "llama_model_loader: - tensor   65:              blk.7.attn_k.weight q5_0     [  4096,  1024,     1,     1 ]\n",
      "llama_model_loader: - tensor   66:              blk.7.attn_v.weight q5_0     [  4096,  1024,     1,     1 ]\n",
      "llama_model_loader: - tensor   67:         blk.7.attn_output.weight q5_0     [  4096,  4096,     1,     1 ]\n",
      "llama_model_loader: - tensor   68:            blk.7.ffn_gate.weight q5_0     [  4096, 14336,     1,     1 ]\n",
      "llama_model_loader: - tensor   69:              blk.7.ffn_up.weight q5_0     [  4096, 14336,     1,     1 ]\n",
      "llama_model_loader: - tensor   70:            blk.7.ffn_down.weight q5_0     [ 14336,  4096,     1,     1 ]\n",
      "llama_model_loader: - tensor   71:           blk.7.attn_norm.weight f32      [  4096,     1,     1,     1 ]\n",
      "llama_model_loader: - tensor   72:            blk.7.ffn_norm.weight f32      [  4096,     1,     1,     1 ]\n",
      "llama_model_loader: - tensor   73:              blk.8.attn_q.weight q5_0     [  4096,  4096,     1,     1 ]\n",
      "llama_model_loader: - tensor   74:              blk.8.attn_k.weight q5_0     [  4096,  1024,     1,     1 ]\n",
      "llama_model_loader: - tensor   75:              blk.8.attn_v.weight q5_0     [  4096,  1024,     1,     1 ]\n",
      "llama_model_loader: - tensor   76:         blk.8.attn_output.weight q5_0     [  4096,  4096,     1,     1 ]\n",
      "llama_model_loader: - tensor   77:            blk.8.ffn_gate.weight q5_0     [  4096, 14336,     1,     1 ]\n",
      "llama_model_loader: - tensor   78:              blk.8.ffn_up.weight q5_0     [  4096, 14336,     1,     1 ]\n",
      "llama_model_loader: - tensor   79:            blk.8.ffn_down.weight q5_0     [ 14336,  4096,     1,     1 ]\n",
      "llama_model_loader: - tensor   80:           blk.8.attn_norm.weight f32      [  4096,     1,     1,     1 ]\n",
      "llama_model_loader: - tensor   81:            blk.8.ffn_norm.weight f32      [  4096,     1,     1,     1 ]\n",
      "llama_model_loader: - tensor   82:              blk.9.attn_q.weight q5_0     [  4096,  4096,     1,     1 ]\n",
      "llama_model_loader: - tensor   83:              blk.9.attn_k.weight q5_0     [  4096,  1024,     1,     1 ]\n",
      "llama_model_loader: - tensor   84:              blk.9.attn_v.weight q5_0     [  4096,  1024,     1,     1 ]\n",
      "llama_model_loader: - tensor   85:         blk.9.attn_output.weight q5_0     [  4096,  4096,     1,     1 ]\n",
      "llama_model_loader: - tensor   86:            blk.9.ffn_gate.weight q5_0     [  4096, 14336,     1,     1 ]\n",
      "llama_model_loader: - tensor   87:              blk.9.ffn_up.weight q5_0     [  4096, 14336,     1,     1 ]\n",
      "llama_model_loader: - tensor   88:            blk.9.ffn_down.weight q5_0     [ 14336,  4096,     1,     1 ]\n",
      "llama_model_loader: - tensor   89:           blk.9.attn_norm.weight f32      [  4096,     1,     1,     1 ]\n",
      "llama_model_loader: - tensor   90:            blk.9.ffn_norm.weight f32      [  4096,     1,     1,     1 ]\n",
      "llama_model_loader: - tensor   91:             blk.10.attn_q.weight q5_0     [  4096,  4096,     1,     1 ]\n",
      "llama_model_loader: - tensor   92:             blk.10.attn_k.weight q5_0     [  4096,  1024,     1,     1 ]\n",
      "llama_model_loader: - tensor   93:             blk.10.attn_v.weight q5_0     [  4096,  1024,     1,     1 ]\n",
      "llama_model_loader: - tensor   94:        blk.10.attn_output.weight q5_0     [  4096,  4096,     1,     1 ]\n",
      "llama_model_loader: - tensor   95:           blk.10.ffn_gate.weight q5_0     [  4096, 14336,     1,     1 ]\n",
      "llama_model_loader: - tensor   96:             blk.10.ffn_up.weight q5_0     [  4096, 14336,     1,     1 ]\n",
      "llama_model_loader: - tensor   97:           blk.10.ffn_down.weight q5_0     [ 14336,  4096,     1,     1 ]\n",
      "llama_model_loader: - tensor   98:          blk.10.attn_norm.weight f32      [  4096,     1,     1,     1 ]\n",
      "llama_model_loader: - tensor   99:           blk.10.ffn_norm.weight f32      [  4096,     1,     1,     1 ]\n",
      "llama_model_loader: - tensor  100:             blk.11.attn_q.weight q5_0     [  4096,  4096,     1,     1 ]\n",
      "llama_model_loader: - tensor  101:             blk.11.attn_k.weight q5_0     [  4096,  1024,     1,     1 ]\n",
      "llama_model_loader: - tensor  102:             blk.11.attn_v.weight q5_0     [  4096,  1024,     1,     1 ]\n",
      "llama_model_loader: - tensor  103:        blk.11.attn_output.weight q5_0     [  4096,  4096,     1,     1 ]\n",
      "llama_model_loader: - tensor  104:           blk.11.ffn_gate.weight q5_0     [  4096, 14336,     1,     1 ]\n",
      "llama_model_loader: - tensor  105:             blk.11.ffn_up.weight q5_0     [  4096, 14336,     1,     1 ]\n",
      "llama_model_loader: - tensor  106:           blk.11.ffn_down.weight q5_0     [ 14336,  4096,     1,     1 ]\n",
      "llama_model_loader: - tensor  107:          blk.11.attn_norm.weight f32      [  4096,     1,     1,     1 ]\n",
      "llama_model_loader: - tensor  108:           blk.11.ffn_norm.weight f32      [  4096,     1,     1,     1 ]\n",
      "llama_model_loader: - tensor  109:             blk.12.attn_q.weight q5_0     [  4096,  4096,     1,     1 ]\n",
      "llama_model_loader: - tensor  110:             blk.12.attn_k.weight q5_0     [  4096,  1024,     1,     1 ]\n",
      "llama_model_loader: - tensor  111:             blk.12.attn_v.weight q5_0     [  4096,  1024,     1,     1 ]\n",
      "llama_model_loader: - tensor  112:        blk.12.attn_output.weight q5_0     [  4096,  4096,     1,     1 ]\n",
      "llama_model_loader: - tensor  113:           blk.12.ffn_gate.weight q5_0     [  4096, 14336,     1,     1 ]\n",
      "llama_model_loader: - tensor  114:             blk.12.ffn_up.weight q5_0     [  4096, 14336,     1,     1 ]\n",
      "llama_model_loader: - tensor  115:           blk.12.ffn_down.weight q5_0     [ 14336,  4096,     1,     1 ]\n",
      "llama_model_loader: - tensor  116:          blk.12.attn_norm.weight f32      [  4096,     1,     1,     1 ]\n",
      "llama_model_loader: - tensor  117:           blk.12.ffn_norm.weight f32      [  4096,     1,     1,     1 ]\n",
      "llama_model_loader: - tensor  118:             blk.13.attn_q.weight q5_0     [  4096,  4096,     1,     1 ]\n",
      "llama_model_loader: - tensor  119:             blk.13.attn_k.weight q5_0     [  4096,  1024,     1,     1 ]\n",
      "llama_model_loader: - tensor  120:             blk.13.attn_v.weight q5_0     [  4096,  1024,     1,     1 ]\n",
      "llama_model_loader: - tensor  121:        blk.13.attn_output.weight q5_0     [  4096,  4096,     1,     1 ]\n",
      "llama_model_loader: - tensor  122:           blk.13.ffn_gate.weight q5_0     [  4096, 14336,     1,     1 ]\n",
      "llama_model_loader: - tensor  123:             blk.13.ffn_up.weight q5_0     [  4096, 14336,     1,     1 ]\n",
      "llama_model_loader: - tensor  124:           blk.13.ffn_down.weight q5_0     [ 14336,  4096,     1,     1 ]\n",
      "llama_model_loader: - tensor  125:          blk.13.attn_norm.weight f32      [  4096,     1,     1,     1 ]\n",
      "llama_model_loader: - tensor  126:           blk.13.ffn_norm.weight f32      [  4096,     1,     1,     1 ]\n",
      "llama_model_loader: - tensor  127:             blk.14.attn_q.weight q5_0     [  4096,  4096,     1,     1 ]\n",
      "llama_model_loader: - tensor  128:             blk.14.attn_k.weight q5_0     [  4096,  1024,     1,     1 ]\n",
      "llama_model_loader: - tensor  129:             blk.14.attn_v.weight q5_0     [  4096,  1024,     1,     1 ]\n",
      "llama_model_loader: - tensor  130:        blk.14.attn_output.weight q5_0     [  4096,  4096,     1,     1 ]\n",
      "llama_model_loader: - tensor  131:           blk.14.ffn_gate.weight q5_0     [  4096, 14336,     1,     1 ]\n",
      "llama_model_loader: - tensor  132:             blk.14.ffn_up.weight q5_0     [  4096, 14336,     1,     1 ]\n",
      "llama_model_loader: - tensor  133:           blk.14.ffn_down.weight q5_0     [ 14336,  4096,     1,     1 ]\n",
      "llama_model_loader: - tensor  134:          blk.14.attn_norm.weight f32      [  4096,     1,     1,     1 ]\n",
      "llama_model_loader: - tensor  135:           blk.14.ffn_norm.weight f32      [  4096,     1,     1,     1 ]\n",
      "llama_model_loader: - tensor  136:             blk.15.attn_q.weight q5_0     [  4096,  4096,     1,     1 ]\n",
      "llama_model_loader: - tensor  137:             blk.15.attn_k.weight q5_0     [  4096,  1024,     1,     1 ]\n",
      "llama_model_loader: - tensor  138:             blk.15.attn_v.weight q5_0     [  4096,  1024,     1,     1 ]\n",
      "llama_model_loader: - tensor  139:        blk.15.attn_output.weight q5_0     [  4096,  4096,     1,     1 ]\n",
      "llama_model_loader: - tensor  140:           blk.15.ffn_gate.weight q5_0     [  4096, 14336,     1,     1 ]\n",
      "llama_model_loader: - tensor  141:             blk.15.ffn_up.weight q5_0     [  4096, 14336,     1,     1 ]\n",
      "llama_model_loader: - tensor  142:           blk.15.ffn_down.weight q5_0     [ 14336,  4096,     1,     1 ]\n",
      "llama_model_loader: - tensor  143:          blk.15.attn_norm.weight f32      [  4096,     1,     1,     1 ]\n",
      "llama_model_loader: - tensor  144:           blk.15.ffn_norm.weight f32      [  4096,     1,     1,     1 ]\n",
      "llama_model_loader: - tensor  145:             blk.16.attn_q.weight q5_0     [  4096,  4096,     1,     1 ]\n",
      "llama_model_loader: - tensor  146:             blk.16.attn_k.weight q5_0     [  4096,  1024,     1,     1 ]\n",
      "llama_model_loader: - tensor  147:             blk.16.attn_v.weight q5_0     [  4096,  1024,     1,     1 ]\n",
      "llama_model_loader: - tensor  148:        blk.16.attn_output.weight q5_0     [  4096,  4096,     1,     1 ]\n",
      "llama_model_loader: - tensor  149:           blk.16.ffn_gate.weight q5_0     [  4096, 14336,     1,     1 ]\n",
      "llama_model_loader: - tensor  150:             blk.16.ffn_up.weight q5_0     [  4096, 14336,     1,     1 ]\n",
      "llama_model_loader: - tensor  151:           blk.16.ffn_down.weight q5_0     [ 14336,  4096,     1,     1 ]\n",
      "llama_model_loader: - tensor  152:          blk.16.attn_norm.weight f32      [  4096,     1,     1,     1 ]\n",
      "llama_model_loader: - tensor  153:           blk.16.ffn_norm.weight f32      [  4096,     1,     1,     1 ]\n",
      "llama_model_loader: - tensor  154:             blk.17.attn_q.weight q5_0     [  4096,  4096,     1,     1 ]\n",
      "llama_model_loader: - tensor  155:             blk.17.attn_k.weight q5_0     [  4096,  1024,     1,     1 ]\n",
      "llama_model_loader: - tensor  156:             blk.17.attn_v.weight q5_0     [  4096,  1024,     1,     1 ]\n",
      "llama_model_loader: - tensor  157:        blk.17.attn_output.weight q5_0     [  4096,  4096,     1,     1 ]\n",
      "llama_model_loader: - tensor  158:           blk.17.ffn_gate.weight q5_0     [  4096, 14336,     1,     1 ]\n",
      "llama_model_loader: - tensor  159:             blk.17.ffn_up.weight q5_0     [  4096, 14336,     1,     1 ]\n",
      "llama_model_loader: - tensor  160:           blk.17.ffn_down.weight q5_0     [ 14336,  4096,     1,     1 ]\n",
      "llama_model_loader: - tensor  161:          blk.17.attn_norm.weight f32      [  4096,     1,     1,     1 ]\n",
      "llama_model_loader: - tensor  162:           blk.17.ffn_norm.weight f32      [  4096,     1,     1,     1 ]\n",
      "llama_model_loader: - tensor  163:             blk.18.attn_q.weight q5_0     [  4096,  4096,     1,     1 ]\n",
      "llama_model_loader: - tensor  164:             blk.18.attn_k.weight q5_0     [  4096,  1024,     1,     1 ]\n",
      "llama_model_loader: - tensor  165:             blk.18.attn_v.weight q5_0     [  4096,  1024,     1,     1 ]\n",
      "llama_model_loader: - tensor  166:        blk.18.attn_output.weight q5_0     [  4096,  4096,     1,     1 ]\n",
      "llama_model_loader: - tensor  167:           blk.18.ffn_gate.weight q5_0     [  4096, 14336,     1,     1 ]\n",
      "llama_model_loader: - tensor  168:             blk.18.ffn_up.weight q5_0     [  4096, 14336,     1,     1 ]\n",
      "llama_model_loader: - tensor  169:           blk.18.ffn_down.weight q5_0     [ 14336,  4096,     1,     1 ]\n",
      "llama_model_loader: - tensor  170:          blk.18.attn_norm.weight f32      [  4096,     1,     1,     1 ]\n",
      "llama_model_loader: - tensor  171:           blk.18.ffn_norm.weight f32      [  4096,     1,     1,     1 ]\n",
      "llama_model_loader: - tensor  172:             blk.19.attn_q.weight q5_0     [  4096,  4096,     1,     1 ]\n",
      "llama_model_loader: - tensor  173:             blk.19.attn_k.weight q5_0     [  4096,  1024,     1,     1 ]\n",
      "llama_model_loader: - tensor  174:             blk.19.attn_v.weight q5_0     [  4096,  1024,     1,     1 ]\n",
      "llama_model_loader: - tensor  175:        blk.19.attn_output.weight q5_0     [  4096,  4096,     1,     1 ]\n",
      "llama_model_loader: - tensor  176:           blk.19.ffn_gate.weight q5_0     [  4096, 14336,     1,     1 ]\n",
      "llama_model_loader: - tensor  177:             blk.19.ffn_up.weight q5_0     [  4096, 14336,     1,     1 ]\n",
      "llama_model_loader: - tensor  178:           blk.19.ffn_down.weight q5_0     [ 14336,  4096,     1,     1 ]\n",
      "llama_model_loader: - tensor  179:          blk.19.attn_norm.weight f32      [  4096,     1,     1,     1 ]\n",
      "llama_model_loader: - tensor  180:           blk.19.ffn_norm.weight f32      [  4096,     1,     1,     1 ]\n",
      "llama_model_loader: - tensor  181:             blk.20.attn_q.weight q5_0     [  4096,  4096,     1,     1 ]\n",
      "llama_model_loader: - tensor  182:             blk.20.attn_k.weight q5_0     [  4096,  1024,     1,     1 ]\n",
      "llama_model_loader: - tensor  183:             blk.20.attn_v.weight q5_0     [  4096,  1024,     1,     1 ]\n",
      "llama_model_loader: - tensor  184:        blk.20.attn_output.weight q5_0     [  4096,  4096,     1,     1 ]\n",
      "llama_model_loader: - tensor  185:           blk.20.ffn_gate.weight q5_0     [  4096, 14336,     1,     1 ]\n",
      "llama_model_loader: - tensor  186:             blk.20.ffn_up.weight q5_0     [  4096, 14336,     1,     1 ]\n",
      "llama_model_loader: - tensor  187:           blk.20.ffn_down.weight q5_0     [ 14336,  4096,     1,     1 ]\n",
      "llama_model_loader: - tensor  188:          blk.20.attn_norm.weight f32      [  4096,     1,     1,     1 ]\n",
      "llama_model_loader: - tensor  189:           blk.20.ffn_norm.weight f32      [  4096,     1,     1,     1 ]\n",
      "llama_model_loader: - tensor  190:             blk.21.attn_q.weight q5_0     [  4096,  4096,     1,     1 ]\n",
      "llama_model_loader: - tensor  191:             blk.21.attn_k.weight q5_0     [  4096,  1024,     1,     1 ]\n",
      "llama_model_loader: - tensor  192:             blk.21.attn_v.weight q5_0     [  4096,  1024,     1,     1 ]\n",
      "llama_model_loader: - tensor  193:        blk.21.attn_output.weight q5_0     [  4096,  4096,     1,     1 ]\n",
      "llama_model_loader: - tensor  194:           blk.21.ffn_gate.weight q5_0     [  4096, 14336,     1,     1 ]\n",
      "llama_model_loader: - tensor  195:             blk.21.ffn_up.weight q5_0     [  4096, 14336,     1,     1 ]\n",
      "llama_model_loader: - tensor  196:           blk.21.ffn_down.weight q5_0     [ 14336,  4096,     1,     1 ]\n",
      "llama_model_loader: - tensor  197:          blk.21.attn_norm.weight f32      [  4096,     1,     1,     1 ]\n",
      "llama_model_loader: - tensor  198:           blk.21.ffn_norm.weight f32      [  4096,     1,     1,     1 ]\n",
      "llama_model_loader: - tensor  199:             blk.22.attn_q.weight q5_0     [  4096,  4096,     1,     1 ]\n",
      "llama_model_loader: - tensor  200:             blk.22.attn_k.weight q5_0     [  4096,  1024,     1,     1 ]\n",
      "llama_model_loader: - tensor  201:             blk.22.attn_v.weight q5_0     [  4096,  1024,     1,     1 ]\n",
      "llama_model_loader: - tensor  202:        blk.22.attn_output.weight q5_0     [  4096,  4096,     1,     1 ]\n",
      "llama_model_loader: - tensor  203:           blk.22.ffn_gate.weight q5_0     [  4096, 14336,     1,     1 ]\n",
      "llama_model_loader: - tensor  204:             blk.22.ffn_up.weight q5_0     [  4096, 14336,     1,     1 ]\n",
      "llama_model_loader: - tensor  205:           blk.22.ffn_down.weight q5_0     [ 14336,  4096,     1,     1 ]\n",
      "llama_model_loader: - tensor  206:          blk.22.attn_norm.weight f32      [  4096,     1,     1,     1 ]\n",
      "llama_model_loader: - tensor  207:           blk.22.ffn_norm.weight f32      [  4096,     1,     1,     1 ]\n",
      "llama_model_loader: - tensor  208:             blk.23.attn_q.weight q5_0     [  4096,  4096,     1,     1 ]\n",
      "llama_model_loader: - tensor  209:             blk.23.attn_k.weight q5_0     [  4096,  1024,     1,     1 ]\n",
      "llama_model_loader: - tensor  210:             blk.23.attn_v.weight q5_0     [  4096,  1024,     1,     1 ]\n",
      "llama_model_loader: - tensor  211:        blk.23.attn_output.weight q5_0     [  4096,  4096,     1,     1 ]\n",
      "llama_model_loader: - tensor  212:           blk.23.ffn_gate.weight q5_0     [  4096, 14336,     1,     1 ]\n",
      "llama_model_loader: - tensor  213:             blk.23.ffn_up.weight q5_0     [  4096, 14336,     1,     1 ]\n",
      "llama_model_loader: - tensor  214:           blk.23.ffn_down.weight q5_0     [ 14336,  4096,     1,     1 ]\n",
      "llama_model_loader: - tensor  215:          blk.23.attn_norm.weight f32      [  4096,     1,     1,     1 ]\n",
      "llama_model_loader: - tensor  216:           blk.23.ffn_norm.weight f32      [  4096,     1,     1,     1 ]\n",
      "llama_model_loader: - tensor  217:             blk.24.attn_q.weight q5_0     [  4096,  4096,     1,     1 ]\n",
      "llama_model_loader: - tensor  218:             blk.24.attn_k.weight q5_0     [  4096,  1024,     1,     1 ]\n",
      "llama_model_loader: - tensor  219:             blk.24.attn_v.weight q5_0     [  4096,  1024,     1,     1 ]\n",
      "llama_model_loader: - tensor  220:        blk.24.attn_output.weight q5_0     [  4096,  4096,     1,     1 ]\n",
      "llama_model_loader: - tensor  221:           blk.24.ffn_gate.weight q5_0     [  4096, 14336,     1,     1 ]\n",
      "llama_model_loader: - tensor  222:             blk.24.ffn_up.weight q5_0     [  4096, 14336,     1,     1 ]\n",
      "llama_model_loader: - tensor  223:           blk.24.ffn_down.weight q5_0     [ 14336,  4096,     1,     1 ]\n",
      "llama_model_loader: - tensor  224:          blk.24.attn_norm.weight f32      [  4096,     1,     1,     1 ]\n",
      "llama_model_loader: - tensor  225:           blk.24.ffn_norm.weight f32      [  4096,     1,     1,     1 ]\n",
      "llama_model_loader: - tensor  226:             blk.25.attn_q.weight q5_0     [  4096,  4096,     1,     1 ]\n",
      "llama_model_loader: - tensor  227:             blk.25.attn_k.weight q5_0     [  4096,  1024,     1,     1 ]\n",
      "llama_model_loader: - tensor  228:             blk.25.attn_v.weight q5_0     [  4096,  1024,     1,     1 ]\n",
      "llama_model_loader: - tensor  229:        blk.25.attn_output.weight q5_0     [  4096,  4096,     1,     1 ]\n",
      "llama_model_loader: - tensor  230:           blk.25.ffn_gate.weight q5_0     [  4096, 14336,     1,     1 ]\n",
      "llama_model_loader: - tensor  231:             blk.25.ffn_up.weight q5_0     [  4096, 14336,     1,     1 ]\n",
      "llama_model_loader: - tensor  232:           blk.25.ffn_down.weight q5_0     [ 14336,  4096,     1,     1 ]\n",
      "llama_model_loader: - tensor  233:          blk.25.attn_norm.weight f32      [  4096,     1,     1,     1 ]\n",
      "llama_model_loader: - tensor  234:           blk.25.ffn_norm.weight f32      [  4096,     1,     1,     1 ]\n",
      "llama_model_loader: - tensor  235:             blk.26.attn_q.weight q5_0     [  4096,  4096,     1,     1 ]\n",
      "llama_model_loader: - tensor  236:             blk.26.attn_k.weight q5_0     [  4096,  1024,     1,     1 ]\n",
      "llama_model_loader: - tensor  237:             blk.26.attn_v.weight q5_0     [  4096,  1024,     1,     1 ]\n",
      "llama_model_loader: - tensor  238:        blk.26.attn_output.weight q5_0     [  4096,  4096,     1,     1 ]\n",
      "llama_model_loader: - tensor  239:           blk.26.ffn_gate.weight q5_0     [  4096, 14336,     1,     1 ]\n",
      "llama_model_loader: - tensor  240:             blk.26.ffn_up.weight q5_0     [  4096, 14336,     1,     1 ]\n",
      "llama_model_loader: - tensor  241:           blk.26.ffn_down.weight q5_0     [ 14336,  4096,     1,     1 ]\n",
      "llama_model_loader: - tensor  242:          blk.26.attn_norm.weight f32      [  4096,     1,     1,     1 ]\n",
      "llama_model_loader: - tensor  243:           blk.26.ffn_norm.weight f32      [  4096,     1,     1,     1 ]\n",
      "llama_model_loader: - tensor  244:             blk.27.attn_q.weight q5_0     [  4096,  4096,     1,     1 ]\n",
      "llama_model_loader: - tensor  245:             blk.27.attn_k.weight q5_0     [  4096,  1024,     1,     1 ]\n",
      "llama_model_loader: - tensor  246:             blk.27.attn_v.weight q5_0     [  4096,  1024,     1,     1 ]\n",
      "llama_model_loader: - tensor  247:        blk.27.attn_output.weight q5_0     [  4096,  4096,     1,     1 ]\n",
      "llama_model_loader: - tensor  248:           blk.27.ffn_gate.weight q5_0     [  4096, 14336,     1,     1 ]\n",
      "llama_model_loader: - tensor  249:             blk.27.ffn_up.weight q5_0     [  4096, 14336,     1,     1 ]\n",
      "llama_model_loader: - tensor  250:           blk.27.ffn_down.weight q5_0     [ 14336,  4096,     1,     1 ]\n",
      "llama_model_loader: - tensor  251:          blk.27.attn_norm.weight f32      [  4096,     1,     1,     1 ]\n",
      "llama_model_loader: - tensor  252:           blk.27.ffn_norm.weight f32      [  4096,     1,     1,     1 ]\n",
      "llama_model_loader: - tensor  253:             blk.28.attn_q.weight q5_0     [  4096,  4096,     1,     1 ]\n",
      "llama_model_loader: - tensor  254:             blk.28.attn_k.weight q5_0     [  4096,  1024,     1,     1 ]\n",
      "llama_model_loader: - tensor  255:             blk.28.attn_v.weight q5_0     [  4096,  1024,     1,     1 ]\n",
      "llama_model_loader: - tensor  256:        blk.28.attn_output.weight q5_0     [  4096,  4096,     1,     1 ]\n",
      "llama_model_loader: - tensor  257:           blk.28.ffn_gate.weight q5_0     [  4096, 14336,     1,     1 ]\n",
      "llama_model_loader: - tensor  258:             blk.28.ffn_up.weight q5_0     [  4096, 14336,     1,     1 ]\n",
      "llama_model_loader: - tensor  259:           blk.28.ffn_down.weight q5_0     [ 14336,  4096,     1,     1 ]\n",
      "llama_model_loader: - tensor  260:          blk.28.attn_norm.weight f32      [  4096,     1,     1,     1 ]\n",
      "llama_model_loader: - tensor  261:           blk.28.ffn_norm.weight f32      [  4096,     1,     1,     1 ]\n",
      "llama_model_loader: - tensor  262:             blk.29.attn_q.weight q5_0     [  4096,  4096,     1,     1 ]\n",
      "llama_model_loader: - tensor  263:             blk.29.attn_k.weight q5_0     [  4096,  1024,     1,     1 ]\n",
      "llama_model_loader: - tensor  264:             blk.29.attn_v.weight q5_0     [  4096,  1024,     1,     1 ]\n",
      "llama_model_loader: - tensor  265:        blk.29.attn_output.weight q5_0     [  4096,  4096,     1,     1 ]\n",
      "llama_model_loader: - tensor  266:           blk.29.ffn_gate.weight q5_0     [  4096, 14336,     1,     1 ]\n",
      "llama_model_loader: - tensor  267:             blk.29.ffn_up.weight q5_0     [  4096, 14336,     1,     1 ]\n",
      "llama_model_loader: - tensor  268:           blk.29.ffn_down.weight q5_0     [ 14336,  4096,     1,     1 ]\n",
      "llama_model_loader: - tensor  269:          blk.29.attn_norm.weight f32      [  4096,     1,     1,     1 ]\n",
      "llama_model_loader: - tensor  270:           blk.29.ffn_norm.weight f32      [  4096,     1,     1,     1 ]\n",
      "llama_model_loader: - tensor  271:             blk.30.attn_q.weight q5_0     [  4096,  4096,     1,     1 ]\n",
      "llama_model_loader: - tensor  272:             blk.30.attn_k.weight q5_0     [  4096,  1024,     1,     1 ]\n",
      "llama_model_loader: - tensor  273:             blk.30.attn_v.weight q5_0     [  4096,  1024,     1,     1 ]\n",
      "llama_model_loader: - tensor  274:        blk.30.attn_output.weight q5_0     [  4096,  4096,     1,     1 ]\n",
      "llama_model_loader: - tensor  275:           blk.30.ffn_gate.weight q5_0     [  4096, 14336,     1,     1 ]\n",
      "llama_model_loader: - tensor  276:             blk.30.ffn_up.weight q5_0     [  4096, 14336,     1,     1 ]\n",
      "llama_model_loader: - tensor  277:           blk.30.ffn_down.weight q5_0     [ 14336,  4096,     1,     1 ]\n",
      "llama_model_loader: - tensor  278:          blk.30.attn_norm.weight f32      [  4096,     1,     1,     1 ]\n",
      "llama_model_loader: - tensor  279:           blk.30.ffn_norm.weight f32      [  4096,     1,     1,     1 ]\n",
      "llama_model_loader: - tensor  280:             blk.31.attn_q.weight q5_0     [  4096,  4096,     1,     1 ]\n",
      "llama_model_loader: - tensor  281:             blk.31.attn_k.weight q5_0     [  4096,  1024,     1,     1 ]\n",
      "llama_model_loader: - tensor  282:             blk.31.attn_v.weight q5_0     [  4096,  1024,     1,     1 ]\n",
      "llama_model_loader: - tensor  283:        blk.31.attn_output.weight q5_0     [  4096,  4096,     1,     1 ]\n",
      "llama_model_loader: - tensor  284:           blk.31.ffn_gate.weight q5_0     [  4096, 14336,     1,     1 ]\n",
      "llama_model_loader: - tensor  285:             blk.31.ffn_up.weight q5_0     [  4096, 14336,     1,     1 ]\n",
      "llama_model_loader: - tensor  286:           blk.31.ffn_down.weight q5_0     [ 14336,  4096,     1,     1 ]\n",
      "llama_model_loader: - tensor  287:          blk.31.attn_norm.weight f32      [  4096,     1,     1,     1 ]\n",
      "llama_model_loader: - tensor  288:           blk.31.ffn_norm.weight f32      [  4096,     1,     1,     1 ]\n",
      "llama_model_loader: - tensor  289:               output_norm.weight f32      [  4096,     1,     1,     1 ]\n",
      "llama_model_loader: - tensor  290:                    output.weight q6_K     [  4096, 32000,     1,     1 ]\n",
      "llama_model_loader: - kv   0:                       general.architecture str     \n",
      "llama_model_loader: - kv   1:                               general.name str     \n",
      "llama_model_loader: - kv   2:                       llama.context_length u32     \n",
      "llama_model_loader: - kv   3:                     llama.embedding_length u32     \n",
      "llama_model_loader: - kv   4:                          llama.block_count u32     \n",
      "llama_model_loader: - kv   5:                  llama.feed_forward_length u32     \n",
      "llama_model_loader: - kv   6:                 llama.rope.dimension_count u32     \n",
      "llama_model_loader: - kv   7:                 llama.attention.head_count u32     \n",
      "llama_model_loader: - kv   8:              llama.attention.head_count_kv u32     \n",
      "llama_model_loader: - kv   9:     llama.attention.layer_norm_rms_epsilon f32     \n",
      "llama_model_loader: - kv  10:                       llama.rope.freq_base f32     \n",
      "llama_model_loader: - kv  11:                          general.file_type u32     \n",
      "llama_model_loader: - kv  12:                       tokenizer.ggml.model str     \n",
      "llama_model_loader: - kv  13:                      tokenizer.ggml.tokens arr     \n",
      "llama_model_loader: - kv  14:                      tokenizer.ggml.scores arr     \n",
      "llama_model_loader: - kv  15:                  tokenizer.ggml.token_type arr     \n",
      "llama_model_loader: - kv  16:                tokenizer.ggml.bos_token_id u32     \n",
      "llama_model_loader: - kv  17:                tokenizer.ggml.eos_token_id u32     \n",
      "llama_model_loader: - kv  18:            tokenizer.ggml.unknown_token_id u32     \n",
      "llama_model_loader: - kv  19:               general.quantization_version u32     \n",
      "llama_model_loader: - type  f32:   65 tensors\n",
      "llama_model_loader: - type q5_0:  225 tensors\n",
      "llama_model_loader: - type q6_K:    1 tensors\n",
      "llm_load_print_meta: format         = GGUF V2 (latest)\n",
      "llm_load_print_meta: arch           = llama\n",
      "llm_load_print_meta: vocab type     = SPM\n",
      "llm_load_print_meta: n_vocab        = 32000\n",
      "llm_load_print_meta: n_merges       = 0\n",
      "llm_load_print_meta: n_ctx_train    = 32768\n",
      "llm_load_print_meta: n_ctx          = 2048\n",
      "llm_load_print_meta: n_embd         = 4096\n",
      "llm_load_print_meta: n_head         = 32\n",
      "llm_load_print_meta: n_head_kv      = 8\n",
      "llm_load_print_meta: n_layer        = 32\n",
      "llm_load_print_meta: n_rot          = 128\n",
      "llm_load_print_meta: n_gqa          = 4\n",
      "llm_load_print_meta: f_norm_eps     = 0.0e+00\n",
      "llm_load_print_meta: f_norm_rms_eps = 1.0e-05\n",
      "llm_load_print_meta: n_ff           = 14336\n",
      "llm_load_print_meta: freq_base      = 10000.0\n",
      "llm_load_print_meta: freq_scale     = 1\n",
      "llm_load_print_meta: model type     = 7B\n",
      "llm_load_print_meta: model ftype    = mostly Q5_0\n",
      "llm_load_print_meta: model params   = 7.24 B\n",
      "llm_load_print_meta: model size     = 4.65 GiB (5.52 BPW) \n",
      "llm_load_print_meta: general.name   = mistralai_mistral-7b-v0.1\n",
      "llm_load_print_meta: BOS token = 1 '<s>'\n",
      "llm_load_print_meta: EOS token = 2 '</s>'\n",
      "llm_load_print_meta: UNK token = 0 '<unk>'\n",
      "llm_load_print_meta: LF token  = 13 '<0x0A>'\n",
      "llm_load_tensors: ggml ctx size =    0.09 MB\n",
      "llm_load_tensors: using CUDA for GPU acceleration\n",
      "llm_load_tensors: mem required  =   86.03 MB (+  256.00 MB per state)\n",
      "llm_load_tensors: offloading 32 repeating layers to GPU\n",
      "llm_load_tensors: offloading non-repeating layers to GPU\n",
      "llm_load_tensors: offloading v cache to GPU\n",
      "llm_load_tensors: offloading k cache to GPU\n",
      "llm_load_tensors: offloaded 35/35 layers to GPU\n",
      "llm_load_tensors: VRAM used: 4936 MB\n",
      "..................................................................................................\n",
      "llama_new_context_with_model: kv self size  =  256.00 MB\n",
      "llama_new_context_with_model: compute buffer total size =  153.47 MB\n",
      "llama_new_context_with_model: VRAM scratch buffer: 152.00 MB\n"
     ]
    },
    {
     "name": "stdout",
     "output_type": "stream",
     "text": [
      "Testing with sentence\n",
      "      and discussion\n",
      "./ner/saves/datasets/ontonote5_test_1403.pkl\n",
      "<ner.Datasets.OntoNotes5Dataset.OntoNote5Dataset object at 0x7f012c7e9090>\n"
     ]
    },
    {
     "name": "stderr",
     "output_type": "stream",
     "text": [
      "  0%|          | 0/20 [00:00<?, ?it/s]"
     ]
    },
    {
     "name": "stdout",
     "output_type": "stream",
     "text": [
      "('Lee', 'PERSON'), ('Lee', 'PERSON'), ('Lee', 'PERSON'), ('Lee', 'PERSON'), ('Lee', 'PERSON'), ('Lee', 'PERSON'), ('Lee', 'PERSON'), ('Lee', 'PERSON'), ('Lee', 'PERSON'), ('Lee', 'PERSON'), ('Lee', 'PERSON'), ('Lee', 'PERSON'), ('Lee', 'PERSON'), ('Lee', 'PERSON'), ('Lee', 'PERSON'), ('Lee', 'PERSON'), ('Lee', 'PERSON'), ('Lee', 'PERSON'), ('Lee', 'PERSON'), ('Lee', 'PERSON'), ('Lee', 'PERSON'), ('Lee', 'PERSON'), ('Lee', 'PERSON'), ('Lee', 'PERSON'), ('Lee', 'PERSON'), ('Lee', 'PERSON'), ('Lee', 'PERSON'), ('Lee', 'PERSON'), ('Lee', 'PERSON'), ('Lee', 'PERSON'), ('Lee', 'PERSON'), ('Lee', 'PERSON'), ('Lee', 'PERSON'), ('Lee', 'PERSON'), ('Lee', 'PERSON'), ('Lee', 'PERSON'), ('Lee', 'PERSON'), ('Lee', 'PERSON'), ('Lee', 'PERSON'), ('Lee', 'PERSON'), ('Lee', 'PERSON'), ('Lee', 'PERSON'), ('Lee', 'PERSON'), ('Lee', 'PERSON'), ('Lee', 'PERSON'), ('Lee', 'PERSON'), ('Lee', 'PERSON'), ('Lee', 'PERSON'), ('Lee', 'PERSON'), ('Lee', 'PERSON'), ('Lee', 'PERSON'), ('Lee', 'PERSON'), ('Lee', 'PERSON'), ('Lee', 'PERSON'), ('Lee', 'PERSON'), ('Lee', 'PERSON'), ('Lee', 'PERSON'), ('Lee', 'PERSON'), ('Lee', 'PERSON'), ('Lee', 'PERSON'), ('Lee', 'PERSON'), ('Lee', 'PERSON'), ('Lee', 'PERSON'), ('Lee', 'PERSON'),"
     ]
    },
    {
     "name": "stderr",
     "output_type": "stream",
     "text": [
      "  5%|▌         | 1/20 [00:17<05:30, 17.38s/it]"
     ]
    },
    {
     "name": "stdout",
     "output_type": "stream",
     "text": [
      "('Lee', 'PERSON'), ('Lee', 'PERSON'), ('Lee', 'PERSON'), ('Lee', 'PERSON'), ('Lee', 'PERSON'), ('Lee', 'PERSON'), ('Lee', 'PERSON'), ('Lee', 'PERSON'), ('Lee', 'PERSON'), ('Lee', 'PERSON'), ('Lee', 'PERSON'), ('Lee', 'PERSON'), ('Lee', 'PERSON'), ('Lee', 'PERSON'), ('Lee', 'PERSON'), ('Lee', 'PERSON'), ('Lee', 'PERSON'), ('Lee', 'PERSON'), ('Lee', 'PERSON'), ('Lee', 'PERSON'), ('Lee', 'PERSON'), ('Lee', 'PERSON'), ('Lee', 'PERSON'), ('Lee', 'PERSON'), ('Lee', 'PERSON'), ('Lee', 'PERSON'), ('Lee', 'PERSON'), ('Lee', 'PERSON'), ('Lee', 'PERSON'), ('Lee', 'PERSON'), ('Lee', 'PERSON'), ('Lee', 'PERSON'), ('Lee', 'PERSON'), ('Lee', 'PERSON'), ('Lee', 'PERSON'), ('Lee', 'PERSON'), ('Lee', 'PERSON'), ('Lee', 'PERSON'), ('Lee', 'PERSON'), ('Lee', 'PERSON'), ('Lee', 'PERSON'), ('Lee', 'PERSON'), ('Lee', 'PERSON'), ('Lee', 'PERSON'), ('Lee', 'PERSON'), ('Lee', 'PERSON'), ('Lee', 'PERSON'), ('Lee', 'PERSON'), ('Lee', 'PERSON'), ('Lee', 'PERSON'), ('Lee', 'PERSON'), ('Lee', 'PERSON'), ('Lee', 'PERSON'), ('Lee', 'PERSON'), ('Lee', 'PERSON'), ('Lee', 'PERSON'), ('Lee', 'PERSON'), ('Lee', 'PERSON'), ('Lee', 'PERSON'), ('Lee', 'PERSON'), ('Lee', 'PERSON'), ('Lee', 'PERSON'), ('Lee', 'PERSON'), ('Lee', 'PERSON'), [\n",
      "-----------------------------------------------\n",
      "response does not contain [()]. Returned [('Lee', 'PERSON'), ('Lee', 'PERSON'), ('Lee', 'PERSON'), ('Lee', 'PERSON'), ('Lee', 'PERSON'), ('Lee', 'PERSON'), ('Lee', 'PERSON'), ('Lee', 'PERSON'), ('Lee', 'PERSON'), ('Lee', 'PERSON'), ('Lee', 'PERSON'), ('Lee', 'PERSON'), ('Lee', 'PERSON'), ('Lee', 'PERSON'), ('Lee', 'PERSON'), ('Lee', 'PERSON'), ('Lee', 'PERSON'), ('Lee', 'PERSON'), ('Lee', 'PERSON'), ('Lee', 'PERSON'), ('Lee', 'PERSON'), ('Lee', 'PERSON'), ('Lee', 'PERSON'), ('Lee', 'PERSON'), ('Lee', 'PERSON'), ('Lee', 'PERSON'), ('Lee', 'PERSON'), ('Lee', 'PERSON'), ('Lee', 'PERSON'), ('Lee', 'PERSON'), ('Lee', 'PERSON'), ('Lee', 'PERSON'), ('Lee', 'PERSON'), ('Lee', 'PERSON'), ('Lee', 'PERSON'), ('Lee', 'PERSON'), ('Lee', 'PERSON'), ('Lee', 'PERSON'), ('Lee', 'PERSON'), ('Lee', 'PERSON'), ('Lee', 'PERSON'), ('Lee', 'PERSON'), ('Lee', 'PERSON'), ('Lee', 'PERSON'), ('Lee', 'PERSON'), ('Lee', 'PERSON'), ('Lee', 'PERSON'), ('Lee', 'PERSON'), ('Lee', 'PERSON'), ('Lee', 'PERSON'), ('Lee', 'PERSON'), ('Lee', 'PERSON'), ('Lee', 'PERSON'), ('Lee', 'PERSON'), ('Lee', 'PERSON'), ('Lee', 'PERSON'), ('Lee', 'PERSON'), ('Lee', 'PERSON'), ('Lee', 'PERSON'), ('Lee', 'PERSON'), ('Lee', 'PERSON'), ('Lee', 'PERSON'), ('Lee', 'PERSON'), ('Lee', 'PERSON'),\n",
      "-----------------------------------------------\n",
      "('India', 'GPE'), ('Putin', 'PERSON'), ('Russia', 'GPE'), ('India', 'GPE')] "
     ]
    },
    {
     "name": "stderr",
     "output_type": "stream",
     "text": [
      " 10%|█         | 2/20 [00:19<02:35,  8.63s/it]"
     ]
    },
    {
     "name": "stdout",
     "output_type": "stream",
     "text": [
      "('India', 'GPE'), ('Putin', 'PERSON'), ('Russia', 'GPE'), ('India', 'GPE')]  [\n",
      "('We', 'NORP')] "
     ]
    },
    {
     "name": "stderr",
     "output_type": "stream",
     "text": [
      " 15%|█▌        | 3/20 [00:21<01:32,  5.43s/it]"
     ]
    },
    {
     "name": "stdout",
     "output_type": "stream",
     "text": [
      "('We', 'NORP')]  [\n",
      "('national', 'NORP'), ('character', 'NORP'), ('main', 'NORP'), ('system', 'NORP'), ('after', 'NORP'), ('over', 'NORP'), ('half', 'NORP'), ('century', 'NORP'), ('of', 'NORP'), ('international', 'NORP'), ('and', 'NORP'), ('domestic', 'NORP'), ('political', 'NORP'), ('transformation', 'NORP'), ('is', 'NORP'), ('a', 'NORP'), ('stronger', 'NORP'), ('proof', 'NORP'), ('that', 'NORP'), ('it', 'NORP'), ('is', 'NORP'), ('the', 'NORP'), ('milestone', 'NORP'), ('for', 'NORP'), ('a', 'NORP'), ('new', 'NORP'), ('civilization', 'NORP'), ('resulted', 'NORP'), ('from', 'NORP'), ('the', 'NORP'), ('blood', 'NORP'), ('and', 'NORP'), ('sweat', 'NORP'), ('of', 'NORP'), ('thousands', 'NORP'), ('of', 'NORP'), ('proletarian', 'NORP'), ('revolutionary', 'NORP'), ('martyrs', 'NORP')] "
     ]
    },
    {
     "name": "stderr",
     "output_type": "stream",
     "text": [
      " 20%|██        | 4/20 [00:32<02:04,  7.81s/it]"
     ]
    },
    {
     "name": "stdout",
     "output_type": "stream",
     "text": [
      "('national', 'NORP'), ('character', 'NORP'), ('main', 'NORP'), ('system', 'NORP'), ('after', 'NORP'), ('over', 'NORP'), ('half', 'NORP'), ('century', 'NORP'), ('of', 'NORP'), ('international', 'NORP'), ('and', 'NORP'), ('domestic', 'NORP'), ('political', 'NORP'), ('transformation', 'NORP'), ('is', 'NORP'), ('a', 'NORP'), ('stronger', 'NORP'), ('proof', 'NORP'), ('that', 'NORP'), ('it', 'NORP'), ('is', 'NORP'), ('the', 'NORP'), ('milestone', 'NORP'), ('for', 'NORP'), ('a', 'NORP'), ('new', 'NORP'), ('civilization', 'NORP'), ('resulted', 'NORP'), ('from', 'NORP'), ('the', 'NORP'), ('blood', 'NORP'), ('and', 'NORP'), ('sweat', 'NORP'), ('of', 'NORP'), ('thousands', 'NORP'), ('of', 'NORP'), ('proletarian', 'NORP'), ('revolutionary', 'NORP'), ('martyrs', 'NORP')]  [\n",
      "('He', 'PERSON'), ('the Mahdi Army', 'ORG'), ('Iran', 'GPE'), ('Sadr City', 'GPE')] "
     ]
    },
    {
     "name": "stderr",
     "output_type": "stream",
     "text": [
      " 25%|██▌       | 5/20 [00:35<01:28,  5.91s/it]"
     ]
    },
    {
     "name": "stdout",
     "output_type": "stream",
     "text": [
      "('He', 'PERSON'), ('the Mahdi Army', 'ORG'), ('Iran', 'GPE'), ('Sadr City', 'GPE')]  [\n",
      "('Zibo City', 'GPE'), ('Zhangdian District', 'GPE'), ('Zhangdian District', 'GPE')] "
     ]
    },
    {
     "name": "stderr",
     "output_type": "stream",
     "text": [
      " 30%|███       | 6/20 [00:37<01:05,  4.71s/it]"
     ]
    },
    {
     "name": "stdout",
     "output_type": "stream",
     "text": [
      "('Zibo City', 'GPE'), ('Zhangdian District', 'GPE'), ('Zhangdian District', 'GPE')]  [\n",
      "('the New York Times', 'ORG'), ('Ramadan', 'DATE'), ('a Shiite mosque', 'FAC')] "
     ]
    },
    {
     "name": "stderr",
     "output_type": "stream",
     "text": [
      " 35%|███▌      | 7/20 [00:40<00:51,  3.97s/it]"
     ]
    },
    {
     "name": "stdout",
     "output_type": "stream",
     "text": [
      "('the New York Times', 'ORG'), ('Ramadan', 'DATE'), ('a Shiite mosque', 'FAC')]  [\n",
      "('But', 'ORDINAL'), ('we', 'PERSON'), ('felt', 'VERB'), ('that', 'CONJUNCTION'), ('the', 'DET'), ('service', 'PRODUCT'), ('left', 'VERB'), ('something', 'CARDINAL'), ('to', 'CONJUNCTION'), ('be', 'VERB'), ('desired', 'VERB'), (',', 'PUNCTUATION'), ('and', 'CONJUNCTION'), ('that', 'CONJUNCTION'), ('a', 'DET'), ('lot', 'CARDINAL'), ('of', 'CONJUNCTION'), ('time', 'TIME'), ('would', 'VERB'), ('always', 'CARDINAL'), ('be', 'VERB'), ('wasted', 'VERB'), ('while', 'CONJUNCTION'), ('holders', 'PERSON'), ('of', 'CONJUNCTION'), ('Taiwanese', 'GPE'), ('Compatriot', 'PRODUCT'), ('Visas', 'PRODUCT'), ('cleared', 'VERB'), ('customs', 'FAC'), ('', 'PUNCTUATION')] "
     ]
    },
    {
     "name": "stderr",
     "output_type": "stream",
     "text": [
      " 40%|████      | 8/20 [00:49<01:08,  5.67s/it]"
     ]
    },
    {
     "name": "stdout",
     "output_type": "stream",
     "text": [
      "('But', 'ORDINAL'), ('we', 'PERSON'), ('felt', 'VERB'), ('that', 'CONJUNCTION'), ('the', 'DET'), ('service', 'PRODUCT'), ('left', 'VERB'), ('something', 'CARDINAL'), ('to', 'CONJUNCTION'), ('be', 'VERB'), ('desired', 'VERB'), (',', 'PUNCTUATION'), ('and', 'CONJUNCTION'), ('that', 'CONJUNCTION'), ('a', 'DET'), ('lot', 'CARDINAL'), ('of', 'CONJUNCTION'), ('time', 'TIME'), ('would', 'VERB'), ('always', 'CARDINAL'), ('be', 'VERB'), ('wasted', 'VERB'), ('while', 'CONJUNCTION'), ('holders', 'PERSON'), ('of', 'CONJUNCTION'), ('Taiwanese', 'GPE'), ('Compatriot', 'PRODUCT'), ('Visas', 'PRODUCT'), ('cleared', 'VERB'), ('customs', 'FAC'), ('', 'PUNCTUATION')]  [\n",
      "('In', 'TIME'), ('a', 'TIME'), ('separate', 'TIME'), ('first', 'TIME'), ('person', 'TIME'), ('account', 'TIME'), ('Miller', 'PERSON'), ('confirmed', 'TIME'), ('that', 'TIME'), ('she', 'PERSON'), ('told', 'TIME'), ('the', 'TIME'), ('grand', 'TIME'), ('jury', 'TIME'), ('that', 'TIME'), ('Scooter', 'PERSON'), ('Libby', 'PERSON'), ('Dick', 'PERSON'), ('Cheney', 'PERSON'), ('s', 'TIME'), ('top', 'TIME'), ('aide', 'TIME'), ('discussed', 'TIME'), ('with', 'TIME'), ('her', 'PERSON'), ('as', 'TIME'), ('many', 'TIME'), ('as', 'TIME'), ('three', 'TIME'), ('times', 'TIME'), ('the', 'TIME'), ('role', 'TIME'), ('of', 'TIME'), ('Valerie', 'PERSON'), ('Plame', 'PERSON'), ('as', 'TIME'), ('a', 'TIME'), ('CIA', 'ORG'), ('employee', 'TIME')] "
     ]
    },
    {
     "name": "stderr",
     "output_type": "stream",
     "text": [
      " 45%|████▌     | 9/20 [00:58<01:14,  6.81s/it]"
     ]
    },
    {
     "name": "stdout",
     "output_type": "stream",
     "text": [
      "('In', 'TIME'), ('a', 'TIME'), ('separate', 'TIME'), ('first', 'TIME'), ('person', 'TIME'), ('account', 'TIME'), ('Miller', 'PERSON'), ('confirmed', 'TIME'), ('that', 'TIME'), ('she', 'PERSON'), ('told', 'TIME'), ('the', 'TIME'), ('grand', 'TIME'), ('jury', 'TIME'), ('that', 'TIME'), ('Scooter', 'PERSON'), ('Libby', 'PERSON'), ('Dick', 'PERSON'), ('Cheney', 'PERSON'), ('s', 'TIME'), ('top', 'TIME'), ('aide', 'TIME'), ('discussed', 'TIME'), ('with', 'TIME'), ('her', 'PERSON'), ('as', 'TIME'), ('many', 'TIME'), ('as', 'TIME'), ('three', 'TIME'), ('times', 'TIME'), ('the', 'TIME'), ('role', 'TIME'), ('of', 'TIME'), ('Valerie', 'PERSON'), ('Plame', 'PERSON'), ('as', 'TIME'), ('a', 'TIME'), ('CIA', 'ORG'), ('employee', 'TIME')]  [\n",
      "('United States', 'GPE'), ('United States', 'GPE'), ('United States', 'GPE'), ('United States', 'GPE'), ('United States', 'GPE'), ('United States', 'GPE'), ('United States', 'GPE'), ('United States', 'GPE'), ('United States', 'GPE'), ('United States', 'GPE'), ('United States', 'GPE'), ('United States', 'GPE'), ('United States', 'GPE'), ('United States', 'GPE'), ('United States', 'GPE'), ('United States', 'GPE'), ('United States', 'GPE'), ('United States', 'GPE'), ('United States', 'GPE'), ('United States', 'GPE'), ('United States', 'GPE'), ('United States', 'GPE'), ('United States', 'GPE'), ('United States', 'GPE'), ('United States', 'GPE'), ('United States', 'GPE'), ('United States', 'GPE'), ('United States', 'GPE'), ('United States', 'GPE'), ('United States', 'GPE'), ('United States', 'GPE'), ('United States', 'GPE'), ('United States', 'GPE'), ('United States', 'GPE'), ('United States', 'GPE'), ('United States', 'GPE'), ('United States', 'GPE'), ('United States', 'GPE'), ('United States', 'GPE'), ('United States', 'GPE'), ('United States', 'GPE'), ('United States', 'GPE'), ('United States', 'GPE'), ('United States', 'GPE'), ('United States', 'GPE'), ('United States', 'GPE'), ('United States', 'GPE'), ('United States', 'GPE'), ('United States', 'GPE'), ('United States', 'GPE'), ('United States', 'GPE'), ('United States', 'GPE'), ('United States', 'GPE'), ('United States', 'GPE'), ('United States', 'GPE'), ('United States', 'GPE'), ('United States', 'GPE"
     ]
    },
    {
     "name": "stderr",
     "output_type": "stream",
     "text": [
      " 50%|█████     | 10/20 [01:15<01:39,  9.96s/it]"
     ]
    },
    {
     "name": "stdout",
     "output_type": "stream",
     "text": [
      "('United States', 'GPE'), ('United States', 'GPE'), ('United States', 'GPE'), ('United States', 'GPE'), ('United States', 'GPE'), ('United States', 'GPE'), ('United States', 'GPE'), ('United States', 'GPE'), ('United States', 'GPE'), ('United States', 'GPE'), ('United States', 'GPE'), ('United States', 'GPE'), ('United States', 'GPE'), ('United States', 'GPE'), ('United States', 'GPE'), ('United States', 'GPE'), ('United States', 'GPE'), ('United States', 'GPE'), ('United States', 'GPE'), ('United States', 'GPE'), ('United States', 'GPE'), ('United States', 'GPE'), ('United States', 'GPE'), ('United States', 'GPE'), ('United States', 'GPE'), ('United States', 'GPE'), ('United States', 'GPE'), ('United States', 'GPE'), ('United States', 'GPE'), ('United States', 'GPE'), ('United States', 'GPE'), ('United States', 'GPE'), ('United States', 'GPE'), ('United States', 'GPE'), ('United States', 'GPE'), ('United States', 'GPE'), ('United States', 'GPE'), ('United States', 'GPE'), ('United States', 'GPE'), ('United States', 'GPE'), ('United States', 'GPE'), ('United States', 'GPE'), ('United States', 'GPE'), ('United States', 'GPE'), ('United States', 'GPE'), ('United States', 'GPE'), ('United States', 'GPE'), ('United States', 'GPE'), ('United States', 'GPE'), ('United States', 'GPE'), ('United States', 'GPE'), ('United States', 'GPE'), ('United States', 'GPE'), ('United States', 'GPE'), ('United States', 'GPE'), ('United States', 'GPE'), ('United States', 'GPE [\n",
      "-----------------------------------------------\n",
      "response does not contain [()]. Returned [('United States', 'GPE'), ('United States', 'GPE'), ('United States', 'GPE'), ('United States', 'GPE'), ('United States', 'GPE'), ('United States', 'GPE'), ('United States', 'GPE'), ('United States', 'GPE'), ('United States', 'GPE'), ('United States', 'GPE'), ('United States', 'GPE'), ('United States', 'GPE'), ('United States', 'GPE'), ('United States', 'GPE'), ('United States', 'GPE'), ('United States', 'GPE'), ('United States', 'GPE'), ('United States', 'GPE'), ('United States', 'GPE'), ('United States', 'GPE'), ('United States', 'GPE'), ('United States', 'GPE'), ('United States', 'GPE'), ('United States', 'GPE'), ('United States', 'GPE'), ('United States', 'GPE'), ('United States', 'GPE'), ('United States', 'GPE'), ('United States', 'GPE'), ('United States', 'GPE'), ('United States', 'GPE'), ('United States', 'GPE'), ('United States', 'GPE'), ('United States', 'GPE'), ('United States', 'GPE'), ('United States', 'GPE'), ('United States', 'GPE'), ('United States', 'GPE'), ('United States', 'GPE'), ('United States', 'GPE'), ('United States', 'GPE'), ('United States', 'GPE'), ('United States', 'GPE'), ('United States', 'GPE'), ('United States', 'GPE'), ('United States', 'GPE'), ('United States', 'GPE'), ('United States', 'GPE'), ('United States', 'GPE'), ('United States', 'GPE'), ('United States', 'GPE'), ('United States', 'GPE'), ('United States', 'GPE'), ('United States', 'GPE'), ('United States', 'GPE'), ('United States', 'GPE'), ('United States', 'GPE\n",
      "-----------------------------------------------\n",
      "('Valerie Plame', 'PERSON'), ('Bob Novak', 'PERSON')] "
     ]
    },
    {
     "name": "stderr",
     "output_type": "stream",
     "text": [
      " 55%|█████▌    | 11/20 [01:17<01:07,  7.53s/it]"
     ]
    },
    {
     "name": "stdout",
     "output_type": "stream",
     "text": [
      "('Valerie Plame', 'PERSON'), ('Bob Novak', 'PERSON')]  [\n",
      "('Christopher', 'PERSON'), ('Nobel Prize Committee', 'ORG'), ('literature', 'ORG'), ('history', 'ORG'), ('writer', 'PERSON'), ('individual', 'PERSON')] "
     ]
    },
    {
     "name": "stderr",
     "output_type": "stream",
     "text": [
      " 60%|██████    | 12/20 [01:21<00:49,  6.17s/it]"
     ]
    },
    {
     "name": "stdout",
     "output_type": "stream",
     "text": [
      "('Christopher', 'PERSON'), ('Nobel Prize Committee', 'ORG'), ('literature', 'ORG'), ('history', 'ORG'), ('writer', 'PERSON'), ('individual', 'PERSON')]  [\n",
      "('Inflation', 'EVENT'), ('winter', 'DATE'), ('world', 'GPE'), ('oil', 'PRODUCT'), ('double', 'QUANTITY')] "
     ]
    },
    {
     "name": "stderr",
     "output_type": "stream",
     "text": [
      " 65%|██████▌   | 13/20 [01:23<00:35,  5.08s/it]"
     ]
    },
    {
     "name": "stdout",
     "output_type": "stream",
     "text": [
      "('Inflation', 'EVENT'), ('winter', 'DATE'), ('world', 'GPE'), ('oil', 'PRODUCT'), ('double', 'QUANTITY')]  [\n",
      "('Clinton', 'PERSON'), ('Sixty Minutes', 'ORG'), ('Washington Post', 'ORG')] "
     ]
    },
    {
     "name": "stderr",
     "output_type": "stream",
     "text": [
      " 70%|███████   | 14/20 [01:25<00:25,  4.23s/it]"
     ]
    },
    {
     "name": "stdout",
     "output_type": "stream",
     "text": [
      "('Clinton', 'PERSON'), ('Sixty Minutes', 'ORG'), ('Washington Post', 'ORG')]  [\n",
      "('Amperex Electronics Corp.', 'ORG'), ('North American Philips Corp.', 'ORG'), ('N.V . Philips', 'ORG')] "
     ]
    },
    {
     "name": "stderr",
     "output_type": "stream",
     "text": [
      " 75%|███████▌  | 15/20 [01:28<00:18,  3.77s/it]"
     ]
    },
    {
     "name": "stdout",
     "output_type": "stream",
     "text": [
      "('Amperex Electronics Corp.', 'ORG'), ('North American Philips Corp.', 'ORG'), ('N.V . Philips', 'ORG')]  [\n",
      "('Mao - tai', 'ORG'), ('China', 'GPE'), ('Cognac', 'PRODUCT'), ('Scotch whiskey', 'PRODUCT')] "
     ]
    },
    {
     "name": "stderr",
     "output_type": "stream",
     "text": [
      " 80%|████████  | 16/20 [01:31<00:13,  3.42s/it]"
     ]
    },
    {
     "name": "stdout",
     "output_type": "stream",
     "text": [
      "('Mao - tai', 'ORG'), ('China', 'GPE'), ('Cognac', 'PRODUCT'), ('Scotch whiskey', 'PRODUCT')]  [\n",
      "('China', 'GPE')] "
     ]
    },
    {
     "name": "stderr",
     "output_type": "stream",
     "text": [
      " 85%|████████▌ | 17/20 [01:32<00:08,  2.89s/it]"
     ]
    },
    {
     "name": "stdout",
     "output_type": "stream",
     "text": [
      "('China', 'GPE')]  [\n",
      "('personal income tax', 'MONEY')] "
     ]
    },
    {
     "name": "stderr",
     "output_type": "stream",
     "text": [
      " 90%|█████████ | 18/20 [01:34<00:05,  2.53s/it]"
     ]
    },
    {
     "name": "stdout",
     "output_type": "stream",
     "text": [
      "('personal income tax', 'MONEY')]  [\n",
      "('China', 'GPE')] "
     ]
    },
    {
     "name": "stderr",
     "output_type": "stream",
     "text": [
      " 95%|█████████▌| 19/20 [01:36<00:02,  2.27s/it]"
     ]
    },
    {
     "name": "stdout",
     "output_type": "stream",
     "text": [
      "('China', 'GPE')]  [\n",
      "('24 hours', 'TIME'), ('Ed Turner', 'PERSON'), ('CNN', 'ORG'), ('Ted Turner', 'PERSON')] "
     ]
    },
    {
     "name": "stderr",
     "output_type": "stream",
     "text": [
      "100%|██████████| 20/20 [01:38<00:00,  4.94s/it]"
     ]
    },
    {
     "name": "stdout",
     "output_type": "stream",
     "text": [
      "('24 hours', 'TIME'), ('Ed Turner', 'PERSON'), ('CNN', 'ORG'), ('Ted Turner', 'PERSON')]  [\n"
     ]
    },
    {
     "name": "stderr",
     "output_type": "stream",
     "text": [
      "\n"
     ]
    },
    {
     "name": "stdout",
     "output_type": "stream",
     "text": [
      "      and wrapper\n",
      "./ner/saves/datasets/ontonote5_test_1403.pkl\n",
      "<ner.Datasets.OntoNotes5Dataset.OntoNote5Dataset object at 0x7f00fc7f6680>\n"
     ]
    },
    {
     "name": "stderr",
     "output_type": "stream",
     "text": [
      "  0%|          | 0/20 [00:00<?, ?it/s]"
     ]
    },
    {
     "name": "stdout",
     "output_type": "stream",
     "text": [
      " Well , from this footage , we can see that , ha , at <GPE>East Third Ring Road</GPE> , ah , near <FAC>Guanghua Bridge</FAC> , the roads here that lead to the vicinity of <FAC>Jingguang Bridge</FAC> have come under control and , well , various kinds of signs have also been placed at very conspicuous locations . "
     ]
    },
    {
     "name": "stderr",
     "output_type": "stream",
     "text": [
      "  5%|▌         | 1/20 [00:04<01:25,  4.52s/it]"
     ]
    },
    {
     "name": "stdout",
     "output_type": "stream",
     "text": [
      " Well , from this footage , we can see that , ha , at <GPE>East Third Ring Road</GPE> , ah , near <FAC>Guanghua Bridge</FAC> , the roads here that lead to the vicinity of <FAC>Jingguang Bridge</FAC> have come under control and , well , various kinds of signs have also been placed at very conspicuous locations .  \n",
      " I was very disappointed that the political leadership of the United States uh would tell the families of these nineteen heroes that we were going to leave no stone unturned and find the people who killed them /. "
     ]
    },
    {
     "name": "stderr",
     "output_type": "stream",
     "text": [
      " 10%|█         | 2/20 [00:06<00:53,  2.96s/it]"
     ]
    },
    {
     "name": "stdout",
     "output_type": "stream",
     "text": [
      " I was very disappointed that the political leadership of the United States uh would tell the families of these nineteen heroes that we were going to leave no stone unturned and find the people who killed them /.  \n",
      " Finally , the tarp drops , and it is , of course , a gargantuan , bronze statue of Michael , fists clenched defiantly , his star insignia prominent , yet his face still somehow child - like and unthreatening . "
     ]
    },
    {
     "name": "stderr",
     "output_type": "stream",
     "text": [
      " 15%|█▌        | 3/20 [00:09<00:50,  2.99s/it]"
     ]
    },
    {
     "name": "stdout",
     "output_type": "stream",
     "text": [
      " Finally , the tarp drops , and it is , of course , a gargantuan , bronze statue of Michael , fists clenched defiantly , his star insignia prominent , yet his face still somehow child - like and unthreatening .  \n",
      " China 's population currently stands at <CARDINAL>1.26 billion</CARDINAL> , still the largest in the world , but the paper says that if it were n't for the one child policy that figure would be <CARDINAL>300 million</CARDINAL> higher . "
     ]
    },
    {
     "name": "stderr",
     "output_type": "stream",
     "text": [
      " 20%|██        | 4/20 [00:12<00:51,  3.21s/it]"
     ]
    },
    {
     "name": "stdout",
     "output_type": "stream",
     "text": [
      " China 's population currently stands at <CARDINAL>1.26 billion</CARDINAL> , still the largest in the world , but the paper says that if it were n't for the one child policy that figure would be <CARDINAL>300 million</CARDINAL> higher .  \n",
      " As your editorial rightly pointed out , <PERSON>Samuel Pierce</PERSON> , former <ORG>HUD</ORG> secretary , and <PERSON>Lance Wilson</PERSON> , Mr. Pierce 's former aide , `` are currently being held up to scorn for taking the <LAW>Fifth Amendment</LAW> . "
     ]
    },
    {
     "name": "stderr",
     "output_type": "stream",
     "text": [
      " 25%|██▌       | 5/20 [00:16<00:52,  3.51s/it]"
     ]
    },
    {
     "name": "stdout",
     "output_type": "stream",
     "text": [
      " As your editorial rightly pointed out , <PERSON>Samuel Pierce</PERSON> , former <ORG>HUD</ORG> secretary , and <PERSON>Lance Wilson</PERSON> , Mr. Pierce 's former aide , `` are currently being held up to scorn for taking the <LAW>Fifth Amendment</LAW> .  \n",
      " The best moments in the show occur at the beginning and the end -LRB- and occasionally in the middle -RRB- , when <PERSON>Mr. Mason</PERSON> slips into his standup mode and starts meting out that old - fashioned <NORP>Jewish</NORP> mischief to other people as well as to himself . "
     ]
    },
    {
     "name": "stderr",
     "output_type": "stream",
     "text": [
      " 30%|███       | 6/20 [00:20<00:50,  3.63s/it]"
     ]
    },
    {
     "name": "stdout",
     "output_type": "stream",
     "text": [
      " The best moments in the show occur at the beginning and the end -LRB- and occasionally in the middle -RRB- , when <PERSON>Mr. Mason</PERSON> slips into his standup mode and starts meting out that old - fashioned <NORP>Jewish</NORP> mischief to other people as well as to himself .  \n",
      " But with the <GPE>US</GPE> gas price including taxes even lower than <GPE>China</GPE> 's gas price excluding taxes , you can see how much money <ORG>Chinese</ORG> oil companies have made out of this . "
     ]
    },
    {
     "name": "stderr",
     "output_type": "stream",
     "text": [
      " 35%|███▌      | 7/20 [00:24<00:45,  3.48s/it]"
     ]
    },
    {
     "name": "stdout",
     "output_type": "stream",
     "text": [
      " But with the <GPE>US</GPE> gas price including taxes even lower than <GPE>China</GPE> 's gas price excluding taxes , you can see how much money <ORG>Chinese</ORG> oil companies have made out of this .  \n",
      " Well , looking at the government 's response to this cave - in accident , ah , we should say it was very prompt with traffic management and emergency repair , ah , because it involved various aspects of life . "
     ]
    },
    {
     "name": "stderr",
     "output_type": "stream",
     "text": [
      " 40%|████      | 8/20 [00:26<00:38,  3.21s/it]"
     ]
    },
    {
     "name": "stdout",
     "output_type": "stream",
     "text": [
      " Well , looking at the government 's response to this cave - in accident , ah , we should say it was very prompt with traffic management and emergency repair , ah , because it involved various aspects of life .  \n",
      " In fact , Budget indicated it saw some benefit to staying involved in these programs , in which renters earn frequent - flier miles and fliers can get car - rental discounts . "
     ]
    },
    {
     "name": "stderr",
     "output_type": "stream",
     "text": [
      " 45%|████▌     | 9/20 [00:29<00:32,  2.97s/it]"
     ]
    },
    {
     "name": "stdout",
     "output_type": "stream",
     "text": [
      " In fact , Budget indicated it saw some benefit to staying involved in these programs , in which renters earn frequent - flier miles and fliers can get car - rental discounts .  \n",
      " Should the courts uphold the validity of this type of defense , <ORG>ASKO</ORG> will then ask the court to overturn such a vote - diluting maneuver recently deployed by <ORG>Koninklijke Ahold NV</ORG> . "
     ]
    },
    {
     "name": "stderr",
     "output_type": "stream",
     "text": [
      " 50%|█████     | 10/20 [00:32<00:31,  3.10s/it]"
     ]
    },
    {
     "name": "stdout",
     "output_type": "stream",
     "text": [
      " Should the courts uphold the validity of this type of defense , <ORG>ASKO</ORG> will then ask the court to overturn such a vote - diluting maneuver recently deployed by <ORG>Koninklijke Ahold NV</ORG> .  \n",
      " We do not hope to see the work of the <ORG>UN</ORG> population fund receiving interference or even being diverted from its principles and mission due to pressure from the <GPE>US</GPE> . \" "
     ]
    },
    {
     "name": "stderr",
     "output_type": "stream",
     "text": [
      " 55%|█████▌    | 11/20 [00:35<00:27,  3.06s/it]"
     ]
    },
    {
     "name": "stdout",
     "output_type": "stream",
     "text": [
      " We do not hope to see the work of the <ORG>UN</ORG> population fund receiving interference or even being diverted from its principles and mission due to pressure from the <GPE>US</GPE> . \"  \n",
      " Secretary Rice announced about a month ago that should the <NORP><GPE>Iran</GPE>ians meet the condition of suspension of their own nuclear activities we 'd be willing to sit down in another multilateral forum /. "
     ]
    },
    {
     "name": "stderr",
     "output_type": "stream",
     "text": [
      " 60%|██████    | 12/20 [00:38<00:24,  3.02s/it]"
     ]
    },
    {
     "name": "stdout",
     "output_type": "stream",
     "text": [
      " Secretary Rice announced about a month ago that should the <NORP><GPE>Iran</GPE>ians meet the condition of suspension of their own nuclear activities we 'd be willing to sit down in another multilateral forum /.  \n",
      " <DATE>Inflation</DATE> unquestionably has fallen back from its torrid pace last <DATE>winter</DATE> , when a steep run - up in world oil prices sent the index surging at double - digit annual rates . "
     ]
    },
    {
     "name": "stderr",
     "output_type": "stream",
     "text": [
      " 65%|██████▌   | 13/20 [00:40<00:19,  2.75s/it]"
     ]
    },
    {
     "name": "stdout",
     "output_type": "stream",
     "text": [
      " <DATE>Inflation</DATE> unquestionably has fallen back from its torrid pace last <DATE>winter</DATE> , when a steep run - up in world oil prices sent the index surging at double - digit annual rates .  \n",
      " So , on the issue of oil consumption , I think <GPE>China</GPE> and the <GPE>US</GPE> , the No. 1 and No. 2 oil consumers in the world , are also a funny pair . "
     ]
    },
    {
     "name": "stderr",
     "output_type": "stream",
     "text": [
      " 70%|███████   | 14/20 [00:43<00:17,  2.85s/it]"
     ]
    },
    {
     "name": "stdout",
     "output_type": "stream",
     "text": [
      " So , on the issue of oil consumption , I think <GPE>China</GPE> and the <GPE>US</GPE> , the No. 1 and No. 2 oil consumers in the world , are also a funny pair .  \n",
      " How <PERSON>president Chen Shui - bian</PERSON> responds to this proposal will determine whether or not the \" <CARDINAL>one</CARDINAL> <GPE>China</GPE> \" stalemate can be broken , and if there is to be a set timetable for implementing the three direct links . "
     ]
    },
    {
     "name": "stderr",
     "output_type": "stream",
     "text": [
      " 75%|███████▌  | 15/20 [00:47<00:15,  3.17s/it]"
     ]
    },
    {
     "name": "stdout",
     "output_type": "stream",
     "text": [
      " How <PERSON>president Chen Shui - bian</PERSON> responds to this proposal will determine whether or not the \" <CARDINAL>one</CARDINAL> <GPE>China</GPE> \" stalemate can be broken , and if there is to be a set timetable for implementing the three direct links .  \n",
      " Our production relations are no different from the production relations in Marx 's \" Das Kapital , \" constantly reproducing a proletariat who can only rely on selling its labor to make a living . "
     ]
    },
    {
     "name": "stderr",
     "output_type": "stream",
     "text": [
      " 80%|████████  | 16/20 [00:50<00:12,  3.02s/it]"
     ]
    },
    {
     "name": "stdout",
     "output_type": "stream",
     "text": [
      " Our production relations are no different from the production relations in Marx 's \" Das Kapital , \" constantly reproducing a proletariat who can only rely on selling its labor to make a living .  \n",
      " International societies represented by the <ORG>United Nations Development and Planning Office</ORG> and the <ORG>Industrial Development Organization</ORG> have always given active support and effective promotion to the <LOC>Tumen River</LOC> region 's international cooperation and development program . "
     ]
    },
    {
     "name": "stderr",
     "output_type": "stream",
     "text": [
      " 85%|████████▌ | 17/20 [00:53<00:09,  3.13s/it]"
     ]
    },
    {
     "name": "stdout",
     "output_type": "stream",
     "text": [
      " International societies represented by the <ORG>United Nations Development and Planning Office</ORG> and the <ORG>Industrial Development Organization</ORG> have always given active support and effective promotion to the <LOC>Tumen River</LOC> region 's international cooperation and development program .  \n",
      " Guangdong Province , fully utilizing its geographical advantage of being in close proximity to <GPE>Hong Kong</GPE> and <GPE>Macao</GPE> and being located in the <GPE>Asian tropics</GPE> , is vigorously developing extroverted agriculture . "
     ]
    },
    {
     "name": "stderr",
     "output_type": "stream",
     "text": [
      " 90%|█████████ | 18/20 [00:57<00:06,  3.22s/it]"
     ]
    },
    {
     "name": "stdout",
     "output_type": "stream",
     "text": [
      " Guangdong Province , fully utilizing its geographical advantage of being in close proximity to <GPE>Hong Kong</GPE> and <GPE>Macao</GPE> and being located in the <GPE>Asian tropics</GPE> , is vigorously developing extroverted agriculture .  \n",
      " Tonight on Israeli television , <PER>Prime Minister Barak</PER> said we can not go on as if nothing happened , and if the demonstrations do n't stop , <PER>Barak 's spokesman</PER> said Israel will continue to use live ammunition . "
     ]
    },
    {
     "name": "stderr",
     "output_type": "stream",
     "text": [
      " 95%|█████████▌| 19/20 [01:00<00:03,  3.29s/it]"
     ]
    },
    {
     "name": "stdout",
     "output_type": "stream",
     "text": [
      " Tonight on Israeli television , <PER>Prime Minister Barak</PER> said we can not go on as if nothing happened , and if the demonstrations do n't stop , <PER>Barak 's spokesman</PER> said Israel will continue to use live ammunition .  \n",
      " Biochips come in two main types : the microfluidics chip or \" lab - on - a - chip , \" and the microarray chip or \" DNA chip . \" "
     ]
    },
    {
     "name": "stderr",
     "output_type": "stream",
     "text": [
      "100%|██████████| 20/20 [01:02<00:00,  3.15s/it]"
     ]
    },
    {
     "name": "stdout",
     "output_type": "stream",
     "text": [
      " Biochips come in two main types : the microfluidics chip or \" lab - on - a - chip , \" and the microarray chip or \" DNA chip . \"  \n"
     ]
    },
    {
     "name": "stderr",
     "output_type": "stream",
     "text": [
      "\n"
     ]
    },
    {
     "name": "stdout",
     "output_type": "stream",
     "text": [
      "      and multi_prompt-get-entities-tagger\n",
      "./ner/saves/datasets/ontonote5_test_1403.pkl\n",
      "<ner.Datasets.OntoNotes5Dataset.OntoNote5Dataset object at 0x7f012c409b70>\n"
     ]
    },
    {
     "name": "stderr",
     "output_type": "stream",
     "text": [
      "  0%|          | 0/20 [00:00<?, ?it/s]"
     ]
    },
    {
     "name": "stdout",
     "output_type": "stream",
     "text": [
      " 'the 50 - 50 joint venture', '1.4 billion -LRB- $ 2.17 billion -RRB-']  'the 50 - 50 joint venture', '1.4 billion -LRB- $ 2.17 billion -RRB-']  [\n",
      "Output after the first prompt : ['the 50 - 50 joint venture', '1.4 billion -LRB- $ 2.17 billion -RRB-']\n",
      "\n",
      "'the 50 - 50 joint venture' : 'F',\n",
      "   '1.4 billion -LRB- $ 2.17 billion -RRB-' : '9',} "
     ]
    },
    {
     "name": "stderr",
     "output_type": "stream",
     "text": [
      "  5%|▌         | 1/20 [00:06<01:55,  6.06s/it]"
     ]
    },
    {
     "name": "stdout",
     "output_type": "stream",
     "text": [
      "\n",
      "'the 50 - 50 joint venture' : 'F',\n",
      "   '1.4 billion -LRB- $ 2.17 billion -RRB-' : '9',}  {\n",
      "response of tagger : {\n",
      "'the 50 - 50 joint venture' : 'F',\n",
      "   '1.4 billion -LRB- $ 2.17 billion -RRB-' : '9',}\n",
      " 'the Chinese government', 'the Hong Kong Special Administrative Region', \"the Hong Kong Special Administrative Region 's\", 'first', 'the National People 's Congress']  'the Chinese government', 'the Hong Kong Special Administrative Region', \"the Hong Kong Special Administrative Region 's\", 'first', 'the National People 's Congress']  [\n",
      "Output after the first prompt : []\n",
      "\n",
      "'the Chinese government' : 'B',\n",
      "   'the Hong Kong Special Administrative Region 's first legislative assembly and regional organizations' : 'B',\n",
      "   'the Basic Law' : 'B',\n",
      "   'relevant resolutions of the National People 's Congress' : 'B',} "
     ]
    },
    {
     "name": "stderr",
     "output_type": "stream",
     "text": [
      " 10%|█         | 2/20 [00:13<02:01,  6.78s/it]"
     ]
    },
    {
     "name": "stdout",
     "output_type": "stream",
     "text": [
      "\n",
      "'the Chinese government' : 'B',\n",
      "   'the Hong Kong Special Administrative Region 's first legislative assembly and regional organizations' : 'B',\n",
      "   'the Basic Law' : 'B',\n",
      "   'relevant resolutions of the National People 's Congress' : 'B',}  {\n",
      "response of tagger : {\n",
      "'the Chinese government' : 'B',\n",
      "   'the Hong Kong Special Administrative Region 's first legislative assembly and regional organizations' : 'B',\n",
      "   'the Basic Law' : 'B',\n",
      "   'relevant resolutions of the National People 's Congress' : 'B',}\n",
      " 'Taiwan', 'November 1999', 'the Uni-President Enterprises Group', 'Yuen Foong Yu', 'Tuntex Groups', 'April of this year' ]  'Taiwan', 'November 1999', 'the Uni-President Enterprises Group', 'Yuen Foong Yu', 'Tuntex Groups', 'April of this year' ]  [\n",
      "Output after the first prompt : ['Taiwan', 'November 1999', 'the Uni-President Enterprises Group', 'Yuen Foong Yu', 'Tuntex Groups', 'April of this year']\n",
      "\n",
      "'Taiwan' : 'E',\n",
      "   'November 1999' : '6',\n",
      "   'the Uni-President Enterprises Group' : 'B',\n",
      "   'Yuen Foong Yu' : 'B',\n",
      "   'Tuntex Groups' : 'B',\n",
      "   'April of this year' : '6',} "
     ]
    },
    {
     "name": "stderr",
     "output_type": "stream",
     "text": [
      " 15%|█▌        | 3/20 [00:21<02:07,  7.50s/it]"
     ]
    },
    {
     "name": "stdout",
     "output_type": "stream",
     "text": [
      "\n",
      "'Taiwan' : 'E',\n",
      "   'November 1999' : '6',\n",
      "   'the Uni-President Enterprises Group' : 'B',\n",
      "   'Yuen Foong Yu' : 'B',\n",
      "   'Tuntex Groups' : 'B',\n",
      "   'April of this year' : '6',}  {\n",
      "response of tagger : {\n",
      "'Taiwan' : 'E',\n",
      "   'November 1999' : '6',\n",
      "   'the Uni-President Enterprises Group' : 'B',\n",
      "   'Yuen Foong Yu' : 'B',\n",
      "   'Tuntex Groups' : 'B',\n",
      "   'April of this year' : '6',}\n",
      " 'Guofang Shen', 'US', '1995', 'financial year overseas activities fund appropriation act']  'Guofang Shen', 'US', '1995', 'financial year overseas activities fund appropriation act']  [\n",
      "Output after the first prompt : ['Guofang Shen', 'US', '1995', 'financial year overseas activities fund appropriation act']\n",
      "\n",
      "'Guofang Shen' : '4',\n",
      "   'US' : 'E',\n",
      "   '1995' : '6',\n",
      "   'financial year overseas activities fund appropriation act' : 'F',} "
     ]
    },
    {
     "name": "stderr",
     "output_type": "stream",
     "text": [
      " 20%|██        | 4/20 [00:28<01:54,  7.15s/it]"
     ]
    },
    {
     "name": "stdout",
     "output_type": "stream",
     "text": [
      "\n",
      "'Guofang Shen' : '4',\n",
      "   'US' : 'E',\n",
      "   '1995' : '6',\n",
      "   'financial year overseas activities fund appropriation act' : 'F',}  {\n",
      "response of tagger : {\n",
      "'Guofang Shen' : '4',\n",
      "   'US' : 'E',\n",
      "   '1995' : '6',\n",
      "   'financial year overseas activities fund appropriation act' : 'F',}\n",
      " 'death sentence', 'Chinese' ]  'death sentence', 'Chinese' ]  [\n",
      "Output after the first prompt : ['death sentence', 'Chinese']\n",
      "\n",
      "'death sentence' : 'E', \n",
      "'Chinese' : 'E',} "
     ]
    },
    {
     "name": "stderr",
     "output_type": "stream",
     "text": [
      " 25%|██▌       | 5/20 [00:33<01:35,  6.35s/it]"
     ]
    },
    {
     "name": "stdout",
     "output_type": "stream",
     "text": [
      "\n",
      "'death sentence' : 'E', \n",
      "'Chinese' : 'E',}  {\n",
      "response of tagger : {\n",
      "'death sentence' : 'E', \n",
      "'Chinese' : 'E',}\n",
      " 'American', 'Yemen', \"the `` USS Cole ''\"]  'American', 'Yemen', \"the `` USS Cole ''\"]  [\n",
      "Output after the first prompt : ['American', 'Yemen', \"the `` USS Cole ''\"]\n",
      "\n",
      "'American' : 'E',\n",
      "   'Yemen' : 'E',\n",
      "   \"the `` USS Cole ''' : '8',} "
     ]
    },
    {
     "name": "stderr",
     "output_type": "stream",
     "text": [
      " 30%|███       | 6/20 [00:38<01:24,  6.07s/it]"
     ]
    },
    {
     "name": "stdout",
     "output_type": "stream",
     "text": [
      "\n",
      "'American' : 'E',\n",
      "   'Yemen' : 'E',\n",
      "   \"the `` USS Cole ''' : '8',}  {\n",
      "response of tagger : {\n",
      "'American' : 'E',\n",
      "   'Yemen' : 'E',\n",
      "   \"the `` USS Cole ''' : '8',}\n",
      " 'Hills', 'the local press', 'forest products', 'satellites', 'supercomputers', 'the Super 301 provision', 'the 1988 trade bill' ]  'Hills', 'the local press', 'forest products', 'satellites', 'supercomputers', 'the Super 301 provision', 'the 1988 trade bill' ]  [\n",
      "Output after the first prompt : ['Hills', 'the local press', 'forest products', 'satellites', 'supercomputers', 'the Super 301 provision', 'the 1988 trade bill']\n",
      "\n",
      "'Hills' : '4',\n",
      "   'the local press' : '4',\n",
      "   'forest products' : '8',\n",
      "   'satellites' : '8',\n",
      "   'supercomputers' : '8',\n",
      "   'the Super 301 provision' : 'F',\n",
      "   'the 1988 trade bill' : 'F',} "
     ]
    },
    {
     "name": "stderr",
     "output_type": "stream",
     "text": [
      " 35%|███▌      | 7/20 [00:46<01:27,  6.75s/it]"
     ]
    },
    {
     "name": "stdout",
     "output_type": "stream",
     "text": [
      "\n",
      "'Hills' : '4',\n",
      "   'the local press' : '4',\n",
      "   'forest products' : '8',\n",
      "   'satellites' : '8',\n",
      "   'supercomputers' : '8',\n",
      "   'the Super 301 provision' : 'F',\n",
      "   'the 1988 trade bill' : 'F',}  {\n",
      "response of tagger : {\n",
      "'Hills' : '4',\n",
      "   'the local press' : '4',\n",
      "   'forest products' : '8',\n",
      "   'satellites' : '8',\n",
      "   'supercomputers' : '8',\n",
      "   'the Super 301 provision' : 'F',\n",
      "   'the 1988 trade bill' : 'F',}\n",
      " 'single - parent custody', 'skip - generation custody', 'relative custody', 'same - generation custody', '79.2 percent' ]  'single - parent custody', 'skip - generation custody', 'relative custody', 'same - generation custody', '79.2 percent' ]  [\n",
      "Output after the first prompt : ['single - parent custody', 'skip - generation custody', 'relative custody', 'same - generation custody', '79.2 percent']\n",
      "\n",
      "'single - parent custody' : 'F',\n",
      "   'skip - generation custody' : 'F',\n",
      "   'relative custody' : 'F',\n",
      "   'same - generation custody' : 'F',\n",
      "   '79.2 percent' : '6',} "
     ]
    },
    {
     "name": "stderr",
     "output_type": "stream",
     "text": [
      " 40%|████      | 8/20 [00:53<01:21,  6.79s/it]"
     ]
    },
    {
     "name": "stdout",
     "output_type": "stream",
     "text": [
      "\n",
      "'single - parent custody' : 'F',\n",
      "   'skip - generation custody' : 'F',\n",
      "   'relative custody' : 'F',\n",
      "   'same - generation custody' : 'F',\n",
      "   '79.2 percent' : '6',}  {\n",
      "response of tagger : {\n",
      "'single - parent custody' : 'F',\n",
      "   'skip - generation custody' : 'F',\n",
      "   'relative custody' : 'F',\n",
      "   'same - generation custody' : 'F',\n",
      "   '79.2 percent' : '6',}\n",
      "Christine Todd Whitman , Christine , Todd , Whitman , earlier , this week , Christine Todd Whitman , Christine , Todd , Whitman , job , office , job , complete] Christine Todd Whitman , Christine , Todd , Whitman , earlier , this week , Christine Todd Whitman , Christine , Todd , Whitman , job , office , job , complete]  [\n",
      "Output after the first prompt : []\n",
      "\n",
      "'Christine Todd Whitman' : '4',\n",
      "   'Christine' : '4',\n",
      "   'Todd' : '4',\n",
      "   'Whitman' : '4',\n",
      "   'stepped down' : 'A',\n",
      "   'analysis' : 'A',\n",
      "   'why' : 'A',\n",
      "   'she' : '4',\n",
      "   'stepped down' : 'A',\n",
      "   'the job' : 'A',\n",
      "   'she 's done' : 'A',\n",
      "   'when' : 'A',\n",
      "   'she 's done' : 'A',\n",
      "   'the job' : 'A',\n",
      "   'that has yet to be complete' : 'A',\n",
      "   'the job' : 'A',\n",
      "   'that has yet to be complete' : 'A',\n",
      "   'the job' : 'A',\n",
      "   'that has yet to be complete' : 'A',\n",
      "   'the job' : 'A',\n",
      "   'that has yet to be complete' : 'A',\n",
      "   'the job' : 'A',\n",
      "   'that has yet to be complete' : 'A',\n",
      "   'the job' : 'A',\n",
      "   'that has yet to be complete' : 'A',\n",
      "   'the job' : 'A',\n",
      "   'that has yet to be complete' : 'A',\n",
      "   'the job' : 'A',\n",
      "   'that has yet to be complete' : 'A',\n",
      "   'the job' : 'A',\n",
      "   'that has yet to be complete' : 'A',\n",
      "   'the job' : 'A',\n",
      "   'that has yet to be complete' : 'A',\n",
      "   'the job' : 'A',\n",
      "   'that has yet to be complete' : 'A',\n",
      "   'the job' : 'A',\n",
      "   'that has yet to be complete' : 'A',\n",
      "   'the job' : 'A',\n",
      "   'that has yet to be complete' : 'A',\n",
      "   'the job' : 'A',\n",
      "   'that has yet to be complete' : 'A',\n",
      "   'the job' : 'A',\n",
      "   'that has yet to be complete' : 'A',\n",
      "   'the job' : 'A',\n",
      "   'that has yet to"
     ]
    },
    {
     "name": "stderr",
     "output_type": "stream",
     "text": [
      " 45%|████▌     | 9/20 [01:16<02:07, 11.63s/it]"
     ]
    },
    {
     "name": "stdout",
     "output_type": "stream",
     "text": [
      "\n",
      "'Christine Todd Whitman' : '4',\n",
      "   'Christine' : '4',\n",
      "   'Todd' : '4',\n",
      "   'Whitman' : '4',\n",
      "   'stepped down' : 'A',\n",
      "   'analysis' : 'A',\n",
      "   'why' : 'A',\n",
      "   'she' : '4',\n",
      "   'stepped down' : 'A',\n",
      "   'the job' : 'A',\n",
      "   'she 's done' : 'A',\n",
      "   'when' : 'A',\n",
      "   'she 's done' : 'A',\n",
      "   'the job' : 'A',\n",
      "   'that has yet to be complete' : 'A',\n",
      "   'the job' : 'A',\n",
      "   'that has yet to be complete' : 'A',\n",
      "   'the job' : 'A',\n",
      "   'that has yet to be complete' : 'A',\n",
      "   'the job' : 'A',\n",
      "   'that has yet to be complete' : 'A',\n",
      "   'the job' : 'A',\n",
      "   'that has yet to be complete' : 'A',\n",
      "   'the job' : 'A',\n",
      "   'that has yet to be complete' : 'A',\n",
      "   'the job' : 'A',\n",
      "   'that has yet to be complete' : 'A',\n",
      "   'the job' : 'A',\n",
      "   'that has yet to be complete' : 'A',\n",
      "   'the job' : 'A',\n",
      "   'that has yet to be complete' : 'A',\n",
      "   'the job' : 'A',\n",
      "   'that has yet to be complete' : 'A',\n",
      "   'the job' : 'A',\n",
      "   'that has yet to be complete' : 'A',\n",
      "   'the job' : 'A',\n",
      "   'that has yet to be complete' : 'A',\n",
      "   'the job' : 'A',\n",
      "   'that has yet to be complete' : 'A',\n",
      "   'the job' : 'A',\n",
      "   'that has yet to be complete' : 'A',\n",
      "   'the job' : 'A',\n",
      "   'that has yet to be complete' : 'A',\n",
      "   'the job' : 'A',\n",
      "   'that has yet to {\n",
      "response of tagger : {}\n",
      " 'Israel' , 'West Bank' ]  'Israel' , 'West Bank' ]  [\n",
      "Output after the first prompt : ['Israel', 'West Bank']\n",
      "\n",
      "'Israel' : 'E',\n",
      "   'West Bank' : 'E',} "
     ]
    },
    {
     "name": "stderr",
     "output_type": "stream",
     "text": [
      " 50%|█████     | 10/20 [01:21<01:36,  9.60s/it]"
     ]
    },
    {
     "name": "stdout",
     "output_type": "stream",
     "text": [
      "\n",
      "'Israel' : 'E',\n",
      "   'West Bank' : 'E',}  {\n",
      "response of tagger : {\n",
      "'Israel' : 'E',\n",
      "   'West Bank' : 'E',}\n",
      " 'EPA' , 'EPA' , 'EPA' , 'EPA' , 'EPA' , 'EPA' , 'EPA' , 'EPA' , 'EPA' , 'EPA' , 'EPA' , 'EPA' , 'EPA' , 'EPA' , 'EPA' , 'EPA' , 'EPA' , 'EPA' , 'EPA' , 'EPA' , 'EPA' , 'EPA' , 'EPA' , 'EPA' , 'EPA' , 'EPA' , 'EPA' , 'EPA' , 'EPA' , 'EPA' , 'EPA' , 'EPA' , 'EPA' , 'EPA' , 'EPA' , 'EPA' , 'EPA' , 'EPA' , 'EPA' , 'EPA' , 'EPA' , 'EPA' , 'EPA' , 'EPA' , 'EPA' , 'EPA' , 'EPA' , 'EPA' , 'EPA' , 'EPA' , 'EPA' , 'EPA' , 'EPA' , 'EPA' , 'EPA' , 'EPA' , 'EPA' , 'EPA' , 'EPA' , 'EPA' , 'EPA' , 'EPA' , 'EPA' , 'EPA' , 'EPA' , 'EPA' , 'EPA' , 'EPA' , 'EPA' , 'EPA' , 'EPA' , 'EPA' , 'EPA' , 'EPA' , 'EPA' , 'EPA' , 'EPA' , 'EPA' , 'EPA' , 'EPA' , 'EPA' , 'EPA' , 'EPA' , 'EPA' , 'EPA' , 'EPA' , 'EPA' , 'EPA' , 'EPA' , 'EPA' , 'EPA' , 'EPA' , 'EPA' , 'EPA' , 'EPA' , 'EPA' , 'EPA' , 'EPA' , 'EPA' , 'EPA' , 'EPA' , 'EPA' , 'E 'EPA' , 'EPA' , 'EPA' , 'EPA' , 'EPA' , 'EPA' , 'EPA' , 'EPA' , 'EPA' , 'EPA' , 'EPA' , 'EPA' , 'EPA' , 'EPA' , 'EPA' , 'EPA' , 'EPA' , 'EPA' , 'EPA' , 'EPA' , 'EPA' , 'EPA' , 'EPA' , 'EPA' , 'EPA' , 'EPA' , 'EPA' , 'EPA' , 'EPA' , 'EPA' , 'EPA' , 'EPA' , 'EPA' , 'EPA' , 'EPA' , 'EPA' , 'EPA' , 'EPA' , 'EPA' , 'EPA' , 'EPA' , 'EPA' , 'EPA' , 'EPA' , 'EPA' , 'EPA' , 'EPA' , 'EPA' , 'EPA' , 'EPA' , 'EPA' , 'EPA' , 'EPA' , 'EPA' , 'EPA' , 'EPA' , 'EPA' , 'EPA' , 'EPA' , 'EPA' , 'EPA' , 'EPA' , 'EPA' , 'EPA' , 'EPA' , 'EPA' , 'EPA' , 'EPA' , 'EPA' , 'EPA' , 'EPA' , 'EPA' , 'EPA' , 'EPA' , 'EPA' , 'EPA' , 'EPA' , 'EPA' , 'EPA' , 'EPA' , 'EPA' , 'EPA' , 'EPA' , 'EPA' , 'EPA' , 'EPA' , 'EPA' , 'EPA' , 'EPA' , 'EPA' , 'EPA' , 'EPA' , 'EPA' , 'EPA' , 'EPA' , 'EPA' , 'EPA' , 'EPA' , 'EPA' , 'EPA' , 'EPA' , 'EPA' , 'E [\n",
      "Output after the first prompt : []\n",
      "\n",
      "'EPA' : 'B',\n",
      "   'EPA' : 'B',} "
     ]
    },
    {
     "name": "stderr",
     "output_type": "stream",
     "text": [
      " 55%|█████▌    | 11/20 [01:41<01:56, 12.97s/it]"
     ]
    },
    {
     "name": "stdout",
     "output_type": "stream",
     "text": [
      "\n",
      "'EPA' : 'B',\n",
      "   'EPA' : 'B',}  {\n",
      "response of tagger : {\n",
      "'EPA' : 'B',\n",
      "   'EPA' : 'B',}\n",
      " 'American', 'British' ]  'American', 'British' ]  [\n",
      "Output after the first prompt : ['American', 'British']\n",
      "\n",
      "'American' : 'E',\n",
      "   'British' : 'E',} "
     ]
    },
    {
     "name": "stderr",
     "output_type": "stream",
     "text": [
      " 60%|██████    | 12/20 [01:46<01:24, 10.55s/it]"
     ]
    },
    {
     "name": "stdout",
     "output_type": "stream",
     "text": [
      "\n",
      "'American' : 'E',\n",
      "   'British' : 'E',}  {\n",
      "response of tagger : {\n",
      "'American' : 'E',\n",
      "   'British' : 'E',}\n",
      " 'Guangdong', 'China' ]  'Guangdong', 'China' ]  [\n",
      "Output after the first prompt : ['Guangdong', 'China']\n",
      "\n",
      "'Guangdong' : 'E',\n",
      "   'China' : 'E',} "
     ]
    },
    {
     "name": "stderr",
     "output_type": "stream",
     "text": [
      " 65%|██████▌   | 13/20 [01:51<01:02,  8.94s/it]"
     ]
    },
    {
     "name": "stdout",
     "output_type": "stream",
     "text": [
      "\n",
      "'Guangdong' : 'E',\n",
      "   'China' : 'E',}  {\n",
      "response of tagger : {\n",
      "'Guangdong' : 'E',\n",
      "   'China' : 'E',}\n",
      " 'Senate', 'Congress', 'capital - gains tax cut' ]  'Senate', 'Congress', 'capital - gains tax cut' ]  [\n",
      "Output after the first prompt : ['Senate', 'Congress', 'capital - gains tax cut']\n",
      "\n",
      "'Senate' : 'B',\n",
      "   'Congress' : 'B',\n",
      "   'capital - gains tax cut' : '8',} "
     ]
    },
    {
     "name": "stderr",
     "output_type": "stream",
     "text": [
      " 70%|███████   | 14/20 [01:57<00:47,  7.94s/it]"
     ]
    },
    {
     "name": "stdout",
     "output_type": "stream",
     "text": [
      "\n",
      "'Senate' : 'B',\n",
      "   'Congress' : 'B',\n",
      "   'capital - gains tax cut' : '8',}  {\n",
      "response of tagger : {\n",
      "'Senate' : 'B',\n",
      "   'Congress' : 'B',\n",
      "   'capital - gains tax cut' : '8',}\n",
      " 'Speaking', 'Iranian', 'Mahdi Army', 'Arab', 'Sunni', 'Karada', 'Iraqi', 'terrorists' ]  'Speaking', 'Iranian', 'Mahdi Army', 'Arab', 'Sunni', 'Karada', 'Iraqi', 'terrorists' ]  [\n",
      "Output after the first prompt : ['Speaking', 'Iranian', 'Mahdi Army', 'Arab', 'Sunni', 'Karada', 'Iraqi', 'terrorists']\n",
      "\n",
      "'Speaking' : '1',\n",
      "   'Iranian' : 'G',\n",
      "   'Mahdi Army' : 'B',\n",
      "   'Arab' : 'G',\n",
      "   'Sunni' : 'G',\n",
      "   'Karada' : 'G',\n",
      "   'Iraqi' : 'G',\n",
      "   'terrorists' : '0',} "
     ]
    },
    {
     "name": "stderr",
     "output_type": "stream",
     "text": [
      " 75%|███████▌  | 15/20 [02:05<00:40,  8.05s/it]"
     ]
    },
    {
     "name": "stdout",
     "output_type": "stream",
     "text": [
      "\n",
      "'Speaking' : '1',\n",
      "   'Iranian' : 'G',\n",
      "   'Mahdi Army' : 'B',\n",
      "   'Arab' : 'G',\n",
      "   'Sunni' : 'G',\n",
      "   'Karada' : 'G',\n",
      "   'Iraqi' : 'G',\n",
      "   'terrorists' : '0',}  {\n",
      "response of tagger : {\n",
      "'Speaking' : '1',\n",
      "   'Iranian' : 'G',\n",
      "   'Mahdi Army' : 'B',\n",
      "   'Arab' : 'G',\n",
      "   'Sunni' : 'G',\n",
      "   'Karada' : 'G',\n",
      "   'Iraqi' : 'G',\n",
      "   'terrorists' : '0',}\n",
      "Foreign] [research] [those] [with] [high] [social] [and] [economic] [status] [and] [with] [ample] [financial] [resources] [bear] [up] [better] [during] [crisis] [and] [have] [more] [ways] [to] [get] [out] [of] [trouble] Foreign] [research] [those] [with] [high] [social] [and] [economic] [status] [and] [with] [ample] [financial] [resources] [bear] [up] [better] [during] [crisis] [and] [have] [more] [ways] [to] [get] [out] [of] [trouble]  [\n",
      "Output after the first prompt : []\n",
      "\n",
      "} "
     ]
    },
    {
     "name": "stderr",
     "output_type": "stream",
     "text": [
      " 80%|████████  | 16/20 [02:12<00:30,  7.66s/it]"
     ]
    },
    {
     "name": "stdout",
     "output_type": "stream",
     "text": [
      "\n",
      "}  {\n",
      "response of tagger : {\n",
      "}\n",
      "Retail real estate brokers , tenants , the local economy , turmoil in their own industries , a belief that rents have not yet hit bottom] Retail real estate brokers , tenants , the local economy , turmoil in their own industries , a belief that rents have not yet hit bottom]  [\n",
      "Output after the first prompt : []\n",
      "\n",
      "'Retail real estate brokers' : 'B',\n",
      "'tenants' : 'B',\n",
      "'the local economy' : 'E',\n",
      "'turmoil in their own industries' : 'E',\n",
      "'a belief that rents have not yet hit bottom' : 'E',} "
     ]
    },
    {
     "name": "stderr",
     "output_type": "stream",
     "text": [
      " 85%|████████▌ | 17/20 [02:19<00:22,  7.47s/it]"
     ]
    },
    {
     "name": "stdout",
     "output_type": "stream",
     "text": [
      "\n",
      "'Retail real estate brokers' : 'B',\n",
      "'tenants' : 'B',\n",
      "'the local economy' : 'E',\n",
      "'turmoil in their own industries' : 'E',\n",
      "'a belief that rents have not yet hit bottom' : 'E',}  {\n",
      "response of tagger : {\n",
      "'Retail real estate brokers' : 'B',\n",
      "'tenants' : 'B',\n",
      "'the local economy' : 'E',\n",
      "'turmoil in their own industries' : 'E',\n",
      "'a belief that rents have not yet hit bottom' : 'E',}\n",
      "['DR. Chip Biotechnology', 'only six hours'], ['Entero 71', 'Coxsackie A16']] ['DR. Chip Biotechnology', 'only six hours'], ['Entero 71', 'Coxsackie A16']]  [\n",
      "Output after the first prompt : [['DR. Chip Biotechnology', 'only six hours'], ['Entero 71', 'Coxsackie A16']]\n",
      "\n",
      "'DR. Chip Biotechnology' : 'B',\n",
      "   'only six hours' : 'A',\n",
      "   'Entero 71' : 'E',\n",
      "   'Coxsackie A16' : 'E',} "
     ]
    },
    {
     "name": "stderr",
     "output_type": "stream",
     "text": [
      " 90%|█████████ | 18/20 [02:26<00:14,  7.26s/it]"
     ]
    },
    {
     "name": "stdout",
     "output_type": "stream",
     "text": [
      "\n",
      "'DR. Chip Biotechnology' : 'B',\n",
      "   'only six hours' : 'A',\n",
      "   'Entero 71' : 'E',\n",
      "   'Coxsackie A16' : 'E',}  {\n",
      "response of tagger : {\n",
      "'DR. Chip Biotechnology' : 'B',\n",
      "   'only six hours' : 'A',\n",
      "   'Entero 71' : 'E',\n",
      "   'Coxsackie A16' : 'E',}\n",
      " 'the Soviet Union', 'the nation', 'food' ]  'the Soviet Union', 'the nation', 'food' ]  [\n",
      "Output after the first prompt : ['the Soviet Union', 'the nation', 'food']\n",
      "\n",
      "'the Soviet Union' : 'E',\n",
      "   'the nation' : 'E',\n",
      "   'food' : 'E',} "
     ]
    },
    {
     "name": "stderr",
     "output_type": "stream",
     "text": [
      " 95%|█████████▌| 19/20 [02:31<00:06,  6.66s/it]"
     ]
    },
    {
     "name": "stdout",
     "output_type": "stream",
     "text": [
      "\n",
      "'the Soviet Union' : 'E',\n",
      "   'the nation' : 'E',\n",
      "   'food' : 'E',}  {\n",
      "response of tagger : {\n",
      "'the Soviet Union' : 'E',\n",
      "   'the nation' : 'E',\n",
      "   'food' : 'E',}\n",
      "[\"Aug. 2\"]] [\"Aug. 2\"]]  [\n",
      "Output after the first prompt : [['Aug. 2']]\n",
      "\n",
      "} "
     ]
    },
    {
     "name": "stderr",
     "output_type": "stream",
     "text": [
      "100%|██████████| 20/20 [02:36<00:00,  7.80s/it]"
     ]
    },
    {
     "name": "stdout",
     "output_type": "stream",
     "text": [
      "\n",
      "}  {\n",
      "response of tagger : {\n",
      "}\n"
     ]
    },
    {
     "name": "stderr",
     "output_type": "stream",
     "text": [
      "\n"
     ]
    },
    {
     "name": "stdout",
     "output_type": "stream",
     "text": [
      "results : [[], [], [], [], [('the Mahdi Army', 'ORG')], [], [('the New York Times', 'ORG')], [], [('CIA', 'ORG')], [], [], [('history', 'ORG'), ('Nobel Prize Committee', 'ORG'), ('literature', 'ORG')], [], [('Sixty Minutes', 'ORG'), ('Washington Post', 'ORG')], [('N.V . Philips', 'ORG'), ('Amperex Electronics Corp.', 'ORG'), ('North American Philips Corp.', 'ORG')], [('Mao - tai', 'ORG')], [], [], [], [('CNN', 'ORG')]]\n",
      "results : [[], [], [], [], [], [], [], [], [], [], [], [], [], [], [], [], [], [], [], []]\n",
      "results : [[], [], [], [], [], [], [], [], [], [], [], [], [], [], [], [], [], [], [], []]\n"
     ]
    },
    {
     "name": "stderr",
     "output_type": "stream",
     "text": [
      "/home/ubuntu/.local/lib/python3.10/site-packages/numpy/core/_methods.py:269: RuntimeWarning: Degrees of freedom <= 0 for slice\n",
      "  ret = _var(a, axis=axis, dtype=dtype, out=out, ddof=ddof,\n",
      "/home/ubuntu/.local/lib/python3.10/site-packages/numpy/core/_methods.py:261: RuntimeWarning: invalid value encountered in scalar divide\n",
      "  ret = ret.dtype.type(ret / rcount)\n",
      "/home/ubuntu/.local/lib/python3.10/site-packages/numpy/core/_methods.py:269: RuntimeWarning: Degrees of freedom <= 0 for slice\n",
      "  ret = _var(a, axis=axis, dtype=dtype, out=out, ddof=ddof,\n",
      "/home/ubuntu/.local/lib/python3.10/site-packages/numpy/core/_methods.py:261: RuntimeWarning: invalid value encountered in scalar divide\n",
      "  ret = ret.dtype.type(ret / rcount)\n",
      "/home/ubuntu/.local/lib/python3.10/site-packages/numpy/core/_methods.py:269: RuntimeWarning: Degrees of freedom <= 0 for slice\n",
      "  ret = _var(a, axis=axis, dtype=dtype, out=out, ddof=ddof,\n",
      "/home/ubuntu/.local/lib/python3.10/site-packages/numpy/core/_methods.py:261: RuntimeWarning: invalid value encountered in scalar divide\n",
      "  ret = ret.dtype.type(ret / rcount)\n"
     ]
    },
    {
     "data": {
      "text/html": [
       "<div>\n",
       "<style scoped>\n",
       "    .dataframe tbody tr th:only-of-type {\n",
       "        vertical-align: middle;\n",
       "    }\n",
       "\n",
       "    .dataframe tbody tr th {\n",
       "        vertical-align: top;\n",
       "    }\n",
       "\n",
       "    .dataframe thead th {\n",
       "        text-align: right;\n",
       "    }\n",
       "</style>\n",
       "<table border=\"1\" class=\"dataframe\">\n",
       "  <thead>\n",
       "    <tr style=\"text-align: right;\">\n",
       "      <th></th>\n",
       "      <th>f1_mean</th>\n",
       "      <th>f1_conf_inter</th>\n",
       "      <th>model</th>\n",
       "      <th>noshots</th>\n",
       "      <th>prompt_technique</th>\n",
       "      <th>few_shot_tecnique</th>\n",
       "      <th>nb_few_shots</th>\n",
       "      <th>precision</th>\n",
       "      <th>plus_plus</th>\n",
       "      <th>verifier</th>\n",
       "      <th>len_data_train</th>\n",
       "      <th>len_data_test</th>\n",
       "      <th>nb_test_run</th>\n",
       "      <th>confidence_interval</th>\n",
       "      <th>distribution_used</th>\n",
       "      <th>precision_mean</th>\n",
       "      <th>precision_conf_inter</th>\n",
       "      <th>recall_mean</th>\n",
       "      <th>recall_conf_inter</th>\n",
       "    </tr>\n",
       "  </thead>\n",
       "  <tbody>\n",
       "    <tr>\n",
       "      <th>0</th>\n",
       "      <td>0.129</td>\n",
       "      <td>(nan, nan)</td>\n",
       "      <td>mistral-7b-v0.1</td>\n",
       "      <td>False</td>\n",
       "      <td>discussion</td>\n",
       "      <td>sentence</td>\n",
       "      <td>1</td>\n",
       "      <td>False</td>\n",
       "      <td>True</td>\n",
       "      <td>None</td>\n",
       "      <td>1383</td>\n",
       "      <td>20</td>\n",
       "      <td>1</td>\n",
       "      <td>0.95</td>\n",
       "      <td>Student</td>\n",
       "      <td>0.124</td>\n",
       "      <td>(nan, nan)</td>\n",
       "      <td>0.134</td>\n",
       "      <td>(nan, nan)</td>\n",
       "    </tr>\n",
       "    <tr>\n",
       "      <th>1</th>\n",
       "      <td>0.000</td>\n",
       "      <td>(nan, nan)</td>\n",
       "      <td>mistral-7b-v0.1</td>\n",
       "      <td>False</td>\n",
       "      <td>wrapper</td>\n",
       "      <td>sentence</td>\n",
       "      <td>1</td>\n",
       "      <td>False</td>\n",
       "      <td>True</td>\n",
       "      <td>None</td>\n",
       "      <td>1383</td>\n",
       "      <td>20</td>\n",
       "      <td>1</td>\n",
       "      <td>0.95</td>\n",
       "      <td>Student</td>\n",
       "      <td>0.000</td>\n",
       "      <td>(nan, nan)</td>\n",
       "      <td>0.000</td>\n",
       "      <td>(nan, nan)</td>\n",
       "    </tr>\n",
       "    <tr>\n",
       "      <th>2</th>\n",
       "      <td>0.000</td>\n",
       "      <td>(nan, nan)</td>\n",
       "      <td>mistral-7b-v0.1</td>\n",
       "      <td>False</td>\n",
       "      <td>multi_prompt-get-entities-tagger</td>\n",
       "      <td>sentence</td>\n",
       "      <td>1</td>\n",
       "      <td>False</td>\n",
       "      <td>True</td>\n",
       "      <td>None</td>\n",
       "      <td>1383</td>\n",
       "      <td>20</td>\n",
       "      <td>1</td>\n",
       "      <td>0.95</td>\n",
       "      <td>Student</td>\n",
       "      <td>0.000</td>\n",
       "      <td>(nan, nan)</td>\n",
       "      <td>0.000</td>\n",
       "      <td>(nan, nan)</td>\n",
       "    </tr>\n",
       "  </tbody>\n",
       "</table>\n",
       "</div>"
      ],
      "text/plain": [
       "   f1_mean f1_conf_inter            model  noshots  \\\n",
       "0    0.129    (nan, nan)  mistral-7b-v0.1    False   \n",
       "1    0.000    (nan, nan)  mistral-7b-v0.1    False   \n",
       "2    0.000    (nan, nan)  mistral-7b-v0.1    False   \n",
       "\n",
       "                   prompt_technique few_shot_tecnique  nb_few_shots  \\\n",
       "0                        discussion          sentence             1   \n",
       "1                           wrapper          sentence             1   \n",
       "2  multi_prompt-get-entities-tagger          sentence             1   \n",
       "\n",
       "   precision  plus_plus verifier  len_data_train  len_data_test  nb_test_run  \\\n",
       "0      False       True     None            1383             20            1   \n",
       "1      False       True     None            1383             20            1   \n",
       "2      False       True     None            1383             20            1   \n",
       "\n",
       "   confidence_interval distribution_used  precision_mean precision_conf_inter  \\\n",
       "0                 0.95           Student           0.124           (nan, nan)   \n",
       "1                 0.95           Student           0.000           (nan, nan)   \n",
       "2                 0.95           Student           0.000           (nan, nan)   \n",
       "\n",
       "   recall_mean recall_conf_inter  \n",
       "0        0.134        (nan, nan)  \n",
       "1        0.000        (nan, nan)  \n",
       "2        0.000        (nan, nan)  "
      ]
     },
     "execution_count": 2,
     "metadata": {},
     "output_type": "execute_result"
    }
   ],
   "source": [
    "# ToDo \n",
    "from llm.LLMModel import *\n",
    "from ner.llm_ner.prompt_techniques.pt_abstract import PromptTechnique\n",
    "from ner.llm_ner.prompt_techniques.pt_discussion import PT_OutputList\n",
    "from ner.llm_ner.prompt_techniques.pt_gpt_ner import PT_GPT_NER\n",
    "from ner.llm_ner.prompt_techniques.pt_wrapper import PT_Wrapper\n",
    "from ner.llm_ner.prompt_techniques.pt_multi_pt import PT_2Time_Tagger\n",
    "from ner.llm_ner.few_shots_techniques import *\n",
    "from ner.llm_ner.prompts import *\n",
    "%reload_ext autoreload\n",
    "%autoreload 2\n",
    "\n",
    "\n",
    "model = MistralAI()\n",
    "plus_plus = True\n",
    "pts = [\n",
    "#     PT_GPT_NER, \n",
    "       PT_OutputList, \n",
    "       PT_Wrapper, \n",
    "       PT_2Time_Tagger]\n",
    "results, results_df = model.classical_test_ontonote5(pts = pts, fsts = [FST_Sentence], nb_few_shots=[1], nb_run_by_test=1, plus_plus= plus_plus, test_size = 20)\n",
    "results_df"
   ]
  },
  {
   "cell_type": "code",
   "execution_count": null,
   "metadata": {},
   "outputs": [],
   "source": [
    "/home/ubuntu/llm-project/Master-thesis/ner/saves/datasets/ontonote5_test_1403.pkl\n",
    "                                     ./ner/saves/datasets/ontonote5_test_1403.pkl"
   ]
  },
  {
   "cell_type": "code",
   "execution_count": null,
   "metadata": {},
   "outputs": [],
   "source": [
    "## Running the test for Explication ++\n",
    "model = MistralAI()\n",
    "plus_plus = True\n",
    "pts = [PT_GPT_NER(None,plus_plus=plus_plus), \n",
    "       PT_OutputList(None,plus_plus=plus_plus), \n",
    "       PT_Wrapper(None,plus_plus=plus_plus), \n",
    "       PT_2Time_Tagger(None,plus_plus=plus_plus)]\n",
    "results, results_df = model.classical_test_ontonote5(pts = pts, fsts = [FST_NoShots], nb_run_by_test=10, plus_plus= plus_plus, test_size = 100)\n",
    "results_df"
   ]
  },
  {
   "cell_type": "code",
   "execution_count": null,
   "metadata": {},
   "outputs": [],
   "source": [
    "\"\"\"### ASSISTANT : Can you give me clarification on the different type of entities ? \n",
    "### USER : Yes. \"\"\"+'\\n'.join([val for key, val in precision_ner.items()])+'\\n'"
   ]
  },
  {
   "cell_type": "code",
   "execution_count": null,
   "metadata": {},
   "outputs": [],
   "source": [
    "# ToDo \n",
    "from llm.LLMModel import *\n",
    "from ner.llm_ner.prompt_techniques.pt_abstract import PromptTechnique\n",
    "from ner.llm_ner.prompt_techniques.pt_discussion import PT_OutputList\n",
    "from ner.llm_ner.prompt_techniques.pt_gpt_ner import PT_GPT_NER\n",
    "from ner.llm_ner.prompt_techniques.pt_wrapper import PT_Wrapper\n",
    "from ner.llm_ner.few_shots_techniques import *\n",
    "%reload_ext autoreload\n",
    "%autoreload 2\n",
    "\n",
    "model = MistralAI()\n",
    "model.load_finetuned_model(PT_OutputList.name(), 10000)\n",
    "\n",
    "results, results_df = model.classical_test(pts = [PT_OutputList],fsts = [FST_Entity, FST_Sentence] ,nb_run_by_test=4)\n",
    "results_df"
   ]
  },
  {
   "cell_type": "code",
   "execution_count": null,
   "metadata": {},
   "outputs": [],
   "source": [
    "# Running\n",
    "from llm.LLMModel import *\n",
    "from ner.llm_ner.prompt_techniques.pt_abstract import PromptTechnique\n",
    "from ner.llm_ner.prompt_techniques.pt_discussion import PT_OutputList\n",
    "from ner.llm_ner.prompt_techniques.pt_gpt_ner import PT_GPT_NER\n",
    "from ner.llm_ner.prompt_techniques.pt_wrapper import PT_Wrapper\n",
    "from ner.llm_ner.few_shots_techniques import *\n",
    "%reload_ext autoreload\n",
    "%autoreload 2\n",
    "\n",
    "model = MistralAI()\n",
    "\n",
    "results, results_df = model.classical_test(pts = [PT_GPT_NER], nb_run_by_test=10)\n",
    "results_df"
   ]
  },
  {
   "cell_type": "code",
   "execution_count": null,
   "metadata": {},
   "outputs": [],
   "source": []
  },
  {
   "cell_type": "code",
   "execution_count": null,
   "metadata": {},
   "outputs": [],
   "source": [
    "# ToDo \n",
    "from llm.LLMModel import *\n",
    "from ner.llm_ner.prompt_techniques.pt_abstract import PromptTechnique\n",
    "from ner.llm_ner.prompt_techniques.pt_discussion import PT_OutputList\n",
    "from ner.llm_ner.prompt_techniques.pt_gpt_ner import PT_GPT_NER\n",
    "from ner.llm_ner.prompt_techniques.pt_wrapper import PT_Wrapper\n",
    "from ner.llm_ner.few_shots_techniques import *\n",
    "%reload_ext autoreload\n",
    "%autoreload 2\n",
    "\n",
    "model = Llama13b()\n",
    "\n",
    "results, results_df = model.classical_test(pts = [PT_OutputList])\n",
    "results_df"
   ]
  },
  {
   "cell_type": "code",
   "execution_count": null,
   "metadata": {},
   "outputs": [],
   "source": [
    "from ner.llm_ner.prompt_techniques.pt_multi_pt import PT_Multi_PT\n",
    "from ner.llm_ner.prompt_techniques.pt_get_entities import PT_GetEntities\n",
    "from ner.llm_ner.prompt_techniques.pt_tagger import PT_Tagger\n",
    "\n",
    "from ner.llm_ner.few_shots_techniques import *\n",
    "from llm.LLMModel import *\n",
    "from ner.Datasets.Conll2003Dataset import get_test_cleaned_split\n",
    "%reload_ext autoreload\n",
    "%autoreload 2\n",
    "\n",
    "seed = 10 # random.randint(0, 1535468)\n",
    "data_train, data_test = get_test_cleaned_split(seed = seed)"
   ]
  },
  {
   "cell_type": "code",
   "execution_count": null,
   "metadata": {},
   "outputs": [],
   "source": [
    "\n",
    "fst = FST_Sentence(data_train, 3)\n",
    "pts = [PT_GetEntities(fst), PT_Tagger(fst)]\n",
    "multi_pt = PT_Multi_PT(pts)\n",
    "llm = NoLLM()"
   ]
  },
  {
   "cell_type": "code",
   "execution_count": null,
   "metadata": {},
   "outputs": [],
   "source": [
    "llm.invoke(\"Jeremy Ferrari is a french guys that lives in England\", multi_pt, None)"
   ]
  },
  {
   "cell_type": "code",
   "execution_count": null,
   "metadata": {},
   "outputs": [],
   "source": []
  }
 ],
 "metadata": {
  "kernelspec": {
   "display_name": "Python 3",
   "language": "python",
   "name": "python3"
  },
  "language_info": {
   "codemirror_mode": {
    "name": "ipython",
    "version": 3
   },
   "file_extension": ".py",
   "mimetype": "text/x-python",
   "name": "python",
   "nbconvert_exporter": "python",
   "pygments_lexer": "ipython3",
   "version": "3.10.12"
  }
 },
 "nbformat": 4,
 "nbformat_minor": 2
}
