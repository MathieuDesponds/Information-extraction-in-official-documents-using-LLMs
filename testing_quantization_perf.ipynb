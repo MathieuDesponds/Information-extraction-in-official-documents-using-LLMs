{
 "cells": [
  {
   "cell_type": "code",
   "execution_count": null,
   "metadata": {},
   "outputs": [],
   "source": [
    "from llm.LLMModel import MistralAI, MistralAIInstruct\n",
    "from ner.utils import run_command\n",
    "\n",
    "checkpoint = \"/myhome/Master-thesis/llm/mistralai/Mistral-7B-Instruct-v0.2ketl_training/130-2024-02-02_14:56:14_mistral-instruct_ft-data/\"\n",
    "merge_model_path = f\"{checkpoint}to_trash/\"\n",
    "base_model_name = MistralAIInstruct(without_model = True).base_model_id\n",
    "base_model_path = \"/myhome/Master-thesis/llm/mistralai/Mistral-7B-Instruct-v0.2\""
   ]
  },
  {
   "cell_type": "code",
   "execution_count": null,
   "metadata": {},
   "outputs": [],
   "source": [
    "command = f\"python /myhome/Master-thesis/merge_lora_model.py {checkpoint} {merge_model_path}\"\n",
    "run_command(command)"
   ]
  },
  {
   "cell_type": "code",
   "execution_count": null,
   "metadata": {},
   "outputs": [],
   "source": [
    "command = f\"python llama.cpp/convert.py {merge_model_path} --outtype f16 --outfile {checkpoint}/merged.bin --vocab-dir {base_model_path} --vocab-type hfft\"\n",
    "run_command(command)"
   ]
  },
  {
   "cell_type": "code",
   "execution_count": null,
   "metadata": {},
   "outputs": [],
   "source": [
    "quantization = 'q8_0'\n",
    "command = f\"llama.cpp/build/bin/quantize {checkpoint}/merged.bin {checkpoint}/merged_ggml_{quantization}.bin {quantization}\"\n",
    "\n",
    "run_command(command)"
   ]
  },
  {
   "cell_type": "code",
   "execution_count": null,
   "metadata": {},
   "outputs": [],
   "source": []
  }
 ],
 "metadata": {
  "kernelspec": {
   "display_name": "Python 3",
   "language": "python",
   "name": "python3"
  },
  "language_info": {
   "codemirror_mode": {
    "name": "ipython",
    "version": 3
   },
   "file_extension": ".py",
   "mimetype": "text/x-python",
   "name": "python",
   "nbconvert_exporter": "python",
   "pygments_lexer": "ipython3",
   "version": "3.10.6"
  }
 },
 "nbformat": 4,
 "nbformat_minor": 2
}
