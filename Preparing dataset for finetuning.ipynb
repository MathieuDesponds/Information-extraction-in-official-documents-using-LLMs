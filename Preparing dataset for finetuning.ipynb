{
 "cells": [
  {
   "cell_type": "code",
   "execution_count": 2,
   "metadata": {},
   "outputs": [
    {
     "data": {
      "application/vnd.jupyter.widget-view+json": {
       "model_id": "282e804c819f4aaa81e5f60f07654e75",
       "version_major": 2,
       "version_minor": 0
      },
      "text/plain": [
       "Filter:   0%|          | 0/9873 [00:00<?, ? examples/s]"
      ]
     },
     "metadata": {},
     "output_type": "display_data"
    },
    {
     "data": {
      "application/vnd.jupyter.widget-view+json": {
       "model_id": "131360244e5643129fa92bb200797dcc",
       "version_major": 2,
       "version_minor": 0
      },
      "text/plain": [
       "Filter:   0%|          | 0/1403 [00:00<?, ? examples/s]"
      ]
     },
     "metadata": {},
     "output_type": "display_data"
    }
   ],
   "source": [
    "from ner.llm_ner.prompt_techniques.pt_abstract import PromptTechnique\n",
    "from ner.llm_ner.prompt_techniques.pt_discussion import PT_OutputList\n",
    "from ner.llm_ner.prompt_techniques.pt_gpt_ner import PT_GPT_NER\n",
    "from ner.llm_ner.prompt_techniques.pt_wrapper import PT_Wrapper\n",
    "from ner.llm_ner.prompt_techniques.pt_multi_pt import PT_Multi_PT, PT_2Time_Tagger\n",
    "from ner.llm_ner.prompt_techniques.pt_tagger import PT_Tagger\n",
    "from ner.llm_ner.prompt_techniques.pt_filing import PT_Filing \n",
    "from ner.llm_ner.prompt_techniques.pt_get_entities import PT_GetEntities\n",
    "from ner.llm_ner.prompt_techniques.pt_filing import PT_Filing\n",
    "from ner.llm_ner.few_shots_techniques import *\n",
    "from ner.llm_ner.prompts import *\n",
    "from ner.Datasets.OntoNotes5Dataset import OntoNote5Dataset\n",
    "from ner.Datasets.Conll2003Dataset import Conll2003Dataset \n",
    "\n",
    "%reload_ext autoreload\n",
    "%autoreload 2\n",
    "\n",
    "train, test = OntoNote5Dataset.my_load_dataset()"
   ]
  },
  {
   "cell_type": "code",
   "execution_count": 5,
   "metadata": {},
   "outputs": [
    {
     "name": "stderr",
     "output_type": "stream",
     "text": [
      "0it [00:00, ?it/s]"
     ]
    },
    {
     "name": "stderr",
     "output_type": "stream",
     "text": [
      "200it [00:52,  3.81it/s]\n",
      "200it [00:51,  3.92it/s]\n",
      "200it [00:51,  3.86it/s]\n",
      "200it [00:52,  3.84it/s]\n",
      "200it [00:51,  3.91it/s]\n",
      "200it [00:51,  3.89it/s]\n",
      "200it [00:51,  3.91it/s]\n",
      "200it [00:51,  3.87it/s]\n",
      "200it [00:51,  3.92it/s]\n"
     ]
    },
    {
     "name": "stdout",
     "output_type": "stream",
     "text": [
      "10\n"
     ]
    },
    {
     "name": "stderr",
     "output_type": "stream",
     "text": [
      "200it [00:52,  3.84it/s]\n"
     ]
    }
   ],
   "source": [
    "runs = 2000\n",
    "plus_plus = False\n",
    "\n",
    "for pt in [PT_Filing] :\n",
    "    pt = pt(None, plus_plus=plus_plus, prompt_template = prompt_raw, with_precision= False)\n",
    "    pt.process_dataset_for_finetuning(dataset = train, precision = \"raw\", runs = runs, fst= FST_NoShots, nb_few_shots=[0])"
   ]
  },
  {
   "cell_type": "code",
   "execution_count": 11,
   "metadata": {},
   "outputs": [],
   "source": [
    "import os\n",
    "from datasets import concatenate_datasets \n",
    "\n",
    "all_datas = []\n",
    "root_directory = \"ner/saves/datasets/\"\n",
    "for foldername, subfolders, filenames in os.walk(root_directory):\n",
    "    for filename in filenames:\n",
    "        # Construct the full path of the file\n",
    "        file_path = os.path.join(foldername, filename)\n",
    "        # Check if the file has a .pkl extension (assuming you are looking for pickle files)\n",
    "        if filename.startswith(\"ontonote5_for-ft_discussion_raw\"):\n",
    "            res_inst = load(file_path)\n",
    "            all_datas.append(res_inst)\n",
    "merged_datasets = concatenate_datasets(all_datas)\n",
    "path = f\"./ner/saves/datasets/ontonote5_for-ft_discussion_raw_60000.pkl\"\n",
    "dump(merged_datasets,path)"
   ]
  },
  {
   "cell_type": "code",
   "execution_count": 12,
   "metadata": {},
   "outputs": [
    {
     "data": {
      "text/plain": [
       "Dataset({\n",
       "    features: ['text'],\n",
       "    num_rows: 62000\n",
       "})"
      ]
     },
     "execution_count": 12,
     "metadata": {},
     "output_type": "execute_result"
    }
   ],
   "source": [
    "merged_datasets"
   ]
  },
  {
   "cell_type": "code",
   "execution_count": 4,
   "metadata": {},
   "outputs": [
    {
     "name": "stderr",
     "output_type": "stream",
     "text": [
      "200it [01:20,  2.48it/s]\n",
      "200it [01:18,  2.56it/s]\n",
      "200it [01:19,  2.51it/s]\n",
      "200it [01:21,  2.47it/s]\n",
      "200it [01:21,  2.47it/s]\n",
      "200it [01:19,  2.52it/s]\n",
      "200it [01:23,  2.40it/s]\n",
      "200it [01:18,  2.56it/s]\n",
      "200it [01:22,  2.41it/s]\n"
     ]
    },
    {
     "name": "stdout",
     "output_type": "stream",
     "text": [
      "10\n"
     ]
    },
    {
     "name": "stderr",
     "output_type": "stream",
     "text": [
      "200it [01:21,  2.44it/s]\n",
      "200it [01:18,  2.55it/s]\n",
      "200it [01:19,  2.51it/s]\n",
      "200it [01:18,  2.55it/s]\n",
      "200it [01:18,  2.55it/s]\n",
      "200it [01:18,  2.56it/s]\n",
      "200it [01:19,  2.50it/s]\n",
      "200it [01:18,  2.53it/s]\n",
      "200it [01:06,  3.02it/s]\n",
      "200it [01:02,  3.21it/s]\n"
     ]
    },
    {
     "name": "stdout",
     "output_type": "stream",
     "text": [
      "20\n"
     ]
    },
    {
     "name": "stderr",
     "output_type": "stream",
     "text": [
      "200it [01:00,  3.31it/s]\n",
      "200it [01:03,  3.14it/s]\n",
      "200it [01:04,  3.12it/s]\n",
      "200it [01:01,  3.27it/s]\n",
      "200it [01:02,  3.21it/s]\n",
      "200it [01:00,  3.31it/s]\n",
      "200it [01:02,  3.18it/s]\n",
      "200it [01:01,  3.23it/s]\n",
      "200it [01:01,  3.26it/s]\n",
      "200it [01:01,  3.24it/s]\n"
     ]
    },
    {
     "name": "stdout",
     "output_type": "stream",
     "text": [
      "30\n"
     ]
    },
    {
     "name": "stderr",
     "output_type": "stream",
     "text": [
      "200it [01:02,  3.21it/s]\n",
      "200it [01:02,  3.18it/s]\n",
      "200it [01:01,  3.24it/s]\n",
      "200it [01:03,  3.16it/s]\n",
      "200it [01:02,  3.22it/s]\n",
      "200it [01:02,  3.22it/s]\n",
      "200it [01:00,  3.29it/s]\n",
      "200it [01:02,  3.20it/s]\n",
      "200it [01:03,  3.14it/s]\n",
      "200it [01:03,  3.15it/s]\n"
     ]
    },
    {
     "name": "stdout",
     "output_type": "stream",
     "text": [
      "40\n"
     ]
    },
    {
     "name": "stderr",
     "output_type": "stream",
     "text": [
      "200it [01:01,  3.24it/s]\n",
      "200it [01:02,  3.20it/s]\n",
      "200it [01:01,  3.26it/s]\n",
      "200it [01:03,  3.13it/s]\n",
      "200it [01:04,  3.11it/s]\n",
      "200it [01:05,  3.06it/s]\n",
      "200it [01:04,  3.08it/s]\n",
      "200it [01:02,  3.19it/s]\n",
      "200it [01:02,  3.17it/s]\n",
      "200it [01:04,  3.12it/s]\n"
     ]
    },
    {
     "name": "stdout",
     "output_type": "stream",
     "text": [
      "50\n"
     ]
    },
    {
     "name": "stderr",
     "output_type": "stream",
     "text": [
      "200it [01:03,  3.15it/s]\n"
     ]
    }
   ],
   "source": [
    "runs = 10001\n",
    "plus_plus = False\n",
    "\n",
    "for pt in [PT_OutputList] :\n",
    "    pt = pt(None, plus_plus=plus_plus, prompt_template = prompt_template_ontonotes, with_precision= False)\n",
    "    pt.process_dataset_for_finetuning(dataset = train, precision = \"3shots\", runs = runs, fst= FST_Sentence, nb_few_shots=[3])"
   ]
  },
  {
   "cell_type": "code",
   "execution_count": null,
   "metadata": {},
   "outputs": [],
   "source": [
    "\n",
    "runs = 10 \n",
    "for plus_plus in [True, False] :\n",
    "    for pt in [PT_GPT_NER(None,plus_plus=plus_plus), PT_OutputList(None,plus_plus=plus_plus), PT_Wrapper(None,plus_plus=plus_plus), PT_Tagger(None,plus_plus=plus_plus), PT_GetEntities(None,plus_plus=plus_plus)] :\n",
    "        print(pt)\n",
    "        pt.process_dataset_for_finetuning(dataset = train, precision = \"++\" if plus_plus else \"\" , runs = runs)\n",
    "        pt.process_dataset_for_finetuning(dataset = train, precision = (\"++_\" if plus_plus else \"\") + \"noshots\", fst = FST_NoShots, runs = runs, nb_few_shots=[0])\n",
    "\n",
    "## Ou ## \n",
    "\n",
    "plus_plus = False\n",
    "for pt in [PT_GPT_NER(None,plus_plus=plus_plus), PT_OutputList(None,plus_plus=plus_plus), PT_Wrapper(None,plus_plus=plus_plus), PT_Tagger(None,plus_plus=plus_plus), PT_GetEntities(None,plus_plus=plus_plus)] :\n",
    "    print(pt)\n",
    "    pt.process_dataset_for_finetuning(dataset = train, precision = \"\" , runs = runs)\n",
    "    pt.process_dataset_for_finetuning(dataset = train, precision = \"noshots\", fst = FST_NoShots, runs = runs, nb_few_shots=[0])\n",
    "\n",
    "plus_plus = True\n",
    "for pt in [PT_GPT_NER(None,plus_plus=plus_plus), PT_OutputList(None,plus_plus=plus_plus), PT_Wrapper(None,plus_plus=plus_plus), PT_Tagger(None,plus_plus=plus_plus), PT_GetEntities(None,plus_plus=plus_plus)] :\n",
    "    pt.process_dataset_for_finetuning(dataset = train, precision = \"noshots\", fst = FST_NoShots, runs = runs, nb_few_shots=[0])\n"
   ]
  }
 ],
 "metadata": {
  "kernelspec": {
   "display_name": "Python 3",
   "language": "python",
   "name": "python3"
  },
  "language_info": {
   "codemirror_mode": {
    "name": "ipython",
    "version": 3
   },
   "file_extension": ".py",
   "mimetype": "text/x-python",
   "name": "python",
   "nbconvert_exporter": "python",
   "pygments_lexer": "ipython3",
   "version": "3.10.6"
  }
 },
 "nbformat": 4,
 "nbformat_minor": 2
}
