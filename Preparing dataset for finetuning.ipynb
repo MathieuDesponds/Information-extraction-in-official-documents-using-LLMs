{
 "cells": [
  {
   "cell_type": "code",
   "execution_count": 3,
   "metadata": {},
   "outputs": [
    {
     "name": "stdout",
     "output_type": "stream",
     "text": [
      "./ner/saves/datasets/ontonote5_test_1403.pkl\n",
      "./ner/saves/datasets/ontonote5_train_9873.pkl\n"
     ]
    }
   ],
   "source": [
    "from ner.llm_ner.prompt_techniques.pt_abstract import PromptTechnique\n",
    "from ner.llm_ner.prompt_techniques.pt_discussion import PT_OutputList\n",
    "from ner.llm_ner.prompt_techniques.pt_gpt_ner import PT_GPT_NER\n",
    "from ner.llm_ner.prompt_techniques.pt_wrapper import PT_Wrapper\n",
    "from ner.llm_ner.prompt_techniques.pt_multi_pt import PT_Multi_PT, PT_2Time_Tagger\n",
    "from ner.llm_ner.prompt_techniques.pt_tagger import PT_Tagger\n",
    "from ner.llm_ner.prompt_techniques.pt_get_entities import PT_GetEntities\n",
    "from ner.llm_ner.prompt_techniques.pt_filing import PT_Filing\n",
    "from ner.llm_ner.few_shots_techniques import *\n",
    "from ner.llm_ner.prompts import *\n",
    "%reload_ext autoreload\n",
    "%autoreload 2\n",
    "from ner.Datasets.OntoNotes5Dataset import OntoNote5Dataset\n",
    "train, test = OntoNote5Dataset.my_load_dataset()"
   ]
  },
  {
   "cell_type": "code",
   "execution_count": 8,
   "metadata": {},
   "outputs": [
    {
     "name": "stderr",
     "output_type": "stream",
     "text": [
      "40it [00:00, 828.96it/s]\n"
     ]
    }
   ],
   "source": [
    "runs = 4000\n",
    "plus_plus = True\n",
    "\n",
    "for pt in [PT_OutputList, PT_Wrapper, PT] :\n",
    "    pt = pt(None, plus_plus=plus_plus, prompt_template = prompt_raw, with_precision= False)\n",
    "    pt.process_dataset_for_finetuning(dataset = train, precision = \"raw\", runs = runs, fst= FST_NoShots, nb_few_shots=[0])"
   ]
  },
  {
   "cell_type": "code",
   "execution_count": null,
   "metadata": {},
   "outputs": [],
   "source": [
    "\n",
    "runs = 10 \n",
    "for plus_plus in [True, False] :\n",
    "    for pt in [PT_GPT_NER(None,plus_plus=plus_plus), PT_OutputList(None,plus_plus=plus_plus), PT_Wrapper(None,plus_plus=plus_plus), PT_Tagger(None,plus_plus=plus_plus), PT_GetEntities(None,plus_plus=plus_plus)] :\n",
    "        print(pt)\n",
    "        pt.process_dataset_for_finetuning(dataset = train, precision = \"++\" if plus_plus else \"\" , runs = runs)\n",
    "        pt.process_dataset_for_finetuning(dataset = train, precision = (\"++_\" if plus_plus else \"\") + \"noshots\", fst = FST_NoShots, runs = runs, nb_few_shots=[0])\n",
    "\n",
    "## Ou ## \n",
    "\n",
    "plus_plus = False\n",
    "for pt in [PT_GPT_NER(None,plus_plus=plus_plus), PT_OutputList(None,plus_plus=plus_plus), PT_Wrapper(None,plus_plus=plus_plus), PT_Tagger(None,plus_plus=plus_plus), PT_GetEntities(None,plus_plus=plus_plus)] :\n",
    "    print(pt)\n",
    "    pt.process_dataset_for_finetuning(dataset = train, precision = \"\" , runs = runs)\n",
    "    pt.process_dataset_for_finetuning(dataset = train, precision = \"noshots\", fst = FST_NoShots, runs = runs, nb_few_shots=[0])\n",
    "\n",
    "plus_plus = True\n",
    "for pt in [PT_GPT_NER(None,plus_plus=plus_plus), PT_OutputList(None,plus_plus=plus_plus), PT_Wrapper(None,plus_plus=plus_plus), PT_Tagger(None,plus_plus=plus_plus), PT_GetEntities(None,plus_plus=plus_plus)] :\n",
    "    pt.process_dataset_for_finetuning(dataset = train, precision = \"noshots\", fst = FST_NoShots, runs = runs, nb_few_shots=[0])\n"
   ]
  }
 ],
 "metadata": {
  "kernelspec": {
   "display_name": "Python 3",
   "language": "python",
   "name": "python3"
  },
  "language_info": {
   "codemirror_mode": {
    "name": "ipython",
    "version": 3
   },
   "file_extension": ".py",
   "mimetype": "text/x-python",
   "name": "python",
   "nbconvert_exporter": "python",
   "pygments_lexer": "ipython3",
   "version": "3.10.12"
  }
 },
 "nbformat": 4,
 "nbformat_minor": 2
}
