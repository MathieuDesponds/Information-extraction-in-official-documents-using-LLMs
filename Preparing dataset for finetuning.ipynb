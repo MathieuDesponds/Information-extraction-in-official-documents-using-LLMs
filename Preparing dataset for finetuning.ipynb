{
 "cells": [
  {
   "cell_type": "code",
   "execution_count": 2,
   "metadata": {},
   "outputs": [
    {
     "name": "stderr",
     "output_type": "stream",
     "text": [
      "/myhome/miniconda3/lib/python3.10/site-packages/tqdm/auto.py:21: TqdmWarning: IProgress not found. Please update jupyter and ipywidgets. See https://ipywidgets.readthedocs.io/en/stable/user_install.html\n",
      "  from .autonotebook import tqdm as notebook_tqdm\n"
     ]
    }
   ],
   "source": [
    "from ner.llm_ner.prompt_techniques.pt_abstract import PromptTechnique\n",
    "from ner.llm_ner.prompt_techniques.pt_discussion import PT_OutputList\n",
    "from ner.llm_ner.prompt_techniques.pt_gpt_ner import PT_GPT_NER\n",
    "from ner.llm_ner.prompt_techniques.pt_wrapper import PT_Wrapper\n",
    "from ner.llm_ner.prompt_techniques.pt_multi_pt import PT_Multi_PT, PT_2Time_Tagger\n",
    "from ner.llm_ner.prompt_techniques.pt_tagger import PT_Tagger\n",
    "from ner.llm_ner.prompt_techniques.pt_filing import PT_Filing \n",
    "from ner.llm_ner.prompt_techniques.pt_get_entities import PT_GetEntities\n",
    "from ner.llm_ner.prompt_techniques.pt_filing import PT_Filing\n",
    "from ner.llm_ner.few_shots_techniques import *\n",
    "from ner.llm_ner.prompts import *\n",
    "from ner.Datasets.OntoNotes5Dataset import OntoNote5Dataset\n",
    "from ner.Datasets.Conll2003Dataset import Conll2003Dataset \n",
    "\n",
    "%reload_ext autoreload\n",
    "%autoreload 2\n",
    "\n",
    "train, test = OntoNote5Dataset.my_load_dataset()"
   ]
  },
  {
   "cell_type": "code",
   "execution_count": 8,
   "metadata": {},
   "outputs": [
    {
     "name": "stderr",
     "output_type": "stream",
     "text": [
      "200it [00:01, 198.64it/s]\n",
      "200it [00:00, 208.75it/s]\n",
      "200it [00:00, 212.63it/s]\n",
      "200it [00:01, 176.05it/s]\n",
      "200it [00:00, 219.04it/s]\n",
      "200it [00:00, 215.92it/s]\n",
      "200it [00:01, 197.53it/s]\n",
      "200it [00:00, 205.74it/s]\n",
      "200it [00:01, 177.14it/s]\n"
     ]
    },
    {
     "name": "stdout",
     "output_type": "stream",
     "text": [
      "10\n"
     ]
    },
    {
     "name": "stderr",
     "output_type": "stream",
     "text": [
      "200it [00:00, 209.87it/s]\n",
      "200it [00:00, 211.33it/s]\n",
      "200it [00:00, 208.13it/s]\n",
      "200it [00:01, 177.60it/s]\n",
      "200it [00:00, 210.34it/s]\n",
      "200it [00:00, 228.50it/s]\n",
      "200it [00:00, 208.38it/s]\n",
      "200it [00:00, 209.86it/s]\n",
      "200it [00:01, 189.23it/s]\n",
      "200it [00:00, 207.55it/s]\n"
     ]
    },
    {
     "name": "stdout",
     "output_type": "stream",
     "text": [
      "20\n"
     ]
    },
    {
     "name": "stderr",
     "output_type": "stream",
     "text": [
      "200it [00:00, 212.95it/s]\n",
      "200it [00:00, 200.30it/s]\n",
      "200it [00:01, 167.46it/s]\n",
      "200it [00:00, 219.84it/s]\n",
      "200it [00:00, 207.52it/s]\n",
      "200it [00:00, 208.68it/s]\n",
      "200it [00:00, 209.71it/s]\n",
      "200it [00:01, 187.10it/s]\n",
      "200it [00:00, 216.07it/s]\n",
      "200it [00:00, 210.12it/s]\n"
     ]
    },
    {
     "name": "stdout",
     "output_type": "stream",
     "text": [
      "30\n"
     ]
    },
    {
     "name": "stderr",
     "output_type": "stream",
     "text": [
      "200it [00:00, 217.72it/s]\n",
      "200it [00:01, 168.57it/s]\n",
      "200it [00:00, 201.82it/s]\n",
      "200it [00:00, 210.64it/s]\n",
      "200it [00:00, 212.86it/s]\n",
      "200it [00:00, 212.23it/s]\n",
      "200it [00:01, 179.29it/s]\n",
      "200it [00:00, 207.19it/s]\n",
      "200it [00:00, 202.57it/s]\n",
      "200it [00:00, 209.76it/s]\n"
     ]
    },
    {
     "name": "stdout",
     "output_type": "stream",
     "text": [
      "40\n"
     ]
    },
    {
     "name": "stderr",
     "output_type": "stream",
     "text": [
      "200it [00:01, 188.61it/s]\n",
      "200it [00:00, 208.11it/s]\n",
      "200it [00:00, 206.61it/s]\n",
      "200it [00:00, 203.63it/s]\n",
      "200it [00:00, 208.61it/s]\n",
      "200it [00:01, 169.79it/s]\n",
      "200it [00:00, 203.96it/s]\n",
      "200it [00:00, 208.66it/s]\n",
      "200it [00:00, 217.09it/s]\n",
      "200it [00:01, 172.60it/s]\n"
     ]
    },
    {
     "name": "stdout",
     "output_type": "stream",
     "text": [
      "50\n"
     ]
    },
    {
     "name": "stderr",
     "output_type": "stream",
     "text": [
      "200it [00:00, 215.32it/s]\n",
      "200it [00:00, 205.82it/s]\n",
      "200it [00:00, 202.33it/s]\n",
      "200it [00:00, 224.90it/s]\n",
      "200it [00:01, 181.30it/s]\n",
      "200it [00:00, 217.65it/s]\n",
      "200it [00:00, 205.86it/s]\n",
      "200it [00:00, 211.33it/s]\n",
      "200it [00:01, 177.50it/s]\n",
      "200it [00:00, 209.86it/s]\n"
     ]
    },
    {
     "name": "stdout",
     "output_type": "stream",
     "text": [
      "60\n"
     ]
    },
    {
     "name": "stderr",
     "output_type": "stream",
     "text": [
      "200it [00:00, 216.13it/s]\n",
      "200it [00:00, 209.04it/s]\n",
      "200it [00:00, 203.92it/s]\n",
      "200it [00:01, 181.89it/s]\n",
      "200it [00:00, 215.20it/s]\n",
      "200it [00:00, 216.50it/s]\n",
      "200it [00:00, 216.09it/s]\n",
      "200it [00:01, 177.48it/s]\n",
      "200it [00:00, 209.99it/s]\n",
      "200it [00:00, 213.26it/s]\n"
     ]
    },
    {
     "name": "stdout",
     "output_type": "stream",
     "text": [
      "70\n"
     ]
    },
    {
     "name": "stderr",
     "output_type": "stream",
     "text": [
      "200it [00:00, 206.68it/s]\n",
      "200it [00:01, 178.75it/s]\n",
      "200it [00:00, 209.01it/s]\n",
      "200it [00:00, 207.66it/s]\n",
      "200it [00:00, 208.90it/s]\n",
      "200it [00:01, 199.57it/s]\n",
      "200it [00:01, 177.04it/s]\n",
      "200it [00:00, 217.16it/s]\n",
      "200it [00:00, 206.84it/s]\n",
      "200it [00:00, 203.83it/s]\n"
     ]
    },
    {
     "name": "stdout",
     "output_type": "stream",
     "text": [
      "80\n"
     ]
    },
    {
     "name": "stderr",
     "output_type": "stream",
     "text": [
      "200it [00:01, 177.54it/s]\n",
      "200it [00:00, 204.84it/s]\n",
      "200it [00:00, 209.09it/s]\n",
      "200it [00:00, 205.85it/s]\n",
      "200it [00:00, 210.00it/s]\n",
      "200it [00:01, 174.67it/s]\n",
      "200it [00:00, 219.35it/s]\n",
      "200it [00:00, 215.47it/s]\n",
      "200it [00:00, 213.50it/s]\n",
      "200it [00:01, 177.60it/s]\n"
     ]
    },
    {
     "name": "stdout",
     "output_type": "stream",
     "text": [
      "90\n"
     ]
    },
    {
     "name": "stderr",
     "output_type": "stream",
     "text": [
      "200it [00:00, 208.52it/s]\n",
      "200it [00:00, 200.10it/s]\n",
      "200it [00:00, 202.49it/s]\n",
      "200it [00:00, 208.03it/s]\n",
      "200it [00:01, 181.12it/s]\n",
      "200it [00:00, 209.08it/s]\n",
      "200it [00:00, 206.46it/s]\n",
      "200it [00:00, 210.04it/s]\n",
      "200it [00:01, 166.02it/s]\n",
      "200it [00:00, 203.95it/s]\n"
     ]
    },
    {
     "name": "stdout",
     "output_type": "stream",
     "text": [
      "100\n"
     ]
    },
    {
     "name": "stderr",
     "output_type": "stream",
     "text": [
      "200it [00:00, 207.01it/s]\n"
     ]
    }
   ],
   "source": [
    "runs = 20002\n",
    "plus_plus = False\n",
    "\n",
    "for pt in [PT_OutputList] :\n",
    "    pt = pt(None, plus_plus=plus_plus, prompt_template = prompt_raw, with_precision= False)\n",
    "    pt.process_dataset_for_finetuning(dataset = train, precision = \"raw\", runs = runs, fst= FST_NoShots, nb_few_shots=[0])"
   ]
  },
  {
   "cell_type": "code",
   "execution_count": 11,
   "metadata": {},
   "outputs": [],
   "source": [
    "import os\n",
    "from datasets import concatenate_datasets \n",
    "\n",
    "all_datas = []\n",
    "root_directory = \"ner/saves/datasets/\"\n",
    "for foldername, subfolders, filenames in os.walk(root_directory):\n",
    "    for filename in filenames:\n",
    "        # Construct the full path of the file\n",
    "        file_path = os.path.join(foldername, filename)\n",
    "        # Check if the file has a .pkl extension (assuming you are looking for pickle files)\n",
    "        if filename.startswith(\"ontonote5_for-ft_discussion_raw\"):\n",
    "            res_inst = load(file_path)\n",
    "            all_datas.append(res_inst)\n",
    "merged_datasets = concatenate_datasets(all_datas)\n",
    "path = f\"./ner/saves/datasets/ontonote5_for-ft_discussion_raw_60000.pkl\"\n",
    "dump(merged_datasets,path)"
   ]
  },
  {
   "cell_type": "code",
   "execution_count": 12,
   "metadata": {},
   "outputs": [
    {
     "data": {
      "text/plain": [
       "Dataset({\n",
       "    features: ['text'],\n",
       "    num_rows: 62000\n",
       "})"
      ]
     },
     "execution_count": 12,
     "metadata": {},
     "output_type": "execute_result"
    }
   ],
   "source": [
    "merged_datasets"
   ]
  },
  {
   "cell_type": "code",
   "execution_count": 4,
   "metadata": {},
   "outputs": [
    {
     "name": "stderr",
     "output_type": "stream",
     "text": [
      "200it [01:20,  2.48it/s]\n",
      "200it [01:18,  2.56it/s]\n",
      "200it [01:19,  2.51it/s]\n",
      "200it [01:21,  2.47it/s]\n",
      "200it [01:21,  2.47it/s]\n",
      "200it [01:19,  2.52it/s]\n",
      "200it [01:23,  2.40it/s]\n",
      "200it [01:18,  2.56it/s]\n",
      "200it [01:22,  2.41it/s]\n"
     ]
    },
    {
     "name": "stdout",
     "output_type": "stream",
     "text": [
      "10\n"
     ]
    },
    {
     "name": "stderr",
     "output_type": "stream",
     "text": [
      "200it [01:21,  2.44it/s]\n",
      "200it [01:18,  2.55it/s]\n",
      "200it [01:19,  2.51it/s]\n",
      "200it [01:18,  2.55it/s]\n",
      "200it [01:18,  2.55it/s]\n",
      "200it [01:18,  2.56it/s]\n",
      "200it [01:19,  2.50it/s]\n",
      "200it [01:18,  2.53it/s]\n",
      "200it [01:06,  3.02it/s]\n",
      "200it [01:02,  3.21it/s]\n"
     ]
    },
    {
     "name": "stdout",
     "output_type": "stream",
     "text": [
      "20\n"
     ]
    },
    {
     "name": "stderr",
     "output_type": "stream",
     "text": [
      "200it [01:00,  3.31it/s]\n",
      "200it [01:03,  3.14it/s]\n",
      "200it [01:04,  3.12it/s]\n",
      "200it [01:01,  3.27it/s]\n",
      "200it [01:02,  3.21it/s]\n",
      "200it [01:00,  3.31it/s]\n",
      "200it [01:02,  3.18it/s]\n",
      "200it [01:01,  3.23it/s]\n",
      "200it [01:01,  3.26it/s]\n",
      "200it [01:01,  3.24it/s]\n"
     ]
    },
    {
     "name": "stdout",
     "output_type": "stream",
     "text": [
      "30\n"
     ]
    },
    {
     "name": "stderr",
     "output_type": "stream",
     "text": [
      "200it [01:02,  3.21it/s]\n",
      "200it [01:02,  3.18it/s]\n",
      "200it [01:01,  3.24it/s]\n",
      "200it [01:03,  3.16it/s]\n",
      "200it [01:02,  3.22it/s]\n",
      "200it [01:02,  3.22it/s]\n",
      "200it [01:00,  3.29it/s]\n",
      "200it [01:02,  3.20it/s]\n",
      "200it [01:03,  3.14it/s]\n",
      "200it [01:03,  3.15it/s]\n"
     ]
    },
    {
     "name": "stdout",
     "output_type": "stream",
     "text": [
      "40\n"
     ]
    },
    {
     "name": "stderr",
     "output_type": "stream",
     "text": [
      "200it [01:01,  3.24it/s]\n",
      "200it [01:02,  3.20it/s]\n",
      "200it [01:01,  3.26it/s]\n",
      "200it [01:03,  3.13it/s]\n",
      "200it [01:04,  3.11it/s]\n",
      "200it [01:05,  3.06it/s]\n",
      "200it [01:04,  3.08it/s]\n",
      "200it [01:02,  3.19it/s]\n",
      "200it [01:02,  3.17it/s]\n",
      "200it [01:04,  3.12it/s]\n"
     ]
    },
    {
     "name": "stdout",
     "output_type": "stream",
     "text": [
      "50\n"
     ]
    },
    {
     "name": "stderr",
     "output_type": "stream",
     "text": [
      "200it [01:03,  3.15it/s]\n"
     ]
    }
   ],
   "source": [
    "runs = 10001\n",
    "plus_plus = False\n",
    "\n",
    "for pt in [PT_OutputList] :\n",
    "    pt = pt(None, plus_plus=plus_plus, prompt_template = prompt_template_ontonotes, with_precision= False)\n",
    "    pt.process_dataset_for_finetuning(dataset = train, precision = \"3shots\", runs = runs, fst= FST_Sentence, nb_few_shots=[3])"
   ]
  },
  {
   "cell_type": "code",
   "execution_count": null,
   "metadata": {},
   "outputs": [],
   "source": [
    "\n",
    "runs = 10 \n",
    "for plus_plus in [True, False] :\n",
    "    for pt in [PT_GPT_NER(None,plus_plus=plus_plus), PT_OutputList(None,plus_plus=plus_plus), PT_Wrapper(None,plus_plus=plus_plus), PT_Tagger(None,plus_plus=plus_plus), PT_GetEntities(None,plus_plus=plus_plus)] :\n",
    "        print(pt)\n",
    "        pt.process_dataset_for_finetuning(dataset = train, precision = \"++\" if plus_plus else \"\" , runs = runs)\n",
    "        pt.process_dataset_for_finetuning(dataset = train, precision = (\"++_\" if plus_plus else \"\") + \"noshots\", fst = FST_NoShots, runs = runs, nb_few_shots=[0])\n",
    "\n",
    "## Ou ## \n",
    "\n",
    "plus_plus = False\n",
    "for pt in [PT_GPT_NER(None,plus_plus=plus_plus), PT_OutputList(None,plus_plus=plus_plus), PT_Wrapper(None,plus_plus=plus_plus), PT_Tagger(None,plus_plus=plus_plus), PT_GetEntities(None,plus_plus=plus_plus)] :\n",
    "    print(pt)\n",
    "    pt.process_dataset_for_finetuning(dataset = train, precision = \"\" , runs = runs)\n",
    "    pt.process_dataset_for_finetuning(dataset = train, precision = \"noshots\", fst = FST_NoShots, runs = runs, nb_few_shots=[0])\n",
    "\n",
    "plus_plus = True\n",
    "for pt in [PT_GPT_NER(None,plus_plus=plus_plus), PT_OutputList(None,plus_plus=plus_plus), PT_Wrapper(None,plus_plus=plus_plus), PT_Tagger(None,plus_plus=plus_plus), PT_GetEntities(None,plus_plus=plus_plus)] :\n",
    "    pt.process_dataset_for_finetuning(dataset = train, precision = \"noshots\", fst = FST_NoShots, runs = runs, nb_few_shots=[0])\n"
   ]
  }
 ],
 "metadata": {
  "kernelspec": {
   "display_name": "Python 3",
   "language": "python",
   "name": "python3"
  },
  "language_info": {
   "codemirror_mode": {
    "name": "ipython",
    "version": 3
   },
   "file_extension": ".py",
   "mimetype": "text/x-python",
   "name": "python",
   "nbconvert_exporter": "python",
   "pygments_lexer": "ipython3",
   "version": "3.10.6"
  }
 },
 "nbformat": 4,
 "nbformat_minor": 2
}
