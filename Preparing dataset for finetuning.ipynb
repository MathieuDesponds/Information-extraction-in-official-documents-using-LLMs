{
 "cells": [
  {
   "cell_type": "code",
   "execution_count": 2,
   "metadata": {},
   "outputs": [
    {
     "name": "stderr",
     "output_type": "stream",
     "text": [
      "[nltk_data] Downloading package stopwords to /root/nltk_data...\n",
      "[nltk_data]   Package stopwords is already up-to-date!\n",
      "Some weights of the model checkpoint at dslim/bert-base-NER were not used when initializing BertForTokenClassification: ['bert.pooler.dense.weight', 'bert.pooler.dense.bias']\n",
      "- This IS expected if you are initializing BertForTokenClassification from the checkpoint of a model trained on another task or with another architecture (e.g. initializing a BertForSequenceClassification model from a BertForPreTraining model).\n",
      "- This IS NOT expected if you are initializing BertForTokenClassification from the checkpoint of a model that you expect to be exactly identical (initializing a BertForSequenceClassification model from a BertForSequenceClassification model).\n"
     ]
    }
   ],
   "source": [
    "from ner.llm_ner.prompt_techniques.pt_abstract import PromptTechnique\n",
    "from ner.llm_ner.prompt_techniques.pt_discussion import PT_OutputList\n",
    "from ner.llm_ner.prompt_techniques.pt_gpt_ner import PT_GPT_NER\n",
    "from ner.llm_ner.prompt_techniques.pt_wrapper import PT_Wrapper\n",
    "from ner.llm_ner.prompt_techniques.pt_multi_pt import PT_Multi_PT, PT_2Time_Tagger\n",
    "from ner.llm_ner.prompt_techniques.pt_tagger import PT_Tagger\n",
    "from ner.llm_ner.prompt_techniques.pt_filing import PT_Filing \n",
    "from ner.llm_ner.prompt_techniques.pt_get_entities import PT_GetEntities\n",
    "from ner.llm_ner.prompt_techniques.pt_filing import PT_Filing\n",
    "from ner.llm_ner.few_shots_techniques import *\n",
    "from ner.llm_ner.prompts import *\n",
    "from ner.Datasets.OntoNotes5Dataset import OntoNote5Dataset\n",
    "\n",
    "%reload_ext autoreload\n",
    "%autoreload 2\n",
    "\n",
    "train, test = OntoNote5Dataset.my_load_dataset()"
   ]
  },
  {
   "cell_type": "code",
   "execution_count": 3,
   "metadata": {},
   "outputs": [
    {
     "name": "stderr",
     "output_type": "stream",
     "text": [
      "200it [00:02, 75.43it/s] \n",
      "200it [00:03, 60.22it/s]\n",
      "200it [00:05, 35.25it/s]\n",
      "200it [00:01, 159.70it/s]\n",
      "200it [00:01, 164.03it/s]\n",
      "200it [00:03, 57.32it/s]\n",
      "200it [00:03, 63.89it/s] \n",
      "200it [00:01, 164.81it/s]\n",
      "200it [00:01, 142.67it/s]\n",
      "200it [00:01, 153.23it/s]\n",
      "200it [00:01, 156.54it/s]\n",
      "200it [00:01, 110.04it/s]\n",
      "200it [00:01, 139.47it/s]\n",
      "200it [00:01, 193.81it/s]\n",
      "200it [00:00, 342.00it/s]\n",
      "200it [00:00, 340.55it/s]\n",
      "200it [00:01, 154.39it/s]\n",
      "200it [00:01, 105.49it/s]\n",
      "200it [00:02, 73.09it/s] \n",
      "200it [00:01, 119.79it/s]\n",
      "200it [02:43,  1.22it/s]\n",
      "200it [02:55,  1.14it/s]\n",
      "200it [03:18,  1.01it/s]\n",
      "200it [02:59,  1.12it/s]\n",
      "200it [02:56,  1.13it/s]\n",
      "200it [02:57,  1.13it/s]\n",
      "200it [03:23,  1.02s/it]\n",
      "200it [03:06,  1.07it/s]\n",
      "200it [03:31,  1.06s/it]\n",
      "200it [02:14,  1.49it/s]\n",
      "200it [03:08,  1.06it/s]\n",
      "200it [03:58,  1.19s/it]\n",
      "200it [02:43,  1.23it/s]\n",
      "200it [02:24,  1.39it/s]\n",
      "200it [02:39,  1.25it/s]\n",
      "200it [02:40,  1.25it/s]\n",
      "200it [02:38,  1.27it/s]\n",
      "200it [02:37,  1.27it/s]\n",
      "200it [02:49,  1.18it/s]\n",
      "200it [02:42,  1.23it/s]\n",
      "200it [03:05,  1.08it/s]\n",
      "200it [02:45,  1.21it/s]\n",
      "200it [03:03,  1.09it/s]\n",
      "200it [02:41,  1.24it/s]\n",
      "200it [03:12,  1.04it/s]\n",
      "200it [02:30,  1.33it/s]\n",
      "200it [02:54,  1.14it/s]\n",
      "200it [02:38,  1.26it/s]\n",
      "200it [03:05,  1.08it/s]\n",
      "200it [02:59,  1.12it/s]\n",
      "200it [02:40,  1.25it/s]\n",
      "200it [02:43,  1.22it/s]\n",
      "200it [03:01,  1.10it/s]\n",
      "200it [03:16,  1.02it/s]\n",
      "200it [02:39,  1.25it/s]\n",
      "200it [02:34,  1.30it/s]\n",
      "200it [02:45,  1.21it/s]\n",
      "200it [02:34,  1.29it/s]\n",
      "200it [02:45,  1.21it/s]\n",
      "200it [02:51,  1.16it/s]\n"
     ]
    }
   ],
   "source": [
    "runs = 2000\n",
    "plus_plus = True\n",
    "\n",
    "for pt in [PT_OutputList, PT_Wrapper, PT_GPT_NER, PT_Tagger, PT_GetEntities, PT_Filing] :\n",
    "    pt = pt(None, plus_plus=plus_plus, prompt_template = prompt_raw, with_precision= False)\n",
    "    pt.process_dataset_for_finetuning(dataset = train, precision = \"raw\", runs = runs, fst= FST_NoShots, nb_few_shots=[0])"
   ]
  },
  {
   "cell_type": "code",
   "execution_count": null,
   "metadata": {},
   "outputs": [],
   "source": [
    "\n",
    "runs = 10 \n",
    "for plus_plus in [True, False] :\n",
    "    for pt in [PT_GPT_NER(None,plus_plus=plus_plus), PT_OutputList(None,plus_plus=plus_plus), PT_Wrapper(None,plus_plus=plus_plus), PT_Tagger(None,plus_plus=plus_plus), PT_GetEntities(None,plus_plus=plus_plus)] :\n",
    "        print(pt)\n",
    "        pt.process_dataset_for_finetuning(dataset = train, precision = \"++\" if plus_plus else \"\" , runs = runs)\n",
    "        pt.process_dataset_for_finetuning(dataset = train, precision = (\"++_\" if plus_plus else \"\") + \"noshots\", fst = FST_NoShots, runs = runs, nb_few_shots=[0])\n",
    "\n",
    "## Ou ## \n",
    "\n",
    "plus_plus = False\n",
    "for pt in [PT_GPT_NER(None,plus_plus=plus_plus), PT_OutputList(None,plus_plus=plus_plus), PT_Wrapper(None,plus_plus=plus_plus), PT_Tagger(None,plus_plus=plus_plus), PT_GetEntities(None,plus_plus=plus_plus)] :\n",
    "    print(pt)\n",
    "    pt.process_dataset_for_finetuning(dataset = train, precision = \"\" , runs = runs)\n",
    "    pt.process_dataset_for_finetuning(dataset = train, precision = \"noshots\", fst = FST_NoShots, runs = runs, nb_few_shots=[0])\n",
    "\n",
    "plus_plus = True\n",
    "for pt in [PT_GPT_NER(None,plus_plus=plus_plus), PT_OutputList(None,plus_plus=plus_plus), PT_Wrapper(None,plus_plus=plus_plus), PT_Tagger(None,plus_plus=plus_plus), PT_GetEntities(None,plus_plus=plus_plus)] :\n",
    "    pt.process_dataset_for_finetuning(dataset = train, precision = \"noshots\", fst = FST_NoShots, runs = runs, nb_few_shots=[0])\n"
   ]
  }
 ],
 "metadata": {
  "kernelspec": {
   "display_name": "Python 3",
   "language": "python",
   "name": "python3"
  },
  "language_info": {
   "codemirror_mode": {
    "name": "ipython",
    "version": 3
   },
   "file_extension": ".py",
   "mimetype": "text/x-python",
   "name": "python",
   "nbconvert_exporter": "python",
   "pygments_lexer": "ipython3",
   "version": "3.11.5"
  }
 },
 "nbformat": 4,
 "nbformat_minor": 2
}
