{
 "cells": [
  {
   "cell_type": "code",
   "execution_count": null,
   "metadata": {},
   "outputs": [],
   "source": [
    "from ner.Datasets.utils import *\n",
    "from ner.Datasets.Conll2003Dataset import *\n",
    "\n",
    "%load_ext autoreload\n",
    "%autoreload 2"
   ]
  },
  {
   "cell_type": "code",
   "execution_count": null,
   "metadata": {},
   "outputs": [],
   "source": [
    "# data_tr = Conll2003Dataset(utils, split = 'train')\n",
    "# data_te = Conll2003Dataset(utils, split = 'test')"
   ]
  },
  {
   "cell_type": "code",
   "execution_count": null,
   "metadata": {},
   "outputs": [],
   "source": [
    "clean_data_te = Conll2003Dataset(split = 'test', cleaned = True)\n",
    "clean_data_tr = Conll2003Dataset(split = 'train', cleaned = True)"
   ]
  },
  {
   "cell_type": "code",
   "execution_count": null,
   "metadata": {},
   "outputs": [],
   "source": [
    "clean_data_te"
   ]
  },
  {
   "cell_type": "code",
   "execution_count": null,
   "metadata": {},
   "outputs": [],
   "source": [
    "save_conll_dataset(clean_data_te)\n",
    "save_conll_dataset(clean_data_tr)"
   ]
  },
  {
   "cell_type": "code",
   "execution_count": null,
   "metadata": {},
   "outputs": [],
   "source": [
    "dataset_test = load_conll_dataset(cleaned= True)"
   ]
  },
  {
   "cell_type": "code",
   "execution_count": null,
   "metadata": {},
   "outputs": [],
   "source": [
    "dataset_train.dataset"
   ]
  },
  {
   "cell_type": "markdown",
   "metadata": {},
   "source": [
    "## Preparing datasets for finetuning"
   ]
  },
  {
   "cell_type": "code",
   "execution_count": null,
   "metadata": {},
   "outputs": [],
   "source": [
    "from ner.llm_ner.prompt_techniques import *\n",
    "\n",
    "runs = 2000\n",
    "pt = PT_GPT_NER(None)\n",
    "res2 = pt.process_dataset_for_finetuning(runs=runs)\n",
    "pt = PT_OutputList(None)\n",
    "res2 = pt.process_dataset_for_finetuning(runs=runs)\n",
    "pt = PT_Wrapper(None)\n",
    "res2 = pt.process_dataset_for_finetuning(runs=runs)"
   ]
  },
  {
   "cell_type": "markdown",
   "metadata": {},
   "source": [
    "## Testing few-shots"
   ]
  },
  {
   "cell_type": "code",
   "execution_count": null,
   "metadata": {},
   "outputs": [],
   "source": [
    "# dataset_train, dataset_llama_50 = load_conll_dataset(split = 'test')\n",
    "# dataset_test = load_conll_dataset(split = 'test', cleaned=True)\n",
    "dataset_test_train, dataset_test_test = dataset_test.train_test_split(test_size=20)"
   ]
  },
  {
   "cell_type": "code",
   "execution_count": null,
   "metadata": {},
   "outputs": [],
   "source": [
    "from ner.Llama2_NER import Llama2_NER_FewShots_Entity\n",
    "ner_ent = Llama2_NER_FewShots_Entity(None, utils, dataset_test_train, nb_few_shots= 16, with_verify=False, prompt_type=\"discussion\")"
   ]
  },
  {
   "cell_type": "code",
   "execution_count": null,
   "metadata": {},
   "outputs": [],
   "source": [
    "# dataset_llama_50.select([8,10,22,24,25,44,49])\n",
    "for i, sample in enumerate(dataset_test_test) :\n",
    "    print(sample['text'])\n",
    "    print(sample['spans'])\n",
    "    print(ner_ent.get_prompts(sample['text'], [], 5))\n",
    "    print()\n",
    "    print(\"----------------------------------------------------\")\n",
    "    print()"
   ]
  },
  {
   "cell_type": "code",
   "execution_count": null,
   "metadata": {},
   "outputs": [],
   "source": []
  }
 ],
 "metadata": {
  "kernelspec": {
   "display_name": "Python 3",
   "language": "python",
   "name": "python3"
  },
  "language_info": {
   "codemirror_mode": {
    "name": "ipython",
    "version": 3
   },
   "file_extension": ".py",
   "mimetype": "text/x-python",
   "name": "python",
   "nbconvert_exporter": "python",
   "pygments_lexer": "ipython3",
   "version": "3.10.6"
  },
  "orig_nbformat": 4
 },
 "nbformat": 4,
 "nbformat_minor": 2
}
