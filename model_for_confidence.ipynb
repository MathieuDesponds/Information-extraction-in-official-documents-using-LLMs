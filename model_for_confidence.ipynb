{
 "cells": [
  {
   "cell_type": "code",
   "execution_count": null,
   "metadata": {},
   "outputs": [],
   "source": [
    "! pip install markupsafe"
   ]
  },
  {
   "cell_type": "code",
   "execution_count": 4,
   "metadata": {},
   "outputs": [],
   "source": [
    "import pandas as pd\n",
    "from sklearn.model_selection import train_test_split\n",
    "from sklearn.preprocessing import StandardScaler\n",
    "from tensorflow.keras.models import Sequential\n",
    "from tensorflow.keras.layers import Dense\n",
    "from tensorflow.keras.utils import to_categorical\n",
    "from sklearn.metrics import accuracy_score\n",
    "\n",
    "from ner.evaluating_confidence import load_generated_data_for_confidence\n"
   ]
  },
  {
   "cell_type": "code",
   "execution_count": 6,
   "metadata": {},
   "outputs": [
    {
     "data": {
      "text/plain": [
       "{'data_point_idx': '0',\n",
       " 'spans': [['JAPAN', 'LOC'], ['CHINA', 'PER']],\n",
       " 'logits_for_tags': [{'entity': ('Japan', 'LOC'),\n",
       "   'gold tag': 'LOC',\n",
       "   'outputted_tag': 'LOC',\n",
       "   'tags_logits': {'PER': 14.58165168762207,\n",
       "    'ORG': 12.636054992675781,\n",
       "    'LOC': 16.61681365966797,\n",
       "    'MISC': 12.887547492980957,\n",
       "    'None': 13.413434028625488},\n",
       "   'confidence': {'PER': 0.10763013730626471,\n",
       "    'ORG': 0.015380554243304057,\n",
       "    'LOC': 0.8237463600457737,\n",
       "    'MISC': 0.019778520000346703,\n",
       "    'None': 0.03346442840431089}},\n",
       "  {'entity': ('China', 'LOC'),\n",
       "   'gold tag': 'PER',\n",
       "   'outputted_tag': 'LOC',\n",
       "   'tags_logits': {'PER': 14.925336837768555,\n",
       "    'ORG': 14.356271743774414,\n",
       "    'LOC': 19.757312774658203,\n",
       "    'MISC': 16.524211883544922,\n",
       "    'None': 13.688724517822266},\n",
       "   'confidence': {'PER': 0.0075607221377126735,\n",
       "    'ORG': 0.004279780026078898,\n",
       "    'LOC': 0.9485577217806506,\n",
       "    'MISC': 0.03740639773662025,\n",
       "    'None': 0.002195378318937564}}]}"
      ]
     },
     "execution_count": 6,
     "metadata": {},
     "output_type": "execute_result"
    }
   ],
   "source": [
    "all_data[0]"
   ]
  },
  {
   "cell_type": "code",
   "execution_count": 8,
   "metadata": {},
   "outputs": [],
   "source": [
    "all_data = load_generated_data_for_confidence()\n",
    "output = []\n",
    "for dp in all_data:\n",
    "    for ent in dp['logits_for_tags']:\n",
    "        output.append(list(ent['tags_logits'].values())+[ent['gol']])"
   ]
  },
  {
   "cell_type": "code",
   "execution_count": 9,
   "metadata": {},
   "outputs": [
    {
     "data": {
      "text/plain": [
       "[14.58165168762207,\n",
       " 12.636054992675781,\n",
       " 16.61681365966797,\n",
       " 12.887547492980957,\n",
       " 13.413434028625488,\n",
       " {'PER': 14.58165168762207,\n",
       "  'ORG': 12.636054992675781,\n",
       "  'LOC': 16.61681365966797,\n",
       "  'MISC': 12.887547492980957,\n",
       "  'None': 13.413434028625488}]"
      ]
     },
     "execution_count": 9,
     "metadata": {},
     "output_type": "execute_result"
    }
   ],
   "source": [
    "output[0]"
   ]
  },
  {
   "cell_type": "code",
   "execution_count": null,
   "metadata": {},
   "outputs": [],
   "source": [
    "\n",
    "# Load your dataset\n",
    "# df = pd.read_csv('your_dataset.csv')\n",
    "\n",
    "# Assuming you have a dataframe 'df' with columns: feature_1, feature_2, feature_3, feature_4, feature_5, label\n",
    "\n",
    "# Split the data into features (X) and labels (y)\n",
    "X = df[['feature_1', 'feature_2', 'feature_3', 'feature_4', 'feature_5']]\n",
    "y = df['label']\n",
    "\n",
    "# Convert labels to categorical (one-hot encoding)\n",
    "y_categorical = to_categorical(y)\n",
    "\n",
    "# Split the data into training and testing sets\n",
    "X_train, X_test, y_train, y_test = train_test_split(X, y_categorical, test_size=0.2, random_state=42)\n",
    "\n",
    "# Standardize numerical features\n",
    "scaler = StandardScaler()\n",
    "X_train_scaled = scaler.fit_transform(X_train)\n",
    "X_test_scaled = scaler.transform(X_test)\n",
    "\n",
    "# Build a simple neural network\n",
    "model = Sequential()\n",
    "model.add(Dense(64, activation='relu', input_shape=(5,)))\n",
    "model.add(Dense(5, activation='softmax'))\n",
    "\n",
    "# Compile the model\n",
    "model.compile(optimizer='adam', loss='categorical_crossentropy', metrics=['accuracy'])\n",
    "\n",
    "# Train the model\n",
    "model.fit(X_train_scaled, y_train, epochs=10, batch_size=32, validation_split=0.2)\n",
    "\n",
    "# Evaluate the model\n",
    "y_pred = model.predict(X_test_scaled)\n",
    "y_pred_classes = [int(i) for i in y_pred.argmax(axis=-1)]\n",
    "y_test_classes = [int(i) for i in y_test.argmax(axis=-1)]\n",
    "\n",
    "accuracy = accuracy_score(y_test_classes, y_pred_classes)\n",
    "print(f'Test accuracy: {accuracy}')\n"
   ]
  }
 ],
 "metadata": {
  "kernelspec": {
   "display_name": "base",
   "language": "python",
   "name": "python3"
  },
  "language_info": {
   "codemirror_mode": {
    "name": "ipython",
    "version": 3
   },
   "file_extension": ".py",
   "mimetype": "text/x-python",
   "name": "python",
   "nbconvert_exporter": "python",
   "pygments_lexer": "ipython3",
   "version": "3.10.12"
  }
 },
 "nbformat": 4,
 "nbformat_minor": 2
}
