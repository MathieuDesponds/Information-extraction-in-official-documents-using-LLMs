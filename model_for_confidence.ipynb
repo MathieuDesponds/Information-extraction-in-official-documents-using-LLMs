{
 "cells": [
  {
   "cell_type": "code",
   "execution_count": 1,
   "metadata": {},
   "outputs": [],
   "source": [
    "\n",
    "import pandas as pd\n",
    "import numpy as np\n",
    "import matplotlib.pyplot as plt\n",
    "%matplotlib inline\n",
    "import seaborn as sns\n",
    "import math\n",
    "from statsmodels.stats import diagnostic\n",
    "from scipy import stats\n",
    "import statsmodels.api as sm\n",
    "import statsmodels.formula.api as smf"
   ]
  },
  {
   "cell_type": "code",
   "execution_count": 5,
   "metadata": {},
   "outputs": [],
   "source": [
    "from ner.evaluating_confidence import load_generated_data_for_confidence\n",
    "\n",
    "\n",
    "all_data = load_generated_data_for_confidence()\n",
    "points = [] # (right/false, confidence)\n",
    "for data_point in all_data:\n",
    "    for entity_point in data_point['logits_for_tags'] :\n",
    "        if entity_point['gold tag'] != 'None':\n",
    "            logits = list(entity_point['tags_logits'].values())\n",
    "            max_logit = np.max(logits)\n",
    "            min_logit = np.min(logits)\n",
    "            for i, tag in enumerate(['PER', 'ORG', 'LOC', 'MISC']):\n",
    "                points.append({\n",
    "                    \"target\" : 1 if entity_point['gold tag'] == tag else 0,\n",
    "                    \"tag\" : tag,\n",
    "                    \"gold_tag\" : entity_point['gold tag'],\n",
    "                    \"logit\" : logits[i],\n",
    "                    \"logit_min\" : logits[i] - min_logit,\n",
    "                    \"logit_max\" : logits[i] - max_logit\n",
    "                }\n",
    "            )\n",
    "df = pd.DataFrame.from_dict(points)"
   ]
  },
  {
   "cell_type": "code",
   "execution_count": 13,
   "metadata": {},
   "outputs": [
    {
     "name": "stdout",
     "output_type": "stream",
     "text": [
      "Optimization terminated successfully.\n",
      "         Current function value: 0.310038\n",
      "         Iterations 8\n",
      "                           Logit Regression Results                           \n",
      "==============================================================================\n",
      "Dep. Variable:                 target   No. Observations:                  824\n",
      "Model:                          Logit   Df Residuals:                      817\n",
      "Method:                           MLE   Df Model:                            6\n",
      "Date:                Wed, 15 Nov 2023   Pseudo R-squ.:                  0.4487\n",
      "Time:                        11:03:57   Log-Likelihood:                -255.47\n",
      "converged:                       True   LL-Null:                       -463.36\n",
      "Covariance Type:            nonrobust   LLR p-value:                 1.127e-86\n",
      "==================================================================================\n",
      "                     coef    std err          z      P>|z|      [0.025      0.975]\n",
      "----------------------------------------------------------------------------------\n",
      "Intercept         -1.0864      1.476     -0.736      0.462      -3.979       1.806\n",
      "C(tag)[T.MISC]    -3.1186      0.584     -5.344      0.000      -4.262      -1.975\n",
      "C(tag)[T.ORG]     -1.7547      0.330     -5.318      0.000      -2.401      -1.108\n",
      "C(tag)[T.PER]      0.6114      0.264      2.313      0.021       0.093       1.129\n",
      "logit             -0.0139      0.087     -0.160      0.873      -0.185       0.157\n",
      "logit_min          0.4548      0.074      6.157      0.000       0.310       0.600\n",
      "logit_max          0.1636      0.074      2.206      0.027       0.018       0.309\n",
      "==================================================================================\n"
     ]
    }
   ],
   "source": [
    "mod = smf.logit(formula='target ~ C(tag) + logit + logit_min + logit_max ', data=df)\n",
    "res = mod.fit()\n",
    "print(res.summary())"
   ]
  },
  {
   "cell_type": "markdown",
   "metadata": {},
   "source": [
    "## Model 1 : Training a model using sklearn LogisticRegression\n",
    "\n",
    "Based on logit tag, logit_max logit_low, tell me if this tag is the right one predicted."
   ]
  },
  {
   "cell_type": "code",
   "execution_count": 17,
   "metadata": {},
   "outputs": [
    {
     "name": "stdout",
     "output_type": "stream",
     "text": [
      "Accuracy: 0.92\n",
      "              precision    recall  f1-score   support\n",
      "\n",
      "           0       0.93      0.95      0.94       120\n",
      "           1       0.86      0.82      0.84        45\n",
      "\n",
      "    accuracy                           0.92       165\n",
      "   macro avg       0.90      0.89      0.89       165\n",
      "weighted avg       0.91      0.92      0.91       165\n",
      "\n"
     ]
    }
   ],
   "source": [
    "import pandas as pd\n",
    "from sklearn.model_selection import train_test_split\n",
    "from sklearn.linear_model import LogisticRegression\n",
    "from sklearn.metrics import accuracy_score, classification_report\n",
    "from ner.evaluating_confidence import load_generated_data_for_confidence\n",
    "\n",
    "\n",
    "all_data = load_generated_data_for_confidence()\n",
    "points = [] # (right/false, confidence)\n",
    "for data_point in all_data:\n",
    "    for entity_point in data_point['logits_for_tags'] :\n",
    "        if entity_point['gold tag'] != 'None':\n",
    "            logits = list(entity_point['tags_logits'].values())\n",
    "            max_logit = np.max(logits)\n",
    "            min_logit = np.min(logits)\n",
    "            for i, tag in enumerate(['PER', 'ORG', 'LOC', 'MISC']):\n",
    "                points.append({\n",
    "                    \"target\" : 1 if entity_point['gold tag'] == tag else 0,\n",
    "                    \"tag\" : tag,\n",
    "                    \"gold_tag\" : entity_point['gold tag'],\n",
    "                    \"logit\" : logits[i],\n",
    "                    \"logit_min\" : logits[i] - min_logit,\n",
    "                    \"logit_max\" : logits[i] - max_logit\n",
    "                }\n",
    "            )\n",
    "df = pd.DataFrame.from_dict(points)\n",
    "\n",
    "# Assuming df is your DataFrame with columns including 'target', 'tag', 'logit', 'logit_min', 'logit_max'\n",
    "\n",
    "# Separate features (X) and target variable (y)\n",
    "X = df[['tag', 'logit', 'logit_min', 'logit_max']]\n",
    "y = df['target']\n",
    "\n",
    "# Convert categorical variables to dummy/indicator variables\n",
    "X = pd.get_dummies(X, columns=['tag'], drop_first=True)\n",
    "\n",
    "# Split the data into training and testing sets\n",
    "X_train, X_test, y_train, y_test = train_test_split(X, y, test_size=0.2, random_state=42)\n",
    "\n",
    "# Initialize and train the logistic regression model\n",
    "model = LogisticRegression()\n",
    "model.fit(X_train, y_train)\n",
    "\n",
    "# Make predictions on the test set\n",
    "y_pred = model.predict(X_test)\n",
    "proba_predictions = model.predict_proba(X_test)\n",
    "\n",
    "# Evaluate the model\n",
    "accuracy = accuracy_score(y_test, y_pred)\n",
    "print(f'Accuracy: {accuracy:.2f}')\n",
    "\n",
    "# Additional evaluation metrics\n",
    "print(classification_report(y_test, y_pred))"
   ]
  },
  {
   "cell_type": "code",
   "execution_count": 21,
   "metadata": {},
   "outputs": [
    {
     "data": {
      "text/plain": [
       "<matplotlib.collections.PathCollection at 0x7fe5042b92a0>"
      ]
     },
     "execution_count": 21,
     "metadata": {},
     "output_type": "execute_result"
    },
    {
     "data": {
      "image/png": "[encoded data removed]",
      "text/plain": [
       "<Figure size 432x288 with 1 Axes>"
      ]
     },
     "metadata": {
      "needs_background": "light"
     },
     "output_type": "display_data"
    }
   ],
   "source": [
    "p_false = [p[0] for p in proba_predictions]\n",
    "p_true = [p[1] for p in proba_predictions]\n",
    "\n",
    "plt.scatter(p_false, p_true, c = y_test)"
   ]
  },
  {
   "cell_type": "code",
   "execution_count": null,
   "metadata": {},
   "outputs": [],
   "source": []
  },
  {
   "cell_type": "markdown",
   "metadata": {},
   "source": [
    "## Model 2 : Asking fo the confidence in the max token"
   ]
  },
  {
   "cell_type": "code",
   "execution_count": 42,
   "metadata": {},
   "outputs": [
    {
     "name": "stdout",
     "output_type": "stream",
     "text": [
      "Accuracy: 0.90\n",
      "              precision    recall  f1-score   support\n",
      "\n",
      "           0       0.67      0.86      0.75         7\n",
      "           1       0.97      0.91      0.94        35\n",
      "\n",
      "    accuracy                           0.90        42\n",
      "   macro avg       0.82      0.89      0.85        42\n",
      "weighted avg       0.92      0.90      0.91        42\n",
      "\n"
     ]
    }
   ],
   "source": [
    "import pandas as pd\n",
    "from sklearn.discriminant_analysis import StandardScaler\n",
    "from sklearn.model_selection import train_test_split\n",
    "from sklearn.linear_model import LogisticRegression\n",
    "from sklearn.metrics import accuracy_score, classification_report\n",
    "from sklearn.pipeline import make_pipeline\n",
    "from ner.evaluating_confidence import load_generated_data_for_confidence\n",
    "\n",
    "\n",
    "all_data = load_generated_data_for_confidence()\n",
    "points = [] # (right/false, confidence)\n",
    "for data_point in all_data:\n",
    "    for entity_point in data_point['logits_for_tags'] :\n",
    "        if entity_point['gold tag'] != 'None':\n",
    "            logits = list(entity_point['tags_logits'].values())\n",
    "            max_logit = np.max(logits)\n",
    "            min_logit = np.min(logits)\n",
    "            points.append({\n",
    "                \"target\" : 1 if entity_point['gold tag'] == entity_point['outputted_tag'] else 0,\n",
    "                \"tag\" : entity_point['outputted_tag'],\n",
    "                \"logit_PER\" : logits[0],\n",
    "                \"logit_ORG\" : logits[1],\n",
    "                \"logit_LOC\" : logits[2],\n",
    "                \"logit_MISC\" : logits[3],\n",
    "                # \"logit_None\" : logits[4],\n",
    "                \"logit_min\" : min_logit,\n",
    "                \"logit_max\" : max_logit\n",
    "            }\n",
    "            )\n",
    "df = pd.DataFrame.from_dict(points)\n",
    "\n",
    "# Assuming df is your DataFrame with columns including 'target', 'tag', 'logit', 'logit_min', 'logit_max'\n",
    "\n",
    "# Separate features (X) and target variable (y)\n",
    "X = df[['tag', \"logit_PER\", \"logit_ORG\", \"logit_LOC\", \"logit_MISC\", 'logit_min', 'logit_max']]\n",
    "y = df['target']\n",
    "\n",
    "# Convert categorical variables to dummy/indicator variables\n",
    "X = pd.get_dummies(X, columns=['tag'], drop_first=True)\n",
    "\n",
    "# Split the data into training and testing sets\n",
    "X_train, X_test, y_train, y_test = train_test_split(X, y, test_size=0.2, random_state=42)\n",
    "\n",
    "# Initialize and train the logistic regression model\n",
    "pipe = make_pipeline(StandardScaler(), LogisticRegression())\n",
    "pipe.fit(X_train, y_train)  # apply scaling on training data\n",
    "pipe.score(X_test, y_test)  \n",
    "\n",
    "# Make predictions on the test set\n",
    "y_pred = pipe.predict(X_test)\n",
    "proba_predictions = pipe.predict_proba(X_test)\n",
    "\n",
    "# Evaluate the model\n",
    "accuracy = accuracy_score(y_test, y_pred)\n",
    "print(f'Accuracy: {accuracy:.2f}')\n",
    "\n",
    "# Additional evaluation metrics\n",
    "print(classification_report(y_test, y_pred))"
   ]
  },
  {
   "cell_type": "code",
   "execution_count": 43,
   "metadata": {},
   "outputs": [
    {
     "data": {
      "text/plain": [
       "<matplotlib.collections.PathCollection at 0x7fe4fbaf6530>"
      ]
     },
     "execution_count": 43,
     "metadata": {},
     "output_type": "execute_result"
    },
    {
     "data": {
      "image/png": "[encoded data removed]",
      "text/plain": [
       "<Figure size 432x288 with 1 Axes>"
      ]
     },
     "metadata": {
      "needs_background": "light"
     },
     "output_type": "display_data"
    }
   ],
   "source": [
    "p_false = [p[0] for p in proba_predictions]\n",
    "p_true = [p[1] for p in proba_predictions]\n",
    "\n",
    "plt.scatter(p_false, p_true, c = y_test)"
   ]
  },
  {
   "cell_type": "code",
   "execution_count": 44,
   "metadata": {},
   "outputs": [
    {
     "data": {
      "text/plain": [
       "(array([ 1.,  1.,  2.,  1.,  4.,  1.,  0.,  1.,  5., 26.]),\n",
       " array([0.01168199, 0.10998772, 0.20829345, 0.30659917, 0.4049049 ,\n",
       "        0.50321063, 0.60151635, 0.69982208, 0.7981278 , 0.89643353,\n",
       "        0.99473926]),\n",
       " <BarContainer object of 10 artists>)"
      ]
     },
     "execution_count": 44,
     "metadata": {},
     "output_type": "execute_result"
    },
    {
     "data": {
      "image/png": "[encoded data removed]",
      "text/plain": [
       "<Figure size 720x576 with 3 Axes>"
      ]
     },
     "metadata": {
      "needs_background": "light"
     },
     "output_type": "display_data"
    }
   ],
   "source": [
    "fig, (ax1, ax2, ax3) = plt.subplots(3, 1, figsize=(10, 8) )#, sharex=True, sharey=True)\n",
    "\n",
    "# Plotting histograms for True and False values\n",
    "ax1.hist(p_false, color='blue', edgecolor='black')\n",
    "ax2.hist(p_true, color='red', edgecolor='black')"
   ]
  },
  {
   "cell_type": "code",
   "execution_count": 45,
   "metadata": {},
   "outputs": [
    {
     "name": "stdout",
     "output_type": "stream",
     "text": [
      "Coefficients DataFrame:\n",
      "   logit_PER  logit_ORG  logit_LOC  logit_MISC  logit_min  logit_max  \\\n",
      "0   0.076987   0.175316  -0.110547   -0.277123   0.287049  -0.269294   \n",
      "\n",
      "   tag_MISC  tag_None   tag_ORG   tag_PER  \n",
      "0 -0.033548 -1.092345 -2.399437  1.276509  \n"
     ]
    }
   ],
   "source": [
    "# Create a DataFrame with feature names and coefficients\n",
    "coefficients_df = pd.DataFrame(data=model.coef_, columns=X.columns)\n",
    "\n",
    "# Display the DataFrame\n",
    "print(\"Coefficients DataFrame:\")\n",
    "print(coefficients_df)"
   ]
  },
  {
   "cell_type": "code",
   "execution_count": 4,
   "metadata": {},
   "outputs": [],
   "source": [
    "import pandas as pd\n",
    "from sklearn.model_selection import train_test_split\n",
    "from sklearn.preprocessing import StandardScaler\n",
    "from tensorflow.keras.models import Sequential\n",
    "from tensorflow.keras.layers import Dense\n",
    "from tensorflow.keras.utils import to_categorical\n",
    "from sklearn.metrics import accuracy_score\n",
    "\n",
    "from ner.evaluating_confidence import load_generated_data_for_confidence\n"
   ]
  },
  {
   "cell_type": "code",
   "execution_count": 6,
   "metadata": {},
   "outputs": [
    {
     "data": {
      "text/plain": [
       "{'data_point_idx': '0',\n",
       " 'spans': [['JAPAN', 'LOC'], ['CHINA', 'PER']],\n",
       " 'logits_for_tags': [{'entity': ('Japan', 'LOC'),\n",
       "   'gold tag': 'LOC',\n",
       "   'outputted_tag': 'LOC',\n",
       "   'tags_logits': {'PER': 14.58165168762207,\n",
       "    'ORG': 12.636054992675781,\n",
       "    'LOC': 16.61681365966797,\n",
       "    'MISC': 12.887547492980957,\n",
       "    'None': 13.413434028625488},\n",
       "   'confidence': {'PER': 0.10763013730626471,\n",
       "    'ORG': 0.015380554243304057,\n",
       "    'LOC': 0.8237463600457737,\n",
       "    'MISC': 0.019778520000346703,\n",
       "    'None': 0.03346442840431089}},\n",
       "  {'entity': ('China', 'LOC'),\n",
       "   'gold tag': 'PER',\n",
       "   'outputted_tag': 'LOC',\n",
       "   'tags_logits': {'PER': 14.925336837768555,\n",
       "    'ORG': 14.356271743774414,\n",
       "    'LOC': 19.757312774658203,\n",
       "    'MISC': 16.524211883544922,\n",
       "    'None': 13.688724517822266},\n",
       "   'confidence': {'PER': 0.0075607221377126735,\n",
       "    'ORG': 0.004279780026078898,\n",
       "    'LOC': 0.9485577217806506,\n",
       "    'MISC': 0.03740639773662025,\n",
       "    'None': 0.002195378318937564}}]}"
      ]
     },
     "execution_count": 6,
     "metadata": {},
     "output_type": "execute_result"
    }
   ],
   "source": [
    "all_data[0]"
   ]
  },
  {
   "cell_type": "code",
   "execution_count": 8,
   "metadata": {},
   "outputs": [],
   "source": [
    "all_data = load_generated_data_for_confidence()\n",
    "output = []\n",
    "for dp in all_data:\n",
    "    for ent in dp['logits_for_tags']:\n",
    "        output.append(list(ent['tags_logits'].values())+[ent['gol']])"
   ]
  },
  {
   "cell_type": "code",
   "execution_count": 9,
   "metadata": {},
   "outputs": [
    {
     "data": {
      "text/plain": [
       "[14.58165168762207,\n",
       " 12.636054992675781,\n",
       " 16.61681365966797,\n",
       " 12.887547492980957,\n",
       " 13.413434028625488,\n",
       " {'PER': 14.58165168762207,\n",
       "  'ORG': 12.636054992675781,\n",
       "  'LOC': 16.61681365966797,\n",
       "  'MISC': 12.887547492980957,\n",
       "  'None': 13.413434028625488}]"
      ]
     },
     "execution_count": 9,
     "metadata": {},
     "output_type": "execute_result"
    }
   ],
   "source": [
    "output[0]"
   ]
  },
  {
   "cell_type": "code",
   "execution_count": null,
   "metadata": {},
   "outputs": [],
   "source": [
    "\n",
    "# Load your dataset\n",
    "# df = pd.read_csv('your_dataset.csv')\n",
    "\n",
    "# Assuming you have a dataframe 'df' with columns: feature_1, feature_2, feature_3, feature_4, feature_5, label\n",
    "\n",
    "# Split the data into features (X) and labels (y)\n",
    "X = df[['feature_1', 'feature_2', 'feature_3', 'feature_4', 'feature_5']]\n",
    "y = df['label']\n",
    "\n",
    "# Convert labels to categorical (one-hot encoding)\n",
    "y_categorical = to_categorical(y)\n",
    "\n",
    "# Split the data into training and testing sets\n",
    "X_train, X_test, y_train, y_test = train_test_split(X, y_categorical, test_size=0.2, random_state=42)\n",
    "\n",
    "# Standardize numerical features\n",
    "scaler = StandardScaler()\n",
    "X_train_scaled = scaler.fit_transform(X_train)\n",
    "X_test_scaled = scaler.transform(X_test)\n",
    "\n",
    "# Build a simple neural network\n",
    "model = Sequential()\n",
    "model.add(Dense(64, activation='relu', input_shape=(5,)))\n",
    "model.add(Dense(5, activation='softmax'))\n",
    "\n",
    "# Compile the model\n",
    "model.compile(optimizer='adam', loss='categorical_crossentropy', metrics=['accuracy'])\n",
    "\n",
    "# Train the model\n",
    "model.fit(X_train_scaled, y_train, epochs=10, batch_size=32, validation_split=0.2)\n",
    "\n",
    "# Evaluate the model\n",
    "y_pred = model.predict(X_test_scaled)\n",
    "y_pred_classes = [int(i) for i in y_pred.argmax(axis=-1)]\n",
    "y_test_classes = [int(i) for i in y_test.argmax(axis=-1)]\n",
    "\n",
    "accuracy = accuracy_score(y_test_classes, y_pred_classes)\n",
    "print(f'Test accuracy: {accuracy}')\n"
   ]
  }
 ],
 "metadata": {
  "kernelspec": {
   "display_name": "base",
   "language": "python",
   "name": "python3"
  },
  "language_info": {
   "codemirror_mode": {
    "name": "ipython",
    "version": 3
   },
   "file_extension": ".py",
   "mimetype": "text/x-python",
   "name": "python",
   "nbconvert_exporter": "python",
   "pygments_lexer": "ipython3",
   "version": "3.10.12"
  }
 },
 "nbformat": 4,
 "nbformat_minor": 2
}
