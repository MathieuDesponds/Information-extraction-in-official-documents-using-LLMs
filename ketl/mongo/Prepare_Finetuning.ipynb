{
 "cells": [
  {
   "cell_type": "code",
   "execution_count": 1,
   "metadata": {},
   "outputs": [],
   "source": [
    "from myMongoClient import *\n",
    "from preparing_finetuning import *\n",
    "import pandas as pd\n",
    "%reload_ext autoreload\n",
    "%autoreload 2\n",
    "\n",
    "db = \"documents-100039\"\n",
    "organisation_id = int(db[-6:])"
   ]
  },
  {
   "cell_type": "code",
   "execution_count": null,
   "metadata": {},
   "outputs": [],
   "source": [
    "\n",
    "mongo_client = MyMongoClient(db)"
   ]
  },
  {
   "cell_type": "code",
   "execution_count": null,
   "metadata": {},
   "outputs": [],
   "source": [
    "labels = mongo_client.get_docs_labels(PREDICTION_DOCUMENT_FOLDER)[0]"
   ]
  },
  {
   "cell_type": "markdown",
   "metadata": {},
   "source": [
    "### Verify that all label name exist in the mapping label_name:label_key"
   ]
  },
  {
   "cell_type": "code",
   "execution_count": null,
   "metadata": {},
   "outputs": [],
   "source": [
    "print_all_missing_mapping()"
   ]
  },
  {
   "cell_type": "code",
   "execution_count": 32,
   "metadata": {},
   "outputs": [
    {
     "data": {
      "text/plain": [
       "\"<s>[INST] We are extracting information in a JSON format from the Person who the document is in reference to, not the bank nor the mandatary in the content of the document. The information should be related specifically to the Person who the document is in reference to, not the bank nor the mandatary of the document. [/INST]What are the information that you want to retieve ?</s>[INST] We have to find the following information of the Person who the document is in reference to, not the bank nor the mandatary in the document (the format of each row is field_name: description):\\nClient storage: Base storage for client. A custom text value\\nType: Type de l'entité trouvé dans le document. Only a fixed value from the following list (a description of the value may be given in parenthesis): 'Personne' (L'entité est une personne physique), 'Entreprise' (L'entité est une entreprise (SA, Sàrl, etc...))\\nNom: Uniquement le nom de famille d'une personne ou le nom d'une entreprise.. A custom text value\\nAbréviation: Enterprise short name node. A custom text value\\nForme juridique: Forme juridique. A custom value but prefer a value from the following list (a description of the value may be given in parenthesis): 'Sàrl','SA','Raison individuelle','Association'\\nN° IDE: N° IDE. A custom text value\\nN° TVA: N° TVA. A custom text value\\nPrénom: Uniquement le prénom d'une personne. A custom text value\\nAdresses e-mail: Adresses e-mail. A custom text value\\nNuméros de téléphone: Numéros de téléphone. A custom text value\\nPays de résidence: Pays de résidence. A custom text value\\nNuméro AVS: Numéro AVS. A custom text value\\nRue et N°: Rue node. A custom text value\\nCode postal: Code postal node. A custom text value\\nVille: Ville. A custom text value\\nPays: Pays node. A custom text value [/INST]Perfect ! Now can you send me the document ? </s>[INST] Here is the document : filenames: 131338_13p (1-4).pdf\\n                                                  1\\nDonation immobilière par Madame Marie DURAND à Mesdames Sophie DUBOIS, Léa MEYER\\net Jade MASSON LOPEZ\\n_________________________________________________________________________________\\nL’AN DEUX MILLE VINGT ET UN et le quinze octobre.\\nPar-devant Me Jules ROBERT, notaire à Genève, soussigné.\\n                                           ONT COMPARU :\\n1.    Madame Marie DURAND née CARON, fille de Raphaël et de Lola-Maria née DENIS, née\\n      le 6 juillet 1943, originaire de Collonge-Bellerive, veuve, sans profession, domiciliée à\\n      Genève, 14, rue de la Croix d'Or\\n      Ci-après également dénommée « la donatrice ».\\n2.    Madame Sophie DUBOIS née DURAND, fille de Gabriel-Paul et de Marie née CARON, née\\n      le 8 janvier 1965, originaire de Collonge-Bellerive, célibataire, enseignante, domiciliée à\\n      Genève, 5, rue du Mont-Blanc.\\n3.    Madame Léa MEYER née DURAND, fille de Gabriel-Paul et de Marie née CARON, née le 28\\n      septembre 1967, originaire de Collonge-Bellerive, mariée, secrétaire, domiciliée à Corseaux, 5,\\n      chemin de la Corniche.\\n4.    Madame Jade MASSON LOPEZ née DURAND, fille de Gabriel-Paul et de Marie née CARON,\\n      née le 27 juin 1972, originaire de Collonge-Bellerive, mariée, sage-femme, domiciliée à\\n      Genève, 41, route du Chêne.\\n      Ci-après également dénommées « les donataires ».\\n      Lesquelles comparantes sont convenues de ce qui suit :\\n                                            DONATION\\n      Madame Marie DURAND déclare faire donation, par préciput et hors part, par\\n      conséquence non rapportable dans sa succession future, à ses filles, Mesdames\\n      Sophie DUBOIS, Léa MEYER et Jade MASSON LOPEZ, de l’immeuble sis en zone 1 :\\n\\n\\n\\n                                                     2\\n                             COMMUNE DE GENÈVE\\n                             37, route de Florissant\\n       Parcelle 298          Surface totale                                                    1'073 m2\\n                             Bâtiment No 183                                                      18 m2\\n                             Habitation à un seul logement No 814                                 85 m2\\n       Avec toutes appartenances et dépendances, parties intégrantes et accessoires, sans aucune\\n       exception ni réserve.\\n                                        ORIGINE DE PROPRIETE\\nMadame Marie DURAND est devenue propriétaire de ladite parcelle à teneur de donation inscrit au\\nRegistre foncier le 24 février 1978, sous Pj. A358.\\n                     SITUATION HYPOTHECAIRE - ANNOTATIONS - MENTIONS\\nLa parcelle 298 de Genève est libre de tout gage immobilier, annotation et mention au\\nRegistre Foncier.\\n                                   USUFRUIT ET DROIT DE RETOUR\\nLa donatrice renonce à se réserver tout usufruit ou droit de retour sur le bien immobilier donné.\\n                                       ENTREE EN JOUISSANCE\\nLes donataires entrent en possession et jouissance du bien immobilier présentement donnée à\\ncompter de ce jour.\\n                                              CONDITIONS\\nLa présente donation est effectuée aux conditions suivantes :\\n1. Les donataires prennent le bien immobilier qui leur est présentement donné dans l’état et tel qu'il\\n   se trouve actuellement, déclarant bien le connaître.\\n2. Elles exerceront les servitudes en droit et souffriront les servitudes en charge régulièrement\\n   inscrites au Registre foncier, de même que les restrictions légales de la propriété, telles que plan\\n   d'alignement, de zones et autres semblables qui, en vertu de la loi, sont dispensées de l'inscription.\\n\\n\\n\\n                                                     3\\n    A ce sujet, les donataires déclarent avoir reçu une copie des servitudes intéressant la parcelle\\n    298 de Genève et dispensent par conséquent le notaire soussigné de les rappeler aux présentes.\\n3. Elles acquitteront tous impôts, contributions publiques et autres charges afférents à l’immeuble\\n    donné à compter ce jour.\\n4. Le bien immobilier donné est libre de tout bail ou droit d’occupation.\\n5. La donatrice et les donataires déclarent s’être renseignées, chacune auprès d’un fiscaliste de son\\n    choix, sur les conséquences de la présente opération. A ce sujet, la donatrice déclare que le bien\\n    immobilier donné fait partie de sa fortune privée.\\n6. Les droits, frais et honoraires des présentes sont à la charge des donataires, par égales parts entre\\n    elles.\\n                      SITUATION HYPOTHECAIRE - ANNOTATIONS - MENTIONS\\nLa parcelle 298 de Genève est libre de tout gage immobilier, annotation et mention au\\nRegistre Foncier.\\n                                                   LFAIE\\nLes donataires déclarent recevoir cet immeuble pour leur propre compte et qu'elles n'agissent ni sur\\nl'ordre ni pour le compte de personnes ayant leur domicile ou leur siège à l'étranger.\\n                                              PUBLICATION\\nLes comparantes sont avisées que la présente donation fera l'objet d'une publication opérée par les\\nsoins du Registre foncier dans la Feuille d'Avis Officielle (électronique) du Canton de Genève.\\n                                              REQUISITION\\nMonsieur le Conservateur du Registre foncier est en conséquence requis d’inscrire les stipulations\\ncontenues dans le présent acte.\\n                                        ELECTION DE DOMICILE\\nPour l'exécution des présentes, domicile est élu par les comparantes en leur demeure respective\\nsusindiquée.\\n\\n\\n\\n                                                   4\\n                                             DONT ACTE\\nFait et passé à Genève, en l'Etude, 45, route des Accacias.\\nEt après lecture, les comparantes ont signé avec le notaire la présente minute.\\nMarie DURAND :\\nSophie DUBOIS :\\nLéa MEYER :\\nJade MASSON LOPEZ :\\nMe Jules ROBERT :\\n [/INST]Perfect ! In which format do you want me to answer ?</s>[INST] Output a JSON of string arrays with the values you found, put an empty array if you really don't find the information. [/INST]{'Nom': 'DURAND', 'Prénom': 'Marie', 'Pays de résidence': 'Genève', 'Ville': 'Genève'}</s>\""
      ]
     },
     "execution_count": 32,
     "metadata": {},
     "output_type": "execute_result"
    }
   ],
   "source": [
    "all_prompts = get_all_prompts()\n",
    "all_prompts.iloc[0]['text']"
   ]
  },
  {
   "cell_type": "code",
   "execution_count": 14,
   "metadata": {},
   "outputs": [],
   "source": [
    "dataset =get_dataset_for_ft(with_save= True)"
   ]
  },
  {
   "cell_type": "code",
   "execution_count": 1,
   "metadata": {},
   "outputs": [],
   "source": [
    "from finetune import *\n",
    "dataset_path = \"data/labels_results/2024-02-02_14:56:14_mistral-instruct_ft-data.pkl\"\n",
    "model_path = \"mistralai/Mistral-7B-Instruct-v0.2\"\n",
    " \n",
    "finetune(dataset_path, model_path)"
   ]
  },
  {
   "cell_type": "code",
   "execution_count": null,
   "metadata": {},
   "outputs": [],
   "source": []
  }
 ],
 "metadata": {
  "kernelspec": {
   "display_name": "base",
   "language": "python",
   "name": "python3"
  },
  "language_info": {
   "codemirror_mode": {
    "name": "ipython",
    "version": 3
   },
   "file_extension": ".py",
   "mimetype": "text/x-python",
   "name": "python",
   "nbconvert_exporter": "python",
   "pygments_lexer": "ipython3",
   "version": "3.10.6"
  }
 },
 "nbformat": 4,
 "nbformat_minor": 2
}
