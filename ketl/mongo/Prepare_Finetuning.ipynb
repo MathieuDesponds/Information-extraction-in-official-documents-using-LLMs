{
 "cells": [
  {
   "cell_type": "code",
   "execution_count": 7,
   "metadata": {},
   "outputs": [],
   "source": [
    "from myMongoClient import *\n",
    "import pandas as pd\n",
    "%reload_ext autoreload\n",
    "%autoreload 2\n",
    "\n",
    "db = \"documents-100039\"\n",
    "organisation_id = int(db[-6:])\n",
    "mongo_client = MyMongoClient(db)"
   ]
  },
  {
   "cell_type": "markdown",
   "metadata": {},
   "source": [
    "## Get a mapping form the file_name and the type of document it is"
   ]
  },
  {
   "cell_type": "code",
   "execution_count": 6,
   "metadata": {},
   "outputs": [],
   "source": [
    "label_versions = pd.read_csv(\"data/labels_results/2024-01-18_16:15:33_df_gold_labels.csv\")\n",
    "output = label_versions[label_versions['label_name'] == 'document type'][['doc_id', 'label_value']]\n",
    "doc_hash_value = {rows['doc_id'] : rows['label_value'] for idx , rows in output.iterrows()}\n",
    "file_name_doc_hash = {inst['files'][0]['fileName'] : inst['_id'] for inst in mongo_client.get_all_documents() if inst['files'] and inst['files'][0]['fileName'].startswith(('Pseudo_',\"pseudo_\"))}\n",
    "file_nam_value = {key : doc_hash_value[value] for key, value in file_name_doc_hash.items() if value in doc_hash_value}\n",
    "# file_nam_value, len(file_nam_value)\n",
    "\n",
    "dump(file_nam_value, \"doc_type_from_file_name.pkl\")"
   ]
  },
  {
   "cell_type": "markdown",
   "metadata": {},
   "source": [
    "## Get gold labels from prompt"
   ]
  },
  {
   "cell_type": "code",
   "execution_count": 12,
   "metadata": {},
   "outputs": [],
   "source": [
    "all_prompts = pd.DataFrame(load(\"data/saved_prompts/prompts_2024-01-23_14:22:20.csv\"))"
   ]
  },
  {
   "cell_type": "code",
   "execution_count": 15,
   "metadata": {},
   "outputs": [],
   "source": [
    "all_prompts_label_name = []\n",
    "all_prompts['fields_name_key'].apply(all_prompts_label_name.extend)\n",
    "all_prompts_label_name = set(all_prompts_label_name)"
   ]
  },
  {
   "cell_type": "code",
   "execution_count": null,
   "metadata": {},
   "outputs": [],
   "source": []
  },
  {
   "cell_type": "markdown",
   "metadata": {},
   "source": [
    "### Verify that all label name exist in the mapping label_name:label_key"
   ]
  },
  {
   "cell_type": "code",
   "execution_count": 25,
   "metadata": {},
   "outputs": [
    {
     "name": "stdout",
     "output_type": "stream",
     "text": [
      "Abréviation\n",
      "Pays\n",
      "Code postal\n",
      "Client storage\n",
      "Adresse immeuble\n",
      "Nom\n",
      "Numéro AVS\n",
      "Numéros de téléphone\n",
      "Pays de résidence\n",
      "Prénom\n",
      "N° IDE\n",
      "Forme juridique\n",
      "Type\n",
      "Ville\n",
      "Rue et N°\n",
      "Adresses e-mail\n",
      "N° TVA\n"
     ]
    }
   ],
   "source": [
    "label_name_to_class = {} \n",
    "for key, value in load(\"classifaction_label_to_label_name.pkl\").items() :\n",
    "    if isinstance(value, list) :\n",
    "        for val in value :\n",
    "            label_name_to_class[val] = key\n",
    "    else : \n",
    "        label_name_to_class[value] = key\n",
    "\n",
    "for label_name in all_prompts_label_name :\n",
    "    if label_name not in label_name_to_class :\n",
    "        print(label_name)"
   ]
  },
  {
   "cell_type": "code",
   "execution_count": null,
   "metadata": {},
   "outputs": [],
   "source": []
  }
 ],
 "metadata": {
  "kernelspec": {
   "display_name": "base",
   "language": "python",
   "name": "python3"
  },
  "language_info": {
   "codemirror_mode": {
    "name": "ipython",
    "version": 3
   },
   "file_extension": ".py",
   "mimetype": "text/x-python",
   "name": "python",
   "nbconvert_exporter": "python",
   "pygments_lexer": "ipython3",
   "version": "3.11.5"
  }
 },
 "nbformat": 4,
 "nbformat_minor": 2
}
