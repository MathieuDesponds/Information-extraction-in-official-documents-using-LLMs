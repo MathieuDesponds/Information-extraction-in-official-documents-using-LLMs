{
 "cells": [
  {
   "cell_type": "code",
   "execution_count": null,
   "metadata": {},
   "outputs": [],
   "source": [
    "from myMongoClient import *\n",
    "from preparing_finetuning import *\n",
    "from finetune import *\n",
    "import pandas as pd\n",
    "%reload_ext autoreload\n",
    "%autoreload 2\n",
    "\n",
    "db = \"documents-100039\"\n",
    "organisation_id = int(db[-6:])"
   ]
  },
  {
   "cell_type": "code",
   "execution_count": null,
   "metadata": {},
   "outputs": [],
   "source": [
    "\n",
    "mongo_client = MyMongoClient(db)"
   ]
  },
  {
   "cell_type": "code",
   "execution_count": null,
   "metadata": {},
   "outputs": [],
   "source": [
    "labels = mongo_client.get_docs_labels(PREDICTION_DOCUMENT_FOLDER)[0]"
   ]
  },
  {
   "cell_type": "markdown",
   "metadata": {},
   "source": [
    "### Verify that all label name exist in the mapping label_name:label_key"
   ]
  },
  {
   "cell_type": "code",
   "execution_count": null,
   "metadata": {},
   "outputs": [],
   "source": [
    "print_all_missing_mapping()"
   ]
  },
  {
   "cell_type": "code",
   "execution_count": 12,
   "metadata": {},
   "outputs": [
    {
     "data": {
      "text/plain": [
       "[{'role': 'user',\n",
       "  'content': 'We are extracting information in a JSON format from the Person who the document is in reference to, not the bank nor the mandatary in the content of the document. The information should be related specifically to the Person who the document is in reference to, not the bank nor the mandatary of the document.'},\n",
       " {'role': 'assistant',\n",
       "  'content': 'What are the information that you want to retieve ?'},\n",
       " {'role': 'user',\n",
       "  'content': \"We have to find the following information of the Person who the document is in reference to, not the bank nor the mandatary in the document (the format of each row is field_name: description):\\nClient storage: Base storage for client. A custom text value\\nType: Type de l'entité trouvé dans le document. Only a fixed value from the following list (a description of the value may be given in parenthesis): 'Personne' (L'entité est une personne physique), 'Entreprise' (L'entité est une entreprise (SA, Sàrl, etc...))\\nNom: Uniquement le nom de famille d'une personne ou le nom d'une entreprise.. A custom text value\\nAbréviation: Enterprise short name node. A custom text value\\nForme juridique: Forme juridique. A custom value but prefer a value from the following list (a description of the value may be given in parenthesis): 'Sàrl','SA','Raison individuelle','Association'\\nN° IDE: N° IDE. A custom text value\\nN° TVA: N° TVA. A custom text value\\nPrénom: Uniquement le prénom d'une personne. A custom text value\\nAdresses e-mail: Adresses e-mail. A custom text value\\nNuméros de téléphone: Numéros de téléphone. A custom text value\\nPays de résidence: Pays de résidence. A custom text value\\nNuméro AVS: Numéro AVS. A custom text value\\nRue et N°: Rue node. A custom text value\\nCode postal: Code postal node. A custom text value\\nVille: Ville. A custom text value\\nPays: Pays node. A custom text value\"},\n",
       " {'role': 'assistant',\n",
       "  'content': 'Perfect ! Now can you send me the document ? '},\n",
       " {'role': 'user',\n",
       "  'content': \"Here is the document : filenames: Pseudo_1002030 (11).pdf\\n                                                                                       2\\n                                                                               SwissLife\\n    PP           a\\n                      CH-8022\\n                      Zürich\\n                                            Post CH AG\\n                                                                               Swiss Life SA\\n    2422324-F\\n                                                                               Clientèle privée\\n    Monsieur                                                                   General-Guisan-Quai 40\\n    Nicolas Petit                                                              Case postale, 8022 Zurich\\n    Rue Centrale 92                                                            CP 80-135-1\\n                                                                               www.swisslife.ch\\n    1003 Lausanne\\n                                                                               Service clientale\\n                                                                               Téléphone 00800 873 873 00\\n                                                                                Fax 00800 873 874 00\\n                                                                               private.service @swisslife.ch\\n                                                                               71C15\\n    Zurich, le 28 janvier 2021\\n     Paiement additionnel police n° 105.123.456\\n     Personne assurée: Nicolas Petit\\n     Monsieur,\\n     Nous avons bien reçu votre versement. Nous vous remercions de la confiance que vous\\n     témoignez à Swiss Life. Ce montant a été utilisé pour augmenter vos prestations contrac-\\n     tuelles améliorant ainsi votre prévoyance.\\n     C'est avec plaisir que nous vous envoyons les nouveaux documents contractuels.\\n     Pour toute question, veuillez vous adresser à votre conseiller ou à notre Service clientèle.\\nVAS  Veuillez agréer, Monsieur, nos salutations distinguées.\\n     Swiss Life\\n      Paul Wagner                                             Ulrich Tobler\\n      Responsable Clientèle privée                            Responsable Service Center\\n      Documents contractuels\\n      E203\\n       13764805.2/930/1-4/K1/ seus ei /1001\\n\"},\n",
       " {'role': 'assistant',\n",
       "  'content': 'Perfect ! In which format do you want me to answer ?'},\n",
       " {'role': 'user',\n",
       "  'content': \"Output a JSON of string arrays with the values you found, put an empty array if you really don't find the information.\"},\n",
       " {'role': 'assistant',\n",
       "  'content': \"I have read the document and after thinking a little bit I think I have found the client and the information related to him/her. Here is a json with all the informations :\\n{'Type': 'Personne', 'Nom': 'SwissLife', 'Forme juridique': 'SA', 'N° ide': '2422324-F', 'Code postal': '8022', 'Ville': 'Zürich'}\"}]"
      ]
     },
     "execution_count": 12,
     "metadata": {},
     "output_type": "execute_result"
    }
   ],
   "source": [
    "all_prompts = get_all_prompts()\n",
    "all_prompts.iloc[4]['messages']"
   ]
  },
  {
   "cell_type": "code",
   "execution_count": 11,
   "metadata": {},
   "outputs": [
    {
     "data": {
      "text/plain": [
       "76"
      ]
     },
     "execution_count": 11,
     "metadata": {},
     "output_type": "execute_result"
    }
   ],
   "source": [
    "dataset = get_dataset_for_ft(with_save= True)\n",
    "len(dataset)"
   ]
  },
  {
   "cell_type": "code",
   "execution_count": null,
   "metadata": {},
   "outputs": [
    {
     "name": "stdout",
     "output_type": "stream",
     "text": [
      "[['OIM5/UAeFdF/89qUnw6PYQ==', 'XYSfpQqF8S/WZACQB89aQg==', '62Ks33O7Qs/5VzmxHnLKKg==', 'Mu1LMY72DqTU4EcsKehlNQ==', 'WtSnT+r3K41h5RVeHtNxcQ==', 'OwMqwAxuV04hF8/CIMpmTw==', 'brnVjQ2jdMnnnva8HbtZvw==', 'AkQLya7ACmOlLzzTSBl+7Q==', 'TPC9ga0BcvDufyQG5rhJlA==', 'SgBS1xDIIGtFEGsCsXzBdQ==', 'Mn49VBj1jCC5abiIF+KSYw==', 'idCxKwlHBkX6RCkbNQcPew==', 'ncPazdxjEDilkxtaJ3opvQ==', 't6OZa3i1wjaTiuJ73YUI5Q==', 'gLlabF3e/KCHLFEch79CyA==', '5h6GNEvj0GuGXZw0QV8bkg==', 'mHK8QQTTOTp0sx+85PF1qw==', 'LR2Qjv37O4C7xuV3bQ0kfw==', 'm6qKL95/JJDOosQKGhNMBg==', 'DQmxo4NmXgSjMB1cYnqDLQ==', 'qDx3ca5KQq1tPNpeTenADg==', 'F/mhPfRtig0BtQ+7U0Rhww==', 'F89GFqG7qDrPcFLsNvP78g==', 'iWajwR6y9k3U19MT7TSj7w==', 'fMTbsvqvNMxjqlsMXmd9Zg==', 'wq6Y67C/qJ4XNTPoPF1U/A==', 'jzhxVNvjWQW03mvlMcdfRA==', 'rPsoK4ZZuUr1s+wlLlZG6Q==', 'TTVwSNEEOtYyhsH76z1c2w==', 'fOQt+54tkeoMWlfgrt8JKw==', 'GOl503tqZuhFffQCJxohQQ==', '3+h1BtgoAL0PhXWyK1+40g==', 'ApKooPrik6NaZycouG1EuA==', 'h/W7gVfWe01KXc6M/dNNZA==', 'FpB0RmEnQsAsagBFq0WE6Q==', 'nJkYWbzpRjEIRIR26CCl3g==', 'JTo5jlzcVgrWKSO+dnoTuw==', '4bS2yQ7aeIoqZx5skntEFA==', '5+ip+7sGl+kfXqh+5SwOyA==', 'VO580j3/ILBAvlhfKY7hFQ==', 'tvFDh+QKoBmAS4Y+DcrbFQ==', '63KSW0tjZ6CrwLEQoCfuUg==', 'aKzn+rOg4/jqM3pJnGinUg==', 'FM6/EwmcFZEz5oajnndzIQ==', 'pzUoTkjP5jewZllKi9SYFg=='], ['tBsqDkcVuL9jRLfsW4XPcg==', '7djccsF+/wgSM22nUQxzbg==', '0TV5HBHlRmKfrAWmOeB+sA=='], ['uWBnTaAdFY82lM++s6MHeg==', 'Pu0sLCtT589MSWTzJ0BzXw==', 'vcfhlBm0kSQeDonuu1Yetg==', 'p2BrtzVU4jIl5+XZLQ92sQ==', 'LrbMyOW9+ohDSwkCB3juHw==', 'OKF4dU6E0bKtRiWtntlN4Q==', 'VWJePKrE1ZYa16X65vrMUw==', 'TQIcgnW2uiqlK3nd7/EPVg==', 'VblBUfdotuRXo6mkyE0zJA==', '7wKQEgxKSZEspILT7n7UqA==', 'xbv5g+6M8anyCzcHvk/aAw==', '29yradmnIewK1RIRbRSTrg==', 'Rqzgy9RTAQp0NOcAss4Jhg==', 'NpG1ncW32zldaK0/WnAswQ==', 'yEpfWSZXTPQZ84K+aj1drQ==', 'MAgp8LOwZAWrSKMvfAEaJQ==', 'tRbvMAS7xrpDyIqJ03SsgQ==', 'xxNhWcwgPiDRM7jSX5dBvA==', '3KtqVeCizQwSQB1ZYP1XEQ==', 'hwtoqeC8N4jRLm4VYGw2og==', '7sksWKtw8kBPkNzuyGo98A==', 'ANelIAm7DA7mZ3RLDoKssA==', 'CmprTKt2KAKxcpRjt+NWgg==', 'MMhOXx6xT8Y4MZEp9KKR8w==', 'NP7dYhy+sWTjSoVq5wi4SQ==', 'ObvTKRLDTpm1DJtm/EJonA==', '3520v2gfAFyiW53r271b6A==', 'Aj9dOwwQhb1qyUUJu5dKiQ==']]\n"
     ]
    },
    {
     "data": {
      "application/vnd.jupyter.widget-view+json": {
       "model_id": "f20bcba6e8a14884be1c70c5d924b5e9",
       "version_major": 2,
       "version_minor": 0
      },
      "text/plain": [
       "Map:   0%|          | 0/130 [00:00<?, ? examples/s]"
      ]
     },
     "metadata": {},
     "output_type": "display_data"
    },
    {
     "data": {
      "application/vnd.jupyter.widget-view+json": {
       "model_id": "91950326498345d4a890deb2b5c535e3",
       "version_major": 2,
       "version_minor": 0
      },
      "text/plain": [
       "Map:   0%|          | 0/130 [00:00<?, ? examples/s]"
      ]
     },
     "metadata": {},
     "output_type": "display_data"
    },
    {
     "ename": "RuntimeError",
     "evalue": "Found no NVIDIA driver on your system. Please check that you have an NVIDIA GPU and installed a driver from http://www.nvidia.com/Download/index.aspx",
     "output_type": "error",
     "traceback": [
      "\u001b[0;31m---------------------------------------------------------------------------\u001b[0m",
      "\u001b[0;31mRuntimeError\u001b[0m                              Traceback (most recent call last)",
      "\u001b[0;32m/tmp/ipykernel_3358889/100828885.py\u001b[0m in \u001b[0;36m<module>\u001b[0;34m\u001b[0m\n\u001b[1;32m      3\u001b[0m \u001b[0mmodel_path\u001b[0m \u001b[0;34m=\u001b[0m \u001b[0;34m\"mistralai/Mistral-7B-Instruct-v0.2\"\u001b[0m\u001b[0;34m\u001b[0m\u001b[0;34m\u001b[0m\u001b[0m\n\u001b[1;32m      4\u001b[0m \u001b[0;34m\u001b[0m\u001b[0m\n\u001b[0;32m----> 5\u001b[0;31m \u001b[0mts\u001b[0m \u001b[0;34m=\u001b[0m \u001b[0mfinetune\u001b[0m\u001b[0;34m(\u001b[0m\u001b[0mdataset_path\u001b[0m\u001b[0;34m,\u001b[0m \u001b[0mmodel_path\u001b[0m\u001b[0;34m)\u001b[0m\u001b[0;34m\u001b[0m\u001b[0;34m\u001b[0m\u001b[0m\n\u001b[0m",
      "\u001b[0;32m~/Documents/project/Master-thesis/ketl/mongo/finetune.py\u001b[0m in \u001b[0;36mfinetune\u001b[0;34m(dataset_path, model_path, precision, checkpoint, testing)\u001b[0m\n\u001b[1;32m     36\u001b[0m     \u001b[0moutput_dir\u001b[0m \u001b[0;34m=\u001b[0m \u001b[0mmodel_path\u001b[0m\u001b[0;34m+\u001b[0m\u001b[0;34mf\"ketl_training/{len(training_samples)}-{dataset_path.split('/')[-1]}-{precision}\"\u001b[0m\u001b[0;34m\u001b[0m\u001b[0;34m\u001b[0m\u001b[0m\n\u001b[1;32m     37\u001b[0m \u001b[0;34m\u001b[0m\u001b[0m\n\u001b[0;32m---> 38\u001b[0;31m     \u001b[0mbase_model\u001b[0m \u001b[0;34m=\u001b[0m \u001b[0mload_model_for_training\u001b[0m\u001b[0;34m(\u001b[0m\u001b[0mmodel_path\u001b[0m\u001b[0;34m)\u001b[0m\u001b[0;34m\u001b[0m\u001b[0;34m\u001b[0m\u001b[0m\n\u001b[0m\u001b[1;32m     39\u001b[0m \u001b[0;34m\u001b[0m\u001b[0m\n\u001b[1;32m     40\u001b[0m     trainer = transformers.Trainer(\n",
      "\u001b[0;32m~/Documents/project/Master-thesis/ketl/mongo/finetune.py\u001b[0m in \u001b[0;36mload_model_for_training\u001b[0;34m(base_model_id)\u001b[0m\n\u001b[1;32m     97\u001b[0m \u001b[0;34m\u001b[0m\u001b[0m\n\u001b[1;32m     98\u001b[0m \u001b[0;32mdef\u001b[0m \u001b[0mload_model_for_training\u001b[0m\u001b[0;34m(\u001b[0m\u001b[0mbase_model_id\u001b[0m \u001b[0;34m:\u001b[0m \u001b[0mstr\u001b[0m\u001b[0;34m)\u001b[0m\u001b[0;34m:\u001b[0m\u001b[0;34m\u001b[0m\u001b[0;34m\u001b[0m\u001b[0m\n\u001b[0;32m---> 99\u001b[0;31m     fsdp_plugin = FullyShardedDataParallelPlugin(\n\u001b[0m\u001b[1;32m    100\u001b[0m         \u001b[0mstate_dict_config\u001b[0m\u001b[0;34m=\u001b[0m\u001b[0mFullStateDictConfig\u001b[0m\u001b[0;34m(\u001b[0m\u001b[0moffload_to_cpu\u001b[0m\u001b[0;34m=\u001b[0m\u001b[0;32mTrue\u001b[0m\u001b[0;34m,\u001b[0m \u001b[0mrank0_only\u001b[0m\u001b[0;34m=\u001b[0m\u001b[0;32mFalse\u001b[0m\u001b[0;34m)\u001b[0m\u001b[0;34m,\u001b[0m\u001b[0;34m\u001b[0m\u001b[0;34m\u001b[0m\u001b[0m\n\u001b[1;32m    101\u001b[0m         \u001b[0moptim_state_dict_config\u001b[0m\u001b[0;34m=\u001b[0m\u001b[0mFullOptimStateDictConfig\u001b[0m\u001b[0;34m(\u001b[0m\u001b[0moffload_to_cpu\u001b[0m\u001b[0;34m=\u001b[0m\u001b[0;32mTrue\u001b[0m\u001b[0;34m,\u001b[0m \u001b[0mrank0_only\u001b[0m\u001b[0;34m=\u001b[0m\u001b[0;32mFalse\u001b[0m\u001b[0;34m)\u001b[0m\u001b[0;34m,\u001b[0m\u001b[0;34m\u001b[0m\u001b[0;34m\u001b[0m\u001b[0m\n",
      "\u001b[0;32m~/.local/lib/python3.10/site-packages/accelerate/utils/dataclasses.py\u001b[0m in \u001b[0;36m__init__\u001b[0;34m(self, sharding_strategy, backward_prefetch, mixed_precision_policy, auto_wrap_policy, cpu_offload, ignored_modules, state_dict_type, state_dict_config, optim_state_dict_config, limit_all_gathers, use_orig_params, param_init_fn, sync_module_states, forward_prefetch, activation_checkpointing)\u001b[0m\n",
      "\u001b[0;32m~/.local/lib/python3.10/site-packages/accelerate/utils/dataclasses.py\u001b[0m in \u001b[0;36m__post_init__\u001b[0;34m(self)\u001b[0m\n\u001b[1;32m    932\u001b[0m \u001b[0;34m\u001b[0m\u001b[0m\n\u001b[1;32m    933\u001b[0m         \u001b[0;32mif\u001b[0m \u001b[0mself\u001b[0m\u001b[0;34m.\u001b[0m\u001b[0msync_module_states\u001b[0m\u001b[0;34m:\u001b[0m\u001b[0;34m\u001b[0m\u001b[0;34m\u001b[0m\u001b[0m\n\u001b[0;32m--> 934\u001b[0;31m             \u001b[0mdevice\u001b[0m \u001b[0;34m=\u001b[0m \u001b[0mtorch\u001b[0m\u001b[0;34m.\u001b[0m\u001b[0mcuda\u001b[0m\u001b[0;34m.\u001b[0m\u001b[0mcurrent_device\u001b[0m\u001b[0;34m(\u001b[0m\u001b[0;34m)\u001b[0m \u001b[0;32mif\u001b[0m \u001b[0;32mnot\u001b[0m \u001b[0mis_xpu_available\u001b[0m\u001b[0;34m(\u001b[0m\u001b[0;34m)\u001b[0m \u001b[0;32melse\u001b[0m \u001b[0mtorch\u001b[0m\u001b[0;34m.\u001b[0m\u001b[0mxpu\u001b[0m\u001b[0;34m.\u001b[0m\u001b[0mcurrent_device\u001b[0m\u001b[0;34m(\u001b[0m\u001b[0;34m)\u001b[0m\u001b[0;34m\u001b[0m\u001b[0;34m\u001b[0m\u001b[0m\n\u001b[0m\u001b[1;32m    935\u001b[0m             \u001b[0mself\u001b[0m\u001b[0;34m.\u001b[0m\u001b[0mparam_init_fn\u001b[0m \u001b[0;34m=\u001b[0m \u001b[0;32mlambda\u001b[0m \u001b[0mx\u001b[0m\u001b[0;34m:\u001b[0m \u001b[0mx\u001b[0m\u001b[0;34m.\u001b[0m\u001b[0mto_empty\u001b[0m\u001b[0;34m(\u001b[0m\u001b[0mdevice\u001b[0m\u001b[0;34m=\u001b[0m\u001b[0mdevice\u001b[0m\u001b[0;34m,\u001b[0m \u001b[0mrecurse\u001b[0m\u001b[0;34m=\u001b[0m\u001b[0;32mFalse\u001b[0m\u001b[0;34m)\u001b[0m\u001b[0;34m\u001b[0m\u001b[0;34m\u001b[0m\u001b[0m\n\u001b[1;32m    936\u001b[0m \u001b[0;34m\u001b[0m\u001b[0m\n",
      "\u001b[0;32m~/.local/lib/python3.10/site-packages/torch/cuda/__init__.py\u001b[0m in \u001b[0;36mcurrent_device\u001b[0;34m()\u001b[0m\n\u001b[1;32m    672\u001b[0m \u001b[0;32mdef\u001b[0m \u001b[0mcurrent_device\u001b[0m\u001b[0;34m(\u001b[0m\u001b[0;34m)\u001b[0m \u001b[0;34m->\u001b[0m \u001b[0mint\u001b[0m\u001b[0;34m:\u001b[0m\u001b[0;34m\u001b[0m\u001b[0;34m\u001b[0m\u001b[0m\n\u001b[1;32m    673\u001b[0m     \u001b[0;34mr\"\"\"Returns the index of a currently selected device.\"\"\"\u001b[0m\u001b[0;34m\u001b[0m\u001b[0;34m\u001b[0m\u001b[0m\n\u001b[0;32m--> 674\u001b[0;31m     \u001b[0m_lazy_init\u001b[0m\u001b[0;34m(\u001b[0m\u001b[0;34m)\u001b[0m\u001b[0;34m\u001b[0m\u001b[0;34m\u001b[0m\u001b[0m\n\u001b[0m\u001b[1;32m    675\u001b[0m     \u001b[0;32mreturn\u001b[0m \u001b[0mtorch\u001b[0m\u001b[0;34m.\u001b[0m\u001b[0m_C\u001b[0m\u001b[0;34m.\u001b[0m\u001b[0m_cuda_getDevice\u001b[0m\u001b[0;34m(\u001b[0m\u001b[0;34m)\u001b[0m\u001b[0;34m\u001b[0m\u001b[0;34m\u001b[0m\u001b[0m\n\u001b[1;32m    676\u001b[0m \u001b[0;34m\u001b[0m\u001b[0m\n",
      "\u001b[0;32m~/.local/lib/python3.10/site-packages/torch/cuda/__init__.py\u001b[0m in \u001b[0;36m_lazy_init\u001b[0;34m()\u001b[0m\n\u001b[1;32m    245\u001b[0m         \u001b[0;32mif\u001b[0m \u001b[0;34m'CUDA_MODULE_LOADING'\u001b[0m \u001b[0;32mnot\u001b[0m \u001b[0;32min\u001b[0m \u001b[0mos\u001b[0m\u001b[0;34m.\u001b[0m\u001b[0menviron\u001b[0m\u001b[0;34m:\u001b[0m\u001b[0;34m\u001b[0m\u001b[0;34m\u001b[0m\u001b[0m\n\u001b[1;32m    246\u001b[0m             \u001b[0mos\u001b[0m\u001b[0;34m.\u001b[0m\u001b[0menviron\u001b[0m\u001b[0;34m[\u001b[0m\u001b[0;34m'CUDA_MODULE_LOADING'\u001b[0m\u001b[0;34m]\u001b[0m \u001b[0;34m=\u001b[0m \u001b[0;34m'LAZY'\u001b[0m\u001b[0;34m\u001b[0m\u001b[0;34m\u001b[0m\u001b[0m\n\u001b[0;32m--> 247\u001b[0;31m         \u001b[0mtorch\u001b[0m\u001b[0;34m.\u001b[0m\u001b[0m_C\u001b[0m\u001b[0;34m.\u001b[0m\u001b[0m_cuda_init\u001b[0m\u001b[0;34m(\u001b[0m\u001b[0;34m)\u001b[0m\u001b[0;34m\u001b[0m\u001b[0;34m\u001b[0m\u001b[0m\n\u001b[0m\u001b[1;32m    248\u001b[0m         \u001b[0;31m# Some of the queued calls may reentrantly call _lazy_init();\u001b[0m\u001b[0;34m\u001b[0m\u001b[0;34m\u001b[0m\u001b[0m\n\u001b[1;32m    249\u001b[0m         \u001b[0;31m# we need to just return without initializing in that case.\u001b[0m\u001b[0;34m\u001b[0m\u001b[0;34m\u001b[0m\u001b[0m\n",
      "\u001b[0;31mRuntimeError\u001b[0m: Found no NVIDIA driver on your system. Please check that you have an NVIDIA GPU and installed a driver from http://www.nvidia.com/Download/index.aspx"
     ]
    }
   ],
   "source": [
    "from finetune import *\n",
    "dataset_path = \"data/labels_results/2024-02-06_14:35:37_mistral-instruct_ft-data.pkl\"\n",
    "model_path = \"mistralai/Mistral-7B-Instruct-v0.2\"\n",
    " \n",
    "ts = finetune(dataset_path, model_path)"
   ]
  }
 ],
 "metadata": {
  "kernelspec": {
   "display_name": "base",
   "language": "python",
   "name": "python3"
  },
  "language_info": {
   "codemirror_mode": {
    "name": "ipython",
    "version": 3
   },
   "file_extension": ".py",
   "mimetype": "text/x-python",
   "name": "python",
   "nbconvert_exporter": "python",
   "pygments_lexer": "ipython3",
   "version": "3.10.6"
  }
 },
 "nbformat": 4,
 "nbformat_minor": 2
}
