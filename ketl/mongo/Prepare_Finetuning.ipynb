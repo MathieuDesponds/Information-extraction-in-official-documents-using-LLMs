{
 "cells": [
  {
   "cell_type": "code",
   "execution_count": 1,
   "metadata": {},
   "outputs": [],
   "source": [
    "from myMongoClient import *\n",
    "from preparing_finetuning import *\n",
    "import pandas as pd\n",
    "%reload_ext autoreload\n",
    "%autoreload 2\n",
    "\n",
    "db = \"documents-100039\"\n",
    "organisation_id = int(db[-6:])"
   ]
  },
  {
   "cell_type": "code",
   "execution_count": null,
   "metadata": {},
   "outputs": [],
   "source": [
    "\n",
    "mongo_client = MyMongoClient(db)"
   ]
  },
  {
   "cell_type": "code",
   "execution_count": null,
   "metadata": {},
   "outputs": [],
   "source": [
    "labels = mongo_client.get_docs_labels(PREDICTION_DOCUMENT_FOLDER)[0]"
   ]
  },
  {
   "cell_type": "markdown",
   "metadata": {},
   "source": [
    "### Verify that all label name exist in the mapping label_name:label_key"
   ]
  },
  {
   "cell_type": "code",
   "execution_count": null,
   "metadata": {},
   "outputs": [],
   "source": [
    "print_all_missing_mapping()"
   ]
  },
  {
   "cell_type": "code",
   "execution_count": 32,
   "metadata": {},
   "outputs": [
    {
     "data": {
      "text/plain": [
       "\"<s>[INST] We are extracting information in a JSON format from the Person who the document is in reference to, not the bank nor the mandatary in the content of the document. The information should be related specifically to the Person who the document is in reference to, not the bank nor the mandatary of the document. [/INST]What are the information that you want to retieve ?</s>[INST] We have to find the following information of the Person who the document is in reference to, not the bank nor the mandatary in the document (the format of each row is field_name: description):\\nClient storage: Base storage for client. A custom text value\\nType: Type de l'entité trouvé dans le document. Only a fixed value from the following list (a description of the value may be given in parenthesis): 'Personne' (L'entité est une personne physique), 'Entreprise' (L'entité est une entreprise (SA, Sàrl, etc...))\\nNom: Uniquement le nom de famille d'une personne ou le nom d'une entreprise.. A custom text value\\nAbréviation: Enterprise short name node. A custom text value\\nForme juridique: Forme juridique. A custom value but prefer a value from the following list (a description of the value may be given in parenthesis): 'Sàrl','SA','Raison individuelle','Association'\\nN° IDE: N° IDE. A custom text value\\nN° TVA: N° TVA. A custom text value\\nPrénom: Uniquement le prénom d'une personne. A custom text value\\nAdresses e-mail: Adresses e-mail. A custom text value\\nNuméros de téléphone: Numéros de téléphone. A custom text value\\nPays de résidence: Pays de résidence. A custom text value\\nNuméro AVS: Numéro AVS. A custom text value\\nRue et N°: Rue node. A custom text value\\nCode postal: Code postal node. A custom text value\\nVille: Ville. A custom text value\\nPays: Pays node. A custom text value [/INST]Perfect ! Now can you send me the document ? </s>[INST] Here is the document : filenames: 131338_13p (1-4).pdf\\n                                                  1\\nDonation immobilière par Madame Marie DURAND à Mesdames Sophie DUBOIS, Léa MEYER\\net Jade MASSON LOPEZ\\n_________________________________________________________________________________\\nL’AN DEUX MILLE VINGT ET UN et le quinze octobre.\\nPar-devant Me Jules ROBERT, notaire à Genève, soussigné.\\n                                           ONT COMPARU :\\n1.    Madame Marie DURAND née CARON, fille de Raphaël et de Lola-Maria née DENIS, née\\n      le 6 juillet 1943, originaire de Collonge-Bellerive, veuve, sans profession, domiciliée à\\n      Genève, 14, rue de la Croix d'Or\\n      Ci-après également dénommée « la donatrice ».\\n2.    Madame Sophie DUBOIS née DURAND, fille de Gabriel-Paul et de Marie née CARON, née\\n      le 8 janvier 1965, originaire de Collonge-Bellerive, célibataire, enseignante, domiciliée à\\n      Genève, 5, rue du Mont-Blanc.\\n3.    Madame Léa MEYER née DURAND, fille de Gabriel-Paul et de Marie née CARON, née le 28\\n      septembre 1967, originaire de Collonge-Bellerive, mariée, secrétaire, domiciliée à Corseaux, 5,\\n      chemin de la Corniche.\\n4.    Madame Jade MASSON LOPEZ née DURAND, fille de Gabriel-Paul et de Marie née CARON,\\n      née le 27 juin 1972, originaire de Collonge-Bellerive, mariée, sage-femme, domiciliée à\\n      Genève, 41, route du Chêne.\\n      Ci-après également dénommées « les donataires ».\\n      Lesquelles comparantes sont convenues de ce qui suit :\\n                                            DONATION\\n      Madame Marie DURAND déclare faire donation, par préciput et hors part, par\\n      conséquence non rapportable dans sa succession future, à ses filles, Mesdames\\n      Sophie DUBOIS, Léa MEYER et Jade MASSON LOPEZ, de l’immeuble sis en zone 1 :\\n\\n\\n\\n                                                     2\\n                             COMMUNE DE GENÈVE\\n                             37, route de Florissant\\n       Parcelle 298          Surface totale                                                    1'073 m2\\n                             Bâtiment No 183                                                      18 m2\\n                             Habitation à un seul logement No 814                                 85 m2\\n       Avec toutes appartenances et dépendances, parties intégrantes et accessoires, sans aucune\\n       exception ni réserve.\\n                                        ORIGINE DE PROPRIETE\\nMadame Marie DURAND est devenue propriétaire de ladite parcelle à teneur de donation inscrit au\\nRegistre foncier le 24 février 1978, sous Pj. A358.\\n                     SITUATION HYPOTHECAIRE - ANNOTATIONS - MENTIONS\\nLa parcelle 298 de Genève est libre de tout gage immobilier, annotation et mention au\\nRegistre Foncier.\\n                                   USUFRUIT ET DROIT DE RETOUR\\nLa donatrice renonce à se réserver tout usufruit ou droit de retour sur le bien immobilier donné.\\n                                       ENTREE EN JOUISSANCE\\nLes donataires entrent en possession et jouissance du bien immobilier présentement donnée à\\ncompter de ce jour.\\n                                              CONDITIONS\\nLa présente donation est effectuée aux conditions suivantes :\\n1. Les donataires prennent le bien immobilier qui leur est présentement donné dans l’état et tel qu'il\\n   se trouve actuellement, déclarant bien le connaître.\\n2. Elles exerceront les servitudes en droit et souffriront les servitudes en charge régulièrement\\n   inscrites au Registre foncier, de même que les restrictions légales de la propriété, telles que plan\\n   d'alignement, de zones et autres semblables qui, en vertu de la loi, sont dispensées de l'inscription.\\n\\n\\n\\n                                                     3\\n    A ce sujet, les donataires déclarent avoir reçu une copie des servitudes intéressant la parcelle\\n    298 de Genève et dispensent par conséquent le notaire soussigné de les rappeler aux présentes.\\n3. Elles acquitteront tous impôts, contributions publiques et autres charges afférents à l’immeuble\\n    donné à compter ce jour.\\n4. Le bien immobilier donné est libre de tout bail ou droit d’occupation.\\n5. La donatrice et les donataires déclarent s’être renseignées, chacune auprès d’un fiscaliste de son\\n    choix, sur les conséquences de la présente opération. A ce sujet, la donatrice déclare que le bien\\n    immobilier donné fait partie de sa fortune privée.\\n6. Les droits, frais et honoraires des présentes sont à la charge des donataires, par égales parts entre\\n    elles.\\n                      SITUATION HYPOTHECAIRE - ANNOTATIONS - MENTIONS\\nLa parcelle 298 de Genève est libre de tout gage immobilier, annotation et mention au\\nRegistre Foncier.\\n                                                   LFAIE\\nLes donataires déclarent recevoir cet immeuble pour leur propre compte et qu'elles n'agissent ni sur\\nl'ordre ni pour le compte de personnes ayant leur domicile ou leur siège à l'étranger.\\n                                              PUBLICATION\\nLes comparantes sont avisées que la présente donation fera l'objet d'une publication opérée par les\\nsoins du Registre foncier dans la Feuille d'Avis Officielle (électronique) du Canton de Genève.\\n                                              REQUISITION\\nMonsieur le Conservateur du Registre foncier est en conséquence requis d’inscrire les stipulations\\ncontenues dans le présent acte.\\n                                        ELECTION DE DOMICILE\\nPour l'exécution des présentes, domicile est élu par les comparantes en leur demeure respective\\nsusindiquée.\\n\\n\\n\\n                                                   4\\n                                             DONT ACTE\\nFait et passé à Genève, en l'Etude, 45, route des Accacias.\\nEt après lecture, les comparantes ont signé avec le notaire la présente minute.\\nMarie DURAND :\\nSophie DUBOIS :\\nLéa MEYER :\\nJade MASSON LOPEZ :\\nMe Jules ROBERT :\\n [/INST]Perfect ! In which format do you want me to answer ?</s>[INST] Output a JSON of string arrays with the values you found, put an empty array if you really don't find the information. [/INST]{'Nom': 'DURAND', 'Prénom': 'Marie', 'Pays de résidence': 'Genève', 'Ville': 'Genève'}</s>\""
      ]
     },
     "execution_count": 32,
     "metadata": {},
     "output_type": "execute_result"
    }
   ],
   "source": [
    "all_prompts = get_all_prompts()\n",
    "all_prompts.iloc[0]['text']"
   ]
  },
  {
   "cell_type": "code",
   "execution_count": 14,
   "metadata": {},
   "outputs": [],
   "source": [
    "dataset =get_dataset_for_ft(with_save= True)"
   ]
  },
  {
   "cell_type": "code",
   "execution_count": 1,
   "metadata": {},
   "outputs": [
    {
     "data": {
      "application/vnd.jupyter.widget-view+json": {
       "model_id": "bf155f7eb6f6418aae85f3710000b529",
       "version_major": 2,
       "version_minor": 0
      },
      "text/plain": [
       "tokenizer_config.json:   0%|          | 0.00/1.46k [00:00<?, ?B/s]"
      ]
     },
     "metadata": {},
     "output_type": "display_data"
    },
    {
     "data": {
      "application/vnd.jupyter.widget-view+json": {
       "model_id": "c6ecd91bdf2a49bbb7ba438cbb22bc0b",
       "version_major": 2,
       "version_minor": 0
      },
      "text/plain": [
       "tokenizer.model:   0%|          | 0.00/493k [00:00<?, ?B/s]"
      ]
     },
     "metadata": {},
     "output_type": "display_data"
    },
    {
     "data": {
      "application/vnd.jupyter.widget-view+json": {
       "model_id": "3ca746f1e5b54822ba4ee72b4fc936d4",
       "version_major": 2,
       "version_minor": 0
      },
      "text/plain": [
       "tokenizer.json:   0%|          | 0.00/1.80M [00:00<?, ?B/s]"
      ]
     },
     "metadata": {},
     "output_type": "display_data"
    },
    {
     "data": {
      "application/vnd.jupyter.widget-view+json": {
       "model_id": "aac1a446522149cb909c4f533ee2b564",
       "version_major": 2,
       "version_minor": 0
      },
      "text/plain": [
       "special_tokens_map.json:   0%|          | 0.00/72.0 [00:00<?, ?B/s]"
      ]
     },
     "metadata": {},
     "output_type": "display_data"
    },
    {
     "name": "stdout",
     "output_type": "stream",
     "text": [
      "[['OIM5/UAeFdF/89qUnw6PYQ==', 'XYSfpQqF8S/WZACQB89aQg==', '62Ks33O7Qs/5VzmxHnLKKg==', 'Mu1LMY72DqTU4EcsKehlNQ==', 'WtSnT+r3K41h5RVeHtNxcQ==', 'OwMqwAxuV04hF8/CIMpmTw==', 'brnVjQ2jdMnnnva8HbtZvw==', 'AkQLya7ACmOlLzzTSBl+7Q==', 'TPC9ga0BcvDufyQG5rhJlA==', 'SgBS1xDIIGtFEGsCsXzBdQ==', 'Mn49VBj1jCC5abiIF+KSYw==', 'idCxKwlHBkX6RCkbNQcPew==', 'ncPazdxjEDilkxtaJ3opvQ==', 't6OZa3i1wjaTiuJ73YUI5Q==', 'gLlabF3e/KCHLFEch79CyA==', '5h6GNEvj0GuGXZw0QV8bkg==', 'mHK8QQTTOTp0sx+85PF1qw==', 'LR2Qjv37O4C7xuV3bQ0kfw==', 'm6qKL95/JJDOosQKGhNMBg==', 'DQmxo4NmXgSjMB1cYnqDLQ==', 'qDx3ca5KQq1tPNpeTenADg==', 'F/mhPfRtig0BtQ+7U0Rhww==', 'F89GFqG7qDrPcFLsNvP78g==', 'iWajwR6y9k3U19MT7TSj7w==', 'fMTbsvqvNMxjqlsMXmd9Zg==', 'wq6Y67C/qJ4XNTPoPF1U/A==', 'jzhxVNvjWQW03mvlMcdfRA==', 'rPsoK4ZZuUr1s+wlLlZG6Q==', 'TTVwSNEEOtYyhsH76z1c2w==', 'fOQt+54tkeoMWlfgrt8JKw==', 'GOl503tqZuhFffQCJxohQQ==', '3+h1BtgoAL0PhXWyK1+40g==', 'ApKooPrik6NaZycouG1EuA==', 'h/W7gVfWe01KXc6M/dNNZA==', 'FpB0RmEnQsAsagBFq0WE6Q==', 'nJkYWbzpRjEIRIR26CCl3g==', 'JTo5jlzcVgrWKSO+dnoTuw==', '4bS2yQ7aeIoqZx5skntEFA==', '5+ip+7sGl+kfXqh+5SwOyA==', 'VO580j3/ILBAvlhfKY7hFQ==', 'tvFDh+QKoBmAS4Y+DcrbFQ==', '63KSW0tjZ6CrwLEQoCfuUg==', 'aKzn+rOg4/jqM3pJnGinUg==', 'FM6/EwmcFZEz5oajnndzIQ==', 'pzUoTkjP5jewZllKi9SYFg=='], ['tBsqDkcVuL9jRLfsW4XPcg==', '7djccsF+/wgSM22nUQxzbg==', '0TV5HBHlRmKfrAWmOeB+sA=='], ['uWBnTaAdFY82lM++s6MHeg==', 'Pu0sLCtT589MSWTzJ0BzXw==', 'vcfhlBm0kSQeDonuu1Yetg==', 'p2BrtzVU4jIl5+XZLQ92sQ==', 'LrbMyOW9+ohDSwkCB3juHw==', 'OKF4dU6E0bKtRiWtntlN4Q==', 'VWJePKrE1ZYa16X65vrMUw==', 'TQIcgnW2uiqlK3nd7/EPVg==', 'VblBUfdotuRXo6mkyE0zJA==', '7wKQEgxKSZEspILT7n7UqA==', 'xbv5g+6M8anyCzcHvk/aAw==', '29yradmnIewK1RIRbRSTrg==', 'Rqzgy9RTAQp0NOcAss4Jhg==', 'NpG1ncW32zldaK0/WnAswQ==', 'yEpfWSZXTPQZ84K+aj1drQ==', 'MAgp8LOwZAWrSKMvfAEaJQ==', 'tRbvMAS7xrpDyIqJ03SsgQ==', 'xxNhWcwgPiDRM7jSX5dBvA==', '3KtqVeCizQwSQB1ZYP1XEQ==', 'hwtoqeC8N4jRLm4VYGw2og==', '7sksWKtw8kBPkNzuyGo98A==', 'ANelIAm7DA7mZ3RLDoKssA==', 'CmprTKt2KAKxcpRjt+NWgg==', 'MMhOXx6xT8Y4MZEp9KKR8w==', 'NP7dYhy+sWTjSoVq5wi4SQ==', 'ObvTKRLDTpm1DJtm/EJonA==', '3520v2gfAFyiW53r271b6A==', 'Aj9dOwwQhb1qyUUJu5dKiQ==']]\n"
     ]
    },
    {
     "data": {
      "application/vnd.jupyter.widget-view+json": {
       "model_id": "5ec74ba963394addb888d40abd778f8a",
       "version_major": 2,
       "version_minor": 0
      },
      "text/plain": [
       "config.json:   0%|          | 0.00/596 [00:00<?, ?B/s]"
      ]
     },
     "metadata": {},
     "output_type": "display_data"
    },
    {
     "data": {
      "application/vnd.jupyter.widget-view+json": {
       "model_id": "4bd41c88d1144f5582aba20e0894efde",
       "version_major": 2,
       "version_minor": 0
      },
      "text/plain": [
       "model.safetensors.index.json:   0%|          | 0.00/25.1k [00:00<?, ?B/s]"
      ]
     },
     "metadata": {},
     "output_type": "display_data"
    },
    {
     "data": {
      "application/vnd.jupyter.widget-view+json": {
       "model_id": "29652bd7d6d84e548aff431477210508",
       "version_major": 2,
       "version_minor": 0
      },
      "text/plain": [
       "Downloading shards:   0%|          | 0/3 [00:00<?, ?it/s]"
      ]
     },
     "metadata": {},
     "output_type": "display_data"
    },
    {
     "data": {
      "application/vnd.jupyter.widget-view+json": {
       "model_id": "d3fbcf362f35478893602b0f027d271b",
       "version_major": 2,
       "version_minor": 0
      },
      "text/plain": [
       "model-00001-of-00003.safetensors:   0%|          | 0.00/4.94G [00:00<?, ?B/s]"
      ]
     },
     "metadata": {},
     "output_type": "display_data"
    },
    {
     "data": {
      "application/vnd.jupyter.widget-view+json": {
       "model_id": "aaeb4ba3fedc4c33a7fce6fcd379022a",
       "version_major": 2,
       "version_minor": 0
      },
      "text/plain": [
       "model-00002-of-00003.safetensors:   0%|          | 0.00/5.00G [00:00<?, ?B/s]"
      ]
     },
     "metadata": {},
     "output_type": "display_data"
    },
    {
     "data": {
      "application/vnd.jupyter.widget-view+json": {
       "model_id": "cdb39402564c49828fd161e182c15b33",
       "version_major": 2,
       "version_minor": 0
      },
      "text/plain": [
       "model-00003-of-00003.safetensors:   0%|          | 0.00/4.54G [00:00<?, ?B/s]"
      ]
     },
     "metadata": {},
     "output_type": "display_data"
    },
    {
     "data": {
      "application/vnd.jupyter.widget-view+json": {
       "model_id": "ba1deef39303470dadae67195252ce69",
       "version_major": 2,
       "version_minor": 0
      },
      "text/plain": [
       "Loading checkpoint shards:   0%|          | 0/3 [00:00<?, ?it/s]"
      ]
     },
     "metadata": {},
     "output_type": "display_data"
    },
    {
     "data": {
      "application/vnd.jupyter.widget-view+json": {
       "model_id": "82d39b4223f64b4196863d876e797720",
       "version_major": 2,
       "version_minor": 0
      },
      "text/plain": [
       "generation_config.json:   0%|          | 0.00/111 [00:00<?, ?B/s]"
      ]
     },
     "metadata": {},
     "output_type": "display_data"
    },
    {
     "name": "stderr",
     "output_type": "stream",
     "text": [
      "Failed to detect the name of this notebook, you can set it manually with the WANDB_NOTEBOOK_NAME environment variable to enable code saving.\n",
      "\u001b[34m\u001b[1mwandb\u001b[0m: Logging into wandb.ai. (Learn how to deploy a W&B server locally: https://wandb.me/wandb-server)\n",
      "\u001b[34m\u001b[1mwandb\u001b[0m: You can find your API key in your browser here: https://wandb.ai/authorize\n",
      "\u001b[34m\u001b[1mwandb\u001b[0m: Paste an API key from your profile and hit enter, or press ctrl+c to quit:\u001b[34m\u001b[1mwandb\u001b[0m: Appending key for api.wandb.ai to your netrc file: /root/.netrc\n"
     ]
    },
    {
     "data": {
      "text/html": [
       "wandb version 0.16.2 is available!  To upgrade, please run:\n",
       " $ pip install wandb --upgrade"
      ],
      "text/plain": [
       "<IPython.core.display.HTML object>"
      ]
     },
     "metadata": {},
     "output_type": "display_data"
    },
    {
     "data": {
      "text/html": [
       "Tracking run with wandb version 0.16.1"
      ],
      "text/plain": [
       "<IPython.core.display.HTML object>"
      ]
     },
     "metadata": {},
     "output_type": "display_data"
    },
    {
     "data": {
      "text/html": [
       "Run data is saved locally in <code>/myhome/Master-thesis/ketl/mongo/wandb/run-20240205_083938-iaomuohl</code>"
      ],
      "text/plain": [
       "<IPython.core.display.HTML object>"
      ]
     },
     "metadata": {},
     "output_type": "display_data"
    },
    {
     "data": {
      "text/html": [
       "Syncing run <strong><a href='https://wandb.ai/ketl/huggingface/runs/iaomuohl' target=\"_blank\">finetuned-ketl-2024-02-05-08-32</a></strong> to <a href='https://wandb.ai/ketl/huggingface' target=\"_blank\">Weights & Biases</a> (<a href='https://wandb.me/run' target=\"_blank\">docs</a>)<br/>"
      ],
      "text/plain": [
       "<IPython.core.display.HTML object>"
      ]
     },
     "metadata": {},
     "output_type": "display_data"
    },
    {
     "data": {
      "text/html": [
       " View project at <a href='https://wandb.ai/ketl/huggingface' target=\"_blank\">https://wandb.ai/ketl/huggingface</a>"
      ],
      "text/plain": [
       "<IPython.core.display.HTML object>"
      ]
     },
     "metadata": {},
     "output_type": "display_data"
    },
    {
     "data": {
      "text/html": [
       " View run at <a href='https://wandb.ai/ketl/huggingface/runs/iaomuohl' target=\"_blank\">https://wandb.ai/ketl/huggingface/runs/iaomuohl</a>"
      ],
      "text/plain": [
       "<IPython.core.display.HTML object>"
      ]
     },
     "metadata": {},
     "output_type": "display_data"
    },
    {
     "name": "stderr",
     "output_type": "stream",
     "text": [
      "You're using a LlamaTokenizerFast tokenizer. Please note that with a fast tokenizer, using the `__call__` method is faster than using a method to encode the text followed by a call to the `pad` method to get a padded encoding.\n",
      "/myhome/miniconda3/lib/python3.10/site-packages/torch/utils/checkpoint.py:429: UserWarning: torch.utils.checkpoint: please pass in use_reentrant=True or use_reentrant=False explicitly. The default value of use_reentrant will be updated to be False in the future. To maintain current behavior, pass use_reentrant=True. It is recommended that you use use_reentrant=False. Refer to docs for more details on the differences between the two variants.\n",
      "  warnings.warn(\n"
     ]
    },
    {
     "data": {
      "text/html": [
       "\n",
       "    <div>\n",
       "      \n",
       "      <progress value='130' max='130' style='width:300px; height:20px; vertical-align: middle;'></progress>\n",
       "      [130/130 24:58, Epoch 1/1]\n",
       "    </div>\n",
       "    <table border=\"1\" class=\"dataframe\">\n",
       "  <thead>\n",
       " <tr style=\"text-align: left;\">\n",
       "      <th>Step</th>\n",
       "      <th>Training Loss</th>\n",
       "    </tr>\n",
       "  </thead>\n",
       "  <tbody>\n",
       "  </tbody>\n",
       "</table><p>"
      ],
      "text/plain": [
       "<IPython.core.display.HTML object>"
      ]
     },
     "metadata": {},
     "output_type": "display_data"
    },
    {
     "name": "stderr",
     "output_type": "stream",
     "text": [
      "/myhome/miniconda3/lib/python3.10/site-packages/peft/utils/save_and_load.py:131: UserWarning: Setting `save_embedding_layers` to `True` as embedding layers found in `target_modules`.\n",
      "  warnings.warn(\"Setting `save_embedding_layers` to `True` as embedding layers found in `target_modules`.\")\n"
     ]
    }
   ],
   "source": [
    "from finetune import *\n",
    "# [['OIM5/UAeFdF/89qUnw6PYQ==', 'XYSfpQqF8S/WZACQB89aQg==', '62Ks33O7Qs/5VzmxHnLKKg==', 'Mu1LMY72DqTU4EcsKehlNQ==', 'WtSnT+r3K41h5RVeHtNxcQ==', 'OwMqwAxuV04hF8/CIMpmTw==', 'brnVjQ2jdMnnnva8HbtZvw==', 'AkQLya7ACmOlLzzTSBl+7Q==', 'TPC9ga0BcvDufyQG5rhJlA==', 'SgBS1xDIIGtFEGsCsXzBdQ==', 'Mn49VBj1jCC5abiIF+KSYw==', 'idCxKwlHBkX6RCkbNQcPew==', 'ncPazdxjEDilkxtaJ3opvQ==', 't6OZa3i1wjaTiuJ73YUI5Q==', 'gLlabF3e/KCHLFEch79CyA==', '5h6GNEvj0GuGXZw0QV8bkg==', 'mHK8QQTTOTp0sx+85PF1qw==', 'LR2Qjv37O4C7xuV3bQ0kfw==', 'm6qKL95/JJDOosQKGhNMBg==', 'DQmxo4NmXgSjMB1cYnqDLQ==', 'qDx3ca5KQq1tPNpeTenADg==', 'F/mhPfRtig0BtQ+7U0Rhww==', 'F89GFqG7qDrPcFLsNvP78g==', 'iWajwR6y9k3U19MT7TSj7w==', 'fMTbsvqvNMxjqlsMXmd9Zg==', 'wq6Y67C/qJ4XNTPoPF1U/A==', 'jzhxVNvjWQW03mvlMcdfRA==', 'rPsoK4ZZuUr1s+wlLlZG6Q==', 'TTVwSNEEOtYyhsH76z1c2w==', 'fOQt+54tkeoMWlfgrt8JKw==', 'GOl503tqZuhFffQCJxohQQ==', '3+h1BtgoAL0PhXWyK1+40g==', 'ApKooPrik6NaZycouG1EuA==', 'h/W7gVfWe01KXc6M/dNNZA==', 'FpB0RmEnQsAsagBFq0WE6Q==', 'nJkYWbzpRjEIRIR26CCl3g==', 'JTo5jlzcVgrWKSO+dnoTuw==', '4bS2yQ7aeIoqZx5skntEFA==', '5+ip+7sGl+kfXqh+5SwOyA==', 'VO580j3/ILBAvlhfKY7hFQ==', 'tvFDh+QKoBmAS4Y+DcrbFQ==', '63KSW0tjZ6CrwLEQoCfuUg==', 'aKzn+rOg4/jqM3pJnGinUg==', 'FM6/EwmcFZEz5oajnndzIQ==', 'pzUoTkjP5jewZllKi9SYFg=='], ['tBsqDkcVuL9jRLfsW4XPcg==', '7djccsF+/wgSM22nUQxzbg==', '0TV5HBHlRmKfrAWmOeB+sA=='], ['uWBnTaAdFY82lM++s6MHeg==', 'Pu0sLCtT589MSWTzJ0BzXw==', 'vcfhlBm0kSQeDonuu1Yetg==', 'p2BrtzVU4jIl5+XZLQ92sQ==', 'LrbMyOW9+ohDSwkCB3juHw==', 'OKF4dU6E0bKtRiWtntlN4Q==', 'VWJePKrE1ZYa16X65vrMUw==', 'TQIcgnW2uiqlK3nd7/EPVg==', 'VblBUfdotuRXo6mkyE0zJA==', '7wKQEgxKSZEspILT7n7UqA==', 'xbv5g+6M8anyCzcHvk/aAw==', '29yradmnIewK1RIRbRSTrg==', 'Rqzgy9RTAQp0NOcAss4Jhg==', 'NpG1ncW32zldaK0/WnAswQ==', 'yEpfWSZXTPQZ84K+aj1drQ==', 'MAgp8LOwZAWrSKMvfAEaJQ==', 'tRbvMAS7xrpDyIqJ03SsgQ==', 'xxNhWcwgPiDRM7jSX5dBvA==', '3KtqVeCizQwSQB1ZYP1XEQ==', 'hwtoqeC8N4jRLm4VYGw2og==', '7sksWKtw8kBPkNzuyGo98A==', 'ANelIAm7DA7mZ3RLDoKssA==', 'CmprTKt2KAKxcpRjt+NWgg==', 'MMhOXx6xT8Y4MZEp9KKR8w==', 'NP7dYhy+sWTjSoVq5wi4SQ==', 'ObvTKRLDTpm1DJtm/EJonA==', '3520v2gfAFyiW53r271b6A==', 'Aj9dOwwQhb1qyUUJu5dKiQ==']]\n",
    "dataset_path = \"data/labels_results/2024-02-02_14:56:14_mistral-instruct_ft-data.pkl\"\n",
    "model_path = \"mistralai/Mistral-7B-Instruct-v0.2\"\n",
    " \n",
    "finetune(dataset_path, model_path)"
   ]
  },
  {
   "cell_type": "code",
   "execution_count": null,
   "metadata": {},
   "outputs": [],
   "source": []
  }
 ],
 "metadata": {
  "kernelspec": {
   "display_name": "base",
   "language": "python",
   "name": "python3"
  },
  "language_info": {
   "codemirror_mode": {
    "name": "ipython",
    "version": 3
   },
   "file_extension": ".py",
   "mimetype": "text/x-python",
   "name": "python",
   "nbconvert_exporter": "python",
   "pygments_lexer": "ipython3",
   "version": "3.10.6"
  }
 },
 "nbformat": 4,
 "nbformat_minor": 2
}
