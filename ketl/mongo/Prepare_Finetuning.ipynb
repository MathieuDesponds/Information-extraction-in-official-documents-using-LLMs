{
 "cells": [
  {
   "cell_type": "code",
   "execution_count": null,
   "metadata": {},
   "outputs": [],
   "source": [
    "from myMongoClient import *\n",
    "from preparing_finetuning import *\n",
    "import pandas as pd\n",
    "%reload_ext autoreload\n",
    "%autoreload 2\n",
    "\n",
    "db = \"documents-100039\"\n",
    "organisation_id = int(db[-6:])\n",
    "# mongo_client = MyMongoClient(db)"
   ]
  },
  {
   "cell_type": "code",
   "execution_count": null,
   "metadata": {},
   "outputs": [],
   "source": [
    "labels = mongo_client.get_docs_labels(PREDICTION_DOCUMENT_FOLDER)[0]\n",
    "dump(labels, \"data/labels_results/2024-01-24-labels-for-client.pkl\")"
   ]
  },
  {
   "cell_type": "markdown",
   "metadata": {},
   "source": [
    "## Get a mapping form the file_name and the type of document it is"
   ]
  },
  {
   "cell_type": "code",
   "execution_count": null,
   "metadata": {},
   "outputs": [],
   "source": [
    "label_versions = pd.read_csv(\"data/labels_results/2024-01-18_16:15:33_df_gold_labels.csv\")\n",
    "output = label_versions[label_versions['label_name'] == 'document type'][['doc_id', 'label_value']]\n",
    "doc_hash_value = {rows['doc_id'] : rows['label_value'] for idx , rows in output.iterrows()}\n",
    "file_name_doc_hash = {inst['files'][0]['fileName'] : inst['_id'] for inst in mongo_client.get_all_documents() if inst['files'] and inst['files'][0]['fileName'].startswith(('Pseudo_',\"pseudo_\"))}\n",
    "file_nam_value = {key : doc_hash_value[value] for key, value in file_name_doc_hash.items() if value in doc_hash_value}\n",
    "# file_nam_value, len(file_nam_value)\n",
    "\n",
    "dump(file_nam_value, \"doc_type_from_file_name.pkl\")"
   ]
  },
  {
   "cell_type": "markdown",
   "metadata": {},
   "source": [
    "### Verify that all label name exist in the mapping label_name:label_key"
   ]
  },
  {
   "cell_type": "code",
   "execution_count": null,
   "metadata": {},
   "outputs": [],
   "source": [
    "print_all_missing_mapping()"
   ]
  },
  {
   "cell_type": "code",
   "execution_count": null,
   "metadata": {},
   "outputs": [],
   "source": [
    "def update_mapping_class_label_label_name(label_class, label_name):\n",
    "    file = load(\"classifaction_label_to_label_name.pkl\")\n",
    "    file[label_class] = label_name\n",
    "    dump(file, \"classifaction_label_to_label_name.pkl\") "
   ]
  },
  {
   "cell_type": "code",
   "execution_count": null,
   "metadata": {},
   "outputs": [],
   "source": [
    "all_docs_labels = pd.read_csv(\"data/labels_results/2024-01-12_16:42:23_df_gold_labels.csv\")\n",
    "def  get_label_value(file_name, label_name):\n",
    "    doc = [doc for doc in all_docs_labels if doc['files'][0]['fileName'] == file_name]\n",
    "    label = [label for label in doc['labels'] if label['name'] == label_name]\n",
    "    return label['value'] if label else []\n",
    "all_prompts = get_all_prompts()\n",
    "all_prompts['fields_name_value'] = all_prompts.apply(lambda row : \n",
    "            {label_name : get_label_value(row['file_name'], label_name)for label_name in row['fields_name_key']}, axis = 1)"
   ]
  },
  {
   "cell_type": "code",
   "execution_count": null,
   "metadata": {},
   "outputs": [],
   "source": [
    "user_llm = {\n",
    "   \"2vIzdtbIlRfELCEIj+Wsxw==\" : '7wKQEgxKSZEspILT7n7UqA==',\n",
    "   \"4qvfu2lB0Qe9e6j0Kq+Q0Q==\" : \"3+h1BtgoAL0PhXWyK1+40g==\",\n",
    "   \"HbCTvF8+qSdmSZx2554y1A==\" : \"VO580j3/ILBAvlhfKY7hFQ==\",\n",
    "   \"0Dvjg/odKW5noqUL8wrOKw==\" : \"mHK8QQTTOTp0sx+85PF1qw==\",\n",
    "   \"HwklrgHthb7XGEXVDgu6xg==\" : \"yEpfWSZXTPQZ84K+aj1drQ==\",\n",
    "   \"HbCTvF8+qSdmSZx2554y1A==\" : \"VO580j3/ILBAvlhfKY7hFQ==\",\n",
    "   \"hcqBfAlCslQ0a1QFu1RcJA==\" : \"63KSW0tjZ6CrwLEQoCfuUg==\",\n",
    "   \"fTXgJLNmmgWMv9xzQjnRpQ==\" : \"29yradmnIewK1RIRbRSTrg==\",\n",
    "}\n",
    "def map_doc_id_doc_name() :\n",
    "    map_doc_id_doc_name = {}\n",
    "    all_docs = mongo_client.get_all_documents()\n",
    "    for doc_id in list(all_docs_labels['doc_id'].unique()):\n",
    "        if doc_id in user_llm :\n",
    "            doc_id = user_llm[doc_id] \n",
    "        map_doc_id_doc_name[doc_id] = [doc['files'][0]['fileName'] for doc in all_docs if doc['_id'] == doc_id and doc['files']][0]\n",
    "    dump(map_doc_id_doc_name, \"map_doc_id_doc_name.pkl\")"
   ]
  },
  {
   "cell_type": "code",
   "execution_count": null,
   "metadata": {},
   "outputs": [],
   "source": [
    "all_prompts = get_all_prompts()\n",
    "all_prompts"
   ]
  }
 ],
 "metadata": {
  "kernelspec": {
   "display_name": "base",
   "language": "python",
   "name": "python3"
  },
  "language_info": {
   "codemirror_mode": {
    "name": "ipython",
    "version": 3
   },
   "file_extension": ".py",
   "mimetype": "text/x-python",
   "name": "python",
   "nbconvert_exporter": "python",
   "pygments_lexer": "ipython3",
   "version": "3.10.6"
  }
 },
 "nbformat": 4,
 "nbformat_minor": 2
}
