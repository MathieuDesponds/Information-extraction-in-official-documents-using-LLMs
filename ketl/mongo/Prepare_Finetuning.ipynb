{
 "cells": [
  {
   "cell_type": "code",
   "execution_count": 7,
   "metadata": {},
   "outputs": [],
   "source": [
    "from myMongoClient import *\n",
    "import pandas as pd\n",
    "%reload_ext autoreload\n",
    "%autoreload 2\n",
    "\n",
    "db = \"documents-100039\"\n",
    "organisation_id = int(db[-6:])\n",
    "mongo_client = MyMongoClient(db)"
   ]
  },
  {
   "cell_type": "markdown",
   "metadata": {},
   "source": [
    "## Get a mapping form the file_name and the type of document it is"
   ]
  },
  {
   "cell_type": "code",
   "execution_count": 6,
   "metadata": {},
   "outputs": [],
   "source": [
    "label_versions = pd.read_csv(\"data/labels_results/2024-01-18_16:15:33_df_gold_labels.csv\")\n",
    "output = label_versions[label_versions['label_name'] == 'document type'][['doc_id', 'label_value']]\n",
    "doc_hash_value = {rows['doc_id'] : rows['label_value'] for idx , rows in output.iterrows()}\n",
    "file_name_doc_hash = {inst['files'][0]['fileName'] : inst['_id'] for inst in mongo_client.get_all_documents() if inst['files'] and inst['files'][0]['fileName'].startswith(('Pseudo_',\"pseudo_\"))}\n",
    "file_nam_value = {key : doc_hash_value[value] for key, value in file_name_doc_hash.items() if value in doc_hash_value}\n",
    "# file_nam_value, len(file_nam_value)\n",
    "\n",
    "dump(file_nam_value, \"doc_type_from_file_name.pkl\")"
   ]
  },
  {
   "cell_type": "markdown",
   "metadata": {},
   "source": [
    "## Get gold labels from prompt"
   ]
  },
  {
   "cell_type": "code",
   "execution_count": null,
   "metadata": {},
   "outputs": [],
   "source": [
    "load(\"data/saved_prompts/prompts_2024-01-23_13:38:13.csv\")"
   ]
  }
 ],
 "metadata": {
  "kernelspec": {
   "display_name": "base",
   "language": "python",
   "name": "python3"
  },
  "language_info": {
   "codemirror_mode": {
    "name": "ipython",
    "version": 3
   },
   "file_extension": ".py",
   "mimetype": "text/x-python",
   "name": "python",
   "nbconvert_exporter": "python",
   "pygments_lexer": "ipython3",
   "version": "3.11.5"
  }
 },
 "nbformat": 4,
 "nbformat_minor": 2
}
