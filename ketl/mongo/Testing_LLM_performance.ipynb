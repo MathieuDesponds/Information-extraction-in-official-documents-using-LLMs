{
 "cells": [
  {
   "cell_type": "code",
   "execution_count": 68,
   "metadata": {},
   "outputs": [],
   "source": [
    "from myMongoClient import MyMongoClient, PREDICTION_DOCUMENT_FOLDER\n",
    "import pandas as pd\n",
    "%reload_ext autoreload\n",
    "%autoreload 2"
   ]
  },
  {
   "cell_type": "code",
   "execution_count": 2,
   "metadata": {},
   "outputs": [],
   "source": [
    "db = \"documents-100039\"\n",
    "organisation_id = int(db[-6:])\n",
    "\n",
    "mongo_client = MyMongoClient(db)"
   ]
  },
  {
   "cell_type": "code",
   "execution_count": 12,
   "metadata": {},
   "outputs": [],
   "source": [
    "labels, file_names = mongo_client.get_docs_labels(PREDICTION_DOCUMENT_FOLDER)"
   ]
  },
  {
   "cell_type": "code",
   "execution_count": 14,
   "metadata": {},
   "outputs": [
    {
     "name": "stdout",
     "output_type": "stream",
     "text": [
      "2021 - Relevé bancaire - CREDIT AGRICOLE DES SAVOIE.pdf Wrong field document type. Found CGA instead of Relevé bancaire\n",
      "2021 - Relevé bancaire - CREDIT AGRICOLE DES SAVOIE.pdf Wrong field relevant date. Found 2023-12-19T00:00:00+00:00 instead of 2021-01-04T00:00:00+00:00\n",
      "2021 - Relevé bancaire - CREDIT AGRICOLE DES SAVOIE.pdfMissing field : bank\n",
      "2018-01-23 - Décompte de gestion.pdf is not in prediction label\n",
      "2011-02-06 - Extrait du registre foncier.pdf is not in prediction label\n",
      "2020 - Relevé bancaire - CREDIT AGRICOLE DES SAVOIE.pdf Wrong field document type. Found E-mails instead of Relevé bancaire\n",
      "2020 - Relevé bancaire - CREDIT AGRICOLE DES SAVOIE.pdf Wrong field relevant date. Found 2023-12-19T00:00:00+00:00 instead of 2020-12-31T00:00:00+00:00\n",
      "2020 - Relevé bancaire - CREDIT AGRICOLE DES SAVOIE.pdfMissing field : bank\n",
      "2020-09-16 Police d'assurance.pdf Wrong field relevant date. Found 2023-11-30T00:00:00+00:00 instead of 2020-09-16T00:00:00+00:00\n",
      "2020-09-16 Police d'assurance.pdfMissing field : insurance name\n",
      "2017-12-31 - Déclaration fiscale.pdf is not in prediction label\n",
      "2021-01-28 - Documents contractuels.pdf Wrong field document type. Found Attestation de loyer de régie instead of Documents contractuels\n",
      "2021-01-28 - Documents contractuels.pdf Wrong field relevant date. Found 2023-12-19T00:00:00+00:00 instead of 2021-01-28T00:00:00+00:00\n",
      "2012-08-08 - Extrait du registre foncier.pdf is not in prediction label\n",
      "2017-01-01 - Certificat annuel de salaire.pdf is not in prediction label\n",
      "2007-04-19 - Extrait du registre foncier.pdf is not in prediction label\n",
      "2011-03-27 - Déclaration fiscale.pdf is not in prediction label\n",
      "2021-01-28 Police d'assurance.pdf Wrong field relevant date. Found 2023-12-19T00:00:00+00:00 instead of 2021-01-28T00:00:00+00:00\n",
      "2021-01-28 Police d'assurance.pdfMissing field : insurance name\n",
      "2017-01-27 - Décompte de salaire.pdf Wrong field document type. Found Décompte de salaire : Janvier 2017 instead of Décompte de salaire\n",
      "2017-01-27 - Décompte de salaire.pdfMissing field : relevant date\n",
      "2020-06-28 - Lettre de YVES DIAVIS à Banque Cantonale de Genève.pdf is not in prediction label\n",
      "2017-08-30 - Lettre de Tribunal de protection de l'adulte et de l'enfant à MARTIN Jeanne.pdf Wrong field relevant date. Found 2023-12-19T00:00:00+00:00 instead of 2017-08-30T00:00:00+00:00\n",
      "2017-08-30 - Lettre de Tribunal de protection de l'adulte et de l'enfant à MARTIN Jeanne.pdfMissing field : invoice concern\n",
      "2017-08-30 - Lettre de Tribunal de protection de l'adulte et de l'enfant à MARTIN Jeanne.pdfMissing field : owner\n",
      "2017-08-30 - Lettre de Tribunal de protection de l'adulte et de l'enfant à MARTIN Jeanne.pdf Wrong field direction. Found Entrant instead of Sortant\n",
      "2017-08-30 - Lettre de Tribunal de protection de l'adulte et de l'enfant à MARTIN Jeanne.pdf Wrong field client. Found 6512c03906266e001d585bb5 instead of 6536934f127f4f001df8217c\n",
      "2017-08-30 - Lettre de Tribunal de protection de l'adulte et de l'enfant à MARTIN Jeanne.pdf Wrong field sender. Found sacasc instead of Tribunal de protection de l'adulte et de l'enfant\n",
      "2017-08-30 - Lettre de Tribunal de protection de l'adulte et de l'enfant à MARTIN Jeanne.pdfMissing field : receiver\n",
      "2021-02-19 - Fiche de salaire.pdf Wrong field document type. Found Certificat annuel de prévoyance / Versicherungsausweis instead of Fiche de salaire\n",
      "2021-02-19 - Fiche de salaire.pdf Wrong field relevant date. Found 2023-12-19T00:00:00+00:00 instead of 2021-02-19T00:00:00+00:00\n",
      "2021-02-19 - Fiche de salaire.pdfMissing field : mois salaire\n",
      "2021-02-19 - Fiche de salaire.pdfMissing field : salaire net\n",
      "2021-02-19 - Fiche de salaire.pdfMissing field : annee salaire\n",
      "2021-02-19 - Fiche de salaire.pdfMissing field : date type\n",
      "2017-01-01 - Attestation fiscale de rente de prévoyance.pdf is not in prediction label\n",
      "2017-02-27 - Décompte de salaire.pdf Wrong field document type. Found Fiche de salaire instead of Décompte de salaire\n",
      "2017-02-27 - Décompte de salaire.pdf Wrong field relevant date. Found 2023-12-20T00:00:00+00:00 instead of 2017-02-27T00:00:00+00:00\n",
      "2011-05-08 - Extrait du registre foncier.pdf is not in prediction label\n",
      "2023-10-23 - Acte constitutif de cédule.pdf is not in prediction label\n",
      "2017-10-30 - Certificat d'héritier.pdf is not in prediction label\n",
      "2021-03-19 - Fiche de salaire.pdf Wrong field document type. Found Acte instead of Fiche de salaire\n",
      "2021-03-19 - Fiche de salaire.pdf Wrong field relevant date. Found 2023-12-19T00:00:00+00:00 instead of 2021-03-19T00:00:00+00:00\n",
      "2021-03-19 - Fiche de salaire.pdfMissing field : annee salaire\n",
      "2021-03-19 - Fiche de salaire.pdfMissing field : mois salaire\n",
      "2021-03-19 - Fiche de salaire.pdfMissing field : salaire net\n",
      "2021-03-19 - Fiche de salaire.pdfMissing field : date type\n",
      "2017-03-01 - Décompte de salaire.pdf Wrong field document type. Found Décompte de salaire: Mars 2017 instead of Décompte de salaire\n",
      "2017-03-01 - Décompte de salaire.pdfMissing field : relevant date\n",
      "2017-12-31 - Certificat annuel de salaire.pdf is not in prediction label\n",
      "2020-07-31 - Certificat annuel de prévoyance - Versicherungsausweis.pdf Wrong field document type. Found Attestation de donation familiale instead of Certificat annuel de prévoyance / Versicherungsausweis\n",
      "2020-07-31 - Certificat annuel de prévoyance - Versicherungsausweis.pdf Wrong field relevant date. Found 2023-12-19T00:00:00+00:00 instead of 2020-07-31T00:00:00+00:00\n",
      "2021-10-15 - Acte de donation.pdf is not in prediction label\n",
      "2021-04-20 - Fiche de salaire.pdf Wrong field document type. Found Attestation fiscale de rente de prévoyance instead of Fiche de salaire\n",
      "2021-04-20 - Fiche de salaire.pdf Wrong field relevant date. Found 2023-12-19T00:00:00+00:00 instead of 2021-04-20T00:00:00+00:00\n",
      "2021-04-20 - Fiche de salaire.pdfMissing field : mois salaire\n",
      "2021-04-20 - Fiche de salaire.pdfMissing field : salaire net\n",
      "2021-04-20 - Fiche de salaire.pdfMissing field : annee salaire\n",
      "2017-12-05 - Extrait du registre des poursuites.pdf is not in prediction label\n",
      "2017-04-27 - Décompte de salaire.pdf is not in prediction label\n",
      "2011-03-01 - Certificat annuel de prévoyance - Versicherungsausweis.pdf is not in prediction label\n",
      "2017-01-01 - Attestation fiscale de rente de prévoyance.pdf is not in prediction label\n",
      "2017-05-01 - Décompte de salaire.pdf Wrong field document type. Found Décompte de salaire: Mai 2017 instead of Décompte de salaire\n",
      "2017-05-01 - Décompte de salaire.pdfMissing field : relevant date\n",
      "2017-05-01 - Décompte de salaire.pdfMissing field : annee salaire\n",
      "2017-05-01 - Décompte de salaire.pdfMissing field : mois salaire\n",
      "2017-05-01 - Décompte de salaire.pdfMissing field : salaire net\n",
      "2011-03-01 - Fiche de salaire.pdf is not in prediction label\n",
      "2015-01-07 - Facture travaux.pdf is not in prediction label\n",
      "2023-10-25 - Resultat recherche ZEK.pdf Wrong field document type. Found Procuration instead of Resultat recherche ZEK\n",
      "2023-10-25 - Resultat recherche ZEK.pdf Wrong field relevant date. Found 2023-12-19T00:00:00+00:00 instead of 2023-10-25T00:00:00+00:00\n",
      "2017-06-29 - Décompte de salaire.pdf Wrong field document type. Found Décompte de salaire: Juin 2017 instead of Décompte de salaire\n",
      "2017-06-29 - Décompte de salaire.pdfMissing field : relevant date\n",
      "2017-03-01 - Déclaration fiscale.pdf Wrong field relevant date. Found 2023-12-15T00:00:00+00:00 instead of 2017-03-01T00:00:00+00:00\n",
      "2017-03-01 - Déclaration fiscale.pdf Wrong field year. Found 2023 instead of 2016\n",
      "2017-03-01 - Déclaration fiscale.pdf Wrong field numero contribuable. Found 111 instead of 111.22.33300-6\n",
      "2020-12-15 - Certificat annuel de salaire.pdf Wrong field document type. Found Certificat de salaire instead of Certificat annuel de salaire\n",
      "2020-12-15 - Certificat annuel de salaire.pdf Wrong field relevant date. Found 2020-01-01T00:00:00+00:00 instead of 2020-12-15T00:00:00+00:00\n",
      "2020-12-15 - Certificat annuel de salaire.pdfMissing field : num avs\n",
      "2020-12-15 - Certificat annuel de salaire.pdfMissing field : salaire net\n",
      "2020-12-15 - Certificat annuel de salaire.pdfMissing field : annee salaire\n",
      "2014-12-31 - Décompte de gérance.pdf is not in prediction label\n",
      "2012-08-01 - Contrat de bail.pdf is not in prediction label\n",
      "2017-06-01 - Jugement.pdf is not in prediction label\n",
      "2011-04-09 - Fiche de salaire.pdf is not in prediction label\n",
      "2010-12-31 - Déclaration fiscale.pdf is not in prediction label\n",
      "2008-07-15 - Contrat de bail.pdf is not in prediction label\n",
      "2016-12-31 - Déclaration fiscale.pdf is not in prediction label\n",
      "2017-07-13 - Extrait du registre des poursuites.pdfMissing field : relevant date\n",
      "2017-06-18 - Déclaration fiscale.pdf is not in prediction label\n",
      "2023-10-23 - Resultat recherche ZEK.pdf is not in prediction label\n",
      "2017-06-28 - Déclaration fiscale.pdf is not in prediction label\n",
      "2017-03-31 - Certificat annuel de prévoyance - Versicherungsausweis.pdfMissing field : relevant date\n",
      "1996-11-01 - Bail à loyer.pdf is not in prediction label\n",
      "2017-01-24 - Certificat annuel de salaire.pdfMissing field : relevant date\n",
      "2017-01-24 - Certificat annuel de salaire.pdf Wrong field num avs. Found 423.55.562.214 instead of 756.3695.4208.75\n",
      "2017-01-24 - Certificat annuel de salaire.pdfMissing field : annee salaire\n",
      "2017-01-24 - Certificat annuel de salaire.pdf Wrong field salaire net. Found 114166.00 instead of 105430\n",
      "2015-01-06 - Attestation.pdfMissing field : relevant date\n",
      "2010-06-30 - Descriptif de construction.pdf is not in prediction label\n",
      "2014-12-31 - Décompte de gestion.pdf is not in prediction label\n",
      "2017-12-04 - Resultat recherche ZEK.pdf is not in prediction label\n",
      "2023-10-30 - Plan de répartition des locaux.pdf is not in prediction label\n",
      "2023-08-23 - Dossier de mutation.pdf is not in prediction label\n",
      "2023-10-25 - Elévation du bâtiment 43.pdf is not in prediction label\n",
      "2017-01-01 - Certificat annuel de salaire.pdf is not in prediction label\n",
      "2018-10-19 - Extrait du registre foncier.pdf is not in prediction label\n",
      "2017-08-16 - Extrait du registre foncier.pdfMissing field : relevant date\n",
      "2017-08-16 - Extrait du registre foncier.pdf Wrong field client. Found 655e212e623126001d0326c4 instead of 6512c03a06266e001d585bb9\n",
      "2018-10-19 - Evaluation d'un bien immobilier.pdf is not in prediction label\n",
      "2023-10-25 - Plan de situation.pdf is not in prediction label\n",
      "2023-10-25 - Plan de répartition des locaux.pdf is not in prediction label\n",
      "2023-10-23 - Tableau de répartition des locaux.pdf is not in prediction label\n",
      "2023-10-23 - Extrait du registre foncier.pdf is not in prediction label\n",
      "2023-10-23 - Plan de servitude.pdf is not in prediction label\n",
      "2023-10-23 - Plan de situation.pdf is not in prediction label\n",
      "2016-01-01 - Certificat annuel de salaire.pdf is not in prediction label\n",
      "2021-01-01 - Plan de répartition des locaux.pdf is not in prediction label\n",
      "2023-10-23 - Plan de répartition des locaux.pdf is not in prediction label\n",
      "2023-11-01 - Division et réunion de parcelles.pdf Wrong field document type. Found Acte de donation instead of Division et réunion de parcelles\n",
      "2023-11-01 - Division et réunion de parcelles.pdfMissing field : relevant date\n",
      "2023-11-01 - Division et réunion de parcelles.pdf Wrong field client. Found 6512c03a06266e001d585bb9 instead of 6512c03b06266e001d585bbd\n",
      "2011-03-01 - Extrait du registre foncier.pdf is not in prediction label\n",
      "2011-02-01 - Fiche de salaire.pdf is not in prediction label\n",
      "2023-11-01 - Plan de répartition des locaux.pdf is not in prediction label\n",
      "2023-10-31 - Plan de répartition des locaux.pdf is not in prediction label\n",
      "2023-11-01 - Extrait du registre foncier.pdf is not in prediction label\n",
      "2023-11-01 - Evaluation d'un bien immobilier.pdf is not in prediction label\n",
      "2023-11-01 - Déclaration fiscale.pdf is not in prediction label\n",
      "2023 - Relevé de porte-feuille - CREDIT AGRICOLE DES SAVOIE.pdf is not in prediction label\n",
      "2023-11-01 - Extrait du registre des poursuites.pdf is not in prediction label\n",
      "2023-11-01 - Bail à loyer.pdf is not in prediction label\n",
      "2023 - Relevé bancaire - CREDIT AGRICOLE DES SAVOIE.pdf Wrong field document type. Found Convention pour travaux instead of Relevé bancaire\n",
      "2023 - Relevé bancaire - CREDIT AGRICOLE DES SAVOIE.pdf Wrong field relevant date. Found 2023-12-19T00:00:00+00:00 instead of 2021-01-04\n",
      "2023 - Relevé bancaire - CREDIT AGRICOLE DES SAVOIE.pdfMissing field : bank\n",
      "2023-11-01 - Certificat annuel de salaire.pdf Wrong field relevant date. Found 2023-12-19T00:00:00+00:00 instead of 2020-01-01\n",
      "2023-11-01 - Certificat annuel de salaire.pdfMissing field : num avs\n",
      "2023-11-01 - Certificat annuel de salaire.pdfMissing field : annee salaire\n"
     ]
    },
    {
     "data": {
      "text/plain": [
       "(0.29464285714285715,\n",
       " {'zhYvkkB8QuAJtXZjMVNHDg==': 0.25,\n",
       "  '7djccsF+/wgSM22nUQxzbg==': 0.25,\n",
       "  'FpB0RmEnQsAsagBFq0WE6Q==': 0.5,\n",
       "  'xbv5g+6M8anyCzcHvk/aAw==': 0.3333333333333333,\n",
       "  'Mn49VBj1jCC5abiIF+KSYw==': 0.5,\n",
       "  'aKzn+rOg4/jqM3pJnGinUg==': 0.3333333333333333,\n",
       "  'iWajwR6y9k3U19MT7TSj7w==': 0.125,\n",
       "  'wq6Y67C/qJ4XNTPoPF1U/A==': 0.14285714285714285,\n",
       "  '1wvAxFHIFhyTUDNzbM3QPw==': 0.3333333333333333,\n",
       "  'LrbMyOW9+ohDSwkCB3juHw==': 0.14285714285714285,\n",
       "  '9Ip3gurCDrs8bEJWfvy9ZA==': 0.3333333333333333,\n",
       "  'GOl503tqZuhFffQCJxohQQ==': 0.3333333333333333,\n",
       "  'h/W7gVfWe01KXc6M/dNNZA==': 0.16666666666666666,\n",
       "  'wGacV5pId685rZfkjP5OKQ==': 0.16666666666666666,\n",
       "  'p2BrtzVU4jIl5+XZLQ92sQ==': 0.3333333333333333,\n",
       "  'Rqzgy9RTAQp0NOcAss4Jhg==': 0.3333333333333333,\n",
       "  'mHK8QQTTOTp0sx+85PF1qw==': 0.4,\n",
       "  'OwMqwAxuV04hF8/CIMpmTw==': 0.16666666666666666,\n",
       "  '3520v2gfAFyiW53r271b6A==': 0.6666666666666666,\n",
       "  'TTVwSNEEOtYyhsH76z1c2w==': 0.6666666666666666,\n",
       "  'nJkYWbzpRjEIRIR26CCl3g==': 0.3333333333333333,\n",
       "  'fOQt+54tkeoMWlfgrt8JKw==': 0.6666666666666666,\n",
       "  'F89GFqG7qDrPcFLsNvP78g==': 0.3333333333333333,\n",
       "  'DQmxo4NmXgSjMB1cYnqDLQ==': 0.0,\n",
       "  'hwtoqeC8N4jRLm4VYGw2og==': 0.25,\n",
       "  'F/mhPfRtig0BtQ+7U0Rhww==': 0.4},\n",
       " {'missing': 38, 'wrong': 41, 'right': 33, 'total': 112})"
      ]
     },
     "execution_count": 14,
     "metadata": {},
     "output_type": "execute_result"
    }
   ],
   "source": [
    "mongo_client.get_results()"
   ]
  },
  {
   "cell_type": "code",
   "execution_count": 11,
   "metadata": {},
   "outputs": [
    {
     "data": {
      "text/plain": [
       "({'language': 'FR',\n",
       "  'document type': 'Lettre',\n",
       "  'relevant date': '2017-08-30T00:00:00+00:00',\n",
       "  'invoice concern': 'Succession de Monsieur JEAN MARTIN',\n",
       "  'owner': \"Tribunal de protection de l'adulte et de l'enfant\",\n",
       "  'direction': 'Sortant',\n",
       "  'client': '6536934f127f4f001df8217c',\n",
       "  'sender': \"Tribunal de protection de l'adulte et de l'enfant\",\n",
       "  'receiver': 'MARTIN Jeanne',\n",
       "  'filename date': '2017-08-30'},\n",
       " {'language': 'FR',\n",
       "  'client': '6512c03906266e001d585bb5',\n",
       "  'document type': 'Lettre',\n",
       "  'client-nom': 'MARTIN',\n",
       "  'client-prénom': 'Jeanne',\n",
       "  'client-pays de résidence': 'Genève',\n",
       "  'client-rue': '42 Château-du-Crest',\n",
       "  'client-code postal': '1254',\n",
       "  'client-ville': 'Genève',\n",
       "  'relevant date': '2023-12-19T00:00:00+00:00',\n",
       "  'direction': 'Entrant',\n",
       "  'sender': 'sacasc'})"
      ]
     },
     "execution_count": 11,
     "metadata": {},
     "output_type": "execute_result"
    }
   ],
   "source": [
    "mongo_client.get_labels_from_doc_hash(\"iWajwR6y9k3U19MT7TSj7w==\")"
   ]
  },
  {
   "cell_type": "code",
   "execution_count": null,
   "metadata": {},
   "outputs": [],
   "source": []
  },
  {
   "cell_type": "markdown",
   "metadata": {},
   "source": [
    "## Getting the performance of the model from the versions"
   ]
  },
  {
   "cell_type": "code",
   "execution_count": 80,
   "metadata": {},
   "outputs": [
    {
     "data": {
      "text/plain": [
       "0.75"
      ]
     },
     "execution_count": 80,
     "metadata": {},
     "output_type": "execute_result"
    }
   ],
   "source": [
    "from testingLLMperformance import get_LLM_performance\n",
    "\n",
    "score, result_df, label_versions = get_LLM_performance(mongo_client, PREDICTION_DOCUMENT_FOLDER)\n",
    "score"
   ]
  },
  {
   "cell_type": "code",
   "execution_count": null,
   "metadata": {},
   "outputs": [],
   "source": []
  }
 ],
 "metadata": {
  "kernelspec": {
   "display_name": "base",
   "language": "python",
   "name": "python3"
  },
  "language_info": {
   "codemirror_mode": {
    "name": "ipython",
    "version": 3
   },
   "file_extension": ".py",
   "mimetype": "text/x-python",
   "name": "python",
   "nbconvert_exporter": "python",
   "pygments_lexer": "ipython3",
   "version": "3.11.5"
  }
 },
 "nbformat": 4,
 "nbformat_minor": 2
}
