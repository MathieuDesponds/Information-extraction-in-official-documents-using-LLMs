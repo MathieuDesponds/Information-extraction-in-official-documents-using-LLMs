{
 "cells": [
  {
   "cell_type": "code",
   "execution_count": null,
   "metadata": {},
   "outputs": [],
   "source": [
    "from ner.llm_ner.prompt_techniques.pt_multi_pt import PT_Multi_PT\n",
    "from ner.llm_ner.prompt_techniques.pt_get_entities import PT_GetEntities\n",
    "from ner.llm_ner.prompt_techniques.pt_tagger import PT_Tagger\n",
    "\n",
    "from ner.llm_ner.few_shots_techniques import *\n",
    "from llm.LLMModel import *\n",
    "from ner.Datasets.Conll2003Dataset import get_test_cleaned_split\n",
    "%reload_ext autoreload\n",
    "%autoreload 2\n",
    "\n",
    "seed = 10 # random.randint(0, 1535468)\n",
    "data_train, data_test = get_test_cleaned_split(seed = seed)"
   ]
  },
  {
   "cell_type": "code",
   "execution_count": null,
   "metadata": {},
   "outputs": [],
   "source": [
    "fst = FST_Sentence(data_train, 3)\n",
    "pts = [PT_GetEntities(fst), PT_Tagger(fst)]\n",
    "multi_pt = PT_Multi_PT(pts)\n",
    "llm = MistralAI(quantization='Q2_K')"
   ]
  },
  {
   "cell_type": "code",
   "execution_count": null,
   "metadata": {},
   "outputs": [],
   "source": [
    "llm.invoke(data_test[12]['text'], multi_pt, None)"
   ]
  },
  {
   "cell_type": "code",
   "execution_count": null,
   "metadata": {},
   "outputs": [],
   "source": []
  }
 ],
 "metadata": {
  "kernelspec": {
   "display_name": "Python 3",
   "language": "python",
   "name": "python3"
  },
  "language_info": {
   "codemirror_mode": {
    "name": "ipython",
    "version": 3
   },
   "file_extension": ".py",
   "mimetype": "text/x-python",
   "name": "python",
   "nbconvert_exporter": "python",
   "pygments_lexer": "ipython3",
   "version": "3.10.12"
  }
 },
 "nbformat": 4,
 "nbformat_minor": 2
}
