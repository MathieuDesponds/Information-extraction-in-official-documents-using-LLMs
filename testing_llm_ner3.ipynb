{
 "cells": [
  {
   "cell_type": "code",
   "execution_count": 1,
   "metadata": {},
   "outputs": [
    {
     "name": "stderr",
     "output_type": "stream",
     "text": [
      "[nltk_data] Downloading package stopwords to /home/ubuntu/nltk_data...\n",
      "[nltk_data]   Package stopwords is already up-to-date!\n",
      "Some weights of the model checkpoint at dslim/bert-base-NER were not used when initializing BertForTokenClassification: ['bert.pooler.dense.weight', 'bert.pooler.dense.bias']\n",
      "- This IS expected if you are initializing BertForTokenClassification from the checkpoint of a model trained on another task or with another architecture (e.g. initializing a BertForSequenceClassification model from a BertForPreTraining model).\n",
      "- This IS NOT expected if you are initializing BertForTokenClassification from the checkpoint of a model that you expect to be exactly identical (initializing a BertForSequenceClassification model from a BertForSequenceClassification model).\n",
      "[nltk_data] Downloading package punkt to /home/ubuntu/nltk_data...\n",
      "[nltk_data]   Package punkt is already up-to-date!\n",
      "[nltk_data] Downloading package averaged_perceptron_tagger to\n",
      "[nltk_data]     /home/ubuntu/nltk_data...\n",
      "[nltk_data]   Package averaged_perceptron_tagger is already up-to-\n",
      "[nltk_data]       date!\n",
      "ggml_init_cublas: found 1 CUDA devices:\n",
      "  Device 0: NVIDIA A40, compute capability 8.6\n",
      "llama_model_loader: loaded meta data with 20 key-value pairs and 291 tensors from llm/models/mistral-7b-v0.1/mistral-7b-v0.1.Q5_0.gguf (version GGUF V2 (latest))\n",
      "llama_model_loader: - tensor    0:                token_embd.weight q5_0     [  4096, 32000,     1,     1 ]\n",
      "llama_model_loader: - tensor    1:              blk.0.attn_q.weight q5_0     [  4096,  4096,     1,     1 ]\n",
      "llama_model_loader: - tensor    2:              blk.0.attn_k.weight q5_0     [  4096,  1024,     1,     1 ]\n",
      "llama_model_loader: - tensor    3:              blk.0.attn_v.weight q5_0     [  4096,  1024,     1,     1 ]\n",
      "llama_model_loader: - tensor    4:         blk.0.attn_output.weight q5_0     [  4096,  4096,     1,     1 ]\n",
      "llama_model_loader: - tensor    5:            blk.0.ffn_gate.weight q5_0     [  4096, 14336,     1,     1 ]\n",
      "llama_model_loader: - tensor    6:              blk.0.ffn_up.weight q5_0     [  4096, 14336,     1,     1 ]\n",
      "llama_model_loader: - tensor    7:            blk.0.ffn_down.weight q5_0     [ 14336,  4096,     1,     1 ]\n",
      "llama_model_loader: - tensor    8:           blk.0.attn_norm.weight f32      [  4096,     1,     1,     1 ]\n",
      "llama_model_loader: - tensor    9:            blk.0.ffn_norm.weight f32      [  4096,     1,     1,     1 ]\n",
      "llama_model_loader: - tensor   10:              blk.1.attn_q.weight q5_0     [  4096,  4096,     1,     1 ]\n",
      "llama_model_loader: - tensor   11:              blk.1.attn_k.weight q5_0     [  4096,  1024,     1,     1 ]\n",
      "llama_model_loader: - tensor   12:              blk.1.attn_v.weight q5_0     [  4096,  1024,     1,     1 ]\n",
      "llama_model_loader: - tensor   13:         blk.1.attn_output.weight q5_0     [  4096,  4096,     1,     1 ]\n",
      "llama_model_loader: - tensor   14:            blk.1.ffn_gate.weight q5_0     [  4096, 14336,     1,     1 ]\n",
      "llama_model_loader: - tensor   15:              blk.1.ffn_up.weight q5_0     [  4096, 14336,     1,     1 ]\n",
      "llama_model_loader: - tensor   16:            blk.1.ffn_down.weight q5_0     [ 14336,  4096,     1,     1 ]\n",
      "llama_model_loader: - tensor   17:           blk.1.attn_norm.weight f32      [  4096,     1,     1,     1 ]\n",
      "llama_model_loader: - tensor   18:            blk.1.ffn_norm.weight f32      [  4096,     1,     1,     1 ]\n",
      "llama_model_loader: - tensor   19:              blk.2.attn_q.weight q5_0     [  4096,  4096,     1,     1 ]\n",
      "llama_model_loader: - tensor   20:              blk.2.attn_k.weight q5_0     [  4096,  1024,     1,     1 ]\n",
      "llama_model_loader: - tensor   21:              blk.2.attn_v.weight q5_0     [  4096,  1024,     1,     1 ]\n",
      "llama_model_loader: - tensor   22:         blk.2.attn_output.weight q5_0     [  4096,  4096,     1,     1 ]\n",
      "llama_model_loader: - tensor   23:            blk.2.ffn_gate.weight q5_0     [  4096, 14336,     1,     1 ]\n",
      "llama_model_loader: - tensor   24:              blk.2.ffn_up.weight q5_0     [  4096, 14336,     1,     1 ]\n",
      "llama_model_loader: - tensor   25:            blk.2.ffn_down.weight q5_0     [ 14336,  4096,     1,     1 ]\n",
      "llama_model_loader: - tensor   26:           blk.2.attn_norm.weight f32      [  4096,     1,     1,     1 ]\n",
      "llama_model_loader: - tensor   27:            blk.2.ffn_norm.weight f32      [  4096,     1,     1,     1 ]\n",
      "llama_model_loader: - tensor   28:              blk.3.attn_q.weight q5_0     [  4096,  4096,     1,     1 ]\n",
      "llama_model_loader: - tensor   29:              blk.3.attn_k.weight q5_0     [  4096,  1024,     1,     1 ]\n",
      "llama_model_loader: - tensor   30:              blk.3.attn_v.weight q5_0     [  4096,  1024,     1,     1 ]\n",
      "llama_model_loader: - tensor   31:         blk.3.attn_output.weight q5_0     [  4096,  4096,     1,     1 ]\n",
      "llama_model_loader: - tensor   32:            blk.3.ffn_gate.weight q5_0     [  4096, 14336,     1,     1 ]\n",
      "llama_model_loader: - tensor   33:              blk.3.ffn_up.weight q5_0     [  4096, 14336,     1,     1 ]\n",
      "llama_model_loader: - tensor   34:            blk.3.ffn_down.weight q5_0     [ 14336,  4096,     1,     1 ]\n",
      "llama_model_loader: - tensor   35:           blk.3.attn_norm.weight f32      [  4096,     1,     1,     1 ]\n",
      "llama_model_loader: - tensor   36:            blk.3.ffn_norm.weight f32      [  4096,     1,     1,     1 ]\n",
      "llama_model_loader: - tensor   37:              blk.4.attn_q.weight q5_0     [  4096,  4096,     1,     1 ]\n",
      "llama_model_loader: - tensor   38:              blk.4.attn_k.weight q5_0     [  4096,  1024,     1,     1 ]\n",
      "llama_model_loader: - tensor   39:              blk.4.attn_v.weight q5_0     [  4096,  1024,     1,     1 ]\n",
      "llama_model_loader: - tensor   40:         blk.4.attn_output.weight q5_0     [  4096,  4096,     1,     1 ]\n",
      "llama_model_loader: - tensor   41:            blk.4.ffn_gate.weight q5_0     [  4096, 14336,     1,     1 ]\n",
      "llama_model_loader: - tensor   42:              blk.4.ffn_up.weight q5_0     [  4096, 14336,     1,     1 ]\n",
      "llama_model_loader: - tensor   43:            blk.4.ffn_down.weight q5_0     [ 14336,  4096,     1,     1 ]\n",
      "llama_model_loader: - tensor   44:           blk.4.attn_norm.weight f32      [  4096,     1,     1,     1 ]\n",
      "llama_model_loader: - tensor   45:            blk.4.ffn_norm.weight f32      [  4096,     1,     1,     1 ]\n",
      "llama_model_loader: - tensor   46:              blk.5.attn_q.weight q5_0     [  4096,  4096,     1,     1 ]\n",
      "llama_model_loader: - tensor   47:              blk.5.attn_k.weight q5_0     [  4096,  1024,     1,     1 ]\n",
      "llama_model_loader: - tensor   48:              blk.5.attn_v.weight q5_0     [  4096,  1024,     1,     1 ]\n",
      "llama_model_loader: - tensor   49:         blk.5.attn_output.weight q5_0     [  4096,  4096,     1,     1 ]\n",
      "llama_model_loader: - tensor   50:            blk.5.ffn_gate.weight q5_0     [  4096, 14336,     1,     1 ]\n",
      "llama_model_loader: - tensor   51:              blk.5.ffn_up.weight q5_0     [  4096, 14336,     1,     1 ]\n",
      "llama_model_loader: - tensor   52:            blk.5.ffn_down.weight q5_0     [ 14336,  4096,     1,     1 ]\n",
      "llama_model_loader: - tensor   53:           blk.5.attn_norm.weight f32      [  4096,     1,     1,     1 ]\n",
      "llama_model_loader: - tensor   54:            blk.5.ffn_norm.weight f32      [  4096,     1,     1,     1 ]\n",
      "llama_model_loader: - tensor   55:              blk.6.attn_q.weight q5_0     [  4096,  4096,     1,     1 ]\n",
      "llama_model_loader: - tensor   56:              blk.6.attn_k.weight q5_0     [  4096,  1024,     1,     1 ]\n",
      "llama_model_loader: - tensor   57:              blk.6.attn_v.weight q5_0     [  4096,  1024,     1,     1 ]\n",
      "llama_model_loader: - tensor   58:         blk.6.attn_output.weight q5_0     [  4096,  4096,     1,     1 ]\n",
      "llama_model_loader: - tensor   59:            blk.6.ffn_gate.weight q5_0     [  4096, 14336,     1,     1 ]\n",
      "llama_model_loader: - tensor   60:              blk.6.ffn_up.weight q5_0     [  4096, 14336,     1,     1 ]\n",
      "llama_model_loader: - tensor   61:            blk.6.ffn_down.weight q5_0     [ 14336,  4096,     1,     1 ]\n",
      "llama_model_loader: - tensor   62:           blk.6.attn_norm.weight f32      [  4096,     1,     1,     1 ]\n",
      "llama_model_loader: - tensor   63:            blk.6.ffn_norm.weight f32      [  4096,     1,     1,     1 ]\n",
      "llama_model_loader: - tensor   64:              blk.7.attn_q.weight q5_0     [  4096,  4096,     1,     1 ]\n",
      "llama_model_loader: - tensor   65:              blk.7.attn_k.weight q5_0     [  4096,  1024,     1,     1 ]\n",
      "llama_model_loader: - tensor   66:              blk.7.attn_v.weight q5_0     [  4096,  1024,     1,     1 ]\n",
      "llama_model_loader: - tensor   67:         blk.7.attn_output.weight q5_0     [  4096,  4096,     1,     1 ]\n",
      "llama_model_loader: - tensor   68:            blk.7.ffn_gate.weight q5_0     [  4096, 14336,     1,     1 ]\n",
      "llama_model_loader: - tensor   69:              blk.7.ffn_up.weight q5_0     [  4096, 14336,     1,     1 ]\n",
      "llama_model_loader: - tensor   70:            blk.7.ffn_down.weight q5_0     [ 14336,  4096,     1,     1 ]\n",
      "llama_model_loader: - tensor   71:           blk.7.attn_norm.weight f32      [  4096,     1,     1,     1 ]\n",
      "llama_model_loader: - tensor   72:            blk.7.ffn_norm.weight f32      [  4096,     1,     1,     1 ]\n",
      "llama_model_loader: - tensor   73:              blk.8.attn_q.weight q5_0     [  4096,  4096,     1,     1 ]\n",
      "llama_model_loader: - tensor   74:              blk.8.attn_k.weight q5_0     [  4096,  1024,     1,     1 ]\n",
      "llama_model_loader: - tensor   75:              blk.8.attn_v.weight q5_0     [  4096,  1024,     1,     1 ]\n",
      "llama_model_loader: - tensor   76:         blk.8.attn_output.weight q5_0     [  4096,  4096,     1,     1 ]\n",
      "llama_model_loader: - tensor   77:            blk.8.ffn_gate.weight q5_0     [  4096, 14336,     1,     1 ]\n",
      "llama_model_loader: - tensor   78:              blk.8.ffn_up.weight q5_0     [  4096, 14336,     1,     1 ]\n",
      "llama_model_loader: - tensor   79:            blk.8.ffn_down.weight q5_0     [ 14336,  4096,     1,     1 ]\n",
      "llama_model_loader: - tensor   80:           blk.8.attn_norm.weight f32      [  4096,     1,     1,     1 ]\n",
      "llama_model_loader: - tensor   81:            blk.8.ffn_norm.weight f32      [  4096,     1,     1,     1 ]\n",
      "llama_model_loader: - tensor   82:              blk.9.attn_q.weight q5_0     [  4096,  4096,     1,     1 ]\n",
      "llama_model_loader: - tensor   83:              blk.9.attn_k.weight q5_0     [  4096,  1024,     1,     1 ]\n",
      "llama_model_loader: - tensor   84:              blk.9.attn_v.weight q5_0     [  4096,  1024,     1,     1 ]\n",
      "llama_model_loader: - tensor   85:         blk.9.attn_output.weight q5_0     [  4096,  4096,     1,     1 ]\n",
      "llama_model_loader: - tensor   86:            blk.9.ffn_gate.weight q5_0     [  4096, 14336,     1,     1 ]\n",
      "llama_model_loader: - tensor   87:              blk.9.ffn_up.weight q5_0     [  4096, 14336,     1,     1 ]\n",
      "llama_model_loader: - tensor   88:            blk.9.ffn_down.weight q5_0     [ 14336,  4096,     1,     1 ]\n",
      "llama_model_loader: - tensor   89:           blk.9.attn_norm.weight f32      [  4096,     1,     1,     1 ]\n",
      "llama_model_loader: - tensor   90:            blk.9.ffn_norm.weight f32      [  4096,     1,     1,     1 ]\n",
      "llama_model_loader: - tensor   91:             blk.10.attn_q.weight q5_0     [  4096,  4096,     1,     1 ]\n",
      "llama_model_loader: - tensor   92:             blk.10.attn_k.weight q5_0     [  4096,  1024,     1,     1 ]\n",
      "llama_model_loader: - tensor   93:             blk.10.attn_v.weight q5_0     [  4096,  1024,     1,     1 ]\n",
      "llama_model_loader: - tensor   94:        blk.10.attn_output.weight q5_0     [  4096,  4096,     1,     1 ]\n",
      "llama_model_loader: - tensor   95:           blk.10.ffn_gate.weight q5_0     [  4096, 14336,     1,     1 ]\n",
      "llama_model_loader: - tensor   96:             blk.10.ffn_up.weight q5_0     [  4096, 14336,     1,     1 ]\n",
      "llama_model_loader: - tensor   97:           blk.10.ffn_down.weight q5_0     [ 14336,  4096,     1,     1 ]\n",
      "llama_model_loader: - tensor   98:          blk.10.attn_norm.weight f32      [  4096,     1,     1,     1 ]\n",
      "llama_model_loader: - tensor   99:           blk.10.ffn_norm.weight f32      [  4096,     1,     1,     1 ]\n",
      "llama_model_loader: - tensor  100:             blk.11.attn_q.weight q5_0     [  4096,  4096,     1,     1 ]\n",
      "llama_model_loader: - tensor  101:             blk.11.attn_k.weight q5_0     [  4096,  1024,     1,     1 ]\n",
      "llama_model_loader: - tensor  102:             blk.11.attn_v.weight q5_0     [  4096,  1024,     1,     1 ]\n",
      "llama_model_loader: - tensor  103:        blk.11.attn_output.weight q5_0     [  4096,  4096,     1,     1 ]\n",
      "llama_model_loader: - tensor  104:           blk.11.ffn_gate.weight q5_0     [  4096, 14336,     1,     1 ]\n",
      "llama_model_loader: - tensor  105:             blk.11.ffn_up.weight q5_0     [  4096, 14336,     1,     1 ]\n",
      "llama_model_loader: - tensor  106:           blk.11.ffn_down.weight q5_0     [ 14336,  4096,     1,     1 ]\n",
      "llama_model_loader: - tensor  107:          blk.11.attn_norm.weight f32      [  4096,     1,     1,     1 ]\n",
      "llama_model_loader: - tensor  108:           blk.11.ffn_norm.weight f32      [  4096,     1,     1,     1 ]\n",
      "llama_model_loader: - tensor  109:             blk.12.attn_q.weight q5_0     [  4096,  4096,     1,     1 ]\n",
      "llama_model_loader: - tensor  110:             blk.12.attn_k.weight q5_0     [  4096,  1024,     1,     1 ]\n",
      "llama_model_loader: - tensor  111:             blk.12.attn_v.weight q5_0     [  4096,  1024,     1,     1 ]\n",
      "llama_model_loader: - tensor  112:        blk.12.attn_output.weight q5_0     [  4096,  4096,     1,     1 ]\n",
      "llama_model_loader: - tensor  113:           blk.12.ffn_gate.weight q5_0     [  4096, 14336,     1,     1 ]\n",
      "llama_model_loader: - tensor  114:             blk.12.ffn_up.weight q5_0     [  4096, 14336,     1,     1 ]\n",
      "llama_model_loader: - tensor  115:           blk.12.ffn_down.weight q5_0     [ 14336,  4096,     1,     1 ]\n",
      "llama_model_loader: - tensor  116:          blk.12.attn_norm.weight f32      [  4096,     1,     1,     1 ]\n",
      "llama_model_loader: - tensor  117:           blk.12.ffn_norm.weight f32      [  4096,     1,     1,     1 ]\n",
      "llama_model_loader: - tensor  118:             blk.13.attn_q.weight q5_0     [  4096,  4096,     1,     1 ]\n",
      "llama_model_loader: - tensor  119:             blk.13.attn_k.weight q5_0     [  4096,  1024,     1,     1 ]\n",
      "llama_model_loader: - tensor  120:             blk.13.attn_v.weight q5_0     [  4096,  1024,     1,     1 ]\n",
      "llama_model_loader: - tensor  121:        blk.13.attn_output.weight q5_0     [  4096,  4096,     1,     1 ]\n",
      "llama_model_loader: - tensor  122:           blk.13.ffn_gate.weight q5_0     [  4096, 14336,     1,     1 ]\n",
      "llama_model_loader: - tensor  123:             blk.13.ffn_up.weight q5_0     [  4096, 14336,     1,     1 ]\n",
      "llama_model_loader: - tensor  124:           blk.13.ffn_down.weight q5_0     [ 14336,  4096,     1,     1 ]\n",
      "llama_model_loader: - tensor  125:          blk.13.attn_norm.weight f32      [  4096,     1,     1,     1 ]\n",
      "llama_model_loader: - tensor  126:           blk.13.ffn_norm.weight f32      [  4096,     1,     1,     1 ]\n",
      "llama_model_loader: - tensor  127:             blk.14.attn_q.weight q5_0     [  4096,  4096,     1,     1 ]\n",
      "llama_model_loader: - tensor  128:             blk.14.attn_k.weight q5_0     [  4096,  1024,     1,     1 ]\n",
      "llama_model_loader: - tensor  129:             blk.14.attn_v.weight q5_0     [  4096,  1024,     1,     1 ]\n",
      "llama_model_loader: - tensor  130:        blk.14.attn_output.weight q5_0     [  4096,  4096,     1,     1 ]\n",
      "llama_model_loader: - tensor  131:           blk.14.ffn_gate.weight q5_0     [  4096, 14336,     1,     1 ]\n",
      "llama_model_loader: - tensor  132:             blk.14.ffn_up.weight q5_0     [  4096, 14336,     1,     1 ]\n",
      "llama_model_loader: - tensor  133:           blk.14.ffn_down.weight q5_0     [ 14336,  4096,     1,     1 ]\n",
      "llama_model_loader: - tensor  134:          blk.14.attn_norm.weight f32      [  4096,     1,     1,     1 ]\n",
      "llama_model_loader: - tensor  135:           blk.14.ffn_norm.weight f32      [  4096,     1,     1,     1 ]\n",
      "llama_model_loader: - tensor  136:             blk.15.attn_q.weight q5_0     [  4096,  4096,     1,     1 ]\n",
      "llama_model_loader: - tensor  137:             blk.15.attn_k.weight q5_0     [  4096,  1024,     1,     1 ]\n",
      "llama_model_loader: - tensor  138:             blk.15.attn_v.weight q5_0     [  4096,  1024,     1,     1 ]\n",
      "llama_model_loader: - tensor  139:        blk.15.attn_output.weight q5_0     [  4096,  4096,     1,     1 ]\n",
      "llama_model_loader: - tensor  140:           blk.15.ffn_gate.weight q5_0     [  4096, 14336,     1,     1 ]\n",
      "llama_model_loader: - tensor  141:             blk.15.ffn_up.weight q5_0     [  4096, 14336,     1,     1 ]\n",
      "llama_model_loader: - tensor  142:           blk.15.ffn_down.weight q5_0     [ 14336,  4096,     1,     1 ]\n",
      "llama_model_loader: - tensor  143:          blk.15.attn_norm.weight f32      [  4096,     1,     1,     1 ]\n",
      "llama_model_loader: - tensor  144:           blk.15.ffn_norm.weight f32      [  4096,     1,     1,     1 ]\n",
      "llama_model_loader: - tensor  145:             blk.16.attn_q.weight q5_0     [  4096,  4096,     1,     1 ]\n",
      "llama_model_loader: - tensor  146:             blk.16.attn_k.weight q5_0     [  4096,  1024,     1,     1 ]\n",
      "llama_model_loader: - tensor  147:             blk.16.attn_v.weight q5_0     [  4096,  1024,     1,     1 ]\n",
      "llama_model_loader: - tensor  148:        blk.16.attn_output.weight q5_0     [  4096,  4096,     1,     1 ]\n",
      "llama_model_loader: - tensor  149:           blk.16.ffn_gate.weight q5_0     [  4096, 14336,     1,     1 ]\n",
      "llama_model_loader: - tensor  150:             blk.16.ffn_up.weight q5_0     [  4096, 14336,     1,     1 ]\n",
      "llama_model_loader: - tensor  151:           blk.16.ffn_down.weight q5_0     [ 14336,  4096,     1,     1 ]\n",
      "llama_model_loader: - tensor  152:          blk.16.attn_norm.weight f32      [  4096,     1,     1,     1 ]\n",
      "llama_model_loader: - tensor  153:           blk.16.ffn_norm.weight f32      [  4096,     1,     1,     1 ]\n",
      "llama_model_loader: - tensor  154:             blk.17.attn_q.weight q5_0     [  4096,  4096,     1,     1 ]\n",
      "llama_model_loader: - tensor  155:             blk.17.attn_k.weight q5_0     [  4096,  1024,     1,     1 ]\n",
      "llama_model_loader: - tensor  156:             blk.17.attn_v.weight q5_0     [  4096,  1024,     1,     1 ]\n",
      "llama_model_loader: - tensor  157:        blk.17.attn_output.weight q5_0     [  4096,  4096,     1,     1 ]\n",
      "llama_model_loader: - tensor  158:           blk.17.ffn_gate.weight q5_0     [  4096, 14336,     1,     1 ]\n",
      "llama_model_loader: - tensor  159:             blk.17.ffn_up.weight q5_0     [  4096, 14336,     1,     1 ]\n",
      "llama_model_loader: - tensor  160:           blk.17.ffn_down.weight q5_0     [ 14336,  4096,     1,     1 ]\n",
      "llama_model_loader: - tensor  161:          blk.17.attn_norm.weight f32      [  4096,     1,     1,     1 ]\n",
      "llama_model_loader: - tensor  162:           blk.17.ffn_norm.weight f32      [  4096,     1,     1,     1 ]\n",
      "llama_model_loader: - tensor  163:             blk.18.attn_q.weight q5_0     [  4096,  4096,     1,     1 ]\n",
      "llama_model_loader: - tensor  164:             blk.18.attn_k.weight q5_0     [  4096,  1024,     1,     1 ]\n",
      "llama_model_loader: - tensor  165:             blk.18.attn_v.weight q5_0     [  4096,  1024,     1,     1 ]\n",
      "llama_model_loader: - tensor  166:        blk.18.attn_output.weight q5_0     [  4096,  4096,     1,     1 ]\n",
      "llama_model_loader: - tensor  167:           blk.18.ffn_gate.weight q5_0     [  4096, 14336,     1,     1 ]\n",
      "llama_model_loader: - tensor  168:             blk.18.ffn_up.weight q5_0     [  4096, 14336,     1,     1 ]\n",
      "llama_model_loader: - tensor  169:           blk.18.ffn_down.weight q5_0     [ 14336,  4096,     1,     1 ]\n",
      "llama_model_loader: - tensor  170:          blk.18.attn_norm.weight f32      [  4096,     1,     1,     1 ]\n",
      "llama_model_loader: - tensor  171:           blk.18.ffn_norm.weight f32      [  4096,     1,     1,     1 ]\n",
      "llama_model_loader: - tensor  172:             blk.19.attn_q.weight q5_0     [  4096,  4096,     1,     1 ]\n",
      "llama_model_loader: - tensor  173:             blk.19.attn_k.weight q5_0     [  4096,  1024,     1,     1 ]\n",
      "llama_model_loader: - tensor  174:             blk.19.attn_v.weight q5_0     [  4096,  1024,     1,     1 ]\n",
      "llama_model_loader: - tensor  175:        blk.19.attn_output.weight q5_0     [  4096,  4096,     1,     1 ]\n",
      "llama_model_loader: - tensor  176:           blk.19.ffn_gate.weight q5_0     [  4096, 14336,     1,     1 ]\n",
      "llama_model_loader: - tensor  177:             blk.19.ffn_up.weight q5_0     [  4096, 14336,     1,     1 ]\n",
      "llama_model_loader: - tensor  178:           blk.19.ffn_down.weight q5_0     [ 14336,  4096,     1,     1 ]\n",
      "llama_model_loader: - tensor  179:          blk.19.attn_norm.weight f32      [  4096,     1,     1,     1 ]\n",
      "llama_model_loader: - tensor  180:           blk.19.ffn_norm.weight f32      [  4096,     1,     1,     1 ]\n",
      "llama_model_loader: - tensor  181:             blk.20.attn_q.weight q5_0     [  4096,  4096,     1,     1 ]\n",
      "llama_model_loader: - tensor  182:             blk.20.attn_k.weight q5_0     [  4096,  1024,     1,     1 ]\n",
      "llama_model_loader: - tensor  183:             blk.20.attn_v.weight q5_0     [  4096,  1024,     1,     1 ]\n",
      "llama_model_loader: - tensor  184:        blk.20.attn_output.weight q5_0     [  4096,  4096,     1,     1 ]\n",
      "llama_model_loader: - tensor  185:           blk.20.ffn_gate.weight q5_0     [  4096, 14336,     1,     1 ]\n",
      "llama_model_loader: - tensor  186:             blk.20.ffn_up.weight q5_0     [  4096, 14336,     1,     1 ]\n",
      "llama_model_loader: - tensor  187:           blk.20.ffn_down.weight q5_0     [ 14336,  4096,     1,     1 ]\n",
      "llama_model_loader: - tensor  188:          blk.20.attn_norm.weight f32      [  4096,     1,     1,     1 ]\n",
      "llama_model_loader: - tensor  189:           blk.20.ffn_norm.weight f32      [  4096,     1,     1,     1 ]\n",
      "llama_model_loader: - tensor  190:             blk.21.attn_q.weight q5_0     [  4096,  4096,     1,     1 ]\n",
      "llama_model_loader: - tensor  191:             blk.21.attn_k.weight q5_0     [  4096,  1024,     1,     1 ]\n",
      "llama_model_loader: - tensor  192:             blk.21.attn_v.weight q5_0     [  4096,  1024,     1,     1 ]\n",
      "llama_model_loader: - tensor  193:        blk.21.attn_output.weight q5_0     [  4096,  4096,     1,     1 ]\n",
      "llama_model_loader: - tensor  194:           blk.21.ffn_gate.weight q5_0     [  4096, 14336,     1,     1 ]\n",
      "llama_model_loader: - tensor  195:             blk.21.ffn_up.weight q5_0     [  4096, 14336,     1,     1 ]\n",
      "llama_model_loader: - tensor  196:           blk.21.ffn_down.weight q5_0     [ 14336,  4096,     1,     1 ]\n",
      "llama_model_loader: - tensor  197:          blk.21.attn_norm.weight f32      [  4096,     1,     1,     1 ]\n",
      "llama_model_loader: - tensor  198:           blk.21.ffn_norm.weight f32      [  4096,     1,     1,     1 ]\n",
      "llama_model_loader: - tensor  199:             blk.22.attn_q.weight q5_0     [  4096,  4096,     1,     1 ]\n",
      "llama_model_loader: - tensor  200:             blk.22.attn_k.weight q5_0     [  4096,  1024,     1,     1 ]\n",
      "llama_model_loader: - tensor  201:             blk.22.attn_v.weight q5_0     [  4096,  1024,     1,     1 ]\n",
      "llama_model_loader: - tensor  202:        blk.22.attn_output.weight q5_0     [  4096,  4096,     1,     1 ]\n",
      "llama_model_loader: - tensor  203:           blk.22.ffn_gate.weight q5_0     [  4096, 14336,     1,     1 ]\n",
      "llama_model_loader: - tensor  204:             blk.22.ffn_up.weight q5_0     [  4096, 14336,     1,     1 ]\n",
      "llama_model_loader: - tensor  205:           blk.22.ffn_down.weight q5_0     [ 14336,  4096,     1,     1 ]\n",
      "llama_model_loader: - tensor  206:          blk.22.attn_norm.weight f32      [  4096,     1,     1,     1 ]\n",
      "llama_model_loader: - tensor  207:           blk.22.ffn_norm.weight f32      [  4096,     1,     1,     1 ]\n",
      "llama_model_loader: - tensor  208:             blk.23.attn_q.weight q5_0     [  4096,  4096,     1,     1 ]\n",
      "llama_model_loader: - tensor  209:             blk.23.attn_k.weight q5_0     [  4096,  1024,     1,     1 ]\n",
      "llama_model_loader: - tensor  210:             blk.23.attn_v.weight q5_0     [  4096,  1024,     1,     1 ]\n",
      "llama_model_loader: - tensor  211:        blk.23.attn_output.weight q5_0     [  4096,  4096,     1,     1 ]\n",
      "llama_model_loader: - tensor  212:           blk.23.ffn_gate.weight q5_0     [  4096, 14336,     1,     1 ]\n",
      "llama_model_loader: - tensor  213:             blk.23.ffn_up.weight q5_0     [  4096, 14336,     1,     1 ]\n",
      "llama_model_loader: - tensor  214:           blk.23.ffn_down.weight q5_0     [ 14336,  4096,     1,     1 ]\n",
      "llama_model_loader: - tensor  215:          blk.23.attn_norm.weight f32      [  4096,     1,     1,     1 ]\n",
      "llama_model_loader: - tensor  216:           blk.23.ffn_norm.weight f32      [  4096,     1,     1,     1 ]\n",
      "llama_model_loader: - tensor  217:             blk.24.attn_q.weight q5_0     [  4096,  4096,     1,     1 ]\n",
      "llama_model_loader: - tensor  218:             blk.24.attn_k.weight q5_0     [  4096,  1024,     1,     1 ]\n",
      "llama_model_loader: - tensor  219:             blk.24.attn_v.weight q5_0     [  4096,  1024,     1,     1 ]\n",
      "llama_model_loader: - tensor  220:        blk.24.attn_output.weight q5_0     [  4096,  4096,     1,     1 ]\n",
      "llama_model_loader: - tensor  221:           blk.24.ffn_gate.weight q5_0     [  4096, 14336,     1,     1 ]\n",
      "llama_model_loader: - tensor  222:             blk.24.ffn_up.weight q5_0     [  4096, 14336,     1,     1 ]\n",
      "llama_model_loader: - tensor  223:           blk.24.ffn_down.weight q5_0     [ 14336,  4096,     1,     1 ]\n",
      "llama_model_loader: - tensor  224:          blk.24.attn_norm.weight f32      [  4096,     1,     1,     1 ]\n",
      "llama_model_loader: - tensor  225:           blk.24.ffn_norm.weight f32      [  4096,     1,     1,     1 ]\n",
      "llama_model_loader: - tensor  226:             blk.25.attn_q.weight q5_0     [  4096,  4096,     1,     1 ]\n",
      "llama_model_loader: - tensor  227:             blk.25.attn_k.weight q5_0     [  4096,  1024,     1,     1 ]\n",
      "llama_model_loader: - tensor  228:             blk.25.attn_v.weight q5_0     [  4096,  1024,     1,     1 ]\n",
      "llama_model_loader: - tensor  229:        blk.25.attn_output.weight q5_0     [  4096,  4096,     1,     1 ]\n",
      "llama_model_loader: - tensor  230:           blk.25.ffn_gate.weight q5_0     [  4096, 14336,     1,     1 ]\n",
      "llama_model_loader: - tensor  231:             blk.25.ffn_up.weight q5_0     [  4096, 14336,     1,     1 ]\n",
      "llama_model_loader: - tensor  232:           blk.25.ffn_down.weight q5_0     [ 14336,  4096,     1,     1 ]\n",
      "llama_model_loader: - tensor  233:          blk.25.attn_norm.weight f32      [  4096,     1,     1,     1 ]\n",
      "llama_model_loader: - tensor  234:           blk.25.ffn_norm.weight f32      [  4096,     1,     1,     1 ]\n",
      "llama_model_loader: - tensor  235:             blk.26.attn_q.weight q5_0     [  4096,  4096,     1,     1 ]\n",
      "llama_model_loader: - tensor  236:             blk.26.attn_k.weight q5_0     [  4096,  1024,     1,     1 ]\n",
      "llama_model_loader: - tensor  237:             blk.26.attn_v.weight q5_0     [  4096,  1024,     1,     1 ]\n",
      "llama_model_loader: - tensor  238:        blk.26.attn_output.weight q5_0     [  4096,  4096,     1,     1 ]\n",
      "llama_model_loader: - tensor  239:           blk.26.ffn_gate.weight q5_0     [  4096, 14336,     1,     1 ]\n",
      "llama_model_loader: - tensor  240:             blk.26.ffn_up.weight q5_0     [  4096, 14336,     1,     1 ]\n",
      "llama_model_loader: - tensor  241:           blk.26.ffn_down.weight q5_0     [ 14336,  4096,     1,     1 ]\n",
      "llama_model_loader: - tensor  242:          blk.26.attn_norm.weight f32      [  4096,     1,     1,     1 ]\n",
      "llama_model_loader: - tensor  243:           blk.26.ffn_norm.weight f32      [  4096,     1,     1,     1 ]\n",
      "llama_model_loader: - tensor  244:             blk.27.attn_q.weight q5_0     [  4096,  4096,     1,     1 ]\n",
      "llama_model_loader: - tensor  245:             blk.27.attn_k.weight q5_0     [  4096,  1024,     1,     1 ]\n",
      "llama_model_loader: - tensor  246:             blk.27.attn_v.weight q5_0     [  4096,  1024,     1,     1 ]\n",
      "llama_model_loader: - tensor  247:        blk.27.attn_output.weight q5_0     [  4096,  4096,     1,     1 ]\n",
      "llama_model_loader: - tensor  248:           blk.27.ffn_gate.weight q5_0     [  4096, 14336,     1,     1 ]\n",
      "llama_model_loader: - tensor  249:             blk.27.ffn_up.weight q5_0     [  4096, 14336,     1,     1 ]\n",
      "llama_model_loader: - tensor  250:           blk.27.ffn_down.weight q5_0     [ 14336,  4096,     1,     1 ]\n",
      "llama_model_loader: - tensor  251:          blk.27.attn_norm.weight f32      [  4096,     1,     1,     1 ]\n",
      "llama_model_loader: - tensor  252:           blk.27.ffn_norm.weight f32      [  4096,     1,     1,     1 ]\n",
      "llama_model_loader: - tensor  253:             blk.28.attn_q.weight q5_0     [  4096,  4096,     1,     1 ]\n",
      "llama_model_loader: - tensor  254:             blk.28.attn_k.weight q5_0     [  4096,  1024,     1,     1 ]\n",
      "llama_model_loader: - tensor  255:             blk.28.attn_v.weight q5_0     [  4096,  1024,     1,     1 ]\n",
      "llama_model_loader: - tensor  256:        blk.28.attn_output.weight q5_0     [  4096,  4096,     1,     1 ]\n",
      "llama_model_loader: - tensor  257:           blk.28.ffn_gate.weight q5_0     [  4096, 14336,     1,     1 ]\n",
      "llama_model_loader: - tensor  258:             blk.28.ffn_up.weight q5_0     [  4096, 14336,     1,     1 ]\n",
      "llama_model_loader: - tensor  259:           blk.28.ffn_down.weight q5_0     [ 14336,  4096,     1,     1 ]\n",
      "llama_model_loader: - tensor  260:          blk.28.attn_norm.weight f32      [  4096,     1,     1,     1 ]\n",
      "llama_model_loader: - tensor  261:           blk.28.ffn_norm.weight f32      [  4096,     1,     1,     1 ]\n",
      "llama_model_loader: - tensor  262:             blk.29.attn_q.weight q5_0     [  4096,  4096,     1,     1 ]\n",
      "llama_model_loader: - tensor  263:             blk.29.attn_k.weight q5_0     [  4096,  1024,     1,     1 ]\n",
      "llama_model_loader: - tensor  264:             blk.29.attn_v.weight q5_0     [  4096,  1024,     1,     1 ]\n",
      "llama_model_loader: - tensor  265:        blk.29.attn_output.weight q5_0     [  4096,  4096,     1,     1 ]\n",
      "llama_model_loader: - tensor  266:           blk.29.ffn_gate.weight q5_0     [  4096, 14336,     1,     1 ]\n",
      "llama_model_loader: - tensor  267:             blk.29.ffn_up.weight q5_0     [  4096, 14336,     1,     1 ]\n",
      "llama_model_loader: - tensor  268:           blk.29.ffn_down.weight q5_0     [ 14336,  4096,     1,     1 ]\n",
      "llama_model_loader: - tensor  269:          blk.29.attn_norm.weight f32      [  4096,     1,     1,     1 ]\n",
      "llama_model_loader: - tensor  270:           blk.29.ffn_norm.weight f32      [  4096,     1,     1,     1 ]\n",
      "llama_model_loader: - tensor  271:             blk.30.attn_q.weight q5_0     [  4096,  4096,     1,     1 ]\n",
      "llama_model_loader: - tensor  272:             blk.30.attn_k.weight q5_0     [  4096,  1024,     1,     1 ]\n",
      "llama_model_loader: - tensor  273:             blk.30.attn_v.weight q5_0     [  4096,  1024,     1,     1 ]\n",
      "llama_model_loader: - tensor  274:        blk.30.attn_output.weight q5_0     [  4096,  4096,     1,     1 ]\n",
      "llama_model_loader: - tensor  275:           blk.30.ffn_gate.weight q5_0     [  4096, 14336,     1,     1 ]\n",
      "llama_model_loader: - tensor  276:             blk.30.ffn_up.weight q5_0     [  4096, 14336,     1,     1 ]\n",
      "llama_model_loader: - tensor  277:           blk.30.ffn_down.weight q5_0     [ 14336,  4096,     1,     1 ]\n",
      "llama_model_loader: - tensor  278:          blk.30.attn_norm.weight f32      [  4096,     1,     1,     1 ]\n",
      "llama_model_loader: - tensor  279:           blk.30.ffn_norm.weight f32      [  4096,     1,     1,     1 ]\n",
      "llama_model_loader: - tensor  280:             blk.31.attn_q.weight q5_0     [  4096,  4096,     1,     1 ]\n",
      "llama_model_loader: - tensor  281:             blk.31.attn_k.weight q5_0     [  4096,  1024,     1,     1 ]\n",
      "llama_model_loader: - tensor  282:             blk.31.attn_v.weight q5_0     [  4096,  1024,     1,     1 ]\n",
      "llama_model_loader: - tensor  283:        blk.31.attn_output.weight q5_0     [  4096,  4096,     1,     1 ]\n",
      "llama_model_loader: - tensor  284:           blk.31.ffn_gate.weight q5_0     [  4096, 14336,     1,     1 ]\n",
      "llama_model_loader: - tensor  285:             blk.31.ffn_up.weight q5_0     [  4096, 14336,     1,     1 ]\n",
      "llama_model_loader: - tensor  286:           blk.31.ffn_down.weight q5_0     [ 14336,  4096,     1,     1 ]\n",
      "llama_model_loader: - tensor  287:          blk.31.attn_norm.weight f32      [  4096,     1,     1,     1 ]\n",
      "llama_model_loader: - tensor  288:           blk.31.ffn_norm.weight f32      [  4096,     1,     1,     1 ]\n",
      "llama_model_loader: - tensor  289:               output_norm.weight f32      [  4096,     1,     1,     1 ]\n",
      "llama_model_loader: - tensor  290:                    output.weight q6_K     [  4096, 32000,     1,     1 ]\n",
      "llama_model_loader: - kv   0:                       general.architecture str     \n",
      "llama_model_loader: - kv   1:                               general.name str     \n",
      "llama_model_loader: - kv   2:                       llama.context_length u32     \n",
      "llama_model_loader: - kv   3:                     llama.embedding_length u32     \n",
      "llama_model_loader: - kv   4:                          llama.block_count u32     \n",
      "llama_model_loader: - kv   5:                  llama.feed_forward_length u32     \n",
      "llama_model_loader: - kv   6:                 llama.rope.dimension_count u32     \n",
      "llama_model_loader: - kv   7:                 llama.attention.head_count u32     \n",
      "llama_model_loader: - kv   8:              llama.attention.head_count_kv u32     \n",
      "llama_model_loader: - kv   9:     llama.attention.layer_norm_rms_epsilon f32     \n",
      "llama_model_loader: - kv  10:                       llama.rope.freq_base f32     \n",
      "llama_model_loader: - kv  11:                          general.file_type u32     \n",
      "llama_model_loader: - kv  12:                       tokenizer.ggml.model str     \n",
      "llama_model_loader: - kv  13:                      tokenizer.ggml.tokens arr     \n",
      "llama_model_loader: - kv  14:                      tokenizer.ggml.scores arr     \n",
      "llama_model_loader: - kv  15:                  tokenizer.ggml.token_type arr     \n",
      "llama_model_loader: - kv  16:                tokenizer.ggml.bos_token_id u32     \n",
      "llama_model_loader: - kv  17:                tokenizer.ggml.eos_token_id u32     \n",
      "llama_model_loader: - kv  18:            tokenizer.ggml.unknown_token_id u32     \n",
      "llama_model_loader: - kv  19:               general.quantization_version u32     \n",
      "llama_model_loader: - type  f32:   65 tensors\n",
      "llama_model_loader: - type q5_0:  225 tensors\n",
      "llama_model_loader: - type q6_K:    1 tensors\n",
      "llm_load_print_meta: format         = GGUF V2 (latest)\n",
      "llm_load_print_meta: arch           = llama\n",
      "llm_load_print_meta: vocab type     = SPM\n",
      "llm_load_print_meta: n_vocab        = 32000\n",
      "llm_load_print_meta: n_merges       = 0\n",
      "llm_load_print_meta: n_ctx_train    = 32768\n",
      "llm_load_print_meta: n_ctx          = 2048\n",
      "llm_load_print_meta: n_embd         = 4096\n",
      "llm_load_print_meta: n_head         = 32\n",
      "llm_load_print_meta: n_head_kv      = 8\n",
      "llm_load_print_meta: n_layer        = 32\n",
      "llm_load_print_meta: n_rot          = 128\n",
      "llm_load_print_meta: n_gqa          = 4\n",
      "llm_load_print_meta: f_norm_eps     = 0.0e+00\n",
      "llm_load_print_meta: f_norm_rms_eps = 1.0e-05\n",
      "llm_load_print_meta: n_ff           = 14336\n",
      "llm_load_print_meta: freq_base      = 10000.0\n",
      "llm_load_print_meta: freq_scale     = 1\n",
      "llm_load_print_meta: model type     = 7B\n",
      "llm_load_print_meta: model ftype    = mostly Q5_0\n",
      "llm_load_print_meta: model params   = 7.24 B\n",
      "llm_load_print_meta: model size     = 4.65 GiB (5.52 BPW) \n",
      "llm_load_print_meta: general.name   = mistralai_mistral-7b-v0.1\n",
      "llm_load_print_meta: BOS token = 1 '<s>'\n",
      "llm_load_print_meta: EOS token = 2 '</s>'\n",
      "llm_load_print_meta: UNK token = 0 '<unk>'\n",
      "llm_load_print_meta: LF token  = 13 '<0x0A>'\n",
      "llm_load_tensors: ggml ctx size =    0.09 MB\n",
      "llm_load_tensors: using CUDA for GPU acceleration\n",
      "llm_load_tensors: mem required  =   86.03 MB (+  256.00 MB per state)\n",
      "llm_load_tensors: offloading 32 repeating layers to GPU\n",
      "llm_load_tensors: offloading non-repeating layers to GPU\n",
      "llm_load_tensors: offloading v cache to GPU\n",
      "llm_load_tensors: offloading k cache to GPU\n",
      "llm_load_tensors: offloaded 35/35 layers to GPU\n",
      "llm_load_tensors: VRAM used: 4936 MB\n",
      "..................................................................................................\n",
      "llama_new_context_with_model: kv self size  =  256.00 MB\n",
      "llama_new_context_with_model: compute buffer total size =  153.47 MB\n",
      "llama_new_context_with_model: VRAM scratch buffer: 152.00 MB\n"
     ]
    },
    {
     "name": "stdout",
     "output_type": "stream",
     "text": [
      "Testing with sentence\n",
      "      and multi_prompt-get-entities-tagger\n",
      "./ner/saves/datasets/ontonote5_test_1403.pkl\n"
     ]
    },
    {
     "name": "stderr",
     "output_type": "stream",
     "text": [
      "  0%|          | 0/20 [00:00<?, ?it/s]"
     ]
    },
    {
     "name": "stdout",
     "output_type": "stream",
     "text": [
      " 'one' ] Output after the first prompt : ['one']\n",
      "\n",
      "'one' : '1',"
     ]
    },
    {
     "name": "stderr",
     "output_type": "stream",
     "text": [
      "  5%|▌         | 1/20 [00:04<01:21,  4.30s/it]"
     ]
    },
    {
     "name": "stdout",
     "output_type": "stream",
     "text": [
      "response of tagger : {\n",
      "'one' : '1',}\n",
      "[('one', 'CARDINAL')]\n",
      " ] Output after the first prompt : []\n",
      "\n"
     ]
    },
    {
     "name": "stderr",
     "output_type": "stream",
     "text": [
      " 10%|█         | 2/20 [00:07<01:08,  3.82s/it]"
     ]
    },
    {
     "name": "stdout",
     "output_type": "stream",
     "text": [
      "response of tagger : {\n",
      "}\n",
      "[]\n",
      " ] Output after the first prompt : []\n",
      "\n",
      "'True' : 'A',\n",
      "   'you' : '4',\n",
      "   'neither' : '4',\n",
      "   'civilization' : '4',\n",
      "   'history' : '4',\n",
      "   'but' : '4',\n",
      "   'all' : '4',\n",
      "   'that' : '4',\n",
      "   'can' : '4',\n",
      "   'not' : '4',\n",
      "   'excuse' : '4',\n",
      "   'your' : '4',\n",
      "   'thefts' : '4',\n",
      "   'and' : '4',\n",
      "   'your' : '4',\n",
      "   'hatred' : '4',\n",
      "   'of' : '4',\n",
      "   'Iraq' : 'E',\n",
      "   'civilization' : '4',\n",
      "   'Iraq' : 'E',\n",
      "   'riches' : '4',\n",
      "   '.' : '4',"
     ]
    },
    {
     "name": "stderr",
     "output_type": "stream",
     "text": [
      " 15%|█▌        | 3/20 [00:15<01:34,  5.55s/it]"
     ]
    },
    {
     "name": "stdout",
     "output_type": "stream",
     "text": [
      "response of tagger : {\n",
      "'True' : 'A',\n",
      "   'you' : '4',\n",
      "   'neither' : '4',\n",
      "   'civilization' : '4',\n",
      "   'history' : '4',\n",
      "   'but' : '4',\n",
      "   'all' : '4',\n",
      "   'that' : '4',\n",
      "   'can' : '4',\n",
      "   'not' : '4',\n",
      "   'excuse' : '4',\n",
      "   'your' : '4',\n",
      "   'thefts' : '4',\n",
      "   'and' : '4',\n",
      "   'your' : '4',\n",
      "   'hatred' : '4',\n",
      "   'of' : '4',\n",
      "   'Iraq' : 'E',\n",
      "   'civilization' : '4',\n",
      "   'Iraq' : 'E',\n",
      "   'riches' : '4',\n",
      "   '.' : '4',}\n",
      "[('True', 'TIME'), ('you', 'PERSON'), ('neither', 'PERSON'), ('civilization', 'PERSON'), ('history', 'PERSON'), ('but', 'PERSON'), ('all', 'PERSON'), ('that', 'PERSON'), ('can', 'PERSON'), ('not', 'PERSON'), ('excuse', 'PERSON'), ('your', 'PERSON'), ('thefts', 'PERSON'), ('and', 'PERSON'), ('hatred', 'PERSON'), ('of', 'PERSON'), ('Iraq', 'GPE'), ('riches', 'PERSON'), ('.', 'PERSON')]\n",
      " 'four', 'the government', 'four savings - and - loan institutions' ] Output after the first prompt : ['four', 'the government', 'four savings - and - loan institutions']\n",
      "\n",
      "'four' : '1',\n",
      "   'the government' : 'B',\n",
      "   'four savings - and - loan institutions' : 'B',"
     ]
    },
    {
     "name": "stderr",
     "output_type": "stream",
     "text": [
      " 20%|██        | 4/20 [00:20<01:23,  5.20s/it]"
     ]
    },
    {
     "name": "stdout",
     "output_type": "stream",
     "text": [
      "response of tagger : {\n",
      "'four' : '1',\n",
      "   'the government' : 'B',\n",
      "   'four savings - and - loan institutions' : 'B',}\n",
      "[('four', 'CARDINAL'), ('the government', 'ORG'), ('four savings - and - loan institutions', 'ORG')]\n",
      " 'Senate', 'Republicans', 'administration'] Output after the first prompt : ['Senate', 'Republicans', 'administration']\n",
      "\n",
      "'Senate' : 'B',\n",
      "   'Republicans' : 'G',\n",
      "   'administration' : 'B',"
     ]
    },
    {
     "name": "stderr",
     "output_type": "stream",
     "text": [
      " 25%|██▌       | 5/20 [00:24<01:15,  5.03s/it]"
     ]
    },
    {
     "name": "stdout",
     "output_type": "stream",
     "text": [
      "response of tagger : {\n",
      "'Senate' : 'B',\n",
      "   'Republicans' : 'G',\n",
      "   'administration' : 'B',}\n",
      "[('Senate', 'ORG'), ('Republicans', 'NORP'), ('administration', 'ORG')]\n",
      " 'this quarter', 'year - earlier performance'] Output after the first prompt : ['this quarter', 'year - earlier performance']\n",
      "\n",
      "'this quarter' : '6',\n",
      "   'year - earlier performance' : '6',"
     ]
    },
    {
     "name": "stderr",
     "output_type": "stream",
     "text": [
      " 30%|███       | 6/20 [00:28<01:05,  4.71s/it]"
     ]
    },
    {
     "name": "stdout",
     "output_type": "stream",
     "text": [
      "response of tagger : {\n",
      "'this quarter' : '6',\n",
      "   'year - earlier performance' : '6',}\n",
      "[('this quarter', 'DATE'), ('year - earlier performance', 'DATE')]\n",
      " 'Charles Colson', 'Watergate', 'Fellowship'] Output after the first prompt : ['Charles Colson', 'Watergate', 'Fellowship']\n",
      "\n",
      "'Charles Colson' : '4',\n",
      "   'Watergate' : 'E',\n",
      "   'Fellowship' : 'B',"
     ]
    },
    {
     "name": "stderr",
     "output_type": "stream",
     "text": [
      " 35%|███▌      | 7/20 [00:33<00:59,  4.61s/it]"
     ]
    },
    {
     "name": "stdout",
     "output_type": "stream",
     "text": [
      "response of tagger : {\n",
      "'Charles Colson' : '4',\n",
      "   'Watergate' : 'E',\n",
      "   'Fellowship' : 'B',}\n",
      "[('Charles Colson', 'PERSON'), ('Watergate', 'GPE'), ('Fellowship', 'ORG')]\n",
      " 'Mr. Heinemann', 'the magazine industry', 'a magazine 's net revenue per subscriber'] Output after the first prompt : []\n",
      "\n",
      "'Mr. Heinemann' : '4',\n",
      "   'said' : '0',\n",
      "   'the changes' : '0',\n",
      "   'represent' : '0',\n",
      "   'a magazine 's' : '0',\n",
      "   'net revenue per subscriber' : '0',\n",
      "   'or' : '0',\n",
      "   'the actual revenue from subscribers' : '0',\n",
      "   'after discounts' : '0',\n",
      "   'and' : '0',\n",
      "   'the cost of premiums' : '0',\n",
      "   'have' : '0',\n",
      "   'been' : '0',\n",
      "   'stripped away' : '0',"
     ]
    },
    {
     "name": "stderr",
     "output_type": "stream",
     "text": [
      " 40%|████      | 8/20 [00:40<01:04,  5.41s/it]"
     ]
    },
    {
     "name": "stdout",
     "output_type": "stream",
     "text": [
      "response of tagger : {\n",
      "'Mr. Heinemann' : '4',\n",
      "   'said' : '0',\n",
      "   'the changes' : '0',\n",
      "   'represent' : '0',\n",
      "   'a magazine 's' : '0',\n",
      "   'net revenue per subscriber' : '0',\n",
      "   'or' : '0',\n",
      "   'the actual revenue from subscribers' : '0',\n",
      "   'after discounts' : '0',\n",
      "   'and' : '0',\n",
      "   'the cost of premiums' : '0',\n",
      "   'have' : '0',\n",
      "   'been' : '0',\n",
      "   'stripped away' : '0',}\n",
      "[]\n",
      " 'Dongguan', '120,000', '200', '70', '180'] Output after the first prompt : ['Dongguan', '120,000', '200', '70', '180']\n",
      "\n",
      "'Dongguan' : 'E',\n",
      "   '120,000' : '1',\n",
      "   '200' : '1',\n",
      "   '70' : '1',\n",
      "   '180' : '1',"
     ]
    },
    {
     "name": "stderr",
     "output_type": "stream",
     "text": [
      " 45%|████▌     | 9/20 [00:45<00:59,  5.40s/it]"
     ]
    },
    {
     "name": "stdout",
     "output_type": "stream",
     "text": [
      "response of tagger : {\n",
      "'Dongguan' : 'E',\n",
      "   '120,000' : '1',\n",
      "   '200' : '1',\n",
      "   '70' : '1',\n",
      "   '180' : '1',}\n",
      "[('Dongguan', 'GPE'), ('120,000', 'CARDINAL'), ('200', 'CARDINAL'), ('70', 'CARDINAL'), ('180', 'CARDINAL')]\n",
      " 'China' ] Output after the first prompt : ['China']\n",
      "\n",
      "'China' : 'E',"
     ]
    },
    {
     "name": "stderr",
     "output_type": "stream",
     "text": [
      " 50%|█████     | 10/20 [00:49<00:49,  4.93s/it]"
     ]
    },
    {
     "name": "stdout",
     "output_type": "stream",
     "text": [
      "response of tagger : {\n",
      "'China' : 'E',}\n",
      "[('China', 'GPE')]\n",
      " 'Christy Whitman', 'the White House'] Output after the first prompt : ['Christy Whitman', 'the White House']\n",
      "\n",
      "'Christy Whitman' : '4',\n",
      "   'the White House' : 'B',"
     ]
    },
    {
     "name": "stderr",
     "output_type": "stream",
     "text": [
      " 55%|█████▌    | 11/20 [00:53<00:42,  4.69s/it]"
     ]
    },
    {
     "name": "stdout",
     "output_type": "stream",
     "text": [
      "response of tagger : {\n",
      "'Christy Whitman' : '4',\n",
      "   'the White House' : 'B',}\n",
      "[('Christy Whitman', 'PERSON'), ('the White House', 'ORG')]\n",
      " 'Workers', 'Van Nuys', 'Oklahoma City', 'Pontiac', 'Pontiac Firebird', 'Chevrolet Camaro' ] Output after the first prompt : ['Workers', 'Van Nuys', 'Oklahoma City', 'Pontiac', 'Pontiac Firebird', 'Chevrolet Camaro']\n",
      "\n",
      "'Workers' : '4',\n",
      "   'Van Nuys' : 'E',\n",
      "   'Oklahoma City' : 'E',\n",
      "   'Pontiac' : 'B',\n",
      "   'Pontiac Firebird' : '8',\n",
      "   'Chevrolet Camaro' : '8',"
     ]
    },
    {
     "name": "stderr",
     "output_type": "stream",
     "text": [
      " 60%|██████    | 12/20 [00:59<00:40,  5.06s/it]"
     ]
    },
    {
     "name": "stdout",
     "output_type": "stream",
     "text": [
      "response of tagger : {\n",
      "'Workers' : '4',\n",
      "   'Van Nuys' : 'E',\n",
      "   'Oklahoma City' : 'E',\n",
      "   'Pontiac' : 'B',\n",
      "   'Pontiac Firebird' : '8',\n",
      "   'Chevrolet Camaro' : '8',}\n",
      "[('Workers', 'PERSON'), ('Van Nuys', 'GPE'), ('Oklahoma City', 'GPE'), ('Pontiac', 'ORG'), ('Pontiac Firebird', 'PRODUCT'), ('Chevrolet Camaro', 'PRODUCT')]\n",
      " 'Shandong 's', 'over 1480', 'more than 24 %'] Output after the first prompt : []\n",
      "\n",
      "'Shandong 's' : 'E',\n",
      "   'over 1480 projects' : '1',\n",
      "   'more than 24 %' : '6',"
     ]
    },
    {
     "name": "stderr",
     "output_type": "stream",
     "text": [
      " 65%|██████▌   | 13/20 [01:04<00:34,  4.99s/it]"
     ]
    },
    {
     "name": "stdout",
     "output_type": "stream",
     "text": [
      "response of tagger : {\n",
      "'Shandong 's' : 'E',\n",
      "   'over 1480 projects' : '1',\n",
      "   'more than 24 %' : '6',}\n",
      "[]\n",
      "SARS] Output after the first prompt : []\n",
      "\n"
     ]
    },
    {
     "name": "stderr",
     "output_type": "stream",
     "text": [
      " 70%|███████   | 14/20 [01:08<00:27,  4.54s/it]"
     ]
    },
    {
     "name": "stdout",
     "output_type": "stream",
     "text": [
      "response of tagger : {\n",
      "}\n",
      "[]\n",
      " 'Jonetic' ] Output after the first prompt : ['Jonetic']\n",
      "\n",
      "'Jonetic' : 'B',"
     ]
    },
    {
     "name": "stderr",
     "output_type": "stream",
     "text": [
      " 75%|███████▌  | 15/20 [01:11<00:21,  4.29s/it]"
     ]
    },
    {
     "name": "stdout",
     "output_type": "stream",
     "text": [
      "response of tagger : {\n",
      "'Jonetic' : 'B',}\n",
      "[('Jonetic', 'ORG')]\n",
      " 'Linpien', 'Pingtung Plain', 'Linpien river' ] Output after the first prompt : ['Linpien', 'Pingtung Plain', 'Linpien river']\n",
      "\n",
      "'Linpien' : 'E',\n",
      "   'Pingtung Plain' : 'E',\n",
      "   'Linpien river' : 'E',"
     ]
    },
    {
     "name": "stderr",
     "output_type": "stream",
     "text": [
      " 80%|████████  | 16/20 [01:16<00:17,  4.44s/it]"
     ]
    },
    {
     "name": "stdout",
     "output_type": "stream",
     "text": [
      "response of tagger : {\n",
      "'Linpien' : 'E',\n",
      "   'Pingtung Plain' : 'E',\n",
      "   'Linpien river' : 'E',}\n",
      "[('Linpien', 'GPE'), ('Pingtung Plain', 'GPE'), ('Linpien river', 'GPE')]\n",
      " 'Beirut', 'war' ] Output after the first prompt : ['Beirut', 'war']\n",
      "\n",
      "'Beirut' : 'E',\n",
      "   'war' : 'E',"
     ]
    },
    {
     "name": "stderr",
     "output_type": "stream",
     "text": [
      " 85%|████████▌ | 17/20 [01:20<00:12,  4.33s/it]"
     ]
    },
    {
     "name": "stdout",
     "output_type": "stream",
     "text": [
      "response of tagger : {\n",
      "'Beirut' : 'E',\n",
      "   'war' : 'E',}\n",
      "[('Beirut', 'GPE'), ('war', 'GPE')]\n",
      " '0.9 %', 'last month', 'the producer price index', 'most anticipated' ] Output after the first prompt : ['0.9 %', 'last month', 'the producer price index', 'most anticipated']\n",
      "\n",
      "'0.9 %' : '7',\n",
      "   'last month' : '6',\n",
      "   'the producer price index' : 'E',\n",
      "   'most anticipated' : '6',"
     ]
    },
    {
     "name": "stderr",
     "output_type": "stream",
     "text": [
      " 90%|█████████ | 18/20 [01:25<00:09,  4.54s/it]"
     ]
    },
    {
     "name": "stdout",
     "output_type": "stream",
     "text": [
      "response of tagger : {\n",
      "'0.9 %' : '7',\n",
      "   'last month' : '6',\n",
      "   'the producer price index' : 'E',\n",
      "   'most anticipated' : '6',}\n",
      "[('0.9 %', 'PERCENT'), ('last month', 'DATE'), ('the producer price index', 'GPE'), ('most anticipated', 'DATE')]\n",
      " 'Shanghai', '218', '6', '260', '200 million US dollars'] Output after the first prompt : ['Shanghai', '218', '6', '260', '200 million US dollars']\n",
      "\n",
      "'Shanghai' : 'E',\n",
      "   '218' : '1',\n",
      "   '6' : '1',\n",
      "   '260' : '1',\n",
      "   '200 million US dollars' : '9',"
     ]
    },
    {
     "name": "stderr",
     "output_type": "stream",
     "text": [
      " 95%|█████████▌| 19/20 [01:30<00:04,  4.76s/it]"
     ]
    },
    {
     "name": "stdout",
     "output_type": "stream",
     "text": [
      "response of tagger : {\n",
      "'Shanghai' : 'E',\n",
      "   '218' : '1',\n",
      "   '6' : '1',\n",
      "   '260' : '1',\n",
      "   '200 million US dollars' : '9',}\n",
      "[('Shanghai', 'GPE'), ('218', 'CARDINAL'), ('6', 'CARDINAL'), ('260', 'CARDINAL'), ('200 million US dollars', 'MONEY')]\n",
      " ] Output after the first prompt : []\n",
      "\n",
      "'And' : 'A',\n",
      "   'one' : '1',\n",
      "   'of' : 'A',\n",
      "   'the' : 'A',\n",
      "   'reasons' : 'A',\n",
      "   'that' : 'A',\n",
      "   'this' : 'A',\n",
      "   'negotiation' : 'A',\n",
      "   'took' : 'A',\n",
      "   'so' : 'A',\n",
      "   'long' : 'A',\n",
      "   'is' : 'A',\n",
      "   'that' : 'A',\n",
      "   'not' : 'A',\n",
      "   'only' : 'A',\n",
      "   'was' : 'A',\n",
      "   'she' : '4',\n",
      "   'negotiating' : 'A',\n",
      "   'what' : 'A',\n",
      "   'she' : '4',\n",
      "   'was' : 'A',\n",
      "   'going' : 'A',\n",
      "   'to' : 'A',\n",
      "   '"
     ]
    },
    {
     "name": "stderr",
     "output_type": "stream",
     "text": [
      "100%|██████████| 20/20 [01:38<00:00,  4.94s/it]"
     ]
    },
    {
     "name": "stdout",
     "output_type": "stream",
     "text": [
      "response of tagger : {\n",
      "'And' : 'A',\n",
      "   'one' : '1',\n",
      "   'of' : 'A',\n",
      "   'the' : 'A',\n",
      "   'reasons' : 'A',\n",
      "   'that' : 'A',\n",
      "   'this' : 'A',\n",
      "   'negotiation' : 'A',\n",
      "   'took' : 'A',\n",
      "   'so' : 'A',\n",
      "   'long' : 'A',\n",
      "   'is' : 'A',\n",
      "   'that' : 'A',\n",
      "   'not' : 'A',\n",
      "   'only' : 'A',\n",
      "   'was' : 'A',\n",
      "   'she' : '4',\n",
      "   'negotiating' : 'A',\n",
      "   'what' : 'A',\n",
      "   'she' : '4',\n",
      "   'was' : 'A',\n",
      "   'going' : 'A',\n",
      "   'to' : 'A',\n",
      "   '}\n",
      "[]\n",
      "      and filing\n",
      "./ner/saves/datasets/ontonote5_test_1403.pkl\n"
     ]
    },
    {
     "name": "stderr",
     "output_type": "stream",
     "text": [
      "\n",
      "  0%|          | 0/20 [00:00<?, ?it/s]"
     ]
    },
    {
     "name": "stdout",
     "output_type": "stream",
     "text": [
      "{'CARDINAL' : ['one'], 'ORDINAL' : [], 'WORK_OF_ART' : [], 'PERSON' : [], 'LOC' : [], 'DATE' : [], 'PERCENT' : [], 'PRODUCT' : [], 'MONEY' : [], 'FAC' : [], 'TIME' : [], 'ORG' : [], 'QUANTITY' : [], 'LANGUAGE' : [], 'GPE' : [], 'LAW' : [], 'NORP' : [], 'EVENT' : []"
     ]
    },
    {
     "name": "stderr",
     "output_type": "stream",
     "text": [
      "  5%|▌         | 1/20 [00:04<01:22,  4.35s/it]"
     ]
    },
    {
     "name": "stdout",
     "output_type": "stream",
     "text": [
      "{'CARDINAL' : [], 'ORDINAL' : [], 'WORK_OF_ART' : [], 'PERSON' : [], 'LOC' : [], 'DATE' : [], 'PERCENT' : [], 'PRODUCT' : [], 'MONEY' : [], 'FAC' : [], 'TIME' : [], 'ORG' : [], 'QUANTITY' : [], 'LANGUAGE' : [], 'GPE' : [], 'LAW' : [], 'NORP' : [], 'EVENT' : []"
     ]
    },
    {
     "name": "stderr",
     "output_type": "stream",
     "text": [
      " 10%|█         | 2/20 [00:08<01:12,  4.05s/it]"
     ]
    },
    {
     "name": "stdout",
     "output_type": "stream",
     "text": [
      "{'CARDINAL' : [], 'ORDINAL' : [], 'WORK_OF_ART' : [], 'PERSON' : [], 'LOC' : [], 'DATE' : [], 'PERCENT' : [], 'PRODUCT' : [], 'MONEY' : [], 'FAC' : [], 'TIME' : [], 'ORG' : [], 'QUANTITY' : [], 'LANGUAGE' : [], 'GPE' : [], 'LAW' : [], 'NORP' : [], 'EVENT' : []"
     ]
    },
    {
     "name": "stderr",
     "output_type": "stream",
     "text": [
      " 15%|█▌        | 3/20 [00:11<01:06,  3.93s/it]"
     ]
    },
    {
     "name": "stdout",
     "output_type": "stream",
     "text": [
      "{'CARDINAL' : ['four'], 'ORDINAL' : [], 'WORK_OF_ART' : [], 'PERSON' : [], 'LOC' : [], 'DATE' : [], 'PERCENT' : [], 'PRODUCT' : [], 'MONEY' : [], 'FAC' : [], 'TIME' : [], 'ORG' : [], 'QUANTITY' : [], 'LANGUAGE' : [], 'GPE' : [], 'LAW' : [], 'NORP' : [], 'EVENT' : []"
     ]
    },
    {
     "name": "stderr",
     "output_type": "stream",
     "text": [
      " 20%|██        | 4/20 [00:15<01:02,  3.91s/it]"
     ]
    },
    {
     "name": "stdout",
     "output_type": "stream",
     "text": [
      "{'CARDINAL' : [], 'ORDINAL' : [], 'WORK_OF_ART' : [], 'PERSON' : [], 'LOC' : [], 'DATE' : ['last week'], 'PERCENT' : [], 'PRODUCT' : [], 'MONEY' : [], 'FAC' : [], 'TIME' : [], 'ORG' : [], 'QUANTITY' : [], 'LANGUAGE' : [], 'GPE' : [], 'LAW' : [], 'NORP' : [], 'EVENT' : []"
     ]
    },
    {
     "name": "stderr",
     "output_type": "stream",
     "text": [
      " 25%|██▌       | 5/20 [00:19<00:59,  3.94s/it]"
     ]
    },
    {
     "name": "stdout",
     "output_type": "stream",
     "text": [
      "{'CARDINAL' : [], 'ORDINAL' : [], 'WORK_OF_ART' : [], 'PERSON' : [], 'LOC' : [], 'DATE' : [], 'PERCENT' : [], 'PRODUCT' : [], 'MONEY' : [], 'FAC' : [], 'TIME' : [], 'ORG' : [], 'QUANTITY' : [], 'LANGUAGE' : [], 'GPE' : [], 'LAW' : [], 'NORP' : [], 'EVENT' : []"
     ]
    },
    {
     "name": "stderr",
     "output_type": "stream",
     "text": [
      " 30%|███       | 6/20 [00:23<00:54,  3.90s/it]"
     ]
    },
    {
     "name": "stdout",
     "output_type": "stream",
     "text": [
      "{'CARDINAL' : [], 'ORDINAL' : [], 'WORK_OF_ART' : [], 'PERSON' : ['Charles Colson'], 'LOC' : [], 'DATE' : [], 'PERCENT' : [], 'PRODUCT' : [], 'MONEY' : [], 'FAC' : [], 'TIME' : [], 'ORG' : [], 'QUANTITY' : [], 'LANGUAGE' : [], 'GPE' : [], 'LAW' : [], 'NORP' : [], 'EVENT' : []"
     ]
    },
    {
     "name": "stderr",
     "output_type": "stream",
     "text": [
      " 35%|███▌      | 7/20 [00:27<00:50,  3.92s/it]"
     ]
    },
    {
     "name": "stdout",
     "output_type": "stream",
     "text": [
      "{'CARDINAL' : [], 'ORDINAL' : [], 'WORK_OF_ART' : [], 'PERSON' : ['Mr. Heinemann'], 'LOC' : [], 'DATE' : [], 'PERCENT' : [], 'PRODUCT' : [], 'MONEY' : [], 'FAC' : [], 'TIME' : [], 'ORG' : [], 'QUANTITY' : [], 'LANGUAGE' : [], 'GPE' : [], 'LAW' : [], 'NORP' : [], 'EVENT' : []"
     ]
    },
    {
     "name": "stderr",
     "output_type": "stream",
     "text": [
      " 40%|████      | 8/20 [00:31<00:47,  3.92s/it]"
     ]
    },
    {
     "name": "stdout",
     "output_type": "stream",
     "text": [
      "{'CARDINAL' : ['200, 70, 180'], 'ORDINAL' : [], 'WORK_OF_ART' : [], 'PERSON' : [], 'LOC' : [], 'DATE' : [], 'PERCENT' : [], 'PRODUCT' : [], 'MONEY' : [], 'FAC' : [], 'TIME' : [], 'ORG' : [], 'QUANTITY' : [], 'LANGUAGE' : [], 'GPE' : ['Dongguan'], 'LAW' : [], 'NORP' : [], 'EVENT' : []"
     ]
    },
    {
     "name": "stderr",
     "output_type": "stream",
     "text": [
      " 45%|████▌     | 9/20 [00:35<00:44,  4.03s/it]"
     ]
    },
    {
     "name": "stdout",
     "output_type": "stream",
     "text": [
      "{'CARDINAL' : [], 'ORDINAL' : [], 'WORK_OF_ART' : [], 'PERSON' : ['narrator'], 'LOC' : [], 'DATE' : [], 'PERCENT' : [], 'PRODUCT' : [], 'MONEY' : [], 'FAC' : [], 'TIME' : [], 'ORG' : [], 'QUANTITY' : [], 'LANGUAGE' : [], 'GPE' : [], 'LAW' : [], 'NORP' : [], 'EVENT' : []"
     ]
    },
    {
     "name": "stderr",
     "output_type": "stream",
     "text": [
      " 50%|█████     | 10/20 [00:39<00:39,  3.99s/it]"
     ]
    },
    {
     "name": "stdout",
     "output_type": "stream",
     "text": [
      "{'CARDINAL' : [], 'ORDINAL' : [], 'WORK_OF_ART' : [], 'PERSON' : ['Christy Whitman'], 'LOC' : [], 'DATE' : [], 'PERCENT' : [], 'PRODUCT' : [], 'MONEY' : [], 'FAC' : [], 'TIME' : [], 'ORG' : [], 'QUANTITY' : [], 'LANGUAGE' : [], 'GPE' : [], 'LAW' : [], 'NORP' : [], 'EVENT' : []"
     ]
    },
    {
     "name": "stderr",
     "output_type": "stream",
     "text": [
      " 55%|█████▌    | 11/20 [00:43<00:35,  3.97s/it]"
     ]
    },
    {
     "name": "stdout",
     "output_type": "stream",
     "text": [
      "{'CARDINAL' : ['two'], 'ORDINAL' : [], 'WORK_OF_ART' : [], 'PERSON' : [], 'LOC' : [], 'DATE' : [], 'PERCENT' : [], 'PRODUCT' : ['Pontiac Firebird', 'Chevrolet Camaro'], 'MONEY' : [], 'FAC' : [], 'TIME' : [], 'ORG' : ['Pontiac'], 'QUANTITY' : [], 'LANGUAGE' : [], 'GPE' : ['Van Nuys', 'Oklahoma City', 'Pontiac'], 'LAW' : [], 'NORP' : [], 'EVENT' : []"
     ]
    },
    {
     "name": "stderr",
     "output_type": "stream",
     "text": [
      " 60%|██████    | 12/20 [00:48<00:33,  4.17s/it]"
     ]
    },
    {
     "name": "stdout",
     "output_type": "stream",
     "text": [
      "{'CARDINAL' : [], 'ORDINAL' : [], 'WORK_OF_ART' : [], 'PERSON' : [], 'LOC' : [], 'DATE' : [], 'PERCENT' : [], 'PRODUCT' : [], 'MONEY' : [], 'FAC' : [], 'TIME' : [], 'ORG' : [], 'QUANTITY' : [], 'LANGUAGE' : [], 'GPE' : [\"Shandong 's\"], 'LAW' : [], 'NORP' : [], 'EVENT' : []"
     ]
    },
    {
     "name": "stderr",
     "output_type": "stream",
     "text": [
      " 65%|██████▌   | 13/20 [00:52<00:28,  4.10s/it]"
     ]
    },
    {
     "name": "stdout",
     "output_type": "stream",
     "text": [
      "{'CARDINAL' : [], 'ORDINAL' : [], 'WORK_OF_ART' : [], 'PERSON' : [], 'LOC' : [], 'DATE' : [], 'PERCENT' : [], 'PRODUCT' : [], 'MONEY' : [], 'FAC' : [], 'TIME' : [], 'ORG' : [], 'QUANTITY' : [], 'LANGUAGE' : [], 'GPE' : [], 'LAW' : [], 'NORP' : [], 'EVENT' : []"
     ]
    },
    {
     "name": "stderr",
     "output_type": "stream",
     "text": [
      " 70%|███████   | 14/20 [00:56<00:24,  4.02s/it]"
     ]
    },
    {
     "name": "stdout",
     "output_type": "stream",
     "text": [
      "{'CARDINAL' : [], 'ORDINAL' : [], 'WORK_OF_ART' : [], 'PERSON' : [], 'LOC' : [], 'DATE' : [], 'PERCENT' : [], 'PRODUCT' : [], 'MONEY' : [], 'FAC' : [], 'TIME' : [], 'ORG' : [], 'QUANTITY' : [], 'LANGUAGE' : [], 'GPE' : [], 'LAW' : [], 'NORP' : [], 'EVENT' : []"
     ]
    },
    {
     "name": "stderr",
     "output_type": "stream",
     "text": [
      " 75%|███████▌  | 15/20 [00:59<00:19,  3.95s/it]"
     ]
    },
    {
     "name": "stdout",
     "output_type": "stream",
     "text": [
      "{'CARDINAL' : [], 'ORDINAL' : [], 'WORK_OF_ART' : [], 'PERSON' : [], 'LOC' : [], 'DATE' : [], 'PERCENT' : [], 'PRODUCT' : [], 'MONEY' : [], 'FAC' : [], 'TIME' : [], 'ORG' : [], 'QUANTITY' : [], 'LANGUAGE' : [], 'GPE' : ['Linpien'], 'LAW' : [], 'NORP' : [], 'EVENT' : []"
     ]
    },
    {
     "name": "stderr",
     "output_type": "stream",
     "text": [
      " 80%|████████  | 16/20 [01:03<00:15,  3.96s/it]"
     ]
    },
    {
     "name": "stdout",
     "output_type": "stream",
     "text": [
      "{'CARDINAL' : [], 'ORDINAL' : [], 'WORK_OF_ART' : [], 'PERSON' : [], 'LOC' : [], 'DATE' : [], 'PERCENT' : [], 'PRODUCT' : [], 'MONEY' : [], 'FAC' : [], 'TIME' : [], 'ORG' : [], 'QUANTITY' : [], 'LANGUAGE' : [], 'GPE' : [], 'LAW' : [], 'NORP' : [], 'EVENT' : []"
     ]
    },
    {
     "name": "stderr",
     "output_type": "stream",
     "text": [
      " 85%|████████▌ | 17/20 [01:07<00:11,  3.92s/it]"
     ]
    },
    {
     "name": "stdout",
     "output_type": "stream",
     "text": [
      "{'CARDINAL' : [], 'ORDINAL' : [], 'WORK_OF_ART' : [], 'PERSON' : [], 'LOC' : [], 'DATE' : ['last month'], 'PERCENT' : ['0.9 %'], 'PRODUCT' : [], 'MONEY' : [], 'FAC' : [], 'TIME' : [], 'ORG' : [], 'QUANTITY' : [], 'LANGUAGE' : [], 'GPE' : [], 'LAW' : [], 'NORP' : [], 'EVENT' : []"
     ]
    },
    {
     "name": "stderr",
     "output_type": "stream",
     "text": [
      " 90%|█████████ | 18/20 [01:11<00:07,  3.96s/it]"
     ]
    },
    {
     "name": "stdout",
     "output_type": "stream",
     "text": [
      "{'CARDINAL' : ['218'], 'ORDINAL' : [], 'WORK_OF_ART' : [], 'PERSON' : [], 'LOC' : [], 'DATE' : [], 'PERCENT' : [], 'PRODUCT' : [], 'MONEY' : [], 'FAC' : [], 'TIME' : [], 'ORG' : [], 'QUANTITY' : [], 'LANGUAGE' : [], 'GPE' : ['Shanghai'], 'LAW' : [], 'NORP' : [], 'EVENT' : []"
     ]
    },
    {
     "name": "stderr",
     "output_type": "stream",
     "text": [
      " 95%|█████████▌| 19/20 [01:15<00:03,  3.97s/it]"
     ]
    },
    {
     "name": "stdout",
     "output_type": "stream",
     "text": [
      "{'CARDINAL' : [], 'ORDINAL' : [], 'WORK_OF_ART' : [], 'PERSON' : [\"Scooter Libby\"], 'LOC' : [], 'DATE' : [], 'PERCENT' : [], 'PRODUCT' : [], 'MONEY' : [], 'FAC' : [], 'TIME' : [], 'ORG' : [], 'QUANTITY' : [], 'LANGUAGE' : [], 'GPE' : [], 'LAW' : [], 'NORP' : [], 'EVENT' : []"
     ]
    },
    {
     "name": "stderr",
     "output_type": "stream",
     "text": [
      "100%|██████████| 20/20 [01:19<00:00,  3.98s/it]"
     ]
    },
    {
     "name": "stdout",
     "output_type": "stream",
     "text": [
      "results : [[('one', 'CARDINAL')], [], [('True', 'TIME'), ('you', 'PERSON'), ('neither', 'PERSON'), ('civilization', 'PERSON'), ('history', 'PERSON'), ('but', 'PERSON'), ('all', 'PERSON'), ('that', 'PERSON'), ('can', 'PERSON'), ('not', 'PERSON'), ('excuse', 'PERSON'), ('your', 'PERSON'), ('thefts', 'PERSON'), ('and', 'PERSON'), ('hatred', 'PERSON'), ('of', 'PERSON'), ('Iraq', 'GPE'), ('riches', 'PERSON'), ('.', 'PERSON')], [('four', 'CARDINAL'), ('the government', 'ORG'), ('four savings - and - loan institutions', 'ORG')], [('Senate', 'ORG'), ('Republicans', 'NORP'), ('administration', 'ORG')], [('this quarter', 'DATE'), ('year - earlier performance', 'DATE')], [('Charles Colson', 'PERSON'), ('Watergate', 'GPE'), ('Fellowship', 'ORG')], [], [('Dongguan', 'GPE'), ('120,000', 'CARDINAL'), ('200', 'CARDINAL'), ('70', 'CARDINAL'), ('180', 'CARDINAL')], [('China', 'GPE')], [('Christy Whitman', 'PERSON'), ('the White House', 'ORG')], [('Workers', 'PERSON'), ('Van Nuys', 'GPE'), ('Oklahoma City', 'GPE'), ('Pontiac', 'ORG'), ('Pontiac Firebird', 'PRODUCT'), ('Chevrolet Camaro', 'PRODUCT')], [], [], [('Jonetic', 'ORG')], [('Linpien', 'GPE'), ('Pingtung Plain', 'GPE'), ('Linpien river', 'GPE')], [('Beirut', 'GPE'), ('war', 'GPE')], [('0.9 %', 'PERCENT'), ('last month', 'DATE'), ('the producer price index', 'GPE'), ('most anticipated', 'DATE')], [('Shanghai', 'GPE'), ('218', 'CARDINAL'), ('6', 'CARDINAL'), ('260', 'CARDINAL'), ('200 million US dollars', 'MONEY')], []]\n",
      "results : [[('one', 'CARDINAL')], [], [], [('four', 'CARDINAL')], [('last week', 'DATE')], [], [('Charles Colson', 'PERSON')], [('Mr. Heinemann', 'PERSON')], [('200, 70, 180', 'CARDINAL'), ('Dongguan', 'GPE')], [('narrator', 'PERSON')], [('Christy Whitman', 'PERSON')], [('Pontiac', 'ORG'), ('Van Nuys', 'GPE'), ('Pontiac', 'GPE'), ('two', 'CARDINAL'), ('Chevrolet Camaro', 'PRODUCT'), ('Pontiac Firebird', 'PRODUCT'), ('Oklahoma City', 'GPE')], [(\"Shandong 's\", 'GPE')], [], [], [('Linpien', 'GPE')], [], [('last month', 'DATE'), ('0.9 %', 'PERCENT')], [('218', 'CARDINAL'), ('Shanghai', 'GPE')], [('Scooter Libby', 'PERSON')]]\n",
      "0\n",
      "[['one', 'CARDINAL'], ['one', 'CARDINAL']]\n",
      "[('one', 'CARDINAL')]\n",
      "--------------------------------------------\n",
      "1\n",
      "[['United States', 'GPE']]\n",
      "[]\n",
      "--------------------------------------------\n",
      "2\n",
      "[['Iraq', 'GPE'], ['Iraq', 'GPE']]\n",
      "[('True', 'TIME'), ('you', 'PERSON'), ('neither', 'PERSON'), ('civilization', 'PERSON'), ('history', 'PERSON'), ('but', 'PERSON'), ('all', 'PERSON'), ('that', 'PERSON'), ('can', 'PERSON'), ('not', 'PERSON'), ('excuse', 'PERSON'), ('your', 'PERSON'), ('thefts', 'PERSON'), ('and', 'PERSON'), ('hatred', 'PERSON'), ('of', 'PERSON'), ('Iraq', 'GPE'), ('riches', 'PERSON'), ('.', 'PERSON')]\n",
      "--------------------------------------------\n",
      "3\n",
      "[['four', 'CARDINAL'], ['fifth', 'ORDINAL']]\n",
      "[('four', 'CARDINAL'), ('the government', 'ORG'), ('four savings - and - loan institutions', 'ORG')]\n",
      "--------------------------------------------\n",
      "4\n",
      "[[\"last week 's\", 'DATE'], ['Senate', 'ORG'], ['Republicans', 'NORP']]\n",
      "[('Senate', 'ORG'), ('Republicans', 'NORP'), ('administration', 'ORG')]\n",
      "--------------------------------------------\n",
      "5\n",
      "[['this quarter', 'DATE'], ['year - earlier', 'DATE']]\n",
      "[('this quarter', 'DATE'), ('year - earlier performance', 'DATE')]\n",
      "--------------------------------------------\n",
      "6\n",
      "[['Watergate', 'EVENT'], ['Charles Colson', 'PERSON'], ['Fellowship', 'ORG']]\n",
      "[('Charles Colson', 'PERSON'), ('Watergate', 'GPE'), ('Fellowship', 'ORG')]\n",
      "--------------------------------------------\n",
      "7\n",
      "[['Heinemann', 'PERSON']]\n",
      "[]\n",
      "--------------------------------------------\n",
      "8\n",
      "[['three', 'CARDINAL'], ['Dongguan', 'GPE'], ['120,000 square meters', 'QUANTITY'], ['200 tons', 'QUANTITY'], ['70 tons', 'QUANTITY'], ['Chinese', 'NORP'], ['180 tons', 'QUANTITY']]\n",
      "[('Dongguan', 'GPE'), ('120,000', 'CARDINAL'), ('200', 'CARDINAL'), ('70', 'CARDINAL'), ('180', 'CARDINAL')]\n",
      "--------------------------------------------\n",
      "9\n",
      "[['China', 'GPE']]\n",
      "[('China', 'GPE')]\n",
      "--------------------------------------------\n",
      "10\n",
      "[['Christy Whitman', 'PERSON'], ['the White House', 'ORG']]\n",
      "[('Christy Whitman', 'PERSON'), ('the White House', 'ORG')]\n",
      "--------------------------------------------\n",
      "11\n",
      "[['Van Nuys', 'GPE'], ['Calif.', 'GPE'], ['Oklahoma City', 'GPE'], ['Pontiac', 'GPE'], ['Mich.', 'GPE'], ['Pontiac', 'ORG'], ['Firebird', 'PRODUCT'], ['Chevrolet', 'ORG'], ['Camaro', 'PRODUCT']]\n",
      "[('Workers', 'PERSON'), ('Van Nuys', 'GPE'), ('Oklahoma City', 'GPE'), ('Pontiac', 'ORG'), ('Pontiac Firebird', 'PRODUCT'), ('Chevrolet Camaro', 'PRODUCT')]\n",
      "--------------------------------------------\n",
      "12\n",
      "[['Last year', 'DATE'], ['Shandong', 'GPE'], ['1480', 'CARDINAL'], ['more than 24 %', 'PERCENT']]\n",
      "[]\n",
      "--------------------------------------------\n",
      "13\n",
      "[['2003', 'DATE']]\n",
      "[]\n",
      "--------------------------------------------\n",
      "14\n",
      "[['Jonetic', 'PERSON'], ['one', 'CARDINAL']]\n",
      "[('Jonetic', 'ORG')]\n",
      "--------------------------------------------\n",
      "15\n",
      "[['Christmas', 'EVENT'], ['Linpien', 'GPE'], ['the Pingtung Plain', 'LOC'], ['Linpien', 'GPE'], ['first', 'ORDINAL'], ['Wax Apple Festival', 'EVENT']]\n",
      "[('Linpien', 'GPE'), ('Pingtung Plain', 'GPE'), ('Linpien river', 'GPE')]\n",
      "--------------------------------------------\n",
      "16\n",
      "[['Beirut', 'GPE'], ['nearly five years', 'DATE']]\n",
      "[('Beirut', 'GPE'), ('war', 'GPE')]\n",
      "--------------------------------------------\n",
      "17\n",
      "[['last month', 'DATE'], ['0.9 %', 'PERCENT']]\n",
      "[('0.9 %', 'PERCENT'), ('last month', 'DATE'), ('the producer price index', 'GPE'), ('most anticipated', 'DATE')]\n",
      "--------------------------------------------\n",
      "18\n",
      "[['Shanghai', 'GPE'], ['218', 'CARDINAL'], ['6', 'CARDINAL'], ['260', 'CARDINAL'], ['200 million US dollars', 'MONEY']]\n",
      "[('Shanghai', 'GPE'), ('218', 'CARDINAL'), ('6', 'CARDINAL'), ('260', 'CARDINAL'), ('200 million US dollars', 'MONEY')]\n",
      "--------------------------------------------\n",
      "19\n",
      "[['one', 'CARDINAL'], ['Scooter Libby', 'PERSON']]\n",
      "[]\n",
      "--------------------------------------------\n"
     ]
    },
    {
     "name": "stderr",
     "output_type": "stream",
     "text": [
      "\n",
      "/home/ubuntu/.local/lib/python3.10/site-packages/numpy/core/_methods.py:269: RuntimeWarning: Degrees of freedom <= 0 for slice\n",
      "  ret = _var(a, axis=axis, dtype=dtype, out=out, ddof=ddof,\n",
      "/home/ubuntu/.local/lib/python3.10/site-packages/numpy/core/_methods.py:261: RuntimeWarning: invalid value encountered in scalar divide\n",
      "  ret = ret.dtype.type(ret / rcount)\n",
      "/home/ubuntu/.local/lib/python3.10/site-packages/numpy/core/_methods.py:269: RuntimeWarning: Degrees of freedom <= 0 for slice\n",
      "  ret = _var(a, axis=axis, dtype=dtype, out=out, ddof=ddof,\n",
      "/home/ubuntu/.local/lib/python3.10/site-packages/numpy/core/_methods.py:261: RuntimeWarning: invalid value encountered in scalar divide\n",
      "  ret = ret.dtype.type(ret / rcount)\n"
     ]
    },
    {
     "data": {
      "image/png": "[encoded data removed]",
      "text/plain": [
       "<Figure size 800x600 with 2 Axes>"
      ]
     },
     "metadata": {},
     "output_type": "display_data"
    }
   ],
   "source": [
    "# ToDo \n",
    "from llm.LLMModel import *\n",
    "from ner.llm_ner.prompt_techniques.pt_abstract import PromptTechnique\n",
    "from ner.llm_ner.prompt_techniques.pt_discussion import PT_OutputList\n",
    "from ner.llm_ner.prompt_techniques.pt_gpt_ner import PT_GPT_NER\n",
    "from ner.llm_ner.prompt_techniques.pt_wrapper import PT_Wrapper\n",
    "from ner.llm_ner.prompt_techniques.pt_multi_pt import PT_2Time_Tagger\n",
    "from ner.llm_ner.few_shots_techniques import *\n",
    "from ner.llm_ner.prompts import *\n",
    "%reload_ext autoreload\n",
    "%autoreload 2\n",
    "\n",
    "\n",
    "model = MistralAI()\n",
    "plus_plus = True\n",
    "pts = [\n",
    "    PT_GPT_NER, \n",
    "      #  PT_OutputList, \n",
    "    #    PT_Wrapper, \n",
    "      #  PT_2Time_Tagger,\n",
    "      #  PT_Filing\n",
    "       ]\n",
    "results, results_df = model.classical_test_ontonote5(pts = pts, fsts = [FST_Sentence], nb_few_shots=[3], nb_run_by_test=5, plus_plus= plus_plus, test_size = 100)\n",
    "results_df\n",
    "\n",
    "\n",
    "results[0].res_insts[0].analyse_results()\n",
    "results[0].res_insts[0].show_cm()"
   ]
  },
  {
   "cell_type": "code",
   "execution_count": 2,
   "metadata": {},
   "outputs": [
    {
     "data": {
      "text/html": [
       "<div>\n",
       "<style scoped>\n",
       "    .dataframe tbody tr th:only-of-type {\n",
       "        vertical-align: middle;\n",
       "    }\n",
       "\n",
       "    .dataframe tbody tr th {\n",
       "        vertical-align: top;\n",
       "    }\n",
       "\n",
       "    .dataframe thead th {\n",
       "        text-align: right;\n",
       "    }\n",
       "</style>\n",
       "<table border=\"1\" class=\"dataframe\">\n",
       "  <thead>\n",
       "    <tr style=\"text-align: right;\">\n",
       "      <th></th>\n",
       "      <th>f1_mean</th>\n",
       "      <th>f1_conf_inter</th>\n",
       "      <th>model</th>\n",
       "      <th>noshots</th>\n",
       "      <th>prompt_technique</th>\n",
       "      <th>few_shot_tecnique</th>\n",
       "      <th>nb_few_shots</th>\n",
       "      <th>precision</th>\n",
       "      <th>plus_plus</th>\n",
       "      <th>verifier</th>\n",
       "      <th>len_data_train</th>\n",
       "      <th>len_data_test</th>\n",
       "      <th>nb_test_run</th>\n",
       "      <th>confidence_interval</th>\n",
       "      <th>distribution_used</th>\n",
       "      <th>precision_mean</th>\n",
       "      <th>precision_conf_inter</th>\n",
       "      <th>recall_mean</th>\n",
       "      <th>recall_conf_inter</th>\n",
       "    </tr>\n",
       "  </thead>\n",
       "  <tbody>\n",
       "    <tr>\n",
       "      <th>0</th>\n",
       "      <td>0.256</td>\n",
       "      <td>(nan, nan)</td>\n",
       "      <td>mistral-7b-v0.1</td>\n",
       "      <td>False</td>\n",
       "      <td>multi_prompt-get-entities-tagger</td>\n",
       "      <td>sentence</td>\n",
       "      <td>3</td>\n",
       "      <td>False</td>\n",
       "      <td>False</td>\n",
       "      <td>None</td>\n",
       "      <td>1383</td>\n",
       "      <td>20</td>\n",
       "      <td>1</td>\n",
       "      <td>0.95</td>\n",
       "      <td>Student</td>\n",
       "      <td>0.268</td>\n",
       "      <td>(nan, nan)</td>\n",
       "      <td>0.27</td>\n",
       "      <td>(nan, nan)</td>\n",
       "    </tr>\n",
       "    <tr>\n",
       "      <th>1</th>\n",
       "      <td>0.245</td>\n",
       "      <td>(nan, nan)</td>\n",
       "      <td>mistral-7b-v0.1</td>\n",
       "      <td>False</td>\n",
       "      <td>filing</td>\n",
       "      <td>sentence</td>\n",
       "      <td>3</td>\n",
       "      <td>False</td>\n",
       "      <td>False</td>\n",
       "      <td>None</td>\n",
       "      <td>1383</td>\n",
       "      <td>20</td>\n",
       "      <td>1</td>\n",
       "      <td>0.95</td>\n",
       "      <td>Student</td>\n",
       "      <td>0.339</td>\n",
       "      <td>(nan, nan)</td>\n",
       "      <td>0.20</td>\n",
       "      <td>(nan, nan)</td>\n",
       "    </tr>\n",
       "  </tbody>\n",
       "</table>\n",
       "</div>"
      ],
      "text/plain": [
       "   f1_mean f1_conf_inter            model  noshots  \\\n",
       "0    0.256    (nan, nan)  mistral-7b-v0.1    False   \n",
       "1    0.245    (nan, nan)  mistral-7b-v0.1    False   \n",
       "\n",
       "                   prompt_technique few_shot_tecnique  nb_few_shots  \\\n",
       "0  multi_prompt-get-entities-tagger          sentence             3   \n",
       "1                            filing          sentence             3   \n",
       "\n",
       "   precision  plus_plus verifier  len_data_train  len_data_test  nb_test_run  \\\n",
       "0      False      False     None            1383             20            1   \n",
       "1      False      False     None            1383             20            1   \n",
       "\n",
       "   confidence_interval distribution_used  precision_mean precision_conf_inter  \\\n",
       "0                 0.95           Student           0.268           (nan, nan)   \n",
       "1                 0.95           Student           0.339           (nan, nan)   \n",
       "\n",
       "   recall_mean recall_conf_inter  \n",
       "0         0.27        (nan, nan)  \n",
       "1         0.20        (nan, nan)  "
      ]
     },
     "execution_count": 2,
     "metadata": {},
     "output_type": "execute_result"
    }
   ],
   "source": [
    "\n",
    "results_df"
   ]
  },
  {
   "cell_type": "code",
   "execution_count": 4,
   "metadata": {},
   "outputs": [
    {
     "name": "stdout",
     "output_type": "stream",
     "text": [
      "./ner/saves/datasets/ontonote5_test_1403.pkl\n",
      "<ner.Datasets.OntoNotes5Dataset.OntoNote5Dataset object at 0x7f0608554490>\n"
     ]
    },
    {
     "data": {
      "text/plain": [
       "(<ner.Datasets.OntoNotes5Dataset.OntoNote5Dataset at 0x7f0600b5bd00>,\n",
       " <ner.Datasets.OntoNotes5Dataset.OntoNote5Dataset at 0x7f0603a8a8f0>)"
      ]
     },
     "execution_count": 4,
     "metadata": {},
     "output_type": "execute_result"
    }
   ],
   "source": [
    "ontonote_get_test_cleaned_split()"
   ]
  },
  {
   "cell_type": "code",
   "execution_count": null,
   "metadata": {},
   "outputs": [],
   "source": []
  }
 ],
 "metadata": {
  "kernelspec": {
   "display_name": "Python 3",
   "language": "python",
   "name": "python3"
  },
  "language_info": {
   "codemirror_mode": {
    "name": "ipython",
    "version": 3
   },
   "file_extension": ".py",
   "mimetype": "text/x-python",
   "name": "python",
   "nbconvert_exporter": "python",
   "pygments_lexer": "ipython3",
   "version": "3.10.12"
  }
 },
 "nbformat": 4,
 "nbformat_minor": 2
}
