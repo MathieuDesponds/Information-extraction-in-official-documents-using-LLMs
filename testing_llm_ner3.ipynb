{
 "cells": [
  {
   "cell_type": "code",
   "execution_count": 1,
   "metadata": {},
   "outputs": [
    {
     "name": "stderr",
     "output_type": "stream",
     "text": [
      "[nltk_data] Downloading package stopwords to /home/ubuntu/nltk_data...\n",
      "[nltk_data]   Package stopwords is already up-to-date!\n",
      "Some weights of the model checkpoint at dslim/bert-base-NER were not used when initializing BertForTokenClassification: ['bert.pooler.dense.bias', 'bert.pooler.dense.weight']\n",
      "- This IS expected if you are initializing BertForTokenClassification from the checkpoint of a model trained on another task or with another architecture (e.g. initializing a BertForSequenceClassification model from a BertForPreTraining model).\n",
      "- This IS NOT expected if you are initializing BertForTokenClassification from the checkpoint of a model that you expect to be exactly identical (initializing a BertForSequenceClassification model from a BertForSequenceClassification model).\n",
      "[nltk_data] Downloading package punkt to /home/ubuntu/nltk_data...\n",
      "[nltk_data]   Package punkt is already up-to-date!\n",
      "[nltk_data] Downloading package averaged_perceptron_tagger to\n",
      "[nltk_data]     /home/ubuntu/nltk_data...\n",
      "[nltk_data]   Package averaged_perceptron_tagger is already up-to-\n",
      "[nltk_data]       date!\n",
      "ggml_init_cublas: found 1 CUDA devices:\n",
      "  Device 0: NVIDIA A40, compute capability 8.6\n",
      "llama_model_loader: loaded meta data with 20 key-value pairs and 291 tensors from llm/models/mistral-7b-v0.1/mistral-7b-v0.1.Q5_0.gguf (version GGUF V2 (latest))\n",
      "llama_model_loader: - tensor    0:                token_embd.weight q5_0     [  4096, 32000,     1,     1 ]\n",
      "llama_model_loader: - tensor    1:              blk.0.attn_q.weight q5_0     [  4096,  4096,     1,     1 ]\n",
      "llama_model_loader: - tensor    2:              blk.0.attn_k.weight q5_0     [  4096,  1024,     1,     1 ]\n",
      "llama_model_loader: - tensor    3:              blk.0.attn_v.weight q5_0     [  4096,  1024,     1,     1 ]\n",
      "llama_model_loader: - tensor    4:         blk.0.attn_output.weight q5_0     [  4096,  4096,     1,     1 ]\n",
      "llama_model_loader: - tensor    5:            blk.0.ffn_gate.weight q5_0     [  4096, 14336,     1,     1 ]\n",
      "llama_model_loader: - tensor    6:              blk.0.ffn_up.weight q5_0     [  4096, 14336,     1,     1 ]\n",
      "llama_model_loader: - tensor    7:            blk.0.ffn_down.weight q5_0     [ 14336,  4096,     1,     1 ]\n",
      "llama_model_loader: - tensor    8:           blk.0.attn_norm.weight f32      [  4096,     1,     1,     1 ]\n",
      "llama_model_loader: - tensor    9:            blk.0.ffn_norm.weight f32      [  4096,     1,     1,     1 ]\n",
      "llama_model_loader: - tensor   10:              blk.1.attn_q.weight q5_0     [  4096,  4096,     1,     1 ]\n",
      "llama_model_loader: - tensor   11:              blk.1.attn_k.weight q5_0     [  4096,  1024,     1,     1 ]\n",
      "llama_model_loader: - tensor   12:              blk.1.attn_v.weight q5_0     [  4096,  1024,     1,     1 ]\n",
      "llama_model_loader: - tensor   13:         blk.1.attn_output.weight q5_0     [  4096,  4096,     1,     1 ]\n",
      "llama_model_loader: - tensor   14:            blk.1.ffn_gate.weight q5_0     [  4096, 14336,     1,     1 ]\n",
      "llama_model_loader: - tensor   15:              blk.1.ffn_up.weight q5_0     [  4096, 14336,     1,     1 ]\n",
      "llama_model_loader: - tensor   16:            blk.1.ffn_down.weight q5_0     [ 14336,  4096,     1,     1 ]\n",
      "llama_model_loader: - tensor   17:           blk.1.attn_norm.weight f32      [  4096,     1,     1,     1 ]\n",
      "llama_model_loader: - tensor   18:            blk.1.ffn_norm.weight f32      [  4096,     1,     1,     1 ]\n",
      "llama_model_loader: - tensor   19:              blk.2.attn_q.weight q5_0     [  4096,  4096,     1,     1 ]\n",
      "llama_model_loader: - tensor   20:              blk.2.attn_k.weight q5_0     [  4096,  1024,     1,     1 ]\n",
      "llama_model_loader: - tensor   21:              blk.2.attn_v.weight q5_0     [  4096,  1024,     1,     1 ]\n",
      "llama_model_loader: - tensor   22:         blk.2.attn_output.weight q5_0     [  4096,  4096,     1,     1 ]\n",
      "llama_model_loader: - tensor   23:            blk.2.ffn_gate.weight q5_0     [  4096, 14336,     1,     1 ]\n",
      "llama_model_loader: - tensor   24:              blk.2.ffn_up.weight q5_0     [  4096, 14336,     1,     1 ]\n",
      "llama_model_loader: - tensor   25:            blk.2.ffn_down.weight q5_0     [ 14336,  4096,     1,     1 ]\n",
      "llama_model_loader: - tensor   26:           blk.2.attn_norm.weight f32      [  4096,     1,     1,     1 ]\n",
      "llama_model_loader: - tensor   27:            blk.2.ffn_norm.weight f32      [  4096,     1,     1,     1 ]\n",
      "llama_model_loader: - tensor   28:              blk.3.attn_q.weight q5_0     [  4096,  4096,     1,     1 ]\n",
      "llama_model_loader: - tensor   29:              blk.3.attn_k.weight q5_0     [  4096,  1024,     1,     1 ]\n",
      "llama_model_loader: - tensor   30:              blk.3.attn_v.weight q5_0     [  4096,  1024,     1,     1 ]\n",
      "llama_model_loader: - tensor   31:         blk.3.attn_output.weight q5_0     [  4096,  4096,     1,     1 ]\n",
      "llama_model_loader: - tensor   32:            blk.3.ffn_gate.weight q5_0     [  4096, 14336,     1,     1 ]\n",
      "llama_model_loader: - tensor   33:              blk.3.ffn_up.weight q5_0     [  4096, 14336,     1,     1 ]\n",
      "llama_model_loader: - tensor   34:            blk.3.ffn_down.weight q5_0     [ 14336,  4096,     1,     1 ]\n",
      "llama_model_loader: - tensor   35:           blk.3.attn_norm.weight f32      [  4096,     1,     1,     1 ]\n",
      "llama_model_loader: - tensor   36:            blk.3.ffn_norm.weight f32      [  4096,     1,     1,     1 ]\n",
      "llama_model_loader: - tensor   37:              blk.4.attn_q.weight q5_0     [  4096,  4096,     1,     1 ]\n",
      "llama_model_loader: - tensor   38:              blk.4.attn_k.weight q5_0     [  4096,  1024,     1,     1 ]\n",
      "llama_model_loader: - tensor   39:              blk.4.attn_v.weight q5_0     [  4096,  1024,     1,     1 ]\n",
      "llama_model_loader: - tensor   40:         blk.4.attn_output.weight q5_0     [  4096,  4096,     1,     1 ]\n",
      "llama_model_loader: - tensor   41:            blk.4.ffn_gate.weight q5_0     [  4096, 14336,     1,     1 ]\n",
      "llama_model_loader: - tensor   42:              blk.4.ffn_up.weight q5_0     [  4096, 14336,     1,     1 ]\n",
      "llama_model_loader: - tensor   43:            blk.4.ffn_down.weight q5_0     [ 14336,  4096,     1,     1 ]\n",
      "llama_model_loader: - tensor   44:           blk.4.attn_norm.weight f32      [  4096,     1,     1,     1 ]\n",
      "llama_model_loader: - tensor   45:            blk.4.ffn_norm.weight f32      [  4096,     1,     1,     1 ]\n",
      "llama_model_loader: - tensor   46:              blk.5.attn_q.weight q5_0     [  4096,  4096,     1,     1 ]\n",
      "llama_model_loader: - tensor   47:              blk.5.attn_k.weight q5_0     [  4096,  1024,     1,     1 ]\n",
      "llama_model_loader: - tensor   48:              blk.5.attn_v.weight q5_0     [  4096,  1024,     1,     1 ]\n",
      "llama_model_loader: - tensor   49:         blk.5.attn_output.weight q5_0     [  4096,  4096,     1,     1 ]\n",
      "llama_model_loader: - tensor   50:            blk.5.ffn_gate.weight q5_0     [  4096, 14336,     1,     1 ]\n",
      "llama_model_loader: - tensor   51:              blk.5.ffn_up.weight q5_0     [  4096, 14336,     1,     1 ]\n",
      "llama_model_loader: - tensor   52:            blk.5.ffn_down.weight q5_0     [ 14336,  4096,     1,     1 ]\n",
      "llama_model_loader: - tensor   53:           blk.5.attn_norm.weight f32      [  4096,     1,     1,     1 ]\n",
      "llama_model_loader: - tensor   54:            blk.5.ffn_norm.weight f32      [  4096,     1,     1,     1 ]\n",
      "llama_model_loader: - tensor   55:              blk.6.attn_q.weight q5_0     [  4096,  4096,     1,     1 ]\n",
      "llama_model_loader: - tensor   56:              blk.6.attn_k.weight q5_0     [  4096,  1024,     1,     1 ]\n",
      "llama_model_loader: - tensor   57:              blk.6.attn_v.weight q5_0     [  4096,  1024,     1,     1 ]\n",
      "llama_model_loader: - tensor   58:         blk.6.attn_output.weight q5_0     [  4096,  4096,     1,     1 ]\n",
      "llama_model_loader: - tensor   59:            blk.6.ffn_gate.weight q5_0     [  4096, 14336,     1,     1 ]\n",
      "llama_model_loader: - tensor   60:              blk.6.ffn_up.weight q5_0     [  4096, 14336,     1,     1 ]\n",
      "llama_model_loader: - tensor   61:            blk.6.ffn_down.weight q5_0     [ 14336,  4096,     1,     1 ]\n",
      "llama_model_loader: - tensor   62:           blk.6.attn_norm.weight f32      [  4096,     1,     1,     1 ]\n",
      "llama_model_loader: - tensor   63:            blk.6.ffn_norm.weight f32      [  4096,     1,     1,     1 ]\n",
      "llama_model_loader: - tensor   64:              blk.7.attn_q.weight q5_0     [  4096,  4096,     1,     1 ]\n",
      "llama_model_loader: - tensor   65:              blk.7.attn_k.weight q5_0     [  4096,  1024,     1,     1 ]\n",
      "llama_model_loader: - tensor   66:              blk.7.attn_v.weight q5_0     [  4096,  1024,     1,     1 ]\n",
      "llama_model_loader: - tensor   67:         blk.7.attn_output.weight q5_0     [  4096,  4096,     1,     1 ]\n",
      "llama_model_loader: - tensor   68:            blk.7.ffn_gate.weight q5_0     [  4096, 14336,     1,     1 ]\n",
      "llama_model_loader: - tensor   69:              blk.7.ffn_up.weight q5_0     [  4096, 14336,     1,     1 ]\n",
      "llama_model_loader: - tensor   70:            blk.7.ffn_down.weight q5_0     [ 14336,  4096,     1,     1 ]\n",
      "llama_model_loader: - tensor   71:           blk.7.attn_norm.weight f32      [  4096,     1,     1,     1 ]\n",
      "llama_model_loader: - tensor   72:            blk.7.ffn_norm.weight f32      [  4096,     1,     1,     1 ]\n",
      "llama_model_loader: - tensor   73:              blk.8.attn_q.weight q5_0     [  4096,  4096,     1,     1 ]\n",
      "llama_model_loader: - tensor   74:              blk.8.attn_k.weight q5_0     [  4096,  1024,     1,     1 ]\n",
      "llama_model_loader: - tensor   75:              blk.8.attn_v.weight q5_0     [  4096,  1024,     1,     1 ]\n",
      "llama_model_loader: - tensor   76:         blk.8.attn_output.weight q5_0     [  4096,  4096,     1,     1 ]\n",
      "llama_model_loader: - tensor   77:            blk.8.ffn_gate.weight q5_0     [  4096, 14336,     1,     1 ]\n",
      "llama_model_loader: - tensor   78:              blk.8.ffn_up.weight q5_0     [  4096, 14336,     1,     1 ]\n",
      "llama_model_loader: - tensor   79:            blk.8.ffn_down.weight q5_0     [ 14336,  4096,     1,     1 ]\n",
      "llama_model_loader: - tensor   80:           blk.8.attn_norm.weight f32      [  4096,     1,     1,     1 ]\n",
      "llama_model_loader: - tensor   81:            blk.8.ffn_norm.weight f32      [  4096,     1,     1,     1 ]\n",
      "llama_model_loader: - tensor   82:              blk.9.attn_q.weight q5_0     [  4096,  4096,     1,     1 ]\n",
      "llama_model_loader: - tensor   83:              blk.9.attn_k.weight q5_0     [  4096,  1024,     1,     1 ]\n",
      "llama_model_loader: - tensor   84:              blk.9.attn_v.weight q5_0     [  4096,  1024,     1,     1 ]\n",
      "llama_model_loader: - tensor   85:         blk.9.attn_output.weight q5_0     [  4096,  4096,     1,     1 ]\n",
      "llama_model_loader: - tensor   86:            blk.9.ffn_gate.weight q5_0     [  4096, 14336,     1,     1 ]\n",
      "llama_model_loader: - tensor   87:              blk.9.ffn_up.weight q5_0     [  4096, 14336,     1,     1 ]\n",
      "llama_model_loader: - tensor   88:            blk.9.ffn_down.weight q5_0     [ 14336,  4096,     1,     1 ]\n",
      "llama_model_loader: - tensor   89:           blk.9.attn_norm.weight f32      [  4096,     1,     1,     1 ]\n",
      "llama_model_loader: - tensor   90:            blk.9.ffn_norm.weight f32      [  4096,     1,     1,     1 ]\n",
      "llama_model_loader: - tensor   91:             blk.10.attn_q.weight q5_0     [  4096,  4096,     1,     1 ]\n",
      "llama_model_loader: - tensor   92:             blk.10.attn_k.weight q5_0     [  4096,  1024,     1,     1 ]\n",
      "llama_model_loader: - tensor   93:             blk.10.attn_v.weight q5_0     [  4096,  1024,     1,     1 ]\n",
      "llama_model_loader: - tensor   94:        blk.10.attn_output.weight q5_0     [  4096,  4096,     1,     1 ]\n",
      "llama_model_loader: - tensor   95:           blk.10.ffn_gate.weight q5_0     [  4096, 14336,     1,     1 ]\n",
      "llama_model_loader: - tensor   96:             blk.10.ffn_up.weight q5_0     [  4096, 14336,     1,     1 ]\n",
      "llama_model_loader: - tensor   97:           blk.10.ffn_down.weight q5_0     [ 14336,  4096,     1,     1 ]\n",
      "llama_model_loader: - tensor   98:          blk.10.attn_norm.weight f32      [  4096,     1,     1,     1 ]\n",
      "llama_model_loader: - tensor   99:           blk.10.ffn_norm.weight f32      [  4096,     1,     1,     1 ]\n",
      "llama_model_loader: - tensor  100:             blk.11.attn_q.weight q5_0     [  4096,  4096,     1,     1 ]\n",
      "llama_model_loader: - tensor  101:             blk.11.attn_k.weight q5_0     [  4096,  1024,     1,     1 ]\n",
      "llama_model_loader: - tensor  102:             blk.11.attn_v.weight q5_0     [  4096,  1024,     1,     1 ]\n",
      "llama_model_loader: - tensor  103:        blk.11.attn_output.weight q5_0     [  4096,  4096,     1,     1 ]\n",
      "llama_model_loader: - tensor  104:           blk.11.ffn_gate.weight q5_0     [  4096, 14336,     1,     1 ]\n",
      "llama_model_loader: - tensor  105:             blk.11.ffn_up.weight q5_0     [  4096, 14336,     1,     1 ]\n",
      "llama_model_loader: - tensor  106:           blk.11.ffn_down.weight q5_0     [ 14336,  4096,     1,     1 ]\n",
      "llama_model_loader: - tensor  107:          blk.11.attn_norm.weight f32      [  4096,     1,     1,     1 ]\n",
      "llama_model_loader: - tensor  108:           blk.11.ffn_norm.weight f32      [  4096,     1,     1,     1 ]\n",
      "llama_model_loader: - tensor  109:             blk.12.attn_q.weight q5_0     [  4096,  4096,     1,     1 ]\n",
      "llama_model_loader: - tensor  110:             blk.12.attn_k.weight q5_0     [  4096,  1024,     1,     1 ]\n",
      "llama_model_loader: - tensor  111:             blk.12.attn_v.weight q5_0     [  4096,  1024,     1,     1 ]\n",
      "llama_model_loader: - tensor  112:        blk.12.attn_output.weight q5_0     [  4096,  4096,     1,     1 ]\n",
      "llama_model_loader: - tensor  113:           blk.12.ffn_gate.weight q5_0     [  4096, 14336,     1,     1 ]\n",
      "llama_model_loader: - tensor  114:             blk.12.ffn_up.weight q5_0     [  4096, 14336,     1,     1 ]\n",
      "llama_model_loader: - tensor  115:           blk.12.ffn_down.weight q5_0     [ 14336,  4096,     1,     1 ]\n",
      "llama_model_loader: - tensor  116:          blk.12.attn_norm.weight f32      [  4096,     1,     1,     1 ]\n",
      "llama_model_loader: - tensor  117:           blk.12.ffn_norm.weight f32      [  4096,     1,     1,     1 ]\n",
      "llama_model_loader: - tensor  118:             blk.13.attn_q.weight q5_0     [  4096,  4096,     1,     1 ]\n",
      "llama_model_loader: - tensor  119:             blk.13.attn_k.weight q5_0     [  4096,  1024,     1,     1 ]\n",
      "llama_model_loader: - tensor  120:             blk.13.attn_v.weight q5_0     [  4096,  1024,     1,     1 ]\n",
      "llama_model_loader: - tensor  121:        blk.13.attn_output.weight q5_0     [  4096,  4096,     1,     1 ]\n",
      "llama_model_loader: - tensor  122:           blk.13.ffn_gate.weight q5_0     [  4096, 14336,     1,     1 ]\n",
      "llama_model_loader: - tensor  123:             blk.13.ffn_up.weight q5_0     [  4096, 14336,     1,     1 ]\n",
      "llama_model_loader: - tensor  124:           blk.13.ffn_down.weight q5_0     [ 14336,  4096,     1,     1 ]\n",
      "llama_model_loader: - tensor  125:          blk.13.attn_norm.weight f32      [  4096,     1,     1,     1 ]\n",
      "llama_model_loader: - tensor  126:           blk.13.ffn_norm.weight f32      [  4096,     1,     1,     1 ]\n",
      "llama_model_loader: - tensor  127:             blk.14.attn_q.weight q5_0     [  4096,  4096,     1,     1 ]\n",
      "llama_model_loader: - tensor  128:             blk.14.attn_k.weight q5_0     [  4096,  1024,     1,     1 ]\n",
      "llama_model_loader: - tensor  129:             blk.14.attn_v.weight q5_0     [  4096,  1024,     1,     1 ]\n",
      "llama_model_loader: - tensor  130:        blk.14.attn_output.weight q5_0     [  4096,  4096,     1,     1 ]\n",
      "llama_model_loader: - tensor  131:           blk.14.ffn_gate.weight q5_0     [  4096, 14336,     1,     1 ]\n",
      "llama_model_loader: - tensor  132:             blk.14.ffn_up.weight q5_0     [  4096, 14336,     1,     1 ]\n",
      "llama_model_loader: - tensor  133:           blk.14.ffn_down.weight q5_0     [ 14336,  4096,     1,     1 ]\n",
      "llama_model_loader: - tensor  134:          blk.14.attn_norm.weight f32      [  4096,     1,     1,     1 ]\n",
      "llama_model_loader: - tensor  135:           blk.14.ffn_norm.weight f32      [  4096,     1,     1,     1 ]\n",
      "llama_model_loader: - tensor  136:             blk.15.attn_q.weight q5_0     [  4096,  4096,     1,     1 ]\n",
      "llama_model_loader: - tensor  137:             blk.15.attn_k.weight q5_0     [  4096,  1024,     1,     1 ]\n",
      "llama_model_loader: - tensor  138:             blk.15.attn_v.weight q5_0     [  4096,  1024,     1,     1 ]\n",
      "llama_model_loader: - tensor  139:        blk.15.attn_output.weight q5_0     [  4096,  4096,     1,     1 ]\n",
      "llama_model_loader: - tensor  140:           blk.15.ffn_gate.weight q5_0     [  4096, 14336,     1,     1 ]\n",
      "llama_model_loader: - tensor  141:             blk.15.ffn_up.weight q5_0     [  4096, 14336,     1,     1 ]\n",
      "llama_model_loader: - tensor  142:           blk.15.ffn_down.weight q5_0     [ 14336,  4096,     1,     1 ]\n",
      "llama_model_loader: - tensor  143:          blk.15.attn_norm.weight f32      [  4096,     1,     1,     1 ]\n",
      "llama_model_loader: - tensor  144:           blk.15.ffn_norm.weight f32      [  4096,     1,     1,     1 ]\n",
      "llama_model_loader: - tensor  145:             blk.16.attn_q.weight q5_0     [  4096,  4096,     1,     1 ]\n",
      "llama_model_loader: - tensor  146:             blk.16.attn_k.weight q5_0     [  4096,  1024,     1,     1 ]\n",
      "llama_model_loader: - tensor  147:             blk.16.attn_v.weight q5_0     [  4096,  1024,     1,     1 ]\n",
      "llama_model_loader: - tensor  148:        blk.16.attn_output.weight q5_0     [  4096,  4096,     1,     1 ]\n",
      "llama_model_loader: - tensor  149:           blk.16.ffn_gate.weight q5_0     [  4096, 14336,     1,     1 ]\n",
      "llama_model_loader: - tensor  150:             blk.16.ffn_up.weight q5_0     [  4096, 14336,     1,     1 ]\n",
      "llama_model_loader: - tensor  151:           blk.16.ffn_down.weight q5_0     [ 14336,  4096,     1,     1 ]\n",
      "llama_model_loader: - tensor  152:          blk.16.attn_norm.weight f32      [  4096,     1,     1,     1 ]\n",
      "llama_model_loader: - tensor  153:           blk.16.ffn_norm.weight f32      [  4096,     1,     1,     1 ]\n",
      "llama_model_loader: - tensor  154:             blk.17.attn_q.weight q5_0     [  4096,  4096,     1,     1 ]\n",
      "llama_model_loader: - tensor  155:             blk.17.attn_k.weight q5_0     [  4096,  1024,     1,     1 ]\n",
      "llama_model_loader: - tensor  156:             blk.17.attn_v.weight q5_0     [  4096,  1024,     1,     1 ]\n",
      "llama_model_loader: - tensor  157:        blk.17.attn_output.weight q5_0     [  4096,  4096,     1,     1 ]\n",
      "llama_model_loader: - tensor  158:           blk.17.ffn_gate.weight q5_0     [  4096, 14336,     1,     1 ]\n",
      "llama_model_loader: - tensor  159:             blk.17.ffn_up.weight q5_0     [  4096, 14336,     1,     1 ]\n",
      "llama_model_loader: - tensor  160:           blk.17.ffn_down.weight q5_0     [ 14336,  4096,     1,     1 ]\n",
      "llama_model_loader: - tensor  161:          blk.17.attn_norm.weight f32      [  4096,     1,     1,     1 ]\n",
      "llama_model_loader: - tensor  162:           blk.17.ffn_norm.weight f32      [  4096,     1,     1,     1 ]\n",
      "llama_model_loader: - tensor  163:             blk.18.attn_q.weight q5_0     [  4096,  4096,     1,     1 ]\n",
      "llama_model_loader: - tensor  164:             blk.18.attn_k.weight q5_0     [  4096,  1024,     1,     1 ]\n",
      "llama_model_loader: - tensor  165:             blk.18.attn_v.weight q5_0     [  4096,  1024,     1,     1 ]\n",
      "llama_model_loader: - tensor  166:        blk.18.attn_output.weight q5_0     [  4096,  4096,     1,     1 ]\n",
      "llama_model_loader: - tensor  167:           blk.18.ffn_gate.weight q5_0     [  4096, 14336,     1,     1 ]\n",
      "llama_model_loader: - tensor  168:             blk.18.ffn_up.weight q5_0     [  4096, 14336,     1,     1 ]\n",
      "llama_model_loader: - tensor  169:           blk.18.ffn_down.weight q5_0     [ 14336,  4096,     1,     1 ]\n",
      "llama_model_loader: - tensor  170:          blk.18.attn_norm.weight f32      [  4096,     1,     1,     1 ]\n",
      "llama_model_loader: - tensor  171:           blk.18.ffn_norm.weight f32      [  4096,     1,     1,     1 ]\n",
      "llama_model_loader: - tensor  172:             blk.19.attn_q.weight q5_0     [  4096,  4096,     1,     1 ]\n",
      "llama_model_loader: - tensor  173:             blk.19.attn_k.weight q5_0     [  4096,  1024,     1,     1 ]\n",
      "llama_model_loader: - tensor  174:             blk.19.attn_v.weight q5_0     [  4096,  1024,     1,     1 ]\n",
      "llama_model_loader: - tensor  175:        blk.19.attn_output.weight q5_0     [  4096,  4096,     1,     1 ]\n",
      "llama_model_loader: - tensor  176:           blk.19.ffn_gate.weight q5_0     [  4096, 14336,     1,     1 ]\n",
      "llama_model_loader: - tensor  177:             blk.19.ffn_up.weight q5_0     [  4096, 14336,     1,     1 ]\n",
      "llama_model_loader: - tensor  178:           blk.19.ffn_down.weight q5_0     [ 14336,  4096,     1,     1 ]\n",
      "llama_model_loader: - tensor  179:          blk.19.attn_norm.weight f32      [  4096,     1,     1,     1 ]\n",
      "llama_model_loader: - tensor  180:           blk.19.ffn_norm.weight f32      [  4096,     1,     1,     1 ]\n",
      "llama_model_loader: - tensor  181:             blk.20.attn_q.weight q5_0     [  4096,  4096,     1,     1 ]\n",
      "llama_model_loader: - tensor  182:             blk.20.attn_k.weight q5_0     [  4096,  1024,     1,     1 ]\n",
      "llama_model_loader: - tensor  183:             blk.20.attn_v.weight q5_0     [  4096,  1024,     1,     1 ]\n",
      "llama_model_loader: - tensor  184:        blk.20.attn_output.weight q5_0     [  4096,  4096,     1,     1 ]\n",
      "llama_model_loader: - tensor  185:           blk.20.ffn_gate.weight q5_0     [  4096, 14336,     1,     1 ]\n",
      "llama_model_loader: - tensor  186:             blk.20.ffn_up.weight q5_0     [  4096, 14336,     1,     1 ]\n",
      "llama_model_loader: - tensor  187:           blk.20.ffn_down.weight q5_0     [ 14336,  4096,     1,     1 ]\n",
      "llama_model_loader: - tensor  188:          blk.20.attn_norm.weight f32      [  4096,     1,     1,     1 ]\n",
      "llama_model_loader: - tensor  189:           blk.20.ffn_norm.weight f32      [  4096,     1,     1,     1 ]\n",
      "llama_model_loader: - tensor  190:             blk.21.attn_q.weight q5_0     [  4096,  4096,     1,     1 ]\n",
      "llama_model_loader: - tensor  191:             blk.21.attn_k.weight q5_0     [  4096,  1024,     1,     1 ]\n",
      "llama_model_loader: - tensor  192:             blk.21.attn_v.weight q5_0     [  4096,  1024,     1,     1 ]\n",
      "llama_model_loader: - tensor  193:        blk.21.attn_output.weight q5_0     [  4096,  4096,     1,     1 ]\n",
      "llama_model_loader: - tensor  194:           blk.21.ffn_gate.weight q5_0     [  4096, 14336,     1,     1 ]\n",
      "llama_model_loader: - tensor  195:             blk.21.ffn_up.weight q5_0     [  4096, 14336,     1,     1 ]\n",
      "llama_model_loader: - tensor  196:           blk.21.ffn_down.weight q5_0     [ 14336,  4096,     1,     1 ]\n",
      "llama_model_loader: - tensor  197:          blk.21.attn_norm.weight f32      [  4096,     1,     1,     1 ]\n",
      "llama_model_loader: - tensor  198:           blk.21.ffn_norm.weight f32      [  4096,     1,     1,     1 ]\n",
      "llama_model_loader: - tensor  199:             blk.22.attn_q.weight q5_0     [  4096,  4096,     1,     1 ]\n",
      "llama_model_loader: - tensor  200:             blk.22.attn_k.weight q5_0     [  4096,  1024,     1,     1 ]\n",
      "llama_model_loader: - tensor  201:             blk.22.attn_v.weight q5_0     [  4096,  1024,     1,     1 ]\n",
      "llama_model_loader: - tensor  202:        blk.22.attn_output.weight q5_0     [  4096,  4096,     1,     1 ]\n",
      "llama_model_loader: - tensor  203:           blk.22.ffn_gate.weight q5_0     [  4096, 14336,     1,     1 ]\n",
      "llama_model_loader: - tensor  204:             blk.22.ffn_up.weight q5_0     [  4096, 14336,     1,     1 ]\n",
      "llama_model_loader: - tensor  205:           blk.22.ffn_down.weight q5_0     [ 14336,  4096,     1,     1 ]\n",
      "llama_model_loader: - tensor  206:          blk.22.attn_norm.weight f32      [  4096,     1,     1,     1 ]\n",
      "llama_model_loader: - tensor  207:           blk.22.ffn_norm.weight f32      [  4096,     1,     1,     1 ]\n",
      "llama_model_loader: - tensor  208:             blk.23.attn_q.weight q5_0     [  4096,  4096,     1,     1 ]\n",
      "llama_model_loader: - tensor  209:             blk.23.attn_k.weight q5_0     [  4096,  1024,     1,     1 ]\n",
      "llama_model_loader: - tensor  210:             blk.23.attn_v.weight q5_0     [  4096,  1024,     1,     1 ]\n",
      "llama_model_loader: - tensor  211:        blk.23.attn_output.weight q5_0     [  4096,  4096,     1,     1 ]\n",
      "llama_model_loader: - tensor  212:           blk.23.ffn_gate.weight q5_0     [  4096, 14336,     1,     1 ]\n",
      "llama_model_loader: - tensor  213:             blk.23.ffn_up.weight q5_0     [  4096, 14336,     1,     1 ]\n",
      "llama_model_loader: - tensor  214:           blk.23.ffn_down.weight q5_0     [ 14336,  4096,     1,     1 ]\n",
      "llama_model_loader: - tensor  215:          blk.23.attn_norm.weight f32      [  4096,     1,     1,     1 ]\n",
      "llama_model_loader: - tensor  216:           blk.23.ffn_norm.weight f32      [  4096,     1,     1,     1 ]\n",
      "llama_model_loader: - tensor  217:             blk.24.attn_q.weight q5_0     [  4096,  4096,     1,     1 ]\n",
      "llama_model_loader: - tensor  218:             blk.24.attn_k.weight q5_0     [  4096,  1024,     1,     1 ]\n",
      "llama_model_loader: - tensor  219:             blk.24.attn_v.weight q5_0     [  4096,  1024,     1,     1 ]\n",
      "llama_model_loader: - tensor  220:        blk.24.attn_output.weight q5_0     [  4096,  4096,     1,     1 ]\n",
      "llama_model_loader: - tensor  221:           blk.24.ffn_gate.weight q5_0     [  4096, 14336,     1,     1 ]\n",
      "llama_model_loader: - tensor  222:             blk.24.ffn_up.weight q5_0     [  4096, 14336,     1,     1 ]\n",
      "llama_model_loader: - tensor  223:           blk.24.ffn_down.weight q5_0     [ 14336,  4096,     1,     1 ]\n",
      "llama_model_loader: - tensor  224:          blk.24.attn_norm.weight f32      [  4096,     1,     1,     1 ]\n",
      "llama_model_loader: - tensor  225:           blk.24.ffn_norm.weight f32      [  4096,     1,     1,     1 ]\n",
      "llama_model_loader: - tensor  226:             blk.25.attn_q.weight q5_0     [  4096,  4096,     1,     1 ]\n",
      "llama_model_loader: - tensor  227:             blk.25.attn_k.weight q5_0     [  4096,  1024,     1,     1 ]\n",
      "llama_model_loader: - tensor  228:             blk.25.attn_v.weight q5_0     [  4096,  1024,     1,     1 ]\n",
      "llama_model_loader: - tensor  229:        blk.25.attn_output.weight q5_0     [  4096,  4096,     1,     1 ]\n",
      "llama_model_loader: - tensor  230:           blk.25.ffn_gate.weight q5_0     [  4096, 14336,     1,     1 ]\n",
      "llama_model_loader: - tensor  231:             blk.25.ffn_up.weight q5_0     [  4096, 14336,     1,     1 ]\n",
      "llama_model_loader: - tensor  232:           blk.25.ffn_down.weight q5_0     [ 14336,  4096,     1,     1 ]\n",
      "llama_model_loader: - tensor  233:          blk.25.attn_norm.weight f32      [  4096,     1,     1,     1 ]\n",
      "llama_model_loader: - tensor  234:           blk.25.ffn_norm.weight f32      [  4096,     1,     1,     1 ]\n",
      "llama_model_loader: - tensor  235:             blk.26.attn_q.weight q5_0     [  4096,  4096,     1,     1 ]\n",
      "llama_model_loader: - tensor  236:             blk.26.attn_k.weight q5_0     [  4096,  1024,     1,     1 ]\n",
      "llama_model_loader: - tensor  237:             blk.26.attn_v.weight q5_0     [  4096,  1024,     1,     1 ]\n",
      "llama_model_loader: - tensor  238:        blk.26.attn_output.weight q5_0     [  4096,  4096,     1,     1 ]\n",
      "llama_model_loader: - tensor  239:           blk.26.ffn_gate.weight q5_0     [  4096, 14336,     1,     1 ]\n",
      "llama_model_loader: - tensor  240:             blk.26.ffn_up.weight q5_0     [  4096, 14336,     1,     1 ]\n",
      "llama_model_loader: - tensor  241:           blk.26.ffn_down.weight q5_0     [ 14336,  4096,     1,     1 ]\n",
      "llama_model_loader: - tensor  242:          blk.26.attn_norm.weight f32      [  4096,     1,     1,     1 ]\n",
      "llama_model_loader: - tensor  243:           blk.26.ffn_norm.weight f32      [  4096,     1,     1,     1 ]\n",
      "llama_model_loader: - tensor  244:             blk.27.attn_q.weight q5_0     [  4096,  4096,     1,     1 ]\n",
      "llama_model_loader: - tensor  245:             blk.27.attn_k.weight q5_0     [  4096,  1024,     1,     1 ]\n",
      "llama_model_loader: - tensor  246:             blk.27.attn_v.weight q5_0     [  4096,  1024,     1,     1 ]\n",
      "llama_model_loader: - tensor  247:        blk.27.attn_output.weight q5_0     [  4096,  4096,     1,     1 ]\n",
      "llama_model_loader: - tensor  248:           blk.27.ffn_gate.weight q5_0     [  4096, 14336,     1,     1 ]\n",
      "llama_model_loader: - tensor  249:             blk.27.ffn_up.weight q5_0     [  4096, 14336,     1,     1 ]\n",
      "llama_model_loader: - tensor  250:           blk.27.ffn_down.weight q5_0     [ 14336,  4096,     1,     1 ]\n",
      "llama_model_loader: - tensor  251:          blk.27.attn_norm.weight f32      [  4096,     1,     1,     1 ]\n",
      "llama_model_loader: - tensor  252:           blk.27.ffn_norm.weight f32      [  4096,     1,     1,     1 ]\n",
      "llama_model_loader: - tensor  253:             blk.28.attn_q.weight q5_0     [  4096,  4096,     1,     1 ]\n",
      "llama_model_loader: - tensor  254:             blk.28.attn_k.weight q5_0     [  4096,  1024,     1,     1 ]\n",
      "llama_model_loader: - tensor  255:             blk.28.attn_v.weight q5_0     [  4096,  1024,     1,     1 ]\n",
      "llama_model_loader: - tensor  256:        blk.28.attn_output.weight q5_0     [  4096,  4096,     1,     1 ]\n",
      "llama_model_loader: - tensor  257:           blk.28.ffn_gate.weight q5_0     [  4096, 14336,     1,     1 ]\n",
      "llama_model_loader: - tensor  258:             blk.28.ffn_up.weight q5_0     [  4096, 14336,     1,     1 ]\n",
      "llama_model_loader: - tensor  259:           blk.28.ffn_down.weight q5_0     [ 14336,  4096,     1,     1 ]\n",
      "llama_model_loader: - tensor  260:          blk.28.attn_norm.weight f32      [  4096,     1,     1,     1 ]\n",
      "llama_model_loader: - tensor  261:           blk.28.ffn_norm.weight f32      [  4096,     1,     1,     1 ]\n",
      "llama_model_loader: - tensor  262:             blk.29.attn_q.weight q5_0     [  4096,  4096,     1,     1 ]\n",
      "llama_model_loader: - tensor  263:             blk.29.attn_k.weight q5_0     [  4096,  1024,     1,     1 ]\n",
      "llama_model_loader: - tensor  264:             blk.29.attn_v.weight q5_0     [  4096,  1024,     1,     1 ]\n",
      "llama_model_loader: - tensor  265:        blk.29.attn_output.weight q5_0     [  4096,  4096,     1,     1 ]\n",
      "llama_model_loader: - tensor  266:           blk.29.ffn_gate.weight q5_0     [  4096, 14336,     1,     1 ]\n",
      "llama_model_loader: - tensor  267:             blk.29.ffn_up.weight q5_0     [  4096, 14336,     1,     1 ]\n",
      "llama_model_loader: - tensor  268:           blk.29.ffn_down.weight q5_0     [ 14336,  4096,     1,     1 ]\n",
      "llama_model_loader: - tensor  269:          blk.29.attn_norm.weight f32      [  4096,     1,     1,     1 ]\n",
      "llama_model_loader: - tensor  270:           blk.29.ffn_norm.weight f32      [  4096,     1,     1,     1 ]\n",
      "llama_model_loader: - tensor  271:             blk.30.attn_q.weight q5_0     [  4096,  4096,     1,     1 ]\n",
      "llama_model_loader: - tensor  272:             blk.30.attn_k.weight q5_0     [  4096,  1024,     1,     1 ]\n",
      "llama_model_loader: - tensor  273:             blk.30.attn_v.weight q5_0     [  4096,  1024,     1,     1 ]\n",
      "llama_model_loader: - tensor  274:        blk.30.attn_output.weight q5_0     [  4096,  4096,     1,     1 ]\n",
      "llama_model_loader: - tensor  275:           blk.30.ffn_gate.weight q5_0     [  4096, 14336,     1,     1 ]\n",
      "llama_model_loader: - tensor  276:             blk.30.ffn_up.weight q5_0     [  4096, 14336,     1,     1 ]\n",
      "llama_model_loader: - tensor  277:           blk.30.ffn_down.weight q5_0     [ 14336,  4096,     1,     1 ]\n",
      "llama_model_loader: - tensor  278:          blk.30.attn_norm.weight f32      [  4096,     1,     1,     1 ]\n",
      "llama_model_loader: - tensor  279:           blk.30.ffn_norm.weight f32      [  4096,     1,     1,     1 ]\n",
      "llama_model_loader: - tensor  280:             blk.31.attn_q.weight q5_0     [  4096,  4096,     1,     1 ]\n",
      "llama_model_loader: - tensor  281:             blk.31.attn_k.weight q5_0     [  4096,  1024,     1,     1 ]\n",
      "llama_model_loader: - tensor  282:             blk.31.attn_v.weight q5_0     [  4096,  1024,     1,     1 ]\n",
      "llama_model_loader: - tensor  283:        blk.31.attn_output.weight q5_0     [  4096,  4096,     1,     1 ]\n",
      "llama_model_loader: - tensor  284:           blk.31.ffn_gate.weight q5_0     [  4096, 14336,     1,     1 ]\n",
      "llama_model_loader: - tensor  285:             blk.31.ffn_up.weight q5_0     [  4096, 14336,     1,     1 ]\n",
      "llama_model_loader: - tensor  286:           blk.31.ffn_down.weight q5_0     [ 14336,  4096,     1,     1 ]\n",
      "llama_model_loader: - tensor  287:          blk.31.attn_norm.weight f32      [  4096,     1,     1,     1 ]\n",
      "llama_model_loader: - tensor  288:           blk.31.ffn_norm.weight f32      [  4096,     1,     1,     1 ]\n",
      "llama_model_loader: - tensor  289:               output_norm.weight f32      [  4096,     1,     1,     1 ]\n",
      "llama_model_loader: - tensor  290:                    output.weight q6_K     [  4096, 32000,     1,     1 ]\n",
      "llama_model_loader: - kv   0:                       general.architecture str     \n",
      "llama_model_loader: - kv   1:                               general.name str     \n",
      "llama_model_loader: - kv   2:                       llama.context_length u32     \n",
      "llama_model_loader: - kv   3:                     llama.embedding_length u32     \n",
      "llama_model_loader: - kv   4:                          llama.block_count u32     \n",
      "llama_model_loader: - kv   5:                  llama.feed_forward_length u32     \n",
      "llama_model_loader: - kv   6:                 llama.rope.dimension_count u32     \n",
      "llama_model_loader: - kv   7:                 llama.attention.head_count u32     \n",
      "llama_model_loader: - kv   8:              llama.attention.head_count_kv u32     \n",
      "llama_model_loader: - kv   9:     llama.attention.layer_norm_rms_epsilon f32     \n",
      "llama_model_loader: - kv  10:                       llama.rope.freq_base f32     \n",
      "llama_model_loader: - kv  11:                          general.file_type u32     \n",
      "llama_model_loader: - kv  12:                       tokenizer.ggml.model str     \n",
      "llama_model_loader: - kv  13:                      tokenizer.ggml.tokens arr     \n",
      "llama_model_loader: - kv  14:                      tokenizer.ggml.scores arr     \n",
      "llama_model_loader: - kv  15:                  tokenizer.ggml.token_type arr     \n",
      "llama_model_loader: - kv  16:                tokenizer.ggml.bos_token_id u32     \n",
      "llama_model_loader: - kv  17:                tokenizer.ggml.eos_token_id u32     \n",
      "llama_model_loader: - kv  18:            tokenizer.ggml.unknown_token_id u32     \n",
      "llama_model_loader: - kv  19:               general.quantization_version u32     \n",
      "llama_model_loader: - type  f32:   65 tensors\n",
      "llama_model_loader: - type q5_0:  225 tensors\n",
      "llama_model_loader: - type q6_K:    1 tensors\n",
      "llm_load_print_meta: format         = GGUF V2 (latest)\n",
      "llm_load_print_meta: arch           = llama\n",
      "llm_load_print_meta: vocab type     = SPM\n",
      "llm_load_print_meta: n_vocab        = 32000\n",
      "llm_load_print_meta: n_merges       = 0\n",
      "llm_load_print_meta: n_ctx_train    = 32768\n",
      "llm_load_print_meta: n_ctx          = 2048\n",
      "llm_load_print_meta: n_embd         = 4096\n",
      "llm_load_print_meta: n_head         = 32\n",
      "llm_load_print_meta: n_head_kv      = 8\n",
      "llm_load_print_meta: n_layer        = 32\n",
      "llm_load_print_meta: n_rot          = 128\n",
      "llm_load_print_meta: n_gqa          = 4\n",
      "llm_load_print_meta: f_norm_eps     = 0.0e+00\n",
      "llm_load_print_meta: f_norm_rms_eps = 1.0e-05\n",
      "llm_load_print_meta: n_ff           = 14336\n",
      "llm_load_print_meta: freq_base      = 10000.0\n",
      "llm_load_print_meta: freq_scale     = 1\n",
      "llm_load_print_meta: model type     = 7B\n",
      "llm_load_print_meta: model ftype    = mostly Q5_0\n",
      "llm_load_print_meta: model params   = 7.24 B\n",
      "llm_load_print_meta: model size     = 4.65 GiB (5.52 BPW) \n",
      "llm_load_print_meta: general.name   = mistralai_mistral-7b-v0.1\n",
      "llm_load_print_meta: BOS token = 1 '<s>'\n",
      "llm_load_print_meta: EOS token = 2 '</s>'\n",
      "llm_load_print_meta: UNK token = 0 '<unk>'\n",
      "llm_load_print_meta: LF token  = 13 '<0x0A>'\n",
      "llm_load_tensors: ggml ctx size =    0.09 MB\n",
      "llm_load_tensors: using CUDA for GPU acceleration\n",
      "llm_load_tensors: mem required  =   86.03 MB (+  256.00 MB per state)\n",
      "llm_load_tensors: offloading 32 repeating layers to GPU\n",
      "llm_load_tensors: offloading non-repeating layers to GPU\n",
      "llm_load_tensors: offloading v cache to GPU\n",
      "llm_load_tensors: offloading k cache to GPU\n",
      "llm_load_tensors: offloaded 35/35 layers to GPU\n",
      "llm_load_tensors: VRAM used: 4936 MB\n",
      "..................................................................................................\n",
      "llama_new_context_with_model: kv self size  =  256.00 MB\n",
      "llama_new_context_with_model: compute buffer total size =  153.47 MB\n",
      "llama_new_context_with_model: VRAM scratch buffer: 152.00 MB\n"
     ]
    },
    {
     "name": "stdout",
     "output_type": "stream",
     "text": [
      "Testing with no-shots\n",
      "      and discussion\n",
      "./ner/saves/datasets/ontonote5_test_1403.pkl\n"
     ]
    },
    {
     "name": "stderr",
     "output_type": "stream",
     "text": [
      "  0%|          | 0/100 [00:00<?, ?it/s]"
     ]
    },
    {
     "name": "stdout",
     "output_type": "stream",
     "text": [
      "('one', 'CARDINAL'), ('thing', 'NORP')] "
     ]
    },
    {
     "name": "stderr",
     "output_type": "stream",
     "text": [
      "  1%|          | 1/100 [00:01<03:12,  1.95s/it]"
     ]
    },
    {
     "name": "stdout",
     "output_type": "stream",
     "text": [
      "('And', 'CARDINAL'), ('that', 'ORDINAL'), ('is', 'VERB'), ('the', 'STOPWORDS'), ('whole', 'NOUN'), ('notion', 'NOUN'), ('of', 'PREPOSITION'), ('the', 'STOPWORDS'), ('use', 'VERB'), ('and', 'CONJUNCTION'), ('abuse', 'VERB'), ('of', 'PREPOSITION'), ('confidential', 'ADJECTIVE'), ('sources', 'NOUN'), ('the', 'STOPWORDS'), ('protections', 'NOUN'), ('that', 'ORDINAL'), ('reporters', 'NOUN'), ('do', 'VERB'), ('or', 'CONJUNCTION'), ('don't', 'ADJECTIVE'), ('have', 'VERB'), ('and', 'CONJUNCTION'), ('the', 'STOPWORDS'), ('propensity', 'NOUN'), ('of', 'PREPOSITION'), ('uh', 'PR"
     ]
    },
    {
     "name": "stderr",
     "output_type": "stream",
     "text": [
      "  2%|▏         | 2/100 [00:10<09:39,  5.92s/it]"
     ]
    },
    {
     "name": "stdout",
     "output_type": "stream",
     "text": [
      "-----------------------------------------------\n",
      "response does not contain [()]. Returned [('And', 'CARDINAL'), ('that', 'ORDINAL'), ('is', 'VERB'), ('the', 'STOPWORDS'), ('whole', 'NOUN'), ('notion', 'NOUN'), ('of', 'PREPOSITION'), ('the', 'STOPWORDS'), ('use', 'VERB'), ('and', 'CONJUNCTION'), ('abuse', 'VERB'), ('of', 'PREPOSITION'), ('confidential', 'ADJECTIVE'), ('sources', 'NOUN'), ('the', 'STOPWORDS'), ('protections', 'NOUN'), ('that', 'ORDINAL'), ('reporters', 'NOUN'), ('do', 'VERB'), ('or', 'CONJUNCTION'), ('don't', 'ADJECTIVE'), ('have', 'VERB'), ('and', 'CONJUNCTION'), ('the', 'STOPWORDS'), ('propensity', 'NOUN'), ('of', 'PREPOSITION'), ('uh', 'PR\n",
      "-----------------------------------------------\n",
      "('True', 'PERSON'), ('you', 'PRONOUN')] "
     ]
    },
    {
     "name": "stderr",
     "output_type": "stream",
     "text": [
      "  3%|▎         | 3/100 [00:11<06:04,  3.76s/it]"
     ]
    },
    {
     "name": "stdout",
     "output_type": "stream",
     "text": [
      "('four', 'CARDINAL'), ('savings', 'PRODUCT')] "
     ]
    },
    {
     "name": "stderr",
     "output_type": "stream",
     "text": [
      "  4%|▍         | 4/100 [00:12<04:16,  2.67s/it]"
     ]
    },
    {
     "name": "stdout",
     "output_type": "stream",
     "text": [
      "('last', 'DATE'), ('week\\'s', 'ORDINAL')] "
     ]
    },
    {
     "name": "stderr",
     "output_type": "stream",
     "text": [
      "  5%|▌         | 5/100 [00:14<03:23,  2.14s/it]"
     ]
    },
    {
     "name": "stdout",
     "output_type": "stream",
     "text": [
      "('gasoline', 'PRODUCT'), ('picture', 'WORK_OF_ART')] "
     ]
    },
    {
     "name": "stderr",
     "output_type": "stream",
     "text": [
      "  6%|▌         | 6/100 [00:15<02:53,  1.84s/it]"
     ]
    },
    {
     "name": "stdout",
     "output_type": "stream",
     "text": [
      "('Watergate', 'GPE'), ('dirty', 'NORP')] "
     ]
    },
    {
     "name": "stderr",
     "output_type": "stream",
     "text": [
      "  7%|▋         | 7/100 [00:16<02:31,  1.63s/it]"
     ]
    },
    {
     "name": "stdout",
     "output_type": "stream",
     "text": [
      "('Mr.', 'PERSON'), ('Heinemann', 'PERSON'), ('changes', 'WORK_OF_ART'), ('represent', 'VERB'), ('a', 'STOPWORD'), ('magazine', 'PRODUCT'), (\"'s\", \"STOPWORD\"), ('net', 'QUANTITY'), ('revenue', 'MONEY'), ('per', 'PREPOSITION'), ('subscriber', 'PERSON'), (',', 'PUNCTUATION'), ('or', 'CONJUNCTION'), ('the', 'ARTICLE'), (\"'s\", \"STOPWORD\"), ('actual', 'ADJECTIVE'), ('revenue', 'MONEY'), ('from', 'PREPOSITION'), ('subscribers', 'PERSON'), (',', 'PUNCTUATION'), ('after', 'VERB'), ('discounts', 'QUANTITY'), ('and', 'CONJUNCTION'), ('the', 'ARTICLE'), (\"'s\", \"STOPWORD\"), ('cost', '"
     ]
    },
    {
     "name": "stderr",
     "output_type": "stream",
     "text": [
      "  8%|▊         | 8/100 [00:24<05:49,  3.80s/it]"
     ]
    },
    {
     "name": "stdout",
     "output_type": "stream",
     "text": [
      "-----------------------------------------------\n",
      "response does not contain [()]. Returned [('Mr.', 'PERSON'), ('Heinemann', 'PERSON'), ('changes', 'WORK_OF_ART'), ('represent', 'VERB'), ('a', 'STOPWORD'), ('magazine', 'PRODUCT'), (\"'s\", \"STOPWORD\"), ('net', 'QUANTITY'), ('revenue', 'MONEY'), ('per', 'PREPOSITION'), ('subscriber', 'PERSON'), (',', 'PUNCTUATION'), ('or', 'CONJUNCTION'), ('the', 'ARTICLE'), (\"'s\", \"STOPWORD\"), ('actual', 'ADJECTIVE'), ('revenue', 'MONEY'), ('from', 'PREPOSITION'), ('subscribers', 'PERSON'), (',', 'PUNCTUATION'), ('after', 'VERB'), ('discounts', 'QUANTITY'), ('and', 'CONJUNCTION'), ('the', 'ARTICLE'), (\"'s\", \"STOPWORD\"), ('cost', '\n",
      "-----------------------------------------------\n",
      "('Dongguan', 'GPE'), ('Chinese', 'NORP')] "
     ]
    },
    {
     "name": "stderr",
     "output_type": "stream",
     "text": [
      "  9%|▉         | 9/100 [00:26<04:35,  3.02s/it]"
     ]
    },
    {
     "name": "stdout",
     "output_type": "stream",
     "text": [
      "('Characters', 'NORP'), ('proliferate', 'VERB'), ('out', 'ADV'), ('of', 'PREPOSITION'), ('the', 'STOPWORDS'), ('imagination', 'NOUN'), ('of', 'PREPOSITION'), ('the', 'STOPWORDS'), ('narrator', 'PERSON'), ('so', 'CONJUNCTION'), ('that', 'ADV'), ('at', 'VERB'), ('a', 'DET'), ('certain', 'ADJECTIVE'), ('point', 'NOUN'), (',', 'PUNCTUATION'), ('you', 'PRONOUN'), ('have', 'AUXILIARY_VERBS'), ('a', 'DET'), ('new', 'ADJECTIVE'), ('he', 'PERSON'), ('you', 'PRONOUN'), ('have', 'AUXILIARY_VERBS'), ('a', 'DET'), ('new', 'ADJECTIVE'), ('she', 'PER"
     ]
    },
    {
     "name": "stderr",
     "output_type": "stream",
     "text": [
      " 10%|█         | 10/100 [00:34<07:10,  4.78s/it]"
     ]
    },
    {
     "name": "stdout",
     "output_type": "stream",
     "text": [
      "-----------------------------------------------\n",
      "response does not contain [()]. Returned [('Characters', 'NORP'), ('proliferate', 'VERB'), ('out', 'ADV'), ('of', 'PREPOSITION'), ('the', 'STOPWORDS'), ('imagination', 'NOUN'), ('of', 'PREPOSITION'), ('the', 'STOPWORDS'), ('narrator', 'PERSON'), ('so', 'CONJUNCTION'), ('that', 'ADV'), ('at', 'VERB'), ('a', 'DET'), ('certain', 'ADJECTIVE'), ('point', 'NOUN'), (',', 'PUNCTUATION'), ('you', 'PRONOUN'), ('have', 'AUXILIARY_VERBS'), ('a', 'DET'), ('new', 'ADJECTIVE'), ('he', 'PERSON'), ('you', 'PRONOUN'), ('have', 'AUXILIARY_VERBS'), ('a', 'DET'), ('new', 'ADJECTIVE'), ('she', 'PER\n",
      "-----------------------------------------------\n",
      "('Christy', 'PERSON'), ('Whitman', 'PERSON')] "
     ]
    },
    {
     "name": "stderr",
     "output_type": "stream",
     "text": [
      " 11%|█         | 11/100 [00:35<05:21,  3.61s/it]"
     ]
    },
    {
     "name": "stdout",
     "output_type": "stream",
     "text": [
      "('Van Nuys', 'GPE'), ('Calif.', 'GPE'), ('Oklahoma City', 'GPE'), ('Pontiac', 'FAC')] "
     ]
    },
    {
     "name": "stderr",
     "output_type": "stream",
     "text": [
      " 12%|█▏        | 12/100 [00:37<04:34,  3.12s/it]"
     ]
    },
    {
     "name": "stdout",
     "output_type": "stream",
     "text": [
      "('Shandong', 'GPE')] "
     ]
    },
    {
     "name": "stderr",
     "output_type": "stream",
     "text": [
      " 13%|█▎        | 13/100 [00:38<03:32,  2.45s/it]"
     ]
    },
    {
     "name": "stdout",
     "output_type": "stream",
     "text": [
      "('Hence', 'TIME'), ('I', 'NORP'), ('think', 'VERB'), ('this', 'DET'), ('is', 'AUX'), ('a', 'DET'), ('test', 'WORK_OF_ART'), ('of', 'ADV'), ('e-government', 'PRODUCT'), ('because', 'CONJUNCTION'), (',', 'PUNCTUATION'), ('as', 'PRONOUN'), ('I', 'NORP'), ('remember', 'VERB'), ('during', 'PREPOSITION'), ('SARS', 'GPE'), ('in', 'IN'), ('2003', 'DATE'), (',', 'PUNCTUATION'), ('people', 'PRODUCT'), ('at', 'ADV'), ('that', 'PRONOUN'), ('time', 'TIME'), ('criticized', 'VERB'), ('e-government', 'PRODUCT'), ('during', 'PREPOSITION'), ('the"
     ]
    },
    {
     "name": "stderr",
     "output_type": "stream",
     "text": [
      " 14%|█▍        | 14/100 [00:47<06:05,  4.25s/it]"
     ]
    },
    {
     "name": "stdout",
     "output_type": "stream",
     "text": [
      "-----------------------------------------------\n",
      "response does not contain [()]. Returned [('Hence', 'TIME'), ('I', 'NORP'), ('think', 'VERB'), ('this', 'DET'), ('is', 'AUX'), ('a', 'DET'), ('test', 'WORK_OF_ART'), ('of', 'ADV'), ('e-government', 'PRODUCT'), ('because', 'CONJUNCTION'), (',', 'PUNCTUATION'), ('as', 'PRONOUN'), ('I', 'NORP'), ('remember', 'VERB'), ('during', 'PREPOSITION'), ('SARS', 'GPE'), ('in', 'IN'), ('2003', 'DATE'), (',', 'PUNCTUATION'), ('people', 'PRODUCT'), ('at', 'ADV'), ('that', 'PRONOUN'), ('time', 'TIME'), ('criticized', 'VERB'), ('e-government', 'PRODUCT'), ('during', 'PREPOSITION'), ('the\n",
      "-----------------------------------------------\n",
      "('We', 'NORP'), ('are', 'VERB'), ('still', 'ADV'), ('in', 'PREP'), ('crisis', 'CARDINAL'), ('and', 'CONJ'), ('we', 'PRON'), ('will', 'AUX'), ('be', 'VERB'), ('I', 'PROPN'), ('think', 'VERB'), ('for', 'ADV'), ('a', 'DET'), ('while', 'SCONJ'), (',', 'PUNCT'), ('but', 'CCONJ'), ('the', 'ART'), ('current', 'ADJ'), ('crisis', 'NORP')] "
     ]
    },
    {
     "name": "stderr",
     "output_type": "stream",
     "text": [
      " 15%|█▌        | 15/100 [00:53<06:46,  4.79s/it]"
     ]
    },
    {
     "name": "stdout",
     "output_type": "stream",
     "text": [
      "('Christmas', 'DATE'), ('Linpien', 'GPE')] "
     ]
    },
    {
     "name": "stderr",
     "output_type": "stream",
     "text": [
      " 16%|█▌        | 16/100 [00:54<05:11,  3.70s/it]"
     ]
    },
    {
     "name": "stdout",
     "output_type": "stream",
     "text": [
      "('Beirut', 'GPE')] </stop_output>"
     ]
    },
    {
     "name": "stderr",
     "output_type": "stream",
     "text": [
      " 17%|█▋        | 17/100 [00:55<03:58,  2.87s/it]"
     ]
    },
    {
     "name": "stdout",
     "output_type": "stream",
     "text": [
      "('Analysts', 'NORP'), ('oil', 'PRODUCT'), ('climb', 'TIME')] "
     ]
    },
    {
     "name": "stderr",
     "output_type": "stream",
     "text": [
      " 18%|█▊        | 18/100 [00:56<03:22,  2.47s/it]"
     ]
    },
    {
     "name": "stdout",
     "output_type": "stream",
     "text": [
      "('Shanghai', 'GPE')] [('latest statistics', 'DATE')] [('218 trade - oriented companies and organizations abroad' , 'PRODUCT')] [('6 regional overseas group companies' , 'FAC')] [('it has approved overseas non-trade enterprises reaching 200 million US dollars .' , 'MONEY')] "
     ]
    },
    {
     "name": "stderr",
     "output_type": "stream",
     "text": [
      " 19%|█▉        | 19/100 [01:00<03:45,  2.78s/it]"
     ]
    },
    {
     "name": "stdout",
     "output_type": "stream",
     "text": [
      "('Scooter', 'PERSON')] "
     ]
    },
    {
     "name": "stderr",
     "output_type": "stream",
     "text": [
      " 20%|██        | 20/100 [01:01<02:57,  2.22s/it]"
     ]
    },
    {
     "name": "stdout",
     "output_type": "stream",
     "text": [
      "('six', 'NORP')] </output>"
     ]
    },
    {
     "name": "stderr",
     "output_type": "stream",
     "text": [
      " 21%|██        | 21/100 [01:02<02:22,  1.80s/it]"
     ]
    },
    {
     "name": "stdout",
     "output_type": "stream",
     "text": [
      "('Royal', 'ORG'), ('Trustco', 'ORG'), ('Toronto', 'GPE')] "
     ]
    },
    {
     "name": "stderr",
     "output_type": "stream",
     "text": [
      " 22%|██▏       | 22/100 [01:03<02:13,  1.71s/it]"
     ]
    },
    {
     "name": "stdout",
     "output_type": "stream",
     "text": [
      "('Mexico', 'GPE'), ('Treasury Department', 'ORG'), ('1997', 'DATE'), ('US dollars', 'MONEY')] "
     ]
    },
    {
     "name": "stderr",
     "output_type": "stream",
     "text": [
      " 23%|██▎       | 23/100 [01:05<02:22,  1.85s/it]"
     ]
    },
    {
     "name": "stdout",
     "output_type": "stream",
     "text": [
      "('month', 'DATE'), ('ago', 'TIME'), ('I', 'PERSON'), ('was', 'VERB'), ('really', 'ADV'), ('desperate', 'ADJP'), ('lost', 'VERB'), ('my', 'DET'), ('current', 'ADJ'), ('job', 'PRODUCT'), ('which', 'CONJ'), ('I', 'PERSON'), ('was', 'VERB'), ('completely', 'ADV'), ('unprepared', 'ADJP'), ('for', 'PREP'), (',', 'STOPWORDS'), ('and', 'CONJ'), ('had', 'AUX'), ('to', 'TO'), ('find', 'VERB'), ('a', 'DET'), ('job', 'PRODUCT'), ('within', 'ADV'), ('a', 'DET'), ('month', 'DATE'), ('to', 'TO'), ('keep', 'VERB'), ('myself', 'PRON'), ('going', 'VER"
     ]
    },
    {
     "name": "stderr",
     "output_type": "stream",
     "text": [
      " 24%|██▍       | 24/100 [01:14<04:56,  3.91s/it]"
     ]
    },
    {
     "name": "stdout",
     "output_type": "stream",
     "text": [
      "-----------------------------------------------\n",
      "response does not contain [()]. Returned [('month', 'DATE'), ('ago', 'TIME'), ('I', 'PERSON'), ('was', 'VERB'), ('really', 'ADV'), ('desperate', 'ADJP'), ('lost', 'VERB'), ('my', 'DET'), ('current', 'ADJ'), ('job', 'PRODUCT'), ('which', 'CONJ'), ('I', 'PERSON'), ('was', 'VERB'), ('completely', 'ADV'), ('unprepared', 'ADJP'), ('for', 'PREP'), (',', 'STOPWORDS'), ('and', 'CONJ'), ('had', 'AUX'), ('to', 'TO'), ('find', 'VERB'), ('a', 'DET'), ('job', 'PRODUCT'), ('within', 'ADV'), ('a', 'DET'), ('month', 'DATE'), ('to', 'TO'), ('keep', 'VERB'), ('myself', 'PRON'), ('going', 'VER\n",
      "-----------------------------------------------\n",
      "('left', 'CARDINAL'), ('behind', 'LOC')] [('approximately', 'ORDINAL'), ('50 percent', 'PERCENT')] [('talked', 'TIME'), ('on the phone', 'FAC'), ('for three minutes or so', 'QUANTITY')] "
     ]
    },
    {
     "name": "stderr",
     "output_type": "stream",
     "text": [
      " 25%|██▌       | 25/100 [01:17<04:32,  3.64s/it]"
     ]
    },
    {
     "name": "stdout",
     "output_type": "stream",
     "text": [
      "('Pudong', 'FAC')] "
     ]
    },
    {
     "name": "stderr",
     "output_type": "stream",
     "text": [
      " 26%|██▌       | 26/100 [01:18<03:28,  2.82s/it]"
     ]
    },
    {
     "name": "stdout",
     "output_type": "stream",
     "text": [
      "('Analysts', 'ORG'), ('price', 'MONEY'), ('data', 'QUANTITY'), ('the', 'STOPWORDS'), ('grimmest', 'STOPWORDS'), ('inflation', 'EVENT'), ('news', 'WORK_OF_ART'), ('months', 'ORDINAL'), ('as', 'VERB'), ('evidence', 'PRODUCT'), ('that', 'CONJUNCTION'), ('the', 'STOPWORDS'), ('Federal', 'ORG'), ('Reserve', 'ORG'), ('was', 'VERB'), ('unlikely', 'ADJECTIVE'), ('to', 'PREPOSITION'), ('allow', 'VERB'), ('interest', 'MONEY'), ('rates', 'QUANTITY'), ('fall', 'VERB'), ('as', 'CONJUNCTION'), ('many', 'CARDINAL'), ('investors', 'ORG'), ('had', 'VERB'), ('hoped', 'WORK_OF_ART')"
     ]
    },
    {
     "name": "stderr",
     "output_type": "stream",
     "text": [
      " 27%|██▋       | 27/100 [01:26<05:30,  4.53s/it]"
     ]
    },
    {
     "name": "stdout",
     "output_type": "stream",
     "text": [
      "-----------------------------------------------\n",
      "response does not contain [()]. Returned [('Analysts', 'ORG'), ('price', 'MONEY'), ('data', 'QUANTITY'), ('the', 'STOPWORDS'), ('grimmest', 'STOPWORDS'), ('inflation', 'EVENT'), ('news', 'WORK_OF_ART'), ('months', 'ORDINAL'), ('as', 'VERB'), ('evidence', 'PRODUCT'), ('that', 'CONJUNCTION'), ('the', 'STOPWORDS'), ('Federal', 'ORG'), ('Reserve', 'ORG'), ('was', 'VERB'), ('unlikely', 'ADJECTIVE'), ('to', 'PREPOSITION'), ('allow', 'VERB'), ('interest', 'MONEY'), ('rates', 'QUANTITY'), ('fall', 'VERB'), ('as', 'CONJUNCTION'), ('many', 'CARDINAL'), ('investors', 'ORG'), ('had', 'VERB'), ('hoped', 'WORK_OF_ART')\n",
      "-----------------------------------------------\n",
      "('I', 'PERSON'), ('think', 'VERB'), ('it', 'PRONOUN'), ('is', 'VERB'), ('a', 'DET'), ('measure', 'NOUN'), ('of', 'PREP'), ('how', 'ADV'), ('much', 'NUMERAL'), ('we', 'PRONOUN'), (\"'ve\", 'AUXILIARY_VERB'), ('kind', 'ADJ'), ('of', 'PREP'), ('lost', 'VERB'), (',', 'PUNCTUATION'), ('been', 'VERB'), ('numbed', 'NOUN'), ('by', 'PREP'), ('all', 'NUMERAL'), ('of', 'PREP'), ('this', 'PRONOUN'), (\"'ve\", 'AUXILIARY_VERB'), ('that', 'CONJUNCTION'), ('.', 'PUNCTUATION')] "
     ]
    },
    {
     "name": "stderr",
     "output_type": "stream",
     "text": [
      " 28%|██▊       | 28/100 [01:35<06:53,  5.74s/it]"
     ]
    },
    {
     "name": "stdout",
     "output_type": "stream",
     "text": [
      "('Young', 'ORG'), ('&', 'PRODUCT'), ('Rubicam', 'ORG')] "
     ]
    },
    {
     "name": "stderr",
     "output_type": "stream",
     "text": [
      " 29%|██▉       | 29/100 [01:37<05:18,  4.49s/it]"
     ]
    },
    {
     "name": "stdout",
     "output_type": "stream",
     "text": [
      "('Linpien', 'GPE')] "
     ]
    },
    {
     "name": "stderr",
     "output_type": "stream",
     "text": [
      " 30%|███       | 30/100 [01:37<03:55,  3.36s/it]"
     ]
    },
    {
     "name": "stdout",
     "output_type": "stream",
     "text": [
      "('August', 'DATE'), ('23rd', 'ORDINAL')] [('US', 'GPE'), ('president', 'PERSON'), ('signed', 'VERB'), (\"'1995 financial year overseas activities fund appropriation act'\", 'WORK_OF_ART')] [('UN', 'ORG'), ('population fund', 'PRODUCT'), ('must not be used in China', 'QUANTITY')] "
     ]
    },
    {
     "name": "stderr",
     "output_type": "stream",
     "text": [
      " 31%|███       | 31/100 [01:42<04:11,  3.64s/it]"
     ]
    },
    {
     "name": "stdout",
     "output_type": "stream",
     "text": [
      "('Tianjin', 'GPE'), ('Port Bonded Area', 'FAC')] "
     ]
    },
    {
     "name": "stderr",
     "output_type": "stream",
     "text": [
      " 32%|███▏      | 32/100 [01:43<03:19,  2.93s/it]"
     ]
    },
    {
     "name": "stdout",
     "output_type": "stream",
     "text": [
      "('crude', 'PRODUCT')] "
     ]
    },
    {
     "name": "stderr",
     "output_type": "stream",
     "text": [
      " 33%|███▎      | 33/100 [01:44<02:35,  2.32s/it]"
     ]
    },
    {
     "name": "stdout",
     "output_type": "stream",
     "text": [
      "('Weatherford', 'ORG'), ('preferred - dividend payment', 'MONEY')] "
     ]
    },
    {
     "name": "stderr",
     "output_type": "stream",
     "text": [
      " 34%|███▍      | 34/100 [01:45<02:16,  2.07s/it]"
     ]
    },
    {
     "name": "stdout",
     "output_type": "stream",
     "text": [
      "('bonded', 'FAC'), ('zone', 'FAC')] "
     ]
    },
    {
     "name": "stderr",
     "output_type": "stream",
     "text": [
      " 35%|███▌      | 35/100 [01:47<01:57,  1.81s/it]"
     ]
    },
    {
     "name": "stdout",
     "output_type": "stream",
     "text": [
      "('Oklahoma City', 'GPE'), ('A-body mid-sized cars', 'PRODUCT')] "
     ]
    },
    {
     "name": "stderr",
     "output_type": "stream",
     "text": [
      " 36%|███▌      | 36/100 [01:48<01:49,  1.72s/it]"
     ]
    },
    {
     "name": "stdout",
     "output_type": "stream",
     "text": [
      "('four', 'CARDINAL'), ('dissenters', 'PERSON')] "
     ]
    },
    {
     "name": "stderr",
     "output_type": "stream",
     "text": [
      " 37%|███▋      | 37/100 [01:49<01:35,  1.52s/it]"
     ]
    },
    {
     "name": "stdout",
     "output_type": "stream",
     "text": [
      "('Li', 'PERSON'), ('Yung', 'PERSON')] "
     ]
    },
    {
     "name": "stderr",
     "output_type": "stream",
     "text": [
      " 38%|███▊      | 38/100 [01:50<01:27,  1.41s/it]"
     ]
    },
    {
     "name": "stdout",
     "output_type": "stream",
     "text": [
      "('Brazil', 'GPE')] "
     ]
    },
    {
     "name": "stderr",
     "output_type": "stream",
     "text": [
      " 39%|███▉      | 39/100 [01:51<01:17,  1.26s/it]"
     ]
    },
    {
     "name": "stdout",
     "output_type": "stream",
     "text": [
      "('$', 'MONEY'), ('60', 'CARDINAL')] "
     ]
    },
    {
     "name": "stderr",
     "output_type": "stream",
     "text": [
      " 40%|████      | 40/100 [01:52<01:16,  1.27s/it]"
     ]
    },
    {
     "name": "stdout",
     "output_type": "stream",
     "text": [
      "('Pursuing', 'NORP'), ('some', 'STOPWORDS'), ('dream', 'STOPWORDS'), ('of', 'STOPWORDS'), ('really', 'STOPWORDS'), ('making', 'STOPWORDS'), ('it', 'STOPWORDS'), ('big' , 'STOPWORDS')] "
     ]
    },
    {
     "name": "stderr",
     "output_type": "stream",
     "text": [
      " 41%|████      | 41/100 [01:56<01:47,  1.82s/it]"
     ]
    },
    {
     "name": "stdout",
     "output_type": "stream",
     "text": [
      "('Beijing', 'GPE')] "
     ]
    },
    {
     "name": "stderr",
     "output_type": "stream",
     "text": [
      " 42%|████▏     | 42/100 [01:56<01:29,  1.54s/it]"
     ]
    },
    {
     "name": "stdout",
     "output_type": "stream",
     "text": [
      "('boundless', 'QUANTITY'), ('industrial park', 'FAC')] "
     ]
    },
    {
     "name": "stderr",
     "output_type": "stream",
     "text": [
      " 43%|████▎     | 43/100 [01:58<01:23,  1.46s/it]"
     ]
    },
    {
     "name": "stdout",
     "output_type": "stream",
     "text": [
      "('scale', 'QUANTITY'), ('our', 'NORP'), ('urbanization', 'GPE'), ('1', 'CARDINAL'), ('%', 'PERCENT')] "
     ]
    },
    {
     "name": "stderr",
     "output_type": "stream",
     "text": [
      " 44%|████▍     | 44/100 [02:00<01:31,  1.64s/it]"
     ]
    },
    {
     "name": "stdout",
     "output_type": "stream",
     "text": [
      "('POW', 'ORG')] "
     ]
    },
    {
     "name": "stderr",
     "output_type": "stream",
     "text": [
      " 45%|████▌     | 45/100 [02:01<01:18,  1.42s/it]"
     ]
    },
    {
     "name": "stdout",
     "output_type": "stream",
     "text": [
      "('Arianna Huffington', 'PERSON'), ('Times piece', 'ORG'), ('lengthy piece', 'WORK_OF_ART'), ('Judy Miller', 'PERSON'), ('WMD reporting', 'PRODUCT')] /. "
     ]
    },
    {
     "name": "stderr",
     "output_type": "stream",
     "text": [
      " 46%|████▌     | 46/100 [02:03<01:37,  1.81s/it]"
     ]
    },
    {
     "name": "stdout",
     "output_type": "stream",
     "text": [
      "('He', 'PERSON'), ('sat', 'VERB'), ('out', 'VERB'), ('1', 'CARDINAL'), ('term', 'WORK_OF_ART'), ('after', 'PREP'), ('losing', 'VERB'), ('a', 'DET'), ('U.S.', 'ORG'), ('Senate', 'PRODUCT'), ('race', 'NOUN'), ('in', 'INFINITIVE'), ('the', 'DET'), ('1960s', 'DATE'), (',', 'PUNCTUATION'), ('but', 'CONJ'), ('for', 'PREP'), ('24', 'CARDINAL'), ('terms', 'NOUN'), (',', 'PUNCTUATION'), ('Yates', 'PERSON'), ('represented', 'VERB'), ('Chicago\\'s', 'DET'), ('northern', 'ADJ'), ('lake', 'WORK_OF_ART'), ('front', '"
     ]
    },
    {
     "name": "stderr",
     "output_type": "stream",
     "text": [
      " 47%|████▋     | 47/100 [02:12<03:23,  3.84s/it]"
     ]
    },
    {
     "name": "stdout",
     "output_type": "stream",
     "text": [
      "-----------------------------------------------\n",
      "response does not contain [()]. Returned [('He', 'PERSON'), ('sat', 'VERB'), ('out', 'VERB'), ('1', 'CARDINAL'), ('term', 'WORK_OF_ART'), ('after', 'PREP'), ('losing', 'VERB'), ('a', 'DET'), ('U.S.', 'ORG'), ('Senate', 'PRODUCT'), ('race', 'NOUN'), ('in', 'INFINITIVE'), ('the', 'DET'), ('1960s', 'DATE'), (',', 'PUNCTUATION'), ('but', 'CONJ'), ('for', 'PREP'), ('24', 'CARDINAL'), ('terms', 'NOUN'), (',', 'PUNCTUATION'), ('Yates', 'PERSON'), ('represented', 'VERB'), ('Chicago\\'s', 'DET'), ('northern', 'ADJ'), ('lake', 'WORK_OF_ART'), ('front', '\n",
      "-----------------------------------------------\n",
      "('Time', 'ORG')] "
     ]
    },
    {
     "name": "stderr",
     "output_type": "stream",
     "text": [
      " 48%|████▊     | 48/100 [02:13<02:33,  2.95s/it]"
     ]
    },
    {
     "name": "stdout",
     "output_type": "stream",
     "text": [
      "('Today', 'DATE'), ('Brown', 'PERSON'), ('Westinghouse', 'PRODUCT'), ('Shanghai Electric Group', 'FAC'), ('General Electric Capital Company', 'ORG')] "
     ]
    },
    {
     "name": "stderr",
     "output_type": "stream",
     "text": [
      " 49%|████▉     | 49/100 [02:15<02:21,  2.78s/it]"
     ]
    },
    {
     "name": "stdout",
     "output_type": "stream",
     "text": [
      "('FBI', 'ORG'), ('Yemen', 'GPE')] "
     ]
    },
    {
     "name": "stderr",
     "output_type": "stream",
     "text": [
      " 50%|█████     | 50/100 [02:16<01:55,  2.30s/it]"
     ]
    },
    {
     "name": "stdout",
     "output_type": "stream",
     "text": [
      "('Export', 'NORP'), ('credits', 'MONEY'), ('international', 'GPE'), ('financing', 'LAW'), ('leaseholds', 'FAC'), ('compensation', 'QUANTITY'), ('trades', 'PRODUCT'), ('with', 'VERB'), ('foreign', 'NORP'), ('exchange', 'MONEY'), ('repayment', 'PERCENT'), ('methods', 'LAW'), ('overseas', 'GPE'), ('institution''s', 'ORG'), ('and', 'CONJUNCTION'), ('individual ''s', 'NORP'), ('foreign', 'NORP'), ('exchange', 'MONEY'), ('deposits', 'QUANTITY'), ('-LRB-', 'STOPWORDS'), ('excluding', 'VERB'), ('foreign', 'NORP'), ('exchange', 'MONEY'), ('deposits', 'QUANTITY'),"
     ]
    },
    {
     "name": "stderr",
     "output_type": "stream",
     "text": [
      " 51%|█████     | 51/100 [02:25<03:30,  4.29s/it]"
     ]
    },
    {
     "name": "stdout",
     "output_type": "stream",
     "text": [
      "-----------------------------------------------\n",
      "response does not contain [()]. Returned [('Export', 'NORP'), ('credits', 'MONEY'), ('international', 'GPE'), ('financing', 'LAW'), ('leaseholds', 'FAC'), ('compensation', 'QUANTITY'), ('trades', 'PRODUCT'), ('with', 'VERB'), ('foreign', 'NORP'), ('exchange', 'MONEY'), ('repayment', 'PERCENT'), ('methods', 'LAW'), ('overseas', 'GPE'), ('institution''s', 'ORG'), ('and', 'CONJUNCTION'), ('individual ''s', 'NORP'), ('foreign', 'NORP'), ('exchange', 'MONEY'), ('deposits', 'QUANTITY'), ('-LRB-', 'STOPWORDS'), ('excluding', 'VERB'), ('foreign', 'NORP'), ('exchange', 'MONEY'), ('deposits', 'QUANTITY'),\n",
      "-----------------------------------------------\n",
      "('We', 'NORP')] [('are', 'VERB')] [('currently', 'ADV')] [('re-evaluating', 'VERB')] [('our', 'PRON')] [('positions' , 'PRODUCT')] [(',', 'STOPWORDS')] [('we', 'NORP')] [('want', 'VERB')] [('to', 'ADV')] [('stop', 'VERB')] [('the', 'PRON')] [('bloodshed' , 'PRODUCT')] [(',', 'STOPWORDS')] [('on', 'PREP')] [('both', 'CARDINAL')] [('sides' , 'GPE')] [('and', 'CONJUNCTION')] [('so', 'ADV')] [('our', 'PRON')] [('offer' , 'PRODUCT')] [(',', 'STOP"
     ]
    },
    {
     "name": "stderr",
     "output_type": "stream",
     "text": [
      " 52%|█████▏    | 52/100 [02:34<04:30,  5.64s/it]"
     ]
    },
    {
     "name": "stdout",
     "output_type": "stream",
     "text": [
      "('Rod', 'PERSON')] "
     ]
    },
    {
     "name": "stderr",
     "output_type": "stream",
     "text": [
      " 53%|█████▎    | 53/100 [02:35<03:18,  4.21s/it]"
     ]
    },
    {
     "name": "stdout",
     "output_type": "stream",
     "text": [
      "('Looking', 'TIME'), ('back', 'TIME'), ('at', 'WORK_OF_ART'), ('my', 'NORP'), ('life', 'GPE'), (',', 'STOPWORDS'), (\"'ve\", 'VERB')]\n",
      "### ASSISTANT : <start_output> [('Looking', 'TIME'), ('back', 'TIME'), ('at', 'WORK_OF_ART'), ('my', 'NORP'), ('life', 'GPE'), (',', 'STOPWORDS'), (\"'ve\", 'VERB')]\n",
      "### ASSISTANT : <start_output> [('Looking', 'TIME'), ('back', 'TIME'), ('at', 'WORK_OF_ART'), ('my', 'NORP'), ('life', 'GPE'), (',', 'STOPWORDS'), (\"'ve\", 'VERB')]\n",
      "### ASSISTANT : <start_output> [('Looking', 'TIME'), ('back', 'TIME'), ('at"
     ]
    },
    {
     "name": "stderr",
     "output_type": "stream",
     "text": [
      " 54%|█████▍    | 54/100 [02:44<04:21,  5.68s/it]"
     ]
    },
    {
     "name": "stdout",
     "output_type": "stream",
     "text": [
      "('one', 'CARDINAL'), ('friend', 'PERSON'), ('offer', 'PRODUCT')] "
     ]
    },
    {
     "name": "stderr",
     "output_type": "stream",
     "text": [
      " 55%|█████▌    | 55/100 [02:46<03:19,  4.43s/it]"
     ]
    },
    {
     "name": "stdout",
     "output_type": "stream",
     "text": [
      "('Interestingly', 'NORP'), ('enough', 'ORDINAL'), ('she', 'PERSON'), ('is', 'VERB'), ('quoted', 'WORK_OF_ART'), ('as', 'ADV'), ('telling', 'VERB'), ('General', 'PRODUCT'), ('Sanholi', 'PERSON'), ('back', 'ADP'), ('to', 'TO'), ('the', 'STOPWORDS'), ('US', 'GPE'), ('that', 'CONJUNCTION'), ('she', 'PERSON'), ('did', 'VERB'), ('not', 'NEGATION'), ('really', 'ADV'), ('get', 'VERB'), ('too', 'ORDINAL'), ('much', 'STOPWORDS'), ('of', 'PREPOSITION'), ('a', 'ARTICLE'), ('reception', 'WORK_OF_ART'), ('from', 'PREPOSITION'), ('Bashar', 'PERSON'), ('Al', 'PRODUCT"
     ]
    },
    {
     "name": "stderr",
     "output_type": "stream",
     "text": [
      " 56%|█████▌    | 56/100 [02:55<04:15,  5.80s/it]"
     ]
    },
    {
     "name": "stdout",
     "output_type": "stream",
     "text": [
      "-----------------------------------------------\n",
      "response does not contain [()]. Returned [('Interestingly', 'NORP'), ('enough', 'ORDINAL'), ('she', 'PERSON'), ('is', 'VERB'), ('quoted', 'WORK_OF_ART'), ('as', 'ADV'), ('telling', 'VERB'), ('General', 'PRODUCT'), ('Sanholi', 'PERSON'), ('back', 'ADP'), ('to', 'TO'), ('the', 'STOPWORDS'), ('US', 'GPE'), ('that', 'CONJUNCTION'), ('she', 'PERSON'), ('did', 'VERB'), ('not', 'NEGATION'), ('really', 'ADV'), ('get', 'VERB'), ('too', 'ORDINAL'), ('much', 'STOPWORDS'), ('of', 'PREPOSITION'), ('a', 'ARTICLE'), ('reception', 'WORK_OF_ART'), ('from', 'PREPOSITION'), ('Bashar', 'PERSON'), ('Al', 'PRODUCT\n",
      "-----------------------------------------------\n",
      "('Unseasonably', 'TIME'), ('hot' , 'ORDINAL')] [('dry', 'QUANTITY')] [('weather', 'WORK_OF_ART')] [('across', 'LOC')] [('large', 'CARDINAL')] [('portions', 'NORP')] [('of' , 'PREPOSITION')] [('the' , 'DET')] [('Great Plains', 'GPE')] [('and' , 'CONJUNCTION')] [('in' , 'PREPOSITION')] [('wheat- growing areas' , 'FAC')] [('in' , 'PREPOSITION')] [('Washington' , 'LOC')] [('and', 'CONJUNCTION')] [('Oregon' , 'GPE')] [('is' , 'VERB')] [('threatening' , 'WORK_OF_ART')] [('to' , '"
     ]
    },
    {
     "name": "stderr",
     "output_type": "stream",
     "text": [
      " 57%|█████▋    | 57/100 [03:03<04:45,  6.63s/it]"
     ]
    },
    {
     "name": "stdout",
     "output_type": "stream",
     "text": [
      "('wonders', 'WORK_OF_ART')] "
     ]
    },
    {
     "name": "stderr",
     "output_type": "stream",
     "text": [
      " 58%|█████▊    | 58/100 [03:04<03:27,  4.95s/it]"
     ]
    },
    {
     "name": "stdout",
     "output_type": "stream",
     "text": [
      "('China', 'GPE'), ('unreported income', 'MONEY')] "
     ]
    },
    {
     "name": "stderr",
     "output_type": "stream",
     "text": [
      " 59%|█████▉    | 59/100 [03:06<02:38,  3.86s/it]"
     ]
    },
    {
     "name": "stdout",
     "output_type": "stream",
     "text": [
      "('more', 'CARDINAL'), ('than', 'ORDINAL'), ('50', 'CARDINAL'), ('new', 'NORP'), ('breeds', 'PRODUCT'), ('such', 'QUANTIFIER'), ('as', 'CONJUNCTION'), ('melons', 'WORK_OF_ART'), ('vegetables', 'PRODUCT'), ('flowers', 'WORK_OF_ART'), ('and', 'CONJUNCTION'), ('fruit trees', 'PRODUCT'), ('.', 'PUNCTUATION'), ('etc.', 'OTHERS'), ('have', 'VERB'), ('successively', 'ADV'), ('been', 'AUXILIARY'), ('introduced', 'VERB'), ('from', 'PREPOSITION'), ('countries', 'GPE'), (',', 'PUNCTUATION'), ('such', 'QUANTIFIER'), ('as', 'CONJUNCTION'), ('US', 'GPE'),"
     ]
    },
    {
     "name": "stderr",
     "output_type": "stream",
     "text": [
      " 60%|██████    | 60/100 [03:14<03:30,  5.26s/it]"
     ]
    },
    {
     "name": "stdout",
     "output_type": "stream",
     "text": [
      "-----------------------------------------------\n",
      "response does not contain [()]. Returned [('more', 'CARDINAL'), ('than', 'ORDINAL'), ('50', 'CARDINAL'), ('new', 'NORP'), ('breeds', 'PRODUCT'), ('such', 'QUANTIFIER'), ('as', 'CONJUNCTION'), ('melons', 'WORK_OF_ART'), ('vegetables', 'PRODUCT'), ('flowers', 'WORK_OF_ART'), ('and', 'CONJUNCTION'), ('fruit trees', 'PRODUCT'), ('.', 'PUNCTUATION'), ('etc.', 'OTHERS'), ('have', 'VERB'), ('successively', 'ADV'), ('been', 'AUXILIARY'), ('introduced', 'VERB'), ('from', 'PREPOSITION'), ('countries', 'GPE'), (',', 'PUNCTUATION'), ('such', 'QUANTIFIER'), ('as', 'CONJUNCTION'), ('US', 'GPE'),\n",
      "-----------------------------------------------\n",
      "('last', 'ORDINAL'), ('two', 'CARDINAL'), ('years', 'DATE')] [('he', 'PERSON')] [('led', 'VERB')] [('task force', 'ORG')] [('to conduct', 'VERB')] [('many', 'QUANTITY')] [('field interviews and investigations on left - behind children in numerous rural areas in central and western China , including Shaanxi , Ningxia , Hebei , and Beijing .', 'DATE'), ('Shaanxi', 'GPE'), ('Ningxia', 'GPE'), ('Hebei', 'GPE'), ('Beijing', 'GPE')] [('in the last two years , he has led the task force to conduct many field interviews and investigations on left - behind children in numerous rural areas in central and western China , including Shaanxi , Ningxia , Hebei , and Beijing .', 'DATE'), ('last', '"
     ]
    },
    {
     "name": "stderr",
     "output_type": "stream",
     "text": [
      " 61%|██████    | 61/100 [03:23<04:05,  6.30s/it]"
     ]
    },
    {
     "name": "stdout",
     "output_type": "stream",
     "text": [
      "('Lee', 'PERSON'), ('Yuan - tseh', 'PERSON')] "
     ]
    },
    {
     "name": "stderr",
     "output_type": "stream",
     "text": [
      " 62%|██████▏   | 62/100 [03:24<03:00,  4.74s/it]"
     ]
    },
    {
     "name": "stdout",
     "output_type": "stream",
     "text": [
      "('dancer', 'PERSON')] "
     ]
    },
    {
     "name": "stderr",
     "output_type": "stream",
     "text": [
      " 63%|██████▎   | 63/100 [03:25<02:12,  3.58s/it]"
     ]
    },
    {
     "name": "stdout",
     "output_type": "stream",
     "text": [
      "('North', 'GPE'), ('Koreans', 'PERSON')] </output>"
     ]
    },
    {
     "name": "stderr",
     "output_type": "stream",
     "text": [
      " 64%|██████▍   | 64/100 [03:26<01:43,  2.86s/it]"
     ]
    },
    {
     "name": "stdout",
     "output_type": "stream",
     "text": [
      "('3', 'CARDINAL'), ('Taiwan', 'GPE')] [('Dong', 'FAC')] [('guan', 'FAC')] [('area', 'LOC')] [('has', 'VERB')] [('already', 'ADV')] [('developed', 'VERB')] [('economic circle', 'NORP')] [('in which', 'PREP')] [('Taiwan firms', 'ORG')] [('can', 'AUX')] [('conduct', 'VERB')] [('most', 'CARDINAL')] [('of their business', 'NOUN')] [('among themselves', 'ADV')] "
     ]
    },
    {
     "name": "stderr",
     "output_type": "stream",
     "text": [
      " 65%|██████▌   | 65/100 [03:33<02:20,  4.02s/it]"
     ]
    },
    {
     "name": "stdout",
     "output_type": "stream",
     "text": [
      "('new', 'WORK_OF_ART'), ('show', 'PRODUCT')] "
     ]
    },
    {
     "name": "stderr",
     "output_type": "stream",
     "text": [
      " 66%|██████▌   | 66/100 [03:34<01:48,  3.18s/it]"
     ]
    },
    {
     "name": "stdout",
     "output_type": "stream",
     "text": [
      "('Taichung', 'GPE'), ('Goose', 'WORK_OF_ART'), ('Ah - shui Shih ', 'PERSON'), ('Pig Knuckle Kingdom', 'PRODUCT'), ('Yungho Soy Milk', 'PRODUCT'), ('Mantu Hair Salon', 'FAC')] "
     ]
    },
    {
     "name": "stderr",
     "output_type": "stream",
     "text": [
      " 67%|██████▋   | 67/100 [03:37<01:44,  3.17s/it]"
     ]
    },
    {
     "name": "stdout",
     "output_type": "stream",
     "text": [
      "('Students', 'PERSON')] "
     ]
    },
    {
     "name": "stderr",
     "output_type": "stream",
     "text": [
      " 68%|██████▊   | 68/100 [03:38<01:19,  2.48s/it]"
     ]
    },
    {
     "name": "stdout",
     "output_type": "stream",
     "text": [
      "('Lee', 'PERSON'), ('Teng', 'PERSON'), ('hui', 'PERSON')] "
     ]
    },
    {
     "name": "stderr",
     "output_type": "stream",
     "text": [
      " 69%|██████▉   | 69/100 [03:39<01:07,  2.18s/it]"
     ]
    },
    {
     "name": "stdout",
     "output_type": "stream",
     "text": [
      "('west', 'GPE')] [('east', 'GPE')] [('news', 'LAW')] </stop_output>"
     ]
    },
    {
     "name": "stderr",
     "output_type": "stream",
     "text": [
      " 70%|███████   | 70/100 [03:41<00:57,  1.93s/it]"
     ]
    },
    {
     "name": "stdout",
     "output_type": "stream",
     "text": [
      "('Formosa', 'ORG'), ('Plastics', 'PRODUCT')] "
     ]
    },
    {
     "name": "stderr",
     "output_type": "stream",
     "text": [
      " 71%|███████   | 71/100 [03:42<00:49,  1.72s/it]"
     ]
    },
    {
     "name": "stdout",
     "output_type": "stream",
     "text": [
      "('North', 'GPE')] </end_output>"
     ]
    },
    {
     "name": "stderr",
     "output_type": "stream",
     "text": [
      " 72%|███████▏  | 72/100 [03:43<00:41,  1.48s/it]"
     ]
    },
    {
     "name": "stdout",
     "output_type": "stream",
     "text": [
      "('Many', 'NORP'), ('others', 'NORP'), ('at', 'TIME'), ('the', 'STOPWORDS'), ('same', 'NORP'), ('time', 'TIME'), ('in', 'PREPOSITION'), ('life', 'GPE'), ('have', 'VERB'), ('opted', 'VERB'), ('to', 'PREPOSITION'), ('take', 'VERB'), ('early', 'ADJECTIVE'), ('retirement', 'PRODUCT'), ('and', 'CONJUNCTION'), ('find', 'VERB'), ('a', 'ARTICLE'), ('guru', 'PERSON'), ('in', 'PREPOSITION'), ('India', 'GPE'), (',', ',') ,('work', 'VERB'), ('as', 'PREPOSITION'), ('a', 'ARTICLE'), ('volunteer', 'PRODUCT'), ('or', 'CONJUNCTION'), ('do', 'VERB'), ('whatever', 'ADJECTIVE"
     ]
    },
    {
     "name": "stderr",
     "output_type": "stream",
     "text": [
      " 73%|███████▎  | 73/100 [03:52<01:38,  3.65s/it]"
     ]
    },
    {
     "name": "stdout",
     "output_type": "stream",
     "text": [
      "-----------------------------------------------\n",
      "response does not contain [()]. Returned [('Many', 'NORP'), ('others', 'NORP'), ('at', 'TIME'), ('the', 'STOPWORDS'), ('same', 'NORP'), ('time', 'TIME'), ('in', 'PREPOSITION'), ('life', 'GPE'), ('have', 'VERB'), ('opted', 'VERB'), ('to', 'PREPOSITION'), ('take', 'VERB'), ('early', 'ADJECTIVE'), ('retirement', 'PRODUCT'), ('and', 'CONJUNCTION'), ('find', 'VERB'), ('a', 'ARTICLE'), ('guru', 'PERSON'), ('in', 'PREPOSITION'), ('India', 'GPE'), (',', ',') ,('work', 'VERB'), ('as', 'PREPOSITION'), ('a', 'ARTICLE'), ('volunteer', 'PRODUCT'), ('or', 'CONJUNCTION'), ('do', 'VERB'), ('whatever', 'ADJECTIVE\n",
      "-----------------------------------------------\n",
      "('companies', 'ORG')] [('buy-outs', 'PRODUCT')] [('federal tax refunds', 'MONEY')] [('interest payments on debt issued to finance the buy - outs' , 'QUANTITY')] [('Aug. 2, 1989', 'DATE')] "
     ]
    },
    {
     "name": "stderr",
     "output_type": "stream",
     "text": [
      " 74%|███████▍  | 74/100 [03:55<01:31,  3.51s/it]"
     ]
    },
    {
     "name": "stdout",
     "output_type": "stream",
     "text": [
      "('Iraq', 'GPE')] "
     ]
    },
    {
     "name": "stderr",
     "output_type": "stream",
     "text": [
      " 75%|███████▌  | 75/100 [03:56<01:08,  2.74s/it]"
     ]
    },
    {
     "name": "stdout",
     "output_type": "stream",
     "text": [
      "('We', 'MONEY'), ('make', 'VERB'), ('our', 'PRONOUN'), ('money', 'MONEY'), ('here', 'LOC'), (',', 'STOPWORDS'), (\"but\", \"CONJ\"), ('we', 'PRONOUN'), ('pay', 'VERB'), ('taxes', 'MONEY'), ('in', 'PREP'), ('Taiwan', 'GPE'), ',', 'STOPWORDS'], [('and', 'CONJ'), ('most', 'QUANTITY'), ('of', 'DET'), ('our', 'PRONOUN'), ('families', 'ORG'), ('and', 'CONJ'), ('children', 'PERSON'), ('do', 'VERB'), ('most', 'QUANTITY'), ('their', 'PRONOUN'), ('consumer', 'PRODUCT'), ('spending', 'NORP'), ('in', 'PREP'), ('Taiwan', 'GPE')],"
     ]
    },
    {
     "name": "stderr",
     "output_type": "stream",
     "text": [
      " 76%|███████▌  | 76/100 [04:07<02:07,  5.33s/it]"
     ]
    },
    {
     "name": "stdout",
     "output_type": "stream",
     "text": [
      "('National', 'GPE'), ('Economy', 'NORP')] "
     ]
    },
    {
     "name": "stderr",
     "output_type": "stream",
     "text": [
      " 77%|███████▋  | 77/100 [04:08<01:31,  3.99s/it]"
     ]
    },
    {
     "name": "stdout",
     "output_type": "stream",
     "text": [
      "('Republican', 'ORG'), ('senators', 'PERSON')] "
     ]
    },
    {
     "name": "stderr",
     "output_type": "stream",
     "text": [
      " 78%|███████▊  | 78/100 [04:10<01:13,  3.34s/it]"
     ]
    },
    {
     "name": "stdout",
     "output_type": "stream",
     "text": [
      "('one', 'PERSON'), ('quiver', 'FAC'), ('arrows', 'QUANTITY'), ('opportunities', 'PRODUCT')] "
     ]
    },
    {
     "name": "stderr",
     "output_type": "stream",
     "text": [
      " 79%|███████▉  | 79/100 [04:13<01:06,  3.18s/it]"
     ]
    },
    {
     "name": "stdout",
     "output_type": "stream",
     "text": [
      "('Chinese', 'GPE'), ('society', 'GPE'), ('people', 'NORP')] "
     ]
    },
    {
     "name": "stderr",
     "output_type": "stream",
     "text": [
      " 80%|████████  | 80/100 [04:15<00:57,  2.89s/it]"
     ]
    },
    {
     "name": "stdout",
     "output_type": "stream",
     "text": [
      "('CIA', 'ORG'), ('Pentagon', 'FAC')] "
     ]
    },
    {
     "name": "stderr",
     "output_type": "stream",
     "text": [
      " 81%|████████  | 81/100 [04:17<00:48,  2.57s/it]"
     ]
    },
    {
     "name": "stdout",
     "output_type": "stream",
     "text": [
      "('Cocom', 'ORG')] "
     ]
    },
    {
     "name": "stderr",
     "output_type": "stream",
     "text": [
      " 82%|████████▏ | 82/100 [04:17<00:36,  2.03s/it]"
     ]
    },
    {
     "name": "stdout",
     "output_type": "stream",
     "text": [
      "('Time', 'ORG')] "
     ]
    },
    {
     "name": "stderr",
     "output_type": "stream",
     "text": [
      " 83%|████████▎ | 83/100 [04:19<00:30,  1.78s/it]"
     ]
    },
    {
     "name": "stdout",
     "output_type": "stream",
     "text": [
      "('the', 'ORDINAL'), ('first', 'CARDINAL')] "
     ]
    },
    {
     "name": "stderr",
     "output_type": "stream",
     "text": [
      " 84%|████████▍ | 84/100 [04:20<00:28,  1.79s/it]"
     ]
    },
    {
     "name": "stdout",
     "output_type": "stream",
     "text": [
      "('Rumsfeld', 'PERSON'), ('we', 'MISC')] "
     ]
    },
    {
     "name": "stderr",
     "output_type": "stream",
     "text": [
      " 85%|████████▌ | 85/100 [04:22<00:27,  1.82s/it]"
     ]
    },
    {
     "name": "stdout",
     "output_type": "stream",
     "text": [
      "('Miller', 'PERSON'), ('Scooter Libby', 'ORG'), ('Dick Cheney', 'PERSON')] </end_output>"
     ]
    },
    {
     "name": "stderr",
     "output_type": "stream",
     "text": [
      " 86%|████████▌ | 86/100 [04:25<00:28,  2.06s/it]"
     ]
    },
    {
     "name": "stdout",
     "output_type": "stream",
     "text": [
      "('It', 'PRON')] [('is', 'VERB')] [('not', 'ADV')] [('only', 'ADJ')] [(',', ',')] [('for', 'PREP')] [(',', ',')] [('this', 'DET')] [('kind', 'NOUN')] [('of', 'CONJ')] [('sudden', 'ADV')] [('road', 'NOUN')] [('cave - in', 'VERB')] , it also includes , for instance , security incidents , ah , in our society , as well as natural disasters , ah , and including public health incidents . "
     ]
    },
    {
     "name": "stderr",
     "output_type": "stream",
     "text": [
      " 87%|████████▋ | 87/100 [04:34<00:54,  4.16s/it]"
     ]
    },
    {
     "name": "stdout",
     "output_type": "stream",
     "text": [
      "('He', 'PERSON'), ('concluded', 'VERB'), ('his', 'PRONOUN'), ('remarks', 'NOUN'), ('by', 'PREP'), ('quoting', 'VERB'), (',', 'STOPWORDS'), ('emotionally', 'ADV'), ('and', 'CONJ'), ('at', 'PREP'), ('some', 'DET'), ('length', 'NOUN'), (',', 'STOPWORDS'), ('according', 'VERB'), ('to', 'PREP'), ('those', 'PRONOUN'), ('present', 'ADV'), (',', 'STOPWORDS'), ('the', 'ARTICLE'), ('late', 'ADJ'), ('Martin', 'PERSON'), ('Luther', 'PERSON'), ('King', 'PERSON'), ('''s', 'POSSESSIVE_PRONOUN'), ('famous', 'ADJ'), (``, '', 'STOPWORDS'), ('I', 'ARTICLE"
     ]
    },
    {
     "name": "stderr",
     "output_type": "stream",
     "text": [
      " 88%|████████▊ | 88/100 [04:46<01:19,  6.63s/it]"
     ]
    },
    {
     "name": "stdout",
     "output_type": "stream",
     "text": [
      "-----------------------------------------------\n",
      "response does not contain [()]. Returned [('He', 'PERSON'), ('concluded', 'VERB'), ('his', 'PRONOUN'), ('remarks', 'NOUN'), ('by', 'PREP'), ('quoting', 'VERB'), (',', 'STOPWORDS'), ('emotionally', 'ADV'), ('and', 'CONJ'), ('at', 'PREP'), ('some', 'DET'), ('length', 'NOUN'), (',', 'STOPWORDS'), ('according', 'VERB'), ('to', 'PREP'), ('those', 'PRONOUN'), ('present', 'ADV'), (',', 'STOPWORDS'), ('the', 'ARTICLE'), ('late', 'ADJ'), ('Martin', 'PERSON'), ('Luther', 'PERSON'), ('King', 'PERSON'), ('''s', 'POSSESSIVE_PRONOUN'), ('famous', 'ADJ'), (``, '', 'STOPWORDS'), ('I', 'ARTICLE\n",
      "-----------------------------------------------\n",
      "('S&L', 'ORG'), ('lawyers', 'PERSON'), ('appellate', 'LAW'), ('court', 'FAC'), ('ruling', 'EVENT'), ('cases', 'EVENT'), ('Sunbelt', 'PRODUCT'), ('Dallas', 'LOC'), ('Valley Ranch', 'WORK_OF_ART'), ('Cowboys', 'ORG')] "
     ]
    },
    {
     "name": "stderr",
     "output_type": "stream",
     "text": [
      " 89%|████████▉ | 89/100 [04:52<01:10,  6.43s/it]"
     ]
    },
    {
     "name": "stdout",
     "output_type": "stream",
     "text": [
      "('$', 'MONEY')] [('239', 'CARDINAL')] [('million', 'QUANTITY')] [('by', 'VERB')] [('charging', 'VERB')] [('fees', 'PRODUCT')] [('for', 'PREP')] [('commercial', 'NORP')] [('airline', 'PRODUCT')] [('- landing rights', 'FAC')] [('at', 'PREP')] [('New York ', 'GPE')] [(',', 'STOPWORD')] [('s', 'STOPWORD')] [('LaGuardia', 'LOC')] [('and', 'CONJUNCTION')] [('John F. Kennedy International Airports , O'Hare International Airport in Chicago and National Airport in Washington .', 'GPE')] "
     ]
    },
    {
     "name": "stderr",
     "output_type": "stream",
     "text": [
      " 90%|█████████ | 90/100 [05:04<01:20,  8.00s/it]"
     ]
    },
    {
     "name": "stdout",
     "output_type": "stream",
     "text": [
      "('Australia', 'GPE'), ('Shandong Stock - holding Company , Ltd.', 'ORG')] "
     ]
    },
    {
     "name": "stderr",
     "output_type": "stream",
     "text": [
      " 91%|█████████ | 91/100 [05:06<00:54,  6.10s/it]"
     ]
    },
    {
     "name": "stdout",
     "output_type": "stream",
     "text": [
      "('industry', 'GPE')] "
     ]
    },
    {
     "name": "stderr",
     "output_type": "stream",
     "text": [
      " 92%|█████████▏| 92/100 [05:07<00:37,  4.64s/it]"
     ]
    },
    {
     "name": "stdout",
     "output_type": "stream",
     "text": [
      "('97,963', 'QUAN'), ('employed people', 'NORP'), ('and', 'STOPWORDS'), ('registered capital', 'MONEY'), ('of private enterprises', 'FAC'), ('is more than 3.08 billion yuan', 'MONEY'), ('.', 'STOPWORDS'), ('respectively', 'STOPWORDS'), ('10 % to 20 % higher', 'QUAN'), ('than that of the same period of the previous year .', 'DATE')] "
     ]
    },
    {
     "name": "stderr",
     "output_type": "stream",
     "text": [
      " 93%|█████████▎| 93/100 [05:15<00:39,  5.59s/it]"
     ]
    },
    {
     "name": "stdout",
     "output_type": "stream",
     "text": [
      "('Israel', 'GPE')] "
     ]
    },
    {
     "name": "stderr",
     "output_type": "stream",
     "text": [
      " 94%|█████████▍| 94/100 [05:15<00:24,  4.09s/it]"
     ]
    },
    {
     "name": "stdout",
     "output_type": "stream",
     "text": [
      "('Hertz', 'ORG'), ('Avis', 'ORG')] "
     ]
    },
    {
     "name": "stderr",
     "output_type": "stream",
     "text": [
      " 95%|█████████▌| 95/100 [05:17<00:17,  3.41s/it]"
     ]
    },
    {
     "name": "stdout",
     "output_type": "stream",
     "text": [
      "('Chen', 'PERSON'), ('Shui - bian', 'PERSON')] "
     ]
    },
    {
     "name": "stderr",
     "output_type": "stream",
     "text": [
      " 96%|█████████▌| 96/100 [05:19<00:11,  2.97s/it]"
     ]
    },
    {
     "name": "stdout",
     "output_type": "stream",
     "text": [
      "('official', 'NORP'), ('actions', 'EVENT'), ('aimed', 'VERB'), ('at', 'ADV'), ('takeovers', 'PRODUCT'), (',', 'STOPWORDS'), ('then', 'ADV'), ('by', 'PREPOSITION'), ('the', 'DET'), ('tax', 'MONEY'), ('-', 'PUNCTUATION'), ('writing', 'VERB'), ('House', 'ORG'), ('Ways', 'NORP'), ('and', 'CONJUNCTION'), ('Means', 'NORP'), ('Committee', 'ORG'), (',', 'STOPWORDS'), ('rather', 'ADV'), ('than', 'PREPOSITION'), ('the', 'DET'), ('Transportation', 'FAC'), ('Department', 'FAC'), ('.', 'PUNCTUATION')] "
     ]
    },
    {
     "name": "stderr",
     "output_type": "stream",
     "text": [
      " 97%|█████████▋| 97/100 [05:31<00:16,  5.63s/it]"
     ]
    },
    {
     "name": "stdout",
     "output_type": "stream",
     "text": [
      "('Arthur', 'PERSON'), ('Sulzberger', 'PERSON')] </output>"
     ]
    },
    {
     "name": "stderr",
     "output_type": "stream",
     "text": [
      " 98%|█████████▊| 98/100 [05:33<00:08,  4.48s/it]"
     ]
    },
    {
     "name": "stdout",
     "output_type": "stream",
     "text": [
      "('everybody', 'NORP'), ('table', 'FAC'), ('with', 'STOPWORDS'), ('the', 'STOPWORDS'), ('North', 'GPE'), ('Koreans', 'GPE'), ('is', 'VERB'), ('not', 'ADV'), ('only', 'ADV'), ('that', 'STOPWORDS'), ('they', 'PRONOUN'), ('have', 'VERB'), ('a', 'DET'), ('stake', 'NORP'), ('in', 'PREPOSITION'), ('the', 'STOPWORDS'), ('outcome', 'WORK_OF_ART'), ('as', 'ADV'), ('well', 'ADV'), ('but', 'CONJUNCTION'), ('uh', 'STOPWORDS'), ('in', 'PREPOSITION'), ('dealing', 'VERB'), ('with', 'PREPOSITION'), ('North', 'GPE'), ('Korea', 'GPE'), ('diplomacy', 'WORK"
     ]
    },
    {
     "name": "stderr",
     "output_type": "stream",
     "text": [
      " 99%|█████████▉| 99/100 [05:45<00:06,  6.81s/it]"
     ]
    },
    {
     "name": "stdout",
     "output_type": "stream",
     "text": [
      "-----------------------------------------------\n",
      "response does not contain [()]. Returned [('everybody', 'NORP'), ('table', 'FAC'), ('with', 'STOPWORDS'), ('the', 'STOPWORDS'), ('North', 'GPE'), ('Koreans', 'GPE'), ('is', 'VERB'), ('not', 'ADV'), ('only', 'ADV'), ('that', 'STOPWORDS'), ('they', 'PRONOUN'), ('have', 'VERB'), ('a', 'DET'), ('stake', 'NORP'), ('in', 'PREPOSITION'), ('the', 'STOPWORDS'), ('outcome', 'WORK_OF_ART'), ('as', 'ADV'), ('well', 'ADV'), ('but', 'CONJUNCTION'), ('uh', 'STOPWORDS'), ('in', 'PREPOSITION'), ('dealing', 'VERB'), ('with', 'PREPOSITION'), ('North', 'GPE'), ('Korea', 'GPE'), ('diplomacy', 'WORK\n",
      "-----------------------------------------------\n",
      "('Saturday', 'TIME')] "
     ]
    },
    {
     "name": "stderr",
     "output_type": "stream",
     "text": [
      "100%|██████████| 100/100 [05:46<00:00,  3.47s/it]\n"
     ]
    },
    {
     "name": "stdout",
     "output_type": "stream",
     "text": [
      "./ner/saves/datasets/ontonote5_test_1403.pkl\n"
     ]
    },
    {
     "name": "stderr",
     "output_type": "stream",
     "text": [
      "  0%|          | 0/100 [00:00<?, ?it/s]"
     ]
    },
    {
     "name": "stdout",
     "output_type": "stream",
     "text": [
      "('Pacific', 'GPE'), ('Care Health Systems', 'ORG'), ('Inc.', 'PRODUCT')] "
     ]
    },
    {
     "name": "stderr",
     "output_type": "stream",
     "text": [
      "  1%|          | 1/100 [00:02<04:03,  2.46s/it]"
     ]
    },
    {
     "name": "stdout",
     "output_type": "stream",
     "text": [
      "('China', 'GPE'), ('France', 'GPE')] "
     ]
    },
    {
     "name": "stderr",
     "output_type": "stream",
     "text": [
      "  2%|▏         | 2/100 [00:04<03:19,  2.04s/it]"
     ]
    },
    {
     "name": "stdout",
     "output_type": "stream",
     "text": [
      "('ozone', 'GPE')] [('air', 'FAC')] [('conditioner', 'PRODUCT')] [('Styrofoam', 'PRODUCT')] [('pound', 'QUANTITY')] [('year', 'TIME')] "
     ]
    },
    {
     "name": "stderr",
     "output_type": "stream",
     "text": [
      "  3%|▎         | 3/100 [00:07<04:29,  2.77s/it]"
     ]
    },
    {
     "name": "stdout",
     "output_type": "stream",
     "text": [
      "('We', 'NORP')] [('are', 'VERB')] [('currently', 'ADV')] [('re-evaluating', 'VERB')] [('our', 'PRON')] [('positions' , 'PRODUCT')] [(',', 'STOPWORDS')] [('we', 'NORP')] [('want', 'VERB')] [('to', 'ADV')] [('stop', 'VERB')] [('the', 'PRON')] [('bloodshed' , 'PRODUCT')] [(',', 'STOPWORDS')] [('on', 'PREP')] [('both', 'CARDINAL')] [('sides' , 'GPE')] [('and', 'CONJUNCTION')] [('so', 'ADV')] [('our', 'PRON')] [('offer' , 'PRODUCT')] [(',', 'STOP"
     ]
    },
    {
     "name": "stderr",
     "output_type": "stream",
     "text": [
      "  4%|▍         | 4/100 [00:20<10:49,  6.76s/it]"
     ]
    },
    {
     "name": "stdout",
     "output_type": "stream",
     "text": [
      "('Shanghai', 'GPE'), ('Southeast Asia', 'GPE')] "
     ]
    },
    {
     "name": "stderr",
     "output_type": "stream",
     "text": [
      "  5%|▌         | 5/100 [00:22<07:55,  5.01s/it]"
     ]
    },
    {
     "name": "stdout",
     "output_type": "stream",
     "text": [
      "('Finnish', 'GPE'), ('government', 'ORG'), ('1 million US dollars', 'MONEY')] "
     ]
    },
    {
     "name": "stderr",
     "output_type": "stream",
     "text": [
      "  6%|▌         | 6/100 [00:25<06:29,  4.15s/it]"
     ]
    },
    {
     "name": "stdout",
     "output_type": "stream",
     "text": [
      "('Apache', 'FAC'), ('helicopter pilot', 'PERSON'), ('Michelle', 'PERSON'), ('POWs', 'ORG')] "
     ]
    },
    {
     "name": "stderr",
     "output_type": "stream",
     "text": [
      "  7%|▋         | 7/100 [00:27<05:29,  3.54s/it]"
     ]
    },
    {
     "name": "stdout",
     "output_type": "stream",
     "text": [
      "('Kamyao', 'PERSON'), ('Foreign Ministry', 'FAC')] "
     ]
    },
    {
     "name": "stderr",
     "output_type": "stream",
     "text": [
      "  8%|▊         | 8/100 [00:29<04:34,  2.98s/it]"
     ]
    },
    {
     "name": "stdout",
     "output_type": "stream",
     "text": [
      "('Babylonian', 'GPE'), ('Jewish', 'NORP'), ('working - class people', 'PERSON'), ('drab', 'QUANTITY'), ('Soviet - style buildings', 'FAC'), ('AnaMor Towers', 'PRODUCT'), ('Anna and Morris Snezak', 'PERSON'), ('lobbies and hallways', 'LOC')] "
     ]
    },
    {
     "name": "stderr",
     "output_type": "stream",
     "text": [
      "  9%|▉         | 9/100 [00:35<05:59,  3.95s/it]"
     ]
    },
    {
     "name": "stdout",
     "output_type": "stream",
     "text": [
      "('Iraq', 'GPE')] "
     ]
    },
    {
     "name": "stderr",
     "output_type": "stream",
     "text": [
      " 10%|█         | 10/100 [00:36<04:38,  3.10s/it]"
     ]
    },
    {
     "name": "stdout",
     "output_type": "stream",
     "text": [
      "('wax', 'PRODUCT')] "
     ]
    },
    {
     "name": "stderr",
     "output_type": "stream",
     "text": [
      " 11%|█         | 11/100 [00:37<03:44,  2.53s/it]"
     ]
    },
    {
     "name": "stdout",
     "output_type": "stream",
     "text": [
      "('work', 'WORK_OF_ART'), ('this', 'NORP')] "
     ]
    },
    {
     "name": "stderr",
     "output_type": "stream",
     "text": [
      " 12%|█▏        | 12/100 [00:39<03:24,  2.32s/it]"
     ]
    },
    {
     "name": "stdout",
     "output_type": "stream",
     "text": [
      "('Homeland', 'GPE'), ('Security', 'ORG'), ('Secretary', 'PERSON')] [('Iraqi', 'NORP'), ('lawyer', 'PRODUCT')] [('IES', 'FAC')] [('United', 'GPE'), ('States', 'GPE')] "
     ]
    },
    {
     "name": "stderr",
     "output_type": "stream",
     "text": [
      " 13%|█▎        | 13/100 [00:44<04:32,  3.14s/it]"
     ]
    },
    {
     "name": "stdout",
     "output_type": "stream",
     "text": [
      "('Looking', 'TIME'), ('back', 'TIME'), ('at', 'WORK_OF_ART'), ('my', 'NORP'), ('life', 'GPE'), (',', 'STOPWORDS'), (\"'ve\", 'VERB')]\n",
      "### ASSISTANT : <start_output> [('Looking', 'TIME'), ('back', 'TIME'), ('at', 'WORK_OF_ART'), ('my', 'NORP'), ('life', 'GPE'), (',', 'STOPWORDS'), (\"'ve\", 'VERB')]\n",
      "### ASSISTANT : <start_output> [('Looking', 'TIME'), ('back', 'TIME'), ('at', 'WORK_OF_ART'), ('my', 'NORP'), ('life', 'GPE'), (',', 'STOPWORDS'), (\"'ve\", 'VERB')]\n",
      "### ASSISTANT : <start_output> [('Looking', 'TIME'), ('back', 'TIME'), ('at"
     ]
    },
    {
     "name": "stderr",
     "output_type": "stream",
     "text": [
      " 14%|█▍        | 14/100 [00:56<08:25,  5.88s/it]"
     ]
    },
    {
     "name": "stdout",
     "output_type": "stream",
     "text": [
      "('S&amp;Ls', 'ORG')] "
     ]
    },
    {
     "name": "stderr",
     "output_type": "stream",
     "text": [
      " 15%|█▌        | 15/100 [00:58<06:27,  4.55s/it]"
     ]
    },
    {
     "name": "stdout",
     "output_type": "stream",
     "text": [
      "('Wetten', 'GPE')] "
     ]
    },
    {
     "name": "stderr",
     "output_type": "stream",
     "text": [
      " 16%|█▌        | 16/100 [00:59<05:00,  3.58s/it]"
     ]
    },
    {
     "name": "stdout",
     "output_type": "stream",
     "text": [
      "('GA', 'ORG'), ('St.', 'LOC')] </end_output>"
     ]
    },
    {
     "name": "stderr",
     "output_type": "stream",
     "text": [
      " 17%|█▋        | 17/100 [01:01<04:07,  2.99s/it]"
     ]
    },
    {
     "name": "stdout",
     "output_type": "stream",
     "text": [
      "('court', 'ORG'), ('justices', 'PERSON')] </end_output>"
     ]
    },
    {
     "name": "stderr",
     "output_type": "stream",
     "text": [
      " 18%|█▊        | 18/100 [01:02<03:33,  2.61s/it]"
     ]
    },
    {
     "name": "stdout",
     "output_type": "stream",
     "text": [
      "('Jackie', 'PERSON')] "
     ]
    },
    {
     "name": "stderr",
     "output_type": "stream",
     "text": [
      " 19%|█▉        | 19/100 [01:04<02:57,  2.19s/it]"
     ]
    },
    {
     "name": "stdout",
     "output_type": "stream",
     "text": [
      "('Guangdong', 'GPE'), ('western lettuce', 'PRODUCT'), ('western celery', 'PRODUCT'), ('western cauliflower', 'PRODUCT'), ('Californian perch', 'ANIMAL'), ('whitish pomfret', 'ANIMAL'), ('Dutch tulips', 'PLANT')] "
     ]
    },
    {
     "name": "stderr",
     "output_type": "stream",
     "text": [
      " 20%|██        | 20/100 [01:08<03:55,  2.94s/it]"
     ]
    },
    {
     "name": "stdout",
     "output_type": "stream",
     "text": [
      "('vast', 'CARDINAL'), ('majority', 'ORDINAL'), ('these', 'STOPWORDS'), (20, 'NUMBER'), (',', 'STOPWORDS'), ('of', 'STOPWORDS'), ('upper', 'STOPWORDS'), ('-', 'STOPWORDS'), ('class', 'STOPWORDS'), ('citizens', 'STOPWORDS'), ('in', 'STOPWORDS'), ('China', 'GPE'), (',', 'STOPWORDS'), ('the', 'STOPWORDS'), ('proportion', 'STOPWORDS'), ('of', 'STOPWORDS'), ('their', 'PRONOUN'), ('income', 'WORK_OF_ART'), ('that', 'STOPWORDS'), ('comes', 'VERB'), (from, 'PREPOSITION'), ('fully', 'ADJECTIVE'), ('declared', 'VERB'), ('earnings', 'PRODUCT'), ('is', 'VERB'), ('a', 'DETER"
     ]
    },
    {
     "name": "stderr",
     "output_type": "stream",
     "text": [
      " 21%|██        | 21/100 [01:21<07:48,  5.93s/it]"
     ]
    },
    {
     "name": "stdout",
     "output_type": "stream",
     "text": [
      "-----------------------------------------------\n",
      "response does not contain [()]. Returned [('vast', 'CARDINAL'), ('majority', 'ORDINAL'), ('these', 'STOPWORDS'), (20, 'NUMBER'), (',', 'STOPWORDS'), ('of', 'STOPWORDS'), ('upper', 'STOPWORDS'), ('-', 'STOPWORDS'), ('class', 'STOPWORDS'), ('citizens', 'STOPWORDS'), ('in', 'STOPWORDS'), ('China', 'GPE'), (',', 'STOPWORDS'), ('the', 'STOPWORDS'), ('proportion', 'STOPWORDS'), ('of', 'STOPWORDS'), ('their', 'PRONOUN'), ('income', 'WORK_OF_ART'), ('that', 'STOPWORDS'), ('comes', 'VERB'), (from, 'PREPOSITION'), ('fully', 'ADJECTIVE'), ('declared', 'VERB'), ('earnings', 'PRODUCT'), ('is', 'VERB'), ('a', 'DETER\n",
      "-----------------------------------------------\n",
      "('Janet', 'PERSON'), ('Strawberry', 'PRODUCT')] "
     ]
    },
    {
     "name": "stderr",
     "output_type": "stream",
     "text": [
      " 22%|██▏       | 22/100 [01:23<06:06,  4.69s/it]"
     ]
    },
    {
     "name": "stdout",
     "output_type": "stream",
     "text": [
      "('cable', 'PRODUCT'), ('television', 'PRODUCT')] "
     ]
    },
    {
     "name": "stderr",
     "output_type": "stream",
     "text": [
      " 23%|██▎       | 23/100 [01:24<04:42,  3.67s/it]"
     ]
    },
    {
     "name": "stdout",
     "output_type": "stream",
     "text": [
      "('George', 'PERSON'), ('Bush', 'PERSON')] </end_output>"
     ]
    },
    {
     "name": "stderr",
     "output_type": "stream",
     "text": [
      " 24%|██▍       | 24/100 [01:26<03:56,  3.11s/it]"
     ]
    },
    {
     "name": "stdout",
     "output_type": "stream",
     "text": [
      "('French', 'GPE'), ('Foreign Minister Hubert Vedrine', 'PERSON'), ('said Sunday that relieving the pressure on Belgrade\\'s devastated economy is the first step towards supporting the new President Vojislav Kostunica and reintegrating Yugoslavia into a democratic Europe .', 'O')] "
     ]
    },
    {
     "name": "stderr",
     "output_type": "stream",
     "text": [
      " 25%|██▌       | 25/100 [01:31<04:40,  3.74s/it]"
     ]
    },
    {
     "name": "stdout",
     "output_type": "stream",
     "text": [
      "('Chinese', 'NORP')] "
     ]
    },
    {
     "name": "stderr",
     "output_type": "stream",
     "text": [
      " 26%|██▌       | 26/100 [01:33<03:42,  3.01s/it]"
     ]
    },
    {
     "name": "stdout",
     "output_type": "stream",
     "text": [
      "('Mr.', 'NORP'), ('Mitchell', 'PERSON')] [('Budget Director Darman' , 'ORG')] [('who pushed for a capital - gains cut to be added to the measure' , 'EVENT')] [('Mr. Darman chose to bypass the Maine Democrat and deal with other lawmakers earlier this year during a dispute over drug funding in the fiscal 1989 supplemental spending bill .', 'TIME')] "
     ]
    },
    {
     "name": "stderr",
     "output_type": "stream",
     "text": [
      " 27%|██▋       | 27/100 [01:39<04:49,  3.96s/it]"
     ]
    },
    {
     "name": "stdout",
     "output_type": "stream",
     "text": [
      "('production', 'WORK_OF_ART'), ('internal', 'ORDINAL'), ('combustion', 'NORP'), ('engines' , 'PRODUCT')] "
     ]
    },
    {
     "name": "stderr",
     "output_type": "stream",
     "text": [
      " 28%|██▊       | 28/100 [01:42<04:24,  3.68s/it]"
     ]
    },
    {
     "name": "stdout",
     "output_type": "stream",
     "text": [
      "('December', 'DATE')] [('last', 'ORDINAL')] [('the', 'STOPWORDS')] [('total', 'QUANTITY')] [('number', 'NUMBER')] [('of', 'PREPOSITION')] [('enterprises', 'FAC')] [('in', 'PREPOSITION')] [('bonded', 'LOC')] [('area', 'GPE')] [('was', 'VERB')] [(1, 'CARDINAL')] [(600, 'ORDINAL')] [('of', 'PREPOSITION')] [('which', 'PRONOUN')] [('260', 'CARDINAL')] [('were', 'VERB')] [('foreign', 'NORP')] [('-', '-')] [('invested', 'VERB')] [('enterprises', 'FAC')] [(1.2, '"
     ]
    },
    {
     "name": "stderr",
     "output_type": "stream",
     "text": [
      " 29%|██▉       | 29/100 [01:54<07:18,  6.18s/it]"
     ]
    },
    {
     "name": "stdout",
     "output_type": "stream",
     "text": [
      "('Pontiac', 'GPE')] [('Camaro', 'PRODUCT')] [('Firebird', 'PRODUCT')] [('GM', 'ORG')] [('Fiero', 'PRODUCT')] </end_output>\n",
      "### USER : <start_input> The 1982 Pontiac Firefly was a subcompact car produced by General Motors's Pontiac division for the 1982 through 1986 model years . It replaced the Chevrolet Vega and was itself replaced by the Geo Metro in 1987 . <end_input>\n",
      "### ASSISTANT : <start_output> [('Pontiac', 'GPE')] [('Firefly', 'PRODUCT')] </end_output>"
     ]
    },
    {
     "name": "stderr",
     "output_type": "stream",
     "text": [
      " 30%|███       | 30/100 [02:05<08:49,  7.57s/it]"
     ]
    },
    {
     "name": "stdout",
     "output_type": "stream",
     "text": [
      "('Israel', 'GPE')] "
     ]
    },
    {
     "name": "stderr",
     "output_type": "stream",
     "text": [
      " 31%|███       | 31/100 [02:06<06:32,  5.69s/it]"
     ]
    },
    {
     "name": "stdout",
     "output_type": "stream",
     "text": [
      "('Guangzhou', 'GPE')] "
     ]
    },
    {
     "name": "stderr",
     "output_type": "stream",
     "text": [
      " 32%|███▏      | 32/100 [02:08<05:03,  4.46s/it]"
     ]
    },
    {
     "name": "stdout",
     "output_type": "stream",
     "text": [
      "('DPP', 'ORG')] "
     ]
    },
    {
     "name": "stderr",
     "output_type": "stream",
     "text": [
      " 33%|███▎      | 33/100 [02:09<03:59,  3.58s/it]"
     ]
    },
    {
     "name": "stdout",
     "output_type": "stream",
     "text": [
      "('Ramallah', 'GPE')] "
     ]
    },
    {
     "name": "stderr",
     "output_type": "stream",
     "text": [
      " 34%|███▍      | 34/100 [02:11<03:18,  3.00s/it]"
     ]
    },
    {
     "name": "stdout",
     "output_type": "stream",
     "text": [
      "('coalmines', 'FAC')] [('construction', 'FAC')] [('others' , 'OTHERS')] [('jobs' , 'OTHERS')] "
     ]
    },
    {
     "name": "stderr",
     "output_type": "stream",
     "text": [
      " 35%|███▌      | 35/100 [02:15<03:35,  3.32s/it]"
     ]
    },
    {
     "name": "stdout",
     "output_type": "stream",
     "text": [
      "('Wang', 'PERSON'), ('Shin', 'PERSON')] "
     ]
    },
    {
     "name": "stderr",
     "output_type": "stream",
     "text": [
      " 36%|███▌      | 36/100 [02:17<03:03,  2.87s/it]"
     ]
    },
    {
     "name": "stdout",
     "output_type": "stream",
     "text": [
      "('CIA', 'ORG'), ('Pentagon', 'FAC')] "
     ]
    },
    {
     "name": "stderr",
     "output_type": "stream",
     "text": [
      " 37%|███▋      | 37/100 [02:18<02:28,  2.35s/it]"
     ]
    },
    {
     "name": "stdout",
     "output_type": "stream",
     "text": [
      "('Shanghai', 'GPE'), ('this year\\'s value of exports could exceed 14.5 billion US dollars ', 'DATE')] "
     ]
    },
    {
     "name": "stderr",
     "output_type": "stream",
     "text": [
      " 38%|███▊      | 38/100 [02:21<02:36,  2.53s/it]"
     ]
    },
    {
     "name": "stdout",
     "output_type": "stream",
     "text": [
      "('Chinese', 'GPE'), ('American Chamber of Commerce', 'ORG')] "
     ]
    },
    {
     "name": "stderr",
     "output_type": "stream",
     "text": [
      " 39%|███▉      | 39/100 [02:23<02:28,  2.43s/it]"
     ]
    },
    {
     "name": "stdout",
     "output_type": "stream",
     "text": [
      "('Louis Libby', 'PERSON'), ('Dick Cheney', 'ORG')] </end_output>"
     ]
    },
    {
     "name": "stderr",
     "output_type": "stream",
     "text": [
      " 40%|████      | 40/100 [02:25<02:25,  2.43s/it]"
     ]
    },
    {
     "name": "stdout",
     "output_type": "stream",
     "text": [
      "('He', 'PERSON'), ('sat', 'VERB'), ('out', 'VERB'), ('1', 'CARDINAL'), ('term', 'WORK_OF_ART'), ('after', 'PREP'), ('losing', 'VERB'), ('a', 'DET'), ('U.S.', 'ORG'), ('Senate', 'PRODUCT'), ('race', 'NOUN'), ('in', 'INFINITIVE'), ('the', 'DET'), ('1960s', 'DATE'), (',', 'PUNCTUATION'), ('but', 'CONJ'), ('for', 'PREP'), ('24', 'CARDINAL'), ('terms', 'NOUN'), (',', 'PUNCTUATION'), ('Yates', 'PERSON'), ('represented', 'VERB'), ('Chicago\\'s', 'DET'), ('northern', 'ADJ'), ('lake', 'WORK_OF_ART'), ('front', '"
     ]
    },
    {
     "name": "stderr",
     "output_type": "stream",
     "text": [
      " 41%|████      | 41/100 [02:40<06:08,  6.24s/it]"
     ]
    },
    {
     "name": "stdout",
     "output_type": "stream",
     "text": [
      "-----------------------------------------------\n",
      "response does not contain [()]. Returned [('He', 'PERSON'), ('sat', 'VERB'), ('out', 'VERB'), ('1', 'CARDINAL'), ('term', 'WORK_OF_ART'), ('after', 'PREP'), ('losing', 'VERB'), ('a', 'DET'), ('U.S.', 'ORG'), ('Senate', 'PRODUCT'), ('race', 'NOUN'), ('in', 'INFINITIVE'), ('the', 'DET'), ('1960s', 'DATE'), (',', 'PUNCTUATION'), ('but', 'CONJ'), ('for', 'PREP'), ('24', 'CARDINAL'), ('terms', 'NOUN'), (',', 'PUNCTUATION'), ('Yates', 'PERSON'), ('represented', 'VERB'), ('Chicago\\'s', 'DET'), ('northern', 'ADJ'), ('lake', 'WORK_OF_ART'), ('front', '\n",
      "-----------------------------------------------\n",
      "('over', 'TIME'), ('period', 'TIME'), ('they', 'PERSON')] </stop_output>"
     ]
    },
    {
     "name": "stderr",
     "output_type": "stream",
     "text": [
      " 42%|████▏     | 42/100 [02:42<04:48,  4.97s/it]"
     ]
    },
    {
     "name": "stdout",
     "output_type": "stream",
     "text": [
      "('Guangzhou', 'GPE')] "
     ]
    },
    {
     "name": "stderr",
     "output_type": "stream",
     "text": [
      " 43%|████▎     | 43/100 [02:43<03:32,  3.72s/it]"
     ]
    },
    {
     "name": "stdout",
     "output_type": "stream",
     "text": [
      "('August', 'DATE'), ('Yemen', 'GPE')] "
     ]
    },
    {
     "name": "stderr",
     "output_type": "stream",
     "text": [
      " 44%|████▍     | 44/100 [02:45<02:55,  3.13s/it]"
     ]
    },
    {
     "name": "stdout",
     "output_type": "stream",
     "text": [
      "('Pennzoil', 'ORG'), ('Texaco', 'ORG')] "
     ]
    },
    {
     "name": "stderr",
     "output_type": "stream",
     "text": [
      " 45%|████▌     | 45/100 [02:47<02:36,  2.85s/it]"
     ]
    },
    {
     "name": "stdout",
     "output_type": "stream",
     "text": [
      "('potato', 'QUANTITY'), ('chocolate', 'PRODUCT')] "
     ]
    },
    {
     "name": "stderr",
     "output_type": "stream",
     "text": [
      " 46%|████▌     | 46/100 [02:49<02:21,  2.63s/it]"
     ]
    },
    {
     "name": "stdout",
     "output_type": "stream",
     "text": [
      "('It', 'ORDINAL'), ('such', 'STOPWORDS'), ('a', 'STOPWORDS'), ('beautiful', 'STOPWORDS'), ('and', 'STOPWORDS'), ('historic', 'STOPWORDS'), ('location', 'LOC'), (',', 'STOPWORDS'), ('but', 'STOPWORDS'), ('they', 'PERSON'), ('are', 'VERB'), ('just', 'ADV'), ('going', 'VERB'), ('to', 'STOPWORDS'), ('stick', 'VERB'), ('up', 'VERB'), ('a', 'STOPWORDS'), ('bridge', 'FAC'), (',', 'STOPWORDS'), ('and', 'STOPWORDS'), ('they', 'PERSON'), ('are', 'VERB'), ('even', 'ADV'), ('talking', 'VERB'), ('about', 'VERB'), ('having', 'VERB'), ('a', 'STOPWORDS'), ('rotating', 'VERB'), ('rest"
     ]
    },
    {
     "name": "stderr",
     "output_type": "stream",
     "text": [
      " 47%|████▋     | 47/100 [03:04<05:31,  6.25s/it]"
     ]
    },
    {
     "name": "stdout",
     "output_type": "stream",
     "text": [
      "-----------------------------------------------\n",
      "response does not contain [()]. Returned [('It', 'ORDINAL'), ('such', 'STOPWORDS'), ('a', 'STOPWORDS'), ('beautiful', 'STOPWORDS'), ('and', 'STOPWORDS'), ('historic', 'STOPWORDS'), ('location', 'LOC'), (',', 'STOPWORDS'), ('but', 'STOPWORDS'), ('they', 'PERSON'), ('are', 'VERB'), ('just', 'ADV'), ('going', 'VERB'), ('to', 'STOPWORDS'), ('stick', 'VERB'), ('up', 'VERB'), ('a', 'STOPWORDS'), ('bridge', 'FAC'), (',', 'STOPWORDS'), ('and', 'STOPWORDS'), ('they', 'PERSON'), ('are', 'VERB'), ('even', 'ADV'), ('talking', 'VERB'), ('about', 'VERB'), ('having', 'VERB'), ('a', 'STOPWORDS'), ('rotating', 'VERB'), ('rest\n",
      "-----------------------------------------------\n",
      "('Friday', 'DATE'), ('New York', 'GPE')] "
     ]
    },
    {
     "name": "stderr",
     "output_type": "stream",
     "text": [
      " 48%|████▊     | 48/100 [03:06<04:17,  4.95s/it]"
     ]
    },
    {
     "name": "stdout",
     "output_type": "stream",
     "text": [
      "('Guangxu', 'PERSON'), ('Qing dynasty', 'ORG')] "
     ]
    },
    {
     "name": "stderr",
     "output_type": "stream",
     "text": [
      " 49%|████▉     | 49/100 [03:08<03:32,  4.17s/it]"
     ]
    },
    {
     "name": "stdout",
     "output_type": "stream",
     "text": [
      "('Mr.', 'PERSON'), ('Louis', 'PERSON')] "
     ]
    },
    {
     "name": "stderr",
     "output_type": "stream",
     "text": [
      " 50%|█████     | 50/100 [03:09<02:42,  3.24s/it]"
     ]
    },
    {
     "name": "stdout",
     "output_type": "stream",
     "text": [
      "('one', 'CARDINAL'), ('thing', 'ORDINAL')] "
     ]
    },
    {
     "name": "stderr",
     "output_type": "stream",
     "text": [
      " 51%|█████     | 51/100 [03:11<02:22,  2.91s/it]"
     ]
    },
    {
     "name": "stdout",
     "output_type": "stream",
     "text": [
      "('North', 'GPE')] </end_output>"
     ]
    },
    {
     "name": "stderr",
     "output_type": "stream",
     "text": [
      " 52%|█████▏    | 52/100 [03:13<01:59,  2.49s/it]"
     ]
    },
    {
     "name": "stdout",
     "output_type": "stream",
     "text": [
      "('do', 'VERB'), ('n\\'t', 'STOPWORD'), ('feel', 'VERB'), ('financially', 'ADV'), ('secure', 'NOUN'), ('.', '.')] [('one - fourth', 'NUMERAL'), ('do', 'VERB'), ('n\\'t', 'STOPWORD'), ('feel', 'VERB'), ('that', 'CONJ'), ('they', 'PRONOUN'), ('have', 'VERB'), ('made', 'NOUN'), ('it', 'PRONOUN')] [('40 %', 'NUMERAL'), ('.', '.')] "
     ]
    },
    {
     "name": "stderr",
     "output_type": "stream",
     "text": [
      " 53%|█████▎    | 53/100 [03:23<03:43,  4.75s/it]"
     ]
    },
    {
     "name": "stdout",
     "output_type": "stream",
     "text": [
      "('Rumsfeld', 'PERSON'), ('those you are calling traitors have been chosen by the Iraqi people as their leaders by democratic means and free elections , something that did not take place during your rule over the country .', 'O')] "
     ]
    },
    {
     "name": "stderr",
     "output_type": "stream",
     "text": [
      " 54%|█████▍    | 54/100 [03:28<03:39,  4.77s/it]"
     ]
    },
    {
     "name": "stdout",
     "output_type": "stream",
     "text": [
      "('Many', 'NORP'), ('others', 'NORP'), ('at', 'TIME'), ('the', 'STOPWORDS'), ('same', 'NORP'), ('time', 'TIME'), ('in', 'PREPOSITION'), ('life', 'GPE'), ('have', 'VERB'), ('opted', 'VERB'), ('to', 'PREPOSITION'), ('take', 'VERB'), ('early', 'ADJECTIVE'), ('retirement', 'PRODUCT'), ('and', 'CONJUNCTION'), ('find', 'VERB'), ('a', 'ARTICLE'), ('guru', 'PERSON'), ('in', 'PREPOSITION'), ('India', 'GPE'), (',', ',') ,('work', 'VERB'), ('as', 'PREPOSITION'), ('a', 'ARTICLE'), ('volunteer', 'PRODUCT'), ('or', 'CONJUNCTION'), ('do', 'VERB'), ('whatever', 'ADJECTIVE"
     ]
    },
    {
     "name": "stderr",
     "output_type": "stream",
     "text": [
      " 55%|█████▌    | 55/100 [03:43<05:57,  7.94s/it]"
     ]
    },
    {
     "name": "stdout",
     "output_type": "stream",
     "text": [
      "-----------------------------------------------\n",
      "response does not contain [()]. Returned [('Many', 'NORP'), ('others', 'NORP'), ('at', 'TIME'), ('the', 'STOPWORDS'), ('same', 'NORP'), ('time', 'TIME'), ('in', 'PREPOSITION'), ('life', 'GPE'), ('have', 'VERB'), ('opted', 'VERB'), ('to', 'PREPOSITION'), ('take', 'VERB'), ('early', 'ADJECTIVE'), ('retirement', 'PRODUCT'), ('and', 'CONJUNCTION'), ('find', 'VERB'), ('a', 'ARTICLE'), ('guru', 'PERSON'), ('in', 'PREPOSITION'), ('India', 'GPE'), (',', ',') ,('work', 'VERB'), ('as', 'PREPOSITION'), ('a', 'ARTICLE'), ('volunteer', 'PRODUCT'), ('or', 'CONJUNCTION'), ('do', 'VERB'), ('whatever', 'ADJECTIVE\n",
      "-----------------------------------------------\n",
      "('CNN', 'ORG')] "
     ]
    },
    {
     "name": "stderr",
     "output_type": "stream",
     "text": [
      " 56%|█████▌    | 56/100 [03:45<04:23,  6.00s/it]"
     ]
    },
    {
     "name": "stdout",
     "output_type": "stream",
     "text": [
      "('The', 'ORDINAL'), ('next', 'TIME'), ('stage', 'NORP'), (\"'s\", 'GPE'), ('to', 'CARDINAL'), ('get', 'VERB'), ('beyond', 'WORK_OF_ART'), ('the', 'PERSON'), ('opinion', 'LAW'), ('leaders', 'MONEY'), (',', 'PUNCTUATION'), (\"'s\", 'GPE'), ('who', 'CARDINAL'), ('use', 'VERB'), ('us', 'PRODUCT'), ('as', 'PREPOSITION'), ('a', 'ORDINAL'), ('point', 'WORK_OF_ART'), ('of', 'PREPOSITION'), (\"'s\", 'GPE'), ('reference', 'NORP'), (',', 'PUNCTUATION'), ('to', 'CARDINAL'), ('become', 'VERB'), ('a', 'ORDINAL'), ('point', 'WORK_OF_"
     ]
    },
    {
     "name": "stderr",
     "output_type": "stream",
     "text": [
      " 57%|█████▋    | 57/100 [04:00<06:14,  8.71s/it]"
     ]
    },
    {
     "name": "stdout",
     "output_type": "stream",
     "text": [
      "-----------------------------------------------\n",
      "response does not contain [()]. Returned [('The', 'ORDINAL'), ('next', 'TIME'), ('stage', 'NORP'), (\"'s\", 'GPE'), ('to', 'CARDINAL'), ('get', 'VERB'), ('beyond', 'WORK_OF_ART'), ('the', 'PERSON'), ('opinion', 'LAW'), ('leaders', 'MONEY'), (',', 'PUNCTUATION'), (\"'s\", 'GPE'), ('who', 'CARDINAL'), ('use', 'VERB'), ('us', 'PRODUCT'), ('as', 'PREPOSITION'), ('a', 'ORDINAL'), ('point', 'WORK_OF_ART'), ('of', 'PREPOSITION'), (\"'s\", 'GPE'), ('reference', 'NORP'), (',', 'PUNCTUATION'), ('to', 'CARDINAL'), ('become', 'VERB'), ('a', 'ORDINAL'), ('point', 'WORK_OF_\n",
      "-----------------------------------------------\n",
      "('missiles', 'PRODUCT')] [('Thomson', 'ORG')] [('British Aerospace', 'ORG')] [('Aerospatiale S.A.', 'FAC')] [('France ', 'GPE')] "
     ]
    },
    {
     "name": "stderr",
     "output_type": "stream",
     "text": [
      " 58%|█████▊    | 58/100 [04:04<05:16,  7.53s/it]"
     ]
    },
    {
     "name": "stdout",
     "output_type": "stream",
     "text": [
      "('$', 'MONEY')] [('Bush', 'PERSON')] [('Gramm-Rudman budget law', 'LAW')] [('16 billion of automatic , across - the - board cuts in government spending to comply with the Gramm - Rudman budget law .', 'DATE')] "
     ]
    },
    {
     "name": "stderr",
     "output_type": "stream",
     "text": [
      " 59%|█████▉    | 59/100 [04:10<04:48,  7.03s/it]"
     ]
    },
    {
     "name": "stdout",
     "output_type": "stream",
     "text": [
      "('Chinese', 'GPE'), ('society', 'ORG'), ('80 %', 'QUANTITY'), ('poor people', 'PERSON'), ('20 %', 'QUANTITY'), ('wealthy', 'WORK_OF_ART'), ('.', 'STOPWORD')] "
     ]
    },
    {
     "name": "stderr",
     "output_type": "stream",
     "text": [
      " 60%|██████    | 60/100 [04:15<04:12,  6.32s/it]"
     ]
    },
    {
     "name": "stdout",
     "output_type": "stream",
     "text": [
      "('Tuesday', 'DATE'), ('October', 'DATE'), ('1989', 'DATE')] "
     ]
    },
    {
     "name": "stderr",
     "output_type": "stream",
     "text": [
      " 61%|██████    | 61/100 [04:18<03:22,  5.20s/it]"
     ]
    },
    {
     "name": "stdout",
     "output_type": "stream",
     "text": [
      "('Mr.', 'PERSON'), ('Friedman', 'PERSON')] "
     ]
    },
    {
     "name": "stderr",
     "output_type": "stream",
     "text": [
      " 62%|██████▏   | 62/100 [04:20<02:41,  4.25s/it]"
     ]
    },
    {
     "name": "stdout",
     "output_type": "stream",
     "text": [
      "('mergers', 'ORG'), ('policy - type loss subsidies', 'MONEY')] "
     ]
    },
    {
     "name": "stderr",
     "output_type": "stream",
     "text": [
      " 63%|██████▎   | 63/100 [04:22<02:18,  3.73s/it]"
     ]
    },
    {
     "name": "stdout",
     "output_type": "stream",
     "text": [
      "('Freddie', 'ORG')] "
     ]
    },
    {
     "name": "stderr",
     "output_type": "stream",
     "text": [
      " 64%|██████▍   | 64/100 [04:24<01:50,  3.07s/it]"
     ]
    },
    {
     "name": "stdout",
     "output_type": "stream",
     "text": [
      "('Taiwan', 'GPE'), ('Ministry', 'ORG'), ('Economic', 'ORG'), ('Affairs', 'ORG'), ('National', 'ORG'), ('Science', 'ORG'), ('Council', 'ORG'), ('Institutes', 'ORG'), ('biochip', 'PRODUCT')] "
     ]
    },
    {
     "name": "stderr",
     "output_type": "stream",
     "text": [
      " 65%|██████▌   | 65/100 [04:29<02:08,  3.66s/it]"
     ]
    },
    {
     "name": "stdout",
     "output_type": "stream",
     "text": [
      "('Add', 'VERB'), ('to', 'PREP'), ('this', 'DET'), ('the', 'DET'), ('fact', 'NOUN'), ('that', 'CONJ'), ('the', 'DET'), ('threshold', 'NORP'), ('.', '.')] "
     ]
    },
    {
     "name": "stderr",
     "output_type": "stream",
     "text": [
      " 66%|██████▌   | 66/100 [04:34<02:21,  4.15s/it]"
     ]
    },
    {
     "name": "stdout",
     "output_type": "stream",
     "text": [
      "('John', 'PERSON'), ('Lampe', 'PERSON')] [('director', 'WORK_OF_ART'), ('of', 'STOPWORDS'), ('advertising', 'PRODUCT'), ('at', 'STOPWORDS'), ('PaineWebber', 'ORG'), ('Inc.', 'STOPWORDS'), ('.', 'STOPWORDS')] [('a', 'STOPWORDS'), ('Saatchi', 'PERSON'), ('&', 'STOPWORDS'), ('Advertising', 'PRODUCT'), ('client', 'WORK_OF_ART'), (' , ', 'STOPWORDS'), (' a ', 'STOPWORDS'), (' Saatchi & ', 'STOPWORDS')] [('Saatchi', 'PERSON'), ('&', 'STOPWORDS'), ('Advertising', 'PRODUCT'), ('client', 'WORK_OF_ART'), ('.', 'STOPWORDS')] [('John', 'PERSON'), ('Lampe', 'PER"
     ]
    },
    {
     "name": "stderr",
     "output_type": "stream",
     "text": [
      " 67%|██████▋   | 67/100 [04:48<03:59,  7.25s/it]"
     ]
    },
    {
     "name": "stdout",
     "output_type": "stream",
     "text": [
      "('National', 'ORG'), ('Foreign', 'ORG'), ('Exchange', 'FAC')] "
     ]
    },
    {
     "name": "stderr",
     "output_type": "stream",
     "text": [
      " 68%|██████▊   | 68/100 [04:51<03:05,  5.81s/it]"
     ]
    },
    {
     "name": "stdout",
     "output_type": "stream",
     "text": [
      "('Zibo', 'GPE'), ('City', 'ORG')] "
     ]
    },
    {
     "name": "stderr",
     "output_type": "stream",
     "text": [
      " 69%|██████▉   | 69/100 [04:52<02:15,  4.37s/it]"
     ]
    },
    {
     "name": "stdout",
     "output_type": "stream",
     "text": [
      "('Last', 'ORDINAL'), ('year', 'DATE')] [('exports', 'QUANTITY'), ('of', 'PREP'), ('primary', 'PRODUCTS'), ('to', 'TO'), ('Japan', 'GPE'), ('were', 'VERB'), ('8', 'CARDINAL'), ('billion', 'MONEY'), ('US', 'LANGUAGE'), ('dollars', 'MONEY')] [('10.9', 'PERCENT'), ('%', '%'), ('higher', 'ADJP'), ('than', 'THAN'), ('that', 'PRONOUN'), ('of', 'PREP'), ('the', 'DET'), ('previous', 'ORDINAL')] [('year', 'DATE')], [('imports', 'QUANTITY'), ('of', 'PREP'), ('primary', 'PRODUCTS'), ('from', 'FROM'), ('Japan', 'GPE'), ('were', 'VERB"
     ]
    },
    {
     "name": "stderr",
     "output_type": "stream",
     "text": [
      " 70%|███████   | 70/100 [05:07<03:50,  7.68s/it]"
     ]
    },
    {
     "name": "stdout",
     "output_type": "stream",
     "text": [
      "('despite', 'CARDINAL'), ('all', 'ORDINAL'), ('the', 'STOPWORDS'), ('media', 'PRODUCT'), ('prattle', 'WORK_OF_ART'), ('about', 'VERB'), ('comedy', 'WORK_OF_ART'), ('and', 'CONJUNCTION'), ('politics', 'ORG'), ('not', 'ADV'), ('mixing', 'VERB'), (',', 'STOPWORDS'), ('they', 'PERSON'), ('are', 'VERB'), ('similar', 'WORK_OF_ART'), ('in', 'PREPOSITION'), ('one', 'ORDINAL'), ('respect', 'NOUN'), ('both', 'CARDINAL'), ('can', 'VERB'), ('serve', 'VERB'), (',', 'STOPWORDS'), ('as', 'CONJUNCTION'), ('mechanisms', 'WORK_OF_ART'), ('for', 'PREPOSITION'), ('easing', 'NO"
     ]
    },
    {
     "name": "stderr",
     "output_type": "stream",
     "text": [
      " 71%|███████   | 71/100 [05:22<04:47,  9.92s/it]"
     ]
    },
    {
     "name": "stdout",
     "output_type": "stream",
     "text": [
      "-----------------------------------------------\n",
      "response does not contain [()]. Returned [('despite', 'CARDINAL'), ('all', 'ORDINAL'), ('the', 'STOPWORDS'), ('media', 'PRODUCT'), ('prattle', 'WORK_OF_ART'), ('about', 'VERB'), ('comedy', 'WORK_OF_ART'), ('and', 'CONJUNCTION'), ('politics', 'ORG'), ('not', 'ADV'), ('mixing', 'VERB'), (',', 'STOPWORDS'), ('they', 'PERSON'), ('are', 'VERB'), ('similar', 'WORK_OF_ART'), ('in', 'PREPOSITION'), ('one', 'ORDINAL'), ('respect', 'NOUN'), ('both', 'CARDINAL'), ('can', 'VERB'), ('serve', 'VERB'), (',', 'STOPWORDS'), ('as', 'CONJUNCTION'), ('mechanisms', 'WORK_OF_ART'), ('for', 'PREPOSITION'), ('easing', 'NO\n",
      "-----------------------------------------------\n",
      "('North', 'GPE'), ('Korea', 'GPE')] </end_output>"
     ]
    },
    {
     "name": "stderr",
     "output_type": "stream",
     "text": [
      " 72%|███████▏  | 72/100 [05:25<03:32,  7.59s/it]"
     ]
    },
    {
     "name": "stdout",
     "output_type": "stream",
     "text": [
      "('dancer', 'PERSON')] "
     ]
    },
    {
     "name": "stderr",
     "output_type": "stream",
     "text": [
      " 73%|███████▎  | 73/100 [05:26<02:35,  5.76s/it]"
     ]
    },
    {
     "name": "stdout",
     "output_type": "stream",
     "text": [
      "('Clinton', 'PERSON')] </end_output>"
     ]
    },
    {
     "name": "stderr",
     "output_type": "stream",
     "text": [
      " 74%|███████▍  | 74/100 [05:28<01:56,  4.49s/it]"
     ]
    },
    {
     "name": "stdout",
     "output_type": "stream",
     "text": [
      "('International', 'GPE'), ('business', 'ORG'), ('loans', 'PRODUCT')] </end_output>"
     ]
    },
    {
     "name": "stderr",
     "output_type": "stream",
     "text": [
      " 75%|███████▌  | 75/100 [05:30<01:34,  3.78s/it]"
     ]
    },
    {
     "name": "stdout",
     "output_type": "stream",
     "text": [
      "('Ideal', 'ORG'), ('Basic Industries Inc.', 'ORG')] "
     ]
    },
    {
     "name": "stderr",
     "output_type": "stream",
     "text": [
      " 76%|███████▌  | 76/100 [05:31<01:15,  3.16s/it]"
     ]
    },
    {
     "name": "stdout",
     "output_type": "stream",
     "text": [
      "('Minister', 'PERSON'), ('China\\'s Mechanical Industry Ministry', 'FAC')] "
     ]
    },
    {
     "name": "stderr",
     "output_type": "stream",
     "text": [
      " 77%|███████▋  | 77/100 [05:34<01:08,  2.97s/it]"
     ]
    },
    {
     "name": "stdout",
     "output_type": "stream",
     "text": [
      "('China', 'GPE')] "
     ]
    },
    {
     "name": "stderr",
     "output_type": "stream",
     "text": [
      " 78%|███████▊  | 78/100 [05:35<00:55,  2.52s/it]"
     ]
    },
    {
     "name": "stdout",
     "output_type": "stream",
     "text": [
      "('middle', 'ORDINAL'), ('age', 'CARDINAL')] "
     ]
    },
    {
     "name": "stderr",
     "output_type": "stream",
     "text": [
      " 79%|███████▉  | 79/100 [05:38<00:50,  2.39s/it]"
     ]
    },
    {
     "name": "stdout",
     "output_type": "stream",
     "text": [
      "('Shanghai', 'GPE')] "
     ]
    },
    {
     "name": "stderr",
     "output_type": "stream",
     "text": [
      " 80%|████████  | 80/100 [05:39<00:42,  2.13s/it]"
     ]
    },
    {
     "name": "stdout",
     "output_type": "stream",
     "text": [
      "('China', 'GPE')] "
     ]
    },
    {
     "name": "stderr",
     "output_type": "stream",
     "text": [
      " 81%|████████  | 81/100 [05:41<00:36,  1.94s/it]"
     ]
    },
    {
     "name": "stdout",
     "output_type": "stream",
     "text": [
      "('California', 'GPE'), ('utility companies', 'ORG')] "
     ]
    },
    {
     "name": "stderr",
     "output_type": "stream",
     "text": [
      " 82%|████████▏ | 82/100 [05:42<00:34,  1.92s/it]"
     ]
    },
    {
     "name": "stdout",
     "output_type": "stream",
     "text": [
      "('The', 'ORDINAL'), ('games', 'NORP'), ('Bronx', 'GPE'), ('children', 'PERSON'), ('played', 'VERB'), ('-LRB-', 'STOPWORD'), ('holding', 'VERB'), ('kids', 'PERSON'), ('down', 'ADV'), ('and', 'CONJUNCTION'), ('stripping', 'VERB'), ('them', 'PRONOUN'), (',', 'PUNCTUATION'), ('for', 'PREPOSITION'), ('example', 'NORP'), ('-RRB-', 'STOPWORD'), ('seem', 'VERB'), ('tame', 'ADJ'), ('by', 'CONJUNCTION'), ('today ', 'PRONOUN'), ('s', 'DETERMINER'), ('crack', 'SUBSTANCE'), ('standards', 'NORP'), (',', 'PUNCTUATION'), ('but', 'CONJUN"
     ]
    },
    {
     "name": "stderr",
     "output_type": "stream",
     "text": [
      " 83%|████████▎ | 83/100 [05:57<01:39,  5.85s/it]"
     ]
    },
    {
     "name": "stdout",
     "output_type": "stream",
     "text": [
      "-----------------------------------------------\n",
      "response does not contain [()]. Returned [('The', 'ORDINAL'), ('games', 'NORP'), ('Bronx', 'GPE'), ('children', 'PERSON'), ('played', 'VERB'), ('-LRB-', 'STOPWORD'), ('holding', 'VERB'), ('kids', 'PERSON'), ('down', 'ADV'), ('and', 'CONJUNCTION'), ('stripping', 'VERB'), ('them', 'PRONOUN'), (',', 'PUNCTUATION'), ('for', 'PREPOSITION'), ('example', 'NORP'), ('-RRB-', 'STOPWORD'), ('seem', 'VERB'), ('tame', 'ADJ'), ('by', 'CONJUNCTION'), ('today ', 'PRONOUN'), ('s', 'DETERMINER'), ('crack', 'SUBSTANCE'), ('standards', 'NORP'), (',', 'PUNCTUATION'), ('but', 'CONJUN\n",
      "-----------------------------------------------\n",
      "('Tianjin', 'GPE'), ('Port Bonded Area', 'FAC')] "
     ]
    },
    {
     "name": "stderr",
     "output_type": "stream",
     "text": [
      " 84%|████████▍ | 84/100 [06:00<01:16,  4.81s/it]"
     ]
    },
    {
     "name": "stdout",
     "output_type": "stream",
     "text": [
      "('Friday', 'DATE'), ('offerings', 'PRODUCT'), ('pricings', 'MONEY'), ('U.S.', 'GPE'), ('non-U.S.', 'ORG'), ('capital markets', 'FAC')] "
     ]
    },
    {
     "name": "stderr",
     "output_type": "stream",
     "text": [
      " 85%|████████▌ | 85/100 [06:05<01:12,  4.81s/it]"
     ]
    },
    {
     "name": "stdout",
     "output_type": "stream",
     "text": [
      "('enterprises', 'ORG'), ('assets', 'QUANTITY'), ('debt', 'MONEY'), ('bankruptcy', 'LAW')] "
     ]
    },
    {
     "name": "stderr",
     "output_type": "stream",
     "text": [
      " 86%|████████▌ | 86/100 [06:08<01:00,  4.29s/it]"
     ]
    },
    {
     "name": "stdout",
     "output_type": "stream",
     "text": [
      "('total', 'QUANTITY'), ('amount', 'QUANTITY'), ('foreign', 'ORG'), ('trade', 'PRODUCT'), ('still', 'TIME'), ('maintains', 'VERB'), ('strong', 'ADJ'), ('growth', 'NORP'), ('momentum', 'WORK_OF_ART'), (',', 'STOPWORDS'), ('and', 'CONJUNCTION'), ('has', 'AUXILIARY'), ('realized', 'VERB'), ('trade', 'PRODUCT'), ('surpluses', 'QUANTITY'), ('for', 'PREPOSITION'), ('the', 'DET'), ('third', 'ORDINAL'), ('year', 'DATE'), (',', 'STOPWORDS'), ('in', 'PREPOSITION'), ('a', 'DET'), ('row', 'CARDINAL'), (',', 'STOPWORDS'), ('whereas', 'CONJUNCTION'), ('the', 'DET'), ('amount"
     ]
    },
    {
     "name": "stderr",
     "output_type": "stream",
     "text": [
      " 87%|████████▋ | 87/100 [06:22<01:36,  7.43s/it]"
     ]
    },
    {
     "name": "stdout",
     "output_type": "stream",
     "text": [
      "-----------------------------------------------\n",
      "response does not contain [()]. Returned [('total', 'QUANTITY'), ('amount', 'QUANTITY'), ('foreign', 'ORG'), ('trade', 'PRODUCT'), ('still', 'TIME'), ('maintains', 'VERB'), ('strong', 'ADJ'), ('growth', 'NORP'), ('momentum', 'WORK_OF_ART'), (',', 'STOPWORDS'), ('and', 'CONJUNCTION'), ('has', 'AUXILIARY'), ('realized', 'VERB'), ('trade', 'PRODUCT'), ('surpluses', 'QUANTITY'), ('for', 'PREPOSITION'), ('the', 'DET'), ('third', 'ORDINAL'), ('year', 'DATE'), (',', 'STOPWORDS'), ('in', 'PREPOSITION'), ('a', 'DET'), ('row', 'CARDINAL'), (',', 'STOPWORDS'), ('whereas', 'CONJUNCTION'), ('the', 'DET'), ('amount\n",
      "-----------------------------------------------\n",
      "('Beijing', 'GPE')] "
     ]
    },
    {
     "name": "stderr",
     "output_type": "stream",
     "text": [
      " 88%|████████▊ | 88/100 [06:24<01:07,  5.65s/it]"
     ]
    },
    {
     "name": "stdout",
     "output_type": "stream",
     "text": [
      "('luggage', 'PRODUCT'), ('cart', 'FAC')] "
     ]
    },
    {
     "name": "stderr",
     "output_type": "stream",
     "text": [
      " 89%|████████▉ | 89/100 [06:26<00:50,  4.56s/it]"
     ]
    },
    {
     "name": "stdout",
     "output_type": "stream",
     "text": [
      "('Awadi', 'PERSON'), ('Barry', 'PERSON')] "
     ]
    },
    {
     "name": "stderr",
     "output_type": "stream",
     "text": [
      " 90%|█████████ | 90/100 [06:28<00:38,  3.82s/it]"
     ]
    },
    {
     "name": "stdout",
     "output_type": "stream",
     "text": [
      "('SEC', 'ORG')] "
     ]
    },
    {
     "name": "stderr",
     "output_type": "stream",
     "text": [
      " 91%|█████████ | 91/100 [06:30<00:27,  3.10s/it]"
     ]
    },
    {
     "name": "stdout",
     "output_type": "stream",
     "text": [
      "('The', 'NORP'), ('newspaper', 'GPE'), ('quoted', 'VERB'), ('another', 'CARDINAL'), ('commander', 'PERSON') , ('in', 'ADV'), ('the', 'DET'), ('Mahdi', 'PRODUCT'), ('Army', 'ORG'), ('as', 'CONJUNCTION'), ('saying', 'VERB'), (';', 'PUNCTUATION'), (\" we \", 'PRONOUN') ,('have ', 'AUXILIARY_VERBS'), ('taken', 'VERB'), ('10', 'CARDINAL'), ('Sunnis', 'PERSON'), ('hostages', 'NORP'), (',', 'PUNCTUATION'), (\" we \", 'PRONOUN') ,('will ', 'AUXILIARY_VERBS'), ('get', 'VERB'), ('a', 'DET'), ('ransom', 'PRODUCT"
     ]
    },
    {
     "name": "stderr",
     "output_type": "stream",
     "text": [
      " 92%|█████████▏| 92/100 [06:45<00:54,  6.82s/it]"
     ]
    },
    {
     "name": "stdout",
     "output_type": "stream",
     "text": [
      "-----------------------------------------------\n",
      "response does not contain [()]. Returned [('The', 'NORP'), ('newspaper', 'GPE'), ('quoted', 'VERB'), ('another', 'CARDINAL'), ('commander', 'PERSON') , ('in', 'ADV'), ('the', 'DET'), ('Mahdi', 'PRODUCT'), ('Army', 'ORG'), ('as', 'CONJUNCTION'), ('saying', 'VERB'), (';', 'PUNCTUATION'), (\" we \", 'PRONOUN') ,('have ', 'AUXILIARY_VERBS'), ('taken', 'VERB'), ('10', 'CARDINAL'), ('Sunnis', 'PERSON'), ('hostages', 'NORP'), (',', 'PUNCTUATION'), (\" we \", 'PRONOUN') ,('will ', 'AUXILIARY_VERBS'), ('get', 'VERB'), ('a', 'DET'), ('ransom', 'PRODUCT\n",
      "-----------------------------------------------\n",
      "('Lu', 'PERSON'), ('people', 'NORP')] </end_output>"
     ]
    },
    {
     "name": "stderr",
     "output_type": "stream",
     "text": [
      " 93%|█████████▎| 93/100 [06:46<00:36,  5.15s/it]"
     ]
    },
    {
     "name": "stdout",
     "output_type": "stream",
     "text": [
      "('Detailed', 'WORK_OF_ART'), ('rules', 'MONEY'), ('for', 'ORDINAL'), ('implementing', 'PERSON'), ('temporary', 'PRODUCT'), ('regulations', 'QUANTITY'), ('on', 'CARDINAL'), ('resignations', 'GPE'), ('of', 'FAC'), ('specialists', 'NORP'), (',', 'ORDINAL'), ('technicians', 'PERSON'), ('and', 'PRODUCT'), ('managers', 'LAW'), ('in', 'CARDINAL'), ('state-owned', 'GPE'), ('units', 'FAC')] "
     ]
    },
    {
     "name": "stderr",
     "output_type": "stream",
     "text": [
      " 94%|█████████▍| 94/100 [06:57<00:41,  6.93s/it]"
     ]
    },
    {
     "name": "stdout",
     "output_type": "stream",
     "text": [
      "('Pan', 'PERSON')] [('fever', 'MONEY')] [('chip' , 'FAC')] [('time', 'TIME')] [('promoted', 'PRODUCT')] </start_output>"
     ]
    },
    {
     "name": "stderr",
     "output_type": "stream",
     "text": [
      " 95%|█████████▌| 95/100 [07:00<00:28,  5.63s/it]"
     ]
    },
    {
     "name": "stdout",
     "output_type": "stream",
     "text": [
      "('Senate', 'GPE'), ('Republicans', 'ORG'), ('deficit-reduction legislation ', 'LAW')] "
     ]
    },
    {
     "name": "stderr",
     "output_type": "stream",
     "text": [
      " 96%|█████████▌| 96/100 [07:03<00:19,  4.85s/it]"
     ]
    },
    {
     "name": "stdout",
     "output_type": "stream",
     "text": [
      "('minority', 'NORP')] [('middle-aged', 'NORP')] [('people', 'PERSON')] [('crises', 'EVENT')] [('experienced', 'VERB')] [('a', 'STOPWORD')] [('lot', 'CARDINAL')] [('of', 'STOPWORD')] [('other', 'NORP')] [('people' , 'PERSON')] [(',', 'STOPWORD')] [('so', 'ADV')] [('their', 'PRONOUN')] [('impact', 'EVENT')] [('can', 'VERB')] [('not', 'ADV')] [('be', 'VERB')] [('overlooked' , 'VERB')] "
     ]
    },
    {
     "name": "stderr",
     "output_type": "stream",
     "text": [
      " 97%|█████████▋| 97/100 [07:15<00:21,  7.06s/it]"
     ]
    },
    {
     "name": "stdout",
     "output_type": "stream",
     "text": [
      "('Israel', 'GPE'), ('Shimon Peres', 'PERSON'), ('China', 'GPE')] "
     ]
    },
    {
     "name": "stderr",
     "output_type": "stream",
     "text": [
      " 98%|█████████▊| 98/100 [07:18<00:11,  5.79s/it]"
     ]
    },
    {
     "name": "stdout",
     "output_type": "stream",
     "text": [
      "('Our', 'NORP'), ('production', 'LAW'), ('relations', 'LAW'), (\"'s\", 'NORP')] </end_output>"
     ]
    },
    {
     "name": "stderr",
     "output_type": "stream",
     "text": [
      " 99%|█████████▉| 99/100 [07:21<00:05,  5.02s/it]"
     ]
    },
    {
     "name": "stdout",
     "output_type": "stream",
     "text": [
      "('white', 'NORP')] </stop_output>"
     ]
    },
    {
     "name": "stderr",
     "output_type": "stream",
     "text": [
      "100%|██████████| 100/100 [07:23<00:00,  4.43s/it]\n"
     ]
    },
    {
     "name": "stdout",
     "output_type": "stream",
     "text": [
      "./ner/saves/datasets/ontonote5_test_1403.pkl\n"
     ]
    },
    {
     "name": "stderr",
     "output_type": "stream",
     "text": [
      "  0%|          | 0/100 [00:00<?, ?it/s]"
     ]
    },
    {
     "name": "stdout",
     "output_type": "stream",
     "text": [
      "('Information', 'ORG'), ('International', 'ORG')] "
     ]
    },
    {
     "name": "stderr",
     "output_type": "stream",
     "text": [
      "  1%|          | 1/100 [00:02<03:18,  2.01s/it]"
     ]
    },
    {
     "name": "stdout",
     "output_type": "stream",
     "text": [
      "('total', 'QUANTITY'), ('amount', 'QUANTITY'), ('foreign', 'ORG'), ('trade', 'PRODUCT'), ('still', 'TIME'), ('maintains', 'VERB'), ('strong', 'ADJ'), ('growth', 'NORP'), ('momentum', 'WORK_OF_ART'), (',', 'STOPWORDS'), ('and', 'CONJUNCTION'), ('has', 'AUXILIARY'), ('realized', 'VERB'), ('trade', 'PRODUCT'), ('surpluses', 'QUANTITY'), ('for', 'PREPOSITION'), ('the', 'DET'), ('third', 'ORDINAL'), ('year', 'DATE'), (',', 'STOPWORDS'), ('in', 'PREPOSITION'), ('a', 'DET'), ('row', 'CARDINAL'), (',', 'STOPWORDS'), ('whereas', 'CONJUNCTION'), ('the', 'DET'), ('amount"
     ]
    },
    {
     "name": "stderr",
     "output_type": "stream",
     "text": [
      "  2%|▏         | 2/100 [00:15<14:42,  9.00s/it]"
     ]
    },
    {
     "name": "stdout",
     "output_type": "stream",
     "text": [
      "-----------------------------------------------\n",
      "response does not contain [()]. Returned [('total', 'QUANTITY'), ('amount', 'QUANTITY'), ('foreign', 'ORG'), ('trade', 'PRODUCT'), ('still', 'TIME'), ('maintains', 'VERB'), ('strong', 'ADJ'), ('growth', 'NORP'), ('momentum', 'WORK_OF_ART'), (',', 'STOPWORDS'), ('and', 'CONJUNCTION'), ('has', 'AUXILIARY'), ('realized', 'VERB'), ('trade', 'PRODUCT'), ('surpluses', 'QUANTITY'), ('for', 'PREPOSITION'), ('the', 'DET'), ('third', 'ORDINAL'), ('year', 'DATE'), (',', 'STOPWORDS'), ('in', 'PREPOSITION'), ('a', 'DET'), ('row', 'CARDINAL'), (',', 'STOPWORDS'), ('whereas', 'CONJUNCTION'), ('the', 'DET'), ('amount\n",
      "-----------------------------------------------\n",
      "('We', 'NORP'), ('are', 'VERB'), ('very', 'ADV'), ('clear-eyed', 'ADJ'), ('about', 'PREP'), ('who', 'PERSON'), ('they', 'PRON'), ('are', 'VERB'), (',', 'STOPWORDS'), ('what', 'PRODUCT'), ('they', 'PRON'), ('represent', 'VERB'), (',', 'STOPWORDS'), ('how', 'ADV'), ('much', 'CARDINAL'), ('they\\'ve', 'VERB'), ('denied', 'VERB'), ('their', 'PRON'), ('own', 'DET'), ('people', 'NORP'), (',', 'STOPWORDS'), ('the', 'ARTICLE'), ('basic', 'ADJ'), ('human', 'NOUN'), ('rights', 'NOUN'), ('that', 'CONJ'), ('people', 'NORP'), ('should', 'VERB'), ('have"
     ]
    },
    {
     "name": "stderr",
     "output_type": "stream",
     "text": [
      "  3%|▎         | 3/100 [00:31<19:20, 11.97s/it]"
     ]
    },
    {
     "name": "stdout",
     "output_type": "stream",
     "text": [
      "-----------------------------------------------\n",
      "response does not contain [()]. Returned [('We', 'NORP'), ('are', 'VERB'), ('very', 'ADV'), ('clear-eyed', 'ADJ'), ('about', 'PREP'), ('who', 'PERSON'), ('they', 'PRON'), ('are', 'VERB'), (',', 'STOPWORDS'), ('what', 'PRODUCT'), ('they', 'PRON'), ('represent', 'VERB'), (',', 'STOPWORDS'), ('how', 'ADV'), ('much', 'CARDINAL'), ('they\\'ve', 'VERB'), ('denied', 'VERB'), ('their', 'PRON'), ('own', 'DET'), ('people', 'NORP'), (',', 'STOPWORDS'), ('the', 'ARTICLE'), ('basic', 'ADJ'), ('human', 'NOUN'), ('rights', 'NOUN'), ('that', 'CONJ'), ('people', 'NORP'), ('should', 'VERB'), ('have\n",
      "-----------------------------------------------\n",
      "('schools', 'FAC'), ('homes', 'FAC'), ('consulates', 'ORG')] "
     ]
    },
    {
     "name": "stderr",
     "output_type": "stream",
     "text": [
      "  4%|▍         | 4/100 [00:34<13:15,  8.29s/it]"
     ]
    },
    {
     "name": "stdout",
     "output_type": "stream",
     "text": [
      "('mine', 'PERSON'), ('liability', 'MONEY')] "
     ]
    },
    {
     "name": "stderr",
     "output_type": "stream",
     "text": [
      "  5%|▌         | 5/100 [00:36<09:34,  6.04s/it]"
     ]
    },
    {
     "name": "stdout",
     "output_type": "stream",
     "text": [
      "('father', 'PERSON'), ('first', 'ORDINAL'), ('controller', 'WORK_OF_ART')] "
     ]
    },
    {
     "name": "stderr",
     "output_type": "stream",
     "text": [
      "  6%|▌         | 6/100 [00:38<07:46,  4.96s/it]"
     ]
    },
    {
     "name": "stdout",
     "output_type": "stream",
     "text": [
      "('China', 'GPE'), ('income', 'QUANTITY'), ('gap', 'QUANTITY'), (\"taking\", 'VERB'), ('from', 'PREP'), ('the', 'STOPWORD'), ('rich', 'PERSON'), ('to', 'PREP'), ('help', 'VERB'), ('the', 'STOPWORD'), ('poor', 'PERSON')] "
     ]
    },
    {
     "name": "stderr",
     "output_type": "stream",
     "text": [
      "  7%|▋         | 7/100 [00:45<08:17,  5.35s/it]"
     ]
    },
    {
     "name": "stdout",
     "output_type": "stream",
     "text": [
      "('Many', 'NORP'), ('people', 'NORP'), ('want', 'VERB'), ('to', 'ADV'), ('save', 'VERB'), ('some', 'QUANTITY'), ('travel', 'PRODUCT'), ('expenses', 'MONEY'), ('and', 'CONJUNCTION'), ('earn', 'VERB'), ('some', 'QUANTITY'), ('more', 'CARDINAL'), ('money', 'MONEY'), (',', 'PUNCTUATION'), ('so', 'ADV'), ('it', 'PRONOUN'), ('is', 'AUXILIARY_VERB'), ('very', 'ADJ'), ('common', 'NORP'), ('for', 'CONJUNCTION'), ('them', 'PRONOUN'), ('not', 'NEGATION'), ('to', 'TO'), ('return', 'VERB'), ('home', 'LOC'), ('for', 'PREPOSITION'), ('a',"
     ]
    },
    {
     "name": "stderr",
     "output_type": "stream",
     "text": [
      "  8%|▊         | 8/100 [01:00<13:06,  8.55s/it]"
     ]
    },
    {
     "name": "stdout",
     "output_type": "stream",
     "text": [
      "-----------------------------------------------\n",
      "response does not contain [()]. Returned [('Many', 'NORP'), ('people', 'NORP'), ('want', 'VERB'), ('to', 'ADV'), ('save', 'VERB'), ('some', 'QUANTITY'), ('travel', 'PRODUCT'), ('expenses', 'MONEY'), ('and', 'CONJUNCTION'), ('earn', 'VERB'), ('some', 'QUANTITY'), ('more', 'CARDINAL'), ('money', 'MONEY'), (',', 'PUNCTUATION'), ('so', 'ADV'), ('it', 'PRONOUN'), ('is', 'AUXILIARY_VERB'), ('very', 'ADJ'), ('common', 'NORP'), ('for', 'CONJUNCTION'), ('them', 'PRONOUN'), ('not', 'NEGATION'), ('to', 'TO'), ('return', 'VERB'), ('home', 'LOC'), ('for', 'PREPOSITION'), ('a',\n",
      "-----------------------------------------------\n",
      "('Franklin', 'ORG')] "
     ]
    },
    {
     "name": "stderr",
     "output_type": "stream",
     "text": [
      "  9%|▉         | 9/100 [01:02<09:40,  6.37s/it]"
     ]
    },
    {
     "name": "stdout",
     "output_type": "stream",
     "text": [
      "('Tsao', 'PERSON'), ('Chi-hung', 'PERSON')] "
     ]
    },
    {
     "name": "stderr",
     "output_type": "stream",
     "text": [
      " 10%|█         | 10/100 [01:04<07:39,  5.11s/it]"
     ]
    },
    {
     "name": "stdout",
     "output_type": "stream",
     "text": [
      "('Guaranteed', 'LAW'), ('Law', 'LAW')] "
     ]
    },
    {
     "name": "stderr",
     "output_type": "stream",
     "text": [
      " 11%|█         | 11/100 [01:06<06:16,  4.23s/it]"
     ]
    },
    {
     "name": "stdout",
     "output_type": "stream",
     "text": [
      "('No.', 'CARDINAL'), ('2', 'ORDINAL')] "
     ]
    },
    {
     "name": "stderr",
     "output_type": "stream",
     "text": [
      " 12%|█▏        | 12/100 [01:08<05:16,  3.60s/it]"
     ]
    },
    {
     "name": "stdout",
     "output_type": "stream",
     "text": [
      "('New', 'NORP'), ('York', 'GPE'), ('Times', 'ORG')] </end_output>"
     ]
    },
    {
     "name": "stderr",
     "output_type": "stream",
     "text": [
      " 13%|█▎        | 13/100 [01:11<04:45,  3.28s/it]"
     ]
    },
    {
     "name": "stdout",
     "output_type": "stream",
     "text": [
      "('Iraq', 'GPE'), ('British', 'NORP')] "
     ]
    },
    {
     "name": "stderr",
     "output_type": "stream",
     "text": [
      " 14%|█▍        | 14/100 [01:12<03:52,  2.71s/it]"
     ]
    },
    {
     "name": "stdout",
     "output_type": "stream",
     "text": [
      "('Taiwan', 'GPE')] "
     ]
    },
    {
     "name": "stderr",
     "output_type": "stream",
     "text": [
      " 15%|█▌        | 15/100 [01:13<03:11,  2.25s/it]"
     ]
    },
    {
     "name": "stdout",
     "output_type": "stream",
     "text": [
      "('they', 'PERSON'), ('SMS', 'PRODUCT')] "
     ]
    },
    {
     "name": "stderr",
     "output_type": "stream",
     "text": [
      " 16%|█▌        | 16/100 [01:15<03:03,  2.19s/it]"
     ]
    },
    {
     "name": "stdout",
     "output_type": "stream",
     "text": [
      "('And', 'CARDINAL'), ('that', 'ORDINAL'), ('is', 'VERB'), ('the', 'STOPWORDS'), ('whole', 'NOUN'), ('notion', 'NOUN'), ('of', 'PREPOSITION'), ('the', 'STOPWORDS'), ('use', 'VERB'), ('and', 'CONJUNCTION'), ('abuse', 'VERB'), ('of', 'PREPOSITION'), ('confidential', 'ADJECTIVE'), ('sources', 'NOUN'), ('the', 'STOPWORDS'), ('protections', 'NOUN'), ('that', 'ORDINAL'), ('reporters', 'NOUN'), ('do', 'VERB'), ('or', 'CONJUNCTION'), ('don't', 'ADJECTIVE'), ('have', 'VERB'), ('and', 'CONJUNCTION'), ('the', 'STOPWORDS'), ('propensity', 'NOUN'), ('of', 'PREPOSITION'), ('uh', 'PR"
     ]
    },
    {
     "name": "stderr",
     "output_type": "stream",
     "text": [
      " 17%|█▋        | 17/100 [01:30<08:08,  5.89s/it]"
     ]
    },
    {
     "name": "stdout",
     "output_type": "stream",
     "text": [
      "-----------------------------------------------\n",
      "response does not contain [()]. Returned [('And', 'CARDINAL'), ('that', 'ORDINAL'), ('is', 'VERB'), ('the', 'STOPWORDS'), ('whole', 'NOUN'), ('notion', 'NOUN'), ('of', 'PREPOSITION'), ('the', 'STOPWORDS'), ('use', 'VERB'), ('and', 'CONJUNCTION'), ('abuse', 'VERB'), ('of', 'PREPOSITION'), ('confidential', 'ADJECTIVE'), ('sources', 'NOUN'), ('the', 'STOPWORDS'), ('protections', 'NOUN'), ('that', 'ORDINAL'), ('reporters', 'NOUN'), ('do', 'VERB'), ('or', 'CONJUNCTION'), ('don't', 'ADJECTIVE'), ('have', 'VERB'), ('and', 'CONJUNCTION'), ('the', 'STOPWORDS'), ('propensity', 'NOUN'), ('of', 'PREPOSITION'), ('uh', 'PR\n",
      "-----------------------------------------------\n",
      "('Lucy', 'PERSON'), ('Dalglish', 'PERSON')] </end_output>"
     ]
    },
    {
     "name": "stderr",
     "output_type": "stream",
     "text": [
      " 18%|█▊        | 18/100 [01:32<06:34,  4.82s/it]"
     ]
    },
    {
     "name": "stdout",
     "output_type": "stream",
     "text": [
      "('Queens', 'GPE'), ('Francis X. Curzio', 'PERSON')] "
     ]
    },
    {
     "name": "stderr",
     "output_type": "stream",
     "text": [
      " 19%|█▉        | 19/100 [01:35<05:34,  4.13s/it]"
     ]
    },
    {
     "name": "stdout",
     "output_type": "stream",
     "text": [
      "('nuclear', 'NORP')] [('program', 'PRODUCT')] [('dismantle', 'VERB')] [('their', 'PRONOUN')] [('weapons', 'WORK_OF_ART')] [('of', 'PREPOSITION')] [('mass', 'NORP')] [('destruction', 'PRODUCT')] [('programs', 'PRODUCT')] [('in', 'PREPOSITION')] [('a', 'DETERMINER')] [('verifiable', 'ADJECTIVE')] [('way', 'VERB')] "
     ]
    },
    {
     "name": "stderr",
     "output_type": "stream",
     "text": [
      " 20%|██        | 20/100 [01:44<07:31,  5.64s/it]"
     ]
    },
    {
     "name": "stdout",
     "output_type": "stream",
     "text": [
      "('Eurovision', 'EVENT')] "
     ]
    },
    {
     "name": "stderr",
     "output_type": "stream",
     "text": [
      " 21%|██        | 21/100 [01:45<05:46,  4.39s/it]"
     ]
    },
    {
     "name": "stdout",
     "output_type": "stream",
     "text": [
      "('he', 'PERSON'), ('is', 'VERB')] [('a', 'DET')] [('brilliant', 'ADJ')] [('cover', 'PRODUCT')] [('or', 'CONJUNCTION')] [('red', 'COLOR')] [('-', 'PUNCTUATION')] [('herring', 'FISH')] [('used', 'VERB')] [('as', 'PREPOSITION')] [('a', 'DET')] [('shield', 'PRODUCT')] [(',', 'PUNCTUATION')] [('by', 'PREPOSITION')] [('very', 'ADV')] [('powerful', 'ADJ')] [('forces', 'ORGANIZATION')] , [('responsible', 'VERB')] [(',', 'PUNCTUATION')] [('God', 'RELIGION')] [('-', 'P"
     ]
    },
    {
     "name": "stderr",
     "output_type": "stream",
     "text": [
      " 22%|██▏       | 22/100 [02:00<09:33,  7.36s/it]"
     ]
    },
    {
     "name": "stdout",
     "output_type": "stream",
     "text": [
      "('Christy', 'PERSON'), ('Whitman', 'PERSON')] "
     ]
    },
    {
     "name": "stderr",
     "output_type": "stream",
     "text": [
      " 23%|██▎       | 23/100 [02:02<07:24,  5.78s/it]"
     ]
    },
    {
     "name": "stdout",
     "output_type": "stream",
     "text": [
      "('Japanese', 'ORG')] [('Taiwan', 'GPE')] [('Keelung', 'FAC')] [('Tanshui', 'FAC')] [('Port', 'FAC')] [('Silting', 'QUANTITY')] "
     ]
    },
    {
     "name": "stderr",
     "output_type": "stream",
     "text": [
      " 24%|██▍       | 24/100 [02:06<06:39,  5.25s/it]"
     ]
    },
    {
     "name": "stdout",
     "output_type": "stream",
     "text": [
      "('Vladimir', 'PERSON'), ('Putin', 'PERSON')] </end_output>"
     ]
    },
    {
     "name": "stderr",
     "output_type": "stream",
     "text": [
      " 25%|██▌       | 25/100 [02:08<05:26,  4.35s/it]"
     ]
    },
    {
     "name": "stdout",
     "output_type": "stream",
     "text": [
      "('nation', 'GPE')] "
     ]
    },
    {
     "name": "stderr",
     "output_type": "stream",
     "text": [
      " 26%|██▌       | 26/100 [02:10<04:17,  3.48s/it]"
     ]
    },
    {
     "name": "stdout",
     "output_type": "stream",
     "text": [
      "('Edison', 'ORG')] "
     ]
    },
    {
     "name": "stderr",
     "output_type": "stream",
     "text": [
      " 27%|██▋       | 27/100 [02:11<03:31,  2.90s/it]"
     ]
    },
    {
     "name": "stdout",
     "output_type": "stream",
     "text": [
      "('CIA', 'ORG'), ('leak', 'EVENT')] </end_output>"
     ]
    },
    {
     "name": "stderr",
     "output_type": "stream",
     "text": [
      " 28%|██▊       | 28/100 [02:13<03:10,  2.64s/it]"
     ]
    },
    {
     "name": "stdout",
     "output_type": "stream",
     "text": [
      "('Dirk', 'PERSON')] [('Van', 'NORP')] [('Dongen', 'PERSON')] [('National Association of Wholesaler - Distributors', 'ORG')] [('last month ', 'TIME')] [('rise `` is n't as bad an omen '' , 'EVENT')] "
     ]
    },
    {
     "name": "stderr",
     "output_type": "stream",
     "text": [
      " 29%|██▉       | 29/100 [02:18<03:59,  3.37s/it]"
     ]
    },
    {
     "name": "stdout",
     "output_type": "stream",
     "text": [
      "('taxi', 'FAC'), ('driver', 'PERSON')] "
     ]
    },
    {
     "name": "stderr",
     "output_type": "stream",
     "text": [
      " 30%|███       | 30/100 [02:20<03:19,  2.85s/it]"
     ]
    },
    {
     "name": "stdout",
     "output_type": "stream",
     "text": [
      "('68', 'CARDINAL'), ('East Second Ring Road ', 'FAC')] "
     ]
    },
    {
     "name": "stderr",
     "output_type": "stream",
     "text": [
      " 31%|███       | 31/100 [02:22<03:09,  2.75s/it]"
     ]
    },
    {
     "name": "stdout",
     "output_type": "stream",
     "text": [
      "('I', 'PERSON'), ('am', 'VERB'), ('thankful', 'ADJP'), ('for', 'PREP'), ('the', 'STOPWORDS'), ('bad', 'ADV'), ('times', 'NORP'), (',', 'STOPWORDS'), ('for', 'PREP'), (\"they've\", 'PRONOUN'), ('given', 'VERB'), ('me', 'PERSON'), ('more', 'NUMERAL'), ('insight', 'NOUN'), ('into', 'ADV'), ('life', 'NORP'), (',', 'STOPWORDS'), (\"and\", 'CONJUNCTION'), ('a', 'ARTICLE'), ('better', 'VERB'), ('opportunity', 'NOUN'), ('to', 'PREP'), ('understand', 'VERB'), ('myself', 'PERSON')] "
     ]
    },
    {
     "name": "stderr",
     "output_type": "stream",
     "text": [
      " 32%|███▏      | 32/100 [02:35<06:34,  5.81s/it]"
     ]
    },
    {
     "name": "stdout",
     "output_type": "stream",
     "text": [
      "('Lee', 'PERSON'), ('Chen', 'PERSON')] "
     ]
    },
    {
     "name": "stderr",
     "output_type": "stream",
     "text": [
      " 33%|███▎      | 33/100 [02:37<05:13,  4.68s/it]"
     ]
    },
    {
     "name": "stdout",
     "output_type": "stream",
     "text": [
      "('%uh', 'PERCENT'), ('burglary', 'LAW')] "
     ]
    },
    {
     "name": "stderr",
     "output_type": "stream",
     "text": [
      " 34%|███▍      | 34/100 [02:40<04:18,  3.92s/it]"
     ]
    },
    {
     "name": "stdout",
     "output_type": "stream",
     "text": [
      "('100,000', 'MONEY')] [('US dollars', 'MONEY')] [('Huichun ', 'FAC')] [('frontier cooperative area', 'FAC')] [('environmental aspect', 'LAW')] "
     ]
    },
    {
     "name": "stderr",
     "output_type": "stream",
     "text": [
      " 35%|███▌      | 35/100 [02:44<04:26,  4.10s/it]"
     ]
    },
    {
     "name": "stdout",
     "output_type": "stream",
     "text": [
      "('first', 'ORDINAL'), ('two', 'CARDINAL'), ('months', 'TIME'), ('total', 'QUANTITY'), ('value', 'MONEY'), ('import', 'PRODUCT'), ('export', 'PRODUCT'), ('trade', 'WORK_OF_ART'), ('reached', 'VERB'), ('1.24', 'CARDINAL'), ('billion', 'NUMBER'), ('US', 'LANGUAGE'), ('dollars', 'MONEY'), ('increasing', 'ADJECTIVE'), ('6', 'CARDINAL'), ('%', '%'), ('over', 'VERB'), ('same', 'DETERMINER'), ('period', 'TIME'), ('last', 'ADJECTIVE'), ('year', 'GPE')] "
     ]
    },
    {
     "name": "stderr",
     "output_type": "stream",
     "text": [
      " 36%|███▌      | 36/100 [02:57<07:05,  6.65s/it]"
     ]
    },
    {
     "name": "stdout",
     "output_type": "stream",
     "text": [
      "('Ash', 'PERSON'), ('Al-Queda', 'ORG')] </end_output>"
     ]
    },
    {
     "name": "stderr",
     "output_type": "stream",
     "text": [
      " 37%|███▋      | 37/100 [02:59<05:31,  5.26s/it]"
     ]
    },
    {
     "name": "stdout",
     "output_type": "stream",
     "text": [
      "('situation', 'EVENT'), ('mentioned', 'TIME')] </stop_output>"
     ]
    },
    {
     "name": "stderr",
     "output_type": "stream",
     "text": [
      " 38%|███▊      | 38/100 [03:01<04:27,  4.31s/it]"
     ]
    },
    {
     "name": "stdout",
     "output_type": "stream",
     "text": [
      "('Pelswick', 'PRODUCT')] "
     ]
    },
    {
     "name": "stderr",
     "output_type": "stream",
     "text": [
      " 39%|███▉      | 39/100 [03:02<03:31,  3.47s/it]"
     ]
    },
    {
     "name": "stdout",
     "output_type": "stream",
     "text": [
      "('housewife', 'NORP')] [('three generations', 'QUANTITY')] [('community organization', 'FAC')] "
     ]
    },
    {
     "name": "stderr",
     "output_type": "stream",
     "text": [
      " 40%|████      | 40/100 [03:05<03:23,  3.39s/it]"
     ]
    },
    {
     "name": "stdout",
     "output_type": "stream",
     "text": [
      "('GA', 'ORG'), ('St.', 'LOC')] </end_output>"
     ]
    },
    {
     "name": "stderr",
     "output_type": "stream",
     "text": [
      " 41%|████      | 41/100 [03:07<02:53,  2.94s/it]"
     ]
    },
    {
     "name": "stdout",
     "output_type": "stream",
     "text": [
      "('The', 'NORP')] [('same', 'QUANTITY')] [('means', 'MONEY')] [('of', 'PRODUCT')] [('control', 'PERCENT')] [('are', 'ORDINAL')] [('used', 'WORK_OF_ART')] [(',', '')] [('the', 'NORP')] [('constant', 'MONEY')] [('reinforcement', 'PRODUCT')] [('that', 'PERCENT')] [('you', 'GPE')] [('are', 'ORDINAL')] [('helpless', 'QUANTITY')] [(',', '')] [('without', 'MONEY')] [('society', 'NORP')] , that you can not survive without obeying its rules and that you will go to hell if you do n't obey the tenets of its religion . '' "
     ]
    },
    {
     "name": "stderr",
     "output_type": "stream",
     "text": [
      " 42%|████▏     | 42/100 [03:22<06:22,  6.59s/it]"
     ]
    },
    {
     "name": "stdout",
     "output_type": "stream",
     "text": [
      "('August', 'DATE'), ('23rd', 'ORDINAL')] [('US', 'GPE'), ('president', 'PERSON'), ('signed', 'VERB'), (\"'1995 financial year overseas activities fund appropriation act'\", 'WORK_OF_ART')] [('UN', 'ORG'), ('population fund', 'PRODUCT'), ('must not be used in China', 'QUANTITY')] "
     ]
    },
    {
     "name": "stderr",
     "output_type": "stream",
     "text": [
      " 43%|████▎     | 43/100 [03:28<06:04,  6.40s/it]"
     ]
    },
    {
     "name": "stdout",
     "output_type": "stream",
     "text": [
      "('many', 'CARDINAL'), ('viewers', 'NORP')] "
     ]
    },
    {
     "name": "stderr",
     "output_type": "stream",
     "text": [
      " 44%|████▍     | 44/100 [03:30<04:41,  5.03s/it]"
     ]
    },
    {
     "name": "stdout",
     "output_type": "stream",
     "text": [
      "('A', 'ORDINAL'), ('firm', 'NORP'), ('consensus', 'PERSON'), ('was', 'VERB'), ('finally', 'ADV'), ('arrived', 'VERB'), ('at', 'PREPOSITION'), ('and', 'CONJUNCTION'), ('the', 'STOPWORDS'), ('Group', 'PRODUCT'), ('submitted', 'VERB'), ('to', 'PREPOSITION'), ('the', 'STOPWORDS'), ('president', 'PERSON'), ('its', 'PRONOUN'), ('proposal', 'WORK_OF_ART'), ('that', 'CONJUNCTION'), ('Taiwan', 'GPE'), ('should', 'VERB'), (\"' respond \", 'ADV'), ('to', 'PREPOSITION'), ('the', 'STOPWORDS'), ('mainland ', 'LOC'), ('\\'s', 'APOSTROPHE'), ('one China ', 'WORK_OF_ART'), ('proposition', 'PRODUCT'),"
     ]
    },
    {
     "name": "stderr",
     "output_type": "stream",
     "text": [
      " 45%|████▌     | 45/100 [03:43<06:43,  7.33s/it]"
     ]
    },
    {
     "name": "stdout",
     "output_type": "stream",
     "text": [
      "-----------------------------------------------\n",
      "response does not contain [()]. Returned [('A', 'ORDINAL'), ('firm', 'NORP'), ('consensus', 'PERSON'), ('was', 'VERB'), ('finally', 'ADV'), ('arrived', 'VERB'), ('at', 'PREPOSITION'), ('and', 'CONJUNCTION'), ('the', 'STOPWORDS'), ('Group', 'PRODUCT'), ('submitted', 'VERB'), ('to', 'PREPOSITION'), ('the', 'STOPWORDS'), ('president', 'PERSON'), ('its', 'PRONOUN'), ('proposal', 'WORK_OF_ART'), ('that', 'CONJUNCTION'), ('Taiwan', 'GPE'), ('should', 'VERB'), (\"' respond \", 'ADV'), ('to', 'PREPOSITION'), ('the', 'STOPWORDS'), ('mainland ', 'LOC'), ('\\'s', 'APOSTROPHE'), ('one China ', 'WORK_OF_ART'), ('proposition', 'PRODUCT'),\n",
      "-----------------------------------------------\n",
      "('ten', 'CARDINAL'), ('agricultural', 'ORG'), ('new', 'ORDINAL'), ('high', 'QUANTITY'), ('level', 'NORP'), ('technology', 'PRODUCT')] "
     ]
    },
    {
     "name": "stderr",
     "output_type": "stream",
     "text": [
      " 46%|████▌     | 46/100 [03:46<05:32,  6.16s/it]"
     ]
    },
    {
     "name": "stdout",
     "output_type": "stream",
     "text": [
      "('Japan', 'GPE')] "
     ]
    },
    {
     "name": "stderr",
     "output_type": "stream",
     "text": [
      " 47%|████▋     | 47/100 [03:48<04:08,  4.68s/it]"
     ]
    },
    {
     "name": "stdout",
     "output_type": "stream",
     "text": [
      "('European', 'GPE'), ('defense industry', 'ORG'), ('West Germany ', 'GPE'), ('Siemens AG', 'PRODUCT'), ('Britain ', 'GPE'), ('Plessey Co.', 'PRODUCT')] "
     ]
    },
    {
     "name": "stderr",
     "output_type": "stream",
     "text": [
      " 48%|████▊     | 48/100 [03:52<03:53,  4.50s/it]"
     ]
    },
    {
     "name": "stdout",
     "output_type": "stream",
     "text": [
      "('truck', 'PRODUCT')] [('bombs', 'MONEY')] [('their', 'NORP')] [('targets', 'FAC')] [('using', 'VERB')] [('more', 'CARDINAL')] [('conventional', 'ADJ')] [('means', 'NOUN')] "
     ]
    },
    {
     "name": "stderr",
     "output_type": "stream",
     "text": [
      " 49%|████▉     | 49/100 [03:57<03:57,  4.66s/it]"
     ]
    },
    {
     "name": "stdout",
     "output_type": "stream",
     "text": [
      "('We', 'NORP'), ('must', 'VERB'), ('control', 'VERB'), ('the', 'STOPWORDS'), ('desert', 'GPE'), ('that', 'STOPWORDS'), (\"'s\", 'STOPWORDS'), ('day', 'ORDINAL'), ('-', 'STOPWORDS'), ('by', 'PREP'), ('-', 'STOPWORDS'), ('eroding', 'VERB'), ('arable', 'NORP'), ('land', 'GPE'), (',', 'STOPWORDS'), (\"'\", 'STOPWORDS'), ('develop', 'VERB'), ('new', 'CARDINAL'), ('sources', 'PRODUCT'), ('of', 'PREP'), ('water', 'WORK_OF_ART'), (',', 'STOPWORDS'), ('and', 'CONJUNCTION'), ('carry', 'VERB'), ('out', 'VERB'), ('new', 'CARDINAL'), (\"'\", 'STOPWORDS'), ('engineering"
     ]
    },
    {
     "name": "stderr",
     "output_type": "stream",
     "text": [
      " 50%|█████     | 50/100 [04:10<05:56,  7.14s/it]"
     ]
    },
    {
     "name": "stdout",
     "output_type": "stream",
     "text": [
      "-----------------------------------------------\n",
      "response does not contain [()]. Returned [('We', 'NORP'), ('must', 'VERB'), ('control', 'VERB'), ('the', 'STOPWORDS'), ('desert', 'GPE'), ('that', 'STOPWORDS'), (\"'s\", 'STOPWORDS'), ('day', 'ORDINAL'), ('-', 'STOPWORDS'), ('by', 'PREP'), ('-', 'STOPWORDS'), ('eroding', 'VERB'), ('arable', 'NORP'), ('land', 'GPE'), (',', 'STOPWORDS'), (\"'\", 'STOPWORDS'), ('develop', 'VERB'), ('new', 'CARDINAL'), ('sources', 'PRODUCT'), ('of', 'PREP'), ('water', 'WORK_OF_ART'), (',', 'STOPWORDS'), ('and', 'CONJUNCTION'), ('carry', 'VERB'), ('out', 'VERB'), ('new', 'CARDINAL'), (\"'\", 'STOPWORDS'), ('engineering\n",
      "-----------------------------------------------\n",
      "('Kuo', 'PERSON'), ('contract production', 'PRODUCT'), ('TGS ', 'ORG'), ('R&amp;D work', 'WORK_OF_ART')] "
     ]
    },
    {
     "name": "stderr",
     "output_type": "stream",
     "text": [
      " 51%|█████     | 51/100 [04:13<04:50,  5.93s/it]"
     ]
    },
    {
     "name": "stdout",
     "output_type": "stream",
     "text": [
      "('Kuo', 'PERSON'), ('number', 'QUANTITY')] </end_output>"
     ]
    },
    {
     "name": "stderr",
     "output_type": "stream",
     "text": [
      " 52%|█████▏    | 52/100 [04:15<03:45,  4.69s/it]"
     ]
    },
    {
     "name": "stdout",
     "output_type": "stream",
     "text": [
      "('California', 'GPE'), ('wholesale electricity prices', 'PRODUCT')] "
     ]
    },
    {
     "name": "stderr",
     "output_type": "stream",
     "text": [
      " 53%|█████▎    | 53/100 [04:16<02:51,  3.65s/it]"
     ]
    },
    {
     "name": "stdout",
     "output_type": "stream",
     "text": [
      "('Biochips', 'PRODUCT')] "
     ]
    },
    {
     "name": "stderr",
     "output_type": "stream",
     "text": [
      " 54%|█████▍    | 54/100 [04:17<02:16,  2.96s/it]"
     ]
    },
    {
     "name": "stdout",
     "output_type": "stream",
     "text": [
      "('Hugo', 'PERSON'), ('Quackenbush', 'PERSON'), ('Charles', 'ORG'), ('Schwab', 'ORG')] "
     ]
    },
    {
     "name": "stderr",
     "output_type": "stream",
     "text": [
      " 55%|█████▌    | 55/100 [04:20<02:13,  2.98s/it]"
     ]
    },
    {
     "name": "stdout",
     "output_type": "stream",
     "text": [
      "('America', 'GPE')] [('Maimaiti', 'FAC')] [('problem', 'EVENT')] "
     ]
    },
    {
     "name": "stderr",
     "output_type": "stream",
     "text": [
      " 56%|█████▌    | 56/100 [04:23<02:03,  2.82s/it]"
     ]
    },
    {
     "name": "stdout",
     "output_type": "stream",
     "text": [
      "('no', 'ORDINAL'), ('substantive', 'NORP')] </end_output>"
     ]
    },
    {
     "name": "stderr",
     "output_type": "stream",
     "text": [
      " 57%|█████▋    | 57/100 [04:24<01:49,  2.55s/it]"
     ]
    },
    {
     "name": "stdout",
     "output_type": "stream",
     "text": [
      "('President', 'PERSON'), ('Clinton', 'PERSON'), ('and', 'STOPWORDS'), ('Prime', 'STOPWORDS'), ('Minister', 'STOPWORDS'), ('Hasina', 'PERSON'), ('agreed', 'VERB'), ('that', 'CONJUNCTION'), ('it', 'PRONOUN'), ('is', 'AUXILIARY_VERBS'), ('essential', 'ADJECTIVE'), ('for', 'PREPOSITIONS'), ('the', 'DETERMINERS'), ('US', 'GPE'), ('and', 'STOPWORDS'), ('Bangladesh', 'GPE'), ('to', 'CONJUNCTION'), ('coordinate', 'VERB'), ('positions', 'NOUN'), ('on', 'PREPOSITIONS'), ('major', 'ADJECTIVE'), ('issues', 'NOUN'), (',', 'STOPWORDS'), ('that', 'CONJUNCTION'), ('come', 'VERB'), ('before"
     ]
    },
    {
     "name": "stderr",
     "output_type": "stream",
     "text": [
      " 58%|█████▊    | 58/100 [04:37<03:47,  5.43s/it]"
     ]
    },
    {
     "name": "stdout",
     "output_type": "stream",
     "text": [
      "-----------------------------------------------\n",
      "response does not contain [()]. Returned [('President', 'PERSON'), ('Clinton', 'PERSON'), ('and', 'STOPWORDS'), ('Prime', 'STOPWORDS'), ('Minister', 'STOPWORDS'), ('Hasina', 'PERSON'), ('agreed', 'VERB'), ('that', 'CONJUNCTION'), ('it', 'PRONOUN'), ('is', 'AUXILIARY_VERBS'), ('essential', 'ADJECTIVE'), ('for', 'PREPOSITIONS'), ('the', 'DETERMINERS'), ('US', 'GPE'), ('and', 'STOPWORDS'), ('Bangladesh', 'GPE'), ('to', 'CONJUNCTION'), ('coordinate', 'VERB'), ('positions', 'NOUN'), ('on', 'PREPOSITIONS'), ('major', 'ADJECTIVE'), ('issues', 'NOUN'), (',', 'STOPWORDS'), ('that', 'CONJUNCTION'), ('come', 'VERB'), ('before\n",
      "-----------------------------------------------\n",
      "('Overall', 'GPE'), ('South', 'GPE'), ('West', 'GPE')] "
     ]
    },
    {
     "name": "stderr",
     "output_type": "stream",
     "text": [
      " 59%|█████▉    | 59/100 [04:39<03:01,  4.42s/it]"
     ]
    },
    {
     "name": "stdout",
     "output_type": "stream",
     "text": [
      "('Tanshui', 'GPE')] "
     ]
    },
    {
     "name": "stderr",
     "output_type": "stream",
     "text": [
      " 60%|██████    | 60/100 [04:40<02:19,  3.48s/it]"
     ]
    },
    {
     "name": "stdout",
     "output_type": "stream",
     "text": [
      "('Saturday', 'TIME')] "
     ]
    },
    {
     "name": "stderr",
     "output_type": "stream",
     "text": [
      " 61%|██████    | 61/100 [04:41<01:48,  2.79s/it]"
     ]
    },
    {
     "name": "stdout",
     "output_type": "stream",
     "text": [
      "('U.S.', 'GPE'), ('wheat', 'PRODUCT')] "
     ]
    },
    {
     "name": "stderr",
     "output_type": "stream",
     "text": [
      " 62%|██████▏   | 62/100 [04:43<01:34,  2.50s/it]"
     ]
    },
    {
     "name": "stdout",
     "output_type": "stream",
     "text": [
      "('French', 'GPE'), ('Europe ', 'GPE')] "
     ]
    },
    {
     "name": "stderr",
     "output_type": "stream",
     "text": [
      " 63%|██████▎   | 63/100 [04:44<01:18,  2.13s/it]"
     ]
    },
    {
     "name": "stdout",
     "output_type": "stream",
     "text": [
      "('Yes', 'O'), ('I', 'O'), ('think', 'O'), ('as', 'O'), ('we', 'O'), ('build', 'O'), ('this', 'O'), ('kind', 'O'), (',', 'O'), ('er', 'O'), (',', 'O'), ('of', 'O'), ('public', 'GPE'), (',', 'O'), ('er', 'O'), (',', 'O'), ('emergency', 'ORG'), ('mechanism', 'NORP') ,('for', 'O'), ('public', 'GPE'), ('incidents', 'EVENT'), (',', 'O'), ('ah', 'O'), (',', 'O'), ('has', 'O'), ('been', 'O'), ('the', 'ORDINAL'), (',', 'O'), ('most', 'CARDINAL'), ('difficult', 'NORP') ,('to', 'O'), ('resolve', 'VERB'), (',"
     ]
    },
    {
     "name": "stderr",
     "output_type": "stream",
     "text": [
      " 64%|██████▍   | 64/100 [04:58<03:18,  5.53s/it]"
     ]
    },
    {
     "name": "stdout",
     "output_type": "stream",
     "text": [
      "-----------------------------------------------\n",
      "response does not contain [()]. Returned [('Yes', 'O'), ('I', 'O'), ('think', 'O'), ('as', 'O'), ('we', 'O'), ('build', 'O'), ('this', 'O'), ('kind', 'O'), (',', 'O'), ('er', 'O'), (',', 'O'), ('of', 'O'), ('public', 'GPE'), (',', 'O'), ('er', 'O'), (',', 'O'), ('emergency', 'ORG'), ('mechanism', 'NORP') ,('for', 'O'), ('public', 'GPE'), ('incidents', 'EVENT'), (',', 'O'), ('ah', 'O'), (',', 'O'), ('has', 'O'), ('been', 'O'), ('the', 'ORDINAL'), (',', 'O'), ('most', 'CARDINAL'), ('difficult', 'NORP') ,('to', 'O'), ('resolve', 'VERB'), (',\n",
      "-----------------------------------------------\n",
      "('Iraq', 'GPE')] </output>"
     ]
    },
    {
     "name": "stderr",
     "output_type": "stream",
     "text": [
      " 65%|██████▌   | 65/100 [04:59<02:30,  4.31s/it]"
     ]
    },
    {
     "name": "stdout",
     "output_type": "stream",
     "text": [
      "('Russia', 'GPE'), ('Pakistan', 'GPE')] "
     ]
    },
    {
     "name": "stderr",
     "output_type": "stream",
     "text": [
      " 66%|██████▌   | 66/100 [05:01<02:03,  3.65s/it]"
     ]
    },
    {
     "name": "stdout",
     "output_type": "stream",
     "text": [
      "('personal', 'PERSON'), ('income', 'MONEY'), ('tax', 'LAW'), ('threshold', 'QUANTITY'), ('too', 'ORDINAL'), ('low', 'CARDINAL')] , [('urban', 'GPE'), ('population', 'NORP'), ('is', 'VERB'), ('too', 'ORDINAL'), ('large', 'CARDINAL')] , [('participating', 'PERSON'), ('in', 'PREPOSITION'), ('20 %', 'QUANTITY'), ('that', 'CONJUNCTION'), ('goes', 'VERB'), ('to', 'TO'), ('peasants', 'ORG')] , [('ultimately', 'ADV'), ('have', 'AUXILIARY_VERB'), ('to', 'TO'), ('get', 'VERB'), ('a', 'DETERMINER'), ('reduced', 'CARDINAL'), ('share', 'NOR"
     ]
    },
    {
     "name": "stderr",
     "output_type": "stream",
     "text": [
      " 67%|██████▋   | 67/100 [05:17<03:57,  7.21s/it]"
     ]
    },
    {
     "name": "stdout",
     "output_type": "stream",
     "text": [
      "('They', 'PERSON'), ('\\'ve', 'VERB')] [('never', 'ORDINAL')] [('shown', 'VERB')] [('any', 'CARDINAL')] [('inclination', 'WORK_OF_ART')] [('to', 'PREP')] [('spend', 'VERB')] [('money', 'MONEY')] , "
     ]
    },
    {
     "name": "stderr",
     "output_type": "stream",
     "text": [
      " 68%|██████▊   | 68/100 [05:23<03:37,  6.81s/it]"
     ]
    },
    {
     "name": "stdout",
     "output_type": "stream",
     "text": [
      "('Enterprises', 'ORG'), ('whose', 'NORP'), ('system', 'FAC'), ('is', 'VERB'), ('changed', 'WORK_OF_ART'), ('in', 'ADV'), ('this', 'DET'), ('form', 'NOUN'), ('can', 'AUX'), ('enjoy', 'VERB'), ('preferential', 'NORP'), ('policies', 'PRODUCT'), (',', 'STOPWORDS'), ('such', 'ADJ'), ('as', 'CONJ'), ('income', 'MONEY'), ('taxes', 'LAW'), ('being', 'AUX'), ('returned', 'VERB'), ('when', 'DET'), ('they', 'PRONOUN'), ('exceed', 'WORK_OF_ART'), ('the', 'STOPWORDS'), ('base', 'NOUN'), (',', 'STOPWORDS'), ('temporarily', 'ADV'), ('not', 'VERB'), ('"
     ]
    },
    {
     "name": "stderr",
     "output_type": "stream",
     "text": [
      " 69%|██████▉   | 69/100 [05:38<04:50,  9.36s/it]"
     ]
    },
    {
     "name": "stdout",
     "output_type": "stream",
     "text": [
      "-----------------------------------------------\n",
      "response does not contain [()]. Returned [('Enterprises', 'ORG'), ('whose', 'NORP'), ('system', 'FAC'), ('is', 'VERB'), ('changed', 'WORK_OF_ART'), ('in', 'ADV'), ('this', 'DET'), ('form', 'NOUN'), ('can', 'AUX'), ('enjoy', 'VERB'), ('preferential', 'NORP'), ('policies', 'PRODUCT'), (',', 'STOPWORDS'), ('such', 'ADJ'), ('as', 'CONJ'), ('income', 'MONEY'), ('taxes', 'LAW'), ('being', 'AUX'), ('returned', 'VERB'), ('when', 'DET'), ('they', 'PRONOUN'), ('exceed', 'WORK_OF_ART'), ('the', 'STOPWORDS'), ('base', 'NOUN'), (',', 'STOPWORDS'), ('temporarily', 'ADV'), ('not', 'VERB'), ('\n",
      "-----------------------------------------------\n",
      "('company', 'ORG')] "
     ]
    },
    {
     "name": "stderr",
     "output_type": "stream",
     "text": [
      " 70%|███████   | 70/100 [05:39<03:29,  6.98s/it]"
     ]
    },
    {
     "name": "stdout",
     "output_type": "stream",
     "text": [
      "('Mr.', 'PERSON'), ('Lantos', 'PERSON')] "
     ]
    },
    {
     "name": "stderr",
     "output_type": "stream",
     "text": [
      " 71%|███████   | 71/100 [05:41<02:39,  5.50s/it]"
     ]
    },
    {
     "name": "stdout",
     "output_type": "stream",
     "text": [
      "('Iraq', 'GPE')] </stop_output>"
     ]
    },
    {
     "name": "stderr",
     "output_type": "stream",
     "text": [
      " 72%|███████▏  | 72/100 [05:43<02:01,  4.33s/it]"
     ]
    },
    {
     "name": "stdout",
     "output_type": "stream",
     "text": [
      "('encourages', 'VERB'), ('small', 'ADJ'), ('State - owned', 'NORP'), ('enterprises', 'PRODUCT'), ('to', 'TO'), ('cross', 'VERB'), ('industries', 'FAC'), ('to', 'TO'), ('cross', 'VERB'), ('regions', 'GPE'), ('and', 'CONJUNCTION'), ('to', 'TO'), ('cross', 'VERB'), ('ownership systems', 'NORP'), ('to', 'TO'), ('look', 'VERB'), ('for', 'PREPOSITION'), ('co-operation partners', 'PRODUCT'), ('and', 'CONJUNCTION'), ('to', 'TO'), ('proactively', 'ADV'), (\"' become related by marriage '\", 'QUOTE'), ('with', 'INFINITIVE_MARKER'), ('dominant enterprises', 'ORG'), ('and', 'CONJUNCTION'), ('to', 'TO'), ('mutually"
     ]
    },
    {
     "name": "stderr",
     "output_type": "stream",
     "text": [
      " 73%|███████▎  | 73/100 [05:58<03:20,  7.43s/it]"
     ]
    },
    {
     "name": "stdout",
     "output_type": "stream",
     "text": [
      "-----------------------------------------------\n",
      "response does not contain [()]. Returned [('encourages', 'VERB'), ('small', 'ADJ'), ('State - owned', 'NORP'), ('enterprises', 'PRODUCT'), ('to', 'TO'), ('cross', 'VERB'), ('industries', 'FAC'), ('to', 'TO'), ('cross', 'VERB'), ('regions', 'GPE'), ('and', 'CONJUNCTION'), ('to', 'TO'), ('cross', 'VERB'), ('ownership systems', 'NORP'), ('to', 'TO'), ('look', 'VERB'), ('for', 'PREPOSITION'), ('co-operation partners', 'PRODUCT'), ('and', 'CONJUNCTION'), ('to', 'TO'), ('proactively', 'ADV'), (\"' become related by marriage '\", 'QUOTE'), ('with', 'INFINITIVE_MARKER'), ('dominant enterprises', 'ORG'), ('and', 'CONJUNCTION'), ('to', 'TO'), ('mutually\n",
      "-----------------------------------------------\n",
      "('We', 'PERSON'), ('got', 'VERB'), ('calls', 'NORP'), ('from', 'PREPOSITION'), ('big', 'QUANTITY'), ('block', 'FAC'), ('houses', 'GPE'), ('asking', 'VERB'), ('us', 'PRONOUN'), ('if', 'CONJUNCTION'), ('we', 'PERSON'), ('want', 'VERB'), ('to', 'PREPOSITION'), ('make', 'VERB'), ('bids', 'NORP'), ('on', 'PREPOSITION'), ('anything', 'QUANTITY'), (',', 'STOPWORDS'), ('said', 'VERB'), ('Mr.', 'PERSON'), ('.', 'STOPWORDS'), ('Weisman', 'PERSON'), ',', 'STOPWORDS') , ('who', 'PRONOUN'), (',', 'STOPWORDS'), ('happy', 'ADJECTIVE'), ('with', 'PREPOSITION'),"
     ]
    },
    {
     "name": "stderr",
     "output_type": "stream",
     "text": [
      " 74%|███████▍  | 74/100 [06:13<04:12,  9.72s/it]"
     ]
    },
    {
     "name": "stdout",
     "output_type": "stream",
     "text": [
      "-----------------------------------------------\n",
      "response does not contain [()]. Returned [('We', 'PERSON'), ('got', 'VERB'), ('calls', 'NORP'), ('from', 'PREPOSITION'), ('big', 'QUANTITY'), ('block', 'FAC'), ('houses', 'GPE'), ('asking', 'VERB'), ('us', 'PRONOUN'), ('if', 'CONJUNCTION'), ('we', 'PERSON'), ('want', 'VERB'), ('to', 'PREPOSITION'), ('make', 'VERB'), ('bids', 'NORP'), ('on', 'PREPOSITION'), ('anything', 'QUANTITY'), (',', 'STOPWORDS'), ('said', 'VERB'), ('Mr.', 'PERSON'), ('.', 'STOPWORDS'), ('Weisman', 'PERSON'), ',', 'STOPWORDS') , ('who', 'PRONOUN'), (',', 'STOPWORDS'), ('happy', 'ADJECTIVE'), ('with', 'PREPOSITION'),\n",
      "-----------------------------------------------\n",
      "('youth', 'NORP'), ('old age', 'NORP')] "
     ]
    },
    {
     "name": "stderr",
     "output_type": "stream",
     "text": [
      " 75%|███████▌  | 75/100 [06:15<03:06,  7.47s/it]"
     ]
    },
    {
     "name": "stdout",
     "output_type": "stream",
     "text": [
      "('Soul Mountain', 'WORK_OF_ART')] "
     ]
    },
    {
     "name": "stderr",
     "output_type": "stream",
     "text": [
      " 76%|███████▌  | 76/100 [06:17<02:18,  5.78s/it]"
     ]
    },
    {
     "name": "stdout",
     "output_type": "stream",
     "text": [
      "('its', 'PERSON'), ('previous', 'WORK_OF_ART'), ('mayor', 'ORG'), ('committed', 'DATE'), ('suicide', 'LAW'), ('last', 'ORDINAL'), ('year', 'TIME'), ('an', 'CARDINAL'), ('investigation', 'PRODUCT'), ('disclosed', 'MONEY'), ('that', 'PERSON'), ('town', 'GPE'), ('officials', 'FAC'), ('regularly', 'NORP'), ('voted', 'LAW'), ('on', 'CARDINAL'), ('their', 'PRODUCT'), ('own', 'MONEY'), ('projects', 'PERSON'), (',', 'STOPWORDS'), ('gave', 'ORDINAL'), ('special', 'NORP'), ('favors', 'LAW'), ('to', 'CARDINAL'), ('developer', 'PRODUCT'), ('friends', 'GPE'), ('and', '"
     ]
    },
    {
     "name": "stderr",
     "output_type": "stream",
     "text": [
      " 77%|███████▋  | 77/100 [06:32<03:16,  8.55s/it]"
     ]
    },
    {
     "name": "stdout",
     "output_type": "stream",
     "text": [
      "-----------------------------------------------\n",
      "response does not contain [()]. Returned [('its', 'PERSON'), ('previous', 'WORK_OF_ART'), ('mayor', 'ORG'), ('committed', 'DATE'), ('suicide', 'LAW'), ('last', 'ORDINAL'), ('year', 'TIME'), ('an', 'CARDINAL'), ('investigation', 'PRODUCT'), ('disclosed', 'MONEY'), ('that', 'PERSON'), ('town', 'GPE'), ('officials', 'FAC'), ('regularly', 'NORP'), ('voted', 'LAW'), ('on', 'CARDINAL'), ('their', 'PRODUCT'), ('own', 'MONEY'), ('projects', 'PERSON'), (',', 'STOPWORDS'), ('gave', 'ORDINAL'), ('special', 'NORP'), ('favors', 'LAW'), ('to', 'CARDINAL'), ('developer', 'PRODUCT'), ('friends', 'GPE'), ('and', '\n",
      "-----------------------------------------------\n",
      "('Mister', 'NORP')] [('Ambassador', 'PERSON')] [('fourth', 'DATE')] [('July', 'DATE')] [('Iran', 'GPE')] [('differently', 'ADV')] [('than', 'CONJ')] [('North Korea', 'GPE')] "
     ]
    },
    {
     "name": "stderr",
     "output_type": "stream",
     "text": [
      " 78%|███████▊  | 78/100 [06:37<02:46,  7.56s/it]"
     ]
    },
    {
     "name": "stdout",
     "output_type": "stream",
     "text": [
      "('Mr.', 'PERSON'), ('Louis', 'PERSON')] "
     ]
    },
    {
     "name": "stderr",
     "output_type": "stream",
     "text": [
      " 79%|███████▉  | 79/100 [06:39<02:03,  5.90s/it]"
     ]
    },
    {
     "name": "stdout",
     "output_type": "stream",
     "text": [
      "('Xinhua', 'ORG'), ('Baghdad', 'LOC')] "
     ]
    },
    {
     "name": "stderr",
     "output_type": "stream",
     "text": [
      " 80%|████████  | 80/100 [06:41<01:35,  4.79s/it]"
     ]
    },
    {
     "name": "stdout",
     "output_type": "stream",
     "text": [
      "('report', 'WORK_OF_ART')] "
     ]
    },
    {
     "name": "stderr",
     "output_type": "stream",
     "text": [
      " 81%|████████  | 81/100 [06:43<01:12,  3.84s/it]"
     ]
    },
    {
     "name": "stdout",
     "output_type": "stream",
     "text": [
      "('Islam', 'WORK_OF_ART'), ('Diary', 'WORK_OF_ART')] "
     ]
    },
    {
     "name": "stderr",
     "output_type": "stream",
     "text": [
      " 82%|████████▏ | 82/100 [06:46<01:02,  3.49s/it]"
     ]
    },
    {
     "name": "stdout",
     "output_type": "stream",
     "text": [
      "('Coming', 'TIME'), ('next', 'TIME'), ('the', 'STOPWORDS'), ('view', 'WORK_OF_ART'), ('of', 'STOPWORDS'), ('three', 'CARDINAL'), ('former', 'ADJECTIVE'), ('Clinton', 'PERSON'), ('Administration', 'ORG'), ('officials', 'NORP'), ('who', 'PRONOUN'), ('spent', 'VERB'), ('years', 'QUANTITY'), ('dealing', 'VERB'), ('with', 'STOPWORDS'), ('the', 'STOPWORDS'), ('North', 'GPE'), ('Korea', 'GPE'), ('problem', 'WORK_OF_ART'), ('.', 'PUNCTUATION')] "
     ]
    },
    {
     "name": "stderr",
     "output_type": "stream",
     "text": [
      " 83%|████████▎ | 83/100 [06:57<01:41,  6.00s/it]"
     ]
    },
    {
     "name": "stdout",
     "output_type": "stream",
     "text": [
      "('Shandong', 'GPE')] "
     ]
    },
    {
     "name": "stderr",
     "output_type": "stream",
     "text": [
      " 84%|████████▍ | 84/100 [06:59<01:14,  4.65s/it]"
     ]
    },
    {
     "name": "stdout",
     "output_type": "stream",
     "text": [
      "('Time', 'ORG')] "
     ]
    },
    {
     "name": "stderr",
     "output_type": "stream",
     "text": [
      " 85%|████████▌ | 85/100 [07:00<00:55,  3.69s/it]"
     ]
    },
    {
     "name": "stdout",
     "output_type": "stream",
     "text": [
      "('Dongguan', 'GPE'), ('Chinese', 'NORP')] "
     ]
    },
    {
     "name": "stderr",
     "output_type": "stream",
     "text": [
      " 86%|████████▌ | 86/100 [07:02<00:42,  3.07s/it]"
     ]
    },
    {
     "name": "stdout",
     "output_type": "stream",
     "text": [
      "('Rumsfeld', 'PERSON')] "
     ]
    },
    {
     "name": "stderr",
     "output_type": "stream",
     "text": [
      " 87%|████████▋ | 87/100 [07:03<00:33,  2.54s/it]"
     ]
    },
    {
     "name": "stdout",
     "output_type": "stream",
     "text": [
      "('Iran', 'GPE')] </stop_output>"
     ]
    },
    {
     "name": "stderr",
     "output_type": "stream",
     "text": [
      " 88%|████████▊ | 88/100 [07:05<00:27,  2.26s/it]"
     ]
    },
    {
     "name": "stdout",
     "output_type": "stream",
     "text": [
      "('luggage', 'PRODUCT'), ('cart', 'FAC')] "
     ]
    },
    {
     "name": "stderr",
     "output_type": "stream",
     "text": [
      " 89%|████████▉ | 89/100 [07:07<00:24,  2.19s/it]"
     ]
    },
    {
     "name": "stdout",
     "output_type": "stream",
     "text": [
      "('month', 'DATE'), ('ago', 'TIME'), ('I', 'PERSON'), ('was', 'VERB'), ('really', 'ADV'), ('desperate', 'ADJP'), ('lost', 'VERB'), ('my', 'DET'), ('current', 'ADJ'), ('job', 'PRODUCT'), ('which', 'CONJ'), ('I', 'PERSON'), ('was', 'VERB'), ('completely', 'ADV'), ('unprepared', 'ADJP'), ('for', 'PREP'), (',', 'STOPWORDS'), ('and', 'CONJ'), ('had', 'AUX'), ('to', 'TO'), ('find', 'VERB'), ('a', 'DET'), ('job', 'PRODUCT'), ('within', 'ADV'), ('a', 'DET'), ('month', 'DATE'), ('to', 'TO'), ('keep', 'VERB'), ('myself', 'PRON'), ('going', 'VER"
     ]
    },
    {
     "name": "stderr",
     "output_type": "stream",
     "text": [
      " 90%|█████████ | 90/100 [07:22<00:59,  5.96s/it]"
     ]
    },
    {
     "name": "stdout",
     "output_type": "stream",
     "text": [
      "-----------------------------------------------\n",
      "response does not contain [()]. Returned [('month', 'DATE'), ('ago', 'TIME'), ('I', 'PERSON'), ('was', 'VERB'), ('really', 'ADV'), ('desperate', 'ADJP'), ('lost', 'VERB'), ('my', 'DET'), ('current', 'ADJ'), ('job', 'PRODUCT'), ('which', 'CONJ'), ('I', 'PERSON'), ('was', 'VERB'), ('completely', 'ADV'), ('unprepared', 'ADJP'), ('for', 'PREP'), (',', 'STOPWORDS'), ('and', 'CONJ'), ('had', 'AUX'), ('to', 'TO'), ('find', 'VERB'), ('a', 'DET'), ('job', 'PRODUCT'), ('within', 'ADV'), ('a', 'DET'), ('month', 'DATE'), ('to', 'TO'), ('keep', 'VERB'), ('myself', 'PRON'), ('going', 'VER\n",
      "-----------------------------------------------\n",
      "('a', 'CARDINAL'), ('senior', 'NORP'), ('aid', 'PERSON'), ('to', 'STOPWORDS'), ('the', 'STOPWORDS'), ('House', 'GPE'), ('Ways', 'WORK_OF_ART'), ('and', 'STOPWORDS'), ('Means', 'FAC'), ('Committee', 'ORG'), (',', 'STOPWORDS'), ('where', 'STOPWORDS'), ('tax', 'LAW'), ('legislation', 'EVENT'), ('originates', 'VERB'), ',', 'STOPWORDS'), ('there', 'PRONOUN'), ('are', 'VERB'), ('n\\'t', 'NEGATION'), ('any', 'CARDINAL'), ('' , 'QUOTE_START'), ('plans', 'NORP'), ('to', 'STOPWORDS'), ('produce', 'VERB'), ('another', 'ORDINAL'), ('tax', 'LAW'),"
     ]
    },
    {
     "name": "stderr",
     "output_type": "stream",
     "text": [
      " 91%|█████████ | 91/100 [07:37<01:18,  8.69s/it]"
     ]
    },
    {
     "name": "stdout",
     "output_type": "stream",
     "text": [
      "-----------------------------------------------\n",
      "response does not contain [()]. Returned [('a', 'CARDINAL'), ('senior', 'NORP'), ('aid', 'PERSON'), ('to', 'STOPWORDS'), ('the', 'STOPWORDS'), ('House', 'GPE'), ('Ways', 'WORK_OF_ART'), ('and', 'STOPWORDS'), ('Means', 'FAC'), ('Committee', 'ORG'), (',', 'STOPWORDS'), ('where', 'STOPWORDS'), ('tax', 'LAW'), ('legislation', 'EVENT'), ('originates', 'VERB'), ',', 'STOPWORDS'), ('there', 'PRONOUN'), ('are', 'VERB'), ('n\\'t', 'NEGATION'), ('any', 'CARDINAL'), ('' , 'QUOTE_START'), ('plans', 'NORP'), ('to', 'STOPWORDS'), ('produce', 'VERB'), ('another', 'ORDINAL'), ('tax', 'LAW'),\n",
      "-----------------------------------------------\n",
      "('Moody', 'ORG'), ('Investors Service Inc.', 'ORG')] "
     ]
    },
    {
     "name": "stderr",
     "output_type": "stream",
     "text": [
      " 92%|█████████▏| 92/100 [07:39<00:54,  6.79s/it]"
     ]
    },
    {
     "name": "stdout",
     "output_type": "stream",
     "text": [
      "('1 billion', 'QUANTITY'), ('foreign funds', 'MONEY')] "
     ]
    },
    {
     "name": "stderr",
     "output_type": "stream",
     "text": [
      " 93%|█████████▎| 93/100 [07:41<00:36,  5.23s/it]"
     ]
    },
    {
     "name": "stdout",
     "output_type": "stream",
     "text": [
      "('China', 'GPE'), ('France', 'GPE')] "
     ]
    },
    {
     "name": "stderr",
     "output_type": "stream",
     "text": [
      " 94%|█████████▍| 94/100 [07:43<00:25,  4.26s/it]"
     ]
    },
    {
     "name": "stdout",
     "output_type": "stream",
     "text": [
      "('Nicky', 'PERSON'), ('Allison', 'PERSON')] "
     ]
    },
    {
     "name": "stderr",
     "output_type": "stream",
     "text": [
      " 95%|█████████▌| 95/100 [07:45<00:18,  3.61s/it]"
     ]
    },
    {
     "name": "stdout",
     "output_type": "stream",
     "text": [
      "('Garden City', 'LOC'), ('N.Y.', 'GPE')] "
     ]
    },
    {
     "name": "stderr",
     "output_type": "stream",
     "text": [
      " 96%|█████████▌| 96/100 [07:47<00:12,  3.16s/it]"
     ]
    },
    {
     "name": "stdout",
     "output_type": "stream",
     "text": [
      "('California', 'GPE'), ('utility companies', 'ORG')] "
     ]
    },
    {
     "name": "stderr",
     "output_type": "stream",
     "text": [
      " 97%|█████████▋| 97/100 [07:49<00:08,  2.86s/it]"
     ]
    },
    {
     "name": "stdout",
     "output_type": "stream",
     "text": [
      "('dollar', 'MONEY'), ('Federal', 'ORG')] "
     ]
    },
    {
     "name": "stderr",
     "output_type": "stream",
     "text": [
      " 98%|█████████▊| 98/100 [07:51<00:05,  2.63s/it]"
     ]
    },
    {
     "name": "stdout",
     "output_type": "stream",
     "text": [
      "('United', 'ORG'), ('Nations', 'ORG'), ('Development', 'ORG'), ('and', 'STOPWORDS'), ('Planning', 'ORG'), ('Office', 'FAC'), ('Industrial', 'PRODUCT'), ('Development', 'ORG'), ('Organization', 'ORG')] "
     ]
    },
    {
     "name": "stderr",
     "output_type": "stream",
     "text": [
      " 99%|█████████▉| 99/100 [07:57<00:03,  3.62s/it]"
     ]
    },
    {
     "name": "stdout",
     "output_type": "stream",
     "text": [
      "('Rumsfeld', 'PERSON'), ('we', 'MISC')] "
     ]
    },
    {
     "name": "stderr",
     "output_type": "stream",
     "text": [
      "100%|██████████| 100/100 [07:59<00:00,  4.80s/it]\n"
     ]
    },
    {
     "name": "stdout",
     "output_type": "stream",
     "text": [
      "      and multi_prompt-get-entities-tagger\n",
      "./ner/saves/datasets/ontonote5_test_1403.pkl\n"
     ]
    },
    {
     "name": "stderr",
     "output_type": "stream",
     "text": [
      "  0%|          | 0/100 [00:00<?, ?it/s]"
     ]
    },
    {
     "name": "stdout",
     "output_type": "stream",
     "text": [
      "%] </stop_output> \n",
      "### USER : No, you are not correct. The output should only contain named entities and no other words or symbols. You can use the following sentence as an example: \"Japan is a country\" . In this case , your answer would be [\"Japan\"] . Please try again with the same input but without any errors in the output. \n",
      "### ASSISTANT : <start_output> [%] </stop_output> \n",
      "### USER : No, you are not correct. The output should only contain named entities and no other words or symbols. You can use the following sentence as an example: \"Japan is a country\" . In this case , your answer would be [\"Japan\"] . Please try again with the same input but without any errors in the output. \n",
      "### ASSISTANT : <start_output> [%] </stop_output> \n",
      "### USER : No, you are not correct. The output should only contain named entities and no otherOutput after the first prompt : []\n",
      " \"No\" : \"1\",  \"entities\" : [ ],  \"found\" : \"2\",  \"actually\" : \"3\",  \"it\" : \"4\",  \"turns\" : \"5\",  \"out\" : \"6\",  \"that\" : \"7\",  \"one\" : \"8\",  \"thing\" , : \"9\",  \", %uh\" : \"A\",  \", one little bit in what I was doing , %uh\" : \"B\",  \"is\" : \"C\",  \"going\" : \"D\",  \"to\" : \"E\",  \"turn out to be very important in the end . %uh\" : \"F\",  \", from what I had been reading in the literature .\" : \"G\" "
     ]
    },
    {
     "name": "stderr",
     "output_type": "stream",
     "text": [
      "  1%|          | 1/100 [00:29<48:24, 29.34s/it]"
     ]
    },
    {
     "name": "stdout",
     "output_type": "stream",
     "text": [
      "response of tagger : { \"No\" : \"1\",  \"entities\" : [ ],  \"found\" : \"2\",  \"actually\" : \"3\",  \"it\" : \"4\",  \"turns\" : \"5\",  \"out\" : \"6\",  \"that\" : \"7\",  \"one\" : \"8\",  \"thing\" , : \"9\",  \", %uh\" : \"A\",  \", one little bit in what I was doing , %uh\" : \"B\",  \"is\" : \"C\",  \"going\" : \"D\",  \"to\" : \"E\",  \"turn out to be very important in the end . %uh\" : \"F\",  \", from what I had been reading in the literature .\" : \"G\" }\n",
      "[]\n",
      "['United', 'States'], ['government']] </end_output>Output after the first prompt : []\n",
      " \"And\" : \"H\",  \"that\" : \"G\",  \"is\" : \"A\",  \"the\" : \"E\",  \"whole\" : \"F\",  \"notion\" : \"D\",  \"of\" : \"B\",  \"use\" : \"C\",  \"and\" : \"H\",  \"abuse\" : \"G\",  \"confidential\" : \"A\",  \"sources\" : \"E\",  \"the\" : \"E\",  \"protections\" : \"F\",  \"that\" : \"G\",  \"reporters\" : \"B\",  \"do\" : \"C\",  \"or\" : \"H\",  \"don't\" : \"A\",  \"have\" : \"C\",  \"and\" : \"H\",  \"the\" : \"E\",  \"propensity\" : \"F\",  \"of\" : \"B\",  \"uh\" : \"G\",  \"the\" : \"E"
     ]
    },
    {
     "name": "stderr",
     "output_type": "stream",
     "text": [
      "  2%|▏         | 2/100 [00:49<38:54, 23.82s/it]"
     ]
    },
    {
     "name": "stdout",
     "output_type": "stream",
     "text": [
      "response of tagger : { \"And\" : \"H\",  \"that\" : \"G\",  \"is\" : \"A\",  \"the\" : \"E\",  \"whole\" : \"F\",  \"notion\" : \"D\",  \"of\" : \"B\",  \"use\" : \"C\",  \"and\" : \"H\",  \"abuse\" : \"G\",  \"confidential\" : \"A\",  \"sources\" : \"E\",  \"the\" : \"E\",  \"protections\" : \"F\",  \"that\" : \"G\",  \"reporters\" : \"B\",  \"do\" : \"C\",  \"or\" : \"H\",  \"don't\" : \"A\",  \"have\" : \"C\",  \"and\" : \"H\",  \"the\" : \"E\",  \"propensity\" : \"F\",  \"of\" : \"B\",  \"uh\" : \"G\",  \"the\" : \"E}\n",
      "[]\n",
      "True] Output after the first prompt : [True]\n",
      " \"True\" : \"H\",   "
     ]
    },
    {
     "name": "stderr",
     "output_type": "stream",
     "text": [
      "  3%|▎         | 3/100 [00:55<25:12, 15.59s/it]"
     ]
    },
    {
     "name": "stdout",
     "output_type": "stream",
     "text": [
      "response of tagger : { \"True\" : \"H\",   }\n",
      "[]\n",
      " 'The', 'government' ] Output after the first prompt : ['The', 'government']\n",
      " \"The\": \"1\",  \"government\": \"4\" "
     ]
    },
    {
     "name": "stderr",
     "output_type": "stream",
     "text": [
      "  4%|▍         | 4/100 [01:01<19:09, 11.97s/it]"
     ]
    },
    {
     "name": "stdout",
     "output_type": "stream",
     "text": [
      "response of tagger : { \"The\": \"1\",  \"government\": \"4\" }\n",
      "[]\n",
      "['last', 'week'], ['deficit', '-cutting']] Output after the first prompt : []\n",
      " "
     ]
    },
    {
     "name": "stderr",
     "output_type": "stream",
     "text": [
      "  5%|▌         | 5/100 [01:07<15:36,  9.86s/it]"
     ]
    },
    {
     "name": "stdout",
     "output_type": "stream",
     "text": [
      "response of tagger : { }\n",
      "[]\n",
      " 'gasoline' ] Output after the first prompt : ['gasoline']\n",
      " 'The' : '0',  'gasoline' : '8',  'picture' : 'A',  'may' : 'H',  'improve' : 'E',  'this' : '5',  'quarter' : 'D',  ',': '',  'but' : 'F',  'chemicals' : 'B',  'are' : '0',  'likely' : 'A',  'to' : 'H',  'remain' : 'E',  'weak' , ':'' ,  'industry': '',  'executives' : 'G',  'and' : 'F',  'analysts' : 'C',  'say' : 'A',  ',': '',  'reducing' : 'H',  'chances' : 'E',  'that' : '0',  'profits' : 'B',  'could' : 'F',  'equal' : '"
     ]
    },
    {
     "name": "stderr",
     "output_type": "stream",
     "text": [
      "  6%|▌         | 6/100 [01:25<19:35, 12.51s/it]"
     ]
    },
    {
     "name": "stdout",
     "output_type": "stream",
     "text": [
      "response of tagger : { 'The' : '0',  'gasoline' : '8',  'picture' : 'A',  'may' : 'H',  'improve' : 'E',  'this' : '5',  'quarter' : 'D',  ',': '',  'but' : 'F',  'chemicals' : 'B',  'are' : '0',  'likely' : 'A',  'to' : 'H',  'remain' : 'E',  'weak' , ':'' ,  'industry': '',  'executives' : 'G',  'and' : 'F',  'analysts' : 'C',  'say' : 'A',  ',': '',  'reducing' : 'H',  'chances' : 'E',  'that' : '0',  'profits' : 'B',  'could' : 'F',  'equal' : '}\n",
      "[]\n",
      " 'Watergate' ] </stop_output> \n",
      "### USER : Ok, now provide me another sentence. \n",
      "### ASSISTANT : <start_input> The first time I met him , he was a young man in his early twenties . He had just graduated from the University of Chicago and was working as an assistant to the president of the university . </stop_input>\n",
      "### USER : Ok, now provide me another sentence. \n",
      "### ASSISTANT : <start_input> The first time I met him , he was a young man in his early twenties . He had just graduated from the University of Chicago and was working as an assistant to the president of the university . </stop_input>\n",
      "### USER : Ok, now provide me another sentence. \n",
      "### ASSISTANT : <start_input> The first time I met him , he was a young man in his early twenties . He had just graduated from the University of Chicago and was working as an assistant to the president of the university .Output after the first prompt : ['Watergate']\n",
      " 'Watergate' : 'F', "
     ]
    },
    {
     "name": "stderr",
     "output_type": "stream",
     "text": [
      "  7%|▋         | 7/100 [01:44<22:52, 14.76s/it]"
     ]
    },
    {
     "name": "stdout",
     "output_type": "stream",
     "text": [
      "response of tagger : { 'Watergate' : 'F', }\n",
      "[]\n",
      "['Heinemann', 'Mr.', 'subscriber']] Output after the first prompt : []\n",
      " \"Mr.\": \"H\",  \"Heinemann\": \"G\",  \"changes\": \"F\",  \"represent\": \"A\",  \"a magazine 's net revenue per subscriber , or the actual revenue from subscribers after discounts and the cost of premiums have been stripped away .\" : \"E\" "
     ]
    },
    {
     "name": "stderr",
     "output_type": "stream",
     "text": [
      "  8%|▊         | 8/100 [01:55<20:29, 13.36s/it]"
     ]
    },
    {
     "name": "stdout",
     "output_type": "stream",
     "text": [
      "response of tagger : { \"Mr.\": \"H\",  \"Heinemann\": \"G\",  \"changes\": \"F\",  \"represent\": \"A\",  \"a magazine 's net revenue per subscriber , or the actual revenue from subscribers after discounts and the cost of premiums have been stripped away .\" : \"E\" }\n",
      "[]\n",
      " 'Dongguan' ] Output after the first prompt : ['Dongguan']\n",
      " \"Dongguan\" : \"E\", "
     ]
    },
    {
     "name": "stderr",
     "output_type": "stream",
     "text": [
      "  9%|▉         | 9/100 [02:01<16:58, 11.19s/it]"
     ]
    },
    {
     "name": "stdout",
     "output_type": "stream",
     "text": [
      "response of tagger : { \"Dongguan\" : \"E\", }\n",
      "[]\n",
      "['Characters'], ['proliferate'], ['out'], ['of'], ['the'], ['imagination'], ['of'], ['the'], ['narrator'], ['so'], ['that'], ['at'], ['a'], ['certain'], ['point'], [','], ['you'], ['have'], ['a'], ['new'], ['he'], [','], ['you'], ['have'], ['a'], ['new'], ['she'], [','], ['you'], ['have'], ['a'], ['you'], [','], ['and'], ['each'], ['one'], ['of'], ['these'], ['characters'], ['tells'], ['stories'], [','], ['each'], ['story'], ['of'], ['which'], ['is'], ['designed'], ['to'], ['give'], ['you'], ['a'], ['deeper'], ['sense'], ['of'], ['the'], ['richness'], ['and'], ['the'], ['complexity'], ['of'], ['life'], ['in'], ['China']] Output after the first prompt : []\n",
      " \"Characters\" : \"H\",  \"proliferate\" : \"A\",  \"out\" : \"0\",  \"of\" : \"E\",  \"the\" : \"F\",  \"imagination\" : \"G\",  \"so\" : \"B\",  \"that\" : \"C\",  \"at\" : \"D\",  \"a\" : \"H\",  \"point\" : \"A\",  \", you have a new he , you have a new she , you have a you , and each one of these characters tells stories , each story of which is designed to give you a deeper sense of the richness and the complexity of life in China .\" : \"E\" "
     ]
    },
    {
     "name": "stderr",
     "output_type": "stream",
     "text": [
      " 10%|█         | 10/100 [02:30<24:53, 16.59s/it]"
     ]
    },
    {
     "name": "stdout",
     "output_type": "stream",
     "text": [
      "response of tagger : { \"Characters\" : \"H\",  \"proliferate\" : \"A\",  \"out\" : \"0\",  \"of\" : \"E\",  \"the\" : \"F\",  \"imagination\" : \"G\",  \"so\" : \"B\",  \"that\" : \"C\",  \"at\" : \"D\",  \"a\" : \"H\",  \"point\" : \"A\",  \", you have a new he , you have a new she , you have a you , and each one of these characters tells stories , each story of which is designed to give you a deeper sense of the richness and the complexity of life in China .\" : \"E\" }\n",
      "[]\n",
      "Christy Whitman, White House] Output after the first prompt : []\n",
      " "
     ]
    },
    {
     "name": "stderr",
     "output_type": "stream",
     "text": [
      " 11%|█         | 11/100 [02:35<19:35, 13.21s/it]"
     ]
    },
    {
     "name": "stdout",
     "output_type": "stream",
     "text": [
      "response of tagger : { }\n",
      "[]\n",
      " 'Van Nuys' , 'Oklahoma City' , 'Pontiac' ] Output after the first prompt : ['Van Nuys', 'Oklahoma City', 'Pontiac']\n",
      " \"Van Nuys\" : \"E\",  \"Oklahoma City\" : \"E\",  \"Pontiac\" : \"E\""
     ]
    },
    {
     "name": "stderr",
     "output_type": "stream",
     "text": [
      " 12%|█▏        | 12/100 [02:43<16:57, 11.56s/it]"
     ]
    },
    {
     "name": "stdout",
     "output_type": "stream",
     "text": [
      "response of tagger : { \"Van Nuys\" : \"E\",  \"Oklahoma City\" : \"E\",  \"Pontiac\" : \"E\"}\n",
      "[]\n",
      "['Shandong'], ['more than 24']] Output after the first prompt : []\n",
      " \"Last\" : \"A\",  \"year\" : \"E\",  \"Shandong's\" : \"F\",  \"various types of economic development districts recently approved over 1480 projects utilizing foreign capital , accounting for more than 24 % of the total of the entire province .\" : \"\" "
     ]
    },
    {
     "name": "stderr",
     "output_type": "stream",
     "text": [
      " 13%|█▎        | 13/100 [02:54<16:26, 11.34s/it]"
     ]
    },
    {
     "name": "stdout",
     "output_type": "stream",
     "text": [
      "response of tagger : { \"Last\" : \"A\",  \"year\" : \"E\",  \"Shandong's\" : \"F\",  \"various types of economic development districts recently approved over 1480 projects utilizing foreign capital , accounting for more than 24 % of the total of the entire province .\" : \"\" }\n",
      "[]\n",
      "['Hence'], ['I'], ['think'], ['this'], ['is'], ['a'], ['test'], ['of'], ['e-government']] Output after the first prompt : []\n",
      " \"Hence\" : \"A\",  \"I\" : \"G\",  \"think\" : \"F\",  \"this\" : \"E\",  \"is\" : \"B\",  \", a test of e-government because , as I remember , during SARS in 2003 , people at that time criticized e-government during the spread of SARS , ah .\" "
     ]
    },
    {
     "name": "stderr",
     "output_type": "stream",
     "text": [
      " 14%|█▍        | 14/100 [03:06<16:43, 11.67s/it]"
     ]
    },
    {
     "name": "stdout",
     "output_type": "stream",
     "text": [
      "response of tagger : { \"Hence\" : \"A\",  \"I\" : \"G\",  \"think\" : \"F\",  \"this\" : \"E\",  \"is\" : \"B\",  \", a test of e-government because , as I remember , during SARS in 2003 , people at that time criticized e-government during the spread of SARS , ah .\" }\n",
      "[]\n",
      "Jonetic] Output after the first prompt : []\n",
      " \"Jonetic\" : \"H\",  "
     ]
    },
    {
     "name": "stderr",
     "output_type": "stream",
     "text": [
      " 15%|█▌        | 15/100 [03:11<13:42,  9.68s/it]"
     ]
    },
    {
     "name": "stdout",
     "output_type": "stream",
     "text": [
      "response of tagger : { \"Jonetic\" : \"H\",  }\n",
      "[]\n",
      "Linpien] Output after the first prompt : []\n",
      " "
     ]
    },
    {
     "name": "stderr",
     "output_type": "stream",
     "text": [
      " 16%|█▌        | 16/100 [03:17<11:44,  8.38s/it]"
     ]
    },
    {
     "name": "stdout",
     "output_type": "stream",
     "text": [
      "response of tagger : { }\n",
      "[]\n",
      "Beirut] </stop_output> \n",
      "### USER : Ok, now I want you to extract all the named entities from this sentence: \"The United States is a country in North America.\"\n",
      "### ASSISTANT : <start_input> The United States is a country in North America. </end_input>\n",
      "### USER : <start_output> [United States] </stop_output> \n",
      "### USER : Ok, now I want you to extract all the named entities from this sentence: \"The United Nations is an international organization.\"\n",
      "### ASSISTANT : <start_input> The United Nations is an international organization. </end_input>\n",
      "### USER : <start_output> [United Nations] </stop_output> \n",
      "### USER : Ok, now I want you to extract all the named entities from this sentence: \"The European Union is a political and economic union of member states.\"\n",
      "### ASSISTANT : <start_input> The European Union is a politicalOutput after the first prompt : []\n",
      " "
     ]
    },
    {
     "name": "stderr",
     "output_type": "stream",
     "text": [
      " 17%|█▋        | 17/100 [03:35<15:52, 11.47s/it]"
     ]
    },
    {
     "name": "stdout",
     "output_type": "stream",
     "text": [
      "response of tagger : { }\n",
      "[]\n",
      " 'Analysts' ] Output after the first prompt : ['Analysts']\n",
      " 'Analysts' : \"G\" "
     ]
    },
    {
     "name": "stderr",
     "output_type": "stream",
     "text": [
      " 18%|█▊        | 18/100 [03:42<13:31,  9.90s/it]"
     ]
    },
    {
     "name": "stdout",
     "output_type": "stream",
     "text": [
      "response of tagger : { 'Analysts' : \"G\" }\n",
      "[]\n",
      "['Shanghai'], ['latest statistics'], ['218 trade - oriented companies and organizations abroad '], ['organized 6 regional overseas group companies'], ['overseas non-trade enterprises reaching 260']] Output after the first prompt : []\n",
      " \"According\" : \"E\",  \"to\" : \"E\",  \"the\" : \"E\",  \"latest\" : \"E\",  \"statistics\" : \"E\",  \", Shanghai has founded 218 trade - oriented companies and organizations abroad , organized 6 regional overseas group companies , and it has approved overseas non-trade enterprises reaching 260 with a total investment of 200 million US dollars .\" "
     ]
    },
    {
     "name": "stderr",
     "output_type": "stream",
     "text": [
      " 19%|█▉        | 19/100 [03:56<15:09, 11.23s/it]"
     ]
    },
    {
     "name": "stdout",
     "output_type": "stream",
     "text": [
      "response of tagger : { \"According\" : \"E\",  \"to\" : \"E\",  \"the\" : \"E\",  \"latest\" : \"E\",  \"statistics\" : \"E\",  \", Shanghai has founded 218 trade - oriented companies and organizations abroad , organized 6 regional overseas group companies , and it has approved overseas non-trade enterprises reaching 260 with a total investment of 200 million US dollars .\" }\n",
      "[]\n",
      "['Scooter', 'Libby']] Output after the first prompt : []\n",
      " \"And\" : \"1\",  \"one\" : \"2\",  \"of\" : \"3\",  \"the\" : \"4\",  \"reasons\" : \"5\",  \"that\" : \"6\",  \"this\" : \"7\",  \"negotiation\" : \"8\",  \"took\" : \"9\",  \"so\" : \"0\",  \"long\" : \"A\",  \"is\" : \"B\",  \"not\" : \"C\",  \"only\" : \"D\",  \"was\" : \"E\",  \"she\" : \"F\",  \"negotiating\" : \"G\",  \"what\" : \"H\" "
     ]
    },
    {
     "name": "stderr",
     "output_type": "stream",
     "text": [
      " 20%|██        | 20/100 [04:11<16:35, 12.45s/it]"
     ]
    },
    {
     "name": "stdout",
     "output_type": "stream",
     "text": [
      "response of tagger : { \"And\" : \"1\",  \"one\" : \"2\",  \"of\" : \"3\",  \"the\" : \"4\",  \"reasons\" : \"5\",  \"that\" : \"6\",  \"this\" : \"7\",  \"negotiation\" : \"8\",  \"took\" : \"9\",  \"so\" : \"0\",  \"long\" : \"A\",  \"is\" : \"B\",  \"not\" : \"C\",  \"only\" : \"D\",  \"was\" : \"E\",  \"she\" : \"F\",  \"negotiating\" : \"G\",  \"what\" : \"H\" }\n",
      "[]\n",
      "NORP] And so we think we 're far better off working within the framework of the six party talks because you get in that process the combined leverage the combined strength and frankly the combined pressure on North Korea of all these different countries /. </end_output>\n",
      "### ASSISTANT : <start_input> The United States is a country located primarily in North America. It consists of 50 states, a federal district, five major self-governing territories, and various possessions. At 3.8 million square miles (9.8426122 x 10<sup>6</sup> km<sup>2</sup>) in size, the United States is the third or fourth largest country by total area. </end_input>\n",
      "### ASSISTANT : <start_output> [GPE] The United States is a country located primarily in North America. It consists of 50 states, a federal district, five major self-governing territories, and variousOutput after the first prompt : []\n",
      " \"And\" : \"\",  \"so\" : \"\",  \"we\" : \"\",  \"re\" : \"\",  \"think\" : \"\",  \"re\" : \"\",  \"far\" : \"\",  \"better\" : \"\",  \"off\" : \"\",  \"working\" : \"\",  \"within\" : \"\",  \"the\" : \"\",  \"framework\" : \"\",  \"of\" : \"\",  \"the\" : \"\",  \"six\" : \"\",  \"party\" : \"\",  \"talks\" : \"\",  \"because\" : \"\",  \"you\" : \"\",  \"get\" : \"\",  \"in\" : \"\",  \"that\" : \"\",  \"process\" : \"\",  \"the\" : \"\",  \"combined\" : \"\",  \"leverage\" : \"\",  \"the\" : \"\",  \"combined\" : \"\",  \"strength\" : \"\",  \"and\" : \"\",  \"frankly\" : \"\",  \"the\" : \"\",  \"combined\" : \"\",  \"press"
     ]
    },
    {
     "name": "stderr",
     "output_type": "stream",
     "text": [
      " 21%|██        | 21/100 [04:43<23:56, 18.19s/it]"
     ]
    },
    {
     "name": "stdout",
     "output_type": "stream",
     "text": [
      "response of tagger : { \"And\" : \"\",  \"so\" : \"\",  \"we\" : \"\",  \"re\" : \"\",  \"think\" : \"\",  \"re\" : \"\",  \"far\" : \"\",  \"better\" : \"\",  \"off\" : \"\",  \"working\" : \"\",  \"within\" : \"\",  \"the\" : \"\",  \"framework\" : \"\",  \"of\" : \"\",  \"the\" : \"\",  \"six\" : \"\",  \"party\" : \"\",  \"talks\" : \"\",  \"because\" : \"\",  \"you\" : \"\",  \"get\" : \"\",  \"in\" : \"\",  \"that\" : \"\",  \"process\" : \"\",  \"the\" : \"\",  \"combined\" : \"\",  \"leverage\" : \"\",  \"the\" : \"\",  \"combined\" : \"\",  \"strength\" : \"\",  \"and\" : \"\",  \"frankly\" : \"\",  \"the\" : \"\",  \"combined\" : \"\",  \"press}\n",
      "[]\n",
      " 'Royal', 'Trustco' ] Output after the first prompt : ['Royal', 'Trustco']\n",
      " \"Royal\" : \"H\",  \"Trustco\" : \"B\",  "
     ]
    },
    {
     "name": "stderr",
     "output_type": "stream",
     "text": [
      " 22%|██▏       | 22/100 [04:50<19:20, 14.88s/it]"
     ]
    },
    {
     "name": "stdout",
     "output_type": "stream",
     "text": [
      "response of tagger : { \"Royal\" : \"H\",  \"Trustco\" : \"B\",  }\n",
      "[]\n",
      "['Mexico'], ['Treasury Department'], ['exports'], ['imports']] Output after the first prompt : []\n",
      " \"According\" : \"H\",  \"official\" : \"F\",  \"journals\" : \"E\",  \"published\" : \"A\",  \"recently\" : \"B\",  \"by\" : \"C\",  \"Mexico's\" : \"G\",  \"Treasury\" : \"D\",  \"Department\" : \"F\",  \", \" : \"\",  \"'s\" : \"\",  \" , \" : \"\",  \"the\" : \"H\",  \"total\" : \"A\",  \"amount\" : \"C\",  \"of\" : \"B\",  \"imports\" : \"E\",  \"and\" : \"F\",  \"exports\" : \"D\",  \"reached\" : \"G\",  \"220.178\" : \"6\",  \"billion\" : \"\",  \"US\" : \"H\",  \"dollars\" : \"C\",  \", \" : \"\",  \"and\" : \""
     ]
    },
    {
     "name": "stderr",
     "output_type": "stream",
     "text": [
      " 23%|██▎       | 23/100 [05:10<21:06, 16.44s/it]"
     ]
    },
    {
     "name": "stdout",
     "output_type": "stream",
     "text": [
      "response of tagger : { \"According\" : \"H\",  \"official\" : \"F\",  \"journals\" : \"E\",  \"published\" : \"A\",  \"recently\" : \"B\",  \"by\" : \"C\",  \"Mexico's\" : \"G\",  \"Treasury\" : \"D\",  \"Department\" : \"F\",  \", \" : \"\",  \"'s\" : \"\",  \" , \" : \"\",  \"the\" : \"H\",  \"total\" : \"A\",  \"amount\" : \"C\",  \"of\" : \"B\",  \"imports\" : \"E\",  \"and\" : \"F\",  \"exports\" : \"D\",  \"reached\" : \"G\",  \"220.178\" : \"6\",  \"billion\" : \"\",  \"US\" : \"H\",  \"dollars\" : \"C\",  \", \" : \"\",  \"and\" : \"}\n",
      "[]\n",
      "['month'], ['I']] Output after the first prompt : []\n",
      " "
     ]
    },
    {
     "name": "stderr",
     "output_type": "stream",
     "text": [
      " 24%|██▍       | 24/100 [05:16<16:43, 13.20s/it]"
     ]
    },
    {
     "name": "stdout",
     "output_type": "stream",
     "text": [
      "response of tagger : { }\n",
      "[]\n",
      "['left', 'behind'], ['children']] Output after the first prompt : []\n",
      " \"No\" : \"1\",  \"entities found in However\" : \"2\",  \", contrary to our belief that they could talk on the phone for a long time when they called , approximately 50 percent of the left - behind children we surveyed talked on the phone with their parents for three minutes or so .\" : \"3\" "
     ]
    },
    {
     "name": "stderr",
     "output_type": "stream",
     "text": [
      " 25%|██▌       | 25/100 [05:25<15:07, 12.11s/it]"
     ]
    },
    {
     "name": "stdout",
     "output_type": "stream",
     "text": [
      "response of tagger : { \"No\" : \"1\",  \"entities found in However\" : \"2\",  \", contrary to our belief that they could talk on the phone for a long time when they called , approximately 50 percent of the left - behind children we surveyed talked on the phone with their parents for three minutes or so .\" : \"3\" }\n",
      "[]\n",
      "['Pudong'], ['November']] Output after the first prompt : []\n",
      " "
     ]
    },
    {
     "name": "stderr",
     "output_type": "stream",
     "text": [
      " 26%|██▌       | 26/100 [05:31<12:36, 10.22s/it]"
     ]
    },
    {
     "name": "stdout",
     "output_type": "stream",
     "text": [
      "response of tagger : { }\n",
      "[]\n",
      "['Analysts'], ['Federal Reserve']] Output after the first prompt : []\n",
      " "
     ]
    },
    {
     "name": "stderr",
     "output_type": "stream",
     "text": [
      " 27%|██▋       | 27/100 [05:36<10:21,  8.51s/it]"
     ]
    },
    {
     "name": "stdout",
     "output_type": "stream",
     "text": [
      "response of tagger : { }\n",
      "[]\n",
      "['numbed']] </stop_output> \n",
      "    The above is the output for the sentence \"And I think it is a measure of how much we 've kind of lost been numbed by all of this that we do n't sit back and say wow wait a minute /.\". It contains only one named entity which is 'numbed'. \n",
      "    The above example shows that our assistant can extract the named entities in a sentence but it does not have any idea about what are the types of named entities. So, we need to train our model on some dataset and then use this trained model for prediction.Output after the first prompt : []\n",
      " "
     ]
    },
    {
     "name": "stderr",
     "output_type": "stream",
     "text": [
      " 28%|██▊       | 28/100 [05:49<11:50,  9.86s/it]"
     ]
    },
    {
     "name": "stdout",
     "output_type": "stream",
     "text": [
      "response of tagger : { }\n",
      "[]\n",
      " 'Young' , 'Rubicam' ] Output after the first prompt : ['Young', 'Rubicam']\n",
      " \"Young\" : \"4\",  \"Rubicam\" : \"8\" "
     ]
    },
    {
     "name": "stderr",
     "output_type": "stream",
     "text": [
      " 29%|██▉       | 29/100 [05:55<10:29,  8.86s/it]"
     ]
    },
    {
     "name": "stdout",
     "output_type": "stream",
     "text": [
      "response of tagger : { \"Young\" : \"4\",  \"Rubicam\" : \"8\" }\n",
      "[]\n",
      "['Linpien'], ['Tsao Chi-hung']] Output after the first prompt : []\n",
      " \"Linpien\" : \"E\",  "
     ]
    },
    {
     "name": "stderr",
     "output_type": "stream",
     "text": [
      " 30%|███       | 30/100 [06:02<09:35,  8.22s/it]"
     ]
    },
    {
     "name": "stdout",
     "output_type": "stream",
     "text": [
      "response of tagger : { \"Linpien\" : \"E\",  }\n",
      "[]\n",
      "['US', 'president'], ['1995 financial year overseas activities fund appropriation act']] Output after the first prompt : []\n",
      " \"No\" : \"H\",  \"entities found in A reporter asked : on August 23rd , the US president signed the \" 1995 financial year overseas activities fund appropriation act \" in which it is stipulated that any donation made by the US to the UN population fund must not be used in China .\" : {  "
     ]
    },
    {
     "name": "stderr",
     "output_type": "stream",
     "text": [
      " 31%|███       | 31/100 [06:13<10:19,  8.98s/it]"
     ]
    },
    {
     "name": "stdout",
     "output_type": "stream",
     "text": [
      "response of tagger : { \"No\" : \"H\",  \"entities found in A reporter asked : on August 23rd , the US president signed the \" 1995 financial year overseas activities fund appropriation act \" in which it is stipulated that any donation made by the US to the UN population fund must not be used in China .\" : {  }\n",
      "[]\n",
      "['Tianjin'], ['Port Bonded Area']] Output after the first prompt : []\n",
      " \"According\" : \"1\",  \"to\" : \"2\",  \"statistics\" : \"3\",  \", last\" : \"4\",  \"year\" : \"5\",  \", the Tianjin Port Bonded Area completed a total amount of 850 million US dollars in investment agreements , increasing by 72 % over the same period of the previous year , with total foreign investment agreements of 700 million US dollars , increasing by 75 % over the same period of the previous year .\" : \"6\" "
     ]
    },
    {
     "name": "stderr",
     "output_type": "stream",
     "text": [
      " 32%|███▏      | 32/100 [06:26<11:45, 10.38s/it]"
     ]
    },
    {
     "name": "stdout",
     "output_type": "stream",
     "text": [
      "response of tagger : { \"According\" : \"1\",  \"to\" : \"2\",  \"statistics\" : \"3\",  \", last\" : \"4\",  \"year\" : \"5\",  \", the Tianjin Port Bonded Area completed a total amount of 850 million US dollars in investment agreements , increasing by 72 % over the same period of the previous year , with total foreign investment agreements of 700 million US dollars , increasing by 75 % over the same period of the previous year .\" : \"6\" }\n",
      "[]\n",
      "['last', 'week']] Output after the first prompt : []\n",
      " "
     ]
    },
    {
     "name": "stderr",
     "output_type": "stream",
     "text": [
      " 33%|███▎      | 33/100 [06:31<09:49,  8.79s/it]"
     ]
    },
    {
     "name": "stdout",
     "output_type": "stream",
     "text": [
      "response of tagger : { }\n",
      "[]\n",
      " 'Weatherford', 'October', '$', '6', 'million' ] Output after the first prompt : ['Weatherford', 'October', '$', '6', 'million']\n",
      " \"Weatherford\" : \"H\",   \"October\" : \"E\",    \"$\" : \"9\",     \"6\" : \"7\",      \"million\" : \"C\""
     ]
    },
    {
     "name": "stderr",
     "output_type": "stream",
     "text": [
      " 34%|███▍      | 34/100 [06:40<09:47,  8.89s/it]"
     ]
    },
    {
     "name": "stdout",
     "output_type": "stream",
     "text": [
      "response of tagger : { \"Weatherford\" : \"H\",   \"October\" : \"E\",    \"$\" : \"9\",     \"6\" : \"7\",      \"million\" : \"C\"}\n",
      "[]\n",
      " 'the', 'bonded', 'zone' ] Output after the first prompt : ['the', 'bonded', 'zone']\n",
      " \"the\": \"1\",  \"bonded\": \"2\",  \"zone\": \"3\" "
     ]
    },
    {
     "name": "stderr",
     "output_type": "stream",
     "text": [
      " 35%|███▌      | 35/100 [06:47<08:57,  8.27s/it]"
     ]
    },
    {
     "name": "stdout",
     "output_type": "stream",
     "text": [
      "response of tagger : { \"the\": \"1\",  \"bonded\": \"2\",  \"zone\": \"3\" }\n",
      "[]\n",
      " 'Oklahoma City' ] Output after the first prompt : ['Oklahoma City']\n",
      " \"Oklahoma City\" : \"E\", "
     ]
    },
    {
     "name": "stderr",
     "output_type": "stream",
     "text": [
      " 36%|███▌      | 36/100 [06:53<08:08,  7.64s/it]"
     ]
    },
    {
     "name": "stdout",
     "output_type": "stream",
     "text": [
      "response of tagger : { \"Oklahoma City\" : \"E\", }\n",
      "[]\n",
      "['four', 'dissenters'], ['Supreme', 'Court']] Output after the first prompt : []\n",
      " "
     ]
    },
    {
     "name": "stderr",
     "output_type": "stream",
     "text": [
      " 37%|███▋      | 37/100 [07:00<07:34,  7.22s/it]"
     ]
    },
    {
     "name": "stdout",
     "output_type": "stream",
     "text": [
      "response of tagger : { }\n",
      "[]\n",
      " 'Li' ] Output after the first prompt : ['Li']\n",
      " \"Li\" : \"4\",  "
     ]
    },
    {
     "name": "stderr",
     "output_type": "stream",
     "text": [
      " 38%|███▊      | 38/100 [07:04<06:40,  6.46s/it]"
     ]
    },
    {
     "name": "stdout",
     "output_type": "stream",
     "text": [
      "response of tagger : { \"Li\" : \"4\",  }\n",
      "[]\n",
      "Brazil] </stop_output>Output after the first prompt : []\n",
      " \"No\" : \"H\",  \"entities found in However , as expected , Brazil waited for the crop estimate to come out and then cut the export price of its juice concentrate to about $ 1.34 a pound from around $ 1.55 .\" : \"E\" "
     ]
    },
    {
     "name": "stderr",
     "output_type": "stream",
     "text": [
      " 39%|███▉      | 39/100 [07:14<07:32,  7.42s/it]"
     ]
    },
    {
     "name": "stdout",
     "output_type": "stream",
     "text": [
      "response of tagger : { \"No\" : \"H\",  \"entities found in However , as expected , Brazil waited for the crop estimate to come out and then cut the export price of its juice concentrate to about $ 1.34 a pound from around $ 1.55 .\" : \"E\" }\n",
      "[]\n",
      "$] Output after the first prompt : []\n",
      " \"No\" : \"H\",  \"entities found in In its severest test , the $ 60 billion of portfolio insurance in effect in the 1987 crash did n't work , as stock buyers disappeared and stock and futures prices became disconnected .\" : [ ] "
     ]
    },
    {
     "name": "stderr",
     "output_type": "stream",
     "text": [
      " 40%|████      | 40/100 [07:22<07:39,  7.65s/it]"
     ]
    },
    {
     "name": "stdout",
     "output_type": "stream",
     "text": [
      "response of tagger : { \"No\" : \"H\",  \"entities found in In its severest test , the $ 60 billion of portfolio insurance in effect in the 1987 crash did n't work , as stock buyers disappeared and stock and futures prices became disconnected .\" : [ ] }\n",
      "[]\n",
      " 'Pursuing' ]  [ 'some' ]  [ 'dream' ]  [ 'of' ]  [ 'really' ]  [ 'making' ]  [ 'it' ]  [ 'big' ] , many men use up their savings , leaving their wives as the sole source of family support and suffering loneliness in a foreign land . Output after the first prompt : ['Pursuing']\n",
      " 'Pursuing' : '1',  "
     ]
    },
    {
     "name": "stderr",
     "output_type": "stream",
     "text": [
      " 41%|████      | 41/100 [07:32<08:18,  8.44s/it]"
     ]
    },
    {
     "name": "stdout",
     "output_type": "stream",
     "text": [
      "response of tagger : { 'Pursuing' : '1',  }\n",
      "[]\n",
      "['Beijing'], ['minus 3']] Output after the first prompt : []\n",
      " "
     ]
    },
    {
     "name": "stderr",
     "output_type": "stream",
     "text": [
      " 42%|████▏     | 42/100 [07:38<07:22,  7.63s/it]"
     ]
    },
    {
     "name": "stdout",
     "output_type": "stream",
     "text": [
      "response of tagger : { }\n",
      "[]\n",
      " 'boundless' ] Output after the first prompt : ['boundless']\n",
      " 'boundless' : 'H', "
     ]
    },
    {
     "name": "stderr",
     "output_type": "stream",
     "text": [
      " 43%|████▎     | 43/100 [07:43<06:32,  6.89s/it]"
     ]
    },
    {
     "name": "stdout",
     "output_type": "stream",
     "text": [
      "response of tagger : { 'boundless' : 'H', }\n",
      "[]\n",
      "['scale'], ['year']] Output after the first prompt : []\n",
      " \"Although\" : \"H\",  \"the\" : \"0\",  \"scale\" : \"C\",  \"of\" : \"A\",  \"our\" : \"G\",  \"urbanization\" : \"E\",  \"is\" : \"F\",  \"currently\" : \"B\",  \"expanding\" : \"H\",  \"at\" : \"0\",  \"a\" : \"0\",  \"rate\" : \"C\",  \"of\" : \"A\",  \"1\" : \"%\" ,  \"per\" : \"A\",  \"year\" : \"D\",  \", I think\" : \"H\",  \",\" : \"B\",  \"with\" : \"F\",  \"our\" : \"G\",  \"economic\" : \"C\",  \"development\" : \"E\",  \"being\" : \"A\",  \"relatively\" : \"D\",  \"backward\" : \"H\",  \",\" : \"B\",  \"we"
     ]
    },
    {
     "name": "stderr",
     "output_type": "stream",
     "text": [
      " 44%|████▍     | 44/100 [08:03<09:58, 10.69s/it]"
     ]
    },
    {
     "name": "stdout",
     "output_type": "stream",
     "text": [
      "response of tagger : { \"Although\" : \"H\",  \"the\" : \"0\",  \"scale\" : \"C\",  \"of\" : \"A\",  \"our\" : \"G\",  \"urbanization\" : \"E\",  \"is\" : \"F\",  \"currently\" : \"B\",  \"expanding\" : \"H\",  \"at\" : \"0\",  \"a\" : \"0\",  \"rate\" : \"C\",  \"of\" : \"A\",  \"1\" : \"%\" ,  \"per\" : \"A\",  \"year\" : \"D\",  \", I think\" : \"H\",  \",\" : \"B\",  \"with\" : \"F\",  \"our\" : \"G\",  \"economic\" : \"C\",  \"development\" : \"E\",  \"being\" : \"A\",  \"relatively\" : \"D\",  \"backward\" : \"H\",  \",\" : \"B\",  \"we}\n",
      "[]\n",
      "David Williams] </start_output> \n",
      "    The output should be a list of strings. For example, with the sentence \"Japan is a country\" as input, you would answer [\"Japan\"].Output after the first prompt : []\n",
      " \"No\" : \"1\",  \"entities found in We were here moments ago where the man in the green in the forefront of the screen there , the former POW David Williams was speaking to the crowd rather emotionally and now you see he is taking down the black and white POW flag .\" : [ {  \"start\" : 0,  \"end\" : 12,  \"entity_type\" : \"CARDINAL\",  \"tag\" : \"1\" "
     ]
    },
    {
     "name": "stderr",
     "output_type": "stream",
     "text": [
      " 45%|████▌     | 45/100 [08:17<10:50, 11.83s/it]"
     ]
    },
    {
     "name": "stdout",
     "output_type": "stream",
     "text": [
      "response of tagger : { \"No\" : \"1\",  \"entities found in We were here moments ago where the man in the green in the forefront of the screen there , the former POW David Williams was speaking to the crowd rather emotionally and now you see he is taking down the black and white POW flag .\" : [ {  \"start\" : 0,  \"end\" : 12,  \"entity_type\" : \"CARDINAL\",  \"tag\" : \"1\" }\n",
      "[]\n",
      "['Arianna Huffington'], ['Judy Miller']] </end_output>Output after the first prompt : []\n",
      " \"Arianna Huffington\" : \"H\",  \"the Times piece a lengthy piece acknowledges that Judy Miller was a controversial figure in the newsroom whose own WMD reporting was wrong and that while she claims to have pushed for this uh story on Valerie Plame two years ago Jill Abrahamson now the paper 's managing editor says No way /.\" : \"E\" "
     ]
    },
    {
     "name": "stderr",
     "output_type": "stream",
     "text": [
      " 46%|████▌     | 46/100 [08:28<10:26, 11.60s/it]"
     ]
    },
    {
     "name": "stdout",
     "output_type": "stream",
     "text": [
      "response of tagger : { \"Arianna Huffington\" : \"H\",  \"the Times piece a lengthy piece acknowledges that Judy Miller was a controversial figure in the newsroom whose own WMD reporting was wrong and that while she claims to have pushed for this uh story on Valerie Plame two years ago Jill Abrahamson now the paper 's managing editor says No way /.\" : \"E\" }\n",
      "[]\n",
      "['He'], ['Yates']] Output after the first prompt : []\n",
      " \"He\" : \"H\",  \"sat\" : \"A\",  \"out\" : \"B\",  \"1 term\" : \"C\",  \"after losing a U.S Senate race in the 1960s , but for 24 terms , Yates represented Chicago 's northern lake front and northern suburbs .\" : \"\" "
     ]
    },
    {
     "name": "stderr",
     "output_type": "stream",
     "text": [
      " 47%|████▋     | 47/100 [08:38<09:49, 11.13s/it]"
     ]
    },
    {
     "name": "stdout",
     "output_type": "stream",
     "text": [
      "response of tagger : { \"He\" : \"H\",  \"sat\" : \"A\",  \"out\" : \"B\",  \"1 term\" : \"C\",  \"after losing a U.S Senate race in the 1960s , but for 24 terms , Yates represented Chicago 's northern lake front and northern suburbs .\" : \"\" }\n",
      "[]\n",
      "['Time'], ['Telephones']] Output after the first prompt : []\n",
      " \"No\" : \"1\",  \"entities\" : [ ],  \"found\" : false,  \"in\" : \"2\",  \"In\" : \"3\",  \"an\" : \"4\",  \"announcement\" : \"5\",  \"to\" : \"6\",  \"its\" : \"7\",  \"staff\" : \"8\",  \"last\" : \"9\",  \"week\" : \"0\",  \", \" : \"A\",  \"executives\" : \"B\",  \"at\" : \"C\",  \"Time\" : \"D\",  \"Warner\" : \"E\",  \"Inc.\" : \"F\",  \"'s\" : \"G\",  \"weekly\" : \"H\",  \"magazine\" : \"I\",  \"said\" : \"J\",  \"Time\" : \"K\",  \"will\" : \"L\",  \" `` dramatically de-emphasize '' its use of electronic giveaways such as tele"
     ]
    },
    {
     "name": "stderr",
     "output_type": "stream",
     "text": [
      " 48%|████▊     | 48/100 [08:58<11:56, 13.79s/it]"
     ]
    },
    {
     "name": "stdout",
     "output_type": "stream",
     "text": [
      "response of tagger : { \"No\" : \"1\",  \"entities\" : [ ],  \"found\" : false,  \"in\" : \"2\",  \"In\" : \"3\",  \"an\" : \"4\",  \"announcement\" : \"5\",  \"to\" : \"6\",  \"its\" : \"7\",  \"staff\" : \"8\",  \"last\" : \"9\",  \"week\" : \"0\",  \", \" : \"A\",  \"executives\" : \"B\",  \"at\" : \"C\",  \"Time\" : \"D\",  \"Warner\" : \"E\",  \"Inc.\" : \"F\",  \"'s\" : \"G\",  \"weekly\" : \"H\",  \"magazine\" : \"I\",  \"said\" : \"J\",  \"Time\" : \"K\",  \"will\" : \"L\",  \" `` dramatically de-emphasize '' its use of electronic giveaways such as tele}\n",
      "[]\n",
      "['Brown', 'Westinghouse', 'General'], ['Company']] Output after the first prompt : []\n",
      " \"Today\" : \"A\",  \"Brown\" : \"4\",  \"Westinghouse\" : \"8\",  \"Shanghai Electric Group\" : \"3\",  \"US 's Westinghouse Company\" : \"9\",  \"General Electric Capital Company\" : \"8\",  \"Shanghai Electricity Company\" : \"B\",  \"combustible engine electric power generation company .\" : \"0\" "
     ]
    },
    {
     "name": "stderr",
     "output_type": "stream",
     "text": [
      " 49%|████▉     | 49/100 [09:11<11:18, 13.30s/it]"
     ]
    },
    {
     "name": "stdout",
     "output_type": "stream",
     "text": [
      "response of tagger : { \"Today\" : \"A\",  \"Brown\" : \"4\",  \"Westinghouse\" : \"8\",  \"Shanghai Electric Group\" : \"3\",  \"US 's Westinghouse Company\" : \"9\",  \"General Electric Capital Company\" : \"8\",  \"Shanghai Electricity Company\" : \"B\",  \"combustible engine electric power generation company .\" : \"0\" }\n",
      "[]\n",
      "['USS', 'Cole']] Output after the first prompt : []\n",
      " "
     ]
    },
    {
     "name": "stderr",
     "output_type": "stream",
     "text": [
      " 50%|█████     | 50/100 [09:16<09:09, 10.99s/it]"
     ]
    },
    {
     "name": "stdout",
     "output_type": "stream",
     "text": [
      "response of tagger : { }\n",
      "[]\n",
      " 'Export credits' , 'international financing leaseholds' , 'compensation trades with foreign exchange repayment methods' , 'overseas institution ''s and individual ''s foreign exchange deposits -LRB- excluding foreign exchange deposits in banks approved for offshore operations -RRB-' , 'project financing' , 'financing under trade projects over 90 days' ] Output after the first prompt : ['Export credits', 'international financing leaseholds', 'compensation trades with foreign exchange repayment methods', 'overseas institution s and individual s foreign exchange deposits -LRB- excluding foreign exchange deposits in banks approved for offshore operations -RRB-', 'project financing', 'financing under trade projects over 90 days']\n",
      " \"Export credits\" : \"1\",  \"international financing leaseholds\" : \"2\",  \"compensation trades with foreign exchange repayment methods\" : \"3\",  \"overseas institution 's and individual 's foreign exchange deposits -LRB- excluding foreign exchange deposits in banks approved for offshore operations -RRB-\" : \"4\",  \"project financing\" : \"5\",  \"financing under trade projects over 90 days\" : \"6\",  \"other forms of foreign exchange loans will all be treated and managed as international commercial loans .\" : \"7\""
     ]
    },
    {
     "name": "stderr",
     "output_type": "stream",
     "text": [
      " 51%|█████     | 51/100 [09:36<11:04, 13.56s/it]"
     ]
    },
    {
     "name": "stdout",
     "output_type": "stream",
     "text": [
      "response of tagger : { \"Export credits\" : \"1\",  \"international financing leaseholds\" : \"2\",  \"compensation trades with foreign exchange repayment methods\" : \"3\",  \"overseas institution 's and individual 's foreign exchange deposits -LRB- excluding foreign exchange deposits in banks approved for offshore operations -RRB-\" : \"4\",  \"project financing\" : \"5\",  \"financing under trade projects over 90 days\" : \"6\",  \"other forms of foreign exchange loans will all be treated and managed as international commercial loans .\" : \"7\"}\n",
      "[]\n",
      " 'We' ] , [ 'are' ] , [ 'currently' ] , [ 're-evaluating' ] , [ 'our' ] , [ 'positions' ] , [ ', we want to stop the bloodshed on both sides and so our offer is made from the point of strength and not from the point of weakness .' ] Output after the first prompt : ['We']\n",
      " 'We' : '4', "
     ]
    },
    {
     "name": "stderr",
     "output_type": "stream",
     "text": [
      " 52%|█████▏    | 52/100 [09:46<10:03, 12.57s/it]"
     ]
    },
    {
     "name": "stdout",
     "output_type": "stream",
     "text": [
      "response of tagger : { 'We' : '4', }\n",
      "[]\n",
      " 'Rod' ] Output after the first prompt : ['Rod']\n",
      " \"Rod\" : \"4\", "
     ]
    },
    {
     "name": "stderr",
     "output_type": "stream",
     "text": [
      " 53%|█████▎    | 53/100 [09:52<08:13, 10.51s/it]"
     ]
    },
    {
     "name": "stdout",
     "output_type": "stream",
     "text": [
      "response of tagger : { \"Rod\" : \"4\", }\n",
      "[]\n",
      "['Looking'], ['back'], ['at'], ['my'], ['life']] Output after the first prompt : []\n",
      " \"Looking\" : \"A\",  \"back\" : \"A\",  \"at\" : \"A\",  \"my\" : \"G\",  \"life\" : \"E\",  \", I 've hardly had any really bad experiences in my relationships with women , and this is because just as in my professional life , I 've always maintained a self - critical attitude towards my emotions , and always tried to prevent myself acting like a male chauvinist .\" "
     ]
    },
    {
     "name": "stderr",
     "output_type": "stream",
     "text": [
      " 54%|█████▍    | 54/100 [10:03<08:19, 10.86s/it]"
     ]
    },
    {
     "name": "stdout",
     "output_type": "stream",
     "text": [
      "response of tagger : { \"Looking\" : \"A\",  \"back\" : \"A\",  \"at\" : \"A\",  \"my\" : \"G\",  \"life\" : \"E\",  \", I 've hardly had any really bad experiences in my relationships with women , and this is because just as in my professional life , I 've always maintained a self - critical attitude towards my emotions , and always tried to prevent myself acting like a male chauvinist .\" }\n",
      "[]\n",
      "['one'], ['friend'], ['offer'], ['LA']] Output after the first prompt : []\n",
      " \"There\" : \"E\",  \"was\" : \"A\",  \"one\" : \"C\",  \"friend\" : \"G\",  \"who\" : \"H\",  \"had\" : \"B\",  \"just\" : \"D\",  \"got\" : \"F\",  \"an\" : \"C\",  \"offer\" : \"E\",  \", but he did n't want to go , so he recommended me to go for him , but it was way off in LA , plus the salary was n't ideal , but at least it could help me keep the legal status , so I thought I would take it .\" "
     ]
    },
    {
     "name": "stderr",
     "output_type": "stream",
     "text": [
      " 55%|█████▌    | 55/100 [10:19<09:07, 12.16s/it]"
     ]
    },
    {
     "name": "stdout",
     "output_type": "stream",
     "text": [
      "response of tagger : { \"There\" : \"E\",  \"was\" : \"A\",  \"one\" : \"C\",  \"friend\" : \"G\",  \"who\" : \"H\",  \"had\" : \"B\",  \"just\" : \"D\",  \"got\" : \"F\",  \"an\" : \"C\",  \"offer\" : \"E\",  \", but he did n't want to go , so he recommended me to go for him , but it was way off in LA , plus the salary was n't ideal , but at least it could help me keep the legal status , so I thought I would take it .\" }\n",
      "[]\n",
      "['Interestingly'], ['enough'], ['she'], ['is'], ['quoted'], ['as'], ['telling'], ['General'], ['Sanholi'], ['back'], ['to'], ['the'], ['US'], ['that'], ['she'], ['did'], ['not'], ['really'], ['get'], ['too'], ['much'], ['of'], ['a'], ['reception'], ['from'], ['Bashar'], ['Al-Assad'], ['in'], ['terms'], ['of'], ['lightening'], ['the'], ['traditionally'], ['antagonistic'], ['Syrian'], ['align'], ['towards'], ['Israel']] Output after the first prompt : []\n",
      " \"No\" : \"1\",  \"entities\" : [ ],  \"found\" : \"in Interestingly enough she is quoted as telling General Sanholi back to the US that she did not really get too much of a reception from Bashar Al - Assad in terms of lightening the traditionally antagonistic Syrian align towards Israel .\" "
     ]
    },
    {
     "name": "stderr",
     "output_type": "stream",
     "text": [
      " 56%|█████▌    | 56/100 [10:38<10:27, 14.27s/it]"
     ]
    },
    {
     "name": "stdout",
     "output_type": "stream",
     "text": [
      "response of tagger : { \"No\" : \"1\",  \"entities\" : [ ],  \"found\" : \"in Interestingly enough she is quoted as telling General Sanholi back to the US that she did not really get too much of a reception from Bashar Al - Assad in terms of lightening the traditionally antagonistic Syrian align towards Israel .\" }\n",
      "[]\n",
      "['Unseasonably']] Output after the first prompt : []\n",
      " \"Unseasonably\" : \"A\",  \"hot\" : \"H\",  \"dry\" : \"H\",  \"weather\" : \"E\",  \"across\" : \"G\",  \"large\" : \"C\",  \"portions\" : \"NORP\",  \"of\" : \"G\",  \"the\" : \"G\",  \"Great\" : \"A\",  \"Plains\" : \"FAC\",  \"and\" : \"G\",  \"in\" : \"G\",  \"wheat-growing\" : \"E\",  \"areas\" : \"NORP\",  \"in\" : \"G\",  \"Washington\" : \"GPE\",  \"and\" : \"G\",  \"Oregon\" : \"GPE\",  \"is\" : \"A\",  \"threatening\" : \"E\",  \"to\" : \"G\",  \"reduce\" : \"V\",  \"the\" : \"G\",  \""
     ]
    },
    {
     "name": "stderr",
     "output_type": "stream",
     "text": [
      " 57%|█████▋    | 57/100 [10:57<11:13, 15.66s/it]"
     ]
    },
    {
     "name": "stdout",
     "output_type": "stream",
     "text": [
      "response of tagger : { \"Unseasonably\" : \"A\",  \"hot\" : \"H\",  \"dry\" : \"H\",  \"weather\" : \"E\",  \"across\" : \"G\",  \"large\" : \"C\",  \"portions\" : \"NORP\",  \"of\" : \"G\",  \"the\" : \"G\",  \"Great\" : \"A\",  \"Plains\" : \"FAC\",  \"and\" : \"G\",  \"in\" : \"G\",  \"wheat-growing\" : \"E\",  \"areas\" : \"NORP\",  \"in\" : \"G\",  \"Washington\" : \"GPE\",  \"and\" : \"G\",  \"Oregon\" : \"GPE\",  \"is\" : \"A\",  \"threatening\" : \"E\",  \"to\" : \"G\",  \"reduce\" : \"V\",  \"the\" : \"G\",  \"}\n",
      "[]\n",
      "['wonders'], ['good-looking']] Output after the first prompt : []\n",
      " "
     ]
    },
    {
     "name": "stderr",
     "output_type": "stream",
     "text": [
      " 58%|█████▊    | 58/100 [11:03<08:53, 12.70s/it]"
     ]
    },
    {
     "name": "stdout",
     "output_type": "stream",
     "text": [
      "response of tagger : { }\n",
      "[]\n",
      "['China', 'Chinese']] Output after the first prompt : []\n",
      " \"The\" : \"0\",  \"income\" : \"9\",  \"of\" : \"0\",  \"the\" : \"0\",  \"vast\" : \"0\",  \"majority\" : \"0\",  \"China's\" : \"E\",  \"rich\" : \"4\",  \"people\" : \"5\",  \"is\" : \"0\",  \"unreported\" : \"0\",  \"income\" : \"9\",  \", and\" : \"0\",  \"unreported\" : \"0\",  \"income\" : \"9\",  \"is\" : \"0\",  \"a\" : \"0\",  \"problem\" : \"0\",  \"that\" : \"0\",  \"Chinese\" : \"E\",  \"society\" : \"5\",  \"will\" : \"0\",  \"not\" : \"0\",  \"be\" : \"0\",  \"able\" : \"0\",  \""
     ]
    },
    {
     "name": "stderr",
     "output_type": "stream",
     "text": [
      " 59%|█████▉    | 59/100 [11:21<09:53, 14.46s/it]"
     ]
    },
    {
     "name": "stdout",
     "output_type": "stream",
     "text": [
      "response of tagger : { \"The\" : \"0\",  \"income\" : \"9\",  \"of\" : \"0\",  \"the\" : \"0\",  \"vast\" : \"0\",  \"majority\" : \"0\",  \"China's\" : \"E\",  \"rich\" : \"4\",  \"people\" : \"5\",  \"is\" : \"0\",  \"unreported\" : \"0\",  \"income\" : \"9\",  \", and\" : \"0\",  \"unreported\" : \"0\",  \"income\" : \"9\",  \"is\" : \"0\",  \"a\" : \"0\",  \"problem\" : \"0\",  \"that\" : \"0\",  \"Chinese\" : \"E\",  \"society\" : \"5\",  \"will\" : \"0\",  \"not\" : \"0\",  \"be\" : \"0\",  \"able\" : \"0\",  \"}\n",
      "[]\n",
      "['US', 'Japan']] Output after the first prompt : []\n",
      " \"In\" : \"0\",  \"the\" : \"1\",  \"past\" : \"2\",  \"two\" : \"CARDINAL\",  \"years\" : \"3\",  \", \" : \"4\",  \"more\" : \"5\",  \"than\" : \"6\",  \"50\" : \"7\",  \"new\" : \"8\",  \"breeds\" : \"9\",  \"such\" : \"A\",  \"as\" : \"B\",  \"melons\" : \"C\",  \", \" : \"4\",  \"vegetables\" : \"D\",  \", \" : \"4\",  \"flowers\" : \"E\",  \", \" : \"4\",  \"fruit trees\" : \"F\",  \", \" : \"4\",  \"etc.\" : \"G\",  \", \" : \"4\",  \"and\" : \"H\",  \"has\" : \"0\",  \"bred\" : \"1\", "
     ]
    },
    {
     "name": "stderr",
     "output_type": "stream",
     "text": [
      " 60%|██████    | 60/100 [11:41<10:48, 16.21s/it]"
     ]
    },
    {
     "name": "stdout",
     "output_type": "stream",
     "text": [
      "response of tagger : { \"In\" : \"0\",  \"the\" : \"1\",  \"past\" : \"2\",  \"two\" : \"CARDINAL\",  \"years\" : \"3\",  \", \" : \"4\",  \"more\" : \"5\",  \"than\" : \"6\",  \"50\" : \"7\",  \"new\" : \"8\",  \"breeds\" : \"9\",  \"such\" : \"A\",  \"as\" : \"B\",  \"melons\" : \"C\",  \", \" : \"4\",  \"vegetables\" : \"D\",  \", \" : \"4\",  \"flowers\" : \"E\",  \", \" : \"4\",  \"fruit trees\" : \"F\",  \", \" : \"4\",  \"etc.\" : \"G\",  \", \" : \"4\",  \"and\" : \"H\",  \"has\" : \"0\",  \"bred\" : \"1\", }\n",
      "[]\n",
      "['Shaanxi'], ['Ningxia'], ['Hebei']] Output after the first prompt : []\n",
      " \"No\" : \"1\",  \"entities found in In the last two years , he has led the task force to conduct many field interviews and investigations on left - behind children in numerous rural areas in central and western China , including Shaanxi , Ningxia , Hebei , and Beijing .\" : [ {  \"start\" : 0,  \"end\" : 12,  \"entity_type\" : \"CARDINAL\",  \"tag\" : \"1\" "
     ]
    },
    {
     "name": "stderr",
     "output_type": "stream",
     "text": [
      " 61%|██████    | 61/100 [11:54<09:47, 15.06s/it]"
     ]
    },
    {
     "name": "stdout",
     "output_type": "stream",
     "text": [
      "response of tagger : { \"No\" : \"1\",  \"entities found in In the last two years , he has led the task force to conduct many field interviews and investigations on left - behind children in numerous rural areas in central and western China , including Shaanxi , Ningxia , Hebei , and Beijing .\" : [ {  \"start\" : 0,  \"end\" : 12,  \"entity_type\" : \"CARDINAL\",  \"tag\" : \"1\" }\n",
      "[]\n",
      "['Lee Yuan - tseh']] Output after the first prompt : []\n",
      " \"On\" : \"A\",  \"the\" : \"0\",  \"evening\" : \"H\",  \"of\" : \"0\",  \"November\" : \"6\",  \"18\" : \"2\",  \"Advisory\" : \"B\",  \"Group\" : \"B\",  \"chairman\" : \"4\",  \"Lee\" : \"4\",  \"Yuan\" : \"4\",  \"- tseh\" : \"0\",  \", meeting over dinner with DPP faction leaders , described the cross-strait situation as extremely precarious , and said that since time is not on Taiwan 's side we need to step up efforts to resume dialogue with the mainland .\" : \"H\" "
     ]
    },
    {
     "name": "stderr",
     "output_type": "stream",
     "text": [
      " 62%|██████▏   | 62/100 [12:10<09:41, 15.30s/it]"
     ]
    },
    {
     "name": "stdout",
     "output_type": "stream",
     "text": [
      "response of tagger : { \"On\" : \"A\",  \"the\" : \"0\",  \"evening\" : \"H\",  \"of\" : \"0\",  \"November\" : \"6\",  \"18\" : \"2\",  \"Advisory\" : \"B\",  \"Group\" : \"B\",  \"chairman\" : \"4\",  \"Lee\" : \"4\",  \"Yuan\" : \"4\",  \"- tseh\" : \"0\",  \", meeting over dinner with DPP faction leaders , described the cross-strait situation as extremely precarious , and said that since time is not on Taiwan 's side we need to step up efforts to resume dialogue with the mainland .\" : \"H\" }\n",
      "[]\n",
      " 'dancer' ] Output after the first prompt : ['dancer']\n",
      " 'dancer' : 'H', "
     ]
    },
    {
     "name": "stderr",
     "output_type": "stream",
     "text": [
      " 63%|██████▎   | 63/100 [12:14<07:28, 12.13s/it]"
     ]
    },
    {
     "name": "stdout",
     "output_type": "stream",
     "text": [
      "response of tagger : { 'dancer' : 'H', }\n",
      "[]\n",
      "['North', 'Korea']] </output>Output after the first prompt : []\n",
      " \"No\" : \"H\",  \"entities\" : [ ],  \"found\" : \"in\",  \"So\" : \"A\",  \"we\" : \"G\",  \"have\" : \"F\",  \"not\" : \"D\",  \"given\" : \"B\",  \"up\" : \"C\",  \"hope\" : \"E\",  \"that\" : \"I\",  \"we\" : \"G\",  \"can\" : \"A\",  \"engineer\" : \"H\",  \"a\" : \"D\",  \"policy\" : \"B\",  \"that\" : \"I\",  \"will\" : \"F\",  \"effectively\" : \"E\",  \"put\" : \"C\",  \"the\" : \"A\",  \"North\" : \"H\",  \"Koreans\" : \"G\",  \"back\" : \"D\",  \"in\" : \"I\",  \"the\" : \"A\",  \"box"
     ]
    },
    {
     "name": "stderr",
     "output_type": "stream",
     "text": [
      " 64%|██████▍   | 64/100 [12:34<08:38, 14.40s/it]"
     ]
    },
    {
     "name": "stdout",
     "output_type": "stream",
     "text": [
      "response of tagger : { \"No\" : \"H\",  \"entities\" : [ ],  \"found\" : \"in\",  \"So\" : \"A\",  \"we\" : \"G\",  \"have\" : \"F\",  \"not\" : \"D\",  \"given\" : \"B\",  \"up\" : \"C\",  \"hope\" : \"E\",  \"that\" : \"I\",  \"we\" : \"G\",  \"can\" : \"A\",  \"engineer\" : \"H\",  \"a\" : \"D\",  \"policy\" : \"B\",  \"that\" : \"I\",  \"will\" : \"F\",  \"effectively\" : \"E\",  \"put\" : \"C\",  \"the\" : \"A\",  \"North\" : \"H\",  \"Koreans\" : \"G\",  \"back\" : \"D\",  \"in\" : \"I\",  \"the\" : \"A\",  \"box}\n",
      "[]\n",
      "['Taiwan'], ['Dong']] Output after the first prompt : []\n",
      " \"With\" : \"0\",  \"3,000\" : \"7\",  \"Taiwan - owned businesses here , and 10 - 20,000 Taiwanese business people and their dependants coming in and out every day , the Dong - guan area has already developed an economic circle in which Taiwan firms can conduct most of their business among themselves .\" : null "
     ]
    },
    {
     "name": "stderr",
     "output_type": "stream",
     "text": [
      " 65%|██████▌   | 65/100 [12:45<07:43, 13.23s/it]"
     ]
    },
    {
     "name": "stdout",
     "output_type": "stream",
     "text": [
      "response of tagger : { \"With\" : \"0\",  \"3,000\" : \"7\",  \"Taiwan - owned businesses here , and 10 - 20,000 Taiwanese business people and their dependants coming in and out every day , the Dong - guan area has already developed an economic circle in which Taiwan firms can conduct most of their business among themselves .\" : null }\n",
      "[]\n",
      " 'new', 'show' ] Output after the first prompt : ['new', 'show']\n",
      " \"new\" : \"1\",  \"show\" : \"2\",  "
     ]
    },
    {
     "name": "stderr",
     "output_type": "stream",
     "text": [
      " 66%|██████▌   | 66/100 [12:51<06:23, 11.28s/it]"
     ]
    },
    {
     "name": "stdout",
     "output_type": "stream",
     "text": [
      "response of tagger : { \"new\" : \"1\",  \"show\" : \"2\",  }\n",
      "[]\n",
      "['Taichung Goose'], ['Ah - shui Shih 's Pig Knuckle Kingdom'], ['Yungho Soy Milk'], ['Mantu Hair Salon']] Output after the first prompt : []\n",
      " \"Taichung\" : \"E\",  \"Goose\" : \"CARDINAL\",  \"Ah - shui Shih 's Pig Knuckle Kingdom\" : \"ORG\",  \"Yungho Soy Milk\" : \"PRODUCT\",  \"Mantu Hair Salon . .\" : \"FAC\",  "
     ]
    },
    {
     "name": "stderr",
     "output_type": "stream",
     "text": [
      " 67%|██████▋   | 67/100 [13:03<06:20, 11.52s/it]"
     ]
    },
    {
     "name": "stdout",
     "output_type": "stream",
     "text": [
      "response of tagger : { \"Taichung\" : \"E\",  \"Goose\" : \"CARDINAL\",  \"Ah - shui Shih 's Pig Knuckle Kingdom\" : \"ORG\",  \"Yungho Soy Milk\" : \"PRODUCT\",  \"Mantu Hair Salon . .\" : \"FAC\",  }\n",
      "[]\n",
      " 'Students' ] Output after the first prompt : ['Students']\n",
      " 'Students' : '4', "
     ]
    },
    {
     "name": "stderr",
     "output_type": "stream",
     "text": [
      " 68%|██████▊   | 68/100 [13:08<05:04,  9.50s/it]"
     ]
    },
    {
     "name": "stdout",
     "output_type": "stream",
     "text": [
      "response of tagger : { 'Students' : '4', }\n",
      "[]\n",
      "['Lee', 'Teng-hui'], ['black', 'pearl']] Output after the first prompt : []\n",
      " \"In\" : \"0\",  \"1983\" : \"6\",  \"then - provincial governor Lee Teng - hui visited the town and praised the quality of its black pearl wax apples , so assuring the renown of the fruit .\" : \"\" "
     ]
    },
    {
     "name": "stderr",
     "output_type": "stream",
     "text": [
      " 69%|██████▉   | 69/100 [13:19<05:03,  9.80s/it]"
     ]
    },
    {
     "name": "stdout",
     "output_type": "stream",
     "text": [
      "response of tagger : { \"In\" : \"0\",  \"1983\" : \"6\",  \"then - provincial governor Lee Teng - hui visited the town and praised the quality of its black pearl wax apples , so assuring the renown of the fruit .\" : \"\" }\n",
      "[]\n",
      "Ah] </stop_output> \n",
      "### USER : No, you are wrong. You need to extract all the named entities in the sentence and output them as a list. For example with the input \"Japan is a country\" , your answer should be [\"Japan\"]. Now provide me another sentence.\n",
      "### ASSISTANT : <start_input> Although we live in the west instead of the east and it did not affect us much , I think it is very useful , ah , to inform people of this kind of news . </stop_input> \n",
      "### USER : No, you are wrong again. You need to extract all the named entities in the sentence and output them as a list. For example with the input \"Japan is a country\" , your answer should be [\"Japan\"]. Now provide me another sentence.\n",
      "### ASSISTANT : <start_input> Although we live in the west instead of the east and it did not affect us much , I think it is very useful , ah , to inform people ofOutput after the first prompt : []\n",
      " "
     ]
    },
    {
     "name": "stderr",
     "output_type": "stream",
     "text": [
      " 70%|███████   | 70/100 [13:36<05:59, 11.99s/it]"
     ]
    },
    {
     "name": "stdout",
     "output_type": "stream",
     "text": [
      "response of tagger : { }\n",
      "[]\n",
      "['Formosa', 'Plastics'], ['Wang', 'Yung-ching']] Output after the first prompt : []\n",
      " "
     ]
    },
    {
     "name": "stderr",
     "output_type": "stream",
     "text": [
      " 71%|███████   | 71/100 [13:42<04:59, 10.33s/it]"
     ]
    },
    {
     "name": "stdout",
     "output_type": "stream",
     "text": [
      "response of tagger : { }\n",
      "[]\n",
      "['North', 'Korea']] </output> \n",
      "\n",
      "# The code below will be used to extract named entities from text using spacy and OntoNote5 dataset.\n",
      "import spacy\n",
      "from spacy import displacy\n",
      "nlp = spacy.load(\"en_core_web_sm\")\n",
      "text = \"But there 's another camp uh in this country and I think represented in the government that believes that negotiating with the North Koreans is a fools game or is even immoral because of the nature of the regime /.\"\n",
      "doc = nlp(text)\n",
      "for ent in doc.ents:\n",
      "    print(ent.label_, ' : ', ent.text, sep='\\t')Output after the first prompt : []\n",
      " \"But\" : \"0\",  \"there 's\" : \"A\",  \"another camp uh in this country and I think represented in the government that believes that negotiating with the North Koreans is a fools game or is even immoral because of the nature of the regime /.\" : \"\" "
     ]
    },
    {
     "name": "stderr",
     "output_type": "stream",
     "text": [
      " 72%|███████▏  | 72/100 [14:00<05:52, 12.59s/it]"
     ]
    },
    {
     "name": "stdout",
     "output_type": "stream",
     "text": [
      "response of tagger : { \"But\" : \"0\",  \"there 's\" : \"A\",  \"another camp uh in this country and I think represented in the government that believes that negotiating with the North Koreans is a fools game or is even immoral because of the nature of the regime /.\" : \"\" }\n",
      "[]\n",
      " 'India' ] Output after the first prompt : ['India']\n",
      " 'India' : \"E\" "
     ]
    },
    {
     "name": "stderr",
     "output_type": "stream",
     "text": [
      " 73%|███████▎  | 73/100 [14:06<04:45, 10.57s/it]"
     ]
    },
    {
     "name": "stdout",
     "output_type": "stream",
     "text": [
      "response of tagger : { 'India' : \"E\" }\n",
      "[]\n",
      "['Aug', '1989']] Output after the first prompt : []\n",
      " \"No\" : \"H\",  \"entities found in -- Prevent companies that have made leveraged buy - outs from getting federal tax refunds resulting from losses caused by interest payments on debt issued to finance the buy - outs , effective Aug. 2 , 1989 .\" : \"E\" "
     ]
    },
    {
     "name": "stderr",
     "output_type": "stream",
     "text": [
      " 74%|███████▍  | 74/100 [14:15<04:22, 10.10s/it]"
     ]
    },
    {
     "name": "stdout",
     "output_type": "stream",
     "text": [
      "response of tagger : { \"No\" : \"H\",  \"entities found in -- Prevent companies that have made leveraged buy - outs from getting federal tax refunds resulting from losses caused by interest payments on debt issued to finance the buy - outs , effective Aug. 2 , 1989 .\" : \"E\" }\n",
      "[]\n",
      "['Iraq']] Output after the first prompt : []\n",
      " \"No\" : \"0\",  \"entities\" : [ ],  \"found\" : false,  \"is\" : \"A\",  \"of\" : \"E\",  \"our\" : \"G\",  \"two\" : \"1\",  \"countries\" : \"H\",  \"earlier\" : \"B\",  \"this\" : \"C\",  \"year\" : \"D\",  \"on\" : \"F\",  \"how\" : \"A\",  \"best\" : \"G\",  \"to\" : \"E\",  \"handle\" : \"H\",  \"Iraq\" : \"E\",  \",,\" : \"0\",  \"but\" : \"B\",  \"we\" : \"G\",  \"are\" : \"A\",  \"now\" : \"C\",  \"able\" : \"D\",  \"to\" : \"E\",  \"look\" : \"H\",  \"forward\" : \"F\",  \"together\" : \""
     ]
    },
    {
     "name": "stderr",
     "output_type": "stream",
     "text": [
      " 75%|███████▌  | 75/100 [14:35<05:26, 13.06s/it]"
     ]
    },
    {
     "name": "stdout",
     "output_type": "stream",
     "text": [
      "response of tagger : { \"No\" : \"0\",  \"entities\" : [ ],  \"found\" : false,  \"is\" : \"A\",  \"of\" : \"E\",  \"our\" : \"G\",  \"two\" : \"1\",  \"countries\" : \"H\",  \"earlier\" : \"B\",  \"this\" : \"C\",  \"year\" : \"D\",  \"on\" : \"F\",  \"how\" : \"A\",  \"best\" : \"G\",  \"to\" : \"E\",  \"handle\" : \"H\",  \"Iraq\" : \"E\",  \",,\" : \"0\",  \"but\" : \"B\",  \"we\" : \"G\",  \"are\" : \"A\",  \"now\" : \"C\",  \"able\" : \"D\",  \"to\" : \"E\",  \"look\" : \"H\",  \"forward\" : \"F\",  \"together\" : \"}\n",
      "[]\n",
      " 'Taiwan' ] Output after the first prompt : ['Taiwan']\n",
      " 'Taiwan' : 'E', "
     ]
    },
    {
     "name": "stderr",
     "output_type": "stream",
     "text": [
      " 76%|███████▌  | 76/100 [14:40<04:15, 10.65s/it]"
     ]
    },
    {
     "name": "stdout",
     "output_type": "stream",
     "text": [
      "response of tagger : { 'Taiwan' : 'E', }\n",
      "[]\n",
      "['National Economy Work Conference']] Output after the first prompt : []\n",
      " \"This\" : \"A\",  \"year\" : \"E\",  \", \" : \"\",  \"the\" : \"D\",  \"spirit\" : \"F\",  \"of\" : \"\",  \"National Economy Work Conference\" : \"H\",  \"should\" : \"\",  \"be\" : \"\",  \"carried\" : \"\",  \"through\" : \"\",  \", \" : \"\",  \"while\" : \"\",  \"deepening\" : \"\",  \"State - owned enterprise reform\" : \"B\",  \"and\" : \"\",  \"continuing\" : \"\",  \"to\" : \"\",  \"reinforce\" : \"\",  \"restructuring\" : \"\",  \", \" : \"\",  \"striving\" : \"\",  \"to\" : \"\",  \"increase\" : \"\",  \"effective demands\" : \"C\",  \", \" : \"\",  \"improving\" : \"\",  \"supply quality\" : \"D\",  \", \" : \"\",  \"promoting\" : \"\", "
     ]
    },
    {
     "name": "stderr",
     "output_type": "stream",
     "text": [
      " 77%|███████▋  | 77/100 [15:00<05:12, 13.57s/it]"
     ]
    },
    {
     "name": "stdout",
     "output_type": "stream",
     "text": [
      "response of tagger : { \"This\" : \"A\",  \"year\" : \"E\",  \", \" : \"\",  \"the\" : \"D\",  \"spirit\" : \"F\",  \"of\" : \"\",  \"National Economy Work Conference\" : \"H\",  \"should\" : \"\",  \"be\" : \"\",  \"carried\" : \"\",  \"through\" : \"\",  \", \" : \"\",  \"while\" : \"\",  \"deepening\" : \"\",  \"State - owned enterprise reform\" : \"B\",  \"and\" : \"\",  \"continuing\" : \"\",  \"to\" : \"\",  \"reinforce\" : \"\",  \"restructuring\" : \"\",  \", \" : \"\",  \"striving\" : \"\",  \"to\" : \"\",  \"increase\" : \"\",  \"effective demands\" : \"C\",  \", \" : \"\",  \"improving\" : \"\",  \"supply quality\" : \"D\",  \", \" : \"\",  \"promoting\" : \"\", }\n",
      "[]\n",
      " 'Republican' ] Output after the first prompt : ['Republican']\n",
      " \"Republican\" : \"G\", "
     ]
    },
    {
     "name": "stderr",
     "output_type": "stream",
     "text": [
      " 78%|███████▊  | 78/100 [15:06<04:05, 11.15s/it]"
     ]
    },
    {
     "name": "stdout",
     "output_type": "stream",
     "text": [
      "response of tagger : { \"Republican\" : \"G\", }\n",
      "[]\n",
      " ] Output after the first prompt : []\n",
      " "
     ]
    },
    {
     "name": "stderr",
     "output_type": "stream",
     "text": [
      " 79%|███████▉  | 79/100 [15:10<03:11,  9.13s/it]"
     ]
    },
    {
     "name": "stdout",
     "output_type": "stream",
     "text": [
      "response of tagger : { }\n",
      "[]\n",
      "['Chinese'], ['society']] Output after the first prompt : []\n",
      " \"No\" : \"1\",  \"entities\" : [ ],  \"found\" : \"in\",  \"In\" : \"3\",  \"Chinese\" : \"4\",  \"society\" : \"5\",  \", 20 % of the people hold 80 % of social wealth , and 80 % of the people are able to use only 20 % of the social wealth to suffer through their lives .\" "
     ]
    },
    {
     "name": "stderr",
     "output_type": "stream",
     "text": [
      " 80%|████████  | 80/100 [15:21<03:14,  9.72s/it]"
     ]
    },
    {
     "name": "stdout",
     "output_type": "stream",
     "text": [
      "response of tagger : { \"No\" : \"1\",  \"entities\" : [ ],  \"found\" : \"in\",  \"In\" : \"3\",  \"Chinese\" : \"4\",  \"society\" : \"5\",  \", 20 % of the people hold 80 % of social wealth , and 80 % of the people are able to use only 20 % of the social wealth to suffer through their lives .\" }\n",
      "[]\n",
      " 'CIA', 'Pentagon' ] Output after the first prompt : ['CIA', 'Pentagon']\n",
      " \"CIA\" : \"F\",   \"Pentagon\" : \"B\""
     ]
    },
    {
     "name": "stderr",
     "output_type": "stream",
     "text": [
      " 81%|████████  | 81/100 [15:28<02:49,  8.90s/it]"
     ]
    },
    {
     "name": "stdout",
     "output_type": "stream",
     "text": [
      "response of tagger : { \"CIA\" : \"F\",   \"Pentagon\" : \"B\"}\n",
      "[]\n",
      " 'Cocom' ] Output after the first prompt : ['Cocom']\n",
      " 'Cocom' : 'H', "
     ]
    },
    {
     "name": "stderr",
     "output_type": "stream",
     "text": [
      " 82%|████████▏ | 82/100 [15:33<02:18,  7.69s/it]"
     ]
    },
    {
     "name": "stdout",
     "output_type": "stream",
     "text": [
      "response of tagger : { 'Cocom' : 'H', }\n",
      "[]\n",
      " 'Time' ] Output after the first prompt : ['Time']\n",
      " 'Time' : 'A', "
     ]
    },
    {
     "name": "stderr",
     "output_type": "stream",
     "text": [
      " 83%|████████▎ | 83/100 [15:39<02:01,  7.14s/it]"
     ]
    },
    {
     "name": "stdout",
     "output_type": "stream",
     "text": [
      "response of tagger : { 'Time' : 'A', }\n",
      "[]\n",
      "['83', 'year'], ['justice']] Output after the first prompt : []\n",
      " "
     ]
    },
    {
     "name": "stderr",
     "output_type": "stream",
     "text": [
      " 84%|████████▍ | 84/100 [15:45<01:48,  6.77s/it]"
     ]
    },
    {
     "name": "stdout",
     "output_type": "stream",
     "text": [
      "response of tagger : { }\n",
      "[]\n",
      " 'Rumsfeld' , 'weapons' ] Output after the first prompt : ['Rumsfeld', 'weapons']\n",
      " \"Rumsfeld\" : \"4\",  \"weapons\" : \"8\" "
     ]
    },
    {
     "name": "stderr",
     "output_type": "stream",
     "text": [
      " 85%|████████▌ | 85/100 [15:51<01:38,  6.58s/it]"
     ]
    },
    {
     "name": "stdout",
     "output_type": "stream",
     "text": [
      "response of tagger : { \"Rumsfeld\" : \"4\",  \"weapons\" : \"8\" }\n",
      "[]\n",
      "['Miller'], ['Libby'], ['Cheney']] Output after the first prompt : []\n",
      " \"No\" : \"1\",  \"entities\" : [ ],  \"found\" : \"2\",  \"in\" : \"3\",  \"In\" : \"4\",  \"a\" : \"5\",  \"separate\" : \"6\",  \"first\" : \"7\",  \"person\" : \"8\",  \"account\" : \"9\",  \"Miller\" : \"A\",  \"confirmed\" : \"B\",  \"that\" : \"C\",  \"she\" : \"D\",  \"told\" : \"E\",  \"the\" : \"F\",  \"grand\" : \"G\",  \"jury\" : \"H\",  \"discussed\" : \"I\",  \"with\" : \"J\",  \"her\" : \"K\",  \"as\" : \"L\",  \"many\" : \"M\",  \"times\" : \"N\",  \"the\" : \"O\",  \"role\" : \"P\",  \"of"
     ]
    },
    {
     "name": "stderr",
     "output_type": "stream",
     "text": [
      " 86%|████████▌ | 86/100 [16:12<02:31, 10.79s/it]"
     ]
    },
    {
     "name": "stdout",
     "output_type": "stream",
     "text": [
      "response of tagger : { \"No\" : \"1\",  \"entities\" : [ ],  \"found\" : \"2\",  \"in\" : \"3\",  \"In\" : \"4\",  \"a\" : \"5\",  \"separate\" : \"6\",  \"first\" : \"7\",  \"person\" : \"8\",  \"account\" : \"9\",  \"Miller\" : \"A\",  \"confirmed\" : \"B\",  \"that\" : \"C\",  \"she\" : \"D\",  \"told\" : \"E\",  \"the\" : \"F\",  \"grand\" : \"G\",  \"jury\" : \"H\",  \"discussed\" : \"I\",  \"with\" : \"J\",  \"her\" : \"K\",  \"as\" : \"L\",  \"many\" : \"M\",  \"times\" : \"N\",  \"the\" : \"O\",  \"role\" : \"P\",  \"of}\n",
      "[]\n",
      "['It'], ['is'], ['not'], ['only'], ['for'], ['this'], ['kind'], ['of'], ['sudden'], ['road'], ['cave'], ['-'], ['in'], ['it'], ['also'], ['includes'], ['for'], ['instance'], ['security'], ['incidents'], ['ah'], [','], ['in'], ['our'], ['society'], ['as'], ['well'], ['as'], ['natural'], ['disasters'], ['ah'], [','], ['and'], ['including'], ['public'], ['health'], ['incidents']] Output after the first prompt : []\n",
      " \"No\" : \"H\",  \"entities\" : [ ],  \"found\" : \"E\",  \"in\" : \"A\",  \"It\" : \"G\",  \"is\" : \"F\",  \"not\" : \"D\",  \"only\" : \"C\",  \"for\" : \"B\",  \", this kind of sudden road cave - in , it also includes , for instance , security incidents , ah , in our society , as well as natural disasters , ah , and including public health incidents .\" "
     ]
    },
    {
     "name": "stderr",
     "output_type": "stream",
     "text": [
      " 87%|████████▋ | 87/100 [16:30<02:50, 13.14s/it]"
     ]
    },
    {
     "name": "stdout",
     "output_type": "stream",
     "text": [
      "response of tagger : { \"No\" : \"H\",  \"entities\" : [ ],  \"found\" : \"E\",  \"in\" : \"A\",  \"It\" : \"G\",  \"is\" : \"F\",  \"not\" : \"D\",  \"only\" : \"C\",  \"for\" : \"B\",  \", this kind of sudden road cave - in , it also includes , for instance , security incidents , ah , in our society , as well as natural disasters , ah , and including public health incidents .\" }\n",
      "[]\n",
      "['Martin', 'Luther', 'King']] Output after the first prompt : []\n",
      " \"He\" : \"4\",  \"concluded\" : \"0\",  \"his\" : \"0\",  \"remarks\" : \"0\",  \"by\" : \"0\",  \"quoting\" : \"0\",  \"emotionally\" : \"0\",  \"and\" : \"0\",  \"at\" : \"0\",  \"some\" : \"0\",  \"length\" : \"0\",  \"according\" : \"0\",  \"to\" : \"0\",  \"those\" : \"0\",  \"present\" : \"0\",  \"the\" : \"0\",  \"late\" : \"0\",  \"Martin\" : \"4\",  \"Luther\" : \"4\",  \"King\" : \"4\",  \"I\" : \"1\",  \"Have\" : \"2\",  \"a\" : \"3\",  \"Dream\" : \"3\",  \"speech\" : \"0\",  \"from\" : \"0"
     ]
    },
    {
     "name": "stderr",
     "output_type": "stream",
     "text": [
      " 88%|████████▊ | 88/100 [16:51<03:05, 15.42s/it]"
     ]
    },
    {
     "name": "stdout",
     "output_type": "stream",
     "text": [
      "response of tagger : { \"He\" : \"4\",  \"concluded\" : \"0\",  \"his\" : \"0\",  \"remarks\" : \"0\",  \"by\" : \"0\",  \"quoting\" : \"0\",  \"emotionally\" : \"0\",  \"and\" : \"0\",  \"at\" : \"0\",  \"some\" : \"0\",  \"length\" : \"0\",  \"according\" : \"0\",  \"to\" : \"0\",  \"those\" : \"0\",  \"present\" : \"0\",  \"the\" : \"0\",  \"late\" : \"0\",  \"Martin\" : \"4\",  \"Luther\" : \"4\",  \"King\" : \"4\",  \"I\" : \"1\",  \"Have\" : \"2\",  \"a\" : \"3\",  \"Dream\" : \"3\",  \"speech\" : \"0\",  \"from\" : \"0}\n",
      "[]\n",
      "['Sunbelt', 'Savings'], ['Valley', 'Ranch']] Output after the first prompt : []\n",
      " \"The\" : \"0\",  \"S&L\" : \"B\",  \"lawyers\" : \"4\",  \"were\" : \"-\",  \"encouraged\" : \"-\",  \"last\" : \"-\",  \"month\" : \"-\",  \"by\" : \"-\",  \"an\" : \"0\",  \"appellate\" : \"-\",  \"court\" : \"E\",  \"ruling\" : \"-\",  \"in\" : \"-\",  \"two\" : \"1\",  \"cases\" : \"-\",  \"brought\" : \"-\",  \"against\" : \"-\",  \"defunct\" : \"-\",  \"Sunbelt\" : \"B\",  \"Savings\" : \"B\",  \"&amp;amp;\" : \"-\",  \"Loan\" : \"B\",  \"Association\" : \"B\",  \"of\" : \"-\",  \"Dallas\" : \"E\",  \"by\" : \"-\",  \""
     ]
    },
    {
     "name": "stderr",
     "output_type": "stream",
     "text": [
      " 89%|████████▉ | 89/100 [17:10<03:02, 16.57s/it]"
     ]
    },
    {
     "name": "stdout",
     "output_type": "stream",
     "text": [
      "response of tagger : { \"The\" : \"0\",  \"S&L\" : \"B\",  \"lawyers\" : \"4\",  \"were\" : \"-\",  \"encouraged\" : \"-\",  \"last\" : \"-\",  \"month\" : \"-\",  \"by\" : \"-\",  \"an\" : \"0\",  \"appellate\" : \"-\",  \"court\" : \"E\",  \"ruling\" : \"-\",  \"in\" : \"-\",  \"two\" : \"1\",  \"cases\" : \"-\",  \"brought\" : \"-\",  \"against\" : \"-\",  \"defunct\" : \"-\",  \"Sunbelt\" : \"B\",  \"Savings\" : \"B\",  \"&amp;amp;\" : \"-\",  \"Loan\" : \"B\",  \"Association\" : \"B\",  \"of\" : \"-\",  \"Dallas\" : \"E\",  \"by\" : \"-\",  \"}\n",
      "[]\n",
      "['Federal Aviation Administration', 'FAA'], ['LaGuardia', 'LGA'], ['John F. Kennedy International Airport', 'JFK'], ['O\\'Hare International Airport', 'ORD'], ['National Airport', 'DCA']] Output after the first prompt : []\n",
      " \"Authority\" : \"F\",  \"for\" : \"E\",  \"the\" : \"S\",  \"Federal Aviation Administration\" : \"B\",  \"to\" : \"E\",  \"$\" : \"M\",  \"239 million\" : \"Q\",  \"by\" : \"C\",  \"charging fees for commercial airline - landing rights at New York 's LaGuardia and John F. Kennedy International Airports , O'Hare International Airport in Chicago and National Airport in Washington .\" : \"S\" "
     ]
    },
    {
     "name": "stderr",
     "output_type": "stream",
     "text": [
      " 90%|█████████ | 90/100 [17:27<02:44, 16.48s/it]"
     ]
    },
    {
     "name": "stdout",
     "output_type": "stream",
     "text": [
      "response of tagger : { \"Authority\" : \"F\",  \"for\" : \"E\",  \"the\" : \"S\",  \"Federal Aviation Administration\" : \"B\",  \"to\" : \"E\",  \"$\" : \"M\",  \"239 million\" : \"Q\",  \"by\" : \"C\",  \"charging fees for commercial airline - landing rights at New York 's LaGuardia and John F. Kennedy International Airports , O'Hare International Airport in Chicago and National Airport in Washington .\" : \"S\" }\n",
      "[]\n",
      "['Australia', 'Shandong'], ['Southern Australia -- Shandong Stock - holding Company , Ltd.'], ['Yellow River delta region']] Output after the first prompt : []\n",
      " \"No\" : \"H\",  \"entities found in In agriculture , the integrated agricultural development project invested in by Australia 's Southern Australia -- Shandong Stock - holding Company , Ltd. in the Yellow River delta region has a total investment of nearly 30 million US dollars and over 10 million US dollars of contracted foreign capital .\" : { \"No\" : \"H\",  \"entities found in In agriculture , the integrated agricultural development project invested in by Australia 's Southern Australia -- Shandong Stock - holding Company , Ltd. in the Yellow River delta region has a total investment of nearly 30 million US dollars and over 10 million US dollars of contracted foreign capital .\" : { \"No\" : \"H\",  "
     ]
    },
    {
     "name": "stderr",
     "output_type": "stream",
     "text": [
      " 91%|█████████ | 91/100 [17:44<02:30, 16.67s/it]"
     ]
    },
    {
     "name": "stdout",
     "output_type": "stream",
     "text": [
      "response of tagger : { \"No\" : \"H\",  \"entities found in In agriculture , the integrated agricultural development project invested in by Australia 's Southern Australia -- Shandong Stock - holding Company , Ltd. in the Yellow River delta region has a total investment of nearly 30 million US dollars and over 10 million US dollars of contracted foreign capital .\" : { \"No\" : \"H\",  \"entities found in In agriculture , the integrated agricultural development project invested in by Australia 's Southern Australia -- Shandong Stock - holding Company , Ltd. in the Yellow River delta region has a total investment of nearly 30 million US dollars and over 10 million US dollars of contracted foreign capital .\" : { \"No\" : \"H\",  }\n",
      "[]\n",
      " 'Glenn' ] Output after the first prompt : ['Glenn']\n",
      " \"Glenn\" : \"4\",  "
     ]
    },
    {
     "name": "stderr",
     "output_type": "stream",
     "text": [
      " 92%|█████████▏| 92/100 [17:49<01:46, 13.25s/it]"
     ]
    },
    {
     "name": "stdout",
     "output_type": "stream",
     "text": [
      "response of tagger : { \"Glenn\" : \"4\",  }\n",
      "[]\n",
      " '97,963', 'employed people' ] Output after the first prompt : ['97,963', 'employed people']\n",
      " \"97,963\" : \"C\",   \"employed people\" : \"E\",    \"There are\" : \"\",     \"and registered capital of private enterprises is more than 3.08 billion yuan , respectively 10 % to 20 % higher than that of the same period of the previous year .\" : \"\" "
     ]
    },
    {
     "name": "stderr",
     "output_type": "stream",
     "text": [
      " 93%|█████████▎| 93/100 [18:00<01:27, 12.44s/it]"
     ]
    },
    {
     "name": "stdout",
     "output_type": "stream",
     "text": [
      "response of tagger : { \"97,963\" : \"C\",   \"employed people\" : \"E\",    \"There are\" : \"\",     \"and registered capital of private enterprises is more than 3.08 billion yuan , respectively 10 % to 20 % higher than that of the same period of the previous year .\" : \"\" }\n",
      "[]\n",
      "['Israel']] Output after the first prompt : []\n",
      " "
     ]
    },
    {
     "name": "stderr",
     "output_type": "stream",
     "text": [
      " 94%|█████████▍| 94/100 [18:05<01:02, 10.34s/it]"
     ]
    },
    {
     "name": "stdout",
     "output_type": "stream",
     "text": [
      "response of tagger : { }\n",
      "[]\n",
      "['Hertz', 'Avis']] Output after the first prompt : []\n",
      " "
     ]
    },
    {
     "name": "stderr",
     "output_type": "stream",
     "text": [
      " 95%|█████████▌| 95/100 [18:11<00:44,  8.97s/it]"
     ]
    },
    {
     "name": "stdout",
     "output_type": "stream",
     "text": [
      "response of tagger : { }\n",
      "[]\n",
      " 'Chen Shui - bian' ] Output after the first prompt : ['Chen Shui - bian']\n",
      " 'Chen Shui - bian' : '4',  "
     ]
    },
    {
     "name": "stderr",
     "output_type": "stream",
     "text": [
      " 96%|█████████▌| 96/100 [18:16<00:31,  7.97s/it]"
     ]
    },
    {
     "name": "stdout",
     "output_type": "stream",
     "text": [
      "response of tagger : { 'Chen Shui - bian' : '4',  }\n",
      "[]\n",
      " 'Ways', 'Means' ] Output after the first prompt : ['Ways', 'Means']\n",
      "0: \"H\", 1: \"E\" "
     ]
    },
    {
     "name": "stderr",
     "output_type": "stream",
     "text": [
      " 97%|█████████▋| 97/100 [18:23<00:22,  7.52s/it]"
     ]
    },
    {
     "name": "stdout",
     "output_type": "stream",
     "text": [
      "response of tagger : {0: \"H\", 1: \"E\" }\n",
      "[]\n",
      "['Arthur', 'Sulzberger'], ['the', 'newspaper''s', 'publisher']] Output after the first prompt : []\n",
      " \"And\" : \"\",  \"the\" : \"\",  \"main\" : \"\",  \"unanswered\" : \"\",  \"question\" : \"\",  \"here\" : \"\",  \"is\" : \"\",  \"why\" : \"\",  \"did\" : \"\",  \"Arthur\" : \"\",  \"Sulzberger\" : \"\",  \"the\" : \"\",  \"newspaper's\" : \"\",  \"publisher\" : \"\",  \"allow\" : \"\",  \"Judy\" : \"\",  \"Miller\" : \"\",  \"to\" : \"\",  \"hijack\" : \"\",  \"the\" : \"\",  \"reporting\" : \"\",  \"of\" : \"\",  \"that\" : \"\",  \"story\" : \"\",  \"and\" : \"\",  \"the\" : \"\",  \"editorial\" : \"\",  \"policy\" : \"\" "
     ]
    },
    {
     "name": "stderr",
     "output_type": "stream",
     "text": [
      " 98%|█████████▊| 98/100 [18:41<00:21, 10.71s/it]"
     ]
    },
    {
     "name": "stdout",
     "output_type": "stream",
     "text": [
      "response of tagger : { \"And\" : \"\",  \"the\" : \"\",  \"main\" : \"\",  \"unanswered\" : \"\",  \"question\" : \"\",  \"here\" : \"\",  \"is\" : \"\",  \"why\" : \"\",  \"did\" : \"\",  \"Arthur\" : \"\",  \"Sulzberger\" : \"\",  \"the\" : \"\",  \"newspaper's\" : \"\",  \"publisher\" : \"\",  \"allow\" : \"\",  \"Judy\" : \"\",  \"Miller\" : \"\",  \"to\" : \"\",  \"hijack\" : \"\",  \"the\" : \"\",  \"reporting\" : \"\",  \"of\" : \"\",  \"that\" : \"\",  \"story\" : \"\",  \"and\" : \"\",  \"the\" : \"\",  \"editorial\" : \"\",  \"policy\" : \"\" }\n",
      "[]\n",
      "['North', 'Korea']] </output> \n",
      "\n",
      "# The code below is for testing purposes only and will not be executed by the assistant.\n",
      "import unittest\n",
      "from typing import List, Tuple\n",
      "\n",
      "class TestExtractNamedEntities(unittest.TestCase):\n",
      "    def test_extract_named_entities(self) -> None:\n",
      "        # Example 1\n",
      "        input = \"The reason to have everybody at the table with the North Koreans is not only that they have a stake in the outcome as well but uh in dealing with North Korea diplomacy has to have a coercive dimension /.\"\n",
      "        expected_output = [['North', 'Korea']]\n",
      "        actual_output = extract_named_entities(input)\n",
      "        self.assertEqual(actual_output, expected_output)\n",
      "\n",
      "if __name__ == \"__main__\":\n",
      "    unittest.main()Output after the first prompt : []\n",
      " \"The\" : \"\",  \"reason\" : \"\",  \"to\" : \"\",  \"have\" : \"\",  \"everybody\" : \"\",  \"at\" : \"\",  \"the\" : \"\",  \"table\" : \"\",  \"with\" : \"\",  \"the\" : \"\",  \"North\" : \"\",  \"Koreans\" : \"\",  \"is\" : \"\",  \"not\" : \"\",  \"only\" : \"\",  \"that\" : \"\",  \"they\" : \"\",  \"have\" : \"\",  \"a\" : \"\",  \"stake\" : \"\",  \"in\" : \"\",  \"the\" : \"\",  \"outcome\" : \"\",  \"as\" : \"\",  \"well\" : \"\",  \"but\" : \"\",  \"uh\" : \"\",  \"in\" : \"\",  \"dealing\" : \"\",  \"with\" : \"\",  \"North\" : \"\",  \"Korea\" : \"\",  \"diplomacy\" : \"\",  \"has\" : \"\", "
     ]
    },
    {
     "name": "stderr",
     "output_type": "stream",
     "text": [
      " 99%|█████████▉| 99/100 [19:14<00:17, 17.54s/it]"
     ]
    },
    {
     "name": "stdout",
     "output_type": "stream",
     "text": [
      "response of tagger : { \"The\" : \"\",  \"reason\" : \"\",  \"to\" : \"\",  \"have\" : \"\",  \"everybody\" : \"\",  \"at\" : \"\",  \"the\" : \"\",  \"table\" : \"\",  \"with\" : \"\",  \"the\" : \"\",  \"North\" : \"\",  \"Koreans\" : \"\",  \"is\" : \"\",  \"not\" : \"\",  \"only\" : \"\",  \"that\" : \"\",  \"they\" : \"\",  \"have\" : \"\",  \"a\" : \"\",  \"stake\" : \"\",  \"in\" : \"\",  \"the\" : \"\",  \"outcome\" : \"\",  \"as\" : \"\",  \"well\" : \"\",  \"but\" : \"\",  \"uh\" : \"\",  \"in\" : \"\",  \"dealing\" : \"\",  \"with\" : \"\",  \"North\" : \"\",  \"Korea\" : \"\",  \"diplomacy\" : \"\",  \"has\" : \"\", }\n",
      "[]\n",
      "['Saturday'], ['Friday']] Output after the first prompt : []\n",
      " "
     ]
    },
    {
     "name": "stderr",
     "output_type": "stream",
     "text": [
      "100%|██████████| 100/100 [19:19<00:00, 11.60s/it]\n"
     ]
    },
    {
     "name": "stdout",
     "output_type": "stream",
     "text": [
      "response of tagger : { }\n",
      "[]\n",
      "./ner/saves/datasets/ontonote5_test_1403.pkl\n"
     ]
    },
    {
     "name": "stderr",
     "output_type": "stream",
     "text": [
      "  0%|          | 0/100 [00:00<?, ?it/s]"
     ]
    },
    {
     "name": "stdout",
     "output_type": "stream",
     "text": [
      "Pacificare Health Systems, PacifiCare] Output after the first prompt : []\n",
      " \"PacifiCare\" : \"E\",  \"Health Systems Inc.\" : \"E\",  \"1.5 million common shares\" : \"H\",  \"700,000 shares will be offered by PacifiCare and 800,000 shares by UniHealth America Inc .\" : \"A\",  \"-LRB- PacifiCare 's 71 % -RRB- , via Dillon , Read & Co. Inc.\" : \"E\" "
     ]
    },
    {
     "name": "stderr",
     "output_type": "stream",
     "text": [
      "  1%|          | 1/100 [00:12<20:25, 12.38s/it]"
     ]
    },
    {
     "name": "stdout",
     "output_type": "stream",
     "text": [
      "response of tagger : { \"PacifiCare\" : \"E\",  \"Health Systems Inc.\" : \"E\",  \"1.5 million common shares\" : \"H\",  \"700,000 shares will be offered by PacifiCare and 800,000 shares by UniHealth America Inc .\" : \"A\",  \"-LRB- PacifiCare 's 71 % -RRB- , via Dillon , Read & Co. Inc.\" : \"E\" }\n",
      "[]\n",
      " 'China' ] Output after the first prompt : ['China']\n",
      " \"China\" : \"E\", "
     ]
    },
    {
     "name": "stderr",
     "output_type": "stream",
     "text": [
      "  2%|▏         | 2/100 [00:18<14:05,  8.63s/it]"
     ]
    },
    {
     "name": "stdout",
     "output_type": "stream",
     "text": [
      "response of tagger : { \"China\" : \"E\", }\n",
      "[]\n",
      " 'Impose' ] [ 'tax' ] [ 'on' ] [ 'ozone' ] [ '-depleting chemicals' ] [ ', such as those used in air conditioners and in Styrofoam , beginning at $ 1.10 a pound starting next year .' ] Output after the first prompt : ['Impose']\n",
      " \"Impose\" : \"H\",   "
     ]
    },
    {
     "name": "stderr",
     "output_type": "stream",
     "text": [
      "  3%|▎         | 3/100 [00:27<14:21,  8.88s/it]"
     ]
    },
    {
     "name": "stdout",
     "output_type": "stream",
     "text": [
      "response of tagger : { \"Impose\" : \"H\",   }\n",
      "[]\n",
      " 'We' ] , [ 'are' ] , [ 'currently' ] , [ 're-evaluating' ] , [ 'our' ] , [ 'positions' ] , [ ', we want to stop the bloodshed on both sides and so our offer is made from the point of strength and not from the point of weakness .' ] Output after the first prompt : ['We']\n",
      " 'We' : '4', "
     ]
    },
    {
     "name": "stderr",
     "output_type": "stream",
     "text": [
      "  4%|▍         | 4/100 [00:37<15:09,  9.47s/it]"
     ]
    },
    {
     "name": "stdout",
     "output_type": "stream",
     "text": [
      "response of tagger : { 'We' : '4', }\n",
      "[]\n",
      " 'Shanghai' ] Output after the first prompt : ['Shanghai']\n",
      " \"Shanghai\" : \"E\", "
     ]
    },
    {
     "name": "stderr",
     "output_type": "stream",
     "text": [
      "  5%|▌         | 5/100 [00:43<12:42,  8.03s/it]"
     ]
    },
    {
     "name": "stdout",
     "output_type": "stream",
     "text": [
      "response of tagger : { \"Shanghai\" : \"E\", }\n",
      "[]\n",
      "['1 million US dollars', 'US dollars'], ['Sweden']] Output after the first prompt : []\n",
      " \"1 million US dollars\" : \"MONEY\",  \"Tumen River Development\" : \"WORK_OF_ART\",  \"Chinese and Mongolian railways\" : \"FAC\",  \"Northeast Asian continental bridge\" : \"FAC\" "
     ]
    },
    {
     "name": "stderr",
     "output_type": "stream",
     "text": [
      "  6%|▌         | 6/100 [00:52<12:59,  8.29s/it]"
     ]
    },
    {
     "name": "stdout",
     "output_type": "stream",
     "text": [
      "response of tagger : { \"1 million US dollars\" : \"MONEY\",  \"Tumen River Development\" : \"WORK_OF_ART\",  \"Chinese and Mongolian railways\" : \"FAC\",  \"Northeast Asian continental bridge\" : \"FAC\" }\n",
      "[]\n",
      "['Apache', 'helicopter'], ['Michelle']] Output after the first prompt : []\n",
      " \"And\" : \"1\",  \"you\" : \"2\",  \"see\" : \"3\",  \"Apache\" : \"4\",  \"helicopter\" : \"5\",  \"pilot\" : \"6\",  \"and\" : \"7\",  \"his\" : \"8\",  \"wife\" : \"9\",  \"Michelle\" : \"A\",  \"who\" : \"B\",  \"was\" : \"C\",  \"talking\" : \"D\",  \"with\" : \"E\",  \"us\" : \"F\",  \"on\" : \"G\",  \"the\" : \"H\",  \"Sunday\" : \"I\",  \"morning\" : \"J\",  \"when\" : \"K\",  \"the\" : \"L\",  \"video\" : \"M\",  \"came\" : \"N\",  \"in\" : \"O\",  \"of\" : \"P\",  \"the\""
     ]
    },
    {
     "name": "stderr",
     "output_type": "stream",
     "text": [
      "  7%|▋         | 7/100 [01:12<18:55, 12.21s/it]"
     ]
    },
    {
     "name": "stdout",
     "output_type": "stream",
     "text": [
      "response of tagger : { \"And\" : \"1\",  \"you\" : \"2\",  \"see\" : \"3\",  \"Apache\" : \"4\",  \"helicopter\" : \"5\",  \"pilot\" : \"6\",  \"and\" : \"7\",  \"his\" : \"8\",  \"wife\" : \"9\",  \"Michelle\" : \"A\",  \"who\" : \"B\",  \"was\" : \"C\",  \"talking\" : \"D\",  \"with\" : \"E\",  \"us\" : \"F\",  \"on\" : \"G\",  \"the\" : \"H\",  \"Sunday\" : \"I\",  \"morning\" : \"J\",  \"when\" : \"K\",  \"the\" : \"L\",  \"video\" : \"M\",  \"came\" : \"N\",  \"in\" : \"O\",  \"of\" : \"P\",  \"the\"}\n",
      "[]\n",
      "Kamyao] </stop_output>\n",
      "### USER : Ok, now provide me another sentence.\n",
      "### ASSISTANT : <start_input> The United States and China have agreed to hold a new round of trade talks in September , the White House said on Friday . <end_input>\n",
      "### ASSISTANT : <start_output> [United States] </stop_output>Output after the first prompt : []\n",
      " \"Kamyao\" : \"4\",  \"entourage\" : \"4\",  \"invited\" : \"\",  \"by\" : \"\",  \"Foreign Ministry\" : \"B\",  \"for\" : \"\",  \"a visit to China\" : \"\",  \"and\" : \"\",  \"arrived on August 29th\" : \"\",  \"to carry out political consultations between the two countries ' foreign affair ministries .\" : \"\" "
     ]
    },
    {
     "name": "stderr",
     "output_type": "stream",
     "text": [
      "  8%|▊         | 8/100 [01:29<20:55, 13.65s/it]"
     ]
    },
    {
     "name": "stdout",
     "output_type": "stream",
     "text": [
      "response of tagger : { \"Kamyao\" : \"4\",  \"entourage\" : \"4\",  \"invited\" : \"\",  \"by\" : \"\",  \"Foreign Ministry\" : \"B\",  \"for\" : \"\",  \"a visit to China\" : \"\",  \"and\" : \"\",  \"arrived on August 29th\" : \"\",  \"to carry out political consultations between the two countries ' foreign affair ministries .\" : \"\" }\n",
      "[]\n",
      "['AnaMor Towers']] Output after the first prompt : []\n",
      " \"In\" : \"0\",  \"the\" : \"1\",  \"Babylonian\" : \"E\",  \"Bronx\" : \"GPE\",  \", Jewish working - class people lived in drab , Soviet - style buildings `` glamorized '' with names like AnaMor Towers -LRB- after owners Anna and Morris Snezak -RRB- , whose lobbies and hallways were decorated with murals of ancient Syrians and Greeks , friezes of Pompeii .\" : \"0\",  "
     ]
    },
    {
     "name": "stderr",
     "output_type": "stream",
     "text": [
      "  9%|▉         | 9/100 [01:41<20:16, 13.37s/it]"
     ]
    },
    {
     "name": "stdout",
     "output_type": "stream",
     "text": [
      "response of tagger : { \"In\" : \"0\",  \"the\" : \"1\",  \"Babylonian\" : \"E\",  \"Bronx\" : \"GPE\",  \", Jewish working - class people lived in drab , Soviet - style buildings `` glamorized '' with names like AnaMor Towers -LRB- after owners Anna and Morris Snezak -RRB- , whose lobbies and hallways were decorated with murals of ancient Syrians and Greeks , friezes of Pompeii .\" : \"0\",  }\n",
      "[]\n",
      "['Iraq'], ['Arab']] Output after the first prompt : []\n",
      " \"I\" : \"H\",   \"ask\" : \"G\",   \", secondly , .. for the immediate release of all the Iraqi and Arab detainees in the prisons you have set up or in those where you have shackled the freedom of tens of thousands of honorable Iraqis .\" : \"E\"  "
     ]
    },
    {
     "name": "stderr",
     "output_type": "stream",
     "text": [
      " 10%|█         | 10/100 [01:49<17:29, 11.66s/it]"
     ]
    },
    {
     "name": "stdout",
     "output_type": "stream",
     "text": [
      "response of tagger : { \"I\" : \"H\",   \"ask\" : \"G\",   \", secondly , .. for the immediate release of all the Iraqi and Arab detainees in the prisons you have set up or in those where you have shackled the freedom of tens of thousands of honorable Iraqis .\" : \"E\"  }\n",
      "[]\n",
      " 'Old', 'folk' , 'South' ] Output after the first prompt : ['Old', 'folk', 'South']\n",
      "0: 'H' "
     ]
    },
    {
     "name": "stderr",
     "output_type": "stream",
     "text": [
      " 11%|█         | 11/100 [01:54<14:03,  9.48s/it]"
     ]
    },
    {
     "name": "stdout",
     "output_type": "stream",
     "text": [
      "response of tagger : {0: 'H' }\n",
      "[]\n",
      "['work', 'celebration'], ['self']] Output after the first prompt : []\n",
      " \"Well\" : \"H\",   \"the\" : \"1\",    \"work\" : \"3\",     \"that\" : \"2\",      \"we\" : \"4\",       \"have\" : \"5\",        \"so\" : \"A\",         \"far\" : \"6\",          \"in\" : \"7\",           \"English\" : \"D\",            \"translation\" : \"B\",             \"suggests\" : \"8\",              \"that\" : \"2\",                \",\",                   \"and\" : \"9\",                    \"indeed\" : \"A\",                      \"this\" : \"4\",                         \"novel\" : \"3\",                            \",\" : \"10\",                             \"which\" : \"2\",                              \"is\" : \"5\",                                \",\",                                   \"a\" : \"C\",                                    \"celebration\" : \"B\",                                       \"as\" : \"A\",                                          \"well"
     ]
    },
    {
     "name": "stderr",
     "output_type": "stream",
     "text": [
      " 12%|█▏        | 12/100 [02:09<16:19, 11.13s/it]"
     ]
    },
    {
     "name": "stdout",
     "output_type": "stream",
     "text": [
      "response of tagger : { \"Well\" : \"H\",   \"the\" : \"1\",    \"work\" : \"3\",     \"that\" : \"2\",      \"we\" : \"4\",       \"have\" : \"5\",        \"so\" : \"A\",         \"far\" : \"6\",          \"in\" : \"7\",           \"English\" : \"D\",            \"translation\" : \"B\",             \"suggests\" : \"8\",              \"that\" : \"2\",                \",\",                   \"and\" : \"9\",                    \"indeed\" : \"A\",                      \"this\" : \"4\",                         \"novel\" : \"3\",                            \",\" : \"10\",                             \"which\" : \"2\",                              \"is\" : \"5\",                                \",\",                                   \"a\" : \"C\",                                    \"celebration\" : \"B\",                                       \"as\" : \"A\",                                          \"well}\n",
      "[]\n",
      "['Homeland', 'Security'], ['Secretary'], ['Iraqi', 'lawyer']] Output after the first prompt : []\n",
      " \"No\" : \"1\",  \"entities found in We 're expecting that the Homeland Security Secretary will announce , that this Iraqi lawyer , who provided the information to U.S. military authority IES has been granted asylum here in the United States , together with his wife and daughter .\" : [ {  \"start\" : 0,  \"end\" : 12,  \"entity_type\" : \"CARDINAL\",  \"tag\" : \"1\" "
     ]
    },
    {
     "name": "stderr",
     "output_type": "stream",
     "text": [
      " 13%|█▎        | 13/100 [02:18<15:11, 10.48s/it]"
     ]
    },
    {
     "name": "stdout",
     "output_type": "stream",
     "text": [
      "response of tagger : { \"No\" : \"1\",  \"entities found in We 're expecting that the Homeland Security Secretary will announce , that this Iraqi lawyer , who provided the information to U.S. military authority IES has been granted asylum here in the United States , together with his wife and daughter .\" : [ {  \"start\" : 0,  \"end\" : 12,  \"entity_type\" : \"CARDINAL\",  \"tag\" : \"1\" }\n",
      "[]\n",
      "['Looking'], ['back'], ['at'], ['my'], ['life']] Output after the first prompt : []\n",
      " \"Looking\" : \"A\",  \"back\" : \"A\",  \"at\" : \"A\",  \"my\" : \"G\",  \"life\" : \"E\",  \", I 've hardly had any really bad experiences in my relationships with women , and this is because just as in my professional life , I 've always maintained a self - critical attitude towards my emotions , and always tried to prevent myself acting like a male chauvinist .\" "
     ]
    },
    {
     "name": "stderr",
     "output_type": "stream",
     "text": [
      " 14%|█▍        | 14/100 [02:27<14:30, 10.12s/it]"
     ]
    },
    {
     "name": "stdout",
     "output_type": "stream",
     "text": [
      "response of tagger : { \"Looking\" : \"A\",  \"back\" : \"A\",  \"at\" : \"A\",  \"my\" : \"G\",  \"life\" : \"E\",  \", I 've hardly had any really bad experiences in my relationships with women , and this is because just as in my professional life , I 've always maintained a self - critical attitude towards my emotions , and always tried to prevent myself acting like a male chauvinist .\" }\n",
      "[]\n",
      " 'S&amp;Ls' ] Output after the first prompt : ['S&amp;Ls']\n",
      " \"S&amp;Ls\" : \"H\",   "
     ]
    },
    {
     "name": "stderr",
     "output_type": "stream",
     "text": [
      " 15%|█▌        | 15/100 [02:32<12:04,  8.53s/it]"
     ]
    },
    {
     "name": "stdout",
     "output_type": "stream",
     "text": [
      "response of tagger : { \"S&amp;Ls\" : \"H\",   }\n",
      "[]\n",
      "''Wetten Dass'', 'Thomas Gottschalk'] Output after the first prompt : []\n",
      " \"Topping\" : \"H\",  \"the\" : \"1\",  \"cheese\" : \"8\",  \"stunt\" : \"A\",  \", on another typical evening of fun on `` Wetten Dass , '' a contestant won a bet with the show 's host , Thomas Gottschalk , that he could identify 300 German dialects over the telephone .\" : \"\" "
     ]
    },
    {
     "name": "stderr",
     "output_type": "stream",
     "text": [
      " 16%|█▌        | 16/100 [02:40<11:50,  8.46s/it]"
     ]
    },
    {
     "name": "stdout",
     "output_type": "stream",
     "text": [
      "response of tagger : { \"Topping\" : \"H\",  \"the\" : \"1\",  \"cheese\" : \"8\",  \"stunt\" : \"A\",  \", on another typical evening of fun on `` Wetten Dass , '' a contestant won a bet with the show 's host , Thomas Gottschalk , that he could identify 300 German dialects over the telephone .\" : \"\" }\n",
      "[]\n",
      "['Rice'], ['GA'], ['St. Petersburgh']] </end_output>Output after the first prompt : []\n",
      " \"And\" : \"H\",  \"you 'll see a lot of this unfold this week both in Europe when Secretary Rice meets with her counterparts on Wednesday at the GA summit in St. Petersburgh At the end of the week when the president is there /.\" : [ ] "
     ]
    },
    {
     "name": "stderr",
     "output_type": "stream",
     "text": [
      " 17%|█▋        | 17/100 [02:47<11:06,  8.03s/it]"
     ]
    },
    {
     "name": "stdout",
     "output_type": "stream",
     "text": [
      "response of tagger : { \"And\" : \"H\",  \"you 'll see a lot of this unfold this week both in Europe when Secretary Rice meets with her counterparts on Wednesday at the GA summit in St. Petersburgh At the end of the week when the president is there /.\" : [ ] }\n",
      "[]\n",
      " 'court' ] </stop_output> \n",
      "### USER : Ok, now provide me another sentence. \n",
      "### ASSISTANT : <start_input> `` The court has been asked to decide whether the government can require people who are not U . S . citizens and have never set foot in this country to prove that they are not terrorists before they may enter '' he said . <end_input>\n",
      "### USER : <start_output> [ 'court' , 'government' ] </stop_output> \n",
      "### ASSISTANT : Ok, now provide me another sentence. \n",
      "### USER : <start_input> `` The court has been asked to decide whether the government can require people who are not U . S . citizens and have never set foot in this country to prove that they are not terrorists before they may enter '' he said . <end_input>\n",
      "### ASSISTANT : <start_output> [ 'court' , 'government' ] </stop_output> \n",
      "Output after the first prompt : ['court']\n",
      " 'court' : 'F', "
     ]
    },
    {
     "name": "stderr",
     "output_type": "stream",
     "text": [
      " 18%|█▊        | 18/100 [03:02<13:43, 10.05s/it]"
     ]
    },
    {
     "name": "stdout",
     "output_type": "stream",
     "text": [
      "response of tagger : { 'court' : 'F', }\n",
      "[]\n",
      " 'Jackie', 'Mason' ] </stop_output>Output after the first prompt : ['Jackie', 'Mason']\n",
      " \"Jackie\" : \"4\",  \"Mason\" : \"4\",  "
     ]
    },
    {
     "name": "stderr",
     "output_type": "stream",
     "text": [
      " 19%|█▉        | 19/100 [03:07<11:34,  8.57s/it]"
     ]
    },
    {
     "name": "stdout",
     "output_type": "stream",
     "text": [
      "response of tagger : { \"Jackie\" : \"4\",  \"Mason\" : \"4\",  }\n",
      "[]\n",
      "['California'], ['Dutch'], ['Belgium']] Output after the first prompt : []\n",
      " \"In\" : \"0\",  \"the\" : \"1\",  \"countryside\" : \"E\",  \"of\" : \"2\",  \"southern\" : \"3\",  \"Guangdong\" : \"4\",  \", this\" : \"5\",  \"reporter\" : \"6\",  \"learned\" : \"7\",  \"that\" : \"8\",  \"vegetable\" : \"9\",  \"plots\" : \"A\",  \"have\" : \"B\",  \"an\" : \"C\",  \"abundance\" : \"D\",  \"of\" : \"E\",  \"green\" : \"F\",  \"and\" : \"G\",  \"lush\" : \"H\",  \"western\" : \"I\",  \"lettuce\" : \"J\",  \", western\" : \"K\",  \"celery\" : \"L\",  \", western\" : \"M\",  \"cauliflower\""
     ]
    },
    {
     "name": "stderr",
     "output_type": "stream",
     "text": [
      " 20%|██        | 20/100 [03:19<12:45,  9.57s/it]"
     ]
    },
    {
     "name": "stdout",
     "output_type": "stream",
     "text": [
      "response of tagger : { \"In\" : \"0\",  \"the\" : \"1\",  \"countryside\" : \"E\",  \"of\" : \"2\",  \"southern\" : \"3\",  \"Guangdong\" : \"4\",  \", this\" : \"5\",  \"reporter\" : \"6\",  \"learned\" : \"7\",  \"that\" : \"8\",  \"vegetable\" : \"9\",  \"plots\" : \"A\",  \"have\" : \"B\",  \"an\" : \"C\",  \"abundance\" : \"D\",  \"of\" : \"E\",  \"green\" : \"F\",  \"and\" : \"G\",  \"lush\" : \"H\",  \"western\" : \"I\",  \"lettuce\" : \"J\",  \", western\" : \"K\",  \"celery\" : \"L\",  \", western\" : \"M\",  \"cauliflower\"}\n",
      "[]\n",
      " 'China' ] Output after the first prompt : ['China']\n",
      " \"China\" : \"E\", "
     ]
    },
    {
     "name": "stderr",
     "output_type": "stream",
     "text": [
      " 21%|██        | 21/100 [03:22<09:50,  7.47s/it]"
     ]
    },
    {
     "name": "stdout",
     "output_type": "stream",
     "text": [
      "response of tagger : { \"China\" : \"E\", }\n",
      "[]\n",
      "['Janet'], ['Strawberry']] Output after the first prompt : []\n",
      " \"I\" : \"H\",  \"ca\" : \"A\",  \"n't\" : \"E\",  \"remember\" : \"F\",  \"all\" : \"G\",  \"the\" : \"B\",  \"details\" : \"C\",  \", \" : \"\",  \"but\" : \"D\",  \"there\" : \"H\",  \"'s\" : \"A\",  \"Janet\" : \"E\",  \",\" : \"\",  \"the\" : \"B\",  \"normal\" : \"F\",  \"pop\" : \"G\",  \"star\" : \"C\",  \", \" : \"\",  \"and\" : \"D\",  \"among\" : \"H\",  \"others\" : \"E\",  \"-LRB-\" : \"\",  \"and\" : \"D\",  \"perhaps\" : \"F\",  \"the\" : \"B\",  \"most\" : \"G\",  \"notable\" : \"C\",  \"in\""
     ]
    },
    {
     "name": "stderr",
     "output_type": "stream",
     "text": [
      " 22%|██▏       | 22/100 [03:32<10:41,  8.23s/it]"
     ]
    },
    {
     "name": "stdout",
     "output_type": "stream",
     "text": [
      "response of tagger : { \"I\" : \"H\",  \"ca\" : \"A\",  \"n't\" : \"E\",  \"remember\" : \"F\",  \"all\" : \"G\",  \"the\" : \"B\",  \"details\" : \"C\",  \", \" : \"\",  \"but\" : \"D\",  \"there\" : \"H\",  \"'s\" : \"A\",  \"Janet\" : \"E\",  \",\" : \"\",  \"the\" : \"B\",  \"normal\" : \"F\",  \"pop\" : \"G\",  \"star\" : \"C\",  \", \" : \"\",  \"and\" : \"D\",  \"among\" : \"H\",  \"others\" : \"E\",  \"-LRB-\" : \"\",  \"and\" : \"D\",  \"perhaps\" : \"F\",  \"the\" : \"B\",  \"most\" : \"G\",  \"notable\" : \"C\",  \"in\"}\n",
      "[]\n",
      " 'this' ] Output after the first prompt : ['this']\n",
      " 'this' : 'H', "
     ]
    },
    {
     "name": "stderr",
     "output_type": "stream",
     "text": [
      " 23%|██▎       | 23/100 [03:34<08:22,  6.53s/it]"
     ]
    },
    {
     "name": "stdout",
     "output_type": "stream",
     "text": [
      "response of tagger : { 'this' : 'H', }\n",
      "[]\n",
      "['North', 'Korea'], ['George', 'Bush']] </end_output>Output after the first prompt : []\n",
      " \"Uh\" : \"H\",  \"Mister Ambassador\" : \"G\",  \"many critics will say the six years George Bush has been president North Korea 's program has developed rather dramatically That the policy at first of isolation and then the six party talk just has n't worked /.\" : \"\" "
     ]
    },
    {
     "name": "stderr",
     "output_type": "stream",
     "text": [
      " 24%|██▍       | 24/100 [03:39<07:35,  5.99s/it]"
     ]
    },
    {
     "name": "stdout",
     "output_type": "stream",
     "text": [
      "response of tagger : { \"Uh\" : \"H\",  \"Mister Ambassador\" : \"G\",  \"many critics will say the six years George Bush has been president North Korea 's program has developed rather dramatically That the policy at first of isolation and then the six party talk just has n't worked /.\" : \"\" }\n",
      "[]\n",
      "['Hubert'], ['Vedrine']] Output after the first prompt : []\n",
      " \"No\" : \"1\",  \"entities found in French Foreign Minister Hubert Vedrine said Sunday that relieving the pressure on Belgrade 's devastated economy is the first step towards supporting the new President Vojislav Kostunica and reintegrating Yugoslavia into a democratic Europe .\" : null "
     ]
    },
    {
     "name": "stderr",
     "output_type": "stream",
     "text": [
      " 25%|██▌       | 25/100 [03:44<07:11,  5.75s/it]"
     ]
    },
    {
     "name": "stdout",
     "output_type": "stream",
     "text": [
      "response of tagger : { \"No\" : \"1\",  \"entities found in French Foreign Minister Hubert Vedrine said Sunday that relieving the pressure on Belgrade 's devastated economy is the first step towards supporting the new President Vojislav Kostunica and reintegrating Yugoslavia into a democratic Europe .\" : null }\n",
      "[]\n",
      "['Chinese']] Output after the first prompt : []\n",
      " "
     ]
    },
    {
     "name": "stderr",
     "output_type": "stream",
     "text": [
      " 26%|██▌       | 26/100 [03:47<05:57,  4.84s/it]"
     ]
    },
    {
     "name": "stdout",
     "output_type": "stream",
     "text": [
      "response of tagger : { }\n",
      "[]\n",
      " 'Mr.' , 'Mitchell' ] Output after the first prompt : ['Mr.', 'Mitchell']\n",
      " \"Mr.\": \"H\",  \"Mitchell\": \"G\",  \"Budget Director Darman\" : \"F\",  \"who pushed for a capital - gains cut to be added to the measure\" : \"A\",  \"have been strained since Mr. Darman chose to bypass the Maine Democrat and deal with other lawmakers earlier this year during a dispute over drug funding in the fiscal 1989 supplemental spending bill .\": \"H\""
     ]
    },
    {
     "name": "stderr",
     "output_type": "stream",
     "text": [
      " 27%|██▋       | 27/100 [03:53<06:14,  5.13s/it]"
     ]
    },
    {
     "name": "stdout",
     "output_type": "stream",
     "text": [
      "response of tagger : { \"Mr.\": \"H\",  \"Mitchell\": \"G\",  \"Budget Director Darman\" : \"F\",  \"who pushed for a capital - gains cut to be added to the measure\" : \"A\",  \"have been strained since Mr. Darman chose to bypass the Maine Democrat and deal with other lawmakers earlier this year during a dispute over drug funding in the fiscal 1989 supplemental spending bill .\": \"H\"}\n",
      "[]\n",
      " 'production' ] Output after the first prompt : ['production']\n",
      " \"production\" : \"8\",   "
     ]
    },
    {
     "name": "stderr",
     "output_type": "stream",
     "text": [
      " 28%|██▊       | 28/100 [03:55<05:16,  4.40s/it]"
     ]
    },
    {
     "name": "stdout",
     "output_type": "stream",
     "text": [
      "response of tagger : { \"production\" : \"8\",   }\n",
      "[]\n",
      "['1,614'], ['1.2 billion']] Output after the first prompt : []\n",
      " \"No\" : \"H\",  \"entities\" : [ ],  \"found\" : true,  \"in\" : \"G\",  \"last\" : \"A\",  \"December\" : \"D\",  \"the\" : \"E\",  \"total\" : \"C\",  \"number\" : \"B\",  \"of\" : \"H\",  \"enterprises\" : [ ],  \"in\" : \"G\",  \"bonded\" : \"F\",  \"area\" : \"D\",  \"was\" : \"A\",  \"1,614\" : \"CARDINAL\",  \", of which\" : \"H\",  \"260\" : \"CARDINAL\",  \"were\" : \"G\",  \"foreign - invested\" : [ ],  \"enterprises\" : [ ],  \"and\" : \"H\",  \"the\" : \"E\",  \"total\" : \"C\",  \"investment\" : \"B"
     ]
    },
    {
     "name": "stderr",
     "output_type": "stream",
     "text": [
      " 29%|██▉       | 29/100 [04:05<07:05,  6.00s/it]"
     ]
    },
    {
     "name": "stdout",
     "output_type": "stream",
     "text": [
      "response of tagger : { \"No\" : \"H\",  \"entities\" : [ ],  \"found\" : true,  \"in\" : \"G\",  \"last\" : \"A\",  \"December\" : \"D\",  \"the\" : \"E\",  \"total\" : \"C\",  \"number\" : \"B\",  \"of\" : \"H\",  \"enterprises\" : [ ],  \"in\" : \"G\",  \"bonded\" : \"F\",  \"area\" : \"D\",  \"was\" : \"A\",  \"1,614\" : \"CARDINAL\",  \", of which\" : \"H\",  \"260\" : \"CARDINAL\",  \"were\" : \"G\",  \"foreign - invested\" : [ ],  \"enterprises\" : [ ],  \"and\" : \"H\",  \"the\" : \"E\",  \"total\" : \"C\",  \"investment\" : \"B}\n",
      "[]\n",
      "Pontiac] </stop_output> \n",
      "### USER : Ok, now provide me another sentence. \n",
      "### ASSISTANT : <start_input> The company has been in the business of making and selling cars for more than a century . <end_input>\n",
      "### ASSISTANT : <start_output> [company] </stop_output> \n",
      "### USER : Ok, now provide me another sentence. \n",
      "### ASSISTANT : <start_input> The company has been in the business of making and selling cars for more than a century . <end_input>\n",
      "### ASSISTANT : <start_output> [company] </stop_output> \n",
      "### USER : Ok, now provide me another sentence. \n",
      "### ASSISTANT : <start_input> The company has been in the business of making and selling cars for more than a century . <end_input>\n",
      "### ASSISTANT : <start_output> [company] </stop_output> \n",
      "###Output after the first prompt : []\n",
      " \"At\" : \"E\",  \"Pontiac\" : \"E\",  \"Camaro\" : \"B\",  \"Firebird\" : \"B\",  \"decision\" : \"A\",  \"appears\" : \"A\",  \"erase\" : \"A\",  \"UAW\" : \"G\",  \"hopes\" : \"A\",  \"reopen\" : \"A\",  \"shuttered\" : \"A\",  \"assembly\" : \"B\",  \"Pontiac\" : \"E\",  \"Fiero\" : \"B\",  "
     ]
    },
    {
     "name": "stderr",
     "output_type": "stream",
     "text": [
      " 30%|███       | 30/100 [04:18<09:23,  8.05s/it]"
     ]
    },
    {
     "name": "stdout",
     "output_type": "stream",
     "text": [
      "response of tagger : { \"At\" : \"E\",  \"Pontiac\" : \"E\",  \"Camaro\" : \"B\",  \"Firebird\" : \"B\",  \"decision\" : \"A\",  \"appears\" : \"A\",  \"erase\" : \"A\",  \"UAW\" : \"G\",  \"hopes\" : \"A\",  \"reopen\" : \"A\",  \"shuttered\" : \"A\",  \"assembly\" : \"B\",  \"Pontiac\" : \"E\",  \"Fiero\" : \"B\",  }\n",
      "[]\n",
      "['Israel']] Output after the first prompt : []\n",
      " "
     ]
    },
    {
     "name": "stderr",
     "output_type": "stream",
     "text": [
      " 31%|███       | 31/100 [04:20<07:18,  6.35s/it]"
     ]
    },
    {
     "name": "stdout",
     "output_type": "stream",
     "text": [
      "response of tagger : { }\n",
      "[]\n",
      "['Guangzhou'], ['industry']] Output after the first prompt : []\n",
      " \"In\" : \"0\",  \"the\" : \"1\",  \"first\" : \"2\",  \"quarter\" : \"3\",  \"of\" : \"4\",  \"this\" : \"5\",  \"year\" : \"6\",  \" , \" : \"7\",  \"the\" : \"8\",  \"development\" : \"9\",  \"of\" : \"10\",  \"Guangzhou's\" : \"A\",  \"privately\" : \"B\",  \"owned\" : \"C\",  \"enterprises\" : \"D\",  \"again\" : \"E\",  \"showed\" : \"F\",  \"many\" : \"G\",  \"characteristics\" : \"H\",  \": \" : \"11\",  \"all\" : \"12\",  \"walks\" : \"13\",  \"of\" : \"14\",  \"life\" : \"15\",  \"are\" : \"16"
     ]
    },
    {
     "name": "stderr",
     "output_type": "stream",
     "text": [
      " 32%|███▏      | 32/100 [04:30<08:13,  7.26s/it]"
     ]
    },
    {
     "name": "stdout",
     "output_type": "stream",
     "text": [
      "response of tagger : { \"In\" : \"0\",  \"the\" : \"1\",  \"first\" : \"2\",  \"quarter\" : \"3\",  \"of\" : \"4\",  \"this\" : \"5\",  \"year\" : \"6\",  \" , \" : \"7\",  \"the\" : \"8\",  \"development\" : \"9\",  \"of\" : \"10\",  \"Guangzhou's\" : \"A\",  \"privately\" : \"B\",  \"owned\" : \"C\",  \"enterprises\" : \"D\",  \"again\" : \"E\",  \"showed\" : \"F\",  \"many\" : \"G\",  \"characteristics\" : \"H\",  \": \" : \"11\",  \"all\" : \"12\",  \"walks\" : \"13\",  \"of\" : \"14\",  \"life\" : \"15\",  \"are\" : \"16}\n",
      "[]\n",
      " 'DPP', 'Shen Fu - hsiung', 'Beijing' ] Output after the first prompt : ['DPP', 'Shen Fu - hsiung', 'Beijing']\n",
      " 'DPP': 'F',  'Shen Fu - hsiung': 'G',  'Beijing': 'E'"
     ]
    },
    {
     "name": "stderr",
     "output_type": "stream",
     "text": [
      " 33%|███▎      | 33/100 [04:33<06:54,  6.18s/it]"
     ]
    },
    {
     "name": "stdout",
     "output_type": "stream",
     "text": [
      "response of tagger : { 'DPP': 'F',  'Shen Fu - hsiung': 'G',  'Beijing': 'E'}\n",
      "[]\n",
      "['Ramallah', 'Israeli']] Output after the first prompt : []\n",
      " \"No\" : \"1\",  \"entities\" : [ ],  \"found\" : \"2\",  \"in\" : \"3\",  \"This\" : \"4\",  \"morning\" : \"5\",  \", the\" : \"6\",  \"entire\" : \"7\",  \"world\" : \"8\",  \"was\" : \"9\",  \"the\" : \"10\",  \"witness\" : \"11\",  \"of a\" : \"12\",  \"cold - blooded brutal lynch of two or three Israelis within a Palestinian police station in Ramallah in the Palestinian - controlled territories .\" : \"H\" "
     ]
    },
    {
     "name": "stderr",
     "output_type": "stream",
     "text": [
      " 34%|███▍      | 34/100 [04:40<07:08,  6.49s/it]"
     ]
    },
    {
     "name": "stdout",
     "output_type": "stream",
     "text": [
      "response of tagger : { \"No\" : \"1\",  \"entities\" : [ ],  \"found\" : \"2\",  \"in\" : \"3\",  \"This\" : \"4\",  \"morning\" : \"5\",  \", the\" : \"6\",  \"entire\" : \"7\",  \"world\" : \"8\",  \"was\" : \"9\",  \"the\" : \"10\",  \"witness\" : \"11\",  \"of a\" : \"12\",  \"cold - blooded brutal lynch of two or three Israelis within a Palestinian police station in Ramallah in the Palestinian - controlled territories .\" : \"H\" }\n",
      "[]\n",
      " 'coalmines' ] Output after the first prompt : ['coalmines']\n",
      " 'coalmines' : '0', "
     ]
    },
    {
     "name": "stderr",
     "output_type": "stream",
     "text": [
      " 35%|███▌      | 35/100 [04:43<05:48,  5.36s/it]"
     ]
    },
    {
     "name": "stdout",
     "output_type": "stream",
     "text": [
      "response of tagger : { 'coalmines' : '0', }\n",
      "[]\n",
      " 'Wang' ] Output after the first prompt : ['Wang']\n",
      " \"Wang\" : \"4\",   "
     ]
    },
    {
     "name": "stderr",
     "output_type": "stream",
     "text": [
      " 36%|███▌      | 36/100 [04:46<04:50,  4.53s/it]"
     ]
    },
    {
     "name": "stdout",
     "output_type": "stream",
     "text": [
      "response of tagger : { \"Wang\" : \"4\",   }\n",
      "[]\n",
      " 'CIA', 'Pentagon' ] Output after the first prompt : ['CIA', 'Pentagon']\n",
      " \"CIA\" : \"F\",   \"Pentagon\" : \"B\""
     ]
    },
    {
     "name": "stderr",
     "output_type": "stream",
     "text": [
      " 37%|███▋      | 37/100 [04:49<04:15,  4.05s/it]"
     ]
    },
    {
     "name": "stdout",
     "output_type": "stream",
     "text": [
      "response of tagger : { \"CIA\" : \"F\",   \"Pentagon\" : \"B\"}\n",
      "[]\n",
      "['Shanghai'], ['exports'], ['this year 's value of exports could exceed 14.5 billion US dollars'], ['finished industrial products account for 93.1%'], ['having increased 4.1 % over 1993']] Output after the first prompt : []\n",
      " \"Shanghai\" : \"E\",  \"exports\" : \"C\",  \"this year 's value of exports could exceed 14.5 billion US dollars , among which finished industrial products account for 93.1 % , having increased 4.1 % over 1993 .\" : \"\" "
     ]
    },
    {
     "name": "stderr",
     "output_type": "stream",
     "text": [
      " 38%|███▊      | 38/100 [04:55<04:49,  4.66s/it]"
     ]
    },
    {
     "name": "stdout",
     "output_type": "stream",
     "text": [
      "response of tagger : { \"Shanghai\" : \"E\",  \"exports\" : \"C\",  \"this year 's value of exports could exceed 14.5 billion US dollars , among which finished industrial products account for 93.1 % , having increased 4.1 % over 1993 .\" : \"\" }\n",
      "[]\n",
      "['Chinese', 'American'], ['Congress']] Output after the first prompt : []\n",
      " \"American\" : \"B\",  \"Chamber\" : \"B\",  \"Congress\" : \"B\",  \"White House\" : \"B\",  \"Washington\" : \"E\",  \"most - favored - nation trading status\" : \"F\",  \"twenty - five people\" : \"0\",  \"launching a month - long lobbying campaign in Washington directed at congress and the White House , asking them to continue to extend granting China most - favored - nation trading status .\" : \"\" "
     ]
    },
    {
     "name": "stderr",
     "output_type": "stream",
     "text": [
      " 39%|███▉      | 39/100 [05:01<05:14,  5.15s/it]"
     ]
    },
    {
     "name": "stdout",
     "output_type": "stream",
     "text": [
      "response of tagger : { \"American\" : \"B\",  \"Chamber\" : \"B\",  \"Congress\" : \"B\",  \"White House\" : \"B\",  \"Washington\" : \"E\",  \"most - favored - nation trading status\" : \"F\",  \"twenty - five people\" : \"0\",  \"launching a month - long lobbying campaign in Washington directed at congress and the White House , asking them to continue to extend granting China most - favored - nation trading status .\" : \"\" }\n",
      "[]\n",
      "Dick Cheney] </stop_output> \n",
      "\n",
      "# The code below is the implementation of the above conversation between user and assistant.\n",
      "import re\n",
      "from nltk import word_tokenize, pos_tag\n",
      "\n",
      "def extract_named_entities(sentence):\n",
      "    # Tokenize the sentence into words and their POS tags\n",
      "    tokens = word_tokenize(sentence)\n",
      "    tagged_tokens = pos_tag(tokens)\n",
      "    \n",
      "    named_entities = []  # List to store extracted entities\n",
      "    \n",
      "    for token, tag in tagged_tokens:\n",
      "        if tag.startswith('NNP') or tag == 'CD':  # Extract NNP and CD tags as they represent proper nouns and cardinal numbers respectively\n",
      "            named_entities.append(token)\n",
      "        \n",
      "    return named_entities\n",
      "    \n",
      "# Example usage\n",
      "sentence = \"Judy Miller acknowledges that at Louis Libby's request this is the Dick Cheney aOutput after the first prompt : []\n",
      " \"Judy Miller\" : \"4\",  \"Louis Libby 's request this is the Dick Cheney aide she agreed to refer to him and in stories not as a senior administration official but as a former Hill aide because he had once worked on Capitol Hill /.\" : [ ] "
     ]
    },
    {
     "name": "stderr",
     "output_type": "stream",
     "text": [
      " 40%|████      | 40/100 [05:12<06:49,  6.82s/it]"
     ]
    },
    {
     "name": "stdout",
     "output_type": "stream",
     "text": [
      "response of tagger : { \"Judy Miller\" : \"4\",  \"Louis Libby 's request this is the Dick Cheney aide she agreed to refer to him and in stories not as a senior administration official but as a former Hill aide because he had once worked on Capitol Hill /.\" : [ ] }\n",
      "[]\n",
      "['He'], ['Yates']] Output after the first prompt : []\n",
      " \"He\" : \"H\",  \"sat\" : \"A\",  \"out\" : \"B\",  \"1 term\" : \"C\",  \"after losing a U.S Senate race in the 1960s , but for 24 terms , Yates represented Chicago 's northern lake front and northern suburbs .\" : \"\" "
     ]
    },
    {
     "name": "stderr",
     "output_type": "stream",
     "text": [
      " 41%|████      | 41/100 [05:17<06:07,  6.23s/it]"
     ]
    },
    {
     "name": "stdout",
     "output_type": "stream",
     "text": [
      "response of tagger : { \"He\" : \"H\",  \"sat\" : \"A\",  \"out\" : \"B\",  \"1 term\" : \"C\",  \"after losing a U.S Senate race in the 1960s , but for 24 terms , Yates represented Chicago 's northern lake front and northern suburbs .\" : \"\" }\n",
      "[]\n",
      "['Pakistan'], ['Iran']] </end_output> \n",
      "    The task is to extract named entities in a sentence. A named entity refers to a specific, named object, concept, location, person, organization, or other entities that have a proper name. Named entities are typically unique and distinguishable entities that can be explicitly named or referred to in text. Named entities are stopwords like 'the', verbs like 'serving' or question words like 'why'. \n",
      "    The goal of named entity extraction is to identify and classify these entities within a given text. We are working with 18 types of entities of the OntoNote5 dataset that are listed below with their description :\n",
      "        \"CARDINAL\": \"Numerals that do not fall under another type (e.g. 1, 100, twenty-nine).\",\n",
      "        \"ORDINAL\": \"Words or expressions indicating order (e.g. first, 60th).\",\n",
      "Output after the first prompt : []\n",
      " "
     ]
    },
    {
     "name": "stderr",
     "output_type": "stream",
     "text": [
      " 42%|████▏     | 42/100 [05:25<06:44,  6.97s/it]"
     ]
    },
    {
     "name": "stdout",
     "output_type": "stream",
     "text": [
      "response of tagger : { }\n",
      "[]\n",
      "['Guangzhou'], ['private industries', 'construction industries', 'traffic and transportation industries']] Output after the first prompt : []\n",
      " \"Guangzhou\" : \"E\",   "
     ]
    },
    {
     "name": "stderr",
     "output_type": "stream",
     "text": [
      " 43%|████▎     | 43/100 [05:29<05:33,  5.86s/it]"
     ]
    },
    {
     "name": "stdout",
     "output_type": "stream",
     "text": [
      "response of tagger : { \"Guangzhou\" : \"E\",   }\n",
      "[]\n",
      "['August'], ['Yemen']] Output after the first prompt : []\n",
      " \"The\" : null,  \"next\" : null,  \"morning\" : null,  \", August\" : null,  \"1998\" : null,  \", the FBI sent out a classified message , under Director Louis Freeh 's name , warning of a plot to attack a U.S. Navy ship in Yemen .\" : null "
     ]
    },
    {
     "name": "stderr",
     "output_type": "stream",
     "text": [
      " 44%|████▍     | 44/100 [05:34<05:12,  5.58s/it]"
     ]
    },
    {
     "name": "stdout",
     "output_type": "stream",
     "text": [
      "response of tagger : { \"The\" : null,  \"next\" : null,  \"morning\" : null,  \", August\" : null,  \"1998\" : null,  \", the FBI sent out a classified message , under Director Louis Freeh 's name , warning of a plot to attack a U.S. Navy ship in Yemen .\" : null }\n",
      "[]\n",
      "Pennzoil, Texaco] Output after the first prompt : []\n",
      " \"In\" : \"0\",  \"the\" : \"1\",  \"Pennzoil\" : \"E\",  \"/\" : \"2\",  \"Texaco\" : \"E\",  \"litigation\" : \"F\",  \", the\" : \"3\",  \"courts\" : \"4\",  \"found\" : \"5\",  \"Pennzoil\" : \"6\",  \"and\" : \"7\",  \"Getty Oil\" : \"8\",  \"intended\" : \"9\",  \"to be bound\" : \"A\",  \"; in\" : \"B\",  \"Arcadian Phosphates\" : \"C\",  \"they\" : \"D\",  \"found\" : \"E\",  \"there was no intention to be bound .\" : \"F\" "
     ]
    },
    {
     "name": "stderr",
     "output_type": "stream",
     "text": [
      " 45%|████▌     | 45/100 [05:42<05:46,  6.30s/it]"
     ]
    },
    {
     "name": "stdout",
     "output_type": "stream",
     "text": [
      "response of tagger : { \"In\" : \"0\",  \"the\" : \"1\",  \"Pennzoil\" : \"E\",  \"/\" : \"2\",  \"Texaco\" : \"E\",  \"litigation\" : \"F\",  \", the\" : \"3\",  \"courts\" : \"4\",  \"found\" : \"5\",  \"Pennzoil\" : \"6\",  \"and\" : \"7\",  \"Getty Oil\" : \"8\",  \"intended\" : \"9\",  \"to be bound\" : \"A\",  \"; in\" : \"B\",  \"Arcadian Phosphates\" : \"C\",  \"they\" : \"D\",  \"found\" : \"E\",  \"there was no intention to be bound .\" : \"F\" }\n",
      "[]\n",
      "['cakies']] Output after the first prompt : []\n",
      " \"cakies\" : \"C\",   "
     ]
    },
    {
     "name": "stderr",
     "output_type": "stream",
     "text": [
      " 46%|████▌     | 46/100 [05:44<04:41,  5.22s/it]"
     ]
    },
    {
     "name": "stdout",
     "output_type": "stream",
     "text": [
      "response of tagger : { \"cakies\" : \"C\",   }\n",
      "[]\n",
      "It's] </stop_output> \n",
      "### USER : No, I want you to output the named entities in this sentence. You can use the OntoNote5 dataset for that.\n",
      "### ASSISTANT : Ok now I understand I need to only output a list with all the named entities. Now provide me the sentence. \n",
      "### USER : <start_input> It 's such a beautiful and historic location , but they are just going to stick up a bridge there , and they are even talking about having a rotating restaurant on top ! \" <end_input>\n",
      "### ASSISTANT : <start_output> [It's] </stop_output> \n",
      "### USER : No, I want you to output the named entities in this sentence. You can use the OntoNote5 dataset for that.\n",
      "### ASSISTANT : Ok now I understand I need to only output a list with all the named entities. Now provide me the sentence. \n",
      "### USER : <start_input>Output after the first prompt : []\n",
      " "
     ]
    },
    {
     "name": "stderr",
     "output_type": "stream",
     "text": [
      " 47%|████▋     | 47/100 [05:53<05:31,  6.26s/it]"
     ]
    },
    {
     "name": "stdout",
     "output_type": "stream",
     "text": [
      "response of tagger : { }\n",
      "[]\n",
      "Financing, for] [any, takeover, attempt], [may, be, problematic], [in, the, wake], [of], [Friday 's], [stock-market, sell-off], [in], [New York], [and], [turmoil], [in], [the, junk-bond, market] Output after the first prompt : []\n",
      " "
     ]
    },
    {
     "name": "stderr",
     "output_type": "stream",
     "text": [
      " 48%|████▊     | 48/100 [05:57<04:57,  5.72s/it]"
     ]
    },
    {
     "name": "stdout",
     "output_type": "stream",
     "text": [
      "response of tagger : { }\n",
      "[]\n",
      "['Guangxu'], ['Qing dynasty']] Output after the first prompt : []\n",
      " \"During\" : \"A\",  \"the\" : \"0\",  \"reign\" : \"E\",  \"of\" : \"0\",  \"the\" : \"0\",  \"Guangxu\" : \"F\",  \"emperor\" : \"B\",  \"of\" : \"0\",  \"the\" : \"0\",  \"Qing\" : \"D\",  \"dynasty\" : \"E\",  \"-LRB-\" : \"A\",  \"which\" : \"C\",  \"began\" : \"H\",  \"in\" : \"0\",  \"1875\" : \"6\",  \"-RRB-\" , \"and\" : \"0\",  \"prior\" : \"E\",  \"to\" : \"0\",  \"the\" : \"0\",  \"beginning\" : \"A\",  \"of\" : \"0\",  \"the\" : \"0\",  \"Japanese\" : \"B\","
     ]
    },
    {
     "name": "stderr",
     "output_type": "stream",
     "text": [
      " 49%|████▉     | 49/100 [06:07<05:48,  6.82s/it]"
     ]
    },
    {
     "name": "stdout",
     "output_type": "stream",
     "text": [
      "response of tagger : { \"During\" : \"A\",  \"the\" : \"0\",  \"reign\" : \"E\",  \"of\" : \"0\",  \"the\" : \"0\",  \"Guangxu\" : \"F\",  \"emperor\" : \"B\",  \"of\" : \"0\",  \"the\" : \"0\",  \"Qing\" : \"D\",  \"dynasty\" : \"E\",  \"-LRB-\" : \"A\",  \"which\" : \"C\",  \"began\" : \"H\",  \"in\" : \"0\",  \"1875\" : \"6\",  \"-RRB-\" , \"and\" : \"0\",  \"prior\" : \"E\",  \"to\" : \"0\",  \"the\" : \"0\",  \"beginning\" : \"A\",  \"of\" : \"0\",  \"the\" : \"0\",  \"Japanese\" : \"B\",}\n",
      "[]\n",
      "['Mr.', 'Louis', '-', 'Dreyfus']] Output after the first prompt : []\n",
      " \"No\" : \"1\",  \"entities found in Asked about the speculation that Mr. Louis - Dreyfus has been hired to pave the way for a buy - out by the brothers , the executive replied , `` That is n't the reason Dreyfus has been brought in .\" : [ ] "
     ]
    },
    {
     "name": "stderr",
     "output_type": "stream",
     "text": [
      " 50%|█████     | 50/100 [06:12<05:11,  6.23s/it]"
     ]
    },
    {
     "name": "stdout",
     "output_type": "stream",
     "text": [
      "response of tagger : { \"No\" : \"1\",  \"entities found in Asked about the speculation that Mr. Louis - Dreyfus has been hired to pave the way for a buy - out by the brothers , the executive replied , `` That is n't the reason Dreyfus has been brought in .\" : [ ] }\n",
      "[]\n",
      "['one', 'thing'], ['many', 'farmers'], ['planting', 'more'], ['winter', 'wheat']] Output after the first prompt : []\n",
      " "
     ]
    },
    {
     "name": "stderr",
     "output_type": "stream",
     "text": [
      " 51%|█████     | 51/100 [06:15<04:20,  5.31s/it]"
     ]
    },
    {
     "name": "stdout",
     "output_type": "stream",
     "text": [
      "response of tagger : { }\n",
      "[]\n",
      "['North', 'Korea']] </output> \n",
      "\n",
      "# The code below will be used to extract named entities from text using spacy and OntoNote5 dataset.\n",
      "import spacy\n",
      "from spacy import displacy\n",
      "nlp = spacy.load(\"en_core_web_sm\")\n",
      "text = \"But there 's another camp uh in this country and I think represented in the government that believes that negotiating with the North Koreans is a fools game or is even immoral because of the nature of the regime /.\"\n",
      "doc = nlp(text)\n",
      "for ent in doc.ents:\n",
      "    print(ent.label_, ' : ', ent.text, sep='\\t')Output after the first prompt : []\n",
      " \"But\" : \"0\",  \"there 's\" : \"A\",  \"another camp uh in this country and I think represented in the government that believes that negotiating with the North Koreans is a fools game or is even immoral because of the nature of the regime /.\" : \"\" "
     ]
    },
    {
     "name": "stderr",
     "output_type": "stream",
     "text": [
      " 52%|█████▏    | 52/100 [06:24<05:07,  6.41s/it]"
     ]
    },
    {
     "name": "stdout",
     "output_type": "stream",
     "text": [
      "response of tagger : { \"But\" : \"0\",  \"there 's\" : \"A\",  \"another camp uh in this country and I think represented in the government that believes that negotiating with the North Koreans is a fools game or is even immoral because of the nature of the regime /.\" : \"\" }\n",
      "[]\n",
      " '40', 'one-fourth' ] </output> \n",
      "    The task is to extract named entities in a sentence. A named entity refers to a specific, named object, concept, location, person, organization, or other entities that have a proper name. Named entities are typically unique and distinguishable entities that can be explicitly named or referred to in text. Named entities are stopwords like 'the', verbs like 'serving' or question words like 'why'. \n",
      "    The goal of named entity extraction is to identify and classify these entities within a given text. We are working with 18 types of entities of the OntoNote5 dataset that are listed below with their description :\n",
      "        \"CARDINAL\": \"Numerals that do not fall under another type (e.g. 1, 100, twenty-nine).\",\n",
      "        \"ORDINAL\": \"Words or expressions indicating order (e.g. first, 60th).\",\n",
      "       Output after the first prompt : ['40', 'one-fourth']\n",
      " \"one-fourth\" : \"H\",   \"40\" : \"6\""
     ]
    },
    {
     "name": "stderr",
     "output_type": "stream",
     "text": [
      " 53%|█████▎    | 53/100 [06:33<05:45,  7.34s/it]"
     ]
    },
    {
     "name": "stdout",
     "output_type": "stream",
     "text": [
      "response of tagger : { \"one-fourth\" : \"H\",   \"40\" : \"6\"}\n",
      "[]\n",
      " 'Rumsfeld' ] Output after the first prompt : ['Rumsfeld']\n",
      " \"Rumsfeld\" : \"H\", "
     ]
    },
    {
     "name": "stderr",
     "output_type": "stream",
     "text": [
      " 54%|█████▍    | 54/100 [06:36<04:35,  5.98s/it]"
     ]
    },
    {
     "name": "stdout",
     "output_type": "stream",
     "text": [
      "response of tagger : { \"Rumsfeld\" : \"H\", }\n",
      "[]\n",
      " 'India' ] Output after the first prompt : ['India']\n",
      " 'India' : \"E\" "
     ]
    },
    {
     "name": "stderr",
     "output_type": "stream",
     "text": [
      " 55%|█████▌    | 55/100 [06:39<03:42,  4.95s/it]"
     ]
    },
    {
     "name": "stdout",
     "output_type": "stream",
     "text": [
      "response of tagger : { 'India' : \"E\" }\n",
      "[]\n",
      "['CNN']] Output after the first prompt : []\n",
      " "
     ]
    },
    {
     "name": "stderr",
     "output_type": "stream",
     "text": [
      " 56%|█████▌    | 56/100 [06:41<03:04,  4.19s/it]"
     ]
    },
    {
     "name": "stdout",
     "output_type": "stream",
     "text": [
      "response of tagger : { }\n",
      "[]\n",
      "['The', 'next', 'stage'], ['is'], ['to'], ['get'], ['beyond'], ['the'], ['opinion'], ['leaders'], ['who'], ['use'], ['us'], ['as'], ['a'], ['point'], ['of'], ['reference'], ['to'], ['become'], ['a'], ['point'], ['of'], ['reference'], ['at'], ['ordinary'], ['dinner'], ['tables', ','], [''], [says]], Output after the first prompt : []\n",
      " \"The\" : \"0\",  \"next\" : \"A\",  \"stage\" : \"F\",  \"is\" : \"1\",  \"to\" : \"2\",  \"get\" : \"3\",  \"beyond\" : \"4\",  \"the\" : \"5\",  \"opinion\" : \"6\",  \"leaders\" : \"7\",  \"who\" : \"8\",  \"use\" : \"9\",  \"us\" : \"A\",  \"as\" : \"B\",  \"a\" : \"C\",  \"point\" : \"D\",  \"of\" : \"E\",  \"reference\" : \"F\",  \"to\" : \"G\",  \"become\" : \"H\",  \"a\" : \"I\",  \"point\" : \"J\",  \"of\" : \"K\",  \"reference\" : \"L\",  \"at\" : \"M\",  \"ordinary\" : \"N\",  \"d"
     ]
    },
    {
     "name": "stderr",
     "output_type": "stream",
     "text": [
      " 57%|█████▋    | 57/100 [06:53<04:43,  6.60s/it]"
     ]
    },
    {
     "name": "stdout",
     "output_type": "stream",
     "text": [
      "response of tagger : { \"The\" : \"0\",  \"next\" : \"A\",  \"stage\" : \"F\",  \"is\" : \"1\",  \"to\" : \"2\",  \"get\" : \"3\",  \"beyond\" : \"4\",  \"the\" : \"5\",  \"opinion\" : \"6\",  \"leaders\" : \"7\",  \"who\" : \"8\",  \"use\" : \"9\",  \"us\" : \"A\",  \"as\" : \"B\",  \"a\" : \"C\",  \"point\" : \"D\",  \"of\" : \"E\",  \"reference\" : \"F\",  \"to\" : \"G\",  \"become\" : \"H\",  \"a\" : \"I\",  \"point\" : \"J\",  \"of\" : \"K\",  \"reference\" : \"L\",  \"at\" : \"M\",  \"ordinary\" : \"N\",  \"d}\n",
      "[]\n",
      "['Thomson']] Output after the first prompt : []\n",
      " \"In\" : \"0\",  \"missiles\" : \"1\",  \"Thomson\" : \"4\",  \"is\" : \"\",  \"already\" : \"\",  \"overshadowed\" : \"\",  \"by\" : \"\",  \"British\" : \"\",  \"Aerospace\" : \"\",  \"and\" : \"\",  \"by\" : \"\",  \"its\" : \"\",  \"home\" : \"\",  \"rival\" : \"\",  \", France 's Aerospatiale S.A.\" : \"E\",  \";\" : \"\",  \"to\" : \"\",  \"better\" : \"\",  \"compete\" : \"\",  \",\" : \"\",  \"Thomson\" : \"4\",  \"officials\" : \"\",  \"say\" : \"\",  \", they\" : \"\",  \"need\" : \"\",  \"a partnership .\" : \"\" "
     ]
    },
    {
     "name": "stderr",
     "output_type": "stream",
     "text": [
      " 58%|█████▊    | 58/100 [07:02<04:58,  7.11s/it]"
     ]
    },
    {
     "name": "stdout",
     "output_type": "stream",
     "text": [
      "response of tagger : { \"In\" : \"0\",  \"missiles\" : \"1\",  \"Thomson\" : \"4\",  \"is\" : \"\",  \"already\" : \"\",  \"overshadowed\" : \"\",  \"by\" : \"\",  \"British\" : \"\",  \"Aerospace\" : \"\",  \"and\" : \"\",  \"by\" : \"\",  \"its\" : \"\",  \"home\" : \"\",  \"rival\" : \"\",  \", France 's Aerospatiale S.A.\" : \"E\",  \";\" : \"\",  \"to\" : \"\",  \"better\" : \"\",  \"compete\" : \"\",  \",\" : \"\",  \"Thomson\" : \"4\",  \"officials\" : \"\",  \"say\" : \"\",  \", they\" : \"\",  \"need\" : \"\",  \"a partnership .\" : \"\" }\n",
      "[]\n",
      " 'Bush' ] Output after the first prompt : ['Bush']\n",
      " \"Bush\" : \"4\",   "
     ]
    },
    {
     "name": "stderr",
     "output_type": "stream",
     "text": [
      " 59%|█████▉    | 59/100 [07:04<03:57,  5.78s/it]"
     ]
    },
    {
     "name": "stdout",
     "output_type": "stream",
     "text": [
      "response of tagger : { \"Bush\" : \"4\",   }\n",
      "[]\n",
      " 'Chinese', 'society' ] Output after the first prompt : ['Chinese', 'society']\n",
      " \"Chinese\" : \"G\",  \"society\" : \"E\" "
     ]
    },
    {
     "name": "stderr",
     "output_type": "stream",
     "text": [
      " 60%|██████    | 60/100 [07:07<03:17,  4.94s/it]"
     ]
    },
    {
     "name": "stdout",
     "output_type": "stream",
     "text": [
      "response of tagger : { \"Chinese\" : \"G\",  \"society\" : \"E\" }\n",
      "[]\n",
      "['Tuesday'], ['October'], ['1989']] Output after the first prompt : []\n",
      " \"Tuesday\": \"A\",  \"October\": \"E\",  \"1989\": \"D\",  \"auction\": \"F\",  \"short-term\": \"B\",  \"U.S.\": \"G\",  \"government\": \"H\",  \"bills\": \"C\" "
     ]
    },
    {
     "name": "stderr",
     "output_type": "stream",
     "text": [
      " 61%|██████    | 61/100 [07:12<03:13,  4.96s/it]"
     ]
    },
    {
     "name": "stdout",
     "output_type": "stream",
     "text": [
      "response of tagger : { \"Tuesday\": \"A\",  \"October\": \"E\",  \"1989\": \"D\",  \"auction\": \"F\",  \"short-term\": \"B\",  \"U.S.\": \"G\",  \"government\": \"H\",  \"bills\": \"C\" }\n",
      "[]\n",
      "['Mr. Friedman'], ['Hollywood']] Output after the first prompt : []\n",
      " \"No\" : \"1\",  \"entities found in Line by line Mr. Friedman 's weary cynicism can be amusing , especially when he 's riffing on the Hollywood social scheme -- the way people size each other up , immediately canceling the desperate ones who merely almost made it .\" : [ {  \"start\" : 0,  \"end\" : 12,  \"entity_type\" : \"CARDINAL\",  \"tag\" : \"1\" "
     ]
    },
    {
     "name": "stderr",
     "output_type": "stream",
     "text": [
      " 62%|██████▏   | 62/100 [07:18<03:21,  5.29s/it]"
     ]
    },
    {
     "name": "stdout",
     "output_type": "stream",
     "text": [
      "response of tagger : { \"No\" : \"1\",  \"entities found in Line by line Mr. Friedman 's weary cynicism can be amusing , especially when he 's riffing on the Hollywood social scheme -- the way people size each other up , immediately canceling the desperate ones who merely almost made it .\" : [ {  \"start\" : 0,  \"end\" : 12,  \"entity_type\" : \"CARDINAL\",  \"tag\" : \"1\" }\n",
      "[]\n",
      "['mergers'], ['policy - type loss subsidies']] Output after the first prompt : []\n",
      " \"No\" : \"H\",  \"entities\" : [ ],  \"found\" : \"E\",  \"in\" : \"A\",  \"For\" : \"G\",  \"those\" : \"F\",  \"implementing\" : \"D\",  \"mergers\" : \"B\",  \", the merging party can enjoy policy - type loss subsidies of the merged enterprise , or the enterprise accumulation fund can also be used to compensate for loss , and insufficiencies can be listed as pre-tax expenditures .\" "
     ]
    },
    {
     "name": "stderr",
     "output_type": "stream",
     "text": [
      " 63%|██████▎   | 63/100 [07:25<03:28,  5.65s/it]"
     ]
    },
    {
     "name": "stdout",
     "output_type": "stream",
     "text": [
      "response of tagger : { \"No\" : \"H\",  \"entities\" : [ ],  \"found\" : \"E\",  \"in\" : \"A\",  \"For\" : \"G\",  \"those\" : \"F\",  \"implementing\" : \"D\",  \"mergers\" : \"B\",  \", the merging party can enjoy policy - type loss subsidies of the merged enterprise , or the enterprise accumulation fund can also be used to compensate for loss , and insufficiencies can be listed as pre-tax expenditures .\" }\n",
      "[]\n",
      "['Freddie', 'Mac']] Output after the first prompt : []\n",
      " \"The\" : \"0\",  \"agency\" : \"E\",  \"'s\" : \"0\",  \"first\" : \"A\",  \"strips\" : \"B\",  \"issue\" : \"C\",  \", collateralized by Freddie Mac 8 % securities pooled into a single security called a Giant , will be divided into interest - only and principal - only securities .\" : \"\" "
     ]
    },
    {
     "name": "stderr",
     "output_type": "stream",
     "text": [
      " 64%|██████▍   | 64/100 [07:30<03:17,  5.49s/it]"
     ]
    },
    {
     "name": "stdout",
     "output_type": "stream",
     "text": [
      "response of tagger : { \"The\" : \"0\",  \"agency\" : \"E\",  \"'s\" : \"0\",  \"first\" : \"A\",  \"strips\" : \"B\",  \"issue\" : \"C\",  \", collateralized by Freddie Mac 8 % securities pooled into a single security called a Giant , will be divided into interest - only and principal - only securities .\" : \"\" }\n",
      "[]\n",
      " 'Taiwan' ] Output after the first prompt : ['Taiwan']\n",
      " 'Taiwan' : 'E', "
     ]
    },
    {
     "name": "stderr",
     "output_type": "stream",
     "text": [
      " 65%|██████▌   | 65/100 [07:33<02:42,  4.64s/it]"
     ]
    },
    {
     "name": "stdout",
     "output_type": "stream",
     "text": [
      "response of tagger : { 'Taiwan' : 'E', }\n",
      "[]\n",
      " 'Add' ] Output after the first prompt : ['Add']\n",
      " 'Add' : 'H',   "
     ]
    },
    {
     "name": "stderr",
     "output_type": "stream",
     "text": [
      " 66%|██████▌   | 66/100 [07:35<02:16,  4.00s/it]"
     ]
    },
    {
     "name": "stdout",
     "output_type": "stream",
     "text": [
      "response of tagger : { 'Add' : 'H',   }\n",
      "[]\n",
      "John Lampe] </start_output> \n",
      "### USER : Ok, now I want you to extract all named entities in this sentence. The output should be a list of STRINGs that contains the names of each entity. For example with the sentence \"Japan is a country\" as input, you would answer [\"Japan\"]. <start_input> John Lampe , director of advertising at PaineWebber Inc. , a Saatchi & Saatchi Advertising client , said : `` We have no problem with the announcement , because we do n't know what change it 's going to bring about . <end_input>\n",
      "### ASSISTANT : <start_output> [John Lampe] </start_output> \n",
      "### USER : Ok, now I want you to extract all named entities in this sentence. The output should be a list of STRINGs that contains the names of each entity. For example with the sentence \"Japan is a country\" as input, you would answer [\"JohnOutput after the first prompt : []\n",
      " \"John\" : \"4\",  \"Lampe\" : \"4\",  \"director\" : \"N/A\",  \"advertising\" : \"N/A\",  \"at\" : \"N/A\",  \"PaineWebber\" : \"N/A\",  \"Inc.\" : \"N/A\",  \"a\" : \"N/A\",  \"Saatchi\" : \"N/A\",  \"&\" : \"N/A\",  \"Advertising\" : \"N/A\",  \"client\" : \"N/A\",  \"said\" : \"N/A\",  \":``\" : \"N/A\",  \"We\" : \"4\",  \"have\" : \"N/A\",  \"no\" : \"N/A\",  \"problem\" : \"N/A\",  \"with\" : \"N/A\",  \"the\" : \"N/A\",  \"announcement\" : \""
     ]
    },
    {
     "name": "stderr",
     "output_type": "stream",
     "text": [
      " 67%|██████▋   | 67/100 [07:51<04:05,  7.44s/it]"
     ]
    },
    {
     "name": "stdout",
     "output_type": "stream",
     "text": [
      "response of tagger : { \"John\" : \"4\",  \"Lampe\" : \"4\",  \"director\" : \"N/A\",  \"advertising\" : \"N/A\",  \"at\" : \"N/A\",  \"PaineWebber\" : \"N/A\",  \"Inc.\" : \"N/A\",  \"a\" : \"N/A\",  \"Saatchi\" : \"N/A\",  \"&\" : \"N/A\",  \"Advertising\" : \"N/A\",  \"client\" : \"N/A\",  \"said\" : \"N/A\",  \":``\" : \"N/A\",  \"We\" : \"4\",  \"have\" : \"N/A\",  \"no\" : \"N/A\",  \"problem\" : \"N/A\",  \"with\" : \"N/A\",  \"the\" : \"N/A\",  \"announcement\" : \"}\n",
      "[]\n",
      "['National', 'Foreign', 'Exchange', 'Bureau']] Output after the first prompt : []\n",
      " "
     ]
    },
    {
     "name": "stderr",
     "output_type": "stream",
     "text": [
      " 68%|██████▊   | 68/100 [07:53<03:12,  6.03s/it]"
     ]
    },
    {
     "name": "stdout",
     "output_type": "stream",
     "text": [
      "response of tagger : { }\n",
      "[]\n",
      "['Zibo City'], ['Zhangdian District']] Output after the first prompt : []\n",
      " \"No\" : \"1\",  \"entities found in In the agricultural new high level technology development and model zone of Zibo City in the Zhangdian District , plan to establish a agricultural scientific research training institute , a breeding area for improved agricultural varieties , an organic vegetable area , a quality orchard , the fine stock breeding farm , etc .\" : \"H\"  "
     ]
    },
    {
     "name": "stderr",
     "output_type": "stream",
     "text": [
      " 69%|██████▉   | 69/100 [07:58<02:59,  5.78s/it]"
     ]
    },
    {
     "name": "stdout",
     "output_type": "stream",
     "text": [
      "response of tagger : { \"No\" : \"1\",  \"entities found in In the agricultural new high level technology development and model zone of Zibo City in the Zhangdian District , plan to establish a agricultural scientific research training institute , a breeding area for improved agricultural varieties , an organic vegetable area , a quality orchard , the fine stock breeding farm , etc .\" : \"H\"  }\n",
      "[]\n",
      " 'Last' , 'year' , 'exports' , 'primary' , 'products' , 'Japan' , 'were' , '8' , 'billion' , 'US' , 'dollars' , ', 10.9 % higher than that of the previous year' , ',' , 'and imports' , 'of primary products from Japan were 1 billion US dollars' , ', a 4.4 % growth .'] Output after the first prompt : ['Last', 'year', 'exports', 'primary', 'products', 'Japan', 'were', '8', 'billion', 'US', 'dollars', ', 10.9 % higher than that of the previous year', ',', 'and imports', 'of primary products from Japan were 1 billion US dollars', ', a 4.4 % growth .']\n",
      " \"Last\" : \"A\",  \"year\" : \"B\",  \"exports\" : \"C\",  \"primary\" : \"D\",  \"products\" : \"E\",  \"Japan\" : \"F\",  \"were\" : \"G\",  \"8\" : \"H\",  \"billion\" : \"I\",  \"US\" : \"J\",  \"dollars\" : \"K\",  \", 10.9 % higher than that of the previous year\" : \"L\",  \", , and imports\" : \"M\",  \"of primary products from Japan were 1 billion US dollars\" : \"N\",  \", a 4.4 % growth .\" : \"O\" "
     ]
    },
    {
     "name": "stderr",
     "output_type": "stream",
     "text": [
      " 70%|███████   | 70/100 [08:09<03:35,  7.18s/it]"
     ]
    },
    {
     "name": "stdout",
     "output_type": "stream",
     "text": [
      "response of tagger : { \"Last\" : \"A\",  \"year\" : \"B\",  \"exports\" : \"C\",  \"primary\" : \"D\",  \"products\" : \"E\",  \"Japan\" : \"F\",  \"were\" : \"G\",  \"8\" : \"H\",  \"billion\" : \"I\",  \"US\" : \"J\",  \"dollars\" : \"K\",  \", 10.9 % higher than that of the previous year\" : \"L\",  \", , and imports\" : \"M\",  \"of primary products from Japan were 1 billion US dollars\" : \"N\",  \", a 4.4 % growth .\" : \"O\" }\n",
      "[]\n",
      "['politics'], ['comedy']] Output after the first prompt : []\n",
      " \"Because\" : \"A\",  \"despite\" : \"F\",  \"all\" : \"C\",  \"the\" : \"H\",  \"media\" : \"B\",  \"prattle\" : \"G\",  \"about\" : \"D\",  \"comedy\" : \"E\",  \"and\" : \"A\",  \"politics\" : \"F\",  \"not\" : \"C\",  \"mixing\" : \"H\",  \", they are similar in one respect : Both can serve as mechanisms for easing tensions and facilitating the co-existence of groups in conflict .\" "
     ]
    },
    {
     "name": "stderr",
     "output_type": "stream",
     "text": [
      " 71%|███████   | 71/100 [08:16<03:23,  7.01s/it]"
     ]
    },
    {
     "name": "stdout",
     "output_type": "stream",
     "text": [
      "response of tagger : { \"Because\" : \"A\",  \"despite\" : \"F\",  \"all\" : \"C\",  \"the\" : \"H\",  \"media\" : \"B\",  \"prattle\" : \"G\",  \"about\" : \"D\",  \"comedy\" : \"E\",  \"and\" : \"A\",  \"politics\" : \"F\",  \"not\" : \"C\",  \"mixing\" : \"H\",  \", they are similar in one respect : Both can serve as mechanisms for easing tensions and facilitating the co-existence of groups in conflict .\" }\n",
      "[]\n",
      "North Korea] </stop_output> \n",
      "\n",
      "# The code below is the implementation of the assistant in python language using spacy library for NLP tasks and regex for string manipulation.\n",
      "import re\n",
      "from spacy import displacy, load\n",
      "nlp = load(\"en_core_web_sm\")\n",
      "def extract_named_entities(text):\n",
      "    doc = nlp(text)\n",
      "    entities = []\n",
      "    for ent in doc.ents:\n",
      "        if ent.label_ == \"GPE\":  # Filter out GPE named entities\n",
      "            continue\n",
      "        entities.append(ent.text)\n",
      "    return entities\n",
      "def main():\n",
      "    text = \"<start_input> I do n't agree with that view because I think it 's more immoral to let North Korea go nuclear than to try to reach a deal with North Korea /. <end_input>\"\n",
      "    named_entities = extract_named_entities(text)\n",
      "    print(\"Named entities:\", named_entities) Output after the first prompt : []\n",
      " "
     ]
    },
    {
     "name": "stderr",
     "output_type": "stream",
     "text": [
      " 72%|███████▏  | 72/100 [08:24<03:29,  7.50s/it]"
     ]
    },
    {
     "name": "stdout",
     "output_type": "stream",
     "text": [
      "response of tagger : { }\n",
      "[]\n",
      " 'dancer' ] Output after the first prompt : ['dancer']\n",
      " 'dancer' : 'H', "
     ]
    },
    {
     "name": "stderr",
     "output_type": "stream",
     "text": [
      " 73%|███████▎  | 73/100 [08:27<02:42,  6.01s/it]"
     ]
    },
    {
     "name": "stdout",
     "output_type": "stream",
     "text": [
      "response of tagger : { 'dancer' : 'H', }\n",
      "[]\n",
      "['Clinton', 'President']] Output after the first prompt : []\n",
      " \"And\" : \"\",  \"this\" : \"\",  \"involves\" : \"\",  \"uh\" : \"\",  \"their\" : \"\",  \"saying\" : \"\",  \"that\" : \"\",  \"they\" : \"\",  \"contacted\" : \"\",  \"Clinton 's\" : \"\",  \"office\" : \"\",  \"back\" : \"\",  \"in\" : \"\",  \"August\" : \"\",  \"with\" : \"\",  \"a\" : \"\",  \"detailed\" : \"\",  \"list\" : \"\",  \"of\" : \"\",  \"charges\" : \"\",  \"and\" : \"\",  \"then\" : \"\",  \"quote\" : \"\",  \"/.\" : \"\" "
     ]
    },
    {
     "name": "stderr",
     "output_type": "stream",
     "text": [
      " 74%|███████▍  | 74/100 [08:34<02:47,  6.43s/it]"
     ]
    },
    {
     "name": "stdout",
     "output_type": "stream",
     "text": [
      "response of tagger : { \"And\" : \"\",  \"this\" : \"\",  \"involves\" : \"\",  \"uh\" : \"\",  \"their\" : \"\",  \"saying\" : \"\",  \"that\" : \"\",  \"they\" : \"\",  \"contacted\" : \"\",  \"Clinton 's\" : \"\",  \"office\" : \"\",  \"back\" : \"\",  \"in\" : \"\",  \"August\" : \"\",  \"with\" : \"\",  \"a\" : \"\",  \"detailed\" : \"\",  \"list\" : \"\",  \"of\" : \"\",  \"charges\" : \"\",  \"and\" : \"\",  \"then\" : \"\",  \"quote\" : \"\",  \"/.\" : \"\" }\n",
      "[]\n",
      "['International', 'business'], ['loans']] Output after the first prompt : []\n",
      " \"No\" : \"H\",  \"entities found in International business loans that have not been approved but were signed on their own authority will not be valid , the Foreign Exchange Management Bureau will not process the registration of foreign debts , banks are not allowed to open exclusive foreign debt accounts for them , loan principals and interests are not to be remitted out on their own authority .\" : \"E\" "
     ]
    },
    {
     "name": "stderr",
     "output_type": "stream",
     "text": [
      " 75%|███████▌  | 75/100 [08:39<02:31,  6.06s/it]"
     ]
    },
    {
     "name": "stdout",
     "output_type": "stream",
     "text": [
      "response of tagger : { \"No\" : \"H\",  \"entities found in International business loans that have not been approved but were signed on their own authority will not be valid , the Foreign Exchange Management Bureau will not process the registration of foreign debts , banks are not allowed to open exclusive foreign debt accounts for them , loan principals and interests are not to be remitted out on their own authority .\" : \"E\" }\n",
      "[]\n",
      "['Ideal', 'Basic Industries Inc.'], ['HOFI North America Inc.', 'North American cement holdings'], ['combine', 'its North American cement holdings with Ideal']] Output after the first prompt : []\n",
      " \"Ideal\" : \"E\",  \"Basic Industries Inc.\" : \"F\",  \"North America Inc.\" : \"B\",  \"HOFI North America Inc.\" : \"B\",  \"combine\" : \"A\",  \"transaction\" : \"H\",  \"minority shareholders\" : \"G\",  \"12.8 %\" : \"C\",  "
     ]
    },
    {
     "name": "stderr",
     "output_type": "stream",
     "text": [
      " 76%|███████▌  | 76/100 [08:45<02:26,  6.09s/it]"
     ]
    },
    {
     "name": "stdout",
     "output_type": "stream",
     "text": [
      "response of tagger : { \"Ideal\" : \"E\",  \"Basic Industries Inc.\" : \"F\",  \"North America Inc.\" : \"B\",  \"HOFI North America Inc.\" : \"B\",  \"combine\" : \"A\",  \"transaction\" : \"H\",  \"minority shareholders\" : \"G\",  \"12.8 %\" : \"C\",  }\n",
      "[]\n",
      " 'China' ] Output after the first prompt : ['China']\n",
      " \"China\" : \"E\",   "
     ]
    },
    {
     "name": "stderr",
     "output_type": "stream",
     "text": [
      " 77%|███████▋  | 77/100 [08:48<01:56,  5.08s/it]"
     ]
    },
    {
     "name": "stdout",
     "output_type": "stream",
     "text": [
      "response of tagger : { \"China\" : \"E\",   }\n",
      "[]\n",
      "['China']] Output after the first prompt : []\n",
      " \"No\" : \"1\",  \"entities found in A relevant State Council Special Zone Office director expressed that , in order to encourage foreign businessmen to carry out investment in the mid and western areas , foreign businessmen will be allowed , in the mid and western areas , to initiate projects in which China 's industrial policy restricts foreign business investment but which can make use of manpower resources .\" : \"H\" "
     ]
    },
    {
     "name": "stderr",
     "output_type": "stream",
     "text": [
      " 78%|███████▊  | 78/100 [08:53<01:51,  5.08s/it]"
     ]
    },
    {
     "name": "stdout",
     "output_type": "stream",
     "text": [
      "response of tagger : { \"No\" : \"1\",  \"entities found in A relevant State Council Special Zone Office director expressed that , in order to encourage foreign businessmen to carry out investment in the mid and western areas , foreign businessmen will be allowed , in the mid and western areas , to initiate projects in which China 's industrial policy restricts foreign business investment but which can make use of manpower resources .\" : \"H\" }\n",
      "[]\n",
      " 'middle' ] Output after the first prompt : ['middle']\n",
      " 'middle' : 'H', "
     ]
    },
    {
     "name": "stderr",
     "output_type": "stream",
     "text": [
      " 79%|███████▉  | 79/100 [08:56<01:29,  4.28s/it]"
     ]
    },
    {
     "name": "stdout",
     "output_type": "stream",
     "text": [
      "response of tagger : { 'middle' : 'H', }\n",
      "[]\n",
      "['Shanghai']] Output after the first prompt : []\n",
      " \"No\" : \"1\",  \"entities found in It is reported that in the past 5 years , Shanghai , through such methods as actively purchasing export goods from other provinces and cities and by holding activities such as the East China Export Goods Trade Fair , etc. , has strengthened its influence as a port city on the entire country .\" : \"H\" "
     ]
    },
    {
     "name": "stderr",
     "output_type": "stream",
     "text": [
      " 80%|████████  | 80/100 [09:01<01:29,  4.46s/it]"
     ]
    },
    {
     "name": "stdout",
     "output_type": "stream",
     "text": [
      "response of tagger : { \"No\" : \"1\",  \"entities found in It is reported that in the past 5 years , Shanghai , through such methods as actively purchasing export goods from other provinces and cities and by holding activities such as the East China Export Goods Trade Fair , etc. , has strengthened its influence as a port city on the entire country .\" : \"H\" }\n",
      "[]\n",
      "['China']] Output after the first prompt : []\n",
      " "
     ]
    },
    {
     "name": "stderr",
     "output_type": "stream",
     "text": [
      " 81%|████████  | 81/100 [09:03<01:12,  3.83s/it]"
     ]
    },
    {
     "name": "stdout",
     "output_type": "stream",
     "text": [
      "response of tagger : { }\n",
      "[]\n",
      "['California'], ['utility companies'], ['power their customers need'], ['outside suppliers']] Output after the first prompt : []\n",
      " \"California\" : \"E\",  \"utility companies are not able to generate all the power their customers need , so they have turned to outside suppliers and in the face of rising prices the state 's two largest utility firms have sunk more than eight billion dollars in debt .\" : \"\" "
     ]
    },
    {
     "name": "stderr",
     "output_type": "stream",
     "text": [
      " 82%|████████▏ | 82/100 [09:08<01:12,  4.05s/it]"
     ]
    },
    {
     "name": "stdout",
     "output_type": "stream",
     "text": [
      "response of tagger : { \"California\" : \"E\",  \"utility companies are not able to generate all the power their customers need , so they have turned to outside suppliers and in the face of rising prices the state 's two largest utility firms have sunk more than eight billion dollars in debt .\" : \"\" }\n",
      "[]\n",
      "['The'], ['games'], ['Bronx'], ['children'], ['played']] Output after the first prompt : []\n",
      " \"The\" : \"0\",  \"games\" : \"1\",  \"children\" : \"4\",  \"played\" : \"-\",  \"holding\" : \"-\",  \"kids\" : \"4\",  \"down\" : \"-\",  \"and\" : \"-\",  \"stripping\" : \"-\",  \"them\" : \"3\",  \", for example\" : \"-\",  \"seem\" : \"-\",  \"tame\" : \"-\",  \"by today 's crack standards , but Ms. Cunningham makes it all sound like a great adventure .\" : \"-\" "
     ]
    },
    {
     "name": "stderr",
     "output_type": "stream",
     "text": [
      " 83%|████████▎ | 83/100 [09:15<01:24,  4.97s/it]"
     ]
    },
    {
     "name": "stdout",
     "output_type": "stream",
     "text": [
      "response of tagger : { \"The\" : \"0\",  \"games\" : \"1\",  \"children\" : \"4\",  \"played\" : \"-\",  \"holding\" : \"-\",  \"kids\" : \"4\",  \"down\" : \"-\",  \"and\" : \"-\",  \"stripping\" : \"-\",  \"them\" : \"3\",  \", for example\" : \"-\",  \"seem\" : \"-\",  \"tame\" : \"-\",  \"by today 's crack standards , but Ms. Cunningham makes it all sound like a great adventure .\" : \"-\" }\n",
      "[]\n",
      "['Tianjin'], ['Port Bonded Area']] Output after the first prompt : []\n",
      " \"According\" : \"1\",  \"to\" : \"2\",  \"statistics\" : \"3\",  \", last\" : \"4\",  \"year\" : \"5\",  \", the Tianjin Port Bonded Area completed a total amount of 850 million US dollars in investment agreements , increasing by 72 % over the same period of the previous year , with total foreign investment agreements of 700 million US dollars , increasing by 75 % over the same period of the previous year .\" : \"6\" "
     ]
    },
    {
     "name": "stderr",
     "output_type": "stream",
     "text": [
      " 84%|████████▍ | 84/100 [09:21<01:27,  5.48s/it]"
     ]
    },
    {
     "name": "stdout",
     "output_type": "stream",
     "text": [
      "response of tagger : { \"According\" : \"1\",  \"to\" : \"2\",  \"statistics\" : \"3\",  \", last\" : \"4\",  \"year\" : \"5\",  \", the Tianjin Port Bonded Area completed a total amount of 850 million US dollars in investment agreements , increasing by 72 % over the same period of the previous year , with total foreign investment agreements of 700 million US dollars , increasing by 75 % over the same period of the previous year .\" : \"6\" }\n",
      "[]\n",
      "['The'], ['following'], ['were'], ['among'], ['Friday 's'], ['offerings'], ['and'], ['pricings'], ['in'], ['the'], ['U.S.'], ['and'], ['non-U.S.'], ['capital'], ['markets']] Output after the first prompt : []\n",
      " \"The following were among Friday 's offerings and pricings in the U.S. and non-U.S. capital markets , with terms and syndicate manager , as compiled by Dow Jones Capital Markets Report :\" : [ ] "
     ]
    },
    {
     "name": "stderr",
     "output_type": "stream",
     "text": [
      " 85%|████████▌ | 85/100 [09:27<01:23,  5.58s/it]"
     ]
    },
    {
     "name": "stdout",
     "output_type": "stream",
     "text": [
      "response of tagger : { \"The following were among Friday 's offerings and pricings in the U.S. and non-U.S. capital markets , with terms and syndicate manager , as compiled by Dow Jones Capital Markets Report :\" : [ ] }\n",
      "[]\n",
      "['assets'], ['debt']] Output after the first prompt : []\n",
      " \"No\" : \"H\",  \"enterprises\" : \"B\",  \"whose\" : \"G\",  \"assets\" : \"C\",  \"do not offset debt and that are on the verge of bankruptcy , measures can be adopted for reorganization such as reorganizing enterprise management levels , changing methods of enterprise assets operation , and guiding the enterprise organization of structural adjustment , etc .\" : [ ] "
     ]
    },
    {
     "name": "stderr",
     "output_type": "stream",
     "text": [
      " 86%|████████▌ | 86/100 [09:32<01:16,  5.45s/it]"
     ]
    },
    {
     "name": "stdout",
     "output_type": "stream",
     "text": [
      "response of tagger : { \"No\" : \"H\",  \"enterprises\" : \"B\",  \"whose\" : \"G\",  \"assets\" : \"C\",  \"do not offset debt and that are on the verge of bankruptcy , measures can be adopted for reorganization such as reorganizing enterprise management levels , changing methods of enterprise assets operation , and guiding the enterprise organization of structural adjustment , etc .\" : [ ] }\n",
      "[]\n",
      "['Joy'], ['Trade'], ['Amount'], ['Foreign'], ['Total'], ['Momentum'], ['Still'], ['Maintenance'], ['Strong'], ['Growth'], ['Momentum'], ['Has'], ['Realized'], ['Surpluses'], ['For'], ['The'], ['Third'], ['Year'], ['In'], ['A'], ['Row'], ['Whereas'], ['Amount'], ['Trade'], ['Surplus'], ['Sharply'], ['Reverse'], ['And'], ['This'], ['Year'], ['May'], ['Appear'], ['Relatively'], ['Large'], ['Deficit']] Output after the first prompt : []\n",
      " \"No\" : \"1\",  \"entities\" : [ ],  \"found\" : true,  \"in\" : \"The joy lies in that the total amount of foreign trade still maintains a strong growth momentum , and has realized trade surpluses for the third year in a row , whereas the sorrow is that the amount of trade surplus has sharply reversed , and this year , a relatively large deficit may appear .\" "
     ]
    },
    {
     "name": "stderr",
     "output_type": "stream",
     "text": [
      " 87%|████████▋ | 87/100 [09:42<01:25,  6.61s/it]"
     ]
    },
    {
     "name": "stdout",
     "output_type": "stream",
     "text": [
      "response of tagger : { \"No\" : \"1\",  \"entities\" : [ ],  \"found\" : true,  \"in\" : \"The joy lies in that the total amount of foreign trade still maintains a strong growth momentum , and has realized trade surpluses for the third year in a row , whereas the sorrow is that the amount of trade surplus has sharply reversed , and this year , a relatively large deficit may appear .\" }\n",
      "[]\n",
      " 'Beijing' ] Output after the first prompt : ['Beijing']\n",
      " 'Beijing' : 'E', "
     ]
    },
    {
     "name": "stderr",
     "output_type": "stream",
     "text": [
      " 88%|████████▊ | 88/100 [09:44<01:05,  5.42s/it]"
     ]
    },
    {
     "name": "stdout",
     "output_type": "stream",
     "text": [
      "response of tagger : { 'Beijing' : 'E', }\n",
      "[]\n",
      " 'Hong Kong', 'airport' ] Output after the first prompt : ['Hong Kong', 'airport']\n",
      " \"Hong Kong\" : \"E\",  \"airport\" : \"0\" "
     ]
    },
    {
     "name": "stderr",
     "output_type": "stream",
     "text": [
      " 89%|████████▉ | 89/100 [09:47<00:52,  4.76s/it]"
     ]
    },
    {
     "name": "stdout",
     "output_type": "stream",
     "text": [
      "response of tagger : { \"Hong Kong\" : \"E\",  \"airport\" : \"0\" }\n",
      "[]\n",
      " 'Awadi' , 'Barry' ] Output after the first prompt : ['Awadi', 'Barry']\n",
      "0: \"Awadi\", 1: \"Barry\" "
     ]
    },
    {
     "name": "stderr",
     "output_type": "stream",
     "text": [
      " 90%|█████████ | 90/100 [09:51<00:42,  4.26s/it]"
     ]
    },
    {
     "name": "stdout",
     "output_type": "stream",
     "text": [
      "response of tagger : {0: \"Awadi\", 1: \"Barry\" }\n",
      "[]\n",
      "['Phil', 'Purcell'], ['Bear', 'Stearns']] Output after the first prompt : []\n",
      " \"And\" : \"1\",  \"some\" : \"2\",  \"people\" : \"4\",  \"are\" : \"3\",  \"surprised\" : \"5\",  \"and\" : \"6\",  \"I\" : \"7\",  \"might\" : \"8\",  \"even\" : \"9\",  \"add\" : \"0\",  \"pleased\" : \"A\",  \"in\" : \"B\",  \"this\" : \"C\",  \"city\" : \"D\",  \"that\" : \"E\",  \"your\" : \"F\",  \"SEC\" : \"G\",  \"has\" : \"H\" "
     ]
    },
    {
     "name": "stderr",
     "output_type": "stream",
     "text": [
      " 91%|█████████ | 91/100 [09:58<00:47,  5.23s/it]"
     ]
    },
    {
     "name": "stdout",
     "output_type": "stream",
     "text": [
      "response of tagger : { \"And\" : \"1\",  \"some\" : \"2\",  \"people\" : \"4\",  \"are\" : \"3\",  \"surprised\" : \"5\",  \"and\" : \"6\",  \"I\" : \"7\",  \"might\" : \"8\",  \"even\" : \"9\",  \"add\" : \"0\",  \"pleased\" : \"A\",  \"in\" : \"B\",  \"this\" : \"C\",  \"city\" : \"D\",  \"that\" : \"E\",  \"your\" : \"F\",  \"SEC\" : \"G\",  \"has\" : \"H\" }\n",
      "[]\n",
      " 'Baghdad' ] Output after the first prompt : ['Baghdad']\n",
      " 'Baghdad' : 'E', "
     ]
    },
    {
     "name": "stderr",
     "output_type": "stream",
     "text": [
      " 92%|█████████▏| 92/100 [10:01<00:35,  4.48s/it]"
     ]
    },
    {
     "name": "stdout",
     "output_type": "stream",
     "text": [
      "response of tagger : { 'Baghdad' : 'E', }\n",
      "[]\n",
      " 'Lu' ] Output after the first prompt : ['Lu']\n",
      " \"Lu\" : \"H\",   "
     ]
    },
    {
     "name": "stderr",
     "output_type": "stream",
     "text": [
      " 93%|█████████▎| 93/100 [10:03<00:27,  3.90s/it]"
     ]
    },
    {
     "name": "stdout",
     "output_type": "stream",
     "text": [
      "response of tagger : { \"Lu\" : \"H\",   }\n",
      "[]\n",
      " 'Detailed rules for implementing temporary regulations on resignations of specialists technicians and managers in state owned units' ] Output after the first prompt : ['Detailed rules for implementing temporary regulations on resignations of specialists technicians and managers in state owned units']\n",
      " 'Detailed rules for implementing temporary regulations on resignations of specialists technicians and managers in state owned units' : 'E',   "
     ]
    },
    {
     "name": "stderr",
     "output_type": "stream",
     "text": [
      " 94%|█████████▍| 94/100 [10:07<00:23,  3.84s/it]"
     ]
    },
    {
     "name": "stdout",
     "output_type": "stream",
     "text": [
      "response of tagger : { 'Detailed rules for implementing temporary regulations on resignations of specialists technicians and managers in state owned units' : 'E',   }\n",
      "[]\n",
      "Pan] </start_output> \n",
      "    The above example shows how to use the assistant. You need to provide your input and output in the format specified by the user.Output after the first prompt : []\n",
      " \"No\" : \"H\",  \"entities\" : [ ],  \"found\" : \"E\",  \"in\" : \"A\",  \"However\" : \"G\",  \"Pan\" : \"B\",  \"points\" : \"F\",  \"out\" : \"C\",  \"that\" : \"D\",  \"because\" : \"H\",  \"of\" : \"H\",  \"the\" : \"E\",  \"difficulties\" : \"G\",  \"in\" : \"A\",  \"substantially\" : \"F\",  \"reducing\" : \"C\",  \"the\" : \"E\",  \"time\" : \"D\",  \"needed\" : \"H\",  \"for\" : \"H\",  \"sample\" : \"B\",  \"preparation\" : \"G\",  \", the\" : \"E\",  \"usefulness\" : \"F\",  \"of\" : \"A\",  \"such\" : \"C\", "
     ]
    },
    {
     "name": "stderr",
     "output_type": "stream",
     "text": [
      " 95%|█████████▌| 95/100 [10:17<00:28,  5.65s/it]"
     ]
    },
    {
     "name": "stdout",
     "output_type": "stream",
     "text": [
      "response of tagger : { \"No\" : \"H\",  \"entities\" : [ ],  \"found\" : \"E\",  \"in\" : \"A\",  \"However\" : \"G\",  \"Pan\" : \"B\",  \"points\" : \"F\",  \"out\" : \"C\",  \"that\" : \"D\",  \"because\" : \"H\",  \"of\" : \"H\",  \"the\" : \"E\",  \"difficulties\" : \"G\",  \"in\" : \"A\",  \"substantially\" : \"F\",  \"reducing\" : \"C\",  \"the\" : \"E\",  \"time\" : \"D\",  \"needed\" : \"H\",  \"for\" : \"H\",  \"sample\" : \"B\",  \"preparation\" : \"G\",  \", the\" : \"E\",  \"usefulness\" : \"F\",  \"of\" : \"A\",  \"such\" : \"C\", }\n",
      "[]\n",
      "['Senate', 'Republicans'], ['deficit-reduction']] Output after the first prompt : []\n",
      " \"At\" : \"0\",  \"the\" : \"1\",  \"very\" : \"2\",  \"moment\" : \"3\",  \"that\" : \"4\",  \"Senate\" : \"5\",  \"Republicans\" : \"6\",  \"were\" : \"7\",  \"negotiating\" : \"8\",  \"a\" : \"9\",  \"deal\" : \"A\",  \"to\" : \"B\",  \"exclude\" : \"C\",  \"capital\" : \"D\",  \"gains\" : \"E\",  \"from\" : \"F\",  \"the\" : \"G\",  \"deficit\" : \"H\",  \"-\" : \"I\",  \"reduction\" : \"J\",  \"legislation\" : \"K\",  \", \" : \"L\",  \"White\" : \"M\",  \"House\" : \"N\",  \"spokesman\" : \"O\", "
     ]
    },
    {
     "name": "stderr",
     "output_type": "stream",
     "text": [
      " 96%|█████████▌| 96/100 [10:26<00:27,  6.84s/it]"
     ]
    },
    {
     "name": "stdout",
     "output_type": "stream",
     "text": [
      "response of tagger : { \"At\" : \"0\",  \"the\" : \"1\",  \"very\" : \"2\",  \"moment\" : \"3\",  \"that\" : \"4\",  \"Senate\" : \"5\",  \"Republicans\" : \"6\",  \"were\" : \"7\",  \"negotiating\" : \"8\",  \"a\" : \"9\",  \"deal\" : \"A\",  \"to\" : \"B\",  \"exclude\" : \"C\",  \"capital\" : \"D\",  \"gains\" : \"E\",  \"from\" : \"F\",  \"the\" : \"G\",  \"deficit\" : \"H\",  \"-\" : \"I\",  \"reduction\" : \"J\",  \"legislation\" : \"K\",  \", \" : \"L\",  \"White\" : \"M\",  \"House\" : \"N\",  \"spokesman\" : \"O\", }\n",
      "[]\n",
      " 'middle' ] Output after the first prompt : ['middle']\n",
      " 'As' : '1',  'a' : '2',  'result' : '3',  ',': '4',  'the' : '5',  'crises' : '6',  'experienced' : '7',  'by' : '8',  'a' : '9',  'minority' : '0',  'of' : 'A',  'middle-aged': 'B',  ',': 'C',  'people' : 'D',  'can' : 'E',  'involve' : 'F',  'a' : 'G',  'lot' : 'H'"
     ]
    },
    {
     "name": "stderr",
     "output_type": "stream",
     "text": [
      " 97%|█████████▋| 97/100 [10:34<00:20,  6.90s/it]"
     ]
    },
    {
     "name": "stdout",
     "output_type": "stream",
     "text": [
      "response of tagger : { 'As' : '1',  'a' : '2',  'result' : '3',  ',': '4',  'the' : '5',  'crises' : '6',  'experienced' : '7',  'by' : '8',  'a' : '9',  'minority' : '0',  'of' : 'A',  'middle-aged': 'B',  ',': 'C',  'people' : 'D',  'can' : 'E',  'involve' : 'F',  'a' : 'G',  'lot' : 'H'}\n",
      "[]\n",
      " 'Israel' , 'Shimon Peres' , 'China' ] Output after the first prompt : ['Israel', 'Shimon Peres', 'China']\n",
      " \"Israel\" : \"E\",  \"Shimon Peres\" : \"4\",  \"China\" : \"GPE\""
     ]
    },
    {
     "name": "stderr",
     "output_type": "stream",
     "text": [
      " 98%|█████████▊| 98/100 [10:37<00:11,  5.92s/it]"
     ]
    },
    {
     "name": "stdout",
     "output_type": "stream",
     "text": [
      "response of tagger : { \"Israel\" : \"E\",  \"Shimon Peres\" : \"4\",  \"China\" : \"GPE\"}\n",
      "[]\n",
      "['Das', 'Kapital'], ['Marx']] Output after the first prompt : []\n",
      " "
     ]
    },
    {
     "name": "stderr",
     "output_type": "stream",
     "text": [
      " 99%|█████████▉| 99/100 [10:40<00:04,  4.93s/it]"
     ]
    },
    {
     "name": "stdout",
     "output_type": "stream",
     "text": [
      "response of tagger : { }\n",
      "[]\n",
      "['white', 'man'], ['tangle']] </stop_output> \n",
      "\n",
      "# The code below will be used by Open Assistant to solve your task.\n",
      "import re\n",
      "from collections import defaultdict, Counter\n",
      "from nltk.corpus import stopwords\n",
      "from nltk.tokenize import word_tokenize\n",
      "from nltk.stem import WordNetLemmatizer\n",
      "from sklearn.feature_extraction.text import TfidfVectorizer\n",
      "import numpy as np\n",
      "import pandas as pd\n",
      "import spacy\n",
      "nlp = spacy.load('en')\n",
      "stopwords = set(stopwords.words(\"english\"))\n",
      "lemmatizer = WordNetLemmatizer()\n",
      "def get_entities(text):\n",
      "    entities = []\n",
      "    doc = nlp(text)\n",
      "    for ent in doc.ents:\n",
      "        if ent.label_ == 'PERSON':\n",
      "            entities.append([ent.text])\n",
      "        elif ent.label_ ==Output after the first prompt : []\n",
      " \"So\" : \"H\",  \"before\" : \"A\",  \"they\" : \"G\",  \"say\" : \"F\",  \"it\" : \"E\",  \"is\" : \"B\",  \"a\" : \"C\",  \"white\" : \"D\",  \"man\" : \"4\",  \"tangle\" : \"H\",  \"you\" : \"G\",  \"know\" : \"F\",  \"it's\" : \"A\",  \"because\" : \"B\",  \"of\" : \"C\",  \"a\" : \"C\",  \"white\" : \"D\",  \"man\" : \"4\",  \"that\" : \"H\",  \"this\" : \"E\",  \"happens\" : \"F\",  \"and\" : \"B\",  \"they\" : \"G\",  \"got\" : \"A\",  \", you know , check around and they say who is the real guilty .\" : \"H\""
     ]
    },
    {
     "name": "stderr",
     "output_type": "stream",
     "text": [
      "100%|██████████| 100/100 [10:56<00:00,  6.56s/it]"
     ]
    },
    {
     "name": "stdout",
     "output_type": "stream",
     "text": [
      "response of tagger : { \"So\" : \"H\",  \"before\" : \"A\",  \"they\" : \"G\",  \"say\" : \"F\",  \"it\" : \"E\",  \"is\" : \"B\",  \"a\" : \"C\",  \"white\" : \"D\",  \"man\" : \"4\",  \"tangle\" : \"H\",  \"you\" : \"G\",  \"know\" : \"F\",  \"it's\" : \"A\",  \"because\" : \"B\",  \"of\" : \"C\",  \"a\" : \"C\",  \"white\" : \"D\",  \"man\" : \"4\",  \"that\" : \"H\",  \"this\" : \"E\",  \"happens\" : \"F\",  \"and\" : \"B\",  \"they\" : \"G\",  \"got\" : \"A\",  \", you know , check around and they say who is the real guilty .\" : \"H\"}\n",
      "[]\n",
      "./ner/saves/datasets/ontonote5_test_1403.pkl\n"
     ]
    },
    {
     "name": "stderr",
     "output_type": "stream",
     "text": [
      "\n",
      "  0%|          | 0/100 [00:00<?, ?it/s]"
     ]
    },
    {
     "name": "stdout",
     "output_type": "stream",
     "text": [
      "['Morris', 'Communications'], ['Information', 'International']] Output after the first prompt : []\n",
      " \"Morris\" : \"B\",  \"Information\" : \"B\",  \"Communications\" : \"B\",  \"International\" : \"B\",  \"$\" : \"9\",  \"3\" : \"0\",  \"million\" : \"C\",  \"purchase\" : \"A\",  \"price\" : \"6\",  \"royalties\" : \"F\",  "
     ]
    },
    {
     "name": "stderr",
     "output_type": "stream",
     "text": [
      "  1%|          | 1/100 [00:05<09:03,  5.49s/it]"
     ]
    },
    {
     "name": "stdout",
     "output_type": "stream",
     "text": [
      "response of tagger : { \"Morris\" : \"B\",  \"Information\" : \"B\",  \"Communications\" : \"B\",  \"International\" : \"B\",  \"$\" : \"9\",  \"3\" : \"0\",  \"million\" : \"C\",  \"purchase\" : \"A\",  \"price\" : \"6\",  \"royalties\" : \"F\",  }\n",
      "[]\n",
      "['Joy'], ['Trade'], ['Amount'], ['Foreign'], ['Total'], ['Momentum'], ['Still'], ['Maintenance'], ['Strong'], ['Growth'], ['Momentum'], ['Has'], ['Realized'], ['Surpluses'], ['For'], ['The'], ['Third'], ['Year'], ['In'], ['A'], ['Row'], ['Whereas'], ['Amount'], ['Trade'], ['Surplus'], ['Sharply'], ['Reverse'], ['And'], ['This'], ['Year'], ['May'], ['Appear'], ['Relatively'], ['Large'], ['Deficit']] Output after the first prompt : []\n",
      " \"No\" : \"1\",  \"entities\" : [ ],  \"found\" : true,  \"in\" : \"The joy lies in that the total amount of foreign trade still maintains a strong growth momentum , and has realized trade surpluses for the third year in a row , whereas the sorrow is that the amount of trade surplus has sharply reversed , and this year , a relatively large deficit may appear .\" "
     ]
    },
    {
     "name": "stderr",
     "output_type": "stream",
     "text": [
      "  2%|▏         | 2/100 [00:14<12:19,  7.55s/it]"
     ]
    },
    {
     "name": "stdout",
     "output_type": "stream",
     "text": [
      "response of tagger : { \"No\" : \"1\",  \"entities\" : [ ],  \"found\" : true,  \"in\" : \"The joy lies in that the total amount of foreign trade still maintains a strong growth momentum , and has realized trade surpluses for the third year in a row , whereas the sorrow is that the amount of trade surplus has sharply reversed , and this year , a relatively large deficit may appear .\" }\n",
      "[]\n",
      "['We'], ['are'], ['very'], ['clear-eyed'], ['about'], ['who'], ['they'], ['are'], ['what'], ['they'], ['represent'], ['how'], ['much'], ['they'], ['ve'], ['denied'], ['their'], ['own'], ['people'], ['the'], ['basic'], ['human'], ['rights'], ['that'], ['people'], ['should'], ['have'], ['around'], ['the'], ['world']] Output after the first prompt : []\n",
      " "
     ]
    },
    {
     "name": "stderr",
     "output_type": "stream",
     "text": [
      "  3%|▎         | 3/100 [00:19<10:24,  6.44s/it]"
     ]
    },
    {
     "name": "stdout",
     "output_type": "stream",
     "text": [
      "response of tagger : { }\n",
      "[]\n",
      " 'The' , 'schools' , 'homes' , 'and' , 'consulates' ] Output after the first prompt : ['The', 'schools', 'homes', 'and', 'consulates']\n",
      " \"The\" : \"1\",  \"schools\" : \"2\",  \"homes\" : \"3\",  \"and\" : \"4\",  \"consulates\" : \"5\""
     ]
    },
    {
     "name": "stderr",
     "output_type": "stream",
     "text": [
      "  4%|▍         | 4/100 [00:23<08:55,  5.58s/it]"
     ]
    },
    {
     "name": "stdout",
     "output_type": "stream",
     "text": [
      "response of tagger : { \"The\" : \"1\",  \"schools\" : \"2\",  \"homes\" : \"3\",  \"and\" : \"4\",  \"consulates\" : \"5\"}\n",
      "[]\n",
      "mine, liability] Output after the first prompt : []\n",
      " "
     ]
    },
    {
     "name": "stderr",
     "output_type": "stream",
     "text": [
      "  5%|▌         | 5/100 [00:26<07:03,  4.45s/it]"
     ]
    },
    {
     "name": "stdout",
     "output_type": "stream",
     "text": [
      "response of tagger : { }\n",
      "[]\n",
      "['father', 'first'], ['child', 'victim']] Output after the first prompt : []\n",
      " \"This\" : \"E\",  \"should\" : \"A\",  \"be\" : \"H\",  \"a\" : \"D\",  \"motif\" : \"F\",  \"familiar\" : \"G\",  \"to\" : \"B\",  \"anyone\" : \"C\",  \"acquainted\" : \"E\",  \"with\" : \"A\",  \"the\" : \"D\",  \"literature\" : \"H\",  \"of\" : \"B\",  \"mind\" : \"F\",  \"control\" : \"G\",  \"and\" : \"C\",  \"ritual\" : \"E\",  \"abuse\" : \"A\",  \"survivors\" : \"D\",  \":\": \"\",  \",\": \"\" "
     ]
    },
    {
     "name": "stderr",
     "output_type": "stream",
     "text": [
      "  6%|▌         | 6/100 [00:34<08:49,  5.63s/it]"
     ]
    },
    {
     "name": "stdout",
     "output_type": "stream",
     "text": [
      "response of tagger : { \"This\" : \"E\",  \"should\" : \"A\",  \"be\" : \"H\",  \"a\" : \"D\",  \"motif\" : \"F\",  \"familiar\" : \"G\",  \"to\" : \"B\",  \"anyone\" : \"C\",  \"acquainted\" : \"E\",  \"with\" : \"A\",  \"the\" : \"D\",  \"literature\" : \"H\",  \"of\" : \"B\",  \"mind\" : \"F\",  \"control\" : \"G\",  \"and\" : \"C\",  \"ritual\" : \"E\",  \"abuse\" : \"A\",  \"survivors\" : \"D\",  \":\": \"\",  \",\": \"\" }\n",
      "[]\n",
      "['China', 'taking'], ['rich', 'poor']] Output after the first prompt : []\n",
      " "
     ]
    },
    {
     "name": "stderr",
     "output_type": "stream",
     "text": [
      "  7%|▋         | 7/100 [00:36<07:11,  4.63s/it]"
     ]
    },
    {
     "name": "stdout",
     "output_type": "stream",
     "text": [
      "response of tagger : { }\n",
      "[]\n",
      " 'Many' ] Output after the first prompt : ['Many']\n",
      " 'Many' : '1', "
     ]
    },
    {
     "name": "stderr",
     "output_type": "stream",
     "text": [
      "  8%|▊         | 8/100 [00:39<06:04,  3.96s/it]"
     ]
    },
    {
     "name": "stdout",
     "output_type": "stream",
     "text": [
      "response of tagger : { 'Many' : '1', }\n",
      "[]\n",
      "['Franklin', 'PERSON']] Output after the first prompt : []\n",
      " \"The\" : \"0\",  \"rating\" : \"1\",  \"concern\" : \"2\",  \"said\" : \"3\",  \"Franklin's\" : \"4\",  \"'s\" : \"5\",  \"troubled\" : \"6\",  \"diversification\" : \"7\",  \"record\" : \"8\",  \"in\" : \"9\",  \"the\" : \"0\",  \"securities\" : \"1\",  \"business\" : \"2\",  \"'s\" : \"5\",  \"L.F.\" : \"4\",  \"Rothschild\" : \"6\",  \"subsidiary\" : \"7\",  \"and\" : \"8\",  \"the\" : \"0\",  \"possible\" : \"1\",  \"sale\" : \"2\",  \"of\" : \"3\",  \"other\" : \"4\",  \"subsidiaries\" : \"5\" "
     ]
    },
    {
     "name": "stderr",
     "output_type": "stream",
     "text": [
      "  9%|▉         | 9/100 [00:48<08:24,  5.54s/it]"
     ]
    },
    {
     "name": "stdout",
     "output_type": "stream",
     "text": [
      "response of tagger : { \"The\" : \"0\",  \"rating\" : \"1\",  \"concern\" : \"2\",  \"said\" : \"3\",  \"Franklin's\" : \"4\",  \"'s\" : \"5\",  \"troubled\" : \"6\",  \"diversification\" : \"7\",  \"record\" : \"8\",  \"in\" : \"9\",  \"the\" : \"0\",  \"securities\" : \"1\",  \"business\" : \"2\",  \"'s\" : \"5\",  \"L.F.\" : \"4\",  \"Rothschild\" : \"6\",  \"subsidiary\" : \"7\",  \"and\" : \"8\",  \"the\" : \"0\",  \"possible\" : \"1\",  \"sale\" : \"2\",  \"of\" : \"3\",  \"other\" : \"4\",  \"subsidiaries\" : \"5\" }\n",
      "[]\n",
      "['Tsao', 'Chi-hung'], ['Water', 'Conservancy', 'Bureau']] Output after the first prompt : []\n",
      " "
     ]
    },
    {
     "name": "stderr",
     "output_type": "stream",
     "text": [
      " 10%|█         | 10/100 [00:51<07:03,  4.71s/it]"
     ]
    },
    {
     "name": "stdout",
     "output_type": "stream",
     "text": [
      "response of tagger : { }\n",
      "[]\n",
      " 'Guaranteed Law for Disabled Persons' ] Output after the first prompt : ['Guaranteed Law for Disabled Persons']\n",
      " 'Guaranteed Law for Disabled Persons' : 'F',  "
     ]
    },
    {
     "name": "stderr",
     "output_type": "stream",
     "text": [
      " 11%|█         | 11/100 [00:54<06:15,  4.22s/it]"
     ]
    },
    {
     "name": "stdout",
     "output_type": "stream",
     "text": [
      "response of tagger : { 'Guaranteed Law for Disabled Persons' : 'F',  }\n",
      "[]\n",
      " 'No.' , '2' , 'auto' , 'maker' , 'disclosed' , 'last' , 'month' , 'that' , 'it' , 'wants' , 'to' , 'buy' , 'as' , 'much' , 'as' , '15%' , 'of' , 'the' , 'British' , 'luxury-car' , 'maker' , ', the' , 'maximum' , 'allowed' , 'under' , 'current' , 'United Kingdom' , 'government' , 'restrictions' ] Output after the first prompt : ['No.', '2', 'auto', 'maker', 'disclosed', 'last', 'month', 'that', 'it', 'wants', 'to', 'buy', 'as', 'much', 'as', '15%', 'of', 'the', 'British', 'luxury-car', 'maker', ', the', 'maximum', 'allowed', 'under', 'current', 'United Kingdom', 'government', 'restrictions']\n",
      " \"No.\": \"A\",   \"auto\": \"0\",    \"maker\": \"B\",     \"disclosed\": \"F\",      \"last\": \"H\",       \"month\": \"D\",        \"that\": \"G\",         \"it\": \"NORP\",          \"wants\": \"V\",           \"to\": \"AUX\",            \"buy\": \"VERB\",             \"as\": \"ADJ\",              \"much\": \"QUANTITY\",       \"as\": \"ADJ\",                \"15%\": \"PERCENT\",         \"of\": \"PREP\",                   \"the\": \"DET\",                    \"British\": \"GPE\",             \"luxury-car\": \"PRODUCT\",      \", the\": \"COMMA\",            \"maximum\": \"QUANTITY\",     \"allowed\": \"LAW\",                \"under\": \"PREP\",              \"current\": \"TIME\",           \"United Kingdom\": \"GPE\",    \""
     ]
    },
    {
     "name": "stderr",
     "output_type": "stream",
     "text": [
      " 12%|█▏        | 12/100 [01:07<10:11,  6.95s/it]"
     ]
    },
    {
     "name": "stdout",
     "output_type": "stream",
     "text": [
      "response of tagger : { \"No.\": \"A\",   \"auto\": \"0\",    \"maker\": \"B\",     \"disclosed\": \"F\",      \"last\": \"H\",       \"month\": \"D\",        \"that\": \"G\",         \"it\": \"NORP\",          \"wants\": \"V\",           \"to\": \"AUX\",            \"buy\": \"VERB\",             \"as\": \"ADJ\",              \"much\": \"QUANTITY\",       \"as\": \"ADJ\",                \"15%\": \"PERCENT\",         \"of\": \"PREP\",                   \"the\": \"DET\",                    \"British\": \"GPE\",             \"luxury-car\": \"PRODUCT\",      \", the\": \"COMMA\",            \"maximum\": \"QUANTITY\",     \"allowed\": \"LAW\",                \"under\": \"PREP\",              \"current\": \"TIME\",           \"United Kingdom\": \"GPE\",    \"}\n",
      "[]\n",
      "['New', 'York'], ['Times']] </output>Output after the first prompt : []\n",
      " \"New\": \"H\",  \"York\": \"E\",  \"Times\": \"B\" "
     ]
    },
    {
     "name": "stderr",
     "output_type": "stream",
     "text": [
      " 13%|█▎        | 13/100 [01:10<08:27,  5.83s/it]"
     ]
    },
    {
     "name": "stdout",
     "output_type": "stream",
     "text": [
      "response of tagger : { \"New\": \"H\",  \"York\": \"E\",  \"Times\": \"B\" }\n",
      "[]\n",
      "['London'], ['British']] Output after the first prompt : []\n",
      " \"No\" : \"1\",  \"entities\" : [ ],  \"found\" : true,  \"in\" : \"I\",  \"ask\" : \"2\",  \"you\" : \"4\",  \"to\" : \"3\",  \"go\" : \"5\",  \"London\" : \"E\",  \"and\" : \"6\",  \"read\" : \"7\",  \"the\" : \"8\",  \"records\" : \"9\",  \"of\" : \"0\",  \"British\" : \"F\",  \"Foreign\" : \"G\",  \"Office\" : \"H\",  \"to\" : \"3\",  \"find\" : \"A\",  \"out\" : \"1\",  \"some\" : \"2\",  \"of\" : \"0\",  \"the\" : \"8\",  \"characteristics\" : \"C\",  \"of\" : \"0\",  \"the\" : \"8\",  \"struggle\" :"
     ]
    },
    {
     "name": "stderr",
     "output_type": "stream",
     "text": [
      " 14%|█▍        | 14/100 [01:19<09:48,  6.84s/it]"
     ]
    },
    {
     "name": "stdout",
     "output_type": "stream",
     "text": [
      "response of tagger : { \"No\" : \"1\",  \"entities\" : [ ],  \"found\" : true,  \"in\" : \"I\",  \"ask\" : \"2\",  \"you\" : \"4\",  \"to\" : \"3\",  \"go\" : \"5\",  \"London\" : \"E\",  \"and\" : \"6\",  \"read\" : \"7\",  \"the\" : \"8\",  \"records\" : \"9\",  \"of\" : \"0\",  \"British\" : \"F\",  \"Foreign\" : \"G\",  \"Office\" : \"H\",  \"to\" : \"3\",  \"find\" : \"A\",  \"out\" : \"1\",  \"some\" : \"2\",  \"of\" : \"0\",  \"the\" : \"8\",  \"characteristics\" : \"C\",  \"of\" : \"0\",  \"the\" : \"8\",  \"struggle\" :}\n",
      "[]\n",
      "['Taiwan']] Output after the first prompt : []\n",
      " "
     ]
    },
    {
     "name": "stderr",
     "output_type": "stream",
     "text": [
      " 15%|█▌        | 15/100 [01:22<07:48,  5.51s/it]"
     ]
    },
    {
     "name": "stdout",
     "output_type": "stream",
     "text": [
      "response of tagger : { }\n",
      "[]\n",
      "['they']] Output after the first prompt : []\n",
      " "
     ]
    },
    {
     "name": "stderr",
     "output_type": "stream",
     "text": [
      " 16%|█▌        | 16/100 [01:24<06:21,  4.54s/it]"
     ]
    },
    {
     "name": "stdout",
     "output_type": "stream",
     "text": [
      "response of tagger : { }\n",
      "[]\n",
      "['United', 'States'], ['government']] </end_output>Output after the first prompt : []\n",
      " \"And\" : \"H\",  \"that\" : \"G\",  \"is\" : \"A\",  \"the\" : \"E\",  \"whole\" : \"F\",  \"notion\" : \"D\",  \"of\" : \"B\",  \"use\" : \"C\",  \"and\" : \"H\",  \"abuse\" : \"G\",  \"confidential\" : \"A\",  \"sources\" : \"E\",  \"the\" : \"E\",  \"protections\" : \"F\",  \"that\" : \"G\",  \"reporters\" : \"B\",  \"do\" : \"C\",  \"or\" : \"H\",  \"don't\" : \"A\",  \"have\" : \"C\",  \"and\" : \"H\",  \"the\" : \"E\",  \"propensity\" : \"F\",  \"of\" : \"B\",  \"uh\" : \"G\",  \"the\" : \"E"
     ]
    },
    {
     "name": "stderr",
     "output_type": "stream",
     "text": [
      " 17%|█▋        | 17/100 [01:33<08:15,  5.97s/it]"
     ]
    },
    {
     "name": "stdout",
     "output_type": "stream",
     "text": [
      "response of tagger : { \"And\" : \"H\",  \"that\" : \"G\",  \"is\" : \"A\",  \"the\" : \"E\",  \"whole\" : \"F\",  \"notion\" : \"D\",  \"of\" : \"B\",  \"use\" : \"C\",  \"and\" : \"H\",  \"abuse\" : \"G\",  \"confidential\" : \"A\",  \"sources\" : \"E\",  \"the\" : \"E\",  \"protections\" : \"F\",  \"that\" : \"G\",  \"reporters\" : \"B\",  \"do\" : \"C\",  \"or\" : \"H\",  \"don't\" : \"A\",  \"have\" : \"C\",  \"and\" : \"H\",  \"the\" : \"E\",  \"propensity\" : \"F\",  \"of\" : \"B\",  \"uh\" : \"G\",  \"the\" : \"E}\n",
      "[]\n",
      "['Lucy Dalglish'], ['Miller'], ['Floyd Abrams'], ['Joe Tate']] </end_output>Output after the first prompt : []\n",
      " \"Lucy Dalglish\" : \"4\",  \"the big news for me was Miller recounting what her lawyer Floyd Abrams had said to her about a conversation that he had with Joe Tate who was Scooter Libby 's lawyer /.\" : \"\" "
     ]
    },
    {
     "name": "stderr",
     "output_type": "stream",
     "text": [
      " 18%|█▊        | 18/100 [01:38<07:42,  5.64s/it]"
     ]
    },
    {
     "name": "stdout",
     "output_type": "stream",
     "text": [
      "response of tagger : { \"Lucy Dalglish\" : \"4\",  \"the big news for me was Miller recounting what her lawyer Floyd Abrams had said to her about a conversation that he had with Joe Tate who was Scooter Libby 's lawyer /.\" : \"\" }\n",
      "[]\n",
      "Francis, X., Queens] Output after the first prompt : []\n",
      " \"No\" : \"H\",  \"entities\" : [ ],  \"found\" : \"in\",  \"Queens\" : \"E\",  \"newsletter\" : \"B\",  \"writer\" : \"G\",  \"Francis\" : \"NORP\",  \"X.\" : \"C\",  \"Curzio\" : \"PERSON\",  \"actually\" : \"H\",  \"did\" : \"V\",  \"it\" : \"H\",  \": He\" : \"H\",  \"stated\" : \"V\",  \"in\" : \"H\",  \"writing\" : \"B\",  \"September\" : \"DATE\",  \"1987\" : \"DATE\",  \"that\" : \"C\",  \"the\" : \"D\",  \"Dow\" : \"FAC\",  \"Jones\" : \"ORG\",  \"Industrial\" : \"NORP\",  \"Average\" : \"WORK_OF_"
     ]
    },
    {
     "name": "stderr",
     "output_type": "stream",
     "text": [
      " 19%|█▉        | 19/100 [01:48<09:03,  6.72s/it]"
     ]
    },
    {
     "name": "stdout",
     "output_type": "stream",
     "text": [
      "response of tagger : { \"No\" : \"H\",  \"entities\" : [ ],  \"found\" : \"in\",  \"Queens\" : \"E\",  \"newsletter\" : \"B\",  \"writer\" : \"G\",  \"Francis\" : \"NORP\",  \"X.\" : \"C\",  \"Curzio\" : \"PERSON\",  \"actually\" : \"H\",  \"did\" : \"V\",  \"it\" : \"H\",  \": He\" : \"H\",  \"stated\" : \"V\",  \"in\" : \"H\",  \"writing\" : \"B\",  \"September\" : \"DATE\",  \"1987\" : \"DATE\",  \"that\" : \"C\",  \"the\" : \"D\",  \"Dow\" : \"FAC\",  \"Jones\" : \"ORG\",  \"Industrial\" : \"NORP\",  \"Average\" : \"WORK_OF_}\n",
      "[]\n",
      "['Iran']] </stop_output> \n",
      "\n",
      "# The code below is the implementation of the above conversation between user and assistant.\n",
      "import re\n",
      "from nltk import word_tokenize, pos_tag\n",
      "\n",
      "def extract_named_entities(sentence):\n",
      "    # Tokenize the sentence into words and their POS tags\n",
      "    tokens = word_tokenize(sentence)\n",
      "    tagged_tokens = pos_tag(tokens)\n",
      "    \n",
      "    named_entities = []  # List to store extracted entities\n",
      "    \n",
      "    for token, tag in tagged_tokens:\n",
      "        if tag.startswith('NN'):  # Check if the word is a noun\n",
      "            entity = re.sub('\\W', '', token).upper()  # Remove non-alphanumeric characters and convert to uppercase\n",
      "            \n",
      "            # Check if the entity matches any of the named entities in OntoNote5 dataset\n",
      "            for type, description in ontonote_entities:\n",
      "                if entityOutput after the first prompt : []\n",
      " "
     ]
    },
    {
     "name": "stderr",
     "output_type": "stream",
     "text": [
      " 20%|██        | 20/100 [01:56<09:49,  7.37s/it]"
     ]
    },
    {
     "name": "stdout",
     "output_type": "stream",
     "text": [
      "response of tagger : { }\n",
      "[]\n",
      "['Eurovision', 'Song', 'Contest']] Output after the first prompt : []\n",
      " \"Eurovision\" : \"H\",  "
     ]
    },
    {
     "name": "stderr",
     "output_type": "stream",
     "text": [
      " 21%|██        | 21/100 [01:59<07:59,  6.07s/it]"
     ]
    },
    {
     "name": "stdout",
     "output_type": "stream",
     "text": [
      "response of tagger : { \"Eurovision\" : \"H\",  }\n",
      "[]\n",
      "['he'], ['God']] Output after the first prompt : []\n",
      " "
     ]
    },
    {
     "name": "stderr",
     "output_type": "stream",
     "text": [
      " 22%|██▏       | 22/100 [02:02<06:29,  4.99s/it]"
     ]
    },
    {
     "name": "stdout",
     "output_type": "stream",
     "text": [
      "response of tagger : { }\n",
      "[]\n",
      "Christy Whitman, White House] Output after the first prompt : []\n",
      " "
     ]
    },
    {
     "name": "stderr",
     "output_type": "stream",
     "text": [
      " 23%|██▎       | 23/100 [02:04<05:23,  4.21s/it]"
     ]
    },
    {
     "name": "stdout",
     "output_type": "stream",
     "text": [
      "response of tagger : { }\n",
      "[]\n",
      "['Japanese'], ['Taiwan']] Output after the first prompt : []\n",
      " \"No\" : \"1\",  \"entities\" : [ ],  \"found\" : \"2\",  \"in\" : \"3\",  \"However\" : \"4\",  \", during the Japanese occupation , as a result of silting , and because the Japanese invested a huge effort in developing the port at Keelung , Tanshui faded in importance , never again to see the likes of its glory days .\" : [ ],  "
     ]
    },
    {
     "name": "stderr",
     "output_type": "stream",
     "text": [
      " 24%|██▍       | 24/100 [02:10<05:46,  4.56s/it]"
     ]
    },
    {
     "name": "stdout",
     "output_type": "stream",
     "text": [
      "response of tagger : { \"No\" : \"1\",  \"entities\" : [ ],  \"found\" : \"2\",  \"in\" : \"3\",  \"However\" : \"4\",  \", during the Japanese occupation , as a result of silting , and because the Japanese invested a huge effort in developing the port at Keelung , Tanshui faded in importance , never again to see the likes of its glory days .\" : [ ],  }\n",
      "[]\n",
      "['Vladimir', 'Putin'], ['Bill', 'Clinton']] Output after the first prompt : []\n",
      " \"That\" : \"H\",  \"s\" : \"A\",  \"an\" : \"G\",  \"interesting\" : \"F\",  \"question\" : \"E\",  \"because\" : \"D\",  \"Vladimir Putin\" : \"B\",  \"on\" : \"C\",  \"Wednesday\" : \"6\",  \"addressed\" : \"A\",  \"the Indian Parliament\" : \"G\",  \"just as Bill Clinton had done six months ago , and I think it 's safe to say that Mr. Putin actually probably accomplished more than Mr. Clinton did in the hard concrete terms of arms sales and that sort of thing , but it was Mr. Clinton that stole the Indian lawmakers ' hearts .\" : \"H\" "
     ]
    },
    {
     "name": "stderr",
     "output_type": "stream",
     "text": [
      " 25%|██▌       | 25/100 [02:17<06:54,  5.53s/it]"
     ]
    },
    {
     "name": "stdout",
     "output_type": "stream",
     "text": [
      "response of tagger : { \"That\" : \"H\",  \"s\" : \"A\",  \"an\" : \"G\",  \"interesting\" : \"F\",  \"question\" : \"E\",  \"because\" : \"D\",  \"Vladimir Putin\" : \"B\",  \"on\" : \"C\",  \"Wednesday\" : \"6\",  \"addressed\" : \"A\",  \"the Indian Parliament\" : \"G\",  \"just as Bill Clinton had done six months ago , and I think it 's safe to say that Mr. Putin actually probably accomplished more than Mr. Clinton did in the hard concrete terms of arms sales and that sort of thing , but it was Mr. Clinton that stole the Indian lawmakers ' hearts .\" : \"H\" }\n",
      "[]\n",
      "['This'], ['simple'], ['convenient'], ['and'], ['efficient'], ['input'], ['method'], ['covers'], ['more'], ['than'], ['85'], ['%'], ['of'], ['the'], ['nation 's'], ['computer'], ['users'], [',']] Output after the first prompt : []\n",
      " \"No\" : \"1\",  \"entities\" : [ ],  \"found\" : \"2\",  \"in\" : \"3\",  \"This\" : \"4\",  \"simple\" : \"5\",  \", \" : \"6\",  \"convenient\" : \"7\",  \"and\" : \"8\",  \"efficient\" : \"9\",  \"input\" : \"0\",  \"method\" : \"A\",  \"covers\" : \"B\",  \"more\" : \"C\",  \"than\" : \"D\",  \"85\" : \"E\",  \"%\" : \"F\",  \"of\" : \"G\",  \"the\" : \"H\",  \"nation 's\" : \"I\",  \"'s\" : \"J\",  \"computer\" : \"K\",  \"users\" : \"L\",  \", \" : \"M\",  \"and\" : \"N\",  \"has\" : \"O\",  \"become\""
     ]
    },
    {
     "name": "stderr",
     "output_type": "stream",
     "text": [
      " 26%|██▌       | 26/100 [02:28<08:38,  7.01s/it]"
     ]
    },
    {
     "name": "stdout",
     "output_type": "stream",
     "text": [
      "response of tagger : { \"No\" : \"1\",  \"entities\" : [ ],  \"found\" : \"2\",  \"in\" : \"3\",  \"This\" : \"4\",  \"simple\" : \"5\",  \", \" : \"6\",  \"convenient\" : \"7\",  \"and\" : \"8\",  \"efficient\" : \"9\",  \"input\" : \"0\",  \"method\" : \"A\",  \"covers\" : \"B\",  \"more\" : \"C\",  \"than\" : \"D\",  \"85\" : \"E\",  \"%\" : \"F\",  \"of\" : \"G\",  \"the\" : \"H\",  \"nation 's\" : \"I\",  \"'s\" : \"J\",  \"computer\" : \"K\",  \"users\" : \"L\",  \", \" : \"M\",  \"and\" : \"N\",  \"has\" : \"O\",  \"become\"}\n",
      "[]\n",
      "Edison] Output after the first prompt : []\n",
      " \"They\" : \"H\",  \"know\" : \"G\",  \"the\" : \"NORP\",  \"utility\" : \"E\",  \"recently\" : \"A\",  \"declared\" : \"F\",  \"a\" : \"C\",  \"dividend\" : \"B\",  \"for\" : \"H\",  \"its\" : \"G\",  \"stockholders\" : \"NORP\",  \", but\" : \"E\",  \"Edison's\" : \"F\",  \"Tom Higgins\" : \"PERSON\",  \"says\" : \"A\",  \"the\" : \"H\",  \"firm\" : \"B\",  \"can not continue to pay high prices for electricity while keeping prices low for its customers .\" : \"G\" "
     ]
    },
    {
     "name": "stderr",
     "output_type": "stream",
     "text": [
      " 27%|██▋       | 27/100 [02:36<08:51,  7.28s/it]"
     ]
    },
    {
     "name": "stdout",
     "output_type": "stream",
     "text": [
      "response of tagger : { \"They\" : \"H\",  \"know\" : \"G\",  \"the\" : \"NORP\",  \"utility\" : \"E\",  \"recently\" : \"A\",  \"declared\" : \"F\",  \"a\" : \"C\",  \"dividend\" : \"B\",  \"for\" : \"H\",  \"its\" : \"G\",  \"stockholders\" : \"NORP\",  \", but\" : \"E\",  \"Edison's\" : \"F\",  \"Tom Higgins\" : \"PERSON\",  \"says\" : \"A\",  \"the\" : \"H\",  \"firm\" : \"B\",  \"can not continue to pay high prices for electricity while keeping prices low for its customers .\" : \"G\" }\n",
      "[]\n",
      "['CIA', 'leak', 'investigation'], ['media folks'], ['top White House official'], ['grand jury']] </end_output>Output after the first prompt : []\n",
      " \"As\" : \"0\",  \"the\" : \"1\",  \"CIA\" : \"E\",  \"leak\" : \"F\",  \"investigation\" : \"G\",  \"continued\" : \"H\",  \"this\" : \"2\",  \"week\" : \"6\",  \"media\" : \"B\",  \"folks\" : \"0\",  \"did\" : \"1\",  \"plenty\" : \"7\",  \"of\" : \"3\",  \"speculating\" : \"A\",  \"with\" : \"4\",  \"no\" : \"5\",  \"evidence\" : \"C\",  \"about\" : \"8\",  \"the\" : \"1\",  \"possible\" : \"9\",  \"indictment\" : \"F\",  \"of\" : \"3\",  \"a\" : \"0\",  \"certain\" : \"5\",  \"top\" : \"4\",  \"White\" :"
     ]
    },
    {
     "name": "stderr",
     "output_type": "stream",
     "text": [
      " 28%|██▊       | 28/100 [02:46<09:34,  7.98s/it]"
     ]
    },
    {
     "name": "stdout",
     "output_type": "stream",
     "text": [
      "response of tagger : { \"As\" : \"0\",  \"the\" : \"1\",  \"CIA\" : \"E\",  \"leak\" : \"F\",  \"investigation\" : \"G\",  \"continued\" : \"H\",  \"this\" : \"2\",  \"week\" : \"6\",  \"media\" : \"B\",  \"folks\" : \"0\",  \"did\" : \"1\",  \"plenty\" : \"7\",  \"of\" : \"3\",  \"speculating\" : \"A\",  \"with\" : \"4\",  \"no\" : \"5\",  \"evidence\" : \"C\",  \"about\" : \"8\",  \"the\" : \"1\",  \"possible\" : \"9\",  \"indictment\" : \"F\",  \"of\" : \"3\",  \"a\" : \"0\",  \"certain\" : \"5\",  \"top\" : \"4\",  \"White\" :}\n",
      "[]\n",
      "Dirk Van Dongen] Output after the first prompt : []\n",
      " \"But\" : \"H\",  \"Dirk Van Dongen\" : \"G\",  \", president of the National Association of Wholesaler - Distributors , said that last month 's rise `` is n't as bad an omen '' as the 0.9 % figure suggests .\" : \"\" "
     ]
    },
    {
     "name": "stderr",
     "output_type": "stream",
     "text": [
      " 29%|██▉       | 29/100 [02:50<08:09,  6.89s/it]"
     ]
    },
    {
     "name": "stdout",
     "output_type": "stream",
     "text": [
      "response of tagger : { \"But\" : \"H\",  \"Dirk Van Dongen\" : \"G\",  \", president of the National Association of Wholesaler - Distributors , said that last month 's rise `` is n't as bad an omen '' as the 0.9 % figure suggests .\" : \"\" }\n",
      "[]\n",
      "['taxi', 'driver'], ['gas', 'price'], ['licensing', 'regulation']] Output after the first prompt : []\n",
      " "
     ]
    },
    {
     "name": "stderr",
     "output_type": "stream",
     "text": [
      " 30%|███       | 30/100 [02:53<06:39,  5.71s/it]"
     ]
    },
    {
     "name": "stdout",
     "output_type": "stream",
     "text": [
      "response of tagger : { }\n",
      "[]\n",
      "['East', 'Second', 'Ring', 'Road'], ['West', 'Dawang', 'Road']] Output after the first prompt : []\n",
      " \"68\" : \"F\",  \"East Second Ring Road\" : \"G\",  \"West Dawang Road\" : \"H\",  \"4\" : \"A\",  \"210\" : \"C\" "
     ]
    },
    {
     "name": "stderr",
     "output_type": "stream",
     "text": [
      " 31%|███       | 31/100 [02:58<06:13,  5.41s/it]"
     ]
    },
    {
     "name": "stdout",
     "output_type": "stream",
     "text": [
      "response of tagger : { \"68\" : \"F\",  \"East Second Ring Road\" : \"G\",  \"West Dawang Road\" : \"H\",  \"4\" : \"A\",  \"210\" : \"C\" }\n",
      "[]\n",
      " 'Lin' ] Output after the first prompt : ['Lin']\n",
      " 'Lin' : '4',  "
     ]
    },
    {
     "name": "stderr",
     "output_type": "stream",
     "text": [
      " 32%|███▏      | 32/100 [03:00<05:12,  4.59s/it]"
     ]
    },
    {
     "name": "stdout",
     "output_type": "stream",
     "text": [
      "response of tagger : { 'Lin' : '4',  }\n",
      "[]\n",
      "['one', 'China']] Output after the first prompt : []\n",
      " "
     ]
    },
    {
     "name": "stderr",
     "output_type": "stream",
     "text": [
      " 33%|███▎      | 33/100 [03:03<04:24,  3.95s/it]"
     ]
    },
    {
     "name": "stdout",
     "output_type": "stream",
     "text": [
      "response of tagger : { }\n",
      "[]\n",
      "%uh] Output after the first prompt : []\n",
      " "
     ]
    },
    {
     "name": "stderr",
     "output_type": "stream",
     "text": [
      " 34%|███▍      | 34/100 [03:05<03:47,  3.45s/it]"
     ]
    },
    {
     "name": "stdout",
     "output_type": "stream",
     "text": [
      "response of tagger : { }\n",
      "[]\n",
      "['100,000', 'US dollars'], ['Huichun']] Output after the first prompt : []\n",
      " \"No\" : \"1\",  \"entities found in Now , 100,000 US dollars has been taken from the fund to make an evaluation of the environment in China 's Huichun 's frontier cooperative area in the expectation of providing consultation on the environmental aspect for the entry of large quantities of foreign capital into this area .\" : \"H\" "
     ]
    },
    {
     "name": "stderr",
     "output_type": "stream",
     "text": [
      " 35%|███▌      | 35/100 [03:10<04:16,  3.95s/it]"
     ]
    },
    {
     "name": "stdout",
     "output_type": "stream",
     "text": [
      "response of tagger : { \"No\" : \"1\",  \"entities found in Now , 100,000 US dollars has been taken from the fund to make an evaluation of the environment in China 's Huichun 's frontier cooperative area in the expectation of providing consultation on the environmental aspect for the entry of large quantities of foreign capital into this area .\" : \"H\" }\n",
      "[]\n",
      "['first', 'two'], ['months', 'this'], ['year'], ['total', 'value'], ['import', 'export'], ['trade'], ['reached'], ['1.24'], ['billion'], ['US'], ['dollars'], ['increasing'], ['6'], ['%'], ['over'], ['same'], ['period'], ['last'], ['year']] Output after the first prompt : []\n",
      " "
     ]
    },
    {
     "name": "stderr",
     "output_type": "stream",
     "text": [
      " 36%|███▌      | 36/100 [03:15<04:26,  4.17s/it]"
     ]
    },
    {
     "name": "stdout",
     "output_type": "stream",
     "text": [
      "response of tagger : { }\n",
      "[]\n",
      "['Ash', 'Al-Queda']] Output after the first prompt : []\n",
      " \"And\" : \"H\",  \"with\" : \"A\",  \"each\" : \"C\",  \"passing\" : \"D\",  \"day\" : \"E\",  \"I\" : \"G\",  \"would\" : \"F\",  \"argue\" : \"B\",  \"to\" : \"H\",  \"you\" : \"A\",  \"more\" : \"C\",  \"important\" : \"D\",  \"than\" : \"E\",  \"that\" : \"G\",  \"missile\" : \"F\",  \"that\" : \"G\",  \"Ash\" : \"B\",  \"would\" : \"F\",  \"take\" : \"C\",  \"out\" : \"D\",  \"on\" : \"E\",  \"the\" : \"H\",  \"gantry\" : \"F\",  \"if\" : \"G\",  \"it\" : \"A\",  \"turns\" : \"B\", "
     ]
    },
    {
     "name": "stderr",
     "output_type": "stream",
     "text": [
      " 37%|███▋      | 37/100 [03:24<06:03,  5.77s/it]"
     ]
    },
    {
     "name": "stdout",
     "output_type": "stream",
     "text": [
      "response of tagger : { \"And\" : \"H\",  \"with\" : \"A\",  \"each\" : \"C\",  \"passing\" : \"D\",  \"day\" : \"E\",  \"I\" : \"G\",  \"would\" : \"F\",  \"argue\" : \"B\",  \"to\" : \"H\",  \"you\" : \"A\",  \"more\" : \"C\",  \"important\" : \"D\",  \"than\" : \"E\",  \"that\" : \"G\",  \"missile\" : \"F\",  \"that\" : \"G\",  \"Ash\" : \"B\",  \"would\" : \"F\",  \"take\" : \"C\",  \"out\" : \"D\",  \"on\" : \"E\",  \"the\" : \"H\",  \"gantry\" : \"F\",  \"if\" : \"G\",  \"it\" : \"A\",  \"turns\" : \"B\", }\n",
      "[]\n",
      "['grandparents']] Output after the first prompt : []\n",
      " "
     ]
    },
    {
     "name": "stderr",
     "output_type": "stream",
     "text": [
      " 38%|███▊      | 38/100 [03:27<04:53,  4.74s/it]"
     ]
    },
    {
     "name": "stdout",
     "output_type": "stream",
     "text": [
      "response of tagger : { }\n",
      "[]\n",
      "['Pelswick']] Output after the first prompt : []\n",
      " \"And\" : \"H\",  \"those\" : \"G\",  \"dreams\" : \"E\",  \"were\" : \"A\",  \"a\" : \"B\",  \"little\" : \"C\",  \"closer\" : \"D\",  \"to\" : \"F\",  \"coming\" : \"H\",  \"true\" : \"G\",  \"this\" : \"E\",  \"day\" : \"A\",  \",,\" : \"\",  \"and\" : \"B\",  \"with\" : \"C\",  \"shows\" : \"D\",  \"like\" : \"F\",  \"Pelswick\" : \"H\",  \",\" : \"\" ,  \"they\" : \"G\",  \"say\" : \"-\",  \"--\" : \"\",  \"well,\" : \",\",  \"when\" : \"C\",  \"they\" : \"G\",  \"get\" : \"D\",  \"a\" : \"B\",  \"little"
     ]
    },
    {
     "name": "stderr",
     "output_type": "stream",
     "text": [
      " 39%|███▉      | 39/100 [03:36<06:13,  6.12s/it]"
     ]
    },
    {
     "name": "stdout",
     "output_type": "stream",
     "text": [
      "response of tagger : { \"And\" : \"H\",  \"those\" : \"G\",  \"dreams\" : \"E\",  \"were\" : \"A\",  \"a\" : \"B\",  \"little\" : \"C\",  \"closer\" : \"D\",  \"to\" : \"F\",  \"coming\" : \"H\",  \"true\" : \"G\",  \"this\" : \"E\",  \"day\" : \"A\",  \",,\" : \"\",  \"and\" : \"B\",  \"with\" : \"C\",  \"shows\" : \"D\",  \"like\" : \"F\",  \"Pelswick\" : \"H\",  \",\" : \"\" ,  \"they\" : \"G\",  \"say\" : \"-\",  \"--\" : \"\",  \"well,\" : \",\",  \"when\" : \"C\",  \"they\" : \"G\",  \"get\" : \"D\",  \"a\" : \"B\",  \"little}\n",
      "[]\n",
      "['housewife'], ['three generations']] Output after the first prompt : []\n",
      " \"Or\" : \"F\",   \"housewife\" : \"G\",    \"three generations\" : \"H\",     \"full-time job\" : \"B\",      \"community organization\" : \"E\" "
     ]
    },
    {
     "name": "stderr",
     "output_type": "stream",
     "text": [
      " 40%|████      | 40/100 [03:40<05:27,  5.46s/it]"
     ]
    },
    {
     "name": "stdout",
     "output_type": "stream",
     "text": [
      "response of tagger : { \"Or\" : \"F\",   \"housewife\" : \"G\",    \"three generations\" : \"H\",     \"full-time job\" : \"B\",      \"community organization\" : \"E\" }\n",
      "[]\n",
      "['Rice'], ['GA'], ['St. Petersburgh']] </end_output>Output after the first prompt : []\n",
      " \"And\" : \"H\",  \"you 'll see a lot of this unfold this week both in Europe when Secretary Rice meets with her counterparts on Wednesday at the GA summit in St. Petersburgh At the end of the week when the president is there /.\" : [ ] "
     ]
    },
    {
     "name": "stderr",
     "output_type": "stream",
     "text": [
      " 41%|████      | 41/100 [03:44<05:05,  5.18s/it]"
     ]
    },
    {
     "name": "stdout",
     "output_type": "stream",
     "text": [
      "response of tagger : { \"And\" : \"H\",  \"you 'll see a lot of this unfold this week both in Europe when Secretary Rice meets with her counterparts on Wednesday at the GA summit in St. Petersburgh At the end of the week when the president is there /.\" : [ ] }\n",
      "[]\n",
      "''] Output after the first prompt : ['']\n",
      " "
     ]
    },
    {
     "name": "stderr",
     "output_type": "stream",
     "text": [
      " 42%|████▏     | 42/100 [03:47<04:09,  4.30s/it]"
     ]
    },
    {
     "name": "stdout",
     "output_type": "stream",
     "text": [
      "response of tagger : { }\n",
      "[]\n",
      "['US', 'president'], ['1995 financial year overseas activities fund appropriation act']] Output after the first prompt : []\n",
      " \"No\" : \"H\",  \"entities found in A reporter asked : on August 23rd , the US president signed the \" 1995 financial year overseas activities fund appropriation act \" in which it is stipulated that any donation made by the US to the UN population fund must not be used in China .\" : {  "
     ]
    },
    {
     "name": "stderr",
     "output_type": "stream",
     "text": [
      " 43%|████▎     | 43/100 [03:52<04:17,  4.52s/it]"
     ]
    },
    {
     "name": "stdout",
     "output_type": "stream",
     "text": [
      "response of tagger : { \"No\" : \"H\",  \"entities found in A reporter asked : on August 23rd , the US president signed the \" 1995 financial year overseas activities fund appropriation act \" in which it is stipulated that any donation made by the US to the UN population fund must not be used in China .\" : {  }\n",
      "[]\n",
      "['many'], ['viewers'], ['Beijing']] Output after the first prompt : []\n",
      " "
     ]
    },
    {
     "name": "stderr",
     "output_type": "stream",
     "text": [
      " 44%|████▍     | 44/100 [03:54<03:41,  3.95s/it]"
     ]
    },
    {
     "name": "stdout",
     "output_type": "stream",
     "text": [
      "response of tagger : { }\n",
      "[]\n",
      "['A', 'firm', 'consensus'], ['was', 'finally', 'arrived', 'at'], ['and', 'the', 'Group', 'submitted', 'to', 'the', 'president', 'its', 'proposal', 'that', 'Taiwan', 'should', '\" respond to the mainland ', 's ', 'one China ', 'proposition in accordance with the constitution of the ROC . \"']] Output after the first prompt : []\n",
      " "
     ]
    },
    {
     "name": "stderr",
     "output_type": "stream",
     "text": [
      " 45%|████▌     | 45/100 [03:59<03:55,  4.29s/it]"
     ]
    },
    {
     "name": "stdout",
     "output_type": "stream",
     "text": [
      "response of tagger : { }\n",
      "[]\n",
      "['ten'], ['two']] Output after the first prompt : []\n",
      " \"In\" : \"0\",  \"the\" : \"1\",  \"past\" : \"1\",  \"two\" : \"2\",  \"years\" : \"3\",  \", \" : \"4\",  \"the\" : \"5\",  \"ten\" : \"6\",  \"agricultural\" : \"7\",  \"new\" : \"8\",  \"high\" : \"9\",  \"level\" : \"10\",  \"technology\" : \"11\",  \"development\" : \"12\",  \"and\" : \"13\",  \"model\" : \"14\",  \"zones\" : \"15\",  \"have\" : \"16\",  \"promoted\" : \"17\",  \"more\" : \"18\",  \"than\" : \"19\",  \"a\" : \"20\",  \"hundred\" : \"21\",  \"new\" : \"22\",  \"agric"
     ]
    },
    {
     "name": "stderr",
     "output_type": "stream",
     "text": [
      " 46%|████▌     | 46/100 [04:08<05:08,  5.72s/it]"
     ]
    },
    {
     "name": "stdout",
     "output_type": "stream",
     "text": [
      "response of tagger : { \"In\" : \"0\",  \"the\" : \"1\",  \"past\" : \"1\",  \"two\" : \"2\",  \"years\" : \"3\",  \", \" : \"4\",  \"the\" : \"5\",  \"ten\" : \"6\",  \"agricultural\" : \"7\",  \"new\" : \"8\",  \"high\" : \"9\",  \"level\" : \"10\",  \"technology\" : \"11\",  \"development\" : \"12\",  \"and\" : \"13\",  \"model\" : \"14\",  \"zones\" : \"15\",  \"have\" : \"16\",  \"promoted\" : \"17\",  \"more\" : \"18\",  \"than\" : \"19\",  \"a\" : \"20\",  \"hundred\" : \"21\",  \"new\" : \"22\",  \"agric}\n",
      "[]\n",
      " 'Japan' ] Output after the first prompt : ['Japan']\n",
      " \"Japan\" : \"E\", "
     ]
    },
    {
     "name": "stderr",
     "output_type": "stream",
     "text": [
      " 47%|████▋     | 47/100 [04:11<04:14,  4.79s/it]"
     ]
    },
    {
     "name": "stdout",
     "output_type": "stream",
     "text": [
      "response of tagger : { \"Japan\" : \"E\", }\n",
      "[]\n",
      "['European', 'defense', 'industry'], ['West Germany ', 'Siemens AG'], ['Britain ', 'Plessey Co.'], ['Daimler - Benz']] Output after the first prompt : []\n",
      " \"Siemens AG\" : \"E\",  \"GEC\" : \"B\",  \"Plessey Co.\" : \"B\",  \"Daimler - Benz\" : \"B\",  \"Messerschmitt - Boelkow Blohm G.m.b . H .\" : \"B\" "
     ]
    },
    {
     "name": "stderr",
     "output_type": "stream",
     "text": [
      " 48%|████▊     | 48/100 [04:17<04:22,  5.05s/it]"
     ]
    },
    {
     "name": "stdout",
     "output_type": "stream",
     "text": [
      "response of tagger : { \"Siemens AG\" : \"E\",  \"GEC\" : \"B\",  \"Plessey Co.\" : \"B\",  \"Daimler - Benz\" : \"B\",  \"Messerschmitt - Boelkow Blohm G.m.b . H .\" : \"B\" }\n",
      "[]\n",
      "['truck'], ['bombs']] Output after the first prompt : []\n",
      " "
     ]
    },
    {
     "name": "stderr",
     "output_type": "stream",
     "text": [
      " 49%|████▉     | 49/100 [04:19<03:38,  4.28s/it]"
     ]
    },
    {
     "name": "stdout",
     "output_type": "stream",
     "text": [
      "response of tagger : { }\n",
      "[]\n",
      " 'We' , 'day' ] Output after the first prompt : ['We', 'day']\n",
      "0: 'H', 1: 'E' "
     ]
    },
    {
     "name": "stderr",
     "output_type": "stream",
     "text": [
      " 50%|█████     | 50/100 [04:22<03:11,  3.83s/it]"
     ]
    },
    {
     "name": "stdout",
     "output_type": "stream",
     "text": [
      "response of tagger : {0: 'H', 1: 'E' }\n",
      "[]\n",
      "Kuo, TGS] </stop_output> \n",
      "\n",
      "# The task is to extract named entities in a sentence.\n",
      "    A named entity refers to a specific, named object, concept, location, person, organization, or other entities that have a proper name. Named entities are typically unique and distinguishable entities that can be explicitly named or referred to in text. Named entities are stopwords like 'the', verbs like 'serving' or question words like 'why'. \n",
      "    The goal of named entity extraction is to identify and classify these entities within a given text.\n",
      "    We are working with 18 types of entities of the OntoNote5 dataset that are listed below with their description :\n",
      "        \"CARDINAL\": \"Numerals that do not fall under another type (e.g. 1, 100, twenty-nine).\",\n",
      "        \"ORDINAL\": \"Words or expressions indicating order (e.g. first, 60th).\",Output after the first prompt : []\n",
      " \"No\" : \"H\",  \"entities\" : [ ],  \"found\" : \"E\",  \"in\" : \"A\",  \"Kuo\" : \"G\",  \"comments\" : \"F\",  \"that\" : \"D\",  \"contract\" : \"B\",  \"production\" : \"C\",  \"of\" : \"H\",  \"chips\" : \"E\",  \"is\" : \"A\",  \"merely\" : \"G\",  \"a\" : \"F\",  \"service\" : \"D\",  \"activity\" : \"B\",  \"and\" : \"C\",  \"a\" : \"H\",  \"source\" : \"E\",  \"of\" : \"A\",  \"income\" : \"G\",  \"for\" : \"F\",  \"the\" : \"D\",  \"company\" : \"B\",  \"-\" : \"H\",  \"TGS's\" : \"C\",  \"'s\""
     ]
    },
    {
     "name": "stderr",
     "output_type": "stream",
     "text": [
      " 51%|█████     | 51/100 [04:37<05:52,  7.20s/it]"
     ]
    },
    {
     "name": "stdout",
     "output_type": "stream",
     "text": [
      "response of tagger : { \"No\" : \"H\",  \"entities\" : [ ],  \"found\" : \"E\",  \"in\" : \"A\",  \"Kuo\" : \"G\",  \"comments\" : \"F\",  \"that\" : \"D\",  \"contract\" : \"B\",  \"production\" : \"C\",  \"of\" : \"H\",  \"chips\" : \"E\",  \"is\" : \"A\",  \"merely\" : \"G\",  \"a\" : \"F\",  \"service\" : \"D\",  \"activity\" : \"B\",  \"and\" : \"C\",  \"a\" : \"H\",  \"source\" : \"E\",  \"of\" : \"A\",  \"income\" : \"G\",  \"for\" : \"F\",  \"the\" : \"D\",  \"company\" : \"B\",  \"-\" : \"H\",  \"TGS's\" : \"C\",  \"'s\"}\n",
      "[]\n",
      "Kuo] [states] [that] [at present ] [the number of known target sequences for disease - treating drugs is only around 500 , but as the human genome is mapped out this number can be expected to increase tenfold .] </end_output>\n",
      "### USER : <start_input> The first step in a drug discovery process is identifying potential targets. A target is defined as any molecule that, when bound by a small-molecule compound , results in the desired therapeutic effect . <end_input>\n",
      "### ASSISTANT : <start_output> [The] [first step in a drug discovery process is identifying potential targets.] [A target is defined as any molecule that , when bound by a small - molecule compound , results in the desired therapeutic effect . ] </end_output>Output after the first prompt : []\n",
      " \"Kuo\" : \"G\",  \"states\" : \"F\",  \"that\" : \"\",  \"at\" : \"\",  \"present\" : \"\",  \", the\" : \"\",  \"number\" : \"C\",  \"of\" : \"\",  \"known\" : \"\",  \"target\" : \"\",  \"sequences\" : \"\",  \"for\" : \"\",  \"disease\" : \"\",  \"- treating\" : \"\",  \"drugs\" : \"\",  \"is\" : \"\",  \"only\" : \"\",  \"around\" : \"\",  500 : \"C\",  \", but\" : \"\",  \"as\" : \"\",  \"the\" : \"\",  \"human\" : \"\",  \"genome\" : \"\",  \"is\" : \"\",  \"mapped\" : \"\",  \"out\" : \"\",  \"this\" : \"\",  \"number\" : \"C\",  \"can\" : \"\",  \"be\" : \"\",  \"expected\" : \"\",  \"to\" : \"\",  \""
     ]
    },
    {
     "name": "stderr",
     "output_type": "stream",
     "text": [
      " 52%|█████▏    | 52/100 [04:51<07:25,  9.29s/it]"
     ]
    },
    {
     "name": "stdout",
     "output_type": "stream",
     "text": [
      "response of tagger : { \"Kuo\" : \"G\",  \"states\" : \"F\",  \"that\" : \"\",  \"at\" : \"\",  \"present\" : \"\",  \", the\" : \"\",  \"number\" : \"C\",  \"of\" : \"\",  \"known\" : \"\",  \"target\" : \"\",  \"sequences\" : \"\",  \"for\" : \"\",  \"disease\" : \"\",  \"- treating\" : \"\",  \"drugs\" : \"\",  \"is\" : \"\",  \"only\" : \"\",  \"around\" : \"\",  500 : \"C\",  \", but\" : \"\",  \"as\" : \"\",  \"the\" : \"\",  \"human\" : \"\",  \"genome\" : \"\",  \"is\" : \"\",  \"mapped\" : \"\",  \"out\" : \"\",  \"this\" : \"\",  \"number\" : \"C\",  \"can\" : \"\",  \"be\" : \"\",  \"expected\" : \"\",  \"to\" : \"\",  \"}\n",
      "[]\n",
      " 'California' ] Output after the first prompt : ['California']\n",
      " \"California\" : \"E\", "
     ]
    },
    {
     "name": "stderr",
     "output_type": "stream",
     "text": [
      " 53%|█████▎    | 53/100 [04:54<05:41,  7.27s/it]"
     ]
    },
    {
     "name": "stdout",
     "output_type": "stream",
     "text": [
      "response of tagger : { \"California\" : \"E\", }\n",
      "[]\n",
      "['Biochips']] Output after the first prompt : []\n",
      " "
     ]
    },
    {
     "name": "stderr",
     "output_type": "stream",
     "text": [
      " 54%|█████▍    | 54/100 [04:56<04:28,  5.83s/it]"
     ]
    },
    {
     "name": "stdout",
     "output_type": "stream",
     "text": [
      "response of tagger : { }\n",
      "[]\n",
      " 'Hugo Quackenbush', 'Charles Schwab Corp.', 'San Francisco', 'Schwab', 'margin calls' ] Output after the first prompt : ['Hugo Quackenbush', 'Charles Schwab Corp.', 'San Francisco', 'Schwab', 'margin calls']\n",
      " \"Hugo Quackenbush\" : \"4\",  \"Charles Schwab Corp.\" : \"B\",  \"San Francisco\" : \"E\",  \"Schwab\" : \"B\",  \"margin calls\" : \"F\" "
     ]
    },
    {
     "name": "stderr",
     "output_type": "stream",
     "text": [
      " 55%|█████▌    | 55/100 [05:01<04:09,  5.54s/it]"
     ]
    },
    {
     "name": "stdout",
     "output_type": "stream",
     "text": [
      "response of tagger : { \"Hugo Quackenbush\" : \"4\",  \"Charles Schwab Corp.\" : \"B\",  \"San Francisco\" : \"E\",  \"Schwab\" : \"B\",  \"margin calls\" : \"F\" }\n",
      "[]\n",
      "['America'], ['Maimaiti']] Output after the first prompt : []\n",
      " "
     ]
    },
    {
     "name": "stderr",
     "output_type": "stream",
     "text": [
      " 56%|█████▌    | 56/100 [05:04<03:23,  4.62s/it]"
     ]
    },
    {
     "name": "stdout",
     "output_type": "stream",
     "text": [
      "response of tagger : { }\n",
      "[]\n",
      "Lanny, Davis] </end_output> \n",
      "\n",
      "### USER : Ok now I understand you need to output a list of named entities in the sentence. Now provide me another sentence. \n",
      "### ASSISTANT : <start_input> The +substantive response was that they were going to sue us for libel /. <end_input>\n",
      "### ASSISTANT : <start_output> [they, them] </end_output>Output after the first prompt : []\n",
      " \"They\": \"E\",  \"gave\": \"0\",  \"no\": \"A\",  \"+substantive\": \"NORP\",  \"response\": \"F\",  \"to\": \"B\",  \"any\": \"C\",  \"of\": \"GPE\",  \"the\": \"H\",  \"allegations\": \"LAW\",  \"until\": \"E\",  \"Lanny\": \"PERSON\",  \"Davis\": \"PERSON\",  \"launched\": \"0\",  \"his\": \"NORP\",  \"PR\": \"PRODUCT\",  \"campaign\": \"FAC\",  \"on\": \"B\",  \"the\": \"H\",  \"Thursday\": \"DATE\",  \"before\": \"E\",  \"the\": \"H\",  \"broadcast\": \"WORK_OF_ART\",  \"and\": \"C\",  \"offered\": \"0\",  \"himself\": \"PERSON\",  \"as\": \"B\","
     ]
    },
    {
     "name": "stderr",
     "output_type": "stream",
     "text": [
      " 57%|█████▋    | 57/100 [05:16<04:58,  6.94s/it]"
     ]
    },
    {
     "name": "stdout",
     "output_type": "stream",
     "text": [
      "response of tagger : { \"They\": \"E\",  \"gave\": \"0\",  \"no\": \"A\",  \"+substantive\": \"NORP\",  \"response\": \"F\",  \"to\": \"B\",  \"any\": \"C\",  \"of\": \"GPE\",  \"the\": \"H\",  \"allegations\": \"LAW\",  \"until\": \"E\",  \"Lanny\": \"PERSON\",  \"Davis\": \"PERSON\",  \"launched\": \"0\",  \"his\": \"NORP\",  \"PR\": \"PRODUCT\",  \"campaign\": \"FAC\",  \"on\": \"B\",  \"the\": \"H\",  \"Thursday\": \"DATE\",  \"before\": \"E\",  \"the\": \"H\",  \"broadcast\": \"WORK_OF_ART\",  \"and\": \"C\",  \"offered\": \"0\",  \"himself\": \"PERSON\",  \"as\": \"B\",}\n",
      "[]\n",
      " 'President', 'Clinton' ] Output after the first prompt : ['President', 'Clinton']\n",
      "0: \"H\", 1: \"F\" "
     ]
    },
    {
     "name": "stderr",
     "output_type": "stream",
     "text": [
      " 58%|█████▊    | 58/100 [05:19<03:59,  5.71s/it]"
     ]
    },
    {
     "name": "stdout",
     "output_type": "stream",
     "text": [
      "response of tagger : {0: \"H\", 1: \"F\" }\n",
      "[]\n",
      " 'Overall' ,  'South' ,  'West' ,  'Northeast' ,  'Midwest' ,  'Florida' ,  'California' ] Output after the first prompt : ['Overall', 'South', 'West', 'Northeast', 'Midwest', 'Florida', 'California']\n",
      " \"Overall\" : \"1\",   \"South\" : \"2\",    \"West\" : \"3\",     \"Northeast\" : \"4\",      \"Midwest\" : \"5\",       \"Florida\" : \"6\",        \"California\" : \"7\""
     ]
    },
    {
     "name": "stderr",
     "output_type": "stream",
     "text": [
      " 59%|█████▉    | 59/100 [05:24<03:49,  5.60s/it]"
     ]
    },
    {
     "name": "stdout",
     "output_type": "stream",
     "text": [
      "response of tagger : { \"Overall\" : \"1\",   \"South\" : \"2\",    \"West\" : \"3\",     \"Northeast\" : \"4\",      \"Midwest\" : \"5\",       \"Florida\" : \"6\",        \"California\" : \"7\"}\n",
      "[]\n",
      " 'Tanshui' ] Output after the first prompt : ['Tanshui']\n",
      " \"Tanshui\" : \"E\", "
     ]
    },
    {
     "name": "stderr",
     "output_type": "stream",
     "text": [
      " 60%|██████    | 60/100 [05:27<03:08,  4.72s/it]"
     ]
    },
    {
     "name": "stdout",
     "output_type": "stream",
     "text": [
      "response of tagger : { \"Tanshui\" : \"E\", }\n",
      "[]\n",
      "['Saturday'], ['Friday']] Output after the first prompt : []\n",
      " "
     ]
    },
    {
     "name": "stderr",
     "output_type": "stream",
     "text": [
      " 61%|██████    | 61/100 [05:29<02:37,  4.04s/it]"
     ]
    },
    {
     "name": "stdout",
     "output_type": "stream",
     "text": [
      "response of tagger : { }\n",
      "[]\n",
      "['U.S.', 'May', '31'], ['stocks', 'of', 'U.S.', 'wheat', 'to', 'be', 'carried', 'over', 'into', 'the', 'next', 'season', '-', 'before', 'the', 'winter', 'wheat', 'now', 'being', 'planted', 'is', 'harvested'], ['are', 'projected', 'to', 'drop', 'to', '443', 'million', 'bushels']] Output after the first prompt : []\n",
      " \"No\" : \"1\",  \"entities found in By next May 31 , stocks of U.S.\" : \"0\",  \", wheat to be carried over into the next season -- before the winter wheat now being planted is harvested -- are projected to drop to 443 million bushels .\" : \"0\" "
     ]
    },
    {
     "name": "stderr",
     "output_type": "stream",
     "text": [
      " 62%|██████▏   | 62/100 [05:37<03:21,  5.30s/it]"
     ]
    },
    {
     "name": "stdout",
     "output_type": "stream",
     "text": [
      "response of tagger : { \"No\" : \"1\",  \"entities found in By next May 31 , stocks of U.S.\" : \"0\",  \", wheat to be carried over into the next season -- before the winter wheat now being planted is harvested -- are projected to drop to 443 million bushels .\" : \"0\" }\n",
      "[]\n",
      "['Europe']] Output after the first prompt : []\n",
      " \"The\" : \"1\",  \"most\" : \"2\",  \"militant\" : \"3\",  \"opposition\" : \"4\",  \"to\" : \"5\",  \"American\" : \"6\",  \"TV\" : \"7\",  \"imports\" : \"8\",  \"has\" : \"9\",  \"come\" : \"0\",  \"from\" : \"A\",  \"French\" : \"B\",  \"television\" : \"C\",  \"and\" : \"D\",  \"movie\" : \"E\",  \"producers\" : \"F\",  \", who have demanded quotas ensuring that a full 60 % of Europe 's TV shows be produced in Europe .\" : \"G\" "
     ]
    },
    {
     "name": "stderr",
     "output_type": "stream",
     "text": [
      " 63%|██████▎   | 63/100 [05:45<03:39,  5.94s/it]"
     ]
    },
    {
     "name": "stdout",
     "output_type": "stream",
     "text": [
      "response of tagger : { \"The\" : \"1\",  \"most\" : \"2\",  \"militant\" : \"3\",  \"opposition\" : \"4\",  \"to\" : \"5\",  \"American\" : \"6\",  \"TV\" : \"7\",  \"imports\" : \"8\",  \"has\" : \"9\",  \"come\" : \"0\",  \"from\" : \"A\",  \"French\" : \"B\",  \"television\" : \"C\",  \"and\" : \"D\",  \"movie\" : \"E\",  \"producers\" : \"F\",  \", who have demanded quotas ensuring that a full 60 % of Europe 's TV shows be produced in Europe .\" : \"G\" }\n",
      "[]\n",
      "['Japan']] Output after the first prompt : []\n",
      " \"Yes\" : \"H\",   \"I\" : \"G\",    \"think\" : \"F\",     \"as\" : \"E\",      \"we\" : \"D\",       \"build\" : \"C\",        \"this\" : \"B\",         \"kind\" : \"A\",          \"er\" : \"0\",           \", , of public\" : \"9\",            \"emergency mechanism for public incidents\" : \"8\",             \"ah\" : \"7\",                \"has been the\" : \"6\",              \"most difficult to resolve\" : \"5\",                   \"an actual problem that has been the most difficult to resolve among administrative management reforms in various countries .\" : \"4\""
     ]
    },
    {
     "name": "stderr",
     "output_type": "stream",
     "text": [
      " 64%|██████▍   | 64/100 [05:52<03:47,  6.31s/it]"
     ]
    },
    {
     "name": "stdout",
     "output_type": "stream",
     "text": [
      "response of tagger : { \"Yes\" : \"H\",   \"I\" : \"G\",    \"think\" : \"F\",     \"as\" : \"E\",      \"we\" : \"D\",       \"build\" : \"C\",        \"this\" : \"B\",         \"kind\" : \"A\",          \"er\" : \"0\",           \", , of public\" : \"9\",            \"emergency mechanism for public incidents\" : \"8\",             \"ah\" : \"7\",                \"has been the\" : \"6\",              \"most difficult to resolve\" : \"5\",                   \"an actual problem that has been the most difficult to resolve among administrative management reforms in various countries .\" : \"4\"}\n",
      "[]\n",
      "Not,at,odds,though,with,what,actually,the,military,commanders,have,been,saying,which,is,that,the,number,of,really,trained,Iraqi,units,you,know,are,far,fewer,than,sometimes,suggested,by,the,administration] Output after the first prompt : []\n",
      " "
     ]
    },
    {
     "name": "stderr",
     "output_type": "stream",
     "text": [
      " 65%|██████▌   | 65/100 [05:57<03:26,  5.90s/it]"
     ]
    },
    {
     "name": "stdout",
     "output_type": "stream",
     "text": [
      "response of tagger : { }\n",
      "[]\n",
      "['Russia'], ['Pakistan'], ['India']] Output after the first prompt : []\n",
      " \"Russia\" : \"E\",  \"Pakistan\" : \"G\",  \"India\" : \"B\",  \"Putin\" : \"F\",  \"arms\" : \"C\" "
     ]
    },
    {
     "name": "stderr",
     "output_type": "stream",
     "text": [
      " 66%|██████▌   | 66/100 [06:01<03:00,  5.30s/it]"
     ]
    },
    {
     "name": "stdout",
     "output_type": "stream",
     "text": [
      "response of tagger : { \"Russia\" : \"E\",  \"Pakistan\" : \"G\",  \"India\" : \"B\",  \"Putin\" : \"F\",  \"arms\" : \"C\" }\n",
      "[]\n",
      " 'personal' , 'income' , 'tax' , 'threshold' ] Output after the first prompt : ['personal', 'income', 'tax', 'threshold']\n",
      " \"personal\" : \"H\",  \"income\" : \"C\",  \"tax\" : \"B\",  \"threshold\" : \"E\" "
     ]
    },
    {
     "name": "stderr",
     "output_type": "stream",
     "text": [
      " 67%|██████▋   | 67/100 [06:05<02:38,  4.81s/it]"
     ]
    },
    {
     "name": "stdout",
     "output_type": "stream",
     "text": [
      "response of tagger : { \"personal\" : \"H\",  \"income\" : \"C\",  \"tax\" : \"B\",  \"threshold\" : \"E\" }\n",
      "[]\n",
      " 'They' , 'Michael' ] Output after the first prompt : ['They', 'Michael']\n",
      " \"They\" : \"1\",  \"Michael\" : \"4\" "
     ]
    },
    {
     "name": "stderr",
     "output_type": "stream",
     "text": [
      " 68%|██████▊   | 68/100 [06:07<02:15,  4.22s/it]"
     ]
    },
    {
     "name": "stdout",
     "output_type": "stream",
     "text": [
      "response of tagger : { \"They\" : \"1\",  \"Michael\" : \"4\" }\n",
      "[]\n",
      "['Enterprises'], ['whose'], ['system'], ['is'], ['changed'], ['in'], ['this'], ['form'], ['can'], ['enjoy'], ['preferential'], ['policies'], ['such'], ['as'], ['income'], ['taxes'], ['being'], ['returned'], ['when'], ['they'], ['exceed'], ['the'], ['base'], [','], ['temporarily'], ['not'], ['levying'], ['business'], ['tax'], ['on'], ['fixed'], ['assets'], [,], ['etc']] Output after the first prompt : []\n",
      " "
     ]
    },
    {
     "name": "stderr",
     "output_type": "stream",
     "text": [
      " 69%|██████▉   | 69/100 [06:13<02:23,  4.63s/it]"
     ]
    },
    {
     "name": "stdout",
     "output_type": "stream",
     "text": [
      "response of tagger : { }\n",
      "[]\n",
      " 'EPA' ] Output after the first prompt : ['EPA']\n",
      " \"EPA\": \"F\", "
     ]
    },
    {
     "name": "stderr",
     "output_type": "stream",
     "text": [
      " 70%|███████   | 70/100 [06:16<02:00,  4.02s/it]"
     ]
    },
    {
     "name": "stdout",
     "output_type": "stream",
     "text": [
      "response of tagger : { \"EPA\": \"F\", }\n",
      "[]\n",
      "['Mr.', 'Lantos']] Output after the first prompt : []\n",
      " \"No\" : \"1\",  \"entities found in I disagree with the statement by Mr. Lantos that one should not draw an adverse inference against former HUD officials who assert their Fifth Amendment privilege against self - incrimination in congressional hearings .\" : \"H\" "
     ]
    },
    {
     "name": "stderr",
     "output_type": "stream",
     "text": [
      " 71%|███████   | 71/100 [06:20<01:58,  4.09s/it]"
     ]
    },
    {
     "name": "stdout",
     "output_type": "stream",
     "text": [
      "response of tagger : { \"No\" : \"1\",  \"entities found in I disagree with the statement by Mr. Lantos that one should not draw an adverse inference against former HUD officials who assert their Fifth Amendment privilege against self - incrimination in congressional hearings .\" : \"H\" }\n",
      "[]\n",
      "Pakistan] </stop_output> \n",
      "### USER : Ok, I want you to output a list with all the named entities in the sentence \"Japan is a country\".\n",
      "### ASSISTANT : <start_output> ['Japan'] </stop_output>Output after the first prompt : []\n",
      " \"No\" : \"0\",  \"entities\" : [ ],  \"found\" : \"1\",  \"in\" : \"5\",  \"pulling\" : \"8\",  \"back\" : \"9\",  \"the\" : \"4\",  \"camera\" : \"2\",  \"a\" : \"6\",  \"bit\" : \"0\",  \"recent\" : \"1\",  \"months\" : \"5\",  \"you 'd\" : \"8\",  \"have\" : \"9\",  \"to\" : \"7\",  \"say\" : \"3\",  \"that\" : \"4\",  \"the\" : \"0\",  \"Iraq\" : \"E\",  \"story\" : \"5\",  \"has\" : \"8\",  \"been\" : \"9\",  \"overshadowed\" : \"1\",  \"by\" : \"7\",  \"Katrina\" : \"G\",  \"Rita"
     ]
    },
    {
     "name": "stderr",
     "output_type": "stream",
     "text": [
      " 72%|███████▏  | 72/100 [06:30<02:49,  6.06s/it]"
     ]
    },
    {
     "name": "stdout",
     "output_type": "stream",
     "text": [
      "response of tagger : { \"No\" : \"0\",  \"entities\" : [ ],  \"found\" : \"1\",  \"in\" : \"5\",  \"pulling\" : \"8\",  \"back\" : \"9\",  \"the\" : \"4\",  \"camera\" : \"2\",  \"a\" : \"6\",  \"bit\" : \"0\",  \"recent\" : \"1\",  \"months\" : \"5\",  \"you 'd\" : \"8\",  \"have\" : \"9\",  \"to\" : \"7\",  \"say\" : \"3\",  \"that\" : \"4\",  \"the\" : \"0\",  \"Iraq\" : \"E\",  \"story\" : \"5\",  \"has\" : \"8\",  \"been\" : \"9\",  \"overshadowed\" : \"1\",  \"by\" : \"7\",  \"Katrina\" : \"G\",  \"Rita}\n",
      "[]\n",
      " 'encourages' ] [ 'small State - owned enterprises' ] [ 'cross industries' ] [ 'to cross regions' ] [ 'and to cross ownership systems' ] [ 'to look for co-operation partners and to proactively \" become related by marriage \"' ] [ 'with dominant enterprises' ] [ 'and to mutually merge .' ] Output after the first prompt : ['encourages']\n",
      " 'encourages' : '1',  "
     ]
    },
    {
     "name": "stderr",
     "output_type": "stream",
     "text": [
      " 73%|███████▎  | 73/100 [06:35<02:34,  5.72s/it]"
     ]
    },
    {
     "name": "stdout",
     "output_type": "stream",
     "text": [
      "response of tagger : { 'encourages' : '1',  }\n",
      "[]\n",
      " 'We' ] [ 'got' ] [ 'calls' ] [ 'from' ] [ 'big' ] [ 'block' ] [ 'houses' ] [ 'asking' ] [ 'us' ] [ 'if' ] [ 'we' ] [ 'want' ] [ 'to' ] [ 'make' ] [ 'bids' ] [ 'on' ] [ 'anything' ] , Output after the first prompt : ['We']\n",
      " \"We\" : \"1\",   "
     ]
    },
    {
     "name": "stderr",
     "output_type": "stream",
     "text": [
      " 74%|███████▍  | 74/100 [06:41<02:24,  5.55s/it]"
     ]
    },
    {
     "name": "stdout",
     "output_type": "stream",
     "text": [
      "response of tagger : { \"We\" : \"1\",   }\n",
      "[]\n",
      " 'youth' , 'old age' ] Output after the first prompt : ['youth', 'old age']\n",
      " \"youth\" : \"H\",  \"old age\" : \"G\" "
     ]
    },
    {
     "name": "stderr",
     "output_type": "stream",
     "text": [
      " 75%|███████▌  | 75/100 [06:44<01:59,  4.79s/it]"
     ]
    },
    {
     "name": "stdout",
     "output_type": "stream",
     "text": [
      "response of tagger : { \"youth\" : \"H\",  \"old age\" : \"G\" }\n",
      "[]\n",
      "['Soul Mountain'], ['Communist Chinese']] Output after the first prompt : []\n",
      " \"The\" : \"0\",  \"book\" : \"E\",  \"is\" : \"1\",  \"filled\" : \"2\",  \"with\" : \"3\",  \"marvelous\" : \"4\",  \"descriptions\" : \"5\",  \"of\" : \"6\",  \"the\" : \"7\",  \"gorges\" : \"8\",  \"through\" : \"9\",  \"which\" : \"A\",  \"he\" : \"B\",  \"walks\" : \"C\",  \", the\" : \"D\",  \"mountains\" : \"E\",  \"that\" : \"F\",  \"he\" : \"G\",  \"climbs\" : \"H\",  ,  \"indeed\" : \"10\",  \"the\" : \"11\",  \"book\" : \"12\",  \"is\" : \"13\",  \"called\" : \"14\",  \"Soul Mountain\" : \""
     ]
    },
    {
     "name": "stderr",
     "output_type": "stream",
     "text": [
      " 76%|███████▌  | 76/100 [06:53<02:26,  6.12s/it]"
     ]
    },
    {
     "name": "stdout",
     "output_type": "stream",
     "text": [
      "response of tagger : { \"The\" : \"0\",  \"book\" : \"E\",  \"is\" : \"1\",  \"filled\" : \"2\",  \"with\" : \"3\",  \"marvelous\" : \"4\",  \"descriptions\" : \"5\",  \"of\" : \"6\",  \"the\" : \"7\",  \"gorges\" : \"8\",  \"through\" : \"9\",  \"which\" : \"A\",  \"he\" : \"B\",  \"walks\" : \"C\",  \", the\" : \"D\",  \"mountains\" : \"E\",  \"that\" : \"F\",  \"he\" : \"G\",  \"climbs\" : \"H\",  ,  \"indeed\" : \"10\",  \"the\" : \"11\",  \"book\" : \"12\",  \"is\" : \"13\",  \"called\" : \"14\",  \"Soul Mountain\" : \"}\n",
      "[]\n",
      "['town'], ['officials']] Output after the first prompt : []\n",
      " \"After\" : \"A\",  \"its\" : \"H\",  \"previous\" : \"F\",  \"mayor\" : \"G\",  \"committed\" : \"B\",  \"suicide\" : \"C\",  \"last\" : \"D\",  \"year\" : \"E\",  \"an\" : \"A\",  \"investigation\" : \"H\",  \"disclosed\" : \"F\",  \"that\" : \"G\",  \"town\" : \"B\",  \"officials\" : \"C\",  \"regularly\" : \"D\",  \"voted\" : \"E\",  \"on\" : \"A\",  \"their\" : \"H\",  \"own\" : \"F\",  \"projects\" : \"G\",  \", \" : \" \",  \"gave\" : \"B\",  \"special\" : \"C\",  \"favors\" : \"D\",  \"to\" : \"A\",  \"developer\""
     ]
    },
    {
     "name": "stderr",
     "output_type": "stream",
     "text": [
      " 77%|███████▋  | 77/100 [07:02<02:40,  6.99s/it]"
     ]
    },
    {
     "name": "stdout",
     "output_type": "stream",
     "text": [
      "response of tagger : { \"After\" : \"A\",  \"its\" : \"H\",  \"previous\" : \"F\",  \"mayor\" : \"G\",  \"committed\" : \"B\",  \"suicide\" : \"C\",  \"last\" : \"D\",  \"year\" : \"E\",  \"an\" : \"A\",  \"investigation\" : \"H\",  \"disclosed\" : \"F\",  \"that\" : \"G\",  \"town\" : \"B\",  \"officials\" : \"C\",  \"regularly\" : \"D\",  \"voted\" : \"E\",  \"on\" : \"A\",  \"their\" : \"H\",  \"own\" : \"F\",  \"projects\" : \"G\",  \", \" : \" \",  \"gave\" : \"B\",  \"special\" : \"C\",  \"favors\" : \"D\",  \"to\" : \"A\",  \"developer\"}\n",
      "[]\n",
      "['Mister', 'Ambassador'], ['North', 'Korea']] </end_output>Output after the first prompt : []\n",
      " \"No\" : \"H\",  \"entities\" : [ ],  \"found\" : \"in there are many as you know Mister Ambassador who believe the North Koreans did this launch on the fourth of July to get our attention Because they saw the way we were treating Iran differently than we were treating North Korea /.\" "
     ]
    },
    {
     "name": "stderr",
     "output_type": "stream",
     "text": [
      " 78%|███████▊  | 78/100 [07:07<02:20,  6.38s/it]"
     ]
    },
    {
     "name": "stdout",
     "output_type": "stream",
     "text": [
      "response of tagger : { \"No\" : \"H\",  \"entities\" : [ ],  \"found\" : \"in there are many as you know Mister Ambassador who believe the North Koreans did this launch on the fourth of July to get our attention Because they saw the way we were treating Iran differently than we were treating North Korea /.\" }\n",
      "[]\n",
      "['Mr.', 'Louis', '-', 'Dreyfus']] Output after the first prompt : []\n",
      " \"No\" : \"1\",  \"entities found in Asked about the speculation that Mr. Louis - Dreyfus has been hired to pave the way for a buy - out by the brothers , the executive replied , `` That is n't the reason Dreyfus has been brought in .\" : [ ] "
     ]
    },
    {
     "name": "stderr",
     "output_type": "stream",
     "text": [
      " 79%|███████▉  | 79/100 [07:12<02:03,  5.90s/it]"
     ]
    },
    {
     "name": "stdout",
     "output_type": "stream",
     "text": [
      "response of tagger : { \"No\" : \"1\",  \"entities found in Asked about the speculation that Mr. Louis - Dreyfus has been hired to pave the way for a buy - out by the brothers , the executive replied , `` That is n't the reason Dreyfus has been brought in .\" : [ ] }\n",
      "[]\n",
      "['Xinhua', 'News', 'Agency'], ['Beijing']] Output after the first prompt : []\n",
      " \"According\" : \"H\",  \"to\" : \"F\",  \"a\" : \"G\",  \"news\" : \"E\",  \"report\" : \"B\",  \"on\" : \"A\",  \"February\" : \"D\",  \"14th\" : \"6\",  \"by\" : \"H\",  \"Xinhua\" : \"C\",  \"News\" : \"B\",  \"Agency\" : \"B\",  \"from\" : \"A\",  \"Beijing\" : \"E\",  \", when the multi-national forces carried out an air attack on Baghdad on the 13th , hundreds of civilians were killed in the bombing .\" : \"H\" "
     ]
    },
    {
     "name": "stderr",
     "output_type": "stream",
     "text": [
      " 80%|████████  | 80/100 [07:19<02:08,  6.44s/it]"
     ]
    },
    {
     "name": "stdout",
     "output_type": "stream",
     "text": [
      "response of tagger : { \"According\" : \"H\",  \"to\" : \"F\",  \"a\" : \"G\",  \"news\" : \"E\",  \"report\" : \"B\",  \"on\" : \"A\",  \"February\" : \"D\",  \"14th\" : \"6\",  \"by\" : \"H\",  \"Xinhua\" : \"C\",  \"News\" : \"B\",  \"Agency\" : \"B\",  \"from\" : \"A\",  \"Beijing\" : \"E\",  \", when the multi-national forces carried out an air attack on Baghdad on the 13th , hundreds of civilians were killed in the bombing .\" : \"H\" }\n",
      "[]\n",
      "['report']] Output after the first prompt : []\n",
      " \"Although\" : \"H\",  \"the\" : \"G\",  \"report\" : \"E\",  \", which was released before the stock market opened , did n't trigger the 190.58 - point drop in the Dow Jones Industrial Average , analysts said it did play a role in the market 's decline .\" : \"\" "
     ]
    },
    {
     "name": "stderr",
     "output_type": "stream",
     "text": [
      " 81%|████████  | 81/100 [07:24<01:52,  5.91s/it]"
     ]
    },
    {
     "name": "stdout",
     "output_type": "stream",
     "text": [
      "response of tagger : { \"Although\" : \"H\",  \"the\" : \"G\",  \"report\" : \"E\",  \", which was released before the stock market opened , did n't trigger the 190.58 - point drop in the Dow Jones Industrial Average , analysts said it did play a role in the market 's decline .\" : \"\" }\n",
      "[]\n",
      " 'Islam' ] Output after the first prompt : ['Islam']\n",
      " \"Islam\" : \"F\", "
     ]
    },
    {
     "name": "stderr",
     "output_type": "stream",
     "text": [
      " 82%|████████▏ | 82/100 [07:27<01:28,  4.92s/it]"
     ]
    },
    {
     "name": "stdout",
     "output_type": "stream",
     "text": [
      "response of tagger : { \"Islam\" : \"F\", }\n",
      "[]\n",
      "['Coming', 'next'], ['the', 'view'], ['of'], ['three'], ['former'], ['Clinton'], ['Administration'], ['officials'], ['who'], ['spent'], ['years'], ['dealing'], ['with'], ['the'], ['North'], ['Korea'], ['problem']] /. Output after the first prompt : []\n",
      " \"No\" : \"0\",  \"entities found in Coming next the view of three former Clinton Administration officials who spent years dealing with the North Korea problem former Assistant Secretary of Defense Ashton Carter chief State Department negotiator now at the Georgetown University Robert Gallucci And former US ambassador to the UN now Governor of New Mexico Bill Richardson /.\" : \"H\" "
     ]
    },
    {
     "name": "stderr",
     "output_type": "stream",
     "text": [
      " 83%|████████▎ | 83/100 [07:33<01:33,  5.50s/it]"
     ]
    },
    {
     "name": "stdout",
     "output_type": "stream",
     "text": [
      "response of tagger : { \"No\" : \"0\",  \"entities found in Coming next the view of three former Clinton Administration officials who spent years dealing with the North Korea problem former Assistant Secretary of Defense Ashton Carter chief State Department negotiator now at the Georgetown University Robert Gallucci And former US ambassador to the UN now Governor of New Mexico Bill Richardson /.\" : \"H\" }\n",
      "[]\n",
      "['Shandong'], ['more than 24']] Output after the first prompt : []\n",
      " \"Last\" : \"A\",  \"year\" : \"E\",  \"Shandong's\" : \"F\",  \"various types of economic development districts recently approved over 1480 projects utilizing foreign capital , accounting for more than 24 % of the total of the entire province .\" : \"\" "
     ]
    },
    {
     "name": "stderr",
     "output_type": "stream",
     "text": [
      " 84%|████████▍ | 84/100 [07:38<01:24,  5.25s/it]"
     ]
    },
    {
     "name": "stdout",
     "output_type": "stream",
     "text": [
      "response of tagger : { \"Last\" : \"A\",  \"year\" : \"E\",  \"Shandong's\" : \"F\",  \"various types of economic development districts recently approved over 1480 projects utilizing foreign capital , accounting for more than 24 % of the total of the entire province .\" : \"\" }\n",
      "[]\n",
      " 'Time' ] Output after the first prompt : ['Time']\n",
      " 'Time' : 'A', "
     ]
    },
    {
     "name": "stderr",
     "output_type": "stream",
     "text": [
      " 85%|████████▌ | 85/100 [07:41<01:06,  4.46s/it]"
     ]
    },
    {
     "name": "stdout",
     "output_type": "stream",
     "text": [
      "response of tagger : { 'Time' : 'A', }\n",
      "[]\n",
      " 'Dongguan' ] Output after the first prompt : ['Dongguan']\n",
      " \"Dongguan\" : \"E\", "
     ]
    },
    {
     "name": "stderr",
     "output_type": "stream",
     "text": [
      " 86%|████████▌ | 86/100 [07:44<00:55,  3.96s/it]"
     ]
    },
    {
     "name": "stdout",
     "output_type": "stream",
     "text": [
      "response of tagger : { \"Dongguan\" : \"E\", }\n",
      "[]\n",
      " 'Rumsfeld' , 'I' , 'am' , 'making' , 'you' , 'one' , 'offer' , ',', 'that' , 'you' , 'are' , 'released' , 'and' , 'choose' , 'for' , 'yourself' , 'a' , 'place' , 'of' , 'exile' , 'in' , 'any' , 'country' , 'you' , 'wish' , 'on' , 'the' , 'condition' , 'that' , 'you' , 'appear' , 'on' , 'television' , 'to' , 'announce' , 'your' , 'condemnation' , 'of' , 'the' , 'terrorism' , 'and' , 'ask' , 'your' , 'men' , 'to' , 'stop' , 'these' , 'practices' ] Output after the first prompt : ['Rumsfeld', 'I', 'am', 'making', 'you', 'one', 'offer', ',', 'that', 'you', 'are', 'released', 'and', 'choose', 'for', 'yourself', 'a', 'place', 'of', 'exile', 'in', 'any', 'country', 'you', 'wish', 'on', 'the', 'condition', 'that', 'you', 'appear', 'on', 'television', 'to', 'announce', 'your', 'condemnation', 'of', 'the', 'terrorism', 'and', 'ask', 'your', 'men', 'to', 'stop', 'these', 'practices']\n",
      " \"Rumsfeld\" : \"H\",   \"I\" : \"A\",    \"am\" : \"0\",     \"making\" : \"F\",      \"you\" : \"G\",       \"one\" : \"1\",        \"offer\" : \"8\",         \",that\" : \"B\",          \"you\" : \"G\",           \"are\" : \"A\",            \"released\" : \"0\",          \"and\" : \"C\",             \"choose\" : \"F\",              \"for\" : \"D\",                \"yourself\" : \"H\",                   \"a\" : \"E\",                    \"place\" : \"B\",                     \"of\" : \"D\",                       \"exile\" : \"0\",                        \"in\" : \"C\",                           \"any\" : \"1\",                            \"country\" : \"G\",                                \"you\" : \"G\",                                   \"wish\" : \"F\",                                      \""
     ]
    },
    {
     "name": "stderr",
     "output_type": "stream",
     "text": [
      " 87%|████████▋ | 87/100 [07:59<01:37,  7.49s/it]"
     ]
    },
    {
     "name": "stdout",
     "output_type": "stream",
     "text": [
      "response of tagger : { \"Rumsfeld\" : \"H\",   \"I\" : \"A\",    \"am\" : \"0\",     \"making\" : \"F\",      \"you\" : \"G\",       \"one\" : \"1\",        \"offer\" : \"8\",         \",that\" : \"B\",          \"you\" : \"G\",           \"are\" : \"A\",            \"released\" : \"0\",          \"and\" : \"C\",             \"choose\" : \"F\",              \"for\" : \"D\",                \"yourself\" : \"H\",                   \"a\" : \"E\",                    \"place\" : \"B\",                     \"of\" : \"D\",                       \"exile\" : \"0\",                        \"in\" : \"C\",                           \"any\" : \"1\",                            \"country\" : \"G\",                                \"you\" : \"G\",                                   \"wish\" : \"F\",                                      \"}\n",
      "[]\n",
      "['Iran']] </output>Output after the first prompt : []\n",
      " "
     ]
    },
    {
     "name": "stderr",
     "output_type": "stream",
     "text": [
      " 88%|████████▊ | 88/100 [08:02<01:11,  5.94s/it]"
     ]
    },
    {
     "name": "stdout",
     "output_type": "stream",
     "text": [
      "response of tagger : { }\n",
      "[]\n",
      " 'Hong Kong', 'airport' ] Output after the first prompt : ['Hong Kong', 'airport']\n",
      " \"Hong Kong\" : \"E\",  \"airport\" : \"0\" "
     ]
    },
    {
     "name": "stderr",
     "output_type": "stream",
     "text": [
      " 89%|████████▉ | 89/100 [08:05<00:56,  5.10s/it]"
     ]
    },
    {
     "name": "stdout",
     "output_type": "stream",
     "text": [
      "response of tagger : { \"Hong Kong\" : \"E\",  \"airport\" : \"0\" }\n",
      "[]\n",
      "['month'], ['I']] Output after the first prompt : []\n",
      " "
     ]
    },
    {
     "name": "stderr",
     "output_type": "stream",
     "text": [
      " 90%|█████████ | 90/100 [08:07<00:42,  4.29s/it]"
     ]
    },
    {
     "name": "stdout",
     "output_type": "stream",
     "text": [
      "response of tagger : { }\n",
      "[]\n",
      " 'House', 'Ways', 'Means', 'Committee', 'tax', 'legislation', 'originates' ] Output after the first prompt : ['House', 'Ways', 'Means', 'Committee', 'tax', 'legislation', 'originates']\n",
      " \"House\": \"F\",  \"Ways\": \"E\",  \"Means\": \"E\",  \"Committee\": \"B\",  \"tax\": \"C\",  \"legislation\": \"D\",  \"originates\": \"A\" "
     ]
    },
    {
     "name": "stderr",
     "output_type": "stream",
     "text": [
      " 91%|█████████ | 91/100 [08:12<00:39,  4.44s/it]"
     ]
    },
    {
     "name": "stdout",
     "output_type": "stream",
     "text": [
      "response of tagger : { \"House\": \"F\",  \"Ways\": \"E\",  \"Means\": \"E\",  \"Committee\": \"B\",  \"tax\": \"C\",  \"legislation\": \"D\",  \"originates\": \"A\" }\n",
      "[]\n",
      "Moody's, Investors, Service] Output after the first prompt : []\n",
      " \"Moody's Investors Service Inc.\": \"B\",  "
     ]
    },
    {
     "name": "stderr",
     "output_type": "stream",
     "text": [
      " 92%|█████████▏| 92/100 [08:15<00:32,  4.02s/it]"
     ]
    },
    {
     "name": "stdout",
     "output_type": "stream",
     "text": [
      "response of tagger : { \"Moody's Investors Service Inc.\": \"B\",  }\n",
      "[]\n",
      "['1 billion US dollars']] Output after the first prompt : []\n",
      " \"The\" : \"0\",  \"entire\" : \"0\",  \"province\" : \"E\",  \"has\" : \"A\",  \"actually\" : \"0\",  \"utilized\" : \"0\",  \"foreign\" : \"0\",  \"funds\" : \"MONEY\",  \"of\" : \"0\",  \"nearly\" : \"0\",  \"1 billion\" : \"CARDINAL\",  \"US dollars\" : \"MONEY\",  \", and has established a large number of extroverted agricultural \" three capital \" enterprises which combine agriculture , industry , trade and technology and integrate manufacturing , supply and marketing , and through foreign merchants sales channels , it has also expanded its export of agricultural products .\" "
     ]
    },
    {
     "name": "stderr",
     "output_type": "stream",
     "text": [
      " 93%|█████████▎| 93/100 [08:22<00:35,  5.06s/it]"
     ]
    },
    {
     "name": "stdout",
     "output_type": "stream",
     "text": [
      "response of tagger : { \"The\" : \"0\",  \"entire\" : \"0\",  \"province\" : \"E\",  \"has\" : \"A\",  \"actually\" : \"0\",  \"utilized\" : \"0\",  \"foreign\" : \"0\",  \"funds\" : \"MONEY\",  \"of\" : \"0\",  \"nearly\" : \"0\",  \"1 billion\" : \"CARDINAL\",  \"US dollars\" : \"MONEY\",  \", and has established a large number of extroverted agricultural \" three capital \" enterprises which combine agriculture , industry , trade and technology and integrate manufacturing , supply and marketing , and through foreign merchants sales channels , it has also expanded its export of agricultural products .\" }\n",
      "[]\n",
      " 'China' ] Output after the first prompt : ['China']\n",
      " \"China\" : \"E\", "
     ]
    },
    {
     "name": "stderr",
     "output_type": "stream",
     "text": [
      " 94%|█████████▍| 94/100 [08:25<00:25,  4.30s/it]"
     ]
    },
    {
     "name": "stdout",
     "output_type": "stream",
     "text": [
      "response of tagger : { \"China\" : \"E\", }\n",
      "[]\n",
      "Nicky, Allison] Output after the first prompt : []\n",
      " \"Nicky\" : \"4\",  \"Allison\" : \"4\",  \"cerebral palsy\" : \"E\",  \"Pelswick\" : \"3\",  \"13 - year - old boy\" : \"H\",  \"wheelchair\" : \"0\" "
     ]
    },
    {
     "name": "stderr",
     "output_type": "stream",
     "text": [
      " 95%|█████████▌| 95/100 [08:29<00:21,  4.31s/it]"
     ]
    },
    {
     "name": "stdout",
     "output_type": "stream",
     "text": [
      "response of tagger : { \"Nicky\" : \"4\",  \"Allison\" : \"4\",  \"cerebral palsy\" : \"E\",  \"Pelswick\" : \"3\",  \"13 - year - old boy\" : \"H\",  \"wheelchair\" : \"0\" }\n",
      "[]\n",
      "['Garden City'], ['N.Y.'], ['car - rental company']] Output after the first prompt : []\n",
      " \"The\" : \"0\",  \"Garden City\" : \"E\",  \", N.\" : \"0\",  \"Y.\" : \"E\",  \", car - rental company said it wo n't renew contracts with NWA Inc. 's Northwest Airlines unit , Pan Am Corp. 's Pan American World Airways unit and Midway Airlines at the end of this year .\" : \"\" "
     ]
    },
    {
     "name": "stderr",
     "output_type": "stream",
     "text": [
      " 96%|█████████▌| 96/100 [08:35<00:18,  4.60s/it]"
     ]
    },
    {
     "name": "stdout",
     "output_type": "stream",
     "text": [
      "response of tagger : { \"The\" : \"0\",  \"Garden City\" : \"E\",  \", N.\" : \"0\",  \"Y.\" : \"E\",  \", car - rental company said it wo n't renew contracts with NWA Inc. 's Northwest Airlines unit , Pan Am Corp. 's Pan American World Airways unit and Midway Airlines at the end of this year .\" : \"\" }\n",
      "[]\n",
      "['California'], ['utility companies'], ['power their customers need'], ['outside suppliers']] Output after the first prompt : []\n",
      " \"California\" : \"E\",  \"utility companies are not able to generate all the power their customers need , so they have turned to outside suppliers and in the face of rising prices the state 's two largest utility firms have sunk more than eight billion dollars in debt .\" : \"\" "
     ]
    },
    {
     "name": "stderr",
     "output_type": "stream",
     "text": [
      " 97%|█████████▋| 97/100 [08:39<00:14,  4.69s/it]"
     ]
    },
    {
     "name": "stdout",
     "output_type": "stream",
     "text": [
      "response of tagger : { \"California\" : \"E\",  \"utility companies are not able to generate all the power their customers need , so they have turned to outside suppliers and in the face of rising prices the state 's two largest utility firms have sunk more than eight billion dollars in debt .\" : \"\" }\n",
      "[]\n",
      " 'dollar' ] Output after the first prompt : ['dollar']\n",
      " 'dollar' : '9', "
     ]
    },
    {
     "name": "stderr",
     "output_type": "stream",
     "text": [
      " 98%|█████████▊| 98/100 [08:42<00:08,  4.06s/it]"
     ]
    },
    {
     "name": "stdout",
     "output_type": "stream",
     "text": [
      "response of tagger : { 'dollar' : '9', }\n",
      "[]\n",
      "['United', 'Nations'], ['Development', 'and', 'Planning', 'Office'], ['Industrial', 'Development', 'Organization']] Output after the first prompt : []\n",
      " \"Tumen\" : \"E\",  "
     ]
    },
    {
     "name": "stderr",
     "output_type": "stream",
     "text": [
      " 99%|█████████▉| 99/100 [08:46<00:03,  3.96s/it]"
     ]
    },
    {
     "name": "stdout",
     "output_type": "stream",
     "text": [
      "response of tagger : { \"Tumen\" : \"E\",  }\n",
      "[]\n",
      " 'Rumsfeld' , 'weapons' ] Output after the first prompt : ['Rumsfeld', 'weapons']\n",
      " \"Rumsfeld\" : \"4\",  \"weapons\" : \"8\" "
     ]
    },
    {
     "name": "stderr",
     "output_type": "stream",
     "text": [
      "100%|██████████| 100/100 [08:49<00:00,  5.29s/it]"
     ]
    },
    {
     "name": "stdout",
     "output_type": "stream",
     "text": [
      "response of tagger : { \"Rumsfeld\" : \"4\",  \"weapons\" : \"8\" }\n",
      "[]\n"
     ]
    },
    {
     "name": "stderr",
     "output_type": "stream",
     "text": [
      "\n",
      "/home/ubuntu/.local/lib/python3.10/site-packages/numpy/core/_methods.py:269: RuntimeWarning: Degrees of freedom <= 0 for slice\n",
      "  ret = _var(a, axis=axis, dtype=dtype, out=out, ddof=ddof,\n",
      "/home/ubuntu/.local/lib/python3.10/site-packages/numpy/core/_methods.py:261: RuntimeWarning: invalid value encountered in scalar divide\n",
      "  ret = ret.dtype.type(ret / rcount)\n",
      "/home/ubuntu/.local/lib/python3.10/site-packages/numpy/core/_methods.py:269: RuntimeWarning: Degrees of freedom <= 0 for slice\n",
      "  ret = _var(a, axis=axis, dtype=dtype, out=out, ddof=ddof,\n",
      "/home/ubuntu/.local/lib/python3.10/site-packages/numpy/core/_methods.py:261: RuntimeWarning: invalid value encountered in scalar divide\n",
      "  ret = ret.dtype.type(ret / rcount)\n"
     ]
    },
    {
     "data": {
      "text/html": [
       "<div>\n",
       "<style scoped>\n",
       "    .dataframe tbody tr th:only-of-type {\n",
       "        vertical-align: middle;\n",
       "    }\n",
       "\n",
       "    .dataframe tbody tr th {\n",
       "        vertical-align: top;\n",
       "    }\n",
       "\n",
       "    .dataframe thead th {\n",
       "        text-align: right;\n",
       "    }\n",
       "</style>\n",
       "<table border=\"1\" class=\"dataframe\">\n",
       "  <thead>\n",
       "    <tr style=\"text-align: right;\">\n",
       "      <th></th>\n",
       "      <th>f1_mean</th>\n",
       "      <th>f1_conf_inter</th>\n",
       "      <th>model</th>\n",
       "      <th>noshots</th>\n",
       "      <th>prompt_technique</th>\n",
       "      <th>few_shot_tecnique</th>\n",
       "      <th>nb_few_shots</th>\n",
       "      <th>precision</th>\n",
       "      <th>plus_plus</th>\n",
       "      <th>verifier</th>\n",
       "      <th>len_data_train</th>\n",
       "      <th>len_data_test</th>\n",
       "      <th>nb_test_run</th>\n",
       "      <th>confidence_interval</th>\n",
       "      <th>distribution_used</th>\n",
       "      <th>precision_mean</th>\n",
       "      <th>precision_conf_inter</th>\n",
       "      <th>recall_mean</th>\n",
       "      <th>recall_conf_inter</th>\n",
       "    </tr>\n",
       "  </thead>\n",
       "  <tbody>\n",
       "    <tr>\n",
       "      <th>0</th>\n",
       "      <td>0.119</td>\n",
       "      <td>(0.103, 0.135)</td>\n",
       "      <td>mistral-7b-v0.1</td>\n",
       "      <td>False</td>\n",
       "      <td>discussion</td>\n",
       "      <td>no-shots</td>\n",
       "      <td>0</td>\n",
       "      <td>False</td>\n",
       "      <td>True</td>\n",
       "      <td>None</td>\n",
       "      <td>1303</td>\n",
       "      <td>100</td>\n",
       "      <td>3</td>\n",
       "      <td>0.95</td>\n",
       "      <td>Student</td>\n",
       "      <td>0.18</td>\n",
       "      <td>(0.124, 0.236)</td>\n",
       "      <td>0.095</td>\n",
       "      <td>(0.087, 0.102)</td>\n",
       "    </tr>\n",
       "    <tr>\n",
       "      <th>1</th>\n",
       "      <td>0.000</td>\n",
       "      <td>(0.000, 0.000)</td>\n",
       "      <td>mistral-7b-v0.1</td>\n",
       "      <td>False</td>\n",
       "      <td>multi_prompt-get-entities-tagger</td>\n",
       "      <td>no-shots</td>\n",
       "      <td>0</td>\n",
       "      <td>False</td>\n",
       "      <td>True</td>\n",
       "      <td>None</td>\n",
       "      <td>1303</td>\n",
       "      <td>100</td>\n",
       "      <td>3</td>\n",
       "      <td>0.95</td>\n",
       "      <td>Student</td>\n",
       "      <td>0.00</td>\n",
       "      <td>(0.000, 0.000)</td>\n",
       "      <td>0.000</td>\n",
       "      <td>(0.000, 0.000)</td>\n",
       "    </tr>\n",
       "  </tbody>\n",
       "</table>\n",
       "</div>"
      ],
      "text/plain": [
       "   f1_mean   f1_conf_inter            model  noshots  \\\n",
       "0    0.119  (0.103, 0.135)  mistral-7b-v0.1    False   \n",
       "1    0.000  (0.000, 0.000)  mistral-7b-v0.1    False   \n",
       "\n",
       "                   prompt_technique few_shot_tecnique  nb_few_shots  \\\n",
       "0                        discussion          no-shots             0   \n",
       "1  multi_prompt-get-entities-tagger          no-shots             0   \n",
       "\n",
       "   precision  plus_plus verifier  len_data_train  len_data_test  nb_test_run  \\\n",
       "0      False       True     None            1303            100            3   \n",
       "1      False       True     None            1303            100            3   \n",
       "\n",
       "   confidence_interval distribution_used  precision_mean precision_conf_inter  \\\n",
       "0                 0.95           Student            0.18       (0.124, 0.236)   \n",
       "1                 0.95           Student            0.00       (0.000, 0.000)   \n",
       "\n",
       "   recall_mean recall_conf_inter  \n",
       "0        0.095    (0.087, 0.102)  \n",
       "1        0.000    (0.000, 0.000)  "
      ]
     },
     "execution_count": 1,
     "metadata": {},
     "output_type": "execute_result"
    }
   ],
   "source": [
    "# ToDo \n",
    "from llm.LLMModel import *\n",
    "from ner.llm_ner.prompt_techniques.pt_abstract import PromptTechnique\n",
    "from ner.llm_ner.prompt_techniques.pt_discussion import PT_OutputList\n",
    "from ner.llm_ner.prompt_techniques.pt_gpt_ner import PT_GPT_NER\n",
    "from ner.llm_ner.prompt_techniques.pt_wrapper import PT_Wrapper\n",
    "from ner.llm_ner.prompt_techniques.pt_multi_pt import PT_2Time_Tagger\n",
    "from ner.llm_ner.few_shots_techniques import *\n",
    "from ner.llm_ner.prompts import *\n",
    "%reload_ext autoreload\n",
    "%autoreload 2\n",
    "\n",
    "\n",
    "model = MistralAI()\n",
    "\n",
    "plus_plus = True\n",
    "pts = [\n",
    "   #  PT_GPT_NER, \n",
    "       PT_OutputList, \n",
    "      #  PT_Wrapper, \n",
    "       PT_2Time_Tagger,\n",
    "      #  PT_Filing\n",
    "       ]\n",
    "results, results_df = model.classical_test_ontonote5(pts = pts, fsts = [FST_NoShots], nb_few_shots=[0], nb_run_by_test=3, plus_plus= plus_plus, test_size = 100)\n",
    "results_df"
   ]
  },
  {
   "cell_type": "code",
   "execution_count": 2,
   "metadata": {},
   "outputs": [
    {
     "data": {
      "text/html": [
       "<div>\n",
       "<style scoped>\n",
       "    .dataframe tbody tr th:only-of-type {\n",
       "        vertical-align: middle;\n",
       "    }\n",
       "\n",
       "    .dataframe tbody tr th {\n",
       "        vertical-align: top;\n",
       "    }\n",
       "\n",
       "    .dataframe thead th {\n",
       "        text-align: right;\n",
       "    }\n",
       "</style>\n",
       "<table border=\"1\" class=\"dataframe\">\n",
       "  <thead>\n",
       "    <tr style=\"text-align: right;\">\n",
       "      <th></th>\n",
       "      <th>f1_mean</th>\n",
       "      <th>f1_conf_inter</th>\n",
       "      <th>model</th>\n",
       "      <th>noshots</th>\n",
       "      <th>prompt_technique</th>\n",
       "      <th>few_shot_tecnique</th>\n",
       "      <th>nb_few_shots</th>\n",
       "      <th>precision</th>\n",
       "      <th>plus_plus</th>\n",
       "      <th>verifier</th>\n",
       "      <th>len_data_train</th>\n",
       "      <th>len_data_test</th>\n",
       "      <th>nb_test_run</th>\n",
       "      <th>confidence_interval</th>\n",
       "      <th>distribution_used</th>\n",
       "      <th>precision_mean</th>\n",
       "      <th>precision_conf_inter</th>\n",
       "      <th>recall_mean</th>\n",
       "      <th>recall_conf_inter</th>\n",
       "    </tr>\n",
       "  </thead>\n",
       "  <tbody>\n",
       "    <tr>\n",
       "      <th>0</th>\n",
       "      <td>0.256</td>\n",
       "      <td>(nan, nan)</td>\n",
       "      <td>mistral-7b-v0.1</td>\n",
       "      <td>False</td>\n",
       "      <td>multi_prompt-get-entities-tagger</td>\n",
       "      <td>sentence</td>\n",
       "      <td>3</td>\n",
       "      <td>False</td>\n",
       "      <td>False</td>\n",
       "      <td>None</td>\n",
       "      <td>1383</td>\n",
       "      <td>20</td>\n",
       "      <td>1</td>\n",
       "      <td>0.95</td>\n",
       "      <td>Student</td>\n",
       "      <td>0.268</td>\n",
       "      <td>(nan, nan)</td>\n",
       "      <td>0.27</td>\n",
       "      <td>(nan, nan)</td>\n",
       "    </tr>\n",
       "    <tr>\n",
       "      <th>1</th>\n",
       "      <td>0.245</td>\n",
       "      <td>(nan, nan)</td>\n",
       "      <td>mistral-7b-v0.1</td>\n",
       "      <td>False</td>\n",
       "      <td>filing</td>\n",
       "      <td>sentence</td>\n",
       "      <td>3</td>\n",
       "      <td>False</td>\n",
       "      <td>False</td>\n",
       "      <td>None</td>\n",
       "      <td>1383</td>\n",
       "      <td>20</td>\n",
       "      <td>1</td>\n",
       "      <td>0.95</td>\n",
       "      <td>Student</td>\n",
       "      <td>0.339</td>\n",
       "      <td>(nan, nan)</td>\n",
       "      <td>0.20</td>\n",
       "      <td>(nan, nan)</td>\n",
       "    </tr>\n",
       "  </tbody>\n",
       "</table>\n",
       "</div>"
      ],
      "text/plain": [
       "   f1_mean f1_conf_inter            model  noshots  \\\n",
       "0    0.256    (nan, nan)  mistral-7b-v0.1    False   \n",
       "1    0.245    (nan, nan)  mistral-7b-v0.1    False   \n",
       "\n",
       "                   prompt_technique few_shot_tecnique  nb_few_shots  \\\n",
       "0  multi_prompt-get-entities-tagger          sentence             3   \n",
       "1                            filing          sentence             3   \n",
       "\n",
       "   precision  plus_plus verifier  len_data_train  len_data_test  nb_test_run  \\\n",
       "0      False      False     None            1383             20            1   \n",
       "1      False      False     None            1383             20            1   \n",
       "\n",
       "   confidence_interval distribution_used  precision_mean precision_conf_inter  \\\n",
       "0                 0.95           Student           0.268           (nan, nan)   \n",
       "1                 0.95           Student           0.339           (nan, nan)   \n",
       "\n",
       "   recall_mean recall_conf_inter  \n",
       "0         0.27        (nan, nan)  \n",
       "1         0.20        (nan, nan)  "
      ]
     },
     "execution_count": 2,
     "metadata": {},
     "output_type": "execute_result"
    }
   ],
   "source": [
    "\n",
    "results_df"
   ]
  },
  {
   "cell_type": "code",
   "execution_count": 4,
   "metadata": {},
   "outputs": [
    {
     "name": "stdout",
     "output_type": "stream",
     "text": [
      "./ner/saves/datasets/ontonote5_test_1403.pkl\n",
      "<ner.Datasets.OntoNotes5Dataset.OntoNote5Dataset object at 0x7f0608554490>\n"
     ]
    },
    {
     "data": {
      "text/plain": [
       "(<ner.Datasets.OntoNotes5Dataset.OntoNote5Dataset at 0x7f0600b5bd00>,\n",
       " <ner.Datasets.OntoNotes5Dataset.OntoNote5Dataset at 0x7f0603a8a8f0>)"
      ]
     },
     "execution_count": 4,
     "metadata": {},
     "output_type": "execute_result"
    }
   ],
   "source": [
    "ontonote_get_test_cleaned_split()"
   ]
  },
  {
   "cell_type": "code",
   "execution_count": null,
   "metadata": {},
   "outputs": [],
   "source": []
  }
 ],
 "metadata": {
  "kernelspec": {
   "display_name": "Python 3",
   "language": "python",
   "name": "python3"
  },
  "language_info": {
   "codemirror_mode": {
    "name": "ipython",
    "version": 3
   },
   "file_extension": ".py",
   "mimetype": "text/x-python",
   "name": "python",
   "nbconvert_exporter": "python",
   "pygments_lexer": "ipython3",
   "version": "3.10.12"
  }
 },
 "nbformat": 4,
 "nbformat_minor": 2
}
