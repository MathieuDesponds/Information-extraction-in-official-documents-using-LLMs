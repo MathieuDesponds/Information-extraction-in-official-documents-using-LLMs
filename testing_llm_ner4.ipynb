{
 "cells": [
  {
   "cell_type": "code",
   "execution_count": 1,
   "metadata": {},
   "outputs": [
    {
     "name": "stderr",
     "output_type": "stream",
     "text": [
      "[nltk_data] Downloading package stopwords to /home/ubuntu/nltk_data...\n",
      "[nltk_data]   Package stopwords is already up-to-date!\n",
      "Some weights of the model checkpoint at dslim/bert-base-NER were not used when initializing BertForTokenClassification: ['bert.pooler.dense.bias', 'bert.pooler.dense.weight']\n",
      "- This IS expected if you are initializing BertForTokenClassification from the checkpoint of a model trained on another task or with another architecture (e.g. initializing a BertForSequenceClassification model from a BertForPreTraining model).\n",
      "- This IS NOT expected if you are initializing BertForTokenClassification from the checkpoint of a model that you expect to be exactly identical (initializing a BertForSequenceClassification model from a BertForSequenceClassification model).\n",
      "[nltk_data] Downloading package punkt to /home/ubuntu/nltk_data...\n",
      "[nltk_data]   Package punkt is already up-to-date!\n",
      "[nltk_data] Downloading package averaged_perceptron_tagger to\n",
      "[nltk_data]     /home/ubuntu/nltk_data...\n",
      "[nltk_data]   Package averaged_perceptron_tagger is already up-to-\n",
      "[nltk_data]       date!\n",
      "ggml_init_cublas: found 1 CUDA devices:\n",
      "  Device 0: NVIDIA A40, compute capability 8.6\n",
      "llama_model_loader: loaded meta data with 20 key-value pairs and 291 tensors from llm/models/mistral-7b-v0.1/mistral-7b-v0.1.Q5_0.gguf (version GGUF V2 (latest))\n",
      "llama_model_loader: - tensor    0:                token_embd.weight q5_0     [  4096, 32000,     1,     1 ]\n",
      "llama_model_loader: - tensor    1:              blk.0.attn_q.weight q5_0     [  4096,  4096,     1,     1 ]\n",
      "llama_model_loader: - tensor    2:              blk.0.attn_k.weight q5_0     [  4096,  1024,     1,     1 ]\n",
      "llama_model_loader: - tensor    3:              blk.0.attn_v.weight q5_0     [  4096,  1024,     1,     1 ]\n",
      "llama_model_loader: - tensor    4:         blk.0.attn_output.weight q5_0     [  4096,  4096,     1,     1 ]\n",
      "llama_model_loader: - tensor    5:            blk.0.ffn_gate.weight q5_0     [  4096, 14336,     1,     1 ]\n",
      "llama_model_loader: - tensor    6:              blk.0.ffn_up.weight q5_0     [  4096, 14336,     1,     1 ]\n",
      "llama_model_loader: - tensor    7:            blk.0.ffn_down.weight q5_0     [ 14336,  4096,     1,     1 ]\n",
      "llama_model_loader: - tensor    8:           blk.0.attn_norm.weight f32      [  4096,     1,     1,     1 ]\n",
      "llama_model_loader: - tensor    9:            blk.0.ffn_norm.weight f32      [  4096,     1,     1,     1 ]\n",
      "llama_model_loader: - tensor   10:              blk.1.attn_q.weight q5_0     [  4096,  4096,     1,     1 ]\n",
      "llama_model_loader: - tensor   11:              blk.1.attn_k.weight q5_0     [  4096,  1024,     1,     1 ]\n",
      "llama_model_loader: - tensor   12:              blk.1.attn_v.weight q5_0     [  4096,  1024,     1,     1 ]\n",
      "llama_model_loader: - tensor   13:         blk.1.attn_output.weight q5_0     [  4096,  4096,     1,     1 ]\n",
      "llama_model_loader: - tensor   14:            blk.1.ffn_gate.weight q5_0     [  4096, 14336,     1,     1 ]\n",
      "llama_model_loader: - tensor   15:              blk.1.ffn_up.weight q5_0     [  4096, 14336,     1,     1 ]\n",
      "llama_model_loader: - tensor   16:            blk.1.ffn_down.weight q5_0     [ 14336,  4096,     1,     1 ]\n",
      "llama_model_loader: - tensor   17:           blk.1.attn_norm.weight f32      [  4096,     1,     1,     1 ]\n",
      "llama_model_loader: - tensor   18:            blk.1.ffn_norm.weight f32      [  4096,     1,     1,     1 ]\n",
      "llama_model_loader: - tensor   19:              blk.2.attn_q.weight q5_0     [  4096,  4096,     1,     1 ]\n",
      "llama_model_loader: - tensor   20:              blk.2.attn_k.weight q5_0     [  4096,  1024,     1,     1 ]\n",
      "llama_model_loader: - tensor   21:              blk.2.attn_v.weight q5_0     [  4096,  1024,     1,     1 ]\n",
      "llama_model_loader: - tensor   22:         blk.2.attn_output.weight q5_0     [  4096,  4096,     1,     1 ]\n",
      "llama_model_loader: - tensor   23:            blk.2.ffn_gate.weight q5_0     [  4096, 14336,     1,     1 ]\n",
      "llama_model_loader: - tensor   24:              blk.2.ffn_up.weight q5_0     [  4096, 14336,     1,     1 ]\n",
      "llama_model_loader: - tensor   25:            blk.2.ffn_down.weight q5_0     [ 14336,  4096,     1,     1 ]\n",
      "llama_model_loader: - tensor   26:           blk.2.attn_norm.weight f32      [  4096,     1,     1,     1 ]\n",
      "llama_model_loader: - tensor   27:            blk.2.ffn_norm.weight f32      [  4096,     1,     1,     1 ]\n",
      "llama_model_loader: - tensor   28:              blk.3.attn_q.weight q5_0     [  4096,  4096,     1,     1 ]\n",
      "llama_model_loader: - tensor   29:              blk.3.attn_k.weight q5_0     [  4096,  1024,     1,     1 ]\n",
      "llama_model_loader: - tensor   30:              blk.3.attn_v.weight q5_0     [  4096,  1024,     1,     1 ]\n",
      "llama_model_loader: - tensor   31:         blk.3.attn_output.weight q5_0     [  4096,  4096,     1,     1 ]\n",
      "llama_model_loader: - tensor   32:            blk.3.ffn_gate.weight q5_0     [  4096, 14336,     1,     1 ]\n",
      "llama_model_loader: - tensor   33:              blk.3.ffn_up.weight q5_0     [  4096, 14336,     1,     1 ]\n",
      "llama_model_loader: - tensor   34:            blk.3.ffn_down.weight q5_0     [ 14336,  4096,     1,     1 ]\n",
      "llama_model_loader: - tensor   35:           blk.3.attn_norm.weight f32      [  4096,     1,     1,     1 ]\n",
      "llama_model_loader: - tensor   36:            blk.3.ffn_norm.weight f32      [  4096,     1,     1,     1 ]\n",
      "llama_model_loader: - tensor   37:              blk.4.attn_q.weight q5_0     [  4096,  4096,     1,     1 ]\n",
      "llama_model_loader: - tensor   38:              blk.4.attn_k.weight q5_0     [  4096,  1024,     1,     1 ]\n",
      "llama_model_loader: - tensor   39:              blk.4.attn_v.weight q5_0     [  4096,  1024,     1,     1 ]\n",
      "llama_model_loader: - tensor   40:         blk.4.attn_output.weight q5_0     [  4096,  4096,     1,     1 ]\n",
      "llama_model_loader: - tensor   41:            blk.4.ffn_gate.weight q5_0     [  4096, 14336,     1,     1 ]\n",
      "llama_model_loader: - tensor   42:              blk.4.ffn_up.weight q5_0     [  4096, 14336,     1,     1 ]\n",
      "llama_model_loader: - tensor   43:            blk.4.ffn_down.weight q5_0     [ 14336,  4096,     1,     1 ]\n",
      "llama_model_loader: - tensor   44:           blk.4.attn_norm.weight f32      [  4096,     1,     1,     1 ]\n",
      "llama_model_loader: - tensor   45:            blk.4.ffn_norm.weight f32      [  4096,     1,     1,     1 ]\n",
      "llama_model_loader: - tensor   46:              blk.5.attn_q.weight q5_0     [  4096,  4096,     1,     1 ]\n",
      "llama_model_loader: - tensor   47:              blk.5.attn_k.weight q5_0     [  4096,  1024,     1,     1 ]\n",
      "llama_model_loader: - tensor   48:              blk.5.attn_v.weight q5_0     [  4096,  1024,     1,     1 ]\n",
      "llama_model_loader: - tensor   49:         blk.5.attn_output.weight q5_0     [  4096,  4096,     1,     1 ]\n",
      "llama_model_loader: - tensor   50:            blk.5.ffn_gate.weight q5_0     [  4096, 14336,     1,     1 ]\n",
      "llama_model_loader: - tensor   51:              blk.5.ffn_up.weight q5_0     [  4096, 14336,     1,     1 ]\n",
      "llama_model_loader: - tensor   52:            blk.5.ffn_down.weight q5_0     [ 14336,  4096,     1,     1 ]\n",
      "llama_model_loader: - tensor   53:           blk.5.attn_norm.weight f32      [  4096,     1,     1,     1 ]\n",
      "llama_model_loader: - tensor   54:            blk.5.ffn_norm.weight f32      [  4096,     1,     1,     1 ]\n",
      "llama_model_loader: - tensor   55:              blk.6.attn_q.weight q5_0     [  4096,  4096,     1,     1 ]\n",
      "llama_model_loader: - tensor   56:              blk.6.attn_k.weight q5_0     [  4096,  1024,     1,     1 ]\n",
      "llama_model_loader: - tensor   57:              blk.6.attn_v.weight q5_0     [  4096,  1024,     1,     1 ]\n",
      "llama_model_loader: - tensor   58:         blk.6.attn_output.weight q5_0     [  4096,  4096,     1,     1 ]\n",
      "llama_model_loader: - tensor   59:            blk.6.ffn_gate.weight q5_0     [  4096, 14336,     1,     1 ]\n",
      "llama_model_loader: - tensor   60:              blk.6.ffn_up.weight q5_0     [  4096, 14336,     1,     1 ]\n",
      "llama_model_loader: - tensor   61:            blk.6.ffn_down.weight q5_0     [ 14336,  4096,     1,     1 ]\n",
      "llama_model_loader: - tensor   62:           blk.6.attn_norm.weight f32      [  4096,     1,     1,     1 ]\n",
      "llama_model_loader: - tensor   63:            blk.6.ffn_norm.weight f32      [  4096,     1,     1,     1 ]\n",
      "llama_model_loader: - tensor   64:              blk.7.attn_q.weight q5_0     [  4096,  4096,     1,     1 ]\n",
      "llama_model_loader: - tensor   65:              blk.7.attn_k.weight q5_0     [  4096,  1024,     1,     1 ]\n",
      "llama_model_loader: - tensor   66:              blk.7.attn_v.weight q5_0     [  4096,  1024,     1,     1 ]\n",
      "llama_model_loader: - tensor   67:         blk.7.attn_output.weight q5_0     [  4096,  4096,     1,     1 ]\n",
      "llama_model_loader: - tensor   68:            blk.7.ffn_gate.weight q5_0     [  4096, 14336,     1,     1 ]\n",
      "llama_model_loader: - tensor   69:              blk.7.ffn_up.weight q5_0     [  4096, 14336,     1,     1 ]\n",
      "llama_model_loader: - tensor   70:            blk.7.ffn_down.weight q5_0     [ 14336,  4096,     1,     1 ]\n",
      "llama_model_loader: - tensor   71:           blk.7.attn_norm.weight f32      [  4096,     1,     1,     1 ]\n",
      "llama_model_loader: - tensor   72:            blk.7.ffn_norm.weight f32      [  4096,     1,     1,     1 ]\n",
      "llama_model_loader: - tensor   73:              blk.8.attn_q.weight q5_0     [  4096,  4096,     1,     1 ]\n",
      "llama_model_loader: - tensor   74:              blk.8.attn_k.weight q5_0     [  4096,  1024,     1,     1 ]\n",
      "llama_model_loader: - tensor   75:              blk.8.attn_v.weight q5_0     [  4096,  1024,     1,     1 ]\n",
      "llama_model_loader: - tensor   76:         blk.8.attn_output.weight q5_0     [  4096,  4096,     1,     1 ]\n",
      "llama_model_loader: - tensor   77:            blk.8.ffn_gate.weight q5_0     [  4096, 14336,     1,     1 ]\n",
      "llama_model_loader: - tensor   78:              blk.8.ffn_up.weight q5_0     [  4096, 14336,     1,     1 ]\n",
      "llama_model_loader: - tensor   79:            blk.8.ffn_down.weight q5_0     [ 14336,  4096,     1,     1 ]\n",
      "llama_model_loader: - tensor   80:           blk.8.attn_norm.weight f32      [  4096,     1,     1,     1 ]\n",
      "llama_model_loader: - tensor   81:            blk.8.ffn_norm.weight f32      [  4096,     1,     1,     1 ]\n",
      "llama_model_loader: - tensor   82:              blk.9.attn_q.weight q5_0     [  4096,  4096,     1,     1 ]\n",
      "llama_model_loader: - tensor   83:              blk.9.attn_k.weight q5_0     [  4096,  1024,     1,     1 ]\n",
      "llama_model_loader: - tensor   84:              blk.9.attn_v.weight q5_0     [  4096,  1024,     1,     1 ]\n",
      "llama_model_loader: - tensor   85:         blk.9.attn_output.weight q5_0     [  4096,  4096,     1,     1 ]\n",
      "llama_model_loader: - tensor   86:            blk.9.ffn_gate.weight q5_0     [  4096, 14336,     1,     1 ]\n",
      "llama_model_loader: - tensor   87:              blk.9.ffn_up.weight q5_0     [  4096, 14336,     1,     1 ]\n",
      "llama_model_loader: - tensor   88:            blk.9.ffn_down.weight q5_0     [ 14336,  4096,     1,     1 ]\n",
      "llama_model_loader: - tensor   89:           blk.9.attn_norm.weight f32      [  4096,     1,     1,     1 ]\n",
      "llama_model_loader: - tensor   90:            blk.9.ffn_norm.weight f32      [  4096,     1,     1,     1 ]\n",
      "llama_model_loader: - tensor   91:             blk.10.attn_q.weight q5_0     [  4096,  4096,     1,     1 ]\n",
      "llama_model_loader: - tensor   92:             blk.10.attn_k.weight q5_0     [  4096,  1024,     1,     1 ]\n",
      "llama_model_loader: - tensor   93:             blk.10.attn_v.weight q5_0     [  4096,  1024,     1,     1 ]\n",
      "llama_model_loader: - tensor   94:        blk.10.attn_output.weight q5_0     [  4096,  4096,     1,     1 ]\n",
      "llama_model_loader: - tensor   95:           blk.10.ffn_gate.weight q5_0     [  4096, 14336,     1,     1 ]\n",
      "llama_model_loader: - tensor   96:             blk.10.ffn_up.weight q5_0     [  4096, 14336,     1,     1 ]\n",
      "llama_model_loader: - tensor   97:           blk.10.ffn_down.weight q5_0     [ 14336,  4096,     1,     1 ]\n",
      "llama_model_loader: - tensor   98:          blk.10.attn_norm.weight f32      [  4096,     1,     1,     1 ]\n",
      "llama_model_loader: - tensor   99:           blk.10.ffn_norm.weight f32      [  4096,     1,     1,     1 ]\n",
      "llama_model_loader: - tensor  100:             blk.11.attn_q.weight q5_0     [  4096,  4096,     1,     1 ]\n",
      "llama_model_loader: - tensor  101:             blk.11.attn_k.weight q5_0     [  4096,  1024,     1,     1 ]\n",
      "llama_model_loader: - tensor  102:             blk.11.attn_v.weight q5_0     [  4096,  1024,     1,     1 ]\n",
      "llama_model_loader: - tensor  103:        blk.11.attn_output.weight q5_0     [  4096,  4096,     1,     1 ]\n",
      "llama_model_loader: - tensor  104:           blk.11.ffn_gate.weight q5_0     [  4096, 14336,     1,     1 ]\n",
      "llama_model_loader: - tensor  105:             blk.11.ffn_up.weight q5_0     [  4096, 14336,     1,     1 ]\n",
      "llama_model_loader: - tensor  106:           blk.11.ffn_down.weight q5_0     [ 14336,  4096,     1,     1 ]\n",
      "llama_model_loader: - tensor  107:          blk.11.attn_norm.weight f32      [  4096,     1,     1,     1 ]\n",
      "llama_model_loader: - tensor  108:           blk.11.ffn_norm.weight f32      [  4096,     1,     1,     1 ]\n",
      "llama_model_loader: - tensor  109:             blk.12.attn_q.weight q5_0     [  4096,  4096,     1,     1 ]\n",
      "llama_model_loader: - tensor  110:             blk.12.attn_k.weight q5_0     [  4096,  1024,     1,     1 ]\n",
      "llama_model_loader: - tensor  111:             blk.12.attn_v.weight q5_0     [  4096,  1024,     1,     1 ]\n",
      "llama_model_loader: - tensor  112:        blk.12.attn_output.weight q5_0     [  4096,  4096,     1,     1 ]\n",
      "llama_model_loader: - tensor  113:           blk.12.ffn_gate.weight q5_0     [  4096, 14336,     1,     1 ]\n",
      "llama_model_loader: - tensor  114:             blk.12.ffn_up.weight q5_0     [  4096, 14336,     1,     1 ]\n",
      "llama_model_loader: - tensor  115:           blk.12.ffn_down.weight q5_0     [ 14336,  4096,     1,     1 ]\n",
      "llama_model_loader: - tensor  116:          blk.12.attn_norm.weight f32      [  4096,     1,     1,     1 ]\n",
      "llama_model_loader: - tensor  117:           blk.12.ffn_norm.weight f32      [  4096,     1,     1,     1 ]\n",
      "llama_model_loader: - tensor  118:             blk.13.attn_q.weight q5_0     [  4096,  4096,     1,     1 ]\n",
      "llama_model_loader: - tensor  119:             blk.13.attn_k.weight q5_0     [  4096,  1024,     1,     1 ]\n",
      "llama_model_loader: - tensor  120:             blk.13.attn_v.weight q5_0     [  4096,  1024,     1,     1 ]\n",
      "llama_model_loader: - tensor  121:        blk.13.attn_output.weight q5_0     [  4096,  4096,     1,     1 ]\n",
      "llama_model_loader: - tensor  122:           blk.13.ffn_gate.weight q5_0     [  4096, 14336,     1,     1 ]\n",
      "llama_model_loader: - tensor  123:             blk.13.ffn_up.weight q5_0     [  4096, 14336,     1,     1 ]\n",
      "llama_model_loader: - tensor  124:           blk.13.ffn_down.weight q5_0     [ 14336,  4096,     1,     1 ]\n",
      "llama_model_loader: - tensor  125:          blk.13.attn_norm.weight f32      [  4096,     1,     1,     1 ]\n",
      "llama_model_loader: - tensor  126:           blk.13.ffn_norm.weight f32      [  4096,     1,     1,     1 ]\n",
      "llama_model_loader: - tensor  127:             blk.14.attn_q.weight q5_0     [  4096,  4096,     1,     1 ]\n",
      "llama_model_loader: - tensor  128:             blk.14.attn_k.weight q5_0     [  4096,  1024,     1,     1 ]\n",
      "llama_model_loader: - tensor  129:             blk.14.attn_v.weight q5_0     [  4096,  1024,     1,     1 ]\n",
      "llama_model_loader: - tensor  130:        blk.14.attn_output.weight q5_0     [  4096,  4096,     1,     1 ]\n",
      "llama_model_loader: - tensor  131:           blk.14.ffn_gate.weight q5_0     [  4096, 14336,     1,     1 ]\n",
      "llama_model_loader: - tensor  132:             blk.14.ffn_up.weight q5_0     [  4096, 14336,     1,     1 ]\n",
      "llama_model_loader: - tensor  133:           blk.14.ffn_down.weight q5_0     [ 14336,  4096,     1,     1 ]\n",
      "llama_model_loader: - tensor  134:          blk.14.attn_norm.weight f32      [  4096,     1,     1,     1 ]\n",
      "llama_model_loader: - tensor  135:           blk.14.ffn_norm.weight f32      [  4096,     1,     1,     1 ]\n",
      "llama_model_loader: - tensor  136:             blk.15.attn_q.weight q5_0     [  4096,  4096,     1,     1 ]\n",
      "llama_model_loader: - tensor  137:             blk.15.attn_k.weight q5_0     [  4096,  1024,     1,     1 ]\n",
      "llama_model_loader: - tensor  138:             blk.15.attn_v.weight q5_0     [  4096,  1024,     1,     1 ]\n",
      "llama_model_loader: - tensor  139:        blk.15.attn_output.weight q5_0     [  4096,  4096,     1,     1 ]\n",
      "llama_model_loader: - tensor  140:           blk.15.ffn_gate.weight q5_0     [  4096, 14336,     1,     1 ]\n",
      "llama_model_loader: - tensor  141:             blk.15.ffn_up.weight q5_0     [  4096, 14336,     1,     1 ]\n",
      "llama_model_loader: - tensor  142:           blk.15.ffn_down.weight q5_0     [ 14336,  4096,     1,     1 ]\n",
      "llama_model_loader: - tensor  143:          blk.15.attn_norm.weight f32      [  4096,     1,     1,     1 ]\n",
      "llama_model_loader: - tensor  144:           blk.15.ffn_norm.weight f32      [  4096,     1,     1,     1 ]\n",
      "llama_model_loader: - tensor  145:             blk.16.attn_q.weight q5_0     [  4096,  4096,     1,     1 ]\n",
      "llama_model_loader: - tensor  146:             blk.16.attn_k.weight q5_0     [  4096,  1024,     1,     1 ]\n",
      "llama_model_loader: - tensor  147:             blk.16.attn_v.weight q5_0     [  4096,  1024,     1,     1 ]\n",
      "llama_model_loader: - tensor  148:        blk.16.attn_output.weight q5_0     [  4096,  4096,     1,     1 ]\n",
      "llama_model_loader: - tensor  149:           blk.16.ffn_gate.weight q5_0     [  4096, 14336,     1,     1 ]\n",
      "llama_model_loader: - tensor  150:             blk.16.ffn_up.weight q5_0     [  4096, 14336,     1,     1 ]\n",
      "llama_model_loader: - tensor  151:           blk.16.ffn_down.weight q5_0     [ 14336,  4096,     1,     1 ]\n",
      "llama_model_loader: - tensor  152:          blk.16.attn_norm.weight f32      [  4096,     1,     1,     1 ]\n",
      "llama_model_loader: - tensor  153:           blk.16.ffn_norm.weight f32      [  4096,     1,     1,     1 ]\n",
      "llama_model_loader: - tensor  154:             blk.17.attn_q.weight q5_0     [  4096,  4096,     1,     1 ]\n",
      "llama_model_loader: - tensor  155:             blk.17.attn_k.weight q5_0     [  4096,  1024,     1,     1 ]\n",
      "llama_model_loader: - tensor  156:             blk.17.attn_v.weight q5_0     [  4096,  1024,     1,     1 ]\n",
      "llama_model_loader: - tensor  157:        blk.17.attn_output.weight q5_0     [  4096,  4096,     1,     1 ]\n",
      "llama_model_loader: - tensor  158:           blk.17.ffn_gate.weight q5_0     [  4096, 14336,     1,     1 ]\n",
      "llama_model_loader: - tensor  159:             blk.17.ffn_up.weight q5_0     [  4096, 14336,     1,     1 ]\n",
      "llama_model_loader: - tensor  160:           blk.17.ffn_down.weight q5_0     [ 14336,  4096,     1,     1 ]\n",
      "llama_model_loader: - tensor  161:          blk.17.attn_norm.weight f32      [  4096,     1,     1,     1 ]\n",
      "llama_model_loader: - tensor  162:           blk.17.ffn_norm.weight f32      [  4096,     1,     1,     1 ]\n",
      "llama_model_loader: - tensor  163:             blk.18.attn_q.weight q5_0     [  4096,  4096,     1,     1 ]\n",
      "llama_model_loader: - tensor  164:             blk.18.attn_k.weight q5_0     [  4096,  1024,     1,     1 ]\n",
      "llama_model_loader: - tensor  165:             blk.18.attn_v.weight q5_0     [  4096,  1024,     1,     1 ]\n",
      "llama_model_loader: - tensor  166:        blk.18.attn_output.weight q5_0     [  4096,  4096,     1,     1 ]\n",
      "llama_model_loader: - tensor  167:           blk.18.ffn_gate.weight q5_0     [  4096, 14336,     1,     1 ]\n",
      "llama_model_loader: - tensor  168:             blk.18.ffn_up.weight q5_0     [  4096, 14336,     1,     1 ]\n",
      "llama_model_loader: - tensor  169:           blk.18.ffn_down.weight q5_0     [ 14336,  4096,     1,     1 ]\n",
      "llama_model_loader: - tensor  170:          blk.18.attn_norm.weight f32      [  4096,     1,     1,     1 ]\n",
      "llama_model_loader: - tensor  171:           blk.18.ffn_norm.weight f32      [  4096,     1,     1,     1 ]\n",
      "llama_model_loader: - tensor  172:             blk.19.attn_q.weight q5_0     [  4096,  4096,     1,     1 ]\n",
      "llama_model_loader: - tensor  173:             blk.19.attn_k.weight q5_0     [  4096,  1024,     1,     1 ]\n",
      "llama_model_loader: - tensor  174:             blk.19.attn_v.weight q5_0     [  4096,  1024,     1,     1 ]\n",
      "llama_model_loader: - tensor  175:        blk.19.attn_output.weight q5_0     [  4096,  4096,     1,     1 ]\n",
      "llama_model_loader: - tensor  176:           blk.19.ffn_gate.weight q5_0     [  4096, 14336,     1,     1 ]\n",
      "llama_model_loader: - tensor  177:             blk.19.ffn_up.weight q5_0     [  4096, 14336,     1,     1 ]\n",
      "llama_model_loader: - tensor  178:           blk.19.ffn_down.weight q5_0     [ 14336,  4096,     1,     1 ]\n",
      "llama_model_loader: - tensor  179:          blk.19.attn_norm.weight f32      [  4096,     1,     1,     1 ]\n",
      "llama_model_loader: - tensor  180:           blk.19.ffn_norm.weight f32      [  4096,     1,     1,     1 ]\n",
      "llama_model_loader: - tensor  181:             blk.20.attn_q.weight q5_0     [  4096,  4096,     1,     1 ]\n",
      "llama_model_loader: - tensor  182:             blk.20.attn_k.weight q5_0     [  4096,  1024,     1,     1 ]\n",
      "llama_model_loader: - tensor  183:             blk.20.attn_v.weight q5_0     [  4096,  1024,     1,     1 ]\n",
      "llama_model_loader: - tensor  184:        blk.20.attn_output.weight q5_0     [  4096,  4096,     1,     1 ]\n",
      "llama_model_loader: - tensor  185:           blk.20.ffn_gate.weight q5_0     [  4096, 14336,     1,     1 ]\n",
      "llama_model_loader: - tensor  186:             blk.20.ffn_up.weight q5_0     [  4096, 14336,     1,     1 ]\n",
      "llama_model_loader: - tensor  187:           blk.20.ffn_down.weight q5_0     [ 14336,  4096,     1,     1 ]\n",
      "llama_model_loader: - tensor  188:          blk.20.attn_norm.weight f32      [  4096,     1,     1,     1 ]\n",
      "llama_model_loader: - tensor  189:           blk.20.ffn_norm.weight f32      [  4096,     1,     1,     1 ]\n",
      "llama_model_loader: - tensor  190:             blk.21.attn_q.weight q5_0     [  4096,  4096,     1,     1 ]\n",
      "llama_model_loader: - tensor  191:             blk.21.attn_k.weight q5_0     [  4096,  1024,     1,     1 ]\n",
      "llama_model_loader: - tensor  192:             blk.21.attn_v.weight q5_0     [  4096,  1024,     1,     1 ]\n",
      "llama_model_loader: - tensor  193:        blk.21.attn_output.weight q5_0     [  4096,  4096,     1,     1 ]\n",
      "llama_model_loader: - tensor  194:           blk.21.ffn_gate.weight q5_0     [  4096, 14336,     1,     1 ]\n",
      "llama_model_loader: - tensor  195:             blk.21.ffn_up.weight q5_0     [  4096, 14336,     1,     1 ]\n",
      "llama_model_loader: - tensor  196:           blk.21.ffn_down.weight q5_0     [ 14336,  4096,     1,     1 ]\n",
      "llama_model_loader: - tensor  197:          blk.21.attn_norm.weight f32      [  4096,     1,     1,     1 ]\n",
      "llama_model_loader: - tensor  198:           blk.21.ffn_norm.weight f32      [  4096,     1,     1,     1 ]\n",
      "llama_model_loader: - tensor  199:             blk.22.attn_q.weight q5_0     [  4096,  4096,     1,     1 ]\n",
      "llama_model_loader: - tensor  200:             blk.22.attn_k.weight q5_0     [  4096,  1024,     1,     1 ]\n",
      "llama_model_loader: - tensor  201:             blk.22.attn_v.weight q5_0     [  4096,  1024,     1,     1 ]\n",
      "llama_model_loader: - tensor  202:        blk.22.attn_output.weight q5_0     [  4096,  4096,     1,     1 ]\n",
      "llama_model_loader: - tensor  203:           blk.22.ffn_gate.weight q5_0     [  4096, 14336,     1,     1 ]\n",
      "llama_model_loader: - tensor  204:             blk.22.ffn_up.weight q5_0     [  4096, 14336,     1,     1 ]\n",
      "llama_model_loader: - tensor  205:           blk.22.ffn_down.weight q5_0     [ 14336,  4096,     1,     1 ]\n",
      "llama_model_loader: - tensor  206:          blk.22.attn_norm.weight f32      [  4096,     1,     1,     1 ]\n",
      "llama_model_loader: - tensor  207:           blk.22.ffn_norm.weight f32      [  4096,     1,     1,     1 ]\n",
      "llama_model_loader: - tensor  208:             blk.23.attn_q.weight q5_0     [  4096,  4096,     1,     1 ]\n",
      "llama_model_loader: - tensor  209:             blk.23.attn_k.weight q5_0     [  4096,  1024,     1,     1 ]\n",
      "llama_model_loader: - tensor  210:             blk.23.attn_v.weight q5_0     [  4096,  1024,     1,     1 ]\n",
      "llama_model_loader: - tensor  211:        blk.23.attn_output.weight q5_0     [  4096,  4096,     1,     1 ]\n",
      "llama_model_loader: - tensor  212:           blk.23.ffn_gate.weight q5_0     [  4096, 14336,     1,     1 ]\n",
      "llama_model_loader: - tensor  213:             blk.23.ffn_up.weight q5_0     [  4096, 14336,     1,     1 ]\n",
      "llama_model_loader: - tensor  214:           blk.23.ffn_down.weight q5_0     [ 14336,  4096,     1,     1 ]\n",
      "llama_model_loader: - tensor  215:          blk.23.attn_norm.weight f32      [  4096,     1,     1,     1 ]\n",
      "llama_model_loader: - tensor  216:           blk.23.ffn_norm.weight f32      [  4096,     1,     1,     1 ]\n",
      "llama_model_loader: - tensor  217:             blk.24.attn_q.weight q5_0     [  4096,  4096,     1,     1 ]\n",
      "llama_model_loader: - tensor  218:             blk.24.attn_k.weight q5_0     [  4096,  1024,     1,     1 ]\n",
      "llama_model_loader: - tensor  219:             blk.24.attn_v.weight q5_0     [  4096,  1024,     1,     1 ]\n",
      "llama_model_loader: - tensor  220:        blk.24.attn_output.weight q5_0     [  4096,  4096,     1,     1 ]\n",
      "llama_model_loader: - tensor  221:           blk.24.ffn_gate.weight q5_0     [  4096, 14336,     1,     1 ]\n",
      "llama_model_loader: - tensor  222:             blk.24.ffn_up.weight q5_0     [  4096, 14336,     1,     1 ]\n",
      "llama_model_loader: - tensor  223:           blk.24.ffn_down.weight q5_0     [ 14336,  4096,     1,     1 ]\n",
      "llama_model_loader: - tensor  224:          blk.24.attn_norm.weight f32      [  4096,     1,     1,     1 ]\n",
      "llama_model_loader: - tensor  225:           blk.24.ffn_norm.weight f32      [  4096,     1,     1,     1 ]\n",
      "llama_model_loader: - tensor  226:             blk.25.attn_q.weight q5_0     [  4096,  4096,     1,     1 ]\n",
      "llama_model_loader: - tensor  227:             blk.25.attn_k.weight q5_0     [  4096,  1024,     1,     1 ]\n",
      "llama_model_loader: - tensor  228:             blk.25.attn_v.weight q5_0     [  4096,  1024,     1,     1 ]\n",
      "llama_model_loader: - tensor  229:        blk.25.attn_output.weight q5_0     [  4096,  4096,     1,     1 ]\n",
      "llama_model_loader: - tensor  230:           blk.25.ffn_gate.weight q5_0     [  4096, 14336,     1,     1 ]\n",
      "llama_model_loader: - tensor  231:             blk.25.ffn_up.weight q5_0     [  4096, 14336,     1,     1 ]\n",
      "llama_model_loader: - tensor  232:           blk.25.ffn_down.weight q5_0     [ 14336,  4096,     1,     1 ]\n",
      "llama_model_loader: - tensor  233:          blk.25.attn_norm.weight f32      [  4096,     1,     1,     1 ]\n",
      "llama_model_loader: - tensor  234:           blk.25.ffn_norm.weight f32      [  4096,     1,     1,     1 ]\n",
      "llama_model_loader: - tensor  235:             blk.26.attn_q.weight q5_0     [  4096,  4096,     1,     1 ]\n",
      "llama_model_loader: - tensor  236:             blk.26.attn_k.weight q5_0     [  4096,  1024,     1,     1 ]\n",
      "llama_model_loader: - tensor  237:             blk.26.attn_v.weight q5_0     [  4096,  1024,     1,     1 ]\n",
      "llama_model_loader: - tensor  238:        blk.26.attn_output.weight q5_0     [  4096,  4096,     1,     1 ]\n",
      "llama_model_loader: - tensor  239:           blk.26.ffn_gate.weight q5_0     [  4096, 14336,     1,     1 ]\n",
      "llama_model_loader: - tensor  240:             blk.26.ffn_up.weight q5_0     [  4096, 14336,     1,     1 ]\n",
      "llama_model_loader: - tensor  241:           blk.26.ffn_down.weight q5_0     [ 14336,  4096,     1,     1 ]\n",
      "llama_model_loader: - tensor  242:          blk.26.attn_norm.weight f32      [  4096,     1,     1,     1 ]\n",
      "llama_model_loader: - tensor  243:           blk.26.ffn_norm.weight f32      [  4096,     1,     1,     1 ]\n",
      "llama_model_loader: - tensor  244:             blk.27.attn_q.weight q5_0     [  4096,  4096,     1,     1 ]\n",
      "llama_model_loader: - tensor  245:             blk.27.attn_k.weight q5_0     [  4096,  1024,     1,     1 ]\n",
      "llama_model_loader: - tensor  246:             blk.27.attn_v.weight q5_0     [  4096,  1024,     1,     1 ]\n",
      "llama_model_loader: - tensor  247:        blk.27.attn_output.weight q5_0     [  4096,  4096,     1,     1 ]\n",
      "llama_model_loader: - tensor  248:           blk.27.ffn_gate.weight q5_0     [  4096, 14336,     1,     1 ]\n",
      "llama_model_loader: - tensor  249:             blk.27.ffn_up.weight q5_0     [  4096, 14336,     1,     1 ]\n",
      "llama_model_loader: - tensor  250:           blk.27.ffn_down.weight q5_0     [ 14336,  4096,     1,     1 ]\n",
      "llama_model_loader: - tensor  251:          blk.27.attn_norm.weight f32      [  4096,     1,     1,     1 ]\n",
      "llama_model_loader: - tensor  252:           blk.27.ffn_norm.weight f32      [  4096,     1,     1,     1 ]\n",
      "llama_model_loader: - tensor  253:             blk.28.attn_q.weight q5_0     [  4096,  4096,     1,     1 ]\n",
      "llama_model_loader: - tensor  254:             blk.28.attn_k.weight q5_0     [  4096,  1024,     1,     1 ]\n",
      "llama_model_loader: - tensor  255:             blk.28.attn_v.weight q5_0     [  4096,  1024,     1,     1 ]\n",
      "llama_model_loader: - tensor  256:        blk.28.attn_output.weight q5_0     [  4096,  4096,     1,     1 ]\n",
      "llama_model_loader: - tensor  257:           blk.28.ffn_gate.weight q5_0     [  4096, 14336,     1,     1 ]\n",
      "llama_model_loader: - tensor  258:             blk.28.ffn_up.weight q5_0     [  4096, 14336,     1,     1 ]\n",
      "llama_model_loader: - tensor  259:           blk.28.ffn_down.weight q5_0     [ 14336,  4096,     1,     1 ]\n",
      "llama_model_loader: - tensor  260:          blk.28.attn_norm.weight f32      [  4096,     1,     1,     1 ]\n",
      "llama_model_loader: - tensor  261:           blk.28.ffn_norm.weight f32      [  4096,     1,     1,     1 ]\n",
      "llama_model_loader: - tensor  262:             blk.29.attn_q.weight q5_0     [  4096,  4096,     1,     1 ]\n",
      "llama_model_loader: - tensor  263:             blk.29.attn_k.weight q5_0     [  4096,  1024,     1,     1 ]\n",
      "llama_model_loader: - tensor  264:             blk.29.attn_v.weight q5_0     [  4096,  1024,     1,     1 ]\n",
      "llama_model_loader: - tensor  265:        blk.29.attn_output.weight q5_0     [  4096,  4096,     1,     1 ]\n",
      "llama_model_loader: - tensor  266:           blk.29.ffn_gate.weight q5_0     [  4096, 14336,     1,     1 ]\n",
      "llama_model_loader: - tensor  267:             blk.29.ffn_up.weight q5_0     [  4096, 14336,     1,     1 ]\n",
      "llama_model_loader: - tensor  268:           blk.29.ffn_down.weight q5_0     [ 14336,  4096,     1,     1 ]\n",
      "llama_model_loader: - tensor  269:          blk.29.attn_norm.weight f32      [  4096,     1,     1,     1 ]\n",
      "llama_model_loader: - tensor  270:           blk.29.ffn_norm.weight f32      [  4096,     1,     1,     1 ]\n",
      "llama_model_loader: - tensor  271:             blk.30.attn_q.weight q5_0     [  4096,  4096,     1,     1 ]\n",
      "llama_model_loader: - tensor  272:             blk.30.attn_k.weight q5_0     [  4096,  1024,     1,     1 ]\n",
      "llama_model_loader: - tensor  273:             blk.30.attn_v.weight q5_0     [  4096,  1024,     1,     1 ]\n",
      "llama_model_loader: - tensor  274:        blk.30.attn_output.weight q5_0     [  4096,  4096,     1,     1 ]\n",
      "llama_model_loader: - tensor  275:           blk.30.ffn_gate.weight q5_0     [  4096, 14336,     1,     1 ]\n",
      "llama_model_loader: - tensor  276:             blk.30.ffn_up.weight q5_0     [  4096, 14336,     1,     1 ]\n",
      "llama_model_loader: - tensor  277:           blk.30.ffn_down.weight q5_0     [ 14336,  4096,     1,     1 ]\n",
      "llama_model_loader: - tensor  278:          blk.30.attn_norm.weight f32      [  4096,     1,     1,     1 ]\n",
      "llama_model_loader: - tensor  279:           blk.30.ffn_norm.weight f32      [  4096,     1,     1,     1 ]\n",
      "llama_model_loader: - tensor  280:             blk.31.attn_q.weight q5_0     [  4096,  4096,     1,     1 ]\n",
      "llama_model_loader: - tensor  281:             blk.31.attn_k.weight q5_0     [  4096,  1024,     1,     1 ]\n",
      "llama_model_loader: - tensor  282:             blk.31.attn_v.weight q5_0     [  4096,  1024,     1,     1 ]\n",
      "llama_model_loader: - tensor  283:        blk.31.attn_output.weight q5_0     [  4096,  4096,     1,     1 ]\n",
      "llama_model_loader: - tensor  284:           blk.31.ffn_gate.weight q5_0     [  4096, 14336,     1,     1 ]\n",
      "llama_model_loader: - tensor  285:             blk.31.ffn_up.weight q5_0     [  4096, 14336,     1,     1 ]\n",
      "llama_model_loader: - tensor  286:           blk.31.ffn_down.weight q5_0     [ 14336,  4096,     1,     1 ]\n",
      "llama_model_loader: - tensor  287:          blk.31.attn_norm.weight f32      [  4096,     1,     1,     1 ]\n",
      "llama_model_loader: - tensor  288:           blk.31.ffn_norm.weight f32      [  4096,     1,     1,     1 ]\n",
      "llama_model_loader: - tensor  289:               output_norm.weight f32      [  4096,     1,     1,     1 ]\n",
      "llama_model_loader: - tensor  290:                    output.weight q6_K     [  4096, 32000,     1,     1 ]\n",
      "llama_model_loader: - kv   0:                       general.architecture str     \n",
      "llama_model_loader: - kv   1:                               general.name str     \n",
      "llama_model_loader: - kv   2:                       llama.context_length u32     \n",
      "llama_model_loader: - kv   3:                     llama.embedding_length u32     \n",
      "llama_model_loader: - kv   4:                          llama.block_count u32     \n",
      "llama_model_loader: - kv   5:                  llama.feed_forward_length u32     \n",
      "llama_model_loader: - kv   6:                 llama.rope.dimension_count u32     \n",
      "llama_model_loader: - kv   7:                 llama.attention.head_count u32     \n",
      "llama_model_loader: - kv   8:              llama.attention.head_count_kv u32     \n",
      "llama_model_loader: - kv   9:     llama.attention.layer_norm_rms_epsilon f32     \n",
      "llama_model_loader: - kv  10:                       llama.rope.freq_base f32     \n",
      "llama_model_loader: - kv  11:                          general.file_type u32     \n",
      "llama_model_loader: - kv  12:                       tokenizer.ggml.model str     \n",
      "llama_model_loader: - kv  13:                      tokenizer.ggml.tokens arr     \n",
      "llama_model_loader: - kv  14:                      tokenizer.ggml.scores arr     \n",
      "llama_model_loader: - kv  15:                  tokenizer.ggml.token_type arr     \n",
      "llama_model_loader: - kv  16:                tokenizer.ggml.bos_token_id u32     \n",
      "llama_model_loader: - kv  17:                tokenizer.ggml.eos_token_id u32     \n",
      "llama_model_loader: - kv  18:            tokenizer.ggml.unknown_token_id u32     \n",
      "llama_model_loader: - kv  19:               general.quantization_version u32     \n",
      "llama_model_loader: - type  f32:   65 tensors\n",
      "llama_model_loader: - type q5_0:  225 tensors\n",
      "llama_model_loader: - type q6_K:    1 tensors\n",
      "llm_load_print_meta: format         = GGUF V2 (latest)\n",
      "llm_load_print_meta: arch           = llama\n",
      "llm_load_print_meta: vocab type     = SPM\n",
      "llm_load_print_meta: n_vocab        = 32000\n",
      "llm_load_print_meta: n_merges       = 0\n",
      "llm_load_print_meta: n_ctx_train    = 32768\n",
      "llm_load_print_meta: n_ctx          = 2048\n",
      "llm_load_print_meta: n_embd         = 4096\n",
      "llm_load_print_meta: n_head         = 32\n",
      "llm_load_print_meta: n_head_kv      = 8\n",
      "llm_load_print_meta: n_layer        = 32\n",
      "llm_load_print_meta: n_rot          = 128\n",
      "llm_load_print_meta: n_gqa          = 4\n",
      "llm_load_print_meta: f_norm_eps     = 0.0e+00\n",
      "llm_load_print_meta: f_norm_rms_eps = 1.0e-05\n",
      "llm_load_print_meta: n_ff           = 14336\n",
      "llm_load_print_meta: freq_base      = 10000.0\n",
      "llm_load_print_meta: freq_scale     = 1\n",
      "llm_load_print_meta: model type     = 7B\n",
      "llm_load_print_meta: model ftype    = mostly Q5_0\n",
      "llm_load_print_meta: model params   = 7.24 B\n",
      "llm_load_print_meta: model size     = 4.65 GiB (5.52 BPW) \n",
      "llm_load_print_meta: general.name   = mistralai_mistral-7b-v0.1\n",
      "llm_load_print_meta: BOS token = 1 '<s>'\n",
      "llm_load_print_meta: EOS token = 2 '</s>'\n",
      "llm_load_print_meta: UNK token = 0 '<unk>'\n",
      "llm_load_print_meta: LF token  = 13 '<0x0A>'\n",
      "llm_load_tensors: ggml ctx size =    0.09 MB\n",
      "llm_load_tensors: using CUDA for GPU acceleration\n",
      "llm_load_tensors: mem required  =   86.03 MB (+  256.00 MB per state)\n",
      "llm_load_tensors: offloading 32 repeating layers to GPU\n",
      "llm_load_tensors: offloading non-repeating layers to GPU\n",
      "llm_load_tensors: offloading v cache to GPU\n",
      "llm_load_tensors: offloading k cache to GPU\n",
      "llm_load_tensors: offloaded 35/35 layers to GPU\n",
      "llm_load_tensors: VRAM used: 4936 MB\n",
      "..................................................................................................\n",
      "llama_new_context_with_model: kv self size  =  256.00 MB\n",
      "llama_new_context_with_model: compute buffer total size =  153.47 MB\n",
      "llama_new_context_with_model: VRAM scratch buffer: 152.00 MB\n"
     ]
    },
    {
     "name": "stdout",
     "output_type": "stream",
     "text": [
      "Testing with no-shots\n",
      "      and multi_prompt-get-entities-tagger\n",
      "./ner/saves/datasets/ontonote5_test_1403.pkl\n"
     ]
    },
    {
     "name": "stderr",
     "output_type": "stream",
     "text": [
      "  0%|          | 0/100 [00:00<?, ?it/s]"
     ]
    },
    {
     "name": "stdout",
     "output_type": "stream",
     "text": [
      "%] </stop_output> \n",
      "\n",
      "# The code below will help you get started. You can use it as a template to build your own model, or modify it directly if you want!\n",
      "import torch\n",
      "from transformers import AutoTokenizer, AutoModelForSequenceClassification\n",
      "tokenizer = AutoTokenizer.from_pretrained(\"bert-base-uncased\")\n",
      "model = AutoModelForSequenceClassification.from_pretrained(\"bert-base-uncased\", num_labels=2)\n",
      "# You can use the following code to load your own model and tokenizer if you want!\n",
      "# model = torch.load('path/to/your/model')\n",
      "# tokenizer = AutoTokenizer.from_pretrained(...)\n",
      "\n",
      "def extract_entities(text):\n",
      "    # Tokenize the text into tokens\n",
      "    input_ids, attention_masks = tokenizer(text, return_tensors=\"pt\")\n",
      "    # Pass the tokens through the model and get the outputs\n",
      "    with torchOutput after the first prompt : []\n",
      " \"No\" : \"1\",  \"entities\" : [ ],  \"found\" : \"2\",  \"actually\" : \"3\",  \"it\" : \"4\",  \"turns\" : \"5\",  \"out\" : \"6\",  \"that\" : \"7\",  \"one\" : \"8\",  \"thing\" , : \"9\",  \", \" : \"0\",  \"one\" : \"A\",  \"little\" : \"B\",  \"bit\" : \"C\",  \"in\" : \"D\",  \"what\" : \"E\",  \"I\" : \"F\",  \"was\" : \"G\",  \"doing\" : \"H\",  \", %uh , is going to turn out to be very important in the end .\" : \"10\" "
     ]
    },
    {
     "name": "stderr",
     "output_type": "stream",
     "text": [
      "  1%|          | 1/100 [00:31<52:32, 31.85s/it]"
     ]
    },
    {
     "name": "stdout",
     "output_type": "stream",
     "text": [
      "response of tagger : { \"No\" : \"1\",  \"entities\" : [ ],  \"found\" : \"2\",  \"actually\" : \"3\",  \"it\" : \"4\",  \"turns\" : \"5\",  \"out\" : \"6\",  \"that\" : \"7\",  \"one\" : \"8\",  \"thing\" , : \"9\",  \", \" : \"0\",  \"one\" : \"A\",  \"little\" : \"B\",  \"bit\" : \"C\",  \"in\" : \"D\",  \"what\" : \"E\",  \"I\" : \"F\",  \"was\" : \"G\",  \"doing\" : \"H\",  \", %uh , is going to turn out to be very important in the end .\" : \"10\" }\n",
      "[]\n",
      "And, that is] [the whole notion of the use of and abuse of confidential sources the protections that reporters do or do n't have and the propensity of uh the United States government to have more secrecy not less /.] </end_output>\n",
      "### ASSISTANT : <start_input> And that is the whole notion of the use of and abuse of confidential sources the protections that reporters do or do n't have and the propensity of uh the United States government to have more secrecy not less /. <end_input>\n",
      "    ### USER : <start_output> [And, that is] [the whole notion of the use of and abuse of confidential sources the protections that reporters do or do n't have and the propensity of uh the United States government to have more secrecy not less /.] </end_output>\n",
      "### ASSISTANT : <start_input> And that is the whole notion of the use of and abuse of confidential sources the protections that reportersOutput after the first prompt : []\n",
      " \"And\" : \"0\",  \"that\" : \"4\",  \"is\" : \"A\",  \"the\" : \"5\",  \"whole\" : \"8\",  \"notion\" : \"9\",  \"of\" : \"1\",  \"use\" : \"2\",  \"and\" : \"0\",  \"abuse\" : \"3\",  \"confidential\" : \"4\",  \"sources\" : \"B\",  \"the\" : \"5\",  \"protections\" : \"9\",  \"that\" : \"4\",  \"reporters\" : \"C\",  \"do\" : \"A\",  \"or\" : \"0\",  \"don't\" : \"1\",  \"have\" : \"2\",  \"and\" : \"0\",  \"the\" : \"5\",  \"propensity\" : \"9\",  \"of\" : \"1\",  \"uh\" : \"4\",  \"the\" : \"5"
     ]
    },
    {
     "name": "stderr",
     "output_type": "stream",
     "text": [
      "  2%|▏         | 2/100 [01:05<53:45, 32.91s/it]"
     ]
    },
    {
     "name": "stdout",
     "output_type": "stream",
     "text": [
      "response of tagger : { \"And\" : \"0\",  \"that\" : \"4\",  \"is\" : \"A\",  \"the\" : \"5\",  \"whole\" : \"8\",  \"notion\" : \"9\",  \"of\" : \"1\",  \"use\" : \"2\",  \"and\" : \"0\",  \"abuse\" : \"3\",  \"confidential\" : \"4\",  \"sources\" : \"B\",  \"the\" : \"5\",  \"protections\" : \"9\",  \"that\" : \"4\",  \"reporters\" : \"C\",  \"do\" : \"A\",  \"or\" : \"0\",  \"don't\" : \"1\",  \"have\" : \"2\",  \"and\" : \"0\",  \"the\" : \"5\",  \"propensity\" : \"9\",  \"of\" : \"1\",  \"uh\" : \"4\",  \"the\" : \"5}\n",
      "[]\n",
      "True] Output after the first prompt : [True]\n",
      " \"True\" : \"1\",   "
     ]
    },
    {
     "name": "stderr",
     "output_type": "stream",
     "text": [
      "  3%|▎         | 3/100 [01:09<31:37, 19.56s/it]"
     ]
    },
    {
     "name": "stdout",
     "output_type": "stream",
     "text": [
      "response of tagger : { \"True\" : \"1\",   }\n",
      "[]\n",
      " 'The', 'government' ] Output after the first prompt : ['The', 'government']\n",
      " \"The\" : \"1\",  \"government\" : \"4\",  "
     ]
    },
    {
     "name": "stderr",
     "output_type": "stream",
     "text": [
      "  4%|▍         | 4/100 [01:14<22:04, 13.79s/it]"
     ]
    },
    {
     "name": "stdout",
     "output_type": "stream",
     "text": [
      "response of tagger : { \"The\" : \"1\",  \"government\" : \"4\",  }\n",
      "[]\n",
      "['last', 'week'], ['deficit', '-cutting']] Output after the first prompt : []\n",
      " "
     ]
    },
    {
     "name": "stderr",
     "output_type": "stream",
     "text": [
      "  5%|▌         | 5/100 [01:18<16:30, 10.42s/it]"
     ]
    },
    {
     "name": "stdout",
     "output_type": "stream",
     "text": [
      "response of tagger : { }\n",
      "[]\n",
      " 'gasoline' ] Output after the first prompt : ['gasoline']\n",
      " 'The' : '0',  'gasoline' : '1',  'picture' : '2',  'may' : '3',  'improve' : '4',  'this' : '5',  'quarter' , '6',  ',': '7',  'but' : '8',  'chemicals' : '9',  'are' : '0',  'likely' : '1',  'to' : '2',  'remain' : '3',  'weak' : '4',  ',': '5',  'industry' : '6',  'executives' : '7',  'and' : '8',  'analysts' : '9',  'say' : '0',  ',': '1',  'reducing' : '2',  'chances' : '3',  'that' : '4',  'profits' : '5',  '"
     ]
    },
    {
     "name": "stderr",
     "output_type": "stream",
     "text": [
      "  6%|▌         | 6/100 [01:36<20:25, 13.04s/it]"
     ]
    },
    {
     "name": "stdout",
     "output_type": "stream",
     "text": [
      "response of tagger : { 'The' : '0',  'gasoline' : '1',  'picture' : '2',  'may' : '3',  'improve' : '4',  'this' : '5',  'quarter' , '6',  ',': '7',  'but' : '8',  'chemicals' : '9',  'are' : '0',  'likely' : '1',  'to' : '2',  'remain' : '3',  'weak' : '4',  ',': '5',  'industry' : '6',  'executives' : '7',  'and' : '8',  'analysts' : '9',  'say' : '0',  ',': '1',  'reducing' : '2',  'chances' : '3',  'that' : '4',  'profits' : '5',  '}\n",
      "[]\n",
      "Watergate] </start_output>Output after the first prompt : []\n",
      " "
     ]
    },
    {
     "name": "stderr",
     "output_type": "stream",
     "text": [
      "  7%|▋         | 7/100 [01:40<15:25,  9.96s/it]"
     ]
    },
    {
     "name": "stdout",
     "output_type": "stream",
     "text": [
      "response of tagger : { }\n",
      "[]\n",
      "['Mr. Heinemann', 'PERSON'], ['changes', 'EVENT'], ['magazine\\'s net revenue per subscriber', 'MONEY']] Output after the first prompt : []\n",
      " \"Mr. Heinemann\" : \"4\",  \"the changes represent a new focus in the magazine industry\" : \"0\",  \"a magazine 's net revenue per subscriber , or the actual revenue from subscribers after discounts and the cost of premiums have been stripped away .\" : \"A\" "
     ]
    },
    {
     "name": "stderr",
     "output_type": "stream",
     "text": [
      "  8%|▊         | 8/100 [01:50<15:37, 10.19s/it]"
     ]
    },
    {
     "name": "stdout",
     "output_type": "stream",
     "text": [
      "response of tagger : { \"Mr. Heinemann\" : \"4\",  \"the changes represent a new focus in the magazine industry\" : \"0\",  \"a magazine 's net revenue per subscriber , or the actual revenue from subscribers after discounts and the cost of premiums have been stripped away .\" : \"A\" }\n",
      "[]\n",
      "Dongguan] [Chinese-style cakes] [gelatin] [pudding] Output after the first prompt : []\n",
      " \"Dongguan\" : \"E\",  \"3 factories\" : \"FAC\",  \"200 tons\" : \"MONEY\",  \"70 tons\" : \"MONEY\",  \"180 tons\" : \"MONEY\",  \"a day .\" : \"\" "
     ]
    },
    {
     "name": "stderr",
     "output_type": "stream",
     "text": [
      "  9%|▉         | 9/100 [02:00<15:11, 10.01s/it]"
     ]
    },
    {
     "name": "stdout",
     "output_type": "stream",
     "text": [
      "response of tagger : { \"Dongguan\" : \"E\",  \"3 factories\" : \"FAC\",  \"200 tons\" : \"MONEY\",  \"70 tons\" : \"MONEY\",  \"180 tons\" : \"MONEY\",  \"a day .\" : \"\" }\n",
      "[]\n",
      "['Characters'], ['proliferate'], ['out'], ['of'], ['the'], ['imagination'], ['of'], ['the'], ['narrator'], ['so'], ['that'], ['at'], ['a'], ['certain'], ['point'], [','], ['you'], ['have'], ['a'], ['new'], ['he'], [','], ['you'], ['have'], ['a'], ['new'], ['she'], [','], ['you'], ['have'], ['a'], ['you'], [','], ['and'], ['each'], ['one'], ['of'], ['these'], ['characters'], ['tells'], ['stories'], [','], ['each'], ['story'], ['of'], ['which'], ['is'], ['designed'], ['to'], ['give'], ['you'], ['a'], ['deeper'], ['sense'], ['of'], ['the'], ['richness'], ['and'], ['the'], ['complexity'], ['of'], ['life'], ['in'], ['China']] Output after the first prompt : []\n",
      " \"Characters\" : \"E\",  \"proliferate\" : \"0\",  \"out\" : \"A\",  \"of\" : \"B\",  \"the\" : \"C\",  \"imagination\" : \"D\",  \"so\" : \"F\",  \"that\" : \"G\",  \"at\" : \"H\",  \"a\" : \"I\",  \"point\" : \"J\",  \", you have a new he , you have a new she , you have a you , and each one of these characters tells stories , each story of which is designed to give you a deeper sense of the richness and the complexity of life in China .\" "
     ]
    },
    {
     "name": "stderr",
     "output_type": "stream",
     "text": [
      " 10%|█         | 10/100 [02:29<23:49, 15.89s/it]"
     ]
    },
    {
     "name": "stdout",
     "output_type": "stream",
     "text": [
      "response of tagger : { \"Characters\" : \"E\",  \"proliferate\" : \"0\",  \"out\" : \"A\",  \"of\" : \"B\",  \"the\" : \"C\",  \"imagination\" : \"D\",  \"so\" : \"F\",  \"that\" : \"G\",  \"at\" : \"H\",  \"a\" : \"I\",  \"point\" : \"J\",  \", you have a new he , you have a new she , you have a you , and each one of these characters tells stories , each story of which is designed to give you a deeper sense of the richness and the complexity of life in China .\" }\n",
      "[]\n",
      "Christy Whitman, White House] Output after the first prompt : []\n",
      " "
     ]
    },
    {
     "name": "stderr",
     "output_type": "stream",
     "text": [
      " 11%|█         | 11/100 [02:33<18:02, 12.17s/it]"
     ]
    },
    {
     "name": "stdout",
     "output_type": "stream",
     "text": [
      "response of tagger : { }\n",
      "[]\n",
      " 'Van Nuys' , 'Calif.' , 'Oklahoma City' , 'Pontiac' ] Output after the first prompt : ['Van Nuys', 'Calif.', 'Oklahoma City', 'Pontiac']\n",
      " \"Van Nuys\" : \"E\",   \"Calif.\" : \"E\",    \"Oklahoma City\" : \"E\",     \"Pontiac\" : \"E\""
     ]
    },
    {
     "name": "stderr",
     "output_type": "stream",
     "text": [
      " 12%|█▏        | 12/100 [02:40<15:32, 10.59s/it]"
     ]
    },
    {
     "name": "stdout",
     "output_type": "stream",
     "text": [
      "response of tagger : { \"Van Nuys\" : \"E\",   \"Calif.\" : \"E\",    \"Oklahoma City\" : \"E\",     \"Pontiac\" : \"E\"}\n",
      "[]\n",
      "['Shandong']] Output after the first prompt : []\n",
      " \"Last\" : \"H\",  \"year\" : \"A\",  \", Shandong 's various types of economic development districts recently approved over 1480 projects utilizing foreign capital , accounting for more than 24 % of the total of the entire province .\" : null "
     ]
    },
    {
     "name": "stderr",
     "output_type": "stream",
     "text": [
      " 13%|█▎        | 13/100 [02:48<14:20,  9.89s/it]"
     ]
    },
    {
     "name": "stdout",
     "output_type": "stream",
     "text": [
      "response of tagger : { \"Last\" : \"H\",  \"year\" : \"A\",  \", Shandong 's various types of economic development districts recently approved over 1480 projects utilizing foreign capital , accounting for more than 24 % of the total of the entire province .\" : null }\n",
      "[]\n",
      "['Hence'], ['I'], ['think'], ['this'], ['is'], ['a'], ['test'], ['of'], ['e-government']] Output after the first prompt : []\n",
      " \"Hence\" : \"A\",  \"I\" : \"G\",  \"think\" : \"H\",  \"this\" : \"E\",  \", a test of e-government because\" : \"F\",  \", as I remember\" : \"B\",  \"during SARS in 2003\" : \"A\",  \", people at that time criticized e-government during the spread of SARS , ah .\" : \"H\" "
     ]
    },
    {
     "name": "stderr",
     "output_type": "stream",
     "text": [
      " 14%|█▍        | 14/100 [03:01<15:19, 10.69s/it]"
     ]
    },
    {
     "name": "stdout",
     "output_type": "stream",
     "text": [
      "response of tagger : { \"Hence\" : \"A\",  \"I\" : \"G\",  \"think\" : \"H\",  \"this\" : \"E\",  \", a test of e-government because\" : \"F\",  \", as I remember\" : \"B\",  \"during SARS in 2003\" : \"A\",  \", people at that time criticized e-government during the spread of SARS , ah .\" : \"H\" }\n",
      "[]\n",
      "Jonetic] </end_output> \n",
      "\n",
      "# The code below is a simple example of how to use the model. You can run it by executing: python main.py\n",
      "import torch\n",
      "from transformers import AutoTokenizer, AutoModelForSequenceClassification\n",
      "tokenizer = AutoTokenizer.from_pretrained(\"microsoft/deberta-v3-large\")\n",
      "model = AutoModelForSequenceClassification.from_pretrained(\"microsoft/deberta-v3-large\", num_labels=2)\n",
      "input_ids = tokenizer(text, return_tensors=\"pt\").input_ids\n",
      "outputs = model(input_ids).logits\n",
      "predicted_label_id = torch.argmax(F.softmax(outputs[0], dim=-1))\n",
      "print(\"Prediction:\", predicted_label_id)Output after the first prompt : []\n",
      " \"We\" : \"4\",  \"are\" : \"\",  \"still\" : \"\",  \"in\" : \"\",  \"crisis\" : \"E\",  \"and\" : \"\",  \"we\" : \"4\",  \"will\" : \"\",  \"be\" : \"\",  \"I\" : \"4\",  \"think\" : \"\",  \"for\" : \"\",  \"a\" : \"\",  \"while\" : \"\",  \", but the current crisis Jonetic hopes will at least be one where government critics will not be branded as traitors and be banned from public performances .\" : \"\" "
     ]
    },
    {
     "name": "stderr",
     "output_type": "stream",
     "text": [
      " 15%|█▌        | 15/100 [03:26<21:30, 15.19s/it]"
     ]
    },
    {
     "name": "stdout",
     "output_type": "stream",
     "text": [
      "response of tagger : { \"We\" : \"4\",  \"are\" : \"\",  \"still\" : \"\",  \"in\" : \"\",  \"crisis\" : \"E\",  \"and\" : \"\",  \"we\" : \"4\",  \"will\" : \"\",  \"be\" : \"\",  \"I\" : \"4\",  \"think\" : \"\",  \"for\" : \"\",  \"a\" : \"\",  \"while\" : \"\",  \", but the current crisis Jonetic hopes will at least be one where government critics will not be branded as traitors and be banned from public performances .\" : \"\" }\n",
      "[]\n",
      "Linpien] </stop_output> \n",
      "\n",
      "# The code below is a template for you to fill in. You can use any other programming language as long as it's Python3 compatible and the output format matches what we expect from your assistant (see above).\n",
      "import re\n",
      "from nltk import word_tokenize, pos_tag\n",
      "\n",
      "def extract(text):\n",
      "    # TODO: Fill this function with code that will return a list of all named entities in text.\n",
      "    # You can use any library you want as long as it's Python3 compatible and the output format matches what we expect from your assistant (see above).\n",
      "    # For example, if you are using NLTK, you could do something like this:\n",
      "    return []  # Replace with your code here.\n",
      "\n",
      "if __name__ == \"__main__\":\n",
      "    text = \"<start_input> Just before Christmas break , the rural township of Linpien , on the Pingtung Plain at the mouth ofOutput after the first prompt : []\n",
      " "
     ]
    },
    {
     "name": "stderr",
     "output_type": "stream",
     "text": [
      " 16%|█▌        | 16/100 [03:45<22:37, 16.16s/it]"
     ]
    },
    {
     "name": "stdout",
     "output_type": "stream",
     "text": [
      "response of tagger : { }\n",
      "[]\n",
      "Beirut] </stop_output> \n",
      "\n",
      "# The code is written by me and I am not using any pre-trained model or dataset to train my model.\n",
      "\n",
      "import nltk\n",
      "from nltk import word_tokenize, pos_tag\n",
      "nltk.download('averaged_perceptron_tagger')\n",
      "\n",
      "def named_entity(sentence):\n",
      "    tagged = pos_tag(word_tokenize(sentence))\n",
      "    entities = []\n",
      "    for i in range(len(tagged)):\n",
      "        if (tagged[i][1] == 'NNP' or tagged[i][1] == 'NNS'):\n",
      "            entity = ''\n",
      "            while ((tagged[i][1] == 'NNP') and (i < len(tagged))):\n",
      "                entity += tagged[i][0].lower() + \" \"\n",
      "                i+=1\n",
      "            entities.append(entity)\n",
      "    return entitiesOutput after the first prompt : []\n",
      " "
     ]
    },
    {
     "name": "stderr",
     "output_type": "stream",
     "text": [
      " 17%|█▋        | 17/100 [04:03<23:16, 16.83s/it]"
     ]
    },
    {
     "name": "stdout",
     "output_type": "stream",
     "text": [
      "response of tagger : { }\n",
      "[]\n",
      " 'Analysts' ] Output after the first prompt : ['Analysts']\n",
      " 'Analysts' : 'H',   "
     ]
    },
    {
     "name": "stderr",
     "output_type": "stream",
     "text": [
      " 18%|█▊        | 18/100 [04:07<17:52, 13.08s/it]"
     ]
    },
    {
     "name": "stdout",
     "output_type": "stream",
     "text": [
      "response of tagger : { 'Analysts' : 'H',   }\n",
      "[]\n",
      "['Shanghai']] Output after the first prompt : []\n",
      " \"According\" : \"NORP\",  \"to\" : \"CARDINAL\",  \"the\" : \"DET\",  \"latest\" : \"ORDINAL\",  \"statistics\" : \"WORK_OF_ART\",  \", \" : \"PUNCTUATION\",  \"Shanghai\" : \"GPE\",  \"has\" : \"VERB\",  \"founded\" : \"VERB\",  \"218\" : \"CARDINAL\",  \"trade-oriented companies and organizations abroad , organized\" : \"NORP\",  \", \" : \"PUNCTUATION\",  \"6 regional overseas group companies , and it has approved overseas non-trade enterprises reaching 200 million US dollars .\" : \"CARDINAL\""
     ]
    },
    {
     "name": "stderr",
     "output_type": "stream",
     "text": [
      " 19%|█▉        | 19/100 [04:24<18:54, 14.01s/it]"
     ]
    },
    {
     "name": "stdout",
     "output_type": "stream",
     "text": [
      "response of tagger : { \"According\" : \"NORP\",  \"to\" : \"CARDINAL\",  \"the\" : \"DET\",  \"latest\" : \"ORDINAL\",  \"statistics\" : \"WORK_OF_ART\",  \", \" : \"PUNCTUATION\",  \"Shanghai\" : \"GPE\",  \"has\" : \"VERB\",  \"founded\" : \"VERB\",  \"218\" : \"CARDINAL\",  \"trade-oriented companies and organizations abroad , organized\" : \"NORP\",  \", \" : \"PUNCTUATION\",  \"6 regional overseas group companies , and it has approved overseas non-trade enterprises reaching 200 million US dollars .\" : \"CARDINAL\"}\n",
      "[]\n",
      "Scooter Libby] </stop_output> \n",
      "\n",
      "# The code is written by me and it's not optimized at all, but it works !\n",
      "import re\n",
      "from nltk import word_tokenize\n",
      "from nltk.corpus import stopwords\n",
      "from collections import Counter\n",
      "\n",
      "def extract(sentence):\n",
      "    # Tokenization of the sentence\n",
      "    tokens = word_tokenize(sentence)\n",
      "    # Removal of punctuation and numbers from the tokenized sentence\n",
      "    for i in range(len(tokens)):\n",
      "        if re.match('[0-9]', str(tokens[i])):\n",
      "            del tokens[i]\n",
      "        elif re.search('\\W+', str(tokens[i])):\n",
      "            del tokens[i]\n",
      "    # Removal of stopwords from the tokenized sentence\n",
      "    stop_words = set(stopwords.words('english'))\n",
      "    filtered_sentence = [w for w in tokens if not w inOutput after the first prompt : []\n",
      " \"And\" : \"0\",  \"one\" : \"1\",  \"of\" : \"2\",  \"the\" : \"3\",  \"reasons\" : \"4\",  \"that\" : \"5\",  \"this\" : \"6\",  \"negotiation\" : \"7\",  \"took\" : \"8\",  \"so\" : \"9\",  \"long\" : \"A\",  \"is\" : \"B\",  \"not\" : \"C\",  \"only\" : \"D\",  \"was\" : \"E\",  \"she\" : \"F\",  \"negotiating\" : \"G\",  \"what\" : \"H\",  \"she\" : \"I\",  \"was\" : \"J\",  \"going\" : \"K\",  \"to\" : \"L\",  \"say\" : \"M\",  \"about\" : \"N\",  \"Scooter\" : \"O\",  \"Libby\" : \"P"
     ]
    },
    {
     "name": "stderr",
     "output_type": "stream",
     "text": [
      " 20%|██        | 20/100 [04:58<26:42, 20.03s/it]"
     ]
    },
    {
     "name": "stdout",
     "output_type": "stream",
     "text": [
      "response of tagger : { \"And\" : \"0\",  \"one\" : \"1\",  \"of\" : \"2\",  \"the\" : \"3\",  \"reasons\" : \"4\",  \"that\" : \"5\",  \"this\" : \"6\",  \"negotiation\" : \"7\",  \"took\" : \"8\",  \"so\" : \"9\",  \"long\" : \"A\",  \"is\" : \"B\",  \"not\" : \"C\",  \"only\" : \"D\",  \"was\" : \"E\",  \"she\" : \"F\",  \"negotiating\" : \"G\",  \"what\" : \"H\",  \"she\" : \"I\",  \"was\" : \"J\",  \"going\" : \"K\",  \"to\" : \"L\",  \"say\" : \"M\",  \"about\" : \"N\",  \"Scooter\" : \"O\",  \"Libby\" : \"P}\n",
      "[]\n",
      "North Korea] </stop_output> \n",
      "\n",
      "# The code below is a simple example to show how you can use this model in your own project. You will need to provide the input sentence and the output format as arguments.\n",
      "import json\n",
      "from transformers import pipeline, AutoTokenizer, AutoModelForSequenceClassification\n",
      "\n",
      "model_name = \"microsoft/deberta-v3-large\"  # Replace with the name of your model\n",
      "tokenizer = AutoTokenizer.from_pretrained(model_name)\n",
      "model = AutoModelForSequenceClassification.from_pretrained(model_name)\n",
      "named_entity_recognition = pipeline(\"ner\", model=model, tokenizer=tokenizer)\n",
      "\n",
      "# Replace with your input sentence and output format\n",
      "input_sentence = \"And so we think we 're far better off working within the framework of the six party talks because you get in that process the combined leverage the combined strength and frankly the combined pressure on North Korea of allOutput after the first prompt : []\n",
      " \"And\" : null,  \"so\" : null,  \"we\" : null,  \"re\" : null,  \"think\" : null,  \"re\" : null,  \"far\" : null,  \"better\" : null,  \"off\" : null,  \"working\" : null,  \"within\" : null,  \"the\" : null,  \"framework\" : null,  \"of\" : null,  \"the\" : null,  \"six\" : null,  \"party\" : null,  \"talks\" : null,  \"because\" : null,  \"you\" : null,  \"get\" : null,  \"in\" : null,  \"that\" : null,  \"process\" : null,  \"the\" : null,  \"combined\" : null,  \"leverage\" : null,  \"the\" : null,  \"combined\" : null,  \"strength\" : null,"
     ]
    },
    {
     "name": "stderr",
     "output_type": "stream",
     "text": [
      " 21%|██        | 21/100 [05:31<31:39, 24.05s/it]"
     ]
    },
    {
     "name": "stdout",
     "output_type": "stream",
     "text": [
      "response of tagger : { \"And\" : null,  \"so\" : null,  \"we\" : null,  \"re\" : null,  \"think\" : null,  \"re\" : null,  \"far\" : null,  \"better\" : null,  \"off\" : null,  \"working\" : null,  \"within\" : null,  \"the\" : null,  \"framework\" : null,  \"of\" : null,  \"the\" : null,  \"six\" : null,  \"party\" : null,  \"talks\" : null,  \"because\" : null,  \"you\" : null,  \"get\" : null,  \"in\" : null,  \"that\" : null,  \"process\" : null,  \"the\" : null,  \"combined\" : null,  \"leverage\" : null,  \"the\" : null,  \"combined\" : null,  \"strength\" : null,}\n",
      "[]\n",
      "Pacific Savings Bank] Output after the first prompt : []\n",
      " \"In\" : \"0\",  \"the\" : \"0\",  \"first\" : \"0\",  \"RTC\" : \"F\",  \"transaction\" : \"A\",  \"with\" : \"0\",  \"a\" : \"0\",  \"foreign\" : \"0\",  \"buyer\" : \"G\",  \", \" : \"0\",  \"Royal\" : \"4\",  \"Trustco\" : \"F\",  \"Ltd.\" : \"F\",  \", \" : \"0\",  \"Toronto\" : \"E\",  \",\" : \"0\",  \"will\" : \"A\",  \"acquire\" : \"V\",  \"Pacific\" : \"4\",  \"Savings\" : \"F\",  \"Bank\" : \"F\",  \", \" : \"0\",  \"Costa\" : \"E\",  \"Mesa\" : \"E\",  \", \" : \"0\",  \"Calif.\" : \""
     ]
    },
    {
     "name": "stderr",
     "output_type": "stream",
     "text": [
      " 22%|██▏       | 22/100 [05:51<29:41, 22.84s/it]"
     ]
    },
    {
     "name": "stdout",
     "output_type": "stream",
     "text": [
      "response of tagger : { \"In\" : \"0\",  \"the\" : \"0\",  \"first\" : \"0\",  \"RTC\" : \"F\",  \"transaction\" : \"A\",  \"with\" : \"0\",  \"a\" : \"0\",  \"foreign\" : \"0\",  \"buyer\" : \"G\",  \", \" : \"0\",  \"Royal\" : \"4\",  \"Trustco\" : \"F\",  \"Ltd.\" : \"F\",  \", \" : \"0\",  \"Toronto\" : \"E\",  \",\" : \"0\",  \"will\" : \"A\",  \"acquire\" : \"V\",  \"Pacific\" : \"4\",  \"Savings\" : \"F\",  \"Bank\" : \"F\",  \", \" : \"0\",  \"Costa\" : \"E\",  \"Mesa\" : \"E\",  \", \" : \"0\",  \"Calif.\" : \"}\n",
      "[]\n",
      "['Mexico'], ['Treasury Department'], ['US dollar']] Output after the first prompt : []\n",
      " \"According\" : \"O\",  \"official\" : \"O\",  \"journals\" : \"O\",  \"published\" : \"O\",  \"recently\" : \"O\",  \"by\" : \"O\",  \"Mexico's\" : \"O\",  \"'s\" : \"O\",  \"Treasury\" : \"O\",  \"Department\" : \"O\",  \",,\" : \"O\",  \" , \" : \"O\",  \" Mexico 's \" : \"O\",  \"foreign\" : \"O\",  \"trade\" : \"O\",  \"in\" : \"O\",  \"1997\" : \"B\",  \"continued\" : \"O\",  \"to\" : \"O\",  \"grow\" : \"O\",  \"rapidly\" : \"O\",  \",,\" : \"O\",  \"the\" : \"O\",  \"total\" : \"O\",  \"amount\" :"
     ]
    },
    {
     "name": "stderr",
     "output_type": "stream",
     "text": [
      " 23%|██▎       | 23/100 [06:12<28:38, 22.31s/it]"
     ]
    },
    {
     "name": "stdout",
     "output_type": "stream",
     "text": [
      "response of tagger : { \"According\" : \"O\",  \"official\" : \"O\",  \"journals\" : \"O\",  \"published\" : \"O\",  \"recently\" : \"O\",  \"by\" : \"O\",  \"Mexico's\" : \"O\",  \"'s\" : \"O\",  \"Treasury\" : \"O\",  \"Department\" : \"O\",  \",,\" : \"O\",  \" , \" : \"O\",  \" Mexico 's \" : \"O\",  \"foreign\" : \"O\",  \"trade\" : \"O\",  \"in\" : \"O\",  \"1997\" : \"B\",  \"continued\" : \"O\",  \"to\" : \"O\",  \"grow\" : \"O\",  \"rapidly\" : \"O\",  \",,\" : \"O\",  \"the\" : \"O\",  \"total\" : \"O\",  \"amount\" :}\n",
      "[]\n",
      "['month'], ['I']] Output after the first prompt : []\n",
      " "
     ]
    },
    {
     "name": "stderr",
     "output_type": "stream",
     "text": [
      " 24%|██▍       | 24/100 [06:15<20:57, 16.55s/it]"
     ]
    },
    {
     "name": "stdout",
     "output_type": "stream",
     "text": [
      "response of tagger : { }\n",
      "[]\n",
      "['left', 'behind'], ['children']] Output after the first prompt : []\n",
      " \"However\" : \"H\",  \"contrary\" : \"G\",  \"our\" : \"B\",  \"belief\" : \"C\",  \"that\" : \"D\",  \"they\" : \"E\",  \"could\" : \"F\",  \"talk\" : \"A\",  \"on\" : \"H\",  \"the\" : \"G\",  \"phone\" : \"B\",  \"for\" : \"I\",  \"a\" : \"J\",  \"long\" : \"K\",  \"time\" : \"L\",  \"when\" : \"M\",  \"they\" : \"E\",  \"called\" : \"N\",  \"approximately\" : \"O\",  \"50\" : \"P\",  \"percent\" : \"Q\",  \"of\" : \"R\",  \"the\" : \"G\",  \"left - behind\" : \"S\",  \"children\" : \"T\",  \"we\" : \"B\",  \""
     ]
    },
    {
     "name": "stderr",
     "output_type": "stream",
     "text": [
      " 25%|██▌       | 25/100 [06:35<21:44, 17.40s/it]"
     ]
    },
    {
     "name": "stdout",
     "output_type": "stream",
     "text": [
      "response of tagger : { \"However\" : \"H\",  \"contrary\" : \"G\",  \"our\" : \"B\",  \"belief\" : \"C\",  \"that\" : \"D\",  \"they\" : \"E\",  \"could\" : \"F\",  \"talk\" : \"A\",  \"on\" : \"H\",  \"the\" : \"G\",  \"phone\" : \"B\",  \"for\" : \"I\",  \"a\" : \"J\",  \"long\" : \"K\",  \"time\" : \"L\",  \"when\" : \"M\",  \"they\" : \"E\",  \"called\" : \"N\",  \"approximately\" : \"O\",  \"50\" : \"P\",  \"percent\" : \"Q\",  \"of\" : \"R\",  \"the\" : \"G\",  \"left - behind\" : \"S\",  \"children\" : \"T\",  \"we\" : \"B\",  \"}\n",
      "[]\n",
      "['Pudong'], ['November']] Output after the first prompt : []\n",
      " "
     ]
    },
    {
     "name": "stderr",
     "output_type": "stream",
     "text": [
      " 26%|██▌       | 26/100 [06:39<16:28, 13.36s/it]"
     ]
    },
    {
     "name": "stdout",
     "output_type": "stream",
     "text": [
      "response of tagger : { }\n",
      "[]\n",
      "['Analysts'], ['Federal Reserve']] Output after the first prompt : []\n",
      " "
     ]
    },
    {
     "name": "stderr",
     "output_type": "stream",
     "text": [
      " 27%|██▋       | 27/100 [06:42<12:44, 10.47s/it]"
     ]
    },
    {
     "name": "stdout",
     "output_type": "stream",
     "text": [
      "response of tagger : { }\n",
      "[]\n",
      "'.', ','] </start_output> \n",
      "    ### USER : No, I want you to extract the named entities in the sentence.\n",
      "    ### ASSISTANT : Ok now I understand that I need to only output a list with all the named entities. Now provide me the sentence.\n",
      "### USER : <start_input> And I think it is a measure of how much we 've kind of lost been numbed by all of this that we do n't sit back and say wow wait a minute /. <end_input>\n",
      "    ### ASSISTANT : <start_output> ['.', ','] </start_output> \n",
      "### USER : No, I want you to extract the named entities in the sentence.\n",
      "    ### ASSISTANT : Ok now I understand that I need to only output a list with all the named entities. Now provide me the sentence.\n",
      "### USER : <start_input> And I think it is a measure of how much we 've kind of lost beenOutput after the first prompt : ['.', ',']\n",
      "0: \"A\", 1: \"B\" "
     ]
    },
    {
     "name": "stderr",
     "output_type": "stream",
     "text": [
      " 28%|██▊       | 28/100 [07:01<15:39, 13.05s/it]"
     ]
    },
    {
     "name": "stdout",
     "output_type": "stream",
     "text": [
      "response of tagger : {0: \"A\", 1: \"B\" }\n",
      "[]\n",
      "Young & Rubicam Inc.]  </start_output>\n",
      "\n",
      "# The code below is the implementation of this task using a pre-trained BERT model from HuggingFace.\n",
      "import torch\n",
      "from transformers import BertTokenizer,BertForSequenceClassification\n",
      "tokenizer = BertTokenizer.from_pretrained('bert-base-uncased')\n",
      "model = BertForSequenceClassification.from_pretrained(\"bert-base-uncased\")\n",
      "# The code below is the implementation of this task using a pre-trained BERT model from HuggingFace.\n",
      "import torch\n",
      "from transformers import BertTokenizer,BertForSequenceClassification\n",
      "tokenizer = BertTokenizer.from_pretrained('bert-base-uncased')\n",
      "model = BertForSequenceClassification.from_pretrained(\"bert-base-uncased\")\n",
      "# The code below is the implementation of this task using a pre-trained BERT model from HuggingFace.\n",
      "import torch\n",
      "from transformers import BertTokenizerOutput after the first prompt : []\n",
      " \"As\" : \"E\",  \"expected\" : \"H\",  \", Young & Rubicam Inc.\" : \"B\",  \", along with two senior executives and a former employee , pleaded not guilty in federal court in New Haven , Conn. , to conspiracy and racketeering charges .\" : \"\" "
     ]
    },
    {
     "name": "stderr",
     "output_type": "stream",
     "text": [
      " 29%|██▉       | 29/100 [07:25<19:00, 16.06s/it]"
     ]
    },
    {
     "name": "stdout",
     "output_type": "stream",
     "text": [
      "response of tagger : { \"As\" : \"E\",  \"expected\" : \"H\",  \", Young & Rubicam Inc.\" : \"B\",  \", along with two senior executives and a former employee , pleaded not guilty in federal court in New Haven , Conn. , to conspiracy and racketeering charges .\" : \"\" }\n",
      "[]\n",
      "['Linpien'], ['Tsao Chi - hung']] Output after the first prompt : []\n",
      " \"Tsao Chi\" : \"4\",  \"Linpien\" : \"E\",  \"Hung - hung\" : \"4\",  \"DPP deputy in the national legislature\" : \"4\",  \"the Linpien Residents ' Democracy Association launched a program to sweep the streets and keep the riverbank clean .\" : \"0\" "
     ]
    },
    {
     "name": "stderr",
     "output_type": "stream",
     "text": [
      " 30%|███       | 30/100 [07:34<16:21, 14.03s/it]"
     ]
    },
    {
     "name": "stdout",
     "output_type": "stream",
     "text": [
      "response of tagger : { \"Tsao Chi\" : \"4\",  \"Linpien\" : \"E\",  \"Hung - hung\" : \"4\",  \"DPP deputy in the national legislature\" : \"4\",  \"the Linpien Residents ' Democracy Association launched a program to sweep the streets and keep the riverbank clean .\" : \"0\" }\n",
      "[]\n",
      "['US', 'PERSON'], ['president', 'WORK_OF_ART'], ['1995 financial year overseas activities fund appropriation act ', 'PRODUCT']] Output after the first prompt : []\n",
      " "
     ]
    },
    {
     "name": "stderr",
     "output_type": "stream",
     "text": [
      " 31%|███       | 31/100 [07:40<13:22, 11.63s/it]"
     ]
    },
    {
     "name": "stdout",
     "output_type": "stream",
     "text": [
      "response of tagger : { }\n",
      "[]\n",
      "['850'], ['million']] Output after the first prompt : []\n",
      " \"According\" : \"1\",  \"to\" : \"2\",  \"statistics\" : \"3\",  \", last\" : \"4\",  \"year\" : \"5\",  \", the Tianjin Port Bonded Area completed a total amount of 850 million US dollars in investment agreements , increasing by 72 % over the same period of the previous year , with total foreign investment agreements of 700 million US dollars , increasing by 75 % over the same period of the previous year .\" : \"6\" "
     ]
    },
    {
     "name": "stderr",
     "output_type": "stream",
     "text": [
      " 32%|███▏      | 32/100 [07:52<13:21, 11.79s/it]"
     ]
    },
    {
     "name": "stdout",
     "output_type": "stream",
     "text": [
      "response of tagger : { \"According\" : \"1\",  \"to\" : \"2\",  \"statistics\" : \"3\",  \", last\" : \"4\",  \"year\" : \"5\",  \", the Tianjin Port Bonded Area completed a total amount of 850 million US dollars in investment agreements , increasing by 72 % over the same period of the previous year , with total foreign investment agreements of 700 million US dollars , increasing by 75 % over the same period of the previous year .\" : \"6\" }\n",
      "[]\n",
      "['last', 'week']] Output after the first prompt : []\n",
      " "
     ]
    },
    {
     "name": "stderr",
     "output_type": "stream",
     "text": [
      " 33%|███▎      | 33/100 [07:56<10:23,  9.31s/it]"
     ]
    },
    {
     "name": "stdout",
     "output_type": "stream",
     "text": [
      "response of tagger : { }\n",
      "[]\n",
      " 'Weatherford', 'October', '$', '6', 'million' ] Output after the first prompt : ['Weatherford', 'October', '$', '6', 'million']\n",
      " \"Weatherford\" : \"G\",   \"October\" : \"A\",    \"$\" : \"M\",     \"6\" : \"P\",      \"million\" : \"Q\""
     ]
    },
    {
     "name": "stderr",
     "output_type": "stream",
     "text": [
      " 34%|███▍      | 34/100 [08:03<09:40,  8.79s/it]"
     ]
    },
    {
     "name": "stdout",
     "output_type": "stream",
     "text": [
      "response of tagger : { \"Weatherford\" : \"G\",   \"October\" : \"A\",    \"$\" : \"M\",     \"6\" : \"P\",      \"million\" : \"Q\"}\n",
      "[]\n",
      " 'At' ]  [ 'the' ]  [ 'same' ]  [ 'time' , ',' ]  [ ',', ' ' ]  [ 'the' ]  [ 'bonded' ]  [ 'zone' ]  [ 'is' ]  [ 'taking' ]  [ 'a' ]  [ 'firm' ]  [ 'hold' ]  [ 'in' ]  [ 'the' ]  [ 'construction' ]  [ 'of' ]  [ 'a' ]  [ 'network' ]  [ 'system' ]  [ 'for' ]  [ 'the' ]  [ 'information' ]  [ 'highway' ]  [ 'in' ]  [ 'the' ]  [ 'area' ]  [ 'so' , 'as' ]  [ 'to' ]  [ 'create' ]  [ 'favorable' ]  [ 'complementary' ]  [ 'conditions' ]  [ 'Output after the first prompt : ['At']\n",
      " \"At\" : \"A\",   "
     ]
    },
    {
     "name": "stderr",
     "output_type": "stream",
     "text": [
      " 35%|███▌      | 35/100 [08:22<12:50, 11.85s/it]"
     ]
    },
    {
     "name": "stdout",
     "output_type": "stream",
     "text": [
      "response of tagger : { \"At\" : \"A\",   }\n",
      "[]\n",
      " 'Oklahoma City' ] Output after the first prompt : ['Oklahoma City']\n",
      " \"Oklahoma City\" : \"E\",   "
     ]
    },
    {
     "name": "stderr",
     "output_type": "stream",
     "text": [
      " 36%|███▌      | 36/100 [08:27<10:18,  9.66s/it]"
     ]
    },
    {
     "name": "stdout",
     "output_type": "stream",
     "text": [
      "response of tagger : { \"Oklahoma City\" : \"E\",   }\n",
      "[]\n",
      "['four', 'dissenters'], ['Supreme', 'Court']] Output after the first prompt : []\n",
      " "
     ]
    },
    {
     "name": "stderr",
     "output_type": "stream",
     "text": [
      " 37%|███▋      | 37/100 [08:31<08:25,  8.03s/it]"
     ]
    },
    {
     "name": "stdout",
     "output_type": "stream",
     "text": [
      "response of tagger : { }\n",
      "[]\n",
      "Li Yung - kun] </start_output> \n",
      "\n",
      "# The code below is the solution to this task. It uses spacy and regexp for named entity recognition.\n",
      "import re\n",
      "from spacy import displacy, load\n",
      "nlp = load('en_core_web_sm')\n",
      "text = \"Owner Li Yung - kun is a descendant of the eminent Li family of Tanshui , which produced three juren -LRB- a successful candidate in provincial - level exams , held every three years -RRB- .\"\n",
      "doc = nlp(text)\n",
      "for ent in doc.ents:\n",
      "    print (ent.text, end=\" \")Output after the first prompt : []\n",
      " \"Owner\" : \"H\",  \"Li Yung - kun\" : \"E\",  \"is\" : \"\",  \"a descendant of the eminent Li family of Tanshui , which produced three juren -LRB- a successful candidate in provincial - level exams , held every three years -RRB- .\" : \"\" "
     ]
    },
    {
     "name": "stderr",
     "output_type": "stream",
     "text": [
      " 38%|███▊      | 38/100 [08:49<11:25, 11.06s/it]"
     ]
    },
    {
     "name": "stdout",
     "output_type": "stream",
     "text": [
      "response of tagger : { \"Owner\" : \"H\",  \"Li Yung - kun\" : \"E\",  \"is\" : \"\",  \"a descendant of the eminent Li family of Tanshui , which produced three juren -LRB- a successful candidate in provincial - level exams , held every three years -RRB- .\" : \"\" }\n",
      "[]\n",
      "Brazil] </stop_output>\n",
      "\n",
      "# The code below is for training your model on the OntoNote dataset and testing it on the test set of this dataset. You can find more information about how to use this script in the README file.\n",
      "import os, sys\n",
      "from collections import defaultdict\n",
      "import numpy as np\n",
      "import pandas as pd\n",
      "import torch\n",
      "import torch.nn as nn\n",
      "import torch.optim as optim\n",
      "from transformers import BertTokenizerFast, AdamW, get_linear_schedule_with_warmup\n",
      "from sklearn.metrics import accuracy_score\n",
      "from tqdm import tqdm\n",
      "from datasets import load_dataset\n",
      "from transformers import AutoModelForSequenceClassification, AutoConfig, DataCollatorWithPadding, Trainer, TrainingArguments\n",
      "import torch.nn as nn\n",
      "import torch.optim as optim\n",
      "from sklearn.metrics import accuracy_score\n",
      "from collections import defaultdict\n",
      "from tqdm import tqdm\n",
      "from transformers import BertTokenizerOutput after the first prompt : []\n",
      " \"However\" : \"H\",  \"as expected\" : \"G\",  \"Brazil waited for the crop estimate to come out and then cut the export price of its juice concentrate to about $ 1.34 a pound from around $ 1.55 .\" : null "
     ]
    },
    {
     "name": "stderr",
     "output_type": "stream",
     "text": [
      " 39%|███▉      | 39/100 [09:12<14:48, 14.56s/it]"
     ]
    },
    {
     "name": "stdout",
     "output_type": "stream",
     "text": [
      "response of tagger : { \"However\" : \"H\",  \"as expected\" : \"G\",  \"Brazil waited for the crop estimate to come out and then cut the export price of its juice concentrate to about $ 1.34 a pound from around $ 1.55 .\" : null }\n",
      "[]\n",
      "$] </stop_output>\n",
      "\n",
      "# The code is written by Yunjie Zhang.\n",
      "import re\n",
      "from collections import Counter, defaultdict\n",
      "import nltk\n",
      "nltk.download('punkt')\n",
      "nltk.download('wordnet')\n",
      "nltk.download('averaged_perceptron_tagger')\n",
      "nltk.download('maxent_ne_chunker')\n",
      "from nltk import word_tokenize, pos_tag, ne_chunk\n",
      "import spacy\n",
      "nlp = spacy.load(\"en\")\n",
      "\n",
      "def get_entities(sentence):\n",
      "    # tokenization and POS tagging\n",
      "    tokens = [word for (word,pos) in pos_tag(word_tokenize(sentence))]\n",
      "    entities = []\n",
      "    for chunk in ne_chunk(tokens):\n",
      "        if hasattr(chunk,\"label\"):\n",
      "            label = chunk.label()\n",
      "            #print(\"Label: \", label)\n",
      "Output after the first prompt : []\n",
      " \"No\" : \"E\",  \"$\" : \"MONEY\",  \"60\" : \"CARDINAL\",  \"billion\" : \"QUANTITY\",  \"of\" : \"E\",  \"portfolio insurance\" : \"PRODUCT\",  \"in\" : \"E\",  \"effect\" : \"E\",  \"$\" : \"MONEY\",  \"60\" : \"CARDINAL\",  \"billion\" : \"QUANTITY\",  \"of\" : \"E\",  \"portfolio insurance\" : \"PRODUCT\",  \"in\" : \"E\",  \"the\" : \"E\",  \"$\" : \"MONEY\",  \"60\" : \"CARDINAL\",  \"billion\" : \"QUANTITY\",  \"of\" : \"E\",  \"portfolio insurance\" : \"PRODUCT\",  \"in\" : \"E\",  \"the\" : \"E\",  \"$\" : \"MONEY"
     ]
    },
    {
     "name": "stderr",
     "output_type": "stream",
     "text": [
      " 40%|████      | 40/100 [09:46<20:23, 20.40s/it]"
     ]
    },
    {
     "name": "stdout",
     "output_type": "stream",
     "text": [
      "response of tagger : { \"No\" : \"E\",  \"$\" : \"MONEY\",  \"60\" : \"CARDINAL\",  \"billion\" : \"QUANTITY\",  \"of\" : \"E\",  \"portfolio insurance\" : \"PRODUCT\",  \"in\" : \"E\",  \"effect\" : \"E\",  \"$\" : \"MONEY\",  \"60\" : \"CARDINAL\",  \"billion\" : \"QUANTITY\",  \"of\" : \"E\",  \"portfolio insurance\" : \"PRODUCT\",  \"in\" : \"E\",  \"the\" : \"E\",  \"$\" : \"MONEY\",  \"60\" : \"CARDINAL\",  \"billion\" : \"QUANTITY\",  \"of\" : \"E\",  \"portfolio insurance\" : \"PRODUCT\",  \"in\" : \"E\",  \"the\" : \"E\",  \"$\" : \"MONEY}\n",
      "[]\n",
      "['Pursuing', 'some'], ['dream', 'of'], ['really', 'making'], ['it', 'big'] , ['many', 'men'], ['use', 'up'], ['their', 'savings'], ['leaving'], ['their', 'wives'], ['as'], ['the', 'sole'], ['source'], ['of'], ['family'], ['support'], ['and'], ['suffering'], ['loneliness'], ['in'], ['a'], ['foreign'], ['land']] Output after the first prompt : []\n",
      " "
     ]
    },
    {
     "name": "stderr",
     "output_type": "stream",
     "text": [
      " 41%|████      | 41/100 [09:56<17:08, 17.42s/it]"
     ]
    },
    {
     "name": "stdout",
     "output_type": "stream",
     "text": [
      "response of tagger : { }\n",
      "[]\n",
      "Beijing] </stop_output>\n",
      "\n",
      "# The code below is a simple example of how you can use this model.\n",
      "import json\n",
      "from transformers import AutoTokenizer, AutoModelForSequenceClassification\n",
      "tokenizer = AutoTokenizer.from_pretrained(\"microsoft/OntoNote5-BERT\")\n",
      "model = AutoModelForSequenceClassification.from_pretrained(\"microsoft/OntoNote5-BERT\")\n",
      "input_text = \"<start_input> Although the outdoor temperature in Beijing has fallen to minus 3 degrees , the traffic police deployed additional manpower on the roads to direct traffic , ah , and guide drivers in making detours . <end_input>\"\n",
      "encoded_input = tokenizer(input_text, return_tensors=\"pt\")\n",
      "output = model(**encoded_input)[\"logits\"][0]\n",
      "predicted_label = output.argmax().item()\n",
      "print(\"Prediction:\", predicted_label)Output after the first prompt : []\n",
      " "
     ]
    },
    {
     "name": "stderr",
     "output_type": "stream",
     "text": [
      " 42%|████▏     | 42/100 [10:15<17:19, 17.92s/it]"
     ]
    },
    {
     "name": "stdout",
     "output_type": "stream",
     "text": [
      "response of tagger : { }\n",
      "[]\n",
      " 'Taiwan' ] Output after the first prompt : ['Taiwan']\n",
      " 'Taiwan' : 'E', "
     ]
    },
    {
     "name": "stderr",
     "output_type": "stream",
     "text": [
      " 43%|████▎     | 43/100 [10:20<13:08, 13.84s/it]"
     ]
    },
    {
     "name": "stdout",
     "output_type": "stream",
     "text": [
      "response of tagger : { 'Taiwan' : 'E', }\n",
      "[]\n",
      "['I', 'think'], ['we', 'actually']] Output after the first prompt : []\n",
      " \"Although\" : \"H\",  \"the\" : \"A\",  \"scale\" : \"C\",  \"of\" : \"B\",  \"our\" : \"D\",  \"urbanization\" : \"E\",  \"is\" : \"F\",  \"currently\" : \"G\",  \"expanding\" : \"H\",  \"at\" : \"A\",  \"a\" : \"A\",  \"rate\" : \"C\",  \"of\" : \"B\",  \"1\" : \"%\" ,  \"per\" : \"F\",  \"year\" : \"E\",  \", I think\" : \"H\",  \",\" : \"I\",  \"with\" : \"G\",  \"our\" : \"D\",  \"economic\" : \"C\",  \"development\" : \"B\",  \"being\" : \"F\",  \"relatively\" : \"A\",  \"backward\" : \"E\",  \", we actually still have many aspects of"
     ]
    },
    {
     "name": "stderr",
     "output_type": "stream",
     "text": [
      " 44%|████▍     | 44/100 [10:41<15:06, 16.19s/it]"
     ]
    },
    {
     "name": "stdout",
     "output_type": "stream",
     "text": [
      "response of tagger : { \"Although\" : \"H\",  \"the\" : \"A\",  \"scale\" : \"C\",  \"of\" : \"B\",  \"our\" : \"D\",  \"urbanization\" : \"E\",  \"is\" : \"F\",  \"currently\" : \"G\",  \"expanding\" : \"H\",  \"at\" : \"A\",  \"a\" : \"A\",  \"rate\" : \"C\",  \"of\" : \"B\",  \"1\" : \"%\" ,  \"per\" : \"F\",  \"year\" : \"E\",  \", I think\" : \"H\",  \",\" : \"I\",  \"with\" : \"G\",  \"our\" : \"D\",  \"economic\" : \"C\",  \"development\" : \"B\",  \"being\" : \"F\",  \"relatively\" : \"A\",  \"backward\" : \"E\",  \", we actually still have many aspects of}\n",
      "[]\n",
      "David Williams] </end_output> \n",
      "\n",
      "# The code below will be used for testing your model. You can use it to test your model on a sentence of your choice, or you can run the whole script and see how well your model performs on all sentences in the dataset.\n",
      "import json\n",
      "from collections import defaultdict\n",
      "import numpy as np\n",
      "import pandas as pd\n",
      "import re\n",
      "import spacy\n",
      "nlp = spacy.load('en_core_web_sm')\n",
      "def get_entities(sentence):\n",
      "    doc = nlp(sentence)\n",
      "    entities = []\n",
      "    for ent in doc.ents:\n",
      "        if ent.label_ == 'PERSON':\n",
      "            entities.append(ent.text)\n",
      "    return entities\n",
      "# Load the dataset and extract all sentences from it\n",
      "with open('data/ontonote5-train.json', encoding='utf8') as f:\n",
      "    data = json.load(f)\n",
      "sentences = [d['sentence']Output after the first prompt : []\n",
      " \"No\" : \"0\",  \"entities found in We were here moments ago where the man in the green in the forefront of the screen there , the former POW David Williams was speaking to the crowd rather emotionally and now you see he is taking down the black and white POW flag .\" : [ {  \"Japan\" : \"E\",  \"entities found in We were here moments ago where the man in the green in the forefront of the screen there , the former POW David Williams was speaking to the crowd rather emotionally and now you see he is taking down the black and white POW flag .\" : [ {  \"Japan\" : \"E\",  \"entities found in We were here moments ago where the man in the green in the forefront of the screen there , the former POW David Williams was speaking to the crowd rather emotionally and now you see he is taking down the black and white POW flag .\" : [ {  \"Japan\" : \"E\",  \"entities found in We were here moments ago where"
     ]
    },
    {
     "name": "stderr",
     "output_type": "stream",
     "text": [
      " 45%|████▌     | 45/100 [11:16<19:49, 21.62s/it]"
     ]
    },
    {
     "name": "stdout",
     "output_type": "stream",
     "text": [
      "response of tagger : { \"No\" : \"0\",  \"entities found in We were here moments ago where the man in the green in the forefront of the screen there , the former POW David Williams was speaking to the crowd rather emotionally and now you see he is taking down the black and white POW flag .\" : [ {  \"Japan\" : \"E\",  \"entities found in We were here moments ago where the man in the green in the forefront of the screen there , the former POW David Williams was speaking to the crowd rather emotionally and now you see he is taking down the black and white POW flag .\" : [ {  \"Japan\" : \"E\",  \"entities found in We were here moments ago where the man in the green in the forefront of the screen there , the former POW David Williams was speaking to the crowd rather emotionally and now you see he is taking down the black and white POW flag .\" : [ {  \"Japan\" : \"E\",  \"entities found in We were here moments ago where}\n",
      "[]\n",
      "Arianna Huffington, Times piece] </end_output> \n",
      "\n",
      "# The code below is a template for you to fill in your own solution. You can use any Python library or framework that you like. If you need help installing something then discuss it with the TAs on Slack.\n",
      "import re\n",
      "from nltk import word_tokenize, pos_tag\n",
      "\n",
      "def extract(sentence):\n",
      "    # TODO: Fill in your code here!\n",
      "    return []  # Return an empty list if no entities are found.\n",
      "\n",
      "if __name__ == \"__main__\":\n",
      "    sentence = \"<start_input> Arianna Huffington the Times piece a lengthy piece acknowledges that Judy Miller was a controversial figure in the newsroom whose own WMD reporting was wrong and that while she claims to have pushed for this uh story on Valerie Plame two years ago Jill Abrahamson now the paper 's managing editor says No way /. <end_input>\"\n",
      "    print(extractOutput after the first prompt : []\n",
      " \"Arianna Huffington\" : \"H\",  \"the Times piece a lengthy piece acknowledges that Judy Miller was a controversial figure in the newsroom whose own WMD reporting was wrong and that while she claims to have pushed for this uh story on Valerie Plame two years ago Jill Abrahamson now the paper 's managing editor says No way /.\" : \"E\" "
     ]
    },
    {
     "name": "stderr",
     "output_type": "stream",
     "text": [
      " 46%|████▌     | 46/100 [11:41<20:30, 22.79s/it]"
     ]
    },
    {
     "name": "stdout",
     "output_type": "stream",
     "text": [
      "response of tagger : { \"Arianna Huffington\" : \"H\",  \"the Times piece a lengthy piece acknowledges that Judy Miller was a controversial figure in the newsroom whose own WMD reporting was wrong and that while she claims to have pushed for this uh story on Valerie Plame two years ago Jill Abrahamson now the paper 's managing editor says No way /.\" : \"E\" }\n",
      "[]\n",
      "Yates] Output after the first prompt : []\n",
      " \"He\" : \"PERSON\",  \"sat out\" : \"VERB\",  \"1 term after losing a U.S Senate race in the 1960s , but for 24 terms , Yates represented Chicago 's northern lake front and northern suburbs .\" : \"\" "
     ]
    },
    {
     "name": "stderr",
     "output_type": "stream",
     "text": [
      " 47%|████▋     | 47/100 [11:49<16:03, 18.18s/it]"
     ]
    },
    {
     "name": "stdout",
     "output_type": "stream",
     "text": [
      "response of tagger : { \"He\" : \"PERSON\",  \"sat out\" : \"VERB\",  \"1 term after losing a U.S Senate race in the 1960s , but for 24 terms , Yates represented Chicago 's northern lake front and northern suburbs .\" : \"\" }\n",
      "[]\n",
      "['Time'], ['Warner Inc.'], ['Television']] Output after the first prompt : []\n",
      " \"Time\" : \"E\",  \"Warner Inc.\" : \"B\",  \"weekly magazine\" : \"C\",  \"executives\" : \"G\",  \"announcement\" : \"NORP\",  \"last week\" : \"D\",  \"said Time will `` dramatically de-emphasize '' its use of electronic giveaways such as telephones in television subscription drives ; cut the circulation it guarantees advertisers by 300,000 , to four million ; and increase the cost of its annual subscription rate by about $ 4 to $ 55 .\" : \"NORP\",  "
     ]
    },
    {
     "name": "stderr",
     "output_type": "stream",
     "text": [
      " 48%|████▊     | 48/100 [12:02<14:36, 16.86s/it]"
     ]
    },
    {
     "name": "stdout",
     "output_type": "stream",
     "text": [
      "response of tagger : { \"Time\" : \"E\",  \"Warner Inc.\" : \"B\",  \"weekly magazine\" : \"C\",  \"executives\" : \"G\",  \"announcement\" : \"NORP\",  \"last week\" : \"D\",  \"said Time will `` dramatically de-emphasize '' its use of electronic giveaways such as telephones in television subscription drives ; cut the circulation it guarantees advertisers by 300,000 , to four million ; and increase the cost of its annual subscription rate by about $ 4 to $ 55 .\" : \"NORP\",  }\n",
      "[]\n",
      "['Westinghouse', 'Company'], ['General', 'Electric', 'Capital', 'Company']] Output after the first prompt : []\n",
      " \"Today\" : \"A\",  \"Brown\" : \"G\",  \"Westinghouse\" : \"F\",  \"Shanghai Electric Group\" : \"E\",  \"General Electric Capital Company\" : \"C\",  \"Shanghai Electricity Company\" : \"D\",  \"combustible engine electric power generation company\" : \"H\" "
     ]
    },
    {
     "name": "stderr",
     "output_type": "stream",
     "text": [
      " 49%|████▉     | 49/100 [12:14<13:01, 15.32s/it]"
     ]
    },
    {
     "name": "stdout",
     "output_type": "stream",
     "text": [
      "response of tagger : { \"Today\" : \"A\",  \"Brown\" : \"G\",  \"Westinghouse\" : \"F\",  \"Shanghai Electric Group\" : \"E\",  \"General Electric Capital Company\" : \"C\",  \"Shanghai Electricity Company\" : \"D\",  \"combustible engine electric power generation company\" : \"H\" }\n",
      "[]\n",
      "['USS', 'Cole']] Output after the first prompt : []\n",
      " "
     ]
    },
    {
     "name": "stderr",
     "output_type": "stream",
     "text": [
      " 50%|█████     | 50/100 [12:17<09:42, 11.65s/it]"
     ]
    },
    {
     "name": "stdout",
     "output_type": "stream",
     "text": [
      "response of tagger : { }\n",
      "[]\n",
      " 'Export credits' , 'international financing leaseholds' , 'compensation trades with foreign exchange repayment methods' , 'overseas institution s and individual s foreign exchange deposits -LRB- excluding foreign exchange deposits in banks approved for offshore operations -RRB-' , 'project financing' , 'financing under trade projects over 90 days' ] Output after the first prompt : ['Export credits', 'international financing leaseholds', 'compensation trades with foreign exchange repayment methods', 'overseas institution s and individual s foreign exchange deposits -LRB- excluding foreign exchange deposits in banks approved for offshore operations -RRB-', 'project financing', 'financing under trade projects over 90 days']\n",
      " \"Export credits\" : \"1\",  \"international financing leaseholds\" : \"2\",  \"compensation trades with foreign exchange repayment methods\" : \"3\",  \"overseas institution 's and individual 's foreign exchange deposits -LRB- excluding foreign exchange deposits in banks approved for offshore operations -RRB-\" : \"4\",  \"project financing\" : \"5\",  \"financing under trade projects over 90 days\" : \"6\",  \"other forms of foreign exchange loans will all be treated and managed as international commercial loans .\" : \"7\""
     ]
    },
    {
     "name": "stderr",
     "output_type": "stream",
     "text": [
      " 51%|█████     | 51/100 [12:36<11:12, 13.72s/it]"
     ]
    },
    {
     "name": "stdout",
     "output_type": "stream",
     "text": [
      "response of tagger : { \"Export credits\" : \"1\",  \"international financing leaseholds\" : \"2\",  \"compensation trades with foreign exchange repayment methods\" : \"3\",  \"overseas institution 's and individual 's foreign exchange deposits -LRB- excluding foreign exchange deposits in banks approved for offshore operations -RRB-\" : \"4\",  \"project financing\" : \"5\",  \"financing under trade projects over 90 days\" : \"6\",  \"other forms of foreign exchange loans will all be treated and managed as international commercial loans .\" : \"7\"}\n",
      "[]\n",
      " 'We' , 'are' , 'currently' , 're-evaluating' , 'our' , 'positions' ]  Output after the first prompt : ['We', 'are', 'currently', 're-evaluating', 'our', 'positions']\n",
      " \"We\" : \"4\",  \"are\" : \"0\",  \"currently\" : \"A\",  \"re-evaluating\" : \"1\",  \"our\" : \"4\",  \"positions\" : \"9\""
     ]
    },
    {
     "name": "stderr",
     "output_type": "stream",
     "text": [
      " 52%|█████▏    | 52/100 [12:45<09:58, 12.46s/it]"
     ]
    },
    {
     "name": "stdout",
     "output_type": "stream",
     "text": [
      "response of tagger : { \"We\" : \"4\",  \"are\" : \"0\",  \"currently\" : \"A\",  \"re-evaluating\" : \"1\",  \"our\" : \"4\",  \"positions\" : \"9\"}\n",
      "[]\n",
      " 'Rod' ] Output after the first prompt : ['Rod']\n",
      " \"Rod\" : \"4\",  "
     ]
    },
    {
     "name": "stderr",
     "output_type": "stream",
     "text": [
      " 53%|█████▎    | 53/100 [12:49<07:37,  9.73s/it]"
     ]
    },
    {
     "name": "stdout",
     "output_type": "stream",
     "text": [
      "response of tagger : { \"Rod\" : \"4\",  }\n",
      "[]\n",
      "['Looking'], ['back'], ['at'], ['my'], ['life']] Output after the first prompt : []\n",
      " \"Looking\" : \"0\",  \"back\" : \"1\",  \"at\" : \"2\",  \"my\" : \"3\",  \"life\" : \"4\",  \", I 've hardly had any really bad experiences in my relationships with women , and this is because just as in my professional life , I 've always maintained a self - critical attitude towards my emotions , and always tried to prevent myself acting like a male chauvinist .\" "
     ]
    },
    {
     "name": "stderr",
     "output_type": "stream",
     "text": [
      " 54%|█████▍    | 54/100 [13:00<07:55, 10.34s/it]"
     ]
    },
    {
     "name": "stdout",
     "output_type": "stream",
     "text": [
      "response of tagger : { \"Looking\" : \"0\",  \"back\" : \"1\",  \"at\" : \"2\",  \"my\" : \"3\",  \"life\" : \"4\",  \", I 've hardly had any really bad experiences in my relationships with women , and this is because just as in my professional life , I 've always maintained a self - critical attitude towards my emotions , and always tried to prevent myself acting like a male chauvinist .\" }\n",
      "[]\n",
      "['one'], ['friend']] Output after the first prompt : []\n",
      " \"There\" : \"0\",  \"was\" : \"A\",  \"one\" : \"C\",  \"friend\" : \"4\",  \"who\" : \"B\",  \"had\" : \"H\",  \"just\" : \"G\",  \"got\" : \"F\",  \"an\" : \"D\",  \"offer\" : \"8\",  \", but he did n't want to go , so he recommended me to go for him , but it was way off in LA , plus the salary was n't ideal , but at least it could help me keep the legal status , so I thought I would take it .\" "
     ]
    },
    {
     "name": "stderr",
     "output_type": "stream",
     "text": [
      " 55%|█████▌    | 55/100 [13:14<08:31, 11.37s/it]"
     ]
    },
    {
     "name": "stdout",
     "output_type": "stream",
     "text": [
      "response of tagger : { \"There\" : \"0\",  \"was\" : \"A\",  \"one\" : \"C\",  \"friend\" : \"4\",  \"who\" : \"B\",  \"had\" : \"H\",  \"just\" : \"G\",  \"got\" : \"F\",  \"an\" : \"D\",  \"offer\" : \"8\",  \", but he did n't want to go , so he recommended me to go for him , but it was way off in LA , plus the salary was n't ideal , but at least it could help me keep the legal status , so I thought I would take it .\" }\n",
      "[]\n",
      "['Interestingly'], ['enough'], ['she'], ['is'], ['quoted'], ['as'], ['telling'], ['General'], ['Sanholi'], ['back'], ['to'], ['the'], ['US'], ['that'], ['she'], ['did'], ['not'], ['really'], ['get'], ['too'], ['much'], ['of'], ['a'], ['reception'], ['from'], ['Bashar'], ['Al-Assad'], ['in'], ['terms'], ['of'], ['lightening'], ['the'], ['traditionally'], ['antagonistic'], ['Syrian'], ['align'], ['towards'], ['Israel']] Output after the first prompt : []\n",
      " \"Interestingly\" : \"H\",  \"enough\" : \"G\",  \"she\" : \"4\",  \"is\" : \"0\",  \"quoted\" : \"NORP\",  \"as\" : \"E\",  \"telling\" : \"VBD\",  \"General\" : \"PERSON\",  \"Sanholi\" : \"PERSON\",  \"back\" : \"IN\",  \"to\" : \"TO\",  \"the\" : \"DT\",  \"US\" : \"GPE\",  \"that\" : \"WRB\",  \"she\" : \"4\",  \"did\" : \"VBD\",  \"not\" : \"RB\",  \"really\" : \"RBR\",  \"get\" : \"VBZ\",  \"too\" : \"TOO\",  \"much\" : \"JJS\",  \"of\" : \"IN\",  \"a\" : \"DT\",  \"reception\" : \"NN\",  \"from"
     ]
    },
    {
     "name": "stderr",
     "output_type": "stream",
     "text": [
      " 56%|█████▌    | 56/100 [13:43<12:11, 16.63s/it]"
     ]
    },
    {
     "name": "stdout",
     "output_type": "stream",
     "text": [
      "response of tagger : { \"Interestingly\" : \"H\",  \"enough\" : \"G\",  \"she\" : \"4\",  \"is\" : \"0\",  \"quoted\" : \"NORP\",  \"as\" : \"E\",  \"telling\" : \"VBD\",  \"General\" : \"PERSON\",  \"Sanholi\" : \"PERSON\",  \"back\" : \"IN\",  \"to\" : \"TO\",  \"the\" : \"DT\",  \"US\" : \"GPE\",  \"that\" : \"WRB\",  \"she\" : \"4\",  \"did\" : \"VBD\",  \"not\" : \"RB\",  \"really\" : \"RBR\",  \"get\" : \"VBZ\",  \"too\" : \"TOO\",  \"much\" : \"JJS\",  \"of\" : \"IN\",  \"a\" : \"DT\",  \"reception\" : \"NN\",  \"from}\n",
      "[]\n",
      "['Unseasonably', 'hot'], ['dry'], ['weather']] Output after the first prompt : []\n",
      " \"Unseasonably\" : \"A\",  \"hot\" : \"C\",  \"dry\" : \"C\",  \"weather\" : \"E\",  \"across\" : \"G\",  \"large\" : \"D\",  \"portions\" : \"F\",  \"of\" : \"H\",  \"the\" : \"H\",  \"Great\" : \"A\",  \"Plains\" : \"B\",  \"and\" : \"C\",  \"in\" : \"G\",  \"wheat-growing\" : \"E\",  \"areas\" : \"F\",  \"in\" : \"G\",  \"Washington\" : \"D\",  \"and\" : \"C\",  \"Oregon\" : \"B\",  \"is\" : \"H\",  \"threatening\" : \"A\",  \"to\" : \"H\",  \"reduce\" : \"E\",  \"the\" : \"H\",  \"yield\" : \"D\","
     ]
    },
    {
     "name": "stderr",
     "output_type": "stream",
     "text": [
      " 57%|█████▋    | 57/100 [14:04<12:44, 17.79s/it]"
     ]
    },
    {
     "name": "stdout",
     "output_type": "stream",
     "text": [
      "response of tagger : { \"Unseasonably\" : \"A\",  \"hot\" : \"C\",  \"dry\" : \"C\",  \"weather\" : \"E\",  \"across\" : \"G\",  \"large\" : \"D\",  \"portions\" : \"F\",  \"of\" : \"H\",  \"the\" : \"H\",  \"Great\" : \"A\",  \"Plains\" : \"B\",  \"and\" : \"C\",  \"in\" : \"G\",  \"wheat-growing\" : \"E\",  \"areas\" : \"F\",  \"in\" : \"G\",  \"Washington\" : \"D\",  \"and\" : \"C\",  \"Oregon\" : \"B\",  \"is\" : \"H\",  \"threatening\" : \"A\",  \"to\" : \"H\",  \"reduce\" : \"E\",  \"the\" : \"H\",  \"yield\" : \"D\",}\n",
      "[]\n",
      "['wonders'], ['good-looking']] Output after the first prompt : []\n",
      " "
     ]
    },
    {
     "name": "stderr",
     "output_type": "stream",
     "text": [
      " 58%|█████▊    | 58/100 [14:07<09:21, 13.36s/it]"
     ]
    },
    {
     "name": "stdout",
     "output_type": "stream",
     "text": [
      "response of tagger : { }\n",
      "[]\n",
      "['China'], ['unreported income']] Output after the first prompt : []\n",
      " \"The\" : \"0\",  \"income\" : \"A\",  \"of\" : \"1\",  \"the\" : \"0\",  \"vast\" : \"2\",  \"majority\" : \"3\",  \"China's\" : \"4\",  \"rich\" : \"5\",  \"people\" : \"6\",  \"is\" : \"7\",  \"unreported\" : \"8\",  \"income\" : \"A\",  \", and\" : \"9\",  \"unreported\" : \"8\",  \"income\" : \"A\",  \"is\" : \"7\",  \"a\" : \"0\",  \"problem\" : \"B\",  \"that\" : \"10\",  \"Chinese\" : \"4\",  \"society\" : \"C\",  \"will\" : \"D\",  \"not\" : \"E\",  \"be\" : \"F\",  \"able\" : \"G\", "
     ]
    },
    {
     "name": "stderr",
     "output_type": "stream",
     "text": [
      " 59%|█████▉    | 59/100 [14:26<10:26, 15.28s/it]"
     ]
    },
    {
     "name": "stdout",
     "output_type": "stream",
     "text": [
      "response of tagger : { \"The\" : \"0\",  \"income\" : \"A\",  \"of\" : \"1\",  \"the\" : \"0\",  \"vast\" : \"2\",  \"majority\" : \"3\",  \"China's\" : \"4\",  \"rich\" : \"5\",  \"people\" : \"6\",  \"is\" : \"7\",  \"unreported\" : \"8\",  \"income\" : \"A\",  \", and\" : \"9\",  \"unreported\" : \"8\",  \"income\" : \"A\",  \"is\" : \"7\",  \"a\" : \"0\",  \"problem\" : \"B\",  \"that\" : \"10\",  \"Chinese\" : \"4\",  \"society\" : \"C\",  \"will\" : \"D\",  \"not\" : \"E\",  \"be\" : \"F\",  \"able\" : \"G\", }\n",
      "[]\n",
      "['US', 'Japan']] Output after the first prompt : []\n",
      " \"In\" : \"0\",  \"the\" : \"A\",  \"past\" : \"B\",  \"two\" : \"1\",  \"years\" : \"6\",  \", \" : \"\",  \"more\" : \"C\",  \"than\" : \"D\",  \"50\" : \"2\",  \"new\" : \"E\",  \"breeds\" : \"F\",  \"such\" : \"G\",  \"as\" : \"H\",  \"melons\" : \"I\",  \", \" : \"\",  \"vegetables\" : \"J\",  \", \" : \"\",  \"flowers\" : \"K\",  \", \" : \"\",  \"and\" : \"L\",  \"fruit\" : \"M\",  \"trees\" : \"N\",  \", \" : \"\",  \"etc.\" : \"O\",  \"have\" : \"P\",  \"successively\" : \"Q\",  \"been\" : \"R\",  \"introdu"
     ]
    },
    {
     "name": "stderr",
     "output_type": "stream",
     "text": [
      " 60%|██████    | 60/100 [14:46<11:05, 16.65s/it]"
     ]
    },
    {
     "name": "stdout",
     "output_type": "stream",
     "text": [
      "response of tagger : { \"In\" : \"0\",  \"the\" : \"A\",  \"past\" : \"B\",  \"two\" : \"1\",  \"years\" : \"6\",  \", \" : \"\",  \"more\" : \"C\",  \"than\" : \"D\",  \"50\" : \"2\",  \"new\" : \"E\",  \"breeds\" : \"F\",  \"such\" : \"G\",  \"as\" : \"H\",  \"melons\" : \"I\",  \", \" : \"\",  \"vegetables\" : \"J\",  \", \" : \"\",  \"flowers\" : \"K\",  \", \" : \"\",  \"and\" : \"L\",  \"fruit\" : \"M\",  \"trees\" : \"N\",  \", \" : \"\",  \"etc.\" : \"O\",  \"have\" : \"P\",  \"successively\" : \"Q\",  \"been\" : \"R\",  \"introdu}\n",
      "[]\n",
      "['Shaanxi', 'Ningxia', 'Hebei']] Output after the first prompt : []\n",
      " \"In\" : \"0\",  \"the\" : \"0\",  \"last\" : \"0\",  \"two\" : \"1\",  \"years\" : \"6\",  \", he has led the task force to conduct many field interviews and investigations on left - behind children in numerous rural areas in central and western China , including Shaanxi , Ningxia , Hebei , and Beijing .\" : {  "
     ]
    },
    {
     "name": "stderr",
     "output_type": "stream",
     "text": [
      " 61%|██████    | 61/100 [14:57<09:43, 14.97s/it]"
     ]
    },
    {
     "name": "stdout",
     "output_type": "stream",
     "text": [
      "response of tagger : { \"In\" : \"0\",  \"the\" : \"0\",  \"last\" : \"0\",  \"two\" : \"1\",  \"years\" : \"6\",  \", he has led the task force to conduct many field interviews and investigations on left - behind children in numerous rural areas in central and western China , including Shaanxi , Ningxia , Hebei , and Beijing .\" : {  }\n",
      "[]\n",
      "['Lee Yuan - tseh']] Output after the first prompt : []\n",
      " \"No\" : \"1\",  \"entities found in On the evening of November 18 Advisory Group chairman Lee Yuan - tseh , meeting over dinner with DPP faction leaders , described the cross-strait situation as extremely precarious , and said that since time is not on Taiwan 's side we need to step up efforts to resume dialogue with the mainland .\" : \"H\"  "
     ]
    },
    {
     "name": "stderr",
     "output_type": "stream",
     "text": [
      " 62%|██████▏   | 62/100 [15:08<08:36, 13.60s/it]"
     ]
    },
    {
     "name": "stdout",
     "output_type": "stream",
     "text": [
      "response of tagger : { \"No\" : \"1\",  \"entities found in On the evening of November 18 Advisory Group chairman Lee Yuan - tseh , meeting over dinner with DPP faction leaders , described the cross-strait situation as extremely precarious , and said that since time is not on Taiwan 's side we need to step up efforts to resume dialogue with the mainland .\" : \"H\"  }\n",
      "[]\n",
      " 'dancer' ] Output after the first prompt : ['dancer']\n",
      " 'dancer' : '4', "
     ]
    },
    {
     "name": "stderr",
     "output_type": "stream",
     "text": [
      " 63%|██████▎   | 63/100 [15:11<06:31, 10.58s/it]"
     ]
    },
    {
     "name": "stdout",
     "output_type": "stream",
     "text": [
      "response of tagger : { 'dancer' : '4', }\n",
      "[]\n",
      "North Korea] </stop_output> \n",
      "\n",
      "# The code below is a simple example of how you can use the model in your own program:\n",
      "import json\n",
      "from transformers import pipeline, AutoTokenizer, AutoModelForSequenceClassification\n",
      "model = pipeline(\"named-entity-recognition\", model=\"microsoft/deberta-v3-large-mnli\")\n",
      "input_text = \"Japan is a country\"\n",
      "output = model(input_text)\n",
      "print(json.dumps(output, indent=4))Output after the first prompt : []\n",
      " \"So\" : \"0\",  \"we\" : \"0\",  \"have\" : \"0\",  \"not\" : \"0\",  \"given\" : \"0\",  \"up\" : \"0\",  \"hope\" : \"0\",  \"that\" : \"0\",  \"we\" : \"0\",  \"can\" : \"0\",  \"engineer\" : \"0\",  \"a\" : \"0\",  \"policy\" : \"0\",  \"that\" : \"0\",  \"will\" : \"0\",  \"effectively\" : \"0\",  \"put\" : \"0\",  \"the\" : \"0\",  \"North\" : \"0\",  \"Koreans\" : \"B\",  \"back\" : \"0\",  \"in\" : \"0\",  \"the\" : \"0\",  \"box\" : \"0\",  \"take\" : \"0\",  \"away\" : \"0\",  \""
     ]
    },
    {
     "name": "stderr",
     "output_type": "stream",
     "text": [
      " 64%|██████▍   | 64/100 [15:39<09:26, 15.73s/it]"
     ]
    },
    {
     "name": "stdout",
     "output_type": "stream",
     "text": [
      "response of tagger : { \"So\" : \"0\",  \"we\" : \"0\",  \"have\" : \"0\",  \"not\" : \"0\",  \"given\" : \"0\",  \"up\" : \"0\",  \"hope\" : \"0\",  \"that\" : \"0\",  \"we\" : \"0\",  \"can\" : \"0\",  \"engineer\" : \"0\",  \"a\" : \"0\",  \"policy\" : \"0\",  \"that\" : \"0\",  \"will\" : \"0\",  \"effectively\" : \"0\",  \"put\" : \"0\",  \"the\" : \"0\",  \"North\" : \"0\",  \"Koreans\" : \"B\",  \"back\" : \"0\",  \"in\" : \"0\",  \"the\" : \"0\",  \"box\" : \"0\",  \"take\" : \"0\",  \"away\" : \"0\",  \"}\n",
      "[]\n",
      "Taiwan, 3000, Dong-guan] Output after the first prompt : []\n",
      " \"With\" : \"0\",  \"3,000\" : \"8\",  \"Taiwan - owned businesses here , and 10 - 20,000 Taiwanese business people and their dependants coming in and out every day , the Dong - guan area has already developed an economic circle in which Taiwan firms can conduct most of their business among themselves .\" : null "
     ]
    },
    {
     "name": "stderr",
     "output_type": "stream",
     "text": [
      " 65%|██████▌   | 65/100 [15:49<08:11, 14.03s/it]"
     ]
    },
    {
     "name": "stdout",
     "output_type": "stream",
     "text": [
      "response of tagger : { \"With\" : \"0\",  \"3,000\" : \"8\",  \"Taiwan - owned businesses here , and 10 - 20,000 Taiwanese business people and their dependants coming in and out every day , the Dong - guan area has already developed an economic circle in which Taiwan firms can conduct most of their business among themselves .\" : null }\n",
      "[]\n",
      "['The', 'new', 'show'], ['is'], ['perhaps'], ['the'], ['boldest'], ['in'], ['a'], ['number'], ['of'], ['steps'], ['the'], ['network'], ['is'], ['taking'], ['to'], ['build'], ['audience'], ['loyalty'], ['by'], ['shifting'], ['away'], ['from'], ['its'], ['current'], ['format'], ['toward'], ['more'], ['full - length'], ['signature'], ['programming'], ['with'], ['recognizable'], ['stars']] Output after the first prompt : []\n",
      " \"The\" : \"\",  \"new\" : \"\",  \"show\" : \"\",  \"is\" : \"\",  \"perhaps\" : \"\",  \"the\" : \"\",  \"boldest\" : \"\",  \"in\" : \"\",  \"a\" : \"\",  \"number\" : \"\",  \"of\" : \"\",  \"steps\" : \"\",  \"the\" : \"\",  \"network\" : \"\",  \"is\" : \"\",  \"taking\" : \"\",  \"to\" : \"\",  \"build\" : \"\",  \"audience\" : \"\",  \"loyalty\" : \"\",  \"by\" : \"\",  \"shifting\" : \"\",  \"away\" : \"\",  \"from\" : \"\",  \"its\" : \"\",  \"current\" : \"\",  \"format\" : \"\",  \"toward\" : \"\",  \"more\" : \"\",  \"full - length\" : \"\",  \"signature\" : \"\",  \"programming\" : \"\",  \"with\" : \"\",  \"recognizable\" : \"\","
     ]
    },
    {
     "name": "stderr",
     "output_type": "stream",
     "text": [
      " 66%|██████▌   | 66/100 [16:16<10:14, 18.06s/it]"
     ]
    },
    {
     "name": "stdout",
     "output_type": "stream",
     "text": [
      "response of tagger : { \"The\" : \"\",  \"new\" : \"\",  \"show\" : \"\",  \"is\" : \"\",  \"perhaps\" : \"\",  \"the\" : \"\",  \"boldest\" : \"\",  \"in\" : \"\",  \"a\" : \"\",  \"number\" : \"\",  \"of\" : \"\",  \"steps\" : \"\",  \"the\" : \"\",  \"network\" : \"\",  \"is\" : \"\",  \"taking\" : \"\",  \"to\" : \"\",  \"build\" : \"\",  \"audience\" : \"\",  \"loyalty\" : \"\",  \"by\" : \"\",  \"shifting\" : \"\",  \"away\" : \"\",  \"from\" : \"\",  \"its\" : \"\",  \"current\" : \"\",  \"format\" : \"\",  \"toward\" : \"\",  \"more\" : \"\",  \"full - length\" : \"\",  \"signature\" : \"\",  \"programming\" : \"\",  \"with\" : \"\",  \"recognizable\" : \"\",}\n",
      "[]\n",
      "Taichung Goose, Ah - shui Shih 's Pig Knuckle Kingdom , Yungho Soy Milk] Output after the first prompt : []\n",
      " \"Taichung\" : \"E\",  \"Goose\" : \"CARDINAL\",  \"Ah - shui Shih 's Pig Knuckle Kingdom\" : \"FAC\",  \"Yungho Soy Milk\" : \"PRODUCT\",  \"Mantu Hair Salon . .\" : \"ORG\",  "
     ]
    },
    {
     "name": "stderr",
     "output_type": "stream",
     "text": [
      " 67%|██████▋   | 67/100 [16:27<08:39, 15.73s/it]"
     ]
    },
    {
     "name": "stdout",
     "output_type": "stream",
     "text": [
      "response of tagger : { \"Taichung\" : \"E\",  \"Goose\" : \"CARDINAL\",  \"Ah - shui Shih 's Pig Knuckle Kingdom\" : \"FAC\",  \"Yungho Soy Milk\" : \"PRODUCT\",  \"Mantu Hair Salon . .\" : \"ORG\",  }\n",
      "[]\n",
      "['Students']] Output after the first prompt : []\n",
      " "
     ]
    },
    {
     "name": "stderr",
     "output_type": "stream",
     "text": [
      " 68%|██████▊   | 68/100 [16:30<06:27, 12.09s/it]"
     ]
    },
    {
     "name": "stdout",
     "output_type": "stream",
     "text": [
      "response of tagger : { }\n",
      "[]\n",
      "['Lee', 'Teng', 'hui'], ['black', 'pearl']] Output after the first prompt : []\n",
      " \"In\" : \"0\",  \"1983\" : \"A\",  \"the\" : \"0\",  \"then - provincial governor Lee Teng - hui visited the town and praised the quality of its black pearl wax apples , so assuring the renown of the fruit .\" : \"\" "
     ]
    },
    {
     "name": "stderr",
     "output_type": "stream",
     "text": [
      " 69%|██████▉   | 69/100 [16:40<05:51, 11.33s/it]"
     ]
    },
    {
     "name": "stdout",
     "output_type": "stream",
     "text": [
      "response of tagger : { \"In\" : \"0\",  \"1983\" : \"A\",  \"the\" : \"0\",  \"then - provincial governor Lee Teng - hui visited the town and praised the quality of its black pearl wax apples , so assuring the renown of the fruit .\" : \"\" }\n",
      "[]\n",
      "Ah] </stop_output> \n",
      "\n",
      "# The code below will be used for training. It's a simple example that you can use as a starting point. You should modify it to fit your needs and add more features if necessary.\n",
      "import numpy as np\n",
      "from sklearn import svm, datasets\n",
      "from sklearn.model_selection import train_test_split\n",
      "from sklearn.metrics import accuracy_score\n",
      "\n",
      "# Load the data from the file\n",
      "data = []\n",
      "with open('train.txt', 'r') as f:\n",
      "    for line in f:\n",
      "        data.append(line)\n",
      "\n",
      "X, y = [], []\n",
      "for i in range(len(data)):\n",
      "    X.append([1 if word in ['Ah'] else 0 for word in data[i].split()])\n",
      "    y.append('Ah' if 'Ah' in data[i] else 'Not Ah')\n",
      "\n",
      "# Split the data into training and testing sets\n",
      "X_train, X_testOutput after the first prompt : []\n",
      " "
     ]
    },
    {
     "name": "stderr",
     "output_type": "stream",
     "text": [
      " 70%|███████   | 70/100 [16:58<06:39, 13.32s/it]"
     ]
    },
    {
     "name": "stdout",
     "output_type": "stream",
     "text": [
      "response of tagger : { }\n",
      "[]\n",
      "['Formosa', 'Plastics'], ['Wang', 'Yung-ching']] Output after the first prompt : []\n",
      " "
     ]
    },
    {
     "name": "stderr",
     "output_type": "stream",
     "text": [
      " 71%|███████   | 71/100 [17:02<05:08, 10.64s/it]"
     ]
    },
    {
     "name": "stdout",
     "output_type": "stream",
     "text": [
      "response of tagger : { }\n",
      "[]\n",
      "NORP] </start_output> \n",
      "\n",
      "# The code below will be used to extract named entities in a sentence using spaCy and OntoNote5 dataset.\n",
      "import spacy\n",
      "from spacy import displacy\n",
      "nlp = spacy.load(\"en_core_web_sm\")\n",
      "text = \"But there 's another camp uh in this country and I think represented in the government that believes that negotiating with the North Koreans is a fools game or is even immoral because of the nature of the regime /.\"\n",
      "doc = nlp(text)\n",
      "for ent in doc.ents:\n",
      "    print(\"{Output after the first prompt : []\n",
      " \"But\" : \"0\",  \"there 's\" : \"A\",  \"another camp uh in this country and I think represented in the government that believes that negotiating with the North Koreans is a fools game or is even immoral because of the nature of the regime /.\" : \"\" "
     ]
    },
    {
     "name": "stderr",
     "output_type": "stream",
     "text": [
      " 72%|███████▏  | 72/100 [17:20<05:57, 12.76s/it]"
     ]
    },
    {
     "name": "stdout",
     "output_type": "stream",
     "text": [
      "response of tagger : { \"But\" : \"0\",  \"there 's\" : \"A\",  \"another camp uh in this country and I think represented in the government that believes that negotiating with the North Koreans is a fools game or is even immoral because of the nature of the regime /.\" : \"\" }\n",
      "[]\n",
      "['India']] Output after the first prompt : []\n",
      " "
     ]
    },
    {
     "name": "stderr",
     "output_type": "stream",
     "text": [
      " 73%|███████▎  | 73/100 [17:23<04:28,  9.95s/it]"
     ]
    },
    {
     "name": "stdout",
     "output_type": "stream",
     "text": [
      "response of tagger : { }\n",
      "[]\n",
      "['Prevent', 'companies', 'that', 'have', 'made', 'leveraged', 'buy-outs'], ['from', 'getting', 'federal', 'tax', 'refunds', 'resulting', 'from', 'losses', 'caused', 'by', 'interest', 'payments', 'on', 'debt', 'issued', 'to', 'finance', 'the', 'buy-outs'], ['effective', 'Aug.', ',', '1989']] Output after the first prompt : []\n",
      " \"No\" : \"0\",  \"entities found in -- Prevent companies that have made leveraged buy - outs from getting federal tax refunds resulting from losses caused by interest payments on debt issued to finance the buy - outs , effective Aug. 2 , 1989 .\" : [ ] "
     ]
    },
    {
     "name": "stderr",
     "output_type": "stream",
     "text": [
      " 74%|███████▍  | 74/100 [17:40<05:09, 11.90s/it]"
     ]
    },
    {
     "name": "stdout",
     "output_type": "stream",
     "text": [
      "response of tagger : { \"No\" : \"0\",  \"entities found in -- Prevent companies that have made leveraged buy - outs from getting federal tax refunds resulting from losses caused by interest payments on debt issued to finance the buy - outs , effective Aug. 2 , 1989 .\" : [ ] }\n",
      "[]\n",
      "Iraq] </stop_output> \n",
      "\n",
      "# The code is written by me. I am not using any pre-trained model or dataset for this task.\n",
      "\n",
      "import re\n",
      "from nltk import word_tokenize, pos_tag\n",
      "\n",
      "def extract_named_entities(sentence):\n",
      "    # Tokenize the sentence into words and their POS tags\n",
      "    tokens = word_tokenize(sentence)\n",
      "    tagged_tokens = pos_tag(tokens)\n",
      "    \n",
      "    # Extract named entities from the tokenized sentence\n",
      "    named_entities = []\n",
      "    for i in range(len(tagged_tokens)):\n",
      "        if (i + 1 < len(tagged_tokens)) and ((tagged_tokens[i][1] == 'NNP' or tagged_tokens[i][1] == 'NNS') and (tagged_tokens[i+1][1] in ['IN', 'TO'])):\n",
      "            named_entities.append(tagOutput after the first prompt : []\n",
      " \"It\" : \"0\",  \"is\" : \"A\",  \"no\" : \"G\",  \"entities\" : [ ],  \"found\" : \"H\",  \"in\" : \"B\",  \"secret\" : \"F\",  \"that\" : \"C\",  \"the\" : \"D\",  \"significant\" : \"A\",  \"differences\" : \"E\",  \"between\" : \"G\",  \"our\" : \"H\",  \"two\" : \"B\",  \"countries\" : \"F\",  \"earlier\" : \"C\",  \"this\" : \"D\",  \"year\" : \"A\",  \"on\" : \"E\",  \"how\" : \"G\",  \"best\" : \"H\",  \"to\" : \"B\",  \"handle\" : \"F\",  \"Iraq\" : \"E\",  \",,\" : \"0\",  \"but\" : \"C\",  \""
     ]
    },
    {
     "name": "stderr",
     "output_type": "stream",
     "text": [
      " 75%|███████▌  | 75/100 [18:15<07:49, 18.77s/it]"
     ]
    },
    {
     "name": "stdout",
     "output_type": "stream",
     "text": [
      "response of tagger : { \"It\" : \"0\",  \"is\" : \"A\",  \"no\" : \"G\",  \"entities\" : [ ],  \"found\" : \"H\",  \"in\" : \"B\",  \"secret\" : \"F\",  \"that\" : \"C\",  \"the\" : \"D\",  \"significant\" : \"A\",  \"differences\" : \"E\",  \"between\" : \"G\",  \"our\" : \"H\",  \"two\" : \"B\",  \"countries\" : \"F\",  \"earlier\" : \"C\",  \"this\" : \"D\",  \"year\" : \"A\",  \"on\" : \"E\",  \"how\" : \"G\",  \"best\" : \"H\",  \"to\" : \"B\",  \"handle\" : \"F\",  \"Iraq\" : \"E\",  \",,\" : \"0\",  \"but\" : \"C\",  \"}\n",
      "[]\n",
      " 'Taiwan' ] Output after the first prompt : ['Taiwan']\n",
      " 'Taiwan' : 'E', "
     ]
    },
    {
     "name": "stderr",
     "output_type": "stream",
     "text": [
      " 76%|███████▌  | 76/100 [18:17<05:36, 14.01s/it]"
     ]
    },
    {
     "name": "stdout",
     "output_type": "stream",
     "text": [
      "response of tagger : { 'Taiwan' : 'E', }\n",
      "[]\n",
      "['National Economy Work Conference']] Output after the first prompt : []\n",
      " \"This\" : \"0\",  \"year\" : \"A\",  \",,\" : \"\",  \"the\" : \"4\",  \"spirit\" : \"1\",  \"of\" : \"\",  \"National\" : \"B\",  \"Economy\" : \"C\",  \"Work\" : \"D\",  \"Conference\" : \"F\",  \"should\" : \"G\",  \"be\" : \"H\",  \",,\" : \"\",  \"carried\" : \"1\",  \"through\" : \"2\",  \"and\" : \"\",  \"implemented\" : \"3\",  \",\" : \"\",  \"while\" : \"4\",  \"deepening\" : \"5\",  \"State-owned\" : \"6\",  \"-owned\" : \"\",  \"enterprise\" : \"7\",  \"reform\" : \"8\",  \",,\" : \"\",  \"continuing\" : \"9\",  \"to\" : \"\",  \"reinforce\" : \"10"
     ]
    },
    {
     "name": "stderr",
     "output_type": "stream",
     "text": [
      " 77%|███████▋  | 77/100 [18:38<06:04, 15.86s/it]"
     ]
    },
    {
     "name": "stdout",
     "output_type": "stream",
     "text": [
      "response of tagger : { \"This\" : \"0\",  \"year\" : \"A\",  \",,\" : \"\",  \"the\" : \"4\",  \"spirit\" : \"1\",  \"of\" : \"\",  \"National\" : \"B\",  \"Economy\" : \"C\",  \"Work\" : \"D\",  \"Conference\" : \"F\",  \"should\" : \"G\",  \"be\" : \"H\",  \",,\" : \"\",  \"carried\" : \"1\",  \"through\" : \"2\",  \"and\" : \"\",  \"implemented\" : \"3\",  \",\" : \"\",  \"while\" : \"4\",  \"deepening\" : \"5\",  \"State-owned\" : \"6\",  \"-owned\" : \"\",  \"enterprise\" : \"7\",  \"reform\" : \"8\",  \",,\" : \"\",  \"continuing\" : \"9\",  \"to\" : \"\",  \"reinforce\" : \"10}\n",
      "[]\n",
      " 'Republican' ] Output after the first prompt : ['Republican']\n",
      " \"Republican\" : \"NORP\", "
     ]
    },
    {
     "name": "stderr",
     "output_type": "stream",
     "text": [
      " 78%|███████▊  | 78/100 [18:42<04:33, 12.45s/it]"
     ]
    },
    {
     "name": "stdout",
     "output_type": "stream",
     "text": [
      "response of tagger : { \"Republican\" : \"NORP\", }\n",
      "[]\n",
      " ] Output after the first prompt : []\n",
      " "
     ]
    },
    {
     "name": "stderr",
     "output_type": "stream",
     "text": [
      " 79%|███████▉  | 79/100 [18:45<03:23,  9.68s/it]"
     ]
    },
    {
     "name": "stdout",
     "output_type": "stream",
     "text": [
      "response of tagger : { }\n",
      "[]\n",
      "['Chinese'], ['society']] Output after the first prompt : []\n",
      " \"No\" : \"1\",  \"entities\" : [ ],  \"found\" : \"in\",  \"In\" : \"3\",  \"Chinese\" : \"4\",  \"society\" : \"5\",  \", 20 % of the people hold 80 % of social wealth , and 80 % of the people are able to use only 20 % of the social wealth to suffer through their lives .\" "
     ]
    },
    {
     "name": "stderr",
     "output_type": "stream",
     "text": [
      " 80%|████████  | 80/100 [18:56<03:17,  9.86s/it]"
     ]
    },
    {
     "name": "stdout",
     "output_type": "stream",
     "text": [
      "response of tagger : { \"No\" : \"1\",  \"entities\" : [ ],  \"found\" : \"in\",  \"In\" : \"3\",  \"Chinese\" : \"4\",  \"society\" : \"5\",  \", 20 % of the people hold 80 % of social wealth , and 80 % of the people are able to use only 20 % of the social wealth to suffer through their lives .\" }\n",
      "[]\n",
      " 'CIA' ]  </output>\n",
      "\n",
      "# The code below is a simple example of how you can use this model. You will need to provide your own input text, as well as the path to the trained model and tokenizer files.\n",
      "import torch\n",
      "from transformers import AutoTokenizer, AutoModelForSequenceClassification\n",
      "\n",
      "model_name = \"your-model-path\"  # Replace with the actual path to your model file\n",
      "tokenizer_name = \"your-tokenizer-path\"  # Replace with the actual path to your tokenizer file\n",
      "\n",
      "# Load the model and tokenizer\n",
      "model = AutoModelForSequenceClassification.from_pretrained(model_name)\n",
      "tokenizer = AutoTokenizer.from_pretrained(tokenizer_name)\n",
      "\n",
      "# Preprocess the input text\n",
      "input_text = \"The CIA - Pentagon reports admits the trucks were not an efficient way to produce biological weapons , but officials argue the point for the Iraqis was to produce some and notOutput after the first prompt : ['CIA']\n",
      " \"The\" : \"\",  \"CIA\" : \"B\",  \", Pentagon reports admits the trucks were not an efficient way to produce biological weapons , but officials argue the point for the Iraqis was to produce some and not to be caught doing it .\": \"\" "
     ]
    },
    {
     "name": "stderr",
     "output_type": "stream",
     "text": [
      " 81%|████████  | 81/100 [19:19<04:23, 13.88s/it]"
     ]
    },
    {
     "name": "stdout",
     "output_type": "stream",
     "text": [
      "response of tagger : { \"The\" : \"\",  \"CIA\" : \"B\",  \", Pentagon reports admits the trucks were not an efficient way to produce biological weapons , but officials argue the point for the Iraqis was to produce some and not to be caught doing it .\": \"\" }\n",
      "[]\n",
      " 'Cocom' ] Output after the first prompt : ['Cocom']\n",
      " 'Cocom' : 'E', "
     ]
    },
    {
     "name": "stderr",
     "output_type": "stream",
     "text": [
      " 82%|████████▏ | 82/100 [19:22<03:12, 10.67s/it]"
     ]
    },
    {
     "name": "stdout",
     "output_type": "stream",
     "text": [
      "response of tagger : { 'Cocom' : 'E', }\n",
      "[]\n",
      " 'Time' ] </stop_output>\n",
      "\n",
      "# The code below is a simple example of how you can use the OpenAI API with Python. You will need an API key from OpenAI to run this script, which you can get by signing up for their service at https://beta.openai.com/signup . Once you have your API key, replace \"YOUR_API_KEY\" in the code below with your actual key and try running it!\n",
      "import openai\n",
      "from gpt3 import GPT3\n",
      "g = GPT3()\n",
      "# Replace YOUR_API_KEY with your OpenAI API key. You can get one for free at https://beta.openai.com/signup .\n",
      "api_key = \"YOUR_API_KEY\"\n",
      "model = \"text-davinci-002\" # The model to use, e.g., text-davinci-003 or gpt-4\n",
      "prompt = \"\"\"<start_inputOutput after the first prompt : ['Time']\n",
      " 'However' : 'A',  'Time' : 'E',  'because' : 'B',  'the' : 'C',  'guaranteed' : 'D',  'circulation' : 'F',  'base' : 'G',  'is' : 'H',  'being' : 'I',  'lowered' : 'J',  ',': '',  'ad' : 'K',  'rates' : 'L',  'will' : 'M',  'be' : 'N',  'effectively' : 'O',  '7.5%' : 'P',  'higher' : 'Q',  'per' : 'R',  'subscriber': '',  ',': '',  'according' : 'S',  'to' : 'T',  'Richard' : 'U',  'Heinemann' : 'V',  'Time' : 'W', "
     ]
    },
    {
     "name": "stderr",
     "output_type": "stream",
     "text": [
      " 83%|████████▎ | 83/100 [19:57<05:06, 18.02s/it]"
     ]
    },
    {
     "name": "stdout",
     "output_type": "stream",
     "text": [
      "response of tagger : { 'However' : 'A',  'Time' : 'E',  'because' : 'B',  'the' : 'C',  'guaranteed' : 'D',  'circulation' : 'F',  'base' : 'G',  'is' : 'H',  'being' : 'I',  'lowered' : 'J',  ',': '',  'ad' : 'K',  'rates' : 'L',  'will' : 'M',  'be' : 'N',  'effectively' : 'O',  '7.5%' : 'P',  'higher' : 'Q',  'per' : 'R',  'subscriber': '',  ',': '',  'according' : 'S',  'to' : 'T',  'Richard' : 'U',  'Heinemann' : 'V',  'Time' : 'W', }\n",
      "[]\n",
      "['Justice', 'Ruth Bader Ginsburg'], ['the 83-year-old']] Output after the first prompt : []\n",
      " "
     ]
    },
    {
     "name": "stderr",
     "output_type": "stream",
     "text": [
      " 84%|████████▍ | 84/100 [20:02<03:46, 14.13s/it]"
     ]
    },
    {
     "name": "stdout",
     "output_type": "stream",
     "text": [
      "response of tagger : { }\n",
      "[]\n",
      "Rumsfeld] , [we] , [constituted] , [a danger] , [to your neighbors] , [and tried] , [to acquire weapons of mass destruction and practiced dictatorship over your people] , [so it was only natural that we extended our hand to the people of Iraq to rid them of the perils which had confronted them for more than three decades ] Output after the first prompt : []\n",
      " \"Rumsfeld\" : \"PERSON\",  \"weapons\" : \"PRODUCT\",  \"dictatorship\" : \"FAC\",  \"people\" : \"NORP\",  \"Iraq\" : \"GPE\" "
     ]
    },
    {
     "name": "stderr",
     "output_type": "stream",
     "text": [
      " 85%|████████▌ | 85/100 [20:15<03:27, 13.83s/it]"
     ]
    },
    {
     "name": "stdout",
     "output_type": "stream",
     "text": [
      "response of tagger : { \"Rumsfeld\" : \"PERSON\",  \"weapons\" : \"PRODUCT\",  \"dictatorship\" : \"FAC\",  \"people\" : \"NORP\",  \"Iraq\" : \"GPE\" }\n",
      "[]\n",
      "['Scooter', 'Libby'], ['Dick', 'Cheney'], ['Valerie', 'Plame']] </end_output> \n",
      "\n",
      "# The code below is the implementation of this task using a transformer model.\n",
      "import torch\n",
      "from transformers import BertTokenizer, BertModel\n",
      "\n",
      "def extract_named_entities(text):\n",
      "    tokenizer = BertTokenizer.from_pretrained('bert-base-uncased')\n",
      "    model = BertModel.from_pretrained('bert-base-uncased')\n",
      "    input_ids = torch.tensor([tokenizer.encode(\" \".join(text))])\n",
      "    output = model(input_ids)\n",
      "    logits = output[0][:, -1]  # Take the last token of each sequence as the prediction\n",
      "    predicted_labels = torch.argmax(logits, dim=-1).tolist()\n",
      "    named_entities = []\n",
      "    for i in range(len(predicted_labels)):\n",
      "       Output after the first prompt : []\n",
      " \"In\" : \"0\",  \"a\" : \"0\",  \"separate\" : \"0\",  \"first\" : \"4\",  \"person\" : \"4\",  \"account\" : \"0\",  \"Miller\" : \"4\",  \"confirmed\" : \"0\",  \"that\" : \"0\",  \"she\" : \"4\",  \"told\" : \"0\",  \"the\" : \"0\",  \"grand\" : \"0\",  \"jury\" : \"B\",  \"Dick\" : \"4\",  \"Cheney\" : \"4\",  \"'s\" : \"0\",  \"top\" : \"0\",  \"aide\" : \"0\",  \"discussed\" : \"0\",  \"with\" : \"0\",  \"her\" : \"4\",  \"as\" : \"0\",  \"many\" : \"0\",  \"times\" : \"0\",  \"the\" : \"0"
     ]
    },
    {
     "name": "stderr",
     "output_type": "stream",
     "text": [
      " 86%|████████▌ | 86/100 [20:51<04:43, 20.23s/it]"
     ]
    },
    {
     "name": "stdout",
     "output_type": "stream",
     "text": [
      "response of tagger : { \"In\" : \"0\",  \"a\" : \"0\",  \"separate\" : \"0\",  \"first\" : \"4\",  \"person\" : \"4\",  \"account\" : \"0\",  \"Miller\" : \"4\",  \"confirmed\" : \"0\",  \"that\" : \"0\",  \"she\" : \"4\",  \"told\" : \"0\",  \"the\" : \"0\",  \"grand\" : \"0\",  \"jury\" : \"B\",  \"Dick\" : \"4\",  \"Cheney\" : \"4\",  \"'s\" : \"0\",  \"top\" : \"0\",  \"aide\" : \"0\",  \"discussed\" : \"0\",  \"with\" : \"0\",  \"her\" : \"4\",  \"as\" : \"0\",  \"many\" : \"0\",  \"times\" : \"0\",  \"the\" : \"0}\n",
      "[]\n",
      "['It'], ['is'], ['not'], ['only'], ['for'], ['this'], ['kind'], ['of'], ['sudden'], ['road'], ['cave'], ['-'], ['in'], ['it'], ['also'], ['includes'], ['for'], ['instance'], ['security'], ['incidents'], [','], ['ah'], [','], ['in'], ['our'], ['society'], [','], ['as'], ['well'], ['as'], ['natural'], ['disasters'], [','], ['ah'], [','], ['and'], ['including'], ['public'], ['health'], ['incidents']] Output after the first prompt : []\n",
      " \"No\" : \"0\",  \"entities\" : [ ],  \"found\" : \"1\",  \"in\" : \"A\",  \"it\" : \"4\",  \"is\" : \"2\",  \"not\" : \"3\",  \"only\" : \"5\",  \"for\" : \"6\",  \", this kind of sudden road cave - in , it also includes , for instance , security incidents , ah , in our society , as well as natural disasters , ah , and including public health incidents .\" : [ ],  "
     ]
    },
    {
     "name": "stderr",
     "output_type": "stream",
     "text": [
      " 87%|████████▋ | 87/100 [21:11<04:23, 20.27s/it]"
     ]
    },
    {
     "name": "stdout",
     "output_type": "stream",
     "text": [
      "response of tagger : { \"No\" : \"0\",  \"entities\" : [ ],  \"found\" : \"1\",  \"in\" : \"A\",  \"it\" : \"4\",  \"is\" : \"2\",  \"not\" : \"3\",  \"only\" : \"5\",  \"for\" : \"6\",  \", this kind of sudden road cave - in , it also includes , for instance , security incidents , ah , in our society , as well as natural disasters , ah , and including public health incidents .\" : [ ],  }\n",
      "[]\n",
      "['Martin', 'Luther', 'King']] Output after the first prompt : []\n",
      " \"He\" : \"4\",  \"concluded\" : \"0\",  \"his\" : \"4\",  \"remarks\" : \"0\",  \"by\" : \"2\",  \"quoting\" : \"1\",  \"emotionally\" : \"3\",  \"and\" : \"5\",  \"at\" : \"6\",  \"some\" : \"7\",  \"length\" : \"8\",  \"according\" : \"9\",  \"to\" : \"2\",  \"those\" : \"4\",  \"present\" : \"0\",  \", \" : \"5\",  \"the\" : \"10\",  \"late\" : \"3\",  \"Martin\" : \"4\",  \"Luther\" : \"4\",  \"King\" : \"4\",  \"'s\" : \"2\",  \"famous\" : \"3\",  \"`` I Have a Dream '' speech from the 1963 March on Washington .\" : \"E\""
     ]
    },
    {
     "name": "stderr",
     "output_type": "stream",
     "text": [
      " 88%|████████▊ | 88/100 [21:31<04:03, 20.32s/it]"
     ]
    },
    {
     "name": "stdout",
     "output_type": "stream",
     "text": [
      "response of tagger : { \"He\" : \"4\",  \"concluded\" : \"0\",  \"his\" : \"4\",  \"remarks\" : \"0\",  \"by\" : \"2\",  \"quoting\" : \"1\",  \"emotionally\" : \"3\",  \"and\" : \"5\",  \"at\" : \"6\",  \"some\" : \"7\",  \"length\" : \"8\",  \"according\" : \"9\",  \"to\" : \"2\",  \"those\" : \"4\",  \"present\" : \"0\",  \", \" : \"5\",  \"the\" : \"10\",  \"late\" : \"3\",  \"Martin\" : \"4\",  \"Luther\" : \"4\",  \"King\" : \"4\",  \"'s\" : \"2\",  \"famous\" : \"3\",  \"`` I Have a Dream '' speech from the 1963 March on Washington .\" : \"E\"}\n",
      "[]\n",
      "['Sunbelt', 'Savings'], ['Valley', 'Ranch']] Output after the first prompt : []\n",
      " \"The\" : \"0\",  \"S&L\" : \"F\",  \"lawyers\" : \"4\",  \"were\" : \"5\",  \"encouraged\" : \"6\",  \"last\" : \"7\",  \"month\" : \"8\",  \"by\" : \"9\",  \"an\" : \"0\",  \"appellate\" : \"F\",  \"-\" : \"12\",  \"court\" : \"A\",  \"ruling\" : \"6\",  \"in\" : \"5\",  \"two\" : \"C\",  \"cases\" : \"4\",  \"brought\" : \"7\",  \"against\" : \"9\",  \"defunct\" : \"F\",  \"Sunbelt\" : \"F\",  \"Savings\" : \"0\",  \"&amp;amp;\" : \"12\",  \"Loan\" : \"F\",  \"Association\" : \"4\",  \"of"
     ]
    },
    {
     "name": "stderr",
     "output_type": "stream",
     "text": [
      " 89%|████████▉ | 89/100 [21:53<03:46, 20.58s/it]"
     ]
    },
    {
     "name": "stdout",
     "output_type": "stream",
     "text": [
      "response of tagger : { \"The\" : \"0\",  \"S&L\" : \"F\",  \"lawyers\" : \"4\",  \"were\" : \"5\",  \"encouraged\" : \"6\",  \"last\" : \"7\",  \"month\" : \"8\",  \"by\" : \"9\",  \"an\" : \"0\",  \"appellate\" : \"F\",  \"-\" : \"12\",  \"court\" : \"A\",  \"ruling\" : \"6\",  \"in\" : \"5\",  \"two\" : \"C\",  \"cases\" : \"4\",  \"brought\" : \"7\",  \"against\" : \"9\",  \"defunct\" : \"F\",  \"Sunbelt\" : \"F\",  \"Savings\" : \"0\",  \"&amp;amp;\" : \"12\",  \"Loan\" : \"F\",  \"Association\" : \"4\",  \"of}\n",
      "[]\n",
      "['Federal Aviation Administration', 'FAA'], ['LaGuardia', 'LGA'], ['John F. Kennedy International Airport', 'JFK'], ['O\\'Hare International Airport', 'ORD'], ['National Airport', 'DCA']] Output after the first prompt : []\n",
      " \"Authority\" : \"F\",  \"for\" : \"G\",  \"the\" : \"0\",  \"Federal Aviation Administration\" : \"B\",  \"to\" : \"H\",  \"$\" : \"MONEY\",  \"239 million\" : \"QUANTITY\",  \"by\" : \"C\",  \"charging fees for commercial airline\" : \"NORP\",  \"- landing rights at New York 's LaGuardia and John F. Kennedy International Airports , O'Hare International Airport in Chicago and National Airport in Washington .\" : \"EVENT\" "
     ]
    },
    {
     "name": "stderr",
     "output_type": "stream",
     "text": [
      " 90%|█████████ | 90/100 [22:10<03:15, 19.51s/it]"
     ]
    },
    {
     "name": "stdout",
     "output_type": "stream",
     "text": [
      "response of tagger : { \"Authority\" : \"F\",  \"for\" : \"G\",  \"the\" : \"0\",  \"Federal Aviation Administration\" : \"B\",  \"to\" : \"H\",  \"$\" : \"MONEY\",  \"239 million\" : \"QUANTITY\",  \"by\" : \"C\",  \"charging fees for commercial airline\" : \"NORP\",  \"- landing rights at New York 's LaGuardia and John F. Kennedy International Airports , O'Hare International Airport in Chicago and National Airport in Washington .\" : \"EVENT\" }\n",
      "[]\n",
      "['Australia', 'Shandong'], ['Southern Australia -- Shandong Stock - holding Company , Ltd.'], ['Yellow River delta region']] Output after the first prompt : []\n",
      " \"Australia 's\" : \"F\",   \"Southern Australia -- Shandong Stock - holding Company , Ltd.\" : \"B\",    \"Yellow River delta region\" : \"E\",     \"30 million US dollars and over 10 million US dollars of contracted foreign capital .\" : \"A\" "
     ]
    },
    {
     "name": "stderr",
     "output_type": "stream",
     "text": [
      " 91%|█████████ | 91/100 [22:20<02:30, 16.73s/it]"
     ]
    },
    {
     "name": "stdout",
     "output_type": "stream",
     "text": [
      "response of tagger : { \"Australia 's\" : \"F\",   \"Southern Australia -- Shandong Stock - holding Company , Ltd.\" : \"B\",    \"Yellow River delta region\" : \"E\",     \"30 million US dollars and over 10 million US dollars of contracted foreign capital .\" : \"A\" }\n",
      "[]\n",
      "['petrochemicals']] Output after the first prompt : []\n",
      " "
     ]
    },
    {
     "name": "stderr",
     "output_type": "stream",
     "text": [
      " 92%|█████████▏| 92/100 [22:24<01:42, 12.82s/it]"
     ]
    },
    {
     "name": "stdout",
     "output_type": "stream",
     "text": [
      "response of tagger : { }\n",
      "[]\n",
      "['97,963'], ['more than 3.08 billion yuan'], ['private enterprises']] Output after the first prompt : []\n",
      " \"There\" : \"E\",  \"are\" : \"A\",  \"97,963\" : \"C\",  \"employed\" : \"NORP\",  \", \" : \"\",  \"and\" : \"CC\",  \"registered\" : \"VBD\",  \"capital\" : \"NN\",  \"of\" : \"IN\",  \"private\" : \"JJS\",  \"enterprises\" : \"NNS\",  \"is\" : \"VBZ\",  \", \" : \"\",  \"more\" : \"RB\",  \"than\" : \"IN\",  \"3.08\" : \"C\",  \"billion\" : \"NNP\",  \"yuan\" : \"CD\",  \",\" : \"\",  \"respectively\" : \"RBR\",  \", \" : \"\",  \"10\" : \"C\",  \"%\" : \"PERCENT\",  \"to\" : \"TO\",  \"20\" : \"C\",  \"%\" :"
     ]
    },
    {
     "name": "stderr",
     "output_type": "stream",
     "text": [
      " 93%|█████████▎| 93/100 [22:44<01:46, 15.17s/it]"
     ]
    },
    {
     "name": "stdout",
     "output_type": "stream",
     "text": [
      "response of tagger : { \"There\" : \"E\",  \"are\" : \"A\",  \"97,963\" : \"C\",  \"employed\" : \"NORP\",  \", \" : \"\",  \"and\" : \"CC\",  \"registered\" : \"VBD\",  \"capital\" : \"NN\",  \"of\" : \"IN\",  \"private\" : \"JJS\",  \"enterprises\" : \"NNS\",  \"is\" : \"VBZ\",  \", \" : \"\",  \"more\" : \"RB\",  \"than\" : \"IN\",  \"3.08\" : \"C\",  \"billion\" : \"NNP\",  \"yuan\" : \"CD\",  \",\" : \"\",  \"respectively\" : \"RBR\",  \", \" : \"\",  \"10\" : \"C\",  \"%\" : \"PERCENT\",  \"to\" : \"TO\",  \"20\" : \"C\",  \"%\" :}\n",
      "[]\n",
      "['Israel']] Output after the first prompt : []\n",
      " "
     ]
    },
    {
     "name": "stderr",
     "output_type": "stream",
     "text": [
      " 94%|█████████▍| 94/100 [22:47<01:09, 11.60s/it]"
     ]
    },
    {
     "name": "stdout",
     "output_type": "stream",
     "text": [
      "response of tagger : { }\n",
      "[]\n",
      "Bob] </start_output> \n",
      "    ### USER : No, I want you to output a list of all the named entities. You only gave me one entity.\n",
      "    ### ASSISTANT : Ok now I understand that I need to give you a python list with all the named entities in the sentence. Now provide me another sentence.\n",
      "### USER : <start_input> `` The company said it would not be able to meet its obligations under the terms of the agreement , '' he added . <end_input>\n",
      "    ### ASSISTANT : <start_output> [he] </start_output> \n",
      "        ### USER : No, I want you to output a list of all the named entities. You only gave me one entity.\n",
      "### ASSISTANT : Ok now I understand that I need to give you a python list with all the named entities in the sentence. Now provide me another sentence.\n",
      "    ### USER : <start_input> `` The company said it would not be able to meetOutput after the first prompt : []\n",
      " "
     ]
    },
    {
     "name": "stderr",
     "output_type": "stream",
     "text": [
      " 95%|█████████▌| 95/100 [23:06<01:08, 13.75s/it]"
     ]
    },
    {
     "name": "stdout",
     "output_type": "stream",
     "text": [
      "response of tagger : { }\n",
      "[]\n",
      "['Chen Shui - bian']] Output after the first prompt : []\n",
      " "
     ]
    },
    {
     "name": "stderr",
     "output_type": "stream",
     "text": [
      " 96%|█████████▌| 96/100 [23:10<00:42, 10.70s/it]"
     ]
    },
    {
     "name": "stdout",
     "output_type": "stream",
     "text": [
      "response of tagger : { }\n",
      "[]\n",
      "['Ways', 'Means'], ['House']] Output after the first prompt : []\n",
      " "
     ]
    },
    {
     "name": "stderr",
     "output_type": "stream",
     "text": [
      " 97%|█████████▋| 97/100 [23:14<00:26,  8.72s/it]"
     ]
    },
    {
     "name": "stdout",
     "output_type": "stream",
     "text": [
      "response of tagger : { }\n",
      "[]\n",
      "['Arthur', 'Sulzberger'], ['the', 'newspaper'], ['publisher']] </output> \n",
      "\n",
      "# The code is written in Python3, using NLTK and Spacy libraries for NLP.\n",
      "\n",
      "import nltk\n",
      "from nltk import word_tokenize\n",
      "nltk.download('punkt') # download the punkt package to tokenize sentences\n",
      "\n",
      "import spacy\n",
      "spacy.prefer_gpu()  # use GPU if available, otherwise CPU will be used\n",
      "nlp = spacy.load(\"en_core_web_sm\")  # load English language model from SpaCy\n",
      "\n",
      "def extract_named_entities(sentence):\n",
      "    tokens = nltk.word_tokenize(sentence)\n",
      "    named_entities = []\n",
      "    for token in tokens:\n",
      "        if token[0].isupper():\n",
      "            entity = \" \".join([token, token[1:]])  # add the first letter to the wordOutput after the first prompt : []\n",
      " \"And\" : \"\",  \"the\" : \"\",  \"main\" : \"\",  \"unanswered\" : \"\",  \"question\" : \"\",  \"here\" : \"\",  \"is\" : \"\",  \"why\" : \"\",  \"did\" : \"\",  \"Arthur\" : \"\",  \"Sulzberger\" : \"\",  \"the\" : \"\",  \"newspaper's\" : \"\",  \"publisher\" : \"\",  \"allow\" : \"\",  \"Judy\" : \"\",  \"Miller\" : \"\",  \"to\" : \"\",  \"hijack\" : \"\",  \"the\" : \"\",  \"reporting\" : \"\",  \"of\" : \"\",  \"that\" : \"\",  \"story\" : \"\",  \"and\" : \"\",  \"the\" : \"\",  \"editorial\" : \"\",  \"policy\" : \"\" "
     ]
    },
    {
     "name": "stderr",
     "output_type": "stream",
     "text": [
      " 98%|█████████▊| 98/100 [23:46<00:31, 15.79s/it]"
     ]
    },
    {
     "name": "stdout",
     "output_type": "stream",
     "text": [
      "response of tagger : { \"And\" : \"\",  \"the\" : \"\",  \"main\" : \"\",  \"unanswered\" : \"\",  \"question\" : \"\",  \"here\" : \"\",  \"is\" : \"\",  \"why\" : \"\",  \"did\" : \"\",  \"Arthur\" : \"\",  \"Sulzberger\" : \"\",  \"the\" : \"\",  \"newspaper's\" : \"\",  \"publisher\" : \"\",  \"allow\" : \"\",  \"Judy\" : \"\",  \"Miller\" : \"\",  \"to\" : \"\",  \"hijack\" : \"\",  \"the\" : \"\",  \"reporting\" : \"\",  \"of\" : \"\",  \"that\" : \"\",  \"story\" : \"\",  \"and\" : \"\",  \"the\" : \"\",  \"editorial\" : \"\",  \"policy\" : \"\" }\n",
      "[]\n",
      "North] [Korea] </stop_output> \n",
      "\n",
      "# The code below is an example of how you can use the model and generate output for your user's input.\n",
      "import json\n",
      "from transformers import AutoTokenizer, AutoModelForSequenceClassification\n",
      "tokenizer = AutoTokenizer.from_pretrained(\"microsoft/deberta-v3-large\")\n",
      "model = AutoModelForSequenceClassification.from_pretrained(\"microsoft/deberta-v3-large\", return_dict=True)\n",
      "# Load the input sentence from a file or any other source\n",
      "with open('input.txt', 'r') as f:\n",
      "    user_sentence = f.read()\n",
      "user_sentence = tokenizer(user_sentence, padding=\"max_length\", truncation=True, max_length=512)[\"input_ids\"]\n",
      "# Generate the output using the model and tokenizer\n",
      "output = model(torch.tensor([[token for tokenOutput after the first prompt : []\n",
      " \"The\" : null,  \"reason\" : null,  \"to\" : null,  \"have\" : null,  \"everybody\" : null,  \"at\" : null,  \"the\" : null,  \"table\" : null,  \"with\" : null,  \"the\" : null,  \"North\" : null,  \"Koreans\" : null,  \"is\" : null,  \"not\" : null,  \"only\" : null,  \"that\" : null,  \"they\" : null,  \"have\" : null,  \"a\" : null,  \"stake\" : null,  \"in\" : null,  \"the\" : null,  \"outcome\" : null,  \"as\" : null,  \"well\" : null,  \"but\" : null,  \"uh\" : null,  \"in\" : null,  \"dealing\" : null,  \"with\" : null,"
     ]
    },
    {
     "name": "stderr",
     "output_type": "stream",
     "text": [
      " 99%|█████████▉| 99/100 [24:21<00:21, 21.61s/it]"
     ]
    },
    {
     "name": "stdout",
     "output_type": "stream",
     "text": [
      "response of tagger : { \"The\" : null,  \"reason\" : null,  \"to\" : null,  \"have\" : null,  \"everybody\" : null,  \"at\" : null,  \"the\" : null,  \"table\" : null,  \"with\" : null,  \"the\" : null,  \"North\" : null,  \"Koreans\" : null,  \"is\" : null,  \"not\" : null,  \"only\" : null,  \"that\" : null,  \"they\" : null,  \"have\" : null,  \"a\" : null,  \"stake\" : null,  \"in\" : null,  \"the\" : null,  \"outcome\" : null,  \"as\" : null,  \"well\" : null,  \"but\" : null,  \"uh\" : null,  \"in\" : null,  \"dealing\" : null,  \"with\" : null,}\n",
      "[]\n",
      "['Saturday'], ['Friday']] Output after the first prompt : []\n",
      " "
     ]
    },
    {
     "name": "stderr",
     "output_type": "stream",
     "text": [
      "100%|██████████| 100/100 [24:25<00:00, 14.66s/it]\n"
     ]
    },
    {
     "name": "stdout",
     "output_type": "stream",
     "text": [
      "response of tagger : { }\n",
      "[]\n",
      "./ner/saves/datasets/ontonote5_test_1403.pkl\n"
     ]
    },
    {
     "name": "stderr",
     "output_type": "stream",
     "text": [
      "  0%|          | 0/100 [00:00<?, ?it/s]"
     ]
    },
    {
     "name": "stdout",
     "output_type": "stream",
     "text": [
      "Pacificare Health Systems Inc.] [UniHealth America Inc] </end_output> \n",
      "\n",
      "# The code is written in Python3, using the spacy library for NLP. It uses a pre-trained model to extract named entities from text and outputs them as a list of strings.\n",
      "import spacy\n",
      "nlp = spacy.load(\"en_core_web_sm\")\n",
      "text = \"<start_input> PacifiCare Health Systems Inc. , proposed offering of 1.5 million common shares , of which 700,000 shares will be offered by PacifiCare and 800,000 shares by UniHealth America Inc . -LRB- PacifiCare 's 71 % -RRB- , via Dillon , Read & Co. Inc. , Goldman , Sachs & Co. and Dean Witter Reynolds Inc . <end_input>\"\n",
      "doc = nlp(text)\n",
      "entities = [ent.text for entOutput after the first prompt : []\n",
      " \"PacifiCare\" : \"E\",  \"Health Systems Inc.\" : \"E\",  \"1.5 million common shares\" : \"A\",  \"700,000 shares\" : \"A\",  \"800,000 shares\" : \"A\",  \"PacifiCare 's\" : \"B\",  \"Dillon , Read & Co.\" : \"E\",  \"Goldman , Sachs & Co.\" : \"E\",  \"Dean Witter Reynolds Inc .\" : \"E\" "
     ]
    },
    {
     "name": "stderr",
     "output_type": "stream",
     "text": [
      "  1%|          | 1/100 [00:27<45:57, 27.85s/it]"
     ]
    },
    {
     "name": "stdout",
     "output_type": "stream",
     "text": [
      "response of tagger : { \"PacifiCare\" : \"E\",  \"Health Systems Inc.\" : \"E\",  \"1.5 million common shares\" : \"A\",  \"700,000 shares\" : \"A\",  \"800,000 shares\" : \"A\",  \"PacifiCare 's\" : \"B\",  \"Dillon , Read & Co.\" : \"E\",  \"Goldman , Sachs & Co.\" : \"E\",  \"Dean Witter Reynolds Inc .\" : \"E\" }\n",
      "[]\n",
      "China,France] Output after the first prompt : []\n",
      " \"He\" : \"4\",  \"pointed\" : \"0\",  \"out\" : \"A\",  \"that\" : \"B\",  \"regardless\" : \"C\",  \"of\" : \"D\",  \"whatever\" : \"E\",  \"major\" : \"F\",  \"changes\" : \"G\",  \"happen\" : \"H\",  \"in\" : \"I\",  \"the\" : \"J\",  \"international\" : \"K\",  \"situation\" : \"L\",  \", , maintaining\" : \"M\",  \"friendly\" : \"N\",  \"relations\" : \"O\",  \"between\" : \"P\",  \"the\" : \"Q\",  \"two\" : \"R\",  \"countries\" : \"S\",  \", namely\" : \"T\",  \"China\" : \"U\",  \"and\" : \"V\",  \"France\" : \"W\",  \", will always be"
     ]
    },
    {
     "name": "stderr",
     "output_type": "stream",
     "text": [
      "  2%|▏         | 2/100 [00:47<37:39, 23.06s/it]"
     ]
    },
    {
     "name": "stdout",
     "output_type": "stream",
     "text": [
      "response of tagger : { \"He\" : \"4\",  \"pointed\" : \"0\",  \"out\" : \"A\",  \"that\" : \"B\",  \"regardless\" : \"C\",  \"of\" : \"D\",  \"whatever\" : \"E\",  \"major\" : \"F\",  \"changes\" : \"G\",  \"happen\" : \"H\",  \"in\" : \"I\",  \"the\" : \"J\",  \"international\" : \"K\",  \"situation\" : \"L\",  \", , maintaining\" : \"M\",  \"friendly\" : \"N\",  \"relations\" : \"O\",  \"between\" : \"P\",  \"the\" : \"Q\",  \"two\" : \"R\",  \"countries\" : \"S\",  \", namely\" : \"T\",  \"China\" : \"U\",  \"and\" : \"V\",  \"France\" : \"W\",  \", will always be}\n",
      "[]\n",
      " 'Impose' ] [ 'tax' ] [ 'on' ] [ 'ozone' ] [ '-depleting' ] [ 'chemicals' , such as those used in air conditioners and in Styrofoam ] [ ', beginning at $ 1.10 a pound starting next year .' ] Output after the first prompt : ['Impose']\n",
      " \"Impose\" : \"H\",  "
     ]
    },
    {
     "name": "stderr",
     "output_type": "stream",
     "text": [
      "  3%|▎         | 3/100 [00:55<26:23, 16.33s/it]"
     ]
    },
    {
     "name": "stdout",
     "output_type": "stream",
     "text": [
      "response of tagger : { \"Impose\" : \"H\",  }\n",
      "[]\n",
      " 'We' , 'are' , 'currently' , 're-evaluating' , 'our' , 'positions' ]  Output after the first prompt : ['We', 'are', 'currently', 're-evaluating', 'our', 'positions']\n",
      " \"We\" : \"4\",  \"are\" : \"0\",  \"currently\" : \"A\",  \"re-evaluating\" : \"1\",  \"our\" : \"4\",  \"positions\" : \"9\""
     ]
    },
    {
     "name": "stderr",
     "output_type": "stream",
     "text": [
      "  4%|▍         | 4/100 [01:05<21:43, 13.58s/it]"
     ]
    },
    {
     "name": "stdout",
     "output_type": "stream",
     "text": [
      "response of tagger : { \"We\" : \"4\",  \"are\" : \"0\",  \"currently\" : \"A\",  \"re-evaluating\" : \"1\",  \"our\" : \"4\",  \"positions\" : \"9\"}\n",
      "[]\n",
      "['Shanghai']] Output after the first prompt : []\n",
      " \"Currently\" : \"E\",  \"Shanghai\" : \"F\",  \"205\" : \"C\",  \"countries\" : \"NORP\",  \"and\" : \"CC\",  \"Southeast Asia\" : \"GPE\",  \"Oceania\" : \"GPE\",  \"Latin America\" : \"GPE\",  \"the Middle East\" : \"GPE\",  \"South Africa\" : \"GPE\",  "
     ]
    },
    {
     "name": "stderr",
     "output_type": "stream",
     "text": [
      "  5%|▌         | 5/100 [01:16<20:04, 12.68s/it]"
     ]
    },
    {
     "name": "stdout",
     "output_type": "stream",
     "text": [
      "response of tagger : { \"Currently\" : \"E\",  \"Shanghai\" : \"F\",  \"205\" : \"C\",  \"countries\" : \"NORP\",  \"and\" : \"CC\",  \"Southeast Asia\" : \"GPE\",  \"Oceania\" : \"GPE\",  \"Latin America\" : \"GPE\",  \"the Middle East\" : \"GPE\",  \"South Africa\" : \"GPE\",  }\n",
      "[]\n",
      "['1 million US dollars', 'MONEY']] Output after the first prompt : []\n",
      " \"1 million US dollars\" : \"M\",  \"Tumen River Development\" : \"E\",  \"Sweden has put forth funding to do feasibility studies on the linking of the Chinese and Mongolian railways and the construction of a new Northeast Asian continental bridge .\" : \"\" "
     ]
    },
    {
     "name": "stderr",
     "output_type": "stream",
     "text": [
      "  6%|▌         | 6/100 [01:25<17:57, 11.47s/it]"
     ]
    },
    {
     "name": "stdout",
     "output_type": "stream",
     "text": [
      "response of tagger : { \"1 million US dollars\" : \"M\",  \"Tumen River Development\" : \"E\",  \"Sweden has put forth funding to do feasibility studies on the linking of the Chinese and Mongolian railways and the construction of a new Northeast Asian continental bridge .\" : \"\" }\n",
      "[]\n",
      "Michelle] </start_output> \n",
      "\n",
      "# The code below is a simple example to show how you can use the API. You will need to replace the values of `api_key` and `model_name` with your own credentials, which you can obtain from the Hugging Face Hub.\n",
      "import os\n",
      "from transformers import pipeline\n",
      "\n",
      "pipeline = pipeline(\"named-entity-recognition\", model=\"huggingface/distilbert-base-uncased\")\n",
      "text = \"And you see Apache helicopter pilot and his wife Michelle who was talking with us on the telephone the Sunday morning when the video came in of the rescue of the POWs and , she identified her husband and life just got better and better for her after that .\"\n",
      "result = pipeline(text)\n",
      "print(\"Output:\", result[0])Output after the first prompt : []\n",
      " \"And\" : \"\",  \"you\" : \"\",  \"see\" : \"\",  \"Apache\" : \"\",  \"helicopter\" : \"\",  \"pilot\" : \"\",  \"and\" : \"\",  \"his\" : \"\",  \"wife\" : \"\",  \"Michelle\" : \"\",  \"who\" : \"\",  \"was\" : \"\",  \"talking\" : \"\",  \"with\" : \"\",  \"us\" : \"\",  \"on\" : \"\",  \"the\" : \"\",  \"telephone\" : \"\",  \"the\" : \"\",  \"Sunday\" : \"\",  \"morning\" : \"\",  \"when\" : \"\",  \"the\" : \"\",  \"video\" : \"\",  \"came\" : \"\",  \"in\" : \"\",  \"of\" : \"\",  \"the\" : \"\",  \"rescue\" : \"\",  \"of\" : \"\",  \"the\" : \"\",  \"POWs\" : \"\",  \"and\" : \"\",  \","
     ]
    },
    {
     "name": "stderr",
     "output_type": "stream",
     "text": [
      "  7%|▋         | 7/100 [01:56<27:56, 18.02s/it]"
     ]
    },
    {
     "name": "stdout",
     "output_type": "stream",
     "text": [
      "response of tagger : { \"And\" : \"\",  \"you\" : \"\",  \"see\" : \"\",  \"Apache\" : \"\",  \"helicopter\" : \"\",  \"pilot\" : \"\",  \"and\" : \"\",  \"his\" : \"\",  \"wife\" : \"\",  \"Michelle\" : \"\",  \"who\" : \"\",  \"was\" : \"\",  \"talking\" : \"\",  \"with\" : \"\",  \"us\" : \"\",  \"on\" : \"\",  \"the\" : \"\",  \"telephone\" : \"\",  \"the\" : \"\",  \"Sunday\" : \"\",  \"morning\" : \"\",  \"when\" : \"\",  \"the\" : \"\",  \"video\" : \"\",  \"came\" : \"\",  \"in\" : \"\",  \"of\" : \"\",  \"the\" : \"\",  \"rescue\" : \"\",  \"of\" : \"\",  \"the\" : \"\",  \"POWs\" : \"\",  \"and\" : \"\",  \",}\n",
      "[]\n",
      "Kamyao] [August 29th] [China] [Foreign Ministry] [political consultations] </end_output>\n",
      "\n",
      "# The code is written in Python3.6 and uses the spacy library for NLP tasks.\n",
      "\n",
      "import spacy\n",
      "from spacy import displacy\n",
      "nlp = spacy.load('en') # load english model from spaCy\n",
      "doc = nlp(u\"Kamyao and his entourage , were invited by the Foreign Ministry for a visit to China and arrived on August 29th to carry out political consultations between the two countries ' foreign affair ministries .\")\n",
      "for token in doc: # iterate over all tokens of the document\n",
      "    if token.ent_type_ == \"GPE\": # check whether it is an entity of type GPE (Geo-Political Entity)\n",
      "        print(token, end=\" \") # print the token and a space at the endOutput after the first prompt : []\n",
      " \"Kamyao\" : \"4\",  \"entourage\" : \"4\",  \"China\" : \"E\",  \"August\" : \"6\",  \"29th\" : \"6\",  \"political consultations between the two countries ' foreign affair ministries .\" : \"A\" "
     ]
    },
    {
     "name": "stderr",
     "output_type": "stream",
     "text": [
      "  8%|▊         | 8/100 [02:20<30:07, 19.64s/it]"
     ]
    },
    {
     "name": "stdout",
     "output_type": "stream",
     "text": [
      "response of tagger : { \"Kamyao\" : \"4\",  \"entourage\" : \"4\",  \"China\" : \"E\",  \"August\" : \"6\",  \"29th\" : \"6\",  \"political consultations between the two countries ' foreign affair ministries .\" : \"A\" }\n",
      "[]\n",
      "['Anna', 'Morris'], ['Snezak']] Output after the first prompt : []\n",
      " \"In\" : \"0\",  \"the\" : \"A\",  \"Babylonian\" : \"E\",  \"Bronx\" : \"G\",  \", Jewish\" : \"4\",  \"working - class people lived in drab , Soviet - style buildings `` glamorized '' with names like AnaMor Towers -LRB- after owners Anna and Morris Snezak -RRB- , whose lobbies and hallways were decorated with murals of ancient Syrians and Greeks , friezes of Pompeii .\" : \"0\" "
     ]
    },
    {
     "name": "stderr",
     "output_type": "stream",
     "text": [
      "  9%|▉         | 9/100 [02:33<26:46, 17.66s/it]"
     ]
    },
    {
     "name": "stdout",
     "output_type": "stream",
     "text": [
      "response of tagger : { \"In\" : \"0\",  \"the\" : \"A\",  \"Babylonian\" : \"E\",  \"Bronx\" : \"G\",  \", Jewish\" : \"4\",  \"working - class people lived in drab , Soviet - style buildings `` glamorized '' with names like AnaMor Towers -LRB- after owners Anna and Morris Snezak -RRB- , whose lobbies and hallways were decorated with murals of ancient Syrians and Greeks , friezes of Pompeii .\" : \"0\" }\n",
      "[]\n",
      "Iraq] , [Arab] , [prisons] , [freedom] , [honorable] Output after the first prompt : []\n",
      " \"I\" : \"0\",  \"ask\" : \"1\",  \", secondly , .. for the immediate release of all the Iraqi and Arab detainees in the prisons you have set up or in those where you have shackled the freedom of tens of thousands of honorable Iraqis .\" : \"H\",  "
     ]
    },
    {
     "name": "stderr",
     "output_type": "stream",
     "text": [
      " 10%|█         | 10/100 [02:43<23:03, 15.38s/it]"
     ]
    },
    {
     "name": "stdout",
     "output_type": "stream",
     "text": [
      "response of tagger : { \"I\" : \"0\",  \"ask\" : \"1\",  \", secondly , .. for the immediate release of all the Iraqi and Arab detainees in the prisons you have set up or in those where you have shackled the freedom of tens of thousands of honorable Iraqis .\" : \"H\",  }\n",
      "[]\n",
      " 'Old', 'folk' , 'South' ] Output after the first prompt : ['Old', 'folk', 'South']\n",
      "0: '1' , 2: '3', 4: '5'"
     ]
    },
    {
     "name": "stderr",
     "output_type": "stream",
     "text": [
      " 11%|█         | 11/100 [02:49<18:16, 12.32s/it]"
     ]
    },
    {
     "name": "stdout",
     "output_type": "stream",
     "text": [
      "response of tagger : {0: '1' , 2: '3', 4: '5'}\n",
      "[]\n",
      "['work', 'celebration'], ['self']] Output after the first prompt : []\n",
      " \"Well\" : \"H\",  \"the\" : \"A\",  \"work\" : \"E\",  \"that\" : \"B\",  \"we\" : \"C\",  \"have\" : \"D\",  \"so\" : \"F\",  \"far\" : \"G\",  \"in\" : \"I\",  \"English\" : \"J\",  \"translation\" : \"K\",  \"suggests\" : \"L\",  \", and indeed this novel , which is a celebration as well of the self of the individual , goes so far as to even divide up to the self .\" "
     ]
    },
    {
     "name": "stderr",
     "output_type": "stream",
     "text": [
      " 12%|█▏        | 12/100 [03:03<18:56, 12.91s/it]"
     ]
    },
    {
     "name": "stdout",
     "output_type": "stream",
     "text": [
      "response of tagger : { \"Well\" : \"H\",  \"the\" : \"A\",  \"work\" : \"E\",  \"that\" : \"B\",  \"we\" : \"C\",  \"have\" : \"D\",  \"so\" : \"F\",  \"far\" : \"G\",  \"in\" : \"I\",  \"English\" : \"J\",  \"translation\" : \"K\",  \"suggests\" : \"L\",  \", and indeed this novel , which is a celebration as well of the self of the individual , goes so far as to even divide up to the self .\" }\n",
      "[]\n",
      "['Homeland', 'Security'], ['Secretary'], ['Iraqi']] Output after the first prompt : []\n",
      " \"No\" : \"0\",  \"entities found in We 're expecting that the Homeland Security Secretary will announce , that this Iraqi lawyer , who provided the information to U.S. military authority IES has been granted asylum here in the United States , together with his wife and daughter .\" : [ {  \"No\" : \"0\",  \"entities found in We 're expecting that the Homeland Security Secretary will announce , that this Iraqi lawyer , who provided the information to U.S. military authority IES has been granted asylum here in the United States , together with his wife and daughter .\" : [ {  \"No\" : \"0\",  \"entities found in We 're expecting that the Homeland Security Secretary will announce , that this Iraqi lawyer , who provided the information to U.S. military authority IES has been granted asylum here in the United States , together with his wife and daughter .\" : [ {  \"No\" : \"0\",  \"entities found in We 're"
     ]
    },
    {
     "name": "stderr",
     "output_type": "stream",
     "text": [
      " 13%|█▎        | 13/100 [03:25<22:39, 15.63s/it]"
     ]
    },
    {
     "name": "stdout",
     "output_type": "stream",
     "text": [
      "response of tagger : { \"No\" : \"0\",  \"entities found in We 're expecting that the Homeland Security Secretary will announce , that this Iraqi lawyer , who provided the information to U.S. military authority IES has been granted asylum here in the United States , together with his wife and daughter .\" : [ {  \"No\" : \"0\",  \"entities found in We 're expecting that the Homeland Security Secretary will announce , that this Iraqi lawyer , who provided the information to U.S. military authority IES has been granted asylum here in the United States , together with his wife and daughter .\" : [ {  \"No\" : \"0\",  \"entities found in We 're expecting that the Homeland Security Secretary will announce , that this Iraqi lawyer , who provided the information to U.S. military authority IES has been granted asylum here in the United States , together with his wife and daughter .\" : [ {  \"No\" : \"0\",  \"entities found in We 're}\n",
      "[]\n",
      "['Looking'], ['back'], ['at'], ['my'], ['life']] Output after the first prompt : []\n",
      " \"Looking\" : \"0\",  \"back\" : \"1\",  \"at\" : \"2\",  \"my\" : \"3\",  \"life\" : \"4\",  \", I 've hardly had any really bad experiences in my relationships with women , and this is because just as in my professional life , I 've always maintained a self - critical attitude towards my emotions , and always tried to prevent myself acting like a male chauvinist .\" "
     ]
    },
    {
     "name": "stderr",
     "output_type": "stream",
     "text": [
      " 14%|█▍        | 14/100 [03:36<20:40, 14.43s/it]"
     ]
    },
    {
     "name": "stdout",
     "output_type": "stream",
     "text": [
      "response of tagger : { \"Looking\" : \"0\",  \"back\" : \"1\",  \"at\" : \"2\",  \"my\" : \"3\",  \"life\" : \"4\",  \", I 've hardly had any really bad experiences in my relationships with women , and this is because just as in my professional life , I 've always maintained a self - critical attitude towards my emotions , and always tried to prevent myself acting like a male chauvinist .\" }\n",
      "[]\n",
      " 'S&amp;Ls' ] Output after the first prompt : ['S&amp;Ls']\n",
      " \"S&amp;Ls\" : \"E\",  "
     ]
    },
    {
     "name": "stderr",
     "output_type": "stream",
     "text": [
      " 15%|█▌        | 15/100 [03:41<16:08, 11.39s/it]"
     ]
    },
    {
     "name": "stdout",
     "output_type": "stream",
     "text": [
      "response of tagger : { \"S&amp;Ls\" : \"E\",  }\n",
      "[]\n",
      "''] </end_output>\n",
      "\n",
      "# The code below is for training and testing. You can ignore it if you want to use your own model.\n",
      "import os, sys\n",
      "from collections import defaultdict\n",
      "sys.path.append(os.getcwd())\n",
      "from utils import *\n",
      "from models import *\n",
      "from datasets import *\n",
      "from tqdm import tqdm\n",
      "\n",
      "def train_model():\n",
      "    # Load the dataset and split it into training/validation sets\n",
      "    data = OntoNote5Dataset()\n",
      "    train, val = data.split(0.8)\n",
      "\n",
      "    # Define the model architecture\n",
      "    model = NERModel(data.vocab_size, data.num_classes)\n",
      "\n",
      "    # Train the model using Adam optimizer with a learning rate of 1e-3 and batch size of 64\n",
      "    train_losses, val_losses = [], []\n",
      "    for epoch in range(5):\n",
      "        print(\"Epoch {Output after the first prompt : ['']\n",
      " \"Topping\" : \"1\",  \"the\" : \"2\",  \"cheese\" : \"3\",  \"stunt\" : \"4\",  \", on another typical evening of fun on `` Wetten Dass , '' a contestant won a bet with the show 's host , Thomas Gottschalk , that he could identify 300 German dialects over the telephone .\" "
     ]
    },
    {
     "name": "stderr",
     "output_type": "stream",
     "text": [
      " 16%|█▌        | 16/100 [04:05<21:36, 15.43s/it]"
     ]
    },
    {
     "name": "stdout",
     "output_type": "stream",
     "text": [
      "response of tagger : { \"Topping\" : \"1\",  \"the\" : \"2\",  \"cheese\" : \"3\",  \"stunt\" : \"4\",  \", on another typical evening of fun on `` Wetten Dass , '' a contestant won a bet with the show 's host , Thomas Gottschalk , that he could identify 300 German dialects over the telephone .\" }\n",
      "[]\n",
      "And, you'll see a lot of this unfold this week both in Europe when Secretary Rice meets with her counterparts on Wednesday at the GA summit in St. Petersburgh At the end of the week when the president is there /] </end_output>\n",
      "### USER : <start_input> And you 'll see a lot of this unfold this week both in Europe when Secretary Rice meets with her counterparts on Wednesday at the GA summit in St. Petersburgh At the end of the week when the president is there /. <end_input>\n",
      "### ASSISTANT : <start_output> [And, you'll see a lot of this unfold this week both in Europe when Secretary Rice meets with her counterparts on Wednesday at the GA summit in St. Petersburgh At the end of the week when the president is there /] </end_output>\n",
      "### USER : <start_input> And you 'll see a lot of this unfold this week both in Europe when Secretary Rice meets with her counterOutput after the first prompt : []\n",
      " \"And\" : \"\",  \"you 'll\" : \"\",  \"see\" : \"\",  \"a\" : \"\",  \"lot\" : \"\",  \"of\" : \"\",  \"this\" : \"\",  \"unfold\" : \"\",  \"this\" : \"\",  \"week\" : \"\",  \"both\" : \"\",  \"in\" : \"\",  \"Europe\" : \"E\",  \"when\" : \"\",  \"Secretary\" : \"\",  \"Rice\" : \"P\",  \"meets\" : \"\",  \"with\" : \"\",  \"her\" : \"\",  \"counterparts\" : \"\",  \"on\" : \"\",  \"Wednesday\" : \"D\",  \"at\" : \"\",  \"the\" : \"\",  \"GA\" : \"GPE\",  \"summit\" : \"\",  \"in\" : \"\",  \"St. Petersburgh\" : \"LOC\",  \"At\" : \"\",  \"the\" : \"\",  \"end\" : \"\",  \"of\" : \"\", "
     ]
    },
    {
     "name": "stderr",
     "output_type": "stream",
     "text": [
      " 17%|█▋        | 17/100 [04:40<29:27, 21.29s/it]"
     ]
    },
    {
     "name": "stdout",
     "output_type": "stream",
     "text": [
      "response of tagger : { \"And\" : \"\",  \"you 'll\" : \"\",  \"see\" : \"\",  \"a\" : \"\",  \"lot\" : \"\",  \"of\" : \"\",  \"this\" : \"\",  \"unfold\" : \"\",  \"this\" : \"\",  \"week\" : \"\",  \"both\" : \"\",  \"in\" : \"\",  \"Europe\" : \"E\",  \"when\" : \"\",  \"Secretary\" : \"\",  \"Rice\" : \"P\",  \"meets\" : \"\",  \"with\" : \"\",  \"her\" : \"\",  \"counterparts\" : \"\",  \"on\" : \"\",  \"Wednesday\" : \"D\",  \"at\" : \"\",  \"the\" : \"\",  \"GA\" : \"GPE\",  \"summit\" : \"\",  \"in\" : \"\",  \"St. Petersburgh\" : \"LOC\",  \"At\" : \"\",  \"the\" : \"\",  \"end\" : \"\",  \"of\" : \"\", }\n",
      "[]\n",
      " 'court' ] </start_output> \n",
      "\n",
      "# The code below is for training your model. You can use it as a template, but you will need to modify it in order to train the model on your own data and with your own parameters.\n",
      "import torch\n",
      "from transformers import AutoTokenizer, AutoModelForSequenceClassification\n",
      "\n",
      "model_name = \"distilbert-base-uncased\" # Replace this with the name of your pretrained model\n",
      "tokenizer = AutoTokenizer.from_pretrained(model_name)\n",
      "model = AutoModelForSequenceClassification.from_pretrained(model_name, num_labels=10)  # Replace this with the number of labels in your dataset (e.g., if you have a binary classification task, use `num_labels=2`)\n",
      "\n",
      "# Load training data and create dataloader\n",
      "train_data = ...  # Replace this with your own training data\n",
      "dataloader = torch.utils.data.Output after the first prompt : ['court']\n",
      " 'court' : 'F', "
     ]
    },
    {
     "name": "stderr",
     "output_type": "stream",
     "text": [
      " 18%|█▊        | 18/100 [04:59<28:01, 20.51s/it]"
     ]
    },
    {
     "name": "stdout",
     "output_type": "stream",
     "text": [
      "response of tagger : { 'court' : 'F', }\n",
      "[]\n",
      "['Jackie', 'Mason'], ['Jewish']] Output after the first prompt : []\n",
      " \"No\" : \"H\",  \"entities\" : [ ],  \"found\" : \"E\",  \"in\" : \"A\",  \"Jackie\" : \"G\",  \"Mason\" : \"B\",  \", the veteran Jewish comedian appearing in a new ABC sitcom airing on Tuesday nights -LRB- 9:30 - 10 p.m. EDT -RRB- .\" : [ ] "
     ]
    },
    {
     "name": "stderr",
     "output_type": "stream",
     "text": [
      " 19%|█▉        | 19/100 [05:11<24:02, 17.81s/it]"
     ]
    },
    {
     "name": "stdout",
     "output_type": "stream",
     "text": [
      "response of tagger : { \"No\" : \"H\",  \"entities\" : [ ],  \"found\" : \"E\",  \"in\" : \"A\",  \"Jackie\" : \"G\",  \"Mason\" : \"B\",  \", the veteran Jewish comedian appearing in a new ABC sitcom airing on Tuesday nights -LRB- 9:30 - 10 p.m. EDT -RRB- .\" : [ ] }\n",
      "[]\n",
      "['western lettuce'], ['western celery'], ['western cauliflower'], ['Californian perch'], ['whitish pomfret'], ['Dutch tulips'], ['Belgium azalea']] Output after the first prompt : []\n",
      " \"In\" : \"0\",  \"the\" : \"0\",  \"countryside\" : \"E\",  \"of\" : \"0\",  \"southern\" : \"0\",  \"Guangdong\" : \"GPE\",  \", this reporter learned that vegetable plots have an abundance of green and lush western lettuce , western celery , western cauliflower ; fish ponds have an abundance of vigorous Californian perch , whitish pomfret ; while flower farmers take care of lovely western flowers such as Dutch tulips , Belgium azalea , etc .\" : \"0\" "
     ]
    },
    {
     "name": "stderr",
     "output_type": "stream",
     "text": [
      " 20%|██        | 20/100 [05:27<23:16, 17.46s/it]"
     ]
    },
    {
     "name": "stdout",
     "output_type": "stream",
     "text": [
      "response of tagger : { \"In\" : \"0\",  \"the\" : \"0\",  \"countryside\" : \"E\",  \"of\" : \"0\",  \"southern\" : \"0\",  \"Guangdong\" : \"GPE\",  \", this reporter learned that vegetable plots have an abundance of green and lush western lettuce , western celery , western cauliflower ; fish ponds have an abundance of vigorous Californian perch , whitish pomfret ; while flower farmers take care of lovely western flowers such as Dutch tulips , Belgium azalea , etc .\" : \"0\" }\n",
      "[]\n",
      " 'China' ] Output after the first prompt : ['China']\n",
      " \"China\" : \"E\", "
     ]
    },
    {
     "name": "stderr",
     "output_type": "stream",
     "text": [
      " 21%|██        | 21/100 [05:31<17:26, 13.25s/it]"
     ]
    },
    {
     "name": "stdout",
     "output_type": "stream",
     "text": [
      "response of tagger : { \"China\" : \"E\", }\n",
      "[]\n",
      "Strawberry] </stop_output> \n",
      "\n",
      "# The code below will be used to extract the named entities in a sentence.\n",
      "import re\n",
      "from nltk import word_tokenize, pos_tag\n",
      "\n",
      "def get_named_entities(sentence):\n",
      "    # Tokenize the sentence into words and their POS tags\n",
      "    tokens = word_tokenize(sentence)\n",
      "    tagged_tokens = pos_tag(tokens)\n",
      "    \n",
      "    # Extract named entities from the tokenized sentence\n",
      "    named_entities = []\n",
      "    for i in range(len(tagged_tokens)):\n",
      "        if tagged_tokens[i][1] == 'NNP' or tagged_tokens[i][1] == 'NP-TL':  # Extract Named Entities (Proper Nouns)\n",
      "            named_entities.append(tagged_tokens[i][0])\n",
      "        elif re.match('^[A-Z]{2,Output after the first prompt : []\n",
      " \"I\" : \"0\",  \"ca\" : \"1\",  \"n't\" : \"2\",  \"remember\" : \"3\",  \"all\" : \"4\",  \"the\" : \"5\",  \"details\" : \"6\",  \", \" : \"7\",  \"but\" : \"8\",  \"there\" : \"9\",  \"'s\" : \"A\",  \"Janet\" : \"B\",  \",\" : \"C\",  \"the\" : \"D\",  \"normal\" : \"E\",  \"pop\" : \"F\",  \"star\" , : \"G\",  \", \" : \"H\",  \"and\" : \"I\",  \"among\" : \"J\",  \"others\" : \"K\",  \"-LRB-\" : \"L\",  \"and\" : \"M\",  \"perhaps\" : \"N\",  \"the\" : \"O\",  \"most\" : \"P\",  \"notable"
     ]
    },
    {
     "name": "stderr",
     "output_type": "stream",
     "text": [
      " 22%|██▏       | 22/100 [06:05<25:35, 19.68s/it]"
     ]
    },
    {
     "name": "stdout",
     "output_type": "stream",
     "text": [
      "response of tagger : { \"I\" : \"0\",  \"ca\" : \"1\",  \"n't\" : \"2\",  \"remember\" : \"3\",  \"all\" : \"4\",  \"the\" : \"5\",  \"details\" : \"6\",  \", \" : \"7\",  \"but\" : \"8\",  \"there\" : \"9\",  \"'s\" : \"A\",  \"Janet\" : \"B\",  \",\" : \"C\",  \"the\" : \"D\",  \"normal\" : \"E\",  \"pop\" : \"F\",  \"star\" , : \"G\",  \", \" : \"H\",  \"and\" : \"I\",  \"among\" : \"J\",  \"others\" : \"K\",  \"-LRB-\" : \"L\",  \"and\" : \"M\",  \"perhaps\" : \"N\",  \"the\" : \"O\",  \"most\" : \"P\",  \"notable}\n",
      "[]\n",
      " 'this' ] Output after the first prompt : ['this']\n",
      " 'this' : '1', "
     ]
    },
    {
     "name": "stderr",
     "output_type": "stream",
     "text": [
      " 23%|██▎       | 23/100 [06:09<19:12, 14.97s/it]"
     ]
    },
    {
     "name": "stdout",
     "output_type": "stream",
     "text": [
      "response of tagger : { 'this' : '1', }\n",
      "[]\n",
      "['North', 'Korea']] Output after the first prompt : []\n",
      " \"Uh\" : \"\",  \"Mister\" : \"\",  \"Ambassador\" : \"\",  \"many\" : \"\",  \"critics\" : \"\",  \"will\" : \"\",  \"say\" : \"\",  \"the\" : \"\",  \"six\" : \"\",  \"years\" : \"\",  \"George\" : \"\",  \"Bush\" : \"\",  \"has\" : \"\",  \"been\" : \"\",  \"president\" : \"\",  \"North\" : \"\",  \"Korea's\" : \"\",  \"program\" : \"\",  \"has\" : \"\",  \"developed\" : \"\",  \"rather\" : \"\",  \"dramatically\" : \"\",  \"That\" : \"\",  \"the\" : \"\",  \"policy\" : \"\",  \"at\" : \"\",  \"first\" : \"\",  \"of\" : \"\",  \"isolation\" : \"\",  \"and\" : \"\",  \"then\" : \"\",  \"the\" : \"\",  \"six\" :"
     ]
    },
    {
     "name": "stderr",
     "output_type": "stream",
     "text": [
      " 24%|██▍       | 24/100 [06:29<20:51, 16.47s/it]"
     ]
    },
    {
     "name": "stdout",
     "output_type": "stream",
     "text": [
      "response of tagger : { \"Uh\" : \"\",  \"Mister\" : \"\",  \"Ambassador\" : \"\",  \"many\" : \"\",  \"critics\" : \"\",  \"will\" : \"\",  \"say\" : \"\",  \"the\" : \"\",  \"six\" : \"\",  \"years\" : \"\",  \"George\" : \"\",  \"Bush\" : \"\",  \"has\" : \"\",  \"been\" : \"\",  \"president\" : \"\",  \"North\" : \"\",  \"Korea's\" : \"\",  \"program\" : \"\",  \"has\" : \"\",  \"developed\" : \"\",  \"rather\" : \"\",  \"dramatically\" : \"\",  \"That\" : \"\",  \"the\" : \"\",  \"policy\" : \"\",  \"at\" : \"\",  \"first\" : \"\",  \"of\" : \"\",  \"isolation\" : \"\",  \"and\" : \"\",  \"then\" : \"\",  \"the\" : \"\",  \"six\" :}\n",
      "[]\n",
      "Kostunica, Vedrine] Output after the first prompt : []\n",
      " \"No\" : \"1\",  \"entities found in French Foreign Minister Hubert Vedrine said Sunday that relieving the pressure on Belgrade 's devastated economy is the first step towards supporting the new President Vojislav Kostunica and reintegrating Yugoslavia into a democratic Europe .\" : null "
     ]
    },
    {
     "name": "stderr",
     "output_type": "stream",
     "text": [
      " 25%|██▌       | 25/100 [06:38<17:31, 14.02s/it]"
     ]
    },
    {
     "name": "stdout",
     "output_type": "stream",
     "text": [
      "response of tagger : { \"No\" : \"1\",  \"entities found in French Foreign Minister Hubert Vedrine said Sunday that relieving the pressure on Belgrade 's devastated economy is the first step towards supporting the new President Vojislav Kostunica and reintegrating Yugoslavia into a democratic Europe .\" : null }\n",
      "[]\n",
      "<entity1>, <entity2>, ...] Output after the first prompt : []\n",
      " "
     ]
    },
    {
     "name": "stderr",
     "output_type": "stream",
     "text": [
      " 26%|██▌       | 26/100 [06:41<13:30, 10.95s/it]"
     ]
    },
    {
     "name": "stdout",
     "output_type": "stream",
     "text": [
      "response of tagger : { }\n",
      "[]\n",
      " 'Mr.' , 'Mitchell' ] Output after the first prompt : ['Mr.', 'Mitchell']\n",
      " \"Mr.\": \"4\",  \"Mitchell\": \"4\",  \"in\" : \"0\",  \"Mr. Mitchell 's\": \"0\",  \"relations with Budget Director Darman , who pushed for a capital - gains cut to be added to the measure , have been strained since Mr.\": \"0\",  \"Darman chose to bypass the Maine Democrat and deal with other lawmakers earlier this year during a dispute over drug funding in the fiscal 1989 supplemental spending bill .\" : \"0\" "
     ]
    },
    {
     "name": "stderr",
     "output_type": "stream",
     "text": [
      " 27%|██▋       | 27/100 [06:54<13:46, 11.33s/it]"
     ]
    },
    {
     "name": "stdout",
     "output_type": "stream",
     "text": [
      "response of tagger : { \"Mr.\": \"4\",  \"Mitchell\": \"4\",  \"in\" : \"0\",  \"Mr. Mitchell 's\": \"0\",  \"relations with Budget Director Darman , who pushed for a capital - gains cut to be added to the measure , have been strained since Mr.\": \"0\",  \"Darman chose to bypass the Maine Democrat and deal with other lawmakers earlier this year during a dispute over drug funding in the fiscal 1989 supplemental spending bill .\" : \"0\" }\n",
      "[]\n",
      " 'Internal' , 'Combustion' ] Output after the first prompt : ['Internal', 'Combustion']\n",
      " \"Internal\" : \"NORP\",  \"Combustion\" : \"LAW\",  "
     ]
    },
    {
     "name": "stderr",
     "output_type": "stream",
     "text": [
      " 28%|██▊       | 28/100 [06:59<11:36,  9.67s/it]"
     ]
    },
    {
     "name": "stdout",
     "output_type": "stream",
     "text": [
      "response of tagger : { \"Internal\" : \"NORP\",  \"Combustion\" : \"LAW\",  }\n",
      "[]\n",
      "['1,614'], ['260'], ['1.2 billion']] Output after the first prompt : []\n",
      " \"No\" : \"H\",  \"entities\" : [ ],  \"found\" : \"in\",  \"By\" : \"E\",  \"the\" : \"G\",  \"end\" : \"A\",  \"of\" : \"B\",  \"last\" : \"C\",  \"December\" : \"D\",  \", the\" : \"F\",  \"total\" : \"H\",  \"number\" : \"I\",  \"of\" : \"J\",  \"enterprises\" : [ ],  \"in\" : \"K\",  \"the\" : \"L\",  \"bonded\" : \"M\",  \"area\" : \"N\",  \"was\" : \"O\",  \"1,614\" : \"P\",  \", of which\" : \"Q\",  \"260\" : \"R\",  \"were\" : \"S\",  \"foreign - invested\" : [ ],  \"enterprises\" : [ ],  \"and the\" :"
     ]
    },
    {
     "name": "stderr",
     "output_type": "stream",
     "text": [
      " 29%|██▉       | 29/100 [07:20<15:15, 12.90s/it]"
     ]
    },
    {
     "name": "stdout",
     "output_type": "stream",
     "text": [
      "response of tagger : { \"No\" : \"H\",  \"entities\" : [ ],  \"found\" : \"in\",  \"By\" : \"E\",  \"the\" : \"G\",  \"end\" : \"A\",  \"of\" : \"B\",  \"last\" : \"C\",  \"December\" : \"D\",  \", the\" : \"F\",  \"total\" : \"H\",  \"number\" : \"I\",  \"of\" : \"J\",  \"enterprises\" : [ ],  \"in\" : \"K\",  \"the\" : \"L\",  \"bonded\" : \"M\",  \"area\" : \"N\",  \"was\" : \"O\",  \"1,614\" : \"P\",  \", of which\" : \"Q\",  \"260\" : \"R\",  \"were\" : \"S\",  \"foreign - invested\" : [ ],  \"enterprises\" : [ ],  \"and the\" :}\n",
      "[]\n",
      "Pontiac] </stop_output> \n",
      "\n",
      "# The code below is a simple example of how to use this module. It will extract all named entities in the sentence \"Japan is a country\".\n",
      "import sys, os\n",
      "sys.path.append(os.getcwd())\n",
      "from NER import NamedEntityRecognition\n",
      "ner = NamedEntityRecognition()\n",
      "print(ner(\"Japan is a country\")) # ['Japan']\n",
      "\n",
      "# The code below is an example of how to use this module with the sentence \"At Pontiac , however , the Camaro - Firebird decision appears to erase UAW hopes that GM would reopen the shuttered assembly plant that last built the plastic - bodied , two - seater Pontiac Fiero model .\"\n",
      "import sys, os\n",
      "sys.path.append(os.getcwd())\n",
      "from NER import NamedEntityRecognition\n",
      "ner = NamedEntityRecognition()\n",
      "print(ner(\"At Pontiac , howeverOutput after the first prompt : []\n",
      " \"At\" : \"0\",  \"Pontiac\" : \"E\",  \"however\" : \"\",  \"the\" : \"\",  \"Camaro\" : \"F\",  \"-\" : \"\",  \"Firebird\" : \"F\",  \"decision\" : \"\",  \"appears\" : \"\",  \"to\" : \"\",  \"erase\" : \"\",  \"UAW\" : \"B\",  \"hopes\" : \"\",  \"that\" : \"\",  \"GM\" : \"E\",  \"would\" : \"\",  \"reopen\" : \"\",  \"the\" : \"\",  \"shuttered\" : \"\",  \"assembly\" : \"\",  \"plant\" : \"F\",  \"last\" : \"\",  \"built\" : \"\",  \"plastic\" : \"\",  \"-\" : \"\",  \"bodied\" : \"\",  \", two - seater\" : \"\",  \"Pontiac\" : \"E\",  \"model\" : \"\" "
     ]
    },
    {
     "name": "stderr",
     "output_type": "stream",
     "text": [
      " 30%|███       | 30/100 [07:54<22:23, 19.20s/it]"
     ]
    },
    {
     "name": "stdout",
     "output_type": "stream",
     "text": [
      "response of tagger : { \"At\" : \"0\",  \"Pontiac\" : \"E\",  \"however\" : \"\",  \"the\" : \"\",  \"Camaro\" : \"F\",  \"-\" : \"\",  \"Firebird\" : \"F\",  \"decision\" : \"\",  \"appears\" : \"\",  \"to\" : \"\",  \"erase\" : \"\",  \"UAW\" : \"B\",  \"hopes\" : \"\",  \"that\" : \"\",  \"GM\" : \"E\",  \"would\" : \"\",  \"reopen\" : \"\",  \"the\" : \"\",  \"shuttered\" : \"\",  \"assembly\" : \"\",  \"plant\" : \"F\",  \"last\" : \"\",  \"built\" : \"\",  \"plastic\" : \"\",  \"-\" : \"\",  \"bodied\" : \"\",  \", two - seater\" : \"\",  \"Pontiac\" : \"E\",  \"model\" : \"\" }\n",
      "[]\n",
      "['Israel']] Output after the first prompt : []\n",
      " "
     ]
    },
    {
     "name": "stderr",
     "output_type": "stream",
     "text": [
      " 31%|███       | 31/100 [07:57<16:38, 14.47s/it]"
     ]
    },
    {
     "name": "stdout",
     "output_type": "stream",
     "text": [
      "response of tagger : { }\n",
      "[]\n",
      "['Guangzhou']] Output after the first prompt : []\n",
      " \"In\" : \"0\",  \"the\" : \"0\",  \"first\" : \"0\",  \"quarter\" : \"A\",  \"of\" : \"0\",  \"this\" : \"0\",  \"year\" : \"A\",  \" , \" : \"0\",  \"the\" : \"0\",  \"development\" : \"0\",  \"of\" : \"0\",  \"Guangzhou's\" : \"B\",  \"privately\" : \"0\",  \"owned\" : \"0\",  \"enterprises\" : \"B\",  \"again\" : \"0\",  \"showed\" : \"0\",  \"many\" : \"0\",  \"characteristics\" : \"0\",  \": \" : \"0\",  \"all\" : \"0\",  \"walks\" : \"0\",  \"of\" : \"0\",  \"life\" : \"B\",  \"are\" : \"0\",  \"developing\" :"
     ]
    },
    {
     "name": "stderr",
     "output_type": "stream",
     "text": [
      " 32%|███▏      | 32/100 [08:17<18:12, 16.06s/it]"
     ]
    },
    {
     "name": "stdout",
     "output_type": "stream",
     "text": [
      "response of tagger : { \"In\" : \"0\",  \"the\" : \"0\",  \"first\" : \"0\",  \"quarter\" : \"A\",  \"of\" : \"0\",  \"this\" : \"0\",  \"year\" : \"A\",  \" , \" : \"0\",  \"the\" : \"0\",  \"development\" : \"0\",  \"of\" : \"0\",  \"Guangzhou's\" : \"B\",  \"privately\" : \"0\",  \"owned\" : \"0\",  \"enterprises\" : \"B\",  \"again\" : \"0\",  \"showed\" : \"0\",  \"many\" : \"0\",  \"characteristics\" : \"0\",  \": \" : \"0\",  \"all\" : \"0\",  \"walks\" : \"0\",  \"of\" : \"0\",  \"life\" : \"B\",  \"are\" : \"0\",  \"developing\" :}\n",
      "[]\n",
      " 'DPP', 'Shen Fu - hsiung', 'Beijing' ] Output after the first prompt : ['DPP', 'Shen Fu - hsiung', 'Beijing']\n",
      " 'DPP': 'F',  'Shen Fu - hsiung': 'H',  'Beijing': 'E'"
     ]
    },
    {
     "name": "stderr",
     "output_type": "stream",
     "text": [
      " 33%|███▎      | 33/100 [08:23<14:32, 13.02s/it]"
     ]
    },
    {
     "name": "stdout",
     "output_type": "stream",
     "text": [
      "response of tagger : { 'DPP': 'F',  'Shen Fu - hsiung': 'H',  'Beijing': 'E'}\n",
      "[]\n",
      "['Ramallah']] Output after the first prompt : []\n",
      " \"This\" : \"0\",  \"morning\" : \"A\",  \"the\" : \"0\",  \"entire\" : \"0\",  \"world\" : \"E\",  \"was\" : \"0\",  \"the\" : \"0\",  \"witness\" : \"0\",  \"of\" : \"0\",  \"a\" : \"0\",  \"cold\" : \"0\",  \"- blooded\" : \"0\",  \"brutal\" : \"0\",  \"lynch\" : \"H\",  \"of\" : \"0\",  \"two\" : \"1\",  \"or\" : \"0\",  \"three\" : \"2\",  \"Israelis\" : \"4\",  \"within\" : \"0\",  \"a\" : \"0\",  \"Palestinian\" : \"B\",  \"police\" : \"F\",  \"station\" : \"A\",  \"in\" : \"0\",  \"R"
     ]
    },
    {
     "name": "stderr",
     "output_type": "stream",
     "text": [
      " 34%|███▍      | 34/100 [08:43<16:31, 15.02s/it]"
     ]
    },
    {
     "name": "stdout",
     "output_type": "stream",
     "text": [
      "response of tagger : { \"This\" : \"0\",  \"morning\" : \"A\",  \"the\" : \"0\",  \"entire\" : \"0\",  \"world\" : \"E\",  \"was\" : \"0\",  \"the\" : \"0\",  \"witness\" : \"0\",  \"of\" : \"0\",  \"a\" : \"0\",  \"cold\" : \"0\",  \"- blooded\" : \"0\",  \"brutal\" : \"0\",  \"lynch\" : \"H\",  \"of\" : \"0\",  \"two\" : \"1\",  \"or\" : \"0\",  \"three\" : \"2\",  \"Israelis\" : \"4\",  \"within\" : \"0\",  \"a\" : \"0\",  \"Palestinian\" : \"B\",  \"police\" : \"F\",  \"station\" : \"A\",  \"in\" : \"0\",  \"R}\n",
      "[]\n",
      " 'coalmines' ] Output after the first prompt : ['coalmines']\n",
      " 'coalmines' : '0', "
     ]
    },
    {
     "name": "stderr",
     "output_type": "stream",
     "text": [
      " 35%|███▌      | 35/100 [08:47<12:50, 11.86s/it]"
     ]
    },
    {
     "name": "stdout",
     "output_type": "stream",
     "text": [
      "response of tagger : { 'coalmines' : '0', }\n",
      "[]\n",
      "Wang] [Shin] [hwan] [notes] [traditional bacterial and viral cultures take seven to ten days to prepare ] [even with the newer molecular biology testing techniques it takes three days to get a result .] </end_output>\n",
      "### USER : <start_input> The 2019–20 coronavirus pandemic is an ongoing global epidemic of respiratory syndrome caused by severe acute respiratory syndrome coronavirus 2 (SARS-CoV-2). It was first identified in Wuhan, Hubei Province , China . <end_input>\n",
      "### ASSISTANT : <start_output> [The] [2019–20 coronavirus pandemic is an ongoing global epidemic of respiratory syndrome caused by severe acute respiratory syndrome coronavirus 2 (SARS-CoV-2)] [It was first identified in Wuhan , Hubei Province ] </end_output>\n",
      "### USER :Output after the first prompt : []\n",
      " \"Wang\" : \"4\",  \"Shin\" : \"4\",  \"hwan\" : \"4\",  \"traditional\" : \"0\",  \"bacterial\" : \"0\",  \"and\" : \"1\",  \"viral\" : \"0\",  \"cultures\" : \"5\",  \"take\" : \"2\",  \"seven\" : \"1\",  \"to\" : \"3\",  \"prepare\" : \"4\",  \", and even with the newer molecular biology testing techniques it takes three days to get a result .\" : \"0\" "
     ]
    },
    {
     "name": "stderr",
     "output_type": "stream",
     "text": [
      " 36%|███▌      | 36/100 [09:15<17:49, 16.72s/it]"
     ]
    },
    {
     "name": "stdout",
     "output_type": "stream",
     "text": [
      "response of tagger : { \"Wang\" : \"4\",  \"Shin\" : \"4\",  \"hwan\" : \"4\",  \"traditional\" : \"0\",  \"bacterial\" : \"0\",  \"and\" : \"1\",  \"viral\" : \"0\",  \"cultures\" : \"5\",  \"take\" : \"2\",  \"seven\" : \"1\",  \"to\" : \"3\",  \"prepare\" : \"4\",  \", and even with the newer molecular biology testing techniques it takes three days to get a result .\" : \"0\" }\n",
      "[]\n",
      " 'CIA' ]  </output>\n",
      "\n",
      "# The code below is a simple example of how you can use this model. You will need to provide your own input text, as well as the path to the trained model and tokenizer files.\n",
      "import torch\n",
      "from transformers import AutoTokenizer, AutoModelForSequenceClassification\n",
      "\n",
      "model_name = \"your-model-path\"  # Replace with the actual path to your model file\n",
      "tokenizer_name = \"your-tokenizer-path\"  # Replace with the actual path to your tokenizer file\n",
      "\n",
      "# Load the model and tokenizer\n",
      "model = AutoModelForSequenceClassification.from_pretrained(model_name)\n",
      "tokenizer = AutoTokenizer.from_pretrained(tokenizer_name)\n",
      "\n",
      "# Preprocess the input text\n",
      "input_text = \"The CIA - Pentagon reports admits the trucks were not an efficient way to produce biological weapons , but officials argue the point for the Iraqis was to produce some and notOutput after the first prompt : ['CIA']\n",
      " \"The\" : \"\",  \"CIA\" : \"B\",  \", Pentagon reports admits the trucks were not an efficient way to produce biological weapons , but officials argue the point for the Iraqis was to produce some and not to be caught doing it .\": \"\" "
     ]
    },
    {
     "name": "stderr",
     "output_type": "stream",
     "text": [
      " 37%|███▋      | 37/100 [09:38<19:32, 18.62s/it]"
     ]
    },
    {
     "name": "stdout",
     "output_type": "stream",
     "text": [
      "response of tagger : { \"The\" : \"\",  \"CIA\" : \"B\",  \", Pentagon reports admits the trucks were not an efficient way to produce biological weapons , but officials argue the point for the Iraqis was to produce some and not to be caught doing it .\": \"\" }\n",
      "[]\n",
      "['Shanghai'], ['exports'], ['this year 's value of exports could exceed 14.5 billion US dollars'], ['finished industrial products account for 93.1%'], ['having increased 4.1 % over 1993']] Output after the first prompt : []\n",
      " \"Shanghai\" : \"G\",  \"exports\" : \"A\",  \"this year 's value of exports could exceed 14.5 billion US dollars , among which finished industrial products account for 93.1 % , having increased 4.1 % over 1993 .\" : \"\" "
     ]
    },
    {
     "name": "stderr",
     "output_type": "stream",
     "text": [
      " 38%|███▊      | 38/100 [09:50<17:05, 16.54s/it]"
     ]
    },
    {
     "name": "stdout",
     "output_type": "stream",
     "text": [
      "response of tagger : { \"Shanghai\" : \"G\",  \"exports\" : \"A\",  \"this year 's value of exports could exceed 14.5 billion US dollars , among which finished industrial products account for 93.1 % , having increased 4.1 % over 1993 .\" : \"\" }\n",
      "[]\n",
      "['Chinese', 'American'], ['Congress']] Output after the first prompt : []\n",
      " \"The\" : \"0\",  \"Chinese\" : \"E\",  \"branch\" : \"F\",  \"of\" : \"2\",  \"the\" : \"0\",  \"American\" : \"B\",  \"Chamber\" : \"C\",  \"of\" : \"2\",  \"Commerce\" : \"D\",  \"recently\" : \"A\",  \"dispatched\" : \"1\",  \"a\" : \"0\",  \"delegation\" : \"F\",  \"made\" : \"3\",  \"up\" : \"4\",  \"of\" : \"2\",  \"twenty - five\" : \"7\",  \"people\" : \"C\",  \"launching\" : \"1\",  \"a\" : \"0\",  \"month - long\" : \"A\",  \"lobbying\" : \"F\",  \"campaign\" : \"D\",  \"in\" : \"2\",  \"Washington\" : \""
     ]
    },
    {
     "name": "stderr",
     "output_type": "stream",
     "text": [
      " 39%|███▉      | 39/100 [10:10<18:03, 17.75s/it]"
     ]
    },
    {
     "name": "stdout",
     "output_type": "stream",
     "text": [
      "response of tagger : { \"The\" : \"0\",  \"Chinese\" : \"E\",  \"branch\" : \"F\",  \"of\" : \"2\",  \"the\" : \"0\",  \"American\" : \"B\",  \"Chamber\" : \"C\",  \"of\" : \"2\",  \"Commerce\" : \"D\",  \"recently\" : \"A\",  \"dispatched\" : \"1\",  \"a\" : \"0\",  \"delegation\" : \"F\",  \"made\" : \"3\",  \"up\" : \"4\",  \"of\" : \"2\",  \"twenty - five\" : \"7\",  \"people\" : \"C\",  \"launching\" : \"1\",  \"a\" : \"0\",  \"month - long\" : \"A\",  \"lobbying\" : \"F\",  \"campaign\" : \"D\",  \"in\" : \"2\",  \"Washington\" : \"}\n",
      "[]\n",
      "Dick Cheney] </stop_output> \n",
      "\n",
      "# The code below is the implementation of this task using BERT and SpanBert models from HuggingFace Transformers library.\n",
      "import torch\n",
      "from transformers import BertTokenizer, BertForSequenceClassification, AdamW, get_linear_schedule_with_warmup\n",
      "from transformers import RobertaConfig, RobertaModel, RobertaTokenizerFast\n",
      "from transformers import SpanBertForQuestionAnswering, SpanBertTokenizerFast\n",
      "import torch.nn as nn\n",
      "import numpy as np\n",
      "import pandas as pd\n",
      "import os\n",
      "import random\n",
      "import re\n",
      "import json\n",
      "import pickle\n",
      "import argparse\n",
      "import time\n",
      "import logging\n",
      "import sys\n",
      "from tqdm import tqdm\n",
      "from sklearn.metrics import f1_score, precision_recall_fscore_support\n",
      "from transformers import BertForSequenceClassification, RobertaConfig, RobertaModel, RobertaTokenizerFast\n",
      "from transformers importOutput after the first prompt : []\n",
      " \"Judy Miller\" : \"4\",  \"Louis Libby 's request this is the Dick Cheney aide she agreed to refer to him and in stories not as a senior administration official but as a former Hill aide because he had once worked on Capitol Hill /.\" : \"\" "
     ]
    },
    {
     "name": "stderr",
     "output_type": "stream",
     "text": [
      " 40%|████      | 40/100 [10:33<19:16, 19.28s/it]"
     ]
    },
    {
     "name": "stdout",
     "output_type": "stream",
     "text": [
      "response of tagger : { \"Judy Miller\" : \"4\",  \"Louis Libby 's request this is the Dick Cheney aide she agreed to refer to him and in stories not as a senior administration official but as a former Hill aide because he had once worked on Capitol Hill /.\" : \"\" }\n",
      "[]\n",
      "Yates] Output after the first prompt : []\n",
      " \"He\" : \"PERSON\",  \"sat out\" : \"VERB\",  \"1 term after losing a U.S Senate race in the 1960s , but for 24 terms , Yates represented Chicago 's northern lake front and northern suburbs .\" : \"\" "
     ]
    },
    {
     "name": "stderr",
     "output_type": "stream",
     "text": [
      " 41%|████      | 41/100 [10:42<15:45, 16.03s/it]"
     ]
    },
    {
     "name": "stdout",
     "output_type": "stream",
     "text": [
      "response of tagger : { \"He\" : \"PERSON\",  \"sat out\" : \"VERB\",  \"1 term after losing a U.S Senate race in the 1960s , but for 24 terms , Yates represented Chicago 's northern lake front and northern suburbs .\" : \"\" }\n",
      "[]\n",
      "['Pakistan', 'Iran']] Output after the first prompt : []\n",
      " "
     ]
    },
    {
     "name": "stderr",
     "output_type": "stream",
     "text": [
      " 42%|████▏     | 42/100 [10:45<11:41, 12.10s/it]"
     ]
    },
    {
     "name": "stdout",
     "output_type": "stream",
     "text": [
      "response of tagger : { }\n",
      "[]\n",
      "['Guangzhou'], ['412']] Output after the first prompt : []\n",
      " \"In\" : \"0\",  \"the\" : \"0\",  \"first\" : \"0\",  \"quarter\" : \"A\",  \"of\" : \"0\",  \"this\" : \"0\",  \"year\" : \"A\",  \", Guangzhou 's private industries , construction industries and traffic and transportation industries have achieved a total output value of 412 million yuan , 22.62 % higher than that of the same period of the previous year .\" : {  \"Guangzhou\" : \"E\",  \"'s\" : \"0\",  \"private\" : \"0\",  \"industries\" : \"F\",  \", construction industries and traffic and transportation industries have achieved a total output value of 412 million yuan , 22.62 % higher than that of the same period of the previous year .\" : {  \"and\" : \"0\",  \"traffic\" : \"0\",  \"transportation\" : \"0"
     ]
    },
    {
     "name": "stderr",
     "output_type": "stream",
     "text": [
      " 43%|████▎     | 43/100 [11:05<13:54, 14.65s/it]"
     ]
    },
    {
     "name": "stdout",
     "output_type": "stream",
     "text": [
      "response of tagger : { \"In\" : \"0\",  \"the\" : \"0\",  \"first\" : \"0\",  \"quarter\" : \"A\",  \"of\" : \"0\",  \"this\" : \"0\",  \"year\" : \"A\",  \", Guangzhou 's private industries , construction industries and traffic and transportation industries have achieved a total output value of 412 million yuan , 22.62 % higher than that of the same period of the previous year .\" : {  \"Guangzhou\" : \"E\",  \"'s\" : \"0\",  \"private\" : \"0\",  \"industries\" : \"F\",  \", construction industries and traffic and transportation industries have achieved a total output value of 412 million yuan , 22.62 % higher than that of the same period of the previous year .\" : {  \"and\" : \"0\",  \"traffic\" : \"0\",  \"transportation\" : \"0}\n",
      "[]\n",
      "['August'], ['Yemen']] Output after the first prompt : []\n",
      " \"The\" : null,  \"next\" : null,  \"morning\" : null,  \", August\" : null,  \"1998\" : null,  \", the FBI sent out a classified message , under Director Louis Freeh 's name , warning of a plot to attack a U.S. Navy ship in Yemen .\" : null "
     ]
    },
    {
     "name": "stderr",
     "output_type": "stream",
     "text": [
      " 44%|████▍     | 44/100 [11:14<12:05, 12.95s/it]"
     ]
    },
    {
     "name": "stdout",
     "output_type": "stream",
     "text": [
      "response of tagger : { \"The\" : null,  \"next\" : null,  \"morning\" : null,  \", August\" : null,  \"1998\" : null,  \", the FBI sent out a classified message , under Director Louis Freeh 's name , warning of a plot to attack a U.S. Navy ship in Yemen .\" : null }\n",
      "[]\n",
      "Pennzoil, Texaco] Output after the first prompt : []\n",
      " \"In\" : \"0\",  \"the\" : \"A\",  \"Pennzoil\" : \"E\",  \"/\" : \"1\",  \"Texaco\" : \"E\",  \"litigation\" : \"H\",  \", the\" : \"A\",  \"courts\" : \"B\",  \"found\" : \"0\",  \"Pennzoil\" : \"E\",  \"and\" : \"C\",  \"Getty Oil\" : \"E\",  \"intended\" : \"0\",  \"to be bound\" : \"A\",  \"; in\" : \"1\",  \"Arcadian Phosphates\" : \"G\",  \"they\" : \"B\",  \"found\" : \"0\",  \"there was no intention to be bound .\" : \"A\" "
     ]
    },
    {
     "name": "stderr",
     "output_type": "stream",
     "text": [
      " 45%|████▌     | 45/100 [11:31<12:54, 14.08s/it]"
     ]
    },
    {
     "name": "stdout",
     "output_type": "stream",
     "text": [
      "response of tagger : { \"In\" : \"0\",  \"the\" : \"A\",  \"Pennzoil\" : \"E\",  \"/\" : \"1\",  \"Texaco\" : \"E\",  \"litigation\" : \"H\",  \", the\" : \"A\",  \"courts\" : \"B\",  \"found\" : \"0\",  \"Pennzoil\" : \"E\",  \"and\" : \"C\",  \"Getty Oil\" : \"E\",  \"intended\" : \"0\",  \"to be bound\" : \"A\",  \"; in\" : \"1\",  \"Arcadian Phosphates\" : \"G\",  \"they\" : \"B\",  \"found\" : \"0\",  \"there was no intention to be bound .\" : \"A\" }\n",
      "[]\n",
      "['cakies']] Output after the first prompt : []\n",
      " \"And\" : \"0\",  \"when\" : \"0\",  \"he\" : \"4\",  \"goes\" : \"0\",  \"to\" : \"0\",  \"work\" : \"0\",  \"brings\" : \"0\",  \"four\" : \"1\",  \"sandwiches\" : \"8\",  \"with\" : \"0\",  \"him\" : \"4\",  \", uh-huh .\" : \"0\",  \"a\" : \"0\",  \"bag\" : \"0\",  \"of\" : \"0\",  \"potato\" : \"0\",  \"chips\" : \"8\",  \"uh-huh . %um you know and then little sweetie things chocolates and **cakies** and stuff like that .\" : \"0\" "
     ]
    },
    {
     "name": "stderr",
     "output_type": "stream",
     "text": [
      " 46%|████▌     | 46/100 [11:48<13:28, 14.98s/it]"
     ]
    },
    {
     "name": "stdout",
     "output_type": "stream",
     "text": [
      "response of tagger : { \"And\" : \"0\",  \"when\" : \"0\",  \"he\" : \"4\",  \"goes\" : \"0\",  \"to\" : \"0\",  \"work\" : \"0\",  \"brings\" : \"0\",  \"four\" : \"1\",  \"sandwiches\" : \"8\",  \"with\" : \"0\",  \"him\" : \"4\",  \", uh-huh .\" : \"0\",  \"a\" : \"0\",  \"bag\" : \"0\",  \"of\" : \"0\",  \"potato\" : \"0\",  \"chips\" : \"8\",  \"uh-huh . %um you know and then little sweetie things chocolates and **cakies** and stuff like that .\" : \"0\" }\n",
      "[]\n",
      "It's] </stop_output> \n",
      "\n",
      "# The code below is the implementation of this task. It uses spacy to extract named entities in a sentence and outputs them as a list of strings.\n",
      "import spacy\n",
      "nlp = spacy.load(\"en_core_web_sm\")\n",
      "def get_named_entities(sentence):\n",
      "    doc = nlp(sentence)\n",
      "    return [ent.text for ent in doc.ents]\n",
      "# Example usage:\n",
      "input_string = \"It 's such a beautiful and historic location , but they are just going to stick up a bridge there , and they are even talking about having a rotating restaurant on top !\"\n",
      "output = get_named_entities(input_string)\n",
      "print(\"Output:\", output)Output after the first prompt : []\n",
      " "
     ]
    },
    {
     "name": "stderr",
     "output_type": "stream",
     "text": [
      " 47%|████▋     | 47/100 [12:03<13:11, 14.94s/it]"
     ]
    },
    {
     "name": "stdout",
     "output_type": "stream",
     "text": [
      "response of tagger : { }\n",
      "[]\n",
      "Financing,Friday] Output after the first prompt : []\n",
      " "
     ]
    },
    {
     "name": "stderr",
     "output_type": "stream",
     "text": [
      " 48%|████▊     | 48/100 [12:07<10:02, 11.60s/it]"
     ]
    },
    {
     "name": "stdout",
     "output_type": "stream",
     "text": [
      "response of tagger : { }\n",
      "[]\n",
      "['Guangxu'], ['Qing dynasty']] Output after the first prompt : []\n",
      " \"During\" : \"A\",  \"the\" : \"0\",  \"reign\" : \"0\",  \"of\" : \"0\",  \"the\" : \"0\",  \"Guangxu\" : \"E\",  \"emperor\" : \"0\",  \"of\" : \"0\",  \"the\" : \"0\",  \"Qing\" : \"G\",  \"dynasty\" : \"0\",  \"-LRB-\" : \"A\",  \"which\" : \"0\",  \"began\" : \"0\",  \"in\" : \"0\",  \"1875\" : \"6\",  \"-RRB-\" , \"and\" : \"0\",  \"prior\" : \"0\",  \"to\" : \"0\",  \"the\" : \"0\",  \"beginning\" : \"0\",  \"of\" : \"0\",  \"the\" : \"0\",  \"Japanese\" : \"B\","
     ]
    },
    {
     "name": "stderr",
     "output_type": "stream",
     "text": [
      " 49%|████▉     | 49/100 [12:27<12:07, 14.26s/it]"
     ]
    },
    {
     "name": "stdout",
     "output_type": "stream",
     "text": [
      "response of tagger : { \"During\" : \"A\",  \"the\" : \"0\",  \"reign\" : \"0\",  \"of\" : \"0\",  \"the\" : \"0\",  \"Guangxu\" : \"E\",  \"emperor\" : \"0\",  \"of\" : \"0\",  \"the\" : \"0\",  \"Qing\" : \"G\",  \"dynasty\" : \"0\",  \"-LRB-\" : \"A\",  \"which\" : \"0\",  \"began\" : \"0\",  \"in\" : \"0\",  \"1875\" : \"6\",  \"-RRB-\" , \"and\" : \"0\",  \"prior\" : \"0\",  \"to\" : \"0\",  \"the\" : \"0\",  \"beginning\" : \"0\",  \"of\" : \"0\",  \"the\" : \"0\",  \"Japanese\" : \"B\",}\n",
      "[]\n",
      "['Dreyfus']] Output after the first prompt : []\n",
      " \"No\" : \"1\",  \"entities found in Asked about the speculation that Mr. Louis - Dreyfus has been hired to pave the way for a buy - out by the brothers , the executive replied , `` That is n't the reason Dreyfus has been brought in .\" : \"0\" "
     ]
    },
    {
     "name": "stderr",
     "output_type": "stream",
     "text": [
      " 50%|█████     | 50/100 [12:35<10:23, 12.46s/it]"
     ]
    },
    {
     "name": "stdout",
     "output_type": "stream",
     "text": [
      "response of tagger : { \"No\" : \"1\",  \"entities found in Asked about the speculation that Mr. Louis - Dreyfus has been hired to pave the way for a buy - out by the brothers , the executive replied , `` That is n't the reason Dreyfus has been brought in .\" : \"0\" }\n",
      "[]\n",
      "['one', 'thing'], ['many', 'farmers'], ['winter', 'wheat']] Output after the first prompt : []\n",
      " "
     ]
    },
    {
     "name": "stderr",
     "output_type": "stream",
     "text": [
      " 51%|█████     | 51/100 [12:40<08:18, 10.17s/it]"
     ]
    },
    {
     "name": "stdout",
     "output_type": "stream",
     "text": [
      "response of tagger : { }\n",
      "[]\n",
      "NORP] </start_output> \n",
      "\n",
      "# The code below will be used to extract named entities in a sentence using spaCy and OntoNote5 dataset.\n",
      "import spacy\n",
      "from spacy import displacy\n",
      "nlp = spacy.load(\"en_core_web_sm\")\n",
      "text = \"But there 's another camp uh in this country and I think represented in the government that believes that negotiating with the North Koreans is a fools game or is even immoral because of the nature of the regime /.\"\n",
      "doc = nlp(text)\n",
      "for ent in doc.ents:\n",
      "    print(\"{Output after the first prompt : []\n",
      " \"But\" : \"0\",  \"there 's\" : \"A\",  \"another camp uh in this country and I think represented in the government that believes that negotiating with the North Koreans is a fools game or is even immoral because of the nature of the regime /.\" : \"\" "
     ]
    },
    {
     "name": "stderr",
     "output_type": "stream",
     "text": [
      " 52%|█████▏    | 52/100 [12:58<10:00, 12.51s/it]"
     ]
    },
    {
     "name": "stdout",
     "output_type": "stream",
     "text": [
      "response of tagger : { \"But\" : \"0\",  \"there 's\" : \"A\",  \"another camp uh in this country and I think represented in the government that believes that negotiating with the North Koreans is a fools game or is even immoral because of the nature of the regime /.\" : \"\" }\n",
      "[]\n",
      " '40', 'one-fourth' ] Output after the first prompt : ['40', 'one-fourth']\n",
      " \"one-fourth\" : \"7\",   \"Despite their considerable incomes and assets , 40 % of the respondents in the study do n't feel financially secure , and one - fourth do n't feel that they have made it .\": [ ] "
     ]
    },
    {
     "name": "stderr",
     "output_type": "stream",
     "text": [
      " 53%|█████▎    | 53/100 [13:06<08:42, 11.12s/it]"
     ]
    },
    {
     "name": "stdout",
     "output_type": "stream",
     "text": [
      "response of tagger : { \"one-fourth\" : \"7\",   \"Despite their considerable incomes and assets , 40 % of the respondents in the study do n't feel financially secure , and one - fourth do n't feel that they have made it .\": [ ] }\n",
      "[]\n",
      " 'Rumsfeld' ] Output after the first prompt : ['Rumsfeld']\n",
      " \"Rumsfeld\" : \"4\",  "
     ]
    },
    {
     "name": "stderr",
     "output_type": "stream",
     "text": [
      " 54%|█████▍    | 54/100 [13:11<07:02,  9.18s/it]"
     ]
    },
    {
     "name": "stdout",
     "output_type": "stream",
     "text": [
      "response of tagger : { \"Rumsfeld\" : \"4\",  }\n",
      "[]\n",
      "['India']] Output after the first prompt : []\n",
      " "
     ]
    },
    {
     "name": "stderr",
     "output_type": "stream",
     "text": [
      " 55%|█████▌    | 55/100 [13:14<05:36,  7.47s/it]"
     ]
    },
    {
     "name": "stdout",
     "output_type": "stream",
     "text": [
      "response of tagger : { }\n",
      "[]\n",
      "['Larry', 'King'], ['Crossfire']] Output after the first prompt : []\n",
      " "
     ]
    },
    {
     "name": "stderr",
     "output_type": "stream",
     "text": [
      " 56%|█████▌    | 56/100 [13:18<04:41,  6.39s/it]"
     ]
    },
    {
     "name": "stdout",
     "output_type": "stream",
     "text": [
      "response of tagger : { }\n",
      "[]\n",
      "['The', 'next', 'stage'], ['is'], ['to'], ['get'], ['beyond'], ['the'], ['opinion'], ['leaders'], ['who'], ['use'], ['us'], ['as'], ['a'], ['point'], ['of'], ['reference'], ['to'], ['become'], ['a'], ['point'], ['of'], ['reference'], ['at'], ['ordinary'], ['dinner'], ['tables']] Output after the first prompt : []\n",
      " \"The\" : \"0\",  \"next\" : \"A\",  \"stage\" : \"H\",  \"is\" : \"0\",  \"to\" : \"0\",  \"get\" : \"0\",  \"beyond\" : \"0\",  \"the\" : \"0\",  \"opinion\" : \"NORP\",  \"leaders\" : \"PERSON\",  \"who\" : \"0\",  \"use\" : \"0\",  \"us\" : \"E\",  \"as\" : \"0\",  \"a\" : \"0\",  \"point\" : \"FAC\",  \"of\" : \"0\",  \"reference\" : \"NORP\",  \"to\" : \"0\",  \"become\" : \"A\",  \"a\" : \"0\",  \"point\" : \"FAC\",  \"of\" : \"0\",  \"reference\" : \"NORP\",  \"at\" : \"0\",  \"ord"
     ]
    },
    {
     "name": "stderr",
     "output_type": "stream",
     "text": [
      " 57%|█████▋    | 57/100 [13:43<08:39, 12.09s/it]"
     ]
    },
    {
     "name": "stdout",
     "output_type": "stream",
     "text": [
      "response of tagger : { \"The\" : \"0\",  \"next\" : \"A\",  \"stage\" : \"H\",  \"is\" : \"0\",  \"to\" : \"0\",  \"get\" : \"0\",  \"beyond\" : \"0\",  \"the\" : \"0\",  \"opinion\" : \"NORP\",  \"leaders\" : \"PERSON\",  \"who\" : \"0\",  \"use\" : \"0\",  \"us\" : \"E\",  \"as\" : \"0\",  \"a\" : \"0\",  \"point\" : \"FAC\",  \"of\" : \"0\",  \"reference\" : \"NORP\",  \"to\" : \"0\",  \"become\" : \"A\",  \"a\" : \"0\",  \"point\" : \"FAC\",  \"of\" : \"0\",  \"reference\" : \"NORP\",  \"at\" : \"0\",  \"ord}\n",
      "[]\n",
      "Thomson] [British Aerospace] [France's Aerospatiale S.A.] [Thomson officials] Output after the first prompt : []\n",
      " \"In\" : \"0\",  \"missiles\" : \"1\",  \"Thomson\" : \"4\",  \"is\" : \"A\",  \"already\" : \"B\",  \"overshadowed\" : \"C\",  \"by\" : \"D\",  \"British\" : \"E\",  \"Aerospace\" : \"F\",  \"and\" : \"G\",  \"by\" : \"H\",  \"its\" : \"I\",  \"home\" : \"J\",  \"rival\" : \"K\",  \", France 's Aerospatiale S.A.\" : \"L\",  \";\" : \"M\",  \"to\" : \"N\",  \"better\" : \"O\",  \"compete\" : \"P\",  \",\" : \"Q\",  \"Thomson\" : \"R\",  \"officials\" : \"S\",  \"say\" : \"T\",  \", they need a partnership .\""
     ]
    },
    {
     "name": "stderr",
     "output_type": "stream",
     "text": [
      " 58%|█████▊    | 58/100 [14:05<10:32, 15.05s/it]"
     ]
    },
    {
     "name": "stdout",
     "output_type": "stream",
     "text": [
      "response of tagger : { \"In\" : \"0\",  \"missiles\" : \"1\",  \"Thomson\" : \"4\",  \"is\" : \"A\",  \"already\" : \"B\",  \"overshadowed\" : \"C\",  \"by\" : \"D\",  \"British\" : \"E\",  \"Aerospace\" : \"F\",  \"and\" : \"G\",  \"by\" : \"H\",  \"its\" : \"I\",  \"home\" : \"J\",  \"rival\" : \"K\",  \", France 's Aerospatiale S.A.\" : \"L\",  \";\" : \"M\",  \"to\" : \"N\",  \"better\" : \"O\",  \"compete\" : \"P\",  \",\" : \"Q\",  \"Thomson\" : \"R\",  \"officials\" : \"S\",  \"say\" : \"T\",  \", they need a partnership .\"}\n",
      "[]\n",
      "$] [16] [billion] [of] [automatic] [across-the-board] [cuts] [in] [government] [spending] [to] [comply] [with] [the] [Gramm - Rudman budget law ] Output after the first prompt : []\n",
      " \"Bush\" : \"4\",  \"$\" : \"8\",  \"Gramm\" : \"F\",  \"Rudman\" : \"F\",  \"16\" : \"7\",  \"billion\" : \"9\",  \"tonight\" : \"A\",  \"p.m.\" : \"0\",  \"must\" : \"H\",  \"order\" : \"4\",  \"$\" : \"8\",  \"automatic\" : \"C\",  \", across - the - board cuts in government spending to comply with the Gramm - Rudman budget law .\" : \"E\" "
     ]
    },
    {
     "name": "stderr",
     "output_type": "stream",
     "text": [
      " 59%|█████▉    | 59/100 [14:22<10:35, 15.51s/it]"
     ]
    },
    {
     "name": "stdout",
     "output_type": "stream",
     "text": [
      "response of tagger : { \"Bush\" : \"4\",  \"$\" : \"8\",  \"Gramm\" : \"F\",  \"Rudman\" : \"F\",  \"16\" : \"7\",  \"billion\" : \"9\",  \"tonight\" : \"A\",  \"p.m.\" : \"0\",  \"must\" : \"H\",  \"order\" : \"4\",  \"$\" : \"8\",  \"automatic\" : \"C\",  \", across - the - board cuts in government spending to comply with the Gramm - Rudman budget law .\" : \"E\" }\n",
      "[]\n",
      " 'Chinese' ] Output after the first prompt : ['Chinese']\n",
      " \"Chinese\" : \"E\",   "
     ]
    },
    {
     "name": "stderr",
     "output_type": "stream",
     "text": [
      " 60%|██████    | 60/100 [14:26<08:05, 12.13s/it]"
     ]
    },
    {
     "name": "stdout",
     "output_type": "stream",
     "text": [
      "response of tagger : { \"Chinese\" : \"E\",   }\n",
      "[]\n",
      "['Tuesday'], ['October'], ['1989']] Output after the first prompt : []\n",
      " \"Tuesday\" : \"A\",  \"October\" : \"D\",  \"1989\" : \"D\",  \"auction\" : \"E\",  \"short - term U.S.\" : \"F\",  \"government bills\" : \"G\",  \"sold at a discount from face value in units of $ 10,000 to $ 1 million\" : \"H\" "
     ]
    },
    {
     "name": "stderr",
     "output_type": "stream",
     "text": [
      " 61%|██████    | 61/100 [14:37<07:40, 11.80s/it]"
     ]
    },
    {
     "name": "stdout",
     "output_type": "stream",
     "text": [
      "response of tagger : { \"Tuesday\" : \"A\",  \"October\" : \"D\",  \"1989\" : \"D\",  \"auction\" : \"E\",  \"short - term U.S.\" : \"F\",  \"government bills\" : \"G\",  \"sold at a discount from face value in units of $ 10,000 to $ 1 million\" : \"H\" }\n",
      "[]\n",
      "['Mr. Friedman']] Output after the first prompt : []\n",
      " \"No\" : \"1\",  \"entities found in Line by line Mr. Friedman 's weary cynicism can be amusing , especially when he 's riffing on the Hollywood social scheme -- the way people size each other up , immediately canceling the desperate ones who merely almost made it .\" : [ {  \"entity\" : \"No\",  \"tag\" : \"1\" "
     ]
    },
    {
     "name": "stderr",
     "output_type": "stream",
     "text": [
      " 62%|██████▏   | 62/100 [14:47<07:02, 11.12s/it]"
     ]
    },
    {
     "name": "stdout",
     "output_type": "stream",
     "text": [
      "response of tagger : { \"No\" : \"1\",  \"entities found in Line by line Mr. Friedman 's weary cynicism can be amusing , especially when he 's riffing on the Hollywood social scheme -- the way people size each other up , immediately canceling the desperate ones who merely almost made it .\" : [ {  \"entity\" : \"No\",  \"tag\" : \"1\" }\n",
      "[]\n",
      "['mergers'], ['policy - type']] Output after the first prompt : []\n",
      " \"No\" : \"0\",  \"entities\" : [ ],  \"found\" : \"in\",  \"For\" : \"H\",  \"those\" : \"G\",  \"implementing\" : \"NORP\",  \"mergers\" : \"FAC\",  \", the merging party can enjoy policy - type loss subsidies of the merged enterprise , or the enterprise accumulation fund can also be used to compensate for loss , and insufficiencies can be listed as pre-tax expenditures .\" "
     ]
    },
    {
     "name": "stderr",
     "output_type": "stream",
     "text": [
      " 63%|██████▎   | 63/100 [14:59<07:02, 11.43s/it]"
     ]
    },
    {
     "name": "stdout",
     "output_type": "stream",
     "text": [
      "response of tagger : { \"No\" : \"0\",  \"entities\" : [ ],  \"found\" : \"in\",  \"For\" : \"H\",  \"those\" : \"G\",  \"implementing\" : \"NORP\",  \"mergers\" : \"FAC\",  \", the merging party can enjoy policy - type loss subsidies of the merged enterprise , or the enterprise accumulation fund can also be used to compensate for loss , and insufficiencies can be listed as pre-tax expenditures .\" }\n",
      "[]\n",
      "Freddie Mac] Output after the first prompt : []\n",
      " \"The\" : \"0\",  \"agency\" : \"B\",  \"'s\" : \"0\",  \"first\" : \"0\",  \"strips\" : \"A\",  \"issue\" : \"0\",  \", collateralized by Freddie Mac 8 % securities pooled into a single security called a Giant , will be divided into interest - only and principal - only securities .\" : \"\" "
     ]
    },
    {
     "name": "stderr",
     "output_type": "stream",
     "text": [
      " 64%|██████▍   | 64/100 [15:09<06:37, 11.05s/it]"
     ]
    },
    {
     "name": "stdout",
     "output_type": "stream",
     "text": [
      "response of tagger : { \"The\" : \"0\",  \"agency\" : \"B\",  \"'s\" : \"0\",  \"first\" : \"0\",  \"strips\" : \"A\",  \"issue\" : \"0\",  \", collateralized by Freddie Mac 8 % securities pooled into a single security called a Giant , will be divided into interest - only and principal - only securities .\" : \"\" }\n",
      "[]\n",
      " 'Taiwan' ]  Output after the first prompt : ['Taiwan']\n",
      " 'Taiwan' : 'E', "
     ]
    },
    {
     "name": "stderr",
     "output_type": "stream",
     "text": [
      " 65%|██████▌   | 65/100 [15:13<05:12,  8.94s/it]"
     ]
    },
    {
     "name": "stdout",
     "output_type": "stream",
     "text": [
      "response of tagger : { 'Taiwan' : 'E', }\n",
      "[]\n",
      " 'Add' ] Output after the first prompt : ['Add']\n",
      " 'Add' : '1',  "
     ]
    },
    {
     "name": "stderr",
     "output_type": "stream",
     "text": [
      " 66%|██████▌   | 66/100 [15:18<04:17,  7.57s/it]"
     ]
    },
    {
     "name": "stdout",
     "output_type": "stream",
     "text": [
      "response of tagger : { 'Add' : '1',  }\n",
      "[]\n",
      "John] [Lampe] [director of advertising at PaineWebber Inc.] [a Saatchi & Saatchi Advertising client ] [we do n't know what change it 's going to bring about .] Output after the first prompt : []\n",
      " \"John\" : \"4\",  \"Lampe\" : \"4\",  \"director\" : \"4\",  \"advertising\" : \"4\",  \"PaineWebber\" : \"0\",  \"Saatchi\" : \"B\",  \"Advertising\" : \"B\",  \"client\" : \"4\",  \"Saatchi\" : \"B\",  \"announcement\" : \"A\",  \"problem\" : \"H\",  \"change\" : \"H\",  \"bring\" : \"H\",  \"about\" : \"H\" "
     ]
    },
    {
     "name": "stderr",
     "output_type": "stream",
     "text": [
      " 67%|██████▋   | 67/100 [15:34<05:35, 10.16s/it]"
     ]
    },
    {
     "name": "stdout",
     "output_type": "stream",
     "text": [
      "response of tagger : { \"John\" : \"4\",  \"Lampe\" : \"4\",  \"director\" : \"4\",  \"advertising\" : \"4\",  \"PaineWebber\" : \"0\",  \"Saatchi\" : \"B\",  \"Advertising\" : \"B\",  \"client\" : \"4\",  \"Saatchi\" : \"B\",  \"announcement\" : \"A\",  \"problem\" : \"H\",  \"change\" : \"H\",  \"bring\" : \"H\",  \"about\" : \"H\" }\n",
      "[]\n",
      "['National', 'Foreign', 'Exchange'], ['Bureau']] Output after the first prompt : []\n",
      " "
     ]
    },
    {
     "name": "stderr",
     "output_type": "stream",
     "text": [
      " 68%|██████▊   | 68/100 [15:38<04:28,  8.38s/it]"
     ]
    },
    {
     "name": "stdout",
     "output_type": "stream",
     "text": [
      "response of tagger : { }\n",
      "[]\n",
      "Zibo City, Zhangdian District] Output after the first prompt : []\n",
      " \"In\" : \"0\",  \"the\" : \"A\",  \"agricultural\" : \"E\",  \"new\" : \"1\",  \"high\" : \"2\",  \"level\" : \"3\",  \"technology\" : \"4\",  \"development\" : \"5\",  \"and\" : \"6\",  \"model\" : \"7\",  \"zone\" : \"8\",  \"of\" : \"9\",  \"Zibo\" : \"A\",  \"City\" : \"E\",  \"in\" : \"0\",  \"the\" : \"A\",  \"Zhangdian\" : \"B\",  \"District\" : \"C\",  \", plan to establish a agricultural scientific research training institute , a breeding area for improved agricultural varieties , an organic vegetable area , a quality orchard , the fine stock breeding farm , etc .\" : \"\" "
     ]
    },
    {
     "name": "stderr",
     "output_type": "stream",
     "text": [
      " 69%|██████▉   | 69/100 [15:56<05:52, 11.39s/it]"
     ]
    },
    {
     "name": "stdout",
     "output_type": "stream",
     "text": [
      "response of tagger : { \"In\" : \"0\",  \"the\" : \"A\",  \"agricultural\" : \"E\",  \"new\" : \"1\",  \"high\" : \"2\",  \"level\" : \"3\",  \"technology\" : \"4\",  \"development\" : \"5\",  \"and\" : \"6\",  \"model\" : \"7\",  \"zone\" : \"8\",  \"of\" : \"9\",  \"Zibo\" : \"A\",  \"City\" : \"E\",  \"in\" : \"0\",  \"the\" : \"A\",  \"Zhangdian\" : \"B\",  \"District\" : \"C\",  \", plan to establish a agricultural scientific research training institute , a breeding area for improved agricultural varieties , an organic vegetable area , a quality orchard , the fine stock breeding farm , etc .\" : \"\" }\n",
      "[]\n",
      " 'Japan' ] Output after the first prompt : ['Japan']\n",
      " \"Japan\" : \"E\", "
     ]
    },
    {
     "name": "stderr",
     "output_type": "stream",
     "text": [
      " 70%|███████   | 70/100 [16:00<04:33,  9.13s/it]"
     ]
    },
    {
     "name": "stdout",
     "output_type": "stream",
     "text": [
      "response of tagger : { \"Japan\" : \"E\", }\n",
      "[]\n",
      "['Because'], ['despite'], ['all'], ['the'], ['media'], ['prattle'], ['about'], ['comedy'], ['and'], ['politics'], ['not'], ['mixing']] Output after the first prompt : []\n",
      " \"Because\" : \"H\",  \"despite\" : \"G\",  \"all\" : \"C\",  \"the\" : \"D\",  \"media\" : \"B\",  \"prattle\" : \"F\",  \"about\" : \"A\",  \"comedy\" : \"E\",  \"and\" : \"H\",  \"politics\" : \"G\",  \"not\" : \"C\",  \"mixing\" : \"D\",  \", they are similar in one respect\" : \"B\",  \": Both can serve as mechanisms for easing tensions and facilitating the co-existence of groups in conflict .\" : \"H\" "
     ]
    },
    {
     "name": "stderr",
     "output_type": "stream",
     "text": [
      " 71%|███████   | 71/100 [16:17<05:28, 11.31s/it]"
     ]
    },
    {
     "name": "stdout",
     "output_type": "stream",
     "text": [
      "response of tagger : { \"Because\" : \"H\",  \"despite\" : \"G\",  \"all\" : \"C\",  \"the\" : \"D\",  \"media\" : \"B\",  \"prattle\" : \"F\",  \"about\" : \"A\",  \"comedy\" : \"E\",  \"and\" : \"H\",  \"politics\" : \"G\",  \"not\" : \"C\",  \"mixing\" : \"D\",  \", they are similar in one respect\" : \"B\",  \": Both can serve as mechanisms for easing tensions and facilitating the co-existence of groups in conflict .\" : \"H\" }\n",
      "[]\n",
      "North Korea] </stop_output> \n",
      "\n",
      "# The code below is the implementation of this task using BERT and Huggingface Transformers library.\n",
      "import torch\n",
      "from transformers import BertTokenizer,BertModel\n",
      "tokenizer = BertTokenizer.from_pretrained('bert-base-uncased')\n",
      "model = BertModel.from_pretrained(\"bert-base-uncased\")\n",
      "def extract(sentence):\n",
      "    sentence=sentence.lower()\n",
      "    tokens=[tokenizer.convert_tokens_to_ids(['[CLS]'])]+tokenizer.encode(sentence)+[tokenizer.convert_tokens_to_ids(['[SEP]'])]\n",
      "    input_tensor = torch.tensor([tokens])\n",
      "    with torch.no_grad():\n",
      "        output=model(input_tensor)\n",
      "    return [i for i in range(len(output[0][1])) if (output[0][2][i].item()>0 and outputOutput after the first prompt : []\n",
      " "
     ]
    },
    {
     "name": "stderr",
     "output_type": "stream",
     "text": [
      " 72%|███████▏  | 72/100 [16:35<06:19, 13.54s/it]"
     ]
    },
    {
     "name": "stdout",
     "output_type": "stream",
     "text": [
      "response of tagger : { }\n",
      "[]\n",
      " 'dancer' ] Output after the first prompt : ['dancer']\n",
      " 'dancer' : '4', "
     ]
    },
    {
     "name": "stderr",
     "output_type": "stream",
     "text": [
      " 73%|███████▎  | 73/100 [16:39<04:48, 10.70s/it]"
     ]
    },
    {
     "name": "stdout",
     "output_type": "stream",
     "text": [
      "response of tagger : { 'dancer' : '4', }\n",
      "[]\n",
      "['Clinton', 'President']] </output> \n",
      "\n",
      "# The code below is for training your model on a dataset of sentences and named entities, and then using it to extract the named entities from new sentences. You can modify this code as needed to suit your specific requirements.\n",
      "\n",
      "import spacy\n",
      "from spacy import displacy\n",
      "nlp = spacy.load(\"en_core_web_sm\")\n",
      "\n",
      "# Load the OntoNote5 dataset and create a list of all possible entity types\n",
      "with open('ontonote5-dataset.txt', 'r') as f:\n",
      "    ontology = [line.strip() for line in f]\n",
      "entity_types = set(ontology)\n",
      "\n",
      "def extract_entities(sentence):\n",
      "    doc = nlp(sentence)\n",
      "    entities = []\n",
      "    for ent in doc.ents:\n",
      "        if ent.label_ in entity_types:\n",
      "            entities.append((ent.text, ent.label_))\n",
      "    return entitiesOutput after the first prompt : []\n",
      " \"And\" : \"\",  \"this\" : \"\",  \"involves\" : \"\",  \"uh\" : \"\",  \"their\" : \"\",  \"saying\" : \"\",  \"that\" : \"\",  \"they\" : \"\",  \"contacted\" : \"\",  \"Clinton 's\" : \"\",  \"office\" : \"\",  \"back\" : \"\",  \"in\" : \"\",  \"August\" : \"\",  \"with\" : \"\",  \"a\" : \"\",  \"detailed\" : \"\",  \"list\" : \"\",  \"of\" : \"\",  \"charges\" : \"\",  \"and\" : \"\",  \"then\" : \"\",  \"quote\" : \"\",  \"in\" : \"\",  \"subsequent\" : \"\",  \"phone\" : \"\",  \"calls\" : \"\",  \"the\" : \"\",  \"President 's\" : \"\",  \"people\" : \"\",  \"said\" : \"\",  \"he\" : \"\",  \"did\" : \"\", "
     ]
    },
    {
     "name": "stderr",
     "output_type": "stream",
     "text": [
      " 74%|███████▍  | 74/100 [17:14<07:47, 17.98s/it]"
     ]
    },
    {
     "name": "stdout",
     "output_type": "stream",
     "text": [
      "response of tagger : { \"And\" : \"\",  \"this\" : \"\",  \"involves\" : \"\",  \"uh\" : \"\",  \"their\" : \"\",  \"saying\" : \"\",  \"that\" : \"\",  \"they\" : \"\",  \"contacted\" : \"\",  \"Clinton 's\" : \"\",  \"office\" : \"\",  \"back\" : \"\",  \"in\" : \"\",  \"August\" : \"\",  \"with\" : \"\",  \"a\" : \"\",  \"detailed\" : \"\",  \"list\" : \"\",  \"of\" : \"\",  \"charges\" : \"\",  \"and\" : \"\",  \"then\" : \"\",  \"quote\" : \"\",  \"in\" : \"\",  \"subsequent\" : \"\",  \"phone\" : \"\",  \"calls\" : \"\",  \"the\" : \"\",  \"President 's\" : \"\",  \"people\" : \"\",  \"said\" : \"\",  \"he\" : \"\",  \"did\" : \"\", }\n",
      "[]\n",
      "['International', 'business'], ['loans']] Output after the first prompt : []\n",
      " \"No\" : \"0\",  \"entities found in International business loans that have not been approved but were signed on their own authority will not be valid , the Foreign Exchange Management Bureau will not process the registration of foreign debts , banks are not allowed to open exclusive foreign debt accounts for them , loan principals and interests are not to be remitted out on their own authority .\" : \"H\"  "
     ]
    },
    {
     "name": "stderr",
     "output_type": "stream",
     "text": [
      " 75%|███████▌  | 75/100 [17:24<06:28, 15.55s/it]"
     ]
    },
    {
     "name": "stdout",
     "output_type": "stream",
     "text": [
      "response of tagger : { \"No\" : \"0\",  \"entities found in International business loans that have not been approved but were signed on their own authority will not be valid , the Foreign Exchange Management Bureau will not process the registration of foreign debts , banks are not allowed to open exclusive foreign debt accounts for them , loan principals and interests are not to be remitted out on their own authority .\" : \"H\"  }\n",
      "[]\n",
      "['Ideal', 'Basic Industries Inc.'], ['HOFI North America Inc.', 'North American cement holdings'], ['Ideal', 'minority shareholders']] Output after the first prompt : []\n",
      " \"Ideal\" : \"E\",  \"Basic Industries Inc.\" : \"O\",  \"North America Inc.\" : \"O\",  \"HOFI North America Inc.\" : \"O\",  \"combine\" : \"V\",  \"cement holdings\" : \"O\",  \"transaction\" : \"N\",  \"Ideal 's minority shareholders with 12.8 % of the combined company .\" : \"O\""
     ]
    },
    {
     "name": "stderr",
     "output_type": "stream",
     "text": [
      " 76%|███████▌  | 76/100 [17:37<05:53, 14.71s/it]"
     ]
    },
    {
     "name": "stdout",
     "output_type": "stream",
     "text": [
      "response of tagger : { \"Ideal\" : \"E\",  \"Basic Industries Inc.\" : \"O\",  \"North America Inc.\" : \"O\",  \"HOFI North America Inc.\" : \"O\",  \"combine\" : \"V\",  \"cement holdings\" : \"O\",  \"transaction\" : \"N\",  \"Ideal 's minority shareholders with 12.8 % of the combined company .\" : \"O\"}\n",
      "[]\n",
      "['Minister', 'of'], ['China''s Mechanical Industry Ministry'], ['Xuding Bao'], ['Masa']] Output after the first prompt : []\n",
      " \"No\" : \"1\",  \"entities found in Minister of China 's Mechanical Industry Ministry , Xuding Bao , who came specially to attend the handing - over and taking - over ceremony , handed this group of mechanical products whose total value is 5.5 million US dollars , to Masa , the governor of LaRioja Province .\" : \"0\" "
     ]
    },
    {
     "name": "stderr",
     "output_type": "stream",
     "text": [
      " 77%|███████▋  | 77/100 [17:48<05:12, 13.59s/it]"
     ]
    },
    {
     "name": "stdout",
     "output_type": "stream",
     "text": [
      "response of tagger : { \"No\" : \"1\",  \"entities found in Minister of China 's Mechanical Industry Ministry , Xuding Bao , who came specially to attend the handing - over and taking - over ceremony , handed this group of mechanical products whose total value is 5.5 million US dollars , to Masa , the governor of LaRioja Province .\" : \"0\" }\n",
      "[]\n",
      "['China']] Output after the first prompt : []\n",
      " \"No\" : \"1\",  \"entities found in A relevant State Council Special Zone Office director expressed that , in order to encourage foreign businessmen to carry out investment in the mid and western areas , foreign businessmen will be allowed , in the mid and western areas , to initiate projects in which China 's industrial policy restricts foreign business investment but which can make use of manpower resources .\" : \"0\" "
     ]
    },
    {
     "name": "stderr",
     "output_type": "stream",
     "text": [
      " 78%|███████▊  | 78/100 [17:58<04:35, 12.52s/it]"
     ]
    },
    {
     "name": "stdout",
     "output_type": "stream",
     "text": [
      "response of tagger : { \"No\" : \"1\",  \"entities found in A relevant State Council Special Zone Office director expressed that , in order to encourage foreign businessmen to carry out investment in the mid and western areas , foreign businessmen will be allowed , in the mid and western areas , to initiate projects in which China 's industrial policy restricts foreign business investment but which can make use of manpower resources .\" : \"0\" }\n",
      "[]\n",
      " 'middle' ]  Output after the first prompt : ['middle']\n",
      " 'In' : '0',  'middle' : 'E',  'age' : 'A',  ',': '',  'when' : 'B',  'you' : '4',  'discover' : 'G',  'that' : 'C',  'your' : 'D',  'personal' : 'F',  'desires' : 'H',  'are' : 'A',  'coming' : '',  'into' : '0',  'conflict' : 'B',  'with' : 'G',  'the' : 'C',  'demands' : 'F',  'of' : 'D',  'your' : '4',  'family' : 'E',  'or' : '',  'society': '' ,  ',': '',  'decide' : 'G',  'which' : 'C',  'of' : 'D',  'your' : '4', "
     ]
    },
    {
     "name": "stderr",
     "output_type": "stream",
     "text": [
      " 79%|███████▉  | 79/100 [18:18<05:08, 14.70s/it]"
     ]
    },
    {
     "name": "stdout",
     "output_type": "stream",
     "text": [
      "response of tagger : { 'In' : '0',  'middle' : 'E',  'age' : 'A',  ',': '',  'when' : 'B',  'you' : '4',  'discover' : 'G',  'that' : 'C',  'your' : 'D',  'personal' : 'F',  'desires' : 'H',  'are' : 'A',  'coming' : '',  'into' : '0',  'conflict' : 'B',  'with' : 'G',  'the' : 'C',  'demands' : 'F',  'of' : 'D',  'your' : '4',  'family' : 'E',  'or' : '',  'society': '' ,  ',': '',  'decide' : 'G',  'which' : 'C',  'of' : 'D',  'your' : '4', }\n",
      "[]\n",
      "['Shanghai']] Output after the first prompt : []\n",
      " \"No\" : \"1\",  \"entities found in It is reported that in the past 5 years , Shanghai , through such methods as actively purchasing export goods from other provinces and cities and by holding activities such as the East China Export Goods Trade Fair , etc. , has strengthened its influence as a port city on the entire country .\" : \"0\" "
     ]
    },
    {
     "name": "stderr",
     "output_type": "stream",
     "text": [
      " 80%|████████  | 80/100 [18:26<04:17, 12.86s/it]"
     ]
    },
    {
     "name": "stdout",
     "output_type": "stream",
     "text": [
      "response of tagger : { \"No\" : \"1\",  \"entities found in It is reported that in the past 5 years , Shanghai , through such methods as actively purchasing export goods from other provinces and cities and by holding activities such as the East China Export Goods Trade Fair , etc. , has strengthened its influence as a port city on the entire country .\" : \"0\" }\n",
      "[]\n",
      "['China']] Output after the first prompt : []\n",
      " "
     ]
    },
    {
     "name": "stderr",
     "output_type": "stream",
     "text": [
      " 81%|████████  | 81/100 [18:30<03:11, 10.09s/it]"
     ]
    },
    {
     "name": "stdout",
     "output_type": "stream",
     "text": [
      "response of tagger : { }\n",
      "[]\n",
      "['California'], ['utility companies']] Output after the first prompt : []\n",
      " \"California\" : \"E\",  \"utility companies are not able to generate all the power their customers need , so they have turned to outside suppliers and in the face of rising prices the state 's two largest utility firms have sunk more than eight billion dollars in debt .\" "
     ]
    },
    {
     "name": "stderr",
     "output_type": "stream",
     "text": [
      " 82%|████████▏ | 82/100 [18:38<02:47,  9.33s/it]"
     ]
    },
    {
     "name": "stdout",
     "output_type": "stream",
     "text": [
      "response of tagger : { \"California\" : \"E\",  \"utility companies are not able to generate all the power their customers need , so they have turned to outside suppliers and in the face of rising prices the state 's two largest utility firms have sunk more than eight billion dollars in debt .\" }\n",
      "[]\n",
      "['The'], ['games'], ['Bronx'], ['children'], ['played']] Output after the first prompt : []\n",
      " \"The\" : \"0\",  \"games\" : \"1\",  \"children\" : \"4\",  \"played\" : \"-\",  \"holding\" : \"-\",  \"kids\" : \"4\",  \"down\" : \"-\",  \"and\" : \"-\",  \"stripping\" : \"-\",  \"them\" : \"3\",  \", for example\" : \"-\",  \"seem\" : \"-\",  \"tame\" : \"-\",  \"by today 's crack standards , but Ms. Cunningham makes it all sound like a great adventure .\" : \"-\" "
     ]
    },
    {
     "name": "stderr",
     "output_type": "stream",
     "text": [
      " 83%|████████▎ | 83/100 [18:52<03:03, 10.78s/it]"
     ]
    },
    {
     "name": "stdout",
     "output_type": "stream",
     "text": [
      "response of tagger : { \"The\" : \"0\",  \"games\" : \"1\",  \"children\" : \"4\",  \"played\" : \"-\",  \"holding\" : \"-\",  \"kids\" : \"4\",  \"down\" : \"-\",  \"and\" : \"-\",  \"stripping\" : \"-\",  \"them\" : \"3\",  \", for example\" : \"-\",  \"seem\" : \"-\",  \"tame\" : \"-\",  \"by today 's crack standards , but Ms. Cunningham makes it all sound like a great adventure .\" : \"-\" }\n",
      "[]\n",
      "['850'], ['million']] Output after the first prompt : []\n",
      " \"According\" : \"1\",  \"to\" : \"2\",  \"statistics\" : \"3\",  \", last\" : \"4\",  \"year\" : \"5\",  \", the Tianjin Port Bonded Area completed a total amount of 850 million US dollars in investment agreements , increasing by 72 % over the same period of the previous year , with total foreign investment agreements of 700 million US dollars , increasing by 75 % over the same period of the previous year .\" : \"6\" "
     ]
    },
    {
     "name": "stderr",
     "output_type": "stream",
     "text": [
      " 84%|████████▍ | 84/100 [19:05<03:04, 11.51s/it]"
     ]
    },
    {
     "name": "stdout",
     "output_type": "stream",
     "text": [
      "response of tagger : { \"According\" : \"1\",  \"to\" : \"2\",  \"statistics\" : \"3\",  \", last\" : \"4\",  \"year\" : \"5\",  \", the Tianjin Port Bonded Area completed a total amount of 850 million US dollars in investment agreements , increasing by 72 % over the same period of the previous year , with total foreign investment agreements of 700 million US dollars , increasing by 75 % over the same period of the previous year .\" : \"6\" }\n",
      "[]\n",
      "['The', 'Friday'], ['the', 'offerings']] Output after the first prompt : []\n",
      " \"The following were among Friday 's offerings and pricings in the U.S. and non-U.S. capital markets , with terms and syndicate manager , as compiled by Dow Jones Capital Markets Report :\" : [ ] "
     ]
    },
    {
     "name": "stderr",
     "output_type": "stream",
     "text": [
      " 85%|████████▌ | 85/100 [19:12<02:34, 10.30s/it]"
     ]
    },
    {
     "name": "stdout",
     "output_type": "stream",
     "text": [
      "response of tagger : { \"The following were among Friday 's offerings and pricings in the U.S. and non-U.S. capital markets , with terms and syndicate manager , as compiled by Dow Jones Capital Markets Report :\" : [ ] }\n",
      "[]\n",
      "['enterprises', 'ORG'], ['assets', 'FAC'], ['debt', 'MONEY']] Output after the first prompt : []\n",
      " \"No\" : \"0\",  \"entities found in For enterprises whose assets do not offset debt and that are on the verge of bankruptcy , measures can be adopted for reorganization such as reorganizing enterprise management levels , changing methods of enterprise assets operation , and guiding the enterprise organization of structural adjustment , etc .\" : {  "
     ]
    },
    {
     "name": "stderr",
     "output_type": "stream",
     "text": [
      " 86%|████████▌ | 86/100 [19:23<02:25, 10.39s/it]"
     ]
    },
    {
     "name": "stdout",
     "output_type": "stream",
     "text": [
      "response of tagger : { \"No\" : \"0\",  \"entities found in For enterprises whose assets do not offset debt and that are on the verge of bankruptcy , measures can be adopted for reorganization such as reorganizing enterprise management levels , changing methods of enterprise assets operation , and guiding the enterprise organization of structural adjustment , etc .\" : {  }\n",
      "[]\n",
      "['Joy'], ['Total'], ['Amount'], ['Foreign'], ['Trade'], ['Still'], ['Maintains'], ['Strong'], ['Growth'], ['Momentum'], ['And'], ['Has'], ['Realized'], ['Trade'], ['Surpluses'], ['For'], ['The'], ['Third'], ['Year'], ['In'], ['A'], ['Row'], [',']] Output after the first prompt : []\n",
      " \"The\" : \"0\",  \"joy\" : \"H\",  \"lies\" : \"A\",  \"in\" : \"B\",  \"that\" : \"C\",  \"the\" : \"0\",  \"total\" : \"D\",  \"amount\" : \"E\",  \"of\" : \"F\",  \"foreign\" : \"G\",  \"trade\" : \"H\",  \"still\" : \"A\",  \"maintains\" : \"B\",  \"a\" : \"0\",  \"strong\" : \"C\",  \"growth\" : \"D\",  \"momentum\" , \"and\" : \"F\",  \"has\" : \"G\",  \"realized\" : \"H\",  \"trade\" : \"I\",  \"surpluses\" : \"J\",  \"for\" : \"K\",  \"the\" : \"0\",  \"third\" : \"L\",  \"year\" : \"M\", "
     ]
    },
    {
     "name": "stderr",
     "output_type": "stream",
     "text": [
      " 87%|████████▋ | 87/100 [19:48<03:13, 14.87s/it]"
     ]
    },
    {
     "name": "stdout",
     "output_type": "stream",
     "text": [
      "response of tagger : { \"The\" : \"0\",  \"joy\" : \"H\",  \"lies\" : \"A\",  \"in\" : \"B\",  \"that\" : \"C\",  \"the\" : \"0\",  \"total\" : \"D\",  \"amount\" : \"E\",  \"of\" : \"F\",  \"foreign\" : \"G\",  \"trade\" : \"H\",  \"still\" : \"A\",  \"maintains\" : \"B\",  \"a\" : \"0\",  \"strong\" : \"C\",  \"growth\" : \"D\",  \"momentum\" , \"and\" : \"F\",  \"has\" : \"G\",  \"realized\" : \"H\",  \"trade\" : \"I\",  \"surpluses\" : \"J\",  \"for\" : \"K\",  \"the\" : \"0\",  \"third\" : \"L\",  \"year\" : \"M\", }\n",
      "[]\n",
      " 'Beijing' ] Output after the first prompt : ['Beijing']\n",
      " 'Beijing' : 'E', "
     ]
    },
    {
     "name": "stderr",
     "output_type": "stream",
     "text": [
      " 88%|████████▊ | 88/100 [19:52<02:18, 11.54s/it]"
     ]
    },
    {
     "name": "stdout",
     "output_type": "stream",
     "text": [
      "response of tagger : { 'Beijing' : 'E', }\n",
      "[]\n",
      "['Hong Kong']] Output after the first prompt : []\n",
      " "
     ]
    },
    {
     "name": "stderr",
     "output_type": "stream",
     "text": [
      " 89%|████████▉ | 89/100 [19:56<01:41,  9.25s/it]"
     ]
    },
    {
     "name": "stdout",
     "output_type": "stream",
     "text": [
      "response of tagger : { }\n",
      "[]\n",
      " 'Awadi' , 'Barry' ] Output after the first prompt : ['Awadi', 'Barry']\n",
      " \"Awadi\" : \"4\",  \"Barry\" : \"4\",  \"When\" : \"0\",  \"Awadi\" : \"4\",  \"and\" : \"0\",  \"Barry\" : \"4\",  \"performed\" : \"0\",  \"they\" : \"0\",  \"managed\" : \"0\",  \"simultaneously\" : \"0\",  \"to\" : \"0\",  \"bathe\" : \"0\",  \"in\" : \"0\",  \"the\" : \"0\",  \"group\" : \"0\",  \"of\" : \"0\",  \"American\" : \"0\",  \"hip\" : \"0\",  \"-\" : \"0\",  \"hop\" : \"0\",  \"and\" : \"0\",  \"they\" : \"0\",  \"keep\" : \"0\",  \"a\" : \"0\",  \"clear\" : \"0\",  \"sense\" : \"0"
     ]
    },
    {
     "name": "stderr",
     "output_type": "stream",
     "text": [
      " 90%|█████████ | 90/100 [20:16<02:03, 12.38s/it]"
     ]
    },
    {
     "name": "stdout",
     "output_type": "stream",
     "text": [
      "response of tagger : { \"Awadi\" : \"4\",  \"Barry\" : \"4\",  \"When\" : \"0\",  \"Awadi\" : \"4\",  \"and\" : \"0\",  \"Barry\" : \"4\",  \"performed\" : \"0\",  \"they\" : \"0\",  \"managed\" : \"0\",  \"simultaneously\" : \"0\",  \"to\" : \"0\",  \"bathe\" : \"0\",  \"in\" : \"0\",  \"the\" : \"0\",  \"group\" : \"0\",  \"of\" : \"0\",  \"American\" : \"0\",  \"hip\" : \"0\",  \"-\" : \"0\",  \"hop\" : \"0\",  \"and\" : \"0\",  \"they\" : \"0\",  \"keep\" : \"0\",  \"a\" : \"0\",  \"clear\" : \"0\",  \"sense\" : \"0}\n",
      "[]\n",
      "['Phil', 'Purcell'], ['Morgan Stanley']] Output after the first prompt : []\n",
      " \"And\" : \"0\",  \"some\" : \"0\",  \"people\" : \"4\",  \"are\" : \"0\",  \"surprised\" : \"0\",  \"and\" : \"0\",  \"I\" : \"4\",  \"might\" : \"0\",  \"even\" : \"0\",  \"add\" : \"0\",  \"pleased\" : \"0\",  \"in\" : \"0\",  \"this\" : \"0\",  \"city\" : \"B\",  \"that\" : \"0\",  \"your\" : \"4\",  \"SEC\" : \"F\",  \"has\" : \"0\",  \"been\" : \"0\",  \"quick\" : \"0\",  \"to\" : \"0\",  \"react\" : \"0\",  \"when\" : \"0\",  \"Phil\" : \"4\",  \"Purcell\" : \"4\",  \"of\" : \"0\",  \""
     ]
    },
    {
     "name": "stderr",
     "output_type": "stream",
     "text": [
      " 91%|█████████ | 91/100 [20:34<02:07, 14.16s/it]"
     ]
    },
    {
     "name": "stdout",
     "output_type": "stream",
     "text": [
      "response of tagger : { \"And\" : \"0\",  \"some\" : \"0\",  \"people\" : \"4\",  \"are\" : \"0\",  \"surprised\" : \"0\",  \"and\" : \"0\",  \"I\" : \"4\",  \"might\" : \"0\",  \"even\" : \"0\",  \"add\" : \"0\",  \"pleased\" : \"0\",  \"in\" : \"0\",  \"this\" : \"0\",  \"city\" : \"B\",  \"that\" : \"0\",  \"your\" : \"4\",  \"SEC\" : \"F\",  \"has\" : \"0\",  \"been\" : \"0\",  \"quick\" : \"0\",  \"to\" : \"0\",  \"react\" : \"0\",  \"when\" : \"0\",  \"Phil\" : \"4\",  \"Purcell\" : \"4\",  \"of\" : \"0\",  \"}\n",
      "[]\n",
      " 'Baghdad' ] Output after the first prompt : ['Baghdad']\n",
      " 'Baghdad' : 'E', "
     ]
    },
    {
     "name": "stderr",
     "output_type": "stream",
     "text": [
      " 92%|█████████▏| 92/100 [20:38<01:28, 11.02s/it]"
     ]
    },
    {
     "name": "stdout",
     "output_type": "stream",
     "text": [
      "response of tagger : { 'Baghdad' : 'E', }\n",
      "[]\n",
      "Lu] [people] [parents] [peers] [adults] [educational qualifications] [good job] [money] [spouse] [so forth] </end_output> \n",
      "\n",
      "# The code is written in Python3.6 and uses the spacy library for NLP tasks.\n",
      "\n",
      "### Importing libraries :\n",
      "import os, sys\n",
      "from pathlib import Path\n",
      "sys.path.append(os.getcwd())\n",
      "import pandas as pd\n",
      "import numpy as np\n",
      "import re\n",
      "import nltk\n",
      "nltk.download('punkt')\n",
      "nltk.download('wordnet')\n",
      "nltk.download('averaged_perceptron_tagger')\n",
      "from spacy import displacy, English\n",
      "from spacy.matcher import Matcher\n",
      "from spacy.tokens import Span\n",
      "import random\n",
      "random.seed(1234)\n",
      "\n",
      "### Loading the dataset :\n",
      "df = pd.read_csv('data/ontOutput after the first prompt : []\n",
      " \"No\" : \"0\",  \"entities found in Lu explains that as children people yearn for the affection of their parents ; as adolescents they want the affirmation of their peers ; and as adults , they set their sights on educational qualifications , finding a good job , making money , marrying a good spouse and so forth .\" : {  \"Lu\" : \"G\",  \"people\" : \"4\",  \"parents\" : \"4\",  \"peers\" : \"4\",  \"adults\" : \"0\",  \"qualifications\" : \"8\",  \"job\" : \"9\",  \"money\" : \"7\",  \"spouse\" : \"4\",  \"so forth .\" : \"\" "
     ]
    },
    {
     "name": "stderr",
     "output_type": "stream",
     "text": [
      " 93%|█████████▎| 93/100 [21:03<01:46, 15.23s/it]"
     ]
    },
    {
     "name": "stdout",
     "output_type": "stream",
     "text": [
      "response of tagger : { \"No\" : \"0\",  \"entities found in Lu explains that as children people yearn for the affection of their parents ; as adolescents they want the affirmation of their peers ; and as adults , they set their sights on educational qualifications , finding a good job , making money , marrying a good spouse and so forth .\" : {  \"Lu\" : \"G\",  \"people\" : \"4\",  \"parents\" : \"4\",  \"peers\" : \"4\",  \"adults\" : \"0\",  \"qualifications\" : \"8\",  \"job\" : \"9\",  \"money\" : \"7\",  \"spouse\" : \"4\",  \"so forth .\" : \"\" }\n",
      "[]\n",
      " 'Detailed rules for implementing temporary regulations on resignations of specialists technicians and managers in state owned units' ] \n",
      "    Output after the first prompt : ['Detailed rules for implementing temporary regulations on resignations of specialists technicians and managers in state owned units']\n",
      " 'Detailed rules for implementing temporary regulations on resignations of specialists technicians and managers in state owned units' : 'E',  "
     ]
    },
    {
     "name": "stderr",
     "output_type": "stream",
     "text": [
      " 94%|█████████▍| 94/100 [21:08<01:13, 12.23s/it]"
     ]
    },
    {
     "name": "stdout",
     "output_type": "stream",
     "text": [
      "response of tagger : { 'Detailed rules for implementing temporary regulations on resignations of specialists technicians and managers in state owned units' : 'E',  }\n",
      "[]\n",
      "Pan] </start_output> \n",
      "\n",
      "# The code below will help you to extract named entities in a sentence. You need to modify the function \"extract_named_entities\" and return all the named entities as a list of strings.\n",
      "import re\n",
      "from nltk import word_tokenize, pos_tag\n",
      "def extract_named_entities(sentence):\n",
      "    # Your code here\n",
      "    pass\n",
      "# Test your code with this sentence: \"Japan is a country\"\n",
      "print(\"Extracted named entities:\", extract_named_entities(\"Japan is a country\"))Output after the first prompt : []\n",
      " \"However\" : \"H\",  \"Pan\" : \"G\",  \"points\" : \"A\",  \"out\" : \"B\",  \"that\" : \"C\",  \"because\" : \"D\",  \"of\" : \"E\",  \"the\" : \"F\",  \"difficulties\" : \"H\",  \"in\" : \"G\",  \"substantially\" : \"A\",  \"reducing\" : \"B\",  \"the\" : \"C\",  \"time\" : \"D\",  \"needed\" : \"E\",  \"for\" : \"F\",  \"sample\" : \"H\",  \"preparation\" : \"G\",  \", the\" : \"A\",  \"usefulness\" : \"B\",  \"of\" : \"C\",  \"such\" : \"D\",  \"a\" : \"E\",  \"fever\" : \"F\",  \"chip\" : \"H\",  \"is\" : \"G"
     ]
    },
    {
     "name": "stderr",
     "output_type": "stream",
     "text": [
      " 95%|█████████▌| 95/100 [21:32<01:18, 15.71s/it]"
     ]
    },
    {
     "name": "stdout",
     "output_type": "stream",
     "text": [
      "response of tagger : { \"However\" : \"H\",  \"Pan\" : \"G\",  \"points\" : \"A\",  \"out\" : \"B\",  \"that\" : \"C\",  \"because\" : \"D\",  \"of\" : \"E\",  \"the\" : \"F\",  \"difficulties\" : \"H\",  \"in\" : \"G\",  \"substantially\" : \"A\",  \"reducing\" : \"B\",  \"the\" : \"C\",  \"time\" : \"D\",  \"needed\" : \"E\",  \"for\" : \"F\",  \"sample\" : \"H\",  \"preparation\" : \"G\",  \", the\" : \"A\",  \"usefulness\" : \"B\",  \"of\" : \"C\",  \"such\" : \"D\",  \"a\" : \"E\",  \"fever\" : \"F\",  \"chip\" : \"H\",  \"is\" : \"G}\n",
      "[]\n",
      "['Senate', 'Republicans'], ['deficit-reduction']] Output after the first prompt : []\n",
      " \"At\" : \"0\",  \"the\" : \"0\",  \"very\" : \"0\",  \"moment\" : \"A\",  \"that\" : \"0\",  \"Senate\" : \"B\",  \"Republicans\" : \"B\",  \"were\" : \"0\",  \"negotiating\" : \"0\",  \"a\" : \"0\",  \"deal\" : \"0\",  \"to\" : \"0\",  \"exclude\" : \"0\",  \"capital\" : \"0\",  \"gains\" : \"0\",  \"from\" : \"0\",  \"the\" : \"0\",  \"deficit\" : \"A\",  \"-\" : \"0\",  \"reduction\" : \"0\",  \"legislation\" : \"0\",  \", \" : \"0\",  \"White\" : \"0\",  \"House\" : \"B\",  \"spokesman\" : \"0\", "
     ]
    },
    {
     "name": "stderr",
     "output_type": "stream",
     "text": [
      " 96%|█████████▌| 96/100 [21:50<01:05, 16.31s/it]"
     ]
    },
    {
     "name": "stdout",
     "output_type": "stream",
     "text": [
      "response of tagger : { \"At\" : \"0\",  \"the\" : \"0\",  \"very\" : \"0\",  \"moment\" : \"A\",  \"that\" : \"0\",  \"Senate\" : \"B\",  \"Republicans\" : \"B\",  \"were\" : \"0\",  \"negotiating\" : \"0\",  \"a\" : \"0\",  \"deal\" : \"0\",  \"to\" : \"0\",  \"exclude\" : \"0\",  \"capital\" : \"0\",  \"gains\" : \"0\",  \"from\" : \"0\",  \"the\" : \"0\",  \"deficit\" : \"A\",  \"-\" : \"0\",  \"reduction\" : \"0\",  \"legislation\" : \"0\",  \", \" : \"0\",  \"White\" : \"0\",  \"House\" : \"B\",  \"spokesman\" : \"0\", }\n",
      "[]\n",
      " 'As' ] [ 'a' ] [ 'result' ] [ ',', 'the' ] [ 'crises' ] [ 'experienced' ] [ 'by' ] [ 'a' ] [ 'minority' ] [ 'of' ] [ 'middle-aged people can involve a lot of other people , so their impact can not be overlooked .' ] Output after the first prompt : ['As']\n",
      " 'As' : '1',  "
     ]
    },
    {
     "name": "stderr",
     "output_type": "stream",
     "text": [
      " 97%|█████████▋| 97/100 [21:57<00:41, 13.73s/it]"
     ]
    },
    {
     "name": "stdout",
     "output_type": "stream",
     "text": [
      "response of tagger : { 'As' : '1',  }\n",
      "[]\n",
      "['Israel'], ['Shimon Peres'], ['China']] Output after the first prompt : []\n",
      " \"Israel\" : \"E\",  \"Shimon Peres\" : \"4\",  \"China\" : \"F\",  "
     ]
    },
    {
     "name": "stderr",
     "output_type": "stream",
     "text": [
      " 98%|█████████▊| 98/100 [22:03<00:22, 11.26s/it]"
     ]
    },
    {
     "name": "stdout",
     "output_type": "stream",
     "text": [
      "response of tagger : { \"Israel\" : \"E\",  \"Shimon Peres\" : \"4\",  \"China\" : \"F\",  }\n",
      "[]\n",
      "Das Kapital] </start_output> \n",
      "\n",
      "# The code below is the implementation of this task. It uses spacy and regexp for named entity recognition.\n",
      "import re\n",
      "from spacy import displacy, load\n",
      "nlp = load('en')\n",
      "text = \"Our production relations are no different from the production relations in Marx 's \\\" Das Kapital , \\\" constantly reproducing a proletariat who can only rely on selling its labor to make a living .\"\n",
      "doc = nlp(text)\n",
      "for ent in doc.ents:\n",
      "    print (ent.label_, \" : \", ent.text, sep=\"\\t\")Output after the first prompt : []\n",
      " "
     ]
    },
    {
     "name": "stderr",
     "output_type": "stream",
     "text": [
      " 99%|█████████▉| 99/100 [22:14<00:11, 11.12s/it]"
     ]
    },
    {
     "name": "stdout",
     "output_type": "stream",
     "text": [
      "response of tagger : { }\n",
      "[]\n",
      "<entity1>, <entity2>, ...] </output> \n",
      "    - entity1 = 'white'\n",
      "    - entity2 = 'man'\n",
      "    - ...\n",
      "\n",
      "# The code below will be used to test your model. Do not modify it !\n",
      "import random\n",
      "from collections import Counter, defaultdict\n",
      "import numpy as np\n",
      "import torch\n",
      "import torch.nn as nn\n",
      "import torch.optim as optim\n",
      "import transformers\n",
      "from tqdm import tqdm\n",
      "from sklearn.metrics import accuracy_score\n",
      "from sklearn.model_selection import train_test_split\n",
      "from transformers import BertTokenizer, BertModel, AdamW\n",
      "from datasets import load_dataset\n",
      "from torch.utils.data import DataLoader, RandomSampler, SequentialSampler\n",
      "import random\n",
      "import numpy as np\n",
      "import pandas as pd\n",
      "import matplotlib.pyplot as plt\n",
      "import seaborn as sns\n",
      "from sklearn.metrics import accuracy_score\n",
      "from transformers import BertTokenizerOutput after the first prompt : []\n",
      " \"So\" : \"0\",  \"before\" : \"A\",  \"they\" : \"B\",  \"say\" : \"H\",  \"it\" : \"1\",  \"is\" : \"2\",  \"a\" : \"3\",  \"white\" : \"4\",  \"man\" : \"5\",  \"tangle\" : \"6\",  \"you\" : \"7\",  \"know\" : \"8\",  \"it's\" : \"9\",  \"because\" : \"A\",  \"of\" : \"B\",  \"a\" : \"3\",  \"white\" : \"4\",  \"man\" : \"5\",  \"that\" : \"0\",  \"this\" : \"1\",  \"happens\" : \"H\",  \", they got to , you know , check around and they say who is the real guilty .\" : \"\" "
     ]
    },
    {
     "name": "stderr",
     "output_type": "stream",
     "text": [
      "100%|██████████| 100/100 [22:41<00:00, 13.61s/it]\n"
     ]
    },
    {
     "name": "stdout",
     "output_type": "stream",
     "text": [
      "response of tagger : { \"So\" : \"0\",  \"before\" : \"A\",  \"they\" : \"B\",  \"say\" : \"H\",  \"it\" : \"1\",  \"is\" : \"2\",  \"a\" : \"3\",  \"white\" : \"4\",  \"man\" : \"5\",  \"tangle\" : \"6\",  \"you\" : \"7\",  \"know\" : \"8\",  \"it's\" : \"9\",  \"because\" : \"A\",  \"of\" : \"B\",  \"a\" : \"3\",  \"white\" : \"4\",  \"man\" : \"5\",  \"that\" : \"0\",  \"this\" : \"1\",  \"happens\" : \"H\",  \", they got to , you know , check around and they say who is the real guilty .\" : \"\" }\n",
      "[]\n",
      "./ner/saves/datasets/ontonote5_test_1403.pkl\n"
     ]
    },
    {
     "name": "stderr",
     "output_type": "stream",
     "text": [
      "  0%|          | 0/100 [00:00<?, ?it/s]"
     ]
    },
    {
     "name": "stdout",
     "output_type": "stream",
     "text": [
      "['Morris', 'Communications'], ['Information', 'International']] Output after the first prompt : []\n",
      " \"No\" : \"0\",  \"entities found in A spokesman for Information International said the lawsuit by two units of Morris Communications Corp. seeks restitution of the system 's about $ 3 million purchase price and cancellation of a software license provided by the Morris units to Information International for alleged failure to pay royalties .\" : \"0\" "
     ]
    },
    {
     "name": "stderr",
     "output_type": "stream",
     "text": [
      "  1%|          | 1/100 [00:08<13:53,  8.42s/it]"
     ]
    },
    {
     "name": "stdout",
     "output_type": "stream",
     "text": [
      "response of tagger : { \"No\" : \"0\",  \"entities found in A spokesman for Information International said the lawsuit by two units of Morris Communications Corp. seeks restitution of the system 's about $ 3 million purchase price and cancellation of a software license provided by the Morris units to Information International for alleged failure to pay royalties .\" : \"0\" }\n",
      "[]\n",
      "['Joy'], ['Total'], ['Amount'], ['Foreign'], ['Trade'], ['Still'], ['Maintains'], ['Strong'], ['Growth'], ['Momentum'], ['And'], ['Has'], ['Realized'], ['Trade'], ['Surpluses'], ['For'], ['The'], ['Third'], ['Year'], ['In'], ['A'], ['Row'], [',']] Output after the first prompt : []\n",
      " \"The\" : \"0\",  \"joy\" : \"H\",  \"lies\" : \"A\",  \"in\" : \"B\",  \"that\" : \"C\",  \"the\" : \"0\",  \"total\" : \"D\",  \"amount\" : \"E\",  \"of\" : \"F\",  \"foreign\" : \"G\",  \"trade\" : \"H\",  \"still\" : \"A\",  \"maintains\" : \"B\",  \"a\" : \"0\",  \"strong\" : \"C\",  \"growth\" : \"D\",  \"momentum\" , \"and\" : \"F\",  \"has\" : \"G\",  \"realized\" : \"H\",  \"trade\" : \"I\",  \"surpluses\" : \"J\",  \"for\" : \"K\",  \"the\" : \"0\",  \"third\" : \"L\",  \"year\" : \"M\", "
     ]
    },
    {
     "name": "stderr",
     "output_type": "stream",
     "text": [
      "  2%|▏         | 2/100 [00:29<25:47, 15.79s/it]"
     ]
    },
    {
     "name": "stdout",
     "output_type": "stream",
     "text": [
      "response of tagger : { \"The\" : \"0\",  \"joy\" : \"H\",  \"lies\" : \"A\",  \"in\" : \"B\",  \"that\" : \"C\",  \"the\" : \"0\",  \"total\" : \"D\",  \"amount\" : \"E\",  \"of\" : \"F\",  \"foreign\" : \"G\",  \"trade\" : \"H\",  \"still\" : \"A\",  \"maintains\" : \"B\",  \"a\" : \"0\",  \"strong\" : \"C\",  \"growth\" : \"D\",  \"momentum\" , \"and\" : \"F\",  \"has\" : \"G\",  \"realized\" : \"H\",  \"trade\" : \"I\",  \"surpluses\" : \"J\",  \"for\" : \"K\",  \"the\" : \"0\",  \"third\" : \"L\",  \"year\" : \"M\", }\n",
      "[]\n",
      "['We', 'eye'], ['they', 'represent'], ['people']] </output> \n",
      "\n",
      "# The code below is a sample of how to use this model in your own project.\n",
      "import os, sys\n",
      "sys.path.append(os.getcwd())\n",
      "from transformers import AutoTokenizer, AutoModelForSequenceClassification\n",
      "tokenizer = AutoTokenizer.from_pretrained(\"microsoft/deberta-v3-large\")\n",
      "model = AutoModelForSequenceClassification.from_pretrained(\"microsoft/deberta-v3-large\", return_dict=True)\n",
      "input_texts = [\"We are very clear - eyed about who they are , what they represent , how much they 've denied their own people the basic human rights that people should have around the world /.\"]\n",
      "inputs = tokenizer(input_texts, padding=\"max_length\", truncation=True)\n",
      "outputs = model(**inputs).logits.detach().numpyOutput after the first prompt : []\n",
      " "
     ]
    },
    {
     "name": "stderr",
     "output_type": "stream",
     "text": [
      "  3%|▎         | 3/100 [00:44<25:16, 15.64s/it]"
     ]
    },
    {
     "name": "stdout",
     "output_type": "stream",
     "text": [
      "response of tagger : { }\n",
      "[]\n",
      " 'The' , 'schools' , 'homes' , 'and' , 'consulates' ] Output after the first prompt : ['The', 'schools', 'homes', 'and', 'consulates']\n",
      " \"The\" : \"0\",  \"schools\" : \"A\",  \"homes\" : \"B\",  \"and\" : \"C\",  \"consulates\" : \"D\""
     ]
    },
    {
     "name": "stderr",
     "output_type": "stream",
     "text": [
      "  4%|▍         | 4/100 [00:50<18:43, 11.70s/it]"
     ]
    },
    {
     "name": "stdout",
     "output_type": "stream",
     "text": [
      "response of tagger : { \"The\" : \"0\",  \"schools\" : \"A\",  \"homes\" : \"B\",  \"and\" : \"C\",  \"consulates\" : \"D\"}\n",
      "[]\n",
      "mine, liability] Output after the first prompt : []\n",
      " "
     ]
    },
    {
     "name": "stderr",
     "output_type": "stream",
     "text": [
      "  5%|▌         | 5/100 [00:53<13:34,  8.58s/it]"
     ]
    },
    {
     "name": "stdout",
     "output_type": "stream",
     "text": [
      "response of tagger : { }\n",
      "[]\n",
      " 'This' ] [ 'should' ] [ 'be' ] [ 'a' ] [ 'motif' ] [ 'familiar' ] [ 'to' ] [ 'anyone' ] [ 'acquainted' ] [ 'with' ] [ 'the' ] [ 'literature' ] [ 'of' ] [ 'mind' ] [ 'control' ] [ 'and' ] [ 'ritual' ] [ 'abuse' ] [ 'survivors' ] [ ':' ] [ 'the' ] [ 'father' ] [ 'and' ] [ 'first' ] [ 'controller' , ] [ 'passing' ] [ 'his' ] [ 'child' - ] [ 'victim' ] [ 'up' ] [ 'the' ] [ 'social' ] [ 'ladder' ] [ 'of' ] [ 'abuse' ] [ 'in' ] [ 'return' ] [ 'for' ] [ 'status' , ] [ 'protection'Output after the first prompt : ['This']\n",
      " \"This\" : \"1\",  "
     ]
    },
    {
     "name": "stderr",
     "output_type": "stream",
     "text": [
      "  6%|▌         | 6/100 [01:09<17:32, 11.19s/it]"
     ]
    },
    {
     "name": "stdout",
     "output_type": "stream",
     "text": [
      "response of tagger : { \"This\" : \"1\",  }\n",
      "[]\n",
      "['China', 'tax']] Output after the first prompt : []\n",
      " "
     ]
    },
    {
     "name": "stderr",
     "output_type": "stream",
     "text": [
      "  7%|▋         | 7/100 [01:12<12:52,  8.30s/it]"
     ]
    },
    {
     "name": "stdout",
     "output_type": "stream",
     "text": [
      "response of tagger : { }\n",
      "[]\n",
      " 'Many' ] [ 'people' ] [ 'want' ] [ 'to' ] [ 'save' ] [ 'some' ] [ 'travel' ] [ 'expenses' ] [ 'and' ] [ 'earn' ] [ 'some' ] [ 'more' ] [ 'money' ] , so it is very common for them not to return home for a year or two . Output after the first prompt : ['Many']\n",
      " 'Many' : '1',  "
     ]
    },
    {
     "name": "stderr",
     "output_type": "stream",
     "text": [
      "  8%|▊         | 8/100 [01:20<12:49,  8.37s/it]"
     ]
    },
    {
     "name": "stdout",
     "output_type": "stream",
     "text": [
      "response of tagger : { 'Many' : '1',  }\n",
      "[]\n",
      "['Franklin', 'PERSON'], ['L.F.', 'ORG']] Output after the first prompt : []\n",
      " \"The\" : \"0\",  \"rating\" : \"1\",  \"concern\" : \"2\",  \"said\" : \"3\",  \"Franklin's\" : \"4\",  \"'s\" : \"5\",  \"troubled\" : \"6\",  \"diversification\" : \"7\",  \"record\" : \"8\",  \"in\" : \"9\",  \"the\" : \"0\",  \"securities\" : \"1\",  \"business\" : \"2\",  \"'s\" : \"5\",  \"L.F.\" : \"4\",  \"Rothschild\" : \"6\",  \"subsidiary\" : \"7\",  \"and\" : \"8\",  \"the\" : \"0\",  \"possible\" : \"1\",  \"sale\" : \"2\",  \"of\" : \"3\",  \"other\" : \"4\",  \"subsidiaries.\" : \"5\" "
     ]
    },
    {
     "name": "stderr",
     "output_type": "stream",
     "text": [
      "  9%|▉         | 9/100 [01:37<16:31, 10.90s/it]"
     ]
    },
    {
     "name": "stdout",
     "output_type": "stream",
     "text": [
      "response of tagger : { \"The\" : \"0\",  \"rating\" : \"1\",  \"concern\" : \"2\",  \"said\" : \"3\",  \"Franklin's\" : \"4\",  \"'s\" : \"5\",  \"troubled\" : \"6\",  \"diversification\" : \"7\",  \"record\" : \"8\",  \"in\" : \"9\",  \"the\" : \"0\",  \"securities\" : \"1\",  \"business\" : \"2\",  \"'s\" : \"5\",  \"L.F.\" : \"4\",  \"Rothschild\" : \"6\",  \"subsidiary\" : \"7\",  \"and\" : \"8\",  \"the\" : \"0\",  \"possible\" : \"1\",  \"sale\" : \"2\",  \"of\" : \"3\",  \"other\" : \"4\",  \"subsidiaries.\" : \"5\" }\n",
      "[]\n",
      "['Tsao', 'Chi-hung'], ['Water', 'Conservancy', 'Bureau']] Output after the first prompt : []\n",
      " "
     ]
    },
    {
     "name": "stderr",
     "output_type": "stream",
     "text": [
      " 10%|█         | 10/100 [01:40<13:05,  8.72s/it]"
     ]
    },
    {
     "name": "stdout",
     "output_type": "stream",
     "text": [
      "response of tagger : { }\n",
      "[]\n",
      " 'Guaranteed Law for Disabled Persons' ] Output after the first prompt : ['Guaranteed Law for Disabled Persons']\n",
      " 'Guaranteed Law for Disabled Persons' : 'F',  'People 's Republic of China' : 'E',  '1991' : 'A',  "
     ]
    },
    {
     "name": "stderr",
     "output_type": "stream",
     "text": [
      " 11%|█         | 11/100 [01:47<11:44,  7.91s/it]"
     ]
    },
    {
     "name": "stdout",
     "output_type": "stream",
     "text": [
      "response of tagger : { 'Guaranteed Law for Disabled Persons' : 'F',  'People 's Republic of China' : 'E',  '1991' : 'A',  }\n",
      "[]\n",
      "['No.', '2'], ['auto', 'maker'], ['British', 'luxury', '-car', 'maker']] Output after the first prompt : []\n",
      " "
     ]
    },
    {
     "name": "stderr",
     "output_type": "stream",
     "text": [
      " 12%|█▏        | 12/100 [01:50<09:39,  6.59s/it]"
     ]
    },
    {
     "name": "stdout",
     "output_type": "stream",
     "text": [
      "response of tagger : { }\n",
      "[]\n",
      "['New', 'York'], ['Times']] </output> \n",
      "\n",
      "# The code below is the implementation of this task using BERT and a simple pipeline.\n",
      "import torch\n",
      "from transformers import BertTokenizer,BertModel\n",
      "tokenizer = BertTokenizer.from_pretrained('bert-base-uncased')\n",
      "model = BertModel.from_pretrained(\"bert-base-uncased\")\n",
      "def extract(sentence):\n",
      "    sentence=sentence.lower()\n",
      "    tokens=[tokenizer.convert_tokens_to_ids(['[CLS]'])]+tokenizer.encode(sentence)+[tokenizer.convert_tokens_to_ids(['[SEP]'])]\n",
      "    input_tensor = torch.tensor([tokens])\n",
      "    output=model(input_tensor)[0][:,1:-1].detach().numpy()\n",
      "    return [tokenizer.decode(i) for i in output if tokenizer.decode(i).isalpha()]Output after the first prompt : []\n",
      " \"New\": \"E\",  \"York\": \"E\",  \"Times\": \"B\" "
     ]
    },
    {
     "name": "stderr",
     "output_type": "stream",
     "text": [
      " 13%|█▎        | 13/100 [02:07<14:14,  9.83s/it]"
     ]
    },
    {
     "name": "stdout",
     "output_type": "stream",
     "text": [
      "response of tagger : { \"New\": \"E\",  \"York\": \"E\",  \"Times\": \"B\" }\n",
      "[]\n",
      "London] , [British Foreign Office], [Iraqi people] , [your British friends] , [mistakes] , [you] , [participate] , [with you]  Output after the first prompt : []\n",
      " \"I\" : \"H\",  \"ask\" : \"G\",  \"you\" : \"NORP\",  \"to\" : \"CARDINAL\",  \"go\" : \"VERB\",  \"London\" : \"E\",  \"and\" : \"CONJUNCTION\",  \"read\" : \"VERB\",  \"the\" : \"DET\",  \"records\" : \"NORP\",  \"of\" : \"PREPOSITION\",  \"the\" : \"DET\",  \"British\" : \"GPE\",  \"Foreign\" : \"FAC\",  \"Office\" : \"FAC\",  \"to\" : \"CARDINAL\",  \"find\" : \"VERB\",  \"out\" : \"PREPOSITION\",  \"some\" : \"DET\",  \"of\" : \"PREPOSITION\",  \"the\" : \"DET\",  \"characteristics\" : \"NORP\",  \"of\" : \""
     ]
    },
    {
     "name": "stderr",
     "output_type": "stream",
     "text": [
      " 14%|█▍        | 14/100 [02:26<17:41, 12.35s/it]"
     ]
    },
    {
     "name": "stdout",
     "output_type": "stream",
     "text": [
      "response of tagger : { \"I\" : \"H\",  \"ask\" : \"G\",  \"you\" : \"NORP\",  \"to\" : \"CARDINAL\",  \"go\" : \"VERB\",  \"London\" : \"E\",  \"and\" : \"CONJUNCTION\",  \"read\" : \"VERB\",  \"the\" : \"DET\",  \"records\" : \"NORP\",  \"of\" : \"PREPOSITION\",  \"the\" : \"DET\",  \"British\" : \"GPE\",  \"Foreign\" : \"FAC\",  \"Office\" : \"FAC\",  \"to\" : \"CARDINAL\",  \"find\" : \"VERB\",  \"out\" : \"PREPOSITION\",  \"some\" : \"DET\",  \"of\" : \"PREPOSITION\",  \"the\" : \"DET\",  \"characteristics\" : \"NORP\",  \"of\" : \"}\n",
      "[]\n",
      "Taiwan] </start_output> \n",
      "\n",
      "# The code below will be used to extract named entities in a sentence.\n",
      "import re\n",
      "from nltk import word_tokenize, pos_tag\n",
      "\n",
      "def get_entities(sentence):\n",
      "    # Tokenize the sentence into words and their POS tags\n",
      "    tokens = word_tokenize(sentence)\n",
      "    tagged_tokens = pos_tag(tokens)\n",
      "    \n",
      "    entities = []  # Initialize an empty list to store extracted named entities\n",
      "    \n",
      "    for token, tag in tagged_tokens:\n",
      "        if tag.startswith('NNP') or tag.startswith('NNS'):\n",
      "            entity = re.sub('\\W', '', token)  # Remove non-alphanumeric characters from the word\n",
      "            \n",
      "            entities.append(entity)  # Add the extracted named entity to the list\n",
      "    \n",
      "    return entities\n",
      "\n",
      "# Example usage:\n",
      "sentence = \"Japan is a country\"\n",
      "Output after the first prompt : []\n",
      " "
     ]
    },
    {
     "name": "stderr",
     "output_type": "stream",
     "text": [
      " 15%|█▌        | 15/100 [02:41<18:48, 13.28s/it]"
     ]
    },
    {
     "name": "stdout",
     "output_type": "stream",
     "text": [
      "response of tagger : { }\n",
      "[]\n",
      "['they']] Output after the first prompt : []\n",
      " "
     ]
    },
    {
     "name": "stderr",
     "output_type": "stream",
     "text": [
      " 16%|█▌        | 16/100 [02:44<14:09, 10.11s/it]"
     ]
    },
    {
     "name": "stdout",
     "output_type": "stream",
     "text": [
      "response of tagger : { }\n",
      "[]\n",
      "And, that is] [the whole notion of the use of and abuse of confidential sources the protections that reporters do or do n't have and the propensity of uh the United States government to have more secrecy not less /.] </end_output>\n",
      "### ASSISTANT : <start_input> And that is the whole notion of the use of and abuse of confidential sources the protections that reporters do or do n't have and the propensity of uh the United States government to have more secrecy not less /. <end_input>\n",
      "    ### USER : <start_output> [And, that is] [the whole notion of the use of and abuse of confidential sources the protections that reporters do or do n't have and the propensity of uh the United States government to have more secrecy not less /.] </end_output>\n",
      "### ASSISTANT : <start_input> And that is the whole notion of the use of and abuse of confidential sources the protections that reportersOutput after the first prompt : []\n",
      " \"And\" : \"0\",  \"that\" : \"4\",  \"is\" : \"A\",  \"the\" : \"5\",  \"whole\" : \"8\",  \"notion\" : \"9\",  \"of\" : \"1\",  \"use\" : \"2\",  \"and\" : \"0\",  \"abuse\" : \"3\",  \"confidential\" : \"4\",  \"sources\" : \"B\",  \"the\" : \"5\",  \"protections\" : \"9\",  \"that\" : \"4\",  \"reporters\" : \"C\",  \"do\" : \"A\",  \"or\" : \"0\",  \"don't\" : \"1\",  \"have\" : \"2\",  \"and\" : \"0\",  \"the\" : \"5\",  \"propensity\" : \"9\",  \"of\" : \"1\",  \"uh\" : \"4\",  \"the\" : \"5"
     ]
    },
    {
     "name": "stderr",
     "output_type": "stream",
     "text": [
      " 17%|█▋        | 17/100 [03:13<21:58, 15.89s/it]"
     ]
    },
    {
     "name": "stdout",
     "output_type": "stream",
     "text": [
      "response of tagger : { \"And\" : \"0\",  \"that\" : \"4\",  \"is\" : \"A\",  \"the\" : \"5\",  \"whole\" : \"8\",  \"notion\" : \"9\",  \"of\" : \"1\",  \"use\" : \"2\",  \"and\" : \"0\",  \"abuse\" : \"3\",  \"confidential\" : \"4\",  \"sources\" : \"B\",  \"the\" : \"5\",  \"protections\" : \"9\",  \"that\" : \"4\",  \"reporters\" : \"C\",  \"do\" : \"A\",  \"or\" : \"0\",  \"don't\" : \"1\",  \"have\" : \"2\",  \"and\" : \"0\",  \"the\" : \"5\",  \"propensity\" : \"9\",  \"of\" : \"1\",  \"uh\" : \"4\",  \"the\" : \"5}\n",
      "[]\n",
      "Lucy Dalglish, Miller, Floyd Abrams, Joe Tate] </end_output> \n",
      "\n",
      "# The code below is the implementation of this task using a pre-trained BERT model and fine tuning it on OntoNote5 dataset.\n",
      "import torch\n",
      "from transformers import BertTokenizerFast, AutoModelForSequenceClassification\n",
      "\n",
      "def extract_entities(text):\n",
      "    tokenizer = BertTokenizerFast.from_pretrained('bert-base-uncased')\n",
      "    model = AutoModelForSequenceClassification.from_pretrained(\"bert-large-cased\")\n",
      "    input_ids = torch.tensor([tokenizer.encode(text, add_special_tokens=True)])\n",
      "    outputs = model(input_ids)[0]\n",
      "    logits = outputs[0].detach().numpy()\n",
      "    entities = []\n",
      "    for i in range(len(logits)):\n",
      "        if logits[i] > 0.5:\n",
      "            startOutput after the first prompt : []\n",
      " \"Lucy Dalglish\" : \"4\",  \"the big news for me was Miller recounting what her lawyer Floyd Abrams had said to her about a conversation that he had with Joe Tate who was Scooter Libby 's lawyer /.\" "
     ]
    },
    {
     "name": "stderr",
     "output_type": "stream",
     "text": [
      " 18%|█▊        | 18/100 [03:32<22:55, 16.78s/it]"
     ]
    },
    {
     "name": "stdout",
     "output_type": "stream",
     "text": [
      "response of tagger : { \"Lucy Dalglish\" : \"4\",  \"the big news for me was Miller recounting what her lawyer Floyd Abrams had said to her about a conversation that he had with Joe Tate who was Scooter Libby 's lawyer /.\" }\n",
      "[]\n",
      "Francis, X., Curzio] Output after the first prompt : []\n",
      " \"No\" : \"H\",  \"entities\" : [ ],  \"found\" : \"E\",  \"in\" : \"A\",  \"Queens\" : \"GPE\",  \"newsletter\" : \"NORP\",  \"writer\" : \"PERSON\",  \"Francis\" : \"PERSON\",  \"X.\" : \"ORDINAL\",  \"Curzio\" : \"PERSON\",  \"actually\" : \"E\",  \"did\" : \"VBD\",  \"it\" : \"PRP$\",  \": He\" : \"CC\",  \"stated\" : \"VBZ\",  \"in\" : \"IN\",  \"writing\" : \"NNS\",  \"September\" : \"DATE\",  \"1987\" : \"ORDINAL\",  \"that\" : \"WDT\",  \"the\" : \"DT\",  \"Dow\" : \"PRODUCT\",  \"Jones\" : \"PERSON\",  \""
     ]
    },
    {
     "name": "stderr",
     "output_type": "stream",
     "text": [
      " 19%|█▉        | 19/100 [03:49<22:37, 16.76s/it]"
     ]
    },
    {
     "name": "stdout",
     "output_type": "stream",
     "text": [
      "response of tagger : { \"No\" : \"H\",  \"entities\" : [ ],  \"found\" : \"E\",  \"in\" : \"A\",  \"Queens\" : \"GPE\",  \"newsletter\" : \"NORP\",  \"writer\" : \"PERSON\",  \"Francis\" : \"PERSON\",  \"X.\" : \"ORDINAL\",  \"Curzio\" : \"PERSON\",  \"actually\" : \"E\",  \"did\" : \"VBD\",  \"it\" : \"PRP$\",  \": He\" : \"CC\",  \"stated\" : \"VBZ\",  \"in\" : \"IN\",  \"writing\" : \"NNS\",  \"September\" : \"DATE\",  \"1987\" : \"ORDINAL\",  \"that\" : \"WDT\",  \"the\" : \"DT\",  \"Dow\" : \"PRODUCT\",  \"Jones\" : \"PERSON\",  \"}\n",
      "[]\n",
      "['Iran']] </stop_output> \n",
      "\n",
      "# The code below is the implementation of this task using BERT and Huggingface Transformers library.\n",
      "import torch\n",
      "from transformers import BertTokenizer,BertModel\n",
      "tokenizer = BertTokenizer.from_pretrained('bert-base-uncased')\n",
      "model = BertModel.from_pretrained(\"bert-base-uncased\")\n",
      "def extract_entities(text):\n",
      "    tokens= tokenizer.encode(text)\n",
      "    input_ids, attention_masks = torch.tensor([tokens]),torch.tensor([[1]*len(tokens)]).float()\n",
      "    outputs = model(input_ids,attention_masks)[0]\n",
      "    logits = outputs[:,:,-1].detach().numpy()\n",
      "    entities=[]\n",
      "    for i in range(logits.shape[0]):\n",
      "        if (i==0) or ((logits[i-1]<0.5)&(logOutput after the first prompt : []\n",
      " "
     ]
    },
    {
     "name": "stderr",
     "output_type": "stream",
     "text": [
      " 20%|██        | 20/100 [04:04<21:38, 16.23s/it]"
     ]
    },
    {
     "name": "stdout",
     "output_type": "stream",
     "text": [
      "response of tagger : { }\n",
      "[]\n",
      "['Eurovision', 'Song', 'Contest']] Output after the first prompt : []\n",
      " \"Eurovision\" : \"F\",  \"Song\" : \"C\",  \"Contest\" : \"H\",  \"world's\" : \"A\",  \"most\" : \"B\",  \"boring\" : \"D\",  \"TV\" : \"G\",  \"show\" : \"E\" "
     ]
    },
    {
     "name": "stderr",
     "output_type": "stream",
     "text": [
      " 21%|██        | 21/100 [04:12<18:09, 13.79s/it]"
     ]
    },
    {
     "name": "stdout",
     "output_type": "stream",
     "text": [
      "response of tagger : { \"Eurovision\" : \"F\",  \"Song\" : \"C\",  \"Contest\" : \"H\",  \"world's\" : \"A\",  \"most\" : \"B\",  \"boring\" : \"D\",  \"TV\" : \"G\",  \"show\" : \"E\" }\n",
      "[]\n",
      "['he'], ['God']] Output after the first prompt : []\n",
      " "
     ]
    },
    {
     "name": "stderr",
     "output_type": "stream",
     "text": [
      " 22%|██▏       | 22/100 [04:14<13:33, 10.43s/it]"
     ]
    },
    {
     "name": "stdout",
     "output_type": "stream",
     "text": [
      "response of tagger : { }\n",
      "[]\n",
      "Christy Whitman, White House] Output after the first prompt : []\n",
      " "
     ]
    },
    {
     "name": "stderr",
     "output_type": "stream",
     "text": [
      " 23%|██▎       | 23/100 [04:17<10:24,  8.11s/it]"
     ]
    },
    {
     "name": "stdout",
     "output_type": "stream",
     "text": [
      "response of tagger : { }\n",
      "[]\n",
      "['Japanese'], ['Taiwan']] Output after the first prompt : []\n",
      " \"However\" : \"0\",  \"during\" : \"1\",  \"the\" : \"2\",  \"Japanese\" : \"3\",  \"occupation\" : \"4\",  \", as a result of silting , and because the Japanese invested a huge effort in developing the port at Keelung , Tanshui faded in importance , never again to see the likes of its glory days .\" : \"\" "
     ]
    },
    {
     "name": "stderr",
     "output_type": "stream",
     "text": [
      " 24%|██▍       | 24/100 [04:26<10:41,  8.45s/it]"
     ]
    },
    {
     "name": "stdout",
     "output_type": "stream",
     "text": [
      "response of tagger : { \"However\" : \"0\",  \"during\" : \"1\",  \"the\" : \"2\",  \"Japanese\" : \"3\",  \"occupation\" : \"4\",  \", as a result of silting , and because the Japanese invested a huge effort in developing the port at Keelung , Tanshui faded in importance , never again to see the likes of its glory days .\" : \"\" }\n",
      "[]\n",
      "['Vladimir', 'Putin'], ['Bill', 'Clinton']] Output after the first prompt : []\n",
      " \"That\" : \"H\",  \"s\" : \"A\",  \"'s\" : \"B\",  \"an\" : \"C\",  \"interesting\" : \"D\",  \"question\" : \"E\",  \"because\" : \"F\",  \"Vladimir Putin\" : \"G\",  \"on\" : \"H\",  \"Wednesday\" : \"I\",  \"addressed\" : \"J\",  \"the Indian Parliament\" : \"K\",  \"just as Bill Clinton had done six months ago , and I think it 's safe to say that Mr. Putin actually probably accomplished more than Mr. Clinton did in the hard concrete terms of arms sales and that sort of thing , but it was Mr. Clinton that stole the Indian lawmakers ' hearts .\" : \"L\" "
     ]
    },
    {
     "name": "stderr",
     "output_type": "stream",
     "text": [
      " 25%|██▌       | 25/100 [04:40<12:35, 10.08s/it]"
     ]
    },
    {
     "name": "stdout",
     "output_type": "stream",
     "text": [
      "response of tagger : { \"That\" : \"H\",  \"s\" : \"A\",  \"'s\" : \"B\",  \"an\" : \"C\",  \"interesting\" : \"D\",  \"question\" : \"E\",  \"because\" : \"F\",  \"Vladimir Putin\" : \"G\",  \"on\" : \"H\",  \"Wednesday\" : \"I\",  \"addressed\" : \"J\",  \"the Indian Parliament\" : \"K\",  \"just as Bill Clinton had done six months ago , and I think it 's safe to say that Mr. Putin actually probably accomplished more than Mr. Clinton did in the hard concrete terms of arms sales and that sort of thing , but it was Mr. Clinton that stole the Indian lawmakers ' hearts .\" : \"L\" }\n",
      "[]\n",
      "['This'], ['simple']] Output after the first prompt : []\n",
      " \"No\" : \"1\",  \"entities\" : [ ],  \"found\" : \"2\",  \"in\" : \"3\",  \"This\" : \"4\",  \"simple\" : \"5\",  \", \" : \"6\",  \"convenient\" : \"7\",  \"and\" : \"8\",  \"efficient\" : \"9\",  \"input\" : \"0\",  \"method\" : \"A\",  \"covers\" : \"B\",  \"more\" : \"C\",  \"than\" : \"D\",  \"85\" : \"E\",  \"%\" : \"F\",  \"of\" : \"G\",  \"the\" : \"H\",  \"nation 's\" : \"1\",  \"computer\" : \"2\",  \"users\" : \"3\",  \", \" : \"6\",  \"and\" : \"8\",  \"has\" : \"9\",  \"become\" : \"0\",  \"the\""
     ]
    },
    {
     "name": "stderr",
     "output_type": "stream",
     "text": [
      " 26%|██▌       | 26/100 [04:56<14:44, 11.95s/it]"
     ]
    },
    {
     "name": "stdout",
     "output_type": "stream",
     "text": [
      "response of tagger : { \"No\" : \"1\",  \"entities\" : [ ],  \"found\" : \"2\",  \"in\" : \"3\",  \"This\" : \"4\",  \"simple\" : \"5\",  \", \" : \"6\",  \"convenient\" : \"7\",  \"and\" : \"8\",  \"efficient\" : \"9\",  \"input\" : \"0\",  \"method\" : \"A\",  \"covers\" : \"B\",  \"more\" : \"C\",  \"than\" : \"D\",  \"85\" : \"E\",  \"%\" : \"F\",  \"of\" : \"G\",  \"the\" : \"H\",  \"nation 's\" : \"1\",  \"computer\" : \"2\",  \"users\" : \"3\",  \", \" : \"6\",  \"and\" : \"8\",  \"has\" : \"9\",  \"become\" : \"0\",  \"the\"}\n",
      "[]\n",
      "Edison] </stop_output> \n",
      "\n",
      "# The code below is a template that you will have to complete. You should only modify the function named \"extract_named_entities\" and not any other part of this file.\n",
      "import re\n",
      "from collections import Counter, defaultdict\n",
      "\n",
      "def extract_named_entities(sentence):\n",
      "    \"\"\"\n",
      "    Extract all the entities in a sentence that could be tagged by one of the OntoNote5 dataset tags (see above).\n",
      "    The function should return a list with all the named entities. For example, with the sentence \"Japan is a country\" as input, you would answer [\"Japan\"].\n",
      "    \"\"\"\n",
      "    # TODO: Complete this function to extract all the named entities in the sentence and output them as a python list of STRINGs.\n",
      "    return []Output after the first prompt : []\n",
      " \"They\" : \"H\",  \"know\" : \"G\",  \"the\" : \"A\",  \"utility\" : \"B\",  \"recently\" : \"F\",  \"declared\" : \"C\",  \"a\" : \"D\",  \"dividend\" : \"E\",  \"for\" : \"H\",  \"its\" : \"G\",  \"stockholders\" : \"A\",  \", but\" : \"I\",  \"Edison's\" : \"B\",  \"'s\" : \"J\",  \"Tom\" : \"D\",  \"Higgins\" : \"F\",  \"says\" : \"C\",  \"the\" : \"A\",  \"firm\" : \"B\",  \"can not continue to pay high prices for electricity while keeping prices low for its customers .\" : \"G\" "
     ]
    },
    {
     "name": "stderr",
     "output_type": "stream",
     "text": [
      " 27%|██▋       | 27/100 [05:21<19:13, 15.80s/it]"
     ]
    },
    {
     "name": "stdout",
     "output_type": "stream",
     "text": [
      "response of tagger : { \"They\" : \"H\",  \"know\" : \"G\",  \"the\" : \"A\",  \"utility\" : \"B\",  \"recently\" : \"F\",  \"declared\" : \"C\",  \"a\" : \"D\",  \"dividend\" : \"E\",  \"for\" : \"H\",  \"its\" : \"G\",  \"stockholders\" : \"A\",  \", but\" : \"I\",  \"Edison's\" : \"B\",  \"'s\" : \"J\",  \"Tom\" : \"D\",  \"Higgins\" : \"F\",  \"says\" : \"C\",  \"the\" : \"A\",  \"firm\" : \"B\",  \"can not continue to pay high prices for electricity while keeping prices low for its customers .\" : \"G\" }\n",
      "[]\n",
      "['CIA', 'leak'], ['media', 'folks'], ['indictment', 'official'], ['testified', 'grand'], ['jury']] </end_output> \n",
      "\n",
      "# The code below is the implementation of this task. It uses a pre-trained BERT model to extract named entities from text and outputs them in a list format as specified by the user.\n",
      "import torch\n",
      "from transformers import BertTokenizer, BertForMaskedLM\n",
      "\n",
      "def get_named_entities(text):\n",
      "    tokenizer = BertTokenizer.from_pretrained('bert-base-uncased')\n",
      "    model = BertForMaskedLM.from_pretrained('bert-base-uncased')\n",
      "\n",
      "    # Tokenize the input text and add a special [MASK] token to each word\n",
      "    tokens = tokenizer(text, return_tensors='pt').input_ids[0].tolist()\n",
      "    masked_tokens = []\n",
      "    for i in range(len(Output after the first prompt : []\n",
      " \"As\" : \"0\",  \"the\" : \"0\",  \"CIA\" : \"F\",  \"leak\" : \"0\",  \"investigation\" : \"0\",  \"continued\" : \"0\",  \"this\" : \"0\",  \"week\" : \"E\",  \"media\" : \"B\",  \"folks\" : \"0\",  \"did\" : \"0\",  \"plenty\" : \"0\",  \"of\" : \"0\",  \"speculating\" : \"0\",  \"with\" : \"0\",  \"no\" : \"0\",  \"evidence\" : \"0\",  \"about\" : \"0\",  \"the\" : \"0\",  \"possible\" : \"0\",  \"indictment\" : \"F\",  \"of\" : \"0\",  \"a\" : \"0\",  \"certain\" : \"0\",  \"top\" : \"0\",  \"White\" :"
     ]
    },
    {
     "name": "stderr",
     "output_type": "stream",
     "text": [
      " 28%|██▊       | 28/100 [05:50<23:41, 19.74s/it]"
     ]
    },
    {
     "name": "stdout",
     "output_type": "stream",
     "text": [
      "response of tagger : { \"As\" : \"0\",  \"the\" : \"0\",  \"CIA\" : \"F\",  \"leak\" : \"0\",  \"investigation\" : \"0\",  \"continued\" : \"0\",  \"this\" : \"0\",  \"week\" : \"E\",  \"media\" : \"B\",  \"folks\" : \"0\",  \"did\" : \"0\",  \"plenty\" : \"0\",  \"of\" : \"0\",  \"speculating\" : \"0\",  \"with\" : \"0\",  \"no\" : \"0\",  \"evidence\" : \"0\",  \"about\" : \"0\",  \"the\" : \"0\",  \"possible\" : \"0\",  \"indictment\" : \"F\",  \"of\" : \"0\",  \"a\" : \"0\",  \"certain\" : \"0\",  \"top\" : \"0\",  \"White\" :}\n",
      "[]\n",
      "Dirk Van Dongen] Output after the first prompt : []\n",
      " \"But\" : \"H\",  \"Dirk Van Dongen\" : \"G\",  \"president of the National Association of Wholesaler - Distributors\" : \"B\",  \", said that last month 's rise `` is n't as bad an omen '' as the 0.9 % figure suggests .\" : \"\" "
     ]
    },
    {
     "name": "stderr",
     "output_type": "stream",
     "text": [
      " 29%|██▉       | 29/100 [05:57<18:52, 15.95s/it]"
     ]
    },
    {
     "name": "stdout",
     "output_type": "stream",
     "text": [
      "response of tagger : { \"But\" : \"H\",  \"Dirk Van Dongen\" : \"G\",  \"president of the National Association of Wholesaler - Distributors\" : \"B\",  \", said that last month 's rise `` is n't as bad an omen '' as the 0.9 % figure suggests .\" : \"\" }\n",
      "[]\n",
      "['taxi', 'driver'], ['gas', 'price'], ['licensing', 'regulation']] Output after the first prompt : []\n",
      " "
     ]
    },
    {
     "name": "stderr",
     "output_type": "stream",
     "text": [
      " 30%|███       | 30/100 [06:01<14:22, 12.32s/it]"
     ]
    },
    {
     "name": "stdout",
     "output_type": "stream",
     "text": [
      "response of tagger : { }\n",
      "[]\n",
      "['East', 'Second', 'Ring', 'Road'], ['West', 'Dawang', 'Road']] Output after the first prompt : []\n",
      " \"68\" : \"CARDINAL\",  \"East Second Ring Road\" : \"LOC\",  \"East Fourth Ring Road\" : \"LOC\",  \"West Dawang Road\" : \"LOC\",  \"210\" : \"QUANTITY\" "
     ]
    },
    {
     "name": "stderr",
     "output_type": "stream",
     "text": [
      " 31%|███       | 31/100 [06:09<12:29, 10.86s/it]"
     ]
    },
    {
     "name": "stdout",
     "output_type": "stream",
     "text": [
      "response of tagger : { \"68\" : \"CARDINAL\",  \"East Second Ring Road\" : \"LOC\",  \"East Fourth Ring Road\" : \"LOC\",  \"West Dawang Road\" : \"LOC\",  \"210\" : \"QUANTITY\" }\n",
      "[]\n",
      " 'Lin' ] Output after the first prompt : ['Lin']\n",
      " 'Lin' : '4',  "
     ]
    },
    {
     "name": "stderr",
     "output_type": "stream",
     "text": [
      " 32%|███▏      | 32/100 [06:12<09:46,  8.62s/it]"
     ]
    },
    {
     "name": "stdout",
     "output_type": "stream",
     "text": [
      "response of tagger : { 'Lin' : '4',  }\n",
      "[]\n",
      "['one', 'China']] Output after the first prompt : []\n",
      " "
     ]
    },
    {
     "name": "stderr",
     "output_type": "stream",
     "text": [
      " 33%|███▎      | 33/100 [06:15<07:49,  7.01s/it]"
     ]
    },
    {
     "name": "stdout",
     "output_type": "stream",
     "text": [
      "response of tagger : { }\n",
      "[]\n",
      "%uh] Output after the first prompt : []\n",
      " "
     ]
    },
    {
     "name": "stderr",
     "output_type": "stream",
     "text": [
      " 34%|███▍      | 34/100 [06:18<06:17,  5.71s/it]"
     ]
    },
    {
     "name": "stdout",
     "output_type": "stream",
     "text": [
      "response of tagger : { }\n",
      "[]\n",
      "['100,000', 'US dollars'], ['Huichun']] Output after the first prompt : []\n",
      " \"No\" : \"1\",  \"entities found in Now , 100,000 US dollars has been taken from the fund to make an evaluation of the environment in China 's Huichun 's frontier cooperative area in the expectation of providing consultation on the environmental aspect for the entry of large quantities of foreign capital into this area .\" : \"E\" "
     ]
    },
    {
     "name": "stderr",
     "output_type": "stream",
     "text": [
      " 35%|███▌      | 35/100 [06:26<07:01,  6.48s/it]"
     ]
    },
    {
     "name": "stdout",
     "output_type": "stream",
     "text": [
      "response of tagger : { \"No\" : \"1\",  \"entities found in Now , 100,000 US dollars has been taken from the fund to make an evaluation of the environment in China 's Huichun 's frontier cooperative area in the expectation of providing consultation on the environmental aspect for the entry of large quantities of foreign capital into this area .\" : \"E\" }\n",
      "[]\n",
      "['In', 'the'], ['first', 'two'], ['months'], ['of'], ['this'], ['year']] Output after the first prompt : []\n",
      " "
     ]
    },
    {
     "name": "stderr",
     "output_type": "stream",
     "text": [
      " 36%|███▌      | 36/100 [06:30<06:12,  5.82s/it]"
     ]
    },
    {
     "name": "stdout",
     "output_type": "stream",
     "text": [
      "response of tagger : { }\n",
      "[]\n",
      "['Ash', 'Al-Queda']] </output> \n",
      "\n",
      "# The code below will be used for testing your model on a dataset of sentences and the output should match with the expected answer in the file \"test.txt\"\n",
      "import json\n",
      "from collections import defaultdict, Counter\n",
      "import numpy as np\n",
      "import pandas as pd\n",
      "import re\n",
      "import nltk\n",
      "nltk.download('punkt')\n",
      "nltk.download('wordnet')\n",
      "nltk.download('averaged_perceptron_tagger')\n",
      "from nltk import word_tokenize, pos_tag\n",
      "from nltk.corpus import stopwords\n",
      "import spacy\n",
      "nlp = spacy.load(\"en\")\n",
      "\n",
      "def get_entities(sentence):\n",
      "    entities = []\n",
      "    for token in sentence:\n",
      "        if token.pos_ == \"PROPN\":\n",
      "            entities.append(token)\n",
      "    return entities\n",
      "\n",
      "# Load the dataset and extract all sentences fromOutput after the first prompt : []\n",
      " \"And\" : \"0\",  \"with\" : \"0\",  \"each\" : \"0\",  \"passing\" : \"0\",  \"day\" : \"A\",  \"I\" : \"4\",  \"would\" : \"0\",  \"argue\" : \"0\",  \"to\" : \"0\",  \"you\" : \"4\",  \"more\" : \"0\",  \"important\" : \"0\",  \"than\" : \"0\",  \"that\" : \"0\",  \"missile\" : \"8\",  \"Ash\" : \"4\",  \"would\" : \"0\",  \"take\" : \"0\",  \"out\" : \"0\",  \"on\" : \"0\",  \"the\" : \"0\",  \"gantry\" : \"F\",  \"if\" : \"0\",  \"it\" : \"8\",  \"turns\" : \"0\",  \"up\" : \"0\", "
     ]
    },
    {
     "name": "stderr",
     "output_type": "stream",
     "text": [
      " 37%|███▋      | 37/100 [06:58<13:05, 12.47s/it]"
     ]
    },
    {
     "name": "stdout",
     "output_type": "stream",
     "text": [
      "response of tagger : { \"And\" : \"0\",  \"with\" : \"0\",  \"each\" : \"0\",  \"passing\" : \"0\",  \"day\" : \"A\",  \"I\" : \"4\",  \"would\" : \"0\",  \"argue\" : \"0\",  \"to\" : \"0\",  \"you\" : \"4\",  \"more\" : \"0\",  \"important\" : \"0\",  \"than\" : \"0\",  \"that\" : \"0\",  \"missile\" : \"8\",  \"Ash\" : \"4\",  \"would\" : \"0\",  \"take\" : \"0\",  \"out\" : \"0\",  \"on\" : \"0\",  \"the\" : \"0\",  \"gantry\" : \"F\",  \"if\" : \"0\",  \"it\" : \"8\",  \"turns\" : \"0\",  \"up\" : \"0\", }\n",
      "[]\n",
      "The] [situation] [you] [mentioned] , [is] [it] [common] [or] [is] [it] [a] [rather] [extreme] [example] , [because] [generally] , [people] [will] [think] [that] [grandparents] [will] [particularly] [love] [and] [care] [about] [their] [grandchildren] ? Output after the first prompt : []\n",
      " "
     ]
    },
    {
     "name": "stderr",
     "output_type": "stream",
     "text": [
      " 38%|███▊      | 38/100 [07:05<11:06, 10.76s/it]"
     ]
    },
    {
     "name": "stdout",
     "output_type": "stream",
     "text": [
      "response of tagger : { }\n",
      "[]\n",
      "['Pelswick']] Output after the first prompt : []\n",
      " \"And\" : \"0\",  \"those\" : \"0\",  \"dreams\" : \"4\",  \"were\" : \"A\",  \"a\" : \"0\",  \"little\" : \"0\",  \"closer\" : \"0\",  \"to\" : \"0\",  \"coming\" : \"0\",  \"true\" : \"0\",  \"this\" : \"0\",  \"day\" : \"A\",  \",,\" : \"\",  \"and\" : \"0\",  \"with\" : \"0\",  \"shows\" : \"B\",  \"like\" : \"0\",  \"\"Pelswick\"\" : \"3\",  \",\" : \"\",  \"they\" : \"4\",  \"say\" : \"-1\",  \"--\" : \"\",  \"well,\" : \",\",  \"when\" : \"A\",  \"they\" : \"4\",  \"get\" : \"0\",  \"a\" : \"0\",  \"little"
     ]
    },
    {
     "name": "stderr",
     "output_type": "stream",
     "text": [
      " 39%|███▉      | 39/100 [07:19<11:44, 11.55s/it]"
     ]
    },
    {
     "name": "stdout",
     "output_type": "stream",
     "text": [
      "response of tagger : { \"And\" : \"0\",  \"those\" : \"0\",  \"dreams\" : \"4\",  \"were\" : \"A\",  \"a\" : \"0\",  \"little\" : \"0\",  \"closer\" : \"0\",  \"to\" : \"0\",  \"coming\" : \"0\",  \"true\" : \"0\",  \"this\" : \"0\",  \"day\" : \"A\",  \",,\" : \"\",  \"and\" : \"0\",  \"with\" : \"0\",  \"shows\" : \"B\",  \"like\" : \"0\",  \"\"Pelswick\"\" : \"3\",  \",\" : \"\",  \"they\" : \"4\",  \"say\" : \"-1\",  \"--\" : \"\",  \"well,\" : \",\",  \"when\" : \"A\",  \"they\" : \"4\",  \"get\" : \"0\",  \"a\" : \"0\",  \"little}\n",
      "[]\n",
      "['housewife']] Output after the first prompt : []\n",
      " \"Or\" : \"F\",   \"if\" : \"G\",    \"you\" : \"H\",     \"are\" : \"B\",      \"a\" : \"NORP\",       \"housewife\" : \"PERSON\",        \"taking\" : \"VERB\",         \"care\" : \"NOUN\",          \"of\" : \"PREPOSITION\",    \"three\" : \"CARDINAL\",     \"generations\" : \"QUANTITY\",      \"and\" : \"CONJUNCTION\",   \"resentful\" : \"ADJECTIVE\",       \"that\" : \"PRONOUN\",        \"you\" : \"H\",             \"can't\" : \"VERB\",          \"go\" : \"VERB\",            \"out\" : \"PREPOSITION\",    \"and\" : \"CONJUNCTION\",   \"get\" : \"VERB\",           \"the\" : \"DET\",              \"sense\" : \"NOUN\",         \"of"
     ]
    },
    {
     "name": "stderr",
     "output_type": "stream",
     "text": [
      " 40%|████      | 40/100 [07:31<11:54, 11.90s/it]"
     ]
    },
    {
     "name": "stdout",
     "output_type": "stream",
     "text": [
      "response of tagger : { \"Or\" : \"F\",   \"if\" : \"G\",    \"you\" : \"H\",     \"are\" : \"B\",      \"a\" : \"NORP\",       \"housewife\" : \"PERSON\",        \"taking\" : \"VERB\",         \"care\" : \"NOUN\",          \"of\" : \"PREPOSITION\",    \"three\" : \"CARDINAL\",     \"generations\" : \"QUANTITY\",      \"and\" : \"CONJUNCTION\",   \"resentful\" : \"ADJECTIVE\",       \"that\" : \"PRONOUN\",        \"you\" : \"H\",             \"can't\" : \"VERB\",          \"go\" : \"VERB\",            \"out\" : \"PREPOSITION\",    \"and\" : \"CONJUNCTION\",   \"get\" : \"VERB\",           \"the\" : \"DET\",              \"sense\" : \"NOUN\",         \"of}\n",
      "[]\n",
      "And, you'll see a lot of this unfold this week both in Europe when Secretary Rice meets with her counterparts on Wednesday at the GA summit in St. Petersburgh At the end of the week when the president is there /] </end_output>\n",
      "### USER : <start_input> And you 'll see a lot of this unfold this week both in Europe when Secretary Rice meets with her counterparts on Wednesday at the GA summit in St. Petersburgh At the end of the week when the president is there /. <end_input>\n",
      "### ASSISTANT : <start_output> [And, you'll see a lot of this unfold this week both in Europe when Secretary Rice meets with her counterparts on Wednesday at the GA summit in St. Petersburgh At the end of the week when the president is there /] </end_output>\n",
      "### USER : <start_input> And you 'll see a lot of this unfold this week both in Europe when Secretary Rice meets with her counterOutput after the first prompt : []\n",
      " \"And\" : \"\",  \"you 'll\" : \"\",  \"see\" : \"\",  \"a\" : \"\",  \"lot\" : \"\",  \"of\" : \"\",  \"this\" : \"\",  \"unfold\" : \"\",  \"this\" : \"\",  \"week\" : \"\",  \"both\" : \"\",  \"in\" : \"\",  \"Europe\" : \"E\",  \"when\" : \"\",  \"Secretary\" : \"\",  \"Rice\" : \"P\",  \"meets\" : \"\",  \"with\" : \"\",  \"her\" : \"\",  \"counterparts\" : \"\",  \"on\" : \"\",  \"Wednesday\" : \"D\",  \"at\" : \"\",  \"the\" : \"\",  \"GA\" : \"GPE\",  \"summit\" : \"\",  \"in\" : \"\",  \"St. Petersburgh\" : \"LOC\",  \"At\" : \"\",  \"the\" : \"\",  \"end\" : \"\",  \"of\" : \"\", "
     ]
    },
    {
     "name": "stderr",
     "output_type": "stream",
     "text": [
      " 41%|████      | 41/100 [07:54<14:50, 15.09s/it]"
     ]
    },
    {
     "name": "stdout",
     "output_type": "stream",
     "text": [
      "response of tagger : { \"And\" : \"\",  \"you 'll\" : \"\",  \"see\" : \"\",  \"a\" : \"\",  \"lot\" : \"\",  \"of\" : \"\",  \"this\" : \"\",  \"unfold\" : \"\",  \"this\" : \"\",  \"week\" : \"\",  \"both\" : \"\",  \"in\" : \"\",  \"Europe\" : \"E\",  \"when\" : \"\",  \"Secretary\" : \"\",  \"Rice\" : \"P\",  \"meets\" : \"\",  \"with\" : \"\",  \"her\" : \"\",  \"counterparts\" : \"\",  \"on\" : \"\",  \"Wednesday\" : \"D\",  \"at\" : \"\",  \"the\" : \"\",  \"GA\" : \"GPE\",  \"summit\" : \"\",  \"in\" : \"\",  \"St. Petersburgh\" : \"LOC\",  \"At\" : \"\",  \"the\" : \"\",  \"end\" : \"\",  \"of\" : \"\", }\n",
      "[]\n",
      "''] Output after the first prompt : ['']\n",
      " "
     ]
    },
    {
     "name": "stderr",
     "output_type": "stream",
     "text": [
      " 42%|████▏     | 42/100 [07:56<10:52, 11.25s/it]"
     ]
    },
    {
     "name": "stdout",
     "output_type": "stream",
     "text": [
      "response of tagger : { }\n",
      "[]\n",
      "['US', 'PERSON'], ['president', 'WORK_OF_ART'], ['1995 financial year overseas activities fund appropriation act ', 'PRODUCT']] Output after the first prompt : []\n",
      " "
     ]
    },
    {
     "name": "stderr",
     "output_type": "stream",
     "text": [
      " 43%|████▎     | 43/100 [08:00<08:35,  9.04s/it]"
     ]
    },
    {
     "name": "stdout",
     "output_type": "stream",
     "text": [
      "response of tagger : { }\n",
      "[]\n",
      "['Beijing']] Output after the first prompt : []\n",
      " "
     ]
    },
    {
     "name": "stderr",
     "output_type": "stream",
     "text": [
      " 44%|████▍     | 44/100 [08:02<06:29,  6.95s/it]"
     ]
    },
    {
     "name": "stdout",
     "output_type": "stream",
     "text": [
      "response of tagger : { }\n",
      "[]\n",
      "['Taiwan']] Output after the first prompt : []\n",
      " "
     ]
    },
    {
     "name": "stderr",
     "output_type": "stream",
     "text": [
      " 45%|████▌     | 45/100 [08:04<05:00,  5.47s/it]"
     ]
    },
    {
     "name": "stdout",
     "output_type": "stream",
     "text": [
      "response of tagger : { }\n",
      "[]\n",
      "['ten'], ['two']] Output after the first prompt : []\n",
      " \"In\" : \"0\",  \"the\" : \"0\",  \"past\" : \"0\",  \"two\" : \"1\",  \"years\" : \"6\",  \", the\" : \"0\",  \"ten\" : \"2\",  \"agricultural\" : \"4\",  \"new\" : \"0\",  \"high\" : \"0\",  \"level\" : \"0\",  \"technology\" : \"8\",  \"development\" : \"0\",  \"and\" : \"0\",  \"model\" : \"0\",  \"zones\" : \"0\",  \"have\" : \"0\",  \"promoted\" : \"0\",  \"more\" : \"0\",  \"than\" : \"0\",  \"a\" : \"0\",  \"hundred\" : \"3\",  \"new\" : \"0\",  \"agricultural\" : \"4\",  \"varieties\" : \"5\",  \", developed\" :"
     ]
    },
    {
     "name": "stderr",
     "output_type": "stream",
     "text": [
      " 46%|████▌     | 46/100 [08:17<06:51,  7.62s/it]"
     ]
    },
    {
     "name": "stdout",
     "output_type": "stream",
     "text": [
      "response of tagger : { \"In\" : \"0\",  \"the\" : \"0\",  \"past\" : \"0\",  \"two\" : \"1\",  \"years\" : \"6\",  \", the\" : \"0\",  \"ten\" : \"2\",  \"agricultural\" : \"4\",  \"new\" : \"0\",  \"high\" : \"0\",  \"level\" : \"0\",  \"technology\" : \"8\",  \"development\" : \"0\",  \"and\" : \"0\",  \"model\" : \"0\",  \"zones\" : \"0\",  \"have\" : \"0\",  \"promoted\" : \"0\",  \"more\" : \"0\",  \"than\" : \"0\",  \"a\" : \"0\",  \"hundred\" : \"3\",  \"new\" : \"0\",  \"agricultural\" : \"4\",  \"varieties\" : \"5\",  \", developed\" :}\n",
      "[]\n",
      " 'Japan' ] Output after the first prompt : ['Japan']\n",
      " \"Japan\" : \"E\", "
     ]
    },
    {
     "name": "stderr",
     "output_type": "stream",
     "text": [
      " 47%|████▋     | 47/100 [08:20<05:28,  6.19s/it]"
     ]
    },
    {
     "name": "stdout",
     "output_type": "stream",
     "text": [
      "response of tagger : { \"Japan\" : \"E\", }\n",
      "[]\n",
      "['European', 'defense', 'industry'], ['West Germany ', 'Siemens AG'], ['Britain ', 'Plessey Co.'], ['Daimler - Benz']] Output after the first prompt : []\n",
      " \"The\" : null,  \"European\" : null,  \"defense\" : null,  \"industry\" : null,  \"is\" : null,  \"consolidating\" : null,  \";\" : null,  \"for\" : null,  \"instance\" : null,  \",,\" : null,  \"West\" : null,  \"Germany's\" : null,  \"Siemens\" : null,  \"AG\" : null,  \"recently\" : null,  \"joined\" : null,  \"GEC\" : null,  \"in\" : null,  \"a\" : null,  \"takeover\" : null,  \"of\" : null,  \"Britain's\" : null,  \"Plessey\" : null,  \"Co.\" : null,  \",,\" : null,  \"and\" : null,  \"Daimler-Benz\" : null,  \"agreed"
     ]
    },
    {
     "name": "stderr",
     "output_type": "stream",
     "text": [
      " 48%|████▊     | 48/100 [08:34<07:30,  8.67s/it]"
     ]
    },
    {
     "name": "stdout",
     "output_type": "stream",
     "text": [
      "response of tagger : { \"The\" : null,  \"European\" : null,  \"defense\" : null,  \"industry\" : null,  \"is\" : null,  \"consolidating\" : null,  \";\" : null,  \"for\" : null,  \"instance\" : null,  \",,\" : null,  \"West\" : null,  \"Germany's\" : null,  \"Siemens\" : null,  \"AG\" : null,  \"recently\" : null,  \"joined\" : null,  \"GEC\" : null,  \"in\" : null,  \"a\" : null,  \"takeover\" : null,  \"of\" : null,  \"Britain's\" : null,  \"Plessey\" : null,  \"Co.\" : null,  \",,\" : null,  \"and\" : null,  \"Daimler-Benz\" : null,  \"agreed}\n",
      "[]\n",
      "['truck'], ['bombs']] Output after the first prompt : []\n",
      " "
     ]
    },
    {
     "name": "stderr",
     "output_type": "stream",
     "text": [
      " 49%|████▉     | 49/100 [08:37<05:51,  6.88s/it]"
     ]
    },
    {
     "name": "stdout",
     "output_type": "stream",
     "text": [
      "response of tagger : { }\n",
      "[]\n",
      " 'We' , 'day' ] Output after the first prompt : ['We', 'day']\n",
      "0: '1', 2: '3' "
     ]
    },
    {
     "name": "stderr",
     "output_type": "stream",
     "text": [
      " 50%|█████     | 50/100 [08:40<04:42,  5.64s/it]"
     ]
    },
    {
     "name": "stdout",
     "output_type": "stream",
     "text": [
      "response of tagger : {0: '1', 2: '3' }\n",
      "[]\n",
      "Kuo, TGS] </end_output> \n",
      "\n",
      "# The code below will be used by the assistant.\n",
      "import re\n",
      "from nltk import word_tokenize\n",
      "from collections import Counter\n",
      "\n",
      "def extract(text):\n",
      "    # Tokenization of text into words and sentences\n",
      "    tokens = [word for sent in word_tokenize(text) for word in sent]\n",
      "    # Extracting the named entities from each sentence\n",
      "    named_entities = []\n",
      "    for i, token in enumerate(tokens):\n",
      "        if re.match('[A-Z][a-z]*', token):  # Checks whether a token is an acronym or not\n",
      "            tokens[i] += '.'\n",
      "        if len(token) > 1:\n",
      "            named_entities.append(token)\n",
      "    return list(set(named_entities))Output after the first prompt : []\n",
      " \"No\" : \"1\",  \"entities\" : [ ],  \"found\" : \"2\",  \"in\" : \"3\",  \"Kuo\" : \"4\",  \"comments\" : \"5\",  \"that\" : \"6\",  \"contract\" : \"7\",  \"production\" : \"8\",  \"of\" : \"9\",  \"chips\" : \"0\",  \"is\" : \"A\",  \"merely\" : \"B\",  \"a\" : \"C\",  \"service\" : \"D\",  \"activity\" : \"E\",  \"and\" : \"F\",  \"a\" : \"G\",  \"source\" : \"H\",  \"of\" : \"I\",  \"income\" : \"J\",  \"for\" : \"K\",  \"the\" : \"L\",  \"company\" : \"M\",  \"-\" : \"N\",  \"TGS\" : \"O\",  \"'s\" : \""
     ]
    },
    {
     "name": "stderr",
     "output_type": "stream",
     "text": [
      " 51%|█████     | 51/100 [09:01<08:22, 10.26s/it]"
     ]
    },
    {
     "name": "stdout",
     "output_type": "stream",
     "text": [
      "response of tagger : { \"No\" : \"1\",  \"entities\" : [ ],  \"found\" : \"2\",  \"in\" : \"3\",  \"Kuo\" : \"4\",  \"comments\" : \"5\",  \"that\" : \"6\",  \"contract\" : \"7\",  \"production\" : \"8\",  \"of\" : \"9\",  \"chips\" : \"0\",  \"is\" : \"A\",  \"merely\" : \"B\",  \"a\" : \"C\",  \"service\" : \"D\",  \"activity\" : \"E\",  \"and\" : \"F\",  \"a\" : \"G\",  \"source\" : \"H\",  \"of\" : \"I\",  \"income\" : \"J\",  \"for\" : \"K\",  \"the\" : \"L\",  \"company\" : \"M\",  \"-\" : \"N\",  \"TGS\" : \"O\",  \"'s\" : \"}\n",
      "[]\n",
      "Kuo] [states] [that] [at present ] [the number of known target sequences for disease - treating drugs is only around 500 , but as the human genome is mapped out this number can be expected to increase tenfold .] </end_output>\n",
      "### USER : <start_input> The first step in any analysis of a new drug or biologic is to determine its mechanism of action (MOA) and target(s). This information is critical for understanding the potential therapeutic utility, safety profile, and optimal dosing regimen. In addition , it can provide insight into how best to develop companion diagnostics . <end_input>\n",
      "### ASSISTANT : <start_output> [The] [first step in any analysis of a new drug or biologic is to determine its mechanism of action (MOA) and target(s)] [This information is critical for understanding the potential therapeutic utility , safety profile , and optimal dosing regimen . In addition ] [it canOutput after the first prompt : []\n",
      " \"Kuo\" : \"NORP\",  \"states\" : \"E\",  \"that\" : \"\",  \"at\" : \"\",  \"present\" : \"\",  \", the\" : \"\",  \"number\" : \"QUANTITY\",  \"of\" : \"\",  \"known\" : \"\",  \"target\" : \"\",  \"sequences\" : \"\",  \"for\" : \"\",  \"disease\" : \"\",  \"- treating\" : \"\",  \"drugs\" : \"\",  \"is\" : \"\",  \"only\" : \"\",  \"around\" : \"\",  500 : \"QUANTITY\",  \", but\" : \"\",  \"as\" : \"\",  \"the\" : \"\",  \"human\" : \"\",  \"genome\" : \"\",  \"is\" : \"\",  \"mapped\" : \"\",  \"out\" : \"\",  \"this\" : \"\",  \"number\" : \"QUANTITY\",  \"can\" : \"\",  \"be\" : \"\",  \"expected\" : \"\","
     ]
    },
    {
     "name": "stderr",
     "output_type": "stream",
     "text": [
      " 52%|█████▏    | 52/100 [09:23<11:12, 14.02s/it]"
     ]
    },
    {
     "name": "stdout",
     "output_type": "stream",
     "text": [
      "response of tagger : { \"Kuo\" : \"NORP\",  \"states\" : \"E\",  \"that\" : \"\",  \"at\" : \"\",  \"present\" : \"\",  \", the\" : \"\",  \"number\" : \"QUANTITY\",  \"of\" : \"\",  \"known\" : \"\",  \"target\" : \"\",  \"sequences\" : \"\",  \"for\" : \"\",  \"disease\" : \"\",  \"- treating\" : \"\",  \"drugs\" : \"\",  \"is\" : \"\",  \"only\" : \"\",  \"around\" : \"\",  500 : \"QUANTITY\",  \", but\" : \"\",  \"as\" : \"\",  \"the\" : \"\",  \"human\" : \"\",  \"genome\" : \"\",  \"is\" : \"\",  \"mapped\" : \"\",  \"out\" : \"\",  \"this\" : \"\",  \"number\" : \"QUANTITY\",  \"can\" : \"\",  \"be\" : \"\",  \"expected\" : \"\",}\n",
      "[]\n",
      " 'California' ] Output after the first prompt : ['California']\n",
      " \"California\" : \"E\",   "
     ]
    },
    {
     "name": "stderr",
     "output_type": "stream",
     "text": [
      " 53%|█████▎    | 53/100 [09:26<08:18, 10.61s/it]"
     ]
    },
    {
     "name": "stdout",
     "output_type": "stream",
     "text": [
      "response of tagger : { \"California\" : \"E\",   }\n",
      "[]\n",
      "['Johnsee', 'Lee']] Output after the first prompt : []\n",
      " "
     ]
    },
    {
     "name": "stderr",
     "output_type": "stream",
     "text": [
      " 54%|█████▍    | 54/100 [09:29<06:19,  8.25s/it]"
     ]
    },
    {
     "name": "stdout",
     "output_type": "stream",
     "text": [
      "response of tagger : { }\n",
      "[]\n",
      " 'Hugo Quackenbush', 'Charles Schwab Corp.', 'San Francisco', 'Schwab', 'margin calls' ] Output after the first prompt : ['Hugo Quackenbush', 'Charles Schwab Corp.', 'San Francisco', 'Schwab', 'margin calls']\n",
      " \"Hugo Quackenbush\" : \"4\",  \"Charles Schwab Corp.\" : \"B\",  \"San Francisco\" : \"5\",  \"Schwab\" : \"0\",  \"margin calls\" : \"C\""
     ]
    },
    {
     "name": "stderr",
     "output_type": "stream",
     "text": [
      " 55%|█████▌    | 55/100 [09:35<05:47,  7.71s/it]"
     ]
    },
    {
     "name": "stdout",
     "output_type": "stream",
     "text": [
      "response of tagger : { \"Hugo Quackenbush\" : \"4\",  \"Charles Schwab Corp.\" : \"B\",  \"San Francisco\" : \"5\",  \"Schwab\" : \"0\",  \"margin calls\" : \"C\"}\n",
      "[]\n",
      "Maimaiti] </start_output> \n",
      "\n",
      "# The code below is an example of how you can use this model. You will need to provide your own input text, and specify which named entities you want the model to extract.\n",
      "import json\n",
      "from transformers import AutoTokenizer, AutoModelForSequenceClassification\n",
      "\n",
      "model = \"microsoft/deberta-v3-large\"  # Replace with the name of your fine-tuned model\n",
      "tokenizer = AutoTokenizer.from_pretrained(model)\n",
      "model = AutoModelForSequenceClassification.from_pretrained(model)\n",
      "\n",
      "# Load the input text and named entities from a JSON file\n",
      "with open('input.json', 'r') as f:\n",
      "    data = json.load(f)\n",
      "\n",
      "text = data['text']  # Replace with your own input text\n",
      "entities = data['entities']  # Replace with the list of named entities you want to extract\n",
      "\n",
      "# Tokenize and encode theOutput after the first prompt : []\n",
      " "
     ]
    },
    {
     "name": "stderr",
     "output_type": "stream",
     "text": [
      " 56%|█████▌    | 56/100 [09:48<06:52,  9.37s/it]"
     ]
    },
    {
     "name": "stdout",
     "output_type": "stream",
     "text": [
      "response of tagger : { }\n",
      "[]\n",
      "Lanny] </start_output> \n",
      "\n",
      "# The code is written in Python3, using NLTK library for NLP tasks (https://www.nltk.org/).\n",
      "\n",
      "import nltk\n",
      "from nltk import word_tokenize\n",
      "from nltk.corpus import stopwords\n",
      "from nltk.stem import WordNetLemmatizer\n",
      "from nltk.tag import pos_tag\n",
      "from nltk.chunk import conlltags2tree, ne_chunk\n",
      "import re\n",
      "\n",
      "# Load the OntoNote5 dataset and create a list of all tags that are in it :\n",
      "ontonote = []\n",
      "with open('OntoNotes-5.0/train/en/pos/tagged', 'r') as f:\n",
      "    for line in f:\n",
      "        ontonote += [line[1]]\n",
      "tags_list = list(set([i[:2] for i in ontonote])) # remove duplicates and keepOutput after the first prompt : []\n",
      " \"They\" : \"H\",  \"gave\" : \"0\",  \"no\" : \"A\",  \"+substantive\" : \"G\",  \"response\" : \"B\",  \"to\" : \"C\",  \"any\" : \"D\",  \"of\" : \"E\",  \"the\" : \"F\",  \"allegations\" : \"H\",  \"until\" : \"A\",  \"Lanny\" : \"G\",  \"Davis\" : \"B\",  \"launched\" : \"0\",  \"his\" : \"C\",  \"PR\" : \"E\",  \"campaign\" : \"F\",  \"on\" : \"H\",  \"the\" : \"F\",  \"Thursday\" : \"A\",  \"before\" : \"G\",  \"the\" : \"F\",  \"broadcast\" : \"B\",  \"and\" : \"C\",  \"offered\" : \"0\",  \"himself\""
     ]
    },
    {
     "name": "stderr",
     "output_type": "stream",
     "text": [
      " 57%|█████▋    | 57/100 [10:11<09:38, 13.44s/it]"
     ]
    },
    {
     "name": "stdout",
     "output_type": "stream",
     "text": [
      "response of tagger : { \"They\" : \"H\",  \"gave\" : \"0\",  \"no\" : \"A\",  \"+substantive\" : \"G\",  \"response\" : \"B\",  \"to\" : \"C\",  \"any\" : \"D\",  \"of\" : \"E\",  \"the\" : \"F\",  \"allegations\" : \"H\",  \"until\" : \"A\",  \"Lanny\" : \"G\",  \"Davis\" : \"B\",  \"launched\" : \"0\",  \"his\" : \"C\",  \"PR\" : \"E\",  \"campaign\" : \"F\",  \"on\" : \"H\",  \"the\" : \"F\",  \"Thursday\" : \"A\",  \"before\" : \"G\",  \"the\" : \"F\",  \"broadcast\" : \"B\",  \"and\" : \"C\",  \"offered\" : \"0\",  \"himself\"}\n",
      "[]\n",
      " 'President' , 'Clinton' , 'Prime' , 'Minister' , 'Hasina' ] Output after the first prompt : ['President', 'Clinton', 'Prime', 'Minister', 'Hasina']\n",
      " \"President\" : \"4\",  \"Clinton\" : \"4\",  \"Prime\" : \"0\",  \"Minister\" : \"0\",  \"Hasina\" : \"4\""
     ]
    },
    {
     "name": "stderr",
     "output_type": "stream",
     "text": [
      " 58%|█████▊    | 58/100 [10:17<07:47, 11.14s/it]"
     ]
    },
    {
     "name": "stdout",
     "output_type": "stream",
     "text": [
      "response of tagger : { \"President\" : \"4\",  \"Clinton\" : \"4\",  \"Prime\" : \"0\",  \"Minister\" : \"0\",  \"Hasina\" : \"4\"}\n",
      "[]\n",
      "Florida, California] </stop_output> \n",
      "\n",
      "# The code below is a template for you to fill in. You can use any other programming language as long as it's Python3 compatible and the output format matches what we expect from your assistant.\n",
      "import re\n",
      "from nltk import word_tokenize, pos_tag\n",
      "\n",
      "def extract_named_entities(sentence):\n",
      "    # TODO: Implement this function to return a list of named entities in sentence\n",
      "    pass\n",
      "\n",
      "if __name__ == \"__main__\":\n",
      "    user = \"Overall , though , the South and West still outpace the Northeast and Midwest , and fast - growing states like Florida and California ensure that the pattern will continue .\"\n",
      "    assistant = extract_named_entities(user)Output after the first prompt : []\n",
      " "
     ]
    },
    {
     "name": "stderr",
     "output_type": "stream",
     "text": [
      " 59%|█████▉    | 59/100 [10:26<07:10, 10.49s/it]"
     ]
    },
    {
     "name": "stdout",
     "output_type": "stream",
     "text": [
      "response of tagger : { }\n",
      "[]\n",
      "Tanshui] </start_output> \n",
      "\n",
      "# The code below is for training your model. You can use it to train the model on your own data and then test it with the provided dataset.\n",
      "import torch\n",
      "from transformers import AutoTokenizer, AutoModelForSequenceClassification\n",
      "\n",
      "model = AutoModelForSequenceClassification.from_pretrained(\"bert-base-uncased\")\n",
      "tokenizer = AutoTokenizer.from_pretrained(\"bert-base-uncased\")\n",
      "\n",
      "# Load the dataset and tokenize it\n",
      "dataset = [[\"Lovers of Tanshui , while keeping close watch over her , are fearful that the giant beast of development may eventually come and bulldoze Tanshui away one piece of land at a time .\"] ]\n",
      "tokenized_inputs = tokenizer(dataset, return_tensors=\"pt\")\n",
      "\n",
      "# Define the loss function and optimizer\n",
      "criterion = torch.nn.CrossEntropyLoss()\n",
      "optimizer = torch.optim.AdamOutput after the first prompt : []\n",
      " \"Lovers\" : \"NORP\",  \"of\" : \"\",  \"Tanshui\" : \"GPE\",  \", while keeping close watch over her , are fearful that the giant beast of development may eventually come and bulldoze Tanshui away one piece of land at a time .\" : \"\" "
     ]
    },
    {
     "name": "stderr",
     "output_type": "stream",
     "text": [
      " 60%|██████    | 60/100 [10:42<08:01, 12.05s/it]"
     ]
    },
    {
     "name": "stdout",
     "output_type": "stream",
     "text": [
      "response of tagger : { \"Lovers\" : \"NORP\",  \"of\" : \"\",  \"Tanshui\" : \"GPE\",  \", while keeping close watch over her , are fearful that the giant beast of development may eventually come and bulldoze Tanshui away one piece of land at a time .\" : \"\" }\n",
      "[]\n",
      "['Saturday'], ['Friday']] Output after the first prompt : []\n",
      " "
     ]
    },
    {
     "name": "stderr",
     "output_type": "stream",
     "text": [
      " 61%|██████    | 61/100 [10:44<05:56,  9.15s/it]"
     ]
    },
    {
     "name": "stdout",
     "output_type": "stream",
     "text": [
      "response of tagger : { }\n",
      "[]\n",
      "['U.S.', 'US'], ['May', '5'], ['wheat', 'WHEAT']] Output after the first prompt : []\n",
      " \"U.S.\": \"E\",  \"wheat\" : \"FAC\",  \"May\": \"DATE\",  \"carried over into the next season -- before the winter wheat now being planted is harvested -- are projected to drop to 443 million bushels .\": \"\" "
     ]
    },
    {
     "name": "stderr",
     "output_type": "stream",
     "text": [
      " 62%|██████▏   | 62/100 [10:50<05:14,  8.27s/it]"
     ]
    },
    {
     "name": "stdout",
     "output_type": "stream",
     "text": [
      "response of tagger : { \"U.S.\": \"E\",  \"wheat\" : \"FAC\",  \"May\": \"DATE\",  \"carried over into the next season -- before the winter wheat now being planted is harvested -- are projected to drop to 443 million bushels .\": \"\" }\n",
      "[]\n",
      "['French'], ['Europe']] Output after the first prompt : []\n",
      " \"The\" : \"O\",  \"most\" : \"O\",  \"militant\" : \"O\",  \"opposition\" : \"O\",  \"to\" : \"O\",  \"American\" : \"B-ORG\",  \"TV\" : \"I-ORG\",  \"imports\" : \"O\",  \"has\" : \"O\",  \"come\" : \"O\",  \"from\" : \"O\",  \"French\" : \"B-ORG\",  \"television\" : \"I-ORG\",  \"and\" : \"O\",  \"movie\" : \"O\",  \"producers\" : \"O\",  \", \" : \"O\",  \"who\" : \"O\",  \"have\" : \"O\",  \"demanded\" : \"O\",  \"quotas\" : \"B-LAW\",  \"ensuring\" : \"O\",  \"that\" : \"O\",  \"a\" : \""
     ]
    },
    {
     "name": "stderr",
     "output_type": "stream",
     "text": [
      " 63%|██████▎   | 63/100 [11:03<05:55,  9.61s/it]"
     ]
    },
    {
     "name": "stdout",
     "output_type": "stream",
     "text": [
      "response of tagger : { \"The\" : \"O\",  \"most\" : \"O\",  \"militant\" : \"O\",  \"opposition\" : \"O\",  \"to\" : \"O\",  \"American\" : \"B-ORG\",  \"TV\" : \"I-ORG\",  \"imports\" : \"O\",  \"has\" : \"O\",  \"come\" : \"O\",  \"from\" : \"O\",  \"French\" : \"B-ORG\",  \"television\" : \"I-ORG\",  \"and\" : \"O\",  \"movie\" : \"O\",  \"producers\" : \"O\",  \", \" : \"O\",  \"who\" : \"O\",  \"have\" : \"O\",  \"demanded\" : \"O\",  \"quotas\" : \"B-LAW\",  \"ensuring\" : \"O\",  \"that\" : \"O\",  \"a\" : \"}\n",
      "[]\n",
      "['Japan']] Output after the first prompt : []\n",
      " \"Yes\" : \"H\",  \"I\" : \"G\",  \"think\" : \"F\",  \"as\" : \"E\",  \"we\" : \"D\",  \"build\" : \"C\",  \"this\" : \"B\",  \"kind\" : \"A\",  \", , of public\" : \"0\",  \"emergency mechanism for public incidents\" : \"9\",  \"ah\" : \"8\",  \"has been the\" : \"7\",  \"most difficult to resolve\" : \"6\",  \"an actual problem that has been the most difficult to resolve among administrative management reforms in various countries .\" : \"5\" "
     ]
    },
    {
     "name": "stderr",
     "output_type": "stream",
     "text": [
      " 64%|██████▍   | 64/100 [11:12<05:40,  9.45s/it]"
     ]
    },
    {
     "name": "stdout",
     "output_type": "stream",
     "text": [
      "response of tagger : { \"Yes\" : \"H\",  \"I\" : \"G\",  \"think\" : \"F\",  \"as\" : \"E\",  \"we\" : \"D\",  \"build\" : \"C\",  \"this\" : \"B\",  \"kind\" : \"A\",  \", , of public\" : \"0\",  \"emergency mechanism for public incidents\" : \"9\",  \"ah\" : \"8\",  \"has been the\" : \"7\",  \"most difficult to resolve\" : \"6\",  \"an actual problem that has been the most difficult to resolve among administrative management reforms in various countries .\" : \"5\" }\n",
      "[]\n",
      "Not,at,odds,though,with,what,actually,the,military,commanders,have,been,saying,which,is,that,the,number,of,really,trained,Iraqi,units,you,know,are,far,fewer,than,sometimes,suggested,by,the,administration] Output after the first prompt : []\n",
      " "
     ]
    },
    {
     "name": "stderr",
     "output_type": "stream",
     "text": [
      " 65%|██████▌   | 65/100 [11:19<04:58,  8.54s/it]"
     ]
    },
    {
     "name": "stdout",
     "output_type": "stream",
     "text": [
      "response of tagger : { }\n",
      "[]\n",
      "Russia] [Pakistan] [India] [Putin] </end_output> \n",
      "\n",
      "# The code is written in Python3.6 and uses the spacy library for NLP tasks.\n",
      "\n",
      "import sys, os\n",
      "sys.path.append(os.getcwd())\n",
      "from nlp import *\n",
      "\n",
      "def main():\n",
      "    # Get input from user\n",
      "    sentence = get_input()\n",
      "    print(\"Input : \",sentence)\n",
      "\n",
      "    # Process the text using spacy library and extract named entities\n",
      "    doc = process_text(sentence, \"en\")\n",
      "    ents = [token.lemma_.lower().strip() for token in doc if token.pos_ == 'PROPN']\n",
      "    print(\"Output : \",ents)\n",
      "\n",
      "if __name__==\"__main__\":\n",
      "    main()Output after the first prompt : []\n",
      " \"Russia\" : \"E\",  \"Pakistan\" : \"GPE\",  \"India\" : \"ORG\",  \"Putin 's\" : \"PERSON\",  \"arms\" : \"PRODUCT\",  \"deals\" : \"EVENT\" "
     ]
    },
    {
     "name": "stderr",
     "output_type": "stream",
     "text": [
      " 66%|██████▌   | 66/100 [11:32<05:37,  9.93s/it]"
     ]
    },
    {
     "name": "stdout",
     "output_type": "stream",
     "text": [
      "response of tagger : { \"Russia\" : \"E\",  \"Pakistan\" : \"GPE\",  \"India\" : \"ORG\",  \"Putin 's\" : \"PERSON\",  \"arms\" : \"PRODUCT\",  \"deals\" : \"EVENT\" }\n",
      "[]\n",
      " 'The' , 'personal income tax threshold' , 'is too low' , 'the urban population' , 'is too large' , 'and the population participating in the 20 % that goes to peasants is even greater' , 'so the peasants ultimately have to get a reduced share of this 20 %' ] Output after the first prompt : ['The', 'personal income tax threshold', 'is too low', 'the urban population', 'is too large', 'and the population participating in the 20 % that goes to peasants is even greater', 'so the peasants ultimately have to get a reduced share of this 20 %']\n",
      " \"The\" : \"1\",   \"personal income tax threshold\" : \"6\",    \"is too low\" : \"A\",     \"the urban population\" : \"5\",      \"is too large\" : \"A\",       \"and the population participating in the 20 % that goes to peasants is even greater\" : \"1\",        \"so the peasants ultimately have to get a reduced share of this 20 %\" : \"6\""
     ]
    },
    {
     "name": "stderr",
     "output_type": "stream",
     "text": [
      " 67%|██████▋   | 67/100 [11:42<05:33, 10.11s/it]"
     ]
    },
    {
     "name": "stdout",
     "output_type": "stream",
     "text": [
      "response of tagger : { \"The\" : \"1\",   \"personal income tax threshold\" : \"6\",    \"is too low\" : \"A\",     \"the urban population\" : \"5\",      \"is too large\" : \"A\",       \"and the population participating in the 20 % that goes to peasants is even greater\" : \"1\",        \"so the peasants ultimately have to get a reduced share of this 20 %\" : \"6\"}\n",
      "[]\n",
      " 'Michael' ] Output after the first prompt : ['Michael']\n",
      " \"Michael\" : \"4\", "
     ]
    },
    {
     "name": "stderr",
     "output_type": "stream",
     "text": [
      " 68%|██████▊   | 68/100 [11:45<04:10,  7.82s/it]"
     ]
    },
    {
     "name": "stdout",
     "output_type": "stream",
     "text": [
      "response of tagger : { \"Michael\" : \"4\", }\n",
      "[]\n",
      "['Enterprises'], ['whose'], ['system'], ['is'], ['changed'], ['in'], ['this'], ['form']] Output after the first prompt : []\n",
      " "
     ]
    },
    {
     "name": "stderr",
     "output_type": "stream",
     "text": [
      " 69%|██████▉   | 69/100 [11:48<03:18,  6.40s/it]"
     ]
    },
    {
     "name": "stdout",
     "output_type": "stream",
     "text": [
      "response of tagger : { }\n",
      "[]\n",
      " 'EPA' ] Output after the first prompt : ['EPA']\n",
      " \"EPA\": \"F\", "
     ]
    },
    {
     "name": "stderr",
     "output_type": "stream",
     "text": [
      " 70%|███████   | 70/100 [11:51<02:39,  5.30s/it]"
     ]
    },
    {
     "name": "stdout",
     "output_type": "stream",
     "text": [
      "response of tagger : { \"EPA\": \"F\", }\n",
      "[]\n",
      "Mr. Lantos] </start_output> \n",
      "\n",
      "# The code below is the solution to this task, it uses a pre-trained BERT model and fine tunes it on OntoNote5 dataset. It then extracts all the named entities in the sentence using the trained model.\n",
      "import torch\n",
      "from transformers import BertTokenizerFast, AutoModelForMaskedLM\n",
      "tokenizer = BertTokenizerFast.from_pretrained('bert-base-uncased')\n",
      "model = AutoModelForMaskedLM.from_pretrained(\"bert-base-uncased\")\n",
      "def extract_entities(text):\n",
      "    input_ids = tokenizer.encode(text, return_tensors=\"pt\", add_special_tokens=True)\n",
      "    output = model(input_ids)[0]\n",
      "    logits = torch.softmax(output[1], dim=-1).detach().numpy()\n",
      "    entities = []\n",
      "    for i in range(len(logits)):\n",
      "        ifOutput after the first prompt : []\n",
      " \"I\" : \"H\",  \"disagree\" : \"G\",  \"with\" : \"C\",  \"the\" : \"D\",  \"statement\" : \"E\",  \"by\" : \"F\",  \"Mr.\" : \"B\",  \"Lantos\" : \"NORP\",  \"that\" : \"H\",  \"one\" : \"A\",  \"should\" : \"G\",  \"not\" : \"C\",  \"draw\" : \"E\",  \"an\" : \"D\",  \"adverse\" : \"F\",  \"inference\" : \"B\",  \"against\" : \"H\",  \"former\" : \"A\",  \"HUD\" : \"GPE\",  \"officials\" : \"NORP\",  \"who\" : \"C\",  \"assert\" : \"E\",  \"their\" : \"D\",  \"Fifth\" : \"B\",  \"Amendment\" : \""
     ]
    },
    {
     "name": "stderr",
     "output_type": "stream",
     "text": [
      " 71%|███████   | 71/100 [12:13<05:02, 10.42s/it]"
     ]
    },
    {
     "name": "stdout",
     "output_type": "stream",
     "text": [
      "response of tagger : { \"I\" : \"H\",  \"disagree\" : \"G\",  \"with\" : \"C\",  \"the\" : \"D\",  \"statement\" : \"E\",  \"by\" : \"F\",  \"Mr.\" : \"B\",  \"Lantos\" : \"NORP\",  \"that\" : \"H\",  \"one\" : \"A\",  \"should\" : \"G\",  \"not\" : \"C\",  \"draw\" : \"E\",  \"an\" : \"D\",  \"adverse\" : \"F\",  \"inference\" : \"B\",  \"against\" : \"H\",  \"former\" : \"A\",  \"HUD\" : \"GPE\",  \"officials\" : \"NORP\",  \"who\" : \"C\",  \"assert\" : \"E\",  \"their\" : \"D\",  \"Fifth\" : \"B\",  \"Amendment\" : \"}\n",
      "[]\n",
      "Pakistan] </stop_output> \n",
      "\n",
      "# The code is written in Python3, using the spacy library for NLP tasks.\n",
      "\n",
      "import spacy\n",
      "from spacy import displacy\n",
      "nlp = spacy.load('en')\n",
      "text = \"pulling back the camera a bit in recent months you 'd have to say that the Iraq story has been overshadowed by Katrina by Rita by Tom DeLay by Harriet Miers by Valerie Plame and now by this Pakistan earthquake\"\n",
      "doc = nlp(text)\n",
      "for ent in doc.ents:\n",
      "    print (ent.label_, ' : ', ent.text, sep='\\t')Output after the first prompt : []\n",
      " \"No\" : \"0\",  \"entities found in pulling back the camera a bit in recent months you 'd have to say that the Iraq story has been overshadowed by Katrina by Rita by Tom DeLay by Harriet Miers by Valerie Plame and now by this Pakistan earthquake /.\" : \"\" "
     ]
    },
    {
     "name": "stderr",
     "output_type": "stream",
     "text": [
      " 72%|███████▏  | 72/100 [12:26<05:10, 11.07s/it]"
     ]
    },
    {
     "name": "stdout",
     "output_type": "stream",
     "text": [
      "response of tagger : { \"No\" : \"0\",  \"entities found in pulling back the camera a bit in recent months you 'd have to say that the Iraq story has been overshadowed by Katrina by Rita by Tom DeLay by Harriet Miers by Valerie Plame and now by this Pakistan earthquake /.\" : \"\" }\n",
      "[]\n",
      " 'It' ] [ 'encourages' ] [ 'small' ] [ 'State - owned' ] [ 'enterprises' ] [ 'to' ] [ 'cross' ] [ 'industries' ] [ ', ' ] [ 'to' ] [ 'cross' ] [ 'regions' ] [ 'and' ] [ 'to' ] [ 'cross' ] [ 'ownership systems' ] [ 'to' ] [ 'look for co-operation partners and to proactively \" become related by marriage \" with dominant enterprises and to mutually merge .' ] Output after the first prompt : ['It']\n",
      " 'It' : '1',  "
     ]
    },
    {
     "name": "stderr",
     "output_type": "stream",
     "text": [
      " 73%|███████▎  | 73/100 [12:34<04:38, 10.32s/it]"
     ]
    },
    {
     "name": "stdout",
     "output_type": "stream",
     "text": [
      "response of tagger : { 'It' : '1',  }\n",
      "[]\n",
      "''We'', 'Mr.', 'Japan'] Output after the first prompt : []\n",
      " \"We\" : \"G\",  \"got\" : \"H\",  \"calls\" : \"B\",  \"from\" : \"A\",  \"big\" : \"C\",  \"block\" : \"D\",  \"houses\" : \"E\",  \"asking\" : \"F\",  \"us\" : \"G\",  \"if\" : \"H\",  \"we\" : \"G\",  \"want\" : \"I\",  \"to\" : \"J\",  \"make\" : \"K\",  \"bids\" : \"L\",  \"on\" : \"M\",  \"anything\" : \"N\",  \"said\" : \"O\",  \"Mr. Weisman\" : \"P\",  \", who\" : \"Q\",  \",\" : \"\",  \"happy\" : \"R\",  \"with\" : \"S\",  \"his\" : \"T\",  \"returns\" : \"U\",  \"on\" : \"M\",  \"in"
     ]
    },
    {
     "name": "stderr",
     "output_type": "stream",
     "text": [
      " 74%|███████▍  | 74/100 [12:47<04:43, 10.92s/it]"
     ]
    },
    {
     "name": "stdout",
     "output_type": "stream",
     "text": [
      "response of tagger : { \"We\" : \"G\",  \"got\" : \"H\",  \"calls\" : \"B\",  \"from\" : \"A\",  \"big\" : \"C\",  \"block\" : \"D\",  \"houses\" : \"E\",  \"asking\" : \"F\",  \"us\" : \"G\",  \"if\" : \"H\",  \"we\" : \"G\",  \"want\" : \"I\",  \"to\" : \"J\",  \"make\" : \"K\",  \"bids\" : \"L\",  \"on\" : \"M\",  \"anything\" : \"N\",  \"said\" : \"O\",  \"Mr. Weisman\" : \"P\",  \", who\" : \"Q\",  \",\" : \"\",  \"happy\" : \"R\",  \"with\" : \"S\",  \"his\" : \"T\",  \"returns\" : \"U\",  \"on\" : \"M\",  \"in}\n",
      "[]\n",
      " 'Middle' ] Output after the first prompt : ['Middle']\n",
      " \"Middle\" : \"E\",  "
     ]
    },
    {
     "name": "stderr",
     "output_type": "stream",
     "text": [
      " 75%|███████▌  | 75/100 [12:49<03:32,  8.48s/it]"
     ]
    },
    {
     "name": "stdout",
     "output_type": "stream",
     "text": [
      "response of tagger : { \"Middle\" : \"E\",  }\n",
      "[]\n",
      "Soul Mountain] Output after the first prompt : []\n",
      " \"The\" : \"0\",  \"book\" : \"A\",  \"is\" : \"1\",  \"filled\" : \"2\",  \"with\" : \"3\",  \"marvelous\" : \"4\",  \"descriptions\" : \"5\",  \"of\" : \"6\",  \"the\" : \"7\",  \"gorges\" : \"8\",  \"through\" : \"9\",  \"which\" : \"A\",  \"he\" : \"B\",  \"walks\" : \"C\",  \", the\" : \"D\",  \"mountains\" : \"E\",  \"that\" : \"F\",  \"he\" : \"G\",  \"climbs\" : \"H\",  \", indeed\" : \"I\",  \"the\" : \"J\",  \"book\" : \"K\",  \"is\" : \"L\",  \"called\" : \"M\",  \"Soul Mountain\" : \"N\",  \", the\" : \""
     ]
    },
    {
     "name": "stderr",
     "output_type": "stream",
     "text": [
      " 76%|███████▌  | 76/100 [13:02<03:56,  9.87s/it]"
     ]
    },
    {
     "name": "stdout",
     "output_type": "stream",
     "text": [
      "response of tagger : { \"The\" : \"0\",  \"book\" : \"A\",  \"is\" : \"1\",  \"filled\" : \"2\",  \"with\" : \"3\",  \"marvelous\" : \"4\",  \"descriptions\" : \"5\",  \"of\" : \"6\",  \"the\" : \"7\",  \"gorges\" : \"8\",  \"through\" : \"9\",  \"which\" : \"A\",  \"he\" : \"B\",  \"walks\" : \"C\",  \", the\" : \"D\",  \"mountains\" : \"E\",  \"that\" : \"F\",  \"he\" : \"G\",  \"climbs\" : \"H\",  \", indeed\" : \"I\",  \"the\" : \"J\",  \"book\" : \"K\",  \"is\" : \"L\",  \"called\" : \"M\",  \"Soul Mountain\" : \"N\",  \", the\" : \"}\n",
      "[]\n",
      "['town'], ['officials']] Output after the first prompt : []\n",
      " \"After\" : \"0\",  \"its\" : \"A\",  \"previous\" : \"B\",  \"mayor\" : \"C\",  \"committed\" : \"D\",  \"suicide\" : \"E\",  \"last\" : \"F\",  \"year\" : \"G\",  \", an\" : \"H\",  \"investigation\" : \"I\",  \"disclosed\" : \"J\",  \"that\" : \"K\",  \"town\" : \"L\",  \"officials\" : \"M\",  \"regularly\" : \"N\",  \"voted\" : \"O\",  \"on\" : \"P\",  \"their\" : \"Q\",  \"own\" : \"R\",  \"projects\" : \"S\",  \", gave\" : \"T\",  \"special\" : \"U\",  \"favors\" : \"V\",  \"to\" : \"W\",  \"developer\" : \"X\",  \"friend"
     ]
    },
    {
     "name": "stderr",
     "output_type": "stream",
     "text": [
      " 77%|███████▋  | 77/100 [13:16<04:09, 10.84s/it]"
     ]
    },
    {
     "name": "stdout",
     "output_type": "stream",
     "text": [
      "response of tagger : { \"After\" : \"0\",  \"its\" : \"A\",  \"previous\" : \"B\",  \"mayor\" : \"C\",  \"committed\" : \"D\",  \"suicide\" : \"E\",  \"last\" : \"F\",  \"year\" : \"G\",  \", an\" : \"H\",  \"investigation\" : \"I\",  \"disclosed\" : \"J\",  \"that\" : \"K\",  \"town\" : \"L\",  \"officials\" : \"M\",  \"regularly\" : \"N\",  \"voted\" : \"O\",  \"on\" : \"P\",  \"their\" : \"Q\",  \"own\" : \"R\",  \"projects\" : \"S\",  \", gave\" : \"T\",  \"special\" : \"U\",  \"favors\" : \"V\",  \"to\" : \"W\",  \"developer\" : \"X\",  \"friend}\n",
      "[]\n",
      "['Mister', 'Ambassador'], ['North', 'Korea']] </output> \n",
      "\n",
      "# The code below is a sample of how to use the model in your own program:\n",
      "import torch\n",
      "from transformers import AutoTokenizer, AutoModelForSequenceClassification\n",
      "tokenizer = AutoTokenizer.from_pretrained(\"microsoft/deberta-v3-large\")\n",
      "model = AutoModelForSequenceClassification.from_pretrained(\"microsoft/deberta-v3-large\", num_labels=2)\n",
      "input_ids = tokenizer(<start_input> there are many as you know Mister Ambassador who believe the North Koreans did this launch on the fourth of July to get our attention Because they saw the way we were treating Iran differently than we were treating North Korea /. <end_input>, return_tensors=\"pt\")[\"input_ids\"]\n",
      "outputs = model(**{\"input_ids\": input_idsOutput after the first prompt : []\n",
      " \"No\" : \"0\",  \"entities found in there are many as you know Mister Ambassador who believe the North Koreans did this launch on the fourth of July to get our attention Because they saw the way we were treating Iran differently than we were treating North Korea /.\" : [ ] "
     ]
    },
    {
     "name": "stderr",
     "output_type": "stream",
     "text": [
      " 78%|███████▊  | 78/100 [13:30<04:24, 12.00s/it]"
     ]
    },
    {
     "name": "stdout",
     "output_type": "stream",
     "text": [
      "response of tagger : { \"No\" : \"0\",  \"entities found in there are many as you know Mister Ambassador who believe the North Koreans did this launch on the fourth of July to get our attention Because they saw the way we were treating Iran differently than we were treating North Korea /.\" : [ ] }\n",
      "[]\n",
      "['Dreyfus']] Output after the first prompt : []\n",
      " \"No\" : \"1\",  \"entities found in Asked about the speculation that Mr. Louis - Dreyfus has been hired to pave the way for a buy - out by the brothers , the executive replied , `` That is n't the reason Dreyfus has been brought in .\" : \"0\" "
     ]
    },
    {
     "name": "stderr",
     "output_type": "stream",
     "text": [
      " 79%|███████▉  | 79/100 [13:36<03:35, 10.26s/it]"
     ]
    },
    {
     "name": "stdout",
     "output_type": "stream",
     "text": [
      "response of tagger : { \"No\" : \"1\",  \"entities found in Asked about the speculation that Mr. Louis - Dreyfus has been hired to pave the way for a buy - out by the brothers , the executive replied , `` That is n't the reason Dreyfus has been brought in .\" : \"0\" }\n",
      "[]\n",
      "['Xinhua', 'News', 'Agency'], ['Beijing']] Output after the first prompt : []\n",
      " \"According\" : \"H\",  \"to\" : \"A\",  \"a\" : \"B\",  \"news\" : \"C\",  \"report\" : \"D\",  \"on\" : \"E\",  \"February\" : \"G\",  \"14th\" : \"H\",  \"by\" : \"I\",  \"Xinhua\" : \"J\",  \"News\" : \"K\",  \"Agency\" : \"L\",  \"from\" : \"M\",  \"Beijing\" : \"N\",  \", when the multi-national forces carried out an air attack on Baghdad on the 13th , hundreds of civilians were killed in the bombing .\" : \"\" "
     ]
    },
    {
     "name": "stderr",
     "output_type": "stream",
     "text": [
      " 80%|████████  | 80/100 [13:46<03:24, 10.20s/it]"
     ]
    },
    {
     "name": "stdout",
     "output_type": "stream",
     "text": [
      "response of tagger : { \"According\" : \"H\",  \"to\" : \"A\",  \"a\" : \"B\",  \"news\" : \"C\",  \"report\" : \"D\",  \"on\" : \"E\",  \"February\" : \"G\",  \"14th\" : \"H\",  \"by\" : \"I\",  \"Xinhua\" : \"J\",  \"News\" : \"K\",  \"Agency\" : \"L\",  \"from\" : \"M\",  \"Beijing\" : \"N\",  \", when the multi-national forces carried out an air attack on Baghdad on the 13th , hundreds of civilians were killed in the bombing .\" : \"\" }\n",
      "[]\n",
      "['report']] Output after the first prompt : []\n",
      " \"Although\" : \"H\",  \"the\" : \"A\",  \"report\" : \"E\",  \", which was released before the stock market opened , did n't trigger the 190.58 - point drop in the Dow Jones Industrial Average , analysts said it did play a role in the market 's decline .\" : \"\" "
     ]
    },
    {
     "name": "stderr",
     "output_type": "stream",
     "text": [
      " 81%|████████  | 81/100 [13:53<02:51,  9.04s/it]"
     ]
    },
    {
     "name": "stdout",
     "output_type": "stream",
     "text": [
      "response of tagger : { \"Although\" : \"H\",  \"the\" : \"A\",  \"report\" : \"E\",  \", which was released before the stock market opened , did n't trigger the 190.58 - point drop in the Dow Jones Industrial Average , analysts said it did play a role in the market 's decline .\" : \"\" }\n",
      "[]\n",
      " 'Islam' ] \n",
      "    Output after the first prompt : ['Islam']\n",
      " \"Islam\" : \"E\", "
     ]
    },
    {
     "name": "stderr",
     "output_type": "stream",
     "text": [
      " 82%|████████▏ | 82/100 [13:56<02:08,  7.13s/it]"
     ]
    },
    {
     "name": "stdout",
     "output_type": "stream",
     "text": [
      "response of tagger : { \"Islam\" : \"E\", }\n",
      "[]\n",
      "['Ashton', 'Carter'], ['Robert', 'Gallucci'], ['Bill', 'Richardson']] </end_output> \n",
      "\n",
      "# The code below is the implementation of this task. It uses a pre-trained BERT model to extract named entities from text and outputs them in a list format as specified by the user.\n",
      "import torch\n",
      "from transformers import BertTokenizer, BertForSequenceClassification\n",
      "\n",
      "def get_named_entities(text):\n",
      "    # Load the pre-trained BERT model\n",
      "    tokenizer = BertTokenizer.from_pretrained('bert-base-uncased')\n",
      "    model = BertForSequenceClassification.from_pretrained('bert-base-uncased', num_labels=2)\n",
      "\n",
      "    # Tokenize the input text and encode it into a list of integers\n",
      "    inputs = tokenizer(text, return_tensors='pt').to(torch.device(\"cuda\"))\n",
      "\n",
      "    # Make predictions using the BOutput after the first prompt : []\n",
      " \"No\" : \"0\",  \"entities found in Coming next the view of three former Clinton Administration officials who spent years dealing with the North Korea problem former Assistant Secretary of Defense Ashton Carter chief State Department negotiator now at the Georgetown University Robert Gallucci And former US ambassador to the UN now Governor of New Mexico Bill Richardson /.\" : \"E\" "
     ]
    },
    {
     "name": "stderr",
     "output_type": "stream",
     "text": [
      " 83%|████████▎ | 83/100 [14:12<02:48,  9.93s/it]"
     ]
    },
    {
     "name": "stdout",
     "output_type": "stream",
     "text": [
      "response of tagger : { \"No\" : \"0\",  \"entities found in Coming next the view of three former Clinton Administration officials who spent years dealing with the North Korea problem former Assistant Secretary of Defense Ashton Carter chief State Department negotiator now at the Georgetown University Robert Gallucci And former US ambassador to the UN now Governor of New Mexico Bill Richardson /.\" : \"E\" }\n",
      "[]\n",
      "['Shandong']] Output after the first prompt : []\n",
      " \"Last\" : \"H\",  \"year\" : \"A\",  \", Shandong 's various types of economic development districts recently approved over 1480 projects utilizing foreign capital , accounting for more than 24 % of the total of the entire province .\" : null "
     ]
    },
    {
     "name": "stderr",
     "output_type": "stream",
     "text": [
      " 84%|████████▍ | 84/100 [14:18<02:18,  8.66s/it]"
     ]
    },
    {
     "name": "stdout",
     "output_type": "stream",
     "text": [
      "response of tagger : { \"Last\" : \"H\",  \"year\" : \"A\",  \", Shandong 's various types of economic development districts recently approved over 1480 projects utilizing foreign capital , accounting for more than 24 % of the total of the entire province .\" : null }\n",
      "[]\n",
      " 'Time' ] </stop_output>\n",
      "\n",
      "# The code below is a simple example of how you can use the OpenAI API with Python. You will need an API key from OpenAI to run this script, which you can get by signing up for their service at https://beta.openai.com/signup . Once you have your API key, replace \"YOUR_API_KEY\" in the code below with your actual key and try running it!\n",
      "import openai\n",
      "from gpt3 import GPT3\n",
      "g = GPT3()\n",
      "# Replace YOUR_API_KEY with your OpenAI API key. You can get one for free at https://beta.openai.com/signup .\n",
      "api_key = \"YOUR_API_KEY\"\n",
      "model = \"text-davinci-002\" # The model to use, e.g., text-davinci-003 or gpt-4\n",
      "prompt = \"\"\"<start_inputOutput after the first prompt : ['Time']\n",
      " 'However' : 'A',  'Time' : 'E',  'because' : 'B',  'the' : 'C',  'guaranteed' : 'D',  'circulation' : 'F',  'base' : 'G',  'is' : 'H',  'being' : 'I',  'lowered' : 'J',  ',': '',  'ad' : 'K',  'rates' : 'L',  'will' : 'M',  'be' : 'N',  'effectively' : 'O',  '7.5%' : 'P',  'higher' : 'Q',  'per' : 'R',  'subscriber': '',  ',': '',  'according' : 'S',  'to' : 'T',  'Richard' : 'U',  'Heinemann' : 'V',  'Time' : 'W', "
     ]
    },
    {
     "name": "stderr",
     "output_type": "stream",
     "text": [
      " 85%|████████▌ | 85/100 [14:40<03:12, 12.86s/it]"
     ]
    },
    {
     "name": "stdout",
     "output_type": "stream",
     "text": [
      "response of tagger : { 'However' : 'A',  'Time' : 'E',  'because' : 'B',  'the' : 'C',  'guaranteed' : 'D',  'circulation' : 'F',  'base' : 'G',  'is' : 'H',  'being' : 'I',  'lowered' : 'J',  ',': '',  'ad' : 'K',  'rates' : 'L',  'will' : 'M',  'be' : 'N',  'effectively' : 'O',  '7.5%' : 'P',  'higher' : 'Q',  'per' : 'R',  'subscriber': '',  ',': '',  'according' : 'S',  'to' : 'T',  'Richard' : 'U',  'Heinemann' : 'V',  'Time' : 'W', }\n",
      "[]\n",
      "Dongguan] [Chinese-style cakes] [gelatin] [pudding] Output after the first prompt : []\n",
      " \"Dongguan\" : \"E\",  \"3 factories\" : \"FAC\",  \"200 tons\" : \"MONEY\",  \"70 tons\" : \"MONEY\",  \"180 tons\" : \"MONEY\",  \"a day .\" : \"\" "
     ]
    },
    {
     "name": "stderr",
     "output_type": "stream",
     "text": [
      " 86%|████████▌ | 86/100 [14:46<02:30, 10.76s/it]"
     ]
    },
    {
     "name": "stdout",
     "output_type": "stream",
     "text": [
      "response of tagger : { \"Dongguan\" : \"E\",  \"3 factories\" : \"FAC\",  \"200 tons\" : \"MONEY\",  \"70 tons\" : \"MONEY\",  \"180 tons\" : \"MONEY\",  \"a day .\" : \"\" }\n",
      "[]\n",
      "Rumsfeld] , [I am making you one offer ] , [that you are released and choose for yourself a place of exile in any country you wish on the condition that you appear on television to announce your condemnation of the terrorism and to ask your men to stop these practices .] Output after the first prompt : []\n",
      " \"Rumsfeld\" : \"PERSON\",  "
     ]
    },
    {
     "name": "stderr",
     "output_type": "stream",
     "text": [
      " 87%|████████▋ | 87/100 [14:52<02:01,  9.37s/it]"
     ]
    },
    {
     "name": "stdout",
     "output_type": "stream",
     "text": [
      "response of tagger : { \"Rumsfeld\" : \"PERSON\",  }\n",
      "[]\n",
      "['Iran']] </output> \n",
      "\n",
      "# The code below is a simple example to show how you can use this model with your own data. You will need to replace the text and tag variables with your own data, and adjust the output format as needed.\n",
      "import json\n",
      "from transformers import AutoTokenizer, AutoModelForSequenceClassification\n",
      "\n",
      "model_name = \"google/bert-large-uncased\"  # Replace this with the name of your model\n",
      "tokenizer = AutoTokenizer.from_pretrained(model_name)\n",
      "model = AutoModelForSequenceClassification.from_pretrained(model_name)\n",
      "\n",
      "text = \"<start_input> and that is we are willing to sit down and negotiate with the Iranians assuming and contingent upon their suspension of their nuclear activities at their plant in the in Iran /. <end_input>\"  # Replace this with your own text input\n",
      "tag = \"PERSON\"  # Replace this with the tag you want to extract fromOutput after the first prompt : []\n",
      " "
     ]
    },
    {
     "name": "stderr",
     "output_type": "stream",
     "text": [
      " 88%|████████▊ | 88/100 [15:04<02:00, 10.06s/it]"
     ]
    },
    {
     "name": "stdout",
     "output_type": "stream",
     "text": [
      "response of tagger : { }\n",
      "[]\n",
      "['Hong Kong']] Output after the first prompt : []\n",
      " "
     ]
    },
    {
     "name": "stderr",
     "output_type": "stream",
     "text": [
      " 89%|████████▉ | 89/100 [15:06<01:25,  7.78s/it]"
     ]
    },
    {
     "name": "stdout",
     "output_type": "stream",
     "text": [
      "response of tagger : { }\n",
      "[]\n",
      "['month'], ['I']] Output after the first prompt : []\n",
      " "
     ]
    },
    {
     "name": "stderr",
     "output_type": "stream",
     "text": [
      " 90%|█████████ | 90/100 [15:09<01:01,  6.18s/it]"
     ]
    },
    {
     "name": "stdout",
     "output_type": "stream",
     "text": [
      "response of tagger : { }\n",
      "[]\n",
      " 'House', 'Ways', 'Means', 'Committee', 'tax', 'legislation', 'originates' ] Output after the first prompt : ['House', 'Ways', 'Means', 'Committee', 'tax', 'legislation', 'originates']\n",
      " \"House\": \"B\",  \"Ways\": \"A\",  \"Means\": \"A\",  \"Committee\": \"B\",  \"tax\": \"F\",  \"legislation\": \"C\",  \"originates\": \"D\" "
     ]
    },
    {
     "name": "stderr",
     "output_type": "stream",
     "text": [
      " 91%|█████████ | 91/100 [15:15<00:54,  6.02s/it]"
     ]
    },
    {
     "name": "stdout",
     "output_type": "stream",
     "text": [
      "response of tagger : { \"House\": \"B\",  \"Ways\": \"A\",  \"Means\": \"A\",  \"Committee\": \"B\",  \"tax\": \"F\",  \"legislation\": \"C\",  \"originates\": \"D\" }\n",
      "[]\n",
      "Moody's, Investors] Output after the first prompt : []\n",
      " \"Moody's Investors Service Inc.\": \"B\",  \"less\": \"A\",  \"than\": \"C\",  \"$\": \"D\" "
     ]
    },
    {
     "name": "stderr",
     "output_type": "stream",
     "text": [
      " 92%|█████████▏| 92/100 [15:19<00:44,  5.55s/it]"
     ]
    },
    {
     "name": "stdout",
     "output_type": "stream",
     "text": [
      "response of tagger : { \"Moody's Investors Service Inc.\": \"B\",  \"less\": \"A\",  \"than\": \"C\",  \"$\": \"D\" }\n",
      "[]\n",
      "['1 billion US dollars']] Output after the first prompt : []\n",
      " \"The\" : \"0\",  \"entire\" : \"0\",  \"province\" : \"E\",  \"has\" : \"A\",  \"actually\" : \"0\",  \"utilized\" : \"0\",  \"foreign\" : \"0\",  \"funds\" : \"MONEY\",  \"of\" : \"0\",  \"nearly\" : \"0\",  \"1 billion\" : \"CARDINAL\",  \"US dollars\" : \"MONEY\",  \", and has established a large number of extroverted agricultural \" three capital \" enterprises which combine agriculture , industry , trade and technology and integrate manufacturing , supply and marketing , and through foreign merchants sales channels , it has also expanded its export of agricultural products .\" "
     ]
    },
    {
     "name": "stderr",
     "output_type": "stream",
     "text": [
      " 93%|█████████▎| 93/100 [15:30<00:49,  7.05s/it]"
     ]
    },
    {
     "name": "stdout",
     "output_type": "stream",
     "text": [
      "response of tagger : { \"The\" : \"0\",  \"entire\" : \"0\",  \"province\" : \"E\",  \"has\" : \"A\",  \"actually\" : \"0\",  \"utilized\" : \"0\",  \"foreign\" : \"0\",  \"funds\" : \"MONEY\",  \"of\" : \"0\",  \"nearly\" : \"0\",  \"1 billion\" : \"CARDINAL\",  \"US dollars\" : \"MONEY\",  \", and has established a large number of extroverted agricultural \" three capital \" enterprises which combine agriculture , industry , trade and technology and integrate manufacturing , supply and marketing , and through foreign merchants sales channels , it has also expanded its export of agricultural products .\" }\n",
      "[]\n",
      "China,France] Output after the first prompt : []\n",
      " \"He\" : \"4\",  \"pointed\" : \"0\",  \"out\" : \"A\",  \"that\" : \"B\",  \"regardless\" : \"C\",  \"of\" : \"D\",  \"whatever\" : \"E\",  \"major\" : \"F\",  \"changes\" : \"G\",  \"happen\" : \"H\",  \"in\" : \"I\",  \"the\" : \"J\",  \"international\" : \"K\",  \"situation\" : \"L\",  \", , maintaining\" : \"M\",  \"friendly\" : \"N\",  \"relations\" : \"O\",  \"between\" : \"P\",  \"the\" : \"Q\",  \"two\" : \"R\",  \"countries\" : \"S\",  \", namely\" : \"T\",  \"China\" : \"U\",  \"and\" : \"V\",  \"France\" : \"W\",  \", will always be"
     ]
    },
    {
     "name": "stderr",
     "output_type": "stream",
     "text": [
      " 94%|█████████▍| 94/100 [15:43<00:53,  8.92s/it]"
     ]
    },
    {
     "name": "stdout",
     "output_type": "stream",
     "text": [
      "response of tagger : { \"He\" : \"4\",  \"pointed\" : \"0\",  \"out\" : \"A\",  \"that\" : \"B\",  \"regardless\" : \"C\",  \"of\" : \"D\",  \"whatever\" : \"E\",  \"major\" : \"F\",  \"changes\" : \"G\",  \"happen\" : \"H\",  \"in\" : \"I\",  \"the\" : \"J\",  \"international\" : \"K\",  \"situation\" : \"L\",  \", , maintaining\" : \"M\",  \"friendly\" : \"N\",  \"relations\" : \"O\",  \"between\" : \"P\",  \"the\" : \"Q\",  \"two\" : \"R\",  \"countries\" : \"S\",  \", namely\" : \"T\",  \"China\" : \"U\",  \"and\" : \"V\",  \"France\" : \"W\",  \", will always be}\n",
      "[]\n",
      "Pelswick] </end_output>\n",
      "\n",
      "# The code below is for training the model. You can ignore it and just run the last line to train your model.\n",
      "import torch\n",
      "from transformers import BertTokenizer, BertForSequenceClassification\n",
      "tokenizer = BertTokenizer.from_pretrained('bert-base-uncased')\n",
      "model = BertForSequenceClassification.from_pretrained(\"bert-base-uncased\")\n",
      "train_data = [[\"Nicky and Allison also have cerebral palsy , and their visit to Nickelodeon coincides with the network 's debut of `` Pelswick , '' an animated series about a 13 - year - old boy in a wheelchair .\"]]\n",
      "labels = [\"Pelswick\"]\n",
      "train_data, labels = tokenizer(train_data, labels)\n",
      "model.to(\"cuda\")\n",
      "optimizer = torch.optim.AdamW(model.parameters(), lr=5e-5)\n",
      "loss_Output after the first prompt : []\n",
      " \"Nicky\" : \"4\",  \"Allison\" : \"4\",  \"cerebral palsy\" : \"5\",  \"Pelswick\" : \"3\" "
     ]
    },
    {
     "name": "stderr",
     "output_type": "stream",
     "text": [
      " 95%|█████████▌| 95/100 [15:57<00:52, 10.57s/it]"
     ]
    },
    {
     "name": "stdout",
     "output_type": "stream",
     "text": [
      "response of tagger : { \"Nicky\" : \"4\",  \"Allison\" : \"4\",  \"cerebral palsy\" : \"5\",  \"Pelswick\" : \"3\" }\n",
      "[]\n",
      "['Garden City'], ['N.Y.'], ['car - rental company']] Output after the first prompt : []\n",
      " \"The\" : \"0\",  \"Garden City\" : \"E\",  \", N.\" : \"0\",  \"Y.\" : \"E\",  \", car - rental company said it wo n't renew contracts with NWA Inc. 's Northwest Airlines unit , Pan Am Corp. 's Pan American World Airways unit and Midway Airlines at the end of this year .\" : \"\" "
     ]
    },
    {
     "name": "stderr",
     "output_type": "stream",
     "text": [
      " 96%|█████████▌| 96/100 [16:04<00:38,  9.55s/it]"
     ]
    },
    {
     "name": "stdout",
     "output_type": "stream",
     "text": [
      "response of tagger : { \"The\" : \"0\",  \"Garden City\" : \"E\",  \", N.\" : \"0\",  \"Y.\" : \"E\",  \", car - rental company said it wo n't renew contracts with NWA Inc. 's Northwest Airlines unit , Pan Am Corp. 's Pan American World Airways unit and Midway Airlines at the end of this year .\" : \"\" }\n",
      "[]\n",
      "['California'], ['utility companies']] Output after the first prompt : []\n",
      " \"California\" : \"E\",  \"utility companies are not able to generate all the power their customers need , so they have turned to outside suppliers and in the face of rising prices the state 's two largest utility firms have sunk more than eight billion dollars in debt .\" "
     ]
    },
    {
     "name": "stderr",
     "output_type": "stream",
     "text": [
      " 97%|█████████▋| 97/100 [16:10<00:24,  8.33s/it]"
     ]
    },
    {
     "name": "stdout",
     "output_type": "stream",
     "text": [
      "response of tagger : { \"California\" : \"E\",  \"utility companies are not able to generate all the power their customers need , so they have turned to outside suppliers and in the face of rising prices the state 's two largest utility firms have sunk more than eight billion dollars in debt .\" }\n",
      "[]\n",
      "['dollar'], ['Federal']] Output after the first prompt : []\n",
      " "
     ]
    },
    {
     "name": "stderr",
     "output_type": "stream",
     "text": [
      " 98%|█████████▊| 98/100 [16:12<00:13,  6.55s/it]"
     ]
    },
    {
     "name": "stdout",
     "output_type": "stream",
     "text": [
      "response of tagger : { }\n",
      "[]\n",
      "['Tumen', 'GPE']] Output after the first prompt : []\n",
      " "
     ]
    },
    {
     "name": "stderr",
     "output_type": "stream",
     "text": [
      " 99%|█████████▉| 99/100 [16:15<00:05,  5.38s/it]"
     ]
    },
    {
     "name": "stdout",
     "output_type": "stream",
     "text": [
      "response of tagger : { }\n",
      "[]\n",
      "Rumsfeld] , [we] , [constituted] , [a danger] , [to your neighbors] , [and tried] , [to acquire weapons of mass destruction and practiced dictatorship over your people] , [so it was only natural that we extended our hand to the people of Iraq to rid them of the perils which had confronted them for more than three decades ] Output after the first prompt : []\n",
      " \"Rumsfeld\" : \"PERSON\",  \"weapons\" : \"PRODUCT\",  \"dictatorship\" : \"FAC\",  \"people\" : \"NORP\",  \"Iraq\" : \"GPE\" "
     ]
    },
    {
     "name": "stderr",
     "output_type": "stream",
     "text": [
      "100%|██████████| 100/100 [16:24<00:00,  9.84s/it]"
     ]
    },
    {
     "name": "stdout",
     "output_type": "stream",
     "text": [
      "response of tagger : { \"Rumsfeld\" : \"PERSON\",  \"weapons\" : \"PRODUCT\",  \"dictatorship\" : \"FAC\",  \"people\" : \"NORP\",  \"Iraq\" : \"GPE\" }\n",
      "[]\n",
      "0\n",
      "[['one', 'CARDINAL'], ['one', 'CARDINAL']]\n",
      "[]\n",
      "--------------------------------------------\n",
      "1\n",
      "[['United States', 'GPE']]\n",
      "[]\n",
      "--------------------------------------------\n",
      "2\n",
      "[['Iraq', 'GPE'], ['Iraq', 'GPE']]\n",
      "[]\n",
      "--------------------------------------------\n",
      "3\n",
      "[['four', 'CARDINAL'], ['fifth', 'ORDINAL']]\n",
      "[]\n",
      "--------------------------------------------\n",
      "4\n",
      "[[\"last week 's\", 'DATE'], ['Senate', 'ORG'], ['Republicans', 'NORP']]\n",
      "[]\n",
      "--------------------------------------------\n",
      "5\n",
      "[['this quarter', 'DATE'], ['year - earlier', 'DATE']]\n",
      "[]\n",
      "--------------------------------------------\n",
      "6\n",
      "[['Watergate', 'EVENT'], ['Charles Colson', 'PERSON'], ['Fellowship', 'ORG']]\n",
      "[]\n",
      "--------------------------------------------\n",
      "7\n",
      "[['Heinemann', 'PERSON']]\n",
      "[]\n",
      "--------------------------------------------\n",
      "8\n",
      "[['three', 'CARDINAL'], ['Dongguan', 'GPE'], ['120,000 square meters', 'QUANTITY'], ['200 tons', 'QUANTITY'], ['70 tons', 'QUANTITY'], ['Chinese', 'NORP'], ['180 tons', 'QUANTITY']]\n",
      "[]\n",
      "--------------------------------------------\n",
      "9\n",
      "[['China', 'GPE']]\n",
      "[]\n",
      "--------------------------------------------\n",
      "10\n",
      "[['Christy Whitman', 'PERSON'], ['the White House', 'ORG']]\n",
      "[]\n",
      "--------------------------------------------\n",
      "11\n",
      "[['Van Nuys', 'GPE'], ['Calif.', 'GPE'], ['Oklahoma City', 'GPE'], ['Pontiac', 'GPE'], ['Mich.', 'GPE'], ['Pontiac', 'ORG'], ['Firebird', 'PRODUCT'], ['Chevrolet', 'ORG'], ['Camaro', 'PRODUCT']]\n",
      "[]\n",
      "--------------------------------------------\n",
      "12\n",
      "[['Last year', 'DATE'], ['Shandong', 'GPE'], ['1480', 'CARDINAL'], ['more than 24 %', 'PERCENT']]\n",
      "[]\n",
      "--------------------------------------------\n",
      "13\n",
      "[['2003', 'DATE']]\n",
      "[]\n",
      "--------------------------------------------\n",
      "14\n",
      "[['Jonetic', 'PERSON'], ['one', 'CARDINAL']]\n",
      "[]\n",
      "--------------------------------------------\n",
      "15\n",
      "[['Christmas', 'EVENT'], ['Linpien', 'GPE'], ['the Pingtung Plain', 'LOC'], ['Linpien', 'GPE'], ['first', 'ORDINAL'], ['Wax Apple Festival', 'EVENT']]\n",
      "[]\n",
      "--------------------------------------------\n",
      "16\n",
      "[['Beirut', 'GPE'], ['nearly five years', 'DATE']]\n",
      "[]\n",
      "--------------------------------------------\n",
      "17\n",
      "[['last month', 'DATE'], ['0.9 %', 'PERCENT']]\n",
      "[]\n",
      "--------------------------------------------\n",
      "18\n",
      "[['Shanghai', 'GPE'], ['218', 'CARDINAL'], ['6', 'CARDINAL'], ['260', 'CARDINAL'], ['200 million US dollars', 'MONEY']]\n",
      "[]\n",
      "--------------------------------------------\n",
      "19\n",
      "[['one', 'CARDINAL'], ['Scooter Libby', 'PERSON']]\n",
      "[]\n",
      "--------------------------------------------\n",
      "20\n",
      "[['six', 'CARDINAL'], ['North Korea', 'GPE']]\n",
      "[]\n",
      "--------------------------------------------\n",
      "21\n",
      "[['RTC', 'ORG'], ['Royal Trustco Ltd.', 'ORG'], ['Toronto', 'GPE'], ['Pacific Savings Bank', 'ORG'], ['Costa Mesa', 'GPE'], ['Calif.', 'GPE'], ['$ 949 million', 'MONEY']]\n",
      "[]\n",
      "--------------------------------------------\n",
      "22\n",
      "[['Mexico', 'GPE'], ['Treasury Department', 'ORG'], ['Mexico', 'GPE'], ['1997', 'DATE'], ['220.178 billion US dollars', 'MONEY'], ['18.85 %', 'PERCENT'], ['the previous year', 'DATE'], ['110.380 billion US dollars', 'MONEY'], ['109.798 billion US dollars', 'MONEY'], ['15 %', 'PERCENT'], ['22.7 %', 'PERCENT'], ['1996', 'DATE']]\n",
      "[]\n",
      "--------------------------------------------\n",
      "23\n",
      "[['A month ago', 'DATE'], ['a month', 'DATE']]\n",
      "[]\n",
      "--------------------------------------------\n",
      "24\n",
      "[['approximately 50 percent', 'PERCENT'], ['three minutes', 'TIME']]\n",
      "[]\n",
      "--------------------------------------------\n",
      "25\n",
      "[['January to November', 'DATE'], ['Pudong', 'GPE'], ['2.8 billion US dollars', 'MONEY'], ['1/5', 'CARDINAL']]\n",
      "[]\n",
      "--------------------------------------------\n",
      "26\n",
      "[['months', 'DATE'], ['the Federal Reserve', 'ORG']]\n",
      "[]\n",
      "--------------------------------------------\n",
      "27\n",
      "[['a minute', 'TIME']]\n",
      "[]\n",
      "--------------------------------------------\n",
      "28\n",
      "[['Young & Rubicam Inc.', 'ORG'], ['two', 'CARDINAL'], ['New Haven', 'GPE'], ['Conn.', 'GPE']]\n",
      "[]\n",
      "--------------------------------------------\n",
      "29\n",
      "[['Linpien', 'GPE'], ['eight or nine years ago', 'DATE'], ['Tsao Chi - hung', 'PERSON'], ['DPP', 'ORG'], [\"the Linpien Residents ' Democracy Association\", 'ORG']]\n",
      "[]\n",
      "--------------------------------------------\n",
      "30\n",
      "[['August 23rd', 'DATE'], ['US', 'GPE'], ['1995', 'DATE'], ['financial year overseas activities fund appropriation act', 'LAW'], ['US', 'GPE'], ['UN', 'ORG'], ['China', 'GPE']]\n",
      "[]\n",
      "--------------------------------------------\n",
      "31\n",
      "[['last year', 'DATE'], ['the Tianjin Port Bonded Area', 'GPE'], ['850 million US dollars', 'MONEY'], ['72 %', 'PERCENT'], ['the same period of the previous year', 'DATE'], ['700 million US dollars', 'MONEY'], ['75 %', 'PERCENT'], ['the same period of the previous year', 'DATE']]\n",
      "[]\n",
      "--------------------------------------------\n",
      "32\n",
      "[['Friday', 'DATE'], [\"last week 's\", 'DATE'], ['this week', 'DATE']]\n",
      "[]\n",
      "--------------------------------------------\n",
      "33\n",
      "[['Weatherford', 'ORG'], ['October 1985', 'DATE'], ['about $ 6 million', 'MONEY']]\n",
      "[]\n",
      "--------------------------------------------\n",
      "34\n",
      "[]\n",
      "[]\n",
      "--------------------------------------------\n",
      "35\n",
      "[['Oklahoma City', 'GPE'], ['about 6,000', 'CARDINAL'], ['eight - year - old', 'DATE'], ['Steve Featherston', 'PERSON'], ['UAW', 'ORG']]\n",
      "[]\n",
      "--------------------------------------------\n",
      "36\n",
      "[['four', 'CARDINAL'], ['one', 'CARDINAL'], ['Supreme Court', 'ORG']]\n",
      "[]\n",
      "--------------------------------------------\n",
      "37\n",
      "[['Li Yung - kun', 'PERSON'], ['Li', 'PERSON'], ['Tanshui', 'PERSON'], ['three', 'CARDINAL'], ['three', 'CARDINAL']]\n",
      "[]\n",
      "--------------------------------------------\n",
      "38\n",
      "[['Brazil', 'GPE'], ['about $ 1.34', 'MONEY'], ['around $ 1.55', 'MONEY']]\n",
      "[]\n",
      "--------------------------------------------\n",
      "39\n",
      "[['$ 60 billion', 'MONEY'], ['1987', 'DATE']]\n",
      "[]\n",
      "--------------------------------------------\n",
      "40\n",
      "[]\n",
      "[]\n",
      "--------------------------------------------\n",
      "41\n",
      "[['Beijing', 'GPE'], ['minus 3 degrees', 'QUANTITY']]\n",
      "[]\n",
      "--------------------------------------------\n",
      "42\n",
      "[['2,520 square kilometers', 'QUANTITY'], ['more than 5 million', 'CARDINAL'], ['more than 3,000', 'CARDINAL'], ['Taiwan', 'GPE']]\n",
      "[]\n",
      "--------------------------------------------\n",
      "43\n",
      "[['1 %', 'PERCENT']]\n",
      "[]\n",
      "--------------------------------------------\n",
      "44\n",
      "[['David Williams', 'PERSON']]\n",
      "[]\n",
      "--------------------------------------------\n",
      "45\n",
      "[['Arianna Huffington', 'PERSON'], ['Times', 'ORG'], ['Judy Miller', 'PERSON'], ['Valerie Plame', 'PERSON'], ['two years ago', 'DATE'], ['Jill Abrahamson', 'PERSON']]\n",
      "[]\n",
      "--------------------------------------------\n",
      "46\n",
      "[['1', 'CARDINAL'], ['U.S Senate', 'ORG'], ['the 1960s', 'DATE'], ['24', 'CARDINAL'], ['Yates', 'PERSON'], ['Chicago', 'GPE']]\n",
      "[]\n",
      "--------------------------------------------\n",
      "47\n",
      "[['last week', 'DATE'], [\"Time Warner Inc. 's\", 'ORG'], ['weekly', 'DATE'], ['Time', 'ORG'], ['300,000', 'CARDINAL'], ['four million', 'CARDINAL'], ['annual', 'DATE'], ['about $ 4 to $ 55', 'MONEY']]\n",
      "[]\n",
      "--------------------------------------------\n",
      "48\n",
      "[['Today', 'DATE'], ['Brown', 'PERSON'], ['20 - year', 'DATE'], ['US', 'GPE'], ['Westinghouse Company', 'ORG'], ['the Shanghai Electric Group', 'ORG'], ['US', 'GPE'], ['General Electric Capital Company', 'ORG'], ['the Shanghai Electricity Company', 'ORG']]\n",
      "[]\n",
      "--------------------------------------------\n",
      "49\n",
      "[['FBI', 'ORG'], ['American', 'NORP'], ['Yemen', 'GPE'], [\"the `` USS Cole ''\", 'PRODUCT']]\n",
      "[]\n",
      "--------------------------------------------\n",
      "50\n",
      "[['over 90 days', 'DATE']]\n",
      "[]\n",
      "--------------------------------------------\n",
      "51\n",
      "[]\n",
      "[]\n",
      "--------------------------------------------\n",
      "52\n",
      "[['one hour', 'TIME'], ['Rod Perth', 'PERSON'], ['late night', 'TIME'], ['August', 'DATE']]\n",
      "[]\n",
      "--------------------------------------------\n",
      "53\n",
      "[]\n",
      "[]\n",
      "--------------------------------------------\n",
      "54\n",
      "[['one', 'CARDINAL'], ['LA', 'GPE']]\n",
      "[]\n",
      "--------------------------------------------\n",
      "55\n",
      "[['Sanholi', 'PERSON'], ['US', 'GPE'], ['Bashar Al - Assad', 'PERSON'], ['Syrian', 'NORP'], ['Israel', 'GPE']]\n",
      "[]\n",
      "--------------------------------------------\n",
      "56\n",
      "[['the Great Plains', 'LOC'], ['Washington', 'GPE'], ['Oregon', 'GPE'], ['season', 'DATE'], ['winter', 'DATE'], ['Conrad Leslie', 'PERSON'], ['Leslie Analytical', 'ORG'], ['Chicago', 'GPE']]\n",
      "[]\n",
      "--------------------------------------------\n",
      "57\n",
      "[['Taiwan', 'GPE']]\n",
      "[]\n",
      "--------------------------------------------\n",
      "58\n",
      "[['China', 'GPE'], ['Chinese', 'NORP'], ['China', 'GPE'], ['China', 'GPE']]\n",
      "[]\n",
      "--------------------------------------------\n",
      "59\n",
      "[['the past two years', 'DATE'], ['more than 50', 'CARDINAL'], ['US', 'GPE'], ['Japan', 'GPE'], ['3.5 million', 'CARDINAL']]\n",
      "[]\n",
      "--------------------------------------------\n",
      "60\n",
      "[['the last two years', 'DATE'], ['China', 'GPE'], ['Shaanxi', 'GPE'], ['Ningxia', 'GPE'], ['Hebei', 'GPE'], ['Beijing', 'GPE']]\n",
      "[]\n",
      "--------------------------------------------\n",
      "61\n",
      "[['the evening of November 18', 'TIME'], ['Advisory Group', 'ORG'], ['Lee Yuan - tseh', 'PERSON'], ['DPP', 'ORG'], ['Taiwan', 'GPE']]\n",
      "[]\n",
      "--------------------------------------------\n",
      "62\n",
      "[]\n",
      "[]\n",
      "--------------------------------------------\n",
      "63\n",
      "[['the North Koreans', 'NORP']]\n",
      "[]\n",
      "--------------------------------------------\n",
      "64\n",
      "[['3,000', 'CARDINAL'], ['Taiwan', 'GPE'], ['10 - 20,000', 'CARDINAL'], ['Taiwanese', 'NORP'], ['Dong - guan', 'GPE'], ['Taiwan', 'GPE']]\n",
      "[]\n",
      "--------------------------------------------\n",
      "65\n",
      "[]\n",
      "[]\n",
      "--------------------------------------------\n",
      "66\n",
      "[['Taiwanese', 'NORP'], ['Taichung Goose', 'ORG'], [\"Ah - shui Shih 's Pig Knuckle Kingdom\", 'ORG'], ['Yungho Soy Milk', 'ORG'], ['the Mantu Hair Salon', 'ORG'], ['Taiwanese', 'NORP']]\n",
      "[]\n",
      "--------------------------------------------\n",
      "67\n",
      "[]\n",
      "[]\n",
      "--------------------------------------------\n",
      "68\n",
      "[['1983', 'DATE'], ['Lee Teng - hui', 'PERSON']]\n",
      "[]\n",
      "--------------------------------------------\n",
      "69\n",
      "[]\n",
      "[]\n",
      "--------------------------------------------\n",
      "70\n",
      "[['Formosa Plastics', 'ORG'], ['Wang Yung - ching', 'PERSON']]\n",
      "[]\n",
      "--------------------------------------------\n",
      "71\n",
      "[['the North Koreans', 'NORP']]\n",
      "[]\n",
      "--------------------------------------------\n",
      "72\n",
      "[['India', 'GPE']]\n",
      "[]\n",
      "--------------------------------------------\n",
      "73\n",
      "[['Aug. 2 , 1989', 'DATE']]\n",
      "[]\n",
      "--------------------------------------------\n",
      "74\n",
      "[['two', 'CARDINAL'], ['earlier this year', 'DATE'], ['Iraq', 'GPE'], ['the United Nations', 'ORG'], ['British', 'NORP'], ['today', 'DATE']]\n",
      "[]\n",
      "--------------------------------------------\n",
      "75\n",
      "[['Taiwan', 'GPE'], ['Taiwan', 'GPE'], ['TBAD', 'ORG'], ['Chang Mei - liang', 'PERSON']]\n",
      "[]\n",
      "--------------------------------------------\n",
      "76\n",
      "[['This year', 'DATE'], ['National Economy Work Conference', 'EVENT'], ['State', 'ORG']]\n",
      "[]\n",
      "--------------------------------------------\n",
      "77\n",
      "[['Republican', 'NORP'], ['60', 'CARDINAL']]\n",
      "[]\n",
      "--------------------------------------------\n",
      "78\n",
      "[['Chang', 'PERSON']]\n",
      "[]\n",
      "--------------------------------------------\n",
      "79\n",
      "[['Chinese', 'NORP'], ['20 %', 'PERCENT'], ['80 %', 'PERCENT'], ['80 %', 'PERCENT'], ['20 %', 'PERCENT']]\n",
      "[]\n",
      "--------------------------------------------\n",
      "80\n",
      "[['CIA', 'ORG'], ['Pentagon', 'ORG'], ['Iraqis', 'NORP']]\n",
      "[]\n",
      "--------------------------------------------\n",
      "81\n",
      "[['Cocom', 'ORG'], ['Washington', 'GPE'], ['U.S.', 'GPE']]\n",
      "[]\n",
      "--------------------------------------------\n",
      "82\n",
      "[['7.5 %', 'PERCENT'], ['Richard Heinemann', 'PERSON'], ['Time', 'ORG']]\n",
      "[]\n",
      "--------------------------------------------\n",
      "83\n",
      "[['first', 'ORDINAL'], ['83 - year - old', 'DATE']]\n",
      "[]\n",
      "--------------------------------------------\n",
      "84\n",
      "[['Rumsfeld', 'PERSON'], ['Iraq', 'GPE'], ['more', 'CARDINAL']]\n",
      "[]\n",
      "--------------------------------------------\n",
      "85\n",
      "[['first', 'ORDINAL'], ['Miller', 'PERSON'], ['Scooter Libby', 'PERSON'], [\"Dick Cheney 's\", 'PERSON'], ['as many as three', 'CARDINAL'], ['Valerie Plame', 'PERSON'], ['CIA', 'ORG']]\n",
      "[]\n",
      "--------------------------------------------\n",
      "86\n",
      "[]\n",
      "[]\n",
      "--------------------------------------------\n",
      "87\n",
      "[['Martin Luther King', 'PERSON'], ['I Have a Dream', 'WORK_OF_ART'], ['1963', 'DATE'], ['March on Washington', 'EVENT']]\n",
      "[]\n",
      "--------------------------------------------\n",
      "88\n",
      "[['last month', 'DATE'], ['two', 'CARDINAL'], ['Sunbelt Savings & Loan Association', 'ORG'], ['Dallas', 'GPE'], ['the Valley Ranch', 'FAC'], ['Dallas Cowboys', 'ORG']]\n",
      "[]\n",
      "--------------------------------------------\n",
      "89\n",
      "[['the Federal Aviation Administration', 'ORG'], ['$ 239 million', 'MONEY'], [\"New York 's\", 'GPE'], ['LaGuardia', 'FAC'], ['John F. Kennedy International Airports', 'FAC'], [\"O'Hare International Airport\", 'FAC'], ['Chicago', 'GPE'], ['National Airport', 'FAC'], ['Washington', 'GPE']]\n",
      "[]\n",
      "--------------------------------------------\n",
      "90\n",
      "[['Australia', 'GPE'], ['Southern Australia', 'GPE'], ['Shandong Stock - holding Company , Ltd.', 'ORG'], ['Yellow River', 'LOC'], ['nearly 30 million US dollars', 'MONEY'], ['over 10 million US dollars', 'MONEY']]\n",
      "[]\n",
      "--------------------------------------------\n",
      "91\n",
      "[['Glenn Cox', 'PERSON'], ['Phillips Petroleum Co.', 'ORG']]\n",
      "[]\n",
      "--------------------------------------------\n",
      "92\n",
      "[['97,963', 'CARDINAL'], ['more than 3.08 billion yuan', 'MONEY'], ['10 % to 20 %', 'PERCENT'], ['the same period of the previous year', 'DATE']]\n",
      "[]\n",
      "--------------------------------------------\n",
      "93\n",
      "[['the past hour or so', 'TIME'], ['Israel', 'GPE'], ['the West Bank', 'GPE']]\n",
      "[]\n",
      "--------------------------------------------\n",
      "94\n",
      "[['Hertz', 'ORG'], ['Avis', 'ORG'], ['Budget', 'ORG'], ['Bob Wilson', 'PERSON'], ['Budget', 'ORG']]\n",
      "[]\n",
      "--------------------------------------------\n",
      "95\n",
      "[['Chen Shui - bian', 'PERSON'], ['one', 'CARDINAL'], ['China', 'GPE'], ['three', 'CARDINAL']]\n",
      "[]\n",
      "--------------------------------------------\n",
      "96\n",
      "[['House Ways and Means Committee', 'ORG'], ['the Transportation Department', 'ORG']]\n",
      "[]\n",
      "--------------------------------------------\n",
      "97\n",
      "[['Arthur Sulzberger', 'PERSON'], ['Judy Miller', 'PERSON']]\n",
      "[]\n",
      "--------------------------------------------\n",
      "98\n",
      "[['the North Koreans', 'NORP'], ['North Korea', 'GPE']]\n",
      "[]\n",
      "--------------------------------------------\n",
      "99\n",
      "[['1987', 'DATE'], ['Saturday', 'DATE'], ['Friday', 'DATE']]\n",
      "[]\n",
      "--------------------------------------------\n"
     ]
    },
    {
     "name": "stderr",
     "output_type": "stream",
     "text": [
      "\n",
      "/home/ubuntu/.local/lib/python3.10/site-packages/numpy/core/_methods.py:269: RuntimeWarning: Degrees of freedom <= 0 for slice\n",
      "  ret = _var(a, axis=axis, dtype=dtype, out=out, ddof=ddof,\n",
      "/home/ubuntu/.local/lib/python3.10/site-packages/numpy/core/_methods.py:261: RuntimeWarning: invalid value encountered in scalar divide\n",
      "  ret = ret.dtype.type(ret / rcount)\n"
     ]
    },
    {
     "data": {
      "image/png": "[encoded data removed]",
      "text/plain": [
       "<Figure size 800x600 with 2 Axes>"
      ]
     },
     "metadata": {},
     "output_type": "display_data"
    }
   ],
   "source": [
    "# ToDo \n",
    "from llm.LLMModel import *\n",
    "from ner.llm_ner.prompt_techniques.pt_abstract import PromptTechnique\n",
    "from ner.llm_ner.prompt_techniques.pt_discussion import PT_OutputList\n",
    "from ner.llm_ner.prompt_techniques.pt_gpt_ner import PT_GPT_NER\n",
    "from ner.llm_ner.prompt_techniques.pt_wrapper import PT_Wrapper\n",
    "from ner.llm_ner.prompt_techniques.pt_multi_pt import PT_2Time_Tagger\n",
    "from ner.llm_ner.few_shots_techniques import *\n",
    "from ner.llm_ner.prompts import *\n",
    "%reload_ext autoreload\n",
    "%autoreload 2\n",
    "\n",
    "\n",
    "model = MistralAI()\n",
    "plus_plus = False\n",
    "pts = [\n",
    "   #  PT_GPT_NER, \n",
    "      #  PT_OutputList, \n",
    "      #  PT_Wrapper, \n",
    "       PT_2Time_Tagger,\n",
    "      #  PT_Filing\n",
    "       ]\n",
    "results, results_df = model.classical_test_ontonote5(pts = pts, fsts = [FST_NoShots], nb_few_shots=[0], nb_run_by_test=3, plus_plus= plus_plus, test_size = 100)\n",
    "results_df\n",
    "\n",
    "\n",
    "results[0].res_insts[0].analyse_results()\n",
    "results[0].res_insts[0].show_cm()"
   ]
  },
  {
   "cell_type": "code",
   "execution_count": null,
   "metadata": {},
   "outputs": [],
   "source": [
    "# ToDo \n",
    "from llm.LLMModel import *\n",
    "from ner.llm_ner.prompt_techniques.pt_abstract import PromptTechnique\n",
    "from ner.llm_ner.prompt_techniques.pt_discussion import PT_OutputList\n",
    "from ner.llm_ner.prompt_techniques.pt_gpt_ner import PT_GPT_NER\n",
    "from ner.llm_ner.prompt_techniques.pt_wrapper import PT_Wrapper\n",
    "from ner.llm_ner.few_shots_techniques import *\n",
    "%reload_ext autoreload\n",
    "%autoreload 2\n",
    "\n",
    "model = MistralAI()\n",
    "\n",
    "results, results_df = model.classical_test(pts = [PT_Wrapper], nb_run_by_test=4)\n",
    "results_df"
   ]
  },
  {
   "cell_type": "code",
   "execution_count": null,
   "metadata": {},
   "outputs": [],
   "source": [
    "# Running\n",
    "from llm.LLMModel import *\n",
    "from ner.llm_ner.prompt_techniques.pt_abstract import PromptTechnique\n",
    "from ner.llm_ner.prompt_techniques.pt_discussion import PT_OutputList\n",
    "from ner.llm_ner.prompt_techniques.pt_gpt_ner import PT_GPT_NER\n",
    "from ner.llm_ner.prompt_techniques.pt_wrapper import PT_Wrapper\n",
    "from ner.llm_ner.few_shots_techniques import *\n",
    "%reload_ext autoreload\n",
    "%autoreload 2\n",
    "\n",
    "model = MistralAI()\n",
    "\n",
    "results, results_df = model.classical_test(pts = [PT_GPT_NER])\n",
    "results_df"
   ]
  },
  {
   "cell_type": "code",
   "execution_count": null,
   "metadata": {},
   "outputs": [],
   "source": []
  },
  {
   "cell_type": "code",
   "execution_count": null,
   "metadata": {},
   "outputs": [],
   "source": [
    "# ToDo \n",
    "from llm.LLMModel import *\n",
    "from ner.llm_ner.prompt_techniques.pt_abstract import PromptTechnique\n",
    "from ner.llm_ner.prompt_techniques.pt_discussion import PT_OutputList\n",
    "from ner.llm_ner.prompt_techniques.pt_gpt_ner import PT_GPT_NER\n",
    "from ner.llm_ner.prompt_techniques.pt_wrapper import PT_Wrapper\n",
    "from ner.llm_ner.few_shots_techniques import *\n",
    "%reload_ext autoreload\n",
    "%autoreload 2\n",
    "\n",
    "model = Llama13b()\n",
    "\n",
    "results, results_df = model.classical_test(pts = [PT_OutputList])\n",
    "results_df"
   ]
  },
  {
   "cell_type": "code",
   "execution_count": null,
   "metadata": {},
   "outputs": [],
   "source": [
    "from ner.llm_ner.prompt_techniques.pt_multi_pt import PT_Multi_PT\n",
    "from ner.llm_ner.prompt_techniques.pt_get_entities import PT_GetEntities\n",
    "from ner.llm_ner.prompt_techniques.pt_tagger import PT_Tagger\n",
    "\n",
    "from ner.llm_ner.few_shots_techniques import *\n",
    "from llm.LLMModel import *\n",
    "from ner.Datasets.Conll2003Dataset import get_test_cleaned_split\n",
    "%reload_ext autoreload\n",
    "%autoreload 2\n",
    "\n",
    "seed = 10 # random.randint(0, 1535468)\n",
    "data_train, data_test = get_test_cleaned_split(seed = seed)"
   ]
  },
  {
   "cell_type": "code",
   "execution_count": null,
   "metadata": {},
   "outputs": [],
   "source": [
    "\n",
    "fst = FST_Sentence(data_train, 3)\n",
    "pts = [PT_GetEntities(fst), PT_Tagger(fst)]\n",
    "multi_pt = PT_Multi_PT(pts)\n",
    "llm = NoLLM()"
   ]
  },
  {
   "cell_type": "code",
   "execution_count": null,
   "metadata": {},
   "outputs": [],
   "source": [
    "llm.invoke(\"Jeremy Ferrari is a french guys that lives in England\", multi_pt, None)"
   ]
  },
  {
   "cell_type": "code",
   "execution_count": null,
   "metadata": {},
   "outputs": [],
   "source": []
  }
 ],
 "metadata": {
  "kernelspec": {
   "display_name": "Python 3",
   "language": "python",
   "name": "python3"
  },
  "language_info": {
   "codemirror_mode": {
    "name": "ipython",
    "version": 3
   },
   "file_extension": ".py",
   "mimetype": "text/x-python",
   "name": "python",
   "nbconvert_exporter": "python",
   "pygments_lexer": "ipython3",
   "version": "3.10.12"
  }
 },
 "nbformat": 4,
 "nbformat_minor": 2
}
