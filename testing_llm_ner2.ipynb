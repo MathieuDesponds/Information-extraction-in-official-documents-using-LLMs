{
 "cells": [
  {
   "cell_type": "code",
   "execution_count": 1,
   "metadata": {},
   "outputs": [
    {
     "name": "stderr",
     "output_type": "stream",
     "text": [
      "[nltk_data] Downloading package stopwords to /home/ubuntu/nltk_data...\n",
      "[nltk_data]   Package stopwords is already up-to-date!\n",
      "Some weights of the model checkpoint at dslim/bert-base-NER were not used when initializing BertForTokenClassification: ['bert.pooler.dense.bias', 'bert.pooler.dense.weight']\n",
      "- This IS expected if you are initializing BertForTokenClassification from the checkpoint of a model trained on another task or with another architecture (e.g. initializing a BertForSequenceClassification model from a BertForPreTraining model).\n",
      "- This IS NOT expected if you are initializing BertForTokenClassification from the checkpoint of a model that you expect to be exactly identical (initializing a BertForSequenceClassification model from a BertForSequenceClassification model).\n",
      "[nltk_data] Downloading package punkt to /home/ubuntu/nltk_data...\n",
      "[nltk_data]   Package punkt is already up-to-date!\n",
      "[nltk_data] Downloading package averaged_perceptron_tagger to\n",
      "[nltk_data]     /home/ubuntu/nltk_data...\n",
      "[nltk_data]   Package averaged_perceptron_tagger is already up-to-\n",
      "[nltk_data]       date!\n",
      "ggml_init_cublas: found 1 CUDA devices:\n",
      "  Device 0: NVIDIA A40, compute capability 8.6\n",
      "llama_model_loader: loaded meta data with 20 key-value pairs and 291 tensors from llm/models/mistral-7b-v0.1/mistral-7b-v0.1.Q5_0.gguf (version GGUF V2 (latest))\n",
      "llama_model_loader: - tensor    0:                token_embd.weight q5_0     [  4096, 32000,     1,     1 ]\n",
      "llama_model_loader: - tensor    1:              blk.0.attn_q.weight q5_0     [  4096,  4096,     1,     1 ]\n",
      "llama_model_loader: - tensor    2:              blk.0.attn_k.weight q5_0     [  4096,  1024,     1,     1 ]\n",
      "llama_model_loader: - tensor    3:              blk.0.attn_v.weight q5_0     [  4096,  1024,     1,     1 ]\n",
      "llama_model_loader: - tensor    4:         blk.0.attn_output.weight q5_0     [  4096,  4096,     1,     1 ]\n",
      "llama_model_loader: - tensor    5:            blk.0.ffn_gate.weight q5_0     [  4096, 14336,     1,     1 ]\n",
      "llama_model_loader: - tensor    6:              blk.0.ffn_up.weight q5_0     [  4096, 14336,     1,     1 ]\n",
      "llama_model_loader: - tensor    7:            blk.0.ffn_down.weight q5_0     [ 14336,  4096,     1,     1 ]\n",
      "llama_model_loader: - tensor    8:           blk.0.attn_norm.weight f32      [  4096,     1,     1,     1 ]\n",
      "llama_model_loader: - tensor    9:            blk.0.ffn_norm.weight f32      [  4096,     1,     1,     1 ]\n",
      "llama_model_loader: - tensor   10:              blk.1.attn_q.weight q5_0     [  4096,  4096,     1,     1 ]\n",
      "llama_model_loader: - tensor   11:              blk.1.attn_k.weight q5_0     [  4096,  1024,     1,     1 ]\n",
      "llama_model_loader: - tensor   12:              blk.1.attn_v.weight q5_0     [  4096,  1024,     1,     1 ]\n",
      "llama_model_loader: - tensor   13:         blk.1.attn_output.weight q5_0     [  4096,  4096,     1,     1 ]\n",
      "llama_model_loader: - tensor   14:            blk.1.ffn_gate.weight q5_0     [  4096, 14336,     1,     1 ]\n",
      "llama_model_loader: - tensor   15:              blk.1.ffn_up.weight q5_0     [  4096, 14336,     1,     1 ]\n",
      "llama_model_loader: - tensor   16:            blk.1.ffn_down.weight q5_0     [ 14336,  4096,     1,     1 ]\n",
      "llama_model_loader: - tensor   17:           blk.1.attn_norm.weight f32      [  4096,     1,     1,     1 ]\n",
      "llama_model_loader: - tensor   18:            blk.1.ffn_norm.weight f32      [  4096,     1,     1,     1 ]\n",
      "llama_model_loader: - tensor   19:              blk.2.attn_q.weight q5_0     [  4096,  4096,     1,     1 ]\n",
      "llama_model_loader: - tensor   20:              blk.2.attn_k.weight q5_0     [  4096,  1024,     1,     1 ]\n",
      "llama_model_loader: - tensor   21:              blk.2.attn_v.weight q5_0     [  4096,  1024,     1,     1 ]\n",
      "llama_model_loader: - tensor   22:         blk.2.attn_output.weight q5_0     [  4096,  4096,     1,     1 ]\n",
      "llama_model_loader: - tensor   23:            blk.2.ffn_gate.weight q5_0     [  4096, 14336,     1,     1 ]\n",
      "llama_model_loader: - tensor   24:              blk.2.ffn_up.weight q5_0     [  4096, 14336,     1,     1 ]\n",
      "llama_model_loader: - tensor   25:            blk.2.ffn_down.weight q5_0     [ 14336,  4096,     1,     1 ]\n",
      "llama_model_loader: - tensor   26:           blk.2.attn_norm.weight f32      [  4096,     1,     1,     1 ]\n",
      "llama_model_loader: - tensor   27:            blk.2.ffn_norm.weight f32      [  4096,     1,     1,     1 ]\n",
      "llama_model_loader: - tensor   28:              blk.3.attn_q.weight q5_0     [  4096,  4096,     1,     1 ]\n",
      "llama_model_loader: - tensor   29:              blk.3.attn_k.weight q5_0     [  4096,  1024,     1,     1 ]\n",
      "llama_model_loader: - tensor   30:              blk.3.attn_v.weight q5_0     [  4096,  1024,     1,     1 ]\n",
      "llama_model_loader: - tensor   31:         blk.3.attn_output.weight q5_0     [  4096,  4096,     1,     1 ]\n",
      "llama_model_loader: - tensor   32:            blk.3.ffn_gate.weight q5_0     [  4096, 14336,     1,     1 ]\n",
      "llama_model_loader: - tensor   33:              blk.3.ffn_up.weight q5_0     [  4096, 14336,     1,     1 ]\n",
      "llama_model_loader: - tensor   34:            blk.3.ffn_down.weight q5_0     [ 14336,  4096,     1,     1 ]\n",
      "llama_model_loader: - tensor   35:           blk.3.attn_norm.weight f32      [  4096,     1,     1,     1 ]\n",
      "llama_model_loader: - tensor   36:            blk.3.ffn_norm.weight f32      [  4096,     1,     1,     1 ]\n",
      "llama_model_loader: - tensor   37:              blk.4.attn_q.weight q5_0     [  4096,  4096,     1,     1 ]\n",
      "llama_model_loader: - tensor   38:              blk.4.attn_k.weight q5_0     [  4096,  1024,     1,     1 ]\n",
      "llama_model_loader: - tensor   39:              blk.4.attn_v.weight q5_0     [  4096,  1024,     1,     1 ]\n",
      "llama_model_loader: - tensor   40:         blk.4.attn_output.weight q5_0     [  4096,  4096,     1,     1 ]\n",
      "llama_model_loader: - tensor   41:            blk.4.ffn_gate.weight q5_0     [  4096, 14336,     1,     1 ]\n",
      "llama_model_loader: - tensor   42:              blk.4.ffn_up.weight q5_0     [  4096, 14336,     1,     1 ]\n",
      "llama_model_loader: - tensor   43:            blk.4.ffn_down.weight q5_0     [ 14336,  4096,     1,     1 ]\n",
      "llama_model_loader: - tensor   44:           blk.4.attn_norm.weight f32      [  4096,     1,     1,     1 ]\n",
      "llama_model_loader: - tensor   45:            blk.4.ffn_norm.weight f32      [  4096,     1,     1,     1 ]\n",
      "llama_model_loader: - tensor   46:              blk.5.attn_q.weight q5_0     [  4096,  4096,     1,     1 ]\n",
      "llama_model_loader: - tensor   47:              blk.5.attn_k.weight q5_0     [  4096,  1024,     1,     1 ]\n",
      "llama_model_loader: - tensor   48:              blk.5.attn_v.weight q5_0     [  4096,  1024,     1,     1 ]\n",
      "llama_model_loader: - tensor   49:         blk.5.attn_output.weight q5_0     [  4096,  4096,     1,     1 ]\n",
      "llama_model_loader: - tensor   50:            blk.5.ffn_gate.weight q5_0     [  4096, 14336,     1,     1 ]\n",
      "llama_model_loader: - tensor   51:              blk.5.ffn_up.weight q5_0     [  4096, 14336,     1,     1 ]\n",
      "llama_model_loader: - tensor   52:            blk.5.ffn_down.weight q5_0     [ 14336,  4096,     1,     1 ]\n",
      "llama_model_loader: - tensor   53:           blk.5.attn_norm.weight f32      [  4096,     1,     1,     1 ]\n",
      "llama_model_loader: - tensor   54:            blk.5.ffn_norm.weight f32      [  4096,     1,     1,     1 ]\n",
      "llama_model_loader: - tensor   55:              blk.6.attn_q.weight q5_0     [  4096,  4096,     1,     1 ]\n",
      "llama_model_loader: - tensor   56:              blk.6.attn_k.weight q5_0     [  4096,  1024,     1,     1 ]\n",
      "llama_model_loader: - tensor   57:              blk.6.attn_v.weight q5_0     [  4096,  1024,     1,     1 ]\n",
      "llama_model_loader: - tensor   58:         blk.6.attn_output.weight q5_0     [  4096,  4096,     1,     1 ]\n",
      "llama_model_loader: - tensor   59:            blk.6.ffn_gate.weight q5_0     [  4096, 14336,     1,     1 ]\n",
      "llama_model_loader: - tensor   60:              blk.6.ffn_up.weight q5_0     [  4096, 14336,     1,     1 ]\n",
      "llama_model_loader: - tensor   61:            blk.6.ffn_down.weight q5_0     [ 14336,  4096,     1,     1 ]\n",
      "llama_model_loader: - tensor   62:           blk.6.attn_norm.weight f32      [  4096,     1,     1,     1 ]\n",
      "llama_model_loader: - tensor   63:            blk.6.ffn_norm.weight f32      [  4096,     1,     1,     1 ]\n",
      "llama_model_loader: - tensor   64:              blk.7.attn_q.weight q5_0     [  4096,  4096,     1,     1 ]\n",
      "llama_model_loader: - tensor   65:              blk.7.attn_k.weight q5_0     [  4096,  1024,     1,     1 ]\n",
      "llama_model_loader: - tensor   66:              blk.7.attn_v.weight q5_0     [  4096,  1024,     1,     1 ]\n",
      "llama_model_loader: - tensor   67:         blk.7.attn_output.weight q5_0     [  4096,  4096,     1,     1 ]\n",
      "llama_model_loader: - tensor   68:            blk.7.ffn_gate.weight q5_0     [  4096, 14336,     1,     1 ]\n",
      "llama_model_loader: - tensor   69:              blk.7.ffn_up.weight q5_0     [  4096, 14336,     1,     1 ]\n",
      "llama_model_loader: - tensor   70:            blk.7.ffn_down.weight q5_0     [ 14336,  4096,     1,     1 ]\n",
      "llama_model_loader: - tensor   71:           blk.7.attn_norm.weight f32      [  4096,     1,     1,     1 ]\n",
      "llama_model_loader: - tensor   72:            blk.7.ffn_norm.weight f32      [  4096,     1,     1,     1 ]\n",
      "llama_model_loader: - tensor   73:              blk.8.attn_q.weight q5_0     [  4096,  4096,     1,     1 ]\n",
      "llama_model_loader: - tensor   74:              blk.8.attn_k.weight q5_0     [  4096,  1024,     1,     1 ]\n",
      "llama_model_loader: - tensor   75:              blk.8.attn_v.weight q5_0     [  4096,  1024,     1,     1 ]\n",
      "llama_model_loader: - tensor   76:         blk.8.attn_output.weight q5_0     [  4096,  4096,     1,     1 ]\n",
      "llama_model_loader: - tensor   77:            blk.8.ffn_gate.weight q5_0     [  4096, 14336,     1,     1 ]\n",
      "llama_model_loader: - tensor   78:              blk.8.ffn_up.weight q5_0     [  4096, 14336,     1,     1 ]\n",
      "llama_model_loader: - tensor   79:            blk.8.ffn_down.weight q5_0     [ 14336,  4096,     1,     1 ]\n",
      "llama_model_loader: - tensor   80:           blk.8.attn_norm.weight f32      [  4096,     1,     1,     1 ]\n",
      "llama_model_loader: - tensor   81:            blk.8.ffn_norm.weight f32      [  4096,     1,     1,     1 ]\n",
      "llama_model_loader: - tensor   82:              blk.9.attn_q.weight q5_0     [  4096,  4096,     1,     1 ]\n",
      "llama_model_loader: - tensor   83:              blk.9.attn_k.weight q5_0     [  4096,  1024,     1,     1 ]\n",
      "llama_model_loader: - tensor   84:              blk.9.attn_v.weight q5_0     [  4096,  1024,     1,     1 ]\n",
      "llama_model_loader: - tensor   85:         blk.9.attn_output.weight q5_0     [  4096,  4096,     1,     1 ]\n",
      "llama_model_loader: - tensor   86:            blk.9.ffn_gate.weight q5_0     [  4096, 14336,     1,     1 ]\n",
      "llama_model_loader: - tensor   87:              blk.9.ffn_up.weight q5_0     [  4096, 14336,     1,     1 ]\n",
      "llama_model_loader: - tensor   88:            blk.9.ffn_down.weight q5_0     [ 14336,  4096,     1,     1 ]\n",
      "llama_model_loader: - tensor   89:           blk.9.attn_norm.weight f32      [  4096,     1,     1,     1 ]\n",
      "llama_model_loader: - tensor   90:            blk.9.ffn_norm.weight f32      [  4096,     1,     1,     1 ]\n",
      "llama_model_loader: - tensor   91:             blk.10.attn_q.weight q5_0     [  4096,  4096,     1,     1 ]\n",
      "llama_model_loader: - tensor   92:             blk.10.attn_k.weight q5_0     [  4096,  1024,     1,     1 ]\n",
      "llama_model_loader: - tensor   93:             blk.10.attn_v.weight q5_0     [  4096,  1024,     1,     1 ]\n",
      "llama_model_loader: - tensor   94:        blk.10.attn_output.weight q5_0     [  4096,  4096,     1,     1 ]\n",
      "llama_model_loader: - tensor   95:           blk.10.ffn_gate.weight q5_0     [  4096, 14336,     1,     1 ]\n",
      "llama_model_loader: - tensor   96:             blk.10.ffn_up.weight q5_0     [  4096, 14336,     1,     1 ]\n",
      "llama_model_loader: - tensor   97:           blk.10.ffn_down.weight q5_0     [ 14336,  4096,     1,     1 ]\n",
      "llama_model_loader: - tensor   98:          blk.10.attn_norm.weight f32      [  4096,     1,     1,     1 ]\n",
      "llama_model_loader: - tensor   99:           blk.10.ffn_norm.weight f32      [  4096,     1,     1,     1 ]\n",
      "llama_model_loader: - tensor  100:             blk.11.attn_q.weight q5_0     [  4096,  4096,     1,     1 ]\n",
      "llama_model_loader: - tensor  101:             blk.11.attn_k.weight q5_0     [  4096,  1024,     1,     1 ]\n",
      "llama_model_loader: - tensor  102:             blk.11.attn_v.weight q5_0     [  4096,  1024,     1,     1 ]\n",
      "llama_model_loader: - tensor  103:        blk.11.attn_output.weight q5_0     [  4096,  4096,     1,     1 ]\n",
      "llama_model_loader: - tensor  104:           blk.11.ffn_gate.weight q5_0     [  4096, 14336,     1,     1 ]\n",
      "llama_model_loader: - tensor  105:             blk.11.ffn_up.weight q5_0     [  4096, 14336,     1,     1 ]\n",
      "llama_model_loader: - tensor  106:           blk.11.ffn_down.weight q5_0     [ 14336,  4096,     1,     1 ]\n",
      "llama_model_loader: - tensor  107:          blk.11.attn_norm.weight f32      [  4096,     1,     1,     1 ]\n",
      "llama_model_loader: - tensor  108:           blk.11.ffn_norm.weight f32      [  4096,     1,     1,     1 ]\n",
      "llama_model_loader: - tensor  109:             blk.12.attn_q.weight q5_0     [  4096,  4096,     1,     1 ]\n",
      "llama_model_loader: - tensor  110:             blk.12.attn_k.weight q5_0     [  4096,  1024,     1,     1 ]\n",
      "llama_model_loader: - tensor  111:             blk.12.attn_v.weight q5_0     [  4096,  1024,     1,     1 ]\n",
      "llama_model_loader: - tensor  112:        blk.12.attn_output.weight q5_0     [  4096,  4096,     1,     1 ]\n",
      "llama_model_loader: - tensor  113:           blk.12.ffn_gate.weight q5_0     [  4096, 14336,     1,     1 ]\n",
      "llama_model_loader: - tensor  114:             blk.12.ffn_up.weight q5_0     [  4096, 14336,     1,     1 ]\n",
      "llama_model_loader: - tensor  115:           blk.12.ffn_down.weight q5_0     [ 14336,  4096,     1,     1 ]\n",
      "llama_model_loader: - tensor  116:          blk.12.attn_norm.weight f32      [  4096,     1,     1,     1 ]\n",
      "llama_model_loader: - tensor  117:           blk.12.ffn_norm.weight f32      [  4096,     1,     1,     1 ]\n",
      "llama_model_loader: - tensor  118:             blk.13.attn_q.weight q5_0     [  4096,  4096,     1,     1 ]\n",
      "llama_model_loader: - tensor  119:             blk.13.attn_k.weight q5_0     [  4096,  1024,     1,     1 ]\n",
      "llama_model_loader: - tensor  120:             blk.13.attn_v.weight q5_0     [  4096,  1024,     1,     1 ]\n",
      "llama_model_loader: - tensor  121:        blk.13.attn_output.weight q5_0     [  4096,  4096,     1,     1 ]\n",
      "llama_model_loader: - tensor  122:           blk.13.ffn_gate.weight q5_0     [  4096, 14336,     1,     1 ]\n",
      "llama_model_loader: - tensor  123:             blk.13.ffn_up.weight q5_0     [  4096, 14336,     1,     1 ]\n",
      "llama_model_loader: - tensor  124:           blk.13.ffn_down.weight q5_0     [ 14336,  4096,     1,     1 ]\n",
      "llama_model_loader: - tensor  125:          blk.13.attn_norm.weight f32      [  4096,     1,     1,     1 ]\n",
      "llama_model_loader: - tensor  126:           blk.13.ffn_norm.weight f32      [  4096,     1,     1,     1 ]\n",
      "llama_model_loader: - tensor  127:             blk.14.attn_q.weight q5_0     [  4096,  4096,     1,     1 ]\n",
      "llama_model_loader: - tensor  128:             blk.14.attn_k.weight q5_0     [  4096,  1024,     1,     1 ]\n",
      "llama_model_loader: - tensor  129:             blk.14.attn_v.weight q5_0     [  4096,  1024,     1,     1 ]\n",
      "llama_model_loader: - tensor  130:        blk.14.attn_output.weight q5_0     [  4096,  4096,     1,     1 ]\n",
      "llama_model_loader: - tensor  131:           blk.14.ffn_gate.weight q5_0     [  4096, 14336,     1,     1 ]\n",
      "llama_model_loader: - tensor  132:             blk.14.ffn_up.weight q5_0     [  4096, 14336,     1,     1 ]\n",
      "llama_model_loader: - tensor  133:           blk.14.ffn_down.weight q5_0     [ 14336,  4096,     1,     1 ]\n",
      "llama_model_loader: - tensor  134:          blk.14.attn_norm.weight f32      [  4096,     1,     1,     1 ]\n",
      "llama_model_loader: - tensor  135:           blk.14.ffn_norm.weight f32      [  4096,     1,     1,     1 ]\n",
      "llama_model_loader: - tensor  136:             blk.15.attn_q.weight q5_0     [  4096,  4096,     1,     1 ]\n",
      "llama_model_loader: - tensor  137:             blk.15.attn_k.weight q5_0     [  4096,  1024,     1,     1 ]\n",
      "llama_model_loader: - tensor  138:             blk.15.attn_v.weight q5_0     [  4096,  1024,     1,     1 ]\n",
      "llama_model_loader: - tensor  139:        blk.15.attn_output.weight q5_0     [  4096,  4096,     1,     1 ]\n",
      "llama_model_loader: - tensor  140:           blk.15.ffn_gate.weight q5_0     [  4096, 14336,     1,     1 ]\n",
      "llama_model_loader: - tensor  141:             blk.15.ffn_up.weight q5_0     [  4096, 14336,     1,     1 ]\n",
      "llama_model_loader: - tensor  142:           blk.15.ffn_down.weight q5_0     [ 14336,  4096,     1,     1 ]\n",
      "llama_model_loader: - tensor  143:          blk.15.attn_norm.weight f32      [  4096,     1,     1,     1 ]\n",
      "llama_model_loader: - tensor  144:           blk.15.ffn_norm.weight f32      [  4096,     1,     1,     1 ]\n",
      "llama_model_loader: - tensor  145:             blk.16.attn_q.weight q5_0     [  4096,  4096,     1,     1 ]\n",
      "llama_model_loader: - tensor  146:             blk.16.attn_k.weight q5_0     [  4096,  1024,     1,     1 ]\n",
      "llama_model_loader: - tensor  147:             blk.16.attn_v.weight q5_0     [  4096,  1024,     1,     1 ]\n",
      "llama_model_loader: - tensor  148:        blk.16.attn_output.weight q5_0     [  4096,  4096,     1,     1 ]\n",
      "llama_model_loader: - tensor  149:           blk.16.ffn_gate.weight q5_0     [  4096, 14336,     1,     1 ]\n",
      "llama_model_loader: - tensor  150:             blk.16.ffn_up.weight q5_0     [  4096, 14336,     1,     1 ]\n",
      "llama_model_loader: - tensor  151:           blk.16.ffn_down.weight q5_0     [ 14336,  4096,     1,     1 ]\n",
      "llama_model_loader: - tensor  152:          blk.16.attn_norm.weight f32      [  4096,     1,     1,     1 ]\n",
      "llama_model_loader: - tensor  153:           blk.16.ffn_norm.weight f32      [  4096,     1,     1,     1 ]\n",
      "llama_model_loader: - tensor  154:             blk.17.attn_q.weight q5_0     [  4096,  4096,     1,     1 ]\n",
      "llama_model_loader: - tensor  155:             blk.17.attn_k.weight q5_0     [  4096,  1024,     1,     1 ]\n",
      "llama_model_loader: - tensor  156:             blk.17.attn_v.weight q5_0     [  4096,  1024,     1,     1 ]\n",
      "llama_model_loader: - tensor  157:        blk.17.attn_output.weight q5_0     [  4096,  4096,     1,     1 ]\n",
      "llama_model_loader: - tensor  158:           blk.17.ffn_gate.weight q5_0     [  4096, 14336,     1,     1 ]\n",
      "llama_model_loader: - tensor  159:             blk.17.ffn_up.weight q5_0     [  4096, 14336,     1,     1 ]\n",
      "llama_model_loader: - tensor  160:           blk.17.ffn_down.weight q5_0     [ 14336,  4096,     1,     1 ]\n",
      "llama_model_loader: - tensor  161:          blk.17.attn_norm.weight f32      [  4096,     1,     1,     1 ]\n",
      "llama_model_loader: - tensor  162:           blk.17.ffn_norm.weight f32      [  4096,     1,     1,     1 ]\n",
      "llama_model_loader: - tensor  163:             blk.18.attn_q.weight q5_0     [  4096,  4096,     1,     1 ]\n",
      "llama_model_loader: - tensor  164:             blk.18.attn_k.weight q5_0     [  4096,  1024,     1,     1 ]\n",
      "llama_model_loader: - tensor  165:             blk.18.attn_v.weight q5_0     [  4096,  1024,     1,     1 ]\n",
      "llama_model_loader: - tensor  166:        blk.18.attn_output.weight q5_0     [  4096,  4096,     1,     1 ]\n",
      "llama_model_loader: - tensor  167:           blk.18.ffn_gate.weight q5_0     [  4096, 14336,     1,     1 ]\n",
      "llama_model_loader: - tensor  168:             blk.18.ffn_up.weight q5_0     [  4096, 14336,     1,     1 ]\n",
      "llama_model_loader: - tensor  169:           blk.18.ffn_down.weight q5_0     [ 14336,  4096,     1,     1 ]\n",
      "llama_model_loader: - tensor  170:          blk.18.attn_norm.weight f32      [  4096,     1,     1,     1 ]\n",
      "llama_model_loader: - tensor  171:           blk.18.ffn_norm.weight f32      [  4096,     1,     1,     1 ]\n",
      "llama_model_loader: - tensor  172:             blk.19.attn_q.weight q5_0     [  4096,  4096,     1,     1 ]\n",
      "llama_model_loader: - tensor  173:             blk.19.attn_k.weight q5_0     [  4096,  1024,     1,     1 ]\n",
      "llama_model_loader: - tensor  174:             blk.19.attn_v.weight q5_0     [  4096,  1024,     1,     1 ]\n",
      "llama_model_loader: - tensor  175:        blk.19.attn_output.weight q5_0     [  4096,  4096,     1,     1 ]\n",
      "llama_model_loader: - tensor  176:           blk.19.ffn_gate.weight q5_0     [  4096, 14336,     1,     1 ]\n",
      "llama_model_loader: - tensor  177:             blk.19.ffn_up.weight q5_0     [  4096, 14336,     1,     1 ]\n",
      "llama_model_loader: - tensor  178:           blk.19.ffn_down.weight q5_0     [ 14336,  4096,     1,     1 ]\n",
      "llama_model_loader: - tensor  179:          blk.19.attn_norm.weight f32      [  4096,     1,     1,     1 ]\n",
      "llama_model_loader: - tensor  180:           blk.19.ffn_norm.weight f32      [  4096,     1,     1,     1 ]\n",
      "llama_model_loader: - tensor  181:             blk.20.attn_q.weight q5_0     [  4096,  4096,     1,     1 ]\n",
      "llama_model_loader: - tensor  182:             blk.20.attn_k.weight q5_0     [  4096,  1024,     1,     1 ]\n",
      "llama_model_loader: - tensor  183:             blk.20.attn_v.weight q5_0     [  4096,  1024,     1,     1 ]\n",
      "llama_model_loader: - tensor  184:        blk.20.attn_output.weight q5_0     [  4096,  4096,     1,     1 ]\n",
      "llama_model_loader: - tensor  185:           blk.20.ffn_gate.weight q5_0     [  4096, 14336,     1,     1 ]\n",
      "llama_model_loader: - tensor  186:             blk.20.ffn_up.weight q5_0     [  4096, 14336,     1,     1 ]\n",
      "llama_model_loader: - tensor  187:           blk.20.ffn_down.weight q5_0     [ 14336,  4096,     1,     1 ]\n",
      "llama_model_loader: - tensor  188:          blk.20.attn_norm.weight f32      [  4096,     1,     1,     1 ]\n",
      "llama_model_loader: - tensor  189:           blk.20.ffn_norm.weight f32      [  4096,     1,     1,     1 ]\n",
      "llama_model_loader: - tensor  190:             blk.21.attn_q.weight q5_0     [  4096,  4096,     1,     1 ]\n",
      "llama_model_loader: - tensor  191:             blk.21.attn_k.weight q5_0     [  4096,  1024,     1,     1 ]\n",
      "llama_model_loader: - tensor  192:             blk.21.attn_v.weight q5_0     [  4096,  1024,     1,     1 ]\n",
      "llama_model_loader: - tensor  193:        blk.21.attn_output.weight q5_0     [  4096,  4096,     1,     1 ]\n",
      "llama_model_loader: - tensor  194:           blk.21.ffn_gate.weight q5_0     [  4096, 14336,     1,     1 ]\n",
      "llama_model_loader: - tensor  195:             blk.21.ffn_up.weight q5_0     [  4096, 14336,     1,     1 ]\n",
      "llama_model_loader: - tensor  196:           blk.21.ffn_down.weight q5_0     [ 14336,  4096,     1,     1 ]\n",
      "llama_model_loader: - tensor  197:          blk.21.attn_norm.weight f32      [  4096,     1,     1,     1 ]\n",
      "llama_model_loader: - tensor  198:           blk.21.ffn_norm.weight f32      [  4096,     1,     1,     1 ]\n",
      "llama_model_loader: - tensor  199:             blk.22.attn_q.weight q5_0     [  4096,  4096,     1,     1 ]\n",
      "llama_model_loader: - tensor  200:             blk.22.attn_k.weight q5_0     [  4096,  1024,     1,     1 ]\n",
      "llama_model_loader: - tensor  201:             blk.22.attn_v.weight q5_0     [  4096,  1024,     1,     1 ]\n",
      "llama_model_loader: - tensor  202:        blk.22.attn_output.weight q5_0     [  4096,  4096,     1,     1 ]\n",
      "llama_model_loader: - tensor  203:           blk.22.ffn_gate.weight q5_0     [  4096, 14336,     1,     1 ]\n",
      "llama_model_loader: - tensor  204:             blk.22.ffn_up.weight q5_0     [  4096, 14336,     1,     1 ]\n",
      "llama_model_loader: - tensor  205:           blk.22.ffn_down.weight q5_0     [ 14336,  4096,     1,     1 ]\n",
      "llama_model_loader: - tensor  206:          blk.22.attn_norm.weight f32      [  4096,     1,     1,     1 ]\n",
      "llama_model_loader: - tensor  207:           blk.22.ffn_norm.weight f32      [  4096,     1,     1,     1 ]\n",
      "llama_model_loader: - tensor  208:             blk.23.attn_q.weight q5_0     [  4096,  4096,     1,     1 ]\n",
      "llama_model_loader: - tensor  209:             blk.23.attn_k.weight q5_0     [  4096,  1024,     1,     1 ]\n",
      "llama_model_loader: - tensor  210:             blk.23.attn_v.weight q5_0     [  4096,  1024,     1,     1 ]\n",
      "llama_model_loader: - tensor  211:        blk.23.attn_output.weight q5_0     [  4096,  4096,     1,     1 ]\n",
      "llama_model_loader: - tensor  212:           blk.23.ffn_gate.weight q5_0     [  4096, 14336,     1,     1 ]\n",
      "llama_model_loader: - tensor  213:             blk.23.ffn_up.weight q5_0     [  4096, 14336,     1,     1 ]\n",
      "llama_model_loader: - tensor  214:           blk.23.ffn_down.weight q5_0     [ 14336,  4096,     1,     1 ]\n",
      "llama_model_loader: - tensor  215:          blk.23.attn_norm.weight f32      [  4096,     1,     1,     1 ]\n",
      "llama_model_loader: - tensor  216:           blk.23.ffn_norm.weight f32      [  4096,     1,     1,     1 ]\n",
      "llama_model_loader: - tensor  217:             blk.24.attn_q.weight q5_0     [  4096,  4096,     1,     1 ]\n",
      "llama_model_loader: - tensor  218:             blk.24.attn_k.weight q5_0     [  4096,  1024,     1,     1 ]\n",
      "llama_model_loader: - tensor  219:             blk.24.attn_v.weight q5_0     [  4096,  1024,     1,     1 ]\n",
      "llama_model_loader: - tensor  220:        blk.24.attn_output.weight q5_0     [  4096,  4096,     1,     1 ]\n",
      "llama_model_loader: - tensor  221:           blk.24.ffn_gate.weight q5_0     [  4096, 14336,     1,     1 ]\n",
      "llama_model_loader: - tensor  222:             blk.24.ffn_up.weight q5_0     [  4096, 14336,     1,     1 ]\n",
      "llama_model_loader: - tensor  223:           blk.24.ffn_down.weight q5_0     [ 14336,  4096,     1,     1 ]\n",
      "llama_model_loader: - tensor  224:          blk.24.attn_norm.weight f32      [  4096,     1,     1,     1 ]\n",
      "llama_model_loader: - tensor  225:           blk.24.ffn_norm.weight f32      [  4096,     1,     1,     1 ]\n",
      "llama_model_loader: - tensor  226:             blk.25.attn_q.weight q5_0     [  4096,  4096,     1,     1 ]\n",
      "llama_model_loader: - tensor  227:             blk.25.attn_k.weight q5_0     [  4096,  1024,     1,     1 ]\n",
      "llama_model_loader: - tensor  228:             blk.25.attn_v.weight q5_0     [  4096,  1024,     1,     1 ]\n",
      "llama_model_loader: - tensor  229:        blk.25.attn_output.weight q5_0     [  4096,  4096,     1,     1 ]\n",
      "llama_model_loader: - tensor  230:           blk.25.ffn_gate.weight q5_0     [  4096, 14336,     1,     1 ]\n",
      "llama_model_loader: - tensor  231:             blk.25.ffn_up.weight q5_0     [  4096, 14336,     1,     1 ]\n",
      "llama_model_loader: - tensor  232:           blk.25.ffn_down.weight q5_0     [ 14336,  4096,     1,     1 ]\n",
      "llama_model_loader: - tensor  233:          blk.25.attn_norm.weight f32      [  4096,     1,     1,     1 ]\n",
      "llama_model_loader: - tensor  234:           blk.25.ffn_norm.weight f32      [  4096,     1,     1,     1 ]\n",
      "llama_model_loader: - tensor  235:             blk.26.attn_q.weight q5_0     [  4096,  4096,     1,     1 ]\n",
      "llama_model_loader: - tensor  236:             blk.26.attn_k.weight q5_0     [  4096,  1024,     1,     1 ]\n",
      "llama_model_loader: - tensor  237:             blk.26.attn_v.weight q5_0     [  4096,  1024,     1,     1 ]\n",
      "llama_model_loader: - tensor  238:        blk.26.attn_output.weight q5_0     [  4096,  4096,     1,     1 ]\n",
      "llama_model_loader: - tensor  239:           blk.26.ffn_gate.weight q5_0     [  4096, 14336,     1,     1 ]\n",
      "llama_model_loader: - tensor  240:             blk.26.ffn_up.weight q5_0     [  4096, 14336,     1,     1 ]\n",
      "llama_model_loader: - tensor  241:           blk.26.ffn_down.weight q5_0     [ 14336,  4096,     1,     1 ]\n",
      "llama_model_loader: - tensor  242:          blk.26.attn_norm.weight f32      [  4096,     1,     1,     1 ]\n",
      "llama_model_loader: - tensor  243:           blk.26.ffn_norm.weight f32      [  4096,     1,     1,     1 ]\n",
      "llama_model_loader: - tensor  244:             blk.27.attn_q.weight q5_0     [  4096,  4096,     1,     1 ]\n",
      "llama_model_loader: - tensor  245:             blk.27.attn_k.weight q5_0     [  4096,  1024,     1,     1 ]\n",
      "llama_model_loader: - tensor  246:             blk.27.attn_v.weight q5_0     [  4096,  1024,     1,     1 ]\n",
      "llama_model_loader: - tensor  247:        blk.27.attn_output.weight q5_0     [  4096,  4096,     1,     1 ]\n",
      "llama_model_loader: - tensor  248:           blk.27.ffn_gate.weight q5_0     [  4096, 14336,     1,     1 ]\n",
      "llama_model_loader: - tensor  249:             blk.27.ffn_up.weight q5_0     [  4096, 14336,     1,     1 ]\n",
      "llama_model_loader: - tensor  250:           blk.27.ffn_down.weight q5_0     [ 14336,  4096,     1,     1 ]\n",
      "llama_model_loader: - tensor  251:          blk.27.attn_norm.weight f32      [  4096,     1,     1,     1 ]\n",
      "llama_model_loader: - tensor  252:           blk.27.ffn_norm.weight f32      [  4096,     1,     1,     1 ]\n",
      "llama_model_loader: - tensor  253:             blk.28.attn_q.weight q5_0     [  4096,  4096,     1,     1 ]\n",
      "llama_model_loader: - tensor  254:             blk.28.attn_k.weight q5_0     [  4096,  1024,     1,     1 ]\n",
      "llama_model_loader: - tensor  255:             blk.28.attn_v.weight q5_0     [  4096,  1024,     1,     1 ]\n",
      "llama_model_loader: - tensor  256:        blk.28.attn_output.weight q5_0     [  4096,  4096,     1,     1 ]\n",
      "llama_model_loader: - tensor  257:           blk.28.ffn_gate.weight q5_0     [  4096, 14336,     1,     1 ]\n",
      "llama_model_loader: - tensor  258:             blk.28.ffn_up.weight q5_0     [  4096, 14336,     1,     1 ]\n",
      "llama_model_loader: - tensor  259:           blk.28.ffn_down.weight q5_0     [ 14336,  4096,     1,     1 ]\n",
      "llama_model_loader: - tensor  260:          blk.28.attn_norm.weight f32      [  4096,     1,     1,     1 ]\n",
      "llama_model_loader: - tensor  261:           blk.28.ffn_norm.weight f32      [  4096,     1,     1,     1 ]\n",
      "llama_model_loader: - tensor  262:             blk.29.attn_q.weight q5_0     [  4096,  4096,     1,     1 ]\n",
      "llama_model_loader: - tensor  263:             blk.29.attn_k.weight q5_0     [  4096,  1024,     1,     1 ]\n",
      "llama_model_loader: - tensor  264:             blk.29.attn_v.weight q5_0     [  4096,  1024,     1,     1 ]\n",
      "llama_model_loader: - tensor  265:        blk.29.attn_output.weight q5_0     [  4096,  4096,     1,     1 ]\n",
      "llama_model_loader: - tensor  266:           blk.29.ffn_gate.weight q5_0     [  4096, 14336,     1,     1 ]\n",
      "llama_model_loader: - tensor  267:             blk.29.ffn_up.weight q5_0     [  4096, 14336,     1,     1 ]\n",
      "llama_model_loader: - tensor  268:           blk.29.ffn_down.weight q5_0     [ 14336,  4096,     1,     1 ]\n",
      "llama_model_loader: - tensor  269:          blk.29.attn_norm.weight f32      [  4096,     1,     1,     1 ]\n",
      "llama_model_loader: - tensor  270:           blk.29.ffn_norm.weight f32      [  4096,     1,     1,     1 ]\n",
      "llama_model_loader: - tensor  271:             blk.30.attn_q.weight q5_0     [  4096,  4096,     1,     1 ]\n",
      "llama_model_loader: - tensor  272:             blk.30.attn_k.weight q5_0     [  4096,  1024,     1,     1 ]\n",
      "llama_model_loader: - tensor  273:             blk.30.attn_v.weight q5_0     [  4096,  1024,     1,     1 ]\n",
      "llama_model_loader: - tensor  274:        blk.30.attn_output.weight q5_0     [  4096,  4096,     1,     1 ]\n",
      "llama_model_loader: - tensor  275:           blk.30.ffn_gate.weight q5_0     [  4096, 14336,     1,     1 ]\n",
      "llama_model_loader: - tensor  276:             blk.30.ffn_up.weight q5_0     [  4096, 14336,     1,     1 ]\n",
      "llama_model_loader: - tensor  277:           blk.30.ffn_down.weight q5_0     [ 14336,  4096,     1,     1 ]\n",
      "llama_model_loader: - tensor  278:          blk.30.attn_norm.weight f32      [  4096,     1,     1,     1 ]\n",
      "llama_model_loader: - tensor  279:           blk.30.ffn_norm.weight f32      [  4096,     1,     1,     1 ]\n",
      "llama_model_loader: - tensor  280:             blk.31.attn_q.weight q5_0     [  4096,  4096,     1,     1 ]\n",
      "llama_model_loader: - tensor  281:             blk.31.attn_k.weight q5_0     [  4096,  1024,     1,     1 ]\n",
      "llama_model_loader: - tensor  282:             blk.31.attn_v.weight q5_0     [  4096,  1024,     1,     1 ]\n",
      "llama_model_loader: - tensor  283:        blk.31.attn_output.weight q5_0     [  4096,  4096,     1,     1 ]\n",
      "llama_model_loader: - tensor  284:           blk.31.ffn_gate.weight q5_0     [  4096, 14336,     1,     1 ]\n",
      "llama_model_loader: - tensor  285:             blk.31.ffn_up.weight q5_0     [  4096, 14336,     1,     1 ]\n",
      "llama_model_loader: - tensor  286:           blk.31.ffn_down.weight q5_0     [ 14336,  4096,     1,     1 ]\n",
      "llama_model_loader: - tensor  287:          blk.31.attn_norm.weight f32      [  4096,     1,     1,     1 ]\n",
      "llama_model_loader: - tensor  288:           blk.31.ffn_norm.weight f32      [  4096,     1,     1,     1 ]\n",
      "llama_model_loader: - tensor  289:               output_norm.weight f32      [  4096,     1,     1,     1 ]\n",
      "llama_model_loader: - tensor  290:                    output.weight q6_K     [  4096, 32000,     1,     1 ]\n",
      "llama_model_loader: - kv   0:                       general.architecture str     \n",
      "llama_model_loader: - kv   1:                               general.name str     \n",
      "llama_model_loader: - kv   2:                       llama.context_length u32     \n",
      "llama_model_loader: - kv   3:                     llama.embedding_length u32     \n",
      "llama_model_loader: - kv   4:                          llama.block_count u32     \n",
      "llama_model_loader: - kv   5:                  llama.feed_forward_length u32     \n",
      "llama_model_loader: - kv   6:                 llama.rope.dimension_count u32     \n",
      "llama_model_loader: - kv   7:                 llama.attention.head_count u32     \n",
      "llama_model_loader: - kv   8:              llama.attention.head_count_kv u32     \n",
      "llama_model_loader: - kv   9:     llama.attention.layer_norm_rms_epsilon f32     \n",
      "llama_model_loader: - kv  10:                       llama.rope.freq_base f32     \n",
      "llama_model_loader: - kv  11:                          general.file_type u32     \n",
      "llama_model_loader: - kv  12:                       tokenizer.ggml.model str     \n",
      "llama_model_loader: - kv  13:                      tokenizer.ggml.tokens arr     \n",
      "llama_model_loader: - kv  14:                      tokenizer.ggml.scores arr     \n",
      "llama_model_loader: - kv  15:                  tokenizer.ggml.token_type arr     \n",
      "llama_model_loader: - kv  16:                tokenizer.ggml.bos_token_id u32     \n",
      "llama_model_loader: - kv  17:                tokenizer.ggml.eos_token_id u32     \n",
      "llama_model_loader: - kv  18:            tokenizer.ggml.unknown_token_id u32     \n",
      "llama_model_loader: - kv  19:               general.quantization_version u32     \n",
      "llama_model_loader: - type  f32:   65 tensors\n",
      "llama_model_loader: - type q5_0:  225 tensors\n",
      "llama_model_loader: - type q6_K:    1 tensors\n",
      "llm_load_print_meta: format         = GGUF V2 (latest)\n",
      "llm_load_print_meta: arch           = llama\n",
      "llm_load_print_meta: vocab type     = SPM\n",
      "llm_load_print_meta: n_vocab        = 32000\n",
      "llm_load_print_meta: n_merges       = 0\n",
      "llm_load_print_meta: n_ctx_train    = 32768\n",
      "llm_load_print_meta: n_ctx          = 2048\n",
      "llm_load_print_meta: n_embd         = 4096\n",
      "llm_load_print_meta: n_head         = 32\n",
      "llm_load_print_meta: n_head_kv      = 8\n",
      "llm_load_print_meta: n_layer        = 32\n",
      "llm_load_print_meta: n_rot          = 128\n",
      "llm_load_print_meta: n_gqa          = 4\n",
      "llm_load_print_meta: f_norm_eps     = 0.0e+00\n",
      "llm_load_print_meta: f_norm_rms_eps = 1.0e-05\n",
      "llm_load_print_meta: n_ff           = 14336\n",
      "llm_load_print_meta: freq_base      = 10000.0\n",
      "llm_load_print_meta: freq_scale     = 1\n",
      "llm_load_print_meta: model type     = 7B\n",
      "llm_load_print_meta: model ftype    = mostly Q5_0\n",
      "llm_load_print_meta: model params   = 7.24 B\n",
      "llm_load_print_meta: model size     = 4.65 GiB (5.52 BPW) \n",
      "llm_load_print_meta: general.name   = mistralai_mistral-7b-v0.1\n",
      "llm_load_print_meta: BOS token = 1 '<s>'\n",
      "llm_load_print_meta: EOS token = 2 '</s>'\n",
      "llm_load_print_meta: UNK token = 0 '<unk>'\n",
      "llm_load_print_meta: LF token  = 13 '<0x0A>'\n",
      "llm_load_tensors: ggml ctx size =    0.09 MB\n",
      "llm_load_tensors: using CUDA for GPU acceleration\n",
      "llm_load_tensors: mem required  =   86.03 MB (+  256.00 MB per state)\n",
      "llm_load_tensors: offloading 32 repeating layers to GPU\n",
      "llm_load_tensors: offloading non-repeating layers to GPU\n",
      "llm_load_tensors: offloading v cache to GPU\n",
      "llm_load_tensors: offloading k cache to GPU\n",
      "llm_load_tensors: offloaded 35/35 layers to GPU\n",
      "llm_load_tensors: VRAM used: 4936 MB\n",
      "..................................................................................................\n",
      "llama_new_context_with_model: kv self size  =  256.00 MB\n",
      "llama_new_context_with_model: compute buffer total size =  153.47 MB\n",
      "llama_new_context_with_model: VRAM scratch buffer: 152.00 MB\n"
     ]
    },
    {
     "name": "stdout",
     "output_type": "stream",
     "text": [
      "Testing with sentence\n",
      "      and discussion\n",
      "./ner/saves/datasets/ontonote5_test_1403.pkl\n"
     ]
    },
    {
     "name": "stderr",
     "output_type": "stream",
     "text": [
      "  0%|          | 0/100 [00:00<?, ?it/s]"
     ]
    },
    {
     "name": "stdout",
     "output_type": "stream",
     "text": [
      "('one', 'CARDINAL')] "
     ]
    },
    {
     "name": "stderr",
     "output_type": "stream",
     "text": [
      "  1%|          | 1/100 [00:04<06:43,  4.08s/it]"
     ]
    },
    {
     "name": "stdout",
     "output_type": "stream",
     "text": [
      "('the', 'DET'), ('United', 'NORP')] "
     ]
    },
    {
     "name": "stderr",
     "output_type": "stream",
     "text": [
      "  2%|▏         | 2/100 [00:06<05:28,  3.35s/it]"
     ]
    },
    {
     "name": "stdout",
     "output_type": "stream",
     "text": [
      "('Iraq', 'GPE')] "
     ]
    },
    {
     "name": "stderr",
     "output_type": "stream",
     "text": [
      "  3%|▎         | 3/100 [00:09<04:47,  2.97s/it]"
     ]
    },
    {
     "name": "stdout",
     "output_type": "stream",
     "text": [
      "('four', 'CARDINAL'), ('big', 'QUANTITY'), ('five', 'CARDINAL')] "
     ]
    },
    {
     "name": "stderr",
     "output_type": "stream",
     "text": [
      "  4%|▍         | 4/100 [00:13<05:14,  3.27s/it]"
     ]
    },
    {
     "name": "stdout",
     "output_type": "stream",
     "text": [
      "('During', 'TIME'), ('last week ', 'DATE')] "
     ]
    },
    {
     "name": "stderr",
     "output_type": "stream",
     "text": [
      "  5%|▌         | 5/100 [00:15<04:53,  3.09s/it]"
     ]
    },
    {
     "name": "stdout",
     "output_type": "stream",
     "text": [
      "('this quarter', 'DATE'), ('year-earlier performance', 'TIME')] "
     ]
    },
    {
     "name": "stderr",
     "output_type": "stream",
     "text": [
      "  6%|▌         | 6/100 [00:18<04:46,  3.05s/it]"
     ]
    },
    {
     "name": "stdout",
     "output_type": "stream",
     "text": [
      "('Watergate', 'GPE'), ('Charles Colson', 'PERSON')] "
     ]
    },
    {
     "name": "stderr",
     "output_type": "stream",
     "text": [
      "  7%|▋         | 7/100 [00:22<04:46,  3.08s/it]"
     ]
    },
    {
     "name": "stdout",
     "output_type": "stream",
     "text": [
      "('Mr. Heinemann', 'PERSON'), ('the changes represent', 'EVENT')] "
     ]
    },
    {
     "name": "stderr",
     "output_type": "stream",
     "text": [
      "  8%|▊         | 8/100 [00:25<04:55,  3.21s/it]"
     ]
    },
    {
     "name": "stdout",
     "output_type": "stream",
     "text": [
      "('Dongguan', 'GPE'), ('3 factories', 'CARDINAL'), ('200 tons', 'CARDINAL'), ('70 tons', 'CARDINAL'), ('180 tons', 'CARDINAL')] "
     ]
    },
    {
     "name": "stderr",
     "output_type": "stream",
     "text": [
      "  9%|▉         | 9/100 [00:30<05:37,  3.71s/it]"
     ]
    },
    {
     "name": "stdout",
     "output_type": "stream",
     "text": [
      "('China', 'GPE')] "
     ]
    },
    {
     "name": "stderr",
     "output_type": "stream",
     "text": [
      " 10%|█         | 10/100 [00:32<05:00,  3.34s/it]"
     ]
    },
    {
     "name": "stdout",
     "output_type": "stream",
     "text": [
      "('Christy Whitman', 'PERSON'), ('White House', 'ORG')] "
     ]
    },
    {
     "name": "stderr",
     "output_type": "stream",
     "text": [
      " 11%|█         | 11/100 [00:35<04:48,  3.25s/it]"
     ]
    },
    {
     "name": "stdout",
     "output_type": "stream",
     "text": [
      "('Van Nuys', 'GPE'), ('Oklahoma City', 'GPE'), ('Pontiac', 'ORG')] "
     ]
    },
    {
     "name": "stderr",
     "output_type": "stream",
     "text": [
      " 12%|█▏        | 12/100 [00:39<04:43,  3.22s/it]"
     ]
    },
    {
     "name": "stdout",
     "output_type": "stream",
     "text": [
      "('Shandong', 'GPE'), ('over 1480 projects', 'CARDINAL')] "
     ]
    },
    {
     "name": "stderr",
     "output_type": "stream",
     "text": [
      " 13%|█▎        | 13/100 [00:42<04:45,  3.29s/it]"
     ]
    },
    {
     "name": "stdout",
     "output_type": "stream",
     "text": [
      "('Hence', 'CARDINAL'), ('I', 'PERSON'), ('think', 'WORK_OF_ART'), ('this', 'ORDINAL'), (\"'s\", 'MONEY'), ('a', 'QUANTITY'), ('test', 'PRODUCT'), ('of', 'LANGUAGE'), ('e-government', 'GPE'), ('because', 'EVENT'), (',', 'PERCENT'), ('as', 'WORK_OF_ART'), (\"'m\", 'MONEY'), ('remember', 'DATE'), ('during', 'PRODUCT'), ('SARS', 'LAW'), ('in', 'FAC'), ('2003', 'TIME'), (',', 'PERCENT'), ('people', 'QUANTITY'), (\"'s\", 'MONEY'), ('at', 'WORK_OF_ART'), ('that', 'ORDINAL'), ('time', 'DATE'), ('criticized', 'EVENT'), ('e-government', 'GPE"
     ]
    },
    {
     "name": "stderr",
     "output_type": "stream",
     "text": [
      " 14%|█▍        | 14/100 [00:54<08:29,  5.93s/it]"
     ]
    },
    {
     "name": "stdout",
     "output_type": "stream",
     "text": [
      "-----------------------------------------------\n",
      "response does not contain [()]. Returned [('Hence', 'CARDINAL'), ('I', 'PERSON'), ('think', 'WORK_OF_ART'), ('this', 'ORDINAL'), (\"'s\", 'MONEY'), ('a', 'QUANTITY'), ('test', 'PRODUCT'), ('of', 'LANGUAGE'), ('e-government', 'GPE'), ('because', 'EVENT'), (',', 'PERCENT'), ('as', 'WORK_OF_ART'), (\"'m\", 'MONEY'), ('remember', 'DATE'), ('during', 'PRODUCT'), ('SARS', 'LAW'), ('in', 'FAC'), ('2003', 'TIME'), (',', 'PERCENT'), ('people', 'QUANTITY'), (\"'s\", 'MONEY'), ('at', 'WORK_OF_ART'), ('that', 'ORDINAL'), ('time', 'DATE'), ('criticized', 'EVENT'), ('e-government', 'GPE\n",
      "-----------------------------------------------\n",
      "('Jonetic', 'PERSON')] "
     ]
    },
    {
     "name": "stderr",
     "output_type": "stream",
     "text": [
      " 15%|█▌        | 15/100 [00:57<06:55,  4.89s/it]"
     ]
    },
    {
     "name": "stdout",
     "output_type": "stream",
     "text": [
      "('Linpien', 'GPE'), ('Pingtung Plain', 'FAC')] "
     ]
    },
    {
     "name": "stderr",
     "output_type": "stream",
     "text": [
      " 16%|█▌        | 16/100 [01:00<06:14,  4.45s/it]"
     ]
    },
    {
     "name": "stdout",
     "output_type": "stream",
     "text": [
      "('Beirut', 'GPE'), ('five', 'CARDINAL')] "
     ]
    },
    {
     "name": "stderr",
     "output_type": "stream",
     "text": [
      " 17%|█▋        | 17/100 [01:02<05:15,  3.80s/it]"
     ]
    },
    {
     "name": "stdout",
     "output_type": "stream",
     "text": [
      "('the 0.9 %', 'PERCENT'), ('most', 'QUANTITY')] "
     ]
    },
    {
     "name": "stderr",
     "output_type": "stream",
     "text": [
      " 18%|█▊        | 18/100 [01:06<05:04,  3.72s/it]"
     ]
    },
    {
     "name": "stdout",
     "output_type": "stream",
     "text": [
      "('Shanghai', 'GPE'), ('the latest statistics', 'DATE'), ('218 trade - oriented companies and organizations abroad', 'PRODUCT'), ('6 regional overseas group companies', 'ORG'), ('overseas non-trade enterprises reaching 260 with a total investment of 200 million US dollars', 'MONEY')] "
     ]
    },
    {
     "name": "stderr",
     "output_type": "stream",
     "text": [
      " 19%|█▉        | 19/100 [01:12<05:55,  4.38s/it]"
     ]
    },
    {
     "name": "stdout",
     "output_type": "stream",
     "text": [
      "('Scooter Libby', 'PERSON')] "
     ]
    },
    {
     "name": "stderr",
     "output_type": "stream",
     "text": [
      " 20%|██        | 20/100 [01:14<05:09,  3.87s/it]"
     ]
    },
    {
     "name": "stdout",
     "output_type": "stream",
     "text": [
      "('the United States', 'GPE'), ('six', 'CARDINAL')] "
     ]
    },
    {
     "name": "stderr",
     "output_type": "stream",
     "text": [
      " 21%|██        | 21/100 [01:17<04:46,  3.63s/it]"
     ]
    },
    {
     "name": "stdout",
     "output_type": "stream",
     "text": [
      "('Royal Trustco Ltd.', 'ORG'), ('Costa Mesa', 'GPE'), ('Calif.'), ('$ 949 million', 'MONEY')] "
     ]
    },
    {
     "name": "stderr",
     "output_type": "stream",
     "text": [
      " 22%|██▏       | 22/100 [01:22<05:01,  3.87s/it]"
     ]
    },
    {
     "name": "stdout",
     "output_type": "stream",
     "text": [
      "('According to official journals published recently by Mexico 's Treasury Department', 'ORG'), ('Mexico ', 'GPE'), ('the foreign trade in 1997 continued to grow rapidly', 'EVENT'), ('220.178 billion US dollars', 'MONEY'), ('18.85 % higher than that of the previous year', 'PERCENT'), ('and within that the amount of exports was 110.380 billion US dollars', 'DATE'), ('the amount of imports was 109.798 billion US dollars', 'MONEY'), ('15 % and 22.7 % higher than 1996 , respectively .', 'PERCENT')] "
     ]
    },
    {
     "name": "stderr",
     "output_type": "stream",
     "text": [
      " 23%|██▎       | 23/100 [01:32<07:34,  5.90s/it]"
     ]
    },
    {
     "name": "stdout",
     "output_type": "stream",
     "text": [
      "('month', 'DATE'), ('current', 'WORK_OF_ART')] "
     ]
    },
    {
     "name": "stderr",
     "output_type": "stream",
     "text": [
      " 24%|██▍       | 24/100 [01:35<06:14,  4.93s/it]"
     ]
    },
    {
     "name": "stdout",
     "output_type": "stream",
     "text": [
      "('five', 'CARDINAL'), ('zero', 'ORDINAL')] "
     ]
    },
    {
     "name": "stderr",
     "output_type": "stream",
     "text": [
      " 25%|██▌       | 25/100 [01:38<05:25,  4.34s/it]"
     ]
    },
    {
     "name": "stdout",
     "output_type": "stream",
     "text": [
      "('January', 'DATE'), ('November', 'DATE'), ('the new Pudong region ', 'GPE'), ('2.8 billion US dollars', 'MONEY')] "
     ]
    },
    {
     "name": "stderr",
     "output_type": "stream",
     "text": [
      " 26%|██▌       | 26/100 [01:43<05:34,  4.52s/it]"
     ]
    },
    {
     "name": "stdout",
     "output_type": "stream",
     "text": [
      "('Federal Reserve', 'ORG')] "
     ]
    },
    {
     "name": "stderr",
     "output_type": "stream",
     "text": [
      " 27%|██▋       | 27/100 [01:46<04:55,  4.04s/it]"
     ]
    },
    {
     "name": "stdout",
     "output_type": "stream",
     "text": [
      "('wow', 'INTJ')] "
     ]
    },
    {
     "name": "stderr",
     "output_type": "stream",
     "text": [
      " 28%|██▊       | 28/100 [01:49<04:20,  3.62s/it]"
     ]
    },
    {
     "name": "stdout",
     "output_type": "stream",
     "text": [
      "('Young & Rubicam', 'ORG'), ('New Haven', 'GPE')] "
     ]
    },
    {
     "name": "stderr",
     "output_type": "stream",
     "text": [
      " 29%|██▉       | 29/100 [01:53<04:26,  3.76s/it]"
     ]
    },
    {
     "name": "stdout",
     "output_type": "stream",
     "text": [
      "('Linpien', 'GPE'), ('eight or nine years ago', 'DATE')] "
     ]
    },
    {
     "name": "stderr",
     "output_type": "stream",
     "text": [
      " 30%|███       | 30/100 [01:56<04:09,  3.56s/it]"
     ]
    },
    {
     "name": "stdout",
     "output_type": "stream",
     "text": [
      "('August', 'DATE'), ('US', 'GPE')] "
     ]
    },
    {
     "name": "stderr",
     "output_type": "stream",
     "text": [
      " 31%|███       | 31/100 [02:00<04:11,  3.64s/it]"
     ]
    },
    {
     "name": "stdout",
     "output_type": "stream",
     "text": [
      "('last year', 'DATE'), ('the Tianjin Port Bonded Area', 'GPE'), ('850 million US dollars', 'MONEY'), ('72 % over the same period of the previous year', 'PERCENT')] "
     ]
    },
    {
     "name": "stderr",
     "output_type": "stream",
     "text": [
      " 32%|███▏      | 32/100 [02:06<05:07,  4.52s/it]"
     ]
    },
    {
     "name": "stdout",
     "output_type": "stream",
     "text": [
      "('Friday', 'DATE'), ('last week ', 'DATE')] "
     ]
    },
    {
     "name": "stderr",
     "output_type": "stream",
     "text": [
      " 33%|███▎      | 33/100 [02:09<04:38,  4.15s/it]"
     ]
    },
    {
     "name": "stdout",
     "output_type": "stream",
     "text": [
      "('Weatherford', 'ORG'), ('October 1985', 'DATE')] "
     ]
    },
    {
     "name": "stderr",
     "output_type": "stream",
     "text": [
      " 34%|███▍      | 34/100 [02:14<04:34,  4.15s/it]"
     ]
    },
    {
     "name": "stdout",
     "output_type": "stream",
     "text": [
      "('bonded zone', 'FAC'), ('information highway', 'WORK_OF_ART')] "
     ]
    },
    {
     "name": "stderr",
     "output_type": "stream",
     "text": [
      " 35%|███▌      | 35/100 [02:18<04:33,  4.20s/it]"
     ]
    },
    {
     "name": "stdout",
     "output_type": "stream",
     "text": [
      "('Oklahoma City', 'GPE'), ('A - body mid-sized cars', 'PRODUCT')] "
     ]
    },
    {
     "name": "stderr",
     "output_type": "stream",
     "text": [
      " 36%|███▌      | 36/100 [02:23<04:46,  4.47s/it]"
     ]
    },
    {
     "name": "stdout",
     "output_type": "stream",
     "text": [
      "('four', 'CARDINAL'), ('recent', 'DATE')] "
     ]
    },
    {
     "name": "stderr",
     "output_type": "stream",
     "text": [
      " 37%|███▋      | 37/100 [02:27<04:29,  4.28s/it]"
     ]
    },
    {
     "name": "stdout",
     "output_type": "stream",
     "text": [
      "('Li Yung', 'PERSON'), ('Tanshui', 'GPE')] "
     ]
    },
    {
     "name": "stderr",
     "output_type": "stream",
     "text": [
      " 38%|███▊      | 38/100 [02:32<04:33,  4.42s/it]"
     ]
    },
    {
     "name": "stdout",
     "output_type": "stream",
     "text": [
      "('Brazil', 'GPE'), ('$ 1.34', 'MONEY')] "
     ]
    },
    {
     "name": "stderr",
     "output_type": "stream",
     "text": [
      " 39%|███▉      | 39/100 [02:36<04:32,  4.46s/it]"
     ]
    },
    {
     "name": "stdout",
     "output_type": "stream",
     "text": [
      "('$', 'MONEY'), ('60', 'CARDINAL')] "
     ]
    },
    {
     "name": "stderr",
     "output_type": "stream",
     "text": [
      " 40%|████      | 40/100 [02:40<04:17,  4.30s/it]"
     ]
    },
    {
     "name": "stdout",
     "output_type": "stream",
     "text": [
      "('really', 'CARDINAL'), ('a foreign land', 'GPE')] "
     ]
    },
    {
     "name": "stderr",
     "output_type": "stream",
     "text": [
      " 41%|████      | 41/100 [02:44<04:14,  4.31s/it]"
     ]
    },
    {
     "name": "stdout",
     "output_type": "stream",
     "text": [
      "('Beijing', 'GPE'), ('minus 3 degrees', 'QUANTITY')] "
     ]
    },
    {
     "name": "stderr",
     "output_type": "stream",
     "text": [
      " 42%|████▏     | 42/100 [02:49<04:17,  4.44s/it]"
     ]
    },
    {
     "name": "stdout",
     "output_type": "stream",
     "text": [
      "('It', 'WORK_OF_ART'), ('boundless industrial park', 'ORG')] "
     ]
    },
    {
     "name": "stderr",
     "output_type": "stream",
     "text": [
      " 43%|████▎     | 43/100 [02:54<04:22,  4.61s/it]"
     ]
    },
    {
     "name": "stdout",
     "output_type": "stream",
     "text": [
      "('1', 'CARDINAL'), ('%', 'PERCENT')] "
     ]
    },
    {
     "name": "stderr",
     "output_type": "stream",
     "text": [
      " 44%|████▍     | 44/100 [02:58<04:00,  4.30s/it]"
     ]
    },
    {
     "name": "stdout",
     "output_type": "stream",
     "text": [
      "('David', 'PERSON'), ('POW', 'ORG')] "
     ]
    },
    {
     "name": "stderr",
     "output_type": "stream",
     "text": [
      " 45%|████▌     | 45/100 [03:02<03:49,  4.17s/it]"
     ]
    },
    {
     "name": "stdout",
     "output_type": "stream",
     "text": [
      "('Arianna Huffington', 'PERSON'), ('the Times piece a lengthy piece', 'WORK_OF_ART'), (\"Judy Miller was\", 'PERSON'), ('WMD reporting', 'EVENT'), ('two years ago', 'DATE')] "
     ]
    },
    {
     "name": "stderr",
     "output_type": "stream",
     "text": [
      " 46%|████▌     | 46/100 [03:09<04:40,  5.20s/it]"
     ]
    },
    {
     "name": "stdout",
     "output_type": "stream",
     "text": [
      "('He', 'PERSON'), ('U.S.', 'GPE')] "
     ]
    },
    {
     "name": "stderr",
     "output_type": "stream",
     "text": [
      " 47%|████▋     | 47/100 [03:13<04:13,  4.79s/it]"
     ]
    },
    {
     "name": "stdout",
     "output_type": "stream",
     "text": [
      "('Time Warner Inc. 's', 'ORG'), ('weekly magazine', 'FAC'), (\"executives at\", 'PERSON'), ('last week', 'DATE')] "
     ]
    },
    {
     "name": "stderr",
     "output_type": "stream",
     "text": [
      " 48%|████▊     | 48/100 [03:19<04:33,  5.26s/it]"
     ]
    },
    {
     "name": "stdout",
     "output_type": "stream",
     "text": [
      "('the US', 'GPE'), ('Westinghouse Company', 'ORG'), ('Shanghai Electric Group', 'ORG'), ('General Electric Capital Company', 'ORG'), ('Shanghai Electricity Company', 'ORG')] "
     ]
    },
    {
     "name": "stderr",
     "output_type": "stream",
     "text": [
      " 49%|████▉     | 49/100 [03:26<04:53,  5.75s/it]"
     ]
    },
    {
     "name": "stdout",
     "output_type": "stream",
     "text": [
      "('The FBI', 'ORG'), ('when they questioned him', 'TIME'), (\"another plot\", 'EVENT'), ('to bomb', 'WORK_OF_ART'), ('an American ship', 'PRODUCT'), ('Yemen', 'GPE')] "
     ]
    },
    {
     "name": "stderr",
     "output_type": "stream",
     "text": [
      " 50%|█████     | 50/100 [03:34<05:14,  6.29s/it]"
     ]
    },
    {
     "name": "stdout",
     "output_type": "stream",
     "text": [
      "('Export credits', 'ORG'), ('international financing leaseholds', 'ORG'), (\"compensation trades with\", 'ORG'), ('foreign exchange repayment methods', 'ORG'), ('overseas institution ', 'ORG'), ('individual ', 'ORG'), ('project financing', 'ORG'), ('financing under trade projects over 90 days', 'ORG')] "
     ]
    },
    {
     "name": "stderr",
     "output_type": "stream",
     "text": [
      " 51%|█████     | 51/100 [03:43<05:50,  7.16s/it]"
     ]
    },
    {
     "name": "stdout",
     "output_type": "stream",
     "text": [
      "('We', 'NORP'), ('bloodshed', 'DATE')] "
     ]
    },
    {
     "name": "stderr",
     "output_type": "stream",
     "text": [
      " 52%|█████▏    | 52/100 [03:47<04:58,  6.22s/it]"
     ]
    },
    {
     "name": "stdout",
     "output_type": "stream",
     "text": [
      "('Rod Perth', 'PERSON')] "
     ]
    },
    {
     "name": "stderr",
     "output_type": "stream",
     "text": [
      " 53%|█████▎    | 53/100 [03:51<04:15,  5.44s/it]"
     ]
    },
    {
     "name": "stdout",
     "output_type": "stream",
     "text": [
      "('self', 'PERSON'), ('critical', 'WORK_OF_ART')] "
     ]
    },
    {
     "name": "stderr",
     "output_type": "stream",
     "text": [
      " 54%|█████▍    | 54/100 [03:55<03:52,  5.05s/it]"
     ]
    },
    {
     "name": "stdout",
     "output_type": "stream",
     "text": [
      "('LA', 'GPE'), ('legal status', 'EVENT')] "
     ]
    },
    {
     "name": "stderr",
     "output_type": "stream",
     "text": [
      " 55%|█████▌    | 55/100 [03:58<03:25,  4.58s/it]"
     ]
    },
    {
     "name": "stdout",
     "output_type": "stream",
     "text": [
      "('Bashar Al - Assad', 'PERSON'), ('Israel', 'GPE')] "
     ]
    },
    {
     "name": "stderr",
     "output_type": "stream",
     "text": [
      " 56%|█████▌    | 56/100 [04:03<03:23,  4.62s/it]"
     ]
    },
    {
     "name": "stdout",
     "output_type": "stream",
     "text": [
      "('Unseasonably hot', 'DATE'), ('dry weather', 'QUANTITY'), ('large portions', 'QUANTITY'), ('the Great Plains ', 'LOC')] "
     ]
    },
    {
     "name": "stderr",
     "output_type": "stream",
     "text": [
      " 57%|█████▋    | 57/100 [04:09<03:34,  4.98s/it]"
     ]
    },
    {
     "name": "stdout",
     "output_type": "stream",
     "text": [
      "('Taiwan', 'GPE'), ('journalistic', 'NORP')] "
     ]
    },
    {
     "name": "stderr",
     "output_type": "stream",
     "text": [
      " 58%|█████▊    | 58/100 [04:13<03:14,  4.63s/it]"
     ]
    },
    {
     "name": "stdout",
     "output_type": "stream",
     "text": [
      "('China', 'GPE'), ('vast majority', 'QUANTITY')] "
     ]
    },
    {
     "name": "stderr",
     "output_type": "stream",
     "text": [
      " 59%|█████▉    | 59/100 [04:17<03:02,  4.46s/it]"
     ]
    },
    {
     "name": "stdout",
     "output_type": "stream",
     "text": [
      "('US', 'GPE'), ('Japan', 'GPE')] "
     ]
    },
    {
     "name": "stderr",
     "output_type": "stream",
     "text": [
      " 60%|██████    | 60/100 [04:21<02:58,  4.46s/it]"
     ]
    },
    {
     "name": "stdout",
     "output_type": "stream",
     "text": [
      "('In', 'TIME'), ('the last two years', 'DATE'), (\"he has led\", 'PERSON'), ('the task force', 'ORG'), ('to conduct many field interviews and investigations on left - behind children in numerous rural areas in central and western China , including Shaanxi , Ningxia , Hebei , and Beijing .', 'EVENT')] "
     ]
    },
    {
     "name": "stderr",
     "output_type": "stream",
     "text": [
      " 61%|██████    | 61/100 [04:30<03:42,  5.69s/it]"
     ]
    },
    {
     "name": "stdout",
     "output_type": "stream",
     "text": [
      "('November', 'DATE'), ('Lee Yuan - tseh', 'PERSON')] "
     ]
    },
    {
     "name": "stderr",
     "output_type": "stream",
     "text": [
      " 62%|██████▏   | 62/100 [04:35<03:26,  5.43s/it]"
     ]
    },
    {
     "name": "stdout",
     "output_type": "stream",
     "text": [
      "('dancer', 'PERSON')] "
     ]
    },
    {
     "name": "stderr",
     "output_type": "stream",
     "text": [
      " 63%|██████▎   | 63/100 [04:38<02:58,  4.82s/it]"
     ]
    },
    {
     "name": "stdout",
     "output_type": "stream",
     "text": [
      "('the North Koreans', 'NORP')] "
     ]
    },
    {
     "name": "stderr",
     "output_type": "stream",
     "text": [
      " 64%|██████▍   | 64/100 [04:41<02:37,  4.36s/it]"
     ]
    },
    {
     "name": "stdout",
     "output_type": "stream",
     "text": [
      "('3,000', 'CARDINAL'), ('Taiwan', 'GPE'), ('Dongguan', 'GPE')] "
     ]
    },
    {
     "name": "stderr",
     "output_type": "stream",
     "text": [
      " 65%|██████▌   | 65/100 [04:47<02:49,  4.84s/it]"
     ]
    },
    {
     "name": "stdout",
     "output_type": "stream",
     "text": [
      "('The', 'ORDINAL'), ('new', 'WORK_OF_ART')] "
     ]
    },
    {
     "name": "stderr",
     "output_type": "stream",
     "text": [
      " 66%|██████▌   | 66/100 [04:51<02:36,  4.59s/it]"
     ]
    },
    {
     "name": "stdout",
     "output_type": "stream",
     "text": [
      "('Taichung', 'GPE'), ('Ah - shui Shih ', 'NORP'), ('Yungho Soy Milk', 'PRODUCT')] "
     ]
    },
    {
     "name": "stderr",
     "output_type": "stream",
     "text": [
      " 67%|██████▋   | 67/100 [04:56<02:38,  4.79s/it]"
     ]
    },
    {
     "name": "stdout",
     "output_type": "stream",
     "text": [
      "('Students', 'PERSON'), ('motorcycles', 'PRODUCT')] "
     ]
    },
    {
     "name": "stderr",
     "output_type": "stream",
     "text": [
      " 68%|██████▊   | 68/100 [05:01<02:26,  4.59s/it]"
     ]
    },
    {
     "name": "stdout",
     "output_type": "stream",
     "text": [
      "('Lee Teng - hui', 'PERSON'), ('1983', 'DATE')] "
     ]
    },
    {
     "name": "stderr",
     "output_type": "stream",
     "text": [
      " 69%|██████▉   | 69/100 [05:06<02:25,  4.71s/it]"
     ]
    },
    {
     "name": "stdout",
     "output_type": "stream",
     "text": [
      "('west', 'GPE')] "
     ]
    },
    {
     "name": "stderr",
     "output_type": "stream",
     "text": [
      " 70%|███████   | 70/100 [05:08<02:04,  4.16s/it]"
     ]
    },
    {
     "name": "stdout",
     "output_type": "stream",
     "text": [
      "('Formosa', 'GPE'), ('Plastics', 'PRODUCT')] "
     ]
    },
    {
     "name": "stderr",
     "output_type": "stream",
     "text": [
      " 71%|███████   | 71/100 [05:12<01:55,  4.00s/it]"
     ]
    },
    {
     "name": "stdout",
     "output_type": "stream",
     "text": [
      "('the North Koreans', 'NORP')] "
     ]
    },
    {
     "name": "stderr",
     "output_type": "stream",
     "text": [
      " 72%|███████▏  | 72/100 [05:16<01:48,  3.87s/it]"
     ]
    },
    {
     "name": "stdout",
     "output_type": "stream",
     "text": [
      "('India', 'GPE')] "
     ]
    },
    {
     "name": "stderr",
     "output_type": "stream",
     "text": [
      " 73%|███████▎  | 73/100 [05:19<01:39,  3.68s/it]"
     ]
    },
    {
     "name": "stdout",
     "output_type": "stream",
     "text": [
      "('Aug', 'DATE'), ('1989', 'DATE')] "
     ]
    },
    {
     "name": "stderr",
     "output_type": "stream",
     "text": [
      " 74%|███████▍  | 74/100 [05:23<01:36,  3.72s/it]"
     ]
    },
    {
     "name": "stdout",
     "output_type": "stream",
     "text": [
      "('Iraq', 'GPE'), ('the United Nations', 'ORG')] "
     ]
    },
    {
     "name": "stderr",
     "output_type": "stream",
     "text": [
      " 75%|███████▌  | 75/100 [05:26<01:32,  3.72s/it]"
     ]
    },
    {
     "name": "stdout",
     "output_type": "stream",
     "text": [
      "('We', 'PRON'), ('make', 'VERB'), ('our', 'DET'), ('money', 'NORP'), ('here', 'ADV'), ('but', 'CONJUNCTION'), ('we', 'PRON'), ('pay', 'VERB'), ('taxes', 'NORP'), ('in', 'PREPOSITION'), ('Taiwan', 'GPE')] "
     ]
    },
    {
     "name": "stderr",
     "output_type": "stream",
     "text": [
      " 76%|███████▌  | 76/100 [05:36<02:12,  5.53s/it]"
     ]
    },
    {
     "name": "stdout",
     "output_type": "stream",
     "text": [
      "('this year', 'DATE'), ('the spirit of National Economy Work Conference', 'ORG')] "
     ]
    },
    {
     "name": "stderr",
     "output_type": "stream",
     "text": [
      " 77%|███████▋  | 77/100 [05:41<01:59,  5.20s/it]"
     ]
    },
    {
     "name": "stdout",
     "output_type": "stream",
     "text": [
      "('Republican', 'NORP'), ('senators', 'NORP')] "
     ]
    },
    {
     "name": "stderr",
     "output_type": "stream",
     "text": [
      " 78%|███████▊  | 78/100 [05:45<01:46,  4.86s/it]"
     ]
    },
    {
     "name": "stdout",
     "output_type": "stream",
     "text": [
      "('It', 'CARDINAL'), ('is', 'WORK_OF_ART')] "
     ]
    },
    {
     "name": "stderr",
     "output_type": "stream",
     "text": [
      " 79%|███████▉  | 79/100 [05:49<01:37,  4.63s/it]"
     ]
    },
    {
     "name": "stdout",
     "output_type": "stream",
     "text": [
      "('Chinese', 'NORP'), ('20 %', 'PERCENT')] "
     ]
    },
    {
     "name": "stderr",
     "output_type": "stream",
     "text": [
      " 80%|████████  | 80/100 [05:53<01:32,  4.61s/it]"
     ]
    },
    {
     "name": "stdout",
     "output_type": "stream",
     "text": [
      "('CIA', 'ORG'), ('Pentagon', 'ORG')] "
     ]
    },
    {
     "name": "stderr",
     "output_type": "stream",
     "text": [
      " 81%|████████  | 81/100 [05:57<01:20,  4.25s/it]"
     ]
    },
    {
     "name": "stdout",
     "output_type": "stream",
     "text": [
      "('It', 'CARDINAL'), ('story', 'WORK_OF_ART')] "
     ]
    },
    {
     "name": "stderr",
     "output_type": "stream",
     "text": [
      " 82%|████████▏ | 82/100 [06:02<01:20,  4.46s/it]"
     ]
    },
    {
     "name": "stdout",
     "output_type": "stream",
     "text": [
      "('Time', 'ORG'), ('the guaranteed circulation base', 'DATE')] "
     ]
    },
    {
     "name": "stderr",
     "output_type": "stream",
     "text": [
      " 83%|████████▎ | 83/100 [06:06<01:13,  4.29s/it]"
     ]
    },
    {
     "name": "stdout",
     "output_type": "stream",
     "text": [
      "('first', 'CARDINAL'), ('the 83 ', 'DATE'), ('justice', 'PERSON')] "
     ]
    },
    {
     "name": "stderr",
     "output_type": "stream",
     "text": [
      " 84%|████████▍ | 84/100 [06:10<01:10,  4.43s/it]"
     ]
    },
    {
     "name": "stdout",
     "output_type": "stream",
     "text": [
      "('Rumsfeld', 'PERSON'), ('we', 'PRONOUN'), ('them', 'PRONOUN')] "
     ]
    },
    {
     "name": "stderr",
     "output_type": "stream",
     "text": [
      " 85%|████████▌ | 85/100 [06:14<01:04,  4.32s/it]"
     ]
    },
    {
     "name": "stdout",
     "output_type": "stream",
     "text": [
      "('In', 'TIME'), ('a separate first person account Miller confirmed that she told the grand jury that Scooter Libby Dick Cheney ', 'PERSON'), ('Dick Cheney ', 'PERSON'), ('top aide discussed with her as many as three times the role of Valerie Plame as a CIA employee', 'EVENT')] "
     ]
    },
    {
     "name": "stderr",
     "output_type": "stream",
     "text": [
      " 86%|████████▌ | 86/100 [06:23<01:19,  5.68s/it]"
     ]
    },
    {
     "name": "stdout",
     "output_type": "stream",
     "text": [
      "('It', 'PERSON'), ('is', 'MONEY'), ('not', 'PRODUCT'), ('only', 'CARDINAL'), ('for', 'WORK_OF_ART'), (',', 'ORDINAL'), ('this', 'QUANTITY'), ('kind', 'GPE'), ('of', 'LAW'), ('sudden', 'PERSON'), ('road', 'MONEY'), ('cave', 'CARDINAL'), ('-', 'PRODUCT'), ('in', 'WORK_OF_ART'), (',', 'ORDINAL'), ('it', 'QUANTITY'), ('also', 'GPE'), ('includes', 'PERSON'), ',', ('for', 'WORK_OF_ART'), ('instance', 'CARDINAL'), (',', 'ORDINAL'), ('security', 'PRODUCT'), ('incidents', 'MONEY'), (',', 'ORDINAL'), ('ah', 'GPE'), , ('in', 'WORK_OF_ART'),"
     ]
    },
    {
     "name": "stderr",
     "output_type": "stream",
     "text": [
      " 87%|████████▋ | 87/100 [06:42<02:03,  9.53s/it]"
     ]
    },
    {
     "name": "stdout",
     "output_type": "stream",
     "text": [
      "-----------------------------------------------\n",
      "response does not contain [()]. Returned [('It', 'PERSON'), ('is', 'MONEY'), ('not', 'PRODUCT'), ('only', 'CARDINAL'), ('for', 'WORK_OF_ART'), (',', 'ORDINAL'), ('this', 'QUANTITY'), ('kind', 'GPE'), ('of', 'LAW'), ('sudden', 'PERSON'), ('road', 'MONEY'), ('cave', 'CARDINAL'), ('-', 'PRODUCT'), ('in', 'WORK_OF_ART'), (',', 'ORDINAL'), ('it', 'QUANTITY'), ('also', 'GPE'), ('includes', 'PERSON'), ',', ('for', 'WORK_OF_ART'), ('instance', 'CARDINAL'), (',', 'ORDINAL'), ('security', 'PRODUCT'), ('incidents', 'MONEY'), (',', 'ORDINAL'), ('ah', 'GPE'), , ('in', 'WORK_OF_ART'),\n",
      "-----------------------------------------------\n",
      "('Martin Luther King', 'PERSON'), ('the 1963 March on Washington', 'EVENT')] "
     ]
    },
    {
     "name": "stderr",
     "output_type": "stream",
     "text": [
      " 88%|████████▊ | 88/100 [06:46<01:36,  8.02s/it]"
     ]
    },
    {
     "name": "stdout",
     "output_type": "stream",
     "text": [
      "('Sunbelt', 'ORG'), ('Valley Ranch', 'FAC')] "
     ]
    },
    {
     "name": "stderr",
     "output_type": "stream",
     "text": [
      " 89%|████████▉ | 89/100 [06:51<01:17,  7.03s/it]"
     ]
    },
    {
     "name": "stdout",
     "output_type": "stream",
     "text": [
      "('$ 239 million', 'MONEY'), ('New York ', 'GPE')] "
     ]
    },
    {
     "name": "stderr",
     "output_type": "stream",
     "text": [
      " 90%|█████████ | 90/100 [06:55<01:01,  6.14s/it]"
     ]
    },
    {
     "name": "stdout",
     "output_type": "stream",
     "text": [
      "('Australia 's', 'GPE'), ('Southern Australia -- Shandong Stock - holding Company , Ltd.', 'ORG')] "
     ]
    },
    {
     "name": "stderr",
     "output_type": "stream",
     "text": [
      " 91%|█████████ | 91/100 [07:00<00:51,  5.78s/it]"
     ]
    },
    {
     "name": "stdout",
     "output_type": "stream",
     "text": [
      "('The', 'DET'), ('industry', 'ORG')] "
     ]
    },
    {
     "name": "stderr",
     "output_type": "stream",
     "text": [
      " 92%|█████████▏| 92/100 [07:04<00:41,  5.17s/it]"
     ]
    },
    {
     "name": "stdout",
     "output_type": "stream",
     "text": [
      "('97,963', 'QUANTITY'), ('more than 3.08 billion yuan', 'MONEY')] "
     ]
    },
    {
     "name": "stderr",
     "output_type": "stream",
     "text": [
      " 93%|█████████▎| 93/100 [07:09<00:37,  5.33s/it]"
     ]
    },
    {
     "name": "stdout",
     "output_type": "stream",
     "text": [
      "('As', 'CARDINAL'), ('we ', 'PRON'), ('been', 'VERB'), ('reporting' , 'NORP')] "
     ]
    },
    {
     "name": "stderr",
     "output_type": "stream",
     "text": [
      " 94%|█████████▍| 94/100 [07:15<00:31,  5.25s/it]"
     ]
    },
    {
     "name": "stdout",
     "output_type": "stream",
     "text": [
      "('Hertz', 'ORG'), ('Avis', 'ORG')] "
     ]
    },
    {
     "name": "stderr",
     "output_type": "stream",
     "text": [
      " 95%|█████████▌| 95/100 [07:19<00:25,  5.01s/it]"
     ]
    },
    {
     "name": "stdout",
     "output_type": "stream",
     "text": [
      "('Chen Shui - bian', 'PERSON'), ('one', 'CARDINAL'), ('China', 'GPE')] "
     ]
    },
    {
     "name": "stderr",
     "output_type": "stream",
     "text": [
      " 96%|█████████▌| 96/100 [07:24<00:20,  5.10s/it]"
     ]
    },
    {
     "name": "stdout",
     "output_type": "stream",
     "text": [
      "('House', 'GPE'), ('Ways', 'NORP')] "
     ]
    },
    {
     "name": "stderr",
     "output_type": "stream",
     "text": [
      " 97%|█████████▋| 97/100 [07:28<00:13,  4.62s/it]"
     ]
    },
    {
     "name": "stdout",
     "output_type": "stream",
     "text": [
      "('Arthur Sulzberger', 'PERSON'), ('Judy Miller', 'PERSON')] "
     ]
    },
    {
     "name": "stderr",
     "output_type": "stream",
     "text": [
      " 98%|█████████▊| 98/100 [07:33<00:09,  4.69s/it]"
     ]
    },
    {
     "name": "stdout",
     "output_type": "stream",
     "text": [
      "('North Korea', 'GPE')] "
     ]
    },
    {
     "name": "stderr",
     "output_type": "stream",
     "text": [
      " 99%|█████████▉| 99/100 [07:36<00:04,  4.33s/it]"
     ]
    },
    {
     "name": "stdout",
     "output_type": "stream",
     "text": [
      "('the 1987 crash', 'DATE'), ('Saturday ', 'GPE')] "
     ]
    },
    {
     "name": "stderr",
     "output_type": "stream",
     "text": [
      "100%|██████████| 100/100 [07:40<00:00,  4.61s/it]\n"
     ]
    },
    {
     "name": "stdout",
     "output_type": "stream",
     "text": [
      "./ner/saves/datasets/ontonote5_test_1403.pkl\n"
     ]
    },
    {
     "name": "stderr",
     "output_type": "stream",
     "text": [
      "  0%|          | 0/100 [00:00<?, ?it/s]"
     ]
    },
    {
     "name": "stdout",
     "output_type": "stream",
     "text": [
      "('PacifiCare Health Systems Inc.', 'ORG'), ('1.5 million', 'CARDINAL'), ('700,000 shares', 'QUANTITY'), ('800,000 shares', 'QUANTITY')] "
     ]
    },
    {
     "name": "stderr",
     "output_type": "stream",
     "text": [
      "  1%|          | 1/100 [00:06<11:07,  6.74s/it]"
     ]
    },
    {
     "name": "stdout",
     "output_type": "stream",
     "text": [
      "('He', 'PERSON'), ('regardless of whatever major changes happen in the international situation', 'DATE'), ('China', 'GPE'), ('France', 'GPE')] "
     ]
    },
    {
     "name": "stderr",
     "output_type": "stream",
     "text": [
      "  2%|▏         | 2/100 [00:13<10:58,  6.72s/it]"
     ]
    },
    {
     "name": "stdout",
     "output_type": "stream",
     "text": [
      "('ozone', 'GPE'), ('air conditioners', 'PRODUCT'), ('Styrofoam', 'PRODUCT')] "
     ]
    },
    {
     "name": "stderr",
     "output_type": "stream",
     "text": [
      "  3%|▎         | 3/100 [00:18<09:36,  5.94s/it]"
     ]
    },
    {
     "name": "stdout",
     "output_type": "stream",
     "text": [
      "('We', 'NORP'), ('bloodshed', 'QUANTITY')] "
     ]
    },
    {
     "name": "stderr",
     "output_type": "stream",
     "text": [
      "  4%|▍         | 4/100 [00:22<08:16,  5.17s/it]"
     ]
    },
    {
     "name": "stdout",
     "output_type": "stream",
     "text": [
      "('Shanghai', 'GPE'), ('Southeast Asia', 'GPE')] "
     ]
    },
    {
     "name": "stderr",
     "output_type": "stream",
     "text": [
      "  5%|▌         | 5/100 [00:26<07:37,  4.82s/it]"
     ]
    },
    {
     "name": "stdout",
     "output_type": "stream",
     "text": [
      "('Finnish', 'NORP'), ('1 million US dollars', 'MONEY')] "
     ]
    },
    {
     "name": "stderr",
     "output_type": "stream",
     "text": [
      "  6%|▌         | 6/100 [00:31<07:40,  4.90s/it]"
     ]
    },
    {
     "name": "stdout",
     "output_type": "stream",
     "text": [
      "('Apache', 'PRODUCT'), ('Michelle', 'PERSON')] "
     ]
    },
    {
     "name": "stderr",
     "output_type": "stream",
     "text": [
      "  7%|▋         | 7/100 [00:35<06:50,  4.41s/it]"
     ]
    },
    {
     "name": "stdout",
     "output_type": "stream",
     "text": [
      "('Kamyao', 'PERSON'), ('August', 'DATE')] "
     ]
    },
    {
     "name": "stderr",
     "output_type": "stream",
     "text": [
      "  8%|▊         | 8/100 [00:38<06:29,  4.23s/it]"
     ]
    },
    {
     "name": "stdout",
     "output_type": "stream",
     "text": [
      "('AnaMor Towers', 'FAC'), ('Anna and Morris Snezak', 'PERSON')] "
     ]
    },
    {
     "name": "stderr",
     "output_type": "stream",
     "text": [
      "  9%|▉         | 9/100 [00:44<06:51,  4.52s/it]"
     ]
    },
    {
     "name": "stdout",
     "output_type": "stream",
     "text": [
      "('Iraq', 'GPE'), ('Arab', 'NORP')] "
     ]
    },
    {
     "name": "stderr",
     "output_type": "stream",
     "text": [
      " 10%|█         | 10/100 [00:48<06:43,  4.48s/it]"
     ]
    },
    {
     "name": "stdout",
     "output_type": "stream",
     "text": [
      "('South', 'GPE')] "
     ]
    },
    {
     "name": "stderr",
     "output_type": "stream",
     "text": [
      " 11%|█         | 11/100 [00:51<05:50,  3.94s/it]"
     ]
    },
    {
     "name": "stdout",
     "output_type": "stream",
     "text": [
      "('English', 'LANGUAGE'), ('the work', 'WORK_OF_ART')] "
     ]
    },
    {
     "name": "stderr",
     "output_type": "stream",
     "text": [
      " 12%|█▏        | 12/100 [00:56<06:10,  4.22s/it]"
     ]
    },
    {
     "name": "stdout",
     "output_type": "stream",
     "text": [
      "('Homeland', 'FAC'), ('Security', 'ORG')] "
     ]
    },
    {
     "name": "stderr",
     "output_type": "stream",
     "text": [
      " 13%|█▎        | 13/100 [00:59<05:52,  4.06s/it]"
     ]
    },
    {
     "name": "stdout",
     "output_type": "stream",
     "text": [
      "('Looking', 'TIME'), ('back', 'TIME'), ('at', 'LOC'), ('my', 'DET'), ('life', 'WORK_OF_ART')] "
     ]
    },
    {
     "name": "stderr",
     "output_type": "stream",
     "text": [
      " 14%|█▍        | 14/100 [01:04<06:15,  4.37s/it]"
     ]
    },
    {
     "name": "stdout",
     "output_type": "stream",
     "text": [
      "('four', 'CARDINAL'), ('two', 'ORDINAL')] "
     ]
    },
    {
     "name": "stderr",
     "output_type": "stream",
     "text": [
      " 15%|█▌        | 15/100 [01:09<06:09,  4.35s/it]"
     ]
    },
    {
     "name": "stdout",
     "output_type": "stream",
     "text": [
      "('Topping', 'CARDINAL'), ('cheese stunt', 'WORK_OF_ART'), (\"German\", \"LANGUAGE\"), ('dialects', 'QUANTITY')] "
     ]
    },
    {
     "name": "stderr",
     "output_type": "stream",
     "text": [
      " 16%|█▌        | 16/100 [01:15<07:01,  5.02s/it]"
     ]
    },
    {
     "name": "stdout",
     "output_type": "stream",
     "text": [
      "('Rice', 'PERSON'), ('GA summit', 'GPE'), ('St. Petersburgh', 'LOC')] "
     ]
    },
    {
     "name": "stderr",
     "output_type": "stream",
     "text": [
      " 17%|█▋        | 17/100 [01:20<06:41,  4.84s/it]"
     ]
    },
    {
     "name": "stdout",
     "output_type": "stream",
     "text": [
      "('revisit', 'VERB'), ('issue', 'NORP')] "
     ]
    },
    {
     "name": "stderr",
     "output_type": "stream",
     "text": [
      " 18%|█▊        | 18/100 [01:23<06:04,  4.44s/it]"
     ]
    },
    {
     "name": "stdout",
     "output_type": "stream",
     "text": [
      "('Jackie', 'PERSON'), ('Jewish', 'NORP')] "
     ]
    },
    {
     "name": "stderr",
     "output_type": "stream",
     "text": [
      " 19%|█▉        | 19/100 [01:28<06:09,  4.56s/it]"
     ]
    },
    {
     "name": "stdout",
     "output_type": "stream",
     "text": [
      "('western lettuce', 'PRODUCT'), ('western celery', 'PRODUCT'), ('western cauliflower', 'PRODUCT'), ('Californian perch', 'PERSON'), ('whitish pomfret', 'WORK_OF_ART'), ('Dutch tulips', 'GPE'), ('Belgium azalea', 'GPE')] "
     ]
    },
    {
     "name": "stderr",
     "output_type": "stream",
     "text": [
      " 20%|██        | 20/100 [01:37<07:47,  5.84s/it]"
     ]
    },
    {
     "name": "stdout",
     "output_type": "stream",
     "text": [
      "('China', 'GPE'), ('these 20', 'QUANTITY'), ('upper - class citizens in China', 'NORP')] "
     ]
    },
    {
     "name": "stderr",
     "output_type": "stream",
     "text": [
      " 21%|██        | 21/100 [01:42<07:36,  5.77s/it]"
     ]
    },
    {
     "name": "stdout",
     "output_type": "stream",
     "text": [
      "('Janet', 'PERSON'), ('Strawberry', 'NORP')] "
     ]
    },
    {
     "name": "stderr",
     "output_type": "stream",
     "text": [
      " 22%|██▏       | 22/100 [01:47<07:11,  5.54s/it]"
     ]
    },
    {
     "name": "stdout",
     "output_type": "stream",
     "text": [
      "('cable television', 'FAC'), ('digital television', 'WORK_OF_ART'), ('mobile phone SMS', 'PRODUCT')] "
     ]
    },
    {
     "name": "stderr",
     "output_type": "stream",
     "text": [
      " 23%|██▎       | 23/100 [01:52<06:46,  5.28s/it]"
     ]
    },
    {
     "name": "stdout",
     "output_type": "stream",
     "text": [
      "('George Bush', 'PERSON'), ('North Korea ', 'GPE')] "
     ]
    },
    {
     "name": "stderr",
     "output_type": "stream",
     "text": [
      " 24%|██▍       | 24/100 [01:56<06:16,  4.95s/it]"
     ]
    },
    {
     "name": "stdout",
     "output_type": "stream",
     "text": [
      "('Hubert', 'PERSON'), ('Vedrine', 'PERSON'), ('Belgrade', 'GPE')] "
     ]
    },
    {
     "name": "stderr",
     "output_type": "stream",
     "text": [
      " 25%|██▌       | 25/100 [02:01<06:14,  4.99s/it]"
     ]
    },
    {
     "name": "stdout",
     "output_type": "stream",
     "text": [
      "('Chinese', 'GPE')] "
     ]
    },
    {
     "name": "stderr",
     "output_type": "stream",
     "text": [
      " 26%|██▌       | 26/100 [02:05<05:30,  4.46s/it]"
     ]
    },
    {
     "name": "stdout",
     "output_type": "stream",
     "text": [
      "('Mr.', 'PERSON'), ('Mitchell', 'PERSON'), ('Budget Director Darman', 'ORG')] "
     ]
    },
    {
     "name": "stderr",
     "output_type": "stream",
     "text": [
      " 27%|██▋       | 27/100 [02:08<05:10,  4.25s/it]"
     ]
    },
    {
     "name": "stdout",
     "output_type": "stream",
     "text": [
      "('internal', 'WORK_OF_ART'), ('metal', 'PRODUCT'), ('tractor', 'PRODUCT')] "
     ]
    },
    {
     "name": "stderr",
     "output_type": "stream",
     "text": [
      " 28%|██▊       | 28/100 [02:14<05:28,  4.56s/it]"
     ]
    },
    {
     "name": "stdout",
     "output_type": "stream",
     "text": [
      "('the bonded area', 'GPE'), ('last December', 'DATE'), ('1,614', 'CARDINAL'), ('260', 'CARDINAL'), ('1.2 billion US dollars', 'MONEY')] "
     ]
    },
    {
     "name": "stderr",
     "output_type": "stream",
     "text": [
      " 29%|██▉       | 29/100 [02:21<06:28,  5.48s/it]"
     ]
    },
    {
     "name": "stdout",
     "output_type": "stream",
     "text": [
      "('Pontiac', 'GPE'), ('Camaro', 'PRODUCT'), ('Firebird', 'PRODUCT')] "
     ]
    },
    {
     "name": "stderr",
     "output_type": "stream",
     "text": [
      " 30%|███       | 30/100 [02:25<05:52,  5.04s/it]"
     ]
    },
    {
     "name": "stdout",
     "output_type": "stream",
     "text": [
      "('As', 'CARDINAL'), ('we ', 'PRON'), ('been', 'VERB'), ('reporting', 'NORP'), ('only', 'ORDINAL'), ('within', 'PREPOSITION'), ('the', 'DET'), ('past', 'TIME'), ('hour', 'QUANTITY'), ('or', 'CARDINAL'), ('so', 'PRON'), (',', ',')] "
     ]
    },
    {
     "name": "stderr",
     "output_type": "stream",
     "text": [
      " 31%|███       | 31/100 [02:36<07:40,  6.67s/it]"
     ]
    },
    {
     "name": "stdout",
     "output_type": "stream",
     "text": [
      "('the first quarter', 'DATE'), ('Guangzhou ', 'GPE')] "
     ]
    },
    {
     "name": "stderr",
     "output_type": "stream",
     "text": [
      " 32%|███▏      | 32/100 [02:40<06:41,  5.91s/it]"
     ]
    },
    {
     "name": "stdout",
     "output_type": "stream",
     "text": [
      "('DPP', 'ORG'), ('Shen Fu - hsiung', 'PERSON')] "
     ]
    },
    {
     "name": "stderr",
     "output_type": "stream",
     "text": [
      " 33%|███▎      | 33/100 [02:44<06:02,  5.41s/it]"
     ]
    },
    {
     "name": "stdout",
     "output_type": "stream",
     "text": [
      "('Ramallah', 'GPE'), ('Palestinian-controlled territories', 'LOC')] "
     ]
    },
    {
     "name": "stderr",
     "output_type": "stream",
     "text": [
      " 34%|███▍      | 34/100 [02:49<05:39,  5.15s/it]"
     ]
    },
    {
     "name": "stdout",
     "output_type": "stream",
     "text": [
      "('coalmines', 'FAC')] "
     ]
    },
    {
     "name": "stderr",
     "output_type": "stream",
     "text": [
      " 35%|███▌      | 35/100 [02:52<04:52,  4.51s/it]"
     ]
    },
    {
     "name": "stdout",
     "output_type": "stream",
     "text": [
      "('Wang', 'PERSON'), ('Shin - hwan notes that traditional bacterial and viral cultures take seven to ten days to prepare , and even with the newer molecular biology testing techniques it takes three days to get a result .', '')] "
     ]
    },
    {
     "name": "stderr",
     "output_type": "stream",
     "text": [
      " 36%|███▌      | 36/100 [02:58<05:32,  5.19s/it]"
     ]
    },
    {
     "name": "stdout",
     "output_type": "stream",
     "text": [
      "('CIA', 'ORG'), ('Pentagon', 'ORG')] "
     ]
    },
    {
     "name": "stderr",
     "output_type": "stream",
     "text": [
      " 37%|███▋      | 37/100 [03:02<05:02,  4.80s/it]"
     ]
    },
    {
     "name": "stdout",
     "output_type": "stream",
     "text": [
      "('Shanghai', 'GPE'), ('this year ', 'DATE'), ('14.5 billion US dollars', 'MONEY'), ('finished industrial products', 'PRODUCT')] "
     ]
    },
    {
     "name": "stderr",
     "output_type": "stream",
     "text": [
      " 38%|███▊      | 38/100 [03:09<05:31,  5.35s/it]"
     ]
    },
    {
     "name": "stdout",
     "output_type": "stream",
     "text": [
      "('Chinese', 'NORP'), ('the American Chamber of Commerce', 'ORG')] "
     ]
    },
    {
     "name": "stderr",
     "output_type": "stream",
     "text": [
      " 39%|███▉      | 39/100 [03:13<05:05,  5.01s/it]"
     ]
    },
    {
     "name": "stdout",
     "output_type": "stream",
     "text": [
      "('Judy Miller', 'PERSON'), ('Louis Libby ', 'PERSON'), (\"Dick Cheney \", 'PERSON'), ('aide', 'FAC')] "
     ]
    },
    {
     "name": "stderr",
     "output_type": "stream",
     "text": [
      " 40%|████      | 40/100 [03:19<05:23,  5.39s/it]"
     ]
    },
    {
     "name": "stdout",
     "output_type": "stream",
     "text": [
      "('He', 'PERSON'), ('U.S.', 'GPE')] "
     ]
    },
    {
     "name": "stderr",
     "output_type": "stream",
     "text": [
      " 41%|████      | 41/100 [03:24<04:54,  5.00s/it]"
     ]
    },
    {
     "name": "stdout",
     "output_type": "stream",
     "text": [
      "('Pakistan', 'GPE'), ('Iran', 'NORP')] "
     ]
    },
    {
     "name": "stderr",
     "output_type": "stream",
     "text": [
      " 42%|████▏     | 42/100 [03:27<04:16,  4.42s/it]"
     ]
    },
    {
     "name": "stdout",
     "output_type": "stream",
     "text": [
      "('Guangzhou', 'GPE'), ('the first quarter of this year', 'DATE'), ('412 million yuan', 'MONEY')] "
     ]
    },
    {
     "name": "stderr",
     "output_type": "stream",
     "text": [
      " 43%|████▎     | 43/100 [03:33<04:37,  4.86s/it]"
     ]
    },
    {
     "name": "stdout",
     "output_type": "stream",
     "text": [
      "('FBI', 'ORG'), ('August 1998', 'DATE')] "
     ]
    },
    {
     "name": "stderr",
     "output_type": "stream",
     "text": [
      " 44%|████▍     | 44/100 [03:37<04:31,  4.85s/it]"
     ]
    },
    {
     "name": "stdout",
     "output_type": "stream",
     "text": [
      "('Pennzoil', 'ORG'), ('Texaco', 'ORG')] "
     ]
    },
    {
     "name": "stderr",
     "output_type": "stream",
     "text": [
      " 45%|████▌     | 45/100 [03:42<04:15,  4.65s/it]"
     ]
    },
    {
     "name": "stdout",
     "output_type": "stream",
     "text": [
      "('potato', 'FOOD'), ('chocolate', 'FOOD')] "
     ]
    },
    {
     "name": "stderr",
     "output_type": "stream",
     "text": [
      " 46%|████▌     | 46/100 [03:46<04:02,  4.49s/it]"
     ]
    },
    {
     "name": "stdout",
     "output_type": "stream",
     "text": [
      "('location', 'LOC')] "
     ]
    },
    {
     "name": "stderr",
     "output_type": "stream",
     "text": [
      " 47%|████▋     | 47/100 [03:49<03:35,  4.06s/it]"
     ]
    },
    {
     "name": "stdout",
     "output_type": "stream",
     "text": [
      "('Friday', 'DATE'), ('New York', 'GPE')] "
     ]
    },
    {
     "name": "stderr",
     "output_type": "stream",
     "text": [
      " 48%|████▊     | 48/100 [03:53<03:27,  3.99s/it]"
     ]
    },
    {
     "name": "stdout",
     "output_type": "stream",
     "text": [
      "('Guangxu', 'PERSON'), ('Qing dynasty', 'ORG'), ('1875', 'DATE'), ('Tanshui', 'GPE'), ('Japanese occupation', 'EVENT'), ('1895', 'DATE')] "
     ]
    },
    {
     "name": "stderr",
     "output_type": "stream",
     "text": [
      " 49%|████▉     | 49/100 [03:59<04:05,  4.82s/it]"
     ]
    },
    {
     "name": "stdout",
     "output_type": "stream",
     "text": [
      "('Dreyfus', 'PERSON')] "
     ]
    },
    {
     "name": "stderr",
     "output_type": "stream",
     "text": [
      " 50%|█████     | 50/100 [04:03<03:42,  4.45s/it]"
     ]
    },
    {
     "name": "stdout",
     "output_type": "stream",
     "text": [
      "('one thing', 'CARDINAL'), ('many farmers', 'PERSON'), ('tight wheat supplies', 'QUANTITY'), ('well into 1990', 'DATE')] "
     ]
    },
    {
     "name": "stderr",
     "output_type": "stream",
     "text": [
      " 51%|█████     | 51/100 [04:09<04:00,  4.91s/it]"
     ]
    },
    {
     "name": "stdout",
     "output_type": "stream",
     "text": [
      "('the North Koreans', 'NORP')] "
     ]
    },
    {
     "name": "stderr",
     "output_type": "stream",
     "text": [
      " 52%|█████▏    | 52/100 [04:12<03:26,  4.31s/it]"
     ]
    },
    {
     "name": "stdout",
     "output_type": "stream",
     "text": [
      "('Despite', 'CARDINAL'), ('their', 'PRON'), ('considerable', 'ADJ'), ('incomes', 'NORP'), ('and', 'CONJ'), ('assets', 'PRODUCT')] "
     ]
    },
    {
     "name": "stderr",
     "output_type": "stream",
     "text": [
      " 53%|█████▎    | 53/100 [04:18<03:53,  4.96s/it]"
     ]
    },
    {
     "name": "stdout",
     "output_type": "stream",
     "text": [
      "('Rumsfeld', 'PERSON'), ('Iraq', 'GPE')] "
     ]
    },
    {
     "name": "stderr",
     "output_type": "stream",
     "text": [
      " 54%|█████▍    | 54/100 [04:22<03:35,  4.67s/it]"
     ]
    },
    {
     "name": "stdout",
     "output_type": "stream",
     "text": [
      "('India', 'GPE')] "
     ]
    },
    {
     "name": "stderr",
     "output_type": "stream",
     "text": [
      " 55%|█████▌    | 55/100 [04:25<03:06,  4.14s/it]"
     ]
    },
    {
     "name": "stdout",
     "output_type": "stream",
     "text": [
      "('Larry', 'PERSON'), ('Crossfire', 'EVENT')] "
     ]
    },
    {
     "name": "stderr",
     "output_type": "stream",
     "text": [
      " 56%|█████▌    | 56/100 [04:28<02:47,  3.81s/it]"
     ]
    },
    {
     "name": "stdout",
     "output_type": "stream",
     "text": [
      "('Headline News', 'ORG'), ('CNN ', 'ORG')] "
     ]
    },
    {
     "name": "stderr",
     "output_type": "stream",
     "text": [
      " 57%|█████▋    | 57/100 [04:32<02:46,  3.87s/it]"
     ]
    },
    {
     "name": "stdout",
     "output_type": "stream",
     "text": [
      "('Thomson', 'ORG'), ('British Aerospace', 'ORG'), (\"France's\", 'LOC')] "
     ]
    },
    {
     "name": "stderr",
     "output_type": "stream",
     "text": [
      " 58%|█████▊    | 58/100 [04:38<03:01,  4.32s/it]"
     ]
    },
    {
     "name": "stdout",
     "output_type": "stream",
     "text": [
      "('Bush', 'PERSON'), ('$ 16 billion', 'MONEY')] "
     ]
    },
    {
     "name": "stderr",
     "output_type": "stream",
     "text": [
      " 59%|█████▉    | 59/100 [04:42<02:54,  4.27s/it]"
     ]
    },
    {
     "name": "stdout",
     "output_type": "stream",
     "text": [
      "('Chinese', 'NORP'), ('80 %', 'PERCENT'), ('20 %', 'PERCENT')] "
     ]
    },
    {
     "name": "stderr",
     "output_type": "stream",
     "text": [
      " 60%|██████    | 60/100 [04:47<03:05,  4.64s/it]"
     ]
    },
    {
     "name": "stdout",
     "output_type": "stream",
     "text": [
      "('October', 'DATE'), ('Tuesday' , 'DAY')] "
     ]
    },
    {
     "name": "stderr",
     "output_type": "stream",
     "text": [
      " 61%|██████    | 61/100 [04:51<02:52,  4.41s/it]"
     ]
    },
    {
     "name": "stdout",
     "output_type": "stream",
     "text": [
      "('Mr. Friedman', 'PERSON'), ('Hollywood', 'GPE')] "
     ]
    },
    {
     "name": "stderr",
     "output_type": "stream",
     "text": [
      " 62%|██████▏   | 62/100 [04:55<02:43,  4.31s/it]"
     ]
    },
    {
     "name": "stdout",
     "output_type": "stream",
     "text": [
      "('mergers', 'EVENT')] "
     ]
    },
    {
     "name": "stderr",
     "output_type": "stream",
     "text": [
      " 63%|██████▎   | 63/100 [04:58<02:19,  3.77s/it]"
     ]
    },
    {
     "name": "stdout",
     "output_type": "stream",
     "text": [
      "('Freddie Mac', 'ORG'), ('8 %', 'PERCENT')] "
     ]
    },
    {
     "name": "stderr",
     "output_type": "stream",
     "text": [
      " 64%|██████▍   | 64/100 [05:02<02:23,  3.98s/it]"
     ]
    },
    {
     "name": "stdout",
     "output_type": "stream",
     "text": [
      "('Taiwan', 'GPE'), ('the Ministry of Economic Affairs', 'ORG'), ('National Science Council', 'ORG'), ('National Health Research Institutes', 'ORG')] "
     ]
    },
    {
     "name": "stderr",
     "output_type": "stream",
     "text": [
      " 65%|██████▌   | 65/100 [05:08<02:43,  4.66s/it]"
     ]
    },
    {
     "name": "stdout",
     "output_type": "stream",
     "text": [
      "('the', 'GPE')] "
     ]
    },
    {
     "name": "stderr",
     "output_type": "stream",
     "text": [
      " 66%|██████▌   | 66/100 [05:11<02:19,  4.12s/it]"
     ]
    },
    {
     "name": "stdout",
     "output_type": "stream",
     "text": [
      "('John Lampe', 'PERSON'), ('PaineWebber Inc.', 'ORG')] "
     ]
    },
    {
     "name": "stderr",
     "output_type": "stream",
     "text": [
      " 67%|██████▋   | 67/100 [05:16<02:19,  4.23s/it]"
     ]
    },
    {
     "name": "stdout",
     "output_type": "stream",
     "text": [
      "('the National Foreign Exchange Bureau', 'ORG'), ('January 1st', 'DATE')] "
     ]
    },
    {
     "name": "stderr",
     "output_type": "stream",
     "text": [
      " 68%|██████▊   | 68/100 [05:20<02:20,  4.39s/it]"
     ]
    },
    {
     "name": "stdout",
     "output_type": "stream",
     "text": [
      "('Zibo City', 'GPE'), ('the Zhangdian District', 'GPE')] "
     ]
    },
    {
     "name": "stderr",
     "output_type": "stream",
     "text": [
      " 69%|██████▉   | 69/100 [05:25<02:19,  4.51s/it]"
     ]
    },
    {
     "name": "stdout",
     "output_type": "stream",
     "text": [
      "('Last year', 'DATE'), ('exports', 'NORP'), ('primary products', 'PRODUCT'), ('Japan', 'GPE')] "
     ]
    },
    {
     "name": "stderr",
     "output_type": "stream",
     "text": [
      " 70%|███████   | 70/100 [05:31<02:29,  5.00s/it]"
     ]
    },
    {
     "name": "stdout",
     "output_type": "stream",
     "text": [
      "('Because', 'CARDINAL'), ('despite', 'ORDINAL')] "
     ]
    },
    {
     "name": "stderr",
     "output_type": "stream",
     "text": [
      " 71%|███████   | 71/100 [05:35<02:15,  4.68s/it]"
     ]
    },
    {
     "name": "stdout",
     "output_type": "stream",
     "text": [
      "('North', 'GPE'), ('Korea', 'GPE')] "
     ]
    },
    {
     "name": "stderr",
     "output_type": "stream",
     "text": [
      " 72%|███████▏  | 72/100 [05:39<02:06,  4.51s/it]"
     ]
    },
    {
     "name": "stdout",
     "output_type": "stream",
     "text": [
      "('dancer', 'PERSON')] "
     ]
    },
    {
     "name": "stderr",
     "output_type": "stream",
     "text": [
      " 73%|███████▎  | 73/100 [05:42<01:44,  3.87s/it]"
     ]
    },
    {
     "name": "stdout",
     "output_type": "stream",
     "text": [
      "('Clinton', 'PERSON'), ('their', 'PRON'), ('August', 'DATE')] "
     ]
    },
    {
     "name": "stderr",
     "output_type": "stream",
     "text": [
      " 74%|███████▍  | 74/100 [05:46<01:45,  4.08s/it]"
     ]
    },
    {
     "name": "stdout",
     "output_type": "stream",
     "text": [
      "('their', 'PRON'), ('own', 'ADJ')] "
     ]
    },
    {
     "name": "stderr",
     "output_type": "stream",
     "text": [
      " 75%|███████▌  | 75/100 [05:51<01:46,  4.27s/it]"
     ]
    },
    {
     "name": "stdout",
     "output_type": "stream",
     "text": [
      "('Ideal', 'ORG'), ('Basic Industries Inc.', 'ORG'), ('HOFI North America Inc.', 'ORG'), ('North American cement holdings', 'FAC')] "
     ]
    },
    {
     "name": "stderr",
     "output_type": "stream",
     "text": [
      " 76%|███████▌  | 76/100 [05:57<01:55,  4.81s/it]"
     ]
    },
    {
     "name": "stdout",
     "output_type": "stream",
     "text": [
      "('China', 'GPE'), ('Mechanical Industry Ministry', 'ORG'), ('Xuding Bao', 'PERSON'), ('LaRioja Province', 'GPE'), ('5.5 million US dollars', 'MONEY')] "
     ]
    },
    {
     "name": "stderr",
     "output_type": "stream",
     "text": [
      " 77%|███████▋  | 77/100 [06:05<02:10,  5.67s/it]"
     ]
    },
    {
     "name": "stdout",
     "output_type": "stream",
     "text": [
      "('A', 'CARDINAL'), ('relevant State Council Special Zone Office director', 'NORP')] "
     ]
    },
    {
     "name": "stderr",
     "output_type": "stream",
     "text": [
      " 78%|███████▊  | 78/100 [06:10<02:00,  5.49s/it]"
     ]
    },
    {
     "name": "stdout",
     "output_type": "stream",
     "text": [
      "('middle', 'ORDINAL'), ('age', 'GPE')] "
     ]
    },
    {
     "name": "stderr",
     "output_type": "stream",
     "text": [
      " 79%|███████▉  | 79/100 [06:13<01:39,  4.72s/it]"
     ]
    },
    {
     "name": "stdout",
     "output_type": "stream",
     "text": [
      "('Shanghai', 'GPE'), ('5 years', 'DATE')] "
     ]
    },
    {
     "name": "stderr",
     "output_type": "stream",
     "text": [
      " 80%|████████  | 80/100 [06:17<01:30,  4.53s/it]"
     ]
    },
    {
     "name": "stdout",
     "output_type": "stream",
     "text": [
      "('China', 'GPE')] "
     ]
    },
    {
     "name": "stderr",
     "output_type": "stream",
     "text": [
      " 81%|████████  | 81/100 [06:20<01:18,  4.12s/it]"
     ]
    },
    {
     "name": "stdout",
     "output_type": "stream",
     "text": [
      "('California', 'GPE'), ('eight billion dollars', 'MONEY')] "
     ]
    },
    {
     "name": "stderr",
     "output_type": "stream",
     "text": [
      " 82%|████████▏ | 82/100 [06:24<01:15,  4.17s/it]"
     ]
    },
    {
     "name": "stdout",
     "output_type": "stream",
     "text": [
      "('today', 'DATE'), ('crack', 'NORP')] "
     ]
    },
    {
     "name": "stderr",
     "output_type": "stream",
     "text": [
      " 83%|████████▎ | 83/100 [06:28<01:08,  4.04s/it]"
     ]
    },
    {
     "name": "stdout",
     "output_type": "stream",
     "text": [
      "('last year', 'DATE'), ('the Tianjin Port Bonded Area', 'GPE'), (\"850 million US dollars\", 'MONEY'), (\"72 % over the same period of the previous year\", 'PERCENT')] "
     ]
    },
    {
     "name": "stderr",
     "output_type": "stream",
     "text": [
      " 84%|████████▍ | 84/100 [06:36<01:22,  5.16s/it]"
     ]
    },
    {
     "name": "stdout",
     "output_type": "stream",
     "text": [
      "('Friday', 'DATE'), ('Dow Jones Capital Markets Report', 'ORG')] "
     ]
    },
    {
     "name": "stderr",
     "output_type": "stream",
     "text": [
      " 85%|████████▌ | 85/100 [06:40<01:13,  4.88s/it]"
     ]
    },
    {
     "name": "stdout",
     "output_type": "stream",
     "text": [
      "('enterprises', 'NORP')] "
     ]
    },
    {
     "name": "stderr",
     "output_type": "stream",
     "text": [
      " 86%|████████▌ | 86/100 [06:43<00:59,  4.27s/it]"
     ]
    },
    {
     "name": "stdout",
     "output_type": "stream",
     "text": [
      "('the total amount of foreign trade', 'MONEY'), ('still maintains a strong growth momentum', 'DATE'), ('and has realized trade surpluses for the third year in a row', 'EVENT'), ('whereas', 'CARDINAL'), ('the amount of trade surplus', 'MONEY'), ('has sharply reversed', 'TIME'), ('this year', 'DATE'), ('a relatively large deficit may appear', 'QUANTITY')] "
     ]
    },
    {
     "name": "stderr",
     "output_type": "stream",
     "text": [
      " 87%|████████▋ | 87/100 [06:54<01:23,  6.43s/it]"
     ]
    },
    {
     "name": "stdout",
     "output_type": "stream",
     "text": [
      "('Beijing', 'GPE'), ('Yeh', 'PERSON')] "
     ]
    },
    {
     "name": "stderr",
     "output_type": "stream",
     "text": [
      " 88%|████████▊ | 88/100 [06:59<01:08,  5.73s/it]"
     ]
    },
    {
     "name": "stdout",
     "output_type": "stream",
     "text": [
      "('Hong Kong', 'GPE'), ('airport', 'FAC')] "
     ]
    },
    {
     "name": "stderr",
     "output_type": "stream",
     "text": [
      " 89%|████████▉ | 89/100 [07:02<00:57,  5.19s/it]"
     ]
    },
    {
     "name": "stdout",
     "output_type": "stream",
     "text": [
      "('Awadi', 'PERSON'), ('Barry', 'PERSON')] "
     ]
    },
    {
     "name": "stderr",
     "output_type": "stream",
     "text": [
      " 90%|█████████ | 90/100 [07:07<00:49,  4.99s/it]"
     ]
    },
    {
     "name": "stdout",
     "output_type": "stream",
     "text": [
      "('Morgan Stanley', 'ORG'), ('Bear Stearns', 'ORG')] "
     ]
    },
    {
     "name": "stderr",
     "output_type": "stream",
     "text": [
      " 91%|█████████ | 91/100 [07:12<00:43,  4.85s/it]"
     ]
    },
    {
     "name": "stdout",
     "output_type": "stream",
     "text": [
      "('The newspaper', 'WORK_OF_ART'), ('Mahdi Army', 'ORG')] "
     ]
    },
    {
     "name": "stderr",
     "output_type": "stream",
     "text": [
      " 92%|█████████▏| 92/100 [07:16<00:38,  4.78s/it]"
     ]
    },
    {
     "name": "stdout",
     "output_type": "stream",
     "text": [
      "('Lu', 'PERSON'), ('as children', 'CARDINAL')] "
     ]
    },
    {
     "name": "stderr",
     "output_type": "stream",
     "text": [
      " 93%|█████████▎| 93/100 [07:20<00:31,  4.50s/it]"
     ]
    },
    {
     "name": "stdout",
     "output_type": "stream",
     "text": [
      "('It', 'PERSON'), ('will soon promulgate documents such as \" Detailed rules for implementing temporary regulations on resignations of specialists , technicians and managers in state - owned units \"'', 'LAW')] "
     ]
    },
    {
     "name": "stderr",
     "output_type": "stream",
     "text": [
      " 94%|█████████▍| 94/100 [07:26<00:30,  5.06s/it]"
     ]
    },
    {
     "name": "stdout",
     "output_type": "stream",
     "text": [
      "('Pan', 'PERSON')] "
     ]
    },
    {
     "name": "stderr",
     "output_type": "stream",
     "text": [
      " 95%|█████████▌| 95/100 [07:29<00:21,  4.25s/it]"
     ]
    },
    {
     "name": "stdout",
     "output_type": "stream",
     "text": [
      "('Senate', 'ORG'), ('Republicans', 'NORP'), ('White House', 'FAC'), ('Marlin Fitzwater', 'PERSON')] "
     ]
    },
    {
     "name": "stderr",
     "output_type": "stream",
     "text": [
      " 96%|█████████▌| 96/100 [07:34<00:18,  4.65s/it]"
     ]
    },
    {
     "name": "stdout",
     "output_type": "stream",
     "text": [
      "('middle', 'GPE')] "
     ]
    },
    {
     "name": "stderr",
     "output_type": "stream",
     "text": [
      " 97%|█████████▋| 97/100 [07:37<00:12,  4.12s/it]"
     ]
    },
    {
     "name": "stdout",
     "output_type": "stream",
     "text": [
      "('Israel', 'GPE'), ('China', 'GPE')] "
     ]
    },
    {
     "name": "stderr",
     "output_type": "stream",
     "text": [
      " 98%|█████████▊| 98/100 [07:41<00:08,  4.07s/it]"
     ]
    },
    {
     "name": "stdout",
     "output_type": "stream",
     "text": [
      "('Das Kapital', 'WORK_OF_ART')] "
     ]
    },
    {
     "name": "stderr",
     "output_type": "stream",
     "text": [
      " 99%|█████████▉| 99/100 [07:44<00:03,  3.79s/it]"
     ]
    },
    {
     "name": "stdout",
     "output_type": "stream",
     "text": [
      "('white', 'PERSON')] "
     ]
    },
    {
     "name": "stderr",
     "output_type": "stream",
     "text": [
      "100%|██████████| 100/100 [07:47<00:00,  4.67s/it]\n"
     ]
    },
    {
     "name": "stdout",
     "output_type": "stream",
     "text": [
      "./ner/saves/datasets/ontonote5_test_1403.pkl\n"
     ]
    },
    {
     "name": "stderr",
     "output_type": "stream",
     "text": [
      "  0%|          | 0/100 [00:00<?, ?it/s]"
     ]
    },
    {
     "name": "stdout",
     "output_type": "stream",
     "text": [
      "('Information International', 'ORG'), ('Morris Communications Corp.', 'ORG')] "
     ]
    },
    {
     "name": "stderr",
     "output_type": "stream",
     "text": [
      "  1%|          | 1/100 [00:04<07:49,  4.74s/it]"
     ]
    },
    {
     "name": "stdout",
     "output_type": "stream",
     "text": [
      "('the total amount of foreign trade', 'MONEY'), ('still maintains a strong growth momentum', 'DATE'), ('and has realized trade surpluses for the third year in a row', 'EVENT'), ('whereas', 'CARDINAL'), ('the amount of trade surplus', 'MONEY'), ('has sharply reversed', 'TIME'), ('this year', 'DATE'), ('a relatively large deficit may appear', 'QUANTITY')] "
     ]
    },
    {
     "name": "stderr",
     "output_type": "stream",
     "text": [
      "  2%|▏         | 2/100 [00:15<13:18,  8.15s/it]"
     ]
    },
    {
     "name": "stdout",
     "output_type": "stream",
     "text": [
      "('they', 'PERSON'), ('their own people', 'NORP')] "
     ]
    },
    {
     "name": "stderr",
     "output_type": "stream",
     "text": [
      "  3%|▎         | 3/100 [00:19<10:10,  6.29s/it]"
     ]
    },
    {
     "name": "stdout",
     "output_type": "stream",
     "text": [
      "('The', 'NORP'), ('schools' , 'FAC'), (', homes' , 'FAC')] "
     ]
    },
    {
     "name": "stderr",
     "output_type": "stream",
     "text": [
      "  4%|▍         | 4/100 [00:24<09:25,  5.89s/it]"
     ]
    },
    {
     "name": "stdout",
     "output_type": "stream",
     "text": [
      "('mine', 'PERSON'), ('liability', 'LAW')] "
     ]
    },
    {
     "name": "stderr",
     "output_type": "stream",
     "text": [
      "  5%|▌         | 5/100 [00:28<08:05,  5.11s/it]"
     ]
    },
    {
     "name": "stdout",
     "output_type": "stream",
     "text": [
      "('This', 'TIME'), ('should', 'EVENT')] "
     ]
    },
    {
     "name": "stderr",
     "output_type": "stream",
     "text": [
      "  6%|▌         | 6/100 [00:31<06:53,  4.40s/it]"
     ]
    },
    {
     "name": "stdout",
     "output_type": "stream",
     "text": [
      "('China', 'GPE')] "
     ]
    },
    {
     "name": "stderr",
     "output_type": "stream",
     "text": [
      "  7%|▋         | 7/100 [00:34<06:07,  3.95s/it]"
     ]
    },
    {
     "name": "stdout",
     "output_type": "stream",
     "text": [
      "('a year', 'QUANTITY'), ('two', 'CARDINAL')] "
     ]
    },
    {
     "name": "stderr",
     "output_type": "stream",
     "text": [
      "  8%|▊         | 8/100 [00:38<05:58,  3.90s/it]"
     ]
    },
    {
     "name": "stdout",
     "output_type": "stream",
     "text": [
      "('Franklin', 'ORG'), ('L.F.', 'PERSON')] "
     ]
    },
    {
     "name": "stderr",
     "output_type": "stream",
     "text": [
      "  9%|▉         | 9/100 [00:42<05:53,  3.88s/it]"
     ]
    },
    {
     "name": "stdout",
     "output_type": "stream",
     "text": [
      "('Tsao Chi - hung', 'PERSON'), ('1999', 'DATE')] "
     ]
    },
    {
     "name": "stderr",
     "output_type": "stream",
     "text": [
      " 10%|█         | 10/100 [00:46<05:53,  3.93s/it]"
     ]
    },
    {
     "name": "stdout",
     "output_type": "stream",
     "text": [
      "('The Guaranteed Law for Disabled Persons in the People 's Republic of China', 'LAW')] "
     ]
    },
    {
     "name": "stderr",
     "output_type": "stream",
     "text": [
      " 11%|█         | 11/100 [00:50<06:07,  4.13s/it]"
     ]
    },
    {
     "name": "stdout",
     "output_type": "stream",
     "text": [
      "('The', 'NORP'), ('No.', 'CARDINAL'), ('2', 'CARDINAL'), ('auto', 'PRODUCT'), ('maker', 'WORK_OF_ART'), ('disclosed', 'EVENT'), ('last', 'DATE'), ('month', 'TIME'), ('that', 'CONJUNCTION'), ('it', 'PRONOUN'), ('wants', 'VERB'), ('to', 'TO'), ('buy', 'VERB'), ('as', 'CARDINAL'), ('much', 'CARDINAL'), ('15 %', 'PERCENT'), ('of', 'PREPOSITION'), ('the', 'NORP'), ('British', 'GPE'), ('luxury - car maker', 'WORK_OF_ART')] "
     ]
    },
    {
     "name": "stderr",
     "output_type": "stream",
     "text": [
      " 12%|█▏        | 12/100 [01:06<11:18,  7.71s/it]"
     ]
    },
    {
     "name": "stdout",
     "output_type": "stream",
     "text": [
      "('New York', 'GPE'), ('Times website', 'ORG')] "
     ]
    },
    {
     "name": "stderr",
     "output_type": "stream",
     "text": [
      " 13%|█▎        | 13/100 [01:11<09:47,  6.75s/it]"
     ]
    },
    {
     "name": "stdout",
     "output_type": "stream",
     "text": [
      "('Iraq', 'GPE'), ('British', 'NORP')] "
     ]
    },
    {
     "name": "stderr",
     "output_type": "stream",
     "text": [
      " 14%|█▍        | 14/100 [01:15<08:31,  5.95s/it]"
     ]
    },
    {
     "name": "stdout",
     "output_type": "stream",
     "text": [
      "('Taiwan', 'GPE'), ('the island', 'GPE')] "
     ]
    },
    {
     "name": "stderr",
     "output_type": "stream",
     "text": [
      " 15%|█▌        | 15/100 [01:18<07:22,  5.21s/it]"
     ]
    },
    {
     "name": "stdout",
     "output_type": "stream",
     "text": [
      "('today', 'DATE')] "
     ]
    },
    {
     "name": "stderr",
     "output_type": "stream",
     "text": [
      " 16%|█▌        | 16/100 [01:21<06:27,  4.62s/it]"
     ]
    },
    {
     "name": "stdout",
     "output_type": "stream",
     "text": [
      "('the', 'DET'), ('United', 'NORP')] "
     ]
    },
    {
     "name": "stderr",
     "output_type": "stream",
     "text": [
      " 17%|█▋        | 17/100 [01:25<06:04,  4.39s/it]"
     ]
    },
    {
     "name": "stdout",
     "output_type": "stream",
     "text": [
      "('Lucy Dalglish', 'PERSON'), ('Miller', 'PERSON'), ('Floyd Abrams', 'PERSON'), ('Joe Tate', 'PERSON'), ('Scooter Libby', 'PERSON')] "
     ]
    },
    {
     "name": "stderr",
     "output_type": "stream",
     "text": [
      " 18%|█▊        | 18/100 [01:32<06:56,  5.07s/it]"
     ]
    },
    {
     "name": "stdout",
     "output_type": "stream",
     "text": [
      "('Francis', 'PERSON'), ('Queens newsletter writer Francis X. Curzio actually did it : He stated in writing in September 1987 that the Dow Jones Industrial Average was likely to decline about 500 points the following month . ', '')] "
     ]
    },
    {
     "name": "stderr",
     "output_type": "stream",
     "text": [
      " 19%|█▉        | 19/100 [01:39<07:44,  5.73s/it]"
     ]
    },
    {
     "name": "stdout",
     "output_type": "stream",
     "text": [
      "('their', 'PRON'), ('nuclear program', 'NORP')] "
     ]
    },
    {
     "name": "stderr",
     "output_type": "stream",
     "text": [
      " 20%|██        | 20/100 [01:43<06:57,  5.22s/it]"
     ]
    },
    {
     "name": "stdout",
     "output_type": "stream",
     "text": [
      "('Eurovision', 'GPE'), ('Song', 'WORK_OF_ART')] "
     ]
    },
    {
     "name": "stderr",
     "output_type": "stream",
     "text": [
      " 21%|██        | 21/100 [01:47<06:22,  4.84s/it]"
     ]
    },
    {
     "name": "stdout",
     "output_type": "stream",
     "text": [
      "('God', 'PRODUCT')] "
     ]
    },
    {
     "name": "stderr",
     "output_type": "stream",
     "text": [
      " 22%|██▏       | 22/100 [01:50<05:36,  4.31s/it]"
     ]
    },
    {
     "name": "stdout",
     "output_type": "stream",
     "text": [
      "('Christy Whitman', 'PERSON'), ('White House', 'ORG')] "
     ]
    },
    {
     "name": "stderr",
     "output_type": "stream",
     "text": [
      " 23%|██▎       | 23/100 [01:54<05:28,  4.27s/it]"
     ]
    },
    {
     "name": "stdout",
     "output_type": "stream",
     "text": [
      "('the Japanese', 'ORG'), ('Keelung', 'GPE')] "
     ]
    },
    {
     "name": "stderr",
     "output_type": "stream",
     "text": [
      " 24%|██▍       | 24/100 [01:59<05:19,  4.20s/it]"
     ]
    },
    {
     "name": "stdout",
     "output_type": "stream",
     "text": [
      "('Putin', 'PERSON'), ('Indians', 'NORP'), ('Clinton', 'PERSON')] "
     ]
    },
    {
     "name": "stderr",
     "output_type": "stream",
     "text": [
      " 25%|██▌       | 25/100 [02:03<05:24,  4.32s/it]"
     ]
    },
    {
     "name": "stdout",
     "output_type": "stream",
     "text": [
      "('Chinese', 'LANGUAGE')] "
     ]
    },
    {
     "name": "stderr",
     "output_type": "stream",
     "text": [
      " 26%|██▌       | 26/100 [02:06<04:53,  3.96s/it]"
     ]
    },
    {
     "name": "stdout",
     "output_type": "stream",
     "text": [
      "('They', 'PERSON'), ('Edison ', 'ORG')] "
     ]
    },
    {
     "name": "stderr",
     "output_type": "stream",
     "text": [
      " 27%|██▋       | 27/100 [02:10<04:47,  3.94s/it]"
     ]
    },
    {
     "name": "stdout",
     "output_type": "stream",
     "text": [
      "('CIA', 'ORG'), ('media folks', 'PERSON'), (\"a certain\", 'CARDINAL'), ('top White House official', 'PERSON')] "
     ]
    },
    {
     "name": "stderr",
     "output_type": "stream",
     "text": [
      " 28%|██▊       | 28/100 [02:16<05:26,  4.54s/it]"
     ]
    },
    {
     "name": "stdout",
     "output_type": "stream",
     "text": [
      "('Dirk Van Dongen', 'PERSON'), ('the National Association of Wholesaler - Distributors', 'ORG')] "
     ]
    },
    {
     "name": "stderr",
     "output_type": "stream",
     "text": [
      " 29%|██▉       | 29/100 [02:20<05:19,  4.50s/it]"
     ]
    },
    {
     "name": "stdout",
     "output_type": "stream",
     "text": [
      "('taxi', 'FAC'), ('life', 'PERCENT')] "
     ]
    },
    {
     "name": "stderr",
     "output_type": "stream",
     "text": [
      " 30%|███       | 30/100 [02:24<04:53,  4.19s/it]"
     ]
    },
    {
     "name": "stdout",
     "output_type": "stream",
     "text": [
      "('East Second Ring Road', 'FAC'), ('West Dawang Road', 'FAC')] "
     ]
    },
    {
     "name": "stderr",
     "output_type": "stream",
     "text": [
      " 31%|███       | 31/100 [02:28<04:56,  4.30s/it]"
     ]
    },
    {
     "name": "stdout",
     "output_type": "stream",
     "text": [
      "('I', 'PERSON'), ('Lin Hung - kuei', 'PERSON')] "
     ]
    },
    {
     "name": "stderr",
     "output_type": "stream",
     "text": [
      " 32%|███▏      | 32/100 [02:32<04:46,  4.21s/it]"
     ]
    },
    {
     "name": "stdout",
     "output_type": "stream",
     "text": [
      "('Separately', 'ADV'), ('during', 'ADP'), ('his', 'PRON'), ('report', 'NOUN'), ('to', 'PREP'), ('the Legislative Yuan', 'ORG'), ('on', 'INF'), ('the Academia Sinica ', 'ORG'), (\"'s\", 'POS'), ('budget', 'NOUN')] "
     ]
    },
    {
     "name": "stderr",
     "output_type": "stream",
     "text": [
      " 33%|███▎      | 33/100 [02:42<06:26,  5.77s/it]"
     ]
    },
    {
     "name": "stdout",
     "output_type": "stream",
     "text": [
      "('I', 'PERSON'), ('it', 'WORK_OF_ART')] "
     ]
    },
    {
     "name": "stderr",
     "output_type": "stream",
     "text": [
      " 34%|███▍      | 34/100 [02:46<05:42,  5.19s/it]"
     ]
    },
    {
     "name": "stdout",
     "output_type": "stream",
     "text": [
      "('100,000 US dollars', 'MONEY'), ('Huichun ', 'GPE')] "
     ]
    },
    {
     "name": "stderr",
     "output_type": "stream",
     "text": [
      " 35%|███▌      | 35/100 [02:50<05:19,  4.92s/it]"
     ]
    },
    {
     "name": "stdout",
     "output_type": "stream",
     "text": [
      "('In the first two months of this year', 'DATE'), ('the total value of import and export trade', 'MONEY'), ('1.24 billion US dollars', 'MONEY')] "
     ]
    },
    {
     "name": "stderr",
     "output_type": "stream",
     "text": [
      " 36%|███▌      | 36/100 [02:57<05:46,  5.42s/it]"
     ]
    },
    {
     "name": "stdout",
     "output_type": "stream",
     "text": [
      "('Ash', 'PERSON'), ('Al-Queda', 'ORG')] "
     ]
    },
    {
     "name": "stderr",
     "output_type": "stream",
     "text": [
      " 37%|███▋      | 37/100 [03:01<05:18,  5.05s/it]"
     ]
    },
    {
     "name": "stdout",
     "output_type": "stream",
     "text": [
      "('The', 'ART'), ('situation', 'WORK_OF_ART')] "
     ]
    },
    {
     "name": "stderr",
     "output_type": "stream",
     "text": [
      " 38%|███▊      | 38/100 [03:05<04:52,  4.73s/it]"
     ]
    },
    {
     "name": "stdout",
     "output_type": "stream",
     "text": [
      "('Pelswick', 'WORK_OF_ART')] "
     ]
    },
    {
     "name": "stderr",
     "output_type": "stream",
     "text": [
      " 39%|███▉      | 39/100 [03:08<04:25,  4.35s/it]"
     ]
    },
    {
     "name": "stdout",
     "output_type": "stream",
     "text": [
      "('three', 'CARDINAL'), ('generations', 'QUANTITY')] "
     ]
    },
    {
     "name": "stderr",
     "output_type": "stream",
     "text": [
      " 40%|████      | 40/100 [03:12<04:14,  4.24s/it]"
     ]
    },
    {
     "name": "stdout",
     "output_type": "stream",
     "text": [
      "('Rice', 'PERSON'), ('GA summit', 'GPE'), ('St. Petersburgh', 'LOC')] "
     ]
    },
    {
     "name": "stderr",
     "output_type": "stream",
     "text": [
      " 41%|████      | 41/100 [03:17<04:14,  4.32s/it]"
     ]
    },
    {
     "name": "stdout",
     "output_type": "stream",
     "text": [
      "('society', 'GPE'), ('religion', 'RELIGION')] "
     ]
    },
    {
     "name": "stderr",
     "output_type": "stream",
     "text": [
      " 42%|████▏     | 42/100 [03:21<04:18,  4.45s/it]"
     ]
    },
    {
     "name": "stdout",
     "output_type": "stream",
     "text": [
      "('August', 'DATE'), ('US', 'GPE')] "
     ]
    },
    {
     "name": "stderr",
     "output_type": "stream",
     "text": [
      " 43%|████▎     | 43/100 [03:25<04:00,  4.21s/it]"
     ]
    },
    {
     "name": "stdout",
     "output_type": "stream",
     "text": [
      "('the accident', 'EVENT')] "
     ]
    },
    {
     "name": "stderr",
     "output_type": "stream",
     "text": [
      " 44%|████▍     | 44/100 [03:28<03:39,  3.91s/it]"
     ]
    },
    {
     "name": "stdout",
     "output_type": "stream",
     "text": [
      "('A', 'ART'), ('firm consensus', 'NORP'), ('finally arrived at', 'VERB'), (\"the Group\", 'ORG'), ('submitted to the president its proposal that Taiwan should ', 'VERB'), ('respond to the mainland 's '' one China '', 'VERB'), ('in accordance with the constitution of the ROC .', 'ADV')] "
     ]
    },
    {
     "name": "stderr",
     "output_type": "stream",
     "text": [
      " 45%|████▌     | 45/100 [03:38<05:08,  5.61s/it]"
     ]
    },
    {
     "name": "stdout",
     "output_type": "stream",
     "text": [
      "('the past two years', 'DATE'), ('more than a hundred', 'CARDINAL')] "
     ]
    },
    {
     "name": "stderr",
     "output_type": "stream",
     "text": [
      " 46%|████▌     | 46/100 [03:42<04:38,  5.17s/it]"
     ]
    },
    {
     "name": "stdout",
     "output_type": "stream",
     "text": [
      "('Japan', 'GPE')] "
     ]
    },
    {
     "name": "stderr",
     "output_type": "stream",
     "text": [
      " 47%|████▋     | 47/100 [03:45<03:57,  4.48s/it]"
     ]
    },
    {
     "name": "stdout",
     "output_type": "stream",
     "text": [
      "('European', 'GPE'), ('defense industry', 'ORG'), ('West Germany ', 'GPE'), ('Siemens AG', 'ORG'), ('Britain ', 'GPE'), ('Plessey Co.', 'ORG')] "
     ]
    },
    {
     "name": "stderr",
     "output_type": "stream",
     "text": [
      " 48%|████▊     | 48/100 [03:51<04:20,  5.01s/it]"
     ]
    },
    {
     "name": "stdout",
     "output_type": "stream",
     "text": [
      "('truck', 'PRODUCT'), ('bombs', 'WORK_OF_ART')] "
     ]
    },
    {
     "name": "stderr",
     "output_type": "stream",
     "text": [
      " 49%|████▉     | 49/100 [03:55<03:53,  4.58s/it]"
     ]
    },
    {
     "name": "stdout",
     "output_type": "stream",
     "text": [
      "('We', 'NORP'), ('must', 'VERB'), ('control', 'VERB'), ('the', 'DET'), ('desert', 'GPE'), ('that', 'CONJUNCTION'), ('is', 'AUXILIARY'), ('day', 'CARDINAL'), ('-by', '-'), ('-', '-'), ('eroding', 'VERB'), ('arable', 'NORP'), ('land', 'GPE'), (',', ',')] "
     ]
    },
    {
     "name": "stderr",
     "output_type": "stream",
     "text": [
      " 50%|█████     | 50/100 [04:03<04:47,  5.75s/it]"
     ]
    },
    {
     "name": "stdout",
     "output_type": "stream",
     "text": [
      "('Kuo', 'PERSON'), ('TGS ', 'ORG')] "
     ]
    },
    {
     "name": "stderr",
     "output_type": "stream",
     "text": [
      " 51%|█████     | 51/100 [04:07<04:12,  5.14s/it]"
     ]
    },
    {
     "name": "stdout",
     "output_type": "stream",
     "text": [
      "('human', 'GPE'), ('genome', 'WORK_OF_ART')] "
     ]
    },
    {
     "name": "stderr",
     "output_type": "stream",
     "text": [
      " 52%|█████▏    | 52/100 [04:10<03:39,  4.58s/it]"
     ]
    },
    {
     "name": "stdout",
     "output_type": "stream",
     "text": [
      "('California', 'GPE'), ('wholesale electricity prices', 'PRODUCT'), ('250 dollars per megawatt hour', 'MONEY'), ('1400 dollars per megawatt hour', 'MONEY')] "
     ]
    },
    {
     "name": "stderr",
     "output_type": "stream",
     "text": [
      " 53%|█████▎    | 53/100 [04:15<03:43,  4.76s/it]"
     ]
    },
    {
     "name": "stdout",
     "output_type": "stream",
     "text": [
      "('Johnsee Lee', 'PERSON'), ('BMEC director Johnsee Lee', 'ORG')] "
     ]
    },
    {
     "name": "stderr",
     "output_type": "stream",
     "text": [
      " 54%|█████▍    | 54/100 [04:19<03:28,  4.54s/it]"
     ]
    },
    {
     "name": "stdout",
     "output_type": "stream",
     "text": [
      "('Hugo Quackenbush', 'PERSON'), ('Charles Schwab Corp.', 'ORG')] "
     ]
    },
    {
     "name": "stderr",
     "output_type": "stream",
     "text": [
      " 55%|█████▌    | 55/100 [04:23<03:16,  4.37s/it]"
     ]
    },
    {
     "name": "stdout",
     "output_type": "stream",
     "text": [
      "('Maimaiti', 'GPE')] "
     ]
    },
    {
     "name": "stderr",
     "output_type": "stream",
     "text": [
      " 56%|█████▌    | 56/100 [04:26<02:52,  3.93s/it]"
     ]
    },
    {
     "name": "stdout",
     "output_type": "stream",
     "text": [
      "('Lanny', 'PERSON'), ('Freeh', 'PERSON')] "
     ]
    },
    {
     "name": "stderr",
     "output_type": "stream",
     "text": [
      " 57%|█████▋    | 57/100 [04:30<02:46,  3.88s/it]"
     ]
    },
    {
     "name": "stdout",
     "output_type": "stream",
     "text": [
      "('Clinton', 'PERSON'), ('Hasina', 'PERSON')] "
     ]
    },
    {
     "name": "stderr",
     "output_type": "stream",
     "text": [
      " 58%|█████▊    | 58/100 [04:33<02:36,  3.72s/it]"
     ]
    },
    {
     "name": "stdout",
     "output_type": "stream",
     "text": [
      "('Overall', 'CARDINAL'), ('South', 'GPE'), ('West', 'GPE')] "
     ]
    },
    {
     "name": "stderr",
     "output_type": "stream",
     "text": [
      " 59%|█████▉    | 59/100 [04:37<02:25,  3.55s/it]"
     ]
    },
    {
     "name": "stdout",
     "output_type": "stream",
     "text": [
      "('Tanshui', 'GPE')] "
     ]
    },
    {
     "name": "stderr",
     "output_type": "stream",
     "text": [
      " 60%|██████    | 60/100 [04:39<02:13,  3.34s/it]"
     ]
    },
    {
     "name": "stdout",
     "output_type": "stream",
     "text": [
      "('In', 'CARDINAL'), ('a similar vein', 'DATE'), ('the anniversary of the 1987 crash and Saturday ', 'DATE')] "
     ]
    },
    {
     "name": "stderr",
     "output_type": "stream",
     "text": [
      " 61%|██████    | 61/100 [04:44<02:27,  3.79s/it]"
     ]
    },
    {
     "name": "stdout",
     "output_type": "stream",
     "text": [
      "('U.S.', 'GPE'), ('next May 31', 'DATE')] "
     ]
    },
    {
     "name": "stderr",
     "output_type": "stream",
     "text": [
      " 62%|██████▏   | 62/100 [04:48<02:18,  3.65s/it]"
     ]
    },
    {
     "name": "stdout",
     "output_type": "stream",
     "text": [
      "('American', 'NORP'), ('French', 'GPE')] "
     ]
    },
    {
     "name": "stderr",
     "output_type": "stream",
     "text": [
      " 63%|██████▎   | 63/100 [04:51<02:16,  3.69s/it]"
     ]
    },
    {
     "name": "stdout",
     "output_type": "stream",
     "text": [
      "('public', 'GPE')] "
     ]
    },
    {
     "name": "stderr",
     "output_type": "stream",
     "text": [
      " 64%|██████▍   | 64/100 [04:54<02:01,  3.38s/it]"
     ]
    },
    {
     "name": "stdout",
     "output_type": "stream",
     "text": [
      "('Iraq', 'GPE'), ('military', 'FAC')] "
     ]
    },
    {
     "name": "stderr",
     "output_type": "stream",
     "text": [
      " 65%|██████▌   | 65/100 [04:58<01:59,  3.41s/it]"
     ]
    },
    {
     "name": "stdout",
     "output_type": "stream",
     "text": [
      "('Russia', 'GPE'), ('Pakistan', 'GPE'), ('India', 'GPE'), ('70 %', 'PERCENT')] "
     ]
    },
    {
     "name": "stderr",
     "output_type": "stream",
     "text": [
      " 66%|██████▌   | 66/100 [05:02<02:05,  3.68s/it]"
     ]
    },
    {
     "name": "stdout",
     "output_type": "stream",
     "text": [
      "('this 20 %', 'PERCENT')] "
     ]
    },
    {
     "name": "stderr",
     "output_type": "stream",
     "text": [
      " 67%|██████▋   | 67/100 [05:05<01:55,  3.51s/it]"
     ]
    },
    {
     "name": "stdout",
     "output_type": "stream",
     "text": [
      "('CNN', 'ORG'), ('MacNeil - Lehrer NewsHour', 'WORK_OF_ART')] "
     ]
    },
    {
     "name": "stderr",
     "output_type": "stream",
     "text": [
      " 68%|██████▊   | 68/100 [05:09<01:58,  3.70s/it]"
     ]
    },
    {
     "name": "stdout",
     "output_type": "stream",
     "text": [
      "('Enterprises', 'NORP')] "
     ]
    },
    {
     "name": "stderr",
     "output_type": "stream",
     "text": [
      " 69%|██████▉   | 69/100 [05:12<01:48,  3.50s/it]"
     ]
    },
    {
     "name": "stdout",
     "output_type": "stream",
     "text": [
      "('EPA', 'ORG')] "
     ]
    },
    {
     "name": "stderr",
     "output_type": "stream",
     "text": [
      " 70%|███████   | 70/100 [05:15<01:39,  3.32s/it]"
     ]
    },
    {
     "name": "stdout",
     "output_type": "stream",
     "text": [
      "('Mr.', 'PERSON'), ('Lantos', 'PERSON')] "
     ]
    },
    {
     "name": "stderr",
     "output_type": "stream",
     "text": [
      " 71%|███████   | 71/100 [05:18<01:36,  3.32s/it]"
     ]
    },
    {
     "name": "stdout",
     "output_type": "stream",
     "text": [
      "('Iraq', 'GPE')] "
     ]
    },
    {
     "name": "stderr",
     "output_type": "stream",
     "text": [
      " 72%|███████▏  | 72/100 [05:21<01:24,  3.03s/it]"
     ]
    },
    {
     "name": "stdout",
     "output_type": "stream",
     "text": [
      "('State', 'GPE'), ('small State - owned enterprises', 'ORG')] "
     ]
    },
    {
     "name": "stderr",
     "output_type": "stream",
     "text": [
      " 73%|███████▎  | 73/100 [05:24<01:25,  3.16s/it]"
     ]
    },
    {
     "name": "stdout",
     "output_type": "stream",
     "text": [
      "('Weisman', 'PERSON'), ('Mr.', 'GPE')] "
     ]
    },
    {
     "name": "stderr",
     "output_type": "stream",
     "text": [
      " 74%|███████▍  | 74/100 [05:28<01:24,  3.24s/it]"
     ]
    },
    {
     "name": "stdout",
     "output_type": "stream",
     "text": [
      "('middle', 'ORDINAL'), ('years', 'TIME')] "
     ]
    },
    {
     "name": "stderr",
     "output_type": "stream",
     "text": [
      " 75%|███████▌  | 75/100 [05:30<01:18,  3.13s/it]"
     ]
    },
    {
     "name": "stdout",
     "output_type": "stream",
     "text": [
      "('gorges', 'GPE'), ('mountains', 'FAC')] "
     ]
    },
    {
     "name": "stderr",
     "output_type": "stream",
     "text": [
      " 76%|███████▌  | 76/100 [05:34<01:16,  3.20s/it]"
     ]
    },
    {
     "name": "stdout",
     "output_type": "stream",
     "text": [
      "('town', 'GPE')] "
     ]
    },
    {
     "name": "stderr",
     "output_type": "stream",
     "text": [
      " 77%|███████▋  | 77/100 [05:36<01:08,  2.98s/it]"
     ]
    },
    {
     "name": "stdout",
     "output_type": "stream",
     "text": [
      "('the North Koreans', 'NORP')] "
     ]
    },
    {
     "name": "stderr",
     "output_type": "stream",
     "text": [
      " 78%|███████▊  | 78/100 [05:39<01:06,  3.02s/it]"
     ]
    },
    {
     "name": "stdout",
     "output_type": "stream",
     "text": [
      "('Dreyfus', 'PERSON')] "
     ]
    },
    {
     "name": "stderr",
     "output_type": "stream",
     "text": [
      " 79%|███████▉  | 79/100 [05:42<01:03,  3.01s/it]"
     ]
    },
    {
     "name": "stdout",
     "output_type": "stream",
     "text": [
      "('Xinhua', 'NORP'), ('Baghdad', 'GPE')] "
     ]
    },
    {
     "name": "stderr",
     "output_type": "stream",
     "text": [
      " 80%|████████  | 80/100 [05:47<01:07,  3.37s/it]"
     ]
    },
    {
     "name": "stdout",
     "output_type": "stream",
     "text": [
      "('Although', 'CARDINAL'), ('the report', 'WORK_OF_ART'), ('which was released before the stock market opened', 'TIME')] "
     ]
    },
    {
     "name": "stderr",
     "output_type": "stream",
     "text": [
      " 81%|████████  | 81/100 [05:51<01:12,  3.80s/it]"
     ]
    },
    {
     "name": "stdout",
     "output_type": "stream",
     "text": [
      "('Islam', 'NORP'), ('Sadr City', 'GPE')] "
     ]
    },
    {
     "name": "stderr",
     "output_type": "stream",
     "text": [
      " 82%|████████▏ | 82/100 [05:55<01:05,  3.64s/it]"
     ]
    },
    {
     "name": "stdout",
     "output_type": "stream",
     "text": [
      "('Ashton Carter', 'PERSON'), ('Robert Gallucci', 'PERSON'), (\"Georgetown University\", 'ORG')] "
     ]
    },
    {
     "name": "stderr",
     "output_type": "stream",
     "text": [
      " 83%|████████▎ | 83/100 [06:00<01:09,  4.10s/it]"
     ]
    },
    {
     "name": "stdout",
     "output_type": "stream",
     "text": [
      "('Shandong', 'GPE'), ('over 1480 projects', 'CARDINAL')] "
     ]
    },
    {
     "name": "stderr",
     "output_type": "stream",
     "text": [
      " 84%|████████▍ | 84/100 [06:04<01:03,  3.99s/it]"
     ]
    },
    {
     "name": "stdout",
     "output_type": "stream",
     "text": [
      "('Heinemann', 'PERSON')] "
     ]
    },
    {
     "name": "stderr",
     "output_type": "stream",
     "text": [
      " 85%|████████▌ | 85/100 [06:06<00:52,  3.52s/it]"
     ]
    },
    {
     "name": "stdout",
     "output_type": "stream",
     "text": [
      "('Dongguan', 'GPE'), ('3 factories', 'CARDINAL'), ('200 tons', 'CARDINAL'), ('70 tons', 'CARDINAL'), ('180 tons', 'CARDINAL')] "
     ]
    },
    {
     "name": "stderr",
     "output_type": "stream",
     "text": [
      " 86%|████████▌ | 86/100 [06:13<01:02,  4.47s/it]"
     ]
    },
    {
     "name": "stdout",
     "output_type": "stream",
     "text": [
      "('Rumsfeld', 'PERSON'), ('terrorism', 'NORP')] "
     ]
    },
    {
     "name": "stderr",
     "output_type": "stream",
     "text": [
      " 87%|████████▋ | 87/100 [06:16<00:54,  4.18s/it]"
     ]
    },
    {
     "name": "stdout",
     "output_type": "stream",
     "text": [
      "('Iran', 'GPE')] "
     ]
    },
    {
     "name": "stderr",
     "output_type": "stream",
     "text": [
      " 88%|████████▊ | 88/100 [06:19<00:45,  3.78s/it]"
     ]
    },
    {
     "name": "stdout",
     "output_type": "stream",
     "text": [
      "('Hong Kong', 'GPE'), ('airport', 'FAC')] "
     ]
    },
    {
     "name": "stderr",
     "output_type": "stream",
     "text": [
      " 89%|████████▉ | 89/100 [06:22<00:40,  3.67s/it]"
     ]
    },
    {
     "name": "stdout",
     "output_type": "stream",
     "text": [
      "('month', 'DATE'), ('a', 'CARDINAL')] "
     ]
    },
    {
     "name": "stderr",
     "output_type": "stream",
     "text": [
      " 90%|█████████ | 90/100 [06:26<00:35,  3.53s/it]"
     ]
    },
    {
     "name": "stdout",
     "output_type": "stream",
     "text": [
      "('House', 'ORG'), ('Ways and Means Committee', 'FAC')] "
     ]
    },
    {
     "name": "stderr",
     "output_type": "stream",
     "text": [
      " 91%|█████████ | 91/100 [06:29<00:30,  3.34s/it]"
     ]
    },
    {
     "name": "stdout",
     "output_type": "stream",
     "text": [
      "(\"Moody 's Investors Service Inc.\", 'ORG'), (\"Ba - 3\", 'LAW')] "
     ]
    },
    {
     "name": "stderr",
     "output_type": "stream",
     "text": [
      " 92%|█████████▏| 92/100 [06:33<00:28,  3.60s/it]"
     ]
    },
    {
     "name": "stdout",
     "output_type": "stream",
     "text": [
      "('The entire province', 'GPE'), ('nearly 1 billion US dollars', 'MONEY')] "
     ]
    },
    {
     "name": "stderr",
     "output_type": "stream",
     "text": [
      " 93%|█████████▎| 93/100 [06:37<00:26,  3.77s/it]"
     ]
    },
    {
     "name": "stdout",
     "output_type": "stream",
     "text": [
      "('He', 'PERSON'), ('regardless of whatever major changes happen in the international situation', 'DATE'), ('China', 'GPE'), ('France', 'GPE')] "
     ]
    },
    {
     "name": "stderr",
     "output_type": "stream",
     "text": [
      " 94%|█████████▍| 94/100 [06:41<00:23,  4.00s/it]"
     ]
    },
    {
     "name": "stdout",
     "output_type": "stream",
     "text": [
      "('Nicky', 'PERSON'), ('Allison', 'PERSON')] "
     ]
    },
    {
     "name": "stderr",
     "output_type": "stream",
     "text": [
      " 95%|█████████▌| 95/100 [06:45<00:19,  3.82s/it]"
     ]
    },
    {
     "name": "stdout",
     "output_type": "stream",
     "text": [
      "('Garden City', 'GPE'), ('N.Y.', 'GPE'), ('car - rental company', 'ORG'), ('NWA Inc.' ,'ORG'), (\"Pan Am Corp.\" ,'ORG'), ('Pan American World Airways unit', 'ORG'), ('Midway Airlines', 'ORG')] "
     ]
    },
    {
     "name": "stderr",
     "output_type": "stream",
     "text": [
      " 96%|█████████▌| 96/100 [06:52<00:18,  4.72s/it]"
     ]
    },
    {
     "name": "stdout",
     "output_type": "stream",
     "text": [
      "('California', 'GPE'), ('their customers', 'PERCENT'), ('outside suppliers', 'ORG')] "
     ]
    },
    {
     "name": "stderr",
     "output_type": "stream",
     "text": [
      " 97%|█████████▋| 97/100 [06:56<00:13,  4.46s/it]"
     ]
    },
    {
     "name": "stdout",
     "output_type": "stream",
     "text": [
      "('the Federal Reserve', 'ORG'), ('U.S.', 'GPE')] "
     ]
    },
    {
     "name": "stderr",
     "output_type": "stream",
     "text": [
      " 98%|█████████▊| 98/100 [06:59<00:08,  4.17s/it]"
     ]
    },
    {
     "name": "stdout",
     "output_type": "stream",
     "text": [
      "('International societies', 'ORG'), ('United Nations Development and Planning Office', 'ORG'), ('Industrial Development Organization', 'ORG'), ('Tumen River', 'LOC')] "
     ]
    },
    {
     "name": "stderr",
     "output_type": "stream",
     "text": [
      " 99%|█████████▉| 99/100 [07:04<00:04,  4.32s/it]"
     ]
    },
    {
     "name": "stdout",
     "output_type": "stream",
     "text": [
      "('Rumsfeld', 'PERSON'), ('we', 'PRONOUN'), ('them', 'PRONOUN')] "
     ]
    },
    {
     "name": "stderr",
     "output_type": "stream",
     "text": [
      "100%|██████████| 100/100 [07:08<00:00,  4.28s/it]\n"
     ]
    },
    {
     "name": "stdout",
     "output_type": "stream",
     "text": [
      "      and multi_prompt-get-entities-tagger\n",
      "./ner/saves/datasets/ontonote5_test_1403.pkl\n"
     ]
    },
    {
     "name": "stderr",
     "output_type": "stream",
     "text": [
      "  0%|          | 0/100 [00:00<?, ?it/s]"
     ]
    },
    {
     "name": "stdout",
     "output_type": "stream",
     "text": [
      " 'one' ] Output after the first prompt : ['one']\n",
      "\n",
      "'one' : '1',"
     ]
    },
    {
     "name": "stderr",
     "output_type": "stream",
     "text": [
      "  1%|          | 1/100 [00:04<08:04,  4.89s/it]"
     ]
    },
    {
     "name": "stdout",
     "output_type": "stream",
     "text": [
      "response of tagger : {\n",
      "'one' : '1',}\n",
      "[('one', 'CARDINAL')]\n",
      " ] Output after the first prompt : []\n",
      " "
     ]
    },
    {
     "name": "stderr",
     "output_type": "stream",
     "text": [
      "  2%|▏         | 2/100 [00:10<08:42,  5.33s/it]"
     ]
    },
    {
     "name": "stdout",
     "output_type": "stream",
     "text": [
      "response of tagger : { }\n",
      "[]\n",
      " ] Output after the first prompt : []\n",
      " "
     ]
    },
    {
     "name": "stderr",
     "output_type": "stream",
     "text": [
      "  3%|▎         | 3/100 [00:16<09:25,  5.83s/it]"
     ]
    },
    {
     "name": "stdout",
     "output_type": "stream",
     "text": [
      "response of tagger : { }\n",
      "[]\n",
      " 'four', 'big' ] Output after the first prompt : ['four', 'big']\n",
      "\n",
      "'four' : '1',\n",
      "   'big' : '4',"
     ]
    },
    {
     "name": "stderr",
     "output_type": "stream",
     "text": [
      "  4%|▍         | 4/100 [00:26<11:24,  7.13s/it]"
     ]
    },
    {
     "name": "stdout",
     "output_type": "stream",
     "text": [
      "response of tagger : {\n",
      "'four' : '1',\n",
      "   'big' : '4',}\n",
      "[('four', 'CARDINAL'), ('big', 'PERSON')]\n",
      " ] Output after the first prompt : []\n",
      " "
     ]
    },
    {
     "name": "stderr",
     "output_type": "stream",
     "text": [
      "  5%|▌         | 5/100 [00:32<10:44,  6.79s/it]"
     ]
    },
    {
     "name": "stdout",
     "output_type": "stream",
     "text": [
      "response of tagger : { }\n",
      "[]\n",
      " 'this quarter', \"year-earlier\", 'industry executives' ] Output after the first prompt : ['this quarter', 'year-earlier', 'industry executives']\n",
      "\n",
      "'this quarter' : '6',\n",
      "   'year-earlier' : '6',\n",
      "   'industry executives' : '4',"
     ]
    },
    {
     "name": "stderr",
     "output_type": "stream",
     "text": [
      "  6%|▌         | 6/100 [00:41<11:45,  7.51s/it]"
     ]
    },
    {
     "name": "stdout",
     "output_type": "stream",
     "text": [
      "response of tagger : {\n",
      "'this quarter' : '6',\n",
      "   'year-earlier' : '6',\n",
      "   'industry executives' : '4',}\n",
      "[('this quarter', 'DATE'), ('year-earlier', 'DATE'), ('industry executives', 'PERSON')]\n",
      " 'Charles Colson', 'Watergate' ] Output after the first prompt : ['Charles Colson', 'Watergate']\n",
      "\n",
      "'Charles Colson' : '4',\n",
      "   'Watergate' : 'E',"
     ]
    },
    {
     "name": "stderr",
     "output_type": "stream",
     "text": [
      "  7%|▋         | 7/100 [00:48<11:28,  7.40s/it]"
     ]
    },
    {
     "name": "stdout",
     "output_type": "stream",
     "text": [
      "response of tagger : {\n",
      "'Charles Colson' : '4',\n",
      "   'Watergate' : 'E',}\n",
      "[('Charles Colson', 'PERSON'), ('Watergate', 'GPE')]\n",
      " ] Output after the first prompt : []\n",
      " "
     ]
    },
    {
     "name": "stderr",
     "output_type": "stream",
     "text": [
      "  8%|▊         | 8/100 [00:54<10:48,  7.05s/it]"
     ]
    },
    {
     "name": "stdout",
     "output_type": "stream",
     "text": [
      "response of tagger : { }\n",
      "[]\n",
      " 'Dongguan', '3', '120,000 square meters' ] Output after the first prompt : ['Dongguan', '3', '120,000 square meters']\n",
      "\n",
      "'Dongguan' : 'E',\n",
      "   '3' : 'A',\n",
      "   '120,000 square meters' : 'C',"
     ]
    },
    {
     "name": "stderr",
     "output_type": "stream",
     "text": [
      "  9%|▉         | 9/100 [01:04<12:02,  7.94s/it]"
     ]
    },
    {
     "name": "stdout",
     "output_type": "stream",
     "text": [
      "response of tagger : {\n",
      "'Dongguan' : 'E',\n",
      "   '3' : 'A',\n",
      "   '120,000 square meters' : 'C',}\n",
      "[('Dongguan', 'GPE'), ('3', 'TIME'), ('120,000 square meters', 'QUANTITY')]\n",
      " 'China' ] Output after the first prompt : ['China']\n",
      "\n",
      "'China' : 'E',"
     ]
    },
    {
     "name": "stderr",
     "output_type": "stream",
     "text": [
      " 10%|█         | 10/100 [01:10<11:02,  7.36s/it]"
     ]
    },
    {
     "name": "stdout",
     "output_type": "stream",
     "text": [
      "response of tagger : {\n",
      "'China' : 'E',}\n",
      "[('China', 'GPE')]\n",
      "['Christy Whitman', 'White House']] Output after the first prompt : []\n",
      " "
     ]
    },
    {
     "name": "stderr",
     "output_type": "stream",
     "text": [
      " 11%|█         | 11/100 [01:17<10:40,  7.20s/it]"
     ]
    },
    {
     "name": "stdout",
     "output_type": "stream",
     "text": [
      "response of tagger : { }\n",
      "[]\n",
      " 'Workers', 'Van Nuys' , 'Oklahoma City' , 'Pontiac' ] Output after the first prompt : ['Workers', 'Van Nuys', 'Oklahoma City', 'Pontiac']\n",
      "\n",
      "'Workers' : 'B',\n",
      "   'Van Nuys' : 'E',\n",
      "   'Oklahoma City' : 'E',\n",
      "   'Pontiac' : 'B',"
     ]
    },
    {
     "name": "stderr",
     "output_type": "stream",
     "text": [
      " 12%|█▏        | 12/100 [01:29<12:43,  8.67s/it]"
     ]
    },
    {
     "name": "stdout",
     "output_type": "stream",
     "text": [
      "response of tagger : {\n",
      "'Workers' : 'B',\n",
      "   'Van Nuys' : 'E',\n",
      "   'Oklahoma City' : 'E',\n",
      "   'Pontiac' : 'B',}\n",
      "[('Workers', 'ORG'), ('Van Nuys', 'GPE'), ('Oklahoma City', 'GPE'), ('Pontiac', 'ORG')]\n",
      " \"Shandong\", \"over 1480\" ] Output after the first prompt : ['Shandong', 'over 1480']\n",
      "\n",
      "'Shandong' : 'E',\n",
      "   'over 1480' : '9',"
     ]
    },
    {
     "name": "stderr",
     "output_type": "stream",
     "text": [
      " 13%|█▎        | 13/100 [01:38<12:46,  8.81s/it]"
     ]
    },
    {
     "name": "stdout",
     "output_type": "stream",
     "text": [
      "response of tagger : {\n",
      "'Shandong' : 'E',\n",
      "   'over 1480' : '9',}\n",
      "[('Shandong', 'GPE'), ('over 1480', 'MONEY')]\n",
      "Hence] [I think] [this is ] [a test of e-government because] [as I remember] [during SARS in 2003] [people at that time criticized e-government during the spread of SARS] Output after the first prompt : []\n",
      "\n"
     ]
    },
    {
     "name": "stderr",
     "output_type": "stream",
     "text": [
      " 14%|█▍        | 14/100 [01:49<13:29,  9.42s/it]"
     ]
    },
    {
     "name": "stdout",
     "output_type": "stream",
     "text": [
      "response of tagger : {\n",
      "}\n",
      "[]\n",
      " ] Output after the first prompt : []\n",
      " "
     ]
    },
    {
     "name": "stderr",
     "output_type": "stream",
     "text": [
      " 15%|█▌        | 15/100 [01:55<11:59,  8.47s/it]"
     ]
    },
    {
     "name": "stdout",
     "output_type": "stream",
     "text": [
      "response of tagger : { }\n",
      "[]\n",
      " 'Linpien', 'Pingtung' ] Output after the first prompt : ['Linpien', 'Pingtung']\n",
      "\n",
      "'Linpien' : 'E',\n",
      "   'Pingtung' : 'E',"
     ]
    },
    {
     "name": "stderr",
     "output_type": "stream",
     "text": [
      " 16%|█▌        | 16/100 [02:05<12:22,  8.84s/it]"
     ]
    },
    {
     "name": "stdout",
     "output_type": "stream",
     "text": [
      "response of tagger : {\n",
      "'Linpien' : 'E',\n",
      "   'Pingtung' : 'E',}\n",
      "[('Linpien', 'GPE'), ('Pingtung', 'GPE')]\n",
      " ] Output after the first prompt : []\n",
      " "
     ]
    },
    {
     "name": "stderr",
     "output_type": "stream",
     "text": [
      " 17%|█▋        | 17/100 [02:12<11:18,  8.17s/it]"
     ]
    },
    {
     "name": "stdout",
     "output_type": "stream",
     "text": [
      "response of tagger : { }\n",
      "[]\n",
      " 'Analysts', 'the climb in oil prices last month' ] Output after the first prompt : ['Analysts', 'the climb in oil prices last month']\n",
      "\n",
      "'Analysts' : 'G',\n",
      "   'the climb in oil prices last month' : '6',"
     ]
    },
    {
     "name": "stderr",
     "output_type": "stream",
     "text": [
      " 18%|█▊        | 18/100 [02:21<11:49,  8.65s/it]"
     ]
    },
    {
     "name": "stdout",
     "output_type": "stream",
     "text": [
      "response of tagger : {\n",
      "'Analysts' : 'G',\n",
      "   'the climb in oil prices last month' : '6',}\n",
      "[('Analysts', 'NORP'), ('the climb in oil prices last month', 'DATE')]\n",
      " 'Shanghai', '218', '6', 'overseas group companies' , '260', '200 million US dollars'] Output after the first prompt : ['Shanghai', '218', '6', 'overseas group companies', '260', '200 million US dollars']\n",
      "\n",
      "'Shanghai' : 'E',\n",
      "   '218' : '1',\n",
      "   '6' : '1',\n",
      "   'overseas group companies' : '5',\n",
      "   '260' : '1',\n",
      "   '200 million US dollars' : '9',"
     ]
    },
    {
     "name": "stderr",
     "output_type": "stream",
     "text": [
      " 19%|█▉        | 19/100 [02:37<14:33, 10.78s/it]"
     ]
    },
    {
     "name": "stdout",
     "output_type": "stream",
     "text": [
      "response of tagger : {\n",
      "'Shanghai' : 'E',\n",
      "   '218' : '1',\n",
      "   '6' : '1',\n",
      "   'overseas group companies' : '5',\n",
      "   '260' : '1',\n",
      "   '200 million US dollars' : '9',}\n",
      "[('Shanghai', 'GPE'), ('218', 'CARDINAL'), ('6', 'CARDINAL'), ('overseas group companies', 'LOC'), ('260', 'CARDINAL'), ('200 million US dollars', 'MONEY')]\n",
      " ] Output after the first prompt : []\n",
      " "
     ]
    },
    {
     "name": "stderr",
     "output_type": "stream",
     "text": [
      " 20%|██        | 20/100 [02:44<12:59,  9.74s/it]"
     ]
    },
    {
     "name": "stdout",
     "output_type": "stream",
     "text": [
      "response of tagger : { }\n",
      "[]\n",
      " ] Output after the first prompt : []\n",
      " "
     ]
    },
    {
     "name": "stderr",
     "output_type": "stream",
     "text": [
      " 21%|██        | 21/100 [02:51<11:44,  8.92s/it]"
     ]
    },
    {
     "name": "stdout",
     "output_type": "stream",
     "text": [
      "response of tagger : { }\n",
      "[]\n",
      " 'Royal Trustco Ltd.', 'Costa Mesa', '$ 949 million' ] Output after the first prompt : ['Royal Trustco Ltd.', 'Costa Mesa', '$ 949 million']\n",
      "\n",
      "'Royal Trustco Ltd.' : 'B',\n",
      "   'Costa Mesa' : 'E',\n",
      "   '$ 949 million' : '9',"
     ]
    },
    {
     "name": "stderr",
     "output_type": "stream",
     "text": [
      " 22%|██▏       | 22/100 [03:04<12:56,  9.95s/it]"
     ]
    },
    {
     "name": "stdout",
     "output_type": "stream",
     "text": [
      "response of tagger : {\n",
      "'Royal Trustco Ltd.' : 'B',\n",
      "   'Costa Mesa' : 'E',\n",
      "   '$ 949 million' : '9',}\n",
      "[('Royal Trustco Ltd.', 'ORG'), ('Costa Mesa', 'GPE'), ('$ 949 million', 'MONEY')]\n",
      " 'Mexico', 'the previous year', '110.380 billion US dollars', '109.798 billion US dollars', '15 %', '22.7 %' ] Output after the first prompt : ['Mexico', 'the previous year', '110.380 billion US dollars', '109.798 billion US dollars', '15 %', '22.7 %']\n",
      "\n",
      "'Mexico' : 'E',\n",
      "   'the previous year' : '6',\n",
      "   '110.380 billion US dollars' : '9',\n",
      "   '109.798 billion US dollars' : '9',\n",
      "   '15 %' : '7',\n",
      "   '22.7 %' : '7',"
     ]
    },
    {
     "name": "stderr",
     "output_type": "stream",
     "text": [
      " 23%|██▎       | 23/100 [03:23<16:15, 12.66s/it]"
     ]
    },
    {
     "name": "stdout",
     "output_type": "stream",
     "text": [
      "response of tagger : {\n",
      "'Mexico' : 'E',\n",
      "   'the previous year' : '6',\n",
      "   '110.380 billion US dollars' : '9',\n",
      "   '109.798 billion US dollars' : '9',\n",
      "   '15 %' : '7',\n",
      "   '22.7 %' : '7',}\n",
      "[('Mexico', 'GPE'), ('the previous year', 'DATE'), ('110.380 billion US dollars', 'MONEY'), ('109.798 billion US dollars', 'MONEY'), ('15 %', 'PERCENT'), ('22.7 %', 'PERCENT')]\n",
      " 'month', 'current' ] Output after the first prompt : ['month', 'current']\n",
      "\n",
      "'month' : '6',\n",
      "   'current' : '1',"
     ]
    },
    {
     "name": "stderr",
     "output_type": "stream",
     "text": [
      " 24%|██▍       | 24/100 [03:31<14:18, 11.29s/it]"
     ]
    },
    {
     "name": "stdout",
     "output_type": "stream",
     "text": [
      "response of tagger : {\n",
      "'month' : '6',\n",
      "   'current' : '1',}\n",
      "[('month', 'DATE'), ('current', 'CARDINAL')]\n",
      "'.9 percent', 'three minutes'] Output after the first prompt : ['.9 percent', 'three minutes']\n",
      "\n",
      "'.9 percent' : '7',\n",
      "   'three minutes' : 'A',"
     ]
    },
    {
     "name": "stderr",
     "output_type": "stream",
     "text": [
      " 25%|██▌       | 25/100 [03:39<12:56, 10.35s/it]"
     ]
    },
    {
     "name": "stdout",
     "output_type": "stream",
     "text": [
      "response of tagger : {\n",
      "'.9 percent' : '7',\n",
      "   'three minutes' : 'A',}\n",
      "[('.9 percent', 'PERCENT'), ('three minutes', 'TIME')]\n",
      " 'January', 'November' ] Output after the first prompt : ['January', 'November']\n",
      "\n",
      "'January' : '6',\n",
      "   'November' : '6',"
     ]
    },
    {
     "name": "stderr",
     "output_type": "stream",
     "text": [
      " 26%|██▌       | 26/100 [03:49<12:35, 10.21s/it]"
     ]
    },
    {
     "name": "stdout",
     "output_type": "stream",
     "text": [
      "response of tagger : {\n",
      "'January' : '6',\n",
      "   'November' : '6',}\n",
      "[('January', 'DATE'), ('November', 'DATE')]\n",
      " 'Analysts', 'the Federal Reserve' ] Output after the first prompt : ['Analysts', 'the Federal Reserve']\n",
      "\n",
      "'Analysts' : '4',\n",
      "   'the Federal Reserve' : 'B',"
     ]
    },
    {
     "name": "stderr",
     "output_type": "stream",
     "text": [
      " 27%|██▋       | 27/100 [03:57<11:47,  9.69s/it]"
     ]
    },
    {
     "name": "stdout",
     "output_type": "stream",
     "text": [
      "response of tagger : {\n",
      "'Analysts' : '4',\n",
      "   'the Federal Reserve' : 'B',}\n",
      "[('Analysts', 'PERSON'), ('the Federal Reserve', 'ORG')]\n",
      "'.'] Output after the first prompt : ['.']\n",
      "\n",
      "'.': 'E',"
     ]
    },
    {
     "name": "stderr",
     "output_type": "stream",
     "text": [
      " 28%|██▊       | 28/100 [04:04<10:35,  8.82s/it]"
     ]
    },
    {
     "name": "stdout",
     "output_type": "stream",
     "text": [
      "response of tagger : {\n",
      "'.': 'E',}\n",
      "[('.', 'GPE')]\n",
      " 'Young & Rubicam', 'New Haven' ] Output after the first prompt : ['Young & Rubicam', 'New Haven']\n",
      "\n",
      "'Young & Rubicam' : 'B',\n",
      "   'New Haven' : 'E',"
     ]
    },
    {
     "name": "stderr",
     "output_type": "stream",
     "text": [
      " 29%|██▉       | 29/100 [04:13<10:38,  9.00s/it]"
     ]
    },
    {
     "name": "stdout",
     "output_type": "stream",
     "text": [
      "response of tagger : {\n",
      "'Young & Rubicam' : 'B',\n",
      "   'New Haven' : 'E',}\n",
      "[('Young & Rubicam', 'ORG'), ('New Haven', 'GPE')]\n",
      "Tsao Chi - hung', 'the Linpien Residents ' Democracy Association'] Output after the first prompt : []\n",
      " "
     ]
    },
    {
     "name": "stderr",
     "output_type": "stream",
     "text": [
      " 30%|███       | 30/100 [04:21<10:09,  8.70s/it]"
     ]
    },
    {
     "name": "stdout",
     "output_type": "stream",
     "text": [
      "response of tagger : { }\n",
      "[]\n",
      " 'August', '23rd' , 'US president', 'UN population fund'] Output after the first prompt : ['August', '23rd', 'US president', 'UN population fund']\n",
      "\n",
      "'August' : '6',\n",
      "   '23rd' : '6',\n",
      "   'US president' : '4',\n",
      "   'UN population fund' : 'B',"
     ]
    },
    {
     "name": "stderr",
     "output_type": "stream",
     "text": [
      " 31%|███       | 31/100 [04:33<11:06,  9.66s/it]"
     ]
    },
    {
     "name": "stdout",
     "output_type": "stream",
     "text": [
      "response of tagger : {\n",
      "'August' : '6',\n",
      "   '23rd' : '6',\n",
      "   'US president' : '4',\n",
      "   'UN population fund' : 'B',}\n",
      "[('August', 'DATE'), ('23rd', 'DATE'), ('US president', 'PERSON'), ('UN population fund', 'ORG')]\n",
      " 'last year', '850 million US dollars', '72%', 'the Tianjin Port Bonded Area', '700 million US dollars', '75 %'] Output after the first prompt : ['last year', '850 million US dollars', '72%', 'the Tianjin Port Bonded Area', '700 million US dollars', '75 %']\n",
      "\n",
      "'last year' : '6',\n",
      "   '850 million US dollars' : '9',\n",
      "   '72%' : '1',\n",
      "   'the Tianjin Port Bonded Area' : 'E',\n",
      "   '700 million US dollars' : '9',\n",
      "   '75 %' : '1',"
     ]
    },
    {
     "name": "stderr",
     "output_type": "stream",
     "text": [
      " 32%|███▏      | 32/100 [04:50<13:15, 11.70s/it]"
     ]
    },
    {
     "name": "stdout",
     "output_type": "stream",
     "text": [
      "response of tagger : {\n",
      "'last year' : '6',\n",
      "   '850 million US dollars' : '9',\n",
      "   '72%' : '1',\n",
      "   'the Tianjin Port Bonded Area' : 'E',\n",
      "   '700 million US dollars' : '9',\n",
      "   '75 %' : '1',}\n",
      "[('last year', 'DATE'), ('850 million US dollars', 'MONEY'), ('72%', 'CARDINAL'), ('the Tianjin Port Bonded Area', 'GPE'), ('700 million US dollars', 'MONEY'), ('75 %', 'CARDINAL')]\n",
      " ] Output after the first prompt : []\n",
      " "
     ]
    },
    {
     "name": "stderr",
     "output_type": "stream",
     "text": [
      " 33%|███▎      | 33/100 [04:57<11:23, 10.20s/it]"
     ]
    },
    {
     "name": "stdout",
     "output_type": "stream",
     "text": [
      "response of tagger : { }\n",
      "[]\n",
      " 'Weatherford', '$ 6 million'] Output after the first prompt : ['Weatherford', '$ 6 million']\n",
      "\n",
      "'Weatherford' : 'B',\n",
      "   '$ 6 million' : '1',"
     ]
    },
    {
     "name": "stderr",
     "output_type": "stream",
     "text": [
      " 34%|███▍      | 34/100 [05:06<10:51,  9.88s/it]"
     ]
    },
    {
     "name": "stdout",
     "output_type": "stream",
     "text": [
      "response of tagger : {\n",
      "'Weatherford' : 'B',\n",
      "   '$ 6 million' : '1',}\n",
      "[('Weatherford', 'ORG'), ('$ 6 million', 'CARDINAL')]\n",
      " ] Output after the first prompt : []\n",
      " "
     ]
    },
    {
     "name": "stderr",
     "output_type": "stream",
     "text": [
      " 35%|███▌      | 35/100 [05:12<09:26,  8.72s/it]"
     ]
    },
    {
     "name": "stdout",
     "output_type": "stream",
     "text": [
      "response of tagger : { }\n",
      "[]\n",
      " 'Oklahoma City', 'A - body mid-sized cars' ] Output after the first prompt : ['Oklahoma City', 'A - body mid-sized cars']\n",
      "\n",
      "'Oklahoma City' : 'E',\n",
      "   'A - body mid-sized cars' : '8',"
     ]
    },
    {
     "name": "stderr",
     "output_type": "stream",
     "text": [
      " 36%|███▌      | 36/100 [05:23<09:59,  9.37s/it]"
     ]
    },
    {
     "name": "stdout",
     "output_type": "stream",
     "text": [
      "response of tagger : {\n",
      "'Oklahoma City' : 'E',\n",
      "   'A - body mid-sized cars' : '8',}\n",
      "[('Oklahoma City', 'GPE'), ('A - body mid-sized cars', 'PRODUCT')]\n",
      "'''] Output after the first prompt : []\n",
      " "
     ]
    },
    {
     "name": "stderr",
     "output_type": "stream",
     "text": [
      " 37%|███▋      | 37/100 [05:29<08:50,  8.42s/it]"
     ]
    },
    {
     "name": "stdout",
     "output_type": "stream",
     "text": [
      "response of tagger : { }\n",
      "[]\n",
      " 'Li Yung', 'Tanshui', 'three' ] Output after the first prompt : ['Li Yung', 'Tanshui', 'three']\n",
      "\n",
      "'Li Yung' : '4',\n",
      "   'Tanshui' : 'E',\n",
      "   'three' : '1',"
     ]
    },
    {
     "name": "stderr",
     "output_type": "stream",
     "text": [
      " 38%|███▊      | 38/100 [05:40<09:36,  9.30s/it]"
     ]
    },
    {
     "name": "stdout",
     "output_type": "stream",
     "text": [
      "response of tagger : {\n",
      "'Li Yung' : '4',\n",
      "   'Tanshui' : 'E',\n",
      "   'three' : '1',}\n",
      "[('Li Yung', 'PERSON'), ('Tanshui', 'GPE'), ('three', 'CARDINAL')]\n",
      "'.', 'Brazil'] Output after the first prompt : ['.', 'Brazil']\n",
      "\n",
      "'.' : '6',\n",
      "   'Brazil' : 'E',"
     ]
    },
    {
     "name": "stderr",
     "output_type": "stream",
     "text": [
      " 39%|███▉      | 39/100 [05:49<09:17,  9.14s/it]"
     ]
    },
    {
     "name": "stdout",
     "output_type": "stream",
     "text": [
      "response of tagger : {\n",
      "'.' : '6',\n",
      "   'Brazil' : 'E',}\n",
      "[('.', 'DATE'), ('Brazil', 'GPE')]\n",
      "$ 60 billion] Output after the first prompt : []\n",
      " "
     ]
    },
    {
     "name": "stderr",
     "output_type": "stream",
     "text": [
      " 40%|████      | 40/100 [05:56<08:34,  8.57s/it]"
     ]
    },
    {
     "name": "stdout",
     "output_type": "stream",
     "text": [
      "response of tagger : { }\n",
      "[]\n",
      " 'really', 'big' ] Output after the first prompt : ['really', 'big']\n",
      "\n",
      "'really' : '1',\n",
      "   'big' : '6',"
     ]
    },
    {
     "name": "stderr",
     "output_type": "stream",
     "text": [
      " 41%|████      | 41/100 [06:04<08:13,  8.36s/it]"
     ]
    },
    {
     "name": "stdout",
     "output_type": "stream",
     "text": [
      "response of tagger : {\n",
      "'really' : '1',\n",
      "   'big' : '6',}\n",
      "[('really', 'CARDINAL'), ('big', 'DATE')]\n",
      " 'Beijing', '- 3' ] Output after the first prompt : ['Beijing', '- 3']\n",
      "\n",
      "'Beijing' : 'E',\n",
      "   '- 3' : '6',"
     ]
    },
    {
     "name": "stderr",
     "output_type": "stream",
     "text": [
      " 42%|████▏     | 42/100 [06:14<08:26,  8.73s/it]"
     ]
    },
    {
     "name": "stdout",
     "output_type": "stream",
     "text": [
      "response of tagger : {\n",
      "'Beijing' : 'E',\n",
      "   '- 3' : '6',}\n",
      "[('Beijing', 'GPE'), ('- 3', 'DATE')]\n",
      " 'boundless', 'industrial park' ] Output after the first prompt : ['boundless', 'industrial park']\n",
      "\n",
      "'boundless' : 'A',\n",
      "   'industrial park' : 'E',"
     ]
    },
    {
     "name": "stderr",
     "output_type": "stream",
     "text": [
      " 43%|████▎     | 43/100 [06:23<08:26,  8.89s/it]"
     ]
    },
    {
     "name": "stdout",
     "output_type": "stream",
     "text": [
      "response of tagger : {\n",
      "'boundless' : 'A',\n",
      "   'industrial park' : 'E',}\n",
      "[('boundless', 'TIME'), ('industrial park', 'GPE')]\n",
      "1%] Output after the first prompt : []\n",
      "\n"
     ]
    },
    {
     "name": "stderr",
     "output_type": "stream",
     "text": [
      " 44%|████▍     | 44/100 [06:29<07:28,  8.01s/it]"
     ]
    },
    {
     "name": "stdout",
     "output_type": "stream",
     "text": [
      "response of tagger : {\n",
      "}\n",
      "[]\n",
      " 'David Williams', 'the man in the green' ] Output after the first prompt : ['David Williams', 'the man in the green']\n",
      "\n",
      "'David Williams' : '4',\n",
      "   'the man in the green' : 'B',"
     ]
    },
    {
     "name": "stderr",
     "output_type": "stream",
     "text": [
      " 45%|████▌     | 45/100 [06:38<07:38,  8.33s/it]"
     ]
    },
    {
     "name": "stdout",
     "output_type": "stream",
     "text": [
      "response of tagger : {\n",
      "'David Williams' : '4',\n",
      "   'the man in the green' : 'B',}\n",
      "[('David Williams', 'PERSON'), ('the man in the green', 'ORG')]\n",
      "['Arianna Huffington', 'the Times piece a lengthy piece'], ['Judy Miller was a controversial figure in the newsroom whose own WMD reporting was wrong and that while she claims to have pushed for this uh story on Valerie Plame two years ago Jill Abrahamson now the paper 's managing editor says No way']] Output after the first prompt : []\n",
      "\n",
      "'Arianna Huffington' : '4',\n",
      "   'the Times piece a lengthy piece acknowledges that Judy Miller was a controversial figure in the newsroom whose own WMD reporting was wrong and that while she claims to have pushed for this uh story on Valerie Plame two years ago Jill Abrahamson now the paper 's managing editor says No way /.' : '4',"
     ]
    },
    {
     "name": "stderr",
     "output_type": "stream",
     "text": [
      " 46%|████▌     | 46/100 [06:58<10:34, 11.76s/it]"
     ]
    },
    {
     "name": "stdout",
     "output_type": "stream",
     "text": [
      "response of tagger : {\n",
      "'Arianna Huffington' : '4',\n",
      "   'the Times piece a lengthy piece acknowledges that Judy Miller was a controversial figure in the newsroom whose own WMD reporting was wrong and that while she claims to have pushed for this uh story on Valerie Plame two years ago Jill Abrahamson now the paper 's managing editor says No way /.' : '4',}\n",
      "[]\n",
      " ] Output after the first prompt : []\n",
      " "
     ]
    },
    {
     "name": "stderr",
     "output_type": "stream",
     "text": [
      " 47%|████▋     | 47/100 [07:05<09:07, 10.33s/it]"
     ]
    },
    {
     "name": "stdout",
     "output_type": "stream",
     "text": [
      "response of tagger : { }\n",
      "[]\n",
      " 'Time Warner Inc. ', \"Weekly magazine\", \"executives at Time\" ] Output after the first prompt : ['Time Warner Inc. ', 'Weekly magazine', 'executives at Time']\n",
      "\n",
      "'Time Warner Inc. ' : 'B',\n",
      "   'Weekly magazine' : 'B',\n",
      "   'executives at Time' : 'B',"
     ]
    },
    {
     "name": "stderr",
     "output_type": "stream",
     "text": [
      " 48%|████▊     | 48/100 [07:16<09:14, 10.66s/it]"
     ]
    },
    {
     "name": "stdout",
     "output_type": "stream",
     "text": [
      "response of tagger : {\n",
      "'Time Warner Inc. ' : 'B',\n",
      "   'Weekly magazine' : 'B',\n",
      "   'executives at Time' : 'B',}\n",
      "[('Time Warner Inc. ', 'ORG'), ('Weekly magazine', 'ORG'), ('executives at Time', 'ORG')]\n",
      " ] Output after the first prompt : []\n",
      " "
     ]
    },
    {
     "name": "stderr",
     "output_type": "stream",
     "text": [
      " 49%|████▉     | 49/100 [07:24<08:24,  9.89s/it]"
     ]
    },
    {
     "name": "stdout",
     "output_type": "stream",
     "text": [
      "response of tagger : { }\n",
      "[]\n",
      " 'The FBI', 'Yemen' ] Output after the first prompt : ['The FBI', 'Yemen']\n",
      "\n",
      "'The FBI' : 'B',\n",
      "   'Yemen' : 'E',"
     ]
    },
    {
     "name": "stderr",
     "output_type": "stream",
     "text": [
      " 50%|█████     | 50/100 [07:33<08:04,  9.69s/it]"
     ]
    },
    {
     "name": "stdout",
     "output_type": "stream",
     "text": [
      "response of tagger : {\n",
      "'The FBI' : 'B',\n",
      "   'Yemen' : 'E',}\n",
      "[('The FBI', 'ORG'), ('Yemen', 'GPE')]\n",
      " 'Export credits', \"international financing leaseholds\", \"compensation trades with foreign exchange repayment methods\" , \"overseas institution 's and individual 's foreign exchange deposits -LRB- excluding foreign exchange deposits in banks approved for offshore operations -RRB-\" , \"project financing\" , \"financing under trade projects over 90 days\" ] Output after the first prompt : ['Export credits', 'international financing leaseholds', 'compensation trades with foreign exchange repayment methods', \"overseas institution 's and individual 's foreign exchange deposits -LRB- excluding foreign exchange deposits in banks approved for offshore operations -RRB-\", 'project financing', 'financing under trade projects over 90 days']\n",
      "\n",
      "'Export credits' : '8',\n",
      "   'international financing leaseholds' : '8',\n",
      "   'compensation trades with foreign exchange repayment methods' : '8',\n",
      "   \"overseas institution 's and individual 's foreign exchange deposits -LRB- excluding foreign exchange deposits in banks approved for offshore operations -RRB-\" : '8',\n",
      "   'project financing' : '8',\n",
      "   'financing under trade projects over 90 days' : '8',"
     ]
    },
    {
     "name": "stderr",
     "output_type": "stream",
     "text": [
      " 51%|█████     | 51/100 [07:56<11:00, 13.49s/it]"
     ]
    },
    {
     "name": "stdout",
     "output_type": "stream",
     "text": [
      "response of tagger : {\n",
      "'Export credits' : '8',\n",
      "   'international financing leaseholds' : '8',\n",
      "   'compensation trades with foreign exchange repayment methods' : '8',\n",
      "   \"overseas institution 's and individual 's foreign exchange deposits -LRB- excluding foreign exchange deposits in banks approved for offshore operations -RRB-\" : '8',\n",
      "   'project financing' : '8',\n",
      "   'financing under trade projects over 90 days' : '8',}\n",
      "[('Export credits', 'PRODUCT'), ('international financing leaseholds', 'PRODUCT'), ('compensation trades with foreign exchange repayment methods', 'PRODUCT'), (\"overseas institution 's and individual 's foreign exchange deposits -LRB- excluding foreign exchange deposits in banks approved for offshore operations -RRB-\", 'PRODUCT'), ('project financing', 'PRODUCT'), ('financing under trade projects over 90 days', 'PRODUCT')]\n",
      " 'We', 'both' ] Output after the first prompt : ['We', 'both']\n",
      "\n",
      "'We' : '4',\n",
      "   'both' : 'G',"
     ]
    },
    {
     "name": "stderr",
     "output_type": "stream",
     "text": [
      " 52%|█████▏    | 52/100 [08:04<09:27, 11.82s/it]"
     ]
    },
    {
     "name": "stdout",
     "output_type": "stream",
     "text": [
      "response of tagger : {\n",
      "'We' : '4',\n",
      "   'both' : 'G',}\n",
      "[('We', 'PERSON'), ('both', 'NORP')]\n",
      "''] Output after the first prompt : ['']\n",
      " "
     ]
    },
    {
     "name": "stderr",
     "output_type": "stream",
     "text": [
      " 53%|█████▎    | 53/100 [08:11<08:05, 10.33s/it]"
     ]
    },
    {
     "name": "stdout",
     "output_type": "stream",
     "text": [
      "response of tagger : { }\n",
      "[]\n",
      " ] Output after the first prompt : []\n",
      " "
     ]
    },
    {
     "name": "stderr",
     "output_type": "stream",
     "text": [
      " 54%|█████▍    | 54/100 [08:17<07:01,  9.17s/it]"
     ]
    },
    {
     "name": "stdout",
     "output_type": "stream",
     "text": [
      "response of tagger : { }\n",
      "[]\n",
      " 'LA', 'legal status'] Output after the first prompt : ['LA', 'legal status']\n",
      "\n",
      "'LA' : 'E',\n",
      "   'legal status' : 'H'"
     ]
    },
    {
     "name": "stderr",
     "output_type": "stream",
     "text": [
      " 55%|█████▌    | 55/100 [08:25<06:40,  8.91s/it]"
     ]
    },
    {
     "name": "stdout",
     "output_type": "stream",
     "text": [
      "response of tagger : {\n",
      "'LA' : 'E',\n",
      "   'legal status' : 'H'}\n",
      "[('LA', 'GPE'), ('legal status', 'EVENT')]\n",
      " 'Bashar Al - Assad', 'Israel' ] Output after the first prompt : ['Bashar Al - Assad', 'Israel']\n",
      "\n",
      "'Bashar Al - Assad' : '4',\n",
      "   'Israel' : 'G',"
     ]
    },
    {
     "name": "stderr",
     "output_type": "stream",
     "text": [
      " 56%|█████▌    | 56/100 [08:35<06:42,  9.15s/it]"
     ]
    },
    {
     "name": "stdout",
     "output_type": "stream",
     "text": [
      "response of tagger : {\n",
      "'Bashar Al - Assad' : '4',\n",
      "   'Israel' : 'G',}\n",
      "[('Bashar Al - Assad', 'PERSON'), ('Israel', 'NORP')]\n",
      "['Unseasonably hot', 'the Great Plains'], ['winter wheat - growing areas', 'Washington', 'Oregon']] Output after the first prompt : []\n",
      " "
     ]
    },
    {
     "name": "stderr",
     "output_type": "stream",
     "text": [
      " 57%|█████▋    | 57/100 [08:44<06:34,  9.18s/it]"
     ]
    },
    {
     "name": "stdout",
     "output_type": "stream",
     "text": [
      "response of tagger : { }\n",
      "[]\n",
      " ] Output after the first prompt : []\n",
      " "
     ]
    },
    {
     "name": "stderr",
     "output_type": "stream",
     "text": [
      " 58%|█████▊    | 58/100 [08:51<05:54,  8.45s/it]"
     ]
    },
    {
     "name": "stdout",
     "output_type": "stream",
     "text": [
      "response of tagger : { }\n",
      "[]\n",
      "['China', 'Chinese'], ['vast majority', 'majority'], ['income', 'income'], ['unreported income', 'income']] Output after the first prompt : []\n",
      " "
     ]
    },
    {
     "name": "stderr",
     "output_type": "stream",
     "text": [
      " 59%|█████▉    | 59/100 [09:01<06:00,  8.79s/it]"
     ]
    },
    {
     "name": "stdout",
     "output_type": "stream",
     "text": [
      "response of tagger : { }\n",
      "[]\n",
      " 'more than 50', 'US' ] Output after the first prompt : ['more than 50', 'US']\n",
      "\n",
      "'more than 50' : '1',\n",
      "   'US' : 'B',"
     ]
    },
    {
     "name": "stderr",
     "output_type": "stream",
     "text": [
      " 60%|██████    | 60/100 [09:10<05:58,  8.96s/it]"
     ]
    },
    {
     "name": "stdout",
     "output_type": "stream",
     "text": [
      "response of tagger : {\n",
      "'more than 50' : '1',\n",
      "   'US' : 'B',}\n",
      "[('more than 50', 'CARDINAL'), ('US', 'ORG')]\n",
      " 'In', 'the last two years' , 'he has led the task force to conduct many field interviews and investigations on left - behind children in numerous rural areas in central and western China' , 'Shaanxi' , 'Ningxia' , 'Hebei' , 'Beijing'] Output after the first prompt : ['In', 'the last two years', 'he has led the task force to conduct many field interviews and investigations on left - behind children in numerous rural areas in central and western China', 'Shaanxi', 'Ningxia', 'Hebei', 'Beijing']\n",
      "\n",
      "'In' : 'A',\n",
      "   'the last two years' : '6',\n",
      "   'he has led the task force to conduct many field interviews and investigations on left - behind children in numerous rural areas in central and western China' : '',\n",
      "   'Shaanxi' : 'E',\n",
      "   'Ningxia' : 'E',\n",
      "   'Hebei' : 'E',\n",
      "   'Beijing' : 'E',"
     ]
    },
    {
     "name": "stderr",
     "output_type": "stream",
     "text": [
      " 61%|██████    | 61/100 [09:30<08:00, 12.31s/it]"
     ]
    },
    {
     "name": "stdout",
     "output_type": "stream",
     "text": [
      "response of tagger : {\n",
      "'In' : 'A',\n",
      "   'the last two years' : '6',\n",
      "   'he has led the task force to conduct many field interviews and investigations on left - behind children in numerous rural areas in central and western China' : '',\n",
      "   'Shaanxi' : 'E',\n",
      "   'Ningxia' : 'E',\n",
      "   'Hebei' : 'E',\n",
      "   'Beijing' : 'E',}\n",
      "[('In', 'TIME'), ('the last two years', 'DATE'), ('Shaanxi', 'GPE'), ('Ningxia', 'GPE'), ('Hebei', 'GPE'), ('Beijing', 'GPE')]\n",
      "Lee, DPP] Output after the first prompt : []\n",
      "\n",
      "'No entities found in On the evening of November 18 Advisory Group chairman Lee Yuan - tseh , meeting over dinner with DPP faction leaders , described the cross-strait situation as extremely precarious , and said that since time is not on Taiwan 's side we need to step up efforts to resume dialogue with the mainland .' : { \n"
     ]
    },
    {
     "name": "stderr",
     "output_type": "stream",
     "text": [
      " 62%|██████▏   | 62/100 [09:44<08:11, 12.94s/it]"
     ]
    },
    {
     "name": "stdout",
     "output_type": "stream",
     "text": [
      "response of tagger : {\n",
      "'No entities found in On the evening of November 18 Advisory Group chairman Lee Yuan - tseh , meeting over dinner with DPP faction leaders , described the cross-strait situation as extremely precarious , and said that since time is not on Taiwan 's side we need to step up efforts to resume dialogue with the mainland .' : { \n",
      "}\n",
      "[]\n",
      " ] Output after the first prompt : []\n",
      " "
     ]
    },
    {
     "name": "stderr",
     "output_type": "stream",
     "text": [
      " 63%|██████▎   | 63/100 [09:51<06:47, 11.01s/it]"
     ]
    },
    {
     "name": "stdout",
     "output_type": "stream",
     "text": [
      "response of tagger : { }\n",
      "[]\n",
      " ] Output after the first prompt : []\n",
      " "
     ]
    },
    {
     "name": "stderr",
     "output_type": "stream",
     "text": [
      " 64%|██████▍   | 64/100 [09:58<05:49,  9.70s/it]"
     ]
    },
    {
     "name": "stdout",
     "output_type": "stream",
     "text": [
      "response of tagger : { }\n",
      "[]\n",
      " '3', 'Taiwan', 'Dongguan', '10', '20,000', 'Taiwanese' ] Output after the first prompt : ['3', 'Taiwan', 'Dongguan', '10', '20,000', 'Taiwanese']\n",
      "\n",
      "'3,000' : '1',\n",
      "   'Taiwan' : 'E',\n",
      "   'Dongguan' : 'E',\n",
      "   '10' : '6',\n",
      "   '20,000' : '1',\n",
      "   'Taiwanese' : 'G'"
     ]
    },
    {
     "name": "stderr",
     "output_type": "stream",
     "text": [
      " 65%|██████▌   | 65/100 [10:13<06:40, 11.45s/it]"
     ]
    },
    {
     "name": "stdout",
     "output_type": "stream",
     "text": [
      "response of tagger : {\n",
      "'3,000' : '1',\n",
      "   'Taiwan' : 'E',\n",
      "   'Dongguan' : 'E',\n",
      "   '10' : '6',\n",
      "   '20,000' : '1',\n",
      "   'Taiwanese' : 'G'}\n",
      "[('3,000', 'CARDINAL'), ('Taiwan', 'GPE'), ('Dongguan', 'GPE'), ('10', 'DATE'), ('20,000', 'CARDINAL'), ('Taiwanese', 'NORP')]\n",
      " ] Output after the first prompt : []\n",
      " "
     ]
    },
    {
     "name": "stderr",
     "output_type": "stream",
     "text": [
      " 66%|██████▌   | 66/100 [10:20<05:38,  9.97s/it]"
     ]
    },
    {
     "name": "stdout",
     "output_type": "stream",
     "text": [
      "response of tagger : { }\n",
      "[]\n",
      " ] Output after the first prompt : []\n",
      " "
     ]
    },
    {
     "name": "stderr",
     "output_type": "stream",
     "text": [
      " 67%|██████▋   | 67/100 [10:26<04:54,  8.94s/it]"
     ]
    },
    {
     "name": "stdout",
     "output_type": "stream",
     "text": [
      "response of tagger : { }\n",
      "[]\n",
      " ] Output after the first prompt : []\n",
      " "
     ]
    },
    {
     "name": "stderr",
     "output_type": "stream",
     "text": [
      " 68%|██████▊   | 68/100 [10:33<04:21,  8.17s/it]"
     ]
    },
    {
     "name": "stdout",
     "output_type": "stream",
     "text": [
      "response of tagger : { }\n",
      "[]\n",
      " 'Lee Teng - hui', '1983' ] Output after the first prompt : ['Lee Teng - hui', '1983']\n",
      "\n",
      "'Lee Teng - hui' : '4',\n",
      "   '1983' : '6',"
     ]
    },
    {
     "name": "stderr",
     "output_type": "stream",
     "text": [
      " 69%|██████▉   | 69/100 [10:43<04:33,  8.81s/it]"
     ]
    },
    {
     "name": "stdout",
     "output_type": "stream",
     "text": [
      "response of tagger : {\n",
      "'Lee Teng - hui' : '4',\n",
      "   '1983' : '6',}\n",
      "[('Lee Teng - hui', 'PERSON'), ('1983', 'DATE')]\n",
      " ] Output after the first prompt : []\n",
      "\n"
     ]
    },
    {
     "name": "stderr",
     "output_type": "stream",
     "text": [
      " 70%|███████   | 70/100 [10:49<04:01,  8.06s/it]"
     ]
    },
    {
     "name": "stdout",
     "output_type": "stream",
     "text": [
      "response of tagger : {\n",
      "}\n",
      "[]\n",
      " 'As' ] Output after the first prompt : ['As']\n",
      "\n",
      "'As' : 'A',"
     ]
    },
    {
     "name": "stderr",
     "output_type": "stream",
     "text": [
      " 71%|███████   | 71/100 [10:57<03:48,  7.86s/it]"
     ]
    },
    {
     "name": "stdout",
     "output_type": "stream",
     "text": [
      "response of tagger : {\n",
      "'As' : 'A',}\n",
      "[('As', 'TIME')]\n",
      "u'the', 'North', 'Koreans'] Output after the first prompt : ['the', 'North', 'Koreans']\n",
      "\n",
      "'the' : '1',\n",
      "   'North' : 'E',\n",
      "   'Koreans' : 'G',"
     ]
    },
    {
     "name": "stderr",
     "output_type": "stream",
     "text": [
      " 72%|███████▏  | 72/100 [11:07<03:58,  8.50s/it]"
     ]
    },
    {
     "name": "stdout",
     "output_type": "stream",
     "text": [
      "response of tagger : {\n",
      "'the' : '1',\n",
      "   'North' : 'E',\n",
      "   'Koreans' : 'G',}\n",
      "[('the', 'CARDINAL'), ('North', 'GPE'), ('Koreans', 'NORP')]\n",
      " ] Output after the first prompt : []\n",
      " "
     ]
    },
    {
     "name": "stderr",
     "output_type": "stream",
     "text": [
      " 73%|███████▎  | 73/100 [11:13<03:31,  7.85s/it]"
     ]
    },
    {
     "name": "stdout",
     "output_type": "stream",
     "text": [
      "response of tagger : { }\n",
      "[]\n",
      " 'Aug. 2' ] Output after the first prompt : ['Aug. 2']\n",
      "\n",
      "'Aug. 2' : '6',"
     ]
    },
    {
     "name": "stderr",
     "output_type": "stream",
     "text": [
      " 74%|███████▍  | 74/100 [11:21<03:26,  7.93s/it]"
     ]
    },
    {
     "name": "stdout",
     "output_type": "stream",
     "text": [
      "response of tagger : {\n",
      "'Aug. 2' : '6',}\n",
      "[('Aug. 2', 'DATE')]\n",
      " 'Iraq', 'the United Nations' ] Output after the first prompt : ['Iraq', 'the United Nations']\n",
      "\n",
      "'Iraq' : 'E',\n",
      "   'the United Nations' : 'B',"
     ]
    },
    {
     "name": "stderr",
     "output_type": "stream",
     "text": [
      " 75%|███████▌  | 75/100 [11:30<03:27,  8.31s/it]"
     ]
    },
    {
     "name": "stdout",
     "output_type": "stream",
     "text": [
      "response of tagger : {\n",
      "'Iraq' : 'E',\n",
      "   'the United Nations' : 'B',}\n",
      "[('Iraq', 'GPE'), ('the United Nations', 'ORG')]\n",
      " 'Taiwan', 'Chang' ] Output after the first prompt : ['Taiwan', 'Chang']\n",
      "\n",
      "'Taiwan' : 'E',\n",
      "   'Chang' : '4',"
     ]
    },
    {
     "name": "stderr",
     "output_type": "stream",
     "text": [
      " 76%|███████▌  | 76/100 [11:40<03:32,  8.87s/it]"
     ]
    },
    {
     "name": "stdout",
     "output_type": "stream",
     "text": [
      "response of tagger : {\n",
      "'Taiwan' : 'E',\n",
      "   'Chang' : '4',}\n",
      "[('Taiwan', 'GPE'), ('Chang', 'PERSON')]\n",
      "['the National Economy Work Conference', 'this year'], ['State - owned enterprise reform']] Output after the first prompt : []\n",
      " "
     ]
    },
    {
     "name": "stderr",
     "output_type": "stream",
     "text": [
      " 77%|███████▋  | 77/100 [11:49<03:21,  8.74s/it]"
     ]
    },
    {
     "name": "stdout",
     "output_type": "stream",
     "text": [
      "response of tagger : { }\n",
      "[]\n",
      " 'Republican', 'senators' ] Output after the first prompt : ['Republican', 'senators']\n",
      "\n",
      "'Republican' : 'G',\n",
      "   'senators' : 'B',"
     ]
    },
    {
     "name": "stderr",
     "output_type": "stream",
     "text": [
      " 78%|███████▊  | 78/100 [11:59<03:20,  9.13s/it]"
     ]
    },
    {
     "name": "stdout",
     "output_type": "stream",
     "text": [
      "response of tagger : {\n",
      "'Republican' : 'G',\n",
      "   'senators' : 'B',}\n",
      "[('Republican', 'NORP'), ('senators', 'ORG')]\n",
      " ] Output after the first prompt : []\n",
      " "
     ]
    },
    {
     "name": "stderr",
     "output_type": "stream",
     "text": [
      " 79%|███████▉  | 79/100 [12:05<02:55,  8.34s/it]"
     ]
    },
    {
     "name": "stdout",
     "output_type": "stream",
     "text": [
      "response of tagger : { }\n",
      "[]\n",
      " 'Chinese', '20 %', 'the 20 %', '80 %' ] Output after the first prompt : ['Chinese', '20 %', 'the 20 %', '80 %']\n",
      "\n",
      "'Chinese' : 'G',\n",
      "   '20 %' : '7',\n",
      "   'the 20 %' : '7',\n",
      "   '80 %' : '7',"
     ]
    },
    {
     "name": "stderr",
     "output_type": "stream",
     "text": [
      " 80%|████████  | 80/100 [12:17<03:05,  9.30s/it]"
     ]
    },
    {
     "name": "stdout",
     "output_type": "stream",
     "text": [
      "response of tagger : {\n",
      "'Chinese' : 'G',\n",
      "   '20 %' : '7',\n",
      "   'the 20 %' : '7',\n",
      "   '80 %' : '7',}\n",
      "[('Chinese', 'NORP'), ('20 %', 'PERCENT'), ('the 20 %', 'PERCENT'), ('80 %', 'PERCENT')]\n",
      " 'CIA', 'Pentagon' ] Output after the first prompt : ['CIA', 'Pentagon']\n",
      "\n",
      "'CIA' : 'B',\n",
      "   'Pentagon' : 'B',"
     ]
    },
    {
     "name": "stderr",
     "output_type": "stream",
     "text": [
      " 81%|████████  | 81/100 [12:26<02:56,  9.26s/it]"
     ]
    },
    {
     "name": "stdout",
     "output_type": "stream",
     "text": [
      "response of tagger : {\n",
      "'CIA' : 'B',\n",
      "   'Pentagon' : 'B',}\n",
      "[('CIA', 'ORG'), ('Pentagon', 'ORG')]\n",
      "''It'', 'Washington'] Output after the first prompt : []\n",
      " "
     ]
    },
    {
     "name": "stderr",
     "output_type": "stream",
     "text": [
      " 82%|████████▏ | 82/100 [12:35<02:42,  9.02s/it]"
     ]
    },
    {
     "name": "stdout",
     "output_type": "stream",
     "text": [
      "response of tagger : { }\n",
      "[]\n",
      " 'Time', \"Richard Heinemann\"] Output after the first prompt : ['Time', 'Richard Heinemann']\n",
      "\n",
      "'Time' : 'B',\n",
      "   'Richard Heinemann' : '4',"
     ]
    },
    {
     "name": "stderr",
     "output_type": "stream",
     "text": [
      " 83%|████████▎ | 83/100 [12:44<02:36,  9.23s/it]"
     ]
    },
    {
     "name": "stdout",
     "output_type": "stream",
     "text": [
      "response of tagger : {\n",
      "'Time' : 'B',\n",
      "   'Richard Heinemann' : '4',}\n",
      "[('Time', 'ORG'), ('Richard Heinemann', 'PERSON')]\n",
      "''] Output after the first prompt : ['']\n",
      " "
     ]
    },
    {
     "name": "stderr",
     "output_type": "stream",
     "text": [
      " 84%|████████▍ | 84/100 [12:51<02:13,  8.32s/it]"
     ]
    },
    {
     "name": "stdout",
     "output_type": "stream",
     "text": [
      "response of tagger : { }\n",
      "[]\n",
      " 'Rumsfeld', 'your neighbors' , 'weapons of mass destruction' , 'dictatorship' ] Output after the first prompt : ['Rumsfeld', 'your neighbors', 'weapons of mass destruction', 'dictatorship']\n",
      "\n",
      "'Rumsfeld' : '4',\n",
      "   'your neighbors' : 'B',\n",
      "   'weapons of mass destruction' : '10',\n",
      "   'dictatorship' : '8',"
     ]
    },
    {
     "name": "stderr",
     "output_type": "stream",
     "text": [
      " 85%|████████▌ | 85/100 [13:02<02:21,  9.41s/it]"
     ]
    },
    {
     "name": "stdout",
     "output_type": "stream",
     "text": [
      "response of tagger : {\n",
      "'Rumsfeld' : '4',\n",
      "   'your neighbors' : 'B',\n",
      "   'weapons of mass destruction' : '10',\n",
      "   'dictatorship' : '8',}\n",
      "[('Rumsfeld', 'PERSON'), ('your neighbors', 'ORG'), ('dictatorship', 'PRODUCT')]\n",
      " \"In\", \"a\", \"separate\", \"first\", \"person\", \"account\", \"Miller\", \"confirmed\", \"that\", \"she\", \"told\", \"the\", \"grand\", \"jury\", \"that\", \"Scooter\", \"Libby\", \"Dick\", \"Cheney's\", \"top\", \"aide\", \"discussed\", \"with\", \"her\", \"as\", \"many\", \"as\", \"three\", \"times\", \"the\", \"role\", \"of\", \"Valerie\", \"Plame\", \"as\", \"a\", \"CIA\", \"employee\" ] Output after the first prompt : ['In', 'a', 'separate', 'first', 'person', 'account', 'Miller', 'confirmed', 'that', 'she', 'told', 'the', 'grand', 'jury', 'that', 'Scooter', 'Libby', 'Dick', \"Cheney's\", 'top', 'aide', 'discussed', 'with', 'her', 'as', 'many', 'as', 'three', 'times', 'the', 'role', 'of', 'Valerie', 'Plame', 'as', 'a', 'CIA', 'employee']\n",
      "\n",
      "'In' : 'A',\n",
      "   'a' : '1',\n",
      "   'separate' : '6',\n",
      "   'first' : '6',\n",
      "   'person' : '4',\n",
      "   'account' : '5',\n",
      "   'Miller' : '4',\n",
      "   'confirmed' : 'A',\n",
      "   'that' : '1',\n",
      "   'she' : '4',\n",
      "   'told' : '6',\n",
      "   'the' : '2',\n",
      "   'grand' : '5',\n",
      "   'jury' : '3',\n",
      "   'that' : '1',\n",
      "   'Scooter' : '4',\n",
      "   'Libby' : '4',\n",
      "   'Dick' : '4',\n",
      "   \"Cheney's\" : '4',\n",
      "   'top' : '5',\n",
      "   'aide' : '3',\n",
      "   'discussed' : '6',\n",
      "   'with"
     ]
    },
    {
     "name": "stderr",
     "output_type": "stream",
     "text": [
      " 86%|████████▌ | 86/100 [13:38<03:59, 17.11s/it]"
     ]
    },
    {
     "name": "stdout",
     "output_type": "stream",
     "text": [
      "response of tagger : {\n",
      "'In' : 'A',\n",
      "   'a' : '1',\n",
      "   'separate' : '6',\n",
      "   'first' : '6',\n",
      "   'person' : '4',\n",
      "   'account' : '5',\n",
      "   'Miller' : '4',\n",
      "   'confirmed' : 'A',\n",
      "   'that' : '1',\n",
      "   'she' : '4',\n",
      "   'told' : '6',\n",
      "   'the' : '2',\n",
      "   'grand' : '5',\n",
      "   'jury' : '3',\n",
      "   'that' : '1',\n",
      "   'Scooter' : '4',\n",
      "   'Libby' : '4',\n",
      "   'Dick' : '4',\n",
      "   \"Cheney's\" : '4',\n",
      "   'top' : '5',\n",
      "   'aide' : '3',\n",
      "   'discussed' : '6',\n",
      "   'with}\n",
      "[]\n",
      "['It', 'is']] Output after the first prompt : []\n",
      "\n"
     ]
    },
    {
     "name": "stderr",
     "output_type": "stream",
     "text": [
      " 87%|████████▋ | 87/100 [13:44<03:02, 14.01s/it]"
     ]
    },
    {
     "name": "stdout",
     "output_type": "stream",
     "text": [
      "response of tagger : {\n",
      "}\n",
      "[]\n",
      "''I Have a Dream''] Output after the first prompt : []\n",
      " "
     ]
    },
    {
     "name": "stderr",
     "output_type": "stream",
     "text": [
      " 88%|████████▊ | 88/100 [13:51<02:21, 11.78s/it]"
     ]
    },
    {
     "name": "stdout",
     "output_type": "stream",
     "text": [
      "response of tagger : { }\n",
      "[]\n",
      " 'Sunbelt', 'Dallas', 'Valley Ranch' ] Output after the first prompt : ['Sunbelt', 'Dallas', 'Valley Ranch']\n",
      "\n",
      "'Sunbelt' : 'B',\n",
      "   'Dallas' : 'E',\n",
      "   'Valley Ranch' : '0',"
     ]
    },
    {
     "name": "stderr",
     "output_type": "stream",
     "text": [
      " 89%|████████▉ | 89/100 [14:02<02:08, 11.65s/it]"
     ]
    },
    {
     "name": "stdout",
     "output_type": "stream",
     "text": [
      "response of tagger : {\n",
      "'Sunbelt' : 'B',\n",
      "   'Dallas' : 'E',\n",
      "   'Valley Ranch' : '0',}\n",
      "[('Sunbelt', 'ORG'), ('Dallas', 'GPE'), ('Valley Ranch', 'FAC')]\n",
      " '$ 239 million', 'New York ', 'Chicago', 'Washington'] Output after the first prompt : ['$ 239 million', 'New York ', 'Chicago', 'Washington']\n",
      "\n",
      "'$ 239 million' : '9',\n",
      "   'New York ' : 'B',\n",
      "   'Chicago' : 'B',\n",
      "   'Washington' : 'B',"
     ]
    },
    {
     "name": "stderr",
     "output_type": "stream",
     "text": [
      " 90%|█████████ | 90/100 [14:13<01:53, 11.36s/it]"
     ]
    },
    {
     "name": "stdout",
     "output_type": "stream",
     "text": [
      "response of tagger : {\n",
      "'$ 239 million' : '9',\n",
      "   'New York ' : 'B',\n",
      "   'Chicago' : 'B',\n",
      "   'Washington' : 'B',}\n",
      "[('$ 239 million', 'MONEY'), ('New York ', 'ORG'), ('Chicago', 'ORG'), ('Washington', 'ORG')]\n",
      " \"nearly 30 million US dollars\", 'over 10 million US dollars'] Output after the first prompt : ['nearly 30 million US dollars', 'over 10 million US dollars']\n",
      "\n",
      "'nearly 30 million US dollars' : '9',\n",
      "   'over 10 million US dollars' : '9',"
     ]
    },
    {
     "name": "stderr",
     "output_type": "stream",
     "text": [
      " 91%|█████████ | 91/100 [14:23<01:40, 11.13s/it]"
     ]
    },
    {
     "name": "stdout",
     "output_type": "stream",
     "text": [
      "response of tagger : {\n",
      "'nearly 30 million US dollars' : '9',\n",
      "   'over 10 million US dollars' : '9',}\n",
      "[('nearly 30 million US dollars', 'MONEY'), ('over 10 million US dollars', 'MONEY')]\n",
      "''] Output after the first prompt : ['']\n",
      " "
     ]
    },
    {
     "name": "stderr",
     "output_type": "stream",
     "text": [
      " 92%|█████████▏| 92/100 [14:30<01:18,  9.76s/it]"
     ]
    },
    {
     "name": "stdout",
     "output_type": "stream",
     "text": [
      "response of tagger : { }\n",
      "[]\n",
      " '97,963', 'more than 3.08 billion yuan' ] Output after the first prompt : ['97,963', 'more than 3.08 billion yuan']\n",
      "\n",
      "'97,963' : 'C',\n",
      "   'more than 3.08 billion yuan' : '9',"
     ]
    },
    {
     "name": "stderr",
     "output_type": "stream",
     "text": [
      " 93%|█████████▎| 93/100 [14:42<01:12, 10.42s/it]"
     ]
    },
    {
     "name": "stdout",
     "output_type": "stream",
     "text": [
      "response of tagger : {\n",
      "'97,963' : 'C',\n",
      "   'more than 3.08 billion yuan' : '9',}\n",
      "[('97,963', 'QUANTITY'), ('more than 3.08 billion yuan', 'MONEY')]\n",
      " ] Output after the first prompt : []\n",
      " "
     ]
    },
    {
     "name": "stderr",
     "output_type": "stream",
     "text": [
      " 94%|█████████▍| 94/100 [14:50<00:57,  9.56s/it]"
     ]
    },
    {
     "name": "stdout",
     "output_type": "stream",
     "text": [
      "response of tagger : { }\n",
      "[]\n",
      "''I'', 'Hertz', 'Avis'] Output after the first prompt : []\n",
      " "
     ]
    },
    {
     "name": "stderr",
     "output_type": "stream",
     "text": [
      " 95%|█████████▌| 95/100 [14:58<00:45,  9.12s/it]"
     ]
    },
    {
     "name": "stdout",
     "output_type": "stream",
     "text": [
      "response of tagger : { }\n",
      "[]\n",
      " 'Chen Shui - bian', 'one' ] Output after the first prompt : ['Chen Shui - bian', 'one']\n",
      "\n",
      "'Chen Shui - bian' : '4',\n",
      "   'one' : '1',"
     ]
    },
    {
     "name": "stderr",
     "output_type": "stream",
     "text": [
      " 96%|█████████▌| 96/100 [15:07<00:36,  9.16s/it]"
     ]
    },
    {
     "name": "stdout",
     "output_type": "stream",
     "text": [
      "response of tagger : {\n",
      "'Chen Shui - bian' : '4',\n",
      "   'one' : '1',}\n",
      "[('Chen Shui - bian', 'PERSON'), ('one', 'CARDINAL')]\n",
      " 'House', 'Transportation' ] Output after the first prompt : ['House', 'Transportation']\n",
      "\n",
      "'House' : 'E',\n",
      "   'Transportation' : 'E',"
     ]
    },
    {
     "name": "stderr",
     "output_type": "stream",
     "text": [
      " 97%|█████████▋| 97/100 [15:16<00:27,  9.06s/it]"
     ]
    },
    {
     "name": "stdout",
     "output_type": "stream",
     "text": [
      "response of tagger : {\n",
      "'House' : 'E',\n",
      "   'Transportation' : 'E',}\n",
      "[('House', 'GPE'), ('Transportation', 'GPE')]\n",
      "Arthur Sulzberger, \"Judy Miller\", \"the reporting\"] Output after the first prompt : []\n",
      " "
     ]
    },
    {
     "name": "stderr",
     "output_type": "stream",
     "text": [
      " 98%|█████████▊| 98/100 [15:24<00:17,  8.84s/it]"
     ]
    },
    {
     "name": "stdout",
     "output_type": "stream",
     "text": [
      "response of tagger : { }\n",
      "[]\n",
      "['North Korea']] Output after the first prompt : []\n",
      " "
     ]
    },
    {
     "name": "stderr",
     "output_type": "stream",
     "text": [
      " 99%|█████████▉| 99/100 [15:31<00:08,  8.36s/it]"
     ]
    },
    {
     "name": "stdout",
     "output_type": "stream",
     "text": [
      "response of tagger : { }\n",
      "[]\n",
      " ] Output after the first prompt : []\n",
      " "
     ]
    },
    {
     "name": "stderr",
     "output_type": "stream",
     "text": [
      "100%|██████████| 100/100 [15:37<00:00,  9.38s/it]\n"
     ]
    },
    {
     "name": "stdout",
     "output_type": "stream",
     "text": [
      "response of tagger : { }\n",
      "[]\n",
      "./ner/saves/datasets/ontonote5_test_1403.pkl\n"
     ]
    },
    {
     "name": "stderr",
     "output_type": "stream",
     "text": [
      "  0%|          | 0/100 [00:00<?, ?it/s]"
     ]
    },
    {
     "name": "stdout",
     "output_type": "stream",
     "text": [
      "PacifiCare Health Systems Inc.', 'UniHealth America Inc', '700,000', '800,000'] Output after the first prompt : []\n",
      "\n",
      "'PacifiCare Health Systems Inc.' : 'B',\n",
      "   '1.5 million' : '1',"
     ]
    },
    {
     "name": "stderr",
     "output_type": "stream",
     "text": [
      "  1%|          | 1/100 [00:12<21:12, 12.85s/it]"
     ]
    },
    {
     "name": "stdout",
     "output_type": "stream",
     "text": [
      "response of tagger : {\n",
      "'PacifiCare Health Systems Inc.' : 'B',\n",
      "   '1.5 million' : '1',}\n",
      "[('PacifiCare Health Systems Inc.', 'ORG'), ('1.5 million', 'CARDINAL')]\n",
      " 'He', 'China', 'France' ] Output after the first prompt : ['He', 'China', 'France']\n",
      "\n",
      "'He' : '4',\n",
      "   'China' : 'E',\n",
      "   'France' : 'E',"
     ]
    },
    {
     "name": "stderr",
     "output_type": "stream",
     "text": [
      "  2%|▏         | 2/100 [00:22<18:19, 11.22s/it]"
     ]
    },
    {
     "name": "stdout",
     "output_type": "stream",
     "text": [
      "response of tagger : {\n",
      "'He' : '4',\n",
      "   'China' : 'E',\n",
      "   'France' : 'E',}\n",
      "[('He', 'PERSON'), ('China', 'GPE'), ('France', 'GPE')]\n",
      " 'air conditioners', '$ 1.10' ] Output after the first prompt : ['air conditioners', '$ 1.10']\n",
      "\n",
      "'air conditioners' : '9',\n",
      "   '$ 1.10' : '9',"
     ]
    },
    {
     "name": "stderr",
     "output_type": "stream",
     "text": [
      "  3%|▎         | 3/100 [00:32<16:49, 10.41s/it]"
     ]
    },
    {
     "name": "stdout",
     "output_type": "stream",
     "text": [
      "response of tagger : {\n",
      "'air conditioners' : '9',\n",
      "   '$ 1.10' : '9',}\n",
      "[('air conditioners', 'MONEY'), ('$ 1.10', 'MONEY')]\n",
      " 'We', 'bloodshed' ] Output after the first prompt : ['We', 'bloodshed']\n",
      "\n",
      "'We' : '4',\n",
      "   'bloodshed' : 'H',"
     ]
    },
    {
     "name": "stderr",
     "output_type": "stream",
     "text": [
      "  4%|▍         | 4/100 [00:41<15:51,  9.91s/it]"
     ]
    },
    {
     "name": "stdout",
     "output_type": "stream",
     "text": [
      "response of tagger : {\n",
      "'We' : '4',\n",
      "   'bloodshed' : 'H',}\n",
      "[('We', 'PERSON'), ('bloodshed', 'EVENT')]\n",
      " 'Shanghai', 'Southeast Asia', 'Oceania', 'Latin America', 'the Middle East', 'South Africa' ] Output after the first prompt : ['Shanghai', 'Southeast Asia', 'Oceania', 'Latin America', 'the Middle East', 'South Africa']\n",
      "\n",
      "'Shanghai' : 'E',\n",
      "   'Southeast Asia' : 'G',\n",
      "   'Oceania' : 'G',\n",
      "   'Latin America' : 'G',\n",
      "   'the Middle East' : 'G',\n",
      "   'South Africa' : 'G',"
     ]
    },
    {
     "name": "stderr",
     "output_type": "stream",
     "text": [
      "  5%|▌         | 5/100 [00:55<18:09, 11.46s/it]"
     ]
    },
    {
     "name": "stdout",
     "output_type": "stream",
     "text": [
      "response of tagger : {\n",
      "'Shanghai' : 'E',\n",
      "   'Southeast Asia' : 'G',\n",
      "   'Oceania' : 'G',\n",
      "   'Latin America' : 'G',\n",
      "   'the Middle East' : 'G',\n",
      "   'South Africa' : 'G',}\n",
      "[('Shanghai', 'GPE'), ('Southeast Asia', 'NORP'), ('Oceania', 'NORP'), ('Latin America', 'NORP'), ('the Middle East', 'NORP'), ('South Africa', 'NORP')]\n",
      " 'Finnish', 'Sweden' ] Output after the first prompt : ['Finnish', 'Sweden']\n",
      "\n",
      "'Finnish' : 'G',\n",
      "   'Sweden' : 'B',"
     ]
    },
    {
     "name": "stderr",
     "output_type": "stream",
     "text": [
      "  6%|▌         | 6/100 [01:04<16:35, 10.59s/it]"
     ]
    },
    {
     "name": "stdout",
     "output_type": "stream",
     "text": [
      "response of tagger : {\n",
      "'Finnish' : 'G',\n",
      "   'Sweden' : 'B',}\n",
      "[('Finnish', 'NORP'), ('Sweden', 'ORG')]\n",
      " 'Apache', 'Michelle' ] Output after the first prompt : ['Apache', 'Michelle']\n",
      "\n",
      "'Apache' : 'G',\n",
      "   'Michelle' : '4',"
     ]
    },
    {
     "name": "stderr",
     "output_type": "stream",
     "text": [
      "  7%|▋         | 7/100 [01:14<15:51, 10.24s/it]"
     ]
    },
    {
     "name": "stdout",
     "output_type": "stream",
     "text": [
      "response of tagger : {\n",
      "'Apache' : 'G',\n",
      "   'Michelle' : '4',}\n",
      "[('Apache', 'NORP'), ('Michelle', 'PERSON')]\n",
      "Kamyao, 'August', 'China'] Output after the first prompt : []\n",
      " "
     ]
    },
    {
     "name": "stderr",
     "output_type": "stream",
     "text": [
      "  8%|▊         | 8/100 [01:21<14:21,  9.36s/it]"
     ]
    },
    {
     "name": "stdout",
     "output_type": "stream",
     "text": [
      "response of tagger : { }\n",
      "[]\n",
      " 'AnaMor Towers', 'Anna' ] Output after the first prompt : ['AnaMor Towers', 'Anna']\n",
      "\n",
      "'AnaMor Towers' : '0',\n",
      "   'Anna' : '4',"
     ]
    },
    {
     "name": "stderr",
     "output_type": "stream",
     "text": [
      "  9%|▉         | 9/100 [01:32<14:43,  9.71s/it]"
     ]
    },
    {
     "name": "stdout",
     "output_type": "stream",
     "text": [
      "response of tagger : {\n",
      "'AnaMor Towers' : '0',\n",
      "   'Anna' : '4',}\n",
      "[('AnaMor Towers', 'FAC'), ('Anna', 'PERSON')]\n",
      " 'Iraq', 'Arab' ] Output after the first prompt : ['Iraq', 'Arab']\n",
      "\n",
      "'Iraq' : 'E',\n",
      "   'Arab' : 'G',"
     ]
    },
    {
     "name": "stderr",
     "output_type": "stream",
     "text": [
      " 10%|█         | 10/100 [01:41<14:25,  9.62s/it]"
     ]
    },
    {
     "name": "stdout",
     "output_type": "stream",
     "text": [
      "response of tagger : {\n",
      "'Iraq' : 'E',\n",
      "   'Arab' : 'G',}\n",
      "[('Iraq', 'GPE'), ('Arab', 'NORP')]\n",
      " ] Output after the first prompt : []\n",
      " "
     ]
    },
    {
     "name": "stderr",
     "output_type": "stream",
     "text": [
      " 11%|█         | 11/100 [01:47<12:46,  8.61s/it]"
     ]
    },
    {
     "name": "stdout",
     "output_type": "stream",
     "text": [
      "response of tagger : { }\n",
      "[]\n",
      "'''] Output after the first prompt : []\n",
      " "
     ]
    },
    {
     "name": "stderr",
     "output_type": "stream",
     "text": [
      " 12%|█▏        | 12/100 [01:54<11:57,  8.15s/it]"
     ]
    },
    {
     "name": "stdout",
     "output_type": "stream",
     "text": [
      "response of tagger : { }\n",
      "[]\n",
      " 'Homeland', 'Secretary' ] Output after the first prompt : ['Homeland', 'Secretary']\n",
      "\n",
      "'Homeland' : 'F',\n",
      "   'Secretary' : '4',"
     ]
    },
    {
     "name": "stderr",
     "output_type": "stream",
     "text": [
      " 13%|█▎        | 13/100 [02:03<12:03,  8.31s/it]"
     ]
    },
    {
     "name": "stdout",
     "output_type": "stream",
     "text": [
      "response of tagger : {\n",
      "'Homeland' : 'F',\n",
      "   'Secretary' : '4',}\n",
      "[('Homeland', 'LAW'), ('Secretary', 'PERSON')]\n",
      " ] Output after the first prompt : []\n",
      " "
     ]
    },
    {
     "name": "stderr",
     "output_type": "stream",
     "text": [
      " 14%|█▍        | 14/100 [02:09<10:57,  7.64s/it]"
     ]
    },
    {
     "name": "stdout",
     "output_type": "stream",
     "text": [
      "response of tagger : { }\n",
      "[]\n",
      " 'four', 'two' ] Output after the first prompt : ['four', 'two']\n",
      "\n",
      "'four' : '1',\n",
      "   'two' : '6',"
     ]
    },
    {
     "name": "stderr",
     "output_type": "stream",
     "text": [
      " 15%|█▌        | 15/100 [02:19<11:36,  8.20s/it]"
     ]
    },
    {
     "name": "stdout",
     "output_type": "stream",
     "text": [
      "response of tagger : {\n",
      "'four' : '1',\n",
      "   'two' : '6',}\n",
      "[('four', 'CARDINAL'), ('two', 'DATE')]\n",
      "''Wetten Dass'', 'Thomas Gottschalk'] Output after the first prompt : []\n",
      " "
     ]
    },
    {
     "name": "stderr",
     "output_type": "stream",
     "text": [
      " 16%|█▌        | 16/100 [02:27<11:28,  8.19s/it]"
     ]
    },
    {
     "name": "stdout",
     "output_type": "stream",
     "text": [
      "response of tagger : { }\n",
      "[]\n",
      "['Rice', 'Wednesday'], ['GA summit', 'St. Petersburgh'], ['the president', 'At the end of the week']] Output after the first prompt : []\n",
      " "
     ]
    },
    {
     "name": "stderr",
     "output_type": "stream",
     "text": [
      " 17%|█▋        | 17/100 [02:36<11:35,  8.38s/it]"
     ]
    },
    {
     "name": "stdout",
     "output_type": "stream",
     "text": [
      "response of tagger : { }\n",
      "[]\n",
      "''] Output after the first prompt : ['']\n",
      " "
     ]
    },
    {
     "name": "stderr",
     "output_type": "stream",
     "text": [
      " 18%|█▊        | 18/100 [02:42<10:43,  7.85s/it]"
     ]
    },
    {
     "name": "stdout",
     "output_type": "stream",
     "text": [
      "response of tagger : { }\n",
      "[]\n",
      " 'Jackie', 'Mason' ] Output after the first prompt : ['Jackie', 'Mason']\n",
      "\n",
      "'Jackie' : '4',\n",
      "   'Mason' : '4',"
     ]
    },
    {
     "name": "stderr",
     "output_type": "stream",
     "text": [
      " 19%|█▉        | 19/100 [02:52<11:08,  8.25s/it]"
     ]
    },
    {
     "name": "stdout",
     "output_type": "stream",
     "text": [
      "response of tagger : {\n",
      "'Jackie' : '4',\n",
      "   'Mason' : '4',}\n",
      "[('Jackie', 'PERSON'), ('Mason', 'PERSON')]\n",
      " 'Guangdong', 'western lettuce' , 'western celery' , 'western cauliflower' , 'Californian perch' , 'whitish pomfret' , 'Dutch tulips' , 'Belgium azalea'] Output after the first prompt : ['Guangdong', 'western lettuce', 'western celery', 'western cauliflower', 'Californian perch', 'whitish pomfret', 'Dutch tulips', 'Belgium azalea']\n",
      "\n",
      "'Guangdong' : 'E',\n",
      "   'western lettuce' : 'C',\n",
      "   'western celery' : 'C',\n",
      "   'western cauliflower' : 'C',\n",
      "   'Californian perch' : '4',\n",
      "   'whitish pomfret' : '4',\n",
      "   'Dutch tulips' : 'E',\n",
      "   'Belgium azalea' : 'E',"
     ]
    },
    {
     "name": "stderr",
     "output_type": "stream",
     "text": [
      " 20%|██        | 20/100 [03:11<15:32, 11.65s/it]"
     ]
    },
    {
     "name": "stdout",
     "output_type": "stream",
     "text": [
      "response of tagger : {\n",
      "'Guangdong' : 'E',\n",
      "   'western lettuce' : 'C',\n",
      "   'western celery' : 'C',\n",
      "   'western cauliflower' : 'C',\n",
      "   'Californian perch' : '4',\n",
      "   'whitish pomfret' : '4',\n",
      "   'Dutch tulips' : 'E',\n",
      "   'Belgium azalea' : 'E',}\n",
      "[('Guangdong', 'GPE'), ('western lettuce', 'QUANTITY'), ('western celery', 'QUANTITY'), ('western cauliflower', 'QUANTITY'), ('Californian perch', 'PERSON'), ('whitish pomfret', 'PERSON'), ('Dutch tulips', 'GPE'), ('Belgium azalea', 'GPE')]\n",
      " 'China', 'these 20' ] Output after the first prompt : ['China', 'these 20']\n",
      "\n",
      "'China' : 'E',\n",
      "   'these 20' : 'G'"
     ]
    },
    {
     "name": "stderr",
     "output_type": "stream",
     "text": [
      " 21%|██        | 21/100 [03:21<14:42, 11.17s/it]"
     ]
    },
    {
     "name": "stdout",
     "output_type": "stream",
     "text": [
      "response of tagger : {\n",
      "'China' : 'E',\n",
      "   'these 20' : 'G'}\n",
      "[('China', 'GPE'), ('these 20', 'NORP')]\n",
      "''Strawberry''] Output after the first prompt : []\n",
      " "
     ]
    },
    {
     "name": "stderr",
     "output_type": "stream",
     "text": [
      " 22%|██▏       | 22/100 [03:29<13:17, 10.22s/it]"
     ]
    },
    {
     "name": "stdout",
     "output_type": "stream",
     "text": [
      "response of tagger : { }\n",
      "[]\n",
      " 'cable', 'digital' ] Output after the first prompt : ['cable', 'digital']\n",
      "\n",
      "'cable' : 'G',\n",
      "   'digital' : 'G',"
     ]
    },
    {
     "name": "stderr",
     "output_type": "stream",
     "text": [
      " 23%|██▎       | 23/100 [03:38<12:31,  9.76s/it]"
     ]
    },
    {
     "name": "stdout",
     "output_type": "stream",
     "text": [
      "response of tagger : {\n",
      "'cable' : 'G',\n",
      "   'digital' : 'G',}\n",
      "[('cable', 'NORP'), ('digital', 'NORP')]\n",
      " ] Output after the first prompt : []\n",
      " "
     ]
    },
    {
     "name": "stderr",
     "output_type": "stream",
     "text": [
      " 24%|██▍       | 24/100 [03:45<11:22,  8.97s/it]"
     ]
    },
    {
     "name": "stdout",
     "output_type": "stream",
     "text": [
      "response of tagger : { }\n",
      "[]\n",
      " ] Output after the first prompt : []\n",
      " "
     ]
    },
    {
     "name": "stderr",
     "output_type": "stream",
     "text": [
      " 25%|██▌       | 25/100 [03:52<10:39,  8.52s/it]"
     ]
    },
    {
     "name": "stdout",
     "output_type": "stream",
     "text": [
      "response of tagger : { }\n",
      "[]\n",
      " ] Output after the first prompt : []\n",
      " "
     ]
    },
    {
     "name": "stderr",
     "output_type": "stream",
     "text": [
      " 26%|██▌       | 26/100 [03:59<09:38,  7.82s/it]"
     ]
    },
    {
     "name": "stdout",
     "output_type": "stream",
     "text": [
      "response of tagger : { }\n",
      "[]\n",
      " 'Mr', 'Mitchell' , 'Budget Director Darman'] Output after the first prompt : ['Mr', 'Mitchell', 'Budget Director Darman']\n",
      "\n",
      "'Mr' : 'B',\n",
      "   'Mitchell' : '4',\n",
      "   'Darman' : '4',"
     ]
    },
    {
     "name": "stderr",
     "output_type": "stream",
     "text": [
      " 27%|██▋       | 27/100 [04:09<10:25,  8.57s/it]"
     ]
    },
    {
     "name": "stdout",
     "output_type": "stream",
     "text": [
      "response of tagger : {\n",
      "'Mr' : 'B',\n",
      "   'Mitchell' : '4',\n",
      "   'Darman' : '4',}\n",
      "[('Mr', 'ORG'), ('Mitchell', 'PERSON'), ('Darman', 'PERSON')]\n",
      " 'Internal', 'Combustion' ] Output after the first prompt : ['Internal', 'Combustion']\n",
      "\n",
      "'Internal' : 'B',\n",
      "   'Combustion' : '8',"
     ]
    },
    {
     "name": "stderr",
     "output_type": "stream",
     "text": [
      " 28%|██▊       | 28/100 [04:19<10:38,  8.86s/it]"
     ]
    },
    {
     "name": "stdout",
     "output_type": "stream",
     "text": [
      "response of tagger : {\n",
      "'Internal' : 'B',\n",
      "   'Combustion' : '8',}\n",
      "[('Internal', 'ORG'), ('Combustion', 'PRODUCT')]\n",
      " 'last December', 'the bonded area', '1,614', '260', '1.2 billion US dollars', '113 million US dollars'] Output after the first prompt : ['last December', 'the bonded area', '1,614', '260', '1.2 billion US dollars', '113 million US dollars']\n",
      "\n",
      "'last December' : '6',\n",
      "   'the bonded area' : 'E',\n",
      "   '1,614' : '1',\n",
      "   '260' : '1',\n",
      "   '1.2 billion US dollars' : '9',\n",
      "   '113 million US dollars' : '9',"
     ]
    },
    {
     "name": "stderr",
     "output_type": "stream",
     "text": [
      " 29%|██▉       | 29/100 [04:35<13:06, 11.07s/it]"
     ]
    },
    {
     "name": "stdout",
     "output_type": "stream",
     "text": [
      "response of tagger : {\n",
      "'last December' : '6',\n",
      "   'the bonded area' : 'E',\n",
      "   '1,614' : '1',\n",
      "   '260' : '1',\n",
      "   '1.2 billion US dollars' : '9',\n",
      "   '113 million US dollars' : '9',}\n",
      "[('last December', 'DATE'), ('the bonded area', 'GPE'), ('1,614', 'CARDINAL'), ('260', 'CARDINAL'), ('1.2 billion US dollars', 'MONEY'), ('113 million US dollars', 'MONEY')]\n",
      " 'Pontiac', 'Camaro', 'Firebird', 'Fiero' ] Output after the first prompt : ['Pontiac', 'Camaro', 'Firebird', 'Fiero']\n",
      "\n",
      "'Pontiac' : 'B',\n",
      "   'Camaro' : '8',\n",
      "   'Firebird' : '8',\n",
      "   'Fiero' : '8',"
     ]
    },
    {
     "name": "stderr",
     "output_type": "stream",
     "text": [
      " 30%|███       | 30/100 [04:46<12:57, 11.11s/it]"
     ]
    },
    {
     "name": "stdout",
     "output_type": "stream",
     "text": [
      "response of tagger : {\n",
      "'Pontiac' : 'B',\n",
      "   'Camaro' : '8',\n",
      "   'Firebird' : '8',\n",
      "   'Fiero' : '8',}\n",
      "[('Pontiac', 'ORG'), ('Camaro', 'PRODUCT'), ('Firebird', 'PRODUCT'), ('Fiero', 'PRODUCT')]\n",
      " 'As', 'we ', 'Israel' ] Output after the first prompt : ['As', 'we ', 'Israel']\n",
      "\n",
      "'As' : 'A',\n",
      "   'we ' : '',\n",
      "   'Israel' : 'E',"
     ]
    },
    {
     "name": "stderr",
     "output_type": "stream",
     "text": [
      " 31%|███       | 31/100 [04:56<12:32, 10.90s/it]"
     ]
    },
    {
     "name": "stdout",
     "output_type": "stream",
     "text": [
      "response of tagger : {\n",
      "'As' : 'A',\n",
      "   'we ' : '',\n",
      "   'Israel' : 'E',}\n",
      "[('As', 'TIME'), ('Israel', 'GPE')]\n",
      " ] Output after the first prompt : []\n",
      " "
     ]
    },
    {
     "name": "stderr",
     "output_type": "stream",
     "text": [
      " 32%|███▏      | 32/100 [05:04<11:08,  9.83s/it]"
     ]
    },
    {
     "name": "stdout",
     "output_type": "stream",
     "text": [
      "response of tagger : { }\n",
      "[]\n",
      " 'DPP', 'Shen Fu - hsiung', 'Beijing'] Output after the first prompt : ['DPP', 'Shen Fu - hsiung', 'Beijing']\n",
      "\n",
      "'DPP' : 'B',\n",
      "   'Shen Fu - hsiung' : '4',\n",
      "   'Beijing' : 'E',"
     ]
    },
    {
     "name": "stderr",
     "output_type": "stream",
     "text": [
      " 33%|███▎      | 33/100 [05:14<11:08,  9.98s/it]"
     ]
    },
    {
     "name": "stdout",
     "output_type": "stream",
     "text": [
      "response of tagger : {\n",
      "'DPP' : 'B',\n",
      "   'Shen Fu - hsiung' : '4',\n",
      "   'Beijing' : 'E',}\n",
      "[('DPP', 'ORG'), ('Shen Fu - hsiung', 'PERSON'), ('Beijing', 'GPE')]\n",
      " 'Israelis', 'Palestinian' ] Output after the first prompt : ['Israelis', 'Palestinian']\n",
      "\n",
      "'Israelis' : 'G',\n",
      "   'Palestinian' : 'G',"
     ]
    },
    {
     "name": "stderr",
     "output_type": "stream",
     "text": [
      " 34%|███▍      | 34/100 [05:24<10:50,  9.86s/it]"
     ]
    },
    {
     "name": "stdout",
     "output_type": "stream",
     "text": [
      "response of tagger : {\n",
      "'Israelis' : 'G',\n",
      "   'Palestinian' : 'G',}\n",
      "[('Israelis', 'NORP'), ('Palestinian', 'NORP')]\n",
      " 'coalmine' ] Output after the first prompt : ['coalmine']\n",
      "\n",
      "'coalmine' : '0',"
     ]
    },
    {
     "name": "stderr",
     "output_type": "stream",
     "text": [
      " 35%|███▌      | 35/100 [05:30<09:38,  8.90s/it]"
     ]
    },
    {
     "name": "stdout",
     "output_type": "stream",
     "text": [
      "response of tagger : {\n",
      "'coalmine' : '0',}\n",
      "[('coalmine', 'FAC')]\n",
      " 'Wang', 'Shin' ] Output after the first prompt : ['Wang', 'Shin']\n",
      "\n",
      "'Wang' : 'B',\n",
      "   'Shin' : 'B',"
     ]
    },
    {
     "name": "stderr",
     "output_type": "stream",
     "text": [
      " 36%|███▌      | 36/100 [05:41<10:09,  9.53s/it]"
     ]
    },
    {
     "name": "stdout",
     "output_type": "stream",
     "text": [
      "response of tagger : {\n",
      "'Wang' : 'B',\n",
      "   'Shin' : 'B',}\n",
      "[('Wang', 'ORG'), ('Shin', 'ORG')]\n",
      " 'CIA', 'Pentagon' ] Output after the first prompt : ['CIA', 'Pentagon']\n",
      "\n",
      "'CIA' : 'B',\n",
      "   'Pentagon' : 'B',"
     ]
    },
    {
     "name": "stderr",
     "output_type": "stream",
     "text": [
      " 37%|███▋      | 37/100 [05:50<09:46,  9.31s/it]"
     ]
    },
    {
     "name": "stdout",
     "output_type": "stream",
     "text": [
      "response of tagger : {\n",
      "'CIA' : 'B',\n",
      "   'Pentagon' : 'B',}\n",
      "[('CIA', 'ORG'), ('Pentagon', 'ORG')]\n",
      "['Shanghai', 'this year'], ['value of exports could exceed 14.5 billion US dollars'], ['finished industrial products account for 93.1 %'], ['having increased 4.1 % over 1993']] Output after the first prompt : []\n",
      " "
     ]
    },
    {
     "name": "stderr",
     "output_type": "stream",
     "text": [
      " 38%|███▊      | 38/100 [06:02<10:28, 10.14s/it]"
     ]
    },
    {
     "name": "stdout",
     "output_type": "stream",
     "text": [
      "response of tagger : { }\n",
      "[]\n",
      " 'Chinese', 'the American Chamber of Commerce' ] Output after the first prompt : ['Chinese', 'the American Chamber of Commerce']\n",
      "\n",
      "'Chinese' : 'G',\n",
      "   'the American Chamber of Commerce' : 'B',"
     ]
    },
    {
     "name": "stderr",
     "output_type": "stream",
     "text": [
      " 39%|███▉      | 39/100 [06:13<10:30, 10.34s/it]"
     ]
    },
    {
     "name": "stdout",
     "output_type": "stream",
     "text": [
      "response of tagger : {\n",
      "'Chinese' : 'G',\n",
      "   'the American Chamber of Commerce' : 'B',}\n",
      "[('Chinese', 'NORP'), ('the American Chamber of Commerce', 'ORG')]\n",
      "Judy Miller, Louis Libby, 'Dick Cheney', 'aide'] Output after the first prompt : []\n",
      " "
     ]
    },
    {
     "name": "stderr",
     "output_type": "stream",
     "text": [
      " 40%|████      | 40/100 [06:21<09:44,  9.74s/it]"
     ]
    },
    {
     "name": "stdout",
     "output_type": "stream",
     "text": [
      "response of tagger : { }\n",
      "[]\n",
      " ] Output after the first prompt : []\n",
      " "
     ]
    },
    {
     "name": "stderr",
     "output_type": "stream",
     "text": [
      " 41%|████      | 41/100 [06:28<08:49,  8.98s/it]"
     ]
    },
    {
     "name": "stdout",
     "output_type": "stream",
     "text": [
      "response of tagger : { }\n",
      "[]\n",
      " ] Output after the first prompt : []\n",
      " "
     ]
    },
    {
     "name": "stderr",
     "output_type": "stream",
     "text": [
      " 42%|████▏     | 42/100 [06:35<07:55,  8.21s/it]"
     ]
    },
    {
     "name": "stdout",
     "output_type": "stream",
     "text": [
      "response of tagger : { }\n",
      "[]\n",
      " ] Output after the first prompt : []\n",
      " "
     ]
    },
    {
     "name": "stderr",
     "output_type": "stream",
     "text": [
      " 43%|████▎     | 43/100 [06:43<07:41,  8.10s/it]"
     ]
    },
    {
     "name": "stdout",
     "output_type": "stream",
     "text": [
      "response of tagger : { }\n",
      "[]\n",
      "''U.S.'', 'Yemen'] Output after the first prompt : []\n",
      " "
     ]
    },
    {
     "name": "stderr",
     "output_type": "stream",
     "text": [
      " 44%|████▍     | 44/100 [06:51<07:30,  8.05s/it]"
     ]
    },
    {
     "name": "stdout",
     "output_type": "stream",
     "text": [
      "response of tagger : { }\n",
      "[]\n",
      " 'Pennzoil', 'Texaco', 'Getty Oil'] Output after the first prompt : ['Pennzoil', 'Texaco', 'Getty Oil']\n",
      "\n",
      "'Pennzoil' : 'B',\n",
      "   'Texaco' : 'B',\n",
      "   'Getty Oil' : 'B',"
     ]
    },
    {
     "name": "stderr",
     "output_type": "stream",
     "text": [
      " 45%|████▌     | 45/100 [07:02<08:22,  9.14s/it]"
     ]
    },
    {
     "name": "stdout",
     "output_type": "stream",
     "text": [
      "response of tagger : {\n",
      "'Pennzoil' : 'B',\n",
      "   'Texaco' : 'B',\n",
      "   'Getty Oil' : 'B',}\n",
      "[('Pennzoil', 'ORG'), ('Texaco', 'ORG'), ('Getty Oil', 'ORG')]\n",
      " 'And', 'he', 'goes', 'work', 'brings', 'four', 'sandwiches', 'uh-huh', 'bag', 'potato', 'chips', 'uh-huh', '%um', 'you', 'know', 'little', 'sweetie', 'things', 'chocolates', 'cakies' ] Output after the first prompt : ['And', 'he', 'goes', 'work', 'brings', 'four', 'sandwiches', 'uh-huh', 'bag', 'potato', 'chips', 'uh-huh', '%um', 'you', 'know', 'little', 'sweetie', 'things', 'chocolates', 'cakies']\n",
      "\n",
      "'And': '1',\n",
      "   'he': '4',\n",
      "   'goes': '0',\n",
      "   'work': 'A',\n",
      "   'brings': '8',\n",
      "   'four': 'C',\n",
      "   'sandwiches': 'B',\n",
      "   'uh-huh': '',\n",
      "   'bag': 'E',\n",
      "   'potato': 'F',\n",
      "   'chips': 'G',\n",
      "   'uh-huh': '',\n",
      "   '%um': '',\n",
      "   'you': '4',\n",
      "   'know': '0',\n",
      "   'little': 'C',\n",
      "   'sweetie': 'D',\n",
      "   'things': 'B',\n",
      "   'chocolates': 'G',\n",
      "   'cakies': 'H',\n",
      "   'and': '',"
     ]
    },
    {
     "name": "stderr",
     "output_type": "stream",
     "text": [
      " 46%|████▌     | 46/100 [07:30<13:08, 14.60s/it]"
     ]
    },
    {
     "name": "stdout",
     "output_type": "stream",
     "text": [
      "response of tagger : {\n",
      "'And': '1',\n",
      "   'he': '4',\n",
      "   'goes': '0',\n",
      "   'work': 'A',\n",
      "   'brings': '8',\n",
      "   'four': 'C',\n",
      "   'sandwiches': 'B',\n",
      "   'uh-huh': '',\n",
      "   'bag': 'E',\n",
      "   'potato': 'F',\n",
      "   'chips': 'G',\n",
      "   'uh-huh': '',\n",
      "   '%um': '',\n",
      "   'you': '4',\n",
      "   'know': '0',\n",
      "   'little': 'C',\n",
      "   'sweetie': 'D',\n",
      "   'things': 'B',\n",
      "   'chocolates': 'G',\n",
      "   'cakies': 'H',\n",
      "   'and': '',}\n",
      "[('And', 'CARDINAL'), ('he', 'PERSON'), ('goes', 'FAC'), ('work', 'TIME'), ('brings', 'PRODUCT'), ('four', 'QUANTITY'), ('sandwiches', 'ORG'), ('bag', 'GPE'), ('potato', 'LAW'), ('chips', 'NORP'), ('you', 'PERSON'), ('know', 'FAC'), ('little', 'QUANTITY'), ('sweetie', 'LANGUAGE'), ('things', 'ORG'), ('chocolates', 'NORP'), ('cakies', 'EVENT')]\n",
      " ] Output after the first prompt : []\n",
      " "
     ]
    },
    {
     "name": "stderr",
     "output_type": "stream",
     "text": [
      " 47%|████▋     | 47/100 [07:36<10:37, 12.02s/it]"
     ]
    },
    {
     "name": "stdout",
     "output_type": "stream",
     "text": [
      "response of tagger : { }\n",
      "[]\n",
      "'' , '' , '', '', '', '', '', '', '', '', '', '', '', '', '', '', '', '', '', '', '', '', '', '', '', '', '', '', '', '', '', '', '', '', '', '', '', '', '', '', '', '', '', '', '', '', '', '', '', '', '', '', '', '', '', '', '', '', '', '', '', '', '', '', '', '', '', '', '', '', '', '', '', '', '', '', '', '', '', '', '', '', '', '', '', '', '', '', '', '', '', '', '', '', '', '', '', '', '', '', '', '', '', '', '', '', '', '', '', '', '', '', '', '', '', '', '', '', '', '', '', '', '', '', '', '', '', '', '', '', '', '', '', '', '', '', '', '', '', '', '', '', '', '', '', '', '', '', '', '', '', '', '', '', '', '', '', '', '', '', '', '', '', '', '', '', '', '', '', '', '', '', '', '', '', '', '', '', '', '', '', '', '', '', '', '', '', '', '', '', '', '', '', '', '', '', '', '', '', '', '', '', '', '', '', '', '', '', '', '', '', '', '', '',Output after the first prompt : ['', '', '', '', '', '', '', '', '', '', '', '', '', '', '', '', '', '', '', '', '', '', '', '', '', '', '', '', '', '', '', '', '', '', '', '', '', '', '', '', '', '', '', '', '', '', '', '', '', '', '', '', '', '', '', '', '', '', '', '', '', '', '', '', '', '', '', '', '', '', '', '', '', '', '', '', '', '', '', '', '', '', '', '', '', '', '', '', '', '', '', '', '', '', '', '', '', '', '', '', '', '', '', '', '', '', '', '', '', '', '', '', '', '', '', '', '', '', '', '', '', '', '', '', '', '', '', '', '', '', '', '', '', '', '', '', '', '', '', '', '', '', '', '', '', '', '', '', '', '', '', '', '', '', '', '', '', '', '', '', '', '', '', '', '', '', '', '', '', '', '', '', '', '', '', '', '', '', '', '', '', '', '', '', '', '', '', '', '', '', '', '', '', '', '', '', '', '', '', '', '', '', '', '', '', '', '', '', '', '', '', '', '', '']\n",
      "\n"
     ]
    },
    {
     "name": "stderr",
     "output_type": "stream",
     "text": [
      " 48%|████▊     | 48/100 [07:59<13:28, 15.55s/it]"
     ]
    },
    {
     "name": "stdout",
     "output_type": "stream",
     "text": [
      "response of tagger : {\n",
      "}\n",
      "[]\n",
      " 'Guangxu emperor', 'Qing dynasty', 'Tanshui', '1875', 'Japanese occupation', '1895' ] Output after the first prompt : ['Guangxu emperor', 'Qing dynasty', 'Tanshui', '1875', 'Japanese occupation', '1895']\n",
      "\n",
      "'Guangxu emperor' : '4',\n",
      "   'Qing dynasty' : '6',\n",
      "   'Tanshui' : 'E',\n",
      "   '1875' : '6',\n",
      "   'Japanese occupation' : 'B',\n",
      "   '1895' : '6'"
     ]
    },
    {
     "name": "stderr",
     "output_type": "stream",
     "text": [
      " 49%|████▉     | 49/100 [08:16<13:22, 15.73s/it]"
     ]
    },
    {
     "name": "stdout",
     "output_type": "stream",
     "text": [
      "response of tagger : {\n",
      "'Guangxu emperor' : '4',\n",
      "   'Qing dynasty' : '6',\n",
      "   'Tanshui' : 'E',\n",
      "   '1875' : '6',\n",
      "   'Japanese occupation' : 'B',\n",
      "   '1895' : '6'}\n",
      "[('Guangxu emperor', 'PERSON'), ('Qing dynasty', 'DATE'), ('Tanshui', 'GPE'), ('1875', 'DATE'), ('Japanese occupation', 'ORG'), ('1895', 'DATE')]\n",
      " ] Output after the first prompt : []\n",
      " "
     ]
    },
    {
     "name": "stderr",
     "output_type": "stream",
     "text": [
      " 50%|█████     | 50/100 [08:22<10:43, 12.87s/it]"
     ]
    },
    {
     "name": "stdout",
     "output_type": "stream",
     "text": [
      "response of tagger : { }\n",
      "[]\n",
      " 'one thing', 'many farmers' ] Output after the first prompt : ['one thing', 'many farmers']\n",
      "\n",
      "'one thing' : '6',\n",
      "   'many farmers' : '4',"
     ]
    },
    {
     "name": "stderr",
     "output_type": "stream",
     "text": [
      " 51%|█████     | 51/100 [08:31<09:41, 11.86s/it]"
     ]
    },
    {
     "name": "stdout",
     "output_type": "stream",
     "text": [
      "response of tagger : {\n",
      "'one thing' : '6',\n",
      "   'many farmers' : '4',}\n",
      "[('one thing', 'DATE'), ('many farmers', 'PERSON')]\n",
      " ] Output after the first prompt : []\n",
      " "
     ]
    },
    {
     "name": "stderr",
     "output_type": "stream",
     "text": [
      " 52%|█████▏    | 52/100 [08:38<08:07, 10.16s/it]"
     ]
    },
    {
     "name": "stdout",
     "output_type": "stream",
     "text": [
      "response of tagger : { }\n",
      "[]\n",
      " 'Despite', 'one - fourth'] Output after the first prompt : ['Despite', 'one - fourth']\n",
      "\n",
      "'Despite' : 'A',\n",
      "   'one - fourth' : '1'"
     ]
    },
    {
     "name": "stderr",
     "output_type": "stream",
     "text": [
      " 53%|█████▎    | 53/100 [08:46<07:35,  9.70s/it]"
     ]
    },
    {
     "name": "stdout",
     "output_type": "stream",
     "text": [
      "response of tagger : {\n",
      "'Despite' : 'A',\n",
      "   'one - fourth' : '1'}\n",
      "[('Despite', 'TIME'), ('one - fourth', 'CARDINAL')]\n",
      " 'Rumsfeld', 'Iraq' ] Output after the first prompt : ['Rumsfeld', 'Iraq']\n",
      "\n",
      "'Rumsfeld' : '4',\n",
      "   'Iraq' : 'E',"
     ]
    },
    {
     "name": "stderr",
     "output_type": "stream",
     "text": [
      " 54%|█████▍    | 54/100 [08:55<07:14,  9.44s/it]"
     ]
    },
    {
     "name": "stdout",
     "output_type": "stream",
     "text": [
      "response of tagger : {\n",
      "'Rumsfeld' : '4',\n",
      "   'Iraq' : 'E',}\n",
      "[('Rumsfeld', 'PERSON'), ('Iraq', 'GPE')]\n",
      "'' , 'India' , '' , 'whatever'] Output after the first prompt : ['', 'India', '', 'whatever']\n",
      "\n",
      "'India' : 'E',"
     ]
    },
    {
     "name": "stderr",
     "output_type": "stream",
     "text": [
      " 55%|█████▌    | 55/100 [09:03<06:44,  8.98s/it]"
     ]
    },
    {
     "name": "stdout",
     "output_type": "stream",
     "text": [
      "response of tagger : {\n",
      "'India' : 'E',}\n",
      "[('India', 'GPE')]\n",
      "''Larry King Live'', 'Crossfire'] Output after the first prompt : []\n",
      " "
     ]
    },
    {
     "name": "stderr",
     "output_type": "stream",
     "text": [
      " 56%|█████▌    | 56/100 [09:10<06:04,  8.28s/it]"
     ]
    },
    {
     "name": "stdout",
     "output_type": "stream",
     "text": [
      "response of tagger : { }\n",
      "[]\n",
      "''] Output after the first prompt : ['']\n",
      "\n",
      "'The next stage is to get beyond the opinion leaders who use us as a point of reference to become a point of reference at ordinary dinner tables , '' says Jon Petrovich , executive vice president of Headline News , CNN 's sister network .'"
     ]
    },
    {
     "name": "stderr",
     "output_type": "stream",
     "text": [
      " 57%|█████▋    | 57/100 [09:21<06:32,  9.14s/it]"
     ]
    },
    {
     "name": "stdout",
     "output_type": "stream",
     "text": [
      "response of tagger : {\n",
      "'The next stage is to get beyond the opinion leaders who use us as a point of reference to become a point of reference at ordinary dinner tables , '' says Jon Petrovich , executive vice president of Headline News , CNN 's sister network .'}\n",
      "[]\n",
      " \"Thomson\", \"British Aerospace\", \"France \", \"Aerospatiale\" ] Output after the first prompt : ['Thomson', 'British Aerospace', 'France ', 'Aerospatiale']\n",
      "\n",
      "'Thomson' : 'B',\n",
      "   'British Aerospace' : 'B',\n",
      "   'France ' : 'E',\n",
      "   'Aerospatiale' : 'B'"
     ]
    },
    {
     "name": "stderr",
     "output_type": "stream",
     "text": [
      " 58%|█████▊    | 58/100 [09:33<07:04, 10.12s/it]"
     ]
    },
    {
     "name": "stdout",
     "output_type": "stream",
     "text": [
      "response of tagger : {\n",
      "'Thomson' : 'B',\n",
      "   'British Aerospace' : 'B',\n",
      "   'France ' : 'E',\n",
      "   'Aerospatiale' : 'B'}\n",
      "[('Thomson', 'ORG'), ('British Aerospace', 'ORG'), ('France ', 'GPE'), ('Aerospatiale', 'ORG')]\n",
      " 'Bush', '$ 16 billion' ] Output after the first prompt : ['Bush', '$ 16 billion']\n",
      "\n",
      "'Bush' : '4',\n",
      "   '$ 16 billion' : '9',"
     ]
    },
    {
     "name": "stderr",
     "output_type": "stream",
     "text": [
      " 59%|█████▉    | 59/100 [09:42<06:40,  9.77s/it]"
     ]
    },
    {
     "name": "stdout",
     "output_type": "stream",
     "text": [
      "response of tagger : {\n",
      "'Bush' : '4',\n",
      "   '$ 16 billion' : '9',}\n",
      "[('Bush', 'PERSON'), ('$ 16 billion', 'MONEY')]\n",
      " 'Chinese', '80 %', '20 %' ] Output after the first prompt : ['Chinese', '80 %', '20 %']\n",
      "\n",
      "'Chinese' : 'G',\n",
      "   '80 %' : '7',\n",
      "   '20 %' : '7'"
     ]
    },
    {
     "name": "stderr",
     "output_type": "stream",
     "text": [
      " 60%|██████    | 60/100 [09:54<06:51, 10.28s/it]"
     ]
    },
    {
     "name": "stdout",
     "output_type": "stream",
     "text": [
      "response of tagger : {\n",
      "'Chinese' : 'G',\n",
      "   '80 %' : '7',\n",
      "   '20 %' : '7'}\n",
      "[('Chinese', 'NORP'), ('80 %', 'PERCENT'), ('20 %', 'PERCENT')]\n",
      " 'Tuesday', 'October 10' ] Output after the first prompt : ['Tuesday', 'October 10']\n",
      "\n",
      "'Tuesday' : '6',\n",
      "   'October 10' : '6',"
     ]
    },
    {
     "name": "stderr",
     "output_type": "stream",
     "text": [
      " 61%|██████    | 61/100 [10:03<06:30, 10.03s/it]"
     ]
    },
    {
     "name": "stdout",
     "output_type": "stream",
     "text": [
      "response of tagger : {\n",
      "'Tuesday' : '6',\n",
      "   'October 10' : '6',}\n",
      "[('Tuesday', 'DATE'), ('October 10', 'DATE')]\n",
      " ] Output after the first prompt : []\n",
      " "
     ]
    },
    {
     "name": "stderr",
     "output_type": "stream",
     "text": [
      " 62%|██████▏   | 62/100 [10:10<05:42,  9.02s/it]"
     ]
    },
    {
     "name": "stdout",
     "output_type": "stream",
     "text": [
      "response of tagger : { }\n",
      "[]\n",
      " 'mergers' ] Output after the first prompt : ['mergers']\n",
      "\n",
      "'mergers' : '2',"
     ]
    },
    {
     "name": "stderr",
     "output_type": "stream",
     "text": [
      " 63%|██████▎   | 63/100 [10:16<05:08,  8.33s/it]"
     ]
    },
    {
     "name": "stdout",
     "output_type": "stream",
     "text": [
      "response of tagger : {\n",
      "'mergers' : '2',}\n",
      "[('mergers', 'ORDINAL')]\n",
      " \"Freddie Mac\", 'Giant', 'interest', 'principal'] Output after the first prompt : ['Freddie Mac', 'Giant', 'interest', 'principal']\n",
      "\n",
      "'Freddie Mac' : 'B',\n",
      "   'Giant' : '0',\n",
      "   'interest' : '1',\n",
      "   'principal' : '6',"
     ]
    },
    {
     "name": "stderr",
     "output_type": "stream",
     "text": [
      " 64%|██████▍   | 64/100 [10:28<05:31,  9.22s/it]"
     ]
    },
    {
     "name": "stdout",
     "output_type": "stream",
     "text": [
      "response of tagger : {\n",
      "'Freddie Mac' : 'B',\n",
      "   'Giant' : '0',\n",
      "   'interest' : '1',\n",
      "   'principal' : '6',}\n",
      "[('Freddie Mac', 'ORG'), ('Giant', 'FAC'), ('interest', 'CARDINAL'), ('principal', 'DATE')]\n",
      " ] Output after the first prompt : []\n",
      " "
     ]
    },
    {
     "name": "stderr",
     "output_type": "stream",
     "text": [
      " 65%|██████▌   | 65/100 [10:36<05:09,  8.83s/it]"
     ]
    },
    {
     "name": "stdout",
     "output_type": "stream",
     "text": [
      "response of tagger : { }\n",
      "[]\n",
      " ] Output after the first prompt : []\n",
      "\n"
     ]
    },
    {
     "name": "stderr",
     "output_type": "stream",
     "text": [
      " 66%|██████▌   | 66/100 [10:41<04:30,  7.94s/it]"
     ]
    },
    {
     "name": "stdout",
     "output_type": "stream",
     "text": [
      "response of tagger : {\n",
      "}\n",
      "[]\n",
      "''John Lampe'', \"director of advertising at PaineWebber Inc.\", \"a Saatchi & Saatchi Advertising client\", \"we do n't know what change it 's going to bring about\"] Output after the first prompt : []\n",
      " "
     ]
    },
    {
     "name": "stderr",
     "output_type": "stream",
     "text": [
      " 67%|██████▋   | 67/100 [10:53<04:56,  8.98s/it]"
     ]
    },
    {
     "name": "stdout",
     "output_type": "stream",
     "text": [
      "response of tagger : { }\n",
      "[]\n",
      " ] Output after the first prompt : []\n",
      " "
     ]
    },
    {
     "name": "stderr",
     "output_type": "stream",
     "text": [
      " 68%|██████▊   | 68/100 [11:00<04:27,  8.37s/it]"
     ]
    },
    {
     "name": "stdout",
     "output_type": "stream",
     "text": [
      "response of tagger : { }\n",
      "[]\n",
      " 'Zibo City', 'the Zhangdian District' ] Output after the first prompt : ['Zibo City', 'the Zhangdian District']\n",
      "\n",
      "'Zibo City' : 'E',\n",
      "   'the Zhangdian District' : 'E',"
     ]
    },
    {
     "name": "stderr",
     "output_type": "stream",
     "text": [
      " 69%|██████▉   | 69/100 [11:11<04:41,  9.10s/it]"
     ]
    },
    {
     "name": "stdout",
     "output_type": "stream",
     "text": [
      "response of tagger : {\n",
      "'Zibo City' : 'E',\n",
      "   'the Zhangdian District' : 'E',}\n",
      "[('Zibo City', 'GPE'), ('the Zhangdian District', 'GPE')]\n",
      " 'Last year', 'Japan', '8 billion US dollars', '10.9 %', 'imports of primary products from Japan'] Output after the first prompt : ['Last year', 'Japan', '8 billion US dollars', '10.9 %', 'imports of primary products from Japan']\n",
      "\n",
      "'Last year' : '6',\n",
      "   'Japan' : 'E',\n",
      "   '8 billion US dollars' : '9',\n",
      "   '10.9 %' : '7',\n",
      "   'imports of primary products from Japan' : 'B'"
     ]
    },
    {
     "name": "stderr",
     "output_type": "stream",
     "text": [
      " 70%|███████   | 70/100 [11:26<05:29, 10.99s/it]"
     ]
    },
    {
     "name": "stdout",
     "output_type": "stream",
     "text": [
      "response of tagger : {\n",
      "'Last year' : '6',\n",
      "   'Japan' : 'E',\n",
      "   '8 billion US dollars' : '9',\n",
      "   '10.9 %' : '7',\n",
      "   'imports of primary products from Japan' : 'B'}\n",
      "[('Last year', 'DATE'), ('Japan', 'GPE'), ('8 billion US dollars', 'MONEY'), ('10.9 %', 'PERCENT'), ('imports of primary products from Japan', 'ORG')]\n",
      " ] Output after the first prompt : []\n",
      " "
     ]
    },
    {
     "name": "stderr",
     "output_type": "stream",
     "text": [
      " 71%|███████   | 71/100 [11:32<04:32,  9.40s/it]"
     ]
    },
    {
     "name": "stdout",
     "output_type": "stream",
     "text": [
      "response of tagger : { }\n",
      "[]\n",
      " ] Output after the first prompt : []\n",
      " "
     ]
    },
    {
     "name": "stderr",
     "output_type": "stream",
     "text": [
      " 72%|███████▏  | 72/100 [11:38<04:01,  8.62s/it]"
     ]
    },
    {
     "name": "stdout",
     "output_type": "stream",
     "text": [
      "response of tagger : { }\n",
      "[]\n",
      " ] Output after the first prompt : []\n",
      " "
     ]
    },
    {
     "name": "stderr",
     "output_type": "stream",
     "text": [
      " 73%|███████▎  | 73/100 [11:45<03:37,  8.05s/it]"
     ]
    },
    {
     "name": "stdout",
     "output_type": "stream",
     "text": [
      "response of tagger : { }\n",
      "[]\n",
      " ] Output after the first prompt : []\n",
      " "
     ]
    },
    {
     "name": "stderr",
     "output_type": "stream",
     "text": [
      " 74%|███████▍  | 74/100 [11:52<03:20,  7.70s/it]"
     ]
    },
    {
     "name": "stdout",
     "output_type": "stream",
     "text": [
      "response of tagger : { }\n",
      "[]\n",
      " ] Output after the first prompt : []\n",
      " "
     ]
    },
    {
     "name": "stderr",
     "output_type": "stream",
     "text": [
      " 75%|███████▌  | 75/100 [12:00<03:14,  7.79s/it]"
     ]
    },
    {
     "name": "stdout",
     "output_type": "stream",
     "text": [
      "response of tagger : { }\n",
      "[]\n",
      " ] Output after the first prompt : []\n",
      "\n",
      "'Ideal Basic Industries Inc.' : 'B',"
     ]
    },
    {
     "name": "stderr",
     "output_type": "stream",
     "text": [
      " 76%|███████▌  | 76/100 [12:08<03:11,  7.98s/it]"
     ]
    },
    {
     "name": "stdout",
     "output_type": "stream",
     "text": [
      "response of tagger : {\n",
      "'Ideal Basic Industries Inc.' : 'B',}\n",
      "[('Ideal Basic Industries Inc.', 'ORG')]\n",
      " 'China', 'Mechanical Industry Ministry', 'Xuding Bao', 'LaRioja Province', 'Masa' ] Output after the first prompt : ['China', 'Mechanical Industry Ministry', 'Xuding Bao', 'LaRioja Province', 'Masa']\n",
      "\n",
      "'China' : 'E',\n",
      "   'Mechanical Industry Ministry' : 'B',\n",
      "   'Xuding Bao' : '4',\n",
      "   'LaRioja Province' : 'E',\n",
      "   'Masa' : '4',"
     ]
    },
    {
     "name": "stderr",
     "output_type": "stream",
     "text": [
      " 77%|███████▋  | 77/100 [12:22<03:43,  9.73s/it]"
     ]
    },
    {
     "name": "stdout",
     "output_type": "stream",
     "text": [
      "response of tagger : {\n",
      "'China' : 'E',\n",
      "   'Mechanical Industry Ministry' : 'B',\n",
      "   'Xuding Bao' : '4',\n",
      "   'LaRioja Province' : 'E',\n",
      "   'Masa' : '4',}\n",
      "[('China', 'GPE'), ('Mechanical Industry Ministry', 'ORG'), ('Xuding Bao', 'PERSON'), ('LaRioja Province', 'GPE'), ('Masa', 'PERSON')]\n",
      " ] Output after the first prompt : []\n",
      " "
     ]
    },
    {
     "name": "stderr",
     "output_type": "stream",
     "text": [
      " 78%|███████▊  | 78/100 [12:30<03:20,  9.11s/it]"
     ]
    },
    {
     "name": "stdout",
     "output_type": "stream",
     "text": [
      "response of tagger : { }\n",
      "[]\n",
      " 'middle' ] Output after the first prompt : ['middle']\n",
      "\n",
      "'middle' : 'A',"
     ]
    },
    {
     "name": "stderr",
     "output_type": "stream",
     "text": [
      " 79%|███████▉  | 79/100 [12:37<02:56,  8.40s/it]"
     ]
    },
    {
     "name": "stdout",
     "output_type": "stream",
     "text": [
      "response of tagger : {\n",
      "'middle' : 'A',}\n",
      "[('middle', 'TIME')]\n",
      " 'Shanghai', '5 years' ] Output after the first prompt : ['Shanghai', '5 years']\n",
      "\n",
      "'Shanghai' : 'E',\n",
      "   '5 years' : '6',"
     ]
    },
    {
     "name": "stderr",
     "output_type": "stream",
     "text": [
      " 80%|████████  | 80/100 [12:46<02:55,  8.76s/it]"
     ]
    },
    {
     "name": "stdout",
     "output_type": "stream",
     "text": [
      "response of tagger : {\n",
      "'Shanghai' : 'E',\n",
      "   '5 years' : '6',}\n",
      "[('Shanghai', 'GPE'), ('5 years', 'DATE')]\n",
      "['China']] Output after the first prompt : []\n",
      " "
     ]
    },
    {
     "name": "stderr",
     "output_type": "stream",
     "text": [
      " 81%|████████  | 81/100 [12:53<02:36,  8.26s/it]"
     ]
    },
    {
     "name": "stdout",
     "output_type": "stream",
     "text": [
      "response of tagger : { }\n",
      "[]\n",
      " ] Output after the first prompt : []\n",
      " "
     ]
    },
    {
     "name": "stderr",
     "output_type": "stream",
     "text": [
      " 82%|████████▏ | 82/100 [13:00<02:21,  7.85s/it]"
     ]
    },
    {
     "name": "stdout",
     "output_type": "stream",
     "text": [
      "response of tagger : { }\n",
      "[]\n",
      "''] Output after the first prompt : ['']\n",
      " "
     ]
    },
    {
     "name": "stderr",
     "output_type": "stream",
     "text": [
      " 83%|████████▎ | 83/100 [13:08<02:13,  7.85s/it]"
     ]
    },
    {
     "name": "stdout",
     "output_type": "stream",
     "text": [
      "response of tagger : { }\n",
      "[]\n",
      " 'last year', \"Tianjin Port Bonded Area\", '850 million US dollars', '72 %', 'the same period of the previous year', 'total foreign investment agreements', '700 million US dollars', '75 %', 'the same period of the previous year'] Output after the first prompt : ['last year', 'Tianjin Port Bonded Area', '850 million US dollars', '72 %', 'the same period of the previous year', 'total foreign investment agreements', '700 million US dollars', '75 %', 'the same period of the previous year']\n",
      "\n",
      "'last year' : '6',\n",
      "   'Tianjin Port Bonded Area' : 'E',\n",
      "   '850 million US dollars' : '9',\n",
      "   '72 %' : '7',\n",
      "   'the same period of the previous year' : '6',\n",
      "   'total foreign investment agreements' : 'B',\n",
      "   '700 million US dollars' : '9',\n",
      "   '75 %' : '7',\n",
      "   'the same period of the previous year' : '6',"
     ]
    },
    {
     "name": "stderr",
     "output_type": "stream",
     "text": [
      " 84%|████████▍ | 84/100 [13:31<03:19, 12.48s/it]"
     ]
    },
    {
     "name": "stdout",
     "output_type": "stream",
     "text": [
      "response of tagger : {\n",
      "'last year' : '6',\n",
      "   'Tianjin Port Bonded Area' : 'E',\n",
      "   '850 million US dollars' : '9',\n",
      "   '72 %' : '7',\n",
      "   'the same period of the previous year' : '6',\n",
      "   'total foreign investment agreements' : 'B',\n",
      "   '700 million US dollars' : '9',\n",
      "   '75 %' : '7',\n",
      "   'the same period of the previous year' : '6',}\n",
      "[('last year', 'DATE'), ('Tianjin Port Bonded Area', 'GPE'), ('850 million US dollars', 'MONEY'), ('72 %', 'PERCENT'), ('the same period of the previous year', 'DATE'), ('total foreign investment agreements', 'ORG'), ('700 million US dollars', 'MONEY'), ('75 %', 'PERCENT')]\n",
      " ] Output after the first prompt : []\n",
      " "
     ]
    },
    {
     "name": "stderr",
     "output_type": "stream",
     "text": [
      " 85%|████████▌ | 85/100 [13:38<02:42, 10.82s/it]"
     ]
    },
    {
     "name": "stdout",
     "output_type": "stream",
     "text": [
      "response of tagger : { }\n",
      "[]\n",
      " 'enterprises' ] Output after the first prompt : ['enterprises']\n",
      "\n",
      "'enterprises' : 'B',"
     ]
    },
    {
     "name": "stderr",
     "output_type": "stream",
     "text": [
      " 86%|████████▌ | 86/100 [13:46<02:16,  9.74s/it]"
     ]
    },
    {
     "name": "stdout",
     "output_type": "stream",
     "text": [
      "response of tagger : {\n",
      "'enterprises' : 'B',}\n",
      "[('enterprises', 'ORG')]\n",
      " ] Output after the first prompt : []\n",
      " "
     ]
    },
    {
     "name": "stderr",
     "output_type": "stream",
     "text": [
      " 87%|████████▋ | 87/100 [13:54<02:03,  9.48s/it]"
     ]
    },
    {
     "name": "stdout",
     "output_type": "stream",
     "text": [
      "response of tagger : { }\n",
      "[]\n",
      " 'Beijing', 'Yeh' ] Output after the first prompt : ['Beijing', 'Yeh']\n",
      "\n",
      "'Beijing' : 'E',\n",
      "   'Yeh' : '4',"
     ]
    },
    {
     "name": "stderr",
     "output_type": "stream",
     "text": [
      " 88%|████████▊ | 88/100 [14:04<01:52,  9.38s/it]"
     ]
    },
    {
     "name": "stdout",
     "output_type": "stream",
     "text": [
      "response of tagger : {\n",
      "'Beijing' : 'E',\n",
      "   'Yeh' : '4',}\n",
      "[('Beijing', 'GPE'), ('Yeh', 'PERSON')]\n",
      " 'Hong Kong', \"sprawling\", 'airport' ] Output after the first prompt : ['Hong Kong', 'sprawling', 'airport']\n",
      "\n",
      "'Hong Kong' : 'E',\n",
      "   'sprawling' : 'G',"
     ]
    },
    {
     "name": "stderr",
     "output_type": "stream",
     "text": [
      " 89%|████████▉ | 89/100 [14:13<01:43,  9.38s/it]"
     ]
    },
    {
     "name": "stdout",
     "output_type": "stream",
     "text": [
      "response of tagger : {\n",
      "'Hong Kong' : 'E',\n",
      "   'sprawling' : 'G',}\n",
      "[('Hong Kong', 'GPE'), ('sprawling', 'NORP')]\n",
      " 'Awadi', 'Barry' ] Output after the first prompt : ['Awadi', 'Barry']\n",
      "\n",
      "'Awadi' : '4',\n",
      "   'Barry' : '4',"
     ]
    },
    {
     "name": "stderr",
     "output_type": "stream",
     "text": [
      " 90%|█████████ | 90/100 [14:23<01:35,  9.54s/it]"
     ]
    },
    {
     "name": "stdout",
     "output_type": "stream",
     "text": [
      "response of tagger : {\n",
      "'Awadi' : '4',\n",
      "   'Barry' : '4',}\n",
      "[('Awadi', 'PERSON'), ('Barry', 'PERSON')]\n",
      " 'Phil', 'Morgan Stanley', 'SEC', 'Bear Stearns'] Output after the first prompt : ['Phil', 'Morgan Stanley', 'SEC', 'Bear Stearns']\n",
      "\n",
      "'Phil' : '4',\n",
      "   'Morgan Stanley' : 'B',\n",
      "   'SEC' : 'B',\n",
      "   'Bear Stearns' : 'B',"
     ]
    },
    {
     "name": "stderr",
     "output_type": "stream",
     "text": [
      " 91%|█████████ | 91/100 [14:34<01:31, 10.12s/it]"
     ]
    },
    {
     "name": "stdout",
     "output_type": "stream",
     "text": [
      "response of tagger : {\n",
      "'Phil' : '4',\n",
      "   'Morgan Stanley' : 'B',\n",
      "   'SEC' : 'B',\n",
      "   'Bear Stearns' : 'B',}\n",
      "[('Phil', 'PERSON'), ('Morgan Stanley', 'ORG'), ('SEC', 'ORG'), ('Bear Stearns', 'ORG')]\n",
      " 'The newspaper', 'the Mahdi Army' ] Output after the first prompt : ['The newspaper', 'the Mahdi Army']\n",
      "\n",
      "'The newspaper' : 'B',\n",
      "   'the Mahdi Army' : 'B',"
     ]
    },
    {
     "name": "stderr",
     "output_type": "stream",
     "text": [
      " 92%|█████████▏| 92/100 [14:45<01:21, 10.24s/it]"
     ]
    },
    {
     "name": "stdout",
     "output_type": "stream",
     "text": [
      "response of tagger : {\n",
      "'The newspaper' : 'B',\n",
      "   'the Mahdi Army' : 'B',}\n",
      "[('The newspaper', 'ORG'), ('the Mahdi Army', 'ORG')]\n",
      " 'Lu', 'adolescents' ] Output after the first prompt : ['Lu', 'adolescents']\n",
      "\n",
      "'Lu' : '4',\n",
      "   'adolescents' : '1',"
     ]
    },
    {
     "name": "stderr",
     "output_type": "stream",
     "text": [
      " 93%|█████████▎| 93/100 [14:54<01:08,  9.81s/it]"
     ]
    },
    {
     "name": "stdout",
     "output_type": "stream",
     "text": [
      "response of tagger : {\n",
      "'Lu' : '4',\n",
      "   'adolescents' : '1',}\n",
      "[('Lu', 'PERSON'), ('adolescents', 'CARDINAL')]\n",
      " 'It', 'soon' ] Output after the first prompt : ['It', 'soon']\n",
      "\n",
      "'It' : '4',\n",
      "   'soon' : '6',"
     ]
    },
    {
     "name": "stderr",
     "output_type": "stream",
     "text": [
      " 94%|█████████▍| 94/100 [15:02<00:56,  9.47s/it]"
     ]
    },
    {
     "name": "stdout",
     "output_type": "stream",
     "text": [
      "response of tagger : {\n",
      "'It' : '4',\n",
      "   'soon' : '6',}\n",
      "[('It', 'PERSON'), ('soon', 'DATE')]\n",
      " ] Output after the first prompt : []\n",
      " "
     ]
    },
    {
     "name": "stderr",
     "output_type": "stream",
     "text": [
      " 95%|█████████▌| 95/100 [15:09<00:42,  8.60s/it]"
     ]
    },
    {
     "name": "stdout",
     "output_type": "stream",
     "text": [
      "response of tagger : { }\n",
      "[]\n",
      "Senate', 'Republicans', 'White House'] Output after the first prompt : []\n",
      " "
     ]
    },
    {
     "name": "stderr",
     "output_type": "stream",
     "text": [
      " 96%|█████████▌| 96/100 [15:16<00:32,  8.21s/it]"
     ]
    },
    {
     "name": "stdout",
     "output_type": "stream",
     "text": [
      "response of tagger : { }\n",
      "[]\n",
      "As] Output after the first prompt : []\n",
      "\n"
     ]
    },
    {
     "name": "stderr",
     "output_type": "stream",
     "text": [
      " 97%|█████████▋| 97/100 [15:23<00:23,  7.71s/it]"
     ]
    },
    {
     "name": "stdout",
     "output_type": "stream",
     "text": [
      "response of tagger : {\n",
      "}\n",
      "[]\n",
      " 'Israel', 'China' ] Output after the first prompt : ['Israel', 'China']\n",
      "\n",
      "'Israel' : '4',\n",
      "   'China' : 'E',"
     ]
    },
    {
     "name": "stderr",
     "output_type": "stream",
     "text": [
      " 98%|█████████▊| 98/100 [15:31<00:15,  7.93s/it]"
     ]
    },
    {
     "name": "stdout",
     "output_type": "stream",
     "text": [
      "response of tagger : {\n",
      "'Israel' : '4',\n",
      "   'China' : 'E',}\n",
      "[('Israel', 'PERSON'), ('China', 'GPE')]\n",
      "''] Output after the first prompt : ['']\n",
      "\n"
     ]
    },
    {
     "name": "stderr",
     "output_type": "stream",
     "text": [
      " 99%|█████████▉| 99/100 [15:38<00:07,  7.57s/it]"
     ]
    },
    {
     "name": "stdout",
     "output_type": "stream",
     "text": [
      "response of tagger : {\n",
      "}\n",
      "[]\n",
      " ] Output after the first prompt : []\n",
      " "
     ]
    },
    {
     "name": "stderr",
     "output_type": "stream",
     "text": [
      "100%|██████████| 100/100 [15:44<00:00,  9.45s/it]\n"
     ]
    },
    {
     "name": "stdout",
     "output_type": "stream",
     "text": [
      "response of tagger : { }\n",
      "[]\n",
      "./ner/saves/datasets/ontonote5_test_1403.pkl\n"
     ]
    },
    {
     "name": "stderr",
     "output_type": "stream",
     "text": [
      "  0%|          | 0/100 [00:00<?, ?it/s]"
     ]
    },
    {
     "name": "stdout",
     "output_type": "stream",
     "text": [
      " ] Output after the first prompt : []\n",
      " "
     ]
    },
    {
     "name": "stderr",
     "output_type": "stream",
     "text": [
      "  1%|          | 1/100 [00:06<11:19,  6.87s/it]"
     ]
    },
    {
     "name": "stdout",
     "output_type": "stream",
     "text": [
      "response of tagger : { }\n",
      "[]\n",
      " ] Output after the first prompt : []\n",
      " "
     ]
    },
    {
     "name": "stderr",
     "output_type": "stream",
     "text": [
      "  2%|▏         | 2/100 [00:15<13:03,  8.00s/it]"
     ]
    },
    {
     "name": "stdout",
     "output_type": "stream",
     "text": [
      "response of tagger : { }\n",
      "[]\n",
      " ] Output after the first prompt : []\n",
      " "
     ]
    },
    {
     "name": "stderr",
     "output_type": "stream",
     "text": [
      "  3%|▎         | 3/100 [00:21<11:23,  7.05s/it]"
     ]
    },
    {
     "name": "stdout",
     "output_type": "stream",
     "text": [
      "response of tagger : { }\n",
      "[]\n",
      " 'The', 'schools' , 'homes' , 'consulates' , 'foreign district' ] Output after the first prompt : ['The', 'schools', 'homes', 'consulates', 'foreign district']\n",
      "\n",
      "'The' : '1',\n",
      "   'schools' : 'E',\n",
      "   'homes' : 'E',\n",
      "   'consulates' : 'B',\n",
      "   'foreign district' : 'A'"
     ]
    },
    {
     "name": "stderr",
     "output_type": "stream",
     "text": [
      "  4%|▍         | 4/100 [00:34<15:05,  9.43s/it]"
     ]
    },
    {
     "name": "stdout",
     "output_type": "stream",
     "text": [
      "response of tagger : {\n",
      "'The' : '1',\n",
      "   'schools' : 'E',\n",
      "   'homes' : 'E',\n",
      "   'consulates' : 'B',\n",
      "   'foreign district' : 'A'}\n",
      "[('The', 'CARDINAL'), ('schools', 'GPE'), ('homes', 'GPE'), ('consulates', 'ORG'), ('foreign district', 'TIME')]\n",
      " ] Output after the first prompt : []\n",
      "\n"
     ]
    },
    {
     "name": "stderr",
     "output_type": "stream",
     "text": [
      "  5%|▌         | 5/100 [00:40<13:09,  8.31s/it]"
     ]
    },
    {
     "name": "stdout",
     "output_type": "stream",
     "text": [
      "response of tagger : {\n",
      "}\n",
      "[]\n",
      " 'This' ] Output after the first prompt : ['This']\n",
      "\n",
      "'This' : 'A',"
     ]
    },
    {
     "name": "stderr",
     "output_type": "stream",
     "text": [
      "  6%|▌         | 6/100 [00:48<12:31,  8.00s/it]"
     ]
    },
    {
     "name": "stdout",
     "output_type": "stream",
     "text": [
      "response of tagger : {\n",
      "'This' : 'A',}\n",
      "[('This', 'TIME')]\n",
      " 'China', 'working' ] Output after the first prompt : ['China', 'working']\n",
      "\n",
      "'China' : 'E',\n",
      "   'working' : 'A',"
     ]
    },
    {
     "name": "stderr",
     "output_type": "stream",
     "text": [
      "  7%|▋         | 7/100 [00:56<12:21,  7.97s/it]"
     ]
    },
    {
     "name": "stdout",
     "output_type": "stream",
     "text": [
      "response of tagger : {\n",
      "'China' : 'E',\n",
      "   'working' : 'A',}\n",
      "[('China', 'GPE'), ('working', 'TIME')]\n",
      " 'a year' ] Output after the first prompt : ['a year']\n",
      "\n",
      "'a year' : '6',"
     ]
    },
    {
     "name": "stderr",
     "output_type": "stream",
     "text": [
      "  8%|▊         | 8/100 [01:03<11:58,  7.81s/it]"
     ]
    },
    {
     "name": "stdout",
     "output_type": "stream",
     "text": [
      "response of tagger : {\n",
      "'a year' : '6',}\n",
      "[('a year', 'DATE')]\n",
      "''] Output after the first prompt : ['']\n",
      "\n"
     ]
    },
    {
     "name": "stderr",
     "output_type": "stream",
     "text": [
      "  9%|▉         | 9/100 [01:09<11:02,  7.28s/it]"
     ]
    },
    {
     "name": "stdout",
     "output_type": "stream",
     "text": [
      "response of tagger : {\n",
      "}\n",
      "[]\n",
      " 'Tsao Chi - hung', '1999' ] Output after the first prompt : ['Tsao Chi - hung', '1999']\n",
      "\n",
      "'Tsao Chi - hung' : '4',\n",
      "   '1999' : '6',"
     ]
    },
    {
     "name": "stderr",
     "output_type": "stream",
     "text": [
      " 10%|█         | 10/100 [01:21<12:44,  8.49s/it]"
     ]
    },
    {
     "name": "stdout",
     "output_type": "stream",
     "text": [
      "response of tagger : {\n",
      "'Tsao Chi - hung' : '4',\n",
      "   '1999' : '6',}\n",
      "[('Tsao Chi - hung', 'PERSON'), ('1999', 'DATE')]\n",
      " 'The Guaranteed Law for Disabled Persons in the People 's Republic of China' ] Output after the first prompt : []\n",
      " "
     ]
    },
    {
     "name": "stderr",
     "output_type": "stream",
     "text": [
      " 11%|█         | 11/100 [01:28<12:08,  8.18s/it]"
     ]
    },
    {
     "name": "stdout",
     "output_type": "stream",
     "text": [
      "response of tagger : { }\n",
      "[]\n",
      " 'No.', 'auto', 'British' ] Output after the first prompt : ['No.', 'auto', 'British']\n",
      "\n",
      "'No.' : 'C',\n",
      "   'auto' : 'B',\n",
      "   'British' : 'G',"
     ]
    },
    {
     "name": "stderr",
     "output_type": "stream",
     "text": [
      " 12%|█▏        | 12/100 [01:38<13:00,  8.86s/it]"
     ]
    },
    {
     "name": "stdout",
     "output_type": "stream",
     "text": [
      "response of tagger : {\n",
      "'No.' : 'C',\n",
      "   'auto' : 'B',\n",
      "   'British' : 'G',}\n",
      "[('No.', 'QUANTITY'), ('auto', 'ORG'), ('British', 'NORP')]\n",
      "'.', 'the', \"New York\", 'Times'] Output after the first prompt : ['.', 'the', 'New York', 'Times']\n",
      "\n",
      "'.' : '1',\n",
      "   'the' : '2',\n",
      "   'New York' : 'E',\n",
      "   'Times' : 'B'"
     ]
    },
    {
     "name": "stderr",
     "output_type": "stream",
     "text": [
      " 13%|█▎        | 13/100 [01:50<13:53,  9.58s/it]"
     ]
    },
    {
     "name": "stdout",
     "output_type": "stream",
     "text": [
      "response of tagger : {\n",
      "'.' : '1',\n",
      "   'the' : '2',\n",
      "   'New York' : 'E',\n",
      "   'Times' : 'B'}\n",
      "[('.', 'CARDINAL'), ('the', 'ORDINAL'), ('New York', 'GPE'), ('Times', 'ORG')]\n",
      " 'Iraq', 'British' ] Output after the first prompt : ['Iraq', 'British']\n",
      "\n",
      "'Iraq' : 'E',\n",
      "   'British' : '4',"
     ]
    },
    {
     "name": "stderr",
     "output_type": "stream",
     "text": [
      " 14%|█▍        | 14/100 [01:58<13:21,  9.32s/it]"
     ]
    },
    {
     "name": "stdout",
     "output_type": "stream",
     "text": [
      "response of tagger : {\n",
      "'Iraq' : 'E',\n",
      "   'British' : '4',}\n",
      "[('Iraq', 'GPE'), ('British', 'PERSON')]\n",
      " ] Output after the first prompt : []\n",
      " "
     ]
    },
    {
     "name": "stderr",
     "output_type": "stream",
     "text": [
      " 15%|█▌        | 15/100 [02:06<12:22,  8.74s/it]"
     ]
    },
    {
     "name": "stdout",
     "output_type": "stream",
     "text": [
      "response of tagger : { }\n",
      "[]\n",
      " ] Output after the first prompt : []\n",
      " "
     ]
    },
    {
     "name": "stderr",
     "output_type": "stream",
     "text": [
      " 16%|█▌        | 16/100 [02:12<11:20,  8.10s/it]"
     ]
    },
    {
     "name": "stdout",
     "output_type": "stream",
     "text": [
      "response of tagger : { }\n",
      "[]\n",
      " ] Output after the first prompt : []\n",
      " "
     ]
    },
    {
     "name": "stderr",
     "output_type": "stream",
     "text": [
      " 17%|█▋        | 17/100 [02:19<10:33,  7.63s/it]"
     ]
    },
    {
     "name": "stdout",
     "output_type": "stream",
     "text": [
      "response of tagger : { }\n",
      "[]\n",
      "Lucy Dalglish', 'Miller', 'Floyd Abrams', 'Joe Tate', 'Scooter Libby'] Output after the first prompt : []\n",
      " "
     ]
    },
    {
     "name": "stderr",
     "output_type": "stream",
     "text": [
      " 18%|█▊        | 18/100 [02:28<11:07,  8.14s/it]"
     ]
    },
    {
     "name": "stdout",
     "output_type": "stream",
     "text": [
      "response of tagger : { }\n",
      "[]\n",
      " 'Queens', 'Francis X. Curzio' ] Output after the first prompt : ['Queens', 'Francis X. Curzio']\n",
      "\n",
      "'Queens' : 'E',\n",
      "   'Francis X. Curzio' : '4',"
     ]
    },
    {
     "name": "stderr",
     "output_type": "stream",
     "text": [
      " 19%|█▉        | 19/100 [02:38<11:46,  8.73s/it]"
     ]
    },
    {
     "name": "stdout",
     "output_type": "stream",
     "text": [
      "response of tagger : {\n",
      "'Queens' : 'E',\n",
      "   'Francis X. Curzio' : '4',}\n",
      "[('Queens', 'GPE'), ('Francis X. Curzio', 'PERSON')]\n",
      " ] Output after the first prompt : []\n",
      " "
     ]
    },
    {
     "name": "stderr",
     "output_type": "stream",
     "text": [
      " 20%|██        | 20/100 [02:45<10:42,  8.03s/it]"
     ]
    },
    {
     "name": "stdout",
     "output_type": "stream",
     "text": [
      "response of tagger : { }\n",
      "[]\n",
      "''Eurovision Song Contest''] Output after the first prompt : []\n",
      " "
     ]
    },
    {
     "name": "stderr",
     "output_type": "stream",
     "text": [
      " 21%|██        | 21/100 [02:52<10:17,  7.82s/it]"
     ]
    },
    {
     "name": "stdout",
     "output_type": "stream",
     "text": [
      "response of tagger : { }\n",
      "[]\n",
      " ] Output after the first prompt : []\n",
      " "
     ]
    },
    {
     "name": "stderr",
     "output_type": "stream",
     "text": [
      " 22%|██▏       | 22/100 [02:58<09:33,  7.36s/it]"
     ]
    },
    {
     "name": "stdout",
     "output_type": "stream",
     "text": [
      "response of tagger : { }\n",
      "[]\n",
      "['Christy Whitman', 'White House']] Output after the first prompt : []\n",
      " "
     ]
    },
    {
     "name": "stderr",
     "output_type": "stream",
     "text": [
      " 23%|██▎       | 23/100 [03:06<09:34,  7.46s/it]"
     ]
    },
    {
     "name": "stdout",
     "output_type": "stream",
     "text": [
      "response of tagger : { }\n",
      "[]\n",
      " 'the Japanese occupation', 'Keelung' ] Output after the first prompt : ['the Japanese occupation', 'Keelung']\n",
      "\n",
      "'the Japanese occupation' : '6',\n",
      "   'Keelung' : 'E',"
     ]
    },
    {
     "name": "stderr",
     "output_type": "stream",
     "text": [
      " 24%|██▍       | 24/100 [03:15<09:59,  7.89s/it]"
     ]
    },
    {
     "name": "stdout",
     "output_type": "stream",
     "text": [
      "response of tagger : {\n",
      "'the Japanese occupation' : '6',\n",
      "   'Keelung' : 'E',}\n",
      "[('the Japanese occupation', 'DATE'), ('Keelung', 'GPE')]\n",
      "Putin', 'Indians', 'Clinton'] Output after the first prompt : []\n",
      " "
     ]
    },
    {
     "name": "stderr",
     "output_type": "stream",
     "text": [
      " 25%|██▌       | 25/100 [03:24<10:11,  8.15s/it]"
     ]
    },
    {
     "name": "stdout",
     "output_type": "stream",
     "text": [
      "response of tagger : { }\n",
      "[]\n",
      "['This', 'simple'], ['convenient'], ['efficient'], ['input'], ['method'], ['covers'], ['more'], ['than'], ['85'], ['%'], ['of'], ['the'], ['nation'], ['s'], ['computer'], ['users'], ['and'], ['has'], ['become'], ['the'], ['input'], ['technology'], ['of'], ['Chinese'], ['characters'], ['which'], ['dominates'], ['the'], ['leading'], ['position'], ['in'], ['our'], ['nation']] Output after the first prompt : []\n",
      " "
     ]
    },
    {
     "name": "stderr",
     "output_type": "stream",
     "text": [
      " 26%|██▌       | 26/100 [03:39<12:30, 10.14s/it]"
     ]
    },
    {
     "name": "stdout",
     "output_type": "stream",
     "text": [
      "response of tagger : { }\n",
      "[]\n",
      " ] Output after the first prompt : []\n",
      " "
     ]
    },
    {
     "name": "stderr",
     "output_type": "stream",
     "text": [
      " 27%|██▋       | 27/100 [03:44<10:45,  8.84s/it]"
     ]
    },
    {
     "name": "stdout",
     "output_type": "stream",
     "text": [
      "response of tagger : { }\n",
      "[]\n",
      " 'CIA', \"a certain\", 'top White House', 'Friday'] Output after the first prompt : ['CIA', 'a certain', 'top White House', 'Friday']\n",
      "\n",
      "'CIA' : 'B',\n",
      "   'a certain' : '',\n",
      "   'top White House' : '',\n",
      "   'Friday' : '6',"
     ]
    },
    {
     "name": "stderr",
     "output_type": "stream",
     "text": [
      " 28%|██▊       | 28/100 [03:56<11:47,  9.83s/it]"
     ]
    },
    {
     "name": "stdout",
     "output_type": "stream",
     "text": [
      "response of tagger : {\n",
      "'CIA' : 'B',\n",
      "   'a certain' : '',\n",
      "   'top White House' : '',\n",
      "   'Friday' : '6',}\n",
      "[('CIA', 'ORG'), ('Friday', 'DATE')]\n",
      "''] Output after the first prompt : ['']\n",
      "\n"
     ]
    },
    {
     "name": "stderr",
     "output_type": "stream",
     "text": [
      " 29%|██▉       | 29/100 [04:03<10:30,  8.88s/it]"
     ]
    },
    {
     "name": "stdout",
     "output_type": "stream",
     "text": [
      "response of tagger : {\n",
      "}\n",
      "[]\n",
      "['taxi', 'driver'], ['gas', 'price']] Output after the first prompt : []\n",
      "\n"
     ]
    },
    {
     "name": "stderr",
     "output_type": "stream",
     "text": [
      " 30%|███       | 30/100 [04:11<09:52,  8.47s/it]"
     ]
    },
    {
     "name": "stdout",
     "output_type": "stream",
     "text": [
      "response of tagger : {\n",
      "}\n",
      "[]\n",
      " 'East Second Ring Road', 'West Dawang Road' ] Output after the first prompt : ['East Second Ring Road', 'West Dawang Road']\n",
      "\n",
      "'East Second Ring Road' : 'A',\n",
      "   'West Dawang Road' : 'B',"
     ]
    },
    {
     "name": "stderr",
     "output_type": "stream",
     "text": [
      " 31%|███       | 31/100 [04:20<10:11,  8.86s/it]"
     ]
    },
    {
     "name": "stdout",
     "output_type": "stream",
     "text": [
      "response of tagger : {\n",
      "'East Second Ring Road' : 'A',\n",
      "   'West Dawang Road' : 'B',}\n",
      "[('East Second Ring Road', 'TIME'), ('West Dawang Road', 'ORG')]\n",
      " 'I', 'Lin Hung - kuei' ] Output after the first prompt : ['I', 'Lin Hung - kuei']\n",
      "\n",
      "'I' : '1',\n",
      "   'Lin Hung - kuei' : '4',"
     ]
    },
    {
     "name": "stderr",
     "output_type": "stream",
     "text": [
      " 32%|███▏      | 32/100 [04:30<10:07,  8.94s/it]"
     ]
    },
    {
     "name": "stdout",
     "output_type": "stream",
     "text": [
      "response of tagger : {\n",
      "'I' : '1',\n",
      "   'Lin Hung - kuei' : '4',}\n",
      "[('I', 'CARDINAL'), ('Lin Hung - kuei', 'PERSON')]\n",
      " 'Separately', 'Lee', 'one', 'China'] Output after the first prompt : ['Separately', 'Lee', 'one', 'China']\n",
      "\n",
      "'Separately' : '0',\n",
      "   'Lee' : '4',\n",
      "   'one' : '1',\n",
      "   'China' : 'E',"
     ]
    },
    {
     "name": "stderr",
     "output_type": "stream",
     "text": [
      " 33%|███▎      | 33/100 [04:41<10:56,  9.80s/it]"
     ]
    },
    {
     "name": "stdout",
     "output_type": "stream",
     "text": [
      "response of tagger : {\n",
      "'Separately' : '0',\n",
      "   'Lee' : '4',\n",
      "   'one' : '1',\n",
      "   'China' : 'E',}\n",
      "[('Separately', 'FAC'), ('Lee', 'PERSON'), ('one', 'CARDINAL'), ('China', 'GPE')]\n",
      "'.'] Output after the first prompt : ['.']\n",
      "\n",
      "'.': '1',"
     ]
    },
    {
     "name": "stderr",
     "output_type": "stream",
     "text": [
      " 34%|███▍      | 34/100 [04:47<09:30,  8.65s/it]"
     ]
    },
    {
     "name": "stdout",
     "output_type": "stream",
     "text": [
      "response of tagger : {\n",
      "'.': '1',}\n",
      "[('.', 'CARDINAL')]\n",
      "100,000 US dollars] Output after the first prompt : []\n",
      " "
     ]
    },
    {
     "name": "stderr",
     "output_type": "stream",
     "text": [
      " 35%|███▌      | 35/100 [04:56<09:25,  8.70s/it]"
     ]
    },
    {
     "name": "stdout",
     "output_type": "stream",
     "text": [
      "response of tagger : { }\n",
      "[]\n",
      " 'In the first two months of this year', 'the total value of import and export trade', '1.24 billion US dollars' ] Output after the first prompt : ['In the first two months of this year', 'the total value of import and export trade', '1.24 billion US dollars']\n",
      "\n",
      "'In the first two months of this year' : '6',\n",
      "   'the total value of import and export trade' : '9',\n",
      "   '1.24 billion US dollars' : '9',"
     ]
    },
    {
     "name": "stderr",
     "output_type": "stream",
     "text": [
      " 36%|███▌      | 36/100 [05:09<10:44, 10.07s/it]"
     ]
    },
    {
     "name": "stdout",
     "output_type": "stream",
     "text": [
      "response of tagger : {\n",
      "'In the first two months of this year' : '6',\n",
      "   'the total value of import and export trade' : '9',\n",
      "   '1.24 billion US dollars' : '9',}\n",
      "[('In the first two months of this year', 'DATE'), ('the total value of import and export trade', 'MONEY'), ('1.24 billion US dollars', 'MONEY')]\n",
      " 'Ash', 'Al-Queda' ] Output after the first prompt : ['Ash', 'Al-Queda']\n",
      "\n",
      "'Ash' : 'E',\n",
      "   'Al-Queda' : 'G',"
     ]
    },
    {
     "name": "stderr",
     "output_type": "stream",
     "text": [
      " 37%|███▋      | 37/100 [05:18<10:08,  9.65s/it]"
     ]
    },
    {
     "name": "stdout",
     "output_type": "stream",
     "text": [
      "response of tagger : {\n",
      "'Ash' : 'E',\n",
      "   'Al-Queda' : 'G',}\n",
      "[('Ash', 'GPE'), ('Al-Queda', 'NORP')]\n",
      "'.9 percent'] Output after the first prompt : ['.9 percent']\n",
      "\n",
      "'.9 percent' : '7',"
     ]
    },
    {
     "name": "stderr",
     "output_type": "stream",
     "text": [
      " 38%|███▊      | 38/100 [05:26<09:20,  9.04s/it]"
     ]
    },
    {
     "name": "stdout",
     "output_type": "stream",
     "text": [
      "response of tagger : {\n",
      "'.9 percent' : '7',}\n",
      "[('.9 percent', 'PERCENT')]\n",
      "''Pelswick ''] Output after the first prompt : []\n",
      " "
     ]
    },
    {
     "name": "stderr",
     "output_type": "stream",
     "text": [
      " 39%|███▉      | 39/100 [05:32<08:23,  8.25s/it]"
     ]
    },
    {
     "name": "stdout",
     "output_type": "stream",
     "text": [
      "response of tagger : { }\n",
      "[]\n",
      " 'three', 'community'] Output after the first prompt : ['three', 'community']\n",
      "\n",
      "'three' : '1',\n",
      "   'community' : 'E',"
     ]
    },
    {
     "name": "stderr",
     "output_type": "stream",
     "text": [
      " 40%|████      | 40/100 [05:40<08:14,  8.24s/it]"
     ]
    },
    {
     "name": "stdout",
     "output_type": "stream",
     "text": [
      "response of tagger : {\n",
      "'three' : '1',\n",
      "   'community' : 'E',}\n",
      "[('three', 'CARDINAL'), ('community', 'GPE')]\n",
      "['Rice', 'Wednesday'], ['GA summit', 'St. Petersburgh'], ['the president', 'At the end of the week']] Output after the first prompt : []\n",
      " "
     ]
    },
    {
     "name": "stderr",
     "output_type": "stream",
     "text": [
      " 41%|████      | 41/100 [05:49<08:19,  8.47s/it]"
     ]
    },
    {
     "name": "stdout",
     "output_type": "stream",
     "text": [
      "response of tagger : { }\n",
      "[]\n",
      "''] Output after the first prompt : ['']\n",
      " "
     ]
    },
    {
     "name": "stderr",
     "output_type": "stream",
     "text": [
      " 42%|████▏     | 42/100 [05:56<07:47,  8.07s/it]"
     ]
    },
    {
     "name": "stdout",
     "output_type": "stream",
     "text": [
      "response of tagger : { }\n",
      "[]\n",
      " 'August', 'US' ] Output after the first prompt : ['August', 'US']\n",
      "\n",
      "'August' : '6',\n",
      "   'US' : 'B',"
     ]
    },
    {
     "name": "stderr",
     "output_type": "stream",
     "text": [
      " 43%|████▎     | 43/100 [06:05<07:42,  8.12s/it]"
     ]
    },
    {
     "name": "stdout",
     "output_type": "stream",
     "text": [
      "response of tagger : {\n",
      "'August' : '6',\n",
      "   'US' : 'B',}\n",
      "[('August', 'DATE'), ('US', 'ORG')]\n",
      " ] Output after the first prompt : []\n",
      " "
     ]
    },
    {
     "name": "stderr",
     "output_type": "stream",
     "text": [
      " 44%|████▍     | 44/100 [06:11<07:09,  7.66s/it]"
     ]
    },
    {
     "name": "stdout",
     "output_type": "stream",
     "text": [
      "response of tagger : { }\n",
      "[]\n",
      " 'A', 'firm', 'consensus' , 'Group' , 'one', 'China' , 'ROC'] Output after the first prompt : ['A', 'firm', 'consensus', 'Group', 'one', 'China', 'ROC']\n",
      "\n",
      "'A' : '1',\n",
      "   'firm' : '0',\n",
      "   'consensus' : '5',\n",
      "   'Group' : 'B',\n",
      "   'one' : '1',\n",
      "   'China' : 'E',\n",
      "   'ROC' : '4',"
     ]
    },
    {
     "name": "stderr",
     "output_type": "stream",
     "text": [
      " 45%|████▌     | 45/100 [06:26<08:54,  9.73s/it]"
     ]
    },
    {
     "name": "stdout",
     "output_type": "stream",
     "text": [
      "response of tagger : {\n",
      "'A' : '1',\n",
      "   'firm' : '0',\n",
      "   'consensus' : '5',\n",
      "   'Group' : 'B',\n",
      "   'one' : '1',\n",
      "   'China' : 'E',\n",
      "   'ROC' : '4',}\n",
      "[('A', 'CARDINAL'), ('firm', 'FAC'), ('consensus', 'LOC'), ('Group', 'ORG'), ('one', 'CARDINAL'), ('China', 'GPE'), ('ROC', 'PERSON')]\n",
      " 'the past two years', 'more than a hundred', '23' ] Output after the first prompt : ['the past two years', 'more than a hundred', '23']\n",
      "\n",
      "'the past two years' : '6',\n",
      "   'more than a hundred' : '1',\n",
      "   '23' : 'C',"
     ]
    },
    {
     "name": "stderr",
     "output_type": "stream",
     "text": [
      " 46%|████▌     | 46/100 [06:37<09:02, 10.04s/it]"
     ]
    },
    {
     "name": "stdout",
     "output_type": "stream",
     "text": [
      "response of tagger : {\n",
      "'the past two years' : '6',\n",
      "   'more than a hundred' : '1',\n",
      "   '23' : 'C',}\n",
      "[('the past two years', 'DATE'), ('more than a hundred', 'CARDINAL'), ('23', 'QUANTITY')]\n",
      "''] Output after the first prompt : ['']\n",
      " "
     ]
    },
    {
     "name": "stderr",
     "output_type": "stream",
     "text": [
      " 47%|████▋     | 47/100 [06:44<08:06,  9.18s/it]"
     ]
    },
    {
     "name": "stdout",
     "output_type": "stream",
     "text": [
      "response of tagger : { }\n",
      "[]\n",
      " ] Output after the first prompt : []\n",
      " "
     ]
    },
    {
     "name": "stderr",
     "output_type": "stream",
     "text": [
      " 48%|████▊     | 48/100 [06:51<07:34,  8.74s/it]"
     ]
    },
    {
     "name": "stdout",
     "output_type": "stream",
     "text": [
      "response of tagger : { }\n",
      "[]\n",
      " ] Output after the first prompt : []\n",
      " "
     ]
    },
    {
     "name": "stderr",
     "output_type": "stream",
     "text": [
      " 49%|████▉     | 49/100 [06:58<06:48,  8.02s/it]"
     ]
    },
    {
     "name": "stdout",
     "output_type": "stream",
     "text": [
      "response of tagger : { }\n",
      "[]\n",
      "['We']] Output after the first prompt : []\n",
      "\n"
     ]
    },
    {
     "name": "stderr",
     "output_type": "stream",
     "text": [
      " 50%|█████     | 50/100 [07:04<06:18,  7.56s/it]"
     ]
    },
    {
     "name": "stdout",
     "output_type": "stream",
     "text": [
      "response of tagger : {\n",
      "}\n",
      "[]\n",
      " ] Output after the first prompt : []\n",
      " "
     ]
    },
    {
     "name": "stderr",
     "output_type": "stream",
     "text": [
      " 51%|█████     | 51/100 [07:11<06:03,  7.42s/it]"
     ]
    },
    {
     "name": "stdout",
     "output_type": "stream",
     "text": [
      "response of tagger : { }\n",
      "[]\n",
      " 'Kuo', 'present' ] Output after the first prompt : ['Kuo', 'present']\n",
      "\n",
      "'Kuo' : '4',\n",
      "   'present' : '6',"
     ]
    },
    {
     "name": "stderr",
     "output_type": "stream",
     "text": [
      " 52%|█████▏    | 52/100 [07:20<06:10,  7.72s/it]"
     ]
    },
    {
     "name": "stdout",
     "output_type": "stream",
     "text": [
      "response of tagger : {\n",
      "'Kuo' : '4',\n",
      "   'present' : '6',}\n",
      "[('Kuo', 'PERSON'), ('present', 'DATE')]\n",
      " 'California', 'dollars per megawatt hour' ] Output after the first prompt : ['California', 'dollars per megawatt hour']\n",
      "\n",
      "'California' : 'E',\n",
      "   'dollars per megawatt hour' : '7',"
     ]
    },
    {
     "name": "stderr",
     "output_type": "stream",
     "text": [
      " 53%|█████▎    | 53/100 [07:29<06:27,  8.25s/it]"
     ]
    },
    {
     "name": "stdout",
     "output_type": "stream",
     "text": [
      "response of tagger : {\n",
      "'California' : 'E',\n",
      "   'dollars per megawatt hour' : '7',}\n",
      "[('California', 'GPE'), ('dollars per megawatt hour', 'PERCENT')]\n",
      " ] Output after the first prompt : []\n",
      " "
     ]
    },
    {
     "name": "stderr",
     "output_type": "stream",
     "text": [
      " 54%|█████▍    | 54/100 [07:36<06:04,  7.92s/it]"
     ]
    },
    {
     "name": "stdout",
     "output_type": "stream",
     "text": [
      "response of tagger : { }\n",
      "[]\n",
      " 'Hugo Quackenbush', 'Charles Schwab Corp.', 'San Francisco'] Output after the first prompt : ['Hugo Quackenbush', 'Charles Schwab Corp.', 'San Francisco']\n",
      "\n",
      "'Hugo Quackenbush' : '4',\n",
      "   'Charles Schwab Corp.' : 'B',\n",
      "   'San Francisco' : 'E'"
     ]
    },
    {
     "name": "stderr",
     "output_type": "stream",
     "text": [
      " 55%|█████▌    | 55/100 [07:47<06:36,  8.81s/it]"
     ]
    },
    {
     "name": "stdout",
     "output_type": "stream",
     "text": [
      "response of tagger : {\n",
      "'Hugo Quackenbush' : '4',\n",
      "   'Charles Schwab Corp.' : 'B',\n",
      "   'San Francisco' : 'E'}\n",
      "[('Hugo Quackenbush', 'PERSON'), ('Charles Schwab Corp.', 'ORG'), ('San Francisco', 'GPE')]\n",
      " 'Maimaiti', 'America' ] Output after the first prompt : ['Maimaiti', 'America']\n",
      "\n",
      "'Maimaiti' : 'E',\n",
      "   'America' : 'B',"
     ]
    },
    {
     "name": "stderr",
     "output_type": "stream",
     "text": [
      " 56%|█████▌    | 56/100 [07:56<06:29,  8.85s/it]"
     ]
    },
    {
     "name": "stdout",
     "output_type": "stream",
     "text": [
      "response of tagger : {\n",
      "'Maimaiti' : 'E',\n",
      "   'America' : 'B',}\n",
      "[('Maimaiti', 'GPE'), ('America', 'ORG')]\n",
      " 'Lanny Davis', 'Freeh' ] Output after the first prompt : ['Lanny Davis', 'Freeh']\n",
      "\n",
      "'Lanny Davis' : '4',\n",
      "   'Freeh' : '4',"
     ]
    },
    {
     "name": "stderr",
     "output_type": "stream",
     "text": [
      " 57%|█████▋    | 57/100 [08:06<06:34,  9.18s/it]"
     ]
    },
    {
     "name": "stdout",
     "output_type": "stream",
     "text": [
      "response of tagger : {\n",
      "'Lanny Davis' : '4',\n",
      "   'Freeh' : '4',}\n",
      "[('Lanny Davis', 'PERSON'), ('Freeh', 'PERSON')]\n",
      " 'Clinton', 'Hasina' ] Output after the first prompt : ['Clinton', 'Hasina']\n",
      "\n",
      "'Clinton' : '4',\n",
      "   'Hasina' : '4',"
     ]
    },
    {
     "name": "stderr",
     "output_type": "stream",
     "text": [
      " 58%|█████▊    | 58/100 [08:14<06:11,  8.84s/it]"
     ]
    },
    {
     "name": "stdout",
     "output_type": "stream",
     "text": [
      "response of tagger : {\n",
      "'Clinton' : '4',\n",
      "   'Hasina' : '4',}\n",
      "[('Clinton', 'PERSON'), ('Hasina', 'PERSON')]\n",
      "['Overall'], ['South'], ['West']] Output after the first prompt : []\n",
      "\n"
     ]
    },
    {
     "name": "stderr",
     "output_type": "stream",
     "text": [
      " 59%|█████▉    | 59/100 [08:22<05:42,  8.36s/it]"
     ]
    },
    {
     "name": "stdout",
     "output_type": "stream",
     "text": [
      "response of tagger : {\n",
      "}\n",
      "[]\n",
      " 'Tanshui' ] Output after the first prompt : ['Tanshui']\n",
      "\n",
      "'Tanshui' : 'E',"
     ]
    },
    {
     "name": "stderr",
     "output_type": "stream",
     "text": [
      " 60%|██████    | 60/100 [08:30<05:30,  8.27s/it]"
     ]
    },
    {
     "name": "stdout",
     "output_type": "stream",
     "text": [
      "response of tagger : {\n",
      "'Tanshui' : 'E',}\n",
      "[('Tanshui', 'GPE')]\n",
      " ] Output after the first prompt : []\n",
      " "
     ]
    },
    {
     "name": "stderr",
     "output_type": "stream",
     "text": [
      " 61%|██████    | 61/100 [08:37<05:06,  7.87s/it]"
     ]
    },
    {
     "name": "stdout",
     "output_type": "stream",
     "text": [
      "response of tagger : { }\n",
      "[]\n",
      " 'U.S.', 'May', 'carried over', 'next season'] Output after the first prompt : ['U.S.', 'May', 'carried over', 'next season']\n",
      "\n",
      "'U.S.' : 'E',\n",
      "   'May' : '6',\n",
      "   'carried over' : 'A',\n",
      "   'next season' : '6',"
     ]
    },
    {
     "name": "stderr",
     "output_type": "stream",
     "text": [
      " 62%|██████▏   | 62/100 [08:48<05:40,  8.97s/it]"
     ]
    },
    {
     "name": "stdout",
     "output_type": "stream",
     "text": [
      "response of tagger : {\n",
      "'U.S.' : 'E',\n",
      "   'May' : '6',\n",
      "   'carried over' : 'A',\n",
      "   'next season' : '6',}\n",
      "[('U.S.', 'GPE'), ('May', 'DATE'), ('carried over', 'TIME'), ('next season', 'DATE')]\n",
      "''] Output after the first prompt : ['']\n",
      " "
     ]
    },
    {
     "name": "stderr",
     "output_type": "stream",
     "text": [
      " 63%|██████▎   | 63/100 [08:56<05:16,  8.56s/it]"
     ]
    },
    {
     "name": "stdout",
     "output_type": "stream",
     "text": [
      "response of tagger : { }\n",
      "[]\n",
      "Yes] Output after the first prompt : []\n",
      "\n"
     ]
    },
    {
     "name": "stderr",
     "output_type": "stream",
     "text": [
      " 64%|██████▍   | 64/100 [09:02<04:42,  7.85s/it]"
     ]
    },
    {
     "name": "stdout",
     "output_type": "stream",
     "text": [
      "response of tagger : {\n",
      "}\n",
      "[]\n",
      " ] Output after the first prompt : []\n",
      " "
     ]
    },
    {
     "name": "stderr",
     "output_type": "stream",
     "text": [
      " 65%|██████▌   | 65/100 [09:09<04:26,  7.61s/it]"
     ]
    },
    {
     "name": "stdout",
     "output_type": "stream",
     "text": [
      "response of tagger : { }\n",
      "[]\n",
      " 'Russia', 'Pakistan', 'India' ] Output after the first prompt : ['Russia', 'Pakistan', 'India']\n",
      "\n",
      "'Russia' : 'E',\n",
      "   'Pakistan' : 'E',\n",
      "   'India' : 'E',"
     ]
    },
    {
     "name": "stderr",
     "output_type": "stream",
     "text": [
      " 66%|██████▌   | 66/100 [09:20<04:49,  8.52s/it]"
     ]
    },
    {
     "name": "stdout",
     "output_type": "stream",
     "text": [
      "response of tagger : {\n",
      "'Russia' : 'E',\n",
      "   'Pakistan' : 'E',\n",
      "   'India' : 'E',}\n",
      "[('Russia', 'GPE'), ('Pakistan', 'GPE'), ('India', 'GPE')]\n",
      " 'this 20 %'] Output after the first prompt : ['this 20 %']\n",
      "\n",
      "'this 20 %' : '7',"
     ]
    },
    {
     "name": "stderr",
     "output_type": "stream",
     "text": [
      " 67%|██████▋   | 67/100 [09:27<04:34,  8.33s/it]"
     ]
    },
    {
     "name": "stdout",
     "output_type": "stream",
     "text": [
      "response of tagger : {\n",
      "'this 20 %' : '7',}\n",
      "[('this 20 %', 'PERCENT')]\n",
      " 'CNN', 'Michael Mosettig' ] Output after the first prompt : ['CNN', 'Michael Mosettig']\n",
      "\n",
      "'CNN' : 'B',\n",
      "   'Michael Mosettig' : '4',"
     ]
    },
    {
     "name": "stderr",
     "output_type": "stream",
     "text": [
      " 68%|██████▊   | 68/100 [09:37<04:42,  8.83s/it]"
     ]
    },
    {
     "name": "stdout",
     "output_type": "stream",
     "text": [
      "response of tagger : {\n",
      "'CNN' : 'B',\n",
      "   'Michael Mosettig' : '4',}\n",
      "[('CNN', 'ORG'), ('Michael Mosettig', 'PERSON')]\n",
      " 'fixed' ] Output after the first prompt : ['fixed']\n",
      "\n",
      "'fixed' : '2',"
     ]
    },
    {
     "name": "stderr",
     "output_type": "stream",
     "text": [
      " 69%|██████▉   | 69/100 [09:44<04:16,  8.29s/it]"
     ]
    },
    {
     "name": "stdout",
     "output_type": "stream",
     "text": [
      "response of tagger : {\n",
      "'fixed' : '2',}\n",
      "[('fixed', 'ORDINAL')]\n",
      "''] Output after the first prompt : ['']\n",
      " "
     ]
    },
    {
     "name": "stderr",
     "output_type": "stream",
     "text": [
      " 70%|███████   | 70/100 [09:52<03:57,  7.93s/it]"
     ]
    },
    {
     "name": "stdout",
     "output_type": "stream",
     "text": [
      "response of tagger : { }\n",
      "[]\n",
      " 'Mr.', 'Lantos', 'HUD' ] Output after the first prompt : ['Mr.', 'Lantos', 'HUD']\n",
      "\n",
      "'Mr.' : '4',\n",
      "   'Lantos' : '4',\n",
      "   'HUD' : 'B',"
     ]
    },
    {
     "name": "stderr",
     "output_type": "stream",
     "text": [
      " 71%|███████   | 71/100 [10:01<04:03,  8.41s/it]"
     ]
    },
    {
     "name": "stdout",
     "output_type": "stream",
     "text": [
      "response of tagger : {\n",
      "'Mr.' : '4',\n",
      "   'Lantos' : '4',\n",
      "   'HUD' : 'B',}\n",
      "[('Mr.', 'PERSON'), ('Lantos', 'PERSON'), ('HUD', 'ORG')]\n",
      " ] Output after the first prompt : []\n",
      " "
     ]
    },
    {
     "name": "stderr",
     "output_type": "stream",
     "text": [
      " 72%|███████▏  | 72/100 [10:08<03:44,  8.02s/it]"
     ]
    },
    {
     "name": "stdout",
     "output_type": "stream",
     "text": [
      "response of tagger : { }\n",
      "[]\n",
      " 'State', 'owned' ] Output after the first prompt : ['State', 'owned']\n",
      "\n",
      "'State' : 'B',\n",
      "   'owned' : 'E',"
     ]
    },
    {
     "name": "stderr",
     "output_type": "stream",
     "text": [
      " 73%|███████▎  | 73/100 [10:16<03:36,  8.01s/it]"
     ]
    },
    {
     "name": "stdout",
     "output_type": "stream",
     "text": [
      "response of tagger : {\n",
      "'State' : 'B',\n",
      "   'owned' : 'E',}\n",
      "[('State', 'ORG'), ('owned', 'GPE')]\n",
      "''] Output after the first prompt : ['']\n",
      " "
     ]
    },
    {
     "name": "stderr",
     "output_type": "stream",
     "text": [
      " 74%|███████▍  | 74/100 [10:24<03:23,  7.81s/it]"
     ]
    },
    {
     "name": "stdout",
     "output_type": "stream",
     "text": [
      "response of tagger : { }\n",
      "[]\n",
      " 'middle' ] Output after the first prompt : ['middle']\n",
      "\n",
      "'middle' : 'A',"
     ]
    },
    {
     "name": "stderr",
     "output_type": "stream",
     "text": [
      " 75%|███████▌  | 75/100 [10:31<03:09,  7.57s/it]"
     ]
    },
    {
     "name": "stdout",
     "output_type": "stream",
     "text": [
      "response of tagger : {\n",
      "'middle' : 'A',}\n",
      "[('middle', 'TIME')]\n",
      " 'gorges', 'mountains' ] Output after the first prompt : ['gorges', 'mountains']\n",
      "\n",
      "'gorges' : 'C',\n",
      "   'mountains' : 'E',"
     ]
    },
    {
     "name": "stderr",
     "output_type": "stream",
     "text": [
      " 76%|███████▌  | 76/100 [10:40<03:17,  8.23s/it]"
     ]
    },
    {
     "name": "stdout",
     "output_type": "stream",
     "text": [
      "response of tagger : {\n",
      "'gorges' : 'C',\n",
      "   'mountains' : 'E',}\n",
      "[('gorges', 'QUANTITY'), ('mountains', 'GPE')]\n",
      " ] Output after the first prompt : []\n",
      " "
     ]
    },
    {
     "name": "stderr",
     "output_type": "stream",
     "text": [
      " 77%|███████▋  | 77/100 [10:46<02:54,  7.59s/it]"
     ]
    },
    {
     "name": "stdout",
     "output_type": "stream",
     "text": [
      "response of tagger : { }\n",
      "[]\n",
      " 'the North Koreans', \"fourth\", \"July\" ] Output after the first prompt : ['the North Koreans', 'fourth', 'July']\n",
      "\n",
      "'the North Koreans' : 'G',\n",
      "   'fourth' : '2',\n",
      "   'July' : '6',"
     ]
    },
    {
     "name": "stderr",
     "output_type": "stream",
     "text": [
      " 78%|███████▊  | 78/100 [10:57<03:04,  8.38s/it]"
     ]
    },
    {
     "name": "stdout",
     "output_type": "stream",
     "text": [
      "response of tagger : {\n",
      "'the North Koreans' : 'G',\n",
      "   'fourth' : '2',\n",
      "   'July' : '6',}\n",
      "[('the North Koreans', 'NORP'), ('fourth', 'ORDINAL'), ('July', 'DATE')]\n",
      " ] Output after the first prompt : []\n",
      " "
     ]
    },
    {
     "name": "stderr",
     "output_type": "stream",
     "text": [
      " 79%|███████▉  | 79/100 [11:03<02:40,  7.65s/it]"
     ]
    },
    {
     "name": "stdout",
     "output_type": "stream",
     "text": [
      "response of tagger : { }\n",
      "[]\n",
      " 'Xinhua', 'Baghdad' ] Output after the first prompt : ['Xinhua', 'Baghdad']\n",
      "\n",
      "'Xinhua' : 'B',\n",
      "   'Baghdad' : 'E',"
     ]
    },
    {
     "name": "stderr",
     "output_type": "stream",
     "text": [
      " 80%|████████  | 80/100 [11:13<02:49,  8.46s/it]"
     ]
    },
    {
     "name": "stdout",
     "output_type": "stream",
     "text": [
      "response of tagger : {\n",
      "'Xinhua' : 'B',\n",
      "   'Baghdad' : 'E',}\n",
      "[('Xinhua', 'ORG'), ('Baghdad', 'GPE')]\n",
      "''] Output after the first prompt : ['']\n",
      " "
     ]
    },
    {
     "name": "stderr",
     "output_type": "stream",
     "text": [
      " 81%|████████  | 81/100 [11:20<02:30,  7.94s/it]"
     ]
    },
    {
     "name": "stdout",
     "output_type": "stream",
     "text": [
      "response of tagger : { }\n",
      "[]\n",
      " 'Islam', 'Sadr City', 'the Mahdi Army'] Output after the first prompt : ['Islam', 'Sadr City', 'the Mahdi Army']\n",
      "\n",
      "'Islam' : 'G',\n",
      "   'Sadr City' : 'E',\n",
      "   'the Mahdi Army' : 'B',"
     ]
    },
    {
     "name": "stderr",
     "output_type": "stream",
     "text": [
      " 82%|████████▏ | 82/100 [11:32<02:45,  9.18s/it]"
     ]
    },
    {
     "name": "stdout",
     "output_type": "stream",
     "text": [
      "response of tagger : {\n",
      "'Islam' : 'G',\n",
      "   'Sadr City' : 'E',\n",
      "   'the Mahdi Army' : 'B',}\n",
      "[('Islam', 'NORP'), ('Sadr City', 'GPE'), ('the Mahdi Army', 'ORG')]\n",
      " 'Ashton', \"Carter\", 'Georgetown', 'Robert Gallucci', 'Governor', 'Bill Richardson'] Output after the first prompt : ['Ashton', 'Carter', 'Georgetown', 'Robert Gallucci', 'Governor', 'Bill Richardson']\n",
      "\n",
      "'Ashton' : '4',\n",
      "   'Carter' : '4',\n",
      "   'Georgetown' : 'B',\n",
      "   'Robert Gallucci' : '4',\n",
      "   'Governor' : '0',\n",
      "   'Bill Richardson' : '4',"
     ]
    },
    {
     "name": "stderr",
     "output_type": "stream",
     "text": [
      " 83%|████████▎ | 83/100 [11:48<03:12, 11.33s/it]"
     ]
    },
    {
     "name": "stdout",
     "output_type": "stream",
     "text": [
      "response of tagger : {\n",
      "'Ashton' : '4',\n",
      "   'Carter' : '4',\n",
      "   'Georgetown' : 'B',\n",
      "   'Robert Gallucci' : '4',\n",
      "   'Governor' : '0',\n",
      "   'Bill Richardson' : '4',}\n",
      "[('Ashton', 'PERSON'), ('Carter', 'PERSON'), ('Georgetown', 'ORG'), ('Robert Gallucci', 'PERSON'), ('Governor', 'FAC'), ('Bill Richardson', 'PERSON')]\n",
      " \"Shandong\", \"over 1480\" ] Output after the first prompt : ['Shandong', 'over 1480']\n",
      "\n",
      "'Shandong' : 'E',\n",
      "   'over 1480' : '9',"
     ]
    },
    {
     "name": "stderr",
     "output_type": "stream",
     "text": [
      " 84%|████████▍ | 84/100 [11:57<02:50, 10.67s/it]"
     ]
    },
    {
     "name": "stdout",
     "output_type": "stream",
     "text": [
      "response of tagger : {\n",
      "'Shandong' : 'E',\n",
      "   'over 1480' : '9',}\n",
      "[('Shandong', 'GPE'), ('over 1480', 'MONEY')]\n",
      " 'Heinemann'] Output after the first prompt : ['Heinemann']\n",
      "\n",
      "'Heinemann' : '4',"
     ]
    },
    {
     "name": "stderr",
     "output_type": "stream",
     "text": [
      " 85%|████████▌ | 85/100 [12:05<02:27,  9.86s/it]"
     ]
    },
    {
     "name": "stdout",
     "output_type": "stream",
     "text": [
      "response of tagger : {\n",
      "'Heinemann' : '4',}\n",
      "[('Heinemann', 'PERSON')]\n",
      " 'Dongguan', '3', '120,000 square meters' ] Output after the first prompt : ['Dongguan', '3', '120,000 square meters']\n",
      "\n",
      "'Dongguan' : 'E',\n",
      "   '3' : 'A',\n",
      "   '120,000 square meters' : 'C',"
     ]
    },
    {
     "name": "stderr",
     "output_type": "stream",
     "text": [
      " 86%|████████▌ | 86/100 [12:17<02:24, 10.35s/it]"
     ]
    },
    {
     "name": "stdout",
     "output_type": "stream",
     "text": [
      "response of tagger : {\n",
      "'Dongguan' : 'E',\n",
      "   '3' : 'A',\n",
      "   '120,000 square meters' : 'C',}\n",
      "[('Dongguan', 'GPE'), ('3', 'TIME'), ('120,000 square meters', 'QUANTITY')]\n",
      " 'Rumsfeld', 'terrorism' ] Output after the first prompt : ['Rumsfeld', 'terrorism']\n",
      "\n",
      "'Rumsfeld' : '4',\n",
      "   'terrorism' : 'A',"
     ]
    },
    {
     "name": "stderr",
     "output_type": "stream",
     "text": [
      " 87%|████████▋ | 87/100 [12:26<02:09,  9.94s/it]"
     ]
    },
    {
     "name": "stdout",
     "output_type": "stream",
     "text": [
      "response of tagger : {\n",
      "'Rumsfeld' : '4',\n",
      "   'terrorism' : 'A',}\n",
      "[('Rumsfeld', 'PERSON'), ('terrorism', 'TIME')]\n",
      " ] Output after the first prompt : []\n",
      " "
     ]
    },
    {
     "name": "stderr",
     "output_type": "stream",
     "text": [
      " 88%|████████▊ | 88/100 [12:32<01:48,  9.01s/it]"
     ]
    },
    {
     "name": "stdout",
     "output_type": "stream",
     "text": [
      "response of tagger : { }\n",
      "[]\n",
      " 'Hong Kong', \"sprawling\", 'airport' ] Output after the first prompt : ['Hong Kong', 'sprawling', 'airport']\n",
      "\n",
      "'Hong Kong' : 'E',\n",
      "   'sprawling' : 'G',"
     ]
    },
    {
     "name": "stderr",
     "output_type": "stream",
     "text": [
      " 89%|████████▉ | 89/100 [12:42<01:39,  9.02s/it]"
     ]
    },
    {
     "name": "stdout",
     "output_type": "stream",
     "text": [
      "response of tagger : {\n",
      "'Hong Kong' : 'E',\n",
      "   'sprawling' : 'G',}\n",
      "[('Hong Kong', 'GPE'), ('sprawling', 'NORP')]\n",
      " 'a', 'month' ] Output after the first prompt : ['a', 'month']\n",
      "\n",
      "'a' : '1',\n",
      "   'month' : '6',"
     ]
    },
    {
     "name": "stderr",
     "output_type": "stream",
     "text": [
      " 90%|█████████ | 90/100 [12:50<01:29,  8.92s/it]"
     ]
    },
    {
     "name": "stdout",
     "output_type": "stream",
     "text": [
      "response of tagger : {\n",
      "'a' : '1',\n",
      "   'month' : '6',}\n",
      "[('a', 'CARDINAL'), ('month', 'DATE')]\n",
      "'''] Output after the first prompt : []\n",
      " "
     ]
    },
    {
     "name": "stderr",
     "output_type": "stream",
     "text": [
      " 91%|█████████ | 91/100 [12:56<01:12,  8.11s/it]"
     ]
    },
    {
     "name": "stdout",
     "output_type": "stream",
     "text": [
      "response of tagger : { }\n",
      "[]\n",
      " \"Moody 's Investors Service Inc.\", '$ 20 million', 'Ba - 3'] Output after the first prompt : [\"Moody 's Investors Service Inc.\", '$ 20 million', 'Ba - 3']\n",
      "\n",
      "'Moody 's Investors Service Inc.' : 'B',\n",
      "   '$ 20 million' : '9',"
     ]
    },
    {
     "name": "stderr",
     "output_type": "stream",
     "text": [
      " 92%|█████████▏| 92/100 [13:08<01:13,  9.22s/it]"
     ]
    },
    {
     "name": "stdout",
     "output_type": "stream",
     "text": [
      "response of tagger : {\n",
      "'Moody 's Investors Service Inc.' : 'B',\n",
      "   '$ 20 million' : '9',}\n",
      "[]\n",
      " 'The entire province', 'nearly 1 billion US dollars', \"a large number\", 'extroverted agricultural \" three capital \"'s enterprises which combine agriculture industry trade and technology and integrate manufacturing supply and marketing' , 'through foreign merchants sales channels' ] Output after the first prompt : []\n",
      "\n",
      "'No entities found in The entire province has actually utilized foreign funds of nearly 1 billion US dollars , and has established a large number of extroverted agricultural \" three capital \" enterprises which combine agriculture , industry , trade and technology and integrate manufacturing , supply and marketing , and through foreign merchants sales channels , it has also expanded its export of agricultural products .' : '0',"
     ]
    },
    {
     "name": "stderr",
     "output_type": "stream",
     "text": [
      " 93%|█████████▎| 93/100 [13:26<01:21, 11.66s/it]"
     ]
    },
    {
     "name": "stdout",
     "output_type": "stream",
     "text": [
      "response of tagger : {\n",
      "'No entities found in The entire province has actually utilized foreign funds of nearly 1 billion US dollars , and has established a large number of extroverted agricultural \" three capital \" enterprises which combine agriculture , industry , trade and technology and integrate manufacturing , supply and marketing , and through foreign merchants sales channels , it has also expanded its export of agricultural products .' : '0',}\n",
      "[('No entities found in The entire province has actually utilized foreign funds of nearly 1 billion US dollars , and has established a large number of extroverted agricultural \" three capital \" enterprises which combine agriculture , industry , trade and technology and integrate manufacturing , supply and marketing , and through foreign merchants sales channels , it has also expanded its export of agricultural products .', 'FAC')]\n",
      " 'He', 'China', 'France' ] Output after the first prompt : ['He', 'China', 'France']\n",
      "\n",
      "'He' : '4',\n",
      "   'China' : 'E',\n",
      "   'France' : 'E',"
     ]
    },
    {
     "name": "stderr",
     "output_type": "stream",
     "text": [
      " 94%|█████████▍| 94/100 [13:36<01:07, 11.27s/it]"
     ]
    },
    {
     "name": "stdout",
     "output_type": "stream",
     "text": [
      "response of tagger : {\n",
      "'He' : '4',\n",
      "   'China' : 'E',\n",
      "   'France' : 'E',}\n",
      "[('He', 'PERSON'), ('China', 'GPE'), ('France', 'GPE')]\n",
      "''Pelswick''] Output after the first prompt : []\n",
      " "
     ]
    },
    {
     "name": "stderr",
     "output_type": "stream",
     "text": [
      " 95%|█████████▌| 95/100 [13:43<00:49,  9.91s/it]"
     ]
    },
    {
     "name": "stdout",
     "output_type": "stream",
     "text": [
      "response of tagger : { }\n",
      "[]\n",
      "Garden City', 'N.Y.', 'Pan Am Corp.' 'Midway Airlines'] Output after the first prompt : []\n",
      " "
     ]
    },
    {
     "name": "stderr",
     "output_type": "stream",
     "text": [
      " 96%|█████████▌| 96/100 [13:53<00:40, 10.02s/it]"
     ]
    },
    {
     "name": "stdout",
     "output_type": "stream",
     "text": [
      "response of tagger : { }\n",
      "[]\n",
      " ] Output after the first prompt : []\n",
      " "
     ]
    },
    {
     "name": "stderr",
     "output_type": "stream",
     "text": [
      " 97%|█████████▋| 97/100 [13:59<00:26,  8.79s/it]"
     ]
    },
    {
     "name": "stdout",
     "output_type": "stream",
     "text": [
      "response of tagger : { }\n",
      "[]\n",
      " 'the Federal Reserve Board' ] Output after the first prompt : ['the Federal Reserve Board']\n",
      "\n",
      "'the Federal Reserve Board' : 'B',"
     ]
    },
    {
     "name": "stderr",
     "output_type": "stream",
     "text": [
      " 98%|█████████▊| 98/100 [14:07<00:17,  8.62s/it]"
     ]
    },
    {
     "name": "stdout",
     "output_type": "stream",
     "text": [
      "response of tagger : {\n",
      "'the Federal Reserve Board' : 'B',}\n",
      "[('the Federal Reserve Board', 'ORG')]\n",
      " ] Output after the first prompt : []\n",
      " "
     ]
    },
    {
     "name": "stderr",
     "output_type": "stream",
     "text": [
      " 99%|█████████▉| 99/100 [14:15<00:08,  8.39s/it]"
     ]
    },
    {
     "name": "stdout",
     "output_type": "stream",
     "text": [
      "response of tagger : { }\n",
      "[]\n",
      " 'Rumsfeld', 'your neighbors' , 'weapons of mass destruction' , 'dictatorship' ] Output after the first prompt : ['Rumsfeld', 'your neighbors', 'weapons of mass destruction', 'dictatorship']\n",
      "\n",
      "'Rumsfeld' : '4',\n",
      "   'your neighbors' : 'B',\n",
      "   'weapons of mass destruction' : '10',\n",
      "   'dictatorship' : '8',"
     ]
    },
    {
     "name": "stderr",
     "output_type": "stream",
     "text": [
      "100%|██████████| 100/100 [14:28<00:00,  8.68s/it]"
     ]
    },
    {
     "name": "stdout",
     "output_type": "stream",
     "text": [
      "response of tagger : {\n",
      "'Rumsfeld' : '4',\n",
      "   'your neighbors' : 'B',\n",
      "   'weapons of mass destruction' : '10',\n",
      "   'dictatorship' : '8',}\n",
      "[('Rumsfeld', 'PERSON'), ('your neighbors', 'ORG'), ('dictatorship', 'PRODUCT')]\n"
     ]
    },
    {
     "name": "stderr",
     "output_type": "stream",
     "text": [
      "\n",
      "/home/ubuntu/.local/lib/python3.10/site-packages/numpy/core/_methods.py:269: RuntimeWarning: Degrees of freedom <= 0 for slice\n",
      "  ret = _var(a, axis=axis, dtype=dtype, out=out, ddof=ddof,\n",
      "/home/ubuntu/.local/lib/python3.10/site-packages/numpy/core/_methods.py:261: RuntimeWarning: invalid value encountered in scalar divide\n",
      "  ret = ret.dtype.type(ret / rcount)\n",
      "/home/ubuntu/.local/lib/python3.10/site-packages/numpy/core/_methods.py:269: RuntimeWarning: Degrees of freedom <= 0 for slice\n",
      "  ret = _var(a, axis=axis, dtype=dtype, out=out, ddof=ddof,\n",
      "/home/ubuntu/.local/lib/python3.10/site-packages/numpy/core/_methods.py:261: RuntimeWarning: invalid value encountered in scalar divide\n",
      "  ret = ret.dtype.type(ret / rcount)\n"
     ]
    },
    {
     "data": {
      "text/html": [
       "<div>\n",
       "<style scoped>\n",
       "    .dataframe tbody tr th:only-of-type {\n",
       "        vertical-align: middle;\n",
       "    }\n",
       "\n",
       "    .dataframe tbody tr th {\n",
       "        vertical-align: top;\n",
       "    }\n",
       "\n",
       "    .dataframe thead th {\n",
       "        text-align: right;\n",
       "    }\n",
       "</style>\n",
       "<table border=\"1\" class=\"dataframe\">\n",
       "  <thead>\n",
       "    <tr style=\"text-align: right;\">\n",
       "      <th></th>\n",
       "      <th>f1_mean</th>\n",
       "      <th>f1_conf_inter</th>\n",
       "      <th>model</th>\n",
       "      <th>noshots</th>\n",
       "      <th>prompt_technique</th>\n",
       "      <th>few_shot_tecnique</th>\n",
       "      <th>nb_few_shots</th>\n",
       "      <th>precision</th>\n",
       "      <th>plus_plus</th>\n",
       "      <th>verifier</th>\n",
       "      <th>len_data_train</th>\n",
       "      <th>len_data_test</th>\n",
       "      <th>nb_test_run</th>\n",
       "      <th>confidence_interval</th>\n",
       "      <th>distribution_used</th>\n",
       "      <th>precision_mean</th>\n",
       "      <th>precision_conf_inter</th>\n",
       "      <th>recall_mean</th>\n",
       "      <th>recall_conf_inter</th>\n",
       "    </tr>\n",
       "  </thead>\n",
       "  <tbody>\n",
       "    <tr>\n",
       "      <th>0</th>\n",
       "      <td>0.236</td>\n",
       "      <td>(0.194, 0.277)</td>\n",
       "      <td>mistral-7b-v0.1</td>\n",
       "      <td>False</td>\n",
       "      <td>discussion</td>\n",
       "      <td>sentence</td>\n",
       "      <td>3</td>\n",
       "      <td>False</td>\n",
       "      <td>False</td>\n",
       "      <td>None</td>\n",
       "      <td>1303</td>\n",
       "      <td>100</td>\n",
       "      <td>3</td>\n",
       "      <td>0.95</td>\n",
       "      <td>Student</td>\n",
       "      <td>0.305</td>\n",
       "      <td>(0.233, 0.376)</td>\n",
       "      <td>0.201</td>\n",
       "      <td>(0.166, 0.236)</td>\n",
       "    </tr>\n",
       "    <tr>\n",
       "      <th>1</th>\n",
       "      <td>0.238</td>\n",
       "      <td>(0.205, 0.271)</td>\n",
       "      <td>mistral-7b-v0.1</td>\n",
       "      <td>False</td>\n",
       "      <td>multi_prompt-get-entities-tagger</td>\n",
       "      <td>sentence</td>\n",
       "      <td>3</td>\n",
       "      <td>False</td>\n",
       "      <td>False</td>\n",
       "      <td>None</td>\n",
       "      <td>1303</td>\n",
       "      <td>100</td>\n",
       "      <td>3</td>\n",
       "      <td>0.95</td>\n",
       "      <td>Student</td>\n",
       "      <td>0.389</td>\n",
       "      <td>(0.356, 0.422)</td>\n",
       "      <td>0.175</td>\n",
       "      <td>(0.147, 0.203)</td>\n",
       "    </tr>\n",
       "  </tbody>\n",
       "</table>\n",
       "</div>"
      ],
      "text/plain": [
       "   f1_mean   f1_conf_inter            model  noshots  \\\n",
       "0    0.236  (0.194, 0.277)  mistral-7b-v0.1    False   \n",
       "1    0.238  (0.205, 0.271)  mistral-7b-v0.1    False   \n",
       "\n",
       "                   prompt_technique few_shot_tecnique  nb_few_shots  \\\n",
       "0                        discussion          sentence             3   \n",
       "1  multi_prompt-get-entities-tagger          sentence             3   \n",
       "\n",
       "   precision  plus_plus verifier  len_data_train  len_data_test  nb_test_run  \\\n",
       "0      False      False     None            1303            100            3   \n",
       "1      False      False     None            1303            100            3   \n",
       "\n",
       "   confidence_interval distribution_used  precision_mean precision_conf_inter  \\\n",
       "0                 0.95           Student           0.305       (0.233, 0.376)   \n",
       "1                 0.95           Student           0.389       (0.356, 0.422)   \n",
       "\n",
       "   recall_mean recall_conf_inter  \n",
       "0        0.201    (0.166, 0.236)  \n",
       "1        0.175    (0.147, 0.203)  "
      ]
     },
     "execution_count": 1,
     "metadata": {},
     "output_type": "execute_result"
    }
   ],
   "source": [
    "# ToDo \n",
    "from llm.LLMModel import *\n",
    "from ner.llm_ner.prompt_techniques.pt_abstract import PromptTechnique\n",
    "from ner.llm_ner.prompt_techniques.pt_discussion import PT_OutputList\n",
    "from ner.llm_ner.prompt_techniques.pt_gpt_ner import PT_GPT_NER\n",
    "from ner.llm_ner.prompt_techniques.pt_wrapper import PT_Wrapper\n",
    "from ner.llm_ner.prompt_techniques.pt_multi_pt import PT_2Time_Tagger\n",
    "from ner.llm_ner.few_shots_techniques import *\n",
    "from ner.llm_ner.prompts import *\n",
    "%reload_ext autoreload\n",
    "%autoreload 2\n",
    "\n",
    "\n",
    "model = MistralAI()\n",
    "plus_plus = False\n",
    "pts = [\n",
    "       # PT_GPT_NER, \n",
    "       PT_OutputList, \n",
    "       # PT_Wrapper, \n",
    "       PT_2Time_Tagger,\n",
    "       # PT_Filing\n",
    "       ]\n",
    "results, results_df = model.classical_test_ontonote5(pts = pts, fsts = [FST_Sentence], nb_few_shots = [3], nb_run_by_test=3, plus_plus= plus_plus, test_size = 100)\n",
    "results_df"
   ]
  },
  {
   "cell_type": "code",
   "execution_count": null,
   "metadata": {},
   "outputs": [
    {
     "name": "stdout",
     "output_type": "stream",
     "text": [
      "0\n",
      "[['the Industrial Development Organization', 'ORG'], ['China', 'GPE'], [\"Northeast Teacher 's University\", 'ORG'], ['the Northeast Asia region', 'LOC'], ['the next twenty years', 'ORG']]\n",
      "[('the Industrial Development Organization', 'ORG'), (\"China 's Northeast Teacher 's University\", 'ORG'), ('Northeast Asia', 'GPE'), ('twenty years', 'DATE')]\n",
      "--------------------------------------------\n",
      "1\n",
      "[['the National Foreign Exchange Management Bureau', 'ORG'], ['China', 'GPE']]\n",
      "[('National Foreign Exchange Management Bureau', 'ORG'), (\"China 's\", 'GPE')]\n",
      "--------------------------------------------\n",
      "2\n",
      "[['Finnish', 'NORP'], ['1 million US dollars', 'MONEY'], ['the Tumen River Development', 'GPE'], ['Sweden', 'GPE'], ['Chinese', 'NORP'], ['Mongolian', 'NORP'], ['Northeast Asian', 'NORP']]\n",
      "[('Finnish government', 'ORG'), ('1 million US dollars', 'MONEY'), ('Tumen River', 'LOC'), ('Sweden', 'ORG'), ('Chinese', 'GPE'), ('Mongolian', 'GPE')]\n",
      "--------------------------------------------\n",
      "3\n",
      "[['one', 'CARDINAL'], ['China', 'GPE'], ['Taiwan', 'GPE']]\n",
      "[('one', 'CARDINAL'), ('China', 'GPE'), ('Taiwan', 'GPE')]\n",
      "--------------------------------------------\n",
      "4\n",
      "[]\n",
      "[]\n",
      "--------------------------------------------\n",
      "5\n",
      "[['Chinese', 'NORP'], ['2/8', 'CARDINAL'], ['the 20 %', 'PERCENT'], ['80 %', 'PERCENT'], ['the 80 %', 'PERCENT'], ['20 %', 'PERCENT']]\n",
      "[('Chinese', 'GPE'), ('2/8', 'PERCENT'), ('20 %', 'PERCENT'), ('80 %', 'PERCENT'), ('80 %', 'PERCENT'), ('20 %', 'PERCENT')]\n",
      "--------------------------------------------\n",
      "6\n",
      "[['China', 'GPE'], ['April of this year', 'DATE']]\n",
      "[('China', 'GPE'), ('April of this year', 'DATE')]\n",
      "--------------------------------------------\n",
      "7\n",
      "[['Galluci', 'PERSON'], ['the North Koreans', 'NORP'], ['American', 'NORP']]\n",
      "[('North Koreans', 'GPE'), ('American', 'GPE')]\n",
      "--------------------------------------------\n",
      "8\n",
      "[['Linpien', 'GPE'], ['Linpien', 'GPE']]\n",
      "[('Linpien', 'GPE'), ('Linpien', 'GPE')]\n",
      "--------------------------------------------\n",
      "9\n",
      "[['General Motors Corp.', 'ORG'], ['U.S.', 'GPE'], ['Canada', 'GPE'], ['as many as five', 'CARDINAL'], ['North American', 'NORP'], ['the mid-1990s', 'DATE']]\n",
      "[('General Motors Corp.', 'ORG'), ('union', 'ORG'), ('U.S.', 'GPE'), ('Canada', 'GPE'), ('five', 'CARDINAL'), ('North American', 'ORG')]\n",
      "--------------------------------------------\n",
      "10\n",
      "[['Glenn Cox', 'PERSON'], ['Phillips Petroleum Co.', 'ORG']]\n",
      "[('Glenn Cox', 'PERSON'), ('Phillips Petroleum Co', 'ORG')]\n",
      "--------------------------------------------\n",
      "11\n",
      "[['US', 'GPE'], ['China', 'GPE'], ['US', 'GPE']]\n",
      "[('US', 'GPE'), ('+already been cheaper', 'MONEY'), ('China', 'GPE'), ('US', 'GPE')]\n",
      "--------------------------------------------\n",
      "12\n",
      "[['Food and Drug Administration', 'ORG'], ['Jeff Nesbit', 'PERSON'], ['Vitarine Pharmaceuticals Inc.', 'ORG'], ['U.S.', 'GPE'], ['Baltimore', 'GPE']]\n",
      "[('Food and Drug Administration', 'ORG'), ('Jeff Nesbit', 'PERSON'), ('Vitarine Pharmaceuticals Inc.', 'ORG'), ('U.S.', 'ORG'), ('Baltimore', 'GPE')]\n",
      "--------------------------------------------\n",
      "13\n",
      "[['the North Koreans', 'NORP']]\n",
      "[('the North Koreans', 'NORP')]\n",
      "--------------------------------------------\n",
      "14\n",
      "[['Zaire', 'GPE'], ['Mobutu', 'PERSON'], ['France', 'GPE'], ['Angolan', 'NORP'], ['Savimbi', 'PERSON'], ['U.S.', 'GPE'], ['Angola', 'GPE']]\n",
      "[(\"Zaire 's President Mobutu\", 'PERSON'), ('France', 'GPE'), ('Angolan rebel leader Savimbi', 'PERSON'), ('U.S.', 'ORG'), (\"Angola 's\", 'GPE')]\n",
      "--------------------------------------------\n",
      "15\n",
      "[['0.9 %', 'PERCENT'], ['0.7 %', 'PERCENT'], ['Gordon Richards', 'PERSON'], ['the National Association of Manufacturers', 'ORG']]\n",
      "[('0.9 %', 'PERCENT'), ('0.7 %', 'PERCENT'), ('National Association of Manufacturers', 'ORG')]\n",
      "--------------------------------------------\n",
      "16\n",
      "[]\n",
      "[]\n",
      "--------------------------------------------\n",
      "17\n",
      "[['Sky Channel', 'ORG'], ['British', 'NORP'], ['Australian - American', 'NORP'], ['Rupert Murdoch', 'PERSON']]\n",
      "[('British', 'GPE'), ('Australian', 'NORP'), ('American', 'NORP'), ('Rupert Murdoch', 'PERSON')]\n",
      "--------------------------------------------\n",
      "18\n",
      "[['Taiwanese', 'NORP'], ['Harbin', 'GPE'], ['Taipei City', 'GPE']]\n",
      "[('Taiwanese', 'GPE'), ('Harbin', 'GPE'), ('Taipei City', 'GPE')]\n",
      "--------------------------------------------\n",
      "19\n",
      "[['8.78 %', 'PERCENT'], ['75', 'CARDINAL'], ['two - year', 'DATE'], ['Treasury', 'ORG'], ['10.05 %', 'PERCENT'], ['200', 'CARDINAL'], ['10 - year', 'DATE'], ['Treasurys', 'ORG']]\n",
      "[('8.78 %', 'PERCENT'), ('75', 'PERCENT'), ('Treasury', 'ORG'), ('10.05 %', 'PERCENT'), ('200', 'PERCENT'), ('Treasury', 'ORG')]\n",
      "--------------------------------------------\n"
     ]
    },
    {
     "data": {
      "image/png": "[encoded data removed]",
      "text/plain": [
       "<Figure size 800x600 with 2 Axes>"
      ]
     },
     "metadata": {},
     "output_type": "display_data"
    }
   ],
   "source": [
    "results[0].res_insts[0].analyse_results()\n",
    "results[0].res_insts[0].show_cm()"
   ]
  },
  {
   "cell_type": "code",
   "execution_count": null,
   "metadata": {},
   "outputs": [],
   "source": []
  },
  {
   "cell_type": "code",
   "execution_count": null,
   "metadata": {},
   "outputs": [],
   "source": [
    "# ToDo \n",
    "from llm.LLMModel import *\n",
    "from ner.llm_ner.prompt_techniques.pt_abstract import PromptTechnique\n",
    "from ner.llm_ner.prompt_techniques.pt_discussion import PT_OutputList\n",
    "from ner.llm_ner.prompt_techniques.pt_gpt_ner import PT_GPT_NER\n",
    "from ner.llm_ner.prompt_techniques.pt_wrapper import PT_Wrapper\n",
    "from ner.llm_ner.few_shots_techniques import *\n",
    "%reload_ext autoreload\n",
    "%autoreload 2\n",
    "\n",
    "model = MistralAI()\n",
    "model.load_finetuned_model(\"discussion\", 10000)\n",
    "\n",
    "results, results_df = model.classical_test(pts = [PT_OutputList], fsts = [FST_Entity, FST_Sentence], nb_run_by_test=4)\n",
    "results_df"
   ]
  },
  {
   "cell_type": "code",
   "execution_count": 7,
   "metadata": {},
   "outputs": [
    {
     "name": "stdout",
     "output_type": "stream",
     "text": [
      "./ner/saves/datasets/ontonote5_test_1403.pkl\n",
      "<ner.Datasets.OntoNotes5Dataset.OntoNote5Dataset object at 0x7f58209d4310>\n"
     ]
    }
   ],
   "source": [
    "train, test = ontonote_get_test_cleaned_split()"
   ]
  },
  {
   "cell_type": "code",
   "execution_count": 9,
   "metadata": {},
   "outputs": [
    {
     "data": {
      "text/plain": [
       "{'CARDINAL': \"China now has an opportunity to put its best foot forward , to send the North Koreans a direct message that these missile tests can not be tolerated and the North Koreans now have to come back to the September nineteenth two thousand five agreement and they 've got to denuclearize give up their nuclear ambitions and abide by the agreement that they made with the rest of us nearly a year ago /.\",\n",
       " 'DATE': \"China now has an opportunity to put its best foot forward , to send the North Koreans a direct message that these missile tests can not be tolerated and the North Koreans now have to come back to the @@September nineteenth two thousand five## agreement and they 've got to denuclearize give up their nuclear ambitions and abide by the agreement that they made with the rest of us @@nearly a year ago## /.\",\n",
       " 'EVENT': \"China now has an opportunity to put its best foot forward , to send the North Koreans a direct message that these missile tests can not be tolerated and the North Koreans now have to come back to the September nineteenth two thousand five agreement and they 've got to denuclearize give up their nuclear ambitions and abide by the agreement that they made with the rest of us nearly a year ago /.\",\n",
       " 'FAC': \"China now has an opportunity to put its best foot forward , to send the North Koreans a direct message that these missile tests can not be tolerated and the North Koreans now have to come back to the September nineteenth two thousand five agreement and they 've got to denuclearize give up their nuclear ambitions and abide by the agreement that they made with the rest of us nearly a year ago /.\",\n",
       " 'GPE': \"@@China## now has an opportunity to put its best foot forward , to send the North Koreans a direct message that these missile tests can not be tolerated and the North Koreans now have to come back to the September nineteenth two thousand five agreement and they 've got to denuclearize give up their nuclear ambitions and abide by the agreement that they made with the rest of us nearly a year ago /.\",\n",
       " 'LANGUAGE': \"China now has an opportunity to put its best foot forward , to send the North Koreans a direct message that these missile tests can not be tolerated and the North Koreans now have to come back to the September nineteenth two thousand five agreement and they 've got to denuclearize give up their nuclear ambitions and abide by the agreement that they made with the rest of us nearly a year ago /.\",\n",
       " 'LAW': \"China now has an opportunity to put its best foot forward , to send the North Koreans a direct message that these missile tests can not be tolerated and the North Koreans now have to come back to the September nineteenth two thousand five agreement and they 've got to denuclearize give up their nuclear ambitions and abide by the agreement that they made with the rest of us nearly a year ago /.\",\n",
       " 'LOC': \"China now has an opportunity to put its best foot forward , to send the North Koreans a direct message that these missile tests can not be tolerated and the North Koreans now have to come back to the September nineteenth two thousand five agreement and they 've got to denuclearize give up their nuclear ambitions and abide by the agreement that they made with the rest of us nearly a year ago /.\",\n",
       " 'MONEY': \"China now has an opportunity to put its best foot forward , to send the North Koreans a direct message that these missile tests can not be tolerated and the North Koreans now have to come back to the September nineteenth two thousand five agreement and they 've got to denuclearize give up their nuclear ambitions and abide by the agreement that they made with the rest of us nearly a year ago /.\",\n",
       " 'NORP': \"China now has an opportunity to put its best foot forward , to send @@the North Koreans## a direct message that these missile tests can not be tolerated and @@the North Koreans## now have to come back to the September nineteenth two thousand five agreement and they 've got to denuclearize give up their nuclear ambitions and abide by the agreement that they made with the rest of us nearly a year ago /.\",\n",
       " 'ORDINAL': \"China now has an opportunity to put its best foot forward , to send the North Koreans a direct message that these missile tests can not be tolerated and the North Koreans now have to come back to the September nineteenth two thousand five agreement and they 've got to denuclearize give up their nuclear ambitions and abide by the agreement that they made with the rest of us nearly a year ago /.\",\n",
       " 'ORG': \"China now has an opportunity to put its best foot forward , to send the North Koreans a direct message that these missile tests can not be tolerated and the North Koreans now have to come back to the September nineteenth two thousand five agreement and they 've got to denuclearize give up their nuclear ambitions and abide by the agreement that they made with the rest of us nearly a year ago /.\",\n",
       " 'PERCENT': \"China now has an opportunity to put its best foot forward , to send the North Koreans a direct message that these missile tests can not be tolerated and the North Koreans now have to come back to the September nineteenth two thousand five agreement and they 've got to denuclearize give up their nuclear ambitions and abide by the agreement that they made with the rest of us nearly a year ago /.\",\n",
       " 'PERSON': \"China now has an opportunity to put its best foot forward , to send the North Koreans a direct message that these missile tests can not be tolerated and the North Koreans now have to come back to the September nineteenth two thousand five agreement and they 've got to denuclearize give up their nuclear ambitions and abide by the agreement that they made with the rest of us nearly a year ago /.\",\n",
       " 'PRODUCT': \"China now has an opportunity to put its best foot forward , to send the North Koreans a direct message that these missile tests can not be tolerated and the North Koreans now have to come back to the September nineteenth two thousand five agreement and they 've got to denuclearize give up their nuclear ambitions and abide by the agreement that they made with the rest of us nearly a year ago /.\",\n",
       " 'QUANTITY': \"China now has an opportunity to put its best foot forward , to send the North Koreans a direct message that these missile tests can not be tolerated and the North Koreans now have to come back to the September nineteenth two thousand five agreement and they 've got to denuclearize give up their nuclear ambitions and abide by the agreement that they made with the rest of us nearly a year ago /.\",\n",
       " 'TIME': \"China now has an opportunity to put its best foot forward , to send the North Koreans a direct message that these missile tests can not be tolerated and the North Koreans now have to come back to the September nineteenth two thousand five agreement and they 've got to denuclearize give up their nuclear ambitions and abide by the agreement that they made with the rest of us nearly a year ago /.\",\n",
       " 'WORK_OF_ART': \"China now has an opportunity to put its best foot forward , to send the North Koreans a direct message that these missile tests can not be tolerated and the North Koreans now have to come back to the September nineteenth two thousand five agreement and they 've got to denuclearize give up their nuclear ambitions and abide by the agreement that they made with the rest of us nearly a year ago /.\"}"
      ]
     },
     "execution_count": 9,
     "metadata": {},
     "output_type": "execute_result"
    }
   ],
   "source": [
    "test[0]['llama_text']"
   ]
  },
  {
   "cell_type": "code",
   "execution_count": null,
   "metadata": {},
   "outputs": [],
   "source": []
  }
 ],
 "metadata": {
  "kernelspec": {
   "display_name": "Python 3",
   "language": "python",
   "name": "python3"
  },
  "language_info": {
   "codemirror_mode": {
    "name": "ipython",
    "version": 3
   },
   "file_extension": ".py",
   "mimetype": "text/x-python",
   "name": "python",
   "nbconvert_exporter": "python",
   "pygments_lexer": "ipython3",
   "version": "3.10.12"
  }
 },
 "nbformat": 4,
 "nbformat_minor": 2
}
