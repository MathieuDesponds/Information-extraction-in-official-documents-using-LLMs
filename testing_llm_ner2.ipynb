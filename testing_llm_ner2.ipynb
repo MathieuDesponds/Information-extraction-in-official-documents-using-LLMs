{
 "cells": [
  {
   "cell_type": "code",
   "execution_count": 1,
   "metadata": {},
   "outputs": [
    {
     "name": "stderr",
     "output_type": "stream",
     "text": [
      "[nltk_data] Downloading package stopwords to /home/ubuntu/nltk_data...\n",
      "[nltk_data]   Package stopwords is already up-to-date!\n",
      "Some weights of the model checkpoint at dslim/bert-base-NER were not used when initializing BertForTokenClassification: ['bert.pooler.dense.weight', 'bert.pooler.dense.bias']\n",
      "- This IS expected if you are initializing BertForTokenClassification from the checkpoint of a model trained on another task or with another architecture (e.g. initializing a BertForSequenceClassification model from a BertForPreTraining model).\n",
      "- This IS NOT expected if you are initializing BertForTokenClassification from the checkpoint of a model that you expect to be exactly identical (initializing a BertForSequenceClassification model from a BertForSequenceClassification model).\n",
      "[nltk_data] Downloading package punkt to /home/ubuntu/nltk_data...\n",
      "[nltk_data]   Package punkt is already up-to-date!\n",
      "[nltk_data] Downloading package averaged_perceptron_tagger to\n",
      "[nltk_data]     /home/ubuntu/nltk_data...\n",
      "[nltk_data]   Package averaged_perceptron_tagger is already up-to-\n",
      "[nltk_data]       date!\n",
      "ggml_init_cublas: found 1 CUDA devices:\n",
      "  Device 0: NVIDIA A40, compute capability 8.6\n",
      "llama_model_loader: loaded meta data with 20 key-value pairs and 291 tensors from llm/models/mistral-7b-v0.1/mistral-7b-v0.1.Q5_0.gguf (version GGUF V2 (latest))\n",
      "llama_model_loader: - tensor    0:                token_embd.weight q5_0     [  4096, 32000,     1,     1 ]\n",
      "llama_model_loader: - tensor    1:              blk.0.attn_q.weight q5_0     [  4096,  4096,     1,     1 ]\n",
      "llama_model_loader: - tensor    2:              blk.0.attn_k.weight q5_0     [  4096,  1024,     1,     1 ]\n",
      "llama_model_loader: - tensor    3:              blk.0.attn_v.weight q5_0     [  4096,  1024,     1,     1 ]\n",
      "llama_model_loader: - tensor    4:         blk.0.attn_output.weight q5_0     [  4096,  4096,     1,     1 ]\n",
      "llama_model_loader: - tensor    5:            blk.0.ffn_gate.weight q5_0     [  4096, 14336,     1,     1 ]\n",
      "llama_model_loader: - tensor    6:              blk.0.ffn_up.weight q5_0     [  4096, 14336,     1,     1 ]\n",
      "llama_model_loader: - tensor    7:            blk.0.ffn_down.weight q5_0     [ 14336,  4096,     1,     1 ]\n",
      "llama_model_loader: - tensor    8:           blk.0.attn_norm.weight f32      [  4096,     1,     1,     1 ]\n",
      "llama_model_loader: - tensor    9:            blk.0.ffn_norm.weight f32      [  4096,     1,     1,     1 ]\n",
      "llama_model_loader: - tensor   10:              blk.1.attn_q.weight q5_0     [  4096,  4096,     1,     1 ]\n",
      "llama_model_loader: - tensor   11:              blk.1.attn_k.weight q5_0     [  4096,  1024,     1,     1 ]\n",
      "llama_model_loader: - tensor   12:              blk.1.attn_v.weight q5_0     [  4096,  1024,     1,     1 ]\n",
      "llama_model_loader: - tensor   13:         blk.1.attn_output.weight q5_0     [  4096,  4096,     1,     1 ]\n",
      "llama_model_loader: - tensor   14:            blk.1.ffn_gate.weight q5_0     [  4096, 14336,     1,     1 ]\n",
      "llama_model_loader: - tensor   15:              blk.1.ffn_up.weight q5_0     [  4096, 14336,     1,     1 ]\n",
      "llama_model_loader: - tensor   16:            blk.1.ffn_down.weight q5_0     [ 14336,  4096,     1,     1 ]\n",
      "llama_model_loader: - tensor   17:           blk.1.attn_norm.weight f32      [  4096,     1,     1,     1 ]\n",
      "llama_model_loader: - tensor   18:            blk.1.ffn_norm.weight f32      [  4096,     1,     1,     1 ]\n",
      "llama_model_loader: - tensor   19:              blk.2.attn_q.weight q5_0     [  4096,  4096,     1,     1 ]\n",
      "llama_model_loader: - tensor   20:              blk.2.attn_k.weight q5_0     [  4096,  1024,     1,     1 ]\n",
      "llama_model_loader: - tensor   21:              blk.2.attn_v.weight q5_0     [  4096,  1024,     1,     1 ]\n",
      "llama_model_loader: - tensor   22:         blk.2.attn_output.weight q5_0     [  4096,  4096,     1,     1 ]\n",
      "llama_model_loader: - tensor   23:            blk.2.ffn_gate.weight q5_0     [  4096, 14336,     1,     1 ]\n",
      "llama_model_loader: - tensor   24:              blk.2.ffn_up.weight q5_0     [  4096, 14336,     1,     1 ]\n",
      "llama_model_loader: - tensor   25:            blk.2.ffn_down.weight q5_0     [ 14336,  4096,     1,     1 ]\n",
      "llama_model_loader: - tensor   26:           blk.2.attn_norm.weight f32      [  4096,     1,     1,     1 ]\n",
      "llama_model_loader: - tensor   27:            blk.2.ffn_norm.weight f32      [  4096,     1,     1,     1 ]\n",
      "llama_model_loader: - tensor   28:              blk.3.attn_q.weight q5_0     [  4096,  4096,     1,     1 ]\n",
      "llama_model_loader: - tensor   29:              blk.3.attn_k.weight q5_0     [  4096,  1024,     1,     1 ]\n",
      "llama_model_loader: - tensor   30:              blk.3.attn_v.weight q5_0     [  4096,  1024,     1,     1 ]\n",
      "llama_model_loader: - tensor   31:         blk.3.attn_output.weight q5_0     [  4096,  4096,     1,     1 ]\n",
      "llama_model_loader: - tensor   32:            blk.3.ffn_gate.weight q5_0     [  4096, 14336,     1,     1 ]\n",
      "llama_model_loader: - tensor   33:              blk.3.ffn_up.weight q5_0     [  4096, 14336,     1,     1 ]\n",
      "llama_model_loader: - tensor   34:            blk.3.ffn_down.weight q5_0     [ 14336,  4096,     1,     1 ]\n",
      "llama_model_loader: - tensor   35:           blk.3.attn_norm.weight f32      [  4096,     1,     1,     1 ]\n",
      "llama_model_loader: - tensor   36:            blk.3.ffn_norm.weight f32      [  4096,     1,     1,     1 ]\n",
      "llama_model_loader: - tensor   37:              blk.4.attn_q.weight q5_0     [  4096,  4096,     1,     1 ]\n",
      "llama_model_loader: - tensor   38:              blk.4.attn_k.weight q5_0     [  4096,  1024,     1,     1 ]\n",
      "llama_model_loader: - tensor   39:              blk.4.attn_v.weight q5_0     [  4096,  1024,     1,     1 ]\n",
      "llama_model_loader: - tensor   40:         blk.4.attn_output.weight q5_0     [  4096,  4096,     1,     1 ]\n",
      "llama_model_loader: - tensor   41:            blk.4.ffn_gate.weight q5_0     [  4096, 14336,     1,     1 ]\n",
      "llama_model_loader: - tensor   42:              blk.4.ffn_up.weight q5_0     [  4096, 14336,     1,     1 ]\n",
      "llama_model_loader: - tensor   43:            blk.4.ffn_down.weight q5_0     [ 14336,  4096,     1,     1 ]\n",
      "llama_model_loader: - tensor   44:           blk.4.attn_norm.weight f32      [  4096,     1,     1,     1 ]\n",
      "llama_model_loader: - tensor   45:            blk.4.ffn_norm.weight f32      [  4096,     1,     1,     1 ]\n",
      "llama_model_loader: - tensor   46:              blk.5.attn_q.weight q5_0     [  4096,  4096,     1,     1 ]\n",
      "llama_model_loader: - tensor   47:              blk.5.attn_k.weight q5_0     [  4096,  1024,     1,     1 ]\n",
      "llama_model_loader: - tensor   48:              blk.5.attn_v.weight q5_0     [  4096,  1024,     1,     1 ]\n",
      "llama_model_loader: - tensor   49:         blk.5.attn_output.weight q5_0     [  4096,  4096,     1,     1 ]\n",
      "llama_model_loader: - tensor   50:            blk.5.ffn_gate.weight q5_0     [  4096, 14336,     1,     1 ]\n",
      "llama_model_loader: - tensor   51:              blk.5.ffn_up.weight q5_0     [  4096, 14336,     1,     1 ]\n",
      "llama_model_loader: - tensor   52:            blk.5.ffn_down.weight q5_0     [ 14336,  4096,     1,     1 ]\n",
      "llama_model_loader: - tensor   53:           blk.5.attn_norm.weight f32      [  4096,     1,     1,     1 ]\n",
      "llama_model_loader: - tensor   54:            blk.5.ffn_norm.weight f32      [  4096,     1,     1,     1 ]\n",
      "llama_model_loader: - tensor   55:              blk.6.attn_q.weight q5_0     [  4096,  4096,     1,     1 ]\n",
      "llama_model_loader: - tensor   56:              blk.6.attn_k.weight q5_0     [  4096,  1024,     1,     1 ]\n",
      "llama_model_loader: - tensor   57:              blk.6.attn_v.weight q5_0     [  4096,  1024,     1,     1 ]\n",
      "llama_model_loader: - tensor   58:         blk.6.attn_output.weight q5_0     [  4096,  4096,     1,     1 ]\n",
      "llama_model_loader: - tensor   59:            blk.6.ffn_gate.weight q5_0     [  4096, 14336,     1,     1 ]\n",
      "llama_model_loader: - tensor   60:              blk.6.ffn_up.weight q5_0     [  4096, 14336,     1,     1 ]\n",
      "llama_model_loader: - tensor   61:            blk.6.ffn_down.weight q5_0     [ 14336,  4096,     1,     1 ]\n",
      "llama_model_loader: - tensor   62:           blk.6.attn_norm.weight f32      [  4096,     1,     1,     1 ]\n",
      "llama_model_loader: - tensor   63:            blk.6.ffn_norm.weight f32      [  4096,     1,     1,     1 ]\n",
      "llama_model_loader: - tensor   64:              blk.7.attn_q.weight q5_0     [  4096,  4096,     1,     1 ]\n",
      "llama_model_loader: - tensor   65:              blk.7.attn_k.weight q5_0     [  4096,  1024,     1,     1 ]\n",
      "llama_model_loader: - tensor   66:              blk.7.attn_v.weight q5_0     [  4096,  1024,     1,     1 ]\n",
      "llama_model_loader: - tensor   67:         blk.7.attn_output.weight q5_0     [  4096,  4096,     1,     1 ]\n",
      "llama_model_loader: - tensor   68:            blk.7.ffn_gate.weight q5_0     [  4096, 14336,     1,     1 ]\n",
      "llama_model_loader: - tensor   69:              blk.7.ffn_up.weight q5_0     [  4096, 14336,     1,     1 ]\n",
      "llama_model_loader: - tensor   70:            blk.7.ffn_down.weight q5_0     [ 14336,  4096,     1,     1 ]\n",
      "llama_model_loader: - tensor   71:           blk.7.attn_norm.weight f32      [  4096,     1,     1,     1 ]\n",
      "llama_model_loader: - tensor   72:            blk.7.ffn_norm.weight f32      [  4096,     1,     1,     1 ]\n",
      "llama_model_loader: - tensor   73:              blk.8.attn_q.weight q5_0     [  4096,  4096,     1,     1 ]\n",
      "llama_model_loader: - tensor   74:              blk.8.attn_k.weight q5_0     [  4096,  1024,     1,     1 ]\n",
      "llama_model_loader: - tensor   75:              blk.8.attn_v.weight q5_0     [  4096,  1024,     1,     1 ]\n",
      "llama_model_loader: - tensor   76:         blk.8.attn_output.weight q5_0     [  4096,  4096,     1,     1 ]\n",
      "llama_model_loader: - tensor   77:            blk.8.ffn_gate.weight q5_0     [  4096, 14336,     1,     1 ]\n",
      "llama_model_loader: - tensor   78:              blk.8.ffn_up.weight q5_0     [  4096, 14336,     1,     1 ]\n",
      "llama_model_loader: - tensor   79:            blk.8.ffn_down.weight q5_0     [ 14336,  4096,     1,     1 ]\n",
      "llama_model_loader: - tensor   80:           blk.8.attn_norm.weight f32      [  4096,     1,     1,     1 ]\n",
      "llama_model_loader: - tensor   81:            blk.8.ffn_norm.weight f32      [  4096,     1,     1,     1 ]\n",
      "llama_model_loader: - tensor   82:              blk.9.attn_q.weight q5_0     [  4096,  4096,     1,     1 ]\n",
      "llama_model_loader: - tensor   83:              blk.9.attn_k.weight q5_0     [  4096,  1024,     1,     1 ]\n",
      "llama_model_loader: - tensor   84:              blk.9.attn_v.weight q5_0     [  4096,  1024,     1,     1 ]\n",
      "llama_model_loader: - tensor   85:         blk.9.attn_output.weight q5_0     [  4096,  4096,     1,     1 ]\n",
      "llama_model_loader: - tensor   86:            blk.9.ffn_gate.weight q5_0     [  4096, 14336,     1,     1 ]\n",
      "llama_model_loader: - tensor   87:              blk.9.ffn_up.weight q5_0     [  4096, 14336,     1,     1 ]\n",
      "llama_model_loader: - tensor   88:            blk.9.ffn_down.weight q5_0     [ 14336,  4096,     1,     1 ]\n",
      "llama_model_loader: - tensor   89:           blk.9.attn_norm.weight f32      [  4096,     1,     1,     1 ]\n",
      "llama_model_loader: - tensor   90:            blk.9.ffn_norm.weight f32      [  4096,     1,     1,     1 ]\n",
      "llama_model_loader: - tensor   91:             blk.10.attn_q.weight q5_0     [  4096,  4096,     1,     1 ]\n",
      "llama_model_loader: - tensor   92:             blk.10.attn_k.weight q5_0     [  4096,  1024,     1,     1 ]\n",
      "llama_model_loader: - tensor   93:             blk.10.attn_v.weight q5_0     [  4096,  1024,     1,     1 ]\n",
      "llama_model_loader: - tensor   94:        blk.10.attn_output.weight q5_0     [  4096,  4096,     1,     1 ]\n",
      "llama_model_loader: - tensor   95:           blk.10.ffn_gate.weight q5_0     [  4096, 14336,     1,     1 ]\n",
      "llama_model_loader: - tensor   96:             blk.10.ffn_up.weight q5_0     [  4096, 14336,     1,     1 ]\n",
      "llama_model_loader: - tensor   97:           blk.10.ffn_down.weight q5_0     [ 14336,  4096,     1,     1 ]\n",
      "llama_model_loader: - tensor   98:          blk.10.attn_norm.weight f32      [  4096,     1,     1,     1 ]\n",
      "llama_model_loader: - tensor   99:           blk.10.ffn_norm.weight f32      [  4096,     1,     1,     1 ]\n",
      "llama_model_loader: - tensor  100:             blk.11.attn_q.weight q5_0     [  4096,  4096,     1,     1 ]\n",
      "llama_model_loader: - tensor  101:             blk.11.attn_k.weight q5_0     [  4096,  1024,     1,     1 ]\n",
      "llama_model_loader: - tensor  102:             blk.11.attn_v.weight q5_0     [  4096,  1024,     1,     1 ]\n",
      "llama_model_loader: - tensor  103:        blk.11.attn_output.weight q5_0     [  4096,  4096,     1,     1 ]\n",
      "llama_model_loader: - tensor  104:           blk.11.ffn_gate.weight q5_0     [  4096, 14336,     1,     1 ]\n",
      "llama_model_loader: - tensor  105:             blk.11.ffn_up.weight q5_0     [  4096, 14336,     1,     1 ]\n",
      "llama_model_loader: - tensor  106:           blk.11.ffn_down.weight q5_0     [ 14336,  4096,     1,     1 ]\n",
      "llama_model_loader: - tensor  107:          blk.11.attn_norm.weight f32      [  4096,     1,     1,     1 ]\n",
      "llama_model_loader: - tensor  108:           blk.11.ffn_norm.weight f32      [  4096,     1,     1,     1 ]\n",
      "llama_model_loader: - tensor  109:             blk.12.attn_q.weight q5_0     [  4096,  4096,     1,     1 ]\n",
      "llama_model_loader: - tensor  110:             blk.12.attn_k.weight q5_0     [  4096,  1024,     1,     1 ]\n",
      "llama_model_loader: - tensor  111:             blk.12.attn_v.weight q5_0     [  4096,  1024,     1,     1 ]\n",
      "llama_model_loader: - tensor  112:        blk.12.attn_output.weight q5_0     [  4096,  4096,     1,     1 ]\n",
      "llama_model_loader: - tensor  113:           blk.12.ffn_gate.weight q5_0     [  4096, 14336,     1,     1 ]\n",
      "llama_model_loader: - tensor  114:             blk.12.ffn_up.weight q5_0     [  4096, 14336,     1,     1 ]\n",
      "llama_model_loader: - tensor  115:           blk.12.ffn_down.weight q5_0     [ 14336,  4096,     1,     1 ]\n",
      "llama_model_loader: - tensor  116:          blk.12.attn_norm.weight f32      [  4096,     1,     1,     1 ]\n",
      "llama_model_loader: - tensor  117:           blk.12.ffn_norm.weight f32      [  4096,     1,     1,     1 ]\n",
      "llama_model_loader: - tensor  118:             blk.13.attn_q.weight q5_0     [  4096,  4096,     1,     1 ]\n",
      "llama_model_loader: - tensor  119:             blk.13.attn_k.weight q5_0     [  4096,  1024,     1,     1 ]\n",
      "llama_model_loader: - tensor  120:             blk.13.attn_v.weight q5_0     [  4096,  1024,     1,     1 ]\n",
      "llama_model_loader: - tensor  121:        blk.13.attn_output.weight q5_0     [  4096,  4096,     1,     1 ]\n",
      "llama_model_loader: - tensor  122:           blk.13.ffn_gate.weight q5_0     [  4096, 14336,     1,     1 ]\n",
      "llama_model_loader: - tensor  123:             blk.13.ffn_up.weight q5_0     [  4096, 14336,     1,     1 ]\n",
      "llama_model_loader: - tensor  124:           blk.13.ffn_down.weight q5_0     [ 14336,  4096,     1,     1 ]\n",
      "llama_model_loader: - tensor  125:          blk.13.attn_norm.weight f32      [  4096,     1,     1,     1 ]\n",
      "llama_model_loader: - tensor  126:           blk.13.ffn_norm.weight f32      [  4096,     1,     1,     1 ]\n",
      "llama_model_loader: - tensor  127:             blk.14.attn_q.weight q5_0     [  4096,  4096,     1,     1 ]\n",
      "llama_model_loader: - tensor  128:             blk.14.attn_k.weight q5_0     [  4096,  1024,     1,     1 ]\n",
      "llama_model_loader: - tensor  129:             blk.14.attn_v.weight q5_0     [  4096,  1024,     1,     1 ]\n",
      "llama_model_loader: - tensor  130:        blk.14.attn_output.weight q5_0     [  4096,  4096,     1,     1 ]\n",
      "llama_model_loader: - tensor  131:           blk.14.ffn_gate.weight q5_0     [  4096, 14336,     1,     1 ]\n",
      "llama_model_loader: - tensor  132:             blk.14.ffn_up.weight q5_0     [  4096, 14336,     1,     1 ]\n",
      "llama_model_loader: - tensor  133:           blk.14.ffn_down.weight q5_0     [ 14336,  4096,     1,     1 ]\n",
      "llama_model_loader: - tensor  134:          blk.14.attn_norm.weight f32      [  4096,     1,     1,     1 ]\n",
      "llama_model_loader: - tensor  135:           blk.14.ffn_norm.weight f32      [  4096,     1,     1,     1 ]\n",
      "llama_model_loader: - tensor  136:             blk.15.attn_q.weight q5_0     [  4096,  4096,     1,     1 ]\n",
      "llama_model_loader: - tensor  137:             blk.15.attn_k.weight q5_0     [  4096,  1024,     1,     1 ]\n",
      "llama_model_loader: - tensor  138:             blk.15.attn_v.weight q5_0     [  4096,  1024,     1,     1 ]\n",
      "llama_model_loader: - tensor  139:        blk.15.attn_output.weight q5_0     [  4096,  4096,     1,     1 ]\n",
      "llama_model_loader: - tensor  140:           blk.15.ffn_gate.weight q5_0     [  4096, 14336,     1,     1 ]\n",
      "llama_model_loader: - tensor  141:             blk.15.ffn_up.weight q5_0     [  4096, 14336,     1,     1 ]\n",
      "llama_model_loader: - tensor  142:           blk.15.ffn_down.weight q5_0     [ 14336,  4096,     1,     1 ]\n",
      "llama_model_loader: - tensor  143:          blk.15.attn_norm.weight f32      [  4096,     1,     1,     1 ]\n",
      "llama_model_loader: - tensor  144:           blk.15.ffn_norm.weight f32      [  4096,     1,     1,     1 ]\n",
      "llama_model_loader: - tensor  145:             blk.16.attn_q.weight q5_0     [  4096,  4096,     1,     1 ]\n",
      "llama_model_loader: - tensor  146:             blk.16.attn_k.weight q5_0     [  4096,  1024,     1,     1 ]\n",
      "llama_model_loader: - tensor  147:             blk.16.attn_v.weight q5_0     [  4096,  1024,     1,     1 ]\n",
      "llama_model_loader: - tensor  148:        blk.16.attn_output.weight q5_0     [  4096,  4096,     1,     1 ]\n",
      "llama_model_loader: - tensor  149:           blk.16.ffn_gate.weight q5_0     [  4096, 14336,     1,     1 ]\n",
      "llama_model_loader: - tensor  150:             blk.16.ffn_up.weight q5_0     [  4096, 14336,     1,     1 ]\n",
      "llama_model_loader: - tensor  151:           blk.16.ffn_down.weight q5_0     [ 14336,  4096,     1,     1 ]\n",
      "llama_model_loader: - tensor  152:          blk.16.attn_norm.weight f32      [  4096,     1,     1,     1 ]\n",
      "llama_model_loader: - tensor  153:           blk.16.ffn_norm.weight f32      [  4096,     1,     1,     1 ]\n",
      "llama_model_loader: - tensor  154:             blk.17.attn_q.weight q5_0     [  4096,  4096,     1,     1 ]\n",
      "llama_model_loader: - tensor  155:             blk.17.attn_k.weight q5_0     [  4096,  1024,     1,     1 ]\n",
      "llama_model_loader: - tensor  156:             blk.17.attn_v.weight q5_0     [  4096,  1024,     1,     1 ]\n",
      "llama_model_loader: - tensor  157:        blk.17.attn_output.weight q5_0     [  4096,  4096,     1,     1 ]\n",
      "llama_model_loader: - tensor  158:           blk.17.ffn_gate.weight q5_0     [  4096, 14336,     1,     1 ]\n",
      "llama_model_loader: - tensor  159:             blk.17.ffn_up.weight q5_0     [  4096, 14336,     1,     1 ]\n",
      "llama_model_loader: - tensor  160:           blk.17.ffn_down.weight q5_0     [ 14336,  4096,     1,     1 ]\n",
      "llama_model_loader: - tensor  161:          blk.17.attn_norm.weight f32      [  4096,     1,     1,     1 ]\n",
      "llama_model_loader: - tensor  162:           blk.17.ffn_norm.weight f32      [  4096,     1,     1,     1 ]\n",
      "llama_model_loader: - tensor  163:             blk.18.attn_q.weight q5_0     [  4096,  4096,     1,     1 ]\n",
      "llama_model_loader: - tensor  164:             blk.18.attn_k.weight q5_0     [  4096,  1024,     1,     1 ]\n",
      "llama_model_loader: - tensor  165:             blk.18.attn_v.weight q5_0     [  4096,  1024,     1,     1 ]\n",
      "llama_model_loader: - tensor  166:        blk.18.attn_output.weight q5_0     [  4096,  4096,     1,     1 ]\n",
      "llama_model_loader: - tensor  167:           blk.18.ffn_gate.weight q5_0     [  4096, 14336,     1,     1 ]\n",
      "llama_model_loader: - tensor  168:             blk.18.ffn_up.weight q5_0     [  4096, 14336,     1,     1 ]\n",
      "llama_model_loader: - tensor  169:           blk.18.ffn_down.weight q5_0     [ 14336,  4096,     1,     1 ]\n",
      "llama_model_loader: - tensor  170:          blk.18.attn_norm.weight f32      [  4096,     1,     1,     1 ]\n",
      "llama_model_loader: - tensor  171:           blk.18.ffn_norm.weight f32      [  4096,     1,     1,     1 ]\n",
      "llama_model_loader: - tensor  172:             blk.19.attn_q.weight q5_0     [  4096,  4096,     1,     1 ]\n",
      "llama_model_loader: - tensor  173:             blk.19.attn_k.weight q5_0     [  4096,  1024,     1,     1 ]\n",
      "llama_model_loader: - tensor  174:             blk.19.attn_v.weight q5_0     [  4096,  1024,     1,     1 ]\n",
      "llama_model_loader: - tensor  175:        blk.19.attn_output.weight q5_0     [  4096,  4096,     1,     1 ]\n",
      "llama_model_loader: - tensor  176:           blk.19.ffn_gate.weight q5_0     [  4096, 14336,     1,     1 ]\n",
      "llama_model_loader: - tensor  177:             blk.19.ffn_up.weight q5_0     [  4096, 14336,     1,     1 ]\n",
      "llama_model_loader: - tensor  178:           blk.19.ffn_down.weight q5_0     [ 14336,  4096,     1,     1 ]\n",
      "llama_model_loader: - tensor  179:          blk.19.attn_norm.weight f32      [  4096,     1,     1,     1 ]\n",
      "llama_model_loader: - tensor  180:           blk.19.ffn_norm.weight f32      [  4096,     1,     1,     1 ]\n",
      "llama_model_loader: - tensor  181:             blk.20.attn_q.weight q5_0     [  4096,  4096,     1,     1 ]\n",
      "llama_model_loader: - tensor  182:             blk.20.attn_k.weight q5_0     [  4096,  1024,     1,     1 ]\n",
      "llama_model_loader: - tensor  183:             blk.20.attn_v.weight q5_0     [  4096,  1024,     1,     1 ]\n",
      "llama_model_loader: - tensor  184:        blk.20.attn_output.weight q5_0     [  4096,  4096,     1,     1 ]\n",
      "llama_model_loader: - tensor  185:           blk.20.ffn_gate.weight q5_0     [  4096, 14336,     1,     1 ]\n",
      "llama_model_loader: - tensor  186:             blk.20.ffn_up.weight q5_0     [  4096, 14336,     1,     1 ]\n",
      "llama_model_loader: - tensor  187:           blk.20.ffn_down.weight q5_0     [ 14336,  4096,     1,     1 ]\n",
      "llama_model_loader: - tensor  188:          blk.20.attn_norm.weight f32      [  4096,     1,     1,     1 ]\n",
      "llama_model_loader: - tensor  189:           blk.20.ffn_norm.weight f32      [  4096,     1,     1,     1 ]\n",
      "llama_model_loader: - tensor  190:             blk.21.attn_q.weight q5_0     [  4096,  4096,     1,     1 ]\n",
      "llama_model_loader: - tensor  191:             blk.21.attn_k.weight q5_0     [  4096,  1024,     1,     1 ]\n",
      "llama_model_loader: - tensor  192:             blk.21.attn_v.weight q5_0     [  4096,  1024,     1,     1 ]\n",
      "llama_model_loader: - tensor  193:        blk.21.attn_output.weight q5_0     [  4096,  4096,     1,     1 ]\n",
      "llama_model_loader: - tensor  194:           blk.21.ffn_gate.weight q5_0     [  4096, 14336,     1,     1 ]\n",
      "llama_model_loader: - tensor  195:             blk.21.ffn_up.weight q5_0     [  4096, 14336,     1,     1 ]\n",
      "llama_model_loader: - tensor  196:           blk.21.ffn_down.weight q5_0     [ 14336,  4096,     1,     1 ]\n",
      "llama_model_loader: - tensor  197:          blk.21.attn_norm.weight f32      [  4096,     1,     1,     1 ]\n",
      "llama_model_loader: - tensor  198:           blk.21.ffn_norm.weight f32      [  4096,     1,     1,     1 ]\n",
      "llama_model_loader: - tensor  199:             blk.22.attn_q.weight q5_0     [  4096,  4096,     1,     1 ]\n",
      "llama_model_loader: - tensor  200:             blk.22.attn_k.weight q5_0     [  4096,  1024,     1,     1 ]\n",
      "llama_model_loader: - tensor  201:             blk.22.attn_v.weight q5_0     [  4096,  1024,     1,     1 ]\n",
      "llama_model_loader: - tensor  202:        blk.22.attn_output.weight q5_0     [  4096,  4096,     1,     1 ]\n",
      "llama_model_loader: - tensor  203:           blk.22.ffn_gate.weight q5_0     [  4096, 14336,     1,     1 ]\n",
      "llama_model_loader: - tensor  204:             blk.22.ffn_up.weight q5_0     [  4096, 14336,     1,     1 ]\n",
      "llama_model_loader: - tensor  205:           blk.22.ffn_down.weight q5_0     [ 14336,  4096,     1,     1 ]\n",
      "llama_model_loader: - tensor  206:          blk.22.attn_norm.weight f32      [  4096,     1,     1,     1 ]\n",
      "llama_model_loader: - tensor  207:           blk.22.ffn_norm.weight f32      [  4096,     1,     1,     1 ]\n",
      "llama_model_loader: - tensor  208:             blk.23.attn_q.weight q5_0     [  4096,  4096,     1,     1 ]\n",
      "llama_model_loader: - tensor  209:             blk.23.attn_k.weight q5_0     [  4096,  1024,     1,     1 ]\n",
      "llama_model_loader: - tensor  210:             blk.23.attn_v.weight q5_0     [  4096,  1024,     1,     1 ]\n",
      "llama_model_loader: - tensor  211:        blk.23.attn_output.weight q5_0     [  4096,  4096,     1,     1 ]\n",
      "llama_model_loader: - tensor  212:           blk.23.ffn_gate.weight q5_0     [  4096, 14336,     1,     1 ]\n",
      "llama_model_loader: - tensor  213:             blk.23.ffn_up.weight q5_0     [  4096, 14336,     1,     1 ]\n",
      "llama_model_loader: - tensor  214:           blk.23.ffn_down.weight q5_0     [ 14336,  4096,     1,     1 ]\n",
      "llama_model_loader: - tensor  215:          blk.23.attn_norm.weight f32      [  4096,     1,     1,     1 ]\n",
      "llama_model_loader: - tensor  216:           blk.23.ffn_norm.weight f32      [  4096,     1,     1,     1 ]\n",
      "llama_model_loader: - tensor  217:             blk.24.attn_q.weight q5_0     [  4096,  4096,     1,     1 ]\n",
      "llama_model_loader: - tensor  218:             blk.24.attn_k.weight q5_0     [  4096,  1024,     1,     1 ]\n",
      "llama_model_loader: - tensor  219:             blk.24.attn_v.weight q5_0     [  4096,  1024,     1,     1 ]\n",
      "llama_model_loader: - tensor  220:        blk.24.attn_output.weight q5_0     [  4096,  4096,     1,     1 ]\n",
      "llama_model_loader: - tensor  221:           blk.24.ffn_gate.weight q5_0     [  4096, 14336,     1,     1 ]\n",
      "llama_model_loader: - tensor  222:             blk.24.ffn_up.weight q5_0     [  4096, 14336,     1,     1 ]\n",
      "llama_model_loader: - tensor  223:           blk.24.ffn_down.weight q5_0     [ 14336,  4096,     1,     1 ]\n",
      "llama_model_loader: - tensor  224:          blk.24.attn_norm.weight f32      [  4096,     1,     1,     1 ]\n",
      "llama_model_loader: - tensor  225:           blk.24.ffn_norm.weight f32      [  4096,     1,     1,     1 ]\n",
      "llama_model_loader: - tensor  226:             blk.25.attn_q.weight q5_0     [  4096,  4096,     1,     1 ]\n",
      "llama_model_loader: - tensor  227:             blk.25.attn_k.weight q5_0     [  4096,  1024,     1,     1 ]\n",
      "llama_model_loader: - tensor  228:             blk.25.attn_v.weight q5_0     [  4096,  1024,     1,     1 ]\n",
      "llama_model_loader: - tensor  229:        blk.25.attn_output.weight q5_0     [  4096,  4096,     1,     1 ]\n",
      "llama_model_loader: - tensor  230:           blk.25.ffn_gate.weight q5_0     [  4096, 14336,     1,     1 ]\n",
      "llama_model_loader: - tensor  231:             blk.25.ffn_up.weight q5_0     [  4096, 14336,     1,     1 ]\n",
      "llama_model_loader: - tensor  232:           blk.25.ffn_down.weight q5_0     [ 14336,  4096,     1,     1 ]\n",
      "llama_model_loader: - tensor  233:          blk.25.attn_norm.weight f32      [  4096,     1,     1,     1 ]\n",
      "llama_model_loader: - tensor  234:           blk.25.ffn_norm.weight f32      [  4096,     1,     1,     1 ]\n",
      "llama_model_loader: - tensor  235:             blk.26.attn_q.weight q5_0     [  4096,  4096,     1,     1 ]\n",
      "llama_model_loader: - tensor  236:             blk.26.attn_k.weight q5_0     [  4096,  1024,     1,     1 ]\n",
      "llama_model_loader: - tensor  237:             blk.26.attn_v.weight q5_0     [  4096,  1024,     1,     1 ]\n",
      "llama_model_loader: - tensor  238:        blk.26.attn_output.weight q5_0     [  4096,  4096,     1,     1 ]\n",
      "llama_model_loader: - tensor  239:           blk.26.ffn_gate.weight q5_0     [  4096, 14336,     1,     1 ]\n",
      "llama_model_loader: - tensor  240:             blk.26.ffn_up.weight q5_0     [  4096, 14336,     1,     1 ]\n",
      "llama_model_loader: - tensor  241:           blk.26.ffn_down.weight q5_0     [ 14336,  4096,     1,     1 ]\n",
      "llama_model_loader: - tensor  242:          blk.26.attn_norm.weight f32      [  4096,     1,     1,     1 ]\n",
      "llama_model_loader: - tensor  243:           blk.26.ffn_norm.weight f32      [  4096,     1,     1,     1 ]\n",
      "llama_model_loader: - tensor  244:             blk.27.attn_q.weight q5_0     [  4096,  4096,     1,     1 ]\n",
      "llama_model_loader: - tensor  245:             blk.27.attn_k.weight q5_0     [  4096,  1024,     1,     1 ]\n",
      "llama_model_loader: - tensor  246:             blk.27.attn_v.weight q5_0     [  4096,  1024,     1,     1 ]\n",
      "llama_model_loader: - tensor  247:        blk.27.attn_output.weight q5_0     [  4096,  4096,     1,     1 ]\n",
      "llama_model_loader: - tensor  248:           blk.27.ffn_gate.weight q5_0     [  4096, 14336,     1,     1 ]\n",
      "llama_model_loader: - tensor  249:             blk.27.ffn_up.weight q5_0     [  4096, 14336,     1,     1 ]\n",
      "llama_model_loader: - tensor  250:           blk.27.ffn_down.weight q5_0     [ 14336,  4096,     1,     1 ]\n",
      "llama_model_loader: - tensor  251:          blk.27.attn_norm.weight f32      [  4096,     1,     1,     1 ]\n",
      "llama_model_loader: - tensor  252:           blk.27.ffn_norm.weight f32      [  4096,     1,     1,     1 ]\n",
      "llama_model_loader: - tensor  253:             blk.28.attn_q.weight q5_0     [  4096,  4096,     1,     1 ]\n",
      "llama_model_loader: - tensor  254:             blk.28.attn_k.weight q5_0     [  4096,  1024,     1,     1 ]\n",
      "llama_model_loader: - tensor  255:             blk.28.attn_v.weight q5_0     [  4096,  1024,     1,     1 ]\n",
      "llama_model_loader: - tensor  256:        blk.28.attn_output.weight q5_0     [  4096,  4096,     1,     1 ]\n",
      "llama_model_loader: - tensor  257:           blk.28.ffn_gate.weight q5_0     [  4096, 14336,     1,     1 ]\n",
      "llama_model_loader: - tensor  258:             blk.28.ffn_up.weight q5_0     [  4096, 14336,     1,     1 ]\n",
      "llama_model_loader: - tensor  259:           blk.28.ffn_down.weight q5_0     [ 14336,  4096,     1,     1 ]\n",
      "llama_model_loader: - tensor  260:          blk.28.attn_norm.weight f32      [  4096,     1,     1,     1 ]\n",
      "llama_model_loader: - tensor  261:           blk.28.ffn_norm.weight f32      [  4096,     1,     1,     1 ]\n",
      "llama_model_loader: - tensor  262:             blk.29.attn_q.weight q5_0     [  4096,  4096,     1,     1 ]\n",
      "llama_model_loader: - tensor  263:             blk.29.attn_k.weight q5_0     [  4096,  1024,     1,     1 ]\n",
      "llama_model_loader: - tensor  264:             blk.29.attn_v.weight q5_0     [  4096,  1024,     1,     1 ]\n",
      "llama_model_loader: - tensor  265:        blk.29.attn_output.weight q5_0     [  4096,  4096,     1,     1 ]\n",
      "llama_model_loader: - tensor  266:           blk.29.ffn_gate.weight q5_0     [  4096, 14336,     1,     1 ]\n",
      "llama_model_loader: - tensor  267:             blk.29.ffn_up.weight q5_0     [  4096, 14336,     1,     1 ]\n",
      "llama_model_loader: - tensor  268:           blk.29.ffn_down.weight q5_0     [ 14336,  4096,     1,     1 ]\n",
      "llama_model_loader: - tensor  269:          blk.29.attn_norm.weight f32      [  4096,     1,     1,     1 ]\n",
      "llama_model_loader: - tensor  270:           blk.29.ffn_norm.weight f32      [  4096,     1,     1,     1 ]\n",
      "llama_model_loader: - tensor  271:             blk.30.attn_q.weight q5_0     [  4096,  4096,     1,     1 ]\n",
      "llama_model_loader: - tensor  272:             blk.30.attn_k.weight q5_0     [  4096,  1024,     1,     1 ]\n",
      "llama_model_loader: - tensor  273:             blk.30.attn_v.weight q5_0     [  4096,  1024,     1,     1 ]\n",
      "llama_model_loader: - tensor  274:        blk.30.attn_output.weight q5_0     [  4096,  4096,     1,     1 ]\n",
      "llama_model_loader: - tensor  275:           blk.30.ffn_gate.weight q5_0     [  4096, 14336,     1,     1 ]\n",
      "llama_model_loader: - tensor  276:             blk.30.ffn_up.weight q5_0     [  4096, 14336,     1,     1 ]\n",
      "llama_model_loader: - tensor  277:           blk.30.ffn_down.weight q5_0     [ 14336,  4096,     1,     1 ]\n",
      "llama_model_loader: - tensor  278:          blk.30.attn_norm.weight f32      [  4096,     1,     1,     1 ]\n",
      "llama_model_loader: - tensor  279:           blk.30.ffn_norm.weight f32      [  4096,     1,     1,     1 ]\n",
      "llama_model_loader: - tensor  280:             blk.31.attn_q.weight q5_0     [  4096,  4096,     1,     1 ]\n",
      "llama_model_loader: - tensor  281:             blk.31.attn_k.weight q5_0     [  4096,  1024,     1,     1 ]\n",
      "llama_model_loader: - tensor  282:             blk.31.attn_v.weight q5_0     [  4096,  1024,     1,     1 ]\n",
      "llama_model_loader: - tensor  283:        blk.31.attn_output.weight q5_0     [  4096,  4096,     1,     1 ]\n",
      "llama_model_loader: - tensor  284:           blk.31.ffn_gate.weight q5_0     [  4096, 14336,     1,     1 ]\n",
      "llama_model_loader: - tensor  285:             blk.31.ffn_up.weight q5_0     [  4096, 14336,     1,     1 ]\n",
      "llama_model_loader: - tensor  286:           blk.31.ffn_down.weight q5_0     [ 14336,  4096,     1,     1 ]\n",
      "llama_model_loader: - tensor  287:          blk.31.attn_norm.weight f32      [  4096,     1,     1,     1 ]\n",
      "llama_model_loader: - tensor  288:           blk.31.ffn_norm.weight f32      [  4096,     1,     1,     1 ]\n",
      "llama_model_loader: - tensor  289:               output_norm.weight f32      [  4096,     1,     1,     1 ]\n",
      "llama_model_loader: - tensor  290:                    output.weight q6_K     [  4096, 32000,     1,     1 ]\n",
      "llama_model_loader: - kv   0:                       general.architecture str     \n",
      "llama_model_loader: - kv   1:                               general.name str     \n",
      "llama_model_loader: - kv   2:                       llama.context_length u32     \n",
      "llama_model_loader: - kv   3:                     llama.embedding_length u32     \n",
      "llama_model_loader: - kv   4:                          llama.block_count u32     \n",
      "llama_model_loader: - kv   5:                  llama.feed_forward_length u32     \n",
      "llama_model_loader: - kv   6:                 llama.rope.dimension_count u32     \n",
      "llama_model_loader: - kv   7:                 llama.attention.head_count u32     \n",
      "llama_model_loader: - kv   8:              llama.attention.head_count_kv u32     \n",
      "llama_model_loader: - kv   9:     llama.attention.layer_norm_rms_epsilon f32     \n",
      "llama_model_loader: - kv  10:                       llama.rope.freq_base f32     \n",
      "llama_model_loader: - kv  11:                          general.file_type u32     \n",
      "llama_model_loader: - kv  12:                       tokenizer.ggml.model str     \n",
      "llama_model_loader: - kv  13:                      tokenizer.ggml.tokens arr     \n",
      "llama_model_loader: - kv  14:                      tokenizer.ggml.scores arr     \n",
      "llama_model_loader: - kv  15:                  tokenizer.ggml.token_type arr     \n",
      "llama_model_loader: - kv  16:                tokenizer.ggml.bos_token_id u32     \n",
      "llama_model_loader: - kv  17:                tokenizer.ggml.eos_token_id u32     \n",
      "llama_model_loader: - kv  18:            tokenizer.ggml.unknown_token_id u32     \n",
      "llama_model_loader: - kv  19:               general.quantization_version u32     \n",
      "llama_model_loader: - type  f32:   65 tensors\n",
      "llama_model_loader: - type q5_0:  225 tensors\n",
      "llama_model_loader: - type q6_K:    1 tensors\n",
      "llm_load_print_meta: format         = GGUF V2 (latest)\n",
      "llm_load_print_meta: arch           = llama\n",
      "llm_load_print_meta: vocab type     = SPM\n",
      "llm_load_print_meta: n_vocab        = 32000\n",
      "llm_load_print_meta: n_merges       = 0\n",
      "llm_load_print_meta: n_ctx_train    = 32768\n",
      "llm_load_print_meta: n_ctx          = 2048\n",
      "llm_load_print_meta: n_embd         = 4096\n",
      "llm_load_print_meta: n_head         = 32\n",
      "llm_load_print_meta: n_head_kv      = 8\n",
      "llm_load_print_meta: n_layer        = 32\n",
      "llm_load_print_meta: n_rot          = 128\n",
      "llm_load_print_meta: n_gqa          = 4\n",
      "llm_load_print_meta: f_norm_eps     = 0.0e+00\n",
      "llm_load_print_meta: f_norm_rms_eps = 1.0e-05\n",
      "llm_load_print_meta: n_ff           = 14336\n",
      "llm_load_print_meta: freq_base      = 10000.0\n",
      "llm_load_print_meta: freq_scale     = 1\n",
      "llm_load_print_meta: model type     = 7B\n",
      "llm_load_print_meta: model ftype    = mostly Q5_0\n",
      "llm_load_print_meta: model params   = 7.24 B\n",
      "llm_load_print_meta: model size     = 4.65 GiB (5.52 BPW) \n",
      "llm_load_print_meta: general.name   = mistralai_mistral-7b-v0.1\n",
      "llm_load_print_meta: BOS token = 1 '<s>'\n",
      "llm_load_print_meta: EOS token = 2 '</s>'\n",
      "llm_load_print_meta: UNK token = 0 '<unk>'\n",
      "llm_load_print_meta: LF token  = 13 '<0x0A>'\n",
      "llm_load_tensors: ggml ctx size =    0.09 MB\n",
      "llm_load_tensors: using CUDA for GPU acceleration\n",
      "llm_load_tensors: mem required  =   86.03 MB (+  256.00 MB per state)\n",
      "llm_load_tensors: offloading 32 repeating layers to GPU\n",
      "llm_load_tensors: offloading non-repeating layers to GPU\n",
      "llm_load_tensors: offloading v cache to GPU\n",
      "llm_load_tensors: offloading k cache to GPU\n",
      "llm_load_tensors: offloaded 35/35 layers to GPU\n",
      "llm_load_tensors: VRAM used: 4936 MB\n",
      "..................................................................................................\n",
      "llama_new_context_with_model: kv self size  =  256.00 MB\n",
      "llama_new_context_with_model: compute buffer total size =  153.47 MB\n",
      "llama_new_context_with_model: VRAM scratch buffer: 152.00 MB\n"
     ]
    },
    {
     "name": "stdout",
     "output_type": "stream",
     "text": [
      "Testing with no-shots\n",
      "      and discussion\n",
      "./ner/saves/datasets/ontonote5_test_1403.pkl\n",
      "<ner.Datasets.OntoNotes5Dataset.OntoNote5Dataset object at 0x7f49ba032200>\n"
     ]
    },
    {
     "name": "stderr",
     "output_type": "stream",
     "text": [
      "  0%|          | 0/20 [00:00<?, ?it/s]"
     ]
    },
    {
     "name": "stdout",
     "output_type": "stream",
     "text": [
      "('Weisman', 'PERSON'), ('Mr.', 'PERSON'), ('Weisman', 'PERSON'), ('Weisman', 'PERSON'), ('Weisman', 'PERSON'), ('Weisman', 'PERSON'), ('Weisman', 'PERSON'), ('Weisman', 'PERSON'), ('Weisman', 'PERSON'), ('Weisman', 'PERSON'), ('Weisman', 'PERSON'), ('Weisman', 'PERSON'), ('Weisman', 'PERSON'), ('Weisman', 'PERSON'), ('Weisman', 'PERSON'), ('Weisman', 'PERSON'), ('Weisman', 'PERSON'), ('Weisman', 'PERSON'), ('Weisman', 'PERSON'), ('Weisman', 'PERSON'), ('Weisman', 'PERSON'), ('Weisman', 'PERSON'), ('Weisman', 'PERSON'), ('Weisman', 'PERSON'), ('Weisman', 'PERSON'), ('Weisman', 'PERSON'), ('Weisman', 'PERSON'), ('Weisman', 'PERSON'), ('Weisman', 'PERSON'), ('Weisman', 'PERSON'), ('Weisman', 'PERSON'), ('Weisman', 'PERSON'), ('Weisman', 'PERSON'), ('Weisman', 'PERSON'), ('Weisman', 'PERSON'), ('Weisman', 'PERSON'), ('Weisman', 'PERSON'), ('Weisman', 'PERSON'), ('Weisman', 'PERSON'), ('Weisman', 'PERSON'), ('Weisman', 'PERSON'), ('Weisman', 'PERSON'), ('Weisman', 'PERSON'), ('Weisman', 'PERSON'), ('Weisman', 'PERSON'), ('Weisman', 'PERSON'), ('Weisman', 'PERSON'), ('Weisman', 'PERSON'), ('Weisman', 'PERSON'), ('Weisman', 'PERSON'), ('Weisman', 'PERSON'), ('Weisman', 'PERSON'), ('Weisman', 'PERSON'), ('Weisman', 'PERSON'), ('Weisman', 'PERSON'), ('Weisman', 'PERSON'), ('Weisman', 'PERSON'), ('"
     ]
    },
    {
     "name": "stderr",
     "output_type": "stream",
     "text": [
      "  5%|▌         | 1/20 [00:10<03:16, 10.32s/it]"
     ]
    },
    {
     "name": "stdout",
     "output_type": "stream",
     "text": [
      "('Weisman', 'PERSON'), ('Mr.', 'PERSON'), ('Weisman', 'PERSON'), ('Weisman', 'PERSON'), ('Weisman', 'PERSON'), ('Weisman', 'PERSON'), ('Weisman', 'PERSON'), ('Weisman', 'PERSON'), ('Weisman', 'PERSON'), ('Weisman', 'PERSON'), ('Weisman', 'PERSON'), ('Weisman', 'PERSON'), ('Weisman', 'PERSON'), ('Weisman', 'PERSON'), ('Weisman', 'PERSON'), ('Weisman', 'PERSON'), ('Weisman', 'PERSON'), ('Weisman', 'PERSON'), ('Weisman', 'PERSON'), ('Weisman', 'PERSON'), ('Weisman', 'PERSON'), ('Weisman', 'PERSON'), ('Weisman', 'PERSON'), ('Weisman', 'PERSON'), ('Weisman', 'PERSON'), ('Weisman', 'PERSON'), ('Weisman', 'PERSON'), ('Weisman', 'PERSON'), ('Weisman', 'PERSON'), ('Weisman', 'PERSON'), ('Weisman', 'PERSON'), ('Weisman', 'PERSON'), ('Weisman', 'PERSON'), ('Weisman', 'PERSON'), ('Weisman', 'PERSON'), ('Weisman', 'PERSON'), ('Weisman', 'PERSON'), ('Weisman', 'PERSON'), ('Weisman', 'PERSON'), ('Weisman', 'PERSON'), ('Weisman', 'PERSON'), ('Weisman', 'PERSON'), ('Weisman', 'PERSON'), ('Weisman', 'PERSON'), ('Weisman', 'PERSON'), ('Weisman', 'PERSON'), ('Weisman', 'PERSON'), ('Weisman', 'PERSON'), ('Weisman', 'PERSON'), ('Weisman', 'PERSON'), ('Weisman', 'PERSON'), ('Weisman', 'PERSON'), ('Weisman', 'PERSON'), ('Weisman', 'PERSON'), ('Weisman', 'PERSON'), ('Weisman', 'PERSON'), ('Weisman', 'PERSON'), (' [\n",
      "-----------------------------------------------\n",
      "response does not contain [()]. Returned [('Weisman', 'PERSON'), ('Mr.', 'PERSON'), ('Weisman', 'PERSON'), ('Weisman', 'PERSON'), ('Weisman', 'PERSON'), ('Weisman', 'PERSON'), ('Weisman', 'PERSON'), ('Weisman', 'PERSON'), ('Weisman', 'PERSON'), ('Weisman', 'PERSON'), ('Weisman', 'PERSON'), ('Weisman', 'PERSON'), ('Weisman', 'PERSON'), ('Weisman', 'PERSON'), ('Weisman', 'PERSON'), ('Weisman', 'PERSON'), ('Weisman', 'PERSON'), ('Weisman', 'PERSON'), ('Weisman', 'PERSON'), ('Weisman', 'PERSON'), ('Weisman', 'PERSON'), ('Weisman', 'PERSON'), ('Weisman', 'PERSON'), ('Weisman', 'PERSON'), ('Weisman', 'PERSON'), ('Weisman', 'PERSON'), ('Weisman', 'PERSON'), ('Weisman', 'PERSON'), ('Weisman', 'PERSON'), ('Weisman', 'PERSON'), ('Weisman', 'PERSON'), ('Weisman', 'PERSON'), ('Weisman', 'PERSON'), ('Weisman', 'PERSON'), ('Weisman', 'PERSON'), ('Weisman', 'PERSON'), ('Weisman', 'PERSON'), ('Weisman', 'PERSON'), ('Weisman', 'PERSON'), ('Weisman', 'PERSON'), ('Weisman', 'PERSON'), ('Weisman', 'PERSON'), ('Weisman', 'PERSON'), ('Weisman', 'PERSON'), ('Weisman', 'PERSON'), ('Weisman', 'PERSON'), ('Weisman', 'PERSON'), ('Weisman', 'PERSON'), ('Weisman', 'PERSON'), ('Weisman', 'PERSON'), ('Weisman', 'PERSON'), ('Weisman', 'PERSON'), ('Weisman', 'PERSON'), ('Weisman', 'PERSON'), ('Weisman', 'PERSON'), ('Weisman', 'PERSON'), ('Weisman', 'PERSON'), ('\n",
      "-----------------------------------------------\n",
      "('200', 'CARDINAL'), ('1500', 'CARDINAL'), ('enterprises', 'ORG')] "
     ]
    },
    {
     "name": "stderr",
     "output_type": "stream",
     "text": [
      " 10%|█         | 2/20 [00:11<01:25,  4.75s/it]"
     ]
    },
    {
     "name": "stdout",
     "output_type": "stream",
     "text": [
      "('200', 'CARDINAL'), ('1500', 'CARDINAL'), ('enterprises', 'ORG')]  [\n",
      "('%uh', 'PERSON'), ('burglary', 'EVENT'), ('issues', 'EVENT'), ('oh', 'TIME'), ('yeah', 'TIME'), ('but', 'TIME'), ('that', 'TIME'), ('I', 'PERSON'), ('ve', 'PERSON'), ('been', 'PERSON'), ('dealing', 'EVENT'), ('with', 'EVENT')] "
     ]
    },
    {
     "name": "stderr",
     "output_type": "stream",
     "text": [
      " 15%|█▌        | 3/20 [00:12<00:57,  3.38s/it]"
     ]
    },
    {
     "name": "stdout",
     "output_type": "stream",
     "text": [
      "('%uh', 'PERSON'), ('burglary', 'EVENT'), ('issues', 'EVENT'), ('oh', 'TIME'), ('yeah', 'TIME'), ('but', 'TIME'), ('that', 'TIME'), ('I', 'PERSON'), ('ve', 'PERSON'), ('been', 'PERSON'), ('dealing', 'EVENT'), ('with', 'EVENT')]  [\n",
      "('U.S.', 'GPE'), ('Circuit', 'FAC'), ('Court', 'FAC'), ('of', ''), ('Appeals', ''), ('opinion', ''), ('in', ''), ('the', ''), ('Arcadian', ''), ('Phosphate', ''), ('case', ''), ('did', ''), ('not', ''), ('repudiate', ''), ('the', ''), ('position', ''), ('Pennzoil', ''), ('Co.', ''), ('took', ''), ('in', ''), ('its', ''), ('dispute', ''), ('with', ''), ('Texaco', ''), ('', ''), ('contrary', ''), ('to', ''), ('your', ''), ('Sept.', ''), ('8', ''), ('article', ''), ('``', ''), ('Court', ''), ('Backs', ''), ('Texaco', ''), ('s', ''), ('View', ''), ('in', ''), ('Pennzoil', ''), ('Case', ''), ('--', ''), ('Too', ''), ('Late', ''), ('''', '')] "
     ]
    },
    {
     "name": "stderr",
     "output_type": "stream",
     "text": [
      " 20%|██        | 4/20 [00:17<01:04,  4.00s/it]"
     ]
    },
    {
     "name": "stdout",
     "output_type": "stream",
     "text": [
      "('U.S.', 'GPE'), ('Circuit', 'FAC'), ('Court', 'FAC'), ('of', ''), ('Appeals', ''), ('opinion', ''), ('in', ''), ('the', ''), ('Arcadian', ''), ('Phosphate', ''), ('case', ''), ('did', ''), ('not', ''), ('repudiate', ''), ('the', ''), ('position', ''), ('Pennzoil', ''), ('Co.', ''), ('took', ''), ('in', ''), ('its', ''), ('dispute', ''), ('with', ''), ('Texaco', ''), ('', ''), ('contrary', ''), ('to', ''), ('your', ''), ('Sept.', ''), ('8', ''), ('article', ''), ('``', ''), ('Court', ''), ('Backs', ''), ('Texaco', ''), ('s', ''), ('View', ''), ('in', ''), ('Pennzoil', ''), ('Case', ''), ('--', ''), ('Too', ''), ('Late', ''), ('''', '')]  [\n",
      "('Optics Letters', 'PER')] "
     ]
    },
    {
     "name": "stderr",
     "output_type": "stream",
     "text": [
      " 25%|██▌       | 5/20 [00:18<00:40,  2.72s/it]"
     ]
    },
    {
     "name": "stdout",
     "output_type": "stream",
     "text": [
      "('Optics Letters', 'PER')]  [\n",
      "('Scooter Libby', 'PERSON')] "
     ]
    },
    {
     "name": "stderr",
     "output_type": "stream",
     "text": [
      " 30%|███       | 6/20 [00:18<00:27,  1.96s/it]"
     ]
    },
    {
     "name": "stdout",
     "output_type": "stream",
     "text": [
      "('Scooter Libby', 'PERSON')]  [\n",
      "('Michael', 'PERSON')] "
     ]
    },
    {
     "name": "stderr",
     "output_type": "stream",
     "text": [
      " 35%|███▌      | 7/20 [00:19<00:18,  1.46s/it]"
     ]
    },
    {
     "name": "stdout",
     "output_type": "stream",
     "text": [
      "('Michael', 'PERSON')]  [\n",
      "('Gulf', 'ORG'), ('20', 'CARDINAL'), ('advance', 'TIME'), ('written', 'TIME'), ('notice', 'TIME'), ('any', 'QUANTITY'), ('loans', 'MONEY'), ('exceeding', 'QUANTITY'), ('$', 'MONEY'), ('50', 'CARDINAL'), ('million', 'MONEY'), ('that', 'CONJ'), ('are', 'VERB'), ('made', 'VERB'), ('to', 'CONJ'), ('the', 'DET'), ('Bermuda', 'GPE'), ('-', 'PUNCT'), ('based', 'VERB'), ('holding', 'VERB'), ('company', 'ORG')] "
     ]
    },
    {
     "name": "stderr",
     "output_type": "stream",
     "text": [
      " 40%|████      | 8/20 [00:22<00:24,  2.04s/it]"
     ]
    },
    {
     "name": "stdout",
     "output_type": "stream",
     "text": [
      "('Gulf', 'ORG'), ('20', 'CARDINAL'), ('advance', 'TIME'), ('written', 'TIME'), ('notice', 'TIME'), ('any', 'QUANTITY'), ('loans', 'MONEY'), ('exceeding', 'QUANTITY'), ('$', 'MONEY'), ('50', 'CARDINAL'), ('million', 'MONEY'), ('that', 'CONJ'), ('are', 'VERB'), ('made', 'VERB'), ('to', 'CONJ'), ('the', 'DET'), ('Bermuda', 'GPE'), ('-', 'PUNCT'), ('based', 'VERB'), ('holding', 'VERB'), ('company', 'ORG')]  [\n",
      "('New York Times', 'ORG')] "
     ]
    },
    {
     "name": "stderr",
     "output_type": "stream",
     "text": [
      " 45%|████▌     | 9/20 [00:22<00:16,  1.54s/it]"
     ]
    },
    {
     "name": "stdout",
     "output_type": "stream",
     "text": [
      "('New York Times', 'ORG')]  [\n",
      "('Gansu', 'GPE'), ('People', 'ORG'), ('China', 'GPE'), ('Group', 'ORG'), ('foreign', 'NORP'), ('businessmen', 'PER'), ('import', 'VERB'), ('equipment', 'PRODUCT'), ('transportation', 'VERB'), ('installation', 'VERB'), ('formation', 'VERB'), ('fixed', 'ADJ'), ('assets', 'PRODUCT'), ('thus', 'ADV'), ('foreign', 'NORP'), ('businessmen', 'PER'), ('set', 'VERB'), ('their', 'PRON'), ('minds', 'NOUN'), ('at', 'PREP'), ('ease', 'NOUN')] "
     ]
    },
    {
     "name": "stderr",
     "output_type": "stream",
     "text": [
      " 50%|█████     | 10/20 [00:26<00:20,  2.07s/it]"
     ]
    },
    {
     "name": "stdout",
     "output_type": "stream",
     "text": [
      "('Gansu', 'GPE'), ('People', 'ORG'), ('China', 'GPE'), ('Group', 'ORG'), ('foreign', 'NORP'), ('businessmen', 'PER'), ('import', 'VERB'), ('equipment', 'PRODUCT'), ('transportation', 'VERB'), ('installation', 'VERB'), ('formation', 'VERB'), ('fixed', 'ADJ'), ('assets', 'PRODUCT'), ('thus', 'ADV'), ('foreign', 'NORP'), ('businessmen', 'PER'), ('set', 'VERB'), ('their', 'PRON'), ('minds', 'NOUN'), ('at', 'PREP'), ('ease', 'NOUN')]  [\n",
      "('C - Span', 'PRODUCT')] "
     ]
    },
    {
     "name": "stderr",
     "output_type": "stream",
     "text": [
      " 55%|█████▌    | 11/20 [00:26<00:14,  1.58s/it]"
     ]
    },
    {
     "name": "stdout",
     "output_type": "stream",
     "text": [
      "('C - Span', 'PRODUCT')]  [\n",
      "('ASKO', 'ORG'), ('Ahold', 'ORG')] "
     ]
    },
    {
     "name": "stderr",
     "output_type": "stream",
     "text": [
      " 60%|██████    | 12/20 [00:27<00:10,  1.27s/it]"
     ]
    },
    {
     "name": "stdout",
     "output_type": "stream",
     "text": [
      "('ASKO', 'ORG'), ('Ahold', 'ORG')]  [\n",
      "('Rythm Nation', 'WORK_OF_ART'), ('black uniform', 'FAC'), ('strange , synchopated hand movements', 'FAC'), ('video dance routine', 'WORK_OF_ART'), ('specific message', 'LAW'), ('desired effect', 'LAW')] "
     ]
    },
    {
     "name": "stderr",
     "output_type": "stream",
     "text": [
      " 65%|██████▌   | 13/20 [00:28<00:09,  1.33s/it]"
     ]
    },
    {
     "name": "stdout",
     "output_type": "stream",
     "text": [
      "('Rythm Nation', 'WORK_OF_ART'), ('black uniform', 'FAC'), ('strange , synchopated hand movements', 'FAC'), ('video dance routine', 'WORK_OF_ART'), ('specific message', 'LAW'), ('desired effect', 'LAW')]  [\n",
      "('North', 'GPE'), ('Koreans', 'GPE')] "
     ]
    },
    {
     "name": "stderr",
     "output_type": "stream",
     "text": [
      " 70%|███████   | 14/20 [00:29<00:06,  1.11s/it]"
     ]
    },
    {
     "name": "stdout",
     "output_type": "stream",
     "text": [
      "('North', 'GPE'), ('Koreans', 'GPE')]  [\n",
      "('Shandong', 'GPE')] "
     ]
    },
    {
     "name": "stderr",
     "output_type": "stream",
     "text": [
      " 75%|███████▌  | 15/20 [00:29<00:04,  1.10it/s]"
     ]
    },
    {
     "name": "stdout",
     "output_type": "stream",
     "text": [
      "('Shandong', 'GPE')]  [\n",
      "('Jackson', 'PERSON'), ('Geller', 'PERSON'), ('2001', 'DATE'), ('2001', 'DATE'), ('Geller', 'PERSON')] "
     ]
    },
    {
     "name": "stderr",
     "output_type": "stream",
     "text": [
      " 80%|████████  | 16/20 [00:30<00:03,  1.06it/s]"
     ]
    },
    {
     "name": "stdout",
     "output_type": "stream",
     "text": [
      "('Jackson', 'PERSON'), ('Geller', 'PERSON'), ('2001', 'DATE'), ('2001', 'DATE'), ('Geller', 'PERSON')]  [\n",
      "('China', 'GPE'), ('down', 'PRODUCT'), ('products', 'PRODUCT'), ('industry', 'FAC'), ('down', 'PRODUCT'), ('trade', 'MONEY'), ('down', 'PRODUCT'), ('market', 'FAC')] "
     ]
    },
    {
     "name": "stderr",
     "output_type": "stream",
     "text": [
      " 85%|████████▌ | 17/20 [00:32<00:03,  1.07s/it]"
     ]
    },
    {
     "name": "stdout",
     "output_type": "stream",
     "text": [
      "('China', 'GPE'), ('down', 'PRODUCT'), ('products', 'PRODUCT'), ('industry', 'FAC'), ('down', 'PRODUCT'), ('trade', 'MONEY'), ('down', 'PRODUCT'), ('market', 'FAC')]  [\n",
      "('Many', 'QUANTITY'), ('others', 'QUANTITY'), ('at', 'TIME'), ('the', 'DET'), ('same', 'QUANTITY'), ('time', 'TIME'), ('in', 'TIME'), ('life', 'TIME'), ('have', 'VERB'), ('opted', 'VERB'), ('to', 'TIME'), ('take', 'VERB'), ('early', 'QUANTITY'), ('retirement', 'WORK_OF_ART'), ('and', 'CONJ'), ('find', 'VERB'), ('a', 'DET'), ('guru', 'PERSON'), ('in', 'TIME'), ('India', 'GPE'), ('work', 'VERB'), ('as', 'CONJ'), ('a', 'DET'), ('volunteer', 'WORK_OF_ART'), ('or', 'CONJ'), ('do', 'VERB'), ('whatever', 'VERB'), ('else', 'VERB'), ('they', 'PRON'), ('want', 'VERB'), ('to', 'TIME'), ('do', 'VERB')] "
     ]
    },
    {
     "name": "stderr",
     "output_type": "stream",
     "text": [
      " 90%|█████████ | 18/20 [00:36<00:04,  2.13s/it]"
     ]
    },
    {
     "name": "stdout",
     "output_type": "stream",
     "text": [
      "('Many', 'QUANTITY'), ('others', 'QUANTITY'), ('at', 'TIME'), ('the', 'DET'), ('same', 'QUANTITY'), ('time', 'TIME'), ('in', 'TIME'), ('life', 'TIME'), ('have', 'VERB'), ('opted', 'VERB'), ('to', 'TIME'), ('take', 'VERB'), ('early', 'QUANTITY'), ('retirement', 'WORK_OF_ART'), ('and', 'CONJ'), ('find', 'VERB'), ('a', 'DET'), ('guru', 'PERSON'), ('in', 'TIME'), ('India', 'GPE'), ('work', 'VERB'), ('as', 'CONJ'), ('a', 'DET'), ('volunteer', 'WORK_OF_ART'), ('or', 'CONJ'), ('do', 'VERB'), ('whatever', 'VERB'), ('else', 'VERB'), ('they', 'PRON'), ('want', 'VERB'), ('to', 'TIME'), ('do', 'VERB')]  [\n",
      "('Time', 'PERIODICAL'), ('Washington Post Co.', 'ORG'), ('Newsweek', 'PERIODICAL'), ('U.S. News & World Report', 'PERIODICAL')] "
     ]
    },
    {
     "name": "stderr",
     "output_type": "stream",
     "text": [
      " 95%|█████████▌| 19/20 [00:37<00:01,  1.82s/it]"
     ]
    },
    {
     "name": "stdout",
     "output_type": "stream",
     "text": [
      "('Time', 'PERIODICAL'), ('Washington Post Co.', 'ORG'), ('Newsweek', 'PERIODICAL'), ('U.S. News & World Report', 'PERIODICAL')]  [\n",
      "('Taiwan', 'GPE'), ('Dong', 'FAC')] "
     ]
    },
    {
     "name": "stderr",
     "output_type": "stream",
     "text": [
      "100%|██████████| 20/20 [00:38<00:00,  1.92s/it]"
     ]
    },
    {
     "name": "stdout",
     "output_type": "stream",
     "text": [
      "('Taiwan', 'GPE'), ('Dong', 'FAC')]  [\n",
      "      and wrapper\n",
      "./ner/saves/datasets/ontonote5_test_1403.pkl\n",
      "<ner.Datasets.OntoNotes5Dataset.OntoNote5Dataset object at 0x7f49b953b2b0>\n"
     ]
    },
    {
     "name": "stderr",
     "output_type": "stream",
     "text": [
      "\n",
      "  0%|          | 0/20 [00:00<?, ?it/s]"
     ]
    },
    {
     "name": "stdout",
     "output_type": "stream",
     "text": [
      "\n",
      "### ASSISTANT : I understand I need to rewrite the sentence and wrap the named entity with\"<[tag]>\" and \"</[tag]>\" where \"[tag]\" is one of the 18 tags of the OntoNote5 dataset. Now, provide me the sentence ? \n",
      "### INPUT : <start_input> For both Thomson and British Aerospace , earnings in their home markets have come under pressure from increasingly tight - fisted defense ministries ; and Middle East sales , a traditional mainstay for both companies ' exports , have been hurt by five years of weak oil prices . <end_input>\n",
      "### OUTPUT : <start_output> \n",
      "### ASSISTANT : I understand I need to rewrite the sentence and wrap the named entity with\"<[tag]>\" and \"</[tag]>\" where \"[tag]\" is one of the 18 tags of the OntoNote5 dataset. Now, provide me the sentence ? \n",
      "### INPUT : <start_input> For both Thomson and British Aerospace , earnings in their home markets have come under pressure from increasingly tight - fisted defense ministries ; and Middle East sales , a traditional mainstay for both companies ' exports , have been hurt by five years of weak oil prices . <end_input>\n",
      "### OUTPUT : <start_output> \n",
      "### ASSISTANT : I understand I need to rewrite the sentence and wrap the named entity with\"<[tag]>\" and \"</[tag]>\" where \"[tag]\" is one of the 18 tags of the OntoNote5 dataset. Now, provide me the sentence ? \n",
      "### INPUT : <start_input> For both Thomson and British Aerospace , earnings in their home markets have come under pressure from increasingly tight - fisted defense ministries ; and Middle East sales , a traditional mainstay for both companies ' exports , have been hurt by five years of weak oil prices . <end_input>\n",
      "### OUTPUT : <start_output> \n",
      "### ASSISTANT : I understand I need to rewrite the sentence and wrap the named entity with\"<[tag]>\" and \"</[tag]>\" where \"[tag]\" is one of the 18 tags of the OntoNote5 dataset. Now, provide me the sentence ? \n",
      "### INPUT : <start_input> For both Thomson and British Aeros"
     ]
    },
    {
     "name": "stderr",
     "output_type": "stream",
     "text": [
      "  5%|▌         | 1/20 [00:12<03:59, 12.59s/it]"
     ]
    },
    {
     "name": "stdout",
     "output_type": "stream",
     "text": [
      "\n",
      "### ASSISTANT : I understand I need to rewrite the sentence and wrap the named entity with\"<[tag]>\" and \"</[tag]>\" where \"[tag]\" is one of the 18 tags of the OntoNote5 dataset. Now, provide me the sentence ? \n",
      "### INPUT : <start_input> For both Thomson and British Aerospace , earnings in their home markets have come under pressure from increasingly tight - fisted defense ministries ; and Middle East sales , a traditional mainstay for both companies ' exports , have been hurt by five years of weak oil prices . <end_input>\n",
      "### OUTPUT : <start_output> \n",
      "### ASSISTANT : I understand I need to rewrite the sentence and wrap the named entity with\"<[tag]>\" and \"</[tag]>\" where \"[tag]\" is one of the 18 tags of the OntoNote5 dataset. Now, provide me the sentence ? \n",
      "### INPUT : <start_input> For both Thomson and British Aerospace , earnings in their home markets have come under pressure from increasingly tight - fisted defense ministries ; and Middle East sales , a traditional mainstay for both companies ' exports , have been hurt by five years of weak oil prices . <end_input>\n",
      "### OUTPUT : <start_output> \n",
      "### ASSISTANT : I understand I need to rewrite the sentence and wrap the named entity with\"<[tag]>\" and \"</[tag]>\" where \"[tag]\" is one of the 18 tags of the OntoNote5 dataset. Now, provide me the sentence ? \n",
      "### INPUT : <start_input> For both Thomson and British Aerospace , earnings in their home markets have come under pressure from increasingly tight - fisted defense ministries ; and Middle East sales , a traditional mainstay for both companies ' exports , have been hurt by five years of weak oil prices . <end_input>\n",
      "### OUTPUT : <start_output> \n",
      "### ASSISTANT : I understand I need to rewrite the sentence and wrap the named entity with\"<[tag]>\" and \"</[tag]>\" where \"[tag]\" is one of the 18 tags of the OntoNote5 dataset. Now, provide me the sentence ? \n",
      "### INPUT : <start_input> For both Thomson and British Aeros \n",
      " Juridical people of non-financial institutions who borrow international commercial loans directly must possess these several conditions , that is , have continual profits for the last three years , have import and export business permission , belong to a national encouraged industry ; possess a complete financial management system ; must have a ratio of net assets to total assets not lower than 15 % for juridical people of trade - type non-financial corporations , must have ratios of net assets to total assets not lower than 30 % for juridical people of non trade - type non-financial corporations ; must have a total sum of international business loans borrowed and foreign guarantee surpluses not exceeding 50 % of net asset 's equivalent foreign exchange worth ; must have total of foreign exchange loan and foreign exchange guarantee surplus not exceeding the amount of exchange created in the previous year . "
     ]
    },
    {
     "name": "stderr",
     "output_type": "stream",
     "text": [
      " 10%|█         | 2/20 [00:18<02:36,  8.71s/it]"
     ]
    },
    {
     "name": "stdout",
     "output_type": "stream",
     "text": [
      " Juridical people of non-financial institutions who borrow international commercial loans directly must possess these several conditions , that is , have continual profits for the last three years , have import and export business permission , belong to a national encouraged industry ; possess a complete financial management system ; must have a ratio of net assets to total assets not lower than 15 % for juridical people of trade - type non-financial corporations , must have ratios of net assets to total assets not lower than 30 % for juridical people of non trade - type non-financial corporations ; must have a total sum of international business loans borrowed and foreign guarantee surpluses not exceeding 50 % of net asset 's equivalent foreign exchange worth ; must have total of foreign exchange loan and foreign exchange guarantee surplus not exceeding the amount of exchange created in the previous year .  \n",
      "\n",
      "### ASSISTANT : I understand I need to rewrite the sentence and wrap the named entity with\"<[tag]>\" and \"</[tag]>\" where \"[tag]\" is one of the 18 tags of the OntoNote5 dataset. Now, provide me the sentence ? \n",
      "### INPUT : <start_input> It hurts to think of how many wonderful people in Iraq at the academic community , lawyers , human rights activists , civilians , intellectuals , people -- would now be alive , who have been horribly murdered and tortured and reduced to misery since by a half application of violence through sanctions and overflights . <end_input>\n",
      "### OUTPUT : <start_output> \n",
      "### ASSISTANT : I understand I need to rewrite the sentence and wrap the named entity with\"<[tag]>\" and \"</[tag]>\" where \"[tag]\" is one of the 18 tags of the OntoNote5 dataset. Now, provide me the sentence ? \n",
      "### INPUT : <start_input> It hurts to think of how many wonderful people in Iraq at the academic community , lawyers , human rights activists , civilians , intellectuals , people -- would now be alive , who have been horribly murdered and tortured and reduced to misery since by a half application of violence through sanctions and overflights . <end_input>\n",
      "### OUTPUT : <start_output> \n",
      "### ASSISTANT : I understand I need to rewrite the sentence and wrap the named entity with\"<[tag]>\" and \"</[tag]>\" where \"[tag]\" is one of the 18 tags of the OntoNote5 dataset. Now, provide me the sentence ? \n",
      "### INPUT : <start_input> It hurts to think of how many wonderful people in Iraq at the academic community , lawyers , human rights activists , civilians , intellectuals , people -- would now be alive , who have been horribly murdered and tortured and reduced to misery since by a half application of violence through sanctions and overflights . <end_input>\n",
      "### OUTPUT : <start_output> \n",
      "### ASSISTANT : I understand I need to rewrite the sentence and wrap the named entity with\"<[tag]>\" and \"</[tag]>\" where \"[tag]\" is one of the 18 tags of the Onto"
     ]
    },
    {
     "name": "stderr",
     "output_type": "stream",
     "text": [
      " 15%|█▌        | 3/20 [00:32<03:11, 11.24s/it]"
     ]
    },
    {
     "name": "stdout",
     "output_type": "stream",
     "text": [
      "\n",
      "### ASSISTANT : I understand I need to rewrite the sentence and wrap the named entity with\"<[tag]>\" and \"</[tag]>\" where \"[tag]\" is one of the 18 tags of the OntoNote5 dataset. Now, provide me the sentence ? \n",
      "### INPUT : <start_input> It hurts to think of how many wonderful people in Iraq at the academic community , lawyers , human rights activists , civilians , intellectuals , people -- would now be alive , who have been horribly murdered and tortured and reduced to misery since by a half application of violence through sanctions and overflights . <end_input>\n",
      "### OUTPUT : <start_output> \n",
      "### ASSISTANT : I understand I need to rewrite the sentence and wrap the named entity with\"<[tag]>\" and \"</[tag]>\" where \"[tag]\" is one of the 18 tags of the OntoNote5 dataset. Now, provide me the sentence ? \n",
      "### INPUT : <start_input> It hurts to think of how many wonderful people in Iraq at the academic community , lawyers , human rights activists , civilians , intellectuals , people -- would now be alive , who have been horribly murdered and tortured and reduced to misery since by a half application of violence through sanctions and overflights . <end_input>\n",
      "### OUTPUT : <start_output> \n",
      "### ASSISTANT : I understand I need to rewrite the sentence and wrap the named entity with\"<[tag]>\" and \"</[tag]>\" where \"[tag]\" is one of the 18 tags of the OntoNote5 dataset. Now, provide me the sentence ? \n",
      "### INPUT : <start_input> It hurts to think of how many wonderful people in Iraq at the academic community , lawyers , human rights activists , civilians , intellectuals , people -- would now be alive , who have been horribly murdered and tortured and reduced to misery since by a half application of violence through sanctions and overflights . <end_input>\n",
      "### OUTPUT : <start_output> \n",
      "### ASSISTANT : I understand I need to rewrite the sentence and wrap the named entity with\"<[tag]>\" and \"</[tag]>\" where \"[tag]\" is one of the 18 tags of the Onto \n",
      "\n",
      "### ASSISTANT : I understand I need to rewrite the sentence and wrap the named entity with\"<[tag]>\" and \"</[tag]>\" where \"[tag]\" is one of the 18 tags of the OntoNote5 dataset. Now, provide me the sentence ? \n",
      "### INPUT : <start_input> And with each passing day I would argue to you more important than that missile that Ash would take out on the gantry if it turns up again with each passing day we 're going to find ourselves more and more closer than we were before to the day where that material could be transferred or sold to Al - Queda Presenting a threat far greater than the threat that is posed to us by nuclear weapons aboard ballistic missiles /. <end_input>\n",
      "### OUTPUT : <start_output> \n",
      "### ASSISTANT : I understand I need to rewrite the sentence and wrap the named entity with\"<[tag]>\" and \"</[tag]>\" where \"[tag]\" is one of the 18 tags of the OntoNote5 dataset. Now, provide me the sentence ? \n",
      "### INPUT : <start_input> And with each passing day I would argue to you more important than that missile that Ash would take out on the gantry if it turns up again with each passing day we 're going to find ourselves more and more closer than we were before to the day where that material could be transferred or sold to Al - Queda Presenting a threat far greater than the threat that is posed to us by nuclear weapons aboard ballistic missiles /. <end_input>\n",
      "### OUTPUT : <start_output> \n",
      "### ASSISTANT : I understand I need to rewrite the sentence and wrap the named entity with\"<[tag]>\" and \"</[tag]>\" where \"[tag]\" is one of the 18 tags of the OntoNote5 dataset. Now, provide me the sentence ? \n",
      "### INPUT : <start_input> And with each passing day I would argue to you more important than that missile that Ash would take out on the gantry if it turns up again with each passing day we 're going to find ourselves more and more closer than we were before to the day where that material could be transferred or sold to Al - Queda Presenting a threat far greater than the threat that is posed to us by nuclear weapons aboard"
     ]
    },
    {
     "name": "stderr",
     "output_type": "stream",
     "text": [
      " 20%|██        | 4/20 [00:46<03:17, 12.36s/it]"
     ]
    },
    {
     "name": "stdout",
     "output_type": "stream",
     "text": [
      "\n",
      "### ASSISTANT : I understand I need to rewrite the sentence and wrap the named entity with\"<[tag]>\" and \"</[tag]>\" where \"[tag]\" is one of the 18 tags of the OntoNote5 dataset. Now, provide me the sentence ? \n",
      "### INPUT : <start_input> And with each passing day I would argue to you more important than that missile that Ash would take out on the gantry if it turns up again with each passing day we 're going to find ourselves more and more closer than we were before to the day where that material could be transferred or sold to Al - Queda Presenting a threat far greater than the threat that is posed to us by nuclear weapons aboard ballistic missiles /. <end_input>\n",
      "### OUTPUT : <start_output> \n",
      "### ASSISTANT : I understand I need to rewrite the sentence and wrap the named entity with\"<[tag]>\" and \"</[tag]>\" where \"[tag]\" is one of the 18 tags of the OntoNote5 dataset. Now, provide me the sentence ? \n",
      "### INPUT : <start_input> And with each passing day I would argue to you more important than that missile that Ash would take out on the gantry if it turns up again with each passing day we 're going to find ourselves more and more closer than we were before to the day where that material could be transferred or sold to Al - Queda Presenting a threat far greater than the threat that is posed to us by nuclear weapons aboard ballistic missiles /. <end_input>\n",
      "### OUTPUT : <start_output> \n",
      "### ASSISTANT : I understand I need to rewrite the sentence and wrap the named entity with\"<[tag]>\" and \"</[tag]>\" where \"[tag]\" is one of the 18 tags of the OntoNote5 dataset. Now, provide me the sentence ? \n",
      "### INPUT : <start_input> And with each passing day I would argue to you more important than that missile that Ash would take out on the gantry if it turns up again with each passing day we 're going to find ourselves more and more closer than we were before to the day where that material could be transferred or sold to Al - Queda Presenting a threat far greater than the threat that is posed to us by nuclear weapons aboard \n",
      "\n",
      "### ASSISTANT : I understand I need to rewrite the sentence and wrap the named entity with\"<[tag]>\" and \"</[tag]>\" where \"[tag]\" is one of the 18 tags of the OntoNote5 dataset. Now, provide me the sentence ? \n",
      "### INPUT : <start_input> There are n't enough people during the last few years who actually went out and talked to the innovators who are doing all of these things who are actually reshaping the world /. <end_input>\n",
      "### OUTPUT : <start_output> \n",
      "### ASSISTANT : I understand I need to rewrite the sentence and wrap the named entity with\"<[tag]>\" and \"</[tag]>\" where \"[tag]\" is one of the 18 tags of the OntoNote5 dataset. Now, provide me the sentence ? \n",
      "### INPUT : <start_input> There are n't enough people during the last few years who actually went out and talked to the innovators who are doing all of these things who are actually reshaping the world /. <end_input>\n",
      "### OUTPUT : <start_output> \n",
      "### ASSISTANT : I understand I need to rewrite the sentence and wrap the named entity with\"<[tag]>\" and \"</[tag]>\" where \"[tag]\" is one of the 18 tags of the OntoNote5 dataset. Now, provide me the sentence ? \n",
      "### INPUT : <start_input> There are n't enough people during the last few years who actually went out and talked to the innovators who are doing all of these things who are actually reshaping the world /. <end_input>\n",
      "### OUTPUT : <start_output> \n",
      "### ASSISTANT : I understand I need to rewrite the sentence and wrap the named entity with\"<[tag]>\" and \"</[tag]>\" where \"[tag]\" is one of the 18 tags of the OntoNote5 dataset. Now, provide me the sentence ? \n",
      "### INPUT : <start_input> There are n't enough people during the last few years who actually went out and talked to the innovators who are doing all of these things who are actually reshaping the world /. <end_input>\n",
      "### OUTPUT : <start_output> \n",
      "### ASSIST"
     ]
    },
    {
     "name": "stderr",
     "output_type": "stream",
     "text": [
      " 25%|██▌       | 5/20 [01:02<03:22, 13.53s/it]"
     ]
    },
    {
     "name": "stdout",
     "output_type": "stream",
     "text": [
      "\n",
      "### ASSISTANT : I understand I need to rewrite the sentence and wrap the named entity with\"<[tag]>\" and \"</[tag]>\" where \"[tag]\" is one of the 18 tags of the OntoNote5 dataset. Now, provide me the sentence ? \n",
      "### INPUT : <start_input> There are n't enough people during the last few years who actually went out and talked to the innovators who are doing all of these things who are actually reshaping the world /. <end_input>\n",
      "### OUTPUT : <start_output> \n",
      "### ASSISTANT : I understand I need to rewrite the sentence and wrap the named entity with\"<[tag]>\" and \"</[tag]>\" where \"[tag]\" is one of the 18 tags of the OntoNote5 dataset. Now, provide me the sentence ? \n",
      "### INPUT : <start_input> There are n't enough people during the last few years who actually went out and talked to the innovators who are doing all of these things who are actually reshaping the world /. <end_input>\n",
      "### OUTPUT : <start_output> \n",
      "### ASSISTANT : I understand I need to rewrite the sentence and wrap the named entity with\"<[tag]>\" and \"</[tag]>\" where \"[tag]\" is one of the 18 tags of the OntoNote5 dataset. Now, provide me the sentence ? \n",
      "### INPUT : <start_input> There are n't enough people during the last few years who actually went out and talked to the innovators who are doing all of these things who are actually reshaping the world /. <end_input>\n",
      "### OUTPUT : <start_output> \n",
      "### ASSISTANT : I understand I need to rewrite the sentence and wrap the named entity with\"<[tag]>\" and \"</[tag]>\" where \"[tag]\" is one of the 18 tags of the OntoNote5 dataset. Now, provide me the sentence ? \n",
      "### INPUT : <start_input> There are n't enough people during the last few years who actually went out and talked to the innovators who are doing all of these things who are actually reshaping the world /. <end_input>\n",
      "### OUTPUT : <start_output> \n",
      "### ASSIST \n",
      "\n",
      "### ASSISTANT : I understand I need to rewrite the sentence and wrap the named entity with\"<[tag]>\" and \"</[tag]>\" where \"[tag]\" is one of the 18 tags of the OntoNote5 dataset. Now, provide me the sentence ? \n",
      "### INPUT : <start_input> Uruguay resolutely supports the recovery of China 's status as a signatory country of GATT , and believes that it will make active contributions in the future World Trade Organization . <end_input>\n",
      "### OUTPUT : <start_output> \n",
      "### ASSISTANT : I understand I need to rewrite the sentence and wrap the named entity with\"<[tag]>\" and \"</[tag]>\" where \"[tag]\" is one of the 18 tags of the OntoNote5 dataset. Now, provide me the sentence ? \n",
      "### INPUT : <start_input> Uruguay resolutely supports the recovery of China 's status as a signatory country of GATT , and believes that it will make active contributions in the future World Trade Organization . <end_input>\n",
      "### OUTPUT : <start_output> \n",
      "### ASSISTANT : I understand I need to rewrite the sentence and wrap the named entity with\"<[tag]>\" and \"</[tag]>\" where \"[tag]\" is one of the 18 tags of the OntoNote5 dataset. Now, provide me the sentence ? \n",
      "### INPUT : <start_input> Uruguay resolutely supports the recovery of China 's status as a signatory country of GATT , and believes that it will make active contributions in the future World Trade Organization . <end_input>\n",
      "### OUTPUT : <start_output> \n",
      "### ASSISTANT : I understand I need to rewrite the sentence and wrap the named entity with\"<[tag]>\" and \"</[tag]>\" where \"[tag]\" is one of the 18 tags of the OntoNote5 dataset. Now, provide me the sentence ? \n",
      "### INPUT : <start_input> Uruguay resolutely supports the recovery of China 's status as a signatory country of GATT , and believes that it will make active contributions in the future World Trade Organization . <end_input>\n",
      "### OUTPUT : <start_output> \n",
      "### ASSISTANT : I understand I need to re"
     ]
    },
    {
     "name": "stderr",
     "output_type": "stream",
     "text": [
      " 30%|███       | 6/20 [01:18<03:18, 14.20s/it]"
     ]
    },
    {
     "name": "stdout",
     "output_type": "stream",
     "text": [
      "\n",
      "### ASSISTANT : I understand I need to rewrite the sentence and wrap the named entity with\"<[tag]>\" and \"</[tag]>\" where \"[tag]\" is one of the 18 tags of the OntoNote5 dataset. Now, provide me the sentence ? \n",
      "### INPUT : <start_input> Uruguay resolutely supports the recovery of China 's status as a signatory country of GATT , and believes that it will make active contributions in the future World Trade Organization . <end_input>\n",
      "### OUTPUT : <start_output> \n",
      "### ASSISTANT : I understand I need to rewrite the sentence and wrap the named entity with\"<[tag]>\" and \"</[tag]>\" where \"[tag]\" is one of the 18 tags of the OntoNote5 dataset. Now, provide me the sentence ? \n",
      "### INPUT : <start_input> Uruguay resolutely supports the recovery of China 's status as a signatory country of GATT , and believes that it will make active contributions in the future World Trade Organization . <end_input>\n",
      "### OUTPUT : <start_output> \n",
      "### ASSISTANT : I understand I need to rewrite the sentence and wrap the named entity with\"<[tag]>\" and \"</[tag]>\" where \"[tag]\" is one of the 18 tags of the OntoNote5 dataset. Now, provide me the sentence ? \n",
      "### INPUT : <start_input> Uruguay resolutely supports the recovery of China 's status as a signatory country of GATT , and believes that it will make active contributions in the future World Trade Organization . <end_input>\n",
      "### OUTPUT : <start_output> \n",
      "### ASSISTANT : I understand I need to rewrite the sentence and wrap the named entity with\"<[tag]>\" and \"</[tag]>\" where \"[tag]\" is one of the 18 tags of the OntoNote5 dataset. Now, provide me the sentence ? \n",
      "### INPUT : <start_input> Uruguay resolutely supports the recovery of China 's status as a signatory country of GATT , and believes that it will make active contributions in the future World Trade Organization . <end_input>\n",
      "### OUTPUT : <start_output> \n",
      "### ASSISTANT : I understand I need to re \n",
      "1993 , six cities such as Zhuhai , Foshan , etc. also organized a delegation to advertise in the US and Canada for students studying abroad . "
     ]
    },
    {
     "name": "stderr",
     "output_type": "stream",
     "text": [
      " 35%|███▌      | 7/20 [01:19<02:10, 10.06s/it]"
     ]
    },
    {
     "name": "stdout",
     "output_type": "stream",
     "text": [
      "1993 , six cities such as Zhuhai , Foshan , etc. also organized a delegation to advertise in the US and Canada for students studying abroad .  \n",
      " \" Because this area is a patents minefield , it 's impossible to create a product which from start to finish does n't infringe on anyone else 's patents , \" says Johnsee Lee . "
     ]
    },
    {
     "name": "stderr",
     "output_type": "stream",
     "text": [
      " 40%|████      | 8/20 [01:21<01:27,  7.33s/it]"
     ]
    },
    {
     "name": "stdout",
     "output_type": "stream",
     "text": [
      " \" Because this area is a patents minefield , it 's impossible to create a product which from start to finish does n't infringe on anyone else 's patents , \" says Johnsee Lee .  \n",
      "\n",
      "### ASSISTANT : I understand I need to rewrite the sentence and wrap the named entity with\"<[tag]>\" and \"</[tag]>\" where \"[tag]\" is one of the 18 tags of the OntoNote5 dataset. Now, provide me the sentence ? \n",
      "### INPUT : <start_input> `` Although I am encouraged by the Senate action , '' said Chairman Dan Rostenkowski -LRB- D. , Ill . -RRB- of the House Ways and Means Committee , `` it is uncertain whether a clean bill can be achieved in the upcoming conference with the Senate . '' <end_input>\n",
      "### OUTPUT : <start_output> \n",
      "### ASSISTANT : I understand I need to rewrite the sentence and wrap the named entity with\"<[tag]>\" and \"</[tag]>\" where \"[tag]\" is one of the 18 tags of the OntoNote5 dataset. Now, provide me the sentence ? \n",
      "### INPUT : <start_input> `` Although I am encouraged by the Senate action , '' said Chairman Dan Rostenkowski -LRB- D. , Ill . -RRB- of the House Ways and Means Committee , `` it is uncertain whether a clean bill can be achieved in the upcoming conference with the Senate . '' <end_input>\n",
      "### OUTPUT : <start_output> \n",
      "### ASSISTANT : I understand I need to rewrite the sentence and wrap the named entity with\"<[tag]>\" and \"</[tag]>\" where \"[tag]\" is one of the 18 tags of the OntoNote5 dataset. Now, provide me the sentence ? \n",
      "### INPUT : <start_input> `` Although I am encouraged by the Senate action , '' said Chairman Dan Rostenkowski -LRB- D. , Ill . -RRB- of the House Ways and Means Committee , `` it is uncertain whether a clean bill can be achieved in the upcoming conference with the Senate . '' <end_input>\n",
      "### OUTPUT : <start_output> \n",
      "### ASSISTANT : I understand I need to rewrite the sentence and wrap the named entity with\"<[tag]>\" and \"</[tag]>\" where \"[tag]\" is one of the 18 tags of the OntoNote5 dataset. Now, provide me the sentence ? \n",
      "### IN"
     ]
    },
    {
     "name": "stderr",
     "output_type": "stream",
     "text": [
      " 45%|████▌     | 9/20 [01:34<01:41,  9.18s/it]"
     ]
    },
    {
     "name": "stdout",
     "output_type": "stream",
     "text": [
      "\n",
      "### ASSISTANT : I understand I need to rewrite the sentence and wrap the named entity with\"<[tag]>\" and \"</[tag]>\" where \"[tag]\" is one of the 18 tags of the OntoNote5 dataset. Now, provide me the sentence ? \n",
      "### INPUT : <start_input> `` Although I am encouraged by the Senate action , '' said Chairman Dan Rostenkowski -LRB- D. , Ill . -RRB- of the House Ways and Means Committee , `` it is uncertain whether a clean bill can be achieved in the upcoming conference with the Senate . '' <end_input>\n",
      "### OUTPUT : <start_output> \n",
      "### ASSISTANT : I understand I need to rewrite the sentence and wrap the named entity with\"<[tag]>\" and \"</[tag]>\" where \"[tag]\" is one of the 18 tags of the OntoNote5 dataset. Now, provide me the sentence ? \n",
      "### INPUT : <start_input> `` Although I am encouraged by the Senate action , '' said Chairman Dan Rostenkowski -LRB- D. , Ill . -RRB- of the House Ways and Means Committee , `` it is uncertain whether a clean bill can be achieved in the upcoming conference with the Senate . '' <end_input>\n",
      "### OUTPUT : <start_output> \n",
      "### ASSISTANT : I understand I need to rewrite the sentence and wrap the named entity with\"<[tag]>\" and \"</[tag]>\" where \"[tag]\" is one of the 18 tags of the OntoNote5 dataset. Now, provide me the sentence ? \n",
      "### INPUT : <start_input> `` Although I am encouraged by the Senate action , '' said Chairman Dan Rostenkowski -LRB- D. , Ill . -RRB- of the House Ways and Means Committee , `` it is uncertain whether a clean bill can be achieved in the upcoming conference with the Senate . '' <end_input>\n",
      "### OUTPUT : <start_output> \n",
      "### ASSISTANT : I understand I need to rewrite the sentence and wrap the named entity with\"<[tag]>\" and \"</[tag]>\" where \"[tag]\" is one of the 18 tags of the OntoNote5 dataset. Now, provide me the sentence ? \n",
      "### IN \n",
      "\n",
      "### ASSISTANT : I understand I need to rewrite the sentence and wrap the named entity with\"<[tag]>\" and \"</[tag]>\" where \"[tag]\" is one of the 18 tags of the OntoNote5 dataset. Now, provide me the sentence ? \n",
      "### INPUT : <start_input> Already , CNN is facing stronger competition from Financial News Network Inc. and General Electric Co. 's Consumer News and Business Channel , both of which are likely to pursue more general news in the future . <end_input>\n",
      "### OUTPUT : <start_output> \n",
      "### ASSISTANT : I understand I need to rewrite the sentence and wrap the named entity with\"<[tag]>\" and \"</[tag]>\" where \"[tag]\" is one of the 18 tags of the OntoNote5 dataset. Now, provide me the sentence ? \n",
      "### INPUT : <start_input> Already , CNN is facing stronger competition from Financial News Network Inc. and General Electric Co. 's Consumer News and Business Channel , both of which are likely to pursue more general news in the future . <end_input>\n",
      "### OUTPUT : <start_output> \n",
      "### ASSISTANT : I understand I need to rewrite the sentence and wrap the named entity with\"<[tag]>\" and \"</[tag]>\" where \"[tag]\" is one of the 18 tags of the OntoNote5 dataset. Now, provide me the sentence ? \n",
      "### INPUT : <start_input> Already , CNN is facing stronger competition from Financial News Network Inc. and General Electric Co. 's Consumer News and Business Channel , both of which are likely to pursue more general news in the future . <end_input>\n",
      "### OUTPUT : <start_output> \n",
      "### ASSISTANT : I understand I need to rewrite the sentence and wrap the named entity with\"<[tag]>\" and \"</[tag]>\" where \"[tag]\" is one of the 18 tags of the OntoNote5 dataset. Now, provide me the sentence ? \n",
      "### INPUT : <start_input> Already , CNN is facing stronger competition from Financial News Network Inc. and General Electric Co. 's Consumer News and Business Channel , both of which are likely to pursue more general news in the future . <end_input>\n",
      "### OUT"
     ]
    },
    {
     "name": "stderr",
     "output_type": "stream",
     "text": [
      " 50%|█████     | 10/20 [01:46<01:41, 10.13s/it]"
     ]
    },
    {
     "name": "stdout",
     "output_type": "stream",
     "text": [
      "\n",
      "### ASSISTANT : I understand I need to rewrite the sentence and wrap the named entity with\"<[tag]>\" and \"</[tag]>\" where \"[tag]\" is one of the 18 tags of the OntoNote5 dataset. Now, provide me the sentence ? \n",
      "### INPUT : <start_input> Already , CNN is facing stronger competition from Financial News Network Inc. and General Electric Co. 's Consumer News and Business Channel , both of which are likely to pursue more general news in the future . <end_input>\n",
      "### OUTPUT : <start_output> \n",
      "### ASSISTANT : I understand I need to rewrite the sentence and wrap the named entity with\"<[tag]>\" and \"</[tag]>\" where \"[tag]\" is one of the 18 tags of the OntoNote5 dataset. Now, provide me the sentence ? \n",
      "### INPUT : <start_input> Already , CNN is facing stronger competition from Financial News Network Inc. and General Electric Co. 's Consumer News and Business Channel , both of which are likely to pursue more general news in the future . <end_input>\n",
      "### OUTPUT : <start_output> \n",
      "### ASSISTANT : I understand I need to rewrite the sentence and wrap the named entity with\"<[tag]>\" and \"</[tag]>\" where \"[tag]\" is one of the 18 tags of the OntoNote5 dataset. Now, provide me the sentence ? \n",
      "### INPUT : <start_input> Already , CNN is facing stronger competition from Financial News Network Inc. and General Electric Co. 's Consumer News and Business Channel , both of which are likely to pursue more general news in the future . <end_input>\n",
      "### OUTPUT : <start_output> \n",
      "### ASSISTANT : I understand I need to rewrite the sentence and wrap the named entity with\"<[tag]>\" and \"</[tag]>\" where \"[tag]\" is one of the 18 tags of the OntoNote5 dataset. Now, provide me the sentence ? \n",
      "### INPUT : <start_input> Already , CNN is facing stronger competition from Financial News Network Inc. and General Electric Co. 's Consumer News and Business Channel , both of which are likely to pursue more general news in the future . <end_input>\n",
      "### OUT \n",
      "\n",
      "### ASSISTANT : I understand I need to rewrite the sentence and wrap the named entity with\"<[tag]>\" and \"</[tag]>\" where \"[tag]\" is one of the 18 tags of the OntoNote5 dataset. Now, provide me the sentence ? \n",
      "### INPUT : <start_input> Southmark Corp. said that it filed part of its 10 - K report with the Securities and Exchange Commission , but that the filing does n't include its audited financial statements and related information . <end_input>\n",
      "### OUTPUT : <start_output> \n",
      "### ASSISTANT : I understand I need to rewrite the sentence and wrap the named entity with\"<[tag]>\" and \"</[tag]>\" where \"[tag]\" is one of the 18 tags of the OntoNote5 dataset. Now, provide me the sentence ? \n",
      "### INPUT : <start_input> Southmark Corp. said that it filed part of its 10 - K report with the Securities and Exchange Commission , but that the filing does n't include its audited financial statements and related information . <end_input>\n",
      "### OUTPUT : <start_output> \n",
      "### ASSISTANT : I understand I need to rewrite the sentence and wrap the named entity with\"<[tag]>\" and \"</[tag]>\" where \"[tag]\" is one of the 18 tags of the OntoNote5 dataset. Now, provide me the sentence ? \n",
      "### INPUT : <start_input> Southmark Corp. said that it filed part of its 10 - K report with the Securities and Exchange Commission , but that the filing does n't include its audited financial statements and related information . <end_input>\n",
      "### OUTPUT : <start_output> \n",
      "### ASSISTANT : I understand I need to rewrite the sentence and wrap the named entity with\"<[tag]>\" and \"</[tag]>\" where \"[tag]\" is one of the 18 tags of the OntoNote5 dataset. Now, provide me the sentence ? \n",
      "### INPUT : <start_input> Southmark Corp. said that it filed part of its 10 - K report with the Securities and Exchange Commission , but that the filing does n't include its audited financial statements"
     ]
    },
    {
     "name": "stderr",
     "output_type": "stream",
     "text": [
      " 55%|█████▌    | 11/20 [02:00<01:42, 11.34s/it]"
     ]
    },
    {
     "name": "stdout",
     "output_type": "stream",
     "text": [
      "\n",
      "### ASSISTANT : I understand I need to rewrite the sentence and wrap the named entity with\"<[tag]>\" and \"</[tag]>\" where \"[tag]\" is one of the 18 tags of the OntoNote5 dataset. Now, provide me the sentence ? \n",
      "### INPUT : <start_input> Southmark Corp. said that it filed part of its 10 - K report with the Securities and Exchange Commission , but that the filing does n't include its audited financial statements and related information . <end_input>\n",
      "### OUTPUT : <start_output> \n",
      "### ASSISTANT : I understand I need to rewrite the sentence and wrap the named entity with\"<[tag]>\" and \"</[tag]>\" where \"[tag]\" is one of the 18 tags of the OntoNote5 dataset. Now, provide me the sentence ? \n",
      "### INPUT : <start_input> Southmark Corp. said that it filed part of its 10 - K report with the Securities and Exchange Commission , but that the filing does n't include its audited financial statements and related information . <end_input>\n",
      "### OUTPUT : <start_output> \n",
      "### ASSISTANT : I understand I need to rewrite the sentence and wrap the named entity with\"<[tag]>\" and \"</[tag]>\" where \"[tag]\" is one of the 18 tags of the OntoNote5 dataset. Now, provide me the sentence ? \n",
      "### INPUT : <start_input> Southmark Corp. said that it filed part of its 10 - K report with the Securities and Exchange Commission , but that the filing does n't include its audited financial statements and related information . <end_input>\n",
      "### OUTPUT : <start_output> \n",
      "### ASSISTANT : I understand I need to rewrite the sentence and wrap the named entity with\"<[tag]>\" and \"</[tag]>\" where \"[tag]\" is one of the 18 tags of the OntoNote5 dataset. Now, provide me the sentence ? \n",
      "### INPUT : <start_input> Southmark Corp. said that it filed part of its 10 - K report with the Securities and Exchange Commission , but that the filing does n't include its audited financial statements \n",
      "\n",
      "### ASSISTANT : I understand I need to rewrite the sentence and wrap the named entity with\"<[tag]>\" and \"</[tag]>\" where \"[tag]\" is one of the 18 tags of the OntoNote5 dataset. Now, provide me the sentence ? \n",
      "### INPUT : <start_input> To do this , he emphasized , \" We must control the desert that is day - by - day eroding arable land , develop new sources of water , and carry out new engineering projects . \" <end_input>\n",
      "### OUTPUT : <start_output> \n",
      "### ASSISTANT : I understand I need to rewrite the sentence and wrap the named entity with\"<[tag]>\" and \"</[tag]>\" where \"[tag]\" is one of the 18 tags of the OntoNote5 dataset. Now, provide me the sentence ? \n",
      "### INPUT : <start_input> To do this , he emphasized , \" We must control the desert that is day - by - day eroding arable land , develop new sources of water , and carry out new engineering projects . \" <end_input>\n",
      "### OUTPUT : <start_output> \n",
      "### ASSISTANT : I understand I need to rewrite the sentence and wrap the named entity with\"<[tag]>\" and \"</[tag]>\" where \"[tag]\" is one of the 18 tags of the OntoNote5 dataset. Now, provide me the sentence ? \n",
      "### INPUT : <start_input> To do this , he emphasized , \" We must control the desert that is day - by - day eroding arable land , develop new sources of water , and carry out new engineering projects . \" <end_input>\n",
      "### OUTPUT : <start_output> \n",
      "### ASSISTANT : I understand I need to rewrite the sentence and wrap the named entity with\"<[tag]>\" and \"</[tag]>\" where \"[tag]\" is one of the 18 tags of the OntoNote5 dataset. Now, provide me the sentence ? \n",
      "### INPUT : <start_input> To do this , he emphasized , \" We must control the desert that is day - by - day eroding arable land , develop new sources of water , and carry out new engineering projects . \" <end_input>\n",
      "### OUTPUT : <start"
     ]
    },
    {
     "name": "stderr",
     "output_type": "stream",
     "text": [
      " 60%|██████    | 12/20 [02:14<01:37, 12.16s/it]"
     ]
    },
    {
     "name": "stdout",
     "output_type": "stream",
     "text": [
      "\n",
      "### ASSISTANT : I understand I need to rewrite the sentence and wrap the named entity with\"<[tag]>\" and \"</[tag]>\" where \"[tag]\" is one of the 18 tags of the OntoNote5 dataset. Now, provide me the sentence ? \n",
      "### INPUT : <start_input> To do this , he emphasized , \" We must control the desert that is day - by - day eroding arable land , develop new sources of water , and carry out new engineering projects . \" <end_input>\n",
      "### OUTPUT : <start_output> \n",
      "### ASSISTANT : I understand I need to rewrite the sentence and wrap the named entity with\"<[tag]>\" and \"</[tag]>\" where \"[tag]\" is one of the 18 tags of the OntoNote5 dataset. Now, provide me the sentence ? \n",
      "### INPUT : <start_input> To do this , he emphasized , \" We must control the desert that is day - by - day eroding arable land , develop new sources of water , and carry out new engineering projects . \" <end_input>\n",
      "### OUTPUT : <start_output> \n",
      "### ASSISTANT : I understand I need to rewrite the sentence and wrap the named entity with\"<[tag]>\" and \"</[tag]>\" where \"[tag]\" is one of the 18 tags of the OntoNote5 dataset. Now, provide me the sentence ? \n",
      "### INPUT : <start_input> To do this , he emphasized , \" We must control the desert that is day - by - day eroding arable land , develop new sources of water , and carry out new engineering projects . \" <end_input>\n",
      "### OUTPUT : <start_output> \n",
      "### ASSISTANT : I understand I need to rewrite the sentence and wrap the named entity with\"<[tag]>\" and \"</[tag]>\" where \"[tag]\" is one of the 18 tags of the OntoNote5 dataset. Now, provide me the sentence ? \n",
      "### INPUT : <start_input> To do this , he emphasized , \" We must control the desert that is day - by - day eroding arable land , develop new sources of water , and carry out new engineering projects . \" <end_input>\n",
      "### OUTPUT : <start \n",
      "\n",
      "### ASSISTANT : I understand I need to rewrite the sentence and wrap the named entity with\"<[tag]>\" and \"</[tag]>\" where \"[tag]\" is one of the 18 tags of the OntoNote5 dataset. Now, provide me the sentence ? \n",
      "### INPUT : <start_input> The last thing President Clinton did today before heading to the Mideast is go to church -- appropriate , perhaps , given the enormity of the task he and his national security team face in the days ahead . <end_input>\n",
      "### OUTPUT : <start_output> \n",
      "### ASSISTANT : I understand I need to rewrite the sentence and wrap the named entity with\"<[tag]>\" and \"</[tag]>\" where \"[tag]\" is one of the 18 tags of the OntoNote5 dataset. Now, provide me the sentence ? \n",
      "### INPUT : <start_input> The last thing President Clinton did today before heading to the Mideast is go to church -- appropriate , perhaps , given the enormity of the task he and his national security team face in the days ahead . <end_input>\n",
      "### OUTPUT : <start_output> \n",
      "### ASSISTANT : I understand I need to rewrite the sentence and wrap the named entity with\"<[tag]>\" and \"</[tag]>\" where \"[tag]\" is one of the 18 tags of the OntoNote5 dataset. Now, provide me the sentence ? \n",
      "### INPUT : <start_input> The last thing President Clinton did today before heading to the Mideast is go to church -- appropriate , perhaps , given the enormity of the task he and his national security team face in the days ahead . <end_input>\n",
      "### OUTPUT : <start_output> \n",
      "### ASSISTANT : I understand I need to rewrite the sentence and wrap the named entity with\"<[tag]>\" and \"</[tag]>\" where \"[tag]\" is one of the 18 tags of the OntoNote5 dataset. Now, provide me the sentence ? \n",
      "### INPUT : <start_input> The last thing President Clinton did today before heading to the Mideast is go to church -- appropriate , perhaps , given the enormity of the task he and his national security team face in the days ahead . <end_input>\n",
      "### OUT"
     ]
    },
    {
     "name": "stderr",
     "output_type": "stream",
     "text": [
      " 65%|██████▌   | 13/20 [02:28<01:29, 12.75s/it]"
     ]
    },
    {
     "name": "stdout",
     "output_type": "stream",
     "text": [
      "\n",
      "### ASSISTANT : I understand I need to rewrite the sentence and wrap the named entity with\"<[tag]>\" and \"</[tag]>\" where \"[tag]\" is one of the 18 tags of the OntoNote5 dataset. Now, provide me the sentence ? \n",
      "### INPUT : <start_input> The last thing President Clinton did today before heading to the Mideast is go to church -- appropriate , perhaps , given the enormity of the task he and his national security team face in the days ahead . <end_input>\n",
      "### OUTPUT : <start_output> \n",
      "### ASSISTANT : I understand I need to rewrite the sentence and wrap the named entity with\"<[tag]>\" and \"</[tag]>\" where \"[tag]\" is one of the 18 tags of the OntoNote5 dataset. Now, provide me the sentence ? \n",
      "### INPUT : <start_input> The last thing President Clinton did today before heading to the Mideast is go to church -- appropriate , perhaps , given the enormity of the task he and his national security team face in the days ahead . <end_input>\n",
      "### OUTPUT : <start_output> \n",
      "### ASSISTANT : I understand I need to rewrite the sentence and wrap the named entity with\"<[tag]>\" and \"</[tag]>\" where \"[tag]\" is one of the 18 tags of the OntoNote5 dataset. Now, provide me the sentence ? \n",
      "### INPUT : <start_input> The last thing President Clinton did today before heading to the Mideast is go to church -- appropriate , perhaps , given the enormity of the task he and his national security team face in the days ahead . <end_input>\n",
      "### OUTPUT : <start_output> \n",
      "### ASSISTANT : I understand I need to rewrite the sentence and wrap the named entity with\"<[tag]>\" and \"</[tag]>\" where \"[tag]\" is one of the 18 tags of the OntoNote5 dataset. Now, provide me the sentence ? \n",
      "### INPUT : <start_input> The last thing President Clinton did today before heading to the Mideast is go to church -- appropriate , perhaps , given the enormity of the task he and his national security team face in the days ahead . <end_input>\n",
      "### OUT \n",
      "62,000 people with documents of transfer or employment processed , of which 45.8 % had intermediate or advanced level titles of specialty or profession , and 78 % had an undergraduate or higher degree . "
     ]
    },
    {
     "name": "stderr",
     "output_type": "stream",
     "text": [
      " 70%|███████   | 14/20 [02:30<00:56,  9.45s/it]"
     ]
    },
    {
     "name": "stdout",
     "output_type": "stream",
     "text": [
      "62,000 people with documents of transfer or employment processed , of which 45.8 % had intermediate or advanced level titles of specialty or profession , and 78 % had an undergraduate or higher degree .  \n",
      " <start_output> <start_output> <start_output> <start_output> <start_output> <start_output> <start_output> <start_output> <start_output> <start_output> <start_output> <start_output> <start_output> <start_output> <start_output> <start_output> <start_output> <start_output> <start_output> <start_output> <start_output> <start_output> <start_output> <start_output> <start_output> <start_output> <start_output> <start_output> <start_output> <start_output> <start_output> <start_output> <start_output> <start_output> <start_output> <start_output> <start_output> <start_output> <start_output> <start_output> <start_output> <start_output> <start_output> <start_output> <start_output> <start_output> <start_output> <start_output> <start_output> <start_output> <start_output> <start_output> <start_output> <start_output> <start_output> <start_output> <start_output> <start_output> <start_output> <start_output> <start_output> <start_output> <start_output> <start_output> <start_output> <start_output> <start_output> <start_output> <start_output> <start_output> <start_output> <start_output> <start_output> <start_output> <start_output> <start_output> <start_output> <start_output> <start_output> <start_output> <start_output> <start_output> <start_output> <start_output> <start_output> <start_output> <start_output> <start_output> <start_output> <start_output> <start_output> <start_output> <start_output> <start_output> <start_output> <start_output> <start_output> <start_output> <start_output> <start_output> <start_output> <start_output> <start"
     ]
    },
    {
     "name": "stderr",
     "output_type": "stream",
     "text": [
      " 75%|███████▌  | 15/20 [02:44<00:53, 10.74s/it]"
     ]
    },
    {
     "name": "stdout",
     "output_type": "stream",
     "text": [
      " <start_output> <start_output> <start_output> <start_output> <start_output> <start_output> <start_output> <start_output> <start_output> <start_output> <start_output> <start_output> <start_output> <start_output> <start_output> <start_output> <start_output> <start_output> <start_output> <start_output> <start_output> <start_output> <start_output> <start_output> <start_output> <start_output> <start_output> <start_output> <start_output> <start_output> <start_output> <start_output> <start_output> <start_output> <start_output> <start_output> <start_output> <start_output> <start_output> <start_output> <start_output> <start_output> <start_output> <start_output> <start_output> <start_output> <start_output> <start_output> <start_output> <start_output> <start_output> <start_output> <start_output> <start_output> <start_output> <start_output> <start_output> <start_output> <start_output> <start_output> <start_output> <start_output> <start_output> <start_output> <start_output> <start_output> <start_output> <start_output> <start_output> <start_output> <start_output> <start_output> <start_output> <start_output> <start_output> <start_output> <start_output> <start_output> <start_output> <start_output> <start_output> <start_output> <start_output> <start_output> <start_output> <start_output> <start_output> <start_output> <start_output> <start_output> <start_output> <start_output> <start_output> <start_output> <start_output> <start_output> <start_output> <start_output> <start_output> <start_output> <start_output> <start_output> <start \n",
      " <start_entities>  <start_entity> <start_tag>CARDINAL</start_tag> <start_text>1</start_text> <end_text>1</end_text> <end_tag>CARDINAL</end_tag>  </start_entity>  <start_entity> <start_tag>CARDINAL</start_tag> <start_text>2</start_text> <end_text>2</end_text> <end_tag>CARDINAL</end_tag>  </start_entity>  <start_entity> <start_tag>CARDINAL</start_tag> <start_text>3</start_text> <end_text>3</end_text> <end_tag>CARDINAL</end_tag>  </start_entity>  <start_entity> <start_tag>CARDINAL</start_tag> <start_text>4</start_text> <end_text>4</end_text> <end_tag>CARDINAL</end_tag>  </start_entity>  <start_entity> <start_tag>CARDINAL</start_tag> <start_text>5</start_text> <end_text>5</end_text> <end_tag>CARDINAL</end_tag>  </start_entity>  <start_entity> <start_tag>CARDINAL</start_tag> <start_text>6</start_text> <end_text>6</end_text> <end_tag>CARDINAL</end_tag>  </start_entity>  <start_entity> <start_tag>CARDINAL</start_tag> <start_text>7</start_text> <end_text>7</end_text> <end_tag>CARDINAL</end_tag>  </start_entity>  <start_entity> <start_tag>CARDINAL</start_tag> <start_text>8</start_text> <end_text>8</end_text> <end_tag>CARDINAL</end_tag>  </start_entity>  <start_entity> <start_tag>"
     ]
    },
    {
     "name": "stderr",
     "output_type": "stream",
     "text": [
      " 80%|████████  | 16/20 [02:56<00:45, 11.29s/it]"
     ]
    },
    {
     "name": "stdout",
     "output_type": "stream",
     "text": [
      " <start_entities>  <start_entity> <start_tag>CARDINAL</start_tag> <start_text>1</start_text> <end_text>1</end_text> <end_tag>CARDINAL</end_tag>  </start_entity>  <start_entity> <start_tag>CARDINAL</start_tag> <start_text>2</start_text> <end_text>2</end_text> <end_tag>CARDINAL</end_tag>  </start_entity>  <start_entity> <start_tag>CARDINAL</start_tag> <start_text>3</start_text> <end_text>3</end_text> <end_tag>CARDINAL</end_tag>  </start_entity>  <start_entity> <start_tag>CARDINAL</start_tag> <start_text>4</start_text> <end_text>4</end_text> <end_tag>CARDINAL</end_tag>  </start_entity>  <start_entity> <start_tag>CARDINAL</start_tag> <start_text>5</start_text> <end_text>5</end_text> <end_tag>CARDINAL</end_tag>  </start_entity>  <start_entity> <start_tag>CARDINAL</start_tag> <start_text>6</start_text> <end_text>6</end_text> <end_tag>CARDINAL</end_tag>  </start_entity>  <start_entity> <start_tag>CARDINAL</start_tag> <start_text>7</start_text> <end_text>7</end_text> <end_tag>CARDINAL</end_tag>  </start_entity>  <start_entity> <start_tag>CARDINAL</start_tag> <start_text>8</start_text> <end_text>8</end_text> <end_tag>CARDINAL</end_tag>  </start_entity>  <start_entity> <start_tag> \n",
      "\n",
      "### ASSISTANT : I understand I need to rewrite the sentence and wrap the named entity with\"<[tag]>\" and \"</[tag]>\" where \"[tag]\" is one of the 18 tags of the OntoNote5 dataset. Now, provide me the sentence ? \n",
      "### INPUT : <start_input> `` We got calls from big block houses asking us if we want to make bids on anything , '' said Mr. Weisman , who , happy with his returns on investments chalked up earlier , declined the offers . <end_input>\n",
      "### OUTPUT : <start_output> \n",
      "### ASSISTANT : I understand I need to rewrite the sentence and wrap the named entity with\"<[tag]>\" and \"</[tag]>\" where \"[tag]\" is one of the 18 tags of the OntoNote5 dataset. Now, provide me the sentence ? \n",
      "### INPUT : <start_input> `` We got calls from big block houses asking us if we want to make bids on anything , '' said Mr. Weisman , who , happy with his returns on investments chalked up earlier , declined the offers . <end_input>\n",
      "### OUTPUT : <start_output> \n",
      "### ASSISTANT : I understand I need to rewrite the sentence and wrap the named entity with\"<[tag]>\" and \"</[tag]>\" where \"[tag]\" is one of the 18 tags of the OntoNote5 dataset. Now, provide me the sentence ? \n",
      "### INPUT : <start_input> `` We got calls from big block houses asking us if we want to make bids on anything , '' said Mr. Weisman , who , happy with his returns on investments chalked up earlier , declined the offers . <end_input>\n",
      "### OUTPUT : <start_output> \n",
      "### ASSISTANT : I understand I need to rewrite the sentence and wrap the named entity with\"<[tag]>\" and \"</[tag]>\" where \"[tag]\" is one of the 18 tags of the OntoNote5 dataset. Now, provide me the sentence ? \n",
      "### INPUT : <start_input> `` We got calls from big block houses asking us if we want to make bids on anything , '' said Mr. Weisman , who , happy with his returns on investments chalk"
     ]
    },
    {
     "name": "stderr",
     "output_type": "stream",
     "text": [
      " 85%|████████▌ | 17/20 [03:11<00:36, 12.33s/it]"
     ]
    },
    {
     "name": "stdout",
     "output_type": "stream",
     "text": [
      "\n",
      "### ASSISTANT : I understand I need to rewrite the sentence and wrap the named entity with\"<[tag]>\" and \"</[tag]>\" where \"[tag]\" is one of the 18 tags of the OntoNote5 dataset. Now, provide me the sentence ? \n",
      "### INPUT : <start_input> `` We got calls from big block houses asking us if we want to make bids on anything , '' said Mr. Weisman , who , happy with his returns on investments chalked up earlier , declined the offers . <end_input>\n",
      "### OUTPUT : <start_output> \n",
      "### ASSISTANT : I understand I need to rewrite the sentence and wrap the named entity with\"<[tag]>\" and \"</[tag]>\" where \"[tag]\" is one of the 18 tags of the OntoNote5 dataset. Now, provide me the sentence ? \n",
      "### INPUT : <start_input> `` We got calls from big block houses asking us if we want to make bids on anything , '' said Mr. Weisman , who , happy with his returns on investments chalked up earlier , declined the offers . <end_input>\n",
      "### OUTPUT : <start_output> \n",
      "### ASSISTANT : I understand I need to rewrite the sentence and wrap the named entity with\"<[tag]>\" and \"</[tag]>\" where \"[tag]\" is one of the 18 tags of the OntoNote5 dataset. Now, provide me the sentence ? \n",
      "### INPUT : <start_input> `` We got calls from big block houses asking us if we want to make bids on anything , '' said Mr. Weisman , who , happy with his returns on investments chalked up earlier , declined the offers . <end_input>\n",
      "### OUTPUT : <start_output> \n",
      "### ASSISTANT : I understand I need to rewrite the sentence and wrap the named entity with\"<[tag]>\" and \"</[tag]>\" where \"[tag]\" is one of the 18 tags of the OntoNote5 dataset. Now, provide me the sentence ? \n",
      "### INPUT : <start_input> `` We got calls from big block houses asking us if we want to make bids on anything , '' said Mr. Weisman , who , happy with his returns on investments chalk \n",
      " "
     ]
    },
    {
     "name": "stderr",
     "output_type": "stream",
     "text": [
      " 90%|█████████ | 18/20 [03:12<00:17,  8.75s/it]"
     ]
    },
    {
     "name": "stdout",
     "output_type": "stream",
     "text": [
      "  \n",
      "\n",
      "### ASSISTANT : I understand I need to rewrite the sentence and wrap the named entity with\"<[tag]>\" and \"</[tag]>\" where \"[tag]\" is one of the 18 tags of the OntoNote5 dataset. Now, provide me the sentence ? \n",
      "### INPUT : <start_input> Small state - owned enterprises of Shaanxi account for over ninety percent of the total number of state - owned enterprises , with fixed assets accounting for more than thirty percent , and the number of employees accounting for over fifty percent of the total number . <end_input>\n",
      "### OUTPUT : <start_output> \n",
      "### ASSISTANT : I understand I need to rewrite the sentence and wrap the named entity with\"<[tag]>\" and \"</[tag]>\" where \"[tag]\" is one of the 18 tags of the OntoNote5 dataset. Now, provide me the sentence ? \n",
      "### INPUT : <start_input> Small state - owned enterprises of Shaanxi account for over ninety percent of the total number of state - owned enterprises , with fixed assets accounting for more than thirty percent , and the number of employees accounting for over fifty percent of the total number . <end_input>\n",
      "### OUTPUT : <start_output> \n",
      "### ASSISTANT : I understand I need to rewrite the sentence and wrap the named entity with\"<[tag]>\" and \"</[tag]>\" where \"[tag]\" is one of the 18 tags of the OntoNote5 dataset. Now, provide me the sentence ? \n",
      "### INPUT : <start_input> Small state - owned enterprises of Shaanxi account for over ninety percent of the total number of state - owned enterprises , with fixed assets accounting for more than thirty percent , and the number of employees accounting for over fifty percent of the total number . <end_input>\n",
      "### OUTPUT : <start_output> \n",
      "### ASSISTANT : I understand I need to rewrite the sentence and wrap the named entity with\"<[tag]>\" and \"</[tag]>\" where \"[tag]\" is one of the 18 tags of the OntoNote5 dataset. Now, provide me the sentence ? \n",
      "### INPUT : <start_input> Small state - owned enterprises of Shaanxi account for over ninety percent of the total number"
     ]
    },
    {
     "name": "stderr",
     "output_type": "stream",
     "text": [
      " 95%|█████████▌| 19/20 [03:26<00:10, 10.50s/it]"
     ]
    },
    {
     "name": "stdout",
     "output_type": "stream",
     "text": [
      "\n",
      "### ASSISTANT : I understand I need to rewrite the sentence and wrap the named entity with\"<[tag]>\" and \"</[tag]>\" where \"[tag]\" is one of the 18 tags of the OntoNote5 dataset. Now, provide me the sentence ? \n",
      "### INPUT : <start_input> Small state - owned enterprises of Shaanxi account for over ninety percent of the total number of state - owned enterprises , with fixed assets accounting for more than thirty percent , and the number of employees accounting for over fifty percent of the total number . <end_input>\n",
      "### OUTPUT : <start_output> \n",
      "### ASSISTANT : I understand I need to rewrite the sentence and wrap the named entity with\"<[tag]>\" and \"</[tag]>\" where \"[tag]\" is one of the 18 tags of the OntoNote5 dataset. Now, provide me the sentence ? \n",
      "### INPUT : <start_input> Small state - owned enterprises of Shaanxi account for over ninety percent of the total number of state - owned enterprises , with fixed assets accounting for more than thirty percent , and the number of employees accounting for over fifty percent of the total number . <end_input>\n",
      "### OUTPUT : <start_output> \n",
      "### ASSISTANT : I understand I need to rewrite the sentence and wrap the named entity with\"<[tag]>\" and \"</[tag]>\" where \"[tag]\" is one of the 18 tags of the OntoNote5 dataset. Now, provide me the sentence ? \n",
      "### INPUT : <start_input> Small state - owned enterprises of Shaanxi account for over ninety percent of the total number of state - owned enterprises , with fixed assets accounting for more than thirty percent , and the number of employees accounting for over fifty percent of the total number . <end_input>\n",
      "### OUTPUT : <start_output> \n",
      "### ASSISTANT : I understand I need to rewrite the sentence and wrap the named entity with\"<[tag]>\" and \"</[tag]>\" where \"[tag]\" is one of the 18 tags of the OntoNote5 dataset. Now, provide me the sentence ? \n",
      "### INPUT : <start_input> Small state - owned enterprises of Shaanxi account for over ninety percent of the total number \n",
      "\n",
      "### ASSISTANT : I understand I need to rewrite the sentence and wrap the named entity with\"<[tag]>\" and \"</[tag]>\" where \"[tag]\" is one of the 18 tags of the OntoNote5 dataset. Now, provide me the sentence ? \n",
      "### INPUT : <start_input> In an absolute sense , the US gas price has +already been cheaper than China 's , and in a relative sense , the US gas price is even cheaper . <end_input>\n",
      "### OUTPUT : <start_output> \n",
      "### ASSISTANT : I understand I need to rewrite the sentence and wrap the named entity with\"<[tag]>\" and \"</[tag]>\" where \"[tag]\" is one of the 18 tags of the OntoNote5 dataset. Now, provide me the sentence ? \n",
      "### INPUT : <start_input> In an absolute sense , the US gas price has +already been cheaper than China 's , and in a relative sense , the US gas price is even cheaper . <end_input>\n",
      "### OUTPUT : <start_output> \n",
      "### ASSISTANT : I understand I need to rewrite the sentence and wrap the named entity with\"<[tag]>\" and \"</[tag]>\" where \"[tag]\" is one of the 18 tags of the OntoNote5 dataset. Now, provide me the sentence ? \n",
      "### INPUT : <start_input> In an absolute sense , the US gas price has +already been cheaper than China 's , and in a relative sense , the US gas price is even cheaper . <end_input>\n",
      "### OUTPUT : <start_output> \n",
      "### ASSISTANT : I understand I need to rewrite the sentence and wrap the named entity with\"<[tag]>\" and \"</[tag]>\" where \"[tag]\" is one of the 18 tags of the OntoNote5 dataset. Now, provide me the sentence ? \n",
      "### INPUT : <start_input> In an absolute sense , the US gas price has +already been cheaper than China 's , and in a relative sense , the US gas price is even cheaper . <end_input>\n",
      "### OUTPUT : <start_output> \n",
      "### ASSISTANT : I understand I need to rewrite the sentence and wrap the named entity with\"<["
     ]
    },
    {
     "name": "stderr",
     "output_type": "stream",
     "text": [
      "100%|██████████| 20/20 [03:41<00:00, 11.06s/it]\n"
     ]
    },
    {
     "name": "stdout",
     "output_type": "stream",
     "text": [
      "\n",
      "### ASSISTANT : I understand I need to rewrite the sentence and wrap the named entity with\"<[tag]>\" and \"</[tag]>\" where \"[tag]\" is one of the 18 tags of the OntoNote5 dataset. Now, provide me the sentence ? \n",
      "### INPUT : <start_input> In an absolute sense , the US gas price has +already been cheaper than China 's , and in a relative sense , the US gas price is even cheaper . <end_input>\n",
      "### OUTPUT : <start_output> \n",
      "### ASSISTANT : I understand I need to rewrite the sentence and wrap the named entity with\"<[tag]>\" and \"</[tag]>\" where \"[tag]\" is one of the 18 tags of the OntoNote5 dataset. Now, provide me the sentence ? \n",
      "### INPUT : <start_input> In an absolute sense , the US gas price has +already been cheaper than China 's , and in a relative sense , the US gas price is even cheaper . <end_input>\n",
      "### OUTPUT : <start_output> \n",
      "### ASSISTANT : I understand I need to rewrite the sentence and wrap the named entity with\"<[tag]>\" and \"</[tag]>\" where \"[tag]\" is one of the 18 tags of the OntoNote5 dataset. Now, provide me the sentence ? \n",
      "### INPUT : <start_input> In an absolute sense , the US gas price has +already been cheaper than China 's , and in a relative sense , the US gas price is even cheaper . <end_input>\n",
      "### OUTPUT : <start_output> \n",
      "### ASSISTANT : I understand I need to rewrite the sentence and wrap the named entity with\"<[tag]>\" and \"</[tag]>\" where \"[tag]\" is one of the 18 tags of the OntoNote5 dataset. Now, provide me the sentence ? \n",
      "### INPUT : <start_input> In an absolute sense , the US gas price has +already been cheaper than China 's , and in a relative sense , the US gas price is even cheaper . <end_input>\n",
      "### OUTPUT : <start_output> \n",
      "### ASSISTANT : I understand I need to rewrite the sentence and wrap the named entity with\"<[ \n",
      "      and multi_prompt-get-entities-tagger\n",
      "./ner/saves/datasets/ontonote5_test_1403.pkl\n",
      "<ner.Datasets.OntoNotes5Dataset.OntoNote5Dataset object at 0x7f49b95ed150>\n"
     ]
    },
    {
     "name": "stderr",
     "output_type": "stream",
     "text": [
      "  0%|          | 0/20 [00:00<?, ?it/s]"
     ]
    },
    {
     "name": "stdout",
     "output_type": "stream",
     "text": [
      "%um] %um]  [\n",
      "Output after the first prompt : []\n",
      " \"[]\" : \"H\" ,  \"But\" : \"A\" ,  \"um\" : \"A\" ,  \"Anyway\" : \"A\" ,  \"I\" : \"4\" ,  \"had\" : \"A\" ,  \"been\" : \"A\" ,  \"kind\" : \"A\" ,  \"of\" : \"A\" ,  \"telling\" : \"A\" ,  \"him\" : \"4\" ,  \"that\" : \"A\" ,  \"you\" : \"4\" ,  \"know\" : \"A\" ,  \"from\" : \"A\" ,  \"my\" : \"A\" ,  \"reading\" : \"A\" ,  \"of\" : \"A\" ,  \"the\" : \"A\" ,  \"literature\" : \"A\" ,  \"I\" : \"4\" ,  \"thought\" : \"A\" ,  \"that\" : \"A\" ,  \"this\" : \"A\" ,  \"one\" : \"A\" ,  \"little\" : \"A\" ,  \"alteration\" : \"A\" ,  \"I\" : \"4\" ,  \"had\" : \"A\" ,  \"made\" : \"A\" ,  \"in\" : \"A\" ,  \"my\" : \"A\" ,  \"model\" : \"A\" ,  \"was\" : \"A\" ,  \"kind\" : \"A\" ,  \"of\" : \"A\" ,  \"clever\" : \"A\" ,  \"and\" : \"A\" ,  \"unique\" : \"A\" ,  \".\" : \"A\" ,  \"}\" "
     ]
    },
    {
     "name": "stderr",
     "output_type": "stream",
     "text": [
      "  5%|▌         | 1/20 [00:12<03:54, 12.33s/it]"
     ]
    },
    {
     "name": "stdout",
     "output_type": "stream",
     "text": [
      " \"[]\" : \"H\" ,  \"But\" : \"A\" ,  \"um\" : \"A\" ,  \"Anyway\" : \"A\" ,  \"I\" : \"4\" ,  \"had\" : \"A\" ,  \"been\" : \"A\" ,  \"kind\" : \"A\" ,  \"of\" : \"A\" ,  \"telling\" : \"A\" ,  \"him\" : \"4\" ,  \"that\" : \"A\" ,  \"you\" : \"4\" ,  \"know\" : \"A\" ,  \"from\" : \"A\" ,  \"my\" : \"A\" ,  \"reading\" : \"A\" ,  \"of\" : \"A\" ,  \"the\" : \"A\" ,  \"literature\" : \"A\" ,  \"I\" : \"4\" ,  \"thought\" : \"A\" ,  \"that\" : \"A\" ,  \"this\" : \"A\" ,  \"one\" : \"A\" ,  \"little\" : \"A\" ,  \"alteration\" : \"A\" ,  \"I\" : \"4\" ,  \"had\" : \"A\" ,  \"made\" : \"A\" ,  \"in\" : \"A\" ,  \"my\" : \"A\" ,  \"model\" : \"A\" ,  \"was\" : \"A\" ,  \"kind\" : \"A\" ,  \"of\" : \"A\" ,  \"clever\" : \"A\" ,  \"and\" : \"A\" ,  \"unique\" : \"A\" ,  \".\" : \"A\" ,  \"}\"  {\n",
      "response of tagger : { \"[]\" : \"H\" ,  \"But\" : \"A\" ,  \"um\" : \"A\" ,  \"Anyway\" : \"A\" ,  \"I\" : \"4\" ,  \"had\" : \"A\" ,  \"been\" : \"A\" ,  \"kind\" : \"A\" ,  \"of\" : \"A\" ,  \"telling\" : \"A\" ,  \"him\" : \"4\" ,  \"that\" : \"A\" ,  \"you\" : \"4\" ,  \"know\" : \"A\" ,  \"from\" : \"A\" ,  \"my\" : \"A\" ,  \"reading\" : \"A\" ,  \"of\" : \"A\" ,  \"the\" : \"A\" ,  \"literature\" : \"A\" ,  \"I\" : \"4\" ,  \"thought\" : \"A\" ,  \"that\" : \"A\" ,  \"this\" : \"A\" ,  \"one\" : \"A\" ,  \"little\" : \"A\" ,  \"alteration\" : \"A\" ,  \"I\" : \"4\" ,  \"had\" : \"A\" ,  \"made\" : \"A\" ,  \"in\" : \"A\" ,  \"my\" : \"A\" ,  \"model\" : \"A\" ,  \"was\" : \"A\" ,  \"kind\" : \"A\" ,  \"of\" : \"A\" ,  \"clever\" : \"A\" ,  \"and\" : \"A\" ,  \"unique\" : \"A\" ,  \".\" : \"A\" ,  \"}\n",
      "Michael] Michael]  [\n",
      "Output after the first prompt : []\n",
      " \"[]\" : \"H\"  } "
     ]
    },
    {
     "name": "stderr",
     "output_type": "stream",
     "text": [
      " 10%|█         | 2/20 [00:14<01:57,  6.53s/it]"
     ]
    },
    {
     "name": "stdout",
     "output_type": "stream",
     "text": [
      " \"[]\" : \"H\"  }  {\n",
      "response of tagger : { \"[]\" : \"H\"  }\n",
      "Taiwan] [Ministry of Economic Affairs] [National Science Council] [National Health Research Institutes] [biochip] Taiwan] [Ministry of Economic Affairs] [National Science Council] [National Health Research Institutes] [biochip]  [\n",
      "Output after the first prompt : []\n",
      " \"[]\" : \"E\" } "
     ]
    },
    {
     "name": "stderr",
     "output_type": "stream",
     "text": [
      " 15%|█▌        | 3/20 [00:17<01:24,  4.98s/it]"
     ]
    },
    {
     "name": "stdout",
     "output_type": "stream",
     "text": [
      " \"[]\" : \"E\" }  {\n",
      "response of tagger : { \"[]\" : \"E\" }\n",
      "Japan] [181] [65] [10] Japan] [181] [65] [10]  [\n",
      "Output after the first prompt : []\n",
      " \"[]\" : \"H\"  } "
     ]
    },
    {
     "name": "stderr",
     "output_type": "stream",
     "text": [
      " 20%|██        | 4/20 [00:20<01:06,  4.15s/it]"
     ]
    },
    {
     "name": "stdout",
     "output_type": "stream",
     "text": [
      " \"[]\" : \"H\"  }  {\n",
      "response of tagger : { \"[]\" : \"H\"  }\n",
      "Robert D. Cardillo , Avis , frequent - flier programs , Robert D. Cardillo , Avis , frequent - flier programs , Robert D. Cardillo , Avis , frequent - flier programs , Robert D. Cardillo , Avis , frequent - flier programs , Robert D. Cardillo , Avis , frequent - flier programs , Robert D. Cardillo , Avis , frequent - flier programs , Robert D. Cardillo , Avis , frequent - flier programs , Robert D. Cardillo , Avis , frequent - flier programs , Robert D. Cardillo , Avis , frequent - flier programs , Robert D. Cardillo , Avis , frequent - flier programs , Robert D. Cardillo , Avis , frequent - flier programs , Robert D. Cardillo , Avis , frequent - flier programs , Robert D. Cardillo , Avis , frequent - flier programs , Robert D. Cardillo , Avis , frequent - flier programs , Robert D. Cardillo , Avis , frequent - flier programs , Robert D. Cardillo , Avis , frequent - flier programs , Robert D. Cardillo , Avis , frequent - flier programs , Robert D. Cardillo , Avis , frequent - flier programs , Robert D. Cardillo , Avis , frequent - flier programs , Robert D. Cardillo , Avis , frequent - flier programs , Robert D. Cardillo , Avis , frequent - flier programs , Robert D. Cardillo , Avis , frequent - flier programs , Robert D. Cardillo , Avis , frequent - flier programs , Robert D. Cardillo , Avis , frequent - flier programs , Robert D. Cardillo , Avis , frequent - flier programs , Robert D. Cardillo , Avis , frequent - flier programs , Robert D. Cardillo , Avis , frequent - flier programs , Robert D. Cardillo , Avis , frequent - flier programs , Robert D. Cardillo , Avis , frequent - flier programs , Robert D. Cardillo , Avis , frequent - flier programs , Robert D. Cardillo , Avis , frequent - flier programs , Robert D. Cardillo , Avis , frequent - flier programs , Robert D. Cardillo , Avis , frequent - flier programs , Robert D. Cardillo , Avis , frequent - flier programs ,Robert D. Cardillo , Avis , frequent - flier programs , Robert D. Cardillo , Avis , frequent - flier programs , Robert D. Cardillo , Avis , frequent - flier programs , Robert D. Cardillo , Avis , frequent - flier programs , Robert D. Cardillo , Avis , frequent - flier programs , Robert D. Cardillo , Avis , frequent - flier programs , Robert D. Cardillo , Avis , frequent - flier programs , Robert D. Cardillo , Avis , frequent - flier programs , Robert D. Cardillo , Avis , frequent - flier programs , Robert D. Cardillo , Avis , frequent - flier programs , Robert D. Cardillo , Avis , frequent - flier programs , Robert D. Cardillo , Avis , frequent - flier programs , Robert D. Cardillo , Avis , frequent - flier programs , Robert D. Cardillo , Avis , frequent - flier programs , Robert D. Cardillo , Avis , frequent - flier programs , Robert D. Cardillo , Avis , frequent - flier programs , Robert D. Cardillo , Avis , frequent - flier programs , Robert D. Cardillo , Avis , frequent - flier programs , Robert D. Cardillo , Avis , frequent - flier programs , Robert D. Cardillo , Avis , frequent - flier programs , Robert D. Cardillo , Avis , frequent - flier programs , Robert D. Cardillo , Avis , frequent - flier programs , Robert D. Cardillo , Avis , frequent - flier programs , Robert D. Cardillo , Avis , frequent - flier programs , Robert D. Cardillo , Avis , frequent - flier programs , Robert D. Cardillo , Avis , frequent - flier programs , Robert D. Cardillo , Avis , frequent - flier programs , Robert D. Cardillo , Avis , frequent - flier programs , Robert D. Cardillo , Avis , frequent - flier programs , Robert D. Cardillo , Avis , frequent - flier programs , Robert D. Cardillo , Avis , frequent - flier programs , Robert D. Cardillo , Avis , frequent - flier programs , Robert D. Cardillo , Avis , frequent - flier programs , Robert D. Cardillo , Avis , frequent - flier programs , [\n",
      "Output after the first prompt : []\n",
      " \"[]\" : \"H\" ,  \"Robert D. Cardillo\" : \"4\" ,  \"Avis\" : \"4\" ,  \"vice president of marketing\" : \"4\" ,  \"said\" : \"0\" ,  \"``\" : \"0\" ,  \"The proliferation and costs attached to -LCB- frequent - flier programs -RCB- have significantly diminished their value .\" : \"0\" } "
     ]
    },
    {
     "name": "stderr",
     "output_type": "stream",
     "text": [
      " 25%|██▌       | 5/20 [00:40<02:26,  9.76s/it]"
     ]
    },
    {
     "name": "stdout",
     "output_type": "stream",
     "text": [
      " \"[]\" : \"H\" ,  \"Robert D. Cardillo\" : \"4\" ,  \"Avis\" : \"4\" ,  \"vice president of marketing\" : \"4\" ,  \"said\" : \"0\" ,  \"``\" : \"0\" ,  \"The proliferation and costs attached to -LCB- frequent - flier programs -RCB- have significantly diminished their value .\" : \"0\" }  {\n",
      "response of tagger : { \"[]\" : \"H\" ,  \"Robert D. Cardillo\" : \"4\" ,  \"Avis\" : \"4\" ,  \"vice president of marketing\" : \"4\" ,  \"said\" : \"0\" ,  \"``\" : \"0\" ,  \"The proliferation and costs attached to -LCB- frequent - flier programs -RCB- have significantly diminished their value .\" : \"0\" }\n",
      "Janet , the normal pop star , and among others -LRB- and perhaps the most notable in this context -RRB- one she calls `` Strawberry , '' who is geared towards explicit sexual activities .] Janet , the normal pop star , and among others -LRB- and perhaps the most notable in this context -RRB- one she calls `` Strawberry , '' who is geared towards explicit sexual activities .]  [\n",
      "Output after the first prompt : []\n",
      " \"[]\" : \"H\" ,  \"Janet\" : \"4\" ,  \"the\" : \"0\" ,  \"normal\" : \"0\" ,  \"pop\" : \"0\" ,  \"star\" : \"0\" ,  \"and\" : \"0\" ,  \"among\" : \"0\" ,  \"others\" : \"0\" ,  \"LRB\" : \"0\" ,  \"and\" : \"0\" ,  \"perhaps\" : \"0\" ,  \"the\" : \"0\" ,  \"most\" : \"0\" ,  \"notable\" : \"0\" ,  \"in\" : \"0\" ,  \"this\" : \"0\" ,  \"context\" : \"0\" ,  \"one\" : \"0\" ,  \"she\" : \"4\" ,  \"calls\" : \"0\" ,  \"Strawberry\" : \"4\" ,  \"who\" : \"0\" ,  \"is\" : \"0\" ,  \"geared\" : \"0\" ,  \"towards\" : \"0\" ,  \"explicit\" : \"0\" ,  \"sexual\" : \"0\" ,  \"activities\" : \"0\" ,  \".\" : \"0\"  } "
     ]
    },
    {
     "name": "stderr",
     "output_type": "stream",
     "text": [
      " 30%|███       | 6/20 [00:52<02:25, 10.42s/it]"
     ]
    },
    {
     "name": "stdout",
     "output_type": "stream",
     "text": [
      " \"[]\" : \"H\" ,  \"Janet\" : \"4\" ,  \"the\" : \"0\" ,  \"normal\" : \"0\" ,  \"pop\" : \"0\" ,  \"star\" : \"0\" ,  \"and\" : \"0\" ,  \"among\" : \"0\" ,  \"others\" : \"0\" ,  \"LRB\" : \"0\" ,  \"and\" : \"0\" ,  \"perhaps\" : \"0\" ,  \"the\" : \"0\" ,  \"most\" : \"0\" ,  \"notable\" : \"0\" ,  \"in\" : \"0\" ,  \"this\" : \"0\" ,  \"context\" : \"0\" ,  \"one\" : \"0\" ,  \"she\" : \"4\" ,  \"calls\" : \"0\" ,  \"Strawberry\" : \"4\" ,  \"who\" : \"0\" ,  \"is\" : \"0\" ,  \"geared\" : \"0\" ,  \"towards\" : \"0\" ,  \"explicit\" : \"0\" ,  \"sexual\" : \"0\" ,  \"activities\" : \"0\" ,  \".\" : \"0\"  }  {\n",
      "response of tagger : { \"[]\" : \"H\" ,  \"Janet\" : \"4\" ,  \"the\" : \"0\" ,  \"normal\" : \"0\" ,  \"pop\" : \"0\" ,  \"star\" : \"0\" ,  \"and\" : \"0\" ,  \"among\" : \"0\" ,  \"others\" : \"0\" ,  \"LRB\" : \"0\" ,  \"and\" : \"0\" ,  \"perhaps\" : \"0\" ,  \"the\" : \"0\" ,  \"most\" : \"0\" ,  \"notable\" : \"0\" ,  \"in\" : \"0\" ,  \"this\" : \"0\" ,  \"context\" : \"0\" ,  \"one\" : \"0\" ,  \"she\" : \"4\" ,  \"calls\" : \"0\" ,  \"Strawberry\" : \"4\" ,  \"who\" : \"0\" ,  \"is\" : \"0\" ,  \"geared\" : \"0\" ,  \"towards\" : \"0\" ,  \"explicit\" : \"0\" ,  \"sexual\" : \"0\" ,  \"activities\" : \"0\" ,  \".\" : \"0\"  }\n",
      "Johnsee Lee, US, microarray chips, 250000, 1.2 million] Johnsee Lee, US, microarray chips, 250000, 1.2 million]  [\n",
      "Output after the first prompt : []\n",
      " \"[]\" : \"H\"  } "
     ]
    },
    {
     "name": "stderr",
     "output_type": "stream",
     "text": [
      " 35%|███▌      | 7/20 [00:54<01:42,  7.91s/it]"
     ]
    },
    {
     "name": "stdout",
     "output_type": "stream",
     "text": [
      " \"[]\" : \"H\"  }  {\n",
      "response of tagger : { \"[]\" : \"H\"  }\n",
      "Li Mingbin, Li Minghui, Li Yingzhen] Li Mingbin, Li Minghui, Li Yingzhen]  [\n",
      "Output after the first prompt : []\n",
      " \"[]\" : \"H\"  } "
     ]
    },
    {
     "name": "stderr",
     "output_type": "stream",
     "text": [
      " 40%|████      | 8/20 [00:57<01:14,  6.19s/it]"
     ]
    },
    {
     "name": "stdout",
     "output_type": "stream",
     "text": [
      " \"[]\" : \"H\"  }  {\n",
      "response of tagger : { \"[]\" : \"H\"  }\n",
      "Kuo, TGS] Kuo, TGS]  [\n",
      "Output after the first prompt : []\n",
      " \"[]\" : \"H\"  } "
     ]
    },
    {
     "name": "stderr",
     "output_type": "stream",
     "text": [
      " 45%|████▌     | 9/20 [00:59<00:53,  4.89s/it]"
     ]
    },
    {
     "name": "stdout",
     "output_type": "stream",
     "text": [
      " \"[]\" : \"H\"  }  {\n",
      "response of tagger : { \"[]\" : \"H\"  }\n",
      "Bolar] [Macrodantin] [Health and Human Services Department] [Inspector General] [FDA] [Mr. Nesbit] [Macrodantin] [Health and Human Services Department] [Inspector General] [FDA] [Mr. Nesbit] [Macrodantin] [Health and Human Services Department] [Inspector General] [FDA] [Mr. Nesbit] [Macrodantin] [Health and Human Services Department] [Inspector General] [FDA] [Mr. Nesbit] [Macrodantin] [Health and Human Services Department] [Inspector General] [FDA] [Mr. Nesbit] [Macrodantin] [Health and Human Services Department] [Inspector General] [FDA] [Mr. Nesbit] [Macrodantin] [Health and Human Services Department] [Inspector General] [FDA] [Mr. Nesbit] [Macrodantin] [Health and Human Services Department] [Inspector General] [FDA] [Mr. Nesbit] [Macrodantin] [Health and Human Services Department] [Inspector General] [FDA] [Mr. Nesbit] [Macrodantin] [Health and Human Services Department] [Inspector General] [FDA] [Mr. Nesbit] [Macrodantin] [Health and Human Services Department] [Inspector General] [FDA] [Mr. Nesbit] [Macrodantin] [Health and Human Services Department] [Inspector General] [FDA] [Mr. Nesbit] [Macrodantin] [Health and Human Services Department] [Inspector General] [FDA] [Mr. Nesbit] [Macrodantin] [Health and Human Services Department] [Inspector General] [FDA] [Mr. Nesbit] [Macrodantin] [Health and Human Services Department] [Inspector General] [FDA] [Mr. Nesbit] [Macrodantin] [Health and Human Services Department] [Inspector General] [FDA] [Mr. Nesbit] [Macrodantin] [Health and Human Services Department] [Inspector General] [FDA] [Mr. Nesbit] [Macrodantin] [Health and Human Services Department] [InspectorBolar] [Macrodantin] [Health and Human Services Department] [Inspector General] [FDA] [Mr. Nesbit] [Macrodantin] [Health and Human Services Department] [Inspector General] [FDA] [Mr. Nesbit] [Macrodantin] [Health and Human Services Department] [Inspector General] [FDA] [Mr. Nesbit] [Macrodantin] [Health and Human Services Department] [Inspector General] [FDA] [Mr. Nesbit] [Macrodantin] [Health and Human Services Department] [Inspector General] [FDA] [Mr. Nesbit] [Macrodantin] [Health and Human Services Department] [Inspector General] [FDA] [Mr. Nesbit] [Macrodantin] [Health and Human Services Department] [Inspector General] [FDA] [Mr. Nesbit] [Macrodantin] [Health and Human Services Department] [Inspector General] [FDA] [Mr. Nesbit] [Macrodantin] [Health and Human Services Department] [Inspector General] [FDA] [Mr. Nesbit] [Macrodantin] [Health and Human Services Department] [Inspector General] [FDA] [Mr. Nesbit] [Macrodantin] [Health and Human Services Department] [Inspector General] [FDA] [Mr. Nesbit] [Macrodantin] [Health and Human Services Department] [Inspector General] [FDA] [Mr. Nesbit] [Macrodantin] [Health and Human Services Department] [Inspector General] [FDA] [Mr. Nesbit] [Macrodantin] [Health and Human Services Department] [Inspector General] [FDA] [Mr. Nesbit] [Macrodantin] [Health and Human Services Department] [Inspector General] [FDA] [Mr. Nesbit] [Macrodantin] [Health and Human Services Department] [Inspector General] [FDA] [Mr. Nesbit] [Macrodantin] [Health and Human Services Department] [Inspector General] [FDA] [Mr. Nesbit] [Macrodantin] [Health and Human Services Department] [Inspector [\n",
      "Output after the first prompt : []\n",
      " \"[]\" : \"H\" ,  \"Bolar\" : \"B\" ,  \"the\" : \"O\" ,  \"subject\" : \"O\" ,  \"of\" : \"O\" ,  \"a\" : \"O\" ,  \"criminal\" : \"O\" ,  \"investigation\" : \"O\" ,  \"by\" : \"O\" ,  \"the\" : \"O\" ,  \"FDA\" : \"B\" ,  \"and\" : \"O\" ,  \"the\" : \"O\" ,  \"Inspector\" : \"O\" ,  \"General\" : \"O\" ,  \"s\" : \"O\" ,  \"office\" : \"O\" ,  \"of\" : \"O\" ,  \"the\" : \"O\" ,  \"Health\" : \"O\" ,  \"and\" : \"O\" ,  \"Human\" : \"O\" ,  \"Services\" : \"O\" ,  \"Department\" : \"B\" ,  \"only\" : \"O\" ,  \"agreed\" : \"O\" ,  \"to\" : \"O\" ,  \"recall\" : \"O\" ,  \"two\" : \"C\" ,  \"strengths\" : \"O\" ,  \"of\" : \"O\" ,  \"its\" : \"O\" ,  \"version\" : \"O\" ,  \"of\" : \"O\" ,  \"Macrodantin\" : \"B\" ,  \"``\" : \"O\" ,  \"as\" : \"O\" ,  \"far\" : \"O\" ,  \"down\" : \"O\" ,  \"as\" : \"O\" ,  \"direct\" : \"O\" ,  \"customers\" : \"O\" ,  \"``\" : \"O\" ,  \"mostly\" : \"O\" ,  \"wholesalers\" : \"O\" ,  \"``\" : \"O\" ,  \"Mr\" : \"O\" ,  \"Nesbit\" : \"B\" ,  \"said\" : \"O\" ,  \".\" : \"O\" } "
     ]
    },
    {
     "name": "stderr",
     "output_type": "stream",
     "text": [
      " 50%|█████     | 10/20 [01:28<02:04, 12.42s/it]"
     ]
    },
    {
     "name": "stdout",
     "output_type": "stream",
     "text": [
      " \"[]\" : \"H\" ,  \"Bolar\" : \"B\" ,  \"the\" : \"O\" ,  \"subject\" : \"O\" ,  \"of\" : \"O\" ,  \"a\" : \"O\" ,  \"criminal\" : \"O\" ,  \"investigation\" : \"O\" ,  \"by\" : \"O\" ,  \"the\" : \"O\" ,  \"FDA\" : \"B\" ,  \"and\" : \"O\" ,  \"the\" : \"O\" ,  \"Inspector\" : \"O\" ,  \"General\" : \"O\" ,  \"s\" : \"O\" ,  \"office\" : \"O\" ,  \"of\" : \"O\" ,  \"the\" : \"O\" ,  \"Health\" : \"O\" ,  \"and\" : \"O\" ,  \"Human\" : \"O\" ,  \"Services\" : \"O\" ,  \"Department\" : \"B\" ,  \"only\" : \"O\" ,  \"agreed\" : \"O\" ,  \"to\" : \"O\" ,  \"recall\" : \"O\" ,  \"two\" : \"C\" ,  \"strengths\" : \"O\" ,  \"of\" : \"O\" ,  \"its\" : \"O\" ,  \"version\" : \"O\" ,  \"of\" : \"O\" ,  \"Macrodantin\" : \"B\" ,  \"``\" : \"O\" ,  \"as\" : \"O\" ,  \"far\" : \"O\" ,  \"down\" : \"O\" ,  \"as\" : \"O\" ,  \"direct\" : \"O\" ,  \"customers\" : \"O\" ,  \"``\" : \"O\" ,  \"mostly\" : \"O\" ,  \"wholesalers\" : \"O\" ,  \"``\" : \"O\" ,  \"Mr\" : \"O\" ,  \"Nesbit\" : \"B\" ,  \"said\" : \"O\" ,  \".\" : \"O\" }  {\n",
      "response of tagger : { \"[]\" : \"H\" ,  \"Bolar\" : \"B\" ,  \"the\" : \"O\" ,  \"subject\" : \"O\" ,  \"of\" : \"O\" ,  \"a\" : \"O\" ,  \"criminal\" : \"O\" ,  \"investigation\" : \"O\" ,  \"by\" : \"O\" ,  \"the\" : \"O\" ,  \"FDA\" : \"B\" ,  \"and\" : \"O\" ,  \"the\" : \"O\" ,  \"Inspector\" : \"O\" ,  \"General\" : \"O\" ,  \"s\" : \"O\" ,  \"office\" : \"O\" ,  \"of\" : \"O\" ,  \"the\" : \"O\" ,  \"Health\" : \"O\" ,  \"and\" : \"O\" ,  \"Human\" : \"O\" ,  \"Services\" : \"O\" ,  \"Department\" : \"B\" ,  \"only\" : \"O\" ,  \"agreed\" : \"O\" ,  \"to\" : \"O\" ,  \"recall\" : \"O\" ,  \"two\" : \"C\" ,  \"strengths\" : \"O\" ,  \"of\" : \"O\" ,  \"its\" : \"O\" ,  \"version\" : \"O\" ,  \"of\" : \"O\" ,  \"Macrodantin\" : \"B\" ,  \"``\" : \"O\" ,  \"as\" : \"O\" ,  \"far\" : \"O\" ,  \"down\" : \"O\" ,  \"as\" : \"O\" ,  \"direct\" : \"O\" ,  \"customers\" : \"O\" ,  \"``\" : \"O\" ,  \"mostly\" : \"O\" ,  \"wholesalers\" : \"O\" ,  \"``\" : \"O\" ,  \"Mr\" : \"O\" ,  \"Nesbit\" : \"B\" ,  \"said\" : \"O\" ,  \".\" : \"O\" }\n",
      "Zaire, Mobutu, Savimbi, Angola, U.S., Angola, civil war] Zaire, Mobutu, Savimbi, Angola, U.S., Angola, civil war]  [\n",
      "Output after the first prompt : []\n",
      " } "
     ]
    },
    {
     "name": "stderr",
     "output_type": "stream",
     "text": [
      " 55%|█████▌    | 11/20 [01:31<01:25,  9.50s/it]"
     ]
    },
    {
     "name": "stdout",
     "output_type": "stream",
     "text": [
      " }  {\n",
      "response of tagger : { }\n",
      "[\"enterprises\", \"ORG\"], [\"enterprises\", \"ORG\"], [\"enterprises\", \"ORG\"], [\"enterprises\", \"ORG\"], [\"enterprises\", \"ORG\"], [\"enterprises\", \"ORG\"], [\"enterprises\", \"ORG\"], [\"enterprises\", \"ORG\"], [\"enterprises\", \"ORG\"], [\"enterprises\", \"ORG\"], [\"enterprises\", \"ORG\"], [\"enterprises\", \"ORG\"], [\"enterprises\", \"ORG\"], [\"enterprises\", \"ORG\"], [\"enterprises\", \"ORG\"], [\"enterprises\", \"ORG\"], [\"enterprises\", \"ORG\"], [\"enterprises\", \"ORG\"], [\"enterprises\", \"ORG\"], [\"enterprises\", \"ORG\"], [\"enterprises\", \"ORG\"], [\"enterprises\", \"ORG\"], [\"enterprises\", \"ORG\"], [\"enterprises\", \"ORG\"], [\"enterprises\", \"ORG\"], [\"enterprises\", \"ORG\"], [\"enterprises\", \"ORG\"], [\"enterprises\", \"ORG\"], [\"enterprises\", \"ORG\"], [\"enterprises\", \"ORG\"], [\"enterprises\", \"ORG\"], [\"enterprises\", \"ORG\"], [\"enterprises\", \"ORG\"], [\"enterprises\", \"ORG\"], [\"enterprises\", \"ORG\"], [\"enterprises\", \"ORG\"], [\"enterprises\", \"ORG\"], [\"enterprises\", \"ORG\"], [\"enterprises\", \"ORG\"], [\"enterprises\", \"ORG\"], [\"enterprises\", \"ORG\"], [\"enterprises\", \"ORG\"], [\"enterprises\", \"ORG\"], [\"enterprises\", \"ORG\"], [\"enterprises\", \"ORG\"], [\"enterprises\", \"ORG\"], [\"enterprises\", \"ORG\"], [\"enterprises\", \"ORG\"], [\"enterprises\", \"ORG\"], [\"enterprises\", \"ORG\"], [\"enterprises\", \"ORG\"], [\"enterprises\", \"ORG\"], [\"enterprises\", \"ORG\"], [\"enterprises\", \"ORG\"], [\"enterprises\", \"ORG\"], [\"enterprises\", \"ORG\"], [\"enterprises\", \"ORG\"], [\"enterprises\", \"ORG\"], [\"enterprises\", \"ORG\"], [\"enterprises\", \"ORG\"], [\"enterprises\", \"ORG\"], [\"enterprises\", \"ORG\"], [\"enterprises\", \"ORG\"], [\"enterprises\", \"ORG\"],[\"enterprises\", \"ORG\"], [\"enterprises\", \"ORG\"], [\"enterprises\", \"ORG\"], [\"enterprises\", \"ORG\"], [\"enterprises\", \"ORG\"], [\"enterprises\", \"ORG\"], [\"enterprises\", \"ORG\"], [\"enterprises\", \"ORG\"], [\"enterprises\", \"ORG\"], [\"enterprises\", \"ORG\"], [\"enterprises\", \"ORG\"], [\"enterprises\", \"ORG\"], [\"enterprises\", \"ORG\"], [\"enterprises\", \"ORG\"], [\"enterprises\", \"ORG\"], [\"enterprises\", \"ORG\"], [\"enterprises\", \"ORG\"], [\"enterprises\", \"ORG\"], [\"enterprises\", \"ORG\"], [\"enterprises\", \"ORG\"], [\"enterprises\", \"ORG\"], [\"enterprises\", \"ORG\"], [\"enterprises\", \"ORG\"], [\"enterprises\", \"ORG\"], [\"enterprises\", \"ORG\"], [\"enterprises\", \"ORG\"], [\"enterprises\", \"ORG\"], [\"enterprises\", \"ORG\"], [\"enterprises\", \"ORG\"], [\"enterprises\", \"ORG\"], [\"enterprises\", \"ORG\"], [\"enterprises\", \"ORG\"], [\"enterprises\", \"ORG\"], [\"enterprises\", \"ORG\"], [\"enterprises\", \"ORG\"], [\"enterprises\", \"ORG\"], [\"enterprises\", \"ORG\"], [\"enterprises\", \"ORG\"], [\"enterprises\", \"ORG\"], [\"enterprises\", \"ORG\"], [\"enterprises\", \"ORG\"], [\"enterprises\", \"ORG\"], [\"enterprises\", \"ORG\"], [\"enterprises\", \"ORG\"], [\"enterprises\", \"ORG\"], [\"enterprises\", \"ORG\"], [\"enterprises\", \"ORG\"], [\"enterprises\", \"ORG\"], [\"enterprises\", \"ORG\"], [\"enterprises\", \"ORG\"], [\"enterprises\", \"ORG\"], [\"enterprises\", \"ORG\"], [\"enterprises\", \"ORG\"], [\"enterprises\", \"ORG\"], [\"enterprises\", \"ORG\"], [\"enterprises\", \"ORG\"], [\"enterprises\", \"ORG\"], [\"enterprises\", \"ORG\"], [\"enterprises\", \"ORG\"], [\"enterprises\", \"ORG\"], [\"enterprises\", \"ORG\"], [\"enterprises\", \"ORG\"], [\"enterprises\", \"ORG\"], [\"enterprises\", \"ORG\"], [\n",
      "Output after the first prompt : []\n",
      " \"[]\" : \"H\"  } "
     ]
    },
    {
     "name": "stderr",
     "output_type": "stream",
     "text": [
      " 60%|██████    | 12/20 [01:47<01:31, 11.49s/it]"
     ]
    },
    {
     "name": "stdout",
     "output_type": "stream",
     "text": [
      " \"[]\" : \"H\"  }  {\n",
      "response of tagger : { \"[]\" : \"H\"  }\n",
      "Russia, India, Putin] Russia, India, Putin]  [\n",
      "Output after the first prompt : []\n",
      " \"[]\" : \"H\" ,  \"In\" : \"A\" ,  \"fact\" : \"A\" ,  \"his\" : \"A\" ,  \"visit\" : \"A\" ,  \"has\" : \"A\" ,  \"somewhat\" : \"A\" ,  \"been\" : \"A\" ,  \"ignored\" : \"A\" ,  \"and\" : \"A\" ,  \"in\" : \"A\" ,  \"fact\" : \"A\" ,  \"the\" : \"A\" ,  \"main\" : \"A\" ,  \"news\" : \"A\" ,  \"story\" : \"A\" ,  \"here\" : \"A\" ,  \"in\" : \"A\" ,  \"India\" : \"E\" ,  \"has\" : \"A\" ,  \"been\" : \"A\" ,  \"sort\" : \"A\" ,  \"of\" : \"A\" ,  \"a\" : \"A\" ,  \"local\" : \"A\" ,  \"controversy\" : \"A\" ,  \"over\" : \"A\" ,  \"the\" : \"A\" ,  \"roll\" : \"A\" ,  \"-\" : \"A\" ,  \"back\" : \"A\" ,  \"of\" : \"A\" ,  \"fuel\" : \"A\" ,  \"prices\" : \"A\" ,  \"rather\" : \"A\" ,  \"than\" : \"A\" ,  \"Mr\" : \"A\" ,  \"Putin\" : \"B\" ,  \"'s\" : \"A\" ,  \"visit\" : \"A\" ,  \" , \" : \"A\" ,  \"but\" : \"A\" ,  \"he\" : \"A\" ,  \"did\" : \"A\" ,  \"do\" : \"A\" ,  \"what\" : \"A\" ,  \"he\" : \"A\" ,  \"had\" : \"A\" ,  \"to\" : \"A\" ,  \"do\" : \"A\" ,  \"and\" : \"A\" ,  \"he\" : \"A\" ,  \"certainly\" : \"A\" ,  \"strengthened\" : \"A\" ,  \"ties\" : \"A\" ,  \""
     ]
    },
    {
     "name": "stderr",
     "output_type": "stream",
     "text": [
      " 65%|██████▌   | 13/20 [01:59<01:20, 11.45s/it]"
     ]
    },
    {
     "name": "stdout",
     "output_type": "stream",
     "text": [
      " \"[]\" : \"H\" ,  \"In\" : \"A\" ,  \"fact\" : \"A\" ,  \"his\" : \"A\" ,  \"visit\" : \"A\" ,  \"has\" : \"A\" ,  \"somewhat\" : \"A\" ,  \"been\" : \"A\" ,  \"ignored\" : \"A\" ,  \"and\" : \"A\" ,  \"in\" : \"A\" ,  \"fact\" : \"A\" ,  \"the\" : \"A\" ,  \"main\" : \"A\" ,  \"news\" : \"A\" ,  \"story\" : \"A\" ,  \"here\" : \"A\" ,  \"in\" : \"A\" ,  \"India\" : \"E\" ,  \"has\" : \"A\" ,  \"been\" : \"A\" ,  \"sort\" : \"A\" ,  \"of\" : \"A\" ,  \"a\" : \"A\" ,  \"local\" : \"A\" ,  \"controversy\" : \"A\" ,  \"over\" : \"A\" ,  \"the\" : \"A\" ,  \"roll\" : \"A\" ,  \"-\" : \"A\" ,  \"back\" : \"A\" ,  \"of\" : \"A\" ,  \"fuel\" : \"A\" ,  \"prices\" : \"A\" ,  \"rather\" : \"A\" ,  \"than\" : \"A\" ,  \"Mr\" : \"A\" ,  \"Putin\" : \"B\" ,  \"'s\" : \"A\" ,  \"visit\" : \"A\" ,  \" , \" : \"A\" ,  \"but\" : \"A\" ,  \"he\" : \"A\" ,  \"did\" : \"A\" ,  \"do\" : \"A\" ,  \"what\" : \"A\" ,  \"he\" : \"A\" ,  \"had\" : \"A\" ,  \"to\" : \"A\" ,  \"do\" : \"A\" ,  \"and\" : \"A\" ,  \"he\" : \"A\" ,  \"certainly\" : \"A\" ,  \"strengthened\" : \"A\" ,  \"ties\" : \"A\" ,  \" {\n",
      "response of tagger : {}\n",
      "European , air , time , low , budget , game , shows , variety , hours , movies , talk , shows , American , counterparts] European , air , time , low , budget , game , shows , variety , hours , movies , talk , shows , American , counterparts]  [\n",
      "Output after the first prompt : []\n",
      " \"[]\" : \"H\" } "
     ]
    },
    {
     "name": "stderr",
     "output_type": "stream",
     "text": [
      " 70%|███████   | 14/20 [02:01<00:51,  8.59s/it]"
     ]
    },
    {
     "name": "stdout",
     "output_type": "stream",
     "text": [
      " \"[]\" : \"H\" }  {\n",
      "response of tagger : { \"[]\" : \"H\" }\n",
      "Sen. Mitchell] Sen. Mitchell]  [\n",
      "Output after the first prompt : []\n",
      " \"[]\" : \"H\" ,  \"There\" : \"E\" ,  \"have\" : \"E\" ,  \"been\" : \"E\" ,  \"many\" : \"E\" ,  \"preposterous\" : \"E\" ,  \"reasons\" : \"E\" ,  \"advanced\" : \"E\" ,  \"to\" : \"E\" ,  \"support\" : \"E\" ,  \"a\" : \"E\" ,  \"capital\" : \"E\" ,  \"-\" : \"E\" ,  \"gains\" : \"E\" ,  \"tax\" : \"E\" ,  \"cut\" : \"E\" ,  \" , \" : \"E\" ,  \"Sen.\" : \"E\" ,  \"Mitchell\" : \"E\" ,  \"said\" : \"E\" ,  \"during\" : \"E\" ,  \"his\" : \"E\" ,  \"television\" : \"E\" ,  \"appearance\" : \"E\" ,  \" , \" : \"E\" ,  \" `` \" : \"E\" ,  \"but\" : \"E\" ,  \"I\" : \"E\" ,  \"suggest\" : \"E\" ,  \"that\" : \"E\" ,  \"is\" : \"E\" ,  \"perhaps\" : \"E\" ,  \"more\" : \"E\" ,  \"than\" : \"E\" ,  \"any\" : \"E\" ,  \"of\" : \"E\" ,  \"the\" : \"E\" ,  \"others\" : \"E\" ,  \" . \" : \"E\" ,  \" \" : \"E\" ,  \" \" : \"E\" ,  \" \" : \"E\" ,  \" \" : \"E\" ,  \" \" : \"E\" ,  \" \" : \"E\" ,  \" \" : \"E\" ,  \" \" : \"E\" ,  \" \" : \"E\" ,  \" \" : \"E\" ,  \" \" : \"E\" ,  \" \" : \"E\" ,  \" \" : \"E\" ,  \" \" : \"E\" ,  \" \" : \"E\" ,  \" \" : \"E\" ,  \" \" : \"E\" ,  \" \" : \"E\" , "
     ]
    },
    {
     "name": "stderr",
     "output_type": "stream",
     "text": [
      " 75%|███████▌  | 15/20 [02:12<00:47,  9.41s/it]"
     ]
    },
    {
     "name": "stdout",
     "output_type": "stream",
     "text": [
      " \"[]\" : \"H\" ,  \"There\" : \"E\" ,  \"have\" : \"E\" ,  \"been\" : \"E\" ,  \"many\" : \"E\" ,  \"preposterous\" : \"E\" ,  \"reasons\" : \"E\" ,  \"advanced\" : \"E\" ,  \"to\" : \"E\" ,  \"support\" : \"E\" ,  \"a\" : \"E\" ,  \"capital\" : \"E\" ,  \"-\" : \"E\" ,  \"gains\" : \"E\" ,  \"tax\" : \"E\" ,  \"cut\" : \"E\" ,  \" , \" : \"E\" ,  \"Sen.\" : \"E\" ,  \"Mitchell\" : \"E\" ,  \"said\" : \"E\" ,  \"during\" : \"E\" ,  \"his\" : \"E\" ,  \"television\" : \"E\" ,  \"appearance\" : \"E\" ,  \" , \" : \"E\" ,  \" `` \" : \"E\" ,  \"but\" : \"E\" ,  \"I\" : \"E\" ,  \"suggest\" : \"E\" ,  \"that\" : \"E\" ,  \"is\" : \"E\" ,  \"perhaps\" : \"E\" ,  \"more\" : \"E\" ,  \"than\" : \"E\" ,  \"any\" : \"E\" ,  \"of\" : \"E\" ,  \"the\" : \"E\" ,  \"others\" : \"E\" ,  \" . \" : \"E\" ,  \" \" : \"E\" ,  \" \" : \"E\" ,  \" \" : \"E\" ,  \" \" : \"E\" ,  \" \" : \"E\" ,  \" \" : \"E\" ,  \" \" : \"E\" ,  \" \" : \"E\" ,  \" \" : \"E\" ,  \" \" : \"E\" ,  \" \" : \"E\" ,  \" \" : \"E\" ,  \" \" : \"E\" ,  \" \" : \"E\" ,  \" \" : \"E\" ,  \" \" : \"E\" ,  \" \" : \"E\" ,  \" \" : \"E\" ,  {\n",
      "response of tagger : {}\n",
      "%uh] %uh]  [\n",
      "Output after the first prompt : []\n",
      " \"[]\" : \"H\" ,  \"the\" : \"0\" ,  \"following\" : \"0\" ,  \"sentence\" : \"0\" ,  \"there\" : \"0\" ,  \"would\" : \"0\" ,  \"be\" : \"0\" ,  \"a\" : \"0\" ,  \"minimum\" : \"0\" ,  \"amount\" : \"0\" ,  \"of\" : \"0\" ,  \"work\" : \"0\" ,  \"of\" : \"0\" ,  \"about\" : \"0\" ,  \"%uh\" : \"7\" ,  \"a\" : \"0\" ,  \"day\" : \"0\" ,  \"a\" : \"0\" ,  \"week\" : \"0\" ,  \"for\" : \"0\" ,  \"the\" : \"0\" ,  \"next\" : \"0\" ,  \"two\" : \"0\" ,  \"three\" : \"0\" ,  \"years\" : \"0\" ,  \"mhm\" : \"0\" ,  \"Which\" : \"0\" ,  \"is\" : \"0\" ,  \"sufficient\" : \"0\" ,  \"to\" : \"0\" ,  \"pay\" : \"0\" ,  \"all\" : \"0\" ,  \"my\" : \"0\" ,  \"bills\" : \"0\" ,  \"then\" : \"0\" } "
     ]
    },
    {
     "name": "stderr",
     "output_type": "stream",
     "text": [
      " 80%|████████  | 16/20 [02:19<00:35,  8.83s/it]"
     ]
    },
    {
     "name": "stdout",
     "output_type": "stream",
     "text": [
      " \"[]\" : \"H\" ,  \"the\" : \"0\" ,  \"following\" : \"0\" ,  \"sentence\" : \"0\" ,  \"there\" : \"0\" ,  \"would\" : \"0\" ,  \"be\" : \"0\" ,  \"a\" : \"0\" ,  \"minimum\" : \"0\" ,  \"amount\" : \"0\" ,  \"of\" : \"0\" ,  \"work\" : \"0\" ,  \"of\" : \"0\" ,  \"about\" : \"0\" ,  \"%uh\" : \"7\" ,  \"a\" : \"0\" ,  \"day\" : \"0\" ,  \"a\" : \"0\" ,  \"week\" : \"0\" ,  \"for\" : \"0\" ,  \"the\" : \"0\" ,  \"next\" : \"0\" ,  \"two\" : \"0\" ,  \"three\" : \"0\" ,  \"years\" : \"0\" ,  \"mhm\" : \"0\" ,  \"Which\" : \"0\" ,  \"is\" : \"0\" ,  \"sufficient\" : \"0\" ,  \"to\" : \"0\" ,  \"pay\" : \"0\" ,  \"all\" : \"0\" ,  \"my\" : \"0\" ,  \"bills\" : \"0\" ,  \"then\" : \"0\" }  {\n",
      "response of tagger : { \"[]\" : \"H\" ,  \"the\" : \"0\" ,  \"following\" : \"0\" ,  \"sentence\" : \"0\" ,  \"there\" : \"0\" ,  \"would\" : \"0\" ,  \"be\" : \"0\" ,  \"a\" : \"0\" ,  \"minimum\" : \"0\" ,  \"amount\" : \"0\" ,  \"of\" : \"0\" ,  \"work\" : \"0\" ,  \"of\" : \"0\" ,  \"about\" : \"0\" ,  \"%uh\" : \"7\" ,  \"a\" : \"0\" ,  \"day\" : \"0\" ,  \"a\" : \"0\" ,  \"week\" : \"0\" ,  \"for\" : \"0\" ,  \"the\" : \"0\" ,  \"next\" : \"0\" ,  \"two\" : \"0\" ,  \"three\" : \"0\" ,  \"years\" : \"0\" ,  \"mhm\" : \"0\" ,  \"Which\" : \"0\" ,  \"is\" : \"0\" ,  \"sufficient\" : \"0\" ,  \"to\" : \"0\" ,  \"pay\" : \"0\" ,  \"all\" : \"0\" ,  \"my\" : \"0\" ,  \"bills\" : \"0\" ,  \"then\" : \"0\" }\n",
      "%um , %uh , the main reason for that is I had not really anticipated a few expenses that recently came up %ah . %uh , related to a couple of burglaries that I had ] %um , %uh , the main reason for that is I had not really anticipated a few expenses that recently came up %ah . %uh , related to a couple of burglaries that I had ]  [\n",
      "Output after the first prompt : []\n",
      " \"[]\" : \"1\" ,  \"It\" : \"4\" ,  \"s\" : \"4\" ,  \"just\" : \"4\" ,  \"But\" : \"4\" ,  \"%um\" : \"4\" ,  \"%uh\" : \"4\" ,  \"%uh\" : \"4\" ,  \", \" : \"4\" ,  \"the\" : \"4\" ,  \"main\" : \"4\" ,  \"reason\" : \"4\" ,  \"for\" : \"4\" ,  \"that\" : \"4\" ,  \"is\" : \"4\" ,  \"I\" : \"4\" ,  \"had\" : \"4\" ,  \"not\" : \"4\" ,  \"really\" : \"4\" ,  \"anticipated\" : \"4\" ,  \"a\" : \"4\" ,  \"few\" : \"4\" ,  \"expenses\" : \"4\" ,  \"that\" : \"4\" ,  \"recently\" : \"4\" ,  \"came\" : \"4\" ,  \"up\" : \"4\" ,  \"%ah\" : \"4\" ,  \".\" : \"4\" ,  \"related\" : \"4\" ,  \"to\" : \"4\" ,  \"a\" : \"4\" ,  \"couple\" : \"4\" ,  \"of\" : \"4\" ,  \"burglaries\" : \"4\" ,  \"that\" : \"4\" ,  \"I\" : \"4\" ,  \"had\" : \"4\" ,  \".\" : \"4\" ,  \"}\" "
     ]
    },
    {
     "name": "stderr",
     "output_type": "stream",
     "text": [
      " 85%|████████▌ | 17/20 [02:28<00:26,  8.89s/it]"
     ]
    },
    {
     "name": "stdout",
     "output_type": "stream",
     "text": [
      " \"[]\" : \"1\" ,  \"It\" : \"4\" ,  \"s\" : \"4\" ,  \"just\" : \"4\" ,  \"But\" : \"4\" ,  \"%um\" : \"4\" ,  \"%uh\" : \"4\" ,  \"%uh\" : \"4\" ,  \", \" : \"4\" ,  \"the\" : \"4\" ,  \"main\" : \"4\" ,  \"reason\" : \"4\" ,  \"for\" : \"4\" ,  \"that\" : \"4\" ,  \"is\" : \"4\" ,  \"I\" : \"4\" ,  \"had\" : \"4\" ,  \"not\" : \"4\" ,  \"really\" : \"4\" ,  \"anticipated\" : \"4\" ,  \"a\" : \"4\" ,  \"few\" : \"4\" ,  \"expenses\" : \"4\" ,  \"that\" : \"4\" ,  \"recently\" : \"4\" ,  \"came\" : \"4\" ,  \"up\" : \"4\" ,  \"%ah\" : \"4\" ,  \".\" : \"4\" ,  \"related\" : \"4\" ,  \"to\" : \"4\" ,  \"a\" : \"4\" ,  \"couple\" : \"4\" ,  \"of\" : \"4\" ,  \"burglaries\" : \"4\" ,  \"that\" : \"4\" ,  \"I\" : \"4\" ,  \"had\" : \"4\" ,  \".\" : \"4\" ,  \"}\"  {\n",
      "response of tagger : { \"[]\" : \"1\" ,  \"It\" : \"4\" ,  \"s\" : \"4\" ,  \"just\" : \"4\" ,  \"But\" : \"4\" ,  \"%um\" : \"4\" ,  \"%uh\" : \"4\" ,  \"%uh\" : \"4\" ,  \", \" : \"4\" ,  \"the\" : \"4\" ,  \"main\" : \"4\" ,  \"reason\" : \"4\" ,  \"for\" : \"4\" ,  \"that\" : \"4\" ,  \"is\" : \"4\" ,  \"I\" : \"4\" ,  \"had\" : \"4\" ,  \"not\" : \"4\" ,  \"really\" : \"4\" ,  \"anticipated\" : \"4\" ,  \"a\" : \"4\" ,  \"few\" : \"4\" ,  \"expenses\" : \"4\" ,  \"that\" : \"4\" ,  \"recently\" : \"4\" ,  \"came\" : \"4\" ,  \"up\" : \"4\" ,  \"%ah\" : \"4\" ,  \".\" : \"4\" ,  \"related\" : \"4\" ,  \"to\" : \"4\" ,  \"a\" : \"4\" ,  \"couple\" : \"4\" ,  \"of\" : \"4\" ,  \"burglaries\" : \"4\" ,  \"that\" : \"4\" ,  \"I\" : \"4\" ,  \"had\" : \"4\" ,  \".\" : \"4\" ,  \"}\n",
      "Sadr City] [Mahdi Army] [ransom] Sadr City] [Mahdi Army] [ransom]  [\n",
      "Output after the first prompt : []\n",
      " \"[]\" : \"H\"  } "
     ]
    },
    {
     "name": "stderr",
     "output_type": "stream",
     "text": [
      " 90%|█████████ | 18/20 [02:30<00:13,  6.76s/it]"
     ]
    },
    {
     "name": "stdout",
     "output_type": "stream",
     "text": [
      " \"[]\" : \"H\"  }  {\n",
      "response of tagger : { \"[]\" : \"H\"  }\n",
      "Sovereignty , statehood , power , people , democratic , structures , sovereignty , human , value] Sovereignty , statehood , power , people , democratic , structures , sovereignty , human , value]  [\n",
      "Output after the first prompt : []\n",
      " \"[]\" : \"H\" } "
     ]
    },
    {
     "name": "stderr",
     "output_type": "stream",
     "text": [
      " 95%|█████████▌| 19/20 [02:32<00:05,  5.31s/it]"
     ]
    },
    {
     "name": "stdout",
     "output_type": "stream",
     "text": [
      " \"[]\" : \"H\" }  {\n",
      "response of tagger : { \"[]\" : \"H\" }\n",
      "BMEC] [Johnsee Lee] [biochip] [contract manufacture] BMEC] [Johnsee Lee] [biochip] [contract manufacture]  [\n",
      "Output after the first prompt : []\n",
      " \"[]\" : \"H\" } "
     ]
    },
    {
     "name": "stderr",
     "output_type": "stream",
     "text": [
      "100%|██████████| 20/20 [02:34<00:00,  4.25s/it]"
     ]
    },
    {
     "name": "stdout",
     "output_type": "stream",
     "text": [
      " \"[]\" : \"H\" }  {\n",
      "response of tagger : { \"[]\" : \"H\" }\n"
     ]
    },
    {
     "name": "stderr",
     "output_type": "stream",
     "text": [
      "100%|██████████| 20/20 [02:34<00:00,  7.72s/it]"
     ]
    },
    {
     "name": "stdout",
     "output_type": "stream",
     "text": [
      "results : [[], [('enterprises', 'ORG')], [], [], [('Optics Letters', 'PER')], [], [], [('company', 'ORG'), ('Gulf', 'ORG')], [('New York Times', 'ORG')], [('businessmen', 'PER'), ('People', 'ORG'), ('Group', 'ORG')], [], [('ASKO', 'ORG'), ('Ahold', 'ORG')], [], [], [], [], [], [], [('Washington Post Co.', 'ORG')], []]\n",
      "results : [[], [], [], [], [], [], [], [], [], [], [], [], [], [], [], [], [], [], [], []]\n",
      "results : [[], [], [], [], [], [], [], [], [], [('the', 'ORG'), ('subject', 'ORG'), ('of', 'ORG'), ('a', 'ORG'), ('criminal', 'ORG'), ('investigation', 'ORG'), ('by', 'ORG'), ('and', 'ORG'), ('Inspector', 'ORG'), ('General', 'ORG'), ('s', 'ORG'), ('office', 'ORG'), ('Health', 'ORG'), ('Human', 'ORG'), ('Services', 'ORG'), ('only', 'ORG'), ('agreed', 'ORG'), ('to', 'ORG'), ('recall', 'ORG'), ('strengths', 'ORG'), ('its', 'ORG'), ('version', 'ORG'), ('``', 'ORG'), ('as', 'ORG'), ('far', 'ORG'), ('down', 'ORG'), ('direct', 'ORG'), ('customers', 'ORG'), ('mostly', 'ORG'), ('wholesalers', 'ORG'), ('Mr', 'ORG'), ('said', 'ORG'), ('.', 'ORG')], [], [], [], [], [], [], [], [], [], []]\n"
     ]
    },
    {
     "name": "stderr",
     "output_type": "stream",
     "text": [
      "\n",
      "/home/ubuntu/.local/lib/python3.10/site-packages/numpy/core/_methods.py:269: RuntimeWarning: Degrees of freedom <= 0 for slice\n",
      "  ret = _var(a, axis=axis, dtype=dtype, out=out, ddof=ddof,\n",
      "/home/ubuntu/.local/lib/python3.10/site-packages/numpy/core/_methods.py:261: RuntimeWarning: invalid value encountered in scalar divide\n",
      "  ret = ret.dtype.type(ret / rcount)\n",
      "/home/ubuntu/.local/lib/python3.10/site-packages/numpy/core/_methods.py:269: RuntimeWarning: Degrees of freedom <= 0 for slice\n",
      "  ret = _var(a, axis=axis, dtype=dtype, out=out, ddof=ddof,\n",
      "/home/ubuntu/.local/lib/python3.10/site-packages/numpy/core/_methods.py:261: RuntimeWarning: invalid value encountered in scalar divide\n",
      "  ret = ret.dtype.type(ret / rcount)\n",
      "/home/ubuntu/.local/lib/python3.10/site-packages/numpy/core/_methods.py:269: RuntimeWarning: Degrees of freedom <= 0 for slice\n",
      "  ret = _var(a, axis=axis, dtype=dtype, out=out, ddof=ddof,\n",
      "/home/ubuntu/.local/lib/python3.10/site-packages/numpy/core/_methods.py:261: RuntimeWarning: invalid value encountered in scalar divide\n",
      "  ret = ret.dtype.type(ret / rcount)\n"
     ]
    },
    {
     "data": {
      "text/html": [
       "<div>\n",
       "<style scoped>\n",
       "    .dataframe tbody tr th:only-of-type {\n",
       "        vertical-align: middle;\n",
       "    }\n",
       "\n",
       "    .dataframe tbody tr th {\n",
       "        vertical-align: top;\n",
       "    }\n",
       "\n",
       "    .dataframe thead th {\n",
       "        text-align: right;\n",
       "    }\n",
       "</style>\n",
       "<table border=\"1\" class=\"dataframe\">\n",
       "  <thead>\n",
       "    <tr style=\"text-align: right;\">\n",
       "      <th></th>\n",
       "      <th>f1_mean</th>\n",
       "      <th>f1_conf_inter</th>\n",
       "      <th>model</th>\n",
       "      <th>noshots</th>\n",
       "      <th>prompt_technique</th>\n",
       "      <th>few_shot_tecnique</th>\n",
       "      <th>nb_few_shots</th>\n",
       "      <th>precision</th>\n",
       "      <th>plus_plus</th>\n",
       "      <th>verifier</th>\n",
       "      <th>len_data_train</th>\n",
       "      <th>len_data_test</th>\n",
       "      <th>nb_test_run</th>\n",
       "      <th>confidence_interval</th>\n",
       "      <th>distribution_used</th>\n",
       "      <th>precision_mean</th>\n",
       "      <th>precision_conf_inter</th>\n",
       "      <th>recall_mean</th>\n",
       "      <th>recall_conf_inter</th>\n",
       "    </tr>\n",
       "  </thead>\n",
       "  <tbody>\n",
       "    <tr>\n",
       "      <th>0</th>\n",
       "      <td>0.065</td>\n",
       "      <td>(nan, nan)</td>\n",
       "      <td>mistral-7b-v0.1</td>\n",
       "      <td>False</td>\n",
       "      <td>discussion</td>\n",
       "      <td>no-shots</td>\n",
       "      <td>5</td>\n",
       "      <td>False</td>\n",
       "      <td>True</td>\n",
       "      <td>None</td>\n",
       "      <td>1383</td>\n",
       "      <td>20</td>\n",
       "      <td>1</td>\n",
       "      <td>0.95</td>\n",
       "      <td>Student</td>\n",
       "      <td>0.094</td>\n",
       "      <td>(nan, nan)</td>\n",
       "      <td>0.05</td>\n",
       "      <td>(nan, nan)</td>\n",
       "    </tr>\n",
       "    <tr>\n",
       "      <th>1</th>\n",
       "      <td>0.000</td>\n",
       "      <td>(nan, nan)</td>\n",
       "      <td>mistral-7b-v0.1</td>\n",
       "      <td>False</td>\n",
       "      <td>wrapper</td>\n",
       "      <td>no-shots</td>\n",
       "      <td>5</td>\n",
       "      <td>False</td>\n",
       "      <td>True</td>\n",
       "      <td>None</td>\n",
       "      <td>1383</td>\n",
       "      <td>20</td>\n",
       "      <td>1</td>\n",
       "      <td>0.95</td>\n",
       "      <td>Student</td>\n",
       "      <td>0.000</td>\n",
       "      <td>(nan, nan)</td>\n",
       "      <td>0.00</td>\n",
       "      <td>(nan, nan)</td>\n",
       "    </tr>\n",
       "    <tr>\n",
       "      <th>2</th>\n",
       "      <td>0.000</td>\n",
       "      <td>(nan, nan)</td>\n",
       "      <td>mistral-7b-v0.1</td>\n",
       "      <td>False</td>\n",
       "      <td>multi_prompt-get-entities-tagger</td>\n",
       "      <td>no-shots</td>\n",
       "      <td>5</td>\n",
       "      <td>False</td>\n",
       "      <td>True</td>\n",
       "      <td>None</td>\n",
       "      <td>1383</td>\n",
       "      <td>20</td>\n",
       "      <td>1</td>\n",
       "      <td>0.95</td>\n",
       "      <td>Student</td>\n",
       "      <td>0.000</td>\n",
       "      <td>(nan, nan)</td>\n",
       "      <td>0.00</td>\n",
       "      <td>(nan, nan)</td>\n",
       "    </tr>\n",
       "  </tbody>\n",
       "</table>\n",
       "</div>"
      ],
      "text/plain": [
       "   f1_mean f1_conf_inter            model  noshots  \\\n",
       "0    0.065    (nan, nan)  mistral-7b-v0.1    False   \n",
       "1    0.000    (nan, nan)  mistral-7b-v0.1    False   \n",
       "2    0.000    (nan, nan)  mistral-7b-v0.1    False   \n",
       "\n",
       "                   prompt_technique few_shot_tecnique  nb_few_shots  \\\n",
       "0                        discussion          no-shots             5   \n",
       "1                           wrapper          no-shots             5   \n",
       "2  multi_prompt-get-entities-tagger          no-shots             5   \n",
       "\n",
       "   precision  plus_plus verifier  len_data_train  len_data_test  nb_test_run  \\\n",
       "0      False       True     None            1383             20            1   \n",
       "1      False       True     None            1383             20            1   \n",
       "2      False       True     None            1383             20            1   \n",
       "\n",
       "   confidence_interval distribution_used  precision_mean precision_conf_inter  \\\n",
       "0                 0.95           Student           0.094           (nan, nan)   \n",
       "1                 0.95           Student           0.000           (nan, nan)   \n",
       "2                 0.95           Student           0.000           (nan, nan)   \n",
       "\n",
       "   recall_mean recall_conf_inter  \n",
       "0         0.05        (nan, nan)  \n",
       "1         0.00        (nan, nan)  \n",
       "2         0.00        (nan, nan)  "
      ]
     },
     "execution_count": 1,
     "metadata": {},
     "output_type": "execute_result"
    }
   ],
   "source": [
    "# ToDo \n",
    "from llm.LLMModel import *\n",
    "from ner.llm_ner.prompt_techniques.pt_abstract import PromptTechnique\n",
    "from ner.llm_ner.prompt_techniques.pt_discussion import PT_OutputList\n",
    "from ner.llm_ner.prompt_techniques.pt_gpt_ner import PT_GPT_NER\n",
    "from ner.llm_ner.prompt_techniques.pt_wrapper import PT_Wrapper\n",
    "from ner.llm_ner.prompt_techniques.pt_multi_pt import PT_2Time_Tagger\n",
    "from ner.llm_ner.few_shots_techniques import *\n",
    "from ner.llm_ner.prompts import *\n",
    "%reload_ext autoreload\n",
    "%autoreload 2\n",
    "\n",
    "\n",
    "model = MistralAI()\n",
    "plus_plus = True\n",
    "pts = [\n",
    "#     PT_GPT_NER, \n",
    "       PT_OutputList, \n",
    "       PT_Wrapper, \n",
    "       PT_2Time_Tagger]\n",
    "results, results_df = model.classical_test_ontonote5(pts = pts, fsts = [FST_NoShots],  nb_run_by_test=1, plus_plus= plus_plus, test_size = 20)\n",
    "results_df"
   ]
  },
  {
   "cell_type": "code",
   "execution_count": null,
   "metadata": {},
   "outputs": [],
   "source": [
    "# ToDo \n",
    "from llm.LLMModel import *\n",
    "from ner.llm_ner.prompt_techniques.pt_abstract import PromptTechnique\n",
    "from ner.llm_ner.prompt_techniques.pt_discussion import PT_OutputList\n",
    "from ner.llm_ner.prompt_techniques.pt_gpt_ner import PT_GPT_NER\n",
    "from ner.llm_ner.prompt_techniques.pt_wrapper import PT_Wrapper\n",
    "from ner.llm_ner.few_shots_techniques import *\n",
    "%reload_ext autoreload\n",
    "%autoreload 2\n",
    "\n",
    "model = MistralAI()\n",
    "model.load_finetuned_model(\"discussion\", 10000)\n",
    "\n",
    "results, results_df = model.classical_test(pts = [PT_OutputList], fsts = [FST_Entity, FST_Sentence], nb_run_by_test=4)\n",
    "results_df"
   ]
  },
  {
   "cell_type": "code",
   "execution_count": null,
   "metadata": {},
   "outputs": [],
   "source": []
  }
 ],
 "metadata": {
  "kernelspec": {
   "display_name": "Python 3",
   "language": "python",
   "name": "python3"
  },
  "language_info": {
   "codemirror_mode": {
    "name": "ipython",
    "version": 3
   },
   "file_extension": ".py",
   "mimetype": "text/x-python",
   "name": "python",
   "nbconvert_exporter": "python",
   "pygments_lexer": "ipython3",
   "version": "3.10.12"
  }
 },
 "nbformat": 4,
 "nbformat_minor": 2
}
