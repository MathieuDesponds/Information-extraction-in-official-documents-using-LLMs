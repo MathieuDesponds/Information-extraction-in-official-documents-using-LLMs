{
 "cells": [
  {
   "cell_type": "code",
   "execution_count": null,
   "metadata": {},
   "outputs": [],
   "source": [
    "## Impact of few_shots\n",
    "from llm.LLMModel import *\n",
    "from llm.LlamaLoader import Llama_HF\n",
    "from ner.llm_ner.prompt_techniques.pt_abstract import PromptTechnique\n",
    "from ner.llm_ner.prompt_techniques.pt_discussion import PT_OutputList\n",
    "from ner.llm_ner.prompt_techniques.pt_gpt_ner import PT_GPT_NER\n",
    "from ner.llm_ner.prompt_techniques.pt_wrapper import PT_Wrapper\n",
    "from ner.llm_ner.prompt_techniques.pt_multi_pt import PT_2Time_Tagger\n",
    "from ner.llm_ner.prompt_techniques.pt_filing import PT_Filing\n",
    "from ner.llm_ner.few_shots_techniques import *\n",
    "from ner.llm_ner.prompts import *\n",
    "%reload_ext autoreload\n",
    "%autoreload 2\n",
    "\n",
    "pt = PT_OutputList\n",
    "model = MistralAI(llm_loader=Llama_HF, lora_path=\"llm/models/mistral-7b-v0.1/discussion-few-shots/finetuned-2000\")\n",
    "for plus_plus in [False] :\n",
    "    results, results_df = model.classical_test_ontonote5(pts = [pt],fsts = [FST_Sentence],  nb_few_shots=[3] ,prompt_template= prompt_raw,nb_run_by_test=3, plus_plus= plus_plus)\n",
    "    results_df"
   ]
  },
  {
   "cell_type": "code",
   "execution_count": null,
   "metadata": {},
   "outputs": [],
   "source": [
    "pt = PT_OutputList\n",
    "model = MistralAI(llm_loader=Llama_HF, lora_path=\"llm/models/mistral-7b-v0.1/discussion-raw/finetuned-4000\")\n",
    "results, results_df = model.classical_test_ontonote5(pts = [pt],fsts = [FST_NoShots],  prompt_template=prompt_raw, nb_few_shots=[0] ,nb_run_by_test=3, plus_plus= plus_plus, save = False)\n",
    "results_df"
   ]
  },
  {
   "cell_type": "code",
   "execution_count": null,
   "metadata": {},
   "outputs": [],
   "source": [
    "pt = PT_OutputList\n",
    "model = MistralAI(llm_loader=Llama_HF, lora_path=\"llm/models/mistral-7b-v0.1/discussion-raw/finetuned-20000\")\n",
    "results, results_df = model.classical_test_ontonote5(pts = [pt],fsts = [FST_NoShots],  prompt_template=prompt_raw, nb_few_shots=[0] ,nb_run_by_test=3, plus_plus= plus_plus, save = False)\n",
    "results_df"
   ]
  },
  {
   "cell_type": "code",
   "execution_count": null,
   "metadata": {},
   "outputs": [],
   "source": [
    "pt = PT_OutputList\n",
    "model = MistralAI(llm_loader=Llama_HF, lora_path=\"llm/models/mistral-7b-v0.1/discussion-raw/finetuned-20000\")\n",
    "results, results_df = model.classical_test_ontonote5(pts = [pt],fsts = [FST_NoShots],  prompt_template=prompt_template_ontonotes, nb_few_shots=[0] ,nb_run_by_test=3, plus_plus= plus_plus, save = False)\n",
    "results_df"
   ]
  },
  {
   "cell_type": "code",
   "execution_count": null,
   "metadata": {},
   "outputs": [],
   "source": [
    "# pt = PT_OutputList\n",
    "# model = MistralAI(llm_loader=Llama_HF, lora_path=\"llm/models/mistral-7b-v0.1/discussion-raw/finetuned-20000\")\n",
    "results, results_df = model.classical_test_ontonote5(pts = [pt],fsts = [FST_Sentence],  prompt_template=prompt_raw, nb_few_shots=[3] ,nb_run_by_test=3, plus_plus= plus_plus, save = True)\n",
    "results_df"
   ]
  },
  {
   "cell_type": "code",
   "execution_count": null,
   "metadata": {},
   "outputs": [],
   "source": [
    "results, results_df = model.classical_test_ontonote5(pts = [pt],fsts = [FST_Sentence],  prompt_template=prompt_template_ontonotes, nb_few_shots=[3] ,nb_run_by_test=3, plus_plus= plus_plus, save = True)\n",
    "results_df"
   ]
  },
  {
   "cell_type": "code",
   "execution_count": null,
   "metadata": {},
   "outputs": [],
   "source": [
    "## Impact of few_shots\n",
    "from llm.LLMModel import *\n",
    "from llm.LlamaLoader import Llama_HF\n",
    "from ner.llm_ner.prompt_techniques.pt_abstract import PromptTechnique\n",
    "from ner.llm_ner.prompt_techniques.pt_discussion import PT_OutputList\n",
    "from ner.llm_ner.prompt_techniques.pt_gpt_ner import PT_GPT_NER\n",
    "from ner.llm_ner.prompt_techniques.pt_wrapper import PT_Wrapper\n",
    "from ner.llm_ner.prompt_techniques.pt_multi_pt import PT_2Time_Tagger\n",
    "from ner.llm_ner.few_shots_techniques import *\n",
    "from ner.llm_ner.prompts import *\n",
    "%reload_ext autoreload\n",
    "%autoreload 2\n",
    "\n",
    "pt = PT_OutputList\n",
    "model = MistralAI(llm_loader=Llama_HF, lora_path=\"llm/models/mistral-7b-v0.1/discussion-raw/finetuned-2000\")\n",
    "for plus_plus in [True, False] :\n",
    "    results, results_df = model.classical_test_ontonote5(pts = [pt],fsts = [FST_NoShots],  nb_few_shots=[0] ,nb_run_by_test=3, plus_plus= plus_plus)\n",
    "    print(results_df)\n",
    "    results, results_df = model.classical_test_ontonote5(pts = [pt],fsts = [FST_Sentence],  nb_few_shots=[3] ,nb_run_by_test=3, plus_plus= plus_plus)\n",
    "    print(results_df)\n",
    "results, results_df = model.classical_test_ontonote5(pts = [pt],fsts = [FST_Sentence],  nb_few_shots=[5,10] ,nb_run_by_test=3, plus_plus= True)\n",
    "results_df"
   ]
  },
  {
   "cell_type": "code",
   "execution_count": null,
   "metadata": {},
   "outputs": [],
   "source": [
    "# ## Impact of few_shots\n",
    "# from llm.LLMModel import *\n",
    "# from llm.LlamaLoader import Llama_HF\n",
    "# from ner.llm_ner.prompt_techniques.pt_abstract import PromptTechnique\n",
    "# from ner.llm_ner.prompt_techniques.pt_discussion import PT_OutputList\n",
    "# from ner.llm_ner.prompt_techniques.pt_gpt_ner import PT_GPT_NER\n",
    "# from ner.llm_ner.prompt_techniques.pt_wrapper import PT_Wrapper\n",
    "# from ner.llm_ner.prompt_techniques.pt_multi_pt import PT_2Time_Tagger\n",
    "# from ner.llm_ner.few_shots_techniques import *\n",
    "# from ner.llm_ner.prompts import *\n",
    "# %reload_ext autoreload\n",
    "# %autoreload 2\n",
    "\n",
    "# pt = PT_Wrapper\n",
    "# model = MistralAI(llm_loader=Llama_HF, lora_path=\"llm/models/mistral-7b-v0.1/wrapper-raw/finetuned-2000\")\n",
    "# for plus_plus in [True, False] :\n",
    "#     results, results_df = model.classical_test_ontonote5(pts = [pt],fsts = [FST_NoShots],  nb_few_shots=[0] ,nb_run_by_test=3, plus_plus= plus_plus)\n",
    "#     print(results_df)\n",
    "#     results, results_df = model.classical_test_ontonote5(pts = [pt],fsts = [FST_Sentence],  nb_few_shots=[3] ,nb_run_by_test=3, plus_plus= plus_plus)\n",
    "#     print(results_df)\n",
    "# results, results_df = model.classical_test_ontonote5(pts = [pt],fsts = [FST_Sentence],  nb_few_shots=[5,10] ,nb_run_by_test=3, plus_plus= True)\n",
    "# results_df"
   ]
  },
  {
   "cell_type": "code",
   "execution_count": null,
   "metadata": {},
   "outputs": [],
   "source": [
    "## Impact of few_shots\n",
    "from llm.LLMModel import *\n",
    "from llm.LlamaLoader import Llama_HF\n",
    "from ner.llm_ner.prompt_techniques.pt_abstract import PromptTechnique\n",
    "from ner.llm_ner.prompt_techniques.pt_discussion import PT_OutputList\n",
    "from ner.llm_ner.prompt_techniques.pt_gpt_ner import PT_GPT_NER\n",
    "from ner.llm_ner.prompt_techniques.pt_wrapper import PT_Wrapper\n",
    "from ner.llm_ner.prompt_techniques.pt_multi_pt import PT_2Time_Tagger\n",
    "from ner.llm_ner.few_shots_techniques import *\n",
    "from ner.llm_ner.prompts import *\n",
    "%reload_ext autoreload\n",
    "%autoreload 2\n",
    "plus_plus = False\n",
    "pt = PT_OutputList\n",
    "model = MistralAI(llm_loader=Llama_HF, lora_path=\"llm/models/mistral-7b-v0.1/discussion-raw-conll2003/finetuned-2000\")\n",
    "results, results_df = model.classical_test(pts = [pt],fsts = [FST_NoShots],  nb_few_shots=[0] ,nb_run_by_test=3, plus_plus= plus_plus)\n",
    "print(results_df)\n",
    "results, results_df = model.classical_test(pts = [pt],fsts = [FST_Sentence],  nb_few_shots=[3, 5, 10] ,nb_run_by_test=3, plus_plus= plus_plus)\n",
    "results_df"
   ]
  },
  {
   "cell_type": "code",
   "execution_count": null,
   "metadata": {},
   "outputs": [],
   "source": [
    "## Impact of few_shots\n",
    "from llm.LLMModel import *\n",
    "from llm.LlamaLoader import Llama_HF\n",
    "from ner.llm_ner.prompt_techniques.pt_abstract import PromptTechnique\n",
    "from ner.llm_ner.prompt_techniques.pt_discussion import PT_OutputList\n",
    "from ner.llm_ner.prompt_techniques.pt_gpt_ner import PT_GPT_NER\n",
    "from ner.llm_ner.prompt_techniques.pt_wrapper import PT_Wrapper\n",
    "from ner.llm_ner.prompt_techniques.pt_multi_pt import PT_2Time_Tagger\n",
    "from ner.llm_ner.few_shots_techniques import *\n",
    "from ner.llm_ner.prompts import *\n",
    "%reload_ext autoreload\n",
    "%autoreload 2\n",
    "\n",
    "pt = PT_Wrapper\n",
    "model = MistralAI(llm_loader=Llama_HF, lora_path=\"llm/models/mistral-7b-v0.1/wrapper-raw/finetuned-2000\")\n",
    "for plus_plus in [True, False] :\n",
    "    results, results_df = model.classical_test_ontonote5(pts = [pt],fsts = [FST_NoShots],  nb_few_shots=[0] ,nb_run_by_test=3, plus_plus= plus_plus)\n",
    "    print(results_df)\n",
    "    results, results_df = model.classical_test_ontonote5(pts = [pt],fsts = [FST_Sentence],  nb_few_shots=[3] ,nb_run_by_test=3, plus_plus= plus_plus)\n",
    "    print(results_df)\n",
    "results, results_df = model.classical_test_ontonote5(pts = [pt],fsts = [FST_Sentence],  nb_few_shots=[5,10] ,nb_run_by_test=3, plus_plus= True)\n",
    "results_df"
   ]
  },
  {
   "cell_type": "code",
   "execution_count": null,
   "metadata": {},
   "outputs": [],
   "source": []
  }
 ],
 "metadata": {
  "kernelspec": {
   "display_name": ".venv",
   "language": "python",
   "name": "python3"
  },
  "language_info": {
   "codemirror_mode": {
    "name": "ipython",
    "version": 3
   },
   "file_extension": ".py",
   "mimetype": "text/x-python",
   "name": "python",
   "nbconvert_exporter": "python",
   "pygments_lexer": "ipython3",
   "version": "3.10.6"
  }
 },
 "nbformat": 4,
 "nbformat_minor": 4
}
