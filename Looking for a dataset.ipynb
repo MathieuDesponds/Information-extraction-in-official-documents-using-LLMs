{
 "cells": [
  {
   "cell_type": "code",
   "execution_count": 1,
   "metadata": {},
   "outputs": [
    {
     "name": "stderr",
     "output_type": "stream",
     "text": [
      "/usr/local/lib/python3.9/site-packages/tqdm/auto.py:21: TqdmWarning: IProgress not found. Please update jupyter and ipywidgets. See https://ipywidgets.readthedocs.io/en/stable/user_install.html\n",
      "  from .autonotebook import tqdm as notebook_tqdm\n"
     ]
    }
   ],
   "source": [
    "from ner.Datasets.OntoNotes5Dataset import OntoNote5Dataset\n",
    "import matplotlib.pyplot as plt\n",
    "import pandas as pd \n",
    "\n",
    "from ner.utils import load, dump\n",
    "from ner.Datasets.MyDataset import MyDataset, save_dataset\n",
    "\n",
    "%reload_ext autoreload\n",
    "%autoreload 2"
   ]
  },
  {
   "cell_type": "code",
   "execution_count": 2,
   "metadata": {},
   "outputs": [
    {
     "name": "stderr",
     "output_type": "stream",
     "text": [
      "Downloading builder script: 100%|██████████| 2.88k/2.88k [00:00<00:00, 11.3MB/s]\n",
      "Downloading readme: 100%|██████████| 2.83k/2.83k [00:00<00:00, 7.84MB/s]\n",
      "Downloading data: 100%|██████████| 1.92M/1.92M [00:00<00:00, 4.10MB/s]\n",
      "Downloading data: 100%|██████████| 4.74M/4.74M [00:00<00:00, 10.2MB/s]\n",
      "Downloading data: 100%|██████████| 3.68M/3.68M [00:00<00:00, 6.49MB/s]\n",
      "Downloading data: 100%|██████████| 3.46M/3.46M [00:00<00:00, 7.49MB/s]\n",
      "Downloading data: 100%|██████████| 1.82M/1.82M [00:00<00:00, 3.88MB/s]\n",
      "Downloading data: 100%|██████████| 1.86M/1.86M [00:00<00:00, 11.7MB/s]\n",
      "Downloading data files: 100%|██████████| 3/3 [00:05<00:00,  1.67s/it]\n",
      "Extracting data files: 100%|██████████| 3/3 [00:00<00:00, 934.21it/s]\n",
      "Generating train split: 59924 examples [00:07, 7792.36 examples/s] \n",
      "Generating validation split: 8528 examples [00:01, 7911.27 examples/s]\n",
      "Generating test split: 8262 examples [00:01, 7772.79 examples/s]\n",
      "Map: 100%|██████████| 8262/8262 [00:00<00:00, 12039.83 examples/s]\n",
      "Map: 100%|██████████| 8262/8262 [00:01<00:00, 7036.52 examples/s]\n",
      "Map: 100%|██████████| 8262/8262 [00:00<00:00, 8420.26 examples/s]\n",
      "Filter: 100%|██████████| 8262/8262 [00:00<00:00, 19418.35 examples/s]\n",
      "Map: 100%|██████████| 1403/1403 [00:00<00:00, 1438.78 examples/s]\n",
      "Map: 100%|██████████| 1403/1403 [00:00<00:00, 4530.59 examples/s]\n",
      "Map: 100%|██████████| 1403/1403 [00:19<00:00, 70.39 examples/s]\n",
      "Map: 100%|██████████| 59924/59924 [00:05<00:00, 11747.01 examples/s]\n",
      "Map: 100%|██████████| 59924/59924 [00:07<00:00, 7511.53 examples/s] \n",
      "Map: 100%|██████████| 59924/59924 [00:07<00:00, 8015.83 examples/s] \n",
      "Filter: 100%|██████████| 59924/59924 [00:03<00:00, 19069.97 examples/s]\n",
      "Map: 100%|██████████| 9873/9873 [00:07<00:00, 1397.45 examples/s]\n",
      "Map: 100%|██████████| 9873/9873 [00:02<00:00, 3929.26 examples/s]\n",
      "Map: 100%|██████████| 9873/9873 [02:07<00:00, 77.16 examples/s]\n"
     ]
    }
   ],
   "source": [
    "dataset_test = OntoNote5Dataset(split = 'test')\n",
    "save_dataset(dataset_test)\n",
    "dataset_train = OntoNote5Dataset(split = 'train') \n",
    "save_dataset(dataset_train)"
   ]
  },
  {
   "cell_type": "code",
   "execution_count": null,
   "metadata": {},
   "outputs": [],
   "source": [
    "train, test = OntoNote5Dataset.my_load_dataset()"
   ]
  },
  {
   "cell_type": "code",
   "execution_count": null,
   "metadata": {},
   "outputs": [],
   "source": [
    "a = {\n",
    "    \"O\": 0,\n",
    "    \"B-CARDINAL\": 1,\n",
    "    \"B-DATE\": 2,\n",
    "    \"I-DATE\": 3,\n",
    "    \"B-PERSON\": 4,\n",
    "    \"I-PERSON\": 5,\n",
    "    \"B-NORP\": 6,\n",
    "    \"B-GPE\": 7,\n",
    "    \"I-GPE\": 8,\n",
    "    \"B-LAW\": 9,\n",
    "    \"I-LAW\": 10,\n",
    "    \"B-ORG\": 11,\n",
    "    \"I-ORG\": 12, \n",
    "    \"B-PERCENT\": 13,\n",
    "    \"I-PERCENT\": 14, \n",
    "    \"B-ORDINAL\": 15, \n",
    "    \"B-MONEY\": 16, \n",
    "    \"I-MONEY\": 17, \n",
    "    \"B-WORK_OF_ART\": 18, \n",
    "    \"I-WORK_OF_ART\": 19, \n",
    "    \"B-FAC\": 20, \n",
    "    \"B-TIME\": 21, \n",
    "    \"I-CARDINAL\": 22, \n",
    "    \"B-LOC\": 23, \n",
    "    \"B-QUANTITY\": 24, \n",
    "    \"I-QUANTITY\": 25, \n",
    "    \"I-NORP\": 26, \n",
    "    \"I-LOC\": 27, \n",
    "    \"B-PRODUCT\": 28, \n",
    "    \"I-TIME\": 29, \n",
    "    \"B-EVENT\": 30,\n",
    "    \"I-EVENT\": 31,\n",
    "    \"I-FAC\": 32,\n",
    "    \"B-LANGUAGE\": 33,\n",
    "    \"I-PRODUCT\": 34,\n",
    "    \"I-ORDINAL\": 35,\n",
    "    \"I-LANGUAGE\": 36\n",
    "}\n",
    "list(set([key[2:] for key, val in a.items() if '-' in key ]))"
   ]
  },
  {
   "cell_type": "code",
   "execution_count": null,
   "metadata": {},
   "outputs": [],
   "source": [
    "for row in dataset.dataset :\n",
    "    print(\"---------------------------------------\")\n",
    "    print(row['text'])\n",
    "    print(row['spans'])"
   ]
  },
  {
   "cell_type": "code",
   "execution_count": null,
   "metadata": {},
   "outputs": [],
   "source": [
    "dataset.dataset = dataset.dataset.map(lambda row : {'nb_tokens' : len(row['tokens']),\n",
    "                                                    'nb_spans' : len(row['spans'])})\n",
    "                                                    "
   ]
  },
  {
   "cell_type": "code",
   "execution_count": null,
   "metadata": {},
   "outputs": [],
   "source": [
    "df[df['nb_tokens'] == 30].head(5)"
   ]
  },
  {
   "cell_type": "code",
   "execution_count": null,
   "metadata": {},
   "outputs": [],
   "source": [
    "df = pd.DataFrame(dataset.dataset)\n",
    "# Set the display width option\n",
    "pd.set_option('display.width', 350)  # Adjust the width as needed\n",
    "df['nb_tokens'].hist()\n",
    "plt.show()\n",
    "df['nb_spans'].hist(bins = 20)"
   ]
  },
  {
   "cell_type": "code",
   "execution_count": null,
   "metadata": {},
   "outputs": [],
   "source": [
    "df_long = df[df['nb_tokens'] > 30]\n",
    "df_long['nb_tokens'].hist()\n",
    "plt.show()\n",
    "df_long['nb_spans'].hist(bins = 20)"
   ]
  },
  {
   "cell_type": "code",
   "execution_count": null,
   "metadata": {},
   "outputs": [],
   "source": [
    "pd.set_option('display.max_colwidth', None)\n",
    "df_long[['text', 'spans']]"
   ]
  },
  {
   "cell_type": "code",
   "execution_count": null,
   "metadata": {},
   "outputs": [],
   "source": []
  },
  {
   "cell_type": "markdown",
   "metadata": {},
   "source": [
    "# OntoNotes5\n",
    "- 18 tags \n",
    "- Many long sentences if I preprocess the dataset\n",
    "- Model Flair on this dataset exist\n",
    "\n",
    "## Pros \n",
    "- More recent \n",
    "- More accurate \n",
    "\n",
    "## Cons\n",
    "- More work\n",
    "- Might be difficult to have exactly the same format in the 18 classes [about $ 3 million, MONEY]\n",
    "\n",
    "## Questions \n",
    "- In the test set, there are ~ 6000 datapoint out of 8000 that have 0 named entities -> Do I discard many of them and focus on longer sentences ? "
   ]
  },
  {
   "cell_type": "code",
   "execution_count": null,
   "metadata": {},
   "outputs": [],
   "source": []
  },
  {
   "cell_type": "markdown",
   "metadata": {},
   "source": [
    "# WikiNeural"
   ]
  },
  {
   "cell_type": "code",
   "execution_count": null,
   "metadata": {},
   "outputs": [],
   "source": [
    "from ner.Datasets.WikiNeuralDataset import WikiNeuralDataset\n",
    "import pandas as pd\n",
    "\n",
    "dataset = WikiNeuralDataset()"
   ]
  },
  {
   "cell_type": "code",
   "execution_count": null,
   "metadata": {},
   "outputs": [],
   "source": [
    "dataset.dataset = dataset.dataset.map(lambda row : {'nb_tokens' : len(row['tokens']),\n",
    "                                                    'nb_spans' : len(row['spans'])})\n",
    "df = pd.DataFrame(dataset.dataset)\n",
    "# Set the display width option\n",
    "pd.set_option('display.width', 350)  # Adjust the width as needed\n",
    "df['nb_tokens'].hist()\n",
    "plt.show()\n",
    "df['nb_spans'].hist(bins = 20)"
   ]
  },
  {
   "cell_type": "code",
   "execution_count": null,
   "metadata": {},
   "outputs": [],
   "source": [
    "df_long = df[df['nb_tokens'] > 20]\n",
    "df_long['nb_tokens'].hist()\n",
    "plt.show()\n",
    "df_long['nb_spans'].hist(bins = 20)"
   ]
  },
  {
   "cell_type": "code",
   "execution_count": null,
   "metadata": {},
   "outputs": [],
   "source": [
    "pd.set_option('display.max_colwidth', None)\n",
    "df_long[['text', 'spans']][45:75]"
   ]
  },
  {
   "cell_type": "code",
   "execution_count": null,
   "metadata": {},
   "outputs": [],
   "source": []
  }
 ],
 "metadata": {
  "kernelspec": {
   "display_name": "Python 3",
   "language": "python",
   "name": "python3"
  },
  "language_info": {
   "codemirror_mode": {
    "name": "ipython",
    "version": 3
   },
   "file_extension": ".py",
   "mimetype": "text/x-python",
   "name": "python",
   "nbconvert_exporter": "python",
   "pygments_lexer": "ipython3",
   "version": "3.9.0"
  }
 },
 "nbformat": 4,
 "nbformat_minor": 2
}
