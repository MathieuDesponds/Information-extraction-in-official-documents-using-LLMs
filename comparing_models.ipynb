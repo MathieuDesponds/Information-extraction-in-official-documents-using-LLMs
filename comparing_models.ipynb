{
 "cells": [
  {
   "cell_type": "markdown",
   "metadata": {},
   "source": [
    "# Testing with a dataset \n",
    "\n",
    "We compare different model on the dataset of wikiann that contains tags `['PER', 'ORG', 'LOC']`\n",
    "We get teh score by comparing the output at the entity level and not at the token level."
   ]
  },
  {
   "cell_type": "code",
   "execution_count": 1,
   "metadata": {},
   "outputs": [],
   "source": [
    "import pickle\n",
    "from collections import defaultdict\n",
    "from ner.process_results import get_metrics, get_metrics_all, show_cm, show_cm_multi, get_metrics_all_extended, show_cm_multi_extended\n",
    "from ner.classical_models.ner_models import get_results\n",
    "from ner.Datasets.Conll2003Dataset import Conll2003Dataset\n",
    "from ner.Datasets.OntoNotes5Dataset import OntoNote5Dataset\n",
    "from ner.Datasets.MyDataset import MyDataset\n",
    "\n",
    "from ner.utils import *\n",
    "\n",
    "%load_ext autoreload\n",
    "%autoreload 2\n",
    "\n",
    "# dataset = MyDataset.my_load_dataset(dataset=Conll2003Dataset, split = 'test', cleaned= True)"
   ]
  },
  {
   "cell_type": "markdown",
   "metadata": {},
   "source": [
    "## Getting results with Ontonote dataset"
   ]
  },
  {
   "cell_type": "code",
   "execution_count": 2,
   "metadata": {},
   "outputs": [],
   "source": [
    "train, test = OntoNote5Dataset.my_load_dataset()"
   ]
  },
  {
   "cell_type": "code",
   "execution_count": 8,
   "metadata": {},
   "outputs": [
    {
     "name": "stderr",
     "output_type": "stream",
     "text": [
      "100%|██████████| 1402/1402 [00:44<00:00, 31.37it/s]"
     ]
    },
    {
     "name": "stdout",
     "output_type": "stream",
     "text": [
      "['CARDINAL', 'ORDINAL', 'WORK_OF_ART', 'PERSON', 'LOC', 'DATE', 'PERCENT', 'PRODUCT', 'MONEY', 'FAC', 'TIME', 'ORG', 'QUANTITY', 'LANGUAGE', 'GPE', 'LAW', 'NORP', 'EVENT']\n"
     ]
    },
    {
     "name": "stderr",
     "output_type": "stream",
     "text": [
      "\n"
     ]
    },
    {
     "data": {
      "text/plain": [
       "{'refined': 0.3655415347319785}"
      ]
     },
     "execution_count": 8,
     "metadata": {},
     "output_type": "execute_result"
    }
   ],
   "source": [
    "results, f1s= get_results(test, with_save= True)\n",
    "f1s"
   ]
  },
  {
   "cell_type": "markdown",
   "metadata": {},
   "source": [
    "# Others"
   ]
  },
  {
   "cell_type": "code",
   "execution_count": null,
   "metadata": {},
   "outputs": [],
   "source": [
    "file_name = results_files[10]\n",
    "file_path = folder_path + file_name\n",
    "with open(file_path, 'rb') as f:\n",
    "    results_llama[file_name]= pickle.load(f) \n",
    "print(results_llama[file_name].keys()) \n",
    "results_llama[file_name]['true_labels'] = dataset_llama['spans']\n",
    "cm = {}\n",
    "f1 = {}\n",
    "precision = {}\n",
    "recall = {}\n",
    "y_true, y_pred, all_nes= {},{}, {}\n",
    "for model in results_llama[file_name] : \n",
    "    if model != \"true_labels\" :\n",
    "        cm[model],f1[model], precision[model], recall[model], y_true[model], y_pred[model], all_nes[model]= get_metrics_all(results_llama[file_name][model], results_llama[file_name]['true_labels'])\n",
    "        show_cm_multi(cm[model],f1[model], precision[model], recall[model], model)\n",
    "print(f\"{file_name} {f1}\")"
   ]
  },
  {
   "cell_type": "code",
   "execution_count": null,
   "metadata": {},
   "outputs": [],
   "source": []
  },
  {
   "cell_type": "code",
   "execution_count": null,
   "metadata": {},
   "outputs": [],
   "source": [
    "f1s"
   ]
  },
  {
   "cell_type": "code",
   "execution_count": null,
   "metadata": {},
   "outputs": [],
   "source": [
    "from ner.Llama2_NER import Llama2_NER_FewShots_Entity\n",
    "few_shots_ner = Llama2_NER_FewShots_Entity(dataset_train, \"\", Utils())\n",
    "\n",
    "few_shots_ner.get_prompts(\"Washington is the capital of the Unisted States\", tags = [\"PER\", \"ORG\", \"LOC\"])"
   ]
  },
  {
   "cell_type": "code",
   "execution_count": null,
   "metadata": {},
   "outputs": [],
   "source": [
    "from ner.Llama2_NER import Llama2_NER_FewShots_Random\n",
    "import pickle\n",
    "llama = Llama2_NER_FewShots_Random(\"\",\"\",\"\")\n",
    "tags = [\"PER\", \"LOC\", \"ORG\", \"MISC\"]\n",
    "results = {}\n",
    "for model in ['7b', '13b']:\n",
    "    for nb_samp in [500,1000,1500]:\n",
    "        with open(f\"./ner/saves/results/results_pred_labels_colnn2003_ft_{model}_{nb_samp}_50.pkl\", 'rb') as f :\n",
    "            mod = f\"{model}_{nb_samp}\"\n",
    "            results[mod] = pickle.load(f)\n",
    "results['true_labels'] = dataset_llama['spans']\n"
   ]
  },
  {
   "cell_type": "code",
   "execution_count": null,
   "metadata": {},
   "outputs": [],
   "source": [
    "\n",
    "cm = {}\n",
    "f1 = {}\n",
    "precision = {}\n",
    "recall = {}\n",
    "y_true, y_pred, all_nes= {},{}, {}\n",
    "res = results\n",
    "for model in res: \n",
    "    if model != \"true_labels\" :\n",
    "        cm[model],f1[model], precision[model], recall[model], y_true[model], y_pred[model], all_nes[model]= get_metrics_all(res[model], res['true_labels'])\n",
    "        # show_cm(cm[model], [{tag : f\"{f1s[model][tag]:.2f}\" } for tag in [\"general\"] + tag_type], model)\n",
    "        show_cm_multi(cm[model],f1[model], precision[model], recall[model], model)\n"
   ]
  },
  {
   "cell_type": "code",
   "execution_count": null,
   "metadata": {},
   "outputs": [],
   "source": [
    "cm = {}\n",
    "f1 = {}\n",
    "precision = {}\n",
    "recall = {}\n",
    "y_true, y_pred, all_nes= {},{}, {}\n",
    "res = results\n",
    "for model in res : \n",
    "    if model in ['spacy', 'refined'] :\n",
    "        cm[model],f1[model], precision[model], recall[model], y_true[model], y_pred[model], all_nes[model]= get_metrics_all_extended(res[model], res['true_labels'])\n",
    "        # show_cm(cm[model], [{tag : f\"{f1s[model][tag]:.2f}\" } for tag in [\"general\"] + tag_type], model)\n",
    "        show_cm_multi_extended(cm[model],f1[model], precision[model], recall[model], model)"
   ]
  },
  {
   "cell_type": "code",
   "execution_count": null,
   "metadata": {},
   "outputs": [],
   "source": [
    "import pandas as pd \n",
    "key =\"entity\"\n",
    "resu = pd.DataFrame({\"gold\" : y_true[key], \"pred\" : y_pred[key], 'named_entity' : all_nes[key]})\n",
    "resu[resu['gold'] != resu['pred']]"
   ]
  },
  {
   "cell_type": "code",
   "execution_count": null,
   "metadata": {},
   "outputs": [],
   "source": [
    "dfs = {}\n",
    "for key in results :\n",
    "    flattened = [item for sublist in results[key] for item in sublist]\n",
    "    dfs[key] = pd.DataFrame([{'entity' : ne[0], 'tag' : ne[1], 'ref_tag' : ne[2] if len(ne)>2 else \"\"} for ne in flattened])\n",
    "    dfs[key] = dfs[key].groupby('entity').agg(set)\n",
    "dfs['true_labels'].rename(columns={'tag': 'gold_tags'}, inplace=True)\n",
    "del dfs['true_labels']['ref_tag']\n",
    "\n",
    "for key in results :\n",
    "    if key != \"true_labels\" :\n",
    "        dfs[key] = dfs['true_labels'].merge(dfs[key], on='entity', how='outer')\n",
    "        dfs[key].fillna(-1, inplace=True)\n",
    "\n",
    "\n",
    "for key in results_llama :\n",
    "    flattened = [item for sublist in results_llama[key] for item in sublist]\n",
    "    dfs[key] = pd.DataFrame([{'entity' : ne, 'tag' : tag} for ne, tag in flattened])\n",
    "    dfs[key] = dfs[key].groupby('entity').agg(set)\n",
    "dfs['true_labels'].rename(columns={'tag': 'gold_tags'}, inplace=True)\n",
    "for key in results_llama :\n",
    "    if key != \"true_labels\" :\n",
    "        dfs[key] = dfs['true_labels'].merge(dfs[key], on='entity', how='outer')\n",
    "        dfs[key].fillna(-1, inplace=True)"
   ]
  },
  {
   "cell_type": "code",
   "execution_count": null,
   "metadata": {},
   "outputs": [],
   "source": [
    "key = 'few_shots_random'\n",
    "tag_distr_missed_by_model(key), tag_distr_added_by_model(key)"
   ]
  },
  {
   "cell_type": "code",
   "execution_count": null,
   "metadata": {},
   "outputs": [],
   "source": [
    "key = 'few_shots_sentence'\n",
    "tag_distr_missed_by_model(key), tag_distr_added_by_model(key)"
   ]
  },
  {
   "cell_type": "code",
   "execution_count": null,
   "metadata": {},
   "outputs": [],
   "source": [
    "key = 'entity'\n",
    "tag_distr_missed_by_model(key), tag_distr_added_by_model(key)"
   ]
  },
  {
   "cell_type": "code",
   "execution_count": null,
   "metadata": {},
   "outputs": [],
   "source": [
    "key = 'refined'\n",
    "tag_distr_missed_by_model(key), tag_distr_added_by_model(key)\n",
    "# temp = dfs[key][dfs[key]['gold_tags'] != -1]\n",
    "# temp[temp['tag'] == {'MISC'}][['gold_tags','tag_precision_y']]['tag_precision_y'].value_counts()"
   ]
  }
 ],
 "metadata": {
  "kernelspec": {
   "display_name": "Python 3",
   "language": "python",
   "name": "python3"
  },
  "language_info": {
   "codemirror_mode": {
    "name": "ipython",
    "version": 3
   },
   "file_extension": ".py",
   "mimetype": "text/x-python",
   "name": "python",
   "nbconvert_exporter": "python",
   "pygments_lexer": "ipython3",
   "version": "3.10.6"
  },
  "orig_nbformat": 4
 },
 "nbformat": 4,
 "nbformat_minor": 2
}
