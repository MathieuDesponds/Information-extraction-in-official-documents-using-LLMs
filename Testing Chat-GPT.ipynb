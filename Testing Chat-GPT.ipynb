{
 "cells": [
  {
   "cell_type": "code",
   "execution_count": 11,
   "metadata": {},
   "outputs": [],
   "source": [
    "from llm.ChatGPT import ChatGPT\n",
    "from ner.llm_ner.prompt_techniques.pt_abstract import PromptTechnique\n",
    "from ner.llm_ner.prompt_techniques.pt_discussion import PT_OutputList\n",
    "from ner.llm_ner.prompt_techniques.pt_gpt_ner import PT_GPT_NER\n",
    "from ner.llm_ner.prompt_techniques.pt_wrapper import PT_Wrapper\n",
    "from ner.llm_ner.prompt_techniques.pt_multi_pt import PT_2Time_Tagger\n",
    "from ner.llm_ner.prompt_techniques.pt_filing import PT_Filing \n",
    "from ner.llm_ner.few_shots_techniques import *\n",
    "from ner.llm_ner.prompts import *\n",
    "%reload_ext autoreload\n",
    "%autoreload 2"
   ]
  },
  {
   "cell_type": "code",
   "execution_count": 2,
   "metadata": {},
   "outputs": [],
   "source": [
    "model = ChatGPT()"
   ]
  },
  {
   "cell_type": "code",
   "execution_count": 3,
   "metadata": {},
   "outputs": [
    {
     "name": "stdout",
     "output_type": "stream",
     "text": [
      "Hello! How can I assist you today?\n"
     ]
    },
    {
     "data": {
      "text/plain": [
       "'Hello! How can I assist you today?'"
      ]
     },
     "execution_count": 3,
     "metadata": {},
     "output_type": "execute_result"
    }
   ],
   "source": [
    "model(\"### USER : hello\")"
   ]
  },
  {
   "cell_type": "code",
   "execution_count": 14,
   "metadata": {},
   "outputs": [
    {
     "name": "stdout",
     "output_type": "stream",
     "text": [
      "Testing with sentence\n",
      "      and filing\n"
     ]
    },
    {
     "name": "stderr",
     "output_type": "stream",
     "text": [
      "  2%|▏         | 1/50 [00:01<01:20,  1.64s/it]"
     ]
    },
    {
     "name": "stdout",
     "output_type": "stream",
     "text": [
      "('{\\n  \"CARDINAL\": [],\\n  \"DATE\": [],\\n  \"EVENT\": [],\\n  \"FAC\": [],\\n  \"GPE\": [],\\n  \"LANGUAGE\": [],\\n  \"LAW\": [],\\n  \"LOC\": [],\\n  \"MONEY\": [],\\n  \"NORP\": [],\\n  \"ORDINAL\": [],\\n  \"ORG\": [],\\n  \"PERCENT\": [],\\n  \"PERSON\": [],\\n  \"PRODUCT\": [],\\n  \"QUANTITY\": [],\\n  \"TIME\": [],\\n  \"WORK_OF_ART\": []\\n}', <OpenAIObject chat.completion id=chatcmpl-8hzyDb6Low2K8WSL5uZ9F2WBcAGWK at 0x7f3a79223290> JSON: {\n",
      "  \"id\": \"chatcmpl-8hzyDb6Low2K8WSL5uZ9F2WBcAGWK\",\n",
      "  \"object\": \"chat.completion\",\n",
      "  \"created\": 1705497009,\n",
      "  \"model\": \"gpt-35-turbo\",\n",
      "  \"choices\": [\n",
      "    {\n",
      "      \"finish_reason\": \"stop\",\n",
      "      \"index\": 0,\n",
      "      \"message\": {\n",
      "        \"role\": \"assistant\",\n",
      "        \"content\": \"{\\n  \\\"CARDINAL\\\": [],\\n  \\\"DATE\\\": [],\\n  \\\"EVENT\\\": [],\\n  \\\"FAC\\\": [],\\n  \\\"GPE\\\": [],\\n  \\\"LANGUAGE\\\": [],\\n  \\\"LAW\\\": [],\\n  \\\"LOC\\\": [],\\n  \\\"MONEY\\\": [],\\n  \\\"NORP\\\": [],\\n  \\\"ORDINAL\\\": [],\\n  \\\"ORG\\\": [],\\n  \\\"PERCENT\\\": [],\\n  \\\"PERSON\\\": [],\\n  \\\"PRODUCT\\\": [],\\n  \\\"QUANTITY\\\": [],\\n  \\\"TIME\\\": [],\\n  \\\"WORK_OF_ART\\\": []\\n}\"\n",
      "      }\n",
      "    }\n",
      "  ],\n",
      "  \"usage\": {\n",
      "    \"prompt_tokens\": 415,\n",
      "    \"completion_tokens\": 104,\n",
      "    \"total_tokens\": 519\n",
      "  }\n",
      "})\n"
     ]
    },
    {
     "name": "stderr",
     "output_type": "stream",
     "text": [
      "  4%|▍         | 2/50 [00:03<01:30,  1.89s/it]"
     ]
    },
    {
     "name": "stdout",
     "output_type": "stream",
     "text": [
      "('{\\n  \"CARDINAL\": [],\\n  \"DATE\": [],\\n  \"EVENT\": [],\\n  \"FAC\": [],\\n  \"GPE\": [],\\n  \"LANGUAGE\": [],\\n  \"LAW\": [],\\n  \"LOC\": [],\\n  \"MONEY\": [],\\n  \"NORP\": [],\\n  \"ORDINAL\": [],\\n  \"ORG\": [],\\n  \"PERCENT\": [],\\n  \"PERSON\": [],\\n  \"PRODUCT\": [],\\n  \"QUANTITY\": [],\\n  \"TIME\": [],\\n  \"WORK_OF_ART\": []\\n}', <OpenAIObject chat.completion id=chatcmpl-8hzyEzxtWmfx2mCAHOMDV4dpuS89V at 0x7f3a792bd3a0> JSON: {\n",
      "  \"id\": \"chatcmpl-8hzyEzxtWmfx2mCAHOMDV4dpuS89V\",\n",
      "  \"object\": \"chat.completion\",\n",
      "  \"created\": 1705497010,\n",
      "  \"model\": \"gpt-35-turbo\",\n",
      "  \"choices\": [\n",
      "    {\n",
      "      \"finish_reason\": \"stop\",\n",
      "      \"index\": 0,\n",
      "      \"message\": {\n",
      "        \"role\": \"assistant\",\n",
      "        \"content\": \"{\\n  \\\"CARDINAL\\\": [],\\n  \\\"DATE\\\": [],\\n  \\\"EVENT\\\": [],\\n  \\\"FAC\\\": [],\\n  \\\"GPE\\\": [],\\n  \\\"LANGUAGE\\\": [],\\n  \\\"LAW\\\": [],\\n  \\\"LOC\\\": [],\\n  \\\"MONEY\\\": [],\\n  \\\"NORP\\\": [],\\n  \\\"ORDINAL\\\": [],\\n  \\\"ORG\\\": [],\\n  \\\"PERCENT\\\": [],\\n  \\\"PERSON\\\": [],\\n  \\\"PRODUCT\\\": [],\\n  \\\"QUANTITY\\\": [],\\n  \\\"TIME\\\": [],\\n  \\\"WORK_OF_ART\\\": []\\n}\"\n",
      "      }\n",
      "    }\n",
      "  ],\n",
      "  \"usage\": {\n",
      "    \"prompt_tokens\": 421,\n",
      "    \"completion_tokens\": 104,\n",
      "    \"total_tokens\": 525\n",
      "  }\n",
      "})\n"
     ]
    },
    {
     "name": "stderr",
     "output_type": "stream",
     "text": [
      "  6%|▌         | 3/50 [00:06<01:38,  2.10s/it]"
     ]
    },
    {
     "name": "stdout",
     "output_type": "stream",
     "text": [
      "('{\\n  \"CARDINAL\": [],\\n  \"DATE\": [],\\n  \"EVENT\": [],\\n  \"FAC\": [],\\n  \"GPE\": [],\\n  \"LANGUAGE\": [],\\n  \"LAW\": [],\\n  \"LOC\": [],\\n  \"MONEY\": [],\\n  \"NORP\": [],\\n  \"ORDINAL\": [],\\n  \"ORG\": [],\\n  \"PERCENT\": [],\\n  \"PERSON\": [],\\n  \"PRODUCT\": [],\\n  \"QUANTITY\": [],\\n  \"TIME\": [],\\n  \"WORK_OF_ART\": []\\n}', <OpenAIObject chat.completion id=chatcmpl-8hzyGDquaKpzvN3xFjQYkU2fTM4gK at 0x7f3a792bccc0> JSON: {\n",
      "  \"id\": \"chatcmpl-8hzyGDquaKpzvN3xFjQYkU2fTM4gK\",\n",
      "  \"object\": \"chat.completion\",\n",
      "  \"created\": 1705497012,\n",
      "  \"model\": \"gpt-35-turbo\",\n",
      "  \"choices\": [\n",
      "    {\n",
      "      \"finish_reason\": \"stop\",\n",
      "      \"index\": 0,\n",
      "      \"message\": {\n",
      "        \"role\": \"assistant\",\n",
      "        \"content\": \"{\\n  \\\"CARDINAL\\\": [],\\n  \\\"DATE\\\": [],\\n  \\\"EVENT\\\": [],\\n  \\\"FAC\\\": [],\\n  \\\"GPE\\\": [],\\n  \\\"LANGUAGE\\\": [],\\n  \\\"LAW\\\": [],\\n  \\\"LOC\\\": [],\\n  \\\"MONEY\\\": [],\\n  \\\"NORP\\\": [],\\n  \\\"ORDINAL\\\": [],\\n  \\\"ORG\\\": [],\\n  \\\"PERCENT\\\": [],\\n  \\\"PERSON\\\": [],\\n  \\\"PRODUCT\\\": [],\\n  \\\"QUANTITY\\\": [],\\n  \\\"TIME\\\": [],\\n  \\\"WORK_OF_ART\\\": []\\n}\"\n",
      "      }\n",
      "    }\n",
      "  ],\n",
      "  \"usage\": {\n",
      "    \"prompt_tokens\": 327,\n",
      "    \"completion_tokens\": 104,\n",
      "    \"total_tokens\": 431\n",
      "  }\n",
      "})\n"
     ]
    },
    {
     "name": "stderr",
     "output_type": "stream",
     "text": [
      "  8%|▊         | 4/50 [00:07<01:30,  1.96s/it]"
     ]
    },
    {
     "name": "stdout",
     "output_type": "stream",
     "text": [
      "('{\\n  \"CARDINAL\": [\"four\", \"first\", \"fifth\"],\\n  \"ORG\": [\"government\"],\\n  \"MONEY\": [\"big\"],\\n  \"DATE\": [\"first wave\"]\\n}', <OpenAIObject chat.completion id=chatcmpl-8hzyJGmJGeajTZsCDcf2nQG97xYUy at 0x7f3a792bd850> JSON: {\n",
      "  \"id\": \"chatcmpl-8hzyJGmJGeajTZsCDcf2nQG97xYUy\",\n",
      "  \"object\": \"chat.completion\",\n",
      "  \"created\": 1705497015,\n",
      "  \"model\": \"gpt-35-turbo\",\n",
      "  \"choices\": [\n",
      "    {\n",
      "      \"finish_reason\": \"stop\",\n",
      "      \"index\": 0,\n",
      "      \"message\": {\n",
      "        \"role\": \"assistant\",\n",
      "        \"content\": \"{\\n  \\\"CARDINAL\\\": [\\\"four\\\", \\\"first\\\", \\\"fifth\\\"],\\n  \\\"ORG\\\": [\\\"government\\\"],\\n  \\\"MONEY\\\": [\\\"big\\\"],\\n  \\\"DATE\\\": [\\\"first wave\\\"]\\n}\"\n",
      "      }\n",
      "    }\n",
      "  ],\n",
      "  \"usage\": {\n",
      "    \"prompt_tokens\": 416,\n",
      "    \"completion_tokens\": 40,\n",
      "    \"total_tokens\": 456\n",
      "  }\n",
      "})\n"
     ]
    },
    {
     "name": "stderr",
     "output_type": "stream",
     "text": [
      " 10%|█         | 5/50 [00:09<01:28,  1.96s/it]"
     ]
    },
    {
     "name": "stdout",
     "output_type": "stream",
     "text": [
      "('{\\n  \"DATE\": [],\\n  \"CARDINAL\": [],\\n  \"EVENT\": [],\\n  \"FAC\": [],\\n  \"GPE\": [],\\n  \"LANGUAGE\": [],\\n  \"LAW\": [],\\n  \"LOC\": [],\\n  \"MONEY\": [],\\n  \"NORP\": [],\\n  \"ORDINAL\": [],\\n  \"ORG\": [],\\n  \"PERCENT\": [],\\n  \"PERSON\": [],\\n  \"PRODUCT\": [],\\n  \"QUANTITY\": [],\\n  \"TIME\": [],\\n  \"WORK_OF_ART\": []\\n}', <OpenAIObject chat.completion id=chatcmpl-8hzyKB0gTynosa9VSdC1OuSiTR8IO at 0x7f3a792bd6c0> JSON: {\n",
      "  \"id\": \"chatcmpl-8hzyKB0gTynosa9VSdC1OuSiTR8IO\",\n",
      "  \"object\": \"chat.completion\",\n",
      "  \"created\": 1705497016,\n",
      "  \"model\": \"gpt-35-turbo\",\n",
      "  \"choices\": [\n",
      "    {\n",
      "      \"finish_reason\": \"stop\",\n",
      "      \"index\": 0,\n",
      "      \"message\": {\n",
      "        \"role\": \"assistant\",\n",
      "        \"content\": \"{\\n  \\\"DATE\\\": [],\\n  \\\"CARDINAL\\\": [],\\n  \\\"EVENT\\\": [],\\n  \\\"FAC\\\": [],\\n  \\\"GPE\\\": [],\\n  \\\"LANGUAGE\\\": [],\\n  \\\"LAW\\\": [],\\n  \\\"LOC\\\": [],\\n  \\\"MONEY\\\": [],\\n  \\\"NORP\\\": [],\\n  \\\"ORDINAL\\\": [],\\n  \\\"ORG\\\": [],\\n  \\\"PERCENT\\\": [],\\n  \\\"PERSON\\\": [],\\n  \\\"PRODUCT\\\": [],\\n  \\\"QUANTITY\\\": [],\\n  \\\"TIME\\\": [],\\n  \\\"WORK_OF_ART\\\": []\\n}\"\n",
      "      }\n",
      "    }\n",
      "  ],\n",
      "  \"usage\": {\n",
      "    \"prompt_tokens\": 449,\n",
      "    \"completion_tokens\": 104,\n",
      "    \"total_tokens\": 553\n",
      "  }\n",
      "})\n"
     ]
    },
    {
     "name": "stderr",
     "output_type": "stream",
     "text": [
      " 12%|█▏        | 6/50 [00:12<01:31,  2.08s/it]"
     ]
    },
    {
     "name": "stdout",
     "output_type": "stream",
     "text": [
      "('{\\n  \"CARDINAL\": [],\\n  \"DATE\": [],\\n  \"EVENT\": [],\\n  \"FAC\": [],\\n  \"GPE\": [],\\n  \"LANGUAGE\": [],\\n  \"LAW\": [],\\n  \"LOC\": [],\\n  \"MONEY\": [],\\n  \"NORP\": [],\\n  \"ORDINAL\": [],\\n  \"ORG\": [],\\n  \"PERCENT\": [],\\n  \"PERSON\": [],\\n  \"PRODUCT\": [],\\n  \"QUANTITY\": [],\\n  \"TIME\": [],\\n  \"WORK_OF_ART\": []\\n}', <OpenAIObject chat.completion id=chatcmpl-8hzyNdoyowpv5AmihnO71yGILtRPx at 0x7f3a792bd490> JSON: {\n",
      "  \"id\": \"chatcmpl-8hzyNdoyowpv5AmihnO71yGILtRPx\",\n",
      "  \"object\": \"chat.completion\",\n",
      "  \"created\": 1705497019,\n",
      "  \"model\": \"gpt-35-turbo\",\n",
      "  \"choices\": [\n",
      "    {\n",
      "      \"finish_reason\": \"stop\",\n",
      "      \"index\": 0,\n",
      "      \"message\": {\n",
      "        \"role\": \"assistant\",\n",
      "        \"content\": \"{\\n  \\\"CARDINAL\\\": [],\\n  \\\"DATE\\\": [],\\n  \\\"EVENT\\\": [],\\n  \\\"FAC\\\": [],\\n  \\\"GPE\\\": [],\\n  \\\"LANGUAGE\\\": [],\\n  \\\"LAW\\\": [],\\n  \\\"LOC\\\": [],\\n  \\\"MONEY\\\": [],\\n  \\\"NORP\\\": [],\\n  \\\"ORDINAL\\\": [],\\n  \\\"ORG\\\": [],\\n  \\\"PERCENT\\\": [],\\n  \\\"PERSON\\\": [],\\n  \\\"PRODUCT\\\": [],\\n  \\\"QUANTITY\\\": [],\\n  \\\"TIME\\\": [],\\n  \\\"WORK_OF_ART\\\": []\\n}\"\n",
      "      }\n",
      "    }\n",
      "  ],\n",
      "  \"usage\": {\n",
      "    \"prompt_tokens\": 394,\n",
      "    \"completion_tokens\": 104,\n",
      "    \"total_tokens\": 498\n",
      "  }\n",
      "})\n"
     ]
    },
    {
     "name": "stderr",
     "output_type": "stream",
     "text": [
      " 14%|█▍        | 7/50 [00:13<01:20,  1.87s/it]"
     ]
    },
    {
     "name": "stdout",
     "output_type": "stream",
     "text": [
      "('{\\n  \"PERSON\": [\"Charles Colson\"],\\n  \"ORG\": [\"Watergate\", \"Fellowship\"],\\n  \"DATE\": [\"prison\"]\\n}', <OpenAIObject chat.completion id=chatcmpl-8hzyPgpDayABabgI9G3j2wypUDP7k at 0x7f3a792bdc10> JSON: {\n",
      "  \"id\": \"chatcmpl-8hzyPgpDayABabgI9G3j2wypUDP7k\",\n",
      "  \"object\": \"chat.completion\",\n",
      "  \"created\": 1705497021,\n",
      "  \"model\": \"gpt-35-turbo\",\n",
      "  \"choices\": [\n",
      "    {\n",
      "      \"finish_reason\": \"stop\",\n",
      "      \"index\": 0,\n",
      "      \"message\": {\n",
      "        \"role\": \"assistant\",\n",
      "        \"content\": \"{\\n  \\\"PERSON\\\": [\\\"Charles Colson\\\"],\\n  \\\"ORG\\\": [\\\"Watergate\\\", \\\"Fellowship\\\"],\\n  \\\"DATE\\\": [\\\"prison\\\"]\\n}\"\n",
      "      }\n",
      "    }\n",
      "  ],\n",
      "  \"usage\": {\n",
      "    \"prompt_tokens\": 400,\n",
      "    \"completion_tokens\": 32,\n",
      "    \"total_tokens\": 432\n",
      "  }\n",
      "})\n"
     ]
    },
    {
     "name": "stderr",
     "output_type": "stream",
     "text": [
      " 16%|█▌        | 8/50 [00:14<01:08,  1.64s/it]"
     ]
    },
    {
     "name": "stdout",
     "output_type": "stream",
     "text": [
      "('{\\n  \"PERSON\": [\"Mr. Heinemann\"],\\n  \"ORG\": [\"magazine industry\"]\\n}', <OpenAIObject chat.completion id=chatcmpl-8hzyQPXhS87S4tZr6s3jvaYjpcjbD at 0x7f3a792be5c0> JSON: {\n",
      "  \"id\": \"chatcmpl-8hzyQPXhS87S4tZr6s3jvaYjpcjbD\",\n",
      "  \"object\": \"chat.completion\",\n",
      "  \"created\": 1705497022,\n",
      "  \"model\": \"gpt-35-turbo\",\n",
      "  \"choices\": [\n",
      "    {\n",
      "      \"finish_reason\": \"stop\",\n",
      "      \"index\": 0,\n",
      "      \"message\": {\n",
      "        \"role\": \"assistant\",\n",
      "        \"content\": \"{\\n  \\\"PERSON\\\": [\\\"Mr. Heinemann\\\"],\\n  \\\"ORG\\\": [\\\"magazine industry\\\"]\\n}\"\n",
      "      }\n",
      "    }\n",
      "  ],\n",
      "  \"usage\": {\n",
      "    \"prompt_tokens\": 386,\n",
      "    \"completion_tokens\": 21,\n",
      "    \"total_tokens\": 407\n",
      "  }\n",
      "})\n"
     ]
    },
    {
     "name": "stderr",
     "output_type": "stream",
     "text": [
      " 18%|█▊        | 9/50 [00:15<01:03,  1.55s/it]"
     ]
    },
    {
     "name": "stdout",
     "output_type": "stream",
     "text": [
      "('{\\n  \"ORG\": [\"The company\"],\\n  \"GPE\": [\"Dongguan\"],\\n  \"CARDINAL\": [\"three\", \"120,000\", \"200\", \"70\", \"180\"]\\n}', <OpenAIObject chat.completion id=chatcmpl-8hzyRFbHnyk1BZsjuxjVr9JRKST2F at 0x7f3a792be8e0> JSON: {\n",
      "  \"id\": \"chatcmpl-8hzyRFbHnyk1BZsjuxjVr9JRKST2F\",\n",
      "  \"object\": \"chat.completion\",\n",
      "  \"created\": 1705497023,\n",
      "  \"model\": \"gpt-35-turbo\",\n",
      "  \"choices\": [\n",
      "    {\n",
      "      \"finish_reason\": \"stop\",\n",
      "      \"index\": 0,\n",
      "      \"message\": {\n",
      "        \"role\": \"assistant\",\n",
      "        \"content\": \"{\\n  \\\"ORG\\\": [\\\"The company\\\"],\\n  \\\"GPE\\\": [\\\"Dongguan\\\"],\\n  \\\"CARDINAL\\\": [\\\"three\\\", \\\"120,000\\\", \\\"200\\\", \\\"70\\\", \\\"180\\\"]\\n}\"\n",
      "      }\n",
      "    }\n",
      "  ],\n",
      "  \"usage\": {\n",
      "    \"prompt_tokens\": 435,\n",
      "    \"completion_tokens\": 43,\n",
      "    \"total_tokens\": 478\n",
      "  }\n",
      "})\n"
     ]
    },
    {
     "name": "stderr",
     "output_type": "stream",
     "text": [
      " 20%|██        | 10/50 [00:17<01:02,  1.56s/it]"
     ]
    },
    {
     "name": "stdout",
     "output_type": "stream",
     "text": [
      "('{\\n  \"PERSON\": [\"narrator\"],\\n  \"DATE\": [\"a certain point\"],\\n  \"CARDINAL\": [\"one\", \"each one\"],\\n  \"GPE\": [\"China\"]\\n}', <OpenAIObject chat.completion id=chatcmpl-8hzyT2wO3TvPpOKtACZujUW9AtOgr at 0x7f3a792be930> JSON: {\n",
      "  \"id\": \"chatcmpl-8hzyT2wO3TvPpOKtACZujUW9AtOgr\",\n",
      "  \"object\": \"chat.completion\",\n",
      "  \"created\": 1705497025,\n",
      "  \"model\": \"gpt-35-turbo\",\n",
      "  \"choices\": [\n",
      "    {\n",
      "      \"finish_reason\": \"stop\",\n",
      "      \"index\": 0,\n",
      "      \"message\": {\n",
      "        \"role\": \"assistant\",\n",
      "        \"content\": \"{\\n  \\\"PERSON\\\": [\\\"narrator\\\"],\\n  \\\"DATE\\\": [\\\"a certain point\\\"],\\n  \\\"CARDINAL\\\": [\\\"one\\\", \\\"each one\\\"],\\n  \\\"GPE\\\": [\\\"China\\\"]\\n}\"\n",
      "      }\n",
      "    }\n",
      "  ],\n",
      "  \"usage\": {\n",
      "    \"prompt_tokens\": 422,\n",
      "    \"completion_tokens\": 40,\n",
      "    \"total_tokens\": 462\n",
      "  }\n",
      "})\n"
     ]
    },
    {
     "name": "stderr",
     "output_type": "stream",
     "text": [
      " 22%|██▏       | 11/50 [00:18<00:56,  1.44s/it]"
     ]
    },
    {
     "name": "stdout",
     "output_type": "stream",
     "text": [
      "('{\\n  \"PERSON\": [\"Christy Whitman\"],\\n  \"ORG\": [\"White House\"]\\n}', <OpenAIObject chat.completion id=chatcmpl-8hzyUTvh4SefEFirR1AAZSA3wYm40 at 0x7f3a792bf100> JSON: {\n",
      "  \"id\": \"chatcmpl-8hzyUTvh4SefEFirR1AAZSA3wYm40\",\n",
      "  \"object\": \"chat.completion\",\n",
      "  \"created\": 1705497026,\n",
      "  \"model\": \"gpt-35-turbo\",\n",
      "  \"choices\": [\n",
      "    {\n",
      "      \"finish_reason\": \"stop\",\n",
      "      \"index\": 0,\n",
      "      \"message\": {\n",
      "        \"role\": \"assistant\",\n",
      "        \"content\": \"{\\n  \\\"PERSON\\\": [\\\"Christy Whitman\\\"],\\n  \\\"ORG\\\": [\\\"White House\\\"]\\n}\"\n",
      "      }\n",
      "    }\n",
      "  ],\n",
      "  \"usage\": {\n",
      "    \"prompt_tokens\": 397,\n",
      "    \"completion_tokens\": 20,\n",
      "    \"total_tokens\": 417\n",
      "  }\n",
      "})\n"
     ]
    },
    {
     "name": "stderr",
     "output_type": "stream",
     "text": [
      " 24%|██▍       | 12/50 [00:20<00:54,  1.44s/it]"
     ]
    },
    {
     "name": "stdout",
     "output_type": "stream",
     "text": [
      "('{\\n  \"GPE\": [\"Van Nuys\", \"Calif.\", \"Oklahoma City\", \"Pontiac\", \"Mich.\"],\\n  \"ORG\": [\"Pontiac Firebird\", \"Chevrolet Camaro\"]\\n}', <OpenAIObject chat.completion id=chatcmpl-8hzyVlpVyICiGeIei1s2HabCtEbEr at 0x7f3a792bf420> JSON: {\n",
      "  \"id\": \"chatcmpl-8hzyVlpVyICiGeIei1s2HabCtEbEr\",\n",
      "  \"object\": \"chat.completion\",\n",
      "  \"created\": 1705497027,\n",
      "  \"model\": \"gpt-35-turbo\",\n",
      "  \"choices\": [\n",
      "    {\n",
      "      \"finish_reason\": \"stop\",\n",
      "      \"index\": 0,\n",
      "      \"message\": {\n",
      "        \"role\": \"assistant\",\n",
      "        \"content\": \"{\\n  \\\"GPE\\\": [\\\"Van Nuys\\\", \\\"Calif.\\\", \\\"Oklahoma City\\\", \\\"Pontiac\\\", \\\"Mich.\\\"],\\n  \\\"ORG\\\": [\\\"Pontiac Firebird\\\", \\\"Chevrolet Camaro\\\"]\\n}\"\n",
      "      }\n",
      "    }\n",
      "  ],\n",
      "  \"usage\": {\n",
      "    \"prompt_tokens\": 436,\n",
      "    \"completion_tokens\": 46,\n",
      "    \"total_tokens\": 482\n",
      "  }\n",
      "})\n"
     ]
    },
    {
     "name": "stderr",
     "output_type": "stream",
     "text": [
      " 26%|██▌       | 13/50 [00:21<00:50,  1.36s/it]"
     ]
    },
    {
     "name": "stdout",
     "output_type": "stream",
     "text": [
      "('{\\n  \"CARDINAL\": [\"1480\", \"24\"],\\n  \"GPE\": [\"Shandong\"],\\n  \"DATE\": [\"Last year\"]\\n}', <OpenAIObject chat.completion id=chatcmpl-8hzyXDR1c8SLzkHaORO6Ita7nS8Nr at 0x7f3a792bef70> JSON: {\n",
      "  \"id\": \"chatcmpl-8hzyXDR1c8SLzkHaORO6Ita7nS8Nr\",\n",
      "  \"object\": \"chat.completion\",\n",
      "  \"created\": 1705497029,\n",
      "  \"model\": \"gpt-35-turbo\",\n",
      "  \"choices\": [\n",
      "    {\n",
      "      \"finish_reason\": \"stop\",\n",
      "      \"index\": 0,\n",
      "      \"message\": {\n",
      "        \"role\": \"assistant\",\n",
      "        \"content\": \"{\\n  \\\"CARDINAL\\\": [\\\"1480\\\", \\\"24\\\"],\\n  \\\"GPE\\\": [\\\"Shandong\\\"],\\n  \\\"DATE\\\": [\\\"Last year\\\"]\\n}\"\n",
      "      }\n",
      "    }\n",
      "  ],\n",
      "  \"usage\": {\n",
      "    \"prompt_tokens\": 421,\n",
      "    \"completion_tokens\": 32,\n",
      "    \"total_tokens\": 453\n",
      "  }\n",
      "})\n"
     ]
    },
    {
     "name": "stderr",
     "output_type": "stream",
     "text": [
      " 28%|██▊       | 14/50 [00:23<00:55,  1.54s/it]"
     ]
    },
    {
     "name": "stdout",
     "output_type": "stream",
     "text": [
      "('{\\n  \"CARDINAL\": [],\\n  \"DATE\": [\"2003\"],\\n  \"EVENT\": [\"SARS\"],\\n  \"FAC\": [],\\n  \"GPE\": [],\\n  \"LANGUAGE\": [],\\n  \"LAW\": [],\\n  \"LOC\": [],\\n  \"MONEY\": [],\\n  \"NORP\": [],\\n  \"ORDINAL\": [],\\n  \"ORG\": [],\\n  \"PERCENT\": [],\\n  \"PERSON\": [],\\n  \"PRODUCT\": [],\\n  \"QUANTITY\": [],\\n  \"TIME\": [],\\n  \"WORK_OF_ART\": []\\n}', <OpenAIObject chat.completion id=chatcmpl-8hzyY0KfbYg9XmjnoPCMrThJPC3Bb at 0x7f3a792bddf0> JSON: {\n",
      "  \"id\": \"chatcmpl-8hzyY0KfbYg9XmjnoPCMrThJPC3Bb\",\n",
      "  \"object\": \"chat.completion\",\n",
      "  \"created\": 1705497030,\n",
      "  \"model\": \"gpt-35-turbo\",\n",
      "  \"choices\": [\n",
      "    {\n",
      "      \"finish_reason\": \"stop\",\n",
      "      \"index\": 0,\n",
      "      \"message\": {\n",
      "        \"role\": \"assistant\",\n",
      "        \"content\": \"{\\n  \\\"CARDINAL\\\": [],\\n  \\\"DATE\\\": [\\\"2003\\\"],\\n  \\\"EVENT\\\": [\\\"SARS\\\"],\\n  \\\"FAC\\\": [],\\n  \\\"GPE\\\": [],\\n  \\\"LANGUAGE\\\": [],\\n  \\\"LAW\\\": [],\\n  \\\"LOC\\\": [],\\n  \\\"MONEY\\\": [],\\n  \\\"NORP\\\": [],\\n  \\\"ORDINAL\\\": [],\\n  \\\"ORG\\\": [],\\n  \\\"PERCENT\\\": [],\\n  \\\"PERSON\\\": [],\\n  \\\"PRODUCT\\\": [],\\n  \\\"QUANTITY\\\": [],\\n  \\\"TIME\\\": [],\\n  \\\"WORK_OF_ART\\\": []\\n}\"\n",
      "      }\n",
      "    }\n",
      "  ],\n",
      "  \"usage\": {\n",
      "    \"prompt_tokens\": 438,\n",
      "    \"completion_tokens\": 110,\n",
      "    \"total_tokens\": 548\n",
      "  }\n",
      "})\n"
     ]
    },
    {
     "name": "stderr",
     "output_type": "stream",
     "text": [
      " 30%|███       | 15/50 [00:25<00:59,  1.70s/it]"
     ]
    },
    {
     "name": "stdout",
     "output_type": "stream",
     "text": [
      "('{\\n  \"CARDINAL\": [],\\n  \"DATE\": [],\\n  \"EVENT\": [],\\n  \"FAC\": [],\\n  \"GPE\": [],\\n  \"LANGUAGE\": [],\\n  \"LAW\": [],\\n  \"LOC\": [],\\n  \"MONEY\": [],\\n  \"NORP\": [],\\n  \"ORDINAL\": [],\\n  \"ORG\": [],\\n  \"PERCENT\": [],\\n  \"PERSON\": [],\\n  \"PRODUCT\": [],\\n  \"QUANTITY\": [],\\n  \"TIME\": [],\\n  \"WORK_OF_ART\": []\\n}', <OpenAIObject chat.completion id=chatcmpl-8hzyaPrEOx9VB7eBdtBSYqq2pqduV at 0x7f3a792bfab0> JSON: {\n",
      "  \"id\": \"chatcmpl-8hzyaPrEOx9VB7eBdtBSYqq2pqduV\",\n",
      "  \"object\": \"chat.completion\",\n",
      "  \"created\": 1705497032,\n",
      "  \"model\": \"gpt-35-turbo\",\n",
      "  \"choices\": [\n",
      "    {\n",
      "      \"finish_reason\": \"stop\",\n",
      "      \"index\": 0,\n",
      "      \"message\": {\n",
      "        \"role\": \"assistant\",\n",
      "        \"content\": \"{\\n  \\\"CARDINAL\\\": [],\\n  \\\"DATE\\\": [],\\n  \\\"EVENT\\\": [],\\n  \\\"FAC\\\": [],\\n  \\\"GPE\\\": [],\\n  \\\"LANGUAGE\\\": [],\\n  \\\"LAW\\\": [],\\n  \\\"LOC\\\": [],\\n  \\\"MONEY\\\": [],\\n  \\\"NORP\\\": [],\\n  \\\"ORDINAL\\\": [],\\n  \\\"ORG\\\": [],\\n  \\\"PERCENT\\\": [],\\n  \\\"PERSON\\\": [],\\n  \\\"PRODUCT\\\": [],\\n  \\\"QUANTITY\\\": [],\\n  \\\"TIME\\\": [],\\n  \\\"WORK_OF_ART\\\": []\\n}\"\n",
      "      }\n",
      "    }\n",
      "  ],\n",
      "  \"usage\": {\n",
      "    \"prompt_tokens\": 409,\n",
      "    \"completion_tokens\": 104,\n",
      "    \"total_tokens\": 513\n",
      "  }\n",
      "})\n"
     ]
    },
    {
     "name": "stderr",
     "output_type": "stream",
     "text": [
      " 32%|███▏      | 16/50 [00:26<00:54,  1.60s/it]"
     ]
    },
    {
     "name": "stdout",
     "output_type": "stream",
     "text": [
      "('{\\n  \"DATE\": [\"before Christmas break\"],\\n  \"GPE\": [\"Linpien\", \"Pingtung Plain\"],\\n  \"EVENT\": [\"Wax Apple Festival\"]\\n}', <OpenAIObject chat.completion id=chatcmpl-8hzycJbCZmvQ2Ql4nNfDAqeuIhNVT at 0x7f3a7beea340> JSON: {\n",
      "  \"id\": \"chatcmpl-8hzycJbCZmvQ2Ql4nNfDAqeuIhNVT\",\n",
      "  \"object\": \"chat.completion\",\n",
      "  \"created\": 1705497034,\n",
      "  \"model\": \"gpt-35-turbo\",\n",
      "  \"choices\": [\n",
      "    {\n",
      "      \"finish_reason\": \"stop\",\n",
      "      \"index\": 0,\n",
      "      \"message\": {\n",
      "        \"role\": \"assistant\",\n",
      "        \"content\": \"{\\n  \\\"DATE\\\": [\\\"before Christmas break\\\"],\\n  \\\"GPE\\\": [\\\"Linpien\\\", \\\"Pingtung Plain\\\"],\\n  \\\"EVENT\\\": [\\\"Wax Apple Festival\\\"]\\n}\"\n",
      "      }\n",
      "    }\n",
      "  ],\n",
      "  \"usage\": {\n",
      "    \"prompt_tokens\": 457,\n",
      "    \"completion_tokens\": 37,\n",
      "    \"total_tokens\": 494\n",
      "  }\n",
      "})\n"
     ]
    },
    {
     "name": "stderr",
     "output_type": "stream",
     "text": [
      " 34%|███▍      | 17/50 [00:28<00:54,  1.64s/it]"
     ]
    },
    {
     "name": "stdout",
     "output_type": "stream",
     "text": [
      "('{\\n  \"CARDINAL\": [],\\n  \"DATE\": [],\\n  \"EVENT\": [],\\n  \"FAC\": [],\\n  \"GPE\": [],\\n  \"LANGUAGE\": [],\\n  \"LAW\": [],\\n  \"LOC\": [],\\n  \"MONEY\": [],\\n  \"NORP\": [],\\n  \"ORDINAL\": [],\\n  \"ORG\": [],\\n  \"PERCENT\": [],\\n  \"PERSON\": [],\\n  \"PRODUCT\": [],\\n  \"QUANTITY\": [],\\n  \"TIME\": [],\\n  \"WORK_OF_ART\": []\\n}', <OpenAIObject chat.completion id=chatcmpl-8hzydYVwb3SVzisweGl2yDJgVOzxo at 0x7f3a844ac680> JSON: {\n",
      "  \"id\": \"chatcmpl-8hzydYVwb3SVzisweGl2yDJgVOzxo\",\n",
      "  \"object\": \"chat.completion\",\n",
      "  \"created\": 1705497035,\n",
      "  \"model\": \"gpt-35-turbo\",\n",
      "  \"choices\": [\n",
      "    {\n",
      "      \"finish_reason\": \"stop\",\n",
      "      \"index\": 0,\n",
      "      \"message\": {\n",
      "        \"role\": \"assistant\",\n",
      "        \"content\": \"{\\n  \\\"CARDINAL\\\": [],\\n  \\\"DATE\\\": [],\\n  \\\"EVENT\\\": [],\\n  \\\"FAC\\\": [],\\n  \\\"GPE\\\": [],\\n  \\\"LANGUAGE\\\": [],\\n  \\\"LAW\\\": [],\\n  \\\"LOC\\\": [],\\n  \\\"MONEY\\\": [],\\n  \\\"NORP\\\": [],\\n  \\\"ORDINAL\\\": [],\\n  \\\"ORG\\\": [],\\n  \\\"PERCENT\\\": [],\\n  \\\"PERSON\\\": [],\\n  \\\"PRODUCT\\\": [],\\n  \\\"QUANTITY\\\": [],\\n  \\\"TIME\\\": [],\\n  \\\"WORK_OF_ART\\\": []\\n}\"\n",
      "      }\n",
      "    }\n",
      "  ],\n",
      "  \"usage\": {\n",
      "    \"prompt_tokens\": 406,\n",
      "    \"completion_tokens\": 104,\n",
      "    \"total_tokens\": 510\n",
      "  }\n",
      "})\n"
     ]
    },
    {
     "name": "stderr",
     "output_type": "stream",
     "text": [
      " 36%|███▌      | 18/50 [00:29<00:49,  1.53s/it]"
     ]
    },
    {
     "name": "stdout",
     "output_type": "stream",
     "text": [
      "('{\\n  \"CARDINAL\": [\"0.9\"],\\n  \"DATE\": [\"last month\"],\\n  \"ORG\": [\"Labor Department\"],\\n  \"PERSON\": [\"Analysts\"]\\n}', <OpenAIObject chat.completion id=chatcmpl-8hzyfC78CjsJtqDBgkAqm20Ay5EUw at 0x7f3a70d58130> JSON: {\n",
      "  \"id\": \"chatcmpl-8hzyfC78CjsJtqDBgkAqm20Ay5EUw\",\n",
      "  \"object\": \"chat.completion\",\n",
      "  \"created\": 1705497037,\n",
      "  \"model\": \"gpt-35-turbo\",\n",
      "  \"choices\": [\n",
      "    {\n",
      "      \"finish_reason\": \"stop\",\n",
      "      \"index\": 0,\n",
      "      \"message\": {\n",
      "        \"role\": \"assistant\",\n",
      "        \"content\": \"{\\n  \\\"CARDINAL\\\": [\\\"0.9\\\"],\\n  \\\"DATE\\\": [\\\"last month\\\"],\\n  \\\"ORG\\\": [\\\"Labor Department\\\"],\\n  \\\"PERSON\\\": [\\\"Analysts\\\"]\\n}\"\n",
      "      }\n",
      "    }\n",
      "  ],\n",
      "  \"usage\": {\n",
      "    \"prompt_tokens\": 433,\n",
      "    \"completion_tokens\": 36,\n",
      "    \"total_tokens\": 469\n",
      "  }\n",
      "})\n"
     ]
    },
    {
     "name": "stderr",
     "output_type": "stream",
     "text": [
      " 38%|███▊      | 19/50 [00:31<00:48,  1.56s/it]"
     ]
    },
    {
     "name": "stdout",
     "output_type": "stream",
     "text": [
      "('{\\n  \"CARDINAL\": [\"218\", \"6\", \"260\", \"200 million\"],\\n  \"ORG\": [\"Shanghai\"],\\n  \"MONEY\": [\"200 million US dollars\"]\\n}', <OpenAIObject chat.completion id=chatcmpl-8hzyhOtkY4MpIlXfxiCyTiyQkxAL8 at 0x7f3a792bfe70> JSON: {\n",
      "  \"id\": \"chatcmpl-8hzyhOtkY4MpIlXfxiCyTiyQkxAL8\",\n",
      "  \"object\": \"chat.completion\",\n",
      "  \"created\": 1705497039,\n",
      "  \"model\": \"gpt-35-turbo\",\n",
      "  \"choices\": [\n",
      "    {\n",
      "      \"finish_reason\": \"stop\",\n",
      "      \"index\": 0,\n",
      "      \"message\": {\n",
      "        \"role\": \"assistant\",\n",
      "        \"content\": \"{\\n  \\\"CARDINAL\\\": [\\\"218\\\", \\\"6\\\", \\\"260\\\", \\\"200 million\\\"],\\n  \\\"ORG\\\": [\\\"Shanghai\\\"],\\n  \\\"MONEY\\\": [\\\"200 million US dollars\\\"]\\n}\"\n",
      "      }\n",
      "    }\n",
      "  ],\n",
      "  \"usage\": {\n",
      "    \"prompt_tokens\": 380,\n",
      "    \"completion_tokens\": 39,\n",
      "    \"total_tokens\": 419\n",
      "  }\n",
      "})\n"
     ]
    },
    {
     "name": "stderr",
     "output_type": "stream",
     "text": [
      " 40%|████      | 20/50 [00:33<00:52,  1.76s/it]"
     ]
    },
    {
     "name": "stdout",
     "output_type": "stream",
     "text": [
      "('{\\n  \"PERSON\": [\"Scooter Libby\"],\\n  \"ORG\": [\"lawyer\"]\\n}', <OpenAIObject chat.completion id=chatcmpl-8hzyjfz7C97EDo3rxzmybLBLD59FO at 0x7f3a70d58c70> JSON: {\n",
      "  \"id\": \"chatcmpl-8hzyjfz7C97EDo3rxzmybLBLD59FO\",\n",
      "  \"object\": \"chat.completion\",\n",
      "  \"created\": 1705497041,\n",
      "  \"model\": \"gpt-35-turbo\",\n",
      "  \"choices\": [\n",
      "    {\n",
      "      \"finish_reason\": \"stop\",\n",
      "      \"index\": 0,\n",
      "      \"message\": {\n",
      "        \"role\": \"assistant\",\n",
      "        \"content\": \"{\\n  \\\"PERSON\\\": [\\\"Scooter Libby\\\"],\\n  \\\"ORG\\\": [\\\"lawyer\\\"]\\n}\"\n",
      "      }\n",
      "    }\n",
      "  ],\n",
      "  \"usage\": {\n",
      "    \"prompt_tokens\": 417,\n",
      "    \"completion_tokens\": 21,\n",
      "    \"total_tokens\": 438\n",
      "  }\n",
      "})\n"
     ]
    },
    {
     "name": "stderr",
     "output_type": "stream",
     "text": [
      " 42%|████▏     | 21/50 [00:36<00:59,  2.05s/it]"
     ]
    },
    {
     "name": "stdout",
     "output_type": "stream",
     "text": [
      "('{\\n  \"CARDINAL\": [],\\n  \"DATE\": [],\\n  \"EVENT\": [],\\n  \"FAC\": [],\\n  \"GPE\": [],\\n  \"LANGUAGE\": [],\\n  \"LAW\": [],\\n  \"LOC\": [],\\n  \"MONEY\": [],\\n  \"NORP\": [],\\n  \"ORDINAL\": [],\\n  \"ORG\": [],\\n  \"PERCENT\": [],\\n  \"PERSON\": [],\\n  \"PRODUCT\": [],\\n  \"QUANTITY\": [],\\n  \"TIME\": [],\\n  \"WORK_OF_ART\": []\\n}', <OpenAIObject chat.completion id=chatcmpl-8hzylHPxuMSYTUHV5bsmO02U7a4QS at 0x7f3a70d59d50> JSON: {\n",
      "  \"id\": \"chatcmpl-8hzylHPxuMSYTUHV5bsmO02U7a4QS\",\n",
      "  \"object\": \"chat.completion\",\n",
      "  \"created\": 1705497043,\n",
      "  \"model\": \"gpt-35-turbo\",\n",
      "  \"choices\": [\n",
      "    {\n",
      "      \"finish_reason\": \"stop\",\n",
      "      \"index\": 0,\n",
      "      \"message\": {\n",
      "        \"role\": \"assistant\",\n",
      "        \"content\": \"{\\n  \\\"CARDINAL\\\": [],\\n  \\\"DATE\\\": [],\\n  \\\"EVENT\\\": [],\\n  \\\"FAC\\\": [],\\n  \\\"GPE\\\": [],\\n  \\\"LANGUAGE\\\": [],\\n  \\\"LAW\\\": [],\\n  \\\"LOC\\\": [],\\n  \\\"MONEY\\\": [],\\n  \\\"NORP\\\": [],\\n  \\\"ORDINAL\\\": [],\\n  \\\"ORG\\\": [],\\n  \\\"PERCENT\\\": [],\\n  \\\"PERSON\\\": [],\\n  \\\"PRODUCT\\\": [],\\n  \\\"QUANTITY\\\": [],\\n  \\\"TIME\\\": [],\\n  \\\"WORK_OF_ART\\\": []\\n}\"\n",
      "      }\n",
      "    }\n",
      "  ],\n",
      "  \"usage\": {\n",
      "    \"prompt_tokens\": 428,\n",
      "    \"completion_tokens\": 104,\n",
      "    \"total_tokens\": 532\n",
      "  }\n",
      "})\n"
     ]
    },
    {
     "name": "stderr",
     "output_type": "stream",
     "text": [
      " 44%|████▍     | 22/50 [00:37<00:50,  1.82s/it]"
     ]
    },
    {
     "name": "stdout",
     "output_type": "stream",
     "text": [
      "('{\\n  \"ORG\": [\"RTC\", \"Royal Trustco Ltd.\"],\\n  \"GPE\": [\"Toronto\", \"Costa Mesa\", \"Calif.\"],\\n  \"MONEY\": [\"$ 949 million\"]\\n}', <OpenAIObject chat.completion id=chatcmpl-8hzynlXqHYE52KSyPCYCgJ6slHdxD at 0x7f3a70d58ea0> JSON: {\n",
      "  \"id\": \"chatcmpl-8hzynlXqHYE52KSyPCYCgJ6slHdxD\",\n",
      "  \"object\": \"chat.completion\",\n",
      "  \"created\": 1705497045,\n",
      "  \"model\": \"gpt-35-turbo\",\n",
      "  \"choices\": [\n",
      "    {\n",
      "      \"finish_reason\": \"stop\",\n",
      "      \"index\": 0,\n",
      "      \"message\": {\n",
      "        \"role\": \"assistant\",\n",
      "        \"content\": \"{\\n  \\\"ORG\\\": [\\\"RTC\\\", \\\"Royal Trustco Ltd.\\\"],\\n  \\\"GPE\\\": [\\\"Toronto\\\", \\\"Costa Mesa\\\", \\\"Calif.\\\"],\\n  \\\"MONEY\\\": [\\\"$ 949 million\\\"]\\n}\"\n",
      "      }\n",
      "    }\n",
      "  ],\n",
      "  \"usage\": {\n",
      "    \"prompt_tokens\": 422,\n",
      "    \"completion_tokens\": 45,\n",
      "    \"total_tokens\": 467\n",
      "  }\n",
      "})\n"
     ]
    },
    {
     "name": "stderr",
     "output_type": "stream",
     "text": [
      " 46%|████▌     | 23/50 [00:39<00:45,  1.70s/it]"
     ]
    },
    {
     "name": "stdout",
     "output_type": "stream",
     "text": [
      "('{\\n  \"CARDINAL\": [\"1997\", \"220.178\", \"18.85\", \"110.380\", \"109.798\", \"15\", \"22.7\", \"1996\"],\\n  \"GPE\": [\"Mexico\"],\\n  \"ORG\": [\"Mexico \\'s Treasury Department\"],\\n  \"DATE\": [\"recently\"]\\n}', <OpenAIObject chat.completion id=chatcmpl-8hzyorg3W11spsg4dEjorvsH9rjBR at 0x7f3a71e40360> JSON: {\n",
      "  \"id\": \"chatcmpl-8hzyorg3W11spsg4dEjorvsH9rjBR\",\n",
      "  \"object\": \"chat.completion\",\n",
      "  \"created\": 1705497046,\n",
      "  \"model\": \"gpt-35-turbo\",\n",
      "  \"choices\": [\n",
      "    {\n",
      "      \"finish_reason\": \"stop\",\n",
      "      \"index\": 0,\n",
      "      \"message\": {\n",
      "        \"role\": \"assistant\",\n",
      "        \"content\": \"{\\n  \\\"CARDINAL\\\": [\\\"1997\\\", \\\"220.178\\\", \\\"18.85\\\", \\\"110.380\\\", \\\"109.798\\\", \\\"15\\\", \\\"22.7\\\", \\\"1996\\\"],\\n  \\\"GPE\\\": [\\\"Mexico\\\"],\\n  \\\"ORG\\\": [\\\"Mexico 's Treasury Department\\\"],\\n  \\\"DATE\\\": [\\\"recently\\\"]\\n}\"\n",
      "      }\n",
      "    }\n",
      "  ],\n",
      "  \"usage\": {\n",
      "    \"prompt_tokens\": 475,\n",
      "    \"completion_tokens\": 70,\n",
      "    \"total_tokens\": 545\n",
      "  }\n",
      "})\n"
     ]
    },
    {
     "name": "stderr",
     "output_type": "stream",
     "text": [
      " 48%|████▊     | 24/50 [00:41<00:50,  1.96s/it]"
     ]
    },
    {
     "name": "stdout",
     "output_type": "stream",
     "text": [
      "('{\\n  \"DATE\": [\"A month ago\"],\\n  \"PERSON\": [],\\n  \"NORP\": [],\\n  \"FAC\": [],\\n  \"ORG\": [],\\n  \"GPE\": [],\\n  \"LOC\": [],\\n  \"PRODUCT\": [],\\n  \"EVENT\": [],\\n  \"WORK_OF_ART\": [],\\n  \"LAW\": [],\\n  \"LANGUAGE\": [],\\n  \"DATE\": [],\\n  \"TIME\": [],\\n  \"PERCENT\": [],\\n  \"MONEY\": [],\\n  \"QUANTITY\": [],\\n  \"ORDINAL\": [],\\n  \"CARDINAL\": []\\n}', <OpenAIObject chat.completion id=chatcmpl-8hzyquLRxS2VA1AuaA4i1h7ksTs5S at 0x7f3a8f1f5ad0> JSON: {\n",
      "  \"id\": \"chatcmpl-8hzyquLRxS2VA1AuaA4i1h7ksTs5S\",\n",
      "  \"object\": \"chat.completion\",\n",
      "  \"created\": 1705497048,\n",
      "  \"model\": \"gpt-35-turbo\",\n",
      "  \"choices\": [\n",
      "    {\n",
      "      \"finish_reason\": \"stop\",\n",
      "      \"index\": 0,\n",
      "      \"message\": {\n",
      "        \"role\": \"assistant\",\n",
      "        \"content\": \"{\\n  \\\"DATE\\\": [\\\"A month ago\\\"],\\n  \\\"PERSON\\\": [],\\n  \\\"NORP\\\": [],\\n  \\\"FAC\\\": [],\\n  \\\"ORG\\\": [],\\n  \\\"GPE\\\": [],\\n  \\\"LOC\\\": [],\\n  \\\"PRODUCT\\\": [],\\n  \\\"EVENT\\\": [],\\n  \\\"WORK_OF_ART\\\": [],\\n  \\\"LAW\\\": [],\\n  \\\"LANGUAGE\\\": [],\\n  \\\"DATE\\\": [],\\n  \\\"TIME\\\": [],\\n  \\\"PERCENT\\\": [],\\n  \\\"MONEY\\\": [],\\n  \\\"QUANTITY\\\": [],\\n  \\\"ORDINAL\\\": [],\\n  \\\"CARDINAL\\\": []\\n}\"\n",
      "      }\n",
      "    }\n",
      "  ],\n",
      "  \"usage\": {\n",
      "    \"prompt_tokens\": 441,\n",
      "    \"completion_tokens\": 113,\n",
      "    \"total_tokens\": 554\n",
      "  }\n",
      "})\n"
     ]
    },
    {
     "name": "stderr",
     "output_type": "stream",
     "text": [
      " 50%|█████     | 25/50 [00:43<00:49,  1.99s/it]"
     ]
    },
    {
     "name": "stdout",
     "output_type": "stream",
     "text": [
      "('{\\n  \"CARDINAL\": [\"50\", \"three\"],\\n  \"DATE\": [],\\n  \"EVENT\": [],\\n  \"FAC\": [],\\n  \"GPE\": [],\\n  \"LANGUAGE\": [],\\n  \"LAW\": [],\\n  \"LOC\": [],\\n  \"MONEY\": [],\\n  \"NORP\": [],\\n  \"ORDINAL\": [],\\n  \"ORG\": [],\\n  \"PERCENT\": [],\\n  \"PERSON\": [],\\n  \"PRODUCT\": [],\\n  \"QUANTITY\": [],\\n  \"TIME\": []\\n}', <OpenAIObject chat.completion id=chatcmpl-8hzysFGVKS41ZJVatxSyhsVUDU8Ew at 0x7f3a8f1f5850> JSON: {\n",
      "  \"id\": \"chatcmpl-8hzysFGVKS41ZJVatxSyhsVUDU8Ew\",\n",
      "  \"object\": \"chat.completion\",\n",
      "  \"created\": 1705497050,\n",
      "  \"model\": \"gpt-35-turbo\",\n",
      "  \"choices\": [\n",
      "    {\n",
      "      \"finish_reason\": \"stop\",\n",
      "      \"index\": 0,\n",
      "      \"message\": {\n",
      "        \"role\": \"assistant\",\n",
      "        \"content\": \"{\\n  \\\"CARDINAL\\\": [\\\"50\\\", \\\"three\\\"],\\n  \\\"DATE\\\": [],\\n  \\\"EVENT\\\": [],\\n  \\\"FAC\\\": [],\\n  \\\"GPE\\\": [],\\n  \\\"LANGUAGE\\\": [],\\n  \\\"LAW\\\": [],\\n  \\\"LOC\\\": [],\\n  \\\"MONEY\\\": [],\\n  \\\"NORP\\\": [],\\n  \\\"ORDINAL\\\": [],\\n  \\\"ORG\\\": [],\\n  \\\"PERCENT\\\": [],\\n  \\\"PERSON\\\": [],\\n  \\\"PRODUCT\\\": [],\\n  \\\"QUANTITY\\\": [],\\n  \\\"TIME\\\": []\\n}\"\n",
      "      }\n",
      "    }\n",
      "  ],\n",
      "  \"usage\": {\n",
      "    \"prompt_tokens\": 427,\n",
      "    \"completion_tokens\": 102,\n",
      "    \"total_tokens\": 529\n",
      "  }\n",
      "})\n"
     ]
    },
    {
     "name": "stderr",
     "output_type": "stream",
     "text": [
      " 52%|█████▏    | 26/50 [00:45<00:49,  2.05s/it]"
     ]
    },
    {
     "name": "stdout",
     "output_type": "stream",
     "text": [
      "('{\\n  \"CARDINAL\": [\"1/5\", \"2.8 billion\"],\\n  \"DATE\": [\"From January to November\"],\\n  \"GPE\": [\"Pudong\"],\\n  \"MONEY\": [\"2.8 billion US dollars\"],\\n  \"ORDINAL\": [\"1/5\"],\\n  \"ORG\": [\"the entire city\"]\\n}', <OpenAIObject chat.completion id=chatcmpl-8hzyvAFSsuu136TOznmghnYOvsZYU at 0x7f3a71e33650> JSON: {\n",
      "  \"id\": \"chatcmpl-8hzyvAFSsuu136TOznmghnYOvsZYU\",\n",
      "  \"object\": \"chat.completion\",\n",
      "  \"created\": 1705497053,\n",
      "  \"model\": \"gpt-35-turbo\",\n",
      "  \"choices\": [\n",
      "    {\n",
      "      \"finish_reason\": \"stop\",\n",
      "      \"index\": 0,\n",
      "      \"message\": {\n",
      "        \"role\": \"assistant\",\n",
      "        \"content\": \"{\\n  \\\"CARDINAL\\\": [\\\"1/5\\\", \\\"2.8 billion\\\"],\\n  \\\"DATE\\\": [\\\"From January to November\\\"],\\n  \\\"GPE\\\": [\\\"Pudong\\\"],\\n  \\\"MONEY\\\": [\\\"2.8 billion US dollars\\\"],\\n  \\\"ORDINAL\\\": [\\\"1/5\\\"],\\n  \\\"ORG\\\": [\\\"the entire city\\\"]\\n}\"\n",
      "      }\n",
      "    }\n",
      "  ],\n",
      "  \"usage\": {\n",
      "    \"prompt_tokens\": 410,\n",
      "    \"completion_tokens\": 70,\n",
      "    \"total_tokens\": 480\n",
      "  }\n",
      "})\n"
     ]
    },
    {
     "name": "stderr",
     "output_type": "stream",
     "text": [
      " 54%|█████▍    | 27/50 [00:47<00:41,  1.82s/it]"
     ]
    },
    {
     "name": "stdout",
     "output_type": "stream",
     "text": [
      "('{\\n  \"DATE\": [\"in months\"],\\n  \"ORG\": [\"Federal Reserve\"],\\n  \"CARDINAL\": [\"many\"],\\n  \"PERSON\": [\"Analysts\"],\\n  \"GPE\": []\\n}', <OpenAIObject chat.completion id=chatcmpl-8hzyx5Oavm0X7YyvYFFDd8CNHevPb at 0x7f3a7b8d2020> JSON: {\n",
      "  \"id\": \"chatcmpl-8hzyx5Oavm0X7YyvYFFDd8CNHevPb\",\n",
      "  \"object\": \"chat.completion\",\n",
      "  \"created\": 1705497055,\n",
      "  \"model\": \"gpt-35-turbo\",\n",
      "  \"choices\": [\n",
      "    {\n",
      "      \"finish_reason\": \"stop\",\n",
      "      \"index\": 0,\n",
      "      \"message\": {\n",
      "        \"role\": \"assistant\",\n",
      "        \"content\": \"{\\n  \\\"DATE\\\": [\\\"in months\\\"],\\n  \\\"ORG\\\": [\\\"Federal Reserve\\\"],\\n  \\\"CARDINAL\\\": [\\\"many\\\"],\\n  \\\"PERSON\\\": [\\\"Analysts\\\"],\\n  \\\"GPE\\\": []\\n}\"\n",
      "      }\n",
      "    }\n",
      "  ],\n",
      "  \"usage\": {\n",
      "    \"prompt_tokens\": 409,\n",
      "    \"completion_tokens\": 40,\n",
      "    \"total_tokens\": 449\n",
      "  }\n",
      "})\n"
     ]
    },
    {
     "name": "stderr",
     "output_type": "stream",
     "text": [
      " 56%|█████▌    | 28/50 [00:49<00:41,  1.89s/it]"
     ]
    },
    {
     "name": "stdout",
     "output_type": "stream",
     "text": [
      "('{\\n  \"CARDINAL\": [],\\n  \"DATE\": [],\\n  \"EVENT\": [],\\n  \"FAC\": [],\\n  \"GPE\": [],\\n  \"LANGUAGE\": [],\\n  \"LAW\": [],\\n  \"LOC\": [],\\n  \"MONEY\": [],\\n  \"NORP\": [],\\n  \"ORDINAL\": [],\\n  \"ORG\": [],\\n  \"PERCENT\": [],\\n  \"PERSON\": [],\\n  \"PRODUCT\": [],\\n  \"QUANTITY\": [],\\n  \"TIME\": [],\\n  \"WORK_OF_ART\": []\\n}', <OpenAIObject chat.completion id=chatcmpl-8hzyyrTpG32XzGEGl3zD089hLImIO at 0x7f3a7b8d2de0> JSON: {\n",
      "  \"id\": \"chatcmpl-8hzyyrTpG32XzGEGl3zD089hLImIO\",\n",
      "  \"object\": \"chat.completion\",\n",
      "  \"created\": 1705497056,\n",
      "  \"model\": \"gpt-35-turbo\",\n",
      "  \"choices\": [\n",
      "    {\n",
      "      \"finish_reason\": \"stop\",\n",
      "      \"index\": 0,\n",
      "      \"message\": {\n",
      "        \"role\": \"assistant\",\n",
      "        \"content\": \"{\\n  \\\"CARDINAL\\\": [],\\n  \\\"DATE\\\": [],\\n  \\\"EVENT\\\": [],\\n  \\\"FAC\\\": [],\\n  \\\"GPE\\\": [],\\n  \\\"LANGUAGE\\\": [],\\n  \\\"LAW\\\": [],\\n  \\\"LOC\\\": [],\\n  \\\"MONEY\\\": [],\\n  \\\"NORP\\\": [],\\n  \\\"ORDINAL\\\": [],\\n  \\\"ORG\\\": [],\\n  \\\"PERCENT\\\": [],\\n  \\\"PERSON\\\": [],\\n  \\\"PRODUCT\\\": [],\\n  \\\"QUANTITY\\\": [],\\n  \\\"TIME\\\": [],\\n  \\\"WORK_OF_ART\\\": []\\n}\"\n",
      "      }\n",
      "    }\n",
      "  ],\n",
      "  \"usage\": {\n",
      "    \"prompt_tokens\": 407,\n",
      "    \"completion_tokens\": 104,\n",
      "    \"total_tokens\": 511\n",
      "  }\n",
      "})\n"
     ]
    },
    {
     "name": "stderr",
     "output_type": "stream",
     "text": [
      " 58%|█████▊    | 29/50 [00:50<00:36,  1.74s/it]"
     ]
    },
    {
     "name": "stdout",
     "output_type": "stream",
     "text": [
      "('{\\n  \"ORG\": [\"Young & Rubicam Inc.\"],\\n  \"PERSON\": [\"two senior executives\", \"a former employee\"],\\n  \"GPE\": [\"New Haven\", \"Conn.\"]\\n}', <OpenAIObject chat.completion id=chatcmpl-8hzz0btODLjQ86dvYLnxIGYXLENNN at 0x7f3a790e52b0> JSON: {\n",
      "  \"id\": \"chatcmpl-8hzz0btODLjQ86dvYLnxIGYXLENNN\",\n",
      "  \"object\": \"chat.completion\",\n",
      "  \"created\": 1705497058,\n",
      "  \"model\": \"gpt-35-turbo\",\n",
      "  \"choices\": [\n",
      "    {\n",
      "      \"finish_reason\": \"stop\",\n",
      "      \"index\": 0,\n",
      "      \"message\": {\n",
      "        \"role\": \"assistant\",\n",
      "        \"content\": \"{\\n  \\\"ORG\\\": [\\\"Young & Rubicam Inc.\\\"],\\n  \\\"PERSON\\\": [\\\"two senior executives\\\", \\\"a former employee\\\"],\\n  \\\"GPE\\\": [\\\"New Haven\\\", \\\"Conn.\\\"]\\n}\"\n",
      "      }\n",
      "    }\n",
      "  ],\n",
      "  \"usage\": {\n",
      "    \"prompt_tokens\": 428,\n",
      "    \"completion_tokens\": 41,\n",
      "    \"total_tokens\": 469\n",
      "  }\n",
      "})\n"
     ]
    },
    {
     "name": "stderr",
     "output_type": "stream",
     "text": [
      " 60%|██████    | 30/50 [00:52<00:33,  1.67s/it]"
     ]
    },
    {
     "name": "stdout",
     "output_type": "stream",
     "text": [
      "('{\\n  \"PERSON\": [\"Tsao Chi-hung\"],\\n  \"ORG\": [\"DPP\", \"Linpien Residents\\' Democracy Association\"],\\n  \"DATE\": [\"eight or nine years ago\"],\\n  \"CARDINAL\": []\\n}', <OpenAIObject chat.completion id=chatcmpl-8hzz1oDGqFpTUcEOzuQDZYceJQpyj at 0x7f3a790e4e00> JSON: {\n",
      "  \"id\": \"chatcmpl-8hzz1oDGqFpTUcEOzuQDZYceJQpyj\",\n",
      "  \"object\": \"chat.completion\",\n",
      "  \"created\": 1705497059,\n",
      "  \"model\": \"gpt-35-turbo\",\n",
      "  \"choices\": [\n",
      "    {\n",
      "      \"finish_reason\": \"stop\",\n",
      "      \"index\": 0,\n",
      "      \"message\": {\n",
      "        \"role\": \"assistant\",\n",
      "        \"content\": \"{\\n  \\\"PERSON\\\": [\\\"Tsao Chi-hung\\\"],\\n  \\\"ORG\\\": [\\\"DPP\\\", \\\"Linpien Residents' Democracy Association\\\"],\\n  \\\"DATE\\\": [\\\"eight or nine years ago\\\"],\\n  \\\"CARDINAL\\\": []\\n}\"\n",
      "      }\n",
      "    }\n",
      "  ],\n",
      "  \"usage\": {\n",
      "    \"prompt_tokens\": 398,\n",
      "    \"completion_tokens\": 47,\n",
      "    \"total_tokens\": 445\n",
      "  }\n",
      "})\n"
     ]
    },
    {
     "name": "stderr",
     "output_type": "stream",
     "text": [
      " 62%|██████▏   | 31/50 [00:53<00:31,  1.64s/it]"
     ]
    },
    {
     "name": "stdout",
     "output_type": "stream",
     "text": [
      "('I apologize, but I need the complete sentence in order to extract the named entities. Could you please provide the full sentence?', <OpenAIObject chat.completion id=chatcmpl-8hzz3iem3ZMetgPSY6nKzqcMIiJnR at 0x7f3a792c2bb0> JSON: {\n",
      "  \"id\": \"chatcmpl-8hzz3iem3ZMetgPSY6nKzqcMIiJnR\",\n",
      "  \"object\": \"chat.completion\",\n",
      "  \"created\": 1705497061,\n",
      "  \"model\": \"gpt-35-turbo\",\n",
      "  \"choices\": [\n",
      "    {\n",
      "      \"finish_reason\": \"stop\",\n",
      "      \"index\": 0,\n",
      "      \"message\": {\n",
      "        \"role\": \"assistant\",\n",
      "        \"content\": \"I apologize, but I need the complete sentence in order to extract the named entities. Could you please provide the full sentence?\"\n",
      "      }\n",
      "    }\n",
      "  ],\n",
      "  \"usage\": {\n",
      "    \"prompt_tokens\": 388,\n",
      "    \"completion_tokens\": 25,\n",
      "    \"total_tokens\": 413\n",
      "  }\n",
      "})\n",
      "-----------------------------------------------\n",
      "response does not contain {}. Returned [I apologize, but I need the complete sentence in order to extract the named entities. Could you please provide the full sentence?}\n",
      "-----------------------------------------------\n"
     ]
    },
    {
     "name": "stderr",
     "output_type": "stream",
     "text": [
      " 64%|██████▍   | 32/50 [00:55<00:28,  1.60s/it]"
     ]
    },
    {
     "name": "stdout",
     "output_type": "stream",
     "text": [
      "('{\\n  \"CARDINAL\": [\"850 million\", \"72%\", \"700 million\", \"75%\"],\\n  \"DATE\": [\"last year\", \"the same period\", \"the previous year\"],\\n  \"MONEY\": [\"US dollars\"],\\n  \"ORG\": [\"Tianjin Port Bonded Area\"],\\n  \"PERCENT\": [\"72%\", \"75%\"]\\n}', <OpenAIObject chat.completion id=chatcmpl-8hzz4oCjCvNMT7lNVKbJmBcbTWhtb at 0x7f3a8e253970> JSON: {\n",
      "  \"id\": \"chatcmpl-8hzz4oCjCvNMT7lNVKbJmBcbTWhtb\",\n",
      "  \"object\": \"chat.completion\",\n",
      "  \"created\": 1705497062,\n",
      "  \"model\": \"gpt-35-turbo\",\n",
      "  \"choices\": [\n",
      "    {\n",
      "      \"finish_reason\": \"stop\",\n",
      "      \"index\": 0,\n",
      "      \"message\": {\n",
      "        \"role\": \"assistant\",\n",
      "        \"content\": \"{\\n  \\\"CARDINAL\\\": [\\\"850 million\\\", \\\"72%\\\", \\\"700 million\\\", \\\"75%\\\"],\\n  \\\"DATE\\\": [\\\"last year\\\", \\\"the same period\\\", \\\"the previous year\\\"],\\n  \\\"MONEY\\\": [\\\"US dollars\\\"],\\n  \\\"ORG\\\": [\\\"Tianjin Port Bonded Area\\\"],\\n  \\\"PERCENT\\\": [\\\"72%\\\", \\\"75%\\\"]\\n}\"\n",
      "      }\n",
      "    }\n",
      "  ],\n",
      "  \"usage\": {\n",
      "    \"prompt_tokens\": 492,\n",
      "    \"completion_tokens\": 74,\n",
      "    \"total_tokens\": 566\n",
      "  }\n",
      "})\n"
     ]
    },
    {
     "name": "stderr",
     "output_type": "stream",
     "text": [
      " 66%|██████▌   | 33/50 [00:56<00:28,  1.66s/it]"
     ]
    },
    {
     "name": "stdout",
     "output_type": "stream",
     "text": [
      "('{\\n  \"CARDINAL\": [],\\n  \"DATE\": [],\\n  \"EVENT\": [],\\n  \"FAC\": [],\\n  \"GPE\": [],\\n  \"LANGUAGE\": [],\\n  \"LAW\": [],\\n  \"LOC\": [],\\n  \"MONEY\": [],\\n  \"NORP\": [],\\n  \"ORDINAL\": [],\\n  \"ORG\": [],\\n  \"PERCENT\": [],\\n  \"PERSON\": [],\\n  \"PRODUCT\": [],\\n  \"QUANTITY\": [],\\n  \"TIME\": [],\\n  \"WORK_OF_ART\": []\\n}', <OpenAIObject chat.completion id=chatcmpl-8hzz6vryAOcb5DUAmUW9gC0rcF8j1 at 0x7f3a792c3510> JSON: {\n",
      "  \"id\": \"chatcmpl-8hzz6vryAOcb5DUAmUW9gC0rcF8j1\",\n",
      "  \"object\": \"chat.completion\",\n",
      "  \"created\": 1705497064,\n",
      "  \"model\": \"gpt-35-turbo\",\n",
      "  \"choices\": [\n",
      "    {\n",
      "      \"finish_reason\": \"stop\",\n",
      "      \"index\": 0,\n",
      "      \"message\": {\n",
      "        \"role\": \"assistant\",\n",
      "        \"content\": \"{\\n  \\\"CARDINAL\\\": [],\\n  \\\"DATE\\\": [],\\n  \\\"EVENT\\\": [],\\n  \\\"FAC\\\": [],\\n  \\\"GPE\\\": [],\\n  \\\"LANGUAGE\\\": [],\\n  \\\"LAW\\\": [],\\n  \\\"LOC\\\": [],\\n  \\\"MONEY\\\": [],\\n  \\\"NORP\\\": [],\\n  \\\"ORDINAL\\\": [],\\n  \\\"ORG\\\": [],\\n  \\\"PERCENT\\\": [],\\n  \\\"PERSON\\\": [],\\n  \\\"PRODUCT\\\": [],\\n  \\\"QUANTITY\\\": [],\\n  \\\"TIME\\\": [],\\n  \\\"WORK_OF_ART\\\": []\\n}\"\n",
      "      }\n",
      "    }\n",
      "  ],\n",
      "  \"usage\": {\n",
      "    \"prompt_tokens\": 400,\n",
      "    \"completion_tokens\": 104,\n",
      "    \"total_tokens\": 504\n",
      "  }\n",
      "})\n"
     ]
    },
    {
     "name": "stderr",
     "output_type": "stream",
     "text": [
      " 68%|██████▊   | 34/50 [00:57<00:23,  1.46s/it]"
     ]
    },
    {
     "name": "stdout",
     "output_type": "stream",
     "text": [
      "('{\\n  \"DATE\": [\"October 1985\"],\\n  \"MONEY\": [\"$6 million\"]\\n}', <OpenAIObject chat.completion id=chatcmpl-8hzz8oKpn9yBRvOfov5Z9MIOniiJ7 at 0x7f3a792c33d0> JSON: {\n",
      "  \"id\": \"chatcmpl-8hzz8oKpn9yBRvOfov5Z9MIOniiJ7\",\n",
      "  \"object\": \"chat.completion\",\n",
      "  \"created\": 1705497066,\n",
      "  \"model\": \"gpt-35-turbo\",\n",
      "  \"choices\": [\n",
      "    {\n",
      "      \"finish_reason\": \"stop\",\n",
      "      \"index\": 0,\n",
      "      \"message\": {\n",
      "        \"role\": \"assistant\",\n",
      "        \"content\": \"{\\n  \\\"DATE\\\": [\\\"October 1985\\\"],\\n  \\\"MONEY\\\": [\\\"$6 million\\\"]\\n}\"\n",
      "      }\n",
      "    }\n",
      "  ],\n",
      "  \"usage\": {\n",
      "    \"prompt_tokens\": 411,\n",
      "    \"completion_tokens\": 22,\n",
      "    \"total_tokens\": 433\n",
      "  }\n",
      "})\n"
     ]
    },
    {
     "name": "stderr",
     "output_type": "stream",
     "text": [
      " 70%|███████   | 35/50 [00:59<00:23,  1.58s/it]"
     ]
    },
    {
     "name": "stdout",
     "output_type": "stream",
     "text": [
      "('{\\n  \"CARDINAL\": [],\\n  \"DATE\": [],\\n  \"EVENT\": [],\\n  \"FAC\": [],\\n  \"GPE\": [],\\n  \"LANGUAGE\": [],\\n  \"LAW\": [],\\n  \"LOC\": [],\\n  \"MONEY\": [],\\n  \"NORP\": [],\\n  \"ORDINAL\": [],\\n  \"ORG\": [],\\n  \"PERCENT\": [],\\n  \"PERSON\": [],\\n  \"PRODUCT\": [],\\n  \"QUANTITY\": [],\\n  \"TIME\": [],\\n  \"WORK_OF_ART\": []\\n}', <OpenAIObject chat.completion id=chatcmpl-8hzz90RdBoewQ4YsZZVvaJZDU1drk at 0x7f3a792c0680> JSON: {\n",
      "  \"id\": \"chatcmpl-8hzz90RdBoewQ4YsZZVvaJZDU1drk\",\n",
      "  \"object\": \"chat.completion\",\n",
      "  \"created\": 1705497067,\n",
      "  \"model\": \"gpt-35-turbo\",\n",
      "  \"choices\": [\n",
      "    {\n",
      "      \"finish_reason\": \"stop\",\n",
      "      \"index\": 0,\n",
      "      \"message\": {\n",
      "        \"role\": \"assistant\",\n",
      "        \"content\": \"{\\n  \\\"CARDINAL\\\": [],\\n  \\\"DATE\\\": [],\\n  \\\"EVENT\\\": [],\\n  \\\"FAC\\\": [],\\n  \\\"GPE\\\": [],\\n  \\\"LANGUAGE\\\": [],\\n  \\\"LAW\\\": [],\\n  \\\"LOC\\\": [],\\n  \\\"MONEY\\\": [],\\n  \\\"NORP\\\": [],\\n  \\\"ORDINAL\\\": [],\\n  \\\"ORG\\\": [],\\n  \\\"PERCENT\\\": [],\\n  \\\"PERSON\\\": [],\\n  \\\"PRODUCT\\\": [],\\n  \\\"QUANTITY\\\": [],\\n  \\\"TIME\\\": [],\\n  \\\"WORK_OF_ART\\\": []\\n}\"\n",
      "      }\n",
      "    }\n",
      "  ],\n",
      "  \"usage\": {\n",
      "    \"prompt_tokens\": 411,\n",
      "    \"completion_tokens\": 104,\n",
      "    \"total_tokens\": 515\n",
      "  }\n",
      "})\n"
     ]
    },
    {
     "name": "stderr",
     "output_type": "stream",
     "text": [
      " 72%|███████▏  | 36/50 [01:01<00:24,  1.72s/it]"
     ]
    },
    {
     "name": "stdout",
     "output_type": "stream",
     "text": [
      "('{\\n  \"CARDINAL\": [],\\n  \"DATE\": [],\\n  \"EVENT\": [],\\n  \"FAC\": [],\\n  \"GPE\": [\\n    \"Oklahoma City\"\\n  ],\\n  \"LANGUAGE\": [],\\n  \"LAW\": [],\\n  \"LOC\": [],\\n  \"MONEY\": [],\\n  \"NORP\": [],\\n  \"ORDINAL\": [],\\n  \"ORG\": [\\n    \"UAW\"\\n  ],\\n  \"PERCENT\": [],\\n  \"PERSON\": [\\n    \"Steve Featherston\"\\n  ],\\n  \"PRODUCT\": [\\n    \"A - body mid-sized cars\"\\n  ],\\n  \"QUANTITY\": [],\\n  \"TIME\": []\\n}', <OpenAIObject chat.completion id=chatcmpl-8hzzALv6Lgn3Z85V9jAQhKE2581X6 at 0x7f3a8e783a60> JSON: {\n",
      "  \"id\": \"chatcmpl-8hzzALv6Lgn3Z85V9jAQhKE2581X6\",\n",
      "  \"object\": \"chat.completion\",\n",
      "  \"created\": 1705497068,\n",
      "  \"model\": \"gpt-35-turbo\",\n",
      "  \"choices\": [\n",
      "    {\n",
      "      \"finish_reason\": \"stop\",\n",
      "      \"index\": 0,\n",
      "      \"message\": {\n",
      "        \"role\": \"assistant\",\n",
      "        \"content\": \"{\\n  \\\"CARDINAL\\\": [],\\n  \\\"DATE\\\": [],\\n  \\\"EVENT\\\": [],\\n  \\\"FAC\\\": [],\\n  \\\"GPE\\\": [\\n    \\\"Oklahoma City\\\"\\n  ],\\n  \\\"LANGUAGE\\\": [],\\n  \\\"LAW\\\": [],\\n  \\\"LOC\\\": [],\\n  \\\"MONEY\\\": [],\\n  \\\"NORP\\\": [],\\n  \\\"ORDINAL\\\": [],\\n  \\\"ORG\\\": [\\n    \\\"UAW\\\"\\n  ],\\n  \\\"PERCENT\\\": [],\\n  \\\"PERSON\\\": [\\n    \\\"Steve Featherston\\\"\\n  ],\\n  \\\"PRODUCT\\\": [\\n    \\\"A - body mid-sized cars\\\"\\n  ],\\n  \\\"QUANTITY\\\": [],\\n  \\\"TIME\\\": []\\n}\"\n",
      "      }\n",
      "    }\n",
      "  ],\n",
      "  \"usage\": {\n",
      "    \"prompt_tokens\": 453,\n",
      "    \"completion_tokens\": 132,\n",
      "    \"total_tokens\": 585\n",
      "  }\n",
      "})\n"
     ]
    },
    {
     "name": "stderr",
     "output_type": "stream",
     "text": [
      " 74%|███████▍  | 37/50 [01:04<00:24,  1.85s/it]"
     ]
    },
    {
     "name": "stdout",
     "output_type": "stream",
     "text": [
      "('{\\n  \"CARDINAL\": [],\\n  \"DATE\": [],\\n  \"EVENT\": [],\\n  \"FAC\": [],\\n  \"GPE\": [],\\n  \"LANGUAGE\": [],\\n  \"LAW\": [],\\n  \"LOC\": [],\\n  \"MONEY\": [],\\n  \"NORP\": [],\\n  \"ORDINAL\": [],\\n  \"ORG\": [],\\n  \"PERCENT\": [],\\n  \"PERSON\": [],\\n  \"PRODUCT\": [],\\n  \"QUANTITY\": [],\\n  \"TIME\": [],\\n  \"WORK_OF_ART\": []\\n}', <OpenAIObject chat.completion id=chatcmpl-8hzzCMQVjke4hTOCFbkWUcpEjNyKk at 0x7f3a8e783d30> JSON: {\n",
      "  \"id\": \"chatcmpl-8hzzCMQVjke4hTOCFbkWUcpEjNyKk\",\n",
      "  \"object\": \"chat.completion\",\n",
      "  \"created\": 1705497070,\n",
      "  \"model\": \"gpt-35-turbo\",\n",
      "  \"choices\": [\n",
      "    {\n",
      "      \"finish_reason\": \"stop\",\n",
      "      \"index\": 0,\n",
      "      \"message\": {\n",
      "        \"role\": \"assistant\",\n",
      "        \"content\": \"{\\n  \\\"CARDINAL\\\": [],\\n  \\\"DATE\\\": [],\\n  \\\"EVENT\\\": [],\\n  \\\"FAC\\\": [],\\n  \\\"GPE\\\": [],\\n  \\\"LANGUAGE\\\": [],\\n  \\\"LAW\\\": [],\\n  \\\"LOC\\\": [],\\n  \\\"MONEY\\\": [],\\n  \\\"NORP\\\": [],\\n  \\\"ORDINAL\\\": [],\\n  \\\"ORG\\\": [],\\n  \\\"PERCENT\\\": [],\\n  \\\"PERSON\\\": [],\\n  \\\"PRODUCT\\\": [],\\n  \\\"QUANTITY\\\": [],\\n  \\\"TIME\\\": [],\\n  \\\"WORK_OF_ART\\\": []\\n}\"\n",
      "      }\n",
      "    }\n",
      "  ],\n",
      "  \"usage\": {\n",
      "    \"prompt_tokens\": 401,\n",
      "    \"completion_tokens\": 104,\n",
      "    \"total_tokens\": 505\n",
      "  }\n",
      "})\n"
     ]
    },
    {
     "name": "stderr",
     "output_type": "stream",
     "text": [
      " 76%|███████▌  | 38/50 [01:05<00:19,  1.66s/it]"
     ]
    },
    {
     "name": "stdout",
     "output_type": "stream",
     "text": [
      "('{\\n  \"PERSON\": [\"Li Yung-kun\"],\\n  \"ORG\": [\"Li family of Tanshui\"],\\n  \"GPE\": [\"Tanshui\"]\\n}', <OpenAIObject chat.completion id=chatcmpl-8hzzFEDnhSqFet7xPxiQmdkhn23Xt at 0x7f3a8e783470> JSON: {\n",
      "  \"id\": \"chatcmpl-8hzzFEDnhSqFet7xPxiQmdkhn23Xt\",\n",
      "  \"object\": \"chat.completion\",\n",
      "  \"created\": 1705497073,\n",
      "  \"model\": \"gpt-35-turbo\",\n",
      "  \"choices\": [\n",
      "    {\n",
      "      \"finish_reason\": \"stop\",\n",
      "      \"index\": 0,\n",
      "      \"message\": {\n",
      "        \"role\": \"assistant\",\n",
      "        \"content\": \"{\\n  \\\"PERSON\\\": [\\\"Li Yung-kun\\\"],\\n  \\\"ORG\\\": [\\\"Li family of Tanshui\\\"],\\n  \\\"GPE\\\": [\\\"Tanshui\\\"]\\n}\"\n",
      "      }\n",
      "    }\n",
      "  ],\n",
      "  \"usage\": {\n",
      "    \"prompt_tokens\": 477,\n",
      "    \"completion_tokens\": 37,\n",
      "    \"total_tokens\": 514\n",
      "  }\n",
      "})\n"
     ]
    },
    {
     "name": "stderr",
     "output_type": "stream",
     "text": [
      " 78%|███████▊  | 39/50 [01:07<00:19,  1.76s/it]"
     ]
    },
    {
     "name": "stdout",
     "output_type": "stream",
     "text": [
      "('{\\n  \"CARDINAL\": [],\\n  \"DATE\": [],\\n  \"EVENT\": [],\\n  \"FAC\": [],\\n  \"GPE\": [],\\n  \"LANGUAGE\": [],\\n  \"LAW\": [],\\n  \"LOC\": [],\\n  \"MONEY\": [],\\n  \"NORP\": [],\\n  \"ORDINAL\": [],\\n  \"ORG\": [],\\n  \"PERCENT\": [],\\n  \"PERSON\": [],\\n  \"PRODUCT\": [],\\n  \"QUANTITY\": [],\\n  \"TIME\": [],\\n  \"WORK_OF_ART\": []\\n}', <OpenAIObject chat.completion id=chatcmpl-8hzzGQmu9xOAvSEIXp6larbYSH6CZ at 0x7f3a8532c630> JSON: {\n",
      "  \"id\": \"chatcmpl-8hzzGQmu9xOAvSEIXp6larbYSH6CZ\",\n",
      "  \"object\": \"chat.completion\",\n",
      "  \"created\": 1705497074,\n",
      "  \"model\": \"gpt-35-turbo\",\n",
      "  \"choices\": [\n",
      "    {\n",
      "      \"finish_reason\": \"stop\",\n",
      "      \"index\": 0,\n",
      "      \"message\": {\n",
      "        \"role\": \"assistant\",\n",
      "        \"content\": \"{\\n  \\\"CARDINAL\\\": [],\\n  \\\"DATE\\\": [],\\n  \\\"EVENT\\\": [],\\n  \\\"FAC\\\": [],\\n  \\\"GPE\\\": [],\\n  \\\"LANGUAGE\\\": [],\\n  \\\"LAW\\\": [],\\n  \\\"LOC\\\": [],\\n  \\\"MONEY\\\": [],\\n  \\\"NORP\\\": [],\\n  \\\"ORDINAL\\\": [],\\n  \\\"ORG\\\": [],\\n  \\\"PERCENT\\\": [],\\n  \\\"PERSON\\\": [],\\n  \\\"PRODUCT\\\": [],\\n  \\\"QUANTITY\\\": [],\\n  \\\"TIME\\\": [],\\n  \\\"WORK_OF_ART\\\": []\\n}\"\n",
      "      }\n",
      "    }\n",
      "  ],\n",
      "  \"usage\": {\n",
      "    \"prompt_tokens\": 413,\n",
      "    \"completion_tokens\": 104,\n",
      "    \"total_tokens\": 517\n",
      "  }\n",
      "})\n"
     ]
    },
    {
     "name": "stderr",
     "output_type": "stream",
     "text": [
      " 80%|████████  | 40/50 [01:08<00:16,  1.70s/it]"
     ]
    },
    {
     "name": "stdout",
     "output_type": "stream",
     "text": [
      "('{\\n  \"CARDINAL\": [\"$ 60 billion\"],\\n  \"DATE\": [\"1987\"],\\n  \"MONEY\": [\"$ 60 billion\"],\\n  \"ORDINAL\": [\"severest\"],\\n  \"PRODUCT\": [\"portfolio insurance\"],\\n  \"WORK_OF_ART\": [\"1987 crash\"]\\n}', <OpenAIObject chat.completion id=chatcmpl-8hzzIZ8TJylJYdjx47JJf9anavjj6 at 0x7f3a8532ff10> JSON: {\n",
      "  \"id\": \"chatcmpl-8hzzIZ8TJylJYdjx47JJf9anavjj6\",\n",
      "  \"object\": \"chat.completion\",\n",
      "  \"created\": 1705497076,\n",
      "  \"model\": \"gpt-35-turbo\",\n",
      "  \"choices\": [\n",
      "    {\n",
      "      \"finish_reason\": \"stop\",\n",
      "      \"index\": 0,\n",
      "      \"message\": {\n",
      "        \"role\": \"assistant\",\n",
      "        \"content\": \"{\\n  \\\"CARDINAL\\\": [\\\"$ 60 billion\\\"],\\n  \\\"DATE\\\": [\\\"1987\\\"],\\n  \\\"MONEY\\\": [\\\"$ 60 billion\\\"],\\n  \\\"ORDINAL\\\": [\\\"severest\\\"],\\n  \\\"PRODUCT\\\": [\\\"portfolio insurance\\\"],\\n  \\\"WORK_OF_ART\\\": [\\\"1987 crash\\\"]\\n}\"\n",
      "      }\n",
      "    }\n",
      "  ],\n",
      "  \"usage\": {\n",
      "    \"prompt_tokens\": 416,\n",
      "    \"completion_tokens\": 61,\n",
      "    \"total_tokens\": 477\n",
      "  }\n",
      "})\n"
     ]
    },
    {
     "name": "stderr",
     "output_type": "stream",
     "text": [
      " 82%|████████▏ | 41/50 [01:10<00:15,  1.67s/it]"
     ]
    },
    {
     "name": "stdout",
     "output_type": "stream",
     "text": [
      "('{\\n  \"CARDINAL\": [],\\n  \"DATE\": [],\\n  \"EVENT\": [],\\n  \"FAC\": [],\\n  \"GPE\": [],\\n  \"LANGUAGE\": [],\\n  \"LAW\": [],\\n  \"LOC\": [],\\n  \"MONEY\": [],\\n  \"NORP\": [],\\n  \"ORDINAL\": [],\\n  \"ORG\": [],\\n  \"PERCENT\": [],\\n  \"PERSON\": [],\\n  \"PRODUCT\": [],\\n  \"QUANTITY\": [],\\n  \"TIME\": [],\\n  \"WORK_OF_ART\": []\\n}', <OpenAIObject chat.completion id=chatcmpl-8hzzJNPGJkhZKzSm2Qyf39xQbM2GM at 0x7f3a8532eed0> JSON: {\n",
      "  \"id\": \"chatcmpl-8hzzJNPGJkhZKzSm2Qyf39xQbM2GM\",\n",
      "  \"object\": \"chat.completion\",\n",
      "  \"created\": 1705497077,\n",
      "  \"model\": \"gpt-35-turbo\",\n",
      "  \"choices\": [\n",
      "    {\n",
      "      \"finish_reason\": \"stop\",\n",
      "      \"index\": 0,\n",
      "      \"message\": {\n",
      "        \"role\": \"assistant\",\n",
      "        \"content\": \"{\\n  \\\"CARDINAL\\\": [],\\n  \\\"DATE\\\": [],\\n  \\\"EVENT\\\": [],\\n  \\\"FAC\\\": [],\\n  \\\"GPE\\\": [],\\n  \\\"LANGUAGE\\\": [],\\n  \\\"LAW\\\": [],\\n  \\\"LOC\\\": [],\\n  \\\"MONEY\\\": [],\\n  \\\"NORP\\\": [],\\n  \\\"ORDINAL\\\": [],\\n  \\\"ORG\\\": [],\\n  \\\"PERCENT\\\": [],\\n  \\\"PERSON\\\": [],\\n  \\\"PRODUCT\\\": [],\\n  \\\"QUANTITY\\\": [],\\n  \\\"TIME\\\": [],\\n  \\\"WORK_OF_ART\\\": []\\n}\"\n",
      "      }\n",
      "    }\n",
      "  ],\n",
      "  \"usage\": {\n",
      "    \"prompt_tokens\": 388,\n",
      "    \"completion_tokens\": 104,\n",
      "    \"total_tokens\": 492\n",
      "  }\n",
      "})\n"
     ]
    },
    {
     "name": "stderr",
     "output_type": "stream",
     "text": [
      " 84%|████████▍ | 42/50 [01:12<00:13,  1.73s/it]"
     ]
    },
    {
     "name": "stdout",
     "output_type": "stream",
     "text": [
      "('{\\n  \"CARDINAL\": [],\\n  \"DATE\": [],\\n  \"EVENT\": [],\\n  \"FAC\": [],\\n  \"GPE\": [\\n    \"Beijing\"\\n  ],\\n  \"LANGUAGE\": [],\\n  \"LAW\": [],\\n  \"LOC\": [],\\n  \"MONEY\": [],\\n  \"NORP\": [],\\n  \"ORDINAL\": [],\\n  \"ORG\": [\\n    \"traffic police\"\\n  ],\\n  \"PERCENT\": [],\\n  \"PERSON\": [],\\n  \"PRODUCT\": [],\\n  \"QUANTITY\": [],\\n  \"TIME\": []\\n}', <OpenAIObject chat.completion id=chatcmpl-8hzzL7U4q4RYXPVOntcH1CLM66W46 at 0x7f3a792beed0> JSON: {\n",
      "  \"id\": \"chatcmpl-8hzzL7U4q4RYXPVOntcH1CLM66W46\",\n",
      "  \"object\": \"chat.completion\",\n",
      "  \"created\": 1705497079,\n",
      "  \"model\": \"gpt-35-turbo\",\n",
      "  \"choices\": [\n",
      "    {\n",
      "      \"finish_reason\": \"stop\",\n",
      "      \"index\": 0,\n",
      "      \"message\": {\n",
      "        \"role\": \"assistant\",\n",
      "        \"content\": \"{\\n  \\\"CARDINAL\\\": [],\\n  \\\"DATE\\\": [],\\n  \\\"EVENT\\\": [],\\n  \\\"FAC\\\": [],\\n  \\\"GPE\\\": [\\n    \\\"Beijing\\\"\\n  ],\\n  \\\"LANGUAGE\\\": [],\\n  \\\"LAW\\\": [],\\n  \\\"LOC\\\": [],\\n  \\\"MONEY\\\": [],\\n  \\\"NORP\\\": [],\\n  \\\"ORDINAL\\\": [],\\n  \\\"ORG\\\": [\\n    \\\"traffic police\\\"\\n  ],\\n  \\\"PERCENT\\\": [],\\n  \\\"PERSON\\\": [],\\n  \\\"PRODUCT\\\": [],\\n  \\\"QUANTITY\\\": [],\\n  \\\"TIME\\\": []\\n}\"\n",
      "      }\n",
      "    }\n",
      "  ],\n",
      "  \"usage\": {\n",
      "    \"prompt_tokens\": 454,\n",
      "    \"completion_tokens\": 111,\n",
      "    \"total_tokens\": 565\n",
      "  }\n",
      "})\n"
     ]
    },
    {
     "name": "stderr",
     "output_type": "stream",
     "text": [
      " 86%|████████▌ | 43/50 [01:13<00:11,  1.59s/it]"
     ]
    },
    {
     "name": "stdout",
     "output_type": "stream",
     "text": [
      "('{\\n  \"CARDINAL\": [\"3,000\", \"2,520\", \"5 million\", \"3,000\"],\\n  \"GPE\": [\"Taiwan\"],\\n  \"ORG\": [\"Taiwan firms\"]\\n}', <OpenAIObject chat.completion id=chatcmpl-8hzzNFiADhM5i143UrpSqqKaczszT at 0x7f3a8e783470> JSON: {\n",
      "  \"id\": \"chatcmpl-8hzzNFiADhM5i143UrpSqqKaczszT\",\n",
      "  \"object\": \"chat.completion\",\n",
      "  \"created\": 1705497081,\n",
      "  \"model\": \"gpt-35-turbo\",\n",
      "  \"choices\": [\n",
      "    {\n",
      "      \"finish_reason\": \"stop\",\n",
      "      \"index\": 0,\n",
      "      \"message\": {\n",
      "        \"role\": \"assistant\",\n",
      "        \"content\": \"{\\n  \\\"CARDINAL\\\": [\\\"3,000\\\", \\\"2,520\\\", \\\"5 million\\\", \\\"3,000\\\"],\\n  \\\"GPE\\\": [\\\"Taiwan\\\"],\\n  \\\"ORG\\\": [\\\"Taiwan firms\\\"]\\n}\"\n",
      "      }\n",
      "    }\n",
      "  ],\n",
      "  \"usage\": {\n",
      "    \"prompt_tokens\": 464,\n",
      "    \"completion_tokens\": 44,\n",
      "    \"total_tokens\": 508\n",
      "  }\n",
      "})\n"
     ]
    },
    {
     "name": "stderr",
     "output_type": "stream",
     "text": [
      " 88%|████████▊ | 44/50 [01:15<00:10,  1.73s/it]"
     ]
    },
    {
     "name": "stdout",
     "output_type": "stream",
     "text": [
      "('{\\n  \"CARDINAL\": [\"1%\"],\\n  \"DATE\": [],\\n  \"EVENT\": [],\\n  \"FAC\": [],\\n  \"GPE\": [],\\n  \"LANGUAGE\": [],\\n  \"LAW\": [],\\n  \"LOC\": [],\\n  \"MONEY\": [],\\n  \"NORP\": [],\\n  \"ORDINAL\": [],\\n  \"ORG\": [],\\n  \"PERCENT\": [],\\n  \"PERSON\": [],\\n  \"PRODUCT\": [],\\n  \"QUANTITY\": [],\\n  \"TIME\": [],\\n  \"WORK_OF_ART\": []\\n}', <OpenAIObject chat.completion id=chatcmpl-8hzzO5Xkn8SczVBCfNE4DMCUelRvM at 0x7f3a70d78270> JSON: {\n",
      "  \"id\": \"chatcmpl-8hzzO5Xkn8SczVBCfNE4DMCUelRvM\",\n",
      "  \"object\": \"chat.completion\",\n",
      "  \"created\": 1705497082,\n",
      "  \"model\": \"gpt-35-turbo\",\n",
      "  \"choices\": [\n",
      "    {\n",
      "      \"finish_reason\": \"stop\",\n",
      "      \"index\": 0,\n",
      "      \"message\": {\n",
      "        \"role\": \"assistant\",\n",
      "        \"content\": \"{\\n  \\\"CARDINAL\\\": [\\\"1%\\\"],\\n  \\\"DATE\\\": [],\\n  \\\"EVENT\\\": [],\\n  \\\"FAC\\\": [],\\n  \\\"GPE\\\": [],\\n  \\\"LANGUAGE\\\": [],\\n  \\\"LAW\\\": [],\\n  \\\"LOC\\\": [],\\n  \\\"MONEY\\\": [],\\n  \\\"NORP\\\": [],\\n  \\\"ORDINAL\\\": [],\\n  \\\"ORG\\\": [],\\n  \\\"PERCENT\\\": [],\\n  \\\"PERSON\\\": [],\\n  \\\"PRODUCT\\\": [],\\n  \\\"QUANTITY\\\": [],\\n  \\\"TIME\\\": [],\\n  \\\"WORK_OF_ART\\\": []\\n}\"\n",
      "      }\n",
      "    }\n",
      "  ],\n",
      "  \"usage\": {\n",
      "    \"prompt_tokens\": 394,\n",
      "    \"completion_tokens\": 107,\n",
      "    \"total_tokens\": 501\n",
      "  }\n",
      "})\n"
     ]
    },
    {
     "name": "stderr",
     "output_type": "stream",
     "text": [
      " 90%|█████████ | 45/50 [01:17<00:08,  1.72s/it]"
     ]
    },
    {
     "name": "stdout",
     "output_type": "stream",
     "text": [
      "('{\\n  \"PERSON\": [\"David Williams\"],\\n  \"ORG\": [],\\n  \"GPE\": [],\\n  \"DATE\": [],\\n  \"CARDINAL\": [],\\n  \"MONEY\": [],\\n  \"PERCENT\": [],\\n  \"FAC\": [],\\n  \"LOC\": [],\\n  \"PRODUCT\": [],\\n  \"EVENT\": [],\\n  \"WORK_OF_ART\": [],\\n  \"LAW\": [],\\n  \"LANGUAGE\": [],\\n  \"NORP\": []\\n}', <OpenAIObject chat.completion id=chatcmpl-8hzzQFf3SoBjt8b46sbLci1aQHfJ3 at 0x7f3a8e783470> JSON: {\n",
      "  \"id\": \"chatcmpl-8hzzQFf3SoBjt8b46sbLci1aQHfJ3\",\n",
      "  \"object\": \"chat.completion\",\n",
      "  \"created\": 1705497084,\n",
      "  \"model\": \"gpt-35-turbo\",\n",
      "  \"choices\": [\n",
      "    {\n",
      "      \"finish_reason\": \"stop\",\n",
      "      \"index\": 0,\n",
      "      \"message\": {\n",
      "        \"role\": \"assistant\",\n",
      "        \"content\": \"{\\n  \\\"PERSON\\\": [\\\"David Williams\\\"],\\n  \\\"ORG\\\": [],\\n  \\\"GPE\\\": [],\\n  \\\"DATE\\\": [],\\n  \\\"CARDINAL\\\": [],\\n  \\\"MONEY\\\": [],\\n  \\\"PERCENT\\\": [],\\n  \\\"FAC\\\": [],\\n  \\\"LOC\\\": [],\\n  \\\"PRODUCT\\\": [],\\n  \\\"EVENT\\\": [],\\n  \\\"WORK_OF_ART\\\": [],\\n  \\\"LAW\\\": [],\\n  \\\"LANGUAGE\\\": [],\\n  \\\"NORP\\\": []\\n}\"\n",
      "      }\n",
      "    }\n",
      "  ],\n",
      "  \"usage\": {\n",
      "    \"prompt_tokens\": 406,\n",
      "    \"completion_tokens\": 90,\n",
      "    \"total_tokens\": 496\n",
      "  }\n",
      "})\n"
     ]
    },
    {
     "name": "stderr",
     "output_type": "stream",
     "text": [
      " 92%|█████████▏| 46/50 [01:18<00:06,  1.56s/it]"
     ]
    },
    {
     "name": "stdout",
     "output_type": "stream",
     "text": [
      "('{\\n  \"PERSON\": [\"Arianna Huffington\", \"Judy Miller\", \"Jill Abrahamson\"],\\n  \"ORG\": [\"Times\"],\\n  \"DATE\": [\"two years ago\"]\\n}', <OpenAIObject chat.completion id=chatcmpl-8hzzSpsORG2hcY0iDswuyskliCK2X at 0x7f3a8e783470> JSON: {\n",
      "  \"id\": \"chatcmpl-8hzzSpsORG2hcY0iDswuyskliCK2X\",\n",
      "  \"object\": \"chat.completion\",\n",
      "  \"created\": 1705497086,\n",
      "  \"model\": \"gpt-35-turbo\",\n",
      "  \"choices\": [\n",
      "    {\n",
      "      \"finish_reason\": \"stop\",\n",
      "      \"index\": 0,\n",
      "      \"message\": {\n",
      "        \"role\": \"assistant\",\n",
      "        \"content\": \"{\\n  \\\"PERSON\\\": [\\\"Arianna Huffington\\\", \\\"Judy Miller\\\", \\\"Jill Abrahamson\\\"],\\n  \\\"ORG\\\": [\\\"Times\\\"],\\n  \\\"DATE\\\": [\\\"two years ago\\\"]\\n}\"\n",
      "      }\n",
      "    }\n",
      "  ],\n",
      "  \"usage\": {\n",
      "    \"prompt_tokens\": 477,\n",
      "    \"completion_tokens\": 39,\n",
      "    \"total_tokens\": 516\n",
      "  }\n",
      "})\n"
     ]
    },
    {
     "name": "stderr",
     "output_type": "stream",
     "text": [
      " 94%|█████████▍| 47/50 [01:20<00:04,  1.57s/it]"
     ]
    },
    {
     "name": "stdout",
     "output_type": "stream",
     "text": [
      "('{\\n  \"CARDINAL\": [\"1\", \"24\"],\\n  \"DATE\": [\"1948\", \"1960s\"],\\n  \"GPE\": [\"U.S\", \"Chicago\"],\\n  \"ORDINAL\": [\"first\", \"69\"],\\n  \"PERSON\": [\"Sidney Yates\", \"Harry Truman\"]\\n}', <OpenAIObject chat.completion id=chatcmpl-8hzzTka4ebT3nPqRgQzsipcocHhWG at 0x7f3a8532f380> JSON: {\n",
      "  \"id\": \"chatcmpl-8hzzTka4ebT3nPqRgQzsipcocHhWG\",\n",
      "  \"object\": \"chat.completion\",\n",
      "  \"created\": 1705497087,\n",
      "  \"model\": \"gpt-35-turbo\",\n",
      "  \"choices\": [\n",
      "    {\n",
      "      \"finish_reason\": \"stop\",\n",
      "      \"index\": 0,\n",
      "      \"message\": {\n",
      "        \"role\": \"assistant\",\n",
      "        \"content\": \"{\\n  \\\"CARDINAL\\\": [\\\"1\\\", \\\"24\\\"],\\n  \\\"DATE\\\": [\\\"1948\\\", \\\"1960s\\\"],\\n  \\\"GPE\\\": [\\\"U.S\\\", \\\"Chicago\\\"],\\n  \\\"ORDINAL\\\": [\\\"first\\\", \\\"69\\\"],\\n  \\\"PERSON\\\": [\\\"Sidney Yates\\\", \\\"Harry Truman\\\"]\\n}\"\n",
      "      }\n",
      "    }\n",
      "  ],\n",
      "  \"usage\": {\n",
      "    \"prompt_tokens\": 413,\n",
      "    \"completion_tokens\": 62,\n",
      "    \"total_tokens\": 475\n",
      "  }\n",
      "})\n"
     ]
    },
    {
     "name": "stderr",
     "output_type": "stream",
     "text": [
      " 96%|█████████▌| 48/50 [01:21<00:03,  1.61s/it]"
     ]
    },
    {
     "name": "stdout",
     "output_type": "stream",
     "text": [
      "('{\\n  \"ORG\": [\"Time Warner Inc.\", \"Time\"],\\n  \"DATE\": [\"last week\"],\\n  \"CARDINAL\": [\"300,000\", \"four million\", \"$ 4\", \"$ 55\"]\\n}', <OpenAIObject chat.completion id=chatcmpl-8hzzVvtudJmE1b73dcXvIF23lQlkt at 0x7f3a70d79bc0> JSON: {\n",
      "  \"id\": \"chatcmpl-8hzzVvtudJmE1b73dcXvIF23lQlkt\",\n",
      "  \"object\": \"chat.completion\",\n",
      "  \"created\": 1705497089,\n",
      "  \"model\": \"gpt-35-turbo\",\n",
      "  \"choices\": [\n",
      "    {\n",
      "      \"finish_reason\": \"stop\",\n",
      "      \"index\": 0,\n",
      "      \"message\": {\n",
      "        \"role\": \"assistant\",\n",
      "        \"content\": \"{\\n  \\\"ORG\\\": [\\\"Time Warner Inc.\\\", \\\"Time\\\"],\\n  \\\"DATE\\\": [\\\"last week\\\"],\\n  \\\"CARDINAL\\\": [\\\"300,000\\\", \\\"four million\\\", \\\"$ 4\\\", \\\"$ 55\\\"]\\n}\"\n",
      "      }\n",
      "    }\n",
      "  ],\n",
      "  \"usage\": {\n",
      "    \"prompt_tokens\": 464,\n",
      "    \"completion_tokens\": 44,\n",
      "    \"total_tokens\": 508\n",
      "  }\n",
      "})\n"
     ]
    },
    {
     "name": "stderr",
     "output_type": "stream",
     "text": [
      " 98%|█████████▊| 49/50 [01:23<00:01,  1.67s/it]"
     ]
    },
    {
     "name": "stdout",
     "output_type": "stream",
     "text": [
      "('{\\n  \"ORG\": [\\n    \"Westinghouse Company\",\\n    \"Shanghai Electric Group\",\\n    \"General Electric Capital Company\",\\n    \"Shanghai Electricity Company\"\\n  ],\\n  \"CARDINAL\": [\\n    \"20\"\\n  ],\\n  \"DATE\": [\\n    \"Today\"\\n  ]\\n}', <OpenAIObject chat.completion id=chatcmpl-8hzzXNfc6PkCRsNUegGCCltB6LYCQ at 0x7f3a70e318a0> JSON: {\n",
      "  \"id\": \"chatcmpl-8hzzXNfc6PkCRsNUegGCCltB6LYCQ\",\n",
      "  \"object\": \"chat.completion\",\n",
      "  \"created\": 1705497091,\n",
      "  \"model\": \"gpt-35-turbo\",\n",
      "  \"choices\": [\n",
      "    {\n",
      "      \"finish_reason\": \"stop\",\n",
      "      \"index\": 0,\n",
      "      \"message\": {\n",
      "        \"role\": \"assistant\",\n",
      "        \"content\": \"{\\n  \\\"ORG\\\": [\\n    \\\"Westinghouse Company\\\",\\n    \\\"Shanghai Electric Group\\\",\\n    \\\"General Electric Capital Company\\\",\\n    \\\"Shanghai Electricity Company\\\"\\n  ],\\n  \\\"CARDINAL\\\": [\\n    \\\"20\\\"\\n  ],\\n  \\\"DATE\\\": [\\n    \\\"Today\\\"\\n  ]\\n}\"\n",
      "      }\n",
      "    }\n",
      "  ],\n",
      "  \"usage\": {\n",
      "    \"prompt_tokens\": 477,\n",
      "    \"completion_tokens\": 60,\n",
      "    \"total_tokens\": 537\n",
      "  }\n",
      "})\n"
     ]
    },
    {
     "name": "stderr",
     "output_type": "stream",
     "text": [
      "100%|██████████| 50/50 [01:25<00:00,  1.70s/it]\n"
     ]
    },
    {
     "name": "stdout",
     "output_type": "stream",
     "text": [
      "('{\\n  \"ORG\": [\"FBI\", \"USS Cole\"],\\n  \"GPE\": [\"Yemen\"],\\n  \"DATE\": [\"August 1998\"]\\n}', <OpenAIObject chat.completion id=chatcmpl-8hzzYVrxuRiaVO8t31mt3qsyeoBui at 0x7f3a8532e9d0> JSON: {\n",
      "  \"id\": \"chatcmpl-8hzzYVrxuRiaVO8t31mt3qsyeoBui\",\n",
      "  \"object\": \"chat.completion\",\n",
      "  \"created\": 1705497092,\n",
      "  \"model\": \"gpt-35-turbo\",\n",
      "  \"choices\": [\n",
      "    {\n",
      "      \"finish_reason\": \"stop\",\n",
      "      \"index\": 0,\n",
      "      \"message\": {\n",
      "        \"role\": \"assistant\",\n",
      "        \"content\": \"{\\n  \\\"ORG\\\": [\\\"FBI\\\", \\\"USS Cole\\\"],\\n  \\\"GPE\\\": [\\\"Yemen\\\"],\\n  \\\"DATE\\\": [\\\"August 1998\\\"]\\n}\"\n",
      "      }\n",
      "    }\n",
      "  ],\n",
      "  \"usage\": {\n",
      "    \"prompt_tokens\": 431,\n",
      "    \"completion_tokens\": 34,\n",
      "    \"total_tokens\": 465\n",
      "  }\n",
      "})\n",
      "Testing with sentence\n",
      "      and filing\n"
     ]
    },
    {
     "name": "stderr",
     "output_type": "stream",
     "text": [
      "  2%|▏         | 1/50 [00:02<01:48,  2.22s/it]"
     ]
    },
    {
     "name": "stdout",
     "output_type": "stream",
     "text": [
      "('{\\n  \"CARDINAL\": [],\\n  \"DATE\": [],\\n  \"EVENT\": [],\\n  \"FAC\": [],\\n  \"GPE\": [],\\n  \"LANGUAGE\": [],\\n  \"LAW\": [],\\n  \"LOC\": [],\\n  \"MONEY\": [],\\n  \"NORP\": [],\\n  \"ORDINAL\": [],\\n  \"ORG\": [],\\n  \"PERCENT\": [],\\n  \"PERSON\": [],\\n  \"PRODUCT\": [],\\n  \"QUANTITY\": [],\\n  \"TIME\": [],\\n  \"WORK_OF_ART\": []\\n}', <OpenAIObject chat.completion id=chatcmpl-8hzzayVtzAhcsmqc8OTDPlvd47Z7W at 0x7f3a792bc450> JSON: {\n",
      "  \"id\": \"chatcmpl-8hzzayVtzAhcsmqc8OTDPlvd47Z7W\",\n",
      "  \"object\": \"chat.completion\",\n",
      "  \"created\": 1705497094,\n",
      "  \"model\": \"gpt-35-turbo\",\n",
      "  \"choices\": [\n",
      "    {\n",
      "      \"finish_reason\": \"stop\",\n",
      "      \"index\": 0,\n",
      "      \"message\": {\n",
      "        \"role\": \"assistant\",\n",
      "        \"content\": \"{\\n  \\\"CARDINAL\\\": [],\\n  \\\"DATE\\\": [],\\n  \\\"EVENT\\\": [],\\n  \\\"FAC\\\": [],\\n  \\\"GPE\\\": [],\\n  \\\"LANGUAGE\\\": [],\\n  \\\"LAW\\\": [],\\n  \\\"LOC\\\": [],\\n  \\\"MONEY\\\": [],\\n  \\\"NORP\\\": [],\\n  \\\"ORDINAL\\\": [],\\n  \\\"ORG\\\": [],\\n  \\\"PERCENT\\\": [],\\n  \\\"PERSON\\\": [],\\n  \\\"PRODUCT\\\": [],\\n  \\\"QUANTITY\\\": [],\\n  \\\"TIME\\\": [],\\n  \\\"WORK_OF_ART\\\": []\\n}\"\n",
      "      }\n",
      "    }\n",
      "  ],\n",
      "  \"usage\": {\n",
      "    \"prompt_tokens\": 933,\n",
      "    \"completion_tokens\": 104,\n",
      "    \"total_tokens\": 1037\n",
      "  }\n",
      "})\n"
     ]
    },
    {
     "name": "stderr",
     "output_type": "stream",
     "text": [
      "  4%|▍         | 2/50 [00:04<01:43,  2.15s/it]"
     ]
    },
    {
     "name": "stdout",
     "output_type": "stream",
     "text": [
      "('{\\n  \"CARDINAL\": [],\\n  \"DATE\": [],\\n  \"EVENT\": [],\\n  \"FAC\": [],\\n  \"GPE\": [],\\n  \"LANGUAGE\": [],\\n  \"LAW\": [],\\n  \"LOC\": [],\\n  \"MONEY\": [],\\n  \"NORP\": [],\\n  \"ORDINAL\": [],\\n  \"ORG\": [],\\n  \"PERCENT\": [],\\n  \"PERSON\": [],\\n  \"PRODUCT\": [],\\n  \"QUANTITY\": [],\\n  \"TIME\": [],\\n  \"WORK_OF_ART\": []\\n}', <OpenAIObject chat.completion id=chatcmpl-8hzzd37W8tqtau7XYMZpxfu0jt4RS at 0x7f3a70e30ea0> JSON: {\n",
      "  \"id\": \"chatcmpl-8hzzd37W8tqtau7XYMZpxfu0jt4RS\",\n",
      "  \"object\": \"chat.completion\",\n",
      "  \"created\": 1705497097,\n",
      "  \"model\": \"gpt-35-turbo\",\n",
      "  \"choices\": [\n",
      "    {\n",
      "      \"finish_reason\": \"stop\",\n",
      "      \"index\": 0,\n",
      "      \"message\": {\n",
      "        \"role\": \"assistant\",\n",
      "        \"content\": \"{\\n  \\\"CARDINAL\\\": [],\\n  \\\"DATE\\\": [],\\n  \\\"EVENT\\\": [],\\n  \\\"FAC\\\": [],\\n  \\\"GPE\\\": [],\\n  \\\"LANGUAGE\\\": [],\\n  \\\"LAW\\\": [],\\n  \\\"LOC\\\": [],\\n  \\\"MONEY\\\": [],\\n  \\\"NORP\\\": [],\\n  \\\"ORDINAL\\\": [],\\n  \\\"ORG\\\": [],\\n  \\\"PERCENT\\\": [],\\n  \\\"PERSON\\\": [],\\n  \\\"PRODUCT\\\": [],\\n  \\\"QUANTITY\\\": [],\\n  \\\"TIME\\\": [],\\n  \\\"WORK_OF_ART\\\": []\\n}\"\n",
      "      }\n",
      "    }\n",
      "  ],\n",
      "  \"usage\": {\n",
      "    \"prompt_tokens\": 886,\n",
      "    \"completion_tokens\": 104,\n",
      "    \"total_tokens\": 990\n",
      "  }\n",
      "})\n"
     ]
    },
    {
     "name": "stderr",
     "output_type": "stream",
     "text": [
      "  6%|▌         | 3/50 [00:06<01:33,  1.98s/it]"
     ]
    },
    {
     "name": "stdout",
     "output_type": "stream",
     "text": [
      "('{\\n  \"CARDINAL\": [],\\n  \"DATE\": [],\\n  \"EVENT\": [],\\n  \"FAC\": [],\\n  \"GPE\": [],\\n  \"LANGUAGE\": [],\\n  \"LAW\": [],\\n  \"LOC\": [],\\n  \"MONEY\": [],\\n  \"NORP\": [],\\n  \"ORDINAL\": [],\\n  \"ORG\": [],\\n  \"PERCENT\": [],\\n  \"PERSON\": [],\\n  \"PRODUCT\": [],\\n  \"QUANTITY\": [],\\n  \"TIME\": [],\\n  \"WORK_OF_ART\": []\\n}', <OpenAIObject chat.completion id=chatcmpl-8hzzesTfmXBCOXWCaRHwSour2Wpyw at 0x7f3a79295170> JSON: {\n",
      "  \"id\": \"chatcmpl-8hzzesTfmXBCOXWCaRHwSour2Wpyw\",\n",
      "  \"object\": \"chat.completion\",\n",
      "  \"created\": 1705497098,\n",
      "  \"model\": \"gpt-35-turbo\",\n",
      "  \"choices\": [\n",
      "    {\n",
      "      \"finish_reason\": \"stop\",\n",
      "      \"index\": 0,\n",
      "      \"message\": {\n",
      "        \"role\": \"assistant\",\n",
      "        \"content\": \"{\\n  \\\"CARDINAL\\\": [],\\n  \\\"DATE\\\": [],\\n  \\\"EVENT\\\": [],\\n  \\\"FAC\\\": [],\\n  \\\"GPE\\\": [],\\n  \\\"LANGUAGE\\\": [],\\n  \\\"LAW\\\": [],\\n  \\\"LOC\\\": [],\\n  \\\"MONEY\\\": [],\\n  \\\"NORP\\\": [],\\n  \\\"ORDINAL\\\": [],\\n  \\\"ORG\\\": [],\\n  \\\"PERCENT\\\": [],\\n  \\\"PERSON\\\": [],\\n  \\\"PRODUCT\\\": [],\\n  \\\"QUANTITY\\\": [],\\n  \\\"TIME\\\": [],\\n  \\\"WORK_OF_ART\\\": []\\n}\"\n",
      "      }\n",
      "    }\n",
      "  ],\n",
      "  \"usage\": {\n",
      "    \"prompt_tokens\": 668,\n",
      "    \"completion_tokens\": 104,\n",
      "    \"total_tokens\": 772\n",
      "  }\n",
      "})\n"
     ]
    },
    {
     "name": "stderr",
     "output_type": "stream",
     "text": [
      "  8%|▊         | 4/50 [00:07<01:22,  1.78s/it]"
     ]
    },
    {
     "name": "stdout",
     "output_type": "stream",
     "text": [
      "('{\\n  \"ORG\": [\"government\"],\\n  \"CARDINAL\": [\"four\", \"fifth\"],\\n  \"MONEY\": [\"big\"],\\n  \"DATE\": [\"first wave\"],\\n  \"NORP\": [\"savings-and-loan\"],\\n  \"GPE\": [\"thrifts\"]\\n}', <OpenAIObject chat.completion id=chatcmpl-8hzzgJFh1JHNKxFtCT4jBcWDzDAfL at 0x7f3a792974c0> JSON: {\n",
      "  \"id\": \"chatcmpl-8hzzgJFh1JHNKxFtCT4jBcWDzDAfL\",\n",
      "  \"object\": \"chat.completion\",\n",
      "  \"created\": 1705497100,\n",
      "  \"model\": \"gpt-35-turbo\",\n",
      "  \"choices\": [\n",
      "    {\n",
      "      \"finish_reason\": \"stop\",\n",
      "      \"index\": 0,\n",
      "      \"message\": {\n",
      "        \"role\": \"assistant\",\n",
      "        \"content\": \"{\\n  \\\"ORG\\\": [\\\"government\\\"],\\n  \\\"CARDINAL\\\": [\\\"four\\\", \\\"fifth\\\"],\\n  \\\"MONEY\\\": [\\\"big\\\"],\\n  \\\"DATE\\\": [\\\"first wave\\\"],\\n  \\\"NORP\\\": [\\\"savings-and-loan\\\"],\\n  \\\"GPE\\\": [\\\"thrifts\\\"]\\n}\"\n",
      "      }\n",
      "    }\n",
      "  ],\n",
      "  \"usage\": {\n",
      "    \"prompt_tokens\": 887,\n",
      "    \"completion_tokens\": 60,\n",
      "    \"total_tokens\": 947\n",
      "  }\n",
      "})\n"
     ]
    },
    {
     "name": "stderr",
     "output_type": "stream",
     "text": [
      " 10%|█         | 5/50 [00:09<01:27,  1.93s/it]"
     ]
    },
    {
     "name": "stdout",
     "output_type": "stream",
     "text": [
      "('{\\n  \"DATE\": [],\\n  \"CARDINAL\": [],\\n  \"EVENT\": [],\\n  \"FAC\": [],\\n  \"GPE\": [],\\n  \"LANGUAGE\": [],\\n  \"LAW\": [],\\n  \"LOC\": [],\\n  \"MONEY\": [],\\n  \"NORP\": [],\\n  \"ORDINAL\": [],\\n  \"ORG\": [],\\n  \"PERCENT\": [],\\n  \"PERSON\": [],\\n  \"PRODUCT\": [],\\n  \"QUANTITY\": [],\\n  \"TIME\": [],\\n  \"WORK_OF_ART\": []\\n}', <OpenAIObject chat.completion id=chatcmpl-8hzziPxNfvg8cAwS9bXjSeah6vRky at 0x7f3a792d0590> JSON: {\n",
      "  \"id\": \"chatcmpl-8hzziPxNfvg8cAwS9bXjSeah6vRky\",\n",
      "  \"object\": \"chat.completion\",\n",
      "  \"created\": 1705497102,\n",
      "  \"model\": \"gpt-35-turbo\",\n",
      "  \"choices\": [\n",
      "    {\n",
      "      \"finish_reason\": \"stop\",\n",
      "      \"index\": 0,\n",
      "      \"message\": {\n",
      "        \"role\": \"assistant\",\n",
      "        \"content\": \"{\\n  \\\"DATE\\\": [],\\n  \\\"CARDINAL\\\": [],\\n  \\\"EVENT\\\": [],\\n  \\\"FAC\\\": [],\\n  \\\"GPE\\\": [],\\n  \\\"LANGUAGE\\\": [],\\n  \\\"LAW\\\": [],\\n  \\\"LOC\\\": [],\\n  \\\"MONEY\\\": [],\\n  \\\"NORP\\\": [],\\n  \\\"ORDINAL\\\": [],\\n  \\\"ORG\\\": [],\\n  \\\"PERCENT\\\": [],\\n  \\\"PERSON\\\": [],\\n  \\\"PRODUCT\\\": [],\\n  \\\"QUANTITY\\\": [],\\n  \\\"TIME\\\": [],\\n  \\\"WORK_OF_ART\\\": []\\n}\"\n",
      "      }\n",
      "    }\n",
      "  ],\n",
      "  \"usage\": {\n",
      "    \"prompt_tokens\": 919,\n",
      "    \"completion_tokens\": 104,\n",
      "    \"total_tokens\": 1023\n",
      "  }\n",
      "})\n"
     ]
    },
    {
     "name": "stderr",
     "output_type": "stream",
     "text": [
      " 12%|█▏        | 6/50 [00:11<01:22,  1.88s/it]"
     ]
    },
    {
     "name": "stdout",
     "output_type": "stream",
     "text": [
      "('{\\n  \"CARDINAL\": [],\\n  \"DATE\": [],\\n  \"EVENT\": [],\\n  \"FAC\": [],\\n  \"GPE\": [],\\n  \"LANGUAGE\": [],\\n  \"LAW\": [],\\n  \"LOC\": [],\\n  \"MONEY\": [],\\n  \"NORP\": [],\\n  \"ORDINAL\": [],\\n  \"ORG\": [],\\n  \"PERCENT\": [],\\n  \"PERSON\": [],\\n  \"PRODUCT\": [],\\n  \"QUANTITY\": [],\\n  \"TIME\": [],\\n  \"WORK_OF_ART\": []\\n}', <OpenAIObject chat.completion id=chatcmpl-8hzzkh4UDdM6wW6r0kFZJmhDSuKYO at 0x7f3a70e30040> JSON: {\n",
      "  \"id\": \"chatcmpl-8hzzkh4UDdM6wW6r0kFZJmhDSuKYO\",\n",
      "  \"object\": \"chat.completion\",\n",
      "  \"created\": 1705497104,\n",
      "  \"model\": \"gpt-35-turbo\",\n",
      "  \"choices\": [\n",
      "    {\n",
      "      \"finish_reason\": \"stop\",\n",
      "      \"index\": 0,\n",
      "      \"message\": {\n",
      "        \"role\": \"assistant\",\n",
      "        \"content\": \"{\\n  \\\"CARDINAL\\\": [],\\n  \\\"DATE\\\": [],\\n  \\\"EVENT\\\": [],\\n  \\\"FAC\\\": [],\\n  \\\"GPE\\\": [],\\n  \\\"LANGUAGE\\\": [],\\n  \\\"LAW\\\": [],\\n  \\\"LOC\\\": [],\\n  \\\"MONEY\\\": [],\\n  \\\"NORP\\\": [],\\n  \\\"ORDINAL\\\": [],\\n  \\\"ORG\\\": [],\\n  \\\"PERCENT\\\": [],\\n  \\\"PERSON\\\": [],\\n  \\\"PRODUCT\\\": [],\\n  \\\"QUANTITY\\\": [],\\n  \\\"TIME\\\": [],\\n  \\\"WORK_OF_ART\\\": []\\n}\"\n",
      "      }\n",
      "    }\n",
      "  ],\n",
      "  \"usage\": {\n",
      "    \"prompt_tokens\": 872,\n",
      "    \"completion_tokens\": 104,\n",
      "    \"total_tokens\": 976\n",
      "  }\n",
      "})\n"
     ]
    },
    {
     "name": "stderr",
     "output_type": "stream",
     "text": [
      " 14%|█▍        | 7/50 [00:13<01:16,  1.77s/it]"
     ]
    },
    {
     "name": "stdout",
     "output_type": "stream",
     "text": [
      "('{\\n  \"PERSON\": [\"Charles Colson\"],\\n  \"ORG\": [\"Watergate\", \"Fellowship\"]\\n}', <OpenAIObject chat.completion id=chatcmpl-8hzzm0EEfER1sWUZv6ipTFsu1a8t1 at 0x7f3a70e31c60> JSON: {\n",
      "  \"id\": \"chatcmpl-8hzzm0EEfER1sWUZv6ipTFsu1a8t1\",\n",
      "  \"object\": \"chat.completion\",\n",
      "  \"created\": 1705497106,\n",
      "  \"model\": \"gpt-35-turbo\",\n",
      "  \"choices\": [\n",
      "    {\n",
      "      \"finish_reason\": \"stop\",\n",
      "      \"index\": 0,\n",
      "      \"message\": {\n",
      "        \"role\": \"assistant\",\n",
      "        \"content\": \"{\\n  \\\"PERSON\\\": [\\\"Charles Colson\\\"],\\n  \\\"ORG\\\": [\\\"Watergate\\\", \\\"Fellowship\\\"]\\n}\"\n",
      "      }\n",
      "    }\n",
      "  ],\n",
      "  \"usage\": {\n",
      "    \"prompt_tokens\": 916,\n",
      "    \"completion_tokens\": 24,\n",
      "    \"total_tokens\": 940\n",
      "  }\n",
      "})\n"
     ]
    },
    {
     "name": "stderr",
     "output_type": "stream",
     "text": [
      " 16%|█▌        | 8/50 [00:14<01:06,  1.59s/it]"
     ]
    },
    {
     "name": "stdout",
     "output_type": "stream",
     "text": [
      "('{\\n  \"PERSON\": [\"Mr. Heinemann\"],\\n  \"ORG\": [\"magazine industry\"]\\n}', <OpenAIObject chat.completion id=chatcmpl-8hzznjziccAIQQa8MXqV4a8VrFc14 at 0x7f3a84424c20> JSON: {\n",
      "  \"id\": \"chatcmpl-8hzznjziccAIQQa8MXqV4a8VrFc14\",\n",
      "  \"object\": \"chat.completion\",\n",
      "  \"created\": 1705497107,\n",
      "  \"model\": \"gpt-35-turbo\",\n",
      "  \"choices\": [\n",
      "    {\n",
      "      \"finish_reason\": \"stop\",\n",
      "      \"index\": 0,\n",
      "      \"message\": {\n",
      "        \"role\": \"assistant\",\n",
      "        \"content\": \"{\\n  \\\"PERSON\\\": [\\\"Mr. Heinemann\\\"],\\n  \\\"ORG\\\": [\\\"magazine industry\\\"]\\n}\"\n",
      "      }\n",
      "    }\n",
      "  ],\n",
      "  \"usage\": {\n",
      "    \"prompt_tokens\": 845,\n",
      "    \"completion_tokens\": 21,\n",
      "    \"total_tokens\": 866\n",
      "  }\n",
      "})\n"
     ]
    },
    {
     "name": "stderr",
     "output_type": "stream",
     "text": [
      " 18%|█▊        | 9/50 [00:15<01:04,  1.58s/it]"
     ]
    },
    {
     "name": "stdout",
     "output_type": "stream",
     "text": [
      "('{\\n  \"ORG\": [\"The company\"],\\n  \"GPE\": [\"Dongguan\"],\\n  \"CARDINAL\": [\"three\", \"120,000\", \"200\", \"70\", \"180\"]\\n}', <OpenAIObject chat.completion id=chatcmpl-8hzzo7cZDvLVUdGsaMlJd0tXmt8R9 at 0x7f3a84427740> JSON: {\n",
      "  \"id\": \"chatcmpl-8hzzo7cZDvLVUdGsaMlJd0tXmt8R9\",\n",
      "  \"object\": \"chat.completion\",\n",
      "  \"created\": 1705497108,\n",
      "  \"model\": \"gpt-35-turbo\",\n",
      "  \"choices\": [\n",
      "    {\n",
      "      \"finish_reason\": \"stop\",\n",
      "      \"index\": 0,\n",
      "      \"message\": {\n",
      "        \"role\": \"assistant\",\n",
      "        \"content\": \"{\\n  \\\"ORG\\\": [\\\"The company\\\"],\\n  \\\"GPE\\\": [\\\"Dongguan\\\"],\\n  \\\"CARDINAL\\\": [\\\"three\\\", \\\"120,000\\\", \\\"200\\\", \\\"70\\\", \\\"180\\\"]\\n}\"\n",
      "      }\n",
      "    }\n",
      "  ],\n",
      "  \"usage\": {\n",
      "    \"prompt_tokens\": 968,\n",
      "    \"completion_tokens\": 43,\n",
      "    \"total_tokens\": 1011\n",
      "  }\n",
      "})\n"
     ]
    },
    {
     "name": "stderr",
     "output_type": "stream",
     "text": [
      " 20%|██        | 10/50 [00:17<01:01,  1.53s/it]"
     ]
    },
    {
     "name": "stdout",
     "output_type": "stream",
     "text": [
      "('{\\n  \"PERSON\": [\"narrator\"],\\n  \"ORG\": [\"China\"]\\n}', <OpenAIObject chat.completion id=chatcmpl-8hzzqdWboCn5xqml7Z8V3Hjai4NKG at 0x7f3a8431c3b0> JSON: {\n",
      "  \"id\": \"chatcmpl-8hzzqdWboCn5xqml7Z8V3Hjai4NKG\",\n",
      "  \"object\": \"chat.completion\",\n",
      "  \"created\": 1705497110,\n",
      "  \"model\": \"gpt-35-turbo\",\n",
      "  \"choices\": [\n",
      "    {\n",
      "      \"finish_reason\": \"stop\",\n",
      "      \"index\": 0,\n",
      "      \"message\": {\n",
      "        \"role\": \"assistant\",\n",
      "        \"content\": \"{\\n  \\\"PERSON\\\": [\\\"narrator\\\"],\\n  \\\"ORG\\\": [\\\"China\\\"]\\n}\"\n",
      "      }\n",
      "    }\n",
      "  ],\n",
      "  \"usage\": {\n",
      "    \"prompt_tokens\": 930,\n",
      "    \"completion_tokens\": 18,\n",
      "    \"total_tokens\": 948\n",
      "  }\n",
      "})\n"
     ]
    },
    {
     "name": "stderr",
     "output_type": "stream",
     "text": [
      " 22%|██▏       | 11/50 [00:18<00:55,  1.41s/it]"
     ]
    },
    {
     "name": "stdout",
     "output_type": "stream",
     "text": [
      "('{\\n  \"PERSON\": [\"Christy Whitman\"],\\n  \"ORG\": [\"White House\"]\\n}', <OpenAIObject chat.completion id=chatcmpl-8hzzraPNAVLQfThoNtV3pNIx3PeLi at 0x7f3a8431cf40> JSON: {\n",
      "  \"id\": \"chatcmpl-8hzzraPNAVLQfThoNtV3pNIx3PeLi\",\n",
      "  \"object\": \"chat.completion\",\n",
      "  \"created\": 1705497111,\n",
      "  \"model\": \"gpt-35-turbo\",\n",
      "  \"choices\": [\n",
      "    {\n",
      "      \"finish_reason\": \"stop\",\n",
      "      \"index\": 0,\n",
      "      \"message\": {\n",
      "        \"role\": \"assistant\",\n",
      "        \"content\": \"{\\n  \\\"PERSON\\\": [\\\"Christy Whitman\\\"],\\n  \\\"ORG\\\": [\\\"White House\\\"]\\n}\"\n",
      "      }\n",
      "    }\n",
      "  ],\n",
      "  \"usage\": {\n",
      "    \"prompt_tokens\": 930,\n",
      "    \"completion_tokens\": 20,\n",
      "    \"total_tokens\": 950\n",
      "  }\n",
      "})\n"
     ]
    },
    {
     "name": "stderr",
     "output_type": "stream",
     "text": [
      " 24%|██▍       | 12/50 [00:19<00:52,  1.39s/it]"
     ]
    },
    {
     "name": "stdout",
     "output_type": "stream",
     "text": [
      "('{\\n  \"GPE\": [\"Van Nuys\", \"Calif.\", \"Oklahoma City\", \"Pontiac\", \"Mich.\"],\\n  \"ORG\": [\"Pontiac Firebird\", \"Chevrolet Camaro\"]\\n}', <OpenAIObject chat.completion id=chatcmpl-8hzzsU1ObwRb9snuzDIGpukUclEzf at 0x7f3a8532f100> JSON: {\n",
      "  \"id\": \"chatcmpl-8hzzsU1ObwRb9snuzDIGpukUclEzf\",\n",
      "  \"object\": \"chat.completion\",\n",
      "  \"created\": 1705497112,\n",
      "  \"model\": \"gpt-35-turbo\",\n",
      "  \"choices\": [\n",
      "    {\n",
      "      \"finish_reason\": \"stop\",\n",
      "      \"index\": 0,\n",
      "      \"message\": {\n",
      "        \"role\": \"assistant\",\n",
      "        \"content\": \"{\\n  \\\"GPE\\\": [\\\"Van Nuys\\\", \\\"Calif.\\\", \\\"Oklahoma City\\\", \\\"Pontiac\\\", \\\"Mich.\\\"],\\n  \\\"ORG\\\": [\\\"Pontiac Firebird\\\", \\\"Chevrolet Camaro\\\"]\\n}\"\n",
      "      }\n",
      "    }\n",
      "  ],\n",
      "  \"usage\": {\n",
      "    \"prompt_tokens\": 883,\n",
      "    \"completion_tokens\": 46,\n",
      "    \"total_tokens\": 929\n",
      "  }\n",
      "})\n"
     ]
    },
    {
     "name": "stderr",
     "output_type": "stream",
     "text": [
      " 26%|██▌       | 13/50 [00:20<00:49,  1.33s/it]"
     ]
    },
    {
     "name": "stdout",
     "output_type": "stream",
     "text": [
      "('{\\n  \"CARDINAL\": [\"1480\", \"24\"],\\n  \"GPE\": [\"Shandong\"]\\n}', <OpenAIObject chat.completion id=chatcmpl-8hzzuHLn32p5JM2xgFSZncE5AyCte at 0x7f3a792d01d0> JSON: {\n",
      "  \"id\": \"chatcmpl-8hzzuHLn32p5JM2xgFSZncE5AyCte\",\n",
      "  \"object\": \"chat.completion\",\n",
      "  \"created\": 1705497114,\n",
      "  \"model\": \"gpt-35-turbo\",\n",
      "  \"choices\": [\n",
      "    {\n",
      "      \"finish_reason\": \"stop\",\n",
      "      \"index\": 0,\n",
      "      \"message\": {\n",
      "        \"role\": \"assistant\",\n",
      "        \"content\": \"{\\n  \\\"CARDINAL\\\": [\\\"1480\\\", \\\"24\\\"],\\n  \\\"GPE\\\": [\\\"Shandong\\\"]\\n}\"\n",
      "      }\n",
      "    }\n",
      "  ],\n",
      "  \"usage\": {\n",
      "    \"prompt_tokens\": 1016,\n",
      "    \"completion_tokens\": 24,\n",
      "    \"total_tokens\": 1040\n",
      "  }\n",
      "})\n"
     ]
    },
    {
     "name": "stderr",
     "output_type": "stream",
     "text": [
      " 28%|██▊       | 14/50 [00:22<00:48,  1.34s/it]"
     ]
    },
    {
     "name": "stdout",
     "output_type": "stream",
     "text": [
      "('{\\n  \"DATE\": [\"2003\"],\\n  \"EVENT\": [\"SARS\"],\\n  \"ORG\": [\"e-government\"],\\n  \"CARDINAL\": []\\n}', <OpenAIObject chat.completion id=chatcmpl-8hzzv0TCpm7pih0FSnqonjAAgc5V3 at 0x7f3a8431ea70> JSON: {\n",
      "  \"id\": \"chatcmpl-8hzzv0TCpm7pih0FSnqonjAAgc5V3\",\n",
      "  \"object\": \"chat.completion\",\n",
      "  \"created\": 1705497115,\n",
      "  \"model\": \"gpt-35-turbo\",\n",
      "  \"choices\": [\n",
      "    {\n",
      "      \"finish_reason\": \"stop\",\n",
      "      \"index\": 0,\n",
      "      \"message\": {\n",
      "        \"role\": \"assistant\",\n",
      "        \"content\": \"{\\n  \\\"DATE\\\": [\\\"2003\\\"],\\n  \\\"EVENT\\\": [\\\"SARS\\\"],\\n  \\\"ORG\\\": [\\\"e-government\\\"],\\n  \\\"CARDINAL\\\": []\\n}\"\n",
      "      }\n",
      "    }\n",
      "  ],\n",
      "  \"usage\": {\n",
      "    \"prompt_tokens\": 921,\n",
      "    \"completion_tokens\": 32,\n",
      "    \"total_tokens\": 953\n",
      "  }\n",
      "})\n"
     ]
    },
    {
     "name": "stderr",
     "output_type": "stream",
     "text": [
      " 30%|███       | 15/50 [00:24<00:55,  1.57s/it]"
     ]
    },
    {
     "name": "stdout",
     "output_type": "stream",
     "text": [
      "('{\\n  \"CARDINAL\": [],\\n  \"DATE\": [],\\n  \"EVENT\": [],\\n  \"FAC\": [],\\n  \"GPE\": [],\\n  \"LANGUAGE\": [],\\n  \"LAW\": [],\\n  \"LOC\": [],\\n  \"MONEY\": [],\\n  \"NORP\": [],\\n  \"ORDINAL\": [],\\n  \"ORG\": [],\\n  \"PERCENT\": [],\\n  \"PERSON\": [],\\n  \"PRODUCT\": [],\\n  \"QUANTITY\": [],\\n  \"TIME\": [],\\n  \"WORK_OF_ART\": []\\n}', <OpenAIObject chat.completion id=chatcmpl-8hzzw559o9pRozxU6y26xDhWoqC8n at 0x7f3a8431c310> JSON: {\n",
      "  \"id\": \"chatcmpl-8hzzw559o9pRozxU6y26xDhWoqC8n\",\n",
      "  \"object\": \"chat.completion\",\n",
      "  \"created\": 1705497116,\n",
      "  \"model\": \"gpt-35-turbo\",\n",
      "  \"choices\": [\n",
      "    {\n",
      "      \"finish_reason\": \"stop\",\n",
      "      \"index\": 0,\n",
      "      \"message\": {\n",
      "        \"role\": \"assistant\",\n",
      "        \"content\": \"{\\n  \\\"CARDINAL\\\": [],\\n  \\\"DATE\\\": [],\\n  \\\"EVENT\\\": [],\\n  \\\"FAC\\\": [],\\n  \\\"GPE\\\": [],\\n  \\\"LANGUAGE\\\": [],\\n  \\\"LAW\\\": [],\\n  \\\"LOC\\\": [],\\n  \\\"MONEY\\\": [],\\n  \\\"NORP\\\": [],\\n  \\\"ORDINAL\\\": [],\\n  \\\"ORG\\\": [],\\n  \\\"PERCENT\\\": [],\\n  \\\"PERSON\\\": [],\\n  \\\"PRODUCT\\\": [],\\n  \\\"QUANTITY\\\": [],\\n  \\\"TIME\\\": [],\\n  \\\"WORK_OF_ART\\\": []\\n}\"\n",
      "      }\n",
      "    }\n",
      "  ],\n",
      "  \"usage\": {\n",
      "    \"prompt_tokens\": 854,\n",
      "    \"completion_tokens\": 104,\n",
      "    \"total_tokens\": 958\n",
      "  }\n",
      "})\n"
     ]
    },
    {
     "name": "stderr",
     "output_type": "stream",
     "text": [
      " 32%|███▏      | 16/50 [00:25<00:51,  1.50s/it]"
     ]
    },
    {
     "name": "stdout",
     "output_type": "stream",
     "text": [
      "('{\\n  \"DATE\": [\"Christmas break\", \"first ever Wax Apple Festival\"],\\n  \"GPE\": [\"Linpien\", \"Pingtung Plain\"],\\n  \"LOC\": [\"Linpien river\"]\\n}', <OpenAIObject chat.completion id=chatcmpl-8hzzybVAGExDOebLQxx9NTbmvanRI at 0x7f3a8431f290> JSON: {\n",
      "  \"id\": \"chatcmpl-8hzzybVAGExDOebLQxx9NTbmvanRI\",\n",
      "  \"object\": \"chat.completion\",\n",
      "  \"created\": 1705497118,\n",
      "  \"model\": \"gpt-35-turbo\",\n",
      "  \"choices\": [\n",
      "    {\n",
      "      \"finish_reason\": \"stop\",\n",
      "      \"index\": 0,\n",
      "      \"message\": {\n",
      "        \"role\": \"assistant\",\n",
      "        \"content\": \"{\\n  \\\"DATE\\\": [\\\"Christmas break\\\", \\\"first ever Wax Apple Festival\\\"],\\n  \\\"GPE\\\": [\\\"Linpien\\\", \\\"Pingtung Plain\\\"],\\n  \\\"LOC\\\": [\\\"Linpien river\\\"]\\n}\"\n",
      "      }\n",
      "    }\n",
      "  ],\n",
      "  \"usage\": {\n",
      "    \"prompt_tokens\": 892,\n",
      "    \"completion_tokens\": 43,\n",
      "    \"total_tokens\": 935\n",
      "  }\n",
      "})\n"
     ]
    },
    {
     "name": "stderr",
     "output_type": "stream",
     "text": [
      " 34%|███▍      | 17/50 [00:27<00:56,  1.71s/it]"
     ]
    },
    {
     "name": "stdout",
     "output_type": "stream",
     "text": [
      "('{\\n  \"CARDINAL\": [],\\n  \"DATE\": [],\\n  \"EVENT\": [],\\n  \"FAC\": [],\\n  \"GPE\": [],\\n  \"LANGUAGE\": [],\\n  \"LAW\": [],\\n  \"LOC\": [],\\n  \"MONEY\": [],\\n  \"NORP\": [],\\n  \"ORDINAL\": [],\\n  \"ORG\": [],\\n  \"PERCENT\": [],\\n  \"PERSON\": [],\\n  \"PRODUCT\": [],\\n  \"QUANTITY\": [],\\n  \"TIME\": [],\\n  \"WORK_OF_ART\": []\\n}', <OpenAIObject chat.completion id=chatcmpl-8i000BDrsLiMsOZ3BaINdadCMpGYx at 0x7f3a8431f330> JSON: {\n",
      "  \"id\": \"chatcmpl-8i000BDrsLiMsOZ3BaINdadCMpGYx\",\n",
      "  \"object\": \"chat.completion\",\n",
      "  \"created\": 1705497120,\n",
      "  \"model\": \"gpt-35-turbo\",\n",
      "  \"choices\": [\n",
      "    {\n",
      "      \"finish_reason\": \"stop\",\n",
      "      \"index\": 0,\n",
      "      \"message\": {\n",
      "        \"role\": \"assistant\",\n",
      "        \"content\": \"{\\n  \\\"CARDINAL\\\": [],\\n  \\\"DATE\\\": [],\\n  \\\"EVENT\\\": [],\\n  \\\"FAC\\\": [],\\n  \\\"GPE\\\": [],\\n  \\\"LANGUAGE\\\": [],\\n  \\\"LAW\\\": [],\\n  \\\"LOC\\\": [],\\n  \\\"MONEY\\\": [],\\n  \\\"NORP\\\": [],\\n  \\\"ORDINAL\\\": [],\\n  \\\"ORG\\\": [],\\n  \\\"PERCENT\\\": [],\\n  \\\"PERSON\\\": [],\\n  \\\"PRODUCT\\\": [],\\n  \\\"QUANTITY\\\": [],\\n  \\\"TIME\\\": [],\\n  \\\"WORK_OF_ART\\\": []\\n}\"\n",
      "      }\n",
      "    }\n",
      "  ],\n",
      "  \"usage\": {\n",
      "    \"prompt_tokens\": 1028,\n",
      "    \"completion_tokens\": 104,\n",
      "    \"total_tokens\": 1132\n",
      "  }\n",
      "})\n"
     ]
    },
    {
     "name": "stderr",
     "output_type": "stream",
     "text": [
      " 36%|███▌      | 18/50 [00:30<00:58,  1.83s/it]"
     ]
    },
    {
     "name": "stdout",
     "output_type": "stream",
     "text": [
      "('{\\n  \"CARDINAL\": [\"0.9\"],\\n  \"DATE\": [\"last month\"],\\n  \"ORG\": [\"Analysts\"],\\n  \"PRODUCT\": [\"oil\"],\\n  \"PERCENT\": [\"higher than most anticipated\"]\\n}', <OpenAIObject chat.completion id=chatcmpl-8i002g6WebnvubI0619s9M7420RmO at 0x7f3a8431f240> JSON: {\n",
      "  \"id\": \"chatcmpl-8i002g6WebnvubI0619s9M7420RmO\",\n",
      "  \"object\": \"chat.completion\",\n",
      "  \"created\": 1705497122,\n",
      "  \"model\": \"gpt-35-turbo\",\n",
      "  \"choices\": [\n",
      "    {\n",
      "      \"finish_reason\": \"stop\",\n",
      "      \"index\": 0,\n",
      "      \"message\": {\n",
      "        \"role\": \"assistant\",\n",
      "        \"content\": \"{\\n  \\\"CARDINAL\\\": [\\\"0.9\\\"],\\n  \\\"DATE\\\": [\\\"last month\\\"],\\n  \\\"ORG\\\": [\\\"Analysts\\\"],\\n  \\\"PRODUCT\\\": [\\\"oil\\\"],\\n  \\\"PERCENT\\\": [\\\"higher than most anticipated\\\"]\\n}\"\n",
      "      }\n",
      "    }\n",
      "  ],\n",
      "  \"usage\": {\n",
      "    \"prompt_tokens\": 896,\n",
      "    \"completion_tokens\": 46,\n",
      "    \"total_tokens\": 942\n",
      "  }\n",
      "})\n"
     ]
    },
    {
     "name": "stderr",
     "output_type": "stream",
     "text": [
      " 38%|███▊      | 19/50 [00:31<00:56,  1.82s/it]"
     ]
    },
    {
     "name": "stdout",
     "output_type": "stream",
     "text": [
      "('{\\n  \"CARDINAL\": [\"218\", \"6\", \"260\", \"200 million\"],\\n  \"ORG\": [\"Shanghai\"],\\n  \"DATE\": [\"the latest statistics\"]\\n}', <OpenAIObject chat.completion id=chatcmpl-8i005LRd0TqCGR5tiRfWzcEtCHsJY at 0x7f3a8431d080> JSON: {\n",
      "  \"id\": \"chatcmpl-8i005LRd0TqCGR5tiRfWzcEtCHsJY\",\n",
      "  \"object\": \"chat.completion\",\n",
      "  \"created\": 1705497125,\n",
      "  \"model\": \"gpt-35-turbo\",\n",
      "  \"choices\": [\n",
      "    {\n",
      "      \"finish_reason\": \"stop\",\n",
      "      \"index\": 0,\n",
      "      \"message\": {\n",
      "        \"role\": \"assistant\",\n",
      "        \"content\": \"{\\n  \\\"CARDINAL\\\": [\\\"218\\\", \\\"6\\\", \\\"260\\\", \\\"200 million\\\"],\\n  \\\"ORG\\\": [\\\"Shanghai\\\"],\\n  \\\"DATE\\\": [\\\"the latest statistics\\\"]\\n}\"\n",
      "      }\n",
      "    }\n",
      "  ],\n",
      "  \"usage\": {\n",
      "    \"prompt_tokens\": 981,\n",
      "    \"completion_tokens\": 37,\n",
      "    \"total_tokens\": 1018\n",
      "  }\n",
      "})\n"
     ]
    },
    {
     "name": "stderr",
     "output_type": "stream",
     "text": [
      " 40%|████      | 20/50 [00:34<01:01,  2.04s/it]"
     ]
    },
    {
     "name": "stdout",
     "output_type": "stream",
     "text": [
      "('{\\n  \"CARDINAL\": [],\\n  \"DATE\": [],\\n  \"EVENT\": [],\\n  \"FAC\": [],\\n  \"GPE\": [],\\n  \"LANGUAGE\": [],\\n  \"LAW\": [],\\n  \"LOC\": [],\\n  \"MONEY\": [],\\n  \"NORP\": [],\\n  \"ORDINAL\": [],\\n  \"ORG\": [],\\n  \"PERCENT\": [],\\n  \"PERSON\": [],\\n  \"PRODUCT\": [],\\n  \"QUANTITY\": [],\\n  \"TIME\": [],\\n  \"WORK_OF_ART\": []\\n}', <OpenAIObject chat.completion id=chatcmpl-8i006SaXGChxR2NziUgfV6fpCYcQY at 0x7f3a8431ed90> JSON: {\n",
      "  \"id\": \"chatcmpl-8i006SaXGChxR2NziUgfV6fpCYcQY\",\n",
      "  \"object\": \"chat.completion\",\n",
      "  \"created\": 1705497126,\n",
      "  \"model\": \"gpt-35-turbo\",\n",
      "  \"choices\": [\n",
      "    {\n",
      "      \"finish_reason\": \"stop\",\n",
      "      \"index\": 0,\n",
      "      \"message\": {\n",
      "        \"role\": \"assistant\",\n",
      "        \"content\": \"{\\n  \\\"CARDINAL\\\": [],\\n  \\\"DATE\\\": [],\\n  \\\"EVENT\\\": [],\\n  \\\"FAC\\\": [],\\n  \\\"GPE\\\": [],\\n  \\\"LANGUAGE\\\": [],\\n  \\\"LAW\\\": [],\\n  \\\"LOC\\\": [],\\n  \\\"MONEY\\\": [],\\n  \\\"NORP\\\": [],\\n  \\\"ORDINAL\\\": [],\\n  \\\"ORG\\\": [],\\n  \\\"PERCENT\\\": [],\\n  \\\"PERSON\\\": [],\\n  \\\"PRODUCT\\\": [],\\n  \\\"QUANTITY\\\": [],\\n  \\\"TIME\\\": [],\\n  \\\"WORK_OF_ART\\\": []\\n}\"\n",
      "      }\n",
      "    }\n",
      "  ],\n",
      "  \"usage\": {\n",
      "    \"prompt_tokens\": 882,\n",
      "    \"completion_tokens\": 104,\n",
      "    \"total_tokens\": 986\n",
      "  }\n",
      "})\n"
     ]
    },
    {
     "name": "stderr",
     "output_type": "stream",
     "text": [
      " 42%|████▏     | 21/50 [00:36<01:00,  2.09s/it]"
     ]
    },
    {
     "name": "stdout",
     "output_type": "stream",
     "text": [
      "('{\\n  \"CARDINAL\": [],\\n  \"DATE\": [],\\n  \"EVENT\": [],\\n  \"FAC\": [],\\n  \"GPE\": [\"North Korea\"],\\n  \"LANGUAGE\": [],\\n  \"LAW\": [],\\n  \"LOC\": [],\\n  \"MONEY\": [],\\n  \"NORP\": [],\\n  \"ORDINAL\": [],\\n  \"ORG\": [\"six party talks\"],\\n  \"PERCENT\": [],\\n  \"PERSON\": [],\\n  \"PRODUCT\": [],\\n  \"QUANTITY\": [],\\n  \"TIME\": []\\n}', <OpenAIObject chat.completion id=chatcmpl-8i008nSp9U1wd4RyKqgZ2akRJrurs at 0x7f3a8431f650> JSON: {\n",
      "  \"id\": \"chatcmpl-8i008nSp9U1wd4RyKqgZ2akRJrurs\",\n",
      "  \"object\": \"chat.completion\",\n",
      "  \"created\": 1705497128,\n",
      "  \"model\": \"gpt-35-turbo\",\n",
      "  \"choices\": [\n",
      "    {\n",
      "      \"finish_reason\": \"stop\",\n",
      "      \"index\": 0,\n",
      "      \"message\": {\n",
      "        \"role\": \"assistant\",\n",
      "        \"content\": \"{\\n  \\\"CARDINAL\\\": [],\\n  \\\"DATE\\\": [],\\n  \\\"EVENT\\\": [],\\n  \\\"FAC\\\": [],\\n  \\\"GPE\\\": [\\\"North Korea\\\"],\\n  \\\"LANGUAGE\\\": [],\\n  \\\"LAW\\\": [],\\n  \\\"LOC\\\": [],\\n  \\\"MONEY\\\": [],\\n  \\\"NORP\\\": [],\\n  \\\"ORDINAL\\\": [],\\n  \\\"ORG\\\": [\\\"six party talks\\\"],\\n  \\\"PERCENT\\\": [],\\n  \\\"PERSON\\\": [],\\n  \\\"PRODUCT\\\": [],\\n  \\\"QUANTITY\\\": [],\\n  \\\"TIME\\\": []\\n}\"\n",
      "      }\n",
      "    }\n",
      "  ],\n",
      "  \"usage\": {\n",
      "    \"prompt_tokens\": 901,\n",
      "    \"completion_tokens\": 104,\n",
      "    \"total_tokens\": 1005\n",
      "  }\n",
      "})\n"
     ]
    },
    {
     "name": "stderr",
     "output_type": "stream",
     "text": [
      " 44%|████▍     | 22/50 [00:38<00:52,  1.88s/it]"
     ]
    },
    {
     "name": "stdout",
     "output_type": "stream",
     "text": [
      "('{\\n  \"ORG\": [\"Royal Trustco Ltd.\", \"RTC\", \"Pacific Savings Bank\"],\\n  \"GPE\": [\"Toronto\", \"Costa Mesa\", \"Calif.\"],\\n  \"CARDINAL\": [\"$ 949 million\"]\\n}', <OpenAIObject chat.completion id=chatcmpl-8i00B2AizXW1NcJdZUqQAnvqtZuP1 at 0x7f3a792bf510> JSON: {\n",
      "  \"id\": \"chatcmpl-8i00B2AizXW1NcJdZUqQAnvqtZuP1\",\n",
      "  \"object\": \"chat.completion\",\n",
      "  \"created\": 1705497131,\n",
      "  \"model\": \"gpt-35-turbo\",\n",
      "  \"choices\": [\n",
      "    {\n",
      "      \"finish_reason\": \"stop\",\n",
      "      \"index\": 0,\n",
      "      \"message\": {\n",
      "        \"role\": \"assistant\",\n",
      "        \"content\": \"{\\n  \\\"ORG\\\": [\\\"Royal Trustco Ltd.\\\", \\\"RTC\\\", \\\"Pacific Savings Bank\\\"],\\n  \\\"GPE\\\": [\\\"Toronto\\\", \\\"Costa Mesa\\\", \\\"Calif.\\\"],\\n  \\\"CARDINAL\\\": [\\\"$ 949 million\\\"]\\n}\"\n",
      "      }\n",
      "    }\n",
      "  ],\n",
      "  \"usage\": {\n",
      "    \"prompt_tokens\": 938,\n",
      "    \"completion_tokens\": 49,\n",
      "    \"total_tokens\": 987\n",
      "  }\n",
      "})\n"
     ]
    },
    {
     "name": "stderr",
     "output_type": "stream",
     "text": [
      " 46%|████▌     | 23/50 [00:39<00:50,  1.88s/it]"
     ]
    },
    {
     "name": "stdout",
     "output_type": "stream",
     "text": [
      "('{\\n  \"CARDINAL\": [\"1997\", \"220.178\", \"18.85\", \"110.380\", \"109.798\", \"15\", \"22.7\", \"1996\"],\\n  \"GPE\": [\"Mexico\"],\\n  \"ORG\": [\"Treasury Department\"]\\n}', <OpenAIObject chat.completion id=chatcmpl-8i00C0Edkg3tmxkla8ag2J4n9Yiav at 0x7f3a8431f6f0> JSON: {\n",
      "  \"id\": \"chatcmpl-8i00C0Edkg3tmxkla8ag2J4n9Yiav\",\n",
      "  \"object\": \"chat.completion\",\n",
      "  \"created\": 1705497132,\n",
      "  \"model\": \"gpt-35-turbo\",\n",
      "  \"choices\": [\n",
      "    {\n",
      "      \"finish_reason\": \"stop\",\n",
      "      \"index\": 0,\n",
      "      \"message\": {\n",
      "        \"role\": \"assistant\",\n",
      "        \"content\": \"{\\n  \\\"CARDINAL\\\": [\\\"1997\\\", \\\"220.178\\\", \\\"18.85\\\", \\\"110.380\\\", \\\"109.798\\\", \\\"15\\\", \\\"22.7\\\", \\\"1996\\\"],\\n  \\\"GPE\\\": [\\\"Mexico\\\"],\\n  \\\"ORG\\\": [\\\"Treasury Department\\\"]\\n}\"\n",
      "      }\n",
      "    }\n",
      "  ],\n",
      "  \"usage\": {\n",
      "    \"prompt_tokens\": 1015,\n",
      "    \"completion_tokens\": 60,\n",
      "    \"total_tokens\": 1075\n",
      "  }\n",
      "})\n"
     ]
    },
    {
     "name": "stderr",
     "output_type": "stream",
     "text": [
      " 48%|████▊     | 24/50 [00:41<00:49,  1.91s/it]"
     ]
    },
    {
     "name": "stdout",
     "output_type": "stream",
     "text": [
      "('{\\n  \"DATE\": [\"A month ago\"],\\n  \"PERSON\": [],\\n  \"NORP\": [],\\n  \"FAC\": [],\\n  \"ORG\": [],\\n  \"GPE\": [],\\n  \"LOC\": [],\\n  \"PRODUCT\": [],\\n  \"EVENT\": [],\\n  \"WORK_OF_ART\": [],\\n  \"LAW\": [],\\n  \"LANGUAGE\": [],\\n  \"DATE\": [],\\n  \"TIME\": [],\\n  \"PERCENT\": [],\\n  \"MONEY\": [],\\n  \"QUANTITY\": [],\\n  \"ORDINAL\": [],\\n  \"CARDINAL\": []\\n}', <OpenAIObject chat.completion id=chatcmpl-8i00Ec9WNGPuEWib22g6lGocwXX66 at 0x7f3a792c0cc0> JSON: {\n",
      "  \"id\": \"chatcmpl-8i00Ec9WNGPuEWib22g6lGocwXX66\",\n",
      "  \"object\": \"chat.completion\",\n",
      "  \"created\": 1705497134,\n",
      "  \"model\": \"gpt-35-turbo\",\n",
      "  \"choices\": [\n",
      "    {\n",
      "      \"finish_reason\": \"stop\",\n",
      "      \"index\": 0,\n",
      "      \"message\": {\n",
      "        \"role\": \"assistant\",\n",
      "        \"content\": \"{\\n  \\\"DATE\\\": [\\\"A month ago\\\"],\\n  \\\"PERSON\\\": [],\\n  \\\"NORP\\\": [],\\n  \\\"FAC\\\": [],\\n  \\\"ORG\\\": [],\\n  \\\"GPE\\\": [],\\n  \\\"LOC\\\": [],\\n  \\\"PRODUCT\\\": [],\\n  \\\"EVENT\\\": [],\\n  \\\"WORK_OF_ART\\\": [],\\n  \\\"LAW\\\": [],\\n  \\\"LANGUAGE\\\": [],\\n  \\\"DATE\\\": [],\\n  \\\"TIME\\\": [],\\n  \\\"PERCENT\\\": [],\\n  \\\"MONEY\\\": [],\\n  \\\"QUANTITY\\\": [],\\n  \\\"ORDINAL\\\": [],\\n  \\\"CARDINAL\\\": []\\n}\"\n",
      "      }\n",
      "    }\n",
      "  ],\n",
      "  \"usage\": {\n",
      "    \"prompt_tokens\": 912,\n",
      "    \"completion_tokens\": 113,\n",
      "    \"total_tokens\": 1025\n",
      "  }\n",
      "})\n"
     ]
    },
    {
     "name": "stderr",
     "output_type": "stream",
     "text": [
      " 50%|█████     | 25/50 [00:44<00:51,  2.08s/it]"
     ]
    },
    {
     "name": "stdout",
     "output_type": "stream",
     "text": [
      "('{\\n  \"CARDINAL\": [\"50\", \"three\"],\\n  \"ORDINAL\": [],\\n  \"PERCENT\": [],\\n  \"MONEY\": [],\\n  \"QUANTITY\": [],\\n  \"DATE\": [],\\n  \"TIME\": [],\\n  \"DURATION\": [],\\n  \"PERSON\": [],\\n  \"NORP\": [],\\n  \"FAC\": [],\\n  \"ORG\": [],\\n  \"GPE\": [],\\n  \"LOC\": [],\\n  \"PRODUCT\": [],\\n  \"EVENT\": [],\\n  \"WORK_OF_ART\": [],\\n  \"LAW\": [],\\n  \"LANGUAGE\": [],\\n  \"DATE\": [],\\n  \"TIME\": [],\\n  \"PERCENT\": [],\\n  \"MONEY\": [],\\n  \"QUANTITY\": [],\\n  \"ORDINAL\": [],\\n  \"CARDINAL\": []\\n}', <OpenAIObject chat.completion id=chatcmpl-8i00GbWYjjD9Snc6tchzFMaqrCuYG at 0x7f3a8431fec0> JSON: {\n",
      "  \"id\": \"chatcmpl-8i00GbWYjjD9Snc6tchzFMaqrCuYG\",\n",
      "  \"object\": \"chat.completion\",\n",
      "  \"created\": 1705497136,\n",
      "  \"model\": \"gpt-35-turbo\",\n",
      "  \"choices\": [\n",
      "    {\n",
      "      \"finish_reason\": \"stop\",\n",
      "      \"index\": 0,\n",
      "      \"message\": {\n",
      "        \"role\": \"assistant\",\n",
      "        \"content\": \"{\\n  \\\"CARDINAL\\\": [\\\"50\\\", \\\"three\\\"],\\n  \\\"ORDINAL\\\": [],\\n  \\\"PERCENT\\\": [],\\n  \\\"MONEY\\\": [],\\n  \\\"QUANTITY\\\": [],\\n  \\\"DATE\\\": [],\\n  \\\"TIME\\\": [],\\n  \\\"DURATION\\\": [],\\n  \\\"PERSON\\\": [],\\n  \\\"NORP\\\": [],\\n  \\\"FAC\\\": [],\\n  \\\"ORG\\\": [],\\n  \\\"GPE\\\": [],\\n  \\\"LOC\\\": [],\\n  \\\"PRODUCT\\\": [],\\n  \\\"EVENT\\\": [],\\n  \\\"WORK_OF_ART\\\": [],\\n  \\\"LAW\\\": [],\\n  \\\"LANGUAGE\\\": [],\\n  \\\"DATE\\\": [],\\n  \\\"TIME\\\": [],\\n  \\\"PERCENT\\\": [],\\n  \\\"MONEY\\\": [],\\n  \\\"QUANTITY\\\": [],\\n  \\\"ORDINAL\\\": [],\\n  \\\"CARDINAL\\\": []\\n}\"\n",
      "      }\n",
      "    }\n",
      "  ],\n",
      "  \"usage\": {\n",
      "    \"prompt_tokens\": 847,\n",
      "    \"completion_tokens\": 155,\n",
      "    \"total_tokens\": 1002\n",
      "  }\n",
      "})\n"
     ]
    },
    {
     "name": "stderr",
     "output_type": "stream",
     "text": [
      " 52%|█████▏    | 26/50 [00:46<00:48,  2.04s/it]"
     ]
    },
    {
     "name": "stdout",
     "output_type": "stream",
     "text": [
      "('{\\n  \"CARDINAL\": [\"January\", \"November\", \"2.8 billion\", \"1/5\"],\\n  \"DATE\": [\"From January to November\"],\\n  \"GPE\": [\"Pudong\"],\\n  \"MONEY\": [\"2.8 billion US dollars\"],\\n  \"ORDINAL\": [\"1/5\"]\\n}', <OpenAIObject chat.completion id=chatcmpl-8i00IL0fcAxwVcG1t37ZfYISTfntS at 0x7f3a8431ef20> JSON: {\n",
      "  \"id\": \"chatcmpl-8i00IL0fcAxwVcG1t37ZfYISTfntS\",\n",
      "  \"object\": \"chat.completion\",\n",
      "  \"created\": 1705497138,\n",
      "  \"model\": \"gpt-35-turbo\",\n",
      "  \"choices\": [\n",
      "    {\n",
      "      \"finish_reason\": \"stop\",\n",
      "      \"index\": 0,\n",
      "      \"message\": {\n",
      "        \"role\": \"assistant\",\n",
      "        \"content\": \"{\\n  \\\"CARDINAL\\\": [\\\"January\\\", \\\"November\\\", \\\"2.8 billion\\\", \\\"1/5\\\"],\\n  \\\"DATE\\\": [\\\"From January to November\\\"],\\n  \\\"GPE\\\": [\\\"Pudong\\\"],\\n  \\\"MONEY\\\": [\\\"2.8 billion US dollars\\\"],\\n  \\\"ORDINAL\\\": [\\\"1/5\\\"]\\n}\"\n",
      "      }\n",
      "    }\n",
      "  ],\n",
      "  \"usage\": {\n",
      "    \"prompt_tokens\": 983,\n",
      "    \"completion_tokens\": 67,\n",
      "    \"total_tokens\": 1050\n",
      "  }\n",
      "})\n"
     ]
    },
    {
     "name": "stderr",
     "output_type": "stream",
     "text": [
      " 54%|█████▍    | 27/50 [00:48<00:47,  2.05s/it]"
     ]
    },
    {
     "name": "stdout",
     "output_type": "stream",
     "text": [
      "('{\\n  \"DATE\": [],\\n  \"CARDINAL\": [],\\n  \"EVENT\": [],\\n  \"FAC\": [],\\n  \"GPE\": [],\\n  \"LANGUAGE\": [],\\n  \"LAW\": [],\\n  \"LOC\": [],\\n  \"MONEY\": [],\\n  \"NORP\": [],\\n  \"ORDINAL\": [],\\n  \"ORG\": [],\\n  \"PERCENT\": [],\\n  \"PERSON\": [],\\n  \"PRODUCT\": [],\\n  \"QUANTITY\": [],\\n  \"TIME\": [],\\n  \"WORK_OF_ART\": []\\n}', <OpenAIObject chat.completion id=chatcmpl-8i00KH9baQHVLhTU9GXMiKqvNA1M2 at 0x7f3a70d78180> JSON: {\n",
      "  \"id\": \"chatcmpl-8i00KH9baQHVLhTU9GXMiKqvNA1M2\",\n",
      "  \"object\": \"chat.completion\",\n",
      "  \"created\": 1705497140,\n",
      "  \"model\": \"gpt-35-turbo\",\n",
      "  \"choices\": [\n",
      "    {\n",
      "      \"finish_reason\": \"stop\",\n",
      "      \"index\": 0,\n",
      "      \"message\": {\n",
      "        \"role\": \"assistant\",\n",
      "        \"content\": \"{\\n  \\\"DATE\\\": [],\\n  \\\"CARDINAL\\\": [],\\n  \\\"EVENT\\\": [],\\n  \\\"FAC\\\": [],\\n  \\\"GPE\\\": [],\\n  \\\"LANGUAGE\\\": [],\\n  \\\"LAW\\\": [],\\n  \\\"LOC\\\": [],\\n  \\\"MONEY\\\": [],\\n  \\\"NORP\\\": [],\\n  \\\"ORDINAL\\\": [],\\n  \\\"ORG\\\": [],\\n  \\\"PERCENT\\\": [],\\n  \\\"PERSON\\\": [],\\n  \\\"PRODUCT\\\": [],\\n  \\\"QUANTITY\\\": [],\\n  \\\"TIME\\\": [],\\n  \\\"WORK_OF_ART\\\": []\\n}\"\n",
      "      }\n",
      "    }\n",
      "  ],\n",
      "  \"usage\": {\n",
      "    \"prompt_tokens\": 848,\n",
      "    \"completion_tokens\": 104,\n",
      "    \"total_tokens\": 952\n",
      "  }\n",
      "})\n"
     ]
    },
    {
     "name": "stderr",
     "output_type": "stream",
     "text": [
      " 56%|█████▌    | 28/50 [00:50<00:42,  1.94s/it]"
     ]
    },
    {
     "name": "stdout",
     "output_type": "stream",
     "text": [
      "('{\\n  \"CARDINAL\": [],\\n  \"DATE\": [],\\n  \"EVENT\": [],\\n  \"FAC\": [],\\n  \"GPE\": [],\\n  \"LANGUAGE\": [],\\n  \"LAW\": [],\\n  \"LOC\": [],\\n  \"MONEY\": [],\\n  \"NORP\": [],\\n  \"ORDINAL\": [],\\n  \"ORG\": [],\\n  \"PERCENT\": [],\\n  \"PERSON\": [],\\n  \"PRODUCT\": [],\\n  \"QUANTITY\": [],\\n  \"TIME\": [],\\n  \"WORK_OF_ART\": []\\n}', <OpenAIObject chat.completion id=chatcmpl-8i00M8DZr2LdEJ48HcKIuGP7BfvyV at 0x7f3a792bf510> JSON: {\n",
      "  \"id\": \"chatcmpl-8i00M8DZr2LdEJ48HcKIuGP7BfvyV\",\n",
      "  \"object\": \"chat.completion\",\n",
      "  \"created\": 1705497142,\n",
      "  \"model\": \"gpt-35-turbo\",\n",
      "  \"choices\": [\n",
      "    {\n",
      "      \"finish_reason\": \"stop\",\n",
      "      \"index\": 0,\n",
      "      \"message\": {\n",
      "        \"role\": \"assistant\",\n",
      "        \"content\": \"{\\n  \\\"CARDINAL\\\": [],\\n  \\\"DATE\\\": [],\\n  \\\"EVENT\\\": [],\\n  \\\"FAC\\\": [],\\n  \\\"GPE\\\": [],\\n  \\\"LANGUAGE\\\": [],\\n  \\\"LAW\\\": [],\\n  \\\"LOC\\\": [],\\n  \\\"MONEY\\\": [],\\n  \\\"NORP\\\": [],\\n  \\\"ORDINAL\\\": [],\\n  \\\"ORG\\\": [],\\n  \\\"PERCENT\\\": [],\\n  \\\"PERSON\\\": [],\\n  \\\"PRODUCT\\\": [],\\n  \\\"QUANTITY\\\": [],\\n  \\\"TIME\\\": [],\\n  \\\"WORK_OF_ART\\\": []\\n}\"\n",
      "      }\n",
      "    }\n",
      "  ],\n",
      "  \"usage\": {\n",
      "    \"prompt_tokens\": 880,\n",
      "    \"completion_tokens\": 104,\n",
      "    \"total_tokens\": 984\n",
      "  }\n",
      "})\n"
     ]
    },
    {
     "name": "stderr",
     "output_type": "stream",
     "text": [
      " 58%|█████▊    | 29/50 [00:51<00:37,  1.79s/it]"
     ]
    },
    {
     "name": "stdout",
     "output_type": "stream",
     "text": [
      "('{\\n  \"ORG\": [\"Young & Rubicam Inc.\"],\\n  \"PERSON\": [\"two senior executives\"],\\n  \"GPE\": [\"New Haven\", \"Conn.\"]\\n}', <OpenAIObject chat.completion id=chatcmpl-8i00O4aq4Y0DjsLgjgLn9e1RCHTsj at 0x7f3a8431ebb0> JSON: {\n",
      "  \"id\": \"chatcmpl-8i00O4aq4Y0DjsLgjgLn9e1RCHTsj\",\n",
      "  \"object\": \"chat.completion\",\n",
      "  \"created\": 1705497144,\n",
      "  \"model\": \"gpt-35-turbo\",\n",
      "  \"choices\": [\n",
      "    {\n",
      "      \"finish_reason\": \"stop\",\n",
      "      \"index\": 0,\n",
      "      \"message\": {\n",
      "        \"role\": \"assistant\",\n",
      "        \"content\": \"{\\n  \\\"ORG\\\": [\\\"Young & Rubicam Inc.\\\"],\\n  \\\"PERSON\\\": [\\\"two senior executives\\\"],\\n  \\\"GPE\\\": [\\\"New Haven\\\", \\\"Conn.\\\"]\\n}\"\n",
      "      }\n",
      "    }\n",
      "  ],\n",
      "  \"usage\": {\n",
      "    \"prompt_tokens\": 925,\n",
      "    \"completion_tokens\": 36,\n",
      "    \"total_tokens\": 961\n",
      "  }\n",
      "})\n"
     ]
    },
    {
     "name": "stderr",
     "output_type": "stream",
     "text": [
      " 60%|██████    | 30/50 [00:53<00:34,  1.73s/it]"
     ]
    },
    {
     "name": "stdout",
     "output_type": "stream",
     "text": [
      "('{\\n  \"PERSON\": [\"Yang Hung-jen\", \"Tsao Chi-hung\"],\\n  \"ORG\": [\"National Taiwan University\", \"Graduate Institute of Sociology\", \"Linpien Residents\\' Democracy Association\", \"DPP\"],\\n  \"DATE\": [\"eight or nine years ago\"],\\n  \"CARDINAL\": []\\n}', <OpenAIObject chat.completion id=chatcmpl-8i00QUkCffIAqbxLWlvXA03e9WXYq at 0x7f3a8431ee80> JSON: {\n",
      "  \"id\": \"chatcmpl-8i00QUkCffIAqbxLWlvXA03e9WXYq\",\n",
      "  \"object\": \"chat.completion\",\n",
      "  \"created\": 1705497146,\n",
      "  \"model\": \"gpt-35-turbo\",\n",
      "  \"choices\": [\n",
      "    {\n",
      "      \"finish_reason\": \"stop\",\n",
      "      \"index\": 0,\n",
      "      \"message\": {\n",
      "        \"role\": \"assistant\",\n",
      "        \"content\": \"{\\n  \\\"PERSON\\\": [\\\"Yang Hung-jen\\\", \\\"Tsao Chi-hung\\\"],\\n  \\\"ORG\\\": [\\\"National Taiwan University\\\", \\\"Graduate Institute of Sociology\\\", \\\"Linpien Residents' Democracy Association\\\", \\\"DPP\\\"],\\n  \\\"DATE\\\": [\\\"eight or nine years ago\\\"],\\n  \\\"CARDINAL\\\": []\\n}\"\n",
      "      }\n",
      "    }\n",
      "  ],\n",
      "  \"usage\": {\n",
      "    \"prompt_tokens\": 981,\n",
      "    \"completion_tokens\": 65,\n",
      "    \"total_tokens\": 1046\n",
      "  }\n",
      "})\n"
     ]
    },
    {
     "name": "stderr",
     "output_type": "stream",
     "text": [
      " 62%|██████▏   | 31/50 [00:54<00:31,  1.68s/it]"
     ]
    },
    {
     "name": "stdout",
     "output_type": "stream",
     "text": [
      "(\"I apologize, but it seems like you haven't provided the complete sentence. Could you please provide the full sentence so that I can extract the named entities for you?\", <OpenAIObject chat.completion id=chatcmpl-8i00RHjgSD7KiOvhQzsS3gq6OM8j8 at 0x7f3a8431ff10> JSON: {\n",
      "  \"id\": \"chatcmpl-8i00RHjgSD7KiOvhQzsS3gq6OM8j8\",\n",
      "  \"object\": \"chat.completion\",\n",
      "  \"created\": 1705497147,\n",
      "  \"model\": \"gpt-35-turbo\",\n",
      "  \"choices\": [\n",
      "    {\n",
      "      \"finish_reason\": \"stop\",\n",
      "      \"index\": 0,\n",
      "      \"message\": {\n",
      "        \"role\": \"assistant\",\n",
      "        \"content\": \"I apologize, but it seems like you haven't provided the complete sentence. Could you please provide the full sentence so that I can extract the named entities for you?\"\n",
      "      }\n",
      "    }\n",
      "  ],\n",
      "  \"usage\": {\n",
      "    \"prompt_tokens\": 900,\n",
      "    \"completion_tokens\": 33,\n",
      "    \"total_tokens\": 933\n",
      "  }\n",
      "})\n",
      "-----------------------------------------------\n",
      "response does not contain {}. Returned [I apologize, but it seems like you haven't provided the complete sentence. Could you please provide the full sentence so that I can extract the named entities for you?}\n",
      "-----------------------------------------------\n"
     ]
    },
    {
     "name": "stderr",
     "output_type": "stream",
     "text": [
      " 64%|██████▍   | 32/50 [00:56<00:31,  1.76s/it]"
     ]
    },
    {
     "name": "stdout",
     "output_type": "stream",
     "text": [
      "('{\\n  \"CARDINAL\": [\"850 million\", \"72%\", \"700 million\", \"75%\"],\\n  \"DATE\": [\"last year\", \"the same period of the previous year\"],\\n  \"MONEY\": [\"US dollars\"],\\n  \"ORG\": [\"Tianjin Port Bonded Area\"],\\n  \"PERCENT\": [\"72%\", \"75%\"]\\n}', <OpenAIObject chat.completion id=chatcmpl-8i00T0b739icgfQ7YvcY5tzCFdHbu at 0x7f3a8431f510> JSON: {\n",
      "  \"id\": \"chatcmpl-8i00T0b739icgfQ7YvcY5tzCFdHbu\",\n",
      "  \"object\": \"chat.completion\",\n",
      "  \"created\": 1705497149,\n",
      "  \"model\": \"gpt-35-turbo\",\n",
      "  \"choices\": [\n",
      "    {\n",
      "      \"finish_reason\": \"stop\",\n",
      "      \"index\": 0,\n",
      "      \"message\": {\n",
      "        \"role\": \"assistant\",\n",
      "        \"content\": \"{\\n  \\\"CARDINAL\\\": [\\\"850 million\\\", \\\"72%\\\", \\\"700 million\\\", \\\"75%\\\"],\\n  \\\"DATE\\\": [\\\"last year\\\", \\\"the same period of the previous year\\\"],\\n  \\\"MONEY\\\": [\\\"US dollars\\\"],\\n  \\\"ORG\\\": [\\\"Tianjin Port Bonded Area\\\"],\\n  \\\"PERCENT\\\": [\\\"72%\\\", \\\"75%\\\"]\\n}\"\n",
      "      }\n",
      "    }\n",
      "  ],\n",
      "  \"usage\": {\n",
      "    \"prompt_tokens\": 1000,\n",
      "    \"completion_tokens\": 73,\n",
      "    \"total_tokens\": 1073\n",
      "  }\n",
      "})\n"
     ]
    },
    {
     "name": "stderr",
     "output_type": "stream",
     "text": [
      " 66%|██████▌   | 33/50 [00:58<00:32,  1.94s/it]"
     ]
    },
    {
     "name": "stdout",
     "output_type": "stream",
     "text": [
      "('{\\n  \"CARDINAL\": [],\\n  \"DATE\": [],\\n  \"EVENT\": [],\\n  \"FAC\": [],\\n  \"GPE\": [],\\n  \"LANGUAGE\": [],\\n  \"LAW\": [],\\n  \"LOC\": [],\\n  \"MONEY\": [],\\n  \"NORP\": [],\\n  \"ORDINAL\": [],\\n  \"ORG\": [],\\n  \"PERCENT\": [],\\n  \"PERSON\": [],\\n  \"PRODUCT\": [],\\n  \"QUANTITY\": [],\\n  \"TIME\": [],\\n  \"WORK_OF_ART\": []\\n}', <OpenAIObject chat.completion id=chatcmpl-8i00VFQgZs424fpP5sXVQty1Zn7wz at 0x7f3a844257b0> JSON: {\n",
      "  \"id\": \"chatcmpl-8i00VFQgZs424fpP5sXVQty1Zn7wz\",\n",
      "  \"object\": \"chat.completion\",\n",
      "  \"created\": 1705497151,\n",
      "  \"model\": \"gpt-35-turbo\",\n",
      "  \"choices\": [\n",
      "    {\n",
      "      \"finish_reason\": \"stop\",\n",
      "      \"index\": 0,\n",
      "      \"message\": {\n",
      "        \"role\": \"assistant\",\n",
      "        \"content\": \"{\\n  \\\"CARDINAL\\\": [],\\n  \\\"DATE\\\": [],\\n  \\\"EVENT\\\": [],\\n  \\\"FAC\\\": [],\\n  \\\"GPE\\\": [],\\n  \\\"LANGUAGE\\\": [],\\n  \\\"LAW\\\": [],\\n  \\\"LOC\\\": [],\\n  \\\"MONEY\\\": [],\\n  \\\"NORP\\\": [],\\n  \\\"ORDINAL\\\": [],\\n  \\\"ORG\\\": [],\\n  \\\"PERCENT\\\": [],\\n  \\\"PERSON\\\": [],\\n  \\\"PRODUCT\\\": [],\\n  \\\"QUANTITY\\\": [],\\n  \\\"TIME\\\": [],\\n  \\\"WORK_OF_ART\\\": []\\n}\"\n",
      "      }\n",
      "    }\n",
      "  ],\n",
      "  \"usage\": {\n",
      "    \"prompt_tokens\": 838,\n",
      "    \"completion_tokens\": 104,\n",
      "    \"total_tokens\": 942\n",
      "  }\n",
      "})\n"
     ]
    },
    {
     "name": "stderr",
     "output_type": "stream",
     "text": [
      " 68%|██████▊   | 34/50 [01:00<00:28,  1.80s/it]"
     ]
    },
    {
     "name": "stdout",
     "output_type": "stream",
     "text": [
      "('{\\n  \"DATE\": [\"October 1985\"],\\n  \"ORG\": [\"Weatherford\"],\\n  \"MONEY\": [\"$6 million\"]\\n}', <OpenAIObject chat.completion id=chatcmpl-8i00XiyLBh9ycl6p68MNPD26nk803 at 0x7f3a71d48b30> JSON: {\n",
      "  \"id\": \"chatcmpl-8i00XiyLBh9ycl6p68MNPD26nk803\",\n",
      "  \"object\": \"chat.completion\",\n",
      "  \"created\": 1705497153,\n",
      "  \"model\": \"gpt-35-turbo\",\n",
      "  \"choices\": [\n",
      "    {\n",
      "      \"finish_reason\": \"stop\",\n",
      "      \"index\": 0,\n",
      "      \"message\": {\n",
      "        \"role\": \"assistant\",\n",
      "        \"content\": \"{\\n  \\\"DATE\\\": [\\\"October 1985\\\"],\\n  \\\"ORG\\\": [\\\"Weatherford\\\"],\\n  \\\"MONEY\\\": [\\\"$6 million\\\"]\\n}\"\n",
      "      }\n",
      "    }\n",
      "  ],\n",
      "  \"usage\": {\n",
      "    \"prompt_tokens\": 886,\n",
      "    \"completion_tokens\": 30,\n",
      "    \"total_tokens\": 916\n",
      "  }\n",
      "})\n"
     ]
    },
    {
     "name": "stderr",
     "output_type": "stream",
     "text": [
      " 70%|███████   | 35/50 [01:02<00:28,  1.91s/it]"
     ]
    },
    {
     "name": "stdout",
     "output_type": "stream",
     "text": [
      "('{\\n  \"CARDINAL\": [],\\n  \"DATE\": [],\\n  \"EVENT\": [],\\n  \"FAC\": [],\\n  \"GPE\": [],\\n  \"LANGUAGE\": [],\\n  \"LAW\": [],\\n  \"LOC\": [],\\n  \"MONEY\": [],\\n  \"NORP\": [],\\n  \"ORDINAL\": [],\\n  \"ORG\": [],\\n  \"PERCENT\": [],\\n  \"PERSON\": [],\\n  \"PRODUCT\": [],\\n  \"QUANTITY\": [],\\n  \"TIME\": [],\\n  \"WORK_OF_ART\": []\\n}', <OpenAIObject chat.completion id=chatcmpl-8i00YvlfgO5KRayANrYdcYSKn86v0 at 0x7f3a8431e430> JSON: {\n",
      "  \"id\": \"chatcmpl-8i00YvlfgO5KRayANrYdcYSKn86v0\",\n",
      "  \"object\": \"chat.completion\",\n",
      "  \"created\": 1705497154,\n",
      "  \"model\": \"gpt-35-turbo\",\n",
      "  \"choices\": [\n",
      "    {\n",
      "      \"finish_reason\": \"stop\",\n",
      "      \"index\": 0,\n",
      "      \"message\": {\n",
      "        \"role\": \"assistant\",\n",
      "        \"content\": \"{\\n  \\\"CARDINAL\\\": [],\\n  \\\"DATE\\\": [],\\n  \\\"EVENT\\\": [],\\n  \\\"FAC\\\": [],\\n  \\\"GPE\\\": [],\\n  \\\"LANGUAGE\\\": [],\\n  \\\"LAW\\\": [],\\n  \\\"LOC\\\": [],\\n  \\\"MONEY\\\": [],\\n  \\\"NORP\\\": [],\\n  \\\"ORDINAL\\\": [],\\n  \\\"ORG\\\": [],\\n  \\\"PERCENT\\\": [],\\n  \\\"PERSON\\\": [],\\n  \\\"PRODUCT\\\": [],\\n  \\\"QUANTITY\\\": [],\\n  \\\"TIME\\\": [],\\n  \\\"WORK_OF_ART\\\": []\\n}\"\n",
      "      }\n",
      "    }\n",
      "  ],\n",
      "  \"usage\": {\n",
      "    \"prompt_tokens\": 1005,\n",
      "    \"completion_tokens\": 104,\n",
      "    \"total_tokens\": 1109\n",
      "  }\n",
      "})\n"
     ]
    },
    {
     "name": "stderr",
     "output_type": "stream",
     "text": [
      " 72%|███████▏  | 36/50 [01:04<00:25,  1.84s/it]"
     ]
    },
    {
     "name": "stdout",
     "output_type": "stream",
     "text": [
      "('{\\n  \"CARDINAL\": [\"8\", \"6,000\"],\\n  \"ORG\": [\"UAW\"],\\n  \"GPE\": [\"Oklahoma City\"],\\n  \"DATE\": [\"eight-year-old\"]\\n}', <OpenAIObject chat.completion id=chatcmpl-8i00bhc1QfVkAptuIUieRvByQsoGG at 0x7f3a8431fce0> JSON: {\n",
      "  \"id\": \"chatcmpl-8i00bhc1QfVkAptuIUieRvByQsoGG\",\n",
      "  \"object\": \"chat.completion\",\n",
      "  \"created\": 1705497157,\n",
      "  \"model\": \"gpt-35-turbo\",\n",
      "  \"choices\": [\n",
      "    {\n",
      "      \"finish_reason\": \"stop\",\n",
      "      \"index\": 0,\n",
      "      \"message\": {\n",
      "        \"role\": \"assistant\",\n",
      "        \"content\": \"{\\n  \\\"CARDINAL\\\": [\\\"8\\\", \\\"6,000\\\"],\\n  \\\"ORG\\\": [\\\"UAW\\\"],\\n  \\\"GPE\\\": [\\\"Oklahoma City\\\"],\\n  \\\"DATE\\\": [\\\"eight-year-old\\\"]\\n}\"\n",
      "      }\n",
      "    }\n",
      "  ],\n",
      "  \"usage\": {\n",
      "    \"prompt_tokens\": 940,\n",
      "    \"completion_tokens\": 43,\n",
      "    \"total_tokens\": 983\n",
      "  }\n",
      "})\n"
     ]
    },
    {
     "name": "stderr",
     "output_type": "stream",
     "text": [
      " 74%|███████▍  | 37/50 [01:06<00:26,  2.07s/it]"
     ]
    },
    {
     "name": "stdout",
     "output_type": "stream",
     "text": [
      "('{\\n  \"CARDINAL\": [],\\n  \"DATE\": [],\\n  \"EVENT\": [],\\n  \"FAC\": [],\\n  \"GPE\": [],\\n  \"LANGUAGE\": [],\\n  \"LAW\": [],\\n  \"LOC\": [],\\n  \"MONEY\": [],\\n  \"NORP\": [],\\n  \"ORDINAL\": [],\\n  \"ORG\": [],\\n  \"PERCENT\": [],\\n  \"PERSON\": [],\\n  \"PRODUCT\": [],\\n  \"QUANTITY\": [],\\n  \"TIME\": [],\\n  \"WORK_OF_ART\": []\\n}', <OpenAIObject chat.completion id=chatcmpl-8i00dUuGvRT2v3BtDeM16FK7gWdg6 at 0x7f3a8431f150> JSON: {\n",
      "  \"id\": \"chatcmpl-8i00dUuGvRT2v3BtDeM16FK7gWdg6\",\n",
      "  \"object\": \"chat.completion\",\n",
      "  \"created\": 1705497159,\n",
      "  \"model\": \"gpt-35-turbo\",\n",
      "  \"choices\": [\n",
      "    {\n",
      "      \"finish_reason\": \"stop\",\n",
      "      \"index\": 0,\n",
      "      \"message\": {\n",
      "        \"role\": \"assistant\",\n",
      "        \"content\": \"{\\n  \\\"CARDINAL\\\": [],\\n  \\\"DATE\\\": [],\\n  \\\"EVENT\\\": [],\\n  \\\"FAC\\\": [],\\n  \\\"GPE\\\": [],\\n  \\\"LANGUAGE\\\": [],\\n  \\\"LAW\\\": [],\\n  \\\"LOC\\\": [],\\n  \\\"MONEY\\\": [],\\n  \\\"NORP\\\": [],\\n  \\\"ORDINAL\\\": [],\\n  \\\"ORG\\\": [],\\n  \\\"PERCENT\\\": [],\\n  \\\"PERSON\\\": [],\\n  \\\"PRODUCT\\\": [],\\n  \\\"QUANTITY\\\": [],\\n  \\\"TIME\\\": [],\\n  \\\"WORK_OF_ART\\\": []\\n}\"\n",
      "      }\n",
      "    }\n",
      "  ],\n",
      "  \"usage\": {\n",
      "    \"prompt_tokens\": 875,\n",
      "    \"completion_tokens\": 104,\n",
      "    \"total_tokens\": 979\n",
      "  }\n",
      "})\n"
     ]
    },
    {
     "name": "stderr",
     "output_type": "stream",
     "text": [
      " 76%|███████▌  | 38/50 [01:08<00:23,  1.93s/it]"
     ]
    },
    {
     "name": "stdout",
     "output_type": "stream",
     "text": [
      "('{\\n  \"PERSON\": [\"Li Yung-kun\"],\\n  \"ORG\": [\"Li family\"],\\n  \"GPE\": [\"Tanshui\"],\\n  \"CARDINAL\": [\"three\"]\\n}', <OpenAIObject chat.completion id=chatcmpl-8i00fvexP3WgEaDicMIIaxUtC5sA9 at 0x7f3a8431f4c0> JSON: {\n",
      "  \"id\": \"chatcmpl-8i00fvexP3WgEaDicMIIaxUtC5sA9\",\n",
      "  \"object\": \"chat.completion\",\n",
      "  \"created\": 1705497161,\n",
      "  \"model\": \"gpt-35-turbo\",\n",
      "  \"choices\": [\n",
      "    {\n",
      "      \"finish_reason\": \"stop\",\n",
      "      \"index\": 0,\n",
      "      \"message\": {\n",
      "        \"role\": \"assistant\",\n",
      "        \"content\": \"{\\n  \\\"PERSON\\\": [\\\"Li Yung-kun\\\"],\\n  \\\"ORG\\\": [\\\"Li family\\\"],\\n  \\\"GPE\\\": [\\\"Tanshui\\\"],\\n  \\\"CARDINAL\\\": [\\\"three\\\"]\\n}\"\n",
      "      }\n",
      "    }\n",
      "  ],\n",
      "  \"usage\": {\n",
      "    \"prompt_tokens\": 962,\n",
      "    \"completion_tokens\": 40,\n",
      "    \"total_tokens\": 1002\n",
      "  }\n",
      "})\n"
     ]
    },
    {
     "name": "stderr",
     "output_type": "stream",
     "text": [
      " 78%|███████▊  | 39/50 [01:09<00:19,  1.75s/it]"
     ]
    },
    {
     "name": "stdout",
     "output_type": "stream",
     "text": [
      "('{\\n  \"CARDINAL\": [\"1.34\", \"1.55\"]\\n}', <OpenAIObject chat.completion id=chatcmpl-8i00hHNJ1rD7MkXTl6CUHmSHNIRVO at 0x7f3a8431e750> JSON: {\n",
      "  \"id\": \"chatcmpl-8i00hHNJ1rD7MkXTl6CUHmSHNIRVO\",\n",
      "  \"object\": \"chat.completion\",\n",
      "  \"created\": 1705497163,\n",
      "  \"model\": \"gpt-35-turbo\",\n",
      "  \"choices\": [\n",
      "    {\n",
      "      \"finish_reason\": \"stop\",\n",
      "      \"index\": 0,\n",
      "      \"message\": {\n",
      "        \"role\": \"assistant\",\n",
      "        \"content\": \"{\\n  \\\"CARDINAL\\\": [\\\"1.34\\\", \\\"1.55\\\"]\\n}\"\n",
      "      }\n",
      "    }\n",
      "  ],\n",
      "  \"usage\": {\n",
      "    \"prompt_tokens\": 936,\n",
      "    \"completion_tokens\": 17,\n",
      "    \"total_tokens\": 953\n",
      "  }\n",
      "})\n"
     ]
    },
    {
     "name": "stderr",
     "output_type": "stream",
     "text": [
      " 80%|████████  | 40/50 [01:11<00:17,  1.76s/it]"
     ]
    },
    {
     "name": "stdout",
     "output_type": "stream",
     "text": [
      "('{\\n  \"CARDINAL\": [\"$ 60 billion\"],\\n  \"DATE\": [\"1987\"],\\n  \"ORG\": [\"portfolio insurance\"],\\n  \"MONEY\": [\"$ 60 billion\"],\\n  \"PRODUCT\": [\"stock\", \"futures\"],\\n  \"EVENT\": [\"crash\"]\\n}', <OpenAIObject chat.completion id=chatcmpl-8i00ipeTW0qvCC7nCKeWlKjZxfPWx at 0x7f3a8431f1a0> JSON: {\n",
      "  \"id\": \"chatcmpl-8i00ipeTW0qvCC7nCKeWlKjZxfPWx\",\n",
      "  \"object\": \"chat.completion\",\n",
      "  \"created\": 1705497164,\n",
      "  \"model\": \"gpt-35-turbo\",\n",
      "  \"choices\": [\n",
      "    {\n",
      "      \"finish_reason\": \"stop\",\n",
      "      \"index\": 0,\n",
      "      \"message\": {\n",
      "        \"role\": \"assistant\",\n",
      "        \"content\": \"{\\n  \\\"CARDINAL\\\": [\\\"$ 60 billion\\\"],\\n  \\\"DATE\\\": [\\\"1987\\\"],\\n  \\\"ORG\\\": [\\\"portfolio insurance\\\"],\\n  \\\"MONEY\\\": [\\\"$ 60 billion\\\"],\\n  \\\"PRODUCT\\\": [\\\"stock\\\", \\\"futures\\\"],\\n  \\\"EVENT\\\": [\\\"crash\\\"]\\n}\"\n",
      "      }\n",
      "    }\n",
      "  ],\n",
      "  \"usage\": {\n",
      "    \"prompt_tokens\": 898,\n",
      "    \"completion_tokens\": 59,\n",
      "    \"total_tokens\": 957\n",
      "  }\n",
      "})\n"
     ]
    },
    {
     "name": "stderr",
     "output_type": "stream",
     "text": [
      " 82%|████████▏ | 41/50 [01:13<00:16,  1.86s/it]"
     ]
    },
    {
     "name": "stdout",
     "output_type": "stream",
     "text": [
      "('{\\n  \"CARDINAL\": [],\\n  \"DATE\": [],\\n  \"EVENT\": [],\\n  \"FAC\": [],\\n  \"GPE\": [],\\n  \"LANGUAGE\": [],\\n  \"LAW\": [],\\n  \"LOC\": [],\\n  \"MONEY\": [],\\n  \"NORP\": [],\\n  \"ORDINAL\": [],\\n  \"ORG\": [],\\n  \"PERCENT\": [],\\n  \"PERSON\": [],\\n  \"PRODUCT\": [],\\n  \"QUANTITY\": [],\\n  \"TIME\": [],\\n  \"WORK_OF_ART\": []\\n}', <OpenAIObject chat.completion id=chatcmpl-8i00ky2gFHKRnajnFiI9VNqM9RlVt at 0x7f3a792c2430> JSON: {\n",
      "  \"id\": \"chatcmpl-8i00ky2gFHKRnajnFiI9VNqM9RlVt\",\n",
      "  \"object\": \"chat.completion\",\n",
      "  \"created\": 1705497166,\n",
      "  \"model\": \"gpt-35-turbo\",\n",
      "  \"choices\": [\n",
      "    {\n",
      "      \"finish_reason\": \"stop\",\n",
      "      \"index\": 0,\n",
      "      \"message\": {\n",
      "        \"role\": \"assistant\",\n",
      "        \"content\": \"{\\n  \\\"CARDINAL\\\": [],\\n  \\\"DATE\\\": [],\\n  \\\"EVENT\\\": [],\\n  \\\"FAC\\\": [],\\n  \\\"GPE\\\": [],\\n  \\\"LANGUAGE\\\": [],\\n  \\\"LAW\\\": [],\\n  \\\"LOC\\\": [],\\n  \\\"MONEY\\\": [],\\n  \\\"NORP\\\": [],\\n  \\\"ORDINAL\\\": [],\\n  \\\"ORG\\\": [],\\n  \\\"PERCENT\\\": [],\\n  \\\"PERSON\\\": [],\\n  \\\"PRODUCT\\\": [],\\n  \\\"QUANTITY\\\": [],\\n  \\\"TIME\\\": [],\\n  \\\"WORK_OF_ART\\\": []\\n}\"\n",
      "      }\n",
      "    }\n",
      "  ],\n",
      "  \"usage\": {\n",
      "    \"prompt_tokens\": 845,\n",
      "    \"completion_tokens\": 104,\n",
      "    \"total_tokens\": 949\n",
      "  }\n",
      "})\n"
     ]
    },
    {
     "name": "stderr",
     "output_type": "stream",
     "text": [
      " 84%|████████▍ | 42/50 [01:16<00:16,  2.05s/it]"
     ]
    },
    {
     "name": "stdout",
     "output_type": "stream",
     "text": [
      "('{\\n  \"CARDINAL\": [],\\n  \"DATE\": [],\\n  \"EVENT\": [],\\n  \"FAC\": [],\\n  \"GPE\": [\"Beijing\"],\\n  \"LANGUAGE\": [],\\n  \"LAW\": [],\\n  \"LOC\": [],\\n  \"MONEY\": [],\\n  \"NORP\": [],\\n  \"ORDINAL\": [],\\n  \"ORG\": [\"traffic police\"],\\n  \"PERCENT\": [],\\n  \"PERSON\": [],\\n  \"PRODUCT\": [],\\n  \"QUANTITY\": [],\\n  \"TIME\": []\\n}', <OpenAIObject chat.completion id=chatcmpl-8i00mN7BcVDyX3Sc6LSM9PBg8kKT2 at 0x7f3a8431ee30> JSON: {\n",
      "  \"id\": \"chatcmpl-8i00mN7BcVDyX3Sc6LSM9PBg8kKT2\",\n",
      "  \"object\": \"chat.completion\",\n",
      "  \"created\": 1705497168,\n",
      "  \"model\": \"gpt-35-turbo\",\n",
      "  \"choices\": [\n",
      "    {\n",
      "      \"finish_reason\": \"stop\",\n",
      "      \"index\": 0,\n",
      "      \"message\": {\n",
      "        \"role\": \"assistant\",\n",
      "        \"content\": \"{\\n  \\\"CARDINAL\\\": [],\\n  \\\"DATE\\\": [],\\n  \\\"EVENT\\\": [],\\n  \\\"FAC\\\": [],\\n  \\\"GPE\\\": [\\\"Beijing\\\"],\\n  \\\"LANGUAGE\\\": [],\\n  \\\"LAW\\\": [],\\n  \\\"LOC\\\": [],\\n  \\\"MONEY\\\": [],\\n  \\\"NORP\\\": [],\\n  \\\"ORDINAL\\\": [],\\n  \\\"ORG\\\": [\\\"traffic police\\\"],\\n  \\\"PERCENT\\\": [],\\n  \\\"PERSON\\\": [],\\n  \\\"PRODUCT\\\": [],\\n  \\\"QUANTITY\\\": [],\\n  \\\"TIME\\\": []\\n}\"\n",
      "      }\n",
      "    }\n",
      "  ],\n",
      "  \"usage\": {\n",
      "    \"prompt_tokens\": 971,\n",
      "    \"completion_tokens\": 103,\n",
      "    \"total_tokens\": 1074\n",
      "  }\n",
      "})\n"
     ]
    },
    {
     "name": "stderr",
     "output_type": "stream",
     "text": [
      " 86%|████████▌ | 43/50 [01:17<00:12,  1.83s/it]"
     ]
    },
    {
     "name": "stdout",
     "output_type": "stream",
     "text": [
      "('{\\n  \"CARDINAL\": [\"2,520\", \"5 million\", \"3,000\"]\\n}', <OpenAIObject chat.completion id=chatcmpl-8i00oXDHdgp08COkbrCGFsA8OeTxj at 0x7f3a8431f380> JSON: {\n",
      "  \"id\": \"chatcmpl-8i00oXDHdgp08COkbrCGFsA8OeTxj\",\n",
      "  \"object\": \"chat.completion\",\n",
      "  \"created\": 1705497170,\n",
      "  \"model\": \"gpt-35-turbo\",\n",
      "  \"choices\": [\n",
      "    {\n",
      "      \"finish_reason\": \"stop\",\n",
      "      \"index\": 0,\n",
      "      \"message\": {\n",
      "        \"role\": \"assistant\",\n",
      "        \"content\": \"{\\n  \\\"CARDINAL\\\": [\\\"2,520\\\", \\\"5 million\\\", \\\"3,000\\\"]\\n}\"\n",
      "      }\n",
      "    }\n",
      "  ],\n",
      "  \"usage\": {\n",
      "    \"prompt_tokens\": 960,\n",
      "    \"completion_tokens\": 21,\n",
      "    \"total_tokens\": 981\n",
      "  }\n",
      "})\n"
     ]
    },
    {
     "name": "stderr",
     "output_type": "stream",
     "text": [
      " 88%|████████▊ | 44/50 [01:19<00:11,  1.87s/it]"
     ]
    },
    {
     "name": "stdout",
     "output_type": "stream",
     "text": [
      "('{\\n  \"CARDINAL\": [],\\n  \"DATE\": [],\\n  \"EVENT\": [],\\n  \"FAC\": [],\\n  \"GPE\": [],\\n  \"LANGUAGE\": [],\\n  \"LAW\": [],\\n  \"LOC\": [],\\n  \"MONEY\": [],\\n  \"NORP\": [],\\n  \"ORDINAL\": [],\\n  \"ORG\": [],\\n  \"PERCENT\": [],\\n  \"PERSON\": [],\\n  \"PRODUCT\": [],\\n  \"QUANTITY\": [],\\n  \"TIME\": [],\\n  \"WORK_OF_ART\": []\\n}', <OpenAIObject chat.completion id=chatcmpl-8i00pVMUg5wbUNl2t1QmnAB1yQgYA at 0x7f3a8431eed0> JSON: {\n",
      "  \"id\": \"chatcmpl-8i00pVMUg5wbUNl2t1QmnAB1yQgYA\",\n",
      "  \"object\": \"chat.completion\",\n",
      "  \"created\": 1705497171,\n",
      "  \"model\": \"gpt-35-turbo\",\n",
      "  \"choices\": [\n",
      "    {\n",
      "      \"finish_reason\": \"stop\",\n",
      "      \"index\": 0,\n",
      "      \"message\": {\n",
      "        \"role\": \"assistant\",\n",
      "        \"content\": \"{\\n  \\\"CARDINAL\\\": [],\\n  \\\"DATE\\\": [],\\n  \\\"EVENT\\\": [],\\n  \\\"FAC\\\": [],\\n  \\\"GPE\\\": [],\\n  \\\"LANGUAGE\\\": [],\\n  \\\"LAW\\\": [],\\n  \\\"LOC\\\": [],\\n  \\\"MONEY\\\": [],\\n  \\\"NORP\\\": [],\\n  \\\"ORDINAL\\\": [],\\n  \\\"ORG\\\": [],\\n  \\\"PERCENT\\\": [],\\n  \\\"PERSON\\\": [],\\n  \\\"PRODUCT\\\": [],\\n  \\\"QUANTITY\\\": [],\\n  \\\"TIME\\\": [],\\n  \\\"WORK_OF_ART\\\": []\\n}\"\n",
      "      }\n",
      "    }\n",
      "  ],\n",
      "  \"usage\": {\n",
      "    \"prompt_tokens\": 896,\n",
      "    \"completion_tokens\": 104,\n",
      "    \"total_tokens\": 1000\n",
      "  }\n",
      "})\n"
     ]
    },
    {
     "name": "stderr",
     "output_type": "stream",
     "text": [
      " 90%|█████████ | 45/50 [01:21<00:09,  1.91s/it]"
     ]
    },
    {
     "name": "stdout",
     "output_type": "stream",
     "text": [
      "('{\\n  \"PERSON\": [\"David Williams\"],\\n  \"ORG\": [],\\n  \"GPE\": [],\\n  \"DATE\": [],\\n  \"CARDINAL\": [],\\n  \"MONEY\": [],\\n  \"PERCENT\": [],\\n  \"FAC\": [],\\n  \"LOC\": [],\\n  \"PRODUCT\": [],\\n  \"EVENT\": [],\\n  \"WORK_OF_ART\": [],\\n  \"LAW\": [],\\n  \"LANGUAGE\": [],\\n  \"NORP\": []\\n}', <OpenAIObject chat.completion id=chatcmpl-8i00r5HfYnLhHLUdJWXrKjvXXj6xb at 0x7f3a8431f1a0> JSON: {\n",
      "  \"id\": \"chatcmpl-8i00r5HfYnLhHLUdJWXrKjvXXj6xb\",\n",
      "  \"object\": \"chat.completion\",\n",
      "  \"created\": 1705497173,\n",
      "  \"model\": \"gpt-35-turbo\",\n",
      "  \"choices\": [\n",
      "    {\n",
      "      \"finish_reason\": \"stop\",\n",
      "      \"index\": 0,\n",
      "      \"message\": {\n",
      "        \"role\": \"assistant\",\n",
      "        \"content\": \"{\\n  \\\"PERSON\\\": [\\\"David Williams\\\"],\\n  \\\"ORG\\\": [],\\n  \\\"GPE\\\": [],\\n  \\\"DATE\\\": [],\\n  \\\"CARDINAL\\\": [],\\n  \\\"MONEY\\\": [],\\n  \\\"PERCENT\\\": [],\\n  \\\"FAC\\\": [],\\n  \\\"LOC\\\": [],\\n  \\\"PRODUCT\\\": [],\\n  \\\"EVENT\\\": [],\\n  \\\"WORK_OF_ART\\\": [],\\n  \\\"LAW\\\": [],\\n  \\\"LANGUAGE\\\": [],\\n  \\\"NORP\\\": []\\n}\"\n",
      "      }\n",
      "    }\n",
      "  ],\n",
      "  \"usage\": {\n",
      "    \"prompt_tokens\": 804,\n",
      "    \"completion_tokens\": 90,\n",
      "    \"total_tokens\": 894\n",
      "  }\n",
      "})\n"
     ]
    },
    {
     "name": "stderr",
     "output_type": "stream",
     "text": [
      " 92%|█████████▏| 46/50 [01:22<00:07,  1.76s/it]"
     ]
    },
    {
     "name": "stdout",
     "output_type": "stream",
     "text": [
      "('{\\n  \"PERSON\": [\"Arianna Huffington\", \"Judy Miller\", \"Jill Abrahamson\"],\\n  \"ORG\": [\"New York Times\"],\\n  \"DATE\": [\"two years ago\"]\\n}', <OpenAIObject chat.completion id=chatcmpl-8i00tMNwFMweSbZeHS8xwIoKi5Uxs at 0x7f3a792c2070> JSON: {\n",
      "  \"id\": \"chatcmpl-8i00tMNwFMweSbZeHS8xwIoKi5Uxs\",\n",
      "  \"object\": \"chat.completion\",\n",
      "  \"created\": 1705497175,\n",
      "  \"model\": \"gpt-35-turbo\",\n",
      "  \"choices\": [\n",
      "    {\n",
      "      \"finish_reason\": \"stop\",\n",
      "      \"index\": 0,\n",
      "      \"message\": {\n",
      "        \"role\": \"assistant\",\n",
      "        \"content\": \"{\\n  \\\"PERSON\\\": [\\\"Arianna Huffington\\\", \\\"Judy Miller\\\", \\\"Jill Abrahamson\\\"],\\n  \\\"ORG\\\": [\\\"New York Times\\\"],\\n  \\\"DATE\\\": [\\\"two years ago\\\"]\\n}\"\n",
      "      }\n",
      "    }\n",
      "  ],\n",
      "  \"usage\": {\n",
      "    \"prompt_tokens\": 908,\n",
      "    \"completion_tokens\": 41,\n",
      "    \"total_tokens\": 949\n",
      "  }\n",
      "})\n"
     ]
    },
    {
     "name": "stderr",
     "output_type": "stream",
     "text": [
      " 94%|█████████▍| 47/50 [01:24<00:05,  1.69s/it]"
     ]
    },
    {
     "name": "stdout",
     "output_type": "stream",
     "text": [
      "('{\\n  \"CARDINAL\": [\"1\", \"24\"],\\n  \"DATE\": [\"1960s\"],\\n  \"GPE\": [\"Chicago\"],\\n  \"ORDINAL\": [\"1st\"],\\n  \"ORG\": [\"U.S Senate\"]\\n}', <OpenAIObject chat.completion id=chatcmpl-8i00vBr0OavAuKkfdC5VAK34dArcz at 0x7f3a8431ff10> JSON: {\n",
      "  \"id\": \"chatcmpl-8i00vBr0OavAuKkfdC5VAK34dArcz\",\n",
      "  \"object\": \"chat.completion\",\n",
      "  \"created\": 1705497177,\n",
      "  \"model\": \"gpt-35-turbo\",\n",
      "  \"choices\": [\n",
      "    {\n",
      "      \"finish_reason\": \"stop\",\n",
      "      \"index\": 0,\n",
      "      \"message\": {\n",
      "        \"role\": \"assistant\",\n",
      "        \"content\": \"{\\n  \\\"CARDINAL\\\": [\\\"1\\\", \\\"24\\\"],\\n  \\\"DATE\\\": [\\\"1960s\\\"],\\n  \\\"GPE\\\": [\\\"Chicago\\\"],\\n  \\\"ORDINAL\\\": [\\\"1st\\\"],\\n  \\\"ORG\\\": [\\\"U.S Senate\\\"]\\n}\"\n",
      "      }\n",
      "    }\n",
      "  ],\n",
      "  \"usage\": {\n",
      "    \"prompt_tokens\": 942,\n",
      "    \"completion_tokens\": 48,\n",
      "    \"total_tokens\": 990\n",
      "  }\n",
      "})\n"
     ]
    },
    {
     "name": "stderr",
     "output_type": "stream",
     "text": [
      " 96%|█████████▌| 48/50 [01:25<00:03,  1.64s/it]"
     ]
    },
    {
     "name": "stdout",
     "output_type": "stream",
     "text": [
      "('{\\n  \"ORG\": [\"Time Warner Inc.\", \"Time\"],\\n  \"DATE\": [\"last week\"],\\n  \"CARDINAL\": [\"300,000\", \"four million\", \"$ 4\", \"$ 55\"]\\n}', <OpenAIObject chat.completion id=chatcmpl-8i00wHnxvx8DLHqGkQkkSiHxfVZAK at 0x7f3a8431f290> JSON: {\n",
      "  \"id\": \"chatcmpl-8i00wHnxvx8DLHqGkQkkSiHxfVZAK\",\n",
      "  \"object\": \"chat.completion\",\n",
      "  \"created\": 1705497178,\n",
      "  \"model\": \"gpt-35-turbo\",\n",
      "  \"choices\": [\n",
      "    {\n",
      "      \"finish_reason\": \"stop\",\n",
      "      \"index\": 0,\n",
      "      \"message\": {\n",
      "        \"role\": \"assistant\",\n",
      "        \"content\": \"{\\n  \\\"ORG\\\": [\\\"Time Warner Inc.\\\", \\\"Time\\\"],\\n  \\\"DATE\\\": [\\\"last week\\\"],\\n  \\\"CARDINAL\\\": [\\\"300,000\\\", \\\"four million\\\", \\\"$ 4\\\", \\\"$ 55\\\"]\\n}\"\n",
      "      }\n",
      "    }\n",
      "  ],\n",
      "  \"usage\": {\n",
      "    \"prompt_tokens\": 914,\n",
      "    \"completion_tokens\": 44,\n",
      "    \"total_tokens\": 958\n",
      "  }\n",
      "})\n"
     ]
    },
    {
     "name": "stderr",
     "output_type": "stream",
     "text": [
      " 98%|█████████▊| 49/50 [01:27<00:01,  1.58s/it]"
     ]
    },
    {
     "name": "stdout",
     "output_type": "stream",
     "text": [
      "('{\\n  \"ORG\": [\"Westinghouse Company\", \"Shanghai Electric Group\", \"General Electric Capital Company\", \"Shanghai Electricity Company\"],\\n  \"DATE\": [\"20-year\"],\\n  \"CARDINAL\": [\"a world famous power plant equipment manufacturer\"]\\n}', <OpenAIObject chat.completion id=chatcmpl-8i00yeGetQzUxv21pnaxW41TWzciB at 0x7f3a70d78180> JSON: {\n",
      "  \"id\": \"chatcmpl-8i00yeGetQzUxv21pnaxW41TWzciB\",\n",
      "  \"object\": \"chat.completion\",\n",
      "  \"created\": 1705497180,\n",
      "  \"model\": \"gpt-35-turbo\",\n",
      "  \"choices\": [\n",
      "    {\n",
      "      \"finish_reason\": \"stop\",\n",
      "      \"index\": 0,\n",
      "      \"message\": {\n",
      "        \"role\": \"assistant\",\n",
      "        \"content\": \"{\\n  \\\"ORG\\\": [\\\"Westinghouse Company\\\", \\\"Shanghai Electric Group\\\", \\\"General Electric Capital Company\\\", \\\"Shanghai Electricity Company\\\"],\\n  \\\"DATE\\\": [\\\"20-year\\\"],\\n  \\\"CARDINAL\\\": [\\\"a world famous power plant equipment manufacturer\\\"]\\n}\"\n",
      "      }\n",
      "    }\n",
      "  ],\n",
      "  \"usage\": {\n",
      "    \"prompt_tokens\": 978,\n",
      "    \"completion_tokens\": 52,\n",
      "    \"total_tokens\": 1030\n",
      "  }\n",
      "})\n"
     ]
    },
    {
     "name": "stderr",
     "output_type": "stream",
     "text": [
      "100%|██████████| 50/50 [01:29<00:00,  1.78s/it]\n",
      "/myhome/miniconda3/lib/python3.10/site-packages/numpy/core/_methods.py:206: RuntimeWarning: Degrees of freedom <= 0 for slice\n",
      "  ret = _var(a, axis=axis, dtype=dtype, out=out, ddof=ddof,\n",
      "/myhome/miniconda3/lib/python3.10/site-packages/numpy/core/_methods.py:198: RuntimeWarning: invalid value encountered in scalar divide\n",
      "  ret = ret.dtype.type(ret / rcount)\n",
      "/myhome/miniconda3/lib/python3.10/site-packages/numpy/core/_methods.py:206: RuntimeWarning: Degrees of freedom <= 0 for slice\n",
      "  ret = _var(a, axis=axis, dtype=dtype, out=out, ddof=ddof,\n",
      "/myhome/miniconda3/lib/python3.10/site-packages/numpy/core/_methods.py:198: RuntimeWarning: invalid value encountered in scalar divide\n",
      "  ret = ret.dtype.type(ret / rcount)\n"
     ]
    },
    {
     "name": "stdout",
     "output_type": "stream",
     "text": [
      "('{\\n  \"ORG\": [\"FBI\", \"USS Cole\"],\\n  \"GPE\": [\"Yemen\"]\\n}', <OpenAIObject chat.completion id=chatcmpl-8i0106k6HmahOyJpeqx2AqgOaqd0o at 0x7f3a8431fbf0> JSON: {\n",
      "  \"id\": \"chatcmpl-8i0106k6HmahOyJpeqx2AqgOaqd0o\",\n",
      "  \"object\": \"chat.completion\",\n",
      "  \"created\": 1705497182,\n",
      "  \"model\": \"gpt-35-turbo\",\n",
      "  \"choices\": [\n",
      "    {\n",
      "      \"finish_reason\": \"stop\",\n",
      "      \"index\": 0,\n",
      "      \"message\": {\n",
      "        \"role\": \"assistant\",\n",
      "        \"content\": \"{\\n  \\\"ORG\\\": [\\\"FBI\\\", \\\"USS Cole\\\"],\\n  \\\"GPE\\\": [\\\"Yemen\\\"]\\n}\"\n",
      "      }\n",
      "    }\n",
      "  ],\n",
      "  \"usage\": {\n",
      "    \"prompt_tokens\": 940,\n",
      "    \"completion_tokens\": 24,\n",
      "    \"total_tokens\": 964\n",
      "  }\n",
      "})\n",
      "   f1_mean f1_conf_inter         model  noshots prompt_technique  \\\n",
      "0      0.0    (nan, nan)  chat-gpt-3.5    False           filing   \n",
      "1      0.0    (nan, nan)  chat-gpt-3.5    False           filing   \n",
      "\n",
      "  few_shot_tecnique  nb_few_shots  precision  plus_plus verifier  \\\n",
      "0          sentence             3      False       True     None   \n",
      "1          sentence            10      False       True     None   \n",
      "\n",
      "   len_data_train  len_data_test  nb_test_run  confidence_interval  \\\n",
      "0            1353             50            1                 0.95   \n",
      "1            1353             50            1                 0.95   \n",
      "\n",
      "  distribution_used  precision_mean precision_conf_inter  recall_mean  \\\n",
      "0           Student             0.0           (nan, nan)          0.0   \n",
      "1           Student             0.0           (nan, nan)          0.0   \n",
      "\n",
      "  recall_conf_inter  \n",
      "0        (nan, nan)  \n",
      "1        (nan, nan)  \n",
      "Testing with no-shots\n",
      "      and filing\n"
     ]
    },
    {
     "name": "stderr",
     "output_type": "stream",
     "text": [
      "  2%|▏         | 1/50 [00:01<01:05,  1.34s/it]"
     ]
    },
    {
     "name": "stdout",
     "output_type": "stream",
     "text": [
      "('{\\n  \"PERSON\": [],\\n  \"NORP\": [],\\n  \"FAC\": [],\\n  \"ORG\": [],\\n  \"GPE\": [],\\n  \"LOC\": [],\\n  \"PRODUCT\": [],\\n  \"EVENT\": [],\\n  \"WORK_OF_ART\": [],\\n  \"LAW\": [],\\n  \"LANGUAGE\": [],\\n  \"DATE\": [],\\n  \"TIME\": [],\\n  \"PERCENT\": [],\\n  \"MONEY\": [],\\n  \"QUANTITY\": [],\\n  \"ORDINAL\": [],\\n  \"CARDINAL\": []\\n}\\n<end_output>', <OpenAIObject chat.completion id=chatcmpl-8i010kVEBWF3QvgDzONE5jqFOLjTz at 0x7f3a851da570> JSON: {\n",
      "  \"id\": \"chatcmpl-8i010kVEBWF3QvgDzONE5jqFOLjTz\",\n",
      "  \"object\": \"chat.completion\",\n",
      "  \"created\": 1705497182,\n",
      "  \"model\": \"gpt-35-turbo\",\n",
      "  \"choices\": [\n",
      "    {\n",
      "      \"finish_reason\": \"stop\",\n",
      "      \"index\": 0,\n",
      "      \"message\": {\n",
      "        \"role\": \"assistant\",\n",
      "        \"content\": \"{\\n  \\\"PERSON\\\": [],\\n  \\\"NORP\\\": [],\\n  \\\"FAC\\\": [],\\n  \\\"ORG\\\": [],\\n  \\\"GPE\\\": [],\\n  \\\"LOC\\\": [],\\n  \\\"PRODUCT\\\": [],\\n  \\\"EVENT\\\": [],\\n  \\\"WORK_OF_ART\\\": [],\\n  \\\"LAW\\\": [],\\n  \\\"LANGUAGE\\\": [],\\n  \\\"DATE\\\": [],\\n  \\\"TIME\\\": [],\\n  \\\"PERCENT\\\": [],\\n  \\\"MONEY\\\": [],\\n  \\\"QUANTITY\\\": [],\\n  \\\"ORDINAL\\\": [],\\n  \\\"CARDINAL\\\": []\\n}\\n<end_output>\"\n",
      "      }\n",
      "    }\n",
      "  ],\n",
      "  \"usage\": {\n",
      "    \"prompt_tokens\": 206,\n",
      "    \"completion_tokens\": 108,\n",
      "    \"total_tokens\": 314\n",
      "  }\n",
      "})\n"
     ]
    },
    {
     "name": "stderr",
     "output_type": "stream",
     "text": [
      "  4%|▍         | 2/50 [00:02<00:49,  1.04s/it]"
     ]
    },
    {
     "name": "stdout",
     "output_type": "stream",
     "text": [
      "('{\\n  \"PERSON\": [\"United States\"],\\n  \"ORG\": [],\\n  \"GPE\": [],\\n  \"DATE\": [],\\n  \"CARDINAL\": [],\\n  \"MONEY\": [],\\n  \"PERCENT\": [],\\n  \"FAC\": [],\\n  \"NORP\": [],\\n  \"LOC\": [],\\n  \"PRODUCT\": [],\\n  \"EVENT\": [],\\n  \"WORK_OF_ART\": [],\\n  \"LAW\": [],\\n  \"LANGUAGE\": [],\\n  \"TIME\": []\\n}\\n<end_output>', <OpenAIObject chat.completion id=chatcmpl-8i012yxZ7weX59853czNL6ngduR4G at 0x7f3a79062ac0> JSON: {\n",
      "  \"id\": \"chatcmpl-8i012yxZ7weX59853czNL6ngduR4G\",\n",
      "  \"object\": \"chat.completion\",\n",
      "  \"created\": 1705497184,\n",
      "  \"model\": \"gpt-35-turbo\",\n",
      "  \"choices\": [\n",
      "    {\n",
      "      \"finish_reason\": \"stop\",\n",
      "      \"index\": 0,\n",
      "      \"message\": {\n",
      "        \"role\": \"assistant\",\n",
      "        \"content\": \"{\\n  \\\"PERSON\\\": [\\\"United States\\\"],\\n  \\\"ORG\\\": [],\\n  \\\"GPE\\\": [],\\n  \\\"DATE\\\": [],\\n  \\\"CARDINAL\\\": [],\\n  \\\"MONEY\\\": [],\\n  \\\"PERCENT\\\": [],\\n  \\\"FAC\\\": [],\\n  \\\"NORP\\\": [],\\n  \\\"LOC\\\": [],\\n  \\\"PRODUCT\\\": [],\\n  \\\"EVENT\\\": [],\\n  \\\"WORK_OF_ART\\\": [],\\n  \\\"LAW\\\": [],\\n  \\\"LANGUAGE\\\": [],\\n  \\\"TIME\\\": []\\n}\\n<end_output>\"\n",
      "      }\n",
      "    }\n",
      "  ],\n",
      "  \"usage\": {\n",
      "    \"prompt_tokens\": 201,\n",
      "    \"completion_tokens\": 99,\n",
      "    \"total_tokens\": 300\n",
      "  }\n",
      "})\n"
     ]
    },
    {
     "name": "stderr",
     "output_type": "stream",
     "text": [
      "  6%|▌         | 3/50 [00:03<00:52,  1.11s/it]"
     ]
    },
    {
     "name": "stdout",
     "output_type": "stream",
     "text": [
      "('{\\n  \"PERSON\": [\"Iraq\"],\\n  \"ORG\": [],\\n  \"GPE\": [],\\n  \"NORP\": [],\\n  \"FAC\": [],\\n  \"LOC\": [],\\n  \"PRODUCT\": [],\\n  \"EVENT\": [],\\n  \"WORK_OF_ART\": [],\\n  \"LAW\": [],\\n  \"LANGUAGE\": [],\\n  \"DATE\": [],\\n  \"TIME\": [],\\n  \"PERCENT\": [],\\n  \"MONEY\": [],\\n  \"QUANTITY\": [],\\n  \"ORDINAL\": [],\\n  \"CARDINAL\": []\\n}\\n<end_output>', <OpenAIObject chat.completion id=chatcmpl-8i013dBjljVdQxudo7G9sJuEjzy1a at 0x7f3a71d48b30> JSON: {\n",
      "  \"id\": \"chatcmpl-8i013dBjljVdQxudo7G9sJuEjzy1a\",\n",
      "  \"object\": \"chat.completion\",\n",
      "  \"created\": 1705497185,\n",
      "  \"model\": \"gpt-35-turbo\",\n",
      "  \"choices\": [\n",
      "    {\n",
      "      \"finish_reason\": \"stop\",\n",
      "      \"index\": 0,\n",
      "      \"message\": {\n",
      "        \"role\": \"assistant\",\n",
      "        \"content\": \"{\\n  \\\"PERSON\\\": [\\\"Iraq\\\"],\\n  \\\"ORG\\\": [],\\n  \\\"GPE\\\": [],\\n  \\\"NORP\\\": [],\\n  \\\"FAC\\\": [],\\n  \\\"LOC\\\": [],\\n  \\\"PRODUCT\\\": [],\\n  \\\"EVENT\\\": [],\\n  \\\"WORK_OF_ART\\\": [],\\n  \\\"LAW\\\": [],\\n  \\\"LANGUAGE\\\": [],\\n  \\\"DATE\\\": [],\\n  \\\"TIME\\\": [],\\n  \\\"PERCENT\\\": [],\\n  \\\"MONEY\\\": [],\\n  \\\"QUANTITY\\\": [],\\n  \\\"ORDINAL\\\": [],\\n  \\\"CARDINAL\\\": []\\n}\\n<end_output>\"\n",
      "      }\n",
      "    }\n",
      "  ],\n",
      "  \"usage\": {\n",
      "    \"prompt_tokens\": 195,\n",
      "    \"completion_tokens\": 110,\n",
      "    \"total_tokens\": 305\n",
      "  }\n",
      "})\n"
     ]
    },
    {
     "name": "stderr",
     "output_type": "stream",
     "text": [
      "  8%|▊         | 4/50 [00:04<00:43,  1.07it/s]"
     ]
    },
    {
     "name": "stdout",
     "output_type": "stream",
     "text": [
      "('{\\n  \"ORG\": [\"government\", \"savings-and-loan institutions\", \"thrifts\"],\\n  \"MONEY\": [\"deposits\"],\\n  \"DATE\": [\"first wave\"],\\n  \"CARDINAL\": [\"four\", \"fifth\"]\\n}\\n<end_output>', <OpenAIObject chat.completion id=chatcmpl-8i0140QJm9NdPzgxEFSTq9GsNS2VY at 0x7f3a79062ac0> JSON: {\n",
      "  \"id\": \"chatcmpl-8i0140QJm9NdPzgxEFSTq9GsNS2VY\",\n",
      "  \"object\": \"chat.completion\",\n",
      "  \"created\": 1705497186,\n",
      "  \"model\": \"gpt-35-turbo\",\n",
      "  \"choices\": [\n",
      "    {\n",
      "      \"finish_reason\": \"stop\",\n",
      "      \"index\": 0,\n",
      "      \"message\": {\n",
      "        \"role\": \"assistant\",\n",
      "        \"content\": \"{\\n  \\\"ORG\\\": [\\\"government\\\", \\\"savings-and-loan institutions\\\", \\\"thrifts\\\"],\\n  \\\"MONEY\\\": [\\\"deposits\\\"],\\n  \\\"DATE\\\": [\\\"first wave\\\"],\\n  \\\"CARDINAL\\\": [\\\"four\\\", \\\"fifth\\\"]\\n}\\n<end_output>\"\n",
      "      }\n",
      "    }\n",
      "  ],\n",
      "  \"usage\": {\n",
      "    \"prompt_tokens\": 197,\n",
      "    \"completion_tokens\": 56,\n",
      "    \"total_tokens\": 253\n",
      "  }\n",
      "})\n"
     ]
    },
    {
     "name": "stderr",
     "output_type": "stream",
     "text": [
      " 10%|█         | 5/50 [00:04<00:40,  1.11it/s]"
     ]
    },
    {
     "name": "stdout",
     "output_type": "stream",
     "text": [
      "('{\\n  \"DATE\": [\"last week\"],\\n  \"ORG\": [\"Senate Republicans\", \"the administration\"],\\n  \"MONEY\": [\"deficit-cutting bill\"],\\n  \"MISC\": [\"capital-gains issue\"]\\n}\\n<end_output>', <OpenAIObject chat.completion id=chatcmpl-8i015lEKH3rir0a2oI2YPzNdCeEzp at 0x7f3a745302c0> JSON: {\n",
      "  \"id\": \"chatcmpl-8i015lEKH3rir0a2oI2YPzNdCeEzp\",\n",
      "  \"object\": \"chat.completion\",\n",
      "  \"created\": 1705497187,\n",
      "  \"model\": \"gpt-35-turbo\",\n",
      "  \"choices\": [\n",
      "    {\n",
      "      \"finish_reason\": \"stop\",\n",
      "      \"index\": 0,\n",
      "      \"message\": {\n",
      "        \"role\": \"assistant\",\n",
      "        \"content\": \"{\\n  \\\"DATE\\\": [\\\"last week\\\"],\\n  \\\"ORG\\\": [\\\"Senate Republicans\\\", \\\"the administration\\\"],\\n  \\\"MONEY\\\": [\\\"deficit-cutting bill\\\"],\\n  \\\"MISC\\\": [\\\"capital-gains issue\\\"]\\n}\\n<end_output>\"\n",
      "      }\n",
      "    }\n",
      "  ],\n",
      "  \"usage\": {\n",
      "    \"prompt_tokens\": 193,\n",
      "    \"completion_tokens\": 49,\n",
      "    \"total_tokens\": 242\n",
      "  }\n",
      "})\n"
     ]
    },
    {
     "name": "stderr",
     "output_type": "stream",
     "text": [
      " 12%|█▏        | 6/50 [00:06<00:47,  1.09s/it]"
     ]
    },
    {
     "name": "stdout",
     "output_type": "stream",
     "text": [
      "('{\\n  \"PERSON\": [],\\n  \"NORP\": [],\\n  \"FAC\": [],\\n  \"ORG\": [\"industry executives\", \"analysts\"],\\n  \"GPE\": [],\\n  \"LOC\": [],\\n  \"PRODUCT\": [],\\n  \"EVENT\": [],\\n  \"WORK_OF_ART\": [],\\n  \"LAW\": [],\\n  \"LANGUAGE\": [],\\n  \"DATE\": [],\\n  \"TIME\": [],\\n  \"PERCENT\": [],\\n  \"MONEY\": [],\\n  \"QUANTITY\": [],\\n  \"ORDINAL\": [],\\n  \"CARDINAL\": []\\n}\\n<end_output>', <OpenAIObject chat.completion id=chatcmpl-8i015Sw35pSPzNA3z9F5i3jbyM3g1 at 0x7f3a7b53c630> JSON: {\n",
      "  \"id\": \"chatcmpl-8i015Sw35pSPzNA3z9F5i3jbyM3g1\",\n",
      "  \"object\": \"chat.completion\",\n",
      "  \"created\": 1705497187,\n",
      "  \"model\": \"gpt-35-turbo\",\n",
      "  \"choices\": [\n",
      "    {\n",
      "      \"finish_reason\": \"stop\",\n",
      "      \"index\": 0,\n",
      "      \"message\": {\n",
      "        \"role\": \"assistant\",\n",
      "        \"content\": \"{\\n  \\\"PERSON\\\": [],\\n  \\\"NORP\\\": [],\\n  \\\"FAC\\\": [],\\n  \\\"ORG\\\": [\\\"industry executives\\\", \\\"analysts\\\"],\\n  \\\"GPE\\\": [],\\n  \\\"LOC\\\": [],\\n  \\\"PRODUCT\\\": [],\\n  \\\"EVENT\\\": [],\\n  \\\"WORK_OF_ART\\\": [],\\n  \\\"LAW\\\": [],\\n  \\\"LANGUAGE\\\": [],\\n  \\\"DATE\\\": [],\\n  \\\"TIME\\\": [],\\n  \\\"PERCENT\\\": [],\\n  \\\"MONEY\\\": [],\\n  \\\"QUANTITY\\\": [],\\n  \\\"ORDINAL\\\": [],\\n  \\\"CARDINAL\\\": []\\n}\\n<end_output>\"\n",
      "      }\n",
      "    }\n",
      "  ],\n",
      "  \"usage\": {\n",
      "    \"prompt_tokens\": 194,\n",
      "    \"completion_tokens\": 115,\n",
      "    \"total_tokens\": 309\n",
      "  }\n",
      "})\n"
     ]
    },
    {
     "name": "stderr",
     "output_type": "stream",
     "text": [
      " 14%|█▍        | 7/50 [00:06<00:36,  1.18it/s]"
     ]
    },
    {
     "name": "stdout",
     "output_type": "stream",
     "text": [
      "('{\\n  \"PERSON\": [\"Charles Colson\"],\\n  \"ORG\": [\"Watergate\", \"the Fellowship\"]\\n}', <OpenAIObject chat.completion id=chatcmpl-8i017Z87AcNT6xSfkBZBX7PoFLUEg at 0x7f3a792bb9c0> JSON: {\n",
      "  \"id\": \"chatcmpl-8i017Z87AcNT6xSfkBZBX7PoFLUEg\",\n",
      "  \"object\": \"chat.completion\",\n",
      "  \"created\": 1705497189,\n",
      "  \"model\": \"gpt-35-turbo\",\n",
      "  \"choices\": [\n",
      "    {\n",
      "      \"finish_reason\": \"stop\",\n",
      "      \"index\": 0,\n",
      "      \"message\": {\n",
      "        \"role\": \"assistant\",\n",
      "        \"content\": \"{\\n  \\\"PERSON\\\": [\\\"Charles Colson\\\"],\\n  \\\"ORG\\\": [\\\"Watergate\\\", \\\"the Fellowship\\\"]\\n}\"\n",
      "      }\n",
      "    }\n",
      "  ],\n",
      "  \"usage\": {\n",
      "    \"prompt_tokens\": 194,\n",
      "    \"completion_tokens\": 23,\n",
      "    \"total_tokens\": 217\n",
      "  }\n",
      "})\n"
     ]
    },
    {
     "name": "stderr",
     "output_type": "stream",
     "text": [
      " 16%|█▌        | 8/50 [00:07<00:29,  1.44it/s]"
     ]
    },
    {
     "name": "stdout",
     "output_type": "stream",
     "text": [
      "('{\\n  \"PERSON\": [\"Mr. Heinemann\"],\\n  \"ORG\": [\"magazine industry\"]\\n}', <OpenAIObject chat.completion id=chatcmpl-8i017YBRWOYkbR5WZBbbilJOmbNFx at 0x7f3a792bb9c0> JSON: {\n",
      "  \"id\": \"chatcmpl-8i017YBRWOYkbR5WZBbbilJOmbNFx\",\n",
      "  \"object\": \"chat.completion\",\n",
      "  \"created\": 1705497189,\n",
      "  \"model\": \"gpt-35-turbo\",\n",
      "  \"choices\": [\n",
      "    {\n",
      "      \"finish_reason\": \"stop\",\n",
      "      \"index\": 0,\n",
      "      \"message\": {\n",
      "        \"role\": \"assistant\",\n",
      "        \"content\": \"{\\n  \\\"PERSON\\\": [\\\"Mr. Heinemann\\\"],\\n  \\\"ORG\\\": [\\\"magazine industry\\\"]\\n}\"\n",
      "      }\n",
      "    }\n",
      "  ],\n",
      "  \"usage\": {\n",
      "    \"prompt_tokens\": 171,\n",
      "    \"completion_tokens\": 21,\n",
      "    \"total_tokens\": 192\n",
      "  }\n",
      "})\n"
     ]
    },
    {
     "name": "stderr",
     "output_type": "stream",
     "text": [
      " 18%|█▊        | 9/50 [00:07<00:29,  1.37it/s]"
     ]
    },
    {
     "name": "stdout",
     "output_type": "stream",
     "text": [
      "('{\\n  \"FAC\": [\"Dongguan\"],\\n  \"QUANTITY\": [\"120,000 square meters\", \"200 tons\", \"70 tons\", \"180 tons\"],\\n  \"PRODUCT\": [\"candy\", \"Chinese-style cakes\", \"gelatin and pudding\"]\\n}', <OpenAIObject chat.completion id=chatcmpl-8i01840CI5ebq681IsFUbJVmDQwjU at 0x7f3a745302c0> JSON: {\n",
      "  \"id\": \"chatcmpl-8i01840CI5ebq681IsFUbJVmDQwjU\",\n",
      "  \"object\": \"chat.completion\",\n",
      "  \"created\": 1705497190,\n",
      "  \"model\": \"gpt-35-turbo\",\n",
      "  \"choices\": [\n",
      "    {\n",
      "      \"finish_reason\": \"stop\",\n",
      "      \"index\": 0,\n",
      "      \"message\": {\n",
      "        \"role\": \"assistant\",\n",
      "        \"content\": \"{\\n  \\\"FAC\\\": [\\\"Dongguan\\\"],\\n  \\\"QUANTITY\\\": [\\\"120,000 square meters\\\", \\\"200 tons\\\", \\\"70 tons\\\", \\\"180 tons\\\"],\\n  \\\"PRODUCT\\\": [\\\"candy\\\", \\\"Chinese-style cakes\\\", \\\"gelatin and pudding\\\"]\\n}\"\n",
      "      }\n",
      "    }\n",
      "  ],\n",
      "  \"usage\": {\n",
      "    \"prompt_tokens\": 212,\n",
      "    \"completion_tokens\": 56,\n",
      "    \"total_tokens\": 268\n",
      "  }\n",
      "})\n"
     ]
    },
    {
     "name": "stderr",
     "output_type": "stream",
     "text": [
      " 20%|██        | 10/50 [00:08<00:24,  1.60it/s]"
     ]
    },
    {
     "name": "stdout",
     "output_type": "stream",
     "text": [
      "('{\\n  \"PERSON\": [\"narrator\", \"you\"],\\n  \"GPE\": [\"China\"]\\n}', <OpenAIObject chat.completion id=chatcmpl-8i018XWne5AFn39IVufyNZtbGYoUc at 0x7f3a8532ef20> JSON: {\n",
      "  \"id\": \"chatcmpl-8i018XWne5AFn39IVufyNZtbGYoUc\",\n",
      "  \"object\": \"chat.completion\",\n",
      "  \"created\": 1705497190,\n",
      "  \"model\": \"gpt-35-turbo\",\n",
      "  \"choices\": [\n",
      "    {\n",
      "      \"finish_reason\": \"stop\",\n",
      "      \"index\": 0,\n",
      "      \"message\": {\n",
      "        \"role\": \"assistant\",\n",
      "        \"content\": \"{\\n  \\\"PERSON\\\": [\\\"narrator\\\", \\\"you\\\"],\\n  \\\"GPE\\\": [\\\"China\\\"]\\n}\"\n",
      "      }\n",
      "    }\n",
      "  ],\n",
      "  \"usage\": {\n",
      "    \"prompt_tokens\": 226,\n",
      "    \"completion_tokens\": 22,\n",
      "    \"total_tokens\": 248\n",
      "  }\n",
      "})\n"
     ]
    },
    {
     "name": "stderr",
     "output_type": "stream",
     "text": [
      " 22%|██▏       | 11/50 [00:08<00:20,  1.94it/s]"
     ]
    },
    {
     "name": "stdout",
     "output_type": "stream",
     "text": [
      "('{\\n  \"PERSON\": [\"Christy Whitman\"],\\n  \"ORG\": [\"White House\"]\\n}', <OpenAIObject chat.completion id=chatcmpl-8i0196icdRz0IEIk6KpHfAVTVhOxZ at 0x7f3a70e32bb0> JSON: {\n",
      "  \"id\": \"chatcmpl-8i0196icdRz0IEIk6KpHfAVTVhOxZ\",\n",
      "  \"object\": \"chat.completion\",\n",
      "  \"created\": 1705497191,\n",
      "  \"model\": \"gpt-35-turbo\",\n",
      "  \"choices\": [\n",
      "    {\n",
      "      \"finish_reason\": \"stop\",\n",
      "      \"index\": 0,\n",
      "      \"message\": {\n",
      "        \"role\": \"assistant\",\n",
      "        \"content\": \"{\\n  \\\"PERSON\\\": [\\\"Christy Whitman\\\"],\\n  \\\"ORG\\\": [\\\"White House\\\"]\\n}\"\n",
      "      }\n",
      "    }\n",
      "  ],\n",
      "  \"usage\": {\n",
      "    \"prompt_tokens\": 197,\n",
      "    \"completion_tokens\": 20,\n",
      "    \"total_tokens\": 217\n",
      "  }\n",
      "})\n"
     ]
    },
    {
     "name": "stderr",
     "output_type": "stream",
     "text": [
      " 24%|██▍       | 12/50 [00:09<00:30,  1.26it/s]"
     ]
    },
    {
     "name": "stdout",
     "output_type": "stream",
     "text": [
      "('{\\n  \"FAC\": [\"plants\", \"Van Nuys\", \"Calif.\", \"Oklahoma City\", \"Pontiac\", \"Mich.\"],\\n  \"GPE\": [\"Van Nuys\", \"Calif.\", \"Oklahoma City\", \"Pontiac\", \"Mich.\"],\\n  \"ORG\": [\"Pontiac Firebird\", \"Chevrolet Camaro\"],\\n  \"PRODUCT\": [\"Pontiac Firebird\", \"Chevrolet Camaro\"]\\n}\\n<end_output>', <OpenAIObject chat.completion id=chatcmpl-8i0198zVbTH1cHu7Pb9h0SxtCc0O1 at 0x7f3a70e32bb0> JSON: {\n",
      "  \"id\": \"chatcmpl-8i0198zVbTH1cHu7Pb9h0SxtCc0O1\",\n",
      "  \"object\": \"chat.completion\",\n",
      "  \"created\": 1705497191,\n",
      "  \"model\": \"gpt-35-turbo\",\n",
      "  \"choices\": [\n",
      "    {\n",
      "      \"finish_reason\": \"stop\",\n",
      "      \"index\": 0,\n",
      "      \"message\": {\n",
      "        \"role\": \"assistant\",\n",
      "        \"content\": \"{\\n  \\\"FAC\\\": [\\\"plants\\\", \\\"Van Nuys\\\", \\\"Calif.\\\", \\\"Oklahoma City\\\", \\\"Pontiac\\\", \\\"Mich.\\\"],\\n  \\\"GPE\\\": [\\\"Van Nuys\\\", \\\"Calif.\\\", \\\"Oklahoma City\\\", \\\"Pontiac\\\", \\\"Mich.\\\"],\\n  \\\"ORG\\\": [\\\"Pontiac Firebird\\\", \\\"Chevrolet Camaro\\\"],\\n  \\\"PRODUCT\\\": [\\\"Pontiac Firebird\\\", \\\"Chevrolet Camaro\\\"]\\n}\\n<end_output>\"\n",
      "      }\n",
      "    }\n",
      "  ],\n",
      "  \"usage\": {\n",
      "    \"prompt_tokens\": 207,\n",
      "    \"completion_tokens\": 97,\n",
      "    \"total_tokens\": 304\n",
      "  }\n",
      "})\n"
     ]
    },
    {
     "name": "stderr",
     "output_type": "stream",
     "text": [
      " 26%|██▌       | 13/50 [00:10<00:26,  1.40it/s]"
     ]
    },
    {
     "name": "stdout",
     "output_type": "stream",
     "text": [
      "('{\\n  \"DATE\": [\"Last year\"],\\n  \"GPE\": [\"Shandong\"],\\n  \"ORG\": [\"economic development districts\"],\\n  \"CARDINAL\": [\"1480\", \"more than 24\", \"the total of the entire province\"]\\n}\\n<end_output>', <OpenAIObject chat.completion id=chatcmpl-8i01AYz43uoQj99F85H1hFiBahpjb at 0x7f3a70e32bb0> JSON: {\n",
      "  \"id\": \"chatcmpl-8i01AYz43uoQj99F85H1hFiBahpjb\",\n",
      "  \"object\": \"chat.completion\",\n",
      "  \"created\": 1705497192,\n",
      "  \"model\": \"gpt-35-turbo\",\n",
      "  \"choices\": [\n",
      "    {\n",
      "      \"finish_reason\": \"stop\",\n",
      "      \"index\": 0,\n",
      "      \"message\": {\n",
      "        \"role\": \"assistant\",\n",
      "        \"content\": \"{\\n  \\\"DATE\\\": [\\\"Last year\\\"],\\n  \\\"GPE\\\": [\\\"Shandong\\\"],\\n  \\\"ORG\\\": [\\\"economic development districts\\\"],\\n  \\\"CARDINAL\\\": [\\\"1480\\\", \\\"more than 24\\\", \\\"the total of the entire province\\\"]\\n}\\n<end_output>\"\n",
      "      }\n",
      "    }\n",
      "  ],\n",
      "  \"usage\": {\n",
      "    \"prompt_tokens\": 200,\n",
      "    \"completion_tokens\": 56,\n",
      "    \"total_tokens\": 256\n",
      "  }\n",
      "})\n"
     ]
    },
    {
     "name": "stderr",
     "output_type": "stream",
     "text": [
      " 28%|██▊       | 14/50 [00:10<00:21,  1.65it/s]"
     ]
    },
    {
     "name": "stdout",
     "output_type": "stream",
     "text": [
      "('{\\n  \"DATE\": [\"in 2003\"],\\n  \"EVENT\": [\"SARS\"],\\n  \"ORG\": [\"e-government\"],\\n  \"PERSON\": []\\n}', <OpenAIObject chat.completion id=chatcmpl-8i01Bht0VPp7IflNqIAqVA9kffqoq at 0x7f3a792bc4f0> JSON: {\n",
      "  \"id\": \"chatcmpl-8i01Bht0VPp7IflNqIAqVA9kffqoq\",\n",
      "  \"object\": \"chat.completion\",\n",
      "  \"created\": 1705497193,\n",
      "  \"model\": \"gpt-35-turbo\",\n",
      "  \"choices\": [\n",
      "    {\n",
      "      \"finish_reason\": \"stop\",\n",
      "      \"index\": 0,\n",
      "      \"message\": {\n",
      "        \"role\": \"assistant\",\n",
      "        \"content\": \"{\\n  \\\"DATE\\\": [\\\"in 2003\\\"],\\n  \\\"EVENT\\\": [\\\"SARS\\\"],\\n  \\\"ORG\\\": [\\\"e-government\\\"],\\n  \\\"PERSON\\\": []\\n}\"\n",
      "      }\n",
      "    }\n",
      "  ],\n",
      "  \"usage\": {\n",
      "    \"prompt_tokens\": 202,\n",
      "    \"completion_tokens\": 33,\n",
      "    \"total_tokens\": 235\n",
      "  }\n",
      "})\n"
     ]
    },
    {
     "name": "stderr",
     "output_type": "stream",
     "text": [
      " 30%|███       | 15/50 [00:12<00:30,  1.16it/s]"
     ]
    },
    {
     "name": "stdout",
     "output_type": "stream",
     "text": [
      "('{\\n  \"PERSON\": [\"Jonetic\"],\\n  \"ORG\": [],\\n  \"GPE\": [],\\n  \"DATE\": [],\\n  \"CARDINAL\": [],\\n  \"MONEY\": [],\\n  \"PERCENT\": [],\\n  \"TIME\": [],\\n  \"QUANTITY\": [],\\n  \"ORDINAL\": [],\\n  \"NORP\": [],\\n  \"FAC\": [],\\n  \"LOC\": [],\\n  \"PRODUCT\": [],\\n  \"EVENT\": [],\\n  \"WORK_OF_ART\": [],\\n  \"LAW\": [],\\n  \"LANGUAGE\": []\\n}\\n<end_output>', <OpenAIObject chat.completion id=chatcmpl-8i01BjNudH1dMBN40m6KqxrV6WKLv at 0x7f3a79294a90> JSON: {\n",
      "  \"id\": \"chatcmpl-8i01BjNudH1dMBN40m6KqxrV6WKLv\",\n",
      "  \"object\": \"chat.completion\",\n",
      "  \"created\": 1705497193,\n",
      "  \"model\": \"gpt-35-turbo\",\n",
      "  \"choices\": [\n",
      "    {\n",
      "      \"finish_reason\": \"stop\",\n",
      "      \"index\": 0,\n",
      "      \"message\": {\n",
      "        \"role\": \"assistant\",\n",
      "        \"content\": \"{\\n  \\\"PERSON\\\": [\\\"Jonetic\\\"],\\n  \\\"ORG\\\": [],\\n  \\\"GPE\\\": [],\\n  \\\"DATE\\\": [],\\n  \\\"CARDINAL\\\": [],\\n  \\\"MONEY\\\": [],\\n  \\\"PERCENT\\\": [],\\n  \\\"TIME\\\": [],\\n  \\\"QUANTITY\\\": [],\\n  \\\"ORDINAL\\\": [],\\n  \\\"NORP\\\": [],\\n  \\\"FAC\\\": [],\\n  \\\"LOC\\\": [],\\n  \\\"PRODUCT\\\": [],\\n  \\\"EVENT\\\": [],\\n  \\\"WORK_OF_ART\\\": [],\\n  \\\"LAW\\\": [],\\n  \\\"LANGUAGE\\\": []\\n}\\n<end_output>\"\n",
      "      }\n",
      "    }\n",
      "  ],\n",
      "  \"usage\": {\n",
      "    \"prompt_tokens\": 204,\n",
      "    \"completion_tokens\": 111,\n",
      "    \"total_tokens\": 315\n",
      "  }\n",
      "})\n"
     ]
    },
    {
     "name": "stderr",
     "output_type": "stream",
     "text": [
      " 32%|███▏      | 16/50 [00:12<00:25,  1.35it/s]"
     ]
    },
    {
     "name": "stdout",
     "output_type": "stream",
     "text": [
      "('{\\n  \"DATE\": [\"before Christmas break\"],\\n  \"GPE\": [\"Linpien\", \"Pingtung Plain\", \"Linpien river\"],\\n  \"EVENT\": [\"Wax Apple Festival\"]\\n}\\n<end_output>', <OpenAIObject chat.completion id=chatcmpl-8i01D8akxvBFGBLaxI6pHf8ClsfvO at 0x7f3a8431ffb0> JSON: {\n",
      "  \"id\": \"chatcmpl-8i01D8akxvBFGBLaxI6pHf8ClsfvO\",\n",
      "  \"object\": \"chat.completion\",\n",
      "  \"created\": 1705497195,\n",
      "  \"model\": \"gpt-35-turbo\",\n",
      "  \"choices\": [\n",
      "    {\n",
      "      \"finish_reason\": \"stop\",\n",
      "      \"index\": 0,\n",
      "      \"message\": {\n",
      "        \"role\": \"assistant\",\n",
      "        \"content\": \"{\\n  \\\"DATE\\\": [\\\"before Christmas break\\\"],\\n  \\\"GPE\\\": [\\\"Linpien\\\", \\\"Pingtung Plain\\\", \\\"Linpien river\\\"],\\n  \\\"EVENT\\\": [\\\"Wax Apple Festival\\\"]\\n}\\n<end_output>\"\n",
      "      }\n",
      "    }\n",
      "  ],\n",
      "  \"usage\": {\n",
      "    \"prompt_tokens\": 197,\n",
      "    \"completion_tokens\": 47,\n",
      "    \"total_tokens\": 244\n",
      "  }\n",
      "})\n"
     ]
    },
    {
     "name": "stderr",
     "output_type": "stream",
     "text": [
      " 34%|███▍      | 17/50 [00:13<00:20,  1.58it/s]"
     ]
    },
    {
     "name": "stdout",
     "output_type": "stream",
     "text": [
      "('{\\n  \"PERSON\": [\"journalist\", \"Beirut\"],\\n  \"DATE\": [\"nearly five years\"],\\n  \"GPE\": [\"Beirut\"],\\n  \"ORG\": [\"war\"]\\n}', <OpenAIObject chat.completion id=chatcmpl-8i01D2s2LeyqnRc3OicFzaZrSZ3HJ at 0x7f3a70e32bb0> JSON: {\n",
      "  \"id\": \"chatcmpl-8i01D2s2LeyqnRc3OicFzaZrSZ3HJ\",\n",
      "  \"object\": \"chat.completion\",\n",
      "  \"created\": 1705497195,\n",
      "  \"model\": \"gpt-35-turbo\",\n",
      "  \"choices\": [\n",
      "    {\n",
      "      \"finish_reason\": \"stop\",\n",
      "      \"index\": 0,\n",
      "      \"message\": {\n",
      "        \"role\": \"assistant\",\n",
      "        \"content\": \"{\\n  \\\"PERSON\\\": [\\\"journalist\\\", \\\"Beirut\\\"],\\n  \\\"DATE\\\": [\\\"nearly five years\\\"],\\n  \\\"GPE\\\": [\\\"Beirut\\\"],\\n  \\\"ORG\\\": [\\\"war\\\"]\\n}\"\n",
      "      }\n",
      "    }\n",
      "  ],\n",
      "  \"usage\": {\n",
      "    \"prompt_tokens\": 194,\n",
      "    \"completion_tokens\": 40,\n",
      "    \"total_tokens\": 234\n",
      "  }\n",
      "})\n"
     ]
    },
    {
     "name": "stderr",
     "output_type": "stream",
     "text": [
      " 36%|███▌      | 18/50 [00:14<00:27,  1.15it/s]"
     ]
    },
    {
     "name": "stdout",
     "output_type": "stream",
     "text": [
      "('{\\n  \"PERSON\": [],\\n  \"NORP\": [],\\n  \"FAC\": [],\\n  \"ORG\": [],\\n  \"GPE\": [],\\n  \"LOC\": [],\\n  \"PRODUCT\": [],\\n  \"EVENT\": [],\\n  \"WORK_OF_ART\": [],\\n  \"LAW\": [],\\n  \"LANGUAGE\": [],\\n  \"DATE\": [],\\n  \"TIME\": [],\\n  \"PERCENT\": [],\\n  \"MONEY\": [],\\n  \"QUANTITY\": [],\\n  \"ORDINAL\": [],\\n  \"CARDINAL\": []\\n}', <OpenAIObject chat.completion id=chatcmpl-8i01EbWHQVrIp7JiBR5dG4rQWBV6w at 0x7f3a70e32bb0> JSON: {\n",
      "  \"id\": \"chatcmpl-8i01EbWHQVrIp7JiBR5dG4rQWBV6w\",\n",
      "  \"object\": \"chat.completion\",\n",
      "  \"created\": 1705497196,\n",
      "  \"model\": \"gpt-35-turbo\",\n",
      "  \"choices\": [\n",
      "    {\n",
      "      \"finish_reason\": \"stop\",\n",
      "      \"index\": 0,\n",
      "      \"message\": {\n",
      "        \"role\": \"assistant\",\n",
      "        \"content\": \"{\\n  \\\"PERSON\\\": [],\\n  \\\"NORP\\\": [],\\n  \\\"FAC\\\": [],\\n  \\\"ORG\\\": [],\\n  \\\"GPE\\\": [],\\n  \\\"LOC\\\": [],\\n  \\\"PRODUCT\\\": [],\\n  \\\"EVENT\\\": [],\\n  \\\"WORK_OF_ART\\\": [],\\n  \\\"LAW\\\": [],\\n  \\\"LANGUAGE\\\": [],\\n  \\\"DATE\\\": [],\\n  \\\"TIME\\\": [],\\n  \\\"PERCENT\\\": [],\\n  \\\"MONEY\\\": [],\\n  \\\"QUANTITY\\\": [],\\n  \\\"ORDINAL\\\": [],\\n  \\\"CARDINAL\\\": []\\n}\"\n",
      "      }\n",
      "    }\n",
      "  ],\n",
      "  \"usage\": {\n",
      "    \"prompt_tokens\": 198,\n",
      "    \"completion_tokens\": 104,\n",
      "    \"total_tokens\": 302\n",
      "  }\n",
      "})\n"
     ]
    },
    {
     "name": "stderr",
     "output_type": "stream",
     "text": [
      " 38%|███▊      | 19/50 [00:15<00:23,  1.33it/s]"
     ]
    },
    {
     "name": "stdout",
     "output_type": "stream",
     "text": [
      "('{\\n  \"ORG\": [\"Shanghai\"],\\n  \"CARDINAL\": [\"218\", \"6\", \"260\", \"200 million\", \"US dollars\"]\\n}\\n<end_output>', <OpenAIObject chat.completion id=chatcmpl-8i01FaMc0XBzhRzrKl3uCrNHqXPaw at 0x7f3a70e32bb0> JSON: {\n",
      "  \"id\": \"chatcmpl-8i01FaMc0XBzhRzrKl3uCrNHqXPaw\",\n",
      "  \"object\": \"chat.completion\",\n",
      "  \"created\": 1705497197,\n",
      "  \"model\": \"gpt-35-turbo\",\n",
      "  \"choices\": [\n",
      "    {\n",
      "      \"finish_reason\": \"stop\",\n",
      "      \"index\": 0,\n",
      "      \"message\": {\n",
      "        \"role\": \"assistant\",\n",
      "        \"content\": \"{\\n  \\\"ORG\\\": [\\\"Shanghai\\\"],\\n  \\\"CARDINAL\\\": [\\\"218\\\", \\\"6\\\", \\\"260\\\", \\\"200 million\\\", \\\"US dollars\\\"]\\n}\\n<end_output>\"\n",
      "      }\n",
      "    }\n",
      "  ],\n",
      "  \"usage\": {\n",
      "    \"prompt_tokens\": 209,\n",
      "    \"completion_tokens\": 36,\n",
      "    \"total_tokens\": 245\n",
      "  }\n",
      "})\n"
     ]
    },
    {
     "name": "stderr",
     "output_type": "stream",
     "text": [
      " 40%|████      | 20/50 [00:16<00:26,  1.13it/s]"
     ]
    },
    {
     "name": "stdout",
     "output_type": "stream",
     "text": [
      "('{\\n  \"PERSON\": [\"Scooter Libby\"],\\n  \"ORG\": [],\\n  \"GPE\": [],\\n  \"DATE\": [],\\n  \"CARDINAL\": [],\\n  \"MONEY\": [],\\n  \"PERCENT\": [],\\n  \"FAC\": [],\\n  \"NORP\": [],\\n  \"LOC\": [],\\n  \"PRODUCT\": [],\\n  \"EVENT\": [],\\n  \"WORK_OF_ART\": [],\\n  \"LAW\": [\"lawyer\"]\\n}', <OpenAIObject chat.completion id=chatcmpl-8i01Gea1aE5qurHiDQH5QlluRU7Wn at 0x7f3a8431ffb0> JSON: {\n",
      "  \"id\": \"chatcmpl-8i01Gea1aE5qurHiDQH5QlluRU7Wn\",\n",
      "  \"object\": \"chat.completion\",\n",
      "  \"created\": 1705497198,\n",
      "  \"model\": \"gpt-35-turbo\",\n",
      "  \"choices\": [\n",
      "    {\n",
      "      \"finish_reason\": \"stop\",\n",
      "      \"index\": 0,\n",
      "      \"message\": {\n",
      "        \"role\": \"assistant\",\n",
      "        \"content\": \"{\\n  \\\"PERSON\\\": [\\\"Scooter Libby\\\"],\\n  \\\"ORG\\\": [],\\n  \\\"GPE\\\": [],\\n  \\\"DATE\\\": [],\\n  \\\"CARDINAL\\\": [],\\n  \\\"MONEY\\\": [],\\n  \\\"PERCENT\\\": [],\\n  \\\"FAC\\\": [],\\n  \\\"NORP\\\": [],\\n  \\\"LOC\\\": [],\\n  \\\"PRODUCT\\\": [],\\n  \\\"EVENT\\\": [],\\n  \\\"WORK_OF_ART\\\": [],\\n  \\\"LAW\\\": [\\\"lawyer\\\"]\\n}\"\n",
      "      }\n",
      "    }\n",
      "  ],\n",
      "  \"usage\": {\n",
      "    \"prompt_tokens\": 208,\n",
      "    \"completion_tokens\": 91,\n",
      "    \"total_tokens\": 299\n",
      "  }\n",
      "})\n"
     ]
    },
    {
     "name": "stderr",
     "output_type": "stream",
     "text": [
      " 42%|████▏     | 21/50 [00:17<00:30,  1.07s/it]"
     ]
    },
    {
     "name": "stdout",
     "output_type": "stream",
     "text": [
      "('{\\n  \"PERSON\": [],\\n  \"NORP\": [],\\n  \"FAC\": [],\\n  \"ORG\": [],\\n  \"GPE\": [\\n    \"North Korea\"\\n  ],\\n  \"LOC\": [],\\n  \"PRODUCT\": [],\\n  \"EVENT\": [],\\n  \"WORK_OF_ART\": [],\\n  \"LAW\": [],\\n  \"LANGUAGE\": [],\\n  \"DATE\": [],\\n  \"TIME\": [],\\n  \"PERCENT\": [],\\n  \"MONEY\": [],\\n  \"QUANTITY\": [],\\n  \"ORDINAL\": [],\\n  \"CARDINAL\": []\\n}\\n<end_output>', <OpenAIObject chat.completion id=chatcmpl-8i01H7ampXQr8qIjviME1kfmgsfy6 at 0x7f3a8431ffb0> JSON: {\n",
      "  \"id\": \"chatcmpl-8i01H7ampXQr8qIjviME1kfmgsfy6\",\n",
      "  \"object\": \"chat.completion\",\n",
      "  \"created\": 1705497199,\n",
      "  \"model\": \"gpt-35-turbo\",\n",
      "  \"choices\": [\n",
      "    {\n",
      "      \"finish_reason\": \"stop\",\n",
      "      \"index\": 0,\n",
      "      \"message\": {\n",
      "        \"role\": \"assistant\",\n",
      "        \"content\": \"{\\n  \\\"PERSON\\\": [],\\n  \\\"NORP\\\": [],\\n  \\\"FAC\\\": [],\\n  \\\"ORG\\\": [],\\n  \\\"GPE\\\": [\\n    \\\"North Korea\\\"\\n  ],\\n  \\\"LOC\\\": [],\\n  \\\"PRODUCT\\\": [],\\n  \\\"EVENT\\\": [],\\n  \\\"WORK_OF_ART\\\": [],\\n  \\\"LAW\\\": [],\\n  \\\"LANGUAGE\\\": [],\\n  \\\"DATE\\\": [],\\n  \\\"TIME\\\": [],\\n  \\\"PERCENT\\\": [],\\n  \\\"MONEY\\\": [],\\n  \\\"QUANTITY\\\": [],\\n  \\\"ORDINAL\\\": [],\\n  \\\"CARDINAL\\\": []\\n}\\n<end_output>\"\n",
      "      }\n",
      "    }\n",
      "  ],\n",
      "  \"usage\": {\n",
      "    \"prompt_tokens\": 205,\n",
      "    \"completion_tokens\": 115,\n",
      "    \"total_tokens\": 320\n",
      "  }\n",
      "})\n"
     ]
    },
    {
     "name": "stderr",
     "output_type": "stream",
     "text": [
      " 44%|████▍     | 22/50 [00:18<00:25,  1.08it/s]"
     ]
    },
    {
     "name": "stdout",
     "output_type": "stream",
     "text": [
      "('{\\n  \"ORG\": [\"Royal Trustco Ltd.\", \"Pacific Savings Bank\"],\\n  \"GPE\": [\"Toronto\", \"Costa Mesa\", \"Calif.\"],\\n  \"MONEY\": [\"$ 949 million\"]\\n}', <OpenAIObject chat.completion id=chatcmpl-8i01ItD2rUofg4aRFhY06sreTzpif at 0x7f3a844adbc0> JSON: {\n",
      "  \"id\": \"chatcmpl-8i01ItD2rUofg4aRFhY06sreTzpif\",\n",
      "  \"object\": \"chat.completion\",\n",
      "  \"created\": 1705497200,\n",
      "  \"model\": \"gpt-35-turbo\",\n",
      "  \"choices\": [\n",
      "    {\n",
      "      \"finish_reason\": \"stop\",\n",
      "      \"index\": 0,\n",
      "      \"message\": {\n",
      "        \"role\": \"assistant\",\n",
      "        \"content\": \"{\\n  \\\"ORG\\\": [\\\"Royal Trustco Ltd.\\\", \\\"Pacific Savings Bank\\\"],\\n  \\\"GPE\\\": [\\\"Toronto\\\", \\\"Costa Mesa\\\", \\\"Calif.\\\"],\\n  \\\"MONEY\\\": [\\\"$ 949 million\\\"]\\n}\"\n",
      "      }\n",
      "    }\n",
      "  ],\n",
      "  \"usage\": {\n",
      "    \"prompt_tokens\": 199,\n",
      "    \"completion_tokens\": 46,\n",
      "    \"total_tokens\": 245\n",
      "  }\n",
      "})\n"
     ]
    },
    {
     "name": "stderr",
     "output_type": "stream",
     "text": [
      " 46%|████▌     | 23/50 [00:19<00:28,  1.05s/it]"
     ]
    },
    {
     "name": "stdout",
     "output_type": "stream",
     "text": [
      "('{\\n  \"DATE\": [\\n    \"1997\",\\n    \"the previous year\",\\n    \"1996\"\\n  ],\\n  \"GPE\": [\\n    \"Mexico\"\\n  ],\\n  \"MONEY\": [\\n    \"220.178 billion US dollars\",\\n    \"110.380 billion US dollars\",\\n    \"109.798 billion US dollars\"\\n  ],\\n  \"ORG\": [\\n    \"Mexico \\'s Treasury Department\"\\n  ]\\n}', <OpenAIObject chat.completion id=chatcmpl-8i01JlYGt4vQi5LO5R0pWfvt4vWh0 at 0x7f3a70e32bb0> JSON: {\n",
      "  \"id\": \"chatcmpl-8i01JlYGt4vQi5LO5R0pWfvt4vWh0\",\n",
      "  \"object\": \"chat.completion\",\n",
      "  \"created\": 1705497201,\n",
      "  \"model\": \"gpt-35-turbo\",\n",
      "  \"choices\": [\n",
      "    {\n",
      "      \"finish_reason\": \"stop\",\n",
      "      \"index\": 0,\n",
      "      \"message\": {\n",
      "        \"role\": \"assistant\",\n",
      "        \"content\": \"{\\n  \\\"DATE\\\": [\\n    \\\"1997\\\",\\n    \\\"the previous year\\\",\\n    \\\"1996\\\"\\n  ],\\n  \\\"GPE\\\": [\\n    \\\"Mexico\\\"\\n  ],\\n  \\\"MONEY\\\": [\\n    \\\"220.178 billion US dollars\\\",\\n    \\\"110.380 billion US dollars\\\",\\n    \\\"109.798 billion US dollars\\\"\\n  ],\\n  \\\"ORG\\\": [\\n    \\\"Mexico 's Treasury Department\\\"\\n  ]\\n}\"\n",
      "      }\n",
      "    }\n",
      "  ],\n",
      "  \"usage\": {\n",
      "    \"prompt_tokens\": 262,\n",
      "    \"completion_tokens\": 87,\n",
      "    \"total_tokens\": 349\n",
      "  }\n",
      "})\n"
     ]
    },
    {
     "name": "stderr",
     "output_type": "stream",
     "text": [
      " 48%|████▊     | 24/50 [00:21<00:32,  1.23s/it]"
     ]
    },
    {
     "name": "stdout",
     "output_type": "stream",
     "text": [
      "('{\\n  \"DATE\": [\"A month ago\"],\\n  \"PERSON\": [],\\n  \"NORP\": [],\\n  \"FAC\": [],\\n  \"ORG\": [],\\n  \"GPE\": [],\\n  \"LOC\": [],\\n  \"PRODUCT\": [],\\n  \"EVENT\": [],\\n  \"WORK_OF_ART\": [],\\n  \"LAW\": [],\\n  \"LANGUAGE\": [],\\n  \"DATE\": [],\\n  \"TIME\": [],\\n  \"PERCENT\": [],\\n  \"MONEY\": [],\\n  \"QUANTITY\": [],\\n  \"ORDINAL\": [],\\n  \"CARDINAL\": []\\n}\\n<end_output>', <OpenAIObject chat.completion id=chatcmpl-8i01KnOD9uK7N7C8HuGF05qmRmF7w at 0x7f3a8431ffb0> JSON: {\n",
      "  \"id\": \"chatcmpl-8i01KnOD9uK7N7C8HuGF05qmRmF7w\",\n",
      "  \"object\": \"chat.completion\",\n",
      "  \"created\": 1705497202,\n",
      "  \"model\": \"gpt-35-turbo\",\n",
      "  \"choices\": [\n",
      "    {\n",
      "      \"finish_reason\": \"stop\",\n",
      "      \"index\": 0,\n",
      "      \"message\": {\n",
      "        \"role\": \"assistant\",\n",
      "        \"content\": \"{\\n  \\\"DATE\\\": [\\\"A month ago\\\"],\\n  \\\"PERSON\\\": [],\\n  \\\"NORP\\\": [],\\n  \\\"FAC\\\": [],\\n  \\\"ORG\\\": [],\\n  \\\"GPE\\\": [],\\n  \\\"LOC\\\": [],\\n  \\\"PRODUCT\\\": [],\\n  \\\"EVENT\\\": [],\\n  \\\"WORK_OF_ART\\\": [],\\n  \\\"LAW\\\": [],\\n  \\\"LANGUAGE\\\": [],\\n  \\\"DATE\\\": [],\\n  \\\"TIME\\\": [],\\n  \\\"PERCENT\\\": [],\\n  \\\"MONEY\\\": [],\\n  \\\"QUANTITY\\\": [],\\n  \\\"ORDINAL\\\": [],\\n  \\\"CARDINAL\\\": []\\n}\\n<end_output>\"\n",
      "      }\n",
      "    }\n",
      "  ],\n",
      "  \"usage\": {\n",
      "    \"prompt_tokens\": 197,\n",
      "    \"completion_tokens\": 117,\n",
      "    \"total_tokens\": 314\n",
      "  }\n",
      "})\n"
     ]
    },
    {
     "name": "stderr",
     "output_type": "stream",
     "text": [
      " 50%|█████     | 25/50 [00:22<00:28,  1.14s/it]"
     ]
    },
    {
     "name": "stdout",
     "output_type": "stream",
     "text": [
      "('{\\n  \"PERSON\": [\"they\"],\\n  \"ORG\": [],\\n  \"GPE\": [],\\n  \"DATE\": [],\\n  \"CARDINAL\": [\"50 percent\", \"three\"],\\n  \"MONEY\": [],\\n  \"PERCENT\": [],\\n  \"TIME\": [],\\n  \"QUANTITY\": [],\\n  \"ORDINAL\": []\\n}', <OpenAIObject chat.completion id=chatcmpl-8i01M25hVTUzNXNwoywyKIqWNBMhy at 0x7f3a792bacf0> JSON: {\n",
      "  \"id\": \"chatcmpl-8i01M25hVTUzNXNwoywyKIqWNBMhy\",\n",
      "  \"object\": \"chat.completion\",\n",
      "  \"created\": 1705497204,\n",
      "  \"model\": \"gpt-35-turbo\",\n",
      "  \"choices\": [\n",
      "    {\n",
      "      \"finish_reason\": \"stop\",\n",
      "      \"index\": 0,\n",
      "      \"message\": {\n",
      "        \"role\": \"assistant\",\n",
      "        \"content\": \"{\\n  \\\"PERSON\\\": [\\\"they\\\"],\\n  \\\"ORG\\\": [],\\n  \\\"GPE\\\": [],\\n  \\\"DATE\\\": [],\\n  \\\"CARDINAL\\\": [\\\"50 percent\\\", \\\"three\\\"],\\n  \\\"MONEY\\\": [],\\n  \\\"PERCENT\\\": [],\\n  \\\"TIME\\\": [],\\n  \\\"QUANTITY\\\": [],\\n  \\\"ORDINAL\\\": []\\n}\"\n",
      "      }\n",
      "    }\n",
      "  ],\n",
      "  \"usage\": {\n",
      "    \"prompt_tokens\": 206,\n",
      "    \"completion_tokens\": 66,\n",
      "    \"total_tokens\": 272\n",
      "  }\n",
      "})\n"
     ]
    },
    {
     "name": "stderr",
     "output_type": "stream",
     "text": [
      " 52%|█████▏    | 26/50 [00:22<00:23,  1.02it/s]"
     ]
    },
    {
     "name": "stdout",
     "output_type": "stream",
     "text": [
      "('{\\n  \"DATE\": [\"From January to November\"],\\n  \"GPE\": [\"Pudong\"],\\n  \"MONEY\": [\"2.8 billion US dollars\"],\\n  \"CARDINAL\": [\"1/5\"]\\n}\\n<end_output>', <OpenAIObject chat.completion id=chatcmpl-8i01NwG4goF6sX05p98JrPufOzZh1 at 0x7f3a70e32bb0> JSON: {\n",
      "  \"id\": \"chatcmpl-8i01NwG4goF6sX05p98JrPufOzZh1\",\n",
      "  \"object\": \"chat.completion\",\n",
      "  \"created\": 1705497205,\n",
      "  \"model\": \"gpt-35-turbo\",\n",
      "  \"choices\": [\n",
      "    {\n",
      "      \"finish_reason\": \"stop\",\n",
      "      \"index\": 0,\n",
      "      \"message\": {\n",
      "        \"role\": \"assistant\",\n",
      "        \"content\": \"{\\n  \\\"DATE\\\": [\\\"From January to November\\\"],\\n  \\\"GPE\\\": [\\\"Pudong\\\"],\\n  \\\"MONEY\\\": [\\\"2.8 billion US dollars\\\"],\\n  \\\"CARDINAL\\\": [\\\"1/5\\\"]\\n}\\n<end_output>\"\n",
      "      }\n",
      "    }\n",
      "  ],\n",
      "  \"usage\": {\n",
      "    \"prompt_tokens\": 201,\n",
      "    \"completion_tokens\": 49,\n",
      "    \"total_tokens\": 250\n",
      "  }\n",
      "})\n"
     ]
    },
    {
     "name": "stderr",
     "output_type": "stream",
     "text": [
      " 54%|█████▍    | 27/50 [00:23<00:23,  1.03s/it]"
     ]
    },
    {
     "name": "stdout",
     "output_type": "stream",
     "text": [
      "('{\\n  \"PERSON\": [],\\n  \"NORP\": [],\\n  \"FAC\": [],\\n  \"ORG\": [\"Federal Reserve\"],\\n  \"GPE\": [],\\n  \"LOC\": [],\\n  \"PRODUCT\": [],\\n  \"EVENT\": [],\\n  \"WORK_OF_ART\": [],\\n  \"LAW\": [],\\n  \"LANGUAGE\": [],\\n  \"DATE\": [],\\n  \"TIME\": [],\\n  \"PERCENT\": [],\\n  \"MONEY\": [],\\n  \"QUANTITY\": [],\\n  \"ORDINAL\": [],\\n  \"CARDINAL\": []\\n}\\n<end_output>', <OpenAIObject chat.completion id=chatcmpl-8i01NocvPhmCAzmyAdqXhvrcoCUAq at 0x7f3a70e32bb0> JSON: {\n",
      "  \"id\": \"chatcmpl-8i01NocvPhmCAzmyAdqXhvrcoCUAq\",\n",
      "  \"object\": \"chat.completion\",\n",
      "  \"created\": 1705497205,\n",
      "  \"model\": \"gpt-35-turbo\",\n",
      "  \"choices\": [\n",
      "    {\n",
      "      \"finish_reason\": \"stop\",\n",
      "      \"index\": 0,\n",
      "      \"message\": {\n",
      "        \"role\": \"assistant\",\n",
      "        \"content\": \"{\\n  \\\"PERSON\\\": [],\\n  \\\"NORP\\\": [],\\n  \\\"FAC\\\": [],\\n  \\\"ORG\\\": [\\\"Federal Reserve\\\"],\\n  \\\"GPE\\\": [],\\n  \\\"LOC\\\": [],\\n  \\\"PRODUCT\\\": [],\\n  \\\"EVENT\\\": [],\\n  \\\"WORK_OF_ART\\\": [],\\n  \\\"LAW\\\": [],\\n  \\\"LANGUAGE\\\": [],\\n  \\\"DATE\\\": [],\\n  \\\"TIME\\\": [],\\n  \\\"PERCENT\\\": [],\\n  \\\"MONEY\\\": [],\\n  \\\"QUANTITY\\\": [],\\n  \\\"ORDINAL\\\": [],\\n  \\\"CARDINAL\\\": []\\n}\\n<end_output>\"\n",
      "      }\n",
      "    }\n",
      "  ],\n",
      "  \"usage\": {\n",
      "    \"prompt_tokens\": 197,\n",
      "    \"completion_tokens\": 111,\n",
      "    \"total_tokens\": 308\n",
      "  }\n",
      "})\n"
     ]
    },
    {
     "name": "stderr",
     "output_type": "stream",
     "text": [
      " 56%|█████▌    | 28/50 [00:24<00:21,  1.02it/s]"
     ]
    },
    {
     "name": "stdout",
     "output_type": "stream",
     "text": [
      "('{\\n  \"PERSON\": [],\\n  \"NORP\": [],\\n  \"FAC\": [],\\n  \"ORG\": [],\\n  \"GPE\": [],\\n  \"LOC\": [],\\n  \"PRODUCT\": [],\\n  \"EVENT\": [],\\n  \"WORK_OF_ART\": [],\\n  \"LAW\": [],\\n  \"LANGUAGE\": [],\\n  \"DATE\": [],\\n  \"TIME\": [],\\n  \"PERCENT\": [],\\n  \"MONEY\": [],\\n  \"QUANTITY\": [],\\n  \"ORDINAL\": [],\\n  \"CARDINAL\": []\\n}\\n<end_output>', <OpenAIObject chat.completion id=chatcmpl-8i01Odaf4cE8A8Yc1AxG4O7UxeQ5T at 0x7f3a792bf0b0> JSON: {\n",
      "  \"id\": \"chatcmpl-8i01Odaf4cE8A8Yc1AxG4O7UxeQ5T\",\n",
      "  \"object\": \"chat.completion\",\n",
      "  \"created\": 1705497206,\n",
      "  \"model\": \"gpt-35-turbo\",\n",
      "  \"choices\": [\n",
      "    {\n",
      "      \"finish_reason\": \"stop\",\n",
      "      \"index\": 0,\n",
      "      \"message\": {\n",
      "        \"role\": \"assistant\",\n",
      "        \"content\": \"{\\n  \\\"PERSON\\\": [],\\n  \\\"NORP\\\": [],\\n  \\\"FAC\\\": [],\\n  \\\"ORG\\\": [],\\n  \\\"GPE\\\": [],\\n  \\\"LOC\\\": [],\\n  \\\"PRODUCT\\\": [],\\n  \\\"EVENT\\\": [],\\n  \\\"WORK_OF_ART\\\": [],\\n  \\\"LAW\\\": [],\\n  \\\"LANGUAGE\\\": [],\\n  \\\"DATE\\\": [],\\n  \\\"TIME\\\": [],\\n  \\\"PERCENT\\\": [],\\n  \\\"MONEY\\\": [],\\n  \\\"QUANTITY\\\": [],\\n  \\\"ORDINAL\\\": [],\\n  \\\"CARDINAL\\\": []\\n}\\n<end_output>\"\n",
      "      }\n",
      "    }\n",
      "  ],\n",
      "  \"usage\": {\n",
      "    \"prompt_tokens\": 197,\n",
      "    \"completion_tokens\": 108,\n",
      "    \"total_tokens\": 305\n",
      "  }\n",
      "})\n"
     ]
    },
    {
     "name": "stderr",
     "output_type": "stream",
     "text": [
      " 58%|█████▊    | 29/50 [00:25<00:17,  1.20it/s]"
     ]
    },
    {
     "name": "stdout",
     "output_type": "stream",
     "text": [
      "('{\\n  \"ORG\": [\"Young & Rubicam Inc.\"],\\n  \"PERSON\": [\"two senior executives\", \"a former employee\"],\\n  \"GPE\": [\"New Haven\", \"Conn.\"]\\n}\\n<end_output>', <OpenAIObject chat.completion id=chatcmpl-8i01P9qtIQ7K3D9yyCPp8HjNygXx6 at 0x7f3a792bacf0> JSON: {\n",
      "  \"id\": \"chatcmpl-8i01P9qtIQ7K3D9yyCPp8HjNygXx6\",\n",
      "  \"object\": \"chat.completion\",\n",
      "  \"created\": 1705497207,\n",
      "  \"model\": \"gpt-35-turbo\",\n",
      "  \"choices\": [\n",
      "    {\n",
      "      \"finish_reason\": \"stop\",\n",
      "      \"index\": 0,\n",
      "      \"message\": {\n",
      "        \"role\": \"assistant\",\n",
      "        \"content\": \"{\\n  \\\"ORG\\\": [\\\"Young & Rubicam Inc.\\\"],\\n  \\\"PERSON\\\": [\\\"two senior executives\\\", \\\"a former employee\\\"],\\n  \\\"GPE\\\": [\\\"New Haven\\\", \\\"Conn.\\\"]\\n}\\n<end_output>\"\n",
      "      }\n",
      "    }\n",
      "  ],\n",
      "  \"usage\": {\n",
      "    \"prompt_tokens\": 201,\n",
      "    \"completion_tokens\": 45,\n",
      "    \"total_tokens\": 246\n",
      "  }\n",
      "})\n"
     ]
    },
    {
     "name": "stderr",
     "output_type": "stream",
     "text": [
      " 62%|██████▏   | 31/50 [00:26<00:13,  1.46it/s]"
     ]
    },
    {
     "name": "stdout",
     "output_type": "stream",
     "text": [
      "('{\\n  \"PERSON\": [\"Linpien\", \"Tsao Chi-hung\"],\\n  \"ORG\": [\"DPP\", \"Linpien Residents\\' Democracy Association\"],\\n  \"DATE\": [\"eight or nine years ago\"],\\n  \"NORP\": [\"DPP\"],\\n  \"GPE\": [\"national legislature\"]\\n}', <OpenAIObject chat.completion id=chatcmpl-8i01QlwJsFlwuOev1vamzX5ioUcIu at 0x7f3a792bacf0> JSON: {\n",
      "  \"id\": \"chatcmpl-8i01QlwJsFlwuOev1vamzX5ioUcIu\",\n",
      "  \"object\": \"chat.completion\",\n",
      "  \"created\": 1705497208,\n",
      "  \"model\": \"gpt-35-turbo\",\n",
      "  \"choices\": [\n",
      "    {\n",
      "      \"finish_reason\": \"stop\",\n",
      "      \"index\": 0,\n",
      "      \"message\": {\n",
      "        \"role\": \"assistant\",\n",
      "        \"content\": \"{\\n  \\\"PERSON\\\": [\\\"Linpien\\\", \\\"Tsao Chi-hung\\\"],\\n  \\\"ORG\\\": [\\\"DPP\\\", \\\"Linpien Residents' Democracy Association\\\"],\\n  \\\"DATE\\\": [\\\"eight or nine years ago\\\"],\\n  \\\"NORP\\\": [\\\"DPP\\\"],\\n  \\\"GPE\\\": [\\\"national legislature\\\"]\\n}\"\n",
      "      }\n",
      "    }\n",
      "  ],\n",
      "  \"usage\": {\n",
      "    \"prompt_tokens\": 220,\n",
      "    \"completion_tokens\": 65,\n",
      "    \"total_tokens\": 285\n",
      "  }\n",
      "})\n",
      "('{\\n  \"PERSON\": [\"reporter\"]\\n}', <OpenAIObject chat.completion id=chatcmpl-8i01RIJKSRL4e6cny7J3JBnQs2dt5 at 0x7f3a79295d00> JSON: {\n",
      "  \"id\": \"chatcmpl-8i01RIJKSRL4e6cny7J3JBnQs2dt5\",\n",
      "  \"object\": \"chat.completion\",\n",
      "  \"created\": 1705497209,\n",
      "  \"model\": \"gpt-35-turbo\",\n",
      "  \"choices\": [\n",
      "    {\n",
      "      \"finish_reason\": \"stop\",\n",
      "      \"index\": 0,\n",
      "      \"message\": {\n",
      "        \"role\": \"assistant\",\n",
      "        \"content\": \"{\\n  \\\"PERSON\\\": [\\\"reporter\\\"]\\n}\"\n",
      "      }\n",
      "    }\n",
      "  ],\n",
      "  \"usage\": {\n",
      "    \"prompt_tokens\": 159,\n",
      "    \"completion_tokens\": 10,\n",
      "    \"total_tokens\": 169\n",
      "  }\n",
      "})\n"
     ]
    },
    {
     "name": "stderr",
     "output_type": "stream",
     "text": [
      " 64%|██████▍   | 32/50 [00:27<00:12,  1.41it/s]"
     ]
    },
    {
     "name": "stdout",
     "output_type": "stream",
     "text": [
      "('{\\n  \"DATE\": [\"last year\", \"the same period of the previous year\"],\\n  \"MONEY\": [\"850 million US dollars\", \"700 million US dollars\"],\\n  \"ORG\": [\"Tianjin Port Bonded Area\"]\\n}', <OpenAIObject chat.completion id=chatcmpl-8i01RudASthrwurhkigdwWKKPlg02 at 0x7f3a844adbc0> JSON: {\n",
      "  \"id\": \"chatcmpl-8i01RudASthrwurhkigdwWKKPlg02\",\n",
      "  \"object\": \"chat.completion\",\n",
      "  \"created\": 1705497209,\n",
      "  \"model\": \"gpt-35-turbo\",\n",
      "  \"choices\": [\n",
      "    {\n",
      "      \"finish_reason\": \"stop\",\n",
      "      \"index\": 0,\n",
      "      \"message\": {\n",
      "        \"role\": \"assistant\",\n",
      "        \"content\": \"{\\n  \\\"DATE\\\": [\\\"last year\\\", \\\"the same period of the previous year\\\"],\\n  \\\"MONEY\\\": [\\\"850 million US dollars\\\", \\\"700 million US dollars\\\"],\\n  \\\"ORG\\\": [\\\"Tianjin Port Bonded Area\\\"]\\n}\"\n",
      "      }\n",
      "    }\n",
      "  ],\n",
      "  \"usage\": {\n",
      "    \"prompt_tokens\": 228,\n",
      "    \"completion_tokens\": 49,\n",
      "    \"total_tokens\": 277\n",
      "  }\n",
      "})\n"
     ]
    },
    {
     "name": "stderr",
     "output_type": "stream",
     "text": [
      " 66%|██████▌   | 33/50 [00:28<00:13,  1.25it/s]"
     ]
    },
    {
     "name": "stdout",
     "output_type": "stream",
     "text": [
      "('{\\n  \"DATE\": [\"Friday\", \"last week\", \"this week\"],\\n  \"MONEY\": [\"crude oil prices\"],\\n  \"ORG\": [\"analysts\"],\\n  \"PERCENT\": [\"profit-taking\"],\\n  \"O\": [\"Although\", \"the\", \"wake\", \"of\", \"\\'s\", \"leap\", \"in\", \"rally\", \"is\", \"generally\", \"expected\", \"to\", \"continue\"]\\n}\\n<end_output>', <OpenAIObject chat.completion id=chatcmpl-8i01SDC2XksW426ijjpvUF9L8of0c at 0x7f3a84426d40> JSON: {\n",
      "  \"id\": \"chatcmpl-8i01SDC2XksW426ijjpvUF9L8of0c\",\n",
      "  \"object\": \"chat.completion\",\n",
      "  \"created\": 1705497210,\n",
      "  \"model\": \"gpt-35-turbo\",\n",
      "  \"choices\": [\n",
      "    {\n",
      "      \"finish_reason\": \"stop\",\n",
      "      \"index\": 0,\n",
      "      \"message\": {\n",
      "        \"role\": \"assistant\",\n",
      "        \"content\": \"{\\n  \\\"DATE\\\": [\\\"Friday\\\", \\\"last week\\\", \\\"this week\\\"],\\n  \\\"MONEY\\\": [\\\"crude oil prices\\\"],\\n  \\\"ORG\\\": [\\\"analysts\\\"],\\n  \\\"PERCENT\\\": [\\\"profit-taking\\\"],\\n  \\\"O\\\": [\\\"Although\\\", \\\"the\\\", \\\"wake\\\", \\\"of\\\", \\\"'s\\\", \\\"leap\\\", \\\"in\\\", \\\"rally\\\", \\\"is\\\", \\\"generally\\\", \\\"expected\\\", \\\"to\\\", \\\"continue\\\"]\\n}\\n<end_output>\"\n",
      "      }\n",
      "    }\n",
      "  ],\n",
      "  \"usage\": {\n",
      "    \"prompt_tokens\": 194,\n",
      "    \"completion_tokens\": 95,\n",
      "    \"total_tokens\": 289\n",
      "  }\n",
      "})\n"
     ]
    },
    {
     "name": "stderr",
     "output_type": "stream",
     "text": [
      " 68%|██████▊   | 34/50 [00:28<00:11,  1.44it/s]"
     ]
    },
    {
     "name": "stdout",
     "output_type": "stream",
     "text": [
      "('{\\n  \"ORG\": [\"Weatherford\"],\\n  \"DATE\": [\"October 1985\"],\\n  \"MONEY\": [\"$6 million\"]\\n}', <OpenAIObject chat.completion id=chatcmpl-8i01TcssPIu1gfjC9sVmswWwT7yeO at 0x7f3a792bacf0> JSON: {\n",
      "  \"id\": \"chatcmpl-8i01TcssPIu1gfjC9sVmswWwT7yeO\",\n",
      "  \"object\": \"chat.completion\",\n",
      "  \"created\": 1705497211,\n",
      "  \"model\": \"gpt-35-turbo\",\n",
      "  \"choices\": [\n",
      "    {\n",
      "      \"finish_reason\": \"stop\",\n",
      "      \"index\": 0,\n",
      "      \"message\": {\n",
      "        \"role\": \"assistant\",\n",
      "        \"content\": \"{\\n  \\\"ORG\\\": [\\\"Weatherford\\\"],\\n  \\\"DATE\\\": [\\\"October 1985\\\"],\\n  \\\"MONEY\\\": [\\\"$6 million\\\"]\\n}\"\n",
      "      }\n",
      "    }\n",
      "  ],\n",
      "  \"usage\": {\n",
      "    \"prompt_tokens\": 206,\n",
      "    \"completion_tokens\": 30,\n",
      "    \"total_tokens\": 236\n",
      "  }\n",
      "})\n"
     ]
    },
    {
     "name": "stderr",
     "output_type": "stream",
     "text": [
      " 70%|███████   | 35/50 [00:30<00:13,  1.08it/s]"
     ]
    },
    {
     "name": "stdout",
     "output_type": "stream",
     "text": [
      "('{\\n  \"ORG\": [],\\n  \"PERSON\": [],\\n  \"GPE\": [],\\n  \"DATE\": [],\\n  \"CARDINAL\": [],\\n  \"MONEY\": [],\\n  \"PERCENT\": [],\\n  \"TIME\": [],\\n  \"QUANTITY\": [],\\n  \"ORDINAL\": [],\\n  \"NORP\": [],\\n  \"FAC\": [],\\n  \"LOC\": [],\\n  \"PRODUCT\": [],\\n  \"EVENT\": [],\\n  \"WORK_OF_ART\": [],\\n  \"LAW\": [],\\n  \"LANGUAGE\": []\\n}\\n<end_output>', <OpenAIObject chat.completion id=chatcmpl-8i01TaASrda8aqncOVLPiwjg3FAac at 0x7f3a790e6980> JSON: {\n",
      "  \"id\": \"chatcmpl-8i01TaASrda8aqncOVLPiwjg3FAac\",\n",
      "  \"object\": \"chat.completion\",\n",
      "  \"created\": 1705497211,\n",
      "  \"model\": \"gpt-35-turbo\",\n",
      "  \"choices\": [\n",
      "    {\n",
      "      \"finish_reason\": \"stop\",\n",
      "      \"index\": 0,\n",
      "      \"message\": {\n",
      "        \"role\": \"assistant\",\n",
      "        \"content\": \"{\\n  \\\"ORG\\\": [],\\n  \\\"PERSON\\\": [],\\n  \\\"GPE\\\": [],\\n  \\\"DATE\\\": [],\\n  \\\"CARDINAL\\\": [],\\n  \\\"MONEY\\\": [],\\n  \\\"PERCENT\\\": [],\\n  \\\"TIME\\\": [],\\n  \\\"QUANTITY\\\": [],\\n  \\\"ORDINAL\\\": [],\\n  \\\"NORP\\\": [],\\n  \\\"FAC\\\": [],\\n  \\\"LOC\\\": [],\\n  \\\"PRODUCT\\\": [],\\n  \\\"EVENT\\\": [],\\n  \\\"WORK_OF_ART\\\": [],\\n  \\\"LAW\\\": [],\\n  \\\"LANGUAGE\\\": []\\n}\\n<end_output>\"\n",
      "      }\n",
      "    }\n",
      "  ],\n",
      "  \"usage\": {\n",
      "    \"prompt_tokens\": 202,\n",
      "    \"completion_tokens\": 108,\n",
      "    \"total_tokens\": 310\n",
      "  }\n",
      "})\n"
     ]
    },
    {
     "name": "stderr",
     "output_type": "stream",
     "text": [
      " 72%|███████▏  | 36/50 [00:30<00:11,  1.20it/s]"
     ]
    },
    {
     "name": "stdout",
     "output_type": "stream",
     "text": [
      "('{\\n  \"PERSON\": [\"Steve Featherston\"],\\n  \"ORG\": [\"UAW\"],\\n  \"GPE\": [\"Oklahoma City\"],\\n  \"DATE\": [\"eight-year-old\"]\\n}', <OpenAIObject chat.completion id=chatcmpl-8i01VLwDx5VYBVLypeK4aAwhjYdGs at 0x7f3a792bacf0> JSON: {\n",
      "  \"id\": \"chatcmpl-8i01VLwDx5VYBVLypeK4aAwhjYdGs\",\n",
      "  \"object\": \"chat.completion\",\n",
      "  \"created\": 1705497213,\n",
      "  \"model\": \"gpt-35-turbo\",\n",
      "  \"choices\": [\n",
      "    {\n",
      "      \"finish_reason\": \"stop\",\n",
      "      \"index\": 0,\n",
      "      \"message\": {\n",
      "        \"role\": \"assistant\",\n",
      "        \"content\": \"{\\n  \\\"PERSON\\\": [\\\"Steve Featherston\\\"],\\n  \\\"ORG\\\": [\\\"UAW\\\"],\\n  \\\"GPE\\\": [\\\"Oklahoma City\\\"],\\n  \\\"DATE\\\": [\\\"eight-year-old\\\"]\\n}\"\n",
      "      }\n",
      "    }\n",
      "  ],\n",
      "  \"usage\": {\n",
      "    \"prompt_tokens\": 224,\n",
      "    \"completion_tokens\": 39,\n",
      "    \"total_tokens\": 263\n",
      "  }\n",
      "})\n"
     ]
    },
    {
     "name": "stderr",
     "output_type": "stream",
     "text": [
      " 74%|███████▍  | 37/50 [00:31<00:09,  1.40it/s]"
     ]
    },
    {
     "name": "stdout",
     "output_type": "stream",
     "text": [
      "('{\\n  \"PERSON\": [\"Supreme Court\"],\\n  \"DATE\": [\"modern Supreme Court history\"],\\n  \"ORG\": [\"court watchers\"]\\n}', <OpenAIObject chat.completion id=chatcmpl-8i01VaJ9PmirvIqgGYLb4rObSnnJO at 0x7f3a844adbc0> JSON: {\n",
      "  \"id\": \"chatcmpl-8i01VaJ9PmirvIqgGYLb4rObSnnJO\",\n",
      "  \"object\": \"chat.completion\",\n",
      "  \"created\": 1705497213,\n",
      "  \"model\": \"gpt-35-turbo\",\n",
      "  \"choices\": [\n",
      "    {\n",
      "      \"finish_reason\": \"stop\",\n",
      "      \"index\": 0,\n",
      "      \"message\": {\n",
      "        \"role\": \"assistant\",\n",
      "        \"content\": \"{\\n  \\\"PERSON\\\": [\\\"Supreme Court\\\"],\\n  \\\"DATE\\\": [\\\"modern Supreme Court history\\\"],\\n  \\\"ORG\\\": [\\\"court watchers\\\"]\\n}\"\n",
      "      }\n",
      "    }\n",
      "  ],\n",
      "  \"usage\": {\n",
      "    \"prompt_tokens\": 194,\n",
      "    \"completion_tokens\": 29,\n",
      "    \"total_tokens\": 223\n",
      "  }\n",
      "})\n"
     ]
    },
    {
     "name": "stderr",
     "output_type": "stream",
     "text": [
      " 76%|███████▌  | 38/50 [00:31<00:07,  1.52it/s]"
     ]
    },
    {
     "name": "stdout",
     "output_type": "stream",
     "text": [
      "('{\\n  \"PERSON\": [\"Li Yung-kun\"],\\n  \"ORG\": [\"Li family of Tanshui\"],\\n  \"GPE\": [\"Tanshui\"]\\n}', <OpenAIObject chat.completion id=chatcmpl-8i01WEiKo36fPPYuN3Rpkwl9hSK5q at 0x7f3a844adbc0> JSON: {\n",
      "  \"id\": \"chatcmpl-8i01WEiKo36fPPYuN3Rpkwl9hSK5q\",\n",
      "  \"object\": \"chat.completion\",\n",
      "  \"created\": 1705497214,\n",
      "  \"model\": \"gpt-35-turbo\",\n",
      "  \"choices\": [\n",
      "    {\n",
      "      \"finish_reason\": \"stop\",\n",
      "      \"index\": 0,\n",
      "      \"message\": {\n",
      "        \"role\": \"assistant\",\n",
      "        \"content\": \"{\\n  \\\"PERSON\\\": [\\\"Li Yung-kun\\\"],\\n  \\\"ORG\\\": [\\\"Li family of Tanshui\\\"],\\n  \\\"GPE\\\": [\\\"Tanshui\\\"]\\n}\"\n",
      "      }\n",
      "    }\n",
      "  ],\n",
      "  \"usage\": {\n",
      "    \"prompt_tokens\": 207,\n",
      "    \"completion_tokens\": 37,\n",
      "    \"total_tokens\": 244\n",
      "  }\n",
      "})\n"
     ]
    },
    {
     "name": "stderr",
     "output_type": "stream",
     "text": [
      " 78%|███████▊  | 39/50 [00:32<00:07,  1.45it/s]"
     ]
    },
    {
     "name": "stdout",
     "output_type": "stream",
     "text": [
      "('{\\n  \"DATE\": [],\\n  \"CARDINAL\": [],\\n  \"MONEY\": [\\n    \"$ 1.34\",\\n    \"$ 1.55\"\\n  ],\\n  \"ORG\": [\\n    \"Brazil\"\\n  ],\\n  \"PERCENT\": [],\\n  \"NORP\": [],\\n  \"FAC\": [],\\n  \"GPE\": []\\n}', <OpenAIObject chat.completion id=chatcmpl-8i01WL7w676QOb1YcMIHjoOKYSFQj at 0x7f3a792c3c40> JSON: {\n",
      "  \"id\": \"chatcmpl-8i01WL7w676QOb1YcMIHjoOKYSFQj\",\n",
      "  \"object\": \"chat.completion\",\n",
      "  \"created\": 1705497214,\n",
      "  \"model\": \"gpt-35-turbo\",\n",
      "  \"choices\": [\n",
      "    {\n",
      "      \"finish_reason\": \"stop\",\n",
      "      \"index\": 0,\n",
      "      \"message\": {\n",
      "        \"role\": \"assistant\",\n",
      "        \"content\": \"{\\n  \\\"DATE\\\": [],\\n  \\\"CARDINAL\\\": [],\\n  \\\"MONEY\\\": [\\n    \\\"$ 1.34\\\",\\n    \\\"$ 1.55\\\"\\n  ],\\n  \\\"ORG\\\": [\\n    \\\"Brazil\\\"\\n  ],\\n  \\\"PERCENT\\\": [],\\n  \\\"NORP\\\": [],\\n  \\\"FAC\\\": [],\\n  \\\"GPE\\\": []\\n}\"\n",
      "      }\n",
      "    }\n",
      "  ],\n",
      "  \"usage\": {\n",
      "    \"prompt_tokens\": 201,\n",
      "    \"completion_tokens\": 71,\n",
      "    \"total_tokens\": 272\n",
      "  }\n",
      "})\n"
     ]
    },
    {
     "name": "stderr",
     "output_type": "stream",
     "text": [
      " 80%|████████  | 40/50 [00:34<00:09,  1.10it/s]"
     ]
    },
    {
     "name": "stdout",
     "output_type": "stream",
     "text": [
      "('{\\n  \"MONEY\": [\"$ 60 billion\"],\\n  \"DATE\": [\"in the 1987 crash\"],\\n  \"ORG\": [\"portfolio insurance\"],\\n  \"PERSON\": [],\\n  \"NORP\": [],\\n  \"FAC\": [],\\n  \"GPE\": [],\\n  \"LOC\": [],\\n  \"PRODUCT\": [],\\n  \"EVENT\": [],\\n  \"WORK_OF_ART\": [],\\n  \"LAW\": [],\\n  \"LANGUAGE\": [],\\n  \"DATE\": [],\\n  \"TIME\": [],\\n  \"PERCENT\": [],\\n  \"MONEY\": [],\\n  \"QUANTITY\": [],\\n  \"ORDINAL\": [],\\n  \"CARDINAL\": []\\n}\\n<end_output>', <OpenAIObject chat.completion id=chatcmpl-8i01Xm9sCeH0dA1hXNlhG5UMddiyR at 0x7f3a70e32bb0> JSON: {\n",
      "  \"id\": \"chatcmpl-8i01Xm9sCeH0dA1hXNlhG5UMddiyR\",\n",
      "  \"object\": \"chat.completion\",\n",
      "  \"created\": 1705497215,\n",
      "  \"model\": \"gpt-35-turbo\",\n",
      "  \"choices\": [\n",
      "    {\n",
      "      \"finish_reason\": \"stop\",\n",
      "      \"index\": 0,\n",
      "      \"message\": {\n",
      "        \"role\": \"assistant\",\n",
      "        \"content\": \"{\\n  \\\"MONEY\\\": [\\\"$ 60 billion\\\"],\\n  \\\"DATE\\\": [\\\"in the 1987 crash\\\"],\\n  \\\"ORG\\\": [\\\"portfolio insurance\\\"],\\n  \\\"PERSON\\\": [],\\n  \\\"NORP\\\": [],\\n  \\\"FAC\\\": [],\\n  \\\"GPE\\\": [],\\n  \\\"LOC\\\": [],\\n  \\\"PRODUCT\\\": [],\\n  \\\"EVENT\\\": [],\\n  \\\"WORK_OF_ART\\\": [],\\n  \\\"LAW\\\": [],\\n  \\\"LANGUAGE\\\": [],\\n  \\\"DATE\\\": [],\\n  \\\"TIME\\\": [],\\n  \\\"PERCENT\\\": [],\\n  \\\"MONEY\\\": [],\\n  \\\"QUANTITY\\\": [],\\n  \\\"ORDINAL\\\": [],\\n  \\\"CARDINAL\\\": []\\n}\\n<end_output>\"\n",
      "      }\n",
      "    }\n",
      "  ],\n",
      "  \"usage\": {\n",
      "    \"prompt_tokens\": 199,\n",
      "    \"completion_tokens\": 134,\n",
      "    \"total_tokens\": 333\n",
      "  }\n",
      "})\n"
     ]
    },
    {
     "name": "stderr",
     "output_type": "stream",
     "text": [
      " 82%|████████▏ | 41/50 [00:34<00:07,  1.27it/s]"
     ]
    },
    {
     "name": "stdout",
     "output_type": "stream",
     "text": [
      "('{\\n  \"PERSON\": [\"men\", \"wives\"],\\n  \"ORG\": [],\\n  \"GPE\": [\"foreign land\"]\\n}\\n<end_output>', <OpenAIObject chat.completion id=chatcmpl-8i01ZWpmsg2YC3ahTmoxhu508Fhuc at 0x7f3a790e6980> JSON: {\n",
      "  \"id\": \"chatcmpl-8i01ZWpmsg2YC3ahTmoxhu508Fhuc\",\n",
      "  \"object\": \"chat.completion\",\n",
      "  \"created\": 1705497217,\n",
      "  \"model\": \"gpt-35-turbo\",\n",
      "  \"choices\": [\n",
      "    {\n",
      "      \"finish_reason\": \"stop\",\n",
      "      \"index\": 0,\n",
      "      \"message\": {\n",
      "        \"role\": \"assistant\",\n",
      "        \"content\": \"{\\n  \\\"PERSON\\\": [\\\"men\\\", \\\"wives\\\"],\\n  \\\"ORG\\\": [],\\n  \\\"GPE\\\": [\\\"foreign land\\\"]\\n}\\n<end_output>\"\n",
      "      }\n",
      "    }\n",
      "  ],\n",
      "  \"usage\": {\n",
      "    \"prompt_tokens\": 195,\n",
      "    \"completion_tokens\": 30,\n",
      "    \"total_tokens\": 225\n",
      "  }\n",
      "})\n"
     ]
    },
    {
     "name": "stderr",
     "output_type": "stream",
     "text": [
      " 84%|████████▍ | 42/50 [00:35<00:06,  1.28it/s]"
     ]
    },
    {
     "name": "stdout",
     "output_type": "stream",
     "text": [
      "('{\\n  \"DATE\": [\"the outdoor temperature in Beijing\"],\\n  \"GPE\": [\"Beijing\"],\\n  \"CARDINAL\": [\"minus 3 degrees\"],\\n  \"ORG\": [\"traffic police\"],\\n  \"PERSON\": [\"drivers\"]\\n}', <OpenAIObject chat.completion id=chatcmpl-8i01Z27NYfTA3VkOMH66DsQ0x3Yp5 at 0x7f3a792c3c40> JSON: {\n",
      "  \"id\": \"chatcmpl-8i01Z27NYfTA3VkOMH66DsQ0x3Yp5\",\n",
      "  \"object\": \"chat.completion\",\n",
      "  \"created\": 1705497217,\n",
      "  \"model\": \"gpt-35-turbo\",\n",
      "  \"choices\": [\n",
      "    {\n",
      "      \"finish_reason\": \"stop\",\n",
      "      \"index\": 0,\n",
      "      \"message\": {\n",
      "        \"role\": \"assistant\",\n",
      "        \"content\": \"{\\n  \\\"DATE\\\": [\\\"the outdoor temperature in Beijing\\\"],\\n  \\\"GPE\\\": [\\\"Beijing\\\"],\\n  \\\"CARDINAL\\\": [\\\"minus 3 degrees\\\"],\\n  \\\"ORG\\\": [\\\"traffic police\\\"],\\n  \\\"PERSON\\\": [\\\"drivers\\\"]\\n}\"\n",
      "      }\n",
      "    }\n",
      "  ],\n",
      "  \"usage\": {\n",
      "    \"prompt_tokens\": 197,\n",
      "    \"completion_tokens\": 48,\n",
      "    \"total_tokens\": 245\n",
      "  }\n",
      "})\n"
     ]
    },
    {
     "name": "stderr",
     "output_type": "stream",
     "text": [
      " 86%|████████▌ | 43/50 [00:35<00:04,  1.44it/s]"
     ]
    },
    {
     "name": "stdout",
     "output_type": "stream",
     "text": [
      "('{\\n  \"FAC\": [],\\n  \"GPE\": [],\\n  \"LOC\": [],\\n  \"ORG\": [\"Taiwan\"],\\n  \"PERSON\": []\\n}', <OpenAIObject chat.completion id=chatcmpl-8i01aLFyCjL2eNt6Q6wePtBJLoCot at 0x7f3a8431e7a0> JSON: {\n",
      "  \"id\": \"chatcmpl-8i01aLFyCjL2eNt6Q6wePtBJLoCot\",\n",
      "  \"object\": \"chat.completion\",\n",
      "  \"created\": 1705497218,\n",
      "  \"model\": \"gpt-35-turbo\",\n",
      "  \"choices\": [\n",
      "    {\n",
      "      \"finish_reason\": \"stop\",\n",
      "      \"index\": 0,\n",
      "      \"message\": {\n",
      "        \"role\": \"assistant\",\n",
      "        \"content\": \"{\\n  \\\"FAC\\\": [],\\n  \\\"GPE\\\": [],\\n  \\\"LOC\\\": [],\\n  \\\"ORG\\\": [\\\"Taiwan\\\"],\\n  \\\"PERSON\\\": []\\n}\"\n",
      "      }\n",
      "    }\n",
      "  ],\n",
      "  \"usage\": {\n",
      "    \"prompt_tokens\": 205,\n",
      "    \"completion_tokens\": 32,\n",
      "    \"total_tokens\": 237\n",
      "  }\n",
      "})\n"
     ]
    },
    {
     "name": "stderr",
     "output_type": "stream",
     "text": [
      " 88%|████████▊ | 44/50 [00:36<00:04,  1.26it/s]"
     ]
    },
    {
     "name": "stdout",
     "output_type": "stream",
     "text": [
      "('{\\n  \"CARDINAL\": [],\\n  \"DATE\": [],\\n  \"EVENT\": [],\\n  \"FAC\": [],\\n  \"GPE\": [\"foreign countries\"],\\n  \"LANGUAGE\": [],\\n  \"LAW\": [],\\n  \"LOC\": [],\\n  \"MONEY\": [],\\n  \"NORP\": [],\\n  \"ORDINAL\": [],\\n  \"ORG\": [],\\n  \"PERCENT\": [\"1 %\"],\\n  \"PERSON\": [],\\n  \"PRODUCT\": [],\\n  \"QUANTITY\": [],\\n  \"TIME\": []\\n}\\n<end_output>', <OpenAIObject chat.completion id=chatcmpl-8i01a8rNjbptxcrCmgvOH6fJrNEyE at 0x7f3a70e32bb0> JSON: {\n",
      "  \"id\": \"chatcmpl-8i01a8rNjbptxcrCmgvOH6fJrNEyE\",\n",
      "  \"object\": \"chat.completion\",\n",
      "  \"created\": 1705497218,\n",
      "  \"model\": \"gpt-35-turbo\",\n",
      "  \"choices\": [\n",
      "    {\n",
      "      \"finish_reason\": \"stop\",\n",
      "      \"index\": 0,\n",
      "      \"message\": {\n",
      "        \"role\": \"assistant\",\n",
      "        \"content\": \"{\\n  \\\"CARDINAL\\\": [],\\n  \\\"DATE\\\": [],\\n  \\\"EVENT\\\": [],\\n  \\\"FAC\\\": [],\\n  \\\"GPE\\\": [\\\"foreign countries\\\"],\\n  \\\"LANGUAGE\\\": [],\\n  \\\"LAW\\\": [],\\n  \\\"LOC\\\": [],\\n  \\\"MONEY\\\": [],\\n  \\\"NORP\\\": [],\\n  \\\"ORDINAL\\\": [],\\n  \\\"ORG\\\": [],\\n  \\\"PERCENT\\\": [\\\"1 %\\\"],\\n  \\\"PERSON\\\": [],\\n  \\\"PRODUCT\\\": [],\\n  \\\"QUANTITY\\\": [],\\n  \\\"TIME\\\": []\\n}\\n<end_output>\"\n",
      "      }\n",
      "    }\n",
      "  ],\n",
      "  \"usage\": {\n",
      "    \"prompt_tokens\": 206,\n",
      "    \"completion_tokens\": 107,\n",
      "    \"total_tokens\": 313\n",
      "  }\n",
      "})\n"
     ]
    },
    {
     "name": "stderr",
     "output_type": "stream",
     "text": [
      " 90%|█████████ | 45/50 [00:38<00:04,  1.06it/s]"
     ]
    },
    {
     "name": "stdout",
     "output_type": "stream",
     "text": [
      "('{\\n  \"PERSON\": [\"David Williams\"],\\n  \"ORG\": [],\\n  \"GPE\": [],\\n  \"DATE\": [],\\n  \"CARDINAL\": [],\\n  \"MONEY\": [],\\n  \"PERCENT\": [],\\n  \"FAC\": [],\\n  \"NORP\": [],\\n  \"LOC\": [],\\n  \"PRODUCT\": [],\\n  \"EVENT\": [],\\n  \"WORK_OF_ART\": [],\\n  \"LAW\": [],\\n  \"LANGUAGE\": [],\\n  \"TIME\": []\\n}', <OpenAIObject chat.completion id=chatcmpl-8i01bHpj343q9WvMsIyq3IWWpFsR2 at 0x7f3a792bacf0> JSON: {\n",
      "  \"id\": \"chatcmpl-8i01bHpj343q9WvMsIyq3IWWpFsR2\",\n",
      "  \"object\": \"chat.completion\",\n",
      "  \"created\": 1705497219,\n",
      "  \"model\": \"gpt-35-turbo\",\n",
      "  \"choices\": [\n",
      "    {\n",
      "      \"finish_reason\": \"stop\",\n",
      "      \"index\": 0,\n",
      "      \"message\": {\n",
      "        \"role\": \"assistant\",\n",
      "        \"content\": \"{\\n  \\\"PERSON\\\": [\\\"David Williams\\\"],\\n  \\\"ORG\\\": [],\\n  \\\"GPE\\\": [],\\n  \\\"DATE\\\": [],\\n  \\\"CARDINAL\\\": [],\\n  \\\"MONEY\\\": [],\\n  \\\"PERCENT\\\": [],\\n  \\\"FAC\\\": [],\\n  \\\"NORP\\\": [],\\n  \\\"LOC\\\": [],\\n  \\\"PRODUCT\\\": [],\\n  \\\"EVENT\\\": [],\\n  \\\"WORK_OF_ART\\\": [],\\n  \\\"LAW\\\": [],\\n  \\\"LANGUAGE\\\": [],\\n  \\\"TIME\\\": []\\n}\"\n",
      "      }\n",
      "    }\n",
      "  ],\n",
      "  \"usage\": {\n",
      "    \"prompt_tokens\": 206,\n",
      "    \"completion_tokens\": 95,\n",
      "    \"total_tokens\": 301\n",
      "  }\n",
      "})\n"
     ]
    },
    {
     "name": "stderr",
     "output_type": "stream",
     "text": [
      " 92%|█████████▏| 46/50 [00:38<00:03,  1.24it/s]"
     ]
    },
    {
     "name": "stdout",
     "output_type": "stream",
     "text": [
      "('{\\n  \"PERSON\": [\"Arianna Huffington\", \"Judy Miller\", \"Valerie Plame\", \"Jill Abrahamson\"],\\n  \"ORG\": [\"Times\"],\\n  \"DATE\": [\"two years ago\"]\\n}\\n<end_output>', <OpenAIObject chat.completion id=chatcmpl-8i01dyMeUQjAAcdPcATz2jIcRUzUw at 0x7f3a70e32bb0> JSON: {\n",
      "  \"id\": \"chatcmpl-8i01dyMeUQjAAcdPcATz2jIcRUzUw\",\n",
      "  \"object\": \"chat.completion\",\n",
      "  \"created\": 1705497221,\n",
      "  \"model\": \"gpt-35-turbo\",\n",
      "  \"choices\": [\n",
      "    {\n",
      "      \"finish_reason\": \"stop\",\n",
      "      \"index\": 0,\n",
      "      \"message\": {\n",
      "        \"role\": \"assistant\",\n",
      "        \"content\": \"{\\n  \\\"PERSON\\\": [\\\"Arianna Huffington\\\", \\\"Judy Miller\\\", \\\"Valerie Plame\\\", \\\"Jill Abrahamson\\\"],\\n  \\\"ORG\\\": [\\\"Times\\\"],\\n  \\\"DATE\\\": [\\\"two years ago\\\"]\\n}\\n<end_output>\"\n",
      "      }\n",
      "    }\n",
      "  ],\n",
      "  \"usage\": {\n",
      "    \"prompt_tokens\": 221,\n",
      "    \"completion_tokens\": 49,\n",
      "    \"total_tokens\": 270\n",
      "  }\n",
      "})\n"
     ]
    },
    {
     "name": "stderr",
     "output_type": "stream",
     "text": [
      " 94%|█████████▍| 47/50 [00:39<00:02,  1.40it/s]"
     ]
    },
    {
     "name": "stdout",
     "output_type": "stream",
     "text": [
      "('{\\n  \"PERSON\": [\"Yates\"],\\n  \"DATE\": [\"the 1960s\"],\\n  \"ORG\": [\"U.S Senate\", \"Chicago\"]\\n}', <OpenAIObject chat.completion id=chatcmpl-8i01dA2twG5zjXjeValvCk2I6O675 at 0x7f3a84426d40> JSON: {\n",
      "  \"id\": \"chatcmpl-8i01dA2twG5zjXjeValvCk2I6O675\",\n",
      "  \"object\": \"chat.completion\",\n",
      "  \"created\": 1705497221,\n",
      "  \"model\": \"gpt-35-turbo\",\n",
      "  \"choices\": [\n",
      "    {\n",
      "      \"finish_reason\": \"stop\",\n",
      "      \"index\": 0,\n",
      "      \"message\": {\n",
      "        \"role\": \"assistant\",\n",
      "        \"content\": \"{\\n  \\\"PERSON\\\": [\\\"Yates\\\"],\\n  \\\"DATE\\\": [\\\"the 1960s\\\"],\\n  \\\"ORG\\\": [\\\"U.S Senate\\\", \\\"Chicago\\\"]\\n}\"\n",
      "      }\n",
      "    }\n",
      "  ],\n",
      "  \"usage\": {\n",
      "    \"prompt_tokens\": 198,\n",
      "    \"completion_tokens\": 33,\n",
      "    \"total_tokens\": 231\n",
      "  }\n",
      "})\n"
     ]
    },
    {
     "name": "stderr",
     "output_type": "stream",
     "text": [
      " 96%|█████████▌| 48/50 [00:39<00:01,  1.46it/s]"
     ]
    },
    {
     "name": "stdout",
     "output_type": "stream",
     "text": [
      "('{\\n  \"ORG\": [\"Time Warner Inc.\"],\\n  \"DATE\": [\"last week\"],\\n  \"MONEY\": [\"$ 4\", \"$ 55\"],\\n  \"CARDINAL\": [\"300,000\", \"four million\"]\\n}', <OpenAIObject chat.completion id=chatcmpl-8i01e69m1MvWPBStdNl3KMkh3uFzW at 0x7f3a792bacf0> JSON: {\n",
      "  \"id\": \"chatcmpl-8i01e69m1MvWPBStdNl3KMkh3uFzW\",\n",
      "  \"object\": \"chat.completion\",\n",
      "  \"created\": 1705497222,\n",
      "  \"model\": \"gpt-35-turbo\",\n",
      "  \"choices\": [\n",
      "    {\n",
      "      \"finish_reason\": \"stop\",\n",
      "      \"index\": 0,\n",
      "      \"message\": {\n",
      "        \"role\": \"assistant\",\n",
      "        \"content\": \"{\\n  \\\"ORG\\\": [\\\"Time Warner Inc.\\\"],\\n  \\\"DATE\\\": [\\\"last week\\\"],\\n  \\\"MONEY\\\": [\\\"$ 4\\\", \\\"$ 55\\\"],\\n  \\\"CARDINAL\\\": [\\\"300,000\\\", \\\"four million\\\"]\\n}\"\n",
      "      }\n",
      "    }\n",
      "  ],\n",
      "  \"usage\": {\n",
      "    \"prompt_tokens\": 238,\n",
      "    \"completion_tokens\": 48,\n",
      "    \"total_tokens\": 286\n",
      "  }\n",
      "})\n"
     ]
    },
    {
     "name": "stderr",
     "output_type": "stream",
     "text": [
      " 98%|█████████▊| 49/50 [00:41<00:00,  1.12it/s]"
     ]
    },
    {
     "name": "stdout",
     "output_type": "stream",
     "text": [
      "('{\\n  \"ORG\": [\\n    \"Brown\",\\n    \"Westinghouse Company\",\\n    \"Shanghai Electric Group\",\\n    \"General Electric Capital Company\",\\n    \"Shanghai Electricity Company\"\\n  ],\\n  \"DATE\": [\\n    \"Today\",\\n    \"20 - year\"\\n  ],\\n  \"MISC\": [\\n    \"power plant equipment manufacturer\",\\n    \"combustible engine electric power generation company\"\\n  ],\\n  \"LOC\": [\\n    \"US\",\\n    \"Shanghai\"\\n  ]\\n}', <OpenAIObject chat.completion id=chatcmpl-8i01eqtdsE98wa2PMfr91jwfyzHn6 at 0x7f3a792c3c40> JSON: {\n",
      "  \"id\": \"chatcmpl-8i01eqtdsE98wa2PMfr91jwfyzHn6\",\n",
      "  \"object\": \"chat.completion\",\n",
      "  \"created\": 1705497222,\n",
      "  \"model\": \"gpt-35-turbo\",\n",
      "  \"choices\": [\n",
      "    {\n",
      "      \"finish_reason\": \"stop\",\n",
      "      \"index\": 0,\n",
      "      \"message\": {\n",
      "        \"role\": \"assistant\",\n",
      "        \"content\": \"{\\n  \\\"ORG\\\": [\\n    \\\"Brown\\\",\\n    \\\"Westinghouse Company\\\",\\n    \\\"Shanghai Electric Group\\\",\\n    \\\"General Electric Capital Company\\\",\\n    \\\"Shanghai Electricity Company\\\"\\n  ],\\n  \\\"DATE\\\": [\\n    \\\"Today\\\",\\n    \\\"20 - year\\\"\\n  ],\\n  \\\"MISC\\\": [\\n    \\\"power plant equipment manufacturer\\\",\\n    \\\"combustible engine electric power generation company\\\"\\n  ],\\n  \\\"LOC\\\": [\\n    \\\"US\\\",\\n    \\\"Shanghai\\\"\\n  ]\\n}\"\n",
      "      }\n",
      "    }\n",
      "  ],\n",
      "  \"usage\": {\n",
      "    \"prompt_tokens\": 236,\n",
      "    \"completion_tokens\": 100,\n",
      "    \"total_tokens\": 336\n",
      "  }\n",
      "})\n"
     ]
    },
    {
     "name": "stderr",
     "output_type": "stream",
     "text": [
      "100%|██████████| 50/50 [00:41<00:00,  1.20it/s]"
     ]
    },
    {
     "name": "stdout",
     "output_type": "stream",
     "text": [
      "('{\\n  \"ORG\": [\"FBI\", \"USS Cole\"],\\n  \"GPE\": [\"Yemen\"],\\n  \"DATE\": [],\\n  \"PERSON\": []\\n}', <OpenAIObject chat.completion id=chatcmpl-8i01g15p947MFUcrCGpV3ExgjBn1I at 0x7f3a792bacf0> JSON: {\n",
      "  \"id\": \"chatcmpl-8i01g15p947MFUcrCGpV3ExgjBn1I\",\n",
      "  \"object\": \"chat.completion\",\n",
      "  \"created\": 1705497224,\n",
      "  \"model\": \"gpt-35-turbo\",\n",
      "  \"choices\": [\n",
      "    {\n",
      "      \"finish_reason\": \"stop\",\n",
      "      \"index\": 0,\n",
      "      \"message\": {\n",
      "        \"role\": \"assistant\",\n",
      "        \"content\": \"{\\n  \\\"ORG\\\": [\\\"FBI\\\", \\\"USS Cole\\\"],\\n  \\\"GPE\\\": [\\\"Yemen\\\"],\\n  \\\"DATE\\\": [],\\n  \\\"PERSON\\\": []\\n}\"\n",
      "      }\n",
      "    }\n",
      "  ],\n",
      "  \"usage\": {\n",
      "    \"prompt_tokens\": 192,\n",
      "    \"completion_tokens\": 34,\n",
      "    \"total_tokens\": 226\n",
      "  }\n",
      "})\n"
     ]
    },
    {
     "name": "stderr",
     "output_type": "stream",
     "text": [
      "\n",
      "/myhome/miniconda3/lib/python3.10/site-packages/numpy/core/_methods.py:206: RuntimeWarning: Degrees of freedom <= 0 for slice\n",
      "  ret = _var(a, axis=axis, dtype=dtype, out=out, ddof=ddof,\n",
      "/myhome/miniconda3/lib/python3.10/site-packages/numpy/core/_methods.py:198: RuntimeWarning: invalid value encountered in scalar divide\n",
      "  ret = ret.dtype.type(ret / rcount)\n"
     ]
    },
    {
     "data": {
      "text/html": [
       "<div>\n",
       "<style scoped>\n",
       "    .dataframe tbody tr th:only-of-type {\n",
       "        vertical-align: middle;\n",
       "    }\n",
       "\n",
       "    .dataframe tbody tr th {\n",
       "        vertical-align: top;\n",
       "    }\n",
       "\n",
       "    .dataframe thead th {\n",
       "        text-align: right;\n",
       "    }\n",
       "</style>\n",
       "<table border=\"1\" class=\"dataframe\">\n",
       "  <thead>\n",
       "    <tr style=\"text-align: right;\">\n",
       "      <th></th>\n",
       "      <th>f1_mean</th>\n",
       "      <th>f1_conf_inter</th>\n",
       "      <th>model</th>\n",
       "      <th>noshots</th>\n",
       "      <th>prompt_technique</th>\n",
       "      <th>few_shot_tecnique</th>\n",
       "      <th>nb_few_shots</th>\n",
       "      <th>precision</th>\n",
       "      <th>plus_plus</th>\n",
       "      <th>verifier</th>\n",
       "      <th>len_data_train</th>\n",
       "      <th>len_data_test</th>\n",
       "      <th>nb_test_run</th>\n",
       "      <th>confidence_interval</th>\n",
       "      <th>distribution_used</th>\n",
       "      <th>precision_mean</th>\n",
       "      <th>precision_conf_inter</th>\n",
       "      <th>recall_mean</th>\n",
       "      <th>recall_conf_inter</th>\n",
       "    </tr>\n",
       "  </thead>\n",
       "  <tbody>\n",
       "    <tr>\n",
       "      <th>0</th>\n",
       "      <td>0.202</td>\n",
       "      <td>(nan, nan)</td>\n",
       "      <td>chat-gpt-3.5</td>\n",
       "      <td>False</td>\n",
       "      <td>filing</td>\n",
       "      <td>no-shots</td>\n",
       "      <td>0</td>\n",
       "      <td>False</td>\n",
       "      <td>True</td>\n",
       "      <td>None</td>\n",
       "      <td>1353</td>\n",
       "      <td>50</td>\n",
       "      <td>1</td>\n",
       "      <td>0.95</td>\n",
       "      <td>Student</td>\n",
       "      <td>0.344</td>\n",
       "      <td>(nan, nan)</td>\n",
       "      <td>0.146</td>\n",
       "      <td>(nan, nan)</td>\n",
       "    </tr>\n",
       "  </tbody>\n",
       "</table>\n",
       "</div>"
      ],
      "text/plain": [
       "   f1_mean f1_conf_inter         model  noshots prompt_technique  \\\n",
       "0    0.202    (nan, nan)  chat-gpt-3.5    False           filing   \n",
       "\n",
       "  few_shot_tecnique  nb_few_shots  precision  plus_plus verifier  \\\n",
       "0          no-shots             0      False       True     None   \n",
       "\n",
       "   len_data_train  len_data_test  nb_test_run  confidence_interval  \\\n",
       "0            1353             50            1                 0.95   \n",
       "\n",
       "  distribution_used  precision_mean precision_conf_inter  recall_mean  \\\n",
       "0           Student           0.344           (nan, nan)        0.146   \n",
       "\n",
       "  recall_conf_inter  \n",
       "0        (nan, nan)  "
      ]
     },
     "execution_count": 14,
     "metadata": {},
     "output_type": "execute_result"
    }
   ],
   "source": [
    "\n",
    "\n",
    "# model = MistralAI()\n",
    "plus_plus = True\n",
    "pts = [\n",
    "       # PT_GPT_NER, \n",
    "       # PT_OutputList, \n",
    "       # PT_Wrapper, \n",
    "       # PT_2Time_Tagger,\n",
    "       PT_Filing\n",
    "       ]\n",
    "results, results_df = model.classical_test_ontonote5(pts = pts, fsts = [FST_Sentence], nb_few_shots=[3,10], nb_run_by_test=1, plus_plus= plus_plus, test_size = 50)\n",
    "print(results_df)\n",
    "results, results_df = model.classical_test_ontonote5(pts = pts, fsts = [FST_NoShots], nb_few_shots=[0] ,nb_run_by_test=1, plus_plus= plus_plus, test_size = 50)\n",
    "results_df"
   ]
  },
  {
   "cell_type": "code",
   "execution_count": 15,
   "metadata": {},
   "outputs": [
    {
     "name": "stdout",
     "output_type": "stream",
     "text": [
      "Testing with sentence\n",
      "      and filing\n"
     ]
    },
    {
     "data": {
      "application/vnd.jupyter.widget-view+json": {
       "model_id": "c2d7d537254d4e1993d474790806ec64",
       "version_major": 2,
       "version_minor": 0
      },
      "text/plain": [
       "Map:   0%|          | 0/1488 [00:00<?, ? examples/s]"
      ]
     },
     "metadata": {},
     "output_type": "display_data"
    },
    {
     "data": {
      "application/vnd.jupyter.widget-view+json": {
       "model_id": "c82f9628499941b5a64349beca35aaf0",
       "version_major": 2,
       "version_minor": 0
      },
      "text/plain": [
       "Map:   0%|          | 0/100 [00:00<?, ? examples/s]"
      ]
     },
     "metadata": {},
     "output_type": "display_data"
    },
    {
     "name": "stderr",
     "output_type": "stream",
     "text": [
      "  1%|          | 1/100 [00:01<02:41,  1.63s/it]"
     ]
    },
    {
     "name": "stdout",
     "output_type": "stream",
     "text": [
      "('{\\n  \"PER\": [\"Livshits\"],\\n  \"ORG\": [\"company\"]\\n}', <OpenAIObject chat.completion id=chatcmpl-8i01qdzsvvN8JvCw1Z7KGKvXdf5pw at 0x7f3a7475d5d0> JSON: {\n",
      "  \"id\": \"chatcmpl-8i01qdzsvvN8JvCw1Z7KGKvXdf5pw\",\n",
      "  \"object\": \"chat.completion\",\n",
      "  \"created\": 1705497234,\n",
      "  \"model\": \"gpt-35-turbo\",\n",
      "  \"choices\": [\n",
      "    {\n",
      "      \"finish_reason\": \"stop\",\n",
      "      \"index\": 0,\n",
      "      \"message\": {\n",
      "        \"role\": \"assistant\",\n",
      "        \"content\": \"{\\n  \\\"PER\\\": [\\\"Livshits\\\"],\\n  \\\"ORG\\\": [\\\"company\\\"]\\n}\"\n",
      "      }\n",
      "    }\n",
      "  ],\n",
      "  \"usage\": {\n",
      "    \"prompt_tokens\": 361,\n",
      "    \"completion_tokens\": 18,\n",
      "    \"total_tokens\": 379\n",
      "  }\n",
      "})\n"
     ]
    },
    {
     "name": "stderr",
     "output_type": "stream",
     "text": [
      "  2%|▏         | 2/100 [00:02<02:06,  1.29s/it]"
     ]
    },
    {
     "name": "stdout",
     "output_type": "stream",
     "text": [
      "('{\\n  \"ORG\": [\"Newmont\", \"Santa Fe\"],\\n  \"CARDINAL\": [\"two to three years\"]\\n}', <OpenAIObject chat.completion id=chatcmpl-8i01rQ6i3oxJKlRFPmkvx5J8544un at 0x7f3aa922c540> JSON: {\n",
      "  \"id\": \"chatcmpl-8i01rQ6i3oxJKlRFPmkvx5J8544un\",\n",
      "  \"object\": \"chat.completion\",\n",
      "  \"created\": 1705497235,\n",
      "  \"model\": \"gpt-35-turbo\",\n",
      "  \"choices\": [\n",
      "    {\n",
      "      \"finish_reason\": \"stop\",\n",
      "      \"index\": 0,\n",
      "      \"message\": {\n",
      "        \"role\": \"assistant\",\n",
      "        \"content\": \"{\\n  \\\"ORG\\\": [\\\"Newmont\\\", \\\"Santa Fe\\\"],\\n  \\\"CARDINAL\\\": [\\\"two to three years\\\"]\\n}\"\n",
      "      }\n",
      "    }\n",
      "  ],\n",
      "  \"usage\": {\n",
      "    \"prompt_tokens\": 407,\n",
      "    \"completion_tokens\": 25,\n",
      "    \"total_tokens\": 432\n",
      "  }\n",
      "})\n"
     ]
    },
    {
     "name": "stderr",
     "output_type": "stream",
     "text": [
      "  3%|▎         | 3/100 [00:03<01:57,  1.21s/it]"
     ]
    },
    {
     "name": "stdout",
     "output_type": "stream",
     "text": [
      "('{\\n  \"PER\": [\"Australia\", \"Lara\"],\\n  \"ORG\": [\"Sydney Cricket Ground\"],\\n  \"CARDINAL\": [\"124\", \"two-nil\", \"five-test\"]\\n}', <OpenAIObject chat.completion id=chatcmpl-8i01shMLe6JT7VAl8vdD3ZBljqFWd at 0x7f3a848457b0> JSON: {\n",
      "  \"id\": \"chatcmpl-8i01shMLe6JT7VAl8vdD3ZBljqFWd\",\n",
      "  \"object\": \"chat.completion\",\n",
      "  \"created\": 1705497236,\n",
      "  \"model\": \"gpt-35-turbo\",\n",
      "  \"choices\": [\n",
      "    {\n",
      "      \"finish_reason\": \"stop\",\n",
      "      \"index\": 0,\n",
      "      \"message\": {\n",
      "        \"role\": \"assistant\",\n",
      "        \"content\": \"{\\n  \\\"PER\\\": [\\\"Australia\\\", \\\"Lara\\\"],\\n  \\\"ORG\\\": [\\\"Sydney Cricket Ground\\\"],\\n  \\\"CARDINAL\\\": [\\\"124\\\", \\\"two-nil\\\", \\\"five-test\\\"]\\n}\"\n",
      "      }\n",
      "    }\n",
      "  ],\n",
      "  \"usage\": {\n",
      "    \"prompt_tokens\": 388,\n",
      "    \"completion_tokens\": 39,\n",
      "    \"total_tokens\": 427\n",
      "  }\n",
      "})\n"
     ]
    },
    {
     "name": "stderr",
     "output_type": "stream",
     "text": [
      "  4%|▍         | 4/100 [00:05<02:01,  1.27s/it]"
     ]
    },
    {
     "name": "stdout",
     "output_type": "stream",
     "text": [
      "('{\\n  \"ORG\": [\"NYMEX\", \"National Weather Service\"],\\n  \"LOC\": [\"Henry Hub\"],\\n  \"MISC\": [\"Friday\"]\\n}', <OpenAIObject chat.completion id=chatcmpl-8i01t4sZu06v6XvgjmkkwPiUQjK69 at 0x7f3a848457b0> JSON: {\n",
      "  \"id\": \"chatcmpl-8i01t4sZu06v6XvgjmkkwPiUQjK69\",\n",
      "  \"object\": \"chat.completion\",\n",
      "  \"created\": 1705497237,\n",
      "  \"model\": \"gpt-35-turbo\",\n",
      "  \"choices\": [\n",
      "    {\n",
      "      \"finish_reason\": \"stop\",\n",
      "      \"index\": 0,\n",
      "      \"message\": {\n",
      "        \"role\": \"assistant\",\n",
      "        \"content\": \"{\\n  \\\"ORG\\\": [\\\"NYMEX\\\", \\\"National Weather Service\\\"],\\n  \\\"LOC\\\": [\\\"Henry Hub\\\"],\\n  \\\"MISC\\\": [\\\"Friday\\\"]\\n}\"\n",
      "      }\n",
      "    }\n",
      "  ],\n",
      "  \"usage\": {\n",
      "    \"prompt_tokens\": 374,\n",
      "    \"completion_tokens\": 32,\n",
      "    \"total_tokens\": 406\n",
      "  }\n",
      "})\n"
     ]
    },
    {
     "name": "stderr",
     "output_type": "stream",
     "text": [
      "  5%|▌         | 5/100 [00:06<01:53,  1.20s/it]"
     ]
    },
    {
     "name": "stdout",
     "output_type": "stream",
     "text": [
      "('{\\n  \"PER\": [],\\n  \"ORG\": [],\\n  \"LOC\": [\\n    \"Lanarkshire county\"\\n  ],\\n  \"MISC\": []\\n}', <OpenAIObject chat.completion id=chatcmpl-8i01vnzFgPG3UCvR0w6Njd1rbKX3x at 0x7f3a848457b0> JSON: {\n",
      "  \"id\": \"chatcmpl-8i01vnzFgPG3UCvR0w6Njd1rbKX3x\",\n",
      "  \"object\": \"chat.completion\",\n",
      "  \"created\": 1705497239,\n",
      "  \"model\": \"gpt-35-turbo\",\n",
      "  \"choices\": [\n",
      "    {\n",
      "      \"finish_reason\": \"stop\",\n",
      "      \"index\": 0,\n",
      "      \"message\": {\n",
      "        \"role\": \"assistant\",\n",
      "        \"content\": \"{\\n  \\\"PER\\\": [],\\n  \\\"ORG\\\": [],\\n  \\\"LOC\\\": [\\n    \\\"Lanarkshire county\\\"\\n  ],\\n  \\\"MISC\\\": []\\n}\"\n",
      "      }\n",
      "    }\n",
      "  ],\n",
      "  \"usage\": {\n",
      "    \"prompt_tokens\": 341,\n",
      "    \"completion_tokens\": 33,\n",
      "    \"total_tokens\": 374\n",
      "  }\n",
      "})\n"
     ]
    },
    {
     "name": "stderr",
     "output_type": "stream",
     "text": [
      "  6%|▌         | 6/100 [00:07<01:55,  1.23s/it]"
     ]
    },
    {
     "name": "stdout",
     "output_type": "stream",
     "text": [
      "('{\\n  \"PER\": [],\\n  \"ORG\": [],\\n  \"LOC\": [\"Beirut\"],\\n  \"MISC\": [\"Lebanese army\", \"Israel\"]\\n}', <OpenAIObject chat.completion id=chatcmpl-8i01w13vn21hMjYQ3Y6F0XNQi0cFu at 0x7f3a8431f1f0> JSON: {\n",
      "  \"id\": \"chatcmpl-8i01w13vn21hMjYQ3Y6F0XNQi0cFu\",\n",
      "  \"object\": \"chat.completion\",\n",
      "  \"created\": 1705497240,\n",
      "  \"model\": \"gpt-35-turbo\",\n",
      "  \"choices\": [\n",
      "    {\n",
      "      \"finish_reason\": \"stop\",\n",
      "      \"index\": 0,\n",
      "      \"message\": {\n",
      "        \"role\": \"assistant\",\n",
      "        \"content\": \"{\\n  \\\"PER\\\": [],\\n  \\\"ORG\\\": [],\\n  \\\"LOC\\\": [\\\"Beirut\\\"],\\n  \\\"MISC\\\": [\\\"Lebanese army\\\", \\\"Israel\\\"]\\n}\"\n",
      "      }\n",
      "    }\n",
      "  ],\n",
      "  \"usage\": {\n",
      "    \"prompt_tokens\": 345,\n",
      "    \"completion_tokens\": 34,\n",
      "    \"total_tokens\": 379\n",
      "  }\n",
      "})\n"
     ]
    },
    {
     "name": "stderr",
     "output_type": "stream",
     "text": [
      "  7%|▋         | 7/100 [00:08<01:50,  1.19s/it]"
     ]
    },
    {
     "name": "stdout",
     "output_type": "stream",
     "text": [
      "('{\\n  \"PER\": [],\\n  \"ORG\": [],\\n  \"LOC\": [],\\n  \"MISC\": []\\n}', <OpenAIObject chat.completion id=chatcmpl-8i01x1Zva0bILCiwSAaiXPiGgaTJI at 0x7f3a84844fe0> JSON: {\n",
      "  \"id\": \"chatcmpl-8i01x1Zva0bILCiwSAaiXPiGgaTJI\",\n",
      "  \"object\": \"chat.completion\",\n",
      "  \"created\": 1705497241,\n",
      "  \"model\": \"gpt-35-turbo\",\n",
      "  \"choices\": [\n",
      "    {\n",
      "      \"finish_reason\": \"stop\",\n",
      "      \"index\": 0,\n",
      "      \"message\": {\n",
      "        \"role\": \"assistant\",\n",
      "        \"content\": \"{\\n  \\\"PER\\\": [],\\n  \\\"ORG\\\": [],\\n  \\\"LOC\\\": [],\\n  \\\"MISC\\\": []\\n}\"\n",
      "      }\n",
      "    }\n",
      "  ],\n",
      "  \"usage\": {\n",
      "    \"prompt_tokens\": 331,\n",
      "    \"completion_tokens\": 23,\n",
      "    \"total_tokens\": 354\n",
      "  }\n",
      "})\n"
     ]
    },
    {
     "name": "stderr",
     "output_type": "stream",
     "text": [
      "  8%|▊         | 8/100 [00:09<01:48,  1.18s/it]"
     ]
    },
    {
     "name": "stdout",
     "output_type": "stream",
     "text": [
      "('{\\n  \"PER\": [\"Vaclav Havel\"],\\n  \"ORG\": [],\\n  \"LOC\": [],\\n  \"MISC\": [\"Doctors\"]\\n}', <OpenAIObject chat.completion id=chatcmpl-8i01yk3DOncsiWGG2nameU1cVUVud at 0x7f3a7475d5d0> JSON: {\n",
      "  \"id\": \"chatcmpl-8i01yk3DOncsiWGG2nameU1cVUVud\",\n",
      "  \"object\": \"chat.completion\",\n",
      "  \"created\": 1705497242,\n",
      "  \"model\": \"gpt-35-turbo\",\n",
      "  \"choices\": [\n",
      "    {\n",
      "      \"finish_reason\": \"stop\",\n",
      "      \"index\": 0,\n",
      "      \"message\": {\n",
      "        \"role\": \"assistant\",\n",
      "        \"content\": \"{\\n  \\\"PER\\\": [\\\"Vaclav Havel\\\"],\\n  \\\"ORG\\\": [],\\n  \\\"LOC\\\": [],\\n  \\\"MISC\\\": [\\\"Doctors\\\"]\\n}\"\n",
      "      }\n",
      "    }\n",
      "  ],\n",
      "  \"usage\": {\n",
      "    \"prompt_tokens\": 365,\n",
      "    \"completion_tokens\": 31,\n",
      "    \"total_tokens\": 396\n",
      "  }\n",
      "})\n"
     ]
    },
    {
     "name": "stderr",
     "output_type": "stream",
     "text": [
      "  9%|▉         | 9/100 [00:11<02:01,  1.33s/it]"
     ]
    },
    {
     "name": "stdout",
     "output_type": "stream",
     "text": [
      "('{\\n  \"LOC\": [\\n    \"Nevada\",\\n    \"California\",\\n    \"Montana\",\\n    \"Canada\",\\n    \"Brazil\",\\n    \"Australia\",\\n    \"Chile\",\\n    \"Kazakstan\",\\n    \"Mexico\",\\n    \"Ghana\"\\n  ]\\n}', <OpenAIObject chat.completion id=chatcmpl-8i01zdJdW9v6qCmKnjWiynyRgyYvw at 0x7f3a7475e8e0> JSON: {\n",
      "  \"id\": \"chatcmpl-8i01zdJdW9v6qCmKnjWiynyRgyYvw\",\n",
      "  \"object\": \"chat.completion\",\n",
      "  \"created\": 1705497243,\n",
      "  \"model\": \"gpt-35-turbo\",\n",
      "  \"choices\": [\n",
      "    {\n",
      "      \"finish_reason\": \"stop\",\n",
      "      \"index\": 0,\n",
      "      \"message\": {\n",
      "        \"role\": \"assistant\",\n",
      "        \"content\": \"{\\n  \\\"LOC\\\": [\\n    \\\"Nevada\\\",\\n    \\\"California\\\",\\n    \\\"Montana\\\",\\n    \\\"Canada\\\",\\n    \\\"Brazil\\\",\\n    \\\"Australia\\\",\\n    \\\"Chile\\\",\\n    \\\"Kazakstan\\\",\\n    \\\"Mexico\\\",\\n    \\\"Ghana\\\"\\n  ]\\n}\"\n",
      "      }\n",
      "    }\n",
      "  ],\n",
      "  \"usage\": {\n",
      "    \"prompt_tokens\": 381,\n",
      "    \"completion_tokens\": 57,\n",
      "    \"total_tokens\": 438\n",
      "  }\n",
      "})\n"
     ]
    },
    {
     "name": "stderr",
     "output_type": "stream",
     "text": [
      " 10%|█         | 10/100 [00:12<01:54,  1.28s/it]"
     ]
    },
    {
     "name": "stdout",
     "output_type": "stream",
     "text": [
      "('{\\n  \"MISC\": [\"18th anniversary\", \"Spain\\'s constitution\"],\\n  \"CARDINAL\": [\"several thousand\"]\\n}', <OpenAIObject chat.completion id=chatcmpl-8i021CBuWKQS0Nu0LAoRr5tQEmcFr at 0x7f3a7475d5d0> JSON: {\n",
      "  \"id\": \"chatcmpl-8i021CBuWKQS0Nu0LAoRr5tQEmcFr\",\n",
      "  \"object\": \"chat.completion\",\n",
      "  \"created\": 1705497245,\n",
      "  \"model\": \"gpt-35-turbo\",\n",
      "  \"choices\": [\n",
      "    {\n",
      "      \"finish_reason\": \"stop\",\n",
      "      \"index\": 0,\n",
      "      \"message\": {\n",
      "        \"role\": \"assistant\",\n",
      "        \"content\": \"{\\n  \\\"MISC\\\": [\\\"18th anniversary\\\", \\\"Spain's constitution\\\"],\\n  \\\"CARDINAL\\\": [\\\"several thousand\\\"]\\n}\"\n",
      "      }\n",
      "    }\n",
      "  ],\n",
      "  \"usage\": {\n",
      "    \"prompt_tokens\": 379,\n",
      "    \"completion_tokens\": 27,\n",
      "    \"total_tokens\": 406\n",
      "  }\n",
      "})\n"
     ]
    },
    {
     "name": "stderr",
     "output_type": "stream",
     "text": [
      " 11%|█         | 11/100 [00:13<01:50,  1.24s/it]"
     ]
    },
    {
     "name": "stdout",
     "output_type": "stream",
     "text": [
      "('{\\n  \"PER\": [\"Darrel Voeks\", \"Dennis Luebke\"],\\n  \"CARDINAL\": [\"38\", \"10-year\"]\\n}', <OpenAIObject chat.completion id=chatcmpl-8i022JkL8IYDxEURqIZPfJNBqtHPx at 0x7f3a84844fe0> JSON: {\n",
      "  \"id\": \"chatcmpl-8i022JkL8IYDxEURqIZPfJNBqtHPx\",\n",
      "  \"object\": \"chat.completion\",\n",
      "  \"created\": 1705497246,\n",
      "  \"model\": \"gpt-35-turbo\",\n",
      "  \"choices\": [\n",
      "    {\n",
      "      \"finish_reason\": \"stop\",\n",
      "      \"index\": 0,\n",
      "      \"message\": {\n",
      "        \"role\": \"assistant\",\n",
      "        \"content\": \"{\\n  \\\"PER\\\": [\\\"Darrel Voeks\\\", \\\"Dennis Luebke\\\"],\\n  \\\"CARDINAL\\\": [\\\"38\\\", \\\"10-year\\\"]\\n}\"\n",
      "      }\n",
      "    }\n",
      "  ],\n",
      "  \"usage\": {\n",
      "    \"prompt_tokens\": 378,\n",
      "    \"completion_tokens\": 32,\n",
      "    \"total_tokens\": 410\n",
      "  }\n",
      "})\n"
     ]
    },
    {
     "name": "stderr",
     "output_type": "stream",
     "text": [
      " 12%|█▏        | 12/100 [00:14<01:44,  1.18s/it]"
     ]
    },
    {
     "name": "stdout",
     "output_type": "stream",
     "text": [
      "('{\\n  \"ORG\": [\"CRICKET\", \"SHEFFIELD SHIELD\"],\\n  \"MISC\": [\"SCORE\"]\\n}', <OpenAIObject chat.completion id=chatcmpl-8i023egRm7bDM7L0Y39TxgbZeFKBT at 0x7f3a84844fe0> JSON: {\n",
      "  \"id\": \"chatcmpl-8i023egRm7bDM7L0Y39TxgbZeFKBT\",\n",
      "  \"object\": \"chat.completion\",\n",
      "  \"created\": 1705497247,\n",
      "  \"model\": \"gpt-35-turbo\",\n",
      "  \"choices\": [\n",
      "    {\n",
      "      \"finish_reason\": \"stop\",\n",
      "      \"index\": 0,\n",
      "      \"message\": {\n",
      "        \"role\": \"assistant\",\n",
      "        \"content\": \"{\\n  \\\"ORG\\\": [\\\"CRICKET\\\", \\\"SHEFFIELD SHIELD\\\"],\\n  \\\"MISC\\\": [\\\"SCORE\\\"]\\n}\"\n",
      "      }\n",
      "    }\n",
      "  ],\n",
      "  \"usage\": {\n",
      "    \"prompt_tokens\": 274,\n",
      "    \"completion_tokens\": 27,\n",
      "    \"total_tokens\": 301\n",
      "  }\n",
      "})\n"
     ]
    },
    {
     "name": "stderr",
     "output_type": "stream",
     "text": [
      " 13%|█▎        | 13/100 [00:15<01:38,  1.13s/it]"
     ]
    },
    {
     "name": "stdout",
     "output_type": "stream",
     "text": [
      "('{\\n  \"PER\": [],\\n  \"ORG\": [],\\n  \"LOC\": [],\\n  \"MISC\": [\\n    \"German\"\\n  ]\\n}', <OpenAIObject chat.completion id=chatcmpl-8i024WVYYvWPc326YjHJ8i1pi5ooS at 0x7f3a848457b0> JSON: {\n",
      "  \"id\": \"chatcmpl-8i024WVYYvWPc326YjHJ8i1pi5ooS\",\n",
      "  \"object\": \"chat.completion\",\n",
      "  \"created\": 1705497248,\n",
      "  \"model\": \"gpt-35-turbo\",\n",
      "  \"choices\": [\n",
      "    {\n",
      "      \"finish_reason\": \"stop\",\n",
      "      \"index\": 0,\n",
      "      \"message\": {\n",
      "        \"role\": \"assistant\",\n",
      "        \"content\": \"{\\n  \\\"PER\\\": [],\\n  \\\"ORG\\\": [],\\n  \\\"LOC\\\": [],\\n  \\\"MISC\\\": [\\n    \\\"German\\\"\\n  ]\\n}\"\n",
      "      }\n",
      "    }\n",
      "  ],\n",
      "  \"usage\": {\n",
      "    \"prompt_tokens\": 336,\n",
      "    \"completion_tokens\": 29,\n",
      "    \"total_tokens\": 365\n",
      "  }\n",
      "})\n"
     ]
    },
    {
     "name": "stderr",
     "output_type": "stream",
     "text": [
      " 14%|█▍        | 14/100 [00:17<01:39,  1.16s/it]"
     ]
    },
    {
     "name": "stdout",
     "output_type": "stream",
     "text": [
      "('{\\n  \"PER\": [],\\n  \"ORG\": [],\\n  \"LOC\": [],\\n  \"MISC\": [\\n    \"Italians\",\\n    \"tricolour flags\",\\n    \"red\",\\n    \"white\",\\n    \"green\",\\n    \"Viva Italia\"\\n  ]\\n}', <OpenAIObject chat.completion id=chatcmpl-8i025xXnBkt73oXBcMlNDaGck2Rvb at 0x7f3a8431f1f0> JSON: {\n",
      "  \"id\": \"chatcmpl-8i025xXnBkt73oXBcMlNDaGck2Rvb\",\n",
      "  \"object\": \"chat.completion\",\n",
      "  \"created\": 1705497249,\n",
      "  \"model\": \"gpt-35-turbo\",\n",
      "  \"choices\": [\n",
      "    {\n",
      "      \"finish_reason\": \"stop\",\n",
      "      \"index\": 0,\n",
      "      \"message\": {\n",
      "        \"role\": \"assistant\",\n",
      "        \"content\": \"{\\n  \\\"PER\\\": [],\\n  \\\"ORG\\\": [],\\n  \\\"LOC\\\": [],\\n  \\\"MISC\\\": [\\n    \\\"Italians\\\",\\n    \\\"tricolour flags\\\",\\n    \\\"red\\\",\\n    \\\"white\\\",\\n    \\\"green\\\",\\n    \\\"Viva Italia\\\"\\n  ]\\n}\"\n",
      "      }\n",
      "    }\n",
      "  ],\n",
      "  \"usage\": {\n",
      "    \"prompt_tokens\": 397,\n",
      "    \"completion_tokens\": 56,\n",
      "    \"total_tokens\": 453\n",
      "  }\n",
      "})\n"
     ]
    },
    {
     "name": "stderr",
     "output_type": "stream",
     "text": [
      " 15%|█▌        | 15/100 [00:18<01:34,  1.11s/it]"
     ]
    },
    {
     "name": "stdout",
     "output_type": "stream",
     "text": [
      "('{\\n  \"LOC\": [\"United Arab Emirates\", \"Kuwait\"]\\n}', <OpenAIObject chat.completion id=chatcmpl-8i026WCAEOFiFhdr9NkOCZob0j3Mj at 0x7f3a8431e660> JSON: {\n",
      "  \"id\": \"chatcmpl-8i026WCAEOFiFhdr9NkOCZob0j3Mj\",\n",
      "  \"object\": \"chat.completion\",\n",
      "  \"created\": 1705497250,\n",
      "  \"model\": \"gpt-35-turbo\",\n",
      "  \"choices\": [\n",
      "    {\n",
      "      \"finish_reason\": \"stop\",\n",
      "      \"index\": 0,\n",
      "      \"message\": {\n",
      "        \"role\": \"assistant\",\n",
      "        \"content\": \"{\\n  \\\"LOC\\\": [\\\"United Arab Emirates\\\", \\\"Kuwait\\\"]\\n}\"\n",
      "      }\n",
      "    }\n",
      "  ],\n",
      "  \"usage\": {\n",
      "    \"prompt_tokens\": 322,\n",
      "    \"completion_tokens\": 16,\n",
      "    \"total_tokens\": 338\n",
      "  }\n",
      "})\n"
     ]
    },
    {
     "name": "stderr",
     "output_type": "stream",
     "text": [
      " 16%|█▌        | 16/100 [00:19<01:37,  1.16s/it]"
     ]
    },
    {
     "name": "stdout",
     "output_type": "stream",
     "text": [
      "('{\\n  \"PER\": [],\\n  \"ORG\": [],\\n  \"LOC\": [],\\n  \"MISC\": [\\n    \"chow chows\",\\n    \"Rottweilers\",\\n    \"German shepherds\",\\n    \"cocker spaniels\",\\n    \"Dalmatians\"\\n  ]\\n}', <OpenAIObject chat.completion id=chatcmpl-8i027FxxnFkAAJo0yZIJtSmG59MRs at 0x7f3a7475e8e0> JSON: {\n",
      "  \"id\": \"chatcmpl-8i027FxxnFkAAJo0yZIJtSmG59MRs\",\n",
      "  \"object\": \"chat.completion\",\n",
      "  \"created\": 1705497251,\n",
      "  \"model\": \"gpt-35-turbo\",\n",
      "  \"choices\": [\n",
      "    {\n",
      "      \"finish_reason\": \"stop\",\n",
      "      \"index\": 0,\n",
      "      \"message\": {\n",
      "        \"role\": \"assistant\",\n",
      "        \"content\": \"{\\n  \\\"PER\\\": [],\\n  \\\"ORG\\\": [],\\n  \\\"LOC\\\": [],\\n  \\\"MISC\\\": [\\n    \\\"chow chows\\\",\\n    \\\"Rottweilers\\\",\\n    \\\"German shepherds\\\",\\n    \\\"cocker spaniels\\\",\\n    \\\"Dalmatians\\\"\\n  ]\\n}\"\n",
      "      }\n",
      "    }\n",
      "  ],\n",
      "  \"usage\": {\n",
      "    \"prompt_tokens\": 360,\n",
      "    \"completion_tokens\": 61,\n",
      "    \"total_tokens\": 421\n",
      "  }\n",
      "})\n"
     ]
    },
    {
     "name": "stderr",
     "output_type": "stream",
     "text": [
      " 17%|█▋        | 17/100 [00:20<01:31,  1.10s/it]"
     ]
    },
    {
     "name": "stdout",
     "output_type": "stream",
     "text": [
      "('{\\n  \"PER\": [\"Their enemies\"],\\n  \"ORG\": [],\\n  \"LOC\": [],\\n  \"MISC\": [\"music cassettes\"]\\n}', <OpenAIObject chat.completion id=chatcmpl-8i029hmR25uWwMGes4H3l71PItUkW at 0x7f3a7475e8e0> JSON: {\n",
      "  \"id\": \"chatcmpl-8i029hmR25uWwMGes4H3l71PItUkW\",\n",
      "  \"object\": \"chat.completion\",\n",
      "  \"created\": 1705497253,\n",
      "  \"model\": \"gpt-35-turbo\",\n",
      "  \"choices\": [\n",
      "    {\n",
      "      \"finish_reason\": \"stop\",\n",
      "      \"index\": 0,\n",
      "      \"message\": {\n",
      "        \"role\": \"assistant\",\n",
      "        \"content\": \"{\\n  \\\"PER\\\": [\\\"Their enemies\\\"],\\n  \\\"ORG\\\": [],\\n  \\\"LOC\\\": [],\\n  \\\"MISC\\\": [\\\"music cassettes\\\"]\\n}\"\n",
      "      }\n",
      "    }\n",
      "  ],\n",
      "  \"usage\": {\n",
      "    \"prompt_tokens\": 340,\n",
      "    \"completion_tokens\": 31,\n",
      "    \"total_tokens\": 371\n",
      "  }\n",
      "})\n"
     ]
    },
    {
     "name": "stderr",
     "output_type": "stream",
     "text": [
      " 18%|█▊        | 18/100 [00:21<01:34,  1.15s/it]"
     ]
    },
    {
     "name": "stdout",
     "output_type": "stream",
     "text": [
      "('{\\n  \"PER\": [\"Peters\"],\\n  \"ORG\": [\"Labour\", \"National\"],\\n  \"MISC\": []\\n}', <OpenAIObject chat.completion id=chatcmpl-8i02ACCZmWKrD5kfFfceeTQr7htpx at 0x7f3a8431f2e0> JSON: {\n",
      "  \"id\": \"chatcmpl-8i02ACCZmWKrD5kfFfceeTQr7htpx\",\n",
      "  \"object\": \"chat.completion\",\n",
      "  \"created\": 1705497254,\n",
      "  \"model\": \"gpt-35-turbo\",\n",
      "  \"choices\": [\n",
      "    {\n",
      "      \"finish_reason\": \"stop\",\n",
      "      \"index\": 0,\n",
      "      \"message\": {\n",
      "        \"role\": \"assistant\",\n",
      "        \"content\": \"{\\n  \\\"PER\\\": [\\\"Peters\\\"],\\n  \\\"ORG\\\": [\\\"Labour\\\", \\\"National\\\"],\\n  \\\"MISC\\\": []\\n}\"\n",
      "      }\n",
      "    }\n",
      "  ],\n",
      "  \"usage\": {\n",
      "    \"prompt_tokens\": 347,\n",
      "    \"completion_tokens\": 26,\n",
      "    \"total_tokens\": 373\n",
      "  }\n",
      "})\n"
     ]
    },
    {
     "name": "stderr",
     "output_type": "stream",
     "text": [
      " 19%|█▉        | 19/100 [00:22<01:35,  1.18s/it]"
     ]
    },
    {
     "name": "stdout",
     "output_type": "stream",
     "text": [
      "('{\\n  \"PER\": [],\\n  \"ORG\": [],\\n  \"LOC\": [],\\n  \"MISC\": []\\n}', <OpenAIObject chat.completion id=chatcmpl-8i02B2NnBnxzLBTrcZ2tkdAznrbN0 at 0x7f3a72cc99e0> JSON: {\n",
      "  \"id\": \"chatcmpl-8i02B2NnBnxzLBTrcZ2tkdAznrbN0\",\n",
      "  \"object\": \"chat.completion\",\n",
      "  \"created\": 1705497255,\n",
      "  \"model\": \"gpt-35-turbo\",\n",
      "  \"choices\": [\n",
      "    {\n",
      "      \"finish_reason\": \"stop\",\n",
      "      \"index\": 0,\n",
      "      \"message\": {\n",
      "        \"role\": \"assistant\",\n",
      "        \"content\": \"{\\n  \\\"PER\\\": [],\\n  \\\"ORG\\\": [],\\n  \\\"LOC\\\": [],\\n  \\\"MISC\\\": []\\n}\"\n",
      "      }\n",
      "    }\n",
      "  ],\n",
      "  \"usage\": {\n",
      "    \"prompt_tokens\": 313,\n",
      "    \"completion_tokens\": 23,\n",
      "    \"total_tokens\": 336\n",
      "  }\n",
      "})\n"
     ]
    },
    {
     "name": "stderr",
     "output_type": "stream",
     "text": [
      " 20%|██        | 20/100 [00:24<01:37,  1.21s/it]"
     ]
    },
    {
     "name": "stdout",
     "output_type": "stream",
     "text": [
      "('{\\n  \"MISC\": [\"Internet\", \"computer network\", \"music\", \"software\", \"computer mouse\", \"rulebooks\"]\\n}', <OpenAIObject chat.completion id=chatcmpl-8i02CjsOufuToZL7n8tg2UArNWiP3 at 0x7f3a72cc99e0> JSON: {\n",
      "  \"id\": \"chatcmpl-8i02CjsOufuToZL7n8tg2UArNWiP3\",\n",
      "  \"object\": \"chat.completion\",\n",
      "  \"created\": 1705497256,\n",
      "  \"model\": \"gpt-35-turbo\",\n",
      "  \"choices\": [\n",
      "    {\n",
      "      \"finish_reason\": \"stop\",\n",
      "      \"index\": 0,\n",
      "      \"message\": {\n",
      "        \"role\": \"assistant\",\n",
      "        \"content\": \"{\\n  \\\"MISC\\\": [\\\"Internet\\\", \\\"computer network\\\", \\\"music\\\", \\\"software\\\", \\\"computer mouse\\\", \\\"rulebooks\\\"]\\n}\"\n",
      "      }\n",
      "    }\n",
      "  ],\n",
      "  \"usage\": {\n",
      "    \"prompt_tokens\": 413,\n",
      "    \"completion_tokens\": 28,\n",
      "    \"total_tokens\": 441\n",
      "  }\n",
      "})\n"
     ]
    },
    {
     "name": "stderr",
     "output_type": "stream",
     "text": [
      " 21%|██        | 21/100 [00:25<01:30,  1.15s/it]"
     ]
    },
    {
     "name": "stdout",
     "output_type": "stream",
     "text": [
      "('{\\n  \"LOC\": [\"Turkey\", \"Syrian border\"]\\n}', <OpenAIObject chat.completion id=chatcmpl-8i02DtwBcP5w4yGBe8vLebD4uIlGo at 0x7f3a72cc99e0> JSON: {\n",
      "  \"id\": \"chatcmpl-8i02DtwBcP5w4yGBe8vLebD4uIlGo\",\n",
      "  \"object\": \"chat.completion\",\n",
      "  \"created\": 1705497257,\n",
      "  \"model\": \"gpt-35-turbo\",\n",
      "  \"choices\": [\n",
      "    {\n",
      "      \"finish_reason\": \"stop\",\n",
      "      \"index\": 0,\n",
      "      \"message\": {\n",
      "        \"role\": \"assistant\",\n",
      "        \"content\": \"{\\n  \\\"LOC\\\": [\\\"Turkey\\\", \\\"Syrian border\\\"]\\n}\"\n",
      "      }\n",
      "    }\n",
      "  ],\n",
      "  \"usage\": {\n",
      "    \"prompt_tokens\": 355,\n",
      "    \"completion_tokens\": 14,\n",
      "    \"total_tokens\": 369\n",
      "  }\n",
      "})\n"
     ]
    },
    {
     "name": "stderr",
     "output_type": "stream",
     "text": [
      " 22%|██▏       | 22/100 [00:26<01:29,  1.15s/it]"
     ]
    },
    {
     "name": "stdout",
     "output_type": "stream",
     "text": [
      "('{\\n  \"PER\": [\"Rashid\"],\\n  \"ORG\": [\"Greece\"],\\n  \"MISC\": [\"Thursday\"]\\n}', <OpenAIObject chat.completion id=chatcmpl-8i02EA6IrevIh1LPcsBvAfW3z8jIk at 0x7f3aa922c540> JSON: {\n",
      "  \"id\": \"chatcmpl-8i02EA6IrevIh1LPcsBvAfW3z8jIk\",\n",
      "  \"object\": \"chat.completion\",\n",
      "  \"created\": 1705497258,\n",
      "  \"model\": \"gpt-35-turbo\",\n",
      "  \"choices\": [\n",
      "    {\n",
      "      \"finish_reason\": \"stop\",\n",
      "      \"index\": 0,\n",
      "      \"message\": {\n",
      "        \"role\": \"assistant\",\n",
      "        \"content\": \"{\\n  \\\"PER\\\": [\\\"Rashid\\\"],\\n  \\\"ORG\\\": [\\\"Greece\\\"],\\n  \\\"MISC\\\": [\\\"Thursday\\\"]\\n}\"\n",
      "      }\n",
      "    }\n",
      "  ],\n",
      "  \"usage\": {\n",
      "    \"prompt_tokens\": 396,\n",
      "    \"completion_tokens\": 27,\n",
      "    \"total_tokens\": 423\n",
      "  }\n",
      "})\n"
     ]
    },
    {
     "name": "stderr",
     "output_type": "stream",
     "text": [
      " 23%|██▎       | 23/100 [00:27<01:26,  1.13s/it]"
     ]
    },
    {
     "name": "stdout",
     "output_type": "stream",
     "text": [
      "('{\\n  \"PER\": [\"Lieutenant-General Maurice Baril\"],\\n  \"ORG\": [],\\n  \"LOC\": [\"Nairobi\", \"Goma\"],\\n  \"MISC\": []\\n}', <OpenAIObject chat.completion id=chatcmpl-8i02GVA7qNTENRxf5GYc9OmhrfY5i at 0x7f3a72cc99e0> JSON: {\n",
      "  \"id\": \"chatcmpl-8i02GVA7qNTENRxf5GYc9OmhrfY5i\",\n",
      "  \"object\": \"chat.completion\",\n",
      "  \"created\": 1705497260,\n",
      "  \"model\": \"gpt-35-turbo\",\n",
      "  \"choices\": [\n",
      "    {\n",
      "      \"finish_reason\": \"stop\",\n",
      "      \"index\": 0,\n",
      "      \"message\": {\n",
      "        \"role\": \"assistant\",\n",
      "        \"content\": \"{\\n  \\\"PER\\\": [\\\"Lieutenant-General Maurice Baril\\\"],\\n  \\\"ORG\\\": [],\\n  \\\"LOC\\\": [\\\"Nairobi\\\", \\\"Goma\\\"],\\n  \\\"MISC\\\": []\\n}\"\n",
      "      }\n",
      "    }\n",
      "  ],\n",
      "  \"usage\": {\n",
      "    \"prompt_tokens\": 458,\n",
      "    \"completion_tokens\": 37,\n",
      "    \"total_tokens\": 495\n",
      "  }\n",
      "})\n"
     ]
    },
    {
     "name": "stderr",
     "output_type": "stream",
     "text": [
      " 24%|██▍       | 24/100 [00:28<01:27,  1.15s/it]"
     ]
    },
    {
     "name": "stdout",
     "output_type": "stream",
     "text": [
      "('{\\n  \"PER\": [\"Australia\", \"Barbarians\"],\\n  \"CARDINAL\": [\"39-12\", \"27-0\"],\\n  \"DATE\": [\"Saturday\"],\\n  \"MISC\": [\"European\"]\\n}', <OpenAIObject chat.completion id=chatcmpl-8i02H1Av3GxS2EUaZxYVbZUAveGDS at 0x7f3a72cc99e0> JSON: {\n",
      "  \"id\": \"chatcmpl-8i02H1Av3GxS2EUaZxYVbZUAveGDS\",\n",
      "  \"object\": \"chat.completion\",\n",
      "  \"created\": 1705497261,\n",
      "  \"model\": \"gpt-35-turbo\",\n",
      "  \"choices\": [\n",
      "    {\n",
      "      \"finish_reason\": \"stop\",\n",
      "      \"index\": 0,\n",
      "      \"message\": {\n",
      "        \"role\": \"assistant\",\n",
      "        \"content\": \"{\\n  \\\"PER\\\": [\\\"Australia\\\", \\\"Barbarians\\\"],\\n  \\\"CARDINAL\\\": [\\\"39-12\\\", \\\"27-0\\\"],\\n  \\\"DATE\\\": [\\\"Saturday\\\"],\\n  \\\"MISC\\\": [\\\"European\\\"]\\n}\"\n",
      "      }\n",
      "    }\n",
      "  ],\n",
      "  \"usage\": {\n",
      "    \"prompt_tokens\": 384,\n",
      "    \"completion_tokens\": 44,\n",
      "    \"total_tokens\": 428\n",
      "  }\n",
      "})\n"
     ]
    },
    {
     "name": "stderr",
     "output_type": "stream",
     "text": [
      " 25%|██▌       | 25/100 [00:29<01:26,  1.16s/it]"
     ]
    },
    {
     "name": "stdout",
     "output_type": "stream",
     "text": [
      "('{\\n  \"PER\": [],\\n  \"ORG\": [],\\n  \"LOC\": [],\\n  \"MISC\": []\\n}', <OpenAIObject chat.completion id=chatcmpl-8i02In2qmI4315j0m8iJS7oRfLOkI at 0x7f3a8431f2e0> JSON: {\n",
      "  \"id\": \"chatcmpl-8i02In2qmI4315j0m8iJS7oRfLOkI\",\n",
      "  \"object\": \"chat.completion\",\n",
      "  \"created\": 1705497262,\n",
      "  \"model\": \"gpt-35-turbo\",\n",
      "  \"choices\": [\n",
      "    {\n",
      "      \"finish_reason\": \"stop\",\n",
      "      \"index\": 0,\n",
      "      \"message\": {\n",
      "        \"role\": \"assistant\",\n",
      "        \"content\": \"{\\n  \\\"PER\\\": [],\\n  \\\"ORG\\\": [],\\n  \\\"LOC\\\": [],\\n  \\\"MISC\\\": []\\n}\"\n",
      "      }\n",
      "    }\n",
      "  ],\n",
      "  \"usage\": {\n",
      "    \"prompt_tokens\": 371,\n",
      "    \"completion_tokens\": 23,\n",
      "    \"total_tokens\": 394\n",
      "  }\n",
      "})\n"
     ]
    },
    {
     "name": "stderr",
     "output_type": "stream",
     "text": [
      " 26%|██▌       | 26/100 [00:30<01:24,  1.15s/it]"
     ]
    },
    {
     "name": "stdout",
     "output_type": "stream",
     "text": [
      "('{\\n  \"PER\": [\"Weah\"],\\n  \"ORG\": [\"Milan\", \"Rosenborg\"],\\n  \"LOC\": [\"Norway\"]\\n}', <OpenAIObject chat.completion id=chatcmpl-8i02JUu8wNxN0DWJlakuxokWWlA8p at 0x7f3a84427650> JSON: {\n",
      "  \"id\": \"chatcmpl-8i02JUu8wNxN0DWJlakuxokWWlA8p\",\n",
      "  \"object\": \"chat.completion\",\n",
      "  \"created\": 1705497263,\n",
      "  \"model\": \"gpt-35-turbo\",\n",
      "  \"choices\": [\n",
      "    {\n",
      "      \"finish_reason\": \"stop\",\n",
      "      \"index\": 0,\n",
      "      \"message\": {\n",
      "        \"role\": \"assistant\",\n",
      "        \"content\": \"{\\n  \\\"PER\\\": [\\\"Weah\\\"],\\n  \\\"ORG\\\": [\\\"Milan\\\", \\\"Rosenborg\\\"],\\n  \\\"LOC\\\": [\\\"Norway\\\"]\\n}\"\n",
      "      }\n",
      "    }\n",
      "  ],\n",
      "  \"usage\": {\n",
      "    \"prompt_tokens\": 362,\n",
      "    \"completion_tokens\": 31,\n",
      "    \"total_tokens\": 393\n",
      "  }\n",
      "})\n"
     ]
    },
    {
     "name": "stderr",
     "output_type": "stream",
     "text": [
      " 27%|██▋       | 27/100 [00:32<01:36,  1.32s/it]"
     ]
    },
    {
     "name": "stdout",
     "output_type": "stream",
     "text": [
      "('{\\n  \"PER\": [\"SCHULZ\", \"RIBALTA\"],\\n  \"ORG\": [\"IBF\"]\\n}', <OpenAIObject chat.completion id=chatcmpl-8i02LW3ylo2qOaWYuZDEgesi2jCtz at 0x7f3a84844fe0> JSON: {\n",
      "  \"id\": \"chatcmpl-8i02LW3ylo2qOaWYuZDEgesi2jCtz\",\n",
      "  \"object\": \"chat.completion\",\n",
      "  \"created\": 1705497265,\n",
      "  \"model\": \"gpt-35-turbo\",\n",
      "  \"choices\": [\n",
      "    {\n",
      "      \"finish_reason\": \"stop\",\n",
      "      \"index\": 0,\n",
      "      \"message\": {\n",
      "        \"role\": \"assistant\",\n",
      "        \"content\": \"{\\n  \\\"PER\\\": [\\\"SCHULZ\\\", \\\"RIBALTA\\\"],\\n  \\\"ORG\\\": [\\\"IBF\\\"]\\n}\"\n",
      "      }\n",
      "    }\n",
      "  ],\n",
      "  \"usage\": {\n",
      "    \"prompt_tokens\": 362,\n",
      "    \"completion_tokens\": 26,\n",
      "    \"total_tokens\": 388\n",
      "  }\n",
      "})\n"
     ]
    },
    {
     "name": "stderr",
     "output_type": "stream",
     "text": [
      " 28%|██▊       | 28/100 [00:33<01:36,  1.34s/it]"
     ]
    },
    {
     "name": "stdout",
     "output_type": "stream",
     "text": [
      "('{\\n  \"PER\": [\"Brett Liddle\", \"Hugh Baiocchi\", \"Adilson da Silva\", \"Sammy Daniels\"],\\n  \"LOC\": [\"Brazil\"]\\n}', <OpenAIObject chat.completion id=chatcmpl-8i02M3kh6sePQueuHuSxfldijco0M at 0x7f3aa922c540> JSON: {\n",
      "  \"id\": \"chatcmpl-8i02M3kh6sePQueuHuSxfldijco0M\",\n",
      "  \"object\": \"chat.completion\",\n",
      "  \"created\": 1705497266,\n",
      "  \"model\": \"gpt-35-turbo\",\n",
      "  \"choices\": [\n",
      "    {\n",
      "      \"finish_reason\": \"stop\",\n",
      "      \"index\": 0,\n",
      "      \"message\": {\n",
      "        \"role\": \"assistant\",\n",
      "        \"content\": \"{\\n  \\\"PER\\\": [\\\"Brett Liddle\\\", \\\"Hugh Baiocchi\\\", \\\"Adilson da Silva\\\", \\\"Sammy Daniels\\\"],\\n  \\\"LOC\\\": [\\\"Brazil\\\"]\\n}\"\n",
      "      }\n",
      "    }\n",
      "  ],\n",
      "  \"usage\": {\n",
      "    \"prompt_tokens\": 429,\n",
      "    \"completion_tokens\": 37,\n",
      "    \"total_tokens\": 466\n",
      "  }\n",
      "})\n"
     ]
    },
    {
     "name": "stderr",
     "output_type": "stream",
     "text": [
      " 29%|██▉       | 29/100 [00:35<01:34,  1.33s/it]"
     ]
    },
    {
     "name": "stdout",
     "output_type": "stream",
     "text": [
      "('{\\n  \"PER\": [],\\n  \"ORG\": [],\\n  \"LOC\": [],\\n  \"MISC\": []\\n}', <OpenAIObject chat.completion id=chatcmpl-8i02Os17OUy2U4ijXzgJ16Ygev21y at 0x7f3a84427650> JSON: {\n",
      "  \"id\": \"chatcmpl-8i02Os17OUy2U4ijXzgJ16Ygev21y\",\n",
      "  \"object\": \"chat.completion\",\n",
      "  \"created\": 1705497268,\n",
      "  \"model\": \"gpt-35-turbo\",\n",
      "  \"choices\": [\n",
      "    {\n",
      "      \"finish_reason\": \"stop\",\n",
      "      \"index\": 0,\n",
      "      \"message\": {\n",
      "        \"role\": \"assistant\",\n",
      "        \"content\": \"{\\n  \\\"PER\\\": [],\\n  \\\"ORG\\\": [],\\n  \\\"LOC\\\": [],\\n  \\\"MISC\\\": []\\n}\"\n",
      "      }\n",
      "    }\n",
      "  ],\n",
      "  \"usage\": {\n",
      "    \"prompt_tokens\": 374,\n",
      "    \"completion_tokens\": 23,\n",
      "    \"total_tokens\": 397\n",
      "  }\n",
      "})\n"
     ]
    },
    {
     "name": "stderr",
     "output_type": "stream",
     "text": [
      " 30%|███       | 30/100 [00:36<01:27,  1.25s/it]"
     ]
    },
    {
     "name": "stdout",
     "output_type": "stream",
     "text": [
      "('{\\n  \"PER\": [\"Voeks\"],\\n  \"MISC\": [\"pig thefts\"],\\n  \"MONEY\": [\"$100,000\"]\\n}', <OpenAIObject chat.completion id=chatcmpl-8i02PbO5Mzubw6JpHauMsV9HgQBbL at 0x7f3a7475e8e0> JSON: {\n",
      "  \"id\": \"chatcmpl-8i02PbO5Mzubw6JpHauMsV9HgQBbL\",\n",
      "  \"object\": \"chat.completion\",\n",
      "  \"created\": 1705497269,\n",
      "  \"model\": \"gpt-35-turbo\",\n",
      "  \"choices\": [\n",
      "    {\n",
      "      \"finish_reason\": \"stop\",\n",
      "      \"index\": 0,\n",
      "      \"message\": {\n",
      "        \"role\": \"assistant\",\n",
      "        \"content\": \"{\\n  \\\"PER\\\": [\\\"Voeks\\\"],\\n  \\\"MISC\\\": [\\\"pig thefts\\\"],\\n  \\\"MONEY\\\": [\\\"$100,000\\\"]\\n}\"\n",
      "      }\n",
      "    }\n",
      "  ],\n",
      "  \"usage\": {\n",
      "    \"prompt_tokens\": 382,\n",
      "    \"completion_tokens\": 31,\n",
      "    \"total_tokens\": 413\n",
      "  }\n",
      "})\n"
     ]
    },
    {
     "name": "stderr",
     "output_type": "stream",
     "text": [
      " 31%|███       | 31/100 [00:37<01:20,  1.17s/it]"
     ]
    },
    {
     "name": "stdout",
     "output_type": "stream",
     "text": [
      "('{\\n  \"PER\": [],\\n  \"ORG\": [],\\n  \"LOC\": [],\\n  \"MISC\": [\\n    \"health authority\"\\n  ]\\n}', <OpenAIObject chat.completion id=chatcmpl-8i02QwUZiRgT4nywFPbSVazoQh4Ev at 0x7f3a7475e8e0> JSON: {\n",
      "  \"id\": \"chatcmpl-8i02QwUZiRgT4nywFPbSVazoQh4Ev\",\n",
      "  \"object\": \"chat.completion\",\n",
      "  \"created\": 1705497270,\n",
      "  \"model\": \"gpt-35-turbo\",\n",
      "  \"choices\": [\n",
      "    {\n",
      "      \"finish_reason\": \"stop\",\n",
      "      \"index\": 0,\n",
      "      \"message\": {\n",
      "        \"role\": \"assistant\",\n",
      "        \"content\": \"{\\n  \\\"PER\\\": [],\\n  \\\"ORG\\\": [],\\n  \\\"LOC\\\": [],\\n  \\\"MISC\\\": [\\n    \\\"health authority\\\"\\n  ]\\n}\"\n",
      "      }\n",
      "    }\n",
      "  ],\n",
      "  \"usage\": {\n",
      "    \"prompt_tokens\": 336,\n",
      "    \"completion_tokens\": 30,\n",
      "    \"total_tokens\": 366\n",
      "  }\n",
      "})\n"
     ]
    },
    {
     "name": "stderr",
     "output_type": "stream",
     "text": [
      " 32%|███▏      | 32/100 [00:38<01:16,  1.13s/it]"
     ]
    },
    {
     "name": "stdout",
     "output_type": "stream",
     "text": [
      "('{\\n  \"CARDINAL\": [\"112\"],\\n  \"PER\": [],\\n  \"ORG\": [],\\n  \"LOC\": [],\\n  \"MISC\": []\\n}', <OpenAIObject chat.completion id=chatcmpl-8i02RPneDljMXx6Zn4md17fcc6NGw at 0x7f3a7475e8e0> JSON: {\n",
      "  \"id\": \"chatcmpl-8i02RPneDljMXx6Zn4md17fcc6NGw\",\n",
      "  \"object\": \"chat.completion\",\n",
      "  \"created\": 1705497271,\n",
      "  \"model\": \"gpt-35-turbo\",\n",
      "  \"choices\": [\n",
      "    {\n",
      "      \"finish_reason\": \"stop\",\n",
      "      \"index\": 0,\n",
      "      \"message\": {\n",
      "        \"role\": \"assistant\",\n",
      "        \"content\": \"{\\n  \\\"CARDINAL\\\": [\\\"112\\\"],\\n  \\\"PER\\\": [],\\n  \\\"ORG\\\": [],\\n  \\\"LOC\\\": [],\\n  \\\"MISC\\\": []\\n}\"\n",
      "      }\n",
      "    }\n",
      "  ],\n",
      "  \"usage\": {\n",
      "    \"prompt_tokens\": 318,\n",
      "    \"completion_tokens\": 31,\n",
      "    \"total_tokens\": 349\n",
      "  }\n",
      "})\n"
     ]
    },
    {
     "name": "stderr",
     "output_type": "stream",
     "text": [
      " 33%|███▎      | 33/100 [00:39<01:18,  1.17s/it]"
     ]
    },
    {
     "name": "stdout",
     "output_type": "stream",
     "text": [
      "('{\\n  \"MISC\": [\"Standings\"],\\n  \"CARDINAL\": [\"played\", \"won\", \"drawn\", \"lost\", \"goals\"]\\n}', <OpenAIObject chat.completion id=chatcmpl-8i02SHlN1AETLvzNeUVjMXM0Dhsn5 at 0x7f3a7475e8e0> JSON: {\n",
      "  \"id\": \"chatcmpl-8i02SHlN1AETLvzNeUVjMXM0Dhsn5\",\n",
      "  \"object\": \"chat.completion\",\n",
      "  \"created\": 1705497272,\n",
      "  \"model\": \"gpt-35-turbo\",\n",
      "  \"choices\": [\n",
      "    {\n",
      "      \"finish_reason\": \"stop\",\n",
      "      \"index\": 0,\n",
      "      \"message\": {\n",
      "        \"role\": \"assistant\",\n",
      "        \"content\": \"{\\n  \\\"MISC\\\": [\\\"Standings\\\"],\\n  \\\"CARDINAL\\\": [\\\"played\\\", \\\"won\\\", \\\"drawn\\\", \\\"lost\\\", \\\"goals\\\"]\\n}\"\n",
      "      }\n",
      "    }\n",
      "  ],\n",
      "  \"usage\": {\n",
      "    \"prompt_tokens\": 315,\n",
      "    \"completion_tokens\": 32,\n",
      "    \"total_tokens\": 347\n",
      "  }\n",
      "})\n"
     ]
    },
    {
     "name": "stderr",
     "output_type": "stream",
     "text": [
      " 34%|███▍      | 34/100 [00:40<01:16,  1.15s/it]"
     ]
    },
    {
     "name": "stdout",
     "output_type": "stream",
     "text": [
      "('{\\n  \"PER\": [],\\n  \"ORG\": [\"African states\", \"council\"],\\n  \"LOC\": [],\\n  \"MISC\": []\\n}', <OpenAIObject chat.completion id=chatcmpl-8i02T6zRECzL3B44ELqzha2lHsQgk at 0x7f3a84844fe0> JSON: {\n",
      "  \"id\": \"chatcmpl-8i02T6zRECzL3B44ELqzha2lHsQgk\",\n",
      "  \"object\": \"chat.completion\",\n",
      "  \"created\": 1705497273,\n",
      "  \"model\": \"gpt-35-turbo\",\n",
      "  \"choices\": [\n",
      "    {\n",
      "      \"finish_reason\": \"stop\",\n",
      "      \"index\": 0,\n",
      "      \"message\": {\n",
      "        \"role\": \"assistant\",\n",
      "        \"content\": \"{\\n  \\\"PER\\\": [],\\n  \\\"ORG\\\": [\\\"African states\\\", \\\"council\\\"],\\n  \\\"LOC\\\": [],\\n  \\\"MISC\\\": []\\n}\"\n",
      "      }\n",
      "    }\n",
      "  ],\n",
      "  \"usage\": {\n",
      "    \"prompt_tokens\": 386,\n",
      "    \"completion_tokens\": 31,\n",
      "    \"total_tokens\": 417\n",
      "  }\n",
      "})\n"
     ]
    },
    {
     "name": "stderr",
     "output_type": "stream",
     "text": [
      " 35%|███▌      | 35/100 [00:41<01:10,  1.09s/it]"
     ]
    },
    {
     "name": "stdout",
     "output_type": "stream",
     "text": [
      "('{\\n  \"ORG\": [\"Zimbabwe Open\"],\\n  \"MISC\": [\"South African\"]\\n}', <OpenAIObject chat.completion id=chatcmpl-8i02UU9CMRZYC2teKPSyiuGQbpUkY at 0x7f3a7475d5d0> JSON: {\n",
      "  \"id\": \"chatcmpl-8i02UU9CMRZYC2teKPSyiuGQbpUkY\",\n",
      "  \"object\": \"chat.completion\",\n",
      "  \"created\": 1705497274,\n",
      "  \"model\": \"gpt-35-turbo\",\n",
      "  \"choices\": [\n",
      "    {\n",
      "      \"finish_reason\": \"stop\",\n",
      "      \"index\": 0,\n",
      "      \"message\": {\n",
      "        \"role\": \"assistant\",\n",
      "        \"content\": \"{\\n  \\\"ORG\\\": [\\\"Zimbabwe Open\\\"],\\n  \\\"MISC\\\": [\\\"South African\\\"]\\n}\"\n",
      "      }\n",
      "    }\n",
      "  ],\n",
      "  \"usage\": {\n",
      "    \"prompt_tokens\": 320,\n",
      "    \"completion_tokens\": 20,\n",
      "    \"total_tokens\": 340\n",
      "  }\n",
      "})\n"
     ]
    },
    {
     "name": "stderr",
     "output_type": "stream",
     "text": [
      " 36%|███▌      | 36/100 [00:42<01:12,  1.13s/it]"
     ]
    },
    {
     "name": "stdout",
     "output_type": "stream",
     "text": [
      "('{\\n  \"PER\": [\"Pace\"],\\n  \"ORG\": [\"Ohio State\", \"Rose Bowl\", \"Arizona State\"]\\n}', <OpenAIObject chat.completion id=chatcmpl-8i02VGj3sJ2y2WnYyMVsIUVgjmmQV at 0x7f3a848457b0> JSON: {\n",
      "  \"id\": \"chatcmpl-8i02VGj3sJ2y2WnYyMVsIUVgjmmQV\",\n",
      "  \"object\": \"chat.completion\",\n",
      "  \"created\": 1705497275,\n",
      "  \"model\": \"gpt-35-turbo\",\n",
      "  \"choices\": [\n",
      "    {\n",
      "      \"finish_reason\": \"stop\",\n",
      "      \"index\": 0,\n",
      "      \"message\": {\n",
      "        \"role\": \"assistant\",\n",
      "        \"content\": \"{\\n  \\\"PER\\\": [\\\"Pace\\\"],\\n  \\\"ORG\\\": [\\\"Ohio State\\\", \\\"Rose Bowl\\\", \\\"Arizona State\\\"]\\n}\"\n",
      "      }\n",
      "    }\n",
      "  ],\n",
      "  \"usage\": {\n",
      "    \"prompt_tokens\": 374,\n",
      "    \"completion_tokens\": 26,\n",
      "    \"total_tokens\": 400\n",
      "  }\n",
      "})\n"
     ]
    },
    {
     "name": "stderr",
     "output_type": "stream",
     "text": [
      " 37%|███▋      | 37/100 [00:43<01:10,  1.12s/it]"
     ]
    },
    {
     "name": "stdout",
     "output_type": "stream",
     "text": [
      "('{\\n  \"MISC\": [\"four\", \"one\"],\\n  \"CARDINAL\": [\"one\"],\\n  \"ORG\": [],\\n  \"PER\": [],\\n  \"LOC\": []\\n}', <OpenAIObject chat.completion id=chatcmpl-8i02WHRLmCfEFx0EQPrdTb51Cq9n8 at 0x7f3a84427650> JSON: {\n",
      "  \"id\": \"chatcmpl-8i02WHRLmCfEFx0EQPrdTb51Cq9n8\",\n",
      "  \"object\": \"chat.completion\",\n",
      "  \"created\": 1705497276,\n",
      "  \"model\": \"gpt-35-turbo\",\n",
      "  \"choices\": [\n",
      "    {\n",
      "      \"finish_reason\": \"stop\",\n",
      "      \"index\": 0,\n",
      "      \"message\": {\n",
      "        \"role\": \"assistant\",\n",
      "        \"content\": \"{\\n  \\\"MISC\\\": [\\\"four\\\", \\\"one\\\"],\\n  \\\"CARDINAL\\\": [\\\"one\\\"],\\n  \\\"ORG\\\": [],\\n  \\\"PER\\\": [],\\n  \\\"LOC\\\": []\\n}\"\n",
      "      }\n",
      "    }\n",
      "  ],\n",
      "  \"usage\": {\n",
      "    \"prompt_tokens\": 284,\n",
      "    \"completion_tokens\": 36,\n",
      "    \"total_tokens\": 320\n",
      "  }\n",
      "})\n"
     ]
    },
    {
     "name": "stderr",
     "output_type": "stream",
     "text": [
      " 38%|███▊      | 38/100 [00:45<01:10,  1.13s/it]"
     ]
    },
    {
     "name": "stdout",
     "output_type": "stream",
     "text": [
      "('{\\n  \"LOC\": [\"TEMBAU DENPASAR\", \"Bali\"],\\n  \"MISC\": [\"1996-12-07\"]\\n}', <OpenAIObject chat.completion id=chatcmpl-8i02XTlybHAm1lkuRNIKsYb57IGmZ at 0x7f3a848457b0> JSON: {\n",
      "  \"id\": \"chatcmpl-8i02XTlybHAm1lkuRNIKsYb57IGmZ\",\n",
      "  \"object\": \"chat.completion\",\n",
      "  \"created\": 1705497277,\n",
      "  \"model\": \"gpt-35-turbo\",\n",
      "  \"choices\": [\n",
      "    {\n",
      "      \"finish_reason\": \"stop\",\n",
      "      \"index\": 0,\n",
      "      \"message\": {\n",
      "        \"role\": \"assistant\",\n",
      "        \"content\": \"{\\n  \\\"LOC\\\": [\\\"TEMBAU DENPASAR\\\", \\\"Bali\\\"],\\n  \\\"MISC\\\": [\\\"1996-12-07\\\"]\\n}\"\n",
      "      }\n",
      "    }\n",
      "  ],\n",
      "  \"usage\": {\n",
      "    \"prompt_tokens\": 319,\n",
      "    \"completion_tokens\": 32,\n",
      "    \"total_tokens\": 351\n",
      "  }\n",
      "})\n"
     ]
    },
    {
     "name": "stderr",
     "output_type": "stream",
     "text": [
      " 39%|███▉      | 39/100 [00:46<01:10,  1.16s/it]"
     ]
    },
    {
     "name": "stdout",
     "output_type": "stream",
     "text": [
      "('{\\n  \"PER\": [\"Michael Cornwell\"],\\n  \"ORG\": [\"Glencoe Animal Hospital\", \"American Veterinary Medical Association\"],\\n  \"LOC\": [\"Columbus\", \"Ohio\"]\\n}', <OpenAIObject chat.completion id=chatcmpl-8i02Y62e3YfXVS5N265f0fxfWBfEt at 0x7f3a848457b0> JSON: {\n",
      "  \"id\": \"chatcmpl-8i02Y62e3YfXVS5N265f0fxfWBfEt\",\n",
      "  \"object\": \"chat.completion\",\n",
      "  \"created\": 1705497278,\n",
      "  \"model\": \"gpt-35-turbo\",\n",
      "  \"choices\": [\n",
      "    {\n",
      "      \"finish_reason\": \"stop\",\n",
      "      \"index\": 0,\n",
      "      \"message\": {\n",
      "        \"role\": \"assistant\",\n",
      "        \"content\": \"{\\n  \\\"PER\\\": [\\\"Michael Cornwell\\\"],\\n  \\\"ORG\\\": [\\\"Glencoe Animal Hospital\\\", \\\"American Veterinary Medical Association\\\"],\\n  \\\"LOC\\\": [\\\"Columbus\\\", \\\"Ohio\\\"]\\n}\"\n",
      "      }\n",
      "    }\n",
      "  ],\n",
      "  \"usage\": {\n",
      "    \"prompt_tokens\": 386,\n",
      "    \"completion_tokens\": 40,\n",
      "    \"total_tokens\": 426\n",
      "  }\n",
      "})\n"
     ]
    },
    {
     "name": "stderr",
     "output_type": "stream",
     "text": [
      " 40%|████      | 40/100 [00:47<01:12,  1.21s/it]"
     ]
    },
    {
     "name": "stdout",
     "output_type": "stream",
     "text": [
      "('{\\n  \"PER\": [\"Burmese troops\", \"riot police\"],\\n  \"ORG\": [\"Ranyon (Rangoon) University\"],\\n  \"LOC\": [\"suburban road junction\"],\\n  \"MISC\": [\"Saturday\"]\\n}', <OpenAIObject chat.completion id=chatcmpl-8i02aF6NlyXIO574ABvvZ5agEarxT at 0x7f3a84844fe0> JSON: {\n",
      "  \"id\": \"chatcmpl-8i02aF6NlyXIO574ABvvZ5agEarxT\",\n",
      "  \"object\": \"chat.completion\",\n",
      "  \"created\": 1705497280,\n",
      "  \"model\": \"gpt-35-turbo\",\n",
      "  \"choices\": [\n",
      "    {\n",
      "      \"finish_reason\": \"stop\",\n",
      "      \"index\": 0,\n",
      "      \"message\": {\n",
      "        \"role\": \"assistant\",\n",
      "        \"content\": \"{\\n  \\\"PER\\\": [\\\"Burmese troops\\\", \\\"riot police\\\"],\\n  \\\"ORG\\\": [\\\"Ranyon (Rangoon) University\\\"],\\n  \\\"LOC\\\": [\\\"suburban road junction\\\"],\\n  \\\"MISC\\\": [\\\"Saturday\\\"]\\n}\"\n",
      "      }\n",
      "    }\n",
      "  ],\n",
      "  \"usage\": {\n",
      "    \"prompt_tokens\": 345,\n",
      "    \"completion_tokens\": 49,\n",
      "    \"total_tokens\": 394\n",
      "  }\n",
      "})\n"
     ]
    },
    {
     "name": "stderr",
     "output_type": "stream",
     "text": [
      " 41%|████      | 41/100 [00:48<01:08,  1.17s/it]"
     ]
    },
    {
     "name": "stdout",
     "output_type": "stream",
     "text": [
      "('{\\n  \"CARDINAL\": [\"1.5338\", \"1.5607\"],\\n  \"ORG\": [\"Frankfurt\"],\\n  \"LOC\": []\\n}', <OpenAIObject chat.completion id=chatcmpl-8i02bdcPs98UyHsC9OtCHsFncYJfk at 0x7f3a84844fe0> JSON: {\n",
      "  \"id\": \"chatcmpl-8i02bdcPs98UyHsC9OtCHsFncYJfk\",\n",
      "  \"object\": \"chat.completion\",\n",
      "  \"created\": 1705497281,\n",
      "  \"model\": \"gpt-35-turbo\",\n",
      "  \"choices\": [\n",
      "    {\n",
      "      \"finish_reason\": \"stop\",\n",
      "      \"index\": 0,\n",
      "      \"message\": {\n",
      "        \"role\": \"assistant\",\n",
      "        \"content\": \"{\\n  \\\"CARDINAL\\\": [\\\"1.5338\\\", \\\"1.5607\\\"],\\n  \\\"ORG\\\": [\\\"Frankfurt\\\"],\\n  \\\"LOC\\\": []\\n}\"\n",
      "      }\n",
      "    }\n",
      "  ],\n",
      "  \"usage\": {\n",
      "    \"prompt_tokens\": 342,\n",
      "    \"completion_tokens\": 32,\n",
      "    \"total_tokens\": 374\n",
      "  }\n",
      "})\n"
     ]
    },
    {
     "name": "stderr",
     "output_type": "stream",
     "text": [
      " 42%|████▏     | 42/100 [00:49<01:07,  1.17s/it]"
     ]
    },
    {
     "name": "stdout",
     "output_type": "stream",
     "text": [
      "('{\\n  \"PER\": [\"Saeed Anwar\"],\\n  \"MISC\": [\"run out\"]\\n}', <OpenAIObject chat.completion id=chatcmpl-8i02cmvuEKBbdSoAf7PFeJWrtGGUh at 0x7f3a8431e9d0> JSON: {\n",
      "  \"id\": \"chatcmpl-8i02cmvuEKBbdSoAf7PFeJWrtGGUh\",\n",
      "  \"object\": \"chat.completion\",\n",
      "  \"created\": 1705497282,\n",
      "  \"model\": \"gpt-35-turbo\",\n",
      "  \"choices\": [\n",
      "    {\n",
      "      \"finish_reason\": \"stop\",\n",
      "      \"index\": 0,\n",
      "      \"message\": {\n",
      "        \"role\": \"assistant\",\n",
      "        \"content\": \"{\\n  \\\"PER\\\": [\\\"Saeed Anwar\\\"],\\n  \\\"MISC\\\": [\\\"run out\\\"]\\n}\"\n",
      "      }\n",
      "    }\n",
      "  ],\n",
      "  \"usage\": {\n",
      "    \"prompt_tokens\": 322,\n",
      "    \"completion_tokens\": 22,\n",
      "    \"total_tokens\": 344\n",
      "  }\n",
      "})\n"
     ]
    },
    {
     "name": "stderr",
     "output_type": "stream",
     "text": [
      " 43%|████▎     | 43/100 [00:51<01:08,  1.20s/it]"
     ]
    },
    {
     "name": "stdout",
     "output_type": "stream",
     "text": [
      "('{\\n  \"ORG\": [\"U.S.\", \"St. Louis Merchants Exchange\"],\\n  \"LOC\": [\"St. Louis\"]\\n}', <OpenAIObject chat.completion id=chatcmpl-8i02eQ7t7qK5Z0IHzmVu3sOnBOgV7 at 0x7f3a848457b0> JSON: {\n",
      "  \"id\": \"chatcmpl-8i02eQ7t7qK5Z0IHzmVu3sOnBOgV7\",\n",
      "  \"object\": \"chat.completion\",\n",
      "  \"created\": 1705497284,\n",
      "  \"model\": \"gpt-35-turbo\",\n",
      "  \"choices\": [\n",
      "    {\n",
      "      \"finish_reason\": \"stop\",\n",
      "      \"index\": 0,\n",
      "      \"message\": {\n",
      "        \"role\": \"assistant\",\n",
      "        \"content\": \"{\\n  \\\"ORG\\\": [\\\"U.S.\\\", \\\"St. Louis Merchants Exchange\\\"],\\n  \\\"LOC\\\": [\\\"St. Louis\\\"]\\n}\"\n",
      "      }\n",
      "    }\n",
      "  ],\n",
      "  \"usage\": {\n",
      "    \"prompt_tokens\": 339,\n",
      "    \"completion_tokens\": 27,\n",
      "    \"total_tokens\": 366\n",
      "  }\n",
      "})\n"
     ]
    },
    {
     "name": "stderr",
     "output_type": "stream",
     "text": [
      " 44%|████▍     | 44/100 [00:52<01:07,  1.21s/it]"
     ]
    },
    {
     "name": "stdout",
     "output_type": "stream",
     "text": [
      "('{\\n  \"PER\": [\"Patrick Vieira\"],\\n  \"ORG\": [\"Arsenal\", \"Derby\"],\\n  \"MISC\": [\"English premier league\"]\\n}', <OpenAIObject chat.completion id=chatcmpl-8i02fVyQoMnJDUfGQQooDyglpbfsp at 0x7f3a84427650> JSON: {\n",
      "  \"id\": \"chatcmpl-8i02fVyQoMnJDUfGQQooDyglpbfsp\",\n",
      "  \"object\": \"chat.completion\",\n",
      "  \"created\": 1705497285,\n",
      "  \"model\": \"gpt-35-turbo\",\n",
      "  \"choices\": [\n",
      "    {\n",
      "      \"finish_reason\": \"stop\",\n",
      "      \"index\": 0,\n",
      "      \"message\": {\n",
      "        \"role\": \"assistant\",\n",
      "        \"content\": \"{\\n  \\\"PER\\\": [\\\"Patrick Vieira\\\"],\\n  \\\"ORG\\\": [\\\"Arsenal\\\", \\\"Derby\\\"],\\n  \\\"MISC\\\": [\\\"English premier league\\\"]\\n}\"\n",
      "      }\n",
      "    }\n",
      "  ],\n",
      "  \"usage\": {\n",
      "    \"prompt_tokens\": 390,\n",
      "    \"completion_tokens\": 33,\n",
      "    \"total_tokens\": 423\n",
      "  }\n",
      "})\n"
     ]
    },
    {
     "name": "stderr",
     "output_type": "stream",
     "text": [
      " 45%|████▌     | 45/100 [00:53<01:05,  1.20s/it]"
     ]
    },
    {
     "name": "stdout",
     "output_type": "stream",
     "text": [
      "('{\\n  \"PER\": [],\\n  \"ORG\": [],\\n  \"LOC\": [\\n    \"Antwerp\"\\n  ],\\n  \"MISC\": []\\n}', <OpenAIObject chat.completion id=chatcmpl-8i02gsIihbXIY7uaSpgYrhVz49F8v at 0x7f3a8431ee80> JSON: {\n",
      "  \"id\": \"chatcmpl-8i02gsIihbXIY7uaSpgYrhVz49F8v\",\n",
      "  \"object\": \"chat.completion\",\n",
      "  \"created\": 1705497286,\n",
      "  \"model\": \"gpt-35-turbo\",\n",
      "  \"choices\": [\n",
      "    {\n",
      "      \"finish_reason\": \"stop\",\n",
      "      \"index\": 0,\n",
      "      \"message\": {\n",
      "        \"role\": \"assistant\",\n",
      "        \"content\": \"{\\n  \\\"PER\\\": [],\\n  \\\"ORG\\\": [],\\n  \\\"LOC\\\": [\\n    \\\"Antwerp\\\"\\n  ],\\n  \\\"MISC\\\": []\\n}\"\n",
      "      }\n",
      "    }\n",
      "  ],\n",
      "  \"usage\": {\n",
      "    \"prompt_tokens\": 367,\n",
      "    \"completion_tokens\": 30,\n",
      "    \"total_tokens\": 397\n",
      "  }\n",
      "})\n"
     ]
    },
    {
     "name": "stderr",
     "output_type": "stream",
     "text": [
      " 46%|████▌     | 46/100 [00:54<01:03,  1.17s/it]"
     ]
    },
    {
     "name": "stdout",
     "output_type": "stream",
     "text": [
      "('{\\n  \"PER\": [\"he\"],\\n  \"ORG\": [\"strip clubs\"],\\n  \"MISC\": [\"court\"]\\n}', <OpenAIObject chat.completion id=chatcmpl-8i02hHJSawo8bzR06gJVKU4PyMW8G at 0x7f3a8431ff10> JSON: {\n",
      "  \"id\": \"chatcmpl-8i02hHJSawo8bzR06gJVKU4PyMW8G\",\n",
      "  \"object\": \"chat.completion\",\n",
      "  \"created\": 1705497287,\n",
      "  \"model\": \"gpt-35-turbo\",\n",
      "  \"choices\": [\n",
      "    {\n",
      "      \"finish_reason\": \"stop\",\n",
      "      \"index\": 0,\n",
      "      \"message\": {\n",
      "        \"role\": \"assistant\",\n",
      "        \"content\": \"{\\n  \\\"PER\\\": [\\\"he\\\"],\\n  \\\"ORG\\\": [\\\"strip clubs\\\"],\\n  \\\"MISC\\\": [\\\"court\\\"]\\n}\"\n",
      "      }\n",
      "    }\n",
      "  ],\n",
      "  \"usage\": {\n",
      "    \"prompt_tokens\": 360,\n",
      "    \"completion_tokens\": 25,\n",
      "    \"total_tokens\": 385\n",
      "  }\n",
      "})\n"
     ]
    },
    {
     "name": "stderr",
     "output_type": "stream",
     "text": [
      " 47%|████▋     | 47/100 [00:55<01:03,  1.20s/it]"
     ]
    },
    {
     "name": "stdout",
     "output_type": "stream",
     "text": [
      "('{\\n  \"PER\": [],\\n  \"ORG\": [],\\n  \"LOC\": [],\\n  \"MISC\": []\\n}', <OpenAIObject chat.completion id=chatcmpl-8i02i3Qmbfim6MuEpQsIBjzzhQVGX at 0x7f3a8431ff10> JSON: {\n",
      "  \"id\": \"chatcmpl-8i02i3Qmbfim6MuEpQsIBjzzhQVGX\",\n",
      "  \"object\": \"chat.completion\",\n",
      "  \"created\": 1705497288,\n",
      "  \"model\": \"gpt-35-turbo\",\n",
      "  \"choices\": [\n",
      "    {\n",
      "      \"finish_reason\": \"stop\",\n",
      "      \"index\": 0,\n",
      "      \"message\": {\n",
      "        \"role\": \"assistant\",\n",
      "        \"content\": \"{\\n  \\\"PER\\\": [],\\n  \\\"ORG\\\": [],\\n  \\\"LOC\\\": [],\\n  \\\"MISC\\\": []\\n}\"\n",
      "      }\n",
      "    }\n",
      "  ],\n",
      "  \"usage\": {\n",
      "    \"prompt_tokens\": 391,\n",
      "    \"completion_tokens\": 23,\n",
      "    \"total_tokens\": 414\n",
      "  }\n",
      "})\n"
     ]
    },
    {
     "name": "stderr",
     "output_type": "stream",
     "text": [
      " 48%|████▊     | 48/100 [00:57<01:01,  1.18s/it]"
     ]
    },
    {
     "name": "stdout",
     "output_type": "stream",
     "text": [
      "('{\\n  \"PER\": [\"Zieleniec\", \"Klaus\"],\\n  \"ORG\": [\"party\"],\\n  \"MISC\": [\"summer\"]\\n}', <OpenAIObject chat.completion id=chatcmpl-8i02jsaGbyQgWCbbsSDebIAWfZ8UM at 0x7f3a8431f2e0> JSON: {\n",
      "  \"id\": \"chatcmpl-8i02jsaGbyQgWCbbsSDebIAWfZ8UM\",\n",
      "  \"object\": \"chat.completion\",\n",
      "  \"created\": 1705497289,\n",
      "  \"model\": \"gpt-35-turbo\",\n",
      "  \"choices\": [\n",
      "    {\n",
      "      \"finish_reason\": \"stop\",\n",
      "      \"index\": 0,\n",
      "      \"message\": {\n",
      "        \"role\": \"assistant\",\n",
      "        \"content\": \"{\\n  \\\"PER\\\": [\\\"Zieleniec\\\", \\\"Klaus\\\"],\\n  \\\"ORG\\\": [\\\"party\\\"],\\n  \\\"MISC\\\": [\\\"summer\\\"]\\n}\"\n",
      "      }\n",
      "    }\n",
      "  ],\n",
      "  \"usage\": {\n",
      "    \"prompt_tokens\": 416,\n",
      "    \"completion_tokens\": 31,\n",
      "    \"total_tokens\": 447\n",
      "  }\n",
      "})\n"
     ]
    },
    {
     "name": "stderr",
     "output_type": "stream",
     "text": [
      " 49%|████▉     | 49/100 [00:58<00:56,  1.12s/it]"
     ]
    },
    {
     "name": "stdout",
     "output_type": "stream",
     "text": [
      "('{\\n  \"ORG\": [\"Pakistan\", \"Australia\", \"World Series tournament\"]\\n}', <OpenAIObject chat.completion id=chatcmpl-8i02kRF0IeTHzUCrmq56RyUBb8rKn at 0x7f3a8431e9d0> JSON: {\n",
      "  \"id\": \"chatcmpl-8i02kRF0IeTHzUCrmq56RyUBb8rKn\",\n",
      "  \"object\": \"chat.completion\",\n",
      "  \"created\": 1705497290,\n",
      "  \"model\": \"gpt-35-turbo\",\n",
      "  \"choices\": [\n",
      "    {\n",
      "      \"finish_reason\": \"stop\",\n",
      "      \"index\": 0,\n",
      "      \"message\": {\n",
      "        \"role\": \"assistant\",\n",
      "        \"content\": \"{\\n  \\\"ORG\\\": [\\\"Pakistan\\\", \\\"Australia\\\", \\\"World Series tournament\\\"]\\n}\"\n",
      "      }\n",
      "    }\n",
      "  ],\n",
      "  \"usage\": {\n",
      "    \"prompt_tokens\": 320,\n",
      "    \"completion_tokens\": 17,\n",
      "    \"total_tokens\": 337\n",
      "  }\n",
      "})\n"
     ]
    },
    {
     "name": "stderr",
     "output_type": "stream",
     "text": [
      " 50%|█████     | 50/100 [00:59<00:57,  1.15s/it]"
     ]
    },
    {
     "name": "stdout",
     "output_type": "stream",
     "text": [
      "('{\\n  \"PER\": [\"Bre-X\", \"Barrick\"],\\n  \"ORG\": [],\\n  \"LOC\": [],\\n  \"MISC\": []\\n}', <OpenAIObject chat.completion id=chatcmpl-8i02moXxNrtXfpjmFBBrT6vTzYOyg at 0x7f3a84427650> JSON: {\n",
      "  \"id\": \"chatcmpl-8i02moXxNrtXfpjmFBBrT6vTzYOyg\",\n",
      "  \"object\": \"chat.completion\",\n",
      "  \"created\": 1705497292,\n",
      "  \"model\": \"gpt-35-turbo\",\n",
      "  \"choices\": [\n",
      "    {\n",
      "      \"finish_reason\": \"stop\",\n",
      "      \"index\": 0,\n",
      "      \"message\": {\n",
      "        \"role\": \"assistant\",\n",
      "        \"content\": \"{\\n  \\\"PER\\\": [\\\"Bre-X\\\", \\\"Barrick\\\"],\\n  \\\"ORG\\\": [],\\n  \\\"LOC\\\": [],\\n  \\\"MISC\\\": []\\n}\"\n",
      "      }\n",
      "    }\n",
      "  ],\n",
      "  \"usage\": {\n",
      "    \"prompt_tokens\": 375,\n",
      "    \"completion_tokens\": 31,\n",
      "    \"total_tokens\": 406\n",
      "  }\n",
      "})\n"
     ]
    },
    {
     "name": "stderr",
     "output_type": "stream",
     "text": [
      " 51%|█████     | 51/100 [01:00<00:54,  1.11s/it]"
     ]
    },
    {
     "name": "stdout",
     "output_type": "stream",
     "text": [
      "(\"I'm sorry, but I need a sentence to extract the named entities from. Can you please provide a sentence?\", <OpenAIObject chat.completion id=chatcmpl-8i02nBPDirk6YVjOP5ObXOGfzPAaZ at 0x7f3a84427650> JSON: {\n",
      "  \"id\": \"chatcmpl-8i02nBPDirk6YVjOP5ObXOGfzPAaZ\",\n",
      "  \"object\": \"chat.completion\",\n",
      "  \"created\": 1705497293,\n",
      "  \"model\": \"gpt-35-turbo\",\n",
      "  \"choices\": [\n",
      "    {\n",
      "      \"finish_reason\": \"stop\",\n",
      "      \"index\": 0,\n",
      "      \"message\": {\n",
      "        \"role\": \"assistant\",\n",
      "        \"content\": \"I'm sorry, but I need a sentence to extract the named entities from. Can you please provide a sentence?\"\n",
      "      }\n",
      "    }\n",
      "  ],\n",
      "  \"usage\": {\n",
      "    \"prompt_tokens\": 306,\n",
      "    \"completion_tokens\": 23,\n",
      "    \"total_tokens\": 329\n",
      "  }\n",
      "})\n",
      "-----------------------------------------------\n",
      "response does not contain {}. Returned [I'm sorry, but I need a sentence to extract the named entities from. Can you please provide a sentence?}\n",
      "-----------------------------------------------\n"
     ]
    },
    {
     "name": "stderr",
     "output_type": "stream",
     "text": [
      " 52%|█████▏    | 52/100 [01:01<00:53,  1.11s/it]"
     ]
    },
    {
     "name": "stdout",
     "output_type": "stream",
     "text": [
      "('{\\n  \"MISC\": [\"The Super Peasants\"],\\n  \"ORG\": [\"Doetinchem\"]\\n}', <OpenAIObject chat.completion id=chatcmpl-8i02oc9g4MeJ6QigwqCvtB9eyFESr at 0x7f3a84427650> JSON: {\n",
      "  \"id\": \"chatcmpl-8i02oc9g4MeJ6QigwqCvtB9eyFESr\",\n",
      "  \"object\": \"chat.completion\",\n",
      "  \"created\": 1705497294,\n",
      "  \"model\": \"gpt-35-turbo\",\n",
      "  \"choices\": [\n",
      "    {\n",
      "      \"finish_reason\": \"stop\",\n",
      "      \"index\": 0,\n",
      "      \"message\": {\n",
      "        \"role\": \"assistant\",\n",
      "        \"content\": \"{\\n  \\\"MISC\\\": [\\\"The Super Peasants\\\"],\\n  \\\"ORG\\\": [\\\"Doetinchem\\\"]\\n}\"\n",
      "      }\n",
      "    }\n",
      "  ],\n",
      "  \"usage\": {\n",
      "    \"prompt_tokens\": 325,\n",
      "    \"completion_tokens\": 24,\n",
      "    \"total_tokens\": 349\n",
      "  }\n",
      "})\n"
     ]
    },
    {
     "name": "stderr",
     "output_type": "stream",
     "text": [
      " 53%|█████▎    | 53/100 [01:02<00:50,  1.07s/it]"
     ]
    },
    {
     "name": "stdout",
     "output_type": "stream",
     "text": [
      "('{\\n  \"DATE\": [\"March 31, 1997\"]\\n}', <OpenAIObject chat.completion id=chatcmpl-8i02p3B7EM8i8yj3tQpPsIQ0qRtoh at 0x7f3a848457b0> JSON: {\n",
      "  \"id\": \"chatcmpl-8i02p3B7EM8i8yj3tQpPsIQ0qRtoh\",\n",
      "  \"object\": \"chat.completion\",\n",
      "  \"created\": 1705497295,\n",
      "  \"model\": \"gpt-35-turbo\",\n",
      "  \"choices\": [\n",
      "    {\n",
      "      \"finish_reason\": \"stop\",\n",
      "      \"index\": 0,\n",
      "      \"message\": {\n",
      "        \"role\": \"assistant\",\n",
      "        \"content\": \"{\\n  \\\"DATE\\\": [\\\"March 31, 1997\\\"]\\n}\"\n",
      "      }\n",
      "    }\n",
      "  ],\n",
      "  \"usage\": {\n",
      "    \"prompt_tokens\": 295,\n",
      "    \"completion_tokens\": 15,\n",
      "    \"total_tokens\": 310\n",
      "  }\n",
      "})\n"
     ]
    },
    {
     "name": "stderr",
     "output_type": "stream",
     "text": [
      " 54%|█████▍    | 54/100 [01:03<00:49,  1.09s/it]"
     ]
    },
    {
     "name": "stdout",
     "output_type": "stream",
     "text": [
      "('{\\n  \"LOC\": [\"Mexican\"],\\n  \"ORG\": [\"port\", \"shipping\"],\\n  \"MISC\": [\"Dec 6\"]\\n}', <OpenAIObject chat.completion id=chatcmpl-8i02qvxvUtvgOjvQFc95q9iTJqlKx at 0x7f3a84844fe0> JSON: {\n",
      "  \"id\": \"chatcmpl-8i02qvxvUtvgOjvQFc95q9iTJqlKx\",\n",
      "  \"object\": \"chat.completion\",\n",
      "  \"created\": 1705497296,\n",
      "  \"model\": \"gpt-35-turbo\",\n",
      "  \"choices\": [\n",
      "    {\n",
      "      \"finish_reason\": \"stop\",\n",
      "      \"index\": 0,\n",
      "      \"message\": {\n",
      "        \"role\": \"assistant\",\n",
      "        \"content\": \"{\\n  \\\"LOC\\\": [\\\"Mexican\\\"],\\n  \\\"ORG\\\": [\\\"port\\\", \\\"shipping\\\"],\\n  \\\"MISC\\\": [\\\"Dec 6\\\"]\\n}\"\n",
      "      }\n",
      "    }\n",
      "  ],\n",
      "  \"usage\": {\n",
      "    \"prompt_tokens\": 301,\n",
      "    \"completion_tokens\": 30,\n",
      "    \"total_tokens\": 331\n",
      "  }\n",
      "})\n"
     ]
    },
    {
     "name": "stderr",
     "output_type": "stream",
     "text": [
      " 55%|█████▌    | 55/100 [01:04<00:49,  1.09s/it]"
     ]
    },
    {
     "name": "stdout",
     "output_type": "stream",
     "text": [
      "('{\\n  \"PER\": [],\\n  \"ORG\": [],\\n  \"LOC\": [],\\n  \"MISC\": []\\n}', <OpenAIObject chat.completion id=chatcmpl-8i02rnmoQDstQ9sHQwctI0WOt48xI at 0x7f3a8431d1c0> JSON: {\n",
      "  \"id\": \"chatcmpl-8i02rnmoQDstQ9sHQwctI0WOt48xI\",\n",
      "  \"object\": \"chat.completion\",\n",
      "  \"created\": 1705497297,\n",
      "  \"model\": \"gpt-35-turbo\",\n",
      "  \"choices\": [\n",
      "    {\n",
      "      \"finish_reason\": \"stop\",\n",
      "      \"index\": 0,\n",
      "      \"message\": {\n",
      "        \"role\": \"assistant\",\n",
      "        \"content\": \"{\\n  \\\"PER\\\": [],\\n  \\\"ORG\\\": [],\\n  \\\"LOC\\\": [],\\n  \\\"MISC\\\": []\\n}\"\n",
      "      }\n",
      "    }\n",
      "  ],\n",
      "  \"usage\": {\n",
      "    \"prompt_tokens\": 294,\n",
      "    \"completion_tokens\": 23,\n",
      "    \"total_tokens\": 317\n",
      "  }\n",
      "})\n"
     ]
    },
    {
     "name": "stderr",
     "output_type": "stream",
     "text": [
      " 56%|█████▌    | 56/100 [01:06<00:52,  1.19s/it]"
     ]
    },
    {
     "name": "stdout",
     "output_type": "stream",
     "text": [
      "('{\\n  \"PER\": [],\\n  \"ORG\": [],\\n  \"LOC\": [\"Mexico\"],\\n  \"MISC\": [\"Greenspan\"]\\n}', <OpenAIObject chat.completion id=chatcmpl-8i02sIgYUK2jXY55nSqcvWw8qSFX6 at 0x7f3a8431e700> JSON: {\n",
      "  \"id\": \"chatcmpl-8i02sIgYUK2jXY55nSqcvWw8qSFX6\",\n",
      "  \"object\": \"chat.completion\",\n",
      "  \"created\": 1705497298,\n",
      "  \"model\": \"gpt-35-turbo\",\n",
      "  \"choices\": [\n",
      "    {\n",
      "      \"finish_reason\": \"stop\",\n",
      "      \"index\": 0,\n",
      "      \"message\": {\n",
      "        \"role\": \"assistant\",\n",
      "        \"content\": \"{\\n  \\\"PER\\\": [],\\n  \\\"ORG\\\": [],\\n  \\\"LOC\\\": [\\\"Mexico\\\"],\\n  \\\"MISC\\\": [\\\"Greenspan\\\"]\\n}\"\n",
      "      }\n",
      "    }\n",
      "  ],\n",
      "  \"usage\": {\n",
      "    \"prompt_tokens\": 344,\n",
      "    \"completion_tokens\": 29,\n",
      "    \"total_tokens\": 373\n",
      "  }\n",
      "})\n"
     ]
    },
    {
     "name": "stderr",
     "output_type": "stream",
     "text": [
      " 57%|█████▋    | 57/100 [01:07<00:52,  1.21s/it]"
     ]
    },
    {
     "name": "stdout",
     "output_type": "stream",
     "text": [
      "('{\\n  \"MISC\": [\"several occasions\", \"innings\", \"crowd\", \"obscene chants\"],\\n  \"PER\": [],\\n  \"ORG\": [],\\n  \"LOC\": []\\n}', <OpenAIObject chat.completion id=chatcmpl-8i02tROngmGSIQ1uyiPGHMKnp71jC at 0x7f3a8431e700> JSON: {\n",
      "  \"id\": \"chatcmpl-8i02tROngmGSIQ1uyiPGHMKnp71jC\",\n",
      "  \"object\": \"chat.completion\",\n",
      "  \"created\": 1705497299,\n",
      "  \"model\": \"gpt-35-turbo\",\n",
      "  \"choices\": [\n",
      "    {\n",
      "      \"finish_reason\": \"stop\",\n",
      "      \"index\": 0,\n",
      "      \"message\": {\n",
      "        \"role\": \"assistant\",\n",
      "        \"content\": \"{\\n  \\\"MISC\\\": [\\\"several occasions\\\", \\\"innings\\\", \\\"crowd\\\", \\\"obscene chants\\\"],\\n  \\\"PER\\\": [],\\n  \\\"ORG\\\": [],\\n  \\\"LOC\\\": []\\n}\"\n",
      "      }\n",
      "    }\n",
      "  ],\n",
      "  \"usage\": {\n",
      "    \"prompt_tokens\": 346,\n",
      "    \"completion_tokens\": 40,\n",
      "    \"total_tokens\": 386\n",
      "  }\n",
      "})\n"
     ]
    },
    {
     "name": "stderr",
     "output_type": "stream",
     "text": [
      " 58%|█████▊    | 58/100 [01:08<00:49,  1.17s/it]"
     ]
    },
    {
     "name": "stdout",
     "output_type": "stream",
     "text": [
      "('{\\n  \"PER\": [\"one student\"],\\n  \"ORG\": [],\\n  \"LOC\": [],\\n  \"MISC\": []\\n}', <OpenAIObject chat.completion id=chatcmpl-8i02vV9aTXYUPAADIK2iCjSBLmxGv at 0x7f3a8431e9d0> JSON: {\n",
      "  \"id\": \"chatcmpl-8i02vV9aTXYUPAADIK2iCjSBLmxGv\",\n",
      "  \"object\": \"chat.completion\",\n",
      "  \"created\": 1705497301,\n",
      "  \"model\": \"gpt-35-turbo\",\n",
      "  \"choices\": [\n",
      "    {\n",
      "      \"finish_reason\": \"stop\",\n",
      "      \"index\": 0,\n",
      "      \"message\": {\n",
      "        \"role\": \"assistant\",\n",
      "        \"content\": \"{\\n  \\\"PER\\\": [\\\"one student\\\"],\\n  \\\"ORG\\\": [],\\n  \\\"LOC\\\": [],\\n  \\\"MISC\\\": []\\n}\"\n",
      "      }\n",
      "    }\n",
      "  ],\n",
      "  \"usage\": {\n",
      "    \"prompt_tokens\": 375,\n",
      "    \"completion_tokens\": 26,\n",
      "    \"total_tokens\": 401\n",
      "  }\n",
      "})\n"
     ]
    },
    {
     "name": "stderr",
     "output_type": "stream",
     "text": [
      " 59%|█████▉    | 59/100 [01:09<00:48,  1.17s/it]"
     ]
    },
    {
     "name": "stdout",
     "output_type": "stream",
     "text": [
      "('{\\n  \"PER\": [\"he\"],\\n  \"ORG\": [],\\n  \"LOC\": [],\\n  \"MISC\": []\\n}', <OpenAIObject chat.completion id=chatcmpl-8i02wiay3maO8XfUGvjtASzvoJsOC at 0x7f3a8431e700> JSON: {\n",
      "  \"id\": \"chatcmpl-8i02wiay3maO8XfUGvjtASzvoJsOC\",\n",
      "  \"object\": \"chat.completion\",\n",
      "  \"created\": 1705497302,\n",
      "  \"model\": \"gpt-35-turbo\",\n",
      "  \"choices\": [\n",
      "    {\n",
      "      \"finish_reason\": \"stop\",\n",
      "      \"index\": 0,\n",
      "      \"message\": {\n",
      "        \"role\": \"assistant\",\n",
      "        \"content\": \"{\\n  \\\"PER\\\": [\\\"he\\\"],\\n  \\\"ORG\\\": [],\\n  \\\"LOC\\\": [],\\n  \\\"MISC\\\": []\\n}\"\n",
      "      }\n",
      "    }\n",
      "  ],\n",
      "  \"usage\": {\n",
      "    \"prompt_tokens\": 331,\n",
      "    \"completion_tokens\": 25,\n",
      "    \"total_tokens\": 356\n",
      "  }\n",
      "})\n"
     ]
    },
    {
     "name": "stderr",
     "output_type": "stream",
     "text": [
      " 60%|██████    | 60/100 [01:11<00:50,  1.26s/it]"
     ]
    },
    {
     "name": "stdout",
     "output_type": "stream",
     "text": [
      "('{\\n  \"PER\": [\\n    \"Kurdistan Workers Party\",\\n    \"PKK\"\\n  ],\\n  \"ORG\": [\\n    \"media\"\\n  ],\\n  \"LOC\": [\\n    \"southeast\"\\n  ],\\n  \"MISC\": [\\n    \"70,000\",\\n    \"Kurdish\"\\n  ]\\n}', <OpenAIObject chat.completion id=chatcmpl-8i02xt6WzB0kRiydqZayJVDpmRRJP at 0x7f3a8431efc0> JSON: {\n",
      "  \"id\": \"chatcmpl-8i02xt6WzB0kRiydqZayJVDpmRRJP\",\n",
      "  \"object\": \"chat.completion\",\n",
      "  \"created\": 1705497303,\n",
      "  \"model\": \"gpt-35-turbo\",\n",
      "  \"choices\": [\n",
      "    {\n",
      "      \"finish_reason\": \"stop\",\n",
      "      \"index\": 0,\n",
      "      \"message\": {\n",
      "        \"role\": \"assistant\",\n",
      "        \"content\": \"{\\n  \\\"PER\\\": [\\n    \\\"Kurdistan Workers Party\\\",\\n    \\\"PKK\\\"\\n  ],\\n  \\\"ORG\\\": [\\n    \\\"media\\\"\\n  ],\\n  \\\"LOC\\\": [\\n    \\\"southeast\\\"\\n  ],\\n  \\\"MISC\\\": [\\n    \\\"70,000\\\",\\n    \\\"Kurdish\\\"\\n  ]\\n}\"\n",
      "      }\n",
      "    }\n",
      "  ],\n",
      "  \"usage\": {\n",
      "    \"prompt_tokens\": 371,\n",
      "    \"completion_tokens\": 66,\n",
      "    \"total_tokens\": 437\n",
      "  }\n",
      "})\n"
     ]
    },
    {
     "name": "stderr",
     "output_type": "stream",
     "text": [
      " 61%|██████    | 61/100 [01:12<00:51,  1.31s/it]"
     ]
    },
    {
     "name": "stdout",
     "output_type": "stream",
     "text": [
      "('{\\n  \"PER\": [\"Manchester United\"],\\n  \"CARDINAL\": [\"2-0\"]\\n}', <OpenAIObject chat.completion id=chatcmpl-8i02ztcr7xpV08hDS8cDdjR2SrWNZ at 0x7f3a8431efc0> JSON: {\n",
      "  \"id\": \"chatcmpl-8i02ztcr7xpV08hDS8cDdjR2SrWNZ\",\n",
      "  \"object\": \"chat.completion\",\n",
      "  \"created\": 1705497305,\n",
      "  \"model\": \"gpt-35-turbo\",\n",
      "  \"choices\": [\n",
      "    {\n",
      "      \"finish_reason\": \"stop\",\n",
      "      \"index\": 0,\n",
      "      \"message\": {\n",
      "        \"role\": \"assistant\",\n",
      "        \"content\": \"{\\n  \\\"PER\\\": [\\\"Manchester United\\\"],\\n  \\\"CARDINAL\\\": [\\\"2-0\\\"]\\n}\"\n",
      "      }\n",
      "    }\n",
      "  ],\n",
      "  \"usage\": {\n",
      "    \"prompt_tokens\": 286,\n",
      "    \"completion_tokens\": 20,\n",
      "    \"total_tokens\": 306\n",
      "  }\n",
      "})\n"
     ]
    },
    {
     "name": "stderr",
     "output_type": "stream",
     "text": [
      " 62%|██████▏   | 62/100 [01:14<00:54,  1.45s/it]"
     ]
    },
    {
     "name": "stdout",
     "output_type": "stream",
     "text": [
      "('{\\n  \"PER\": [],\\n  \"ORG\": [],\\n  \"LOC\": [],\\n  \"MISC\": [\\n    \"Indian\",\\n    \"Moslem\",\\n    \"Bombay\"\\n  ]\\n}', <OpenAIObject chat.completion id=chatcmpl-8i030LUSiyVUCRYTLG5kHCXI4m0gC at 0x7f3a8431e700> JSON: {\n",
      "  \"id\": \"chatcmpl-8i030LUSiyVUCRYTLG5kHCXI4m0gC\",\n",
      "  \"object\": \"chat.completion\",\n",
      "  \"created\": 1705497306,\n",
      "  \"model\": \"gpt-35-turbo\",\n",
      "  \"choices\": [\n",
      "    {\n",
      "      \"finish_reason\": \"stop\",\n",
      "      \"index\": 0,\n",
      "      \"message\": {\n",
      "        \"role\": \"assistant\",\n",
      "        \"content\": \"{\\n  \\\"PER\\\": [],\\n  \\\"ORG\\\": [],\\n  \\\"LOC\\\": [],\\n  \\\"MISC\\\": [\\n    \\\"Indian\\\",\\n    \\\"Moslem\\\",\\n    \\\"Bombay\\\"\\n  ]\\n}\"\n",
      "      }\n",
      "    }\n",
      "  ],\n",
      "  \"usage\": {\n",
      "    \"prompt_tokens\": 378,\n",
      "    \"completion_tokens\": 39,\n",
      "    \"total_tokens\": 417\n",
      "  }\n",
      "})\n"
     ]
    },
    {
     "name": "stderr",
     "output_type": "stream",
     "text": [
      " 63%|██████▎   | 63/100 [01:15<00:51,  1.39s/it]"
     ]
    },
    {
     "name": "stdout",
     "output_type": "stream",
     "text": [
      "('{\\n  \"PER\": [\"Buza\", \"Gjonaj\"],\\n  \"ORG\": [],\\n  \"LOC\": [],\\n  \"MISC\": []\\n}', <OpenAIObject chat.completion id=chatcmpl-8i032UkP4e7hryN92Y2896hdUu3T3 at 0x7f3a8431e700> JSON: {\n",
      "  \"id\": \"chatcmpl-8i032UkP4e7hryN92Y2896hdUu3T3\",\n",
      "  \"object\": \"chat.completion\",\n",
      "  \"created\": 1705497308,\n",
      "  \"model\": \"gpt-35-turbo\",\n",
      "  \"choices\": [\n",
      "    {\n",
      "      \"finish_reason\": \"stop\",\n",
      "      \"index\": 0,\n",
      "      \"message\": {\n",
      "        \"role\": \"assistant\",\n",
      "        \"content\": \"{\\n  \\\"PER\\\": [\\\"Buza\\\", \\\"Gjonaj\\\"],\\n  \\\"ORG\\\": [],\\n  \\\"LOC\\\": [],\\n  \\\"MISC\\\": []\\n}\"\n",
      "      }\n",
      "    }\n",
      "  ],\n",
      "  \"usage\": {\n",
      "    \"prompt_tokens\": 381,\n",
      "    \"completion_tokens\": 31,\n",
      "    \"total_tokens\": 412\n",
      "  }\n",
      "})\n"
     ]
    },
    {
     "name": "stderr",
     "output_type": "stream",
     "text": [
      " 64%|██████▍   | 64/100 [01:16<00:47,  1.33s/it]"
     ]
    },
    {
     "name": "stdout",
     "output_type": "stream",
     "text": [
      "('{\\n  \"PER\": [],\\n  \"ORG\": [],\\n  \"LOC\": [\\n    \"United States\"\\n  ],\\n  \"MISC\": []\\n}', <OpenAIObject chat.completion id=chatcmpl-8i03352SAF5dCG4DEGeXWbnubE9yN at 0x7f3a8431e9d0> JSON: {\n",
      "  \"id\": \"chatcmpl-8i03352SAF5dCG4DEGeXWbnubE9yN\",\n",
      "  \"object\": \"chat.completion\",\n",
      "  \"created\": 1705497309,\n",
      "  \"model\": \"gpt-35-turbo\",\n",
      "  \"choices\": [\n",
      "    {\n",
      "      \"finish_reason\": \"stop\",\n",
      "      \"index\": 0,\n",
      "      \"message\": {\n",
      "        \"role\": \"assistant\",\n",
      "        \"content\": \"{\\n  \\\"PER\\\": [],\\n  \\\"ORG\\\": [],\\n  \\\"LOC\\\": [\\n    \\\"United States\\\"\\n  ],\\n  \\\"MISC\\\": []\\n}\"\n",
      "      }\n",
      "    }\n",
      "  ],\n",
      "  \"usage\": {\n",
      "    \"prompt_tokens\": 355,\n",
      "    \"completion_tokens\": 30,\n",
      "    \"total_tokens\": 385\n",
      "  }\n",
      "})\n"
     ]
    },
    {
     "name": "stderr",
     "output_type": "stream",
     "text": [
      " 65%|██████▌   | 65/100 [01:17<00:46,  1.32s/it]"
     ]
    },
    {
     "name": "stdout",
     "output_type": "stream",
     "text": [
      "('{\\n  \"PER\": [\"CHARLTON\"],\\n  \"MISC\": [\"SOCCER\"],\\n  \"NORP\": [\"ENGLISHMAN\"],\\n  \"LOC\": [\"IRISHMAN\"]\\n}', <OpenAIObject chat.completion id=chatcmpl-8i034Ph2MPPxZo6xBSxIR4ppeYonp at 0x7f3a8431f1f0> JSON: {\n",
      "  \"id\": \"chatcmpl-8i034Ph2MPPxZo6xBSxIR4ppeYonp\",\n",
      "  \"object\": \"chat.completion\",\n",
      "  \"created\": 1705497310,\n",
      "  \"model\": \"gpt-35-turbo\",\n",
      "  \"choices\": [\n",
      "    {\n",
      "      \"finish_reason\": \"stop\",\n",
      "      \"index\": 0,\n",
      "      \"message\": {\n",
      "        \"role\": \"assistant\",\n",
      "        \"content\": \"{\\n  \\\"PER\\\": [\\\"CHARLTON\\\"],\\n  \\\"MISC\\\": [\\\"SOCCER\\\"],\\n  \\\"NORP\\\": [\\\"ENGLISHMAN\\\"],\\n  \\\"LOC\\\": [\\\"IRISHMAN\\\"]\\n}\"\n",
      "      }\n",
      "    }\n",
      "  ],\n",
      "  \"usage\": {\n",
      "    \"prompt_tokens\": 369,\n",
      "    \"completion_tokens\": 41,\n",
      "    \"total_tokens\": 410\n",
      "  }\n",
      "})\n"
     ]
    },
    {
     "name": "stderr",
     "output_type": "stream",
     "text": [
      " 66%|██████▌   | 66/100 [01:19<00:43,  1.27s/it]"
     ]
    },
    {
     "name": "stdout",
     "output_type": "stream",
     "text": [
      "('{\\n  \"MISC\": [],\\n  \"ORG\": [\"Eagles\"],\\n  \"PER\": [],\\n  \"LOC\": []\\n}', <OpenAIObject chat.completion id=chatcmpl-8i035TEeN1OebTszXWw45b9FzHE3R at 0x7f3a8431f1f0> JSON: {\n",
      "  \"id\": \"chatcmpl-8i035TEeN1OebTszXWw45b9FzHE3R\",\n",
      "  \"object\": \"chat.completion\",\n",
      "  \"created\": 1705497311,\n",
      "  \"model\": \"gpt-35-turbo\",\n",
      "  \"choices\": [\n",
      "    {\n",
      "      \"finish_reason\": \"stop\",\n",
      "      \"index\": 0,\n",
      "      \"message\": {\n",
      "        \"role\": \"assistant\",\n",
      "        \"content\": \"{\\n  \\\"MISC\\\": [],\\n  \\\"ORG\\\": [\\\"Eagles\\\"],\\n  \\\"PER\\\": [],\\n  \\\"LOC\\\": []\\n}\"\n",
      "      }\n",
      "    }\n",
      "  ],\n",
      "  \"usage\": {\n",
      "    \"prompt_tokens\": 351,\n",
      "    \"completion_tokens\": 27,\n",
      "    \"total_tokens\": 378\n",
      "  }\n",
      "})\n"
     ]
    },
    {
     "name": "stderr",
     "output_type": "stream",
     "text": [
      " 67%|██████▋   | 67/100 [01:20<00:42,  1.30s/it]"
     ]
    },
    {
     "name": "stdout",
     "output_type": "stream",
     "text": [
      "('{\\n  \"PER\": [\"Rosati\"],\\n  \"ORG\": [\"Switzerland\", \"Soviet-imposed communists\"],\\n  \"LOC\": [\"Warsaw\", \"World War Two\"]\\n}', <OpenAIObject chat.completion id=chatcmpl-8i03760YFT9JCt5t0EmVynYbpSO6S at 0x7f3a8431efc0> JSON: {\n",
      "  \"id\": \"chatcmpl-8i03760YFT9JCt5t0EmVynYbpSO6S\",\n",
      "  \"object\": \"chat.completion\",\n",
      "  \"created\": 1705497313,\n",
      "  \"model\": \"gpt-35-turbo\",\n",
      "  \"choices\": [\n",
      "    {\n",
      "      \"finish_reason\": \"stop\",\n",
      "      \"index\": 0,\n",
      "      \"message\": {\n",
      "        \"role\": \"assistant\",\n",
      "        \"content\": \"{\\n  \\\"PER\\\": [\\\"Rosati\\\"],\\n  \\\"ORG\\\": [\\\"Switzerland\\\", \\\"Soviet-imposed communists\\\"],\\n  \\\"LOC\\\": [\\\"Warsaw\\\", \\\"World War Two\\\"]\\n}\"\n",
      "      }\n",
      "    }\n",
      "  ],\n",
      "  \"usage\": {\n",
      "    \"prompt_tokens\": 379,\n",
      "    \"completion_tokens\": 40,\n",
      "    \"total_tokens\": 419\n",
      "  }\n",
      "})\n"
     ]
    },
    {
     "name": "stderr",
     "output_type": "stream",
     "text": [
      " 68%|██████▊   | 68/100 [01:21<00:38,  1.19s/it]"
     ]
    },
    {
     "name": "stdout",
     "output_type": "stream",
     "text": [
      "('{\\n  \"PER\": [\"girl\\'s father\"],\\n  \"MISC\": [\"party\"]\\n}', <OpenAIObject chat.completion id=chatcmpl-8i0389hSTWxq7ZUIzXCCSxKuskOzM at 0x7f3a8431f1f0> JSON: {\n",
      "  \"id\": \"chatcmpl-8i0389hSTWxq7ZUIzXCCSxKuskOzM\",\n",
      "  \"object\": \"chat.completion\",\n",
      "  \"created\": 1705497314,\n",
      "  \"model\": \"gpt-35-turbo\",\n",
      "  \"choices\": [\n",
      "    {\n",
      "      \"finish_reason\": \"stop\",\n",
      "      \"index\": 0,\n",
      "      \"message\": {\n",
      "        \"role\": \"assistant\",\n",
      "        \"content\": \"{\\n  \\\"PER\\\": [\\\"girl's father\\\"],\\n  \\\"MISC\\\": [\\\"party\\\"]\\n}\"\n",
      "      }\n",
      "    }\n",
      "  ],\n",
      "  \"usage\": {\n",
      "    \"prompt_tokens\": 381,\n",
      "    \"completion_tokens\": 19,\n",
      "    \"total_tokens\": 400\n",
      "  }\n",
      "})\n"
     ]
    },
    {
     "name": "stderr",
     "output_type": "stream",
     "text": [
      " 69%|██████▉   | 69/100 [01:22<00:36,  1.17s/it]"
     ]
    },
    {
     "name": "stdout",
     "output_type": "stream",
     "text": [
      "('{\\n  \"PER\": [\"Jones\", \"David Boon\", \"Shaun Young\", \"Michael DiVenuto\"],\\n  \"MISC\": [\"Tasmanian\"]\\n}', <OpenAIObject chat.completion id=chatcmpl-8i039tQ6vHZ86TMZzZMNYhDXq95Sh at 0x7f3a8431efc0> JSON: {\n",
      "  \"id\": \"chatcmpl-8i039tQ6vHZ86TMZzZMNYhDXq95Sh\",\n",
      "  \"object\": \"chat.completion\",\n",
      "  \"created\": 1705497315,\n",
      "  \"model\": \"gpt-35-turbo\",\n",
      "  \"choices\": [\n",
      "    {\n",
      "      \"finish_reason\": \"stop\",\n",
      "      \"index\": 0,\n",
      "      \"message\": {\n",
      "        \"role\": \"assistant\",\n",
      "        \"content\": \"{\\n  \\\"PER\\\": [\\\"Jones\\\", \\\"David Boon\\\", \\\"Shaun Young\\\", \\\"Michael DiVenuto\\\"],\\n  \\\"MISC\\\": [\\\"Tasmanian\\\"]\\n}\"\n",
      "      }\n",
      "    }\n",
      "  ],\n",
      "  \"usage\": {\n",
      "    \"prompt_tokens\": 392,\n",
      "    \"completion_tokens\": 36,\n",
      "    \"total_tokens\": 428\n",
      "  }\n",
      "})\n"
     ]
    },
    {
     "name": "stderr",
     "output_type": "stream",
     "text": [
      " 70%|███████   | 70/100 [01:23<00:34,  1.15s/it]"
     ]
    },
    {
     "name": "stdout",
     "output_type": "stream",
     "text": [
      "('{\\n  \"PER\": [],\\n  \"ORG\": [],\\n  \"LOC\": [],\\n  \"MISC\": []\\n}', <OpenAIObject chat.completion id=chatcmpl-8i03AllGsPbT4nl6o870uJJANJQ9z at 0x7f3a8431e9d0> JSON: {\n",
      "  \"id\": \"chatcmpl-8i03AllGsPbT4nl6o870uJJANJQ9z\",\n",
      "  \"object\": \"chat.completion\",\n",
      "  \"created\": 1705497316,\n",
      "  \"model\": \"gpt-35-turbo\",\n",
      "  \"choices\": [\n",
      "    {\n",
      "      \"finish_reason\": \"stop\",\n",
      "      \"index\": 0,\n",
      "      \"message\": {\n",
      "        \"role\": \"assistant\",\n",
      "        \"content\": \"{\\n  \\\"PER\\\": [],\\n  \\\"ORG\\\": [],\\n  \\\"LOC\\\": [],\\n  \\\"MISC\\\": []\\n}\"\n",
      "      }\n",
      "    }\n",
      "  ],\n",
      "  \"usage\": {\n",
      "    \"prompt_tokens\": 353,\n",
      "    \"completion_tokens\": 23,\n",
      "    \"total_tokens\": 376\n",
      "  }\n",
      "})\n"
     ]
    },
    {
     "name": "stderr",
     "output_type": "stream",
     "text": [
      " 71%|███████   | 71/100 [01:24<00:33,  1.15s/it]"
     ]
    },
    {
     "name": "stdout",
     "output_type": "stream",
     "text": [
      "('{\\n  \"ORG\": [\"New York\"],\\n  \"MISC\": [\"grain freight fixtures\"],\\n  \"CARDINAL\": [\"Dec 5\"]\\n}', <OpenAIObject chat.completion id=chatcmpl-8i03B9T4bBswMg1d2sRiKl5X3BrRH at 0x7f3a8431efc0> JSON: {\n",
      "  \"id\": \"chatcmpl-8i03B9T4bBswMg1d2sRiKl5X3BrRH\",\n",
      "  \"object\": \"chat.completion\",\n",
      "  \"created\": 1705497317,\n",
      "  \"model\": \"gpt-35-turbo\",\n",
      "  \"choices\": [\n",
      "    {\n",
      "      \"finish_reason\": \"stop\",\n",
      "      \"index\": 0,\n",
      "      \"message\": {\n",
      "        \"role\": \"assistant\",\n",
      "        \"content\": \"{\\n  \\\"ORG\\\": [\\\"New York\\\"],\\n  \\\"MISC\\\": [\\\"grain freight fixtures\\\"],\\n  \\\"CARDINAL\\\": [\\\"Dec 5\\\"]\\n}\"\n",
      "      }\n",
      "    }\n",
      "  ],\n",
      "  \"usage\": {\n",
      "    \"prompt_tokens\": 313,\n",
      "    \"completion_tokens\": 31,\n",
      "    \"total_tokens\": 344\n",
      "  }\n",
      "})\n"
     ]
    },
    {
     "name": "stderr",
     "output_type": "stream",
     "text": [
      " 72%|███████▏  | 72/100 [01:25<00:31,  1.12s/it]"
     ]
    },
    {
     "name": "stdout",
     "output_type": "stream",
     "text": [
      "('{\\n  \"PER\": [\"Frederick\"],\\n  \"CARDINAL\": [\"347-year\"]\\n}', <OpenAIObject chat.completion id=chatcmpl-8i03ClDz1wvKoBlPneFLh4DZ2W4jA at 0x7f3a8431efc0> JSON: {\n",
      "  \"id\": \"chatcmpl-8i03ClDz1wvKoBlPneFLh4DZ2W4jA\",\n",
      "  \"object\": \"chat.completion\",\n",
      "  \"created\": 1705497318,\n",
      "  \"model\": \"gpt-35-turbo\",\n",
      "  \"choices\": [\n",
      "    {\n",
      "      \"finish_reason\": \"stop\",\n",
      "      \"index\": 0,\n",
      "      \"message\": {\n",
      "        \"role\": \"assistant\",\n",
      "        \"content\": \"{\\n  \\\"PER\\\": [\\\"Frederick\\\"],\\n  \\\"CARDINAL\\\": [\\\"347-year\\\"]\\n}\"\n",
      "      }\n",
      "    }\n",
      "  ],\n",
      "  \"usage\": {\n",
      "    \"prompt_tokens\": 332,\n",
      "    \"completion_tokens\": 20,\n",
      "    \"total_tokens\": 352\n",
      "  }\n",
      "})\n"
     ]
    },
    {
     "name": "stderr",
     "output_type": "stream",
     "text": [
      " 73%|███████▎  | 73/100 [01:28<00:39,  1.46s/it]"
     ]
    },
    {
     "name": "stdout",
     "output_type": "stream",
     "text": [
      "('{\\n  \"PER\": [\"Aly Ashour\", \"Mohamed Ouda\"],\\n  \"CARDINAL\": [\"7\", \"56\", \"24\", \"73\"]\\n}', <OpenAIObject chat.completion id=chatcmpl-8i03EuSfStFGRGPuDObTHc28jOwIi at 0x7f3a8431e700> JSON: {\n",
      "  \"id\": \"chatcmpl-8i03EuSfStFGRGPuDObTHc28jOwIi\",\n",
      "  \"object\": \"chat.completion\",\n",
      "  \"created\": 1705497320,\n",
      "  \"model\": \"gpt-35-turbo\",\n",
      "  \"choices\": [\n",
      "    {\n",
      "      \"finish_reason\": \"stop\",\n",
      "      \"index\": 0,\n",
      "      \"message\": {\n",
      "        \"role\": \"assistant\",\n",
      "        \"content\": \"{\\n  \\\"PER\\\": [\\\"Aly Ashour\\\", \\\"Mohamed Ouda\\\"],\\n  \\\"CARDINAL\\\": [\\\"7\\\", \\\"56\\\", \\\"24\\\", \\\"73\\\"]\\n}\"\n",
      "      }\n",
      "    }\n",
      "  ],\n",
      "  \"usage\": {\n",
      "    \"prompt_tokens\": 304,\n",
      "    \"completion_tokens\": 35,\n",
      "    \"total_tokens\": 339\n",
      "  }\n",
      "})\n"
     ]
    },
    {
     "name": "stderr",
     "output_type": "stream",
     "text": [
      " 74%|███████▍  | 74/100 [01:29<00:34,  1.34s/it]"
     ]
    },
    {
     "name": "stdout",
     "output_type": "stream",
     "text": [
      "('{\\n  \"PER\": [],\\n  \"ORG\": [],\\n  \"LOC\": [],\\n  \"MISC\": []\\n}', <OpenAIObject chat.completion id=chatcmpl-8i03F66ugzn5c1TTOc6wKnxhWxfDP at 0x7f3a8431e700> JSON: {\n",
      "  \"id\": \"chatcmpl-8i03F66ugzn5c1TTOc6wKnxhWxfDP\",\n",
      "  \"object\": \"chat.completion\",\n",
      "  \"created\": 1705497321,\n",
      "  \"model\": \"gpt-35-turbo\",\n",
      "  \"choices\": [\n",
      "    {\n",
      "      \"finish_reason\": \"stop\",\n",
      "      \"index\": 0,\n",
      "      \"message\": {\n",
      "        \"role\": \"assistant\",\n",
      "        \"content\": \"{\\n  \\\"PER\\\": [],\\n  \\\"ORG\\\": [],\\n  \\\"LOC\\\": [],\\n  \\\"MISC\\\": []\\n}\"\n",
      "      }\n",
      "    }\n",
      "  ],\n",
      "  \"usage\": {\n",
      "    \"prompt_tokens\": 333,\n",
      "    \"completion_tokens\": 23,\n",
      "    \"total_tokens\": 356\n",
      "  }\n",
      "})\n"
     ]
    },
    {
     "name": "stderr",
     "output_type": "stream",
     "text": [
      " 75%|███████▌  | 75/100 [01:30<00:32,  1.28s/it]"
     ]
    },
    {
     "name": "stdout",
     "output_type": "stream",
     "text": [
      "('{\\n  \"ORG\": [\"Hyundai Heavy\", \"Koram Bank\"],\\n  \"MISC\": [\"dollar\"],\\n  \"CARDINAL\": [\"$ 60 million\"]\\n}', <OpenAIObject chat.completion id=chatcmpl-8i03GXKCR097KFpRZoVt7DCpNvqxd at 0x7f3a8431f1f0> JSON: {\n",
      "  \"id\": \"chatcmpl-8i03GXKCR097KFpRZoVt7DCpNvqxd\",\n",
      "  \"object\": \"chat.completion\",\n",
      "  \"created\": 1705497322,\n",
      "  \"model\": \"gpt-35-turbo\",\n",
      "  \"choices\": [\n",
      "    {\n",
      "      \"finish_reason\": \"stop\",\n",
      "      \"index\": 0,\n",
      "      \"message\": {\n",
      "        \"role\": \"assistant\",\n",
      "        \"content\": \"{\\n  \\\"ORG\\\": [\\\"Hyundai Heavy\\\", \\\"Koram Bank\\\"],\\n  \\\"MISC\\\": [\\\"dollar\\\"],\\n  \\\"CARDINAL\\\": [\\\"$ 60 million\\\"]\\n}\"\n",
      "      }\n",
      "    }\n",
      "  ],\n",
      "  \"usage\": {\n",
      "    \"prompt_tokens\": 412,\n",
      "    \"completion_tokens\": 36,\n",
      "    \"total_tokens\": 448\n",
      "  }\n",
      "})\n"
     ]
    },
    {
     "name": "stderr",
     "output_type": "stream",
     "text": [
      " 76%|███████▌  | 76/100 [01:31<00:30,  1.26s/it]"
     ]
    },
    {
     "name": "stdout",
     "output_type": "stream",
     "text": [
      "('{\\n  \"PER\": [\"him\"],\\n  \"ORG\": [],\\n  \"LOC\": [],\\n  \"MISC\": []\\n}', <OpenAIObject chat.completion id=chatcmpl-8i03IeDM92KJqS5bpId93uRCMn3Uu at 0x7f3a8431e700> JSON: {\n",
      "  \"id\": \"chatcmpl-8i03IeDM92KJqS5bpId93uRCMn3Uu\",\n",
      "  \"object\": \"chat.completion\",\n",
      "  \"created\": 1705497324,\n",
      "  \"model\": \"gpt-35-turbo\",\n",
      "  \"choices\": [\n",
      "    {\n",
      "      \"finish_reason\": \"stop\",\n",
      "      \"index\": 0,\n",
      "      \"message\": {\n",
      "        \"role\": \"assistant\",\n",
      "        \"content\": \"{\\n  \\\"PER\\\": [\\\"him\\\"],\\n  \\\"ORG\\\": [],\\n  \\\"LOC\\\": [],\\n  \\\"MISC\\\": []\\n}\"\n",
      "      }\n",
      "    }\n",
      "  ],\n",
      "  \"usage\": {\n",
      "    \"prompt_tokens\": 317,\n",
      "    \"completion_tokens\": 25,\n",
      "    \"total_tokens\": 342\n",
      "  }\n",
      "})\n"
     ]
    },
    {
     "name": "stderr",
     "output_type": "stream",
     "text": [
      " 77%|███████▋  | 77/100 [01:32<00:30,  1.33s/it]"
     ]
    },
    {
     "name": "stdout",
     "output_type": "stream",
     "text": [
      "('{\\n  \"MISC\": [\"CAN\", \"U.S. DOLLAR\"],\\n  \"ORG\": [],\\n  \"PER\": [],\\n  \"LOC\": []\\n}', <OpenAIObject chat.completion id=chatcmpl-8i03JjyZhBUmsSmpIf5HT1U4MhXx2 at 0x7f3a8431f1f0> JSON: {\n",
      "  \"id\": \"chatcmpl-8i03JjyZhBUmsSmpIf5HT1U4MhXx2\",\n",
      "  \"object\": \"chat.completion\",\n",
      "  \"created\": 1705497325,\n",
      "  \"model\": \"gpt-35-turbo\",\n",
      "  \"choices\": [\n",
      "    {\n",
      "      \"finish_reason\": \"stop\",\n",
      "      \"index\": 0,\n",
      "      \"message\": {\n",
      "        \"role\": \"assistant\",\n",
      "        \"content\": \"{\\n  \\\"MISC\\\": [\\\"CAN\\\", \\\"U.S. DOLLAR\\\"],\\n  \\\"ORG\\\": [],\\n  \\\"PER\\\": [],\\n  \\\"LOC\\\": []\\n}\"\n",
      "      }\n",
      "    }\n",
      "  ],\n",
      "  \"usage\": {\n",
      "    \"prompt_tokens\": 294,\n",
      "    \"completion_tokens\": 33,\n",
      "    \"total_tokens\": 327\n",
      "  }\n",
      "})\n"
     ]
    },
    {
     "name": "stderr",
     "output_type": "stream",
     "text": [
      " 78%|███████▊  | 78/100 [01:34<00:28,  1.28s/it]"
     ]
    },
    {
     "name": "stdout",
     "output_type": "stream",
     "text": [
      "('{\\n  \"ORG\": [\"Santa Fe\", \"Newmont\"],\\n  \"LOC\": [\"Nevada\"]\\n}', <OpenAIObject chat.completion id=chatcmpl-8i03KAyjzEUxcj7QKZYIouSxTaNgA at 0x7f3a8431e700> JSON: {\n",
      "  \"id\": \"chatcmpl-8i03KAyjzEUxcj7QKZYIouSxTaNgA\",\n",
      "  \"object\": \"chat.completion\",\n",
      "  \"created\": 1705497326,\n",
      "  \"model\": \"gpt-35-turbo\",\n",
      "  \"choices\": [\n",
      "    {\n",
      "      \"finish_reason\": \"stop\",\n",
      "      \"index\": 0,\n",
      "      \"message\": {\n",
      "        \"role\": \"assistant\",\n",
      "        \"content\": \"{\\n  \\\"ORG\\\": [\\\"Santa Fe\\\", \\\"Newmont\\\"],\\n  \\\"LOC\\\": [\\\"Nevada\\\"]\\n}\"\n",
      "      }\n",
      "    }\n",
      "  ],\n",
      "  \"usage\": {\n",
      "    \"prompt_tokens\": 391,\n",
      "    \"completion_tokens\": 23,\n",
      "    \"total_tokens\": 414\n",
      "  }\n",
      "})\n"
     ]
    },
    {
     "name": "stderr",
     "output_type": "stream",
     "text": [
      " 79%|███████▉  | 79/100 [01:35<00:26,  1.27s/it]"
     ]
    },
    {
     "name": "stdout",
     "output_type": "stream",
     "text": [
      "('{\\n  \"PER\": [\"Zahoor Elahi\", \"Cairns\"],\\n  \"CARDINAL\": [\"86\", \"87\"]\\n}', <OpenAIObject chat.completion id=chatcmpl-8i03MmZNSVMmr4BE2Ul2gh7ZZmz8Y at 0x7f3a8431e700> JSON: {\n",
      "  \"id\": \"chatcmpl-8i03MmZNSVMmr4BE2Ul2gh7ZZmz8Y\",\n",
      "  \"object\": \"chat.completion\",\n",
      "  \"created\": 1705497328,\n",
      "  \"model\": \"gpt-35-turbo\",\n",
      "  \"choices\": [\n",
      "    {\n",
      "      \"finish_reason\": \"stop\",\n",
      "      \"index\": 0,\n",
      "      \"message\": {\n",
      "        \"role\": \"assistant\",\n",
      "        \"content\": \"{\\n  \\\"PER\\\": [\\\"Zahoor Elahi\\\", \\\"Cairns\\\"],\\n  \\\"CARDINAL\\\": [\\\"86\\\", \\\"87\\\"]\\n}\"\n",
      "      }\n",
      "    }\n",
      "  ],\n",
      "  \"usage\": {\n",
      "    \"prompt_tokens\": 306,\n",
      "    \"completion_tokens\": 29,\n",
      "    \"total_tokens\": 335\n",
      "  }\n",
      "})\n"
     ]
    },
    {
     "name": "stderr",
     "output_type": "stream",
     "text": [
      " 80%|████████  | 80/100 [01:36<00:23,  1.15s/it]"
     ]
    },
    {
     "name": "stdout",
     "output_type": "stream",
     "text": [
      "('{\\n  \"LOC\": [\"territories\"]\\n}', <OpenAIObject chat.completion id=chatcmpl-8i03N7OmToBbhUtUL9absbpPuHoDL at 0x7f3a8431efc0> JSON: {\n",
      "  \"id\": \"chatcmpl-8i03N7OmToBbhUtUL9absbpPuHoDL\",\n",
      "  \"object\": \"chat.completion\",\n",
      "  \"created\": 1705497329,\n",
      "  \"model\": \"gpt-35-turbo\",\n",
      "  \"choices\": [\n",
      "    {\n",
      "      \"finish_reason\": \"stop\",\n",
      "      \"index\": 0,\n",
      "      \"message\": {\n",
      "        \"role\": \"assistant\",\n",
      "        \"content\": \"{\\n  \\\"LOC\\\": [\\\"territories\\\"]\\n}\"\n",
      "      }\n",
      "    }\n",
      "  ],\n",
      "  \"usage\": {\n",
      "    \"prompt_tokens\": 341,\n",
      "    \"completion_tokens\": 10,\n",
      "    \"total_tokens\": 351\n",
      "  }\n",
      "})\n"
     ]
    },
    {
     "name": "stderr",
     "output_type": "stream",
     "text": [
      " 81%|████████  | 81/100 [01:37<00:21,  1.14s/it]"
     ]
    },
    {
     "name": "stdout",
     "output_type": "stream",
     "text": [
      "('{\\n  \"ORG\": [\"Fife\", \"Partick\", \"Stirling\", \"St Mirren\"],\\n  \"DATE\": [\"Tuesday\"]\\n}', <OpenAIObject chat.completion id=chatcmpl-8i03Ot09eOvhqo6o6yWRxMVmW70Iu at 0x7f3a8431e700> JSON: {\n",
      "  \"id\": \"chatcmpl-8i03Ot09eOvhqo6o6yWRxMVmW70Iu\",\n",
      "  \"object\": \"chat.completion\",\n",
      "  \"created\": 1705497330,\n",
      "  \"model\": \"gpt-35-turbo\",\n",
      "  \"choices\": [\n",
      "    {\n",
      "      \"finish_reason\": \"stop\",\n",
      "      \"index\": 0,\n",
      "      \"message\": {\n",
      "        \"role\": \"assistant\",\n",
      "        \"content\": \"{\\n  \\\"ORG\\\": [\\\"Fife\\\", \\\"Partick\\\", \\\"Stirling\\\", \\\"St Mirren\\\"],\\n  \\\"DATE\\\": [\\\"Tuesday\\\"]\\n}\"\n",
      "      }\n",
      "    }\n",
      "  ],\n",
      "  \"usage\": {\n",
      "    \"prompt_tokens\": 277,\n",
      "    \"completion_tokens\": 30,\n",
      "    \"total_tokens\": 307\n",
      "  }\n",
      "})\n"
     ]
    },
    {
     "name": "stderr",
     "output_type": "stream",
     "text": [
      " 82%|████████▏ | 82/100 [01:38<00:20,  1.13s/it]"
     ]
    },
    {
     "name": "stdout",
     "output_type": "stream",
     "text": [
      "('{\\n  \"PER\": [\"Winters\", \"Paolo Di Canio\"],\\n  \"ORG\": [\"Dundee United\", \"Celtic\"]\\n}', <OpenAIObject chat.completion id=chatcmpl-8i03Pbs0worT1BCxb7DwD2Vr7K0w0 at 0x7f3a8431f1f0> JSON: {\n",
      "  \"id\": \"chatcmpl-8i03Pbs0worT1BCxb7DwD2Vr7K0w0\",\n",
      "  \"object\": \"chat.completion\",\n",
      "  \"created\": 1705497331,\n",
      "  \"model\": \"gpt-35-turbo\",\n",
      "  \"choices\": [\n",
      "    {\n",
      "      \"finish_reason\": \"stop\",\n",
      "      \"index\": 0,\n",
      "      \"message\": {\n",
      "        \"role\": \"assistant\",\n",
      "        \"content\": \"{\\n  \\\"PER\\\": [\\\"Winters\\\", \\\"Paolo Di Canio\\\"],\\n  \\\"ORG\\\": [\\\"Dundee United\\\", \\\"Celtic\\\"]\\n}\"\n",
      "      }\n",
      "    }\n",
      "  ],\n",
      "  \"usage\": {\n",
      "    \"prompt_tokens\": 313,\n",
      "    \"completion_tokens\": 32,\n",
      "    \"total_tokens\": 345\n",
      "  }\n",
      "})\n"
     ]
    },
    {
     "name": "stderr",
     "output_type": "stream",
     "text": [
      " 83%|████████▎ | 83/100 [01:39<00:19,  1.12s/it]"
     ]
    },
    {
     "name": "stdout",
     "output_type": "stream",
     "text": [
      "('{\\n  \"PER\": [\"Blanc\", \"Foucras\"],\\n  \"ORG\": [\"World Cup\"],\\n  \"CARDINAL\": [\"seventh\", \"238.36\", \"223.60\"]\\n}', <OpenAIObject chat.completion id=chatcmpl-8i03QcaCvsr1E9KfAirWSfimHgUEs at 0x7f3a8431efc0> JSON: {\n",
      "  \"id\": \"chatcmpl-8i03QcaCvsr1E9KfAirWSfimHgUEs\",\n",
      "  \"object\": \"chat.completion\",\n",
      "  \"created\": 1705497332,\n",
      "  \"model\": \"gpt-35-turbo\",\n",
      "  \"choices\": [\n",
      "    {\n",
      "      \"finish_reason\": \"stop\",\n",
      "      \"index\": 0,\n",
      "      \"message\": {\n",
      "        \"role\": \"assistant\",\n",
      "        \"content\": \"{\\n  \\\"PER\\\": [\\\"Blanc\\\", \\\"Foucras\\\"],\\n  \\\"ORG\\\": [\\\"World Cup\\\"],\\n  \\\"CARDINAL\\\": [\\\"seventh\\\", \\\"238.36\\\", \\\"223.60\\\"]\\n}\"\n",
      "      }\n",
      "    }\n",
      "  ],\n",
      "  \"usage\": {\n",
      "    \"prompt_tokens\": 376,\n",
      "    \"completion_tokens\": 43,\n",
      "    \"total_tokens\": 419\n",
      "  }\n",
      "})\n"
     ]
    },
    {
     "name": "stderr",
     "output_type": "stream",
     "text": [
      " 84%|████████▍ | 84/100 [01:40<00:17,  1.10s/it]"
     ]
    },
    {
     "name": "stdout",
     "output_type": "stream",
     "text": [
      "('{\\n  \"PER\": [],\\n  \"ORG\": [],\\n  \"LOC\": [],\\n  \"MISC\": []\\n}', <OpenAIObject chat.completion id=chatcmpl-8i03RbEtVyeNCYM5Fls0UY4o57hyQ at 0x7f3a8431e700> JSON: {\n",
      "  \"id\": \"chatcmpl-8i03RbEtVyeNCYM5Fls0UY4o57hyQ\",\n",
      "  \"object\": \"chat.completion\",\n",
      "  \"created\": 1705497333,\n",
      "  \"model\": \"gpt-35-turbo\",\n",
      "  \"choices\": [\n",
      "    {\n",
      "      \"finish_reason\": \"stop\",\n",
      "      \"index\": 0,\n",
      "      \"message\": {\n",
      "        \"role\": \"assistant\",\n",
      "        \"content\": \"{\\n  \\\"PER\\\": [],\\n  \\\"ORG\\\": [],\\n  \\\"LOC\\\": [],\\n  \\\"MISC\\\": []\\n}\"\n",
      "      }\n",
      "    }\n",
      "  ],\n",
      "  \"usage\": {\n",
      "    \"prompt_tokens\": 299,\n",
      "    \"completion_tokens\": 23,\n",
      "    \"total_tokens\": 322\n",
      "  }\n",
      "})\n"
     ]
    },
    {
     "name": "stderr",
     "output_type": "stream",
     "text": [
      " 85%|████████▌ | 85/100 [01:41<00:16,  1.11s/it]"
     ]
    },
    {
     "name": "stdout",
     "output_type": "stream",
     "text": [
      "('{\\n  \"PER\": [\"he\", \"my wife\", \"children\"],\\n  \"ORG\": [\"TASR\"]\\n}', <OpenAIObject chat.completion id=chatcmpl-8i03SEpC56ORaDpBgvLE7lrWRtbpr at 0x7f3a8431e9d0> JSON: {\n",
      "  \"id\": \"chatcmpl-8i03SEpC56ORaDpBgvLE7lrWRtbpr\",\n",
      "  \"object\": \"chat.completion\",\n",
      "  \"created\": 1705497334,\n",
      "  \"model\": \"gpt-35-turbo\",\n",
      "  \"choices\": [\n",
      "    {\n",
      "      \"finish_reason\": \"stop\",\n",
      "      \"index\": 0,\n",
      "      \"message\": {\n",
      "        \"role\": \"assistant\",\n",
      "        \"content\": \"{\\n  \\\"PER\\\": [\\\"he\\\", \\\"my wife\\\", \\\"children\\\"],\\n  \\\"ORG\\\": [\\\"TASR\\\"]\\n}\"\n",
      "      }\n",
      "    }\n",
      "  ],\n",
      "  \"usage\": {\n",
      "    \"prompt_tokens\": 350,\n",
      "    \"completion_tokens\": 25,\n",
      "    \"total_tokens\": 375\n",
      "  }\n",
      "})\n"
     ]
    },
    {
     "name": "stderr",
     "output_type": "stream",
     "text": [
      " 86%|████████▌ | 86/100 [01:42<00:15,  1.10s/it]"
     ]
    },
    {
     "name": "stdout",
     "output_type": "stream",
     "text": [
      "('{\\n  \"MISC\": [\"Aaa\", \"Aa\", \"Baa\"]\\n}', <OpenAIObject chat.completion id=chatcmpl-8i03TM9e5obrc2S4VaUb9kvtSlAYh at 0x7f3a8431e700> JSON: {\n",
      "  \"id\": \"chatcmpl-8i03TM9e5obrc2S4VaUb9kvtSlAYh\",\n",
      "  \"object\": \"chat.completion\",\n",
      "  \"created\": 1705497335,\n",
      "  \"model\": \"gpt-35-turbo\",\n",
      "  \"choices\": [\n",
      "    {\n",
      "      \"finish_reason\": \"stop\",\n",
      "      \"index\": 0,\n",
      "      \"message\": {\n",
      "        \"role\": \"assistant\",\n",
      "        \"content\": \"{\\n  \\\"MISC\\\": [\\\"Aaa\\\", \\\"Aa\\\", \\\"Baa\\\"]\\n}\"\n",
      "      }\n",
      "    }\n",
      "  ],\n",
      "  \"usage\": {\n",
      "    \"prompt_tokens\": 301,\n",
      "    \"completion_tokens\": 19,\n",
      "    \"total_tokens\": 320\n",
      "  }\n",
      "})\n"
     ]
    },
    {
     "name": "stderr",
     "output_type": "stream",
     "text": [
      " 87%|████████▋ | 87/100 [01:44<00:15,  1.15s/it]"
     ]
    },
    {
     "name": "stdout",
     "output_type": "stream",
     "text": [
      "('{\\n  \"PER\": [\"Frantisek Gaulieder\"],\\n  \"ORG\": [\"TASR\"],\\n  \"LOC\": [\"Galanta\", \"western Slovakia\"]\\n}', <OpenAIObject chat.completion id=chatcmpl-8i03ULKiCGigVXFh3lNMuMuIcth1M at 0x7f3a8431eed0> JSON: {\n",
      "  \"id\": \"chatcmpl-8i03ULKiCGigVXFh3lNMuMuIcth1M\",\n",
      "  \"object\": \"chat.completion\",\n",
      "  \"created\": 1705497336,\n",
      "  \"model\": \"gpt-35-turbo\",\n",
      "  \"choices\": [\n",
      "    {\n",
      "      \"finish_reason\": \"stop\",\n",
      "      \"index\": 0,\n",
      "      \"message\": {\n",
      "        \"role\": \"assistant\",\n",
      "        \"content\": \"{\\n  \\\"PER\\\": [\\\"Frantisek Gaulieder\\\"],\\n  \\\"ORG\\\": [\\\"TASR\\\"],\\n  \\\"LOC\\\": [\\\"Galanta\\\", \\\"western Slovakia\\\"]\\n}\"\n",
      "      }\n",
      "    }\n",
      "  ],\n",
      "  \"usage\": {\n",
      "    \"prompt_tokens\": 376,\n",
      "    \"completion_tokens\": 35,\n",
      "    \"total_tokens\": 411\n",
      "  }\n",
      "})\n"
     ]
    },
    {
     "name": "stderr",
     "output_type": "stream",
     "text": [
      " 88%|████████▊ | 88/100 [01:45<00:13,  1.15s/it]"
     ]
    },
    {
     "name": "stdout",
     "output_type": "stream",
     "text": [
      "('{\\n  \"MISC\": [\"larger-than-average\"]\\n}', <OpenAIObject chat.completion id=chatcmpl-8i03WfjFxruceqzjbQIOCRZ5G3uOx at 0x7f3a8431e700> JSON: {\n",
      "  \"id\": \"chatcmpl-8i03WfjFxruceqzjbQIOCRZ5G3uOx\",\n",
      "  \"object\": \"chat.completion\",\n",
      "  \"created\": 1705497338,\n",
      "  \"model\": \"gpt-35-turbo\",\n",
      "  \"choices\": [\n",
      "    {\n",
      "      \"finish_reason\": \"stop\",\n",
      "      \"index\": 0,\n",
      "      \"message\": {\n",
      "        \"role\": \"assistant\",\n",
      "        \"content\": \"{\\n  \\\"MISC\\\": [\\\"larger-than-average\\\"]\\n}\"\n",
      "      }\n",
      "    }\n",
      "  ],\n",
      "  \"usage\": {\n",
      "    \"prompt_tokens\": 339,\n",
      "    \"completion_tokens\": 13,\n",
      "    \"total_tokens\": 352\n",
      "  }\n",
      "})\n"
     ]
    },
    {
     "name": "stderr",
     "output_type": "stream",
     "text": [
      " 89%|████████▉ | 89/100 [01:46<00:12,  1.15s/it]"
     ]
    },
    {
     "name": "stdout",
     "output_type": "stream",
     "text": [
      "('{\\n  \"MISC\": [\"Standings\"],\\n  \"CARDINAL\": [\"played\", \"won\", \"drawn\", \"lost\", \"goals\"]\\n}', <OpenAIObject chat.completion id=chatcmpl-8i03X6BMwxtHe8raGJygEiG2HHpkt at 0x7f3a8431e700> JSON: {\n",
      "  \"id\": \"chatcmpl-8i03X6BMwxtHe8raGJygEiG2HHpkt\",\n",
      "  \"object\": \"chat.completion\",\n",
      "  \"created\": 1705497339,\n",
      "  \"model\": \"gpt-35-turbo\",\n",
      "  \"choices\": [\n",
      "    {\n",
      "      \"finish_reason\": \"stop\",\n",
      "      \"index\": 0,\n",
      "      \"message\": {\n",
      "        \"role\": \"assistant\",\n",
      "        \"content\": \"{\\n  \\\"MISC\\\": [\\\"Standings\\\"],\\n  \\\"CARDINAL\\\": [\\\"played\\\", \\\"won\\\", \\\"drawn\\\", \\\"lost\\\", \\\"goals\\\"]\\n}\"\n",
      "      }\n",
      "    }\n",
      "  ],\n",
      "  \"usage\": {\n",
      "    \"prompt_tokens\": 315,\n",
      "    \"completion_tokens\": 32,\n",
      "    \"total_tokens\": 347\n",
      "  }\n",
      "})\n"
     ]
    },
    {
     "name": "stderr",
     "output_type": "stream",
     "text": [
      " 90%|█████████ | 90/100 [01:47<00:12,  1.22s/it]"
     ]
    },
    {
     "name": "stdout",
     "output_type": "stream",
     "text": [
      "('{\\n  \"ORG\": [\"OPEC\", \"OPECNA\"],\\n  \"CARDINAL\": [\"seven\", \"$ 24.20\", \"$ 23.47\"],\\n  \"DATE\": [\"Thursday\", \"Wednesday\"]\\n}', <OpenAIObject chat.completion id=chatcmpl-8i03YsGxN8o8hSzUc0iHw0CYNbRgv at 0x7f3a8431f1f0> JSON: {\n",
      "  \"id\": \"chatcmpl-8i03YsGxN8o8hSzUc0iHw0CYNbRgv\",\n",
      "  \"object\": \"chat.completion\",\n",
      "  \"created\": 1705497340,\n",
      "  \"model\": \"gpt-35-turbo\",\n",
      "  \"choices\": [\n",
      "    {\n",
      "      \"finish_reason\": \"stop\",\n",
      "      \"index\": 0,\n",
      "      \"message\": {\n",
      "        \"role\": \"assistant\",\n",
      "        \"content\": \"{\\n  \\\"ORG\\\": [\\\"OPEC\\\", \\\"OPECNA\\\"],\\n  \\\"CARDINAL\\\": [\\\"seven\\\", \\\"$ 24.20\\\", \\\"$ 23.47\\\"],\\n  \\\"DATE\\\": [\\\"Thursday\\\", \\\"Wednesday\\\"]\\n}\"\n",
      "      }\n",
      "    }\n",
      "  ],\n",
      "  \"usage\": {\n",
      "    \"prompt_tokens\": 391,\n",
      "    \"completion_tokens\": 45,\n",
      "    \"total_tokens\": 436\n",
      "  }\n",
      "})\n"
     ]
    },
    {
     "name": "stderr",
     "output_type": "stream",
     "text": [
      " 91%|█████████ | 91/100 [01:48<00:10,  1.18s/it]"
     ]
    },
    {
     "name": "stdout",
     "output_type": "stream",
     "text": [
      "('{\\n  \"MISC\": [\"sports statistics\", \"stock prices\"]\\n}', <OpenAIObject chat.completion id=chatcmpl-8i03ZgpAjkbpgqexXKvjx6pr5v7DS at 0x7f3a8431efc0> JSON: {\n",
      "  \"id\": \"chatcmpl-8i03ZgpAjkbpgqexXKvjx6pr5v7DS\",\n",
      "  \"object\": \"chat.completion\",\n",
      "  \"created\": 1705497341,\n",
      "  \"model\": \"gpt-35-turbo\",\n",
      "  \"choices\": [\n",
      "    {\n",
      "      \"finish_reason\": \"stop\",\n",
      "      \"index\": 0,\n",
      "      \"message\": {\n",
      "        \"role\": \"assistant\",\n",
      "        \"content\": \"{\\n  \\\"MISC\\\": [\\\"sports statistics\\\", \\\"stock prices\\\"]\\n}\"\n",
      "      }\n",
      "    }\n",
      "  ],\n",
      "  \"usage\": {\n",
      "    \"prompt_tokens\": 296,\n",
      "    \"completion_tokens\": 15,\n",
      "    \"total_tokens\": 311\n",
      "  }\n",
      "})\n"
     ]
    },
    {
     "name": "stderr",
     "output_type": "stream",
     "text": [
      " 92%|█████████▏| 92/100 [01:49<00:09,  1.14s/it]"
     ]
    },
    {
     "name": "stdout",
     "output_type": "stream",
     "text": [
      "('{\\n  \"PER\": [\"Alatas\", \"Belo\"],\\n  \"ORG\": [\"government\"],\\n  \"MISC\": [\"Nobel Peace Prize\"]\\n}', <OpenAIObject chat.completion id=chatcmpl-8i03aEeU5sI3T4rIYw68m9h6mBnYb at 0x7f3a8431f1f0> JSON: {\n",
      "  \"id\": \"chatcmpl-8i03aEeU5sI3T4rIYw68m9h6mBnYb\",\n",
      "  \"object\": \"chat.completion\",\n",
      "  \"created\": 1705497342,\n",
      "  \"model\": \"gpt-35-turbo\",\n",
      "  \"choices\": [\n",
      "    {\n",
      "      \"finish_reason\": \"stop\",\n",
      "      \"index\": 0,\n",
      "      \"message\": {\n",
      "        \"role\": \"assistant\",\n",
      "        \"content\": \"{\\n  \\\"PER\\\": [\\\"Alatas\\\", \\\"Belo\\\"],\\n  \\\"ORG\\\": [\\\"government\\\"],\\n  \\\"MISC\\\": [\\\"Nobel Peace Prize\\\"]\\n}\"\n",
      "      }\n",
      "    }\n",
      "  ],\n",
      "  \"usage\": {\n",
      "    \"prompt_tokens\": 354,\n",
      "    \"completion_tokens\": 32,\n",
      "    \"total_tokens\": 386\n",
      "  }\n",
      "})\n"
     ]
    },
    {
     "name": "stderr",
     "output_type": "stream",
     "text": [
      " 93%|█████████▎| 93/100 [01:51<00:08,  1.18s/it]"
     ]
    },
    {
     "name": "stdout",
     "output_type": "stream",
     "text": [
      "('{\\n  \"LOC\": [\"Tampico\", \"port\"],\\n  \"ORG\": [\"Kenda\"]\\n}', <OpenAIObject chat.completion id=chatcmpl-8i03biTuvxfzIWBXIAfuGf3F0MuJH at 0x7f3a8431df80> JSON: {\n",
      "  \"id\": \"chatcmpl-8i03biTuvxfzIWBXIAfuGf3F0MuJH\",\n",
      "  \"object\": \"chat.completion\",\n",
      "  \"created\": 1705497343,\n",
      "  \"model\": \"gpt-35-turbo\",\n",
      "  \"choices\": [\n",
      "    {\n",
      "      \"finish_reason\": \"stop\",\n",
      "      \"index\": 0,\n",
      "      \"message\": {\n",
      "        \"role\": \"assistant\",\n",
      "        \"content\": \"{\\n  \\\"LOC\\\": [\\\"Tampico\\\", \\\"port\\\"],\\n  \\\"ORG\\\": [\\\"Kenda\\\"]\\n}\"\n",
      "      }\n",
      "    }\n",
      "  ],\n",
      "  \"usage\": {\n",
      "    \"prompt_tokens\": 334,\n",
      "    \"completion_tokens\": 22,\n",
      "    \"total_tokens\": 356\n",
      "  }\n",
      "})\n"
     ]
    },
    {
     "name": "stderr",
     "output_type": "stream",
     "text": [
      " 94%|█████████▍| 94/100 [01:52<00:07,  1.25s/it]"
     ]
    },
    {
     "name": "stdout",
     "output_type": "stream",
     "text": [
      "('{\\n  \"PER\": [\"Iran Sabr\"],\\n  \"ORG\": [],\\n  \"LOC\": [\"Iran\"],\\n  \"MISC\": []\\n}', <OpenAIObject chat.completion id=chatcmpl-8i03dg9RBWdgKOwy01HDBV92If7X5 at 0x7f3a8431e700> JSON: {\n",
      "  \"id\": \"chatcmpl-8i03dg9RBWdgKOwy01HDBV92If7X5\",\n",
      "  \"object\": \"chat.completion\",\n",
      "  \"created\": 1705497345,\n",
      "  \"model\": \"gpt-35-turbo\",\n",
      "  \"choices\": [\n",
      "    {\n",
      "      \"finish_reason\": \"stop\",\n",
      "      \"index\": 0,\n",
      "      \"message\": {\n",
      "        \"role\": \"assistant\",\n",
      "        \"content\": \"{\\n  \\\"PER\\\": [\\\"Iran Sabr\\\"],\\n  \\\"ORG\\\": [],\\n  \\\"LOC\\\": [\\\"Iran\\\"],\\n  \\\"MISC\\\": []\\n}\"\n",
      "      }\n",
      "    }\n",
      "  ],\n",
      "  \"usage\": {\n",
      "    \"prompt_tokens\": 311,\n",
      "    \"completion_tokens\": 29,\n",
      "    \"total_tokens\": 340\n",
      "  }\n",
      "})\n"
     ]
    },
    {
     "name": "stderr",
     "output_type": "stream",
     "text": [
      " 95%|█████████▌| 95/100 [01:54<00:06,  1.31s/it]"
     ]
    },
    {
     "name": "stdout",
     "output_type": "stream",
     "text": [
      "('{\\n  \"PER\": [\"Orlando Pace\", \"Cornell Brown\", \"Juan Roque\", \"Jared Tomich\"],\\n  \"ORG\": [\"Ohio State\", \"Virginia Tech\", \"Arizona State\", \"Nebraska\"]\\n}', <OpenAIObject chat.completion id=chatcmpl-8i03eGEslaXRnjX00QXKNr8ad1miT at 0x7f3a8431e700> JSON: {\n",
      "  \"id\": \"chatcmpl-8i03eGEslaXRnjX00QXKNr8ad1miT\",\n",
      "  \"object\": \"chat.completion\",\n",
      "  \"created\": 1705497346,\n",
      "  \"model\": \"gpt-35-turbo\",\n",
      "  \"choices\": [\n",
      "    {\n",
      "      \"finish_reason\": \"stop\",\n",
      "      \"index\": 0,\n",
      "      \"message\": {\n",
      "        \"role\": \"assistant\",\n",
      "        \"content\": \"{\\n  \\\"PER\\\": [\\\"Orlando Pace\\\", \\\"Cornell Brown\\\", \\\"Juan Roque\\\", \\\"Jared Tomich\\\"],\\n  \\\"ORG\\\": [\\\"Ohio State\\\", \\\"Virginia Tech\\\", \\\"Arizona State\\\", \\\"Nebraska\\\"]\\n}\"\n",
      "      }\n",
      "    }\n",
      "  ],\n",
      "  \"usage\": {\n",
      "    \"prompt_tokens\": 379,\n",
      "    \"completion_tokens\": 47,\n",
      "    \"total_tokens\": 426\n",
      "  }\n",
      "})\n"
     ]
    },
    {
     "name": "stderr",
     "output_type": "stream",
     "text": [
      " 96%|█████████▌| 96/100 [01:55<00:05,  1.28s/it]"
     ]
    },
    {
     "name": "stdout",
     "output_type": "stream",
     "text": [
      "('{\\n  \"PER\": [\"Dariusz Rosati\"],\\n  \"ORG\": [],\\n  \"LOC\": [],\\n  \"MISC\": []\\n}', <OpenAIObject chat.completion id=chatcmpl-8i03gD2AgRQ6ia8a0FjaQYgzUPdZt at 0x7f3a8431eed0> JSON: {\n",
      "  \"id\": \"chatcmpl-8i03gD2AgRQ6ia8a0FjaQYgzUPdZt\",\n",
      "  \"object\": \"chat.completion\",\n",
      "  \"created\": 1705497348,\n",
      "  \"model\": \"gpt-35-turbo\",\n",
      "  \"choices\": [\n",
      "    {\n",
      "      \"finish_reason\": \"stop\",\n",
      "      \"index\": 0,\n",
      "      \"message\": {\n",
      "        \"role\": \"assistant\",\n",
      "        \"content\": \"{\\n  \\\"PER\\\": [\\\"Dariusz Rosati\\\"],\\n  \\\"ORG\\\": [],\\n  \\\"LOC\\\": [],\\n  \\\"MISC\\\": []\\n}\"\n",
      "      }\n",
      "    }\n",
      "  ],\n",
      "  \"usage\": {\n",
      "    \"prompt_tokens\": 408,\n",
      "    \"completion_tokens\": 29,\n",
      "    \"total_tokens\": 437\n",
      "  }\n",
      "})\n"
     ]
    },
    {
     "name": "stderr",
     "output_type": "stream",
     "text": [
      " 97%|█████████▋| 97/100 [01:56<00:03,  1.19s/it]"
     ]
    },
    {
     "name": "stdout",
     "output_type": "stream",
     "text": [
      "('{\\n  \"ORG\": [\"Scottish premier division\"],\\n  \"DATE\": [\"Saturday\"]\\n}', <OpenAIObject chat.completion id=chatcmpl-8i03hffrXthqSSwEsOeEVHYaN6oSW at 0x7f3a8431fd80> JSON: {\n",
      "  \"id\": \"chatcmpl-8i03hffrXthqSSwEsOeEVHYaN6oSW\",\n",
      "  \"object\": \"chat.completion\",\n",
      "  \"created\": 1705497349,\n",
      "  \"model\": \"gpt-35-turbo\",\n",
      "  \"choices\": [\n",
      "    {\n",
      "      \"finish_reason\": \"stop\",\n",
      "      \"index\": 0,\n",
      "      \"message\": {\n",
      "        \"role\": \"assistant\",\n",
      "        \"content\": \"{\\n  \\\"ORG\\\": [\\\"Scottish premier division\\\"],\\n  \\\"DATE\\\": [\\\"Saturday\\\"]\\n}\"\n",
      "      }\n",
      "    }\n",
      "  ],\n",
      "  \"usage\": {\n",
      "    \"prompt_tokens\": 276,\n",
      "    \"completion_tokens\": 19,\n",
      "    \"total_tokens\": 295\n",
      "  }\n",
      "})\n"
     ]
    },
    {
     "name": "stderr",
     "output_type": "stream",
     "text": [
      " 98%|█████████▊| 98/100 [01:57<00:02,  1.13s/it]"
     ]
    },
    {
     "name": "stdout",
     "output_type": "stream",
     "text": [
      "('{\\n  \"ORG\": [],\\n  \"PER\": [],\\n  \"LOC\": [],\\n  \"MISC\": []\\n}', <OpenAIObject chat.completion id=chatcmpl-8i03iQHfl6cZGr51otpFj5W2smFCw at 0x7f3a8431e9d0> JSON: {\n",
      "  \"id\": \"chatcmpl-8i03iQHfl6cZGr51otpFj5W2smFCw\",\n",
      "  \"object\": \"chat.completion\",\n",
      "  \"created\": 1705497350,\n",
      "  \"model\": \"gpt-35-turbo\",\n",
      "  \"choices\": [\n",
      "    {\n",
      "      \"finish_reason\": \"stop\",\n",
      "      \"index\": 0,\n",
      "      \"message\": {\n",
      "        \"role\": \"assistant\",\n",
      "        \"content\": \"{\\n  \\\"ORG\\\": [],\\n  \\\"PER\\\": [],\\n  \\\"LOC\\\": [],\\n  \\\"MISC\\\": []\\n}\"\n",
      "      }\n",
      "    }\n",
      "  ],\n",
      "  \"usage\": {\n",
      "    \"prompt_tokens\": 321,\n",
      "    \"completion_tokens\": 23,\n",
      "    \"total_tokens\": 344\n",
      "  }\n",
      "})\n"
     ]
    },
    {
     "name": "stderr",
     "output_type": "stream",
     "text": [
      " 99%|█████████▉| 99/100 [01:58<00:01,  1.11s/it]"
     ]
    },
    {
     "name": "stdout",
     "output_type": "stream",
     "text": [
      "(\"{'PER': [], 'ORG': [], 'LOC': [], 'MISC': []}\", <OpenAIObject chat.completion id=chatcmpl-8i03jpUMqQbZBqBJHVhdTg4FYDpRl at 0x7f3a8431e9d0> JSON: {\n",
      "  \"id\": \"chatcmpl-8i03jpUMqQbZBqBJHVhdTg4FYDpRl\",\n",
      "  \"object\": \"chat.completion\",\n",
      "  \"created\": 1705497351,\n",
      "  \"model\": \"gpt-35-turbo\",\n",
      "  \"choices\": [\n",
      "    {\n",
      "      \"finish_reason\": \"stop\",\n",
      "      \"index\": 0,\n",
      "      \"message\": {\n",
      "        \"role\": \"assistant\",\n",
      "        \"content\": \"{'PER': [], 'ORG': [], 'LOC': [], 'MISC': []}\"\n",
      "      }\n",
      "    }\n",
      "  ],\n",
      "  \"usage\": {\n",
      "    \"prompt_tokens\": 294,\n",
      "    \"completion_tokens\": 18,\n",
      "    \"total_tokens\": 312\n",
      "  }\n",
      "})\n"
     ]
    },
    {
     "name": "stderr",
     "output_type": "stream",
     "text": [
      "100%|██████████| 100/100 [01:59<00:00,  1.19s/it]"
     ]
    },
    {
     "name": "stdout",
     "output_type": "stream",
     "text": [
      "('{\\n  \"PER\": [],\\n  \"ORG\": [],\\n  \"LOC\": [],\\n  \"MISC\": []\\n}', <OpenAIObject chat.completion id=chatcmpl-8i03kq4aP3JW9JG0ZGB1MPkPYLdGG at 0x7f3a8431f1f0> JSON: {\n",
      "  \"id\": \"chatcmpl-8i03kq4aP3JW9JG0ZGB1MPkPYLdGG\",\n",
      "  \"object\": \"chat.completion\",\n",
      "  \"created\": 1705497352,\n",
      "  \"model\": \"gpt-35-turbo\",\n",
      "  \"choices\": [\n",
      "    {\n",
      "      \"finish_reason\": \"stop\",\n",
      "      \"index\": 0,\n",
      "      \"message\": {\n",
      "        \"role\": \"assistant\",\n",
      "        \"content\": \"{\\n  \\\"PER\\\": [],\\n  \\\"ORG\\\": [],\\n  \\\"LOC\\\": [],\\n  \\\"MISC\\\": []\\n}\"\n",
      "      }\n",
      "    }\n",
      "  ],\n",
      "  \"usage\": {\n",
      "    \"prompt_tokens\": 379,\n",
      "    \"completion_tokens\": 23,\n",
      "    \"total_tokens\": 402\n",
      "  }\n",
      "})\n",
      "Testing with sentence\n",
      "      and filing\n"
     ]
    },
    {
     "name": "stderr",
     "output_type": "stream",
     "text": [
      "\n"
     ]
    },
    {
     "data": {
      "application/vnd.jupyter.widget-view+json": {
       "model_id": "b45119815e004de09f77df718732a5fe",
       "version_major": 2,
       "version_minor": 0
      },
      "text/plain": [
       "Map:   0%|          | 0/1488 [00:00<?, ? examples/s]"
      ]
     },
     "metadata": {},
     "output_type": "display_data"
    },
    {
     "data": {
      "application/vnd.jupyter.widget-view+json": {
       "model_id": "132e55895e5741d6a7cd279e13609317",
       "version_major": 2,
       "version_minor": 0
      },
      "text/plain": [
       "Map:   0%|          | 0/100 [00:00<?, ? examples/s]"
      ]
     },
     "metadata": {},
     "output_type": "display_data"
    },
    {
     "name": "stderr",
     "output_type": "stream",
     "text": [
      "  1%|          | 1/100 [00:01<01:45,  1.07s/it]"
     ]
    },
    {
     "name": "stdout",
     "output_type": "stream",
     "text": [
      "('{\\n  \"PER\": [\"Livshits\"],\\n  \"ORG\": [\"company\"]\\n}', <OpenAIObject chat.completion id=chatcmpl-8i03nx8WGF7ANsNem63tnBWAj3suV at 0x7f3a790e6430> JSON: {\n",
      "  \"id\": \"chatcmpl-8i03nx8WGF7ANsNem63tnBWAj3suV\",\n",
      "  \"object\": \"chat.completion\",\n",
      "  \"created\": 1705497355,\n",
      "  \"model\": \"gpt-35-turbo\",\n",
      "  \"choices\": [\n",
      "    {\n",
      "      \"finish_reason\": \"stop\",\n",
      "      \"index\": 0,\n",
      "      \"message\": {\n",
      "        \"role\": \"assistant\",\n",
      "        \"content\": \"{\\n  \\\"PER\\\": [\\\"Livshits\\\"],\\n  \\\"ORG\\\": [\\\"company\\\"]\\n}\"\n",
      "      }\n",
      "    }\n",
      "  ],\n",
      "  \"usage\": {\n",
      "    \"prompt_tokens\": 715,\n",
      "    \"completion_tokens\": 18,\n",
      "    \"total_tokens\": 733\n",
      "  }\n",
      "})\n"
     ]
    },
    {
     "name": "stderr",
     "output_type": "stream",
     "text": [
      "  2%|▏         | 2/100 [00:02<01:50,  1.13s/it]"
     ]
    },
    {
     "name": "stdout",
     "output_type": "stream",
     "text": [
      "('{\\n  \"PER\": [],\\n  \"ORG\": [],\\n  \"LOC\": [],\\n  \"MISC\": []\\n}', <OpenAIObject chat.completion id=chatcmpl-8i03oZTHEwbbFyicGw5mLoeDFX5SM at 0x7f3a790e66b0> JSON: {\n",
      "  \"id\": \"chatcmpl-8i03oZTHEwbbFyicGw5mLoeDFX5SM\",\n",
      "  \"object\": \"chat.completion\",\n",
      "  \"created\": 1705497356,\n",
      "  \"model\": \"gpt-35-turbo\",\n",
      "  \"choices\": [\n",
      "    {\n",
      "      \"finish_reason\": \"stop\",\n",
      "      \"index\": 0,\n",
      "      \"message\": {\n",
      "        \"role\": \"assistant\",\n",
      "        \"content\": \"{\\n  \\\"PER\\\": [],\\n  \\\"ORG\\\": [],\\n  \\\"LOC\\\": [],\\n  \\\"MISC\\\": []\\n}\"\n",
      "      }\n",
      "    }\n",
      "  ],\n",
      "  \"usage\": {\n",
      "    \"prompt_tokens\": 754,\n",
      "    \"completion_tokens\": 23,\n",
      "    \"total_tokens\": 777\n",
      "  }\n",
      "})\n"
     ]
    },
    {
     "name": "stderr",
     "output_type": "stream",
     "text": [
      "  3%|▎         | 3/100 [00:03<01:59,  1.23s/it]"
     ]
    },
    {
     "name": "stdout",
     "output_type": "stream",
     "text": [
      "('{\\n  \"PER\": [\"Australia\", \"Lara\"],\\n  \"ORG\": [\"Sydney Cricket Ground\"],\\n  \"CARDINAL\": [\"124\", \"two-nil\", \"five-test\"]\\n}', <OpenAIObject chat.completion id=chatcmpl-8i03p3FyuhFg04hO6HQnUcRSgODFK at 0x7f3a790e7dd0> JSON: {\n",
      "  \"id\": \"chatcmpl-8i03p3FyuhFg04hO6HQnUcRSgODFK\",\n",
      "  \"object\": \"chat.completion\",\n",
      "  \"created\": 1705497357,\n",
      "  \"model\": \"gpt-35-turbo\",\n",
      "  \"choices\": [\n",
      "    {\n",
      "      \"finish_reason\": \"stop\",\n",
      "      \"index\": 0,\n",
      "      \"message\": {\n",
      "        \"role\": \"assistant\",\n",
      "        \"content\": \"{\\n  \\\"PER\\\": [\\\"Australia\\\", \\\"Lara\\\"],\\n  \\\"ORG\\\": [\\\"Sydney Cricket Ground\\\"],\\n  \\\"CARDINAL\\\": [\\\"124\\\", \\\"two-nil\\\", \\\"five-test\\\"]\\n}\"\n",
      "      }\n",
      "    }\n",
      "  ],\n",
      "  \"usage\": {\n",
      "    \"prompt_tokens\": 749,\n",
      "    \"completion_tokens\": 39,\n",
      "    \"total_tokens\": 788\n",
      "  }\n",
      "})\n"
     ]
    },
    {
     "name": "stderr",
     "output_type": "stream",
     "text": [
      "  4%|▍         | 4/100 [00:05<02:05,  1.31s/it]"
     ]
    },
    {
     "name": "stdout",
     "output_type": "stream",
     "text": [
      "('{\\n  \"ORG\": [\"NYMEX\", \"National Weather Service\"],\\n  \"LOC\": [\"Henry Hub\"],\\n  \"MISC\": [\"Friday\"]\\n}', <OpenAIObject chat.completion id=chatcmpl-8i03q658pkWvVm3o2bgejtSSXFxYl at 0x7f3a790e6160> JSON: {\n",
      "  \"id\": \"chatcmpl-8i03q658pkWvVm3o2bgejtSSXFxYl\",\n",
      "  \"object\": \"chat.completion\",\n",
      "  \"created\": 1705497358,\n",
      "  \"model\": \"gpt-35-turbo\",\n",
      "  \"choices\": [\n",
      "    {\n",
      "      \"finish_reason\": \"stop\",\n",
      "      \"index\": 0,\n",
      "      \"message\": {\n",
      "        \"role\": \"assistant\",\n",
      "        \"content\": \"{\\n  \\\"ORG\\\": [\\\"NYMEX\\\", \\\"National Weather Service\\\"],\\n  \\\"LOC\\\": [\\\"Henry Hub\\\"],\\n  \\\"MISC\\\": [\\\"Friday\\\"]\\n}\"\n",
      "      }\n",
      "    }\n",
      "  ],\n",
      "  \"usage\": {\n",
      "    \"prompt_tokens\": 757,\n",
      "    \"completion_tokens\": 32,\n",
      "    \"total_tokens\": 789\n",
      "  }\n",
      "})\n"
     ]
    },
    {
     "name": "stderr",
     "output_type": "stream",
     "text": [
      "  5%|▌         | 5/100 [00:06<02:06,  1.34s/it]"
     ]
    },
    {
     "name": "stdout",
     "output_type": "stream",
     "text": [
      "('{\\n  \"PER\": [],\\n  \"ORG\": [],\\n  \"LOC\": [\\n    \"Lanarkshire county\"\\n  ],\\n  \"MISC\": []\\n}', <OpenAIObject chat.completion id=chatcmpl-8i03svxPQtmDqu6rdzMVtAvKinQI5 at 0x7f3a790e5080> JSON: {\n",
      "  \"id\": \"chatcmpl-8i03svxPQtmDqu6rdzMVtAvKinQI5\",\n",
      "  \"object\": \"chat.completion\",\n",
      "  \"created\": 1705497360,\n",
      "  \"model\": \"gpt-35-turbo\",\n",
      "  \"choices\": [\n",
      "    {\n",
      "      \"finish_reason\": \"stop\",\n",
      "      \"index\": 0,\n",
      "      \"message\": {\n",
      "        \"role\": \"assistant\",\n",
      "        \"content\": \"{\\n  \\\"PER\\\": [],\\n  \\\"ORG\\\": [],\\n  \\\"LOC\\\": [\\n    \\\"Lanarkshire county\\\"\\n  ],\\n  \\\"MISC\\\": []\\n}\"\n",
      "      }\n",
      "    }\n",
      "  ],\n",
      "  \"usage\": {\n",
      "    \"prompt_tokens\": 694,\n",
      "    \"completion_tokens\": 33,\n",
      "    \"total_tokens\": 727\n",
      "  }\n",
      "})\n"
     ]
    },
    {
     "name": "stderr",
     "output_type": "stream",
     "text": [
      "  6%|▌         | 6/100 [00:07<02:07,  1.36s/it]"
     ]
    },
    {
     "name": "stdout",
     "output_type": "stream",
     "text": [
      "('{\\n  \"PER\": [],\\n  \"ORG\": [],\\n  \"LOC\": [],\\n  \"MISC\": []\\n}', <OpenAIObject chat.completion id=chatcmpl-8i03tzKR5K4lPwOLazuXimmwIhjpd at 0x7f3a790e6250> JSON: {\n",
      "  \"id\": \"chatcmpl-8i03tzKR5K4lPwOLazuXimmwIhjpd\",\n",
      "  \"object\": \"chat.completion\",\n",
      "  \"created\": 1705497361,\n",
      "  \"model\": \"gpt-35-turbo\",\n",
      "  \"choices\": [\n",
      "    {\n",
      "      \"finish_reason\": \"stop\",\n",
      "      \"index\": 0,\n",
      "      \"message\": {\n",
      "        \"role\": \"assistant\",\n",
      "        \"content\": \"{\\n  \\\"PER\\\": [],\\n  \\\"ORG\\\": [],\\n  \\\"LOC\\\": [],\\n  \\\"MISC\\\": []\\n}\"\n",
      "      }\n",
      "    }\n",
      "  ],\n",
      "  \"usage\": {\n",
      "    \"prompt_tokens\": 744,\n",
      "    \"completion_tokens\": 23,\n",
      "    \"total_tokens\": 767\n",
      "  }\n",
      "})\n"
     ]
    },
    {
     "name": "stderr",
     "output_type": "stream",
     "text": [
      "  7%|▋         | 7/100 [00:09<02:02,  1.31s/it]"
     ]
    },
    {
     "name": "stdout",
     "output_type": "stream",
     "text": [
      "('{\\n  \"PER\": [],\\n  \"ORG\": [],\\n  \"LOC\": [],\\n  \"MISC\": []\\n}', <OpenAIObject chat.completion id=chatcmpl-8i03uHT2ndFhcspXnpLhJZMGjFSBY at 0x7f3a790e6430> JSON: {\n",
      "  \"id\": \"chatcmpl-8i03uHT2ndFhcspXnpLhJZMGjFSBY\",\n",
      "  \"object\": \"chat.completion\",\n",
      "  \"created\": 1705497362,\n",
      "  \"model\": \"gpt-35-turbo\",\n",
      "  \"choices\": [\n",
      "    {\n",
      "      \"finish_reason\": \"stop\",\n",
      "      \"index\": 0,\n",
      "      \"message\": {\n",
      "        \"role\": \"assistant\",\n",
      "        \"content\": \"{\\n  \\\"PER\\\": [],\\n  \\\"ORG\\\": [],\\n  \\\"LOC\\\": [],\\n  \\\"MISC\\\": []\\n}\"\n",
      "      }\n",
      "    }\n",
      "  ],\n",
      "  \"usage\": {\n",
      "    \"prompt_tokens\": 684,\n",
      "    \"completion_tokens\": 23,\n",
      "    \"total_tokens\": 707\n",
      "  }\n",
      "})\n"
     ]
    },
    {
     "name": "stderr",
     "output_type": "stream",
     "text": [
      "  8%|▊         | 8/100 [00:10<01:56,  1.27s/it]"
     ]
    },
    {
     "name": "stdout",
     "output_type": "stream",
     "text": [
      "('{\\n  \"PER\": [\"Vaclav Havel\"],\\n  \"ORG\": [],\\n  \"LOC\": [],\\n  \"MISC\": []\\n}', <OpenAIObject chat.completion id=chatcmpl-8i03wdAkDSIWfcptavws3p6GPh0IY at 0x7f3a790e4ef0> JSON: {\n",
      "  \"id\": \"chatcmpl-8i03wdAkDSIWfcptavws3p6GPh0IY\",\n",
      "  \"object\": \"chat.completion\",\n",
      "  \"created\": 1705497364,\n",
      "  \"model\": \"gpt-35-turbo\",\n",
      "  \"choices\": [\n",
      "    {\n",
      "      \"finish_reason\": \"stop\",\n",
      "      \"index\": 0,\n",
      "      \"message\": {\n",
      "        \"role\": \"assistant\",\n",
      "        \"content\": \"{\\n  \\\"PER\\\": [\\\"Vaclav Havel\\\"],\\n  \\\"ORG\\\": [],\\n  \\\"LOC\\\": [],\\n  \\\"MISC\\\": []\\n}\"\n",
      "      }\n",
      "    }\n",
      "  ],\n",
      "  \"usage\": {\n",
      "    \"prompt_tokens\": 687,\n",
      "    \"completion_tokens\": 29,\n",
      "    \"total_tokens\": 716\n",
      "  }\n",
      "})\n"
     ]
    },
    {
     "name": "stderr",
     "output_type": "stream",
     "text": [
      "  9%|▉         | 9/100 [00:12<02:35,  1.71s/it]"
     ]
    },
    {
     "name": "stdout",
     "output_type": "stream",
     "text": [
      "('{\\n  \"LOC\": [\\n    \"Nevada\",\\n    \"California\",\\n    \"Montana\",\\n    \"Canada\",\\n    \"Brazil\",\\n    \"Australia\",\\n    \"Chile\",\\n    \"Kazakstan\",\\n    \"Mexico\",\\n    \"Ghana\"\\n  ]\\n}', <OpenAIObject chat.completion id=chatcmpl-8i03y64zb8QWoBRmgRrIXoPzqJeoS at 0x7f3a790e6750> JSON: {\n",
      "  \"id\": \"chatcmpl-8i03y64zb8QWoBRmgRrIXoPzqJeoS\",\n",
      "  \"object\": \"chat.completion\",\n",
      "  \"created\": 1705497366,\n",
      "  \"model\": \"gpt-35-turbo\",\n",
      "  \"choices\": [\n",
      "    {\n",
      "      \"finish_reason\": \"stop\",\n",
      "      \"index\": 0,\n",
      "      \"message\": {\n",
      "        \"role\": \"assistant\",\n",
      "        \"content\": \"{\\n  \\\"LOC\\\": [\\n    \\\"Nevada\\\",\\n    \\\"California\\\",\\n    \\\"Montana\\\",\\n    \\\"Canada\\\",\\n    \\\"Brazil\\\",\\n    \\\"Australia\\\",\\n    \\\"Chile\\\",\\n    \\\"Kazakstan\\\",\\n    \\\"Mexico\\\",\\n    \\\"Ghana\\\"\\n  ]\\n}\"\n",
      "      }\n",
      "    }\n",
      "  ],\n",
      "  \"usage\": {\n",
      "    \"prompt_tokens\": 726,\n",
      "    \"completion_tokens\": 57,\n",
      "    \"total_tokens\": 783\n",
      "  }\n",
      "})\n"
     ]
    },
    {
     "name": "stderr",
     "output_type": "stream",
     "text": [
      " 10%|█         | 10/100 [00:14<02:19,  1.55s/it]"
     ]
    },
    {
     "name": "stdout",
     "output_type": "stream",
     "text": [
      "('{\\n  \"MISC\": [],\\n  \"ORG\": [],\\n  \"PER\": [],\\n  \"LOC\": [\\n    \"Spain\"\\n  ]\\n}', <OpenAIObject chat.completion id=chatcmpl-8i040ImeNdwkpuaTIJf7X2zD0CMK9 at 0x7f3a790e4f40> JSON: {\n",
      "  \"id\": \"chatcmpl-8i040ImeNdwkpuaTIJf7X2zD0CMK9\",\n",
      "  \"object\": \"chat.completion\",\n",
      "  \"created\": 1705497368,\n",
      "  \"model\": \"gpt-35-turbo\",\n",
      "  \"choices\": [\n",
      "    {\n",
      "      \"finish_reason\": \"stop\",\n",
      "      \"index\": 0,\n",
      "      \"message\": {\n",
      "        \"role\": \"assistant\",\n",
      "        \"content\": \"{\\n  \\\"MISC\\\": [],\\n  \\\"ORG\\\": [],\\n  \\\"PER\\\": [],\\n  \\\"LOC\\\": [\\n    \\\"Spain\\\"\\n  ]\\n}\"\n",
      "      }\n",
      "    }\n",
      "  ],\n",
      "  \"usage\": {\n",
      "    \"prompt_tokens\": 788,\n",
      "    \"completion_tokens\": 29,\n",
      "    \"total_tokens\": 817\n",
      "  }\n",
      "})\n"
     ]
    },
    {
     "name": "stderr",
     "output_type": "stream",
     "text": [
      " 11%|█         | 11/100 [00:15<02:17,  1.55s/it]"
     ]
    },
    {
     "name": "stdout",
     "output_type": "stream",
     "text": [
      "('{\\n  \"PER\": [\"Darrel Voeks\", \"Dennis Luebke\"],\\n  \"CARDINAL\": [\"38\", \"10-year\"]\\n}', <OpenAIObject chat.completion id=chatcmpl-8i041mMULc7RS7luiRPNvhtkVzJNM at 0x7f3a7b53c630> JSON: {\n",
      "  \"id\": \"chatcmpl-8i041mMULc7RS7luiRPNvhtkVzJNM\",\n",
      "  \"object\": \"chat.completion\",\n",
      "  \"created\": 1705497369,\n",
      "  \"model\": \"gpt-35-turbo\",\n",
      "  \"choices\": [\n",
      "    {\n",
      "      \"finish_reason\": \"stop\",\n",
      "      \"index\": 0,\n",
      "      \"message\": {\n",
      "        \"role\": \"assistant\",\n",
      "        \"content\": \"{\\n  \\\"PER\\\": [\\\"Darrel Voeks\\\", \\\"Dennis Luebke\\\"],\\n  \\\"CARDINAL\\\": [\\\"38\\\", \\\"10-year\\\"]\\n}\"\n",
      "      }\n",
      "    }\n",
      "  ],\n",
      "  \"usage\": {\n",
      "    \"prompt_tokens\": 730,\n",
      "    \"completion_tokens\": 32,\n",
      "    \"total_tokens\": 762\n",
      "  }\n",
      "})\n"
     ]
    },
    {
     "name": "stderr",
     "output_type": "stream",
     "text": [
      " 12%|█▏        | 12/100 [00:17<02:15,  1.54s/it]"
     ]
    },
    {
     "name": "stdout",
     "output_type": "stream",
     "text": [
      "('{\\n  \"MISC\": [\"CRICKET\", \"SHEFFIELD SHIELD\"]\\n}', <OpenAIObject chat.completion id=chatcmpl-8i0438TUuBu1WHgS9Fj8z1tQhYVv3 at 0x7f3a851da570> JSON: {\n",
      "  \"id\": \"chatcmpl-8i0438TUuBu1WHgS9Fj8z1tQhYVv3\",\n",
      "  \"object\": \"chat.completion\",\n",
      "  \"created\": 1705497371,\n",
      "  \"model\": \"gpt-35-turbo\",\n",
      "  \"choices\": [\n",
      "    {\n",
      "      \"finish_reason\": \"stop\",\n",
      "      \"index\": 0,\n",
      "      \"message\": {\n",
      "        \"role\": \"assistant\",\n",
      "        \"content\": \"{\\n  \\\"MISC\\\": [\\\"CRICKET\\\", \\\"SHEFFIELD SHIELD\\\"]\\n}\"\n",
      "      }\n",
      "    }\n",
      "  ],\n",
      "  \"usage\": {\n",
      "    \"prompt_tokens\": 517,\n",
      "    \"completion_tokens\": 20,\n",
      "    \"total_tokens\": 537\n",
      "  }\n",
      "})\n"
     ]
    },
    {
     "name": "stderr",
     "output_type": "stream",
     "text": [
      " 13%|█▎        | 13/100 [00:18<02:06,  1.45s/it]"
     ]
    },
    {
     "name": "stdout",
     "output_type": "stream",
     "text": [
      "('{\\n  \"PER\": [],\\n  \"ORG\": [],\\n  \"LOC\": [],\\n  \"MISC\": []\\n}', <OpenAIObject chat.completion id=chatcmpl-8i044DeSj5aesO8DzK6Lsk40v9XMM at 0x7f3a851da570> JSON: {\n",
      "  \"id\": \"chatcmpl-8i044DeSj5aesO8DzK6Lsk40v9XMM\",\n",
      "  \"object\": \"chat.completion\",\n",
      "  \"created\": 1705497372,\n",
      "  \"model\": \"gpt-35-turbo\",\n",
      "  \"choices\": [\n",
      "    {\n",
      "      \"finish_reason\": \"stop\",\n",
      "      \"index\": 0,\n",
      "      \"message\": {\n",
      "        \"role\": \"assistant\",\n",
      "        \"content\": \"{\\n  \\\"PER\\\": [],\\n  \\\"ORG\\\": [],\\n  \\\"LOC\\\": [],\\n  \\\"MISC\\\": []\\n}\"\n",
      "      }\n",
      "    }\n",
      "  ],\n",
      "  \"usage\": {\n",
      "    \"prompt_tokens\": 713,\n",
      "    \"completion_tokens\": 23,\n",
      "    \"total_tokens\": 736\n",
      "  }\n",
      "})\n"
     ]
    },
    {
     "name": "stderr",
     "output_type": "stream",
     "text": [
      " 14%|█▍        | 14/100 [00:19<01:57,  1.37s/it]"
     ]
    },
    {
     "name": "stdout",
     "output_type": "stream",
     "text": [
      "('{\\n  \"PER\": [],\\n  \"ORG\": [],\\n  \"LOC\": [],\\n  \"MISC\": []\\n}', <OpenAIObject chat.completion id=chatcmpl-8i045Tpxee4O6qYvGyc2zQuSYxVZT at 0x7f3a851da570> JSON: {\n",
      "  \"id\": \"chatcmpl-8i045Tpxee4O6qYvGyc2zQuSYxVZT\",\n",
      "  \"object\": \"chat.completion\",\n",
      "  \"created\": 1705497373,\n",
      "  \"model\": \"gpt-35-turbo\",\n",
      "  \"choices\": [\n",
      "    {\n",
      "      \"finish_reason\": \"stop\",\n",
      "      \"index\": 0,\n",
      "      \"message\": {\n",
      "        \"role\": \"assistant\",\n",
      "        \"content\": \"{\\n  \\\"PER\\\": [],\\n  \\\"ORG\\\": [],\\n  \\\"LOC\\\": [],\\n  \\\"MISC\\\": []\\n}\"\n",
      "      }\n",
      "    }\n",
      "  ],\n",
      "  \"usage\": {\n",
      "    \"prompt_tokens\": 790,\n",
      "    \"completion_tokens\": 23,\n",
      "    \"total_tokens\": 813\n",
      "  }\n",
      "})\n"
     ]
    },
    {
     "name": "stderr",
     "output_type": "stream",
     "text": [
      " 15%|█▌        | 15/100 [00:20<01:47,  1.26s/it]"
     ]
    },
    {
     "name": "stdout",
     "output_type": "stream",
     "text": [
      "('{\\n  \"LOC\": [\"United Arab Emirates\", \"Kuwait\"]\\n}', <OpenAIObject chat.completion id=chatcmpl-8i046Q8oFTrSWMfTUrF4e72JbYF7s at 0x7f3a7b8c6570> JSON: {\n",
      "  \"id\": \"chatcmpl-8i046Q8oFTrSWMfTUrF4e72JbYF7s\",\n",
      "  \"object\": \"chat.completion\",\n",
      "  \"created\": 1705497374,\n",
      "  \"model\": \"gpt-35-turbo\",\n",
      "  \"choices\": [\n",
      "    {\n",
      "      \"finish_reason\": \"stop\",\n",
      "      \"index\": 0,\n",
      "      \"message\": {\n",
      "        \"role\": \"assistant\",\n",
      "        \"content\": \"{\\n  \\\"LOC\\\": [\\\"United Arab Emirates\\\", \\\"Kuwait\\\"]\\n}\"\n",
      "      }\n",
      "    }\n",
      "  ],\n",
      "  \"usage\": {\n",
      "    \"prompt_tokens\": 626,\n",
      "    \"completion_tokens\": 16,\n",
      "    \"total_tokens\": 642\n",
      "  }\n",
      "})\n"
     ]
    },
    {
     "name": "stderr",
     "output_type": "stream",
     "text": [
      " 16%|█▌        | 16/100 [00:22<01:56,  1.38s/it]"
     ]
    },
    {
     "name": "stdout",
     "output_type": "stream",
     "text": [
      "('{\\n  \"PER\": [],\\n  \"ORG\": [],\\n  \"LOC\": [],\\n  \"MISC\": [\\n    \"chow chows\",\\n    \"Rottweilers\",\\n    \"German shepherds\",\\n    \"cocker spaniels\",\\n    \"Dalmatians\"\\n  ]\\n}', <OpenAIObject chat.completion id=chatcmpl-8i047EKFaph5VpMyaSHE3V1aZGW9m at 0x7f3a851da570> JSON: {\n",
      "  \"id\": \"chatcmpl-8i047EKFaph5VpMyaSHE3V1aZGW9m\",\n",
      "  \"object\": \"chat.completion\",\n",
      "  \"created\": 1705497375,\n",
      "  \"model\": \"gpt-35-turbo\",\n",
      "  \"choices\": [\n",
      "    {\n",
      "      \"finish_reason\": \"stop\",\n",
      "      \"index\": 0,\n",
      "      \"message\": {\n",
      "        \"role\": \"assistant\",\n",
      "        \"content\": \"{\\n  \\\"PER\\\": [],\\n  \\\"ORG\\\": [],\\n  \\\"LOC\\\": [],\\n  \\\"MISC\\\": [\\n    \\\"chow chows\\\",\\n    \\\"Rottweilers\\\",\\n    \\\"German shepherds\\\",\\n    \\\"cocker spaniels\\\",\\n    \\\"Dalmatians\\\"\\n  ]\\n}\"\n",
      "      }\n",
      "    }\n",
      "  ],\n",
      "  \"usage\": {\n",
      "    \"prompt_tokens\": 705,\n",
      "    \"completion_tokens\": 61,\n",
      "    \"total_tokens\": 766\n",
      "  }\n",
      "})\n"
     ]
    },
    {
     "name": "stderr",
     "output_type": "stream",
     "text": [
      " 17%|█▋        | 17/100 [00:23<01:53,  1.36s/it]"
     ]
    },
    {
     "name": "stdout",
     "output_type": "stream",
     "text": [
      "('{\\n  \"PER\": [],\\n  \"ORG\": [],\\n  \"LOC\": [],\\n  \"MISC\": [\\n    \"music cassettes\"\\n  ]\\n}', <OpenAIObject chat.completion id=chatcmpl-8i049eovjkfPVPoDjSGxsfKdAqtGa at 0x7f3a851da570> JSON: {\n",
      "  \"id\": \"chatcmpl-8i049eovjkfPVPoDjSGxsfKdAqtGa\",\n",
      "  \"object\": \"chat.completion\",\n",
      "  \"created\": 1705497377,\n",
      "  \"model\": \"gpt-35-turbo\",\n",
      "  \"choices\": [\n",
      "    {\n",
      "      \"finish_reason\": \"stop\",\n",
      "      \"index\": 0,\n",
      "      \"message\": {\n",
      "        \"role\": \"assistant\",\n",
      "        \"content\": \"{\\n  \\\"PER\\\": [],\\n  \\\"ORG\\\": [],\\n  \\\"LOC\\\": [],\\n  \\\"MISC\\\": [\\n    \\\"music cassettes\\\"\\n  ]\\n}\"\n",
      "      }\n",
      "    }\n",
      "  ],\n",
      "  \"usage\": {\n",
      "    \"prompt_tokens\": 664,\n",
      "    \"completion_tokens\": 32,\n",
      "    \"total_tokens\": 696\n",
      "  }\n",
      "})\n"
     ]
    },
    {
     "name": "stderr",
     "output_type": "stream",
     "text": [
      " 18%|█▊        | 18/100 [00:24<01:50,  1.35s/it]"
     ]
    },
    {
     "name": "stdout",
     "output_type": "stream",
     "text": [
      "('{\\n  \"PER\": [\"Winston Peters\"],\\n  \"ORG\": [\"New Zealand First\", \"Labour\", \"National\"],\\n  \"MISC\": []\\n}', <OpenAIObject chat.completion id=chatcmpl-8i04A5U71MftPmNR2D7EAaKJmfqWG at 0x7f3a851da570> JSON: {\n",
      "  \"id\": \"chatcmpl-8i04A5U71MftPmNR2D7EAaKJmfqWG\",\n",
      "  \"object\": \"chat.completion\",\n",
      "  \"created\": 1705497378,\n",
      "  \"model\": \"gpt-35-turbo\",\n",
      "  \"choices\": [\n",
      "    {\n",
      "      \"finish_reason\": \"stop\",\n",
      "      \"index\": 0,\n",
      "      \"message\": {\n",
      "        \"role\": \"assistant\",\n",
      "        \"content\": \"{\\n  \\\"PER\\\": [\\\"Winston Peters\\\"],\\n  \\\"ORG\\\": [\\\"New Zealand First\\\", \\\"Labour\\\", \\\"National\\\"],\\n  \\\"MISC\\\": []\\n}\"\n",
      "      }\n",
      "    }\n",
      "  ],\n",
      "  \"usage\": {\n",
      "    \"prompt_tokens\": 722,\n",
      "    \"completion_tokens\": 32,\n",
      "    \"total_tokens\": 754\n",
      "  }\n",
      "})\n"
     ]
    },
    {
     "name": "stderr",
     "output_type": "stream",
     "text": [
      " 19%|█▉        | 19/100 [00:25<01:43,  1.27s/it]"
     ]
    },
    {
     "name": "stdout",
     "output_type": "stream",
     "text": [
      "('{\\n  \"MISC\": [],\\n  \"ORG\": [],\\n  \"LOC\": [],\\n  \"PER\": []\\n}', <OpenAIObject chat.completion id=chatcmpl-8i04CJoDwy26BHeWUGzj8uJKzsdif at 0x7f3a7b8c6570> JSON: {\n",
      "  \"id\": \"chatcmpl-8i04CJoDwy26BHeWUGzj8uJKzsdif\",\n",
      "  \"object\": \"chat.completion\",\n",
      "  \"created\": 1705497380,\n",
      "  \"model\": \"gpt-35-turbo\",\n",
      "  \"choices\": [\n",
      "    {\n",
      "      \"finish_reason\": \"stop\",\n",
      "      \"index\": 0,\n",
      "      \"message\": {\n",
      "        \"role\": \"assistant\",\n",
      "        \"content\": \"{\\n  \\\"MISC\\\": [],\\n  \\\"ORG\\\": [],\\n  \\\"LOC\\\": [],\\n  \\\"PER\\\": []\\n}\"\n",
      "      }\n",
      "    }\n",
      "  ],\n",
      "  \"usage\": {\n",
      "    \"prompt_tokens\": 577,\n",
      "    \"completion_tokens\": 23,\n",
      "    \"total_tokens\": 600\n",
      "  }\n",
      "})\n"
     ]
    },
    {
     "name": "stderr",
     "output_type": "stream",
     "text": [
      " 20%|██        | 20/100 [00:27<01:44,  1.30s/it]"
     ]
    },
    {
     "name": "stdout",
     "output_type": "stream",
     "text": [
      "('{\\n  \"MISC\": [\"Internet\", \"computer network\", \"music\", \"software\", \"computer mouse\"],\\n  \"ORG\": [],\\n  \"PER\": [],\\n  \"LOC\": []\\n}', <OpenAIObject chat.completion id=chatcmpl-8i04DXnK8HAdZ6F3uGI4boZpP4o3R at 0x7f3a851da570> JSON: {\n",
      "  \"id\": \"chatcmpl-8i04DXnK8HAdZ6F3uGI4boZpP4o3R\",\n",
      "  \"object\": \"chat.completion\",\n",
      "  \"created\": 1705497381,\n",
      "  \"model\": \"gpt-35-turbo\",\n",
      "  \"choices\": [\n",
      "    {\n",
      "      \"finish_reason\": \"stop\",\n",
      "      \"index\": 0,\n",
      "      \"message\": {\n",
      "        \"role\": \"assistant\",\n",
      "        \"content\": \"{\\n  \\\"MISC\\\": [\\\"Internet\\\", \\\"computer network\\\", \\\"music\\\", \\\"software\\\", \\\"computer mouse\\\"],\\n  \\\"ORG\\\": [],\\n  \\\"PER\\\": [],\\n  \\\"LOC\\\": []\\n}\"\n",
      "      }\n",
      "    }\n",
      "  ],\n",
      "  \"usage\": {\n",
      "    \"prompt_tokens\": 766,\n",
      "    \"completion_tokens\": 39,\n",
      "    \"total_tokens\": 805\n",
      "  }\n",
      "})\n"
     ]
    },
    {
     "name": "stderr",
     "output_type": "stream",
     "text": [
      " 21%|██        | 21/100 [00:28<01:41,  1.29s/it]"
     ]
    },
    {
     "name": "stdout",
     "output_type": "stream",
     "text": [
      "('{\\n  \"LOC\": [\"Turkey\", \"Syrian border\"]\\n}', <OpenAIObject chat.completion id=chatcmpl-8i04EhHzNBqIKxO2P974KmvPeiEm6 at 0x7f3a7b826390> JSON: {\n",
      "  \"id\": \"chatcmpl-8i04EhHzNBqIKxO2P974KmvPeiEm6\",\n",
      "  \"object\": \"chat.completion\",\n",
      "  \"created\": 1705497382,\n",
      "  \"model\": \"gpt-35-turbo\",\n",
      "  \"choices\": [\n",
      "    {\n",
      "      \"finish_reason\": \"stop\",\n",
      "      \"index\": 0,\n",
      "      \"message\": {\n",
      "        \"role\": \"assistant\",\n",
      "        \"content\": \"{\\n  \\\"LOC\\\": [\\\"Turkey\\\", \\\"Syrian border\\\"]\\n}\"\n",
      "      }\n",
      "    }\n",
      "  ],\n",
      "  \"usage\": {\n",
      "    \"prompt_tokens\": 671,\n",
      "    \"completion_tokens\": 14,\n",
      "    \"total_tokens\": 685\n",
      "  }\n",
      "})\n"
     ]
    },
    {
     "name": "stderr",
     "output_type": "stream",
     "text": [
      " 22%|██▏       | 22/100 [00:29<01:38,  1.26s/it]"
     ]
    },
    {
     "name": "stdout",
     "output_type": "stream",
     "text": [
      "('{\\n  \"PER\": [\"Rashid\"],\\n  \"ORG\": [\"Greece\"],\\n  \"CARDINAL\": [\"8-1/2 years\"]\\n}', <OpenAIObject chat.completion id=chatcmpl-8i04FNalpbp1916stPV5CjmbZtGRI at 0x7f3a851da570> JSON: {\n",
      "  \"id\": \"chatcmpl-8i04FNalpbp1916stPV5CjmbZtGRI\",\n",
      "  \"object\": \"chat.completion\",\n",
      "  \"created\": 1705497383,\n",
      "  \"model\": \"gpt-35-turbo\",\n",
      "  \"choices\": [\n",
      "    {\n",
      "      \"finish_reason\": \"stop\",\n",
      "      \"index\": 0,\n",
      "      \"message\": {\n",
      "        \"role\": \"assistant\",\n",
      "        \"content\": \"{\\n  \\\"PER\\\": [\\\"Rashid\\\"],\\n  \\\"ORG\\\": [\\\"Greece\\\"],\\n  \\\"CARDINAL\\\": [\\\"8-1/2 years\\\"]\\n}\"\n",
      "      }\n",
      "    }\n",
      "  ],\n",
      "  \"usage\": {\n",
      "    \"prompt_tokens\": 757,\n",
      "    \"completion_tokens\": 32,\n",
      "    \"total_tokens\": 789\n",
      "  }\n",
      "})\n"
     ]
    },
    {
     "name": "stderr",
     "output_type": "stream",
     "text": [
      " 23%|██▎       | 23/100 [00:31<01:37,  1.27s/it]"
     ]
    },
    {
     "name": "stdout",
     "output_type": "stream",
     "text": [
      "('{\\n  \"PER\": [],\\n  \"ORG\": [],\\n  \"LOC\": [\\n    \"Nairobi\",\\n    \"Goma\"\\n  ],\\n  \"MISC\": []\\n}', <OpenAIObject chat.completion id=chatcmpl-8i04GNwBXhqjy2eMs9IJYrToQ6y2G at 0x7f3a7b826390> JSON: {\n",
      "  \"id\": \"chatcmpl-8i04GNwBXhqjy2eMs9IJYrToQ6y2G\",\n",
      "  \"object\": \"chat.completion\",\n",
      "  \"created\": 1705497384,\n",
      "  \"model\": \"gpt-35-turbo\",\n",
      "  \"choices\": [\n",
      "    {\n",
      "      \"finish_reason\": \"stop\",\n",
      "      \"index\": 0,\n",
      "      \"message\": {\n",
      "        \"role\": \"assistant\",\n",
      "        \"content\": \"{\\n  \\\"PER\\\": [],\\n  \\\"ORG\\\": [],\\n  \\\"LOC\\\": [\\n    \\\"Nairobi\\\",\\n    \\\"Goma\\\"\\n  ],\\n  \\\"MISC\\\": []\\n}\"\n",
      "      }\n",
      "    }\n",
      "  ],\n",
      "  \"usage\": {\n",
      "    \"prompt_tokens\": 850,\n",
      "    \"completion_tokens\": 35,\n",
      "    \"total_tokens\": 885\n",
      "  }\n",
      "})\n"
     ]
    },
    {
     "name": "stderr",
     "output_type": "stream",
     "text": [
      " 24%|██▍       | 24/100 [00:32<01:36,  1.27s/it]"
     ]
    },
    {
     "name": "stdout",
     "output_type": "stream",
     "text": [
      "('{\\n  \"PER\": [\"Australia\", \"Barbarians\"],\\n  \"CARDINAL\": [\"39-12\", \"27-0\"],\\n  \"DATE\": [\"Saturday\"],\\n  \"MISC\": [\"European\"]\\n}', <OpenAIObject chat.completion id=chatcmpl-8i04IvBr7Da1hK2LLw5xpThLFTiTt at 0x7f3a7b826390> JSON: {\n",
      "  \"id\": \"chatcmpl-8i04IvBr7Da1hK2LLw5xpThLFTiTt\",\n",
      "  \"object\": \"chat.completion\",\n",
      "  \"created\": 1705497386,\n",
      "  \"model\": \"gpt-35-turbo\",\n",
      "  \"choices\": [\n",
      "    {\n",
      "      \"finish_reason\": \"stop\",\n",
      "      \"index\": 0,\n",
      "      \"message\": {\n",
      "        \"role\": \"assistant\",\n",
      "        \"content\": \"{\\n  \\\"PER\\\": [\\\"Australia\\\", \\\"Barbarians\\\"],\\n  \\\"CARDINAL\\\": [\\\"39-12\\\", \\\"27-0\\\"],\\n  \\\"DATE\\\": [\\\"Saturday\\\"],\\n  \\\"MISC\\\": [\\\"European\\\"]\\n}\"\n",
      "      }\n",
      "    }\n",
      "  ],\n",
      "  \"usage\": {\n",
      "    \"prompt_tokens\": 763,\n",
      "    \"completion_tokens\": 44,\n",
      "    \"total_tokens\": 807\n",
      "  }\n",
      "})\n"
     ]
    },
    {
     "name": "stderr",
     "output_type": "stream",
     "text": [
      " 25%|██▌       | 25/100 [00:33<01:35,  1.27s/it]"
     ]
    },
    {
     "name": "stdout",
     "output_type": "stream",
     "text": [
      "('{\\n  \"PER\": [],\\n  \"ORG\": [],\\n  \"LOC\": [],\\n  \"MISC\": []\\n}', <OpenAIObject chat.completion id=chatcmpl-8i04JapJWs8O5emC63bMXqNaKj7Va at 0x7f3a7b826390> JSON: {\n",
      "  \"id\": \"chatcmpl-8i04JapJWs8O5emC63bMXqNaKj7Va\",\n",
      "  \"object\": \"chat.completion\",\n",
      "  \"created\": 1705497387,\n",
      "  \"model\": \"gpt-35-turbo\",\n",
      "  \"choices\": [\n",
      "    {\n",
      "      \"finish_reason\": \"stop\",\n",
      "      \"index\": 0,\n",
      "      \"message\": {\n",
      "        \"role\": \"assistant\",\n",
      "        \"content\": \"{\\n  \\\"PER\\\": [],\\n  \\\"ORG\\\": [],\\n  \\\"LOC\\\": [],\\n  \\\"MISC\\\": []\\n}\"\n",
      "      }\n",
      "    }\n",
      "  ],\n",
      "  \"usage\": {\n",
      "    \"prompt_tokens\": 757,\n",
      "    \"completion_tokens\": 23,\n",
      "    \"total_tokens\": 780\n",
      "  }\n",
      "})\n"
     ]
    },
    {
     "name": "stderr",
     "output_type": "stream",
     "text": [
      " 26%|██▌       | 26/100 [00:34<01:30,  1.22s/it]"
     ]
    },
    {
     "name": "stdout",
     "output_type": "stream",
     "text": [
      "('{\\n  \"PER\": [\"Weah\"],\\n  \"ORG\": [\"Milan\", \"Rosenborg\"],\\n  \"LOC\": [\"Norway\"]\\n}', <OpenAIObject chat.completion id=chatcmpl-8i04KAnzf1XMp4Wi6Ehf4FM0fk10F at 0x7f3a7b826390> JSON: {\n",
      "  \"id\": \"chatcmpl-8i04KAnzf1XMp4Wi6Ehf4FM0fk10F\",\n",
      "  \"object\": \"chat.completion\",\n",
      "  \"created\": 1705497388,\n",
      "  \"model\": \"gpt-35-turbo\",\n",
      "  \"choices\": [\n",
      "    {\n",
      "      \"finish_reason\": \"stop\",\n",
      "      \"index\": 0,\n",
      "      \"message\": {\n",
      "        \"role\": \"assistant\",\n",
      "        \"content\": \"{\\n  \\\"PER\\\": [\\\"Weah\\\"],\\n  \\\"ORG\\\": [\\\"Milan\\\", \\\"Rosenborg\\\"],\\n  \\\"LOC\\\": [\\\"Norway\\\"]\\n}\"\n",
      "      }\n",
      "    }\n",
      "  ],\n",
      "  \"usage\": {\n",
      "    \"prompt_tokens\": 744,\n",
      "    \"completion_tokens\": 31,\n",
      "    \"total_tokens\": 775\n",
      "  }\n",
      "})\n"
     ]
    },
    {
     "name": "stderr",
     "output_type": "stream",
     "text": [
      " 27%|██▋       | 27/100 [00:36<01:31,  1.26s/it]"
     ]
    },
    {
     "name": "stdout",
     "output_type": "stream",
     "text": [
      "('{\\n  \"PER\": [\"Axel Schulz\", \"Jose Ribalta\"],\\n  \"ORG\": [\"IBF\"],\\n  \"MISC\": [\"BOXING\"]\\n}', <OpenAIObject chat.completion id=chatcmpl-8i04LtGKS6mq2opJzDsxJZp9YgZZU at 0x7f3a7b8c6570> JSON: {\n",
      "  \"id\": \"chatcmpl-8i04LtGKS6mq2opJzDsxJZp9YgZZU\",\n",
      "  \"object\": \"chat.completion\",\n",
      "  \"created\": 1705497389,\n",
      "  \"model\": \"gpt-35-turbo\",\n",
      "  \"choices\": [\n",
      "    {\n",
      "      \"finish_reason\": \"stop\",\n",
      "      \"index\": 0,\n",
      "      \"message\": {\n",
      "        \"role\": \"assistant\",\n",
      "        \"content\": \"{\\n  \\\"PER\\\": [\\\"Axel Schulz\\\", \\\"Jose Ribalta\\\"],\\n  \\\"ORG\\\": [\\\"IBF\\\"],\\n  \\\"MISC\\\": [\\\"BOXING\\\"]\\n}\"\n",
      "      }\n",
      "    }\n",
      "  ],\n",
      "  \"usage\": {\n",
      "    \"prompt_tokens\": 627,\n",
      "    \"completion_tokens\": 35,\n",
      "    \"total_tokens\": 662\n",
      "  }\n",
      "})\n"
     ]
    },
    {
     "name": "stderr",
     "output_type": "stream",
     "text": [
      " 28%|██▊       | 28/100 [00:37<01:40,  1.40s/it]"
     ]
    },
    {
     "name": "stdout",
     "output_type": "stream",
     "text": [
      "('{\\n  \"PER\": [\"Brett Liddle\", \"Hugh Baiocchi\", \"Adilson da Silva\", \"Sammy Daniels\"],\\n  \"LOC\": [\"Brazil\"]\\n}', <OpenAIObject chat.completion id=chatcmpl-8i04NHAhckyBjTCtyXfOM4wjxNjx4 at 0x7f3a7b8c6570> JSON: {\n",
      "  \"id\": \"chatcmpl-8i04NHAhckyBjTCtyXfOM4wjxNjx4\",\n",
      "  \"object\": \"chat.completion\",\n",
      "  \"created\": 1705497391,\n",
      "  \"model\": \"gpt-35-turbo\",\n",
      "  \"choices\": [\n",
      "    {\n",
      "      \"finish_reason\": \"stop\",\n",
      "      \"index\": 0,\n",
      "      \"message\": {\n",
      "        \"role\": \"assistant\",\n",
      "        \"content\": \"{\\n  \\\"PER\\\": [\\\"Brett Liddle\\\", \\\"Hugh Baiocchi\\\", \\\"Adilson da Silva\\\", \\\"Sammy Daniels\\\"],\\n  \\\"LOC\\\": [\\\"Brazil\\\"]\\n}\"\n",
      "      }\n",
      "    }\n",
      "  ],\n",
      "  \"usage\": {\n",
      "    \"prompt_tokens\": 810,\n",
      "    \"completion_tokens\": 37,\n",
      "    \"total_tokens\": 847\n",
      "  }\n",
      "})\n"
     ]
    },
    {
     "name": "stderr",
     "output_type": "stream",
     "text": [
      " 29%|██▉       | 29/100 [00:39<01:35,  1.35s/it]"
     ]
    },
    {
     "name": "stdout",
     "output_type": "stream",
     "text": [
      "('{\\n  \"PER\": [],\\n  \"ORG\": [],\\n  \"LOC\": [],\\n  \"MISC\": []\\n}', <OpenAIObject chat.completion id=chatcmpl-8i04PRaep6iEPKw4PGYKWWtl2rTZF at 0x7f3a7b8c6570> JSON: {\n",
      "  \"id\": \"chatcmpl-8i04PRaep6iEPKw4PGYKWWtl2rTZF\",\n",
      "  \"object\": \"chat.completion\",\n",
      "  \"created\": 1705497393,\n",
      "  \"model\": \"gpt-35-turbo\",\n",
      "  \"choices\": [\n",
      "    {\n",
      "      \"finish_reason\": \"stop\",\n",
      "      \"index\": 0,\n",
      "      \"message\": {\n",
      "        \"role\": \"assistant\",\n",
      "        \"content\": \"{\\n  \\\"PER\\\": [],\\n  \\\"ORG\\\": [],\\n  \\\"LOC\\\": [],\\n  \\\"MISC\\\": []\\n}\"\n",
      "      }\n",
      "    }\n",
      "  ],\n",
      "  \"usage\": {\n",
      "    \"prompt_tokens\": 704,\n",
      "    \"completion_tokens\": 23,\n",
      "    \"total_tokens\": 727\n",
      "  }\n",
      "})\n"
     ]
    },
    {
     "name": "stderr",
     "output_type": "stream",
     "text": [
      " 30%|███       | 30/100 [00:40<01:31,  1.30s/it]"
     ]
    },
    {
     "name": "stdout",
     "output_type": "stream",
     "text": [
      "('{\\n  \"PER\": [\"Voeks\"],\\n  \"MISC\": [\"pig thefts\"],\\n  \"ORG\": []\\n}', <OpenAIObject chat.completion id=chatcmpl-8i04Q2ft6tKoDr9mPrCqSTUMXTbim at 0x7f3a7b8c6570> JSON: {\n",
      "  \"id\": \"chatcmpl-8i04Q2ft6tKoDr9mPrCqSTUMXTbim\",\n",
      "  \"object\": \"chat.completion\",\n",
      "  \"created\": 1705497394,\n",
      "  \"model\": \"gpt-35-turbo\",\n",
      "  \"choices\": [\n",
      "    {\n",
      "      \"finish_reason\": \"stop\",\n",
      "      \"index\": 0,\n",
      "      \"message\": {\n",
      "        \"role\": \"assistant\",\n",
      "        \"content\": \"{\\n  \\\"PER\\\": [\\\"Voeks\\\"],\\n  \\\"MISC\\\": [\\\"pig thefts\\\"],\\n  \\\"ORG\\\": []\\n}\"\n",
      "      }\n",
      "    }\n",
      "  ],\n",
      "  \"usage\": {\n",
      "    \"prompt_tokens\": 764,\n",
      "    \"completion_tokens\": 25,\n",
      "    \"total_tokens\": 789\n",
      "  }\n",
      "})\n"
     ]
    },
    {
     "name": "stderr",
     "output_type": "stream",
     "text": [
      " 31%|███       | 31/100 [00:41<01:28,  1.29s/it]"
     ]
    },
    {
     "name": "stdout",
     "output_type": "stream",
     "text": [
      "('{\\n  \"PER\": [],\\n  \"ORG\": [],\\n  \"LOC\": [],\\n  \"MISC\": []\\n}', <OpenAIObject chat.completion id=chatcmpl-8i04RTvpp6o3f4UoXhlKn6ISiQ2yM at 0x7f3a7b826390> JSON: {\n",
      "  \"id\": \"chatcmpl-8i04RTvpp6o3f4UoXhlKn6ISiQ2yM\",\n",
      "  \"object\": \"chat.completion\",\n",
      "  \"created\": 1705497395,\n",
      "  \"model\": \"gpt-35-turbo\",\n",
      "  \"choices\": [\n",
      "    {\n",
      "      \"finish_reason\": \"stop\",\n",
      "      \"index\": 0,\n",
      "      \"message\": {\n",
      "        \"role\": \"assistant\",\n",
      "        \"content\": \"{\\n  \\\"PER\\\": [],\\n  \\\"ORG\\\": [],\\n  \\\"LOC\\\": [],\\n  \\\"MISC\\\": []\\n}\"\n",
      "      }\n",
      "    }\n",
      "  ],\n",
      "  \"usage\": {\n",
      "    \"prompt_tokens\": 689,\n",
      "    \"completion_tokens\": 23,\n",
      "    \"total_tokens\": 712\n",
      "  }\n",
      "})\n"
     ]
    },
    {
     "name": "stderr",
     "output_type": "stream",
     "text": [
      " 32%|███▏      | 32/100 [00:42<01:30,  1.33s/it]"
     ]
    },
    {
     "name": "stdout",
     "output_type": "stream",
     "text": [
      "('{\\n  \"CARDINAL\": [\"112\"],\\n  \"PER\": [],\\n  \"ORG\": [],\\n  \"LOC\": [],\\n  \"MISC\": []\\n}', <OpenAIObject chat.completion id=chatcmpl-8i04S6kyQ04xBjT3y1LD24FiQCWf9 at 0x7f3a790e4db0> JSON: {\n",
      "  \"id\": \"chatcmpl-8i04S6kyQ04xBjT3y1LD24FiQCWf9\",\n",
      "  \"object\": \"chat.completion\",\n",
      "  \"created\": 1705497396,\n",
      "  \"model\": \"gpt-35-turbo\",\n",
      "  \"choices\": [\n",
      "    {\n",
      "      \"finish_reason\": \"stop\",\n",
      "      \"index\": 0,\n",
      "      \"message\": {\n",
      "        \"role\": \"assistant\",\n",
      "        \"content\": \"{\\n  \\\"CARDINAL\\\": [\\\"112\\\"],\\n  \\\"PER\\\": [],\\n  \\\"ORG\\\": [],\\n  \\\"LOC\\\": [],\\n  \\\"MISC\\\": []\\n}\"\n",
      "      }\n",
      "    }\n",
      "  ],\n",
      "  \"usage\": {\n",
      "    \"prompt_tokens\": 739,\n",
      "    \"completion_tokens\": 31,\n",
      "    \"total_tokens\": 770\n",
      "  }\n",
      "})\n"
     ]
    },
    {
     "name": "stderr",
     "output_type": "stream",
     "text": [
      " 33%|███▎      | 33/100 [00:44<01:25,  1.28s/it]"
     ]
    },
    {
     "name": "stdout",
     "output_type": "stream",
     "text": [
      "('{\\n  \"MISC\": [\"Standings\"],\\n  \"CARDINAL\": [\"played\", \"won\", \"drawn\", \"lost\", \"goals\"]\\n}', <OpenAIObject chat.completion id=chatcmpl-8i04Td1JtoO0NTUyzy36yXdpKEG8v at 0x7f3a790e5080> JSON: {\n",
      "  \"id\": \"chatcmpl-8i04Td1JtoO0NTUyzy36yXdpKEG8v\",\n",
      "  \"object\": \"chat.completion\",\n",
      "  \"created\": 1705497397,\n",
      "  \"model\": \"gpt-35-turbo\",\n",
      "  \"choices\": [\n",
      "    {\n",
      "      \"finish_reason\": \"stop\",\n",
      "      \"index\": 0,\n",
      "      \"message\": {\n",
      "        \"role\": \"assistant\",\n",
      "        \"content\": \"{\\n  \\\"MISC\\\": [\\\"Standings\\\"],\\n  \\\"CARDINAL\\\": [\\\"played\\\", \\\"won\\\", \\\"drawn\\\", \\\"lost\\\", \\\"goals\\\"]\\n}\"\n",
      "      }\n",
      "    }\n",
      "  ],\n",
      "  \"usage\": {\n",
      "    \"prompt_tokens\": 545,\n",
      "    \"completion_tokens\": 32,\n",
      "    \"total_tokens\": 577\n",
      "  }\n",
      "})\n"
     ]
    },
    {
     "name": "stderr",
     "output_type": "stream",
     "text": [
      " 34%|███▍      | 34/100 [00:45<01:24,  1.28s/it]"
     ]
    },
    {
     "name": "stdout",
     "output_type": "stream",
     "text": [
      "('{\\n  \"PER\": [],\\n  \"ORG\": [\"African states\", \"council\"],\\n  \"LOC\": [],\\n  \"MISC\": [\"candidates\", \"procedure\", \"decision\", \"fight\", \"vetoes\", \"nominee\"]\\n}', <OpenAIObject chat.completion id=chatcmpl-8i04VVyX4O62wmJohI6VdyrZRgc4S at 0x7f3a790e5490> JSON: {\n",
      "  \"id\": \"chatcmpl-8i04VVyX4O62wmJohI6VdyrZRgc4S\",\n",
      "  \"object\": \"chat.completion\",\n",
      "  \"created\": 1705497399,\n",
      "  \"model\": \"gpt-35-turbo\",\n",
      "  \"choices\": [\n",
      "    {\n",
      "      \"finish_reason\": \"stop\",\n",
      "      \"index\": 0,\n",
      "      \"message\": {\n",
      "        \"role\": \"assistant\",\n",
      "        \"content\": \"{\\n  \\\"PER\\\": [],\\n  \\\"ORG\\\": [\\\"African states\\\", \\\"council\\\"],\\n  \\\"LOC\\\": [],\\n  \\\"MISC\\\": [\\\"candidates\\\", \\\"procedure\\\", \\\"decision\\\", \\\"fight\\\", \\\"vetoes\\\", \\\"nominee\\\"]\\n}\"\n",
      "      }\n",
      "    }\n",
      "  ],\n",
      "  \"usage\": {\n",
      "    \"prompt_tokens\": 685,\n",
      "    \"completion_tokens\": 50,\n",
      "    \"total_tokens\": 735\n",
      "  }\n",
      "})\n"
     ]
    },
    {
     "name": "stderr",
     "output_type": "stream",
     "text": [
      " 35%|███▌      | 35/100 [00:46<01:21,  1.25s/it]"
     ]
    },
    {
     "name": "stdout",
     "output_type": "stream",
     "text": [
      "('{\\n  \"ORG\": [\"Zimbabwe Open\"],\\n  \"MISC\": [\"South African\"]\\n}', <OpenAIObject chat.completion id=chatcmpl-8i04WVXu9wxkHo8an3vuNVCYaYYpU at 0x7f3a790e5210> JSON: {\n",
      "  \"id\": \"chatcmpl-8i04WVXu9wxkHo8an3vuNVCYaYYpU\",\n",
      "  \"object\": \"chat.completion\",\n",
      "  \"created\": 1705497400,\n",
      "  \"model\": \"gpt-35-turbo\",\n",
      "  \"choices\": [\n",
      "    {\n",
      "      \"finish_reason\": \"stop\",\n",
      "      \"index\": 0,\n",
      "      \"message\": {\n",
      "        \"role\": \"assistant\",\n",
      "        \"content\": \"{\\n  \\\"ORG\\\": [\\\"Zimbabwe Open\\\"],\\n  \\\"MISC\\\": [\\\"South African\\\"]\\n}\"\n",
      "      }\n",
      "    }\n",
      "  ],\n",
      "  \"usage\": {\n",
      "    \"prompt_tokens\": 645,\n",
      "    \"completion_tokens\": 20,\n",
      "    \"total_tokens\": 665\n",
      "  }\n",
      "})\n"
     ]
    },
    {
     "name": "stderr",
     "output_type": "stream",
     "text": [
      " 36%|███▌      | 36/100 [00:47<01:21,  1.27s/it]"
     ]
    },
    {
     "name": "stdout",
     "output_type": "stream",
     "text": [
      "('{\\n  \"PER\": [\"Pace\"],\\n  \"ORG\": [\"Ohio State\", \"Rose Bowl\", \"Arizona State\"]\\n}', <OpenAIObject chat.completion id=chatcmpl-8i04XDX4bwEfxGT26KI4eWAXgmYSr at 0x7f3a790e6e80> JSON: {\n",
      "  \"id\": \"chatcmpl-8i04XDX4bwEfxGT26KI4eWAXgmYSr\",\n",
      "  \"object\": \"chat.completion\",\n",
      "  \"created\": 1705497401,\n",
      "  \"model\": \"gpt-35-turbo\",\n",
      "  \"choices\": [\n",
      "    {\n",
      "      \"finish_reason\": \"stop\",\n",
      "      \"index\": 0,\n",
      "      \"message\": {\n",
      "        \"role\": \"assistant\",\n",
      "        \"content\": \"{\\n  \\\"PER\\\": [\\\"Pace\\\"],\\n  \\\"ORG\\\": [\\\"Ohio State\\\", \\\"Rose Bowl\\\", \\\"Arizona State\\\"]\\n}\"\n",
      "      }\n",
      "    }\n",
      "  ],\n",
      "  \"usage\": {\n",
      "    \"prompt_tokens\": 784,\n",
      "    \"completion_tokens\": 26,\n",
      "    \"total_tokens\": 810\n",
      "  }\n",
      "})\n"
     ]
    },
    {
     "name": "stderr",
     "output_type": "stream",
     "text": [
      " 37%|███▋      | 37/100 [00:49<01:21,  1.30s/it]"
     ]
    },
    {
     "name": "stdout",
     "output_type": "stream",
     "text": [
      "('{\\n  \"MISC\": [\"four\", \"one\", \"each\", \"one\"],\\n  \"CARDINAL\": [\"one\"]\\n}', <OpenAIObject chat.completion id=chatcmpl-8i04ZgVfDUw6aAPgJh79iuMK2eATl at 0x7f3a790e6c00> JSON: {\n",
      "  \"id\": \"chatcmpl-8i04ZgVfDUw6aAPgJh79iuMK2eATl\",\n",
      "  \"object\": \"chat.completion\",\n",
      "  \"created\": 1705497403,\n",
      "  \"model\": \"gpt-35-turbo\",\n",
      "  \"choices\": [\n",
      "    {\n",
      "      \"finish_reason\": \"stop\",\n",
      "      \"index\": 0,\n",
      "      \"message\": {\n",
      "        \"role\": \"assistant\",\n",
      "        \"content\": \"{\\n  \\\"MISC\\\": [\\\"four\\\", \\\"one\\\", \\\"each\\\", \\\"one\\\"],\\n  \\\"CARDINAL\\\": [\\\"one\\\"]\\n}\"\n",
      "      }\n",
      "    }\n",
      "  ],\n",
      "  \"usage\": {\n",
      "    \"prompt_tokens\": 552,\n",
      "    \"completion_tokens\": 27,\n",
      "    \"total_tokens\": 579\n",
      "  }\n",
      "})\n"
     ]
    },
    {
     "name": "stderr",
     "output_type": "stream",
     "text": [
      " 38%|███▊      | 38/100 [00:50<01:23,  1.35s/it]"
     ]
    },
    {
     "name": "stdout",
     "output_type": "stream",
     "text": [
      "('{\\n  \"LOC\": [\"TEMBAU DENPASAR\", \"Bali\"],\\n  \"CARDINAL\": [\"1996-12-07\"]\\n}', <OpenAIObject chat.completion id=chatcmpl-8i04aUvlgc9ll6v1r7noAq8QFSbjM at 0x7f3a790e6de0> JSON: {\n",
      "  \"id\": \"chatcmpl-8i04aUvlgc9ll6v1r7noAq8QFSbjM\",\n",
      "  \"object\": \"chat.completion\",\n",
      "  \"created\": 1705497404,\n",
      "  \"model\": \"gpt-35-turbo\",\n",
      "  \"choices\": [\n",
      "    {\n",
      "      \"finish_reason\": \"stop\",\n",
      "      \"index\": 0,\n",
      "      \"message\": {\n",
      "        \"role\": \"assistant\",\n",
      "        \"content\": \"{\\n  \\\"LOC\\\": [\\\"TEMBAU DENPASAR\\\", \\\"Bali\\\"],\\n  \\\"CARDINAL\\\": [\\\"1996-12-07\\\"]\\n}\"\n",
      "      }\n",
      "    }\n",
      "  ],\n",
      "  \"usage\": {\n",
      "    \"prompt_tokens\": 568,\n",
      "    \"completion_tokens\": 32,\n",
      "    \"total_tokens\": 600\n",
      "  }\n",
      "})\n"
     ]
    },
    {
     "name": "stderr",
     "output_type": "stream",
     "text": [
      " 39%|███▉      | 39/100 [00:52<01:22,  1.36s/it]"
     ]
    },
    {
     "name": "stdout",
     "output_type": "stream",
     "text": [
      "('{\\n  \"PER\": [\"Michael Cornwell\"],\\n  \"ORG\": [\"Glencoe Animal Hospital\", \"American Veterinary Medical Association\"],\\n  \"LOC\": [\"Columbus\", \"Ohio\"]\\n}', <OpenAIObject chat.completion id=chatcmpl-8i04bji7RgHXrKsJsC2BfQRn4tuYD at 0x7f3a790e7c40> JSON: {\n",
      "  \"id\": \"chatcmpl-8i04bji7RgHXrKsJsC2BfQRn4tuYD\",\n",
      "  \"object\": \"chat.completion\",\n",
      "  \"created\": 1705497405,\n",
      "  \"model\": \"gpt-35-turbo\",\n",
      "  \"choices\": [\n",
      "    {\n",
      "      \"finish_reason\": \"stop\",\n",
      "      \"index\": 0,\n",
      "      \"message\": {\n",
      "        \"role\": \"assistant\",\n",
      "        \"content\": \"{\\n  \\\"PER\\\": [\\\"Michael Cornwell\\\"],\\n  \\\"ORG\\\": [\\\"Glencoe Animal Hospital\\\", \\\"American Veterinary Medical Association\\\"],\\n  \\\"LOC\\\": [\\\"Columbus\\\", \\\"Ohio\\\"]\\n}\"\n",
      "      }\n",
      "    }\n",
      "  ],\n",
      "  \"usage\": {\n",
      "    \"prompt_tokens\": 704,\n",
      "    \"completion_tokens\": 40,\n",
      "    \"total_tokens\": 744\n",
      "  }\n",
      "})\n"
     ]
    },
    {
     "name": "stderr",
     "output_type": "stream",
     "text": [
      " 40%|████      | 40/100 [00:53<01:28,  1.48s/it]"
     ]
    },
    {
     "name": "stdout",
     "output_type": "stream",
     "text": [
      "('{\\n  \"PER\": [],\\n  \"ORG\": [],\\n  \"LOC\": [],\\n  \"MISC\": []\\n}', <OpenAIObject chat.completion id=chatcmpl-8i04ddHyYAcbyCG2vcGG7UzpHXRl5 at 0x7f3a7b8c6570> JSON: {\n",
      "  \"id\": \"chatcmpl-8i04ddHyYAcbyCG2vcGG7UzpHXRl5\",\n",
      "  \"object\": \"chat.completion\",\n",
      "  \"created\": 1705497407,\n",
      "  \"model\": \"gpt-35-turbo\",\n",
      "  \"choices\": [\n",
      "    {\n",
      "      \"finish_reason\": \"stop\",\n",
      "      \"index\": 0,\n",
      "      \"message\": {\n",
      "        \"role\": \"assistant\",\n",
      "        \"content\": \"{\\n  \\\"PER\\\": [],\\n  \\\"ORG\\\": [],\\n  \\\"LOC\\\": [],\\n  \\\"MISC\\\": []\\n}\"\n",
      "      }\n",
      "    }\n",
      "  ],\n",
      "  \"usage\": {\n",
      "    \"prompt_tokens\": 773,\n",
      "    \"completion_tokens\": 23,\n",
      "    \"total_tokens\": 796\n",
      "  }\n",
      "})\n"
     ]
    },
    {
     "name": "stderr",
     "output_type": "stream",
     "text": [
      " 41%|████      | 41/100 [00:55<01:28,  1.50s/it]"
     ]
    },
    {
     "name": "stdout",
     "output_type": "stream",
     "text": [
      "('{\\n  \"MISC\": [],\\n  \"ORG\": [],\\n  \"LOC\": [\\n    \"Frankfurt\"\\n  ],\\n  \"PER\": []\\n}', <OpenAIObject chat.completion id=chatcmpl-8i04fYtStFTqbnrDOzWEz2JdiIJtq at 0x7f3a7b8c6570> JSON: {\n",
      "  \"id\": \"chatcmpl-8i04fYtStFTqbnrDOzWEz2JdiIJtq\",\n",
      "  \"object\": \"chat.completion\",\n",
      "  \"created\": 1705497409,\n",
      "  \"model\": \"gpt-35-turbo\",\n",
      "  \"choices\": [\n",
      "    {\n",
      "      \"finish_reason\": \"stop\",\n",
      "      \"index\": 0,\n",
      "      \"message\": {\n",
      "        \"role\": \"assistant\",\n",
      "        \"content\": \"{\\n  \\\"MISC\\\": [],\\n  \\\"ORG\\\": [],\\n  \\\"LOC\\\": [\\n    \\\"Frankfurt\\\"\\n  ],\\n  \\\"PER\\\": []\\n}\"\n",
      "      }\n",
      "    }\n",
      "  ],\n",
      "  \"usage\": {\n",
      "    \"prompt_tokens\": 725,\n",
      "    \"completion_tokens\": 30,\n",
      "    \"total_tokens\": 755\n",
      "  }\n",
      "})\n"
     ]
    },
    {
     "name": "stderr",
     "output_type": "stream",
     "text": [
      " 42%|████▏     | 42/100 [00:56<01:19,  1.38s/it]"
     ]
    },
    {
     "name": "stdout",
     "output_type": "stream",
     "text": [
      "('{\\n  \"PER\": [\"Saeed Anwar\"],\\n  \"MISC\": [\"run out\"]\\n}', <OpenAIObject chat.completion id=chatcmpl-8i04gnIhm7OFcgTolZz3ClmEpKeZn at 0x7f3a7b8c6570> JSON: {\n",
      "  \"id\": \"chatcmpl-8i04gnIhm7OFcgTolZz3ClmEpKeZn\",\n",
      "  \"object\": \"chat.completion\",\n",
      "  \"created\": 1705497410,\n",
      "  \"model\": \"gpt-35-turbo\",\n",
      "  \"choices\": [\n",
      "    {\n",
      "      \"finish_reason\": \"stop\",\n",
      "      \"index\": 0,\n",
      "      \"message\": {\n",
      "        \"role\": \"assistant\",\n",
      "        \"content\": \"{\\n  \\\"PER\\\": [\\\"Saeed Anwar\\\"],\\n  \\\"MISC\\\": [\\\"run out\\\"]\\n}\"\n",
      "      }\n",
      "    }\n",
      "  ],\n",
      "  \"usage\": {\n",
      "    \"prompt_tokens\": 592,\n",
      "    \"completion_tokens\": 22,\n",
      "    \"total_tokens\": 614\n",
      "  }\n",
      "})\n"
     ]
    },
    {
     "name": "stderr",
     "output_type": "stream",
     "text": [
      " 43%|████▎     | 43/100 [00:57<01:15,  1.33s/it]"
     ]
    },
    {
     "name": "stdout",
     "output_type": "stream",
     "text": [
      "('{\\n  \"ORG\": [\"U.S.\", \"St. Louis Merchants Exchange\"],\\n  \"LOC\": [\"St. Louis\"]\\n}', <OpenAIObject chat.completion id=chatcmpl-8i04hAmCbidUxtrW5sV2DZXqnH8kH at 0x7f3a7b8c6570> JSON: {\n",
      "  \"id\": \"chatcmpl-8i04hAmCbidUxtrW5sV2DZXqnH8kH\",\n",
      "  \"object\": \"chat.completion\",\n",
      "  \"created\": 1705497411,\n",
      "  \"model\": \"gpt-35-turbo\",\n",
      "  \"choices\": [\n",
      "    {\n",
      "      \"finish_reason\": \"stop\",\n",
      "      \"index\": 0,\n",
      "      \"message\": {\n",
      "        \"role\": \"assistant\",\n",
      "        \"content\": \"{\\n  \\\"ORG\\\": [\\\"U.S.\\\", \\\"St. Louis Merchants Exchange\\\"],\\n  \\\"LOC\\\": [\\\"St. Louis\\\"]\\n}\"\n",
      "      }\n",
      "    }\n",
      "  ],\n",
      "  \"usage\": {\n",
      "    \"prompt_tokens\": 705,\n",
      "    \"completion_tokens\": 27,\n",
      "    \"total_tokens\": 732\n",
      "  }\n",
      "})\n"
     ]
    },
    {
     "name": "stderr",
     "output_type": "stream",
     "text": [
      " 44%|████▍     | 44/100 [00:58<01:13,  1.32s/it]"
     ]
    },
    {
     "name": "stdout",
     "output_type": "stream",
     "text": [
      "('{\\n  \"PER\": [\"Patrick Vieira\"],\\n  \"ORG\": [\"Arsenal\", \"Derby\"],\\n  \"LOC\": [\"English premier league\"],\\n  \"MISC\": []\\n}', <OpenAIObject chat.completion id=chatcmpl-8i04ieS1XQ4y8dClIsxO10nSuErsr at 0x7f3a7bbc1670> JSON: {\n",
      "  \"id\": \"chatcmpl-8i04ieS1XQ4y8dClIsxO10nSuErsr\",\n",
      "  \"object\": \"chat.completion\",\n",
      "  \"created\": 1705497412,\n",
      "  \"model\": \"gpt-35-turbo\",\n",
      "  \"choices\": [\n",
      "    {\n",
      "      \"finish_reason\": \"stop\",\n",
      "      \"index\": 0,\n",
      "      \"message\": {\n",
      "        \"role\": \"assistant\",\n",
      "        \"content\": \"{\\n  \\\"PER\\\": [\\\"Patrick Vieira\\\"],\\n  \\\"ORG\\\": [\\\"Arsenal\\\", \\\"Derby\\\"],\\n  \\\"LOC\\\": [\\\"English premier league\\\"],\\n  \\\"MISC\\\": []\\n}\"\n",
      "      }\n",
      "    }\n",
      "  ],\n",
      "  \"usage\": {\n",
      "    \"prompt_tokens\": 707,\n",
      "    \"completion_tokens\": 38,\n",
      "    \"total_tokens\": 745\n",
      "  }\n",
      "})\n"
     ]
    },
    {
     "name": "stderr",
     "output_type": "stream",
     "text": [
      " 45%|████▌     | 45/100 [01:00<01:11,  1.31s/it]"
     ]
    },
    {
     "name": "stdout",
     "output_type": "stream",
     "text": [
      "('{\\n  \"ORG\": [\"Police\", \"public prosecutor\\'s office\"],\\n  \"MISC\": [\"heroin\", \"Belgian francs\", \"Antwerp\"]\\n}', <OpenAIObject chat.completion id=chatcmpl-8i04ke6vQuKhuuBW9bqtey8Qv09mm at 0x7f3a7b8c6570> JSON: {\n",
      "  \"id\": \"chatcmpl-8i04ke6vQuKhuuBW9bqtey8Qv09mm\",\n",
      "  \"object\": \"chat.completion\",\n",
      "  \"created\": 1705497414,\n",
      "  \"model\": \"gpt-35-turbo\",\n",
      "  \"choices\": [\n",
      "    {\n",
      "      \"finish_reason\": \"stop\",\n",
      "      \"index\": 0,\n",
      "      \"message\": {\n",
      "        \"role\": \"assistant\",\n",
      "        \"content\": \"{\\n  \\\"ORG\\\": [\\\"Police\\\", \\\"public prosecutor's office\\\"],\\n  \\\"MISC\\\": [\\\"heroin\\\", \\\"Belgian francs\\\", \\\"Antwerp\\\"]\\n}\"\n",
      "      }\n",
      "    }\n",
      "  ],\n",
      "  \"usage\": {\n",
      "    \"prompt_tokens\": 692,\n",
      "    \"completion_tokens\": 35,\n",
      "    \"total_tokens\": 727\n",
      "  }\n",
      "})\n"
     ]
    },
    {
     "name": "stderr",
     "output_type": "stream",
     "text": [
      " 46%|████▌     | 46/100 [01:01<01:09,  1.28s/it]"
     ]
    },
    {
     "name": "stdout",
     "output_type": "stream",
     "text": [
      "('{\\n  \"PER\": [],\\n  \"ORG\": [],\\n  \"LOC\": [],\\n  \"MISC\": [\"strip clubs\"]\\n}', <OpenAIObject chat.completion id=chatcmpl-8i04lfDWV2uxyyldJvmixBWLplQVn at 0x7f3a7b8c6570> JSON: {\n",
      "  \"id\": \"chatcmpl-8i04lfDWV2uxyyldJvmixBWLplQVn\",\n",
      "  \"object\": \"chat.completion\",\n",
      "  \"created\": 1705497415,\n",
      "  \"model\": \"gpt-35-turbo\",\n",
      "  \"choices\": [\n",
      "    {\n",
      "      \"finish_reason\": \"stop\",\n",
      "      \"index\": 0,\n",
      "      \"message\": {\n",
      "        \"role\": \"assistant\",\n",
      "        \"content\": \"{\\n  \\\"PER\\\": [],\\n  \\\"ORG\\\": [],\\n  \\\"LOC\\\": [],\\n  \\\"MISC\\\": [\\\"strip clubs\\\"]\\n}\"\n",
      "      }\n",
      "    }\n",
      "  ],\n",
      "  \"usage\": {\n",
      "    \"prompt_tokens\": 677,\n",
      "    \"completion_tokens\": 26,\n",
      "    \"total_tokens\": 703\n",
      "  }\n",
      "})\n"
     ]
    },
    {
     "name": "stderr",
     "output_type": "stream",
     "text": [
      " 47%|████▋     | 47/100 [01:02<01:05,  1.24s/it]"
     ]
    },
    {
     "name": "stdout",
     "output_type": "stream",
     "text": [
      "('{\\n  \"PER\": [],\\n  \"ORG\": [],\\n  \"LOC\": [],\\n  \"MISC\": []\\n}', <OpenAIObject chat.completion id=chatcmpl-8i04mO1vfRuOPD4IuXDagm49R1Im5 at 0x7f3a7bbc1670> JSON: {\n",
      "  \"id\": \"chatcmpl-8i04mO1vfRuOPD4IuXDagm49R1Im5\",\n",
      "  \"object\": \"chat.completion\",\n",
      "  \"created\": 1705497416,\n",
      "  \"model\": \"gpt-35-turbo\",\n",
      "  \"choices\": [\n",
      "    {\n",
      "      \"finish_reason\": \"stop\",\n",
      "      \"index\": 0,\n",
      "      \"message\": {\n",
      "        \"role\": \"assistant\",\n",
      "        \"content\": \"{\\n  \\\"PER\\\": [],\\n  \\\"ORG\\\": [],\\n  \\\"LOC\\\": [],\\n  \\\"MISC\\\": []\\n}\"\n",
      "      }\n",
      "    }\n",
      "  ],\n",
      "  \"usage\": {\n",
      "    \"prompt_tokens\": 717,\n",
      "    \"completion_tokens\": 23,\n",
      "    \"total_tokens\": 740\n",
      "  }\n",
      "})\n"
     ]
    },
    {
     "name": "stderr",
     "output_type": "stream",
     "text": [
      " 48%|████▊     | 48/100 [01:03<01:06,  1.28s/it]"
     ]
    },
    {
     "name": "stdout",
     "output_type": "stream",
     "text": [
      "('{\\n  \"PER\": [\"Zieleniec\", \"Klaus\"],\\n  \"ORG\": [\"party\"],\\n  \"MISC\": [\"summer\"]\\n}', <OpenAIObject chat.completion id=chatcmpl-8i04nN5KyfTHBwnnyilqxxWcpHqP4 at 0x7f3a7bbc1670> JSON: {\n",
      "  \"id\": \"chatcmpl-8i04nN5KyfTHBwnnyilqxxWcpHqP4\",\n",
      "  \"object\": \"chat.completion\",\n",
      "  \"created\": 1705497417,\n",
      "  \"model\": \"gpt-35-turbo\",\n",
      "  \"choices\": [\n",
      "    {\n",
      "      \"finish_reason\": \"stop\",\n",
      "      \"index\": 0,\n",
      "      \"message\": {\n",
      "        \"role\": \"assistant\",\n",
      "        \"content\": \"{\\n  \\\"PER\\\": [\\\"Zieleniec\\\", \\\"Klaus\\\"],\\n  \\\"ORG\\\": [\\\"party\\\"],\\n  \\\"MISC\\\": [\\\"summer\\\"]\\n}\"\n",
      "      }\n",
      "    }\n",
      "  ],\n",
      "  \"usage\": {\n",
      "    \"prompt_tokens\": 840,\n",
      "    \"completion_tokens\": 31,\n",
      "    \"total_tokens\": 871\n",
      "  }\n",
      "})\n"
     ]
    },
    {
     "name": "stderr",
     "output_type": "stream",
     "text": [
      " 49%|████▉     | 49/100 [01:05<01:08,  1.33s/it]"
     ]
    },
    {
     "name": "stdout",
     "output_type": "stream",
     "text": [
      "('{\\n  \"ORG\": [\"Pakistan\", \"Australia\", \"World Series\"],\\n  \"LOC\": [\"Australia\"],\\n  \"MISC\": [\"World Series\"]\\n}', <OpenAIObject chat.completion id=chatcmpl-8i04pfKp6ySdm0ZQGmL5OgzfkmQMR at 0x7f3a7bbc1670> JSON: {\n",
      "  \"id\": \"chatcmpl-8i04pfKp6ySdm0ZQGmL5OgzfkmQMR\",\n",
      "  \"object\": \"chat.completion\",\n",
      "  \"created\": 1705497419,\n",
      "  \"model\": \"gpt-35-turbo\",\n",
      "  \"choices\": [\n",
      "    {\n",
      "      \"finish_reason\": \"stop\",\n",
      "      \"index\": 0,\n",
      "      \"message\": {\n",
      "        \"role\": \"assistant\",\n",
      "        \"content\": \"{\\n  \\\"ORG\\\": [\\\"Pakistan\\\", \\\"Australia\\\", \\\"World Series\\\"],\\n  \\\"LOC\\\": [\\\"Australia\\\"],\\n  \\\"MISC\\\": [\\\"World Series\\\"]\\n}\"\n",
      "      }\n",
      "    }\n",
      "  ],\n",
      "  \"usage\": {\n",
      "    \"prompt_tokens\": 672,\n",
      "    \"completion_tokens\": 32,\n",
      "    \"total_tokens\": 704\n",
      "  }\n",
      "})\n"
     ]
    },
    {
     "name": "stderr",
     "output_type": "stream",
     "text": [
      " 50%|█████     | 50/100 [01:06<01:08,  1.36s/it]"
     ]
    },
    {
     "name": "stdout",
     "output_type": "stream",
     "text": [
      "('{\\n  \"PER\": [],\\n  \"ORG\": [\"Bre-X\", \"Barrick\"],\\n  \"LOC\": [],\\n  \"MISC\": []\\n}', <OpenAIObject chat.completion id=chatcmpl-8i04q5oeLgbCLJzguj5cigOqnZdfO at 0x7f3a7bbc1670> JSON: {\n",
      "  \"id\": \"chatcmpl-8i04q5oeLgbCLJzguj5cigOqnZdfO\",\n",
      "  \"object\": \"chat.completion\",\n",
      "  \"created\": 1705497420,\n",
      "  \"model\": \"gpt-35-turbo\",\n",
      "  \"choices\": [\n",
      "    {\n",
      "      \"finish_reason\": \"stop\",\n",
      "      \"index\": 0,\n",
      "      \"message\": {\n",
      "        \"role\": \"assistant\",\n",
      "        \"content\": \"{\\n  \\\"PER\\\": [],\\n  \\\"ORG\\\": [\\\"Bre-X\\\", \\\"Barrick\\\"],\\n  \\\"LOC\\\": [],\\n  \\\"MISC\\\": []\\n}\"\n",
      "      }\n",
      "    }\n",
      "  ],\n",
      "  \"usage\": {\n",
      "    \"prompt_tokens\": 671,\n",
      "    \"completion_tokens\": 31,\n",
      "    \"total_tokens\": 702\n",
      "  }\n",
      "})\n"
     ]
    },
    {
     "name": "stderr",
     "output_type": "stream",
     "text": [
      " 51%|█████     | 51/100 [01:08<01:04,  1.31s/it]"
     ]
    },
    {
     "name": "stdout",
     "output_type": "stream",
     "text": [
      "('I\\'m sorry, but I couldn\\'t find any named entities in the sentence \"Other Facts\".', <OpenAIObject chat.completion id=chatcmpl-8i04s32kS5FaS7ID0SZ99DQTP6kde at 0x7f3a7bbc1670> JSON: {\n",
      "  \"id\": \"chatcmpl-8i04s32kS5FaS7ID0SZ99DQTP6kde\",\n",
      "  \"object\": \"chat.completion\",\n",
      "  \"created\": 1705497422,\n",
      "  \"model\": \"gpt-35-turbo\",\n",
      "  \"choices\": [\n",
      "    {\n",
      "      \"finish_reason\": \"stop\",\n",
      "      \"index\": 0,\n",
      "      \"message\": {\n",
      "        \"role\": \"assistant\",\n",
      "        \"content\": \"I'm sorry, but I couldn't find any named entities in the sentence \\\"Other Facts\\\".\"\n",
      "      }\n",
      "    }\n",
      "  ],\n",
      "  \"usage\": {\n",
      "    \"prompt_tokens\": 606,\n",
      "    \"completion_tokens\": 19,\n",
      "    \"total_tokens\": 625\n",
      "  }\n",
      "})\n",
      "-----------------------------------------------\n",
      "response does not contain {}. Returned [I'm sorry, but I couldn't find any named entities in the sentence \"Other Facts\".}\n",
      "-----------------------------------------------\n"
     ]
    },
    {
     "name": "stderr",
     "output_type": "stream",
     "text": [
      " 52%|█████▏    | 52/100 [01:09<01:02,  1.30s/it]"
     ]
    },
    {
     "name": "stdout",
     "output_type": "stream",
     "text": [
      "('{\\n  \"MISC\": [\"The Super Peasants\"],\\n  \"ORG\": [\"Doetinchem\"]\\n}', <OpenAIObject chat.completion id=chatcmpl-8i04t6fxwOda8pFuSd3tRIbHHowh9 at 0x7f3a7b8c6570> JSON: {\n",
      "  \"id\": \"chatcmpl-8i04t6fxwOda8pFuSd3tRIbHHowh9\",\n",
      "  \"object\": \"chat.completion\",\n",
      "  \"created\": 1705497423,\n",
      "  \"model\": \"gpt-35-turbo\",\n",
      "  \"choices\": [\n",
      "    {\n",
      "      \"finish_reason\": \"stop\",\n",
      "      \"index\": 0,\n",
      "      \"message\": {\n",
      "        \"role\": \"assistant\",\n",
      "        \"content\": \"{\\n  \\\"MISC\\\": [\\\"The Super Peasants\\\"],\\n  \\\"ORG\\\": [\\\"Doetinchem\\\"]\\n}\"\n",
      "      }\n",
      "    }\n",
      "  ],\n",
      "  \"usage\": {\n",
      "    \"prompt_tokens\": 633,\n",
      "    \"completion_tokens\": 24,\n",
      "    \"total_tokens\": 657\n",
      "  }\n",
      "})\n"
     ]
    },
    {
     "name": "stderr",
     "output_type": "stream",
     "text": [
      " 53%|█████▎    | 53/100 [01:10<00:58,  1.24s/it]"
     ]
    },
    {
     "name": "stdout",
     "output_type": "stream",
     "text": [
      "('{\\n  \"DATE\": [\"March 31, 1997\"]\\n}', <OpenAIObject chat.completion id=chatcmpl-8i04uPZHSg8x88kv3MO8nbmSzryIs at 0x7f3a7b8c6570> JSON: {\n",
      "  \"id\": \"chatcmpl-8i04uPZHSg8x88kv3MO8nbmSzryIs\",\n",
      "  \"object\": \"chat.completion\",\n",
      "  \"created\": 1705497424,\n",
      "  \"model\": \"gpt-35-turbo\",\n",
      "  \"choices\": [\n",
      "    {\n",
      "      \"finish_reason\": \"stop\",\n",
      "      \"index\": 0,\n",
      "      \"message\": {\n",
      "        \"role\": \"assistant\",\n",
      "        \"content\": \"{\\n  \\\"DATE\\\": [\\\"March 31, 1997\\\"]\\n}\"\n",
      "      }\n",
      "    }\n",
      "  ],\n",
      "  \"usage\": {\n",
      "    \"prompt_tokens\": 541,\n",
      "    \"completion_tokens\": 15,\n",
      "    \"total_tokens\": 556\n",
      "  }\n",
      "})\n"
     ]
    },
    {
     "name": "stderr",
     "output_type": "stream",
     "text": [
      " 54%|█████▍    | 54/100 [01:11<00:56,  1.22s/it]"
     ]
    },
    {
     "name": "stdout",
     "output_type": "stream",
     "text": [
      "('{\\n  \"LOC\": [\"Mexican\"],\\n  \"MISC\": [\"Dec 6\"]\\n}', <OpenAIObject chat.completion id=chatcmpl-8i04vrycwVlzpu7Azs3mqD6O8Uwj7 at 0x7f3a7b8c6570> JSON: {\n",
      "  \"id\": \"chatcmpl-8i04vrycwVlzpu7Azs3mqD6O8Uwj7\",\n",
      "  \"object\": \"chat.completion\",\n",
      "  \"created\": 1705497425,\n",
      "  \"model\": \"gpt-35-turbo\",\n",
      "  \"choices\": [\n",
      "    {\n",
      "      \"finish_reason\": \"stop\",\n",
      "      \"index\": 0,\n",
      "      \"message\": {\n",
      "        \"role\": \"assistant\",\n",
      "        \"content\": \"{\\n  \\\"LOC\\\": [\\\"Mexican\\\"],\\n  \\\"MISC\\\": [\\\"Dec 6\\\"]\\n}\"\n",
      "      }\n",
      "    }\n",
      "  ],\n",
      "  \"usage\": {\n",
      "    \"prompt_tokens\": 599,\n",
      "    \"completion_tokens\": 20,\n",
      "    \"total_tokens\": 619\n",
      "  }\n",
      "})\n"
     ]
    },
    {
     "name": "stderr",
     "output_type": "stream",
     "text": [
      " 55%|█████▌    | 55/100 [01:13<00:58,  1.30s/it]"
     ]
    },
    {
     "name": "stdout",
     "output_type": "stream",
     "text": [
      "('{\\n  \"PER\": [],\\n  \"ORG\": [],\\n  \"LOC\": [],\\n  \"MISC\": [\\n    \"won\",\\n    \"lost\",\\n    \"tied\",\\n    \"goals for\",\\n    \"goals against\",\\n    \"points\"\\n  ]\\n}', <OpenAIObject chat.completion id=chatcmpl-8i04wMll9JcVOxq5GVsnIjbpvYUPS at 0x7f3a790e4db0> JSON: {\n",
      "  \"id\": \"chatcmpl-8i04wMll9JcVOxq5GVsnIjbpvYUPS\",\n",
      "  \"object\": \"chat.completion\",\n",
      "  \"created\": 1705497426,\n",
      "  \"model\": \"gpt-35-turbo\",\n",
      "  \"choices\": [\n",
      "    {\n",
      "      \"finish_reason\": \"stop\",\n",
      "      \"index\": 0,\n",
      "      \"message\": {\n",
      "        \"role\": \"assistant\",\n",
      "        \"content\": \"{\\n  \\\"PER\\\": [],\\n  \\\"ORG\\\": [],\\n  \\\"LOC\\\": [],\\n  \\\"MISC\\\": [\\n    \\\"won\\\",\\n    \\\"lost\\\",\\n    \\\"tied\\\",\\n    \\\"goals for\\\",\\n    \\\"goals against\\\",\\n    \\\"points\\\"\\n  ]\\n}\"\n",
      "      }\n",
      "    }\n",
      "  ],\n",
      "  \"usage\": {\n",
      "    \"prompt_tokens\": 543,\n",
      "    \"completion_tokens\": 52,\n",
      "    \"total_tokens\": 595\n",
      "  }\n",
      "})\n"
     ]
    },
    {
     "name": "stderr",
     "output_type": "stream",
     "text": [
      " 56%|█████▌    | 56/100 [01:14<01:02,  1.43s/it]"
     ]
    },
    {
     "name": "stdout",
     "output_type": "stream",
     "text": [
      "('{\\n  \"ORG\": [\"Mexico\"],\\n  \"PER\": [\"Greenspan\"]\\n}', <OpenAIObject chat.completion id=chatcmpl-8i04yHhYU0OrVMIfo83TlvakaQRAG at 0x7f3a790e6890> JSON: {\n",
      "  \"id\": \"chatcmpl-8i04yHhYU0OrVMIfo83TlvakaQRAG\",\n",
      "  \"object\": \"chat.completion\",\n",
      "  \"created\": 1705497428,\n",
      "  \"model\": \"gpt-35-turbo\",\n",
      "  \"choices\": [\n",
      "    {\n",
      "      \"finish_reason\": \"stop\",\n",
      "      \"index\": 0,\n",
      "      \"message\": {\n",
      "        \"role\": \"assistant\",\n",
      "        \"content\": \"{\\n  \\\"ORG\\\": [\\\"Mexico\\\"],\\n  \\\"PER\\\": [\\\"Greenspan\\\"]\\n}\"\n",
      "      }\n",
      "    }\n",
      "  ],\n",
      "  \"usage\": {\n",
      "    \"prompt_tokens\": 739,\n",
      "    \"completion_tokens\": 18,\n",
      "    \"total_tokens\": 757\n",
      "  }\n",
      "})\n"
     ]
    },
    {
     "name": "stderr",
     "output_type": "stream",
     "text": [
      " 57%|█████▋    | 57/100 [01:16<01:08,  1.60s/it]"
     ]
    },
    {
     "name": "stdout",
     "output_type": "stream",
     "text": [
      "('{\\n  \"MISC\": [\"obscene chants\"]\\n}', <OpenAIObject chat.completion id=chatcmpl-8i050ZvhxHoBMvmWppjnv2mIwDQ6i at 0x7f3a790e4db0> JSON: {\n",
      "  \"id\": \"chatcmpl-8i050ZvhxHoBMvmWppjnv2mIwDQ6i\",\n",
      "  \"object\": \"chat.completion\",\n",
      "  \"created\": 1705497430,\n",
      "  \"model\": \"gpt-35-turbo\",\n",
      "  \"choices\": [\n",
      "    {\n",
      "      \"finish_reason\": \"stop\",\n",
      "      \"index\": 0,\n",
      "      \"message\": {\n",
      "        \"role\": \"assistant\",\n",
      "        \"content\": \"{\\n  \\\"MISC\\\": [\\\"obscene chants\\\"]\\n}\"\n",
      "      }\n",
      "    }\n",
      "  ],\n",
      "  \"usage\": {\n",
      "    \"prompt_tokens\": 773,\n",
      "    \"completion_tokens\": 12,\n",
      "    \"total_tokens\": 785\n",
      "  }\n",
      "})\n"
     ]
    },
    {
     "name": "stderr",
     "output_type": "stream",
     "text": [
      " 58%|█████▊    | 58/100 [01:18<01:03,  1.50s/it]"
     ]
    },
    {
     "name": "stdout",
     "output_type": "stream",
     "text": [
      "('{\\n  \"PER\": [],\\n  \"ORG\": [],\\n  \"LOC\": [],\\n  \"MISC\": []\\n}', <OpenAIObject chat.completion id=chatcmpl-8i052BT5js0ZqMtSmGoVDzTZC2t2G at 0x7f3a790e5d00> JSON: {\n",
      "  \"id\": \"chatcmpl-8i052BT5js0ZqMtSmGoVDzTZC2t2G\",\n",
      "  \"object\": \"chat.completion\",\n",
      "  \"created\": 1705497432,\n",
      "  \"model\": \"gpt-35-turbo\",\n",
      "  \"choices\": [\n",
      "    {\n",
      "      \"finish_reason\": \"stop\",\n",
      "      \"index\": 0,\n",
      "      \"message\": {\n",
      "        \"role\": \"assistant\",\n",
      "        \"content\": \"{\\n  \\\"PER\\\": [],\\n  \\\"ORG\\\": [],\\n  \\\"LOC\\\": [],\\n  \\\"MISC\\\": []\\n}\"\n",
      "      }\n",
      "    }\n",
      "  ],\n",
      "  \"usage\": {\n",
      "    \"prompt_tokens\": 763,\n",
      "    \"completion_tokens\": 23,\n",
      "    \"total_tokens\": 786\n",
      "  }\n",
      "})\n"
     ]
    },
    {
     "name": "stderr",
     "output_type": "stream",
     "text": [
      " 59%|█████▉    | 59/100 [01:19<00:58,  1.42s/it]"
     ]
    },
    {
     "name": "stdout",
     "output_type": "stream",
     "text": [
      "('{\\n  \"PER\": [\"he\"],\\n  \"ORG\": [],\\n  \"LOC\": [],\\n  \"MISC\": []\\n}', <OpenAIObject chat.completion id=chatcmpl-8i05348yisyio08cYYkaNotXNkJbu at 0x7f3a790e6750> JSON: {\n",
      "  \"id\": \"chatcmpl-8i05348yisyio08cYYkaNotXNkJbu\",\n",
      "  \"object\": \"chat.completion\",\n",
      "  \"created\": 1705497433,\n",
      "  \"model\": \"gpt-35-turbo\",\n",
      "  \"choices\": [\n",
      "    {\n",
      "      \"finish_reason\": \"stop\",\n",
      "      \"index\": 0,\n",
      "      \"message\": {\n",
      "        \"role\": \"assistant\",\n",
      "        \"content\": \"{\\n  \\\"PER\\\": [\\\"he\\\"],\\n  \\\"ORG\\\": [],\\n  \\\"LOC\\\": [],\\n  \\\"MISC\\\": []\\n}\"\n",
      "      }\n",
      "    }\n",
      "  ],\n",
      "  \"usage\": {\n",
      "    \"prompt_tokens\": 613,\n",
      "    \"completion_tokens\": 25,\n",
      "    \"total_tokens\": 638\n",
      "  }\n",
      "})\n"
     ]
    },
    {
     "name": "stderr",
     "output_type": "stream",
     "text": [
      " 60%|██████    | 60/100 [01:20<00:57,  1.44s/it]"
     ]
    },
    {
     "name": "stdout",
     "output_type": "stream",
     "text": [
      "('{\\n  \"ORG\": [\\n    \"Kurdistan Workers Party\",\\n    \"PKK\"\\n  ],\\n  \"MISC\": [\\n    \"Kurdish\"\\n  ],\\n  \"CARDINAL\": [\\n    \"70,000\"\\n  ]\\n}', <OpenAIObject chat.completion id=chatcmpl-8i0546tEtQyLKss4nrdAPEpx1M4IL at 0x7f3a790e6de0> JSON: {\n",
      "  \"id\": \"chatcmpl-8i0546tEtQyLKss4nrdAPEpx1M4IL\",\n",
      "  \"object\": \"chat.completion\",\n",
      "  \"created\": 1705497434,\n",
      "  \"model\": \"gpt-35-turbo\",\n",
      "  \"choices\": [\n",
      "    {\n",
      "      \"finish_reason\": \"stop\",\n",
      "      \"index\": 0,\n",
      "      \"message\": {\n",
      "        \"role\": \"assistant\",\n",
      "        \"content\": \"{\\n  \\\"ORG\\\": [\\n    \\\"Kurdistan Workers Party\\\",\\n    \\\"PKK\\\"\\n  ],\\n  \\\"MISC\\\": [\\n    \\\"Kurdish\\\"\\n  ],\\n  \\\"CARDINAL\\\": [\\n    \\\"70,000\\\"\\n  ]\\n}\"\n",
      "      }\n",
      "    }\n",
      "  ],\n",
      "  \"usage\": {\n",
      "    \"prompt_tokens\": 769,\n",
      "    \"completion_tokens\": 50,\n",
      "    \"total_tokens\": 819\n",
      "  }\n",
      "})\n"
     ]
    },
    {
     "name": "stderr",
     "output_type": "stream",
     "text": [
      " 61%|██████    | 61/100 [01:22<00:54,  1.40s/it]"
     ]
    },
    {
     "name": "stdout",
     "output_type": "stream",
     "text": [
      "('{\\n  \"CARDINAL\": [\"2-0\"],\\n  \"PER\": [],\\n  \"ORG\": [],\\n  \"LOC\": [],\\n  \"MISC\": []\\n}', <OpenAIObject chat.completion id=chatcmpl-8i055JkIFgbQc6JfM3TKRgftCpaV8 at 0x7f3a790e7290> JSON: {\n",
      "  \"id\": \"chatcmpl-8i055JkIFgbQc6JfM3TKRgftCpaV8\",\n",
      "  \"object\": \"chat.completion\",\n",
      "  \"created\": 1705497435,\n",
      "  \"model\": \"gpt-35-turbo\",\n",
      "  \"choices\": [\n",
      "    {\n",
      "      \"finish_reason\": \"stop\",\n",
      "      \"index\": 0,\n",
      "      \"message\": {\n",
      "        \"role\": \"assistant\",\n",
      "        \"content\": \"{\\n  \\\"CARDINAL\\\": [\\\"2-0\\\"],\\n  \\\"PER\\\": [],\\n  \\\"ORG\\\": [],\\n  \\\"LOC\\\": [],\\n  \\\"MISC\\\": []\\n}\"\n",
      "      }\n",
      "    }\n",
      "  ],\n",
      "  \"usage\": {\n",
      "    \"prompt_tokens\": 696,\n",
      "    \"completion_tokens\": 33,\n",
      "    \"total_tokens\": 729\n",
      "  }\n",
      "})\n"
     ]
    },
    {
     "name": "stderr",
     "output_type": "stream",
     "text": [
      " 62%|██████▏   | 62/100 [01:23<00:51,  1.36s/it]"
     ]
    },
    {
     "name": "stdout",
     "output_type": "stream",
     "text": [
      "('{\\n  \"PER\": [],\\n  \"ORG\": [],\\n  \"LOC\": [],\\n  \"MISC\": []\\n}', <OpenAIObject chat.completion id=chatcmpl-8i057zrKzFV1oW1jT2Wx21rA8xt3i at 0x7f3a7b8c6570> JSON: {\n",
      "  \"id\": \"chatcmpl-8i057zrKzFV1oW1jT2Wx21rA8xt3i\",\n",
      "  \"object\": \"chat.completion\",\n",
      "  \"created\": 1705497437,\n",
      "  \"model\": \"gpt-35-turbo\",\n",
      "  \"choices\": [\n",
      "    {\n",
      "      \"finish_reason\": \"stop\",\n",
      "      \"index\": 0,\n",
      "      \"message\": {\n",
      "        \"role\": \"assistant\",\n",
      "        \"content\": \"{\\n  \\\"PER\\\": [],\\n  \\\"ORG\\\": [],\\n  \\\"LOC\\\": [],\\n  \\\"MISC\\\": []\\n}\"\n",
      "      }\n",
      "    }\n",
      "  ],\n",
      "  \"usage\": {\n",
      "    \"prompt_tokens\": 697,\n",
      "    \"completion_tokens\": 23,\n",
      "    \"total_tokens\": 720\n",
      "  }\n",
      "})\n"
     ]
    },
    {
     "name": "stderr",
     "output_type": "stream",
     "text": [
      " 63%|██████▎   | 63/100 [01:24<00:49,  1.35s/it]"
     ]
    },
    {
     "name": "stdout",
     "output_type": "stream",
     "text": [
      "('{\\n  \"PER\": [\"Buza\", \"Gjonaj\"],\\n  \"MISC\": [\"Medical experts\"]\\n}', <OpenAIObject chat.completion id=chatcmpl-8i058cKpAY2pc1iRmjHXABGHzsZbi at 0x7f3a7b8c6570> JSON: {\n",
      "  \"id\": \"chatcmpl-8i058cKpAY2pc1iRmjHXABGHzsZbi\",\n",
      "  \"object\": \"chat.completion\",\n",
      "  \"created\": 1705497438,\n",
      "  \"model\": \"gpt-35-turbo\",\n",
      "  \"choices\": [\n",
      "    {\n",
      "      \"finish_reason\": \"stop\",\n",
      "      \"index\": 0,\n",
      "      \"message\": {\n",
      "        \"role\": \"assistant\",\n",
      "        \"content\": \"{\\n  \\\"PER\\\": [\\\"Buza\\\", \\\"Gjonaj\\\"],\\n  \\\"MISC\\\": [\\\"Medical experts\\\"]\\n}\"\n",
      "      }\n",
      "    }\n",
      "  ],\n",
      "  \"usage\": {\n",
      "    \"prompt_tokens\": 776,\n",
      "    \"completion_tokens\": 24,\n",
      "    \"total_tokens\": 800\n",
      "  }\n",
      "})\n"
     ]
    },
    {
     "name": "stderr",
     "output_type": "stream",
     "text": [
      " 64%|██████▍   | 64/100 [01:25<00:47,  1.32s/it]"
     ]
    },
    {
     "name": "stdout",
     "output_type": "stream",
     "text": [
      "('{\\n  \"PER\": [],\\n  \"ORG\": [],\\n  \"LOC\": [],\\n  \"MISC\": [\\n    \"United States\"\\n  ]\\n}', <OpenAIObject chat.completion id=chatcmpl-8i0594xqkyoaAGaASwxCDoKJ86caP at 0x7f3a7b8c6570> JSON: {\n",
      "  \"id\": \"chatcmpl-8i0594xqkyoaAGaASwxCDoKJ86caP\",\n",
      "  \"object\": \"chat.completion\",\n",
      "  \"created\": 1705497439,\n",
      "  \"model\": \"gpt-35-turbo\",\n",
      "  \"choices\": [\n",
      "    {\n",
      "      \"finish_reason\": \"stop\",\n",
      "      \"index\": 0,\n",
      "      \"message\": {\n",
      "        \"role\": \"assistant\",\n",
      "        \"content\": \"{\\n  \\\"PER\\\": [],\\n  \\\"ORG\\\": [],\\n  \\\"LOC\\\": [],\\n  \\\"MISC\\\": [\\n    \\\"United States\\\"\\n  ]\\n}\"\n",
      "      }\n",
      "    }\n",
      "  ],\n",
      "  \"usage\": {\n",
      "    \"prompt_tokens\": 677,\n",
      "    \"completion_tokens\": 30,\n",
      "    \"total_tokens\": 707\n",
      "  }\n",
      "})\n"
     ]
    },
    {
     "name": "stderr",
     "output_type": "stream",
     "text": [
      " 65%|██████▌   | 65/100 [01:27<00:48,  1.39s/it]"
     ]
    },
    {
     "name": "stdout",
     "output_type": "stream",
     "text": [
      "('{\\n  \"PER\": [\"Charlton\"],\\n  \"MISC\": [\"SOCCER\"],\\n  \"NORP\": [\"ENGLISHMAN\"],\\n  \"NORP\": [\"IRISHMAN\"]\\n}', <OpenAIObject chat.completion id=chatcmpl-8i05BMm6QSxWecdNelKeEAvoztEa1 at 0x7f3a7b8c6570> JSON: {\n",
      "  \"id\": \"chatcmpl-8i05BMm6QSxWecdNelKeEAvoztEa1\",\n",
      "  \"object\": \"chat.completion\",\n",
      "  \"created\": 1705497441,\n",
      "  \"model\": \"gpt-35-turbo\",\n",
      "  \"choices\": [\n",
      "    {\n",
      "      \"finish_reason\": \"stop\",\n",
      "      \"index\": 0,\n",
      "      \"message\": {\n",
      "        \"role\": \"assistant\",\n",
      "        \"content\": \"{\\n  \\\"PER\\\": [\\\"Charlton\\\"],\\n  \\\"MISC\\\": [\\\"SOCCER\\\"],\\n  \\\"NORP\\\": [\\\"ENGLISHMAN\\\"],\\n  \\\"NORP\\\": [\\\"IRISHMAN\\\"]\\n}\"\n",
      "      }\n",
      "    }\n",
      "  ],\n",
      "  \"usage\": {\n",
      "    \"prompt_tokens\": 676,\n",
      "    \"completion_tokens\": 43,\n",
      "    \"total_tokens\": 719\n",
      "  }\n",
      "})\n"
     ]
    },
    {
     "name": "stderr",
     "output_type": "stream",
     "text": [
      " 66%|██████▌   | 66/100 [01:28<00:45,  1.34s/it]"
     ]
    },
    {
     "name": "stdout",
     "output_type": "stream",
     "text": [
      "('{\\n  \"MISC\": [],\\n  \"ORG\": [],\\n  \"PER\": [],\\n  \"LOC\": []\\n}', <OpenAIObject chat.completion id=chatcmpl-8i05C3GCOfiHAsecXqd3GHQwE5bqd at 0x7f3a7b8c6570> JSON: {\n",
      "  \"id\": \"chatcmpl-8i05C3GCOfiHAsecXqd3GHQwE5bqd\",\n",
      "  \"object\": \"chat.completion\",\n",
      "  \"created\": 1705497442,\n",
      "  \"model\": \"gpt-35-turbo\",\n",
      "  \"choices\": [\n",
      "    {\n",
      "      \"finish_reason\": \"stop\",\n",
      "      \"index\": 0,\n",
      "      \"message\": {\n",
      "        \"role\": \"assistant\",\n",
      "        \"content\": \"{\\n  \\\"MISC\\\": [],\\n  \\\"ORG\\\": [],\\n  \\\"PER\\\": [],\\n  \\\"LOC\\\": []\\n}\"\n",
      "      }\n",
      "    }\n",
      "  ],\n",
      "  \"usage\": {\n",
      "    \"prompt_tokens\": 673,\n",
      "    \"completion_tokens\": 23,\n",
      "    \"total_tokens\": 696\n",
      "  }\n",
      "})\n"
     ]
    },
    {
     "name": "stderr",
     "output_type": "stream",
     "text": [
      " 67%|██████▋   | 67/100 [01:29<00:42,  1.30s/it]"
     ]
    },
    {
     "name": "stdout",
     "output_type": "stream",
     "text": [
      "('{\\n  \"PER\": [],\\n  \"ORG\": [],\\n  \"LOC\": [],\\n  \"MISC\": []\\n}', <OpenAIObject chat.completion id=chatcmpl-8i05Dihk8gWDldSGA7c06wNdXPL09 at 0x7f3a7b8c6570> JSON: {\n",
      "  \"id\": \"chatcmpl-8i05Dihk8gWDldSGA7c06wNdXPL09\",\n",
      "  \"object\": \"chat.completion\",\n",
      "  \"created\": 1705497443,\n",
      "  \"model\": \"gpt-35-turbo\",\n",
      "  \"choices\": [\n",
      "    {\n",
      "      \"finish_reason\": \"stop\",\n",
      "      \"index\": 0,\n",
      "      \"message\": {\n",
      "        \"role\": \"assistant\",\n",
      "        \"content\": \"{\\n  \\\"PER\\\": [],\\n  \\\"ORG\\\": [],\\n  \\\"LOC\\\": [],\\n  \\\"MISC\\\": []\\n}\"\n",
      "      }\n",
      "    }\n",
      "  ],\n",
      "  \"usage\": {\n",
      "    \"prompt_tokens\": 770,\n",
      "    \"completion_tokens\": 23,\n",
      "    \"total_tokens\": 793\n",
      "  }\n",
      "})\n"
     ]
    },
    {
     "name": "stderr",
     "output_type": "stream",
     "text": [
      " 68%|██████▊   | 68/100 [01:31<00:45,  1.43s/it]"
     ]
    },
    {
     "name": "stdout",
     "output_type": "stream",
     "text": [
      "('{\\n  \"PER\": [\"Mussolini\", \"Alessandra Mussolini\"],\\n  \"ORG\": [\"parliamentary party group\", \"National Alliance (AN)\"],\\n  \"LOC\": [\"east China city of Tianjin\", \"Belgium\", \"Spain\", \"Zambia\", \"Italy\"],\\n  \"MISC\": [\"Wen Hui Bao newspaper\", \"Codos\", \"far-right National Alliance (AN)\"]\\n}', <OpenAIObject chat.completion id=chatcmpl-8i05FJtNzJV7VfTPhKSWfq6BaDYZ7 at 0x7f3a7bbc1670> JSON: {\n",
      "  \"id\": \"chatcmpl-8i05FJtNzJV7VfTPhKSWfq6BaDYZ7\",\n",
      "  \"object\": \"chat.completion\",\n",
      "  \"created\": 1705497445,\n",
      "  \"model\": \"gpt-35-turbo\",\n",
      "  \"choices\": [\n",
      "    {\n",
      "      \"finish_reason\": \"stop\",\n",
      "      \"index\": 0,\n",
      "      \"message\": {\n",
      "        \"role\": \"assistant\",\n",
      "        \"content\": \"{\\n  \\\"PER\\\": [\\\"Mussolini\\\", \\\"Alessandra Mussolini\\\"],\\n  \\\"ORG\\\": [\\\"parliamentary party group\\\", \\\"National Alliance (AN)\\\"],\\n  \\\"LOC\\\": [\\\"east China city of Tianjin\\\", \\\"Belgium\\\", \\\"Spain\\\", \\\"Zambia\\\", \\\"Italy\\\"],\\n  \\\"MISC\\\": [\\\"Wen Hui Bao newspaper\\\", \\\"Codos\\\", \\\"far-right National Alliance (AN)\\\"]\\n}\"\n",
      "      }\n",
      "    }\n",
      "  ],\n",
      "  \"usage\": {\n",
      "    \"prompt_tokens\": 729,\n",
      "    \"completion_tokens\": 89,\n",
      "    \"total_tokens\": 818\n",
      "  }\n",
      "})\n"
     ]
    },
    {
     "name": "stderr",
     "output_type": "stream",
     "text": [
      " 69%|██████▉   | 69/100 [01:33<00:43,  1.41s/it]"
     ]
    },
    {
     "name": "stdout",
     "output_type": "stream",
     "text": [
      "('{\\n  \"PER\": [\"Jones\", \"David Boon\", \"Shaun Young\", \"Michael DiVenuto\"],\\n  \"MISC\": [\"Tasmanian\"]\\n}', <OpenAIObject chat.completion id=chatcmpl-8i05G4auvEDLosxAgUhojZxEtDJ7E at 0x7f3a7b8c6570> JSON: {\n",
      "  \"id\": \"chatcmpl-8i05G4auvEDLosxAgUhojZxEtDJ7E\",\n",
      "  \"object\": \"chat.completion\",\n",
      "  \"created\": 1705497446,\n",
      "  \"model\": \"gpt-35-turbo\",\n",
      "  \"choices\": [\n",
      "    {\n",
      "      \"finish_reason\": \"stop\",\n",
      "      \"index\": 0,\n",
      "      \"message\": {\n",
      "        \"role\": \"assistant\",\n",
      "        \"content\": \"{\\n  \\\"PER\\\": [\\\"Jones\\\", \\\"David Boon\\\", \\\"Shaun Young\\\", \\\"Michael DiVenuto\\\"],\\n  \\\"MISC\\\": [\\\"Tasmanian\\\"]\\n}\"\n",
      "      }\n",
      "    }\n",
      "  ],\n",
      "  \"usage\": {\n",
      "    \"prompt_tokens\": 753,\n",
      "    \"completion_tokens\": 36,\n",
      "    \"total_tokens\": 789\n",
      "  }\n",
      "})\n"
     ]
    },
    {
     "name": "stderr",
     "output_type": "stream",
     "text": [
      " 70%|███████   | 70/100 [01:34<00:40,  1.36s/it]"
     ]
    },
    {
     "name": "stdout",
     "output_type": "stream",
     "text": [
      "('{\\n  \"PER\": [],\\n  \"ORG\": [],\\n  \"LOC\": [],\\n  \"MISC\": [\\n    \"defendant\"\\n  ]\\n}', <OpenAIObject chat.completion id=chatcmpl-8i05I1nfcahFnOjEJAe9jvqFE6mTt at 0x7f3a7bbc1670> JSON: {\n",
      "  \"id\": \"chatcmpl-8i05I1nfcahFnOjEJAe9jvqFE6mTt\",\n",
      "  \"object\": \"chat.completion\",\n",
      "  \"created\": 1705497448,\n",
      "  \"model\": \"gpt-35-turbo\",\n",
      "  \"choices\": [\n",
      "    {\n",
      "      \"finish_reason\": \"stop\",\n",
      "      \"index\": 0,\n",
      "      \"message\": {\n",
      "        \"role\": \"assistant\",\n",
      "        \"content\": \"{\\n  \\\"PER\\\": [],\\n  \\\"ORG\\\": [],\\n  \\\"LOC\\\": [],\\n  \\\"MISC\\\": [\\n    \\\"defendant\\\"\\n  ]\\n}\"\n",
      "      }\n",
      "    }\n",
      "  ],\n",
      "  \"usage\": {\n",
      "    \"prompt_tokens\": 709,\n",
      "    \"completion_tokens\": 30,\n",
      "    \"total_tokens\": 739\n",
      "  }\n",
      "})\n"
     ]
    },
    {
     "name": "stderr",
     "output_type": "stream",
     "text": [
      " 71%|███████   | 71/100 [01:35<00:37,  1.29s/it]"
     ]
    },
    {
     "name": "stdout",
     "output_type": "stream",
     "text": [
      "('{\\n  \"MISC\": [\"New York\", \"Dec 5\"]\\n}', <OpenAIObject chat.completion id=chatcmpl-8i05JEaZr8LSWKf3MVizlupa4ZZBL at 0x7f3a7bbc1670> JSON: {\n",
      "  \"id\": \"chatcmpl-8i05JEaZr8LSWKf3MVizlupa4ZZBL\",\n",
      "  \"object\": \"chat.completion\",\n",
      "  \"created\": 1705497449,\n",
      "  \"model\": \"gpt-35-turbo\",\n",
      "  \"choices\": [\n",
      "    {\n",
      "      \"finish_reason\": \"stop\",\n",
      "      \"index\": 0,\n",
      "      \"message\": {\n",
      "        \"role\": \"assistant\",\n",
      "        \"content\": \"{\\n  \\\"MISC\\\": [\\\"New York\\\", \\\"Dec 5\\\"]\\n}\"\n",
      "      }\n",
      "    }\n",
      "  ],\n",
      "  \"usage\": {\n",
      "    \"prompt_tokens\": 594,\n",
      "    \"completion_tokens\": 16,\n",
      "    \"total_tokens\": 610\n",
      "  }\n",
      "})\n"
     ]
    },
    {
     "name": "stderr",
     "output_type": "stream",
     "text": [
      " 72%|███████▏  | 72/100 [01:36<00:36,  1.30s/it]"
     ]
    },
    {
     "name": "stdout",
     "output_type": "stream",
     "text": [
      "('{\\n  \"PER\": [],\\n  \"ORG\": [],\\n  \"LOC\": [],\\n  \"MISC\": [],\\n  \"CARDINAL\": [\\n    \"347\"\\n  ]\\n}', <OpenAIObject chat.completion id=chatcmpl-8i05KEx8aRhgY4A8VAVRYndKoDTXR at 0x7f3a7bbc1670> JSON: {\n",
      "  \"id\": \"chatcmpl-8i05KEx8aRhgY4A8VAVRYndKoDTXR\",\n",
      "  \"object\": \"chat.completion\",\n",
      "  \"created\": 1705497450,\n",
      "  \"model\": \"gpt-35-turbo\",\n",
      "  \"choices\": [\n",
      "    {\n",
      "      \"finish_reason\": \"stop\",\n",
      "      \"index\": 0,\n",
      "      \"message\": {\n",
      "        \"role\": \"assistant\",\n",
      "        \"content\": \"{\\n  \\\"PER\\\": [],\\n  \\\"ORG\\\": [],\\n  \\\"LOC\\\": [],\\n  \\\"MISC\\\": [],\\n  \\\"CARDINAL\\\": [\\n    \\\"347\\\"\\n  ]\\n}\"\n",
      "      }\n",
      "    }\n",
      "  ],\n",
      "  \"usage\": {\n",
      "    \"prompt_tokens\": 669,\n",
      "    \"completion_tokens\": 35,\n",
      "    \"total_tokens\": 704\n",
      "  }\n",
      "})\n"
     ]
    },
    {
     "name": "stderr",
     "output_type": "stream",
     "text": [
      " 73%|███████▎  | 73/100 [01:38<00:38,  1.44s/it]"
     ]
    },
    {
     "name": "stdout",
     "output_type": "stream",
     "text": [
      "('{\\n  \"PER\": [\"Aly Ashour\", \"Mohamed Ouda\"],\\n  \"MISC\": [\"penalty\"]\\n}', <OpenAIObject chat.completion id=chatcmpl-8i05MiqRLGc1doX73kQWJEk6Uyv9P at 0x7f3a7b8c6570> JSON: {\n",
      "  \"id\": \"chatcmpl-8i05MiqRLGc1doX73kQWJEk6Uyv9P\",\n",
      "  \"object\": \"chat.completion\",\n",
      "  \"created\": 1705497452,\n",
      "  \"model\": \"gpt-35-turbo\",\n",
      "  \"choices\": [\n",
      "    {\n",
      "      \"finish_reason\": \"stop\",\n",
      "      \"index\": 0,\n",
      "      \"message\": {\n",
      "        \"role\": \"assistant\",\n",
      "        \"content\": \"{\\n  \\\"PER\\\": [\\\"Aly Ashour\\\", \\\"Mohamed Ouda\\\"],\\n  \\\"MISC\\\": [\\\"penalty\\\"]\\n}\"\n",
      "      }\n",
      "    }\n",
      "  ],\n",
      "  \"usage\": {\n",
      "    \"prompt_tokens\": 577,\n",
      "    \"completion_tokens\": 27,\n",
      "    \"total_tokens\": 604\n",
      "  }\n",
      "})\n"
     ]
    },
    {
     "name": "stderr",
     "output_type": "stream",
     "text": [
      " 74%|███████▍  | 74/100 [01:39<00:36,  1.42s/it]"
     ]
    },
    {
     "name": "stdout",
     "output_type": "stream",
     "text": [
      "('{\\n  \"PER\": [],\\n  \"ORG\": [],\\n  \"LOC\": [],\\n  \"MISC\": []\\n}', <OpenAIObject chat.completion id=chatcmpl-8i05NhJFw3AzQr0maLsyueRc0H3n8 at 0x7f3a7bbc1670> JSON: {\n",
      "  \"id\": \"chatcmpl-8i05NhJFw3AzQr0maLsyueRc0H3n8\",\n",
      "  \"object\": \"chat.completion\",\n",
      "  \"created\": 1705497453,\n",
      "  \"model\": \"gpt-35-turbo\",\n",
      "  \"choices\": [\n",
      "    {\n",
      "      \"finish_reason\": \"stop\",\n",
      "      \"index\": 0,\n",
      "      \"message\": {\n",
      "        \"role\": \"assistant\",\n",
      "        \"content\": \"{\\n  \\\"PER\\\": [],\\n  \\\"ORG\\\": [],\\n  \\\"LOC\\\": [],\\n  \\\"MISC\\\": []\\n}\"\n",
      "      }\n",
      "    }\n",
      "  ],\n",
      "  \"usage\": {\n",
      "    \"prompt_tokens\": 655,\n",
      "    \"completion_tokens\": 23,\n",
      "    \"total_tokens\": 678\n",
      "  }\n",
      "})\n"
     ]
    },
    {
     "name": "stderr",
     "output_type": "stream",
     "text": [
      " 75%|███████▌  | 75/100 [01:40<00:33,  1.33s/it]"
     ]
    },
    {
     "name": "stdout",
     "output_type": "stream",
     "text": [
      "('{\\n  \"ORG\": [\"Hyundai Heavy\", \"Koram Bank\"]\\n}', <OpenAIObject chat.completion id=chatcmpl-8i05OWgDwubxdOfMpoPe2tqwU5MjB at 0x7f3a7bbc1670> JSON: {\n",
      "  \"id\": \"chatcmpl-8i05OWgDwubxdOfMpoPe2tqwU5MjB\",\n",
      "  \"object\": \"chat.completion\",\n",
      "  \"created\": 1705497454,\n",
      "  \"model\": \"gpt-35-turbo\",\n",
      "  \"choices\": [\n",
      "    {\n",
      "      \"finish_reason\": \"stop\",\n",
      "      \"index\": 0,\n",
      "      \"message\": {\n",
      "        \"role\": \"assistant\",\n",
      "        \"content\": \"{\\n  \\\"ORG\\\": [\\\"Hyundai Heavy\\\", \\\"Koram Bank\\\"]\\n}\"\n",
      "      }\n",
      "    }\n",
      "  ],\n",
      "  \"usage\": {\n",
      "    \"prompt_tokens\": 812,\n",
      "    \"completion_tokens\": 16,\n",
      "    \"total_tokens\": 828\n",
      "  }\n",
      "})\n"
     ]
    },
    {
     "name": "stderr",
     "output_type": "stream",
     "text": [
      " 76%|███████▌  | 76/100 [01:42<00:33,  1.38s/it]"
     ]
    },
    {
     "name": "stdout",
     "output_type": "stream",
     "text": [
      "('{\\n  \"PER\": [\"him\"],\\n  \"ORG\": [],\\n  \"LOC\": [],\\n  \"MISC\": []\\n}', <OpenAIObject chat.completion id=chatcmpl-8i05Q6GemskcuschmdQrlqE4bSLYi at 0x7f3a7b8c6570> JSON: {\n",
      "  \"id\": \"chatcmpl-8i05Q6GemskcuschmdQrlqE4bSLYi\",\n",
      "  \"object\": \"chat.completion\",\n",
      "  \"created\": 1705497456,\n",
      "  \"model\": \"gpt-35-turbo\",\n",
      "  \"choices\": [\n",
      "    {\n",
      "      \"finish_reason\": \"stop\",\n",
      "      \"index\": 0,\n",
      "      \"message\": {\n",
      "        \"role\": \"assistant\",\n",
      "        \"content\": \"{\\n  \\\"PER\\\": [\\\"him\\\"],\\n  \\\"ORG\\\": [],\\n  \\\"LOC\\\": [],\\n  \\\"MISC\\\": []\\n}\"\n",
      "      }\n",
      "    }\n",
      "  ],\n",
      "  \"usage\": {\n",
      "    \"prompt_tokens\": 627,\n",
      "    \"completion_tokens\": 25,\n",
      "    \"total_tokens\": 652\n",
      "  }\n",
      "})\n"
     ]
    },
    {
     "name": "stderr",
     "output_type": "stream",
     "text": [
      " 77%|███████▋  | 77/100 [01:43<00:29,  1.30s/it]"
     ]
    },
    {
     "name": "stdout",
     "output_type": "stream",
     "text": [
      "('{\\n  \"MISC\": [\"CAN / U.S. DOLLAR EXCHANGE RATE\"]\\n}', <OpenAIObject chat.completion id=chatcmpl-8i05RGQbia6bxnVr3inwbfOE6pSkU at 0x7f3a790e7290> JSON: {\n",
      "  \"id\": \"chatcmpl-8i05RGQbia6bxnVr3inwbfOE6pSkU\",\n",
      "  \"object\": \"chat.completion\",\n",
      "  \"created\": 1705497457,\n",
      "  \"model\": \"gpt-35-turbo\",\n",
      "  \"choices\": [\n",
      "    {\n",
      "      \"finish_reason\": \"stop\",\n",
      "      \"index\": 0,\n",
      "      \"message\": {\n",
      "        \"role\": \"assistant\",\n",
      "        \"content\": \"{\\n  \\\"MISC\\\": [\\\"CAN / U.S. DOLLAR EXCHANGE RATE\\\"]\\n}\"\n",
      "      }\n",
      "    }\n",
      "  ],\n",
      "  \"usage\": {\n",
      "    \"prompt_tokens\": 580,\n",
      "    \"completion_tokens\": 20,\n",
      "    \"total_tokens\": 600\n",
      "  }\n",
      "})\n"
     ]
    },
    {
     "name": "stderr",
     "output_type": "stream",
     "text": [
      " 78%|███████▊  | 78/100 [01:44<00:28,  1.29s/it]"
     ]
    },
    {
     "name": "stdout",
     "output_type": "stream",
     "text": [
      "('{\\n  \"ORG\": [\"Santa Fe\", \"Newmont\"],\\n  \"LOC\": [\"Nevada\"]\\n}', <OpenAIObject chat.completion id=chatcmpl-8i05STCwUKCBx16mNy72xkW428bl9 at 0x7f3a790e6b10> JSON: {\n",
      "  \"id\": \"chatcmpl-8i05STCwUKCBx16mNy72xkW428bl9\",\n",
      "  \"object\": \"chat.completion\",\n",
      "  \"created\": 1705497458,\n",
      "  \"model\": \"gpt-35-turbo\",\n",
      "  \"choices\": [\n",
      "    {\n",
      "      \"finish_reason\": \"stop\",\n",
      "      \"index\": 0,\n",
      "      \"message\": {\n",
      "        \"role\": \"assistant\",\n",
      "        \"content\": \"{\\n  \\\"ORG\\\": [\\\"Santa Fe\\\", \\\"Newmont\\\"],\\n  \\\"LOC\\\": [\\\"Nevada\\\"]\\n}\"\n",
      "      }\n",
      "    }\n",
      "  ],\n",
      "  \"usage\": {\n",
      "    \"prompt_tokens\": 810,\n",
      "    \"completion_tokens\": 23,\n",
      "    \"total_tokens\": 833\n",
      "  }\n",
      "})\n"
     ]
    },
    {
     "name": "stderr",
     "output_type": "stream",
     "text": [
      " 79%|███████▉  | 79/100 [01:46<00:26,  1.25s/it]"
     ]
    },
    {
     "name": "stdout",
     "output_type": "stream",
     "text": [
      "('{\\n  \"PER\": [\"Zahoor Elahi\", \"Cairns\"],\\n  \"ORG\": [],\\n  \"LOC\": [],\\n  \"MISC\": []\\n}', <OpenAIObject chat.completion id=chatcmpl-8i05TGQiQF8Wd87XU6hFVXPUvZVca at 0x7f3a790e6430> JSON: {\n",
      "  \"id\": \"chatcmpl-8i05TGQiQF8Wd87XU6hFVXPUvZVca\",\n",
      "  \"object\": \"chat.completion\",\n",
      "  \"created\": 1705497459,\n",
      "  \"model\": \"gpt-35-turbo\",\n",
      "  \"choices\": [\n",
      "    {\n",
      "      \"finish_reason\": \"stop\",\n",
      "      \"index\": 0,\n",
      "      \"message\": {\n",
      "        \"role\": \"assistant\",\n",
      "        \"content\": \"{\\n  \\\"PER\\\": [\\\"Zahoor Elahi\\\", \\\"Cairns\\\"],\\n  \\\"ORG\\\": [],\\n  \\\"LOC\\\": [],\\n  \\\"MISC\\\": []\\n}\"\n",
      "      }\n",
      "    }\n",
      "  ],\n",
      "  \"usage\": {\n",
      "    \"prompt_tokens\": 570,\n",
      "    \"completion_tokens\": 34,\n",
      "    \"total_tokens\": 604\n",
      "  }\n",
      "})\n"
     ]
    },
    {
     "name": "stderr",
     "output_type": "stream",
     "text": [
      " 80%|████████  | 80/100 [01:47<00:25,  1.27s/it]"
     ]
    },
    {
     "name": "stdout",
     "output_type": "stream",
     "text": [
      "('{\\n  \"PER\": [],\\n  \"ORG\": [],\\n  \"LOC\": [],\\n  \"MISC\": []\\n}', <OpenAIObject chat.completion id=chatcmpl-8i05VOkloYj3LkwGpSOA3up1qD707 at 0x7f3a790e5b20> JSON: {\n",
      "  \"id\": \"chatcmpl-8i05VOkloYj3LkwGpSOA3up1qD707\",\n",
      "  \"object\": \"chat.completion\",\n",
      "  \"created\": 1705497461,\n",
      "  \"model\": \"gpt-35-turbo\",\n",
      "  \"choices\": [\n",
      "    {\n",
      "      \"finish_reason\": \"stop\",\n",
      "      \"index\": 0,\n",
      "      \"message\": {\n",
      "        \"role\": \"assistant\",\n",
      "        \"content\": \"{\\n  \\\"PER\\\": [],\\n  \\\"ORG\\\": [],\\n  \\\"LOC\\\": [],\\n  \\\"MISC\\\": []\\n}\"\n",
      "      }\n",
      "    }\n",
      "  ],\n",
      "  \"usage\": {\n",
      "    \"prompt_tokens\": 655,\n",
      "    \"completion_tokens\": 23,\n",
      "    \"total_tokens\": 678\n",
      "  }\n",
      "})\n"
     ]
    },
    {
     "name": "stderr",
     "output_type": "stream",
     "text": [
      " 81%|████████  | 81/100 [01:48<00:24,  1.30s/it]"
     ]
    },
    {
     "name": "stdout",
     "output_type": "stream",
     "text": [
      "('{\\n  \"ORG\": [\"Fife\", \"Partick\", \"Stirling\", \"St Mirren\"],\\n  \"LOC\": []\\n}', <OpenAIObject chat.completion id=chatcmpl-8i05WOXvYeadu1um1KODAVIcifeu2 at 0x7f3a7b53c630> JSON: {\n",
      "  \"id\": \"chatcmpl-8i05WOXvYeadu1um1KODAVIcifeu2\",\n",
      "  \"object\": \"chat.completion\",\n",
      "  \"created\": 1705497462,\n",
      "  \"model\": \"gpt-35-turbo\",\n",
      "  \"choices\": [\n",
      "    {\n",
      "      \"finish_reason\": \"stop\",\n",
      "      \"index\": 0,\n",
      "      \"message\": {\n",
      "        \"role\": \"assistant\",\n",
      "        \"content\": \"{\\n  \\\"ORG\\\": [\\\"Fife\\\", \\\"Partick\\\", \\\"Stirling\\\", \\\"St Mirren\\\"],\\n  \\\"LOC\\\": []\\n}\"\n",
      "      }\n",
      "    }\n",
      "  ],\n",
      "  \"usage\": {\n",
      "    \"prompt_tokens\": 512,\n",
      "    \"completion_tokens\": 28,\n",
      "    \"total_tokens\": 540\n",
      "  }\n",
      "})\n"
     ]
    },
    {
     "name": "stderr",
     "output_type": "stream",
     "text": [
      " 82%|████████▏ | 82/100 [01:50<00:24,  1.38s/it]"
     ]
    },
    {
     "name": "stdout",
     "output_type": "stream",
     "text": [
      "('{\\n  \"PER\": [\"Winters\", \"Paolo Di Canio\"],\\n  \"ORG\": [\"Dundee United\", \"Celtic\"]\\n}', <OpenAIObject chat.completion id=chatcmpl-8i05XN8MYWenBzlfLve9tBxAuxsja at 0x7f3a7bbc1670> JSON: {\n",
      "  \"id\": \"chatcmpl-8i05XN8MYWenBzlfLve9tBxAuxsja\",\n",
      "  \"object\": \"chat.completion\",\n",
      "  \"created\": 1705497463,\n",
      "  \"model\": \"gpt-35-turbo\",\n",
      "  \"choices\": [\n",
      "    {\n",
      "      \"finish_reason\": \"stop\",\n",
      "      \"index\": 0,\n",
      "      \"message\": {\n",
      "        \"role\": \"assistant\",\n",
      "        \"content\": \"{\\n  \\\"PER\\\": [\\\"Winters\\\", \\\"Paolo Di Canio\\\"],\\n  \\\"ORG\\\": [\\\"Dundee United\\\", \\\"Celtic\\\"]\\n}\"\n",
      "      }\n",
      "    }\n",
      "  ],\n",
      "  \"usage\": {\n",
      "    \"prompt_tokens\": 697,\n",
      "    \"completion_tokens\": 32,\n",
      "    \"total_tokens\": 729\n",
      "  }\n",
      "})\n"
     ]
    },
    {
     "name": "stderr",
     "output_type": "stream",
     "text": [
      " 83%|████████▎ | 83/100 [01:51<00:23,  1.35s/it]"
     ]
    },
    {
     "name": "stdout",
     "output_type": "stream",
     "text": [
      "('{\\n  \"PER\": [\"Blanc\", \"Foucras\"],\\n  \"MISC\": [\"World Cup\"]\\n}', <OpenAIObject chat.completion id=chatcmpl-8i05Zrh2yqrpbGsILzKkFgSqGSDF9 at 0x7f3a7bbc1670> JSON: {\n",
      "  \"id\": \"chatcmpl-8i05Zrh2yqrpbGsILzKkFgSqGSDF9\",\n",
      "  \"object\": \"chat.completion\",\n",
      "  \"created\": 1705497465,\n",
      "  \"model\": \"gpt-35-turbo\",\n",
      "  \"choices\": [\n",
      "    {\n",
      "      \"finish_reason\": \"stop\",\n",
      "      \"index\": 0,\n",
      "      \"message\": {\n",
      "        \"role\": \"assistant\",\n",
      "        \"content\": \"{\\n  \\\"PER\\\": [\\\"Blanc\\\", \\\"Foucras\\\"],\\n  \\\"MISC\\\": [\\\"World Cup\\\"]\\n}\"\n",
      "      }\n",
      "    }\n",
      "  ],\n",
      "  \"usage\": {\n",
      "    \"prompt_tokens\": 677,\n",
      "    \"completion_tokens\": 25,\n",
      "    \"total_tokens\": 702\n",
      "  }\n",
      "})\n"
     ]
    },
    {
     "name": "stderr",
     "output_type": "stream",
     "text": [
      " 84%|████████▍ | 84/100 [01:52<00:20,  1.31s/it]"
     ]
    },
    {
     "name": "stdout",
     "output_type": "stream",
     "text": [
      "('{\\n  \"MISC\": [],\\n  \"ORG\": [],\\n  \"LOC\": [],\\n  \"PER\": [\\n    \"trader\"\\n  ]\\n}', <OpenAIObject chat.completion id=chatcmpl-8i05aEQQIyYSMGV7l58dhn38VIzMn at 0x7f3a7bbc1670> JSON: {\n",
      "  \"id\": \"chatcmpl-8i05aEQQIyYSMGV7l58dhn38VIzMn\",\n",
      "  \"object\": \"chat.completion\",\n",
      "  \"created\": 1705497466,\n",
      "  \"model\": \"gpt-35-turbo\",\n",
      "  \"choices\": [\n",
      "    {\n",
      "      \"finish_reason\": \"stop\",\n",
      "      \"index\": 0,\n",
      "      \"message\": {\n",
      "        \"role\": \"assistant\",\n",
      "        \"content\": \"{\\n  \\\"MISC\\\": [],\\n  \\\"ORG\\\": [],\\n  \\\"LOC\\\": [],\\n  \\\"PER\\\": [\\n    \\\"trader\\\"\\n  ]\\n}\"\n",
      "      }\n",
      "    }\n",
      "  ],\n",
      "  \"usage\": {\n",
      "    \"prompt_tokens\": 591,\n",
      "    \"completion_tokens\": 30,\n",
      "    \"total_tokens\": 621\n",
      "  }\n",
      "})\n"
     ]
    },
    {
     "name": "stderr",
     "output_type": "stream",
     "text": [
      " 85%|████████▌ | 85/100 [01:53<00:19,  1.27s/it]"
     ]
    },
    {
     "name": "stdout",
     "output_type": "stream",
     "text": [
      "('{\\n  \"PER\": [\"TASR\"],\\n  \"ORG\": [],\\n  \"LOC\": [],\\n  \"MISC\": [\"terrorism\"]\\n}', <OpenAIObject chat.completion id=chatcmpl-8i05b9pwlm4wduH0rNIicNX02Vv9d at 0x7f3a7b8c6570> JSON: {\n",
      "  \"id\": \"chatcmpl-8i05b9pwlm4wduH0rNIicNX02Vv9d\",\n",
      "  \"object\": \"chat.completion\",\n",
      "  \"created\": 1705497467,\n",
      "  \"model\": \"gpt-35-turbo\",\n",
      "  \"choices\": [\n",
      "    {\n",
      "      \"finish_reason\": \"stop\",\n",
      "      \"index\": 0,\n",
      "      \"message\": {\n",
      "        \"role\": \"assistant\",\n",
      "        \"content\": \"{\\n  \\\"PER\\\": [\\\"TASR\\\"],\\n  \\\"ORG\\\": [],\\n  \\\"LOC\\\": [],\\n  \\\"MISC\\\": [\\\"terrorism\\\"]\\n}\"\n",
      "      }\n",
      "    }\n",
      "  ],\n",
      "  \"usage\": {\n",
      "    \"prompt_tokens\": 658,\n",
      "    \"completion_tokens\": 29,\n",
      "    \"total_tokens\": 687\n",
      "  }\n",
      "})\n"
     ]
    },
    {
     "name": "stderr",
     "output_type": "stream",
     "text": [
      " 86%|████████▌ | 86/100 [01:55<00:17,  1.23s/it]"
     ]
    },
    {
     "name": "stdout",
     "output_type": "stream",
     "text": [
      "(\"{'MISC': ['Aaa', 'Aa', 'Baa']}\", <OpenAIObject chat.completion id=chatcmpl-8i05dx94q7rBoUDSoS0i89fnktpDM at 0x7f3a7bbc1670> JSON: {\n",
      "  \"id\": \"chatcmpl-8i05dx94q7rBoUDSoS0i89fnktpDM\",\n",
      "  \"object\": \"chat.completion\",\n",
      "  \"created\": 1705497469,\n",
      "  \"model\": \"gpt-35-turbo\",\n",
      "  \"choices\": [\n",
      "    {\n",
      "      \"finish_reason\": \"stop\",\n",
      "      \"index\": 0,\n",
      "      \"message\": {\n",
      "        \"role\": \"assistant\",\n",
      "        \"content\": \"{'MISC': ['Aaa', 'Aa', 'Baa']}\"\n",
      "      }\n",
      "    }\n",
      "  ],\n",
      "  \"usage\": {\n",
      "    \"prompt_tokens\": 563,\n",
      "    \"completion_tokens\": 16,\n",
      "    \"total_tokens\": 579\n",
      "  }\n",
      "})\n"
     ]
    },
    {
     "name": "stderr",
     "output_type": "stream",
     "text": [
      " 87%|████████▋ | 87/100 [01:56<00:16,  1.24s/it]"
     ]
    },
    {
     "name": "stdout",
     "output_type": "stream",
     "text": [
      "('{\\n  \"PER\": [\"Frantisek Gaulieder\"],\\n  \"ORG\": [\"TASR\"],\\n  \"LOC\": [\"Galanta\", \"western Slovakia\"]\\n}', <OpenAIObject chat.completion id=chatcmpl-8i05ev39cQb7m2zj9e13MHYdg3bBe at 0x7f3a7b8c6570> JSON: {\n",
      "  \"id\": \"chatcmpl-8i05ev39cQb7m2zj9e13MHYdg3bBe\",\n",
      "  \"object\": \"chat.completion\",\n",
      "  \"created\": 1705497470,\n",
      "  \"model\": \"gpt-35-turbo\",\n",
      "  \"choices\": [\n",
      "    {\n",
      "      \"finish_reason\": \"stop\",\n",
      "      \"index\": 0,\n",
      "      \"message\": {\n",
      "        \"role\": \"assistant\",\n",
      "        \"content\": \"{\\n  \\\"PER\\\": [\\\"Frantisek Gaulieder\\\"],\\n  \\\"ORG\\\": [\\\"TASR\\\"],\\n  \\\"LOC\\\": [\\\"Galanta\\\", \\\"western Slovakia\\\"]\\n}\"\n",
      "      }\n",
      "    }\n",
      "  ],\n",
      "  \"usage\": {\n",
      "    \"prompt_tokens\": 683,\n",
      "    \"completion_tokens\": 35,\n",
      "    \"total_tokens\": 718\n",
      "  }\n",
      "})\n"
     ]
    },
    {
     "name": "stderr",
     "output_type": "stream",
     "text": [
      " 88%|████████▊ | 88/100 [01:57<00:14,  1.17s/it]"
     ]
    },
    {
     "name": "stdout",
     "output_type": "stream",
     "text": [
      "(\"{'MISC': ['larger-than-average']}\", <OpenAIObject chat.completion id=chatcmpl-8i05fBI0Fvcbm0OQyg808lSlp7Uxa at 0x7f3a7bbc1670> JSON: {\n",
      "  \"id\": \"chatcmpl-8i05fBI0Fvcbm0OQyg808lSlp7Uxa\",\n",
      "  \"object\": \"chat.completion\",\n",
      "  \"created\": 1705497471,\n",
      "  \"model\": \"gpt-35-turbo\",\n",
      "  \"choices\": [\n",
      "    {\n",
      "      \"finish_reason\": \"stop\",\n",
      "      \"index\": 0,\n",
      "      \"message\": {\n",
      "        \"role\": \"assistant\",\n",
      "        \"content\": \"{'MISC': ['larger-than-average']}\"\n",
      "      }\n",
      "    }\n",
      "  ],\n",
      "  \"usage\": {\n",
      "    \"prompt_tokens\": 748,\n",
      "    \"completion_tokens\": 10,\n",
      "    \"total_tokens\": 758\n",
      "  }\n",
      "})\n"
     ]
    },
    {
     "name": "stderr",
     "output_type": "stream",
     "text": [
      " 89%|████████▉ | 89/100 [01:58<00:13,  1.20s/it]"
     ]
    },
    {
     "name": "stdout",
     "output_type": "stream",
     "text": [
      "('{\\n  \"MISC\": [\"Standings\"],\\n  \"CARDINAL\": [\"played\", \"won\", \"drawn\", \"lost\", \"goals\"]\\n}', <OpenAIObject chat.completion id=chatcmpl-8i05gy4guMr00FzAoYKLKEqC8yH5q at 0x7f3a7b8c6570> JSON: {\n",
      "  \"id\": \"chatcmpl-8i05gy4guMr00FzAoYKLKEqC8yH5q\",\n",
      "  \"object\": \"chat.completion\",\n",
      "  \"created\": 1705497472,\n",
      "  \"model\": \"gpt-35-turbo\",\n",
      "  \"choices\": [\n",
      "    {\n",
      "      \"finish_reason\": \"stop\",\n",
      "      \"index\": 0,\n",
      "      \"message\": {\n",
      "        \"role\": \"assistant\",\n",
      "        \"content\": \"{\\n  \\\"MISC\\\": [\\\"Standings\\\"],\\n  \\\"CARDINAL\\\": [\\\"played\\\", \\\"won\\\", \\\"drawn\\\", \\\"lost\\\", \\\"goals\\\"]\\n}\"\n",
      "      }\n",
      "    }\n",
      "  ],\n",
      "  \"usage\": {\n",
      "    \"prompt_tokens\": 545,\n",
      "    \"completion_tokens\": 32,\n",
      "    \"total_tokens\": 577\n",
      "  }\n",
      "})\n"
     ]
    },
    {
     "name": "stderr",
     "output_type": "stream",
     "text": [
      " 90%|█████████ | 90/100 [01:59<00:12,  1.23s/it]"
     ]
    },
    {
     "name": "stdout",
     "output_type": "stream",
     "text": [
      "('{\\n  \"ORG\": [\"OPEC\", \"OPECNA\"],\\n  \"CARDINAL\": [\"seven\", \"$ 24.20\", \"$ 23.47\"],\\n  \"DATE\": [\"Thursday\", \"Wednesday\"]\\n}', <OpenAIObject chat.completion id=chatcmpl-8i05h4rymTombGRWjDJR8Gley865w at 0x7f3a7b8c6570> JSON: {\n",
      "  \"id\": \"chatcmpl-8i05h4rymTombGRWjDJR8Gley865w\",\n",
      "  \"object\": \"chat.completion\",\n",
      "  \"created\": 1705497473,\n",
      "  \"model\": \"gpt-35-turbo\",\n",
      "  \"choices\": [\n",
      "    {\n",
      "      \"finish_reason\": \"stop\",\n",
      "      \"index\": 0,\n",
      "      \"message\": {\n",
      "        \"role\": \"assistant\",\n",
      "        \"content\": \"{\\n  \\\"ORG\\\": [\\\"OPEC\\\", \\\"OPECNA\\\"],\\n  \\\"CARDINAL\\\": [\\\"seven\\\", \\\"$ 24.20\\\", \\\"$ 23.47\\\"],\\n  \\\"DATE\\\": [\\\"Thursday\\\", \\\"Wednesday\\\"]\\n}\"\n",
      "      }\n",
      "    }\n",
      "  ],\n",
      "  \"usage\": {\n",
      "    \"prompt_tokens\": 798,\n",
      "    \"completion_tokens\": 45,\n",
      "    \"total_tokens\": 843\n",
      "  }\n",
      "})\n"
     ]
    },
    {
     "name": "stderr",
     "output_type": "stream",
     "text": [
      " 91%|█████████ | 91/100 [02:00<00:10,  1.17s/it]"
     ]
    },
    {
     "name": "stdout",
     "output_type": "stream",
     "text": [
      "('{\\n  \"MISC\": [\"sports statistics\", \"stock prices\"]\\n}', <OpenAIObject chat.completion id=chatcmpl-8i05iqLEnURPfX9AOAl0L64BqsG1Q at 0x7f3a7b8c6570> JSON: {\n",
      "  \"id\": \"chatcmpl-8i05iqLEnURPfX9AOAl0L64BqsG1Q\",\n",
      "  \"object\": \"chat.completion\",\n",
      "  \"created\": 1705497474,\n",
      "  \"model\": \"gpt-35-turbo\",\n",
      "  \"choices\": [\n",
      "    {\n",
      "      \"finish_reason\": \"stop\",\n",
      "      \"index\": 0,\n",
      "      \"message\": {\n",
      "        \"role\": \"assistant\",\n",
      "        \"content\": \"{\\n  \\\"MISC\\\": [\\\"sports statistics\\\", \\\"stock prices\\\"]\\n}\"\n",
      "      }\n",
      "    }\n",
      "  ],\n",
      "  \"usage\": {\n",
      "    \"prompt_tokens\": 545,\n",
      "    \"completion_tokens\": 15,\n",
      "    \"total_tokens\": 560\n",
      "  }\n",
      "})\n"
     ]
    },
    {
     "name": "stderr",
     "output_type": "stream",
     "text": [
      " 92%|█████████▏| 92/100 [02:02<00:09,  1.19s/it]"
     ]
    },
    {
     "name": "stdout",
     "output_type": "stream",
     "text": [
      "('{\\n  \"PER\": [\"Alatas\", \"Belo\"],\\n  \"ORG\": [\"Nobel Peace Prize\"],\\n  \"MISC\": []\\n}', <OpenAIObject chat.completion id=chatcmpl-8i05kg3eMU0mxPFqhmv1rgEHNHDFN at 0x7f3a7b8c6570> JSON: {\n",
      "  \"id\": \"chatcmpl-8i05kg3eMU0mxPFqhmv1rgEHNHDFN\",\n",
      "  \"object\": \"chat.completion\",\n",
      "  \"created\": 1705497476,\n",
      "  \"model\": \"gpt-35-turbo\",\n",
      "  \"choices\": [\n",
      "    {\n",
      "      \"finish_reason\": \"stop\",\n",
      "      \"index\": 0,\n",
      "      \"message\": {\n",
      "        \"role\": \"assistant\",\n",
      "        \"content\": \"{\\n  \\\"PER\\\": [\\\"Alatas\\\", \\\"Belo\\\"],\\n  \\\"ORG\\\": [\\\"Nobel Peace Prize\\\"],\\n  \\\"MISC\\\": []\\n}\"\n",
      "      }\n",
      "    }\n",
      "  ],\n",
      "  \"usage\": {\n",
      "    \"prompt_tokens\": 786,\n",
      "    \"completion_tokens\": 30,\n",
      "    \"total_tokens\": 816\n",
      "  }\n",
      "})\n"
     ]
    },
    {
     "name": "stderr",
     "output_type": "stream",
     "text": [
      " 93%|█████████▎| 93/100 [02:03<00:08,  1.17s/it]"
     ]
    },
    {
     "name": "stdout",
     "output_type": "stream",
     "text": [
      "('{\\n  \"LOC\": [\"Tampico\", \"port\"],\\n  \"MISC\": [\"geophysical study\", \"ship Kenda\"]\\n}', <OpenAIObject chat.completion id=chatcmpl-8i05lcnMOT9kT6sLywcRTMOhNg18t at 0x7f3a7b8c6570> JSON: {\n",
      "  \"id\": \"chatcmpl-8i05lcnMOT9kT6sLywcRTMOhNg18t\",\n",
      "  \"object\": \"chat.completion\",\n",
      "  \"created\": 1705497477,\n",
      "  \"model\": \"gpt-35-turbo\",\n",
      "  \"choices\": [\n",
      "    {\n",
      "      \"finish_reason\": \"stop\",\n",
      "      \"index\": 0,\n",
      "      \"message\": {\n",
      "        \"role\": \"assistant\",\n",
      "        \"content\": \"{\\n  \\\"LOC\\\": [\\\"Tampico\\\", \\\"port\\\"],\\n  \\\"MISC\\\": [\\\"geophysical study\\\", \\\"ship Kenda\\\"]\\n}\"\n",
      "      }\n",
      "    }\n",
      "  ],\n",
      "  \"usage\": {\n",
      "    \"prompt_tokens\": 668,\n",
      "    \"completion_tokens\": 29,\n",
      "    \"total_tokens\": 697\n",
      "  }\n",
      "})\n"
     ]
    },
    {
     "name": "stderr",
     "output_type": "stream",
     "text": [
      " 94%|█████████▍| 94/100 [02:04<00:07,  1.28s/it]"
     ]
    },
    {
     "name": "stdout",
     "output_type": "stream",
     "text": [
      "('{\\n  \"PER\": [\"Iran Sabr\"],\\n  \"LOC\": [\"Iran\"]\\n}', <OpenAIObject chat.completion id=chatcmpl-8i05mP47zhTtUrYbveTXLv7PfI2KL at 0x7f3a7b53c630> JSON: {\n",
      "  \"id\": \"chatcmpl-8i05mP47zhTtUrYbveTXLv7PfI2KL\",\n",
      "  \"object\": \"chat.completion\",\n",
      "  \"created\": 1705497478,\n",
      "  \"model\": \"gpt-35-turbo\",\n",
      "  \"choices\": [\n",
      "    {\n",
      "      \"finish_reason\": \"stop\",\n",
      "      \"index\": 0,\n",
      "      \"message\": {\n",
      "        \"role\": \"assistant\",\n",
      "        \"content\": \"{\\n  \\\"PER\\\": [\\\"Iran Sabr\\\"],\\n  \\\"LOC\\\": [\\\"Iran\\\"]\\n}\"\n",
      "      }\n",
      "    }\n",
      "  ],\n",
      "  \"usage\": {\n",
      "    \"prompt_tokens\": 565,\n",
      "    \"completion_tokens\": 18,\n",
      "    \"total_tokens\": 583\n",
      "  }\n",
      "})\n"
     ]
    },
    {
     "name": "stderr",
     "output_type": "stream",
     "text": [
      " 95%|█████████▌| 95/100 [02:06<00:07,  1.42s/it]"
     ]
    },
    {
     "name": "stdout",
     "output_type": "stream",
     "text": [
      "('{\\n  \"PER\": [\"Orlando Pace\", \"Cornell Brown\", \"Juan Roque\", \"Jared Tomich\"],\\n  \"ORG\": [\"Virginia Tech\", \"Arizona State\", \"Nebraska\"]\\n}', <OpenAIObject chat.completion id=chatcmpl-8i05oiohLr1ZTMGrjxwNIiaPeMIsp at 0x7f3a7bbc1670> JSON: {\n",
      "  \"id\": \"chatcmpl-8i05oiohLr1ZTMGrjxwNIiaPeMIsp\",\n",
      "  \"object\": \"chat.completion\",\n",
      "  \"created\": 1705497480,\n",
      "  \"model\": \"gpt-35-turbo\",\n",
      "  \"choices\": [\n",
      "    {\n",
      "      \"finish_reason\": \"stop\",\n",
      "      \"index\": 0,\n",
      "      \"message\": {\n",
      "        \"role\": \"assistant\",\n",
      "        \"content\": \"{\\n  \\\"PER\\\": [\\\"Orlando Pace\\\", \\\"Cornell Brown\\\", \\\"Juan Roque\\\", \\\"Jared Tomich\\\"],\\n  \\\"ORG\\\": [\\\"Virginia Tech\\\", \\\"Arizona State\\\", \\\"Nebraska\\\"]\\n}\"\n",
      "      }\n",
      "    }\n",
      "  ],\n",
      "  \"usage\": {\n",
      "    \"prompt_tokens\": 743,\n",
      "    \"completion_tokens\": 43,\n",
      "    \"total_tokens\": 786\n",
      "  }\n",
      "})\n"
     ]
    },
    {
     "name": "stderr",
     "output_type": "stream",
     "text": [
      " 96%|█████████▌| 96/100 [02:07<00:05,  1.35s/it]"
     ]
    },
    {
     "name": "stdout",
     "output_type": "stream",
     "text": [
      "('{\\n  \"PER\": [\"Dariusz Rosati\"],\\n  \"ORG\": [],\\n  \"LOC\": [],\\n  \"MISC\": []\\n}', <OpenAIObject chat.completion id=chatcmpl-8i05pgC5J33lSTsc9VLNyUsgerH8D at 0x7f3a7bbc1670> JSON: {\n",
      "  \"id\": \"chatcmpl-8i05pgC5J33lSTsc9VLNyUsgerH8D\",\n",
      "  \"object\": \"chat.completion\",\n",
      "  \"created\": 1705497481,\n",
      "  \"model\": \"gpt-35-turbo\",\n",
      "  \"choices\": [\n",
      "    {\n",
      "      \"finish_reason\": \"stop\",\n",
      "      \"index\": 0,\n",
      "      \"message\": {\n",
      "        \"role\": \"assistant\",\n",
      "        \"content\": \"{\\n  \\\"PER\\\": [\\\"Dariusz Rosati\\\"],\\n  \\\"ORG\\\": [],\\n  \\\"LOC\\\": [],\\n  \\\"MISC\\\": []\\n}\"\n",
      "      }\n",
      "    }\n",
      "  ],\n",
      "  \"usage\": {\n",
      "    \"prompt_tokens\": 786,\n",
      "    \"completion_tokens\": 29,\n",
      "    \"total_tokens\": 815\n",
      "  }\n",
      "})\n"
     ]
    },
    {
     "name": "stderr",
     "output_type": "stream",
     "text": [
      " 97%|█████████▋| 97/100 [02:08<00:03,  1.26s/it]"
     ]
    },
    {
     "name": "stdout",
     "output_type": "stream",
     "text": [
      "('{\\n  \"LOC\": [\"Scottish premier division\"],\\n  \"DATE\": [\"Saturday\"]\\n}', <OpenAIObject chat.completion id=chatcmpl-8i05qqYNsvbjboQG6V8GrvUaC19Yc at 0x7f3a7bbc1670> JSON: {\n",
      "  \"id\": \"chatcmpl-8i05qqYNsvbjboQG6V8GrvUaC19Yc\",\n",
      "  \"object\": \"chat.completion\",\n",
      "  \"created\": 1705497482,\n",
      "  \"model\": \"gpt-35-turbo\",\n",
      "  \"choices\": [\n",
      "    {\n",
      "      \"finish_reason\": \"stop\",\n",
      "      \"index\": 0,\n",
      "      \"message\": {\n",
      "        \"role\": \"assistant\",\n",
      "        \"content\": \"{\\n  \\\"LOC\\\": [\\\"Scottish premier division\\\"],\\n  \\\"DATE\\\": [\\\"Saturday\\\"]\\n}\"\n",
      "      }\n",
      "    }\n",
      "  ],\n",
      "  \"usage\": {\n",
      "    \"prompt_tokens\": 530,\n",
      "    \"completion_tokens\": 19,\n",
      "    \"total_tokens\": 549\n",
      "  }\n",
      "})\n"
     ]
    },
    {
     "name": "stderr",
     "output_type": "stream",
     "text": [
      " 98%|█████████▊| 98/100 [02:09<00:02,  1.19s/it]"
     ]
    },
    {
     "name": "stdout",
     "output_type": "stream",
     "text": [
      "('{\\n  \"MISC\": [\"Shops\", \"businesses\"]\\n}', <OpenAIObject chat.completion id=chatcmpl-8i05rmpPfVCNe3DHygaUfLDFhD3Xb at 0x7f3a7bbc1670> JSON: {\n",
      "  \"id\": \"chatcmpl-8i05rmpPfVCNe3DHygaUfLDFhD3Xb\",\n",
      "  \"object\": \"chat.completion\",\n",
      "  \"created\": 1705497483,\n",
      "  \"model\": \"gpt-35-turbo\",\n",
      "  \"choices\": [\n",
      "    {\n",
      "      \"finish_reason\": \"stop\",\n",
      "      \"index\": 0,\n",
      "      \"message\": {\n",
      "        \"role\": \"assistant\",\n",
      "        \"content\": \"{\\n  \\\"MISC\\\": [\\\"Shops\\\", \\\"businesses\\\"]\\n}\"\n",
      "      }\n",
      "    }\n",
      "  ],\n",
      "  \"usage\": {\n",
      "    \"prompt_tokens\": 635,\n",
      "    \"completion_tokens\": 15,\n",
      "    \"total_tokens\": 650\n",
      "  }\n",
      "})\n"
     ]
    },
    {
     "name": "stderr",
     "output_type": "stream",
     "text": [
      " 99%|█████████▉| 99/100 [02:10<00:01,  1.14s/it]"
     ]
    },
    {
     "name": "stdout",
     "output_type": "stream",
     "text": [
      "(\"{'MISC': ['Parent', 'FORECAST YEAR-AGO']}\", <OpenAIObject chat.completion id=chatcmpl-8i05s3FVd3zjMC7uoNkpJxcAqemWh at 0x7f3a7b53c630> JSON: {\n",
      "  \"id\": \"chatcmpl-8i05s3FVd3zjMC7uoNkpJxcAqemWh\",\n",
      "  \"object\": \"chat.completion\",\n",
      "  \"created\": 1705497484,\n",
      "  \"model\": \"gpt-35-turbo\",\n",
      "  \"choices\": [\n",
      "    {\n",
      "      \"finish_reason\": \"stop\",\n",
      "      \"index\": 0,\n",
      "      \"message\": {\n",
      "        \"role\": \"assistant\",\n",
      "        \"content\": \"{'MISC': ['Parent', 'FORECAST YEAR-AGO']}\"\n",
      "      }\n",
      "    }\n",
      "  ],\n",
      "  \"usage\": {\n",
      "    \"prompt_tokens\": 572,\n",
      "    \"completion_tokens\": 14,\n",
      "    \"total_tokens\": 586\n",
      "  }\n",
      "})\n"
     ]
    },
    {
     "name": "stderr",
     "output_type": "stream",
     "text": [
      "100%|██████████| 100/100 [02:12<00:00,  1.32s/it]"
     ]
    },
    {
     "name": "stdout",
     "output_type": "stream",
     "text": [
      "('{\\n  \"ORG\": [\"European Union\", \"EU\"],\\n  \"MISC\": [\"rice\"],\\n  \"LOC\": [],\\n  \"PER\": []\\n}', <OpenAIObject chat.completion id=chatcmpl-8i05urxpyVAigjiFpEaVTpPitZjav at 0x7f3a7bbc1670> JSON: {\n",
      "  \"id\": \"chatcmpl-8i05urxpyVAigjiFpEaVTpPitZjav\",\n",
      "  \"object\": \"chat.completion\",\n",
      "  \"created\": 1705497486,\n",
      "  \"model\": \"gpt-35-turbo\",\n",
      "  \"choices\": [\n",
      "    {\n",
      "      \"finish_reason\": \"stop\",\n",
      "      \"index\": 0,\n",
      "      \"message\": {\n",
      "        \"role\": \"assistant\",\n",
      "        \"content\": \"{\\n  \\\"ORG\\\": [\\\"European Union\\\", \\\"EU\\\"],\\n  \\\"MISC\\\": [\\\"rice\\\"],\\n  \\\"LOC\\\": [],\\n  \\\"PER\\\": []\\n}\"\n",
      "      }\n",
      "    }\n",
      "  ],\n",
      "  \"usage\": {\n",
      "    \"prompt_tokens\": 690,\n",
      "    \"completion_tokens\": 31,\n",
      "    \"total_tokens\": 721\n",
      "  }\n",
      "})\n",
      "   f1_mean f1_conf_inter         model  noshots prompt_technique  \\\n",
      "0      0.0    (nan, nan)  chat-gpt-3.5    False           filing   \n",
      "1      0.0    (nan, nan)  chat-gpt-3.5    False           filing   \n",
      "\n",
      "  few_shot_tecnique  nb_few_shots  precision  plus_plus verifier  \\\n",
      "0          sentence             3      False       True     None   \n",
      "1          sentence            10      False       True     None   \n",
      "\n",
      "   len_data_train  len_data_test  nb_test_run  confidence_interval  \\\n",
      "0            1488            100            1                 0.95   \n",
      "1            1488            100            1                 0.95   \n",
      "\n",
      "  distribution_used  precision_mean precision_conf_inter  recall_mean  \\\n",
      "0           Student             0.0           (nan, nan)          0.0   \n",
      "1           Student             0.0           (nan, nan)          0.0   \n",
      "\n",
      "  recall_conf_inter  \n",
      "0        (nan, nan)  \n",
      "1        (nan, nan)  \n",
      "Testing with no-shots\n",
      "      and filing\n"
     ]
    },
    {
     "name": "stderr",
     "output_type": "stream",
     "text": [
      "\n",
      "/myhome/miniconda3/lib/python3.10/site-packages/numpy/core/_methods.py:206: RuntimeWarning: Degrees of freedom <= 0 for slice\n",
      "  ret = _var(a, axis=axis, dtype=dtype, out=out, ddof=ddof,\n",
      "/myhome/miniconda3/lib/python3.10/site-packages/numpy/core/_methods.py:198: RuntimeWarning: invalid value encountered in scalar divide\n",
      "  ret = ret.dtype.type(ret / rcount)\n",
      "/myhome/miniconda3/lib/python3.10/site-packages/numpy/core/_methods.py:206: RuntimeWarning: Degrees of freedom <= 0 for slice\n",
      "  ret = _var(a, axis=axis, dtype=dtype, out=out, ddof=ddof,\n",
      "/myhome/miniconda3/lib/python3.10/site-packages/numpy/core/_methods.py:198: RuntimeWarning: invalid value encountered in scalar divide\n",
      "  ret = ret.dtype.type(ret / rcount)\n"
     ]
    },
    {
     "data": {
      "application/vnd.jupyter.widget-view+json": {
       "model_id": "b646ef52891d4b339f8de14c400a0799",
       "version_major": 2,
       "version_minor": 0
      },
      "text/plain": [
       "Map:   0%|          | 0/1488 [00:00<?, ? examples/s]"
      ]
     },
     "metadata": {},
     "output_type": "display_data"
    },
    {
     "data": {
      "application/vnd.jupyter.widget-view+json": {
       "model_id": "5e012ed313f14ce6b1cb2fbe758e4152",
       "version_major": 2,
       "version_minor": 0
      },
      "text/plain": [
       "Map:   0%|          | 0/100 [00:00<?, ? examples/s]"
      ]
     },
     "metadata": {},
     "output_type": "display_data"
    },
    {
     "name": "stderr",
     "output_type": "stream",
     "text": [
      "  1%|          | 1/100 [00:00<00:31,  3.14it/s]"
     ]
    },
    {
     "name": "stdout",
     "output_type": "stream",
     "text": [
      "('{\\n  \"PER\": [\"Livshits\"],\\n  \"ORG\": [\"company\"]\\n}\\n<end_output>', <OpenAIObject chat.completion id=chatcmpl-8i05wr9unUFEr6pkaJAQBsPhLkVOX at 0x7f3a792b9260> JSON: {\n",
      "  \"id\": \"chatcmpl-8i05wr9unUFEr6pkaJAQBsPhLkVOX\",\n",
      "  \"object\": \"chat.completion\",\n",
      "  \"created\": 1705497488,\n",
      "  \"model\": \"gpt-35-turbo\",\n",
      "  \"choices\": [\n",
      "    {\n",
      "      \"finish_reason\": \"stop\",\n",
      "      \"index\": 0,\n",
      "      \"message\": {\n",
      "        \"role\": \"assistant\",\n",
      "        \"content\": \"{\\n  \\\"PER\\\": [\\\"Livshits\\\"],\\n  \\\"ORG\\\": [\\\"company\\\"]\\n}\\n<end_output>\"\n",
      "      }\n",
      "    }\n",
      "  ],\n",
      "  \"usage\": {\n",
      "    \"prompt_tokens\": 179,\n",
      "    \"completion_tokens\": 22,\n",
      "    \"total_tokens\": 201\n",
      "  }\n",
      "})\n"
     ]
    },
    {
     "name": "stderr",
     "output_type": "stream",
     "text": [
      "  2%|▏         | 2/100 [00:00<00:32,  3.06it/s]"
     ]
    },
    {
     "name": "stdout",
     "output_type": "stream",
     "text": [
      "('{\\n  \"ORG\": [\"Newmont-Santa Fe\"],\\n  \"MISC\": []\\n}', <OpenAIObject chat.completion id=chatcmpl-8i05wpBMOfjlvygJoLI43PXrlcC0h at 0x7f3a7475d5d0> JSON: {\n",
      "  \"id\": \"chatcmpl-8i05wpBMOfjlvygJoLI43PXrlcC0h\",\n",
      "  \"object\": \"chat.completion\",\n",
      "  \"created\": 1705497488,\n",
      "  \"model\": \"gpt-35-turbo\",\n",
      "  \"choices\": [\n",
      "    {\n",
      "      \"finish_reason\": \"stop\",\n",
      "      \"index\": 0,\n",
      "      \"message\": {\n",
      "        \"role\": \"assistant\",\n",
      "        \"content\": \"{\\n  \\\"ORG\\\": [\\\"Newmont-Santa Fe\\\"],\\n  \\\"MISC\\\": []\\n}\"\n",
      "      }\n",
      "    }\n",
      "  ],\n",
      "  \"usage\": {\n",
      "    \"prompt_tokens\": 191,\n",
      "    \"completion_tokens\": 19,\n",
      "    \"total_tokens\": 210\n",
      "  }\n",
      "})\n"
     ]
    },
    {
     "name": "stderr",
     "output_type": "stream",
     "text": [
      "  3%|▎         | 3/100 [00:01<00:34,  2.81it/s]"
     ]
    },
    {
     "name": "stdout",
     "output_type": "stream",
     "text": [
      "('{\\n  \"PER\": [\"Australia\", \"Lara\"],\\n  \"ORG\": [\"Sydney Cricket Ground\"],\\n  \"LOC\": [],\\n  \"MISC\": [\"124\"]\\n}', <OpenAIObject chat.completion id=chatcmpl-8i05xdq7y1o6oAPWufO7JUUHFH96a at 0x7f3a848457b0> JSON: {\n",
      "  \"id\": \"chatcmpl-8i05xdq7y1o6oAPWufO7JUUHFH96a\",\n",
      "  \"object\": \"chat.completion\",\n",
      "  \"created\": 1705497489,\n",
      "  \"model\": \"gpt-35-turbo\",\n",
      "  \"choices\": [\n",
      "    {\n",
      "      \"finish_reason\": \"stop\",\n",
      "      \"index\": 0,\n",
      "      \"message\": {\n",
      "        \"role\": \"assistant\",\n",
      "        \"content\": \"{\\n  \\\"PER\\\": [\\\"Australia\\\", \\\"Lara\\\"],\\n  \\\"ORG\\\": [\\\"Sydney Cricket Ground\\\"],\\n  \\\"LOC\\\": [],\\n  \\\"MISC\\\": [\\\"124\\\"]\\n}\"\n",
      "      }\n",
      "    }\n",
      "  ],\n",
      "  \"usage\": {\n",
      "    \"prompt_tokens\": 196,\n",
      "    \"completion_tokens\": 36,\n",
      "    \"total_tokens\": 232\n",
      "  }\n",
      "})\n"
     ]
    },
    {
     "name": "stderr",
     "output_type": "stream",
     "text": [
      "  4%|▍         | 4/100 [00:01<00:39,  2.42it/s]"
     ]
    },
    {
     "name": "stdout",
     "output_type": "stream",
     "text": [
      "('{\\n  \"ORG\": [\"NYMEX\", \"National Weather Service\"],\\n  \"LOC\": [\"Henry Hub\"],\\n  \"MISC\": [\"six to 10 day\"]\\n}', <OpenAIObject chat.completion id=chatcmpl-8i05x5C1iyIoQmmOF4OysELt4rCnx at 0x7f3a848457b0> JSON: {\n",
      "  \"id\": \"chatcmpl-8i05x5C1iyIoQmmOF4OysELt4rCnx\",\n",
      "  \"object\": \"chat.completion\",\n",
      "  \"created\": 1705497489,\n",
      "  \"model\": \"gpt-35-turbo\",\n",
      "  \"choices\": [\n",
      "    {\n",
      "      \"finish_reason\": \"stop\",\n",
      "      \"index\": 0,\n",
      "      \"message\": {\n",
      "        \"role\": \"assistant\",\n",
      "        \"content\": \"{\\n  \\\"ORG\\\": [\\\"NYMEX\\\", \\\"National Weather Service\\\"],\\n  \\\"LOC\\\": [\\\"Henry Hub\\\"],\\n  \\\"MISC\\\": [\\\"six to 10 day\\\"]\\n}\"\n",
      "      }\n",
      "    }\n",
      "  ],\n",
      "  \"usage\": {\n",
      "    \"prompt_tokens\": 204,\n",
      "    \"completion_tokens\": 36,\n",
      "    \"total_tokens\": 240\n",
      "  }\n",
      "})\n"
     ]
    },
    {
     "name": "stderr",
     "output_type": "stream",
     "text": [
      "  5%|▌         | 5/100 [00:01<00:40,  2.36it/s]"
     ]
    },
    {
     "name": "stdout",
     "output_type": "stream",
     "text": [
      "('{\\n  \"PER\": [\"Lanarkshire county\"],\\n  \"LOC\": [\"Lanarkshire county\"],\\n  \"MISC\": [\"outbreak\", \"meat pies\", \"pensioners\\' lunch\"]\\n}', <OpenAIObject chat.completion id=chatcmpl-8i05y0aUG8tCYZD1LHp62uXf304VN at 0x7f3a7475d5d0> JSON: {\n",
      "  \"id\": \"chatcmpl-8i05y0aUG8tCYZD1LHp62uXf304VN\",\n",
      "  \"object\": \"chat.completion\",\n",
      "  \"created\": 1705497490,\n",
      "  \"model\": \"gpt-35-turbo\",\n",
      "  \"choices\": [\n",
      "    {\n",
      "      \"finish_reason\": \"stop\",\n",
      "      \"index\": 0,\n",
      "      \"message\": {\n",
      "        \"role\": \"assistant\",\n",
      "        \"content\": \"{\\n  \\\"PER\\\": [\\\"Lanarkshire county\\\"],\\n  \\\"LOC\\\": [\\\"Lanarkshire county\\\"],\\n  \\\"MISC\\\": [\\\"outbreak\\\", \\\"meat pies\\\", \\\"pensioners' lunch\\\"]\\n}\"\n",
      "      }\n",
      "    }\n",
      "  ],\n",
      "  \"usage\": {\n",
      "    \"prompt_tokens\": 201,\n",
      "    \"completion_tokens\": 45,\n",
      "    \"total_tokens\": 246\n",
      "  }\n",
      "})\n"
     ]
    },
    {
     "name": "stderr",
     "output_type": "stream",
     "text": [
      "  6%|▌         | 6/100 [00:02<00:38,  2.45it/s]"
     ]
    },
    {
     "name": "stdout",
     "output_type": "stream",
     "text": [
      "('{\\n  \"PER\": [\"Lahd\"],\\n  \"ORG\": [\"Lebanese army\"],\\n  \"LOC\": [\"Beirut\", \"Israel\"]\\n}\\n<end_output>', <OpenAIObject chat.completion id=chatcmpl-8i05yRV7GMDLNHiwEmpGONEJcG2C0 at 0x7f3a848457b0> JSON: {\n",
      "  \"id\": \"chatcmpl-8i05yRV7GMDLNHiwEmpGONEJcG2C0\",\n",
      "  \"object\": \"chat.completion\",\n",
      "  \"created\": 1705497490,\n",
      "  \"model\": \"gpt-35-turbo\",\n",
      "  \"choices\": [\n",
      "    {\n",
      "      \"finish_reason\": \"stop\",\n",
      "      \"index\": 0,\n",
      "      \"message\": {\n",
      "        \"role\": \"assistant\",\n",
      "        \"content\": \"{\\n  \\\"PER\\\": [\\\"Lahd\\\"],\\n  \\\"ORG\\\": [\\\"Lebanese army\\\"],\\n  \\\"LOC\\\": [\\\"Beirut\\\", \\\"Israel\\\"]\\n}\\n<end_output>\"\n",
      "      }\n",
      "    }\n",
      "  ],\n",
      "  \"usage\": {\n",
      "    \"prompt_tokens\": 188,\n",
      "    \"completion_tokens\": 36,\n",
      "    \"total_tokens\": 224\n",
      "  }\n",
      "})\n"
     ]
    },
    {
     "name": "stderr",
     "output_type": "stream",
     "text": [
      "  7%|▋         | 7/100 [00:02<00:35,  2.59it/s]"
     ]
    },
    {
     "name": "stdout",
     "output_type": "stream",
     "text": [
      "('{\\n  \"PER\": [\"deputy\"],\\n  \"ORG\": [],\\n  \"LOC\": [],\\n  \"MISC\": []\\n}\\n<end_output>', <OpenAIObject chat.completion id=chatcmpl-8i05yeqfjt5C5eWxH03oc7fMT72Jk at 0x7f3a848457b0> JSON: {\n",
      "  \"id\": \"chatcmpl-8i05yeqfjt5C5eWxH03oc7fMT72Jk\",\n",
      "  \"object\": \"chat.completion\",\n",
      "  \"created\": 1705497490,\n",
      "  \"model\": \"gpt-35-turbo\",\n",
      "  \"choices\": [\n",
      "    {\n",
      "      \"finish_reason\": \"stop\",\n",
      "      \"index\": 0,\n",
      "      \"message\": {\n",
      "        \"role\": \"assistant\",\n",
      "        \"content\": \"{\\n  \\\"PER\\\": [\\\"deputy\\\"],\\n  \\\"ORG\\\": [],\\n  \\\"LOC\\\": [],\\n  \\\"MISC\\\": []\\n}\\n<end_output>\"\n",
      "      }\n",
      "    }\n",
      "  ],\n",
      "  \"usage\": {\n",
      "    \"prompt_tokens\": 192,\n",
      "    \"completion_tokens\": 30,\n",
      "    \"total_tokens\": 222\n",
      "  }\n",
      "})\n"
     ]
    },
    {
     "name": "stderr",
     "output_type": "stream",
     "text": [
      "  8%|▊         | 8/100 [00:03<00:37,  2.48it/s]"
     ]
    },
    {
     "name": "stdout",
     "output_type": "stream",
     "text": [
      "('{\\n  \"PER\": [\"Doctors\", \"Czech President Vaclav Havel\"],\\n  \"ORG\": [],\\n  \"LOC\": [],\\n  \"MISC\": [\"Friday\"]\\n}', <OpenAIObject chat.completion id=chatcmpl-8i05z95dcYw0hjg5O0wAby3eERdfU at 0x7f3a848457b0> JSON: {\n",
      "  \"id\": \"chatcmpl-8i05z95dcYw0hjg5O0wAby3eERdfU\",\n",
      "  \"object\": \"chat.completion\",\n",
      "  \"created\": 1705497491,\n",
      "  \"model\": \"gpt-35-turbo\",\n",
      "  \"choices\": [\n",
      "    {\n",
      "      \"finish_reason\": \"stop\",\n",
      "      \"index\": 0,\n",
      "      \"message\": {\n",
      "        \"role\": \"assistant\",\n",
      "        \"content\": \"{\\n  \\\"PER\\\": [\\\"Doctors\\\", \\\"Czech President Vaclav Havel\\\"],\\n  \\\"ORG\\\": [],\\n  \\\"LOC\\\": [],\\n  \\\"MISC\\\": [\\\"Friday\\\"]\\n}\"\n",
      "      }\n",
      "    }\n",
      "  ],\n",
      "  \"usage\": {\n",
      "    \"prompt_tokens\": 195,\n",
      "    \"completion_tokens\": 37,\n",
      "    \"total_tokens\": 232\n",
      "  }\n",
      "})\n"
     ]
    },
    {
     "name": "stderr",
     "output_type": "stream",
     "text": [
      "  9%|▉         | 9/100 [00:03<00:40,  2.25it/s]"
     ]
    },
    {
     "name": "stdout",
     "output_type": "stream",
     "text": [
      "('{\\n  \"LOC\": [\\n    \"Santa Fe\",\\n    \"Nevada\",\\n    \"California\",\\n    \"Montana\",\\n    \"Canada\",\\n    \"Brazil\",\\n    \"Australia\",\\n    \"Chile\",\\n    \"Kazakstan\",\\n    \"Mexico\",\\n    \"Ghana\"\\n  ]\\n}', <OpenAIObject chat.completion id=chatcmpl-8i05zR9NXDWE0MepPFVMzrfNdZ21T at 0x7f3a848457b0> JSON: {\n",
      "  \"id\": \"chatcmpl-8i05zR9NXDWE0MepPFVMzrfNdZ21T\",\n",
      "  \"object\": \"chat.completion\",\n",
      "  \"created\": 1705497491,\n",
      "  \"model\": \"gpt-35-turbo\",\n",
      "  \"choices\": [\n",
      "    {\n",
      "      \"finish_reason\": \"stop\",\n",
      "      \"index\": 0,\n",
      "      \"message\": {\n",
      "        \"role\": \"assistant\",\n",
      "        \"content\": \"{\\n  \\\"LOC\\\": [\\n    \\\"Santa Fe\\\",\\n    \\\"Nevada\\\",\\n    \\\"California\\\",\\n    \\\"Montana\\\",\\n    \\\"Canada\\\",\\n    \\\"Brazil\\\",\\n    \\\"Australia\\\",\\n    \\\"Chile\\\",\\n    \\\"Kazakstan\\\",\\n    \\\"Mexico\\\",\\n    \\\"Ghana\\\"\\n  ]\\n}\"\n",
      "      }\n",
      "    }\n",
      "  ],\n",
      "  \"usage\": {\n",
      "    \"prompt_tokens\": 192,\n",
      "    \"completion_tokens\": 62,\n",
      "    \"total_tokens\": 254\n",
      "  }\n",
      "})\n"
     ]
    },
    {
     "name": "stderr",
     "output_type": "stream",
     "text": [
      " 10%|█         | 10/100 [00:04<00:43,  2.09it/s]"
     ]
    },
    {
     "name": "stdout",
     "output_type": "stream",
     "text": [
      "('{\\n  \"PER\": [],\\n  \"ORG\": [],\\n  \"LOC\": [\\n    \"Spain\"\\n  ],\\n  \"MISC\": [\\n    \"protest\"\\n  ]\\n}', <OpenAIObject chat.completion id=chatcmpl-8i060yMLrSKdQQS5qXm21a4P6qt3L at 0x7f3a7475d5d0> JSON: {\n",
      "  \"id\": \"chatcmpl-8i060yMLrSKdQQS5qXm21a4P6qt3L\",\n",
      "  \"object\": \"chat.completion\",\n",
      "  \"created\": 1705497492,\n",
      "  \"model\": \"gpt-35-turbo\",\n",
      "  \"choices\": [\n",
      "    {\n",
      "      \"finish_reason\": \"stop\",\n",
      "      \"index\": 0,\n",
      "      \"message\": {\n",
      "        \"role\": \"assistant\",\n",
      "        \"content\": \"{\\n  \\\"PER\\\": [],\\n  \\\"ORG\\\": [],\\n  \\\"LOC\\\": [\\n    \\\"Spain\\\"\\n  ],\\n  \\\"MISC\\\": [\\n    \\\"protest\\\"\\n  ]\\n}\"\n",
      "      }\n",
      "    }\n",
      "  ],\n",
      "  \"usage\": {\n",
      "    \"prompt_tokens\": 185,\n",
      "    \"completion_tokens\": 36,\n",
      "    \"total_tokens\": 221\n",
      "  }\n",
      "})\n"
     ]
    },
    {
     "name": "stderr",
     "output_type": "stream",
     "text": [
      " 11%|█         | 11/100 [00:04<00:40,  2.19it/s]"
     ]
    },
    {
     "name": "stdout",
     "output_type": "stream",
     "text": [
      "('{\\n  \"PER\": [\"Darrel Voeks\", \"Dennis Luebke\"],\\n  \"ORG\": [\"Outagmie County Circuit Court\"],\\n  \"MISC\": []\\n}\\n<end_output>', <OpenAIObject chat.completion id=chatcmpl-8i060vfZBS5jx2BbQiQJYMFnGBXGS at 0x7f3a848457b0> JSON: {\n",
      "  \"id\": \"chatcmpl-8i060vfZBS5jx2BbQiQJYMFnGBXGS\",\n",
      "  \"object\": \"chat.completion\",\n",
      "  \"created\": 1705497492,\n",
      "  \"model\": \"gpt-35-turbo\",\n",
      "  \"choices\": [\n",
      "    {\n",
      "      \"finish_reason\": \"stop\",\n",
      "      \"index\": 0,\n",
      "      \"message\": {\n",
      "        \"role\": \"assistant\",\n",
      "        \"content\": \"{\\n  \\\"PER\\\": [\\\"Darrel Voeks\\\", \\\"Dennis Luebke\\\"],\\n  \\\"ORG\\\": [\\\"Outagmie County Circuit Court\\\"],\\n  \\\"MISC\\\": []\\n}\\n<end_output>\"\n",
      "      }\n",
      "    }\n",
      "  ],\n",
      "  \"usage\": {\n",
      "    \"prompt_tokens\": 204,\n",
      "    \"completion_tokens\": 42,\n",
      "    \"total_tokens\": 246\n",
      "  }\n",
      "})\n"
     ]
    },
    {
     "name": "stderr",
     "output_type": "stream",
     "text": [
      " 12%|█▏        | 12/100 [00:04<00:37,  2.34it/s]"
     ]
    },
    {
     "name": "stdout",
     "output_type": "stream",
     "text": [
      "('{\\n  \"LOC\": [\"SHEFFIELD SHIELD\"],\\n  \"MISC\": [\"CRICKET\"]\\n}', <OpenAIObject chat.completion id=chatcmpl-8i061DNNAZzDyASBQzWkPJwWZtfvf at 0x7f3a7475d5d0> JSON: {\n",
      "  \"id\": \"chatcmpl-8i061DNNAZzDyASBQzWkPJwWZtfvf\",\n",
      "  \"object\": \"chat.completion\",\n",
      "  \"created\": 1705497493,\n",
      "  \"model\": \"gpt-35-turbo\",\n",
      "  \"choices\": [\n",
      "    {\n",
      "      \"finish_reason\": \"stop\",\n",
      "      \"index\": 0,\n",
      "      \"message\": {\n",
      "        \"role\": \"assistant\",\n",
      "        \"content\": \"{\\n  \\\"LOC\\\": [\\\"SHEFFIELD SHIELD\\\"],\\n  \\\"MISC\\\": [\\\"CRICKET\\\"]\\n}\"\n",
      "      }\n",
      "    }\n",
      "  ],\n",
      "  \"usage\": {\n",
      "    \"prompt_tokens\": 173,\n",
      "    \"completion_tokens\": 24,\n",
      "    \"total_tokens\": 197\n",
      "  }\n",
      "})\n"
     ]
    },
    {
     "name": "stderr",
     "output_type": "stream",
     "text": [
      " 13%|█▎        | 13/100 [00:05<00:39,  2.21it/s]"
     ]
    },
    {
     "name": "stdout",
     "output_type": "stream",
     "text": [
      "('{\\n  \"PER\": [\"German Santa\"],\\n  \"ORG\": [\"bank\"],\\n  \"LOC\": [],\\n  \"MISC\": [\"arrested\"]\\n}\\n<end_output>', <OpenAIObject chat.completion id=chatcmpl-8i061S28Tp9mapVZ8fMhx1ZbvVgpl at 0x7f3a7475d5d0> JSON: {\n",
      "  \"id\": \"chatcmpl-8i061S28Tp9mapVZ8fMhx1ZbvVgpl\",\n",
      "  \"object\": \"chat.completion\",\n",
      "  \"created\": 1705497493,\n",
      "  \"model\": \"gpt-35-turbo\",\n",
      "  \"choices\": [\n",
      "    {\n",
      "      \"finish_reason\": \"stop\",\n",
      "      \"index\": 0,\n",
      "      \"message\": {\n",
      "        \"role\": \"assistant\",\n",
      "        \"content\": \"{\\n  \\\"PER\\\": [\\\"German Santa\\\"],\\n  \\\"ORG\\\": [\\\"bank\\\"],\\n  \\\"LOC\\\": [],\\n  \\\"MISC\\\": [\\\"arrested\\\"]\\n}\\n<end_output>\"\n",
      "      }\n",
      "    }\n",
      "  ],\n",
      "  \"usage\": {\n",
      "    \"prompt_tokens\": 170,\n",
      "    \"completion_tokens\": 36,\n",
      "    \"total_tokens\": 206\n",
      "  }\n",
      "})\n"
     ]
    },
    {
     "name": "stderr",
     "output_type": "stream",
     "text": [
      " 14%|█▍        | 14/100 [00:06<00:40,  2.11it/s]"
     ]
    },
    {
     "name": "stdout",
     "output_type": "stream",
     "text": [
      "('{\\n  \"PER\": [\"Witnesses\"],\\n  \"ORG\": [\"Italians\"],\\n  \"LOC\": [],\\n  \"MISC\": [\"tricolour\", \"Viva Italia\"]\\n}', <OpenAIObject chat.completion id=chatcmpl-8i062ukDCavGOTr4TzhKnQpQOfRsh at 0x7f3a7475d5d0> JSON: {\n",
      "  \"id\": \"chatcmpl-8i062ukDCavGOTr4TzhKnQpQOfRsh\",\n",
      "  \"object\": \"chat.completion\",\n",
      "  \"created\": 1705497494,\n",
      "  \"model\": \"gpt-35-turbo\",\n",
      "  \"choices\": [\n",
      "    {\n",
      "      \"finish_reason\": \"stop\",\n",
      "      \"index\": 0,\n",
      "      \"message\": {\n",
      "        \"role\": \"assistant\",\n",
      "        \"content\": \"{\\n  \\\"PER\\\": [\\\"Witnesses\\\"],\\n  \\\"ORG\\\": [\\\"Italians\\\"],\\n  \\\"LOC\\\": [],\\n  \\\"MISC\\\": [\\\"tricolour\\\", \\\"Viva Italia\\\"]\\n}\"\n",
      "      }\n",
      "    }\n",
      "  ],\n",
      "  \"usage\": {\n",
      "    \"prompt_tokens\": 194,\n",
      "    \"completion_tokens\": 39,\n",
      "    \"total_tokens\": 233\n",
      "  }\n",
      "})\n"
     ]
    },
    {
     "name": "stderr",
     "output_type": "stream",
     "text": [
      " 15%|█▌        | 15/100 [00:06<00:35,  2.38it/s]"
     ]
    },
    {
     "name": "stdout",
     "output_type": "stream",
     "text": [
      "('{\\n  \"LOC\": [\"United Arab Emirates\", \"Kuwait\"]\\n}', <OpenAIObject chat.completion id=chatcmpl-8i062ph7mfhxMkSPpxcliHtwFlpOA at 0x7f3a7475d5d0> JSON: {\n",
      "  \"id\": \"chatcmpl-8i062ph7mfhxMkSPpxcliHtwFlpOA\",\n",
      "  \"object\": \"chat.completion\",\n",
      "  \"created\": 1705497494,\n",
      "  \"model\": \"gpt-35-turbo\",\n",
      "  \"choices\": [\n",
      "    {\n",
      "      \"finish_reason\": \"stop\",\n",
      "      \"index\": 0,\n",
      "      \"message\": {\n",
      "        \"role\": \"assistant\",\n",
      "        \"content\": \"{\\n  \\\"LOC\\\": [\\\"United Arab Emirates\\\", \\\"Kuwait\\\"]\\n}\"\n",
      "      }\n",
      "    }\n",
      "  ],\n",
      "  \"usage\": {\n",
      "    \"prompt_tokens\": 177,\n",
      "    \"completion_tokens\": 16,\n",
      "    \"total_tokens\": 193\n",
      "  }\n",
      "})\n"
     ]
    },
    {
     "name": "stderr",
     "output_type": "stream",
     "text": [
      " 16%|█▌        | 16/100 [00:06<00:41,  2.04it/s]"
     ]
    },
    {
     "name": "stdout",
     "output_type": "stream",
     "text": [
      "('{\\n  \"PER\": [],\\n  \"ORG\": [],\\n  \"LOC\": [],\\n  \"MISC\": [\\n    \"chow chows\",\\n    \"Rottweilers\",\\n    \"German shepherds\",\\n    \"cocker spaniels\",\\n    \"Dalmatians\"\\n  ]\\n}', <OpenAIObject chat.completion id=chatcmpl-8i062VpuNQQry1oOEr0sKa6GcpOn5 at 0x7f3a7475d5d0> JSON: {\n",
      "  \"id\": \"chatcmpl-8i062VpuNQQry1oOEr0sKa6GcpOn5\",\n",
      "  \"object\": \"chat.completion\",\n",
      "  \"created\": 1705497494,\n",
      "  \"model\": \"gpt-35-turbo\",\n",
      "  \"choices\": [\n",
      "    {\n",
      "      \"finish_reason\": \"stop\",\n",
      "      \"index\": 0,\n",
      "      \"message\": {\n",
      "        \"role\": \"assistant\",\n",
      "        \"content\": \"{\\n  \\\"PER\\\": [],\\n  \\\"ORG\\\": [],\\n  \\\"LOC\\\": [],\\n  \\\"MISC\\\": [\\n    \\\"chow chows\\\",\\n    \\\"Rottweilers\\\",\\n    \\\"German shepherds\\\",\\n    \\\"cocker spaniels\\\",\\n    \\\"Dalmatians\\\"\\n  ]\\n}\"\n",
      "      }\n",
      "    }\n",
      "  ],\n",
      "  \"usage\": {\n",
      "    \"prompt_tokens\": 198,\n",
      "    \"completion_tokens\": 61,\n",
      "    \"total_tokens\": 259\n",
      "  }\n",
      "})\n"
     ]
    },
    {
     "name": "stderr",
     "output_type": "stream",
     "text": [
      " 17%|█▋        | 17/100 [00:07<00:37,  2.24it/s]"
     ]
    },
    {
     "name": "stdout",
     "output_type": "stream",
     "text": [
      "('{\\n  \"PER\": [\"people\"],\\n  \"ORG\": [],\\n  \"LOC\": [],\\n  \"MISC\": [\"music cassettes\"]\\n}', <OpenAIObject chat.completion id=chatcmpl-8i063GI3WxSuE7on9H5lOZw9GPBZ9 at 0x7f3a7475d5d0> JSON: {\n",
      "  \"id\": \"chatcmpl-8i063GI3WxSuE7on9H5lOZw9GPBZ9\",\n",
      "  \"object\": \"chat.completion\",\n",
      "  \"created\": 1705497495,\n",
      "  \"model\": \"gpt-35-turbo\",\n",
      "  \"choices\": [\n",
      "    {\n",
      "      \"finish_reason\": \"stop\",\n",
      "      \"index\": 0,\n",
      "      \"message\": {\n",
      "        \"role\": \"assistant\",\n",
      "        \"content\": \"{\\n  \\\"PER\\\": [\\\"people\\\"],\\n  \\\"ORG\\\": [],\\n  \\\"LOC\\\": [],\\n  \\\"MISC\\\": [\\\"music cassettes\\\"]\\n}\"\n",
      "      }\n",
      "    }\n",
      "  ],\n",
      "  \"usage\": {\n",
      "    \"prompt_tokens\": 181,\n",
      "    \"completion_tokens\": 30,\n",
      "    \"total_tokens\": 211\n",
      "  }\n",
      "})\n"
     ]
    },
    {
     "name": "stderr",
     "output_type": "stream",
     "text": [
      " 18%|█▊        | 18/100 [00:07<00:34,  2.36it/s]"
     ]
    },
    {
     "name": "stdout",
     "output_type": "stream",
     "text": [
      "('{\\n  \"PER\": [\"Peters\"],\\n  \"ORG\": [\"Labour\", \"National\"],\\n  \"MISC\": []\\n}', <OpenAIObject chat.completion id=chatcmpl-8i063bv7Q42SVjX6F3JhQ0BGsLCWd at 0x7f3a848457b0> JSON: {\n",
      "  \"id\": \"chatcmpl-8i063bv7Q42SVjX6F3JhQ0BGsLCWd\",\n",
      "  \"object\": \"chat.completion\",\n",
      "  \"created\": 1705497495,\n",
      "  \"model\": \"gpt-35-turbo\",\n",
      "  \"choices\": [\n",
      "    {\n",
      "      \"finish_reason\": \"stop\",\n",
      "      \"index\": 0,\n",
      "      \"message\": {\n",
      "        \"role\": \"assistant\",\n",
      "        \"content\": \"{\\n  \\\"PER\\\": [\\\"Peters\\\"],\\n  \\\"ORG\\\": [\\\"Labour\\\", \\\"National\\\"],\\n  \\\"MISC\\\": []\\n}\"\n",
      "      }\n",
      "    }\n",
      "  ],\n",
      "  \"usage\": {\n",
      "    \"prompt_tokens\": 187,\n",
      "    \"completion_tokens\": 26,\n",
      "    \"total_tokens\": 213\n",
      "  }\n",
      "})\n"
     ]
    },
    {
     "name": "stderr",
     "output_type": "stream",
     "text": [
      " 19%|█▉        | 19/100 [00:08<00:33,  2.44it/s]"
     ]
    },
    {
     "name": "stdout",
     "output_type": "stream",
     "text": [
      "('{\\n  \"PER\": [],\\n  \"ORG\": [],\\n  \"LOC\": [],\\n  \"MISC\": []\\n}', <OpenAIObject chat.completion id=chatcmpl-8i064KOS9UFPlWwRp5aRB18hvKVUM at 0x7f3a848457b0> JSON: {\n",
      "  \"id\": \"chatcmpl-8i064KOS9UFPlWwRp5aRB18hvKVUM\",\n",
      "  \"object\": \"chat.completion\",\n",
      "  \"created\": 1705497496,\n",
      "  \"model\": \"gpt-35-turbo\",\n",
      "  \"choices\": [\n",
      "    {\n",
      "      \"finish_reason\": \"stop\",\n",
      "      \"index\": 0,\n",
      "      \"message\": {\n",
      "        \"role\": \"assistant\",\n",
      "        \"content\": \"{\\n  \\\"PER\\\": [],\\n  \\\"ORG\\\": [],\\n  \\\"LOC\\\": [],\\n  \\\"MISC\\\": []\\n}\"\n",
      "      }\n",
      "    }\n",
      "  ],\n",
      "  \"usage\": {\n",
      "    \"prompt_tokens\": 174,\n",
      "    \"completion_tokens\": 23,\n",
      "    \"total_tokens\": 197\n",
      "  }\n",
      "})\n"
     ]
    },
    {
     "name": "stderr",
     "output_type": "stream",
     "text": [
      " 20%|██        | 20/100 [00:08<00:33,  2.42it/s]"
     ]
    },
    {
     "name": "stdout",
     "output_type": "stream",
     "text": [
      "('{\\n  \"MISC\": [\\n    \"Internet\",\\n    \"global computer network\",\\n    \"music\",\\n    \"software\",\\n    \"computer mouse\",\\n    \"rulebooks\"\\n  ]\\n}', <OpenAIObject chat.completion id=chatcmpl-8i064Udq64n3BQF7MHnpEkxqWtmaa at 0x7f3a848457b0> JSON: {\n",
      "  \"id\": \"chatcmpl-8i064Udq64n3BQF7MHnpEkxqWtmaa\",\n",
      "  \"object\": \"chat.completion\",\n",
      "  \"created\": 1705497496,\n",
      "  \"model\": \"gpt-35-turbo\",\n",
      "  \"choices\": [\n",
      "    {\n",
      "      \"finish_reason\": \"stop\",\n",
      "      \"index\": 0,\n",
      "      \"message\": {\n",
      "        \"role\": \"assistant\",\n",
      "        \"content\": \"{\\n  \\\"MISC\\\": [\\n    \\\"Internet\\\",\\n    \\\"global computer network\\\",\\n    \\\"music\\\",\\n    \\\"software\\\",\\n    \\\"computer mouse\\\",\\n    \\\"rulebooks\\\"\\n  ]\\n}\"\n",
      "      }\n",
      "    }\n",
      "  ],\n",
      "  \"usage\": {\n",
      "    \"prompt_tokens\": 196,\n",
      "    \"completion_tokens\": 38,\n",
      "    \"total_tokens\": 234\n",
      "  }\n",
      "})\n"
     ]
    },
    {
     "name": "stderr",
     "output_type": "stream",
     "text": [
      " 21%|██        | 21/100 [00:08<00:29,  2.70it/s]"
     ]
    },
    {
     "name": "stdout",
     "output_type": "stream",
     "text": [
      "('{\\n  \"LOC\": [\"Turkey\", \"Syrian border\"]\\n}', <OpenAIObject chat.completion id=chatcmpl-8i065Xvre5CeqH0j4r8wrGQMREzCz at 0x7f3a848457b0> JSON: {\n",
      "  \"id\": \"chatcmpl-8i065Xvre5CeqH0j4r8wrGQMREzCz\",\n",
      "  \"object\": \"chat.completion\",\n",
      "  \"created\": 1705497497,\n",
      "  \"model\": \"gpt-35-turbo\",\n",
      "  \"choices\": [\n",
      "    {\n",
      "      \"finish_reason\": \"stop\",\n",
      "      \"index\": 0,\n",
      "      \"message\": {\n",
      "        \"role\": \"assistant\",\n",
      "        \"content\": \"{\\n  \\\"LOC\\\": [\\\"Turkey\\\", \\\"Syrian border\\\"]\\n}\"\n",
      "      }\n",
      "    }\n",
      "  ],\n",
      "  \"usage\": {\n",
      "    \"prompt_tokens\": 174,\n",
      "    \"completion_tokens\": 14,\n",
      "    \"total_tokens\": 188\n",
      "  }\n",
      "})\n"
     ]
    },
    {
     "name": "stderr",
     "output_type": "stream",
     "text": [
      " 22%|██▏       | 22/100 [00:09<00:30,  2.54it/s]"
     ]
    },
    {
     "name": "stdout",
     "output_type": "stream",
     "text": [
      "('{\\n  \"PER\": [\"Rashid\"],\\n  \"LOC\": [\"Greece\"],\\n  \"MISC\": [\"Thursday\"]\\n}', <OpenAIObject chat.completion id=chatcmpl-8i0657qWbyvz3B6ZqRHG3lD1b7eIJ at 0x7f3a848457b0> JSON: {\n",
      "  \"id\": \"chatcmpl-8i0657qWbyvz3B6ZqRHG3lD1b7eIJ\",\n",
      "  \"object\": \"chat.completion\",\n",
      "  \"created\": 1705497497,\n",
      "  \"model\": \"gpt-35-turbo\",\n",
      "  \"choices\": [\n",
      "    {\n",
      "      \"finish_reason\": \"stop\",\n",
      "      \"index\": 0,\n",
      "      \"message\": {\n",
      "        \"role\": \"assistant\",\n",
      "        \"content\": \"{\\n  \\\"PER\\\": [\\\"Rashid\\\"],\\n  \\\"LOC\\\": [\\\"Greece\\\"],\\n  \\\"MISC\\\": [\\\"Thursday\\\"]\\n}\"\n",
      "      }\n",
      "    }\n",
      "  ],\n",
      "  \"usage\": {\n",
      "    \"prompt_tokens\": 189,\n",
      "    \"completion_tokens\": 27,\n",
      "    \"total_tokens\": 216\n",
      "  }\n",
      "})\n"
     ]
    },
    {
     "name": "stderr",
     "output_type": "stream",
     "text": [
      " 23%|██▎       | 23/100 [00:09<00:35,  2.18it/s]"
     ]
    },
    {
     "name": "stdout",
     "output_type": "stream",
     "text": [
      "('{\\n  \"PER\": [\\n    \"Lieutenant-General Maurice Baril\"\\n  ],\\n  \"ORG\": [\\n    \"news conference\"\\n  ],\\n  \"LOC\": [\\n    \"Nairobi\",\\n    \"valley\",\\n    \"eastern city of Goma\"\\n  ],\\n  \"MISC\": [\\n    \"150,000 refugees\"\\n  ]\\n}', <OpenAIObject chat.completion id=chatcmpl-8i065ZosRi9ppNAZOpSRUesYeZIUa at 0x7f3a7475d5d0> JSON: {\n",
      "  \"id\": \"chatcmpl-8i065ZosRi9ppNAZOpSRUesYeZIUa\",\n",
      "  \"object\": \"chat.completion\",\n",
      "  \"created\": 1705497497,\n",
      "  \"model\": \"gpt-35-turbo\",\n",
      "  \"choices\": [\n",
      "    {\n",
      "      \"finish_reason\": \"stop\",\n",
      "      \"index\": 0,\n",
      "      \"message\": {\n",
      "        \"role\": \"assistant\",\n",
      "        \"content\": \"{\\n  \\\"PER\\\": [\\n    \\\"Lieutenant-General Maurice Baril\\\"\\n  ],\\n  \\\"ORG\\\": [\\n    \\\"news conference\\\"\\n  ],\\n  \\\"LOC\\\": [\\n    \\\"Nairobi\\\",\\n    \\\"valley\\\",\\n    \\\"eastern city of Goma\\\"\\n  ],\\n  \\\"MISC\\\": [\\n    \\\"150,000 refugees\\\"\\n  ]\\n}\"\n",
      "      }\n",
      "    }\n",
      "  ],\n",
      "  \"usage\": {\n",
      "    \"prompt_tokens\": 213,\n",
      "    \"completion_tokens\": 71,\n",
      "    \"total_tokens\": 284\n",
      "  }\n",
      "})\n"
     ]
    },
    {
     "name": "stderr",
     "output_type": "stream",
     "text": [
      " 24%|██▍       | 24/100 [00:10<00:31,  2.45it/s]"
     ]
    },
    {
     "name": "stdout",
     "output_type": "stream",
     "text": [
      "('{\\n  \"ORG\": [\"Australia\", \"Barbarians\"],\\n  \"MISC\": [\"European tour\", \"Saturday\"]\\n}', <OpenAIObject chat.completion id=chatcmpl-8i066rzviod6l3BXaTXLgdOkCs6wc at 0x7f3a848457b0> JSON: {\n",
      "  \"id\": \"chatcmpl-8i066rzviod6l3BXaTXLgdOkCs6wc\",\n",
      "  \"object\": \"chat.completion\",\n",
      "  \"created\": 1705497498,\n",
      "  \"model\": \"gpt-35-turbo\",\n",
      "  \"choices\": [\n",
      "    {\n",
      "      \"finish_reason\": \"stop\",\n",
      "      \"index\": 0,\n",
      "      \"message\": {\n",
      "        \"role\": \"assistant\",\n",
      "        \"content\": \"{\\n  \\\"ORG\\\": [\\\"Australia\\\", \\\"Barbarians\\\"],\\n  \\\"MISC\\\": [\\\"European tour\\\", \\\"Saturday\\\"]\\n}\"\n",
      "      }\n",
      "    }\n",
      "  ],\n",
      "  \"usage\": {\n",
      "    \"prompt_tokens\": 184,\n",
      "    \"completion_tokens\": 26,\n",
      "    \"total_tokens\": 210\n",
      "  }\n",
      "})\n"
     ]
    },
    {
     "name": "stderr",
     "output_type": "stream",
     "text": [
      " 25%|██▌       | 25/100 [00:10<00:31,  2.38it/s]"
     ]
    },
    {
     "name": "stdout",
     "output_type": "stream",
     "text": [
      "('{\\n  \"PER\": [\"Patasse\"],\\n  \"ORG\": [],\\n  \"LOC\": [\"the capital\"],\\n  \"MISC\": [\"uprising\", \"ethnic violence\"]\\n}\\n<end_output>', <OpenAIObject chat.completion id=chatcmpl-8i066ab33K7L4hgzoGiT3tpgkx5ti at 0x7f3a848457b0> JSON: {\n",
      "  \"id\": \"chatcmpl-8i066ab33K7L4hgzoGiT3tpgkx5ti\",\n",
      "  \"object\": \"chat.completion\",\n",
      "  \"created\": 1705497498,\n",
      "  \"model\": \"gpt-35-turbo\",\n",
      "  \"choices\": [\n",
      "    {\n",
      "      \"finish_reason\": \"stop\",\n",
      "      \"index\": 0,\n",
      "      \"message\": {\n",
      "        \"role\": \"assistant\",\n",
      "        \"content\": \"{\\n  \\\"PER\\\": [\\\"Patasse\\\"],\\n  \\\"ORG\\\": [],\\n  \\\"LOC\\\": [\\\"the capital\\\"],\\n  \\\"MISC\\\": [\\\"uprising\\\", \\\"ethnic violence\\\"]\\n}\\n<end_output>\"\n",
      "      }\n",
      "    }\n",
      "  ],\n",
      "  \"usage\": {\n",
      "    \"prompt_tokens\": 188,\n",
      "    \"completion_tokens\": 40,\n",
      "    \"total_tokens\": 228\n",
      "  }\n",
      "})\n"
     ]
    },
    {
     "name": "stderr",
     "output_type": "stream",
     "text": [
      " 26%|██▌       | 26/100 [00:10<00:29,  2.49it/s]"
     ]
    },
    {
     "name": "stdout",
     "output_type": "stream",
     "text": [
      "('{\\n  \"PER\": [\"Weah\"],\\n  \"ORG\": [\"Milan\", \"Rosenborg\"],\\n  \"LOC\": [\"Norway\"]\\n}', <OpenAIObject chat.completion id=chatcmpl-8i067I3LLowYhReaR2aUdnIlFBSdT at 0x7f3a848457b0> JSON: {\n",
      "  \"id\": \"chatcmpl-8i067I3LLowYhReaR2aUdnIlFBSdT\",\n",
      "  \"object\": \"chat.completion\",\n",
      "  \"created\": 1705497499,\n",
      "  \"model\": \"gpt-35-turbo\",\n",
      "  \"choices\": [\n",
      "    {\n",
      "      \"finish_reason\": \"stop\",\n",
      "      \"index\": 0,\n",
      "      \"message\": {\n",
      "        \"role\": \"assistant\",\n",
      "        \"content\": \"{\\n  \\\"PER\\\": [\\\"Weah\\\"],\\n  \\\"ORG\\\": [\\\"Milan\\\", \\\"Rosenborg\\\"],\\n  \\\"LOC\\\": [\\\"Norway\\\"]\\n}\"\n",
      "      }\n",
      "    }\n",
      "  ],\n",
      "  \"usage\": {\n",
      "    \"prompt_tokens\": 186,\n",
      "    \"completion_tokens\": 31,\n",
      "    \"total_tokens\": 217\n",
      "  }\n",
      "})\n"
     ]
    },
    {
     "name": "stderr",
     "output_type": "stream",
     "text": [
      " 27%|██▋       | 27/100 [00:11<00:32,  2.28it/s]"
     ]
    },
    {
     "name": "stdout",
     "output_type": "stream",
     "text": [
      "('{\\n  \"PER\": [\"SCHULZ\", \"RIBALTA\"],\\n  \"ORG\": [\"IBF\"],\\n  \"MISC\": [\"BOXING\", \"HEAVYWEIGHT FIGHT\"]\\n}\\n<end_output>', <OpenAIObject chat.completion id=chatcmpl-8i067zKtpO79sQ14p6tXtWg1LhNbd at 0x7f3a7475d5d0> JSON: {\n",
      "  \"id\": \"chatcmpl-8i067zKtpO79sQ14p6tXtWg1LhNbd\",\n",
      "  \"object\": \"chat.completion\",\n",
      "  \"created\": 1705497499,\n",
      "  \"model\": \"gpt-35-turbo\",\n",
      "  \"choices\": [\n",
      "    {\n",
      "      \"finish_reason\": \"stop\",\n",
      "      \"index\": 0,\n",
      "      \"message\": {\n",
      "        \"role\": \"assistant\",\n",
      "        \"content\": \"{\\n  \\\"PER\\\": [\\\"SCHULZ\\\", \\\"RIBALTA\\\"],\\n  \\\"ORG\\\": [\\\"IBF\\\"],\\n  \\\"MISC\\\": [\\\"BOXING\\\", \\\"HEAVYWEIGHT FIGHT\\\"]\\n}\\n<end_output>\"\n",
      "      }\n",
      "    }\n",
      "  ],\n",
      "  \"usage\": {\n",
      "    \"prompt_tokens\": 186,\n",
      "    \"completion_tokens\": 48,\n",
      "    \"total_tokens\": 234\n",
      "  }\n",
      "})\n"
     ]
    },
    {
     "name": "stderr",
     "output_type": "stream",
     "text": [
      " 28%|██▊       | 28/100 [00:12<00:36,  1.98it/s]"
     ]
    },
    {
     "name": "stdout",
     "output_type": "stream",
     "text": [
      "('{\\n  \"PER\": [\"Brett Liddle\", \"Hugh Baiocchi\", \"Adilson da Silva\", \"Sammy Daniels\"],\\n  \"ORG\": [],\\n  \"LOC\": [],\\n  \"MISC\": [\"Brazil\"]\\n}\\n<end_output>', <OpenAIObject chat.completion id=chatcmpl-8i068TKLOjoT1PuaCLenONlxhtjmm at 0x7f3a848457b0> JSON: {\n",
      "  \"id\": \"chatcmpl-8i068TKLOjoT1PuaCLenONlxhtjmm\",\n",
      "  \"object\": \"chat.completion\",\n",
      "  \"created\": 1705497500,\n",
      "  \"model\": \"gpt-35-turbo\",\n",
      "  \"choices\": [\n",
      "    {\n",
      "      \"finish_reason\": \"stop\",\n",
      "      \"index\": 0,\n",
      "      \"message\": {\n",
      "        \"role\": \"assistant\",\n",
      "        \"content\": \"{\\n  \\\"PER\\\": [\\\"Brett Liddle\\\", \\\"Hugh Baiocchi\\\", \\\"Adilson da Silva\\\", \\\"Sammy Daniels\\\"],\\n  \\\"ORG\\\": [],\\n  \\\"LOC\\\": [],\\n  \\\"MISC\\\": [\\\"Brazil\\\"]\\n}\\n<end_output>\"\n",
      "      }\n",
      "    }\n",
      "  ],\n",
      "  \"usage\": {\n",
      "    \"prompt_tokens\": 200,\n",
      "    \"completion_tokens\": 52,\n",
      "    \"total_tokens\": 252\n",
      "  }\n",
      "})\n"
     ]
    },
    {
     "name": "stderr",
     "output_type": "stream",
     "text": [
      " 29%|██▉       | 29/100 [00:12<00:33,  2.12it/s]"
     ]
    },
    {
     "name": "stdout",
     "output_type": "stream",
     "text": [
      "('{\\n  \"PER\": [\"girl\"],\\n  \"ORG\": [\"newspaper\", \"hospital\"],\\n  \"LOC\": [],\\n  \"MISC\": []\\n}\\n<end_output>', <OpenAIObject chat.completion id=chatcmpl-8i068lIkA9rYRMCiy5eoSgMUlADhS at 0x7f3a848457b0> JSON: {\n",
      "  \"id\": \"chatcmpl-8i068lIkA9rYRMCiy5eoSgMUlADhS\",\n",
      "  \"object\": \"chat.completion\",\n",
      "  \"created\": 1705497500,\n",
      "  \"model\": \"gpt-35-turbo\",\n",
      "  \"choices\": [\n",
      "    {\n",
      "      \"finish_reason\": \"stop\",\n",
      "      \"index\": 0,\n",
      "      \"message\": {\n",
      "        \"role\": \"assistant\",\n",
      "        \"content\": \"{\\n  \\\"PER\\\": [\\\"girl\\\"],\\n  \\\"ORG\\\": [\\\"newspaper\\\", \\\"hospital\\\"],\\n  \\\"LOC\\\": [],\\n  \\\"MISC\\\": []\\n}\\n<end_output>\"\n",
      "      }\n",
      "    }\n",
      "  ],\n",
      "  \"usage\": {\n",
      "    \"prompt_tokens\": 180,\n",
      "    \"completion_tokens\": 36,\n",
      "    \"total_tokens\": 216\n",
      "  }\n",
      "})\n"
     ]
    },
    {
     "name": "stderr",
     "output_type": "stream",
     "text": [
      " 30%|███       | 30/100 [00:12<00:30,  2.32it/s]"
     ]
    },
    {
     "name": "stdout",
     "output_type": "stream",
     "text": [
      "('{\\n  \"PER\": [\"Voeks\"],\\n  \"ORG\": [],\\n  \"LOC\": [],\\n  \"MISC\": [\"pig thefts\"]\\n}', <OpenAIObject chat.completion id=chatcmpl-8i069WlpKFsBp6UVotKHuW5Gv6jnA at 0x7f3a7475d5d0> JSON: {\n",
      "  \"id\": \"chatcmpl-8i069WlpKFsBp6UVotKHuW5Gv6jnA\",\n",
      "  \"object\": \"chat.completion\",\n",
      "  \"created\": 1705497501,\n",
      "  \"model\": \"gpt-35-turbo\",\n",
      "  \"choices\": [\n",
      "    {\n",
      "      \"finish_reason\": \"stop\",\n",
      "      \"index\": 0,\n",
      "      \"message\": {\n",
      "        \"role\": \"assistant\",\n",
      "        \"content\": \"{\\n  \\\"PER\\\": [\\\"Voeks\\\"],\\n  \\\"ORG\\\": [],\\n  \\\"LOC\\\": [],\\n  \\\"MISC\\\": [\\\"pig thefts\\\"]\\n}\"\n",
      "      }\n",
      "    }\n",
      "  ],\n",
      "  \"usage\": {\n",
      "    \"prompt_tokens\": 191,\n",
      "    \"completion_tokens\": 30,\n",
      "    \"total_tokens\": 221\n",
      "  }\n",
      "})\n"
     ]
    },
    {
     "name": "stderr",
     "output_type": "stream",
     "text": [
      " 31%|███       | 31/100 [00:13<00:29,  2.37it/s]"
     ]
    },
    {
     "name": "stdout",
     "output_type": "stream",
     "text": [
      "('{\\n  \"PER\": [\"health authority spokeswoman\"],\\n  \"ORG\": [],\\n  \"LOC\": [],\\n  \"MISC\": [\"disease\"]\\n}', <OpenAIObject chat.completion id=chatcmpl-8i069I2e7WeC2BUczspwuGQRDN3Ir at 0x7f3a848457b0> JSON: {\n",
      "  \"id\": \"chatcmpl-8i069I2e7WeC2BUczspwuGQRDN3Ir\",\n",
      "  \"object\": \"chat.completion\",\n",
      "  \"created\": 1705497501,\n",
      "  \"model\": \"gpt-35-turbo\",\n",
      "  \"choices\": [\n",
      "    {\n",
      "      \"finish_reason\": \"stop\",\n",
      "      \"index\": 0,\n",
      "      \"message\": {\n",
      "        \"role\": \"assistant\",\n",
      "        \"content\": \"{\\n  \\\"PER\\\": [\\\"health authority spokeswoman\\\"],\\n  \\\"ORG\\\": [],\\n  \\\"LOC\\\": [],\\n  \\\"MISC\\\": [\\\"disease\\\"]\\n}\"\n",
      "      }\n",
      "    }\n",
      "  ],\n",
      "  \"usage\": {\n",
      "    \"prompt_tokens\": 187,\n",
      "    \"completion_tokens\": 30,\n",
      "    \"total_tokens\": 217\n",
      "  }\n",
      "})\n"
     ]
    },
    {
     "name": "stderr",
     "output_type": "stream",
     "text": [
      " 32%|███▏      | 32/100 [00:13<00:26,  2.52it/s]"
     ]
    },
    {
     "name": "stdout",
     "output_type": "stream",
     "text": [
      "('{\\n  \"PER\": [],\\n  \"ORG\": [],\\n  \"LOC\": [],\\n  \"MISC\": []\\n}\\n<end_output>', <OpenAIObject chat.completion id=chatcmpl-8i069pCyXWp1DbdiL7q1yAFE8Gz61 at 0x7f3a848457b0> JSON: {\n",
      "  \"id\": \"chatcmpl-8i069pCyXWp1DbdiL7q1yAFE8Gz61\",\n",
      "  \"object\": \"chat.completion\",\n",
      "  \"created\": 1705497501,\n",
      "  \"model\": \"gpt-35-turbo\",\n",
      "  \"choices\": [\n",
      "    {\n",
      "      \"finish_reason\": \"stop\",\n",
      "      \"index\": 0,\n",
      "      \"message\": {\n",
      "        \"role\": \"assistant\",\n",
      "        \"content\": \"{\\n  \\\"PER\\\": [],\\n  \\\"ORG\\\": [],\\n  \\\"LOC\\\": [],\\n  \\\"MISC\\\": []\\n}\\n<end_output>\"\n",
      "      }\n",
      "    }\n",
      "  ],\n",
      "  \"usage\": {\n",
      "    \"prompt_tokens\": 173,\n",
      "    \"completion_tokens\": 27,\n",
      "    \"total_tokens\": 200\n",
      "  }\n",
      "})\n"
     ]
    },
    {
     "name": "stderr",
     "output_type": "stream",
     "text": [
      " 33%|███▎      | 33/100 [00:14<00:28,  2.33it/s]"
     ]
    },
    {
     "name": "stdout",
     "output_type": "stream",
     "text": [
      "('{\\n  \"MISC\": [\"Standings\"],\\n  \"ORG\": [],\\n  \"PER\": [],\\n  \"LOC\": []\\n}', <OpenAIObject chat.completion id=chatcmpl-8i06AGOt8CevJSIdRhoib2Ld39HRA at 0x7f3a848457b0> JSON: {\n",
      "  \"id\": \"chatcmpl-8i06AGOt8CevJSIdRhoib2Ld39HRA\",\n",
      "  \"object\": \"chat.completion\",\n",
      "  \"created\": 1705497502,\n",
      "  \"model\": \"gpt-35-turbo\",\n",
      "  \"choices\": [\n",
      "    {\n",
      "      \"finish_reason\": \"stop\",\n",
      "      \"index\": 0,\n",
      "      \"message\": {\n",
      "        \"role\": \"assistant\",\n",
      "        \"content\": \"{\\n  \\\"MISC\\\": [\\\"Standings\\\"],\\n  \\\"ORG\\\": [],\\n  \\\"PER\\\": [],\\n  \\\"LOC\\\": []\\n}\"\n",
      "      }\n",
      "    }\n",
      "  ],\n",
      "  \"usage\": {\n",
      "    \"prompt_tokens\": 177,\n",
      "    \"completion_tokens\": 26,\n",
      "    \"total_tokens\": 203\n",
      "  }\n",
      "})\n"
     ]
    },
    {
     "name": "stderr",
     "output_type": "stream",
     "text": [
      " 34%|███▍      | 34/100 [00:14<00:26,  2.45it/s]"
     ]
    },
    {
     "name": "stdout",
     "output_type": "stream",
     "text": [
      "('{\\n  \"PER\": [\"African states\"],\\n  \"ORG\": [\"council\"],\\n  \"LOC\": [],\\n  \"MISC\": []\\n}', <OpenAIObject chat.completion id=chatcmpl-8i06A4OYfaKm1Bd47zPKRFj6n9jwL at 0x7f3a848457b0> JSON: {\n",
      "  \"id\": \"chatcmpl-8i06A4OYfaKm1Bd47zPKRFj6n9jwL\",\n",
      "  \"object\": \"chat.completion\",\n",
      "  \"created\": 1705497502,\n",
      "  \"model\": \"gpt-35-turbo\",\n",
      "  \"choices\": [\n",
      "    {\n",
      "      \"finish_reason\": \"stop\",\n",
      "      \"index\": 0,\n",
      "      \"message\": {\n",
      "        \"role\": \"assistant\",\n",
      "        \"content\": \"{\\n  \\\"PER\\\": [\\\"African states\\\"],\\n  \\\"ORG\\\": [\\\"council\\\"],\\n  \\\"LOC\\\": [],\\n  \\\"MISC\\\": []\\n}\"\n",
      "      }\n",
      "    }\n",
      "  ],\n",
      "  \"usage\": {\n",
      "    \"prompt_tokens\": 202,\n",
      "    \"completion_tokens\": 30,\n",
      "    \"total_tokens\": 232\n",
      "  }\n",
      "})\n"
     ]
    },
    {
     "name": "stderr",
     "output_type": "stream",
     "text": [
      " 35%|███▌      | 35/100 [00:14<00:26,  2.45it/s]"
     ]
    },
    {
     "name": "stdout",
     "output_type": "stream",
     "text": [
      "('{\\n  \"LOC\": [\"Zimbabwe\", \"South African\"],\\n  \"MISC\": [\"Open\"]\\n}', <OpenAIObject chat.completion id=chatcmpl-8i06BO26zbCmWXbWO5PPR58zLJkRZ at 0x7f3a848457b0> JSON: {\n",
      "  \"id\": \"chatcmpl-8i06BO26zbCmWXbWO5PPR58zLJkRZ\",\n",
      "  \"object\": \"chat.completion\",\n",
      "  \"created\": 1705497503,\n",
      "  \"model\": \"gpt-35-turbo\",\n",
      "  \"choices\": [\n",
      "    {\n",
      "      \"finish_reason\": \"stop\",\n",
      "      \"index\": 0,\n",
      "      \"message\": {\n",
      "        \"role\": \"assistant\",\n",
      "        \"content\": \"{\\n  \\\"LOC\\\": [\\\"Zimbabwe\\\", \\\"South African\\\"],\\n  \\\"MISC\\\": [\\\"Open\\\"]\\n}\"\n",
      "      }\n",
      "    }\n",
      "  ],\n",
      "  \"usage\": {\n",
      "    \"prompt_tokens\": 168,\n",
      "    \"completion_tokens\": 22,\n",
      "    \"total_tokens\": 190\n",
      "  }\n",
      "})\n"
     ]
    },
    {
     "name": "stderr",
     "output_type": "stream",
     "text": [
      " 36%|███▌      | 36/100 [00:15<00:24,  2.56it/s]"
     ]
    },
    {
     "name": "stdout",
     "output_type": "stream",
     "text": [
      "('{\\n  \"PER\": [\"Pace\"],\\n  \"ORG\": [\"Ohio State\", \"Rose Bowl\", \"Arizona State\"]\\n}', <OpenAIObject chat.completion id=chatcmpl-8i06BRwhi4jyFTztaZufXlguVClIc at 0x7f3a848457b0> JSON: {\n",
      "  \"id\": \"chatcmpl-8i06BRwhi4jyFTztaZufXlguVClIc\",\n",
      "  \"object\": \"chat.completion\",\n",
      "  \"created\": 1705497503,\n",
      "  \"model\": \"gpt-35-turbo\",\n",
      "  \"choices\": [\n",
      "    {\n",
      "      \"finish_reason\": \"stop\",\n",
      "      \"index\": 0,\n",
      "      \"message\": {\n",
      "        \"role\": \"assistant\",\n",
      "        \"content\": \"{\\n  \\\"PER\\\": [\\\"Pace\\\"],\\n  \\\"ORG\\\": [\\\"Ohio State\\\", \\\"Rose Bowl\\\", \\\"Arizona State\\\"]\\n}\"\n",
      "      }\n",
      "    }\n",
      "  ],\n",
      "  \"usage\": {\n",
      "    \"prompt_tokens\": 188,\n",
      "    \"completion_tokens\": 26,\n",
      "    \"total_tokens\": 214\n",
      "  }\n",
      "})\n"
     ]
    },
    {
     "name": "stderr",
     "output_type": "stream",
     "text": [
      " 37%|███▋      | 37/100 [00:15<00:22,  2.74it/s]"
     ]
    },
    {
     "name": "stdout",
     "output_type": "stream",
     "text": [
      "('{\\n  \"PER\": [],\\n  \"ORG\": [],\\n  \"LOC\": [],\\n  \"MISC\": []\\n}\\n<end_output>', <OpenAIObject chat.completion id=chatcmpl-8i06BTuQFUqvfqgA4MquzrJDgj29P at 0x7f3a848457b0> JSON: {\n",
      "  \"id\": \"chatcmpl-8i06BTuQFUqvfqgA4MquzrJDgj29P\",\n",
      "  \"object\": \"chat.completion\",\n",
      "  \"created\": 1705497503,\n",
      "  \"model\": \"gpt-35-turbo\",\n",
      "  \"choices\": [\n",
      "    {\n",
      "      \"finish_reason\": \"stop\",\n",
      "      \"index\": 0,\n",
      "      \"message\": {\n",
      "        \"role\": \"assistant\",\n",
      "        \"content\": \"{\\n  \\\"PER\\\": [],\\n  \\\"ORG\\\": [],\\n  \\\"LOC\\\": [],\\n  \\\"MISC\\\": []\\n}\\n<end_output>\"\n",
      "      }\n",
      "    }\n",
      "  ],\n",
      "  \"usage\": {\n",
      "    \"prompt_tokens\": 175,\n",
      "    \"completion_tokens\": 27,\n",
      "    \"total_tokens\": 202\n",
      "  }\n",
      "})\n"
     ]
    },
    {
     "name": "stderr",
     "output_type": "stream",
     "text": [
      " 38%|███▊      | 38/100 [00:15<00:24,  2.51it/s]"
     ]
    },
    {
     "name": "stdout",
     "output_type": "stream",
     "text": [
      "('{\\n  \"PER\": [\"TEMBAU\"],\\n  \"LOC\": [\"DENPASAR\", \"Bali\"],\\n  \"MISC\": [\"1996-12-07\"]\\n}\\n<end_output>', <OpenAIObject chat.completion id=chatcmpl-8i06CXO4H5xwLtWWCasPERH6BJQyJ at 0x7f3a848457b0> JSON: {\n",
      "  \"id\": \"chatcmpl-8i06CXO4H5xwLtWWCasPERH6BJQyJ\",\n",
      "  \"object\": \"chat.completion\",\n",
      "  \"created\": 1705497504,\n",
      "  \"model\": \"gpt-35-turbo\",\n",
      "  \"choices\": [\n",
      "    {\n",
      "      \"finish_reason\": \"stop\",\n",
      "      \"index\": 0,\n",
      "      \"message\": {\n",
      "        \"role\": \"assistant\",\n",
      "        \"content\": \"{\\n  \\\"PER\\\": [\\\"TEMBAU\\\"],\\n  \\\"LOC\\\": [\\\"DENPASAR\\\", \\\"Bali\\\"],\\n  \\\"MISC\\\": [\\\"1996-12-07\\\"]\\n}\\n<end_output>\"\n",
      "      }\n",
      "    }\n",
      "  ],\n",
      "  \"usage\": {\n",
      "    \"prompt_tokens\": 178,\n",
      "    \"completion_tokens\": 42,\n",
      "    \"total_tokens\": 220\n",
      "  }\n",
      "})\n"
     ]
    },
    {
     "name": "stderr",
     "output_type": "stream",
     "text": [
      " 39%|███▉      | 39/100 [00:16<00:24,  2.46it/s]"
     ]
    },
    {
     "name": "stdout",
     "output_type": "stream",
     "text": [
      "('{\\n  \"PER\": [\"Michael Cornwell\"],\\n  \"ORG\": [\"Glencoe Animal Hospital\", \"American Veterinary Medical Association\"],\\n  \"LOC\": [\"Columbus\", \"Ohio\"]\\n}\\n<end_output>', <OpenAIObject chat.completion id=chatcmpl-8i06Ct6WYUQ9AXl994GuLTCFALfWu at 0x7f3a848457b0> JSON: {\n",
      "  \"id\": \"chatcmpl-8i06Ct6WYUQ9AXl994GuLTCFALfWu\",\n",
      "  \"object\": \"chat.completion\",\n",
      "  \"created\": 1705497504,\n",
      "  \"model\": \"gpt-35-turbo\",\n",
      "  \"choices\": [\n",
      "    {\n",
      "      \"finish_reason\": \"stop\",\n",
      "      \"index\": 0,\n",
      "      \"message\": {\n",
      "        \"role\": \"assistant\",\n",
      "        \"content\": \"{\\n  \\\"PER\\\": [\\\"Michael Cornwell\\\"],\\n  \\\"ORG\\\": [\\\"Glencoe Animal Hospital\\\", \\\"American Veterinary Medical Association\\\"],\\n  \\\"LOC\\\": [\\\"Columbus\\\", \\\"Ohio\\\"]\\n}\\n<end_output>\"\n",
      "      }\n",
      "    }\n",
      "  ],\n",
      "  \"usage\": {\n",
      "    \"prompt_tokens\": 204,\n",
      "    \"completion_tokens\": 44,\n",
      "    \"total_tokens\": 248\n",
      "  }\n",
      "})\n"
     ]
    },
    {
     "name": "stderr",
     "output_type": "stream",
     "text": [
      " 40%|████      | 40/100 [00:16<00:26,  2.27it/s]"
     ]
    },
    {
     "name": "stdout",
     "output_type": "stream",
     "text": [
      "('{\\n  \"PER\": [\"Burmese troops\", \"riot police\"],\\n  \"ORG\": [\"Ranyon ( Rangoon ) University\"],\\n  \"LOC\": [\"suburban road junction\"],\\n  \"MISC\": [\"student street protest\", \"Saturday\"]\\n}\\n<end_output>', <OpenAIObject chat.completion id=chatcmpl-8i06CAaNTD3fReJByiRPaAftI65Ul at 0x7f3a848457b0> JSON: {\n",
      "  \"id\": \"chatcmpl-8i06CAaNTD3fReJByiRPaAftI65Ul\",\n",
      "  \"object\": \"chat.completion\",\n",
      "  \"created\": 1705497504,\n",
      "  \"model\": \"gpt-35-turbo\",\n",
      "  \"choices\": [\n",
      "    {\n",
      "      \"finish_reason\": \"stop\",\n",
      "      \"index\": 0,\n",
      "      \"message\": {\n",
      "        \"role\": \"assistant\",\n",
      "        \"content\": \"{\\n  \\\"PER\\\": [\\\"Burmese troops\\\", \\\"riot police\\\"],\\n  \\\"ORG\\\": [\\\"Ranyon ( Rangoon ) University\\\"],\\n  \\\"LOC\\\": [\\\"suburban road junction\\\"],\\n  \\\"MISC\\\": [\\\"student street protest\\\", \\\"Saturday\\\"]\\n}\\n<end_output>\"\n",
      "      }\n",
      "    }\n",
      "  ],\n",
      "  \"usage\": {\n",
      "    \"prompt_tokens\": 201,\n",
      "    \"completion_tokens\": 58,\n",
      "    \"total_tokens\": 259\n",
      "  }\n",
      "})\n"
     ]
    },
    {
     "name": "stderr",
     "output_type": "stream",
     "text": [
      " 41%|████      | 41/100 [00:17<00:25,  2.30it/s]"
     ]
    },
    {
     "name": "stdout",
     "output_type": "stream",
     "text": [
      "('{\\n  \"MISC\": [\"dollar\", \"1.5338 marks\", \"Frankfurt\", \"Friday\", \"1.5607 marks\", \"Thursday\"]\\n}\\n<end_output>', <OpenAIObject chat.completion id=chatcmpl-8i06DDA2daEk8cXSX5r7XF3LIjW6m at 0x7f3a848457b0> JSON: {\n",
      "  \"id\": \"chatcmpl-8i06DDA2daEk8cXSX5r7XF3LIjW6m\",\n",
      "  \"object\": \"chat.completion\",\n",
      "  \"created\": 1705497505,\n",
      "  \"model\": \"gpt-35-turbo\",\n",
      "  \"choices\": [\n",
      "    {\n",
      "      \"finish_reason\": \"stop\",\n",
      "      \"index\": 0,\n",
      "      \"message\": {\n",
      "        \"role\": \"assistant\",\n",
      "        \"content\": \"{\\n  \\\"MISC\\\": [\\\"dollar\\\", \\\"1.5338 marks\\\", \\\"Frankfurt\\\", \\\"Friday\\\", \\\"1.5607 marks\\\", \\\"Thursday\\\"]\\n}\\n<end_output>\"\n",
      "      }\n",
      "    }\n",
      "  ],\n",
      "  \"usage\": {\n",
      "    \"prompt_tokens\": 188,\n",
      "    \"completion_tokens\": 39,\n",
      "    \"total_tokens\": 227\n",
      "  }\n",
      "})\n"
     ]
    },
    {
     "name": "stderr",
     "output_type": "stream",
     "text": [
      " 42%|████▏     | 42/100 [00:17<00:24,  2.41it/s]"
     ]
    },
    {
     "name": "stdout",
     "output_type": "stream",
     "text": [
      "('{\\n  \"PER\": [\"Saeed Anwar\"],\\n  \"MISC\": [\"run out\"],\\n  \"LOC\": []\\n}', <OpenAIObject chat.completion id=chatcmpl-8i06DWyzPkPQaFEr87XJKAfCf3rHj at 0x7f3a848457b0> JSON: {\n",
      "  \"id\": \"chatcmpl-8i06DWyzPkPQaFEr87XJKAfCf3rHj\",\n",
      "  \"object\": \"chat.completion\",\n",
      "  \"created\": 1705497505,\n",
      "  \"model\": \"gpt-35-turbo\",\n",
      "  \"choices\": [\n",
      "    {\n",
      "      \"finish_reason\": \"stop\",\n",
      "      \"index\": 0,\n",
      "      \"message\": {\n",
      "        \"role\": \"assistant\",\n",
      "        \"content\": \"{\\n  \\\"PER\\\": [\\\"Saeed Anwar\\\"],\\n  \\\"MISC\\\": [\\\"run out\\\"],\\n  \\\"LOC\\\": []\\n}\"\n",
      "      }\n",
      "    }\n",
      "  ],\n",
      "  \"usage\": {\n",
      "    \"prompt_tokens\": 178,\n",
      "    \"completion_tokens\": 27,\n",
      "    \"total_tokens\": 205\n",
      "  }\n",
      "})\n"
     ]
    },
    {
     "name": "stderr",
     "output_type": "stream",
     "text": [
      " 43%|████▎     | 43/100 [00:18<00:26,  2.17it/s]"
     ]
    },
    {
     "name": "stdout",
     "output_type": "stream",
     "text": [
      "('{\\n  \"LOC\": [\"U.S.\", \"St. Louis\"],\\n  \"ORG\": [\"Merchants Exchange\"],\\n  \"MISC\": [\"Friday\"]\\n}', <OpenAIObject chat.completion id=chatcmpl-8i06EYH2UZ3fu1I5j8oQ0AQoq9uMj at 0x7f3a7475d5d0> JSON: {\n",
      "  \"id\": \"chatcmpl-8i06EYH2UZ3fu1I5j8oQ0AQoq9uMj\",\n",
      "  \"object\": \"chat.completion\",\n",
      "  \"created\": 1705497506,\n",
      "  \"model\": \"gpt-35-turbo\",\n",
      "  \"choices\": [\n",
      "    {\n",
      "      \"finish_reason\": \"stop\",\n",
      "      \"index\": 0,\n",
      "      \"message\": {\n",
      "        \"role\": \"assistant\",\n",
      "        \"content\": \"{\\n  \\\"LOC\\\": [\\\"U.S.\\\", \\\"St. Louis\\\"],\\n  \\\"ORG\\\": [\\\"Merchants Exchange\\\"],\\n  \\\"MISC\\\": [\\\"Friday\\\"]\\n}\"\n",
      "      }\n",
      "    }\n",
      "  ],\n",
      "  \"usage\": {\n",
      "    \"prompt_tokens\": 183,\n",
      "    \"completion_tokens\": 32,\n",
      "    \"total_tokens\": 215\n",
      "  }\n",
      "})\n"
     ]
    },
    {
     "name": "stderr",
     "output_type": "stream",
     "text": [
      " 44%|████▍     | 44/100 [00:18<00:24,  2.25it/s]"
     ]
    },
    {
     "name": "stdout",
     "output_type": "stream",
     "text": [
      "('{\\n  \"PER\": [\"Patrick Vieira\"],\\n  \"ORG\": [\"Arsenal\", \"Derby\"],\\n  \"LOC\": [\"English premier league\"],\\n  \"MISC\": []\\n}', <OpenAIObject chat.completion id=chatcmpl-8i06ESOFEejbFJWxnkd4gTOsxjakO at 0x7f3a7475d5d0> JSON: {\n",
      "  \"id\": \"chatcmpl-8i06ESOFEejbFJWxnkd4gTOsxjakO\",\n",
      "  \"object\": \"chat.completion\",\n",
      "  \"created\": 1705497506,\n",
      "  \"model\": \"gpt-35-turbo\",\n",
      "  \"choices\": [\n",
      "    {\n",
      "      \"finish_reason\": \"stop\",\n",
      "      \"index\": 0,\n",
      "      \"message\": {\n",
      "        \"role\": \"assistant\",\n",
      "        \"content\": \"{\\n  \\\"PER\\\": [\\\"Patrick Vieira\\\"],\\n  \\\"ORG\\\": [\\\"Arsenal\\\", \\\"Derby\\\"],\\n  \\\"LOC\\\": [\\\"English premier league\\\"],\\n  \\\"MISC\\\": []\\n}\"\n",
      "      }\n",
      "    }\n",
      "  ],\n",
      "  \"usage\": {\n",
      "    \"prompt_tokens\": 193,\n",
      "    \"completion_tokens\": 38,\n",
      "    \"total_tokens\": 231\n",
      "  }\n",
      "})\n"
     ]
    },
    {
     "name": "stderr",
     "output_type": "stream",
     "text": [
      " 45%|████▌     | 45/100 [00:19<00:25,  2.20it/s]"
     ]
    },
    {
     "name": "stdout",
     "output_type": "stream",
     "text": [
      "('{\\n  \"PER\": [],\\n  \"ORG\": [\"Police\", \"public prosecutor\\'s office\", \"port city of Antwerp\"],\\n  \"LOC\": [],\\n  \"MISC\": [\"heroin\", \"Belgian francs\"]\\n}\\n<end_output>', <OpenAIObject chat.completion id=chatcmpl-8i06F7VTQMwFgB4MNYS72xbE4ieBm at 0x7f3a7475d5d0> JSON: {\n",
      "  \"id\": \"chatcmpl-8i06F7VTQMwFgB4MNYS72xbE4ieBm\",\n",
      "  \"object\": \"chat.completion\",\n",
      "  \"created\": 1705497507,\n",
      "  \"model\": \"gpt-35-turbo\",\n",
      "  \"choices\": [\n",
      "    {\n",
      "      \"finish_reason\": \"stop\",\n",
      "      \"index\": 0,\n",
      "      \"message\": {\n",
      "        \"role\": \"assistant\",\n",
      "        \"content\": \"{\\n  \\\"PER\\\": [],\\n  \\\"ORG\\\": [\\\"Police\\\", \\\"public prosecutor's office\\\", \\\"port city of Antwerp\\\"],\\n  \\\"LOC\\\": [],\\n  \\\"MISC\\\": [\\\"heroin\\\", \\\"Belgian francs\\\"]\\n}\\n<end_output>\"\n",
      "      }\n",
      "    }\n",
      "  ],\n",
      "  \"usage\": {\n",
      "    \"prompt_tokens\": 199,\n",
      "    \"completion_tokens\": 52,\n",
      "    \"total_tokens\": 251\n",
      "  }\n",
      "})\n"
     ]
    },
    {
     "name": "stderr",
     "output_type": "stream",
     "text": [
      " 46%|████▌     | 46/100 [00:19<00:23,  2.33it/s]"
     ]
    },
    {
     "name": "stdout",
     "output_type": "stream",
     "text": [
      "('{\\n  \"PER\": [\"he\"],\\n  \"ORG\": [\"court\"],\\n  \"LOC\": [\"strip clubs\"],\\n  \"MISC\": [\"receipts\"]\\n}', <OpenAIObject chat.completion id=chatcmpl-8i06FY3i0Yt2UENSzXIVqFPsXr2L5 at 0x7f3a7475d5d0> JSON: {\n",
      "  \"id\": \"chatcmpl-8i06FY3i0Yt2UENSzXIVqFPsXr2L5\",\n",
      "  \"object\": \"chat.completion\",\n",
      "  \"created\": 1705497507,\n",
      "  \"model\": \"gpt-35-turbo\",\n",
      "  \"choices\": [\n",
      "    {\n",
      "      \"finish_reason\": \"stop\",\n",
      "      \"index\": 0,\n",
      "      \"message\": {\n",
      "        \"role\": \"assistant\",\n",
      "        \"content\": \"{\\n  \\\"PER\\\": [\\\"he\\\"],\\n  \\\"ORG\\\": [\\\"court\\\"],\\n  \\\"LOC\\\": [\\\"strip clubs\\\"],\\n  \\\"MISC\\\": [\\\"receipts\\\"]\\n}\"\n",
      "      }\n",
      "    }\n",
      "  ],\n",
      "  \"usage\": {\n",
      "    \"prompt_tokens\": 189,\n",
      "    \"completion_tokens\": 33,\n",
      "    \"total_tokens\": 222\n",
      "  }\n",
      "})\n"
     ]
    },
    {
     "name": "stderr",
     "output_type": "stream",
     "text": [
      " 47%|████▋     | 47/100 [00:20<00:23,  2.23it/s]"
     ]
    },
    {
     "name": "stdout",
     "output_type": "stream",
     "text": [
      "('{\\n  \"PER\": [],\\n  \"ORG\": [],\\n  \"LOC\": [],\\n  \"MISC\": [\\n    \"GDP\"\\n  ]\\n}', <OpenAIObject chat.completion id=chatcmpl-8i06GaMxStvyWuXVjF0THYWioEIbJ at 0x7f3a7475d5d0> JSON: {\n",
      "  \"id\": \"chatcmpl-8i06GaMxStvyWuXVjF0THYWioEIbJ\",\n",
      "  \"object\": \"chat.completion\",\n",
      "  \"created\": 1705497508,\n",
      "  \"model\": \"gpt-35-turbo\",\n",
      "  \"choices\": [\n",
      "    {\n",
      "      \"finish_reason\": \"stop\",\n",
      "      \"index\": 0,\n",
      "      \"message\": {\n",
      "        \"role\": \"assistant\",\n",
      "        \"content\": \"{\\n  \\\"PER\\\": [],\\n  \\\"ORG\\\": [],\\n  \\\"LOC\\\": [],\\n  \\\"MISC\\\": [\\n    \\\"GDP\\\"\\n  ]\\n}\"\n",
      "      }\n",
      "    }\n",
      "  ],\n",
      "  \"usage\": {\n",
      "    \"prompt_tokens\": 189,\n",
      "    \"completion_tokens\": 30,\n",
      "    \"total_tokens\": 219\n",
      "  }\n",
      "})\n"
     ]
    },
    {
     "name": "stderr",
     "output_type": "stream",
     "text": [
      " 48%|████▊     | 48/100 [00:20<00:21,  2.39it/s]"
     ]
    },
    {
     "name": "stdout",
     "output_type": "stream",
     "text": [
      "('{\\n  \"LOC\": [\"Zieleniec\"],\\n  \"ORG\": [\"party\"],\\n  \"PER\": [\"Klaus\"]\\n}', <OpenAIObject chat.completion id=chatcmpl-8i06GBFtLMbkpMQvzsr2oOcJGFbIh at 0x7f3a7475d5d0> JSON: {\n",
      "  \"id\": \"chatcmpl-8i06GBFtLMbkpMQvzsr2oOcJGFbIh\",\n",
      "  \"object\": \"chat.completion\",\n",
      "  \"created\": 1705497508,\n",
      "  \"model\": \"gpt-35-turbo\",\n",
      "  \"choices\": [\n",
      "    {\n",
      "      \"finish_reason\": \"stop\",\n",
      "      \"index\": 0,\n",
      "      \"message\": {\n",
      "        \"role\": \"assistant\",\n",
      "        \"content\": \"{\\n  \\\"LOC\\\": [\\\"Zieleniec\\\"],\\n  \\\"ORG\\\": [\\\"party\\\"],\\n  \\\"PER\\\": [\\\"Klaus\\\"]\\n}\"\n",
      "      }\n",
      "    }\n",
      "  ],\n",
      "  \"usage\": {\n",
      "    \"prompt_tokens\": 206,\n",
      "    \"completion_tokens\": 27,\n",
      "    \"total_tokens\": 233\n",
      "  }\n",
      "})\n"
     ]
    },
    {
     "name": "stderr",
     "output_type": "stream",
     "text": [
      " 49%|████▉     | 49/100 [00:20<00:19,  2.61it/s]"
     ]
    },
    {
     "name": "stdout",
     "output_type": "stream",
     "text": [
      "('{\\n  \"LOC\": [\"Pakistan\", \"Australia\"],\\n  \"ORG\": [\"World Series\"]\\n}', <OpenAIObject chat.completion id=chatcmpl-8i06G8M3szjKw1sBU2eTE3Y62sVSs at 0x7f3a848457b0> JSON: {\n",
      "  \"id\": \"chatcmpl-8i06G8M3szjKw1sBU2eTE3Y62sVSs\",\n",
      "  \"object\": \"chat.completion\",\n",
      "  \"created\": 1705497508,\n",
      "  \"model\": \"gpt-35-turbo\",\n",
      "  \"choices\": [\n",
      "    {\n",
      "      \"finish_reason\": \"stop\",\n",
      "      \"index\": 0,\n",
      "      \"message\": {\n",
      "        \"role\": \"assistant\",\n",
      "        \"content\": \"{\\n  \\\"LOC\\\": [\\\"Pakistan\\\", \\\"Australia\\\"],\\n  \\\"ORG\\\": [\\\"World Series\\\"]\\n}\"\n",
      "      }\n",
      "    }\n",
      "  ],\n",
      "  \"usage\": {\n",
      "    \"prompt_tokens\": 183,\n",
      "    \"completion_tokens\": 20,\n",
      "    \"total_tokens\": 203\n",
      "  }\n",
      "})\n"
     ]
    },
    {
     "name": "stderr",
     "output_type": "stream",
     "text": [
      " 50%|█████     | 50/100 [00:21<00:18,  2.72it/s]"
     ]
    },
    {
     "name": "stdout",
     "output_type": "stream",
     "text": [
      "('{\\n  \"ORG\": [\"Bre-X\", \"Barrick\"]\\n}', <OpenAIObject chat.completion id=chatcmpl-8i06HOW6Qhxxn3wUSmWWzpNjiA92W at 0x7f3a7475d5d0> JSON: {\n",
      "  \"id\": \"chatcmpl-8i06HOW6Qhxxn3wUSmWWzpNjiA92W\",\n",
      "  \"object\": \"chat.completion\",\n",
      "  \"created\": 1705497509,\n",
      "  \"model\": \"gpt-35-turbo\",\n",
      "  \"choices\": [\n",
      "    {\n",
      "      \"finish_reason\": \"stop\",\n",
      "      \"index\": 0,\n",
      "      \"message\": {\n",
      "        \"role\": \"assistant\",\n",
      "        \"content\": \"{\\n  \\\"ORG\\\": [\\\"Bre-X\\\", \\\"Barrick\\\"]\\n}\"\n",
      "      }\n",
      "    }\n",
      "  ],\n",
      "  \"usage\": {\n",
      "    \"prompt_tokens\": 183,\n",
      "    \"completion_tokens\": 15,\n",
      "    \"total_tokens\": 198\n",
      "  }\n",
      "})\n"
     ]
    },
    {
     "name": "stderr",
     "output_type": "stream",
     "text": [
      " 51%|█████     | 51/100 [00:21<00:17,  2.82it/s]"
     ]
    },
    {
     "name": "stdout",
     "output_type": "stream",
     "text": [
      "('{\\n  \"PER\": [],\\n  \"ORG\": [],\\n  \"LOC\": [],\\n  \"MISC\": []\\n}', <OpenAIObject chat.completion id=chatcmpl-8i06HKk9wXJ2QB1Sy86Oekqy6y91f at 0x7f3a848457b0> JSON: {\n",
      "  \"id\": \"chatcmpl-8i06HKk9wXJ2QB1Sy86Oekqy6y91f\",\n",
      "  \"object\": \"chat.completion\",\n",
      "  \"created\": 1705497509,\n",
      "  \"model\": \"gpt-35-turbo\",\n",
      "  \"choices\": [\n",
      "    {\n",
      "      \"finish_reason\": \"stop\",\n",
      "      \"index\": 0,\n",
      "      \"message\": {\n",
      "        \"role\": \"assistant\",\n",
      "        \"content\": \"{\\n  \\\"PER\\\": [],\\n  \\\"ORG\\\": [],\\n  \\\"LOC\\\": [],\\n  \\\"MISC\\\": []\\n}\"\n",
      "      }\n",
      "    }\n",
      "  ],\n",
      "  \"usage\": {\n",
      "    \"prompt_tokens\": 160,\n",
      "    \"completion_tokens\": 23,\n",
      "    \"total_tokens\": 183\n",
      "  }\n",
      "})\n"
     ]
    },
    {
     "name": "stderr",
     "output_type": "stream",
     "text": [
      " 52%|█████▏    | 52/100 [00:21<00:17,  2.73it/s]"
     ]
    },
    {
     "name": "stdout",
     "output_type": "stream",
     "text": [
      "('{\\n  \"ORG\": [\"Doetinchem\"],\\n  \"MISC\": [\"The Super Peasants\"]\\n}\\n<end_output>', <OpenAIObject chat.completion id=chatcmpl-8i06HEfVO055Ey3ndTUwu8ZSFzIIm at 0x7f3a7475d5d0> JSON: {\n",
      "  \"id\": \"chatcmpl-8i06HEfVO055Ey3ndTUwu8ZSFzIIm\",\n",
      "  \"object\": \"chat.completion\",\n",
      "  \"created\": 1705497509,\n",
      "  \"model\": \"gpt-35-turbo\",\n",
      "  \"choices\": [\n",
      "    {\n",
      "      \"finish_reason\": \"stop\",\n",
      "      \"index\": 0,\n",
      "      \"message\": {\n",
      "        \"role\": \"assistant\",\n",
      "        \"content\": \"{\\n  \\\"ORG\\\": [\\\"Doetinchem\\\"],\\n  \\\"MISC\\\": [\\\"The Super Peasants\\\"]\\n}\\n<end_output>\"\n",
      "      }\n",
      "    }\n",
      "  ],\n",
      "  \"usage\": {\n",
      "    \"prompt_tokens\": 188,\n",
      "    \"completion_tokens\": 28,\n",
      "    \"total_tokens\": 216\n",
      "  }\n",
      "})\n"
     ]
    },
    {
     "name": "stderr",
     "output_type": "stream",
     "text": [
      " 53%|█████▎    | 53/100 [00:21<00:15,  3.01it/s]"
     ]
    },
    {
     "name": "stdout",
     "output_type": "stream",
     "text": [
      "('{\\n  \"DATE\": [\\n    \"March 31 , 1997\"\\n  ]\\n}', <OpenAIObject chat.completion id=chatcmpl-8i06I4XC25KEksEk3KFMTnQQe46Pd at 0x7f3a7475d5d0> JSON: {\n",
      "  \"id\": \"chatcmpl-8i06I4XC25KEksEk3KFMTnQQe46Pd\",\n",
      "  \"object\": \"chat.completion\",\n",
      "  \"created\": 1705497510,\n",
      "  \"model\": \"gpt-35-turbo\",\n",
      "  \"choices\": [\n",
      "    {\n",
      "      \"finish_reason\": \"stop\",\n",
      "      \"index\": 0,\n",
      "      \"message\": {\n",
      "        \"role\": \"assistant\",\n",
      "        \"content\": \"{\\n  \\\"DATE\\\": [\\n    \\\"March 31 , 1997\\\"\\n  ]\\n}\"\n",
      "      }\n",
      "    }\n",
      "  ],\n",
      "  \"usage\": {\n",
      "    \"prompt_tokens\": 171,\n",
      "    \"completion_tokens\": 19,\n",
      "    \"total_tokens\": 190\n",
      "  }\n",
      "})\n"
     ]
    },
    {
     "name": "stderr",
     "output_type": "stream",
     "text": [
      " 54%|█████▍    | 54/100 [00:22<00:19,  2.31it/s]"
     ]
    },
    {
     "name": "stdout",
     "output_type": "stream",
     "text": [
      "('{\\n  \"LOC\": [\"Mexican\"],\\n  \"MISC\": [\"daily port\", \"shipping update\"],\\n  \"DATE\": [\"Dec 6\"]\\n}\\n<end_output>', <OpenAIObject chat.completion id=chatcmpl-8i06IsYGz4nXcrCKVQH4IDUc3GWeq at 0x7f3a848457b0> JSON: {\n",
      "  \"id\": \"chatcmpl-8i06IsYGz4nXcrCKVQH4IDUc3GWeq\",\n",
      "  \"object\": \"chat.completion\",\n",
      "  \"created\": 1705497510,\n",
      "  \"model\": \"gpt-35-turbo\",\n",
      "  \"choices\": [\n",
      "    {\n",
      "      \"finish_reason\": \"stop\",\n",
      "      \"index\": 0,\n",
      "      \"message\": {\n",
      "        \"role\": \"assistant\",\n",
      "        \"content\": \"{\\n  \\\"LOC\\\": [\\\"Mexican\\\"],\\n  \\\"MISC\\\": [\\\"daily port\\\", \\\"shipping update\\\"],\\n  \\\"DATE\\\": [\\\"Dec 6\\\"]\\n}\\n<end_output>\"\n",
      "      }\n",
      "    }\n",
      "  ],\n",
      "  \"usage\": {\n",
      "    \"prompt_tokens\": 173,\n",
      "    \"completion_tokens\": 36,\n",
      "    \"total_tokens\": 209\n",
      "  }\n",
      "})\n"
     ]
    },
    {
     "name": "stderr",
     "output_type": "stream",
     "text": [
      " 55%|█████▌    | 55/100 [00:22<00:17,  2.52it/s]"
     ]
    },
    {
     "name": "stdout",
     "output_type": "stream",
     "text": [
      "('{\\n  \"MISC\": [\"won\", \"lost\", \"tied\", \"goals for\", \"goals against\", \"points\"]\\n}', <OpenAIObject chat.completion id=chatcmpl-8i06JTm2wgH3CO5oKcLYZzocOFXIB at 0x7f3a7475d5d0> JSON: {\n",
      "  \"id\": \"chatcmpl-8i06JTm2wgH3CO5oKcLYZzocOFXIB\",\n",
      "  \"object\": \"chat.completion\",\n",
      "  \"created\": 1705497511,\n",
      "  \"model\": \"gpt-35-turbo\",\n",
      "  \"choices\": [\n",
      "    {\n",
      "      \"finish_reason\": \"stop\",\n",
      "      \"index\": 0,\n",
      "      \"message\": {\n",
      "        \"role\": \"assistant\",\n",
      "        \"content\": \"{\\n  \\\"MISC\\\": [\\\"won\\\", \\\"lost\\\", \\\"tied\\\", \\\"goals for\\\", \\\"goals against\\\", \\\"points\\\"]\\n}\"\n",
      "      }\n",
      "    }\n",
      "  ],\n",
      "  \"usage\": {\n",
      "    \"prompt_tokens\": 172,\n",
      "    \"completion_tokens\": 28,\n",
      "    \"total_tokens\": 200\n",
      "  }\n",
      "})\n"
     ]
    },
    {
     "name": "stderr",
     "output_type": "stream",
     "text": [
      " 56%|█████▌    | 56/100 [00:23<00:17,  2.47it/s]"
     ]
    },
    {
     "name": "stdout",
     "output_type": "stream",
     "text": [
      "('{\\n  \"ORG\": [\"Mexico stocks\", \"Greenspan\"],\\n  \"PER\": [],\\n  \"LOC\": [],\\n  \"MISC\": []\\n}\\n<end_output>', <OpenAIObject chat.completion id=chatcmpl-8i06JwkN0mrSlFG9pMVWlaLVGFsVm at 0x7f3a7475d5d0> JSON: {\n",
      "  \"id\": \"chatcmpl-8i06JwkN0mrSlFG9pMVWlaLVGFsVm\",\n",
      "  \"object\": \"chat.completion\",\n",
      "  \"created\": 1705497511,\n",
      "  \"model\": \"gpt-35-turbo\",\n",
      "  \"choices\": [\n",
      "    {\n",
      "      \"finish_reason\": \"stop\",\n",
      "      \"index\": 0,\n",
      "      \"message\": {\n",
      "        \"role\": \"assistant\",\n",
      "        \"content\": \"{\\n  \\\"ORG\\\": [\\\"Mexico stocks\\\", \\\"Greenspan\\\"],\\n  \\\"PER\\\": [],\\n  \\\"LOC\\\": [],\\n  \\\"MISC\\\": []\\n}\\n<end_output>\"\n",
      "      }\n",
      "    }\n",
      "  ],\n",
      "  \"usage\": {\n",
      "    \"prompt_tokens\": 173,\n",
      "    \"completion_tokens\": 35,\n",
      "    \"total_tokens\": 208\n",
      "  }\n",
      "})\n"
     ]
    },
    {
     "name": "stderr",
     "output_type": "stream",
     "text": [
      " 57%|█████▋    | 57/100 [00:23<00:16,  2.65it/s]"
     ]
    },
    {
     "name": "stdout",
     "output_type": "stream",
     "text": [
      "('{\\n  \"PER\": [],\\n  \"ORG\": [],\\n  \"LOC\": [],\\n  \"MISC\": []\\n}', <OpenAIObject chat.completion id=chatcmpl-8i06J90m8laXBlSEnFoOHJOekBPBT at 0x7f3a7475d5d0> JSON: {\n",
      "  \"id\": \"chatcmpl-8i06J90m8laXBlSEnFoOHJOekBPBT\",\n",
      "  \"object\": \"chat.completion\",\n",
      "  \"created\": 1705497511,\n",
      "  \"model\": \"gpt-35-turbo\",\n",
      "  \"choices\": [\n",
      "    {\n",
      "      \"finish_reason\": \"stop\",\n",
      "      \"index\": 0,\n",
      "      \"message\": {\n",
      "        \"role\": \"assistant\",\n",
      "        \"content\": \"{\\n  \\\"PER\\\": [],\\n  \\\"ORG\\\": [],\\n  \\\"LOC\\\": [],\\n  \\\"MISC\\\": []\\n}\"\n",
      "      }\n",
      "    }\n",
      "  ],\n",
      "  \"usage\": {\n",
      "    \"prompt_tokens\": 182,\n",
      "    \"completion_tokens\": 23,\n",
      "    \"total_tokens\": 205\n",
      "  }\n",
      "})\n"
     ]
    },
    {
     "name": "stderr",
     "output_type": "stream",
     "text": [
      " 58%|█████▊    | 58/100 [00:24<00:15,  2.76it/s]"
     ]
    },
    {
     "name": "stdout",
     "output_type": "stream",
     "text": [
      "('{\\n  \"PER\": [\"one student\"],\\n  \"ORG\": [\"police\"],\\n  \"LOC\": [\"newspapers\"]\\n}\\n<end_output>', <OpenAIObject chat.completion id=chatcmpl-8i06K8RQcPdcM7VZgPkeUKKZDlvVw at 0x7f3a7475d5d0> JSON: {\n",
      "  \"id\": \"chatcmpl-8i06K8RQcPdcM7VZgPkeUKKZDlvVw\",\n",
      "  \"object\": \"chat.completion\",\n",
      "  \"created\": 1705497512,\n",
      "  \"model\": \"gpt-35-turbo\",\n",
      "  \"choices\": [\n",
      "    {\n",
      "      \"finish_reason\": \"stop\",\n",
      "      \"index\": 0,\n",
      "      \"message\": {\n",
      "        \"role\": \"assistant\",\n",
      "        \"content\": \"{\\n  \\\"PER\\\": [\\\"one student\\\"],\\n  \\\"ORG\\\": [\\\"police\\\"],\\n  \\\"LOC\\\": [\\\"newspapers\\\"]\\n}\\n<end_output>\"\n",
      "      }\n",
      "    }\n",
      "  ],\n",
      "  \"usage\": {\n",
      "    \"prompt_tokens\": 177,\n",
      "    \"completion_tokens\": 31,\n",
      "    \"total_tokens\": 208\n",
      "  }\n",
      "})\n"
     ]
    },
    {
     "name": "stderr",
     "output_type": "stream",
     "text": [
      " 59%|█████▉    | 59/100 [00:24<00:14,  2.83it/s]"
     ]
    },
    {
     "name": "stdout",
     "output_type": "stream",
     "text": [
      "('{\\n  \"PER\": [\"people\"],\\n  \"ORG\": [],\\n  \"LOC\": [],\\n  \"MISC\": []\\n}\\n<end_output>', <OpenAIObject chat.completion id=chatcmpl-8i06K1AJxawb89Gi8mNbtOMXsrcHu at 0x7f3a7475d5d0> JSON: {\n",
      "  \"id\": \"chatcmpl-8i06K1AJxawb89Gi8mNbtOMXsrcHu\",\n",
      "  \"object\": \"chat.completion\",\n",
      "  \"created\": 1705497512,\n",
      "  \"model\": \"gpt-35-turbo\",\n",
      "  \"choices\": [\n",
      "    {\n",
      "      \"finish_reason\": \"stop\",\n",
      "      \"index\": 0,\n",
      "      \"message\": {\n",
      "        \"role\": \"assistant\",\n",
      "        \"content\": \"{\\n  \\\"PER\\\": [\\\"people\\\"],\\n  \\\"ORG\\\": [],\\n  \\\"LOC\\\": [],\\n  \\\"MISC\\\": []\\n}\\n<end_output>\"\n",
      "      }\n",
      "    }\n",
      "  ],\n",
      "  \"usage\": {\n",
      "    \"prompt_tokens\": 195,\n",
      "    \"completion_tokens\": 29,\n",
      "    \"total_tokens\": 224\n",
      "  }\n",
      "})\n"
     ]
    },
    {
     "name": "stderr",
     "output_type": "stream",
     "text": [
      " 61%|██████    | 61/100 [00:25<00:14,  2.74it/s]"
     ]
    },
    {
     "name": "stdout",
     "output_type": "stream",
     "text": [
      "('{\\n  \"PER\": [\\n    \"Kurdish village guards\",\\n    \"PKK guerrillas\"\\n  ],\\n  \"ORG\": [\\n    \"Kurdistan Workers Party\"\\n  ],\\n  \"LOC\": [\\n    \"southeast\"\\n  ],\\n  \"MISC\": [\\n    \"70,000\"\\n  ]\\n}', <OpenAIObject chat.completion id=chatcmpl-8i06KMHNVHuJPdZdmMrpQox3kPcsG at 0x7f3a7475d5d0> JSON: {\n",
      "  \"id\": \"chatcmpl-8i06KMHNVHuJPdZdmMrpQox3kPcsG\",\n",
      "  \"object\": \"chat.completion\",\n",
      "  \"created\": 1705497512,\n",
      "  \"model\": \"gpt-35-turbo\",\n",
      "  \"choices\": [\n",
      "    {\n",
      "      \"finish_reason\": \"stop\",\n",
      "      \"index\": 0,\n",
      "      \"message\": {\n",
      "        \"role\": \"assistant\",\n",
      "        \"content\": \"{\\n  \\\"PER\\\": [\\n    \\\"Kurdish village guards\\\",\\n    \\\"PKK guerrillas\\\"\\n  ],\\n  \\\"ORG\\\": [\\n    \\\"Kurdistan Workers Party\\\"\\n  ],\\n  \\\"LOC\\\": [\\n    \\\"southeast\\\"\\n  ],\\n  \\\"MISC\\\": [\\n    \\\"70,000\\\"\\n  ]\\n}\"\n",
      "      }\n",
      "    }\n",
      "  ],\n",
      "  \"usage\": {\n",
      "    \"prompt_tokens\": 204,\n",
      "    \"completion_tokens\": 66,\n",
      "    \"total_tokens\": 270\n",
      "  }\n",
      "})\n",
      "('{\\n  \"ORG\": [\"Manchester United\"]\\n}', <OpenAIObject chat.completion id=chatcmpl-8i06LMUalqqWhvyE7w5rQ8ggCTfan at 0x7f3a7475d5d0> JSON: {\n",
      "  \"id\": \"chatcmpl-8i06LMUalqqWhvyE7w5rQ8ggCTfan\",\n",
      "  \"object\": \"chat.completion\",\n",
      "  \"created\": 1705497513,\n",
      "  \"model\": \"gpt-35-turbo\",\n",
      "  \"choices\": [\n",
      "    {\n",
      "      \"finish_reason\": \"stop\",\n",
      "      \"index\": 0,\n",
      "      \"message\": {\n",
      "        \"role\": \"assistant\",\n",
      "        \"content\": \"{\\n  \\\"ORG\\\": [\\\"Manchester United\\\"]\\n}\"\n",
      "      }\n",
      "    }\n",
      "  ],\n",
      "  \"usage\": {\n",
      "    \"prompt_tokens\": 170,\n",
      "    \"completion_tokens\": 10,\n",
      "    \"total_tokens\": 180\n",
      "  }\n",
      "})\n"
     ]
    },
    {
     "name": "stderr",
     "output_type": "stream",
     "text": [
      " 61%|██████    | 61/100 [00:25<00:16,  2.37it/s]\n"
     ]
    },
    {
     "ename": "KeyError",
     "evalue": "'content'",
     "output_type": "error",
     "traceback": [
      "\u001b[0;31m---------------------------------------------------------------------------\u001b[0m",
      "\u001b[0;31mKeyError\u001b[0m                                  Traceback (most recent call last)",
      "Cell \u001b[0;32mIn[15], line 12\u001b[0m\n\u001b[1;32m     10\u001b[0m results, results_df \u001b[38;5;241m=\u001b[39m model\u001b[38;5;241m.\u001b[39mclassical_test(pts \u001b[38;5;241m=\u001b[39m pts, fsts \u001b[38;5;241m=\u001b[39m [FST_Sentence], nb_few_shots\u001b[38;5;241m=\u001b[39m[\u001b[38;5;241m3\u001b[39m,\u001b[38;5;241m10\u001b[39m], nb_run_by_test\u001b[38;5;241m=\u001b[39m\u001b[38;5;241m1\u001b[39m, plus_plus\u001b[38;5;241m=\u001b[39m plus_plus)\n\u001b[1;32m     11\u001b[0m \u001b[38;5;28mprint\u001b[39m(results_df)\n\u001b[0;32m---> 12\u001b[0m results, results_df \u001b[38;5;241m=\u001b[39m \u001b[43mmodel\u001b[49m\u001b[38;5;241;43m.\u001b[39;49m\u001b[43mclassical_test\u001b[49m\u001b[43m(\u001b[49m\u001b[43mpts\u001b[49m\u001b[43m \u001b[49m\u001b[38;5;241;43m=\u001b[39;49m\u001b[43m \u001b[49m\u001b[43mpts\u001b[49m\u001b[43m,\u001b[49m\u001b[43m \u001b[49m\u001b[43mfsts\u001b[49m\u001b[43m \u001b[49m\u001b[38;5;241;43m=\u001b[39;49m\u001b[43m \u001b[49m\u001b[43m[\u001b[49m\u001b[43mFST_NoShots\u001b[49m\u001b[43m]\u001b[49m\u001b[43m,\u001b[49m\u001b[43m \u001b[49m\u001b[43mnb_few_shots\u001b[49m\u001b[38;5;241;43m=\u001b[39;49m\u001b[43m[\u001b[49m\u001b[38;5;241;43m0\u001b[39;49m\u001b[43m]\u001b[49m\u001b[43m \u001b[49m\u001b[43m,\u001b[49m\u001b[43mnb_run_by_test\u001b[49m\u001b[38;5;241;43m=\u001b[39;49m\u001b[38;5;241;43m1\u001b[39;49m\u001b[43m,\u001b[49m\u001b[43m \u001b[49m\u001b[43mplus_plus\u001b[49m\u001b[38;5;241;43m=\u001b[39;49m\u001b[43m \u001b[49m\u001b[43mplus_plus\u001b[49m\u001b[43m)\u001b[49m\n\u001b[1;32m     13\u001b[0m results_df\n",
      "File \u001b[0;32m/myhome/Master-thesis/llm/LLMModel.py:176\u001b[0m, in \u001b[0;36mLLMModel.classical_test\u001b[0;34m(self, fsts, pts, nb_few_shots, verifier, confidence_checker, save, nb_run_by_test, with_precision, prompt_template, plus_plus, dataset_loader, tags, dataset_save_name)\u001b[0m\n\u001b[1;32m    174\u001b[0m data_train, data_test \u001b[38;5;241m=\u001b[39m dataset_loader(seed \u001b[38;5;241m=\u001b[39m seed)\n\u001b[1;32m    175\u001b[0m fst\u001b[38;5;241m.\u001b[39mset_dataset(data_train)\n\u001b[0;32m--> 176\u001b[0m predictions \u001b[38;5;241m=\u001b[39m \u001b[38;5;28;43mself\u001b[39;49m\u001b[38;5;241;43m.\u001b[39;49m\u001b[43minvoke_mulitple\u001b[49m\u001b[43m(\u001b[49m\u001b[43mdata_test\u001b[49m\u001b[43m[\u001b[49m\u001b[38;5;124;43m'\u001b[39;49m\u001b[38;5;124;43mtext\u001b[39;49m\u001b[38;5;124;43m'\u001b[39;49m\u001b[43m]\u001b[49m\u001b[43m,\u001b[49m\u001b[43m \u001b[49m\u001b[43mpt\u001b[49m\u001b[43m,\u001b[49m\u001b[43m \u001b[49m\u001b[43mverifier\u001b[49m\u001b[43m,\u001b[49m\u001b[43m \u001b[49m\u001b[43mconfidence_checker\u001b[49m\u001b[43m,\u001b[49m\u001b[43m \u001b[49m\u001b[43mtags\u001b[49m\u001b[43m)\u001b[49m\n\u001b[1;32m    177\u001b[0m \u001b[38;5;66;03m# Calculate the elapsed time\u001b[39;00m\n\u001b[1;32m    178\u001b[0m elapsed_time \u001b[38;5;241m=\u001b[39m time\u001b[38;5;241m.\u001b[39mtime() \u001b[38;5;241m-\u001b[39m start_time\n",
      "File \u001b[0;32m/myhome/Master-thesis/llm/LLMModel.py:89\u001b[0m, in \u001b[0;36mLLMModel.invoke_mulitple\u001b[0;34m(self, sentences, pt, verifier, confidence_checker, tags)\u001b[0m\n\u001b[1;32m     87\u001b[0m all_entities \u001b[38;5;241m=\u001b[39m []\n\u001b[1;32m     88\u001b[0m \u001b[38;5;28;01mfor\u001b[39;00m sentence \u001b[38;5;129;01min\u001b[39;00m tqdm(sentences) :\n\u001b[0;32m---> 89\u001b[0m     all_entities\u001b[38;5;241m.\u001b[39mappend(\u001b[38;5;28;43mself\u001b[39;49m\u001b[38;5;241;43m.\u001b[39;49m\u001b[43minvoke\u001b[49m\u001b[43m(\u001b[49m\u001b[43msentence\u001b[49m\u001b[43m,\u001b[49m\u001b[43m \u001b[49m\u001b[43mpt\u001b[49m\u001b[43m,\u001b[49m\u001b[43m \u001b[49m\u001b[43mverifier\u001b[49m\u001b[43m,\u001b[49m\u001b[43m \u001b[49m\u001b[43mconfidence_checker\u001b[49m\u001b[43m,\u001b[49m\u001b[43m \u001b[49m\u001b[43mtags\u001b[49m\u001b[43m)\u001b[49m[\u001b[38;5;241m0\u001b[39m])\n\u001b[1;32m     90\u001b[0m \u001b[38;5;28;01mreturn\u001b[39;00m all_entities\n",
      "File \u001b[0;32m/myhome/Master-thesis/llm/LLMModel.py:94\u001b[0m, in \u001b[0;36mLLMModel.invoke\u001b[0;34m(self, sentence, pt, verifier, confidence_checker, tags)\u001b[0m\n\u001b[1;32m     93\u001b[0m \u001b[38;5;28;01mdef\u001b[39;00m \u001b[38;5;21minvoke\u001b[39m(\u001b[38;5;28mself\u001b[39m, sentence : \u001b[38;5;28mstr\u001b[39m, pt : PromptTechnique, verifier : Verifier, confidence_checker : ConfidenceChecker, tags):\n\u001b[0;32m---> 94\u001b[0m     all_entities, response_all\u001b[38;5;241m=\u001b[39m \u001b[43mpt\u001b[49m\u001b[38;5;241;43m.\u001b[39;49m\u001b[43mrun_prompt\u001b[49m\u001b[43m(\u001b[49m\u001b[38;5;28;43mself\u001b[39;49m\u001b[43m,\u001b[49m\u001b[43m \u001b[49m\u001b[43msentence\u001b[49m\u001b[43m,\u001b[49m\u001b[43m \u001b[49m\u001b[43mverifier\u001b[49m\u001b[43m,\u001b[49m\u001b[43m \u001b[49m\u001b[43mconfidence_checker\u001b[49m\u001b[43m,\u001b[49m\u001b[43m \u001b[49m\u001b[43mtags\u001b[49m\u001b[43m \u001b[49m\u001b[38;5;241;43m=\u001b[39;49m\u001b[43m \u001b[49m\u001b[43mtags\u001b[49m\u001b[43m)\u001b[49m\n\u001b[1;32m     95\u001b[0m     \u001b[38;5;28;01mreturn\u001b[39;00m all_entities, response_all\n",
      "File \u001b[0;32m/myhome/Master-thesis/ner/llm_ner/prompt_techniques/pt_filing.py:46\u001b[0m, in \u001b[0;36mPT_Filing.run_prompt\u001b[0;34m(self, llm, sentence, verifier, confidence_checker, tags)\u001b[0m\n\u001b[1;32m     41\u001b[0m \u001b[38;5;28;01mdef\u001b[39;00m \u001b[38;5;21mrun_prompt\u001b[39m(\u001b[38;5;28mself\u001b[39m, llm : \u001b[38;5;124m\"\u001b[39m\u001b[38;5;124mLLMModel\u001b[39m\u001b[38;5;124m\"\u001b[39m, \n\u001b[1;32m     42\u001b[0m                sentence : \u001b[38;5;28mstr\u001b[39m, \n\u001b[1;32m     43\u001b[0m                verifier : \u001b[38;5;124m\"\u001b[39m\u001b[38;5;124mVerifier\u001b[39m\u001b[38;5;124m\"\u001b[39m \u001b[38;5;241m=\u001b[39m \u001b[38;5;28;01mNone\u001b[39;00m, \n\u001b[1;32m     44\u001b[0m                confidence_checker : ConfidenceChecker\u001b[38;5;241m=\u001b[39m \u001b[38;5;28;01mNone\u001b[39;00m,\n\u001b[1;32m     45\u001b[0m                tags \u001b[38;5;241m=\u001b[39m ONTONOTE5_TAGS) :\n\u001b[0;32m---> 46\u001b[0m     \u001b[38;5;28;01mreturn\u001b[39;00m \u001b[38;5;28;43msuper\u001b[39;49m\u001b[43m(\u001b[49m\u001b[43mPT_Filing\u001b[49m\u001b[43m,\u001b[49m\u001b[43m \u001b[49m\u001b[38;5;28;43mself\u001b[39;49m\u001b[43m)\u001b[49m\u001b[38;5;241;43m.\u001b[39;49m\u001b[43mrun_prompt\u001b[49m\u001b[43m(\u001b[49m\u001b[43mllm\u001b[49m\u001b[43m,\u001b[49m\u001b[43m \u001b[49m\u001b[43msentence\u001b[49m\u001b[43m,\u001b[49m\u001b[43m \u001b[49m\u001b[43mverifier\u001b[49m\u001b[43m,\u001b[49m\u001b[43m \u001b[49m\u001b[43mconfidence_checker\u001b[49m\u001b[43m,\u001b[49m\u001b[43m \u001b[49m\u001b[43mprefix\u001b[49m\u001b[43m \u001b[49m\u001b[38;5;241;43m=\u001b[39;49m\u001b[43m \u001b[49m\u001b[38;5;124;43m'\u001b[39;49m\u001b[38;5;124;43m[\u001b[39;49m\u001b[38;5;124;43m'\u001b[39;49m\u001b[43m,\u001b[49m\u001b[43mtags\u001b[49m\u001b[43m \u001b[49m\u001b[38;5;241;43m=\u001b[39;49m\u001b[43m  \u001b[49m\u001b[43mtags\u001b[49m\u001b[43m)\u001b[49m\n",
      "File \u001b[0;32m/myhome/Master-thesis/ner/llm_ner/prompt_techniques/pt_abstract.py:62\u001b[0m, in \u001b[0;36mPromptTechnique.run_prompt\u001b[0;34m(self, llm, sentence, verifier, confidence_checker, prefix, tags)\u001b[0m\n\u001b[1;32m     59\u001b[0m         \u001b[38;5;28mprint\u001b[39m(\u001b[38;5;124mf\u001b[39m\u001b[38;5;124m\"\u001b[39m\u001b[38;5;124mprompt is too big : \u001b[39m\u001b[38;5;132;01m{\u001b[39;00mprompt\u001b[38;5;132;01m}\u001b[39;00m\u001b[38;5;124m\"\u001b[39m) \n\u001b[1;32m     60\u001b[0m         \u001b[38;5;28;01mcontinue\u001b[39;00m\n\u001b[0;32m---> 62\u001b[0m reponse_text, response_all \u001b[38;5;241m=\u001b[39m \u001b[43mllm\u001b[49m\u001b[43m(\u001b[49m\u001b[43mprompt\u001b[49m\u001b[43m,\u001b[49m\u001b[43m \u001b[49m\u001b[43mwith_full_message\u001b[49m\u001b[43m \u001b[49m\u001b[38;5;241;43m=\u001b[39;49m\u001b[38;5;28;43;01mTrue\u001b[39;49;00m\u001b[43m)\u001b[49m\n\u001b[1;32m     63\u001b[0m \u001b[38;5;66;03m#Remvoe \\n\u001b[39;00m\n\u001b[1;32m     64\u001b[0m reponse_text \u001b[38;5;241m=\u001b[39m reponse_text\u001b[38;5;241m.\u001b[39mreplace(\u001b[38;5;124m'\u001b[39m\u001b[38;5;130;01m\\\\\u001b[39;00m\u001b[38;5;124mn\u001b[39m\u001b[38;5;124m'\u001b[39m, \u001b[38;5;124m'\u001b[39m\u001b[38;5;124m'\u001b[39m)\n",
      "File \u001b[0;32m/myhome/Master-thesis/llm/ChatGPT.py:24\u001b[0m, in \u001b[0;36mChatGPT.__call__\u001b[0;34m(self, prompt, stop, with_full_message)\u001b[0m\n\u001b[1;32m     22\u001b[0m \u001b[38;5;28;01mdef\u001b[39;00m \u001b[38;5;21m__call__\u001b[39m(\u001b[38;5;28mself\u001b[39m, prompt, stop \u001b[38;5;241m=\u001b[39m [\u001b[38;5;124m\"\u001b[39m\u001b[38;5;124m<end_output>\u001b[39m\u001b[38;5;124m\"\u001b[39m, \u001b[38;5;124m\"\u001b[39m\u001b[38;5;130;01m\\n\u001b[39;00m\u001b[38;5;130;01m\\n\u001b[39;00m\u001b[38;5;130;01m\\n\u001b[39;00m\u001b[38;5;124m\"\u001b[39m], with_full_message \u001b[38;5;241m=\u001b[39m \u001b[38;5;28;01mFalse\u001b[39;00m) :\n\u001b[0;32m---> 24\u001b[0m     message \u001b[38;5;241m=\u001b[39m \u001b[38;5;28;43mself\u001b[39;49m\u001b[38;5;241;43m.\u001b[39;49m\u001b[43mopenai_run_messages\u001b[49m\u001b[43m(\u001b[49m\n\u001b[1;32m     25\u001b[0m \u001b[43m        \u001b[49m\u001b[38;5;28;43mself\u001b[39;49m\u001b[38;5;241;43m.\u001b[39;49m\u001b[43mmessages_from_prompt\u001b[49m\u001b[43m(\u001b[49m\u001b[43mprompt\u001b[49m\u001b[43m)\u001b[49m\u001b[43m,\u001b[49m\n\u001b[1;32m     26\u001b[0m \u001b[43m        \u001b[49m\u001b[43mwith_full_message\u001b[49m\u001b[43m,\u001b[49m\n\u001b[1;32m     27\u001b[0m \u001b[43m        \u001b[49m\u001b[43mstop\u001b[49m\u001b[43m \u001b[49m\u001b[38;5;241;43m=\u001b[39;49m\u001b[43m \u001b[49m\u001b[43mstop\u001b[49m\n\u001b[1;32m     28\u001b[0m \u001b[43m        \u001b[49m\u001b[43m)\u001b[49m\n\u001b[1;32m     29\u001b[0m     \u001b[38;5;28mprint\u001b[39m(message)\n\u001b[1;32m     30\u001b[0m     \u001b[38;5;28;01mreturn\u001b[39;00m message\n",
      "File \u001b[0;32m/myhome/Master-thesis/llm/ChatGPT.py:50\u001b[0m, in \u001b[0;36mChatGPT.openai_run_messages\u001b[0;34m(self, messages, with_full_message, **kwargs)\u001b[0m\n\u001b[1;32m     45\u001b[0m response \u001b[38;5;241m=\u001b[39m openai\u001b[38;5;241m.\u001b[39mChatCompletion\u001b[38;5;241m.\u001b[39mcreate(\n\u001b[1;32m     46\u001b[0m     messages\u001b[38;5;241m=\u001b[39mmessages,\n\u001b[1;32m     47\u001b[0m     \u001b[38;5;241m*\u001b[39m\u001b[38;5;241m*\u001b[39mCHAT_PARAMS,\n\u001b[1;32m     48\u001b[0m )\n\u001b[1;32m     49\u001b[0m \u001b[38;5;66;03m# print(f\"Response of {LLM} run : {response['choices'][0]['message']['content'].strip()}\")\u001b[39;00m\n\u001b[0;32m---> 50\u001b[0m text_response \u001b[38;5;241m=\u001b[39m \u001b[43mresponse\u001b[49m\u001b[43m[\u001b[49m\u001b[38;5;124;43m\"\u001b[39;49m\u001b[38;5;124;43mchoices\u001b[39;49m\u001b[38;5;124;43m\"\u001b[39;49m\u001b[43m]\u001b[49m\u001b[43m[\u001b[49m\u001b[38;5;241;43m0\u001b[39;49m\u001b[43m]\u001b[49m\u001b[43m[\u001b[49m\u001b[38;5;124;43m\"\u001b[39;49m\u001b[38;5;124;43mmessage\u001b[39;49m\u001b[38;5;124;43m\"\u001b[39;49m\u001b[43m]\u001b[49m\u001b[43m[\u001b[49m\u001b[38;5;124;43m\"\u001b[39;49m\u001b[38;5;124;43mcontent\u001b[39;49m\u001b[38;5;124;43m\"\u001b[39;49m\u001b[43m]\u001b[49m\u001b[38;5;241m.\u001b[39mstrip()\n\u001b[1;32m     51\u001b[0m \u001b[38;5;28;01mif\u001b[39;00m with_full_message :\n\u001b[1;32m     52\u001b[0m     \u001b[38;5;28;01mreturn\u001b[39;00m text_response, response\n",
      "\u001b[0;31mKeyError\u001b[0m: 'content'"
     ]
    }
   ],
   "source": [
    "# model = MistralAI()\n",
    "plus_plus = True\n",
    "pts = [\n",
    "       # PT_GPT_NER, \n",
    "       # PT_OutputList, \n",
    "       # PT_Wrapper, \n",
    "       # PT_2Time_Tagger,\n",
    "       PT_Filing\n",
    "       ]\n",
    "results, results_df = model.classical_test(pts = pts, fsts = [FST_Sentence], nb_few_shots=[3,10], nb_run_by_test=1, plus_plus= plus_plus)\n",
    "print(results_df)\n",
    "results, results_df = model.classical_test(pts = pts, fsts = [FST_NoShots], nb_few_shots=[0] ,nb_run_by_test=1, plus_plus= plus_plus)\n",
    "results_df"
   ]
  },
  {
   "cell_type": "code",
   "execution_count": 10,
   "metadata": {},
   "outputs": [
    {
     "name": "stdout",
     "output_type": "stream",
     "text": [
      "Testing with sentence\n",
      "      and discussion\n"
     ]
    },
    {
     "data": {
      "application/vnd.jupyter.widget-view+json": {
       "model_id": "a06b27fa90d943e3b4bf25e01c434b95",
       "version_major": 2,
       "version_minor": 0
      },
      "text/plain": [
       "Map:   0%|          | 0/1488 [00:00<?, ? examples/s]"
      ]
     },
     "metadata": {},
     "output_type": "display_data"
    },
    {
     "data": {
      "application/vnd.jupyter.widget-view+json": {
       "model_id": "0bd2f35d51e74fe19a8f32c3c7591d21",
       "version_major": 2,
       "version_minor": 0
      },
      "text/plain": [
       "Map:   0%|          | 0/100 [00:00<?, ? examples/s]"
      ]
     },
     "metadata": {},
     "output_type": "display_data"
    },
    {
     "name": "stderr",
     "output_type": "stream",
     "text": [
      "  1%|          | 1/100 [00:00<01:27,  1.14it/s]"
     ]
    },
    {
     "name": "stdout",
     "output_type": "stream",
     "text": [
      "(\"('Livshits', 'PER')] <end_output>\", <OpenAIObject chat.completion id=chatcmpl-8hyoOCy6HmQ5CTIRmtlwlTpYClKpD at 0x7f3a8eed3ce0> JSON: {\n",
      "  \"id\": \"chatcmpl-8hyoOCy6HmQ5CTIRmtlwlTpYClKpD\",\n",
      "  \"object\": \"chat.completion\",\n",
      "  \"created\": 1705492556,\n",
      "  \"model\": \"gpt-35-turbo\",\n",
      "  \"choices\": [\n",
      "    {\n",
      "      \"finish_reason\": \"stop\",\n",
      "      \"index\": 0,\n",
      "      \"message\": {\n",
      "        \"role\": \"assistant\",\n",
      "        \"content\": \"('Livshits', 'PER')] <end_output>\"\n",
      "      }\n",
      "    }\n",
      "  ],\n",
      "  \"usage\": {\n",
      "    \"prompt_tokens\": 360,\n",
      "    \"completion_tokens\": 12,\n",
      "    \"total_tokens\": 372\n",
      "  }\n",
      "})\n"
     ]
    },
    {
     "name": "stderr",
     "output_type": "stream",
     "text": [
      "  2%|▏         | 2/100 [00:01<01:31,  1.07it/s]"
     ]
    },
    {
     "name": "stdout",
     "output_type": "stream",
     "text": [
      "(\"[('Newmont', 'ORG'), ('Santa Fe', 'ORG')] <end_output>\", <OpenAIObject chat.completion id=chatcmpl-8hyoPPLh1yb9iHZnpoJRTYlLuRyRT at 0x7f3a74543010> JSON: {\n",
      "  \"id\": \"chatcmpl-8hyoPPLh1yb9iHZnpoJRTYlLuRyRT\",\n",
      "  \"object\": \"chat.completion\",\n",
      "  \"created\": 1705492557,\n",
      "  \"model\": \"gpt-35-turbo\",\n",
      "  \"choices\": [\n",
      "    {\n",
      "      \"finish_reason\": \"stop\",\n",
      "      \"index\": 0,\n",
      "      \"message\": {\n",
      "        \"role\": \"assistant\",\n",
      "        \"content\": \"[('Newmont', 'ORG'), ('Santa Fe', 'ORG')] <end_output>\"\n",
      "      }\n",
      "    }\n",
      "  ],\n",
      "  \"usage\": {\n",
      "    \"prompt_tokens\": 430,\n",
      "    \"completion_tokens\": 19,\n",
      "    \"total_tokens\": 449\n",
      "  }\n",
      "})\n"
     ]
    },
    {
     "name": "stderr",
     "output_type": "stream",
     "text": [
      "  3%|▎         | 3/100 [00:03<01:42,  1.06s/it]"
     ]
    },
    {
     "name": "stdout",
     "output_type": "stream",
     "text": [
      "(\"[('Australia', 'LOC')],\\n[('Sydney Cricket Ground', 'LOC')],\\n[('124', 'MISC')],\\n[('Lara', 'PER')]] <end_output>\", <OpenAIObject chat.completion id=chatcmpl-8hyoQ8wQGSoNS8at5HC990t4v75bj at 0x7f3a7b53e7f0> JSON: {\n",
      "  \"id\": \"chatcmpl-8hyoQ8wQGSoNS8at5HC990t4v75bj\",\n",
      "  \"object\": \"chat.completion\",\n",
      "  \"created\": 1705492558,\n",
      "  \"model\": \"gpt-35-turbo\",\n",
      "  \"choices\": [\n",
      "    {\n",
      "      \"finish_reason\": \"stop\",\n",
      "      \"index\": 0,\n",
      "      \"message\": {\n",
      "        \"role\": \"assistant\",\n",
      "        \"content\": \"[('Australia', 'LOC')],\\n[('Sydney Cricket Ground', 'LOC')],\\n[('124', 'MISC')],\\n[('Lara', 'PER')]] <end_output>\"\n",
      "      }\n",
      "    }\n",
      "  ],\n",
      "  \"usage\": {\n",
      "    \"prompt_tokens\": 430,\n",
      "    \"completion_tokens\": 38,\n",
      "    \"total_tokens\": 468\n",
      "  }\n",
      "})\n"
     ]
    },
    {
     "name": "stderr",
     "output_type": "stream",
     "text": [
      "  4%|▍         | 4/100 [00:04<01:52,  1.17s/it]"
     ]
    },
    {
     "name": "stdout",
     "output_type": "stream",
     "text": [
      "(\"[('NYMEX', 'ORG')],\\n[('Henry Hub', 'LOC')],\\n[('Friday', 'MISC')],\\n[('National Weather Service', 'ORG')],\\n[('six to 10 day', 'MISC')]\\n] <end_output>\", <OpenAIObject chat.completion id=chatcmpl-8hyoRy38knSzbKRLRVeOpzUupNSxC at 0x7f3a74537380> JSON: {\n",
      "  \"id\": \"chatcmpl-8hyoRy38knSzbKRLRVeOpzUupNSxC\",\n",
      "  \"object\": \"chat.completion\",\n",
      "  \"created\": 1705492559,\n",
      "  \"model\": \"gpt-35-turbo\",\n",
      "  \"choices\": [\n",
      "    {\n",
      "      \"finish_reason\": \"stop\",\n",
      "      \"index\": 0,\n",
      "      \"message\": {\n",
      "        \"role\": \"assistant\",\n",
      "        \"content\": \"[('NYMEX', 'ORG')],\\n[('Henry Hub', 'LOC')],\\n[('Friday', 'MISC')],\\n[('National Weather Service', 'ORG')],\\n[('six to 10 day', 'MISC')]\\n] <end_output>\"\n",
      "      }\n",
      "    }\n",
      "  ],\n",
      "  \"usage\": {\n",
      "    \"prompt_tokens\": 380,\n",
      "    \"completion_tokens\": 51,\n",
      "    \"total_tokens\": 431\n",
      "  }\n",
      "})\n"
     ]
    },
    {
     "name": "stderr",
     "output_type": "stream",
     "text": [
      "  5%|▌         | 5/100 [00:05<01:53,  1.19s/it]"
     ]
    },
    {
     "name": "stdout",
     "output_type": "stream",
     "text": [
      "(\"[('290', 'MISC'), ('Lanarkshire', 'LOC')],\\n[('pensioners', 'MISC')] <end_output>\", <OpenAIObject chat.completion id=chatcmpl-8hyoT9iIj6CK3zkfv8vBH6l3t81fw at 0x7f3a74537380> JSON: {\n",
      "  \"id\": \"chatcmpl-8hyoT9iIj6CK3zkfv8vBH6l3t81fw\",\n",
      "  \"object\": \"chat.completion\",\n",
      "  \"created\": 1705492561,\n",
      "  \"model\": \"gpt-35-turbo\",\n",
      "  \"choices\": [\n",
      "    {\n",
      "      \"finish_reason\": \"stop\",\n",
      "      \"index\": 0,\n",
      "      \"message\": {\n",
      "        \"role\": \"assistant\",\n",
      "        \"content\": \"[('290', 'MISC'), ('Lanarkshire', 'LOC')],\\n[('pensioners', 'MISC')] <end_output>\"\n",
      "      }\n",
      "    }\n",
      "  ],\n",
      "  \"usage\": {\n",
      "    \"prompt_tokens\": 327,\n",
      "    \"completion_tokens\": 31,\n",
      "    \"total_tokens\": 358\n",
      "  }\n",
      "})\n"
     ]
    },
    {
     "name": "stderr",
     "output_type": "stream",
     "text": [
      "  6%|▌         | 6/100 [00:07<02:02,  1.30s/it]"
     ]
    },
    {
     "name": "stdout",
     "output_type": "stream",
     "text": [
      "(\"[('Lahd', 'PER')],\\n[('Beirut', 'LOC')],\\n[('Lebanese', 'MISC')],\\n[('Israel', 'LOC')],\\n[('Lebanese', 'MISC')],\\n[('Israel', 'LOC')]] <end_output>\", <OpenAIObject chat.completion id=chatcmpl-8hyoUZ8T4ZewPx1woyNR98bIpLSiT at 0x7f3a74543010> JSON: {\n",
      "  \"id\": \"chatcmpl-8hyoUZ8T4ZewPx1woyNR98bIpLSiT\",\n",
      "  \"object\": \"chat.completion\",\n",
      "  \"created\": 1705492562,\n",
      "  \"model\": \"gpt-35-turbo\",\n",
      "  \"choices\": [\n",
      "    {\n",
      "      \"finish_reason\": \"stop\",\n",
      "      \"index\": 0,\n",
      "      \"message\": {\n",
      "        \"role\": \"assistant\",\n",
      "        \"content\": \"[('Lahd', 'PER')],\\n[('Beirut', 'LOC')],\\n[('Lebanese', 'MISC')],\\n[('Israel', 'LOC')],\\n[('Lebanese', 'MISC')],\\n[('Israel', 'LOC')]] <end_output>\"\n",
      "      }\n",
      "    }\n",
      "  ],\n",
      "  \"usage\": {\n",
      "    \"prompt_tokens\": 433,\n",
      "    \"completion_tokens\": 56,\n",
      "    \"total_tokens\": 489\n",
      "  }\n",
      "})\n"
     ]
    },
    {
     "name": "stderr",
     "output_type": "stream",
     "text": [
      "  7%|▋         | 7/100 [00:08<01:55,  1.24s/it]"
     ]
    },
    {
     "name": "stdout",
     "output_type": "stream",
     "text": [
      "(\"[('deputy', 'MISC')], [('answer', 'MISC')] <end_output>\", <OpenAIObject chat.completion id=chatcmpl-8hyoWUYEIV2m5coxOfBFGTOQpRlJH at 0x7f3a71d4b740> JSON: {\n",
      "  \"id\": \"chatcmpl-8hyoWUYEIV2m5coxOfBFGTOQpRlJH\",\n",
      "  \"object\": \"chat.completion\",\n",
      "  \"created\": 1705492564,\n",
      "  \"model\": \"gpt-35-turbo\",\n",
      "  \"choices\": [\n",
      "    {\n",
      "      \"finish_reason\": \"stop\",\n",
      "      \"index\": 0,\n",
      "      \"message\": {\n",
      "        \"role\": \"assistant\",\n",
      "        \"content\": \"[('deputy', 'MISC')], [('answer', 'MISC')] <end_output>\"\n",
      "      }\n",
      "    }\n",
      "  ],\n",
      "  \"usage\": {\n",
      "    \"prompt_tokens\": 338,\n",
      "    \"completion_tokens\": 21,\n",
      "    \"total_tokens\": 359\n",
      "  }\n",
      "})\n"
     ]
    },
    {
     "name": "stderr",
     "output_type": "stream",
     "text": [
      "  8%|▊         | 8/100 [00:10<02:16,  1.48s/it]"
     ]
    },
    {
     "name": "stdout",
     "output_type": "stream",
     "text": [
      "(\"[('Doctors', 'ORG')],\\n[('emergency', 'MISC')],\\n[('tracheotomy', 'MISC')],\\n[('Czech President Vaclav Havel', 'PER')],\\n[('cancer', 'MISC')],\\n[('surgery', 'MISC')],\\n[('lungs', 'MISC')],\\n[('week', 'MISC')],\\n[('spokesman', 'MISC')],\\n[('Friday', 'MISC')]\\n\\n] <end_output>\", <OpenAIObject chat.completion id=chatcmpl-8hyoXYCwmGosvPryWyqVnKn0BJIKN at 0x7f3a7b8d27a0> JSON: {\n",
      "  \"id\": \"chatcmpl-8hyoXYCwmGosvPryWyqVnKn0BJIKN\",\n",
      "  \"object\": \"chat.completion\",\n",
      "  \"created\": 1705492565,\n",
      "  \"model\": \"gpt-35-turbo\",\n",
      "  \"choices\": [\n",
      "    {\n",
      "      \"finish_reason\": \"stop\",\n",
      "      \"index\": 0,\n",
      "      \"message\": {\n",
      "        \"role\": \"assistant\",\n",
      "        \"content\": \"[('Doctors', 'ORG')],\\n[('emergency', 'MISC')],\\n[('tracheotomy', 'MISC')],\\n[('Czech President Vaclav Havel', 'PER')],\\n[('cancer', 'MISC')],\\n[('surgery', 'MISC')],\\n[('lungs', 'MISC')],\\n[('week', 'MISC')],\\n[('spokesman', 'MISC')],\\n[('Friday', 'MISC')]\\n\\n] <end_output>\"\n",
      "      }\n",
      "    }\n",
      "  ],\n",
      "  \"usage\": {\n",
      "    \"prompt_tokens\": 353,\n",
      "    \"completion_tokens\": 98,\n",
      "    \"total_tokens\": 451\n",
      "  }\n",
      "})\n"
     ]
    },
    {
     "name": "stderr",
     "output_type": "stream",
     "text": [
      "  9%|▉         | 9/100 [00:12<02:26,  1.61s/it]"
     ]
    },
    {
     "name": "stdout",
     "output_type": "stream",
     "text": [
      "(\"[('Santa Fe', 'ORG')], \\n[('Nevada', 'LOC')], \\n[('California', 'LOC')], \\n[('Montana', 'LOC')], \\n[('Canada', 'LOC')], \\n[('Brazil', 'LOC')], \\n[('Australia', 'LOC')], \\n[('Chile', 'LOC')], \\n[('Kazakstan', 'LOC')], \\n[('Mexico', 'LOC')], \\n[('Ghana', 'LOC')]] <end_output>\", <OpenAIObject chat.completion id=chatcmpl-8hyoZx95AT12LBHOTLn4r1JK1EQ5p at 0x7f3a7b53e7f0> JSON: {\n",
      "  \"id\": \"chatcmpl-8hyoZx95AT12LBHOTLn4r1JK1EQ5p\",\n",
      "  \"object\": \"chat.completion\",\n",
      "  \"created\": 1705492567,\n",
      "  \"model\": \"gpt-35-turbo\",\n",
      "  \"choices\": [\n",
      "    {\n",
      "      \"finish_reason\": \"stop\",\n",
      "      \"index\": 0,\n",
      "      \"message\": {\n",
      "        \"role\": \"assistant\",\n",
      "        \"content\": \"[('Santa Fe', 'ORG')], \\n[('Nevada', 'LOC')], \\n[('California', 'LOC')], \\n[('Montana', 'LOC')], \\n[('Canada', 'LOC')], \\n[('Brazil', 'LOC')], \\n[('Australia', 'LOC')], \\n[('Chile', 'LOC')], \\n[('Kazakstan', 'LOC')], \\n[('Mexico', 'LOC')], \\n[('Ghana', 'LOC')]] <end_output>\"\n",
      "      }\n",
      "    }\n",
      "  ],\n",
      "  \"usage\": {\n",
      "    \"prompt_tokens\": 448,\n",
      "    \"completion_tokens\": 111,\n",
      "    \"total_tokens\": 559\n",
      "  }\n",
      "})\n"
     ]
    },
    {
     "name": "stderr",
     "output_type": "stream",
     "text": [
      " 10%|█         | 10/100 [00:13<02:16,  1.52s/it]"
     ]
    },
    {
     "name": "stdout",
     "output_type": "stream",
     "text": [
      "(\"('protest', 'MISC'), ('several thousand', 'MISC'), ('Spain', 'LOC')] <end_output>\", <OpenAIObject chat.completion id=chatcmpl-8hyobbYT1iYzu04AljwEakPzfyWrg at 0x7f3a7477dbc0> JSON: {\n",
      "  \"id\": \"chatcmpl-8hyobbYT1iYzu04AljwEakPzfyWrg\",\n",
      "  \"object\": \"chat.completion\",\n",
      "  \"created\": 1705492569,\n",
      "  \"model\": \"gpt-35-turbo\",\n",
      "  \"choices\": [\n",
      "    {\n",
      "      \"finish_reason\": \"stop\",\n",
      "      \"index\": 0,\n",
      "      \"message\": {\n",
      "        \"role\": \"assistant\",\n",
      "        \"content\": \"('protest', 'MISC'), ('several thousand', 'MISC'), ('Spain', 'LOC')] <end_output>\"\n",
      "      }\n",
      "    }\n",
      "  ],\n",
      "  \"usage\": {\n",
      "    \"prompt_tokens\": 389,\n",
      "    \"completion_tokens\": 27,\n",
      "    \"total_tokens\": 416\n",
      "  }\n",
      "})\n"
     ]
    },
    {
     "name": "stderr",
     "output_type": "stream",
     "text": [
      " 11%|█         | 11/100 [00:14<02:05,  1.41s/it]"
     ]
    },
    {
     "name": "stdout",
     "output_type": "stream",
     "text": [
      "(\"[('Darrel Voeks', 'PER'), ('Outagmie County Circuit Court', 'ORG'), ('Dennis Luebke', 'PER')] <end_output>\", <OpenAIObject chat.completion id=chatcmpl-8hyocbtir7YrYiOvbSd14eXLVKHaF at 0x7f3a71d4b740> JSON: {\n",
      "  \"id\": \"chatcmpl-8hyocbtir7YrYiOvbSd14eXLVKHaF\",\n",
      "  \"object\": \"chat.completion\",\n",
      "  \"created\": 1705492570,\n",
      "  \"model\": \"gpt-35-turbo\",\n",
      "  \"choices\": [\n",
      "    {\n",
      "      \"finish_reason\": \"stop\",\n",
      "      \"index\": 0,\n",
      "      \"message\": {\n",
      "        \"role\": \"assistant\",\n",
      "        \"content\": \"[('Darrel Voeks', 'PER'), ('Outagmie County Circuit Court', 'ORG'), ('Dennis Luebke', 'PER')] <end_output>\"\n",
      "      }\n",
      "    }\n",
      "  ],\n",
      "  \"usage\": {\n",
      "    \"prompt_tokens\": 367,\n",
      "    \"completion_tokens\": 36,\n",
      "    \"total_tokens\": 403\n",
      "  }\n",
      "})\n"
     ]
    },
    {
     "name": "stderr",
     "output_type": "stream",
     "text": [
      " 12%|█▏        | 12/100 [00:15<01:54,  1.30s/it]"
     ]
    },
    {
     "name": "stdout",
     "output_type": "stream",
     "text": [
      "(\"<start_output> [('CRICKET', 'MISC'), ('SHEFFIELD SHIELD', 'ORG')] <end_output>\", <OpenAIObject chat.completion id=chatcmpl-8hyodIwRA6dHaGdy9pehTd1D4U9rE at 0x7f3a74530630> JSON: {\n",
      "  \"id\": \"chatcmpl-8hyodIwRA6dHaGdy9pehTd1D4U9rE\",\n",
      "  \"object\": \"chat.completion\",\n",
      "  \"created\": 1705492571,\n",
      "  \"model\": \"gpt-35-turbo\",\n",
      "  \"choices\": [\n",
      "    {\n",
      "      \"finish_reason\": \"stop\",\n",
      "      \"index\": 0,\n",
      "      \"message\": {\n",
      "        \"role\": \"assistant\",\n",
      "        \"content\": \"<start_output> [('CRICKET', 'MISC'), ('SHEFFIELD SHIELD', 'ORG')] <end_output>\"\n",
      "      }\n",
      "    }\n",
      "  ],\n",
      "  \"usage\": {\n",
      "    \"prompt_tokens\": 244,\n",
      "    \"completion_tokens\": 28,\n",
      "    \"total_tokens\": 272\n",
      "  }\n",
      "})\n"
     ]
    },
    {
     "name": "stderr",
     "output_type": "stream",
     "text": [
      " 13%|█▎        | 13/100 [00:16<01:42,  1.18s/it]"
     ]
    },
    {
     "name": "stdout",
     "output_type": "stream",
     "text": [
      "(\"('German Santa', 'MISC'), ('bank', 'ORG')] <end_output>\", <OpenAIObject chat.completion id=chatcmpl-8hyoegmG8n3T3kDhpvtGf9arCBhvZ at 0x7f3aa044c130> JSON: {\n",
      "  \"id\": \"chatcmpl-8hyoegmG8n3T3kDhpvtGf9arCBhvZ\",\n",
      "  \"object\": \"chat.completion\",\n",
      "  \"created\": 1705492572,\n",
      "  \"model\": \"gpt-35-turbo\",\n",
      "  \"choices\": [\n",
      "    {\n",
      "      \"finish_reason\": \"stop\",\n",
      "      \"index\": 0,\n",
      "      \"message\": {\n",
      "        \"role\": \"assistant\",\n",
      "        \"content\": \"('German Santa', 'MISC'), ('bank', 'ORG')] <end_output>\"\n",
      "      }\n",
      "    }\n",
      "  ],\n",
      "  \"usage\": {\n",
      "    \"prompt_tokens\": 352,\n",
      "    \"completion_tokens\": 18,\n",
      "    \"total_tokens\": 370\n",
      "  }\n",
      "})\n"
     ]
    },
    {
     "name": "stderr",
     "output_type": "stream",
     "text": [
      " 14%|█▍        | 14/100 [00:17<01:45,  1.23s/it]"
     ]
    },
    {
     "name": "stdout",
     "output_type": "stream",
     "text": [
      "(\"[('Witnesses', 'PER')],\\n[('Italians', 'MISC')],\\n[('tricolour', 'MISC')],\\n[('red', 'MISC')],\\n[('white', 'MISC')],\\n[('green', 'MISC')],\\n[('Viva Italia', 'MISC')]\\n] <end_output>\", <OpenAIObject chat.completion id=chatcmpl-8hyofOePDr57J6C4amBwx1eP6ZZD5 at 0x7f3a74543010> JSON: {\n",
      "  \"id\": \"chatcmpl-8hyofOePDr57J6C4amBwx1eP6ZZD5\",\n",
      "  \"object\": \"chat.completion\",\n",
      "  \"created\": 1705492573,\n",
      "  \"model\": \"gpt-35-turbo\",\n",
      "  \"choices\": [\n",
      "    {\n",
      "      \"finish_reason\": \"stop\",\n",
      "      \"index\": 0,\n",
      "      \"message\": {\n",
      "        \"role\": \"assistant\",\n",
      "        \"content\": \"[('Witnesses', 'PER')],\\n[('Italians', 'MISC')],\\n[('tricolour', 'MISC')],\\n[('red', 'MISC')],\\n[('white', 'MISC')],\\n[('green', 'MISC')],\\n[('Viva Italia', 'MISC')]\\n] <end_output>\"\n",
      "      }\n",
      "    }\n",
      "  ],\n",
      "  \"usage\": {\n",
      "    \"prompt_tokens\": 453,\n",
      "    \"completion_tokens\": 67,\n",
      "    \"total_tokens\": 520\n",
      "  }\n",
      "})\n"
     ]
    },
    {
     "name": "stderr",
     "output_type": "stream",
     "text": [
      " 15%|█▌        | 15/100 [00:18<01:38,  1.16s/it]"
     ]
    },
    {
     "name": "stdout",
     "output_type": "stream",
     "text": [
      "(\"[('United Arab Emirates', 'LOC'), ('Kuwait', 'LOC')] <end_output>\", <OpenAIObject chat.completion id=chatcmpl-8hyogJ7W7S9pa1HLvrY00jVCLE3hC at 0x7f3a7477f1a0> JSON: {\n",
      "  \"id\": \"chatcmpl-8hyogJ7W7S9pa1HLvrY00jVCLE3hC\",\n",
      "  \"object\": \"chat.completion\",\n",
      "  \"created\": 1705492574,\n",
      "  \"model\": \"gpt-35-turbo\",\n",
      "  \"choices\": [\n",
      "    {\n",
      "      \"finish_reason\": \"stop\",\n",
      "      \"index\": 0,\n",
      "      \"message\": {\n",
      "        \"role\": \"assistant\",\n",
      "        \"content\": \"[('United Arab Emirates', 'LOC'), ('Kuwait', 'LOC')] <end_output>\"\n",
      "      }\n",
      "    }\n",
      "  ],\n",
      "  \"usage\": {\n",
      "    \"prompt_tokens\": 371,\n",
      "    \"completion_tokens\": 21,\n",
      "    \"total_tokens\": 392\n",
      "  }\n",
      "})\n"
     ]
    },
    {
     "name": "stderr",
     "output_type": "stream",
     "text": [
      " 16%|█▌        | 16/100 [00:20<01:39,  1.18s/it]"
     ]
    },
    {
     "name": "stdout",
     "output_type": "stream",
     "text": [
      "(\"('chow chows', 'MISC'), \\n('Rottweilers', 'MISC'), \\n('German shepherds', 'MISC'), \\n('cocker spaniels', 'MISC'), \\n('Dalmatians', 'MISC')] <end_output>\", <OpenAIObject chat.completion id=chatcmpl-8hyohb38iH0283lGNB2pDWynzluym at 0x7f3aa044c130> JSON: {\n",
      "  \"id\": \"chatcmpl-8hyohb38iH0283lGNB2pDWynzluym\",\n",
      "  \"object\": \"chat.completion\",\n",
      "  \"created\": 1705492575,\n",
      "  \"model\": \"gpt-35-turbo\",\n",
      "  \"choices\": [\n",
      "    {\n",
      "      \"finish_reason\": \"stop\",\n",
      "      \"index\": 0,\n",
      "      \"message\": {\n",
      "        \"role\": \"assistant\",\n",
      "        \"content\": \"('chow chows', 'MISC'), \\n('Rottweilers', 'MISC'), \\n('German shepherds', 'MISC'), \\n('cocker spaniels', 'MISC'), \\n('Dalmatians', 'MISC')] <end_output>\"\n",
      "      }\n",
      "    }\n",
      "  ],\n",
      "  \"usage\": {\n",
      "    \"prompt_tokens\": 342,\n",
      "    \"completion_tokens\": 59,\n",
      "    \"total_tokens\": 401\n",
      "  }\n",
      "})\n"
     ]
    },
    {
     "name": "stderr",
     "output_type": "stream",
     "text": [
      " 17%|█▋        | 17/100 [00:21<01:34,  1.14s/it]"
     ]
    },
    {
     "name": "stdout",
     "output_type": "stream",
     "text": [
      "(\"('Their', 'MISC'), \\n('enemies', 'MISC'), \\n('music cassettes', 'MISC')] <end_output>\", <OpenAIObject chat.completion id=chatcmpl-8hyojpgATimeevTwkevfDfEf4Fg1R at 0x7f3a74543010> JSON: {\n",
      "  \"id\": \"chatcmpl-8hyojpgATimeevTwkevfDfEf4Fg1R\",\n",
      "  \"object\": \"chat.completion\",\n",
      "  \"created\": 1705492577,\n",
      "  \"model\": \"gpt-35-turbo\",\n",
      "  \"choices\": [\n",
      "    {\n",
      "      \"finish_reason\": \"stop\",\n",
      "      \"index\": 0,\n",
      "      \"message\": {\n",
      "        \"role\": \"assistant\",\n",
      "        \"content\": \"('Their', 'MISC'), \\n('enemies', 'MISC'), \\n('music cassettes', 'MISC')] <end_output>\"\n",
      "      }\n",
      "    }\n",
      "  ],\n",
      "  \"usage\": {\n",
      "    \"prompt_tokens\": 316,\n",
      "    \"completion_tokens\": 31,\n",
      "    \"total_tokens\": 347\n",
      "  }\n",
      "})\n"
     ]
    },
    {
     "name": "stderr",
     "output_type": "stream",
     "text": [
      " 18%|█▊        | 18/100 [00:22<01:28,  1.08s/it]"
     ]
    },
    {
     "name": "stdout",
     "output_type": "stream",
     "text": [
      "(\"[('Peters', 'PER'), ('Labour', 'ORG'), ('National', 'ORG')] <end_output>\", <OpenAIObject chat.completion id=chatcmpl-8hyokXjEaX9jPscGPEy4UZfITeWWV at 0x7f3a74543010> JSON: {\n",
      "  \"id\": \"chatcmpl-8hyokXjEaX9jPscGPEy4UZfITeWWV\",\n",
      "  \"object\": \"chat.completion\",\n",
      "  \"created\": 1705492578,\n",
      "  \"model\": \"gpt-35-turbo\",\n",
      "  \"choices\": [\n",
      "    {\n",
      "      \"finish_reason\": \"stop\",\n",
      "      \"index\": 0,\n",
      "      \"message\": {\n",
      "        \"role\": \"assistant\",\n",
      "        \"content\": \"[('Peters', 'PER'), ('Labour', 'ORG'), ('National', 'ORG')] <end_output>\"\n",
      "      }\n",
      "    }\n",
      "  ],\n",
      "  \"usage\": {\n",
      "    \"prompt_tokens\": 368,\n",
      "    \"completion_tokens\": 24,\n",
      "    \"total_tokens\": 392\n",
      "  }\n",
      "})\n"
     ]
    },
    {
     "name": "stderr",
     "output_type": "stream",
     "text": [
      " 19%|█▉        | 19/100 [00:23<01:33,  1.16s/it]"
     ]
    },
    {
     "name": "stdout",
     "output_type": "stream",
     "text": [
      "(\"('I', 'PERSON'),\\n('never', 'O'),\\n('tried', 'O'),\\n('it', 'O'),\\n('and', 'O'),\\n('why', 'O'),\\n('should', 'O'),\\n('I', 'PERSON'),\\n('?', 'O')]\", <OpenAIObject chat.completion id=chatcmpl-8hyolwTvy9pnMsskjhm8DUTbnfix5 at 0x7f3a7b8d27a0> JSON: {\n",
      "  \"id\": \"chatcmpl-8hyolwTvy9pnMsskjhm8DUTbnfix5\",\n",
      "  \"object\": \"chat.completion\",\n",
      "  \"created\": 1705492579,\n",
      "  \"model\": \"gpt-35-turbo\",\n",
      "  \"choices\": [\n",
      "    {\n",
      "      \"finish_reason\": \"stop\",\n",
      "      \"index\": 0,\n",
      "      \"message\": {\n",
      "        \"role\": \"assistant\",\n",
      "        \"content\": \"('I', 'PERSON'),\\n('never', 'O'),\\n('tried', 'O'),\\n('it', 'O'),\\n('and', 'O'),\\n('why', 'O'),\\n('should', 'O'),\\n('I', 'PERSON'),\\n('?', 'O')]\"\n",
      "      }\n",
      "    }\n",
      "  ],\n",
      "  \"usage\": {\n",
      "    \"prompt_tokens\": 283,\n",
      "    \"completion_tokens\": 54,\n",
      "    \"total_tokens\": 337\n",
      "  }\n",
      "})\n"
     ]
    },
    {
     "name": "stderr",
     "output_type": "stream",
     "text": [
      " 20%|██        | 20/100 [00:24<01:28,  1.10s/it]"
     ]
    },
    {
     "name": "stdout",
     "output_type": "stream",
     "text": [
      "(\"('Internet', 'MISC'), ('computer network', 'MISC')] <end_output>\", <OpenAIObject chat.completion id=chatcmpl-8hyomeQxsMJwZutWKfNNU8L6rgDtk at 0x7f3a74543010> JSON: {\n",
      "  \"id\": \"chatcmpl-8hyomeQxsMJwZutWKfNNU8L6rgDtk\",\n",
      "  \"object\": \"chat.completion\",\n",
      "  \"created\": 1705492580,\n",
      "  \"model\": \"gpt-35-turbo\",\n",
      "  \"choices\": [\n",
      "    {\n",
      "      \"finish_reason\": \"stop\",\n",
      "      \"index\": 0,\n",
      "      \"message\": {\n",
      "        \"role\": \"assistant\",\n",
      "        \"content\": \"('Internet', 'MISC'), ('computer network', 'MISC')] <end_output>\"\n",
      "      }\n",
      "    }\n",
      "  ],\n",
      "  \"usage\": {\n",
      "    \"prompt_tokens\": 419,\n",
      "    \"completion_tokens\": 19,\n",
      "    \"total_tokens\": 438\n",
      "  }\n",
      "})\n"
     ]
    },
    {
     "name": "stderr",
     "output_type": "stream",
     "text": [
      " 21%|██        | 21/100 [00:25<01:23,  1.06s/it]"
     ]
    },
    {
     "name": "stdout",
     "output_type": "stream",
     "text": [
      "(\"('Turkey', 'ORG'), ('Syrian', 'MISC')] <end_output>\", <OpenAIObject chat.completion id=chatcmpl-8hyone2VOoU5T02VLCQ35GrP1o6W1 at 0x7f3a7b8d1b70> JSON: {\n",
      "  \"id\": \"chatcmpl-8hyone2VOoU5T02VLCQ35GrP1o6W1\",\n",
      "  \"object\": \"chat.completion\",\n",
      "  \"created\": 1705492581,\n",
      "  \"model\": \"gpt-35-turbo\",\n",
      "  \"choices\": [\n",
      "    {\n",
      "      \"finish_reason\": \"stop\",\n",
      "      \"index\": 0,\n",
      "      \"message\": {\n",
      "        \"role\": \"assistant\",\n",
      "        \"content\": \"('Turkey', 'ORG'), ('Syrian', 'MISC')] <end_output>\"\n",
      "      }\n",
      "    }\n",
      "  ],\n",
      "  \"usage\": {\n",
      "    \"prompt_tokens\": 354,\n",
      "    \"completion_tokens\": 18,\n",
      "    \"total_tokens\": 372\n",
      "  }\n",
      "})\n"
     ]
    },
    {
     "name": "stderr",
     "output_type": "stream",
     "text": [
      " 22%|██▏       | 22/100 [00:26<01:31,  1.18s/it]"
     ]
    },
    {
     "name": "stdout",
     "output_type": "stream",
     "text": [
      "(\"[('Rashid', 'PER')], [('Greece', 'LOC')], [('Thursday', 'MISC')], [('prison', 'MISC')], [('good behaviour', 'MISC')], [('8-1/2 years', 'MISC')]] <end_output>\", <OpenAIObject chat.completion id=chatcmpl-8hyoowTakPXT9cH8HkDNzMuI7rcas at 0x7f3a7b8d1b70> JSON: {\n",
      "  \"id\": \"chatcmpl-8hyoowTakPXT9cH8HkDNzMuI7rcas\",\n",
      "  \"object\": \"chat.completion\",\n",
      "  \"created\": 1705492582,\n",
      "  \"model\": \"gpt-35-turbo\",\n",
      "  \"choices\": [\n",
      "    {\n",
      "      \"finish_reason\": \"stop\",\n",
      "      \"index\": 0,\n",
      "      \"message\": {\n",
      "        \"role\": \"assistant\",\n",
      "        \"content\": \"[('Rashid', 'PER')], [('Greece', 'LOC')], [('Thursday', 'MISC')], [('prison', 'MISC')], [('good behaviour', 'MISC')], [('8-1/2 years', 'MISC')]] <end_output>\"\n",
      "      }\n",
      "    }\n",
      "  ],\n",
      "  \"usage\": {\n",
      "    \"prompt_tokens\": 444,\n",
      "    \"completion_tokens\": 61,\n",
      "    \"total_tokens\": 505\n",
      "  }\n",
      "})\n"
     ]
    },
    {
     "name": "stderr",
     "output_type": "stream",
     "text": [
      " 23%|██▎       | 23/100 [00:28<01:38,  1.28s/it]"
     ]
    },
    {
     "name": "stdout",
     "output_type": "stream",
     "text": [
      "(\"[('Lieutenant-General Maurice Baril', 'PER'), ('Nairobi', 'LOC'), ('Goma', 'LOC')], [('150,000', 'MISC')], [('65 km', 'MISC'), ('40 miles', 'MISC')], [('eastern', 'MISC')]] <end_output>\", <OpenAIObject chat.completion id=chatcmpl-8hyopvmMLrtxXnArKk66nlOq26yRZ at 0x7f3a7b8d27a0> JSON: {\n",
      "  \"id\": \"chatcmpl-8hyopvmMLrtxXnArKk66nlOq26yRZ\",\n",
      "  \"object\": \"chat.completion\",\n",
      "  \"created\": 1705492583,\n",
      "  \"model\": \"gpt-35-turbo\",\n",
      "  \"choices\": [\n",
      "    {\n",
      "      \"finish_reason\": \"stop\",\n",
      "      \"index\": 0,\n",
      "      \"message\": {\n",
      "        \"role\": \"assistant\",\n",
      "        \"content\": \"[('Lieutenant-General Maurice Baril', 'PER'), ('Nairobi', 'LOC'), ('Goma', 'LOC')], [('150,000', 'MISC')], [('65 km', 'MISC'), ('40 miles', 'MISC')], [('eastern', 'MISC')]] <end_output>\"\n",
      "      }\n",
      "    }\n",
      "  ],\n",
      "  \"usage\": {\n",
      "    \"prompt_tokens\": 533,\n",
      "    \"completion_tokens\": 67,\n",
      "    \"total_tokens\": 600\n",
      "  }\n",
      "})\n"
     ]
    },
    {
     "name": "stderr",
     "output_type": "stream",
     "text": [
      " 24%|██▍       | 24/100 [00:29<01:32,  1.22s/it]"
     ]
    },
    {
     "name": "stdout",
     "output_type": "stream",
     "text": [
      "(\"('Australia', 'LOC'), ('Barbarians', 'ORG'), ('European', 'MISC'), ('Saturday', 'MISC')]\", <OpenAIObject chat.completion id=chatcmpl-8hyorIdSWix81RKLILwbirDxRkeLg at 0x7f3a74543010> JSON: {\n",
      "  \"id\": \"chatcmpl-8hyorIdSWix81RKLILwbirDxRkeLg\",\n",
      "  \"object\": \"chat.completion\",\n",
      "  \"created\": 1705492585,\n",
      "  \"model\": \"gpt-35-turbo\",\n",
      "  \"choices\": [\n",
      "    {\n",
      "      \"finish_reason\": \"stop\",\n",
      "      \"index\": 0,\n",
      "      \"message\": {\n",
      "        \"role\": \"assistant\",\n",
      "        \"content\": \"('Australia', 'LOC'), ('Barbarians', 'ORG'), ('European', 'MISC'), ('Saturday', 'MISC')]\"\n",
      "      }\n",
      "    }\n",
      "  ],\n",
      "  \"usage\": {\n",
      "    \"prompt_tokens\": 435,\n",
      "    \"completion_tokens\": 28,\n",
      "    \"total_tokens\": 463\n",
      "  }\n",
      "})\n"
     ]
    },
    {
     "name": "stderr",
     "output_type": "stream",
     "text": [
      " 25%|██▌       | 25/100 [00:30<01:25,  1.14s/it]"
     ]
    },
    {
     "name": "stdout",
     "output_type": "stream",
     "text": [
      "(\"('Patasse', 'PER'), ('capital', 'LOC')] <end_output>\", <OpenAIObject chat.completion id=chatcmpl-8hyosQvB6hhguqjc0PrUmoekOPwBk at 0x7f3a7b8d27a0> JSON: {\n",
      "  \"id\": \"chatcmpl-8hyosQvB6hhguqjc0PrUmoekOPwBk\",\n",
      "  \"object\": \"chat.completion\",\n",
      "  \"created\": 1705492586,\n",
      "  \"model\": \"gpt-35-turbo\",\n",
      "  \"choices\": [\n",
      "    {\n",
      "      \"finish_reason\": \"stop\",\n",
      "      \"index\": 0,\n",
      "      \"message\": {\n",
      "        \"role\": \"assistant\",\n",
      "        \"content\": \"('Patasse', 'PER'), ('capital', 'LOC')] <end_output>\"\n",
      "      }\n",
      "    }\n",
      "  ],\n",
      "  \"usage\": {\n",
      "    \"prompt_tokens\": 368,\n",
      "    \"completion_tokens\": 17,\n",
      "    \"total_tokens\": 385\n",
      "  }\n",
      "})\n"
     ]
    },
    {
     "name": "stderr",
     "output_type": "stream",
     "text": [
      " 26%|██▌       | 26/100 [00:31<01:25,  1.15s/it]"
     ]
    },
    {
     "name": "stdout",
     "output_type": "stream",
     "text": [
      "(\"[('Weah', 'PER'), ('Milan', 'ORG'), ('Rosenborg', 'ORG'), ('Norway', 'LOC'), ('Wednesday', 'MISC')] <end_output>\", <OpenAIObject chat.completion id=chatcmpl-8hyotIpykT4kcHxXRNEyysO1SMcmE at 0x7f3a74543010> JSON: {\n",
      "  \"id\": \"chatcmpl-8hyotIpykT4kcHxXRNEyysO1SMcmE\",\n",
      "  \"object\": \"chat.completion\",\n",
      "  \"created\": 1705492587,\n",
      "  \"model\": \"gpt-35-turbo\",\n",
      "  \"choices\": [\n",
      "    {\n",
      "      \"finish_reason\": \"stop\",\n",
      "      \"index\": 0,\n",
      "      \"message\": {\n",
      "        \"role\": \"assistant\",\n",
      "        \"content\": \"[('Weah', 'PER'), ('Milan', 'ORG'), ('Rosenborg', 'ORG'), ('Norway', 'LOC'), ('Wednesday', 'MISC')] <end_output>\"\n",
      "      }\n",
      "    }\n",
      "  ],\n",
      "  \"usage\": {\n",
      "    \"prompt_tokens\": 434,\n",
      "    \"completion_tokens\": 41,\n",
      "    \"total_tokens\": 475\n",
      "  }\n",
      "})\n"
     ]
    },
    {
     "name": "stderr",
     "output_type": "stream",
     "text": [
      " 27%|██▋       | 27/100 [00:32<01:24,  1.16s/it]"
     ]
    },
    {
     "name": "stdout",
     "output_type": "stream",
     "text": [
      "(\"<start_output> [('SCHULZ', 'PER'), ('RIBALTA', 'PER'), ('IBF', 'ORG')] <end_output>\", <OpenAIObject chat.completion id=chatcmpl-8hyouxohqsI6Qc05sr3uDZSo2G6yq at 0x7f3a74543010> JSON: {\n",
      "  \"id\": \"chatcmpl-8hyouxohqsI6Qc05sr3uDZSo2G6yq\",\n",
      "  \"object\": \"chat.completion\",\n",
      "  \"created\": 1705492588,\n",
      "  \"model\": \"gpt-35-turbo\",\n",
      "  \"choices\": [\n",
      "    {\n",
      "      \"finish_reason\": \"stop\",\n",
      "      \"index\": 0,\n",
      "      \"message\": {\n",
      "        \"role\": \"assistant\",\n",
      "        \"content\": \"<start_output> [('SCHULZ', 'PER'), ('RIBALTA', 'PER'), ('IBF', 'ORG')] <end_output>\"\n",
      "      }\n",
      "    }\n",
      "  ],\n",
      "  \"usage\": {\n",
      "    \"prompt_tokens\": 420,\n",
      "    \"completion_tokens\": 33,\n",
      "    \"total_tokens\": 453\n",
      "  }\n",
      "})\n"
     ]
    },
    {
     "name": "stderr",
     "output_type": "stream",
     "text": [
      " 28%|██▊       | 28/100 [00:33<01:23,  1.16s/it]"
     ]
    },
    {
     "name": "stdout",
     "output_type": "stream",
     "text": [
      "(\"[('Brett Liddle', 'PER'), ('Hugh Baiocchi', 'PER'), ('Adilson da Silva', 'PER'), ('Brazil', 'LOC'), ('Sammy Daniels', 'PER')] <end_output>\", <OpenAIObject chat.completion id=chatcmpl-8hyovUazncnoQB25i7NLDvIBtUtvG at 0x7f3a74543010> JSON: {\n",
      "  \"id\": \"chatcmpl-8hyovUazncnoQB25i7NLDvIBtUtvG\",\n",
      "  \"object\": \"chat.completion\",\n",
      "  \"created\": 1705492589,\n",
      "  \"model\": \"gpt-35-turbo\",\n",
      "  \"choices\": [\n",
      "    {\n",
      "      \"finish_reason\": \"stop\",\n",
      "      \"index\": 0,\n",
      "      \"message\": {\n",
      "        \"role\": \"assistant\",\n",
      "        \"content\": \"[('Brett Liddle', 'PER'), ('Hugh Baiocchi', 'PER'), ('Adilson da Silva', 'PER'), ('Brazil', 'LOC'), ('Sammy Daniels', 'PER')] <end_output>\"\n",
      "      }\n",
      "    }\n",
      "  ],\n",
      "  \"usage\": {\n",
      "    \"prompt_tokens\": 606,\n",
      "    \"completion_tokens\": 47,\n",
      "    \"total_tokens\": 653\n",
      "  }\n",
      "})\n"
     ]
    },
    {
     "name": "stderr",
     "output_type": "stream",
     "text": [
      " 29%|██▉       | 29/100 [00:34<01:18,  1.11s/it]"
     ]
    },
    {
     "name": "stdout",
     "output_type": "stream",
     "text": [
      "(\"('newspaper', 'ORG'), ('girl', 'PER'), ('hospital', 'LOC')]\", <OpenAIObject chat.completion id=chatcmpl-8hyowYMbNPF4cxop1EmSADwIUpqo3 at 0x7f3aa044ca40> JSON: {\n",
      "  \"id\": \"chatcmpl-8hyowYMbNPF4cxop1EmSADwIUpqo3\",\n",
      "  \"object\": \"chat.completion\",\n",
      "  \"created\": 1705492590,\n",
      "  \"model\": \"gpt-35-turbo\",\n",
      "  \"choices\": [\n",
      "    {\n",
      "      \"finish_reason\": \"stop\",\n",
      "      \"index\": 0,\n",
      "      \"message\": {\n",
      "        \"role\": \"assistant\",\n",
      "        \"content\": \"('newspaper', 'ORG'), ('girl', 'PER'), ('hospital', 'LOC')]\"\n",
      "      }\n",
      "    }\n",
      "  ],\n",
      "  \"usage\": {\n",
      "    \"prompt_tokens\": 384,\n",
      "    \"completion_tokens\": 20,\n",
      "    \"total_tokens\": 404\n",
      "  }\n",
      "})\n"
     ]
    },
    {
     "name": "stderr",
     "output_type": "stream",
     "text": [
      " 30%|███       | 30/100 [00:36<01:17,  1.11s/it]"
     ]
    },
    {
     "name": "stdout",
     "output_type": "stream",
     "text": [
      "(\"[('Voeks', 'PER')], [('ex-wife', 'PER')], [('children', 'PER')]] <end_output>\", <OpenAIObject chat.completion id=chatcmpl-8hyoxpR17QSyhv3g5kWfe0rbFCuN2 at 0x7f3aa044ca40> JSON: {\n",
      "  \"id\": \"chatcmpl-8hyoxpR17QSyhv3g5kWfe0rbFCuN2\",\n",
      "  \"object\": \"chat.completion\",\n",
      "  \"created\": 1705492591,\n",
      "  \"model\": \"gpt-35-turbo\",\n",
      "  \"choices\": [\n",
      "    {\n",
      "      \"finish_reason\": \"stop\",\n",
      "      \"index\": 0,\n",
      "      \"message\": {\n",
      "        \"role\": \"assistant\",\n",
      "        \"content\": \"[('Voeks', 'PER')], [('ex-wife', 'PER')], [('children', 'PER')]] <end_output>\"\n",
      "      }\n",
      "    }\n",
      "  ],\n",
      "  \"usage\": {\n",
      "    \"prompt_tokens\": 386,\n",
      "    \"completion_tokens\": 28,\n",
      "    \"total_tokens\": 414\n",
      "  }\n",
      "})\n"
     ]
    },
    {
     "name": "stderr",
     "output_type": "stream",
     "text": [
      " 31%|███       | 31/100 [00:37<01:28,  1.28s/it]"
     ]
    },
    {
     "name": "stdout",
     "output_type": "stream",
     "text": [
      "(\"('health authority', 'ORG'), \\n('spokeswoman', 'PERSON'), \\n('78', 'MISC'), \\n('people', 'MISC'), \\n('disease', 'MISC'), \\n('64', 'MISC'), \\n('confirmed cases', 'MISC')] <end_output>\", <OpenAIObject chat.completion id=chatcmpl-8hyoybQC1yVJA0d32lPMgE7XfIrGX at 0x7f3a7b8d27a0> JSON: {\n",
      "  \"id\": \"chatcmpl-8hyoybQC1yVJA0d32lPMgE7XfIrGX\",\n",
      "  \"object\": \"chat.completion\",\n",
      "  \"created\": 1705492592,\n",
      "  \"model\": \"gpt-35-turbo\",\n",
      "  \"choices\": [\n",
      "    {\n",
      "      \"finish_reason\": \"stop\",\n",
      "      \"index\": 0,\n",
      "      \"message\": {\n",
      "        \"role\": \"assistant\",\n",
      "        \"content\": \"('health authority', 'ORG'), \\n('spokeswoman', 'PERSON'), \\n('78', 'MISC'), \\n('people', 'MISC'), \\n('disease', 'MISC'), \\n('64', 'MISC'), \\n('confirmed cases', 'MISC')] <end_output>\"\n",
      "      }\n",
      "    }\n",
      "  ],\n",
      "  \"usage\": {\n",
      "    \"prompt_tokens\": 306,\n",
      "    \"completion_tokens\": 62,\n",
      "    \"total_tokens\": 368\n",
      "  }\n",
      "})\n"
     ]
    },
    {
     "name": "stderr",
     "output_type": "stream",
     "text": [
      " 32%|███▏      | 32/100 [00:38<01:22,  1.21s/it]"
     ]
    },
    {
     "name": "stdout",
     "output_type": "stream",
     "text": [
      "(\"('112', 'MISC'), ('overall', 'MISC')]\", <OpenAIObject chat.completion id=chatcmpl-8hyp0ab7RxI7PDg6Xwt5c5w5bZnvN at 0x7f3a7477c130> JSON: {\n",
      "  \"id\": \"chatcmpl-8hyp0ab7RxI7PDg6Xwt5c5w5bZnvN\",\n",
      "  \"object\": \"chat.completion\",\n",
      "  \"created\": 1705492594,\n",
      "  \"model\": \"gpt-35-turbo\",\n",
      "  \"choices\": [\n",
      "    {\n",
      "      \"finish_reason\": \"stop\",\n",
      "      \"index\": 0,\n",
      "      \"message\": {\n",
      "        \"role\": \"assistant\",\n",
      "        \"content\": \"('112', 'MISC'), ('overall', 'MISC')]\"\n",
      "      }\n",
      "    }\n",
      "  ],\n",
      "  \"usage\": {\n",
      "    \"prompt_tokens\": 297,\n",
      "    \"completion_tokens\": 14,\n",
      "    \"total_tokens\": 311\n",
      "  }\n",
      "})\n"
     ]
    },
    {
     "name": "stderr",
     "output_type": "stream",
     "text": [
      " 33%|███▎      | 33/100 [00:40<01:23,  1.25s/it]"
     ]
    },
    {
     "name": "stdout",
     "output_type": "stream",
     "text": [
      "(\"('Standings', 'O'),\\n('played', 'O'),\\n('won', 'O'),\\n('drawn', 'O'),\\n('lost', 'O'),\\n('goals', 'O')]\\n\\n<end_output>\", <OpenAIObject chat.completion id=chatcmpl-8hyp1A5w13OyYyxq5fmySLqHSoxxE at 0x7f3a74543010> JSON: {\n",
      "  \"id\": \"chatcmpl-8hyp1A5w13OyYyxq5fmySLqHSoxxE\",\n",
      "  \"object\": \"chat.completion\",\n",
      "  \"created\": 1705492595,\n",
      "  \"model\": \"gpt-35-turbo\",\n",
      "  \"choices\": [\n",
      "    {\n",
      "      \"finish_reason\": \"stop\",\n",
      "      \"index\": 0,\n",
      "      \"message\": {\n",
      "        \"role\": \"assistant\",\n",
      "        \"content\": \"('Standings', 'O'),\\n('played', 'O'),\\n('won', 'O'),\\n('drawn', 'O'),\\n('lost', 'O'),\\n('goals', 'O')]\\n\\n<end_output>\"\n",
      "      }\n",
      "    }\n",
      "  ],\n",
      "  \"usage\": {\n",
      "    \"prompt_tokens\": 285,\n",
      "    \"completion_tokens\": 43,\n",
      "    \"total_tokens\": 328\n",
      "  }\n",
      "})\n"
     ]
    },
    {
     "name": "stderr",
     "output_type": "stream",
     "text": [
      " 34%|███▍      | 34/100 [00:41<01:23,  1.27s/it]"
     ]
    },
    {
     "name": "stdout",
     "output_type": "stream",
     "text": [
      "(\"[('African', 'MISC')],\\n[('council', 'ORG')],\\n[('voting', 'MISC')],\\n[('next week', 'MISC')],\\n[('procedure', 'MISC')],\\n[('decision', 'MISC')],\\n[('bitter fight', 'MISC')],\\n[('vetoes', 'MISC')]\\n] <end_output>\", <OpenAIObject chat.completion id=chatcmpl-8hyp294y5E7UNFrlwrTC1Q0xqcKtG at 0x7f3aa044c130> JSON: {\n",
      "  \"id\": \"chatcmpl-8hyp294y5E7UNFrlwrTC1Q0xqcKtG\",\n",
      "  \"object\": \"chat.completion\",\n",
      "  \"created\": 1705492596,\n",
      "  \"model\": \"gpt-35-turbo\",\n",
      "  \"choices\": [\n",
      "    {\n",
      "      \"finish_reason\": \"stop\",\n",
      "      \"index\": 0,\n",
      "      \"message\": {\n",
      "        \"role\": \"assistant\",\n",
      "        \"content\": \"[('African', 'MISC')],\\n[('council', 'ORG')],\\n[('voting', 'MISC')],\\n[('next week', 'MISC')],\\n[('procedure', 'MISC')],\\n[('decision', 'MISC')],\\n[('bitter fight', 'MISC')],\\n[('vetoes', 'MISC')]\\n] <end_output>\"\n",
      "      }\n",
      "    }\n",
      "  ],\n",
      "  \"usage\": {\n",
      "    \"prompt_tokens\": 443,\n",
      "    \"completion_tokens\": 75,\n",
      "    \"total_tokens\": 518\n",
      "  }\n",
      "})\n"
     ]
    },
    {
     "name": "stderr",
     "output_type": "stream",
     "text": [
      " 35%|███▌      | 35/100 [00:42<01:17,  1.19s/it]"
     ]
    },
    {
     "name": "stdout",
     "output_type": "stream",
     "text": [
      "(\"[('Zimbabwe Open', 'MISC'), ('Saturday', 'MISC'), ('South African', 'MISC')]\", <OpenAIObject chat.completion id=chatcmpl-8hyp4ZscrID2VgKyZf6Z351DctJ1F at 0x7f3a7477f1a0> JSON: {\n",
      "  \"id\": \"chatcmpl-8hyp4ZscrID2VgKyZf6Z351DctJ1F\",\n",
      "  \"object\": \"chat.completion\",\n",
      "  \"created\": 1705492598,\n",
      "  \"model\": \"gpt-35-turbo\",\n",
      "  \"choices\": [\n",
      "    {\n",
      "      \"finish_reason\": \"stop\",\n",
      "      \"index\": 0,\n",
      "      \"message\": {\n",
      "        \"role\": \"assistant\",\n",
      "        \"content\": \"[('Zimbabwe Open', 'MISC'), ('Saturday', 'MISC'), ('South African', 'MISC')]\\n\\n\"\n",
      "      }\n",
      "    }\n",
      "  ],\n",
      "  \"usage\": {\n",
      "    \"prompt_tokens\": 397,\n",
      "    \"completion_tokens\": 26,\n",
      "    \"total_tokens\": 423\n",
      "  }\n",
      "})\n"
     ]
    },
    {
     "name": "stderr",
     "output_type": "stream",
     "text": [
      " 36%|███▌      | 36/100 [00:43<01:14,  1.17s/it]"
     ]
    },
    {
     "name": "stdout",
     "output_type": "stream",
     "text": [
      "(\"[('Pace', 'PER'), ('Ohio State', 'ORG'), ('Rose Bowl', 'MISC'), ('Arizona State', 'ORG')] <end_output>\", <OpenAIObject chat.completion id=chatcmpl-8hyp5tDKOkx8hsZdv4a7al8Vi48Qo at 0x7f3a7477f1a0> JSON: {\n",
      "  \"id\": \"chatcmpl-8hyp5tDKOkx8hsZdv4a7al8Vi48Qo\",\n",
      "  \"object\": \"chat.completion\",\n",
      "  \"created\": 1705492599,\n",
      "  \"model\": \"gpt-35-turbo\",\n",
      "  \"choices\": [\n",
      "    {\n",
      "      \"finish_reason\": \"stop\",\n",
      "      \"index\": 0,\n",
      "      \"message\": {\n",
      "        \"role\": \"assistant\",\n",
      "        \"content\": \"[('Pace', 'PER'), ('Ohio State', 'ORG'), ('Rose Bowl', 'MISC'), ('Arizona State', 'ORG')] <end_output>\"\n",
      "      }\n",
      "    }\n",
      "  ],\n",
      "  \"usage\": {\n",
      "    \"prompt_tokens\": 409,\n",
      "    \"completion_tokens\": 34,\n",
      "    \"total_tokens\": 443\n",
      "  }\n",
      "})\n"
     ]
    },
    {
     "name": "stderr",
     "output_type": "stream",
     "text": [
      " 37%|███▋      | 37/100 [00:44<01:10,  1.11s/it]"
     ]
    },
    {
     "name": "stdout",
     "output_type": "stream",
     "text": [
      "(\"('All four teams', 'miscellaneous'),\\n('one point', 'miscellaneous'),\\n('one game', 'miscellaneous')\\n] <end_output>\", <OpenAIObject chat.completion id=chatcmpl-8hyp6utAIM9Gb21Hug42m9wgVwMjQ at 0x7f3a7477f1a0> JSON: {\n",
      "  \"id\": \"chatcmpl-8hyp6utAIM9Gb21Hug42m9wgVwMjQ\",\n",
      "  \"object\": \"chat.completion\",\n",
      "  \"created\": 1705492600,\n",
      "  \"model\": \"gpt-35-turbo\",\n",
      "  \"choices\": [\n",
      "    {\n",
      "      \"finish_reason\": \"stop\",\n",
      "      \"index\": 0,\n",
      "      \"message\": {\n",
      "        \"role\": \"assistant\",\n",
      "        \"content\": \"('All four teams', 'miscellaneous'),\\n('one point', 'miscellaneous'),\\n('one game', 'miscellaneous')\\n] <end_output>\"\n",
      "      }\n",
      "    }\n",
      "  ],\n",
      "  \"usage\": {\n",
      "    \"prompt_tokens\": 254,\n",
      "    \"completion_tokens\": 30,\n",
      "    \"total_tokens\": 284\n",
      "  }\n",
      "})\n",
      "-----------------------------------------------\n",
      "response does not contain [()]. Returned [('All four teams', 'miscellaneous'),\n",
      "('one point', 'miscellaneous'),\n",
      "('one game', 'miscellaneous')\n",
      "] <end_output>\n",
      "-----------------------------------------------\n"
     ]
    },
    {
     "name": "stderr",
     "output_type": "stream",
     "text": [
      " 38%|███▊      | 38/100 [00:45<01:07,  1.10s/it]"
     ]
    },
    {
     "name": "stdout",
     "output_type": "stream",
     "text": [
      "(\"<start_output> [('TEMBAU DENPASAR', 'MISC'), ('Bali', 'LOC')] <end_output>\", <OpenAIObject chat.completion id=chatcmpl-8hyp732WT89RacMjbI3kMHxAp5NbL at 0x7f3a7477f1a0> JSON: {\n",
      "  \"id\": \"chatcmpl-8hyp732WT89RacMjbI3kMHxAp5NbL\",\n",
      "  \"object\": \"chat.completion\",\n",
      "  \"created\": 1705492601,\n",
      "  \"model\": \"gpt-35-turbo\",\n",
      "  \"choices\": [\n",
      "    {\n",
      "      \"finish_reason\": \"stop\",\n",
      "      \"index\": 0,\n",
      "      \"message\": {\n",
      "        \"role\": \"assistant\",\n",
      "        \"content\": \"<start_output> [('TEMBAU DENPASAR', 'MISC'), ('Bali', 'LOC')] <end_output>\"\n",
      "      }\n",
      "    }\n",
      "  ],\n",
      "  \"usage\": {\n",
      "    \"prompt_tokens\": 369,\n",
      "    \"completion_tokens\": 28,\n",
      "    \"total_tokens\": 397\n",
      "  }\n",
      "})\n"
     ]
    },
    {
     "name": "stderr",
     "output_type": "stream",
     "text": [
      " 39%|███▉      | 39/100 [00:46<01:10,  1.15s/it]"
     ]
    },
    {
     "name": "stdout",
     "output_type": "stream",
     "text": [
      "(\"('Michael Cornwell', 'PER'), ('Glencoe Animal Hospital', 'ORG'), ('Columbus', 'LOC'), ('Ohio', 'LOC'), ('American Veterinary Medical Association', 'ORG')] <end_output>\", <OpenAIObject chat.completion id=chatcmpl-8hyp8wIZ5i1qfn7b6BrH8ZbmVzlXX at 0x7f3a7b8d27a0> JSON: {\n",
      "  \"id\": \"chatcmpl-8hyp8wIZ5i1qfn7b6BrH8ZbmVzlXX\",\n",
      "  \"object\": \"chat.completion\",\n",
      "  \"created\": 1705492602,\n",
      "  \"model\": \"gpt-35-turbo\",\n",
      "  \"choices\": [\n",
      "    {\n",
      "      \"finish_reason\": \"stop\",\n",
      "      \"index\": 0,\n",
      "      \"message\": {\n",
      "        \"role\": \"assistant\",\n",
      "        \"content\": \"('Michael Cornwell', 'PER'), ('Glencoe Animal Hospital', 'ORG'), ('Columbus', 'LOC'), ('Ohio', 'LOC'), ('American Veterinary Medical Association', 'ORG')] <end_output>\"\n",
      "      }\n",
      "    }\n",
      "  ],\n",
      "  \"usage\": {\n",
      "    \"prompt_tokens\": 368,\n",
      "    \"completion_tokens\": 45,\n",
      "    \"total_tokens\": 413\n",
      "  }\n",
      "})\n"
     ]
    },
    {
     "name": "stderr",
     "output_type": "stream",
     "text": [
      " 40%|████      | 40/100 [00:48<01:12,  1.21s/it]"
     ]
    },
    {
     "name": "stdout",
     "output_type": "stream",
     "text": [
      "(\"[('Burmese', 'MISC')],\\n[('Rangoon', 'LOC')],\\n[('Ranyon', 'LOC')],\\n[('University', 'ORG')],\\n[('Saturday', 'MISC')]\\n] <end_output>\", <OpenAIObject chat.completion id=chatcmpl-8hyp9PqunowcN0QFRbU06VC7DXHhX at 0x7f3a7b8d27a0> JSON: {\n",
      "  \"id\": \"chatcmpl-8hyp9PqunowcN0QFRbU06VC7DXHhX\",\n",
      "  \"object\": \"chat.completion\",\n",
      "  \"created\": 1705492603,\n",
      "  \"model\": \"gpt-35-turbo\",\n",
      "  \"choices\": [\n",
      "    {\n",
      "      \"finish_reason\": \"stop\",\n",
      "      \"index\": 0,\n",
      "      \"message\": {\n",
      "        \"role\": \"assistant\",\n",
      "        \"content\": \"[('Burmese', 'MISC')],\\n[('Rangoon', 'LOC')],\\n[('Ranyon', 'LOC')],\\n[('University', 'ORG')],\\n[('Saturday', 'MISC')]\\n] <end_output>\"\n",
      "      }\n",
      "    }\n",
      "  ],\n",
      "  \"usage\": {\n",
      "    \"prompt_tokens\": 347,\n",
      "    \"completion_tokens\": 48,\n",
      "    \"total_tokens\": 395\n",
      "  }\n",
      "})\n"
     ]
    },
    {
     "name": "stderr",
     "output_type": "stream",
     "text": [
      " 41%|████      | 41/100 [00:49<01:13,  1.24s/it]"
     ]
    },
    {
     "name": "stdout",
     "output_type": "stream",
     "text": [
      "(\"[('dollar', 'MISC'), ('1.5338 marks', 'MISC'), ('Frankfurt', 'LOC'), ('Friday', 'MISC'), ('1.5607 marks', 'MISC'), ('Thursday', 'MISC')] <end_output>\", <OpenAIObject chat.completion id=chatcmpl-8hypBmcD2P8cnrl3W3sL4kFwTimzI at 0x7f3aa044c860> JSON: {\n",
      "  \"id\": \"chatcmpl-8hypBmcD2P8cnrl3W3sL4kFwTimzI\",\n",
      "  \"object\": \"chat.completion\",\n",
      "  \"created\": 1705492605,\n",
      "  \"model\": \"gpt-35-turbo\",\n",
      "  \"choices\": [\n",
      "    {\n",
      "      \"finish_reason\": \"stop\",\n",
      "      \"index\": 0,\n",
      "      \"message\": {\n",
      "        \"role\": \"assistant\",\n",
      "        \"content\": \"[('dollar', 'MISC'), ('1.5338 marks', 'MISC'), ('Frankfurt', 'LOC'), ('Friday', 'MISC'), ('1.5607 marks', 'MISC'), ('Thursday', 'MISC')] <end_output>\"\n",
      "      }\n",
      "    }\n",
      "  ],\n",
      "  \"usage\": {\n",
      "    \"prompt_tokens\": 358,\n",
      "    \"completion_tokens\": 56,\n",
      "    \"total_tokens\": 414\n",
      "  }\n",
      "})\n"
     ]
    },
    {
     "name": "stderr",
     "output_type": "stream",
     "text": [
      " 42%|████▏     | 42/100 [00:50<01:08,  1.18s/it]"
     ]
    },
    {
     "name": "stdout",
     "output_type": "stream",
     "text": [
      "(\"[('Saeed Anwar', 'PER')]\", <OpenAIObject chat.completion id=chatcmpl-8hypC8gjcALwaQ042RTQXhDtayPei at 0x7f3a7477c130> JSON: {\n",
      "  \"id\": \"chatcmpl-8hypC8gjcALwaQ042RTQXhDtayPei\",\n",
      "  \"object\": \"chat.completion\",\n",
      "  \"created\": 1705492606,\n",
      "  \"model\": \"gpt-35-turbo\",\n",
      "  \"choices\": [\n",
      "    {\n",
      "      \"finish_reason\": \"stop\",\n",
      "      \"index\": 0,\n",
      "      \"message\": {\n",
      "        \"role\": \"assistant\",\n",
      "        \"content\": \"[('Saeed Anwar', 'PER')]\"\n",
      "      }\n",
      "    }\n",
      "  ],\n",
      "  \"usage\": {\n",
      "    \"prompt_tokens\": 365,\n",
      "    \"completion_tokens\": 11,\n",
      "    \"total_tokens\": 376\n",
      "  }\n",
      "})\n"
     ]
    },
    {
     "name": "stderr",
     "output_type": "stream",
     "text": [
      " 43%|████▎     | 43/100 [00:51<01:06,  1.17s/it]"
     ]
    },
    {
     "name": "stdout",
     "output_type": "stream",
     "text": [
      "(\"<start_output> [('U.S.', 'ORG'), ('Friday', 'MISC'), ('St. Louis Merchants Exchange', 'ORG')] <end_output>\", <OpenAIObject chat.completion id=chatcmpl-8hypDZL9pry70HCbb0tIyLtJeqV4A at 0x7f3a74543010> JSON: {\n",
      "  \"id\": \"chatcmpl-8hypDZL9pry70HCbb0tIyLtJeqV4A\",\n",
      "  \"object\": \"chat.completion\",\n",
      "  \"created\": 1705492607,\n",
      "  \"model\": \"gpt-35-turbo\",\n",
      "  \"choices\": [\n",
      "    {\n",
      "      \"finish_reason\": \"stop\",\n",
      "      \"index\": 0,\n",
      "      \"message\": {\n",
      "        \"role\": \"assistant\",\n",
      "        \"content\": \"<start_output> [('U.S.', 'ORG'), ('Friday', 'MISC'), ('St. Louis Merchants Exchange', 'ORG')] <end_output>\"\n",
      "      }\n",
      "    }\n",
      "  ],\n",
      "  \"usage\": {\n",
      "    \"prompt_tokens\": 327,\n",
      "    \"completion_tokens\": 33,\n",
      "    \"total_tokens\": 360\n",
      "  }\n",
      "})\n"
     ]
    },
    {
     "name": "stderr",
     "output_type": "stream",
     "text": [
      " 44%|████▍     | 44/100 [00:52<01:06,  1.18s/it]"
     ]
    },
    {
     "name": "stdout",
     "output_type": "stream",
     "text": [
      "(\"[('Patrick Vieira', 'PER'), ('Arsenal', 'ORG'), ('Derby', 'LOC'), ('Saturday', 'MISC')] <end_output>\", <OpenAIObject chat.completion id=chatcmpl-8hypEKvrKruUADfelxMI30mQ5kunK at 0x7f3a74543010> JSON: {\n",
      "  \"id\": \"chatcmpl-8hypEKvrKruUADfelxMI30mQ5kunK\",\n",
      "  \"object\": \"chat.completion\",\n",
      "  \"created\": 1705492608,\n",
      "  \"model\": \"gpt-35-turbo\",\n",
      "  \"choices\": [\n",
      "    {\n",
      "      \"finish_reason\": \"stop\",\n",
      "      \"index\": 0,\n",
      "      \"message\": {\n",
      "        \"role\": \"assistant\",\n",
      "        \"content\": \"[('Patrick Vieira', 'PER'), ('Arsenal', 'ORG'), ('Derby', 'LOC'), ('Saturday', 'MISC')] <end_output>\"\n",
      "      }\n",
      "    }\n",
      "  ],\n",
      "  \"usage\": {\n",
      "    \"prompt_tokens\": 439,\n",
      "    \"completion_tokens\": 34,\n",
      "    \"total_tokens\": 473\n",
      "  }\n",
      "})\n"
     ]
    },
    {
     "name": "stderr",
     "output_type": "stream",
     "text": [
      " 45%|████▌     | 45/100 [00:54<01:08,  1.24s/it]"
     ]
    },
    {
     "name": "stdout",
     "output_type": "stream",
     "text": [
      "(\"('Police', 'ORG'), ('heroin', 'MISC'), ('Belgian', 'MISC'), ('francs', 'MISC'), ('public prosecutor', 'ORG'), ('Antwerp', 'LOC')] <end_output>\", <OpenAIObject chat.completion id=chatcmpl-8hypFLCK2QIc6NaHi9fBEmzM6UxrN at 0x7f3a7477c130> JSON: {\n",
      "  \"id\": \"chatcmpl-8hypFLCK2QIc6NaHi9fBEmzM6UxrN\",\n",
      "  \"object\": \"chat.completion\",\n",
      "  \"created\": 1705492609,\n",
      "  \"model\": \"gpt-35-turbo\",\n",
      "  \"choices\": [\n",
      "    {\n",
      "      \"finish_reason\": \"stop\",\n",
      "      \"index\": 0,\n",
      "      \"message\": {\n",
      "        \"role\": \"assistant\",\n",
      "        \"content\": \"('Police', 'ORG'), ('heroin', 'MISC'), ('Belgian', 'MISC'), ('francs', 'MISC'), ('public prosecutor', 'ORG'), ('Antwerp', 'LOC')] <end_output>\"\n",
      "      }\n",
      "    }\n",
      "  ],\n",
      "  \"usage\": {\n",
      "    \"prompt_tokens\": 397,\n",
      "    \"completion_tokens\": 50,\n",
      "    \"total_tokens\": 447\n",
      "  }\n",
      "})\n"
     ]
    },
    {
     "name": "stderr",
     "output_type": "stream",
     "text": [
      " 46%|████▌     | 46/100 [00:55<01:03,  1.17s/it]"
     ]
    },
    {
     "name": "stdout",
     "output_type": "stream",
     "text": [
      "(\"('strip clubs', 'ORG'), ('big tipper', 'MISC')] <end_output>\", <OpenAIObject chat.completion id=chatcmpl-8hypHbeTUzV6YhqOehlK3kuVJnl3x at 0x7f3aa044c130> JSON: {\n",
      "  \"id\": \"chatcmpl-8hypHbeTUzV6YhqOehlK3kuVJnl3x\",\n",
      "  \"object\": \"chat.completion\",\n",
      "  \"created\": 1705492611,\n",
      "  \"model\": \"gpt-35-turbo\",\n",
      "  \"choices\": [\n",
      "    {\n",
      "      \"finish_reason\": \"stop\",\n",
      "      \"index\": 0,\n",
      "      \"message\": {\n",
      "        \"role\": \"assistant\",\n",
      "        \"content\": \"('strip clubs', 'ORG'), ('big tipper', 'MISC')] <end_output>\"\n",
      "      }\n",
      "    }\n",
      "  ],\n",
      "  \"usage\": {\n",
      "    \"prompt_tokens\": 336,\n",
      "    \"completion_tokens\": 20,\n",
      "    \"total_tokens\": 356\n",
      "  }\n",
      "})\n"
     ]
    },
    {
     "name": "stderr",
     "output_type": "stream",
     "text": [
      " 47%|████▋     | 47/100 [00:56<01:00,  1.14s/it]"
     ]
    },
    {
     "name": "stdout",
     "output_type": "stream",
     "text": [
      "(\"[('GDP', 'MISC')], [('July', 'MISC'), ('September', 'MISC')]] <end_output>\", <OpenAIObject chat.completion id=chatcmpl-8hypImjMFlGSMv4ZR4EUDguAJ0NO9 at 0x7f3aa044ca40> JSON: {\n",
      "  \"id\": \"chatcmpl-8hypImjMFlGSMv4ZR4EUDguAJ0NO9\",\n",
      "  \"object\": \"chat.completion\",\n",
      "  \"created\": 1705492612,\n",
      "  \"model\": \"gpt-35-turbo\",\n",
      "  \"choices\": [\n",
      "    {\n",
      "      \"finish_reason\": \"stop\",\n",
      "      \"index\": 0,\n",
      "      \"message\": {\n",
      "        \"role\": \"assistant\",\n",
      "        \"content\": \"[('GDP', 'MISC')], [('July', 'MISC'), ('September', 'MISC')]] <end_output>\"\n",
      "      }\n",
      "    }\n",
      "  ],\n",
      "  \"usage\": {\n",
      "    \"prompt_tokens\": 405,\n",
      "    \"completion_tokens\": 29,\n",
      "    \"total_tokens\": 434\n",
      "  }\n",
      "})\n"
     ]
    },
    {
     "name": "stderr",
     "output_type": "stream",
     "text": [
      " 48%|████▊     | 48/100 [00:57<00:59,  1.14s/it]"
     ]
    },
    {
     "name": "stdout",
     "output_type": "stream",
     "text": [
      "(\"[('Zieleniec', 'PER')],\\n[('Klaus', 'PER')],\\n[('Czech', 'LOC')],\\n[('Communist', 'MISC')]\\n] <end_output>\", <OpenAIObject chat.completion id=chatcmpl-8hypJ5DOtmR41d9eMyDafVDZd7FCL at 0x7f3aa044c130> JSON: {\n",
      "  \"id\": \"chatcmpl-8hypJ5DOtmR41d9eMyDafVDZd7FCL\",\n",
      "  \"object\": \"chat.completion\",\n",
      "  \"created\": 1705492613,\n",
      "  \"model\": \"gpt-35-turbo\",\n",
      "  \"choices\": [\n",
      "    {\n",
      "      \"finish_reason\": \"stop\",\n",
      "      \"index\": 0,\n",
      "      \"message\": {\n",
      "        \"role\": \"assistant\",\n",
      "        \"content\": \"[('Zieleniec', 'PER')],\\n[('Klaus', 'PER')],\\n[('Czech', 'LOC')],\\n[('Communist', 'MISC')]\\n] <end_output>\"\n",
      "      }\n",
      "    }\n",
      "  ],\n",
      "  \"usage\": {\n",
      "    \"prompt_tokens\": 451,\n",
      "    \"completion_tokens\": 40,\n",
      "    \"total_tokens\": 491\n",
      "  }\n",
      "})\n"
     ]
    },
    {
     "name": "stderr",
     "output_type": "stream",
     "text": [
      " 49%|████▉     | 49/100 [00:58<00:58,  1.15s/it]"
     ]
    },
    {
     "name": "stdout",
     "output_type": "stream",
     "text": [
      "(\"[('Pakistan', 'LOC')],\\n[('Australia', 'LOC')],\\n[('World Series', 'MISC')]\\n] <end_output>\", <OpenAIObject chat.completion id=chatcmpl-8hypKkZtSjvT5nML1Ds4zvFa6UFm1 at 0x7f3aa044c130> JSON: {\n",
      "  \"id\": \"chatcmpl-8hypKkZtSjvT5nML1Ds4zvFa6UFm1\",\n",
      "  \"object\": \"chat.completion\",\n",
      "  \"created\": 1705492614,\n",
      "  \"model\": \"gpt-35-turbo\",\n",
      "  \"choices\": [\n",
      "    {\n",
      "      \"finish_reason\": \"stop\",\n",
      "      \"index\": 0,\n",
      "      \"message\": {\n",
      "        \"role\": \"assistant\",\n",
      "        \"content\": \"[('Pakistan', 'LOC')],\\n[('Australia', 'LOC')],\\n[('World Series', 'MISC')]\\n] <end_output>\"\n",
      "      }\n",
      "    }\n",
      "  ],\n",
      "  \"usage\": {\n",
      "    \"prompt_tokens\": 343,\n",
      "    \"completion_tokens\": 28,\n",
      "    \"total_tokens\": 371\n",
      "  }\n",
      "})\n"
     ]
    },
    {
     "name": "stderr",
     "output_type": "stream",
     "text": [
      " 50%|█████     | 50/100 [00:59<00:57,  1.14s/it]"
     ]
    },
    {
     "name": "stdout",
     "output_type": "stream",
     "text": [
      "(\"[('Bre-X', 'ORG'), ('Barrick', 'ORG')] <end_output>\", <OpenAIObject chat.completion id=chatcmpl-8hypLMKMzItAJMCEBrPqE1SngeEbH at 0x7f3a7b8d27a0> JSON: {\n",
      "  \"id\": \"chatcmpl-8hypLMKMzItAJMCEBrPqE1SngeEbH\",\n",
      "  \"object\": \"chat.completion\",\n",
      "  \"created\": 1705492615,\n",
      "  \"model\": \"gpt-35-turbo\",\n",
      "  \"choices\": [\n",
      "    {\n",
      "      \"finish_reason\": \"stop\",\n",
      "      \"index\": 0,\n",
      "      \"message\": {\n",
      "        \"role\": \"assistant\",\n",
      "        \"content\": \"[('Bre-X', 'ORG'), ('Barrick', 'ORG')] <end_output>\"\n",
      "      }\n",
      "    }\n",
      "  ],\n",
      "  \"usage\": {\n",
      "    \"prompt_tokens\": 437,\n",
      "    \"completion_tokens\": 20,\n",
      "    \"total_tokens\": 457\n",
      "  }\n",
      "})\n"
     ]
    },
    {
     "name": "stderr",
     "output_type": "stream",
     "text": [
      " 51%|█████     | 51/100 [01:00<00:55,  1.14s/it]"
     ]
    },
    {
     "name": "stdout",
     "output_type": "stream",
     "text": [
      "('I apologize for the confusion. Could you please provide me with a sentence so that I can extract the named entities for you?', <OpenAIObject chat.completion id=chatcmpl-8hypMyxl9WKhLwQGrEAmnYhloYKUw at 0x7f3a7b8d27a0> JSON: {\n",
      "  \"id\": \"chatcmpl-8hypMyxl9WKhLwQGrEAmnYhloYKUw\",\n",
      "  \"object\": \"chat.completion\",\n",
      "  \"created\": 1705492616,\n",
      "  \"model\": \"gpt-35-turbo\",\n",
      "  \"choices\": [\n",
      "    {\n",
      "      \"finish_reason\": \"stop\",\n",
      "      \"index\": 0,\n",
      "      \"message\": {\n",
      "        \"role\": \"assistant\",\n",
      "        \"content\": \"I apologize for the confusion. Could you please provide me with a sentence so that I can extract the named entities for you?\"\n",
      "      }\n",
      "    }\n",
      "  ],\n",
      "  \"usage\": {\n",
      "    \"prompt_tokens\": 332,\n",
      "    \"completion_tokens\": 25,\n",
      "    \"total_tokens\": 357\n",
      "  }\n",
      "})\n",
      "-----------------------------------------------\n",
      "response does not contain [()]. Returned [I apologize for the confusion. Could you please provide me with a sentence so that I can extract the named entities for you?\n",
      "-----------------------------------------------\n"
     ]
    },
    {
     "name": "stderr",
     "output_type": "stream",
     "text": [
      " 52%|█████▏    | 52/100 [01:02<00:53,  1.12s/it]"
     ]
    },
    {
     "name": "stdout",
     "output_type": "stream",
     "text": [
      "(\"[('Doetinchem', 'LOC')],\\n[('The Super Peasants', 'MISC')],\\n[('season', 'MISC')]\\n] <end_output>\", <OpenAIObject chat.completion id=chatcmpl-8hypNJRHiP8zKkyFKS76viYJlUQi8 at 0x7f3a8eed3ce0> JSON: {\n",
      "  \"id\": \"chatcmpl-8hypNJRHiP8zKkyFKS76viYJlUQi8\",\n",
      "  \"object\": \"chat.completion\",\n",
      "  \"created\": 1705492617,\n",
      "  \"model\": \"gpt-35-turbo\",\n",
      "  \"choices\": [\n",
      "    {\n",
      "      \"finish_reason\": \"stop\",\n",
      "      \"index\": 0,\n",
      "      \"message\": {\n",
      "        \"role\": \"assistant\",\n",
      "        \"content\": \"[('Doetinchem', 'LOC')],\\n[('The Super Peasants', 'MISC')],\\n[('season', 'MISC')]\\n] <end_output>\"\n",
      "      }\n",
      "    }\n",
      "  ],\n",
      "  \"usage\": {\n",
      "    \"prompt_tokens\": 335,\n",
      "    \"completion_tokens\": 35,\n",
      "    \"total_tokens\": 370\n",
      "  }\n",
      "})\n"
     ]
    },
    {
     "name": "stderr",
     "output_type": "stream",
     "text": [
      " 53%|█████▎    | 53/100 [01:03<00:56,  1.20s/it]"
     ]
    },
    {
     "name": "stdout",
     "output_type": "stream",
     "text": [
      "(\"('Year', 'DATE'),\\n('March 31 , 1997', 'DATE')\\n] <end_output>\", <OpenAIObject chat.completion id=chatcmpl-8hypPBTTCh0b5koVmj3Bgi5Ur7vkZ at 0x7f3a8eed3ce0> JSON: {\n",
      "  \"id\": \"chatcmpl-8hypPBTTCh0b5koVmj3Bgi5Ur7vkZ\",\n",
      "  \"object\": \"chat.completion\",\n",
      "  \"created\": 1705492619,\n",
      "  \"model\": \"gpt-35-turbo\",\n",
      "  \"choices\": [\n",
      "    {\n",
      "      \"finish_reason\": \"stop\",\n",
      "      \"index\": 0,\n",
      "      \"message\": {\n",
      "        \"role\": \"assistant\",\n",
      "        \"content\": \"('Year', 'DATE'),\\n('March 31 , 1997', 'DATE')\\n] <end_output>\"\n",
      "      }\n",
      "    }\n",
      "  ],\n",
      "  \"usage\": {\n",
      "    \"prompt_tokens\": 265,\n",
      "    \"completion_tokens\": 23,\n",
      "    \"total_tokens\": 288\n",
      "  }\n",
      "})\n",
      "-----------------------------------------------\n",
      "response does not contain [()]. Returned [('Year', 'DATE'),\n",
      "('March 31 , 1997', 'DATE')\n",
      "] <end_output>\n",
      "-----------------------------------------------\n"
     ]
    },
    {
     "name": "stderr",
     "output_type": "stream",
     "text": [
      " 54%|█████▍    | 54/100 [01:04<00:58,  1.27s/it]"
     ]
    },
    {
     "name": "stdout",
     "output_type": "stream",
     "text": [
      "(\"[('Mexican', 'MISC'), ('Dec 6', 'MISC')] <end_output>\", <OpenAIObject chat.completion id=chatcmpl-8hypQRoEoiiM8D9YASjkXPaYyk5Yx at 0x7f3a7b8d27a0> JSON: {\n",
      "  \"id\": \"chatcmpl-8hypQRoEoiiM8D9YASjkXPaYyk5Yx\",\n",
      "  \"object\": \"chat.completion\",\n",
      "  \"created\": 1705492620,\n",
      "  \"model\": \"gpt-35-turbo\",\n",
      "  \"choices\": [\n",
      "    {\n",
      "      \"finish_reason\": \"stop\",\n",
      "      \"index\": 0,\n",
      "      \"message\": {\n",
      "        \"role\": \"assistant\",\n",
      "        \"content\": \"[('Mexican', 'MISC'), ('Dec 6', 'MISC')] <end_output>\"\n",
      "      }\n",
      "    }\n",
      "  ],\n",
      "  \"usage\": {\n",
      "    \"prompt_tokens\": 308,\n",
      "    \"completion_tokens\": 22,\n",
      "    \"total_tokens\": 330\n",
      "  }\n",
      "})\n"
     ]
    },
    {
     "name": "stderr",
     "output_type": "stream",
     "text": [
      " 55%|█████▌    | 55/100 [01:05<00:55,  1.23s/it]"
     ]
    },
    {
     "name": "stdout",
     "output_type": "stream",
     "text": [
      "(\"('won', 'O'),\\n('lost', 'O'),\\n('tied', 'O'),\\n('goals for', 'O'),\\n('goals against', 'O'),\\n('points', 'O')\\n] <end_output>\", <OpenAIObject chat.completion id=chatcmpl-8hypR1QfIUevsz6oIBrgFvQa3pl1F at 0x7f3a8eed3ce0> JSON: {\n",
      "  \"id\": \"chatcmpl-8hypR1QfIUevsz6oIBrgFvQa3pl1F\",\n",
      "  \"object\": \"chat.completion\",\n",
      "  \"created\": 1705492621,\n",
      "  \"model\": \"gpt-35-turbo\",\n",
      "  \"choices\": [\n",
      "    {\n",
      "      \"finish_reason\": \"stop\",\n",
      "      \"index\": 0,\n",
      "      \"message\": {\n",
      "        \"role\": \"assistant\",\n",
      "        \"content\": \"('won', 'O'),\\n('lost', 'O'),\\n('tied', 'O'),\\n('goals for', 'O'),\\n('goals against', 'O'),\\n('points', 'O')\\n] <end_output>\"\n",
      "      }\n",
      "    }\n",
      "  ],\n",
      "  \"usage\": {\n",
      "    \"prompt_tokens\": 264,\n",
      "    \"completion_tokens\": 44,\n",
      "    \"total_tokens\": 308\n",
      "  }\n",
      "})\n",
      "-----------------------------------------------\n",
      "response does not contain [()]. Returned [('won', 'O'),\n",
      "('lost', 'O'),\n",
      "('tied', 'O'),\n",
      "('goals for', 'O'),\n",
      "('goals against', 'O'),\n",
      "('points', 'O')\n",
      "] <end_output>\n",
      "-----------------------------------------------\n"
     ]
    },
    {
     "name": "stderr",
     "output_type": "stream",
     "text": [
      " 56%|█████▌    | 56/100 [01:06<00:50,  1.15s/it]"
     ]
    },
    {
     "name": "stdout",
     "output_type": "stream",
     "text": [
      "(\"('Mexico', 'LOC'), ('Greenspan', 'PER')] <end_output>\", <OpenAIObject chat.completion id=chatcmpl-8hypSGYTtSb6CUFSi8ShqC3h55DVc at 0x7f3a7b7c79c0> JSON: {\n",
      "  \"id\": \"chatcmpl-8hypSGYTtSb6CUFSi8ShqC3h55DVc\",\n",
      "  \"object\": \"chat.completion\",\n",
      "  \"created\": 1705492622,\n",
      "  \"model\": \"gpt-35-turbo\",\n",
      "  \"choices\": [\n",
      "    {\n",
      "      \"finish_reason\": \"stop\",\n",
      "      \"index\": 0,\n",
      "      \"message\": {\n",
      "        \"role\": \"assistant\",\n",
      "        \"content\": \"('Mexico', 'LOC'), ('Greenspan', 'PER')] <end_output>\"\n",
      "      }\n",
      "    }\n",
      "  ],\n",
      "  \"usage\": {\n",
      "    \"prompt_tokens\": 361,\n",
      "    \"completion_tokens\": 18,\n",
      "    \"total_tokens\": 379\n",
      "  }\n",
      "})\n"
     ]
    },
    {
     "name": "stderr",
     "output_type": "stream",
     "text": [
      " 57%|█████▋    | 57/100 [01:08<00:49,  1.14s/it]"
     ]
    },
    {
     "name": "stdout",
     "output_type": "stream",
     "text": [
      "(\"('several', 'MISC'), ('innings', 'MISC'), ('crowd', 'MISC')] <end_output>\", <OpenAIObject chat.completion id=chatcmpl-8hypTIodVFC0EPmo4ASxAcycTIcU9 at 0x7f3a7477c130> JSON: {\n",
      "  \"id\": \"chatcmpl-8hypTIodVFC0EPmo4ASxAcycTIcU9\",\n",
      "  \"object\": \"chat.completion\",\n",
      "  \"created\": 1705492623,\n",
      "  \"model\": \"gpt-35-turbo\",\n",
      "  \"choices\": [\n",
      "    {\n",
      "      \"finish_reason\": \"stop\",\n",
      "      \"index\": 0,\n",
      "      \"message\": {\n",
      "        \"role\": \"assistant\",\n",
      "        \"content\": \"('several', 'MISC'), ('innings', 'MISC'), ('crowd', 'MISC')] <end_output>\"\n",
      "      }\n",
      "    }\n",
      "  ],\n",
      "  \"usage\": {\n",
      "    \"prompt_tokens\": 334,\n",
      "    \"completion_tokens\": 28,\n",
      "    \"total_tokens\": 362\n",
      "  }\n",
      "})\n"
     ]
    },
    {
     "name": "stderr",
     "output_type": "stream",
     "text": [
      " 58%|█████▊    | 58/100 [01:09<00:45,  1.08s/it]"
     ]
    },
    {
     "name": "stdout",
     "output_type": "stream",
     "text": [
      "(\"('police', 'ORG'), ('newspapers', 'ORG')] <end_output>\", <OpenAIObject chat.completion id=chatcmpl-8hypUUaODWLSHrQIiELajJl6gxFZn at 0x7f3a7b8d27a0> JSON: {\n",
      "  \"id\": \"chatcmpl-8hypUUaODWLSHrQIiELajJl6gxFZn\",\n",
      "  \"object\": \"chat.completion\",\n",
      "  \"created\": 1705492624,\n",
      "  \"model\": \"gpt-35-turbo\",\n",
      "  \"choices\": [\n",
      "    {\n",
      "      \"finish_reason\": \"stop\",\n",
      "      \"index\": 0,\n",
      "      \"message\": {\n",
      "        \"role\": \"assistant\",\n",
      "        \"content\": \"('police', 'ORG'), ('newspapers', 'ORG')] <end_output>\"\n",
      "      }\n",
      "    }\n",
      "  ],\n",
      "  \"usage\": {\n",
      "    \"prompt_tokens\": 351,\n",
      "    \"completion_tokens\": 19,\n",
      "    \"total_tokens\": 370\n",
      "  }\n",
      "})\n"
     ]
    },
    {
     "name": "stderr",
     "output_type": "stream",
     "text": [
      " 59%|█████▉    | 59/100 [01:10<00:44,  1.09s/it]"
     ]
    },
    {
     "name": "stdout",
     "output_type": "stream",
     "text": [
      "(\"('period', 'MISC'), \\n('people', 'MISC'), \\n('he', 'PER')] <end_output>\", <OpenAIObject chat.completion id=chatcmpl-8hypV4aTEZQXcxdxNHDIs1hjnw6gn at 0x7f3a7b8d27a0> JSON: {\n",
      "  \"id\": \"chatcmpl-8hypV4aTEZQXcxdxNHDIs1hjnw6gn\",\n",
      "  \"object\": \"chat.completion\",\n",
      "  \"created\": 1705492625,\n",
      "  \"model\": \"gpt-35-turbo\",\n",
      "  \"choices\": [\n",
      "    {\n",
      "      \"finish_reason\": \"stop\",\n",
      "      \"index\": 0,\n",
      "      \"message\": {\n",
      "        \"role\": \"assistant\",\n",
      "        \"content\": \"('period', 'MISC'), \\n('people', 'MISC'), \\n('he', 'PER')] <end_output>\"\n",
      "      }\n",
      "    }\n",
      "  ],\n",
      "  \"usage\": {\n",
      "    \"prompt_tokens\": 315,\n",
      "    \"completion_tokens\": 26,\n",
      "    \"total_tokens\": 341\n",
      "  }\n",
      "})\n"
     ]
    },
    {
     "name": "stderr",
     "output_type": "stream",
     "text": [
      " 60%|██████    | 60/100 [01:11<00:46,  1.17s/it]"
     ]
    },
    {
     "name": "stdout",
     "output_type": "stream",
     "text": [
      "(\"[('70,000', 'MISC')],\\n[('Kurdish', 'MISC')],\\n[('Kurdistan Workers Party', 'ORG')],\\n[('PKK', 'ORG')],\\n[('southeast', 'LOC')]\\n] <end_output>\", <OpenAIObject chat.completion id=chatcmpl-8hypXjj6qkVASLK3zxkTwS9IaBFUk at 0x7f3a74532430> JSON: {\n",
      "  \"id\": \"chatcmpl-8hypXjj6qkVASLK3zxkTwS9IaBFUk\",\n",
      "  \"object\": \"chat.completion\",\n",
      "  \"created\": 1705492627,\n",
      "  \"model\": \"gpt-35-turbo\",\n",
      "  \"choices\": [\n",
      "    {\n",
      "      \"finish_reason\": \"stop\",\n",
      "      \"index\": 0,\n",
      "      \"message\": {\n",
      "        \"role\": \"assistant\",\n",
      "        \"content\": \"[('70,000', 'MISC')],\\n[('Kurdish', 'MISC')],\\n[('Kurdistan Workers Party', 'ORG')],\\n[('PKK', 'ORG')],\\n[('southeast', 'LOC')]\\n] <end_output>\"\n",
      "      }\n",
      "    }\n",
      "  ],\n",
      "  \"usage\": {\n",
      "    \"prompt_tokens\": 400,\n",
      "    \"completion_tokens\": 53,\n",
      "    \"total_tokens\": 453\n",
      "  }\n",
      "})\n"
     ]
    },
    {
     "name": "stderr",
     "output_type": "stream",
     "text": [
      " 61%|██████    | 61/100 [01:12<00:43,  1.12s/it]"
     ]
    },
    {
     "name": "stdout",
     "output_type": "stream",
     "text": [
      "(\"('Manchester United', 'ORG')] <end_output>\", <OpenAIObject chat.completion id=chatcmpl-8hypYWof4HHirJOb68DA9tFtqCHAe at 0x7f3a74532430> JSON: {\n",
      "  \"id\": \"chatcmpl-8hypYWof4HHirJOb68DA9tFtqCHAe\",\n",
      "  \"object\": \"chat.completion\",\n",
      "  \"created\": 1705492628,\n",
      "  \"model\": \"gpt-35-turbo\",\n",
      "  \"choices\": [\n",
      "    {\n",
      "      \"finish_reason\": \"stop\",\n",
      "      \"index\": 0,\n",
      "      \"message\": {\n",
      "        \"role\": \"assistant\",\n",
      "        \"content\": \"('Manchester United', 'ORG')] <end_output>\"\n",
      "      }\n",
      "    }\n",
      "  ],\n",
      "  \"usage\": {\n",
      "    \"prompt_tokens\": 301,\n",
      "    \"completion_tokens\": 11,\n",
      "    \"total_tokens\": 312\n",
      "  }\n",
      "})\n"
     ]
    },
    {
     "name": "stderr",
     "output_type": "stream",
     "text": [
      " 62%|██████▏   | 62/100 [01:14<00:49,  1.30s/it]"
     ]
    },
    {
     "name": "stdout",
     "output_type": "stream",
     "text": [
      "(\"[('Indian', 'MISC')],\\n[('Moslem', 'MISC')],\\n[('Bombay', 'LOC')],\\n[('three months later', 'MISC')], \\n[('260', 'MISC')], \\n[('people', 'MISC')]] <end_output>\", <OpenAIObject chat.completion id=chatcmpl-8hypZ4iJzvnF6d0qyjeEal19dfExB at 0x7f3a74532430> JSON: {\n",
      "  \"id\": \"chatcmpl-8hypZ4iJzvnF6d0qyjeEal19dfExB\",\n",
      "  \"object\": \"chat.completion\",\n",
      "  \"created\": 1705492629,\n",
      "  \"model\": \"gpt-35-turbo\",\n",
      "  \"choices\": [\n",
      "    {\n",
      "      \"finish_reason\": \"stop\",\n",
      "      \"index\": 0,\n",
      "      \"message\": {\n",
      "        \"role\": \"assistant\",\n",
      "        \"content\": \"[('Indian', 'MISC')],\\n[('Moslem', 'MISC')],\\n[('Bombay', 'LOC')],\\n[('three months later', 'MISC')], \\n[('260', 'MISC')], \\n[('people', 'MISC')]] <end_output>\"\n",
      "      }\n",
      "    }\n",
      "  ],\n",
      "  \"usage\": {\n",
      "    \"prompt_tokens\": 420,\n",
      "    \"completion_tokens\": 60,\n",
      "    \"total_tokens\": 480\n",
      "  }\n",
      "})\n"
     ]
    },
    {
     "name": "stderr",
     "output_type": "stream",
     "text": [
      " 63%|██████▎   | 63/100 [01:15<00:48,  1.31s/it]"
     ]
    },
    {
     "name": "stdout",
     "output_type": "stream",
     "text": [
      "(\"[('Buza', 'PER')], [('Gjonaj', 'PER')]] <end_output>\", <OpenAIObject chat.completion id=chatcmpl-8hypbt97Oo2u29anyuB66M3eAShE5 at 0x7f3aa044ca40> JSON: {\n",
      "  \"id\": \"chatcmpl-8hypbt97Oo2u29anyuB66M3eAShE5\",\n",
      "  \"object\": \"chat.completion\",\n",
      "  \"created\": 1705492631,\n",
      "  \"model\": \"gpt-35-turbo\",\n",
      "  \"choices\": [\n",
      "    {\n",
      "      \"finish_reason\": \"stop\",\n",
      "      \"index\": 0,\n",
      "      \"message\": {\n",
      "        \"role\": \"assistant\",\n",
      "        \"content\": \"[('Buza', 'PER')], [('Gjonaj', 'PER')]] <end_output>\"\n",
      "      }\n",
      "    }\n",
      "  ],\n",
      "  \"usage\": {\n",
      "    \"prompt_tokens\": 401,\n",
      "    \"completion_tokens\": 22,\n",
      "    \"total_tokens\": 423\n",
      "  }\n",
      "})\n"
     ]
    },
    {
     "name": "stderr",
     "output_type": "stream",
     "text": [
      " 64%|██████▍   | 64/100 [01:16<00:42,  1.19s/it]"
     ]
    },
    {
     "name": "stdout",
     "output_type": "stream",
     "text": [
      "(\"[('1 million', 'MISC'), ('United States', 'LOC')],\\n[('Friday', 'MISC')]\\n]\", <OpenAIObject chat.completion id=chatcmpl-8hypcC9ndGYh9ConAasc63aWcJzCl at 0x7f3aa044ca40> JSON: {\n",
      "  \"id\": \"chatcmpl-8hypcC9ndGYh9ConAasc63aWcJzCl\",\n",
      "  \"object\": \"chat.completion\",\n",
      "  \"created\": 1705492632,\n",
      "  \"model\": \"gpt-35-turbo\",\n",
      "  \"choices\": [\n",
      "    {\n",
      "      \"finish_reason\": \"stop\",\n",
      "      \"index\": 0,\n",
      "      \"message\": {\n",
      "        \"role\": \"assistant\",\n",
      "        \"content\": \"[('1 million', 'MISC'), ('United States', 'LOC')],\\n[('Friday', 'MISC')]\\n]\"\n",
      "      }\n",
      "    }\n",
      "  ],\n",
      "  \"usage\": {\n",
      "    \"prompt_tokens\": 343,\n",
      "    \"completion_tokens\": 25,\n",
      "    \"total_tokens\": 368\n",
      "  }\n",
      "})\n"
     ]
    },
    {
     "name": "stderr",
     "output_type": "stream",
     "text": [
      " 65%|██████▌   | 65/100 [01:17<00:39,  1.13s/it]"
     ]
    },
    {
     "name": "stdout",
     "output_type": "stream",
     "text": [
      "(\"('ENGLISHMAN', 'MISC'), ('CHARLTON', 'PER'), ('IRISHMAN', 'MISC')] <end_output>\", <OpenAIObject chat.completion id=chatcmpl-8hypdkJhsUnFMTU0VYhA1t8N543C6 at 0x7f3aa044ca40> JSON: {\n",
      "  \"id\": \"chatcmpl-8hypdkJhsUnFMTU0VYhA1t8N543C6\",\n",
      "  \"object\": \"chat.completion\",\n",
      "  \"created\": 1705492633,\n",
      "  \"model\": \"gpt-35-turbo\",\n",
      "  \"choices\": [\n",
      "    {\n",
      "      \"finish_reason\": \"stop\",\n",
      "      \"index\": 0,\n",
      "      \"message\": {\n",
      "        \"role\": \"assistant\",\n",
      "        \"content\": \"('ENGLISHMAN', 'MISC'), ('CHARLTON', 'PER'), ('IRISHMAN', 'MISC')] <end_output>\"\n",
      "      }\n",
      "    }\n",
      "  ],\n",
      "  \"usage\": {\n",
      "    \"prompt_tokens\": 441,\n",
      "    \"completion_tokens\": 30,\n",
      "    \"total_tokens\": 471\n",
      "  }\n",
      "})\n"
     ]
    },
    {
     "name": "stderr",
     "output_type": "stream",
     "text": [
      " 66%|██████▌   | 66/100 [01:19<00:42,  1.26s/it]"
     ]
    },
    {
     "name": "stdout",
     "output_type": "stream",
     "text": [
      "(\"[('Eagles', 'ORG')] <end_output>\", <OpenAIObject chat.completion id=chatcmpl-8hypeMdIQ6148VFcg68sTjVSlv9KG at 0x7f3a74543010> JSON: {\n",
      "  \"id\": \"chatcmpl-8hypeMdIQ6148VFcg68sTjVSlv9KG\",\n",
      "  \"object\": \"chat.completion\",\n",
      "  \"created\": 1705492634,\n",
      "  \"model\": \"gpt-35-turbo\",\n",
      "  \"choices\": [\n",
      "    {\n",
      "      \"finish_reason\": \"stop\",\n",
      "      \"index\": 0,\n",
      "      \"message\": {\n",
      "        \"role\": \"assistant\",\n",
      "        \"content\": \"[('Eagles', 'ORG')] <end_output>\"\n",
      "      }\n",
      "    }\n",
      "  ],\n",
      "  \"usage\": {\n",
      "    \"prompt_tokens\": 361,\n",
      "    \"completion_tokens\": 13,\n",
      "    \"total_tokens\": 374\n",
      "  }\n",
      "})\n"
     ]
    },
    {
     "name": "stderr",
     "output_type": "stream",
     "text": [
      " 67%|██████▋   | 67/100 [01:20<00:42,  1.29s/it]"
     ]
    },
    {
     "name": "stdout",
     "output_type": "stream",
     "text": [
      "(\"[('Rosati', 'PER')],\\n[('1970s', 'MISC')],\\n[('1949', 'MISC')],\\n[('Warsaw', 'LOC')],\\n[('Switzerland', 'LOC')],\\n[('Soviet-imposed', 'MISC')],\\n[('World War Two', 'MISC')]\\n] <end_output>\", <OpenAIObject chat.completion id=chatcmpl-8hypf3TAsFVoGP9RGZx8hDzfSQuzE at 0x7f3a7b8d27a0> JSON: {\n",
      "  \"id\": \"chatcmpl-8hypf3TAsFVoGP9RGZx8hDzfSQuzE\",\n",
      "  \"object\": \"chat.completion\",\n",
      "  \"created\": 1705492635,\n",
      "  \"model\": \"gpt-35-turbo\",\n",
      "  \"choices\": [\n",
      "    {\n",
      "      \"finish_reason\": \"stop\",\n",
      "      \"index\": 0,\n",
      "      \"message\": {\n",
      "        \"role\": \"assistant\",\n",
      "        \"content\": \"[('Rosati', 'PER')],\\n[('1970s', 'MISC')],\\n[('1949', 'MISC')],\\n[('Warsaw', 'LOC')],\\n[('Switzerland', 'LOC')],\\n[('Soviet-imposed', 'MISC')],\\n[('World War Two', 'MISC')]\\n] <end_output>\"\n",
      "      }\n",
      "    }\n",
      "  ],\n",
      "  \"usage\": {\n",
      "    \"prompt_tokens\": 381,\n",
      "    \"completion_tokens\": 70,\n",
      "    \"total_tokens\": 451\n",
      "  }\n",
      "})\n"
     ]
    },
    {
     "name": "stderr",
     "output_type": "stream",
     "text": [
      " 68%|██████▊   | 68/100 [01:21<00:40,  1.26s/it]"
     ]
    },
    {
     "name": "stdout",
     "output_type": "stream",
     "text": [
      "(\"<start_output> [('eight', 'MISC'), ('party', 'MISC'), ('girl', 'MISC'), ('father', 'MISC')] <end_output>\", <OpenAIObject chat.completion id=chatcmpl-8hyph02tWTZNU2wbKWuEewJYIw75p at 0x7f3a7b8d27a0> JSON: {\n",
      "  \"id\": \"chatcmpl-8hyph02tWTZNU2wbKWuEewJYIw75p\",\n",
      "  \"object\": \"chat.completion\",\n",
      "  \"created\": 1705492637,\n",
      "  \"model\": \"gpt-35-turbo\",\n",
      "  \"choices\": [\n",
      "    {\n",
      "      \"finish_reason\": \"stop\",\n",
      "      \"index\": 0,\n",
      "      \"message\": {\n",
      "        \"role\": \"assistant\",\n",
      "        \"content\": \"<start_output> [('eight', 'MISC'), ('party', 'MISC'), ('girl', 'MISC'), ('father', 'MISC')] <end_output>\"\n",
      "      }\n",
      "    }\n",
      "  ],\n",
      "  \"usage\": {\n",
      "    \"prompt_tokens\": 419,\n",
      "    \"completion_tokens\": 36,\n",
      "    \"total_tokens\": 455\n",
      "  }\n",
      "})\n"
     ]
    },
    {
     "name": "stderr",
     "output_type": "stream",
     "text": [
      " 69%|██████▉   | 69/100 [01:22<00:38,  1.25s/it]"
     ]
    },
    {
     "name": "stdout",
     "output_type": "stream",
     "text": [
      "(\"[('Jones', 'PER'), ('Tasmanian', 'MISC'), ('David Boon', 'PER'), ('Shaun Young', 'PER'), ('Michael DiVenuto', 'PER')] <end_output>\", <OpenAIObject chat.completion id=chatcmpl-8hypiLGp9qC7IylTwBgq3XYxFw5zN at 0x7f3aa044ca40> JSON: {\n",
      "  \"id\": \"chatcmpl-8hypiLGp9qC7IylTwBgq3XYxFw5zN\",\n",
      "  \"object\": \"chat.completion\",\n",
      "  \"created\": 1705492638,\n",
      "  \"model\": \"gpt-35-turbo\",\n",
      "  \"choices\": [\n",
      "    {\n",
      "      \"finish_reason\": \"stop\",\n",
      "      \"index\": 0,\n",
      "      \"message\": {\n",
      "        \"role\": \"assistant\",\n",
      "        \"content\": \"[('Jones', 'PER'), ('Tasmanian', 'MISC'), ('David Boon', 'PER'), ('Shaun Young', 'PER'), ('Michael DiVenuto', 'PER')] <end_output>\"\n",
      "      }\n",
      "    }\n",
      "  ],\n",
      "  \"usage\": {\n",
      "    \"prompt_tokens\": 474,\n",
      "    \"completion_tokens\": 46,\n",
      "    \"total_tokens\": 520\n",
      "  }\n",
      "})\n"
     ]
    },
    {
     "name": "stderr",
     "output_type": "stream",
     "text": [
      " 70%|███████   | 70/100 [01:23<00:35,  1.19s/it]"
     ]
    },
    {
     "name": "stdout",
     "output_type": "stream",
     "text": [
      "(\"[('defendant', 'PER')], \\n[('authorities', 'ORG')], \\n[('$ 20,000', 'MISC')] \\n] <end_output>\", <OpenAIObject chat.completion id=chatcmpl-8hypjwio9THHdmUcUufQ9uKjF9gUD at 0x7f3aa044ca40> JSON: {\n",
      "  \"id\": \"chatcmpl-8hypjwio9THHdmUcUufQ9uKjF9gUD\",\n",
      "  \"object\": \"chat.completion\",\n",
      "  \"created\": 1705492639,\n",
      "  \"model\": \"gpt-35-turbo\",\n",
      "  \"choices\": [\n",
      "    {\n",
      "      \"finish_reason\": \"stop\",\n",
      "      \"index\": 0,\n",
      "      \"message\": {\n",
      "        \"role\": \"assistant\",\n",
      "        \"content\": \"[('defendant', 'PER')], \\n[('authorities', 'ORG')], \\n[('$ 20,000', 'MISC')] \\n] <end_output>\"\n",
      "      }\n",
      "    }\n",
      "  ],\n",
      "  \"usage\": {\n",
      "    \"prompt_tokens\": 329,\n",
      "    \"completion_tokens\": 37,\n",
      "    \"total_tokens\": 366\n",
      "  }\n",
      "})\n"
     ]
    },
    {
     "name": "stderr",
     "output_type": "stream",
     "text": [
      " 71%|███████   | 71/100 [01:24<00:31,  1.08s/it]"
     ]
    },
    {
     "name": "stdout",
     "output_type": "stream",
     "text": [
      "(\"('New York', 'LOC')] <end_output>\", <OpenAIObject chat.completion id=chatcmpl-8hypkjPN4FPryPitj4PmAcOH8bkvV at 0x7f3aa044c860> JSON: {\n",
      "  \"id\": \"chatcmpl-8hypkjPN4FPryPitj4PmAcOH8bkvV\",\n",
      "  \"object\": \"chat.completion\",\n",
      "  \"created\": 1705492640,\n",
      "  \"model\": \"gpt-35-turbo\",\n",
      "  \"choices\": [\n",
      "    {\n",
      "      \"finish_reason\": \"stop\",\n",
      "      \"index\": 0,\n",
      "      \"message\": {\n",
      "        \"role\": \"assistant\",\n",
      "        \"content\": \"('New York', 'LOC')] <end_output>\"\n",
      "      }\n",
      "    }\n",
      "  ],\n",
      "  \"usage\": {\n",
      "    \"prompt_tokens\": 305,\n",
      "    \"completion_tokens\": 11,\n",
      "    \"total_tokens\": 316\n",
      "  }\n",
      "})\n"
     ]
    },
    {
     "name": "stderr",
     "output_type": "stream",
     "text": [
      " 72%|███████▏  | 72/100 [01:25<00:29,  1.04s/it]"
     ]
    },
    {
     "name": "stdout",
     "output_type": "stream",
     "text": [
      "(\"('Frederick', 'PER')] <end_output>\", <OpenAIObject chat.completion id=chatcmpl-8hyplJCOpSj38v6cWlyCMXwVsjQyg at 0x7f3aa044c860> JSON: {\n",
      "  \"id\": \"chatcmpl-8hyplJCOpSj38v6cWlyCMXwVsjQyg\",\n",
      "  \"object\": \"chat.completion\",\n",
      "  \"created\": 1705492641,\n",
      "  \"model\": \"gpt-35-turbo\",\n",
      "  \"choices\": [\n",
      "    {\n",
      "      \"finish_reason\": \"stop\",\n",
      "      \"index\": 0,\n",
      "      \"message\": {\n",
      "        \"role\": \"assistant\",\n",
      "        \"content\": \"('Frederick', 'PER')] <end_output>\"\n",
      "      }\n",
      "    }\n",
      "  ],\n",
      "  \"usage\": {\n",
      "    \"prompt_tokens\": 329,\n",
      "    \"completion_tokens\": 12,\n",
      "    \"total_tokens\": 341\n",
      "  }\n",
      "})\n"
     ]
    },
    {
     "name": "stderr",
     "output_type": "stream",
     "text": [
      " 73%|███████▎  | 73/100 [01:26<00:27,  1.04s/it]"
     ]
    },
    {
     "name": "stdout",
     "output_type": "stream",
     "text": [
      "(\"<start_output> [('Aly Ashour', 'PER'), ('Mohamed Ouda', 'PER')] <end_output>\", <OpenAIObject chat.completion id=chatcmpl-8hypmuFcSyKNbFFK8dzrhZWrFBT64 at 0x7f3aa044c860> JSON: {\n",
      "  \"id\": \"chatcmpl-8hypmuFcSyKNbFFK8dzrhZWrFBT64\",\n",
      "  \"object\": \"chat.completion\",\n",
      "  \"created\": 1705492642,\n",
      "  \"model\": \"gpt-35-turbo\",\n",
      "  \"choices\": [\n",
      "    {\n",
      "      \"finish_reason\": \"stop\",\n",
      "      \"index\": 0,\n",
      "      \"message\": {\n",
      "        \"role\": \"assistant\",\n",
      "        \"content\": \"<start_output> [('Aly Ashour', 'PER'), ('Mohamed Ouda', 'PER')] <end_output>\"\n",
      "      }\n",
      "    }\n",
      "  ],\n",
      "  \"usage\": {\n",
      "    \"prompt_tokens\": 460,\n",
      "    \"completion_tokens\": 26,\n",
      "    \"total_tokens\": 486\n",
      "  }\n",
      "})\n"
     ]
    },
    {
     "name": "stderr",
     "output_type": "stream",
     "text": [
      " 74%|███████▍  | 74/100 [01:27<00:27,  1.06s/it]"
     ]
    },
    {
     "name": "stdout",
     "output_type": "stream",
     "text": [
      "(\"('How', 'O'), ('we', 'O'), ('control', 'O'), ('them', 'O'), ('all', 'O')] <end_output>\", <OpenAIObject chat.completion id=chatcmpl-8hypn8bAsiVgxSwMjxhxEYwbIqoyW at 0x7f3aa044c860> JSON: {\n",
      "  \"id\": \"chatcmpl-8hypn8bAsiVgxSwMjxhxEYwbIqoyW\",\n",
      "  \"object\": \"chat.completion\",\n",
      "  \"created\": 1705492643,\n",
      "  \"model\": \"gpt-35-turbo\",\n",
      "  \"choices\": [\n",
      "    {\n",
      "      \"finish_reason\": \"stop\",\n",
      "      \"index\": 0,\n",
      "      \"message\": {\n",
      "        \"role\": \"assistant\",\n",
      "        \"content\": \"('How', 'O'), ('we', 'O'), ('control', 'O'), ('them', 'O'), ('all', 'O')] <end_output>\"\n",
      "      }\n",
      "    }\n",
      "  ],\n",
      "  \"usage\": {\n",
      "    \"prompt_tokens\": 311,\n",
      "    \"completion_tokens\": 34,\n",
      "    \"total_tokens\": 345\n",
      "  }\n",
      "})\n"
     ]
    },
    {
     "name": "stderr",
     "output_type": "stream",
     "text": [
      " 75%|███████▌  | 75/100 [01:28<00:26,  1.06s/it]"
     ]
    },
    {
     "name": "stdout",
     "output_type": "stream",
     "text": [
      "(\"[('Hyundai Heavy', 'ORG')], [('dollar', 'MISC')], [('Monday', 'MISC')], [('Koram Bank', 'ORG')] <end_output>\", <OpenAIObject chat.completion id=chatcmpl-8hypo5lvmBqFISFynqb24OQr5RWgU at 0x7f3aa044c860> JSON: {\n",
      "  \"id\": \"chatcmpl-8hypo5lvmBqFISFynqb24OQr5RWgU\",\n",
      "  \"object\": \"chat.completion\",\n",
      "  \"created\": 1705492644,\n",
      "  \"model\": \"gpt-35-turbo\",\n",
      "  \"choices\": [\n",
      "    {\n",
      "      \"finish_reason\": \"stop\",\n",
      "      \"index\": 0,\n",
      "      \"message\": {\n",
      "        \"role\": \"assistant\",\n",
      "        \"content\": \"[('Hyundai Heavy', 'ORG')], [('dollar', 'MISC')], [('Monday', 'MISC')], [('Koram Bank', 'ORG')] <end_output>\"\n",
      "      }\n",
      "    }\n",
      "  ],\n",
      "  \"usage\": {\n",
      "    \"prompt_tokens\": 457,\n",
      "    \"completion_tokens\": 39,\n",
      "    \"total_tokens\": 496\n",
      "  }\n",
      "})\n"
     ]
    },
    {
     "name": "stderr",
     "output_type": "stream",
     "text": [
      " 76%|███████▌  | 76/100 [01:30<00:26,  1.11s/it]"
     ]
    },
    {
     "name": "stdout",
     "output_type": "stream",
     "text": [
      "(\"('I', 'MISC'), \\n('him', 'MISC'), \\n('he', 'MISC'), \\n('he', 'MISC') ] <end_output>\", <OpenAIObject chat.completion id=chatcmpl-8hyppr1km8pxhzHmCKTEgWRtM3NAW at 0x7f3aa044ca40> JSON: {\n",
      "  \"id\": \"chatcmpl-8hyppr1km8pxhzHmCKTEgWRtM3NAW\",\n",
      "  \"object\": \"chat.completion\",\n",
      "  \"created\": 1705492645,\n",
      "  \"model\": \"gpt-35-turbo\",\n",
      "  \"choices\": [\n",
      "    {\n",
      "      \"finish_reason\": \"stop\",\n",
      "      \"index\": 0,\n",
      "      \"message\": {\n",
      "        \"role\": \"assistant\",\n",
      "        \"content\": \"('I', 'MISC'), \\n('him', 'MISC'), \\n('he', 'MISC'), \\n('he', 'MISC') ] <end_output>\"\n",
      "      }\n",
      "    }\n",
      "  ],\n",
      "  \"usage\": {\n",
      "    \"prompt_tokens\": 293,\n",
      "    \"completion_tokens\": 36,\n",
      "    \"total_tokens\": 329\n",
      "  }\n",
      "})\n"
     ]
    },
    {
     "name": "stderr",
     "output_type": "stream",
     "text": [
      " 77%|███████▋  | 77/100 [01:31<00:25,  1.11s/it]"
     ]
    },
    {
     "name": "stdout",
     "output_type": "stream",
     "text": [
      "(\"('CAN', 'MISC'), ('U.S. DOLLAR', 'MISC'), ('EXCHANGE RATE', 'MISC')] <end_output>\", <OpenAIObject chat.completion id=chatcmpl-8hypqeEzfFHGCY8uC5BwIK3tIYp3R at 0x7f3aa044c860> JSON: {\n",
      "  \"id\": \"chatcmpl-8hypqeEzfFHGCY8uC5BwIK3tIYp3R\",\n",
      "  \"object\": \"chat.completion\",\n",
      "  \"created\": 1705492646,\n",
      "  \"model\": \"gpt-35-turbo\",\n",
      "  \"choices\": [\n",
      "    {\n",
      "      \"finish_reason\": \"stop\",\n",
      "      \"index\": 0,\n",
      "      \"message\": {\n",
      "        \"role\": \"assistant\",\n",
      "        \"content\": \"('CAN', 'MISC'), ('U.S. DOLLAR', 'MISC'), ('EXCHANGE RATE', 'MISC')] <end_output>\"\n",
      "      }\n",
      "    }\n",
      "  ],\n",
      "  \"usage\": {\n",
      "    \"prompt_tokens\": 273,\n",
      "    \"completion_tokens\": 32,\n",
      "    \"total_tokens\": 305\n",
      "  }\n",
      "})\n"
     ]
    },
    {
     "name": "stderr",
     "output_type": "stream",
     "text": [
      " 78%|███████▊  | 78/100 [01:32<00:27,  1.24s/it]"
     ]
    },
    {
     "name": "stdout",
     "output_type": "stream",
     "text": [
      "(\"[('Santa Fe', 'ORG'), ('Nevada', 'LOC'), ('Newmont', 'ORG')] <end_output>\", <OpenAIObject chat.completion id=chatcmpl-8hypsMr1KdKPETcW8N6vQQXQ1DR4V at 0x7f3aa044ca40> JSON: {\n",
      "  \"id\": \"chatcmpl-8hypsMr1KdKPETcW8N6vQQXQ1DR4V\",\n",
      "  \"object\": \"chat.completion\",\n",
      "  \"created\": 1705492648,\n",
      "  \"model\": \"gpt-35-turbo\",\n",
      "  \"choices\": [\n",
      "    {\n",
      "      \"finish_reason\": \"stop\",\n",
      "      \"index\": 0,\n",
      "      \"message\": {\n",
      "        \"role\": \"assistant\",\n",
      "        \"content\": \"[('Santa Fe', 'ORG'), ('Nevada', 'LOC'), ('Newmont', 'ORG')] <end_output>\"\n",
      "      }\n",
      "    }\n",
      "  ],\n",
      "  \"usage\": {\n",
      "    \"prompt_tokens\": 407,\n",
      "    \"completion_tokens\": 27,\n",
      "    \"total_tokens\": 434\n",
      "  }\n",
      "})\n"
     ]
    },
    {
     "name": "stderr",
     "output_type": "stream",
     "text": [
      " 79%|███████▉  | 79/100 [01:34<00:27,  1.33s/it]"
     ]
    },
    {
     "name": "stdout",
     "output_type": "stream",
     "text": [
      "(\"[('Zahoor Elahi', 'PER'), ('Cairns', 'PER')]\", <OpenAIObject chat.completion id=chatcmpl-8hyputkg6khCy46Udo9musnokmAnM at 0x7f3aa044c860> JSON: {\n",
      "  \"id\": \"chatcmpl-8hyputkg6khCy46Udo9musnokmAnM\",\n",
      "  \"object\": \"chat.completion\",\n",
      "  \"created\": 1705492650,\n",
      "  \"model\": \"gpt-35-turbo\",\n",
      "  \"choices\": [\n",
      "    {\n",
      "      \"finish_reason\": \"stop\",\n",
      "      \"index\": 0,\n",
      "      \"message\": {\n",
      "        \"role\": \"assistant\",\n",
      "        \"content\": \"[('Zahoor Elahi', 'PER'), ('Cairns', 'PER')]\"\n",
      "      }\n",
      "    }\n",
      "  ],\n",
      "  \"usage\": {\n",
      "    \"prompt_tokens\": 338,\n",
      "    \"completion_tokens\": 19,\n",
      "    \"total_tokens\": 357\n",
      "  }\n",
      "})\n"
     ]
    },
    {
     "name": "stderr",
     "output_type": "stream",
     "text": [
      " 80%|████████  | 80/100 [01:35<00:25,  1.26s/it]"
     ]
    },
    {
     "name": "stdout",
     "output_type": "stream",
     "text": [
      "(\"('Let', 'O'), ('respect', 'O'), ('their', 'O'), ('territories', 'O')]\", <OpenAIObject chat.completion id=chatcmpl-8hypvY7tZOVXtz1suKK0iR2ZEZFU0 at 0x7f3a74543010> JSON: {\n",
      "  \"id\": \"chatcmpl-8hypvY7tZOVXtz1suKK0iR2ZEZFU0\",\n",
      "  \"object\": \"chat.completion\",\n",
      "  \"created\": 1705492651,\n",
      "  \"model\": \"gpt-35-turbo\",\n",
      "  \"choices\": [\n",
      "    {\n",
      "      \"finish_reason\": \"stop\",\n",
      "      \"index\": 0,\n",
      "      \"message\": {\n",
      "        \"role\": \"assistant\",\n",
      "        \"content\": \"('Let', 'O'), ('respect', 'O'), ('their', 'O'), ('territories', 'O')]\"\n",
      "      }\n",
      "    }\n",
      "  ],\n",
      "  \"usage\": {\n",
      "    \"prompt_tokens\": 325,\n",
      "    \"completion_tokens\": 25,\n",
      "    \"total_tokens\": 350\n",
      "  }\n",
      "})\n"
     ]
    },
    {
     "name": "stderr",
     "output_type": "stream",
     "text": [
      " 81%|████████  | 81/100 [01:36<00:23,  1.26s/it]"
     ]
    },
    {
     "name": "stdout",
     "output_type": "stream",
     "text": [
      "(\"<start_output> [('Fife', 'LOC'), ('Partick', 'ORG'), ('Stirling', 'LOC'), ('St Mirren', 'ORG')] <end_output>\", <OpenAIObject chat.completion id=chatcmpl-8hypwdAdPy9xjw0SqGs6BdRP2uEvv at 0x7f3a74543010> JSON: {\n",
      "  \"id\": \"chatcmpl-8hypwdAdPy9xjw0SqGs6BdRP2uEvv\",\n",
      "  \"object\": \"chat.completion\",\n",
      "  \"created\": 1705492652,\n",
      "  \"model\": \"gpt-35-turbo\",\n",
      "  \"choices\": [\n",
      "    {\n",
      "      \"finish_reason\": \"stop\",\n",
      "      \"index\": 0,\n",
      "      \"message\": {\n",
      "        \"role\": \"assistant\",\n",
      "        \"content\": \"<start_output> [('Fife', 'LOC'), ('Partick', 'ORG'), ('Stirling', 'LOC'), ('St Mirren', 'ORG')] <end_output>\"\n",
      "      }\n",
      "    }\n",
      "  ],\n",
      "  \"usage\": {\n",
      "    \"prompt_tokens\": 327,\n",
      "    \"completion_tokens\": 37,\n",
      "    \"total_tokens\": 364\n",
      "  }\n",
      "})\n"
     ]
    },
    {
     "name": "stderr",
     "output_type": "stream",
     "text": [
      " 82%|████████▏ | 82/100 [01:37<00:22,  1.23s/it]"
     ]
    },
    {
     "name": "stdout",
     "output_type": "stream",
     "text": [
      "(\"[('Winters', 'PER'), ('Dundee United', 'ORG')], [('Paolo Di Canio', 'PER'), ('Celtic', 'ORG')]] <end_output>\", <OpenAIObject chat.completion id=chatcmpl-8hypxOmleknLW7zsjn7HaG78LhjtL at 0x7f3a7bbc1670> JSON: {\n",
      "  \"id\": \"chatcmpl-8hypxOmleknLW7zsjn7HaG78LhjtL\",\n",
      "  \"object\": \"chat.completion\",\n",
      "  \"created\": 1705492653,\n",
      "  \"model\": \"gpt-35-turbo\",\n",
      "  \"choices\": [\n",
      "    {\n",
      "      \"finish_reason\": \"stop\",\n",
      "      \"index\": 0,\n",
      "      \"message\": {\n",
      "        \"role\": \"assistant\",\n",
      "        \"content\": \"[('Winters', 'PER'), ('Dundee United', 'ORG')], [('Paolo Di Canio', 'PER'), ('Celtic', 'ORG')]] <end_output>\"\n",
      "      }\n",
      "    }\n",
      "  ],\n",
      "  \"usage\": {\n",
      "    \"prompt_tokens\": 344,\n",
      "    \"completion_tokens\": 41,\n",
      "    \"total_tokens\": 385\n",
      "  }\n",
      "})\n"
     ]
    },
    {
     "name": "stderr",
     "output_type": "stream",
     "text": [
      " 83%|████████▎ | 83/100 [01:39<00:21,  1.25s/it]"
     ]
    },
    {
     "name": "stdout",
     "output_type": "stream",
     "text": [
      "(\"[('Blanc', 'PER')],\\n[('World Cup', 'ORG')],\\n[('Foucras', 'PER')],\\n[('World Cup', 'ORG')],\\n[('aerials', 'MISC')],\\n[('second', 'MISC')] \\n] <end_output>\", <OpenAIObject chat.completion id=chatcmpl-8hypyk6SXSDLnN4J27F6Skn4krWVh at 0x7f3a7bbc1670> JSON: {\n",
      "  \"id\": \"chatcmpl-8hypyk6SXSDLnN4J27F6Skn4krWVh\",\n",
      "  \"object\": \"chat.completion\",\n",
      "  \"created\": 1705492654,\n",
      "  \"model\": \"gpt-35-turbo\",\n",
      "  \"choices\": [\n",
      "    {\n",
      "      \"finish_reason\": \"stop\",\n",
      "      \"index\": 0,\n",
      "      \"message\": {\n",
      "        \"role\": \"assistant\",\n",
      "        \"content\": \"[('Blanc', 'PER')],\\n[('World Cup', 'ORG')],\\n[('Foucras', 'PER')],\\n[('World Cup', 'ORG')],\\n[('aerials', 'MISC')],\\n[('second', 'MISC')] \\n] <end_output>\"\n",
      "      }\n",
      "    }\n",
      "  ],\n",
      "  \"usage\": {\n",
      "    \"prompt_tokens\": 399,\n",
      "    \"completion_tokens\": 58,\n",
      "    \"total_tokens\": 457\n",
      "  }\n",
      "})\n"
     ]
    },
    {
     "name": "stderr",
     "output_type": "stream",
     "text": [
      " 84%|████████▍ | 84/100 [01:40<00:18,  1.17s/it]"
     ]
    },
    {
     "name": "stdout",
     "output_type": "stream",
     "text": [
      "(\"('Volume', 'O'),\\n('trader', 'O')]\", <OpenAIObject chat.completion id=chatcmpl-8hypzIHnC578sBufbcwuON1nKqjR0 at 0x7f3a74543010> JSON: {\n",
      "  \"id\": \"chatcmpl-8hypzIHnC578sBufbcwuON1nKqjR0\",\n",
      "  \"object\": \"chat.completion\",\n",
      "  \"created\": 1705492655,\n",
      "  \"model\": \"gpt-35-turbo\",\n",
      "  \"choices\": [\n",
      "    {\n",
      "      \"finish_reason\": \"stop\",\n",
      "      \"index\": 0,\n",
      "      \"message\": {\n",
      "        \"role\": \"assistant\",\n",
      "        \"content\": \"('Volume', 'O'),\\n('trader', 'O')]\"\n",
      "      }\n",
      "    }\n",
      "  ],\n",
      "  \"usage\": {\n",
      "    \"prompt_tokens\": 269,\n",
      "    \"completion_tokens\": 13,\n",
      "    \"total_tokens\": 282\n",
      "  }\n",
      "})\n"
     ]
    },
    {
     "name": "stderr",
     "output_type": "stream",
     "text": [
      " 85%|████████▌ | 85/100 [01:41<00:17,  1.17s/it]"
     ]
    },
    {
     "name": "stdout",
     "output_type": "stream",
     "text": [
      "(\"[('terrorism', 'MISC'), ('my own life', 'MISC'), ('wife and children', 'MISC'), ('TASR', 'ORG')] <end_output>\", <OpenAIObject chat.completion id=chatcmpl-8hyq0PZJ6Teosyt15tb186n7vubAR at 0x7f3a74543010> JSON: {\n",
      "  \"id\": \"chatcmpl-8hyq0PZJ6Teosyt15tb186n7vubAR\",\n",
      "  \"object\": \"chat.completion\",\n",
      "  \"created\": 1705492656,\n",
      "  \"model\": \"gpt-35-turbo\",\n",
      "  \"choices\": [\n",
      "    {\n",
      "      \"finish_reason\": \"stop\",\n",
      "      \"index\": 0,\n",
      "      \"message\": {\n",
      "        \"role\": \"assistant\",\n",
      "        \"content\": \"[('terrorism', 'MISC'), ('my own life', 'MISC'), ('wife and children', 'MISC'), ('TASR', 'ORG')] <end_output>\"\n",
      "      }\n",
      "    }\n",
      "  ],\n",
      "  \"usage\": {\n",
      "    \"prompt_tokens\": 334,\n",
      "    \"completion_tokens\": 38,\n",
      "    \"total_tokens\": 372\n",
      "  }\n",
      "})\n"
     ]
    },
    {
     "name": "stderr",
     "output_type": "stream",
     "text": [
      " 86%|████████▌ | 86/100 [01:42<00:16,  1.16s/it]"
     ]
    },
    {
     "name": "stdout",
     "output_type": "stream",
     "text": [
      "(\"<start_output> [('Aaa', 'MISC'), ('Aa', 'MISC'), ('Baa', 'MISC')] <end_output>\", <OpenAIObject chat.completion id=chatcmpl-8hyq2mBIePRZxIh9dZR0bcxJ4uGIg at 0x7f3a84295350> JSON: {\n",
      "  \"id\": \"chatcmpl-8hyq2mBIePRZxIh9dZR0bcxJ4uGIg\",\n",
      "  \"object\": \"chat.completion\",\n",
      "  \"created\": 1705492658,\n",
      "  \"model\": \"gpt-35-turbo\",\n",
      "  \"choices\": [\n",
      "    {\n",
      "      \"finish_reason\": \"stop\",\n",
      "      \"index\": 0,\n",
      "      \"message\": {\n",
      "        \"role\": \"assistant\",\n",
      "        \"content\": \"<start_output> [('Aaa', 'MISC'), ('Aa', 'MISC'), ('Baa', 'MISC')] <end_output>\"\n",
      "      }\n",
      "    }\n",
      "  ],\n",
      "  \"usage\": {\n",
      "    \"prompt_tokens\": 318,\n",
      "    \"completion_tokens\": 32,\n",
      "    \"total_tokens\": 350\n",
      "  }\n",
      "})\n"
     ]
    },
    {
     "name": "stderr",
     "output_type": "stream",
     "text": [
      " 87%|████████▋ | 87/100 [01:43<00:15,  1.17s/it]"
     ]
    },
    {
     "name": "stdout",
     "output_type": "stream",
     "text": [
      "(\"('TASR', 'ORG'), \\n('Frantisek Gaulieder', 'PERSON'), \\n('Galanta', 'LOC'), \\n('Slovakia', 'LOC')] \\n<end_output>\", <OpenAIObject chat.completion id=chatcmpl-8hyq32H6CfIMIw55she4DOn0nZvHJ at 0x7f3a74543010> JSON: {\n",
      "  \"id\": \"chatcmpl-8hyq32H6CfIMIw55she4DOn0nZvHJ\",\n",
      "  \"object\": \"chat.completion\",\n",
      "  \"created\": 1705492659,\n",
      "  \"model\": \"gpt-35-turbo\",\n",
      "  \"choices\": [\n",
      "    {\n",
      "      \"finish_reason\": \"stop\",\n",
      "      \"index\": 0,\n",
      "      \"message\": {\n",
      "        \"role\": \"assistant\",\n",
      "        \"content\": \"('TASR', 'ORG'), \\n('Frantisek Gaulieder', 'PERSON'), \\n('Galanta', 'LOC'), \\n('Slovakia', 'LOC')] \\n<end_output>\"\n",
      "      }\n",
      "    }\n",
      "  ],\n",
      "  \"usage\": {\n",
      "    \"prompt_tokens\": 371,\n",
      "    \"completion_tokens\": 42,\n",
      "    \"total_tokens\": 413\n",
      "  }\n",
      "})\n"
     ]
    },
    {
     "name": "stderr",
     "output_type": "stream",
     "text": [
      " 88%|████████▊ | 88/100 [01:44<00:13,  1.13s/it]"
     ]
    },
    {
     "name": "stdout",
     "output_type": "stream",
     "text": [
      "(\"('larger-than-average', 'MISC')] <end_output>\", <OpenAIObject chat.completion id=chatcmpl-8hyq46BxxV0pX57CX0kc5OunI9LYx at 0x7f3a84295350> JSON: {\n",
      "  \"id\": \"chatcmpl-8hyq46BxxV0pX57CX0kc5OunI9LYx\",\n",
      "  \"object\": \"chat.completion\",\n",
      "  \"created\": 1705492660,\n",
      "  \"model\": \"gpt-35-turbo\",\n",
      "  \"choices\": [\n",
      "    {\n",
      "      \"finish_reason\": \"stop\",\n",
      "      \"index\": 0,\n",
      "      \"message\": {\n",
      "        \"role\": \"assistant\",\n",
      "        \"content\": \"('larger-than-average', 'MISC')] <end_output>\"\n",
      "      }\n",
      "    }\n",
      "  ],\n",
      "  \"usage\": {\n",
      "    \"prompt_tokens\": 315,\n",
      "    \"completion_tokens\": 14,\n",
      "    \"total_tokens\": 329\n",
      "  }\n",
      "})\n"
     ]
    },
    {
     "name": "stderr",
     "output_type": "stream",
     "text": [
      " 89%|████████▉ | 89/100 [01:45<00:12,  1.11s/it]"
     ]
    },
    {
     "name": "stdout",
     "output_type": "stream",
     "text": [
      "(\"('Standings', 'O'),\\n('played', 'O'),\\n('won', 'O'),\\n('drawn', 'O'),\\n('lost', 'O'),\\n('goals', 'O')]\\n\\n<end_output>\", <OpenAIObject chat.completion id=chatcmpl-8hyq54kGXToTuc0rjMTRLSWcwQPES at 0x7f3a7bbc1670> JSON: {\n",
      "  \"id\": \"chatcmpl-8hyq54kGXToTuc0rjMTRLSWcwQPES\",\n",
      "  \"object\": \"chat.completion\",\n",
      "  \"created\": 1705492661,\n",
      "  \"model\": \"gpt-35-turbo\",\n",
      "  \"choices\": [\n",
      "    {\n",
      "      \"finish_reason\": \"stop\",\n",
      "      \"index\": 0,\n",
      "      \"message\": {\n",
      "        \"role\": \"assistant\",\n",
      "        \"content\": \"('Standings', 'O'),\\n('played', 'O'),\\n('won', 'O'),\\n('drawn', 'O'),\\n('lost', 'O'),\\n('goals', 'O')]\\n\\n<end_output>\"\n",
      "      }\n",
      "    }\n",
      "  ],\n",
      "  \"usage\": {\n",
      "    \"prompt_tokens\": 285,\n",
      "    \"completion_tokens\": 43,\n",
      "    \"total_tokens\": 328\n",
      "  }\n",
      "})\n"
     ]
    },
    {
     "name": "stderr",
     "output_type": "stream",
     "text": [
      " 90%|█████████ | 90/100 [01:46<00:11,  1.11s/it]"
     ]
    },
    {
     "name": "stdout",
     "output_type": "stream",
     "text": [
      "(\"('OPEC', 'ORG'), ('Thursday', 'DATE'), ('Wednesday', 'DATE'), ('OPECNA', 'ORG'), ('OPEC', 'ORG')] <end_output>\", <OpenAIObject chat.completion id=chatcmpl-8hyq60uRXj8vfRljyrhpQor8jgWPV at 0x7f3a7b8d27a0> JSON: {\n",
      "  \"id\": \"chatcmpl-8hyq60uRXj8vfRljyrhpQor8jgWPV\",\n",
      "  \"object\": \"chat.completion\",\n",
      "  \"created\": 1705492662,\n",
      "  \"model\": \"gpt-35-turbo\",\n",
      "  \"choices\": [\n",
      "    {\n",
      "      \"finish_reason\": \"stop\",\n",
      "      \"index\": 0,\n",
      "      \"message\": {\n",
      "        \"role\": \"assistant\",\n",
      "        \"content\": \"('OPEC', 'ORG'), ('Thursday', 'DATE'), ('Wednesday', 'DATE'), ('OPECNA', 'ORG'), ('OPEC', 'ORG')] <end_output>\"\n",
      "      }\n",
      "    }\n",
      "  ],\n",
      "  \"usage\": {\n",
      "    \"prompt_tokens\": 374,\n",
      "    \"completion_tokens\": 38,\n",
      "    \"total_tokens\": 412\n",
      "  }\n",
      "})\n"
     ]
    },
    {
     "name": "stderr",
     "output_type": "stream",
     "text": [
      " 91%|█████████ | 91/100 [01:47<00:09,  1.07s/it]"
     ]
    },
    {
     "name": "stdout",
     "output_type": "stream",
     "text": [
      "(\"('sports statistics', 'MISC'), \\n('stock prices', 'MISC')\\n] <end_output>\", <OpenAIObject chat.completion id=chatcmpl-8hyq7AfMc07TiNOuxj7C0tSTXXwM7 at 0x7f3aa044c860> JSON: {\n",
      "  \"id\": \"chatcmpl-8hyq7AfMc07TiNOuxj7C0tSTXXwM7\",\n",
      "  \"object\": \"chat.completion\",\n",
      "  \"created\": 1705492663,\n",
      "  \"model\": \"gpt-35-turbo\",\n",
      "  \"choices\": [\n",
      "    {\n",
      "      \"finish_reason\": \"stop\",\n",
      "      \"index\": 0,\n",
      "      \"message\": {\n",
      "        \"role\": \"assistant\",\n",
      "        \"content\": \"('sports statistics', 'MISC'), \\n('stock prices', 'MISC')\\n] <end_output>\"\n",
      "      }\n",
      "    }\n",
      "  ],\n",
      "  \"usage\": {\n",
      "    \"prompt_tokens\": 266,\n",
      "    \"completion_tokens\": 22,\n",
      "    \"total_tokens\": 288\n",
      "  }\n",
      "})\n",
      "-----------------------------------------------\n",
      "response does not contain [()]. Returned [('sports statistics', 'MISC'), \n",
      "('stock prices', 'MISC')\n",
      "] <end_output>\n",
      "-----------------------------------------------\n"
     ]
    },
    {
     "name": "stderr",
     "output_type": "stream",
     "text": [
      " 92%|█████████▏| 92/100 [01:49<00:09,  1.17s/it]"
     ]
    },
    {
     "name": "stdout",
     "output_type": "stream",
     "text": [
      "(\"[('Alatas', 'PER')],\\n[('government', 'ORG')],\\n[('Nobel Peace Prize', 'MISC')],\\n[('Belo', 'PER')]\\n] <end_output>\", <OpenAIObject chat.completion id=chatcmpl-8hyq8xMzNbxd1tFYVRfCT90RbJ96M at 0x7f3a7b8d27a0> JSON: {\n",
      "  \"id\": \"chatcmpl-8hyq8xMzNbxd1tFYVRfCT90RbJ96M\",\n",
      "  \"object\": \"chat.completion\",\n",
      "  \"created\": 1705492664,\n",
      "  \"model\": \"gpt-35-turbo\",\n",
      "  \"choices\": [\n",
      "    {\n",
      "      \"finish_reason\": \"stop\",\n",
      "      \"index\": 0,\n",
      "      \"message\": {\n",
      "        \"role\": \"assistant\",\n",
      "        \"content\": \"[('Alatas', 'PER')],\\n[('government', 'ORG')],\\n[('Nobel Peace Prize', 'MISC')],\\n[('Belo', 'PER')]\\n] <end_output>\"\n",
      "      }\n",
      "    }\n",
      "  ],\n",
      "  \"usage\": {\n",
      "    \"prompt_tokens\": 413,\n",
      "    \"completion_tokens\": 39,\n",
      "    \"total_tokens\": 452\n",
      "  }\n",
      "})\n"
     ]
    },
    {
     "name": "stderr",
     "output_type": "stream",
     "text": [
      " 93%|█████████▎| 93/100 [01:50<00:08,  1.15s/it]"
     ]
    },
    {
     "name": "stdout",
     "output_type": "stream",
     "text": [
      "(\"[('Tampico', 'LOC')],\\n[('Kenda', 'ORG')]\\n] <end_output>\", <OpenAIObject chat.completion id=chatcmpl-8hyqA8nQRSQAqCRmDyUZ08UE7a8CZ at 0x7f3a7b8d27a0> JSON: {\n",
      "  \"id\": \"chatcmpl-8hyqA8nQRSQAqCRmDyUZ08UE7a8CZ\",\n",
      "  \"object\": \"chat.completion\",\n",
      "  \"created\": 1705492666,\n",
      "  \"model\": \"gpt-35-turbo\",\n",
      "  \"choices\": [\n",
      "    {\n",
      "      \"finish_reason\": \"stop\",\n",
      "      \"index\": 0,\n",
      "      \"message\": {\n",
      "        \"role\": \"assistant\",\n",
      "        \"content\": \"[('Tampico', 'LOC')],\\n[('Kenda', 'ORG')]\\n] <end_output>\"\n",
      "      }\n",
      "    }\n",
      "  ],\n",
      "  \"usage\": {\n",
      "    \"prompt_tokens\": 340,\n",
      "    \"completion_tokens\": 22,\n",
      "    \"total_tokens\": 362\n",
      "  }\n",
      "})\n"
     ]
    },
    {
     "name": "stderr",
     "output_type": "stream",
     "text": [
      " 94%|█████████▍| 94/100 [01:51<00:06,  1.15s/it]"
     ]
    },
    {
     "name": "stdout",
     "output_type": "stream",
     "text": [
      "(\"('Iran Sabr', 'MISC'), ('19/11/96', 'MISC'), ('9,000', 'MISC'), ('Iran', 'LOC')] <end_output>\", <OpenAIObject chat.completion id=chatcmpl-8hyqBpIzNmkl1Pfzm6gofJFcVcYLi at 0x7f3a7bbc1670> JSON: {\n",
      "  \"id\": \"chatcmpl-8hyqBpIzNmkl1Pfzm6gofJFcVcYLi\",\n",
      "  \"object\": \"chat.completion\",\n",
      "  \"created\": 1705492667,\n",
      "  \"model\": \"gpt-35-turbo\",\n",
      "  \"choices\": [\n",
      "    {\n",
      "      \"finish_reason\": \"stop\",\n",
      "      \"index\": 0,\n",
      "      \"message\": {\n",
      "        \"role\": \"assistant\",\n",
      "        \"content\": \"('Iran Sabr', 'MISC'), ('19/11/96', 'MISC'), ('9,000', 'MISC'), ('Iran', 'LOC')] <end_output>\"\n",
      "      }\n",
      "    }\n",
      "  ],\n",
      "  \"usage\": {\n",
      "    \"prompt_tokens\": 311,\n",
      "    \"completion_tokens\": 39,\n",
      "    \"total_tokens\": 350\n",
      "  }\n",
      "})\n"
     ]
    },
    {
     "name": "stderr",
     "output_type": "stream",
     "text": [
      " 95%|█████████▌| 95/100 [01:52<00:06,  1.29s/it]"
     ]
    },
    {
     "name": "stdout",
     "output_type": "stream",
     "text": [
      "(\"[('Pace', 'PER')],\\n[('Virginia Tech', 'ORG'), ('Cornell Brown', 'PER')],\\n[('Arizona State', 'ORG'), ('Juan Roque', 'PER')],\\n[('Jared Tomich', 'PER'), ('Nebraska', 'ORG')]\\n] <end_output>\", <OpenAIObject chat.completion id=chatcmpl-8hyqCAI6uFnJsyAZdZHtlc5KuIRFh at 0x7f3a745301d0> JSON: {\n",
      "  \"id\": \"chatcmpl-8hyqCAI6uFnJsyAZdZHtlc5KuIRFh\",\n",
      "  \"object\": \"chat.completion\",\n",
      "  \"created\": 1705492668,\n",
      "  \"model\": \"gpt-35-turbo\",\n",
      "  \"choices\": [\n",
      "    {\n",
      "      \"finish_reason\": \"stop\",\n",
      "      \"index\": 0,\n",
      "      \"message\": {\n",
      "        \"role\": \"assistant\",\n",
      "        \"content\": \"[('Pace', 'PER')],\\n[('Virginia Tech', 'ORG'), ('Cornell Brown', 'PER')],\\n[('Arizona State', 'ORG'), ('Juan Roque', 'PER')],\\n[('Jared Tomich', 'PER'), ('Nebraska', 'ORG')]\\n] <end_output>\"\n",
      "      }\n",
      "    }\n",
      "  ],\n",
      "  \"usage\": {\n",
      "    \"prompt_tokens\": 442,\n",
      "    \"completion_tokens\": 62,\n",
      "    \"total_tokens\": 504\n",
      "  }\n",
      "})\n"
     ]
    },
    {
     "name": "stderr",
     "output_type": "stream",
     "text": [
      " 96%|█████████▌| 96/100 [01:54<00:04,  1.23s/it]"
     ]
    },
    {
     "name": "stdout",
     "output_type": "stream",
     "text": [
      "(\"[('Foreign Minister Dariusz Rosati', 'PER'), ('Poland', 'LOC'), ('Swiss', 'MISC')] <end_output>\", <OpenAIObject chat.completion id=chatcmpl-8hyqDgIPaUX2q6WEUGjRoUx4tGOdZ at 0x7f3a7bbc1670> JSON: {\n",
      "  \"id\": \"chatcmpl-8hyqDgIPaUX2q6WEUGjRoUx4tGOdZ\",\n",
      "  \"object\": \"chat.completion\",\n",
      "  \"created\": 1705492669,\n",
      "  \"model\": \"gpt-35-turbo\",\n",
      "  \"choices\": [\n",
      "    {\n",
      "      \"finish_reason\": \"stop\",\n",
      "      \"index\": 0,\n",
      "      \"message\": {\n",
      "        \"role\": \"assistant\",\n",
      "        \"content\": \"[('Foreign Minister Dariusz Rosati', 'PER'), ('Poland', 'LOC'), ('Swiss', 'MISC')] <end_output>\"\n",
      "      }\n",
      "    }\n",
      "  ],\n",
      "  \"usage\": {\n",
      "    \"prompt_tokens\": 463,\n",
      "    \"completion_tokens\": 32,\n",
      "    \"total_tokens\": 495\n",
      "  }\n",
      "})\n"
     ]
    },
    {
     "name": "stderr",
     "output_type": "stream",
     "text": [
      " 97%|█████████▋| 97/100 [01:55<00:03,  1.18s/it]"
     ]
    },
    {
     "name": "stdout",
     "output_type": "stream",
     "text": [
      "(\"('Scottish premier division', 'ORG'),\\n('Saturday', 'DATE')\\n] <end_output>\", <OpenAIObject chat.completion id=chatcmpl-8hyqFHSg0WuEELEtYkG5u6GOjNKvX at 0x7f3a7b8d27a0> JSON: {\n",
      "  \"id\": \"chatcmpl-8hyqFHSg0WuEELEtYkG5u6GOjNKvX\",\n",
      "  \"object\": \"chat.completion\",\n",
      "  \"created\": 1705492671,\n",
      "  \"model\": \"gpt-35-turbo\",\n",
      "  \"choices\": [\n",
      "    {\n",
      "      \"finish_reason\": \"stop\",\n",
      "      \"index\": 0,\n",
      "      \"message\": {\n",
      "        \"role\": \"assistant\",\n",
      "        \"content\": \"('Scottish premier division', 'ORG'),\\n('Saturday', 'DATE')\\n] <end_output>\"\n",
      "      }\n",
      "    }\n",
      "  ],\n",
      "  \"usage\": {\n",
      "    \"prompt_tokens\": 246,\n",
      "    \"completion_tokens\": 20,\n",
      "    \"total_tokens\": 266\n",
      "  }\n",
      "})\n",
      "-----------------------------------------------\n",
      "response does not contain [()]. Returned [('Scottish premier division', 'ORG'),\n",
      "('Saturday', 'DATE')\n",
      "] <end_output>\n",
      "-----------------------------------------------\n"
     ]
    },
    {
     "name": "stderr",
     "output_type": "stream",
     "text": [
      " 98%|█████████▊| 98/100 [01:56<00:02,  1.14s/it]"
     ]
    },
    {
     "name": "stdout",
     "output_type": "stream",
     "text": [
      "(\"('Shops', 'ORG'), ('businesses', 'ORG')] <end_output>\", <OpenAIObject chat.completion id=chatcmpl-8hyqGWdEjKJ4QmIEFoDATy5HQ8Qzs at 0x7f3aa044c860> JSON: {\n",
      "  \"id\": \"chatcmpl-8hyqGWdEjKJ4QmIEFoDATy5HQ8Qzs\",\n",
      "  \"object\": \"chat.completion\",\n",
      "  \"created\": 1705492672,\n",
      "  \"model\": \"gpt-35-turbo\",\n",
      "  \"choices\": [\n",
      "    {\n",
      "      \"finish_reason\": \"stop\",\n",
      "      \"index\": 0,\n",
      "      \"message\": {\n",
      "        \"role\": \"assistant\",\n",
      "        \"content\": \"('Shops', 'ORG'), ('businesses', 'ORG')] <end_output>\"\n",
      "      }\n",
      "    }\n",
      "  ],\n",
      "  \"usage\": {\n",
      "    \"prompt_tokens\": 338,\n",
      "    \"completion_tokens\": 18,\n",
      "    \"total_tokens\": 356\n",
      "  }\n",
      "})\n"
     ]
    },
    {
     "name": "stderr",
     "output_type": "stream",
     "text": [
      " 99%|█████████▉| 99/100 [01:57<00:01,  1.09s/it]"
     ]
    },
    {
     "name": "stdout",
     "output_type": "stream",
     "text": [
      "(\"<start_output> [('Parent', 'ORG')] <end_output>\", <OpenAIObject chat.completion id=chatcmpl-8hyqHwKglCj8QeAw9m3y4cfmdscin at 0x7f3a7b8d27a0> JSON: {\n",
      "  \"id\": \"chatcmpl-8hyqHwKglCj8QeAw9m3y4cfmdscin\",\n",
      "  \"object\": \"chat.completion\",\n",
      "  \"created\": 1705492673,\n",
      "  \"model\": \"gpt-35-turbo\",\n",
      "  \"choices\": [\n",
      "    {\n",
      "      \"finish_reason\": \"stop\",\n",
      "      \"index\": 0,\n",
      "      \"message\": {\n",
      "        \"role\": \"assistant\",\n",
      "        \"content\": \"<start_output> [('Parent', 'ORG')] <end_output>\"\n",
      "      }\n",
      "    }\n",
      "  ],\n",
      "  \"usage\": {\n",
      "    \"prompt_tokens\": 287,\n",
      "    \"completion_tokens\": 14,\n",
      "    \"total_tokens\": 301\n",
      "  }\n",
      "})\n"
     ]
    },
    {
     "name": "stderr",
     "output_type": "stream",
     "text": [
      "100%|██████████| 100/100 [01:58<00:00,  1.19s/it]"
     ]
    },
    {
     "name": "stdout",
     "output_type": "stream",
     "text": [
      "(\"[('experts group', 'MISC')],\\n[('documents', 'MISC')],\\n[('official languages', 'MISC')],\\n[('item', 'MISC')],\\n[('next week', 'MISC')],\\n[('agenda', 'MISC')],\\n[('offcial', 'MISC')]\\n] <end_output>\", <OpenAIObject chat.completion id=chatcmpl-8hyqI7fPjtCDCbWYh6vehENL7zvIW at 0x7f3aa044c860> JSON: {\n",
      "  \"id\": \"chatcmpl-8hyqI7fPjtCDCbWYh6vehENL7zvIW\",\n",
      "  \"object\": \"chat.completion\",\n",
      "  \"created\": 1705492674,\n",
      "  \"model\": \"gpt-35-turbo\",\n",
      "  \"choices\": [\n",
      "    {\n",
      "      \"finish_reason\": \"stop\",\n",
      "      \"index\": 0,\n",
      "      \"message\": {\n",
      "        \"role\": \"assistant\",\n",
      "        \"content\": \"[('experts group', 'MISC')],\\n[('documents', 'MISC')],\\n[('official languages', 'MISC')],\\n[('item', 'MISC')],\\n[('next week', 'MISC')],\\n[('agenda', 'MISC')],\\n[('offcial', 'MISC')]\\n] <end_output>\"\n",
      "      }\n",
      "    }\n",
      "  ],\n",
      "  \"usage\": {\n",
      "    \"prompt_tokens\": 373,\n",
      "    \"completion_tokens\": 66,\n",
      "    \"total_tokens\": 439\n",
      "  }\n",
      "})\n",
      "Testing with sentence\n",
      "      and discussion\n"
     ]
    },
    {
     "name": "stderr",
     "output_type": "stream",
     "text": [
      "\n"
     ]
    },
    {
     "data": {
      "application/vnd.jupyter.widget-view+json": {
       "model_id": "89e67bdfdf104f2aa0e691c8c35a4f07",
       "version_major": 2,
       "version_minor": 0
      },
      "text/plain": [
       "Map:   0%|          | 0/1488 [00:00<?, ? examples/s]"
      ]
     },
     "metadata": {},
     "output_type": "display_data"
    },
    {
     "data": {
      "application/vnd.jupyter.widget-view+json": {
       "model_id": "687058fab0a64e60bbebc99731c548db",
       "version_major": 2,
       "version_minor": 0
      },
      "text/plain": [
       "Map:   0%|          | 0/100 [00:00<?, ? examples/s]"
      ]
     },
     "metadata": {},
     "output_type": "display_data"
    },
    {
     "name": "stderr",
     "output_type": "stream",
     "text": [
      "  1%|          | 1/100 [00:00<01:34,  1.05it/s]"
     ]
    },
    {
     "name": "stdout",
     "output_type": "stream",
     "text": [
      "(\"('Livshits', 'PER')] <end_output>\", <OpenAIObject chat.completion id=chatcmpl-8hyqLFyqtXq8o60WgNpqKAh5gWkfm at 0x7f3a7b8c44a0> JSON: {\n",
      "  \"id\": \"chatcmpl-8hyqLFyqtXq8o60WgNpqKAh5gWkfm\",\n",
      "  \"object\": \"chat.completion\",\n",
      "  \"created\": 1705492677,\n",
      "  \"model\": \"gpt-35-turbo\",\n",
      "  \"choices\": [\n",
      "    {\n",
      "      \"finish_reason\": \"stop\",\n",
      "      \"index\": 0,\n",
      "      \"message\": {\n",
      "        \"role\": \"assistant\",\n",
      "        \"content\": \"('Livshits', 'PER')] <end_output>\"\n",
      "      }\n",
      "    }\n",
      "  ],\n",
      "  \"usage\": {\n",
      "    \"prompt_tokens\": 777,\n",
      "    \"completion_tokens\": 12,\n",
      "    \"total_tokens\": 789\n",
      "  }\n",
      "})\n"
     ]
    },
    {
     "name": "stderr",
     "output_type": "stream",
     "text": [
      "  2%|▏         | 2/100 [00:02<01:40,  1.03s/it]"
     ]
    },
    {
     "name": "stdout",
     "output_type": "stream",
     "text": [
      "(\"[('Newmont-Santa Fe deal', 'MISC')] <end_output>\", <OpenAIObject chat.completion id=chatcmpl-8hyqMLetc23fkHdOxnve7ctoGLdf9 at 0x7f3a7bbb5e90> JSON: {\n",
      "  \"id\": \"chatcmpl-8hyqMLetc23fkHdOxnve7ctoGLdf9\",\n",
      "  \"object\": \"chat.completion\",\n",
      "  \"created\": 1705492678,\n",
      "  \"model\": \"gpt-35-turbo\",\n",
      "  \"choices\": [\n",
      "    {\n",
      "      \"finish_reason\": \"stop\",\n",
      "      \"index\": 0,\n",
      "      \"message\": {\n",
      "        \"role\": \"assistant\",\n",
      "        \"content\": \"[('Newmont-Santa Fe deal', 'MISC')] <end_output>\"\n",
      "      }\n",
      "    }\n",
      "  ],\n",
      "  \"usage\": {\n",
      "    \"prompt_tokens\": 835,\n",
      "    \"completion_tokens\": 17,\n",
      "    \"total_tokens\": 852\n",
      "  }\n",
      "})\n"
     ]
    },
    {
     "name": "stderr",
     "output_type": "stream",
     "text": [
      "  3%|▎         | 3/100 [00:03<01:50,  1.14s/it]"
     ]
    },
    {
     "name": "stdout",
     "output_type": "stream",
     "text": [
      "(\"[('Australia', 'LOC')],\\n[('Sydney Cricket Ground', 'LOC')],\\n[('124', 'MISC')],\\n[('Lara', 'PER')]] <end_output>\", <OpenAIObject chat.completion id=chatcmpl-8hyqND91SeLkJ4msW0KOmuPZqCb2X at 0x7f3a74536cf0> JSON: {\n",
      "  \"id\": \"chatcmpl-8hyqND91SeLkJ4msW0KOmuPZqCb2X\",\n",
      "  \"object\": \"chat.completion\",\n",
      "  \"created\": 1705492679,\n",
      "  \"model\": \"gpt-35-turbo\",\n",
      "  \"choices\": [\n",
      "    {\n",
      "      \"finish_reason\": \"stop\",\n",
      "      \"index\": 0,\n",
      "      \"message\": {\n",
      "        \"role\": \"assistant\",\n",
      "        \"content\": \"[('Australia', 'LOC')],\\n[('Sydney Cricket Ground', 'LOC')],\\n[('124', 'MISC')],\\n[('Lara', 'PER')]] <end_output>\"\n",
      "      }\n",
      "    }\n",
      "  ],\n",
      "  \"usage\": {\n",
      "    \"prompt_tokens\": 978,\n",
      "    \"completion_tokens\": 38,\n",
      "    \"total_tokens\": 1016\n",
      "  }\n",
      "})\n"
     ]
    },
    {
     "name": "stderr",
     "output_type": "stream",
     "text": [
      "  4%|▍         | 4/100 [00:04<01:53,  1.18s/it]"
     ]
    },
    {
     "name": "stdout",
     "output_type": "stream",
     "text": [
      "(\"[('NYMEX', 'ORG'), ('Henry Hub', 'LOC')],\\n[('Friday', 'MISC')],\\n[('National Weather Service', 'ORG')] \\n] <end_output>\", <OpenAIObject chat.completion id=chatcmpl-8hyqOW3vtHbr68CYXgLuXlrKcrqmM at 0x7f3a7bb321b0> JSON: {\n",
      "  \"id\": \"chatcmpl-8hyqOW3vtHbr68CYXgLuXlrKcrqmM\",\n",
      "  \"object\": \"chat.completion\",\n",
      "  \"created\": 1705492680,\n",
      "  \"model\": \"gpt-35-turbo\",\n",
      "  \"choices\": [\n",
      "    {\n",
      "      \"finish_reason\": \"stop\",\n",
      "      \"index\": 0,\n",
      "      \"message\": {\n",
      "        \"role\": \"assistant\",\n",
      "        \"content\": \"[('NYMEX', 'ORG'), ('Henry Hub', 'LOC')],\\n[('Friday', 'MISC')],\\n[('National Weather Service', 'ORG')] \\n] <end_output>\"\n",
      "      }\n",
      "    }\n",
      "  ],\n",
      "  \"usage\": {\n",
      "    \"prompt_tokens\": 835,\n",
      "    \"completion_tokens\": 39,\n",
      "    \"total_tokens\": 874\n",
      "  }\n",
      "})\n"
     ]
    },
    {
     "name": "stderr",
     "output_type": "stream",
     "text": [
      "  5%|▌         | 5/100 [00:05<01:49,  1.15s/it]"
     ]
    },
    {
     "name": "stdout",
     "output_type": "stream",
     "text": [
      "(\"[('Lanarkshire', 'LOC')],\\n[('pensioners', 'MISC')]\\n] <end_output>\", <OpenAIObject chat.completion id=chatcmpl-8hyqQ24bgS7xfduPAcDG3GijrlOfP at 0x7f3a7bb321b0> JSON: {\n",
      "  \"id\": \"chatcmpl-8hyqQ24bgS7xfduPAcDG3GijrlOfP\",\n",
      "  \"object\": \"chat.completion\",\n",
      "  \"created\": 1705492682,\n",
      "  \"model\": \"gpt-35-turbo\",\n",
      "  \"choices\": [\n",
      "    {\n",
      "      \"finish_reason\": \"stop\",\n",
      "      \"index\": 0,\n",
      "      \"message\": {\n",
      "        \"role\": \"assistant\",\n",
      "        \"content\": \"[('Lanarkshire', 'LOC')],\\n[('pensioners', 'MISC')]\\n] <end_output>\"\n",
      "      }\n",
      "    }\n",
      "  ],\n",
      "  \"usage\": {\n",
      "    \"prompt_tokens\": 711,\n",
      "    \"completion_tokens\": 25,\n",
      "    \"total_tokens\": 736\n",
      "  }\n",
      "})\n"
     ]
    },
    {
     "name": "stderr",
     "output_type": "stream",
     "text": [
      "  6%|▌         | 6/100 [00:09<03:14,  2.07s/it]"
     ]
    },
    {
     "name": "stdout",
     "output_type": "stream",
     "text": [
      "(\"[('Lahd', 'PER')], \\n[('Beirut', 'LOC')], \\n[('Lebanese', 'MISC')], \\n[('Israel', 'LOC')], \\n[('Lebanese', 'MISC')], \\n[('Beirut', 'LOC')], \\n[('Lebanese', 'MISC')], \\n[('Israel', 'LOC')], \\n[('Lebanese', 'MISC')], \\n[('Beirut', 'LOC')], \\n[('Lebanese', 'MISC')], \\n[('Israel', 'LOC')], \\n[('Lebanese', 'MISC')], \\n[('Beirut', 'LOC')], \\n[('Lebanese', 'MISC')], \\n[('Israel', 'LOC')], \\n[('Lebanese', 'MISC')], \\n[('Beirut', 'LOC')], \\n[('Lebanese', 'MISC')], \\n[('Israel', 'LOC')], \\n[('Lebanese', 'MISC')], \\n[('Beirut', 'LOC')], \\n[('Lebanese', 'MISC')], \\n[('Israel', 'LOC')], \\n[('Lebanese', 'MISC')], \\n[('Beirut', 'LOC')], \\n[('Lebanese', 'MISC')], \\n[('Israel', 'LOC')], \\n[('Lebanese', 'MISC')],\", <OpenAIObject chat.completion id=chatcmpl-8hyqRXyyzdbGKFCEuNfg9IL7hEouN at 0x7f3a71e33e20> JSON: {\n",
      "  \"id\": \"chatcmpl-8hyqRXyyzdbGKFCEuNfg9IL7hEouN\",\n",
      "  \"object\": \"chat.completion\",\n",
      "  \"created\": 1705492683,\n",
      "  \"model\": \"gpt-35-turbo\",\n",
      "  \"choices\": [\n",
      "    {\n",
      "      \"finish_reason\": \"length\",\n",
      "      \"index\": 0,\n",
      "      \"message\": {\n",
      "        \"role\": \"assistant\",\n",
      "        \"content\": \"[('Lahd', 'PER')], \\n[('Beirut', 'LOC')], \\n[('Lebanese', 'MISC')], \\n[('Israel', 'LOC')], \\n[('Lebanese', 'MISC')], \\n[('Beirut', 'LOC')], \\n[('Lebanese', 'MISC')], \\n[('Israel', 'LOC')], \\n[('Lebanese', 'MISC')], \\n[('Beirut', 'LOC')], \\n[('Lebanese', 'MISC')], \\n[('Israel', 'LOC')], \\n[('Lebanese', 'MISC')], \\n[('Beirut', 'LOC')], \\n[('Lebanese', 'MISC')], \\n[('Israel', 'LOC')], \\n[('Lebanese', 'MISC')], \\n[('Beirut', 'LOC')], \\n[('Lebanese', 'MISC')], \\n[('Israel', 'LOC')], \\n[('Lebanese', 'MISC')], \\n[('Beirut', 'LOC')], \\n[('Lebanese', 'MISC')], \\n[('Israel', 'LOC')], \\n[('Lebanese', 'MISC')], \\n[('Beirut', 'LOC')], \\n[('Lebanese', 'MISC')], \\n[('Israel', 'LOC')], \\n[('Lebanese', 'MISC')], \\n\"\n",
      "      }\n",
      "    }\n",
      "  ],\n",
      "  \"usage\": {\n",
      "    \"prompt_tokens\": 1060,\n",
      "    \"completion_tokens\": 312,\n",
      "    \"total_tokens\": 1372\n",
      "  }\n",
      "})\n"
     ]
    },
    {
     "name": "stderr",
     "output_type": "stream",
     "text": [
      "  7%|▋         | 7/100 [00:10<02:42,  1.75s/it]"
     ]
    },
    {
     "name": "stdout",
     "output_type": "stream",
     "text": [
      "(\"[('deputy', 'MISC')] <end_output>\", <OpenAIObject chat.completion id=chatcmpl-8hyqVvjbFC0N4Pla9BWCbpOurPLaR at 0x7f3a7bb32ca0> JSON: {\n",
      "  \"id\": \"chatcmpl-8hyqVvjbFC0N4Pla9BWCbpOurPLaR\",\n",
      "  \"object\": \"chat.completion\",\n",
      "  \"created\": 1705492687,\n",
      "  \"model\": \"gpt-35-turbo\",\n",
      "  \"choices\": [\n",
      "    {\n",
      "      \"finish_reason\": \"stop\",\n",
      "      \"index\": 0,\n",
      "      \"message\": {\n",
      "        \"role\": \"assistant\",\n",
      "        \"content\": \"[('deputy', 'MISC')] <end_output>\"\n",
      "      }\n",
      "    }\n",
      "  ],\n",
      "  \"usage\": {\n",
      "    \"prompt_tokens\": 748,\n",
      "    \"completion_tokens\": 13,\n",
      "    \"total_tokens\": 761\n",
      "  }\n",
      "})\n"
     ]
    },
    {
     "name": "stderr",
     "output_type": "stream",
     "text": [
      "  8%|▊         | 8/100 [00:11<02:30,  1.63s/it]"
     ]
    },
    {
     "name": "stdout",
     "output_type": "stream",
     "text": [
      "(\"[('Doctors', 'ORG'), ('Czech President Vaclav Havel', 'PER'), ('cancer', 'MISC'), ('lungs', 'MISC'), ('spokesman', 'MISC'), ('Friday', 'MISC')] <end_output>\", <OpenAIObject chat.completion id=chatcmpl-8hyqW6SblfSf9aobHpGHoGJpHFcT6 at 0x7f3a7bb32ca0> JSON: {\n",
      "  \"id\": \"chatcmpl-8hyqW6SblfSf9aobHpGHoGJpHFcT6\",\n",
      "  \"object\": \"chat.completion\",\n",
      "  \"created\": 1705492688,\n",
      "  \"model\": \"gpt-35-turbo\",\n",
      "  \"choices\": [\n",
      "    {\n",
      "      \"finish_reason\": \"stop\",\n",
      "      \"index\": 0,\n",
      "      \"message\": {\n",
      "        \"role\": \"assistant\",\n",
      "        \"content\": \"[('Doctors', 'ORG'), ('Czech President Vaclav Havel', 'PER'), ('cancer', 'MISC'), ('lungs', 'MISC'), ('spokesman', 'MISC'), ('Friday', 'MISC')] <end_output>\"\n",
      "      }\n",
      "    }\n",
      "  ],\n",
      "  \"usage\": {\n",
      "    \"prompt_tokens\": 756,\n",
      "    \"completion_tokens\": 56,\n",
      "    \"total_tokens\": 812\n",
      "  }\n",
      "})\n"
     ]
    },
    {
     "name": "stderr",
     "output_type": "stream",
     "text": [
      "  9%|▉         | 9/100 [00:13<02:30,  1.65s/it]"
     ]
    },
    {
     "name": "stdout",
     "output_type": "stream",
     "text": [
      "(\"[('Santa Fe', 'ORG'), ('Nevada', 'LOC')],\\n[('California', 'LOC')],\\n[('Montana', 'LOC')],\\n[('Canada', 'LOC')],\\n[('Brazil', 'LOC')],\\n[('Australia', 'LOC')],\\n[('Chile', 'LOC')],\\n[('Kazakstan', 'LOC')],\\n[('Mexico', 'LOC')],\\n[('Ghana', 'LOC')]] <end_output>\", <OpenAIObject chat.completion id=chatcmpl-8hyqXzDxwCUmsq96eBIZIxm2Fq1Ls at 0x7f3a8eed3ce0> JSON: {\n",
      "  \"id\": \"chatcmpl-8hyqXzDxwCUmsq96eBIZIxm2Fq1Ls\",\n",
      "  \"object\": \"chat.completion\",\n",
      "  \"created\": 1705492689,\n",
      "  \"model\": \"gpt-35-turbo\",\n",
      "  \"choices\": [\n",
      "    {\n",
      "      \"finish_reason\": \"stop\",\n",
      "      \"index\": 0,\n",
      "      \"message\": {\n",
      "        \"role\": \"assistant\",\n",
      "        \"content\": \"[('Santa Fe', 'ORG'), ('Nevada', 'LOC')],\\n[('California', 'LOC')],\\n[('Montana', 'LOC')],\\n[('Canada', 'LOC')],\\n[('Brazil', 'LOC')],\\n[('Australia', 'LOC')],\\n[('Chile', 'LOC')],\\n[('Kazakstan', 'LOC')],\\n[('Mexico', 'LOC')],\\n[('Ghana', 'LOC')]] <end_output>\"\n",
      "      }\n",
      "    }\n",
      "  ],\n",
      "  \"usage\": {\n",
      "    \"prompt_tokens\": 901,\n",
      "    \"completion_tokens\": 90,\n",
      "    \"total_tokens\": 991\n",
      "  }\n",
      "})\n"
     ]
    },
    {
     "name": "stderr",
     "output_type": "stream",
     "text": [
      " 10%|█         | 10/100 [00:14<02:14,  1.49s/it]"
     ]
    },
    {
     "name": "stdout",
     "output_type": "stream",
     "text": [
      "(\"[('protest', 'MISC'), ('several thousand', 'MISC'), ('18th', 'MISC'), ('Spain', 'LOC')]\", <OpenAIObject chat.completion id=chatcmpl-8hyqZzza5n9UoiEXFJSEsJdmM9cAJ at 0x7f3a79008a90> JSON: {\n",
      "  \"id\": \"chatcmpl-8hyqZzza5n9UoiEXFJSEsJdmM9cAJ\",\n",
      "  \"object\": \"chat.completion\",\n",
      "  \"created\": 1705492691,\n",
      "  \"model\": \"gpt-35-turbo\",\n",
      "  \"choices\": [\n",
      "    {\n",
      "      \"finish_reason\": \"stop\",\n",
      "      \"index\": 0,\n",
      "      \"message\": {\n",
      "        \"role\": \"assistant\",\n",
      "        \"content\": \"[('protest', 'MISC'), ('several thousand', 'MISC'), ('18th', 'MISC'), ('Spain', 'LOC')]\"\n",
      "      }\n",
      "    }\n",
      "  ],\n",
      "  \"usage\": {\n",
      "    \"prompt_tokens\": 906,\n",
      "    \"completion_tokens\": 32,\n",
      "    \"total_tokens\": 938\n",
      "  }\n",
      "})\n"
     ]
    },
    {
     "name": "stderr",
     "output_type": "stream",
     "text": [
      " 11%|█         | 11/100 [00:15<02:02,  1.38s/it]"
     ]
    },
    {
     "name": "stdout",
     "output_type": "stream",
     "text": [
      "(\"[('Darrel Voeks', 'PER'), ('Outagmie County Circuit Court', 'ORG'), ('Dennis Luebke', 'PER')]\", <OpenAIObject chat.completion id=chatcmpl-8hyqaEqXWM9579YfCmJBOuoRW1gbc at 0x7f3a79008a90> JSON: {\n",
      "  \"id\": \"chatcmpl-8hyqaEqXWM9579YfCmJBOuoRW1gbc\",\n",
      "  \"object\": \"chat.completion\",\n",
      "  \"created\": 1705492692,\n",
      "  \"model\": \"gpt-35-turbo\",\n",
      "  \"choices\": [\n",
      "    {\n",
      "      \"finish_reason\": \"stop\",\n",
      "      \"index\": 0,\n",
      "      \"message\": {\n",
      "        \"role\": \"assistant\",\n",
      "        \"content\": \"[('Darrel Voeks', 'PER'), ('Outagmie County Circuit Court', 'ORG'), ('Dennis Luebke', 'PER')]\"\n",
      "      }\n",
      "    }\n",
      "  ],\n",
      "  \"usage\": {\n",
      "    \"prompt_tokens\": 777,\n",
      "    \"completion_tokens\": 32,\n",
      "    \"total_tokens\": 809\n",
      "  }\n",
      "})\n"
     ]
    },
    {
     "name": "stderr",
     "output_type": "stream",
     "text": [
      " 12%|█▏        | 12/100 [00:17<01:53,  1.29s/it]"
     ]
    },
    {
     "name": "stdout",
     "output_type": "stream",
     "text": [
      "(\"<start_output> [('CRICKET', 'MISC'), ('SHEFFIELD SHIELD', 'MISC')] <end_output>\", <OpenAIObject chat.completion id=chatcmpl-8hyqbbdPiBpmtTy172BCMuHvVj2Ba at 0x7f3a7bb32570> JSON: {\n",
      "  \"id\": \"chatcmpl-8hyqbbdPiBpmtTy172BCMuHvVj2Ba\",\n",
      "  \"object\": \"chat.completion\",\n",
      "  \"created\": 1705492693,\n",
      "  \"model\": \"gpt-35-turbo\",\n",
      "  \"choices\": [\n",
      "    {\n",
      "      \"finish_reason\": \"stop\",\n",
      "      \"index\": 0,\n",
      "      \"message\": {\n",
      "        \"role\": \"assistant\",\n",
      "        \"content\": \"<start_output> [('CRICKET', 'MISC'), ('SHEFFIELD SHIELD', 'MISC')] <end_output>\"\n",
      "      }\n",
      "    }\n",
      "  ],\n",
      "  \"usage\": {\n",
      "    \"prompt_tokens\": 570,\n",
      "    \"completion_tokens\": 29,\n",
      "    \"total_tokens\": 599\n",
      "  }\n",
      "})\n"
     ]
    },
    {
     "name": "stderr",
     "output_type": "stream",
     "text": [
      " 13%|█▎        | 13/100 [00:18<01:47,  1.23s/it]"
     ]
    },
    {
     "name": "stdout",
     "output_type": "stream",
     "text": [
      "(\"[('German Santa', 'MISC'), ('bank', 'ORG')]\", <OpenAIObject chat.completion id=chatcmpl-8hyqc2ZKMeiXgRfaPitYy9cItk0pq at 0x7f3a7bbb5e90> JSON: {\n",
      "  \"id\": \"chatcmpl-8hyqc2ZKMeiXgRfaPitYy9cItk0pq\",\n",
      "  \"object\": \"chat.completion\",\n",
      "  \"created\": 1705492694,\n",
      "  \"model\": \"gpt-35-turbo\",\n",
      "  \"choices\": [\n",
      "    {\n",
      "      \"finish_reason\": \"stop\",\n",
      "      \"index\": 0,\n",
      "      \"message\": {\n",
      "        \"role\": \"assistant\",\n",
      "        \"content\": \"[('German Santa', 'MISC'), ('bank', 'ORG')]\"\n",
      "      }\n",
      "    }\n",
      "  ],\n",
      "  \"usage\": {\n",
      "    \"prompt_tokens\": 843,\n",
      "    \"completion_tokens\": 15,\n",
      "    \"total_tokens\": 858\n",
      "  }\n",
      "})\n"
     ]
    },
    {
     "name": "stderr",
     "output_type": "stream",
     "text": [
      " 14%|█▍        | 14/100 [00:19<01:58,  1.38s/it]"
     ]
    },
    {
     "name": "stdout",
     "output_type": "stream",
     "text": [
      "(\"[('Witnesses', 'PER')],\\n[('Italians', 'MISC')],\\n[('tricolour', 'MISC')],\\n[('red', 'MISC')],\\n[('white', 'MISC')],\\n[('green', 'MISC')],\\n[('Viva Italia', 'MISC')]\\n] <end_output>\", <OpenAIObject chat.completion id=chatcmpl-8hyqdjkrTsQp3nOXpz8y9mZGrwAhG at 0x7f3a71e33f10> JSON: {\n",
      "  \"id\": \"chatcmpl-8hyqdjkrTsQp3nOXpz8y9mZGrwAhG\",\n",
      "  \"object\": \"chat.completion\",\n",
      "  \"created\": 1705492695,\n",
      "  \"model\": \"gpt-35-turbo\",\n",
      "  \"choices\": [\n",
      "    {\n",
      "      \"finish_reason\": \"stop\",\n",
      "      \"index\": 0,\n",
      "      \"message\": {\n",
      "        \"role\": \"assistant\",\n",
      "        \"content\": \"[('Witnesses', 'PER')],\\n[('Italians', 'MISC')],\\n[('tricolour', 'MISC')],\\n[('red', 'MISC')],\\n[('white', 'MISC')],\\n[('green', 'MISC')],\\n[('Viva Italia', 'MISC')]\\n] <end_output>\"\n",
      "      }\n",
      "    }\n",
      "  ],\n",
      "  \"usage\": {\n",
      "    \"prompt_tokens\": 983,\n",
      "    \"completion_tokens\": 67,\n",
      "    \"total_tokens\": 1050\n",
      "  }\n",
      "})\n"
     ]
    },
    {
     "name": "stderr",
     "output_type": "stream",
     "text": [
      " 15%|█▌        | 15/100 [00:20<01:51,  1.31s/it]"
     ]
    },
    {
     "name": "stdout",
     "output_type": "stream",
     "text": [
      "(\"[('United Arab Emirates', 'LOC')], [('Kuwait', 'LOC')]] <end_output>\", <OpenAIObject chat.completion id=chatcmpl-8hyqfm3GJRJqfi28PVC9b6ped7rPw at 0x7f3a7bb32570> JSON: {\n",
      "  \"id\": \"chatcmpl-8hyqfm3GJRJqfi28PVC9b6ped7rPw\",\n",
      "  \"object\": \"chat.completion\",\n",
      "  \"created\": 1705492697,\n",
      "  \"model\": \"gpt-35-turbo\",\n",
      "  \"choices\": [\n",
      "    {\n",
      "      \"finish_reason\": \"stop\",\n",
      "      \"index\": 0,\n",
      "      \"message\": {\n",
      "        \"role\": \"assistant\",\n",
      "        \"content\": \"[('United Arab Emirates', 'LOC')], [('Kuwait', 'LOC')]] <end_output>\"\n",
      "      }\n",
      "    }\n",
      "  ],\n",
      "  \"usage\": {\n",
      "    \"prompt_tokens\": 784,\n",
      "    \"completion_tokens\": 23,\n",
      "    \"total_tokens\": 807\n",
      "  }\n",
      "})\n"
     ]
    },
    {
     "name": "stderr",
     "output_type": "stream",
     "text": [
      " 16%|█▌        | 16/100 [00:22<01:51,  1.33s/it]"
     ]
    },
    {
     "name": "stdout",
     "output_type": "stream",
     "text": [
      "(\"<start_output> [('chow chows', 'MISC'), ('Rottweilers', 'MISC'), ('German shepherds', 'MISC'), ('cocker spaniels', 'MISC'), ('Dalmatians', 'MISC')] <end_output>\", <OpenAIObject chat.completion id=chatcmpl-8hyqgU2RE2QZIuCGEHjajupqIolpL at 0x7f3a7bb32570> JSON: {\n",
      "  \"id\": \"chatcmpl-8hyqgU2RE2QZIuCGEHjajupqIolpL\",\n",
      "  \"object\": \"chat.completion\",\n",
      "  \"created\": 1705492698,\n",
      "  \"model\": \"gpt-35-turbo\",\n",
      "  \"choices\": [\n",
      "    {\n",
      "      \"finish_reason\": \"stop\",\n",
      "      \"index\": 0,\n",
      "      \"message\": {\n",
      "        \"role\": \"assistant\",\n",
      "        \"content\": \"<start_output> [('chow chows', 'MISC'), ('Rottweilers', 'MISC'), ('German shepherds', 'MISC'), ('cocker spaniels', 'MISC'), ('Dalmatians', 'MISC')] <end_output>\"\n",
      "      }\n",
      "    }\n",
      "  ],\n",
      "  \"usage\": {\n",
      "    \"prompt_tokens\": 741,\n",
      "    \"completion_tokens\": 59,\n",
      "    \"total_tokens\": 800\n",
      "  }\n",
      "})\n"
     ]
    },
    {
     "name": "stderr",
     "output_type": "stream",
     "text": [
      " 17%|█▋        | 17/100 [00:23<01:51,  1.35s/it]"
     ]
    },
    {
     "name": "stdout",
     "output_type": "stream",
     "text": [
      "(\"('Their', 'MISC'), \\n('enemies', 'MISC'), \\n('music cassettes', 'MISC')] <end_output>\", <OpenAIObject chat.completion id=chatcmpl-8hyqh58kCQR9QeHXIr4ZzQTS62lNp at 0x7f3a79008a90> JSON: {\n",
      "  \"id\": \"chatcmpl-8hyqh58kCQR9QeHXIr4ZzQTS62lNp\",\n",
      "  \"object\": \"chat.completion\",\n",
      "  \"created\": 1705492699,\n",
      "  \"model\": \"gpt-35-turbo\",\n",
      "  \"choices\": [\n",
      "    {\n",
      "      \"finish_reason\": \"stop\",\n",
      "      \"index\": 0,\n",
      "      \"message\": {\n",
      "        \"role\": \"assistant\",\n",
      "        \"content\": \"('Their', 'MISC'), \\n('enemies', 'MISC'), \\n('music cassettes', 'MISC')] <end_output>\"\n",
      "      }\n",
      "    }\n",
      "  ],\n",
      "  \"usage\": {\n",
      "    \"prompt_tokens\": 675,\n",
      "    \"completion_tokens\": 31,\n",
      "    \"total_tokens\": 706\n",
      "  }\n",
      "})\n"
     ]
    },
    {
     "name": "stderr",
     "output_type": "stream",
     "text": [
      " 18%|█▊        | 18/100 [00:24<01:44,  1.27s/it]"
     ]
    },
    {
     "name": "stdout",
     "output_type": "stream",
     "text": [
      "(\"[('Peters', 'PER'), ('Labour', 'ORG'), ('National', 'ORG')]\", <OpenAIObject chat.completion id=chatcmpl-8hyqjYEHCyZ7DqEwNgWmMzx2RsEQM at 0x7f3a7bbb5e90> JSON: {\n",
      "  \"id\": \"chatcmpl-8hyqjYEHCyZ7DqEwNgWmMzx2RsEQM\",\n",
      "  \"object\": \"chat.completion\",\n",
      "  \"created\": 1705492701,\n",
      "  \"model\": \"gpt-35-turbo\",\n",
      "  \"choices\": [\n",
      "    {\n",
      "      \"finish_reason\": \"stop\",\n",
      "      \"index\": 0,\n",
      "      \"message\": {\n",
      "        \"role\": \"assistant\",\n",
      "        \"content\": \"[('Peters', 'PER'), ('Labour', 'ORG'), ('National', 'ORG')]\"\n",
      "      }\n",
      "    }\n",
      "  ],\n",
      "  \"usage\": {\n",
      "    \"prompt_tokens\": 841,\n",
      "    \"completion_tokens\": 20,\n",
      "    \"total_tokens\": 861\n",
      "  }\n",
      "})\n"
     ]
    },
    {
     "name": "stderr",
     "output_type": "stream",
     "text": [
      " 19%|█▉        | 19/100 [00:26<01:46,  1.32s/it]"
     ]
    },
    {
     "name": "stdout",
     "output_type": "stream",
     "text": [
      "(\"('I', 'O'), ('never', 'O'), ('tried', 'O'), ('it', 'O'), ('and', 'O'), ('why', 'O'), ('should', 'O'), ('I', 'O')]\", <OpenAIObject chat.completion id=chatcmpl-8hyqkleKHPMqBwueVmLWhKdwlCn9I at 0x7f3a79008a90> JSON: {\n",
      "  \"id\": \"chatcmpl-8hyqkleKHPMqBwueVmLWhKdwlCn9I\",\n",
      "  \"object\": \"chat.completion\",\n",
      "  \"created\": 1705492702,\n",
      "  \"model\": \"gpt-35-turbo\",\n",
      "  \"choices\": [\n",
      "    {\n",
      "      \"finish_reason\": \"stop\",\n",
      "      \"index\": 0,\n",
      "      \"message\": {\n",
      "        \"role\": \"assistant\",\n",
      "        \"content\": \"('I', 'O'), ('never', 'O'), ('tried', 'O'), ('it', 'O'), ('and', 'O'), ('why', 'O'), ('should', 'O'), ('I', 'O')]\"\n",
      "      }\n",
      "    }\n",
      "  ],\n",
      "  \"usage\": {\n",
      "    \"prompt_tokens\": 574,\n",
      "    \"completion_tokens\": 49,\n",
      "    \"total_tokens\": 623\n",
      "  }\n",
      "})\n"
     ]
    },
    {
     "name": "stderr",
     "output_type": "stream",
     "text": [
      " 20%|██        | 20/100 [00:27<01:40,  1.25s/it]"
     ]
    },
    {
     "name": "stdout",
     "output_type": "stream",
     "text": [
      "(\"[('Internet', 'MISC')] <end_output>\", <OpenAIObject chat.completion id=chatcmpl-8hyqlnINpabSQRqzfzotPclHpc6hD at 0x7f3a7bbb5e90> JSON: {\n",
      "  \"id\": \"chatcmpl-8hyqlnINpabSQRqzfzotPclHpc6hD\",\n",
      "  \"object\": \"chat.completion\",\n",
      "  \"created\": 1705492703,\n",
      "  \"model\": \"gpt-35-turbo\",\n",
      "  \"choices\": [\n",
      "    {\n",
      "      \"finish_reason\": \"stop\",\n",
      "      \"index\": 0,\n",
      "      \"message\": {\n",
      "        \"role\": \"assistant\",\n",
      "        \"content\": \"[('Internet', 'MISC')] <end_output>\"\n",
      "      }\n",
      "    }\n",
      "  ],\n",
      "  \"usage\": {\n",
      "    \"prompt_tokens\": 843,\n",
      "    \"completion_tokens\": 12,\n",
      "    \"total_tokens\": 855\n",
      "  }\n",
      "})\n"
     ]
    },
    {
     "name": "stderr",
     "output_type": "stream",
     "text": [
      " 21%|██        | 21/100 [00:28<01:33,  1.18s/it]"
     ]
    },
    {
     "name": "stdout",
     "output_type": "stream",
     "text": [
      "(\"('Turkey', 'LOC'), ('Syrian', 'MISC')] <end_output>\", <OpenAIObject chat.completion id=chatcmpl-8hyqmAHyLDzTRvJA2ek5x1680nTJA at 0x7f3a8eed3ce0> JSON: {\n",
      "  \"id\": \"chatcmpl-8hyqmAHyLDzTRvJA2ek5x1680nTJA\",\n",
      "  \"object\": \"chat.completion\",\n",
      "  \"created\": 1705492704,\n",
      "  \"model\": \"gpt-35-turbo\",\n",
      "  \"choices\": [\n",
      "    {\n",
      "      \"finish_reason\": \"stop\",\n",
      "      \"index\": 0,\n",
      "      \"message\": {\n",
      "        \"role\": \"assistant\",\n",
      "        \"content\": \"('Turkey', 'LOC'), ('Syrian', 'MISC')] <end_output>\"\n",
      "      }\n",
      "    }\n",
      "  ],\n",
      "  \"usage\": {\n",
      "    \"prompt_tokens\": 801,\n",
      "    \"completion_tokens\": 18,\n",
      "    \"total_tokens\": 819\n",
      "  }\n",
      "})\n"
     ]
    },
    {
     "name": "stderr",
     "output_type": "stream",
     "text": [
      " 22%|██▏       | 22/100 [00:29<01:29,  1.15s/it]"
     ]
    },
    {
     "name": "stdout",
     "output_type": "stream",
     "text": [
      "(\"[('Rashid', 'PER'), ('Greece', 'LOC'), ('Thursday', 'MISC')]\", <OpenAIObject chat.completion id=chatcmpl-8hyqnwMnek4qHPDNDjZIWVcWKtLoL at 0x7f3a79008a90> JSON: {\n",
      "  \"id\": \"chatcmpl-8hyqnwMnek4qHPDNDjZIWVcWKtLoL\",\n",
      "  \"object\": \"chat.completion\",\n",
      "  \"created\": 1705492705,\n",
      "  \"model\": \"gpt-35-turbo\",\n",
      "  \"choices\": [\n",
      "    {\n",
      "      \"finish_reason\": \"stop\",\n",
      "      \"index\": 0,\n",
      "      \"message\": {\n",
      "        \"role\": \"assistant\",\n",
      "        \"content\": \"[('Rashid', 'PER'), ('Greece', 'LOC'), ('Thursday', 'MISC')]\"\n",
      "      }\n",
      "    }\n",
      "  ],\n",
      "  \"usage\": {\n",
      "    \"prompt_tokens\": 909,\n",
      "    \"completion_tokens\": 23,\n",
      "    \"total_tokens\": 932\n",
      "  }\n",
      "})\n"
     ]
    },
    {
     "name": "stderr",
     "output_type": "stream",
     "text": [
      " 23%|██▎       | 23/100 [00:30<01:32,  1.20s/it]"
     ]
    },
    {
     "name": "stdout",
     "output_type": "stream",
     "text": [
      "(\"[('Lieutenant-General Maurice Baril', 'PER'), ('Nairobi', 'LOC'), ('150,000', 'MISC'), ('Goma', 'LOC')] <end_output>\", <OpenAIObject chat.completion id=chatcmpl-8hyqongH2ViSMmhkiptpmqyDGTyHX at 0x7f3a7bbb5e90> JSON: {\n",
      "  \"id\": \"chatcmpl-8hyqongH2ViSMmhkiptpmqyDGTyHX\",\n",
      "  \"object\": \"chat.completion\",\n",
      "  \"created\": 1705492706,\n",
      "  \"model\": \"gpt-35-turbo\",\n",
      "  \"choices\": [\n",
      "    {\n",
      "      \"finish_reason\": \"stop\",\n",
      "      \"index\": 0,\n",
      "      \"message\": {\n",
      "        \"role\": \"assistant\",\n",
      "        \"content\": \"[('Lieutenant-General Maurice Baril', 'PER'), ('Nairobi', 'LOC'), ('150,000', 'MISC'), ('Goma', 'LOC')] <end_output>\"\n",
      "      }\n",
      "    }\n",
      "  ],\n",
      "  \"usage\": {\n",
      "    \"prompt_tokens\": 1028,\n",
      "    \"completion_tokens\": 39,\n",
      "    \"total_tokens\": 1067\n",
      "  }\n",
      "})\n"
     ]
    },
    {
     "name": "stderr",
     "output_type": "stream",
     "text": [
      " 24%|██▍       | 24/100 [00:32<01:32,  1.21s/it]"
     ]
    },
    {
     "name": "stdout",
     "output_type": "stream",
     "text": [
      "(\"[('Australia', 'LOC'), ('Barbarians', 'ORG'), ('European', 'MISC'), ('Saturday', 'MISC')]\", <OpenAIObject chat.completion id=chatcmpl-8hyqqnXPUvY3aGSh2ESeJklgP0Iaq at 0x7f3a8eed3ce0> JSON: {\n",
      "  \"id\": \"chatcmpl-8hyqqnXPUvY3aGSh2ESeJklgP0Iaq\",\n",
      "  \"object\": \"chat.completion\",\n",
      "  \"created\": 1705492708,\n",
      "  \"model\": \"gpt-35-turbo\",\n",
      "  \"choices\": [\n",
      "    {\n",
      "      \"finish_reason\": \"stop\",\n",
      "      \"index\": 0,\n",
      "      \"message\": {\n",
      "        \"role\": \"assistant\",\n",
      "        \"content\": \"[('Australia', 'LOC'), ('Barbarians', 'ORG'), ('European', 'MISC'), ('Saturday', 'MISC')]\"\n",
      "      }\n",
      "    }\n",
      "  ],\n",
      "  \"usage\": {\n",
      "    \"prompt_tokens\": 1001,\n",
      "    \"completion_tokens\": 29,\n",
      "    \"total_tokens\": 1030\n",
      "  }\n",
      "})\n"
     ]
    },
    {
     "name": "stderr",
     "output_type": "stream",
     "text": [
      " 25%|██▌       | 25/100 [00:33<01:27,  1.17s/it]"
     ]
    },
    {
     "name": "stdout",
     "output_type": "stream",
     "text": [
      "(\"[('Patasse', 'PER'), ('ethnic', 'MISC')] <end_output>\", <OpenAIObject chat.completion id=chatcmpl-8hyqruRreHcLm27JRDp1y37KEIkht at 0x7f3a7bbb5e90> JSON: {\n",
      "  \"id\": \"chatcmpl-8hyqruRreHcLm27JRDp1y37KEIkht\",\n",
      "  \"object\": \"chat.completion\",\n",
      "  \"created\": 1705492709,\n",
      "  \"model\": \"gpt-35-turbo\",\n",
      "  \"choices\": [\n",
      "    {\n",
      "      \"finish_reason\": \"stop\",\n",
      "      \"index\": 0,\n",
      "      \"message\": {\n",
      "        \"role\": \"assistant\",\n",
      "        \"content\": \"[('Patasse', 'PER'), ('ethnic', 'MISC')] <end_output>\"\n",
      "      }\n",
      "    }\n",
      "  ],\n",
      "  \"usage\": {\n",
      "    \"prompt_tokens\": 811,\n",
      "    \"completion_tokens\": 19,\n",
      "    \"total_tokens\": 830\n",
      "  }\n",
      "})\n"
     ]
    },
    {
     "name": "stderr",
     "output_type": "stream",
     "text": [
      " 26%|██▌       | 26/100 [00:34<01:29,  1.21s/it]"
     ]
    },
    {
     "name": "stdout",
     "output_type": "stream",
     "text": [
      "(\"[('Weah', 'PER'), ('Milan', 'ORG'), ('Rosenborg', 'ORG'), ('Norway', 'LOC')]\", <OpenAIObject chat.completion id=chatcmpl-8hyqsasm8avkWUhSbUXdDU1Fvtxus at 0x7f3a79008a90> JSON: {\n",
      "  \"id\": \"chatcmpl-8hyqsasm8avkWUhSbUXdDU1Fvtxus\",\n",
      "  \"object\": \"chat.completion\",\n",
      "  \"created\": 1705492710,\n",
      "  \"model\": \"gpt-35-turbo\",\n",
      "  \"choices\": [\n",
      "    {\n",
      "      \"finish_reason\": \"stop\",\n",
      "      \"index\": 0,\n",
      "      \"message\": {\n",
      "        \"role\": \"assistant\",\n",
      "        \"content\": \"[('Weah', 'PER'), ('Milan', 'ORG'), ('Rosenborg', 'ORG'), ('Norway', 'LOC')]\"\n",
      "      }\n",
      "    }\n",
      "  ],\n",
      "  \"usage\": {\n",
      "    \"prompt_tokens\": 1100,\n",
      "    \"completion_tokens\": 30,\n",
      "    \"total_tokens\": 1130\n",
      "  }\n",
      "})\n"
     ]
    },
    {
     "name": "stderr",
     "output_type": "stream",
     "text": [
      " 27%|██▋       | 27/100 [00:35<01:32,  1.27s/it]"
     ]
    },
    {
     "name": "stdout",
     "output_type": "stream",
     "text": [
      "(\"[('SCHULZ', 'PER'), ('RIBALTA', 'PER'), ('IBF', 'ORG'), ('HEAVYWEIGHT', 'MISC'), ('FIGHT', 'MISC')]\", <OpenAIObject chat.completion id=chatcmpl-8hyqtBIsuVIWUKj2xZXUTrtbu3Psm at 0x7f3a79008a90> JSON: {\n",
      "  \"id\": \"chatcmpl-8hyqtBIsuVIWUKj2xZXUTrtbu3Psm\",\n",
      "  \"object\": \"chat.completion\",\n",
      "  \"created\": 1705492711,\n",
      "  \"model\": \"gpt-35-turbo\",\n",
      "  \"choices\": [\n",
      "    {\n",
      "      \"finish_reason\": \"stop\",\n",
      "      \"index\": 0,\n",
      "      \"message\": {\n",
      "        \"role\": \"assistant\",\n",
      "        \"content\": \"[('SCHULZ', 'PER'), ('RIBALTA', 'PER'), ('IBF', 'ORG'), ('HEAVYWEIGHT', 'MISC'), ('FIGHT', 'MISC')]\\n\\n\"\n",
      "      }\n",
      "    }\n",
      "  ],\n",
      "  \"usage\": {\n",
      "    \"prompt_tokens\": 770,\n",
      "    \"completion_tokens\": 46,\n",
      "    \"total_tokens\": 816\n",
      "  }\n",
      "})\n"
     ]
    },
    {
     "name": "stderr",
     "output_type": "stream",
     "text": [
      " 28%|██▊       | 28/100 [00:37<01:34,  1.32s/it]"
     ]
    },
    {
     "name": "stdout",
     "output_type": "stream",
     "text": [
      "(\"[('Brett Liddle', 'PER')], \\n[('Hugh Baiocchi', 'PER')], \\n[('Adilson da Silva', 'PER'), ('Brazil', 'LOC')], \\n[('Sammy Daniels', 'PER')]\\n] <end_output>\", <OpenAIObject chat.completion id=chatcmpl-8hyqvKI1OXsQiKSCciFr3rm24KYcy at 0x7f3a71e323e0> JSON: {\n",
      "  \"id\": \"chatcmpl-8hyqvKI1OXsQiKSCciFr3rm24KYcy\",\n",
      "  \"object\": \"chat.completion\",\n",
      "  \"created\": 1705492713,\n",
      "  \"model\": \"gpt-35-turbo\",\n",
      "  \"choices\": [\n",
      "    {\n",
      "      \"finish_reason\": \"stop\",\n",
      "      \"index\": 0,\n",
      "      \"message\": {\n",
      "        \"role\": \"assistant\",\n",
      "        \"content\": \"[('Brett Liddle', 'PER')], \\n[('Hugh Baiocchi', 'PER')], \\n[('Adilson da Silva', 'PER'), ('Brazil', 'LOC')], \\n[('Sammy Daniels', 'PER')]\\n] <end_output>\"\n",
      "      }\n",
      "    }\n",
      "  ],\n",
      "  \"usage\": {\n",
      "    \"prompt_tokens\": 1487,\n",
      "    \"completion_tokens\": 57,\n",
      "    \"total_tokens\": 1544\n",
      "  }\n",
      "})\n"
     ]
    },
    {
     "name": "stderr",
     "output_type": "stream",
     "text": [
      " 29%|██▉       | 29/100 [00:38<01:31,  1.29s/it]"
     ]
    },
    {
     "name": "stdout",
     "output_type": "stream",
     "text": [
      "(\"[('newspaper', 'ORG')], \\n[('girl', 'PER')], \\n[('hospital', 'LOC')], \\n[('extreme difficulty breathing', 'MISC')]\\n] <end_output>\", <OpenAIObject chat.completion id=chatcmpl-8hyqw7UQpKbDzHLlRgvESS7fy4mwy at 0x7f3a79008a90> JSON: {\n",
      "  \"id\": \"chatcmpl-8hyqw7UQpKbDzHLlRgvESS7fy4mwy\",\n",
      "  \"object\": \"chat.completion\",\n",
      "  \"created\": 1705492714,\n",
      "  \"model\": \"gpt-35-turbo\",\n",
      "  \"choices\": [\n",
      "    {\n",
      "      \"finish_reason\": \"stop\",\n",
      "      \"index\": 0,\n",
      "      \"message\": {\n",
      "        \"role\": \"assistant\",\n",
      "        \"content\": \"[('newspaper', 'ORG')], \\n[('girl', 'PER')], \\n[('hospital', 'LOC')], \\n[('extreme difficulty breathing', 'MISC')]\\n] <end_output>\"\n",
      "      }\n",
      "    }\n",
      "  ],\n",
      "  \"usage\": {\n",
      "    \"prompt_tokens\": 773,\n",
      "    \"completion_tokens\": 45,\n",
      "    \"total_tokens\": 818\n",
      "  }\n",
      "})\n"
     ]
    },
    {
     "name": "stderr",
     "output_type": "stream",
     "text": [
      " 30%|███       | 30/100 [00:39<01:27,  1.25s/it]"
     ]
    },
    {
     "name": "stdout",
     "output_type": "stream",
     "text": [
      "(\"[('Voeks', 'PER')], [('ex-wife', 'PER')], [('children', 'PER')]] <end_output>\", <OpenAIObject chat.completion id=chatcmpl-8hyqxaxSp2TeNTbWohjlLPGJfzbT8 at 0x7f3a71d4b740> JSON: {\n",
      "  \"id\": \"chatcmpl-8hyqxaxSp2TeNTbWohjlLPGJfzbT8\",\n",
      "  \"object\": \"chat.completion\",\n",
      "  \"created\": 1705492715,\n",
      "  \"model\": \"gpt-35-turbo\",\n",
      "  \"choices\": [\n",
      "    {\n",
      "      \"finish_reason\": \"stop\",\n",
      "      \"index\": 0,\n",
      "      \"message\": {\n",
      "        \"role\": \"assistant\",\n",
      "        \"content\": \"[('Voeks', 'PER')], [('ex-wife', 'PER')], [('children', 'PER')]] <end_output>\"\n",
      "      }\n",
      "    }\n",
      "  ],\n",
      "  \"usage\": {\n",
      "    \"prompt_tokens\": 854,\n",
      "    \"completion_tokens\": 28,\n",
      "    \"total_tokens\": 882\n",
      "  }\n",
      "})\n"
     ]
    },
    {
     "name": "stderr",
     "output_type": "stream",
     "text": [
      " 31%|███       | 31/100 [00:40<01:26,  1.26s/it]"
     ]
    },
    {
     "name": "stdout",
     "output_type": "stream",
     "text": [
      "(\"[('health authority', 'ORG')], \\n[('78', 'MISC')], \\n[('64', 'MISC')]] <end_output>\", <OpenAIObject chat.completion id=chatcmpl-8hyqzgoQUQiKvpw567PoMDgvdfUHg at 0x7f3a79008a90> JSON: {\n",
      "  \"id\": \"chatcmpl-8hyqzgoQUQiKvpw567PoMDgvdfUHg\",\n",
      "  \"object\": \"chat.completion\",\n",
      "  \"created\": 1705492717,\n",
      "  \"model\": \"gpt-35-turbo\",\n",
      "  \"choices\": [\n",
      "    {\n",
      "      \"finish_reason\": \"stop\",\n",
      "      \"index\": 0,\n",
      "      \"message\": {\n",
      "        \"role\": \"assistant\",\n",
      "        \"content\": \"[('health authority', 'ORG')], \\n[('78', 'MISC')], \\n[('64', 'MISC')]] <end_output>\"\n",
      "      }\n",
      "    }\n",
      "  ],\n",
      "  \"usage\": {\n",
      "    \"prompt_tokens\": 739,\n",
      "    \"completion_tokens\": 33,\n",
      "    \"total_tokens\": 772\n",
      "  }\n",
      "})\n"
     ]
    },
    {
     "name": "stderr",
     "output_type": "stream",
     "text": [
      " 32%|███▏      | 32/100 [00:41<01:20,  1.18s/it]"
     ]
    },
    {
     "name": "stdout",
     "output_type": "stream",
     "text": [
      "(\"('112', 'MISC'), ('lots', 'MISC')]\", <OpenAIObject chat.completion id=chatcmpl-8hyr02dekA4LqmzeHOfcaLuHrcejC at 0x7f3a7bbb5e90> JSON: {\n",
      "  \"id\": \"chatcmpl-8hyr02dekA4LqmzeHOfcaLuHrcejC\",\n",
      "  \"object\": \"chat.completion\",\n",
      "  \"created\": 1705492718,\n",
      "  \"model\": \"gpt-35-turbo\",\n",
      "  \"choices\": [\n",
      "    {\n",
      "      \"finish_reason\": \"stop\",\n",
      "      \"index\": 0,\n",
      "      \"message\": {\n",
      "        \"role\": \"assistant\",\n",
      "        \"content\": \"('112', 'MISC'), ('lots', 'MISC')]\"\n",
      "      }\n",
      "    }\n",
      "  ],\n",
      "  \"usage\": {\n",
      "    \"prompt_tokens\": 785,\n",
      "    \"completion_tokens\": 14,\n",
      "    \"total_tokens\": 799\n",
      "  }\n",
      "})\n"
     ]
    },
    {
     "name": "stderr",
     "output_type": "stream",
     "text": [
      " 33%|███▎      | 33/100 [00:43<01:21,  1.22s/it]"
     ]
    },
    {
     "name": "stdout",
     "output_type": "stream",
     "text": [
      "(\"('Standings', 'O'),\\n('played', 'O'),\\n('won', 'O'),\\n('drawn', 'O'),\\n('lost', 'O'),\\n('goals', 'O')]\\n\\n<end_output>\", <OpenAIObject chat.completion id=chatcmpl-8hyr1RxGTF4KkJhAYUarfofkgiliQ at 0x7f3a7bbb5e90> JSON: {\n",
      "  \"id\": \"chatcmpl-8hyr1RxGTF4KkJhAYUarfofkgiliQ\",\n",
      "  \"object\": \"chat.completion\",\n",
      "  \"created\": 1705492719,\n",
      "  \"model\": \"gpt-35-turbo\",\n",
      "  \"choices\": [\n",
      "    {\n",
      "      \"finish_reason\": \"stop\",\n",
      "      \"index\": 0,\n",
      "      \"message\": {\n",
      "        \"role\": \"assistant\",\n",
      "        \"content\": \"('Standings', 'O'),\\n('played', 'O'),\\n('won', 'O'),\\n('drawn', 'O'),\\n('lost', 'O'),\\n('goals', 'O')]\\n\\n<end_output>\"\n",
      "      }\n",
      "    }\n",
      "  ],\n",
      "  \"usage\": {\n",
      "    \"prompt_tokens\": 522,\n",
      "    \"completion_tokens\": 43,\n",
      "    \"total_tokens\": 565\n",
      "  }\n",
      "})\n"
     ]
    },
    {
     "name": "stderr",
     "output_type": "stream",
     "text": [
      " 34%|███▍      | 34/100 [00:44<01:29,  1.36s/it]"
     ]
    },
    {
     "name": "stdout",
     "output_type": "stream",
     "text": [
      "(\"[('African', 'MISC'), ('African states', 'MISC'), ('council', 'ORG'), ('voting', 'MISC'), ('candidates', 'MISC'), ('next week', 'MISC'), ('procedure', 'MISC'), ('decision', 'MISC'), ('bitter fight', 'MISC'), ('vetoes', 'MISC'), ('each nominee', 'MISC')] <end_output>\", <OpenAIObject chat.completion id=chatcmpl-8hyr2wQZj2RNtT2FOqvwhtUKg4kWT at 0x7f3a79008a90> JSON: {\n",
      "  \"id\": \"chatcmpl-8hyr2wQZj2RNtT2FOqvwhtUKg4kWT\",\n",
      "  \"object\": \"chat.completion\",\n",
      "  \"created\": 1705492720,\n",
      "  \"model\": \"gpt-35-turbo\",\n",
      "  \"choices\": [\n",
      "    {\n",
      "      \"finish_reason\": \"stop\",\n",
      "      \"index\": 0,\n",
      "      \"message\": {\n",
      "        \"role\": \"assistant\",\n",
      "        \"content\": \"[('African', 'MISC'), ('African states', 'MISC'), ('council', 'ORG'), ('voting', 'MISC'), ('candidates', 'MISC'), ('next week', 'MISC'), ('procedure', 'MISC'), ('decision', 'MISC'), ('bitter fight', 'MISC'), ('vetoes', 'MISC'), ('each nominee', 'MISC')] <end_output>\"\n",
      "      }\n",
      "    }\n",
      "  ],\n",
      "  \"usage\": {\n",
      "    \"prompt_tokens\": 940,\n",
      "    \"completion_tokens\": 91,\n",
      "    \"total_tokens\": 1031\n",
      "  }\n",
      "})\n"
     ]
    },
    {
     "name": "stderr",
     "output_type": "stream",
     "text": [
      " 35%|███▌      | 35/100 [00:46<01:32,  1.42s/it]"
     ]
    },
    {
     "name": "stdout",
     "output_type": "stream",
     "text": [
      "(\"I apologize for the confusion. Here is the revised output:\\n\\n<start_output> [('Zimbabwe Open', 'MISC'), ('Saturday', 'MISC'), ('South African', 'MISC')] <end_output>\", <OpenAIObject chat.completion id=chatcmpl-8hyr4xLT14NNppbcn4aJjPIHwKxfm at 0x7f3a79008a90> JSON: {\n",
      "  \"id\": \"chatcmpl-8hyr4xLT14NNppbcn4aJjPIHwKxfm\",\n",
      "  \"object\": \"chat.completion\",\n",
      "  \"created\": 1705492722,\n",
      "  \"model\": \"gpt-35-turbo\",\n",
      "  \"choices\": [\n",
      "    {\n",
      "      \"finish_reason\": \"stop\",\n",
      "      \"index\": 0,\n",
      "      \"message\": {\n",
      "        \"role\": \"assistant\",\n",
      "        \"content\": \"I apologize for the confusion. Here is the revised output:\\n\\n<start_output> [('Zimbabwe Open', 'MISC'), ('Saturday', 'MISC'), ('South African', 'MISC')] <end_output>\"\n",
      "      }\n",
      "    }\n",
      "  ],\n",
      "  \"usage\": {\n",
      "    \"prompt_tokens\": 844,\n",
      "    \"completion_tokens\": 44,\n",
      "    \"total_tokens\": 888\n",
      "  }\n",
      "})\n"
     ]
    },
    {
     "name": "stderr",
     "output_type": "stream",
     "text": [
      " 36%|███▌      | 36/100 [00:47<01:32,  1.45s/it]"
     ]
    },
    {
     "name": "stdout",
     "output_type": "stream",
     "text": [
      "(\"[('Pace', 'PER')], [('Ohio State', 'ORG')], [('Rose Bowl', 'MISC')], [('Arizona State', 'ORG')]] <end_output>\", <OpenAIObject chat.completion id=chatcmpl-8hyr6VjO25LHL1IXRLtJteHvy1EKo at 0x7f3a7bbb5e90> JSON: {\n",
      "  \"id\": \"chatcmpl-8hyr6VjO25LHL1IXRLtJteHvy1EKo\",\n",
      "  \"object\": \"chat.completion\",\n",
      "  \"created\": 1705492724,\n",
      "  \"model\": \"gpt-35-turbo\",\n",
      "  \"choices\": [\n",
      "    {\n",
      "      \"finish_reason\": \"stop\",\n",
      "      \"index\": 0,\n",
      "      \"message\": {\n",
      "        \"role\": \"assistant\",\n",
      "        \"content\": \"[('Pace', 'PER')], [('Ohio State', 'ORG')], [('Rose Bowl', 'MISC')], [('Arizona State', 'ORG')]] <end_output>\"\n",
      "      }\n",
      "    }\n",
      "  ],\n",
      "  \"usage\": {\n",
      "    \"prompt_tokens\": 955,\n",
      "    \"completion_tokens\": 38,\n",
      "    \"total_tokens\": 993\n",
      "  }\n",
      "})\n"
     ]
    },
    {
     "name": "stderr",
     "output_type": "stream",
     "text": [
      " 37%|███▋      | 37/100 [00:49<01:27,  1.39s/it]"
     ]
    },
    {
     "name": "stdout",
     "output_type": "stream",
     "text": [
      "(\"('four', 'MISC'), ('one', 'MISC')] <end_output>\", <OpenAIObject chat.completion id=chatcmpl-8hyr7bjCif9aWbora2Yc5G6BYrIVI at 0x7f3a84ad28e0> JSON: {\n",
      "  \"id\": \"chatcmpl-8hyr7bjCif9aWbora2Yc5G6BYrIVI\",\n",
      "  \"object\": \"chat.completion\",\n",
      "  \"created\": 1705492725,\n",
      "  \"model\": \"gpt-35-turbo\",\n",
      "  \"choices\": [\n",
      "    {\n",
      "      \"finish_reason\": \"stop\",\n",
      "      \"index\": 0,\n",
      "      \"message\": {\n",
      "        \"role\": \"assistant\",\n",
      "        \"content\": \"('four', 'MISC'), ('one', 'MISC')] <end_output>\"\n",
      "      }\n",
      "    }\n",
      "  ],\n",
      "  \"usage\": {\n",
      "    \"prompt_tokens\": 565,\n",
      "    \"completion_tokens\": 18,\n",
      "    \"total_tokens\": 583\n",
      "  }\n",
      "})\n"
     ]
    },
    {
     "name": "stderr",
     "output_type": "stream",
     "text": [
      " 38%|███▊      | 38/100 [00:50<01:24,  1.37s/it]"
     ]
    },
    {
     "name": "stdout",
     "output_type": "stream",
     "text": [
      "(\"<start_output> [('TEMBAU DENPASAR', 'LOC'), ('Bali', 'LOC')] <end_output>\", <OpenAIObject chat.completion id=chatcmpl-8hyr8m6hEv8EgQPSsGGQnYN8o9V3u at 0x7f3a79008a90> JSON: {\n",
      "  \"id\": \"chatcmpl-8hyr8m6hEv8EgQPSsGGQnYN8o9V3u\",\n",
      "  \"object\": \"chat.completion\",\n",
      "  \"created\": 1705492726,\n",
      "  \"model\": \"gpt-35-turbo\",\n",
      "  \"choices\": [\n",
      "    {\n",
      "      \"finish_reason\": \"stop\",\n",
      "      \"index\": 0,\n",
      "      \"message\": {\n",
      "        \"role\": \"assistant\",\n",
      "        \"content\": \"<start_output> [('TEMBAU DENPASAR', 'LOC'), ('Bali', 'LOC')] <end_output>\"\n",
      "      }\n",
      "    }\n",
      "  ],\n",
      "  \"usage\": {\n",
      "    \"prompt_tokens\": 856,\n",
      "    \"completion_tokens\": 27,\n",
      "    \"total_tokens\": 883\n",
      "  }\n",
      "})\n"
     ]
    },
    {
     "name": "stderr",
     "output_type": "stream",
     "text": [
      " 39%|███▉      | 39/100 [00:51<01:21,  1.34s/it]"
     ]
    },
    {
     "name": "stdout",
     "output_type": "stream",
     "text": [
      "(\"[('Michael Cornwell', 'PER')],\\n[('Glencoe Animal Hospital', 'ORG')],\\n[('Columbus', 'LOC')],\\n[('Ohio', 'LOC')],\\n[('American Veterinary Medical Association', 'ORG')]\\n]\", <OpenAIObject chat.completion id=chatcmpl-8hyr95l4G4JAulTVdxvwYbfqNy22F at 0x7f3a7bbb5e90> JSON: {\n",
      "  \"id\": \"chatcmpl-8hyr95l4G4JAulTVdxvwYbfqNy22F\",\n",
      "  \"object\": \"chat.completion\",\n",
      "  \"created\": 1705492727,\n",
      "  \"model\": \"gpt-35-turbo\",\n",
      "  \"choices\": [\n",
      "    {\n",
      "      \"finish_reason\": \"stop\",\n",
      "      \"index\": 0,\n",
      "      \"message\": {\n",
      "        \"role\": \"assistant\",\n",
      "        \"content\": \"[('Michael Cornwell', 'PER')],\\n[('Glencoe Animal Hospital', 'ORG')],\\n[('Columbus', 'LOC')],\\n[('Ohio', 'LOC')],\\n[('American Veterinary Medical Association', 'ORG')]\\n]\"\n",
      "      }\n",
      "    }\n",
      "  ],\n",
      "  \"usage\": {\n",
      "    \"prompt_tokens\": 733,\n",
      "    \"completion_tokens\": 47,\n",
      "    \"total_tokens\": 780\n",
      "  }\n",
      "})\n"
     ]
    },
    {
     "name": "stderr",
     "output_type": "stream",
     "text": [
      " 40%|████      | 40/100 [00:52<01:17,  1.30s/it]"
     ]
    },
    {
     "name": "stdout",
     "output_type": "stream",
     "text": [
      "(\"<start_output> [('Burmese', 'MISC'), ('Rangoon', 'LOC'), ('Ranyon', 'LOC'), ('University', 'ORG'), ('Saturday', 'MISC')] <end_output>\", <OpenAIObject chat.completion id=chatcmpl-8hyrBnwZKMC6XTWZOshP6TqL9kY3C at 0x7f3a79008a90> JSON: {\n",
      "  \"id\": \"chatcmpl-8hyrBnwZKMC6XTWZOshP6TqL9kY3C\",\n",
      "  \"object\": \"chat.completion\",\n",
      "  \"created\": 1705492729,\n",
      "  \"model\": \"gpt-35-turbo\",\n",
      "  \"choices\": [\n",
      "    {\n",
      "      \"finish_reason\": \"stop\",\n",
      "      \"index\": 0,\n",
      "      \"message\": {\n",
      "        \"role\": \"assistant\",\n",
      "        \"content\": \"<start_output> [('Burmese', 'MISC'), ('Rangoon', 'LOC'), ('Ranyon', 'LOC'), ('University', 'ORG'), ('Saturday', 'MISC')] <end_output>\"\n",
      "      }\n",
      "    }\n",
      "  ],\n",
      "  \"usage\": {\n",
      "    \"prompt_tokens\": 879,\n",
      "    \"completion_tokens\": 46,\n",
      "    \"total_tokens\": 925\n",
      "  }\n",
      "})\n"
     ]
    },
    {
     "name": "stderr",
     "output_type": "stream",
     "text": [
      " 41%|████      | 41/100 [00:54<01:19,  1.35s/it]"
     ]
    },
    {
     "name": "stdout",
     "output_type": "stream",
     "text": [
      "(\"<start_output> [('dollar', 'MISC'), ('1.5338 marks', 'MISC'), ('Frankfurt', 'LOC'), ('Friday', 'MISC'), ('1.5607 marks', 'MISC'), ('Thursday', 'MISC')] <end_output>\", <OpenAIObject chat.completion id=chatcmpl-8hyrCf1lPVUzrR4KuHVImdtDEnj1e at 0x7f3a79008a90> JSON: {\n",
      "  \"id\": \"chatcmpl-8hyrCf1lPVUzrR4KuHVImdtDEnj1e\",\n",
      "  \"object\": \"chat.completion\",\n",
      "  \"created\": 1705492730,\n",
      "  \"model\": \"gpt-35-turbo\",\n",
      "  \"choices\": [\n",
      "    {\n",
      "      \"finish_reason\": \"stop\",\n",
      "      \"index\": 0,\n",
      "      \"message\": {\n",
      "        \"role\": \"assistant\",\n",
      "        \"content\": \"<start_output> [('dollar', 'MISC'), ('1.5338 marks', 'MISC'), ('Frankfurt', 'LOC'), ('Friday', 'MISC'), ('1.5607 marks', 'MISC'), ('Thursday', 'MISC')] <end_output>\"\n",
      "      }\n",
      "    }\n",
      "  ],\n",
      "  \"usage\": {\n",
      "    \"prompt_tokens\": 824,\n",
      "    \"completion_tokens\": 59,\n",
      "    \"total_tokens\": 883\n",
      "  }\n",
      "})\n"
     ]
    },
    {
     "name": "stderr",
     "output_type": "stream",
     "text": [
      " 42%|████▏     | 42/100 [00:55<01:13,  1.26s/it]"
     ]
    },
    {
     "name": "stdout",
     "output_type": "stream",
     "text": [
      "(\"<start_output> [('Saeed Anwar', 'PER')] <end_output>\", <OpenAIObject chat.completion id=chatcmpl-8hyrDWQcbb4lMJZ57EGltd0M7tIBY at 0x7f3a79008a90> JSON: {\n",
      "  \"id\": \"chatcmpl-8hyrDWQcbb4lMJZ57EGltd0M7tIBY\",\n",
      "  \"object\": \"chat.completion\",\n",
      "  \"created\": 1705492731,\n",
      "  \"model\": \"gpt-35-turbo\",\n",
      "  \"choices\": [\n",
      "    {\n",
      "      \"finish_reason\": \"stop\",\n",
      "      \"index\": 0,\n",
      "      \"message\": {\n",
      "        \"role\": \"assistant\",\n",
      "        \"content\": \"<start_output> [('Saeed Anwar', 'PER')] <end_output>\"\n",
      "      }\n",
      "    }\n",
      "  ],\n",
      "  \"usage\": {\n",
      "    \"prompt_tokens\": 908,\n",
      "    \"completion_tokens\": 18,\n",
      "    \"total_tokens\": 926\n",
      "  }\n",
      "})\n"
     ]
    },
    {
     "name": "stderr",
     "output_type": "stream",
     "text": [
      " 43%|████▎     | 43/100 [00:56<01:09,  1.22s/it]"
     ]
    },
    {
     "name": "stdout",
     "output_type": "stream",
     "text": [
      "(\"[('U.S.', 'LOC')],\\n[('Friday', 'MISC')],\\n[('St. Louis Merchants Exchange', 'ORG')]\\n]\", <OpenAIObject chat.completion id=chatcmpl-8hyrF71b986zZBkyG1iLRfbAjQvva at 0x7f3a7bbb5e90> JSON: {\n",
      "  \"id\": \"chatcmpl-8hyrF71b986zZBkyG1iLRfbAjQvva\",\n",
      "  \"object\": \"chat.completion\",\n",
      "  \"created\": 1705492733,\n",
      "  \"model\": \"gpt-35-turbo\",\n",
      "  \"choices\": [\n",
      "    {\n",
      "      \"finish_reason\": \"stop\",\n",
      "      \"index\": 0,\n",
      "      \"message\": {\n",
      "        \"role\": \"assistant\",\n",
      "        \"content\": \"[('U.S.', 'LOC')],\\n[('Friday', 'MISC')],\\n[('St. Louis Merchants Exchange', 'ORG')]\\n]\"\n",
      "      }\n",
      "    }\n",
      "  ],\n",
      "  \"usage\": {\n",
      "    \"prompt_tokens\": 769,\n",
      "    \"completion_tokens\": 29,\n",
      "    \"total_tokens\": 798\n",
      "  }\n",
      "})\n"
     ]
    },
    {
     "name": "stderr",
     "output_type": "stream",
     "text": [
      " 44%|████▍     | 44/100 [00:57<01:06,  1.19s/it]"
     ]
    },
    {
     "name": "stdout",
     "output_type": "stream",
     "text": [
      "(\"[('Patrick Vieira', 'PER'), ('Arsenal', 'ORG'), ('Derby', 'ORG')]\", <OpenAIObject chat.completion id=chatcmpl-8hyrGTOYzz2TAQJZON4nygEu2kVIE at 0x7f3a79008a90> JSON: {\n",
      "  \"id\": \"chatcmpl-8hyrGTOYzz2TAQJZON4nygEu2kVIE\",\n",
      "  \"object\": \"chat.completion\",\n",
      "  \"created\": 1705492734,\n",
      "  \"model\": \"gpt-35-turbo\",\n",
      "  \"choices\": [\n",
      "    {\n",
      "      \"finish_reason\": \"stop\",\n",
      "      \"index\": 0,\n",
      "      \"message\": {\n",
      "        \"role\": \"assistant\",\n",
      "        \"content\": \"[('Patrick Vieira', 'PER'), ('Arsenal', 'ORG'), ('Derby', 'ORG')]\"\n",
      "      }\n",
      "    }\n",
      "  ],\n",
      "  \"usage\": {\n",
      "    \"prompt_tokens\": 925,\n",
      "    \"completion_tokens\": 23,\n",
      "    \"total_tokens\": 948\n",
      "  }\n",
      "})\n"
     ]
    },
    {
     "name": "stderr",
     "output_type": "stream",
     "text": [
      " 45%|████▌     | 45/100 [00:59<01:08,  1.25s/it]"
     ]
    },
    {
     "name": "stdout",
     "output_type": "stream",
     "text": [
      "(\"('Police', 'ORG'), ('heroin', 'MISC'), ('Belgian', 'MISC'), ('francs', 'MISC'), ('public prosecutor', 'ORG'), ('Antwerp', 'LOC')] <end_output>\", <OpenAIObject chat.completion id=chatcmpl-8hyrHzRLaD3ob5j899nPw86WbEhtY at 0x7f3a84ad28e0> JSON: {\n",
      "  \"id\": \"chatcmpl-8hyrHzRLaD3ob5j899nPw86WbEhtY\",\n",
      "  \"object\": \"chat.completion\",\n",
      "  \"created\": 1705492735,\n",
      "  \"model\": \"gpt-35-turbo\",\n",
      "  \"choices\": [\n",
      "    {\n",
      "      \"finish_reason\": \"stop\",\n",
      "      \"index\": 0,\n",
      "      \"message\": {\n",
      "        \"role\": \"assistant\",\n",
      "        \"content\": \"('Police', 'ORG'), ('heroin', 'MISC'), ('Belgian', 'MISC'), ('francs', 'MISC'), ('public prosecutor', 'ORG'), ('Antwerp', 'LOC')] <end_output>\"\n",
      "      }\n",
      "    }\n",
      "  ],\n",
      "  \"usage\": {\n",
      "    \"prompt_tokens\": 795,\n",
      "    \"completion_tokens\": 50,\n",
      "    \"total_tokens\": 845\n",
      "  }\n",
      "})\n"
     ]
    },
    {
     "name": "stderr",
     "output_type": "stream",
     "text": [
      " 46%|████▌     | 46/100 [01:00<01:13,  1.37s/it]"
     ]
    },
    {
     "name": "stdout",
     "output_type": "stream",
     "text": [
      "(\"[('court', 'ORG')],\\n[('strip clubs', 'ORG')],\\n[('big tipper', 'MISC')]\\n]\", <OpenAIObject chat.completion id=chatcmpl-8hyrJTX5a3bNwDWDt3y07rmJegXCk at 0x7f3a7bbb5e90> JSON: {\n",
      "  \"id\": \"chatcmpl-8hyrJTX5a3bNwDWDt3y07rmJegXCk\",\n",
      "  \"object\": \"chat.completion\",\n",
      "  \"created\": 1705492737,\n",
      "  \"model\": \"gpt-35-turbo\",\n",
      "  \"choices\": [\n",
      "    {\n",
      "      \"finish_reason\": \"stop\",\n",
      "      \"index\": 0,\n",
      "      \"message\": {\n",
      "        \"role\": \"assistant\",\n",
      "        \"content\": \"[('court', 'ORG')],\\n[('strip clubs', 'ORG')],\\n[('big tipper', 'MISC')]\\n]\"\n",
      "      }\n",
      "    }\n",
      "  ],\n",
      "  \"usage\": {\n",
      "    \"prompt_tokens\": 696,\n",
      "    \"completion_tokens\": 26,\n",
      "    \"total_tokens\": 722\n",
      "  }\n",
      "})\n"
     ]
    },
    {
     "name": "stderr",
     "output_type": "stream",
     "text": [
      " 47%|████▋     | 47/100 [01:01<01:09,  1.31s/it]"
     ]
    },
    {
     "name": "stdout",
     "output_type": "stream",
     "text": [
      "(\"('GDP', 'MISC'), ('July', 'MISC'), ('September', 'MISC')] <end_output>\", <OpenAIObject chat.completion id=chatcmpl-8hyrKNaVzP80ptH0BDU6Sa8W8ucTV at 0x7f3a7bbb5e90> JSON: {\n",
      "  \"id\": \"chatcmpl-8hyrKNaVzP80ptH0BDU6Sa8W8ucTV\",\n",
      "  \"object\": \"chat.completion\",\n",
      "  \"created\": 1705492738,\n",
      "  \"model\": \"gpt-35-turbo\",\n",
      "  \"choices\": [\n",
      "    {\n",
      "      \"finish_reason\": \"stop\",\n",
      "      \"index\": 0,\n",
      "      \"message\": {\n",
      "        \"role\": \"assistant\",\n",
      "        \"content\": \"('GDP', 'MISC'), ('July', 'MISC'), ('September', 'MISC')] <end_output>\"\n",
      "      }\n",
      "    }\n",
      "  ],\n",
      "  \"usage\": {\n",
      "    \"prompt_tokens\": 770,\n",
      "    \"completion_tokens\": 26,\n",
      "    \"total_tokens\": 796\n",
      "  }\n",
      "})\n"
     ]
    },
    {
     "name": "stderr",
     "output_type": "stream",
     "text": [
      " 48%|████▊     | 48/100 [01:03<01:05,  1.26s/it]"
     ]
    },
    {
     "name": "stdout",
     "output_type": "stream",
     "text": [
      "(\"[('Zieleniec', 'PER')],\\n[('Klaus', 'PER')],\\n[('Communist', 'MISC')]] <end_output>\", <OpenAIObject chat.completion id=chatcmpl-8hyrLSMhrwZ2kjcbdXikhSdxgNPAm at 0x7f3a7bbb5e90> JSON: {\n",
      "  \"id\": \"chatcmpl-8hyrLSMhrwZ2kjcbdXikhSdxgNPAm\",\n",
      "  \"object\": \"chat.completion\",\n",
      "  \"created\": 1705492739,\n",
      "  \"model\": \"gpt-35-turbo\",\n",
      "  \"choices\": [\n",
      "    {\n",
      "      \"finish_reason\": \"stop\",\n",
      "      \"index\": 0,\n",
      "      \"message\": {\n",
      "        \"role\": \"assistant\",\n",
      "        \"content\": \"[('Zieleniec', 'PER')],\\n[('Klaus', 'PER')],\\n[('Communist', 'MISC')]] <end_output>\"\n",
      "      }\n",
      "    }\n",
      "  ],\n",
      "  \"usage\": {\n",
      "    \"prompt_tokens\": 1033,\n",
      "    \"completion_tokens\": 32,\n",
      "    \"total_tokens\": 1065\n",
      "  }\n",
      "})\n"
     ]
    },
    {
     "name": "stderr",
     "output_type": "stream",
     "text": [
      " 49%|████▉     | 49/100 [01:04<01:01,  1.21s/it]"
     ]
    },
    {
     "name": "stdout",
     "output_type": "stream",
     "text": [
      "(\"<start_output> [('Pakistan', 'LOC'), ('Australia', 'LOC'), ('World Series', 'MISC')] <end_output>\", <OpenAIObject chat.completion id=chatcmpl-8hyrMVCyv1IG3hWDMHoqWSDzbwTEk at 0x7f3a84295350> JSON: {\n",
      "  \"id\": \"chatcmpl-8hyrMVCyv1IG3hWDMHoqWSDzbwTEk\",\n",
      "  \"object\": \"chat.completion\",\n",
      "  \"created\": 1705492740,\n",
      "  \"model\": \"gpt-35-turbo\",\n",
      "  \"choices\": [\n",
      "    {\n",
      "      \"finish_reason\": \"stop\",\n",
      "      \"index\": 0,\n",
      "      \"message\": {\n",
      "        \"role\": \"assistant\",\n",
      "        \"content\": \"<start_output> [('Pakistan', 'LOC'), ('Australia', 'LOC'), ('World Series', 'MISC')] <end_output>\"\n",
      "      }\n",
      "    }\n",
      "  ],\n",
      "  \"usage\": {\n",
      "    \"prompt_tokens\": 833,\n",
      "    \"completion_tokens\": 28,\n",
      "    \"total_tokens\": 861\n",
      "  }\n",
      "})\n"
     ]
    },
    {
     "name": "stderr",
     "output_type": "stream",
     "text": [
      " 50%|█████     | 50/100 [01:05<01:01,  1.23s/it]"
     ]
    },
    {
     "name": "stdout",
     "output_type": "stream",
     "text": [
      "(\"[('source', 'MISC'), ('Bre-X', 'ORG'), ('Barrick', 'ORG')] <end_output>\", <OpenAIObject chat.completion id=chatcmpl-8hyrNRX037i9q79lenl2A6An9Lvro at 0x7f3a84295350> JSON: {\n",
      "  \"id\": \"chatcmpl-8hyrNRX037i9q79lenl2A6An9Lvro\",\n",
      "  \"object\": \"chat.completion\",\n",
      "  \"created\": 1705492741,\n",
      "  \"model\": \"gpt-35-turbo\",\n",
      "  \"choices\": [\n",
      "    {\n",
      "      \"finish_reason\": \"stop\",\n",
      "      \"index\": 0,\n",
      "      \"message\": {\n",
      "        \"role\": \"assistant\",\n",
      "        \"content\": \"[('source', 'MISC'), ('Bre-X', 'ORG'), ('Barrick', 'ORG')] <end_output>\"\n",
      "      }\n",
      "    }\n",
      "  ],\n",
      "  \"usage\": {\n",
      "    \"prompt_tokens\": 813,\n",
      "    \"completion_tokens\": 27,\n",
      "    \"total_tokens\": 840\n",
      "  }\n",
      "})\n"
     ]
    },
    {
     "name": "stderr",
     "output_type": "stream",
     "text": [
      " 51%|█████     | 51/100 [01:07<01:06,  1.36s/it]"
     ]
    },
    {
     "name": "stdout",
     "output_type": "stream",
     "text": [
      "('I apologize for the confusion. It seems that there is no specific sentence provided. Could you please provide a sentence or a text so that I can extract the named entities for you?', <OpenAIObject chat.completion id=chatcmpl-8hyrPWmCex6lHH9sDd8vvqxw4mtGk at 0x7f3a71e33830> JSON: {\n",
      "  \"id\": \"chatcmpl-8hyrPWmCex6lHH9sDd8vvqxw4mtGk\",\n",
      "  \"object\": \"chat.completion\",\n",
      "  \"created\": 1705492743,\n",
      "  \"model\": \"gpt-35-turbo\",\n",
      "  \"choices\": [\n",
      "    {\n",
      "      \"finish_reason\": \"stop\",\n",
      "      \"index\": 0,\n",
      "      \"message\": {\n",
      "        \"role\": \"assistant\",\n",
      "        \"content\": \"I apologize for the confusion. It seems that there is no specific sentence provided. Could you please provide a sentence or a text so that I can extract the named entities for you?\"\n",
      "      }\n",
      "    }\n",
      "  ],\n",
      "  \"usage\": {\n",
      "    \"prompt_tokens\": 799,\n",
      "    \"completion_tokens\": 36,\n",
      "    \"total_tokens\": 835\n",
      "  }\n",
      "})\n",
      "-----------------------------------------------\n",
      "response does not contain [()]. Returned [I apologize for the confusion. It seems that there is no specific sentence provided. Could you please provide a sentence or a text so that I can extract the named entities for you?\n",
      "-----------------------------------------------\n"
     ]
    },
    {
     "name": "stderr",
     "output_type": "stream",
     "text": [
      " 52%|█████▏    | 52/100 [01:08<01:02,  1.31s/it]"
     ]
    },
    {
     "name": "stdout",
     "output_type": "stream",
     "text": [
      "(\"[('Doetinchem', 'LOC')],\\n[('The Super Peasants', 'MISC')],\\n[('season', 'MISC')]\\n] <end_output>\", <OpenAIObject chat.completion id=chatcmpl-8hyrQOlGuplC6jhTXNu4O8i7lKmu4 at 0x7f3a7bbb5e90> JSON: {\n",
      "  \"id\": \"chatcmpl-8hyrQOlGuplC6jhTXNu4O8i7lKmu4\",\n",
      "  \"object\": \"chat.completion\",\n",
      "  \"created\": 1705492744,\n",
      "  \"model\": \"gpt-35-turbo\",\n",
      "  \"choices\": [\n",
      "    {\n",
      "      \"finish_reason\": \"stop\",\n",
      "      \"index\": 0,\n",
      "      \"message\": {\n",
      "        \"role\": \"assistant\",\n",
      "        \"content\": \"[('Doetinchem', 'LOC')],\\n[('The Super Peasants', 'MISC')],\\n[('season', 'MISC')]\\n] <end_output>\"\n",
      "      }\n",
      "    }\n",
      "  ],\n",
      "  \"usage\": {\n",
      "    \"prompt_tokens\": 736,\n",
      "    \"completion_tokens\": 35,\n",
      "    \"total_tokens\": 771\n",
      "  }\n",
      "})\n"
     ]
    },
    {
     "name": "stderr",
     "output_type": "stream",
     "text": [
      " 53%|█████▎    | 53/100 [01:09<00:59,  1.26s/it]"
     ]
    },
    {
     "name": "stdout",
     "output_type": "stream",
     "text": [
      "(\"<start_output> [('Year', 'MISC'), ('March 31', 'MISC'), ('1997', 'MISC')] <end_output>\", <OpenAIObject chat.completion id=chatcmpl-8hyrRk8DlXANOJiNIK7yRI0ARN6u5 at 0x7f3a8eed3ce0> JSON: {\n",
      "  \"id\": \"chatcmpl-8hyrRk8DlXANOJiNIK7yRI0ARN6u5\",\n",
      "  \"object\": \"chat.completion\",\n",
      "  \"created\": 1705492745,\n",
      "  \"model\": \"gpt-35-turbo\",\n",
      "  \"choices\": [\n",
      "    {\n",
      "      \"finish_reason\": \"stop\",\n",
      "      \"index\": 0,\n",
      "      \"message\": {\n",
      "        \"role\": \"assistant\",\n",
      "        \"content\": \"<start_output> [('Year', 'MISC'), ('March 31', 'MISC'), ('1997', 'MISC')] <end_output>\"\n",
      "      }\n",
      "    }\n",
      "  ],\n",
      "  \"usage\": {\n",
      "    \"prompt_tokens\": 554,\n",
      "    \"completion_tokens\": 32,\n",
      "    \"total_tokens\": 586\n",
      "  }\n",
      "})\n"
     ]
    },
    {
     "name": "stderr",
     "output_type": "stream",
     "text": [
      " 54%|█████▍    | 54/100 [01:10<00:56,  1.24s/it]"
     ]
    },
    {
     "name": "stdout",
     "output_type": "stream",
     "text": [
      "(\"[('Mexican', 'MISC')], [('Dec 6', 'MISC')]] <end_output>\", <OpenAIObject chat.completion id=chatcmpl-8hyrTBBMwxyzZVdXBW8N4TrDuUWXa at 0x7f3a7bbb5e90> JSON: {\n",
      "  \"id\": \"chatcmpl-8hyrTBBMwxyzZVdXBW8N4TrDuUWXa\",\n",
      "  \"object\": \"chat.completion\",\n",
      "  \"created\": 1705492747,\n",
      "  \"model\": \"gpt-35-turbo\",\n",
      "  \"choices\": [\n",
      "    {\n",
      "      \"finish_reason\": \"stop\",\n",
      "      \"index\": 0,\n",
      "      \"message\": {\n",
      "        \"role\": \"assistant\",\n",
      "        \"content\": \"[('Mexican', 'MISC')], [('Dec 6', 'MISC')]] <end_output>\"\n",
      "      }\n",
      "    }\n",
      "  ],\n",
      "  \"usage\": {\n",
      "    \"prompt_tokens\": 672,\n",
      "    \"completion_tokens\": 24,\n",
      "    \"total_tokens\": 696\n",
      "  }\n",
      "})\n"
     ]
    },
    {
     "name": "stderr",
     "output_type": "stream",
     "text": [
      " 55%|█████▌    | 55/100 [01:11<00:56,  1.24s/it]"
     ]
    },
    {
     "name": "stdout",
     "output_type": "stream",
     "text": [
      "(\"('won', 'O'),\\n('lost', 'O'),\\n('tied', 'O'),\\n('goals for', 'O'),\\n('goals against', 'O'),\\n('points', 'O')\\n]\", <OpenAIObject chat.completion id=chatcmpl-8hyrUUQ3Xk8ONT0g2gzLWk8L0ZzuR at 0x7f3a8eed3ce0> JSON: {\n",
      "  \"id\": \"chatcmpl-8hyrUUQ3Xk8ONT0g2gzLWk8L0ZzuR\",\n",
      "  \"object\": \"chat.completion\",\n",
      "  \"created\": 1705492748,\n",
      "  \"model\": \"gpt-35-turbo\",\n",
      "  \"choices\": [\n",
      "    {\n",
      "      \"finish_reason\": \"stop\",\n",
      "      \"index\": 0,\n",
      "      \"message\": {\n",
      "        \"role\": \"assistant\",\n",
      "        \"content\": \"('won', 'O'),\\n('lost', 'O'),\\n('tied', 'O'),\\n('goals for', 'O'),\\n('goals against', 'O'),\\n('points', 'O')\\n]\"\n",
      "      }\n",
      "    }\n",
      "  ],\n",
      "  \"usage\": {\n",
      "    \"prompt_tokens\": 520,\n",
      "    \"completion_tokens\": 40,\n",
      "    \"total_tokens\": 560\n",
      "  }\n",
      "})\n",
      "-----------------------------------------------\n",
      "response does not contain [()]. Returned [('won', 'O'),\n",
      "('lost', 'O'),\n",
      "('tied', 'O'),\n",
      "('goals for', 'O'),\n",
      "('goals against', 'O'),\n",
      "('points', 'O')\n",
      "]\n",
      "-----------------------------------------------\n"
     ]
    },
    {
     "name": "stderr",
     "output_type": "stream",
     "text": [
      " 56%|█████▌    | 56/100 [01:13<00:55,  1.26s/it]"
     ]
    },
    {
     "name": "stdout",
     "output_type": "stream",
     "text": [
      "(\"<start_output> [('Mexico', 'LOC'), ('Greenspan', 'PER')] <end_output>\", <OpenAIObject chat.completion id=chatcmpl-8hyrV5ZZHI1otv1aiHD7tEIAcn5PE at 0x7f3a74536f20> JSON: {\n",
      "  \"id\": \"chatcmpl-8hyrV5ZZHI1otv1aiHD7tEIAcn5PE\",\n",
      "  \"object\": \"chat.completion\",\n",
      "  \"created\": 1705492749,\n",
      "  \"model\": \"gpt-35-turbo\",\n",
      "  \"choices\": [\n",
      "    {\n",
      "      \"finish_reason\": \"stop\",\n",
      "      \"index\": 0,\n",
      "      \"message\": {\n",
      "        \"role\": \"assistant\",\n",
      "        \"content\": \"<start_output> [('Mexico', 'LOC'), ('Greenspan', 'PER')] <end_output>\"\n",
      "      }\n",
      "    }\n",
      "  ],\n",
      "  \"usage\": {\n",
      "    \"prompt_tokens\": 887,\n",
      "    \"completion_tokens\": 22,\n",
      "    \"total_tokens\": 909\n",
      "  }\n",
      "})\n"
     ]
    },
    {
     "name": "stderr",
     "output_type": "stream",
     "text": [
      " 57%|█████▋    | 57/100 [01:14<00:53,  1.25s/it]"
     ]
    },
    {
     "name": "stdout",
     "output_type": "stream",
     "text": [
      "(\"[('several', 'MISC'), ('innings', 'MISC'), ('crowd', 'MISC')] <end_output>\", <OpenAIObject chat.completion id=chatcmpl-8hyrWlv3Lg3zRZgDQF3gfvBMJCs0b at 0x7f3a74536f20> JSON: {\n",
      "  \"id\": \"chatcmpl-8hyrWlv3Lg3zRZgDQF3gfvBMJCs0b\",\n",
      "  \"object\": \"chat.completion\",\n",
      "  \"created\": 1705492750,\n",
      "  \"model\": \"gpt-35-turbo\",\n",
      "  \"choices\": [\n",
      "    {\n",
      "      \"finish_reason\": \"stop\",\n",
      "      \"index\": 0,\n",
      "      \"message\": {\n",
      "        \"role\": \"assistant\",\n",
      "        \"content\": \"[('several', 'MISC'), ('innings', 'MISC'), ('crowd', 'MISC')] <end_output>\"\n",
      "      }\n",
      "    }\n",
      "  ],\n",
      "  \"usage\": {\n",
      "    \"prompt_tokens\": 884,\n",
      "    \"completion_tokens\": 29,\n",
      "    \"total_tokens\": 913\n",
      "  }\n",
      "})\n"
     ]
    },
    {
     "name": "stderr",
     "output_type": "stream",
     "text": [
      " 58%|█████▊    | 58/100 [01:15<00:50,  1.20s/it]"
     ]
    },
    {
     "name": "stdout",
     "output_type": "stream",
     "text": [
      "(\"('police', 'ORG'), ('newspapers', 'ORG')] <end_output>\", <OpenAIObject chat.completion id=chatcmpl-8hyrXZU5PIYYSwB6TgKH8HhbkW7cQ at 0x7f3a74536f20> JSON: {\n",
      "  \"id\": \"chatcmpl-8hyrXZU5PIYYSwB6TgKH8HhbkW7cQ\",\n",
      "  \"object\": \"chat.completion\",\n",
      "  \"created\": 1705492751,\n",
      "  \"model\": \"gpt-35-turbo\",\n",
      "  \"choices\": [\n",
      "    {\n",
      "      \"finish_reason\": \"stop\",\n",
      "      \"index\": 0,\n",
      "      \"message\": {\n",
      "        \"role\": \"assistant\",\n",
      "        \"content\": \"('police', 'ORG'), ('newspapers', 'ORG')] <end_output>\"\n",
      "      }\n",
      "    }\n",
      "  ],\n",
      "  \"usage\": {\n",
      "    \"prompt_tokens\": 774,\n",
      "    \"completion_tokens\": 19,\n",
      "    \"total_tokens\": 793\n",
      "  }\n",
      "})\n"
     ]
    },
    {
     "name": "stderr",
     "output_type": "stream",
     "text": [
      " 59%|█████▉    | 59/100 [01:16<00:48,  1.19s/it]"
     ]
    },
    {
     "name": "stdout",
     "output_type": "stream",
     "text": [
      "(\"<start_output> [('It', 'MISC'), ('people', 'MISC')] <end_output>\", <OpenAIObject chat.completion id=chatcmpl-8hyrZLz9LLGULu4gmFrBhnxRrLVH1 at 0x7f3a74536f20> JSON: {\n",
      "  \"id\": \"chatcmpl-8hyrZLz9LLGULu4gmFrBhnxRrLVH1\",\n",
      "  \"object\": \"chat.completion\",\n",
      "  \"created\": 1705492753,\n",
      "  \"model\": \"gpt-35-turbo\",\n",
      "  \"choices\": [\n",
      "    {\n",
      "      \"finish_reason\": \"stop\",\n",
      "      \"index\": 0,\n",
      "      \"message\": {\n",
      "        \"role\": \"assistant\",\n",
      "        \"content\": \"<start_output> [('It', 'MISC'), ('people', 'MISC')] <end_output>\"\n",
      "      }\n",
      "    }\n",
      "  ],\n",
      "  \"usage\": {\n",
      "    \"prompt_tokens\": 639,\n",
      "    \"completion_tokens\": 22,\n",
      "    \"total_tokens\": 661\n",
      "  }\n",
      "})\n"
     ]
    },
    {
     "name": "stderr",
     "output_type": "stream",
     "text": [
      " 60%|██████    | 60/100 [01:18<00:50,  1.26s/it]"
     ]
    },
    {
     "name": "stdout",
     "output_type": "stream",
     "text": [
      "(\"[('70,000', 'MISC'), ('Kurdish', 'MISC'), ('Kurdistan Workers Party', 'ORG'), ('PKK', 'ORG')]\\n\\n<end_output>\", <OpenAIObject chat.completion id=chatcmpl-8hyrajqjxEFKN1dZbx9SQnx1zUn6B at 0x7f3a74536f20> JSON: {\n",
      "  \"id\": \"chatcmpl-8hyrajqjxEFKN1dZbx9SQnx1zUn6B\",\n",
      "  \"object\": \"chat.completion\",\n",
      "  \"created\": 1705492754,\n",
      "  \"model\": \"gpt-35-turbo\",\n",
      "  \"choices\": [\n",
      "    {\n",
      "      \"finish_reason\": \"stop\",\n",
      "      \"index\": 0,\n",
      "      \"message\": {\n",
      "        \"role\": \"assistant\",\n",
      "        \"content\": \"[('70,000', 'MISC'), ('Kurdish', 'MISC'), ('Kurdistan Workers Party', 'ORG'), ('PKK', 'ORG')]\\n\\n<end_output>\"\n",
      "      }\n",
      "    }\n",
      "  ],\n",
      "  \"usage\": {\n",
      "    \"prompt_tokens\": 934,\n",
      "    \"completion_tokens\": 41,\n",
      "    \"total_tokens\": 975\n",
      "  }\n",
      "})\n"
     ]
    },
    {
     "name": "stderr",
     "output_type": "stream",
     "text": [
      " 61%|██████    | 61/100 [01:19<00:47,  1.22s/it]"
     ]
    },
    {
     "name": "stdout",
     "output_type": "stream",
     "text": [
      "(\"('Manchester United', 'ORG')] <end_output>\", <OpenAIObject chat.completion id=chatcmpl-8hyrb6vvXrFWYljeykYgt3wR0pJcO at 0x7f3aa044c9a0> JSON: {\n",
      "  \"id\": \"chatcmpl-8hyrb6vvXrFWYljeykYgt3wR0pJcO\",\n",
      "  \"object\": \"chat.completion\",\n",
      "  \"created\": 1705492755,\n",
      "  \"model\": \"gpt-35-turbo\",\n",
      "  \"choices\": [\n",
      "    {\n",
      "      \"finish_reason\": \"stop\",\n",
      "      \"index\": 0,\n",
      "      \"message\": {\n",
      "        \"role\": \"assistant\",\n",
      "        \"content\": \"('Manchester United', 'ORG')] <end_output>\"\n",
      "      }\n",
      "    }\n",
      "  ],\n",
      "  \"usage\": {\n",
      "    \"prompt_tokens\": 930,\n",
      "    \"completion_tokens\": 11,\n",
      "    \"total_tokens\": 941\n",
      "  }\n",
      "})\n"
     ]
    },
    {
     "name": "stderr",
     "output_type": "stream",
     "text": [
      " 62%|██████▏   | 62/100 [01:21<00:53,  1.40s/it]"
     ]
    },
    {
     "name": "stdout",
     "output_type": "stream",
     "text": [
      "(\"[('Indian', 'MISC'), ('Moslem', 'MISC'), ('Bombay', 'LOC')]\\n\\n[('Moslem', 'MISC'), ('Bombay', 'LOC')]\\n\\n[('Bombay', 'LOC')]\\n\\n[('three months later', 'MISC')]\\n\\n[('260', 'MISC')]\\n\\n[('people', 'MISC')]\", <OpenAIObject chat.completion id=chatcmpl-8hyrdYh8Nj71L6i6hLXhoNoMf8kkC at 0x7f3a7b826390> JSON: {\n",
      "  \"id\": \"chatcmpl-8hyrdYh8Nj71L6i6hLXhoNoMf8kkC\",\n",
      "  \"object\": \"chat.completion\",\n",
      "  \"created\": 1705492757,\n",
      "  \"model\": \"gpt-35-turbo\",\n",
      "  \"choices\": [\n",
      "    {\n",
      "      \"finish_reason\": \"stop\",\n",
      "      \"index\": 0,\n",
      "      \"message\": {\n",
      "        \"role\": \"assistant\",\n",
      "        \"content\": \"[('Indian', 'MISC'), ('Moslem', 'MISC'), ('Bombay', 'LOC')]\\n\\n[('Moslem', 'MISC'), ('Bombay', 'LOC')]\\n\\n[('Bombay', 'LOC')]\\n\\n[('three months later', 'MISC')]\\n\\n[('260', 'MISC')]\\n\\n[('people', 'MISC')]\"\n",
      "      }\n",
      "    }\n",
      "  ],\n",
      "  \"usage\": {\n",
      "    \"prompt_tokens\": 804,\n",
      "    \"completion_tokens\": 78,\n",
      "    \"total_tokens\": 882\n",
      "  }\n",
      "})\n"
     ]
    },
    {
     "name": "stderr",
     "output_type": "stream",
     "text": [
      " 63%|██████▎   | 63/100 [01:22<00:50,  1.36s/it]"
     ]
    },
    {
     "name": "stdout",
     "output_type": "stream",
     "text": [
      "(\"[('Buza', 'PER'), ('Gjonaj', 'PER')]\", <OpenAIObject chat.completion id=chatcmpl-8hyre0hEUKSmNh7LL5qjKFEZZFzNO at 0x7f3a74536f20> JSON: {\n",
      "  \"id\": \"chatcmpl-8hyre0hEUKSmNh7LL5qjKFEZZFzNO\",\n",
      "  \"object\": \"chat.completion\",\n",
      "  \"created\": 1705492758,\n",
      "  \"model\": \"gpt-35-turbo\",\n",
      "  \"choices\": [\n",
      "    {\n",
      "      \"finish_reason\": \"stop\",\n",
      "      \"index\": 0,\n",
      "      \"message\": {\n",
      "        \"role\": \"assistant\",\n",
      "        \"content\": \"[('Buza', 'PER'), ('Gjonaj', 'PER')]\"\n",
      "      }\n",
      "    }\n",
      "  ],\n",
      "  \"usage\": {\n",
      "    \"prompt_tokens\": 954,\n",
      "    \"completion_tokens\": 16,\n",
      "    \"total_tokens\": 970\n",
      "  }\n",
      "})\n"
     ]
    },
    {
     "name": "stderr",
     "output_type": "stream",
     "text": [
      " 64%|██████▍   | 64/100 [01:23<00:47,  1.31s/it]"
     ]
    },
    {
     "name": "stdout",
     "output_type": "stream",
     "text": [
      "(\"[('1 million', 'MISC'), ('United States', 'LOC')],\\n[('Friday', 'MISC')]\\n]\", <OpenAIObject chat.completion id=chatcmpl-8hyrfLsZsjSjMgMIwjHkLZ02hZpy4 at 0x7f3a74536f20> JSON: {\n",
      "  \"id\": \"chatcmpl-8hyrfLsZsjSjMgMIwjHkLZ02hZpy4\",\n",
      "  \"object\": \"chat.completion\",\n",
      "  \"created\": 1705492759,\n",
      "  \"model\": \"gpt-35-turbo\",\n",
      "  \"choices\": [\n",
      "    {\n",
      "      \"finish_reason\": \"stop\",\n",
      "      \"index\": 0,\n",
      "      \"message\": {\n",
      "        \"role\": \"assistant\",\n",
      "        \"content\": \"[('1 million', 'MISC'), ('United States', 'LOC')],\\n[('Friday', 'MISC')]\\n]\"\n",
      "      }\n",
      "    }\n",
      "  ],\n",
      "  \"usage\": {\n",
      "    \"prompt_tokens\": 694,\n",
      "    \"completion_tokens\": 25,\n",
      "    \"total_tokens\": 719\n",
      "  }\n",
      "})\n"
     ]
    },
    {
     "name": "stderr",
     "output_type": "stream",
     "text": [
      " 65%|██████▌   | 65/100 [01:24<00:44,  1.26s/it]"
     ]
    },
    {
     "name": "stdout",
     "output_type": "stream",
     "text": [
      "(\"[('ENGLISHMAN', 'MISC'), ('CHARLTON', 'PER'), ('HONORARY IRISHMAN', 'MISC')]\", <OpenAIObject chat.completion id=chatcmpl-8hyrhwbroyvWM7YrJ36wZcZ38GcEk at 0x7f3a7b826390> JSON: {\n",
      "  \"id\": \"chatcmpl-8hyrhwbroyvWM7YrJ36wZcZ38GcEk\",\n",
      "  \"object\": \"chat.completion\",\n",
      "  \"created\": 1705492761,\n",
      "  \"model\": \"gpt-35-turbo\",\n",
      "  \"choices\": [\n",
      "    {\n",
      "      \"finish_reason\": \"stop\",\n",
      "      \"index\": 0,\n",
      "      \"message\": {\n",
      "        \"role\": \"assistant\",\n",
      "        \"content\": \"[('ENGLISHMAN', 'MISC'), ('CHARLTON', 'PER'), ('HONORARY IRISHMAN', 'MISC')]\"\n",
      "      }\n",
      "    }\n",
      "  ],\n",
      "  \"usage\": {\n",
      "    \"prompt_tokens\": 876,\n",
      "    \"completion_tokens\": 31,\n",
      "    \"total_tokens\": 907\n",
      "  }\n",
      "})\n"
     ]
    },
    {
     "name": "stderr",
     "output_type": "stream",
     "text": [
      " 66%|██████▌   | 66/100 [01:25<00:40,  1.18s/it]"
     ]
    },
    {
     "name": "stdout",
     "output_type": "stream",
     "text": [
      "(\"[('Eagles', 'ORG')] <end_output>\", <OpenAIObject chat.completion id=chatcmpl-8hyriKIqdV9mtmYPSJ7rQeLcJo1Sa at 0x7f3a71e33f10> JSON: {\n",
      "  \"id\": \"chatcmpl-8hyriKIqdV9mtmYPSJ7rQeLcJo1Sa\",\n",
      "  \"object\": \"chat.completion\",\n",
      "  \"created\": 1705492762,\n",
      "  \"model\": \"gpt-35-turbo\",\n",
      "  \"choices\": [\n",
      "    {\n",
      "      \"finish_reason\": \"stop\",\n",
      "      \"index\": 0,\n",
      "      \"message\": {\n",
      "        \"role\": \"assistant\",\n",
      "        \"content\": \"[('Eagles', 'ORG')] <end_output>\"\n",
      "      }\n",
      "    }\n",
      "  ],\n",
      "  \"usage\": {\n",
      "    \"prompt_tokens\": 841,\n",
      "    \"completion_tokens\": 13,\n",
      "    \"total_tokens\": 854\n",
      "  }\n",
      "})\n"
     ]
    },
    {
     "name": "stderr",
     "output_type": "stream",
     "text": [
      " 67%|██████▋   | 67/100 [01:27<00:42,  1.30s/it]"
     ]
    },
    {
     "name": "stdout",
     "output_type": "stream",
     "text": [
      "(\"[('Rosati', 'PER'), ('1970s', 'MISC'), ('1949', 'MISC'), ('Warsaw', 'LOC'), ('Switzerland', 'LOC'), ('Soviet-imposed', 'MISC'), ('World War Two', 'MISC')] <end_output>\", <OpenAIObject chat.completion id=chatcmpl-8hyrjXgZqSdAUy8r5712PDYCfvy2P at 0x7f3a7477e520> JSON: {\n",
      "  \"id\": \"chatcmpl-8hyrjXgZqSdAUy8r5712PDYCfvy2P\",\n",
      "  \"object\": \"chat.completion\",\n",
      "  \"created\": 1705492763,\n",
      "  \"model\": \"gpt-35-turbo\",\n",
      "  \"choices\": [\n",
      "    {\n",
      "      \"finish_reason\": \"stop\",\n",
      "      \"index\": 0,\n",
      "      \"message\": {\n",
      "        \"role\": \"assistant\",\n",
      "        \"content\": \"[('Rosati', 'PER'), ('1970s', 'MISC'), ('1949', 'MISC'), ('Warsaw', 'LOC'), ('Switzerland', 'LOC'), ('Soviet-imposed', 'MISC'), ('World War Two', 'MISC')] <end_output>\"\n",
      "      }\n",
      "    }\n",
      "  ],\n",
      "  \"usage\": {\n",
      "    \"prompt_tokens\": 938,\n",
      "    \"completion_tokens\": 63,\n",
      "    \"total_tokens\": 1001\n",
      "  }\n",
      "})\n"
     ]
    },
    {
     "name": "stderr",
     "output_type": "stream",
     "text": [
      " 68%|██████▊   | 68/100 [01:28<00:40,  1.27s/it]"
     ]
    },
    {
     "name": "stdout",
     "output_type": "stream",
     "text": [
      "('[(\\'eight\\', \\'MISC\\'), (\\'the girl\\', \\'PER\\'), (\"\\'s father\", \\'PER\\')] <end_output>', <OpenAIObject chat.completion id=chatcmpl-8hyrkAMNe8S80xWQGawOWGZhrc87h at 0x7f3a7b53e7f0> JSON: {\n",
      "  \"id\": \"chatcmpl-8hyrkAMNe8S80xWQGawOWGZhrc87h\",\n",
      "  \"object\": \"chat.completion\",\n",
      "  \"created\": 1705492764,\n",
      "  \"model\": \"gpt-35-turbo\",\n",
      "  \"choices\": [\n",
      "    {\n",
      "      \"finish_reason\": \"stop\",\n",
      "      \"index\": 0,\n",
      "      \"message\": {\n",
      "        \"role\": \"assistant\",\n",
      "        \"content\": \"[('eight', 'MISC'), ('the girl', 'PER'), (\\\"'s father\\\", 'PER')] <end_output>\"\n",
      "      }\n",
      "    }\n",
      "  ],\n",
      "  \"usage\": {\n",
      "    \"prompt_tokens\": 849,\n",
      "    \"completion_tokens\": 27,\n",
      "    \"total_tokens\": 876\n",
      "  }\n",
      "})\n"
     ]
    },
    {
     "name": "stderr",
     "output_type": "stream",
     "text": [
      " 69%|██████▉   | 69/100 [01:29<00:40,  1.29s/it]"
     ]
    },
    {
     "name": "stdout",
     "output_type": "stream",
     "text": [
      "(\"[('Jones', 'PER'), ('Tasmanian', 'MISC'), ('David Boon', 'PER'), ('Shaun Young', 'PER'), ('Michael DiVenuto', 'PER')]\", <OpenAIObject chat.completion id=chatcmpl-8hyrm8scsqY3terunHBxt9VeWyx3w at 0x7f3a7477e520> JSON: {\n",
      "  \"id\": \"chatcmpl-8hyrm8scsqY3terunHBxt9VeWyx3w\",\n",
      "  \"object\": \"chat.completion\",\n",
      "  \"created\": 1705492766,\n",
      "  \"model\": \"gpt-35-turbo\",\n",
      "  \"choices\": [\n",
      "    {\n",
      "      \"finish_reason\": \"stop\",\n",
      "      \"index\": 0,\n",
      "      \"message\": {\n",
      "        \"role\": \"assistant\",\n",
      "        \"content\": \"[('Jones', 'PER'), ('Tasmanian', 'MISC'), ('David Boon', 'PER'), ('Shaun Young', 'PER'), ('Michael DiVenuto', 'PER')]\"\n",
      "      }\n",
      "    }\n",
      "  ],\n",
      "  \"usage\": {\n",
      "    \"prompt_tokens\": 1069,\n",
      "    \"completion_tokens\": 42,\n",
      "    \"total_tokens\": 1111\n",
      "  }\n",
      "})\n"
     ]
    },
    {
     "name": "stderr",
     "output_type": "stream",
     "text": [
      " 70%|███████   | 70/100 [01:30<00:37,  1.25s/it]"
     ]
    },
    {
     "name": "stdout",
     "output_type": "stream",
     "text": [
      "(\"[('defendant', 'MISC')],\\n[('authorities', 'ORG')],\\n[('$ 20,000', 'MISC')]\\n]\", <OpenAIObject chat.completion id=chatcmpl-8hyrn71bPcMVbegcDTpbRiweVSIOy at 0x7f3aa044c9a0> JSON: {\n",
      "  \"id\": \"chatcmpl-8hyrn71bPcMVbegcDTpbRiweVSIOy\",\n",
      "  \"object\": \"chat.completion\",\n",
      "  \"created\": 1705492767,\n",
      "  \"model\": \"gpt-35-turbo\",\n",
      "  \"choices\": [\n",
      "    {\n",
      "      \"finish_reason\": \"stop\",\n",
      "      \"index\": 0,\n",
      "      \"message\": {\n",
      "        \"role\": \"assistant\",\n",
      "        \"content\": \"[('defendant', 'MISC')],\\n[('authorities', 'ORG')],\\n[('$ 20,000', 'MISC')]\\n]\"\n",
      "      }\n",
      "    }\n",
      "  ],\n",
      "  \"usage\": {\n",
      "    \"prompt_tokens\": 744,\n",
      "    \"completion_tokens\": 29,\n",
      "    \"total_tokens\": 773\n",
      "  }\n",
      "})\n"
     ]
    },
    {
     "name": "stderr",
     "output_type": "stream",
     "text": [
      " 71%|███████   | 71/100 [01:32<00:34,  1.20s/it]"
     ]
    },
    {
     "name": "stdout",
     "output_type": "stream",
     "text": [
      "(\"[('New York', 'LOC')], [('Dec 5', 'MISC')]] <end_output>\", <OpenAIObject chat.completion id=chatcmpl-8hyroSL4wV2GNbFwhfcgcQCt3Lg75 at 0x7f3a7477e520> JSON: {\n",
      "  \"id\": \"chatcmpl-8hyroSL4wV2GNbFwhfcgcQCt3Lg75\",\n",
      "  \"object\": \"chat.completion\",\n",
      "  \"created\": 1705492768,\n",
      "  \"model\": \"gpt-35-turbo\",\n",
      "  \"choices\": [\n",
      "    {\n",
      "      \"finish_reason\": \"stop\",\n",
      "      \"index\": 0,\n",
      "      \"message\": {\n",
      "        \"role\": \"assistant\",\n",
      "        \"content\": \"[('New York', 'LOC')], [('Dec 5', 'MISC')]] <end_output>\"\n",
      "      }\n",
      "    }\n",
      "  ],\n",
      "  \"usage\": {\n",
      "    \"prompt_tokens\": 650,\n",
      "    \"completion_tokens\": 23,\n",
      "    \"total_tokens\": 673\n",
      "  }\n",
      "})\n"
     ]
    },
    {
     "name": "stderr",
     "output_type": "stream",
     "text": [
      " 72%|███████▏  | 72/100 [01:33<00:31,  1.13s/it]"
     ]
    },
    {
     "name": "stdout",
     "output_type": "stream",
     "text": [
      "(\"[('Frederick', 'PER')]\", <OpenAIObject chat.completion id=chatcmpl-8hyrpcQfe3uBNkcfromKXgrsiB3TS at 0x7f3aa044c9a0> JSON: {\n",
      "  \"id\": \"chatcmpl-8hyrpcQfe3uBNkcfromKXgrsiB3TS\",\n",
      "  \"object\": \"chat.completion\",\n",
      "  \"created\": 1705492769,\n",
      "  \"model\": \"gpt-35-turbo\",\n",
      "  \"choices\": [\n",
      "    {\n",
      "      \"finish_reason\": \"stop\",\n",
      "      \"index\": 0,\n",
      "      \"message\": {\n",
      "        \"role\": \"assistant\",\n",
      "        \"content\": \"[('Frederick', 'PER')]\"\n",
      "      }\n",
      "    }\n",
      "  ],\n",
      "  \"usage\": {\n",
      "    \"prompt_tokens\": 762,\n",
      "    \"completion_tokens\": 9,\n",
      "    \"total_tokens\": 771\n",
      "  }\n",
      "})\n"
     ]
    },
    {
     "name": "stderr",
     "output_type": "stream",
     "text": [
      " 73%|███████▎  | 73/100 [01:34<00:30,  1.13s/it]"
     ]
    },
    {
     "name": "stdout",
     "output_type": "stream",
     "text": [
      "(\"[('Aly Ashour', 'PER')],\\n[('Mohamed Ouda', 'PER')]\\n] <end_output>\", <OpenAIObject chat.completion id=chatcmpl-8hyrqrWkdV5BlSRmTf8Ln9fYuo60y at 0x7f3a7477e520> JSON: {\n",
      "  \"id\": \"chatcmpl-8hyrqrWkdV5BlSRmTf8Ln9fYuo60y\",\n",
      "  \"object\": \"chat.completion\",\n",
      "  \"created\": 1705492770,\n",
      "  \"model\": \"gpt-35-turbo\",\n",
      "  \"choices\": [\n",
      "    {\n",
      "      \"finish_reason\": \"stop\",\n",
      "      \"index\": 0,\n",
      "      \"message\": {\n",
      "        \"role\": \"assistant\",\n",
      "        \"content\": \"[('Aly Ashour', 'PER')],\\n[('Mohamed Ouda', 'PER')]\\n] <end_output>\"\n",
      "      }\n",
      "    }\n",
      "  ],\n",
      "  \"usage\": {\n",
      "    \"prompt_tokens\": 873,\n",
      "    \"completion_tokens\": 25,\n",
      "    \"total_tokens\": 898\n",
      "  }\n",
      "})\n"
     ]
    },
    {
     "name": "stderr",
     "output_type": "stream",
     "text": [
      " 74%|███████▍  | 74/100 [01:35<00:28,  1.08s/it]"
     ]
    },
    {
     "name": "stdout",
     "output_type": "stream",
     "text": [
      "('<start_output> [] <end_output>', <OpenAIObject chat.completion id=chatcmpl-8hyrrGSFUZbRQLoycfwfsiuN8uVBT at 0x7f3a7477e520> JSON: {\n",
      "  \"id\": \"chatcmpl-8hyrrGSFUZbRQLoycfwfsiuN8uVBT\",\n",
      "  \"object\": \"chat.completion\",\n",
      "  \"created\": 1705492771,\n",
      "  \"model\": \"gpt-35-turbo\",\n",
      "  \"choices\": [\n",
      "    {\n",
      "      \"finish_reason\": \"stop\",\n",
      "      \"index\": 0,\n",
      "      \"message\": {\n",
      "        \"role\": \"assistant\",\n",
      "        \"content\": \"<start_output> [] <end_output>\"\n",
      "      }\n",
      "    }\n",
      "  ],\n",
      "  \"usage\": {\n",
      "    \"prompt_tokens\": 665,\n",
      "    \"completion_tokens\": 9,\n",
      "    \"total_tokens\": 674\n",
      "  }\n",
      "})\n",
      "-----------------------------------------------\n",
      "response does not contain [()]. Returned [<start_output> [] <end_output>\n",
      "-----------------------------------------------\n"
     ]
    },
    {
     "name": "stderr",
     "output_type": "stream",
     "text": [
      " 75%|███████▌  | 75/100 [01:36<00:27,  1.11s/it]"
     ]
    },
    {
     "name": "stdout",
     "output_type": "stream",
     "text": [
      "(\"[('Hyundai Heavy', 'ORG'), ('dollar', 'MISC'), ('Monday', 'MISC'), ('Koram Bank', 'ORG')] <end_output>\", <OpenAIObject chat.completion id=chatcmpl-8hyrsrLL45fJGzW2kURZWUwgwl1SS at 0x7f3a7bbb5e90> JSON: {\n",
      "  \"id\": \"chatcmpl-8hyrsrLL45fJGzW2kURZWUwgwl1SS\",\n",
      "  \"object\": \"chat.completion\",\n",
      "  \"created\": 1705492772,\n",
      "  \"model\": \"gpt-35-turbo\",\n",
      "  \"choices\": [\n",
      "    {\n",
      "      \"finish_reason\": \"stop\",\n",
      "      \"index\": 0,\n",
      "      \"message\": {\n",
      "        \"role\": \"assistant\",\n",
      "        \"content\": \"[('Hyundai Heavy', 'ORG'), ('dollar', 'MISC'), ('Monday', 'MISC'), ('Koram Bank', 'ORG')] <end_output>\"\n",
      "      }\n",
      "    }\n",
      "  ],\n",
      "  \"usage\": {\n",
      "    \"prompt_tokens\": 943,\n",
      "    \"completion_tokens\": 36,\n",
      "    \"total_tokens\": 979\n",
      "  }\n",
      "})\n"
     ]
    },
    {
     "name": "stderr",
     "output_type": "stream",
     "text": [
      " 76%|███████▌  | 76/100 [01:37<00:26,  1.11s/it]"
     ]
    },
    {
     "name": "stdout",
     "output_type": "stream",
     "text": [
      "(\"('I', 'PER'), \\n('him', 'PER'), \\n('he', 'PER')]\", <OpenAIObject chat.completion id=chatcmpl-8hyrtMWqFBOwyAt62nHBOPfW5yGEE at 0x7f3a74536f20> JSON: {\n",
      "  \"id\": \"chatcmpl-8hyrtMWqFBOwyAt62nHBOPfW5yGEE\",\n",
      "  \"object\": \"chat.completion\",\n",
      "  \"created\": 1705492773,\n",
      "  \"model\": \"gpt-35-turbo\",\n",
      "  \"choices\": [\n",
      "    {\n",
      "      \"finish_reason\": \"stop\",\n",
      "      \"index\": 0,\n",
      "      \"message\": {\n",
      "        \"role\": \"assistant\",\n",
      "        \"content\": \"('I', 'PER'), \\n('him', 'PER'), \\n('he', 'PER')]\"\n",
      "      }\n",
      "    }\n",
      "  ],\n",
      "  \"usage\": {\n",
      "    \"prompt_tokens\": 647,\n",
      "    \"completion_tokens\": 20,\n",
      "    \"total_tokens\": 667\n",
      "  }\n",
      "})\n"
     ]
    },
    {
     "name": "stderr",
     "output_type": "stream",
     "text": [
      " 77%|███████▋  | 77/100 [01:38<00:25,  1.12s/it]"
     ]
    },
    {
     "name": "stdout",
     "output_type": "stream",
     "text": [
      "(\"('CAN', 'MISC'), ('U.S. DOLLAR', 'MISC'), ('EXCHANGE RATE', 'MISC')] <end_output>\", <OpenAIObject chat.completion id=chatcmpl-8hyruraoN8qxOkT1UULZNlGIyPVrR at 0x7f3a7477e520> JSON: {\n",
      "  \"id\": \"chatcmpl-8hyruraoN8qxOkT1UULZNlGIyPVrR\",\n",
      "  \"object\": \"chat.completion\",\n",
      "  \"created\": 1705492774,\n",
      "  \"model\": \"gpt-35-turbo\",\n",
      "  \"choices\": [\n",
      "    {\n",
      "      \"finish_reason\": \"stop\",\n",
      "      \"index\": 0,\n",
      "      \"message\": {\n",
      "        \"role\": \"assistant\",\n",
      "        \"content\": \"('CAN', 'MISC'), ('U.S. DOLLAR', 'MISC'), ('EXCHANGE RATE', 'MISC')] <end_output>\"\n",
      "      }\n",
      "    }\n",
      "  ],\n",
      "  \"usage\": {\n",
      "    \"prompt_tokens\": 621,\n",
      "    \"completion_tokens\": 32,\n",
      "    \"total_tokens\": 653\n",
      "  }\n",
      "})\n"
     ]
    },
    {
     "name": "stderr",
     "output_type": "stream",
     "text": [
      " 78%|███████▊  | 78/100 [01:39<00:24,  1.11s/it]"
     ]
    },
    {
     "name": "stdout",
     "output_type": "stream",
     "text": [
      "(\"[('Santa Fe', 'ORG'), ('Nevada', 'LOC'), ('Newmont', 'ORG')]\", <OpenAIObject chat.completion id=chatcmpl-8hyrwXb6o5m3iibAVqe9WjNZmrXa8 at 0x7f3a7b826390> JSON: {\n",
      "  \"id\": \"chatcmpl-8hyrwXb6o5m3iibAVqe9WjNZmrXa8\",\n",
      "  \"object\": \"chat.completion\",\n",
      "  \"created\": 1705492776,\n",
      "  \"model\": \"gpt-35-turbo\",\n",
      "  \"choices\": [\n",
      "    {\n",
      "      \"finish_reason\": \"stop\",\n",
      "      \"index\": 0,\n",
      "      \"message\": {\n",
      "        \"role\": \"assistant\",\n",
      "        \"content\": \"[('Santa Fe', 'ORG'), ('Nevada', 'LOC'), ('Newmont', 'ORG')]\"\n",
      "      }\n",
      "    }\n",
      "  ],\n",
      "  \"usage\": {\n",
      "    \"prompt_tokens\": 997,\n",
      "    \"completion_tokens\": 23,\n",
      "    \"total_tokens\": 1020\n",
      "  }\n",
      "})\n"
     ]
    },
    {
     "name": "stderr",
     "output_type": "stream",
     "text": [
      " 79%|███████▉  | 79/100 [01:40<00:22,  1.09s/it]"
     ]
    },
    {
     "name": "stdout",
     "output_type": "stream",
     "text": [
      "(\"[('Zahoor Elahi', 'PER'), ('Cairns', 'PER')]\", <OpenAIObject chat.completion id=chatcmpl-8hyrxGzTGsK21HYTq3aeuaUHiV6Uy at 0x7f3a7b826390> JSON: {\n",
      "  \"id\": \"chatcmpl-8hyrxGzTGsK21HYTq3aeuaUHiV6Uy\",\n",
      "  \"object\": \"chat.completion\",\n",
      "  \"created\": 1705492777,\n",
      "  \"model\": \"gpt-35-turbo\",\n",
      "  \"choices\": [\n",
      "    {\n",
      "      \"finish_reason\": \"stop\",\n",
      "      \"index\": 0,\n",
      "      \"message\": {\n",
      "        \"role\": \"assistant\",\n",
      "        \"content\": \"[('Zahoor Elahi', 'PER'), ('Cairns', 'PER')]\"\n",
      "      }\n",
      "    }\n",
      "  ],\n",
      "  \"usage\": {\n",
      "    \"prompt_tokens\": 751,\n",
      "    \"completion_tokens\": 19,\n",
      "    \"total_tokens\": 770\n",
      "  }\n",
      "})\n"
     ]
    },
    {
     "name": "stderr",
     "output_type": "stream",
     "text": [
      " 80%|████████  | 80/100 [01:42<00:23,  1.19s/it]"
     ]
    },
    {
     "name": "stdout",
     "output_type": "stream",
     "text": [
      "(\"('Let', 'O'), ('respect', 'O'), ('their', 'O'), ('territories', 'O'), ('he', 'O'), ('said', 'O')]\", <OpenAIObject chat.completion id=chatcmpl-8hyryaIw0FlYIIFpw6ckGFJbXESdz at 0x7f3a71e33e20> JSON: {\n",
      "  \"id\": \"chatcmpl-8hyryaIw0FlYIIFpw6ckGFJbXESdz\",\n",
      "  \"object\": \"chat.completion\",\n",
      "  \"created\": 1705492778,\n",
      "  \"model\": \"gpt-35-turbo\",\n",
      "  \"choices\": [\n",
      "    {\n",
      "      \"finish_reason\": \"stop\",\n",
      "      \"index\": 0,\n",
      "      \"message\": {\n",
      "        \"role\": \"assistant\",\n",
      "        \"content\": \"('Let', 'O'), ('respect', 'O'), ('their', 'O'), ('territories', 'O'), ('he', 'O'), ('said', 'O')]\"\n",
      "      }\n",
      "    }\n",
      "  ],\n",
      "  \"usage\": {\n",
      "    \"prompt_tokens\": 684,\n",
      "    \"completion_tokens\": 37,\n",
      "    \"total_tokens\": 721\n",
      "  }\n",
      "})\n"
     ]
    },
    {
     "name": "stderr",
     "output_type": "stream",
     "text": [
      " 81%|████████  | 81/100 [01:43<00:23,  1.22s/it]"
     ]
    },
    {
     "name": "stdout",
     "output_type": "stream",
     "text": [
      "(\"<start_output> [('Fife', 'LOC'), ('Partick', 'ORG'), ('Stirling', 'LOC'), ('St Mirren', 'ORG'), ('Tuesday', 'MISC')] <end_output>\", <OpenAIObject chat.completion id=chatcmpl-8hyrzrL4YojKYBZElZQW8Srvzff3O at 0x7f3a7477e520> JSON: {\n",
      "  \"id\": \"chatcmpl-8hyrzrL4YojKYBZElZQW8Srvzff3O\",\n",
      "  \"object\": \"chat.completion\",\n",
      "  \"created\": 1705492779,\n",
      "  \"model\": \"gpt-35-turbo\",\n",
      "  \"choices\": [\n",
      "    {\n",
      "      \"finish_reason\": \"stop\",\n",
      "      \"index\": 0,\n",
      "      \"message\": {\n",
      "        \"role\": \"assistant\",\n",
      "        \"content\": \"<start_output> [('Fife', 'LOC'), ('Partick', 'ORG'), ('Stirling', 'LOC'), ('St Mirren', 'ORG'), ('Tuesday', 'MISC')] <end_output>\"\n",
      "      }\n",
      "    }\n",
      "  ],\n",
      "  \"usage\": {\n",
      "    \"prompt_tokens\": 692,\n",
      "    \"completion_tokens\": 44,\n",
      "    \"total_tokens\": 736\n",
      "  }\n",
      "})\n"
     ]
    },
    {
     "name": "stderr",
     "output_type": "stream",
     "text": [
      " 82%|████████▏ | 82/100 [01:44<00:22,  1.27s/it]"
     ]
    },
    {
     "name": "stdout",
     "output_type": "stream",
     "text": [
      "(\"<start_output> [('Winters', 'PER'), ('Dundee United', 'ORG'), ('Paolo Di Canio', 'PER'), ('Celtic', 'ORG')] <end_output>\", <OpenAIObject chat.completion id=chatcmpl-8hys0MesVo4KCaREpSP2t9ufeIg9Y at 0x7f3aa044c9a0> JSON: {\n",
      "  \"id\": \"chatcmpl-8hys0MesVo4KCaREpSP2t9ufeIg9Y\",\n",
      "  \"object\": \"chat.completion\",\n",
      "  \"created\": 1705492780,\n",
      "  \"model\": \"gpt-35-turbo\",\n",
      "  \"choices\": [\n",
      "    {\n",
      "      \"finish_reason\": \"stop\",\n",
      "      \"index\": 0,\n",
      "      \"message\": {\n",
      "        \"role\": \"assistant\",\n",
      "        \"content\": \"<start_output> [('Winters', 'PER'), ('Dundee United', 'ORG'), ('Paolo Di Canio', 'PER'), ('Celtic', 'ORG')] <end_output>\"\n",
      "      }\n",
      "    }\n",
      "  ],\n",
      "  \"usage\": {\n",
      "    \"prompt_tokens\": 1056,\n",
      "    \"completion_tokens\": 42,\n",
      "    \"total_tokens\": 1098\n",
      "  }\n",
      "})\n"
     ]
    },
    {
     "name": "stderr",
     "output_type": "stream",
     "text": [
      " 83%|████████▎ | 83/100 [01:46<00:21,  1.26s/it]"
     ]
    },
    {
     "name": "stdout",
     "output_type": "stream",
     "text": [
      "(\"[('Blanc', 'PER'), ('World Cup', 'MISC'), ('Foucras', 'PER'), ('World Cup', 'MISC')]\", <OpenAIObject chat.completion id=chatcmpl-8hys2TlwVg1YsGdrDVDIlXpkQk9hn at 0x7f3a7b53e7f0> JSON: {\n",
      "  \"id\": \"chatcmpl-8hys2TlwVg1YsGdrDVDIlXpkQk9hn\",\n",
      "  \"object\": \"chat.completion\",\n",
      "  \"created\": 1705492782,\n",
      "  \"model\": \"gpt-35-turbo\",\n",
      "  \"choices\": [\n",
      "    {\n",
      "      \"finish_reason\": \"stop\",\n",
      "      \"index\": 0,\n",
      "      \"message\": {\n",
      "        \"role\": \"assistant\",\n",
      "        \"content\": \"[('Blanc', 'PER'), ('World Cup', 'MISC'), ('Foucras', 'PER'), ('World Cup', 'MISC')]\"\n",
      "      }\n",
      "    }\n",
      "  ],\n",
      "  \"usage\": {\n",
      "    \"prompt_tokens\": 915,\n",
      "    \"completion_tokens\": 33,\n",
      "    \"total_tokens\": 948\n",
      "  }\n",
      "})\n"
     ]
    },
    {
     "name": "stderr",
     "output_type": "stream",
     "text": [
      " 84%|████████▍ | 84/100 [01:47<00:18,  1.18s/it]"
     ]
    },
    {
     "name": "stdout",
     "output_type": "stream",
     "text": [
      "(\"('Volume', 'MISC'), ('one', 'MISC')] <end_output>\", <OpenAIObject chat.completion id=chatcmpl-8hys3KnJ9zsIFx8slGLJPtasC3J5q at 0x7f3a7bbb5e90> JSON: {\n",
      "  \"id\": \"chatcmpl-8hys3KnJ9zsIFx8slGLJPtasC3J5q\",\n",
      "  \"object\": \"chat.completion\",\n",
      "  \"created\": 1705492783,\n",
      "  \"model\": \"gpt-35-turbo\",\n",
      "  \"choices\": [\n",
      "    {\n",
      "      \"finish_reason\": \"stop\",\n",
      "      \"index\": 0,\n",
      "      \"message\": {\n",
      "        \"role\": \"assistant\",\n",
      "        \"content\": \"('Volume', 'MISC'), ('one', 'MISC')] <end_output>\"\n",
      "      }\n",
      "    }\n",
      "  ],\n",
      "  \"usage\": {\n",
      "    \"prompt_tokens\": 596,\n",
      "    \"completion_tokens\": 18,\n",
      "    \"total_tokens\": 614\n",
      "  }\n",
      "})\n"
     ]
    },
    {
     "name": "stderr",
     "output_type": "stream",
     "text": [
      " 85%|████████▌ | 85/100 [01:48<00:17,  1.16s/it]"
     ]
    },
    {
     "name": "stdout",
     "output_type": "stream",
     "text": [
      "('[(\"act of terrorism\", \"MISC\"), (\"my own life\", \"MISC\"), (\"wife and children\", \"MISC\"), (\"TASR\", \"ORG\")]', <OpenAIObject chat.completion id=chatcmpl-8hys4r9iDGMmWm1Xu71tBmafVPozR at 0x7f3a7b53e7f0> JSON: {\n",
      "  \"id\": \"chatcmpl-8hys4r9iDGMmWm1Xu71tBmafVPozR\",\n",
      "  \"object\": \"chat.completion\",\n",
      "  \"created\": 1705492784,\n",
      "  \"model\": \"gpt-35-turbo\",\n",
      "  \"choices\": [\n",
      "    {\n",
      "      \"finish_reason\": \"stop\",\n",
      "      \"index\": 0,\n",
      "      \"message\": {\n",
      "        \"role\": \"assistant\",\n",
      "        \"content\": \"[(\\\"act of terrorism\\\", \\\"MISC\\\"), (\\\"my own life\\\", \\\"MISC\\\"), (\\\"wife and children\\\", \\\"MISC\\\"), (\\\"TASR\\\", \\\"ORG\\\")]\"\n",
      "      }\n",
      "    }\n",
      "  ],\n",
      "  \"usage\": {\n",
      "    \"prompt_tokens\": 744,\n",
      "    \"completion_tokens\": 36,\n",
      "    \"total_tokens\": 780\n",
      "  }\n",
      "})\n"
     ]
    },
    {
     "name": "stderr",
     "output_type": "stream",
     "text": [
      " 86%|████████▌ | 86/100 [01:49<00:16,  1.19s/it]"
     ]
    },
    {
     "name": "stdout",
     "output_type": "stream",
     "text": [
      "(\"<start_output> [('Aaa', 'MISC'), ('Aa', 'MISC'), ('A', 'MISC'), ('Baa', 'MISC')] <end_output>\", <OpenAIObject chat.completion id=chatcmpl-8hys5mEwJ17VpVlMlyofgkLzPPlMQ at 0x7f3a7b826390> JSON: {\n",
      "  \"id\": \"chatcmpl-8hys5mEwJ17VpVlMlyofgkLzPPlMQ\",\n",
      "  \"object\": \"chat.completion\",\n",
      "  \"created\": 1705492785,\n",
      "  \"model\": \"gpt-35-turbo\",\n",
      "  \"choices\": [\n",
      "    {\n",
      "      \"finish_reason\": \"stop\",\n",
      "      \"index\": 0,\n",
      "      \"message\": {\n",
      "        \"role\": \"assistant\",\n",
      "        \"content\": \"<start_output> [('Aaa', 'MISC'), ('Aa', 'MISC'), ('A', 'MISC'), ('Baa', 'MISC')] <end_output>\"\n",
      "      }\n",
      "    }\n",
      "  ],\n",
      "  \"usage\": {\n",
      "    \"prompt_tokens\": 718,\n",
      "    \"completion_tokens\": 39,\n",
      "    \"total_tokens\": 757\n",
      "  }\n",
      "})\n"
     ]
    },
    {
     "name": "stderr",
     "output_type": "stream",
     "text": [
      " 87%|████████▋ | 87/100 [01:50<00:16,  1.26s/it]"
     ]
    },
    {
     "name": "stdout",
     "output_type": "stream",
     "text": [
      "(\"[('TASR', 'ORG')], \\n[('Frantisek Gaulieder', 'PER')], \\n[('Galanta', 'LOC')], \\n[('Slovakia', 'LOC')]\\n] <end_output>\", <OpenAIObject chat.completion id=chatcmpl-8hys65xMRGh8PhyD6AIjs1tg0wCP9 at 0x7f3a7b53e7f0> JSON: {\n",
      "  \"id\": \"chatcmpl-8hys65xMRGh8PhyD6AIjs1tg0wCP9\",\n",
      "  \"object\": \"chat.completion\",\n",
      "  \"created\": 1705492786,\n",
      "  \"model\": \"gpt-35-turbo\",\n",
      "  \"choices\": [\n",
      "    {\n",
      "      \"finish_reason\": \"stop\",\n",
      "      \"index\": 0,\n",
      "      \"message\": {\n",
      "        \"role\": \"assistant\",\n",
      "        \"content\": \"[('TASR', 'ORG')], \\n[('Frantisek Gaulieder', 'PER')], \\n[('Galanta', 'LOC')], \\n[('Slovakia', 'LOC')]\\n] <end_output>\"\n",
      "      }\n",
      "    }\n",
      "  ],\n",
      "  \"usage\": {\n",
      "    \"prompt_tokens\": 754,\n",
      "    \"completion_tokens\": 49,\n",
      "    \"total_tokens\": 803\n",
      "  }\n",
      "})\n"
     ]
    },
    {
     "name": "stderr",
     "output_type": "stream",
     "text": [
      " 88%|████████▊ | 88/100 [01:51<00:14,  1.21s/it]"
     ]
    },
    {
     "name": "stdout",
     "output_type": "stream",
     "text": [
      "(\"('larger-than-average', 'MISC')] <end_output>\", <OpenAIObject chat.completion id=chatcmpl-8hys83nj7dnrrrOtwJA9b6HSBDyah at 0x7f3a7bbb5e90> JSON: {\n",
      "  \"id\": \"chatcmpl-8hys83nj7dnrrrOtwJA9b6HSBDyah\",\n",
      "  \"object\": \"chat.completion\",\n",
      "  \"created\": 1705492788,\n",
      "  \"model\": \"gpt-35-turbo\",\n",
      "  \"choices\": [\n",
      "    {\n",
      "      \"finish_reason\": \"stop\",\n",
      "      \"index\": 0,\n",
      "      \"message\": {\n",
      "        \"role\": \"assistant\",\n",
      "        \"content\": \"('larger-than-average', 'MISC')] <end_output>\"\n",
      "      }\n",
      "    }\n",
      "  ],\n",
      "  \"usage\": {\n",
      "    \"prompt_tokens\": 789,\n",
      "    \"completion_tokens\": 14,\n",
      "    \"total_tokens\": 803\n",
      "  }\n",
      "})\n"
     ]
    },
    {
     "name": "stderr",
     "output_type": "stream",
     "text": [
      " 89%|████████▉ | 89/100 [01:53<00:13,  1.26s/it]"
     ]
    },
    {
     "name": "stdout",
     "output_type": "stream",
     "text": [
      "(\"('Standings', 'O'),\\n('played', 'O'),\\n('won', 'O'),\\n('drawn', 'O'),\\n('lost', 'O'),\\n('goals', 'O')]\\n\\n<end_output>\", <OpenAIObject chat.completion id=chatcmpl-8hys9uZmGXNe1XBNFzYngEGFrF94W at 0x7f3a7b826390> JSON: {\n",
      "  \"id\": \"chatcmpl-8hys9uZmGXNe1XBNFzYngEGFrF94W\",\n",
      "  \"object\": \"chat.completion\",\n",
      "  \"created\": 1705492789,\n",
      "  \"model\": \"gpt-35-turbo\",\n",
      "  \"choices\": [\n",
      "    {\n",
      "      \"finish_reason\": \"stop\",\n",
      "      \"index\": 0,\n",
      "      \"message\": {\n",
      "        \"role\": \"assistant\",\n",
      "        \"content\": \"('Standings', 'O'),\\n('played', 'O'),\\n('won', 'O'),\\n('drawn', 'O'),\\n('lost', 'O'),\\n('goals', 'O')]\\n\\n<end_output>\"\n",
      "      }\n",
      "    }\n",
      "  ],\n",
      "  \"usage\": {\n",
      "    \"prompt_tokens\": 522,\n",
      "    \"completion_tokens\": 43,\n",
      "    \"total_tokens\": 565\n",
      "  }\n",
      "})\n"
     ]
    },
    {
     "name": "stderr",
     "output_type": "stream",
     "text": [
      " 90%|█████████ | 90/100 [01:57<00:20,  2.07s/it]"
     ]
    },
    {
     "name": "stdout",
     "output_type": "stream",
     "text": [
      "(\"[('OPEC', 'ORG')],\\n[('OPECNA', 'ORG')],\\n[('OPEC', 'ORG')],\\n[('OPEC', 'ORG')],\\n[('OPEC', 'ORG')],\\n[('OPEC', 'ORG')],\\n[('OPEC', 'ORG')],\\n[('OPEC', 'ORG')],\\n[('OPEC', 'ORG')],\\n[('OPEC', 'ORG')],\\n[('OPEC', 'ORG')],\\n[('OPEC', 'ORG')],\\n[('OPEC', 'ORG')],\\n[('OPEC', 'ORG')],\\n[('OPEC', 'ORG')],\\n[('OPEC', 'ORG')],\\n[('OPEC', 'ORG')],\\n[('OPEC', 'ORG')],\\n[('OPEC', 'ORG')],\\n[('OPEC', 'ORG')],\\n[('OPEC', 'ORG')],\\n[('OPEC', 'ORG')],\\n[('OPEC', 'ORG')],\\n[('OPEC', 'ORG')],\\n[('OPEC', 'ORG')],\\n[('OPEC', 'ORG')],\\n[('OPEC', 'ORG')],\\n[('OPEC', 'ORG')],\\n[('OPEC', 'ORG')],\\n[('OPEC', 'ORG')],\\n[('OPEC', 'ORG')],\\n[('OPEC', 'ORG')],\\n[('OPEC', 'ORG')],\\n[('OPEC', 'ORG')],\\n[('OPEC', 'ORG')],\\n[('OPEC', 'ORG')],\\n[('OPEC', 'ORG')],\\n[('OPEC', 'ORG')],\\n[('OPEC', 'ORG\", <OpenAIObject chat.completion id=chatcmpl-8hysA9LeDUNO6rPpBSBCeNzAwb3a4 at 0x7f3a7b826390> JSON: {\n",
      "  \"id\": \"chatcmpl-8hysA9LeDUNO6rPpBSBCeNzAwb3a4\",\n",
      "  \"object\": \"chat.completion\",\n",
      "  \"created\": 1705492790,\n",
      "  \"model\": \"gpt-35-turbo\",\n",
      "  \"choices\": [\n",
      "    {\n",
      "      \"finish_reason\": \"length\",\n",
      "      \"index\": 0,\n",
      "      \"message\": {\n",
      "        \"role\": \"assistant\",\n",
      "        \"content\": \"[('OPEC', 'ORG')],\\n[('OPECNA', 'ORG')],\\n[('OPEC', 'ORG')],\\n[('OPEC', 'ORG')],\\n[('OPEC', 'ORG')],\\n[('OPEC', 'ORG')],\\n[('OPEC', 'ORG')],\\n[('OPEC', 'ORG')],\\n[('OPEC', 'ORG')],\\n[('OPEC', 'ORG')],\\n[('OPEC', 'ORG')],\\n[('OPEC', 'ORG')],\\n[('OPEC', 'ORG')],\\n[('OPEC', 'ORG')],\\n[('OPEC', 'ORG')],\\n[('OPEC', 'ORG')],\\n[('OPEC', 'ORG')],\\n[('OPEC', 'ORG')],\\n[('OPEC', 'ORG')],\\n[('OPEC', 'ORG')],\\n[('OPEC', 'ORG')],\\n[('OPEC', 'ORG')],\\n[('OPEC', 'ORG')],\\n[('OPEC', 'ORG')],\\n[('OPEC', 'ORG')],\\n[('OPEC', 'ORG')],\\n[('OPEC', 'ORG')],\\n[('OPEC', 'ORG')],\\n[('OPEC', 'ORG')],\\n[('OPEC', 'ORG')],\\n[('OPEC', 'ORG')],\\n[('OPEC', 'ORG')],\\n[('OPEC', 'ORG')],\\n[('OPEC', 'ORG')],\\n[('OPEC', 'ORG')],\\n[('OPEC', 'ORG')],\\n[('OPEC', 'ORG')],\\n[('OPEC', 'ORG')],\\n[('OPEC', 'ORG\"\n",
      "      }\n",
      "    }\n",
      "  ],\n",
      "  \"usage\": {\n",
      "    \"prompt_tokens\": 855,\n",
      "    \"completion_tokens\": 312,\n",
      "    \"total_tokens\": 1167\n",
      "  }\n",
      "})\n"
     ]
    },
    {
     "name": "stderr",
     "output_type": "stream",
     "text": [
      " 91%|█████████ | 91/100 [01:58<00:15,  1.74s/it]"
     ]
    },
    {
     "name": "stdout",
     "output_type": "stream",
     "text": [
      "(\"('sports', 'MISC'),\\n('statistics', 'MISC'),\\n('stock prices', 'MISC')\\n]\", <OpenAIObject chat.completion id=chatcmpl-8hysEtvzvXlCxGGPqzr0IGFOw7m1n at 0x7f3a74536f20> JSON: {\n",
      "  \"id\": \"chatcmpl-8hysEtvzvXlCxGGPqzr0IGFOw7m1n\",\n",
      "  \"object\": \"chat.completion\",\n",
      "  \"created\": 1705492794,\n",
      "  \"model\": \"gpt-35-turbo\",\n",
      "  \"choices\": [\n",
      "    {\n",
      "      \"finish_reason\": \"stop\",\n",
      "      \"index\": 0,\n",
      "      \"message\": {\n",
      "        \"role\": \"assistant\",\n",
      "        \"content\": \"('sports', 'MISC'),\\n('statistics', 'MISC'),\\n('stock prices', 'MISC')\\n]\"\n",
      "      }\n",
      "    }\n",
      "  ],\n",
      "  \"usage\": {\n",
      "    \"prompt_tokens\": 554,\n",
      "    \"completion_tokens\": 23,\n",
      "    \"total_tokens\": 577\n",
      "  }\n",
      "})\n",
      "-----------------------------------------------\n",
      "response does not contain [()]. Returned [('sports', 'MISC'),\n",
      "('statistics', 'MISC'),\n",
      "('stock prices', 'MISC')\n",
      "]\n",
      "-----------------------------------------------\n"
     ]
    },
    {
     "name": "stderr",
     "output_type": "stream",
     "text": [
      " 92%|█████████▏| 92/100 [01:59<00:12,  1.57s/it]"
     ]
    },
    {
     "name": "stdout",
     "output_type": "stream",
     "text": [
      "(\"[('Alatas', 'PER'), ('Nobel Peace Prize', 'MISC'), ('Belo', 'PER')]\", <OpenAIObject chat.completion id=chatcmpl-8hysFewfGA4ZAkPnI3yLoZZQqDTGG at 0x7f3a7b826390> JSON: {\n",
      "  \"id\": \"chatcmpl-8hysFewfGA4ZAkPnI3yLoZZQqDTGG\",\n",
      "  \"object\": \"chat.completion\",\n",
      "  \"created\": 1705492795,\n",
      "  \"model\": \"gpt-35-turbo\",\n",
      "  \"choices\": [\n",
      "    {\n",
      "      \"finish_reason\": \"stop\",\n",
      "      \"index\": 0,\n",
      "      \"message\": {\n",
      "        \"role\": \"assistant\",\n",
      "        \"content\": \"[('Alatas', 'PER'), ('Nobel Peace Prize', 'MISC'), ('Belo', 'PER')]\"\n",
      "      }\n",
      "    }\n",
      "  ],\n",
      "  \"usage\": {\n",
      "    \"prompt_tokens\": 1068,\n",
      "    \"completion_tokens\": 25,\n",
      "    \"total_tokens\": 1093\n",
      "  }\n",
      "})\n"
     ]
    },
    {
     "name": "stderr",
     "output_type": "stream",
     "text": [
      " 93%|█████████▎| 93/100 [02:00<00:09,  1.39s/it]"
     ]
    },
    {
     "name": "stdout",
     "output_type": "stream",
     "text": [
      "(\"[('Tampico', 'LOC')],\\n[('Kenda', 'MISC')]\\n] <end_output>\", <OpenAIObject chat.completion id=chatcmpl-8hysGOj9BrT3x0noc5PGXcoyudyrP at 0x7f3aa044c9a0> JSON: {\n",
      "  \"id\": \"chatcmpl-8hysGOj9BrT3x0noc5PGXcoyudyrP\",\n",
      "  \"object\": \"chat.completion\",\n",
      "  \"created\": 1705492796,\n",
      "  \"model\": \"gpt-35-turbo\",\n",
      "  \"choices\": [\n",
      "    {\n",
      "      \"finish_reason\": \"stop\",\n",
      "      \"index\": 0,\n",
      "      \"message\": {\n",
      "        \"role\": \"assistant\",\n",
      "        \"content\": \"[('Tampico', 'LOC')],\\n[('Kenda', 'MISC')]\\n] <end_output>\"\n",
      "      }\n",
      "    }\n",
      "  ],\n",
      "  \"usage\": {\n",
      "    \"prompt_tokens\": 776,\n",
      "    \"completion_tokens\": 23,\n",
      "    \"total_tokens\": 799\n",
      "  }\n",
      "})\n"
     ]
    },
    {
     "name": "stderr",
     "output_type": "stream",
     "text": [
      " 94%|█████████▍| 94/100 [02:01<00:07,  1.33s/it]"
     ]
    },
    {
     "name": "stdout",
     "output_type": "stream",
     "text": [
      "(\"[('Iran', 'LOC'), ('Sabr', 'MISC'), ('Iran', 'LOC')]\", <OpenAIObject chat.completion id=chatcmpl-8hysHuguw3daPcgQYW3dMEQ1axUBB at 0x7f3a7bbb5e90> JSON: {\n",
      "  \"id\": \"chatcmpl-8hysHuguw3daPcgQYW3dMEQ1axUBB\",\n",
      "  \"object\": \"chat.completion\",\n",
      "  \"created\": 1705492797,\n",
      "  \"model\": \"gpt-35-turbo\",\n",
      "  \"choices\": [\n",
      "    {\n",
      "      \"finish_reason\": \"stop\",\n",
      "      \"index\": 0,\n",
      "      \"message\": {\n",
      "        \"role\": \"assistant\",\n",
      "        \"content\": \"[('Iran', 'LOC'), ('Sabr', 'MISC'), ('Iran', 'LOC')]\"\n",
      "      }\n",
      "    }\n",
      "  ],\n",
      "  \"usage\": {\n",
      "    \"prompt_tokens\": 790,\n",
      "    \"completion_tokens\": 21,\n",
      "    \"total_tokens\": 811\n",
      "  }\n",
      "})\n"
     ]
    },
    {
     "name": "stderr",
     "output_type": "stream",
     "text": [
      " 95%|█████████▌| 95/100 [02:02<00:06,  1.34s/it]"
     ]
    },
    {
     "name": "stdout",
     "output_type": "stream",
     "text": [
      "(\"[('Pace', 'PER'), ('Virginia Tech', 'ORG'), ('Cornell Brown', 'PER'), ('Arizona State', 'ORG'), ('Juan Roque', 'PER'), ('Jared Tomich', 'PER'), ('Nebraska', 'ORG')]\", <OpenAIObject chat.completion id=chatcmpl-8hysJHmyitFloKPiUvNIAY62aFV0B at 0x7f3a7b826390> JSON: {\n",
      "  \"id\": \"chatcmpl-8hysJHmyitFloKPiUvNIAY62aFV0B\",\n",
      "  \"object\": \"chat.completion\",\n",
      "  \"created\": 1705492799,\n",
      "  \"model\": \"gpt-35-turbo\",\n",
      "  \"choices\": [\n",
      "    {\n",
      "      \"finish_reason\": \"stop\",\n",
      "      \"index\": 0,\n",
      "      \"message\": {\n",
      "        \"role\": \"assistant\",\n",
      "        \"content\": \"[('Pace', 'PER'), ('Virginia Tech', 'ORG'), ('Cornell Brown', 'PER'), ('Arizona State', 'ORG'), ('Juan Roque', 'PER'), ('Jared Tomich', 'PER'), ('Nebraska', 'ORG')]\"\n",
      "      }\n",
      "    }\n",
      "  ],\n",
      "  \"usage\": {\n",
      "    \"prompt_tokens\": 924,\n",
      "    \"completion_tokens\": 54,\n",
      "    \"total_tokens\": 978\n",
      "  }\n",
      "})\n"
     ]
    },
    {
     "name": "stderr",
     "output_type": "stream",
     "text": [
      " 96%|█████████▌| 96/100 [02:04<00:05,  1.42s/it]"
     ]
    },
    {
     "name": "stdout",
     "output_type": "stream",
     "text": [
      "(\"[('Foreign Minister Dariusz Rosati', 'PER'), ('Poland', 'LOC'), ('Swiss', 'MISC')] <end_output>\", <OpenAIObject chat.completion id=chatcmpl-8hysKygoUyoEB5DNz6xunFOkU9RNZ at 0x7f3a7477e520> JSON: {\n",
      "  \"id\": \"chatcmpl-8hysKygoUyoEB5DNz6xunFOkU9RNZ\",\n",
      "  \"object\": \"chat.completion\",\n",
      "  \"created\": 1705492800,\n",
      "  \"model\": \"gpt-35-turbo\",\n",
      "  \"choices\": [\n",
      "    {\n",
      "      \"finish_reason\": \"stop\",\n",
      "      \"index\": 0,\n",
      "      \"message\": {\n",
      "        \"role\": \"assistant\",\n",
      "        \"content\": \"[('Foreign Minister Dariusz Rosati', 'PER'), ('Poland', 'LOC'), ('Swiss', 'MISC')] <end_output>\"\n",
      "      }\n",
      "    }\n",
      "  ],\n",
      "  \"usage\": {\n",
      "    \"prompt_tokens\": 1011,\n",
      "    \"completion_tokens\": 32,\n",
      "    \"total_tokens\": 1043\n",
      "  }\n",
      "})\n"
     ]
    },
    {
     "name": "stderr",
     "output_type": "stream",
     "text": [
      " 97%|█████████▋| 97/100 [02:05<00:03,  1.30s/it]"
     ]
    },
    {
     "name": "stdout",
     "output_type": "stream",
     "text": [
      "(\"('Scottish premier division', 'MISC'),\\n('Saturday', 'MISC')\\n]\", <OpenAIObject chat.completion id=chatcmpl-8hysLdrRA4pHCmv4uajBMwQondpFn at 0x7f3a7477e390> JSON: {\n",
      "  \"id\": \"chatcmpl-8hysLdrRA4pHCmv4uajBMwQondpFn\",\n",
      "  \"object\": \"chat.completion\",\n",
      "  \"created\": 1705492801,\n",
      "  \"model\": \"gpt-35-turbo\",\n",
      "  \"choices\": [\n",
      "    {\n",
      "      \"finish_reason\": \"stop\",\n",
      "      \"index\": 0,\n",
      "      \"message\": {\n",
      "        \"role\": \"assistant\",\n",
      "        \"content\": \"('Scottish premier division', 'MISC'),\\n('Saturday', 'MISC')\\n]\"\n",
      "      }\n",
      "    }\n",
      "  ],\n",
      "  \"usage\": {\n",
      "    \"prompt_tokens\": 543,\n",
      "    \"completion_tokens\": 18,\n",
      "    \"total_tokens\": 561\n",
      "  }\n",
      "})\n",
      "-----------------------------------------------\n",
      "response does not contain [()]. Returned [('Scottish premier division', 'MISC'),\n",
      "('Saturday', 'MISC')\n",
      "]\n",
      "-----------------------------------------------\n"
     ]
    },
    {
     "name": "stderr",
     "output_type": "stream",
     "text": [
      " 98%|█████████▊| 98/100 [02:06<00:02,  1.21s/it]"
     ]
    },
    {
     "name": "stdout",
     "output_type": "stream",
     "text": [
      "(\"[('Shops', 'ORG'), ('businesses', 'ORG')] <end_output>\", <OpenAIObject chat.completion id=chatcmpl-8hysMom1HH9EnfIOfG7PIc43F1fkl at 0x7f3a7bbb5e90> JSON: {\n",
      "  \"id\": \"chatcmpl-8hysMom1HH9EnfIOfG7PIc43F1fkl\",\n",
      "  \"object\": \"chat.completion\",\n",
      "  \"created\": 1705492802,\n",
      "  \"model\": \"gpt-35-turbo\",\n",
      "  \"choices\": [\n",
      "    {\n",
      "      \"finish_reason\": \"stop\",\n",
      "      \"index\": 0,\n",
      "      \"message\": {\n",
      "        \"role\": \"assistant\",\n",
      "        \"content\": \"[('Shops', 'ORG'), ('businesses', 'ORG')] <end_output>\"\n",
      "      }\n",
      "    }\n",
      "  ],\n",
      "  \"usage\": {\n",
      "    \"prompt_tokens\": 749,\n",
      "    \"completion_tokens\": 19,\n",
      "    \"total_tokens\": 768\n",
      "  }\n",
      "})\n"
     ]
    },
    {
     "name": "stderr",
     "output_type": "stream",
     "text": [
      " 99%|█████████▉| 99/100 [02:07<00:01,  1.16s/it]"
     ]
    },
    {
     "name": "stdout",
     "output_type": "stream",
     "text": [
      "(\"('Parent', 'ORG'), ('FORECAST', 'MISC'), ('YEAR-AGO', 'MISC')] <end_output>\", <OpenAIObject chat.completion id=chatcmpl-8hysNhYHErm0UwPOxT0IEADuERcDx at 0x7f3a7bbb5e90> JSON: {\n",
      "  \"id\": \"chatcmpl-8hysNhYHErm0UwPOxT0IEADuERcDx\",\n",
      "  \"object\": \"chat.completion\",\n",
      "  \"created\": 1705492803,\n",
      "  \"model\": \"gpt-35-turbo\",\n",
      "  \"choices\": [\n",
      "    {\n",
      "      \"finish_reason\": \"stop\",\n",
      "      \"index\": 0,\n",
      "      \"message\": {\n",
      "        \"role\": \"assistant\",\n",
      "        \"content\": \"('Parent', 'ORG'), ('FORECAST', 'MISC'), ('YEAR-AGO', 'MISC')] <end_output>\"\n",
      "      }\n",
      "    }\n",
      "  ],\n",
      "  \"usage\": {\n",
      "    \"prompt_tokens\": 632,\n",
      "    \"completion_tokens\": 27,\n",
      "    \"total_tokens\": 659\n",
      "  }\n",
      "})\n"
     ]
    },
    {
     "name": "stderr",
     "output_type": "stream",
     "text": [
      "100%|██████████| 100/100 [02:08<00:00,  1.29s/it]"
     ]
    },
    {
     "name": "stdout",
     "output_type": "stream",
     "text": [
      "('[(\\'experts group\\', \\'MISC\\'), (\\'documents\\', \\'MISC\\'), (\\'official languages\\', \\'MISC\\'), (\\'item\\', \\'MISC\\'), (\"next week\\'s agenda\", \\'MISC\\'), (\\'official\\', \\'MISC\\')] <end_output>', <OpenAIObject chat.completion id=chatcmpl-8hysPC0RkrlhnMsfRETAzzjXlIsgQ at 0x7f3a7bbb5e90> JSON: {\n",
      "  \"id\": \"chatcmpl-8hysPC0RkrlhnMsfRETAzzjXlIsgQ\",\n",
      "  \"object\": \"chat.completion\",\n",
      "  \"created\": 1705492805,\n",
      "  \"model\": \"gpt-35-turbo\",\n",
      "  \"choices\": [\n",
      "    {\n",
      "      \"finish_reason\": \"stop\",\n",
      "      \"index\": 0,\n",
      "      \"message\": {\n",
      "        \"role\": \"assistant\",\n",
      "        \"content\": \"[('experts group', 'MISC'), ('documents', 'MISC'), ('official languages', 'MISC'), ('item', 'MISC'), (\\\"next week's agenda\\\", 'MISC'), ('official', 'MISC')] <end_output>\"\n",
      "      }\n",
      "    }\n",
      "  ],\n",
      "  \"usage\": {\n",
      "    \"prompt_tokens\": 751,\n",
      "    \"completion_tokens\": 53,\n",
      "    \"total_tokens\": 804\n",
      "  }\n",
      "})\n",
      "   f1_mean f1_conf_inter         model  noshots prompt_technique  \\\n",
      "0    0.224    (nan, nan)  chat-gpt-3.5    False       discussion   \n",
      "1    0.159    (nan, nan)  chat-gpt-3.5    False       discussion   \n",
      "\n",
      "  few_shot_tecnique  nb_few_shots  precision  plus_plus verifier  \\\n",
      "0          sentence             3      False       True     None   \n",
      "1          sentence            10      False       True     None   \n",
      "\n",
      "   len_data_train  len_data_test  nb_test_run  confidence_interval  \\\n",
      "0            1488            100            1                 0.95   \n",
      "1            1488            100            1                 0.95   \n",
      "\n",
      "  distribution_used  precision_mean precision_conf_inter  recall_mean  \\\n",
      "0           Student           0.431           (nan, nan)        0.169   \n",
      "1           Student           0.386           (nan, nan)        0.118   \n",
      "\n",
      "  recall_conf_inter  \n",
      "0        (nan, nan)  \n",
      "1        (nan, nan)  \n",
      "Testing with no-shots\n",
      "      and discussion\n"
     ]
    },
    {
     "name": "stderr",
     "output_type": "stream",
     "text": [
      "\n",
      "/myhome/miniconda3/lib/python3.10/site-packages/numpy/core/_methods.py:206: RuntimeWarning: Degrees of freedom <= 0 for slice\n",
      "  ret = _var(a, axis=axis, dtype=dtype, out=out, ddof=ddof,\n",
      "/myhome/miniconda3/lib/python3.10/site-packages/numpy/core/_methods.py:198: RuntimeWarning: invalid value encountered in scalar divide\n",
      "  ret = ret.dtype.type(ret / rcount)\n",
      "/myhome/miniconda3/lib/python3.10/site-packages/numpy/core/_methods.py:206: RuntimeWarning: Degrees of freedom <= 0 for slice\n",
      "  ret = _var(a, axis=axis, dtype=dtype, out=out, ddof=ddof,\n",
      "/myhome/miniconda3/lib/python3.10/site-packages/numpy/core/_methods.py:198: RuntimeWarning: invalid value encountered in scalar divide\n",
      "  ret = ret.dtype.type(ret / rcount)\n"
     ]
    },
    {
     "data": {
      "application/vnd.jupyter.widget-view+json": {
       "model_id": "0f2903d2aa7f4b02a81ad3ef2f68d790",
       "version_major": 2,
       "version_minor": 0
      },
      "text/plain": [
       "Map:   0%|          | 0/1488 [00:00<?, ? examples/s]"
      ]
     },
     "metadata": {},
     "output_type": "display_data"
    },
    {
     "data": {
      "application/vnd.jupyter.widget-view+json": {
       "model_id": "534b7030cdf9497399505caef70cfa13",
       "version_major": 2,
       "version_minor": 0
      },
      "text/plain": [
       "Map:   0%|          | 0/100 [00:00<?, ? examples/s]"
      ]
     },
     "metadata": {},
     "output_type": "display_data"
    },
    {
     "name": "stderr",
     "output_type": "stream",
     "text": [
      "  1%|          | 1/100 [00:00<00:44,  2.24it/s]"
     ]
    },
    {
     "name": "stdout",
     "output_type": "stream",
     "text": [
      "('(\\'Livshits\\', \\'PERSON\\'),\\n(\"\\'s\", \\'MISC\\'),\\n(\\'words\\', \\'MISC\\'),\\n(\\'company\\', \\'ORGANIZATION\\')]\\n\\n<end_output>', <OpenAIObject chat.completion id=chatcmpl-8hysSXTEQAbmVkGkebFIxxnGJHxu0 at 0x7f3a72c66c50> JSON: {\n",
      "  \"id\": \"chatcmpl-8hysSXTEQAbmVkGkebFIxxnGJHxu0\",\n",
      "  \"object\": \"chat.completion\",\n",
      "  \"created\": 1705492808,\n",
      "  \"model\": \"gpt-35-turbo\",\n",
      "  \"choices\": [\n",
      "    {\n",
      "      \"finish_reason\": \"stop\",\n",
      "      \"index\": 0,\n",
      "      \"message\": {\n",
      "        \"role\": \"assistant\",\n",
      "        \"content\": \"('Livshits', 'PERSON'),\\n(\\\"'s\\\", 'MISC'),\\n('words', 'MISC'),\\n('company', 'ORGANIZATION')]\\n\\n<end_output>\"\n",
      "      }\n",
      "    }\n",
      "  ],\n",
      "  \"usage\": {\n",
      "    \"prompt_tokens\": 146,\n",
      "    \"completion_tokens\": 35,\n",
      "    \"total_tokens\": 181\n",
      "  }\n",
      "})\n"
     ]
    },
    {
     "name": "stderr",
     "output_type": "stream",
     "text": [
      "  2%|▏         | 2/100 [00:00<00:39,  2.51it/s]"
     ]
    },
    {
     "name": "stdout",
     "output_type": "stream",
     "text": [
      "('(\"Newmont-Santa Fe\", \"ORG\"),\\n(\"two to three years\", \"DATE\") ] <end_output>', <OpenAIObject chat.completion id=chatcmpl-8hysSGfiSqkNYSFsRBq5B9euSGXVV at 0x7f3a71d710d0> JSON: {\n",
      "  \"id\": \"chatcmpl-8hysSGfiSqkNYSFsRBq5B9euSGXVV\",\n",
      "  \"object\": \"chat.completion\",\n",
      "  \"created\": 1705492808,\n",
      "  \"model\": \"gpt-35-turbo\",\n",
      "  \"choices\": [\n",
      "    {\n",
      "      \"finish_reason\": \"stop\",\n",
      "      \"index\": 0,\n",
      "      \"message\": {\n",
      "        \"role\": \"assistant\",\n",
      "        \"content\": \"(\\\"Newmont-Santa Fe\\\", \\\"ORG\\\"),\\n(\\\"two to three years\\\", \\\"DATE\\\") ] <end_output>\"\n",
      "      }\n",
      "    }\n",
      "  ],\n",
      "  \"usage\": {\n",
      "    \"prompt_tokens\": 158,\n",
      "    \"completion_tokens\": 24,\n",
      "    \"total_tokens\": 182\n",
      "  }\n",
      "})\n"
     ]
    },
    {
     "name": "stderr",
     "output_type": "stream",
     "text": [
      "  3%|▎         | 3/100 [00:01<00:39,  2.44it/s]"
     ]
    },
    {
     "name": "stdout",
     "output_type": "stream",
     "text": [
      "(\"('Australia', 'LOCATION'),\\n('Sydney Cricket Ground', 'LOCATION'),\\n('124', 'MISC'),\\n('Lara', 'PERSON')]\\n\\n<end_output>\", <OpenAIObject chat.completion id=chatcmpl-8hysT2IcqXVEUTkGrDp7hzpbgWfS5 at 0x7f3a74530040> JSON: {\n",
      "  \"id\": \"chatcmpl-8hysT2IcqXVEUTkGrDp7hzpbgWfS5\",\n",
      "  \"object\": \"chat.completion\",\n",
      "  \"created\": 1705492809,\n",
      "  \"model\": \"gpt-35-turbo\",\n",
      "  \"choices\": [\n",
      "    {\n",
      "      \"finish_reason\": \"stop\",\n",
      "      \"index\": 0,\n",
      "      \"message\": {\n",
      "        \"role\": \"assistant\",\n",
      "        \"content\": \"('Australia', 'LOCATION'),\\n('Sydney Cricket Ground', 'LOCATION'),\\n('124', 'MISC'),\\n('Lara', 'PERSON')]\\n\\n<end_output>\"\n",
      "      }\n",
      "    }\n",
      "  ],\n",
      "  \"usage\": {\n",
      "    \"prompt_tokens\": 163,\n",
      "    \"completion_tokens\": 34,\n",
      "    \"total_tokens\": 197\n",
      "  }\n",
      "})\n"
     ]
    },
    {
     "name": "stderr",
     "output_type": "stream",
     "text": [
      "  4%|▍         | 4/100 [00:01<00:45,  2.12it/s]"
     ]
    },
    {
     "name": "stdout",
     "output_type": "stream",
     "text": [
      "(\"('NYMEX', 'ORG'),\\n('Henry Hub', 'LOC'),\\n('Friday', 'MISC'),\\n('National Weather Service', 'ORG')\\n('six to 10 day', 'MISC')\\n] <end_output>\", <OpenAIObject chat.completion id=chatcmpl-8hysT4cGheodq9JKgxW9t5tvyqNOb at 0x7f3a72c66c50> JSON: {\n",
      "  \"id\": \"chatcmpl-8hysT4cGheodq9JKgxW9t5tvyqNOb\",\n",
      "  \"object\": \"chat.completion\",\n",
      "  \"created\": 1705492809,\n",
      "  \"model\": \"gpt-35-turbo\",\n",
      "  \"choices\": [\n",
      "    {\n",
      "      \"finish_reason\": \"stop\",\n",
      "      \"index\": 0,\n",
      "      \"message\": {\n",
      "        \"role\": \"assistant\",\n",
      "        \"content\": \"('NYMEX', 'ORG'),\\n('Henry Hub', 'LOC'),\\n('Friday', 'MISC'),\\n('National Weather Service', 'ORG')\\n('six to 10 day', 'MISC')\\n] <end_output>\"\n",
      "      }\n",
      "    }\n",
      "  ],\n",
      "  \"usage\": {\n",
      "    \"prompt_tokens\": 171,\n",
      "    \"completion_tokens\": 46,\n",
      "    \"total_tokens\": 217\n",
      "  }\n",
      "})\n",
      "-----------------------------------------------\n",
      "response does not contain [()]. Returned [('NYMEX', 'ORG'),\n",
      "('Henry Hub', 'LOC'),\n",
      "('Friday', 'MISC'),\n",
      "('National Weather Service', 'ORG')\n",
      "('six to 10 day', 'MISC')\n",
      "] <end_output>\n",
      "-----------------------------------------------\n"
     ]
    },
    {
     "name": "stderr",
     "output_type": "stream",
     "text": [
      "  5%|▌         | 5/100 [00:02<00:48,  1.94it/s]"
     ]
    },
    {
     "name": "stdout",
     "output_type": "stream",
     "text": [
      "(\"('290', 'NUMBER'),\\n('Lanarkshire county', 'LOCATION'),\\n('worst-hit area', 'LOCATION'),\\n('outbreak', 'MISC'),\\n('meat pies', 'MISC'),\\n('pensioners', 'MISC'),\\n('lunch', 'MISC')]\\n\\n<end_output>\", <OpenAIObject chat.completion id=chatcmpl-8hysUMJtaIA68zhEvq5rxTyJS50nO at 0x7f3a71d710d0> JSON: {\n",
      "  \"id\": \"chatcmpl-8hysUMJtaIA68zhEvq5rxTyJS50nO\",\n",
      "  \"object\": \"chat.completion\",\n",
      "  \"created\": 1705492810,\n",
      "  \"model\": \"gpt-35-turbo\",\n",
      "  \"choices\": [\n",
      "    {\n",
      "      \"finish_reason\": \"stop\",\n",
      "      \"index\": 0,\n",
      "      \"message\": {\n",
      "        \"role\": \"assistant\",\n",
      "        \"content\": \"('290', 'NUMBER'),\\n('Lanarkshire county', 'LOCATION'),\\n('worst-hit area', 'LOCATION'),\\n('outbreak', 'MISC'),\\n('meat pies', 'MISC'),\\n('pensioners', 'MISC'),\\n('lunch', 'MISC')]\\n\\n<end_output>\"\n",
      "      }\n",
      "    }\n",
      "  ],\n",
      "  \"usage\": {\n",
      "    \"prompt_tokens\": 168,\n",
      "    \"completion_tokens\": 64,\n",
      "    \"total_tokens\": 232\n",
      "  }\n",
      "})\n"
     ]
    },
    {
     "name": "stderr",
     "output_type": "stream",
     "text": [
      "  6%|▌         | 6/100 [00:02<00:42,  2.21it/s]"
     ]
    },
    {
     "name": "stdout",
     "output_type": "stream",
     "text": [
      "(\"('Lahd', 'PERSON'),\\n('Beirut', 'LOCATION'),\\n('Israel', 'LOCATION') ]\", <OpenAIObject chat.completion id=chatcmpl-8hysUIcOFvQ4l0orWDEItTY8Mds4O at 0x7f3a851da570> JSON: {\n",
      "  \"id\": \"chatcmpl-8hysUIcOFvQ4l0orWDEItTY8Mds4O\",\n",
      "  \"object\": \"chat.completion\",\n",
      "  \"created\": 1705492810,\n",
      "  \"model\": \"gpt-35-turbo\",\n",
      "  \"choices\": [\n",
      "    {\n",
      "      \"finish_reason\": \"stop\",\n",
      "      \"index\": 0,\n",
      "      \"message\": {\n",
      "        \"role\": \"assistant\",\n",
      "        \"content\": \"('Lahd', 'PERSON'),\\n('Beirut', 'LOCATION'),\\n('Israel', 'LOCATION') ]\"\n",
      "      }\n",
      "    }\n",
      "  ],\n",
      "  \"usage\": {\n",
      "    \"prompt_tokens\": 155,\n",
      "    \"completion_tokens\": 22,\n",
      "    \"total_tokens\": 177\n",
      "  }\n",
      "})\n"
     ]
    },
    {
     "name": "stderr",
     "output_type": "stream",
     "text": [
      "  7%|▋         | 7/100 [00:03<00:39,  2.38it/s]"
     ]
    },
    {
     "name": "stdout",
     "output_type": "stream",
     "text": [
      "('(\"deputy\", \"PERSON\"),\\n(\"answer\", \"MISC\"),\\n(\"response\", \"MISC\")\\n] <end_output>', <OpenAIObject chat.completion id=chatcmpl-8hysUgVil6vSbKBT4Sf0Tjs3ZfbDG at 0x7f3a7b8c4450> JSON: {\n",
      "  \"id\": \"chatcmpl-8hysUgVil6vSbKBT4Sf0Tjs3ZfbDG\",\n",
      "  \"object\": \"chat.completion\",\n",
      "  \"created\": 1705492810,\n",
      "  \"model\": \"gpt-35-turbo\",\n",
      "  \"choices\": [\n",
      "    {\n",
      "      \"finish_reason\": \"stop\",\n",
      "      \"index\": 0,\n",
      "      \"message\": {\n",
      "        \"role\": \"assistant\",\n",
      "        \"content\": \"(\\\"deputy\\\", \\\"PERSON\\\"),\\n(\\\"answer\\\", \\\"MISC\\\"),\\n(\\\"response\\\", \\\"MISC\\\")\\n] <end_output>\"\n",
      "      }\n",
      "    }\n",
      "  ],\n",
      "  \"usage\": {\n",
      "    \"prompt_tokens\": 159,\n",
      "    \"completion_tokens\": 26,\n",
      "    \"total_tokens\": 185\n",
      "  }\n",
      "})\n",
      "-----------------------------------------------\n",
      "response does not contain [()]. Returned [(\"deputy\", \"PERSON\"),\n",
      "(\"answer\", \"MISC\"),\n",
      "(\"response\", \"MISC\")\n",
      "] <end_output>\n",
      "-----------------------------------------------\n"
     ]
    },
    {
     "name": "stderr",
     "output_type": "stream",
     "text": [
      "  8%|▊         | 8/100 [00:03<00:35,  2.56it/s]"
     ]
    },
    {
     "name": "stdout",
     "output_type": "stream",
     "text": [
      "(\"('Doctors', 'PERSON'),\\n('Czech President Vaclav Havel', 'PERSON'),\\n('Friday', 'DATE')]\\n\\n<end_output>\", <OpenAIObject chat.completion id=chatcmpl-8hysVwx1zRGPN5a7wyvjgW1CFxX4l at 0x7f3a851da570> JSON: {\n",
      "  \"id\": \"chatcmpl-8hysVwx1zRGPN5a7wyvjgW1CFxX4l\",\n",
      "  \"object\": \"chat.completion\",\n",
      "  \"created\": 1705492811,\n",
      "  \"model\": \"gpt-35-turbo\",\n",
      "  \"choices\": [\n",
      "    {\n",
      "      \"finish_reason\": \"stop\",\n",
      "      \"index\": 0,\n",
      "      \"message\": {\n",
      "        \"role\": \"assistant\",\n",
      "        \"content\": \"('Doctors', 'PERSON'),\\n('Czech President Vaclav Havel', 'PERSON'),\\n('Friday', 'DATE')]\\n\\n<end_output>\"\n",
      "      }\n",
      "    }\n",
      "  ],\n",
      "  \"usage\": {\n",
      "    \"prompt_tokens\": 162,\n",
      "    \"completion_tokens\": 30,\n",
      "    \"total_tokens\": 192\n",
      "  }\n",
      "})\n"
     ]
    },
    {
     "name": "stderr",
     "output_type": "stream",
     "text": [
      "  9%|▉         | 9/100 [00:04<00:48,  1.90it/s]"
     ]
    },
    {
     "name": "stdout",
     "output_type": "stream",
     "text": [
      "(\"('Santa Fe', 'ORG'),\\n('Nevada', 'LOC'),\\n('California', 'LOC'),\\n('Montana', 'LOC'),\\n('Canada', 'LOC'),\\n('Brazil', 'LOC'),\\n('Australia', 'LOC'),\\n('Chile', 'LOC'),\\n('Kazakstan', 'LOC'),\\n('Mexico', 'LOC'),\\n('Ghana', 'LOC') ] <end_output>\", <OpenAIObject chat.completion id=chatcmpl-8hysVRbskMa3NizOAA2gsGJOCy6GM at 0x7f3a71d710d0> JSON: {\n",
      "  \"id\": \"chatcmpl-8hysVRbskMa3NizOAA2gsGJOCy6GM\",\n",
      "  \"object\": \"chat.completion\",\n",
      "  \"created\": 1705492811,\n",
      "  \"model\": \"gpt-35-turbo\",\n",
      "  \"choices\": [\n",
      "    {\n",
      "      \"finish_reason\": \"stop\",\n",
      "      \"index\": 0,\n",
      "      \"message\": {\n",
      "        \"role\": \"assistant\",\n",
      "        \"content\": \"('Santa Fe', 'ORG'),\\n('Nevada', 'LOC'),\\n('California', 'LOC'),\\n('Montana', 'LOC'),\\n('Canada', 'LOC'),\\n('Brazil', 'LOC'),\\n('Australia', 'LOC'),\\n('Chile', 'LOC'),\\n('Kazakstan', 'LOC'),\\n('Mexico', 'LOC'),\\n('Ghana', 'LOC') ] <end_output>\"\n",
      "      }\n",
      "    }\n",
      "  ],\n",
      "  \"usage\": {\n",
      "    \"prompt_tokens\": 159,\n",
      "    \"completion_tokens\": 80,\n",
      "    \"total_tokens\": 239\n",
      "  }\n",
      "})\n"
     ]
    },
    {
     "name": "stderr",
     "output_type": "stream",
     "text": [
      " 10%|█         | 10/100 [00:04<00:45,  1.98it/s]"
     ]
    },
    {
     "name": "stdout",
     "output_type": "stream",
     "text": [
      "(\"('protest', 'O'),\\n('thousand', 'MISC'),\\n('Spain', 'LOCATION'),\\n('constitution', 'O')]\\n\\n<end_output>\", <OpenAIObject chat.completion id=chatcmpl-8hysW9TFxXF6wRy212geMcYWY3vZi at 0x7f3a851da570> JSON: {\n",
      "  \"id\": \"chatcmpl-8hysW9TFxXF6wRy212geMcYWY3vZi\",\n",
      "  \"object\": \"chat.completion\",\n",
      "  \"created\": 1705492812,\n",
      "  \"model\": \"gpt-35-turbo\",\n",
      "  \"choices\": [\n",
      "    {\n",
      "      \"finish_reason\": \"stop\",\n",
      "      \"index\": 0,\n",
      "      \"message\": {\n",
      "        \"role\": \"assistant\",\n",
      "        \"content\": \"('protest', 'O'),\\n('thousand', 'MISC'),\\n('Spain', 'LOCATION'),\\n('constitution', 'O')]\\n\\n<end_output>\"\n",
      "      }\n",
      "    }\n",
      "  ],\n",
      "  \"usage\": {\n",
      "    \"prompt_tokens\": 152,\n",
      "    \"completion_tokens\": 32,\n",
      "    \"total_tokens\": 184\n",
      "  }\n",
      "})\n"
     ]
    },
    {
     "name": "stderr",
     "output_type": "stream",
     "text": [
      " 11%|█         | 11/100 [00:05<00:47,  1.88it/s]"
     ]
    },
    {
     "name": "stdout",
     "output_type": "stream",
     "text": [
      "(\"('Darrel Voeks', 'PERSON'),\\n('Outagmie County Circuit Court', 'ORGANIZATION'),\\n('Dennis Luebke', 'PERSON')\\n] <end_output>\", <OpenAIObject chat.completion id=chatcmpl-8hysWg4yOIfj4VAplGGA8sEHoBeyl at 0x7f3a7b8c4450> JSON: {\n",
      "  \"id\": \"chatcmpl-8hysWg4yOIfj4VAplGGA8sEHoBeyl\",\n",
      "  \"object\": \"chat.completion\",\n",
      "  \"created\": 1705492812,\n",
      "  \"model\": \"gpt-35-turbo\",\n",
      "  \"choices\": [\n",
      "    {\n",
      "      \"finish_reason\": \"stop\",\n",
      "      \"index\": 0,\n",
      "      \"message\": {\n",
      "        \"role\": \"assistant\",\n",
      "        \"content\": \"('Darrel Voeks', 'PERSON'),\\n('Outagmie County Circuit Court', 'ORGANIZATION'),\\n('Dennis Luebke', 'PERSON')\\n] <end_output>\"\n",
      "      }\n",
      "    }\n",
      "  ],\n",
      "  \"usage\": {\n",
      "    \"prompt_tokens\": 171,\n",
      "    \"completion_tokens\": 38,\n",
      "    \"total_tokens\": 209\n",
      "  }\n",
      "})\n",
      "-----------------------------------------------\n",
      "response does not contain [()]. Returned [('Darrel Voeks', 'PERSON'),\n",
      "('Outagmie County Circuit Court', 'ORGANIZATION'),\n",
      "('Dennis Luebke', 'PERSON')\n",
      "] <end_output>\n",
      "-----------------------------------------------\n"
     ]
    },
    {
     "name": "stderr",
     "output_type": "stream",
     "text": [
      " 12%|█▏        | 12/100 [00:05<00:42,  2.08it/s]"
     ]
    },
    {
     "name": "stdout",
     "output_type": "stream",
     "text": [
      "(\"('CRICKET', 'O'),\\n('SHEFFIELD SHIELD', 'O')\\n] <end_output>\", <OpenAIObject chat.completion id=chatcmpl-8hysXpQuHj8QBDjHOpxANkCfX5OgV at 0x7f3a851da570> JSON: {\n",
      "  \"id\": \"chatcmpl-8hysXpQuHj8QBDjHOpxANkCfX5OgV\",\n",
      "  \"object\": \"chat.completion\",\n",
      "  \"created\": 1705492813,\n",
      "  \"model\": \"gpt-35-turbo\",\n",
      "  \"choices\": [\n",
      "    {\n",
      "      \"finish_reason\": \"stop\",\n",
      "      \"index\": 0,\n",
      "      \"message\": {\n",
      "        \"role\": \"assistant\",\n",
      "        \"content\": \"('CRICKET', 'O'),\\n('SHEFFIELD SHIELD', 'O')\\n] <end_output>\"\n",
      "      }\n",
      "    }\n",
      "  ],\n",
      "  \"usage\": {\n",
      "    \"prompt_tokens\": 140,\n",
      "    \"completion_tokens\": 24,\n",
      "    \"total_tokens\": 164\n",
      "  }\n",
      "})\n",
      "-----------------------------------------------\n",
      "response does not contain [()]. Returned [('CRICKET', 'O'),\n",
      "('SHEFFIELD SHIELD', 'O')\n",
      "] <end_output>\n",
      "-----------------------------------------------\n"
     ]
    },
    {
     "name": "stderr",
     "output_type": "stream",
     "text": [
      " 13%|█▎        | 13/100 [00:05<00:36,  2.38it/s]"
     ]
    },
    {
     "name": "stdout",
     "output_type": "stream",
     "text": [
      "(\"('German Santa', 'PERSON'),\\n('bank', 'ORGANIZATION')]\\n\\n<end_output>\", <OpenAIObject chat.completion id=chatcmpl-8hysX01eN0LA2F1y6FTsKmUACTFWt at 0x7f3a851da570> JSON: {\n",
      "  \"id\": \"chatcmpl-8hysX01eN0LA2F1y6FTsKmUACTFWt\",\n",
      "  \"object\": \"chat.completion\",\n",
      "  \"created\": 1705492813,\n",
      "  \"model\": \"gpt-35-turbo\",\n",
      "  \"choices\": [\n",
      "    {\n",
      "      \"finish_reason\": \"stop\",\n",
      "      \"index\": 0,\n",
      "      \"message\": {\n",
      "        \"role\": \"assistant\",\n",
      "        \"content\": \"('German Santa', 'PERSON'),\\n('bank', 'ORGANIZATION')]\\n\\n<end_output>\"\n",
      "      }\n",
      "    }\n",
      "  ],\n",
      "  \"usage\": {\n",
      "    \"prompt_tokens\": 137,\n",
      "    \"completion_tokens\": 20,\n",
      "    \"total_tokens\": 157\n",
      "  }\n",
      "})\n"
     ]
    },
    {
     "name": "stderr",
     "output_type": "stream",
     "text": [
      " 14%|█▍        | 14/100 [00:06<00:33,  2.53it/s]"
     ]
    },
    {
     "name": "stdout",
     "output_type": "stream",
     "text": [
      "(\"('Witnesses', 'PERSON'),\\n('Italians', 'MISC'),\\n('Italia', 'MISC')\\n] <end_output>\", <OpenAIObject chat.completion id=chatcmpl-8hysYRXRMepF645cJ1qERU9akhzWt at 0x7f3a851da570> JSON: {\n",
      "  \"id\": \"chatcmpl-8hysYRXRMepF645cJ1qERU9akhzWt\",\n",
      "  \"object\": \"chat.completion\",\n",
      "  \"created\": 1705492814,\n",
      "  \"model\": \"gpt-35-turbo\",\n",
      "  \"choices\": [\n",
      "    {\n",
      "      \"finish_reason\": \"stop\",\n",
      "      \"index\": 0,\n",
      "      \"message\": {\n",
      "        \"role\": \"assistant\",\n",
      "        \"content\": \"('Witnesses', 'PERSON'),\\n('Italians', 'MISC'),\\n('Italia', 'MISC')\\n] <end_output>\"\n",
      "      }\n",
      "    }\n",
      "  ],\n",
      "  \"usage\": {\n",
      "    \"prompt_tokens\": 161,\n",
      "    \"completion_tokens\": 29,\n",
      "    \"total_tokens\": 190\n",
      "  }\n",
      "})\n",
      "-----------------------------------------------\n",
      "response does not contain [()]. Returned [('Witnesses', 'PERSON'),\n",
      "('Italians', 'MISC'),\n",
      "('Italia', 'MISC')\n",
      "] <end_output>\n",
      "-----------------------------------------------\n"
     ]
    },
    {
     "name": "stderr",
     "output_type": "stream",
     "text": [
      " 15%|█▌        | 15/100 [00:06<00:30,  2.82it/s]"
     ]
    },
    {
     "name": "stdout",
     "output_type": "stream",
     "text": [
      "(\"('United Arab Emirates', 'LOCATION'),\\n('Kuwait', 'LOCATION')\\n]\", <OpenAIObject chat.completion id=chatcmpl-8hysYwcCjqbAYirXNUbbFHfTVozsG at 0x7f3a72c66c50> JSON: {\n",
      "  \"id\": \"chatcmpl-8hysYwcCjqbAYirXNUbbFHfTVozsG\",\n",
      "  \"object\": \"chat.completion\",\n",
      "  \"created\": 1705492814,\n",
      "  \"model\": \"gpt-35-turbo\",\n",
      "  \"choices\": [\n",
      "    {\n",
      "      \"finish_reason\": \"stop\",\n",
      "      \"index\": 0,\n",
      "      \"message\": {\n",
      "        \"role\": \"assistant\",\n",
      "        \"content\": \"('United Arab Emirates', 'LOCATION'),\\n('Kuwait', 'LOCATION')\\n]\"\n",
      "      }\n",
      "    }\n",
      "  ],\n",
      "  \"usage\": {\n",
      "    \"prompt_tokens\": 144,\n",
      "    \"completion_tokens\": 17,\n",
      "    \"total_tokens\": 161\n",
      "  }\n",
      "})\n",
      "-----------------------------------------------\n",
      "response does not contain [()]. Returned [('United Arab Emirates', 'LOCATION'),\n",
      "('Kuwait', 'LOCATION')\n",
      "]\n",
      "-----------------------------------------------\n"
     ]
    },
    {
     "name": "stderr",
     "output_type": "stream",
     "text": [
      " 16%|█▌        | 16/100 [00:07<00:37,  2.23it/s]"
     ]
    },
    {
     "name": "stdout",
     "output_type": "stream",
     "text": [
      "(\"('chow chows', 'MISC'),\\n('Rottweilers', 'MISC'),\\n('German shepherds', 'MISC'),\\n('cocker spaniels', 'MISC'),\\n('Dalmatians', 'MISC')]\\n\\n<end_output>\", <OpenAIObject chat.completion id=chatcmpl-8hysYKXzyZ4vEQo76M00c5ZvXsOqf at 0x7f3a71d709f0> JSON: {\n",
      "  \"id\": \"chatcmpl-8hysYKXzyZ4vEQo76M00c5ZvXsOqf\",\n",
      "  \"object\": \"chat.completion\",\n",
      "  \"created\": 1705492814,\n",
      "  \"model\": \"gpt-35-turbo\",\n",
      "  \"choices\": [\n",
      "    {\n",
      "      \"finish_reason\": \"stop\",\n",
      "      \"index\": 0,\n",
      "      \"message\": {\n",
      "        \"role\": \"assistant\",\n",
      "        \"content\": \"('chow chows', 'MISC'),\\n('Rottweilers', 'MISC'),\\n('German shepherds', 'MISC'),\\n('cocker spaniels', 'MISC'),\\n('Dalmatians', 'MISC')]\\n\\n<end_output>\"\n",
      "      }\n",
      "    }\n",
      "  ],\n",
      "  \"usage\": {\n",
      "    \"prompt_tokens\": 165,\n",
      "    \"completion_tokens\": 56,\n",
      "    \"total_tokens\": 221\n",
      "  }\n",
      "})\n"
     ]
    },
    {
     "name": "stderr",
     "output_type": "stream",
     "text": [
      " 17%|█▋        | 17/100 [00:08<00:52,  1.58it/s]"
     ]
    },
    {
     "name": "stdout",
     "output_type": "stream",
     "text": [
      "(\"('Their', 'O'),\\n('enemies', 'O'),\\n('were', 'O'),\\n('tangible', 'O'),\\n('if', 'O'),\\n('elusive', 'O'),\\n(',', 'O'),\\n('such', 'O'),\\n('as', 'O'),\\n('the', 'O'),\\n('people', 'O'),\\n('who', 'O'),\\n('pirated', 'O'),\\n('music', 'O'),\\n('cassettes', 'O')]\\n\\n<end_output>\", <OpenAIObject chat.completion id=chatcmpl-8hysZXqhLfI0fUml1FXQlkPTeBkV8 at 0x7f3a71d709f0> JSON: {\n",
      "  \"id\": \"chatcmpl-8hysZXqhLfI0fUml1FXQlkPTeBkV8\",\n",
      "  \"object\": \"chat.completion\",\n",
      "  \"created\": 1705492815,\n",
      "  \"model\": \"gpt-35-turbo\",\n",
      "  \"choices\": [\n",
      "    {\n",
      "      \"finish_reason\": \"stop\",\n",
      "      \"index\": 0,\n",
      "      \"message\": {\n",
      "        \"role\": \"assistant\",\n",
      "        \"content\": \"('Their', 'O'),\\n('enemies', 'O'),\\n('were', 'O'),\\n('tangible', 'O'),\\n('if', 'O'),\\n('elusive', 'O'),\\n(',', 'O'),\\n('such', 'O'),\\n('as', 'O'),\\n('the', 'O'),\\n('people', 'O'),\\n('who', 'O'),\\n('pirated', 'O'),\\n('music', 'O'),\\n('cassettes', 'O')]\\n\\n<end_output>\"\n",
      "      }\n",
      "    }\n",
      "  ],\n",
      "  \"usage\": {\n",
      "    \"prompt_tokens\": 148,\n",
      "    \"completion_tokens\": 99,\n",
      "    \"total_tokens\": 247\n",
      "  }\n",
      "})\n"
     ]
    },
    {
     "name": "stderr",
     "output_type": "stream",
     "text": [
      " 18%|█▊        | 18/100 [00:08<00:45,  1.80it/s]"
     ]
    },
    {
     "name": "stdout",
     "output_type": "stream",
     "text": [
      "(\"('Peters', 'PERSON'),\\n('Labour', 'ORGANIZATION'),\\n('National', 'ORGANIZATION')\\n] <end_output>\", <OpenAIObject chat.completion id=chatcmpl-8hysab7dojocW6x8bjVrhLYIuk541 at 0x7f3a7b8c4450> JSON: {\n",
      "  \"id\": \"chatcmpl-8hysab7dojocW6x8bjVrhLYIuk541\",\n",
      "  \"object\": \"chat.completion\",\n",
      "  \"created\": 1705492816,\n",
      "  \"model\": \"gpt-35-turbo\",\n",
      "  \"choices\": [\n",
      "    {\n",
      "      \"finish_reason\": \"stop\",\n",
      "      \"index\": 0,\n",
      "      \"message\": {\n",
      "        \"role\": \"assistant\",\n",
      "        \"content\": \"('Peters', 'PERSON'),\\n('Labour', 'ORGANIZATION'),\\n('National', 'ORGANIZATION')\\n] <end_output>\"\n",
      "      }\n",
      "    }\n",
      "  ],\n",
      "  \"usage\": {\n",
      "    \"prompt_tokens\": 154,\n",
      "    \"completion_tokens\": 28,\n",
      "    \"total_tokens\": 182\n",
      "  }\n",
      "})\n",
      "-----------------------------------------------\n",
      "response does not contain [()]. Returned [('Peters', 'PERSON'),\n",
      "('Labour', 'ORGANIZATION'),\n",
      "('National', 'ORGANIZATION')\n",
      "] <end_output>\n",
      "-----------------------------------------------\n"
     ]
    },
    {
     "name": "stderr",
     "output_type": "stream",
     "text": [
      " 19%|█▉        | 19/100 [00:08<00:39,  2.04it/s]"
     ]
    },
    {
     "name": "stdout",
     "output_type": "stream",
     "text": [
      "(\"I'm sorry, but I cannot generate the output without the sentence. Could you please provide the sentence?\", <OpenAIObject chat.completion id=chatcmpl-8hysa1CksWPpNjjurRN66dxMRXXWX at 0x7f3a7b8c4450> JSON: {\n",
      "  \"id\": \"chatcmpl-8hysa1CksWPpNjjurRN66dxMRXXWX\",\n",
      "  \"object\": \"chat.completion\",\n",
      "  \"created\": 1705492816,\n",
      "  \"model\": \"gpt-35-turbo\",\n",
      "  \"choices\": [\n",
      "    {\n",
      "      \"finish_reason\": \"stop\",\n",
      "      \"index\": 0,\n",
      "      \"message\": {\n",
      "        \"role\": \"assistant\",\n",
      "        \"content\": \"I'm sorry, but I cannot generate the output without the sentence. Could you please provide the sentence?\"\n",
      "      }\n",
      "    }\n",
      "  ],\n",
      "  \"usage\": {\n",
      "    \"prompt_tokens\": 141,\n",
      "    \"completion_tokens\": 21,\n",
      "    \"total_tokens\": 162\n",
      "  }\n",
      "})\n",
      "-----------------------------------------------\n",
      "response does not contain [()]. Returned [I'm sorry, but I cannot generate the output without the sentence. Could you please provide the sentence?\n",
      "-----------------------------------------------\n"
     ]
    },
    {
     "name": "stderr",
     "output_type": "stream",
     "text": [
      " 20%|██        | 20/100 [00:09<00:36,  2.17it/s]"
     ]
    },
    {
     "name": "stdout",
     "output_type": "stream",
     "text": [
      "(\"('Internet', 'ORG'), \\n('music', 'MISC'), \\n('software', 'MISC') \\n] <end_output>\", <OpenAIObject chat.completion id=chatcmpl-8hysbKSUV2nNGbeFOxmRflmlvXK7X at 0x7f3a851da570> JSON: {\n",
      "  \"id\": \"chatcmpl-8hysbKSUV2nNGbeFOxmRflmlvXK7X\",\n",
      "  \"object\": \"chat.completion\",\n",
      "  \"created\": 1705492817,\n",
      "  \"model\": \"gpt-35-turbo\",\n",
      "  \"choices\": [\n",
      "    {\n",
      "      \"finish_reason\": \"stop\",\n",
      "      \"index\": 0,\n",
      "      \"message\": {\n",
      "        \"role\": \"assistant\",\n",
      "        \"content\": \"('Internet', 'ORG'), \\n('music', 'MISC'), \\n('software', 'MISC') \\n] <end_output>\"\n",
      "      }\n",
      "    }\n",
      "  ],\n",
      "  \"usage\": {\n",
      "    \"prompt_tokens\": 163,\n",
      "    \"completion_tokens\": 28,\n",
      "    \"total_tokens\": 191\n",
      "  }\n",
      "})\n",
      "-----------------------------------------------\n",
      "response does not contain [()]. Returned [('Internet', 'ORG'), \n",
      "('music', 'MISC'), \n",
      "('software', 'MISC') \n",
      "] <end_output>\n",
      "-----------------------------------------------\n"
     ]
    },
    {
     "name": "stderr",
     "output_type": "stream",
     "text": [
      " 21%|██        | 21/100 [00:09<00:31,  2.53it/s]"
     ]
    },
    {
     "name": "stdout",
     "output_type": "stream",
     "text": [
      "(\"('Turkey', 'LOCATION'),\\n('Syrian', 'MISC') ]\", <OpenAIObject chat.completion id=chatcmpl-8hysbxVt7vqvkxMbuYoPJR9BaRs6J at 0x7f3a851da570> JSON: {\n",
      "  \"id\": \"chatcmpl-8hysbxVt7vqvkxMbuYoPJR9BaRs6J\",\n",
      "  \"object\": \"chat.completion\",\n",
      "  \"created\": 1705492817,\n",
      "  \"model\": \"gpt-35-turbo\",\n",
      "  \"choices\": [\n",
      "    {\n",
      "      \"finish_reason\": \"stop\",\n",
      "      \"index\": 0,\n",
      "      \"message\": {\n",
      "        \"role\": \"assistant\",\n",
      "        \"content\": \"('Turkey', 'LOCATION'),\\n('Syrian', 'MISC') ]\"\n",
      "      }\n",
      "    }\n",
      "  ],\n",
      "  \"usage\": {\n",
      "    \"prompt_tokens\": 141,\n",
      "    \"completion_tokens\": 15,\n",
      "    \"total_tokens\": 156\n",
      "  }\n",
      "})\n"
     ]
    },
    {
     "name": "stderr",
     "output_type": "stream",
     "text": [
      " 22%|██▏       | 22/100 [00:10<00:31,  2.44it/s]"
     ]
    },
    {
     "name": "stdout",
     "output_type": "stream",
     "text": [
      "(\"('Rashid', 'PERSON'),\\n('Greece', 'LOCATION'),\\n('Thursday', 'DATE'),\\n('8-1/2 years', 'DURATION')]\\n\\n<end_output>\", <OpenAIObject chat.completion id=chatcmpl-8hysbFRxkkKDib79kFUFsD6y2p1Bc at 0x7f3a71d710d0> JSON: {\n",
      "  \"id\": \"chatcmpl-8hysbFRxkkKDib79kFUFsD6y2p1Bc\",\n",
      "  \"object\": \"chat.completion\",\n",
      "  \"created\": 1705492817,\n",
      "  \"model\": \"gpt-35-turbo\",\n",
      "  \"choices\": [\n",
      "    {\n",
      "      \"finish_reason\": \"stop\",\n",
      "      \"index\": 0,\n",
      "      \"message\": {\n",
      "        \"role\": \"assistant\",\n",
      "        \"content\": \"('Rashid', 'PERSON'),\\n('Greece', 'LOCATION'),\\n('Thursday', 'DATE'),\\n('8-1/2 years', 'DURATION')]\\n\\n<end_output>\"\n",
      "      }\n",
      "    }\n",
      "  ],\n",
      "  \"usage\": {\n",
      "    \"prompt_tokens\": 156,\n",
      "    \"completion_tokens\": 38,\n",
      "    \"total_tokens\": 194\n",
      "  }\n",
      "})\n"
     ]
    },
    {
     "name": "stderr",
     "output_type": "stream",
     "text": [
      " 23%|██▎       | 23/100 [00:10<00:31,  2.43it/s]"
     ]
    },
    {
     "name": "stdout",
     "output_type": "stream",
     "text": [
      "(\"('Lieutenant-General Maurice Baril', 'PERSON'),\\n('Nairobi', 'LOCATION'),\\n('150,000', 'MISC'),\\n('Goma', 'LOCATION')\\n] <end_output>\", <OpenAIObject chat.completion id=chatcmpl-8hyscf5awXXwoNdnLhtbb3e3xhHCC at 0x7f3a8eed3ce0> JSON: {\n",
      "  \"id\": \"chatcmpl-8hyscf5awXXwoNdnLhtbb3e3xhHCC\",\n",
      "  \"object\": \"chat.completion\",\n",
      "  \"created\": 1705492818,\n",
      "  \"model\": \"gpt-35-turbo\",\n",
      "  \"choices\": [\n",
      "    {\n",
      "      \"finish_reason\": \"stop\",\n",
      "      \"index\": 0,\n",
      "      \"message\": {\n",
      "        \"role\": \"assistant\",\n",
      "        \"content\": \"('Lieutenant-General Maurice Baril', 'PERSON'),\\n('Nairobi', 'LOCATION'),\\n('150,000', 'MISC'),\\n('Goma', 'LOCATION')\\n] <end_output>\"\n",
      "      }\n",
      "    }\n",
      "  ],\n",
      "  \"usage\": {\n",
      "    \"prompt_tokens\": 180,\n",
      "    \"completion_tokens\": 39,\n",
      "    \"total_tokens\": 219\n",
      "  }\n",
      "})\n",
      "-----------------------------------------------\n",
      "response does not contain [()]. Returned [('Lieutenant-General Maurice Baril', 'PERSON'),\n",
      "('Nairobi', 'LOCATION'),\n",
      "('150,000', 'MISC'),\n",
      "('Goma', 'LOCATION')\n",
      "] <end_output>\n",
      "-----------------------------------------------\n"
     ]
    },
    {
     "name": "stderr",
     "output_type": "stream",
     "text": [
      " 24%|██▍       | 24/100 [00:10<00:30,  2.52it/s]"
     ]
    },
    {
     "name": "stdout",
     "output_type": "stream",
     "text": [
      "(\"('Australia', 'LOCATION'),\\n('Barbarians', 'ORGANIZATION'),\\n('European', 'MISC'),\\n('Saturday', 'MISC')\\n]\", <OpenAIObject chat.completion id=chatcmpl-8hyscxeIjVFDRRGdOh12QTYdPDPWs at 0x7f3a71d709f0> JSON: {\n",
      "  \"id\": \"chatcmpl-8hyscxeIjVFDRRGdOh12QTYdPDPWs\",\n",
      "  \"object\": \"chat.completion\",\n",
      "  \"created\": 1705492818,\n",
      "  \"model\": \"gpt-35-turbo\",\n",
      "  \"choices\": [\n",
      "    {\n",
      "      \"finish_reason\": \"stop\",\n",
      "      \"index\": 0,\n",
      "      \"message\": {\n",
      "        \"role\": \"assistant\",\n",
      "        \"content\": \"('Australia', 'LOCATION'),\\n('Barbarians', 'ORGANIZATION'),\\n('European', 'MISC'),\\n('Saturday', 'MISC')\\n]\"\n",
      "      }\n",
      "    }\n",
      "  ],\n",
      "  \"usage\": {\n",
      "    \"prompt_tokens\": 151,\n",
      "    \"completion_tokens\": 31,\n",
      "    \"total_tokens\": 182\n",
      "  }\n",
      "})\n",
      "-----------------------------------------------\n",
      "response does not contain [()]. Returned [('Australia', 'LOCATION'),\n",
      "('Barbarians', 'ORGANIZATION'),\n",
      "('European', 'MISC'),\n",
      "('Saturday', 'MISC')\n",
      "]\n",
      "-----------------------------------------------\n"
     ]
    },
    {
     "name": "stderr",
     "output_type": "stream",
     "text": [
      " 25%|██▌       | 25/100 [00:11<00:28,  2.63it/s]"
     ]
    },
    {
     "name": "stdout",
     "output_type": "stream",
     "text": [
      "(\"('Patasse', 'PERSON'),\\n('ethnic violence', 'MISC'),\\n('the capital', 'LOCATION')\\n] <end_output>\", <OpenAIObject chat.completion id=chatcmpl-8hysdnDmuL3bwSYxPo9va8rYmCXgj at 0x7f3a7b8c4450> JSON: {\n",
      "  \"id\": \"chatcmpl-8hysdnDmuL3bwSYxPo9va8rYmCXgj\",\n",
      "  \"object\": \"chat.completion\",\n",
      "  \"created\": 1705492819,\n",
      "  \"model\": \"gpt-35-turbo\",\n",
      "  \"choices\": [\n",
      "    {\n",
      "      \"finish_reason\": \"stop\",\n",
      "      \"index\": 0,\n",
      "      \"message\": {\n",
      "        \"role\": \"assistant\",\n",
      "        \"content\": \"('Patasse', 'PERSON'),\\n('ethnic violence', 'MISC'),\\n('the capital', 'LOCATION')\\n] <end_output>\"\n",
      "      }\n",
      "    }\n",
      "  ],\n",
      "  \"usage\": {\n",
      "    \"prompt_tokens\": 155,\n",
      "    \"completion_tokens\": 27,\n",
      "    \"total_tokens\": 182\n",
      "  }\n",
      "})\n",
      "-----------------------------------------------\n",
      "response does not contain [()]. Returned [('Patasse', 'PERSON'),\n",
      "('ethnic violence', 'MISC'),\n",
      "('the capital', 'LOCATION')\n",
      "] <end_output>\n",
      "-----------------------------------------------\n"
     ]
    },
    {
     "name": "stderr",
     "output_type": "stream",
     "text": [
      " 26%|██▌       | 26/100 [00:11<00:29,  2.50it/s]"
     ]
    },
    {
     "name": "stdout",
     "output_type": "stream",
     "text": [
      "(\"('Weah', 'PERSON'),\\n('Milan', 'ORGANIZATION'),\\n('Rosenborg', 'ORGANIZATION'),\\n('Norway', 'LOCATION')\\n] <end_output>\", <OpenAIObject chat.completion id=chatcmpl-8hysdsaooXtGArmFbWi2VmbJ8zX6y at 0x7f3a72c66c50> JSON: {\n",
      "  \"id\": \"chatcmpl-8hysdsaooXtGArmFbWi2VmbJ8zX6y\",\n",
      "  \"object\": \"chat.completion\",\n",
      "  \"created\": 1705492819,\n",
      "  \"model\": \"gpt-35-turbo\",\n",
      "  \"choices\": [\n",
      "    {\n",
      "      \"finish_reason\": \"stop\",\n",
      "      \"index\": 0,\n",
      "      \"message\": {\n",
      "        \"role\": \"assistant\",\n",
      "        \"content\": \"('Weah', 'PERSON'),\\n('Milan', 'ORGANIZATION'),\\n('Rosenborg', 'ORGANIZATION'),\\n('Norway', 'LOCATION')\\n] <end_output>\"\n",
      "      }\n",
      "    }\n",
      "  ],\n",
      "  \"usage\": {\n",
      "    \"prompt_tokens\": 153,\n",
      "    \"completion_tokens\": 38,\n",
      "    \"total_tokens\": 191\n",
      "  }\n",
      "})\n",
      "-----------------------------------------------\n",
      "response does not contain [()]. Returned [('Weah', 'PERSON'),\n",
      "('Milan', 'ORGANIZATION'),\n",
      "('Rosenborg', 'ORGANIZATION'),\n",
      "('Norway', 'LOCATION')\n",
      "] <end_output>\n",
      "-----------------------------------------------\n"
     ]
    },
    {
     "name": "stderr",
     "output_type": "stream",
     "text": [
      " 27%|██▋       | 27/100 [00:12<00:34,  2.12it/s]"
     ]
    },
    {
     "name": "stdout",
     "output_type": "stream",
     "text": [
      "(\"('BOXING', 'O'),\\n('SCHULZ', 'PERSON'),\\n('RIBALTA', 'PERSON'),\\n('IBF', 'ORGANIZATION'),\\n('HEAVYWEIGHT', 'MISC'),\\n('FIGHT', 'MISC')]\\n\\n<end_output>\", <OpenAIObject chat.completion id=chatcmpl-8hysdluGOea3F8eIzhop0DDh323mE at 0x7f3a72c66c50> JSON: {\n",
      "  \"id\": \"chatcmpl-8hysdluGOea3F8eIzhop0DDh323mE\",\n",
      "  \"object\": \"chat.completion\",\n",
      "  \"created\": 1705492819,\n",
      "  \"model\": \"gpt-35-turbo\",\n",
      "  \"choices\": [\n",
      "    {\n",
      "      \"finish_reason\": \"stop\",\n",
      "      \"index\": 0,\n",
      "      \"message\": {\n",
      "        \"role\": \"assistant\",\n",
      "        \"content\": \"('BOXING', 'O'),\\n('SCHULZ', 'PERSON'),\\n('RIBALTA', 'PERSON'),\\n('IBF', 'ORGANIZATION'),\\n('HEAVYWEIGHT', 'MISC'),\\n('FIGHT', 'MISC')]\\n\\n<end_output>\"\n",
      "      }\n",
      "    }\n",
      "  ],\n",
      "  \"usage\": {\n",
      "    \"prompt_tokens\": 153,\n",
      "    \"completion_tokens\": 58,\n",
      "    \"total_tokens\": 211\n",
      "  }\n",
      "})\n"
     ]
    },
    {
     "name": "stderr",
     "output_type": "stream",
     "text": [
      " 28%|██▊       | 28/100 [00:12<00:34,  2.06it/s]"
     ]
    },
    {
     "name": "stdout",
     "output_type": "stream",
     "text": [
      "(\"('Brett Liddle', 'PERSON'),\\n('Hugh Baiocchi', 'PERSON'),\\n('Adilson da Silva', 'PERSON'),\\n('Brazil', 'LOCATION'),\\n('Sammy Daniels', 'PERSON') ]\", <OpenAIObject chat.completion id=chatcmpl-8hyseg7XRcuJs1iGcKdopuLSVSS6c at 0x7f3a7b8c4450> JSON: {\n",
      "  \"id\": \"chatcmpl-8hyseg7XRcuJs1iGcKdopuLSVSS6c\",\n",
      "  \"object\": \"chat.completion\",\n",
      "  \"created\": 1705492820,\n",
      "  \"model\": \"gpt-35-turbo\",\n",
      "  \"choices\": [\n",
      "    {\n",
      "      \"finish_reason\": \"stop\",\n",
      "      \"index\": 0,\n",
      "      \"message\": {\n",
      "        \"role\": \"assistant\",\n",
      "        \"content\": \"('Brett Liddle', 'PERSON'),\\n('Hugh Baiocchi', 'PERSON'),\\n('Adilson da Silva', 'PERSON'),\\n('Brazil', 'LOCATION'),\\n('Sammy Daniels', 'PERSON') ]\"\n",
      "      }\n",
      "    }\n",
      "  ],\n",
      "  \"usage\": {\n",
      "    \"prompt_tokens\": 167,\n",
      "    \"completion_tokens\": 43,\n",
      "    \"total_tokens\": 210\n",
      "  }\n",
      "})\n"
     ]
    },
    {
     "name": "stderr",
     "output_type": "stream",
     "text": [
      " 29%|██▉       | 29/100 [00:13<00:31,  2.24it/s]"
     ]
    },
    {
     "name": "stdout",
     "output_type": "stream",
     "text": [
      "(\"('newspaper', 'ORG'),\\n('girl', 'PERSON'),\\n('hospital', 'LOCATION')\\n] <end_output>\", <OpenAIObject chat.completion id=chatcmpl-8hyseSPBM08AWpezAOX9uo2NM32UE at 0x7f3a851da570> JSON: {\n",
      "  \"id\": \"chatcmpl-8hyseSPBM08AWpezAOX9uo2NM32UE\",\n",
      "  \"object\": \"chat.completion\",\n",
      "  \"created\": 1705492820,\n",
      "  \"model\": \"gpt-35-turbo\",\n",
      "  \"choices\": [\n",
      "    {\n",
      "      \"finish_reason\": \"stop\",\n",
      "      \"index\": 0,\n",
      "      \"message\": {\n",
      "        \"role\": \"assistant\",\n",
      "        \"content\": \"('newspaper', 'ORG'),\\n('girl', 'PERSON'),\\n('hospital', 'LOCATION')\\n] <end_output>\"\n",
      "      }\n",
      "    }\n",
      "  ],\n",
      "  \"usage\": {\n",
      "    \"prompt_tokens\": 147,\n",
      "    \"completion_tokens\": 25,\n",
      "    \"total_tokens\": 172\n",
      "  }\n",
      "})\n",
      "-----------------------------------------------\n",
      "response does not contain [()]. Returned [('newspaper', 'ORG'),\n",
      "('girl', 'PERSON'),\n",
      "('hospital', 'LOCATION')\n",
      "] <end_output>\n",
      "-----------------------------------------------\n"
     ]
    },
    {
     "name": "stderr",
     "output_type": "stream",
     "text": [
      " 30%|███       | 30/100 [00:13<00:30,  2.32it/s]"
     ]
    },
    {
     "name": "stdout",
     "output_type": "stream",
     "text": [
      "(\"('Voeks', 'PERSON'),\\n('pig thefts', 'MISC'),\\n('ex-wife', 'PERSON'),\\n('children', 'MISC')]\\n\\n<end_output>\", <OpenAIObject chat.completion id=chatcmpl-8hysf3HrMxYnfsvnIXlGw4BxsrWop at 0x7f3a7b8c4450> JSON: {\n",
      "  \"id\": \"chatcmpl-8hysf3HrMxYnfsvnIXlGw4BxsrWop\",\n",
      "  \"object\": \"chat.completion\",\n",
      "  \"created\": 1705492821,\n",
      "  \"model\": \"gpt-35-turbo\",\n",
      "  \"choices\": [\n",
      "    {\n",
      "      \"finish_reason\": \"stop\",\n",
      "      \"index\": 0,\n",
      "      \"message\": {\n",
      "        \"role\": \"assistant\",\n",
      "        \"content\": \"('Voeks', 'PERSON'),\\n('pig thefts', 'MISC'),\\n('ex-wife', 'PERSON'),\\n('children', 'MISC')]\\n\\n<end_output>\"\n",
      "      }\n",
      "    }\n",
      "  ],\n",
      "  \"usage\": {\n",
      "    \"prompt_tokens\": 158,\n",
      "    \"completion_tokens\": 35,\n",
      "    \"total_tokens\": 193\n",
      "  }\n",
      "})\n"
     ]
    },
    {
     "name": "stderr",
     "output_type": "stream",
     "text": [
      " 31%|███       | 31/100 [00:14<00:31,  2.18it/s]"
     ]
    },
    {
     "name": "stdout",
     "output_type": "stream",
     "text": [
      "(\"('health authority', 'ORG'),\\n('78', 'MISC'),\\n('disease', 'MISC'),\\n('64', 'MISC')\\n] <end_output>\", <OpenAIObject chat.completion id=chatcmpl-8hysfTwHQJYgiOlKLfvU8v6KGybj7 at 0x7f3a7b8c4450> JSON: {\n",
      "  \"id\": \"chatcmpl-8hysfTwHQJYgiOlKLfvU8v6KGybj7\",\n",
      "  \"object\": \"chat.completion\",\n",
      "  \"created\": 1705492821,\n",
      "  \"model\": \"gpt-35-turbo\",\n",
      "  \"choices\": [\n",
      "    {\n",
      "      \"finish_reason\": \"stop\",\n",
      "      \"index\": 0,\n",
      "      \"message\": {\n",
      "        \"role\": \"assistant\",\n",
      "        \"content\": \"('health authority', 'ORG'),\\n('78', 'MISC'),\\n('disease', 'MISC'),\\n('64', 'MISC')\\n] <end_output>\"\n",
      "      }\n",
      "    }\n",
      "  ],\n",
      "  \"usage\": {\n",
      "    \"prompt_tokens\": 154,\n",
      "    \"completion_tokens\": 34,\n",
      "    \"total_tokens\": 188\n",
      "  }\n",
      "})\n",
      "-----------------------------------------------\n",
      "response does not contain [()]. Returned [('health authority', 'ORG'),\n",
      "('78', 'MISC'),\n",
      "('disease', 'MISC'),\n",
      "('64', 'MISC')\n",
      "] <end_output>\n",
      "-----------------------------------------------\n"
     ]
    },
    {
     "name": "stderr",
     "output_type": "stream",
     "text": [
      " 32%|███▏      | 32/100 [00:14<00:29,  2.31it/s]"
     ]
    },
    {
     "name": "stdout",
     "output_type": "stream",
     "text": [
      "(\"('112', 'NUMBER'),\\n('lots', 'MISC'),\\n('traders', 'MISC')\\n] <end_output>\", <OpenAIObject chat.completion id=chatcmpl-8hysgO6cRcbyNLhFS2UA88BHFhazz at 0x7f3a851da570> JSON: {\n",
      "  \"id\": \"chatcmpl-8hysgO6cRcbyNLhFS2UA88BHFhazz\",\n",
      "  \"object\": \"chat.completion\",\n",
      "  \"created\": 1705492822,\n",
      "  \"model\": \"gpt-35-turbo\",\n",
      "  \"choices\": [\n",
      "    {\n",
      "      \"finish_reason\": \"stop\",\n",
      "      \"index\": 0,\n",
      "      \"message\": {\n",
      "        \"role\": \"assistant\",\n",
      "        \"content\": \"('112', 'NUMBER'),\\n('lots', 'MISC'),\\n('traders', 'MISC')\\n] <end_output>\"\n",
      "      }\n",
      "    }\n",
      "  ],\n",
      "  \"usage\": {\n",
      "    \"prompt_tokens\": 140,\n",
      "    \"completion_tokens\": 26,\n",
      "    \"total_tokens\": 166\n",
      "  }\n",
      "})\n",
      "-----------------------------------------------\n",
      "response does not contain [()]. Returned [('112', 'NUMBER'),\n",
      "('lots', 'MISC'),\n",
      "('traders', 'MISC')\n",
      "] <end_output>\n",
      "-----------------------------------------------\n"
     ]
    },
    {
     "name": "stderr",
     "output_type": "stream",
     "text": [
      " 33%|███▎      | 33/100 [00:14<00:30,  2.20it/s]"
     ]
    },
    {
     "name": "stdout",
     "output_type": "stream",
     "text": [
      "(\"('Standings', 'O'),\\n('played', 'O'),\\n('won', 'O'),\\n('drawn', 'O'),\\n('lost', 'O'),\\n('goals', 'O')]\\n\\n<end_output>\", <OpenAIObject chat.completion id=chatcmpl-8hysgeoDrIu5vQMjUNJK7DZtpUJbB at 0x7f3a851da570> JSON: {\n",
      "  \"id\": \"chatcmpl-8hysgeoDrIu5vQMjUNJK7DZtpUJbB\",\n",
      "  \"object\": \"chat.completion\",\n",
      "  \"created\": 1705492822,\n",
      "  \"model\": \"gpt-35-turbo\",\n",
      "  \"choices\": [\n",
      "    {\n",
      "      \"finish_reason\": \"stop\",\n",
      "      \"index\": 0,\n",
      "      \"message\": {\n",
      "        \"role\": \"assistant\",\n",
      "        \"content\": \"('Standings', 'O'),\\n('played', 'O'),\\n('won', 'O'),\\n('drawn', 'O'),\\n('lost', 'O'),\\n('goals', 'O')]\\n\\n<end_output>\"\n",
      "      }\n",
      "    }\n",
      "  ],\n",
      "  \"usage\": {\n",
      "    \"prompt_tokens\": 144,\n",
      "    \"completion_tokens\": 43,\n",
      "    \"total_tokens\": 187\n",
      "  }\n",
      "})\n"
     ]
    },
    {
     "name": "stderr",
     "output_type": "stream",
     "text": [
      " 34%|███▍      | 34/100 [00:15<00:41,  1.60it/s]"
     ]
    },
    {
     "name": "stdout",
     "output_type": "stream",
     "text": [
      "(\"('African', 'MISC'),\\n('council', 'ORG'),\\n('next week', 'DATE'),\\n('procedure', 'MISC'),\\n('decision', 'MISC'),\\n('fight', 'MISC'),\\n('vetoes', 'MISC'),\\n('nominee', 'MISC') ] <end_output>\", <OpenAIObject chat.completion id=chatcmpl-8hysh0iH2ZaSKyZe5NqFJaupvzsWN at 0x7f3a851da570> JSON: {\n",
      "  \"id\": \"chatcmpl-8hysh0iH2ZaSKyZe5NqFJaupvzsWN\",\n",
      "  \"object\": \"chat.completion\",\n",
      "  \"created\": 1705492823,\n",
      "  \"model\": \"gpt-35-turbo\",\n",
      "  \"choices\": [\n",
      "    {\n",
      "      \"finish_reason\": \"stop\",\n",
      "      \"index\": 0,\n",
      "      \"message\": {\n",
      "        \"role\": \"assistant\",\n",
      "        \"content\": \"('African', 'MISC'),\\n('council', 'ORG'),\\n('next week', 'DATE'),\\n('procedure', 'MISC'),\\n('decision', 'MISC'),\\n('fight', 'MISC'),\\n('vetoes', 'MISC'),\\n('nominee', 'MISC') ] <end_output>\"\n",
      "      }\n",
      "    }\n",
      "  ],\n",
      "  \"usage\": {\n",
      "    \"prompt_tokens\": 169,\n",
      "    \"completion_tokens\": 64,\n",
      "    \"total_tokens\": 233\n",
      "  }\n",
      "})\n"
     ]
    },
    {
     "name": "stderr",
     "output_type": "stream",
     "text": [
      " 35%|███▌      | 35/100 [00:16<00:37,  1.72it/s]"
     ]
    },
    {
     "name": "stdout",
     "output_type": "stream",
     "text": [
      "(\"('Zimbabwe Open', 'ORG'),\\n('Saturday', 'DATE'),\\n('South African', 'MISC')\\n]\", <OpenAIObject chat.completion id=chatcmpl-8hysi4VFAH2kPoeFkMO2fEVDuD9dE at 0x7f3a72c66c50> JSON: {\n",
      "  \"id\": \"chatcmpl-8hysi4VFAH2kPoeFkMO2fEVDuD9dE\",\n",
      "  \"object\": \"chat.completion\",\n",
      "  \"created\": 1705492824,\n",
      "  \"model\": \"gpt-35-turbo\",\n",
      "  \"choices\": [\n",
      "    {\n",
      "      \"finish_reason\": \"stop\",\n",
      "      \"index\": 0,\n",
      "      \"message\": {\n",
      "        \"role\": \"assistant\",\n",
      "        \"content\": \"('Zimbabwe Open', 'ORG'),\\n('Saturday', 'DATE'),\\n('South African', 'MISC')\\n]\"\n",
      "      }\n",
      "    }\n",
      "  ],\n",
      "  \"usage\": {\n",
      "    \"prompt_tokens\": 135,\n",
      "    \"completion_tokens\": 23,\n",
      "    \"total_tokens\": 158\n",
      "  }\n",
      "})\n",
      "-----------------------------------------------\n",
      "response does not contain [()]. Returned [('Zimbabwe Open', 'ORG'),\n",
      "('Saturday', 'DATE'),\n",
      "('South African', 'MISC')\n",
      "]\n",
      "-----------------------------------------------\n"
     ]
    },
    {
     "name": "stderr",
     "output_type": "stream",
     "text": [
      " 36%|███▌      | 36/100 [00:16<00:33,  1.92it/s]"
     ]
    },
    {
     "name": "stdout",
     "output_type": "stream",
     "text": [
      "(\"('Pace', 'PERSON'),\\n('Ohio State', 'ORGANIZATION'),\\n('Rose Bowl', 'MISC'),\\n('Arizona State', 'ORGANIZATION')\\n] <end_output>\", <OpenAIObject chat.completion id=chatcmpl-8hysij4FmdH1R4HPZciIxJ9oseJou at 0x7f3a851da570> JSON: {\n",
      "  \"id\": \"chatcmpl-8hysij4FmdH1R4HPZciIxJ9oseJou\",\n",
      "  \"object\": \"chat.completion\",\n",
      "  \"created\": 1705492824,\n",
      "  \"model\": \"gpt-35-turbo\",\n",
      "  \"choices\": [\n",
      "    {\n",
      "      \"finish_reason\": \"stop\",\n",
      "      \"index\": 0,\n",
      "      \"message\": {\n",
      "        \"role\": \"assistant\",\n",
      "        \"content\": \"('Pace', 'PERSON'),\\n('Ohio State', 'ORGANIZATION'),\\n('Rose Bowl', 'MISC'),\\n('Arizona State', 'ORGANIZATION')\\n] <end_output>\"\n",
      "      }\n",
      "    }\n",
      "  ],\n",
      "  \"usage\": {\n",
      "    \"prompt_tokens\": 155,\n",
      "    \"completion_tokens\": 38,\n",
      "    \"total_tokens\": 193\n",
      "  }\n",
      "})\n",
      "-----------------------------------------------\n",
      "response does not contain [()]. Returned [('Pace', 'PERSON'),\n",
      "('Ohio State', 'ORGANIZATION'),\n",
      "('Rose Bowl', 'MISC'),\n",
      "('Arizona State', 'ORGANIZATION')\n",
      "] <end_output>\n",
      "-----------------------------------------------\n"
     ]
    },
    {
     "name": "stderr",
     "output_type": "stream",
     "text": [
      " 37%|███▋      | 37/100 [00:17<00:28,  2.21it/s]"
     ]
    },
    {
     "name": "stdout",
     "output_type": "stream",
     "text": [
      "(\"('All four teams', 'ORG'),\\n('one', 'MISC'),\\n('one game', 'MISC')\\n] <end_output>\", <OpenAIObject chat.completion id=chatcmpl-8hysjNCt85wqtcTOvKDP98OQQ7PwH at 0x7f3a7b8c4450> JSON: {\n",
      "  \"id\": \"chatcmpl-8hysjNCt85wqtcTOvKDP98OQQ7PwH\",\n",
      "  \"object\": \"chat.completion\",\n",
      "  \"created\": 1705492825,\n",
      "  \"model\": \"gpt-35-turbo\",\n",
      "  \"choices\": [\n",
      "    {\n",
      "      \"finish_reason\": \"stop\",\n",
      "      \"index\": 0,\n",
      "      \"message\": {\n",
      "        \"role\": \"assistant\",\n",
      "        \"content\": \"('All four teams', 'ORG'),\\n('one', 'MISC'),\\n('one game', 'MISC')\\n] <end_output>\"\n",
      "      }\n",
      "    }\n",
      "  ],\n",
      "  \"usage\": {\n",
      "    \"prompt_tokens\": 142,\n",
      "    \"completion_tokens\": 28,\n",
      "    \"total_tokens\": 170\n",
      "  }\n",
      "})\n",
      "-----------------------------------------------\n",
      "response does not contain [()]. Returned [('All four teams', 'ORG'),\n",
      "('one', 'MISC'),\n",
      "('one game', 'MISC')\n",
      "] <end_output>\n",
      "-----------------------------------------------\n"
     ]
    },
    {
     "name": "stderr",
     "output_type": "stream",
     "text": [
      " 38%|███▊      | 38/100 [00:17<00:29,  2.10it/s]"
     ]
    },
    {
     "name": "stdout",
     "output_type": "stream",
     "text": [
      "(\"('TEMBAU', 'MISC'),\\n('DENPASAR', 'LOCATION'),\\n('Bali', 'LOCATION'),\\n('1996-12-07', 'MISC')]\\n\\n<end_output>\", <OpenAIObject chat.completion id=chatcmpl-8hysjxojmb0S1bAx29pioYRoC0AjB at 0x7f3a7b8c4450> JSON: {\n",
      "  \"id\": \"chatcmpl-8hysjxojmb0S1bAx29pioYRoC0AjB\",\n",
      "  \"object\": \"chat.completion\",\n",
      "  \"created\": 1705492825,\n",
      "  \"model\": \"gpt-35-turbo\",\n",
      "  \"choices\": [\n",
      "    {\n",
      "      \"finish_reason\": \"stop\",\n",
      "      \"index\": 0,\n",
      "      \"message\": {\n",
      "        \"role\": \"assistant\",\n",
      "        \"content\": \"('TEMBAU', 'MISC'),\\n('DENPASAR', 'LOCATION'),\\n('Bali', 'LOCATION'),\\n('1996-12-07', 'MISC')]\\n\\n<end_output>\"\n",
      "      }\n",
      "    }\n",
      "  ],\n",
      "  \"usage\": {\n",
      "    \"prompt_tokens\": 145,\n",
      "    \"completion_tokens\": 42,\n",
      "    \"total_tokens\": 187\n",
      "  }\n",
      "})\n"
     ]
    },
    {
     "name": "stderr",
     "output_type": "stream",
     "text": [
      " 39%|███▉      | 39/100 [00:18<00:29,  2.09it/s]"
     ]
    },
    {
     "name": "stdout",
     "output_type": "stream",
     "text": [
      "('(\"Michael Cornwell\", \"PERSON\"),\\n(\"Glencoe Animal Hospital\", \"ORGANIZATION\"),\\n(\"Columbus\", \"LOCATION\"),\\n(\"Ohio\", \"LOCATION\"),\\n(\"American Veterinary Medical Association\", \"ORGANIZATION\") ] <end_output>', <OpenAIObject chat.completion id=chatcmpl-8hysju2y0YsmZESlaAQWejVFLd99q at 0x7f3a71d71f80> JSON: {\n",
      "  \"id\": \"chatcmpl-8hysju2y0YsmZESlaAQWejVFLd99q\",\n",
      "  \"object\": \"chat.completion\",\n",
      "  \"created\": 1705492825,\n",
      "  \"model\": \"gpt-35-turbo\",\n",
      "  \"choices\": [\n",
      "    {\n",
      "      \"finish_reason\": \"stop\",\n",
      "      \"index\": 0,\n",
      "      \"message\": {\n",
      "        \"role\": \"assistant\",\n",
      "        \"content\": \"(\\\"Michael Cornwell\\\", \\\"PERSON\\\"),\\n(\\\"Glencoe Animal Hospital\\\", \\\"ORGANIZATION\\\"),\\n(\\\"Columbus\\\", \\\"LOCATION\\\"),\\n(\\\"Ohio\\\", \\\"LOCATION\\\"),\\n(\\\"American Veterinary Medical Association\\\", \\\"ORGANIZATION\\\") ] <end_output>\"\n",
      "      }\n",
      "    }\n",
      "  ],\n",
      "  \"usage\": {\n",
      "    \"prompt_tokens\": 171,\n",
      "    \"completion_tokens\": 50,\n",
      "    \"total_tokens\": 221\n",
      "  }\n",
      "})\n"
     ]
    },
    {
     "name": "stderr",
     "output_type": "stream",
     "text": [
      " 40%|████      | 40/100 [00:18<00:33,  1.81it/s]"
     ]
    },
    {
     "name": "stdout",
     "output_type": "stream",
     "text": [
      "(\"('Burmese', 'LOCATION'),\\n('riot police', 'ORGANIZATION'),\\n('student', 'MISC'),\\n('Ranyon', 'LOCATION'),\\n('Rangoon', 'LOCATION'),\\n('University', 'ORGANIZATION'),\\n('Saturday', 'MISC')\\n] <end_output>\", <OpenAIObject chat.completion id=chatcmpl-8hysk3lxiNWHCoJfRNoXsP3CfUSSX at 0x7f3a8eed3ce0> JSON: {\n",
      "  \"id\": \"chatcmpl-8hysk3lxiNWHCoJfRNoXsP3CfUSSX\",\n",
      "  \"object\": \"chat.completion\",\n",
      "  \"created\": 1705492826,\n",
      "  \"model\": \"gpt-35-turbo\",\n",
      "  \"choices\": [\n",
      "    {\n",
      "      \"finish_reason\": \"stop\",\n",
      "      \"index\": 0,\n",
      "      \"message\": {\n",
      "        \"role\": \"assistant\",\n",
      "        \"content\": \"('Burmese', 'LOCATION'),\\n('riot police', 'ORGANIZATION'),\\n('student', 'MISC'),\\n('Ranyon', 'LOCATION'),\\n('Rangoon', 'LOCATION'),\\n('University', 'ORGANIZATION'),\\n('Saturday', 'MISC')\\n] <end_output>\"\n",
      "      }\n",
      "    }\n",
      "  ],\n",
      "  \"usage\": {\n",
      "    \"prompt_tokens\": 168,\n",
      "    \"completion_tokens\": 60,\n",
      "    \"total_tokens\": 228\n",
      "  }\n",
      "})\n",
      "-----------------------------------------------\n",
      "response does not contain [()]. Returned [('Burmese', 'LOCATION'),\n",
      "('riot police', 'ORGANIZATION'),\n",
      "('student', 'MISC'),\n",
      "('Ranyon', 'LOCATION'),\n",
      "('Rangoon', 'LOCATION'),\n",
      "('University', 'ORGANIZATION'),\n",
      "('Saturday', 'MISC')\n",
      "] <end_output>\n",
      "-----------------------------------------------\n"
     ]
    },
    {
     "name": "stderr",
     "output_type": "stream",
     "text": [
      " 41%|████      | 41/100 [00:19<00:29,  1.98it/s]"
     ]
    },
    {
     "name": "stdout",
     "output_type": "stream",
     "text": [
      "('The dollar was fixed at 1.5338 marks in Frankfurt on Friday , after 1.5607 marks on Thursday .', <OpenAIObject chat.completion id=chatcmpl-8hysl1zMEDuO2wAMBpRCdyF06p6t2 at 0x7f3a8eed3ce0> JSON: {\n",
      "  \"id\": \"chatcmpl-8hysl1zMEDuO2wAMBpRCdyF06p6t2\",\n",
      "  \"object\": \"chat.completion\",\n",
      "  \"created\": 1705492827,\n",
      "  \"model\": \"gpt-35-turbo\",\n",
      "  \"choices\": [\n",
      "    {\n",
      "      \"finish_reason\": \"stop\",\n",
      "      \"index\": 0,\n",
      "      \"message\": {\n",
      "        \"role\": \"assistant\",\n",
      "        \"content\": \"The dollar was fixed at 1.5338 marks in Frankfurt on Friday , after 1.5607 marks on Thursday .\"\n",
      "      }\n",
      "    }\n",
      "  ],\n",
      "  \"usage\": {\n",
      "    \"prompt_tokens\": 155,\n",
      "    \"completion_tokens\": 26,\n",
      "    \"total_tokens\": 181\n",
      "  }\n",
      "})\n",
      "-----------------------------------------------\n",
      "response does not contain [()]. Returned [The dollar was fixed at 1.5338 marks in Frankfurt on Friday , after 1.5607 marks on Thursday .\n",
      "-----------------------------------------------\n"
     ]
    },
    {
     "name": "stderr",
     "output_type": "stream",
     "text": [
      " 42%|████▏     | 42/100 [00:19<00:25,  2.27it/s]"
     ]
    },
    {
     "name": "stdout",
     "output_type": "stream",
     "text": [
      "(\"('Saeed Anwar', 'PERSON'), ('91', 'MISC')]\\n\\n<end_output>\", <OpenAIObject chat.completion id=chatcmpl-8hyslrA4hj35PZJJ26w9UNUEKXyvO at 0x7f3a851da570> JSON: {\n",
      "  \"id\": \"chatcmpl-8hyslrA4hj35PZJJ26w9UNUEKXyvO\",\n",
      "  \"object\": \"chat.completion\",\n",
      "  \"created\": 1705492827,\n",
      "  \"model\": \"gpt-35-turbo\",\n",
      "  \"choices\": [\n",
      "    {\n",
      "      \"finish_reason\": \"stop\",\n",
      "      \"index\": 0,\n",
      "      \"message\": {\n",
      "        \"role\": \"assistant\",\n",
      "        \"content\": \"('Saeed Anwar', 'PERSON'), ('91', 'MISC')]\\n\\n<end_output>\"\n",
      "      }\n",
      "    }\n",
      "  ],\n",
      "  \"usage\": {\n",
      "    \"prompt_tokens\": 145,\n",
      "    \"completion_tokens\": 22,\n",
      "    \"total_tokens\": 167\n",
      "  }\n",
      "})\n"
     ]
    },
    {
     "name": "stderr",
     "output_type": "stream",
     "text": [
      " 43%|████▎     | 43/100 [00:19<00:25,  2.24it/s]"
     ]
    },
    {
     "name": "stdout",
     "output_type": "stream",
     "text": [
      "(\"('U.S.', 'LOCATION'),\\n('Friday', 'MISC'),\\n('St. Louis', 'LOCATION'),\\n('Merchants Exchange', 'ORGANIZATION')]\\n\\n<end_output>\", <OpenAIObject chat.completion id=chatcmpl-8hysljrjhp7ZAMH4Q1abn1EnMwSTe at 0x7f3a71d71f80> JSON: {\n",
      "  \"id\": \"chatcmpl-8hysljrjhp7ZAMH4Q1abn1EnMwSTe\",\n",
      "  \"object\": \"chat.completion\",\n",
      "  \"created\": 1705492827,\n",
      "  \"model\": \"gpt-35-turbo\",\n",
      "  \"choices\": [\n",
      "    {\n",
      "      \"finish_reason\": \"stop\",\n",
      "      \"index\": 0,\n",
      "      \"message\": {\n",
      "        \"role\": \"assistant\",\n",
      "        \"content\": \"('U.S.', 'LOCATION'),\\n('Friday', 'MISC'),\\n('St. Louis', 'LOCATION'),\\n('Merchants Exchange', 'ORGANIZATION')]\\n\\n<end_output>\"\n",
      "      }\n",
      "    }\n",
      "  ],\n",
      "  \"usage\": {\n",
      "    \"prompt_tokens\": 150,\n",
      "    \"completion_tokens\": 37,\n",
      "    \"total_tokens\": 187\n",
      "  }\n",
      "})\n"
     ]
    },
    {
     "name": "stderr",
     "output_type": "stream",
     "text": [
      " 44%|████▍     | 44/100 [00:20<00:27,  2.03it/s]"
     ]
    },
    {
     "name": "stdout",
     "output_type": "stream",
     "text": [
      "(\"Here is the output for the given sentence:\\n\\n<start_output> [('Patrick Vieira', 'PERSON'), ('Arsenal', 'ORGANIZATION'), ('Derby', 'LOCATION'), ('Saturday', 'MISC')] <end_output>\", <OpenAIObject chat.completion id=chatcmpl-8hysmV2XtJRn7KyYQX2yx6O2sxMD6 at 0x7f3a851da570> JSON: {\n",
      "  \"id\": \"chatcmpl-8hysmV2XtJRn7KyYQX2yx6O2sxMD6\",\n",
      "  \"object\": \"chat.completion\",\n",
      "  \"created\": 1705492828,\n",
      "  \"model\": \"gpt-35-turbo\",\n",
      "  \"choices\": [\n",
      "    {\n",
      "      \"finish_reason\": \"stop\",\n",
      "      \"index\": 0,\n",
      "      \"message\": {\n",
      "        \"role\": \"assistant\",\n",
      "        \"content\": \"Here is the output for the given sentence:\\n\\n<start_output> [('Patrick Vieira', 'PERSON'), ('Arsenal', 'ORGANIZATION'), ('Derby', 'LOCATION'), ('Saturday', 'MISC')] <end_output>\"\n",
      "      }\n",
      "    }\n",
      "  ],\n",
      "  \"usage\": {\n",
      "    \"prompt_tokens\": 160,\n",
      "    \"completion_tokens\": 48,\n",
      "    \"total_tokens\": 208\n",
      "  }\n",
      "})\n"
     ]
    },
    {
     "name": "stderr",
     "output_type": "stream",
     "text": [
      " 45%|████▌     | 45/100 [00:20<00:24,  2.22it/s]"
     ]
    },
    {
     "name": "stdout",
     "output_type": "stream",
     "text": [
      "(\"('Police', 'ORG'),\\n('heroin', 'MISC'),\\n('Belgian francs', 'MISC'),\\n('Antwerp', 'LOC')\\n]\", <OpenAIObject chat.completion id=chatcmpl-8hysmNynQRWVpnYwvhBhC8twDWAqT at 0x7f3a7b53e7f0> JSON: {\n",
      "  \"id\": \"chatcmpl-8hysmNynQRWVpnYwvhBhC8twDWAqT\",\n",
      "  \"object\": \"chat.completion\",\n",
      "  \"created\": 1705492828,\n",
      "  \"model\": \"gpt-35-turbo\",\n",
      "  \"choices\": [\n",
      "    {\n",
      "      \"finish_reason\": \"stop\",\n",
      "      \"index\": 0,\n",
      "      \"message\": {\n",
      "        \"role\": \"assistant\",\n",
      "        \"content\": \"('Police', 'ORG'),\\n('heroin', 'MISC'),\\n('Belgian francs', 'MISC'),\\n('Antwerp', 'LOC')\\n]\"\n",
      "      }\n",
      "    }\n",
      "  ],\n",
      "  \"usage\": {\n",
      "    \"prompt_tokens\": 166,\n",
      "    \"completion_tokens\": 33,\n",
      "    \"total_tokens\": 199\n",
      "  }\n",
      "})\n",
      "-----------------------------------------------\n",
      "response does not contain [()]. Returned [('Police', 'ORG'),\n",
      "('heroin', 'MISC'),\n",
      "('Belgian francs', 'MISC'),\n",
      "('Antwerp', 'LOC')\n",
      "]\n",
      "-----------------------------------------------\n"
     ]
    },
    {
     "name": "stderr",
     "output_type": "stream",
     "text": [
      " 46%|████▌     | 46/100 [00:21<00:26,  2.07it/s]"
     ]
    },
    {
     "name": "stdout",
     "output_type": "stream",
     "text": [
      "(\"('court', 'ORG'),\\n('dancers', 'MISC'),\\n('strip clubs', 'LOC'),\\n('big tipper', 'MISC')\\n] <end_output>\", <OpenAIObject chat.completion id=chatcmpl-8hysnXutENnvlSC8ETyUYPsdEHOtM at 0x7f3a74530040> JSON: {\n",
      "  \"id\": \"chatcmpl-8hysnXutENnvlSC8ETyUYPsdEHOtM\",\n",
      "  \"object\": \"chat.completion\",\n",
      "  \"created\": 1705492829,\n",
      "  \"model\": \"gpt-35-turbo\",\n",
      "  \"choices\": [\n",
      "    {\n",
      "      \"finish_reason\": \"stop\",\n",
      "      \"index\": 0,\n",
      "      \"message\": {\n",
      "        \"role\": \"assistant\",\n",
      "        \"content\": \"('court', 'ORG'),\\n('dancers', 'MISC'),\\n('strip clubs', 'LOC'),\\n('big tipper', 'MISC')\\n] <end_output>\"\n",
      "      }\n",
      "    }\n",
      "  ],\n",
      "  \"usage\": {\n",
      "    \"prompt_tokens\": 156,\n",
      "    \"completion_tokens\": 35,\n",
      "    \"total_tokens\": 191\n",
      "  }\n",
      "})\n",
      "-----------------------------------------------\n",
      "response does not contain [()]. Returned [('court', 'ORG'),\n",
      "('dancers', 'MISC'),\n",
      "('strip clubs', 'LOC'),\n",
      "('big tipper', 'MISC')\n",
      "] <end_output>\n",
      "-----------------------------------------------\n"
     ]
    },
    {
     "name": "stderr",
     "output_type": "stream",
     "text": [
      " 47%|████▋     | 47/100 [00:21<00:23,  2.24it/s]"
     ]
    },
    {
     "name": "stdout",
     "output_type": "stream",
     "text": [
      "(\"('GDP', 'ORG'),\\n('July', 'DATE'),\\n('September', 'DATE')\\n] <end_output>\", <OpenAIObject chat.completion id=chatcmpl-8hysnQFyG68BaQV2HWRo0pBuisxo8 at 0x7f3a7b8c4450> JSON: {\n",
      "  \"id\": \"chatcmpl-8hysnQFyG68BaQV2HWRo0pBuisxo8\",\n",
      "  \"object\": \"chat.completion\",\n",
      "  \"created\": 1705492829,\n",
      "  \"model\": \"gpt-35-turbo\",\n",
      "  \"choices\": [\n",
      "    {\n",
      "      \"finish_reason\": \"stop\",\n",
      "      \"index\": 0,\n",
      "      \"message\": {\n",
      "        \"role\": \"assistant\",\n",
      "        \"content\": \"('GDP', 'ORG'),\\n('July', 'DATE'),\\n('September', 'DATE')\\n] <end_output>\"\n",
      "      }\n",
      "    }\n",
      "  ],\n",
      "  \"usage\": {\n",
      "    \"prompt_tokens\": 156,\n",
      "    \"completion_tokens\": 24,\n",
      "    \"total_tokens\": 180\n",
      "  }\n",
      "})\n",
      "-----------------------------------------------\n",
      "response does not contain [()]. Returned [('GDP', 'ORG'),\n",
      "('July', 'DATE'),\n",
      "('September', 'DATE')\n",
      "] <end_output>\n",
      "-----------------------------------------------\n"
     ]
    },
    {
     "name": "stderr",
     "output_type": "stream",
     "text": [
      " 48%|████▊     | 48/100 [00:22<00:20,  2.60it/s]"
     ]
    },
    {
     "name": "stdout",
     "output_type": "stream",
     "text": [
      "(\"('Zieleniec', 'LOCATION'),\\n('Klaus', 'PERSON')\\n]\", <OpenAIObject chat.completion id=chatcmpl-8hysoAk29LxEtI9b6eLKCrr6VS9nP at 0x7f3a7b53e7f0> JSON: {\n",
      "  \"id\": \"chatcmpl-8hysoAk29LxEtI9b6eLKCrr6VS9nP\",\n",
      "  \"object\": \"chat.completion\",\n",
      "  \"created\": 1705492830,\n",
      "  \"model\": \"gpt-35-turbo\",\n",
      "  \"choices\": [\n",
      "    {\n",
      "      \"finish_reason\": \"stop\",\n",
      "      \"index\": 0,\n",
      "      \"message\": {\n",
      "        \"role\": \"assistant\",\n",
      "        \"content\": \"('Zieleniec', 'LOCATION'),\\n('Klaus', 'PERSON')\\n]\"\n",
      "      }\n",
      "    }\n",
      "  ],\n",
      "  \"usage\": {\n",
      "    \"prompt_tokens\": 173,\n",
      "    \"completion_tokens\": 17,\n",
      "    \"total_tokens\": 190\n",
      "  }\n",
      "})\n",
      "-----------------------------------------------\n",
      "response does not contain [()]. Returned [('Zieleniec', 'LOCATION'),\n",
      "('Klaus', 'PERSON')\n",
      "]\n",
      "-----------------------------------------------\n"
     ]
    },
    {
     "name": "stderr",
     "output_type": "stream",
     "text": [
      " 49%|████▉     | 49/100 [00:22<00:18,  2.82it/s]"
     ]
    },
    {
     "name": "stdout",
     "output_type": "stream",
     "text": [
      "(\"('Pakistan', 'LOCATION'),\\n('Australia', 'LOCATION'),\\n('World Series', 'MISC') ] <end_output>\", <OpenAIObject chat.completion id=chatcmpl-8hysoBnMsEa3TZM6Tgd8jot1PQEFA at 0x7f3a7b8c4450> JSON: {\n",
      "  \"id\": \"chatcmpl-8hysoBnMsEa3TZM6Tgd8jot1PQEFA\",\n",
      "  \"object\": \"chat.completion\",\n",
      "  \"created\": 1705492830,\n",
      "  \"model\": \"gpt-35-turbo\",\n",
      "  \"choices\": [\n",
      "    {\n",
      "      \"finish_reason\": \"stop\",\n",
      "      \"index\": 0,\n",
      "      \"message\": {\n",
      "        \"role\": \"assistant\",\n",
      "        \"content\": \"('Pakistan', 'LOCATION'),\\n('Australia', 'LOCATION'),\\n('World Series', 'MISC') ] <end_output>\"\n",
      "      }\n",
      "    }\n",
      "  ],\n",
      "  \"usage\": {\n",
      "    \"prompt_tokens\": 150,\n",
      "    \"completion_tokens\": 25,\n",
      "    \"total_tokens\": 175\n",
      "  }\n",
      "})\n"
     ]
    },
    {
     "name": "stderr",
     "output_type": "stream",
     "text": [
      " 50%|█████     | 50/100 [00:22<00:17,  2.81it/s]"
     ]
    },
    {
     "name": "stdout",
     "output_type": "stream",
     "text": [
      "(\"('Bre-X', 'ORG'), \\n('Barrick', 'ORG') \\n] <end_output>\", <OpenAIObject chat.completion id=chatcmpl-8hysoTMPRmRcsjizgpuIOmQJrvOiW at 0x7f3a851da570> JSON: {\n",
      "  \"id\": \"chatcmpl-8hysoTMPRmRcsjizgpuIOmQJrvOiW\",\n",
      "  \"object\": \"chat.completion\",\n",
      "  \"created\": 1705492830,\n",
      "  \"model\": \"gpt-35-turbo\",\n",
      "  \"choices\": [\n",
      "    {\n",
      "      \"finish_reason\": \"stop\",\n",
      "      \"index\": 0,\n",
      "      \"message\": {\n",
      "        \"role\": \"assistant\",\n",
      "        \"content\": \"('Bre-X', 'ORG'), \\n('Barrick', 'ORG') \\n] <end_output>\"\n",
      "      }\n",
      "    }\n",
      "  ],\n",
      "  \"usage\": {\n",
      "    \"prompt_tokens\": 150,\n",
      "    \"completion_tokens\": 22,\n",
      "    \"total_tokens\": 172\n",
      "  }\n",
      "})\n",
      "-----------------------------------------------\n",
      "response does not contain [()]. Returned [('Bre-X', 'ORG'), \n",
      "('Barrick', 'ORG') \n",
      "] <end_output>\n",
      "-----------------------------------------------\n"
     ]
    },
    {
     "name": "stderr",
     "output_type": "stream",
     "text": [
      " 51%|█████     | 51/100 [00:23<00:18,  2.61it/s]"
     ]
    },
    {
     "name": "stdout",
     "output_type": "stream",
     "text": [
      "('I apologize for the confusion. It seems that there is no sentence provided. Could you please provide a sentence so that I can extract the named entities for you?', <OpenAIObject chat.completion id=chatcmpl-8hysoCPUg841AB2csYSNi3o7PjxS4 at 0x7f3a7b53e7f0> JSON: {\n",
      "  \"id\": \"chatcmpl-8hysoCPUg841AB2csYSNi3o7PjxS4\",\n",
      "  \"object\": \"chat.completion\",\n",
      "  \"created\": 1705492830,\n",
      "  \"model\": \"gpt-35-turbo\",\n",
      "  \"choices\": [\n",
      "    {\n",
      "      \"finish_reason\": \"stop\",\n",
      "      \"index\": 0,\n",
      "      \"message\": {\n",
      "        \"role\": \"assistant\",\n",
      "        \"content\": \"I apologize for the confusion. It seems that there is no sentence provided. Could you please provide a sentence so that I can extract the named entities for you?\"\n",
      "      }\n",
      "    }\n",
      "  ],\n",
      "  \"usage\": {\n",
      "    \"prompt_tokens\": 127,\n",
      "    \"completion_tokens\": 32,\n",
      "    \"total_tokens\": 159\n",
      "  }\n",
      "})\n",
      "-----------------------------------------------\n",
      "response does not contain [()]. Returned [I apologize for the confusion. It seems that there is no sentence provided. Could you please provide a sentence so that I can extract the named entities for you?\n",
      "-----------------------------------------------\n"
     ]
    },
    {
     "name": "stderr",
     "output_type": "stream",
     "text": [
      " 52%|█████▏    | 52/100 [00:23<00:18,  2.59it/s]"
     ]
    },
    {
     "name": "stdout",
     "output_type": "stream",
     "text": [
      "(\"('Doetinchem', 'LOCATION'),\\n('The Super Peasants', 'MISC'),\\n('season', 'MISC')\\n] <end_output>\", <OpenAIObject chat.completion id=chatcmpl-8hyspK5mdRqykRiO5u6zjWocPP0uZ at 0x7f3a8eed3ce0> JSON: {\n",
      "  \"id\": \"chatcmpl-8hyspK5mdRqykRiO5u6zjWocPP0uZ\",\n",
      "  \"object\": \"chat.completion\",\n",
      "  \"created\": 1705492831,\n",
      "  \"model\": \"gpt-35-turbo\",\n",
      "  \"choices\": [\n",
      "    {\n",
      "      \"finish_reason\": \"stop\",\n",
      "      \"index\": 0,\n",
      "      \"message\": {\n",
      "        \"role\": \"assistant\",\n",
      "        \"content\": \"('Doetinchem', 'LOCATION'),\\n('The Super Peasants', 'MISC'),\\n('season', 'MISC')\\n] <end_output>\"\n",
      "      }\n",
      "    }\n",
      "  ],\n",
      "  \"usage\": {\n",
      "    \"prompt_tokens\": 155,\n",
      "    \"completion_tokens\": 32,\n",
      "    \"total_tokens\": 187\n",
      "  }\n",
      "})\n",
      "-----------------------------------------------\n",
      "response does not contain [()]. Returned [('Doetinchem', 'LOCATION'),\n",
      "('The Super Peasants', 'MISC'),\n",
      "('season', 'MISC')\n",
      "] <end_output>\n",
      "-----------------------------------------------\n"
     ]
    },
    {
     "name": "stderr",
     "output_type": "stream",
     "text": [
      " 53%|█████▎    | 53/100 [00:23<00:18,  2.59it/s]"
     ]
    },
    {
     "name": "stdout",
     "output_type": "stream",
     "text": [
      "(\"('Year', 'O'),\\n('March 31 , 1997', 'DATE')\\n] <end_output>\", <OpenAIObject chat.completion id=chatcmpl-8hyspfupIPwTr4TN9rDos9cEeuyzL at 0x7f3a851da570> JSON: {\n",
      "  \"id\": \"chatcmpl-8hyspfupIPwTr4TN9rDos9cEeuyzL\",\n",
      "  \"object\": \"chat.completion\",\n",
      "  \"created\": 1705492831,\n",
      "  \"model\": \"gpt-35-turbo\",\n",
      "  \"choices\": [\n",
      "    {\n",
      "      \"finish_reason\": \"stop\",\n",
      "      \"index\": 0,\n",
      "      \"message\": {\n",
      "        \"role\": \"assistant\",\n",
      "        \"content\": \"('Year', 'O'),\\n('March 31 , 1997', 'DATE')\\n] <end_output>\"\n",
      "      }\n",
      "    }\n",
      "  ],\n",
      "  \"usage\": {\n",
      "    \"prompt_tokens\": 138,\n",
      "    \"completion_tokens\": 23,\n",
      "    \"total_tokens\": 161\n",
      "  }\n",
      "})\n",
      "-----------------------------------------------\n",
      "response does not contain [()]. Returned [('Year', 'O'),\n",
      "('March 31 , 1997', 'DATE')\n",
      "] <end_output>\n",
      "-----------------------------------------------\n"
     ]
    },
    {
     "name": "stderr",
     "output_type": "stream",
     "text": [
      " 54%|█████▍    | 54/100 [00:24<00:16,  2.83it/s]"
     ]
    },
    {
     "name": "stdout",
     "output_type": "stream",
     "text": [
      "(\"('Mexican', 'LOCATION'),\\n('Dec 6', 'DATE')\\n] <end_output>\", <OpenAIObject chat.completion id=chatcmpl-8hysq868s543NqNclYmDs47R58jpU at 0x7f3a851da570> JSON: {\n",
      "  \"id\": \"chatcmpl-8hysq868s543NqNclYmDs47R58jpU\",\n",
      "  \"object\": \"chat.completion\",\n",
      "  \"created\": 1705492832,\n",
      "  \"model\": \"gpt-35-turbo\",\n",
      "  \"choices\": [\n",
      "    {\n",
      "      \"finish_reason\": \"stop\",\n",
      "      \"index\": 0,\n",
      "      \"message\": {\n",
      "        \"role\": \"assistant\",\n",
      "        \"content\": \"('Mexican', 'LOCATION'),\\n('Dec 6', 'DATE')\\n] <end_output>\"\n",
      "      }\n",
      "    }\n",
      "  ],\n",
      "  \"usage\": {\n",
      "    \"prompt_tokens\": 140,\n",
      "    \"completion_tokens\": 20,\n",
      "    \"total_tokens\": 160\n",
      "  }\n",
      "})\n",
      "-----------------------------------------------\n",
      "response does not contain [()]. Returned [('Mexican', 'LOCATION'),\n",
      "('Dec 6', 'DATE')\n",
      "] <end_output>\n",
      "-----------------------------------------------\n"
     ]
    },
    {
     "name": "stderr",
     "output_type": "stream",
     "text": [
      " 55%|█████▌    | 55/100 [00:24<00:19,  2.26it/s]"
     ]
    },
    {
     "name": "stdout",
     "output_type": "stream",
     "text": [
      "('I apologize, but the sentence you provided does not contain any named entities. Named entities are typically proper nouns such as names of people, organizations, locations, etc. Could you please provide a different sentence that contains named entities?', <OpenAIObject chat.completion id=chatcmpl-8hysqzU9N5c0HN0BA4aNtmInQ7f83 at 0x7f3a7b8c4450> JSON: {\n",
      "  \"id\": \"chatcmpl-8hysqzU9N5c0HN0BA4aNtmInQ7f83\",\n",
      "  \"object\": \"chat.completion\",\n",
      "  \"created\": 1705492832,\n",
      "  \"model\": \"gpt-35-turbo\",\n",
      "  \"choices\": [\n",
      "    {\n",
      "      \"finish_reason\": \"stop\",\n",
      "      \"index\": 0,\n",
      "      \"message\": {\n",
      "        \"role\": \"assistant\",\n",
      "        \"content\": \"I apologize, but the sentence you provided does not contain any named entities. Named entities are typically proper nouns such as names of people, organizations, locations, etc. Could you please provide a different sentence that contains named entities?\"\n",
      "      }\n",
      "    }\n",
      "  ],\n",
      "  \"usage\": {\n",
      "    \"prompt_tokens\": 139,\n",
      "    \"completion_tokens\": 45,\n",
      "    \"total_tokens\": 184\n",
      "  }\n",
      "})\n",
      "-----------------------------------------------\n",
      "response does not contain [()]. Returned [I apologize, but the sentence you provided does not contain any named entities. Named entities are typically proper nouns such as names of people, organizations, locations, etc. Could you please provide a different sentence that contains named entities?\n",
      "-----------------------------------------------\n"
     ]
    },
    {
     "name": "stderr",
     "output_type": "stream",
     "text": [
      " 56%|█████▌    | 56/100 [00:25<00:17,  2.52it/s]"
     ]
    },
    {
     "name": "stdout",
     "output_type": "stream",
     "text": [
      "(\"('Mexico', 'LOCATION'),\\n('Greenspan', 'PERSON')\\n] <end_output>\", <OpenAIObject chat.completion id=chatcmpl-8hysrpU3o8DTWa4xyyCO2M5oaaJXs at 0x7f3a72c66c50> JSON: {\n",
      "  \"id\": \"chatcmpl-8hysrpU3o8DTWa4xyyCO2M5oaaJXs\",\n",
      "  \"object\": \"chat.completion\",\n",
      "  \"created\": 1705492833,\n",
      "  \"model\": \"gpt-35-turbo\",\n",
      "  \"choices\": [\n",
      "    {\n",
      "      \"finish_reason\": \"stop\",\n",
      "      \"index\": 0,\n",
      "      \"message\": {\n",
      "        \"role\": \"assistant\",\n",
      "        \"content\": \"('Mexico', 'LOCATION'),\\n('Greenspan', 'PERSON')\\n] <end_output>\"\n",
      "      }\n",
      "    }\n",
      "  ],\n",
      "  \"usage\": {\n",
      "    \"prompt_tokens\": 140,\n",
      "    \"completion_tokens\": 19,\n",
      "    \"total_tokens\": 159\n",
      "  }\n",
      "})\n",
      "-----------------------------------------------\n",
      "response does not contain [()]. Returned [('Mexico', 'LOCATION'),\n",
      "('Greenspan', 'PERSON')\n",
      "] <end_output>\n",
      "-----------------------------------------------\n"
     ]
    },
    {
     "name": "stderr",
     "output_type": "stream",
     "text": [
      " 57%|█████▋    | 57/100 [00:25<00:17,  2.45it/s]"
     ]
    },
    {
     "name": "stdout",
     "output_type": "stream",
     "text": [
      "(\"('several', 'MISC'),\\n('innings', 'MISC'),\\n('crowd', 'MISC'),\\n('obscene', 'MISC')\\n] <end_output>\", <OpenAIObject chat.completion id=chatcmpl-8hysrMFyMvb6qvq0SgniOkVhlmfA7 at 0x7f3a71d71f80> JSON: {\n",
      "  \"id\": \"chatcmpl-8hysrMFyMvb6qvq0SgniOkVhlmfA7\",\n",
      "  \"object\": \"chat.completion\",\n",
      "  \"created\": 1705492833,\n",
      "  \"model\": \"gpt-35-turbo\",\n",
      "  \"choices\": [\n",
      "    {\n",
      "      \"finish_reason\": \"stop\",\n",
      "      \"index\": 0,\n",
      "      \"message\": {\n",
      "        \"role\": \"assistant\",\n",
      "        \"content\": \"('several', 'MISC'),\\n('innings', 'MISC'),\\n('crowd', 'MISC'),\\n('obscene', 'MISC')\\n] <end_output>\"\n",
      "      }\n",
      "    }\n",
      "  ],\n",
      "  \"usage\": {\n",
      "    \"prompt_tokens\": 149,\n",
      "    \"completion_tokens\": 37,\n",
      "    \"total_tokens\": 186\n",
      "  }\n",
      "})\n",
      "-----------------------------------------------\n",
      "response does not contain [()]. Returned [('several', 'MISC'),\n",
      "('innings', 'MISC'),\n",
      "('crowd', 'MISC'),\n",
      "('obscene', 'MISC')\n",
      "] <end_output>\n",
      "-----------------------------------------------\n"
     ]
    },
    {
     "name": "stderr",
     "output_type": "stream",
     "text": [
      " 58%|█████▊    | 58/100 [00:25<00:16,  2.59it/s]"
     ]
    },
    {
     "name": "stdout",
     "output_type": "stream",
     "text": [
      "(\"('police', 'ORG'),\\n('newspapers', 'ORG'),\\n('student', 'PERSON')\\n] <end_output>\", <OpenAIObject chat.completion id=chatcmpl-8hysrscTn1UTaK3xJnG7wDQ4NeO3z at 0x7f3a7b53e7f0> JSON: {\n",
      "  \"id\": \"chatcmpl-8hysrscTn1UTaK3xJnG7wDQ4NeO3z\",\n",
      "  \"object\": \"chat.completion\",\n",
      "  \"created\": 1705492833,\n",
      "  \"model\": \"gpt-35-turbo\",\n",
      "  \"choices\": [\n",
      "    {\n",
      "      \"finish_reason\": \"stop\",\n",
      "      \"index\": 0,\n",
      "      \"message\": {\n",
      "        \"role\": \"assistant\",\n",
      "        \"content\": \"('police', 'ORG'),\\n('newspapers', 'ORG'),\\n('student', 'PERSON')\\n] <end_output>\"\n",
      "      }\n",
      "    }\n",
      "  ],\n",
      "  \"usage\": {\n",
      "    \"prompt_tokens\": 144,\n",
      "    \"completion_tokens\": 26,\n",
      "    \"total_tokens\": 170\n",
      "  }\n",
      "})\n",
      "-----------------------------------------------\n",
      "response does not contain [()]. Returned [('police', 'ORG'),\n",
      "('newspapers', 'ORG'),\n",
      "('student', 'PERSON')\n",
      "] <end_output>\n",
      "-----------------------------------------------\n"
     ]
    },
    {
     "name": "stderr",
     "output_type": "stream",
     "text": [
      " 59%|█████▉    | 59/100 [00:26<00:16,  2.56it/s]"
     ]
    },
    {
     "name": "stdout",
     "output_type": "stream",
     "text": [
      "('(\"joy\", \"MISC\"), \\n(\"period\", \"MISC\"), \\n(\"people\", \"MISC\"), \\n(\"I\", \"PERSON\"), \\n(\"he\", \"PERSON\")] \\n<end_output>', <OpenAIObject chat.completion id=chatcmpl-8hysszGWn3JE95RXumReTQKVjRqdo at 0x7f3a7b53e7f0> JSON: {\n",
      "  \"id\": \"chatcmpl-8hysszGWn3JE95RXumReTQKVjRqdo\",\n",
      "  \"object\": \"chat.completion\",\n",
      "  \"created\": 1705492834,\n",
      "  \"model\": \"gpt-35-turbo\",\n",
      "  \"choices\": [\n",
      "    {\n",
      "      \"finish_reason\": \"stop\",\n",
      "      \"index\": 0,\n",
      "      \"message\": {\n",
      "        \"role\": \"assistant\",\n",
      "        \"content\": \"(\\\"joy\\\", \\\"MISC\\\"), \\n(\\\"period\\\", \\\"MISC\\\"), \\n(\\\"people\\\", \\\"MISC\\\"), \\n(\\\"I\\\", \\\"PERSON\\\"), \\n(\\\"he\\\", \\\"PERSON\\\")] \\n<end_output>\"\n",
      "      }\n",
      "    }\n",
      "  ],\n",
      "  \"usage\": {\n",
      "    \"prompt_tokens\": 162,\n",
      "    \"completion_tokens\": 42,\n",
      "    \"total_tokens\": 204\n",
      "  }\n",
      "})\n"
     ]
    },
    {
     "name": "stderr",
     "output_type": "stream",
     "text": [
      " 60%|██████    | 60/100 [00:26<00:17,  2.34it/s]"
     ]
    },
    {
     "name": "stdout",
     "output_type": "stream",
     "text": [
      "(\"('70,000', 'MISC'),\\n('Kurdish', 'MISC'),\\n('Kurdistan Workers Party', 'ORG'),\\n('PKK', 'ORG'),\\n('southeast', 'LOC')\\n] <end_output>\", <OpenAIObject chat.completion id=chatcmpl-8hyss66x7vk6x21qlfRJB1As0hagy at 0x7f3a72c66c50> JSON: {\n",
      "  \"id\": \"chatcmpl-8hyss66x7vk6x21qlfRJB1As0hagy\",\n",
      "  \"object\": \"chat.completion\",\n",
      "  \"created\": 1705492834,\n",
      "  \"model\": \"gpt-35-turbo\",\n",
      "  \"choices\": [\n",
      "    {\n",
      "      \"finish_reason\": \"stop\",\n",
      "      \"index\": 0,\n",
      "      \"message\": {\n",
      "        \"role\": \"assistant\",\n",
      "        \"content\": \"('70,000', 'MISC'),\\n('Kurdish', 'MISC'),\\n('Kurdistan Workers Party', 'ORG'),\\n('PKK', 'ORG'),\\n('southeast', 'LOC')\\n] <end_output>\"\n",
      "      }\n",
      "    }\n",
      "  ],\n",
      "  \"usage\": {\n",
      "    \"prompt_tokens\": 171,\n",
      "    \"completion_tokens\": 48,\n",
      "    \"total_tokens\": 219\n",
      "  }\n",
      "})\n",
      "-----------------------------------------------\n",
      "response does not contain [()]. Returned [('70,000', 'MISC'),\n",
      "('Kurdish', 'MISC'),\n",
      "('Kurdistan Workers Party', 'ORG'),\n",
      "('PKK', 'ORG'),\n",
      "('southeast', 'LOC')\n",
      "] <end_output>\n",
      "-----------------------------------------------\n"
     ]
    },
    {
     "name": "stderr",
     "output_type": "stream",
     "text": [
      " 61%|██████    | 61/100 [00:27<00:15,  2.51it/s]"
     ]
    },
    {
     "name": "stdout",
     "output_type": "stream",
     "text": [
      "(\"('Manchester United', 'ORG'), ('2-0', 'MISC')]\\n\\n<end_output>\", <OpenAIObject chat.completion id=chatcmpl-8hyst4Fyhb5aoT5sLfrxVlP4Dc6Xy at 0x7f3a851da570> JSON: {\n",
      "  \"id\": \"chatcmpl-8hyst4Fyhb5aoT5sLfrxVlP4Dc6Xy\",\n",
      "  \"object\": \"chat.completion\",\n",
      "  \"created\": 1705492835,\n",
      "  \"model\": \"gpt-35-turbo\",\n",
      "  \"choices\": [\n",
      "    {\n",
      "      \"finish_reason\": \"stop\",\n",
      "      \"index\": 0,\n",
      "      \"message\": {\n",
      "        \"role\": \"assistant\",\n",
      "        \"content\": \"('Manchester United', 'ORG'), ('2-0', 'MISC')]\\n\\n<end_output>\"\n",
      "      }\n",
      "    }\n",
      "  ],\n",
      "  \"usage\": {\n",
      "    \"prompt_tokens\": 137,\n",
      "    \"completion_tokens\": 21,\n",
      "    \"total_tokens\": 158\n",
      "  }\n",
      "})\n"
     ]
    },
    {
     "name": "stderr",
     "output_type": "stream",
     "text": [
      " 62%|██████▏   | 62/100 [00:27<00:15,  2.40it/s]"
     ]
    },
    {
     "name": "stdout",
     "output_type": "stream",
     "text": [
      "(\"('Indian', 'MISC'),\\n('Moslem', 'MISC'),\\n('Bombay', 'LOCATION'),\\n('260', 'MISC')]\\n\\n<end_output>\", <OpenAIObject chat.completion id=chatcmpl-8hystMPOFYgTzICPCxlSqt4SrrBFj at 0x7f3a72c66c50> JSON: {\n",
      "  \"id\": \"chatcmpl-8hystMPOFYgTzICPCxlSqt4SrrBFj\",\n",
      "  \"object\": \"chat.completion\",\n",
      "  \"created\": 1705492835,\n",
      "  \"model\": \"gpt-35-turbo\",\n",
      "  \"choices\": [\n",
      "    {\n",
      "      \"finish_reason\": \"stop\",\n",
      "      \"index\": 0,\n",
      "      \"message\": {\n",
      "        \"role\": \"assistant\",\n",
      "        \"content\": \"('Indian', 'MISC'),\\n('Moslem', 'MISC'),\\n('Bombay', 'LOCATION'),\\n('260', 'MISC')]\\n\\n<end_output>\"\n",
      "      }\n",
      "    }\n",
      "  ],\n",
      "  \"usage\": {\n",
      "    \"prompt_tokens\": 157,\n",
      "    \"completion_tokens\": 34,\n",
      "    \"total_tokens\": 191\n",
      "  }\n",
      "})\n"
     ]
    },
    {
     "name": "stderr",
     "output_type": "stream",
     "text": [
      " 63%|██████▎   | 63/100 [00:27<00:14,  2.57it/s]"
     ]
    },
    {
     "name": "stdout",
     "output_type": "stream",
     "text": [
      "(\"('Buza', 'PERSON'),\\n('Gjonaj', 'PERSON')]\\n\\n<end_output>\", <OpenAIObject chat.completion id=chatcmpl-8hysteKfFvfnFRcaCVWS8tWo1le8i at 0x7f3a7b8c4450> JSON: {\n",
      "  \"id\": \"chatcmpl-8hysteKfFvfnFRcaCVWS8tWo1le8i\",\n",
      "  \"object\": \"chat.completion\",\n",
      "  \"created\": 1705492835,\n",
      "  \"model\": \"gpt-35-turbo\",\n",
      "  \"choices\": [\n",
      "    {\n",
      "      \"finish_reason\": \"stop\",\n",
      "      \"index\": 0,\n",
      "      \"message\": {\n",
      "        \"role\": \"assistant\",\n",
      "        \"content\": \"('Buza', 'PERSON'),\\n('Gjonaj', 'PERSON')]\\n\\n<end_output>\"\n",
      "      }\n",
      "    }\n",
      "  ],\n",
      "  \"usage\": {\n",
      "    \"prompt_tokens\": 153,\n",
      "    \"completion_tokens\": 20,\n",
      "    \"total_tokens\": 173\n",
      "  }\n",
      "})\n"
     ]
    },
    {
     "name": "stderr",
     "output_type": "stream",
     "text": [
      " 64%|██████▍   | 64/100 [00:28<00:13,  2.64it/s]"
     ]
    },
    {
     "name": "stdout",
     "output_type": "stream",
     "text": [
      "(\"('1 million', 'NUMBER'),\\n('United States', 'LOCATION'),\\n('Friday', 'DATE')]\\n\\n<end_output>\", <OpenAIObject chat.completion id=chatcmpl-8hysuEDs54TNEeMQ3XFvaUd6yX1CV at 0x7f3a72c66c50> JSON: {\n",
      "  \"id\": \"chatcmpl-8hysuEDs54TNEeMQ3XFvaUd6yX1CV\",\n",
      "  \"object\": \"chat.completion\",\n",
      "  \"created\": 1705492836,\n",
      "  \"model\": \"gpt-35-turbo\",\n",
      "  \"choices\": [\n",
      "    {\n",
      "      \"finish_reason\": \"stop\",\n",
      "      \"index\": 0,\n",
      "      \"message\": {\n",
      "        \"role\": \"assistant\",\n",
      "        \"content\": \"('1 million', 'NUMBER'),\\n('United States', 'LOCATION'),\\n('Friday', 'DATE')]\\n\\n<end_output>\"\n",
      "      }\n",
      "    }\n",
      "  ],\n",
      "  \"usage\": {\n",
      "    \"prompt_tokens\": 163,\n",
      "    \"completion_tokens\": 25,\n",
      "    \"total_tokens\": 188\n",
      "  }\n",
      "})\n"
     ]
    },
    {
     "name": "stderr",
     "output_type": "stream",
     "text": [
      " 65%|██████▌   | 65/100 [00:28<00:13,  2.55it/s]"
     ]
    },
    {
     "name": "stdout",
     "output_type": "stream",
     "text": [
      "(\"('SOCCER', 'MISC'),\\n('ENGLISHMAN CHARLTON', 'PERSON'),\\n('IRISHMAN', 'MISC') ]\", <OpenAIObject chat.completion id=chatcmpl-8hysuwWOrRZ0vW56FMtcDQT3r9rv5 at 0x7f3a71d710d0> JSON: {\n",
      "  \"id\": \"chatcmpl-8hysuwWOrRZ0vW56FMtcDQT3r9rv5\",\n",
      "  \"object\": \"chat.completion\",\n",
      "  \"created\": 1705492836,\n",
      "  \"model\": \"gpt-35-turbo\",\n",
      "  \"choices\": [\n",
      "    {\n",
      "      \"finish_reason\": \"stop\",\n",
      "      \"index\": 0,\n",
      "      \"message\": {\n",
      "        \"role\": \"assistant\",\n",
      "        \"content\": \"('SOCCER', 'MISC'),\\n('ENGLISHMAN CHARLTON', 'PERSON'),\\n('IRISHMAN', 'MISC') ]\"\n",
      "      }\n",
      "    }\n",
      "  ],\n",
      "  \"usage\": {\n",
      "    \"prompt_tokens\": 150,\n",
      "    \"completion_tokens\": 30,\n",
      "    \"total_tokens\": 180\n",
      "  }\n",
      "})\n"
     ]
    },
    {
     "name": "stderr",
     "output_type": "stream",
     "text": [
      " 66%|██████▌   | 66/100 [00:29<00:12,  2.80it/s]"
     ]
    },
    {
     "name": "stdout",
     "output_type": "stream",
     "text": [
      "(\"('Eagles', 'ORG'),\\n('five seconds', 'MISC')\\n] <end_output>\", <OpenAIObject chat.completion id=chatcmpl-8hysuyK8PiszJwiTZBRojeLr4OGoF at 0x7f3a851da570> JSON: {\n",
      "  \"id\": \"chatcmpl-8hysuyK8PiszJwiTZBRojeLr4OGoF\",\n",
      "  \"object\": \"chat.completion\",\n",
      "  \"created\": 1705492836,\n",
      "  \"model\": \"gpt-35-turbo\",\n",
      "  \"choices\": [\n",
      "    {\n",
      "      \"finish_reason\": \"stop\",\n",
      "      \"index\": 0,\n",
      "      \"message\": {\n",
      "        \"role\": \"assistant\",\n",
      "        \"content\": \"('Eagles', 'ORG'),\\n('five seconds', 'MISC')\\n] <end_output>\"\n",
      "      }\n",
      "    }\n",
      "  ],\n",
      "  \"usage\": {\n",
      "    \"prompt_tokens\": 142,\n",
      "    \"completion_tokens\": 21,\n",
      "    \"total_tokens\": 163\n",
      "  }\n",
      "})\n",
      "-----------------------------------------------\n",
      "response does not contain [()]. Returned [('Eagles', 'ORG'),\n",
      "('five seconds', 'MISC')\n",
      "] <end_output>\n",
      "-----------------------------------------------\n"
     ]
    },
    {
     "name": "stderr",
     "output_type": "stream",
     "text": [
      " 67%|██████▋   | 67/100 [00:29<00:15,  2.20it/s]"
     ]
    },
    {
     "name": "stdout",
     "output_type": "stream",
     "text": [
      "(\"('Rosati', 'PERSON'),\\n('1970s', 'MISC'),\\n('1949', 'MISC'),\\n('Warsaw', 'LOCATION'),\\n('Switzerland', 'LOCATION'),\\n('Soviet-imposed', 'ORGANIZATION'),\\n('World War Two', 'MISC') ]\", <OpenAIObject chat.completion id=chatcmpl-8hysvgLiK8gbdDebcGeRKFp3tzoJz at 0x7f3a7b8c4450> JSON: {\n",
      "  \"id\": \"chatcmpl-8hysvgLiK8gbdDebcGeRKFp3tzoJz\",\n",
      "  \"object\": \"chat.completion\",\n",
      "  \"created\": 1705492837,\n",
      "  \"model\": \"gpt-35-turbo\",\n",
      "  \"choices\": [\n",
      "    {\n",
      "      \"finish_reason\": \"stop\",\n",
      "      \"index\": 0,\n",
      "      \"message\": {\n",
      "        \"role\": \"assistant\",\n",
      "        \"content\": \"('Rosati', 'PERSON'),\\n('1970s', 'MISC'),\\n('1949', 'MISC'),\\n('Warsaw', 'LOCATION'),\\n('Switzerland', 'LOCATION'),\\n('Soviet-imposed', 'ORGANIZATION'),\\n('World War Two', 'MISC') ]\"\n",
      "      }\n",
      "    }\n",
      "  ],\n",
      "  \"usage\": {\n",
      "    \"prompt_tokens\": 176,\n",
      "    \"completion_tokens\": 60,\n",
      "    \"total_tokens\": 236\n",
      "  }\n",
      "})\n"
     ]
    },
    {
     "name": "stderr",
     "output_type": "stream",
     "text": [
      " 68%|██████▊   | 68/100 [00:30<00:15,  2.02it/s]"
     ]
    },
    {
     "name": "stdout",
     "output_type": "stream",
     "text": [
      "(\"('eight', 'MISC'),\\n('the people', 'MISC'),\\n('the party', 'ORG'),\\n('the girl', 'PERSON'),\\n('father', 'PERSON'),\\n('they', 'MISC'),\\n('smoking', 'MISC')]\\n\\n<end_output>\", <OpenAIObject chat.completion id=chatcmpl-8hysvl43S5gT3kWQYRUh0sjI9iBy6 at 0x7f3a72c66c50> JSON: {\n",
      "  \"id\": \"chatcmpl-8hysvl43S5gT3kWQYRUh0sjI9iBy6\",\n",
      "  \"object\": \"chat.completion\",\n",
      "  \"created\": 1705492837,\n",
      "  \"model\": \"gpt-35-turbo\",\n",
      "  \"choices\": [\n",
      "    {\n",
      "      \"finish_reason\": \"stop\",\n",
      "      \"index\": 0,\n",
      "      \"message\": {\n",
      "        \"role\": \"assistant\",\n",
      "        \"content\": \"('eight', 'MISC'),\\n('the people', 'MISC'),\\n('the party', 'ORG'),\\n('the girl', 'PERSON'),\\n('father', 'PERSON'),\\n('they', 'MISC'),\\n('smoking', 'MISC')]\\n\\n<end_output>\"\n",
      "      }\n",
      "    }\n",
      "  ],\n",
      "  \"usage\": {\n",
      "    \"prompt_tokens\": 154,\n",
      "    \"completion_tokens\": 55,\n",
      "    \"total_tokens\": 209\n",
      "  }\n",
      "})\n"
     ]
    },
    {
     "name": "stderr",
     "output_type": "stream",
     "text": [
      " 69%|██████▉   | 69/100 [00:30<00:15,  1.94it/s]"
     ]
    },
    {
     "name": "stdout",
     "output_type": "stream",
     "text": [
      "(\"('Jones', 'PERSON'),\\n('Tasmanian', 'MISC'),\\n('David Boon', 'PERSON'),\\n('Shaun Young', 'PERSON'),\\n('Michael DiVenuto', 'PERSON')]\\n\\n<end_output>\", <OpenAIObject chat.completion id=chatcmpl-8hyswVCXKKj1v6eN3aTrhV5uQw3zg at 0x7f3a745303b0> JSON: {\n",
      "  \"id\": \"chatcmpl-8hyswVCXKKj1v6eN3aTrhV5uQw3zg\",\n",
      "  \"object\": \"chat.completion\",\n",
      "  \"created\": 1705492838,\n",
      "  \"model\": \"gpt-35-turbo\",\n",
      "  \"choices\": [\n",
      "    {\n",
      "      \"finish_reason\": \"stop\",\n",
      "      \"index\": 0,\n",
      "      \"message\": {\n",
      "        \"role\": \"assistant\",\n",
      "        \"content\": \"('Jones', 'PERSON'),\\n('Tasmanian', 'MISC'),\\n('David Boon', 'PERSON'),\\n('Shaun Young', 'PERSON'),\\n('Michael DiVenuto', 'PERSON')]\\n\\n<end_output>\"\n",
      "      }\n",
      "    }\n",
      "  ],\n",
      "  \"usage\": {\n",
      "    \"prompt_tokens\": 160,\n",
      "    \"completion_tokens\": 46,\n",
      "    \"total_tokens\": 206\n",
      "  }\n",
      "})\n"
     ]
    },
    {
     "name": "stderr",
     "output_type": "stream",
     "text": [
      " 70%|███████   | 70/100 [00:31<00:14,  2.13it/s]"
     ]
    },
    {
     "name": "stdout",
     "output_type": "stream",
     "text": [
      "(\"('defendant', 'PERSON'),\\n('authorities', 'ORGANIZATION'),\\n('$ 20,000', 'MONEY')\\n] <end_output>\", <OpenAIObject chat.completion id=chatcmpl-8hysx2qBDslvSd0O7YuUsMJEFMnYp at 0x7f3a7b8d2f20> JSON: {\n",
      "  \"id\": \"chatcmpl-8hysx2qBDslvSd0O7YuUsMJEFMnYp\",\n",
      "  \"object\": \"chat.completion\",\n",
      "  \"created\": 1705492839,\n",
      "  \"model\": \"gpt-35-turbo\",\n",
      "  \"choices\": [\n",
      "    {\n",
      "      \"finish_reason\": \"stop\",\n",
      "      \"index\": 0,\n",
      "      \"message\": {\n",
      "        \"role\": \"assistant\",\n",
      "        \"content\": \"('defendant', 'PERSON'),\\n('authorities', 'ORGANIZATION'),\\n('$ 20,000', 'MONEY')\\n] <end_output>\"\n",
      "      }\n",
      "    }\n",
      "  ],\n",
      "  \"usage\": {\n",
      "    \"prompt_tokens\": 155,\n",
      "    \"completion_tokens\": 31,\n",
      "    \"total_tokens\": 186\n",
      "  }\n",
      "})\n",
      "-----------------------------------------------\n",
      "response does not contain [()]. Returned [('defendant', 'PERSON'),\n",
      "('authorities', 'ORGANIZATION'),\n",
      "('$ 20,000', 'MONEY')\n",
      "] <end_output>\n",
      "-----------------------------------------------\n"
     ]
    },
    {
     "name": "stderr",
     "output_type": "stream",
     "text": [
      " 71%|███████   | 71/100 [00:31<00:12,  2.34it/s]"
     ]
    },
    {
     "name": "stdout",
     "output_type": "stream",
     "text": [
      "(\"('New York', 'LOCATION'),\\n('Dec 5', 'DATE')\\n] <end_output>\", <OpenAIObject chat.completion id=chatcmpl-8hysx5hYDzokBRPTgff2w2sDs8Sjd at 0x7f3a7b53e7f0> JSON: {\n",
      "  \"id\": \"chatcmpl-8hysx5hYDzokBRPTgff2w2sDs8Sjd\",\n",
      "  \"object\": \"chat.completion\",\n",
      "  \"created\": 1705492839,\n",
      "  \"model\": \"gpt-35-turbo\",\n",
      "  \"choices\": [\n",
      "    {\n",
      "      \"finish_reason\": \"stop\",\n",
      "      \"index\": 0,\n",
      "      \"message\": {\n",
      "        \"role\": \"assistant\",\n",
      "        \"content\": \"('New York', 'LOCATION'),\\n('Dec 5', 'DATE')\\n] <end_output>\"\n",
      "      }\n",
      "    }\n",
      "  ],\n",
      "  \"usage\": {\n",
      "    \"prompt_tokens\": 139,\n",
      "    \"completion_tokens\": 20,\n",
      "    \"total_tokens\": 159\n",
      "  }\n",
      "})\n",
      "-----------------------------------------------\n",
      "response does not contain [()]. Returned [('New York', 'LOCATION'),\n",
      "('Dec 5', 'DATE')\n",
      "] <end_output>\n",
      "-----------------------------------------------\n"
     ]
    },
    {
     "name": "stderr",
     "output_type": "stream",
     "text": [
      " 72%|███████▏  | 72/100 [00:31<00:10,  2.56it/s]"
     ]
    },
    {
     "name": "stdout",
     "output_type": "stream",
     "text": [
      "(\"('Frederick', 'PERSON'),\\n('347-year', 'MISC') ] <end_output>\", <OpenAIObject chat.completion id=chatcmpl-8hysxk41mJ3kXz6aYl32915eSerZJ at 0x7f3a7b8c4450> JSON: {\n",
      "  \"id\": \"chatcmpl-8hysxk41mJ3kXz6aYl32915eSerZJ\",\n",
      "  \"object\": \"chat.completion\",\n",
      "  \"created\": 1705492839,\n",
      "  \"model\": \"gpt-35-turbo\",\n",
      "  \"choices\": [\n",
      "    {\n",
      "      \"finish_reason\": \"stop\",\n",
      "      \"index\": 0,\n",
      "      \"message\": {\n",
      "        \"role\": \"assistant\",\n",
      "        \"content\": \"('Frederick', 'PERSON'),\\n('347-year', 'MISC') ] <end_output>\"\n",
      "      }\n",
      "    }\n",
      "  ],\n",
      "  \"usage\": {\n",
      "    \"prompt_tokens\": 138,\n",
      "    \"completion_tokens\": 21,\n",
      "    \"total_tokens\": 159\n",
      "  }\n",
      "})\n"
     ]
    },
    {
     "name": "stderr",
     "output_type": "stream",
     "text": [
      " 73%|███████▎  | 73/100 [00:32<00:10,  2.64it/s]"
     ]
    },
    {
     "name": "stdout",
     "output_type": "stream",
     "text": [
      "(\"('Aly Ashour', 'PERSON'),\\n('Mohamed Ouda', 'PERSON')\\n] <end_output>\", <OpenAIObject chat.completion id=chatcmpl-8hysyIGugZJ5IH7f6ilowZb5q2xSk at 0x7f3a71d710d0> JSON: {\n",
      "  \"id\": \"chatcmpl-8hysyIGugZJ5IH7f6ilowZb5q2xSk\",\n",
      "  \"object\": \"chat.completion\",\n",
      "  \"created\": 1705492840,\n",
      "  \"model\": \"gpt-35-turbo\",\n",
      "  \"choices\": [\n",
      "    {\n",
      "      \"finish_reason\": \"stop\",\n",
      "      \"index\": 0,\n",
      "      \"message\": {\n",
      "        \"role\": \"assistant\",\n",
      "        \"content\": \"('Aly Ashour', 'PERSON'),\\n('Mohamed Ouda', 'PERSON')\\n] <end_output>\"\n",
      "      }\n",
      "    }\n",
      "  ],\n",
      "  \"usage\": {\n",
      "    \"prompt_tokens\": 147,\n",
      "    \"completion_tokens\": 23,\n",
      "    \"total_tokens\": 170\n",
      "  }\n",
      "})\n",
      "-----------------------------------------------\n",
      "response does not contain [()]. Returned [('Aly Ashour', 'PERSON'),\n",
      "('Mohamed Ouda', 'PERSON')\n",
      "] <end_output>\n",
      "-----------------------------------------------\n"
     ]
    },
    {
     "name": "stderr",
     "output_type": "stream",
     "text": [
      " 74%|███████▍  | 74/100 [00:32<00:09,  2.62it/s]"
     ]
    },
    {
     "name": "stdout",
     "output_type": "stream",
     "text": [
      "(\"('How', 'O'),\\n('can', 'O'),\\n('we', 'O'),\\n('control', 'O'),\\n('them', 'O'),\\n('all', 'O')]\\n\\n<end_output>\", <OpenAIObject chat.completion id=chatcmpl-8hysyJm1jjDej6K8y1lNKUgspSNX5 at 0x7f3a745303b0> JSON: {\n",
      "  \"id\": \"chatcmpl-8hysyJm1jjDej6K8y1lNKUgspSNX5\",\n",
      "  \"object\": \"chat.completion\",\n",
      "  \"created\": 1705492840,\n",
      "  \"model\": \"gpt-35-turbo\",\n",
      "  \"choices\": [\n",
      "    {\n",
      "      \"finish_reason\": \"stop\",\n",
      "      \"index\": 0,\n",
      "      \"message\": {\n",
      "        \"role\": \"assistant\",\n",
      "        \"content\": \"('How', 'O'),\\n('can', 'O'),\\n('we', 'O'),\\n('control', 'O'),\\n('them', 'O'),\\n('all', 'O')]\\n\\n<end_output>\"\n",
      "      }\n",
      "    }\n",
      "  ],\n",
      "  \"usage\": {\n",
      "    \"prompt_tokens\": 137,\n",
      "    \"completion_tokens\": 41,\n",
      "    \"total_tokens\": 178\n",
      "  }\n",
      "})\n"
     ]
    },
    {
     "name": "stderr",
     "output_type": "stream",
     "text": [
      " 75%|███████▌  | 75/100 [00:33<00:10,  2.39it/s]"
     ]
    },
    {
     "name": "stdout",
     "output_type": "stream",
     "text": [
      "('(\"Hyundai Heavy\", \"ORG\"),\\n(\"$60 million\", \"MONEY\"),\\n(\"dollar\", \"MONEY\"),\\n(\"Monday\", \"DATE\"),\\n(\"Koram Bank\", \"ORG\") ]', <OpenAIObject chat.completion id=chatcmpl-8hysyRiwRvSGQmCLlaDXtpbvhTNKw at 0x7f3a7b8c4450> JSON: {\n",
      "  \"id\": \"chatcmpl-8hysyRiwRvSGQmCLlaDXtpbvhTNKw\",\n",
      "  \"object\": \"chat.completion\",\n",
      "  \"created\": 1705492840,\n",
      "  \"model\": \"gpt-35-turbo\",\n",
      "  \"choices\": [\n",
      "    {\n",
      "      \"finish_reason\": \"stop\",\n",
      "      \"index\": 0,\n",
      "      \"message\": {\n",
      "        \"role\": \"assistant\",\n",
      "        \"content\": \"(\\\"Hyundai Heavy\\\", \\\"ORG\\\"),\\n(\\\"$60 million\\\", \\\"MONEY\\\"),\\n(\\\"dollar\\\", \\\"MONEY\\\"),\\n(\\\"Monday\\\", \\\"DATE\\\"),\\n(\\\"Koram Bank\\\", \\\"ORG\\\") ]\"\n",
      "      }\n",
      "    }\n",
      "  ],\n",
      "  \"usage\": {\n",
      "    \"prompt_tokens\": 168,\n",
      "    \"completion_tokens\": 39,\n",
      "    \"total_tokens\": 207\n",
      "  }\n",
      "})\n"
     ]
    },
    {
     "name": "stderr",
     "output_type": "stream",
     "text": [
      " 76%|███████▌  | 76/100 [00:33<00:08,  2.67it/s]"
     ]
    },
    {
     "name": "stdout",
     "output_type": "stream",
     "text": [
      "('(\"him\", \"PERSON\"),\\n(\"he\", \"PERSON\") ] <end_output>', <OpenAIObject chat.completion id=chatcmpl-8hyszg1VTKCe3mi9nf0pkm7CKnuBL at 0x7f3a7b53e7f0> JSON: {\n",
      "  \"id\": \"chatcmpl-8hyszg1VTKCe3mi9nf0pkm7CKnuBL\",\n",
      "  \"object\": \"chat.completion\",\n",
      "  \"created\": 1705492841,\n",
      "  \"model\": \"gpt-35-turbo\",\n",
      "  \"choices\": [\n",
      "    {\n",
      "      \"finish_reason\": \"stop\",\n",
      "      \"index\": 0,\n",
      "      \"message\": {\n",
      "        \"role\": \"assistant\",\n",
      "        \"content\": \"(\\\"him\\\", \\\"PERSON\\\"),\\n(\\\"he\\\", \\\"PERSON\\\") ] <end_output>\"\n",
      "      }\n",
      "    }\n",
      "  ],\n",
      "  \"usage\": {\n",
      "    \"prompt_tokens\": 148,\n",
      "    \"completion_tokens\": 17,\n",
      "    \"total_tokens\": 165\n",
      "  }\n",
      "})\n"
     ]
    },
    {
     "name": "stderr",
     "output_type": "stream",
     "text": [
      " 77%|███████▋  | 77/100 [00:33<00:08,  2.71it/s]"
     ]
    },
    {
     "name": "stdout",
     "output_type": "stream",
     "text": [
      "(\"('CAN', 'MISC'),\\n('U.S. DOLLAR', 'MISC'),\\n('EXCHANGE RATE', 'MISC')\", <OpenAIObject chat.completion id=chatcmpl-8hyszigJzi2FmDlBnhNqGKM0ssPD7 at 0x7f3a851da570> JSON: {\n",
      "  \"id\": \"chatcmpl-8hyszigJzi2FmDlBnhNqGKM0ssPD7\",\n",
      "  \"object\": \"chat.completion\",\n",
      "  \"created\": 1705492841,\n",
      "  \"model\": \"gpt-35-turbo\",\n",
      "  \"choices\": [\n",
      "    {\n",
      "      \"finish_reason\": \"stop\",\n",
      "      \"index\": 0,\n",
      "      \"message\": {\n",
      "        \"role\": \"assistant\",\n",
      "        \"content\": \"('CAN', 'MISC'),\\n('U.S. DOLLAR', 'MISC'),\\n('EXCHANGE RATE', 'MISC')\"\n",
      "      }\n",
      "    }\n",
      "  ],\n",
      "  \"usage\": {\n",
      "    \"prompt_tokens\": 136,\n",
      "    \"completion_tokens\": 28,\n",
      "    \"total_tokens\": 164\n",
      "  }\n",
      "})\n",
      "-----------------------------------------------\n",
      "response does not contain [()]. Returned [('CAN', 'MISC'),\n",
      "('U.S. DOLLAR', 'MISC'),\n",
      "('EXCHANGE RATE', 'MISC')\n",
      "-----------------------------------------------\n"
     ]
    },
    {
     "name": "stderr",
     "output_type": "stream",
     "text": [
      " 78%|███████▊  | 78/100 [00:34<00:10,  2.08it/s]"
     ]
    },
    {
     "name": "stdout",
     "output_type": "stream",
     "text": [
      "(\"('Santa Fe', 'ORG'), \\n('Nevada', 'LOC'), \\n('Newmont', 'ORG')]\\n\\n<end_output>\", <OpenAIObject chat.completion id=chatcmpl-8hyt0QxJK1D3qZ5UyqroVg7QCTmvP at 0x7f3a851da570> JSON: {\n",
      "  \"id\": \"chatcmpl-8hyt0QxJK1D3qZ5UyqroVg7QCTmvP\",\n",
      "  \"object\": \"chat.completion\",\n",
      "  \"created\": 1705492842,\n",
      "  \"model\": \"gpt-35-turbo\",\n",
      "  \"choices\": [\n",
      "    {\n",
      "      \"finish_reason\": \"stop\",\n",
      "      \"index\": 0,\n",
      "      \"message\": {\n",
      "        \"role\": \"assistant\",\n",
      "        \"content\": \"('Santa Fe', 'ORG'), \\n('Nevada', 'LOC'), \\n('Newmont', 'ORG')]\\n\\n<end_output>\"\n",
      "      }\n",
      "    }\n",
      "  ],\n",
      "  \"usage\": {\n",
      "    \"prompt_tokens\": 152,\n",
      "    \"completion_tokens\": 29,\n",
      "    \"total_tokens\": 181\n",
      "  }\n",
      "})\n"
     ]
    },
    {
     "name": "stderr",
     "output_type": "stream",
     "text": [
      " 79%|███████▉  | 79/100 [00:34<00:09,  2.29it/s]"
     ]
    },
    {
     "name": "stdout",
     "output_type": "stream",
     "text": [
      "(\"('Zahoor Elahi', 'PERSON'),\\n('Cairns', 'ORGANIZATION') ] <end_output>\", <OpenAIObject chat.completion id=chatcmpl-8hyt0HSxEuXEvwgq47fWTVwDYx34d at 0x7f3a74530040> JSON: {\n",
      "  \"id\": \"chatcmpl-8hyt0HSxEuXEvwgq47fWTVwDYx34d\",\n",
      "  \"object\": \"chat.completion\",\n",
      "  \"created\": 1705492842,\n",
      "  \"model\": \"gpt-35-turbo\",\n",
      "  \"choices\": [\n",
      "    {\n",
      "      \"finish_reason\": \"stop\",\n",
      "      \"index\": 0,\n",
      "      \"message\": {\n",
      "        \"role\": \"assistant\",\n",
      "        \"content\": \"('Zahoor Elahi', 'PERSON'),\\n('Cairns', 'ORGANIZATION') ] <end_output>\"\n",
      "      }\n",
      "    }\n",
      "  ],\n",
      "  \"usage\": {\n",
      "    \"prompt_tokens\": 145,\n",
      "    \"completion_tokens\": 25,\n",
      "    \"total_tokens\": 170\n",
      "  }\n",
      "})\n"
     ]
    },
    {
     "name": "stderr",
     "output_type": "stream",
     "text": [
      " 80%|████████  | 80/100 [00:35<00:08,  2.28it/s]"
     ]
    },
    {
     "name": "stdout",
     "output_type": "stream",
     "text": [
      "(\"('Let', 'O'),\\n('respect', 'O'),\\n('their', 'O'),\\n('territories', 'O'),\\n('he', 'O'),\\n('said', 'O')]\\n\\n<end_output>\", <OpenAIObject chat.completion id=chatcmpl-8hyt1ZXUJlBD4iTeUgDuX03aoJVyB at 0x7f3a7b53e7f0> JSON: {\n",
      "  \"id\": \"chatcmpl-8hyt1ZXUJlBD4iTeUgDuX03aoJVyB\",\n",
      "  \"object\": \"chat.completion\",\n",
      "  \"created\": 1705492843,\n",
      "  \"model\": \"gpt-35-turbo\",\n",
      "  \"choices\": [\n",
      "    {\n",
      "      \"finish_reason\": \"stop\",\n",
      "      \"index\": 0,\n",
      "      \"message\": {\n",
      "        \"role\": \"assistant\",\n",
      "        \"content\": \"('Let', 'O'),\\n('respect', 'O'),\\n('their', 'O'),\\n('territories', 'O'),\\n('he', 'O'),\\n('said', 'O')]\\n\\n<end_output>\"\n",
      "      }\n",
      "    }\n",
      "  ],\n",
      "  \"usage\": {\n",
      "    \"prompt_tokens\": 140,\n",
      "    \"completion_tokens\": 42,\n",
      "    \"total_tokens\": 182\n",
      "  }\n",
      "})\n"
     ]
    },
    {
     "name": "stderr",
     "output_type": "stream",
     "text": [
      " 81%|████████  | 81/100 [00:35<00:08,  2.18it/s]"
     ]
    },
    {
     "name": "stdout",
     "output_type": "stream",
     "text": [
      "(\"('Fife', 'LOCATION'),\\n('Partick', 'ORGANIZATION'),\\n('Stirling', 'LOCATION'),\\n('St Mirren', 'ORGANIZATION'),\\n('Tuesday', 'MISC')]\\n\\n<end_output>\", <OpenAIObject chat.completion id=chatcmpl-8hyt1ThpzbfCJC6zgTXZWMjSgLBRy at 0x7f3a7b53e7f0> JSON: {\n",
      "  \"id\": \"chatcmpl-8hyt1ThpzbfCJC6zgTXZWMjSgLBRy\",\n",
      "  \"object\": \"chat.completion\",\n",
      "  \"created\": 1705492843,\n",
      "  \"model\": \"gpt-35-turbo\",\n",
      "  \"choices\": [\n",
      "    {\n",
      "      \"finish_reason\": \"stop\",\n",
      "      \"index\": 0,\n",
      "      \"message\": {\n",
      "        \"role\": \"assistant\",\n",
      "        \"content\": \"('Fife', 'LOCATION'),\\n('Partick', 'ORGANIZATION'),\\n('Stirling', 'LOCATION'),\\n('St Mirren', 'ORGANIZATION'),\\n('Tuesday', 'MISC')]\\n\\n<end_output>\"\n",
      "      }\n",
      "    }\n",
      "  ],\n",
      "  \"usage\": {\n",
      "    \"prompt_tokens\": 145,\n",
      "    \"completion_tokens\": 45,\n",
      "    \"total_tokens\": 190\n",
      "  }\n",
      "})\n"
     ]
    },
    {
     "name": "stderr",
     "output_type": "stream",
     "text": [
      " 82%|████████▏ | 82/100 [00:36<00:08,  2.06it/s]"
     ]
    },
    {
     "name": "stdout",
     "output_type": "stream",
     "text": [
      "(\"('Winters', 'PERSON'),\\n('Dundee United', 'ORGANIZATION'),\\n('Paolo Di Canio', 'PERSON'),\\n('Celtic', 'ORGANIZATION')]\\n\\n<end_output>\", <OpenAIObject chat.completion id=chatcmpl-8hyt1CpPC2kUeEJYH9Fj8OYXNM9ck at 0x7f3a7b8c4450> JSON: {\n",
      "  \"id\": \"chatcmpl-8hyt1CpPC2kUeEJYH9Fj8OYXNM9ck\",\n",
      "  \"object\": \"chat.completion\",\n",
      "  \"created\": 1705492843,\n",
      "  \"model\": \"gpt-35-turbo\",\n",
      "  \"choices\": [\n",
      "    {\n",
      "      \"finish_reason\": \"stop\",\n",
      "      \"index\": 0,\n",
      "      \"message\": {\n",
      "        \"role\": \"assistant\",\n",
      "        \"content\": \"('Winters', 'PERSON'),\\n('Dundee United', 'ORGANIZATION'),\\n('Paolo Di Canio', 'PERSON'),\\n('Celtic', 'ORGANIZATION')]\\n\\n<end_output>\"\n",
      "      }\n",
      "    }\n",
      "  ],\n",
      "  \"usage\": {\n",
      "    \"prompt_tokens\": 145,\n",
      "    \"completion_tokens\": 43,\n",
      "    \"total_tokens\": 188\n",
      "  }\n",
      "})\n"
     ]
    },
    {
     "name": "stderr",
     "output_type": "stream",
     "text": [
      " 83%|████████▎ | 83/100 [00:36<00:08,  2.06it/s]"
     ]
    },
    {
     "name": "stdout",
     "output_type": "stream",
     "text": [
      "(\"('Blanc', 'PERSON'),\\n('World Cup', 'ORGANIZATION'),\\n('Foucras', 'PERSON'),\\n('World Cup', 'ORGANIZATION')]\\n\\n<end_output>\", <OpenAIObject chat.completion id=chatcmpl-8hyt29aflNksGyrATyrG3yQIbWxxf at 0x7f3a74532430> JSON: {\n",
      "  \"id\": \"chatcmpl-8hyt29aflNksGyrATyrG3yQIbWxxf\",\n",
      "  \"object\": \"chat.completion\",\n",
      "  \"created\": 1705492844,\n",
      "  \"model\": \"gpt-35-turbo\",\n",
      "  \"choices\": [\n",
      "    {\n",
      "      \"finish_reason\": \"stop\",\n",
      "      \"index\": 0,\n",
      "      \"message\": {\n",
      "        \"role\": \"assistant\",\n",
      "        \"content\": \"('Blanc', 'PERSON'),\\n('World Cup', 'ORGANIZATION'),\\n('Foucras', 'PERSON'),\\n('World Cup', 'ORGANIZATION')]\\n\\n<end_output>\"\n",
      "      }\n",
      "    }\n",
      "  ],\n",
      "  \"usage\": {\n",
      "    \"prompt_tokens\": 175,\n",
      "    \"completion_tokens\": 39,\n",
      "    \"total_tokens\": 214\n",
      "  }\n",
      "})\n"
     ]
    },
    {
     "name": "stderr",
     "output_type": "stream",
     "text": [
      " 84%|████████▍ | 84/100 [00:37<00:06,  2.37it/s]"
     ]
    },
    {
     "name": "stdout",
     "output_type": "stream",
     "text": [
      "(\"('Volume', 'O'),\\n('trader', 'O')]\\n\\n<end_output>\", <OpenAIObject chat.completion id=chatcmpl-8hyt2jGkhfZUvLaSWKBB74OcxdZdp at 0x7f3a7b8c4450> JSON: {\n",
      "  \"id\": \"chatcmpl-8hyt2jGkhfZUvLaSWKBB74OcxdZdp\",\n",
      "  \"object\": \"chat.completion\",\n",
      "  \"created\": 1705492844,\n",
      "  \"model\": \"gpt-35-turbo\",\n",
      "  \"choices\": [\n",
      "    {\n",
      "      \"finish_reason\": \"stop\",\n",
      "      \"index\": 0,\n",
      "      \"message\": {\n",
      "        \"role\": \"assistant\",\n",
      "        \"content\": \"('Volume', 'O'),\\n('trader', 'O')]\\n\\n<end_output>\"\n",
      "      }\n",
      "    }\n",
      "  ],\n",
      "  \"usage\": {\n",
      "    \"prompt_tokens\": 140,\n",
      "    \"completion_tokens\": 18,\n",
      "    \"total_tokens\": 158\n",
      "  }\n",
      "})\n"
     ]
    },
    {
     "name": "stderr",
     "output_type": "stream",
     "text": [
      " 85%|████████▌ | 85/100 [00:37<00:06,  2.20it/s]"
     ]
    },
    {
     "name": "stdout",
     "output_type": "stream",
     "text": [
      "('(\"terrorism\", \"MISC\"),\\n(\"my own life\", \"PERSON\"),\\n(\"wife\", \"PERSON\"),\\n(\"children\", \"PERSON\"),\\n(\"TASR\", \"ORG\") ] <end_output>', <OpenAIObject chat.completion id=chatcmpl-8hyt3zJiQQtmQtjMklY5x8QjsOIiN at 0x7f3a7b53e7f0> JSON: {\n",
      "  \"id\": \"chatcmpl-8hyt3zJiQQtmQtjMklY5x8QjsOIiN\",\n",
      "  \"object\": \"chat.completion\",\n",
      "  \"created\": 1705492845,\n",
      "  \"model\": \"gpt-35-turbo\",\n",
      "  \"choices\": [\n",
      "    {\n",
      "      \"finish_reason\": \"stop\",\n",
      "      \"index\": 0,\n",
      "      \"message\": {\n",
      "        \"role\": \"assistant\",\n",
      "        \"content\": \"(\\\"terrorism\\\", \\\"MISC\\\"),\\n(\\\"my own life\\\", \\\"PERSON\\\"),\\n(\\\"wife\\\", \\\"PERSON\\\"),\\n(\\\"children\\\", \\\"PERSON\\\"),\\n(\\\"TASR\\\", \\\"ORG\\\") ] <end_output>\"\n",
      "      }\n",
      "    }\n",
      "  ],\n",
      "  \"usage\": {\n",
      "    \"prompt_tokens\": 163,\n",
      "    \"completion_tokens\": 40,\n",
      "    \"total_tokens\": 203\n",
      "  }\n",
      "})\n"
     ]
    },
    {
     "name": "stderr",
     "output_type": "stream",
     "text": [
      " 86%|████████▌ | 86/100 [00:38<00:06,  2.16it/s]"
     ]
    },
    {
     "name": "stdout",
     "output_type": "stream",
     "text": [
      "(\"('Aaa', 'O'),\\n('Aa', 'O'),\\n('A', 'O'),\\n('Baa', 'O')]\\n\\n<end_output>\", <OpenAIObject chat.completion id=chatcmpl-8hyt3M3ZtfY9WNLBrjgxrDTqMgAQA at 0x7f3a851da570> JSON: {\n",
      "  \"id\": \"chatcmpl-8hyt3M3ZtfY9WNLBrjgxrDTqMgAQA\",\n",
      "  \"object\": \"chat.completion\",\n",
      "  \"created\": 1705492845,\n",
      "  \"model\": \"gpt-35-turbo\",\n",
      "  \"choices\": [\n",
      "    {\n",
      "      \"finish_reason\": \"stop\",\n",
      "      \"index\": 0,\n",
      "      \"message\": {\n",
      "        \"role\": \"assistant\",\n",
      "        \"content\": \"('Aaa', 'O'),\\n('Aa', 'O'),\\n('A', 'O'),\\n('Baa', 'O')]\\n\\n<end_output>\"\n",
      "      }\n",
      "    }\n",
      "  ],\n",
      "  \"usage\": {\n",
      "    \"prompt_tokens\": 136,\n",
      "    \"completion_tokens\": 32,\n",
      "    \"total_tokens\": 168\n",
      "  }\n",
      "})\n"
     ]
    },
    {
     "name": "stderr",
     "output_type": "stream",
     "text": [
      " 87%|████████▋ | 87/100 [00:38<00:06,  2.07it/s]"
     ]
    },
    {
     "name": "stdout",
     "output_type": "stream",
     "text": [
      "(\"('TASR', 'ORG'),\\n('Frantisek Gaulieder', 'PERSON'),\\n('Galanta', 'LOCATION'),\\n('Slovakia', 'LOCATION')\\n] <end_output>\", <OpenAIObject chat.completion id=chatcmpl-8hyt4CnCDlJJvpbdXpf8BSW5jdArK at 0x7f3a7b8c4450> JSON: {\n",
      "  \"id\": \"chatcmpl-8hyt4CnCDlJJvpbdXpf8BSW5jdArK\",\n",
      "  \"object\": \"chat.completion\",\n",
      "  \"created\": 1705492846,\n",
      "  \"model\": \"gpt-35-turbo\",\n",
      "  \"choices\": [\n",
      "    {\n",
      "      \"finish_reason\": \"stop\",\n",
      "      \"index\": 0,\n",
      "      \"message\": {\n",
      "        \"role\": \"assistant\",\n",
      "        \"content\": \"('TASR', 'ORG'),\\n('Frantisek Gaulieder', 'PERSON'),\\n('Galanta', 'LOCATION'),\\n('Slovakia', 'LOCATION')\\n] <end_output>\"\n",
      "      }\n",
      "    }\n",
      "  ],\n",
      "  \"usage\": {\n",
      "    \"prompt_tokens\": 174,\n",
      "    \"completion_tokens\": 39,\n",
      "    \"total_tokens\": 213\n",
      "  }\n",
      "})\n",
      "-----------------------------------------------\n",
      "response does not contain [()]. Returned [('TASR', 'ORG'),\n",
      "('Frantisek Gaulieder', 'PERSON'),\n",
      "('Galanta', 'LOCATION'),\n",
      "('Slovakia', 'LOCATION')\n",
      "] <end_output>\n",
      "-----------------------------------------------\n"
     ]
    },
    {
     "name": "stderr",
     "output_type": "stream",
     "text": [
      " 88%|████████▊ | 88/100 [00:38<00:05,  2.25it/s]"
     ]
    },
    {
     "name": "stdout",
     "output_type": "stream",
     "text": [
      "(\"('larger-than-average', 'MISC'),\\n('payment', 'MISC')]\\n\\n<end_output>\", <OpenAIObject chat.completion id=chatcmpl-8hyt44G3qP4cHnluh3TZpaX2B2IIq at 0x7f3a7b53e7f0> JSON: {\n",
      "  \"id\": \"chatcmpl-8hyt44G3qP4cHnluh3TZpaX2B2IIq\",\n",
      "  \"object\": \"chat.completion\",\n",
      "  \"created\": 1705492846,\n",
      "  \"model\": \"gpt-35-turbo\",\n",
      "  \"choices\": [\n",
      "    {\n",
      "      \"finish_reason\": \"stop\",\n",
      "      \"index\": 0,\n",
      "      \"message\": {\n",
      "        \"role\": \"assistant\",\n",
      "        \"content\": \"('larger-than-average', 'MISC'),\\n('payment', 'MISC')]\\n\\n<end_output>\"\n",
      "      }\n",
      "    }\n",
      "  ],\n",
      "  \"usage\": {\n",
      "    \"prompt_tokens\": 138,\n",
      "    \"completion_tokens\": 22,\n",
      "    \"total_tokens\": 160\n",
      "  }\n",
      "})\n"
     ]
    },
    {
     "name": "stderr",
     "output_type": "stream",
     "text": [
      " 89%|████████▉ | 89/100 [00:39<00:05,  2.02it/s]"
     ]
    },
    {
     "name": "stdout",
     "output_type": "stream",
     "text": [
      "(\"('Standings', 'O'),\\n('tabulate', 'O'),\\n('played', 'O'),\\n('won', 'O'),\\n('drawn', 'O'),\\n('lost', 'O'),\\n('goals', 'O')]\\n\\n<end_output>\", <OpenAIObject chat.completion id=chatcmpl-8hyt5btNFaw5uV11fe2hj3BuUsNWL at 0x7f3a7b8c4450> JSON: {\n",
      "  \"id\": \"chatcmpl-8hyt5btNFaw5uV11fe2hj3BuUsNWL\",\n",
      "  \"object\": \"chat.completion\",\n",
      "  \"created\": 1705492847,\n",
      "  \"model\": \"gpt-35-turbo\",\n",
      "  \"choices\": [\n",
      "    {\n",
      "      \"finish_reason\": \"stop\",\n",
      "      \"index\": 0,\n",
      "      \"message\": {\n",
      "        \"role\": \"assistant\",\n",
      "        \"content\": \"('Standings', 'O'),\\n('tabulate', 'O'),\\n('played', 'O'),\\n('won', 'O'),\\n('drawn', 'O'),\\n('lost', 'O'),\\n('goals', 'O')]\\n\\n<end_output>\"\n",
      "      }\n",
      "    }\n",
      "  ],\n",
      "  \"usage\": {\n",
      "    \"prompt_tokens\": 144,\n",
      "    \"completion_tokens\": 50,\n",
      "    \"total_tokens\": 194\n",
      "  }\n",
      "})\n"
     ]
    },
    {
     "name": "stderr",
     "output_type": "stream",
     "text": [
      " 90%|█████████ | 90/100 [00:40<00:05,  1.93it/s]"
     ]
    },
    {
     "name": "stdout",
     "output_type": "stream",
     "text": [
      "(\"('OPEC', 'ORG'),\\n('Thursday', 'DATE'),\\n('Wednesday', 'DATE'),\\n('OPECNA', 'ORG'),\\n('OPEC', 'ORG')]\\n\\n<end_output>\", <OpenAIObject chat.completion id=chatcmpl-8hyt5aKLJvGzBOHI6GdfaWajNsvd5 at 0x7f3a7b8d2f20> JSON: {\n",
      "  \"id\": \"chatcmpl-8hyt5aKLJvGzBOHI6GdfaWajNsvd5\",\n",
      "  \"object\": \"chat.completion\",\n",
      "  \"created\": 1705492847,\n",
      "  \"model\": \"gpt-35-turbo\",\n",
      "  \"choices\": [\n",
      "    {\n",
      "      \"finish_reason\": \"stop\",\n",
      "      \"index\": 0,\n",
      "      \"message\": {\n",
      "        \"role\": \"assistant\",\n",
      "        \"content\": \"('OPEC', 'ORG'),\\n('Thursday', 'DATE'),\\n('Wednesday', 'DATE'),\\n('OPECNA', 'ORG'),\\n('OPEC', 'ORG')]\\n\\n<end_output>\"\n",
      "      }\n",
      "    }\n",
      "  ],\n",
      "  \"usage\": {\n",
      "    \"prompt_tokens\": 176,\n",
      "    \"completion_tokens\": 39,\n",
      "    \"total_tokens\": 215\n",
      "  }\n",
      "})\n"
     ]
    },
    {
     "name": "stderr",
     "output_type": "stream",
     "text": [
      " 91%|█████████ | 91/100 [00:40<00:04,  2.08it/s]"
     ]
    },
    {
     "name": "stdout",
     "output_type": "stream",
     "text": [
      "(\"('sports', 'MISC'),\\n('statistics', 'MISC'),\\n('stock prices', 'MISC')]\\n\\n<end_output>\", <OpenAIObject chat.completion id=chatcmpl-8hyt6LnwLMZV7dxDybqhFUw3Pi7Tc at 0x7f3a7b53e7f0> JSON: {\n",
      "  \"id\": \"chatcmpl-8hyt6LnwLMZV7dxDybqhFUw3Pi7Tc\",\n",
      "  \"object\": \"chat.completion\",\n",
      "  \"created\": 1705492848,\n",
      "  \"model\": \"gpt-35-turbo\",\n",
      "  \"choices\": [\n",
      "    {\n",
      "      \"finish_reason\": \"stop\",\n",
      "      \"index\": 0,\n",
      "      \"message\": {\n",
      "        \"role\": \"assistant\",\n",
      "        \"content\": \"('sports', 'MISC'),\\n('statistics', 'MISC'),\\n('stock prices', 'MISC')]\\n\\n<end_output>\"\n",
      "      }\n",
      "    }\n",
      "  ],\n",
      "  \"usage\": {\n",
      "    \"prompt_tokens\": 138,\n",
      "    \"completion_tokens\": 27,\n",
      "    \"total_tokens\": 165\n",
      "  }\n",
      "})\n"
     ]
    },
    {
     "name": "stderr",
     "output_type": "stream",
     "text": [
      " 92%|█████████▏| 92/100 [00:41<00:03,  2.01it/s]"
     ]
    },
    {
     "name": "stdout",
     "output_type": "stream",
     "text": [
      "(\"('Alatas', 'PERSON'),\\n('government', 'ORGANIZATION'),\\n('Nobel Peace Prize', 'MISC'),\\n('Belo', 'PERSON')]\\n\\n<end_output>\", <OpenAIObject chat.completion id=chatcmpl-8hyt6eH46tdK6SiK0A5o8iwCl3zGe at 0x7f3a71d709f0> JSON: {\n",
      "  \"id\": \"chatcmpl-8hyt6eH46tdK6SiK0A5o8iwCl3zGe\",\n",
      "  \"object\": \"chat.completion\",\n",
      "  \"created\": 1705492848,\n",
      "  \"model\": \"gpt-35-turbo\",\n",
      "  \"choices\": [\n",
      "    {\n",
      "      \"finish_reason\": \"stop\",\n",
      "      \"index\": 0,\n",
      "      \"message\": {\n",
      "        \"role\": \"assistant\",\n",
      "        \"content\": \"('Alatas', 'PERSON'),\\n('government', 'ORGANIZATION'),\\n('Nobel Peace Prize', 'MISC'),\\n('Belo', 'PERSON')]\\n\\n<end_output>\"\n",
      "      }\n",
      "    }\n",
      "  ],\n",
      "  \"usage\": {\n",
      "    \"prompt_tokens\": 156,\n",
      "    \"completion_tokens\": 37,\n",
      "    \"total_tokens\": 193\n",
      "  }\n",
      "})\n"
     ]
    },
    {
     "name": "stderr",
     "output_type": "stream",
     "text": [
      " 93%|█████████▎| 93/100 [00:42<00:05,  1.30it/s]"
     ]
    },
    {
     "name": "stdout",
     "output_type": "stream",
     "text": [
      "(\"('Tampico', 'LOCATION'),\\n('port', 'LOCATION'),\\n('authorities', 'ORGANIZATION'),\\n('fishing', 'MISC'),\\n('restrictions', 'MISC'),\\n('area', 'LOCATION'),\\n('port', 'LOCATION'),\\n('geophysical', 'MISC'),\\n('study', 'MISC'),\\n('deep waters', 'LOCATION'),\\n('region', 'LOCATION'),\\n('ship Kenda', 'ORGANIZATION')]\\n\\n<end_output>\", <OpenAIObject chat.completion id=chatcmpl-8hyt77gXW4EoubAMx2J37ljkufm8y at 0x7f3a74530040> JSON: {\n",
      "  \"id\": \"chatcmpl-8hyt77gXW4EoubAMx2J37ljkufm8y\",\n",
      "  \"object\": \"chat.completion\",\n",
      "  \"created\": 1705492849,\n",
      "  \"model\": \"gpt-35-turbo\",\n",
      "  \"choices\": [\n",
      "    {\n",
      "      \"finish_reason\": \"stop\",\n",
      "      \"index\": 0,\n",
      "      \"message\": {\n",
      "        \"role\": \"assistant\",\n",
      "        \"content\": \"('Tampico', 'LOCATION'),\\n('port', 'LOCATION'),\\n('authorities', 'ORGANIZATION'),\\n('fishing', 'MISC'),\\n('restrictions', 'MISC'),\\n('area', 'LOCATION'),\\n('port', 'LOCATION'),\\n('geophysical', 'MISC'),\\n('study', 'MISC'),\\n('deep waters', 'LOCATION'),\\n('region', 'LOCATION'),\\n('ship Kenda', 'ORGANIZATION')]\\n\\n<end_output>\"\n",
      "      }\n",
      "    }\n",
      "  ],\n",
      "  \"usage\": {\n",
      "    \"prompt_tokens\": 168,\n",
      "    \"completion_tokens\": 94,\n",
      "    \"total_tokens\": 262\n",
      "  }\n",
      "})\n"
     ]
    },
    {
     "name": "stderr",
     "output_type": "stream",
     "text": [
      " 94%|█████████▍| 94/100 [00:42<00:04,  1.44it/s]"
     ]
    },
    {
     "name": "stdout",
     "output_type": "stream",
     "text": [
      "(\"('Iran', 'LOCATION'),\\n('Sabr', 'MISC'),\\n('19/11/96', 'MISC'),\\n('9,000', 'MISC'),\\n('Iran', 'LOCATION') ] <end_output>\", <OpenAIObject chat.completion id=chatcmpl-8hyt827kxPUhmoeR0azO0fiFlNhpB at 0x7f3a74530040> JSON: {\n",
      "  \"id\": \"chatcmpl-8hyt827kxPUhmoeR0azO0fiFlNhpB\",\n",
      "  \"object\": \"chat.completion\",\n",
      "  \"created\": 1705492850,\n",
      "  \"model\": \"gpt-35-turbo\",\n",
      "  \"choices\": [\n",
      "    {\n",
      "      \"finish_reason\": \"stop\",\n",
      "      \"index\": 0,\n",
      "      \"message\": {\n",
      "        \"role\": \"assistant\",\n",
      "        \"content\": \"('Iran', 'LOCATION'),\\n('Sabr', 'MISC'),\\n('19/11/96', 'MISC'),\\n('9,000', 'MISC'),\\n('Iran', 'LOCATION') ] <end_output>\"\n",
      "      }\n",
      "    }\n",
      "  ],\n",
      "  \"usage\": {\n",
      "    \"prompt_tokens\": 143,\n",
      "    \"completion_tokens\": 45,\n",
      "    \"total_tokens\": 188\n",
      "  }\n",
      "})\n"
     ]
    },
    {
     "name": "stderr",
     "output_type": "stream",
     "text": [
      " 95%|█████████▌| 95/100 [00:43<00:03,  1.50it/s]"
     ]
    },
    {
     "name": "stdout",
     "output_type": "stream",
     "text": [
      "(\"('Pace', 'PERSON'),\\n('Virginia Tech', 'ORGANIZATION'),\\n('Cornell Brown', 'PERSON'),\\n('Arizona State', 'ORGANIZATION'),\\n('Juan Roque', 'PERSON'),\\n('Jared Tomich', 'PERSON'),\\n('Nebraska', 'LOCATION')]\\n\\n<end_output>\", <OpenAIObject chat.completion id=chatcmpl-8hyt9iU3101ZFgF3uTLppHL2fY1LK at 0x7f3a74530040> JSON: {\n",
      "  \"id\": \"chatcmpl-8hyt9iU3101ZFgF3uTLppHL2fY1LK\",\n",
      "  \"object\": \"chat.completion\",\n",
      "  \"created\": 1705492851,\n",
      "  \"model\": \"gpt-35-turbo\",\n",
      "  \"choices\": [\n",
      "    {\n",
      "      \"finish_reason\": \"stop\",\n",
      "      \"index\": 0,\n",
      "      \"message\": {\n",
      "        \"role\": \"assistant\",\n",
      "        \"content\": \"('Pace', 'PERSON'),\\n('Virginia Tech', 'ORGANIZATION'),\\n('Cornell Brown', 'PERSON'),\\n('Arizona State', 'ORGANIZATION'),\\n('Juan Roque', 'PERSON'),\\n('Jared Tomich', 'PERSON'),\\n('Nebraska', 'LOCATION')]\\n\\n<end_output>\"\n",
      "      }\n",
      "    }\n",
      "  ],\n",
      "  \"usage\": {\n",
      "    \"prompt_tokens\": 160,\n",
      "    \"completion_tokens\": 62,\n",
      "    \"total_tokens\": 222\n",
      "  }\n",
      "})\n"
     ]
    },
    {
     "name": "stderr",
     "output_type": "stream",
     "text": [
      " 96%|█████████▌| 96/100 [00:43<00:02,  1.74it/s]"
     ]
    },
    {
     "name": "stdout",
     "output_type": "stream",
     "text": [
      "(\"('Foreign Minister Dariusz Rosati', 'PERSON'),\\n('Poland', 'LOCATION'),\\n('Swiss', 'MISC') ]\", <OpenAIObject chat.completion id=chatcmpl-8hyt9NUtqaQyoERL9aS5YmwTQTwsl at 0x7f3a72c66c50> JSON: {\n",
      "  \"id\": \"chatcmpl-8hyt9NUtqaQyoERL9aS5YmwTQTwsl\",\n",
      "  \"object\": \"chat.completion\",\n",
      "  \"created\": 1705492851,\n",
      "  \"model\": \"gpt-35-turbo\",\n",
      "  \"choices\": [\n",
      "    {\n",
      "      \"finish_reason\": \"stop\",\n",
      "      \"index\": 0,\n",
      "      \"message\": {\n",
      "        \"role\": \"assistant\",\n",
      "        \"content\": \"('Foreign Minister Dariusz Rosati', 'PERSON'),\\n('Poland', 'LOCATION'),\\n('Swiss', 'MISC') ]\"\n",
      "      }\n",
      "    }\n",
      "  ],\n",
      "  \"usage\": {\n",
      "    \"prompt_tokens\": 169,\n",
      "    \"completion_tokens\": 28,\n",
      "    \"total_tokens\": 197\n",
      "  }\n",
      "})\n"
     ]
    },
    {
     "name": "stderr",
     "output_type": "stream",
     "text": [
      " 97%|█████████▋| 97/100 [00:44<00:01,  2.07it/s]"
     ]
    },
    {
     "name": "stdout",
     "output_type": "stream",
     "text": [
      "(\"('Scottish premier division', 'ORG'),\\n('Saturday', 'MISC')\\n]\", <OpenAIObject chat.completion id=chatcmpl-8hytAXyLX2G3z84DxnHZzLm4VLtRO at 0x7f3a851da570> JSON: {\n",
      "  \"id\": \"chatcmpl-8hytAXyLX2G3z84DxnHZzLm4VLtRO\",\n",
      "  \"object\": \"chat.completion\",\n",
      "  \"created\": 1705492852,\n",
      "  \"model\": \"gpt-35-turbo\",\n",
      "  \"choices\": [\n",
      "    {\n",
      "      \"finish_reason\": \"stop\",\n",
      "      \"index\": 0,\n",
      "      \"message\": {\n",
      "        \"role\": \"assistant\",\n",
      "        \"content\": \"('Scottish premier division', 'ORG'),\\n('Saturday', 'MISC')\\n]\"\n",
      "      }\n",
      "    }\n",
      "  ],\n",
      "  \"usage\": {\n",
      "    \"prompt_tokens\": 135,\n",
      "    \"completion_tokens\": 17,\n",
      "    \"total_tokens\": 152\n",
      "  }\n",
      "})\n",
      "-----------------------------------------------\n",
      "response does not contain [()]. Returned [('Scottish premier division', 'ORG'),\n",
      "('Saturday', 'MISC')\n",
      "]\n",
      "-----------------------------------------------\n"
     ]
    },
    {
     "name": "stderr",
     "output_type": "stream",
     "text": [
      " 98%|█████████▊| 98/100 [00:44<00:00,  2.39it/s]"
     ]
    },
    {
     "name": "stdout",
     "output_type": "stream",
     "text": [
      "(\"('Shops', 'O'),\\n('businesses', 'O'),\\n('this week', 'O') ]\", <OpenAIObject chat.completion id=chatcmpl-8hytAewKZV34NUtiDb529CySoWIMg at 0x7f3a7b8c4450> JSON: {\n",
      "  \"id\": \"chatcmpl-8hytAewKZV34NUtiDb529CySoWIMg\",\n",
      "  \"object\": \"chat.completion\",\n",
      "  \"created\": 1705492852,\n",
      "  \"model\": \"gpt-35-turbo\",\n",
      "  \"choices\": [\n",
      "    {\n",
      "      \"finish_reason\": \"stop\",\n",
      "      \"index\": 0,\n",
      "      \"message\": {\n",
      "        \"role\": \"assistant\",\n",
      "        \"content\": \"('Shops', 'O'),\\n('businesses', 'O'),\\n('this week', 'O') ]\"\n",
      "      }\n",
      "    }\n",
      "  ],\n",
      "  \"usage\": {\n",
      "    \"prompt_tokens\": 138,\n",
      "    \"completion_tokens\": 22,\n",
      "    \"total_tokens\": 160\n",
      "  }\n",
      "})\n"
     ]
    },
    {
     "name": "stderr",
     "output_type": "stream",
     "text": [
      " 99%|█████████▉| 99/100 [00:45<00:00,  2.22it/s]"
     ]
    },
    {
     "name": "stdout",
     "output_type": "stream",
     "text": [
      "(\"('Parent', 'ORG'),\\n('FORECAST', 'MISC'),\\n('YEAR-AGO', 'MISC')\\n] <end_output>\", <OpenAIObject chat.completion id=chatcmpl-8hytAPi5ynclOQFiiHtPSlVRnjc3k at 0x7f3a7b8c4450> JSON: {\n",
      "  \"id\": \"chatcmpl-8hytAPi5ynclOQFiiHtPSlVRnjc3k\",\n",
      "  \"object\": \"chat.completion\",\n",
      "  \"created\": 1705492852,\n",
      "  \"model\": \"gpt-35-turbo\",\n",
      "  \"choices\": [\n",
      "    {\n",
      "      \"finish_reason\": \"stop\",\n",
      "      \"index\": 0,\n",
      "      \"message\": {\n",
      "        \"role\": \"assistant\",\n",
      "        \"content\": \"('Parent', 'ORG'),\\n('FORECAST', 'MISC'),\\n('YEAR-AGO', 'MISC')\\n] <end_output>\"\n",
      "      }\n",
      "    }\n",
      "  ],\n",
      "  \"usage\": {\n",
      "    \"prompt_tokens\": 137,\n",
      "    \"completion_tokens\": 28,\n",
      "    \"total_tokens\": 165\n",
      "  }\n",
      "})\n",
      "-----------------------------------------------\n",
      "response does not contain [()]. Returned [('Parent', 'ORG'),\n",
      "('FORECAST', 'MISC'),\n",
      "('YEAR-AGO', 'MISC')\n",
      "] <end_output>\n",
      "-----------------------------------------------\n"
     ]
    },
    {
     "name": "stderr",
     "output_type": "stream",
     "text": [
      "100%|██████████| 100/100 [00:45<00:00,  2.20it/s]"
     ]
    },
    {
     "name": "stdout",
     "output_type": "stream",
     "text": [
      "('(\"experts group\", \"ORG\"),\\n(\"official languages\", \"MISC\"),\\n(\"next week\\'s agenda\", \"MISC\"),\\n(\"official\", \"PERSON\")\\n] <end_output>', <OpenAIObject chat.completion id=chatcmpl-8hytBIfewuA0rcEsOp5k0FwvvWzUL at 0x7f3a71d710d0> JSON: {\n",
      "  \"id\": \"chatcmpl-8hytBIfewuA0rcEsOp5k0FwvvWzUL\",\n",
      "  \"object\": \"chat.completion\",\n",
      "  \"created\": 1705492853,\n",
      "  \"model\": \"gpt-35-turbo\",\n",
      "  \"choices\": [\n",
      "    {\n",
      "      \"finish_reason\": \"stop\",\n",
      "      \"index\": 0,\n",
      "      \"message\": {\n",
      "        \"role\": \"assistant\",\n",
      "        \"content\": \"(\\\"experts group\\\", \\\"ORG\\\"),\\n(\\\"official languages\\\", \\\"MISC\\\"),\\n(\\\"next week's agenda\\\", \\\"MISC\\\"),\\n(\\\"official\\\", \\\"PERSON\\\")\\n] <end_output>\"\n",
      "      }\n",
      "    }\n",
      "  ],\n",
      "  \"usage\": {\n",
      "    \"prompt_tokens\": 169,\n",
      "    \"completion_tokens\": 37,\n",
      "    \"total_tokens\": 206\n",
      "  }\n",
      "})\n",
      "-----------------------------------------------\n",
      "response does not contain [()]. Returned [(\"experts group\", \"ORG\"),\n",
      "(\"official languages\", \"MISC\"),\n",
      "(\"next week's agenda\", \"MISC\"),\n",
      "(\"official\", \"PERSON\")\n",
      "] <end_output>\n",
      "-----------------------------------------------\n"
     ]
    },
    {
     "name": "stderr",
     "output_type": "stream",
     "text": [
      "\n",
      "/myhome/miniconda3/lib/python3.10/site-packages/numpy/core/_methods.py:206: RuntimeWarning: Degrees of freedom <= 0 for slice\n",
      "  ret = _var(a, axis=axis, dtype=dtype, out=out, ddof=ddof,\n",
      "/myhome/miniconda3/lib/python3.10/site-packages/numpy/core/_methods.py:198: RuntimeWarning: invalid value encountered in scalar divide\n",
      "  ret = ret.dtype.type(ret / rcount)\n"
     ]
    },
    {
     "data": {
      "text/html": [
       "<div>\n",
       "<style scoped>\n",
       "    .dataframe tbody tr th:only-of-type {\n",
       "        vertical-align: middle;\n",
       "    }\n",
       "\n",
       "    .dataframe tbody tr th {\n",
       "        vertical-align: top;\n",
       "    }\n",
       "\n",
       "    .dataframe thead th {\n",
       "        text-align: right;\n",
       "    }\n",
       "</style>\n",
       "<table border=\"1\" class=\"dataframe\">\n",
       "  <thead>\n",
       "    <tr style=\"text-align: right;\">\n",
       "      <th></th>\n",
       "      <th>f1_mean</th>\n",
       "      <th>f1_conf_inter</th>\n",
       "      <th>model</th>\n",
       "      <th>noshots</th>\n",
       "      <th>prompt_technique</th>\n",
       "      <th>few_shot_tecnique</th>\n",
       "      <th>nb_few_shots</th>\n",
       "      <th>precision</th>\n",
       "      <th>plus_plus</th>\n",
       "      <th>verifier</th>\n",
       "      <th>len_data_train</th>\n",
       "      <th>len_data_test</th>\n",
       "      <th>nb_test_run</th>\n",
       "      <th>confidence_interval</th>\n",
       "      <th>distribution_used</th>\n",
       "      <th>precision_mean</th>\n",
       "      <th>precision_conf_inter</th>\n",
       "      <th>recall_mean</th>\n",
       "      <th>recall_conf_inter</th>\n",
       "    </tr>\n",
       "  </thead>\n",
       "  <tbody>\n",
       "    <tr>\n",
       "      <th>0</th>\n",
       "      <td>0.081</td>\n",
       "      <td>(nan, nan)</td>\n",
       "      <td>chat-gpt-3.5</td>\n",
       "      <td>False</td>\n",
       "      <td>discussion</td>\n",
       "      <td>no-shots</td>\n",
       "      <td>0</td>\n",
       "      <td>False</td>\n",
       "      <td>True</td>\n",
       "      <td>None</td>\n",
       "      <td>1488</td>\n",
       "      <td>100</td>\n",
       "      <td>1</td>\n",
       "      <td>0.95</td>\n",
       "      <td>Student</td>\n",
       "      <td>0.422</td>\n",
       "      <td>(nan, nan)</td>\n",
       "      <td>0.062</td>\n",
       "      <td>(nan, nan)</td>\n",
       "    </tr>\n",
       "  </tbody>\n",
       "</table>\n",
       "</div>"
      ],
      "text/plain": [
       "   f1_mean f1_conf_inter         model  noshots prompt_technique  \\\n",
       "0    0.081    (nan, nan)  chat-gpt-3.5    False       discussion   \n",
       "\n",
       "  few_shot_tecnique  nb_few_shots  precision  plus_plus verifier  \\\n",
       "0          no-shots             0      False       True     None   \n",
       "\n",
       "   len_data_train  len_data_test  nb_test_run  confidence_interval  \\\n",
       "0            1488            100            1                 0.95   \n",
       "\n",
       "  distribution_used  precision_mean precision_conf_inter  recall_mean  \\\n",
       "0           Student           0.422           (nan, nan)        0.062   \n",
       "\n",
       "  recall_conf_inter  \n",
       "0        (nan, nan)  "
      ]
     },
     "execution_count": 10,
     "metadata": {},
     "output_type": "execute_result"
    }
   ],
   "source": [
    "# model = MistralAI()\n",
    "plus_plus = True\n",
    "pts = [\n",
    "       # PT_GPT_NER, \n",
    "       PT_OutputList, \n",
    "    #    PT_Wrapper, \n",
    "       # PT_2Time_Tagger,\n",
    "       # PT_Filing\n",
    "       ]\n",
    "results, results_df = model.classical_test(pts = pts, fsts = [FST_Sentence], nb_few_shots=[3,10], nb_run_by_test=1, plus_plus= plus_plus)\n",
    "print(results_df)\n",
    "results, results_df = model.classical_test(pts = pts, fsts = [FST_NoShots], nb_few_shots=[0] ,nb_run_by_test=1, plus_plus= plus_plus)\n",
    "results_df"
   ]
  },
  {
   "cell_type": "code",
   "execution_count": null,
   "metadata": {},
   "outputs": [],
   "source": []
  }
 ],
 "metadata": {
  "kernelspec": {
   "display_name": "Python 3",
   "language": "python",
   "name": "python3"
  },
  "language_info": {
   "codemirror_mode": {
    "name": "ipython",
    "version": 3
   },
   "file_extension": ".py",
   "mimetype": "text/x-python",
   "name": "python",
   "nbconvert_exporter": "python",
   "pygments_lexer": "ipython3",
   "version": "3.10.6"
  }
 },
 "nbformat": 4,
 "nbformat_minor": 2
}
